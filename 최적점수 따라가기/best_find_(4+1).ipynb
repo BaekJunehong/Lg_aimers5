{
 "cells": [
  {
   "cell_type": "markdown",
   "id": "017e9265",
   "metadata": {},
   "source": [
    "# 제품 이상여부 판별 프로젝트\n"
   ]
  },
  {
   "cell_type": "markdown",
   "id": "acdab431",
   "metadata": {},
   "source": [
    "## hard voting (csv 파일 이용)"
   ]
  },
  {
   "cell_type": "code",
   "execution_count": 1,
   "id": "59fa5e09",
   "metadata": {},
   "outputs": [
    {
     "name": "stdout",
     "output_type": "stream",
     "text": [
      "최고의 조합: ['data0825_lgbm.csv', 'data0825_lgbm.csv', 'data0825_lgbm.csv', 'data0825_lgbm.csv', 'data0825_xgb.csv', 'data0825_xgb.csv', 'data0825_cat.csv', 'data0825_cat.csv', 'data0825_cat.csv', 'data0825_rf.csv', 'data0825_rf.csv', 'data0825_et.csv']\n",
      "'1'이 1개만 있는 경우의 개수: 150\n"
     ]
    }
   ],
   "source": [
    "import pandas as pd\n",
    "import numpy as np\n",
    "import itertools\n",
    "\n",
    "# 파일 이름 리스트\n",
    "file_names = [\n",
    "    \"data0825_lgbm.csv\",\n",
    "    \"data0825_xgb.csv\",\n",
    "    \"data0825_cat.csv\",\n",
    "    \"data0825_rf.csv\",\n",
    "    \"data0825_et.csv\",\n",
    "    \"data0825_ada.csv\"\n",
    "]\n",
    "\n",
    "# 파일을 반복할 최대 횟수\n",
    "max_repeats = 5\n",
    "\n",
    "# 조합 생성 및 평가\n",
    "def generate_combinations(file_names, max_repeats):\n",
    "    combinations = []\n",
    "    for l in range(max_repeats + 1):\n",
    "        for x in range(max_repeats + 1):\n",
    "            for c in range(max_repeats + 1):\n",
    "                for rf in range(max_repeats + 1):\n",
    "                    for et in range(max_repeats + 1):\n",
    "                        for ada in range(max_repeats + 1):\n",
    "                            current_combination = (\n",
    "                                [\"data0825_lgbm.csv\"] * l +\n",
    "                                [\"data0825_xgb.csv\"] * x +\n",
    "                                [\"data0825_cat.csv\"] * c +\n",
    "                                [\"data0825_rf.csv\"] * rf +\n",
    "                                [\"data0825_et.csv\"] * et +\n",
    "                                [\"data0825_ada.csv\"] * ada\n",
    "                            )\n",
    "                            if current_combination:  # 빈 조합은 제외\n",
    "                                combinations.append(current_combination)\n",
    "    return combinations\n",
    "\n",
    "def read_submission_files(file_paths):\n",
    "    predictions = []\n",
    "    for file_path in file_paths:\n",
    "        df = pd.read_csv(file_path)\n",
    "        preds = df['target'].apply(lambda x: 1 if x == 'AbNormal' else 0).values\n",
    "        predictions.append(preds)\n",
    "    return predictions\n",
    "\n",
    "def hard_voting(preds):\n",
    "    preds = np.array(preds)\n",
    "    final_predictions = np.apply_along_axis(lambda x: np.bincount(x).argmax(), axis=0, arr=preds)\n",
    "    return final_predictions\n",
    "\n",
    "def count_single_one_cases(predictions_a, predictions_b):\n",
    "    count = 0\n",
    "    for a, b in zip(predictions_a, predictions_b):\n",
    "        if (a == 1 and b == 0) or (a == 0 and b == 1):\n",
    "            count += 1\n",
    "    return count\n",
    "\n",
    "def evaluate_combination(combination, good_score_predictions):\n",
    "    file_paths = combination  # 조합된 파일 경로\n",
    "    predictions = read_submission_files(file_paths)\n",
    "    final_predictions = hard_voting(predictions)\n",
    "    single_one_count = count_single_one_cases(final_predictions, good_score_predictions)\n",
    "    return single_one_count\n",
    "\n",
    "# good_score.csv 파일 읽기\n",
    "good_score_df = pd.read_csv(\"good_score.csv\")\n",
    "good_score_predictions = good_score_df['target'].apply(lambda x: 1 if x == 'AbNormal' else 0).values\n",
    "\n",
    "# 조합 생성\n",
    "all_combinations = generate_combinations(file_names, max_repeats)\n",
    "\n",
    "# 최고의 조합 찾기\n",
    "best_combination = None\n",
    "best_single_one_count = float('inf')  # 최저 카운트 초기화\n",
    "\n",
    "for combination in all_combinations:\n",
    "    single_one_count = evaluate_combination(combination, good_score_predictions)\n",
    "    \n",
    "    # '1'이 1개만 있는 경우의 개수가 최소인 조합 찾기\n",
    "    if single_one_count < best_single_one_count:\n",
    "        best_single_one_count = single_one_count\n",
    "        best_combination = combination\n",
    "\n",
    "print(\"최고의 조합:\", best_combination)\n",
    "print(\"'1'이 1개만 있는 경우의 개수:\", best_single_one_count)\n",
    "\n",
    "# 224m 35.7s"
   ]
  }
 ],
 "metadata": {
  "kernelspec": {
   "display_name": "Python 3 (ipykernel)",
   "language": "python",
   "name": "python3"
  },
  "language_info": {
   "codemirror_mode": {
    "name": "ipython",
    "version": 3
   },
   "file_extension": ".py",
   "mimetype": "text/x-python",
   "name": "python",
   "nbconvert_exporter": "python",
   "pygments_lexer": "ipython3",
   "version": "3.7.8"
  }
 },
 "nbformat": 4,
 "nbformat_minor": 5
}

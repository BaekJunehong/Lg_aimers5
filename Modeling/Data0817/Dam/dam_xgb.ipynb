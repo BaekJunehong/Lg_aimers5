{
 "cells": [
  {
   "cell_type": "markdown",
   "id": "017e9265",
   "metadata": {},
   "source": [
    "# 제품 이상여부 판별 프로젝트\n"
   ]
  },
  {
   "cell_type": "markdown",
   "id": "4d054e30",
   "metadata": {},
   "source": [
    "### 데이터 읽어오기\n"
   ]
  },
  {
   "cell_type": "code",
   "execution_count": 12,
   "id": "fc0b4d80",
   "metadata": {},
   "outputs": [],
   "source": [
    "import pandas as pd\n",
    "\n",
    "THRESHOLD = 0.3\n",
    "RANDOM_STATE = 110\n",
    "\n",
    "train_data = pd.read_csv(\"../../../data/train_data_0817.csv\")\n",
    "test_data = pd.read_csv(\"../../../data/test_data_0817.csv\")"
   ]
  },
  {
   "cell_type": "code",
   "execution_count": 13,
   "id": "cbc27653",
   "metadata": {},
   "outputs": [
    {
     "name": "stdout",
     "output_type": "stream",
     "text": [
      "<class 'pandas.core.frame.DataFrame'>\n",
      "RangeIndex: 40506 entries, 0 to 40505\n",
      "Data columns (total 38 columns):\n",
      " #   Column                                          Non-Null Count  Dtype  \n",
      "---  ------                                          --------------  -----  \n",
      " 0   CURE SPEED Collect Result_Dam                   40506 non-null  int64  \n",
      " 1   DISCHARGED SPEED OF RESIN Collect Result_Dam    40506 non-null  int64  \n",
      " 2   Head Clean Position Z Collect Result_Dam        40506 non-null  float64\n",
      " 3   Head Purge Position Z Collect Result_Dam        40506 non-null  float64\n",
      " 4   Head Zero Position Y Collect Result_Dam         40506 non-null  float64\n",
      " 5   Stage2_Circle_Distance_Speed_Dam                40506 non-null  int64  \n",
      " 6   WorkMode Collect Result                         40506 non-null  float64\n",
      " 7   Chamber Temp. Collect Result_AutoClave          40506 non-null  int64  \n",
      " 8   DISCHARGED SPEED OF RESIN Collect Result_Fill1  40506 non-null  float64\n",
      " 9   Head Purge Position Z Collect Result_Fill1      40506 non-null  int64  \n",
      " 10  CURE SPEED Collect Result_Fill2                 40506 non-null  int64  \n",
      " 11  Head Purge Position Z Collect Result_Fill2      40506 non-null  float64\n",
      " 12  target                                          40506 non-null  object \n",
      " 13  Equipment_same_num                              40506 non-null  int64  \n",
      " 14  Production_Qty_Collect_Result                   40506 non-null  int64  \n",
      " 15  CURE_DISTANCE_Dam                               40506 non-null  float64\n",
      " 16  HEAD NORMAL DISTANCE_STAGE1_STAGE3_Dam          40506 non-null  float64\n",
      " 17  HEAD NORMAL DISTANCE_TRIANGLE_height_Dam        40506 non-null  float64\n",
      " 18  HEAD NORMAL DISTANCE_STAGE1_STAGE3_Fill1        40506 non-null  float64\n",
      " 19  HEAD NORMAL DISTANCE_TRIANGLE_height_Fill1      40506 non-null  float64\n",
      " 20  HEAD NORMAL DISTANCE_STAGE1_STAGE2_Fill2        40506 non-null  float64\n",
      " 21  volume_time_multip_avg_Dam                      40506 non-null  float64\n",
      " 22  volume_time_multip_avg_Fill1                    40506 non-null  float64\n",
      " 23  average_thickness_Dam                           40506 non-null  float64\n",
      " 24  1st_pressure_time_AutoClave                     40506 non-null  float64\n",
      " 25  2nd_pressure_time_AutoClave                     40506 non-null  float64\n",
      " 26  3rd_pressure_time_AutoClave                     40506 non-null  float64\n",
      " 27  time_ratio_Dam                                  40506 non-null  float64\n",
      " 28  time_ratio_Fill1                                40506 non-null  float64\n",
      " 29  time_ratio_Fill2                                40506 non-null  float64\n",
      " 30  time_ratio_AutoClave                            40506 non-null  float64\n",
      " 31  model_receip_encoded                            40506 non-null  float64\n",
      " 32  workorder_receip_encoded                        40506 non-null  float64\n",
      " 33  PalletID_Collect_Result_encoded                 40506 non-null  float64\n",
      " 34  cure_end_position_XZ_Fill2_encoded              40506 non-null  float64\n",
      " 35  cure_start_position_XZ_Fill2_encoded            40506 non-null  float64\n",
      " 36  stage1_line13_distance_speed_Dam_encoded        40506 non-null  float64\n",
      " 37  stage2_line24_distance_speed_Dam_encoded        40506 non-null  float64\n",
      "dtypes: float64(29), int64(8), object(1)\n",
      "memory usage: 11.7+ MB\n"
     ]
    }
   ],
   "source": [
    "train_data.info(verbose=True)"
   ]
  },
  {
   "cell_type": "code",
   "execution_count": 14,
   "id": "84efc2b4",
   "metadata": {},
   "outputs": [],
   "source": [
    "# dam, fill1, fill2 공통 변수\n",
    "var_dam_fill = [\n",
    "    'Equipment_same_num',\n",
    "    'PalletID_Collect_Result_encoded',\n",
    "    'Production_Qty_Collect_Result',\n",
    "    'WorkMode Collect Result'\n",
    "]"
   ]
  },
  {
   "cell_type": "code",
   "execution_count": 15,
   "id": "1e1052e4",
   "metadata": {},
   "outputs": [],
   "source": [
    "# 전체 공통 변수\n",
    "### correlation 확인을 위한 변수 리스트\n",
    "var_all_corr = [\n",
    "    'model_receip_encoded',\n",
    "    'workorder_receip_encoded'\n",
    "]\n",
    "\n",
    "### train\n",
    "var_all_train = [\n",
    "    'target',\n",
    "    'model_receip_encoded',\n",
    "    'workorder_receip_encoded'\n",
    "]\n",
    "\n",
    "### test\n",
    "var_all_test = [\n",
    "    'Set ID',\n",
    "    'target',\n",
    "    'model_receip_encoded',\n",
    "    'workorder_receip_encoded'\n",
    "]"
   ]
  },
  {
   "cell_type": "code",
   "execution_count": 16,
   "id": "ace30879",
   "metadata": {},
   "outputs": [],
   "source": [
    "# '_Dam'을 포함하는 변수 선택\n",
    "dam_variables = [var for var in train_data.columns if '_Dam' in var]\n",
    "\n",
    "# train\n",
    "final_columns_train = var_dam_fill + var_all_train + dam_variables\n",
    "train_data_dam = train_data[final_columns_train]\n",
    "\n",
    "# test \n",
    "final_columns_test = var_dam_fill + var_all_test + dam_variables\n",
    "test_data_dam = test_data[final_columns_test]"
   ]
  },
  {
   "cell_type": "code",
   "execution_count": 17,
   "id": "d1047117",
   "metadata": {},
   "outputs": [],
   "source": [
    "# '_Fill1'을 포함하는 변수 선택\n",
    "fill1_variables = [var for var in train_data.columns if '_Fill1' in var]\n",
    "\n",
    "# train\n",
    "final_columns_train = var_dam_fill + var_all_train + fill1_variables\n",
    "train_data_fill1 = train_data[final_columns_train]\n",
    "\n",
    "# test \n",
    "final_columns_test = var_dam_fill + var_all_test + fill1_variables\n",
    "test_data_fill1 = test_data[final_columns_test]"
   ]
  },
  {
   "cell_type": "code",
   "execution_count": 18,
   "id": "ece0d516",
   "metadata": {},
   "outputs": [],
   "source": [
    "# '_Fill2'을 포함하는 변수 선택\n",
    "fill2_variables = [var for var in train_data.columns if '_Fill2' in var]\n",
    "\n",
    "# train\n",
    "final_columns_train = var_dam_fill + var_all_train + fill2_variables\n",
    "train_data_fill2 = train_data[final_columns_train]\n",
    "\n",
    "# test \n",
    "final_columns_test = var_dam_fill + var_all_test + fill2_variables\n",
    "test_data_fill2 = test_data[final_columns_test]"
   ]
  },
  {
   "cell_type": "code",
   "execution_count": 19,
   "id": "15dc5cad",
   "metadata": {},
   "outputs": [],
   "source": [
    "# '_AutoClave'을 포함하는 변수 선택\n",
    "autoclave_variables = [var for var in train_data.columns if '_AutoClave' in var]\n",
    "\n",
    "# train\n",
    "final_columns_train = var_all_train + autoclave_variables\n",
    "train_data_autoclave = train_data[final_columns_train]\n",
    "\n",
    "# test \n",
    "final_columns_test = var_all_test + autoclave_variables\n",
    "test_data_autoclave = test_data[final_columns_test]"
   ]
  },
  {
   "cell_type": "code",
   "execution_count": 20,
   "id": "521600f8",
   "metadata": {},
   "outputs": [
    {
     "name": "stdout",
     "output_type": "stream",
     "text": [
      "----train data-----\n",
      "train_data DataFrame의 칼럼 수: 38\n",
      "train_data_dam DataFrame의 칼럼 수: 21\n",
      "train_data_autoclave DataFrame의 칼럼 수: 8\n",
      "train_data_fill1 DataFrame의 칼럼 수: 13\n",
      "train_data_fill2 DataFrame의 칼럼 수: 13\n",
      "----test data-----\n",
      "test_data DataFrame의 칼럼 수: 39\n",
      "test_data_dam DataFrame의 칼럼 수: 22\n",
      "test_data_autoclave DataFrame의 칼럼 수: 9\n",
      "test_data_fill1 DataFrame의 칼럼 수: 14\n",
      "test_data_fill2 DataFrame의 칼럼 수: 14\n"
     ]
    }
   ],
   "source": [
    "# 각 DataFrame의 칼럼 수 계산\n",
    "num_columns_train_data = train_data.shape[1]\n",
    "num_columns_train_data_dam = train_data_dam.shape[1]\n",
    "num_columns_train_data_autoclave = train_data_autoclave.shape[1]\n",
    "num_columns_train_data_fill1 = train_data_fill1.shape[1]\n",
    "num_columns_train_data_fill2 = train_data_fill2.shape[1]\n",
    "\n",
    "num_columns_test_data = test_data.shape[1]\n",
    "num_columns_test_data_dam = test_data_dam.shape[1]\n",
    "num_columns_test_data_autoclave = test_data_autoclave.shape[1]\n",
    "num_columns_test_data_fill1 = test_data_fill1.shape[1]\n",
    "num_columns_test_data_fill2 = test_data_fill2.shape[1]\n",
    "\n",
    "# 각 DataFrame의 칼럼 수 출력\n",
    "print(\"----train data-----\")\n",
    "print(f\"train_data DataFrame의 칼럼 수: {num_columns_train_data}\")\n",
    "print(f\"train_data_dam DataFrame의 칼럼 수: {num_columns_train_data_dam}\")\n",
    "print(f\"train_data_autoclave DataFrame의 칼럼 수: {num_columns_train_data_autoclave}\")\n",
    "print(f\"train_data_fill1 DataFrame의 칼럼 수: {num_columns_train_data_fill1}\")\n",
    "print(f\"train_data_fill2 DataFrame의 칼럼 수: {num_columns_train_data_fill2}\")\n",
    "print(\"----test data-----\")\n",
    "print(f\"test_data DataFrame의 칼럼 수: {num_columns_test_data}\")\n",
    "print(f\"test_data_dam DataFrame의 칼럼 수: {num_columns_test_data_dam}\")\n",
    "print(f\"test_data_autoclave DataFrame의 칼럼 수: {num_columns_test_data_autoclave}\")\n",
    "print(f\"test_data_fill1 DataFrame의 칼럼 수: {num_columns_test_data_fill1}\")\n",
    "print(f\"test_data_fill2 DataFrame의 칼럼 수: {num_columns_test_data_fill2}\")"
   ]
  },
  {
   "cell_type": "markdown",
   "id": "ec45a10a",
   "metadata": {},
   "source": [
    "---"
   ]
  },
  {
   "cell_type": "markdown",
   "id": "5c4e5b59",
   "metadata": {},
   "source": [
    "## Optuna"
   ]
  },
  {
   "cell_type": "markdown",
   "id": "058f4f86",
   "metadata": {},
   "source": [
    "스레스홀드 0.3으로 맞춘상태에서 튜닝 진행한 것"
   ]
  },
  {
   "cell_type": "code",
   "execution_count": 21,
   "id": "8ec04f21",
   "metadata": {},
   "outputs": [
    {
     "name": "stderr",
     "output_type": "stream",
     "text": [
      "C:\\Users\\juneh\\AppData\\Roaming\\Python\\Python37\\site-packages\\ipykernel_launcher.py:7: SettingWithCopyWarning: \n",
      "A value is trying to be set on a copy of a slice from a DataFrame.\n",
      "Try using .loc[row_indexer,col_indexer] = value instead\n",
      "\n",
      "See the caveats in the documentation: https://pandas.pydata.org/pandas-docs/stable/user_guide/indexing.html#returning-a-view-versus-a-copy\n",
      "  import sys\n",
      "[I 2024-08-18 23:00:17,757] A new study created in memory with name: no-name-9e1d9408-b245-4e7c-9245-dc5a33c9ccae\n",
      "[I 2024-08-18 23:00:25,505] Trial 0 finished with value: 0.20103092783505155 and parameters: {'n_estimators': 1432, 'learning_rate': 0.13237416558573836, 'max_depth': 6, 'alpha': 0.000689203929104206, 'gamma': 0.0010926263191103419, 'reg_alpha': 0.685638497930364, 'reg_lambda': 0.9554598960277283, 'colsample_bytree': 0.640850709997791, 'subsample': 0.5275552995141115}. Best is trial 0 with value: 0.20103092783505155.\n",
      "[I 2024-08-18 23:00:30,130] Trial 1 finished with value: 0.17054263565891475 and parameters: {'n_estimators': 1372, 'learning_rate': 0.07871875379920583, 'max_depth': 5, 'alpha': 2.548022211197752e-05, 'gamma': 1.072301106630242e-05, 'reg_alpha': 0.4187035625556566, 'reg_lambda': 0.49766499027406275, 'colsample_bytree': 0.03118360025718489, 'subsample': 0.5727247674489561}. Best is trial 0 with value: 0.20103092783505155.\n",
      "[I 2024-08-18 23:00:34,579] Trial 2 finished with value: 0.17636022514071292 and parameters: {'n_estimators': 1355, 'learning_rate': 0.08271793919050614, 'max_depth': 5, 'alpha': 0.002049521460187727, 'gamma': 0.0006354177452399039, 'reg_alpha': 0.42318458794414654, 'reg_lambda': 0.3417326273064934, 'colsample_bytree': 0.0347939962097682, 'subsample': 0.11683767075826144}. Best is trial 0 with value: 0.20103092783505155.\n",
      "[I 2024-08-18 23:00:47,642] Trial 3 finished with value: 0.19865319865319866 and parameters: {'n_estimators': 2909, 'learning_rate': 0.09924002324966621, 'max_depth': 4, 'alpha': 0.0019222894547396825, 'gamma': 0.0004175408164509622, 'reg_alpha': 0.3917592676400414, 'reg_lambda': 0.6476333477413101, 'colsample_bytree': 0.17995212596314855, 'subsample': 0.7179100693580218}. Best is trial 0 with value: 0.20103092783505155.\n",
      "[I 2024-08-18 23:00:56,014] Trial 4 finished with value: 0.20062695924764892 and parameters: {'n_estimators': 1280, 'learning_rate': 0.12078520053988104, 'max_depth': 4, 'alpha': 5.5823788006956254e-05, 'gamma': 0.00015751670164298515, 'reg_alpha': 0.7167217328299487, 'reg_lambda': 0.7945176670763587, 'colsample_bytree': 0.8959229338857824, 'subsample': 0.24393306634093853}. Best is trial 0 with value: 0.20103092783505155.\n",
      "[I 2024-08-18 23:01:05,245] Trial 5 finished with value: 0.20890937019969277 and parameters: {'n_estimators': 1225, 'learning_rate': 0.15264252444009727, 'max_depth': 4, 'alpha': 0.0024025050784289045, 'gamma': 0.007116354894561063, 'reg_alpha': 0.013844967330308178, 'reg_lambda': 0.8992999360770965, 'colsample_bytree': 0.8875351318648416, 'subsample': 0.9873320305764351}. Best is trial 5 with value: 0.20890937019969277.\n",
      "[I 2024-08-18 23:02:02,678] Trial 6 finished with value: 0.19397116644823068 and parameters: {'n_estimators': 2918, 'learning_rate': 0.059461038181363376, 'max_depth': 10, 'alpha': 0.0002890012775524101, 'gamma': 0.00029798653838467807, 'reg_alpha': 0.9071224817335748, 'reg_lambda': 0.7753471425296603, 'colsample_bytree': 0.665112034774484, 'subsample': 0.41872036994858475}. Best is trial 5 with value: 0.20890937019969277.\n",
      "[I 2024-08-18 23:02:17,716] Trial 7 finished with value: 0.17341040462427745 and parameters: {'n_estimators': 2878, 'learning_rate': 0.08223123585866875, 'max_depth': 3, 'alpha': 0.0008001300573554539, 'gamma': 3.2344279851875804e-05, 'reg_alpha': 0.8807605449709158, 'reg_lambda': 0.23503275660350217, 'colsample_bytree': 0.09110934820307266, 'subsample': 0.569811575131816}. Best is trial 5 with value: 0.20890937019969277.\n",
      "[I 2024-08-18 23:02:35,640] Trial 8 finished with value: 0.15694164989939638 and parameters: {'n_estimators': 2903, 'learning_rate': 0.011372877276073255, 'max_depth': 8, 'alpha': 0.0003430079023117825, 'gamma': 1.4205684106253661e-05, 'reg_alpha': 0.7101215391968, 'reg_lambda': 0.9151169182653845, 'colsample_bytree': 0.015664225735394284, 'subsample': 0.25676373371690697}. Best is trial 5 with value: 0.20890937019969277.\n",
      "[I 2024-08-18 23:03:10,296] Trial 9 finished with value: 0.16605616605616608 and parameters: {'n_estimators': 3186, 'learning_rate': 0.15294005194909938, 'max_depth': 9, 'alpha': 0.00026753395915829703, 'gamma': 0.00012625615224831461, 'reg_alpha': 0.38482325908191756, 'reg_lambda': 0.48127539733981706, 'colsample_bytree': 0.24574914523960367, 'subsample': 0.863879813861143}. Best is trial 5 with value: 0.20890937019969277.\n",
      "[I 2024-08-18 23:03:37,567] Trial 10 finished with value: 0.19251336898395718 and parameters: {'n_estimators': 1980, 'learning_rate': 0.19881295779527156, 'max_depth': 8, 'alpha': 0.009026908454468628, 'gamma': 0.008869307162225669, 'reg_alpha': 0.01742408147148854, 'reg_lambda': 0.05851815068698912, 'colsample_bytree': 0.999568851083485, 'subsample': 0.9975795632514342}. Best is trial 5 with value: 0.20890937019969277.\n",
      "[I 2024-08-18 23:03:54,274] Trial 11 finished with value: 0.18911917098445596 and parameters: {'n_estimators': 1805, 'learning_rate': 0.14575393880026416, 'max_depth': 6, 'alpha': 0.0055779912951917235, 'gamma': 0.004552650877167136, 'reg_alpha': 0.010631271140699228, 'reg_lambda': 0.986458073729258, 'colsample_bytree': 0.6903123975665322, 'subsample': 0.7700295249045397}. Best is trial 5 with value: 0.20890937019969277.\n",
      "[I 2024-08-18 23:04:10,076] Trial 12 finished with value: 0.1811505507955936 and parameters: {'n_estimators': 1684, 'learning_rate': 0.18328184420631477, 'max_depth': 7, 'alpha': 0.001418841066170844, 'gamma': 0.0023824423204972206, 'reg_alpha': 0.19475494132737636, 'reg_lambda': 0.792639317069206, 'colsample_bytree': 0.4693500401431161, 'subsample': 0.4066117673719146}. Best is trial 5 with value: 0.20890937019969277.\n",
      "[I 2024-08-18 23:04:28,592] Trial 13 finished with value: 0.1877444589308996 and parameters: {'n_estimators': 2272, 'learning_rate': 0.14784622748552617, 'max_depth': 6, 'alpha': 0.00010909914660452669, 'gamma': 0.0016086947665775735, 'reg_alpha': 0.6691286065522989, 'reg_lambda': 0.9990042453342384, 'colsample_bytree': 0.7451813889491603, 'subsample': 0.9870776910757182}. Best is trial 5 with value: 0.20890937019969277.\n",
      "[I 2024-08-18 23:04:36,186] Trial 14 finished with value: 0.1990049751243781 and parameters: {'n_estimators': 1595, 'learning_rate': 0.1253250791343733, 'max_depth': 3, 'alpha': 0.00370871445243219, 'gamma': 0.0013188381273440439, 'reg_alpha': 0.18009279869183814, 'reg_lambda': 0.6556180826145455, 'colsample_bytree': 0.5148913618901014, 'subsample': 0.6852604319661025}. Best is trial 5 with value: 0.20890937019969277.\n"
     ]
    }
   ],
   "source": [
    "import optuna\n",
    "from xgboost import XGBClassifier\n",
    "from sklearn.model_selection import train_test_split\n",
    "from sklearn.metrics import f1_score\n",
    "\n",
    "# 'Normal'과 'AbNormal'을 숫자로 변환\n",
    "train_data_dam['target'] = train_data_dam['target'].map({'Normal': 0, 'AbNormal': 1})\n",
    "\n",
    "# 스레드홀드 설정\n",
    "THRESHOLD = 0.3\n",
    "\n",
    "def objectiveXGB(trial, x_tr, y_tr, x_val, y_val):\n",
    "    param = {\n",
    "        'n_estimators': trial.suggest_int('n_estimators', 1200, 3200)\n",
    "        , 'learning_rate': trial.suggest_float('learning_rate', 0.002, 0.2)\n",
    "        , 'max_depth': trial.suggest_int('max_depth', 3, 10)\n",
    "\n",
    "        , 'alpha': trial.suggest_float('alpha', 0.00001, 0.01, log=True)\n",
    "        , 'gamma': trial.suggest_float('gamma', 0.00001, 0.01, log=True)\n",
    "\n",
    "        , 'reg_alpha' : trial.suggest_float('reg_alpha', 0.01, 1)\n",
    "        , 'reg_lambda' : trial.suggest_float('reg_lambda', 0.01, 1)\n",
    "        \n",
    "        , 'colsample_bytree' : trial.suggest_float('colsample_bytree', 0.01, 1)\n",
    "        , 'subsample' : trial.suggest_float('subsample', 0.03, 1)\n",
    "        , 'objective': 'binary:logistic'  # 이진 분류\n",
    "        , 'tree_method' : \"exact\"        \n",
    "        , 'random_state': RANDOM_STATE\n",
    "    }\n",
    "       \n",
    "    model = XGBClassifier(**param)\n",
    "    model.fit(x_tr, y_tr)\n",
    "    pred_proba = model.predict_proba(x_val)[:, 1]  # 양성 클래스 확률\n",
    "    pred = (pred_proba >= THRESHOLD).astype(int)  # 스레드홀드에 따른 예측\n",
    "    \n",
    "    score = f1_score(y_val, pred, average=\"binary\")\n",
    "    \n",
    "    return score\n",
    "\n",
    "# 데이터셋 분할\n",
    "x_train, x_val, y_train, y_val = train_test_split(\n",
    "    train_data_dam.drop(\"target\", axis=1),\n",
    "    train_data_dam[\"target\"],\n",
    "    test_size=0.2,\n",
    "    shuffle=True,\n",
    "    random_state=RANDOM_STATE,\n",
    ")\n",
    "\n",
    "# 하이퍼 파라미터 튜닝\n",
    "study = optuna.create_study(direction='maximize', sampler=optuna.samplers.TPESampler(seed=RANDOM_STATE))\n",
    "study.optimize(lambda trial: objectiveXGB(trial, x_train, y_train, x_val, y_val), n_trials=200)\n",
    "\n",
    "print('Best trial: score {}, \\nparams {}'.format(study.best_trial.value, study.best_trial.params))\n"
   ]
  },
  {
   "cell_type": "markdown",
   "id": "39ff1fe1",
   "metadata": {},
   "source": [
    "Trial 59 finished with value: 0.21949078138718175  \n",
    "parameters: {'n_estimators': 1901, 'num_leaves': 1247, 'max_depth': 36,  \n",
    "'learning_rate': 0.0011375205361216431, 'min_child_samples': 129}  "
   ]
  },
  {
   "cell_type": "markdown",
   "id": "34ecc88d",
   "metadata": {},
   "source": [
    "."
   ]
  }
 ],
 "metadata": {
  "kernelspec": {
   "display_name": "Python 3 (ipykernel)",
   "language": "python",
   "name": "python3"
  },
  "language_info": {
   "codemirror_mode": {
    "name": "ipython",
    "version": 3
   },
   "file_extension": ".py",
   "mimetype": "text/x-python",
   "name": "python",
   "nbconvert_exporter": "python",
   "pygments_lexer": "ipython3",
   "version": "3.7.8"
  }
 },
 "nbformat": 4,
 "nbformat_minor": 5
}

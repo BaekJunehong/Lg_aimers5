{
 "cells": [
  {
   "cell_type": "markdown",
   "id": "017e9265",
   "metadata": {},
   "source": [
    "# 제품 이상여부 판별 프로젝트\n"
   ]
  },
  {
   "cell_type": "markdown",
   "id": "acdab431",
   "metadata": {},
   "source": [
    "## 1. 데이터 불러오기\n"
   ]
  },
  {
   "cell_type": "markdown",
   "id": "2b8341e8",
   "metadata": {},
   "source": [
    "### 필수 라이브러리\n"
   ]
  },
  {
   "cell_type": "code",
   "execution_count": 7,
   "id": "5a5cd513",
   "metadata": {},
   "outputs": [],
   "source": [
    "import numpy as np\n",
    "import pandas as pd\n",
    "from sklearn.model_selection import train_test_split\n",
    "\n",
    "from sklearn.metrics import (\n",
    "    accuracy_score,\n",
    "    confusion_matrix,\n",
    "    f1_score,\n",
    "    precision_score,\n",
    "    recall_score,\n",
    ")\n",
    "\n",
    "def get_clf_eval(y_test, y_pred_proba, threshold=0.5):\n",
    "    # 확률을 기준으로 예측 레이블 생성\n",
    "    y_pred = (y_pred_proba >= threshold).astype(int)  # 0.5 이상의 확률을 양성으로 간주\n",
    "\n",
    "    confusion = confusion_matrix(y_test, y_pred)\n",
    "    accuracy = accuracy_score(y_test, y_pred)\n",
    "    precision = precision_score(y_test, y_pred)\n",
    "    recall = recall_score(y_test, y_pred)\n",
    "    f1 = f1_score(y_test, y_pred)\n",
    "\n",
    "    print(\"Confusion Matrix:\\n\", confusion)\n",
    "    print(f\"Accuracy: {accuracy:.4f}\")\n",
    "    print(f\"Precision: {precision:.4f}\")\n",
    "    print(f\"Recall: {recall:.4f}\")\n",
    "    print(f\"F1 Score: {f1:.4f}\")"
   ]
  },
  {
   "cell_type": "markdown",
   "id": "4d054e30",
   "metadata": {},
   "source": [
    "### 데이터 읽어오기\n"
   ]
  },
  {
   "cell_type": "code",
   "execution_count": 8,
   "id": "fc0b4d80",
   "metadata": {},
   "outputs": [],
   "source": [
    "import pandas as pd\n",
    "\n",
    "THRESHOLD = 0.3\n",
    "RANDOM_STATE = 110\n",
    "\n",
    "train_data = pd.read_csv(\"../../../data/train_data_0817.csv\")\n",
    "test_data = pd.read_csv(\"../../../data/test_data_0817.csv\")"
   ]
  },
  {
   "cell_type": "markdown",
   "id": "ec45a10a",
   "metadata": {},
   "source": [
    "---"
   ]
  },
  {
   "cell_type": "markdown",
   "id": "5c4e5b59",
   "metadata": {},
   "source": [
    "## 3. 모델 학습"
   ]
  },
  {
   "cell_type": "markdown",
   "id": "cfaa06da",
   "metadata": {},
   "source": [
    "### 모델 정의"
   ]
  },
  {
   "cell_type": "markdown",
   "id": "c2e56224",
   "metadata": {},
   "source": [
    "optuna"
   ]
  },
  {
   "cell_type": "code",
   "execution_count": 9,
   "id": "8ec04f21",
   "metadata": {},
   "outputs": [],
   "source": [
    "# import optuna\n",
    "# from sklearn.ensemble import RandomForestClassifier\n",
    "# from sklearn.model_selection import train_test_split\n",
    "# from sklearn.metrics import f1_score\n",
    "\n",
    "# # 'Normal'과 'AbNormal'을 숫자로 변환\n",
    "# train_data['target'] = train_data['target'].map({'Normal': 0, 'AbNormal': 1})\n",
    "\n",
    "# # 스레드홀드 설정\n",
    "# THRESHOLD = 0.3\n",
    "\n",
    "# def objectiveRF(trial, x_tr, y_tr, x_val, y_val):\n",
    "#     param = {\n",
    "#     'n_estimators' : trial.suggest_int('n_estimators', 1000, 3000),\n",
    "#     'max_depth' : trial.suggest_int('max_depth', 30, 100),\n",
    "#     'min_samples_split' : trial.suggest_int('min_samples_split', 2, 20),\n",
    "#     'min_samples_leaf' : trial.suggest_int('min_samples_leaf', 1, 20),\n",
    "#     'criterion' : trial.suggest_categorical(\"criterion\", [\"gini\", \"entropy\",]),\n",
    "#     'class_weight' : trial.suggest_categorical(\"class_weight\", [\"balanced\"]),\n",
    "#     'random_state': RANDOM_STATE\n",
    "#     }\n",
    "       \n",
    "#     model = RandomForestClassifier(**param)\n",
    "#     model.fit(x_tr, y_tr)\n",
    "#     pred_proba = model.predict_proba(x_val)[:, 1]  # 양성 클래스 확률\n",
    "#     pred = (pred_proba >= THRESHOLD).astype(int)  # 스레드홀드에 따른 예측\n",
    "    \n",
    "#     score = f1_score(y_val, pred, average=\"binary\")\n",
    "    \n",
    "#     return score\n",
    "\n",
    "# # 데이터셋 분할\n",
    "# x_train, x_val, y_train, y_val = train_test_split(\n",
    "#     train_data.drop(\"target\", axis=1),\n",
    "#     train_data[\"target\"],\n",
    "#     test_size=0.2,\n",
    "#     shuffle=True,\n",
    "#     random_state=RANDOM_STATE,\n",
    "# )\n",
    "\n",
    "# # 하이퍼 파라미터 튜닝\n",
    "# study = optuna.create_study(direction='maximize', sampler=optuna.samplers.TPESampler(seed=RANDOM_STATE))\n",
    "# study.optimize(lambda trial: objectiveRF(trial, x_train, y_train, x_val, y_val), n_trials=50)\n",
    "\n",
    "# print('Best trial: score {}, \\nparams {}'.format(study.best_trial.value, study.best_trial.params))\n"
   ]
  },
  {
   "cell_type": "markdown",
   "id": "9935cabe",
   "metadata": {},
   "source": [
    "Trial 22 finished with value: 0.23575129533678754  \n",
    "parameters: {'n_estimators': 1555, 'max_depth': 53, 'min_samples_split': 4,  \n",
    "'min_samples_leaf': 1, 'criterion': 'gini', 'class_weight': 'balanced'}  "
   ]
  },
  {
   "cell_type": "code",
   "execution_count": 10,
   "id": "59949366",
   "metadata": {},
   "outputs": [
    {
     "name": "stderr",
     "output_type": "stream",
     "text": [
      "[I 2024-08-20 21:55:13,836] A new study created in memory with name: no-name-10a8e19c-2272-410c-963b-4b7cb6315753\n",
      "[I 2024-08-20 21:56:25,133] Trial 0 finished with value: 0.18280467445742907 and parameters: {'n_estimators': 1232, 'max_depth': 76, 'min_samples_split': 9, 'min_samples_leaf': 7, 'criterion': 'entropy', 'class_weight': 'balanced'}. Best is trial 0 with value: 0.18280467445742907.\n",
      "[I 2024-08-20 21:59:43,215] Trial 1 finished with value: 0.21986353297952996 and parameters: {'n_estimators': 2910, 'max_depth': 75, 'min_samples_split': 11, 'min_samples_leaf': 1, 'criterion': 'gini', 'class_weight': 'balanced'}. Best is trial 1 with value: 0.21986353297952996.\n",
      "[I 2024-08-20 22:01:15,689] Trial 2 finished with value: 0.1930379746835443 and parameters: {'n_estimators': 1270, 'max_depth': 30, 'min_samples_split': 9, 'min_samples_leaf': 5, 'criterion': 'entropy', 'class_weight': 'balanced'}. Best is trial 1 with value: 0.21986353297952996.\n",
      "[I 2024-08-20 22:02:27,613] Trial 3 finished with value: 0.17976682963520121 and parameters: {'n_estimators': 1155, 'max_depth': 58, 'min_samples_split': 7, 'min_samples_leaf': 8, 'criterion': 'gini', 'class_weight': 'balanced'}. Best is trial 1 with value: 0.21986353297952996.\n",
      "[I 2024-08-20 22:04:17,718] Trial 4 finished with value: 0.17909407665505225 and parameters: {'n_estimators': 1670, 'max_depth': 31, 'min_samples_split': 3, 'min_samples_leaf': 9, 'criterion': 'gini', 'class_weight': 'balanced'}. Best is trial 1 with value: 0.21986353297952996.\n",
      "[I 2024-08-20 22:07:45,407] Trial 5 finished with value: 0.18561872909698995 and parameters: {'n_estimators': 2523, 'max_depth': 68, 'min_samples_split': 9, 'min_samples_leaf': 7, 'criterion': 'entropy', 'class_weight': 'balanced'}. Best is trial 1 with value: 0.21986353297952996.\n",
      "[I 2024-08-20 22:09:42,779] Trial 6 finished with value: 0.22135619641465318 and parameters: {'n_estimators': 1080, 'max_depth': 72, 'min_samples_split': 5, 'min_samples_leaf': 3, 'criterion': 'entropy', 'class_weight': 'balanced'}. Best is trial 6 with value: 0.22135619641465318.\n",
      "[I 2024-08-20 22:14:11,357] Trial 7 finished with value: 0.22346368715083795 and parameters: {'n_estimators': 2585, 'max_depth': 93, 'min_samples_split': 6, 'min_samples_leaf': 1, 'criterion': 'gini', 'class_weight': 'balanced'}. Best is trial 7 with value: 0.22346368715083795.\n"
     ]
    }
   ],
   "source": [
    "import optuna\n",
    "from sklearn.ensemble import RandomForestClassifier\n",
    "from sklearn.model_selection import train_test_split\n",
    "from sklearn.metrics import f1_score\n",
    "\n",
    "# 'Normal'과 'AbNormal'을 숫자로 변환\n",
    "train_data['target'] = train_data['target'].map({'Normal': 0, 'AbNormal': 1})\n",
    "\n",
    "# 스레드홀드 설정\n",
    "THRESHOLD = 0.3\n",
    "\n",
    "def objectiveRF(trial, x_tr, y_tr, x_val, y_val):\n",
    "    param = {\n",
    "    'n_estimators' : trial.suggest_int('n_estimators', 1000, 3000),\n",
    "    'max_depth' : trial.suggest_int('max_depth', 30, 100),\n",
    "    'min_samples_split' : trial.suggest_int('min_samples_split', 2, 20),\n",
    "    'min_samples_leaf' : trial.suggest_int('min_samples_leaf', 1, 10),\n",
    "    'criterion' : trial.suggest_categorical(\"criterion\", [\"gini\", \"entropy\",]),\n",
    "    'class_weight' : trial.suggest_categorical(\"class_weight\", [\"balanced\"]),\n",
    "    'random_state': RANDOM_STATE\n",
    "    }\n",
    "       \n",
    "    model = RandomForestClassifier(**param)\n",
    "    model.fit(x_tr, y_tr)\n",
    "    pred_proba = model.predict_proba(x_val)[:, 1]  # 양성 클래스 확률\n",
    "    pred = (pred_proba >= THRESHOLD).astype(int)  # 스레드홀드에 따른 예측\n",
    "    \n",
    "    score = f1_score(y_val, pred, average=\"binary\")\n",
    "    \n",
    "    return score\n",
    "\n",
    "# 데이터셋 분할\n",
    "x_train, x_val, y_train, y_val = train_test_split(\n",
    "    train_data.drop(\"target\", axis=1),\n",
    "    train_data[\"target\"],\n",
    "    test_size=0.2,\n",
    "    shuffle=True,\n",
    "    random_state=RANDOM_STATE,\n",
    ")\n",
    "\n",
    "# 하이퍼 파라미터 튜닝\n",
    "study = optuna.create_study(direction='maximize', sampler=optuna.samplers.TPESampler(seed=RANDOM_STATE))\n",
    "study.optimize(lambda trial: objectiveRF(trial, x_train, y_train, x_val, y_val), n_trials=500)\n",
    "\n",
    "print('Best trial: score {}, \\nparams {}'.format(study.best_trial.value, study.best_trial.params))\n"
   ]
  },
  {
   "cell_type": "markdown",
   "id": "1b4418c3",
   "metadata": {},
   "source": [
    "."
   ]
  }
 ],
 "metadata": {
  "kernelspec": {
   "display_name": "Python 3 (ipykernel)",
   "language": "python",
   "name": "python3"
  },
  "language_info": {
   "codemirror_mode": {
    "name": "ipython",
    "version": 3
   },
   "file_extension": ".py",
   "mimetype": "text/x-python",
   "name": "python",
   "nbconvert_exporter": "python",
   "pygments_lexer": "ipython3",
   "version": "3.7.8"
  }
 },
 "nbformat": 4,
 "nbformat_minor": 5
}

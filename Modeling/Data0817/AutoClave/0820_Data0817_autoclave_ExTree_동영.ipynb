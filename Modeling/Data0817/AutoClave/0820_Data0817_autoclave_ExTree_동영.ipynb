{
 "cells": [
  {
   "cell_type": "markdown",
   "id": "017e9265",
   "metadata": {},
   "source": [
    "# 제품 이상여부 판별 프로젝트\n"
   ]
  },
  {
   "cell_type": "markdown",
   "id": "4d054e30",
   "metadata": {},
   "source": [
    "### 데이터 읽어오기\n"
   ]
  },
  {
   "cell_type": "code",
   "execution_count": 1,
   "id": "fc0b4d80",
   "metadata": {},
   "outputs": [],
   "source": [
    "import os\n",
    "from pprint import pprint\n",
    "\n",
    "import optuna\n",
    "import numpy as np\n",
    "import pandas as pd\n",
    "import seaborn as sns\n",
    "import matplotlib.pyplot as plt\n",
    "\n",
    "from sklearn.tree import DecisionTreeClassifier\n",
    "from lightgbm import LGBMClassifier\n",
    "from sklearn.ensemble import RandomForestClassifier, ExtraTreesClassifier\n",
    "from xgboost import XGBClassifier\n",
    "from catboost import CatBoostClassifier\n",
    "from sklearn.ensemble import AdaBoostClassifier\n",
    "\n",
    "from sklearn.metrics import (\n",
    "    accuracy_score,\n",
    "    classification_report,\n",
    "    confusion_matrix,\n",
    "    f1_score,\n",
    "    precision_score,\n",
    "    recall_score,\n",
    ")\n",
    "from sklearn.model_selection import train_test_split\n",
    "from tqdm import tqdm\n",
    "\n",
    "RANDOM_STATE = 110\n",
    "\n",
    "train_data = pd.read_csv(\"C:/Users/KimDongyoung/Desktop/git_LGaimers5/Lg_aimers5/data/train_data_0817.csv\")\n",
    "test_data = pd.read_csv(\"C:/Users/KimDongyoung/Desktop/git_LGaimers5/Lg_aimers5/data/test_data_0817.csv\")"
   ]
  },
  {
   "cell_type": "code",
   "execution_count": 2,
   "id": "84efc2b4",
   "metadata": {},
   "outputs": [],
   "source": [
    "# dam, fill1, fill2 공통 변수\n",
    "var_dam_fill = [\n",
    "    'Equipment_same_num',\n",
    "    'PalletID_Collect_Result_encoded',\n",
    "    'Production_Qty_Collect_Result',\n",
    "    'WorkMode Collect Result'\n",
    "]"
   ]
  },
  {
   "cell_type": "code",
   "execution_count": 3,
   "id": "ea606b3d",
   "metadata": {},
   "outputs": [],
   "source": [
    "# 전체 공통 변수\n",
    "### correlation 확인을 위한 변수 리스트\n",
    "var_all_corr = [\n",
    "    'model_receip_encoded',\n",
    "    'workorder_receip_encoded'\n",
    "]\n",
    "\n",
    "### train\n",
    "var_all_train = [\n",
    "    'target',\n",
    "    'model_receip_encoded',\n",
    "    'workorder_receip_encoded'\n",
    "]\n",
    "\n",
    "### test\n",
    "var_all_test = [\n",
    "    'Set ID',\n",
    "    'target',\n",
    "    'model_receip_encoded',\n",
    "    'workorder_receip_encoded'\n",
    "]"
   ]
  },
  {
   "cell_type": "code",
   "execution_count": 4,
   "id": "fcb21633",
   "metadata": {},
   "outputs": [],
   "source": [
    "# '_Dam'을 포함하는 변수 선택\n",
    "dam_variables = [var for var in train_data.columns if '_Dam' in var]\n",
    "\n",
    "# train\n",
    "final_columns_train = var_dam_fill + var_all_train + dam_variables\n",
    "train_data_dam = train_data[final_columns_train]\n",
    "\n",
    "# test \n",
    "final_columns_test = var_dam_fill + var_all_test + dam_variables\n",
    "test_data_dam = test_data[final_columns_test]"
   ]
  },
  {
   "cell_type": "code",
   "execution_count": 5,
   "id": "1860711f",
   "metadata": {},
   "outputs": [],
   "source": [
    "# '_Fill1'을 포함하는 변수 선택\n",
    "fill1_variables = [var for var in train_data.columns if '_Fill1' in var]\n",
    "\n",
    "# train\n",
    "final_columns_train = var_dam_fill + var_all_train + fill1_variables\n",
    "train_data_fill1 = train_data[final_columns_train]\n",
    "\n",
    "# test \n",
    "final_columns_test = var_dam_fill + var_all_test + fill1_variables\n",
    "test_data_fill1 = test_data[final_columns_test]"
   ]
  },
  {
   "cell_type": "code",
   "execution_count": 6,
   "id": "ae283cbf",
   "metadata": {},
   "outputs": [],
   "source": [
    "# '_Fill2'을 포함하는 변수 선택\n",
    "fill2_variables = [var for var in train_data.columns if '_Fill2' in var]\n",
    "\n",
    "# train\n",
    "final_columns_train = var_dam_fill + var_all_train + fill2_variables\n",
    "train_data_fill2 = train_data[final_columns_train]\n",
    "\n",
    "# test \n",
    "final_columns_test = var_dam_fill + var_all_test + fill2_variables\n",
    "test_data_fill2 = test_data[final_columns_test]"
   ]
  },
  {
   "cell_type": "code",
   "execution_count": 7,
   "id": "6611231a",
   "metadata": {},
   "outputs": [],
   "source": [
    "# '_AutoClave'을 포함하는 변수 선택\n",
    "autoclave_variables = [var for var in train_data.columns if '_AutoClave' in var]\n",
    "\n",
    "# train\n",
    "final_columns_train = var_all_train + autoclave_variables\n",
    "train_data_autoclave = train_data[final_columns_train]\n",
    "\n",
    "# test \n",
    "final_columns_test = var_all_test + autoclave_variables\n",
    "test_data_autoclave = test_data[final_columns_test]"
   ]
  },
  {
   "cell_type": "code",
   "execution_count": 8,
   "id": "a25080c6",
   "metadata": {},
   "outputs": [
    {
     "name": "stdout",
     "output_type": "stream",
     "text": [
      "----train data-----\n",
      "train_data DataFrame의 칼럼 수: 38\n",
      "train_data_dam DataFrame의 칼럼 수: 21\n",
      "train_data_autoclave DataFrame의 칼럼 수: 8\n",
      "train_data_fill1 DataFrame의 칼럼 수: 13\n",
      "train_data_fill2 DataFrame의 칼럼 수: 13\n",
      "----test data-----\n",
      "test_data DataFrame의 칼럼 수: 39\n",
      "test_data_dam DataFrame의 칼럼 수: 22\n",
      "test_data_autoclave DataFrame의 칼럼 수: 9\n",
      "test_data_fill1 DataFrame의 칼럼 수: 14\n",
      "test_data_fill2 DataFrame의 칼럼 수: 14\n"
     ]
    }
   ],
   "source": [
    "# 각 DataFrame의 칼럼 수 계산\n",
    "num_columns_train_data = train_data.shape[1]\n",
    "num_columns_train_data_dam = train_data_dam.shape[1]\n",
    "num_columns_train_data_autoclave = train_data_autoclave.shape[1]\n",
    "num_columns_train_data_fill1 = train_data_fill1.shape[1]\n",
    "num_columns_train_data_fill2 = train_data_fill2.shape[1]\n",
    "\n",
    "num_columns_test_data = test_data.shape[1]\n",
    "num_columns_test_data_dam = test_data_dam.shape[1]\n",
    "num_columns_test_data_autoclave = test_data_autoclave.shape[1]\n",
    "num_columns_test_data_fill1 = test_data_fill1.shape[1]\n",
    "num_columns_test_data_fill2 = test_data_fill2.shape[1]\n",
    "\n",
    "# 각 DataFrame의 칼럼 수 출력\n",
    "print(\"----train data-----\")\n",
    "print(f\"train_data DataFrame의 칼럼 수: {num_columns_train_data}\")\n",
    "print(f\"train_data_dam DataFrame의 칼럼 수: {num_columns_train_data_dam}\")\n",
    "print(f\"train_data_autoclave DataFrame의 칼럼 수: {num_columns_train_data_autoclave}\")\n",
    "print(f\"train_data_fill1 DataFrame의 칼럼 수: {num_columns_train_data_fill1}\")\n",
    "print(f\"train_data_fill2 DataFrame의 칼럼 수: {num_columns_train_data_fill2}\")\n",
    "print(\"----test data-----\")\n",
    "print(f\"test_data DataFrame의 칼럼 수: {num_columns_test_data}\")\n",
    "print(f\"test_data_dam DataFrame의 칼럼 수: {num_columns_test_data_dam}\")\n",
    "print(f\"test_data_autoclave DataFrame의 칼럼 수: {num_columns_test_data_autoclave}\")\n",
    "print(f\"test_data_fill1 DataFrame의 칼럼 수: {num_columns_test_data_fill1}\")\n",
    "print(f\"test_data_fill2 DataFrame의 칼럼 수: {num_columns_test_data_fill2}\")"
   ]
  },
  {
   "cell_type": "markdown",
   "id": "ec45a10a",
   "metadata": {},
   "source": [
    "---"
   ]
  },
  {
   "cell_type": "markdown",
   "id": "5c4e5b59",
   "metadata": {},
   "source": [
    "## Optuna"
   ]
  },
  {
   "cell_type": "markdown",
   "id": "058f4f86",
   "metadata": {},
   "source": [
    "스레스홀드 0.3으로 맞춘상태에서 튜닝 진행한 것"
   ]
  },
  {
   "cell_type": "code",
   "execution_count": 9,
   "id": "f2608ab0",
   "metadata": {},
   "outputs": [
    {
     "name": "stderr",
     "output_type": "stream",
     "text": [
      "C:\\Users\\KimDongyoung\\AppData\\Local\\Temp\\ipykernel_20316\\4185386793.py:2: SettingWithCopyWarning: \n",
      "A value is trying to be set on a copy of a slice from a DataFrame.\n",
      "Try using .loc[row_indexer,col_indexer] = value instead\n",
      "\n",
      "See the caveats in the documentation: https://pandas.pydata.org/pandas-docs/stable/user_guide/indexing.html#returning-a-view-versus-a-copy\n",
      "  train_data_autoclave['target'] = train_data_autoclave['target'].map({'Normal': 0, 'AbNormal': 1})\n",
      "[I 2024-08-20 15:59:28,107] A new study created in memory with name: no-name-dad5b674-7572-4b87-b72b-446c8080b7d1\n",
      "[I 2024-08-20 16:00:10,626] Trial 0 finished with value: 0.10191082802547771 and parameters: {'n_estimators': 1674, 'max_depth': 50, 'min_samples_split': 6, 'min_samples_leaf': 5, 'criterion': 'entropy', 'bootstrap': False}. Best is trial 0 with value: 0.10191082802547771.\n",
      "[I 2024-08-20 16:01:17,547] Trial 1 finished with value: 0.10191082802547771 and parameters: {'n_estimators': 2519, 'max_depth': 51, 'min_samples_split': 12, 'min_samples_leaf': 5, 'criterion': 'entropy', 'bootstrap': False}. Best is trial 0 with value: 0.10191082802547771.\n",
      "[I 2024-08-20 16:02:25,880] Trial 2 finished with value: 0.1336116910229645 and parameters: {'n_estimators': 2269, 'max_depth': 32, 'min_samples_split': 6, 'min_samples_leaf': 3, 'criterion': 'entropy', 'bootstrap': False}. Best is trial 2 with value: 0.1336116910229645.\n",
      "[I 2024-08-20 16:03:11,200] Trial 3 finished with value: 0.10993657505285412 and parameters: {'n_estimators': 1703, 'max_depth': 30, 'min_samples_split': 6, 'min_samples_leaf': 4, 'criterion': 'entropy', 'bootstrap': False}. Best is trial 2 with value: 0.1336116910229645.\n",
      "[I 2024-08-20 16:03:57,831] Trial 4 finished with value: 0.13749999999999998 and parameters: {'n_estimators': 1532, 'max_depth': 47, 'min_samples_split': 2, 'min_samples_leaf': 3, 'criterion': 'entropy', 'bootstrap': False}. Best is trial 4 with value: 0.13749999999999998.\n",
      "[I 2024-08-20 16:04:57,377] Trial 5 finished with value: 0.1336116910229645 and parameters: {'n_estimators': 1971, 'max_depth': 53, 'min_samples_split': 8, 'min_samples_leaf': 3, 'criterion': 'entropy', 'bootstrap': False}. Best is trial 4 with value: 0.13749999999999998.\n",
      "[I 2024-08-20 16:05:43,078] Trial 6 finished with value: 0.09787234042553192 and parameters: {'n_estimators': 2002, 'max_depth': 30, 'min_samples_split': 2, 'min_samples_leaf': 6, 'criterion': 'entropy', 'bootstrap': False}. Best is trial 4 with value: 0.13749999999999998.\n",
      "[I 2024-08-20 16:06:46,261] Trial 7 finished with value: 0.10993657505285412 and parameters: {'n_estimators': 2237, 'max_depth': 37, 'min_samples_split': 10, 'min_samples_leaf': 4, 'criterion': 'entropy', 'bootstrap': False}. Best is trial 4 with value: 0.13749999999999998.\n",
      "[I 2024-08-20 16:07:40,513] Trial 8 finished with value: 0.10191082802547771 and parameters: {'n_estimators': 2078, 'max_depth': 49, 'min_samples_split': 3, 'min_samples_leaf': 5, 'criterion': 'entropy', 'bootstrap': False}. Best is trial 4 with value: 0.13749999999999998.\n",
      "[I 2024-08-20 16:08:36,113] Trial 9 finished with value: 0.17288801571709234 and parameters: {'n_estimators': 1560, 'max_depth': 48, 'min_samples_split': 4, 'min_samples_leaf': 2, 'criterion': 'entropy', 'bootstrap': False}. Best is trial 9 with value: 0.17288801571709234.\n",
      "[I 2024-08-20 16:10:26,226] Trial 10 finished with value: 0.20272314674735248 and parameters: {'n_estimators': 2770, 'max_depth': 60, 'min_samples_split': 4, 'min_samples_leaf': 1, 'criterion': 'entropy', 'bootstrap': False}. Best is trial 10 with value: 0.20272314674735248.\n",
      "[I 2024-08-20 16:12:21,976] Trial 11 finished with value: 0.20241691842900303 and parameters: {'n_estimators': 2974, 'max_depth': 60, 'min_samples_split': 4, 'min_samples_leaf': 1, 'criterion': 'entropy', 'bootstrap': False}. Best is trial 10 with value: 0.20272314674735248.\n",
      "[I 2024-08-20 16:14:16,647] Trial 12 finished with value: 0.2 and parameters: {'n_estimators': 2997, 'max_depth': 59, 'min_samples_split': 4, 'min_samples_leaf': 1, 'criterion': 'entropy', 'bootstrap': False}. Best is trial 10 with value: 0.20272314674735248.\n",
      "[I 2024-08-20 16:16:04,230] Trial 13 finished with value: 0.20241691842900303 and parameters: {'n_estimators': 2933, 'max_depth': 58, 'min_samples_split': 4, 'min_samples_leaf': 1, 'criterion': 'entropy', 'bootstrap': False}. Best is trial 10 with value: 0.20272314674735248.\n",
      "[I 2024-08-20 16:17:25,810] Trial 14 finished with value: 0.23593466424682397 and parameters: {'n_estimators': 2708, 'max_depth': 41, 'min_samples_split': 8, 'min_samples_leaf': 1, 'criterion': 'entropy', 'bootstrap': False}. Best is trial 14 with value: 0.23593466424682397.\n",
      "[I 2024-08-20 16:18:08,671] Trial 15 finished with value: 0.16666666666666669 and parameters: {'n_estimators': 2633, 'max_depth': 41, 'min_samples_split': 8, 'min_samples_leaf': 2, 'criterion': 'entropy', 'bootstrap': False}. Best is trial 14 with value: 0.23593466424682397.\n",
      "[I 2024-08-20 16:18:37,712] Trial 16 finished with value: 0.07327586206896551 and parameters: {'n_estimators': 2686, 'max_depth': 42, 'min_samples_split': 10, 'min_samples_leaf': 7, 'criterion': 'entropy', 'bootstrap': False}. Best is trial 14 with value: 0.23593466424682397.\n",
      "[I 2024-08-20 16:19:21,971] Trial 17 finished with value: 0.1629327902240326 and parameters: {'n_estimators': 2748, 'max_depth': 37, 'min_samples_split': 8, 'min_samples_leaf': 2, 'criterion': 'entropy', 'bootstrap': False}. Best is trial 14 with value: 0.23593466424682397.\n",
      "[I 2024-08-20 16:20:04,864] Trial 18 finished with value: 0.20077220077220076 and parameters: {'n_estimators': 2475, 'max_depth': 55, 'min_samples_split': 10, 'min_samples_leaf': 1, 'criterion': 'entropy', 'bootstrap': False}. Best is trial 14 with value: 0.23593466424682397.\n",
      "[I 2024-08-20 16:20:50,621] Trial 19 finished with value: 0.16935483870967744 and parameters: {'n_estimators': 2819, 'max_depth': 43, 'min_samples_split': 7, 'min_samples_leaf': 2, 'criterion': 'entropy', 'bootstrap': False}. Best is trial 14 with value: 0.23593466424682397.\n",
      "[I 2024-08-20 16:21:24,240] Trial 20 finished with value: 0.11040339702760085 and parameters: {'n_estimators': 2437, 'max_depth': 37, 'min_samples_split': 12, 'min_samples_leaf': 3, 'criterion': 'entropy', 'bootstrap': False}. Best is trial 14 with value: 0.23593466424682397.\n",
      "[I 2024-08-20 16:22:17,616] Trial 21 finished with value: 0.20272314674735248 and parameters: {'n_estimators': 2863, 'max_depth': 60, 'min_samples_split': 4, 'min_samples_leaf': 1, 'criterion': 'entropy', 'bootstrap': False}. Best is trial 14 with value: 0.23593466424682397.\n",
      "[I 2024-08-20 16:23:08,479] Trial 22 finished with value: 0.21553090332805072 and parameters: {'n_estimators': 2826, 'max_depth': 55, 'min_samples_split': 5, 'min_samples_leaf': 1, 'criterion': 'entropy', 'bootstrap': False}. Best is trial 14 with value: 0.23593466424682397.\n",
      "[I 2024-08-20 16:23:56,515] Trial 23 finished with value: 0.16535433070866143 and parameters: {'n_estimators': 2631, 'max_depth': 55, 'min_samples_split': 5, 'min_samples_leaf': 2, 'criterion': 'entropy', 'bootstrap': False}. Best is trial 14 with value: 0.23593466424682397.\n",
      "[I 2024-08-20 16:24:45,771] Trial 24 finished with value: 0.2323943661971831 and parameters: {'n_estimators': 2556, 'max_depth': 56, 'min_samples_split': 7, 'min_samples_leaf': 1, 'criterion': 'entropy', 'bootstrap': False}. Best is trial 14 with value: 0.23593466424682397.\n",
      "[I 2024-08-20 16:25:22,029] Trial 25 finished with value: 0.15670103092783505 and parameters: {'n_estimators': 2330, 'max_depth': 45, 'min_samples_split': 9, 'min_samples_leaf': 2, 'criterion': 'entropy', 'bootstrap': False}. Best is trial 14 with value: 0.23593466424682397.\n",
      "[I 2024-08-20 16:26:06,120] Trial 26 finished with value: 0.23198594024604569 and parameters: {'n_estimators': 2562, 'max_depth': 55, 'min_samples_split': 7, 'min_samples_leaf': 1, 'criterion': 'entropy', 'bootstrap': False}. Best is trial 14 with value: 0.23593466424682397.\n",
      "[I 2024-08-20 16:26:44,511] Trial 27 finished with value: 0.16632860040567954 and parameters: {'n_estimators': 2397, 'max_depth': 40, 'min_samples_split': 7, 'min_samples_leaf': 2, 'criterion': 'entropy', 'bootstrap': False}. Best is trial 14 with value: 0.23593466424682397.\n",
      "[I 2024-08-20 16:27:30,490] Trial 28 finished with value: 0.21641791044776115 and parameters: {'n_estimators': 2555, 'max_depth': 57, 'min_samples_split': 9, 'min_samples_leaf': 1, 'criterion': 'entropy', 'bootstrap': False}. Best is trial 14 with value: 0.23593466424682397.\n",
      "[I 2024-08-20 16:28:08,045] Trial 29 finished with value: 0.14137214137214135 and parameters: {'n_estimators': 2580, 'max_depth': 51, 'min_samples_split': 7, 'min_samples_leaf': 3, 'criterion': 'entropy', 'bootstrap': False}. Best is trial 14 with value: 0.23593466424682397.\n",
      "[I 2024-08-20 16:28:31,640] Trial 30 finished with value: 0.07327586206896551 and parameters: {'n_estimators': 2212, 'max_depth': 46, 'min_samples_split': 6, 'min_samples_leaf': 7, 'criterion': 'entropy', 'bootstrap': False}. Best is trial 14 with value: 0.23593466424682397.\n",
      "[I 2024-08-20 16:29:17,605] Trial 31 finished with value: 0.21641791044776115 and parameters: {'n_estimators': 2546, 'max_depth': 56, 'min_samples_split': 9, 'min_samples_leaf': 1, 'criterion': 'entropy', 'bootstrap': False}. Best is trial 14 with value: 0.23593466424682397.\n",
      "[I 2024-08-20 16:30:08,157] Trial 32 finished with value: 0.21641791044776115 and parameters: {'n_estimators': 2674, 'max_depth': 53, 'min_samples_split': 9, 'min_samples_leaf': 1, 'criterion': 'entropy', 'bootstrap': False}. Best is trial 14 with value: 0.23593466424682397.\n",
      "[I 2024-08-20 16:30:47,164] Trial 33 finished with value: 0.13836477987421383 and parameters: {'n_estimators': 2507, 'max_depth': 58, 'min_samples_split': 11, 'min_samples_leaf': 2, 'criterion': 'entropy', 'bootstrap': False}. Best is trial 14 with value: 0.23593466424682397.\n",
      "[I 2024-08-20 16:31:29,701] Trial 34 finished with value: 0.23465703971119137 and parameters: {'n_estimators': 2369, 'max_depth': 53, 'min_samples_split': 8, 'min_samples_leaf': 1, 'criterion': 'entropy', 'bootstrap': False}. Best is trial 14 with value: 0.23593466424682397.\n",
      "[I 2024-08-20 16:32:08,457] Trial 35 finished with value: 0.17038539553752535 and parameters: {'n_estimators': 2339, 'max_depth': 53, 'min_samples_split': 8, 'min_samples_leaf': 2, 'criterion': 'entropy', 'bootstrap': False}. Best is trial 14 with value: 0.23593466424682397.\n",
      "[I 2024-08-20 16:32:36,887] Trial 36 finished with value: 0.10191082802547771 and parameters: {'n_estimators': 2163, 'max_depth': 51, 'min_samples_split': 6, 'min_samples_leaf': 5, 'criterion': 'entropy', 'bootstrap': False}. Best is trial 14 with value: 0.23593466424682397.\n",
      "[I 2024-08-20 16:33:12,524] Trial 37 finished with value: 0.1336116910229645 and parameters: {'n_estimators': 2377, 'max_depth': 34, 'min_samples_split': 7, 'min_samples_leaf': 3, 'criterion': 'entropy', 'bootstrap': False}. Best is trial 14 with value: 0.23593466424682397.\n",
      "[I 2024-08-20 16:33:33,872] Trial 38 finished with value: 0.08154506437768241 and parameters: {'n_estimators': 1771, 'max_depth': 53, 'min_samples_split': 8, 'min_samples_leaf': 6, 'criterion': 'entropy', 'bootstrap': False}. Best is trial 14 with value: 0.23593466424682397.\n",
      "[I 2024-08-20 16:34:12,801] Trial 39 finished with value: 0.11392405063291139 and parameters: {'n_estimators': 2746, 'max_depth': 50, 'min_samples_split': 7, 'min_samples_leaf': 4, 'criterion': 'entropy', 'bootstrap': False}. Best is trial 14 with value: 0.23593466424682397.\n",
      "[I 2024-08-20 16:34:56,230] Trial 40 finished with value: 0.21870047543581617 and parameters: {'n_estimators': 2283, 'max_depth': 44, 'min_samples_split': 5, 'min_samples_leaf': 1, 'criterion': 'entropy', 'bootstrap': False}. Best is trial 14 with value: 0.23593466424682397.\n",
      "[I 2024-08-20 16:35:41,890] Trial 41 finished with value: 0.21835443037974683 and parameters: {'n_estimators': 2276, 'max_depth': 44, 'min_samples_split': 5, 'min_samples_leaf': 1, 'criterion': 'entropy', 'bootstrap': False}. Best is trial 14 with value: 0.23593466424682397.\n",
      "[I 2024-08-20 16:36:21,339] Trial 42 finished with value: 0.23688663282571912 and parameters: {'n_estimators': 2115, 'max_depth': 39, 'min_samples_split': 6, 'min_samples_leaf': 1, 'criterion': 'entropy', 'bootstrap': False}. Best is trial 42 with value: 0.23688663282571912.\n",
      "[I 2024-08-20 16:36:55,136] Trial 43 finished with value: 0.23089983022071306 and parameters: {'n_estimators': 1882, 'max_depth': 40, 'min_samples_split': 6, 'min_samples_leaf': 1, 'criterion': 'entropy', 'bootstrap': False}. Best is trial 42 with value: 0.23688663282571912.\n",
      "[I 2024-08-20 16:37:29,566] Trial 44 finished with value: 0.16935483870967744 and parameters: {'n_estimators': 2109, 'max_depth': 38, 'min_samples_split': 7, 'min_samples_leaf': 2, 'criterion': 'entropy', 'bootstrap': False}. Best is trial 42 with value: 0.23688663282571912.\n",
      "[I 2024-08-20 16:38:04,059] Trial 45 finished with value: 0.23465703971119137 and parameters: {'n_estimators': 1927, 'max_depth': 47, 'min_samples_split': 8, 'min_samples_leaf': 1, 'criterion': 'entropy', 'bootstrap': False}. Best is trial 42 with value: 0.23688663282571912.\n",
      "[I 2024-08-20 16:38:38,792] Trial 46 finished with value: 0.2335766423357664 and parameters: {'n_estimators': 1917, 'max_depth': 35, 'min_samples_split': 8, 'min_samples_leaf': 1, 'criterion': 'entropy', 'bootstrap': False}. Best is trial 42 with value: 0.23688663282571912.\n",
      "[I 2024-08-20 16:39:10,077] Trial 47 finished with value: 0.16359918200409 and parameters: {'n_estimators': 1926, 'max_depth': 35, 'min_samples_split': 8, 'min_samples_leaf': 2, 'criterion': 'entropy', 'bootstrap': False}. Best is trial 42 with value: 0.23688663282571912.\n",
      "[I 2024-08-20 16:39:39,806] Trial 48 finished with value: 0.11839323467230442 and parameters: {'n_estimators': 2023, 'max_depth': 32, 'min_samples_split': 9, 'min_samples_leaf': 3, 'criterion': 'entropy', 'bootstrap': False}. Best is trial 42 with value: 0.23688663282571912.\n",
      "[I 2024-08-20 16:40:04,678] Trial 49 finished with value: 0.10593220338983052 and parameters: {'n_estimators': 1804, 'max_depth': 39, 'min_samples_split': 11, 'min_samples_leaf': 4, 'criterion': 'entropy', 'bootstrap': False}. Best is trial 42 with value: 0.23688663282571912.\n"
     ]
    }
   ],
   "source": [
    "# 'Normal'과 'AbNormal'을 숫자로 변환\n",
    "train_data_autoclave['target'] = train_data_autoclave['target'].map({'Normal': 0, 'AbNormal': 1})\n",
    "\n",
    "# 스레드홀드 설정\n",
    "THRESHOLD = 0.3\n",
    "\n",
    "def objectiveExtraTreesClassifier(trial, x_tr, y_tr, x_val, y_val):\n",
    "    param = {\n",
    "        'n_estimators': trial.suggest_int('n_estimators', 1500, 3000)\n",
    "        , 'max_depth': trial.suggest_int('max_depth', 30, 60)\n",
    "        , 'min_samples_split': trial.suggest_int('min_samples_split', 2, 12)\n",
    "        , 'min_samples_leaf': trial.suggest_int('min_samples_leaf', 1, 7)\n",
    "        , 'criterion': trial.suggest_categorical('criterion', ['entropy'])\n",
    "        , 'bootstrap': trial.suggest_categorical('bootstrap', [False])\n",
    "        , 'random_state': RANDOM_STATE\n",
    "    }\n",
    "    \n",
    "    model = ExtraTreesClassifier(**param)\n",
    "    model.fit(x_tr, y_tr)\n",
    "    pred = model.predict(x_val)\n",
    "    score = f1_score(y_val, pred, average=\"binary\")\n",
    "    \n",
    "    return score\n",
    "\n",
    "# 데이터셋 분할\n",
    "x_train, x_val, y_train, y_val = train_test_split(\n",
    "    train_data_autoclave.drop(\"target\", axis=1),\n",
    "    train_data_autoclave[\"target\"],\n",
    "    test_size=0.2,\n",
    "    shuffle=True,\n",
    "    random_state=RANDOM_STATE,\n",
    ")\n",
    "\n",
    "# 하이퍼 파라미터 튜닝\n",
    "study = optuna.create_study(direction='maximize', sampler=optuna.samplers.TPESampler(seed=RANDOM_STATE))\n",
    "study.optimize(lambda trial: objectiveExtraTreesClassifier(trial, x_train, y_train, x_val, y_val), n_trials=100)\n",
    "\n",
    "print('Best trial: score {}, \\nparams {}'.format(study.best_trial.value, study.best_trial.params))\n"
   ]
  },
  {
   "cell_type": "markdown",
   "id": "f23b4bed",
   "metadata": {},
   "source": [
    "Trial 14 finished with value: 0.23593466424682397\n",
    "\n",
    " parameters: {'n_estimators': 2708, 'max_depth': 41, 'min_samples_split': 8, 'min_samples_leaf': 1, 'criterion': 'entropy', 'bootstrap': False}"
   ]
  },
  {
   "cell_type": "markdown",
   "id": "4ce6adbc",
   "metadata": {},
   "source": [
    "Best trial: score 0.23793103448275862\n",
    "\n",
    "params {'n_estimators': 1679, 'max_depth': 35, 'min_samples_split': 6, 'min_samples_leaf': 1, 'criterion': 'entropy', 'bootstrap': False}"
   ]
  },
  {
   "cell_type": "code",
   "execution_count": null,
   "id": "c6847c62",
   "metadata": {},
   "outputs": [],
   "source": [
    "# 스레드홀드 설정\n",
    "THRESHOLD = 0.3\n",
    "\n",
    "# 모델 설정 및 하이퍼파라미터\n",
    "models = {\n",
    "    'et': ExtraTreesClassifier(),\n",
    "    'rf': RandomForestClassifier(),\n",
    "    'cat': CatBoostClassifier(),\n",
    "    'lgbm': LGBMClassifier(),\n",
    "    'xgb': XGBClassifier(),\n",
    "    'dt': DecisionTreeClassifier()\n",
    "}\n",
    "\n",
    "def train_and_evaluate_model(model_name, data, **params):\n",
    "    if model_name not in models:\n",
    "        print(f\"{model_name}은(는) 지원되지 않는 모델입니다.\")\n",
    "        return\n",
    "    \n",
    "    # 데이터셋 분할\n",
    "    x_train, x_val, y_train, y_val = train_test_split(\n",
    "        data.drop(\"target\", axis=1),\n",
    "        data[\"target\"].map({'Normal': 0, 'AbNormal': 1}),\n",
    "        test_size=0.2,\n",
    "        shuffle=True,\n",
    "        random_state=RANDOM_STATE,\n",
    "    )\n",
    "\n",
    "    # 모델 선택\n",
    "    model = models[model_name]\n",
    "\n",
    "    # 하이퍼파라미터 설정\n",
    "    model.set_params(**params)\n",
    "\n",
    "    # 모델 학습\n",
    "    model.fit(x_train, y_train)\n",
    "\n",
    "    # 데이터 이름을 자동으로 추출하기 위한 래퍼 함수\n",
    "    data_name = [name for name in globals() if globals()[name] is data][0]\n",
    "\n",
    "    # 예측\n",
    "    y_val_pred_proba = model.predict_proba(x_val)[:, 1]  # 양성 클래스 확률\n",
    "    y_val_pred = (y_val_pred_proba >= THRESHOLD).astype(int)  # 스레드홀드에 따른 예측\n",
    "\n",
    "    # 평가지표 계산\n",
    "    f1 = f1_score(y_val, y_val_pred, average=\"binary\")\n",
    "    accuracy = accuracy_score(y_val, y_val_pred)\n",
    "    precision = precision_score(y_val, y_val_pred)\n",
    "    recall = recall_score(y_val, y_val_pred)\n",
    "    conf_matrix = confusion_matrix(y_val, y_val_pred)\n",
    "    \n",
    "    # 결과 출력\n",
    "    print(f'{model_name} 모델이 {data_name} 데이터로 학습한 결과:')\n",
    "    print(f'F1 Score: {f1}')\n",
    "    print('---')\n",
    "    print('Confusion Matrix:')\n",
    "    print(conf_matrix)\n",
    "    print('---')\n",
    "    print(f'Accuracy: {accuracy}')\n",
    "    print(f'Precision: {precision}')\n",
    "    print(f'Recall: {recall}')\n",
    "    print('\\n')"
   ]
  },
  {
   "cell_type": "code",
   "execution_count": null,
   "id": "7eadb949",
   "metadata": {},
   "outputs": [
    {
     "name": "stdout",
     "output_type": "stream",
     "text": [
      "et 모델이 train_data_autoclave 데이터로 학습한 결과:\n",
      "F1 Score: 0.23034330011074197\n",
      "---\n",
      "Confusion Matrix:\n",
      "[[7303  359]\n",
      " [ 336  104]]\n",
      "---\n",
      "Accuracy: 0.9142187114292767\n",
      "Precision: 0.22462203023758098\n",
      "Recall: 0.23636363636363636\n",
      "\n",
      "\n"
     ]
    }
   ],
   "source": [
    "# train_and_evaluate_model(\n",
    "#     'et', train_data_autoclave,\n",
    "#     n_estimators = 1679, \n",
    "#     max_depth = 35, \n",
    "#     min_samples_split = 6, \n",
    "#     min_samples_leaf = 1, \n",
    "#     criterion = 'entropy', \n",
    "#     bootstrap = False,\n",
    "#     random_state=RANDOM_STATE\n",
    "# )"
   ]
  },
  {
   "cell_type": "markdown",
   "id": "e920ee43",
   "metadata": {},
   "source": [
    "et 모델이 train_data_autoclave 데이터로 학습한 결과\n",
    "\n",
    "F1 Score: 0.23034330011074197"
   ]
  },
  {
   "cell_type": "markdown",
   "id": "34ecc88d",
   "metadata": {},
   "source": [
    "."
   ]
  }
 ],
 "metadata": {
  "kernelspec": {
   "display_name": "Python 3 (ipykernel)",
   "language": "python",
   "name": "python3"
  },
  "language_info": {
   "codemirror_mode": {
    "name": "ipython",
    "version": 3
   },
   "file_extension": ".py",
   "mimetype": "text/x-python",
   "name": "python",
   "nbconvert_exporter": "python",
   "pygments_lexer": "ipython3",
   "version": "3.12.0"
  }
 },
 "nbformat": 4,
 "nbformat_minor": 5
}

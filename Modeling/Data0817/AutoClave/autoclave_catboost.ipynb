{
 "cells": [
  {
   "cell_type": "markdown",
   "id": "017e9265",
   "metadata": {},
   "source": [
    "# 제품 이상여부 판별 프로젝트\n"
   ]
  },
  {
   "cell_type": "markdown",
   "id": "4d054e30",
   "metadata": {},
   "source": [
    "### 데이터 읽어오기\n"
   ]
  },
  {
   "cell_type": "code",
   "execution_count": 1,
   "id": "fc0b4d80",
   "metadata": {},
   "outputs": [],
   "source": [
    "import pandas as pd\n",
    "\n",
    "RANDOM_STATE = 110\n",
    "\n",
    "train_data = pd.read_csv(\"../../../data/train_data_0816.csv\")\n",
    "test_data = pd.read_csv(\"../../../data/test_data_0816.csv\")"
   ]
  },
  {
   "cell_type": "code",
   "execution_count": 2,
   "id": "84efc2b4",
   "metadata": {},
   "outputs": [],
   "source": [
    "# 공통 변수 리스트\n",
    "com_variables_train = [\n",
    "    'target', 'Model.Suffix', 'Workorder', 'WorkMode Collect Result'\n",
    "    , 'Dispenser_1', 'Dispenser_2', 'Receip_No_Collect_Result'\n",
    "    , 'Production_Qty_Collect_Result', 'Judge_Value_OK'\n",
    "    , 'Workorder_0.9', 'Workorder_0.6'\n",
    "]\n",
    "\n",
    "com_variables_test = [\n",
    "    'target', 'Set ID', 'Model.Suffix', 'Workorder'\n",
    "    , 'WorkMode Collect Result', 'Dispenser_1'\n",
    "    , 'Dispenser_2', 'Receip_No_Collect_Result'\n",
    "    , 'Production_Qty_Collect_Result', 'Judge_Value_OK'\n",
    "    , 'Workorder_0.9', 'Workorder_0.6'\n",
    "]"
   ]
  },
  {
   "cell_type": "code",
   "execution_count": 3,
   "id": "7d32b6fc",
   "metadata": {},
   "outputs": [],
   "source": [
    "# 공정 이름 필터링 후 공통 변수와 결합\n",
    "def create_dataset(train_data, test_data, process_name, com_variables_train, com_variables_test):\n",
    "    # 열 이름 필터링\n",
    "    Process_Desc_col = train_data.filter(like=process_name).columns\n",
    "    \n",
    "    # train 데이터셋 생성\n",
    "    final_columns_train = list(Process_Desc_col) + com_variables_train\n",
    "    train_dataset = train_data[final_columns_train]\n",
    "    \n",
    "    # test 데이터셋 생성\n",
    "    final_columns_test = list(Process_Desc_col) + com_variables_test\n",
    "    test_dataset = test_data[final_columns_test]\n",
    "    \n",
    "    return train_dataset, test_dataset\n",
    "\n",
    "# 공통 변수 정의\n",
    "## com_variables_train = [...]  -> 이전 코드에서 정의한 변수 사용\n",
    "## com_variables_test = [...]   -> 이전 코드에서 정의한 변수 사용\n",
    "\n",
    "# 데이터셋 생성\n",
    "train_data_dam, test_data_dam = create_dataset(train_data, test_data, '_Dam', com_variables_train, com_variables_test)\n",
    "train_data_fill1, test_data_fill1 = create_dataset(train_data, test_data, '_Fill1', com_variables_train, com_variables_test)\n",
    "train_data_fill2, test_data_fill2 = create_dataset(train_data, test_data, '_Fill2', com_variables_train, com_variables_test)\n",
    "train_data_autoclave, test_data_autoclave = create_dataset(train_data, test_data, '_AutoClave', com_variables_train, com_variables_test)"
   ]
  },
  {
   "cell_type": "markdown",
   "id": "ec45a10a",
   "metadata": {},
   "source": [
    "---"
   ]
  },
  {
   "cell_type": "markdown",
   "id": "5c4e5b59",
   "metadata": {},
   "source": [
    "## Optuna"
   ]
  },
  {
   "cell_type": "markdown",
   "id": "058f4f86",
   "metadata": {},
   "source": [
    "스레스홀드 0.3으로 맞춘상태에서 튜닝 진행한 것"
   ]
  },
  {
   "cell_type": "code",
   "execution_count": 4,
   "id": "f2608ab0",
   "metadata": {},
   "outputs": [
    {
     "name": "stderr",
     "output_type": "stream",
     "text": [
      "C:\\Users\\juneh\\AppData\\Roaming\\Python\\Python37\\site-packages\\ipykernel_launcher.py:7: SettingWithCopyWarning: \n",
      "A value is trying to be set on a copy of a slice from a DataFrame.\n",
      "Try using .loc[row_indexer,col_indexer] = value instead\n",
      "\n",
      "See the caveats in the documentation: https://pandas.pydata.org/pandas-docs/stable/user_guide/indexing.html#returning-a-view-versus-a-copy\n",
      "  import sys\n",
      "[I 2024-08-18 23:08:11,722] A new study created in memory with name: no-name-761275e2-6c15-4a59-94c7-a905e79eccdf\n",
      "[I 2024-08-18 23:08:20,114] Trial 0 finished with value: 0.23138297872340427 and parameters: {'iterations': 527, 'learning_rate': 0.2804593836111537, 'depth': 7, 'l2_leaf_reg': 0.8404950643051162, 'random_strength': 6.826956469952126, 'bagging_temperature': 6.85638497930364, 'border_count': 261, 'scale_pos_weight': 0.9460560575741956}. Best is trial 0 with value: 0.23138297872340427.\n",
      "[I 2024-08-18 23:08:34,498] Trial 1 finished with value: 0.23214285714285715 and parameters: {'iterations': 964, 'learning_rate': 0.08016171509650169, 'depth': 7, 'l2_leaf_reg': 0.19048347725606002, 'random_strength': 1.4404705911514528, 'bagging_temperature': 0.20004528881709918, 'border_count': 152, 'scale_pos_weight': 0.844813629486711}. Best is trial 1 with value: 0.23214285714285715.\n",
      "[I 2024-08-18 23:08:39,425] Trial 2 finished with value: 0.20146520146520147 and parameters: {'iterations': 423, 'learning_rate': 0.24582852433725222, 'depth': 3, 'l2_leaf_reg': 0.3268155584239249, 'random_strength': 3.2096391755877125, 'bagging_temperature': 7.728453151327917, 'border_count': 190, 'scale_pos_weight': 0.7921507187483865}. Best is trial 1 with value: 0.23214285714285715.\n",
      "[I 2024-08-18 23:08:48,486] Trial 3 finished with value: 0.20676691729323307 and parameters: {'iterations': 768, 'learning_rate': 0.05876555421557462, 'depth': 4, 'l2_leaf_reg': 2.5535167782493318, 'random_strength': 4.96200116248331, 'bagging_temperature': 2.5710844249446487, 'border_count': 223, 'scale_pos_weight': 0.8781630850877211}. Best is trial 1 with value: 0.23214285714285715.\n",
      "[I 2024-08-18 23:09:00,663] Trial 4 finished with value: 0.23456790123456794 and parameters: {'iterations': 824, 'learning_rate': 0.2754259310196551, 'depth': 5, 'l2_leaf_reg': 1.3102111209505352, 'random_strength': 0.49813981541744445, 'bagging_temperature': 6.039260026994052, 'border_count': 110, 'scale_pos_weight': 0.6742578373332273}. Best is trial 4 with value: 0.23456790123456794.\n"
     ]
    }
   ],
   "source": [
    "import optuna\n",
    "from catboost import CatBoostClassifier\n",
    "from sklearn.model_selection import train_test_split\n",
    "from sklearn.metrics import f1_score\n",
    "\n",
    "# 'Normal'과 'AbNormal'을 숫자로 변환\n",
    "train_data_autoclave['target'] = train_data_autoclave['target'].map({'Normal': 0, 'AbNormal': 1})\n",
    "\n",
    "# 스레드홀드 설정\n",
    "THRESHOLD = 0.3\n",
    "\n",
    "def objectiveCatBoost(trial, x_tr, y_tr, x_val, y_val):\n",
    "    param = {\n",
    "        'iterations': trial.suggest_int('iterations', 400, 1500),\n",
    "        'learning_rate': trial.suggest_float('learning_rate', 0.05, 0.4),\n",
    "        'depth': trial.suggest_int('depth', 3, 14),\n",
    "        'l2_leaf_reg': trial.suggest_float('l2_leaf_reg', 0.05, 5.0, log=True),\n",
    "        'random_strength': trial.suggest_float('random_strength', 0.1, 10.0),\n",
    "        'bagging_temperature': trial.suggest_float('bagging_temperature', 0.1, 10.0),\n",
    "        'border_count': trial.suggest_int('border_count', 70, 270),\n",
    "        'scale_pos_weight': trial.suggest_float('scale_pos_weight', 0.5, 1.2),\n",
    "\n",
    "        'random_seed': RANDOM_STATE,\n",
    "        'eval_metric': 'F1',\n",
    "        'logging_level': 'Silent',\n",
    "        'boosting_type': 'Plain'\n",
    "    }\n",
    "\n",
    "    model = CatBoostClassifier(**param)\n",
    "    model.fit(x_tr, y_tr)\n",
    "    pred_proba = model.predict_proba(x_val)[:, 1]  # 양성 클래스 확률\n",
    "    pred = (pred_proba >= THRESHOLD).astype(int)  # 스레드홀드에 따른 예측\n",
    "    \n",
    "    score = f1_score(y_val, pred, average=\"binary\")\n",
    "    \n",
    "    return score\n",
    "\n",
    "# 데이터셋 분할\n",
    "x_train, x_val, y_train, y_val = train_test_split(\n",
    "    train_data_autoclave.drop(\"target\", axis=1),\n",
    "    train_data_autoclave[\"target\"],\n",
    "    test_size=0.2,\n",
    "    shuffle=True,\n",
    "    random_state=RANDOM_STATE,\n",
    ")\n",
    "\n",
    "# 하이퍼 파라미터 튜닝\n",
    "study = optuna.create_study(direction='maximize', sampler=optuna.samplers.TPESampler(seed=RANDOM_STATE))\n",
    "study.optimize(lambda trial: objectiveCatBoost(trial, x_train, y_train, x_val, y_val), n_trials=200)\n",
    "\n",
    "print('Best trial: score {}, \\nparams {}'.format(study.best_trial.value, study.best_trial.params))\n"
   ]
  },
  {
   "cell_type": "markdown",
   "id": "34ecc88d",
   "metadata": {},
   "source": [
    "."
   ]
  }
 ],
 "metadata": {
  "kernelspec": {
   "display_name": "Python 3 (ipykernel)",
   "language": "python",
   "name": "python3"
  },
  "language_info": {
   "codemirror_mode": {
    "name": "ipython",
    "version": 3
   },
   "file_extension": ".py",
   "mimetype": "text/x-python",
   "name": "python",
   "nbconvert_exporter": "python",
   "pygments_lexer": "ipython3",
   "version": "3.7.8"
  }
 },
 "nbformat": 4,
 "nbformat_minor": 5
}

{
 "cells": [
  {
   "cell_type": "markdown",
   "id": "017e9265",
   "metadata": {},
   "source": [
    "# 제품 이상여부 판별 프로젝트\n"
   ]
  },
  {
   "cell_type": "markdown",
   "id": "acdab431",
   "metadata": {},
   "source": [
    "## 1. 데이터 불러오기\n"
   ]
  },
  {
   "cell_type": "markdown",
   "id": "2b8341e8",
   "metadata": {},
   "source": [
    "### 필수 라이브러리\n"
   ]
  },
  {
   "cell_type": "code",
   "execution_count": 1,
   "id": "5a5cd513",
   "metadata": {},
   "outputs": [],
   "source": [
    "import numpy as np\n",
    "import pandas as pd\n",
    "import optuna\n",
    "\n",
    "from sklearn.model_selection import train_test_split\n",
    "\n",
    "from sklearn.metrics import (\n",
    "    accuracy_score,\n",
    "    confusion_matrix,\n",
    "    f1_score,\n",
    "    precision_score,\n",
    "    recall_score,\n",
    ")\n",
    "\n",
    "def get_clf_eval(y_test, y_pred_proba, threshold=0.5):\n",
    "    # 확률을 기준으로 예측 레이블 생성\n",
    "    y_pred = (y_pred_proba >= threshold).astype(int)  # 0.5 이상의 확률을 양성으로 간주\n",
    "\n",
    "    confusion = confusion_matrix(y_test, y_pred)\n",
    "    accuracy = accuracy_score(y_test, y_pred)\n",
    "    precision = precision_score(y_test, y_pred)\n",
    "    recall = recall_score(y_test, y_pred)\n",
    "    f1 = f1_score(y_test, y_pred)\n",
    "\n",
    "    print(\"Confusion Matrix:\\n\", confusion)\n",
    "    print(f\"Accuracy: {accuracy:.4f}\")\n",
    "    print(f\"Precision: {precision:.4f}\")\n",
    "    print(f\"Recall: {recall:.4f}\")\n",
    "    print(f\"F1 Score: {f1:.4f}\")"
   ]
  },
  {
   "cell_type": "code",
   "execution_count": 2,
   "id": "03981606",
   "metadata": {},
   "outputs": [],
   "source": [
    "from sklearn.ensemble import ExtraTreesClassifier, RandomForestClassifier\n",
    "from catboost import CatBoostClassifier\n",
    "from lightgbm import LGBMClassifier\n",
    "from xgboost import XGBClassifier\n",
    "from sklearn.ensemble import AdaBoostClassifier\n",
    "from sklearn.tree import DecisionTreeClassifier"
   ]
  },
  {
   "cell_type": "markdown",
   "id": "4d054e30",
   "metadata": {},
   "source": [
    "### 데이터 읽어오기\n"
   ]
  },
  {
   "cell_type": "code",
   "execution_count": null,
   "id": "fc0b4d80",
   "metadata": {},
   "outputs": [],
   "source": [
    "THRESHOLD = 0.3\n",
    "RANDOM_STATE = 110\n",
    "\n",
    "## --- 해당하는 데이터로 변경해주기!! --- ##\n",
    "train_data = pd.read_csv(\"../data/train_data_0817.csv\")\n",
    "test_data = pd.read_csv(\"../data/test_data_0817.csv\")"
   ]
  },
  {
   "cell_type": "code",
   "execution_count": null,
   "id": "61d13d4b",
   "metadata": {},
   "outputs": [],
   "source": [
    "# dam, fill1, fill2 공통 변수\n",
    "var_dam_fill = [\n",
    "    'Equipment_same_num',\n",
    "    'PalletID_Collect_Result_encoded',\n",
    "    'Production_Qty_Collect_Result',\n",
    "    'WorkMode Collect Result'\n",
    "]"
   ]
  },
  {
   "cell_type": "code",
   "execution_count": null,
   "id": "3803747e",
   "metadata": {},
   "outputs": [],
   "source": [
    "# 전체 공통 변수\n",
    "### correlation 확인을 위한 변수 리스트\n",
    "var_all_corr = [\n",
    "    'model_receip_encoded',\n",
    "    'workorder_receip_encoded'\n",
    "]\n",
    "\n",
    "### train\n",
    "var_all_train = [\n",
    "    'target',\n",
    "    'model_receip_encoded',\n",
    "    'workorder_receip_encoded'\n",
    "]\n",
    "\n",
    "### test\n",
    "var_all_test = [\n",
    "    'Set ID',\n",
    "    'target',\n",
    "    'model_receip_encoded',\n",
    "    'workorder_receip_encoded'\n",
    "]"
   ]
  },
  {
   "cell_type": "code",
   "execution_count": null,
   "id": "207e8305",
   "metadata": {},
   "outputs": [],
   "source": [
    "# '_Dam'을 포함하는 변수 선택\n",
    "dam_variables = [var for var in train_data.columns if '_Dam' in var]\n",
    "\n",
    "# train\n",
    "final_columns_train = var_dam_fill + var_all_train + dam_variables\n",
    "train_data_dam = train_data[final_columns_train]\n",
    "\n",
    "# test \n",
    "final_columns_test = var_dam_fill + var_all_test + dam_variables\n",
    "test_data_dam = test_data[final_columns_test]"
   ]
  },
  {
   "cell_type": "code",
   "execution_count": null,
   "id": "c666baa8",
   "metadata": {},
   "outputs": [],
   "source": [
    "# '_Fill1'을 포함하는 변수 선택\n",
    "fill1_variables = [var for var in train_data.columns if '_Fill1' in var]\n",
    "\n",
    "# train\n",
    "final_columns_train = var_dam_fill + var_all_train + fill1_variables\n",
    "train_data_fill1 = train_data[final_columns_train]\n",
    "\n",
    "# test \n",
    "final_columns_test = var_dam_fill + var_all_test + fill1_variables\n",
    "test_data_fill1 = test_data[final_columns_test]"
   ]
  },
  {
   "cell_type": "code",
   "execution_count": null,
   "id": "99f6c217",
   "metadata": {},
   "outputs": [],
   "source": [
    "# '_Fill2'을 포함하는 변수 선택\n",
    "fill2_variables = [var for var in train_data.columns if '_Fill2' in var]\n",
    "\n",
    "# train\n",
    "final_columns_train = var_dam_fill + var_all_train + fill2_variables\n",
    "train_data_fill2 = train_data[final_columns_train]\n",
    "\n",
    "# test \n",
    "final_columns_test = var_dam_fill + var_all_test + fill2_variables\n",
    "test_data_fill2 = test_data[final_columns_test]"
   ]
  },
  {
   "cell_type": "code",
   "execution_count": null,
   "id": "8f031d29",
   "metadata": {},
   "outputs": [],
   "source": [
    "# '_AutoClave'을 포함하는 변수 선택\n",
    "autoclave_variables = [var for var in train_data.columns if '_AutoClave' in var]\n",
    "\n",
    "# train\n",
    "final_columns_train = var_all_train + autoclave_variables\n",
    "train_data_autoclave = train_data[final_columns_train]\n",
    "\n",
    "# test \n",
    "final_columns_test = var_all_test + autoclave_variables\n",
    "test_data_autoclave = test_data[final_columns_test]"
   ]
  },
  {
   "cell_type": "markdown",
   "id": "ec45a10a",
   "metadata": {},
   "source": [
    "---"
   ]
  },
  {
   "cell_type": "markdown",
   "id": "5c4e5b59",
   "metadata": {},
   "source": [
    "## 3. 모델 학습"
   ]
  },
  {
   "cell_type": "markdown",
   "id": "c2e56224",
   "metadata": {},
   "source": [
    "### optuna"
   ]
  },
  {
   "cell_type": "markdown",
   "id": "3dc134a0",
   "metadata": {},
   "source": [
    "1. lightgbm"
   ]
  },
  {
   "cell_type": "code",
   "execution_count": null,
   "id": "5a75b432",
   "metadata": {},
   "outputs": [],
   "source": [
    "def objectiveLGBM_dart(trial, x_tr, y_tr, x_val, y_val):\n",
    "    \n",
    "    # 'Normal'과 'AbNormal'을 숫자로 변환\n",
    "    y_tr = y_tr.map({'Normal': 0, 'AbNormal': 1})\n",
    "    y_val = y_val.map({'Normal': 0, 'AbNormal': 1})\n",
    "    \n",
    "    param = {\n",
    "        'n_estimators': trial.suggest_int('n_estimators', 500, 3000),\n",
    "        'num_leaves': trial.suggest_int('num_leaves', 500, 3000),\n",
    "        'max_depth': trial.suggest_int('max_depth', 10, 300),\n",
    "        'learning_rate': trial.suggest_float('learning_rate', 0.001, 0.1),\n",
    "        'min_child_samples': trial.suggest_int('min_child_samples', 3, 300),\n",
    "        'boosting_type': 'dart', \n",
    "        'random_state': RANDOM_STATE,\n",
    "        'verbose': -1\n",
    "    }\n",
    "       \n",
    "    model = LGBMClassifier(**param)\n",
    "    model.fit(x_tr, y_tr)\n",
    "    pred_proba = model.predict_proba(x_val)[:, 1]  # 양성 클래스 확률\n",
    "    pred = (pred_proba >= THRESHOLD).astype(int)  # 스레드홀드에 따른 예측\n",
    "    \n",
    "    score = f1_score(y_val, pred, average=\"binary\")\n",
    "    \n",
    "    return score\n",
    "\n",
    "# 데이터셋 분할\n",
    "x_train, x_val, y_train, y_val = train_test_split(\n",
    "    train_data.drop(\"target\", axis=1), # <--- 해당하는 데이터로 변경해주기!!\n",
    "    train_data[\"target\"],              # <--- 해당하는 데이터로 변경해주기!!\n",
    "    test_size=0.2,\n",
    "    shuffle=True,\n",
    "    random_state=RANDOM_STATE,\n",
    ")\n",
    "\n",
    "# 하이퍼 파라미터 튜닝\n",
    "study = optuna.create_study(direction='maximize', sampler=optuna.samplers.TPESampler(seed=RANDOM_STATE))\n",
    "study.optimize(lambda trial: objectiveLGBM_dart(trial, x_train, y_train, x_val, y_val), n_trials=300)\n",
    "\n",
    "print('Best trial: score {}, \\nparams {}'.format(study.best_trial.value, study.best_trial.params))"
   ]
  },
  {
   "cell_type": "markdown",
   "id": "aa857a77",
   "metadata": {},
   "source": [
    "2. xgboost"
   ]
  },
  {
   "cell_type": "code",
   "execution_count": null,
   "id": "ab290efb",
   "metadata": {},
   "outputs": [],
   "source": [
    "def objectiveXGB(trial, x_tr, y_tr, x_val, y_val):\n",
    "    \n",
    "    # 'Normal'과 'AbNormal'을 숫자로 변환\n",
    "    y_tr = y_tr.map({'Normal': 0, 'AbNormal': 1})\n",
    "    y_val = y_val.map({'Normal': 0, 'AbNormal': 1})\n",
    "\n",
    "    param = {\n",
    "        'n_estimators': trial.suggest_int('n_estimators', 1200, 3200)\n",
    "        , 'learning_rate': trial.suggest_float('learning_rate', 0.002, 0.2)\n",
    "        , 'max_depth': trial.suggest_int('max_depth', 3, 10)\n",
    "\n",
    "        , 'alpha': trial.suggest_float('alpha', 0.00001, 0.01, log=True)\n",
    "        , 'gamma': trial.suggest_float('gamma', 0.00001, 0.01, log=True)\n",
    "\n",
    "        , 'reg_alpha' : trial.suggest_float('reg_alpha', 0.01, 1)\n",
    "        , 'reg_lambda' : trial.suggest_float('reg_lambda', 0.01, 1)\n",
    "        \n",
    "        , 'colsample_bytree' : trial.suggest_float('colsample_bytree', 0.01, 1)\n",
    "        , 'subsample' : trial.suggest_float('subsample', 0.03, 1)\n",
    "        , 'objective': 'binary:logistic'  \n",
    "        , 'tree_method' : \"exact\"        \n",
    "        , 'random_state': RANDOM_STATE\n",
    "    }\n",
    "       \n",
    "    model = XGBClassifier(**param)\n",
    "    model.fit(x_tr, y_tr)\n",
    "    pred_proba = model.predict_proba(x_val)[:, 1]  # 양성 클래스 확률\n",
    "    pred = (pred_proba >= THRESHOLD).astype(int)  # 스레드홀드에 따른 예측\n",
    "    \n",
    "    score = f1_score(y_val, pred, average=\"binary\")\n",
    "    \n",
    "    return score\n",
    "\n",
    "# 데이터셋 분할\n",
    "x_train, x_val, y_train, y_val = train_test_split(\n",
    "    train_data.drop(\"target\", axis=1),  # <--- 해당하는 데이터로 변경해주기!!\n",
    "    train_data[\"target\"],               # <--- 해당하는 데이터로 변경해주기!!\n",
    "    test_size=0.2,\n",
    "    shuffle=True,\n",
    "    random_state=RANDOM_STATE,\n",
    ")\n",
    "\n",
    "# 하이퍼 파라미터 튜닝\n",
    "study = optuna.create_study(direction='maximize', sampler=optuna.samplers.TPESampler(seed=RANDOM_STATE))\n",
    "study.optimize(lambda trial: objectiveXGB(trial, x_train, y_train, x_val, y_val), n_trials=200)\n",
    "\n",
    "print('Best trial: score {}, \\nparams {}'.format(study.best_trial.value, study.best_trial.params))\n"
   ]
  },
  {
   "cell_type": "markdown",
   "id": "fef424b5",
   "metadata": {},
   "source": [
    "3. catboost"
   ]
  },
  {
   "cell_type": "code",
   "execution_count": null,
   "id": "8f9a82a8",
   "metadata": {},
   "outputs": [],
   "source": [
    "def objectiveCatBoost(trial, x_tr, y_tr, x_val, y_val):\n",
    "    \n",
    "    # 'Normal'과 'AbNormal'을 숫자로 변환\n",
    "    y_tr = y_tr.map({'Normal': 0, 'AbNormal': 1})\n",
    "    y_val = y_val.map({'Normal': 0, 'AbNormal': 1})\n",
    "    \n",
    "    param = {\n",
    "        'iterations': trial.suggest_int('iterations', 400, 1500),\n",
    "        'learning_rate': trial.suggest_float('learning_rate', 0.05, 0.4),\n",
    "        'depth': trial.suggest_int('depth', 3, 14),\n",
    "        'l2_leaf_reg': trial.suggest_float('l2_leaf_reg', 0.05, 5.0, log=True),\n",
    "        'random_strength': trial.suggest_float('random_strength', 0.1, 10.0),\n",
    "        'bagging_temperature': trial.suggest_float('bagging_temperature', 0.1, 10.0),\n",
    "        'border_count': trial.suggest_int('border_count', 70, 270),\n",
    "        'scale_pos_weight': trial.suggest_float('scale_pos_weight', 0.5, 1.2),\n",
    "\n",
    "        'random_seed': RANDOM_STATE,\n",
    "        'eval_metric': 'F1',\n",
    "        'logging_level': 'Silent',\n",
    "        'boosting_type': 'Plain'\n",
    "    }\n",
    "\n",
    "    model = CatBoostClassifier(**param)\n",
    "    model.fit(x_tr, y_tr)\n",
    "    pred_proba = model.predict_proba(x_val)[:, 1]  # 양성 클래스 확률\n",
    "    pred = (pred_proba >= THRESHOLD).astype(int)  # 스레드홀드에 따른 예측\n",
    "    \n",
    "    score = f1_score(y_val, pred, average=\"binary\")\n",
    "    \n",
    "    return score\n",
    "\n",
    "# 데이터셋 분할\n",
    "x_train, x_val, y_train, y_val = train_test_split(\n",
    "    train_data.drop(\"target\", axis=1),  # <--- 해당하는 데이터로 변경해주기!!\n",
    "    train_data[\"target\"],               # <--- 해당하는 데이터로 변경해주기!!\n",
    "    test_size=0.2,\n",
    "    shuffle=True,\n",
    "    random_state=RANDOM_STATE,\n",
    ")\n",
    "\n",
    "# 하이퍼 파라미터 튜닝\n",
    "study = optuna.create_study(direction='maximize', sampler=optuna.samplers.TPESampler(seed=RANDOM_STATE))\n",
    "study.optimize(lambda trial: objectiveCatBoost(trial, x_train, y_train, x_val, y_val), n_trials=100)\n",
    "\n",
    "print('Best trial: score {}, \\nparams {}'.format(study.best_trial.value, study.best_trial.params))\n"
   ]
  },
  {
   "cell_type": "markdown",
   "id": "30b26796",
   "metadata": {},
   "source": [
    "4. randomforest"
   ]
  },
  {
   "cell_type": "code",
   "execution_count": null,
   "id": "c6a92217",
   "metadata": {},
   "outputs": [],
   "source": [
    "def objectiveRandomForestClassifier(trial, x_tr, y_tr, x_val, y_val):\n",
    "    \n",
    "    # 'Normal'과 'AbNormal'을 숫자로 변환\n",
    "    y_tr = y_tr.map({'Normal': 0, 'AbNormal': 1})\n",
    "    y_val = y_val.map({'Normal': 0, 'AbNormal': 1})\n",
    "    \n",
    "    param = {\n",
    "        'n_estimators': trial.suggest_int('n_estimators', 1000, 2500)\n",
    "        , 'max_depth': trial.suggest_int('max_depth', 2, 50)\n",
    "        , 'min_samples_split': trial.suggest_int('min_samples_split', 2, 12)\n",
    "        , 'min_samples_leaf': trial.suggest_int('min_samples_leaf', 1, 7)\n",
    "        , 'criterion': trial.suggest_categorical('criterion', ['entropy'])\n",
    "        , 'bootstrap': trial.suggest_categorical('bootstrap', [False])\n",
    "        , 'random_state': RANDOM_STATE\n",
    "    }\n",
    "    \n",
    "    model = RandomForestClassifier(**param)\n",
    "    model.fit(x_tr, y_tr)\n",
    "    pred = model.predict(x_val)\n",
    "    score = f1_score(y_val, pred, average=\"binary\")\n",
    "    \n",
    "    return score\n",
    "\n",
    "# 데이터셋 분할\n",
    "x_train, x_val, y_train, y_val = train_test_split(\n",
    "    train_data.drop(\"target\", axis=1),  # <--- 해당하는 데이터로 변경해주기!!\n",
    "    train_data[\"target\"],               # <--- 해당하는 데이터로 변경해주기!!\n",
    "    test_size=0.2,\n",
    "    shuffle=True,\n",
    "    random_state=RANDOM_STATE,\n",
    ")\n",
    "\n",
    "# 하이퍼 파라미터 튜닝\n",
    "study = optuna.create_study(direction='maximize', sampler=optuna.samplers.TPESampler(seed=RANDOM_STATE))\n",
    "study.optimize(lambda trial: objectiveRandomForestClassifier(trial, x_train, y_train, x_val, y_val), n_trials=200)\n",
    "\n",
    "print('Best trial: score {}, \\nparams {}'.format(study.best_trial.value, study.best_trial.params))"
   ]
  },
  {
   "cell_type": "markdown",
   "id": "4d04b824",
   "metadata": {},
   "source": [
    "5. extra tree"
   ]
  },
  {
   "cell_type": "code",
   "execution_count": null,
   "id": "c80be75e",
   "metadata": {},
   "outputs": [],
   "source": [
    "\n",
    "def objectiveExtraTreesClassifier(trial, x_tr, y_tr, x_val, y_val):\n",
    "    \n",
    "    # 'Normal'과 'AbNormal'을 숫자로 변환\n",
    "    y_tr = y_tr.map({'Normal': 0, 'AbNormal': 1})\n",
    "    y_val = y_val.map({'Normal': 0, 'AbNormal': 1})\n",
    "    \n",
    "    param = {\n",
    "        'n_estimators': trial.suggest_int('n_estimators', 1000, 2500)\n",
    "        , 'max_depth': trial.suggest_int('max_depth', 2, 50)\n",
    "        , 'min_samples_split': trial.suggest_int('min_samples_split', 2, 12)\n",
    "        , 'min_samples_leaf': trial.suggest_int('min_samples_leaf', 1, 7)\n",
    "        , 'criterion': trial.suggest_categorical('criterion', ['entropy'])\n",
    "        , 'bootstrap': trial.suggest_categorical('bootstrap', [False])\n",
    "        , 'random_state': RANDOM_STATE\n",
    "    }\n",
    "    \n",
    "    model = ExtraTreesClassifier(**param)\n",
    "    model.fit(x_tr, y_tr)\n",
    "    pred = model.predict(x_val)\n",
    "    score = f1_score(y_val, pred, average=\"binary\")\n",
    "    \n",
    "    return score\n",
    "\n",
    "# 데이터셋 분할\n",
    "x_train, x_val, y_train, y_val = train_test_split(\n",
    "    train_data.drop(\"target\", axis=1),  # <--- 해당하는 데이터로 변경해주기!!\n",
    "    train_data[\"target\"],               # <--- 해당하는 데이터로 변경해주기!!\n",
    "    test_size=0.2,\n",
    "    shuffle=True,\n",
    "    random_state=RANDOM_STATE,\n",
    ")\n",
    "\n",
    "# 하이퍼 파라미터 튜닝\n",
    "study = optuna.create_study(direction='maximize', sampler=optuna.samplers.TPESampler(seed=RANDOM_STATE))\n",
    "study.optimize(lambda trial: objectiveExtraTreesClassifier(trial, x_train, y_train, x_val, y_val), n_trials=400)\n",
    "\n",
    "print('Best trial: score {}, \\nparams {}'.format(study.best_trial.value, study.best_trial.params))\n"
   ]
  },
  {
   "cell_type": "markdown",
   "id": "9238c03b",
   "metadata": {},
   "source": [
    "6. adaboost"
   ]
  },
  {
   "cell_type": "code",
   "execution_count": null,
   "id": "f0ca6b2d",
   "metadata": {},
   "outputs": [],
   "source": [
    "def objectiveAdaBoost(trial, x_tr, y_tr, x_val, y_val):\n",
    "    \n",
    "    # 'Normal'과 'AbNormal'을 숫자로 변환\n",
    "    y_tr = y_tr.map({'Normal': 0, 'AbNormal': 1})\n",
    "    y_val = y_val.map({'Normal': 0, 'AbNormal': 1})\n",
    "\n",
    "    # Base Estimator 설정\n",
    "    base_estimator = DecisionTreeClassifier(\n",
    "        max_depth=trial.suggest_int('max_depth', 1, 10),\n",
    "        min_samples_split=trial.suggest_int('min_samples_split', 2, 20),\n",
    "        min_samples_leaf=trial.suggest_int('min_samples_leaf', 1, 20),\n",
    "        max_features=trial.suggest_float('max_features', 0.1, 1.0),\n",
    "        random_state=RANDOM_STATE  \n",
    "    )\n",
    "\n",
    "    # AdaBoost 모델 설정\n",
    "    param = {\n",
    "        'n_estimators': trial.suggest_int('n_estimators', 50, 500),\n",
    "        'learning_rate': trial.suggest_float('learning_rate', 0.01, 1.0),\n",
    "        'base_estimator': base_estimator,\n",
    "        'random_state': RANDOM_STATE  \n",
    "    }\n",
    "    \n",
    "    model = AdaBoostClassifier(**param)\n",
    "    model.fit(x_tr, y_tr)\n",
    "    pred = model.predict(x_val)\n",
    "    score = f1_score(y_val, pred, average=\"binary\")\n",
    "    \n",
    "    return score\n",
    "\n",
    "# 데이터셋 분할\n",
    "x_train, x_val, y_train, y_val = train_test_split(\n",
    "    train_data.drop(\"target\", axis=1),  # <--- 해당하는 데이터로 변경해주기!!\n",
    "    train_data[\"target\"],               # <--- 해당하는 데이터로 변경해주기!!\n",
    "    test_size=0.2,\n",
    "    shuffle=True,\n",
    "    random_state=RANDOM_STATE,\n",
    ")\n",
    "\n",
    "# 하이퍼 파라미터 튜닝\n",
    "study = optuna.create_study(direction='maximize', sampler=optuna.samplers.TPESampler(seed=RANDOM_STATE))\n",
    "study.optimize(lambda trial: objectiveAdaBoost(trial, x_train, y_train, x_val, y_val), n_trials=100)\n",
    "\n",
    "print('Best trial: score {}, \\nparams {}'.format(study.best_trial.value, study.best_trial.params))\n"
   ]
  },
  {
   "cell_type": "markdown",
   "id": "1b4418c3",
   "metadata": {},
   "source": [
    "."
   ]
  }
 ],
 "metadata": {
  "kernelspec": {
   "display_name": "Python 3 (ipykernel)",
   "language": "python",
   "name": "python3"
  },
  "language_info": {
   "codemirror_mode": {
    "name": "ipython",
    "version": 3
   },
   "file_extension": ".py",
   "mimetype": "text/x-python",
   "name": "python",
   "nbconvert_exporter": "python",
   "pygments_lexer": "ipython3",
   "version": "3.7.8"
  }
 },
 "nbformat": 4,
 "nbformat_minor": 5
}

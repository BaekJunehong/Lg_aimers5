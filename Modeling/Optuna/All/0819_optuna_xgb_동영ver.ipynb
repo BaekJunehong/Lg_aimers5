{
 "cells": [
  {
   "cell_type": "markdown",
   "id": "017e9265",
   "metadata": {},
   "source": [
    "# 제품 이상여부 판별 프로젝트\n"
   ]
  },
  {
   "cell_type": "markdown",
   "id": "acdab431",
   "metadata": {},
   "source": [
    "## 1. 데이터 불러오기\n"
   ]
  },
  {
   "cell_type": "markdown",
   "id": "2b8341e8",
   "metadata": {},
   "source": [
    "### 필수 라이브러리\n"
   ]
  },
  {
   "cell_type": "code",
   "execution_count": 6,
   "id": "f13e5267",
   "metadata": {},
   "outputs": [],
   "source": [
    "import os\n",
    "from pprint import pprint\n",
    "\n",
    "import optuna\n",
    "import numpy as np\n",
    "import pandas as pd\n",
    "import seaborn as sns\n",
    "import matplotlib.pyplot as plt\n",
    "\n",
    "from sklearn.tree import DecisionTreeClassifier\n",
    "from lightgbm import LGBMClassifier\n",
    "from sklearn.ensemble import RandomForestClassifier, ExtraTreesClassifier\n",
    "from xgboost import XGBClassifier\n",
    "from catboost import CatBoostClassifier\n",
    "from sklearn.ensemble import AdaBoostClassifier\n",
    "\n",
    "from sklearn.metrics import (\n",
    "    accuracy_score,\n",
    "    classification_report,\n",
    "    confusion_matrix,\n",
    "    f1_score,\n",
    "    precision_score,\n",
    "    recall_score,\n",
    ")\n",
    "from sklearn.model_selection import train_test_split\n",
    "from tqdm import tqdm"
   ]
  },
  {
   "cell_type": "code",
   "execution_count": 7,
   "id": "5a5cd513",
   "metadata": {},
   "outputs": [],
   "source": [
    "\n",
    "\n",
    "def get_clf_eval(y_test, y_pred_proba, threshold=0.5):\n",
    "    # 확률을 기준으로 예측 레이블 생성\n",
    "    y_pred = (y_pred_proba >= threshold).astype(int)  # 0.5 이상의 확률을 양성으로 간주\n",
    "\n",
    "    confusion = confusion_matrix(y_test, y_pred)\n",
    "    accuracy = accuracy_score(y_test, y_pred)\n",
    "    precision = precision_score(y_test, y_pred)\n",
    "    recall = recall_score(y_test, y_pred)\n",
    "    f1 = f1_score(y_test, y_pred)\n",
    "\n",
    "    print(\"Confusion Matrix:\\n\", confusion)\n",
    "    print(f\"Accuracy: {accuracy:.4f}\")\n",
    "    print(f\"Precision: {precision:.4f}\")\n",
    "    print(f\"Recall: {recall:.4f}\")\n",
    "    print(f\"F1 Score: {f1:.4f}\")"
   ]
  },
  {
   "cell_type": "markdown",
   "id": "4d054e30",
   "metadata": {},
   "source": [
    "### 데이터 읽어오기\n"
   ]
  },
  {
   "cell_type": "code",
   "execution_count": 8,
   "id": "fc0b4d80",
   "metadata": {},
   "outputs": [],
   "source": [
    "RANDOM_STATE = 110\n",
    "\n",
    "# csv 불러오기\n",
    "train_data = pd.read_csv('C:/Users/KimDongyoung/Desktop/git_LGaimers5/Lg_aimers5/data/train_data_0817.csv')\n",
    "test_data  = pd.read_csv('C:/Users/KimDongyoung/Desktop/git_LGaimers5/Lg_aimers5/data/test_data_0817.csv')"
   ]
  },
  {
   "cell_type": "markdown",
   "id": "ec45a10a",
   "metadata": {},
   "source": [
    "---"
   ]
  },
  {
   "cell_type": "markdown",
   "id": "4276e6df",
   "metadata": {},
   "source": [
    "## 데이터 분할"
   ]
  },
  {
   "cell_type": "code",
   "execution_count": 9,
   "id": "314cbecd",
   "metadata": {},
   "outputs": [
    {
     "name": "stdout",
     "output_type": "stream",
     "text": [
      "  \tAbnormal\tNormal\n",
      "  Total: Normal: 30524, AbNormal: 1880 ratio: 0.06159087930808544\n",
      "  Total: Normal: 7632, AbNormal: 470 ratio: 0.061582809224318656\n"
     ]
    }
   ],
   "source": [
    "df_train, df_val = train_test_split(\n",
    "    train_data,\n",
    "    test_size=0.2,\n",
    "    stratify=train_data[\"target\"],\n",
    "    shuffle=True,\n",
    "    random_state=RANDOM_STATE,\n",
    ")\n",
    "\n",
    "def print_stats(df: pd.DataFrame):\n",
    "    num_normal = len(df[df[\"target\"] == \"Normal\"])\n",
    "    num_abnormal = len(df[df[\"target\"] == \"AbNormal\"])\n",
    "\n",
    "    print(f\"  Total: Normal: {num_normal}, AbNormal: {num_abnormal}\" + f\" ratio: {num_abnormal/num_normal}\")\n",
    "\n",
    "\n",
    "# Print statistics\n",
    "print(f\"  \\tAbnormal\\tNormal\")\n",
    "print_stats(df_train)\n",
    "print_stats(df_val)"
   ]
  },
  {
   "cell_type": "markdown",
   "id": "5c4e5b59",
   "metadata": {},
   "source": [
    "## 3. 모델 학습"
   ]
  },
  {
   "cell_type": "markdown",
   "id": "cfaa06da",
   "metadata": {},
   "source": [
    "### 모델 정의"
   ]
  },
  {
   "cell_type": "markdown",
   "id": "c2e56224",
   "metadata": {},
   "source": [
    "optuna"
   ]
  },
  {
   "cell_type": "code",
   "execution_count": 10,
   "id": "8ec04f21",
   "metadata": {},
   "outputs": [],
   "source": [
    "# import optuna\n",
    "# from xgboost import XGBClassifier\n",
    "\n",
    "# # 'Normal'과 'AbNormal'을 숫자로 변환\n",
    "# train_data['target'] = train_data['target'].map({'Normal': 0, 'AbNormal': 1})\n",
    "\n",
    "# # 스레드홀드 설정\n",
    "# THRESHOLD = 0.3\n",
    "\n",
    "# def objectiveXGB(trial, x_tr, y_tr, x_val, y_val):\n",
    "#     param = {\n",
    "#         'n_estimators': trial.suggest_int('n_estimators', 1200, 3200)\n",
    "#         , 'learning_rate': trial.suggest_float('learning_rate', 0.002, 0.2)\n",
    "#         , 'max_depth': trial.suggest_int('max_depth', 3, 10)\n",
    "\n",
    "#         , 'alpha': trial.suggest_float('alpha', 0.00001, 0.01, log=True)\n",
    "#         , 'gamma': trial.suggest_float('gamma', 0.00001, 0.01, log=True)\n",
    "\n",
    "#         , 'reg_alpha' : trial.suggest_float('reg_alpha', 0.01, 1)\n",
    "#         , 'reg_lambda' : trial.suggest_float('reg_lambda', 0.01, 1)\n",
    "        \n",
    "#         , 'colsample_bytree' : trial.suggest_float('colsample_bytree', 0.01, 1)\n",
    "#         , 'subsample' : trial.suggest_float('subsample', 0.03, 1)\n",
    "#         , 'objective': 'binary:logistic'  # 이진 분류\n",
    "#         , 'tree_method' : \"exact\"        \n",
    "#         , 'random_state': RANDOM_STATE\n",
    "#     }\n",
    "       \n",
    "#     model = XGBClassifier(**param)\n",
    "#     model.fit(x_tr, y_tr)\n",
    "#     pred_proba = model.predict_proba(x_val)[:, 1]  # 양성 클래스 확률\n",
    "#     pred = (pred_proba >= THRESHOLD).astype(int)  # 스레드홀드에 따른 예측\n",
    "    \n",
    "#     score = f1_score(y_val, pred, average=\"binary\")\n",
    "    \n",
    "#     return score\n",
    "\n",
    "# # 데이터셋 분할\n",
    "# x_train, x_val, y_train, y_val = train_test_split(\n",
    "#     train_data.drop(\"target\", axis=1),\n",
    "#     train_data[\"target\"],\n",
    "#     test_size=0.2,\n",
    "#     shuffle=True,\n",
    "#     random_state=RANDOM_STATE,\n",
    "# )\n",
    "\n",
    "# # 하이퍼 파라미터 튜닝\n",
    "# study = optuna.create_study(direction='maximize', sampler=optuna.samplers.TPESampler(seed=RANDOM_STATE))\n",
    "# study.optimize(lambda trial: objectiveXGB(trial, x_train, y_train, x_val, y_val), n_trials=500)\n",
    "\n",
    "# print('Best trial: score {}, \\nparams {}'.format(study.best_trial.value, study.best_trial.params))\n"
   ]
  },
  {
   "cell_type": "markdown",
   "id": "3d642f6e",
   "metadata": {},
   "source": [
    "Best trial: score 0.26099290780141843\n",
    "\n",
    "params {'n_estimators': 2287, 'learning_rate': 0.046904208411195795, 'max_depth': 8, 'alpha': 1.9343531171735368e-05, 'gamma': 0.002118564280859176, 'reg_alpha': 0.6827713868263061, 'reg_lambda': 0.05035980721174918, 'colsample_bytree': 0.8959193125044248, 'subsample': 0.43471952905681815}"
   ]
  },
  {
   "cell_type": "code",
   "execution_count": 11,
   "id": "94f59424",
   "metadata": {},
   "outputs": [],
   "source": [
    "# 스레드홀드 설정\n",
    "THRESHOLD = 0.3\n",
    "\n",
    "# 모델 설정 및 하이퍼파라미터\n",
    "models = {\n",
    "    'et': ExtraTreesClassifier(),\n",
    "    'rf': RandomForestClassifier(),\n",
    "    'cat': CatBoostClassifier(),\n",
    "    'lgbm': LGBMClassifier(),\n",
    "    'xgb': XGBClassifier(),\n",
    "    'dt': DecisionTreeClassifier()\n",
    "}\n",
    "\n",
    "def train_and_evaluate_model(model_name, data, **params):\n",
    "    if model_name not in models:\n",
    "        print(f\"{model_name}은(는) 지원되지 않는 모델입니다.\")\n",
    "        return\n",
    "    \n",
    "    # 데이터셋 분할\n",
    "    x_train, x_val, y_train, y_val = train_test_split(\n",
    "        data.drop(\"target\", axis=1),\n",
    "        data[\"target\"].map({'Normal': 0, 'AbNormal': 1}),\n",
    "        test_size=0.2,\n",
    "        shuffle=True,\n",
    "        random_state=RANDOM_STATE,\n",
    "    )\n",
    "\n",
    "    # 모델 선택\n",
    "    model = models[model_name]\n",
    "\n",
    "    # 하이퍼파라미터 설정\n",
    "    model.set_params(**params)\n",
    "\n",
    "    # 모델 학습\n",
    "    model.fit(x_train, y_train)\n",
    "\n",
    "    # 데이터 이름을 자동으로 추출하기 위한 래퍼 함수\n",
    "    data_name = [name for name in globals() if globals()[name] is data][0]\n",
    "\n",
    "    # 예측\n",
    "    y_val_pred_proba = model.predict_proba(x_val)[:, 1]  # 양성 클래스 확률\n",
    "    y_val_pred = (y_val_pred_proba >= THRESHOLD).astype(int)  # 스레드홀드에 따른 예측\n",
    "\n",
    "    # 평가지표 계산\n",
    "    f1 = f1_score(y_val, y_val_pred, average=\"binary\")\n",
    "    accuracy = accuracy_score(y_val, y_val_pred)\n",
    "    precision = precision_score(y_val, y_val_pred)\n",
    "    recall = recall_score(y_val, y_val_pred)\n",
    "    conf_matrix = confusion_matrix(y_val, y_val_pred)\n",
    "    \n",
    "    # 결과 출력\n",
    "    print(f'{model_name} 모델이 {data_name} 데이터로 학습한 결과:')\n",
    "    print(f'F1 Score: {f1}')\n",
    "    print('---')\n",
    "    print('Confusion Matrix:')\n",
    "    print(conf_matrix)\n",
    "    print('---')\n",
    "    print(f'Accuracy: {accuracy}')\n",
    "    print(f'Precision: {precision}')\n",
    "    print(f'Recall: {recall}')\n",
    "    print('\\n')"
   ]
  },
  {
   "cell_type": "code",
   "execution_count": 12,
   "id": "1a8051d6",
   "metadata": {},
   "outputs": [
    {
     "name": "stdout",
     "output_type": "stream",
     "text": [
      "xgb 모델이 train_data 데이터로 학습한 결과:\n",
      "F1 Score: 0.26099290780141843\n",
      "---\n",
      "Confusion Matrix:\n",
      "[[7489  173]\n",
      " [ 348   92]]\n",
      "---\n",
      "Accuracy: 0.93569489015058\n",
      "Precision: 0.3471698113207547\n",
      "Recall: 0.20909090909090908\n",
      "\n",
      "\n"
     ]
    }
   ],
   "source": [
    "train_and_evaluate_model(\n",
    "    'xgb', train_data,\n",
    "    n_estimators = 2287, \n",
    "    learning_rate = 0.046904208411195795, \n",
    "    max_depth = 8, \n",
    "    alpha = 1.9343531171735368e-05, \n",
    "    gamma = 0.002118564280859176, \n",
    "    reg_alpha = 0.6827713868263061, \n",
    "    reg_lambda = 0.05035980721174918, \n",
    "    colsample_bytree = 0.8959193125044248, \n",
    "    subsample = 0.43471952905681815,\n",
    "    objective = 'binary:logistic',  # 이진 분류\n",
    "    tree_method = \"exact\", \n",
    "    random_state=RANDOM_STATE\n",
    ")"
   ]
  },
  {
   "cell_type": "code",
   "execution_count": 13,
   "id": "0ed39004",
   "metadata": {},
   "outputs": [],
   "source": [
    "# import optuna\n",
    "# from xgboost import XGBClassifier\n",
    "\n",
    "# # 'Normal'과 'AbNormal'을 숫자로 변환\n",
    "# train_data['target'] = train_data['target'].map({'Normal': 0, 'AbNormal': 1})\n",
    "\n",
    "# # 스레드홀드 설정\n",
    "# THRESHOLD = 0.3\n",
    "\n",
    "# def objectiveXGB(trial, x_tr, y_tr, x_val, y_val):\n",
    "#     param = {\n",
    "#         'n_estimators': trial.suggest_int('n_estimators', 1200, 3800)\n",
    "#         , 'learning_rate': trial.suggest_float('learning_rate', 0.002, 0.2)\n",
    "#         , 'max_depth': trial.suggest_int('max_depth', 5, 16)\n",
    "\n",
    "#         , 'alpha': trial.suggest_float('alpha', 0.00001, 0.01, log=True)\n",
    "#         , 'gamma': trial.suggest_float('gamma', 0.00001, 0.01, log=True)\n",
    "\n",
    "#         , 'reg_alpha' : trial.suggest_float('reg_alpha', 0.01, 1)\n",
    "#         , 'reg_lambda' : trial.suggest_float('reg_lambda', 0.01, 1)\n",
    "        \n",
    "#         , 'colsample_bytree' : trial.suggest_float('colsample_bytree', 0.01, 1)\n",
    "#         , 'subsample' : trial.suggest_float('subsample', 0.03, 1)\n",
    "#         , 'objective': 'binary:logistic'  # 이진 분류\n",
    "#         , 'tree_method' : \"exact\"        \n",
    "#         , 'random_state': RANDOM_STATE\n",
    "#     }\n",
    "       \n",
    "#     model = XGBClassifier(**param)\n",
    "#     model.fit(x_tr, y_tr)\n",
    "#     pred_proba = model.predict_proba(x_val)[:, 1]  # 양성 클래스 확률\n",
    "#     pred = (pred_proba >= THRESHOLD).astype(int)  # 스레드홀드에 따른 예측\n",
    "    \n",
    "#     score = f1_score(y_val, pred, average=\"binary\")\n",
    "    \n",
    "#     return score\n",
    "\n",
    "# # 데이터셋 분할\n",
    "# x_train, x_val, y_train, y_val = train_test_split(\n",
    "#     train_data.drop(\"target\", axis=1),\n",
    "#     train_data[\"target\"],\n",
    "#     test_size=0.2,\n",
    "#     shuffle=True,\n",
    "#     random_state=RANDOM_STATE,\n",
    "# )\n",
    "\n",
    "# # 하이퍼 파라미터 튜닝\n",
    "# study = optuna.create_study(direction='maximize', sampler=optuna.samplers.TPESampler(seed=RANDOM_STATE))\n",
    "# study.optimize(lambda trial: objectiveXGB(trial, x_train, y_train, x_val, y_val), n_trials=150)\n",
    "\n",
    "# print('Best trial: score {}, \\nparams {}'.format(study.best_trial.value, study.best_trial.params))\n"
   ]
  },
  {
   "cell_type": "markdown",
   "id": "b3c2e2f9",
   "metadata": {},
   "source": [
    "Best trial: score 0.2568306010928962,  \n",
    "params {'n_estimators': 3373, 'learning_rate': 0.05751842095099548, 'max_depth': 10,  \n",
    "'alpha': 6.72190235825414e-05, 'gamma': 0.0004303579118014147, 'reg_alpha': 0.7600677164324523,  \n",
    "'reg_lambda': 0.03096872260029274, 'colsample_bytree': 0.7935724641416979, 'subsample': 0.35716001338953424}"
   ]
  },
  {
   "cell_type": "markdown",
   "id": "c1c42ca9",
   "metadata": {},
   "source": [
    "."
   ]
  }
 ],
 "metadata": {
  "kernelspec": {
   "display_name": "Python 3 (ipykernel)",
   "language": "python",
   "name": "python3"
  },
  "language_info": {
   "codemirror_mode": {
    "name": "ipython",
    "version": 3
   },
   "file_extension": ".py",
   "mimetype": "text/x-python",
   "name": "python",
   "nbconvert_exporter": "python",
   "pygments_lexer": "ipython3",
   "version": "3.12.0"
  }
 },
 "nbformat": 4,
 "nbformat_minor": 5
}

{
 "cells": [
  {
   "cell_type": "markdown",
   "id": "017e9265",
   "metadata": {},
   "source": [
    "# 제품 이상여부 판별 프로젝트\n"
   ]
  },
  {
   "cell_type": "code",
   "execution_count": 8,
   "id": "6b9088b3",
   "metadata": {},
   "outputs": [],
   "source": [
    "import optuna\n",
    "from sklearn.tree import DecisionTreeClassifier\n",
    "from sklearn.model_selection import train_test_split\n",
    "from sklearn.metrics import (accuracy_score,\n",
    "    confusion_matrix,\n",
    "    f1_score,\n",
    "    precision_score,\n",
    "    recall_score,\n",
    ")"
   ]
  },
  {
   "cell_type": "markdown",
   "id": "4d054e30",
   "metadata": {},
   "source": [
    "### 데이터 읽어오기\n"
   ]
  },
  {
   "cell_type": "code",
   "execution_count": 9,
   "id": "fc0b4d80",
   "metadata": {},
   "outputs": [],
   "source": [
    "import pandas as pd\n",
    "\n",
    "RANDOM_STATE = 110\n",
    "\n",
    "train_data = pd.read_csv(\"../../../data/train_data_0816.csv\")\n",
    "test_data = pd.read_csv(\"../../../data/test_data_0816.csv\")"
   ]
  },
  {
   "cell_type": "code",
   "execution_count": 10,
   "id": "84efc2b4",
   "metadata": {},
   "outputs": [],
   "source": [
    "# 공통 변수 리스트\n",
    "com_variables_train = [\n",
    "    'target', 'Model.Suffix', 'Workorder', 'WorkMode Collect Result'\n",
    "    , 'Dispenser_1', 'Dispenser_2', 'Receip_No_Collect_Result'\n",
    "    , 'Production_Qty_Collect_Result', 'Judge_Value_OK'\n",
    "    , 'Workorder_0.9', 'Workorder_0.6'\n",
    "]\n",
    "\n",
    "com_variables_test = [\n",
    "    'target', 'Set ID', 'Model.Suffix', 'Workorder'\n",
    "    , 'WorkMode Collect Result', 'Dispenser_1'\n",
    "    , 'Dispenser_2', 'Receip_No_Collect_Result'\n",
    "    , 'Production_Qty_Collect_Result', 'Judge_Value_OK'\n",
    "    , 'Workorder_0.9', 'Workorder_0.6'\n",
    "]"
   ]
  },
  {
   "cell_type": "code",
   "execution_count": 11,
   "id": "7d32b6fc",
   "metadata": {},
   "outputs": [],
   "source": [
    "# 공정 이름 필터링 후 공통 변수와 결합\n",
    "def create_dataset(train_data, test_data, process_name, com_variables_train, com_variables_test):\n",
    "    # 열 이름 필터링\n",
    "    Process_Desc_col = train_data.filter(like=process_name).columns\n",
    "    \n",
    "    # train 데이터셋 생성\n",
    "    final_columns_train = list(Process_Desc_col) + com_variables_train\n",
    "    train_dataset = train_data[final_columns_train]\n",
    "    \n",
    "    # test 데이터셋 생성\n",
    "    final_columns_test = list(Process_Desc_col) + com_variables_test\n",
    "    test_dataset = test_data[final_columns_test]\n",
    "    \n",
    "    return train_dataset, test_dataset\n",
    "\n",
    "# 공통 변수 정의\n",
    "## com_variables_train = [...]  -> 이전 코드에서 정의한 변수 사용\n",
    "## com_variables_test = [...]   -> 이전 코드에서 정의한 변수 사용\n",
    "\n",
    "# 데이터셋 생성\n",
    "train_data_dam, test_data_dam = create_dataset(train_data, test_data, '_Dam', com_variables_train, com_variables_test)\n",
    "train_data_fill1, test_data_fill1 = create_dataset(train_data, test_data, '_Fill1', com_variables_train, com_variables_test)\n",
    "train_data_fill2, test_data_fill2 = create_dataset(train_data, test_data, '_Fill2', com_variables_train, com_variables_test)\n",
    "train_data_autoclave, test_data_autoclave = create_dataset(train_data, test_data, '_AutoClave', com_variables_train, com_variables_test)"
   ]
  },
  {
   "cell_type": "markdown",
   "id": "ec45a10a",
   "metadata": {},
   "source": [
    "---"
   ]
  },
  {
   "cell_type": "markdown",
   "id": "5c4e5b59",
   "metadata": {},
   "source": [
    "## Optuna"
   ]
  },
  {
   "cell_type": "markdown",
   "id": "058f4f86",
   "metadata": {},
   "source": [
    "스레스홀드 0.3으로 맞춘상태에서 튜닝 진행한 것"
   ]
  },
  {
   "cell_type": "code",
   "execution_count": 12,
   "id": "8ec04f21",
   "metadata": {},
   "outputs": [],
   "source": [
    "# import optuna\n",
    "# from lightgbm import LGBMClassifier\n",
    "# from sklearn.model_selection import train_test_split\n",
    "# from sklearn.metrics import f1_score\n",
    "\n",
    "# # 'Normal'과 'AbNormal'을 숫자로 변환\n",
    "# train_data_fill1['target'] = train_data_fill1['target'].map({'Normal': 0, 'AbNormal': 1})\n",
    "\n",
    "# # 스레드홀드 설정\n",
    "# THRESHOLD = 0.3\n",
    "\n",
    "# def objectiveLGBM_dart(trial, x_tr, y_tr, x_val, y_val):\n",
    "#     param = {\n",
    "#         'n_estimators': trial.suggest_int('n_estimators', 500, 3000),\n",
    "#         'num_leaves': trial.suggest_int('num_leaves', 500, 3000),\n",
    "#         'max_depth': trial.suggest_int('max_depth', 10, 300),\n",
    "#         'learning_rate': trial.suggest_float('learning_rate', 0.001, 0.1),\n",
    "#         'min_child_samples': trial.suggest_int('min_child_samples', 3, 300),\n",
    "        \n",
    "#         'boosting_type': 'dart',  # 'boosting'를 'boosting_type'으로 수정\n",
    "#         'random_state': RANDOM_STATE,\n",
    "#         'verbose': -1\n",
    "#     }\n",
    "       \n",
    "#     model = LGBMClassifier(**param)\n",
    "#     model.fit(x_tr, y_tr)\n",
    "#     pred_proba = model.predict_proba(x_val)[:, 1]  # 양성 클래스 확률\n",
    "#     pred = (pred_proba >= THRESHOLD).astype(int)  # 스레드홀드에 따른 예측\n",
    "    \n",
    "#     score = f1_score(y_val, pred, average=\"binary\")\n",
    "    \n",
    "#     return score\n",
    "\n",
    "# # 데이터셋 분할\n",
    "# x_train, x_val, y_train, y_val = train_test_split(\n",
    "#     train_data_fill1.drop(\"target\", axis=1),\n",
    "#     train_data_fill1[\"target\"],\n",
    "#     test_size=0.2,\n",
    "#     shuffle=True,\n",
    "#     random_state=RANDOM_STATE,\n",
    "# )\n",
    "\n",
    "# # 하이퍼 파라미터 튜닝\n",
    "# study = optuna.create_study(direction='maximize', sampler=optuna.samplers.TPESampler(seed=RANDOM_STATE))\n",
    "# study.optimize(lambda trial: objectiveLGBM_dart(trial, x_train, y_train, x_val, y_val), n_trials=100)\n",
    "\n",
    "# print('Best trial: score {}, \\nparams {}'.format(study.best_trial.value, study.best_trial.params))\n"
   ]
  },
  {
   "cell_type": "markdown",
   "id": "51fda397",
   "metadata": {},
   "source": [
    "Best trial: score 0.24512534818941506,   \n",
    "params {'n_estimators': 691, 'num_leaves': 555, 'max_depth': 74,  \n",
    "'learning_rate': 0.051907937588647424, 'min_child_samples': 59}  "
   ]
  },
  {
   "cell_type": "code",
   "execution_count": 19,
   "id": "4d135299",
   "metadata": {},
   "outputs": [
    {
     "name": "stdout",
     "output_type": "stream",
     "text": [
      "F1 Score: 0.24512534818941506\n",
      "---\n",
      "Confusion Matrix:\n",
      "[[7472  190]\n",
      " [ 352   88]]\n",
      "---\n",
      "Accuracy: 0.9331029375462848\n",
      "Precision: 0.31654676258992803\n",
      "Recall: 0.2\n"
     ]
    }
   ],
   "source": [
    "# from lightgbm import LGBMClassifier\n",
    "# from sklearn.metrics import f1_score, accuracy_score, precision_score, recall_score, confusion_matrix\n",
    "# from sklearn.model_selection import train_test_split\n",
    "\n",
    "# THRESHOLD = 0.3\n",
    "\n",
    "# # 최적의 하이퍼파라미터\n",
    "# best_params = {\n",
    "#     'n_estimators': 691,\n",
    "#     'num_leaves': 555,\n",
    "#     'max_depth': 74,\n",
    "#     'learning_rate': 0.051907937588647424,\n",
    "#     'min_child_samples': 59,\n",
    "#     'boosting_type': 'dart',\n",
    "#     'random_state': RANDOM_STATE,\n",
    "#     'verbose': -1\n",
    "# }\n",
    "\n",
    "# # 모델 생성\n",
    "# model = LGBMClassifier(**best_params)\n",
    "\n",
    "# # 데이터셋 분할 (재사용)\n",
    "# x_train, x_val, y_train, y_val = train_test_split(\n",
    "#     train_data_fill1.drop(\"target\", axis=1),\n",
    "#     train_data_fill1[\"target\"],\n",
    "#     test_size=0.2,\n",
    "#     shuffle=True,\n",
    "#     random_state=RANDOM_STATE,\n",
    "# )\n",
    "\n",
    "# # y_train과 y_val을 이진 레이블로 변환\n",
    "# y_train = y_train.apply(lambda x: 1 if x == 'AbNormal' else 0)\n",
    "# y_val = y_val.apply(lambda x: 1 if x == 'AbNormal' else 0)\n",
    "\n",
    "# # 모델 학습\n",
    "# model.fit(x_train, y_train)\n",
    "\n",
    "# # 검증 데이터에 대한 예측\n",
    "# y_val_pred_proba = model.predict_proba(x_val)[:, 1]  # 양성 클래스 확률\n",
    "# y_val_pred = (y_val_pred_proba >= THRESHOLD).astype(int)  # 스레드홀드에 따른 예측\n",
    "\n",
    "# # 평가지표 계산\n",
    "# f1 = f1_score(y_val, y_val_pred, average=\"binary\")\n",
    "# accuracy = accuracy_score(y_val, y_val_pred)\n",
    "# precision = precision_score(y_val, y_val_pred)\n",
    "# recall = recall_score(y_val, y_val_pred)\n",
    "\n",
    "# # 혼동 행렬 계산\n",
    "# conf_matrix = confusion_matrix(y_val, y_val_pred)\n",
    "\n",
    "# # 결과 출력\n",
    "# print(f'F1 Score: {f1}')\n",
    "# print('---')\n",
    "# print('Confusion Matrix:')\n",
    "# print(conf_matrix)  # 혼동 행렬 출력\n",
    "# print('---')\n",
    "# print(f'Accuracy: {accuracy}')\n",
    "# print(f'Precision: {precision}')\n",
    "# print(f'Recall: {recall}')"
   ]
  },
  {
   "cell_type": "code",
   "execution_count": 14,
   "id": "5294c739",
   "metadata": {},
   "outputs": [
    {
     "name": "stdout",
     "output_type": "stream",
     "text": [
      "F1 Score: 0.19084967320261442\n",
      "---\n",
      "Confusion Matrix:\n",
      "[[7410  234]\n",
      " [ 385   73]]\n",
      "---\n",
      "Accuracy: 0.9235991113305356\n",
      "Precision: 0.23778501628664495\n",
      "Recall: 0.15938864628820962\n"
     ]
    }
   ],
   "source": [
    "# from xgboost import XGBClassifier\n",
    "# from sklearn.metrics import f1_score, accuracy_score, precision_score, recall_score, confusion_matrix\n",
    "# from sklearn.model_selection import train_test_split\n",
    "\n",
    "# THRESHOLD = 0.3\n",
    "\n",
    "# # 최적의 하이퍼파라미터\n",
    "# best_params = {\n",
    "#     'n_estimators': 910, \n",
    "#     'learning_rate': 0.1516322549932977, \n",
    "#     'max_depth': 20, \n",
    "#     'alpha': 0.003953220971450215, \n",
    "#     'gamma': 0.0013290323576843753, \n",
    "#     'reg_alpha': 0.35046775966926846, \n",
    "#     'reg_lambda': 0.020721087884783395, \n",
    "#     'colsample_bytree': 0.9070762583460225, \n",
    "#     'subsample': 0.8592284053859449\n",
    "# }\n",
    "\n",
    "# # 모델 생성\n",
    "# model = XGBClassifier(**best_params)\n",
    "\n",
    "# # 데이터셋 분할 (재사용)\n",
    "# x_train, x_val, y_train, y_val = train_test_split(\n",
    "#     train_data_dam.drop(\"target\", axis=1),\n",
    "#     train_data_dam[\"target\"],\n",
    "#     test_size=0.2,\n",
    "#     shuffle=True,\n",
    "#     random_state=RANDOM_STATE,\n",
    "# )\n",
    "\n",
    "# # y_train과 y_val을 이진 레이블로 변환\n",
    "# y_train = y_train.apply(lambda x: 1 if x == 'AbNormal' else 0)\n",
    "# y_val = y_val.apply(lambda x: 1 if x == 'AbNormal' else 0)\n",
    "\n",
    "# # 모델 학습\n",
    "# model.fit(x_train, y_train)\n",
    "\n",
    "# # 검증 데이터에 대한 예측\n",
    "# y_val_pred_proba = model.predict_proba(x_val)[:, 1]  # 양성 클래스 확률\n",
    "# y_val_pred = (y_val_pred_proba >= THRESHOLD).astype(int)  # 스레드홀드에 따른 예측\n",
    "\n",
    "# # 평가지표 계산\n",
    "# f1 = f1_score(y_val, y_val_pred, average=\"binary\")\n",
    "# accuracy = accuracy_score(y_val, y_val_pred)\n",
    "# precision = precision_score(y_val, y_val_pred)\n",
    "# recall = recall_score(y_val, y_val_pred)\n",
    "\n",
    "# # 혼동 행렬 계산\n",
    "# conf_matrix = confusion_matrix(y_val, y_val_pred)\n",
    "\n",
    "# # 결과 출력\n",
    "# print(f'F1 Score: {f1}')\n",
    "# print('---')\n",
    "# print('Confusion Matrix:')\n",
    "# print(conf_matrix)  # 혼동 행렬 출력\n",
    "# print('---')\n",
    "# print(f'Accuracy: {accuracy}')\n",
    "# print(f'Precision: {precision}')\n",
    "# print(f'Recall: {recall}')"
   ]
  },
  {
   "cell_type": "markdown",
   "id": "34ecc88d",
   "metadata": {},
   "source": [
    "."
   ]
  }
 ],
 "metadata": {
  "kernelspec": {
   "display_name": "Python 3 (ipykernel)",
   "language": "python",
   "name": "python3"
  },
  "language_info": {
   "codemirror_mode": {
    "name": "ipython",
    "version": 3
   },
   "file_extension": ".py",
   "mimetype": "text/x-python",
   "name": "python",
   "nbconvert_exporter": "python",
   "pygments_lexer": "ipython3",
   "version": "3.7.8"
  }
 },
 "nbformat": 4,
 "nbformat_minor": 5
}

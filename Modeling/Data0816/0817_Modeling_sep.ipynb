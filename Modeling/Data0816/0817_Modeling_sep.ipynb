{
 "cells": [
  {
   "cell_type": "markdown",
   "id": "017e9265",
   "metadata": {},
   "source": [
    "# 제품 이상여부 판별 프로젝트\n"
   ]
  },
  {
   "cell_type": "markdown",
   "id": "acdab431",
   "metadata": {},
   "source": [
    "## 1. 데이터 불러오기\n"
   ]
  },
  {
   "cell_type": "markdown",
   "id": "2b8341e8",
   "metadata": {},
   "source": [
    "### 필수 라이브러리\n"
   ]
  },
  {
   "cell_type": "code",
   "execution_count": 34,
   "id": "a315cc58",
   "metadata": {},
   "outputs": [],
   "source": [
    "import numpy as np\n",
    "import pandas as pd\n",
    "import seaborn as sns\n",
    "import matplotlib.pyplot as plt\n",
    "\n",
    "import os\n",
    "from pprint import pprint\n",
    "\n",
    "from sklearn.ensemble import RandomForestClassifier\n",
    "from sklearn.metrics import (\n",
    "    accuracy_score,\n",
    "    classification_report,\n",
    "    confusion_matrix,\n",
    "    f1_score,\n",
    "    precision_score,\n",
    "    recall_score,\n",
    ")\n",
    "from sklearn.model_selection import train_test_split\n",
    "from tqdm import tqdm"
   ]
  },
  {
   "cell_type": "markdown",
   "id": "4d054e30",
   "metadata": {},
   "source": [
    "### 데이터 읽어오기\n"
   ]
  },
  {
   "cell_type": "code",
   "execution_count": 35,
   "id": "fc0b4d80",
   "metadata": {},
   "outputs": [],
   "source": [
    "import pandas as pd\n",
    "\n",
    "RANDOM_STATE = 110\n",
    "\n",
    "train_data = pd.read_csv(\"../../data/train_data_0816.csv\")\n",
    "test_data = pd.read_csv(\"../../data/test_data_0816.csv\")"
   ]
  },
  {
   "cell_type": "code",
   "execution_count": 36,
   "id": "edfc3fcb",
   "metadata": {},
   "outputs": [],
   "source": [
    "# 공통 변수 리스트\n",
    "com_variables_train = [\n",
    "    'target', 'Model.Suffix', 'Workorder', 'WorkMode Collect Result'\n",
    "    , 'Dispenser_1', 'Dispenser_2', 'Receip_No_Collect_Result'\n",
    "    , 'Production_Qty_Collect_Result', 'Judge_Value_OK'\n",
    "    , 'Workorder_0.9', 'Workorder_0.6'\n",
    "]\n",
    "\n",
    "com_variables_test = [\n",
    "    'target', 'Set ID', 'Model.Suffix', 'Workorder'\n",
    "    , 'WorkMode Collect Result', 'Dispenser_1'\n",
    "    , 'Dispenser_2', 'Receip_No_Collect_Result'\n",
    "    , 'Production_Qty_Collect_Result', 'Judge_Value_OK'\n",
    "    , 'Workorder_0.9', 'Workorder_0.6'\n",
    "]"
   ]
  },
  {
   "cell_type": "code",
   "execution_count": 37,
   "id": "0de9a11e",
   "metadata": {},
   "outputs": [],
   "source": [
    "# 공정 이름 필터링 후 공통 변수와 결합\n",
    "def create_dataset(train_data, test_data, process_name, com_variables_train, com_variables_test):\n",
    "    # 열 이름 필터링\n",
    "    Process_Desc_col = train_data.filter(like=process_name).columns\n",
    "    \n",
    "    # train 데이터셋 생성\n",
    "    final_columns_train = list(Process_Desc_col) + com_variables_train\n",
    "    train_dataset = train_data[final_columns_train]\n",
    "    \n",
    "    # test 데이터셋 생성\n",
    "    final_columns_test = list(Process_Desc_col) + com_variables_test\n",
    "    test_dataset = test_data[final_columns_test]\n",
    "    \n",
    "    return train_dataset, test_dataset\n",
    "\n",
    "# 공통 변수 정의\n",
    "## com_variables_train = [...]  -> 이전 코드에서 정의한 변수 사용\n",
    "## com_variables_test = [...]   -> 이전 코드에서 정의한 변수 사용\n",
    "\n",
    "# 데이터셋 생성\n",
    "train_data_dam, test_data_dam = create_dataset(train_data, test_data, '_Dam', com_variables_train, com_variables_test)\n",
    "train_data_fill1, test_data_fill1 = create_dataset(train_data, test_data, '_Fill1', com_variables_train, com_variables_test)\n",
    "train_data_fill2, test_data_fill2 = create_dataset(train_data, test_data, '_Fill2', com_variables_train, com_variables_test)\n",
    "train_data_autoclave, test_data_autoclave = create_dataset(train_data, test_data, '_AutoClave', com_variables_train, com_variables_test)"
   ]
  },
  {
   "cell_type": "markdown",
   "id": "3ad7941e",
   "metadata": {},
   "source": [
    "---"
   ]
  },
  {
   "cell_type": "markdown",
   "id": "5c4e5b59",
   "metadata": {},
   "source": [
    "## 3. 모델 학습"
   ]
  },
  {
   "cell_type": "markdown",
   "id": "cfaa06da",
   "metadata": {},
   "source": [
    "### 모델 정의"
   ]
  },
  {
   "cell_type": "code",
   "execution_count": 38,
   "id": "82b23dc3",
   "metadata": {},
   "outputs": [],
   "source": [
    "from sklearn.ensemble import ExtraTreesClassifier, RandomForestClassifier\n",
    "from catboost import CatBoostClassifier\n",
    "from lightgbm import LGBMClassifier\n",
    "from xgboost import XGBClassifier\n",
    "from sklearn.tree import DecisionTreeClassifier\n",
    "from sklearn.model_selection import train_test_split\n",
    "from sklearn.metrics import f1_score, confusion_matrix, accuracy_score, precision_score, recall_score\n",
    "\n",
    "# 스레드홀드 설정\n",
    "THRESHOLD = 0.3\n",
    "\n",
    "\n",
    "def train_and_evaluate_model(model_name, data):\n",
    "    if model_name not in models:\n",
    "        print(f\"{model_name}은(는) 지원되지 않는 모델입니다.\")\n",
    "        return\n",
    "    \n",
    "    # 데이터셋 분할\n",
    "    x_train, x_val, y_train, y_val = train_test_split(\n",
    "        data.drop(\"target\", axis=1),\n",
    "        data[\"target\"].map({'Normal': 0, 'AbNormal': 1}),  # y_val도 숫자로 변환\n",
    "        test_size=0.2,\n",
    "        shuffle=True,\n",
    "        random_state=RANDOM_STATE,\n",
    "    )\n",
    "\n",
    "    # 모델 선택\n",
    "    model = models[model_name]\n",
    "\n",
    "    # 모델 학습\n",
    "    model.fit(x_train, y_train)\n",
    "\n",
    "    # 예측\n",
    "    y_val_pred_proba = model.predict_proba(x_val)[:, 1]  # 양성 클래스 확률\n",
    "    y_val_pred = (y_val_pred_proba >= THRESHOLD).astype(int)  # 스레드홀드에 따른 예측\n",
    "\n",
    "    # 평가지표 계산\n",
    "    f1 = f1_score(y_val, y_val_pred, average=\"binary\")\n",
    "    accuracy = accuracy_score(y_val, y_val_pred)\n",
    "    precision = precision_score(y_val, y_val_pred)\n",
    "    recall = recall_score(y_val, y_val_pred)\n",
    "    conf_matrix = confusion_matrix(y_val, y_val_pred)\n",
    "\n",
    "    # 결과 출력\n",
    "    print(f'{model_name} 결과:')\n",
    "    print(f'F1 Score: {f1}')\n",
    "    print('---')\n",
    "    print('Confusion Matrix:')\n",
    "    print(conf_matrix)\n",
    "    print('---')\n",
    "    print(f'Accuracy: {accuracy}')\n",
    "    print(f'Precision: {precision}')\n",
    "    print(f'Recall: {recall}')\n",
    "    print('\\n')"
   ]
  },
  {
   "cell_type": "markdown",
   "id": "b017359a",
   "metadata": {},
   "source": [
    "아래 모델 목록에서 공정별로 해당하는거로 가져가서 학습"
   ]
  },
  {
   "cell_type": "code",
   "execution_count": 39,
   "id": "1cbdbf11",
   "metadata": {},
   "outputs": [],
   "source": [
    "# # 모델 설정 및 하이퍼파라미터\n",
    "# models = {\n",
    "#     'ExtraTreesClassifier': ExtraTreesClassifier(\n",
    "#         n_estimators=1645,\n",
    "#         max_depth=32,\n",
    "#         min_samples_split=8,\n",
    "#         min_samples_leaf=1,\n",
    "#         criterion='entropy',\n",
    "#         bootstrap=False,\n",
    "#         random_state=RANDOM_STATE\n",
    "#     ),\n",
    "    \n",
    "#     'RandomForestClassifier': RandomForestClassifier(\n",
    "#         n_estimators=1005,\n",
    "#         max_depth=82,\n",
    "#         min_samples_split=3,\n",
    "#         min_samples_leaf=1,\n",
    "#         criterion='gini',\n",
    "#         class_weight='balanced',\n",
    "#         random_state=RANDOM_STATE\n",
    "#     ),\n",
    "    \n",
    "#     'CatBoostClassifier': CatBoostClassifier(\n",
    "#         iterations=757,\n",
    "#         learning_rate=0.050198665725373286,\n",
    "#         depth=9,\n",
    "#         l2_leaf_reg=1.4245312044811413,\n",
    "#         random_strength=9.361327508234833,\n",
    "#         bagging_temperature=4.80588064825688,\n",
    "#         border_count=99,\n",
    "#         scale_pos_weight=1.1403833705864026,\n",
    "#         random_seed=RANDOM_STATE,\n",
    "#         eval_metric='F1',\n",
    "#         logging_level='Silent',\n",
    "#         boosting_type='Plain'\n",
    "#     ),\n",
    "    \n",
    "#     'LGBMClassifier': LGBMClassifier(\n",
    "#         n_estimators=979,\n",
    "#         num_leaves=1565,\n",
    "#         max_depth=34,\n",
    "#         learning_rate=0.04888906225539191,\n",
    "#         min_child_samples=36,\n",
    "#         boosting_type='dart',\n",
    "#         random_state=RANDOM_STATE,\n",
    "#         verbose=-1\n",
    "#     ),\n",
    "    \n",
    "#     'XGBClassifier': XGBClassifier(\n",
    "#         n_estimators=2213,\n",
    "#         learning_rate=0.11735028445102921,\n",
    "#         max_depth=5,\n",
    "#         alpha=0.008053553080773119,\n",
    "#         gamma=0.0006061064433044652,\n",
    "#         reg_alpha=0.5380410453451789,\n",
    "#         reg_lambda=0.8278020434040504,\n",
    "#         colsample_bytree=0.8672296781322193,\n",
    "#         subsample=0.3694461716611997,\n",
    "#         random_state=RANDOM_STATE\n",
    "#     ),\n",
    "    \n",
    "#     'DecisionTreeClassifier': DecisionTreeClassifier(\n",
    "#         max_depth=122,\n",
    "#         min_samples_split=30,\n",
    "#         min_samples_leaf=21,\n",
    "#         max_features=None,\n",
    "#         splitter='best',\n",
    "#         criterion='gini',\n",
    "#         random_state=RANDOM_STATE\n",
    "#     )\n",
    "# }\n",
    "\n",
    "# # 사용 예시\n",
    "# train_and_evaluate_model('LGBMClassifier', train_data_fill1)\n",
    "# # train_and_evaluate_model('XGBClassifier', train_data_fill1)"
   ]
  },
  {
   "cell_type": "markdown",
   "id": "da15f2a7",
   "metadata": {},
   "source": [
    "Dam 모델"
   ]
  },
  {
   "cell_type": "code",
   "execution_count": 40,
   "id": "4abca784",
   "metadata": {},
   "outputs": [
    {
     "name": "stdout",
     "output_type": "stream",
     "text": [
      "LGBMClassifier 결과:\n",
      "F1 Score: 0.25119617224880386\n",
      "---\n",
      "Confusion Matrix:\n",
      "[[7371  291]\n",
      " [ 335  105]]\n",
      "---\n",
      "Accuracy: 0.9227351271291039\n",
      "Precision: 0.26515151515151514\n",
      "Recall: 0.23863636363636365\n",
      "\n",
      "\n"
     ]
    }
   ],
   "source": [
    "# 모델 설정 및 하이퍼파라미터\n",
    "models = {\n",
    "    'LGBMClassifier': LGBMClassifier(\n",
    "        n_estimators=2748,\n",
    "        num_leaves=657,\n",
    "        max_depth=256,\n",
    "        learning_rate=0.001043279508273329,\n",
    "        min_child_samples=58,\n",
    "        boosting_type='dart',\n",
    "        random_state=RANDOM_STATE,\n",
    "        verbose=-1\n",
    "    )\n",
    "}\n",
    "\n",
    "# 학습\n",
    "train_and_evaluate_model('LGBMClassifier', train_data_dam)"
   ]
  },
  {
   "cell_type": "markdown",
   "id": "2e5b184d",
   "metadata": {},
   "source": [
    "AutoClave 모델"
   ]
  },
  {
   "cell_type": "code",
   "execution_count": 41,
   "id": "ac4d9082",
   "metadata": {},
   "outputs": [
    {
     "name": "stdout",
     "output_type": "stream",
     "text": [
      "LGBMClassifier 결과:\n",
      "F1 Score: 0.25271739130434784\n",
      "---\n",
      "Confusion Matrix:\n",
      "[[7459  203]\n",
      " [ 347   93]]\n",
      "---\n",
      "Accuracy: 0.9321155270303628\n",
      "Precision: 0.3141891891891892\n",
      "Recall: 0.21136363636363636\n",
      "\n",
      "\n"
     ]
    }
   ],
   "source": [
    "# 모델 설정 및 하이퍼파라미터\n",
    "models = {\n",
    "    'LGBMClassifier': LGBMClassifier(\n",
    "        n_estimators=1205,\n",
    "        num_leaves=1880,\n",
    "        max_depth=53,\n",
    "        learning_rate=0.0877525670484991,\n",
    "        min_child_samples=288,\n",
    "        boosting_type='dart',\n",
    "        random_state=RANDOM_STATE,\n",
    "        verbose=-1\n",
    "    )\n",
    "}\n",
    "\n",
    "# 학습\n",
    "train_and_evaluate_model('LGBMClassifier', train_data_autoclave)"
   ]
  },
  {
   "cell_type": "markdown",
   "id": "d357e142",
   "metadata": {},
   "source": [
    "Fill1 모델"
   ]
  },
  {
   "cell_type": "code",
   "execution_count": 42,
   "id": "a3a1e8ca",
   "metadata": {},
   "outputs": [
    {
     "name": "stdout",
     "output_type": "stream",
     "text": [
      "LGBMClassifier 결과:\n",
      "F1 Score: 0.25299600532623173\n",
      "---\n",
      "Confusion Matrix:\n",
      "[[7446  216]\n",
      " [ 345   95]]\n",
      "---\n",
      "Accuracy: 0.9307578375709701\n",
      "Precision: 0.3054662379421222\n",
      "Recall: 0.2159090909090909\n",
      "\n",
      "\n"
     ]
    }
   ],
   "source": [
    "# 모델 설정 및 하이퍼파라미터\n",
    "models = {\n",
    "    'LGBMClassifier': LGBMClassifier(\n",
    "        n_estimators=979,\n",
    "        num_leaves=1565,\n",
    "        max_depth=34,\n",
    "        learning_rate=0.04888906225539191,\n",
    "        min_child_samples=36,\n",
    "        boosting_type='dart',\n",
    "        random_state=RANDOM_STATE,\n",
    "        verbose=-1\n",
    "    )\n",
    "}\n",
    "\n",
    "# 학습\n",
    "train_and_evaluate_model('LGBMClassifier', train_data_fill1)"
   ]
  },
  {
   "cell_type": "markdown",
   "id": "a98025a2",
   "metadata": {},
   "source": [
    "Fill2 모델"
   ]
  },
  {
   "cell_type": "code",
   "execution_count": 43,
   "id": "cdbc73d7",
   "metadata": {},
   "outputs": [
    {
     "name": "stdout",
     "output_type": "stream",
     "text": [
      "LGBMClassifier 결과:\n",
      "F1 Score: 0.2562189054726368\n",
      "---\n",
      "Confusion Matrix:\n",
      "[[7401  261]\n",
      " [ 337  103]]\n",
      "---\n",
      "Accuracy: 0.9261910639348309\n",
      "Precision: 0.28296703296703296\n",
      "Recall: 0.2340909090909091\n",
      "\n",
      "\n"
     ]
    }
   ],
   "source": [
    "# 모델 설정 및 하이퍼파라미터\n",
    "models = {\n",
    "    'LGBMClassifier': LGBMClassifier(\n",
    "        n_estimators=1308,\n",
    "        num_leaves=1813,\n",
    "        max_depth=105,\n",
    "        learning_rate=0.0026995515108598628,\n",
    "        min_child_samples=37,\n",
    "        boosting_type='dart',\n",
    "        random_state=RANDOM_STATE,\n",
    "        verbose=-1\n",
    "    )\n",
    "}\n",
    "\n",
    "# 학습\n",
    "train_and_evaluate_model('LGBMClassifier', train_data_fill2)"
   ]
  },
  {
   "cell_type": "markdown",
   "id": "e7548c01",
   "metadata": {},
   "source": [
    "---"
   ]
  },
  {
   "cell_type": "markdown",
   "id": "21b504e1",
   "metadata": {},
   "source": [
    "(작성중)"
   ]
  },
  {
   "cell_type": "markdown",
   "id": "7d4f8e08",
   "metadata": {},
   "source": [
    "---"
   ]
  },
  {
   "cell_type": "markdown",
   "id": "52ec6ee4",
   "metadata": {},
   "source": [
    "## 모델 학습"
   ]
  },
  {
   "cell_type": "code",
   "execution_count": 110,
   "id": "1072be63",
   "metadata": {},
   "outputs": [],
   "source": [
    "from sklearn.model_selection import train_test_split\n",
    "\n",
    "def split_data(data, target, test_size=0.2):\n",
    "    return train_test_split(data, test_size=test_size, stratify=target, random_state=RANDOM_STATE)\n",
    "\n",
    "df_train_dam, df_val_dam = split_data(train_data_dam, train_data[\"target\"])\n",
    "df_train_fill1, df_val_fill1 = split_data(train_data_fill1, train_data[\"target\"])\n",
    "df_train_fill2, df_val_fill2 = split_data(train_data_fill2, train_data[\"target\"])\n",
    "df_train_autoclave, df_val_autoclave = split_data(train_data_autoclave, train_data[\"target\"])"
   ]
  },
  {
   "cell_type": "markdown",
   "id": "fee8ef0d",
   "metadata": {},
   "source": [
    "공정별로 모델 학습 진행"
   ]
  },
  {
   "cell_type": "markdown",
   "id": "f990d2c7",
   "metadata": {},
   "source": [
    "분할한 데이터 -> 원래의 데이터(train data)로 학습한 새 모델 생성"
   ]
  },
  {
   "cell_type": "code",
   "execution_count": 113,
   "id": "409a210c",
   "metadata": {},
   "outputs": [],
   "source": [
    "# SettingWithCopyWarning 경고 무시\n",
    "pd.options.mode.chained_assignment = None  # default='warn'"
   ]
  },
  {
   "cell_type": "code",
   "execution_count": 114,
   "id": "fedb270f",
   "metadata": {},
   "outputs": [],
   "source": [
    "# 모델 학습\n",
    "preprocess_and_train(train_data_dam, model_Dam)\n",
    "preprocess_and_train(train_data_fill1, model_Fill1)\n",
    "preprocess_and_train(train_data_fill2, model_Fill2)\n",
    "preprocess_and_train(train_data_autoclave, model_AutoClave)"
   ]
  },
  {
   "cell_type": "code",
   "execution_count": 115,
   "id": "a98a058e",
   "metadata": {},
   "outputs": [],
   "source": [
    "# 예측에 필요한 데이터 분리\n",
    "x_test_dam = test_data_dam.drop([\"target\", \"Set ID\"], axis=1)\n",
    "x_test_fill1 = test_data_fill1.drop([\"target\", \"Set ID\"], axis=1)\n",
    "x_test_fill2 = test_data_fill2.drop([\"target\", \"Set ID\"], axis=1)\n",
    "x_test_autoclave = test_data_autoclave.drop([\"target\", \"Set ID\"], axis=1)\n",
    "\n",
    "# 각 공정의 예측 확률 계산\n",
    "probs = [\n",
    "    model_Dam.predict_proba(x_test_dam)[:, 1]\n",
    "    , model_Fill1.predict_proba(x_test_fill1)[:, 1]\n",
    "    , model_Fill2.predict_proba(x_test_fill2)[:, 1]\n",
    "    , model_AutoClave.predict_proba(x_test_autoclave)[:, 1]\n",
    "]"
   ]
  },
  {
   "cell_type": "code",
   "execution_count": 125,
   "id": "4727e2ad",
   "metadata": {},
   "outputs": [
    {
     "name": "stdout",
     "output_type": "stream",
     "text": [
      "1058\n"
     ]
    }
   ],
   "source": [
    "# 소프트 보팅: 각 모델의 확률 평균 계산\n",
    "soft_voting_probs = np.mean(probs, axis=0)\n",
    "\n",
    "# 최종 예측: 평균 확률에 대해 스레드 홀드 0.3 적용\n",
    "final_predictions = (soft_voting_probs >= 0.23).astype(int)\n",
    "\n",
    "# 최종 예측 결과 출력\n",
    "print(sum(final_predictions))"
   ]
  },
  {
   "cell_type": "code",
   "execution_count": 122,
   "id": "12da41af",
   "metadata": {},
   "outputs": [
    {
     "name": "stdout",
     "output_type": "stream",
     "text": [
      "572\n"
     ]
    }
   ],
   "source": [
    "# 소프트 보팅: 각 모델의 확률 평균 계산\n",
    "soft_voting_probs = np.mean(probs, axis=0)\n",
    "\n",
    "# 최종 예측: 평균 확률에 대해 스레드 홀드 0.3 적용\n",
    "final_predictions = (soft_voting_probs >= 0.3).astype(int)\n",
    "\n",
    "# 최종 예측 결과 출력\n",
    "print(sum(final_predictions))"
   ]
  },
  {
   "cell_type": "code",
   "execution_count": 135,
   "id": "3b56e7c1",
   "metadata": {},
   "outputs": [
    {
     "name": "stdout",
     "output_type": "stream",
     "text": [
      "1783\n"
     ]
    }
   ],
   "source": [
    "# 4개의 예측 중 확률값이 0.3 이상이면 1(AbNormal)로 예측\n",
    "threshold = 0.3\n",
    "final_predictions = (np.any([prob > threshold for prob in probs], axis=0)).astype(int)\n",
    "\n",
    "print(sum(final_predictions))"
   ]
  },
  {
   "cell_type": "markdown",
   "id": "33be6ab9",
   "metadata": {},
   "source": [
    "## 4. 제출하기\n"
   ]
  },
  {
   "cell_type": "markdown",
   "id": "b11f188b",
   "metadata": {},
   "source": [
    "### 제출 파일 작성\n"
   ]
  },
  {
   "cell_type": "code",
   "execution_count": 129,
   "id": "754986da",
   "metadata": {},
   "outputs": [],
   "source": [
    "# 제출 데이터 읽어오기 (df_test는 전처리된 데이터가 저장됨)\n",
    "df_sub = pd.read_csv(\"submission.csv\")\n",
    "df_sub[\"target\"] = final_predictions\n",
    "\n",
    "# df_sub['target'] 값을 문자열 레이블로 변환\n",
    "df_sub['target'] = df_sub['target'].apply(lambda x: 'AbNormal' if x == 1 else 'Normal')\n",
    "\n",
    "# 제출 파일 저장\n",
    "df_sub.to_csv(\"submission.csv\", index=False)"
   ]
  },
  {
   "cell_type": "code",
   "execution_count": 130,
   "id": "844bfe31",
   "metadata": {},
   "outputs": [
    {
     "data": {
      "text/plain": [
       "Normal      16303\n",
       "AbNormal     1058\n",
       "Name: target, dtype: int64"
      ]
     },
     "execution_count": 130,
     "metadata": {},
     "output_type": "execute_result"
    }
   ],
   "source": [
    "df_sub['target'].value_counts()"
   ]
  },
  {
   "cell_type": "code",
   "execution_count": 131,
   "id": "9efee1fc",
   "metadata": {},
   "outputs": [
    {
     "data": {
      "text/html": [
       "<div>\n",
       "<style scoped>\n",
       "    .dataframe tbody tr th:only-of-type {\n",
       "        vertical-align: middle;\n",
       "    }\n",
       "\n",
       "    .dataframe tbody tr th {\n",
       "        vertical-align: top;\n",
       "    }\n",
       "\n",
       "    .dataframe thead th {\n",
       "        text-align: right;\n",
       "    }\n",
       "</style>\n",
       "<table border=\"1\" class=\"dataframe\">\n",
       "  <thead>\n",
       "    <tr style=\"text-align: right;\">\n",
       "      <th></th>\n",
       "      <th>Set ID</th>\n",
       "      <th>target</th>\n",
       "    </tr>\n",
       "  </thead>\n",
       "  <tbody>\n",
       "    <tr>\n",
       "      <th>0</th>\n",
       "      <td>0001be084fbc4aaa9d921f39e595961b</td>\n",
       "      <td>Normal</td>\n",
       "    </tr>\n",
       "    <tr>\n",
       "      <th>1</th>\n",
       "      <td>0005bbd180064abd99e63f9ed3e1ac80</td>\n",
       "      <td>Normal</td>\n",
       "    </tr>\n",
       "    <tr>\n",
       "      <th>2</th>\n",
       "      <td>000948934c4140d883d670adcb609584</td>\n",
       "      <td>Normal</td>\n",
       "    </tr>\n",
       "    <tr>\n",
       "      <th>3</th>\n",
       "      <td>000a6bfd02874c6296dc7b2e9c5678a7</td>\n",
       "      <td>Normal</td>\n",
       "    </tr>\n",
       "    <tr>\n",
       "      <th>4</th>\n",
       "      <td>0018e78ce91343678716e2ea27a51c95</td>\n",
       "      <td>Normal</td>\n",
       "    </tr>\n",
       "    <tr>\n",
       "      <th>5</th>\n",
       "      <td>001fda4596f545d0a3b0ce85fbea77d2</td>\n",
       "      <td>Normal</td>\n",
       "    </tr>\n",
       "    <tr>\n",
       "      <th>6</th>\n",
       "      <td>0020734a7b29472298358ad58645a0c9</td>\n",
       "      <td>Normal</td>\n",
       "    </tr>\n",
       "    <tr>\n",
       "      <th>7</th>\n",
       "      <td>00234c5914cd4c4a888d13f8b3773135</td>\n",
       "      <td>Normal</td>\n",
       "    </tr>\n",
       "    <tr>\n",
       "      <th>8</th>\n",
       "      <td>00297b6c93e44d49ac534758a23dc74e</td>\n",
       "      <td>Normal</td>\n",
       "    </tr>\n",
       "    <tr>\n",
       "      <th>9</th>\n",
       "      <td>002d904240d84b188d410d16383a9c3a</td>\n",
       "      <td>Normal</td>\n",
       "    </tr>\n",
       "  </tbody>\n",
       "</table>\n",
       "</div>"
      ],
      "text/plain": [
       "                             Set ID  target\n",
       "0  0001be084fbc4aaa9d921f39e595961b  Normal\n",
       "1  0005bbd180064abd99e63f9ed3e1ac80  Normal\n",
       "2  000948934c4140d883d670adcb609584  Normal\n",
       "3  000a6bfd02874c6296dc7b2e9c5678a7  Normal\n",
       "4  0018e78ce91343678716e2ea27a51c95  Normal\n",
       "5  001fda4596f545d0a3b0ce85fbea77d2  Normal\n",
       "6  0020734a7b29472298358ad58645a0c9  Normal\n",
       "7  00234c5914cd4c4a888d13f8b3773135  Normal\n",
       "8  00297b6c93e44d49ac534758a23dc74e  Normal\n",
       "9  002d904240d84b188d410d16383a9c3a  Normal"
      ]
     },
     "execution_count": 131,
     "metadata": {},
     "output_type": "execute_result"
    }
   ],
   "source": [
    "df_sub.head(10)"
   ]
  },
  {
   "cell_type": "markdown",
   "id": "5ba0550e",
   "metadata": {},
   "source": [
    "**우측 상단의 제출 버튼을 클릭해 결과를 확인하세요**\n"
   ]
  }
 ],
 "metadata": {
  "kernelspec": {
   "display_name": "Python 3 (ipykernel)",
   "language": "python",
   "name": "python3"
  },
  "language_info": {
   "codemirror_mode": {
    "name": "ipython",
    "version": 3
   },
   "file_extension": ".py",
   "mimetype": "text/x-python",
   "name": "python",
   "nbconvert_exporter": "python",
   "pygments_lexer": "ipython3",
   "version": "3.7.8"
  }
 },
 "nbformat": 4,
 "nbformat_minor": 5
}

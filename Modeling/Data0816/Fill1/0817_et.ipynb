{
 "cells": [
  {
   "cell_type": "markdown",
   "id": "017e9265",
   "metadata": {},
   "source": [
    "# 제품 이상여부 판별 프로젝트\n"
   ]
  },
  {
   "cell_type": "markdown",
   "id": "4d054e30",
   "metadata": {},
   "source": [
    "### 데이터 읽어오기\n"
   ]
  },
  {
   "cell_type": "code",
   "execution_count": 1,
   "id": "fc0b4d80",
   "metadata": {},
   "outputs": [],
   "source": [
    "import pandas as pd\n",
    "\n",
    "RANDOM_STATE = 110\n",
    "\n",
    "train_data = pd.read_csv(\"../../../data/train_data_0816.csv\")\n",
    "test_data = pd.read_csv(\"../../../data/test_data_0816.csv\")"
   ]
  },
  {
   "cell_type": "code",
   "execution_count": 2,
   "id": "84efc2b4",
   "metadata": {},
   "outputs": [],
   "source": [
    "# 공통 변수 리스트\n",
    "com_variables_train = [\n",
    "    'target', 'Model.Suffix', 'Workorder', 'WorkMode Collect Result'\n",
    "    , 'Dispenser_1', 'Dispenser_2', 'Receip_No_Collect_Result'\n",
    "    , 'Production_Qty_Collect_Result', 'Judge_Value_OK'\n",
    "    , 'Workorder_0.9', 'Workorder_0.6'\n",
    "]\n",
    "\n",
    "com_variables_test = [\n",
    "    'target', 'Set ID', 'Model.Suffix', 'Workorder'\n",
    "    , 'WorkMode Collect Result', 'Dispenser_1'\n",
    "    , 'Dispenser_2', 'Receip_No_Collect_Result'\n",
    "    , 'Production_Qty_Collect_Result', 'Judge_Value_OK'\n",
    "    , 'Workorder_0.9', 'Workorder_0.6'\n",
    "]"
   ]
  },
  {
   "cell_type": "code",
   "execution_count": 3,
   "id": "7d32b6fc",
   "metadata": {},
   "outputs": [],
   "source": [
    "# 공정 이름 필터링 후 공통 변수와 결합\n",
    "def create_dataset(train_data, test_data, process_name, com_variables_train, com_variables_test):\n",
    "    # 열 이름 필터링\n",
    "    Process_Desc_col = train_data.filter(like=process_name).columns\n",
    "    \n",
    "    # train 데이터셋 생성\n",
    "    final_columns_train = list(Process_Desc_col) + com_variables_train\n",
    "    train_dataset = train_data[final_columns_train]\n",
    "    \n",
    "    # test 데이터셋 생성\n",
    "    final_columns_test = list(Process_Desc_col) + com_variables_test\n",
    "    test_dataset = test_data[final_columns_test]\n",
    "    \n",
    "    return train_dataset, test_dataset\n",
    "\n",
    "# 공통 변수 정의\n",
    "## com_variables_train = [...]  -> 이전 코드에서 정의한 변수 사용\n",
    "## com_variables_test = [...]   -> 이전 코드에서 정의한 변수 사용\n",
    "\n",
    "# 데이터셋 생성\n",
    "train_data_dam, test_data_dam = create_dataset(train_data, test_data, '_Dam', com_variables_train, com_variables_test)\n",
    "train_data_fill1, test_data_fill1 = create_dataset(train_data, test_data, '_Fill1', com_variables_train, com_variables_test)\n",
    "train_data_fill2, test_data_fill2 = create_dataset(train_data, test_data, '_Fill2', com_variables_train, com_variables_test)\n",
    "train_data_autoclave, test_data_autoclave = create_dataset(train_data, test_data, '_AutoClave', com_variables_train, com_variables_test)"
   ]
  },
  {
   "cell_type": "markdown",
   "id": "ec45a10a",
   "metadata": {},
   "source": [
    "---"
   ]
  },
  {
   "cell_type": "markdown",
   "id": "5c4e5b59",
   "metadata": {},
   "source": [
    "## Optuna"
   ]
  },
  {
   "cell_type": "markdown",
   "id": "058f4f86",
   "metadata": {},
   "source": [
    "스레스홀드 0.3으로 맞춘상태에서 튜닝 진행한 것"
   ]
  },
  {
   "cell_type": "code",
   "execution_count": null,
   "id": "8ec04f21",
   "metadata": {},
   "outputs": [],
   "source": [
    "import optuna\n",
    "from sklearn.ensemble import ExtraTreesClassifier\n",
    "\n",
    "# 평가지표\n",
    "from sklearn.model_selection import train_test_split\n",
    "from sklearn.metrics import f1_score\n",
    "\n",
    "# 'Normal'과 'AbNormal'을 숫자로 변환\n",
    "train_data_fill1['target'] = train_data_fill1['target'].map({'Normal': 0, 'AbNormal': 1})\n",
    "\n",
    "# 스레드홀드 설정\n",
    "THRESHOLD = 0.3\n",
    "\n",
    "def objectiveExtraTrees(trial, x_tr, y_tr, x_val, y_val):\n",
    "    param = {\n",
    "        'n_estimators': trial.suggest_int('n_estimators', 100, 2000)\n",
    "        , 'max_depth': trial.suggest_int('max_depth', 2, 100)\n",
    "        , 'min_samples_split': trial.suggest_int('min_samples_split', 2, 10)\n",
    "        , 'min_samples_leaf': trial.suggest_int('min_samples_leaf', 1, 10)\n",
    "        , 'criterion': trial.suggest_categorical('criterion', ['gini', 'entropy'])\n",
    "        , 'bootstrap': trial.suggest_categorical('bootstrap', [True, False])\n",
    "        , 'random_state': RANDOM_STATE\n",
    "    }\n",
    "       \n",
    "    model = ExtraTreesClassifier(**param)\n",
    "    model.fit(x_tr, y_tr)\n",
    "    pred_proba = model.predict_proba(x_val)[:, 1]  # 양성 클래스 확률\n",
    "    pred = (pred_proba >= THRESHOLD).astype(int)  # 스레드홀드에 따른 예측\n",
    "    \n",
    "    score = f1_score(y_val, pred, average=\"binary\")\n",
    "    \n",
    "    return score\n",
    "\n",
    "# 데이터셋 분할\n",
    "x_train, x_val, y_train, y_val = train_test_split(\n",
    "    train_data_fill1.drop(\"target\", axis=1),\n",
    "    train_data_fill1[\"target\"],\n",
    "    test_size=0.2,\n",
    "    shuffle=True,\n",
    "    random_state=RANDOM_STATE,\n",
    ")\n",
    "\n",
    "# 하이퍼 파라미터 튜닝\n",
    "study = optuna.create_study(direction='maximize', sampler=optuna.samplers.TPESampler(seed=RANDOM_STATE))\n",
    "study.optimize(lambda trial: objectiveExtraTrees(trial, x_train, y_train, x_val, y_val), n_trials=300)\n",
    "\n",
    "print('Best trial: score {}, \\nparams {}'.format(study.best_trial.value, study.best_trial.params))\n"
   ]
  },
  {
   "cell_type": "markdown",
   "id": "42914662",
   "metadata": {},
   "source": [
    "Trial 158 finished with value: 0.225201072386059  \n",
    "parameters: {'n_estimators': 1752, 'max_depth': 28, 'min_samples_split': 6, 'min_samples_leaf': 1,  \n",
    "'criterion': 'gini', 'bootstrap': False}"
   ]
  },
  {
   "cell_type": "markdown",
   "id": "34ecc88d",
   "metadata": {},
   "source": [
    "."
   ]
  }
 ],
 "metadata": {
  "kernelspec": {
   "display_name": "Python 3 (ipykernel)",
   "language": "python",
   "name": "python3"
  },
  "language_info": {
   "codemirror_mode": {
    "name": "ipython",
    "version": 3
   },
   "file_extension": ".py",
   "mimetype": "text/x-python",
   "name": "python",
   "nbconvert_exporter": "python",
   "pygments_lexer": "ipython3",
   "version": "3.7.8"
  }
 },
 "nbformat": 4,
 "nbformat_minor": 5
}

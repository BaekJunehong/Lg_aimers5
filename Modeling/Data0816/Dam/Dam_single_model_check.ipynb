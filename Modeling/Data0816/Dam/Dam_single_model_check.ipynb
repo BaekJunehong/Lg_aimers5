{
 "cells": [
  {
   "cell_type": "markdown",
   "id": "017e9265",
   "metadata": {},
   "source": [
    "# 제품 이상여부 판별 프로젝트\n"
   ]
  },
  {
   "cell_type": "code",
   "execution_count": 1,
   "id": "6b9088b3",
   "metadata": {},
   "outputs": [],
   "source": [
    "import optuna\n",
    "from sklearn.tree import DecisionTreeClassifier\n",
    "from sklearn.model_selection import train_test_split\n",
    "from sklearn.metrics import (accuracy_score,\n",
    "    confusion_matrix,\n",
    "    f1_score,\n",
    "    precision_score,\n",
    "    recall_score,\n",
    ")"
   ]
  },
  {
   "cell_type": "markdown",
   "id": "4d054e30",
   "metadata": {},
   "source": [
    "### 데이터 읽어오기\n"
   ]
  },
  {
   "cell_type": "code",
   "execution_count": 6,
   "id": "fc0b4d80",
   "metadata": {},
   "outputs": [],
   "source": [
    "import pandas as pd\n",
    "\n",
    "RANDOM_STATE = 110\n",
    "\n",
    "train_data = pd.read_csv(\"C:/Users/KimDongyoung/Desktop/git_LGaimers5/Lg_aimers5/Lg_aimers5-1/data/train_data_0816.csv\")\n",
    "test_data = pd.read_csv(\"C:/Users/KimDongyoung/Desktop/git_LGaimers5/Lg_aimers5/Lg_aimers5-1/data/test_data_0816.csv\")"
   ]
  },
  {
   "cell_type": "code",
   "execution_count": 7,
   "id": "84efc2b4",
   "metadata": {},
   "outputs": [],
   "source": [
    "# 공통 변수 리스트\n",
    "com_variables_train = [\n",
    "    'target', 'Model.Suffix', 'Workorder', 'WorkMode Collect Result'\n",
    "    , 'Dispenser_1', 'Dispenser_2', 'Receip_No_Collect_Result'\n",
    "    , 'Production_Qty_Collect_Result', 'Judge_Value_OK'\n",
    "    , 'Workorder_0.9', 'Workorder_0.6'\n",
    "]\n",
    "\n",
    "com_variables_test = [\n",
    "    'target', 'Set ID', 'Model.Suffix', 'Workorder'\n",
    "    , 'WorkMode Collect Result', 'Dispenser_1'\n",
    "    , 'Dispenser_2', 'Receip_No_Collect_Result'\n",
    "    , 'Production_Qty_Collect_Result', 'Judge_Value_OK'\n",
    "    , 'Workorder_0.9', 'Workorder_0.6'\n",
    "]"
   ]
  },
  {
   "cell_type": "code",
   "execution_count": 8,
   "id": "7d32b6fc",
   "metadata": {},
   "outputs": [],
   "source": [
    "# 공정 이름 필터링 후 공통 변수와 결합\n",
    "def create_dataset(train_data, test_data, process_name, com_variables_train, com_variables_test):\n",
    "    # 열 이름 필터링\n",
    "    Process_Desc_col = train_data.filter(like=process_name).columns\n",
    "    \n",
    "    # train 데이터셋 생성\n",
    "    final_columns_train = list(Process_Desc_col) + com_variables_train\n",
    "    train_dataset = train_data[final_columns_train]\n",
    "    \n",
    "    # test 데이터셋 생성\n",
    "    final_columns_test = list(Process_Desc_col) + com_variables_test\n",
    "    test_dataset = test_data[final_columns_test]\n",
    "    \n",
    "    return train_dataset, test_dataset\n",
    "\n",
    "# 공통 변수 정의\n",
    "## com_variables_train = [...]  -> 이전 코드에서 정의한 변수 사용\n",
    "## com_variables_test = [...]   -> 이전 코드에서 정의한 변수 사용\n",
    "\n",
    "# 데이터셋 생성\n",
    "train_data_dam, test_data_dam = create_dataset(train_data, test_data, '_Dam', com_variables_train, com_variables_test)\n",
    "train_data_fill1, test_data_fill1 = create_dataset(train_data, test_data, '_Fill1', com_variables_train, com_variables_test)\n",
    "train_data_fill2, test_data_fill2 = create_dataset(train_data, test_data, '_Fill2', com_variables_train, com_variables_test)\n",
    "train_data_autoclave, test_data_autoclave = create_dataset(train_data, test_data, '_AutoClave', com_variables_train, com_variables_test)"
   ]
  },
  {
   "cell_type": "markdown",
   "id": "ec45a10a",
   "metadata": {},
   "source": [
    "---"
   ]
  },
  {
   "cell_type": "markdown",
   "id": "5c4e5b59",
   "metadata": {},
   "source": [
    "## Optuna"
   ]
  },
  {
   "cell_type": "markdown",
   "id": "f3366ec3",
   "metadata": {},
   "source": [
    "lgbm"
   ]
  },
  {
   "cell_type": "markdown",
   "id": "51fda397",
   "metadata": {},
   "source": [
    "Best trial: score 0.25225225225225223  \n",
    "\n",
    "params {'n_estimators': 2686, \n",
    "    'num_leaves': 865, \n",
    "    'max_depth': 232, \n",
    "    'learning_rate': 0.0010322861626506287, \n",
    "    'min_child_samples': 54,}  "
   ]
  },
  {
   "cell_type": "code",
   "execution_count": 5,
   "id": "4d135299",
   "metadata": {},
   "outputs": [
    {
     "name": "stdout",
     "output_type": "stream",
     "text": [
      "F1 Score: 0.21708185053380782\n",
      "---\n",
      "Confusion Matrix:\n",
      "[[7601   61]\n",
      " [ 379   61]]\n",
      "---\n",
      "Accuracy: 0.9456924216242903\n",
      "Precision: 0.5\n",
      "Recall: 0.13863636363636364\n"
     ]
    }
   ],
   "source": [
    "from lightgbm import LGBMClassifier\n",
    "from sklearn.metrics import f1_score, accuracy_score, precision_score, recall_score, confusion_matrix\n",
    "from sklearn.model_selection import train_test_split\n",
    "\n",
    "THRESHOLD = 0.3\n",
    "\n",
    "# 최적의 하이퍼파라미터\n",
    "best_params = {\n",
    "    'n_estimators': 2686, \n",
    "    'num_leaves': 865, \n",
    "    'max_depth': 232, \n",
    "    'learning_rate': 0.0010322861626506287, \n",
    "    'min_child_samples': 54,\n",
    "    'random_state': RANDOM_STATE,\n",
    "    'verbose': -1\n",
    "}\n",
    "\n",
    "# 모델 생성\n",
    "model = LGBMClassifier(**best_params)\n",
    "\n",
    "# 데이터셋 분할 (재사용)\n",
    "x_train, x_val, y_train, y_val = train_test_split(\n",
    "    train_data_dam.drop(\"target\", axis=1),\n",
    "    train_data_dam[\"target\"],\n",
    "    test_size=0.2,\n",
    "    shuffle=True,\n",
    "    random_state=RANDOM_STATE,\n",
    ")\n",
    "\n",
    "# y_train과 y_val을 이진 레이블로 변환\n",
    "y_train = y_train.apply(lambda x: 1 if x == 'AbNormal' else 0)\n",
    "y_val = y_val.apply(lambda x: 1 if x == 'AbNormal' else 0)\n",
    "\n",
    "# 모델 학습\n",
    "model.fit(x_train, y_train)\n",
    "\n",
    "# 검증 데이터에 대한 예측\n",
    "y_val_pred_proba = model.predict_proba(x_val)[:, 1]  # 양성 클래스 확률\n",
    "y_val_pred = (y_val_pred_proba >= THRESHOLD).astype(int)  # 스레드홀드에 따른 예측\n",
    "\n",
    "# 평가지표 계산\n",
    "f1 = f1_score(y_val, y_val_pred, average=\"binary\")\n",
    "accuracy = accuracy_score(y_val, y_val_pred)\n",
    "precision = precision_score(y_val, y_val_pred)\n",
    "recall = recall_score(y_val, y_val_pred)\n",
    "\n",
    "# 혼동 행렬 계산\n",
    "conf_matrix = confusion_matrix(y_val, y_val_pred)\n",
    "\n",
    "# 결과 출력\n",
    "print(f'F1 Score: {f1}')\n",
    "print('---')\n",
    "print('Confusion Matrix:')\n",
    "print(conf_matrix)  # 혼동 행렬 출력\n",
    "print('---')\n",
    "print(f'Accuracy: {accuracy}')\n",
    "print(f'Precision: {precision}')\n",
    "print(f'Recall: {recall}')"
   ]
  },
  {
   "cell_type": "markdown",
   "id": "a42df4f0",
   "metadata": {},
   "source": [
    "xgb"
   ]
  },
  {
   "cell_type": "markdown",
   "id": "1902d424",
   "metadata": {},
   "source": [
    "Best trial: score 0.23407022106631986, \n",
    "params {'n_estimators': 2213, 'learning_rate': 0.11735028445102921, 'max_depth': 5,   \n",
    "'alpha': 0.008053553080773119, 'gamma': 0.0006061064433044652, 'reg_alpha': 0.5380410453451789, \n",
    "'reg_lambda': 0.8278020434040504, 'colsample_bytree': 0.8672296781322193, 'subsample': 0.3694461716611997}"
   ]
  },
  {
   "cell_type": "code",
   "execution_count": 9,
   "id": "5294c739",
   "metadata": {},
   "outputs": [
    {
     "name": "stderr",
     "output_type": "stream",
     "text": [
      "C:\\Users\\KimDongyoung\\AppData\\Local\\Temp\\ipykernel_20476\\1719465328.py:6: SettingWithCopyWarning: \n",
      "A value is trying to be set on a copy of a slice from a DataFrame.\n",
      "Try using .loc[row_indexer,col_indexer] = value instead\n",
      "\n",
      "See the caveats in the documentation: https://pandas.pydata.org/pandas-docs/stable/user_guide/indexing.html#returning-a-view-versus-a-copy\n",
      "  train_data_fill2['target'] = train_data_fill2['target'].map({'Normal': 0, 'AbNormal': 1})\n"
     ]
    },
    {
     "name": "stdout",
     "output_type": "stream",
     "text": [
      "F1 Score: 0.21580928481806777\n",
      "---\n",
      "Confusion Matrix:\n",
      "[[7391  271]\n",
      " [ 354   86]]\n",
      "---\n",
      "Accuracy: 0.9228585534435941\n",
      "Precision: 0.24089635854341737\n",
      "Recall: 0.19545454545454546\n"
     ]
    }
   ],
   "source": [
    "from xgboost import XGBClassifier\n",
    "from sklearn.metrics import f1_score, accuracy_score, precision_score, recall_score, confusion_matrix\n",
    "from sklearn.model_selection import train_test_split\n",
    "\n",
    "# 'Normal'과 'AbNormal'을 숫자로 변환\n",
    "train_data_fill2['target'] = train_data_fill2['target'].map({'Normal': 0, 'AbNormal': 1})\n",
    "\n",
    "THRESHOLD = 0.3\n",
    "\n",
    "# 최적의 하이퍼파라미터\n",
    "best_params = {\n",
    "    'n_estimators': 910, \n",
    "    'learning_rate': 0.1516322549932977, \n",
    "    'max_depth': 20, \n",
    "    'alpha': 0.003953220971450215, \n",
    "    'gamma': 0.0013290323576843753, \n",
    "    'reg_alpha': 0.35046775966926846, \n",
    "    'reg_lambda': 0.020721087884783395, \n",
    "    'colsample_bytree': 0.9070762583460225, \n",
    "    'subsample': 0.8592284053859449,\n",
    "    'random_state': RANDOM_STATE\n",
    "}\n",
    "\n",
    "# 모델 생성\n",
    "model = XGBClassifier(**best_params)\n",
    "\n",
    "# 데이터셋 분할 (재사용)\n",
    "x_train, x_val, y_train, y_val = train_test_split(\n",
    "    train_data_fill1.drop(\"target\", axis=1),\n",
    "    train_data_fill1[\"target\"],\n",
    "    test_size=0.2,\n",
    "    shuffle=True,\n",
    "    random_state=RANDOM_STATE,\n",
    ")\n",
    "\n",
    "# y_train과 y_val을 이진 레이블로 변환\n",
    "y_train = y_train.apply(lambda x: 1 if x == 'AbNormal' else 0)\n",
    "y_val = y_val.apply(lambda x: 1 if x == 'AbNormal' else 0)\n",
    "\n",
    "# 모델 학습\n",
    "model.fit(x_train, y_train)\n",
    "\n",
    "# 검증 데이터에 대한 예측\n",
    "y_val_pred_proba = model.predict_proba(x_val)[:, 1]  # 양성 클래스 확률\n",
    "y_val_pred = (y_val_pred_proba >= THRESHOLD).astype(int)  # 스레드홀드에 따른 예측\n",
    "\n",
    "# 평가지표 계산\n",
    "f1 = f1_score(y_val, y_val_pred, average=\"binary\")\n",
    "accuracy = accuracy_score(y_val, y_val_pred)\n",
    "precision = precision_score(y_val, y_val_pred)\n",
    "recall = recall_score(y_val, y_val_pred)\n",
    "\n",
    "# 혼동 행렬 계산\n",
    "conf_matrix = confusion_matrix(y_val, y_val_pred)\n",
    "\n",
    "# 결과 출력\n",
    "print(f'F1 Score: {f1}')\n",
    "print('---')\n",
    "print('Confusion Matrix:')\n",
    "print(conf_matrix)  # 혼동 행렬 출력\n",
    "print('---')\n",
    "print(f'Accuracy: {accuracy}')\n",
    "print(f'Precision: {precision}')\n",
    "print(f'Recall: {recall}')"
   ]
  },
  {
   "cell_type": "markdown",
   "id": "e41d5bca",
   "metadata": {},
   "source": [
    "dt"
   ]
  },
  {
   "cell_type": "markdown",
   "id": "2b6c95cf",
   "metadata": {},
   "source": [
    "Best trial: score 0.24489795918367346,   \n",
    "params {'max_depth': 122, 'min_samples_split': 30, 'min_samples_leaf': 21, 'max_features': None,  \n",
    "'splitter': 'best', 'criterion': 'gini'}"
   ]
  },
  {
   "cell_type": "code",
   "execution_count": 66,
   "id": "61841b28",
   "metadata": {},
   "outputs": [
    {
     "name": "stdout",
     "output_type": "stream",
     "text": [
      "F1 Score: 0.24489795918367346\n",
      "---\n",
      "Confusion Matrix:\n",
      "[[7500  162]\n",
      " [ 356   84]]\n",
      "---\n",
      "Accuracy: 0.9360651690940508\n",
      "Precision: 0.34146341463414637\n",
      "Recall: 0.19090909090909092\n"
     ]
    }
   ],
   "source": [
    "import optuna\n",
    "from sklearn.tree import DecisionTreeClassifier\n",
    "from sklearn.model_selection import train_test_split\n",
    "from sklearn.metrics import f1_score, confusion_matrix, accuracy_score, precision_score, recall_score\n",
    "\n",
    "# 스레드홀드 설정\n",
    "THRESHOLD = 0.3\n",
    "\n",
    "# 하이퍼파라미터 설정 (옵튜나에서 구한 최적의 하이퍼파라미터를 입력하세요)\n",
    "best_params = {\n",
    "    'max_depth': 122,  \n",
    "    'min_samples_split': 30,  \n",
    "    'min_samples_leaf': 21,  \n",
    "    'max_features': None,  \n",
    "    'splitter': 'best', \n",
    "    'criterion': 'gini', \n",
    "    'random_state': RANDOM_STATE\n",
    "}\n",
    "\n",
    "# 데이터셋 분할\n",
    "x_train, x_val, y_train, y_val = train_test_split(\n",
    "    train_data_fill1.drop(\"target\", axis=1),\n",
    "    train_data_fill1[\"target\"].map({'Normal': 0, 'AbNormal': 1}),  # y_val도 숫자로 변환\n",
    "    test_size=0.2,\n",
    "    shuffle=True,\n",
    "    random_state=RANDOM_STATE,\n",
    ")\n",
    "\n",
    "# 모델 학습\n",
    "model = DecisionTreeClassifier(**best_params)\n",
    "model.fit(x_train, y_train)\n",
    "\n",
    "# 예측\n",
    "pred_proba = model.predict_proba(x_val)[:, 1]  # 양성 클래스 확률\n",
    "pred = (pred_proba >= THRESHOLD).astype(int)  # 스레드홀드에 따른 예측\n",
    "\n",
    "# 평가 지표 계산\n",
    "f1 = f1_score(y_val, pred, average=\"binary\")\n",
    "conf_matrix = confusion_matrix(y_val, pred)\n",
    "accuracy = accuracy_score(y_val, pred)\n",
    "precision = precision_score(y_val, pred)\n",
    "recall = recall_score(y_val, pred)\n",
    "\n",
    "# 결과 출력\n",
    "print(f'F1 Score: {f1}')\n",
    "print('---')\n",
    "print('Confusion Matrix:')\n",
    "print(conf_matrix)\n",
    "print('---')\n",
    "print(f'Accuracy: {accuracy}')\n",
    "print(f'Precision: {precision}')\n",
    "print(f'Recall: {recall}')"
   ]
  },
  {
   "cell_type": "markdown",
   "id": "fae6a93f",
   "metadata": {},
   "source": [
    "et"
   ]
  },
  {
   "cell_type": "markdown",
   "id": "4739533d",
   "metadata": {},
   "source": [
    "Best trial: score 0.2237960339943343,  \n",
    "params {'n_estimators': 1645, 'max_depth': 32, 'min_samples_split': 8,   \n",
    "'min_samples_leaf': 1, 'criterion': 'entropy', 'bootstrap': False}"
   ]
  },
  {
   "cell_type": "code",
   "execution_count": 39,
   "id": "10bb401f",
   "metadata": {},
   "outputs": [
    {
     "name": "stderr",
     "output_type": "stream",
     "text": [
      "C:\\Users\\juneh\\AppData\\Roaming\\Python\\Python37\\site-packages\\ipykernel_launcher.py:7: SettingWithCopyWarning: \n",
      "A value is trying to be set on a copy of a slice from a DataFrame.\n",
      "Try using .loc[row_indexer,col_indexer] = value instead\n",
      "\n",
      "See the caveats in the documentation: https://pandas.pydata.org/pandas-docs/stable/user_guide/indexing.html#returning-a-view-versus-a-copy\n",
      "  import sys\n"
     ]
    },
    {
     "name": "stdout",
     "output_type": "stream",
     "text": [
      "F1 Score: 0.2237960339943343\n",
      "---\n",
      "Confusion Matrix:\n",
      "[[7475  187]\n",
      " [ 361   79]]\n",
      "---\n",
      "Accuracy: 0.9323623796593433\n",
      "Precision: 0.29699248120300753\n",
      "Recall: 0.17954545454545454\n"
     ]
    }
   ],
   "source": [
    "import optuna\n",
    "from sklearn.ensemble import ExtraTreesClassifier\n",
    "from sklearn.model_selection import train_test_split\n",
    "from sklearn.metrics import f1_score, confusion_matrix, accuracy_score, precision_score, recall_score\n",
    "\n",
    "# 'Normal'과 'AbNormal'을 숫자로 변환\n",
    "train_data_fill2['target'] = train_data_fill2['target'].map({'Normal': 0, 'AbNormal': 1})\n",
    "\n",
    "# 스레드홀드 설정\n",
    "THRESHOLD = 0.3\n",
    "\n",
    "# 하이퍼파라미터 설정 (옵튜나에서 구한 최적의 하이퍼파라미터를 입력하세요)\n",
    "best_params = {\n",
    "    'n_estimators': 1645,  # 예시 값, 옵튜나 결과로 대체\n",
    "    'max_depth': 32,  # 예시 값, 옵튜나 결과로 대체\n",
    "    'min_samples_split': 8,  # 예시 값, 옵튜나 결과로 대체\n",
    "    'min_samples_leaf': 1,  # 예시 값, 옵튜나 결과로 대체\n",
    "    'criterion': 'entropy',  # 예시 값, 옵튜나 결과로 대체\n",
    "    'bootstrap': False,  # 예시 값, 옵튜나 결과로 대체\n",
    "    'random_state': RANDOM_STATE\n",
    "}\n",
    "\n",
    "# 데이터셋 분할\n",
    "x_train, x_val, y_train, y_val = train_test_split(\n",
    "    train_data_fill2.drop(\"target\", axis=1),\n",
    "    train_data_fill2[\"target\"],\n",
    "    test_size=0.2,\n",
    "    shuffle=True,\n",
    "    random_state=RANDOM_STATE,\n",
    ")\n",
    "\n",
    "# 모델 학습\n",
    "model = ExtraTreesClassifier(**best_params)\n",
    "model.fit(x_train, y_train)\n",
    "\n",
    "# 예측\n",
    "pred_proba = model.predict_proba(x_val)[:, 1]  # 양성 클래스 확률\n",
    "pred = (pred_proba >= THRESHOLD).astype(int)  # 스레드홀드에 따른 예측\n",
    "\n",
    "# 평가 지표 계산\n",
    "f1 = f1_score(y_val, pred, average=\"binary\")\n",
    "conf_matrix = confusion_matrix(y_val, pred)\n",
    "accuracy = accuracy_score(y_val, pred)\n",
    "precision = precision_score(y_val, pred)\n",
    "recall = recall_score(y_val, pred)\n",
    "\n",
    "# 결과 출력\n",
    "print(f'F1 Score: {f1}')\n",
    "print('---')\n",
    "print('Confusion Matrix:')\n",
    "print(conf_matrix)\n",
    "print('---')\n",
    "print(f'Accuracy: {accuracy}')\n",
    "print(f'Precision: {precision}')\n",
    "print(f'Recall: {recall}')\n"
   ]
  },
  {
   "cell_type": "markdown",
   "id": "dd0306c8",
   "metadata": {},
   "source": [
    "rf"
   ]
  },
  {
   "cell_type": "markdown",
   "id": "15473e9d",
   "metadata": {},
   "source": [
    "\n",
    "Best trial: score 0.21507537688442213,  \n",
    "params {'n_estimators': 1005, 'max_depth': 82, 'min_samples_split': 3,  \n",
    "'min_samples_leaf': 1, 'criterion': 'gini', 'class_weight': 'balanced'}"
   ]
  },
  {
   "cell_type": "code",
   "execution_count": 46,
   "id": "d673b2f5",
   "metadata": {},
   "outputs": [
    {
     "name": "stderr",
     "output_type": "stream",
     "text": [
      "C:\\Users\\juneh\\AppData\\Roaming\\Python\\Python37\\site-packages\\ipykernel_launcher.py:7: SettingWithCopyWarning: \n",
      "A value is trying to be set on a copy of a slice from a DataFrame.\n",
      "Try using .loc[row_indexer,col_indexer] = value instead\n",
      "\n",
      "See the caveats in the documentation: https://pandas.pydata.org/pandas-docs/stable/user_guide/indexing.html#returning-a-view-versus-a-copy\n",
      "  import sys\n"
     ]
    },
    {
     "name": "stdout",
     "output_type": "stream",
     "text": [
      "F1 Score: 0.21507537688442213\n",
      "---\n",
      "Confusion Matrix:\n",
      "[[7214  448]\n",
      " [ 333  107]]\n",
      "---\n",
      "Accuracy: 0.9036040483831153\n",
      "Precision: 0.1927927927927928\n",
      "Recall: 0.2431818181818182\n"
     ]
    }
   ],
   "source": [
    "import optuna\n",
    "from sklearn.ensemble import RandomForestClassifier\n",
    "from sklearn.model_selection import train_test_split\n",
    "from sklearn.metrics import f1_score, confusion_matrix, accuracy_score, precision_score, recall_score\n",
    "\n",
    "# 'Normal'과 'AbNormal'을 숫자로 변환\n",
    "train_data_fill2['target'] = train_data_fill2['target'].map({'Normal': 0, 'AbNormal': 1})\n",
    "\n",
    "# 스레드홀드 설정\n",
    "THRESHOLD = 0.3\n",
    "\n",
    "# 하이퍼파라미터 설정 (옵튜나에서 구한 최적의 하이퍼파라미터를 입력하세요)\n",
    "best_params = {\n",
    "    'n_estimators': 1005,  # 예시 값, 옵튜나 결과로 대체\n",
    "    'max_depth': 82,  # 예시 값, 옵튜나 결과로 대체\n",
    "    'min_samples_split': 3,  # 예시 값, 옵튜나 결과로 대체\n",
    "    'min_samples_leaf': 1,  # 예시 값, 옵튜나 결과로 대체\n",
    "    'criterion': 'gini',\n",
    "    'class_weight': 'balanced',\n",
    "    'random_state': RANDOM_STATE\n",
    "}\n",
    "\n",
    "# 데이터셋 분할\n",
    "x_train, x_val, y_train, y_val = train_test_split(\n",
    "    train_data_fill1.drop(\"target\", axis=1),\n",
    "    train_data_fill1[\"target\"].map({'Normal': 0, 'AbNormal': 1}),  # y_val도 숫자로 변환\n",
    "    test_size=0.2,\n",
    "    shuffle=True,\n",
    "    random_state=RANDOM_STATE,\n",
    ")\n",
    "\n",
    "# 모델 학습\n",
    "model = RandomForestClassifier(**best_params)\n",
    "model.fit(x_train, y_train)\n",
    "\n",
    "# 예측\n",
    "pred_proba = model.predict_proba(x_val)[:, 1]  # 양성 클래스 확률\n",
    "pred = (pred_proba >= THRESHOLD).astype(int)  # 스레드홀드에 따른 예측\n",
    "\n",
    "# 평가 지표 계산\n",
    "f1 = f1_score(y_val, pred, average=\"binary\")\n",
    "conf_matrix = confusion_matrix(y_val, pred)\n",
    "accuracy = accuracy_score(y_val, pred)\n",
    "precision = precision_score(y_val, pred)\n",
    "recall = recall_score(y_val, pred)\n",
    "\n",
    "# 결과 출력\n",
    "print(f'F1 Score: {f1}')\n",
    "print('---')\n",
    "print('Confusion Matrix:')\n",
    "print(conf_matrix)\n",
    "print('---')\n",
    "print(f'Accuracy: {accuracy}')\n",
    "print(f'Precision: {precision}')\n",
    "print(f'Recall: {recall}')"
   ]
  },
  {
   "cell_type": "markdown",
   "id": "7390dd8d",
   "metadata": {},
   "source": [
    "catboost"
   ]
  },
  {
   "cell_type": "markdown",
   "id": "ccd26615",
   "metadata": {},
   "source": [
    "\n",
    "Best trial: score 0.23717948717948717,  \n",
    "params {'iterations': 757, 'learning_rate': 0.050198665725373286, 'depth': 9,  \n",
    "'l2_leaf_reg': 1.424531204481141, 'random_strength': 9.361327508234833,  \n",
    "'bagging_temperature': 4.80588064825688, 'border_count': 99,  \n",
    "'scale_pos_weight': 1.1403833705864026}"
   ]
  },
  {
   "cell_type": "code",
   "execution_count": 51,
   "id": "d3d730f0",
   "metadata": {},
   "outputs": [
    {
     "name": "stderr",
     "output_type": "stream",
     "text": [
      "C:\\Users\\juneh\\AppData\\Roaming\\Python\\Python37\\site-packages\\ipykernel_launcher.py:7: SettingWithCopyWarning: \n",
      "A value is trying to be set on a copy of a slice from a DataFrame.\n",
      "Try using .loc[row_indexer,col_indexer] = value instead\n",
      "\n",
      "See the caveats in the documentation: https://pandas.pydata.org/pandas-docs/stable/user_guide/indexing.html#returning-a-view-versus-a-copy\n",
      "  import sys\n"
     ]
    },
    {
     "name": "stdout",
     "output_type": "stream",
     "text": [
      "F1 Score: 0.23717948717948717\n",
      "---\n",
      "Confusion Matrix:\n",
      "[[7552  110]\n",
      " [ 366   74]]\n",
      "---\n",
      "Accuracy: 0.9412490743026414\n",
      "Precision: 0.40217391304347827\n",
      "Recall: 0.16818181818181818\n"
     ]
    }
   ],
   "source": [
    "import optuna\n",
    "from catboost import CatBoostClassifier\n",
    "from sklearn.model_selection import train_test_split\n",
    "from sklearn.metrics import f1_score, confusion_matrix, accuracy_score, precision_score, recall_score\n",
    "\n",
    "# 'Normal'과 'AbNormal'을 숫자로 변환\n",
    "train_data_fill2['target'] = train_data_fill2['target'].map({'Normal': 0, 'AbNormal': 1})\n",
    "\n",
    "# 스레드홀드 설정\n",
    "THRESHOLD = 0.3\n",
    "\n",
    "# 하이퍼파라미터 설정 (옵튜나에서 구한 최적의 하이퍼파라미터를 입력하세요)\n",
    "best_params = {\n",
    "    'iterations': 757,  # 예시 값, 옵튜나 결과로 대체\n",
    "    'learning_rate': 0.050198665725373286,  # 예시 값, 옵튜나 결과로 대체\n",
    "    'depth': 9,  # 예시 값, 옵튜나 결과로 대체\n",
    "    'l2_leaf_reg': 1.4245312044811413,  # 예시 값, 옵튜나 결과로 대체\n",
    "    'random_strength': 9.361327508234833,\n",
    "    'bagging_temperature': 4.80588064825688,\n",
    "    'border_count': 99,\n",
    "    'scale_pos_weight': 1.1403833705864026,\n",
    "    \n",
    "    'random_seed': RANDOM_STATE,\n",
    "    'eval_metric': 'F1',\n",
    "    'logging_level': 'Silent',\n",
    "    'boosting_type': 'Plain'\n",
    "}\n",
    "\n",
    "# 데이터셋 분할\n",
    "x_train, x_val, y_train, y_val = train_test_split(\n",
    "    train_data_fill2.drop(\"target\", axis=1),\n",
    "    train_data_fill2[\"target\"],\n",
    "    test_size=0.2,\n",
    "    shuffle=True,\n",
    "    random_state=RANDOM_STATE,\n",
    ")\n",
    "\n",
    "# 모델 학습\n",
    "model = CatBoostClassifier(**best_params)\n",
    "model.fit(x_train, y_train)\n",
    "\n",
    "# 예측\n",
    "pred_proba = model.predict_proba(x_val)[:, 1]  # 양성 클래스 확률\n",
    "pred = (pred_proba >= THRESHOLD).astype(int)  # 스레드홀드에 따른 예측\n",
    "\n",
    "# 평가 지표 계산\n",
    "f1 = f1_score(y_val, pred, average=\"binary\")\n",
    "conf_matrix = confusion_matrix(y_val, pred)\n",
    "accuracy = accuracy_score(y_val, pred)\n",
    "precision = precision_score(y_val, pred)\n",
    "recall = recall_score(y_val, pred)\n",
    "\n",
    "# 결과 출력\n",
    "print(f'F1 Score: {f1}')\n",
    "print('---')\n",
    "print('Confusion Matrix:')\n",
    "print(conf_matrix)\n",
    "print('---')\n",
    "print(f'Accuracy: {accuracy}')\n",
    "print(f'Precision: {precision}')\n",
    "print(f'Recall: {recall}')\n"
   ]
  },
  {
   "cell_type": "markdown",
   "id": "34ecc88d",
   "metadata": {},
   "source": [
    "."
   ]
  }
 ],
 "metadata": {
  "kernelspec": {
   "display_name": "Python 3 (ipykernel)",
   "language": "python",
   "name": "python3"
  },
  "language_info": {
   "codemirror_mode": {
    "name": "ipython",
    "version": 3
   },
   "file_extension": ".py",
   "mimetype": "text/x-python",
   "name": "python",
   "nbconvert_exporter": "python",
   "pygments_lexer": "ipython3",
   "version": "3.12.0"
  }
 },
 "nbformat": 4,
 "nbformat_minor": 5
}

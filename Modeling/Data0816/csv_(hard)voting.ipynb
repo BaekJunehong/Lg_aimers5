{
 "cells": [
  {
   "cell_type": "markdown",
   "id": "017e9265",
   "metadata": {},
   "source": [
    "# 제품 이상여부 판별 프로젝트\n"
   ]
  },
  {
   "cell_type": "markdown",
   "id": "acdab431",
   "metadata": {},
   "source": [
    "## 데이터 불러오기\n"
   ]
  },
  {
   "cell_type": "markdown",
   "id": "2b8341e8",
   "metadata": {},
   "source": [
    "### 필수 라이브러리\n"
   ]
  },
  {
   "cell_type": "markdown",
   "id": "40e8a8f5",
   "metadata": {},
   "source": [
    "---"
   ]
  },
  {
   "cell_type": "markdown",
   "id": "8b240214",
   "metadata": {},
   "source": [
    "## 5. ETC..."
   ]
  },
  {
   "cell_type": "markdown",
   "id": "899379df",
   "metadata": {},
   "source": [
    "모델을 통해 예측해 낸 정답지(csv) 파일의 결과값을 불러와 voting 하는 방식  \n",
    "이때의 voting은 hard방식만 가능(예측확률은 저장되어있지 않음으로 soft 보팅은 불가능)  "
   ]
  },
  {
   "cell_type": "code",
   "execution_count": 1,
   "id": "03053beb",
   "metadata": {},
   "outputs": [],
   "source": [
    "import pandas as pd\n",
    "import numpy as np\n",
    "from collections import Counter\n",
    "\n",
    "def read_submission_files(file_paths):\n",
    "    \"\"\"\n",
    "    제출 파일을 읽어와서 예측 결과를 반환합니다.\n",
    "\n",
    "    Parameters:\n",
    "    file_paths (list of str): 제출 파일 경로 리스트\n",
    "\n",
    "    Returns:\n",
    "    list of np.array: 각 제출 파일의 예측 결과 리스트\n",
    "    \"\"\"\n",
    "    predictions = []\n",
    "    for file_path in file_paths:\n",
    "        df = pd.read_csv(file_path)\n",
    "        preds = df['target'].apply(lambda x: 1 if x == 'AbNormal' else 0).values\n",
    "        predictions.append(preds)\n",
    "    return predictions\n",
    "\n",
    "def hard_voting(preds):\n",
    "    \"\"\"\n",
    "    하드 보팅을 사용하여 최종 예측을 수행합니다.\n",
    "\n",
    "    Parameters:\n",
    "    preds (list of np.array): 각 모델의 예측 배열 리스트\n",
    "\n",
    "    Returns:\n",
    "    np.array: 최종 예측 결과\n",
    "    \"\"\"\n",
    "    preds = np.array(preds)\n",
    "    \n",
    "    # 각 샘플의 예측 결과를 문자열로 변환하여 리스트에 저장\n",
    "    sample_predictions = [''.join(map(str, x)) for x in preds.T]\n",
    "    \n",
    "    # 각 예측 결과의 빈도수를 계산\n",
    "    prediction_counts = Counter(sample_predictions)\n",
    "    \n",
    "    # 빈도수 출력\n",
    "    for pred, count in prediction_counts.items():\n",
    "        print(f\"Prediction {pred}: {count} times\")\n",
    "    \n",
    "    # 하드 보팅을 통해 최종 예측을 계산\n",
    "    final_predictions = np.apply_along_axis(lambda x: np.bincount(x).argmax(), axis=0, arr=preds)\n",
    "    return final_predictions"
   ]
  },
  {
   "cell_type": "code",
   "execution_count": 24,
   "id": "d98d36cf",
   "metadata": {},
   "outputs": [
    {
     "name": "stdout",
     "output_type": "stream",
     "text": [
      "Prediction 000: 16015 times\n",
      "Prediction 101: 28 times\n",
      "Prediction 100: 65 times\n",
      "Prediction 110: 122 times\n",
      "Prediction 111: 414 times\n",
      "Prediction 010: 387 times\n",
      "Prediction 001: 151 times\n",
      "Prediction 011: 179 times\n",
      "최종 제출 파일이 'final_submission.csv'로 저장되었습니다.\n"
     ]
    }
   ],
   "source": [
    "# 제출 파일 경로 리스트\n",
    "file_paths = [\n",
    "    \"data0816_cat_0.22_submission.csv\"\n",
    "    , \"data0816_light_0.23_submission.csv\"\n",
    "    , \"data0816_xgb_0.23_submission.csv\"\n",
    "    # 파일 추가 가능\n",
    "    ]\n",
    "\n",
    "# 제출 파일에서 예측 결과 읽어오기\n",
    "predictions = read_submission_files(file_paths)\n",
    "\n",
    "# 하드 보팅 결과\n",
    "final_predictions_hard = hard_voting(predictions)\n",
    "\n",
    "# 결과를 새로운 제출 파일로 저장\n",
    "df_sub = pd.read_csv(file_paths[0])\n",
    "df_sub[\"target\"] = final_predictions_hard\n",
    "df_sub['target'] = df_sub['target'].apply(lambda x: 'AbNormal' if x == 1 else 'Normal')\n",
    "df_sub.to_csv(\"final_submission.csv\", index=False)\n",
    "\n",
    "print(\"최종 제출 파일이 'final_submission.csv'로 저장되었습니다.\")"
   ]
  },
  {
   "cell_type": "markdown",
   "id": "807bd344",
   "metadata": {},
   "source": [
    "=== Message ===  \n",
    "작성하신 답안 제출이 완료되었습니다.  \n",
    "Public Score : 0.22474460839954596    "
   ]
  },
  {
   "cell_type": "code",
   "execution_count": 25,
   "id": "d826211b",
   "metadata": {},
   "outputs": [
    {
     "data": {
      "text/plain": [
       "Normal      16618\n",
       "AbNormal      743\n",
       "Name: target, dtype: int64"
      ]
     },
     "execution_count": 25,
     "metadata": {},
     "output_type": "execute_result"
    }
   ],
   "source": [
    "df_sub['target'].value_counts()"
   ]
  },
  {
   "cell_type": "code",
   "execution_count": 26,
   "id": "a24c2e44",
   "metadata": {},
   "outputs": [
    {
     "name": "stdout",
     "output_type": "stream",
     "text": [
      "Prediction 00000: 13650 times\n",
      "Prediction 00001: 2596 times\n",
      "Prediction 11111: 354 times\n",
      "Prediction 00101: 108 times\n",
      "Prediction 11101: 49 times\n",
      "Prediction 00111: 76 times\n",
      "Prediction 11001: 121 times\n",
      "Prediction 00011: 168 times\n",
      "Prediction 11011: 104 times\n",
      "Prediction 00010: 49 times\n",
      "Prediction 11000: 35 times\n",
      "Prediction 00110: 9 times\n",
      "Prediction 00100: 27 times\n",
      "Prediction 11110: 3 times\n",
      "Prediction 11010: 9 times\n",
      "Prediction 11100: 3 times\n",
      "최종 제출 파일이 'final_submission2.csv'로 저장되었습니다.\n"
     ]
    }
   ],
   "source": [
    "# 제출 파일 경로 리스트\n",
    "file_paths = [\n",
    "    \"data0816_light_cutoff0.28_submission.csv\"\n",
    "    , \"data0816_light_cutoff0.28_submission.csv\"\n",
    "    , \"data0816_cat_0.22_submission.csv\"\n",
    "    , \"data0816_xgb_0.23_submission.csv\"\n",
    "    , \"data0816_ada_cutoff0.3_submission.csv\"\n",
    "    # 파일 추가 가능\n",
    "    ]\n",
    "\n",
    "# 제출 파일에서 예측 결과 읽어오기\n",
    "predictions = read_submission_files(file_paths)\n",
    "\n",
    "# 하드 보팅 결과\n",
    "final_predictions_hard = hard_voting(predictions)\n",
    "\n",
    "# 결과를 새로운 제출 파일로 저장\n",
    "df_sub = pd.read_csv(file_paths[0])\n",
    "df_sub[\"target\"] = final_predictions_hard\n",
    "df_sub['target'] = df_sub['target'].apply(lambda x: 'AbNormal' if x == 1 else 'Normal')\n",
    "df_sub.to_csv(\"final_submission2.csv\", index=False)\n",
    "\n",
    "print(\"최종 제출 파일이 'final_submission2.csv'로 저장되었습니다.\")"
   ]
  },
  {
   "cell_type": "markdown",
   "id": "95f97e18",
   "metadata": {},
   "source": [
    "=== Message ===  \n",
    "작성하신 답안 제출이 완료되었습니다.  \n",
    "Public Score : 0.23094688221709006"
   ]
  },
  {
   "cell_type": "code",
   "execution_count": 27,
   "id": "f60a8b84",
   "metadata": {},
   "outputs": [
    {
     "data": {
      "text/plain": [
       "Normal      16642\n",
       "AbNormal      719\n",
       "Name: target, dtype: int64"
      ]
     },
     "execution_count": 27,
     "metadata": {},
     "output_type": "execute_result"
    }
   ],
   "source": [
    "df_sub['target'].value_counts()"
   ]
  },
  {
   "cell_type": "code",
   "execution_count": 28,
   "id": "2138cd48",
   "metadata": {},
   "outputs": [
    {
     "data": {
      "text/html": [
       "<div>\n",
       "<style scoped>\n",
       "    .dataframe tbody tr th:only-of-type {\n",
       "        vertical-align: middle;\n",
       "    }\n",
       "\n",
       "    .dataframe tbody tr th {\n",
       "        vertical-align: top;\n",
       "    }\n",
       "\n",
       "    .dataframe thead th {\n",
       "        text-align: right;\n",
       "    }\n",
       "</style>\n",
       "<table border=\"1\" class=\"dataframe\">\n",
       "  <thead>\n",
       "    <tr style=\"text-align: right;\">\n",
       "      <th></th>\n",
       "      <th>Set ID</th>\n",
       "      <th>target</th>\n",
       "    </tr>\n",
       "  </thead>\n",
       "  <tbody>\n",
       "    <tr>\n",
       "      <th>0</th>\n",
       "      <td>0001be084fbc4aaa9d921f39e595961b</td>\n",
       "      <td>Normal</td>\n",
       "    </tr>\n",
       "    <tr>\n",
       "      <th>1</th>\n",
       "      <td>0005bbd180064abd99e63f9ed3e1ac80</td>\n",
       "      <td>Normal</td>\n",
       "    </tr>\n",
       "    <tr>\n",
       "      <th>2</th>\n",
       "      <td>000948934c4140d883d670adcb609584</td>\n",
       "      <td>Normal</td>\n",
       "    </tr>\n",
       "    <tr>\n",
       "      <th>3</th>\n",
       "      <td>000a6bfd02874c6296dc7b2e9c5678a7</td>\n",
       "      <td>Normal</td>\n",
       "    </tr>\n",
       "    <tr>\n",
       "      <th>4</th>\n",
       "      <td>0018e78ce91343678716e2ea27a51c95</td>\n",
       "      <td>Normal</td>\n",
       "    </tr>\n",
       "    <tr>\n",
       "      <th>5</th>\n",
       "      <td>001fda4596f545d0a3b0ce85fbea77d2</td>\n",
       "      <td>Normal</td>\n",
       "    </tr>\n",
       "    <tr>\n",
       "      <th>6</th>\n",
       "      <td>0020734a7b29472298358ad58645a0c9</td>\n",
       "      <td>Normal</td>\n",
       "    </tr>\n",
       "    <tr>\n",
       "      <th>7</th>\n",
       "      <td>00234c5914cd4c4a888d13f8b3773135</td>\n",
       "      <td>Normal</td>\n",
       "    </tr>\n",
       "    <tr>\n",
       "      <th>8</th>\n",
       "      <td>00297b6c93e44d49ac534758a23dc74e</td>\n",
       "      <td>Normal</td>\n",
       "    </tr>\n",
       "    <tr>\n",
       "      <th>9</th>\n",
       "      <td>002d904240d84b188d410d16383a9c3a</td>\n",
       "      <td>Normal</td>\n",
       "    </tr>\n",
       "  </tbody>\n",
       "</table>\n",
       "</div>"
      ],
      "text/plain": [
       "                             Set ID  target\n",
       "0  0001be084fbc4aaa9d921f39e595961b  Normal\n",
       "1  0005bbd180064abd99e63f9ed3e1ac80  Normal\n",
       "2  000948934c4140d883d670adcb609584  Normal\n",
       "3  000a6bfd02874c6296dc7b2e9c5678a7  Normal\n",
       "4  0018e78ce91343678716e2ea27a51c95  Normal\n",
       "5  001fda4596f545d0a3b0ce85fbea77d2  Normal\n",
       "6  0020734a7b29472298358ad58645a0c9  Normal\n",
       "7  00234c5914cd4c4a888d13f8b3773135  Normal\n",
       "8  00297b6c93e44d49ac534758a23dc74e  Normal\n",
       "9  002d904240d84b188d410d16383a9c3a  Normal"
      ]
     },
     "execution_count": 28,
     "metadata": {},
     "output_type": "execute_result"
    }
   ],
   "source": [
    "df_sub.head(10)"
   ]
  }
 ],
 "metadata": {
  "kernelspec": {
   "display_name": "Python 3 (ipykernel)",
   "language": "python",
   "name": "python3"
  },
  "language_info": {
   "codemirror_mode": {
    "name": "ipython",
    "version": 3
   },
   "file_extension": ".py",
   "mimetype": "text/x-python",
   "name": "python",
   "nbconvert_exporter": "python",
   "pygments_lexer": "ipython3",
   "version": "3.7.8"
  }
 },
 "nbformat": 4,
 "nbformat_minor": 5
}

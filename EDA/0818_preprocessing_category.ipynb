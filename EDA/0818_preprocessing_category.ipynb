{
 "cells": [
  {
   "cell_type": "markdown",
   "id": "e13b27e8-4277-4714-80f6-8fcecb9d531b",
   "metadata": {},
   "source": [
    "# 공정 4개 전처리"
   ]
  },
  {
   "cell_type": "code",
   "execution_count": 153,
   "id": "d48d931e-198d-473c-a36d-6cd8914d564a",
   "metadata": {},
   "outputs": [],
   "source": [
    "import numpy as np\n",
    "import pandas as pd\n",
    "\n",
    "import seaborn as sns\n",
    "import matplotlib as mpl\n",
    "import matplotlib.pyplot as plt "
   ]
  },
  {
   "cell_type": "code",
   "execution_count": 154,
   "id": "c3352387-f469-4a46-a648-1a6b5eb353ab",
   "metadata": {},
   "outputs": [],
   "source": [
    "# csv 불러오기\n",
    "train_data = pd.read_csv('trim_train_data.csv')\n",
    "test_data = pd.read_csv('trim_test_data.csv')"
   ]
  },
  {
   "cell_type": "markdown",
   "id": "64f6f25e-68c6-45b2-8888-d762a4199bb5",
   "metadata": {},
   "source": [
    "### 1. 기본 전처리"
   ]
  },
  {
   "cell_type": "code",
   "execution_count": 155,
   "id": "ef282a8f-1717-4582-9abb-b064b243bac7",
   "metadata": {},
   "outputs": [],
   "source": [
    "# target 열을 임시로 분리\n",
    "target_train = train_data['target']\n",
    "target_test = test_data['target']\n",
    "\n",
    "# 모든 값이 NaN인 열 제거\n",
    "train_data = train_data.dropna(axis=1, how='all')\n",
    "test_data = test_data.dropna(axis=1, how='all')\n",
    "\n",
    "# target 열을 다시 결합\n",
    "train_data['target'] = target_train\n",
    "test_data['target'] = target_test"
   ]
  },
  {
   "cell_type": "code",
   "execution_count": 156,
   "id": "8f245f17-b82f-4406-8f9d-cccf488bf387",
   "metadata": {},
   "outputs": [],
   "source": [
    "# Wip Line 열 제거\n",
    "wip_line_columns = train_data.filter(like='Wip Line').columns\n",
    "\n",
    "train_data.drop(columns=wip_line_columns, inplace=True)\n",
    "test_data.drop(columns=wip_line_columns, inplace=True)"
   ]
  },
  {
   "cell_type": "code",
   "execution_count": 157,
   "id": "25a4af25-3399-4762-be4e-7c77d67e677b",
   "metadata": {},
   "outputs": [],
   "source": [
    "# Process Desc 열 제거\n",
    "Process_Desc_col = train_data.filter(like='Process Desc').columns\n",
    "\n",
    "train_data.drop(columns=Process_Desc_col, inplace=True)\n",
    "test_data.drop(columns=Process_Desc_col, inplace=True)"
   ]
  },
  {
   "cell_type": "code",
   "execution_count": 158,
   "id": "c75a3e26-5efa-420e-998f-b0df0040df5d",
   "metadata": {},
   "outputs": [],
   "source": [
    "# Insp. Seq No 열 제거\n",
    "Insp_Seq_No_col = train_data.filter(like='Insp. Seq No').columns\n",
    "\n",
    "train_data.drop(columns=Insp_Seq_No_col, inplace=True)\n",
    "test_data.drop(columns=Insp_Seq_No_col, inplace=True)"
   ]
  },
  {
   "cell_type": "code",
   "execution_count": 159,
   "id": "f2a9ca83-eca1-4a22-b0c9-027f1960239f",
   "metadata": {},
   "outputs": [],
   "source": [
    "# Insp Judge Code 열 제거\n",
    "Insp_Judge_Code_col = train_data.filter(like='Insp Judge Code').columns\n",
    "\n",
    "train_data.drop(columns=Insp_Judge_Code_col, inplace=True)\n",
    "test_data.drop(columns=Insp_Judge_Code_col, inplace=True)"
   ]
  },
  {
   "cell_type": "markdown",
   "id": "078e2803-88fe-4d64-9f9d-fa60b6bb5299",
   "metadata": {},
   "source": [
    "### 2. 제품 구분"
   ]
  },
  {
   "cell_type": "markdown",
   "id": "546e33e3-9684-4c66-b33a-db13c3ca21e0",
   "metadata": {},
   "source": [
    "- receip no, workorder, model.suffix"
   ]
  },
  {
   "cell_type": "code",
   "execution_count": 160,
   "id": "ba667da8-fe3c-4eb2-87de-bd10d7300815",
   "metadata": {},
   "outputs": [],
   "source": [
    "### Receip_No\n",
    "# 파생변수 생성: Receip_No 3개의 컬럼 값이 모두 동일하면 해당 값을 저장, 아니면 diff\n",
    "train_data['Receip_No'] = train_data.apply(\n",
    "    lambda row: row['Receip No Collect Result_Dam'] if (row['Receip No Collect Result_Dam'] == row['Receip No Collect Result_Fill1'] == row['Receip No Collect Result_Fill2']) else 'diff',\n",
    "    axis=1\n",
    ")\n",
    "test_data['Receip_No'] = test_data.apply(\n",
    "    lambda row: row['Receip No Collect Result_Dam'] if (row['Receip No Collect Result_Dam'] == row['Receip No Collect Result_Fill1'] == row['Receip No Collect Result_Fill2']) else 'diff',\n",
    "    axis=1\n",
    ")\n",
    "\n",
    "# 필요없는 변수 삭제\n",
    "train_data = train_data.drop(columns=['Receip No Collect Result_Dam', 'Receip No Collect Result_Fill1', 'Receip No Collect Result_Fill2'])\n",
    "test_data = test_data.drop(columns=['Receip No Collect Result_Dam', 'Receip No Collect Result_Fill1', 'Receip No Collect Result_Fill2'])"
   ]
  },
  {
   "cell_type": "code",
   "execution_count": 161,
   "id": "99a615a2-45e0-4a21-aad3-bc2a4582d16f",
   "metadata": {},
   "outputs": [],
   "source": [
    "### model_receip\n",
    "# 파생변수 생성: Receip No와 Model.Suffix의 조합\n",
    "train_data['model_receip'] = train_data['Model.Suffix_Dam'] + '_' + train_data['Receip_No'].astype(str)\n",
    "test_data['model_receip'] = test_data['Model.Suffix_Dam'] + '_' + test_data['Receip_No'].astype(str)\n",
    "\n",
    "# 필요없는 변수 삭제\n",
    "train_data = train_data.drop(columns=['Model.Suffix_Dam', 'Model.Suffix_AutoClave', 'Model.Suffix_Fill1', 'Model.Suffix_Fill2'])\n",
    "test_data = test_data.drop(columns=['Model.Suffix_Dam', 'Model.Suffix_AutoClave', 'Model.Suffix_Fill1', 'Model.Suffix_Fill2'])"
   ]
  },
  {
   "cell_type": "code",
   "execution_count": 162,
   "id": "4d83525c-04c8-4dd7-a62c-28c70c182f26",
   "metadata": {},
   "outputs": [],
   "source": [
    "### workorder_receip\n",
    "\n",
    "# Workorder -뒤의 번호 구분을 제거\n",
    "train_data['cleaned_workorder'] = train_data['Workorder_Dam'].str.split('-').str[0]\n",
    "test_data['cleaned_workorder'] = test_data['Workorder_Dam'].str.split('-').str[0]\n",
    "\n",
    "# Workorder 앞 5자리\n",
    "#train_data['cleaned_workorder'] = train_data['Workorder_Dam'].str[:5]\n",
    "#test_data['cleaned_workorder'] = test_data['Workorder_Dam'].str[:5]\n",
    "\n",
    "# \b파생변수 생성: Receip No와 workorder의 조합\n",
    "train_data['workorder_receip'] = train_data['cleaned_workorder'] + '_' + train_data['Receip_No'].astype(str)\n",
    "test_data['workorder_receip'] = test_data['cleaned_workorder'] + '_' + test_data['Receip_No'].astype(str)\n",
    "\n",
    "# 필요없는 변수 삭제\n",
    "train_data = train_data.drop(columns=['Receip_No', 'cleaned_workorder', 'Workorder_Dam', 'Workorder_AutoClave', 'Workorder_Fill1', 'Workorder_Fill2'])\n",
    "test_data = test_data.drop(columns=['Receip_No', 'cleaned_workorder', 'Workorder_Dam', 'Workorder_AutoClave', 'Workorder_Fill1', 'Workorder_Fill2'])"
   ]
  },
  {
   "cell_type": "markdown",
   "id": "cb9c6ca4-45bd-4c39-8af6-7fd0d61e103c",
   "metadata": {},
   "source": [
    "### 3. 공통 변수 (dam, fill1, fill2)"
   ]
  },
  {
   "cell_type": "markdown",
   "id": "e4651eb9-eb1a-44a4-8979-2a38a8b9c532",
   "metadata": {},
   "source": [
    "- workmode"
   ]
  },
  {
   "cell_type": "code",
   "execution_count": 163,
   "id": "6a33f774-81d7-4716-9176-79eaee466ab1",
   "metadata": {},
   "outputs": [],
   "source": [
    "# WorkMode Collect Result_Dam의 이름을 WorkMode Collect Result로 변경\n",
    "train_data = train_data.rename(columns={'WorkMode Collect Result_Dam': 'WorkMode Collect Result'})\n",
    "test_data = test_data.rename(columns={'WorkMode Collect Result_Dam': 'WorkMode Collect Result'})\n",
    "\n",
    "# WorkMode Collect Result_Fill1, WorkMode Collect Result_Fill2 열 드롭\n",
    "train_data = train_data.drop(columns=['WorkMode Collect Result_Fill1', 'WorkMode Collect Result_Fill2'])\n",
    "test_data = test_data.drop(columns=['WorkMode Collect Result_Fill1', 'WorkMode Collect Result_Fill2'])"
   ]
  },
  {
   "cell_type": "code",
   "execution_count": 164,
   "id": "58781314-726c-42d1-a34f-cc12ce092852",
   "metadata": {},
   "outputs": [],
   "source": [
    "# WorkMode Collect Result 열의 값이 7인 행을 1로 변경\n",
    "train_data['WorkMode Collect Result'] = train_data['WorkMode Collect Result'].replace(7, 1)\n",
    "test_data['WorkMode Collect Result'] = test_data['WorkMode Collect Result'].replace(7, 1)\n",
    "\n",
    "# WorkMode Collect Result 열의 결측값을 0으로 채움\n",
    "train_data['WorkMode Collect Result'] = train_data['WorkMode Collect Result'].fillna(0)\n",
    "test_data['WorkMode Collect Result'] = test_data['WorkMode Collect Result'].fillna(0)"
   ]
  },
  {
   "cell_type": "markdown",
   "id": "04f80682-b12e-4f8a-8ff8-39423a35e2d7",
   "metadata": {},
   "source": [
    "- equipment\n",
    "<br>(dispenser1 & dispenser2 변수를 만들 경우 다른 변수들에 의해 이미 설명이 되는 변수라 상관계수가 너무 높아서 제거하게 됨. 따라서 equipment가 같은지만 판단하는 파생변수 사용)"
   ]
  },
  {
   "cell_type": "code",
   "execution_count": 165,
   "id": "8140b28a-2781-4356-9fe5-ac8d50beb48a",
   "metadata": {},
   "outputs": [],
   "source": [
    "# Equipment로 시작하는 열 필터링\n",
    "Equipment_col = train_data.filter(like='Equipment').columns\n",
    "Equipment_col2 = test_data.filter(like='Equipment').columns\n",
    "\n",
    "new_train = train_data.filter(items=Equipment_col)\n",
    "new_test = test_data.filter(items=Equipment_col2)\n",
    "\n",
    "# Equipment_same_num 파생변수 생성\n",
    "def determine_equipment_same_num(row):\n",
    "    if (row['Equipment_Dam'] == 'Dam dispenser #1' and row['Equipment_AutoClave'] == 'Auto Clave Out' and \n",
    "        row['Equipment_Fill1'] == 'Fill1 dispenser #1' and row['Equipment_Fill2'] == 'Fill2 dispenser #1') or \\\n",
    "       (row['Equipment_Dam'] == 'Dam dispenser #2' and row['Equipment_AutoClave'] == 'Auto Clave Out' and \n",
    "        row['Equipment_Fill1'] == 'Fill1 dispenser #2' and row['Equipment_Fill2'] == 'Fill2 dispenser #2'):\n",
    "        return 1\n",
    "    else:\n",
    "        return 0\n",
    "\n",
    "train_data['Equipment_same_num'] = new_train.apply(determine_equipment_same_num, axis=1)\n",
    "test_data['Equipment_same_num'] = new_test.apply(determine_equipment_same_num, axis=1)\n",
    "\n",
    "train_data = train_data.drop(columns=['Equipment_Dam', 'Equipment_AutoClave', 'Equipment_Fill1', 'Equipment_Fill2'])\n",
    "test_data = test_data.drop(columns=['Equipment_Dam', 'Equipment_AutoClave', 'Equipment_Fill1', 'Equipment_Fill2'])"
   ]
  },
  {
   "cell_type": "markdown",
   "id": "fd07a545-9df9-488c-a27a-4104a8336fb0",
   "metadata": {},
   "source": [
    "- palletID"
   ]
  },
  {
   "cell_type": "code",
   "execution_count": 166,
   "id": "d399216f-b736-4190-be4b-3108366606c3",
   "metadata": {},
   "outputs": [],
   "source": [
    "# 세 변수의 값이 동일하면 해당 값을 가져가고, 하나라도 일치하지 않으면 diff의 값을 가지는 파생 변수 생성 함수\n",
    "def create_palletid_collect_result(df):\n",
    "    df['PalletID_Collect_Result'] = df.apply(\n",
    "        lambda row: row['PalletID Collect Result_Dam'] \n",
    "                    if (row['PalletID Collect Result_Dam'] == row['PalletID Collect Result_Fill1'] == row['PalletID Collect Result_Fill2']) \n",
    "                    else 'diff', \n",
    "        axis=1\n",
    "    )\n",
    "\n",
    "# 함수 적용\n",
    "create_palletid_collect_result(train_data)\n",
    "create_palletid_collect_result(test_data)"
   ]
  },
  {
   "cell_type": "code",
   "execution_count": 167,
   "id": "5f91f21e-89f3-4b69-afc1-6d5ab6d820f5",
   "metadata": {},
   "outputs": [],
   "source": [
    "# 제거할 변수 목록\n",
    "columns_to_drop = [\n",
    "    'PalletID Collect Result_Dam',\n",
    "    'PalletID Collect Result_Fill1',\n",
    "    'PalletID Collect Result_Fill2'\n",
    "]\n",
    "\n",
    "# 변수 제거\n",
    "train_data.drop(columns=columns_to_drop, inplace=True)\n",
    "test_data.drop(columns=columns_to_drop, inplace=True)"
   ]
  },
  {
   "cell_type": "markdown",
   "id": "f1b5310e-3d7e-4765-b902-91172707ff5a",
   "metadata": {},
   "source": [
    "- production Qty"
   ]
  },
  {
   "cell_type": "code",
   "execution_count": 168,
   "id": "c478d82f-a486-471a-a12e-3ef6e9bc875e",
   "metadata": {},
   "outputs": [],
   "source": [
    "# 세 변수의 값이 동일하면 해당 값을 가져가고, 하나라도 일치하지 않으면 0의 값을 가지는 파생 변수 생성 함수\n",
    "def create_palletid_collect_result(df):\n",
    "    df['Production_Qty_Collect_Result'] = df.apply(\n",
    "        lambda row: row['Production Qty Collect Result_Dam'] \n",
    "                    if (row['Production Qty Collect Result_Dam'] == row['Production Qty Collect Result_Fill1'] == row['Production Qty Collect Result_Fill2']) \n",
    "                    else 0, \n",
    "        axis=1\n",
    "    )\n",
    "\n",
    "# 함수 적용\n",
    "create_palletid_collect_result(train_data)\n",
    "create_palletid_collect_result(test_data)"
   ]
  },
  {
   "cell_type": "code",
   "execution_count": 169,
   "id": "bd7b99c2-4d0a-40cc-8ec4-6a31b2862bd9",
   "metadata": {},
   "outputs": [],
   "source": [
    "# 제거할 변수 목록\n",
    "columns_to_drop = [\n",
    "    'Production Qty Collect Result_Dam',\n",
    "    'Production Qty Collect Result_Fill1',\n",
    "    'Production Qty Collect Result_Fill2'\n",
    "]\n",
    "\n",
    "# 변수 제거\n",
    "train_data.drop(columns=columns_to_drop, inplace=True)\n",
    "test_data.drop(columns=columns_to_drop, inplace=True)"
   ]
  },
  {
   "cell_type": "markdown",
   "id": "de023c44-9098-4852-8650-f30408ded1dd",
   "metadata": {},
   "source": [
    "### 4. CURE 변수\n",
    "- dam -> distance 파생변수 (standby는 단일값, start와 end는 값은 여러개지만 distance 파생변수를 만들었을 때 더 의미있었음)\n",
    "- fill2 -> 변수값 범주화 (start, end, standby를 각각 범주화했을 때가 합쳐서 distance 만들었을 때보다 더 의미있었음)"
   ]
  },
  {
   "cell_type": "code",
   "execution_count": 170,
   "id": "9ec88825-bef2-443c-8722-6c3f3867a606",
   "metadata": {},
   "outputs": [],
   "source": [
    "### dam\n",
    "# 시작 위치와 끝 위치 열 이름\n",
    "start_x_col = 'CURE START POSITION X Collect Result_Dam'\n",
    "start_z_col = 33.5\n",
    "end_x_col = 'CURE END POSITION X Collect Result_Dam'\n",
    "end_z_col = 'CURE END POSITION Z Collect Result_Dam'\n",
    "\n",
    "# 시작 위치와 끝 위치 사이의 거리 계산\n",
    "train_data['CURE_DISTANCE_Dam'] = np.sqrt(\n",
    "    (train_data[end_x_col] - train_data[start_x_col]) ** 2 +\n",
    "    (train_data[end_z_col] - start_z_col) ** 2\n",
    ")\n",
    "\n",
    "test_data['CURE_DISTANCE_Dam'] = np.sqrt(\n",
    "    (train_data[end_x_col] - train_data[start_x_col]) ** 2 +\n",
    "    (train_data[end_z_col] - start_z_col) ** 2\n",
    ")"
   ]
  },
  {
   "cell_type": "code",
   "execution_count": 171,
   "id": "372b636c-6dff-42db-a9c8-f4abdb726159",
   "metadata": {},
   "outputs": [],
   "source": [
    "### fill2\n",
    "# \bUV 경화 좌표 합치기\n",
    "def create_coordinate_columns(data):\n",
    "    # Fill2\n",
    "    # cure end\n",
    "    data['cure_end_position_XZ_Fill2'] = (\n",
    "        data['CURE END POSITION X Collect Result_Fill2'].astype(str) + ',' +\n",
    "        data['CURE END POSITION Z Collect Result_Fill2'].astype(str) \n",
    "    )\n",
    "\n",
    "    # cure start\n",
    "    data['cure_start_position_XZ_Fill2'] = (\n",
    "        data['CURE START POSITION X Collect Result_Fill2'].astype(str) + ',' +\n",
    "        data['CURE START POSITION Z Collect Result_Fill2'].astype(str) \n",
    "    )\n",
    "\n",
    "    # cure standby\n",
    "    data['cure_standby_position_XZ_Fill2'] = (\n",
    "        data['CURE STANDBY POSITION X Collect Result_Fill2'].astype(str) + ',' +\n",
    "        data['CURE STANDBY POSITION Z Collect Result_Fill2'].astype(str) \n",
    "    )\n",
    "\n",
    "# train_data와 test_data에 대해 함수 호출\n",
    "create_coordinate_columns(train_data)\n",
    "create_coordinate_columns(test_data)"
   ]
  },
  {
   "cell_type": "code",
   "execution_count": 172,
   "id": "eb7f394f-640b-4bef-b01e-008310aa2f8b",
   "metadata": {},
   "outputs": [],
   "source": [
    "# 제거할 변수 목록\n",
    "columns_to_drop = [\n",
    "    'CURE END POSITION X Collect Result_Dam',\n",
    "    'CURE END POSITION Z Collect Result_Dam',\n",
    "    'CURE END POSITION Θ Collect Result_Dam',\n",
    "    'CURE START POSITION X Collect Result_Dam',\n",
    "    'CURE START POSITION Z Collect Result_Dam',\n",
    "    'CURE START POSITION Θ Collect Result_Dam',\n",
    "\n",
    "    'CURE END POSITION X Collect Result_Fill2',\n",
    "    'CURE END POSITION Z Collect Result_Fill2',\n",
    "    'CURE END POSITION Θ Collect Result_Fill2',\n",
    "    'CURE START POSITION X Collect Result_Fill2',\n",
    "    'CURE START POSITION Z Collect Result_Fill2',\n",
    "    'CURE START POSITION Θ Collect Result_Fill2',\n",
    "    'CURE STANDBY POSITION X Collect Result_Fill2',\n",
    "    'CURE STANDBY POSITION Z Collect Result_Fill2',\n",
    "    'CURE STANDBY POSITION Θ Collect Result_Fill2'\n",
    "]\n",
    "\n",
    "# 변수 제거\n",
    "train_data.drop(columns=columns_to_drop, inplace=True)\n",
    "test_data.drop(columns=columns_to_drop, inplace=True)"
   ]
  },
  {
   "cell_type": "markdown",
   "id": "184a4b1b-3e7b-4413-9704-d35f02fac78a",
   "metadata": {},
   "source": [
    "### 5. HEAD 변수"
   ]
  },
  {
   "cell_type": "markdown",
   "id": "9cc6fe5f-96d8-450c-9ef6-ae8c17a7901c",
   "metadata": {},
   "source": [
    "- dam"
   ]
  },
  {
   "cell_type": "code",
   "execution_count": 173,
   "id": "7bda1832-ce60-4c22-abb7-a760df286801",
   "metadata": {},
   "outputs": [],
   "source": [
    "# 각 스테이지의 좌표 열 정의\n",
    "stage1_cols = ['HEAD NORMAL COORDINATE X AXIS(Stage1) Collect Result_Dam',\n",
    "               'HEAD NORMAL COORDINATE Y AXIS(Stage1) Collect Result_Dam',\n",
    "               'HEAD NORMAL COORDINATE Z AXIS(Stage1) Collect Result_Dam']\n",
    "\n",
    "stage2_cols = ['HEAD NORMAL COORDINATE X AXIS(Stage2) Collect Result_Dam',\n",
    "               'HEAD NORMAL COORDINATE Y AXIS(Stage2) Collect Result_Dam',\n",
    "               'HEAD NORMAL COORDINATE Z AXIS(Stage2) Collect Result_Dam']\n",
    "\n",
    "stage3_cols = ['HEAD NORMAL COORDINATE X AXIS(Stage3) Collect Result_Dam',\n",
    "               'HEAD NORMAL COORDINATE Y AXIS(Stage3) Collect Result_Dam',\n",
    "               'HEAD NORMAL COORDINATE Z AXIS(Stage3) Collect Result_Dam']\n",
    "\n",
    "# 거리 계산 함수\n",
    "def calculate_distances(data):\n",
    "    data['HEAD NORMAL DISTANCE_STAGE1_STAGE2_Dam'] = np.sqrt(\n",
    "        (data[stage2_cols[0]] - data[stage1_cols[0]]) ** 2 +\n",
    "        (data[stage2_cols[1]] - data[stage1_cols[1]]) ** 2 +\n",
    "        (data[stage2_cols[2]] - data[stage1_cols[2]]) ** 2\n",
    "    )\n",
    "\n",
    "    data['HEAD NORMAL DISTANCE_STAGE2_STAGE3_Dam'] = np.sqrt(\n",
    "        (data[stage3_cols[0]] - data[stage2_cols[0]]) ** 2 +\n",
    "        (data[stage3_cols[1]] - data[stage2_cols[1]]) ** 2 +\n",
    "        (data[stage3_cols[2]] - data[stage2_cols[2]]) ** 2\n",
    "    )\n",
    "\n",
    "    data['HEAD NORMAL DISTANCE_STAGE1_STAGE3_Dam'] = np.sqrt(\n",
    "        (data[stage3_cols[0]] - data[stage1_cols[0]]) ** 2 +\n",
    "        (data[stage3_cols[1]] - data[stage1_cols[1]]) ** 2 +\n",
    "        (data[stage3_cols[2]] - data[stage1_cols[2]]) ** 2\n",
    "    )\n",
    "\n",
    "    return data\n",
    "\n",
    "# train_data에 적용\n",
    "train_data = calculate_distances(train_data)\n",
    "\n",
    "# test_data에 적용\n",
    "test_data = calculate_distances(test_data)"
   ]
  },
  {
   "cell_type": "code",
   "execution_count": 174,
   "id": "8db711e9-4ca2-4076-b689-241d786d968f",
   "metadata": {},
   "outputs": [],
   "source": [
    "# 필요한 열 이름\n",
    "stage1_stage2_col = 'HEAD NORMAL DISTANCE_STAGE1_STAGE2_Dam'\n",
    "stage2_stage3_col = 'HEAD NORMAL DISTANCE_STAGE2_STAGE3_Dam'\n",
    "stage1_stage3_col = 'HEAD NORMAL DISTANCE_STAGE1_STAGE3_Dam'\n",
    "\n",
    "# 삼각형의 넓이와 높이를 계산하는 함수\n",
    "def calculate_triangle_features(data):\n",
    "    a = data[stage1_stage2_col]\n",
    "    b = data[stage2_stage3_col]\n",
    "    c = data[stage1_stage3_col]\n",
    "\n",
    "    # 헤론의 공식에 따른 삼각형의 넓이 계산\n",
    "    s = (a + b + c) / 2\n",
    "    area = np.sqrt(s * (s - a) * (s - b) * (s - c))\n",
    "\n",
    "    # 높이 계산 (밑변을 c로 가정)\n",
    "    height = (2 * area) / c\n",
    "\n",
    "    # 결과를 새로운 열에 저장\n",
    "    data['HEAD NORMAL DISTANCE_TRIANGLE_area_Dam'] = area\n",
    "    data['HEAD NORMAL DISTANCE_TRIANGLE_height_Dam'] = height\n",
    "\n",
    "    return data\n",
    "\n",
    "# train_data에 적용\n",
    "train_data = calculate_triangle_features(train_data)\n",
    "\n",
    "# test_data에 적용\n",
    "test_data = calculate_triangle_features(test_data)"
   ]
  },
  {
   "cell_type": "code",
   "execution_count": 175,
   "id": "16669b71-e0b1-46de-b64c-4b014010aa3b",
   "metadata": {},
   "outputs": [],
   "source": [
    "# 제거할 변수 목록\n",
    "columns_to_drop = [\n",
    "    'HEAD NORMAL COORDINATE X AXIS(Stage1) Collect Result_Dam'\n",
    "    , 'HEAD NORMAL COORDINATE X AXIS(Stage1) Judge Value_Dam'\n",
    "    , 'HEAD NORMAL COORDINATE Y AXIS(Stage1) Collect Result_Dam'\n",
    "    , 'HEAD NORMAL COORDINATE Z AXIS(Stage1) Collect Result_Dam'\n",
    "\n",
    "    , 'HEAD NORMAL COORDINATE X AXIS(Stage2) Collect Result_Dam'\n",
    "    , 'HEAD NORMAL COORDINATE Y AXIS(Stage2) Collect Result_Dam'\n",
    "    , 'HEAD NORMAL COORDINATE Z AXIS(Stage2) Collect Result_Dam'\n",
    "\n",
    "    , 'HEAD NORMAL COORDINATE X AXIS(Stage3) Collect Result_Dam'\n",
    "    , 'HEAD NORMAL COORDINATE Y AXIS(Stage3) Collect Result_Dam'\n",
    "    , 'HEAD NORMAL COORDINATE Z AXIS(Stage3) Collect Result_Dam'\n",
    "\n",
    "    , 'HEAD NORMAL DISTANCE_STAGE1_STAGE2_Dam'\n",
    "    , 'HEAD NORMAL DISTANCE_STAGE2_STAGE3_Dam'\n",
    "]\n",
    "\n",
    "# 변수 제거\n",
    "train_data.drop(columns=columns_to_drop, inplace=True)\n",
    "test_data.drop(columns=columns_to_drop, inplace=True)"
   ]
  },
  {
   "cell_type": "code",
   "execution_count": 176,
   "id": "fb6bf635-6060-4fd1-ac71-d057fae56513",
   "metadata": {},
   "outputs": [],
   "source": [
    "# Dam 노즐 zero 위치 Z좌표 드롭\n",
    "train_data.drop(columns='Head Zero Position Z Collect Result_Dam', inplace=True)\n",
    "test_data.drop(columns='Head Zero Position Z Collect Result_Dam', inplace=True)"
   ]
  },
  {
   "cell_type": "markdown",
   "id": "c8bffb86-f2cc-44ad-a495-a107d3b9c98a",
   "metadata": {},
   "source": [
    "- fill1"
   ]
  },
  {
   "cell_type": "code",
   "execution_count": 177,
   "id": "53e42711-b516-492c-a89a-2358839af5b5",
   "metadata": {},
   "outputs": [],
   "source": [
    "# 각 스테이지의 좌표 열 정의\n",
    "stage1_cols = ['HEAD NORMAL COORDINATE X AXIS(Stage1) Collect Result_Fill1',\n",
    "               'HEAD NORMAL COORDINATE Y AXIS(Stage1) Collect Result_Fill1',\n",
    "               'HEAD NORMAL COORDINATE Z AXIS(Stage1) Collect Result_Fill1']\n",
    "\n",
    "stage2_cols = ['HEAD NORMAL COORDINATE X AXIS(Stage2) Collect Result_Fill1',\n",
    "               'HEAD NORMAL COORDINATE Y AXIS(Stage2) Collect Result_Fill1',\n",
    "               'HEAD NORMAL COORDINATE Z AXIS(Stage2) Collect Result_Fill1']\n",
    "\n",
    "stage3_cols = ['HEAD NORMAL COORDINATE X AXIS(Stage3) Collect Result_Fill1',\n",
    "               'HEAD NORMAL COORDINATE Y AXIS(Stage3) Collect Result_Fill1',\n",
    "               'HEAD NORMAL COORDINATE Z AXIS(Stage3) Collect Result_Fill1']\n",
    "\n",
    "# 거리 계산 함수\n",
    "def calculate_distances(data):\n",
    "    data['HEAD NORMAL DISTANCE_STAGE1_STAGE2_Fill1'] = np.sqrt(\n",
    "        (data[stage2_cols[0]] - data[stage1_cols[0]]) ** 2 +\n",
    "        (data[stage2_cols[1]] - data[stage1_cols[1]]) ** 2 +\n",
    "        (data[stage2_cols[2]] - data[stage1_cols[2]]) ** 2\n",
    "    )\n",
    "\n",
    "    data['HEAD NORMAL DISTANCE_STAGE2_STAGE3_Fill1'] = np.sqrt(\n",
    "        (data[stage3_cols[0]] - data[stage2_cols[0]]) ** 2 +\n",
    "        (data[stage3_cols[1]] - data[stage2_cols[1]]) ** 2 +\n",
    "        (data[stage3_cols[2]] - data[stage2_cols[2]]) ** 2\n",
    "    )\n",
    "\n",
    "    data['HEAD NORMAL DISTANCE_STAGE1_STAGE3_Fill1'] = np.sqrt(\n",
    "        (data[stage3_cols[0]] - data[stage1_cols[0]]) ** 2 +\n",
    "        (data[stage3_cols[1]] - data[stage1_cols[1]]) ** 2 +\n",
    "        (data[stage3_cols[2]] - data[stage1_cols[2]]) ** 2\n",
    "    )\n",
    "\n",
    "    return data\n",
    "\n",
    "# train_data에 적용\n",
    "train_data = calculate_distances(train_data)\n",
    "\n",
    "# test_data에 적용\n",
    "test_data = calculate_distances(test_data)"
   ]
  },
  {
   "cell_type": "code",
   "execution_count": 178,
   "id": "76c1438e-9ead-47dd-80fd-b08faa85f015",
   "metadata": {},
   "outputs": [],
   "source": [
    "# 필요한 열 이름\n",
    "stage1_stage2_col = 'HEAD NORMAL DISTANCE_STAGE1_STAGE2_Fill1'\n",
    "stage2_stage3_col = 'HEAD NORMAL DISTANCE_STAGE2_STAGE3_Fill1'\n",
    "stage1_stage3_col = 'HEAD NORMAL DISTANCE_STAGE1_STAGE3_Fill1'\n",
    "\n",
    "# 삼각형의 넓이와 높이를 계산하는 함수\n",
    "def calculate_triangle_features(data):\n",
    "    a = data[stage1_stage2_col]\n",
    "    b = data[stage2_stage3_col]\n",
    "    c = data[stage1_stage3_col]\n",
    "\n",
    "    # 헤론의 공식에 따른 삼각형의 넓이 계산\n",
    "    s = (a + b + c) / 2\n",
    "    area = np.sqrt(s * (s - a) * (s - b) * (s - c))\n",
    "\n",
    "    # 높이 계산 (밑변을 c로 가정)\n",
    "    height = (2 * area) / c\n",
    "\n",
    "    # 결과를 새로운 열에 저장\n",
    "    data['HEAD NORMAL DISTANCE_TRIANGLE_area_Fill1'] = area\n",
    "    data['HEAD NORMAL DISTANCE_TRIANGLE_height_Fill1'] = height\n",
    "\n",
    "    return data\n",
    "\n",
    "# train_data에 적용\n",
    "train_data = calculate_triangle_features(train_data)\n",
    "\n",
    "# test_data에 적용\n",
    "test_data = calculate_triangle_features(test_data)"
   ]
  },
  {
   "cell_type": "code",
   "execution_count": 179,
   "id": "fa31162e-094d-47fd-bef2-9e55bc4f9dae",
   "metadata": {},
   "outputs": [],
   "source": [
    "# 제거할 변수 목록\n",
    "columns_to_drop = [\n",
    "    'HEAD NORMAL COORDINATE X AXIS(Stage1) Collect Result_Fill1'\n",
    "    , 'HEAD NORMAL COORDINATE X AXIS(Stage1) Judge Value_Fill1'\n",
    "    , 'HEAD NORMAL COORDINATE Y AXIS(Stage1) Collect Result_Fill1'\n",
    "    , 'HEAD NORMAL COORDINATE Z AXIS(Stage1) Collect Result_Fill1'\n",
    "\n",
    "    , 'HEAD NORMAL COORDINATE X AXIS(Stage2) Collect Result_Fill1'\n",
    "    , 'HEAD NORMAL COORDINATE Y AXIS(Stage2) Collect Result_Fill1'\n",
    "    , 'HEAD NORMAL COORDINATE Z AXIS(Stage2) Collect Result_Fill1'\n",
    "\n",
    "    , 'HEAD NORMAL COORDINATE X AXIS(Stage3) Collect Result_Fill1'\n",
    "    , 'HEAD NORMAL COORDINATE Y AXIS(Stage3) Collect Result_Fill1'\n",
    "    , 'HEAD NORMAL COORDINATE Z AXIS(Stage3) Collect Result_Fill1'\n",
    "\n",
    "    , 'HEAD NORMAL DISTANCE_STAGE1_STAGE2_Fill1'\n",
    "    , 'HEAD NORMAL DISTANCE_STAGE2_STAGE3_Fill1'\n",
    "]\n",
    "\n",
    "# 변수 제거\n",
    "train_data.drop(columns=columns_to_drop, inplace=True)\n",
    "test_data.drop(columns=columns_to_drop, inplace=True)"
   ]
  },
  {
   "cell_type": "markdown",
   "id": "72be5165-b1d0-412f-b293-1207d90e433b",
   "metadata": {},
   "source": [
    "- fill2"
   ]
  },
  {
   "cell_type": "code",
   "execution_count": 180,
   "id": "836359e0-e3f3-487d-92d8-61869849bfea",
   "metadata": {},
   "outputs": [],
   "source": [
    "# 각 스테이지의 좌표 열 정의\n",
    "stage1_cols = ['HEAD NORMAL COORDINATE X AXIS(Stage1) Collect Result_Fill2',\n",
    "               'HEAD NORMAL COORDINATE Y AXIS(Stage1) Collect Result_Fill2',\n",
    "               'HEAD NORMAL COORDINATE Z AXIS(Stage1) Collect Result_Fill2']\n",
    "\n",
    "stage2_cols = ['HEAD NORMAL COORDINATE X AXIS(Stage2) Collect Result_Fill2',\n",
    "               'HEAD NORMAL COORDINATE Y AXIS(Stage2) Collect Result_Fill2',\n",
    "               'HEAD NORMAL COORDINATE Z AXIS(Stage2) Collect Result_Fill2']\n",
    "\n",
    "stage3_cols = ['HEAD NORMAL COORDINATE X AXIS(Stage3) Collect Result_Fill2',\n",
    "               'HEAD NORMAL COORDINATE Y AXIS(Stage3) Collect Result_Fill2',\n",
    "               'HEAD NORMAL COORDINATE Z AXIS(Stage3) Collect Result_Fill2']\n",
    "\n",
    "# 거리 계산 함수\n",
    "def calculate_distances(data):\n",
    "    data['HEAD NORMAL DISTANCE_STAGE1_STAGE2_Fill2'] = np.sqrt(\n",
    "        (data[stage2_cols[0]] - data[stage1_cols[0]]) ** 2 +\n",
    "        (data[stage2_cols[1]] - data[stage1_cols[1]]) ** 2 +\n",
    "        (data[stage2_cols[2]] - data[stage1_cols[2]]) ** 2\n",
    "    )\n",
    "\n",
    "    data['HEAD NORMAL DISTANCE_STAGE2_STAGE3_Fill2'] = np.sqrt(\n",
    "        (data[stage3_cols[0]] - data[stage2_cols[0]]) ** 2 +\n",
    "        (data[stage3_cols[1]] - data[stage2_cols[1]]) ** 2 +\n",
    "        (data[stage3_cols[2]] - data[stage2_cols[2]]) ** 2\n",
    "    )\n",
    "\n",
    "    data['HEAD NORMAL DISTANCE_STAGE1_STAGE3_Fill2'] = np.sqrt(\n",
    "        (data[stage3_cols[0]] - data[stage1_cols[0]]) ** 2 +\n",
    "        (data[stage3_cols[1]] - data[stage1_cols[1]]) ** 2 +\n",
    "        (data[stage3_cols[2]] - data[stage1_cols[2]]) ** 2\n",
    "    )\n",
    "\n",
    "    return data\n",
    "\n",
    "# train_data에 적용\n",
    "train_data = calculate_distances(train_data)\n",
    "\n",
    "# test_data에 적용\n",
    "test_data = calculate_distances(test_data)"
   ]
  },
  {
   "cell_type": "code",
   "execution_count": 181,
   "id": "53a7041f-8fe0-4e57-8559-115828424a02",
   "metadata": {},
   "outputs": [],
   "source": [
    "# 제거할 변수 목록\n",
    "columns_to_drop = [\n",
    "    'HEAD NORMAL COORDINATE X AXIS(Stage1) Collect Result_Fill2'\n",
    "    , 'HEAD NORMAL COORDINATE X AXIS(Stage1) Judge Value_Fill2'\n",
    "    , 'HEAD NORMAL COORDINATE Y AXIS(Stage1) Collect Result_Fill2'\n",
    "    , 'HEAD NORMAL COORDINATE Z AXIS(Stage1) Collect Result_Fill2'\n",
    "\n",
    "    , 'HEAD NORMAL COORDINATE X AXIS(Stage2) Collect Result_Fill2'\n",
    "    , 'HEAD NORMAL COORDINATE Y AXIS(Stage2) Collect Result_Fill2'\n",
    "    , 'HEAD NORMAL COORDINATE Z AXIS(Stage2) Collect Result_Fill2'\n",
    "\n",
    "    , 'HEAD NORMAL COORDINATE X AXIS(Stage3) Collect Result_Fill2'\n",
    "    , 'HEAD NORMAL COORDINATE Y AXIS(Stage3) Collect Result_Fill2'\n",
    "    , 'HEAD NORMAL COORDINATE Z AXIS(Stage3) Collect Result_Fill2'\n",
    "]\n",
    "\n",
    "# 변수 제거\n",
    "train_data.drop(columns=columns_to_drop, inplace=True)\n",
    "test_data.drop(columns=columns_to_drop, inplace=True)"
   ]
  },
  {
   "cell_type": "markdown",
   "id": "02a64bf1-d745-47da-aedf-02361f2f2329",
   "metadata": {},
   "source": [
    "### 6. Resin 변수"
   ]
  },
  {
   "cell_type": "markdown",
   "id": "7bc3106d-63d0-411b-a83b-9baeedfa874a",
   "metadata": {},
   "source": [
    "- dam"
   ]
  },
  {
   "cell_type": "code",
   "execution_count": 182,
   "id": "f9857a16-8c84-4381-a5bd-ecc78aa2ca1e",
   "metadata": {},
   "outputs": [],
   "source": [
    "# volume*time 파생변수 - Dam\n",
    "train_data['volume_time_multip_stage1_Dam'] = train_data['Dispense Volume(Stage1) Collect Result_Dam'] * train_data['DISCHARGED TIME OF RESIN(Stage1) Collect Result_Dam']\n",
    "train_data['volume_time_multip_stage2_Dam'] = train_data['Dispense Volume(Stage2) Collect Result_Dam'] * train_data['DISCHARGED TIME OF RESIN(Stage2) Collect Result_Dam']\n",
    "train_data['volume_time_multip_stage3_Dam'] = train_data['Dispense Volume(Stage3) Collect Result_Dam'] * train_data['DISCHARGED TIME OF RESIN(Stage3) Collect Result_Dam']\n",
    "\n",
    "train_data['volume_time_multip_avg_Dam'] = (train_data['volume_time_multip_stage1_Dam'] + \n",
    "                                            train_data['volume_time_multip_stage2_Dam'] + \n",
    "                                            train_data['volume_time_multip_stage3_Dam']) / 3\n",
    "\n",
    "# volume*time 파생변수 - Dam\n",
    "test_data['volume_time_multip_stage1_Dam'] = test_data['Dispense Volume(Stage1) Collect Result_Dam'] * test_data['DISCHARGED TIME OF RESIN(Stage1) Collect Result_Dam']\n",
    "test_data['volume_time_multip_stage2_Dam'] = test_data['Dispense Volume(Stage2) Collect Result_Dam'] * test_data['DISCHARGED TIME OF RESIN(Stage2) Collect Result_Dam']\n",
    "test_data['volume_time_multip_stage3_Dam'] = test_data['Dispense Volume(Stage3) Collect Result_Dam'] * test_data['DISCHARGED TIME OF RESIN(Stage3) Collect Result_Dam']\n",
    "\n",
    "test_data['volume_time_multip_avg_Dam'] = (test_data['volume_time_multip_stage1_Dam'] + \n",
    "                                            test_data['volume_time_multip_stage2_Dam'] + \n",
    "                                            test_data['volume_time_multip_stage3_Dam']) / 3"
   ]
  },
  {
   "cell_type": "code",
   "execution_count": 183,
   "id": "0e0ebd5c-6fd7-4c5b-89cd-042b3a3671e2",
   "metadata": {},
   "outputs": [],
   "source": [
    "# 삭제할 열 목록 추가\n",
    "columns_to_drop = [\n",
    "    'DISCHARGED TIME OF RESIN(Stage1) Collect Result_Dam',\n",
    "    'DISCHARGED TIME OF RESIN(Stage2) Collect Result_Dam',\n",
    "    'DISCHARGED TIME OF RESIN(Stage3) Collect Result_Dam',\n",
    "    'Dispense Volume(Stage1) Collect Result_Dam',\n",
    "    'Dispense Volume(Stage2) Collect Result_Dam',\n",
    "    'Dispense Volume(Stage3) Collect Result_Dam',\n",
    "    'volume_time_multip_stage1_Dam',\n",
    "    'volume_time_multip_stage2_Dam',\n",
    "    'volume_time_multip_stage3_Dam'\n",
    "]\n",
    "\n",
    "train_data.drop(columns=columns_to_drop, inplace=True, errors='ignore')\n",
    "test_data.drop(columns=columns_to_drop, inplace=True, errors='ignore')"
   ]
  },
  {
   "cell_type": "markdown",
   "id": "6f9986f1-a251-430e-bbd9-705bdd0cfbda",
   "metadata": {},
   "source": [
    "- fill1"
   ]
  },
  {
   "cell_type": "code",
   "execution_count": 184,
   "id": "b2b05f8b-7a55-40be-aa70-02faa32cffe1",
   "metadata": {},
   "outputs": [],
   "source": [
    "# volume*time 파생변수 - Fill1\n",
    "train_data['volume_time_multip_stage1_Fill1'] = train_data['Dispense Volume(Stage1) Collect Result_Fill1'] * train_data['DISCHARGED TIME OF RESIN(Stage1) Collect Result_Fill1']\n",
    "train_data['volume_time_multip_stage2_Fill1'] = train_data['Dispense Volume(Stage2) Collect Result_Fill1'] * train_data['DISCHARGED TIME OF RESIN(Stage2) Collect Result_Fill1']\n",
    "train_data['volume_time_multip_stage3_Fill1'] = train_data['Dispense Volume(Stage3) Collect Result_Fill1'] * train_data['DISCHARGED TIME OF RESIN(Stage3) Collect Result_Fill1']\n",
    "\n",
    "train_data['volume_time_multip_avg_Fill1'] = (train_data['volume_time_multip_stage1_Fill1'] + \n",
    "                                            train_data['volume_time_multip_stage2_Fill1'] + \n",
    "                                            train_data['volume_time_multip_stage3_Fill1']) / 3\n",
    "\n",
    "# volume*time 파생변수 - Fill1\n",
    "test_data['volume_time_multip_stage1_Fill1'] = test_data['Dispense Volume(Stage1) Collect Result_Fill1'] * test_data['DISCHARGED TIME OF RESIN(Stage1) Collect Result_Fill1']\n",
    "test_data['volume_time_multip_stage2_Fill1'] = test_data['Dispense Volume(Stage2) Collect Result_Fill1'] * test_data['DISCHARGED TIME OF RESIN(Stage2) Collect Result_Fill1']\n",
    "test_data['volume_time_multip_stage3_Fill1'] = test_data['Dispense Volume(Stage3) Collect Result_Fill1'] * test_data['DISCHARGED TIME OF RESIN(Stage3) Collect Result_Fill1']\n",
    "\n",
    "test_data['volume_time_multip_avg_Fill1'] = (test_data['volume_time_multip_stage1_Fill1'] + \n",
    "                                            test_data['volume_time_multip_stage2_Fill1'] + \n",
    "                                            test_data['volume_time_multip_stage3_Fill1']) / 3"
   ]
  },
  {
   "cell_type": "code",
   "execution_count": 185,
   "id": "bff6cf24-453d-4bba-a5e3-bddededfb17f",
   "metadata": {},
   "outputs": [],
   "source": [
    "# 삭제할 열 목록 추가\n",
    "columns_to_drop = [\n",
    "    'DISCHARGED TIME OF RESIN(Stage1) Collect Result_Fill1',\n",
    "    'DISCHARGED TIME OF RESIN(Stage2) Collect Result_Fill1',\n",
    "    'DISCHARGED TIME OF RESIN(Stage3) Collect Result_Fill1',\n",
    "    'Dispense Volume(Stage1) Collect Result_Fill1',\n",
    "    'Dispense Volume(Stage2) Collect Result_Fill1',\n",
    "    'Dispense Volume(Stage3) Collect Result_Fill1',\n",
    "    'volume_time_multip_stage1_Fill1',\n",
    "    'volume_time_multip_stage2_Fill1',\n",
    "    'volume_time_multip_stage3_Fill1'\n",
    "]\n",
    "\n",
    "train_data.drop(columns=columns_to_drop, inplace=True, errors='ignore')\n",
    "test_data.drop(columns=columns_to_drop, inplace=True, errors='ignore')"
   ]
  },
  {
   "cell_type": "markdown",
   "id": "56006cb7-66fa-4757-816c-260e12d6555e",
   "metadata": {},
   "source": [
    "### 7. Circle, Line 변수"
   ]
  },
  {
   "cell_type": "code",
   "execution_count": 186,
   "id": "6d445887-0bf3-4a31-956b-bdc711c606c5",
   "metadata": {},
   "outputs": [],
   "source": [
    "### circle\n",
    "# 열 이름 변경\n",
    "train_data.rename(columns={\n",
    "    'Stage1 Circle1 Distance Speed Collect Result_Dam': 'Stage1_Circle_Distance_Speed_Dam',\n",
    "    'Stage2 Circle1 Distance Speed Collect Result_Dam': 'Stage2_Circle_Distance_Speed_Dam',\n",
    "    'Stage3 Circle1 Distance Speed Collect Result_Dam': 'Stage3_Circle_Distance_Speed_Dam'\n",
    "}, inplace=True)\n",
    "\n",
    "test_data.rename(columns={\n",
    "    'Stage1 Circle1 Distance Speed Collect Result_Dam': 'Stage1_Circle_Distance_Speed_Dam',\n",
    "    'Stage2 Circle1 Distance Speed Collect Result_Dam': 'Stage2_Circle_Distance_Speed_Dam',\n",
    "    'Stage3 Circle1 Distance Speed Collect Result_Dam': 'Stage3_Circle_Distance_Speed_Dam'\n",
    "}, inplace=True)"
   ]
  },
  {
   "cell_type": "code",
   "execution_count": 187,
   "id": "61d337af-f8b5-4a00-a32a-8f23936a5157",
   "metadata": {},
   "outputs": [],
   "source": [
    "# 제거할 변수 목록\n",
    "columns_to_drop = [\n",
    "    'Stage1 Circle2 Distance Speed Collect Result_Dam',\n",
    "    'Stage1 Circle3 Distance Speed Collect Result_Dam',\n",
    "    'Stage1 Circle4 Distance Speed Collect Result_Dam',\n",
    "    \n",
    "    'Stage2 Circle2 Distance Speed Collect Result_Dam',\n",
    "    'Stage2 Circle3 Distance Speed Collect Result_Dam',\n",
    "    'Stage2 Circle4 Distance Speed Collect Result_Dam',\n",
    "    \n",
    "    'Stage3 Circle2 Distance Speed Collect Result_Dam',\n",
    "    'Stage3 Circle3 Distance Speed Collect Result_Dam',\n",
    "    'Stage3 Circle4 Distance Speed Collect Result_Dam'\n",
    "]\n",
    "\n",
    "# 변수 제거\n",
    "train_data.drop(columns=columns_to_drop, inplace=True)\n",
    "test_data.drop(columns=columns_to_drop, inplace=True)"
   ]
  },
  {
   "cell_type": "code",
   "execution_count": 188,
   "id": "635f16a4-2bc5-43c2-8d71-0c25dc28fc12",
   "metadata": {},
   "outputs": [],
   "source": [
    "### line\n",
    "# line1&3과 line2&4를 합친 파생변수 생성 함수\n",
    "def check_distance_speed(data, stage):\n",
    "    # 단계에 따라 라인 번호 정의\n",
    "    line_pairs = [(1, 3), (2, 4)]\n",
    "    \n",
    "    # 각 라인 쌍에 대해 반복\n",
    "    for line1, line2 in line_pairs:\n",
    "        line1_name = f'Stage{stage} Line{line1} Distance Speed Collect Result_Dam'\n",
    "        line2_name = f'Stage{stage} Line{line2} Distance Speed Collect Result_Dam'\n",
    "        \n",
    "        # 새로운 열 이름 설정\n",
    "        new_col_name = f'stage{stage}_line{line1}{line2}_distance_speed_Dam'\n",
    "        \n",
    "        # 조건에 따라 값 설정\n",
    "        data[new_col_name] = data.apply(\n",
    "            lambda row: row[line1_name] if row[line1_name] == row[line2_name] else 'diff', axis=1\n",
    "        )\n",
    "\n",
    "# train_data와 test_data 모두에 대해 함수 호출\n",
    "for stage in range(1, 4):\n",
    "    check_distance_speed(train_data, stage)\n",
    "    check_distance_speed(test_data, stage)"
   ]
  },
  {
   "cell_type": "code",
   "execution_count": 189,
   "id": "ba83e4f4-f481-468c-9b97-e0cbe31ad381",
   "metadata": {},
   "outputs": [],
   "source": [
    "# train_data에서 변수들을 object 타입으로 변환\n",
    "train_data['stage1_line24_distance_speed_Dam'] = train_data['stage1_line24_distance_speed_Dam'].astype(object)\n",
    "train_data['stage2_line24_distance_speed_Dam'] = train_data['stage2_line24_distance_speed_Dam'].astype(object)\n",
    "train_data['stage3_line24_distance_speed_Dam'] = train_data['stage3_line24_distance_speed_Dam'].astype(object)\n",
    "\n",
    "# test_data에서 변수들을 object 타입으로 변환\n",
    "test_data['stage1_line24_distance_speed_Dam'] = test_data['stage1_line24_distance_speed_Dam'].astype(object)\n",
    "test_data['stage2_line24_distance_speed_Dam'] = test_data['stage2_line24_distance_speed_Dam'].astype(object)\n",
    "test_data['stage3_line24_distance_speed_Dam'] = test_data['stage3_line24_distance_speed_Dam'].astype(object)"
   ]
  },
  {
   "cell_type": "code",
   "execution_count": 190,
   "id": "fbe85479-dc33-4121-a8ab-5cc3bd6b5006",
   "metadata": {},
   "outputs": [],
   "source": [
    "# 제거할 변수 목록\n",
    "columns_to_drop = [\n",
    "    'Stage1 Line1 Distance Speed Collect Result_Dam',\n",
    "    'Stage1 Line2 Distance Speed Collect Result_Dam',\n",
    "    'Stage1 Line3 Distance Speed Collect Result_Dam',\n",
    "    'Stage1 Line4 Distance Speed Collect Result_Dam',\n",
    "    \n",
    "    'Stage2 Line1 Distance Speed Collect Result_Dam',\n",
    "    'Stage2 Line2 Distance Speed Collect Result_Dam',\n",
    "    'Stage2 Line3 Distance Speed Collect Result_Dam',\n",
    "    'Stage2 Line4 Distance Speed Collect Result_Dam',\n",
    "    \n",
    "    'Stage3 Line1 Distance Speed Collect Result_Dam',\n",
    "    'Stage3 Line2 Distance Speed Collect Result_Dam',\n",
    "    'Stage3 Line3 Distance Speed Collect Result_Dam',\n",
    "    'Stage3 Line4 Distance Speed Collect Result_Dam'\n",
    "]\n",
    "\n",
    "# 변수 제거\n",
    "train_data.drop(columns=columns_to_drop, inplace=True)\n",
    "test_data.drop(columns=columns_to_drop, inplace=True)"
   ]
  },
  {
   "cell_type": "markdown",
   "id": "7d80796e-f6ac-434a-9ab6-e967ca205fe5",
   "metadata": {},
   "source": [
    "### 8. Thickness 변수"
   ]
  },
  {
   "cell_type": "code",
   "execution_count": 191,
   "id": "769fdc40-d747-4671-b611-bab9d874055a",
   "metadata": {},
   "outputs": [],
   "source": [
    "# 세 개 컬럼의 평균을 계산하여 새로운 컬럼 생성\n",
    "train_data['average_thickness_Dam'] = train_data[['THICKNESS 1 Collect Result_Dam', \n",
    "                                                  'THICKNESS 2 Collect Result_Dam', \n",
    "                                                  'THICKNESS 3 Collect Result_Dam']].mean(axis=1)\n",
    "\n",
    "test_data['average_thickness_Dam'] = test_data[['THICKNESS 1 Collect Result_Dam', \n",
    "                                                'THICKNESS 2 Collect Result_Dam', \n",
    "                                                'THICKNESS 3 Collect Result_Dam']].mean(axis=1)"
   ]
  },
  {
   "cell_type": "code",
   "execution_count": 192,
   "id": "9bb9b4ca-e018-4b75-aa27-eb85bd990683",
   "metadata": {},
   "outputs": [],
   "source": [
    "# 삭제할 컬럼 리스트\n",
    "columns_to_drop = [\n",
    "    'THICKNESS 1 Collect Result_Dam',\n",
    "    'THICKNESS 2 Collect Result_Dam',\n",
    "    'THICKNESS 3 Collect Result_Dam'\n",
    "]\n",
    "\n",
    "# 지정한 컬럼 삭제\n",
    "train_data.drop(columns=columns_to_drop, inplace=True)\n",
    "test_data.drop(columns=columns_to_drop, inplace=True)"
   ]
  },
  {
   "cell_type": "markdown",
   "id": "923c7b4d-1be0-431c-ab45-ff09a5e96f0f",
   "metadata": {},
   "source": [
    "### 9. Autoclave 관련 변수"
   ]
  },
  {
   "cell_type": "code",
   "execution_count": 193,
   "id": "b1f89fb6-59bd-4203-8c2d-0b68548b1632",
   "metadata": {},
   "outputs": [],
   "source": [
    "# 각 압력과 시간의 곱을 담은 새로운 컬럼 생성\n",
    "train_data['1st_pressure_time_AutoClave'] = train_data['1st Pressure Collect Result_AutoClave'] * train_data['1st Pressure 1st Pressure Unit Time_AutoClave']\n",
    "train_data['2nd_pressure_time_AutoClave'] = train_data['2nd Pressure Collect Result_AutoClave'] * train_data['2nd Pressure Unit Time_AutoClave']\n",
    "train_data['3rd_pressure_time_AutoClave'] = train_data['3rd Pressure Collect Result_AutoClave'] * train_data['3rd Pressure Unit Time_AutoClave']\n",
    "\n",
    "train_data['avg_pressure_time_AutoClave'] = (train_data['1st_pressure_time_AutoClave'] +\n",
    "                                             train_data['2nd_pressure_time_AutoClave'] +\n",
    "                                             train_data['3rd_pressure_time_AutoClave']) / 3"
   ]
  },
  {
   "cell_type": "code",
   "execution_count": 194,
   "id": "f53849fa-07d1-4d3e-a25d-79fa1a9525c2",
   "metadata": {},
   "outputs": [],
   "source": [
    "# 각 압력과 시간의 곱을 담은 새로운 컬럼 생성\n",
    "test_data['1st_pressure_time_AutoClave'] = test_data['1st Pressure Collect Result_AutoClave'] * test_data['1st Pressure 1st Pressure Unit Time_AutoClave']\n",
    "test_data['2nd_pressure_time_AutoClave'] = test_data['2nd Pressure Collect Result_AutoClave'] * test_data['2nd Pressure Unit Time_AutoClave']\n",
    "test_data['3rd_pressure_time_AutoClave'] = test_data['3rd Pressure Collect Result_AutoClave'] * test_data['3rd Pressure Unit Time_AutoClave']\n",
    "\n",
    "test_data['avg_pressure_time_AutoClave'] = (test_data['1st_pressure_time_AutoClave'] +\n",
    "                                             test_data['2nd_pressure_time_AutoClave'] +\n",
    "                                             test_data['3rd_pressure_time_AutoClave']) / 3"
   ]
  },
  {
   "cell_type": "code",
   "execution_count": 195,
   "id": "0cf9e13a-fada-448a-b045-3400cb9467e5",
   "metadata": {},
   "outputs": [],
   "source": [
    "# 삭제할 컬럼 리스트\n",
    "columns_to_drop = [\n",
    "    '1st Pressure Collect Result_AutoClave',\n",
    "    '1st Pressure 1st Pressure Unit Time_AutoClave',\n",
    "    '2nd Pressure Collect Result_AutoClave',\n",
    "    '2nd Pressure Unit Time_AutoClave',\n",
    "    '3rd Pressure Collect Result_AutoClave',\n",
    "    '3rd Pressure Unit Time_AutoClave',\n",
    "]\n",
    "\n",
    "# 지정한 컬럼 삭제\n",
    "train_data.drop(columns=columns_to_drop, inplace=True)\n",
    "test_data.drop(columns=columns_to_drop, inplace=True)"
   ]
  },
  {
   "cell_type": "markdown",
   "id": "f7e41272-4e95-40f2-832e-c7a4ad1d5460",
   "metadata": {},
   "source": [
    "### 10. Time 변수"
   ]
  },
  {
   "cell_type": "code",
   "execution_count": 196,
   "id": "f9923c80-82b6-45e6-a2f0-032cb54c6c57",
   "metadata": {},
   "outputs": [],
   "source": [
    "# 총시간 대비 비율 변수\n",
    "def calculate_total_time_and_ratios(data):\n",
    "    data['total_time'] = (\n",
    "        data['Machine Tact time Collect Result_Dam'] +\n",
    "        data['Machine Tact time Collect Result_Fill1'] +\n",
    "        data['Machine Tact time Collect Result_Fill2'] +\n",
    "        data['Chamber Temp. Unit Time_AutoClave']\n",
    "    )\n",
    "    data['time_ratio_Dam'] = (data['Machine Tact time Collect Result_Dam'] / data['total_time']).round(3)\n",
    "    data['time_ratio_Fill1'] = (data['Machine Tact time Collect Result_Fill1'] / data['total_time']).round(3)\n",
    "    data['time_ratio_Fill2'] = (data['Machine Tact time Collect Result_Fill2'] / data['total_time']).round(3)\n",
    "    data['time_ratio_AutoClave'] = (data['Chamber Temp. Unit Time_AutoClave'] / data['total_time']).round(3)\n",
    "    return data\n",
    "\n",
    "# train_data와 test_data에 함수 적용\n",
    "train_data = calculate_total_time_and_ratios(train_data)\n",
    "test_data = calculate_total_time_and_ratios(test_data)"
   ]
  },
  {
   "cell_type": "code",
   "execution_count": 197,
   "id": "71df6a7f-21bf-4b8d-9def-75dd8a376b4b",
   "metadata": {},
   "outputs": [],
   "source": [
    "# 변수 제거\n",
    "train_data.drop(columns=[\n",
    "    'total_time'\n",
    "    , 'Machine Tact time Collect Result_Dam'\n",
    "    , 'Machine Tact time Collect Result_Fill1'\n",
    "    , 'Machine Tact time Collect Result_Fill2'\n",
    "    , 'Chamber Temp. Unit Time_AutoClave'], inplace=True)\n",
    "\n",
    "test_data.drop(columns=[\n",
    "    'total_time'\n",
    "    , 'Machine Tact time Collect Result_Dam'\n",
    "    , 'Machine Tact time Collect Result_Fill1'\n",
    "    , 'Machine Tact time Collect Result_Fill2'\n",
    "    , 'Chamber Temp. Unit Time_AutoClave'], inplace=True)"
   ]
  },
  {
   "cell_type": "markdown",
   "id": "5407c0d4-c6a4-4b05-9f23-6d5bbbd9eb0f",
   "metadata": {},
   "source": [
    "### 11. 변수 확인"
   ]
  },
  {
   "cell_type": "code",
   "execution_count": 198,
   "id": "037c7017-2c2c-41d7-a126-0435efac77d8",
   "metadata": {},
   "outputs": [],
   "source": [
    "# 삭제할 변수 리스트\n",
    "columns_to_drop = [\n",
    "    'Chamber Temp. Judge Value_AutoClave', \n",
    "    'GMES_ORIGIN_INSP_JUDGE_CODE Collect Result_AutoClave', \n",
    "    'GMES_ORIGIN_INSP_JUDGE_CODE Judge Value_AutoClave'\n",
    "]\n",
    "\n",
    "train_data = train_data.drop(columns=columns_to_drop)\n",
    "test_data = test_data.drop(columns=columns_to_drop)"
   ]
  },
  {
   "cell_type": "code",
   "execution_count": 199,
   "id": "9f949535-f844-493c-84df-48fe1bf57930",
   "metadata": {},
   "outputs": [
    {
     "name": "stdout",
     "output_type": "stream",
     "text": [
      "삭제된 train_data 열 개수: 37\n",
      "삭제된 test_data 열 개수: 37\n"
     ]
    }
   ],
   "source": [
    "# 값의 종류가 1개이고 결측값이 없는 열을 제거하는 함수\n",
    "def drop_single_value_columns(df):\n",
    "    cols_to_drop = [col for col in df.columns if col != 'target' and df[col].nunique() == 1 and df[col].isnull().sum() == 0]\n",
    "    df_dropped = df.drop(columns=cols_to_drop)\n",
    "    return df_dropped, cols_to_drop\n",
    "\n",
    "# train_data와 test_data에서 해당 열 제거 및 삭제된 열 이름과 개수 출력\n",
    "train_data, train_cols_dropped = drop_single_value_columns(train_data)\n",
    "test_data, test_cols_dropped = drop_single_value_columns(test_data)\n",
    "\n",
    "# print(\"삭제된 train_data 열 이름:\", train_cols_dropped)\n",
    "print(\"삭제된 train_data 열 개수:\", len(train_cols_dropped))\n",
    "\n",
    "# print(\"삭제된 test_data 열 이름:\", test_cols_dropped)\n",
    "print(\"삭제된 test_data 열 개수:\", len(test_cols_dropped))"
   ]
  },
  {
   "cell_type": "markdown",
   "id": "d88801ff-c9a9-45dd-825d-005dbf75943f",
   "metadata": {},
   "source": [
    "### 12. target encoding"
   ]
  },
  {
   "cell_type": "code",
   "execution_count": 200,
   "id": "1b040b33-0137-4968-b99b-c632d1e8473a",
   "metadata": {},
   "outputs": [
    {
     "name": "stdout",
     "output_type": "stream",
     "text": [
      "Index(['target', 'model_receip', 'workorder_receip', 'PalletID_Collect_Result',\n",
      "       'cure_end_position_XZ_Fill2', 'cure_start_position_XZ_Fill2',\n",
      "       'cure_standby_position_XZ_Fill2', 'stage1_line13_distance_speed_Dam',\n",
      "       'stage1_line24_distance_speed_Dam', 'stage2_line13_distance_speed_Dam',\n",
      "       'stage2_line24_distance_speed_Dam', 'stage3_line13_distance_speed_Dam',\n",
      "       'stage3_line24_distance_speed_Dam'],\n",
      "      dtype='object')  train_object_columns 갯수 : 13\n",
      "Index(['Set ID', 'model_receip', 'workorder_receip', 'PalletID_Collect_Result',\n",
      "       'cure_end_position_XZ_Fill2', 'cure_start_position_XZ_Fill2',\n",
      "       'cure_standby_position_XZ_Fill2', 'stage1_line13_distance_speed_Dam',\n",
      "       'stage1_line24_distance_speed_Dam', 'stage2_line13_distance_speed_Dam',\n",
      "       'stage2_line24_distance_speed_Dam', 'stage3_line13_distance_speed_Dam',\n",
      "       'stage3_line24_distance_speed_Dam'],\n",
      "      dtype='object')  test_object_columns 갯수 : 13\n",
      "\n",
      "Train Data:\n",
      "target unique 값 갯수: 2\n",
      "model_receip unique 값 갯수: 15\n",
      "workorder_receip unique 값 갯수: 577\n",
      "PalletID_Collect_Result unique 값 갯수: 17\n",
      "cure_end_position_XZ_Fill2 unique 값 갯수: 4\n",
      "cure_start_position_XZ_Fill2 unique 값 갯수: 5\n",
      "cure_standby_position_XZ_Fill2 unique 값 갯수: 4\n",
      "stage1_line13_distance_speed_Dam unique 값 갯수: 9\n",
      "stage1_line24_distance_speed_Dam unique 값 갯수: 7\n",
      "stage2_line13_distance_speed_Dam unique 값 갯수: 9\n",
      "stage2_line24_distance_speed_Dam unique 값 갯수: 10\n",
      "stage3_line13_distance_speed_Dam unique 값 갯수: 9\n",
      "stage3_line24_distance_speed_Dam unique 값 갯수: 7\n",
      "\n",
      "Test Data:\n",
      "Set ID unique 값 갯수: 17361\n",
      "model_receip unique 값 갯수: 14\n",
      "workorder_receip unique 값 갯수: 575\n",
      "PalletID_Collect_Result unique 값 갯수: 17\n",
      "cure_end_position_XZ_Fill2 unique 값 갯수: 4\n",
      "cure_start_position_XZ_Fill2 unique 값 갯수: 5\n",
      "cure_standby_position_XZ_Fill2 unique 값 갯수: 4\n",
      "stage1_line13_distance_speed_Dam unique 값 갯수: 9\n",
      "stage1_line24_distance_speed_Dam unique 값 갯수: 7\n",
      "stage2_line13_distance_speed_Dam unique 값 갯수: 9\n",
      "stage2_line24_distance_speed_Dam unique 값 갯수: 10\n",
      "stage3_line13_distance_speed_Dam unique 값 갯수: 9\n",
      "stage3_line24_distance_speed_Dam unique 값 갯수: 7\n"
     ]
    }
   ],
   "source": [
    "# object 타입의 변수 출력\n",
    "train_object_columns = train_data.select_dtypes(include=['object']).columns\n",
    "test_object_columns = test_data.select_dtypes(include=['object']).columns\n",
    "\n",
    "print(train_object_columns, f\" train_object_columns 갯수 : {len(train_object_columns)}\")\n",
    "print(test_object_columns, f\" test_object_columns 갯수 : {len(test_object_columns)}\")\n",
    "\n",
    "# 각 object 변수의 고유 값 개수 출력\n",
    "print(\"\\nTrain Data:\")\n",
    "for col in train_object_columns:\n",
    "    unique_count = train_data[col].nunique()\n",
    "    print(f\"{col} unique 값 갯수: {unique_count}\")\n",
    "\n",
    "print(\"\\nTest Data:\")\n",
    "for col in test_object_columns:\n",
    "    unique_count = test_data[col].nunique()\n",
    "    print(f\"{col} unique 값 갯수: {unique_count}\")"
   ]
  },
  {
   "cell_type": "code",
   "execution_count": 201,
   "id": "2e9822a2-42bc-499f-9c46-cc5e0289731d",
   "metadata": {},
   "outputs": [],
   "source": [
    "# 전체 평균 타겟 값 계산 (abnormal 전체 비율)\n",
    "train_data['target_01'] = train_data['target'].apply(lambda x: 1 if x == 'AbNormal' else 0)\n",
    "global_mean = train_data['target_01'].mean()"
   ]
  },
  {
   "cell_type": "code",
   "execution_count": 202,
   "id": "a6c17701-dd06-4dcd-93ac-47558ef7f908",
   "metadata": {},
   "outputs": [],
   "source": [
    "# 적용할 열 리스트\n",
    "columns_to_encode = [\n",
    "    'model_receip',\n",
    "    'workorder_receip',\n",
    "    'PalletID_Collect_Result',\n",
    "    'cure_end_position_XZ_Fill2',\n",
    "    'cure_start_position_XZ_Fill2',\n",
    "    'cure_standby_position_XZ_Fill2',\n",
    "    'stage1_line13_distance_speed_Dam',\n",
    "    'stage1_line24_distance_speed_Dam',\n",
    "    'stage2_line13_distance_speed_Dam',\n",
    "    'stage2_line24_distance_speed_Dam',\n",
    "    'stage3_line13_distance_speed_Dam',\n",
    "    'stage3_line24_distance_speed_Dam'\n",
    "]\n",
    "\n",
    "# 전체 데이터의 평균 타겟값\n",
    "global_mean = train_data['target_01'].mean()\n",
    "\n",
    "for column in columns_to_encode:\n",
    "    # 각 column에 대한 평균 타겟값과 카운트 계산\n",
    "    target_mean = train_data.groupby(column)['target_01'].mean()\n",
    "    count = train_data.groupby(column)['target_01'].count()\n",
    "\n",
    "    # 스무딩 적용\n",
    "    '''\n",
    "    추천 알파 값:\n",
    "    0.5: 일반적으로 많이 사용되는 값으로, 기존 데이터와 전체 평균 간의 균형을 잘 맞춰줍니다.\n",
    "    0.3: 데이터가 충분히 많고 각 카테고리의 타겟 값이 잘 분포되어 있을 때 사용.\n",
    "    0.7: 데이터가 적거나 특정 카테고리가 상대적으로 적을 때 사용.\n",
    "    '''\n",
    "    alpha = 0.5\n",
    "    smoothed_values = (target_mean * count + global_mean * alpha) / (count + alpha)\n",
    "\n",
    "    # 인코딩된 값을 데이터프레임에 추가\n",
    "    train_data[f'{column}_encoded'] = train_data[column].map(smoothed_values)\n",
    "\n",
    "    # test_data에 동일한 인코딩 값을 추가\n",
    "    encoding_dict = train_data.groupby(column)[f'{column}_encoded'].first().to_dict()\n",
    "    test_data[f'{column}_encoded'] = test_data[column].map(encoding_dict)"
   ]
  },
  {
   "cell_type": "code",
   "execution_count": 203,
   "id": "0326880b-fcdd-493f-8bda-b53932d5313d",
   "metadata": {},
   "outputs": [],
   "source": [
    "# 삭제할 열 리스트\n",
    "columns_to_drop = [\n",
    "    'target_01',\n",
    "    'model_receip',\n",
    "    'workorder_receip',\n",
    "    'PalletID_Collect_Result',\n",
    "    'cure_end_position_XZ_Fill2',\n",
    "    'cure_start_position_XZ_Fill2',\n",
    "    'cure_standby_position_XZ_Fill2',\n",
    "    'stage1_line13_distance_speed_Dam',\n",
    "    'stage1_line24_distance_speed_Dam',\n",
    "    'stage2_line13_distance_speed_Dam',\n",
    "    'stage2_line24_distance_speed_Dam',\n",
    "    'stage3_line13_distance_speed_Dam',\n",
    "    'stage3_line24_distance_speed_Dam'\n",
    "]\n",
    "\n",
    "# train_data와 test_data에서 열 드랍\n",
    "train_data = train_data.drop(columns=columns_to_drop, errors='ignore')\n",
    "test_data = test_data.drop(columns=columns_to_drop, errors='ignore')"
   ]
  },
  {
   "cell_type": "code",
   "execution_count": 204,
   "id": "25c940cd-54ae-4277-b259-dee92b98f837",
   "metadata": {
    "scrolled": true
   },
   "outputs": [
    {
     "name": "stdout",
     "output_type": "stream",
     "text": [
      "<class 'pandas.core.frame.DataFrame'>\n",
      "RangeIndex: 40506 entries, 0 to 40505\n",
      "Data columns (total 50 columns):\n",
      " #   Column                                          Non-Null Count  Dtype  \n",
      "---  ------                                          --------------  -----  \n",
      " 0   CURE SPEED Collect Result_Dam                   40506 non-null  int64  \n",
      " 1   DISCHARGED SPEED OF RESIN Collect Result_Dam    40506 non-null  int64  \n",
      " 2   Head Clean Position Z Collect Result_Dam        40506 non-null  float64\n",
      " 3   Head Purge Position Z Collect Result_Dam        40506 non-null  float64\n",
      " 4   Head Zero Position Y Collect Result_Dam         40506 non-null  float64\n",
      " 5   Stage1_Circle_Distance_Speed_Dam                40506 non-null  float64\n",
      " 6   Stage2_Circle_Distance_Speed_Dam                40506 non-null  float64\n",
      " 7   Stage3_Circle_Distance_Speed_Dam                40506 non-null  float64\n",
      " 8   WorkMode Collect Result                         40506 non-null  float64\n",
      " 9   Chamber Temp. Collect Result_AutoClave          40506 non-null  int64  \n",
      " 10  DISCHARGED SPEED OF RESIN Collect Result_Fill1  40506 non-null  float64\n",
      " 11  Head Purge Position Z Collect Result_Fill1      40506 non-null  float64\n",
      " 12  CURE SPEED Collect Result_Fill2                 40506 non-null  int64  \n",
      " 13  Head Purge Position Z Collect Result_Fill2      40506 non-null  float64\n",
      " 14  target                                          40506 non-null  object \n",
      " 15  Equipment_same_num                              40506 non-null  int64  \n",
      " 16  Production_Qty_Collect_Result                   40506 non-null  float64\n",
      " 17  CURE_DISTANCE_Dam                               40506 non-null  float64\n",
      " 18  HEAD NORMAL DISTANCE_STAGE1_STAGE3_Dam          40506 non-null  float64\n",
      " 19  HEAD NORMAL DISTANCE_TRIANGLE_area_Dam          40506 non-null  float64\n",
      " 20  HEAD NORMAL DISTANCE_TRIANGLE_height_Dam        40506 non-null  float64\n",
      " 21  HEAD NORMAL DISTANCE_STAGE1_STAGE3_Fill1        40506 non-null  float64\n",
      " 22  HEAD NORMAL DISTANCE_TRIANGLE_area_Fill1        40506 non-null  float64\n",
      " 23  HEAD NORMAL DISTANCE_TRIANGLE_height_Fill1      40506 non-null  float64\n",
      " 24  HEAD NORMAL DISTANCE_STAGE1_STAGE2_Fill2        40506 non-null  float64\n",
      " 25  HEAD NORMAL DISTANCE_STAGE2_STAGE3_Fill2        40506 non-null  float64\n",
      " 26  HEAD NORMAL DISTANCE_STAGE1_STAGE3_Fill2        40506 non-null  float64\n",
      " 27  volume_time_multip_avg_Dam                      40506 non-null  float64\n",
      " 28  volume_time_multip_avg_Fill1                    40506 non-null  float64\n",
      " 29  average_thickness_Dam                           40506 non-null  float64\n",
      " 30  1st_pressure_time_AutoClave                     40506 non-null  float64\n",
      " 31  2nd_pressure_time_AutoClave                     40506 non-null  float64\n",
      " 32  3rd_pressure_time_AutoClave                     40506 non-null  float64\n",
      " 33  avg_pressure_time_AutoClave                     40506 non-null  float64\n",
      " 34  time_ratio_Dam                                  40506 non-null  float64\n",
      " 35  time_ratio_Fill1                                40506 non-null  float64\n",
      " 36  time_ratio_Fill2                                40506 non-null  float64\n",
      " 37  time_ratio_AutoClave                            40506 non-null  float64\n",
      " 38  model_receip_encoded                            40506 non-null  float64\n",
      " 39  workorder_receip_encoded                        40506 non-null  float64\n",
      " 40  PalletID_Collect_Result_encoded                 40506 non-null  float64\n",
      " 41  cure_end_position_XZ_Fill2_encoded              40506 non-null  float64\n",
      " 42  cure_start_position_XZ_Fill2_encoded            40506 non-null  float64\n",
      " 43  cure_standby_position_XZ_Fill2_encoded          40506 non-null  float64\n",
      " 44  stage1_line13_distance_speed_Dam_encoded        40506 non-null  float64\n",
      " 45  stage1_line24_distance_speed_Dam_encoded        40506 non-null  float64\n",
      " 46  stage2_line13_distance_speed_Dam_encoded        40506 non-null  float64\n",
      " 47  stage2_line24_distance_speed_Dam_encoded        40506 non-null  float64\n",
      " 48  stage3_line13_distance_speed_Dam_encoded        40506 non-null  float64\n",
      " 49  stage3_line24_distance_speed_Dam_encoded        40506 non-null  float64\n",
      "dtypes: float64(44), int64(5), object(1)\n",
      "memory usage: 15.5+ MB\n"
     ]
    }
   ],
   "source": [
    "# info 잘리지 않게 출력\n",
    "train_data.info(verbose=True)"
   ]
  },
  {
   "cell_type": "code",
   "execution_count": 205,
   "id": "ae3dd21b-7dcb-4150-9eb4-37fe114ba4bb",
   "metadata": {
    "scrolled": true
   },
   "outputs": [
    {
     "name": "stdout",
     "output_type": "stream",
     "text": [
      "<class 'pandas.core.frame.DataFrame'>\n",
      "RangeIndex: 17361 entries, 0 to 17360\n",
      "Data columns (total 51 columns):\n",
      " #   Column                                          Non-Null Count  Dtype  \n",
      "---  ------                                          --------------  -----  \n",
      " 0   Set ID                                          17361 non-null  object \n",
      " 1   CURE SPEED Collect Result_Dam                   17361 non-null  int64  \n",
      " 2   DISCHARGED SPEED OF RESIN Collect Result_Dam    17361 non-null  int64  \n",
      " 3   Head Clean Position Z Collect Result_Dam        17361 non-null  float64\n",
      " 4   Head Purge Position Z Collect Result_Dam        17361 non-null  float64\n",
      " 5   Head Zero Position Y Collect Result_Dam         17361 non-null  float64\n",
      " 6   Stage1_Circle_Distance_Speed_Dam                17361 non-null  float64\n",
      " 7   Stage2_Circle_Distance_Speed_Dam                17361 non-null  float64\n",
      " 8   Stage3_Circle_Distance_Speed_Dam                17361 non-null  float64\n",
      " 9   WorkMode Collect Result                         17361 non-null  float64\n",
      " 10  Chamber Temp. Collect Result_AutoClave          17361 non-null  int64  \n",
      " 11  DISCHARGED SPEED OF RESIN Collect Result_Fill1  17361 non-null  float64\n",
      " 12  Head Purge Position Z Collect Result_Fill1      17361 non-null  float64\n",
      " 13  CURE SPEED Collect Result_Fill2                 17361 non-null  int64  \n",
      " 14  Head Purge Position Z Collect Result_Fill2      17361 non-null  float64\n",
      " 15  target                                          0 non-null      float64\n",
      " 16  Equipment_same_num                              17361 non-null  int64  \n",
      " 17  Production_Qty_Collect_Result                   17361 non-null  float64\n",
      " 18  CURE_DISTANCE_Dam                               17361 non-null  float64\n",
      " 19  HEAD NORMAL DISTANCE_STAGE1_STAGE3_Dam          17361 non-null  float64\n",
      " 20  HEAD NORMAL DISTANCE_TRIANGLE_area_Dam          17361 non-null  float64\n",
      " 21  HEAD NORMAL DISTANCE_TRIANGLE_height_Dam        17361 non-null  float64\n",
      " 22  HEAD NORMAL DISTANCE_STAGE1_STAGE3_Fill1        17361 non-null  float64\n",
      " 23  HEAD NORMAL DISTANCE_TRIANGLE_area_Fill1        17361 non-null  float64\n",
      " 24  HEAD NORMAL DISTANCE_TRIANGLE_height_Fill1      17361 non-null  float64\n",
      " 25  HEAD NORMAL DISTANCE_STAGE1_STAGE2_Fill2        17361 non-null  float64\n",
      " 26  HEAD NORMAL DISTANCE_STAGE2_STAGE3_Fill2        17361 non-null  float64\n",
      " 27  HEAD NORMAL DISTANCE_STAGE1_STAGE3_Fill2        17361 non-null  float64\n",
      " 28  volume_time_multip_avg_Dam                      17361 non-null  float64\n",
      " 29  volume_time_multip_avg_Fill1                    17361 non-null  float64\n",
      " 30  average_thickness_Dam                           17361 non-null  float64\n",
      " 31  1st_pressure_time_AutoClave                     17361 non-null  float64\n",
      " 32  2nd_pressure_time_AutoClave                     17361 non-null  float64\n",
      " 33  3rd_pressure_time_AutoClave                     17361 non-null  float64\n",
      " 34  avg_pressure_time_AutoClave                     17361 non-null  float64\n",
      " 35  time_ratio_Dam                                  17361 non-null  float64\n",
      " 36  time_ratio_Fill1                                17361 non-null  float64\n",
      " 37  time_ratio_Fill2                                17361 non-null  float64\n",
      " 38  time_ratio_AutoClave                            17361 non-null  float64\n",
      " 39  model_receip_encoded                            17361 non-null  float64\n",
      " 40  workorder_receip_encoded                        17359 non-null  float64\n",
      " 41  PalletID_Collect_Result_encoded                 17361 non-null  float64\n",
      " 42  cure_end_position_XZ_Fill2_encoded              17361 non-null  float64\n",
      " 43  cure_start_position_XZ_Fill2_encoded            17361 non-null  float64\n",
      " 44  cure_standby_position_XZ_Fill2_encoded          17361 non-null  float64\n",
      " 45  stage1_line13_distance_speed_Dam_encoded        17361 non-null  float64\n",
      " 46  stage1_line24_distance_speed_Dam_encoded        17361 non-null  float64\n",
      " 47  stage2_line13_distance_speed_Dam_encoded        17361 non-null  float64\n",
      " 48  stage2_line24_distance_speed_Dam_encoded        17361 non-null  float64\n",
      " 49  stage3_line13_distance_speed_Dam_encoded        17361 non-null  float64\n",
      " 50  stage3_line24_distance_speed_Dam_encoded        17361 non-null  float64\n",
      "dtypes: float64(45), int64(5), object(1)\n",
      "memory usage: 6.8+ MB\n"
     ]
    }
   ],
   "source": [
    "# info 잘리지 않게 출력\n",
    "test_data.info(verbose=True)"
   ]
  },
  {
   "cell_type": "markdown",
   "id": "001b9549-4360-44f1-b744-f79dac3b0406",
   "metadata": {},
   "source": [
    "<br>\n",
    "<br>"
   ]
  },
  {
   "cell_type": "markdown",
   "id": "b5833ef9-c3bc-41e4-b371-5970ac427941",
   "metadata": {},
   "source": [
    "---"
   ]
  },
  {
   "cell_type": "markdown",
   "id": "f191ee1d-435e-402b-826b-45aee1e2ecdc",
   "metadata": {},
   "source": [
    "### <변수 검정>"
   ]
  },
  {
   "cell_type": "code",
   "execution_count": 206,
   "id": "eb52b5fe-047a-4db3-b1e1-c1387c17e94b",
   "metadata": {},
   "outputs": [
    {
     "name": "stdout",
     "output_type": "stream",
     "text": [
      "통계적으로 유의미하지 않은 변수:\n",
      "                                    variable  t_statistic   p_value  \\\n",
      "7            CURE SPEED Collect Result_Fill2    -0.976735  0.328706   \n",
      "8                          CURE_DISTANCE_Dam     1.437254  0.150654   \n",
      "12  HEAD NORMAL DISTANCE_STAGE1_STAGE3_Fill1    -0.994804  0.319837   \n",
      "15  HEAD NORMAL DISTANCE_STAGE1_STAGE2_Fill2     1.272064  0.203358   \n",
      "16  HEAD NORMAL DISTANCE_STAGE2_STAGE3_Fill2     1.275423  0.202167   \n",
      "17  HEAD NORMAL DISTANCE_STAGE1_STAGE3_Fill2     1.273313  0.202914   \n",
      "21               1st_pressure_time_AutoClave    -0.011984  0.990438   \n",
      "\n",
      "    significant  \n",
      "7         False  \n",
      "8         False  \n",
      "12        False  \n",
      "15        False  \n",
      "16        False  \n",
      "17        False  \n",
      "21        False  \n"
     ]
    }
   ],
   "source": [
    "from scipy import stats\n",
    "\n",
    "# 수치형 변수\n",
    "numeric_variables = [\n",
    "    'CURE SPEED Collect Result_Dam',\n",
    "    'DISCHARGED SPEED OF RESIN Collect Result_Dam',\n",
    "    'Stage1_Circle_Distance_Speed_Dam',\n",
    "    'Stage2_Circle_Distance_Speed_Dam',\n",
    "    'Stage3_Circle_Distance_Speed_Dam',\n",
    "    'Chamber Temp. Collect Result_AutoClave',\n",
    "    'DISCHARGED SPEED OF RESIN Collect Result_Fill1',\n",
    "    'CURE SPEED Collect Result_Fill2',\n",
    "    'CURE_DISTANCE_Dam',\n",
    "    'HEAD NORMAL DISTANCE_STAGE1_STAGE3_Dam',\n",
    "    'HEAD NORMAL DISTANCE_TRIANGLE_area_Dam',\n",
    "    'HEAD NORMAL DISTANCE_TRIANGLE_height_Dam',\n",
    "    'HEAD NORMAL DISTANCE_STAGE1_STAGE3_Fill1',\n",
    "    'HEAD NORMAL DISTANCE_TRIANGLE_area_Fill1',\n",
    "    'HEAD NORMAL DISTANCE_TRIANGLE_height_Fill1',\n",
    "    'HEAD NORMAL DISTANCE_STAGE1_STAGE2_Fill2',\n",
    "    'HEAD NORMAL DISTANCE_STAGE2_STAGE3_Fill2',\n",
    "    'HEAD NORMAL DISTANCE_STAGE1_STAGE3_Fill2',\n",
    "    'volume_time_multip_avg_Dam',\n",
    "    'volume_time_multip_avg_Fill1',\n",
    "    'average_thickness_Dam',\n",
    "    '1st_pressure_time_AutoClave',\n",
    "    '2nd_pressure_time_AutoClave',\n",
    "    '3rd_pressure_time_AutoClave',\n",
    "    'avg_pressure_time_AutoClave',\n",
    "    'time_ratio_Dam',\n",
    "    'time_ratio_Fill1',\n",
    "    'time_ratio_Fill2',\n",
    "    'time_ratio_AutoClave',\n",
    "] \n",
    "\n",
    "# 결과를 저장할 리스트\n",
    "results = []\n",
    "\n",
    "for numeric_variable in numeric_variables:\n",
    "    # 'AbNormal'과 'Normal'로 그룹화\n",
    "    group_abnormal = train_data[train_data['target'] == 'AbNormal'][numeric_variable]\n",
    "    group_normal = train_data[train_data['target'] == 'Normal'][numeric_variable]\n",
    "\n",
    "    # t-검정 수행\n",
    "    t_stat, p_value = stats.ttest_ind(group_abnormal, group_normal)\n",
    "\n",
    "    # 결과 저장\n",
    "    results.append({\n",
    "        'variable': numeric_variable,\n",
    "        't_statistic': t_stat,\n",
    "        'p_value': p_value,\n",
    "        'significant': p_value < 0.05\n",
    "    })\n",
    "\n",
    "# 결과를 데이터프레임으로 변환\n",
    "results_df = pd.DataFrame(results)\n",
    "\n",
    "# 유의미하지 않은 변수만 필터링\n",
    "non_significant_results = results_df[results_df['p_value'] >= 0.05]\n",
    "\n",
    "# 결과 출력\n",
    "print(\"통계적으로 유의미하지 않은 변수:\")\n",
    "print(non_significant_results)"
   ]
  },
  {
   "cell_type": "code",
   "execution_count": 207,
   "id": "6dfd7e78-37d4-4715-a083-af2a6d2f80a4",
   "metadata": {},
   "outputs": [
    {
     "name": "stdout",
     "output_type": "stream",
     "text": [
      "통계적으로 유의미하지 않은 변수: ['Head Purge Position Z Collect Result_Dam', 'Head Zero Position Y Collect Result_Dam', 'Head Purge Position Z Collect Result_Fill2', 'Equipment_same_num']\n",
      "p-value 값:\n",
      "Head Purge Position Z Collect Result_Dam: 0.2451\n",
      "Head Zero Position Y Collect Result_Dam: 0.3766\n",
      "Head Purge Position Z Collect Result_Fill2: 0.1003\n",
      "Equipment_same_num: 0.4959\n"
     ]
    }
   ],
   "source": [
    "from sklearn.feature_selection import chi2\n",
    "\n",
    "# 범주형 변수\n",
    "feature_columns = [\n",
    "    'Head Clean Position Z Collect Result_Dam',\n",
    "    'Head Purge Position Z Collect Result_Dam',\n",
    "    'Head Zero Position Y Collect Result_Dam',\n",
    "    'WorkMode Collect Result',\n",
    "    'Head Purge Position Z Collect Result_Fill1',\n",
    "    'Head Purge Position Z Collect Result_Fill2',\n",
    "    'Equipment_same_num',\n",
    "    'Production_Qty_Collect_Result'\n",
    "]  \n",
    "\n",
    "# 'normal'을 0으로, 'abnormal'을 1로 매핑\n",
    "train_data['target01'] = train_data['target'].map({'Normal': 0, 'AbNormal': 1})\n",
    "\n",
    "# 독립 변수와 타깃 변수 분리\n",
    "X = train_data[feature_columns]  \n",
    "y = train_data['target01']\n",
    "\n",
    "# 카이제곱 검정 수행\n",
    "chi2_scores, p_values = chi2(X, y)\n",
    "\n",
    "# 유의미하지 않은 변수 필터링 (p-value가 0.05 이상인 변수)\n",
    "non_significant_features = X.columns[p_values >= 0.05]\n",
    "\n",
    "# 결과 확인\n",
    "print(\"통계적으로 유의미하지 않은 변수:\", non_significant_features.tolist())\n",
    "print(\"p-value 값:\")\n",
    "for feature, p_value in zip(X.columns, p_values):\n",
    "    if p_value >= 0.05:\n",
    "        print(f\"{feature}: {p_value:.4f}\")"
   ]
  },
  {
   "cell_type": "code",
   "execution_count": 208,
   "id": "9461f075-43f4-4b3a-ba30-47ca8c313965",
   "metadata": {},
   "outputs": [],
   "source": [
    "# 삭제할 열 리스트\n",
    "columns_to_drop = [\n",
    "    'CURE SPEED Collect Result_Fill2',\n",
    "    'CURE_DISTANCE_Dam',\n",
    "    'HEAD NORMAL DISTANCE_STAGE1_STAGE3_Fill1',\n",
    "    'HEAD NORMAL DISTANCE_STAGE1_STAGE2_Fill2',\n",
    "    'HEAD NORMAL DISTANCE_STAGE2_STAGE3_Fill2',\n",
    "    'HEAD NORMAL DISTANCE_STAGE1_STAGE3_Fill2',\n",
    "    'Head Purge Position Z Collect Result_Dam', \n",
    "    'Head Zero Position Y Collect Result_Dam', \n",
    "    'Head Purge Position Z Collect Result_Fill2', \n",
    "    'target01'\n",
    "]\n",
    "\n",
    "# train_data와 test_data에서 열 드랍\n",
    "train_data = train_data.drop(columns=columns_to_drop, errors='ignore')\n",
    "test_data = test_data.drop(columns=columns_to_drop, errors='ignore')"
   ]
  },
  {
   "cell_type": "markdown",
   "id": "77b83931-d0e2-4280-861f-3d732165c494",
   "metadata": {
    "jp-MarkdownHeadingCollapsed": true
   },
   "source": [
    "### <범주화>"
   ]
  },
  {
   "cell_type": "code",
   "execution_count": 57,
   "id": "758f1638-23d6-4e06-a323-d92fcfd6004d",
   "metadata": {},
   "outputs": [
    {
     "name": "stdout",
     "output_type": "stream",
     "text": [
      "변수 CURE SPEED Collect Result_Dam의 고유값 개수: 5\n",
      "변수 DISCHARGED SPEED OF RESIN Collect Result_Dam의 고유값 개수: 3\n",
      "변수 Stage1_Circle_Distance_Speed_Dam의 고유값 개수: 7\n",
      "변수 Stage2_Circle_Distance_Speed_Dam의 고유값 개수: 9\n",
      "변수 Stage3_Circle_Distance_Speed_Dam의 고유값 개수: 7\n",
      "변수 Chamber Temp. Collect Result_AutoClave의 고유값 개수: 26\n",
      "변수 DISCHARGED SPEED OF RESIN Collect Result_Fill1의 고유값 개수: 4\n",
      "변수 HEAD NORMAL DISTANCE_STAGE1_STAGE3_Dam의 고유값 개수: 25\n",
      "변수 HEAD NORMAL DISTANCE_TRIANGLE_area_Dam의 고유값 개수: 49\n",
      "변수 HEAD NORMAL DISTANCE_TRIANGLE_height_Dam의 고유값 개수: 43\n",
      "변수 HEAD NORMAL DISTANCE_TRIANGLE_area_Fill1의 고유값 개수: 49\n",
      "변수 HEAD NORMAL DISTANCE_TRIANGLE_height_Fill1의 고유값 개수: 51\n",
      "변수 volume_time_multip_avg_Dam의 고유값 개수: 180\n",
      "변수 volume_time_multip_avg_Fill1의 고유값 개수: 161\n",
      "변수 average_thickness_Dam의 고유값 개수: 8\n",
      "변수 1st_pressure_time_AutoClave의 고유값 개수: 112\n",
      "변수 2nd_pressure_time_AutoClave의 고유값 개수: 193\n",
      "변수 3rd_pressure_time_AutoClave의 고유값 개수: 115\n",
      "변수 avg_pressure_time_AutoClave의 고유값 개수: 1959\n",
      "변수 time_ratio_Dam의 고유값 개수: 154\n",
      "변수 time_ratio_Fill1의 고유값 개수: 118\n",
      "변수 time_ratio_Fill2의 고유값 개수: 55\n",
      "변수 time_ratio_AutoClave의 고유값 개수: 212\n",
      "변수 Head Clean Position Z Collect Result_Dam의 고유값 개수: 5\n",
      "변수 WorkMode Collect Result의 고유값 개수: 2\n",
      "변수 Head Purge Position Z Collect Result_Fill1의 고유값 개수: 3\n",
      "변수 Equipment_same_num의 고유값 개수: 2\n",
      "변수 Production_Qty_Collect_Result의 고유값 개수: 607\n"
     ]
    }
   ],
   "source": [
    "variables = [\n",
    "    'CURE SPEED Collect Result_Dam',\n",
    "    'DISCHARGED SPEED OF RESIN Collect Result_Dam',\n",
    "    'Stage1_Circle_Distance_Speed_Dam',\n",
    "    'Stage2_Circle_Distance_Speed_Dam',\n",
    "    'Stage3_Circle_Distance_Speed_Dam',\n",
    "    'Chamber Temp. Collect Result_AutoClave',\n",
    "    'DISCHARGED SPEED OF RESIN Collect Result_Fill1',\n",
    "    'HEAD NORMAL DISTANCE_STAGE1_STAGE3_Dam',\n",
    "    'HEAD NORMAL DISTANCE_TRIANGLE_area_Dam',\n",
    "    'HEAD NORMAL DISTANCE_TRIANGLE_height_Dam',\n",
    "    'HEAD NORMAL DISTANCE_TRIANGLE_area_Fill1',\n",
    "    'HEAD NORMAL DISTANCE_TRIANGLE_height_Fill1',\n",
    "    'volume_time_multip_avg_Dam',\n",
    "    'volume_time_multip_avg_Fill1',\n",
    "    'average_thickness_Dam',\n",
    "    '1st_pressure_time_AutoClave',\n",
    "    '2nd_pressure_time_AutoClave',\n",
    "    '3rd_pressure_time_AutoClave',\n",
    "    'avg_pressure_time_AutoClave',\n",
    "    'time_ratio_Dam',\n",
    "    'time_ratio_Fill1',\n",
    "    'time_ratio_Fill2',\n",
    "    'time_ratio_AutoClave',\n",
    "    'Head Clean Position Z Collect Result_Dam',\n",
    "    'WorkMode Collect Result',\n",
    "    'Head Purge Position Z Collect Result_Fill1',\n",
    "    'Equipment_same_num',\n",
    "    'Production_Qty_Collect_Result'\n",
    "]\n",
    "\n",
    "# 각 변수의 고유값 개수 출력\n",
    "for var in variables:\n",
    "    unique_count = train_data[var].nunique()  # 고윳값 개수 계산\n",
    "    print(f'변수 {var}의 고유값 개수: {unique_count}')"
   ]
  },
  {
   "cell_type": "code",
   "execution_count": 58,
   "id": "da0c5102-c977-41e9-ad4f-d890063d796f",
   "metadata": {},
   "outputs": [
    {
     "data": {
      "text/plain": [
       "'Production_Qty_Collect_Result'"
      ]
     },
     "execution_count": 58,
     "metadata": {},
     "output_type": "execute_result"
    }
   ],
   "source": [
    "# 범주화 해줄 변수\n",
    "'Chamber Temp. Collect Result_AutoClave'\n",
    "'HEAD NORMAL DISTANCE_STAGE1_STAGE3_Dam'\n",
    "'HEAD NORMAL DISTANCE_TRIANGLE_area_Dam'\n",
    "'HEAD NORMAL DISTANCE_TRIANGLE_height_Dam'\n",
    "'HEAD NORMAL DISTANCE_TRIANGLE_area_Fill1'\n",
    "'HEAD NORMAL DISTANCE_TRIANGLE_height_Fill1'\n",
    "'volume_time_multip_avg_Dam'\n",
    "'volume_time_multip_avg_Fill1'\n",
    "'1st_pressure_time_AutoClave'\n",
    "'2nd_pressure_time_AutoClave'\n",
    "'3rd_pressure_time_AutoClave'\n",
    "'avg_pressure_time_AutoClave'\n",
    "'time_ratio_Dam'\n",
    "'time_ratio_Fill1'\n",
    "'time_ratio_Fill2'\n",
    "'time_ratio_AutoClave'\n",
    "'Production_Qty_Collect_Result'"
   ]
  },
  {
   "cell_type": "code",
   "execution_count": 59,
   "id": "86761f56-bc8c-4fb4-8f33-64a0de0cf1d6",
   "metadata": {},
   "outputs": [],
   "source": [
    "### 한글 및 부호 깨짐 방지\n",
    "plt.rcParams['font.family'] = 'AppleGothic' #한글\n",
    "mpl.rcParams['axes.unicode_minus'] = False #마이너스 부호"
   ]
  },
  {
   "cell_type": "code",
   "execution_count": 60,
   "id": "a624a14f-3092-480d-807a-67962bb3eef5",
   "metadata": {},
   "outputs": [],
   "source": [
    "def plot_with_counts(category_column, target_column='target', data=train_data):\n",
    "    # 비율 계산\n",
    "    count_df = data.groupby([category_column, target_column]).size().unstack(fill_value=0)\n",
    "    count_df = count_df.div(count_df.sum(axis=1), axis=0)\n",
    "\n",
    "    # 개수 계산\n",
    "    count_values = data.groupby([category_column, target_column]).size().unstack(fill_value=0)\n",
    "\n",
    "    # 비율 시각화\n",
    "    count_df.plot(kind='bar', stacked=True, color=['salmon', 'lightgrey'], figsize=(8, 4))\n",
    "\n",
    "    plt.legend(title='Target', loc='upper right')\n",
    "    plt.ylim(0, 1)\n",
    "    plt.grid(axis='y', linestyle='--', alpha=0.7)\n",
    "\n",
    "    # 그래프 위에 비율 및 개수 표시\n",
    "    for i in range(count_df.shape[0]):\n",
    "        for j in range(count_df.shape[1]):\n",
    "            # 비율 표시\n",
    "            plt.text(i, count_df.iloc[i, j] / 2 + count_df.iloc[i, :j].sum(), f\"{count_df.iloc[i, j]:.2f}\", ha='center', color='white')\n",
    "            # 개수 표시\n",
    "            plt.text(i, count_df.iloc[i, :j].sum() + count_df.iloc[i, j] / 2 + 0.05, f\"{count_values.iloc[i, j]}\", ha='center', color='black')\n",
    "\n",
    "    plt.xlabel(category_column)\n",
    "    plt.ylabel('Proportion')\n",
    "    plt.show()"
   ]
  },
  {
   "cell_type": "code",
   "execution_count": 61,
   "id": "c8487632-8f72-45b0-bf95-77abba3c2b1b",
   "metadata": {},
   "outputs": [],
   "source": [
    "# IQR 기준으로 범주화하는 함수\n",
    "def categorize_by_iqr(df, column):\n",
    "    # IQR 계산\n",
    "    Q1 = df[column].quantile(0.25)\n",
    "    Q3 = df[column].quantile(0.75)\n",
    "    IQR = Q3 - Q1\n",
    "    lower_bound = Q1 - 1.5 * IQR\n",
    "    upper_bound = Q3 + 1.5 * IQR\n",
    "    \n",
    "    # 범주화 함수\n",
    "    def categorize(value):\n",
    "        if value < lower_bound:\n",
    "            return '아주 낮음'\n",
    "        elif lower_bound <= value < Q1:\n",
    "            return '낮음'\n",
    "        elif Q1 <= value <= Q3:\n",
    "            return '정상'\n",
    "        elif Q3 < value <= upper_bound:\n",
    "            return '높음'\n",
    "        else:\n",
    "            return '아주 높음'\n",
    "\n",
    "    # 범주화 적용\n",
    "    df[column] = df[column].apply(categorize)"
   ]
  },
  {
   "cell_type": "code",
   "execution_count": 62,
   "id": "1deaea8d-96ec-4e0e-8a54-f9c093d74be3",
   "metadata": {},
   "outputs": [],
   "source": [
    "# 원하는 범주 개수로 범주화하는 함수\n",
    "def categorize_column(data, column_name, num_categories):\n",
    "    \"\"\"\n",
    "    주어진 데이터프레임의 특정 열을 범주화하는 함수.\n",
    "    \n",
    "    :param data: DataFrame, 범주화할 데이터프레임\n",
    "    :param column_name: str, 범주화할 열의 이름\n",
    "    :param num_categories: int, 생성할 범주 수\n",
    "    \"\"\"\n",
    "    # 최소값과 최대값 계산\n",
    "    column_min = data[column_name].min()\n",
    "    column_max = data[column_name].max()\n",
    "\n",
    "    # 구간 계산\n",
    "    bins = np.linspace(column_min, column_max, num_categories + 1)\n",
    "\n",
    "    # 범주화\n",
    "    category_labels = [f'Category {i+1}' for i in range(num_categories)]\n",
    "    categorized_data = pd.cut(data[column_name], bins=bins, labels=category_labels, include_lowest=True, right=False)\n",
    "\n",
    "    # 외부 값에 대한 범주 추가\n",
    "    categorized_data = categorized_data.cat.add_categories(['Below Min', 'Above Max'])\n",
    "    categorized_data[data[column_name] < column_min] = 'Below Min'\n",
    "    categorized_data[data[column_name] > column_max] = 'Above Max'\n",
    "\n",
    "    # 새로운 열 이름 생성\n",
    "    new_column_name = f\"{column_name}_category\"\n",
    "    data[new_column_name] = categorized_data"
   ]
  },
  {
   "cell_type": "markdown",
   "id": "764239da-cefd-4c76-8e86-6eeaae0dda59",
   "metadata": {},
   "source": [
    "- Chamber Temp"
   ]
  },
  {
   "cell_type": "code",
   "execution_count": 63,
   "id": "da9fd7b7-e97b-4f37-889f-460a024d1439",
   "metadata": {},
   "outputs": [
    {
     "data": {
      "text/plain": [
       "'\\n변수 Chamber Temp. Collect Result_AutoClave의 고유값 개수: 26\\n'"
      ]
     },
     "execution_count": 63,
     "metadata": {},
     "output_type": "execute_result"
    }
   ],
   "source": [
    "'''\n",
    "변수 Chamber Temp. Collect Result_AutoClave의 고유값 개수: 26\n",
    "'''"
   ]
  },
  {
   "cell_type": "code",
   "execution_count": 64,
   "id": "9525a204-782d-425e-8616-41018a2ef625",
   "metadata": {},
   "outputs": [
    {
     "data": {
      "text/plain": [
       "count    40506.000000\n",
       "mean        51.691725\n",
       "std          2.878083\n",
       "min         32.000000\n",
       "25%         49.000000\n",
       "50%         52.000000\n",
       "75%         54.000000\n",
       "max         59.000000\n",
       "Name: Chamber Temp. Collect Result_AutoClave, dtype: float64"
      ]
     },
     "execution_count": 64,
     "metadata": {},
     "output_type": "execute_result"
    }
   ],
   "source": [
    "train_data['Chamber Temp. Collect Result_AutoClave'].describe()"
   ]
  },
  {
   "cell_type": "code",
   "execution_count": 65,
   "id": "583d2fed-8b51-40f3-a8f2-f335b5fef3ee",
   "metadata": {},
   "outputs": [],
   "source": [
    "# IQR 범주화\n",
    "categorize_by_iqr(train_data, 'Chamber Temp. Collect Result_AutoClave')\n",
    "categorize_by_iqr(test_data, 'Chamber Temp. Collect Result_AutoClave')"
   ]
  },
  {
   "cell_type": "code",
   "execution_count": 66,
   "id": "a22d8118-588d-4ec2-a2a5-706ffc5dd6e4",
   "metadata": {},
   "outputs": [
    {
     "data": {
      "image/png": "[encoded data removed]",
      "text/plain": [
       "<Figure size 800x400 with 1 Axes>"
      ]
     },
     "metadata": {},
     "output_type": "display_data"
    }
   ],
   "source": [
    "plot_with_counts('Chamber Temp. Collect Result_AutoClave')"
   ]
  },
  {
   "cell_type": "markdown",
   "id": "e1e0ffa1-a48b-4b66-b8a0-51e985a0b968",
   "metadata": {},
   "source": [
    "- HEAD NORMAL DISTANCE"
   ]
  },
  {
   "cell_type": "code",
   "execution_count": 67,
   "id": "4148e3d5-9fab-42d6-85c7-fdf9fe16527b",
   "metadata": {},
   "outputs": [
    {
     "data": {
      "text/plain": [
       "'\\n변수 HEAD NORMAL DISTANCE_STAGE1_STAGE3_Dam의 고유값 개수: 25\\n변수 HEAD NORMAL DISTANCE_TRIANGLE_area_Dam의 고유값 개수: 49\\n변수 HEAD NORMAL DISTANCE_TRIANGLE_height_Dam의 고유값 개수: 43\\n변수 HEAD NORMAL DISTANCE_TRIANGLE_area_Fill1의 고유값 개수: 49\\n변수 HEAD NORMAL DISTANCE_TRIANGLE_height_Fill1의 고유값 개수: 51\\n'"
      ]
     },
     "execution_count": 67,
     "metadata": {},
     "output_type": "execute_result"
    }
   ],
   "source": [
    "'''\n",
    "변수 HEAD NORMAL DISTANCE_STAGE1_STAGE3_Dam의 고유값 개수: 25\n",
    "변수 HEAD NORMAL DISTANCE_TRIANGLE_area_Dam의 고유값 개수: 49\n",
    "변수 HEAD NORMAL DISTANCE_TRIANGLE_height_Dam의 고유값 개수: 43\n",
    "변수 HEAD NORMAL DISTANCE_TRIANGLE_area_Fill1의 고유값 개수: 49\n",
    "변수 HEAD NORMAL DISTANCE_TRIANGLE_height_Fill1의 고유값 개수: 51\n",
    "'''"
   ]
  },
  {
   "cell_type": "code",
   "execution_count": 68,
   "id": "58f9c156-59f6-4a5f-9516-f0d0645ff657",
   "metadata": {},
   "outputs": [],
   "source": [
    "# IQR 범주화\n",
    "categorize_by_iqr(train_data, 'HEAD NORMAL DISTANCE_STAGE1_STAGE3_Dam')\n",
    "categorize_by_iqr(test_data, 'HEAD NORMAL DISTANCE_STAGE1_STAGE3_Dam')"
   ]
  },
  {
   "cell_type": "code",
   "execution_count": 69,
   "id": "677f0440-0284-49d5-8d04-edb6aeabfbe1",
   "metadata": {},
   "outputs": [
    {
     "data": {
      "image/png": "[encoded data removed]",
      "text/plain": [
       "<Figure size 800x400 with 1 Axes>"
      ]
     },
     "metadata": {},
     "output_type": "display_data"
    }
   ],
   "source": [
    "plot_with_counts('HEAD NORMAL DISTANCE_STAGE1_STAGE3_Dam')"
   ]
  },
  {
   "cell_type": "code",
   "execution_count": 70,
   "id": "afffba14-7bd1-4307-a5cf-af161c29b87a",
   "metadata": {},
   "outputs": [],
   "source": [
    "# IQR 범주화\n",
    "categorize_by_iqr(train_data, 'HEAD NORMAL DISTANCE_TRIANGLE_area_Dam')\n",
    "categorize_by_iqr(test_data,'HEAD NORMAL DISTANCE_TRIANGLE_area_Dam')"
   ]
  },
  {
   "cell_type": "code",
   "execution_count": 71,
   "id": "9d7212ba-2b7c-417d-85f3-38c25f1bb6c2",
   "metadata": {},
   "outputs": [
    {
     "data": {
      "image/png": "[encoded data removed]",
      "text/plain": [
       "<Figure size 800x400 with 1 Axes>"
      ]
     },
     "metadata": {},
     "output_type": "display_data"
    }
   ],
   "source": [
    "plot_with_counts('HEAD NORMAL DISTANCE_TRIANGLE_area_Dam')"
   ]
  },
  {
   "cell_type": "code",
   "execution_count": 72,
   "id": "3153660e-2ecd-4b36-9d94-88a632fc643b",
   "metadata": {},
   "outputs": [],
   "source": [
    "# IQR 범주화\n",
    "categorize_by_iqr(train_data, 'HEAD NORMAL DISTANCE_TRIANGLE_height_Dam')\n",
    "categorize_by_iqr(test_data, 'HEAD NORMAL DISTANCE_TRIANGLE_height_Dam')"
   ]
  },
  {
   "cell_type": "code",
   "execution_count": 73,
   "id": "2fe4d81e-7343-4dbb-8cb5-c3aab3bccffe",
   "metadata": {},
   "outputs": [
    {
     "data": {
      "image/png": "[encoded data removed]",
      "text/plain": [
       "<Figure size 800x400 with 1 Axes>"
      ]
     },
     "metadata": {},
     "output_type": "display_data"
    }
   ],
   "source": [
    "plot_with_counts('HEAD NORMAL DISTANCE_TRIANGLE_height_Dam')"
   ]
  },
  {
   "cell_type": "code",
   "execution_count": 74,
   "id": "9a7bf8d1-85e4-42d4-b5aa-6eba391858e5",
   "metadata": {},
   "outputs": [],
   "source": [
    "# IQR 범주화\n",
    "categorize_by_iqr(train_data, 'HEAD NORMAL DISTANCE_TRIANGLE_area_Fill1')\n",
    "categorize_by_iqr(test_data, 'HEAD NORMAL DISTANCE_TRIANGLE_area_Fill1')"
   ]
  },
  {
   "cell_type": "code",
   "execution_count": 75,
   "id": "669ada3d-4aa2-4300-92cd-d32f82bdecac",
   "metadata": {},
   "outputs": [
    {
     "data": {
      "image/png": "[encoded data removed]",
      "text/plain": [
       "<Figure size 800x400 with 1 Axes>"
      ]
     },
     "metadata": {},
     "output_type": "display_data"
    }
   ],
   "source": [
    "plot_with_counts('HEAD NORMAL DISTANCE_TRIANGLE_area_Fill1')"
   ]
  },
  {
   "cell_type": "code",
   "execution_count": 76,
   "id": "5a082eda-e4b1-4e4e-9a4f-bae7cc5f0526",
   "metadata": {},
   "outputs": [],
   "source": [
    "# IQR 범주화\n",
    "categorize_by_iqr(train_data, 'HEAD NORMAL DISTANCE_TRIANGLE_height_Fill1')\n",
    "categorize_by_iqr(test_data, 'HEAD NORMAL DISTANCE_TRIANGLE_height_Fill1')"
   ]
  },
  {
   "cell_type": "code",
   "execution_count": 77,
   "id": "3a135e60-ff71-49db-a983-5d7499a2396c",
   "metadata": {},
   "outputs": [
    {
     "data": {
      "image/png": "[encoded data removed]",
      "text/plain": [
       "<Figure size 800x400 with 1 Axes>"
      ]
     },
     "metadata": {},
     "output_type": "display_data"
    }
   ],
   "source": [
    "plot_with_counts('HEAD NORMAL DISTANCE_TRIANGLE_height_Fill1')"
   ]
  },
  {
   "cell_type": "markdown",
   "id": "cc9846cf-f714-410b-9a52-bc3ca86746f3",
   "metadata": {},
   "source": [
    "- volume*time"
   ]
  },
  {
   "cell_type": "code",
   "execution_count": 78,
   "id": "dacabe16-fd8a-4831-b658-ee180a509a88",
   "metadata": {},
   "outputs": [
    {
     "data": {
      "text/plain": [
       "'\\n변수 volume_time_multip_avg_Dam의 고유값 개수: 180\\n변수 volume_time_multip_avg_Fill1의 고유값 개수: 161\\n'"
      ]
     },
     "execution_count": 78,
     "metadata": {},
     "output_type": "execute_result"
    }
   ],
   "source": [
    "'''\n",
    "변수 volume_time_multip_avg_Dam의 고유값 개수: 180\n",
    "변수 volume_time_multip_avg_Fill1의 고유값 개수: 161\n",
    "'''"
   ]
  },
  {
   "cell_type": "code",
   "execution_count": 79,
   "id": "955a6938-dbc6-43ee-ad73-607a815f0575",
   "metadata": {},
   "outputs": [
    {
     "data": {
      "text/plain": [
       "count    40506.000000\n",
       "mean        12.202629\n",
       "std          6.118308\n",
       "min          4.617333\n",
       "25%          8.996667\n",
       "50%         10.976667\n",
       "75%         14.344000\n",
       "max         24.578000\n",
       "Name: volume_time_multip_avg_Dam, dtype: float64"
      ]
     },
     "execution_count": 79,
     "metadata": {},
     "output_type": "execute_result"
    }
   ],
   "source": [
    "train_data['volume_time_multip_avg_Dam'].describe()"
   ]
  },
  {
   "cell_type": "code",
   "execution_count": 80,
   "id": "98f83217-23ce-4d58-87a0-71e952daec70",
   "metadata": {},
   "outputs": [],
   "source": [
    "# IQR 범주화\n",
    "categorize_by_iqr(train_data, 'volume_time_multip_avg_Dam')\n",
    "categorize_by_iqr(test_data, 'volume_time_multip_avg_Dam')"
   ]
  },
  {
   "cell_type": "code",
   "execution_count": 81,
   "id": "bf28e3f5-d53f-478b-a491-e33194f53a64",
   "metadata": {},
   "outputs": [
    {
     "data": {
      "image/png": "[encoded data removed]",
      "text/plain": [
       "<Figure size 800x400 with 1 Axes>"
      ]
     },
     "metadata": {},
     "output_type": "display_data"
    }
   ],
   "source": [
    "plot_with_counts('volume_time_multip_avg_Dam')"
   ]
  },
  {
   "cell_type": "code",
   "execution_count": 82,
   "id": "a923ae0e-15d1-4b60-92fd-7e463bb74329",
   "metadata": {},
   "outputs": [],
   "source": [
    "# IQR 범주화\n",
    "categorize_by_iqr(train_data, 'volume_time_multip_avg_Fill1')\n",
    "categorize_by_iqr(test_data, 'volume_time_multip_avg_Fill1')"
   ]
  },
  {
   "cell_type": "code",
   "execution_count": 83,
   "id": "59f60878-d5da-4076-be73-88198c18c724",
   "metadata": {},
   "outputs": [
    {
     "data": {
      "image/png": "[encoded data removed]",
      "text/plain": [
       "<Figure size 800x400 with 1 Axes>"
      ]
     },
     "metadata": {},
     "output_type": "display_data"
    }
   ],
   "source": [
    "plot_with_counts('volume_time_multip_avg_Fill1')"
   ]
  },
  {
   "cell_type": "markdown",
   "id": "f9bb6b20-c53b-4e21-a922-29e04f6cc8e9",
   "metadata": {},
   "source": [
    "- pressure*time"
   ]
  },
  {
   "cell_type": "code",
   "execution_count": 84,
   "id": "10bbe9d8-046b-435e-84b2-bb92eec25bc0",
   "metadata": {},
   "outputs": [
    {
     "data": {
      "text/plain": [
       "'\\n변수 1st_pressure_time_AutoClave의 고유값 개수: 112\\n변수 2nd_pressure_time_AutoClave의 고유값 개수: 193\\n변수 3rd_pressure_time_AutoClave의 고유값 개수: 115\\n변수 avg_pressure_time_AutoClave의 고유값 개수: 1959\\n'"
      ]
     },
     "execution_count": 84,
     "metadata": {},
     "output_type": "execute_result"
    }
   ],
   "source": [
    "'''\n",
    "변수 1st_pressure_time_AutoClave의 고유값 개수: 112\n",
    "변수 2nd_pressure_time_AutoClave의 고유값 개수: 193\n",
    "변수 3rd_pressure_time_AutoClave의 고유값 개수: 115\n",
    "변수 avg_pressure_time_AutoClave의 고유값 개수: 1959\n",
    "'''"
   ]
  },
  {
   "cell_type": "code",
   "execution_count": 85,
   "id": "cc4eaf3f-a5cf-497f-9f97-93b9dd5384dd",
   "metadata": {},
   "outputs": [],
   "source": [
    "# 개수로 범주화\n",
    "categorize_column(train_data, 'avg_pressure_time_AutoClave', 50)\n",
    "categorize_column(test_data, 'avg_pressure_time_AutoClave', 50)"
   ]
  },
  {
   "cell_type": "code",
   "execution_count": 86,
   "id": "688c2b3a-7780-48f5-91e8-454f061ba580",
   "metadata": {},
   "outputs": [
    {
     "name": "stderr",
     "output_type": "stream",
     "text": [
      "/var/folders/c6/kvlszyfj2q9_tv_8pb0y40qm0000gn/T/ipykernel_54132/429566337.py:3: FutureWarning: The default of observed=False is deprecated and will be changed to True in a future version of pandas. Pass observed=False to retain current behavior or observed=True to adopt the future default and silence this warning.\n",
      "  count_df = data.groupby([category_column, target_column]).size().unstack(fill_value=0)\n",
      "/var/folders/c6/kvlszyfj2q9_tv_8pb0y40qm0000gn/T/ipykernel_54132/429566337.py:7: FutureWarning: The default of observed=False is deprecated and will be changed to True in a future version of pandas. Pass observed=False to retain current behavior or observed=True to adopt the future default and silence this warning.\n",
      "  count_values = data.groupby([category_column, target_column]).size().unstack(fill_value=0)\n",
      "posx and posy should be finite values\n",
      "posx and posy should be finite values\n",
      "posx and posy should be finite values\n",
      "posx and posy should be finite values\n",
      "posx and posy should be finite values\n",
      "posx and posy should be finite values\n",
      "posx and posy should be finite values\n",
      "posx and posy should be finite values\n",
      "posx and posy should be finite values\n",
      "posx and posy should be finite values\n",
      "posx and posy should be finite values\n",
      "posx and posy should be finite values\n",
      "posx and posy should be finite values\n",
      "posx and posy should be finite values\n",
      "posx and posy should be finite values\n",
      "posx and posy should be finite values\n",
      "posx and posy should be finite values\n",
      "posx and posy should be finite values\n",
      "posx and posy should be finite values\n",
      "posx and posy should be finite values\n",
      "posx and posy should be finite values\n",
      "posx and posy should be finite values\n",
      "posx and posy should be finite values\n",
      "posx and posy should be finite values\n",
      "posx and posy should be finite values\n",
      "posx and posy should be finite values\n",
      "posx and posy should be finite values\n",
      "posx and posy should be finite values\n",
      "posx and posy should be finite values\n",
      "posx and posy should be finite values\n",
      "posx and posy should be finite values\n",
      "posx and posy should be finite values\n",
      "posx and posy should be finite values\n",
      "posx and posy should be finite values\n",
      "posx and posy should be finite values\n",
      "posx and posy should be finite values\n",
      "posx and posy should be finite values\n",
      "posx and posy should be finite values\n",
      "posx and posy should be finite values\n",
      "posx and posy should be finite values\n",
      "posx and posy should be finite values\n",
      "posx and posy should be finite values\n",
      "posx and posy should be finite values\n",
      "posx and posy should be finite values\n",
      "posx and posy should be finite values\n",
      "posx and posy should be finite values\n",
      "posx and posy should be finite values\n",
      "posx and posy should be finite values\n",
      "posx and posy should be finite values\n",
      "posx and posy should be finite values\n",
      "posx and posy should be finite values\n",
      "posx and posy should be finite values\n",
      "posx and posy should be finite values\n",
      "posx and posy should be finite values\n",
      "posx and posy should be finite values\n",
      "posx and posy should be finite values\n",
      "posx and posy should be finite values\n",
      "posx and posy should be finite values\n",
      "posx and posy should be finite values\n",
      "posx and posy should be finite values\n",
      "posx and posy should be finite values\n",
      "posx and posy should be finite values\n",
      "posx and posy should be finite values\n",
      "posx and posy should be finite values\n",
      "posx and posy should be finite values\n",
      "posx and posy should be finite values\n",
      "posx and posy should be finite values\n",
      "posx and posy should be finite values\n",
      "posx and posy should be finite values\n",
      "posx and posy should be finite values\n",
      "posx and posy should be finite values\n",
      "posx and posy should be finite values\n",
      "posx and posy should be finite values\n",
      "posx and posy should be finite values\n",
      "posx and posy should be finite values\n",
      "posx and posy should be finite values\n",
      "posx and posy should be finite values\n",
      "posx and posy should be finite values\n",
      "posx and posy should be finite values\n",
      "posx and posy should be finite values\n",
      "posx and posy should be finite values\n",
      "posx and posy should be finite values\n",
      "posx and posy should be finite values\n",
      "posx and posy should be finite values\n",
      "posx and posy should be finite values\n",
      "posx and posy should be finite values\n",
      "posx and posy should be finite values\n",
      "posx and posy should be finite values\n",
      "posx and posy should be finite values\n",
      "posx and posy should be finite values\n",
      "posx and posy should be finite values\n",
      "posx and posy should be finite values\n",
      "posx and posy should be finite values\n",
      "posx and posy should be finite values\n",
      "posx and posy should be finite values\n",
      "posx and posy should be finite values\n",
      "posx and posy should be finite values\n",
      "posx and posy should be finite values\n",
      "posx and posy should be finite values\n",
      "posx and posy should be finite values\n",
      "posx and posy should be finite values\n",
      "posx and posy should be finite values\n",
      "posx and posy should be finite values\n",
      "posx and posy should be finite values\n",
      "posx and posy should be finite values\n",
      "posx and posy should be finite values\n",
      "posx and posy should be finite values\n",
      "posx and posy should be finite values\n",
      "posx and posy should be finite values\n",
      "posx and posy should be finite values\n",
      "posx and posy should be finite values\n",
      "posx and posy should be finite values\n",
      "posx and posy should be finite values\n",
      "posx and posy should be finite values\n",
      "posx and posy should be finite values\n",
      "posx and posy should be finite values\n",
      "posx and posy should be finite values\n",
      "posx and posy should be finite values\n",
      "posx and posy should be finite values\n",
      "posx and posy should be finite values\n",
      "posx and posy should be finite values\n",
      "posx and posy should be finite values\n",
      "posx and posy should be finite values\n",
      "posx and posy should be finite values\n",
      "posx and posy should be finite values\n",
      "posx and posy should be finite values\n",
      "posx and posy should be finite values\n",
      "posx and posy should be finite values\n",
      "posx and posy should be finite values\n",
      "posx and posy should be finite values\n",
      "posx and posy should be finite values\n",
      "posx and posy should be finite values\n",
      "posx and posy should be finite values\n",
      "posx and posy should be finite values\n",
      "posx and posy should be finite values\n",
      "posx and posy should be finite values\n",
      "posx and posy should be finite values\n",
      "posx and posy should be finite values\n",
      "posx and posy should be finite values\n",
      "posx and posy should be finite values\n",
      "posx and posy should be finite values\n",
      "posx and posy should be finite values\n",
      "posx and posy should be finite values\n",
      "posx and posy should be finite values\n",
      "posx and posy should be finite values\n",
      "posx and posy should be finite values\n",
      "posx and posy should be finite values\n",
      "posx and posy should be finite values\n",
      "posx and posy should be finite values\n",
      "posx and posy should be finite values\n",
      "posx and posy should be finite values\n",
      "posx and posy should be finite values\n",
      "posx and posy should be finite values\n",
      "posx and posy should be finite values\n",
      "posx and posy should be finite values\n",
      "posx and posy should be finite values\n",
      "posx and posy should be finite values\n",
      "posx and posy should be finite values\n",
      "posx and posy should be finite values\n",
      "posx and posy should be finite values\n",
      "posx and posy should be finite values\n",
      "posx and posy should be finite values\n",
      "posx and posy should be finite values\n",
      "posx and posy should be finite values\n",
      "posx and posy should be finite values\n",
      "posx and posy should be finite values\n",
      "posx and posy should be finite values\n",
      "posx and posy should be finite values\n",
      "posx and posy should be finite values\n",
      "posx and posy should be finite values\n",
      "posx and posy should be finite values\n",
      "posx and posy should be finite values\n",
      "posx and posy should be finite values\n",
      "posx and posy should be finite values\n",
      "posx and posy should be finite values\n",
      "posx and posy should be finite values\n",
      "posx and posy should be finite values\n",
      "posx and posy should be finite values\n",
      "posx and posy should be finite values\n",
      "posx and posy should be finite values\n",
      "posx and posy should be finite values\n",
      "posx and posy should be finite values\n",
      "posx and posy should be finite values\n",
      "posx and posy should be finite values\n",
      "posx and posy should be finite values\n",
      "posx and posy should be finite values\n",
      "posx and posy should be finite values\n",
      "posx and posy should be finite values\n",
      "posx and posy should be finite values\n",
      "posx and posy should be finite values\n",
      "posx and posy should be finite values\n",
      "posx and posy should be finite values\n",
      "posx and posy should be finite values\n",
      "posx and posy should be finite values\n",
      "posx and posy should be finite values\n",
      "posx and posy should be finite values\n",
      "posx and posy should be finite values\n",
      "posx and posy should be finite values\n",
      "posx and posy should be finite values\n",
      "posx and posy should be finite values\n"
     ]
    },
    {
     "data": {
      "image/png": "[encoded data removed]",
      "text/plain": [
       "<Figure size 800x400 with 1 Axes>"
      ]
     },
     "metadata": {},
     "output_type": "display_data"
    }
   ],
   "source": [
    "plot_with_counts('avg_pressure_time_AutoClave_category')"
   ]
  },
  {
   "cell_type": "code",
   "execution_count": 87,
   "id": "a040c618-285b-45c6-9af9-e95c32287270",
   "metadata": {},
   "outputs": [],
   "source": [
    "# IQR 범주화\n",
    "categorize_by_iqr(train_data, 'avg_pressure_time_AutoClave')\n",
    "categorize_by_iqr(test_data, 'avg_pressure_time_AutoClave')"
   ]
  },
  {
   "cell_type": "code",
   "execution_count": 88,
   "id": "37258da9-459d-40aa-8363-0c96df5b44bf",
   "metadata": {},
   "outputs": [
    {
     "data": {
      "image/png": "[encoded data removed]",
      "text/plain": [
       "<Figure size 800x400 with 1 Axes>"
      ]
     },
     "metadata": {},
     "output_type": "display_data"
    }
   ],
   "source": [
    "plot_with_counts('avg_pressure_time_AutoClave')"
   ]
  },
  {
   "cell_type": "code",
   "execution_count": 89,
   "id": "a5914194-ff77-4948-b6ac-cd3f532ee34d",
   "metadata": {},
   "outputs": [],
   "source": [
    "# IQR 범주화\n",
    "categorize_by_iqr(train_data, '1st_pressure_time_AutoClave')\n",
    "categorize_by_iqr(test_data, '1st_pressure_time_AutoClave')"
   ]
  },
  {
   "cell_type": "code",
   "execution_count": 90,
   "id": "69c5428e-11da-4869-8b76-eac9e466a4a0",
   "metadata": {},
   "outputs": [
    {
     "data": {
      "image/png": "[encoded data removed]",
      "text/plain": [
       "<Figure size 800x400 with 1 Axes>"
      ]
     },
     "metadata": {},
     "output_type": "display_data"
    }
   ],
   "source": [
    "plot_with_counts('1st_pressure_time_AutoClave')"
   ]
  },
  {
   "cell_type": "code",
   "execution_count": 91,
   "id": "cb8e85f5-a71e-4510-9b9e-1fb175f96055",
   "metadata": {},
   "outputs": [],
   "source": [
    "# 개수로 범주화\n",
    "categorize_column(train_data, '2nd_pressure_time_AutoClave', 20)\n",
    "categorize_column(test_data, '2nd_pressure_time_AutoClave', 20)"
   ]
  },
  {
   "cell_type": "code",
   "execution_count": 92,
   "id": "3bade5cc-e30d-4a7d-8643-def460300bc0",
   "metadata": {
    "scrolled": true
   },
   "outputs": [
    {
     "name": "stderr",
     "output_type": "stream",
     "text": [
      "/var/folders/c6/kvlszyfj2q9_tv_8pb0y40qm0000gn/T/ipykernel_54132/429566337.py:3: FutureWarning: The default of observed=False is deprecated and will be changed to True in a future version of pandas. Pass observed=False to retain current behavior or observed=True to adopt the future default and silence this warning.\n",
      "  count_df = data.groupby([category_column, target_column]).size().unstack(fill_value=0)\n",
      "/var/folders/c6/kvlszyfj2q9_tv_8pb0y40qm0000gn/T/ipykernel_54132/429566337.py:7: FutureWarning: The default of observed=False is deprecated and will be changed to True in a future version of pandas. Pass observed=False to retain current behavior or observed=True to adopt the future default and silence this warning.\n",
      "  count_values = data.groupby([category_column, target_column]).size().unstack(fill_value=0)\n",
      "posx and posy should be finite values\n",
      "posx and posy should be finite values\n",
      "posx and posy should be finite values\n",
      "posx and posy should be finite values\n",
      "posx and posy should be finite values\n",
      "posx and posy should be finite values\n",
      "posx and posy should be finite values\n",
      "posx and posy should be finite values\n",
      "posx and posy should be finite values\n",
      "posx and posy should be finite values\n",
      "posx and posy should be finite values\n",
      "posx and posy should be finite values\n",
      "posx and posy should be finite values\n",
      "posx and posy should be finite values\n",
      "posx and posy should be finite values\n",
      "posx and posy should be finite values\n",
      "posx and posy should be finite values\n",
      "posx and posy should be finite values\n",
      "posx and posy should be finite values\n",
      "posx and posy should be finite values\n",
      "posx and posy should be finite values\n",
      "posx and posy should be finite values\n",
      "posx and posy should be finite values\n",
      "posx and posy should be finite values\n",
      "posx and posy should be finite values\n",
      "posx and posy should be finite values\n",
      "posx and posy should be finite values\n",
      "posx and posy should be finite values\n",
      "posx and posy should be finite values\n",
      "posx and posy should be finite values\n",
      "posx and posy should be finite values\n",
      "posx and posy should be finite values\n",
      "posx and posy should be finite values\n",
      "posx and posy should be finite values\n",
      "posx and posy should be finite values\n",
      "posx and posy should be finite values\n",
      "posx and posy should be finite values\n",
      "posx and posy should be finite values\n",
      "posx and posy should be finite values\n",
      "posx and posy should be finite values\n",
      "posx and posy should be finite values\n",
      "posx and posy should be finite values\n",
      "posx and posy should be finite values\n",
      "posx and posy should be finite values\n",
      "posx and posy should be finite values\n",
      "posx and posy should be finite values\n",
      "posx and posy should be finite values\n",
      "posx and posy should be finite values\n",
      "posx and posy should be finite values\n",
      "posx and posy should be finite values\n",
      "posx and posy should be finite values\n",
      "posx and posy should be finite values\n",
      "posx and posy should be finite values\n",
      "posx and posy should be finite values\n",
      "posx and posy should be finite values\n",
      "posx and posy should be finite values\n",
      "posx and posy should be finite values\n",
      "posx and posy should be finite values\n",
      "posx and posy should be finite values\n",
      "posx and posy should be finite values\n",
      "posx and posy should be finite values\n",
      "posx and posy should be finite values\n",
      "posx and posy should be finite values\n",
      "posx and posy should be finite values\n",
      "posx and posy should be finite values\n",
      "posx and posy should be finite values\n",
      "posx and posy should be finite values\n",
      "posx and posy should be finite values\n",
      "posx and posy should be finite values\n",
      "posx and posy should be finite values\n",
      "posx and posy should be finite values\n",
      "posx and posy should be finite values\n",
      "posx and posy should be finite values\n",
      "posx and posy should be finite values\n",
      "posx and posy should be finite values\n",
      "posx and posy should be finite values\n",
      "posx and posy should be finite values\n",
      "posx and posy should be finite values\n",
      "posx and posy should be finite values\n",
      "posx and posy should be finite values\n"
     ]
    },
    {
     "data": {
      "image/png": "[encoded data removed]",
      "text/plain": [
       "<Figure size 800x400 with 1 Axes>"
      ]
     },
     "metadata": {},
     "output_type": "display_data"
    }
   ],
   "source": [
    "plot_with_counts('2nd_pressure_time_AutoClave_category')"
   ]
  },
  {
   "cell_type": "code",
   "execution_count": 93,
   "id": "c09c93ae-0ec2-4ae5-b4e1-c629e8a9a241",
   "metadata": {},
   "outputs": [],
   "source": [
    "# IQR 범주화\n",
    "categorize_by_iqr(train_data, '2nd_pressure_time_AutoClave')\n",
    "categorize_by_iqr(test_data, '2nd_pressure_time_AutoClave')"
   ]
  },
  {
   "cell_type": "code",
   "execution_count": 94,
   "id": "82c53242-2061-4f24-9c77-89e5438556b2",
   "metadata": {},
   "outputs": [
    {
     "data": {
      "image/png": "[encoded data removed]",
      "text/plain": [
       "<Figure size 800x400 with 1 Axes>"
      ]
     },
     "metadata": {},
     "output_type": "display_data"
    }
   ],
   "source": [
    "plot_with_counts('2nd_pressure_time_AutoClave')"
   ]
  },
  {
   "cell_type": "code",
   "execution_count": 95,
   "id": "6e0db4a7-710b-4d1d-bfef-e3bda23c267b",
   "metadata": {},
   "outputs": [],
   "source": [
    "# IQR 범주화\n",
    "categorize_by_iqr(train_data, '3rd_pressure_time_AutoClave')\n",
    "categorize_by_iqr(test_data, '3rd_pressure_time_AutoClave')"
   ]
  },
  {
   "cell_type": "code",
   "execution_count": 96,
   "id": "03d18f49-6bf3-4e71-99ad-baaf354e195a",
   "metadata": {},
   "outputs": [
    {
     "data": {
      "image/png": "[encoded data removed]",
      "text/plain": [
       "<Figure size 800x400 with 1 Axes>"
      ]
     },
     "metadata": {},
     "output_type": "display_data"
    }
   ],
   "source": [
    "plot_with_counts('3rd_pressure_time_AutoClave')"
   ]
  },
  {
   "cell_type": "markdown",
   "id": "3f41161b-c8cc-4683-bc2d-1b6756239efa",
   "metadata": {},
   "source": [
    "- time ratio"
   ]
  },
  {
   "cell_type": "code",
   "execution_count": 97,
   "id": "3d21e96a-e86e-4043-8c27-a1c4a75e1cde",
   "metadata": {},
   "outputs": [
    {
     "data": {
      "text/plain": [
       "'\\n변수 time_ratio_Dam의 고유값 개수: 154\\n변수 time_ratio_Fill1의 고유값 개수: 118\\n변수 time_ratio_Fill2의 고유값 개수: 55\\n변수 time_ratio_AutoClave의 고유값 개수: 212\\n'"
      ]
     },
     "execution_count": 97,
     "metadata": {},
     "output_type": "execute_result"
    }
   ],
   "source": [
    "'''\n",
    "변수 time_ratio_Dam의 고유값 개수: 154\n",
    "변수 time_ratio_Fill1의 고유값 개수: 118\n",
    "변수 time_ratio_Fill2의 고유값 개수: 55\n",
    "변수 time_ratio_AutoClave의 고유값 개수: 212\n",
    "'''"
   ]
  },
  {
   "cell_type": "code",
   "execution_count": 98,
   "id": "c27e4a71-5c7e-4b06-b256-6aa36815232e",
   "metadata": {},
   "outputs": [],
   "source": [
    "# IQR 범주화\n",
    "categorize_by_iqr(train_data, 'time_ratio_Dam')\n",
    "categorize_by_iqr(test_data, 'time_ratio_Dam')"
   ]
  },
  {
   "cell_type": "markdown",
   "id": "eb332301-1d22-4cc7-a154-24051c9c5a51",
   "metadata": {},
   "source": [
    "- production qty"
   ]
  },
  {
   "cell_type": "code",
   "execution_count": 99,
   "id": "4be9a81a-879a-470e-99ad-77cd0e6e6a80",
   "metadata": {},
   "outputs": [
    {
     "data": {
      "text/plain": [
       "'\\n변수 Production_Qty_Collect_Result의 고유값 개수: 607\\n'"
      ]
     },
     "execution_count": 99,
     "metadata": {},
     "output_type": "execute_result"
    }
   ],
   "source": [
    "'''\n",
    "변수 Production_Qty_Collect_Result의 고유값 개수: 607\n",
    "'''"
   ]
  },
  {
   "cell_type": "code",
   "execution_count": 100,
   "id": "44733d74-d3fc-4c2e-ae4f-bc9c802dc1b2",
   "metadata": {},
   "outputs": [],
   "source": [
    "# IQR 범주화\n",
    "categorize_by_iqr(train_data, 'Production_Qty_Collect_Result')\n",
    "categorize_by_iqr(test_data, 'Production_Qty_Collect_Result')"
   ]
  },
  {
   "cell_type": "code",
   "execution_count": null,
   "id": "befc154e-3c03-4ab9-8168-326212ea1190",
   "metadata": {},
   "outputs": [],
   "source": []
  },
  {
   "cell_type": "code",
   "execution_count": 101,
   "id": "2a2a217c-c58d-4ca4-8b9f-dbf6d4d33aae",
   "metadata": {},
   "outputs": [
    {
     "name": "stdout",
     "output_type": "stream",
     "text": [
      "<class 'pandas.core.frame.DataFrame'>\n",
      "RangeIndex: 40506 entries, 0 to 40505\n",
      "Data columns (total 43 columns):\n",
      " #   Column                                          Non-Null Count  Dtype   \n",
      "---  ------                                          --------------  -----   \n",
      " 0   CURE SPEED Collect Result_Dam                   40506 non-null  int64   \n",
      " 1   DISCHARGED SPEED OF RESIN Collect Result_Dam    40506 non-null  int64   \n",
      " 2   Head Clean Position Z Collect Result_Dam        40506 non-null  float64 \n",
      " 3   Stage1_Circle_Distance_Speed_Dam                40506 non-null  float64 \n",
      " 4   Stage2_Circle_Distance_Speed_Dam                40506 non-null  float64 \n",
      " 5   Stage3_Circle_Distance_Speed_Dam                40506 non-null  float64 \n",
      " 6   WorkMode Collect Result                         40506 non-null  float64 \n",
      " 7   Chamber Temp. Collect Result_AutoClave          40506 non-null  object  \n",
      " 8   DISCHARGED SPEED OF RESIN Collect Result_Fill1  40506 non-null  float64 \n",
      " 9   Head Purge Position Z Collect Result_Fill1      40506 non-null  float64 \n",
      " 10  target                                          40506 non-null  object  \n",
      " 11  Equipment_same_num                              40506 non-null  int64   \n",
      " 12  Production_Qty_Collect_Result                   40506 non-null  object  \n",
      " 13  HEAD NORMAL DISTANCE_STAGE1_STAGE3_Dam          40506 non-null  object  \n",
      " 14  HEAD NORMAL DISTANCE_TRIANGLE_area_Dam          40506 non-null  object  \n",
      " 15  HEAD NORMAL DISTANCE_TRIANGLE_height_Dam        40506 non-null  object  \n",
      " 16  HEAD NORMAL DISTANCE_TRIANGLE_area_Fill1        40506 non-null  object  \n",
      " 17  HEAD NORMAL DISTANCE_TRIANGLE_height_Fill1      40506 non-null  object  \n",
      " 18  volume_time_multip_avg_Dam                      40506 non-null  object  \n",
      " 19  volume_time_multip_avg_Fill1                    40506 non-null  object  \n",
      " 20  average_thickness_Dam                           40506 non-null  float64 \n",
      " 21  1st_pressure_time_AutoClave                     40506 non-null  object  \n",
      " 22  2nd_pressure_time_AutoClave                     40506 non-null  object  \n",
      " 23  3rd_pressure_time_AutoClave                     40506 non-null  object  \n",
      " 24  avg_pressure_time_AutoClave                     40506 non-null  object  \n",
      " 25  time_ratio_Dam                                  40506 non-null  object  \n",
      " 26  time_ratio_Fill1                                40506 non-null  float64 \n",
      " 27  time_ratio_Fill2                                40506 non-null  float64 \n",
      " 28  time_ratio_AutoClave                            40506 non-null  float64 \n",
      " 29  model_receip_encoded                            40506 non-null  float64 \n",
      " 30  workorder_receip_encoded                        40506 non-null  float64 \n",
      " 31  PalletID_Collect_Result_encoded                 40506 non-null  float64 \n",
      " 32  cure_end_position_XZ_Fill2_encoded              40506 non-null  float64 \n",
      " 33  cure_start_position_XZ_Fill2_encoded            40506 non-null  float64 \n",
      " 34  cure_standby_position_XZ_Fill2_encoded          40506 non-null  float64 \n",
      " 35  stage1_line13_distance_speed_Dam_encoded        40506 non-null  float64 \n",
      " 36  stage1_line24_distance_speed_Dam_encoded        40506 non-null  float64 \n",
      " 37  stage2_line13_distance_speed_Dam_encoded        40506 non-null  float64 \n",
      " 38  stage2_line24_distance_speed_Dam_encoded        40506 non-null  float64 \n",
      " 39  stage3_line13_distance_speed_Dam_encoded        40506 non-null  float64 \n",
      " 40  stage3_line24_distance_speed_Dam_encoded        40506 non-null  float64 \n",
      " 41  avg_pressure_time_AutoClave_category            40501 non-null  category\n",
      " 42  2nd_pressure_time_AutoClave_category            40501 non-null  category\n",
      "dtypes: category(2), float64(23), int64(3), object(15)\n",
      "memory usage: 12.8+ MB\n"
     ]
    }
   ],
   "source": [
    "train_data.info()"
   ]
  },
  {
   "cell_type": "code",
   "execution_count": 102,
   "id": "df53adab-eafa-4972-abc5-324484c917ec",
   "metadata": {},
   "outputs": [
    {
     "name": "stdout",
     "output_type": "stream",
     "text": [
      "<class 'pandas.core.frame.DataFrame'>\n",
      "RangeIndex: 17361 entries, 0 to 17360\n",
      "Data columns (total 44 columns):\n",
      " #   Column                                          Non-Null Count  Dtype   \n",
      "---  ------                                          --------------  -----   \n",
      " 0   Set ID                                          17361 non-null  object  \n",
      " 1   CURE SPEED Collect Result_Dam                   17361 non-null  int64   \n",
      " 2   DISCHARGED SPEED OF RESIN Collect Result_Dam    17361 non-null  int64   \n",
      " 3   Head Clean Position Z Collect Result_Dam        17361 non-null  float64 \n",
      " 4   Stage1_Circle_Distance_Speed_Dam                17361 non-null  float64 \n",
      " 5   Stage2_Circle_Distance_Speed_Dam                17361 non-null  float64 \n",
      " 6   Stage3_Circle_Distance_Speed_Dam                17361 non-null  float64 \n",
      " 7   WorkMode Collect Result                         17361 non-null  float64 \n",
      " 8   Chamber Temp. Collect Result_AutoClave          17361 non-null  object  \n",
      " 9   DISCHARGED SPEED OF RESIN Collect Result_Fill1  17361 non-null  float64 \n",
      " 10  Head Purge Position Z Collect Result_Fill1      17361 non-null  float64 \n",
      " 11  target                                          0 non-null      float64 \n",
      " 12  Equipment_same_num                              17361 non-null  int64   \n",
      " 13  Production_Qty_Collect_Result                   17361 non-null  object  \n",
      " 14  HEAD NORMAL DISTANCE_STAGE1_STAGE3_Dam          17361 non-null  object  \n",
      " 15  HEAD NORMAL DISTANCE_TRIANGLE_area_Dam          17361 non-null  object  \n",
      " 16  HEAD NORMAL DISTANCE_TRIANGLE_height_Dam        17361 non-null  object  \n",
      " 17  HEAD NORMAL DISTANCE_TRIANGLE_area_Fill1        17361 non-null  object  \n",
      " 18  HEAD NORMAL DISTANCE_TRIANGLE_height_Fill1      17361 non-null  object  \n",
      " 19  volume_time_multip_avg_Dam                      17361 non-null  object  \n",
      " 20  volume_time_multip_avg_Fill1                    17361 non-null  object  \n",
      " 21  average_thickness_Dam                           17361 non-null  float64 \n",
      " 22  1st_pressure_time_AutoClave                     17361 non-null  object  \n",
      " 23  2nd_pressure_time_AutoClave                     17361 non-null  object  \n",
      " 24  3rd_pressure_time_AutoClave                     17361 non-null  object  \n",
      " 25  avg_pressure_time_AutoClave                     17361 non-null  object  \n",
      " 26  time_ratio_Dam                                  17361 non-null  object  \n",
      " 27  time_ratio_Fill1                                17361 non-null  float64 \n",
      " 28  time_ratio_Fill2                                17361 non-null  float64 \n",
      " 29  time_ratio_AutoClave                            17361 non-null  float64 \n",
      " 30  model_receip_encoded                            17361 non-null  float64 \n",
      " 31  workorder_receip_encoded                        17361 non-null  float64 \n",
      " 32  PalletID_Collect_Result_encoded                 17361 non-null  float64 \n",
      " 33  cure_end_position_XZ_Fill2_encoded              17361 non-null  float64 \n",
      " 34  cure_start_position_XZ_Fill2_encoded            17361 non-null  float64 \n",
      " 35  cure_standby_position_XZ_Fill2_encoded          17361 non-null  float64 \n",
      " 36  stage1_line13_distance_speed_Dam_encoded        17361 non-null  float64 \n",
      " 37  stage1_line24_distance_speed_Dam_encoded        17361 non-null  float64 \n",
      " 38  stage2_line13_distance_speed_Dam_encoded        17361 non-null  float64 \n",
      " 39  stage2_line24_distance_speed_Dam_encoded        17361 non-null  float64 \n",
      " 40  stage3_line13_distance_speed_Dam_encoded        17361 non-null  float64 \n",
      " 41  stage3_line24_distance_speed_Dam_encoded        17361 non-null  float64 \n",
      " 42  avg_pressure_time_AutoClave_category            17358 non-null  category\n",
      " 43  2nd_pressure_time_AutoClave_category            17358 non-null  category\n",
      "dtypes: category(2), float64(24), int64(3), object(15)\n",
      "memory usage: 5.6+ MB\n"
     ]
    }
   ],
   "source": [
    "test_data.info()"
   ]
  },
  {
   "cell_type": "code",
   "execution_count": 103,
   "id": "2d8cc83d-94b2-41bf-bde3-86e82e7b02ca",
   "metadata": {},
   "outputs": [],
   "source": [
    "# dam, fill1, fill2 공통 변수\n",
    "var_dam_fill = [\n",
    "    'Equipment_same_num',\n",
    "    'PalletID_Collect_Result_encoded',\n",
    "    'Production_Qty_Collect_Result',\n",
    "    'WorkMode Collect Result'\n",
    "]"
   ]
  },
  {
   "cell_type": "code",
   "execution_count": 104,
   "id": "89825d2b-2342-4dd8-b581-ee8213ab282b",
   "metadata": {},
   "outputs": [],
   "source": [
    "# 전체 공통 변수\n",
    "### correlation 확인을 위한 변수 리스트\n",
    "var_all_corr = [\n",
    "    'model_receip_encoded',\n",
    "    'workorder_receip_encoded',\n",
    "]\n",
    "\n",
    "### train\n",
    "var_all_train = [\n",
    "    'target',\n",
    "    'model_receip_encoded',\n",
    "    'workorder_receip_encoded',\n",
    "]\n",
    "\n",
    "### test\n",
    "var_all_test = [\n",
    "    'Set ID',\n",
    "    'target',\n",
    "    'model_receip_encoded',\n",
    "    'workorder_receip_encoded',\n",
    "]"
   ]
  },
  {
   "cell_type": "code",
   "execution_count": 105,
   "id": "f90307d5-55eb-4e9b-9efb-5b5b88658035",
   "metadata": {},
   "outputs": [
    {
     "data": {
      "text/plain": [
       "['Equipment_same_num',\n",
       " 'PalletID_Collect_Result_encoded',\n",
       " 'Production_Qty_Collect_Result',\n",
       " 'WorkMode Collect Result',\n",
       " 'model_receip_encoded',\n",
       " 'workorder_receip_encoded',\n",
       " 'CURE SPEED Collect Result_Dam',\n",
       " 'DISCHARGED SPEED OF RESIN Collect Result_Dam',\n",
       " 'Head Clean Position Z Collect Result_Dam',\n",
       " 'Stage1_Circle_Distance_Speed_Dam',\n",
       " 'Stage2_Circle_Distance_Speed_Dam',\n",
       " 'Stage3_Circle_Distance_Speed_Dam',\n",
       " 'HEAD NORMAL DISTANCE_STAGE1_STAGE3_Dam',\n",
       " 'HEAD NORMAL DISTANCE_TRIANGLE_area_Dam',\n",
       " 'HEAD NORMAL DISTANCE_TRIANGLE_height_Dam',\n",
       " 'volume_time_multip_avg_Dam',\n",
       " 'average_thickness_Dam',\n",
       " 'time_ratio_Dam',\n",
       " 'stage1_line13_distance_speed_Dam_encoded',\n",
       " 'stage1_line24_distance_speed_Dam_encoded',\n",
       " 'stage2_line13_distance_speed_Dam_encoded',\n",
       " 'stage2_line24_distance_speed_Dam_encoded',\n",
       " 'stage3_line13_distance_speed_Dam_encoded',\n",
       " 'stage3_line24_distance_speed_Dam_encoded']"
      ]
     },
     "execution_count": 105,
     "metadata": {},
     "output_type": "execute_result"
    }
   ],
   "source": [
    "# 상관관계를 확인할 데이터셋\n",
    "combined_variables = var_dam_fill + var_all_corr + [var for var in train_data.columns if '_Dam' in var]\n",
    "combined_variables"
   ]
  },
  {
   "cell_type": "code",
   "execution_count": 106,
   "id": "f225fe06-e8f7-413a-a0b4-402d82803057",
   "metadata": {},
   "outputs": [],
   "source": [
    "# 드랍할 열 목록\n",
    "columns_to_drop = [\n",
    "    'Stage1_Circle_Distance_Speed_Dam',\n",
    "    'Stage3_Circle_Distance_Speed_Dam',\n",
    "    'HEAD NORMAL DISTANCE_TRIANGLE_area_Dam',\n",
    "    'stage1_line24_distance_speed_Dam_encoded',\n",
    "    'stage2_line13_distance_speed_Dam_encoded',\n",
    "    'stage3_line13_distance_speed_Dam_encoded',\n",
    "    'stage3_line24_distance_speed_Dam_encoded'\n",
    "]\n",
    "\n",
    "# 열 삭제\n",
    "train_data.drop(columns=columns_to_drop, inplace=True, errors='ignore')\n",
    "test_data.drop(columns=columns_to_drop, inplace=True, errors='ignore')"
   ]
  },
  {
   "cell_type": "code",
   "execution_count": 107,
   "id": "8331143e-a22c-4459-a5a4-fe62fa193e44",
   "metadata": {},
   "outputs": [],
   "source": [
    "# '_Dam'을 포함하는 변수 선택\n",
    "dam_variables = [var for var in train_data.columns if '_Dam' in var]\n",
    "\n",
    "# train\n",
    "final_columns_train = var_dam_fill + var_all_train + dam_variables\n",
    "train_data_dam = train_data[final_columns_train]\n",
    "\n",
    "# test \n",
    "final_columns_test = var_dam_fill + var_all_test + dam_variables\n",
    "test_data_dam = test_data[final_columns_test]"
   ]
  },
  {
   "cell_type": "code",
   "execution_count": 108,
   "id": "b7c818df-1d19-4a74-a483-40dd7ce8cf94",
   "metadata": {},
   "outputs": [
    {
     "name": "stdout",
     "output_type": "stream",
     "text": [
      "<class 'pandas.core.frame.DataFrame'>\n",
      "RangeIndex: 40506 entries, 0 to 40505\n",
      "Data columns (total 18 columns):\n",
      " #   Column                                        Non-Null Count  Dtype  \n",
      "---  ------                                        --------------  -----  \n",
      " 0   Equipment_same_num                            40506 non-null  int64  \n",
      " 1   PalletID_Collect_Result_encoded               40506 non-null  float64\n",
      " 2   Production_Qty_Collect_Result                 40506 non-null  object \n",
      " 3   WorkMode Collect Result                       40506 non-null  float64\n",
      " 4   target                                        40506 non-null  object \n",
      " 5   model_receip_encoded                          40506 non-null  float64\n",
      " 6   workorder_receip_encoded                      40506 non-null  float64\n",
      " 7   CURE SPEED Collect Result_Dam                 40506 non-null  int64  \n",
      " 8   DISCHARGED SPEED OF RESIN Collect Result_Dam  40506 non-null  int64  \n",
      " 9   Head Clean Position Z Collect Result_Dam      40506 non-null  float64\n",
      " 10  Stage2_Circle_Distance_Speed_Dam              40506 non-null  float64\n",
      " 11  HEAD NORMAL DISTANCE_STAGE1_STAGE3_Dam        40506 non-null  object \n",
      " 12  HEAD NORMAL DISTANCE_TRIANGLE_height_Dam      40506 non-null  object \n",
      " 13  volume_time_multip_avg_Dam                    40506 non-null  object \n",
      " 14  average_thickness_Dam                         40506 non-null  float64\n",
      " 15  time_ratio_Dam                                40506 non-null  object \n",
      " 16  stage1_line13_distance_speed_Dam_encoded      40506 non-null  float64\n",
      " 17  stage2_line24_distance_speed_Dam_encoded      40506 non-null  float64\n",
      "dtypes: float64(9), int64(3), object(6)\n",
      "memory usage: 5.6+ MB\n"
     ]
    }
   ],
   "source": [
    "train_data_dam.info()"
   ]
  },
  {
   "cell_type": "code",
   "execution_count": 109,
   "id": "0e7c53bb-9b8f-4951-bab5-e385b55e11f3",
   "metadata": {},
   "outputs": [
    {
     "name": "stdout",
     "output_type": "stream",
     "text": [
      "<class 'pandas.core.frame.DataFrame'>\n",
      "RangeIndex: 17361 entries, 0 to 17360\n",
      "Data columns (total 19 columns):\n",
      " #   Column                                        Non-Null Count  Dtype  \n",
      "---  ------                                        --------------  -----  \n",
      " 0   Equipment_same_num                            17361 non-null  int64  \n",
      " 1   PalletID_Collect_Result_encoded               17361 non-null  float64\n",
      " 2   Production_Qty_Collect_Result                 17361 non-null  object \n",
      " 3   WorkMode Collect Result                       17361 non-null  float64\n",
      " 4   Set ID                                        17361 non-null  object \n",
      " 5   target                                        0 non-null      float64\n",
      " 6   model_receip_encoded                          17361 non-null  float64\n",
      " 7   workorder_receip_encoded                      17361 non-null  float64\n",
      " 8   CURE SPEED Collect Result_Dam                 17361 non-null  int64  \n",
      " 9   DISCHARGED SPEED OF RESIN Collect Result_Dam  17361 non-null  int64  \n",
      " 10  Head Clean Position Z Collect Result_Dam      17361 non-null  float64\n",
      " 11  Stage2_Circle_Distance_Speed_Dam              17361 non-null  float64\n",
      " 12  HEAD NORMAL DISTANCE_STAGE1_STAGE3_Dam        17361 non-null  object \n",
      " 13  HEAD NORMAL DISTANCE_TRIANGLE_height_Dam      17361 non-null  object \n",
      " 14  volume_time_multip_avg_Dam                    17361 non-null  object \n",
      " 15  average_thickness_Dam                         17361 non-null  float64\n",
      " 16  time_ratio_Dam                                17361 non-null  object \n",
      " 17  stage1_line13_distance_speed_Dam_encoded      17361 non-null  float64\n",
      " 18  stage2_line24_distance_speed_Dam_encoded      17361 non-null  float64\n",
      "dtypes: float64(10), int64(3), object(6)\n",
      "memory usage: 2.5+ MB\n"
     ]
    }
   ],
   "source": [
    "test_data_dam.info()"
   ]
  },
  {
   "cell_type": "code",
   "execution_count": 112,
   "id": "8c58540b-3830-499a-a16e-ceaf0ace26cb",
   "metadata": {},
   "outputs": [],
   "source": [
    "from catboost import CatBoostClassifier"
   ]
  },
  {
   "cell_type": "code",
   "execution_count": 118,
   "id": "4c877f45-1b4d-41cb-961a-bff718a6dcef",
   "metadata": {},
   "outputs": [
    {
     "name": "stderr",
     "output_type": "stream",
     "text": [
      "/var/folders/c6/kvlszyfj2q9_tv_8pb0y40qm0000gn/T/ipykernel_54132/4139118360.py:16: SettingWithCopyWarning: \n",
      "A value is trying to be set on a copy of a slice from a DataFrame.\n",
      "Try using .loc[row_indexer,col_indexer] = value instead\n",
      "\n",
      "See the caveats in the documentation: https://pandas.pydata.org/pandas-docs/stable/user_guide/indexing.html#returning-a-view-versus-a-copy\n",
      "  train_data_dam[column] = train_data_dam[column].astype(str)\n",
      "/var/folders/c6/kvlszyfj2q9_tv_8pb0y40qm0000gn/T/ipykernel_54132/4139118360.py:17: SettingWithCopyWarning: \n",
      "A value is trying to be set on a copy of a slice from a DataFrame.\n",
      "Try using .loc[row_indexer,col_indexer] = value instead\n",
      "\n",
      "See the caveats in the documentation: https://pandas.pydata.org/pandas-docs/stable/user_guide/indexing.html#returning-a-view-versus-a-copy\n",
      "  test_data_dam[column] = test_data_dam[column].astype(str)\n",
      "/var/folders/c6/kvlszyfj2q9_tv_8pb0y40qm0000gn/T/ipykernel_54132/4139118360.py:16: SettingWithCopyWarning: \n",
      "A value is trying to be set on a copy of a slice from a DataFrame.\n",
      "Try using .loc[row_indexer,col_indexer] = value instead\n",
      "\n",
      "See the caveats in the documentation: https://pandas.pydata.org/pandas-docs/stable/user_guide/indexing.html#returning-a-view-versus-a-copy\n",
      "  train_data_dam[column] = train_data_dam[column].astype(str)\n",
      "/var/folders/c6/kvlszyfj2q9_tv_8pb0y40qm0000gn/T/ipykernel_54132/4139118360.py:17: SettingWithCopyWarning: \n",
      "A value is trying to be set on a copy of a slice from a DataFrame.\n",
      "Try using .loc[row_indexer,col_indexer] = value instead\n",
      "\n",
      "See the caveats in the documentation: https://pandas.pydata.org/pandas-docs/stable/user_guide/indexing.html#returning-a-view-versus-a-copy\n",
      "  test_data_dam[column] = test_data_dam[column].astype(str)\n",
      "/var/folders/c6/kvlszyfj2q9_tv_8pb0y40qm0000gn/T/ipykernel_54132/4139118360.py:16: SettingWithCopyWarning: \n",
      "A value is trying to be set on a copy of a slice from a DataFrame.\n",
      "Try using .loc[row_indexer,col_indexer] = value instead\n",
      "\n",
      "See the caveats in the documentation: https://pandas.pydata.org/pandas-docs/stable/user_guide/indexing.html#returning-a-view-versus-a-copy\n",
      "  train_data_dam[column] = train_data_dam[column].astype(str)\n",
      "/var/folders/c6/kvlszyfj2q9_tv_8pb0y40qm0000gn/T/ipykernel_54132/4139118360.py:17: SettingWithCopyWarning: \n",
      "A value is trying to be set on a copy of a slice from a DataFrame.\n",
      "Try using .loc[row_indexer,col_indexer] = value instead\n",
      "\n",
      "See the caveats in the documentation: https://pandas.pydata.org/pandas-docs/stable/user_guide/indexing.html#returning-a-view-versus-a-copy\n",
      "  test_data_dam[column] = test_data_dam[column].astype(str)\n",
      "/var/folders/c6/kvlszyfj2q9_tv_8pb0y40qm0000gn/T/ipykernel_54132/4139118360.py:16: SettingWithCopyWarning: \n",
      "A value is trying to be set on a copy of a slice from a DataFrame.\n",
      "Try using .loc[row_indexer,col_indexer] = value instead\n",
      "\n",
      "See the caveats in the documentation: https://pandas.pydata.org/pandas-docs/stable/user_guide/indexing.html#returning-a-view-versus-a-copy\n",
      "  train_data_dam[column] = train_data_dam[column].astype(str)\n",
      "/var/folders/c6/kvlszyfj2q9_tv_8pb0y40qm0000gn/T/ipykernel_54132/4139118360.py:17: SettingWithCopyWarning: \n",
      "A value is trying to be set on a copy of a slice from a DataFrame.\n",
      "Try using .loc[row_indexer,col_indexer] = value instead\n",
      "\n",
      "See the caveats in the documentation: https://pandas.pydata.org/pandas-docs/stable/user_guide/indexing.html#returning-a-view-versus-a-copy\n",
      "  test_data_dam[column] = test_data_dam[column].astype(str)\n",
      "/var/folders/c6/kvlszyfj2q9_tv_8pb0y40qm0000gn/T/ipykernel_54132/4139118360.py:16: SettingWithCopyWarning: \n",
      "A value is trying to be set on a copy of a slice from a DataFrame.\n",
      "Try using .loc[row_indexer,col_indexer] = value instead\n",
      "\n",
      "See the caveats in the documentation: https://pandas.pydata.org/pandas-docs/stable/user_guide/indexing.html#returning-a-view-versus-a-copy\n",
      "  train_data_dam[column] = train_data_dam[column].astype(str)\n",
      "/var/folders/c6/kvlszyfj2q9_tv_8pb0y40qm0000gn/T/ipykernel_54132/4139118360.py:17: SettingWithCopyWarning: \n",
      "A value is trying to be set on a copy of a slice from a DataFrame.\n",
      "Try using .loc[row_indexer,col_indexer] = value instead\n",
      "\n",
      "See the caveats in the documentation: https://pandas.pydata.org/pandas-docs/stable/user_guide/indexing.html#returning-a-view-versus-a-copy\n",
      "  test_data_dam[column] = test_data_dam[column].astype(str)\n",
      "/var/folders/c6/kvlszyfj2q9_tv_8pb0y40qm0000gn/T/ipykernel_54132/4139118360.py:16: SettingWithCopyWarning: \n",
      "A value is trying to be set on a copy of a slice from a DataFrame.\n",
      "Try using .loc[row_indexer,col_indexer] = value instead\n",
      "\n",
      "See the caveats in the documentation: https://pandas.pydata.org/pandas-docs/stable/user_guide/indexing.html#returning-a-view-versus-a-copy\n",
      "  train_data_dam[column] = train_data_dam[column].astype(str)\n",
      "/var/folders/c6/kvlszyfj2q9_tv_8pb0y40qm0000gn/T/ipykernel_54132/4139118360.py:17: SettingWithCopyWarning: \n",
      "A value is trying to be set on a copy of a slice from a DataFrame.\n",
      "Try using .loc[row_indexer,col_indexer] = value instead\n",
      "\n",
      "See the caveats in the documentation: https://pandas.pydata.org/pandas-docs/stable/user_guide/indexing.html#returning-a-view-versus-a-copy\n",
      "  test_data_dam[column] = test_data_dam[column].astype(str)\n",
      "/var/folders/c6/kvlszyfj2q9_tv_8pb0y40qm0000gn/T/ipykernel_54132/4139118360.py:16: SettingWithCopyWarning: \n",
      "A value is trying to be set on a copy of a slice from a DataFrame.\n",
      "Try using .loc[row_indexer,col_indexer] = value instead\n",
      "\n",
      "See the caveats in the documentation: https://pandas.pydata.org/pandas-docs/stable/user_guide/indexing.html#returning-a-view-versus-a-copy\n",
      "  train_data_dam[column] = train_data_dam[column].astype(str)\n",
      "/var/folders/c6/kvlszyfj2q9_tv_8pb0y40qm0000gn/T/ipykernel_54132/4139118360.py:17: SettingWithCopyWarning: \n",
      "A value is trying to be set on a copy of a slice from a DataFrame.\n",
      "Try using .loc[row_indexer,col_indexer] = value instead\n",
      "\n",
      "See the caveats in the documentation: https://pandas.pydata.org/pandas-docs/stable/user_guide/indexing.html#returning-a-view-versus-a-copy\n",
      "  test_data_dam[column] = test_data_dam[column].astype(str)\n",
      "/var/folders/c6/kvlszyfj2q9_tv_8pb0y40qm0000gn/T/ipykernel_54132/4139118360.py:16: SettingWithCopyWarning: \n",
      "A value is trying to be set on a copy of a slice from a DataFrame.\n",
      "Try using .loc[row_indexer,col_indexer] = value instead\n",
      "\n",
      "See the caveats in the documentation: https://pandas.pydata.org/pandas-docs/stable/user_guide/indexing.html#returning-a-view-versus-a-copy\n",
      "  train_data_dam[column] = train_data_dam[column].astype(str)\n",
      "/var/folders/c6/kvlszyfj2q9_tv_8pb0y40qm0000gn/T/ipykernel_54132/4139118360.py:17: SettingWithCopyWarning: \n",
      "A value is trying to be set on a copy of a slice from a DataFrame.\n",
      "Try using .loc[row_indexer,col_indexer] = value instead\n",
      "\n",
      "See the caveats in the documentation: https://pandas.pydata.org/pandas-docs/stable/user_guide/indexing.html#returning-a-view-versus-a-copy\n",
      "  test_data_dam[column] = test_data_dam[column].astype(str)\n",
      "/var/folders/c6/kvlszyfj2q9_tv_8pb0y40qm0000gn/T/ipykernel_54132/4139118360.py:16: SettingWithCopyWarning: \n",
      "A value is trying to be set on a copy of a slice from a DataFrame.\n",
      "Try using .loc[row_indexer,col_indexer] = value instead\n",
      "\n",
      "See the caveats in the documentation: https://pandas.pydata.org/pandas-docs/stable/user_guide/indexing.html#returning-a-view-versus-a-copy\n",
      "  train_data_dam[column] = train_data_dam[column].astype(str)\n",
      "/var/folders/c6/kvlszyfj2q9_tv_8pb0y40qm0000gn/T/ipykernel_54132/4139118360.py:17: SettingWithCopyWarning: \n",
      "A value is trying to be set on a copy of a slice from a DataFrame.\n",
      "Try using .loc[row_indexer,col_indexer] = value instead\n",
      "\n",
      "See the caveats in the documentation: https://pandas.pydata.org/pandas-docs/stable/user_guide/indexing.html#returning-a-view-versus-a-copy\n",
      "  test_data_dam[column] = test_data_dam[column].astype(str)\n",
      "/var/folders/c6/kvlszyfj2q9_tv_8pb0y40qm0000gn/T/ipykernel_54132/4139118360.py:16: SettingWithCopyWarning: \n",
      "A value is trying to be set on a copy of a slice from a DataFrame.\n",
      "Try using .loc[row_indexer,col_indexer] = value instead\n",
      "\n",
      "See the caveats in the documentation: https://pandas.pydata.org/pandas-docs/stable/user_guide/indexing.html#returning-a-view-versus-a-copy\n",
      "  train_data_dam[column] = train_data_dam[column].astype(str)\n",
      "/var/folders/c6/kvlszyfj2q9_tv_8pb0y40qm0000gn/T/ipykernel_54132/4139118360.py:17: SettingWithCopyWarning: \n",
      "A value is trying to be set on a copy of a slice from a DataFrame.\n",
      "Try using .loc[row_indexer,col_indexer] = value instead\n",
      "\n",
      "See the caveats in the documentation: https://pandas.pydata.org/pandas-docs/stable/user_guide/indexing.html#returning-a-view-versus-a-copy\n",
      "  test_data_dam[column] = test_data_dam[column].astype(str)\n"
     ]
    }
   ],
   "source": [
    "# 범주형 변수 리스트 생성\n",
    "cat_features_list = variable_names = [\n",
    "    'Production_Qty_Collect_Result',\n",
    "    'CURE SPEED Collect Result_Dam',\n",
    "    'DISCHARGED SPEED OF RESIN Collect Result_Dam',\n",
    "    'Head Clean Position Z Collect Result_Dam',\n",
    "    'Stage2_Circle_Distance_Speed_Dam',\n",
    "    'HEAD NORMAL DISTANCE_STAGE1_STAGE3_Dam',\n",
    "    'HEAD NORMAL DISTANCE_TRIANGLE_height_Dam',\n",
    "    'volume_time_multip_avg_Dam',\n",
    "    'average_thickness_Dam',\n",
    "    'time_ratio_Dam',\n",
    "]\n",
    "\n",
    "for column in cat_features_list:\n",
    "    train_data_dam[column] = train_data_dam[column].astype(str)\n",
    "    test_data_dam[column] = test_data_dam[column].astype(str)"
   ]
  },
  {
   "cell_type": "code",
   "execution_count": 148,
   "id": "fceb5f53-4d81-4757-9f90-13f58f5051fd",
   "metadata": {},
   "outputs": [
    {
     "name": "stderr",
     "output_type": "stream",
     "text": [
      "/var/folders/c6/kvlszyfj2q9_tv_8pb0y40qm0000gn/T/ipykernel_54132/2637197477.py:5: SettingWithCopyWarning: \n",
      "A value is trying to be set on a copy of a slice from a DataFrame.\n",
      "Try using .loc[row_indexer,col_indexer] = value instead\n",
      "\n",
      "See the caveats in the documentation: https://pandas.pydata.org/pandas-docs/stable/user_guide/indexing.html#returning-a-view-versus-a-copy\n",
      "  train_data_dam['target'] = train_data_dam['target'].map({'Normal': 0, 'AbNormal': 1})\n"
     ]
    }
   ],
   "source": [
    "# 스레드홀드 설정\n",
    "RANDOM_STATE = 77\n",
    "\n",
    "# 'Normal'과 'AbNormal'을 숫자로 변환\n",
    "train_data_dam['target'] = train_data_dam['target'].map({'Normal': 0, 'AbNormal': 1})\n",
    "\n",
    "def objectiveCatBoost(trial, x_tr, y_tr, x_val, y_val):\n",
    "    param = {\n",
    "        'iterations': trial.suggest_int('iterations', 400, 1800),\n",
    "        'learning_rate': trial.suggest_float('learning_rate', 0.05, 0.4),\n",
    "        'depth': trial.suggest_int('depth', 3, 16),  # 최대 16까지만 가능\n",
    "        'l2_leaf_reg': trial.suggest_float('l2_leaf_reg', 0.05, 5.0, log=True),\n",
    "        'random_strength': trial.suggest_float('random_strength', 0.1, 12.0),\n",
    "        'bagging_temperature': trial.suggest_float('bagging_temperature', 0.1, 12.0),\n",
    "        'border_count': trial.suggest_int('border_count', 60, 280),\n",
    "        'scale_pos_weight': trial.suggest_float('scale_pos_weight', 0.5, 1.5),\n",
    "\n",
    "        'random_seed': RANDOM_STATE,\n",
    "        'eval_metric': 'F1',\n",
    "        'logging_level': 'Silent',\n",
    "        'boosting_type': 'Plain'\n",
    "    }\n",
    "\n",
    "    model = CatBoostClassifier(**param)\n",
    "    model.fit(x_tr, y_tr, cat_features=cat_features_list)\n",
    "    pred_proba = model.predict_proba(x_val)[:, 1]  # 양성 클래스 확률\n",
    "    \n",
    "    # 스레드홀드 없이 예측\n",
    "    pred = (pred_proba > 0.3).astype(int)  # 일반적으로 0.3를 기준으로 예측\n",
    "    \n",
    "    score = f1_score(y_val, pred, average=\"binary\")\n",
    "    \n",
    "    return score"
   ]
  },
  {
   "cell_type": "code",
   "execution_count": 120,
   "id": "98d86584-fc8c-4239-af42-e5ea3c65b8b2",
   "metadata": {},
   "outputs": [],
   "source": [
    "# 클래스 가중치 설정\n",
    "class_weights = {'Normal': 1, 'AbNormal': 5}\n",
    "\n",
    "# 모델 파라미터 설정\n",
    "params = {\n",
    "    'iterations': 845, \n",
    "    'learning_rate': 0.12560723899727444, \n",
    "    'depth': 6, \n",
    "    'l2_leaf_reg': 0.11681629069236026, \n",
    "    'random_strength': 7.382448311645474, \n",
    "    'bagging_temperature': 6.190402604308831, \n",
    "    'border_count': 75, \n",
    "    'scale_pos_weight': 0.7197343250860875,\n",
    "    #'class_weights': class_weights  # 클래스 가중치 추가\n",
    "}\n",
    "\n",
    "# CatBoostClassifier 모델 정의\n",
    "model_Dam = CatBoostClassifier(**params, verbose=False)"
   ]
  },
  {
   "cell_type": "code",
   "execution_count": 149,
   "id": "e518ae7b-59ed-4ff5-8b18-1253f3e14018",
   "metadata": {},
   "outputs": [],
   "source": [
    "# 제출 데이터 읽어오기\n",
    "df_sub = pd.read_csv(\"submission.csv\")"
   ]
  },
  {
   "cell_type": "code",
   "execution_count": 150,
   "id": "4ccd402d-5d08-4485-8d75-fa09b6a02744",
   "metadata": {},
   "outputs": [],
   "source": [
    "from sklearn.model_selection import train_test_split\n",
    "from sklearn.metrics import f1_score\n",
    "\n",
    "# 타깃값과 피쳐 분리\n",
    "y = train_data_dam['target']\n",
    "X = train_data_dam.drop(columns='target')\n",
    "\n",
    "# 학습 데이터와 검증 데이터로 나누기\n",
    "X_train, X_val, y_train, y_val = train_test_split(X, y, test_size=0.2, shuffle=True, random_state=RANDOM_STATE)"
   ]
  },
  {
   "cell_type": "code",
   "execution_count": 151,
   "id": "69ac0760-e6d4-450b-a5b2-da7d8f2c9874",
   "metadata": {},
   "outputs": [],
   "source": [
    "import optuna"
   ]
  },
  {
   "cell_type": "code",
   "execution_count": 152,
   "id": "905826af-d0f1-4679-84e8-5896b58e88e6",
   "metadata": {},
   "outputs": [
    {
     "name": "stderr",
     "output_type": "stream",
     "text": [
      "[I 2024-08-20 15:13:22,109] A new study created in memory with name: no-name-76a3af87-783c-41c1-b2d6-99006e1f4399\n",
      "[I 2024-08-20 15:17:01,280] Trial 0 finished with value: 0.0920863309352518 and parameters: {'iterations': 1687, 'learning_rate': 0.2747684599733494, 'depth': 13, 'l2_leaf_reg': 0.09497277778717464, 'random_strength': 1.1391026210762407, 'bagging_temperature': 9.477224490634253, 'border_count': 132, 'scale_pos_weight': 1.0410678214759677}. Best is trial 0 with value: 0.0920863309352518.\n",
      "[I 2024-08-20 15:17:21,840] Trial 1 finished with value: 0.12522361359570663 and parameters: {'iterations': 736, 'learning_rate': 0.24089802395156673, 'depth': 8, 'l2_leaf_reg': 1.3469571466566936, 'random_strength': 10.056491298866218, 'bagging_temperature': 7.1029255963055276, 'border_count': 125, 'scale_pos_weight': 0.7810176906539642}. Best is trial 1 with value: 0.12522361359570663.\n",
      "[I 2024-08-20 15:17:39,167] Trial 2 finished with value: 0.1142857142857143 and parameters: {'iterations': 1388, 'learning_rate': 0.19790875056641327, 'depth': 3, 'l2_leaf_reg': 1.5596409077314353, 'random_strength': 5.482524855405632, 'bagging_temperature': 2.19171938257276, 'border_count': 70, 'scale_pos_weight': 0.7924753386949548}. Best is trial 1 with value: 0.12522361359570663.\n",
      "[I 2024-08-20 15:17:45,260] Trial 3 finished with value: 0.11382113821138211 and parameters: {'iterations': 493, 'learning_rate': 0.3129047700968936, 'depth': 3, 'l2_leaf_reg': 0.36541522913683505, 'random_strength': 4.433651719971898, 'bagging_temperature': 1.9084611557414748, 'border_count': 180, 'scale_pos_weight': 0.9432930376023336}. Best is trial 1 with value: 0.12522361359570663.\n",
      "[I 2024-08-20 15:17:54,473] Trial 4 finished with value: 0.13793103448275862 and parameters: {'iterations': 450, 'learning_rate': 0.3380126169303269, 'depth': 6, 'l2_leaf_reg': 0.10887807727815124, 'random_strength': 7.768000081059918, 'bagging_temperature': 1.3797388377508515, 'border_count': 138, 'scale_pos_weight': 0.8857036581156064}. Best is trial 4 with value: 0.13793103448275862.\n",
      "[I 2024-08-20 15:20:22,120] Trial 5 finished with value: 0.10818307905686547 and parameters: {'iterations': 1024, 'learning_rate': 0.39196843150186755, 'depth': 13, 'l2_leaf_reg': 0.2105911523270648, 'random_strength': 10.747587347599236, 'bagging_temperature': 9.420955782577234, 'border_count': 117, 'scale_pos_weight': 0.8094831861549427}. Best is trial 4 with value: 0.13793103448275862.\n",
      "[I 2024-08-20 15:31:25,820] Trial 6 finished with value: 0.10043041606886656 and parameters: {'iterations': 581, 'learning_rate': 0.1977599746817575, 'depth': 16, 'l2_leaf_reg': 0.2710539563235089, 'random_strength': 5.273822174926327, 'bagging_temperature': 11.0134132968759, 'border_count': 269, 'scale_pos_weight': 0.754772948088709}. Best is trial 4 with value: 0.13793103448275862.\n",
      "[I 2024-08-20 15:31:46,745] Trial 7 finished with value: 0.1176470588235294 and parameters: {'iterations': 1394, 'learning_rate': 0.06749174169389047, 'depth': 4, 'l2_leaf_reg': 0.5152071607418036, 'random_strength': 7.109957954901102, 'bagging_temperature': 3.9900934430286745, 'border_count': 92, 'scale_pos_weight': 0.7576384903723663}. Best is trial 4 with value: 0.13793103448275862.\n",
      "[I 2024-08-20 15:58:04,983] Trial 8 finished with value: 0.11470588235294116 and parameters: {'iterations': 1601, 'learning_rate': 0.28939081321421994, 'depth': 16, 'l2_leaf_reg': 0.21771148271333618, 'random_strength': 5.495557896828687, 'bagging_temperature': 10.42470391552125, 'border_count': 201, 'scale_pos_weight': 0.8318923019829476}. Best is trial 4 with value: 0.13793103448275862.\n",
      "[I 2024-08-20 16:03:26,652] Trial 9 finished with value: 0.10306406685236769 and parameters: {'iterations': 1159, 'learning_rate': 0.08931333309423907, 'depth': 14, 'l2_leaf_reg': 0.13830354020164026, 'random_strength': 6.22819379049769, 'bagging_temperature': 6.360444438304739, 'border_count': 121, 'scale_pos_weight': 1.40442063166055}. Best is trial 4 with value: 0.13793103448275862.\n",
      "[I 2024-08-20 16:03:48,007] Trial 10 finished with value: 0.11091854419410743 and parameters: {'iterations': 846, 'learning_rate': 0.388350261118654, 'depth': 7, 'l2_leaf_reg': 0.05816260522945875, 'random_strength': 8.545084184577647, 'bagging_temperature': 0.4048120191533473, 'border_count': 248, 'scale_pos_weight': 0.5714726378060644}. Best is trial 4 with value: 0.13793103448275862.\n",
      "[I 2024-08-20 16:04:07,829] Trial 11 finished with value: 0.13689482470784642 and parameters: {'iterations': 689, 'learning_rate': 0.24162920066338034, 'depth': 8, 'l2_leaf_reg': 4.334955748945325, 'random_strength': 11.919315935130614, 'bagging_temperature': 6.688577083252903, 'border_count': 149, 'scale_pos_weight': 1.1569470386527416}. Best is trial 4 with value: 0.13793103448275862.\n",
      "[I 2024-08-20 16:04:16,130] Trial 12 finished with value: 0.1372549019607843 and parameters: {'iterations': 407, 'learning_rate': 0.1543825978254827, 'depth': 6, 'l2_leaf_reg': 2.5793308141216613, 'random_strength': 11.769970055428766, 'bagging_temperature': 4.589779150194611, 'border_count': 165, 'scale_pos_weight': 1.2336648263070014}. Best is trial 4 with value: 0.13793103448275862.\n",
      "[I 2024-08-20 16:04:24,418] Trial 13 finished with value: 0.1312741312741313 and parameters: {'iterations': 417, 'learning_rate': 0.14289588925010932, 'depth': 6, 'l2_leaf_reg': 0.9954275682080134, 'random_strength': 8.868335152682778, 'bagging_temperature': 4.386412512878687, 'border_count': 207, 'scale_pos_weight': 1.2810545308169419}. Best is trial 4 with value: 0.13793103448275862.\n",
      "[I 2024-08-20 16:05:41,759] Trial 14 finished with value: 0.14096916299559473 and parameters: {'iterations': 901, 'learning_rate': 0.14221272597926204, 'depth': 10, 'l2_leaf_reg': 4.8428943569602545, 'random_strength': 3.012778373817184, 'bagging_temperature': 4.233256924277864, 'border_count': 165, 'scale_pos_weight': 1.4649293586631364}. Best is trial 14 with value: 0.14096916299559473.\n",
      "[I 2024-08-20 16:06:47,058] Trial 15 finished with value: 0.10187667560321714 and parameters: {'iterations': 958, 'learning_rate': 0.33016656147717727, 'depth': 11, 'l2_leaf_reg': 0.6104706012770033, 'random_strength': 2.508530618325938, 'bagging_temperature': 0.3230432174625717, 'border_count': 221, 'scale_pos_weight': 1.49805835747282}. Best is trial 14 with value: 0.14096916299559473.\n",
      "[I 2024-08-20 16:08:24,213] Trial 16 finished with value: 0.10204081632653061 and parameters: {'iterations': 1177, 'learning_rate': 0.11713894024084112, 'depth': 11, 'l2_leaf_reg': 0.056321749573306865, 'random_strength': 3.215756192467012, 'bagging_temperature': 2.5290617951342234, 'border_count': 176, 'scale_pos_weight': 0.5020166628303578}. Best is trial 14 with value: 0.14096916299559473.\n",
      "[I 2024-08-20 16:09:21,620] Trial 17 finished with value: 0.12017167381974249 and parameters: {'iterations': 825, 'learning_rate': 0.35091822957988883, 'depth': 10, 'l2_leaf_reg': 4.94479291304589, 'random_strength': 7.439224209748023, 'bagging_temperature': 3.3200959729728603, 'border_count': 93, 'scale_pos_weight': 1.032349807110325}. Best is trial 14 with value: 0.14096916299559473.\n",
      "[I 2024-08-20 16:09:38,575] Trial 18 finished with value: 0.14785992217898833 and parameters: {'iterations': 638, 'learning_rate': 0.17678737802554007, 'depth': 5, 'l2_leaf_reg': 0.774394281049516, 'random_strength': 0.10785795862750192, 'bagging_temperature': 1.4735222430368617, 'border_count': 155, 'scale_pos_weight': 1.127226672836021}. Best is trial 18 with value: 0.14785992217898833.\n",
      "[W 2024-08-20 16:09:45,982] Trial 19 failed with parameters: {'iterations': 626, 'learning_rate': 0.17940861223687604, 'depth': 9, 'l2_leaf_reg': 2.8682601878003267, 'random_strength': 0.2571530165447015, 'bagging_temperature': 5.113621005804806, 'border_count': 159, 'scale_pos_weight': 1.378084654719702} because of the following error: KeyboardInterrupt('').\n",
      "Traceback (most recent call last):\n",
      "  File \"/Users/rynn/anaconda3/lib/python3.11/site-packages/optuna/study/_optimize.py\", line 196, in _run_trial\n",
      "    value_or_values = func(trial)\n",
      "                      ^^^^^^^^^^^\n",
      "  File \"/var/folders/c6/kvlszyfj2q9_tv_8pb0y40qm0000gn/T/ipykernel_54132/40295833.py\", line 3, in <lambda>\n",
      "    study.optimize(lambda trial: objectiveCatBoost(trial, X_train, y_train, X_val, y_val), n_trials=300)\n",
      "                                 ^^^^^^^^^^^^^^^^^^^^^^^^^^^^^^^^^^^^^^^^^^^^^^^^^^^^^^^^\n",
      "  File \"/var/folders/c6/kvlszyfj2q9_tv_8pb0y40qm0000gn/T/ipykernel_54132/2637197477.py\", line 25, in objectiveCatBoost\n",
      "    model.fit(x_tr, y_tr, cat_features=cat_features_list)\n",
      "  File \"/Users/rynn/anaconda3/lib/python3.11/site-packages/catboost/core.py\", line 5220, in fit\n",
      "    self._fit(X, y, cat_features, text_features, embedding_features, None, sample_weight, None, None, None, None, baseline, use_best_model,\n",
      "  File \"/Users/rynn/anaconda3/lib/python3.11/site-packages/catboost/core.py\", line 2400, in _fit\n",
      "    self._train(\n",
      "  File \"/Users/rynn/anaconda3/lib/python3.11/site-packages/catboost/core.py\", line 1780, in _train\n",
      "    self._object._train(train_pool, test_pool, params, allow_clear_pool, init_model._object if init_model else None)\n",
      "  File \"_catboost.pyx\", line 4833, in _catboost._CatBoost._train\n",
      "  File \"_catboost.pyx\", line 4882, in _catboost._CatBoost._train\n",
      "KeyboardInterrupt\n",
      "[W 2024-08-20 16:09:45,985] Trial 19 failed with value None.\n"
     ]
    },
    {
     "ename": "KeyboardInterrupt",
     "evalue": "",
     "output_type": "error",
     "traceback": [
      "\u001b[0;31m---------------------------------------------------------------------------\u001b[0m",
      "\u001b[0;31mKeyboardInterrupt\u001b[0m                         Traceback (most recent call last)",
      "Cell \u001b[0;32mIn[152], line 3\u001b[0m\n\u001b[1;32m      1\u001b[0m \u001b[38;5;66;03m# 하이퍼 파라미터 튜닝\u001b[39;00m\n\u001b[1;32m      2\u001b[0m study \u001b[38;5;241m=\u001b[39m optuna\u001b[38;5;241m.\u001b[39mcreate_study(direction\u001b[38;5;241m=\u001b[39m\u001b[38;5;124m'\u001b[39m\u001b[38;5;124mmaximize\u001b[39m\u001b[38;5;124m'\u001b[39m, sampler\u001b[38;5;241m=\u001b[39moptuna\u001b[38;5;241m.\u001b[39msamplers\u001b[38;5;241m.\u001b[39mTPESampler(seed\u001b[38;5;241m=\u001b[39mRANDOM_STATE))\n\u001b[0;32m----> 3\u001b[0m study\u001b[38;5;241m.\u001b[39moptimize(\u001b[38;5;28;01mlambda\u001b[39;00m trial: objectiveCatBoost(trial, X_train, y_train, X_val, y_val), n_trials\u001b[38;5;241m=\u001b[39m\u001b[38;5;241m300\u001b[39m)\n\u001b[1;32m      5\u001b[0m \u001b[38;5;28mprint\u001b[39m(\u001b[38;5;124m'\u001b[39m\u001b[38;5;124mBest trial: score \u001b[39m\u001b[38;5;132;01m{}\u001b[39;00m\u001b[38;5;124m, \u001b[39m\u001b[38;5;130;01m\\n\u001b[39;00m\u001b[38;5;124mparams \u001b[39m\u001b[38;5;132;01m{}\u001b[39;00m\u001b[38;5;124m'\u001b[39m\u001b[38;5;241m.\u001b[39mformat(study\u001b[38;5;241m.\u001b[39mbest_trial\u001b[38;5;241m.\u001b[39mvalue, study\u001b[38;5;241m.\u001b[39mbest_trial\u001b[38;5;241m.\u001b[39mparams))\n",
      "File \u001b[0;32m~/anaconda3/lib/python3.11/site-packages/optuna/study/study.py:451\u001b[0m, in \u001b[0;36mStudy.optimize\u001b[0;34m(self, func, n_trials, timeout, n_jobs, catch, callbacks, gc_after_trial, show_progress_bar)\u001b[0m\n\u001b[1;32m    348\u001b[0m \u001b[38;5;28;01mdef\u001b[39;00m \u001b[38;5;21moptimize\u001b[39m(\n\u001b[1;32m    349\u001b[0m     \u001b[38;5;28mself\u001b[39m,\n\u001b[1;32m    350\u001b[0m     func: ObjectiveFuncType,\n\u001b[0;32m   (...)\u001b[0m\n\u001b[1;32m    357\u001b[0m     show_progress_bar: \u001b[38;5;28mbool\u001b[39m \u001b[38;5;241m=\u001b[39m \u001b[38;5;28;01mFalse\u001b[39;00m,\n\u001b[1;32m    358\u001b[0m ) \u001b[38;5;241m-\u001b[39m\u001b[38;5;241m>\u001b[39m \u001b[38;5;28;01mNone\u001b[39;00m:\n\u001b[1;32m    359\u001b[0m \u001b[38;5;250m    \u001b[39m\u001b[38;5;124;03m\"\"\"Optimize an objective function.\u001b[39;00m\n\u001b[1;32m    360\u001b[0m \n\u001b[1;32m    361\u001b[0m \u001b[38;5;124;03m    Optimization is done by choosing a suitable set of hyperparameter values from a given\u001b[39;00m\n\u001b[0;32m   (...)\u001b[0m\n\u001b[1;32m    449\u001b[0m \u001b[38;5;124;03m            If nested invocation of this method occurs.\u001b[39;00m\n\u001b[1;32m    450\u001b[0m \u001b[38;5;124;03m    \"\"\"\u001b[39;00m\n\u001b[0;32m--> 451\u001b[0m     _optimize(\n\u001b[1;32m    452\u001b[0m         study\u001b[38;5;241m=\u001b[39m\u001b[38;5;28mself\u001b[39m,\n\u001b[1;32m    453\u001b[0m         func\u001b[38;5;241m=\u001b[39mfunc,\n\u001b[1;32m    454\u001b[0m         n_trials\u001b[38;5;241m=\u001b[39mn_trials,\n\u001b[1;32m    455\u001b[0m         timeout\u001b[38;5;241m=\u001b[39mtimeout,\n\u001b[1;32m    456\u001b[0m         n_jobs\u001b[38;5;241m=\u001b[39mn_jobs,\n\u001b[1;32m    457\u001b[0m         catch\u001b[38;5;241m=\u001b[39m\u001b[38;5;28mtuple\u001b[39m(catch) \u001b[38;5;28;01mif\u001b[39;00m \u001b[38;5;28misinstance\u001b[39m(catch, Iterable) \u001b[38;5;28;01melse\u001b[39;00m (catch,),\n\u001b[1;32m    458\u001b[0m         callbacks\u001b[38;5;241m=\u001b[39mcallbacks,\n\u001b[1;32m    459\u001b[0m         gc_after_trial\u001b[38;5;241m=\u001b[39mgc_after_trial,\n\u001b[1;32m    460\u001b[0m         show_progress_bar\u001b[38;5;241m=\u001b[39mshow_progress_bar,\n\u001b[1;32m    461\u001b[0m     )\n",
      "File \u001b[0;32m~/anaconda3/lib/python3.11/site-packages/optuna/study/_optimize.py:62\u001b[0m, in \u001b[0;36m_optimize\u001b[0;34m(study, func, n_trials, timeout, n_jobs, catch, callbacks, gc_after_trial, show_progress_bar)\u001b[0m\n\u001b[1;32m     60\u001b[0m \u001b[38;5;28;01mtry\u001b[39;00m:\n\u001b[1;32m     61\u001b[0m     \u001b[38;5;28;01mif\u001b[39;00m n_jobs \u001b[38;5;241m==\u001b[39m \u001b[38;5;241m1\u001b[39m:\n\u001b[0;32m---> 62\u001b[0m         _optimize_sequential(\n\u001b[1;32m     63\u001b[0m             study,\n\u001b[1;32m     64\u001b[0m             func,\n\u001b[1;32m     65\u001b[0m             n_trials,\n\u001b[1;32m     66\u001b[0m             timeout,\n\u001b[1;32m     67\u001b[0m             catch,\n\u001b[1;32m     68\u001b[0m             callbacks,\n\u001b[1;32m     69\u001b[0m             gc_after_trial,\n\u001b[1;32m     70\u001b[0m             reseed_sampler_rng\u001b[38;5;241m=\u001b[39m\u001b[38;5;28;01mFalse\u001b[39;00m,\n\u001b[1;32m     71\u001b[0m             time_start\u001b[38;5;241m=\u001b[39m\u001b[38;5;28;01mNone\u001b[39;00m,\n\u001b[1;32m     72\u001b[0m             progress_bar\u001b[38;5;241m=\u001b[39mprogress_bar,\n\u001b[1;32m     73\u001b[0m         )\n\u001b[1;32m     74\u001b[0m     \u001b[38;5;28;01melse\u001b[39;00m:\n\u001b[1;32m     75\u001b[0m         \u001b[38;5;28;01mif\u001b[39;00m n_jobs \u001b[38;5;241m==\u001b[39m \u001b[38;5;241m-\u001b[39m\u001b[38;5;241m1\u001b[39m:\n",
      "File \u001b[0;32m~/anaconda3/lib/python3.11/site-packages/optuna/study/_optimize.py:159\u001b[0m, in \u001b[0;36m_optimize_sequential\u001b[0;34m(study, func, n_trials, timeout, catch, callbacks, gc_after_trial, reseed_sampler_rng, time_start, progress_bar)\u001b[0m\n\u001b[1;32m    156\u001b[0m         \u001b[38;5;28;01mbreak\u001b[39;00m\n\u001b[1;32m    158\u001b[0m \u001b[38;5;28;01mtry\u001b[39;00m:\n\u001b[0;32m--> 159\u001b[0m     frozen_trial \u001b[38;5;241m=\u001b[39m _run_trial(study, func, catch)\n\u001b[1;32m    160\u001b[0m \u001b[38;5;28;01mfinally\u001b[39;00m:\n\u001b[1;32m    161\u001b[0m     \u001b[38;5;66;03m# The following line mitigates memory problems that can be occurred in some\u001b[39;00m\n\u001b[1;32m    162\u001b[0m     \u001b[38;5;66;03m# environments (e.g., services that use computing containers such as GitHub Actions).\u001b[39;00m\n\u001b[1;32m    163\u001b[0m     \u001b[38;5;66;03m# Please refer to the following PR for further details:\u001b[39;00m\n\u001b[1;32m    164\u001b[0m     \u001b[38;5;66;03m# https://github.com/optuna/optuna/pull/325.\u001b[39;00m\n\u001b[1;32m    165\u001b[0m     \u001b[38;5;28;01mif\u001b[39;00m gc_after_trial:\n",
      "File \u001b[0;32m~/anaconda3/lib/python3.11/site-packages/optuna/study/_optimize.py:247\u001b[0m, in \u001b[0;36m_run_trial\u001b[0;34m(study, func, catch)\u001b[0m\n\u001b[1;32m    240\u001b[0m         \u001b[38;5;28;01massert\u001b[39;00m \u001b[38;5;28;01mFalse\u001b[39;00m, \u001b[38;5;124m\"\u001b[39m\u001b[38;5;124mShould not reach.\u001b[39m\u001b[38;5;124m\"\u001b[39m\n\u001b[1;32m    242\u001b[0m \u001b[38;5;28;01mif\u001b[39;00m (\n\u001b[1;32m    243\u001b[0m     frozen_trial\u001b[38;5;241m.\u001b[39mstate \u001b[38;5;241m==\u001b[39m TrialState\u001b[38;5;241m.\u001b[39mFAIL\n\u001b[1;32m    244\u001b[0m     \u001b[38;5;129;01mand\u001b[39;00m func_err \u001b[38;5;129;01mis\u001b[39;00m \u001b[38;5;129;01mnot\u001b[39;00m \u001b[38;5;28;01mNone\u001b[39;00m\n\u001b[1;32m    245\u001b[0m     \u001b[38;5;129;01mand\u001b[39;00m \u001b[38;5;129;01mnot\u001b[39;00m \u001b[38;5;28misinstance\u001b[39m(func_err, catch)\n\u001b[1;32m    246\u001b[0m ):\n\u001b[0;32m--> 247\u001b[0m     \u001b[38;5;28;01mraise\u001b[39;00m func_err\n\u001b[1;32m    248\u001b[0m \u001b[38;5;28;01mreturn\u001b[39;00m frozen_trial\n",
      "File \u001b[0;32m~/anaconda3/lib/python3.11/site-packages/optuna/study/_optimize.py:196\u001b[0m, in \u001b[0;36m_run_trial\u001b[0;34m(study, func, catch)\u001b[0m\n\u001b[1;32m    194\u001b[0m \u001b[38;5;28;01mwith\u001b[39;00m get_heartbeat_thread(trial\u001b[38;5;241m.\u001b[39m_trial_id, study\u001b[38;5;241m.\u001b[39m_storage):\n\u001b[1;32m    195\u001b[0m     \u001b[38;5;28;01mtry\u001b[39;00m:\n\u001b[0;32m--> 196\u001b[0m         value_or_values \u001b[38;5;241m=\u001b[39m func(trial)\n\u001b[1;32m    197\u001b[0m     \u001b[38;5;28;01mexcept\u001b[39;00m exceptions\u001b[38;5;241m.\u001b[39mTrialPruned \u001b[38;5;28;01mas\u001b[39;00m e:\n\u001b[1;32m    198\u001b[0m         \u001b[38;5;66;03m# TODO(mamu): Handle multi-objective cases.\u001b[39;00m\n\u001b[1;32m    199\u001b[0m         state \u001b[38;5;241m=\u001b[39m TrialState\u001b[38;5;241m.\u001b[39mPRUNED\n",
      "Cell \u001b[0;32mIn[152], line 3\u001b[0m, in \u001b[0;36m<lambda>\u001b[0;34m(trial)\u001b[0m\n\u001b[1;32m      1\u001b[0m \u001b[38;5;66;03m# 하이퍼 파라미터 튜닝\u001b[39;00m\n\u001b[1;32m      2\u001b[0m study \u001b[38;5;241m=\u001b[39m optuna\u001b[38;5;241m.\u001b[39mcreate_study(direction\u001b[38;5;241m=\u001b[39m\u001b[38;5;124m'\u001b[39m\u001b[38;5;124mmaximize\u001b[39m\u001b[38;5;124m'\u001b[39m, sampler\u001b[38;5;241m=\u001b[39moptuna\u001b[38;5;241m.\u001b[39msamplers\u001b[38;5;241m.\u001b[39mTPESampler(seed\u001b[38;5;241m=\u001b[39mRANDOM_STATE))\n\u001b[0;32m----> 3\u001b[0m study\u001b[38;5;241m.\u001b[39moptimize(\u001b[38;5;28;01mlambda\u001b[39;00m trial: objectiveCatBoost(trial, X_train, y_train, X_val, y_val), n_trials\u001b[38;5;241m=\u001b[39m\u001b[38;5;241m300\u001b[39m)\n\u001b[1;32m      5\u001b[0m \u001b[38;5;28mprint\u001b[39m(\u001b[38;5;124m'\u001b[39m\u001b[38;5;124mBest trial: score \u001b[39m\u001b[38;5;132;01m{}\u001b[39;00m\u001b[38;5;124m, \u001b[39m\u001b[38;5;130;01m\\n\u001b[39;00m\u001b[38;5;124mparams \u001b[39m\u001b[38;5;132;01m{}\u001b[39;00m\u001b[38;5;124m'\u001b[39m\u001b[38;5;241m.\u001b[39mformat(study\u001b[38;5;241m.\u001b[39mbest_trial\u001b[38;5;241m.\u001b[39mvalue, study\u001b[38;5;241m.\u001b[39mbest_trial\u001b[38;5;241m.\u001b[39mparams))\n",
      "Cell \u001b[0;32mIn[148], line 25\u001b[0m, in \u001b[0;36mobjectiveCatBoost\u001b[0;34m(trial, x_tr, y_tr, x_val, y_val)\u001b[0m\n\u001b[1;32m      8\u001b[0m param \u001b[38;5;241m=\u001b[39m {\n\u001b[1;32m      9\u001b[0m     \u001b[38;5;124m'\u001b[39m\u001b[38;5;124miterations\u001b[39m\u001b[38;5;124m'\u001b[39m: trial\u001b[38;5;241m.\u001b[39msuggest_int(\u001b[38;5;124m'\u001b[39m\u001b[38;5;124miterations\u001b[39m\u001b[38;5;124m'\u001b[39m, \u001b[38;5;241m400\u001b[39m, \u001b[38;5;241m1800\u001b[39m),\n\u001b[1;32m     10\u001b[0m     \u001b[38;5;124m'\u001b[39m\u001b[38;5;124mlearning_rate\u001b[39m\u001b[38;5;124m'\u001b[39m: trial\u001b[38;5;241m.\u001b[39msuggest_float(\u001b[38;5;124m'\u001b[39m\u001b[38;5;124mlearning_rate\u001b[39m\u001b[38;5;124m'\u001b[39m, \u001b[38;5;241m0.05\u001b[39m, \u001b[38;5;241m0.4\u001b[39m),\n\u001b[0;32m   (...)\u001b[0m\n\u001b[1;32m     21\u001b[0m     \u001b[38;5;124m'\u001b[39m\u001b[38;5;124mboosting_type\u001b[39m\u001b[38;5;124m'\u001b[39m: \u001b[38;5;124m'\u001b[39m\u001b[38;5;124mPlain\u001b[39m\u001b[38;5;124m'\u001b[39m\n\u001b[1;32m     22\u001b[0m }\n\u001b[1;32m     24\u001b[0m model \u001b[38;5;241m=\u001b[39m CatBoostClassifier(\u001b[38;5;241m*\u001b[39m\u001b[38;5;241m*\u001b[39mparam)\n\u001b[0;32m---> 25\u001b[0m model\u001b[38;5;241m.\u001b[39mfit(x_tr, y_tr, cat_features\u001b[38;5;241m=\u001b[39mcat_features_list)\n\u001b[1;32m     26\u001b[0m pred_proba \u001b[38;5;241m=\u001b[39m model\u001b[38;5;241m.\u001b[39mpredict_proba(x_val)[:, \u001b[38;5;241m1\u001b[39m]  \u001b[38;5;66;03m# 양성 클래스 확률\u001b[39;00m\n\u001b[1;32m     28\u001b[0m \u001b[38;5;66;03m# 스레드홀드 없이 예측\u001b[39;00m\n",
      "File \u001b[0;32m~/anaconda3/lib/python3.11/site-packages/catboost/core.py:5220\u001b[0m, in \u001b[0;36mCatBoostClassifier.fit\u001b[0;34m(self, X, y, cat_features, text_features, embedding_features, sample_weight, baseline, use_best_model, eval_set, verbose, logging_level, plot, plot_file, column_description, verbose_eval, metric_period, silent, early_stopping_rounds, save_snapshot, snapshot_file, snapshot_interval, init_model, callbacks, log_cout, log_cerr)\u001b[0m\n\u001b[1;32m   5217\u001b[0m \u001b[38;5;28;01mif\u001b[39;00m \u001b[38;5;124m'\u001b[39m\u001b[38;5;124mloss_function\u001b[39m\u001b[38;5;124m'\u001b[39m \u001b[38;5;129;01min\u001b[39;00m params:\n\u001b[1;32m   5218\u001b[0m     CatBoostClassifier\u001b[38;5;241m.\u001b[39m_check_is_compatible_loss(params[\u001b[38;5;124m'\u001b[39m\u001b[38;5;124mloss_function\u001b[39m\u001b[38;5;124m'\u001b[39m])\n\u001b[0;32m-> 5220\u001b[0m \u001b[38;5;28mself\u001b[39m\u001b[38;5;241m.\u001b[39m_fit(X, y, cat_features, text_features, embedding_features, \u001b[38;5;28;01mNone\u001b[39;00m, sample_weight, \u001b[38;5;28;01mNone\u001b[39;00m, \u001b[38;5;28;01mNone\u001b[39;00m, \u001b[38;5;28;01mNone\u001b[39;00m, \u001b[38;5;28;01mNone\u001b[39;00m, baseline, use_best_model,\n\u001b[1;32m   5221\u001b[0m           eval_set, verbose, logging_level, plot, plot_file, column_description, verbose_eval, metric_period,\n\u001b[1;32m   5222\u001b[0m           silent, early_stopping_rounds, save_snapshot, snapshot_file, snapshot_interval, init_model, callbacks, log_cout, log_cerr)\n\u001b[1;32m   5223\u001b[0m \u001b[38;5;28;01mreturn\u001b[39;00m \u001b[38;5;28mself\u001b[39m\n",
      "File \u001b[0;32m~/anaconda3/lib/python3.11/site-packages/catboost/core.py:2400\u001b[0m, in \u001b[0;36mCatBoost._fit\u001b[0;34m(self, X, y, cat_features, text_features, embedding_features, pairs, sample_weight, group_id, group_weight, subgroup_id, pairs_weight, baseline, use_best_model, eval_set, verbose, logging_level, plot, plot_file, column_description, verbose_eval, metric_period, silent, early_stopping_rounds, save_snapshot, snapshot_file, snapshot_interval, init_model, callbacks, log_cout, log_cerr)\u001b[0m\n\u001b[1;32m   2397\u001b[0m allow_clear_pool \u001b[38;5;241m=\u001b[39m train_params[\u001b[38;5;124m\"\u001b[39m\u001b[38;5;124mallow_clear_pool\u001b[39m\u001b[38;5;124m\"\u001b[39m]\n\u001b[1;32m   2399\u001b[0m \u001b[38;5;28;01mwith\u001b[39;00m plot_wrapper(plot, plot_file, \u001b[38;5;124m'\u001b[39m\u001b[38;5;124mTraining plots\u001b[39m\u001b[38;5;124m'\u001b[39m, [_get_train_dir(\u001b[38;5;28mself\u001b[39m\u001b[38;5;241m.\u001b[39mget_params())]):\n\u001b[0;32m-> 2400\u001b[0m     \u001b[38;5;28mself\u001b[39m\u001b[38;5;241m.\u001b[39m_train(\n\u001b[1;32m   2401\u001b[0m         train_pool,\n\u001b[1;32m   2402\u001b[0m         train_params[\u001b[38;5;124m\"\u001b[39m\u001b[38;5;124meval_sets\u001b[39m\u001b[38;5;124m\"\u001b[39m],\n\u001b[1;32m   2403\u001b[0m         params,\n\u001b[1;32m   2404\u001b[0m         allow_clear_pool,\n\u001b[1;32m   2405\u001b[0m         train_params[\u001b[38;5;124m\"\u001b[39m\u001b[38;5;124minit_model\u001b[39m\u001b[38;5;124m\"\u001b[39m]\n\u001b[1;32m   2406\u001b[0m     )\n\u001b[1;32m   2408\u001b[0m \u001b[38;5;66;03m# Have property feature_importance possibly set\u001b[39;00m\n\u001b[1;32m   2409\u001b[0m loss \u001b[38;5;241m=\u001b[39m \u001b[38;5;28mself\u001b[39m\u001b[38;5;241m.\u001b[39m_object\u001b[38;5;241m.\u001b[39m_get_loss_function_name()\n",
      "File \u001b[0;32m~/anaconda3/lib/python3.11/site-packages/catboost/core.py:1780\u001b[0m, in \u001b[0;36m_CatBoostBase._train\u001b[0;34m(self, train_pool, test_pool, params, allow_clear_pool, init_model)\u001b[0m\n\u001b[1;32m   1779\u001b[0m \u001b[38;5;28;01mdef\u001b[39;00m \u001b[38;5;21m_train\u001b[39m(\u001b[38;5;28mself\u001b[39m, train_pool, test_pool, params, allow_clear_pool, init_model):\n\u001b[0;32m-> 1780\u001b[0m     \u001b[38;5;28mself\u001b[39m\u001b[38;5;241m.\u001b[39m_object\u001b[38;5;241m.\u001b[39m_train(train_pool, test_pool, params, allow_clear_pool, init_model\u001b[38;5;241m.\u001b[39m_object \u001b[38;5;28;01mif\u001b[39;00m init_model \u001b[38;5;28;01melse\u001b[39;00m \u001b[38;5;28;01mNone\u001b[39;00m)\n\u001b[1;32m   1781\u001b[0m     \u001b[38;5;28mself\u001b[39m\u001b[38;5;241m.\u001b[39m_set_trained_model_attributes()\n",
      "File \u001b[0;32m_catboost.pyx:4833\u001b[0m, in \u001b[0;36m_catboost._CatBoost._train\u001b[0;34m()\u001b[0m\n",
      "File \u001b[0;32m_catboost.pyx:4882\u001b[0m, in \u001b[0;36m_catboost._CatBoost._train\u001b[0;34m()\u001b[0m\n",
      "\u001b[0;31mKeyboardInterrupt\u001b[0m: "
     ]
    }
   ],
   "source": [
    "# 하이퍼 파라미터 튜닝\n",
    "study = optuna.create_study(direction='maximize', sampler=optuna.samplers.TPESampler(seed=RANDOM_STATE))\n",
    "study.optimize(lambda trial: objectiveCatBoost(trial, X_train, y_train, X_val, y_val), n_trials=300)\n",
    "\n",
    "print('Best trial: score {}, \\nparams {}'.format(study.best_trial.value, study.best_trial.params))"
   ]
  },
  {
   "cell_type": "code",
   "execution_count": 123,
   "id": "f257df88-ef00-40e3-9084-e1cbae486bd6",
   "metadata": {},
   "outputs": [
    {
     "data": {
      "text/plain": [
       "<catboost.core.CatBoostClassifier at 0x2a2c28a50>"
      ]
     },
     "execution_count": 123,
     "metadata": {},
     "output_type": "execute_result"
    }
   ],
   "source": [
    "# 모델 학습\n",
    "model_Dam.fit(X_train, y_train, cat_features=cat_features_list)"
   ]
  },
  {
   "cell_type": "code",
   "execution_count": 124,
   "id": "c4faeacf-f25e-4967-a695-bf1b79ae539b",
   "metadata": {},
   "outputs": [],
   "source": [
    "# 검증 데이터로 예측\n",
    "y_val_pred = model_Dam.predict(X_val)"
   ]
  },
  {
   "cell_type": "code",
   "execution_count": 127,
   "id": "b40d732e-4995-49b8-a6ca-4edb05d02d71",
   "metadata": {},
   "outputs": [
    {
     "name": "stdout",
     "output_type": "stream",
     "text": [
      "F1 Score: 0.12525252525252528\n"
     ]
    }
   ],
   "source": [
    "# F1 스코어 계산\n",
    "f1 = f1_score(y_val, y_val_pred, pos_label='AbNormal', average=\"binary\")  \n",
    "\n",
    "# F1 스코어 출력\n",
    "print(f'F1 Score: {f1}')"
   ]
  },
  {
   "cell_type": "code",
   "execution_count": null,
   "id": "bf1922a2-6d02-424a-99a4-11ef45783635",
   "metadata": {},
   "outputs": [],
   "source": []
  },
  {
   "cell_type": "code",
   "execution_count": null,
   "id": "fc2e36e5-dcd6-4dd0-aca5-2581b1ffdb3d",
   "metadata": {},
   "outputs": [],
   "source": []
  },
  {
   "cell_type": "code",
   "execution_count": null,
   "id": "9bd1d8c0-5e58-413b-bd09-26cf263b42f8",
   "metadata": {},
   "outputs": [],
   "source": [
    "### 모델 학습\n",
    "# 타깃값 분리\n",
    "y_train = train_data_dam['target']\n",
    "x_train = train_data_dam.drop(columns='target')\n",
    "\n",
    "# 범주형 변수 리스트 생성\n",
    "cat_features_list = get_cat_features(train_data_dam)\n",
    "\n",
    "# 랜덤 포레스트 학습\n",
    "model_Dam.fit(x_train, y_train, cat_features=cat_features_list)"
   ]
  },
  {
   "cell_type": "code",
   "execution_count": null,
   "id": "cdc9f41d-835b-46d8-beab-e636ef7b948f",
   "metadata": {},
   "outputs": [],
   "source": [
    "### 모델 예측\n",
    "# 'Set ID'와 'target' 컬럼 분리\n",
    "set_id = test_data_dam['Set ID']  \n",
    "target = test_data_dam['target']   \n",
    "\n",
    "x_test = test_data_dam.drop(columns=['Set ID', 'target'])\n",
    "\n",
    "test_pred = model_Dam.predict(x_test)\n",
    "test_pred"
   ]
  },
  {
   "cell_type": "code",
   "execution_count": null,
   "id": "400eb336-e523-48aa-b521-7118f032b2ee",
   "metadata": {},
   "outputs": [],
   "source": [
    "### 예측 컬럼 생성\n",
    "df_sub[\"target_dam\"] = test_pred\n",
    "df_sub[\"target_dam\"].value_counts()"
   ]
  },
  {
   "cell_type": "code",
   "execution_count": null,
   "id": "9ab11bc5-5113-4331-bf5c-7b451b7fd1e4",
   "metadata": {},
   "outputs": [],
   "source": []
  },
  {
   "cell_type": "code",
   "execution_count": null,
   "id": "86d9715e-b64c-4117-9468-61322cd4d8d5",
   "metadata": {},
   "outputs": [],
   "source": []
  },
  {
   "cell_type": "code",
   "execution_count": null,
   "id": "57685100-c820-4c30-84b7-b2a5a9ce4c1d",
   "metadata": {},
   "outputs": [],
   "source": []
  },
  {
   "cell_type": "code",
   "execution_count": null,
   "id": "491fd32d-d256-4dfd-b893-8807f5df770d",
   "metadata": {},
   "outputs": [],
   "source": []
  },
  {
   "cell_type": "markdown",
   "id": "e877efc6-7851-408a-99b4-a0f8bc9bcad1",
   "metadata": {
    "jp-MarkdownHeadingCollapsed": true
   },
   "source": [
    "### 13. correlation"
   ]
  },
  {
   "cell_type": "code",
   "execution_count": 54,
   "id": "ca33a0a4-7be6-4244-85ad-019d5807eb09",
   "metadata": {},
   "outputs": [],
   "source": [
    "# dam, fill1, fill2 공통 변수\n",
    "var_dam_fill = [\n",
    "    'Equipment_same_num',\n",
    "    'PalletID_Collect_Result_encoded',\n",
    "    'Production_Qty_Collect_Result',\n",
    "    'WorkMode Collect Result'\n",
    "]"
   ]
  },
  {
   "cell_type": "code",
   "execution_count": 55,
   "id": "45924c5c-f6be-4b17-87ff-9c414a6c8323",
   "metadata": {},
   "outputs": [],
   "source": [
    "# 전체 공통 변수\n",
    "### correlation 확인을 위한 변수 리스트\n",
    "var_all_corr = [\n",
    "    'model_receip_encoded',\n",
    "    'workorder_receip_encoded'\n",
    "]\n",
    "\n",
    "### train\n",
    "var_all_train = [\n",
    "    'target',\n",
    "    'model_receip_encoded',\n",
    "    'workorder_receip_encoded'\n",
    "]\n",
    "\n",
    "### test\n",
    "var_all_test = [\n",
    "    'Set ID',\n",
    "    'target',\n",
    "    'model_receip_encoded',\n",
    "    'workorder_receip_encoded'\n",
    "]"
   ]
  },
  {
   "cell_type": "markdown",
   "id": "060b5986-ccde-4df4-bc02-c9812daeaaf4",
   "metadata": {},
   "source": [
    "- dam"
   ]
  },
  {
   "cell_type": "code",
   "execution_count": 56,
   "id": "ccc357da-1f9b-45ca-a63c-66530ad718ed",
   "metadata": {},
   "outputs": [
    {
     "data": {
      "text/plain": [
       "['Equipment_same_num',\n",
       " 'PalletID_Collect_Result_encoded',\n",
       " 'Production_Qty_Collect_Result',\n",
       " 'WorkMode Collect Result',\n",
       " 'model_receip_encoded',\n",
       " 'workorder_receip_encoded',\n",
       " 'CURE SPEED Collect Result_Dam',\n",
       " 'DISCHARGED SPEED OF RESIN Collect Result_Dam',\n",
       " 'Head Clean Position Z Collect Result_Dam',\n",
       " 'Head Purge Position Z Collect Result_Dam',\n",
       " 'Head Zero Position Y Collect Result_Dam',\n",
       " 'Stage1_Circle_Distance_Speed_Dam',\n",
       " 'Stage2_Circle_Distance_Speed_Dam',\n",
       " 'Stage3_Circle_Distance_Speed_Dam',\n",
       " 'CURE_DISTANCE_Dam',\n",
       " 'HEAD NORMAL DISTANCE_STAGE1_STAGE3_Dam',\n",
       " 'HEAD NORMAL DISTANCE_TRIANGLE_area_Dam',\n",
       " 'HEAD NORMAL DISTANCE_TRIANGLE_height_Dam',\n",
       " 'volume_time_multip_avg_Dam',\n",
       " 'average_thickness_Dam',\n",
       " 'time_ratio_Dam',\n",
       " 'stage1_line13_distance_speed_Dam_encoded',\n",
       " 'stage1_line24_distance_speed_Dam_encoded',\n",
       " 'stage2_line13_distance_speed_Dam_encoded',\n",
       " 'stage2_line24_distance_speed_Dam_encoded',\n",
       " 'stage3_line13_distance_speed_Dam_encoded',\n",
       " 'stage3_line24_distance_speed_Dam_encoded']"
      ]
     },
     "execution_count": 56,
     "metadata": {},
     "output_type": "execute_result"
    }
   ],
   "source": [
    "# 상관관계를 확인할 데이터셋\n",
    "combined_variables = var_dam_fill + var_all_corr + [var for var in train_data.columns if '_Dam' in var]\n",
    "combined_variables"
   ]
  },
  {
   "cell_type": "code",
   "execution_count": null,
   "id": "8f3b4213-f3cd-4b1b-a443-33f0ef7c116e",
   "metadata": {},
   "outputs": [],
   "source": [
    "variables = ['Equipment_same_num',   \n",
    " 'PalletID_Collect_Result_encoded',\n",
    " 'Production_Qty_Collect_Result',\n",
    " 'WorkMode Collect Result',\n",
    " 'model_receip_encoded',\n",
    " 'workorder_receip_encoded',\n",
    " 'CURE SPEED Collect Result_Dam',\n",
    " 'DISCHARGED SPEED OF RESIN Collect Result_Dam',\n",
    " 'Head Clean Position Z Collect Result_Dam',\n",
    " 'Head Purge Position Z Collect Result_Dam',\n",
    " 'Head Zero Position Y Collect Result_Dam',\n",
    " #'Stage1_Circle_Distance_Speed_Dam',\n",
    " 'Stage2_Circle_Distance_Speed_Dam',\n",
    " #'Stage3_Circle_Distance_Speed_Dam',\n",
    " 'CURE_DISTANCE_Dam',\n",
    " #'HEAD NORMAL DISTANCE_TRIANGLE_area_Dam',\n",
    " 'HEAD NORMAL DISTANCE_TRIANGLE_height_Dam',\n",
    " 'volume_time_multip_avg_Dam',\n",
    " 'average_thickness_Dam',\n",
    " 'time_ratio_Dam',\n",
    " 'stage1_line13_distance_speed_Dam_encoded',\n",
    " #'stage1_line24_distance_speed_Dam_encoded',\n",
    " #'stage2_line13_distance_speed_Dam_encoded',\n",
    " 'stage2_line24_distance_speed_Dam_encoded',\n",
    " #'stage3_line13_distance_speed_Dam_encoded',\n",
    " #'stage3_line24_distance_speed_Dam_encoded'\n",
    " 'HEAD NORMAL DISTANCE_STAGE1_STAGE3_Dam']\n",
    "\n",
    "# 변수들로만 이루어진 DataFrame 생성\n",
    "filtered_data = train_data[variables]"
   ]
  },
  {
   "cell_type": "code",
   "execution_count": null,
   "id": "191577f3-3bf0-40c3-a84c-17a36794e491",
   "metadata": {},
   "outputs": [],
   "source": [
    "# 자기자신을 제외하고 상관관계 절댓값이 0.9 이상인 조합 찾기\n",
    "correlation_matrix = filtered_data.corr()\n",
    "strong_correlations = correlation_matrix[(correlation_matrix.abs() >= 0.9) & (correlation_matrix != 1)]\n",
    "\n",
    "# 리스트로 변환\n",
    "strong_correlations_pairs = strong_correlations.stack().reset_index()\n",
    "strong_correlations_pairs.columns = ['Variable 1', 'Variable 2', 'Correlation']\n",
    "\n",
    "# 결과 출력\n",
    "print(strong_correlations_pairs)"
   ]
  },
  {
   "cell_type": "code",
   "execution_count": null,
   "id": "e46e96d2-e4ce-4700-accf-ee19b5c8a01e",
   "metadata": {},
   "outputs": [],
   "source": [
    "# 드랍할 열 목록\n",
    "columns_to_drop = [\n",
    "    'Stage1_Circle_Distance_Speed_Dam',\n",
    "    'Stage3_Circle_Distance_Speed_Dam',\n",
    "    'HEAD NORMAL DISTANCE_TRIANGLE_area_Dam',\n",
    "    'stage1_line24_distance_speed_Dam_encoded',\n",
    "    'stage2_line13_distance_speed_Dam_encoded',\n",
    "    'stage3_line13_distance_speed_Dam_encoded',\n",
    "    'stage3_line24_distance_speed_Dam_encoded'\n",
    "]\n",
    "\n",
    "# 열 삭제\n",
    "train_data.drop(columns=columns_to_drop, inplace=True, errors='ignore')\n",
    "test_data.drop(columns=columns_to_drop, inplace=True, errors='ignore')"
   ]
  },
  {
   "cell_type": "code",
   "execution_count": null,
   "id": "546c8eb3-b124-4668-a421-3d80a4614070",
   "metadata": {},
   "outputs": [],
   "source": [
    "# '_Dam'을 포함하는 변수 선택\n",
    "dam_variables = [var for var in train_data.columns if '_Dam' in var]\n",
    "\n",
    "# train\n",
    "final_columns_train = var_dam_fill + var_all_train + dam_variables\n",
    "train_data_dam = train_data[final_columns_train]\n",
    "\n",
    "# test \n",
    "final_columns_test = var_dam_fill + var_all_test + dam_variables\n",
    "test_data_dam = test_data[final_columns_test]"
   ]
  },
  {
   "cell_type": "code",
   "execution_count": null,
   "id": "06ebb3fc-5dca-467b-a339-10dc195f6fd4",
   "metadata": {},
   "outputs": [],
   "source": [
    "train_data_dam.info()"
   ]
  },
  {
   "cell_type": "code",
   "execution_count": null,
   "id": "55af86b5-3648-403e-a628-5f9338d2b558",
   "metadata": {},
   "outputs": [],
   "source": [
    "test_data_dam.info()"
   ]
  },
  {
   "cell_type": "markdown",
   "id": "55b7ec95-7c4b-4dd3-a4ee-071014866652",
   "metadata": {},
   "source": [
    "- fill1"
   ]
  },
  {
   "cell_type": "code",
   "execution_count": null,
   "id": "954ac003-7985-46ce-bfda-ab7faf341348",
   "metadata": {},
   "outputs": [],
   "source": [
    "# 상관관계를 확인할 데이터셋\n",
    "combined_variables = var_dam_fill + var_all_corr + [var for var in train_data.columns if '_Fill1' in var]\n",
    "combined_variables"
   ]
  },
  {
   "cell_type": "code",
   "execution_count": null,
   "id": "12fb0b0a-ebf3-42a5-9d69-8032db061a59",
   "metadata": {},
   "outputs": [],
   "source": [
    "variables = ['Equipment_same_num',\n",
    " 'PalletID_Collect_Result_encoded',\n",
    " 'Production_Qty_Collect_Result',\n",
    " 'WorkMode Collect Result',\n",
    " 'model_receip_encoded',\n",
    " 'workorder_receip_encoded',\n",
    " 'DISCHARGED SPEED OF RESIN Collect Result_Fill1',\n",
    " 'Head Purge Position Z Collect Result_Fill1',\n",
    " 'HEAD NORMAL DISTANCE_STAGE1_STAGE3_Fill1',\n",
    " #'HEAD NORMAL DISTANCE_TRIANGLE_area_Fill1',\n",
    " 'HEAD NORMAL DISTANCE_TRIANGLE_height_Fill1',\n",
    " 'volume_time_multip_avg_Fill1',\n",
    " 'time_ratio_Fill1']\n",
    "\n",
    "# 변수들로만 이루어진 DataFrame 생성\n",
    "filtered_data = train_data[variables]"
   ]
  },
  {
   "cell_type": "code",
   "execution_count": null,
   "id": "99c6f69f-b57e-4c54-a42b-7f81a9fb3e57",
   "metadata": {},
   "outputs": [],
   "source": [
    "# 자기자신을 제외하고 상관관계 절댓값이 0.9 이상인 조합 찾기\n",
    "correlation_matrix = filtered_data.corr()\n",
    "strong_correlations = correlation_matrix[(correlation_matrix.abs() >= 0.9) & (correlation_matrix != 1)]\n",
    "\n",
    "# 리스트로 변환\n",
    "strong_correlations_pairs = strong_correlations.stack().reset_index()\n",
    "strong_correlations_pairs.columns = ['Variable 1', 'Variable 2', 'Correlation']\n",
    "\n",
    "# 결과 출력\n",
    "print(strong_correlations_pairs)"
   ]
  },
  {
   "cell_type": "code",
   "execution_count": null,
   "id": "d308bfe8-5f8d-4943-b8b7-2476ac8977d8",
   "metadata": {},
   "outputs": [],
   "source": [
    "# 드랍할 열 목록\n",
    "columns_to_drop = ['HEAD NORMAL DISTANCE_TRIANGLE_area_Fill1']\n",
    "\n",
    "# 열 삭제\n",
    "train_data.drop(columns=columns_to_drop, inplace=True, errors='ignore')\n",
    "test_data.drop(columns=columns_to_drop, inplace=True, errors='ignore')"
   ]
  },
  {
   "cell_type": "code",
   "execution_count": null,
   "id": "10e0b1bb-f000-49c2-8432-d595149766a3",
   "metadata": {},
   "outputs": [],
   "source": [
    "# '_Fill1'을 포함하는 변수 선택\n",
    "fill1_variables = [var for var in train_data.columns if '_Fill1' in var]\n",
    "\n",
    "# train\n",
    "final_columns_train = var_dam_fill + var_all_train + fill1_variables\n",
    "train_data_fill1 = train_data[final_columns_train]\n",
    "\n",
    "# test \n",
    "final_columns_test = var_dam_fill + var_all_test + fill1_variables\n",
    "test_data_fill1 = test_data[final_columns_test]"
   ]
  },
  {
   "cell_type": "code",
   "execution_count": null,
   "id": "fface952-5ca0-4d5b-9184-71de30e02084",
   "metadata": {},
   "outputs": [],
   "source": [
    "train_data_fill1.info()"
   ]
  },
  {
   "cell_type": "code",
   "execution_count": null,
   "id": "55dedb1b-a829-4dc4-aaf7-960a5e66725d",
   "metadata": {},
   "outputs": [],
   "source": [
    "test_data_fill1.info()"
   ]
  },
  {
   "cell_type": "markdown",
   "id": "5db9feaf-2d9e-48e6-ac73-0b2643b5f1ad",
   "metadata": {},
   "source": [
    "- fill2"
   ]
  },
  {
   "cell_type": "code",
   "execution_count": null,
   "id": "24b711c3-9126-4c06-bf22-a2d9a6c6f4a6",
   "metadata": {},
   "outputs": [],
   "source": [
    "# 상관관계를 확인할 데이터셋\n",
    "combined_variables = var_dam_fill + var_all_corr + [var for var in train_data.columns if '_Fill2' in var]\n",
    "combined_variables"
   ]
  },
  {
   "cell_type": "code",
   "execution_count": null,
   "id": "724c38f3-162a-40b8-9d89-16e60a4352a9",
   "metadata": {},
   "outputs": [],
   "source": [
    "variables = ['Equipment_same_num',\n",
    " 'PalletID_Collect_Result_encoded',\n",
    " 'Production_Qty_Collect_Result',\n",
    " 'WorkMode Collect Result',\n",
    " 'model_receip_encoded',\n",
    " 'workorder_receip_encoded',\n",
    " 'CURE SPEED Collect Result_Fill2',\n",
    " 'Head Purge Position Z Collect Result_Fill2',\n",
    " 'HEAD NORMAL DISTANCE_STAGE1_STAGE2_Fill2',\n",
    " #'HEAD NORMAL DISTANCE_STAGE2_STAGE3_Fill2',\n",
    " #'HEAD NORMAL DISTANCE_STAGE1_STAGE3_Fill2',\n",
    " 'time_ratio_Fill2',\n",
    " 'cure_end_position_XZ_Fill2_encoded',\n",
    " 'cure_start_position_XZ_Fill2_encoded']\n",
    " #'cure_standby_position_XZ_Fill2_encoded']\n",
    "\n",
    "# 변수들로만 이루어진 DataFrame 생성\n",
    "filtered_data = train_data[variables]"
   ]
  },
  {
   "cell_type": "code",
   "execution_count": null,
   "id": "d073348d-b1f7-4c87-b50b-29c2f134ac3e",
   "metadata": {},
   "outputs": [],
   "source": [
    "# 자기자신을 제외하고 상관관계 절댓값이 0.9 이상인 조합 찾기\n",
    "correlation_matrix = filtered_data.corr()\n",
    "strong_correlations = correlation_matrix[(correlation_matrix.abs() >= 0.9) & (correlation_matrix != 1)]\n",
    "\n",
    "# 리스트로 변환\n",
    "strong_correlations_pairs = strong_correlations.stack().reset_index()\n",
    "strong_correlations_pairs.columns = ['Variable 1', 'Variable 2', 'Correlation']\n",
    "\n",
    "# 결과 출력\n",
    "print(strong_correlations_pairs)"
   ]
  },
  {
   "cell_type": "code",
   "execution_count": null,
   "id": "fa5ccf89-2670-4213-a96e-8df0f8696147",
   "metadata": {},
   "outputs": [],
   "source": [
    "# 드랍할 열 목록\n",
    "columns_to_drop = [\n",
    "    'HEAD NORMAL DISTANCE_STAGE2_STAGE3_Fill2',\n",
    "    'HEAD NORMAL DISTANCE_STAGE1_STAGE3_Fill2',\n",
    "    'cure_standby_position_XZ_Fill2_encoded'\n",
    "]\n",
    "\n",
    "# 열 삭제\n",
    "train_data.drop(columns=columns_to_drop, inplace=True, errors='ignore')\n",
    "test_data.drop(columns=columns_to_drop, inplace=True, errors='ignore')"
   ]
  },
  {
   "cell_type": "code",
   "execution_count": null,
   "id": "52952fee-4bfa-4e5a-a2af-c78c32ccd01d",
   "metadata": {},
   "outputs": [],
   "source": [
    "# '_Fill2'을 포함하는 변수 선택\n",
    "fill2_variables = [var for var in train_data.columns if '_Fill2' in var]\n",
    "\n",
    "# train\n",
    "final_columns_train = var_dam_fill + var_all_train + fill2_variables\n",
    "train_data_fill2 = train_data[final_columns_train]\n",
    "\n",
    "# test \n",
    "final_columns_test = var_dam_fill + var_all_test + fill2_variables\n",
    "test_data_fill2 = test_data[final_columns_test]"
   ]
  },
  {
   "cell_type": "code",
   "execution_count": null,
   "id": "e7764523-db87-4736-b96c-cbab7cce7e70",
   "metadata": {},
   "outputs": [],
   "source": [
    "train_data_fill2.info()"
   ]
  },
  {
   "cell_type": "code",
   "execution_count": null,
   "id": "7513b854-2823-4494-a669-fa552fdfe5fa",
   "metadata": {},
   "outputs": [],
   "source": [
    "test_data_fill2.info()"
   ]
  },
  {
   "cell_type": "markdown",
   "id": "b8510d04-48c5-42c2-9a0c-10532decda68",
   "metadata": {},
   "source": [
    "- autoclave"
   ]
  },
  {
   "cell_type": "code",
   "execution_count": null,
   "id": "d43c5ca3-0bff-4ee1-b35d-488abb63f881",
   "metadata": {},
   "outputs": [],
   "source": [
    "# 상관관계를 확인할 데이터셋\n",
    "combined_variables = var_all_corr + [var for var in train_data.columns if '_AutoClave' in var]\n",
    "combined_variables"
   ]
  },
  {
   "cell_type": "code",
   "execution_count": null,
   "id": "a2bc07fd-d3f7-4fae-9794-6851cad4d945",
   "metadata": {},
   "outputs": [],
   "source": [
    "variables = ['model_receip_encoded',\n",
    " 'workorder_receip_encoded',\n",
    " 'Chamber Temp. Collect Result_AutoClave',\n",
    " '1st_pressure_time_AutoClave',\n",
    " '2nd_pressure_time_AutoClave',\n",
    " '3rd_pressure_time_AutoClave',\n",
    " #'avg_pressure_time_AutoClave',\n",
    " 'time_ratio_AutoClave']\n",
    "\n",
    "# 변수들로만 이루어진 DataFrame 생성\n",
    "filtered_data = train_data[variables]"
   ]
  },
  {
   "cell_type": "code",
   "execution_count": null,
   "id": "54d4680e-9f74-40dc-b876-5c5cd3f275cd",
   "metadata": {},
   "outputs": [],
   "source": [
    "# 자기자신을 제외하고 상관관계 절댓값이 0.9 이상인 조합 찾기\n",
    "correlation_matrix = filtered_data.corr()\n",
    "strong_correlations = correlation_matrix[(correlation_matrix.abs() >= 0.9) & (correlation_matrix != 1)]\n",
    "\n",
    "# 리스트로 변환\n",
    "strong_correlations_pairs = strong_correlations.stack().reset_index()\n",
    "strong_correlations_pairs.columns = ['Variable 1', 'Variable 2', 'Correlation']\n",
    "\n",
    "# 결과 출력\n",
    "print(strong_correlations_pairs)"
   ]
  },
  {
   "cell_type": "code",
   "execution_count": null,
   "id": "1bacd287-b6e1-445a-9aee-91a671ff689f",
   "metadata": {},
   "outputs": [],
   "source": [
    "# 드랍할 열 목록\n",
    "columns_to_drop = ['avg_pressure_time_AutoClave']\n",
    "\n",
    "# 열 삭제\n",
    "train_data.drop(columns=columns_to_drop, inplace=True, errors='ignore')\n",
    "test_data.drop(columns=columns_to_drop, inplace=True, errors='ignore')"
   ]
  },
  {
   "cell_type": "code",
   "execution_count": null,
   "id": "1eaf9215-077b-48c3-960b-e529c7d4fc5d",
   "metadata": {},
   "outputs": [],
   "source": [
    "# '_AutoClave'을 포함하는 변수 선택\n",
    "autoclave_variables = [var for var in train_data.columns if '_AutoClave' in var]\n",
    "\n",
    "# train\n",
    "final_columns_train = var_all_train + autoclave_variables\n",
    "train_data_autoclave = train_data[final_columns_train]\n",
    "\n",
    "# test \n",
    "final_columns_test = var_all_test + autoclave_variables\n",
    "test_data_autoclave = test_data[final_columns_test]"
   ]
  },
  {
   "cell_type": "code",
   "execution_count": null,
   "id": "4c87f106-0c6f-4ef8-a0d2-66b248bc6558",
   "metadata": {},
   "outputs": [],
   "source": [
    "train_data_autoclave.info()"
   ]
  },
  {
   "cell_type": "code",
   "execution_count": 83,
   "id": "dda67180-a829-40cf-8eb8-ed5300d19730",
   "metadata": {},
   "outputs": [
    {
     "name": "stdout",
     "output_type": "stream",
     "text": [
      "<class 'pandas.core.frame.DataFrame'>\n",
      "RangeIndex: 17361 entries, 0 to 17360\n",
      "Data columns (total 9 columns):\n",
      " #   Column                                  Non-Null Count  Dtype  \n",
      "---  ------                                  --------------  -----  \n",
      " 0   Set ID                                  17361 non-null  object \n",
      " 1   target                                  0 non-null      float64\n",
      " 2   model_receip_encoded                    17361 non-null  float64\n",
      " 3   workorder_receip_encoded                17359 non-null  float64\n",
      " 4   Chamber Temp. Collect Result_AutoClave  17361 non-null  int64  \n",
      " 5   1st_pressure_time_AutoClave             17361 non-null  float64\n",
      " 6   2nd_pressure_time_AutoClave             17361 non-null  float64\n",
      " 7   3rd_pressure_time_AutoClave             17361 non-null  float64\n",
      " 8   time_ratio_AutoClave                    17361 non-null  float64\n",
      "dtypes: float64(7), int64(1), object(1)\n",
      "memory usage: 1.2+ MB\n"
     ]
    }
   ],
   "source": [
    "test_data_autoclave.info()"
   ]
  },
  {
   "cell_type": "code",
   "execution_count": null,
   "id": "2ba56836-3c51-4db5-88a6-f40690691927",
   "metadata": {},
   "outputs": [],
   "source": []
  },
  {
   "cell_type": "code",
   "execution_count": null,
   "id": "324cc67b-8aaa-467b-8e07-699d83b09730",
   "metadata": {},
   "outputs": [],
   "source": []
  }
 ],
 "metadata": {
  "kernelspec": {
   "display_name": "Python 3 (ipykernel)",
   "language": "python",
   "name": "python3"
  },
  "language_info": {
   "codemirror_mode": {
    "name": "ipython",
    "version": 3
   },
   "file_extension": ".py",
   "mimetype": "text/x-python",
   "name": "python",
   "nbconvert_exporter": "python",
   "pygments_lexer": "ipython3",
   "version": "3.11.5"
  }
 },
 "nbformat": 4,
 "nbformat_minor": 5
}

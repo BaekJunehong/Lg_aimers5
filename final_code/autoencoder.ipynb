{
 "cells": [
  {
   "cell_type": "code",
   "execution_count": 260,
   "id": "2f79807b-d531-4821-abd0-25c4a62a3bec",
   "metadata": {},
   "outputs": [],
   "source": [
    "#!/usr/bin/env python\n",
    "# coding: utf-8\n",
    "\n",
    "import os\n",
    "import sys\n",
    "sys.path.append('./')\n",
    "sys.path.append('../')\n",
    "\n",
    "import torch\n",
    "import torchvision\n",
    "import torch.nn.functional as F\n",
    "from torchvision import transforms, datasets\n",
    "from torch import nn, optim\n",
    "import matplotlib.pyplot as plt\n",
    "import numpy as np\n",
    "from mpl_toolkits.mplot3d import Axes3D\n",
    "from matplotlib import cm\n",
    "import pandas as pd\n",
    "from torch.utils.data import Dataset\n",
    "from torch.utils.data import DataLoader\n",
    "from sklearn.model_selection import train_test_split\n",
    "from torch.utils.data import TensorDataset"
   ]
  },
  {
   "cell_type": "code",
   "execution_count": 261,
   "id": "86f0434a-763e-4aca-b2a9-5a042f4987e6",
   "metadata": {},
   "outputs": [],
   "source": [
    "EPOCH = 100\n",
    "BATCH_SIZE = 64\n",
    "DEVICE = torch.device(\"cpu\")"
   ]
  },
  {
   "cell_type": "code",
   "execution_count": 262,
   "id": "56ea89d9-2053-499e-aab1-ba01c32a10c3",
   "metadata": {},
   "outputs": [],
   "source": [
    "ROOT_DIR = '.' if os.path.exists('config') else '..' \n",
    "train_csv = os.path.join(ROOT_DIR, 'dataset', 'train_data_model_AJX75334501_target_Normal.csv')\n",
    "test_csv = os.path.join(ROOT_DIR, 'dataset', 'train_data_model_AJX75334501_target_AbNormal.csv')\n",
    "\n",
    "train_df = pd.read_csv(train_csv)\n",
    "test_df = pd.read_csv(test_csv)"
   ]
  },
  {
   "cell_type": "code",
   "execution_count": 263,
   "id": "04dd1616-c11b-45b4-9023-2711820d7e4f",
   "metadata": {},
   "outputs": [],
   "source": [
    "# df_combined = pd.concat([train_df, test_df], axis=0)"
   ]
  },
  {
   "cell_type": "markdown",
   "id": "daacc7c7-d21b-4669-9c04-216a2612bec8",
   "metadata": {},
   "source": [
    "Receip_No\n",
    "PalletID_Collect_Result\n",
    "Production_Qty_Collect_Result"
   ]
  },
  {
   "cell_type": "code",
   "execution_count": 264,
   "id": "1e94fa62-a2dd-48b3-8a6d-97fa1cf86891",
   "metadata": {},
   "outputs": [],
   "source": [
    "# train_df['Receip_No'].value_counts()"
   ]
  },
  {
   "cell_type": "code",
   "execution_count": 265,
   "id": "4daed5a2-07fe-4da2-9a28-9619823328d5",
   "metadata": {},
   "outputs": [],
   "source": [
    "# test_df['Receip_No'].value_counts()"
   ]
  },
  {
   "cell_type": "code",
   "execution_count": 266,
   "id": "f343fbe3-7642-4d0f-9241-5e4fbe4a4baa",
   "metadata": {},
   "outputs": [],
   "source": [
    "test_df = test_df[test_df['Receip_No'] != 'diff']"
   ]
  },
  {
   "cell_type": "code",
   "execution_count": 267,
   "id": "8ee9637f-dc3e-49d9-8696-dc45efe9ad2b",
   "metadata": {},
   "outputs": [],
   "source": [
    "# train_df['PalletID_Collect_Result'].value_counts()"
   ]
  },
  {
   "cell_type": "code",
   "execution_count": 268,
   "id": "26ec4f00-6f97-4170-8b62-ae54b962752d",
   "metadata": {},
   "outputs": [],
   "source": [
    "# test_df['PalletID_Collect_Result'].value_counts()"
   ]
  },
  {
   "cell_type": "code",
   "execution_count": 269,
   "id": "fb2a9f53-3876-4bf6-bdb3-0da86d335eb7",
   "metadata": {},
   "outputs": [],
   "source": [
    "test_df['PalletID_Collect_Result'] = test_df['PalletID_Collect_Result'].replace('diff', 17)"
   ]
  },
  {
   "cell_type": "code",
   "execution_count": 270,
   "id": "fef40a16-269c-49b6-9f62-53b21d012a40",
   "metadata": {},
   "outputs": [],
   "source": [
    "# train_df['Production_Qty_Collect_Result'].value_counts()"
   ]
  },
  {
   "cell_type": "code",
   "execution_count": 271,
   "id": "0b3336ad-00df-421c-8eb6-c83ca3cc8c1b",
   "metadata": {},
   "outputs": [],
   "source": [
    "# test_df['Production_Qty_Collect_Result'].value_counts()"
   ]
  },
  {
   "cell_type": "code",
   "execution_count": 272,
   "id": "8099179f-7318-414b-bb6c-9745a80bbb54",
   "metadata": {},
   "outputs": [],
   "source": [
    "test_df = test_df[test_df['Production_Qty_Collect_Result'] != 'diff']"
   ]
  },
  {
   "cell_type": "code",
   "execution_count": 273,
   "id": "bd7a8b39-7063-492e-8322-7f6ab1d8988c",
   "metadata": {},
   "outputs": [],
   "source": [
    "train_df = train_df.drop(columns=['model_suffix'])\n",
    "test_df = test_df.drop(columns=['model_suffix'])"
   ]
  },
  {
   "cell_type": "code",
   "execution_count": 274,
   "id": "c28536fb-37c9-4086-ad7e-fd19e02b5dfe",
   "metadata": {},
   "outputs": [],
   "source": [
    "train_df = train_df.drop(columns=['target'])\n",
    "test_df = test_df.drop(columns=['target'])"
   ]
  },
  {
   "cell_type": "code",
   "execution_count": 275,
   "id": "70da826f-222e-4a7e-b6ab-7ac87b7eca35",
   "metadata": {},
   "outputs": [
    {
     "data": {
      "text/html": [
       "<div>\n",
       "<style scoped>\n",
       "    .dataframe tbody tr th:only-of-type {\n",
       "        vertical-align: middle;\n",
       "    }\n",
       "\n",
       "    .dataframe tbody tr th {\n",
       "        vertical-align: top;\n",
       "    }\n",
       "\n",
       "    .dataframe thead th {\n",
       "        text-align: right;\n",
       "    }\n",
       "</style>\n",
       "<table border=\"1\" class=\"dataframe\">\n",
       "  <thead>\n",
       "    <tr style=\"text-align: right;\">\n",
       "      <th></th>\n",
       "      <th>CURE SPEED Collect Result_Dam</th>\n",
       "      <th>DISCHARGED SPEED OF RESIN Collect Result_Dam</th>\n",
       "      <th>Head Clean Position Z Collect Result_Dam</th>\n",
       "      <th>Head Purge Position Z Collect Result_Dam</th>\n",
       "      <th>Head Zero Position Y Collect Result_Dam</th>\n",
       "      <th>Stage1_Circle_Distance_Speed_Dam</th>\n",
       "      <th>Stage2_Circle_Distance_Speed_Dam</th>\n",
       "      <th>Stage3_Circle_Distance_Speed_Dam</th>\n",
       "      <th>WorkMode Collect Result</th>\n",
       "      <th>Chamber Temp. Collect Result_AutoClave</th>\n",
       "      <th>...</th>\n",
       "      <th>stage3_line24_distance_speed_Dam</th>\n",
       "      <th>average_thickness_Dam</th>\n",
       "      <th>1st_pressure_time_AutoClave</th>\n",
       "      <th>2nd_pressure_time_AutoClave</th>\n",
       "      <th>3rd_pressure_time_AutoClave</th>\n",
       "      <th>avg_pressure_time_AutoClave</th>\n",
       "      <th>time_ratio_Dam</th>\n",
       "      <th>time_ratio_Fill1</th>\n",
       "      <th>time_ratio_Fill2</th>\n",
       "      <th>time_ratio_AutoClave</th>\n",
       "    </tr>\n",
       "  </thead>\n",
       "  <tbody>\n",
       "    <tr>\n",
       "      <th>0</th>\n",
       "      <td>85</td>\n",
       "      <td>16</td>\n",
       "      <td>124.00</td>\n",
       "      <td>130.85</td>\n",
       "      <td>300.0</td>\n",
       "      <td>5800</td>\n",
       "      <td>5300</td>\n",
       "      <td>5800</td>\n",
       "      <td>0.0</td>\n",
       "      <td>56</td>\n",
       "      <td>...</td>\n",
       "      <td>5800</td>\n",
       "      <td>-0.002333</td>\n",
       "      <td>75.915</td>\n",
       "      <td>0.490</td>\n",
       "      <td>60.258</td>\n",
       "      <td>45.554333</td>\n",
       "      <td>0.148</td>\n",
       "      <td>0.113</td>\n",
       "      <td>0.038</td>\n",
       "      <td>0.700</td>\n",
       "    </tr>\n",
       "    <tr>\n",
       "      <th>1</th>\n",
       "      <td>70</td>\n",
       "      <td>10</td>\n",
       "      <td>130.85</td>\n",
       "      <td>130.85</td>\n",
       "      <td>300.0</td>\n",
       "      <td>4000</td>\n",
       "      <td>5000</td>\n",
       "      <td>4000</td>\n",
       "      <td>1.0</td>\n",
       "      <td>54</td>\n",
       "      <td>...</td>\n",
       "      <td>4000</td>\n",
       "      <td>0.000000</td>\n",
       "      <td>72.059</td>\n",
       "      <td>36.300</td>\n",
       "      <td>60.500</td>\n",
       "      <td>56.286333</td>\n",
       "      <td>0.112</td>\n",
       "      <td>0.091</td>\n",
       "      <td>0.032</td>\n",
       "      <td>0.765</td>\n",
       "    </tr>\n",
       "    <tr>\n",
       "      <th>2</th>\n",
       "      <td>70</td>\n",
       "      <td>10</td>\n",
       "      <td>133.50</td>\n",
       "      <td>133.50</td>\n",
       "      <td>300.0</td>\n",
       "      <td>9000</td>\n",
       "      <td>9000</td>\n",
       "      <td>9000</td>\n",
       "      <td>1.0</td>\n",
       "      <td>47</td>\n",
       "      <td>...</td>\n",
       "      <td>9000</td>\n",
       "      <td>0.000000</td>\n",
       "      <td>72.480</td>\n",
       "      <td>36.240</td>\n",
       "      <td>59.760</td>\n",
       "      <td>56.160000</td>\n",
       "      <td>0.130</td>\n",
       "      <td>0.133</td>\n",
       "      <td>0.029</td>\n",
       "      <td>0.708</td>\n",
       "    </tr>\n",
       "    <tr>\n",
       "      <th>3</th>\n",
       "      <td>70</td>\n",
       "      <td>10</td>\n",
       "      <td>133.50</td>\n",
       "      <td>133.50</td>\n",
       "      <td>303.5</td>\n",
       "      <td>9000</td>\n",
       "      <td>9000</td>\n",
       "      <td>9000</td>\n",
       "      <td>1.0</td>\n",
       "      <td>54</td>\n",
       "      <td>...</td>\n",
       "      <td>9000</td>\n",
       "      <td>0.000000</td>\n",
       "      <td>75.840</td>\n",
       "      <td>60.120</td>\n",
       "      <td>60.120</td>\n",
       "      <td>65.360000</td>\n",
       "      <td>0.137</td>\n",
       "      <td>0.134</td>\n",
       "      <td>0.028</td>\n",
       "      <td>0.702</td>\n",
       "    </tr>\n",
       "    <tr>\n",
       "      <th>4</th>\n",
       "      <td>70</td>\n",
       "      <td>16</td>\n",
       "      <td>130.85</td>\n",
       "      <td>130.85</td>\n",
       "      <td>300.0</td>\n",
       "      <td>6500</td>\n",
       "      <td>6500</td>\n",
       "      <td>6500</td>\n",
       "      <td>0.0</td>\n",
       "      <td>54</td>\n",
       "      <td>...</td>\n",
       "      <td>6500</td>\n",
       "      <td>0.000000</td>\n",
       "      <td>75.915</td>\n",
       "      <td>0.493</td>\n",
       "      <td>60.258</td>\n",
       "      <td>45.555333</td>\n",
       "      <td>0.109</td>\n",
       "      <td>0.108</td>\n",
       "      <td>0.040</td>\n",
       "      <td>0.743</td>\n",
       "    </tr>\n",
       "  </tbody>\n",
       "</table>\n",
       "<p>5 rows × 55 columns</p>\n",
       "</div>"
      ],
      "text/plain": [
       "   CURE SPEED Collect Result_Dam  \\\n",
       "0                             85   \n",
       "1                             70   \n",
       "2                             70   \n",
       "3                             70   \n",
       "4                             70   \n",
       "\n",
       "   DISCHARGED SPEED OF RESIN Collect Result_Dam  \\\n",
       "0                                            16   \n",
       "1                                            10   \n",
       "2                                            10   \n",
       "3                                            10   \n",
       "4                                            16   \n",
       "\n",
       "   Head Clean Position Z Collect Result_Dam  \\\n",
       "0                                    124.00   \n",
       "1                                    130.85   \n",
       "2                                    133.50   \n",
       "3                                    133.50   \n",
       "4                                    130.85   \n",
       "\n",
       "   Head Purge Position Z Collect Result_Dam  \\\n",
       "0                                    130.85   \n",
       "1                                    130.85   \n",
       "2                                    133.50   \n",
       "3                                    133.50   \n",
       "4                                    130.85   \n",
       "\n",
       "   Head Zero Position Y Collect Result_Dam  Stage1_Circle_Distance_Speed_Dam  \\\n",
       "0                                    300.0                              5800   \n",
       "1                                    300.0                              4000   \n",
       "2                                    300.0                              9000   \n",
       "3                                    303.5                              9000   \n",
       "4                                    300.0                              6500   \n",
       "\n",
       "   Stage2_Circle_Distance_Speed_Dam  Stage3_Circle_Distance_Speed_Dam  \\\n",
       "0                              5300                              5800   \n",
       "1                              5000                              4000   \n",
       "2                              9000                              9000   \n",
       "3                              9000                              9000   \n",
       "4                              6500                              6500   \n",
       "\n",
       "   WorkMode Collect Result  Chamber Temp. Collect Result_AutoClave  ...  \\\n",
       "0                      0.0                                      56  ...   \n",
       "1                      1.0                                      54  ...   \n",
       "2                      1.0                                      47  ...   \n",
       "3                      1.0                                      54  ...   \n",
       "4                      0.0                                      54  ...   \n",
       "\n",
       "   stage3_line24_distance_speed_Dam  average_thickness_Dam  \\\n",
       "0                              5800              -0.002333   \n",
       "1                              4000               0.000000   \n",
       "2                              9000               0.000000   \n",
       "3                              9000               0.000000   \n",
       "4                              6500               0.000000   \n",
       "\n",
       "   1st_pressure_time_AutoClave  2nd_pressure_time_AutoClave  \\\n",
       "0                       75.915                        0.490   \n",
       "1                       72.059                       36.300   \n",
       "2                       72.480                       36.240   \n",
       "3                       75.840                       60.120   \n",
       "4                       75.915                        0.493   \n",
       "\n",
       "   3rd_pressure_time_AutoClave avg_pressure_time_AutoClave  time_ratio_Dam  \\\n",
       "0                       60.258                   45.554333           0.148   \n",
       "1                       60.500                   56.286333           0.112   \n",
       "2                       59.760                   56.160000           0.130   \n",
       "3                       60.120                   65.360000           0.137   \n",
       "4                       60.258                   45.555333           0.109   \n",
       "\n",
       "   time_ratio_Fill1  time_ratio_Fill2  time_ratio_AutoClave  \n",
       "0             0.113             0.038                 0.700  \n",
       "1             0.091             0.032                 0.765  \n",
       "2             0.133             0.029                 0.708  \n",
       "3             0.134             0.028                 0.702  \n",
       "4             0.108             0.040                 0.743  \n",
       "\n",
       "[5 rows x 55 columns]"
      ]
     },
     "execution_count": 275,
     "metadata": {},
     "output_type": "execute_result"
    }
   ],
   "source": [
    "train_df.head()"
   ]
  },
  {
   "cell_type": "code",
   "execution_count": 276,
   "id": "7c62cc80-d28c-4386-a311-3f2e3c872b3d",
   "metadata": {},
   "outputs": [],
   "source": [
    "from sklearn.preprocessing import LabelEncoder\n",
    "label_encoder = LabelEncoder()\n",
    "train_df['cleaned_workorder'] = label_encoder.fit_transform(train_df['cleaned_workorder'])"
   ]
  },
  {
   "cell_type": "code",
   "execution_count": 277,
   "id": "dd956f78-f445-4e61-88dc-b85eb9a33823",
   "metadata": {},
   "outputs": [],
   "source": [
    "test_df['cleaned_workorder'] = label_encoder.fit_transform(test_df['cleaned_workorder'])"
   ]
  },
  {
   "cell_type": "code",
   "execution_count": 278,
   "id": "802f9152-91e0-48ee-ac79-78f3dad3a4c9",
   "metadata": {},
   "outputs": [],
   "source": [
    "test_df['cure_end_position_XZ_Fill2'] = label_encoder.fit_transform(test_df['cure_end_position_XZ_Fill2'])\n",
    "test_df['cure_start_position_XZ_Fill2'] = label_encoder.fit_transform(test_df['cure_start_position_XZ_Fill2'])\n",
    "test_df['cure_standby_position_XZ_Fill2'] = label_encoder.fit_transform(test_df['cure_standby_position_XZ_Fill2'])\n",
    "test_df['stage1_line13_distance_speed_Dam'] = label_encoder.fit_transform(test_df['stage1_line13_distance_speed_Dam'])\n",
    "test_df['stage2_line13_distance_speed_Dam'] = label_encoder.fit_transform(test_df['stage2_line13_distance_speed_Dam'])\n",
    "test_df['stage3_line13_distance_speed_Dam'] = label_encoder.fit_transform(test_df['stage3_line13_distance_speed_Dam'])\n"
   ]
  },
  {
   "cell_type": "code",
   "execution_count": 279,
   "id": "9319cce9-4c4b-4d29-9e7c-9093894806ad",
   "metadata": {},
   "outputs": [],
   "source": [
    "train_df['cure_end_position_XZ_Fill2'] = label_encoder.fit_transform(train_df['cure_end_position_XZ_Fill2'])\n",
    "train_df['cure_start_position_XZ_Fill2'] = label_encoder.fit_transform(train_df['cure_start_position_XZ_Fill2'])\n",
    "train_df['cure_standby_position_XZ_Fill2'] = label_encoder.fit_transform(train_df['cure_standby_position_XZ_Fill2'])\n",
    "train_df['stage1_line13_distance_speed_Dam'] = label_encoder.fit_transform(train_df['stage1_line13_distance_speed_Dam'])\n",
    "train_df['stage2_line13_distance_speed_Dam'] = label_encoder.fit_transform(train_df['stage2_line13_distance_speed_Dam'])\n",
    "train_df['stage3_line13_distance_speed_Dam'] = label_encoder.fit_transform(train_df['stage3_line13_distance_speed_Dam'])"
   ]
  },
  {
   "cell_type": "code",
   "execution_count": 280,
   "id": "9f002140-2696-42cd-b1a5-83f90671f26f",
   "metadata": {},
   "outputs": [
    {
     "data": {
      "text/plain": [
       "Receip_No\n",
       "1    1837\n",
       "6       2\n",
       "Name: count, dtype: int64"
      ]
     },
     "execution_count": 280,
     "metadata": {},
     "output_type": "execute_result"
    }
   ],
   "source": [
    "test_df['Receip_No'].value_counts()"
   ]
  },
  {
   "cell_type": "code",
   "execution_count": 281,
   "id": "4bd73198-106a-4659-ae1b-0a1125dc10a2",
   "metadata": {},
   "outputs": [],
   "source": [
    "test_df['Receip_No'] = label_encoder.fit_transform(test_df['Receip_No'])\n",
    "test_df['PalletID_Collect_Result'] = label_encoder.fit_transform(test_df['PalletID_Collect_Result'])\n",
    "test_df['Production_Qty_Collect_Result'] = label_encoder.fit_transform(test_df['Production_Qty_Collect_Result'])"
   ]
  },
  {
   "cell_type": "code",
   "execution_count": 282,
   "id": "048527b9-81fd-4180-8d30-1468cc1caeec",
   "metadata": {},
   "outputs": [
    {
     "name": "stdout",
     "output_type": "stream",
     "text": [
      "<class 'pandas.core.frame.DataFrame'>\n",
      "RangeIndex: 31902 entries, 0 to 31901\n",
      "Data columns (total 55 columns):\n",
      " #   Column                                          Non-Null Count  Dtype  \n",
      "---  ------                                          --------------  -----  \n",
      " 0   CURE SPEED Collect Result_Dam                   31902 non-null  int64  \n",
      " 1   DISCHARGED SPEED OF RESIN Collect Result_Dam    31902 non-null  int64  \n",
      " 2   Head Clean Position Z Collect Result_Dam        31902 non-null  float64\n",
      " 3   Head Purge Position Z Collect Result_Dam        31902 non-null  float64\n",
      " 4   Head Zero Position Y Collect Result_Dam         31902 non-null  float64\n",
      " 5   Stage1_Circle_Distance_Speed_Dam                31902 non-null  int64  \n",
      " 6   Stage2_Circle_Distance_Speed_Dam                31902 non-null  int64  \n",
      " 7   Stage3_Circle_Distance_Speed_Dam                31902 non-null  int64  \n",
      " 8   WorkMode Collect Result                         31902 non-null  float64\n",
      " 9   Chamber Temp. Collect Result_AutoClave          31902 non-null  int64  \n",
      " 10  DISCHARGED SPEED OF RESIN Collect Result_Fill1  31902 non-null  float64\n",
      " 11  Head Purge Position Z Collect Result_Fill1      31902 non-null  float64\n",
      " 12  CURE SPEED Collect Result_Fill2                 31902 non-null  int64  \n",
      " 13  Head Purge Position Z Collect Result_Fill2      31902 non-null  float64\n",
      " 14  Receip_No                                       31902 non-null  int64  \n",
      " 15  cleaned_workorder                               31902 non-null  int64  \n",
      " 16  Equipment_same_num                              31902 non-null  int64  \n",
      " 17  PalletID_Collect_Result                         31902 non-null  float64\n",
      " 18  Production_Qty_Collect_Result                   31902 non-null  int64  \n",
      " 19  CURE_DISTANCE_Dam                               31902 non-null  float64\n",
      " 20  cure_end_position_XZ_Fill2                      31902 non-null  int64  \n",
      " 21  cure_start_position_XZ_Fill2                    31902 non-null  int64  \n",
      " 22  cure_standby_position_XZ_Fill2                  31902 non-null  int64  \n",
      " 23  HEAD NORMAL DISTANCE_STAGE1_STAGE3_Dam          31902 non-null  float64\n",
      " 24  HEAD NORMAL DISTANCE_TRIANGLE_area_Dam          31902 non-null  float64\n",
      " 25  HEAD NORMAL DISTANCE_TRIANGLE_height_Dam        31902 non-null  float64\n",
      " 26  HEAD NORMAL DISTANCE_STAGE1_STAGE3_Fill1        31902 non-null  float64\n",
      " 27  HEAD NORMAL DISTANCE_TRIANGLE_area_Fill1        31902 non-null  float64\n",
      " 28  HEAD NORMAL DISTANCE_TRIANGLE_height_Fill1      31902 non-null  float64\n",
      " 29  HEAD NORMAL DISTANCE_STAGE1_STAGE2_Fill2        31902 non-null  float64\n",
      " 30  HEAD NORMAL DISTANCE_STAGE2_STAGE3_Fill2        31902 non-null  float64\n",
      " 31  HEAD NORMAL DISTANCE_STAGE1_STAGE3_Fill2        31902 non-null  float64\n",
      " 32  volume_time_multip_stage1_Dam                   31902 non-null  float64\n",
      " 33  volume_time_multip_stage2_Dam                   31902 non-null  float64\n",
      " 34  volume_time_multip_stage3_Dam                   31902 non-null  float64\n",
      " 35  volume_time_multip_avg_Dam                      31902 non-null  float64\n",
      " 36  volume_time_multip_stage1_Fill1                 31902 non-null  float64\n",
      " 37  volume_time_multip_stage2_Fill1                 31902 non-null  float64\n",
      " 38  volume_time_multip_stage3_Fill1                 31902 non-null  float64\n",
      " 39  volume_time_multip_avg_Fill1                    31902 non-null  float64\n",
      " 40  stage1_line13_distance_speed_Dam                31902 non-null  int64  \n",
      " 41  stage1_line24_distance_speed_Dam                31902 non-null  int64  \n",
      " 42  stage2_line13_distance_speed_Dam                31902 non-null  int64  \n",
      " 43  stage2_line24_distance_speed_Dam                31902 non-null  int64  \n",
      " 44  stage3_line13_distance_speed_Dam                31902 non-null  int64  \n",
      " 45  stage3_line24_distance_speed_Dam                31902 non-null  int64  \n",
      " 46  average_thickness_Dam                           31902 non-null  float64\n",
      " 47  1st_pressure_time_AutoClave                     31902 non-null  float64\n",
      " 48  2nd_pressure_time_AutoClave                     31902 non-null  float64\n",
      " 49  3rd_pressure_time_AutoClave                     31902 non-null  float64\n",
      " 50  avg_pressure_time_AutoClave                     31902 non-null  float64\n",
      " 51  time_ratio_Dam                                  31902 non-null  float64\n",
      " 52  time_ratio_Fill1                                31902 non-null  float64\n",
      " 53  time_ratio_Fill2                                31902 non-null  float64\n",
      " 54  time_ratio_AutoClave                            31902 non-null  float64\n",
      "dtypes: float64(35), int64(20)\n",
      "memory usage: 13.4 MB\n"
     ]
    }
   ],
   "source": [
    "train_df.info()"
   ]
  },
  {
   "cell_type": "code",
   "execution_count": 283,
   "id": "49185987-e6d1-43e6-9f14-e2ead41527e9",
   "metadata": {},
   "outputs": [],
   "source": [
    "train_df = train_df.to_numpy()\n",
    "test_df = test_df.to_numpy()\n",
    "\n",
    "trainset = torch.tensor(train_df, dtype=torch.float64)\n",
    "testset = torch.tensor(test_df, dtype=torch.float64)"
   ]
  },
  {
   "cell_type": "code",
   "execution_count": 284,
   "id": "c75fadf4-6f04-463a-b757-c456a076ea5a",
   "metadata": {},
   "outputs": [
    {
     "name": "stdout",
     "output_type": "stream",
     "text": [
      "25521\n",
      "torch.Size([55])\n",
      "tensor([7.0000e+01, 1.0000e+01, 1.3085e+02, 1.3085e+02, 3.0000e+02, 4.0000e+03,\n",
      "        9.0000e+03, 4.0000e+03, 1.0000e+00, 5.4000e+01, 1.0600e+01, 1.4500e+02,\n",
      "        5.0000e+01, 8.5000e+01, 1.0000e+00, 1.8000e+02, 1.0000e+00, 6.0000e+00,\n",
      "        1.4700e+02, 7.9061e+02, 2.0000e+00, 3.0000e+00, 3.0000e+00, 3.8950e+02,\n",
      "        0.0000e+00, 0.0000e+00, 6.8140e+02, 5.6985e+01, 1.6726e-01, 3.7750e+02,\n",
      "        3.0200e+02, 6.7950e+02, 3.1737e+01, 1.6660e+00, 3.1737e+01, 2.1713e+01,\n",
      "        1.7307e+02, 1.2312e+01, 1.7307e+02, 1.1948e+02, 0.0000e+00, 4.0000e+03,\n",
      "        7.0000e+00, 9.0000e+03, 0.0000e+00, 4.0000e+03, 0.0000e+00, 7.4710e+01,\n",
      "        3.7631e+01, 6.0137e+01, 5.7493e+01, 1.0500e-01, 9.0000e-02, 3.2000e-02,\n",
      "        7.7300e-01], dtype=torch.float64)\n"
     ]
    }
   ],
   "source": [
    "class MyDataset(Dataset):\n",
    "    # 해당 클래스는 torch.utils.data.Dataset을 상속받습니다.\n",
    "    def __init__(self, data, target):\n",
    "        super().__init__()\n",
    "        # 해당 클래스의 인스턴스를 초기화합니다.\n",
    "        self.data = data\n",
    "        self.target = target\n",
    "\n",
    "    def __len__(self):\n",
    "        # 해당 데이터셋의 총 데이터 수를 리턴합니다.\n",
    "        return len(self.data)\n",
    "    \n",
    "    def __getitem__(self, idx):\n",
    "        # 인덱스 idx에 해당하는 데이터를 가져옵니다.\n",
    "        return self.data[idx], self.target[idx]\n",
    "    \n",
    "\n",
    "if __name__ == \"__main__\":\n",
    "    # ROOT_DIR = '.' if os.path.exists('config') else '..' \n",
    "    # train_csv = os.path.join(ROOT_DIR, 'dataset', 'train_data_model_AJX75334501_target_Normal.csv')\n",
    "    # test_csv = os.path.join(ROOT_DIR, 'dataset', 'train_data_model_AJX75334501_target_AbNormal.csv')\n",
    "    \n",
    "    # train_df = pd.read_csv(train_csv)\n",
    "    # test_df = pd.read_csv(test_csv)\n",
    "\n",
    "    # train_df = train_df.drop(columns=['ID'],axis=1)\n",
    "    # test_df = test_df.drop(columns=['ID'],axis=1)\n",
    "\n",
    "    # # random_list = [1]\n",
    "    # # rand_iter = iter(random_list)\n",
    "    # # RANDOM_STATE = next(rand_iter)\n",
    "\n",
    "    trainset, validset = train_test_split(trainset, test_size=0.2, random_state=42)\n",
    "    \n",
    "    # train_df = train_df.drop(columns=['y','ID'],axis=1)\n",
    "    # test_df = test_df.drop(columns=['ID'],axis=1)\n",
    "    \n",
    "    # X_train = X_train.to_numpy()\n",
    "    # X_valid = X_valid.to_numpy()\n",
    "    \n",
    "    # trainset = torch.tensor(X_train, dtype=torch.float64)\n",
    "    # validset = torch.tensor(X_valid, dtype=torch.float64)\n",
    "    \n",
    "    # train_data = trainset\n",
    "    # valid_data = validset\n",
    "\n",
    "    # train_dataset = MyDataset(train_data, train_target)\n",
    "    # valid_dataset = MyDataset(valid_data, valid_target)\n",
    "\n",
    "    train_Data = trainset[0]\n",
    "\n",
    "    print(len(trainset))\n",
    "    print(train_Data.shape)\n",
    "    print(train_Data)"
   ]
  },
  {
   "cell_type": "code",
   "execution_count": 285,
   "id": "cca663ed-4600-4763-8a29-fb953afed0d6",
   "metadata": {},
   "outputs": [],
   "source": [
    "train_loader = DataLoader(\n",
    "    dataset = trainset,\n",
    "    batch_size = BATCH_SIZE,\n",
    "    shuffle = True,\n",
    "    num_workers = 4\n",
    ")"
   ]
  },
  {
   "cell_type": "code",
   "execution_count": 286,
   "id": "457c607a-b5ae-4aa8-afc5-2fb8176ddf6c",
   "metadata": {},
   "outputs": [],
   "source": [
    "valid_loader = DataLoader(\n",
    "    dataset = validset,\n",
    "    batch_size = len(validset),\n",
    "    shuffle = True,\n",
    "    num_workers = 4\n",
    ")"
   ]
  },
  {
   "cell_type": "code",
   "execution_count": 287,
   "id": "79241f33-57c1-4da1-8b2e-e5b9c848a2fe",
   "metadata": {},
   "outputs": [],
   "source": [
    "class Autoencoder(nn.Module):\n",
    "    def __init__(self):\n",
    "        super().__init__()\n",
    "        \n",
    "        self.encoder = nn.Sequential(\n",
    "            nn.Linear(55,40),\n",
    "            nn.BatchNorm1d(num_features=40),\n",
    "            nn.ReLU(),\n",
    "            nn.Linear(40,25),\n",
    "            nn.BatchNorm1d(num_features=25),\n",
    "            nn.ReLU(),\n",
    "            nn.Linear(25,10),\n",
    "            nn.BatchNorm1d(num_features=10),\n",
    "            nn.ReLU(),\n",
    "            nn.Linear(10,7),\n",
    "        )\n",
    "        self.decoder = nn.Sequential(\n",
    "            nn.Linear(7,10),\n",
    "            nn.BatchNorm1d(num_features=10),\n",
    "            nn.ReLU(),\n",
    "            nn.Linear(10,25),\n",
    "            nn.BatchNorm1d(num_features=25),\n",
    "            nn.ReLU(),\n",
    "            nn.Linear(25,40),\n",
    "            nn.BatchNorm1d(num_features=40),\n",
    "            nn.ReLU(),\n",
    "            nn.Linear(40,55),\n",
    "        )\n",
    "        \n",
    "    def forward(self,x):\n",
    "        encoded = self.encoder(x)\n",
    "        decoded = self.decoder(encoded)\n",
    "        \n",
    "        return encoded, decoded"
   ]
  },
  {
   "cell_type": "code",
   "execution_count": 288,
   "id": "2a3a3988-ac04-4b6a-83bb-15953fb6abb1",
   "metadata": {},
   "outputs": [],
   "source": [
    "autoencoder = Autoencoder().to(DEVICE)\n",
    "optimizer = torch.optim.Adam(autoencoder.parameters(), lr=0.001)\n",
    "criterion = nn.MSELoss()"
   ]
  },
  {
   "cell_type": "code",
   "execution_count": 294,
   "id": "8ff659ba-6555-4bdc-a33c-8e84cd5320f1",
   "metadata": {},
   "outputs": [],
   "source": [
    "def train(autoencoder, train_loader):\n",
    "    autoencoder.train()\n",
    "    losses = 0\n",
    "    for batch_idx, features in enumerate(train_loader):\n",
    "        # target = target.to(DEVICE)\n",
    "        features = features.float()\n",
    "        logits = autoencoder(features)\n",
    "        # print(type(logits))\n",
    "        # print(logits)\n",
    "        loss = criterion(logits[1],features)\n",
    "        losses = losses + loss\n",
    "        # print(loss)\n",
    "        optimizer.zero_grad()\n",
    "        loss.backward()\n",
    "        optimizer.step()\n",
    "    return losses"
   ]
  },
  {
   "cell_type": "code",
   "execution_count": 299,
   "id": "b84b2c21-b3c5-4dd1-b839-c2d8d8e22681",
   "metadata": {},
   "outputs": [],
   "source": [
    "def valid(autoencoder, valid_loader):\n",
    "    autoencoder.eval()\n",
    "    losses = 0\n",
    "    for batch_idx, features in enumerate(valid_loader):\n",
    "        # target = target.to(DEVICE)\n",
    "        features = features.float()\n",
    "        logits = autoencoder(features)\n",
    "        loss = criterion(logits[1],features)\n",
    "        losses = losses + loss\n",
    "    return losses"
   ]
  },
  {
   "cell_type": "code",
   "execution_count": 300,
   "id": "d5ba70ce-f821-417d-8b27-c30047722a0d",
   "metadata": {},
   "outputs": [],
   "source": [
    "train_losses = []\n",
    "valid_losses = []"
   ]
  },
  {
   "cell_type": "code",
   "execution_count": 301,
   "id": "d503607b-9967-4748-89b2-70a503c96f93",
   "metadata": {},
   "outputs": [],
   "source": [
    "patience = 5  \n",
    "best_val_loss = float('inf')  \n",
    "patience_counter = 0  "
   ]
  },
  {
   "cell_type": "code",
   "execution_count": 302,
   "id": "6939e638-8b7b-4027-9791-58e612596d8d",
   "metadata": {},
   "outputs": [
    {
     "name": "stdout",
     "output_type": "stream",
     "text": [
      "Early stopping at epoch 77\n"
     ]
    }
   ],
   "source": [
    "for epoch in range(1,EPOCH+1):\n",
    "    train_loss = train(autoencoder, train_loader)\n",
    "    # print(f'train loss = {torch.sqrt(train_loss)}')\n",
    "    train_losses.append(train_loss.item())\n",
    "    valid_loss = valid(autoencoder, train_loader)\n",
    "    # print(f'valid loss = {torch.sqrt(valid_loss)}')\n",
    "    valid_losses.append(valid_loss.item())\n",
    "    #Early stopping\n",
    "    if valid_loss < best_val_loss:\n",
    "        best_val_loss = valid_loss\n",
    "        patience_counter = 0  # 검증 손실이 개선되었으므로 patience_counter 초기화\n",
    "    else:\n",
    "        patience_counter += 1  # 검증 손실이 개선되지 않으면 patience_counter 증가\n",
    "\n",
    "    if patience_counter >= patience:\n",
    "        print(f\"Early stopping at epoch {epoch+1}\")\n",
    "        break"
   ]
  },
  {
   "cell_type": "code",
   "execution_count": 303,
   "id": "9ef2f043-6d61-4a83-955a-ad64c17d3207",
   "metadata": {},
   "outputs": [
    {
     "data": {
      "text/plain": [
       "[2751850752.0,\n",
       " 2688215040.0,\n",
       " 2608060672.0,\n",
       " 2523793920.0,\n",
       " 2412165888.0,\n",
       " 2281644544.0,\n",
       " 2144648448.0,\n",
       " 2025769600.0,\n",
       " 1881727360.0,\n",
       " 1772142336.0,\n",
       " 1614245632.0,\n",
       " 1510317440.0,\n",
       " 1359786752.0,\n",
       " 1237114112.0,\n",
       " 1126477056.0,\n",
       " 997460992.0,\n",
       " 882472064.0,\n",
       " 822830208.0,\n",
       " 683890048.0,\n",
       " 637624768.0,\n",
       " 543384896.0,\n",
       " 505342240.0,\n",
       " 434069728.0,\n",
       " 384954464.0,\n",
       " 355482048.0,\n",
       " 319182368.0,\n",
       " 289069856.0,\n",
       " 276767200.0,\n",
       " 249721584.0,\n",
       " 234141696.0,\n",
       " 214532016.0,\n",
       " 191607408.0,\n",
       " 170329088.0,\n",
       " 151478736.0,\n",
       " 132246328.0,\n",
       " 107532456.0,\n",
       " 88838216.0,\n",
       " 84521416.0,\n",
       " 67487120.0,\n",
       " 54573756.0,\n",
       " 52944220.0,\n",
       " 44521676.0,\n",
       " 37404400.0,\n",
       " 38319392.0,\n",
       " 35677768.0,\n",
       " 29165840.0,\n",
       " 28845700.0,\n",
       " 25742046.0,\n",
       " 22541816.0,\n",
       " 18644886.0,\n",
       " 20364942.0,\n",
       " 13268800.0,\n",
       " 10354370.0,\n",
       " 8411349.0,\n",
       " 6736762.5,\n",
       " 4134621.75,\n",
       " 4949547.0,\n",
       " 4528580.0,\n",
       " 4492570.5,\n",
       " 2908664.25,\n",
       " 3326232.25,\n",
       " 1712867.625,\n",
       " 2507603.5,\n",
       " 2472929.0,\n",
       " 1539239.125,\n",
       " 2941651.25,\n",
       " 1338193.0,\n",
       " 1463371.0,\n",
       " 1997575.0,\n",
       " 1765716.125,\n",
       " 977147.9375,\n",
       " 1077405.75,\n",
       " 1615403.0,\n",
       " 1742356.75,\n",
       " 1744558.125,\n",
       " 1392450.25]"
      ]
     },
     "execution_count": 303,
     "metadata": {},
     "output_type": "execute_result"
    }
   ],
   "source": [
    "valid_losses"
   ]
  },
  {
   "cell_type": "code",
   "execution_count": 304,
   "id": "af43cb34-7c8f-4bc3-b06f-98b474045108",
   "metadata": {},
   "outputs": [
    {
     "data": {
      "image/png": "[encoded data removed]",
      "text/plain": [
       "<Figure size 640x480 with 1 Axes>"
      ]
     },
     "metadata": {},
     "output_type": "display_data"
    }
   ],
   "source": [
    "plt.plot(train_losses, label='Train Loss')\n",
    "plt.plot(valid_losses, label='Validation Loss')\n",
    "plt.xlabel('Epoch')\n",
    "plt.ylabel('Loss')\n",
    "plt.legend()\n",
    "plt.title('Train and Validation Loss per Epoch')\n",
    "plt.show()"
   ]
  },
  {
   "cell_type": "code",
   "execution_count": null,
   "id": "640cf8d9-a8f2-4d82-90ef-dcc51ac176e4",
   "metadata": {},
   "outputs": [],
   "source": []
  },
  {
   "cell_type": "code",
   "execution_count": null,
   "id": "26aed2c6-2018-4222-9199-d835ba97ca0a",
   "metadata": {},
   "outputs": [],
   "source": []
  },
  {
   "cell_type": "code",
   "execution_count": null,
   "id": "a8b746c3-ae8c-4a18-b355-aeef355d3029",
   "metadata": {},
   "outputs": [],
   "source": []
  },
  {
   "cell_type": "code",
   "execution_count": null,
   "id": "472aeecc-2580-4aad-9a79-ac9c5237eaa0",
   "metadata": {},
   "outputs": [],
   "source": []
  },
  {
   "cell_type": "code",
   "execution_count": null,
   "id": "325ae729-2088-4089-b67c-ff06b75033b0",
   "metadata": {},
   "outputs": [],
   "source": []
  },
  {
   "cell_type": "code",
   "execution_count": null,
   "id": "ca57b734-92e5-4e95-9eb4-7b8e1189fdcc",
   "metadata": {},
   "outputs": [],
   "source": []
  },
  {
   "cell_type": "code",
   "execution_count": null,
   "id": "8cefc22d-bf48-4a39-8797-60a2425af0b3",
   "metadata": {},
   "outputs": [],
   "source": []
  },
  {
   "cell_type": "code",
   "execution_count": null,
   "id": "65ca11da-6464-4733-ae39-7064a8d08c2c",
   "metadata": {},
   "outputs": [],
   "source": []
  },
  {
   "cell_type": "code",
   "execution_count": null,
   "id": "4567febe-2494-4eac-ad99-66c52c787937",
   "metadata": {},
   "outputs": [],
   "source": []
  },
  {
   "cell_type": "code",
   "execution_count": null,
   "id": "813b0f9a-6904-42e0-8757-7de4849eabdb",
   "metadata": {},
   "outputs": [],
   "source": []
  },
  {
   "cell_type": "code",
   "execution_count": null,
   "id": "7a9bd69d-f690-4a7f-9f7c-cdfe0c68870d",
   "metadata": {},
   "outputs": [],
   "source": []
  },
  {
   "cell_type": "code",
   "execution_count": null,
   "id": "51ad0957-1fcc-4b2b-8690-125deed978f0",
   "metadata": {},
   "outputs": [],
   "source": []
  },
  {
   "cell_type": "code",
   "execution_count": 305,
   "id": "bda3e86c-fa59-4b96-b4b1-494013533893",
   "metadata": {},
   "outputs": [],
   "source": [
    "def check_model_mode(model):\n",
    "    if model.training:\n",
    "        print(\"The model is in training mode.\")\n",
    "    else:\n",
    "        print(\"The model is in evaluation mode.\")"
   ]
  },
  {
   "cell_type": "code",
   "execution_count": 306,
   "id": "ae727c8c-a544-410d-999e-6e55c67b90ac",
   "metadata": {},
   "outputs": [
    {
     "name": "stdout",
     "output_type": "stream",
     "text": [
      "The model is in evaluation mode.\n"
     ]
    }
   ],
   "source": [
    "check_model_mode(autoencoder)"
   ]
  },
  {
   "cell_type": "code",
   "execution_count": 307,
   "id": "2e3a1d23-a4bf-4283-bce6-7524249454d5",
   "metadata": {},
   "outputs": [],
   "source": [
    "testset = testset.float()\n",
    "result = autoencoder(testset)"
   ]
  },
  {
   "cell_type": "code",
   "execution_count": 308,
   "id": "23366fcf-2c08-4e7d-8090-092c0015a7ac",
   "metadata": {},
   "outputs": [],
   "source": [
    "loss_temp = nn.MSELoss()"
   ]
  },
  {
   "cell_type": "code",
   "execution_count": 309,
   "id": "01c330b0-8ae3-4301-901f-209f892d78de",
   "metadata": {},
   "outputs": [
    {
     "name": "stdout",
     "output_type": "stream",
     "text": [
      "tensor(5.6811, grad_fn=<SqrtBackward0>)\n",
      "tensor(6.5456)\n",
      "0번째 feature-----------------------------------------\n",
      "tensor(0.6912, grad_fn=<SqrtBackward0>)\n",
      "tensor(2.8623)\n",
      "1번째 feature-----------------------------------------\n",
      "tensor(3.6883, grad_fn=<SqrtBackward0>)\n",
      "tensor(2.8451)\n",
      "2번째 feature-----------------------------------------\n",
      "tensor(3.4479, grad_fn=<SqrtBackward0>)\n",
      "tensor(1.5677)\n",
      "3번째 feature-----------------------------------------\n",
      "tensor(8.4317, grad_fn=<SqrtBackward0>)\n",
      "tensor(1.4672)\n",
      "4번째 feature-----------------------------------------\n",
      "tensor(113.2472, grad_fn=<SqrtBackward0>)\n",
      "tensor(1789.7408)\n",
      "5번째 feature-----------------------------------------\n",
      "tensor(136.4055, grad_fn=<SqrtBackward0>)\n",
      "tensor(2309.7493)\n",
      "6번째 feature-----------------------------------------\n",
      "tensor(112.5269, grad_fn=<SqrtBackward0>)\n",
      "tensor(1789.7408)\n",
      "7번째 feature-----------------------------------------\n",
      "tensor(0.2027, grad_fn=<SqrtBackward0>)\n",
      "tensor(0.4943)\n",
      "8번째 feature-----------------------------------------\n",
      "tensor(3.5874, grad_fn=<SqrtBackward0>)\n",
      "tensor(3.3780)\n",
      "9번째 feature-----------------------------------------\n",
      "tensor(0.2982, grad_fn=<SqrtBackward0>)\n",
      "tensor(0.2818)\n",
      "10번째 feature-----------------------------------------\n"
     ]
    }
   ],
   "source": [
    "for i in range(11):\n",
    "    x0_output = torch.sqrt(loss_temp(testset[:,i], result[1][:,i]))\n",
    "    print(x0_output)\n",
    "    print(torch.std(testset[:,i]))\n",
    "    print(f'{i}번째 feature-----------------------------------------')\n",
    "    "
   ]
  },
  {
   "cell_type": "code",
   "execution_count": 310,
   "id": "f96ded88-b9bf-435c-8a0e-4b3fb42ea013",
   "metadata": {},
   "outputs": [],
   "source": [
    "encoder_only = autoencoder.encoder"
   ]
  },
  {
   "cell_type": "code",
   "execution_count": 311,
   "id": "4c16ff6b-6724-47e6-860b-7e387e55e02c",
   "metadata": {},
   "outputs": [],
   "source": [
    "class EncoderWithMLP(nn.Module):\n",
    "    def __init__(self, encoder):\n",
    "        super(EncoderWithMLP, self).__init__()\n",
    "        self.encoder = encoder  # 기존 인코더를 사용\n",
    "        self.mlp = nn.Sequential(\n",
    "            nn.Linear(3, 2),\n",
    "            nn.BatchNorm1d(num_features=2),\n",
    "            nn.ReLU(),\n",
    "            nn.Linear(2, 1)   \n",
    "        )\n",
    "    \n",
    "    def forward(self, x):\n",
    "        # 인코더를 통해 잠재 공간으로 압축\n",
    "        encoded = self.encoder(x)\n",
    "        # MLP를 통해 출력\n",
    "        output = self.mlp(encoded)\n",
    "        return output"
   ]
  },
  {
   "cell_type": "code",
   "execution_count": 312,
   "id": "819a2647-edc8-4ec4-a1cd-ab07d9dcd47c",
   "metadata": {},
   "outputs": [],
   "source": [
    "encoder_with_mlp = EncoderWithMLP(encoder_only)"
   ]
  },
  {
   "cell_type": "code",
   "execution_count": null,
   "id": "1594c365-9268-4d53-ba94-95950ccaed9f",
   "metadata": {},
   "outputs": [],
   "source": [
    "encoder_with_mlp.encoder.training"
   ]
  },
  {
   "cell_type": "code",
   "execution_count": null,
   "id": "5054477c-df48-43c2-bd08-1c3b277b7d6c",
   "metadata": {},
   "outputs": [],
   "source": [
    "encoder_with_mlp.mlp.training"
   ]
  },
  {
   "cell_type": "code",
   "execution_count": null,
   "id": "cba857e5-e69f-4776-bff9-aa24457e3cbe",
   "metadata": {},
   "outputs": [],
   "source": [
    "for param in encoder_with_mlp.encoder.parameters():\n",
    "    param.requires_grad = False"
   ]
  },
  {
   "cell_type": "code",
   "execution_count": null,
   "id": "0b5a6ad0-f735-477f-bc8c-deb038e23190",
   "metadata": {},
   "outputs": [],
   "source": [
    "optimizer = optim.Adam(encoder_with_mlp.mlp.parameters(), lr=0.001)\n",
    "criterion = nn.MSELoss()"
   ]
  },
  {
   "cell_type": "code",
   "execution_count": null,
   "id": "c4f864db-6122-4dc5-ae5b-7e2af7052891",
   "metadata": {},
   "outputs": [],
   "source": [
    "encoder_mlp_train_df = train_df.drop(columns=['y'],axis=1)\n",
    "encoder_mlp_train_df = encoder_mlp_train_df.to_numpy()\n",
    "encoder_mlp_train_df = torch.tensor(encoder_mlp_train_df, dtype=torch.float64)\n",
    "encoder_mlp_train_df = encoder_mlp_train_df.float()"
   ]
  },
  {
   "cell_type": "code",
   "execution_count": null,
   "id": "4f0185bc-4d7f-47da-adee-1042701e01a4",
   "metadata": {},
   "outputs": [],
   "source": [
    "y_train = train_df['y'].to_numpy()\n",
    "y_train = torch.tensor(y_train, dtype=torch.float64)\n",
    "y_train = y_train.float()\n",
    "y_train = y_train"
   ]
  },
  {
   "cell_type": "code",
   "execution_count": null,
   "id": "59b8c255-2e09-4820-9a53-88053f9e6553",
   "metadata": {},
   "outputs": [],
   "source": [
    "encoder_mlp_dataset = TensorDataset(encoder_mlp_train_df, y_train)"
   ]
  },
  {
   "cell_type": "code",
   "execution_count": null,
   "id": "4cad70ae-19ed-4a52-9ec1-5030aa72a451",
   "metadata": {},
   "outputs": [],
   "source": [
    "batch_size = 64\n",
    "dataloader_final = DataLoader(encoder_mlp_dataset, batch_size=batch_size, shuffle=True)"
   ]
  },
  {
   "cell_type": "code",
   "execution_count": null,
   "id": "7db2f428-f4f0-4e28-a966-befb32d07080",
   "metadata": {},
   "outputs": [],
   "source": [
    "losses_mlp = []\n",
    "losses = 0\n",
    "for epoch in range(50):\n",
    "    for batch_idx, (inputs, targets) in enumerate(dataloader_final):\n",
    "        # Forward pass\n",
    "        outputs = encoder_with_mlp(inputs)\n",
    "        loss = criterion(outputs, targets)\n",
    "        losses = losses + loss\n",
    "        optimizer.zero_grad()\n",
    "        loss.backward()\n",
    "        optimizer.step()\n",
    "    # losses = losses/626\n",
    "    losses_mlp.append(losses.item())\n",
    "    losses = 0"
   ]
  },
  {
   "cell_type": "code",
   "execution_count": null,
   "id": "e50680c9-d4cb-409a-87fe-e3ac687b5da0",
   "metadata": {},
   "outputs": [],
   "source": [
    "plt.plot(losses_mlp, label='Train Loss')\n",
    "plt.xlabel('Epoch')\n",
    "plt.ylabel('Loss')\n",
    "plt.legend()\n",
    "plt.title('Train Loss per Epoch')\n",
    "plt.show()"
   ]
  },
  {
   "cell_type": "code",
   "execution_count": null,
   "id": "4657b9c5-2f06-4a3d-988f-a932c894c130",
   "metadata": {},
   "outputs": [],
   "source": [
    "encoder_with_mlp.eval()"
   ]
  },
  {
   "cell_type": "code",
   "execution_count": null,
   "id": "5a7026e7-effa-4852-839b-613c0bc5fdf7",
   "metadata": {},
   "outputs": [],
   "source": [
    "result1 = encoder_with_mlp(encoder_mlp_train_df)"
   ]
  },
  {
   "cell_type": "code",
   "execution_count": null,
   "id": "8f61488e-90a0-4ab8-ac96-98ce85dd2088",
   "metadata": {},
   "outputs": [],
   "source": [
    "result1[:10]"
   ]
  },
  {
   "cell_type": "code",
   "execution_count": null,
   "id": "fb6a97e0-1841-48c7-b070-8066e321c21f",
   "metadata": {},
   "outputs": [],
   "source": [
    "y_train[:10]"
   ]
  },
  {
   "cell_type": "code",
   "execution_count": null,
   "id": "60817ba6-7337-46f9-bed4-371f7b354d65",
   "metadata": {},
   "outputs": [],
   "source": [
    "encoder_with_mlp.mlp.training"
   ]
  },
  {
   "cell_type": "code",
   "execution_count": null,
   "id": "b5c07954-f968-4dbe-9f15-02297999eb9d",
   "metadata": {},
   "outputs": [],
   "source": [
    "testset = testset.float()"
   ]
  },
  {
   "cell_type": "code",
   "execution_count": null,
   "id": "93c6770e-5ba8-424f-b4e9-52f6fa144ef3",
   "metadata": {},
   "outputs": [],
   "source": [
    "test_result = encoder_with_mlp(testset)"
   ]
  },
  {
   "cell_type": "code",
   "execution_count": null,
   "id": "b2b07f40-1edd-457b-aade-258cf944c43a",
   "metadata": {},
   "outputs": [],
   "source": [
    "test_result[:10]"
   ]
  },
  {
   "cell_type": "code",
   "execution_count": null,
   "id": "e81887c7-f3b0-4eec-8d85-1d51d7e6cffe",
   "metadata": {},
   "outputs": [],
   "source": [
    "test_result_np = test_result.detach().numpy()\n",
    "\n",
    "# NumPy 배열을 pandas DataFrame으로 변환\n",
    "test_result_pd = pd.DataFrame(test_result_np)\n",
    "\n",
    "# 결과 출력\n",
    "print(len(test_result_pd))"
   ]
  },
  {
   "cell_type": "code",
   "execution_count": null,
   "id": "d7cb37b7-63ff-4816-ac42-797b33bbef8a",
   "metadata": {},
   "outputs": [],
   "source": [
    "sample_submission_csv_path = os.path.join(\n",
    "    ROOT_DIR, \n",
    "    'dataset', \n",
    "    'sample_submission.csv'\n",
    ")\n",
    "\n",
    "submission_csv_path = os.path.join(\n",
    "    ROOT_DIR, \n",
    "    'dataset', \n",
    "    'submission.csv'\n",
    ")\n",
    "\n",
    "submission = pd.read_csv(sample_submission_csv_path)\n",
    "submission['y'] = test_result_pd\n",
    "submission.to_csv(submission_csv_path, index=False)"
   ]
  },
  {
   "cell_type": "code",
   "execution_count": null,
   "id": "3c1d1003-9ac9-4d0b-882f-d78b2acd64bb",
   "metadata": {},
   "outputs": [],
   "source": []
  },
  {
   "cell_type": "code",
   "execution_count": null,
   "id": "1d85e763-6364-4773-aeeb-6125b5ec920f",
   "metadata": {},
   "outputs": [],
   "source": []
  },
  {
   "cell_type": "code",
   "execution_count": null,
   "id": "c9abfe45-a701-4c23-8de5-6b296febe6c0",
   "metadata": {},
   "outputs": [],
   "source": []
  },
  {
   "cell_type": "code",
   "execution_count": null,
   "id": "f8a2dc58-9cbb-4801-b03c-58e7347445c9",
   "metadata": {},
   "outputs": [],
   "source": []
  },
  {
   "cell_type": "code",
   "execution_count": null,
   "id": "3e1b7a60-dd37-4c35-a6e4-fc53b3ea9823",
   "metadata": {},
   "outputs": [],
   "source": []
  },
  {
   "cell_type": "code",
   "execution_count": null,
   "id": "a4fe43e6-0347-4e3b-97dd-0ab4d8f85cf8",
   "metadata": {},
   "outputs": [],
   "source": []
  }
 ],
 "metadata": {
  "kernelspec": {
   "display_name": "Python 3 (ipykernel)",
   "language": "python",
   "name": "python3"
  },
  "language_info": {
   "codemirror_mode": {
    "name": "ipython",
    "version": 3
   },
   "file_extension": ".py",
   "mimetype": "text/x-python",
   "name": "python",
   "nbconvert_exporter": "python",
   "pygments_lexer": "ipython3",
   "version": "3.10.12"
  }
 },
 "nbformat": 4,
 "nbformat_minor": 5
}

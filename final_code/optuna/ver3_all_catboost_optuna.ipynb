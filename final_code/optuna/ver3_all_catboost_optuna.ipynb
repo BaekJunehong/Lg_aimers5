{
 "cells": [
  {
   "cell_type": "markdown",
   "id": "017e9265",
   "metadata": {},
   "source": [
    "# 제품 이상여부 판별 프로젝트\n"
   ]
  },
  {
   "cell_type": "markdown",
   "id": "4d054e30",
   "metadata": {},
   "source": [
    "### 데이터 읽어오기\n"
   ]
  },
  {
   "cell_type": "code",
   "execution_count": 1,
   "id": "6c5468dc",
   "metadata": {},
   "outputs": [
    {
     "name": "stderr",
     "output_type": "stream",
     "text": [
      "/home/elicer/.local/lib/python3.10/site-packages/tqdm/auto.py:21: TqdmWarning: IProgress not found. Please update jupyter and ipywidgets. See https://ipywidgets.readthedocs.io/en/stable/user_install.html\n",
      "  from .autonotebook import tqdm as notebook_tqdm\n"
     ]
    }
   ],
   "source": [
    "import os\n",
    "from pprint import pprint\n",
    "\n",
    "import optuna\n",
    "import numpy as np\n",
    "import pandas as pd\n",
    "#import seaborn as sns\n",
    "import matplotlib.pyplot as plt\n",
    "\n",
    "from sklearn.tree import DecisionTreeClassifier\n",
    "from lightgbm import LGBMClassifier\n",
    "from sklearn.ensemble import RandomForestClassifier, ExtraTreesClassifier\n",
    "from xgboost import XGBClassifier\n",
    "from catboost import CatBoostClassifier\n",
    "from sklearn.ensemble import AdaBoostClassifier\n",
    "\n",
    "from sklearn.metrics import (\n",
    "    accuracy_score,\n",
    "    classification_report,\n",
    "    confusion_matrix,\n",
    "    f1_score,\n",
    "    precision_score,\n",
    "    recall_score,\n",
    ")\n",
    "from sklearn.model_selection import train_test_split\n",
    "from tqdm import tqdm"
   ]
  },
  {
   "cell_type": "code",
   "execution_count": 2,
   "id": "fc0b4d80",
   "metadata": {},
   "outputs": [],
   "source": [
    "import pandas as pd\n",
    "\n",
    "THRESHOLD = 0.3\n",
    "RANDOM_STATE = 110\n",
    "\n",
    "train_data = pd.read_csv(\"./data/train_data_ver3.csv\")\n",
    "test_data = pd.read_csv(\"./data/test_data_ver3.csv\")"
   ]
  },
  {
   "cell_type": "code",
   "execution_count": 3,
   "id": "84efc2b4",
   "metadata": {},
   "outputs": [],
   "source": [
    "# dam, fill1, fill2 공통 변수\n",
    "var_dam_fill = [\n",
    "    'Equipment_same_num',\n",
    "    'PalletID_Collect_Result',\n",
    "    'Production_Qty_Collect_Result',\n",
    "    'WorkMode Collect Result',\n",
    "    'Receip_n_suffix_3',\n",
    "    'Receip_No_encoded'\n",
    "]"
   ]
  },
  {
   "cell_type": "code",
   "execution_count": 4,
   "id": "1be6bfa9",
   "metadata": {},
   "outputs": [],
   "source": [
    "# train\n",
    "var_all_train = [\n",
    "    'target',\n",
    "    'model_suffix_encoded',\n",
    "    'cleaned_workorder_encoded',\n",
    "    'time_gap_All'\n",
    "]\n",
    "\n",
    "# test\n",
    "var_all_test = [\n",
    "    'Set ID',\n",
    "    'target',\n",
    "    'model_suffix_encoded',\n",
    "    'cleaned_workorder_encoded',\n",
    "    'time_gap_All'\n",
    "]"
   ]
  },
  {
   "cell_type": "code",
   "execution_count": 5,
   "id": "ab42a663",
   "metadata": {},
   "outputs": [],
   "source": [
    "# '_Dam'을 포함하는 변수 선택\n",
    "dam_variables = [var for var in train_data.columns if '_Dam' in var]\n",
    "\n",
    "# train\n",
    "final_columns_train = var_dam_fill + var_all_train + dam_variables\n",
    "train_data_dam = train_data[final_columns_train]\n",
    "\n",
    "# test \n",
    "final_columns_test = var_dam_fill + var_all_test + dam_variables\n",
    "test_data_dam = test_data[final_columns_test]"
   ]
  },
  {
   "cell_type": "code",
   "execution_count": 6,
   "id": "70e7e996",
   "metadata": {},
   "outputs": [],
   "source": [
    "# '_Fill1'을 포함하는 변수 선택\n",
    "fill1_variables = [var for var in train_data.columns if '_Fill1' in var]\n",
    "\n",
    "# train\n",
    "final_columns_train = var_dam_fill + var_all_train + fill1_variables\n",
    "train_data_fill1 = train_data[final_columns_train]\n",
    "\n",
    "# test \n",
    "final_columns_test = var_dam_fill + var_all_test + fill1_variables\n",
    "test_data_fill1 = test_data[final_columns_test]"
   ]
  },
  {
   "cell_type": "code",
   "execution_count": 7,
   "id": "e81578ae",
   "metadata": {},
   "outputs": [],
   "source": [
    "# '_Fill2'을 포함하는 변수 선택\n",
    "fill2_variables = [var for var in train_data.columns if '_Fill2' in var]\n",
    "\n",
    "# train\n",
    "final_columns_train = var_dam_fill + var_all_train + fill2_variables\n",
    "train_data_fill2 = train_data[final_columns_train]\n",
    "\n",
    "# test \n",
    "final_columns_test = var_dam_fill + var_all_test + fill2_variables\n",
    "test_data_fill2 = test_data[final_columns_test]"
   ]
  },
  {
   "cell_type": "code",
   "execution_count": 8,
   "id": "8b2cfbb7",
   "metadata": {},
   "outputs": [],
   "source": [
    "# '_AutoClave'을 포함하는 변수 선택\n",
    "autoclave_variables = [var for var in train_data.columns if '_AutoClave' in var]\n",
    "\n",
    "# train\n",
    "final_columns_train = var_all_train + autoclave_variables\n",
    "train_data_autoclave = train_data[final_columns_train]\n",
    "\n",
    "# test \n",
    "final_columns_test = var_all_test + autoclave_variables\n",
    "test_data_autoclave = test_data[final_columns_test]"
   ]
  },
  {
   "cell_type": "code",
   "execution_count": 9,
   "id": "b1ea40b8",
   "metadata": {},
   "outputs": [
    {
     "name": "stdout",
     "output_type": "stream",
     "text": [
      "----train data-----\n",
      "train_data DataFrame의 칼럼 수: 47\n",
      "train_data_dam DataFrame의 칼럼 수: 27\n",
      "train_data_autoclave DataFrame의 칼럼 수: 9\n",
      "train_data_fill1 DataFrame의 칼럼 수: 18\n",
      "train_data_fill2 DataFrame의 칼럼 수: 17\n",
      "----test data-----\n",
      "test_data DataFrame의 칼럼 수: 48\n",
      "test_data_dam DataFrame의 칼럼 수: 28\n",
      "test_data_autoclave DataFrame의 칼럼 수: 10\n",
      "test_data_fill1 DataFrame의 칼럼 수: 19\n",
      "test_data_fill2 DataFrame의 칼럼 수: 18\n"
     ]
    }
   ],
   "source": [
    "# 각 DataFrame의 칼럼 수 계산\n",
    "num_columns_train_data = train_data.shape[1]\n",
    "num_columns_train_data_dam = train_data_dam.shape[1]\n",
    "num_columns_train_data_autoclave = train_data_autoclave.shape[1]\n",
    "num_columns_train_data_fill1 = train_data_fill1.shape[1]\n",
    "num_columns_train_data_fill2 = train_data_fill2.shape[1]\n",
    "\n",
    "num_columns_test_data = test_data.shape[1]\n",
    "num_columns_test_data_dam = test_data_dam.shape[1]\n",
    "num_columns_test_data_autoclave = test_data_autoclave.shape[1]\n",
    "num_columns_test_data_fill1 = test_data_fill1.shape[1]\n",
    "num_columns_test_data_fill2 = test_data_fill2.shape[1]\n",
    "\n",
    "# 각 DataFrame의 칼럼 수 출력\n",
    "print(\"----train data-----\")\n",
    "print(f\"train_data DataFrame의 칼럼 수: {num_columns_train_data}\")\n",
    "print(f\"train_data_dam DataFrame의 칼럼 수: {num_columns_train_data_dam}\")\n",
    "print(f\"train_data_autoclave DataFrame의 칼럼 수: {num_columns_train_data_autoclave}\")\n",
    "print(f\"train_data_fill1 DataFrame의 칼럼 수: {num_columns_train_data_fill1}\")\n",
    "print(f\"train_data_fill2 DataFrame의 칼럼 수: {num_columns_train_data_fill2}\")\n",
    "print(\"----test data-----\")\n",
    "print(f\"test_data DataFrame의 칼럼 수: {num_columns_test_data}\")\n",
    "print(f\"test_data_dam DataFrame의 칼럼 수: {num_columns_test_data_dam}\")\n",
    "print(f\"test_data_autoclave DataFrame의 칼럼 수: {num_columns_test_data_autoclave}\")\n",
    "print(f\"test_data_fill1 DataFrame의 칼럼 수: {num_columns_test_data_fill1}\")\n",
    "print(f\"test_data_fill2 DataFrame의 칼럼 수: {num_columns_test_data_fill2}\")"
   ]
  },
  {
   "cell_type": "markdown",
   "id": "ec45a10a",
   "metadata": {},
   "source": [
    "---"
   ]
  },
  {
   "cell_type": "markdown",
   "id": "5c4e5b59",
   "metadata": {},
   "source": [
    "## Optuna"
   ]
  },
  {
   "cell_type": "markdown",
   "id": "058f4f86",
   "metadata": {},
   "source": [
    "스레스홀드 0.3으로 맞춘상태에서 튜닝 진행한 것"
   ]
  },
  {
   "cell_type": "code",
   "execution_count": 10,
   "id": "2fa78396-cef7-4ea7-ab43-4fbe1226212e",
   "metadata": {},
   "outputs": [],
   "source": [
    "RANDOM_STATE = 110\n",
    "THRESHOLD = 0.3"
   ]
  },
  {
   "cell_type": "code",
   "execution_count": null,
   "id": "f2608ab0",
   "metadata": {},
   "outputs": [
    {
     "name": "stderr",
     "output_type": "stream",
     "text": [
      "[I 2024-09-28 21:24:23,408] A new study created in memory with name: no-name-11b36ed0-cf6d-4f36-80d8-0857c32d7708\n",
      "[I 2024-09-28 21:24:42,427] Trial 0 finished with value: 0.22614840989399293 and parameters: {'iterations': 1287, 'learning_rate': 0.13203262096748453, 'depth': 7, 'min_data_in_leaf': 4, 'l2_leaf_reg': 4.780689663026719, 'random_strength': 6.824631292225899, 'bagging_temperature': 9.554598960277284, 'border_count': 238, 'scale_pos_weight': 5.61649246971856, 'grow_policy': 'Depthwise'}. Best is trial 0 with value: 0.22614840989399293.\n",
      "[I 2024-09-28 21:24:56,663] Trial 1 finished with value: 0.22513089005235598 and parameters: {'iterations': 1368, 'learning_rate': 0.0030110113610709835, 'depth': 8, 'min_data_in_leaf': 3, 'l2_leaf_reg': 1.0505036749294598, 'random_strength': 5.595100695350062, 'bagging_temperature': 0.8684052021612866, 'border_count': 198, 'scale_pos_weight': 3.8269447050797387, 'grow_policy': 'SymmetricTree'}. Best is trial 0 with value: 0.22614840989399293.\n",
      "[I 2024-09-28 21:25:24,262] Trial 2 finished with value: 0.2205804749340369 and parameters: {'iterations': 2207, 'learning_rate': 0.0059838436825695685, 'depth': 4, 'min_data_in_leaf': 5, 'l2_leaf_reg': 3.0982126906667697, 'random_strength': 2.4960448736814635, 'bagging_temperature': 7.6366019855660765, 'border_count': 221, 'scale_pos_weight': 4.470538796727649, 'grow_policy': 'Lossguide'}. Best is trial 0 with value: 0.22614840989399293.\n",
      "[I 2024-09-28 21:25:36,332] Trial 3 finished with value: 0.22058823529411764 and parameters: {'iterations': 968, 'learning_rate': 0.12038512579513297, 'depth': 6, 'min_data_in_leaf': 2, 'l2_leaf_reg': 2.5067375678556405, 'random_strength': 7.138603361918673, 'bagging_temperature': 7.945176670763587, 'border_count': 282, 'scale_pos_weight': 2.9849459763592234, 'grow_policy': 'Depthwise'}. Best is trial 0 with value: 0.22614840989399293.\n",
      "[I 2024-09-28 21:26:28,191] Trial 4 finished with value: 0.2005371530886302 and parameters: {'iterations': 4133, 'learning_rate': 0.1901997540229757, 'depth': 4, 'min_data_in_leaf': 5, 'l2_leaf_reg': 7.698376075129248, 'random_strength': 9.869402377076652, 'bagging_temperature': 8.60282584385193, 'border_count': 178, 'scale_pos_weight': 9.033897765916748, 'grow_policy': 'Lossguide'}. Best is trial 0 with value: 0.22614840989399293.\n",
      "[I 2024-09-28 21:27:34,074] Trial 5 finished with value: 0.23412204234122042 and parameters: {'iterations': 4047, 'learning_rate': 0.13268413628295184, 'depth': 8, 'min_data_in_leaf': 5, 'l2_leaf_reg': 2.542191497776931, 'random_strength': 0.6667902912862067, 'bagging_temperature': 6.380429931302613, 'border_count': 157, 'scale_pos_weight': 8.916004954281053, 'grow_policy': 'Lossguide'}. Best is trial 5 with value: 0.23412204234122042.\n",
      "[I 2024-09-28 21:29:42,159] Trial 6 finished with value: 0.22774869109947646 and parameters: {'iterations': 4375, 'learning_rate': 0.010420215040093828, 'depth': 10, 'min_data_in_leaf': 3, 'l2_leaf_reg': 1.1241408183988555, 'random_strength': 7.071934739361616, 'bagging_temperature': 9.151169182653845, 'border_count': 128, 'scale_pos_weight': 3.103993405620786, 'grow_policy': 'SymmetricTree'}. Best is trial 5 with value: 0.23412204234122042.\n",
      "[I 2024-09-28 21:30:26,116] Trial 7 finished with value: 0.25309491059147177 and parameters: {'iterations': 2798, 'learning_rate': 0.07404975246611074, 'depth': 7, 'min_data_in_leaf': 3, 'l2_leaf_reg': 1.7303360249992912, 'random_strength': 8.596699111970546, 'bagging_temperature': 5.806465517306194, 'border_count': 171, 'scale_pos_weight': 2.303297678720578, 'grow_policy': 'Lossguide'}. Best is trial 7 with value: 0.25309491059147177.\n",
      "[I 2024-09-28 21:31:25,414] Trial 8 finished with value: 0.24793388429752064 and parameters: {'iterations': 4053, 'learning_rate': 0.0038842747772477757, 'depth': 7, 'min_data_in_leaf': 2, 'l2_leaf_reg': 6.244213014123378, 'random_strength': 9.445096724740448, 'bagging_temperature': 3.9850122822146528, 'border_count': 266, 'scale_pos_weight': 2.9934285609741114, 'grow_policy': 'Depthwise'}. Best is trial 7 with value: 0.25309491059147177.\n",
      "[I 2024-09-28 21:32:26,601] Trial 9 finished with value: 0.23918575063613232 and parameters: {'iterations': 3739, 'learning_rate': 0.14948280417222057, 'depth': 8, 'min_data_in_leaf': 4, 'l2_leaf_reg': 1.680465707863553, 'random_strength': 6.728595813112489, 'bagging_temperature': 6.871486240552466, 'border_count': 242, 'scale_pos_weight': 7.416648427784782, 'grow_policy': 'Lossguide'}. Best is trial 7 with value: 0.25309491059147177.\n",
      "[I 2024-09-28 21:33:09,323] Trial 10 finished with value: 0.24962406015037594 and parameters: {'iterations': 2864, 'learning_rate': 0.06602216325547057, 'depth': 13, 'min_data_in_leaf': 1, 'l2_leaf_reg': 1.7855014566925262, 'random_strength': 3.6458904578480444, 'bagging_temperature': 4.26578349256571, 'border_count': 131, 'scale_pos_weight': 1.463132696418823, 'grow_policy': 'Lossguide'}. Best is trial 7 with value: 0.25309491059147177.\n",
      "[I 2024-09-28 21:33:52,498] Trial 11 finished with value: 0.23975720789074356 and parameters: {'iterations': 2920, 'learning_rate': 0.06556357804181093, 'depth': 13, 'min_data_in_leaf': 1, 'l2_leaf_reg': 1.6676514342853628, 'random_strength': 3.7703731845368527, 'bagging_temperature': 3.97684357144079, 'border_count': 134, 'scale_pos_weight': 1.1666837404344932, 'grow_policy': 'Lossguide'}. Best is trial 7 with value: 0.25309491059147177.\n",
      "[I 2024-09-28 21:34:33,988] Trial 12 finished with value: 0.250386398763524 and parameters: {'iterations': 2777, 'learning_rate': 0.0666574674344785, 'depth': 13, 'min_data_in_leaf': 1, 'l2_leaf_reg': 1.7562566029938014, 'random_strength': 3.4372518991432615, 'bagging_temperature': 2.129771323995768, 'border_count': 165, 'scale_pos_weight': 1.1187457811500816, 'grow_policy': 'Lossguide'}. Best is trial 7 with value: 0.25309491059147177.\n",
      "[I 2024-09-28 21:35:14,181] Trial 13 finished with value: 0.2484662576687117 and parameters: {'iterations': 2790, 'learning_rate': 0.0676829840427583, 'depth': 11, 'min_data_in_leaf': 2, 'l2_leaf_reg': 1.47294952584292, 'random_strength': 1.2990635595300848, 'bagging_temperature': 2.0390989566812228, 'border_count': 172, 'scale_pos_weight': 1.0581409189773854, 'grow_policy': 'Lossguide'}. Best is trial 7 with value: 0.25309491059147177.\n",
      "[I 2024-09-28 21:35:47,947] Trial 14 finished with value: 0.2298288508557457 and parameters: {'iterations': 2164, 'learning_rate': 0.09389740620405707, 'depth': 10, 'min_data_in_leaf': 1, 'l2_leaf_reg': 4.15993771051137, 'random_strength': 4.040389741092619, 'bagging_temperature': 2.364526977413332, 'border_count': 195, 'scale_pos_weight': 4.811331669032885, 'grow_policy': 'Lossguide'}. Best is trial 7 with value: 0.25309491059147177.\n",
      "[I 2024-09-28 21:39:50,857] Trial 15 finished with value: 0.2085048010973937 and parameters: {'iterations': 4894, 'learning_rate': 0.03847531935863725, 'depth': 11, 'min_data_in_leaf': 4, 'l2_leaf_reg': 2.2229093574279517, 'random_strength': 8.459326838219159, 'bagging_temperature': 5.338719262537858, 'border_count': 164, 'scale_pos_weight': 6.271473368958651, 'grow_policy': 'SymmetricTree'}. Best is trial 7 with value: 0.25309491059147177.\n",
      "[I 2024-09-28 21:40:44,132] Trial 16 finished with value: 0.2300884955752212 and parameters: {'iterations': 3355, 'learning_rate': 0.09084463068105668, 'depth': 5, 'min_data_in_leaf': 2, 'l2_leaf_reg': 1.3299355482035766, 'random_strength': 5.031985036459316, 'bagging_temperature': 0.12349182009575, 'border_count': 194, 'scale_pos_weight': 2.218505729638302, 'grow_policy': 'Lossguide'}. Best is trial 7 with value: 0.25309491059147177.\n",
      "[I 2024-09-28 21:41:22,475] Trial 17 finished with value: 0.2723521320495186 and parameters: {'iterations': 2504, 'learning_rate': 0.041461791559204625, 'depth': 10, 'min_data_in_leaf': 3, 'l2_leaf_reg': 2.0687217012126298, 'random_strength': 2.004532609124659, 'bagging_temperature': 5.718354853576793, 'border_count': 152, 'scale_pos_weight': 2.188258968099832, 'grow_policy': 'Lossguide'}. Best is trial 17 with value: 0.2723521320495186.\n",
      "[I 2024-09-28 21:42:18,704] Trial 18 finished with value: 0.24581005586592175 and parameters: {'iterations': 2101, 'learning_rate': 0.03205300548111231, 'depth': 10, 'min_data_in_leaf': 3, 'l2_leaf_reg': 3.2493837841380264, 'random_strength': 1.7092377389644908, 'bagging_temperature': 5.873983088596116, 'border_count': 152, 'scale_pos_weight': 2.4859824914700304, 'grow_policy': 'Depthwise'}. Best is trial 17 with value: 0.2723521320495186.\n"
     ]
    },
    {
     "name": "stderr",
     "output_type": "stream",
     "text": [
      "[I 2024-09-28 21:43:14,552] Trial 19 finished with value: 0.213406292749658 and parameters: {'iterations': 3358, 'learning_rate': 0.049545579171948656, 'depth': 9, 'min_data_in_leaf': 4, 'l2_leaf_reg': 2.0447668625702655, 'random_strength': 8.801924843527562, 'bagging_temperature': 5.107423535375196, 'border_count': 211, 'scale_pos_weight': 3.995902911875188, 'grow_policy': 'SymmetricTree'}. Best is trial 17 with value: 0.2723521320495186.\n",
      "[I 2024-09-28 21:43:43,341] Trial 20 finished with value: 0.23109243697478993 and parameters: {'iterations': 1743, 'learning_rate': 0.10635693486578923, 'depth': 6, 'min_data_in_leaf': 3, 'l2_leaf_reg': 3.306712544126854, 'random_strength': 0.07499004497755202, 'bagging_temperature': 7.0639409341162285, 'border_count': 149, 'scale_pos_weight': 6.59149106322385, 'grow_policy': 'Lossguide'}. Best is trial 17 with value: 0.2723521320495186.\n",
      "[I 2024-09-28 21:44:21,993] Trial 21 finished with value: 0.24892703862660942 and parameters: {'iterations': 2584, 'learning_rate': 0.07787774276165202, 'depth': 12, 'min_data_in_leaf': 3, 'l2_leaf_reg': 1.3203728979233678, 'random_strength': 2.608740148954464, 'bagging_temperature': 2.754854490740005, 'border_count': 183, 'scale_pos_weight': 1.8791298405229881, 'grow_policy': 'Lossguide'}. Best is trial 17 with value: 0.2723521320495186.\n",
      "[I 2024-09-28 21:45:12,509] Trial 22 finished with value: 0.24536376604850216 and parameters: {'iterations': 3354, 'learning_rate': 0.043441092217366604, 'depth': 12, 'min_data_in_leaf': 2, 'l2_leaf_reg': 1.9962275651995611, 'random_strength': 2.7234448145479524, 'bagging_temperature': 3.2535835273790874, 'border_count': 146, 'scale_pos_weight': 2.061549072025412, 'grow_policy': 'Lossguide'}. Best is trial 17 with value: 0.2723521320495186.\n",
      "[I 2024-09-28 21:45:54,504] Trial 23 finished with value: 0.2455357142857143 and parameters: {'iterations': 2542, 'learning_rate': 0.024983335455780242, 'depth': 12, 'min_data_in_leaf': 1, 'l2_leaf_reg': 2.6917910189877086, 'random_strength': 5.630388714050012, 'bagging_temperature': 5.811649804179551, 'border_count': 170, 'scale_pos_weight': 3.4478082345187593, 'grow_policy': 'Lossguide'}. Best is trial 17 with value: 0.2723521320495186.\n",
      "[I 2024-09-28 21:46:41,969] Trial 24 finished with value: 0.25068870523415976 and parameters: {'iterations': 3111, 'learning_rate': 0.05756505759905964, 'depth': 9, 'min_data_in_leaf': 3, 'l2_leaf_reg': 1.4728699616585745, 'random_strength': 4.325027025029364, 'bagging_temperature': 1.4799664134569914, 'border_count': 187, 'scale_pos_weight': 2.3803119330621874, 'grow_policy': 'Lossguide'}. Best is trial 17 with value: 0.2723521320495186.\n",
      "[I 2024-09-28 21:47:30,926] Trial 25 finished with value: 0.23848238482384826 and parameters: {'iterations': 3152, 'learning_rate': 0.08208867101882066, 'depth': 9, 'min_data_in_leaf': 3, 'l2_leaf_reg': 1.2643311041782068, 'random_strength': 4.622134527301064, 'bagging_temperature': 4.380981195090637, 'border_count': 215, 'scale_pos_weight': 4.80029222423442, 'grow_policy': 'Lossguide'}. Best is trial 17 with value: 0.2723521320495186.\n",
      "[I 2024-09-28 21:48:09,734] Trial 26 finished with value: 0.24494949494949497 and parameters: {'iterations': 2393, 'learning_rate': 0.04673188459728539, 'depth': 7, 'min_data_in_leaf': 4, 'l2_leaf_reg': 1.4931260143317293, 'random_strength': 8.184448478284486, 'bagging_temperature': 6.3128769221058105, 'border_count': 184, 'scale_pos_weight': 2.534684431464948, 'grow_policy': 'Lossguide'}. Best is trial 17 with value: 0.2723521320495186.\n",
      "[I 2024-09-28 21:48:34,679] Trial 27 finished with value: 0.24408468244084683 and parameters: {'iterations': 1613, 'learning_rate': 0.10917465761332265, 'depth': 9, 'min_data_in_leaf': 3, 'l2_leaf_reg': 2.2415274416959945, 'random_strength': 6.199780073040036, 'bagging_temperature': 1.0844177311873273, 'border_count': 143, 'scale_pos_weight': 4.072419931580592, 'grow_policy': 'Lossguide'}. Best is trial 17 with value: 0.2723521320495186.\n",
      "[I 2024-09-28 21:49:19,756] Trial 28 finished with value: 0.24316939890710382 and parameters: {'iterations': 3686, 'learning_rate': 0.0241249939575926, 'depth': 6, 'min_data_in_leaf': 3, 'l2_leaf_reg': 1.1157923054921015, 'random_strength': 7.6355632814946395, 'bagging_temperature': 4.8124429140230625, 'border_count': 204, 'scale_pos_weight': 1.7258585445622148, 'grow_policy': 'Depthwise'}. Best is trial 17 with value: 0.2723521320495186.\n",
      "[I 2024-09-28 21:50:49,215] Trial 29 finished with value: 0.21689785624211855 and parameters: {'iterations': 1829, 'learning_rate': 0.055575451024067184, 'depth': 11, 'min_data_in_leaf': 4, 'l2_leaf_reg': 4.233077631413708, 'random_strength': 4.563799800424738, 'bagging_temperature': 9.736953455389777, 'border_count': 186, 'scale_pos_weight': 5.46454503147598, 'grow_policy': 'SymmetricTree'}. Best is trial 17 with value: 0.2723521320495186.\n",
      "[I 2024-09-28 21:51:34,600] Trial 30 finished with value: 0.2316043425814234 and parameters: {'iterations': 3115, 'learning_rate': 0.08205125990322587, 'depth': 7, 'min_data_in_leaf': 2, 'l2_leaf_reg': 1.5156066953785097, 'random_strength': 1.8419788365174972, 'bagging_temperature': 3.337616174940674, 'border_count': 227, 'scale_pos_weight': 7.850440115602813, 'grow_policy': 'Depthwise'}. Best is trial 17 with value: 0.2723521320495186.\n",
      "[I 2024-09-28 21:52:14,531] Trial 31 finished with value: 0.2527472527472527 and parameters: {'iterations': 2631, 'learning_rate': 0.06015327562160463, 'depth': 10, 'min_data_in_leaf': 4, 'l2_leaf_reg': 1.8970064979290755, 'random_strength': 3.4366894723502597, 'bagging_temperature': 1.860429135906808, 'border_count': 163, 'scale_pos_weight': 2.6582839099164923, 'grow_policy': 'Lossguide'}. Best is trial 17 with value: 0.2723521320495186.\n",
      "[I 2024-09-28 21:52:52,507] Trial 32 finished with value: 0.23711340206185566 and parameters: {'iterations': 2434, 'learning_rate': 0.053179050540695, 'depth': 10, 'min_data_in_leaf': 4, 'l2_leaf_reg': 1.8546385583547433, 'random_strength': 2.9399819142517827, 'bagging_temperature': 0.6599123459014096, 'border_count': 158, 'scale_pos_weight': 3.4661982860417186, 'grow_policy': 'Lossguide'}. Best is trial 17 with value: 0.2723521320495186.\n",
      "[I 2024-09-28 21:53:41,722] Trial 33 finished with value: 0.25203252032520324 and parameters: {'iterations': 3089, 'learning_rate': 0.02511600353600142, 'depth': 9, 'min_data_in_leaf': 4, 'l2_leaf_reg': 2.7969013122887434, 'random_strength': 5.322832356239669, 'bagging_temperature': 1.4820007925126417, 'border_count': 175, 'scale_pos_weight': 2.295692832485948, 'grow_policy': 'Lossguide'}. Best is trial 17 with value: 0.2723521320495186.\n",
      "[I 2024-09-28 21:54:17,854] Trial 34 finished with value: 0.24782608695652172 and parameters: {'iterations': 2030, 'learning_rate': 0.014401029477716001, 'depth': 8, 'min_data_in_leaf': 5, 'l2_leaf_reg': 3.648007387897803, 'random_strength': 5.564251639650358, 'bagging_temperature': 1.5902107943418389, 'border_count': 175, 'scale_pos_weight': 2.88853509575774, 'grow_policy': 'Lossguide'}. Best is trial 17 with value: 0.2723521320495186.\n",
      "[I 2024-09-28 21:54:59,595] Trial 35 finished with value: 0.24035281146637263 and parameters: {'iterations': 2588, 'learning_rate': 0.024888390180823936, 'depth': 10, 'min_data_in_leaf': 4, 'l2_leaf_reg': 2.5366457054528135, 'random_strength': 2.2839875720504397, 'bagging_temperature': 3.253783548920903, 'border_count': 142, 'scale_pos_weight': 3.5261304679633474, 'grow_policy': 'Lossguide'}. Best is trial 17 with value: 0.2723521320495186.\n",
      "[I 2024-09-28 21:55:21,112] Trial 36 finished with value: 0.2541106128550074 and parameters: {'iterations': 1319, 'learning_rate': 0.03804348496655533, 'depth': 9, 'min_data_in_leaf': 5, 'l2_leaf_reg': 2.749680097194859, 'random_strength': 3.259188925037562, 'bagging_temperature': 7.278835256781963, 'border_count': 160, 'scale_pos_weight': 1.6723908943897046, 'grow_policy': 'Lossguide'}. Best is trial 17 with value: 0.2723521320495186.\n",
      "[I 2024-09-28 21:55:32,943] Trial 37 finished with value: 0.22546161321671523 and parameters: {'iterations': 1035, 'learning_rate': 0.18543569514883512, 'depth': 8, 'min_data_in_leaf': 5, 'l2_leaf_reg': 5.526463539320467, 'random_strength': 3.122939258619107, 'bagging_temperature': 8.279334681373522, 'border_count': 159, 'scale_pos_weight': 9.935115727480676, 'grow_policy': 'SymmetricTree'}. Best is trial 17 with value: 0.2723521320495186.\n"
     ]
    },
    {
     "name": "stderr",
     "output_type": "stream",
     "text": [
      "[I 2024-09-28 21:55:53,558] Trial 38 finished with value: 0.24225352112676057 and parameters: {'iterations': 1318, 'learning_rate': 0.07463018380817037, 'depth': 5, 'min_data_in_leaf': 5, 'l2_leaf_reg': 2.20648430825313, 'random_strength': 0.7099597845819461, 'bagging_temperature': 7.173120086491, 'border_count': 299, 'scale_pos_weight': 1.4957389359717408, 'grow_policy': 'Lossguide'}. Best is trial 17 with value: 0.2723521320495186.\n",
      "[I 2024-09-28 21:56:39,752] Trial 39 finished with value: 0.23835616438356164 and parameters: {'iterations': 1510, 'learning_rate': 0.033331346436241444, 'depth': 11, 'min_data_in_leaf': 5, 'l2_leaf_reg': 2.820679591157496, 'random_strength': 2.0640584000918047, 'bagging_temperature': 7.708649257454899, 'border_count': 140, 'scale_pos_weight': 2.7426295772305522, 'grow_policy': 'Depthwise'}. Best is trial 17 with value: 0.2723521320495186.\n",
      "[I 2024-09-28 21:57:37,356] Trial 40 finished with value: 0.2409972299168975 and parameters: {'iterations': 3672, 'learning_rate': 0.1278867450700052, 'depth': 7, 'min_data_in_leaf': 4, 'l2_leaf_reg': 2.3625937757456033, 'random_strength': 1.3056521396083154, 'bagging_temperature': 6.461670420127046, 'border_count': 260, 'scale_pos_weight': 1.8604430296408063, 'grow_policy': 'Lossguide'}. Best is trial 17 with value: 0.2723521320495186.\n",
      "[I 2024-09-28 21:57:52,390] Trial 41 finished with value: 0.23003802281368824 and parameters: {'iterations': 827, 'learning_rate': 0.015682861770545814, 'depth': 9, 'min_data_in_leaf': 5, 'l2_leaf_reg': 2.8899390957982183, 'random_strength': 5.1354462581387885, 'bagging_temperature': 9.117167421409595, 'border_count': 166, 'scale_pos_weight': 3.111449970095144, 'grow_policy': 'Lossguide'}. Best is trial 17 with value: 0.2723521320495186.\n",
      "[I 2024-09-28 21:58:29,833] Trial 42 finished with value: 0.24643320363164722 and parameters: {'iterations': 2304, 'learning_rate': 0.038722952807637635, 'depth': 8, 'min_data_in_leaf': 4, 'l2_leaf_reg': 8.67201192158866, 'random_strength': 3.29053938476871, 'bagging_temperature': 5.6059606760903815, 'border_count': 176, 'scale_pos_weight': 2.160744239534361, 'grow_policy': 'Lossguide'}. Best is trial 17 with value: 0.2723521320495186.\n",
      "[I 2024-09-28 21:59:02,892] Trial 43 finished with value: 0.2008032128514056 and parameters: {'iterations': 1893, 'learning_rate': 0.0017247347565042329, 'depth': 10, 'min_data_in_leaf': 3, 'l2_leaf_reg': 3.5887908998170217, 'random_strength': 6.649238854007303, 'bagging_temperature': 7.4068270146055974, 'border_count': 155, 'scale_pos_weight': 1.5269333929350772, 'grow_policy': 'Lossguide'}. Best is trial 17 with value: 0.2723521320495186.\n",
      "[I 2024-09-28 21:59:21,424] Trial 44 finished with value: 0.23218390804597702 and parameters: {'iterations': 1128, 'learning_rate': 0.060121808203893096, 'depth': 9, 'min_data_in_leaf': 4, 'l2_leaf_reg': 1.9352683615045203, 'random_strength': 9.349563956026588, 'bagging_temperature': 4.846788428701969, 'border_count': 203, 'scale_pos_weight': 3.1726355947570752, 'grow_policy': 'Lossguide'}. Best is trial 17 with value: 0.2723521320495186.\n",
      "[I 2024-09-28 22:00:11,551] Trial 45 finished with value: 0.22719449225473323 and parameters: {'iterations': 2964, 'learning_rate': 0.017583394760815434, 'depth': 8, 'min_data_in_leaf': 3, 'l2_leaf_reg': 2.992365411872389, 'random_strength': 3.9420634067477436, 'bagging_temperature': 6.588010536715949, 'border_count': 136, 'scale_pos_weight': 4.533768781810267, 'grow_policy': 'Lossguide'}. Best is trial 17 with value: 0.2723521320495186.\n",
      "[I 2024-09-28 22:01:04,703] Trial 46 finished with value: 0.24615384615384614 and parameters: {'iterations': 3510, 'learning_rate': 0.03139549952832958, 'depth': 10, 'min_data_in_leaf': 5, 'l2_leaf_reg': 2.491330185638929, 'random_strength': 7.470445362052539, 'bagging_temperature': 8.06925675890523, 'border_count': 164, 'scale_pos_weight': 1.319776915417395, 'grow_policy': 'Lossguide'}. Best is trial 17 with value: 0.2723521320495186.\n",
      "[I 2024-09-28 22:01:45,087] Trial 47 finished with value: 0.2465373961218836 and parameters: {'iterations': 2676, 'learning_rate': 0.07048811849174297, 'depth': 11, 'min_data_in_leaf': 4, 'l2_leaf_reg': 1.6027164587463827, 'random_strength': 9.894383655684697, 'bagging_temperature': 6.129615935881837, 'border_count': 128, 'scale_pos_weight': 2.755548394626119, 'grow_policy': 'Lossguide'}. Best is trial 17 with value: 0.2723521320495186.\n",
      "[I 2024-09-28 22:02:20,199] Trial 48 finished with value: 0.22716627634660422 and parameters: {'iterations': 3915, 'learning_rate': 0.04397437404841255, 'depth': 7, 'min_data_in_leaf': 3, 'l2_leaf_reg': 2.0990061739437524, 'random_strength': 1.3555100202339387, 'bagging_temperature': 0.426525185330787, 'border_count': 179, 'scale_pos_weight': 3.8375351887419167, 'grow_policy': 'SymmetricTree'}. Best is trial 17 with value: 0.2723521320495186.\n",
      "[I 2024-09-28 22:03:24,896] Trial 49 finished with value: 0.24891461649782923 and parameters: {'iterations': 4284, 'learning_rate': 0.09262726385699134, 'depth': 9, 'min_data_in_leaf': 2, 'l2_leaf_reg': 1.7782751114155342, 'random_strength': 3.554994642804466, 'bagging_temperature': 8.695355922990057, 'border_count': 192, 'scale_pos_weight': 2.276753338177898, 'grow_policy': 'Lossguide'}. Best is trial 17 with value: 0.2723521320495186.\n",
      "[I 2024-09-28 22:03:59,888] Trial 50 finished with value: 0.25477707006369427 and parameters: {'iterations': 2933, 'learning_rate': 0.008016267977745167, 'depth': 6, 'min_data_in_leaf': 4, 'l2_leaf_reg': 1.0068738967588264, 'random_strength': 6.150526334550085, 'bagging_temperature': 5.525897706881141, 'border_count': 149, 'scale_pos_weight': 1.722489889026789, 'grow_policy': 'Depthwise'}. Best is trial 17 with value: 0.2723521320495186.\n",
      "[I 2024-09-28 22:04:35,815] Trial 51 finished with value: 0.2660406885758998 and parameters: {'iterations': 3011, 'learning_rate': 0.007972865025390382, 'depth': 6, 'min_data_in_leaf': 4, 'l2_leaf_reg': 1.0236368214247835, 'random_strength': 5.947161714976147, 'bagging_temperature': 5.445255410679291, 'border_count': 148, 'scale_pos_weight': 1.7658497111361484, 'grow_policy': 'Depthwise'}. Best is trial 17 with value: 0.2723521320495186.\n",
      "[I 2024-09-28 22:05:09,726] Trial 52 finished with value: 0.23908918406072108 and parameters: {'iterations': 2855, 'learning_rate': 0.005095402129320298, 'depth': 6, 'min_data_in_leaf': 3, 'l2_leaf_reg': 1.0577367095305743, 'random_strength': 5.933460786583726, 'bagging_temperature': 5.394895295950228, 'border_count': 151, 'scale_pos_weight': 1.0722405400389057, 'grow_policy': 'Depthwise'}. Best is trial 17 with value: 0.2723521320495186.\n",
      "[I 2024-09-28 22:05:36,819] Trial 53 finished with value: 0.265625 and parameters: {'iterations': 2736, 'learning_rate': 0.0090708371556938, 'depth': 5, 'min_data_in_leaf': 4, 'l2_leaf_reg': 1.003511604075656, 'random_strength': 6.375400796554923, 'bagging_temperature': 4.054665333962009, 'border_count': 161, 'scale_pos_weight': 1.84027180233785, 'grow_policy': 'Depthwise'}. Best is trial 17 with value: 0.2723521320495186.\n",
      "[I 2024-09-28 22:05:59,139] Trial 54 finished with value: 0.25511811023622044 and parameters: {'iterations': 2272, 'learning_rate': 0.012645315579101379, 'depth': 5, 'min_data_in_leaf': 5, 'l2_leaf_reg': 1.0125271493542718, 'random_strength': 6.325011147856554, 'bagging_temperature': 4.143372587997579, 'border_count': 136, 'scale_pos_weight': 1.726053224993868, 'grow_policy': 'Depthwise'}. Best is trial 17 with value: 0.2723521320495186.\n",
      "[I 2024-09-28 22:06:17,977] Trial 55 finished with value: 0.25210084033613445 and parameters: {'iterations': 2295, 'learning_rate': 0.010646589757878987, 'depth': 4, 'min_data_in_leaf': 5, 'l2_leaf_reg': 1.0252947172031175, 'random_strength': 6.4477839008380275, 'bagging_temperature': 3.7205440185915926, 'border_count': 137, 'scale_pos_weight': 1.6849897185192022, 'grow_policy': 'Depthwise'}. Best is trial 17 with value: 0.2723521320495186.\n",
      "[I 2024-09-28 22:06:38,268] Trial 56 finished with value: 0.2004008016032064 and parameters: {'iterations': 2005, 'learning_rate': 0.0010999762772758107, 'depth': 5, 'min_data_in_leaf': 5, 'l2_leaf_reg': 1.2167455406675496, 'random_strength': 7.171552241774236, 'bagging_temperature': 5.064943963174606, 'border_count': 150, 'scale_pos_weight': 1.9205917203521892, 'grow_policy': 'Depthwise'}. Best is trial 17 with value: 0.2723521320495186.\n"
     ]
    },
    {
     "name": "stderr",
     "output_type": "stream",
     "text": [
      "[I 2024-09-28 22:07:10,087] Trial 57 finished with value: 0.2526636225266362 and parameters: {'iterations': 3245, 'learning_rate': 0.018716315248108344, 'depth': 5, 'min_data_in_leaf': 5, 'l2_leaf_reg': 1.2080944891439225, 'random_strength': 6.006384454532739, 'bagging_temperature': 4.494595166489414, 'border_count': 133, 'scale_pos_weight': 1.5064696429659383, 'grow_policy': 'Depthwise'}. Best is trial 17 with value: 0.2723521320495186.\n",
      "[I 2024-09-28 22:07:30,405] Trial 58 finished with value: 0.2392523364485981 and parameters: {'iterations': 2471, 'learning_rate': 0.010898504829554186, 'depth': 4, 'min_data_in_leaf': 5, 'l2_leaf_reg': 1.1543792634285646, 'random_strength': 6.835006609366678, 'bagging_temperature': 3.776000964909513, 'border_count': 146, 'scale_pos_weight': 1.0584003459626345, 'grow_policy': 'Depthwise'}. Best is trial 17 with value: 0.2723521320495186.\n",
      "[I 2024-09-28 22:08:04,874] Trial 59 finished with value: 0.25588235294117645 and parameters: {'iterations': 2903, 'learning_rate': 0.008917882672223746, 'depth': 6, 'min_data_in_leaf': 4, 'l2_leaf_reg': 1.0048554815054955, 'random_strength': 7.743054565899677, 'bagging_temperature': 2.740026673132061, 'border_count': 156, 'scale_pos_weight': 1.932211898835694, 'grow_policy': 'Depthwise'}. Best is trial 17 with value: 0.2723521320495186.\n",
      "[I 2024-09-28 22:08:40,666] Trial 60 finished with value: 0.2565597667638484 and parameters: {'iterations': 2981, 'learning_rate': 0.021192374435801756, 'depth': 6, 'min_data_in_leaf': 4, 'l2_leaf_reg': 1.0179725470546601, 'random_strength': 7.883424133496107, 'bagging_temperature': 2.432948600944817, 'border_count': 155, 'scale_pos_weight': 1.3824611119380819, 'grow_policy': 'Depthwise'}. Best is trial 17 with value: 0.2723521320495186.\n",
      "[I 2024-09-28 22:09:16,217] Trial 61 finished with value: 0.2575976845151954 and parameters: {'iterations': 2969, 'learning_rate': 0.008853092845183187, 'depth': 6, 'min_data_in_leaf': 4, 'l2_leaf_reg': 1.0124250432327928, 'random_strength': 7.926410553534015, 'bagging_temperature': 2.6598464766840917, 'border_count': 156, 'scale_pos_weight': 1.9972930084068117, 'grow_policy': 'Depthwise'}. Best is trial 17 with value: 0.2723521320495186.\n",
      "[I 2024-09-28 22:09:49,180] Trial 62 finished with value: 0.24115334207077327 and parameters: {'iterations': 2736, 'learning_rate': 0.01985864241578281, 'depth': 6, 'min_data_in_leaf': 4, 'l2_leaf_reg': 1.3632245850762026, 'random_strength': 8.008264862817747, 'bagging_temperature': 2.6301523991486513, 'border_count': 155, 'scale_pos_weight': 2.023344341976823, 'grow_policy': 'Depthwise'}. Best is trial 17 with value: 0.2723521320495186.\n",
      "[I 2024-09-28 22:10:18,631] Trial 63 finished with value: 0.254606365159129 and parameters: {'iterations': 3012, 'learning_rate': 0.009682943098088372, 'depth': 5, 'min_data_in_leaf': 4, 'l2_leaf_reg': 1.1024392116540678, 'random_strength': 8.970744234445096, 'bagging_temperature': 2.6118362970699263, 'border_count': 141, 'scale_pos_weight': 1.432945639189731, 'grow_policy': 'Depthwise'}. Best is trial 17 with value: 0.2723521320495186.\n",
      "[I 2024-09-28 22:10:45,304] Trial 64 finished with value: 0.24434389140271492 and parameters: {'iterations': 2783, 'learning_rate': 0.029541995434793376, 'depth': 5, 'min_data_in_leaf': 4, 'l2_leaf_reg': 1.0010136184048104, 'random_strength': 7.785722731876613, 'bagging_temperature': 4.0657883095733975, 'border_count': 128, 'scale_pos_weight': 1.2936774275712306, 'grow_policy': 'Depthwise'}. Best is trial 17 with value: 0.2723521320495186.\n",
      "[I 2024-09-28 22:11:27,193] Trial 65 finished with value: 0.2454308093994778 and parameters: {'iterations': 3492, 'learning_rate': 0.021219166665960874, 'depth': 6, 'min_data_in_leaf': 4, 'l2_leaf_reg': 1.3797085138729066, 'random_strength': 8.308000452066754, 'bagging_temperature': 2.9984731422017203, 'border_count': 167, 'scale_pos_weight': 2.053608172570125, 'grow_policy': 'Depthwise'}. Best is trial 17 with value: 0.2723521320495186.\n",
      "[I 2024-09-28 22:11:53,245] Trial 66 finished with value: 0.24849215922798557 and parameters: {'iterations': 3252, 'learning_rate': 0.01380954132793798, 'depth': 4, 'min_data_in_leaf': 4, 'l2_leaf_reg': 1.1713138070827074, 'random_strength': 7.368376338271901, 'bagging_temperature': 2.331232151286545, 'border_count': 145, 'scale_pos_weight': 2.528749462269041, 'grow_policy': 'Depthwise'}. Best is trial 17 with value: 0.2723521320495186.\n",
      "[I 2024-09-28 22:12:14,968] Trial 67 finished with value: 0.23871906841339155 and parameters: {'iterations': 2182, 'learning_rate': 0.0060575696306218365, 'depth': 5, 'min_data_in_leaf': 3, 'l2_leaf_reg': 1.0936898334126521, 'random_strength': 6.9079231361051985, 'bagging_temperature': 3.620036261503585, 'border_count': 154, 'scale_pos_weight': 2.3118334982019437, 'grow_policy': 'Depthwise'}. Best is trial 17 with value: 0.2723521320495186.\n",
      "[I 2024-09-28 22:12:45,136] Trial 68 finished with value: 0.21095334685598377 and parameters: {'iterations': 2504, 'learning_rate': 0.03535434791280111, 'depth': 6, 'min_data_in_leaf': 4, 'l2_leaf_reg': 1.2705842204837225, 'random_strength': 6.600204668068221, 'bagging_temperature': 4.591171331270914, 'border_count': 136, 'scale_pos_weight': 5.464022297115091, 'grow_policy': 'Depthwise'}. Best is trial 17 with value: 0.2723521320495186.\n",
      "[I 2024-09-28 22:13:28,533] Trial 69 finished with value: 0.2363636363636364 and parameters: {'iterations': 2863, 'learning_rate': 0.027938896446191845, 'depth': 7, 'min_data_in_leaf': 4, 'l2_leaf_reg': 1.0860177596028406, 'random_strength': 7.2204771130097125, 'bagging_temperature': 3.0247710568161668, 'border_count': 170, 'scale_pos_weight': 3.2023999543092234, 'grow_policy': 'Depthwise'}. Best is trial 17 with value: 0.2723521320495186.\n",
      "[I 2024-09-28 22:13:56,583] Trial 70 finished with value: 0.24312590448625185 and parameters: {'iterations': 2368, 'learning_rate': 0.15799335182981356, 'depth': 6, 'min_data_in_leaf': 3, 'l2_leaf_reg': 1.385529688757294, 'random_strength': 8.609676271972923, 'bagging_temperature': 1.154159388982801, 'border_count': 237, 'scale_pos_weight': 1.0165001764345492, 'grow_policy': 'Depthwise'}. Best is trial 17 with value: 0.2723521320495186.\n",
      "[I 2024-09-28 22:14:31,411] Trial 71 finished with value: 0.2552504038772213 and parameters: {'iterations': 2948, 'learning_rate': 0.007436612483448228, 'depth': 6, 'min_data_in_leaf': 4, 'l2_leaf_reg': 1.0035183843531097, 'random_strength': 6.270972261786119, 'bagging_temperature': 5.350947711658907, 'border_count': 150, 'scale_pos_weight': 1.6778938214207995, 'grow_policy': 'Depthwise'}. Best is trial 17 with value: 0.2723521320495186.\n",
      "[I 2024-09-28 22:15:03,016] Trial 72 finished with value: 0.26571428571428574 and parameters: {'iterations': 3237, 'learning_rate': 0.014818214043755027, 'depth': 5, 'min_data_in_leaf': 4, 'l2_leaf_reg': 1.1842271757967406, 'random_strength': 5.771765630184129, 'bagging_temperature': 4.226290909161428, 'border_count': 159, 'scale_pos_weight': 1.843959751762316, 'grow_policy': 'Depthwise'}. Best is trial 17 with value: 0.2723521320495186.\n",
      "[I 2024-09-28 22:15:44,538] Trial 73 finished with value: 0.24483775811209438 and parameters: {'iterations': 3495, 'learning_rate': 0.020731362811253456, 'depth': 6, 'min_data_in_leaf': 4, 'l2_leaf_reg': 1.2419386322197647, 'random_strength': 5.809228026569887, 'bagging_temperature': 6.066476739187626, 'border_count': 158, 'scale_pos_weight': 1.2908122902269372, 'grow_policy': 'Depthwise'}. Best is trial 17 with value: 0.2723521320495186.\n",
      "[I 2024-09-28 22:16:22,279] Trial 74 finished with value: 0.2582496413199426 and parameters: {'iterations': 3190, 'learning_rate': 0.00654337380051616, 'depth': 6, 'min_data_in_leaf': 4, 'l2_leaf_reg': 1.151931077684439, 'random_strength': 5.462234206379219, 'bagging_temperature': 5.178978909875589, 'border_count': 161, 'scale_pos_weight': 2.0506013287453513, 'grow_policy': 'Depthwise'}. Best is trial 17 with value: 0.2723521320495186.\n",
      "[I 2024-09-28 22:17:08,740] Trial 75 finished with value: 0.2195945945945946 and parameters: {'iterations': 3235, 'learning_rate': 0.0013206924317185975, 'depth': 7, 'min_data_in_leaf': 4, 'l2_leaf_reg': 1.1627013880235768, 'random_strength': 5.2522352493128475, 'bagging_temperature': 4.699950618235737, 'border_count': 162, 'scale_pos_weight': 2.5499742883680447, 'grow_policy': 'Depthwise'}. Best is trial 17 with value: 0.2723521320495186.\n"
     ]
    },
    {
     "name": "stderr",
     "output_type": "stream",
     "text": [
      "[I 2024-09-28 22:17:33,302] Trial 76 finished with value: 0.24737945492662475 and parameters: {'iterations': 3042, 'learning_rate': 0.016589349916187636, 'depth': 4, 'min_data_in_leaf': 4, 'l2_leaf_reg': 1.3075374737228487, 'random_strength': 5.597890286409766, 'bagging_temperature': 1.8499032124827028, 'border_count': 181, 'scale_pos_weight': 2.839505692834266, 'grow_policy': 'Depthwise'}. Best is trial 17 with value: 0.2723521320495186.\n",
      "[I 2024-09-28 22:18:06,325] Trial 77 finished with value: 0.2363405336721728 and parameters: {'iterations': 3375, 'learning_rate': 0.02841046789574591, 'depth': 5, 'min_data_in_leaf': 4, 'l2_leaf_reg': 1.0997482536004732, 'random_strength': 4.704250102409622, 'bagging_temperature': 5.14244973243884, 'border_count': 170, 'scale_pos_weight': 2.0203921108814753, 'grow_policy': 'Depthwise'}. Best is trial 17 with value: 0.2723521320495186.\n",
      "[I 2024-09-28 22:18:38,177] Trial 78 finished with value: 0.23873325213154692 and parameters: {'iterations': 2654, 'learning_rate': 0.023247598273611336, 'depth': 6, 'min_data_in_leaf': 4, 'l2_leaf_reg': 1.4457112968488182, 'random_strength': 8.000884883320463, 'bagging_temperature': 3.4501189609318903, 'border_count': 160, 'scale_pos_weight': 2.4380410783455444, 'grow_policy': 'Depthwise'}. Best is trial 17 with value: 0.2723521320495186.\n",
      "[I 2024-09-28 22:19:24,023] Trial 79 finished with value: 0.23595505617977527 and parameters: {'iterations': 3169, 'learning_rate': 0.04095269860468741, 'depth': 7, 'min_data_in_leaf': 4, 'l2_leaf_reg': 1.628392076456754, 'random_strength': 9.098552075618917, 'bagging_temperature': 2.2942821610210333, 'border_count': 145, 'scale_pos_weight': 2.0964422008203027, 'grow_policy': 'Depthwise'}. Best is trial 17 with value: 0.2723521320495186.\n",
      "[I 2024-09-28 22:19:59,619] Trial 80 finished with value: 0.2097649186256781 and parameters: {'iterations': 3597, 'learning_rate': 0.05015787644040978, 'depth': 5, 'min_data_in_leaf': 4, 'l2_leaf_reg': 1.1650071493862413, 'random_strength': 4.353996618620473, 'bagging_temperature': 4.356819056632001, 'border_count': 173, 'scale_pos_weight': 7.253176066524711, 'grow_policy': 'Depthwise'}. Best is trial 17 with value: 0.2723521320495186.\n",
      "[I 2024-09-28 22:20:34,398] Trial 81 finished with value: 0.2535211267605634 and parameters: {'iterations': 2957, 'learning_rate': 0.006958557564945278, 'depth': 6, 'min_data_in_leaf': 4, 'l2_leaf_reg': 1.0562429339814612, 'random_strength': 5.461134104898669, 'bagging_temperature': 5.720959204800276, 'border_count': 152, 'scale_pos_weight': 1.8912710097192005, 'grow_policy': 'Depthwise'}. Best is trial 17 with value: 0.2723521320495186.\n",
      "[I 2024-09-28 22:21:19,473] Trial 82 finished with value: 0.2526002971768202 and parameters: {'iterations': 3810, 'learning_rate': 0.0133771048151758, 'depth': 6, 'min_data_in_leaf': 4, 'l2_leaf_reg': 1.224307603011623, 'random_strength': 4.921410079481112, 'bagging_temperature': 5.257840715053356, 'border_count': 148, 'scale_pos_weight': 1.4392269206650516, 'grow_policy': 'Depthwise'}. Best is trial 17 with value: 0.2723521320495186.\n",
      "[I 2024-09-28 22:21:59,295] Trial 83 finished with value: 0.2532051282051282 and parameters: {'iterations': 3372, 'learning_rate': 0.006562091665698136, 'depth': 6, 'min_data_in_leaf': 4, 'l2_leaf_reg': 1.0633068023151901, 'random_strength': 6.959510439087852, 'bagging_temperature': 6.801810851142969, 'border_count': 155, 'scale_pos_weight': 1.7163384817296374, 'grow_policy': 'Depthwise'}. Best is trial 17 with value: 0.2723521320495186.\n",
      "[I 2024-09-28 22:22:22,478] Trial 84 finished with value: 0.26041666666666663 and parameters: {'iterations': 2723, 'learning_rate': 0.01676322547773819, 'depth': 7, 'min_data_in_leaf': 3, 'l2_leaf_reg': 1.1278384897269147, 'random_strength': 7.7299852973699315, 'bagging_temperature': 2.9379490345828883, 'border_count': 166, 'scale_pos_weight': 1.2583613960845534, 'grow_policy': 'SymmetricTree'}. Best is trial 17 with value: 0.2723521320495186.\n",
      "[I 2024-09-28 22:22:45,431] Trial 85 finished with value: 0.24503311258278146 and parameters: {'iterations': 2676, 'learning_rate': 0.02497447460008572, 'depth': 7, 'min_data_in_leaf': 3, 'l2_leaf_reg': 1.1408702657123522, 'random_strength': 7.515811816130814, 'bagging_temperature': 2.82222839213159, 'border_count': 168, 'scale_pos_weight': 1.2460842491277808, 'grow_policy': 'SymmetricTree'}. Best is trial 17 with value: 0.2723521320495186.\n",
      "[I 2024-09-28 22:23:02,463] Trial 86 finished with value: 0.2461964038727524 and parameters: {'iterations': 2800, 'learning_rate': 0.01673740489696758, 'depth': 5, 'min_data_in_leaf': 3, 'l2_leaf_reg': 1.3157820833291332, 'random_strength': 7.815459225319796, 'bagging_temperature': 2.059897377565418, 'border_count': 160, 'scale_pos_weight': 2.2285475594893183, 'grow_policy': 'SymmetricTree'}. Best is trial 17 with value: 0.2723521320495186.\n",
      "[I 2024-09-28 22:23:29,027] Trial 87 finished with value: 0.23328149300155523 and parameters: {'iterations': 3078, 'learning_rate': 0.031176077627257263, 'depth': 7, 'min_data_in_leaf': 3, 'l2_leaf_reg': 1.2797445223560027, 'random_strength': 8.59972554647661, 'bagging_temperature': 3.0830413308972493, 'border_count': 142, 'scale_pos_weight': 1.4927383101594467, 'grow_policy': 'SymmetricTree'}. Best is trial 17 with value: 0.2723521320495186.\n",
      "[I 2024-09-28 22:23:44,809] Trial 88 finished with value: 0.23194303153611395 and parameters: {'iterations': 2548, 'learning_rate': 0.03439226593370092, 'depth': 5, 'min_data_in_leaf': 3, 'l2_leaf_reg': 1.5439243982319713, 'random_strength': 8.332086273783823, 'bagging_temperature': 4.954445913084447, 'border_count': 164, 'scale_pos_weight': 2.977715787741922, 'grow_policy': 'SymmetricTree'}. Best is trial 17 with value: 0.2723521320495186.\n",
      "[I 2024-09-28 22:24:05,146] Trial 89 finished with value: 0.25359477124183005 and parameters: {'iterations': 2871, 'learning_rate': 0.011960177249003678, 'depth': 6, 'min_data_in_leaf': 3, 'l2_leaf_reg': 1.1163882515907189, 'random_strength': 4.849352374063645, 'bagging_temperature': 3.5042362635420865, 'border_count': 190, 'scale_pos_weight': 2.3908346948230683, 'grow_policy': 'SymmetricTree'}. Best is trial 17 with value: 0.2723521320495186.\n",
      "[I 2024-09-28 22:24:43,170] Trial 90 finished with value: 0.20267686424474185 and parameters: {'iterations': 3184, 'learning_rate': 0.0017563577063719124, 'depth': 6, 'min_data_in_leaf': 4, 'l2_leaf_reg': 1.442889443993953, 'random_strength': 7.670375521668169, 'bagging_temperature': 3.8628404808148633, 'border_count': 156, 'scale_pos_weight': 1.8635175590078041, 'grow_policy': 'Depthwise'}. Best is trial 17 with value: 0.2723521320495186.\n",
      "[I 2024-09-28 22:25:15,065] Trial 91 finished with value: 0.2619047619047619 and parameters: {'iterations': 2710, 'learning_rate': 0.006881734834561556, 'depth': 6, 'min_data_in_leaf': 4, 'l2_leaf_reg': 1.0019522410707402, 'random_strength': 6.506411618958694, 'bagging_temperature': 5.86674272264265, 'border_count': 152, 'scale_pos_weight': 1.606984295548727, 'grow_policy': 'Depthwise'}. Best is trial 17 with value: 0.2723521320495186.\n",
      "[I 2024-09-28 22:25:55,157] Trial 92 finished with value: 0.25075528700906347 and parameters: {'iterations': 2731, 'learning_rate': 0.019835993206969382, 'depth': 7, 'min_data_in_leaf': 4, 'l2_leaf_reg': 1.2148006543156908, 'random_strength': 5.7644037953663, 'bagging_temperature': 6.1125214453047185, 'border_count': 164, 'scale_pos_weight': 1.242371636366412, 'grow_policy': 'Depthwise'}. Best is trial 17 with value: 0.2723521320495186.\n",
      "[I 2024-09-28 22:26:30,735] Trial 93 finished with value: 0.24637681159420288 and parameters: {'iterations': 3016, 'learning_rate': 0.0049545189272283754, 'depth': 6, 'min_data_in_leaf': 4, 'l2_leaf_reg': 1.0484805432036706, 'random_strength': 6.512812066843111, 'bagging_temperature': 5.914889304745495, 'border_count': 140, 'scale_pos_weight': 2.6327959535797816, 'grow_policy': 'Depthwise'}. Best is trial 17 with value: 0.2723521320495186.\n",
      "[I 2024-09-28 22:27:02,596] Trial 94 finished with value: 0.2628120893561104 and parameters: {'iterations': 3321, 'learning_rate': 0.01571191739238058, 'depth': 5, 'min_data_in_leaf': 4, 'l2_leaf_reg': 1.0567596332655202, 'random_strength': 0.0030391143615107197, 'bagging_temperature': 2.554258184009582, 'border_count': 153, 'scale_pos_weight': 2.127073601194734, 'grow_policy': 'Depthwise'}. Best is trial 17 with value: 0.2723521320495186.\n"
     ]
    },
    {
     "name": "stderr",
     "output_type": "stream",
     "text": [
      "[I 2024-09-28 22:27:34,575] Trial 95 finished with value: 0.25921219822109276 and parameters: {'iterations': 3316, 'learning_rate': 0.015606108788933969, 'depth': 5, 'min_data_in_leaf': 3, 'l2_leaf_reg': 1.1724587460982485, 'random_strength': 0.6803170313823426, 'bagging_temperature': 2.4689703757026007, 'border_count': 148, 'scale_pos_weight': 2.171669949738932, 'grow_policy': 'Depthwise'}. Best is trial 17 with value: 0.2723521320495186.\n",
      "[I 2024-09-28 22:28:14,352] Trial 96 finished with value: 0.25276073619631906 and parameters: {'iterations': 4987, 'learning_rate': 0.014576591391810695, 'depth': 4, 'min_data_in_leaf': 3, 'l2_leaf_reg': 1.1858153805835379, 'random_strength': 0.02650579700521229, 'bagging_temperature': 1.8030111122347574, 'border_count': 148, 'scale_pos_weight': 2.203829665616815, 'grow_policy': 'Depthwise'}. Best is trial 17 with value: 0.2723521320495186.\n",
      "[I 2024-09-28 22:28:34,863] Trial 97 finished with value: 0.23880597014925375 and parameters: {'iterations': 3323, 'learning_rate': 0.025132383675098863, 'depth': 5, 'min_data_in_leaf': 3, 'l2_leaf_reg': 1.1287203632651832, 'random_strength': 0.4489717610269782, 'bagging_temperature': 5.58000557765937, 'border_count': 152, 'scale_pos_weight': 3.3410247506794537, 'grow_policy': 'SymmetricTree'}. Best is trial 17 with value: 0.2723521320495186.\n",
      "[I 2024-09-28 22:29:05,395] Trial 98 finished with value: 0.25965996908809896 and parameters: {'iterations': 3130, 'learning_rate': 0.01172097483195909, 'depth': 5, 'min_data_in_leaf': 2, 'l2_leaf_reg': 1.0793877968856171, 'random_strength': 0.8725961720110038, 'bagging_temperature': 4.269621769760899, 'border_count': 178, 'scale_pos_weight': 1.5816483923518119, 'grow_policy': 'Depthwise'}. Best is trial 17 with value: 0.2723521320495186.\n",
      "[I 2024-09-28 22:29:33,092] Trial 99 finished with value: 0.2597809076682316 and parameters: {'iterations': 3457, 'learning_rate': 0.015823526379253848, 'depth': 4, 'min_data_in_leaf': 2, 'l2_leaf_reg': 5.391468468596316, 'random_strength': 0.9190977215577902, 'bagging_temperature': 4.803727573931739, 'border_count': 178, 'scale_pos_weight': 1.6134066229421975, 'grow_policy': 'Depthwise'}. Best is trial 17 with value: 0.2723521320495186.\n",
      "[I 2024-09-28 22:30:00,630] Trial 100 finished with value: 0.2557781201848998 and parameters: {'iterations': 3429, 'learning_rate': 0.016665011610455145, 'depth': 4, 'min_data_in_leaf': 2, 'l2_leaf_reg': 4.82160869584989, 'random_strength': 0.8699793220926666, 'bagging_temperature': 4.16968563156671, 'border_count': 178, 'scale_pos_weight': 1.6001281410587016, 'grow_policy': 'Depthwise'}. Best is trial 17 with value: 0.2723521320495186.\n",
      "[I 2024-09-28 22:30:30,810] Trial 101 finished with value: 0.2537764350453172 and parameters: {'iterations': 3801, 'learning_rate': 0.012269696060543112, 'depth': 4, 'min_data_in_leaf': 2, 'l2_leaf_reg': 6.683318431287292, 'random_strength': 0.3034746487392182, 'bagging_temperature': 4.818481925580527, 'border_count': 174, 'scale_pos_weight': 1.800048468249328, 'grow_policy': 'Depthwise'}. Best is trial 17 with value: 0.2723521320495186.\n",
      "[I 2024-09-28 22:31:04,922] Trial 102 finished with value: 0.241635687732342 and parameters: {'iterations': 3555, 'learning_rate': 0.004831034689943878, 'depth': 5, 'min_data_in_leaf': 1, 'l2_leaf_reg': 4.15945887730227, 'random_strength': 1.0840904953943602, 'bagging_temperature': 4.419335421144631, 'border_count': 187, 'scale_pos_weight': 1.1562043519305014, 'grow_policy': 'Depthwise'}. Best is trial 17 with value: 0.2723521320495186.\n",
      "[I 2024-09-28 22:31:34,082] Trial 103 finished with value: 0.2600896860986547 and parameters: {'iterations': 3651, 'learning_rate': 0.023310008396291475, 'depth': 4, 'min_data_in_leaf': 2, 'l2_leaf_reg': 5.988757577361091, 'random_strength': 1.6072285502675696, 'bagging_temperature': 4.629214212729877, 'border_count': 167, 'scale_pos_weight': 1.5778457934033585, 'grow_policy': 'Depthwise'}. Best is trial 17 with value: 0.2723521320495186.\n",
      "[I 2024-09-28 22:32:03,171] Trial 104 finished with value: 0.26268656716417915 and parameters: {'iterations': 3645, 'learning_rate': 0.02728567950516954, 'depth': 4, 'min_data_in_leaf': 2, 'l2_leaf_reg': 6.45185771223952, 'random_strength': 1.665714384850744, 'bagging_temperature': 4.529400960471142, 'border_count': 200, 'scale_pos_weight': 1.5530537026141509, 'grow_policy': 'Depthwise'}. Best is trial 17 with value: 0.2723521320495186.\n",
      "[I 2024-09-28 22:32:35,014] Trial 105 finished with value: 0.2487394957983193 and parameters: {'iterations': 4003, 'learning_rate': 0.02774788237497129, 'depth': 4, 'min_data_in_leaf': 2, 'l2_leaf_reg': 6.3604584656621155, 'random_strength': 1.7476979924726317, 'bagging_temperature': 4.026457199141452, 'border_count': 196, 'scale_pos_weight': 1.0168805250433959, 'grow_policy': 'Depthwise'}. Best is trial 17 with value: 0.2723521320495186.\n",
      "[I 2024-09-28 22:33:04,231] Trial 106 finished with value: 0.266857962697274 and parameters: {'iterations': 3620, 'learning_rate': 0.03514124531888921, 'depth': 4, 'min_data_in_leaf': 2, 'l2_leaf_reg': 5.726869121216133, 'random_strength': 1.4555320762735882, 'bagging_temperature': 4.650357328545119, 'border_count': 202, 'scale_pos_weight': 1.5765789579524268, 'grow_policy': 'Depthwise'}. Best is trial 17 with value: 0.2723521320495186.\n",
      "[I 2024-09-28 22:33:34,070] Trial 107 finished with value: 0.2653352353780314 and parameters: {'iterations': 3693, 'learning_rate': 0.03641229682961099, 'depth': 4, 'min_data_in_leaf': 2, 'l2_leaf_reg': 5.535880325728277, 'random_strength': 1.4225353026790228, 'bagging_temperature': 4.856898963206766, 'border_count': 203, 'scale_pos_weight': 1.5577713402751414, 'grow_policy': 'Depthwise'}. Best is trial 17 with value: 0.2723521320495186.\n",
      "[I 2024-09-28 22:33:53,850] Trial 108 finished with value: 0.25848142164781907 and parameters: {'iterations': 3630, 'learning_rate': 0.03851744994572417, 'depth': 4, 'min_data_in_leaf': 2, 'l2_leaf_reg': 7.335120324781769, 'random_strength': 2.3095092819959473, 'bagging_temperature': 4.571179502119638, 'border_count': 208, 'scale_pos_weight': 1.3781094015571593, 'grow_policy': 'SymmetricTree'}. Best is trial 17 with value: 0.2723521320495186.\n",
      "[I 2024-09-28 22:34:25,513] Trial 109 finished with value: 0.1866801210898083 and parameters: {'iterations': 3917, 'learning_rate': 0.04493376826950962, 'depth': 4, 'min_data_in_leaf': 2, 'l2_leaf_reg': 5.634325264246864, 'random_strength': 1.6214709638041305, 'bagging_temperature': 4.994961263193142, 'border_count': 198, 'scale_pos_weight': 8.051846230626422, 'grow_policy': 'Depthwise'}. Best is trial 17 with value: 0.2723521320495186.\n",
      "[I 2024-09-28 22:34:55,707] Trial 110 finished with value: 0.2425806451612903 and parameters: {'iterations': 3759, 'learning_rate': 0.0512410273252054, 'depth': 4, 'min_data_in_leaf': 2, 'l2_leaf_reg': 7.151929878466072, 'random_strength': 2.1037116761132157, 'bagging_temperature': 3.882353423020189, 'border_count': 212, 'scale_pos_weight': 1.8204424812540208, 'grow_policy': 'Depthwise'}. Best is trial 17 with value: 0.2723521320495186.\n",
      "[I 2024-09-28 22:35:25,501] Trial 111 finished with value: 0.2697274031563845 and parameters: {'iterations': 3697, 'learning_rate': 0.03599903770495188, 'depth': 4, 'min_data_in_leaf': 2, 'l2_leaf_reg': 5.302163528608739, 'random_strength': 1.5155208598109313, 'bagging_temperature': 5.38979975310473, 'border_count': 220, 'scale_pos_weight': 1.5651787390242242, 'grow_policy': 'Depthwise'}. Best is trial 17 with value: 0.2723521320495186.\n",
      "[I 2024-09-28 22:35:55,333] Trial 112 finished with value: 0.2642089093701997 and parameters: {'iterations': 3694, 'learning_rate': 0.047196938855869765, 'depth': 4, 'min_data_in_leaf': 2, 'l2_leaf_reg': 6.005656446722423, 'random_strength': 1.4742844941017952, 'bagging_temperature': 5.732266143586102, 'border_count': 220, 'scale_pos_weight': 1.2034468024645826, 'grow_policy': 'Depthwise'}. Best is trial 17 with value: 0.2723521320495186.\n",
      "[I 2024-09-28 22:36:26,746] Trial 113 finished with value: 0.2560975609756098 and parameters: {'iterations': 3889, 'learning_rate': 0.047170461657292426, 'depth': 4, 'min_data_in_leaf': 2, 'l2_leaf_reg': 5.011948346966551, 'random_strength': 1.3610291735228217, 'bagging_temperature': 5.4166414425800085, 'border_count': 218, 'scale_pos_weight': 1.2286301607035905, 'grow_policy': 'Depthwise'}. Best is trial 17 with value: 0.2723521320495186.\n"
     ]
    },
    {
     "name": "stderr",
     "output_type": "stream",
     "text": [
      "[I 2024-09-28 22:36:56,800] Trial 114 finished with value: 0.2676470588235294 and parameters: {'iterations': 3714, 'learning_rate': 0.042641891791893004, 'depth': 4, 'min_data_in_leaf': 2, 'l2_leaf_reg': 8.305788654098501, 'random_strength': 1.1192880576077218, 'bagging_temperature': 6.40658803595371, 'border_count': 232, 'scale_pos_weight': 1.4289769983412897, 'grow_policy': 'Depthwise'}. Best is trial 17 with value: 0.2723521320495186.\n",
      "[I 2024-09-28 22:37:30,603] Trial 115 finished with value: 0.1963927855711423 and parameters: {'iterations': 4186, 'learning_rate': 0.05744433548885574, 'depth': 4, 'min_data_in_leaf': 2, 'l2_leaf_reg': 8.259500452723536, 'random_strength': 1.9748539583742186, 'bagging_temperature': 6.345107720928781, 'border_count': 230, 'scale_pos_weight': 5.787827695291229, 'grow_policy': 'Depthwise'}. Best is trial 17 with value: 0.2723521320495186.\n",
      "[I 2024-09-28 22:38:00,349] Trial 116 finished with value: 0.2646616541353384 and parameters: {'iterations': 3686, 'learning_rate': 0.03557782366666219, 'depth': 4, 'min_data_in_leaf': 2, 'l2_leaf_reg': 9.69923431365601, 'random_strength': 1.1626192318712198, 'bagging_temperature': 6.860532953488943, 'border_count': 221, 'scale_pos_weight': 1.4187709864099791, 'grow_policy': 'Depthwise'}. Best is trial 17 with value: 0.2723521320495186.\n",
      "[I 2024-09-28 22:38:36,230] Trial 117 finished with value: 0.26262626262626265 and parameters: {'iterations': 4465, 'learning_rate': 0.035297447315217695, 'depth': 4, 'min_data_in_leaf': 2, 'l2_leaf_reg': 9.7301785263606, 'random_strength': 1.1790478313951944, 'bagging_temperature': 6.673507184866159, 'border_count': 225, 'scale_pos_weight': 1.0086124684593378, 'grow_policy': 'Depthwise'}. Best is trial 17 with value: 0.2723521320495186.\n",
      "[I 2024-09-28 22:39:07,165] Trial 118 finished with value: 0.25663716814159293 and parameters: {'iterations': 3858, 'learning_rate': 0.05407232636800843, 'depth': 4, 'min_data_in_leaf': 2, 'l2_leaf_reg': 8.426895912323038, 'random_strength': 2.71168995905794, 'bagging_temperature': 6.943824704740024, 'border_count': 203, 'scale_pos_weight': 1.3549211347007206, 'grow_policy': 'Depthwise'}. Best is trial 17 with value: 0.2723521320495186.\n",
      "[I 2024-09-28 22:39:37,074] Trial 119 finished with value: 0.25925925925925924 and parameters: {'iterations': 3723, 'learning_rate': 0.04223734935290092, 'depth': 4, 'min_data_in_leaf': 2, 'l2_leaf_reg': 9.313005415693246, 'random_strength': 1.5440366743681135, 'bagging_temperature': 6.256450111404139, 'border_count': 246, 'scale_pos_weight': 1.88135868525438, 'grow_policy': 'Depthwise'}. Best is trial 17 with value: 0.2723521320495186.\n",
      "[I 2024-09-28 22:40:09,556] Trial 120 finished with value: 0.26176470588235295 and parameters: {'iterations': 4020, 'learning_rate': 0.038939036239584134, 'depth': 4, 'min_data_in_leaf': 2, 'l2_leaf_reg': 5.9935499731634785, 'random_strength': 1.4431376244602898, 'bagging_temperature': 5.7039008522543035, 'border_count': 233, 'scale_pos_weight': 1.4413300534486688, 'grow_policy': 'Depthwise'}. Best is trial 17 with value: 0.2723521320495186.\n",
      "[I 2024-09-28 22:40:44,353] Trial 121 finished with value: 0.26557377049180325 and parameters: {'iterations': 4331, 'learning_rate': 0.03422821117274772, 'depth': 4, 'min_data_in_leaf': 2, 'l2_leaf_reg': 9.834308191886484, 'random_strength': 1.0926548854236093, 'bagging_temperature': 6.640997174323194, 'border_count': 223, 'scale_pos_weight': 1.0873187904563761, 'grow_policy': 'Depthwise'}. Best is trial 17 with value: 0.2723521320495186.\n",
      "[I 2024-09-28 22:41:20,289] Trial 122 finished with value: 0.2686084142394822 and parameters: {'iterations': 4503, 'learning_rate': 0.031751804534776, 'depth': 4, 'min_data_in_leaf': 2, 'l2_leaf_reg': 9.122981528397798, 'random_strength': 0.4005493502070634, 'bagging_temperature': 7.415848972700048, 'border_count': 222, 'scale_pos_weight': 1.173609855788534, 'grow_policy': 'Depthwise'}. Best is trial 17 with value: 0.2723521320495186.\n",
      "[I 2024-09-28 22:41:56,241] Trial 123 finished with value: 0.27001569858712715 and parameters: {'iterations': 4537, 'learning_rate': 0.03438836403801612, 'depth': 4, 'min_data_in_leaf': 1, 'l2_leaf_reg': 8.880790256271554, 'random_strength': 0.2697261545718551, 'bagging_temperature': 7.4746475365832055, 'border_count': 220, 'scale_pos_weight': 1.167003757827045, 'grow_policy': 'Depthwise'}. Best is trial 17 with value: 0.2723521320495186.\n",
      "[I 2024-09-28 22:42:32,439] Trial 124 finished with value: 0.2623456790123457 and parameters: {'iterations': 4569, 'learning_rate': 0.0475662572128422, 'depth': 4, 'min_data_in_leaf': 1, 'l2_leaf_reg': 9.038250835137, 'random_strength': 0.5776241690992061, 'bagging_temperature': 7.676612041324737, 'border_count': 217, 'scale_pos_weight': 1.1733999062507392, 'grow_policy': 'Depthwise'}. Best is trial 17 with value: 0.2723521320495186.\n",
      "[I 2024-09-28 22:43:08,515] Trial 125 finished with value: 0.26391096979332274 and parameters: {'iterations': 4600, 'learning_rate': 0.03596588387655324, 'depth': 4, 'min_data_in_leaf': 1, 'l2_leaf_reg': 9.937621083141721, 'random_strength': 0.31774291521330333, 'bagging_temperature': 7.451406472316635, 'border_count': 225, 'scale_pos_weight': 1.1547991296152964, 'grow_policy': 'Depthwise'}. Best is trial 17 with value: 0.2723521320495186.\n",
      "[I 2024-09-28 22:43:46,437] Trial 126 finished with value: 0.2545454545454546 and parameters: {'iterations': 4760, 'learning_rate': 0.06383190103657477, 'depth': 4, 'min_data_in_leaf': 1, 'l2_leaf_reg': 7.962300881380561, 'random_strength': 1.0476936824190284, 'bagging_temperature': 7.870391045420925, 'border_count': 221, 'scale_pos_weight': 1.3872588920055338, 'grow_policy': 'Depthwise'}. Best is trial 17 with value: 0.2723521320495186.\n",
      "[I 2024-09-28 22:44:20,181] Trial 127 finished with value: 0.2593582887700535 and parameters: {'iterations': 4174, 'learning_rate': 0.04148735363863017, 'depth': 4, 'min_data_in_leaf': 2, 'l2_leaf_reg': 7.655369975578378, 'random_strength': 0.27240112980637865, 'bagging_temperature': 7.07304318640235, 'border_count': 242, 'scale_pos_weight': 1.7748179302346212, 'grow_policy': 'Depthwise'}. Best is trial 17 with value: 0.2723521320495186.\n",
      "[I 2024-09-28 22:44:55,051] Trial 128 finished with value: 0.2580645161290322 and parameters: {'iterations': 4339, 'learning_rate': 0.03257010700659854, 'depth': 4, 'min_data_in_leaf': 2, 'l2_leaf_reg': 8.995018257179169, 'random_strength': 1.2234919510173707, 'bagging_temperature': 6.506208378671665, 'border_count': 208, 'scale_pos_weight': 1.1526734975794957, 'grow_policy': 'Depthwise'}. Best is trial 17 with value: 0.2723521320495186.\n",
      "[I 2024-09-28 22:45:29,773] Trial 129 finished with value: 0.2632331902718169 and parameters: {'iterations': 4260, 'learning_rate': 0.04334607349599865, 'depth': 4, 'min_data_in_leaf': 2, 'l2_leaf_reg': 4.456295311892849, 'random_strength': 2.4142288397537386, 'bagging_temperature': 7.313090419249232, 'border_count': 222, 'scale_pos_weight': 1.4254100706645179, 'grow_policy': 'Depthwise'}. Best is trial 17 with value: 0.2723521320495186.\n",
      "[I 2024-09-28 22:46:15,338] Trial 130 finished with value: 0.24766977363515316 and parameters: {'iterations': 4749, 'learning_rate': 0.031367440203166695, 'depth': 5, 'min_data_in_leaf': 2, 'l2_leaf_reg': 9.503719378635946, 'random_strength': 0.737871224957226, 'bagging_temperature': 8.25951991626526, 'border_count': 231, 'scale_pos_weight': 1.7294535092206635, 'grow_policy': 'Depthwise'}. Best is trial 17 with value: 0.2723521320495186.\n",
      "[I 2024-09-28 22:46:51,820] Trial 131 finished with value: 0.24749163879598665 and parameters: {'iterations': 4637, 'learning_rate': 0.036040489888554225, 'depth': 4, 'min_data_in_leaf': 1, 'l2_leaf_reg': 9.960571641958264, 'random_strength': 0.2562623681984907, 'bagging_temperature': 6.774513161089758, 'border_count': 226, 'scale_pos_weight': 1.0090083363671876, 'grow_policy': 'Depthwise'}. Best is trial 17 with value: 0.2723521320495186.\n",
      "[I 2024-09-28 22:47:27,067] Trial 132 finished with value: 0.2672955974842767 and parameters: {'iterations': 4445, 'learning_rate': 0.03731399426071078, 'depth': 4, 'min_data_in_leaf': 1, 'l2_leaf_reg': 9.107977524400203, 'random_strength': 1.878630940196198, 'bagging_temperature': 7.265737808798744, 'border_count': 217, 'scale_pos_weight': 1.2018329518974111, 'grow_policy': 'Depthwise'}. Best is trial 17 with value: 0.2723521320495186.\n"
     ]
    },
    {
     "name": "stderr",
     "output_type": "stream",
     "text": [
      "[I 2024-09-28 22:48:03,183] Trial 133 finished with value: 0.2656716417910448 and parameters: {'iterations': 4533, 'learning_rate': 0.04037766960453611, 'depth': 4, 'min_data_in_leaf': 1, 'l2_leaf_reg': 8.79194773178056, 'random_strength': 1.9188128204084074, 'bagging_temperature': 7.168564283747498, 'border_count': 214, 'scale_pos_weight': 1.3165401043275868, 'grow_policy': 'Depthwise'}. Best is trial 17 with value: 0.2723521320495186.\n",
      "[I 2024-09-28 22:48:38,605] Trial 134 finished with value: 0.24039653035935563 and parameters: {'iterations': 4432, 'learning_rate': 0.05178400339933772, 'depth': 4, 'min_data_in_leaf': 1, 'l2_leaf_reg': 8.776921182832819, 'random_strength': 1.8849464916938148, 'bagging_temperature': 7.434451441797694, 'border_count': 210, 'scale_pos_weight': 1.9444968023846538, 'grow_policy': 'Depthwise'}. Best is trial 17 with value: 0.2723521320495186.\n",
      "[I 2024-09-28 22:49:21,926] Trial 135 finished with value: 0.25925925925925924 and parameters: {'iterations': 4519, 'learning_rate': 0.03956167369510909, 'depth': 5, 'min_data_in_leaf': 1, 'l2_leaf_reg': 8.170377528367814, 'random_strength': 2.1899305729943896, 'bagging_temperature': 6.96988792120916, 'border_count': 215, 'scale_pos_weight': 1.371683857586308, 'grow_policy': 'Depthwise'}. Best is trial 17 with value: 0.2723521320495186.\n",
      "[I 2024-09-28 22:49:56,527] Trial 136 finished with value: 0.26441631504922647 and parameters: {'iterations': 4372, 'learning_rate': 0.030249132669155014, 'depth': 4, 'min_data_in_leaf': 1, 'l2_leaf_reg': 8.612393176533121, 'random_strength': 1.039798378733801, 'bagging_temperature': 7.879524650713401, 'border_count': 215, 'scale_pos_weight': 1.6650750735310442, 'grow_policy': 'Depthwise'}. Best is trial 17 with value: 0.2723521320495186.\n",
      "[I 2024-09-28 22:56:12,662] Trial 137 finished with value: 0.2317497103128621 and parameters: {'iterations': 4695, 'learning_rate': 0.03313624656432376, 'depth': 12, 'min_data_in_leaf': 1, 'l2_leaf_reg': 7.746448539121208, 'random_strength': 1.9002044677327474, 'bagging_temperature': 7.148611826465055, 'border_count': 235, 'scale_pos_weight': 9.846920590931017, 'grow_policy': 'Depthwise'}. Best is trial 17 with value: 0.2723521320495186.\n",
      "[I 2024-09-28 22:56:45,564] Trial 138 finished with value: 0.2532374100719424 and parameters: {'iterations': 4090, 'learning_rate': 0.04408546548604384, 'depth': 4, 'min_data_in_leaf': 1, 'l2_leaf_reg': 9.02725166423677, 'random_strength': 0.54512473875217, 'bagging_temperature': 6.771480605606681, 'border_count': 229, 'scale_pos_weight': 1.5080692526840767, 'grow_policy': 'Depthwise'}. Best is trial 17 with value: 0.2723521320495186.\n",
      "[I 2024-09-28 22:57:27,217] Trial 139 finished with value: 0.24090338770388955 and parameters: {'iterations': 4261, 'learning_rate': 0.03690144670913445, 'depth': 5, 'min_data_in_leaf': 1, 'l2_leaf_reg': 9.340799711456294, 'random_strength': 2.5635588096443627, 'bagging_temperature': 7.481041213854269, 'border_count': 223, 'scale_pos_weight': 1.9566020909075887, 'grow_policy': 'Depthwise'}. Best is trial 17 with value: 0.2723521320495186.\n",
      "[I 2024-09-28 22:58:05,930] Trial 140 finished with value: 0.24799999999999997 and parameters: {'iterations': 4792, 'learning_rate': 0.10440484291163737, 'depth': 4, 'min_data_in_leaf': 1, 'l2_leaf_reg': 7.335696476808568, 'random_strength': 1.258449209209947, 'bagging_temperature': 6.478959683545829, 'border_count': 206, 'scale_pos_weight': 1.329825860129654, 'grow_policy': 'Depthwise'}. Best is trial 17 with value: 0.2723521320495186.\n",
      "[I 2024-09-28 22:58:41,066] Trial 141 finished with value: 0.26173541963015645 and parameters: {'iterations': 4373, 'learning_rate': 0.026450742527977113, 'depth': 4, 'min_data_in_leaf': 1, 'l2_leaf_reg': 8.427164172691949, 'random_strength': 1.003383069960213, 'bagging_temperature': 7.963980120453041, 'border_count': 214, 'scale_pos_weight': 1.696605666064447, 'grow_policy': 'Depthwise'}. Best is trial 17 with value: 0.2723521320495186.\n",
      "[I 2024-09-28 22:59:19,911] Trial 142 finished with value: 0.27206946454413894 and parameters: {'iterations': 4840, 'learning_rate': 0.029400275876757184, 'depth': 4, 'min_data_in_leaf': 1, 'l2_leaf_reg': 8.675742958580583, 'random_strength': 6.023145111210718, 'bagging_temperature': 8.65074906419182, 'border_count': 218, 'scale_pos_weight': 1.5708805704016078, 'grow_policy': 'Depthwise'}. Best is trial 17 with value: 0.2723521320495186.\n",
      "[I 2024-09-28 22:59:58,922] Trial 143 finished with value: 0.2695035460992908 and parameters: {'iterations': 4872, 'learning_rate': 0.040536535340094895, 'depth': 4, 'min_data_in_leaf': 1, 'l2_leaf_reg': 9.416695053165089, 'random_strength': 5.929338698726659, 'bagging_temperature': 8.812611604898574, 'border_count': 219, 'scale_pos_weight': 1.49070857191843, 'grow_policy': 'Depthwise'}. Best is trial 17 with value: 0.2723521320495186.\n"
     ]
    }
   ],
   "source": [
    "import optuna\n",
    "from catboost import CatBoostClassifier\n",
    "from sklearn.model_selection import train_test_split\n",
    "from sklearn.metrics import f1_score\n",
    "\n",
    "def objectiveCatBoost(trial, x_tr, y_tr, x_val, y_val):\n",
    "    \n",
    "    # 'Normal'과 'AbNormal'을 숫자로 변환\n",
    "    y_tr = y_tr.map({'Normal': 0, 'AbNormal': 1})\n",
    "    y_val = y_val.map({'Normal': 0, 'AbNormal': 1})\n",
    "    \n",
    "    param = {\n",
    "        'iterations': trial.suggest_int('iterations', 800, 5000),\n",
    "        'learning_rate': trial.suggest_float('learning_rate', 0.001, 0.2),\n",
    "        'depth': trial.suggest_int('depth', 4, 13),\n",
    "        'min_data_in_leaf': trial.suggest_int('min_data_in_leaf', 1, 5),\n",
    "        'l2_leaf_reg': trial.suggest_float('l2_leaf_reg', 1, 10, log=True),\n",
    "        'random_strength': trial.suggest_float('random_strength', 0, 10),\n",
    "        'bagging_temperature': trial.suggest_float('bagging_temperature', 0.1, 10),\n",
    "        'border_count': trial.suggest_int('border_count', 128, 300),\n",
    "        'scale_pos_weight': trial.suggest_float('scale_pos_weight', 1, 10),\n",
    "        'grow_policy': trial.suggest_categorical('grow_policy', ['SymmetricTree', 'Depthwise', 'Lossguide']),\n",
    "        \n",
    "        'random_seed': RANDOM_STATE,\n",
    "        'eval_metric': 'F1',\n",
    "        'logging_level': 'Silent',\n",
    "        'boosting_type': 'Plain'\n",
    "    }\n",
    "\n",
    "    model = CatBoostClassifier(**param)\n",
    "    model.fit(x_tr, y_tr)\n",
    "    pred_proba = model.predict_proba(x_val)[:, 1]  # 양성 클래스 확률\n",
    "    pred = (pred_proba >= THRESHOLD).astype(int)  # 스레드홀드에 따른 예측\n",
    "    \n",
    "    score = f1_score(y_val, pred, average=\"binary\")\n",
    "    \n",
    "    return score\n",
    "\n",
    "# 데이터셋 분할\n",
    "x_train, x_val, y_train, y_val = train_test_split(\n",
    "    train_data.drop(\"target\", axis=1),  \n",
    "    train_data[\"target\"],              \n",
    "    test_size=0.2,\n",
    "    shuffle=True,\n",
    "    random_state=RANDOM_STATE,\n",
    ")\n",
    "\n",
    "# 하이퍼 파라미터 튜닝\n",
    "study = optuna.create_study(direction='maximize', sampler=optuna.samplers.TPESampler(seed=RANDOM_STATE))\n",
    "study.optimize(lambda trial: objectiveCatBoost(trial, x_train, y_train, x_val, y_val), n_trials=400)\n",
    "\n",
    "print('Best trial: score {}, \\nparams {}'.format(study.best_trial.value, study.best_trial.params))"
   ]
  },
  {
   "cell_type": "code",
   "execution_count": null,
   "id": "f7b95e00-fccf-434e-8f21-979d0d7c29f2",
   "metadata": {},
   "outputs": [],
   "source": []
  }
 ],
 "metadata": {
  "kernelspec": {
   "display_name": "Python 3 (ipykernel)",
   "language": "python",
   "name": "python3"
  },
  "language_info": {
   "codemirror_mode": {
    "name": "ipython",
    "version": 3
   },
   "file_extension": ".py",
   "mimetype": "text/x-python",
   "name": "python",
   "nbconvert_exporter": "python",
   "pygments_lexer": "ipython3",
   "version": "3.10.14"
  }
 },
 "nbformat": 4,
 "nbformat_minor": 5
}

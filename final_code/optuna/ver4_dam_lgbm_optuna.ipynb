{
 "cells": [
  {
   "cell_type": "markdown",
   "id": "017e9265",
   "metadata": {},
   "source": [
    "# 제품 이상여부 판별 프로젝트\n"
   ]
  },
  {
   "cell_type": "markdown",
   "id": "4d054e30",
   "metadata": {},
   "source": [
    "### 데이터 읽어오기\n"
   ]
  },
  {
   "cell_type": "code",
   "execution_count": 1,
   "id": "6c5468dc",
   "metadata": {},
   "outputs": [],
   "source": [
    "import os\n",
    "from pprint import pprint\n",
    "\n",
    "import optuna\n",
    "import numpy as np\n",
    "import pandas as pd\n",
    "#import seaborn as sns\n",
    "import matplotlib.pyplot as plt\n",
    "\n",
    "from sklearn.tree import DecisionTreeClassifier\n",
    "from lightgbm import LGBMClassifier\n",
    "from sklearn.ensemble import RandomForestClassifier, ExtraTreesClassifier\n",
    "from xgboost import XGBClassifier\n",
    "from catboost import CatBoostClassifier\n",
    "from sklearn.ensemble import AdaBoostClassifier\n",
    "\n",
    "from sklearn.metrics import (\n",
    "    accuracy_score,\n",
    "    classification_report,\n",
    "    confusion_matrix,\n",
    "    f1_score,\n",
    "    precision_score,\n",
    "    recall_score,\n",
    ")\n",
    "from sklearn.model_selection import train_test_split\n",
    "from tqdm import tqdm"
   ]
  },
  {
   "cell_type": "code",
   "execution_count": 2,
   "id": "fc0b4d80",
   "metadata": {},
   "outputs": [],
   "source": [
    "import pandas as pd\n",
    "\n",
    "THRESHOLD = 0.3\n",
    "RANDOM_STATE = 110\n",
    "\n",
    "train_data = pd.read_csv(\"./final_data/train_data_ver4.csv\")\n",
    "test_data = pd.read_csv(\"./final_data/test_data_ver4.csv\")"
   ]
  },
  {
   "cell_type": "code",
   "execution_count": 3,
   "id": "84efc2b4",
   "metadata": {},
   "outputs": [],
   "source": [
    "# dam, fill1, fill2 공통 변수\n",
    "var_dam_fill = [\n",
    "    'Equipment_same_num',\n",
    "    'PalletID_Collect_Result',\n",
    "    'Production_Qty_Collect_Result',\n",
    "    'WorkMode Collect Result',\n",
    "    'Receip_n_suffix_3',\n",
    "    'Receip_No_encoded'\n",
    "]\n"
   ]
  },
  {
   "cell_type": "code",
   "execution_count": 4,
   "id": "1be6bfa9",
   "metadata": {},
   "outputs": [],
   "source": [
    "# 전체 공통 변수\n",
    "### correlation 확인을 위한 변수 리스트\n",
    "var_all_corr = [\n",
    "    'model_suffix_encoded',\n",
    "    'cleaned_workorder_encoded'\n",
    "]\n",
    "\n",
    "# train\n",
    "var_all_train = [\n",
    "    'target',\n",
    "    'model_suffix_encoded',\n",
    "    'cleaned_workorder_encoded',\n",
    "    'time_gap_All'\n",
    "]\n",
    "\n",
    "# test\n",
    "var_all_test = [\n",
    "    'Set ID',\n",
    "    'target',\n",
    "    'model_suffix_encoded',\n",
    "    'cleaned_workorder_encoded',\n",
    "    'time_gap_All'\n",
    "]"
   ]
  },
  {
   "cell_type": "code",
   "execution_count": 5,
   "id": "ab42a663",
   "metadata": {},
   "outputs": [],
   "source": [
    "# '_Dam'을 포함하는 변수 선택\n",
    "dam_variables = [var for var in train_data.columns if '_Dam' in var]\n",
    "\n",
    "# train\n",
    "final_columns_train = var_dam_fill + var_all_train + dam_variables\n",
    "train_data_dam = train_data[final_columns_train]\n",
    "\n",
    "# test \n",
    "final_columns_test = var_dam_fill + var_all_test + dam_variables\n",
    "test_data_dam = test_data[final_columns_test]"
   ]
  },
  {
   "cell_type": "code",
   "execution_count": 6,
   "id": "70e7e996",
   "metadata": {},
   "outputs": [],
   "source": [
    "# '_Fill1'을 포함하는 변수 선택\n",
    "fill1_variables = [var for var in train_data.columns if '_Fill1' in var]\n",
    "\n",
    "# train\n",
    "final_columns_train = var_dam_fill + var_all_train + fill1_variables\n",
    "train_data_fill1 = train_data[final_columns_train]\n",
    "\n",
    "# test \n",
    "final_columns_test = var_dam_fill + var_all_test + fill1_variables\n",
    "test_data_fill1 = test_data[final_columns_test]"
   ]
  },
  {
   "cell_type": "code",
   "execution_count": 7,
   "id": "e81578ae",
   "metadata": {},
   "outputs": [],
   "source": [
    "# '_Fill2'을 포함하는 변수 선택\n",
    "fill2_variables = [var for var in train_data.columns if '_Fill2' in var]\n",
    "\n",
    "# train\n",
    "final_columns_train = var_dam_fill + var_all_train + fill2_variables\n",
    "train_data_fill2 = train_data[final_columns_train]\n",
    "\n",
    "# test \n",
    "final_columns_test = var_dam_fill + var_all_test + fill2_variables\n",
    "test_data_fill2 = test_data[final_columns_test]"
   ]
  },
  {
   "cell_type": "code",
   "execution_count": 8,
   "id": "8b2cfbb7",
   "metadata": {},
   "outputs": [],
   "source": [
    "# '_AutoClave'을 포함하는 변수 선택\n",
    "autoclave_variables = [var for var in train_data.columns if '_AutoClave' in var]\n",
    "\n",
    "# train\n",
    "final_columns_train = var_all_train + autoclave_variables\n",
    "train_data_autoclave = train_data[final_columns_train]\n",
    "\n",
    "# test \n",
    "final_columns_test = var_all_test + autoclave_variables\n",
    "test_data_autoclave = test_data[final_columns_test]"
   ]
  },
  {
   "cell_type": "code",
   "execution_count": 9,
   "id": "b1ea40b8",
   "metadata": {},
   "outputs": [
    {
     "name": "stdout",
     "output_type": "stream",
     "text": [
      "----train data-----\n",
      "train_data DataFrame의 칼럼 수: 47\n",
      "train_data_dam DataFrame의 칼럼 수: 27\n",
      "train_data_autoclave DataFrame의 칼럼 수: 9\n",
      "train_data_fill1 DataFrame의 칼럼 수: 18\n",
      "train_data_fill2 DataFrame의 칼럼 수: 17\n",
      "----test data-----\n",
      "test_data DataFrame의 칼럼 수: 48\n",
      "test_data_dam DataFrame의 칼럼 수: 28\n",
      "test_data_autoclave DataFrame의 칼럼 수: 10\n",
      "test_data_fill1 DataFrame의 칼럼 수: 19\n",
      "test_data_fill2 DataFrame의 칼럼 수: 18\n"
     ]
    }
   ],
   "source": [
    "# 각 DataFrame의 칼럼 수 계산\n",
    "num_columns_train_data = train_data.shape[1]\n",
    "num_columns_train_data_dam = train_data_dam.shape[1]\n",
    "num_columns_train_data_autoclave = train_data_autoclave.shape[1]\n",
    "num_columns_train_data_fill1 = train_data_fill1.shape[1]\n",
    "num_columns_train_data_fill2 = train_data_fill2.shape[1]\n",
    "\n",
    "num_columns_test_data = test_data.shape[1]\n",
    "num_columns_test_data_dam = test_data_dam.shape[1]\n",
    "num_columns_test_data_autoclave = test_data_autoclave.shape[1]\n",
    "num_columns_test_data_fill1 = test_data_fill1.shape[1]\n",
    "num_columns_test_data_fill2 = test_data_fill2.shape[1]\n",
    "\n",
    "# 각 DataFrame의 칼럼 수 출력\n",
    "print(\"----train data-----\")\n",
    "print(f\"train_data DataFrame의 칼럼 수: {num_columns_train_data}\")\n",
    "print(f\"train_data_dam DataFrame의 칼럼 수: {num_columns_train_data_dam}\")\n",
    "print(f\"train_data_autoclave DataFrame의 칼럼 수: {num_columns_train_data_autoclave}\")\n",
    "print(f\"train_data_fill1 DataFrame의 칼럼 수: {num_columns_train_data_fill1}\")\n",
    "print(f\"train_data_fill2 DataFrame의 칼럼 수: {num_columns_train_data_fill2}\")\n",
    "print(\"----test data-----\")\n",
    "print(f\"test_data DataFrame의 칼럼 수: {num_columns_test_data}\")\n",
    "print(f\"test_data_dam DataFrame의 칼럼 수: {num_columns_test_data_dam}\")\n",
    "print(f\"test_data_autoclave DataFrame의 칼럼 수: {num_columns_test_data_autoclave}\")\n",
    "print(f\"test_data_fill1 DataFrame의 칼럼 수: {num_columns_test_data_fill1}\")\n",
    "print(f\"test_data_fill2 DataFrame의 칼럼 수: {num_columns_test_data_fill2}\")"
   ]
  },
  {
   "cell_type": "markdown",
   "id": "ec45a10a",
   "metadata": {},
   "source": [
    "---"
   ]
  },
  {
   "cell_type": "markdown",
   "id": "5c4e5b59",
   "metadata": {},
   "source": [
    "## Optuna"
   ]
  },
  {
   "cell_type": "markdown",
   "id": "058f4f86",
   "metadata": {},
   "source": [
    "스레스홀드 0.3으로 맞춘상태에서 튜닝 진행한 것"
   ]
  },
  {
   "cell_type": "code",
   "execution_count": 10,
   "id": "5f1f651b-d56f-4b1b-90cc-12270e83463d",
   "metadata": {},
   "outputs": [],
   "source": [
    "RANDOM_STATE = 110\n",
    "THRESHOLD = 0.3"
   ]
  },
  {
   "cell_type": "code",
   "execution_count": 21,
   "id": "f2608ab0",
   "metadata": {},
   "outputs": [],
   "source": [
    "# import optuna\n",
    "# from lightgbm import LGBMClassifier\n",
    "# from sklearn.model_selection import train_test_split\n",
    "# from sklearn.metrics import f1_score\n",
    "\n",
    "# # 'Normal'과 'AbNormal'을 숫자로 변환\n",
    "# train_data_dam['target'] = train_data_dam['target'].map({'Normal': 0, 'AbNormal': 1})\n",
    "\n",
    "# # 스레드홀드 설정\n",
    "# THRESHOLD = 0.3\n",
    "\n",
    "# def objectiveLGBM_dart(trial, x_tr, y_tr, x_val, y_val):\n",
    "#     param = {\n",
    "#         'n_estimators': trial.suggest_int('n_estimators', 500, 3000),\n",
    "#         'num_leaves': trial.suggest_int('num_leaves', 500, 3000),\n",
    "#         'max_depth': trial.suggest_int('max_depth', 10, 300),\n",
    "#         'learning_rate': trial.suggest_float('learning_rate', 0.001, 0.1),\n",
    "#         'min_child_samples': trial.suggest_int('min_child_samples', 3, 300),\n",
    "        \n",
    "#         'boosting_type': 'dart',  # 'boosting'를 'boosting_type'으로 수정\n",
    "#         'random_state': RANDOM_STATE,\n",
    "#         'verbose': -1\n",
    "#     }\n",
    "       \n",
    "#     model = LGBMClassifier(**param)\n",
    "#     model.fit(x_tr, y_tr)\n",
    "#     pred_proba = model.predict_proba(x_val)[:, 1]  # 양성 클래스 확률\n",
    "#     pred = (pred_proba >= THRESHOLD).astype(int)  # 스레드홀드에 따른 예측\n",
    "    \n",
    "#     score = f1_score(y_val, pred, average=\"binary\")\n",
    "    \n",
    "#     return score\n",
    "\n",
    "# # 데이터셋 분할\n",
    "# x_train, x_val, y_train, y_val = train_test_split(\n",
    "#     train_data_dam.drop(\"target\", axis=1),\n",
    "#     train_data_dam[\"target\"],\n",
    "#     test_size=0.2,\n",
    "#     shuffle=True,\n",
    "#     random_state=RANDOM_STATE,\n",
    "# )\n",
    "\n",
    "# # 하이퍼 파라미터 튜닝\n",
    "# study = optuna.create_study(direction='maximize', sampler=optuna.samplers.TPESampler(seed=RANDOM_STATE))\n",
    "# study.optimize(lambda trial: objectiveLGBM_dart(trial, x_train, y_train, x_val, y_val), n_trials=200)\n",
    "\n",
    "# print('Best trial: score {}, \\nparams {}'.format(study.best_trial.value, study.best_trial.params))"
   ]
  },
  {
   "cell_type": "markdown",
   "id": "765475f4",
   "metadata": {},
   "source": [
    "Best trial: score 0.22585034013605443,  \n",
    "params {'n_estimators': 2470, 'num_leaves': 2454, 'max_depth': 26, 'learning_rate': 0.06067228197373452, 'min_child_samples': 134}"
   ]
  },
  {
   "cell_type": "code",
   "execution_count": 11,
   "id": "cae08b70",
   "metadata": {},
   "outputs": [
    {
     "name": "stderr",
     "output_type": "stream",
     "text": [
      "C:\\Users\\KimDongyoung\\AppData\\Local\\Temp\\ipykernel_37064\\1991781094.py:7: SettingWithCopyWarning: \n",
      "A value is trying to be set on a copy of a slice from a DataFrame.\n",
      "Try using .loc[row_indexer,col_indexer] = value instead\n",
      "\n",
      "See the caveats in the documentation: https://pandas.pydata.org/pandas-docs/stable/user_guide/indexing.html#returning-a-view-versus-a-copy\n",
      "  train_data_dam['target'] = train_data_dam['target'].map({'Normal': 0, 'AbNormal': 1})\n",
      "[I 2024-09-29 07:31:03,123] A new study created in memory with name: no-name-1f3dea50-35d0-400d-91af-7ef95716892f\n",
      "[I 2024-09-29 07:31:09,726] Trial 0 finished with value: 0.1348747591522158 and parameters: {'n_estimators': 848, 'num_leaves': 2476, 'max_depth': 134, 'learning_rate': 0.12294373372951299, 'min_child_samples': 239, 'subsample': 0.8412315646112949, 'colsample_bytree': 0.9775049979938022, 'reg_alpha': 6.372229393917081, 'reg_lambda': 5.129436077465067}. Best is trial 0 with value: 0.1348747591522158.\n",
      "[I 2024-09-29 07:31:20,195] Trial 1 finished with value: 0.2255083179297597 and parameters: {'n_estimators': 758, 'num_leaves': 1662, 'max_depth': 105, 'learning_rate': 0.02794481289284233, 'min_child_samples': 6, 'subsample': 0.7064159406846751, 'colsample_bytree': 0.746295449633365, 'reg_alpha': 0.21397576017358477, 'reg_lambda': 5.595100695350062}. Best is trial 1 with value: 0.2255083179297597.\n",
      "[I 2024-09-29 07:31:34,532] Trial 2 finished with value: 0.19614711033274954 and parameters: {'n_estimators': 732, 'num_leaves': 1723, 'max_depth': 113, 'learning_rate': 0.1543396138499248, 'min_child_samples': 212, 'subsample': 0.708679084820276, 'colsample_bytree': 0.6675417309628755, 'reg_alpha': 0.25044440615927477, 'reg_lambda': 0.8952337191573345}. Best is trial 1 with value: 0.2255083179297597.\n",
      "[I 2024-09-29 07:32:31,181] Trial 3 finished with value: 0.18689320388349515 and parameters: {'n_estimators': 3063, 'num_leaves': 1973, 'max_depth': 91, 'learning_rate': 0.1524933126391565, 'min_child_samples': 191, 'subsample': 0.6928077109293138, 'colsample_bytree': 0.822037044313793, 'reg_alpha': 1.7166881410419044, 'reg_lambda': 7.091856385134245}. Best is trial 1 with value: 0.2255083179297597.\n",
      "[I 2024-09-29 07:32:34,629] Trial 4 finished with value: 0.15175097276264593 and parameters: {'n_estimators': 620, 'num_leaves': 2300, 'max_depth': 75, 'learning_rate': 0.050539013756160336, 'min_child_samples': 141, 'subsample': 0.8569301680959336, 'colsample_bytree': 0.896221043977959, 'reg_alpha': 8.948716503896792, 'reg_lambda': 2.2054955292880263}. Best is trial 1 with value: 0.2255083179297597.\n",
      "[I 2024-09-29 07:32:37,728] Trial 5 finished with value: 0.1274131274131274 and parameters: {'n_estimators': 538, 'num_leaves': 2783, 'max_depth': 68, 'learning_rate': 0.1589173995189281, 'min_child_samples': 333, 'subsample': 0.5019419026920748, 'colsample_bytree': 0.9491413818571195, 'reg_alpha': 8.863991230957996, 'reg_lambda': 9.869402377076652}. Best is trial 1 with value: 0.2255083179297597.\n",
      "[I 2024-09-29 07:33:08,302] Trial 6 finished with value: 0.18146718146718144 and parameters: {'n_estimators': 3077, 'num_leaves': 1370, 'max_depth': 313, 'learning_rate': 0.09790635091866927, 'min_child_samples': 174, 'subsample': 0.9530921624917044, 'colsample_bytree': 0.8865389608735659, 'reg_alpha': 6.617293280550344, 'reg_lambda': 4.0074264943153075}. Best is trial 1 with value: 0.2255083179297597.\n",
      "[I 2024-09-29 07:34:16,073] Trial 7 finished with value: 0.20185375901132857 and parameters: {'n_estimators': 3016, 'num_leaves': 1716, 'max_depth': 28, 'learning_rate': 0.12724298548780003, 'min_child_samples': 62, 'subsample': 0.9397780530156141, 'colsample_bytree': 0.6136529073755062, 'reg_alpha': 0.8192863454855825, 'reg_lambda': 5.565067784864083}. Best is trial 1 with value: 0.2255083179297597.\n",
      "[I 2024-09-29 07:36:24,573] Trial 8 finished with value: 0.20954598370197905 and parameters: {'n_estimators': 3054, 'num_leaves': 642, 'max_depth': 245, 'learning_rate': 0.10284184032851522, 'min_child_samples': 20, 'subsample': 0.8535967369680808, 'colsample_bytree': 0.9571297566996891, 'reg_alpha': 0.05721440136761902, 'reg_lambda': 2.3377704506897623}. Best is trial 1 with value: 0.2255083179297597.\n",
      "[I 2024-09-29 07:37:16,334] Trial 9 finished with value: 0.1643059490084986 and parameters: {'n_estimators': 3478, 'num_leaves': 2787, 'max_depth': 268, 'learning_rate': 0.09568280146756532, 'min_child_samples': 130, 'subsample': 0.6893046763039987, 'colsample_bytree': 0.738017877444352, 'reg_alpha': 2.381304497369734, 'reg_lambda': 8.596699111970546}. Best is trial 1 with value: 0.2255083179297597.\n",
      "[I 2024-09-29 07:37:29,276] Trial 10 finished with value: 0.2015810276679842 and parameters: {'n_estimators': 1630, 'num_leaves': 3421, 'max_depth': 177, 'learning_rate': 0.012020800380701035, 'min_child_samples': 67, 'subsample': 0.5711053710623023, 'colsample_bytree': 0.5245041165085804, 'reg_alpha': 3.7634146770613888, 'reg_lambda': 7.334055035492847}. Best is trial 1 with value: 0.2255083179297597.\n",
      "[I 2024-09-29 07:37:58,484] Trial 11 finished with value: 0.22556390977443608 and parameters: {'n_estimators': 2017, 'num_leaves': 542, 'max_depth': 233, 'learning_rate': 0.05781432690049975, 'min_child_samples': 14, 'subsample': 0.7775721067497734, 'colsample_bytree': 0.7662179291070664, 'reg_alpha': 3.2952623243180073, 'reg_lambda': 3.0715388353989823}. Best is trial 11 with value: 0.22556390977443608.\n",
      "[I 2024-09-29 07:38:24,952] Trial 12 finished with value: 0.21252371916508536 and parameters: {'n_estimators': 1891, 'num_leaves': 529, 'max_depth': 203, 'learning_rate': 0.0409273620431574, 'min_child_samples': 7, 'subsample': 0.7887627573258418, 'colsample_bytree': 0.7621939623506231, 'reg_alpha': 3.6292447506141547, 'reg_lambda': 3.6405739026770645}. Best is trial 11 with value: 0.22556390977443608.\n",
      "[I 2024-09-29 07:38:38,848] Trial 13 finished with value: 0.20809248554913293 and parameters: {'n_estimators': 1348, 'num_leaves': 1111, 'max_depth': 169, 'learning_rate': 0.056858614566323844, 'min_child_samples': 77, 'subsample': 0.6274075831359857, 'colsample_bytree': 0.7067483077667016, 'reg_alpha': 4.659908715298441, 'reg_lambda': 5.884050893778048}. Best is trial 11 with value: 0.22556390977443608.\n",
      "[I 2024-09-29 07:39:01,810] Trial 14 finished with value: 0.19548872180451127 and parameters: {'n_estimators': 2469, 'num_leaves': 1076, 'max_depth': 340, 'learning_rate': 0.0021720383541798532, 'min_child_samples': 37, 'subsample': 0.7662911496342956, 'colsample_bytree': 0.8004726256936454, 'reg_alpha': 2.5903391235105886, 'reg_lambda': 0.10697202343918821}. Best is trial 11 with value: 0.22556390977443608.\n",
      "[I 2024-09-29 07:39:28,578] Trial 15 finished with value: 0.20774431468961277 and parameters: {'n_estimators': 2362, 'num_leaves': 1001, 'max_depth': 228, 'learning_rate': 0.1913720243622618, 'min_child_samples': 104, 'subsample': 0.6215479001522322, 'colsample_bytree': 0.6350011612154479, 'reg_alpha': 6.101924507514479, 'reg_lambda': 3.6696279811251182}. Best is trial 11 with value: 0.22556390977443608.\n",
      "[I 2024-09-29 07:39:41,631] Trial 16 finished with value: 0.1603053435114504 and parameters: {'n_estimators': 1195, 'num_leaves': 1499, 'max_depth': 7, 'learning_rate': 0.06946524125565827, 'min_child_samples': 286, 'subsample': 0.7857177569594249, 'colsample_bytree': 0.8301881395781989, 'reg_alpha': 1.797872570218197, 'reg_lambda': 2.076139904434833}. Best is trial 11 with value: 0.22556390977443608.\n",
      "[I 2024-09-29 07:40:09,612] Trial 17 finished with value: 0.2179732313575526 and parameters: {'n_estimators': 2259, 'num_leaves': 3210, 'max_depth': 145, 'learning_rate': 0.026122136378848946, 'min_child_samples': 9, 'subsample': 0.8970093450975904, 'colsample_bytree': 0.5660862770030235, 'reg_alpha': 3.6850663196972606, 'reg_lambda': 6.587503020047733}. Best is trial 11 with value: 0.22556390977443608.\n",
      "[I 2024-09-29 07:40:26,564] Trial 18 finished with value: 0.18426103646833014 and parameters: {'n_estimators': 1764, 'num_leaves': 707, 'max_depth': 290, 'learning_rate': 0.07764559284642081, 'min_child_samples': 104, 'subsample': 0.7310384549815151, 'colsample_bytree': 0.6958099071477751, 'reg_alpha': 5.0516450205506915, 'reg_lambda': 4.6526439936615835}. Best is trial 11 with value: 0.22556390977443608.\n",
      "[I 2024-09-29 07:40:38,905] Trial 19 finished with value: 0.19615384615384612 and parameters: {'n_estimators': 1284, 'num_leaves': 2042, 'max_depth': 199, 'learning_rate': 0.031771867894735316, 'min_child_samples': 47, 'subsample': 0.6180504186700226, 'colsample_bytree': 0.7760494061851526, 'reg_alpha': 7.659418676951671, 'reg_lambda': 3.047109426008343}. Best is trial 11 with value: 0.22556390977443608.\n"
     ]
    }
   ],
   "source": [
    "import optuna\n",
    "from lightgbm import LGBMClassifier\n",
    "from sklearn.model_selection import train_test_split\n",
    "from sklearn.metrics import f1_score\n",
    "\n",
    "# 'Normal'과 'AbNormal'을 숫자로 변환\n",
    "train_data_dam['target'] = train_data_dam['target'].map({'Normal': 0, 'AbNormal': 1})\n",
    "\n",
    "# 스레드홀드 설정\n",
    "THRESHOLD = 0.3\n",
    "\n",
    "def objectiveLGBM_dart(trial, x_tr, y_tr, x_val, y_val):\n",
    "    param = {\n",
    "        'n_estimators': trial.suggest_int('n_estimators', 500, 3500),\n",
    "        'num_leaves': trial.suggest_int('num_leaves', 500, 3500),\n",
    "        'max_depth': trial.suggest_int('max_depth', 5, 350),\n",
    "        'learning_rate': trial.suggest_float('learning_rate', 0.001, 0.2),\n",
    "        'min_child_samples': trial.suggest_int('min_child_samples', 3, 350),\n",
    "        'subsample': trial.suggest_float('subsample', 0.5, 1.0),\n",
    "        'colsample_bytree': trial.suggest_float('colsample_bytree', 0.5, 1.0),\n",
    "        'reg_alpha': trial.suggest_float('reg_alpha', 0.0, 10.0),\n",
    "        'reg_lambda': trial.suggest_float('reg_lambda', 0.0, 10.0),\n",
    "        'boosting_type': 'dart',  # 'boosting'를 'boosting_type'으로 수정\n",
    "        'random_state': RANDOM_STATE,\n",
    "        'verbose': -1\n",
    "    }\n",
    "       \n",
    "    model = LGBMClassifier(**param)\n",
    "    model.fit(x_tr, y_tr)\n",
    "    pred_proba = model.predict_proba(x_val)[:, 1]  # 양성 클래스 확률\n",
    "    pred = (pred_proba >= THRESHOLD).astype(int)  # 스레드홀드에 따른 예측\n",
    "    \n",
    "    score = f1_score(y_val, pred, average=\"binary\")\n",
    "    \n",
    "    return score\n",
    "\n",
    "# 데이터셋 분할\n",
    "x_train, x_val, y_train, y_val = train_test_split(\n",
    "    train_data_dam.drop(\"target\", axis=1),\n",
    "    train_data_dam[\"target\"],\n",
    "    test_size=0.2,\n",
    "    shuffle=True,\n",
    "    random_state=RANDOM_STATE,\n",
    ")\n",
    "\n",
    "# 하이퍼 파라미터 튜닝\n",
    "study = optuna.create_study(direction='maximize', sampler=optuna.samplers.TPESampler(seed=RANDOM_STATE))\n",
    "study.optimize(lambda trial: objectiveLGBM_dart(trial, x_train, y_train, x_val, y_val), n_trials=300)\n",
    "\n",
    "print('Best trial: score {}, \\nparams {}'.format(study.best_trial.value, study.best_trial.params))"
   ]
  },
  {
   "cell_type": "markdown",
   "id": "c4b10286",
   "metadata": {},
   "source": [
    "Best trial: score 0.24183796856106404,  \n",
    "params {'n_estimators': 671, 'num_leaves': 1228, 'max_depth': 319, 'learning_rate': 0.03491946169669256,  \n",
    "'min_child_samples': 260, 'subsample': 0.9252678606850344, 'colsample_bytree': 0.5612718496330068,  \n",
    "'reg_alpha': 7.904514025175038, 'reg_lambda': 1.3545791288910118}"
   ]
  },
  {
   "cell_type": "markdown",
   "id": "036385b7",
   "metadata": {},
   "source": [
    "."
   ]
  }
 ],
 "metadata": {
  "kernelspec": {
   "display_name": "Python 3 (ipykernel)",
   "language": "python",
   "name": "python3"
  },
  "language_info": {
   "codemirror_mode": {
    "name": "ipython",
    "version": 3
   },
   "file_extension": ".py",
   "mimetype": "text/x-python",
   "name": "python",
   "nbconvert_exporter": "python",
   "pygments_lexer": "ipython3",
   "version": "3.12.0"
  }
 },
 "nbformat": 4,
 "nbformat_minor": 5
}

{
 "cells": [
  {
   "cell_type": "markdown",
   "id": "017e9265",
   "metadata": {},
   "source": [
    "# 제품 이상여부 판별 프로젝트\n"
   ]
  },
  {
   "cell_type": "markdown",
   "id": "acdab431",
   "metadata": {},
   "source": [
    "## 1. 데이터 불러오기\n"
   ]
  },
  {
   "cell_type": "markdown",
   "id": "2b8341e8",
   "metadata": {},
   "source": [
    "### 필수 라이브러리\n"
   ]
  },
  {
   "cell_type": "code",
   "execution_count": 54,
   "id": "a315cc58",
   "metadata": {},
   "outputs": [],
   "source": [
    "import numpy as np\n",
    "import pandas as pd\n",
    "import seaborn as sns\n",
    "import matplotlib.pyplot as plt\n",
    "\n",
    "import os\n",
    "from pprint import pprint\n",
    "\n",
    "from sklearn.ensemble import RandomForestClassifier\n",
    "from sklearn.metrics import (\n",
    "    accuracy_score,\n",
    "    classification_report,\n",
    "    confusion_matrix,\n",
    "    f1_score,\n",
    "    precision_score,\n",
    "    recall_score,\n",
    ")\n",
    "from sklearn.model_selection import train_test_split\n",
    "from tqdm import tqdm"
   ]
  },
  {
   "cell_type": "markdown",
   "id": "4d054e30",
   "metadata": {},
   "source": [
    "### 데이터 읽어오기\n"
   ]
  },
  {
   "cell_type": "code",
   "execution_count": 55,
   "id": "fc0b4d80",
   "metadata": {},
   "outputs": [],
   "source": [
    "RANDOM_STATE = 110\n",
    "\n",
    "train_data = pd.read_csv(\"../../data/train_data_0817.csv\")\n",
    "test_data = pd.read_csv(\"../../data/test_data_0817.csv\")"
   ]
  },
  {
   "cell_type": "code",
   "execution_count": 56,
   "id": "25126566",
   "metadata": {},
   "outputs": [
    {
     "name": "stdout",
     "output_type": "stream",
     "text": [
      "<class 'pandas.core.frame.DataFrame'>\n",
      "RangeIndex: 40506 entries, 0 to 40505\n",
      "Data columns (total 38 columns):\n",
      " #   Column                                          Non-Null Count  Dtype  \n",
      "---  ------                                          --------------  -----  \n",
      " 0   CURE SPEED Collect Result_Dam                   40506 non-null  int64  \n",
      " 1   DISCHARGED SPEED OF RESIN Collect Result_Dam    40506 non-null  int64  \n",
      " 2   Head Clean Position Z Collect Result_Dam        40506 non-null  float64\n",
      " 3   Head Purge Position Z Collect Result_Dam        40506 non-null  float64\n",
      " 4   Head Zero Position Y Collect Result_Dam         40506 non-null  float64\n",
      " 5   Stage2_Circle_Distance_Speed_Dam                40506 non-null  int64  \n",
      " 6   WorkMode Collect Result                         40506 non-null  float64\n",
      " 7   Chamber Temp. Collect Result_AutoClave          40506 non-null  int64  \n",
      " 8   DISCHARGED SPEED OF RESIN Collect Result_Fill1  40506 non-null  float64\n",
      " 9   Head Purge Position Z Collect Result_Fill1      40506 non-null  int64  \n",
      " 10  CURE SPEED Collect Result_Fill2                 40506 non-null  int64  \n",
      " 11  Head Purge Position Z Collect Result_Fill2      40506 non-null  float64\n",
      " 12  target                                          40506 non-null  object \n",
      " 13  Equipment_same_num                              40506 non-null  int64  \n",
      " 14  Production_Qty_Collect_Result                   40506 non-null  int64  \n",
      " 15  CURE_DISTANCE_Dam                               40506 non-null  float64\n",
      " 16  HEAD NORMAL DISTANCE_STAGE1_STAGE3_Dam          40506 non-null  float64\n",
      " 17  HEAD NORMAL DISTANCE_TRIANGLE_height_Dam        40506 non-null  float64\n",
      " 18  HEAD NORMAL DISTANCE_STAGE1_STAGE3_Fill1        40506 non-null  float64\n",
      " 19  HEAD NORMAL DISTANCE_TRIANGLE_height_Fill1      40506 non-null  float64\n",
      " 20  HEAD NORMAL DISTANCE_STAGE1_STAGE2_Fill2        40506 non-null  float64\n",
      " 21  volume_time_multip_avg_Dam                      40506 non-null  float64\n",
      " 22  volume_time_multip_avg_Fill1                    40506 non-null  float64\n",
      " 23  average_thickness_Dam                           40506 non-null  float64\n",
      " 24  1st_pressure_time_AutoClave                     40506 non-null  float64\n",
      " 25  2nd_pressure_time_AutoClave                     40506 non-null  float64\n",
      " 26  3rd_pressure_time_AutoClave                     40506 non-null  float64\n",
      " 27  time_ratio_Dam                                  40506 non-null  float64\n",
      " 28  time_ratio_Fill1                                40506 non-null  float64\n",
      " 29  time_ratio_Fill2                                40506 non-null  float64\n",
      " 30  time_ratio_AutoClave                            40506 non-null  float64\n",
      " 31  model_receip_encoded                            40506 non-null  float64\n",
      " 32  workorder_receip_encoded                        40506 non-null  float64\n",
      " 33  PalletID_Collect_Result_encoded                 40506 non-null  float64\n",
      " 34  cure_end_position_XZ_Fill2_encoded              40506 non-null  float64\n",
      " 35  cure_start_position_XZ_Fill2_encoded            40506 non-null  float64\n",
      " 36  stage1_line13_distance_speed_Dam_encoded        40506 non-null  float64\n",
      " 37  stage2_line24_distance_speed_Dam_encoded        40506 non-null  float64\n",
      "dtypes: float64(29), int64(8), object(1)\n",
      "memory usage: 11.7+ MB\n",
      "---\n"
     ]
    }
   ],
   "source": [
    "train_data.info()\n",
    "print('---')\n",
    "# test_data.info()"
   ]
  },
  {
   "cell_type": "code",
   "execution_count": 57,
   "id": "3295f20e",
   "metadata": {},
   "outputs": [],
   "source": [
    "# dam, fill1, fill2 공통 변수\n",
    "var_dam_fill = [\n",
    "    'Equipment_same_num',\n",
    "    'PalletID_Collect_Result_encoded',\n",
    "    'Production_Qty_Collect_Result',\n",
    "    'WorkMode Collect Result'\n",
    "]"
   ]
  },
  {
   "cell_type": "code",
   "execution_count": 58,
   "id": "e7a20bb6",
   "metadata": {},
   "outputs": [],
   "source": [
    "# 전체 공통 변수\n",
    "### correlation 확인을 위한 변수 리스트\n",
    "var_all_corr = [\n",
    "    'model_receip_encoded',\n",
    "    'workorder_receip_encoded'\n",
    "]\n",
    "\n",
    "### train\n",
    "var_all_train = [\n",
    "    'target',\n",
    "    'model_receip_encoded',\n",
    "    'workorder_receip_encoded'\n",
    "]\n",
    "\n",
    "### test\n",
    "var_all_test = [\n",
    "    'Set ID',\n",
    "    'target',\n",
    "    'model_receip_encoded',\n",
    "    'workorder_receip_encoded'\n",
    "]"
   ]
  },
  {
   "cell_type": "code",
   "execution_count": 59,
   "id": "2b409713",
   "metadata": {},
   "outputs": [],
   "source": [
    "# '_Dam'을 포함하는 변수 선택\n",
    "dam_variables = [var for var in train_data.columns if '_Dam' in var]\n",
    "\n",
    "# train\n",
    "final_columns_train = var_dam_fill + var_all_train + dam_variables\n",
    "train_data_dam = train_data[final_columns_train]\n",
    "\n",
    "# test \n",
    "final_columns_test = var_dam_fill + var_all_test + dam_variables\n",
    "test_data_dam = test_data[final_columns_test]"
   ]
  },
  {
   "cell_type": "code",
   "execution_count": 60,
   "id": "1055b340",
   "metadata": {},
   "outputs": [],
   "source": [
    "# '_Fill1'을 포함하는 변수 선택\n",
    "fill1_variables = [var for var in train_data.columns if '_Fill1' in var]\n",
    "\n",
    "# train\n",
    "final_columns_train = var_dam_fill + var_all_train + fill1_variables\n",
    "train_data_fill1 = train_data[final_columns_train]\n",
    "\n",
    "# test \n",
    "final_columns_test = var_dam_fill + var_all_test + fill1_variables\n",
    "test_data_fill1 = test_data[final_columns_test]"
   ]
  },
  {
   "cell_type": "code",
   "execution_count": 61,
   "id": "36c3ff95",
   "metadata": {},
   "outputs": [],
   "source": [
    "# '_Fill2'을 포함하는 변수 선택\n",
    "fill2_variables = [var for var in train_data.columns if '_Fill2' in var]\n",
    "\n",
    "# train\n",
    "final_columns_train = var_dam_fill + var_all_train + fill2_variables\n",
    "train_data_fill2 = train_data[final_columns_train]\n",
    "\n",
    "# test \n",
    "final_columns_test = var_dam_fill + var_all_test + fill2_variables\n",
    "test_data_fill2 = test_data[final_columns_test]"
   ]
  },
  {
   "cell_type": "code",
   "execution_count": 62,
   "id": "fe76371c",
   "metadata": {},
   "outputs": [],
   "source": [
    "# '_AutoClave'을 포함하는 변수 선택\n",
    "autoclave_variables = [var for var in train_data.columns if '_AutoClave' in var]\n",
    "\n",
    "# train\n",
    "final_columns_train = var_all_train + autoclave_variables\n",
    "train_data_autoclave = train_data[final_columns_train]\n",
    "\n",
    "# test \n",
    "final_columns_test = var_all_test + autoclave_variables\n",
    "test_data_autoclave = test_data[final_columns_test]"
   ]
  },
  {
   "cell_type": "markdown",
   "id": "5c4e5b59",
   "metadata": {},
   "source": [
    "## 3. 모델 학습"
   ]
  },
  {
   "cell_type": "markdown",
   "id": "cfaa06da",
   "metadata": {},
   "source": [
    "### 모델 정의"
   ]
  },
  {
   "cell_type": "code",
   "execution_count": 63,
   "id": "fb9e8f54",
   "metadata": {},
   "outputs": [],
   "source": [
    "import os\n",
    "import numpy as np\n",
    "import pandas as pd\n",
    "from sklearn.metrics import roc_auc_score\n",
    "from sklearn.preprocessing import LabelEncoder\n",
    "from matplotlib import pyplot as plt\n",
    "\n",
    "import torch\n",
    "import torch.nn as nn\n",
    "from pytorch_tabnet.tab_model import TabNetClassifier"
   ]
  },
  {
   "cell_type": "code",
   "execution_count": 64,
   "id": "8ec04f21",
   "metadata": {},
   "outputs": [],
   "source": [
    "import seaborn as sns\n",
    "from pprint import pprint\n",
    "\n",
    "from sklearn.ensemble import RandomForestClassifier\n",
    "from sklearn.metrics import (\n",
    "    accuracy_score,\n",
    "    classification_report,\n",
    "    confusion_matrix,\n",
    "    f1_score,\n",
    "    precision_score,\n",
    "    recall_score,\n",
    ")\n",
    "from sklearn.model_selection import train_test_split\n",
    "from tqdm import tqdm"
   ]
  },
  {
   "cell_type": "code",
   "execution_count": 65,
   "id": "a97f6a14-d49a-43b4-92d6-5b4b1a775555",
   "metadata": {},
   "outputs": [],
   "source": [
    "import random\n",
    "\n",
    "np.random.seed(RANDOM_STATE)\n",
    "random.seed(RANDOM_STATE)\n",
    "os.environ['PYTHONHASHSEED'] = str(RANDOM_STATE)"
   ]
  },
  {
   "cell_type": "code",
   "execution_count": 66,
   "id": "1a795a8a-a833-4ced-94bf-a3c3d1f80e49",
   "metadata": {},
   "outputs": [],
   "source": [
    "train_data_dam = train_data_dam.dropna(axis=1)\n",
    "test_data_dam = test_data_dam.dropna(axis=1)"
   ]
  },
  {
   "cell_type": "code",
   "execution_count": 67,
   "id": "b258afd5-13e4-4f80-86c0-06d75d62b658",
   "metadata": {},
   "outputs": [],
   "source": [
    "train_data_autoclave = train_data_autoclave.dropna(axis=1)\n",
    "test_data_autoclave = test_data_autoclave.dropna(axis=1)"
   ]
  },
  {
   "cell_type": "code",
   "execution_count": 68,
   "id": "4053193f-d691-4294-aa1f-740dd7abf578",
   "metadata": {},
   "outputs": [],
   "source": [
    "train_data_fill1 = train_data_fill1.dropna(axis=1)\n",
    "test_data_fill1 = test_data_fill1.dropna(axis=1)"
   ]
  },
  {
   "cell_type": "code",
   "execution_count": 69,
   "id": "6ff944c7-8b4b-46eb-b8e9-390e12e203e6",
   "metadata": {},
   "outputs": [],
   "source": [
    "train_data_fill2 = train_data_fill2.dropna(axis=1)\n",
    "test_data_fill2 = test_data_fill2.dropna(axis=1)"
   ]
  },
  {
   "cell_type": "code",
   "execution_count": 70,
   "id": "f7170786-7f76-441e-a5b6-25dbec2885f9",
   "metadata": {},
   "outputs": [],
   "source": [
    "X_train = train_data.drop(columns=['target'])\n",
    "y_train = train_data['target']"
   ]
  },
  {
   "cell_type": "code",
   "execution_count": 71,
   "id": "e32f42de-852c-47e0-9e77-4464dbf102ff",
   "metadata": {},
   "outputs": [],
   "source": [
    "X_train_dam = train_data_dam.drop(columns=['target'])"
   ]
  },
  {
   "cell_type": "code",
   "execution_count": 72,
   "id": "322c3932-7b87-4a9f-8371-1a0abc643809",
   "metadata": {},
   "outputs": [],
   "source": [
    "X_train_autoclave = train_data_autoclave.drop(columns=['target'])"
   ]
  },
  {
   "cell_type": "code",
   "execution_count": 73,
   "id": "54b23e61-cbce-4c4d-b40f-fa30f201fc65",
   "metadata": {},
   "outputs": [],
   "source": [
    "X_train_fill1 = train_data_fill1.drop(columns=['target'])"
   ]
  },
  {
   "cell_type": "code",
   "execution_count": 74,
   "id": "73c337db-8ddb-4f2b-b19b-5832afe329a8",
   "metadata": {},
   "outputs": [],
   "source": [
    "X_train_fill2 = train_data_fill2.drop(columns=['target'])"
   ]
  },
  {
   "cell_type": "code",
   "execution_count": 75,
   "id": "a2920fa4-2e64-4826-a028-5f6d22c5b463",
   "metadata": {},
   "outputs": [],
   "source": [
    "nunique = X_train_dam.nunique()\n",
    "types = X_train_dam.dtypes\n",
    "\n",
    "categorical_columns_dam = []\n",
    "categorical_dims_dam =  {}\n",
    "for col in X_train_dam.columns:\n",
    "    if types[col] == 'object' or nunique[col] < 2:\n",
    "        print(col, X_train_dam[col].nunique())\n",
    "        l_enc = LabelEncoder()\n",
    "        X_train_dam[col] = X_train_dam[col].fillna(\"VV_likely\")\n",
    "        X_train_dam[col] = l_enc.fit_transform(X_train_dam[col].values)\n",
    "        categorical_columns_dam.append(col)\n",
    "        categorical_dims_dam[col] = len(l_enc.classes_)\n",
    "    else:\n",
    "        X_train_dam.fillna(train_data.loc[:, col].mean(), inplace=True)"
   ]
  },
  {
   "cell_type": "code",
   "execution_count": 76,
   "id": "ba4483f9-4082-4c32-a382-3ecf8beca0da",
   "metadata": {},
   "outputs": [],
   "source": [
    "nunique = X_train_autoclave.nunique()\n",
    "types = X_train_autoclave.dtypes\n",
    "\n",
    "categorical_columns_autoclave = []\n",
    "categorical_dims_autoclave =  {}\n",
    "for col in X_train_autoclave.columns:\n",
    "    if types[col] == 'object' or nunique[col] < 2:\n",
    "        print(col, X_train_autoclave[col].nunique())\n",
    "        l_enc = LabelEncoder()\n",
    "        X_train_autoclave[col] = X_train_autoclave[col].fillna(\"VV_likely\")\n",
    "        X_train_autoclave[col] = l_enc.fit_transform(X_train_autoclave[col].values)\n",
    "        categorical_columns_autoclave.append(col)\n",
    "        categorical_dims_autoclave[col] = len(l_enc.classes_)\n",
    "    else:\n",
    "        X_train_autoclave.fillna(train_data.loc[:, col].mean(), inplace=True)"
   ]
  },
  {
   "cell_type": "code",
   "execution_count": 77,
   "id": "b89ac282-1965-424d-beea-017da19a206b",
   "metadata": {},
   "outputs": [],
   "source": [
    "nunique = X_train_fill1.nunique()\n",
    "types = X_train_fill1.dtypes\n",
    "\n",
    "categorical_columns_fill1 = []\n",
    "categorical_dims_fill1 =  {}\n",
    "for col in X_train_fill1.columns:\n",
    "    if types[col] == 'object' or nunique[col] < 2:\n",
    "        print(col, X_train_fill1[col].nunique())\n",
    "        l_enc = LabelEncoder()\n",
    "        X_train_fill1[col] = X_train_fill1[col].fillna(\"VV_likely\")\n",
    "        X_train_fill1[col] = l_enc.fit_transform(X_train_fill1[col].values)\n",
    "        categorical_columns_fill1.append(col)\n",
    "        categorical_dims_fill1[col] = len(l_enc.classes_)\n",
    "    else:\n",
    "        X_train_fill1.fillna(train_data.loc[:, col].mean(), inplace=True)"
   ]
  },
  {
   "cell_type": "code",
   "execution_count": 78,
   "id": "a4dedeed-6f82-45c3-8954-1047cffe1d21",
   "metadata": {},
   "outputs": [],
   "source": [
    "nunique = X_train_fill2.nunique()\n",
    "types = X_train_fill2.dtypes\n",
    "\n",
    "categorical_columns_fill2 = []\n",
    "categorical_dims_fill2 =  {}\n",
    "for col in X_train_fill2.columns:\n",
    "    if types[col] == 'object' or nunique[col] < 2:\n",
    "        print(col, X_train_fill2[col].nunique())\n",
    "        l_enc = LabelEncoder()\n",
    "        X_train_fill2[col] = X_train_fill2[col].fillna(\"VV_likely\")\n",
    "        X_train_fill2[col] = l_enc.fit_transform(X_train_fill2[col].values)\n",
    "        categorical_columns_fill2.append(col)\n",
    "        categorical_dims_fill2[col] = len(l_enc.classes_)\n",
    "    else:\n",
    "        X_train_fill2.fillna(train_data.loc[:, col].mean(), inplace=True)"
   ]
  },
  {
   "cell_type": "code",
   "execution_count": 79,
   "id": "2fe5a2a7-60ad-4b3e-8a91-6556a479297d",
   "metadata": {},
   "outputs": [],
   "source": [
    "# features = [ col for col in X_train.columns] \n",
    "# cat_idxs = [ i for i, f in enumerate(features) if f in categorical_columns]\n",
    "# cat_dims = [ categorical_dims[f] for i, f in enumerate(features) if f in categorical_columns]"
   ]
  },
  {
   "cell_type": "code",
   "execution_count": 80,
   "id": "1e38d930-ac4d-402e-b745-4bf8d46bc329",
   "metadata": {},
   "outputs": [],
   "source": [
    "# cat_idxs"
   ]
  },
  {
   "cell_type": "code",
   "execution_count": 81,
   "id": "462c8b79-0ca5-40fb-a5aa-d39630d6ce2a",
   "metadata": {},
   "outputs": [],
   "source": [
    "from sklearn.model_selection import train_test_split\n",
    "\n",
    "x_train_dam, x_valid_dam, y_train_dam, y_valid_dam = train_test_split(X_train_dam, y_train, test_size=0.2, shuffle=True, stratify=y_train, random_state=34)"
   ]
  },
  {
   "cell_type": "code",
   "execution_count": 82,
   "id": "a74c3fc1-3a84-4441-a094-65ad18fbffe1",
   "metadata": {},
   "outputs": [],
   "source": [
    "x_train_autoclave, x_valid_autoclave, y_train_autoclave, y_valid_autoclave = train_test_split(X_train_autoclave, y_train, test_size=0.2, shuffle=True, stratify=y_train, random_state=34)"
   ]
  },
  {
   "cell_type": "code",
   "execution_count": 83,
   "id": "c1f7f10b-8758-4987-a9e1-1f45b265dc38",
   "metadata": {},
   "outputs": [],
   "source": [
    "x_train_fill1, x_valid_fill1, y_train_fill1, y_valid_fill1 = train_test_split(X_train_fill1, y_train, test_size=0.2, shuffle=True, stratify=y_train, random_state=34)"
   ]
  },
  {
   "cell_type": "code",
   "execution_count": 84,
   "id": "86cb2c6b-2f2d-49f2-8f87-fed3373fb788",
   "metadata": {},
   "outputs": [],
   "source": [
    "x_train_fill2, x_valid_fill2, y_train_fill2, y_valid_fill2 = train_test_split(X_train_fill2, y_train, test_size=0.2, shuffle=True, stratify=y_train, random_state=34)"
   ]
  },
  {
   "cell_type": "code",
   "execution_count": 85,
   "id": "a423e3ca-172c-492c-980d-87250de19125",
   "metadata": {},
   "outputs": [],
   "source": [
    "features = [ col for col in X_train_dam.columns] \n",
    "cat_idxs_dam = [ i for i, f in enumerate(features) if f in categorical_columns_dam]\n",
    "cat_dims_dam = [ categorical_dims_dam[f] for i, f in enumerate(features) if f in categorical_columns_dam]"
   ]
  },
  {
   "cell_type": "code",
   "execution_count": 86,
   "id": "e0e92c97-1cbe-4741-a2b5-8f85aac0f59c",
   "metadata": {},
   "outputs": [],
   "source": [
    "features = [ col for col in X_train_autoclave.columns] \n",
    "cat_idxs_autoclave = [ i for i, f in enumerate(features) if f in categorical_columns_autoclave]\n",
    "cat_dims_autoclave = [ categorical_dims_autoclave[f] for i, f in enumerate(features) if f in categorical_columns_autoclave]"
   ]
  },
  {
   "cell_type": "code",
   "execution_count": 87,
   "id": "e5264431-fb1b-4da4-b753-4c6d329fa1cb",
   "metadata": {},
   "outputs": [],
   "source": [
    "features = [ col for col in X_train_fill1.columns] \n",
    "cat_idxs_fill1 = [ i for i, f in enumerate(features) if f in categorical_columns_fill1]\n",
    "cat_dims_fill1 = [ categorical_dims_fill1[f] for i, f in enumerate(features) if f in categorical_columns_fill1]"
   ]
  },
  {
   "cell_type": "code",
   "execution_count": 88,
   "id": "39d1ffc6-3a5d-451a-9456-b4ab2db91e59",
   "metadata": {},
   "outputs": [],
   "source": [
    "features = [ col for col in X_train_fill2.columns] \n",
    "cat_idxs_fill2 = [ i for i, f in enumerate(features) if f in categorical_columns_fill2]\n",
    "cat_dims_fill2 = [ categorical_dims_fill2[f] for i, f in enumerate(features) if f in categorical_columns_fill2]"
   ]
  },
  {
   "cell_type": "code",
   "execution_count": 89,
   "id": "dc7bf6c2-8d0e-4eee-b71b-f7065e646bd5",
   "metadata": {},
   "outputs": [],
   "source": [
    "x_train_dam_np = x_train_dam.values\n",
    "y_train_dam_np = y_train_dam.values\n",
    "x_valid_dam_np = x_valid_dam.values\n",
    "y_valid_dam_np = y_valid_dam.values"
   ]
  },
  {
   "cell_type": "code",
   "execution_count": 90,
   "id": "04bf619b-ac16-4945-813d-e24f882c58c3",
   "metadata": {},
   "outputs": [],
   "source": [
    "x_train_autoclave_np = x_train_autoclave.values\n",
    "y_train_autoclave_np = y_train_autoclave.values\n",
    "x_valid_autoclave_np = x_valid_autoclave.values\n",
    "y_valid_autoclave_np = y_valid_autoclave.values"
   ]
  },
  {
   "cell_type": "code",
   "execution_count": 91,
   "id": "004797ce-16e4-4f5d-8b90-778d0a805325",
   "metadata": {},
   "outputs": [],
   "source": [
    "x_train_fill1_np = x_train_fill1.values\n",
    "y_train_fill1_np = y_train_fill1.values\n",
    "x_valid_fill1_np = x_valid_fill1.values\n",
    "y_valid_fill1_np = y_valid_fill1.values"
   ]
  },
  {
   "cell_type": "code",
   "execution_count": 92,
   "id": "952623df-9034-4d19-8ea3-4cd8d086fe52",
   "metadata": {},
   "outputs": [],
   "source": [
    "x_train_fill2_np = x_train_fill2.values\n",
    "y_train_fill2_np = y_train_fill2.values\n",
    "x_valid_fill2_np = x_valid_fill2.values\n",
    "y_valid_fill2_np = y_valid_fill2.values"
   ]
  },
  {
   "cell_type": "markdown",
   "id": "52ec6ee4",
   "metadata": {},
   "source": [
    "## 모델 학습"
   ]
  },
  {
   "cell_type": "code",
   "execution_count": 93,
   "id": "e45f078a-53e5-4d06-8c3a-b2d54369e520",
   "metadata": {},
   "outputs": [
    {
     "name": "stderr",
     "output_type": "stream",
     "text": [
      "c:\\Users\\juneh\\AppData\\Local\\Programs\\Python\\Python37\\lib\\site-packages\\pytorch_tabnet\\abstract_model.py:82: UserWarning: Device used : cpu\n",
      "  warnings.warn(f\"Device used : {self.device}\")\n"
     ]
    }
   ],
   "source": [
    "clf_dam = TabNetClassifier(cat_idxs=cat_idxs_dam,\n",
    "                       cat_dims=cat_dims_dam,\n",
    "                       cat_emb_dim=1000,\n",
    "                       optimizer_fn=torch.optim.Adam,\n",
    "                       optimizer_params=dict(lr=1e-2),\n",
    "                       scheduler_params={\"step_size\":50,\n",
    "                                         \"gamma\":0.9},\n",
    "                       scheduler_fn=torch.optim.lr_scheduler.StepLR,\n",
    "                       mask_type='sparsemax' # \"sparsemax\", entmax\n",
    "                      )"
   ]
  },
  {
   "cell_type": "code",
   "execution_count": 94,
   "id": "26d2ede9-60c9-44f0-8679-b5352d085916",
   "metadata": {},
   "outputs": [],
   "source": [
    "clf_autoclave = TabNetClassifier(cat_idxs=cat_idxs_autoclave,\n",
    "                       cat_dims=cat_dims_autoclave,\n",
    "                       cat_emb_dim=1000,\n",
    "                       optimizer_fn=torch.optim.Adam,\n",
    "                       optimizer_params=dict(lr=1e-2),\n",
    "                       scheduler_params={\"step_size\":50,\n",
    "                                         \"gamma\":0.9},\n",
    "                       scheduler_fn=torch.optim.lr_scheduler.StepLR,\n",
    "                       mask_type='sparsemax' # \"sparsemax\", entmax\n",
    "                      )"
   ]
  },
  {
   "cell_type": "code",
   "execution_count": 95,
   "id": "bbcd4bad-15ee-4ab5-afd5-ac695ee2902a",
   "metadata": {},
   "outputs": [],
   "source": [
    "clf_fill1 = TabNetClassifier(cat_idxs=cat_idxs_fill1,\n",
    "                       cat_dims=cat_dims_fill1,\n",
    "                       cat_emb_dim=1000,\n",
    "                       optimizer_fn=torch.optim.Adam,\n",
    "                       optimizer_params=dict(lr=1e-2),\n",
    "                       scheduler_params={\"step_size\":50,\n",
    "                                         \"gamma\":0.9},\n",
    "                       scheduler_fn=torch.optim.lr_scheduler.StepLR,\n",
    "                       mask_type='sparsemax' # \"sparsemax\", entmax\n",
    "                      )"
   ]
  },
  {
   "cell_type": "code",
   "execution_count": 96,
   "id": "c2c61773-5156-48da-9edd-73303e5458f9",
   "metadata": {},
   "outputs": [],
   "source": [
    "clf_fill2 = TabNetClassifier(cat_idxs=cat_idxs_fill2,\n",
    "                       cat_dims=cat_dims_fill2,\n",
    "                       cat_emb_dim=1000,\n",
    "                       optimizer_fn=torch.optim.Adam,\n",
    "                       optimizer_params=dict(lr=1e-2),\n",
    "                       scheduler_params={\"step_size\":50,\n",
    "                                         \"gamma\":0.9},\n",
    "                       scheduler_fn=torch.optim.lr_scheduler.StepLR,\n",
    "                       mask_type='sparsemax' # \"sparsemax\", entmax\n",
    "                      )"
   ]
  },
  {
   "cell_type": "code",
   "execution_count": 97,
   "id": "a1e05d75-02fb-4d2f-9e9b-e4f7c06f8f87",
   "metadata": {},
   "outputs": [
    {
     "name": "stdout",
     "output_type": "stream",
     "text": [
      "epoch 0  | loss: 0.6661  | train_auc: 0.44545 | valid_auc: 0.44618 |  0:00:02s\n",
      "epoch 1  | loss: 0.61291 | train_auc: 0.52764 | valid_auc: 0.5086  |  0:00:04s\n",
      "epoch 2  | loss: 0.59982 | train_auc: 0.55736 | valid_auc: 0.54902 |  0:00:06s\n",
      "epoch 3  | loss: 0.59439 | train_auc: 0.57663 | valid_auc: 0.57354 |  0:00:09s\n",
      "epoch 4  | loss: 0.59269 | train_auc: 0.59641 | valid_auc: 0.5988  |  0:00:11s\n",
      "epoch 5  | loss: 0.59073 | train_auc: 0.58723 | valid_auc: 0.59156 |  0:00:13s\n",
      "epoch 6  | loss: 0.58638 | train_auc: 0.60853 | valid_auc: 0.63196 |  0:00:15s\n",
      "epoch 7  | loss: 0.59224 | train_auc: 0.6144  | valid_auc: 0.6298  |  0:00:17s\n",
      "epoch 8  | loss: 0.58811 | train_auc: 0.6278  | valid_auc: 0.63105 |  0:00:19s\n",
      "epoch 9  | loss: 0.59046 | train_auc: 0.66651 | valid_auc: 0.67573 |  0:00:21s\n",
      "epoch 10 | loss: 0.59067 | train_auc: 0.71334 | valid_auc: 0.72293 |  0:00:23s\n",
      "epoch 11 | loss: 0.5893  | train_auc: 0.71597 | valid_auc: 0.73203 |  0:00:26s\n",
      "epoch 12 | loss: 0.58978 | train_auc: 0.72678 | valid_auc: 0.73713 |  0:00:28s\n",
      "epoch 13 | loss: 0.58664 | train_auc: 0.72958 | valid_auc: 0.74232 |  0:00:30s\n",
      "epoch 14 | loss: 0.58909 | train_auc: 0.73104 | valid_auc: 0.74494 |  0:00:32s\n",
      "epoch 15 | loss: 0.58727 | train_auc: 0.71928 | valid_auc: 0.73516 |  0:00:34s\n",
      "epoch 16 | loss: 0.58498 | train_auc: 0.72637 | valid_auc: 0.73836 |  0:00:36s\n",
      "epoch 17 | loss: 0.58373 | train_auc: 0.74228 | valid_auc: 0.74476 |  0:00:38s\n",
      "epoch 18 | loss: 0.58279 | train_auc: 0.74434 | valid_auc: 0.74357 |  0:00:41s\n",
      "epoch 19 | loss: 0.58487 | train_auc: 0.74338 | valid_auc: 0.73809 |  0:00:43s\n",
      "Stop training because you reached max_epochs = 20 with best_epoch = 14 and best_valid_auc = 0.74494\n"
     ]
    },
    {
     "name": "stderr",
     "output_type": "stream",
     "text": [
      "c:\\Users\\juneh\\AppData\\Local\\Programs\\Python\\Python37\\lib\\site-packages\\pytorch_tabnet\\callbacks.py:172: UserWarning: Best weights from best epoch are automatically used!\n",
      "  warnings.warn(wrn_msg)\n"
     ]
    }
   ],
   "source": [
    "max_epochs = 20\n",
    "\n",
    "clf_dam.fit(\n",
    "    X_train=x_train_dam_np, y_train=y_train_dam_np,\n",
    "    eval_set=[(x_train_dam_np, y_train_dam_np), (x_valid_dam_np, y_valid_dam_np)],\n",
    "    eval_name=['train', 'valid'],\n",
    "    eval_metric=['auc'],\n",
    "    max_epochs=max_epochs , patience=20,\n",
    "    batch_size=1024, virtual_batch_size=128,\n",
    "    num_workers=0,\n",
    "    weights=1,\n",
    "    drop_last=False,\n",
    ")"
   ]
  },
  {
   "cell_type": "code",
   "execution_count": 98,
   "id": "b11dcf46-c9f0-4cfd-bd33-ddf59350c19b",
   "metadata": {},
   "outputs": [
    {
     "name": "stdout",
     "output_type": "stream",
     "text": [
      "epoch 0  | loss: 0.66857 | train_auc: 0.50101 | valid_auc: 0.46036 |  0:00:02s\n",
      "epoch 1  | loss: 0.61162 | train_auc: 0.51894 | valid_auc: 0.5026  |  0:00:04s\n",
      "epoch 2  | loss: 0.60437 | train_auc: 0.50784 | valid_auc: 0.50606 |  0:00:06s\n",
      "epoch 3  | loss: 0.59948 | train_auc: 0.57685 | valid_auc: 0.53429 |  0:00:08s\n",
      "epoch 4  | loss: 0.5973  | train_auc: 0.60286 | valid_auc: 0.62226 |  0:00:10s\n",
      "epoch 5  | loss: 0.59733 | train_auc: 0.67166 | valid_auc: 0.67439 |  0:00:12s\n",
      "epoch 6  | loss: 0.59266 | train_auc: 0.71787 | valid_auc: 0.72391 |  0:00:15s\n",
      "epoch 7  | loss: 0.59556 | train_auc: 0.72638 | valid_auc: 0.73567 |  0:00:17s\n",
      "epoch 8  | loss: 0.59436 | train_auc: 0.73389 | valid_auc: 0.73694 |  0:00:19s\n",
      "epoch 9  | loss: 0.59236 | train_auc: 0.73434 | valid_auc: 0.73663 |  0:00:21s\n",
      "epoch 10 | loss: 0.59334 | train_auc: 0.73442 | valid_auc: 0.73793 |  0:00:23s\n",
      "epoch 11 | loss: 0.59444 | train_auc: 0.7372  | valid_auc: 0.74246 |  0:00:25s\n",
      "epoch 12 | loss: 0.59296 | train_auc: 0.73599 | valid_auc: 0.7334  |  0:00:27s\n",
      "epoch 13 | loss: 0.59135 | train_auc: 0.73721 | valid_auc: 0.7382  |  0:00:30s\n",
      "epoch 14 | loss: 0.59447 | train_auc: 0.73856 | valid_auc: 0.74252 |  0:00:32s\n",
      "Stop training because you reached max_epochs = 15 with best_epoch = 14 and best_valid_auc = 0.74252\n"
     ]
    },
    {
     "name": "stderr",
     "output_type": "stream",
     "text": [
      "c:\\Users\\juneh\\AppData\\Local\\Programs\\Python\\Python37\\lib\\site-packages\\pytorch_tabnet\\callbacks.py:172: UserWarning: Best weights from best epoch are automatically used!\n",
      "  warnings.warn(wrn_msg)\n"
     ]
    }
   ],
   "source": [
    "max_epochs = 15\n",
    "\n",
    "clf_autoclave.fit(\n",
    "    X_train=x_train_autoclave_np, y_train=y_train_autoclave_np,\n",
    "    eval_set=[(x_train_autoclave_np, y_train_autoclave_np), (x_valid_autoclave_np, y_valid_autoclave_np)],\n",
    "    eval_name=['train', 'valid'],\n",
    "    eval_metric=['auc'],\n",
    "    max_epochs=max_epochs , patience=20,\n",
    "    batch_size=1024, virtual_batch_size=128,\n",
    "    num_workers=0,\n",
    "    weights=1,\n",
    "    drop_last=False,\n",
    ")"
   ]
  },
  {
   "cell_type": "code",
   "execution_count": 99,
   "id": "9e7c8847-1554-4d15-924c-0c7d98ae5057",
   "metadata": {},
   "outputs": [
    {
     "name": "stdout",
     "output_type": "stream",
     "text": [
      "epoch 0  | loss: 0.69929 | train_auc: 0.52629 | valid_auc: 0.52712 |  0:00:02s\n",
      "epoch 1  | loss: 0.62176 | train_auc: 0.53628 | valid_auc: 0.52638 |  0:00:04s\n",
      "epoch 2  | loss: 0.60622 | train_auc: 0.61683 | valid_auc: 0.62179 |  0:00:06s\n",
      "epoch 3  | loss: 0.59429 | train_auc: 0.55022 | valid_auc: 0.58248 |  0:00:09s\n",
      "epoch 4  | loss: 0.59326 | train_auc: 0.62854 | valid_auc: 0.64247 |  0:00:11s\n",
      "epoch 5  | loss: 0.5913  | train_auc: 0.72186 | valid_auc: 0.73298 |  0:00:13s\n",
      "epoch 6  | loss: 0.58848 | train_auc: 0.7276  | valid_auc: 0.73351 |  0:00:15s\n",
      "epoch 7  | loss: 0.59112 | train_auc: 0.73128 | valid_auc: 0.73644 |  0:00:17s\n",
      "epoch 8  | loss: 0.5878  | train_auc: 0.7347  | valid_auc: 0.74222 |  0:00:20s\n",
      "epoch 9  | loss: 0.58593 | train_auc: 0.73985 | valid_auc: 0.74975 |  0:00:22s\n",
      "epoch 10 | loss: 0.58779 | train_auc: 0.74161 | valid_auc: 0.75091 |  0:00:24s\n",
      "epoch 11 | loss: 0.58755 | train_auc: 0.74265 | valid_auc: 0.75296 |  0:00:26s\n",
      "epoch 12 | loss: 0.58866 | train_auc: 0.74386 | valid_auc: 0.75274 |  0:00:29s\n",
      "epoch 13 | loss: 0.58491 | train_auc: 0.74383 | valid_auc: 0.75183 |  0:00:31s\n",
      "epoch 14 | loss: 0.58775 | train_auc: 0.74353 | valid_auc: 0.75157 |  0:00:33s\n",
      "epoch 15 | loss: 0.58568 | train_auc: 0.74407 | valid_auc: 0.75289 |  0:00:35s\n",
      "epoch 16 | loss: 0.58397 | train_auc: 0.74405 | valid_auc: 0.75213 |  0:00:37s\n",
      "epoch 17 | loss: 0.58186 | train_auc: 0.74525 | valid_auc: 0.75259 |  0:00:40s\n",
      "epoch 18 | loss: 0.58328 | train_auc: 0.74478 | valid_auc: 0.75211 |  0:00:42s\n",
      "epoch 19 | loss: 0.5829  | train_auc: 0.7452  | valid_auc: 0.75371 |  0:00:44s\n",
      "Stop training because you reached max_epochs = 20 with best_epoch = 19 and best_valid_auc = 0.75371\n"
     ]
    },
    {
     "name": "stderr",
     "output_type": "stream",
     "text": [
      "c:\\Users\\juneh\\AppData\\Local\\Programs\\Python\\Python37\\lib\\site-packages\\pytorch_tabnet\\callbacks.py:172: UserWarning: Best weights from best epoch are automatically used!\n",
      "  warnings.warn(wrn_msg)\n"
     ]
    }
   ],
   "source": [
    "max_epochs = 20\n",
    "\n",
    "clf_fill1.fit(\n",
    "    X_train=x_train_fill1_np, y_train=y_train_fill1_np,\n",
    "    eval_set=[(x_train_fill1_np, y_train_fill1_np), (x_valid_fill1_np, y_valid_fill1_np)],\n",
    "    eval_name=['train', 'valid'],\n",
    "    eval_metric=['auc'],\n",
    "    max_epochs=max_epochs , patience=20,\n",
    "    batch_size=1024, virtual_batch_size=128,\n",
    "    num_workers=0,\n",
    "    weights=1,\n",
    "    drop_last=False,\n",
    ")"
   ]
  },
  {
   "cell_type": "code",
   "execution_count": 100,
   "id": "4005c132-a091-44ce-af50-28d77bd28d27",
   "metadata": {},
   "outputs": [
    {
     "name": "stdout",
     "output_type": "stream",
     "text": [
      "epoch 0  | loss: 0.66426 | train_auc: 0.72722 | valid_auc: 0.73231 |  0:00:02s\n",
      "epoch 1  | loss: 0.61215 | train_auc: 0.44229 | valid_auc: 0.4526  |  0:00:04s\n",
      "epoch 2  | loss: 0.6016  | train_auc: 0.6941  | valid_auc: 0.70763 |  0:00:06s\n",
      "epoch 3  | loss: 0.59578 | train_auc: 0.63696 | valid_auc: 0.6522  |  0:00:08s\n",
      "epoch 4  | loss: 0.59719 | train_auc: 0.64035 | valid_auc: 0.66394 |  0:00:11s\n",
      "epoch 5  | loss: 0.59375 | train_auc: 0.64922 | valid_auc: 0.65686 |  0:00:13s\n",
      "epoch 6  | loss: 0.58712 | train_auc: 0.72113 | valid_auc: 0.73681 |  0:00:15s\n",
      "epoch 7  | loss: 0.59084 | train_auc: 0.73053 | valid_auc: 0.74679 |  0:00:17s\n",
      "epoch 8  | loss: 0.59153 | train_auc: 0.72063 | valid_auc: 0.73304 |  0:00:20s\n",
      "epoch 9  | loss: 0.58804 | train_auc: 0.71474 | valid_auc: 0.73137 |  0:00:22s\n",
      "epoch 10 | loss: 0.58857 | train_auc: 0.72453 | valid_auc: 0.73631 |  0:00:24s\n",
      "epoch 11 | loss: 0.5885  | train_auc: 0.73506 | valid_auc: 0.74575 |  0:00:26s\n",
      "epoch 12 | loss: 0.58882 | train_auc: 0.73715 | valid_auc: 0.74716 |  0:00:29s\n",
      "epoch 13 | loss: 0.58503 | train_auc: 0.73919 | valid_auc: 0.74721 |  0:00:31s\n",
      "epoch 14 | loss: 0.58658 | train_auc: 0.73904 | valid_auc: 0.74446 |  0:00:34s\n",
      "epoch 15 | loss: 0.58632 | train_auc: 0.7396  | valid_auc: 0.74613 |  0:00:36s\n",
      "epoch 16 | loss: 0.58372 | train_auc: 0.74282 | valid_auc: 0.75097 |  0:00:38s\n",
      "epoch 17 | loss: 0.58079 | train_auc: 0.74126 | valid_auc: 0.75086 |  0:00:40s\n",
      "epoch 18 | loss: 0.58113 | train_auc: 0.74364 | valid_auc: 0.74999 |  0:00:43s\n",
      "epoch 19 | loss: 0.58256 | train_auc: 0.74529 | valid_auc: 0.74967 |  0:00:45s\n",
      "Stop training because you reached max_epochs = 20 with best_epoch = 16 and best_valid_auc = 0.75097\n"
     ]
    },
    {
     "name": "stderr",
     "output_type": "stream",
     "text": [
      "c:\\Users\\juneh\\AppData\\Local\\Programs\\Python\\Python37\\lib\\site-packages\\pytorch_tabnet\\callbacks.py:172: UserWarning: Best weights from best epoch are automatically used!\n",
      "  warnings.warn(wrn_msg)\n"
     ]
    }
   ],
   "source": [
    "max_epochs = 20\n",
    "\n",
    "clf_fill2.fit(\n",
    "    X_train=x_train_fill2_np, y_train=y_train_fill2_np,\n",
    "    eval_set=[(x_train_fill2_np, y_train_fill2_np), (x_valid_fill2_np, y_valid_fill2_np)],\n",
    "    eval_name=['train', 'valid'],\n",
    "    eval_metric=['auc'],\n",
    "    max_epochs=max_epochs , patience=20,\n",
    "    batch_size=1024, virtual_batch_size=128,\n",
    "    num_workers=0,\n",
    "    weights=1,\n",
    "    drop_last=False,\n",
    ")"
   ]
  },
  {
   "cell_type": "code",
   "execution_count": 106,
   "id": "43d63b37-4eaf-470e-94f1-66e7342d4cde",
   "metadata": {},
   "outputs": [],
   "source": [
    "test_data_dam = test_data_dam.drop(columns = ['Set ID'])\n",
    "test_data_autoclave = test_data_autoclave.drop(columns = ['Set ID'])\n",
    "test_data_fill1 = test_data_fill1.drop(columns = ['Set ID'])\n",
    "test_data_fill2 = test_data_fill2.drop(columns = ['Set ID'])"
   ]
  },
  {
   "cell_type": "code",
   "execution_count": 107,
   "id": "c435e894-0dd0-40eb-9e91-5d0600761268",
   "metadata": {},
   "outputs": [],
   "source": [
    "nunique = test_data_dam.nunique()\n",
    "types = test_data_dam.dtypes\n",
    "\n",
    "for col in test_data_dam.columns:\n",
    "    if types[col] == 'object' or nunique[col] < 2:\n",
    "        print(col, test_data_dam[col].nunique())\n",
    "        l_enc = LabelEncoder()\n",
    "        test_data_dam[col] = l_enc.fit_transform(test_data_dam[col].values)\n",
    "    else:\n",
    "        test_data_dam.fillna(train_data.loc[:, col].mean(), inplace=True)"
   ]
  },
  {
   "cell_type": "code",
   "execution_count": 108,
   "id": "b27f0e9c-2ddb-4a3c-a159-f47358ca7361",
   "metadata": {},
   "outputs": [],
   "source": [
    "nunique = test_data_autoclave.nunique()\n",
    "types = test_data_autoclave.dtypes\n",
    "\n",
    "for col in test_data_autoclave.columns:\n",
    "    if types[col] == 'object' or nunique[col] < 2:\n",
    "        print(col, test_data_autoclave[col].nunique())\n",
    "        l_enc = LabelEncoder()\n",
    "        test_data_autoclave[col] = l_enc.fit_transform(test_data_autoclave[col].values)\n",
    "    else:\n",
    "        test_data_autoclave.fillna(train_data.loc[:, col].mean(), inplace=True)"
   ]
  },
  {
   "cell_type": "code",
   "execution_count": 109,
   "id": "7e67df00-54d5-4004-ad2b-39d65a1bc9b3",
   "metadata": {},
   "outputs": [],
   "source": [
    "nunique = test_data_fill1.nunique()\n",
    "types = test_data_fill1.dtypes\n",
    "\n",
    "for col in test_data_fill1.columns:\n",
    "    if types[col] == 'object' or nunique[col] < 2:\n",
    "        print(col, test_data_fill1[col].nunique())\n",
    "        l_enc = LabelEncoder()\n",
    "        test_data_fill1[col] = l_enc.fit_transform(test_data_fill1[col].values)\n",
    "    else:\n",
    "        test_data_fill1.fillna(train_data.loc[:, col].mean(), inplace=True)"
   ]
  },
  {
   "cell_type": "code",
   "execution_count": 110,
   "id": "fc8c97a8-745f-4e2b-bd45-9fd49160437c",
   "metadata": {},
   "outputs": [],
   "source": [
    "nunique = test_data_fill2.nunique()\n",
    "types = test_data_fill2.dtypes\n",
    "\n",
    "for col in test_data_fill2.columns:\n",
    "    if types[col] == 'object' or nunique[col] < 2:\n",
    "        print(col, test_data_fill2[col].nunique())\n",
    "        l_enc = LabelEncoder()\n",
    "        test_data_fill2[col] = l_enc.fit_transform(test_data_fill2[col].values)\n",
    "    else:\n",
    "        test_data_fill2.fillna(train_data.loc[:, col].mean(), inplace=True)"
   ]
  },
  {
   "cell_type": "code",
   "execution_count": 111,
   "id": "795c6109-fe92-4025-8846-dc1ed7f91649",
   "metadata": {},
   "outputs": [],
   "source": [
    "x_test_dam_np = test_data_dam.values"
   ]
  },
  {
   "cell_type": "code",
   "execution_count": 112,
   "id": "9cf2e217-72bc-4434-916e-e46915e3f3e7",
   "metadata": {},
   "outputs": [],
   "source": [
    "x_test_autoclave_np = test_data_autoclave.values"
   ]
  },
  {
   "cell_type": "code",
   "execution_count": 113,
   "id": "61715c85-6642-4b45-891d-84cd59ac0b49",
   "metadata": {},
   "outputs": [],
   "source": [
    "x_test_fill1_np = test_data_fill1.values"
   ]
  },
  {
   "cell_type": "code",
   "execution_count": 114,
   "id": "8bd36af9-a8de-46ed-8db4-ee4464963f8b",
   "metadata": {},
   "outputs": [],
   "source": [
    "x_test_fill2_np = test_data_fill2.values"
   ]
  },
  {
   "cell_type": "code",
   "execution_count": 116,
   "id": "47c1843b",
   "metadata": {},
   "outputs": [
    {
     "name": "stdout",
     "output_type": "stream",
     "text": [
      "x_test_dam_np shape: (17361, 19)\n",
      "x_train_dam_np shape: (32404, 20)\n"
     ]
    }
   ],
   "source": [
    "# x_test_dam_np의 shape 확인\n",
    "print(f\"x_test_dam_np shape: {x_test_dam_np.shape}\")\n",
    "\n",
    "# 모델이 학습된 데이터의 shape 확인 (예시로 x_train_dam_np 사용)\n",
    "print(f\"x_train_dam_np shape: {x_train_dam_np.shape}\")"
   ]
  },
  {
   "cell_type": "code",
   "execution_count": 115,
   "id": "33c1a18a-8392-4e38-950d-0123bf373ca9",
   "metadata": {},
   "outputs": [
    {
     "ename": "RuntimeError",
     "evalue": "running_mean should contain 19 elements not 20",
     "output_type": "error",
     "traceback": [
      "\u001b[1;31m---------------------------------------------------------------------------\u001b[0m",
      "\u001b[1;31mRuntimeError\u001b[0m                              Traceback (most recent call last)",
      "\u001b[1;32m~\\AppData\\Local\\Temp\\ipykernel_16600\\3413143261.py\u001b[0m in \u001b[0;36m<module>\u001b[1;34m\u001b[0m\n\u001b[1;32m----> 1\u001b[1;33m \u001b[0mpreds_dam\u001b[0m \u001b[1;33m=\u001b[0m \u001b[0mclf_dam\u001b[0m\u001b[1;33m.\u001b[0m\u001b[0mpredict_proba\u001b[0m\u001b[1;33m(\u001b[0m\u001b[0mx_test_dam_np\u001b[0m\u001b[1;33m)\u001b[0m\u001b[1;33m\u001b[0m\u001b[1;33m\u001b[0m\u001b[0m\n\u001b[0m",
      "\u001b[1;32mc:\\Users\\juneh\\AppData\\Local\\Programs\\Python\\Python37\\lib\\site-packages\\pytorch_tabnet\\tab_model.py\u001b[0m in \u001b[0;36mpredict_proba\u001b[1;34m(self, X)\u001b[0m\n\u001b[0;32m    108\u001b[0m             \u001b[0mdata\u001b[0m \u001b[1;33m=\u001b[0m \u001b[0mdata\u001b[0m\u001b[1;33m.\u001b[0m\u001b[0mto\u001b[0m\u001b[1;33m(\u001b[0m\u001b[0mself\u001b[0m\u001b[1;33m.\u001b[0m\u001b[0mdevice\u001b[0m\u001b[1;33m)\u001b[0m\u001b[1;33m.\u001b[0m\u001b[0mfloat\u001b[0m\u001b[1;33m(\u001b[0m\u001b[1;33m)\u001b[0m\u001b[1;33m\u001b[0m\u001b[1;33m\u001b[0m\u001b[0m\n\u001b[0;32m    109\u001b[0m \u001b[1;33m\u001b[0m\u001b[0m\n\u001b[1;32m--> 110\u001b[1;33m             \u001b[0moutput\u001b[0m\u001b[1;33m,\u001b[0m \u001b[0mM_loss\u001b[0m \u001b[1;33m=\u001b[0m \u001b[0mself\u001b[0m\u001b[1;33m.\u001b[0m\u001b[0mnetwork\u001b[0m\u001b[1;33m(\u001b[0m\u001b[0mdata\u001b[0m\u001b[1;33m)\u001b[0m\u001b[1;33m\u001b[0m\u001b[1;33m\u001b[0m\u001b[0m\n\u001b[0m\u001b[0;32m    111\u001b[0m             \u001b[0mpredictions\u001b[0m \u001b[1;33m=\u001b[0m \u001b[0mtorch\u001b[0m\u001b[1;33m.\u001b[0m\u001b[0mnn\u001b[0m\u001b[1;33m.\u001b[0m\u001b[0mSoftmax\u001b[0m\u001b[1;33m(\u001b[0m\u001b[0mdim\u001b[0m\u001b[1;33m=\u001b[0m\u001b[1;36m1\u001b[0m\u001b[1;33m)\u001b[0m\u001b[1;33m(\u001b[0m\u001b[0moutput\u001b[0m\u001b[1;33m)\u001b[0m\u001b[1;33m.\u001b[0m\u001b[0mcpu\u001b[0m\u001b[1;33m(\u001b[0m\u001b[1;33m)\u001b[0m\u001b[1;33m.\u001b[0m\u001b[0mdetach\u001b[0m\u001b[1;33m(\u001b[0m\u001b[1;33m)\u001b[0m\u001b[1;33m.\u001b[0m\u001b[0mnumpy\u001b[0m\u001b[1;33m(\u001b[0m\u001b[1;33m)\u001b[0m\u001b[1;33m\u001b[0m\u001b[1;33m\u001b[0m\u001b[0m\n\u001b[0;32m    112\u001b[0m             \u001b[0mresults\u001b[0m\u001b[1;33m.\u001b[0m\u001b[0mappend\u001b[0m\u001b[1;33m(\u001b[0m\u001b[0mpredictions\u001b[0m\u001b[1;33m)\u001b[0m\u001b[1;33m\u001b[0m\u001b[1;33m\u001b[0m\u001b[0m\n",
      "\u001b[1;32mc:\\Users\\juneh\\AppData\\Local\\Programs\\Python\\Python37\\lib\\site-packages\\torch\\nn\\modules\\module.py\u001b[0m in \u001b[0;36m_call_impl\u001b[1;34m(self, *input, **kwargs)\u001b[0m\n\u001b[0;32m   1192\u001b[0m         if not (self._backward_hooks or self._forward_hooks or self._forward_pre_hooks or _global_backward_hooks\n\u001b[0;32m   1193\u001b[0m                 or _global_forward_hooks or _global_forward_pre_hooks):\n\u001b[1;32m-> 1194\u001b[1;33m             \u001b[1;32mreturn\u001b[0m \u001b[0mforward_call\u001b[0m\u001b[1;33m(\u001b[0m\u001b[1;33m*\u001b[0m\u001b[0minput\u001b[0m\u001b[1;33m,\u001b[0m \u001b[1;33m**\u001b[0m\u001b[0mkwargs\u001b[0m\u001b[1;33m)\u001b[0m\u001b[1;33m\u001b[0m\u001b[1;33m\u001b[0m\u001b[0m\n\u001b[0m\u001b[0;32m   1195\u001b[0m         \u001b[1;31m# Do not call functions when jit is used\u001b[0m\u001b[1;33m\u001b[0m\u001b[1;33m\u001b[0m\u001b[1;33m\u001b[0m\u001b[0m\n\u001b[0;32m   1196\u001b[0m         \u001b[0mfull_backward_hooks\u001b[0m\u001b[1;33m,\u001b[0m \u001b[0mnon_full_backward_hooks\u001b[0m \u001b[1;33m=\u001b[0m \u001b[1;33m[\u001b[0m\u001b[1;33m]\u001b[0m\u001b[1;33m,\u001b[0m \u001b[1;33m[\u001b[0m\u001b[1;33m]\u001b[0m\u001b[1;33m\u001b[0m\u001b[1;33m\u001b[0m\u001b[0m\n",
      "\u001b[1;32mc:\\Users\\juneh\\AppData\\Local\\Programs\\Python\\Python37\\lib\\site-packages\\pytorch_tabnet\\tab_network.py\u001b[0m in \u001b[0;36mforward\u001b[1;34m(self, x)\u001b[0m\n\u001b[0;32m    614\u001b[0m     \u001b[1;32mdef\u001b[0m \u001b[0mforward\u001b[0m\u001b[1;33m(\u001b[0m\u001b[0mself\u001b[0m\u001b[1;33m,\u001b[0m \u001b[0mx\u001b[0m\u001b[1;33m)\u001b[0m\u001b[1;33m:\u001b[0m\u001b[1;33m\u001b[0m\u001b[1;33m\u001b[0m\u001b[0m\n\u001b[0;32m    615\u001b[0m         \u001b[0mx\u001b[0m \u001b[1;33m=\u001b[0m \u001b[0mself\u001b[0m\u001b[1;33m.\u001b[0m\u001b[0membedder\u001b[0m\u001b[1;33m(\u001b[0m\u001b[0mx\u001b[0m\u001b[1;33m)\u001b[0m\u001b[1;33m\u001b[0m\u001b[1;33m\u001b[0m\u001b[0m\n\u001b[1;32m--> 616\u001b[1;33m         \u001b[1;32mreturn\u001b[0m \u001b[0mself\u001b[0m\u001b[1;33m.\u001b[0m\u001b[0mtabnet\u001b[0m\u001b[1;33m(\u001b[0m\u001b[0mx\u001b[0m\u001b[1;33m)\u001b[0m\u001b[1;33m\u001b[0m\u001b[1;33m\u001b[0m\u001b[0m\n\u001b[0m\u001b[0;32m    617\u001b[0m \u001b[1;33m\u001b[0m\u001b[0m\n\u001b[0;32m    618\u001b[0m     \u001b[1;32mdef\u001b[0m \u001b[0mforward_masks\u001b[0m\u001b[1;33m(\u001b[0m\u001b[0mself\u001b[0m\u001b[1;33m,\u001b[0m \u001b[0mx\u001b[0m\u001b[1;33m)\u001b[0m\u001b[1;33m:\u001b[0m\u001b[1;33m\u001b[0m\u001b[1;33m\u001b[0m\u001b[0m\n",
      "\u001b[1;32mc:\\Users\\juneh\\AppData\\Local\\Programs\\Python\\Python37\\lib\\site-packages\\torch\\nn\\modules\\module.py\u001b[0m in \u001b[0;36m_call_impl\u001b[1;34m(self, *input, **kwargs)\u001b[0m\n\u001b[0;32m   1192\u001b[0m         if not (self._backward_hooks or self._forward_hooks or self._forward_pre_hooks or _global_backward_hooks\n\u001b[0;32m   1193\u001b[0m                 or _global_forward_hooks or _global_forward_pre_hooks):\n\u001b[1;32m-> 1194\u001b[1;33m             \u001b[1;32mreturn\u001b[0m \u001b[0mforward_call\u001b[0m\u001b[1;33m(\u001b[0m\u001b[1;33m*\u001b[0m\u001b[0minput\u001b[0m\u001b[1;33m,\u001b[0m \u001b[1;33m**\u001b[0m\u001b[0mkwargs\u001b[0m\u001b[1;33m)\u001b[0m\u001b[1;33m\u001b[0m\u001b[1;33m\u001b[0m\u001b[0m\n\u001b[0m\u001b[0;32m   1195\u001b[0m         \u001b[1;31m# Do not call functions when jit is used\u001b[0m\u001b[1;33m\u001b[0m\u001b[1;33m\u001b[0m\u001b[1;33m\u001b[0m\u001b[0m\n\u001b[0;32m   1196\u001b[0m         \u001b[0mfull_backward_hooks\u001b[0m\u001b[1;33m,\u001b[0m \u001b[0mnon_full_backward_hooks\u001b[0m \u001b[1;33m=\u001b[0m \u001b[1;33m[\u001b[0m\u001b[1;33m]\u001b[0m\u001b[1;33m,\u001b[0m \u001b[1;33m[\u001b[0m\u001b[1;33m]\u001b[0m\u001b[1;33m\u001b[0m\u001b[1;33m\u001b[0m\u001b[0m\n",
      "\u001b[1;32mc:\\Users\\juneh\\AppData\\Local\\Programs\\Python\\Python37\\lib\\site-packages\\pytorch_tabnet\\tab_network.py\u001b[0m in \u001b[0;36mforward\u001b[1;34m(self, x)\u001b[0m\n\u001b[0;32m    490\u001b[0m     \u001b[1;32mdef\u001b[0m \u001b[0mforward\u001b[0m\u001b[1;33m(\u001b[0m\u001b[0mself\u001b[0m\u001b[1;33m,\u001b[0m \u001b[0mx\u001b[0m\u001b[1;33m)\u001b[0m\u001b[1;33m:\u001b[0m\u001b[1;33m\u001b[0m\u001b[1;33m\u001b[0m\u001b[0m\n\u001b[0;32m    491\u001b[0m         \u001b[0mres\u001b[0m \u001b[1;33m=\u001b[0m \u001b[1;36m0\u001b[0m\u001b[1;33m\u001b[0m\u001b[1;33m\u001b[0m\u001b[0m\n\u001b[1;32m--> 492\u001b[1;33m         \u001b[0msteps_output\u001b[0m\u001b[1;33m,\u001b[0m \u001b[0mM_loss\u001b[0m \u001b[1;33m=\u001b[0m \u001b[0mself\u001b[0m\u001b[1;33m.\u001b[0m\u001b[0mencoder\u001b[0m\u001b[1;33m(\u001b[0m\u001b[0mx\u001b[0m\u001b[1;33m)\u001b[0m\u001b[1;33m\u001b[0m\u001b[1;33m\u001b[0m\u001b[0m\n\u001b[0m\u001b[0;32m    493\u001b[0m         \u001b[0mres\u001b[0m \u001b[1;33m=\u001b[0m \u001b[0mtorch\u001b[0m\u001b[1;33m.\u001b[0m\u001b[0msum\u001b[0m\u001b[1;33m(\u001b[0m\u001b[0mtorch\u001b[0m\u001b[1;33m.\u001b[0m\u001b[0mstack\u001b[0m\u001b[1;33m(\u001b[0m\u001b[0msteps_output\u001b[0m\u001b[1;33m,\u001b[0m \u001b[0mdim\u001b[0m\u001b[1;33m=\u001b[0m\u001b[1;36m0\u001b[0m\u001b[1;33m)\u001b[0m\u001b[1;33m,\u001b[0m \u001b[0mdim\u001b[0m\u001b[1;33m=\u001b[0m\u001b[1;36m0\u001b[0m\u001b[1;33m)\u001b[0m\u001b[1;33m\u001b[0m\u001b[1;33m\u001b[0m\u001b[0m\n\u001b[0;32m    494\u001b[0m \u001b[1;33m\u001b[0m\u001b[0m\n",
      "\u001b[1;32mc:\\Users\\juneh\\AppData\\Local\\Programs\\Python\\Python37\\lib\\site-packages\\torch\\nn\\modules\\module.py\u001b[0m in \u001b[0;36m_call_impl\u001b[1;34m(self, *input, **kwargs)\u001b[0m\n\u001b[0;32m   1192\u001b[0m         if not (self._backward_hooks or self._forward_hooks or self._forward_pre_hooks or _global_backward_hooks\n\u001b[0;32m   1193\u001b[0m                 or _global_forward_hooks or _global_forward_pre_hooks):\n\u001b[1;32m-> 1194\u001b[1;33m             \u001b[1;32mreturn\u001b[0m \u001b[0mforward_call\u001b[0m\u001b[1;33m(\u001b[0m\u001b[1;33m*\u001b[0m\u001b[0minput\u001b[0m\u001b[1;33m,\u001b[0m \u001b[1;33m**\u001b[0m\u001b[0mkwargs\u001b[0m\u001b[1;33m)\u001b[0m\u001b[1;33m\u001b[0m\u001b[1;33m\u001b[0m\u001b[0m\n\u001b[0m\u001b[0;32m   1195\u001b[0m         \u001b[1;31m# Do not call functions when jit is used\u001b[0m\u001b[1;33m\u001b[0m\u001b[1;33m\u001b[0m\u001b[1;33m\u001b[0m\u001b[0m\n\u001b[0;32m   1196\u001b[0m         \u001b[0mfull_backward_hooks\u001b[0m\u001b[1;33m,\u001b[0m \u001b[0mnon_full_backward_hooks\u001b[0m \u001b[1;33m=\u001b[0m \u001b[1;33m[\u001b[0m\u001b[1;33m]\u001b[0m\u001b[1;33m,\u001b[0m \u001b[1;33m[\u001b[0m\u001b[1;33m]\u001b[0m\u001b[1;33m\u001b[0m\u001b[1;33m\u001b[0m\u001b[0m\n",
      "\u001b[1;32mc:\\Users\\juneh\\AppData\\Local\\Programs\\Python\\Python37\\lib\\site-packages\\pytorch_tabnet\\tab_network.py\u001b[0m in \u001b[0;36mforward\u001b[1;34m(self, x, prior)\u001b[0m\n\u001b[0;32m    160\u001b[0m \u001b[1;33m\u001b[0m\u001b[0m\n\u001b[0;32m    161\u001b[0m     \u001b[1;32mdef\u001b[0m \u001b[0mforward\u001b[0m\u001b[1;33m(\u001b[0m\u001b[0mself\u001b[0m\u001b[1;33m,\u001b[0m \u001b[0mx\u001b[0m\u001b[1;33m,\u001b[0m \u001b[0mprior\u001b[0m\u001b[1;33m=\u001b[0m\u001b[1;32mNone\u001b[0m\u001b[1;33m)\u001b[0m\u001b[1;33m:\u001b[0m\u001b[1;33m\u001b[0m\u001b[1;33m\u001b[0m\u001b[0m\n\u001b[1;32m--> 162\u001b[1;33m         \u001b[0mx\u001b[0m \u001b[1;33m=\u001b[0m \u001b[0mself\u001b[0m\u001b[1;33m.\u001b[0m\u001b[0minitial_bn\u001b[0m\u001b[1;33m(\u001b[0m\u001b[0mx\u001b[0m\u001b[1;33m)\u001b[0m\u001b[1;33m\u001b[0m\u001b[1;33m\u001b[0m\u001b[0m\n\u001b[0m\u001b[0;32m    163\u001b[0m \u001b[1;33m\u001b[0m\u001b[0m\n\u001b[0;32m    164\u001b[0m         \u001b[0mbs\u001b[0m \u001b[1;33m=\u001b[0m \u001b[0mx\u001b[0m\u001b[1;33m.\u001b[0m\u001b[0mshape\u001b[0m\u001b[1;33m[\u001b[0m\u001b[1;36m0\u001b[0m\u001b[1;33m]\u001b[0m  \u001b[1;31m# batch size\u001b[0m\u001b[1;33m\u001b[0m\u001b[1;33m\u001b[0m\u001b[0m\n",
      "\u001b[1;32mc:\\Users\\juneh\\AppData\\Local\\Programs\\Python\\Python37\\lib\\site-packages\\torch\\nn\\modules\\module.py\u001b[0m in \u001b[0;36m_call_impl\u001b[1;34m(self, *input, **kwargs)\u001b[0m\n\u001b[0;32m   1192\u001b[0m         if not (self._backward_hooks or self._forward_hooks or self._forward_pre_hooks or _global_backward_hooks\n\u001b[0;32m   1193\u001b[0m                 or _global_forward_hooks or _global_forward_pre_hooks):\n\u001b[1;32m-> 1194\u001b[1;33m             \u001b[1;32mreturn\u001b[0m \u001b[0mforward_call\u001b[0m\u001b[1;33m(\u001b[0m\u001b[1;33m*\u001b[0m\u001b[0minput\u001b[0m\u001b[1;33m,\u001b[0m \u001b[1;33m**\u001b[0m\u001b[0mkwargs\u001b[0m\u001b[1;33m)\u001b[0m\u001b[1;33m\u001b[0m\u001b[1;33m\u001b[0m\u001b[0m\n\u001b[0m\u001b[0;32m   1195\u001b[0m         \u001b[1;31m# Do not call functions when jit is used\u001b[0m\u001b[1;33m\u001b[0m\u001b[1;33m\u001b[0m\u001b[1;33m\u001b[0m\u001b[0m\n\u001b[0;32m   1196\u001b[0m         \u001b[0mfull_backward_hooks\u001b[0m\u001b[1;33m,\u001b[0m \u001b[0mnon_full_backward_hooks\u001b[0m \u001b[1;33m=\u001b[0m \u001b[1;33m[\u001b[0m\u001b[1;33m]\u001b[0m\u001b[1;33m,\u001b[0m \u001b[1;33m[\u001b[0m\u001b[1;33m]\u001b[0m\u001b[1;33m\u001b[0m\u001b[1;33m\u001b[0m\u001b[0m\n",
      "\u001b[1;32mc:\\Users\\juneh\\AppData\\Local\\Programs\\Python\\Python37\\lib\\site-packages\\torch\\nn\\modules\\batchnorm.py\u001b[0m in \u001b[0;36mforward\u001b[1;34m(self, input)\u001b[0m\n\u001b[0;32m    180\u001b[0m             \u001b[0mbn_training\u001b[0m\u001b[1;33m,\u001b[0m\u001b[1;33m\u001b[0m\u001b[1;33m\u001b[0m\u001b[0m\n\u001b[0;32m    181\u001b[0m             \u001b[0mexponential_average_factor\u001b[0m\u001b[1;33m,\u001b[0m\u001b[1;33m\u001b[0m\u001b[1;33m\u001b[0m\u001b[0m\n\u001b[1;32m--> 182\u001b[1;33m             \u001b[0mself\u001b[0m\u001b[1;33m.\u001b[0m\u001b[0meps\u001b[0m\u001b[1;33m,\u001b[0m\u001b[1;33m\u001b[0m\u001b[1;33m\u001b[0m\u001b[0m\n\u001b[0m\u001b[0;32m    183\u001b[0m         )\n\u001b[0;32m    184\u001b[0m \u001b[1;33m\u001b[0m\u001b[0m\n",
      "\u001b[1;32mc:\\Users\\juneh\\AppData\\Local\\Programs\\Python\\Python37\\lib\\site-packages\\torch\\nn\\functional.py\u001b[0m in \u001b[0;36mbatch_norm\u001b[1;34m(input, running_mean, running_var, weight, bias, training, momentum, eps)\u001b[0m\n\u001b[0;32m   2449\u001b[0m \u001b[1;33m\u001b[0m\u001b[0m\n\u001b[0;32m   2450\u001b[0m     return torch.batch_norm(\n\u001b[1;32m-> 2451\u001b[1;33m         \u001b[0minput\u001b[0m\u001b[1;33m,\u001b[0m \u001b[0mweight\u001b[0m\u001b[1;33m,\u001b[0m \u001b[0mbias\u001b[0m\u001b[1;33m,\u001b[0m \u001b[0mrunning_mean\u001b[0m\u001b[1;33m,\u001b[0m \u001b[0mrunning_var\u001b[0m\u001b[1;33m,\u001b[0m \u001b[0mtraining\u001b[0m\u001b[1;33m,\u001b[0m \u001b[0mmomentum\u001b[0m\u001b[1;33m,\u001b[0m \u001b[0meps\u001b[0m\u001b[1;33m,\u001b[0m \u001b[0mtorch\u001b[0m\u001b[1;33m.\u001b[0m\u001b[0mbackends\u001b[0m\u001b[1;33m.\u001b[0m\u001b[0mcudnn\u001b[0m\u001b[1;33m.\u001b[0m\u001b[0menabled\u001b[0m\u001b[1;33m\u001b[0m\u001b[1;33m\u001b[0m\u001b[0m\n\u001b[0m\u001b[0;32m   2452\u001b[0m     )\n\u001b[0;32m   2453\u001b[0m \u001b[1;33m\u001b[0m\u001b[0m\n",
      "\u001b[1;31mRuntimeError\u001b[0m: running_mean should contain 19 elements not 20"
     ]
    }
   ],
   "source": [
    "preds_dam = clf_dam.predict_proba(x_test_dam_np)"
   ]
  },
  {
   "cell_type": "code",
   "execution_count": 377,
   "id": "2eedd525-8e05-42cb-b025-87e574382bf4",
   "metadata": {},
   "outputs": [],
   "source": [
    "preds_autoclave = clf_autoclave.predict_proba(x_test_autoclave_np)"
   ]
  },
  {
   "cell_type": "code",
   "execution_count": 378,
   "id": "df2e8f5e-6437-4256-84ae-d3935364d530",
   "metadata": {},
   "outputs": [],
   "source": [
    "preds_fill1 = clf_fill1.predict_proba(x_test_fill1_np)"
   ]
  },
  {
   "cell_type": "code",
   "execution_count": 379,
   "id": "cd60936c-0d99-4d34-8fbd-ec0580cd3422",
   "metadata": {},
   "outputs": [],
   "source": [
    "preds_fill2 = clf_fill2.predict_proba(x_test_fill2_np)"
   ]
  },
  {
   "cell_type": "code",
   "execution_count": 425,
   "id": "3e0571f1-dee6-47d8-8526-8d16f65e2361",
   "metadata": {},
   "outputs": [],
   "source": [
    "n=0\n",
    "j=0\n",
    "for i in preds_dam:\n",
    "    if i[0] > i[1]:\n",
    "        n = n+1\n",
    "    else:\n",
    "        j = j+1"
   ]
  },
  {
   "cell_type": "code",
   "execution_count": 426,
   "id": "b7e25a5f-9eae-460e-8d6a-1f9f343ec5f5",
   "metadata": {},
   "outputs": [
    {
     "data": {
      "text/plain": [
       "17361"
      ]
     },
     "execution_count": 426,
     "metadata": {},
     "output_type": "execute_result"
    }
   ],
   "source": [
    "len(preds_dam)"
   ]
  },
  {
   "cell_type": "code",
   "execution_count": 427,
   "id": "58a7aeeb-4d8c-47a4-9491-fd35aa9338f3",
   "metadata": {},
   "outputs": [
    {
     "name": "stdout",
     "output_type": "stream",
     "text": [
      "6447\n",
      "10914\n"
     ]
    }
   ],
   "source": [
    "print(n)\n",
    "print(j)"
   ]
  },
  {
   "cell_type": "code",
   "execution_count": 383,
   "id": "c9a25439-0fa9-4d5e-b97f-96313e7b6ebf",
   "metadata": {},
   "outputs": [],
   "source": [
    "n=0\n",
    "j=0\n",
    "for i in preds_autoclave:\n",
    "    if i[0] > i[1]:\n",
    "        n = n+1\n",
    "    else:\n",
    "        j = j+1"
   ]
  },
  {
   "cell_type": "code",
   "execution_count": 384,
   "id": "9163c211-c490-4b3a-bbb6-9a1579034d19",
   "metadata": {},
   "outputs": [
    {
     "name": "stdout",
     "output_type": "stream",
     "text": [
      "6543\n",
      "10818\n"
     ]
    }
   ],
   "source": [
    "print(n)\n",
    "print(j)"
   ]
  },
  {
   "cell_type": "code",
   "execution_count": 385,
   "id": "3da843ec-0684-463c-bc6d-ad1dca27aaff",
   "metadata": {},
   "outputs": [],
   "source": [
    "n=0\n",
    "j=0\n",
    "for i in preds_fill1:\n",
    "    if i[0] > i[1]:\n",
    "        n = n+1\n",
    "    else:\n",
    "        j = j+1"
   ]
  },
  {
   "cell_type": "code",
   "execution_count": 386,
   "id": "e5b3df05-8bff-48d0-81f9-eb0366a72557",
   "metadata": {},
   "outputs": [
    {
     "name": "stdout",
     "output_type": "stream",
     "text": [
      "6329\n",
      "11032\n"
     ]
    }
   ],
   "source": [
    "print(n)\n",
    "print(j)"
   ]
  },
  {
   "cell_type": "code",
   "execution_count": 387,
   "id": "03e5d0e7-a665-4d28-839c-5a6223d68e7b",
   "metadata": {},
   "outputs": [],
   "source": [
    "n=0\n",
    "j=0\n",
    "for i in preds_fill2:\n",
    "    if i[0] > i[1]:\n",
    "        n = n+1\n",
    "    else:\n",
    "        j = j+1"
   ]
  },
  {
   "cell_type": "code",
   "execution_count": 388,
   "id": "12d84874-4447-4a7c-8566-78f7b60debb7",
   "metadata": {},
   "outputs": [
    {
     "name": "stdout",
     "output_type": "stream",
     "text": [
      "6072\n",
      "11289\n"
     ]
    }
   ],
   "source": [
    "print(n)\n",
    "print(j)"
   ]
  },
  {
   "cell_type": "code",
   "execution_count": 465,
   "id": "a8bbfe3c-92ae-4041-9b0b-cfe25d959f39",
   "metadata": {},
   "outputs": [],
   "source": [
    "df_target_dam = np.where(preds_dam[:,1] >= 0.5, 1, 0)"
   ]
  },
  {
   "cell_type": "code",
   "execution_count": 466,
   "id": "a72950cf-7e6f-4887-88ec-9cee947b92cb",
   "metadata": {},
   "outputs": [],
   "source": [
    "df_target_total = pd.DataFrame(df_target_dam, columns=['target_dam'])"
   ]
  },
  {
   "cell_type": "code",
   "execution_count": 467,
   "id": "fe0cd01f-ab69-4b8e-be97-fb6a60307a4b",
   "metadata": {},
   "outputs": [
    {
     "data": {
      "text/plain": [
       "target_dam\n",
       "1             10914\n",
       "0              6447\n",
       "Name: count, dtype: int64"
      ]
     },
     "execution_count": 467,
     "metadata": {},
     "output_type": "execute_result"
    }
   ],
   "source": [
    "df_target_total.value_counts()"
   ]
  },
  {
   "cell_type": "code",
   "execution_count": 468,
   "id": "c27cf028-f6de-47a8-9d43-faea175406cf",
   "metadata": {},
   "outputs": [],
   "source": [
    "df_target_autoclave = np.where(preds_autoclave[:,1] >= 0.5, 1, 0)"
   ]
  },
  {
   "cell_type": "code",
   "execution_count": 469,
   "id": "eb725ca0-6fe3-474e-a32e-ae6d28736049",
   "metadata": {},
   "outputs": [],
   "source": [
    "df_target_fill1 = np.where(preds_fill1[:,1] >= 0.5, 1, 0)"
   ]
  },
  {
   "cell_type": "code",
   "execution_count": 470,
   "id": "e436a34f-b832-4683-9370-3c1718e1df3a",
   "metadata": {},
   "outputs": [],
   "source": [
    "df_target_fill2 = np.where(preds_fill2[:,1] >= 0.5, 1, 0)"
   ]
  },
  {
   "cell_type": "code",
   "execution_count": 471,
   "id": "a9053f4e-8675-4c85-81af-f2233ee514fe",
   "metadata": {},
   "outputs": [],
   "source": [
    "df_target_autoclave = pd.DataFrame(df_target_autoclave, columns=['target_autoclave'])"
   ]
  },
  {
   "cell_type": "code",
   "execution_count": 473,
   "id": "cadd858b-b5f2-4e4d-b86a-33f8934cad21",
   "metadata": {},
   "outputs": [],
   "source": [
    "df_target_fill1 = pd.DataFrame(df_target_fill1, columns=['target_fill1'])"
   ]
  },
  {
   "cell_type": "code",
   "execution_count": 472,
   "id": "68c2a4d0-9c72-4bc5-9722-3f4b56f1ea97",
   "metadata": {},
   "outputs": [],
   "source": [
    "df_target_fill2 = pd.DataFrame(df_target_fill2, columns=['target_fill2'])"
   ]
  },
  {
   "cell_type": "code",
   "execution_count": 475,
   "id": "f38c40fa-31e9-46c1-9354-21fd16ecead0",
   "metadata": {},
   "outputs": [],
   "source": [
    "df_target_all = pd.concat([df_target_total, df_target_autoclave, df_target_fill1, df_target_fill2], axis=1)"
   ]
  },
  {
   "cell_type": "code",
   "execution_count": 478,
   "id": "6d5c6912-fcce-4964-b10f-a612eb009f9d",
   "metadata": {},
   "outputs": [
    {
     "name": "stdout",
     "output_type": "stream",
     "text": [
      "target_dam\n",
      "1    10914\n",
      "0     6447\n",
      "Name: count, dtype: int64\n",
      "\n",
      "target_autoclave\n",
      "1    10818\n",
      "0     6543\n",
      "Name: count, dtype: int64\n",
      "\n",
      "target_fill1\n",
      "1    11032\n",
      "0     6329\n",
      "Name: count, dtype: int64\n",
      "\n",
      "target_fill2\n",
      "1    11289\n",
      "0     6072\n",
      "Name: count, dtype: int64\n",
      "\n"
     ]
    }
   ],
   "source": [
    "for col in df_target_all.columns :\n",
    "    cnt = df_target_all[col].value_counts()\n",
    "    print(f\"{cnt}\\n\")"
   ]
  },
  {
   "cell_type": "code",
   "execution_count": 496,
   "id": "478a263c-2d1c-4d83-af83-6971cc2a1e36",
   "metadata": {},
   "outputs": [],
   "source": [
    "df_target_all['sum'] = df_target_all[['target_dam', 'target_autoclave', 'target_fill1', 'target_fill2']].sum(axis=1)\n",
    "\n",
    "# 1의 개수가 2개 이상이면 \"Normal\", 그렇지 않으면 \"AbNormal\"\n",
    "df_target_all['final'] = df_target_all['sum'].apply(lambda x: 'Normal' if x >= 1 else 'AbNormal')\n",
    "\n",
    "# 중간 계산에 사용한 'sum_ones' 열 제거 (선택 사항)\n",
    "df_target_all.drop(columns=['sum'], inplace=True)"
   ]
  },
  {
   "cell_type": "code",
   "execution_count": 497,
   "id": "8beeaa93-a626-4e8d-9716-9e89ecd4d3e9",
   "metadata": {},
   "outputs": [
    {
     "data": {
      "text/plain": [
       "final\n",
       "Normal      13937\n",
       "AbNormal     3424\n",
       "Name: count, dtype: int64"
      ]
     },
     "execution_count": 497,
     "metadata": {},
     "output_type": "execute_result"
    }
   ],
   "source": [
    "df_target_all['final'].value_counts()"
   ]
  },
  {
   "cell_type": "code",
   "execution_count": 498,
   "id": "a56486e5-a87f-402b-b339-450c33cee1fd",
   "metadata": {},
   "outputs": [],
   "source": [
    "submission = pd.read_csv('submission.csv')"
   ]
  },
  {
   "cell_type": "code",
   "execution_count": 500,
   "id": "83ce4354-ee1a-4d83-a3e3-a3750e073703",
   "metadata": {},
   "outputs": [],
   "source": [
    "submission['target'] = df_target_all['final']"
   ]
  },
  {
   "cell_type": "code",
   "execution_count": 501,
   "id": "365a2078-b322-4580-9f73-646b7d9cedca",
   "metadata": {},
   "outputs": [
    {
     "data": {
      "text/plain": [
       "target\n",
       "Normal      13937\n",
       "AbNormal     3424\n",
       "Name: count, dtype: int64"
      ]
     },
     "execution_count": 501,
     "metadata": {},
     "output_type": "execute_result"
    }
   ],
   "source": [
    "submission['target'].value_counts()"
   ]
  },
  {
   "cell_type": "code",
   "execution_count": 502,
   "id": "110abb6b-c338-4c35-953d-c2a33387b696",
   "metadata": {},
   "outputs": [],
   "source": [
    "submission.to_csv(\"submission.csv\", index=False)"
   ]
  },
  {
   "cell_type": "code",
   "execution_count": null,
   "id": "fa19c4a7-a9df-4d57-9b93-4ce35b3e83e2",
   "metadata": {},
   "outputs": [],
   "source": [
    "#일단 0.173874점 기록했음... 좀 더 올릴수는 있을거라고 생각함돠"
   ]
  },
  {
   "cell_type": "code",
   "execution_count": null,
   "id": "e3bd7b98-40a0-4a70-9570-a639249e5e7b",
   "metadata": {},
   "outputs": [],
   "source": []
  },
  {
   "cell_type": "code",
   "execution_count": null,
   "id": "91737317-3d66-43c1-b74f-8ea78afb726d",
   "metadata": {},
   "outputs": [],
   "source": []
  },
  {
   "cell_type": "code",
   "execution_count": 505,
   "id": "301dce52-28a1-4f57-b5d0-c6402e5acbc5",
   "metadata": {},
   "outputs": [],
   "source": [
    "# from sklearn.metrics import accuracy_score\n",
    "\n",
    "# accuracy = accuracy_score(y_valid_dam_np, preds_dam[:,1])"
   ]
  },
  {
   "cell_type": "code",
   "execution_count": 506,
   "id": "bc79951b-f5ce-4a85-b136-1ed8ed21d393",
   "metadata": {},
   "outputs": [],
   "source": [
    "# from sklearn.metrics import f1_score\n",
    "\n",
    "# f1_score = f1_score(y_valid_dam_np, preds_dam[:,1], average='micro')"
   ]
  },
  {
   "cell_type": "code",
   "execution_count": 507,
   "id": "880e8083-b377-43fd-9fe5-9d7c27368642",
   "metadata": {},
   "outputs": [],
   "source": [
    "# accuracy"
   ]
  },
  {
   "cell_type": "code",
   "execution_count": 508,
   "id": "9b460231-538e-486d-9e40-5eff433786bf",
   "metadata": {},
   "outputs": [],
   "source": [
    "# f1_score"
   ]
  },
  {
   "cell_type": "code",
   "execution_count": 509,
   "id": "e430f567-46f3-4c97-b44f-7309e174496e",
   "metadata": {},
   "outputs": [],
   "source": [
    "# correct_predictions = np.sum(y_valid_dam_np ==  df_target)"
   ]
  },
  {
   "cell_type": "code",
   "execution_count": 510,
   "id": "38ed90af-3da2-4cdd-9036-4ebd9ec830ea",
   "metadata": {},
   "outputs": [],
   "source": [
    "# incorrect_predictions = np.sum(y_valid_dam_np != df_target)"
   ]
  },
  {
   "cell_type": "code",
   "execution_count": 511,
   "id": "dbd69829-c89d-4ea1-9945-8d92959a591f",
   "metadata": {},
   "outputs": [],
   "source": [
    "# correct_predictions"
   ]
  },
  {
   "cell_type": "code",
   "execution_count": 512,
   "id": "56a9e6ba-cd27-4b4a-882d-6b049ab7c87c",
   "metadata": {},
   "outputs": [],
   "source": [
    "# incorrect_predictions"
   ]
  },
  {
   "cell_type": "code",
   "execution_count": 437,
   "id": "4c8cc901-b2ec-4c7f-8af8-07e299045099",
   "metadata": {},
   "outputs": [],
   "source": [
    "# true_positives = np.sum((y_valid_dam_np == 1) & (df_target == 1))\n",
    "# true_negatives = np.sum((y_valid_dam_np == 0) & (df_target == 0))"
   ]
  },
  {
   "cell_type": "code",
   "execution_count": 438,
   "id": "d4a7ca7d-ece1-4047-b01e-cecdb5fd1d9a",
   "metadata": {},
   "outputs": [],
   "source": [
    "# true_positives"
   ]
  },
  {
   "cell_type": "code",
   "execution_count": 439,
   "id": "ab993291-cd93-47ef-a504-a6ab74ad7ba7",
   "metadata": {},
   "outputs": [],
   "source": [
    "# true_negatives"
   ]
  },
  {
   "cell_type": "code",
   "execution_count": 440,
   "id": "d09e0adf-0bbe-466e-9a92-07153773abd2",
   "metadata": {},
   "outputs": [],
   "source": [
    "# y_valid_dam.value_counts()"
   ]
  },
  {
   "cell_type": "code",
   "execution_count": 441,
   "id": "55c7a13a-0fb7-4d24-acfd-22864606b824",
   "metadata": {},
   "outputs": [],
   "source": [
    "# false_positives = np.sum((y_valid_dam_np == 1) & (df_target == 0))\n",
    "\n",
    "# # y_pred가 0이고 y_true가 1인 경우의 개수 (False Negatives)\n",
    "# false_negatives = np.sum((y_valid_dam_np == 0) & (df_target == 1))"
   ]
  },
  {
   "cell_type": "code",
   "execution_count": 442,
   "id": "91c25aa4-ae6d-40f1-91bd-ff54f63a7c99",
   "metadata": {},
   "outputs": [],
   "source": [
    "# false_positives"
   ]
  },
  {
   "cell_type": "code",
   "execution_count": 443,
   "id": "adcebcf7-06ca-490a-bea6-649da4e9413b",
   "metadata": {},
   "outputs": [],
   "source": [
    "# false_negatives"
   ]
  },
  {
   "cell_type": "code",
   "execution_count": null,
   "id": "4f63dc1e-7fd0-439d-a72d-5acf52b86e67",
   "metadata": {},
   "outputs": [],
   "source": []
  }
 ],
 "metadata": {
  "kernelspec": {
   "display_name": "Python 3 (ipykernel)",
   "language": "python",
   "name": "python3"
  },
  "language_info": {
   "codemirror_mode": {
    "name": "ipython",
    "version": 3
   },
   "file_extension": ".py",
   "mimetype": "text/x-python",
   "name": "python",
   "nbconvert_exporter": "python",
   "pygments_lexer": "ipython3",
   "version": "3.7.8"
  }
 },
 "nbformat": 4,
 "nbformat_minor": 5
}

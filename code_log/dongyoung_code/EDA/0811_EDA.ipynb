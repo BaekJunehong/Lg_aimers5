{
 "cells": [
  {
   "cell_type": "code",
   "execution_count": 1,
   "metadata": {},
   "outputs": [],
   "source": [
    "import pandas as pd\n",
    "import numpy as np\n",
    "import seaborn as sns\n",
    "import matplotlib.pyplot as plt"
   ]
  },
  {
   "cell_type": "code",
   "execution_count": 2,
   "metadata": {},
   "outputs": [],
   "source": [
    "train_data = pd.read_csv('C:/Users/KimDongyoung/Desktop/git_LGaimers5/Lg_aimers5/data/trim_train_data.csv')"
   ]
  },
  {
   "cell_type": "markdown",
   "metadata": {},
   "source": [
    "### Machine Tact time 변수"
   ]
  },
  {
   "cell_type": "code",
   "execution_count": 3,
   "metadata": {},
   "outputs": [],
   "source": [
    "# dam, fill1, fill2 tact time을 전부 더한 변수 생성\n",
    "\n",
    "train_data['Total_Machine_Tact_Time'] = (\n",
    "    train_data['Machine Tact time Collect Result_Dam'] +\n",
    "    train_data['Machine Tact time Collect Result_Fill1'] +\n",
    "    train_data['Machine Tact time Collect Result_Fill2']\n",
    ")"
   ]
  },
  {
   "cell_type": "code",
   "execution_count": 4,
   "metadata": {},
   "outputs": [
    {
     "data": {
      "text/html": [
       "<div>\n",
       "<style scoped>\n",
       "    .dataframe tbody tr th:only-of-type {\n",
       "        vertical-align: middle;\n",
       "    }\n",
       "\n",
       "    .dataframe tbody tr th {\n",
       "        vertical-align: top;\n",
       "    }\n",
       "\n",
       "    .dataframe thead th {\n",
       "        text-align: right;\n",
       "    }\n",
       "</style>\n",
       "<table border=\"1\" class=\"dataframe\">\n",
       "  <thead>\n",
       "    <tr style=\"text-align: right;\">\n",
       "      <th></th>\n",
       "      <th>Machine Tact time Collect Result_Dam</th>\n",
       "      <th>Machine Tact time Collect Result_Fill1</th>\n",
       "      <th>Machine Tact time Collect Result_Fill2</th>\n",
       "      <th>Total_Machine_Tact_Time</th>\n",
       "    </tr>\n",
       "  </thead>\n",
       "  <tbody>\n",
       "    <tr>\n",
       "      <th>0</th>\n",
       "      <td>58.5</td>\n",
       "      <td>55.7</td>\n",
       "      <td>19.9</td>\n",
       "      <td>134.1</td>\n",
       "    </tr>\n",
       "    <tr>\n",
       "      <th>1</th>\n",
       "      <td>65.1</td>\n",
       "      <td>56.5</td>\n",
       "      <td>19.6</td>\n",
       "      <td>141.2</td>\n",
       "    </tr>\n",
       "    <tr>\n",
       "      <th>2</th>\n",
       "      <td>76.9</td>\n",
       "      <td>58.7</td>\n",
       "      <td>19.8</td>\n",
       "      <td>155.4</td>\n",
       "    </tr>\n",
       "    <tr>\n",
       "      <th>3</th>\n",
       "      <td>70.5</td>\n",
       "      <td>57.7</td>\n",
       "      <td>19.9</td>\n",
       "      <td>148.1</td>\n",
       "    </tr>\n",
       "    <tr>\n",
       "      <th>4</th>\n",
       "      <td>88.3</td>\n",
       "      <td>89.9</td>\n",
       "      <td>19.7</td>\n",
       "      <td>197.9</td>\n",
       "    </tr>\n",
       "  </tbody>\n",
       "</table>\n",
       "</div>"
      ],
      "text/plain": [
       "   Machine Tact time Collect Result_Dam  \\\n",
       "0                                  58.5   \n",
       "1                                  65.1   \n",
       "2                                  76.9   \n",
       "3                                  70.5   \n",
       "4                                  88.3   \n",
       "\n",
       "   Machine Tact time Collect Result_Fill1  \\\n",
       "0                                    55.7   \n",
       "1                                    56.5   \n",
       "2                                    58.7   \n",
       "3                                    57.7   \n",
       "4                                    89.9   \n",
       "\n",
       "   Machine Tact time Collect Result_Fill2  Total_Machine_Tact_Time  \n",
       "0                                    19.9                    134.1  \n",
       "1                                    19.6                    141.2  \n",
       "2                                    19.8                    155.4  \n",
       "3                                    19.9                    148.1  \n",
       "4                                    19.7                    197.9  "
      ]
     },
     "execution_count": 4,
     "metadata": {},
     "output_type": "execute_result"
    }
   ],
   "source": [
    "train_data[['Machine Tact time Collect Result_Dam', \n",
    "      'Machine Tact time Collect Result_Fill1', \n",
    "      'Machine Tact time Collect Result_Fill2', \n",
    "      'Total_Machine_Tact_Time']].head()"
   ]
  },
  {
   "cell_type": "code",
   "execution_count": 5,
   "metadata": {},
   "outputs": [
    {
     "data": {
      "text/plain": [
       "Total_Machine_Tact_Time\n",
       "135.5    449\n",
       "135.6    402\n",
       "135.4    339\n",
       "135.9    312\n",
       "135.8    277\n",
       "        ... \n",
       "151.0      1\n",
       "169.2      1\n",
       "190.6      1\n",
       "170.5      1\n",
       "267.0      1\n",
       "Name: count, Length: 1543, dtype: int64"
      ]
     },
     "execution_count": 5,
     "metadata": {},
     "output_type": "execute_result"
    }
   ],
   "source": [
    "train_data['Total_Machine_Tact_Time'].value_counts()"
   ]
  },
  {
   "cell_type": "code",
   "execution_count": 6,
   "metadata": {},
   "outputs": [],
   "source": [
    "def value_counts_ratio_count(df, col_name, target_name):\n",
    "    \"\"\"\n",
    "    주어진 데이터프레임의 특정 열에 대해 각 값마다 타겟 변수의 비율과 갯수, 총 갯수를 출력하는 함수.\n",
    "\n",
    "    Parameters:\n",
    "    df (pd.DataFrame): 데이터프레임\n",
    "    col_name (str): 열 이름\n",
    "    target_name (str): 타겟 변수 이름\n",
    "    \"\"\"\n",
    "    # 각 값마다 타겟 변수의 비율 계산\n",
    "    value_counts = df.groupby(col_name)[target_name].value_counts(normalize=True).unstack().fillna(0)\n",
    "    \n",
    "    # 각 값마다 타겟 변수의 갯수 계산\n",
    "    counts = df.groupby(col_name)[target_name].value_counts().unstack().fillna(0)\n",
    "    \n",
    "    # 각 값마다 총 갯수 계산\n",
    "    total_counts = df[col_name].value_counts().rename('Total_Count')\n",
    "    \n",
    "    # 비율과 갯수를 합침\n",
    "    result = value_counts.join(counts, lsuffix='_ratio', rsuffix='_count')\n",
    "    \n",
    "    # 총 갯수를 합침\n",
    "    result = result.join(total_counts, on=col_name)\n",
    "    \n",
    "    # 출력 형식 조정\n",
    "    result.index.name = 'variable'\n",
    "    print(f\"\\n{col_name}별 {target_name} 비율 및 갯수\\n\")\n",
    "    print(result.rename(columns=lambda x: x.split('_')[0]))"
   ]
  },
  {
   "cell_type": "code",
   "execution_count": 7,
   "metadata": {},
   "outputs": [
    {
     "name": "stdout",
     "output_type": "stream",
     "text": [
      "\n",
      "Total_Machine_Tact_Time별 target 비율 및 갯수\n",
      "\n",
      "          AbNormal  Normal  AbNormal  Normal  Total\n",
      "variable                                           \n",
      "77.1           1.0     0.0       1.0     0.0      1\n",
      "103.3          0.0     1.0       0.0     1.0      1\n",
      "104.7          0.0     1.0       0.0     1.0      1\n",
      "105.5          0.0     1.0       0.0     1.0      1\n",
      "107.5          0.0     1.0       0.0     1.0      1\n",
      "...            ...     ...       ...     ...    ...\n",
      "393.8          0.0     1.0       0.0     1.0      1\n",
      "410.1          0.0     1.0       0.0     1.0      1\n",
      "432.6          0.0     1.0       0.0     1.0      1\n",
      "625.5          0.0     1.0       0.0     1.0      1\n",
      "1102.7         1.0     0.0       1.0     0.0      1\n",
      "\n",
      "[1543 rows x 5 columns]\n"
     ]
    }
   ],
   "source": [
    "value_counts_ratio_count(train_data, 'Total_Machine_Tact_Time', 'target')"
   ]
  },
  {
   "cell_type": "markdown",
   "metadata": {},
   "source": [
    "### target과 total machine Tact time 간의 관계"
   ]
  },
  {
   "cell_type": "code",
   "execution_count": 9,
   "metadata": {},
   "outputs": [
    {
     "data": {
      "image/png": "[encoded data removed]",
      "text/plain": [
       "<Figure size 1000x600 with 1 Axes>"
      ]
     },
     "metadata": {},
     "output_type": "display_data"
    }
   ],
   "source": [
    "# Set the style for the plots\n",
    "sns.set(style=\"whitegrid\")\n",
    "\n",
    "# Create a boxplot to show the distribution of Total_Machine_Tact_Time for each target category\n",
    "plt.figure(figsize=(10, 6))\n",
    "sns.boxplot(x='target', y='Total_Machine_Tact_Time', data=train_data)\n",
    "plt.title('Relationship between Total Machine Tact Time and Target')\n",
    "plt.xlabel('Target')\n",
    "plt.ylabel('Total Machine Tact Time')\n",
    "plt.show()"
   ]
  },
  {
   "cell_type": "markdown",
   "metadata": {},
   "source": [
    " Q1, Q3"
   ]
  },
  {
   "cell_type": "code",
   "execution_count": 12,
   "metadata": {},
   "outputs": [
    {
     "name": "stdout",
     "output_type": "stream",
     "text": [
      "{'normal_Q1': 133.2, 'normal_Q3': 165.9, 'abnormal_Q1': 134.3, 'abnormal_Q3': 198.3}\n"
     ]
    }
   ],
   "source": [
    "# Calculate the Q1 (25th percentile) and Q3 (75th percentile) for the \"Normal\" target group\n",
    "normal_q1 = train_data[train_data['target'] == 'Normal']['Total_Machine_Tact_Time'].quantile(0.25)\n",
    "normal_q3 = train_data[train_data['target'] == 'Normal']['Total_Machine_Tact_Time'].quantile(0.75)\n",
    "\n",
    "# Calculate the Q1 (25th percentile) and Q3 (75th percentile) for the \"abnormal\" target group\n",
    "abnormal_q1 = train_data[train_data['target'] != 'Normal']['Total_Machine_Tact_Time'].quantile(0.25)\n",
    "abnormal_q3 = train_data[train_data['target'] != 'Normal']['Total_Machine_Tact_Time'].quantile(0.75)\n",
    "\n",
    "print({'normal_Q1':normal_q1, 'normal_Q3':normal_q3, 'abnormal_Q1':abnormal_q1, 'abnormal_Q3':abnormal_q3})"
   ]
  },
  {
   "cell_type": "markdown",
   "metadata": {},
   "source": [
    "Outlier"
   ]
  },
  {
   "cell_type": "code",
   "execution_count": 18,
   "metadata": {},
   "outputs": [
    {
     "data": {
      "text/plain": [
       "214.95000000000005"
      ]
     },
     "execution_count": 18,
     "metadata": {},
     "output_type": "execute_result"
    }
   ],
   "source": [
    "# Calculate the IQR (Interquartile Range) for the \"Normal\" target group\n",
    "q1 = train_data[train_data['target'] == 'Normal']['Total_Machine_Tact_Time'].quantile(0.25)\n",
    "q3 = train_data[train_data['target'] == 'Normal']['Total_Machine_Tact_Time'].quantile(0.75)\n",
    "iqr = q3 - q1\n",
    "\n",
    "# Calculate the starting point for outliers (Q3 + 1.5*IQR)\n",
    "outlier1 = q3 + 1.5 * iqr\n",
    "outlier1"
   ]
  },
  {
   "cell_type": "code",
   "execution_count": 19,
   "metadata": {},
   "outputs": [
    {
     "data": {
      "text/plain": [
       "84.14999999999996"
      ]
     },
     "execution_count": 19,
     "metadata": {},
     "output_type": "execute_result"
    }
   ],
   "source": [
    "# Calculate the IQR (Interquartile Range) for the \"Normal\" target group\n",
    "q1 = train_data[train_data['target'] == 'Normal']['Total_Machine_Tact_Time'].quantile(0.25)\n",
    "q3 = train_data[train_data['target'] == 'Normal']['Total_Machine_Tact_Time'].quantile(0.75)\n",
    "iqr = q3 - q1\n",
    "\n",
    "# Calculate the starting point for outliers (Q1 - 1.5*IQR)\n",
    "outlier2 = q1 - 1.5 * iqr\n",
    "outlier2"
   ]
  },
  {
   "cell_type": "code",
   "execution_count": 20,
   "metadata": {},
   "outputs": [
    {
     "data": {
      "text/plain": [
       "294.3"
      ]
     },
     "execution_count": 20,
     "metadata": {},
     "output_type": "execute_result"
    }
   ],
   "source": [
    "# Calculate the IQR (Interquartile Range) for the \"Abnormal\" target group\n",
    "q1 = train_data[train_data['target'] == 'AbNormal']['Total_Machine_Tact_Time'].quantile(0.25)\n",
    "q3 = train_data[train_data['target'] == 'AbNormal']['Total_Machine_Tact_Time'].quantile(0.75)\n",
    "iqr = q3 - q1\n",
    "\n",
    "# Calculate the starting point for outliers (Q3 + 1.5*IQR)\n",
    "outlier3 = q3 + 1.5 * iqr\n",
    "outlier3"
   ]
  },
  {
   "cell_type": "code",
   "execution_count": 21,
   "metadata": {},
   "outputs": [
    {
     "data": {
      "text/plain": [
       "38.30000000000001"
      ]
     },
     "execution_count": 21,
     "metadata": {},
     "output_type": "execute_result"
    }
   ],
   "source": [
    "# Calculate the IQR (Interquartile Range) for the \"Abnormal\" target group\n",
    "q1 = train_data[train_data['target'] == 'AbNormal']['Total_Machine_Tact_Time'].quantile(0.25)\n",
    "q3 = train_data[train_data['target'] == 'AbNormal']['Total_Machine_Tact_Time'].quantile(0.75)\n",
    "iqr = q3 - q1\n",
    "\n",
    "# Calculate the starting point for outliers (Q1 - 1.5*IQR)\n",
    "outlier4 = q1 - 1.5 * iqr\n",
    "outlier4"
   ]
  },
  {
   "cell_type": "markdown",
   "metadata": {},
   "source": [
    "outlier, Q1, Q3 값을 기준으로 구간 설정 후 normal, abnormal 개수 및 구성 비율 확인"
   ]
  },
  {
   "cell_type": "code",
   "execution_count": 24,
   "metadata": {},
   "outputs": [
    {
     "name": "stderr",
     "output_type": "stream",
     "text": [
      "C:\\Users\\KimDongyoung\\AppData\\Local\\Temp\\ipykernel_11428\\2709703522.py:9: FutureWarning: The default of observed=False is deprecated and will be changed to True in a future version of pandas. Pass observed=False to retain current behavior or observed=True to adopt the future default and silence this warning.\n",
      "  composition = train_data.groupby(['Tact_Time_Section', 'target']).size().unstack(fill_value=0)\n"
     ]
    },
    {
     "data": {
      "text/html": [
       "<div>\n",
       "<style scoped>\n",
       "    .dataframe tbody tr th:only-of-type {\n",
       "        vertical-align: middle;\n",
       "    }\n",
       "\n",
       "    .dataframe tbody tr th {\n",
       "        vertical-align: top;\n",
       "    }\n",
       "\n",
       "    .dataframe thead th {\n",
       "        text-align: right;\n",
       "    }\n",
       "</style>\n",
       "<table border=\"1\" class=\"dataframe\">\n",
       "  <thead>\n",
       "    <tr style=\"text-align: right;\">\n",
       "      <th>target</th>\n",
       "      <th>AbNormal</th>\n",
       "      <th>Normal</th>\n",
       "      <th>AbNormal (%)</th>\n",
       "      <th>Normal (%)</th>\n",
       "    </tr>\n",
       "    <tr>\n",
       "      <th>Tact_Time_Section</th>\n",
       "      <th></th>\n",
       "      <th></th>\n",
       "      <th></th>\n",
       "      <th></th>\n",
       "    </tr>\n",
       "  </thead>\n",
       "  <tbody>\n",
       "    <tr>\n",
       "      <th>Section 1</th>\n",
       "      <td>1</td>\n",
       "      <td>0</td>\n",
       "      <td>100.000000</td>\n",
       "      <td>0.000000</td>\n",
       "    </tr>\n",
       "    <tr>\n",
       "      <th>Section 2</th>\n",
       "      <td>476</td>\n",
       "      <td>9382</td>\n",
       "      <td>4.828566</td>\n",
       "      <td>95.171434</td>\n",
       "    </tr>\n",
       "    <tr>\n",
       "      <th>Section 3</th>\n",
       "      <td>107</td>\n",
       "      <td>1915</td>\n",
       "      <td>5.291790</td>\n",
       "      <td>94.708210</td>\n",
       "    </tr>\n",
       "    <tr>\n",
       "      <th>Section 4</th>\n",
       "      <td>924</td>\n",
       "      <td>17319</td>\n",
       "      <td>5.064956</td>\n",
       "      <td>94.935044</td>\n",
       "    </tr>\n",
       "    <tr>\n",
       "      <th>Section 5</th>\n",
       "      <td>254</td>\n",
       "      <td>3706</td>\n",
       "      <td>6.414141</td>\n",
       "      <td>93.585859</td>\n",
       "    </tr>\n",
       "    <tr>\n",
       "      <th>Section 6</th>\n",
       "      <td>568</td>\n",
       "      <td>5617</td>\n",
       "      <td>9.183508</td>\n",
       "      <td>90.816492</td>\n",
       "    </tr>\n",
       "    <tr>\n",
       "      <th>Section 7</th>\n",
       "      <td>17</td>\n",
       "      <td>208</td>\n",
       "      <td>7.555556</td>\n",
       "      <td>92.444444</td>\n",
       "    </tr>\n",
       "  </tbody>\n",
       "</table>\n",
       "</div>"
      ],
      "text/plain": [
       "target             AbNormal  Normal  AbNormal (%)  Normal (%)\n",
       "Tact_Time_Section                                            \n",
       "Section 1                 1       0    100.000000    0.000000\n",
       "Section 2               476    9382      4.828566   95.171434\n",
       "Section 3               107    1915      5.291790   94.708210\n",
       "Section 4               924   17319      5.064956   94.935044\n",
       "Section 5               254    3706      6.414141   93.585859\n",
       "Section 6               568    5617      9.183508   90.816492\n",
       "Section 7                17     208      7.555556   92.444444"
      ]
     },
     "execution_count": 24,
     "metadata": {},
     "output_type": "execute_result"
    }
   ],
   "source": [
    "# Define the bins and labels\n",
    "bins = [38.3, 84.15, 133.2, 134.3, 165.9, 198.3, 214.95, 294.3]\n",
    "labels = [f'Section {i+1}' for i in range(len(bins)-1)]\n",
    "\n",
    "# Cut the Total_Machine_Tact_Time into the defined bins\n",
    "train_data['Tact_Time_Section'] = pd.cut(train_data['Total_Machine_Tact_Time'], bins=bins, labels=labels, right=False)\n",
    "\n",
    "# Calculate the count and composition ratio of normal and abnormal in each section\n",
    "composition = train_data.groupby(['Tact_Time_Section', 'target']).size().unstack(fill_value=0)\n",
    "\n",
    "# Calculate the composition ratio\n",
    "composition_ratio = composition.div(composition.sum(axis=1), axis=0) * 100\n",
    "\n",
    "# Combine counts and ratios into a single dataframe for clarity\n",
    "result = pd.concat([composition, composition_ratio.add_suffix(' (%)')], axis=1)\n",
    "result"
   ]
  },
  {
   "cell_type": "markdown",
   "metadata": {},
   "source": [
    "section 5,6,7에서 abnormal 비율이 9% 정도로 전체 평균 불량 비율보다 높았다. 이 구간은 165.9 보다 큰 경우이다."
   ]
  },
  {
   "cell_type": "code",
   "execution_count": null,
   "metadata": {},
   "outputs": [],
   "source": []
  }
 ],
 "metadata": {
  "kernelspec": {
   "display_name": "Python 3",
   "language": "python",
   "name": "python3"
  },
  "language_info": {
   "codemirror_mode": {
    "name": "ipython",
    "version": 3
   },
   "file_extension": ".py",
   "mimetype": "text/x-python",
   "name": "python",
   "nbconvert_exporter": "python",
   "pygments_lexer": "ipython3",
   "version": "3.12.0"
  }
 },
 "nbformat": 4,
 "nbformat_minor": 2
}

{
 "cells": [
  {
   "cell_type": "code",
   "execution_count": 2,
   "metadata": {},
   "outputs": [],
   "source": [
    "import numpy as np\n",
    "import pandas as pd\n",
    "import matplotlib.pyplot as plt"
   ]
  },
  {
   "cell_type": "code",
   "execution_count": 3,
   "metadata": {},
   "outputs": [],
   "source": [
    "RANDOM_STATE = 110\n",
    "\n",
    "train_data = pd.read_csv(\"C:/Users/KimDongyoung/Desktop/git_LGaimers5/Lg_aimers5/data/train_data.csv\")\n",
    "test_data = pd.read_csv(\"C:/Users/KimDongyoung/Desktop/git_LGaimers5/Lg_aimers5/data/test_data.csv\")"
   ]
  },
  {
   "cell_type": "code",
   "execution_count": 4,
   "metadata": {},
   "outputs": [],
   "source": [
    "def plot_box(dataframe, column_name):\n",
    "    \"\"\"\n",
    "    주어진 데이터프레임과 열 이름에 대해 박스 플롯을 그리는 함수.\n",
    "\n",
    "    Parameters:\n",
    "    dataframe (pd.DataFrame): 데이터프레임\n",
    "    column_name (str): 열 이름\n",
    "    \"\"\"\n",
    "    plt.figure(figsize=(10, 6))\n",
    "    plt.boxplot(dataframe[column_name], vert=False)\n",
    "    plt.xlabel(column_name)\n",
    "    plt.title(f'Box Plot of {column_name}')\n",
    "    plt.show()"
   ]
  },
  {
   "cell_type": "code",
   "execution_count": 5,
   "metadata": {},
   "outputs": [],
   "source": [
    "import pandas as pd\n",
    "\n",
    "def value_counts_ratio_count(df, col_name, target_name):\n",
    "    \"\"\"\n",
    "    주어진 데이터프레임의 특정 열에 대해 각 값마다 타겟 변수의 비율과 갯수, 총 갯수를 출력하는 함수.\n",
    "\n",
    "    Parameters:\n",
    "    df (pd.DataFrame): 데이터프레임\n",
    "    col_name (str): 열 이름\n",
    "    target_name (str): 타겟 변수 이름\n",
    "    \"\"\"\n",
    "    # 각 값마다 타겟 변수의 비율 계산\n",
    "    value_counts = df.groupby(col_name)[target_name].value_counts(normalize=True).unstack().fillna(0)\n",
    "    \n",
    "    # 각 값마다 타겟 변수의 갯수 계산\n",
    "    counts = df.groupby(col_name)[target_name].value_counts().unstack().fillna(0)\n",
    "    \n",
    "    # 각 값마다 총 갯수 계산\n",
    "    total_counts = df[col_name].value_counts().rename('Total_Count')\n",
    "    \n",
    "    # 비율과 갯수를 합침\n",
    "    result = value_counts.join(counts, lsuffix='_ratio', rsuffix='_count')\n",
    "    \n",
    "    # 총 갯수를 합침\n",
    "    result = result.join(total_counts, on=col_name)\n",
    "    \n",
    "    # 출력 형식 조정\n",
    "    result.index.name = 'variable'\n",
    "    print(f\"\\n{col_name}별 {target_name} 비율 및 갯수\\n\")\n",
    "    print(result.rename(columns=lambda x: x.split('_')[0]))"
   ]
  },
  {
   "cell_type": "code",
   "execution_count": 6,
   "metadata": {},
   "outputs": [],
   "source": [
    "def summarize_grouped_data(df, group_by_columns):\n",
    "    # 데이터프레임을 그룹화\n",
    "    grouped_df = df.groupby(group_by_columns)\n",
    "    \n",
    "    # 결과를 저장할 리스트 초기화\n",
    "    results = []\n",
    "    \n",
    "    # 그룹화된 데이터프레임의 내용을 확인하는 코드\n",
    "    for name, group in grouped_df:\n",
    "        # 그룹의 갯수 계산\n",
    "        group_count = group.shape[0]\n",
    "        \n",
    "        # 'target' 변수의 'AdNormal' 비율과 갯수 계산\n",
    "        adnormal_count = group['target'].value_counts().get('AbNormal', 0)\n",
    "        adnormal_ratio = adnormal_count / group_count\n",
    "        \n",
    "        # 결과 리스트에 추가\n",
    "        results.append([name, adnormal_count, adnormal_ratio, group_count])\n",
    "    \n",
    "    # 결과 리스트를 데이터프레임으로 변환\n",
    "    results_df = pd.DataFrame(results, columns=['group', \"'AdNormal' count\", 'ratio', 'Total'])\n",
    "    \n",
    "    # 그룹화된 변수들의 이름을 제목행으로 출력\n",
    "    print(f\"Grouped by: {', '.join(group_by_columns)}\")\n",
    "    print()\n",
    "    # 데이터프레임 출력\n",
    "    print(results_df)\n",
    "    \n",
    "    return results_df"
   ]
  },
  {
   "cell_type": "code",
   "execution_count": 7,
   "metadata": {},
   "outputs": [],
   "source": [
    "def plot_abnormal_ratio(dataframe, column_name, target_name, target_value, bins=20):\n",
    "    \"\"\"\n",
    "    주어진 데이터프레임의 특정 열에 대해 각 값마다 타겟 변수의 특정 값 비율을 계산하고 막대그래프로 표시하는 함수.\n",
    "\n",
    "    Parameters:\n",
    "    dataframe (pd.DataFrame): 데이터프레임\n",
    "    column_name (str): 열 이름\n",
    "    target_name (str): 타겟 변수 이름\n",
    "    target_value (str): 타겟 변수의 특정 값\n",
    "    bins (int): 구간의 수 (기본값은 20)\n",
    "    \"\"\"\n",
    "    def abnormal_ratio(dataframe, column_name, target_name, target_value):\n",
    "        \"\"\"\n",
    "        주어진 데이터프레임의 특정 열에 대해 각 값마다 타겟 변수의 특정 값 비율을 계산하는 함수.\n",
    "\n",
    "        Parameters:\n",
    "        dataframe (pd.DataFrame): 데이터프레임\n",
    "        column_name (str): 열 이름\n",
    "        target_name (str): 타겟 변수 이름\n",
    "        target_value (str): 타겟 변수의 특정 값\n",
    "\n",
    "        Returns:\n",
    "        pd.DataFrame: 각 값마다 타겟 변수의 특정 값 비율을 포함하는 데이터프레임\n",
    "        \"\"\"\n",
    "        # 각 값마다 타겟 변수의 특정 값 비율 계산\n",
    "        value_counts = dataframe.groupby(column_name)[target_name].apply(lambda x: (x == target_value).mean()).reset_index()\n",
    "        count_counts = dataframe.groupby(column_name)[target_name].count().reset_index()\n",
    "        \n",
    "        value_counts.columns = [column_name, 'ratio']\n",
    "        count_counts.columns = [column_name, 'count']\n",
    "        \n",
    "        # 비율과 카운트를 병합\n",
    "        result = pd.merge(value_counts, count_counts, on=column_name)\n",
    "        return result\n",
    "\n",
    "    # column_name 값을 지정된 구간으로 나누기\n",
    "    dataframe[f'{column_name}_bins'] = pd.cut(dataframe[column_name], bins=bins)\n",
    "\n",
    "    # 비율 계산\n",
    "    ratios = abnormal_ratio(dataframe, f'{column_name}_bins', target_name, target_value)\n",
    "\n",
    "    # 막대그래프 그리기\n",
    "    plt.figure(figsize=(20, 10))\n",
    "    barplot = sns.barplot(x=f'{column_name}_bins', y='ratio', data=ratios, color='skyblue')\n",
    "    plt.xlabel(f'{column_name} (binned)')\n",
    "    plt.ylabel('AbNormal Ratio')\n",
    "    plt.title(f'AbNormal Ratio by {column_name} (binned)', pad=30)  # 제목과 그래프 사이의 간격 조정\n",
    "    plt.xticks(rotation=45)\n",
    "    plt.ylim(0, 1)\n",
    "\n",
    "    # 각 막대 위에 비율 값과 카운트 표시\n",
    "    for p in barplot.patches:\n",
    "        # 막대의 x 좌표에 해당하는 구간을 찾기\n",
    "        bin_label = ratios[f'{column_name}_bins'].cat.categories[int(p.get_x() + p.get_width() / 2) - 1]\n",
    "        count_value = ratios.loc[ratios[f'{column_name}_bins'] == bin_label, 'count'].values[0]\n",
    "        barplot.annotate(f'{format(p.get_height(), \".2f\")} ({count_value})', \n",
    "                         (p.get_x() + p.get_width() / 2., p.get_height()), \n",
    "                         ha='center', va='center', \n",
    "                         xytext=(0, 9), \n",
    "                         textcoords='offset points')\n",
    "\n",
    "    plt.show()\n",
    "\n",
    "    # _bins 변수 드랍\n",
    "    dataframe.drop(columns=[f'{column_name}_bins'], inplace=True)\n"
   ]
  },
  {
   "cell_type": "code",
   "execution_count": 8,
   "metadata": {},
   "outputs": [
    {
     "name": "stdout",
     "output_type": "stream",
     "text": [
      "<? column in train_data>\n",
      "CURE END POSITION ? Collect Result_Dam\n",
      "CURE START POSITION ? Collect Result_Dam\n",
      "<? column in test_data>\n",
      "<Θ in train_data>\n",
      "train_data:\n",
      "CURE END POSITION Θ Collect Result_Dam\n",
      "CURE START POSITION Θ Collect Result_Dam\n",
      "test_data:\n",
      "CURE END POSITION Θ Collect Result_Dam\n",
      "CURE START POSITION Θ Collect Result_Dam\n"
     ]
    }
   ],
   "source": [
    "# train_data와 test_data에서 '?'를 포함하는 열 이름 필터링\n",
    "train_Process_Desc_col = train_data.filter(like='?').columns\n",
    "test_Process_Desc_col = test_data.filter(like='?').columns\n",
    "\n",
    "# 필터링된 열 이름 출력\n",
    "print(\"<? column in train_data>\")\n",
    "for col in train_Process_Desc_col:\n",
    "    print(col)\n",
    "\n",
    "print(\"<? column in test_data>\")\n",
    "for col in test_Process_Desc_col:\n",
    "    print(col)\n",
    "\n",
    "# ? -> Θ로 변경할 열 이름과 새 열 이름 생성\n",
    "train_new_columns = {col: col.replace('?', 'Θ') for col in train_Process_Desc_col}\n",
    "test_new_columns = {col: col.replace('?', 'Θ') for col in test_Process_Desc_col}\n",
    "\n",
    "# 열 이름 변경\n",
    "train_data.rename(columns=train_new_columns, inplace=True)\n",
    "test_data.rename(columns=test_new_columns, inplace=True)\n",
    "\n",
    "# 'Θ'를 포함하는 열 이름 필터링\n",
    "train_Process_Desc_col = train_data.filter(like='Θ').columns\n",
    "test_Process_Desc_col = test_data.filter(like='Θ').columns\n",
    "\n",
    "# 필터링된 열 이름 출력\n",
    "print(\"<Θ in train_data>\")\n",
    "print(\"train_data:\")\n",
    "for col in train_Process_Desc_col:\n",
    "    print(col)\n",
    "\n",
    "print(\"test_data:\")\n",
    "for col in test_Process_Desc_col:\n",
    "    print(col)"
   ]
  },
  {
   "cell_type": "code",
   "execution_count": 9,
   "metadata": {},
   "outputs": [
    {
     "name": "stdout",
     "output_type": "stream",
     "text": [
      "<Dam 공정 관련 변수>\n",
      "CURE END POSITION X Collect Result_Dam\n",
      "CURE END POSITION Z Collect Result_Dam\n",
      "CURE END POSITION Θ Collect Result_Dam\n",
      "CURE SPEED Collect Result_Dam\n",
      "CURE START POSITION X Collect Result_Dam\n",
      "CURE START POSITION Θ Collect Result_Dam\n",
      "DISCHARGED SPEED OF RESIN Collect Result_Dam\n",
      "DISCHARGED TIME OF RESIN(Stage1) Collect Result_Dam\n",
      "DISCHARGED TIME OF RESIN(Stage2) Collect Result_Dam\n",
      "DISCHARGED TIME OF RESIN(Stage3) Collect Result_Dam\n",
      "Dispense Volume(Stage1) Collect Result_Dam\n",
      "Dispense Volume(Stage2) Collect Result_Dam\n",
      "Dispense Volume(Stage3) Collect Result_Dam\n",
      "HEAD NORMAL COORDINATE X AXIS(Stage1) Collect Result_Dam\n",
      "HEAD NORMAL COORDINATE X AXIS(Stage1) Judge Value_Dam\n",
      "HEAD NORMAL COORDINATE X AXIS(Stage2) Collect Result_Dam\n",
      "HEAD NORMAL COORDINATE X AXIS(Stage3) Collect Result_Dam\n",
      "HEAD NORMAL COORDINATE Y AXIS(Stage1) Collect Result_Dam\n",
      "HEAD NORMAL COORDINATE Y AXIS(Stage2) Collect Result_Dam\n",
      "HEAD NORMAL COORDINATE Y AXIS(Stage3) Collect Result_Dam\n",
      "HEAD NORMAL COORDINATE Z AXIS(Stage1) Collect Result_Dam\n",
      "HEAD NORMAL COORDINATE Z AXIS(Stage2) Collect Result_Dam\n",
      "HEAD NORMAL COORDINATE Z AXIS(Stage3) Collect Result_Dam\n",
      "Head Clean Position Z Collect Result_Dam\n",
      "Head Purge Position Z Collect Result_Dam\n",
      "Head Zero Position Y Collect Result_Dam\n",
      "Head Zero Position Z Collect Result_Dam\n",
      "Machine Tact time Collect Result_Dam\n",
      "PalletID Collect Result_Dam\n",
      "Production Qty Collect Result_Dam\n",
      "Receip No Collect Result_Dam\n",
      "Stage1 Circle1 Distance Speed Collect Result_Dam\n",
      "Stage1 Circle2 Distance Speed Collect Result_Dam\n",
      "Stage1 Circle3 Distance Speed Collect Result_Dam\n",
      "Stage1 Circle4 Distance Speed Collect Result_Dam\n",
      "Stage1 Line1 Distance Speed Collect Result_Dam\n",
      "Stage1 Line2 Distance Speed Collect Result_Dam\n",
      "Stage1 Line3 Distance Speed Collect Result_Dam\n",
      "Stage1 Line4 Distance Speed Collect Result_Dam\n",
      "Stage2 Circle1 Distance Speed Collect Result_Dam\n",
      "Stage2 Circle2 Distance Speed Collect Result_Dam\n",
      "Stage2 Circle3 Distance Speed Collect Result_Dam\n",
      "Stage2 Circle4 Distance Speed Collect Result_Dam\n",
      "Stage2 Line1 Distance Speed Collect Result_Dam\n",
      "Stage2 Line2 Distance Speed Collect Result_Dam\n",
      "Stage2 Line3 Distance Speed Collect Result_Dam\n",
      "Stage2 Line4 Distance Speed Collect Result_Dam\n",
      "Stage3 Circle1 Distance Speed Collect Result_Dam\n",
      "Stage3 Circle2 Distance Speed Collect Result_Dam\n",
      "Stage3 Circle3 Distance Speed Collect Result_Dam\n",
      "Stage3 Circle4 Distance Speed Collect Result_Dam\n",
      "Stage3 Line1 Distance Speed Collect Result_Dam\n",
      "Stage3 Line2 Distance Speed Collect Result_Dam\n",
      "Stage3 Line3 Distance Speed Collect Result_Dam\n",
      "Stage3 Line4 Distance Speed Collect Result_Dam\n",
      "THICKNESS 1 Collect Result_Dam\n",
      "THICKNESS 2 Collect Result_Dam\n",
      "THICKNESS 3 Collect Result_Dam\n",
      "WorkMode Collect Result_Dam\n"
     ]
    }
   ],
   "source": [
    "# '_Dam'를 포함하는 열 이름 필터링\n",
    "Process_Desc_col = train_data.filter(like='_Dam').columns\n",
    "\n",
    "# 필터링된 열 이름 출력\n",
    "print(\"<Dam 공정 관련 변수>\")\n",
    "for col in Process_Desc_col:\n",
    "    print(col)"
   ]
  },
  {
   "cell_type": "markdown",
   "metadata": {},
   "source": [
    "CURE END POSITION 변수 분석"
   ]
  },
  {
   "cell_type": "code",
   "execution_count": 10,
   "metadata": {},
   "outputs": [],
   "source": [
    "train_data['CURE POSITION X DISTANCE'] = train_data['CURE END POSITION X Collect Result_Dam'] - train_data['CURE START POSITION X Collect Result_Dam']"
   ]
  },
  {
   "cell_type": "code",
   "execution_count": 11,
   "metadata": {},
   "outputs": [
    {
     "data": {
      "text/plain": [
       "CURE POSITION X DISTANCE\n",
       "-790    25030\n",
       " 720    15476\n",
       "Name: count, dtype: int64"
      ]
     },
     "execution_count": 11,
     "metadata": {},
     "output_type": "execute_result"
    }
   ],
   "source": [
    "train_data['CURE POSITION X DISTANCE'].value_counts()"
   ]
  },
  {
   "cell_type": "markdown",
   "metadata": {},
   "source": [
    "CURE POSITION X 변수는 불량품을 분류하는데 중요하지 않은 변수일 가능성이 높다."
   ]
  },
  {
   "cell_type": "code",
   "execution_count": 12,
   "metadata": {},
   "outputs": [
    {
     "name": "stdout",
     "output_type": "stream",
     "text": [
      "\n",
      "CURE POSITION X DISTANCE별 target 비율 및 갯수\n",
      "\n",
      "          AbNormal    Normal  AbNormal  Normal  Total\n",
      "variable                                             \n",
      "-790      0.059329  0.940671      1485   23545  25030\n",
      " 720      0.055893  0.944107       865   14611  15476\n"
     ]
    }
   ],
   "source": [
    "value_counts_ratio_count(train_data, 'CURE POSITION X DISTANCE', 'target')"
   ]
  },
  {
   "cell_type": "markdown",
   "metadata": {},
   "source": [
    "POSITION Θ의 경우에는 Start와 End가 동일하다."
   ]
  },
  {
   "cell_type": "code",
   "execution_count": 13,
   "metadata": {},
   "outputs": [
    {
     "name": "stdout",
     "output_type": "stream",
     "text": [
      "Grouped by: CURE END POSITION Θ Collect Result_Dam, CURE START POSITION Θ Collect Result_Dam\n",
      "\n",
      "        group  'AdNormal' count     ratio  Total\n",
      "0  (-90, -90)              1485  0.059329  25030\n",
      "1    (90, 90)               865  0.055893  15476\n"
     ]
    }
   ],
   "source": [
    "summary_df = summarize_grouped_data(train_data, ['CURE END POSITION Θ Collect Result_Dam','CURE START POSITION Θ Collect Result_Dam'])"
   ]
  },
  {
   "cell_type": "markdown",
   "metadata": {},
   "source": [
    " CURE SPEED 분석"
   ]
  },
  {
   "cell_type": "markdown",
   "metadata": {},
   "source": [
    "CURE Speed가 95일 때 불량률이 가장 낮았다. Cure speed 변수의 경우에는 (70,85), 95, (100,105) 이런식으로 그룹화해줘도 좋을 듯?"
   ]
  },
  {
   "cell_type": "code",
   "execution_count": 14,
   "metadata": {},
   "outputs": [
    {
     "name": "stdout",
     "output_type": "stream",
     "text": [
      "\n",
      "CURE SPEED Collect Result_Dam별 target 비율 및 갯수\n",
      "\n",
      "          AbNormal    Normal  AbNormal  Normal  Total\n",
      "variable                                             \n",
      "70        0.059601  0.940399      2052   32377  34429\n",
      "85        0.057388  0.942612       127    2086   2213\n",
      "95        0.025157  0.974843         4     155    159\n",
      "100       0.045036  0.954964        93    1972   2065\n",
      "105       0.045122  0.954878        74    1566   1640\n"
     ]
    }
   ],
   "source": [
    "value_counts_ratio_count(train_data, 'CURE SPEED Collect Result_Dam', 'target')"
   ]
  },
  {
   "cell_type": "markdown",
   "metadata": {},
   "source": [
    "DISPENSE volumne 변수 분석"
   ]
  },
  {
   "cell_type": "code",
   "execution_count": 15,
   "metadata": {},
   "outputs": [
    {
     "data": {
      "text/plain": [
       "Dispense Volume(Stage2) Collect Result_Dam\n",
       "0.34    10312\n",
       "0.58     4719\n",
       "0.27     3333\n",
       "0.73     2458\n",
       "0.56     2089\n",
       "0.72     1959\n",
       "0.74     1824\n",
       "0.57     1618\n",
       "0.46     1547\n",
       "0.53     1503\n",
       "0.92     1206\n",
       "0.71     1198\n",
       "0.35      998\n",
       "0.52      990\n",
       "0.93      803\n",
       "0.60      781\n",
       "0.59      762\n",
       "0.94      718\n",
       "0.33      513\n",
       "0.45      393\n",
       "0.37      275\n",
       "0.38      165\n",
       "0.26      109\n",
       "0.50       75\n",
       "0.55       54\n",
       "0.49       34\n",
       "0.28       27\n",
       "0.89       15\n",
       "0.90       12\n",
       "0.91       10\n",
       "0.40        3\n",
       "0.41        2\n",
       "0.48        1\n",
       "Name: count, dtype: int64"
      ]
     },
     "execution_count": 15,
     "metadata": {},
     "output_type": "execute_result"
    }
   ],
   "source": [
    "train_data['Dispense Volume(Stage1) Collect Result_Dam'].value_counts()\n",
    "train_data['Dispense Volume(Stage2) Collect Result_Dam'].value_counts()"
   ]
  },
  {
   "cell_type": "code",
   "execution_count": 16,
   "metadata": {},
   "outputs": [
    {
     "data": {
      "text/plain": [
       "Dispense Volume(Stage1) Group\n",
       "1.0~3.0    19831\n",
       "0.9~1.0    10667\n",
       "0.6~0.9    10008\n",
       "Name: count, dtype: int64"
      ]
     },
     "execution_count": 16,
     "metadata": {},
     "output_type": "execute_result"
    }
   ],
   "source": [
    "# Define the new bins for grouping the data\n",
    "bins = [0.6, 0.9, 1.0, 3.0]\n",
    "labels = ['0.6~0.9', '0.9~1.0', '1.0~3.0']\n",
    "\n",
    "# Bin the data with the new ranges\n",
    "train_data['Dispense Volume(Stage1) Group'] = pd.cut(train_data['Dispense Volume(Stage1) Collect Result_Dam'], bins=bins, labels=labels, right=False)\n",
    "\n",
    "# Get the count of each group\n",
    "grouped_counts = train_data['Dispense Volume(Stage1) Group'].value_counts()\n",
    "grouped_counts"
   ]
  },
  {
   "cell_type": "code",
   "execution_count": 17,
   "metadata": {},
   "outputs": [
    {
     "name": "stdout",
     "output_type": "stream",
     "text": [
      "\n",
      "Dispense Volume(Stage1) Group별 target 비율 및 갯수\n",
      "\n",
      "          AbNormal    Normal  AbNormal  Normal  Total\n",
      "variable                                             \n",
      "0.6~0.9   0.084432  0.915568       845    9163  10008\n",
      "0.9~1.0   0.044811  0.955189       478   10189  10667\n",
      "1.0~3.0   0.051788  0.948212      1027   18804  19831\n"
     ]
    },
    {
     "name": "stderr",
     "output_type": "stream",
     "text": [
      "C:\\Users\\KimDongyoung\\AppData\\Local\\Temp\\ipykernel_13536\\3660094726.py:13: FutureWarning: The default of observed=False is deprecated and will be changed to True in a future version of pandas. Pass observed=False to retain current behavior or observed=True to adopt the future default and silence this warning.\n",
      "  value_counts = df.groupby(col_name)[target_name].value_counts(normalize=True).unstack().fillna(0)\n",
      "C:\\Users\\KimDongyoung\\AppData\\Local\\Temp\\ipykernel_13536\\3660094726.py:16: FutureWarning: The default of observed=False is deprecated and will be changed to True in a future version of pandas. Pass observed=False to retain current behavior or observed=True to adopt the future default and silence this warning.\n",
      "  counts = df.groupby(col_name)[target_name].value_counts().unstack().fillna(0)\n"
     ]
    }
   ],
   "source": [
    "Dispense_volume1 = value_counts_ratio_count(train_data, 'Dispense Volume(Stage1) Group', 'target')\n",
    "Dispense_volume1"
   ]
  },
  {
   "cell_type": "code",
   "execution_count": 18,
   "metadata": {},
   "outputs": [
    {
     "data": {
      "text/plain": [
       "Dispense Volume(Stage2) Collect Result_Dam\n",
       "0.34    10312\n",
       "0.58     4719\n",
       "0.27     3333\n",
       "0.73     2458\n",
       "0.56     2089\n",
       "0.72     1959\n",
       "0.74     1824\n",
       "0.57     1618\n",
       "0.46     1547\n",
       "0.53     1503\n",
       "0.92     1206\n",
       "0.71     1198\n",
       "0.35      998\n",
       "0.52      990\n",
       "0.93      803\n",
       "0.60      781\n",
       "0.59      762\n",
       "0.94      718\n",
       "0.33      513\n",
       "0.45      393\n",
       "0.37      275\n",
       "0.38      165\n",
       "0.26      109\n",
       "0.50       75\n",
       "0.55       54\n",
       "0.49       34\n",
       "0.28       27\n",
       "0.89       15\n",
       "0.90       12\n",
       "0.91       10\n",
       "0.40        3\n",
       "0.41        2\n",
       "0.48        1\n",
       "Name: count, dtype: int64"
      ]
     },
     "execution_count": 18,
     "metadata": {},
     "output_type": "execute_result"
    }
   ],
   "source": [
    "# Displaying the value counts for the \"Dispense Volume(Stage2) Collect Result_Dam\" variable\n",
    "value_counts_stage2 = train_data['Dispense Volume(Stage2) Collect Result_Dam'].value_counts()\n",
    "\n",
    "value_counts_stage2"
   ]
  },
  {
   "cell_type": "code",
   "execution_count": 19,
   "metadata": {},
   "outputs": [
    {
     "data": {
      "text/plain": [
       "Dispense Volume(Stage2) Group\n",
       "0.2~0.4    15732\n",
       "0.4~0.6    13790\n",
       "0.6~1.0    10984\n",
       "Name: count, dtype: int64"
      ]
     },
     "execution_count": 19,
     "metadata": {},
     "output_type": "execute_result"
    }
   ],
   "source": [
    "# Define the new bins for grouping the data\n",
    "bins = [0.2, 0.4, 0.6, 1.0]\n",
    "labels = ['0.2~0.4', '0.4~0.6', '0.6~1.0']\n",
    "\n",
    "# Bin the data with the new ranges\n",
    "train_data['Dispense Volume(Stage2) Group'] = pd.cut(train_data['Dispense Volume(Stage2) Collect Result_Dam'], bins=bins, labels=labels, right=False)\n",
    "\n",
    "# Get the count of each group\n",
    "grouped_counts = train_data['Dispense Volume(Stage2) Group'].value_counts()\n",
    "\n",
    "grouped_counts"
   ]
  },
  {
   "cell_type": "code",
   "execution_count": 20,
   "metadata": {},
   "outputs": [
    {
     "name": "stdout",
     "output_type": "stream",
     "text": [
      "\n",
      "Dispense Volume(Stage2) Group별 target 비율 및 갯수\n",
      "\n",
      "          AbNormal    Normal  AbNormal  Normal  Total\n",
      "variable                                             \n",
      "0.2~0.4   0.075515  0.924485      1188   14544  15732\n",
      "0.4~0.6   0.044380  0.955620       612   13178  13790\n",
      "0.6~1.0   0.050073  0.949927       550   10434  10984\n"
     ]
    },
    {
     "name": "stderr",
     "output_type": "stream",
     "text": [
      "C:\\Users\\KimDongyoung\\AppData\\Local\\Temp\\ipykernel_13536\\3660094726.py:13: FutureWarning: The default of observed=False is deprecated and will be changed to True in a future version of pandas. Pass observed=False to retain current behavior or observed=True to adopt the future default and silence this warning.\n",
      "  value_counts = df.groupby(col_name)[target_name].value_counts(normalize=True).unstack().fillna(0)\n",
      "C:\\Users\\KimDongyoung\\AppData\\Local\\Temp\\ipykernel_13536\\3660094726.py:16: FutureWarning: The default of observed=False is deprecated and will be changed to True in a future version of pandas. Pass observed=False to retain current behavior or observed=True to adopt the future default and silence this warning.\n",
      "  counts = df.groupby(col_name)[target_name].value_counts().unstack().fillna(0)\n"
     ]
    }
   ],
   "source": [
    "Dispense_volume2 = value_counts_ratio_count(train_data, 'Dispense Volume(Stage2) Group', 'target')\n",
    "Dispense_volume2"
   ]
  },
  {
   "cell_type": "code",
   "execution_count": 21,
   "metadata": {},
   "outputs": [
    {
     "data": {
      "text/plain": [
       "Dispense Volume(Stage3) Collect Result_Dam\n",
       "1.49    29212\n",
       "0.92     6694\n",
       "0.91     1704\n",
       "0.99      872\n",
       "1.00      514\n",
       "1.02      472\n",
       "0.95      319\n",
       "0.96      260\n",
       "1.61      239\n",
       "0.94      133\n",
       "1.03       51\n",
       "1.62       36\n",
       "Name: count, dtype: int64"
      ]
     },
     "execution_count": 21,
     "metadata": {},
     "output_type": "execute_result"
    }
   ],
   "source": [
    "# Displaying the value counts for the \"Dispense Volume(Stage3) Collect Result_Dam\" variable\n",
    "value_counts_stage3 = train_data['Dispense Volume(Stage3) Collect Result_Dam'].value_counts()\n",
    "\n",
    "# Display the results\n",
    "value_counts_stage3"
   ]
  },
  {
   "cell_type": "code",
   "execution_count": 22,
   "metadata": {},
   "outputs": [
    {
     "name": "stdout",
     "output_type": "stream",
     "text": [
      "\n",
      "Dispense Volume(Stage3) Collect Result_Dam별 target 비율 및 갯수\n",
      "\n",
      "          AbNormal    Normal  AbNormal   Normal  Total\n",
      "variable                                              \n",
      "0.91      0.041080  0.958920      70.0   1634.0   1704\n",
      "0.92      0.047655  0.952345     319.0   6375.0   6694\n",
      "0.94      0.007519  0.992481       1.0    132.0    133\n",
      "0.95      0.025078  0.974922       8.0    311.0    319\n",
      "0.96      0.053846  0.946154      14.0    246.0    260\n",
      "0.99      0.045872  0.954128      40.0    832.0    872\n",
      "1.00      0.046693  0.953307      24.0    490.0    514\n",
      "1.02      0.025424  0.974576      12.0    460.0    472\n",
      "1.03      0.000000  1.000000       0.0     51.0     51\n",
      "1.49      0.063467  0.936533    1854.0  27358.0  29212\n",
      "1.61      0.029289  0.970711       7.0    232.0    239\n",
      "1.62      0.027778  0.972222       1.0     35.0     36\n"
     ]
    }
   ],
   "source": [
    "Dispense_volume1 = value_counts_ratio_count(train_data, 'Dispense Volume(Stage3) Collect Result_Dam', 'target')"
   ]
  },
  {
   "cell_type": "markdown",
   "metadata": {},
   "source": [
    "HEAD NORMAL COORDINATE 변수 분석"
   ]
  },
  {
   "cell_type": "markdown",
   "metadata": {},
   "source": [
    "CURE position X와 head normal coordinate X와의 관계"
   ]
  },
  {
   "cell_type": "code",
   "execution_count": 23,
   "metadata": {},
   "outputs": [
    {
     "name": "stdout",
     "output_type": "stream",
     "text": [
      "Grouped by: CURE END POSITION X Collect Result_Dam, CURE START POSITION X Collect Result_Dam, HEAD NORMAL COORDINATE X AXIS(Stage1) Collect Result_Dam\n",
      "\n",
      "                 group  'AdNormal' count     ratio  Total\n",
      "0   (240, 1030, 548.5)                 4  0.153846     26\n",
      "1   (240, 1030, 548.9)                21  0.024911    843\n",
      "2   (240, 1030, 549.0)               647  0.088984   7271\n",
      "3   (240, 1030, 549.4)                15  0.033632    446\n",
      "4   (240, 1030, 549.5)               111  0.087886   1263\n",
      "5   (240, 1030, 550.0)               126  0.052544   2398\n",
      "6   (240, 1030, 550.3)               143  0.037861   3777\n",
      "7   (240, 1030, 550.4)               135  0.057447   2350\n",
      "8   (240, 1030, 550.5)                43  0.057564    747\n",
      "9   (240, 1030, 550.6)                67  0.038003   1763\n",
      "10  (240, 1030, 550.7)                 2  0.030303     66\n",
      "11  (240, 1030, 551.0)                 0  0.000000      1\n",
      "12  (240, 1030, 551.2)                 4  0.039604    101\n",
      "13  (240, 1030, 551.3)                 6  0.047244    127\n",
      "14  (240, 1030, 551.5)                65  0.045139   1440\n",
      "15  (240, 1030, 551.6)                 2  0.100000     20\n",
      "16  (240, 1030, 551.7)                46  0.047423    970\n",
      "17  (240, 1030, 551.8)                13  0.026263    495\n",
      "18  (240, 1030, 552.0)                15  0.033632    446\n",
      "19  (240, 1030, 552.1)                20  0.041667    480\n",
      "20  (1000, 280, 161.2)                25  0.030266    826\n",
      "21  (1000, 280, 161.7)                19  0.038855    489\n",
      "22  (1000, 280, 162.4)               369  0.052215   7067\n",
      "23  (1000, 280, 162.7)               134  0.054605   2454\n",
      "24  (1000, 280, 163.0)                 1  0.034483     29\n",
      "25  (1000, 280, 163.1)                 1  0.111111      9\n",
      "26  (1000, 280, 163.3)                16  0.065574    244\n",
      "27  (1000, 280, 163.4)                43  0.641791     67\n",
      "28  (1000, 280, 163.5)                19  0.033569    566\n",
      "29  (1000, 280, 163.6)                 0  0.000000     13\n",
      "30  (1000, 280, 163.7)                 4  0.105263     38\n",
      "31  (1000, 280, 163.8)                19  0.091346    208\n",
      "32  (1000, 280, 164.0)                15  0.069124    217\n",
      "33  (1000, 280, 164.1)                42  0.081553    515\n",
      "34  (1000, 280, 164.2)               133  0.056404   2358\n",
      "35  (1000, 280, 164.5)                25  0.066489    376\n"
     ]
    }
   ],
   "source": [
    "summary_df = summarize_grouped_data(train_data, ['CURE END POSITION X Collect Result_Dam',\n",
    "                                                 'CURE START POSITION X Collect Result_Dam'\n",
    "                                                 , 'HEAD NORMAL COORDINATE X AXIS(Stage1) Collect Result_Dam'\n",
    "                                                 ])"
   ]
  },
  {
   "cell_type": "markdown",
   "metadata": {},
   "source": [
    "Cure start position X가 1030이면 HEAD NORMAL COORDINATE X AXIS(Stage1)는 548.5~552.1 사이였고 280인 경우에는 161.2~164.5 사이였다."
   ]
  },
  {
   "cell_type": "code",
   "execution_count": 24,
   "metadata": {},
   "outputs": [
    {
     "data": {
      "text/plain": [
       "HEAD NORMAL COORDINATE X AXIS(Stage1)\n",
       "162~163        9521\n",
       "550~550.5      8525\n",
       "549~549.5      7717\n",
       "551.5~552.5    3851\n",
       "164~164.5      3090\n",
       "550.5~551      2576\n",
       "161~162        1315\n",
       "549.5~550      1263\n",
       "548~549         869\n",
       "163.5~164       825\n",
       "164.5~165       376\n",
       "163~163.5       349\n",
       "551~551.5       229\n",
       "165~548           0\n",
       "Name: count, dtype: int64"
      ]
     },
     "execution_count": 24,
     "metadata": {},
     "output_type": "execute_result"
    }
   ],
   "source": [
    "# Adjust the bins by removing the duplicate edge (163.5)\n",
    "bins = [161, 162, 163, 163.5, 164, 164.5, 165, 548, 549, 549.5, 550, 550.5, 551, 551.5, 552.5]\n",
    "labels = ['161~162', '162~163', '163~163.5', '163.5~164', '164~164.5', '164.5~165', '165~548', '548~549', '549~549.5', '549.5~550', '550~550.5', '550.5~551', '551~551.5', '551.5~552.5']\n",
    "\n",
    "# Bin the data with the adjusted ranges\n",
    "train_data['HEAD NORMAL COORDINATE X AXIS(Stage1)'] = pd.cut(train_data['HEAD NORMAL COORDINATE X AXIS(Stage1) Collect Result_Dam'], bins=bins, labels=labels, right=False)\n",
    "\n",
    "# Get the count of each group\n",
    "grouped_counts = train_data['HEAD NORMAL COORDINATE X AXIS(Stage1)'].value_counts()\n",
    "\n",
    "grouped_counts"
   ]
  },
  {
   "cell_type": "code",
   "execution_count": 25,
   "metadata": {},
   "outputs": [
    {
     "name": "stdout",
     "output_type": "stream",
     "text": [
      "\n",
      "HEAD NORMAL COORDINATE X AXIS(Stage1)별 target 비율 및 갯수\n",
      "\n",
      "             AbNormal    Normal  AbNormal  Normal  Total\n",
      "variable                                                \n",
      "161~162      0.033460  0.966540        44    1271   1315\n",
      "162~163      0.052831  0.947169       503    9018   9521\n",
      "163~163.5    0.174785  0.825215        61     288    349\n",
      "163.5~164    0.050909  0.949091        42     783    825\n",
      "164~164.5    0.061489  0.938511       190    2900   3090\n",
      "164.5~165    0.066489  0.933511        25     351    376\n",
      "165~548      0.000000  0.000000         0       0      0\n",
      "548~549      0.028769  0.971231        25     844    869\n",
      "549~549.5    0.085785  0.914215       662    7055   7717\n",
      "549.5~550    0.087886  0.912114       111    1152   1263\n",
      "550~550.5    0.047390  0.952610       404    8121   8525\n",
      "550.5~551    0.043478  0.956522       112    2464   2576\n",
      "551~551.5    0.043668  0.956332        10     219    229\n",
      "551.5~552.5  0.041807  0.958193       161    3690   3851\n"
     ]
    },
    {
     "name": "stderr",
     "output_type": "stream",
     "text": [
      "C:\\Users\\KimDongyoung\\AppData\\Local\\Temp\\ipykernel_13536\\3660094726.py:13: FutureWarning: The default of observed=False is deprecated and will be changed to True in a future version of pandas. Pass observed=False to retain current behavior or observed=True to adopt the future default and silence this warning.\n",
      "  value_counts = df.groupby(col_name)[target_name].value_counts(normalize=True).unstack().fillna(0)\n",
      "C:\\Users\\KimDongyoung\\AppData\\Local\\Temp\\ipykernel_13536\\3660094726.py:16: FutureWarning: The default of observed=False is deprecated and will be changed to True in a future version of pandas. Pass observed=False to retain current behavior or observed=True to adopt the future default and silence this warning.\n",
      "  counts = df.groupby(col_name)[target_name].value_counts().unstack().fillna(0)\n"
     ]
    }
   ],
   "source": [
    "HEAD_NORMAL_COORDINATE_X_AXIS_stage1 = value_counts_ratio_count(train_data, 'HEAD NORMAL COORDINATE X AXIS(Stage1)', 'target')\n"
   ]
  },
  {
   "cell_type": "markdown",
   "metadata": {},
   "source": [
    "HEAD COORDINATE Y와 CURE END POSITION Z간의 관계"
   ]
  },
  {
   "cell_type": "code",
   "execution_count": 26,
   "metadata": {},
   "outputs": [
    {
     "name": "stdout",
     "output_type": "stream",
     "text": [
      "\n",
      "HEAD NORMAL COORDINATE Y AXIS(Stage1) Collect Result_Dam별 CURE END POSITION Z Collect Result_Dam 비율 및 갯수\n",
      "\n",
      "          2.5  12.5      2.5     12.5  Total\n",
      "variable                                    \n",
      "377.3     1.0   0.0   4678.0      0.0   4678\n",
      "377.5     1.0   0.0   8560.0      0.0   8560\n",
      "377.6     1.0   0.0  10764.0      0.0  10764\n",
      "384.0     1.0   0.0   1028.0      0.0   1028\n",
      "1269.0    0.0   1.0      0.0   1779.0   1779\n",
      "1271.3    0.0   1.0      0.0   1056.0   1056\n",
      "1271.8    0.0   1.0      0.0  11210.0  11210\n",
      "1272.1    0.0   1.0      0.0    281.0    281\n",
      "1273.8    0.0   1.0      0.0     64.0     64\n",
      "1280.8    0.0   1.0      0.0     59.0     59\n",
      "1281.0    0.0   1.0      0.0    535.0    535\n",
      "1281.2    0.0   1.0      0.0    230.0    230\n",
      "1281.3    0.0   1.0      0.0     93.0     93\n",
      "1281.8    0.0   1.0      0.0    169.0    169\n"
     ]
    }
   ],
   "source": [
    "value_counts_ratio_count(train_data, 'HEAD NORMAL COORDINATE Y AXIS(Stage1) Collect Result_Dam', 'CURE END POSITION Z Collect Result_Dam')"
   ]
  },
  {
   "cell_type": "code",
   "execution_count": 27,
   "metadata": {},
   "outputs": [
    {
     "name": "stdout",
     "output_type": "stream",
     "text": [
      "\n",
      "HEAD NORMAL COORDINATE Y AXIS(Stage1) Collect Result_Dam별 target 비율 및 갯수\n",
      "\n",
      "          AbNormal    Normal  AbNormal   Normal  Total\n",
      "variable                                              \n",
      "377.3     0.046815  0.953185     219.0   4459.0   4678\n",
      "377.5     0.089019  0.910981     762.0   7798.0   8560\n",
      "377.6     0.041992  0.958008     452.0  10312.0  10764\n",
      "384.0     0.050584  0.949416      52.0    976.0   1028\n",
      "1269.0    0.088252  0.911748     157.0   1622.0   1779\n",
      "1271.3    0.050189  0.949811      53.0   1003.0   1056\n",
      "1271.8    0.048974  0.951026     549.0  10661.0  11210\n",
      "1272.1    0.032028  0.967972       9.0    272.0    281\n",
      "1273.8    0.671875  0.328125      43.0     21.0     64\n",
      "1280.8    0.000000  1.000000       0.0     59.0     59\n",
      "1281.0    0.037383  0.962617      20.0    515.0    535\n",
      "1281.2    0.069565  0.930435      16.0    214.0    230\n",
      "1281.3    0.086022  0.913978       8.0     85.0     93\n",
      "1281.8    0.059172  0.940828      10.0    159.0    169\n"
     ]
    }
   ],
   "source": [
    "Head_Normal_Coordinate_Y = value_counts_ratio_count(train_data, 'HEAD NORMAL COORDINATE Y AXIS(Stage1) Collect Result_Dam', 'target')"
   ]
  },
  {
   "cell_type": "markdown",
   "metadata": {},
   "source": [
    "HEAD COORDINATE Z 분석"
   ]
  },
  {
   "cell_type": "code",
   "execution_count": 28,
   "metadata": {},
   "outputs": [
    {
     "data": {
      "text/plain": [
       "HEAD NORMAL COORDINATE Z AXIS(Stage1) Collect Result_Dam\n",
       "282.150    13573\n",
       "284.800     7769\n",
       "274.330     2855\n",
       "274.510     2841\n",
       "282.500     1999\n",
       "282.343     1984\n",
       "282.361     1441\n",
       "280.894     1261\n",
       "281.095     1211\n",
       "274.200      847\n",
       "274.400      802\n",
       "284.600      793\n",
       "281.517      408\n",
       "281.430      408\n",
       "273.800      406\n",
       "281.413      399\n",
       "274.000      394\n",
       "274.780      381\n",
       "281.324      334\n",
       "281.226      148\n",
       "281.222      132\n",
       "281.300       55\n",
       "281.513       36\n",
       "281.424       29\n",
       "Name: count, dtype: int64"
      ]
     },
     "execution_count": 28,
     "metadata": {},
     "output_type": "execute_result"
    }
   ],
   "source": [
    "train_data['HEAD NORMAL COORDINATE Z AXIS(Stage1) Collect Result_Dam'].value_counts()"
   ]
  },
  {
   "cell_type": "code",
   "execution_count": 29,
   "metadata": {},
   "outputs": [
    {
     "name": "stdout",
     "output_type": "stream",
     "text": [
      "\n",
      "HEAD NORMAL COORDINATE Z AXIS(Stage1) Collect Result_Dam별 target 비율 및 갯수\n",
      "\n",
      "          AbNormal    Normal  AbNormal   Normal  Total\n",
      "variable                                              \n",
      "273.800   0.046798  0.953202      19.0    387.0    406\n",
      "274.000   0.063452  0.936548      25.0    369.0    394\n",
      "274.200   0.038961  0.961039      33.0    814.0    847\n",
      "274.330   0.055342  0.944658     158.0   2697.0   2855\n",
      "274.400   0.034913  0.965087      28.0    774.0    802\n",
      "274.510   0.043295  0.956705     123.0   2718.0   2841\n",
      "274.780   0.044619  0.955381      17.0    364.0    381\n",
      "280.894   0.052339  0.947661      66.0   1195.0   1261\n",
      "281.095   0.050372  0.949628      61.0   1150.0   1211\n",
      "281.222   0.106061  0.893939      14.0    118.0    132\n",
      "281.226   0.033784  0.966216       5.0    143.0    148\n",
      "281.300   0.036364  0.963636       2.0     53.0     55\n",
      "281.324   0.023952  0.976048       8.0    326.0    334\n",
      "281.413   0.020050  0.979950       8.0    391.0    399\n",
      "281.424   0.000000  1.000000       0.0     29.0     29\n",
      "281.430   0.036765  0.963235      15.0    393.0    408\n",
      "281.513   0.027778  0.972222       1.0     35.0     36\n",
      "281.517   0.029412  0.970588      12.0    396.0    408\n",
      "282.150   0.052162  0.947838     708.0  12865.0  13573\n",
      "282.343   0.061492  0.938508     122.0   1862.0   1984\n",
      "282.361   0.045802  0.954198      66.0   1375.0   1441\n",
      "282.500   0.048524  0.951476      97.0   1902.0   1999\n",
      "284.600   0.089533  0.910467      71.0    722.0    793\n",
      "284.800   0.088943  0.911057     691.0   7078.0   7769\n"
     ]
    }
   ],
   "source": [
    "Head_Normal_Coordinate_Z = value_counts_ratio_count(train_data, 'HEAD NORMAL COORDINATE Z AXIS(Stage1) Collect Result_Dam', 'target')"
   ]
  },
  {
   "cell_type": "code",
   "execution_count": 30,
   "metadata": {},
   "outputs": [
    {
     "data": {
      "text/plain": [
       "HEAD NORMAL COORDINATE Z AXIS(Stage1)\n",
       "282~283      18997\n",
       "283~285       8562\n",
       "274~274.5     4898\n",
       "274.5~281     4483\n",
       "281~282       3160\n",
       "273~274        406\n",
       "Name: count, dtype: int64"
      ]
     },
     "execution_count": 30,
     "metadata": {},
     "output_type": "execute_result"
    }
   ],
   "source": [
    "# Adjust the bins by removing the duplicate edge (163.5)\n",
    "bins = [273, 274, 274.5, 281, 282, 283, 285]\n",
    "labels = ['273~274', '274~274.5', '274.5~281', '281~282', '282~283', '283~285']\n",
    "\n",
    "# Bin the data with the adjusted ranges\n",
    "train_data['HEAD NORMAL COORDINATE Z AXIS(Stage1)'] = pd.cut(train_data['HEAD NORMAL COORDINATE Z AXIS(Stage1) Collect Result_Dam'], bins=bins, labels=labels, right=False)\n",
    "\n",
    "# Get the count of each group\n",
    "grouped_counts = train_data['HEAD NORMAL COORDINATE Z AXIS(Stage1)'].value_counts()\n",
    "\n",
    "grouped_counts"
   ]
  },
  {
   "cell_type": "code",
   "execution_count": 31,
   "metadata": {},
   "outputs": [
    {
     "name": "stdout",
     "output_type": "stream",
     "text": [
      "\n",
      "HEAD NORMAL COORDINATE Z AXIS(Stage1)별 target 비율 및 갯수\n",
      "\n",
      "           AbNormal    Normal  AbNormal  Normal  Total\n",
      "variable                                              \n",
      "273~274    0.046798  0.953202        19     387    406\n",
      "274~274.5  0.049816  0.950184       244    4654   4898\n",
      "274.5~281  0.045951  0.954049       206    4277   4483\n",
      "281~282    0.039873  0.960127       126    3034   3160\n",
      "282~283    0.052271  0.947729       993   18004  18997\n",
      "283~285    0.088998  0.911002       762    7800   8562\n"
     ]
    },
    {
     "name": "stderr",
     "output_type": "stream",
     "text": [
      "C:\\Users\\KimDongyoung\\AppData\\Local\\Temp\\ipykernel_13536\\3660094726.py:13: FutureWarning: The default of observed=False is deprecated and will be changed to True in a future version of pandas. Pass observed=False to retain current behavior or observed=True to adopt the future default and silence this warning.\n",
      "  value_counts = df.groupby(col_name)[target_name].value_counts(normalize=True).unstack().fillna(0)\n",
      "C:\\Users\\KimDongyoung\\AppData\\Local\\Temp\\ipykernel_13536\\3660094726.py:16: FutureWarning: The default of observed=False is deprecated and will be changed to True in a future version of pandas. Pass observed=False to retain current behavior or observed=True to adopt the future default and silence this warning.\n",
      "  counts = df.groupby(col_name)[target_name].value_counts().unstack().fillna(0)\n"
     ]
    }
   ],
   "source": [
    "Head_Normal_Coordinate_Z_ = value_counts_ratio_count(train_data, 'HEAD NORMAL COORDINATE Z AXIS(Stage1)', 'target')"
   ]
  },
  {
   "cell_type": "markdown",
   "metadata": {},
   "source": [
    "Thickness 변수"
   ]
  },
  {
   "cell_type": "markdown",
   "metadata": {},
   "source": [
    "Thickness 변수의 경우에는 1이 정해지면 2,3도 하나의 고유값을 가지기 때문에 변수 하나만 사용해도 될 듯"
   ]
  },
  {
   "cell_type": "code",
   "execution_count": 33,
   "metadata": {},
   "outputs": [
    {
     "name": "stdout",
     "output_type": "stream",
     "text": [
      "\n",
      "THICKNESS 1 Collect Result_Dam별 target 비율 및 갯수\n",
      "\n",
      "          AbNormal    Normal  AbNormal  Normal  Total\n",
      "variable                                             \n",
      "-0.054    0.041855  0.958145        37     847    884\n",
      "-0.019    0.044876  0.955124        74    1575   1649\n",
      "-0.015    0.074689  0.925311        72     892    964\n",
      " 0.000    0.059036  0.940964      2091   33328  35419\n",
      " 0.012    0.016000  0.984000         2     123    125\n",
      " 0.014    0.050483  0.949517        68    1279   1347\n",
      " 0.037    0.050847  0.949153         6     112    118\n"
     ]
    }
   ],
   "source": [
    "Thickness_1 = value_counts_ratio_count(train_data, 'THICKNESS 1 Collect Result_Dam', 'target')"
   ]
  },
  {
   "cell_type": "code",
   "execution_count": 34,
   "metadata": {},
   "outputs": [
    {
     "name": "stdout",
     "output_type": "stream",
     "text": [
      "\n",
      "THICKNESS 2 Collect Result_Dam별 target 비율 및 갯수\n",
      "\n",
      "          AbNormal    Normal  AbNormal  Normal  Total\n",
      "variable                                             \n",
      "-0.219    0.041855  0.958145        37     847    884\n",
      "-0.058    0.051796  0.948204        62    1135   1197\n",
      "-0.036    0.074689  0.925311        72     892    964\n",
      "-0.022    0.016000  0.984000         2     123    125\n",
      "-0.021    0.044876  0.955124        74    1575   1649\n",
      " 0.000    0.059036  0.940964      2091   33328  35419\n",
      " 0.005    0.050847  0.949153         6     112    118\n",
      " 0.007    0.040000  0.960000         6     144    150\n"
     ]
    }
   ],
   "source": [
    "Thickness_2 = value_counts_ratio_count(train_data, 'THICKNESS 2 Collect Result_Dam', 'target')"
   ]
  },
  {
   "cell_type": "code",
   "execution_count": 35,
   "metadata": {},
   "outputs": [],
   "source": [
    "train_data['Thickness_sum'] = train_data['THICKNESS 1 Collect Result_Dam'] + train_data['THICKNESS 2 Collect Result_Dam'] + train_data['THICKNESS 3 Collect Result_Dam']"
   ]
  },
  {
   "cell_type": "code",
   "execution_count": 36,
   "metadata": {},
   "outputs": [
    {
     "data": {
      "text/plain": [
       "Thickness_sum\n",
       " 0.000    35419\n",
       "-0.158     1649\n",
       "-0.032     1197\n",
       "-0.077      964\n",
       "-0.266      884\n",
       " 0.033      150\n",
       "-0.007      125\n",
       " 0.066      118\n",
       "Name: count, dtype: int64"
      ]
     },
     "execution_count": 36,
     "metadata": {},
     "output_type": "execute_result"
    }
   ],
   "source": [
    "train_data['Thickness_sum'].value_counts()"
   ]
  },
  {
   "cell_type": "code",
   "execution_count": 37,
   "metadata": {},
   "outputs": [
    {
     "name": "stdout",
     "output_type": "stream",
     "text": [
      "\n",
      "Thickness_sum별 target 비율 및 갯수\n",
      "\n",
      "          AbNormal    Normal  AbNormal  Normal  Total\n",
      "variable                                             \n",
      "-0.266    0.041855  0.958145        37     847    884\n",
      "-0.158    0.044876  0.955124        74    1575   1649\n",
      "-0.077    0.074689  0.925311        72     892    964\n",
      "-0.032    0.051796  0.948204        62    1135   1197\n",
      "-0.007    0.016000  0.984000         2     123    125\n",
      " 0.000    0.059036  0.940964      2091   33328  35419\n",
      " 0.033    0.040000  0.960000         6     144    150\n",
      " 0.066    0.050847  0.949153         6     112    118\n"
     ]
    }
   ],
   "source": [
    "Thickness_sum = value_counts_ratio_count(train_data, 'Thickness_sum', 'target')"
   ]
  },
  {
   "cell_type": "markdown",
   "metadata": {},
   "source": [
    "Cicle, Line 변수 분석"
   ]
  },
  {
   "cell_type": "code",
   "execution_count": 38,
   "metadata": {},
   "outputs": [
    {
     "data": {
      "text/html": [
       "<div>\n",
       "<style scoped>\n",
       "    .dataframe tbody tr th:only-of-type {\n",
       "        vertical-align: middle;\n",
       "    }\n",
       "\n",
       "    .dataframe tbody tr th {\n",
       "        vertical-align: top;\n",
       "    }\n",
       "\n",
       "    .dataframe thead th {\n",
       "        text-align: right;\n",
       "    }\n",
       "</style>\n",
       "<table border=\"1\" class=\"dataframe\">\n",
       "  <thead>\n",
       "    <tr style=\"text-align: right;\">\n",
       "      <th></th>\n",
       "      <th>Stage1 Circle Average</th>\n",
       "      <th>Stage1 Line Average</th>\n",
       "      <th>Stage2 Circle Average</th>\n",
       "      <th>Stage2 Line Average</th>\n",
       "      <th>Stage3 Circle Average</th>\n",
       "      <th>Stage3 Line Average</th>\n",
       "    </tr>\n",
       "  </thead>\n",
       "  <tbody>\n",
       "    <tr>\n",
       "      <th>0</th>\n",
       "      <td>5800.0</td>\n",
       "      <td>5750.0</td>\n",
       "      <td>5300.0</td>\n",
       "      <td>5300.0</td>\n",
       "      <td>5800.0</td>\n",
       "      <td>5800.0</td>\n",
       "    </tr>\n",
       "    <tr>\n",
       "      <th>1</th>\n",
       "      <td>4000.0</td>\n",
       "      <td>4000.0</td>\n",
       "      <td>9000.0</td>\n",
       "      <td>9000.0</td>\n",
       "      <td>4000.0</td>\n",
       "      <td>4000.0</td>\n",
       "    </tr>\n",
       "    <tr>\n",
       "      <th>2</th>\n",
       "      <td>5800.0</td>\n",
       "      <td>5800.0</td>\n",
       "      <td>5300.0</td>\n",
       "      <td>5300.0</td>\n",
       "      <td>5800.0</td>\n",
       "      <td>5800.0</td>\n",
       "    </tr>\n",
       "    <tr>\n",
       "      <th>3</th>\n",
       "      <td>4000.0</td>\n",
       "      <td>4000.0</td>\n",
       "      <td>5000.0</td>\n",
       "      <td>5000.0</td>\n",
       "      <td>4000.0</td>\n",
       "      <td>4000.0</td>\n",
       "    </tr>\n",
       "    <tr>\n",
       "      <th>4</th>\n",
       "      <td>9000.0</td>\n",
       "      <td>9000.0</td>\n",
       "      <td>9000.0</td>\n",
       "      <td>9000.0</td>\n",
       "      <td>9000.0</td>\n",
       "      <td>9000.0</td>\n",
       "    </tr>\n",
       "  </tbody>\n",
       "</table>\n",
       "</div>"
      ],
      "text/plain": [
       "   Stage1 Circle Average  Stage1 Line Average  Stage2 Circle Average  \\\n",
       "0                 5800.0               5750.0                 5300.0   \n",
       "1                 4000.0               4000.0                 9000.0   \n",
       "2                 5800.0               5800.0                 5300.0   \n",
       "3                 4000.0               4000.0                 5000.0   \n",
       "4                 9000.0               9000.0                 9000.0   \n",
       "\n",
       "   Stage2 Line Average  Stage3 Circle Average  Stage3 Line Average  \n",
       "0               5300.0                 5800.0               5800.0  \n",
       "1               9000.0                 4000.0               4000.0  \n",
       "2               5300.0                 5800.0               5800.0  \n",
       "3               5000.0                 4000.0               4000.0  \n",
       "4               9000.0                 9000.0               9000.0  "
      ]
     },
     "execution_count": 38,
     "metadata": {},
     "output_type": "execute_result"
    }
   ],
   "source": [
    "# Calculate the average values for Circle and Line in each stage separately\n",
    "train_data['Stage1 Circle Average'] = train_data[[col for col in train_data.columns if 'Stage1' in col and 'Circle' in col]].mean(axis=1)\n",
    "train_data['Stage1 Line Average'] = train_data[[col for col in train_data.columns if 'Stage1' in col and 'Line' in col]].mean(axis=1)\n",
    "\n",
    "train_data['Stage2 Circle Average'] = train_data[[col for col in train_data.columns if 'Stage2' in col and 'Circle' in col]].mean(axis=1)\n",
    "train_data['Stage2 Line Average'] = train_data[[col for col in train_data.columns if 'Stage2' in col and 'Line' in col]].mean(axis=1)\n",
    "\n",
    "train_data['Stage3 Circle Average'] = train_data[[col for col in train_data.columns if 'Stage3' in col and 'Circle' in col]].mean(axis=1)\n",
    "train_data['Stage3 Line Average'] = train_data[[col for col in train_data.columns if 'Stage3' in col and 'Line' in col]].mean(axis=1)\n",
    "\n",
    "# Display the first few rows to check the new derived variables\n",
    "train_data[['Stage1 Circle Average', 'Stage1 Line Average', 'Stage2 Circle Average', 'Stage2 Line Average', 'Stage3 Circle Average', 'Stage3 Line Average']].head()"
   ]
  },
  {
   "cell_type": "code",
   "execution_count": 40,
   "metadata": {},
   "outputs": [
    {
     "name": "stdout",
     "output_type": "stream",
     "text": [
      "Correlation Matrix:\n",
      "                       Stage1 Circle Average  Stage1 Line Average  \\\n",
      "Stage1 Circle Average               1.000000             0.999464   \n",
      "Stage1 Line Average                 0.999464             1.000000   \n",
      "Stage2 Circle Average               0.667348             0.667463   \n",
      "Stage2 Line Average                 0.663321             0.663359   \n",
      "Stage3 Circle Average               0.999912             0.999373   \n",
      "Stage3 Line Average                 0.999422             0.999860   \n",
      "\n",
      "                       Stage2 Circle Average  Stage2 Line Average  \\\n",
      "Stage1 Circle Average               0.667348             0.663321   \n",
      "Stage1 Line Average                 0.667463             0.663359   \n",
      "Stage2 Circle Average               1.000000             0.998491   \n",
      "Stage2 Line Average                 0.998491             1.000000   \n",
      "Stage3 Circle Average               0.667726             0.663689   \n",
      "Stage3 Line Average                 0.666274             0.662208   \n",
      "\n",
      "                       Stage3 Circle Average  Stage3 Line Average  \n",
      "Stage1 Circle Average               0.999912             0.999422  \n",
      "Stage1 Line Average                 0.999373             0.999860  \n",
      "Stage2 Circle Average               0.667726             0.666274  \n",
      "Stage2 Line Average                 0.663689             0.662208  \n",
      "Stage3 Circle Average               1.000000             0.999508  \n",
      "Stage3 Line Average                 0.999508             1.000000  \n"
     ]
    }
   ],
   "source": [
    "# Select the new average variables\n",
    "avg_variables = [\n",
    "    'Stage1 Circle Average',\n",
    "    'Stage1 Line Average',\n",
    "    'Stage2 Circle Average',\n",
    "    'Stage2 Line Average',\n",
    "    'Stage3 Circle Average',\n",
    "    'Stage3 Line Average'\n",
    "]\n",
    "\n",
    "# Compute the correlation matrix\n",
    "correlation_matrix = train_data[avg_variables].corr()\n",
    "\n",
    "# Display the correlation matrix\n",
    "print(\"Correlation Matrix:\")\n",
    "print(correlation_matrix)"
   ]
  },
  {
   "cell_type": "code",
   "execution_count": 43,
   "metadata": {},
   "outputs": [
    {
     "data": {
      "image/png": "[encoded data removed]",
      "text/plain": [
       "<Figure size 600x600 with 2 Axes>"
      ]
     },
     "metadata": {},
     "output_type": "display_data"
    }
   ],
   "source": [
    "import seaborn as sns\n",
    "\n",
    "# Set the size of the plot\n",
    "plt.figure(figsize=(6, 6))\n",
    "\n",
    "# Create a heatmap of the correlation matrix\n",
    "sns.heatmap(correlation_matrix, annot=True, cmap='coolwarm', fmt=\".2f\")\n",
    "\n",
    "# Set the title of the heatmap\n",
    "plt.title(\"Correlation Heatmap of Average Variables\")\n",
    "\n",
    "# Display the plot\n",
    "plt.show()"
   ]
  },
  {
   "cell_type": "markdown",
   "metadata": {},
   "source": [
    "Line, Circle 변수를 분석한 결과 변수들끼리 상관성이 매우 높은 것을 알 수 있다. 따라서 변수 몇 개를 빼도 될 것 같다."
   ]
  },
  {
   "cell_type": "code",
   "execution_count": null,
   "metadata": {},
   "outputs": [],
   "source": []
  }
 ],
 "metadata": {
  "kernelspec": {
   "display_name": "Python 3",
   "language": "python",
   "name": "python3"
  },
  "language_info": {
   "codemirror_mode": {
    "name": "ipython",
    "version": 3
   },
   "file_extension": ".py",
   "mimetype": "text/x-python",
   "name": "python",
   "nbconvert_exporter": "python",
   "pygments_lexer": "ipython3",
   "version": "3.12.0"
  }
 },
 "nbformat": 4,
 "nbformat_minor": 2
}

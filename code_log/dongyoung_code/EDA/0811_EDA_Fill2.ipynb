{
 "cells": [
  {
   "cell_type": "markdown",
   "metadata": {},
   "source": [
    "# 제품 이상여부 판별 프로젝트"
   ]
  },
  {
   "cell_type": "markdown",
   "metadata": {},
   "source": [
    "## 1. 데이터 불러오기"
   ]
  },
  {
   "cell_type": "markdown",
   "metadata": {},
   "source": [
    "### 필수 라이브러리"
   ]
  },
  {
   "cell_type": "code",
   "execution_count": 9,
   "metadata": {},
   "outputs": [],
   "source": [
    "import numpy as np\n",
    "import pandas as pd\n",
    "import matplotlib.pyplot as plt\n",
    "import seaborn as sns"
   ]
  },
  {
   "cell_type": "markdown",
   "metadata": {},
   "source": [
    "### 데이터 읽어오기"
   ]
  },
  {
   "cell_type": "code",
   "execution_count": 5,
   "metadata": {},
   "outputs": [],
   "source": [
    "RANDOM_STATE = 110\n",
    "\n",
    "train_data = pd.read_csv(\"C:/Users/KimDongyoung/Desktop/git_LGaimers5/Lg_aimers5/data/train_data.csv\")\n",
    "test_data = pd.read_csv(\"C:/Users/KimDongyoung/Desktop/git_LGaimers5/Lg_aimers5/data/test_data.csv\")"
   ]
  },
  {
   "cell_type": "code",
   "execution_count": 6,
   "metadata": {},
   "outputs": [],
   "source": [
    "def plot_box(dataframe, column_name):\n",
    "    \"\"\"\n",
    "    주어진 데이터프레임과 열 이름에 대해 박스 플롯을 그리는 함수.\n",
    "\n",
    "    Parameters:\n",
    "    dataframe (pd.DataFrame): 데이터프레임\n",
    "    column_name (str): 열 이름\n",
    "    \"\"\"\n",
    "    plt.figure(figsize=(10, 6))\n",
    "    plt.boxplot(dataframe[column_name], vert=False)\n",
    "    plt.xlabel(column_name)\n",
    "    plt.title(f'Box Plot of {column_name}')\n",
    "    plt.show()"
   ]
  },
  {
   "cell_type": "code",
   "execution_count": 7,
   "metadata": {},
   "outputs": [],
   "source": [
    "def value_counts_ratio_count(df, col_name, target_name):\n",
    "    \"\"\"\n",
    "    주어진 데이터프레임의 특정 열에 대해 각 값마다 타겟 변수의 비율과 갯수, 총 갯수를 출력하는 함수.\n",
    "\n",
    "    Parameters:\n",
    "    df (pd.DataFrame): 데이터프레임\n",
    "    col_name (str): 열 이름\n",
    "    target_name (str): 타겟 변수 이름\n",
    "    \"\"\"\n",
    "    # 각 값마다 타겟 변수의 비율 계산\n",
    "    value_counts = df.groupby(col_name)[target_name].value_counts(normalize=True).unstack().fillna(0)\n",
    "    \n",
    "    # 각 값마다 타겟 변수의 갯수 계산\n",
    "    counts = df.groupby(col_name)[target_name].value_counts().unstack().fillna(0)\n",
    "    \n",
    "    # 각 값마다 총 갯수 계산\n",
    "    total_counts = df[col_name].value_counts().rename('Total_Count')\n",
    "    \n",
    "    # 비율과 갯수를 합침\n",
    "    result = value_counts.join(counts, lsuffix='_ratio', rsuffix='_count')\n",
    "    \n",
    "    # 총 갯수를 합침\n",
    "    result = result.join(total_counts, on=col_name)\n",
    "    \n",
    "    # 출력 형식 조정\n",
    "    result.index.name = 'variable'\n",
    "    print(f\"\\n{col_name}별 {target_name} 비율 및 갯수\\n\")\n",
    "    print(result.rename(columns=lambda x: x.split('_')[0]))"
   ]
  },
  {
   "cell_type": "code",
   "execution_count": 8,
   "metadata": {},
   "outputs": [],
   "source": [
    "def summarize_grouped_data(df, group_by_columns):\n",
    "    # 데이터프레임을 그룹화\n",
    "    grouped_df = df.groupby(group_by_columns)\n",
    "    \n",
    "    # 결과를 저장할 리스트 초기화\n",
    "    results = []\n",
    "    \n",
    "    # 그룹화된 데이터프레임의 내용을 확인하는 코드\n",
    "    for name, group in grouped_df:\n",
    "        # 그룹의 갯수 계산\n",
    "        group_count = group.shape[0]\n",
    "        \n",
    "        # 'target' 변수의 'AdNormal' 비율과 갯수 계산\n",
    "        adnormal_count = group['target'].value_counts().get('AbNormal', 0)\n",
    "        adnormal_ratio = adnormal_count / group_count\n",
    "        \n",
    "        # 결과 리스트에 추가\n",
    "        results.append([name, adnormal_count, adnormal_ratio, group_count])\n",
    "    \n",
    "    # 결과 리스트를 데이터프레임으로 변환\n",
    "    results_df = pd.DataFrame(results, columns=['group', \"'AdNormal' count\", 'ratio', 'Total'])\n",
    "    \n",
    "    # 그룹화된 변수들의 이름을 제목행으로 출력\n",
    "    print(f\"Grouped by: {', '.join(group_by_columns)}\")\n",
    "    print()\n",
    "    # 데이터프레임 출력\n",
    "    print(results_df)\n",
    "    \n",
    "    return results_df"
   ]
  },
  {
   "cell_type": "code",
   "execution_count": 10,
   "metadata": {},
   "outputs": [],
   "source": [
    "def plot_abnormal_ratio(dataframe, column_name, target_name, target_value, bins=20):\n",
    "    \"\"\"\n",
    "    주어진 데이터프레임의 특정 열에 대해 각 값마다 타겟 변수의 특정 값 비율을 계산하고 막대그래프로 표시하는 함수.\n",
    "\n",
    "    Parameters:\n",
    "    dataframe (pd.DataFrame): 데이터프레임\n",
    "    column_name (str): 열 이름\n",
    "    target_name (str): 타겟 변수 이름\n",
    "    target_value (str): 타겟 변수의 특정 값\n",
    "    bins (int): 구간의 수 (기본값은 20)\n",
    "    \"\"\"\n",
    "    def abnormal_ratio(dataframe, column_name, target_name, target_value):\n",
    "        \"\"\"\n",
    "        주어진 데이터프레임의 특정 열에 대해 각 값마다 타겟 변수의 특정 값 비율을 계산하는 함수.\n",
    "\n",
    "        Parameters:\n",
    "        dataframe (pd.DataFrame): 데이터프레임\n",
    "        column_name (str): 열 이름\n",
    "        target_name (str): 타겟 변수 이름\n",
    "        target_value (str): 타겟 변수의 특정 값\n",
    "\n",
    "        Returns:\n",
    "        pd.DataFrame: 각 값마다 타겟 변수의 특정 값 비율을 포함하는 데이터프레임\n",
    "        \"\"\"\n",
    "        # 각 값마다 타겟 변수의 특정 값 비율 계산\n",
    "        value_counts = dataframe.groupby(column_name)[target_name].apply(lambda x: (x == target_value).mean()).reset_index()\n",
    "        count_counts = dataframe.groupby(column_name)[target_name].count().reset_index()\n",
    "        \n",
    "        value_counts.columns = [column_name, 'ratio']\n",
    "        count_counts.columns = [column_name, 'count']\n",
    "        \n",
    "        # 비율과 카운트를 병합\n",
    "        result = pd.merge(value_counts, count_counts, on=column_name)\n",
    "        return result\n",
    "\n",
    "    # column_name 값을 지정된 구간으로 나누기\n",
    "    dataframe[f'{column_name}_bins'] = pd.cut(dataframe[column_name], bins=bins)\n",
    "\n",
    "    # 비율 계산\n",
    "    ratios = abnormal_ratio(dataframe, f'{column_name}_bins', target_name, target_value)\n",
    "\n",
    "    # 막대그래프 그리기\n",
    "    plt.figure(figsize=(20, 10))\n",
    "    barplot = sns.barplot(x=f'{column_name}_bins', y='ratio', data=ratios, color='skyblue')\n",
    "    plt.xlabel(f'{column_name} (binned)')\n",
    "    plt.ylabel('AbNormal Ratio')\n",
    "    plt.title(f'AbNormal Ratio by {column_name} (binned)', pad=30)  # 제목과 그래프 사이의 간격 조정\n",
    "    plt.xticks(rotation=45)\n",
    "    plt.ylim(0, 1)\n",
    "\n",
    "    # 각 막대 위에 비율 값과 카운트 표시\n",
    "    for p in barplot.patches:\n",
    "        # 막대의 x 좌표에 해당하는 구간을 찾기\n",
    "        bin_label = ratios[f'{column_name}_bins'].cat.categories[int(p.get_x() + p.get_width() / 2) - 1]\n",
    "        count_value = ratios.loc[ratios[f'{column_name}_bins'] == bin_label, 'count'].values[0]\n",
    "        barplot.annotate(f'{format(p.get_height(), \".2f\")} ({count_value})', \n",
    "                         (p.get_x() + p.get_width() / 2., p.get_height()), \n",
    "                         ha='center', va='center', \n",
    "                         xytext=(0, 9), \n",
    "                         textcoords='offset points')\n",
    "\n",
    "    plt.show()\n",
    "\n",
    "    # _bins 변수 드랍\n",
    "    dataframe.drop(columns=[f'{column_name}_bins'], inplace=True)"
   ]
  },
  {
   "cell_type": "markdown",
   "metadata": {},
   "source": [
    "## Fill2"
   ]
  },
  {
   "cell_type": "code",
   "execution_count": 11,
   "metadata": {},
   "outputs": [
    {
     "name": "stdout",
     "output_type": "stream",
     "text": [
      "<Fill2 공정 관련 변수>\n",
      "CURE END POSITION X Collect Result_Fill2\n",
      "CURE END POSITION Z Collect Result_Fill2\n",
      "CURE SPEED Collect Result_Fill2\n",
      "CURE STANDBY POSITION Z Collect Result_Fill2\n",
      "CURE START POSITION X Collect Result_Fill2\n",
      "CURE START POSITION Z Collect Result_Fill2\n",
      "HEAD NORMAL COORDINATE X AXIS(Stage1) Collect Result_Fill2\n",
      "HEAD NORMAL COORDINATE X AXIS(Stage1) Judge Value_Fill2\n",
      "HEAD NORMAL COORDINATE X AXIS(Stage2) Collect Result_Fill2\n",
      "HEAD NORMAL COORDINATE X AXIS(Stage3) Collect Result_Fill2\n",
      "HEAD NORMAL COORDINATE Y AXIS(Stage1) Collect Result_Fill2\n",
      "HEAD NORMAL COORDINATE Y AXIS(Stage2) Collect Result_Fill2\n",
      "HEAD NORMAL COORDINATE Y AXIS(Stage3) Collect Result_Fill2\n",
      "HEAD NORMAL COORDINATE Z AXIS(Stage1) Collect Result_Fill2\n",
      "HEAD NORMAL COORDINATE Z AXIS(Stage2) Collect Result_Fill2\n",
      "HEAD NORMAL COORDINATE Z AXIS(Stage3) Collect Result_Fill2\n",
      "Head Purge Position Z Collect Result_Fill2\n",
      "Machine Tact time Collect Result_Fill2\n",
      "PalletID Collect Result_Fill2\n",
      "Production Qty Collect Result_Fill2\n",
      "Receip No Collect Result_Fill2\n",
      "WorkMode Collect Result_Fill2\n"
     ]
    }
   ],
   "source": [
    "# '_Fill2'를 포함하는 열 이름 필터링\n",
    "Process_Desc_col = train_data.filter(like='_Fill2').columns\n",
    "\n",
    "# 필터링된 열 이름 출력\n",
    "print(\"<Fill2 공정 관련 변수>\")\n",
    "for col in Process_Desc_col:\n",
    "    print(col)"
   ]
  },
  {
   "cell_type": "markdown",
   "metadata": {},
   "source": [
    "### Cure 관련 변수 처리"
   ]
  },
  {
   "cell_type": "code",
   "execution_count": 42,
   "metadata": {},
   "outputs": [],
   "source": [
    "train_data['Cure Position sub_X'] = train_data['CURE START POSITION X Collect Result_Fill2'] - train_data['CURE END POSITION X Collect Result_Fill2']\n",
    "train_data['Cure Position sub_Z'] = train_data['CURE START POSITION Z Collect Result_Fill2'] - train_data['CURE END POSITION Z Collect Result_Fill2']"
   ]
  },
  {
   "cell_type": "code",
   "execution_count": 43,
   "metadata": {},
   "outputs": [
    {
     "name": "stdout",
     "output_type": "stream",
     "text": [
      "\n",
      "Cure Position sub_X별 target 비율 및 갯수\n",
      "\n",
      "          AbNormal    Normal  AbNormal  Normal  Total\n",
      "variable                                             \n",
      "-780      0.060606  0.939394         8     124    132\n",
      " 780      0.058008  0.941992      2342   38032  40374\n"
     ]
    }
   ],
   "source": [
    "value_counts_ratio_count(train_data, 'Cure Position sub_X', 'target')"
   ]
  },
  {
   "cell_type": "code",
   "execution_count": 44,
   "metadata": {},
   "outputs": [
    {
     "name": "stdout",
     "output_type": "stream",
     "text": [
      "\n",
      "Cure Position sub_Z별 target 비율 및 갯수\n",
      "\n",
      "          AbNormal    Normal  AbNormal   Normal  Total\n",
      "variable                                              \n",
      "-10       0.088235  0.911765      51.0    527.0    578\n",
      "-1        0.054217  0.945783      54.0    942.0    996\n",
      " 0        0.055409  0.944591    1990.0  33925.0  35915\n",
      " 1        0.084549  0.915451     255.0   2761.0   3016\n",
      " 11       0.000000  1.000000       0.0      1.0      1\n"
     ]
    }
   ],
   "source": [
    "value_counts_ratio_count(train_data, 'Cure Position sub_Z', 'target')"
   ]
  },
  {
   "cell_type": "code",
   "execution_count": 45,
   "metadata": {},
   "outputs": [
    {
     "name": "stdout",
     "output_type": "stream",
     "text": [
      "Grouped by: CURE SPEED Collect Result_Fill2, Cure Position sub_X\n",
      "\n",
      "        group  'AdNormal' count     ratio  Total\n",
      "0   (40, 780)                 3  0.081081     37\n",
      "1   (45, 780)               161  0.069367   2321\n",
      "2  (48, -780)                 8  0.060606    132\n",
      "3   (48, 780)               114  0.045455   2508\n",
      "4   (50, 780)              2008  0.057914  34672\n",
      "5   (51, 780)                37  0.069811    530\n",
      "6   (53, 780)                 0  0.000000     36\n",
      "7   (55, 780)                19  0.070632    269\n",
      "8   (75, 780)                 0  0.000000      1\n"
     ]
    }
   ],
   "source": [
    "# 'CURE SPEED Collect Result_Fill2' 변수와 'Cure Position sub_X' 변수를 그룹화하여 함수 적용\n",
    "summary_df = summarize_grouped_data(train_data, ['CURE SPEED Collect Result_Fill2', 'Cure Position sub_X'])"
   ]
  },
  {
   "cell_type": "code",
   "execution_count": 46,
   "metadata": {},
   "outputs": [
    {
     "name": "stdout",
     "output_type": "stream",
     "text": [
      "Grouped by: CURE SPEED Collect Result_Fill2, Cure Position sub_Z\n",
      "\n",
      "        group  'AdNormal' count     ratio  Total\n",
      "0     (40, 0)                 3  0.081081     37\n",
      "1     (45, 0)               161  0.069367   2321\n",
      "2     (48, 0)               122  0.046212   2640\n",
      "3   (50, -10)                32  0.106312    301\n",
      "4    (50, -1)                54  0.054217    996\n",
      "5     (50, 0)              1667  0.054911  30358\n",
      "6     (50, 1)               255  0.084549   3016\n",
      "7    (50, 11)                 0  0.000000      1\n",
      "8   (51, -10)                19  0.068592    277\n",
      "9     (51, 0)                18  0.071146    253\n",
      "10    (53, 0)                 0  0.000000     36\n",
      "11    (55, 0)                19  0.070632    269\n",
      "12    (75, 0)                 0  0.000000      1\n"
     ]
    }
   ],
   "source": [
    "# 'CURE SPEED Collect Result_Fill2' 변수와 'Cure Position sub_Z' 변수를 그룹화하여 함수 적용\n",
    "summary_df = summarize_grouped_data(train_data, ['CURE SPEED Collect Result_Fill2', 'Cure Position sub_Z'])"
   ]
  },
  {
   "cell_type": "code",
   "execution_count": 13,
   "metadata": {},
   "outputs": [
    {
     "name": "stdout",
     "output_type": "stream",
     "text": [
      "\n",
      "CURE SPEED Collect Result_Fill2별 target 비율 및 갯수\n",
      "\n",
      "          AbNormal    Normal  AbNormal   Normal  Total\n",
      "variable                                              \n",
      "40        0.081081  0.918919       3.0     34.0     37\n",
      "45        0.069367  0.930633     161.0   2160.0   2321\n",
      "48        0.046212  0.953788     122.0   2518.0   2640\n",
      "50        0.057914  0.942086    2008.0  32664.0  34672\n",
      "51        0.069811  0.930189      37.0    493.0    530\n",
      "53        0.000000  1.000000       0.0     36.0     36\n",
      "55        0.070632  0.929368      19.0    250.0    269\n",
      "75        0.000000  1.000000       0.0      1.0      1\n"
     ]
    }
   ],
   "source": [
    "value_counts_ratio_count(train_data, 'CURE SPEED Collect Result_Fill2', 'target')"
   ]
  },
  {
   "cell_type": "code",
   "execution_count": 19,
   "metadata": {},
   "outputs": [
    {
     "name": "stdout",
     "output_type": "stream",
     "text": [
      "<CURE END POSITION와 _Fill2 공정 관련 변수>\n",
      "CURE START POSITION X Collect Result_Fill2\n",
      "CURE START POSITION Z Collect Result_Fill2\n"
     ]
    }
   ],
   "source": [
    "# 'Cure start position'와 '_Fill1'를 포함하는 열 이름 필터링\n",
    "Process_Desc_col = train_data.filter(like='_Fill2').columns\n",
    "filtered_columns = [col for col in Process_Desc_col if 'CURE START POSITION' in col]\n",
    "\n",
    "# 필터링된 열 이름 출력\n",
    "print(\"<CURE END POSITION와 _Fill2 공정 관련 변수>\")\n",
    "for col in filtered_columns:\n",
    "    print(col)"
   ]
  },
  {
   "cell_type": "code",
   "execution_count": 20,
   "metadata": {},
   "outputs": [
    {
     "name": "stdout",
     "output_type": "stream",
     "text": [
      "\n",
      "CURE START POSITION X Collect Result_Fill2별 target 비율 및 갯수\n",
      "\n",
      "          AbNormal    Normal  AbNormal  Normal  Total\n",
      "variable                                             \n",
      "240       0.060606  0.939394         8     124    132\n",
      "1020      0.058008  0.941992      2342   38032  40374\n"
     ]
    }
   ],
   "source": [
    "value_counts_ratio_count(train_data, 'CURE START POSITION X Collect Result_Fill2', 'target')"
   ]
  },
  {
   "cell_type": "code",
   "execution_count": 21,
   "metadata": {},
   "outputs": [
    {
     "name": "stdout",
     "output_type": "stream",
     "text": [
      "\n",
      "CURE START POSITION Z Collect Result_Fill2별 target 비율 및 갯수\n",
      "\n",
      "          AbNormal    Normal  AbNormal  Normal  Total\n",
      "variable                                             \n",
      "22        0.072495  0.927505        34     435    469\n",
      "23        0.107843  0.892157        22     182    204\n",
      "32        0.085866  0.914134       421    4482   4903\n",
      "33        0.053622  0.946378      1873   33057  34930\n"
     ]
    }
   ],
   "source": [
    "value_counts_ratio_count(train_data, 'CURE START POSITION Z Collect Result_Fill2', 'target')"
   ]
  },
  {
   "cell_type": "code",
   "execution_count": 22,
   "metadata": {},
   "outputs": [
    {
     "name": "stdout",
     "output_type": "stream",
     "text": [
      "\n",
      "CURE STANDBY POSITION Z Collect Result_Fill2별 target 비율 및 갯수\n",
      "\n",
      "          AbNormal    Normal  AbNormal  Normal  Total\n",
      "variable                                             \n",
      "22        0.072495  0.927505        34     435    469\n",
      "23        0.107843  0.892157        22     182    204\n",
      "32        0.085866  0.914134       421    4482   4903\n",
      "33        0.053622  0.946378      1873   33057  34930\n"
     ]
    }
   ],
   "source": [
    "value_counts_ratio_count(train_data, 'CURE STANDBY POSITION Z Collect Result_Fill2', 'target')"
   ]
  },
  {
   "cell_type": "code",
   "execution_count": 14,
   "metadata": {},
   "outputs": [
    {
     "name": "stdout",
     "output_type": "stream",
     "text": [
      "<CURE END POSITION와 _Fill2 공정 관련 변수>\n",
      "CURE END POSITION X Collect Result_Fill2\n",
      "CURE END POSITION Z Collect Result_Fill2\n"
     ]
    }
   ],
   "source": [
    "# 'Cure end position'와 '_Fill1'를 포함하는 열 이름 필터링\n",
    "Process_Desc_col = train_data.filter(like='_Fill2').columns\n",
    "filtered_columns = [col for col in Process_Desc_col if 'CURE END POSITION' in col]\n",
    "\n",
    "# 필터링된 열 이름 출력\n",
    "print(\"<CURE END POSITION와 _Fill2 공정 관련 변수>\")\n",
    "for col in filtered_columns:\n",
    "    print(col)"
   ]
  },
  {
   "cell_type": "code",
   "execution_count": 15,
   "metadata": {},
   "outputs": [
    {
     "name": "stdout",
     "output_type": "stream",
     "text": [
      "\n",
      "CURE END POSITION X Collect Result_Fill2별 target 비율 및 갯수\n",
      "\n",
      "          AbNormal    Normal  AbNormal  Normal  Total\n",
      "variable                                             \n",
      "240       0.058008  0.941992      2342   38032  40374\n",
      "1020      0.060606  0.939394         8     124    132\n"
     ]
    }
   ],
   "source": [
    "value_counts_ratio_count(train_data, 'CURE END POSITION X Collect Result_Fill2', 'target')"
   ]
  },
  {
   "cell_type": "code",
   "execution_count": 16,
   "metadata": {},
   "outputs": [
    {
     "name": "stdout",
     "output_type": "stream",
     "text": [
      "\n",
      "CURE END POSITION Z Collect Result_Fill2별 target 비율 및 갯수\n",
      "\n",
      "          AbNormal    Normal  AbNormal  Normal  Total\n",
      "variable                                             \n",
      "22        0.052083  0.947917         5      91     96\n",
      "32        0.089215  0.910785       651    6646   7297\n",
      "33        0.051158  0.948842      1694   31419  33113\n"
     ]
    }
   ],
   "source": [
    "value_counts_ratio_count(train_data, 'CURE END POSITION Z Collect Result_Fill2', 'target')"
   ]
  },
  {
   "cell_type": "code",
   "execution_count": 24,
   "metadata": {},
   "outputs": [
    {
     "name": "stdout",
     "output_type": "stream",
     "text": [
      "Grouped by: CURE SPEED Collect Result_Fill2, CURE START POSITION X Collect Result_Fill2\n",
      "\n",
      "        group  'AdNormal' count     ratio  Total\n",
      "0  (40, 1020)                 3  0.081081     37\n",
      "1  (45, 1020)               161  0.069367   2321\n",
      "2   (48, 240)                 8  0.060606    132\n",
      "3  (48, 1020)               114  0.045455   2508\n",
      "4  (50, 1020)              2008  0.057914  34672\n",
      "5  (51, 1020)                37  0.069811    530\n",
      "6  (53, 1020)                 0  0.000000     36\n",
      "7  (55, 1020)                19  0.070632    269\n",
      "8  (75, 1020)                 0  0.000000      1\n"
     ]
    }
   ],
   "source": [
    "# 'CURE SPEED Collect Result_Fill2' 변수와 'CURE START POSITION X Collect Result_Fill2' 변수를 그룹화하여 함수 적용\n",
    "summary_df = summarize_grouped_data(train_data, ['CURE SPEED Collect Result_Fill2', 'CURE START POSITION X Collect Result_Fill2'])"
   ]
  },
  {
   "cell_type": "code",
   "execution_count": 25,
   "metadata": {},
   "outputs": [
    {
     "name": "stdout",
     "output_type": "stream",
     "text": [
      "Grouped by: CURE SPEED Collect Result_Fill2, CURE START POSITION Z Collect Result_Fill2\n",
      "\n",
      "       group  'AdNormal' count     ratio  Total\n",
      "0   (40, 33)                 3  0.081081     37\n",
      "1   (45, 33)               161  0.069367   2321\n",
      "2   (48, 33)               122  0.046212   2640\n",
      "3   (50, 22)                15  0.078125    192\n",
      "4   (50, 23)                22  0.107843    204\n",
      "5   (50, 32)               384  0.087332   4397\n",
      "6   (50, 33)              1587  0.053114  29879\n",
      "7   (51, 22)                19  0.068592    277\n",
      "8   (51, 32)                18  0.071146    253\n",
      "9   (53, 33)                 0  0.000000     36\n",
      "10  (55, 32)                19  0.075099    253\n",
      "11  (55, 33)                 0  0.000000     16\n",
      "12  (75, 33)                 0  0.000000      1\n"
     ]
    }
   ],
   "source": [
    "# 'CURE SPEED Collect Result_Fill2' 변수와 'CURE START POSITION X Collect Result_Fill2' 변수를 그룹화하여 함수 적용\n",
    "summary_df = summarize_grouped_data(train_data, ['CURE SPEED Collect Result_Fill2', 'CURE START POSITION Z Collect Result_Fill2'])"
   ]
  },
  {
   "cell_type": "code",
   "execution_count": 26,
   "metadata": {},
   "outputs": [
    {
     "name": "stdout",
     "output_type": "stream",
     "text": [
      "Grouped by: CURE START POSITION X Collect Result_Fill2, CURE END POSITION X Collect Result_Fill2\n",
      "\n",
      "         group  'AdNormal' count     ratio  Total\n",
      "0  (240, 1020)                 8  0.060606    132\n",
      "1  (1020, 240)              2342  0.058008  40374\n"
     ]
    }
   ],
   "source": [
    "# 'CURE START POSITION X Collect Result_Fill2' 변수와 'CURE END POSITION X Collect Result_Fill2' 변수를 그룹화하여 함수 적용\n",
    "summary_df = summarize_grouped_data(train_data, ['CURE START POSITION X Collect Result_Fill2', 'CURE END POSITION X Collect Result_Fill2'])"
   ]
  },
  {
   "cell_type": "code",
   "execution_count": 27,
   "metadata": {},
   "outputs": [
    {
     "name": "stdout",
     "output_type": "stream",
     "text": [
      "Grouped by: CURE START POSITION Z Collect Result_Fill2, CURE END POSITION Z Collect Result_Fill2\n",
      "\n",
      "      group  'AdNormal' count     ratio  Total\n",
      "0  (22, 22)                 5  0.052632     95\n",
      "1  (22, 32)                29  0.077540    374\n",
      "2  (23, 33)                22  0.107843    204\n",
      "3  (32, 32)               367  0.093934   3907\n",
      "4  (32, 33)                54  0.054217    996\n",
      "5  (33, 22)                 0  0.000000      1\n",
      "6  (33, 32)               255  0.084549   3016\n",
      "7  (33, 33)              1618  0.050700  31913\n"
     ]
    }
   ],
   "source": [
    "# 'CURE START POSITION Z Collect Result_Fill2' 변수와 'CURE END POSITION Z Collect Result_Fill2' 변수를 그룹화하여 함수 적용\n",
    "summary_df = summarize_grouped_data(train_data, ['CURE START POSITION Z Collect Result_Fill2', 'CURE END POSITION Z Collect Result_Fill2'])"
   ]
  },
  {
   "cell_type": "markdown",
   "metadata": {},
   "source": [
    "### HEAD NORMAL COORDINATE 관련 변수 처리"
   ]
  },
  {
   "cell_type": "code",
   "execution_count": 28,
   "metadata": {},
   "outputs": [
    {
     "name": "stdout",
     "output_type": "stream",
     "text": [
      "<HEAD NORMAL COORDINATE와 _Fill2 공정 관련 변수>\n",
      "HEAD NORMAL COORDINATE X AXIS(Stage1) Collect Result_Fill2\n",
      "HEAD NORMAL COORDINATE X AXIS(Stage1) Judge Value_Fill2\n",
      "HEAD NORMAL COORDINATE X AXIS(Stage2) Collect Result_Fill2\n",
      "HEAD NORMAL COORDINATE X AXIS(Stage3) Collect Result_Fill2\n",
      "HEAD NORMAL COORDINATE Y AXIS(Stage1) Collect Result_Fill2\n",
      "HEAD NORMAL COORDINATE Y AXIS(Stage2) Collect Result_Fill2\n",
      "HEAD NORMAL COORDINATE Y AXIS(Stage3) Collect Result_Fill2\n",
      "HEAD NORMAL COORDINATE Z AXIS(Stage1) Collect Result_Fill2\n",
      "HEAD NORMAL COORDINATE Z AXIS(Stage2) Collect Result_Fill2\n",
      "HEAD NORMAL COORDINATE Z AXIS(Stage3) Collect Result_Fill2\n"
     ]
    }
   ],
   "source": [
    "# 'HEAD NORMAL COORDINATE'와 '_Fill2'를 포함하는 열 이름 필터링\n",
    "Process_Desc_col = train_data.filter(like='_Fill2').columns\n",
    "filtered_columns = [col for col in Process_Desc_col if 'HEAD NORMAL COORDINATE' in col]\n",
    "\n",
    "# 필터링된 열 이름 출력\n",
    "print(\"<HEAD NORMAL COORDINATE와 _Fill2 공정 관련 변수>\")\n",
    "for col in filtered_columns:\n",
    "    print(col)"
   ]
  },
  {
   "cell_type": "code",
   "execution_count": 32,
   "metadata": {},
   "outputs": [
    {
     "name": "stdout",
     "output_type": "stream",
     "text": [
      "\n",
      "HEAD_NORMAL_COORDINATE_X_AXIS_stage1_ok별 target 비율 및 갯수\n",
      "\n",
      "          AbNormal    Normal  AbNormal  Normal  Total\n",
      "variable                                             \n",
      "0         0.063465  0.936535      1854   27359  29213\n",
      "1         0.043921  0.956079       496   10797  11293\n"
     ]
    }
   ],
   "source": [
    "# OK 값이면 1, 결측 값이면 0을 부여\n",
    "train_data['HEAD_NORMAL_COORDINATE_X_AXIS_stage1_ok'] = train_data['HEAD NORMAL COORDINATE X AXIS(Stage1) Judge Value_Fill2'].apply(lambda x: 1 if x == 'OK' else 0)\n",
    "test_data['HEAD_NORMAL_COORDINATE_X_AXIS_stage1_ok'] = test_data['HEAD NORMAL COORDINATE X AXIS(Stage1) Judge Value_Fill2'].apply(lambda x: 1 if x == 'OK' else 0)\n",
    "\n",
    "# HEAD NORMAL COORDINATE X AXIS(Stage1) Judge Value_Fill2 변수 제거\n",
    "train_data.drop(columns=['HEAD NORMAL COORDINATE X AXIS(Stage1) Judge Value_Fill2'], inplace=True)\n",
    "test_data.drop(columns=['HEAD NORMAL COORDINATE X AXIS(Stage1) Judge Value_Fill2'], inplace=True)\n",
    "\n",
    "# 결과 확인\n",
    "value_counts_ratio_count(train_data, 'HEAD_NORMAL_COORDINATE_X_AXIS_stage1_ok', 'target')"
   ]
  },
  {
   "cell_type": "code",
   "execution_count": 33,
   "metadata": {},
   "outputs": [
    {
     "name": "stdout",
     "output_type": "stream",
     "text": [
      "\n",
      "<HEAD NORMAL COORDINATE와 _Fill1 공정 관련 변수 중 Stage1 포함 변수>\n",
      "HEAD NORMAL COORDINATE X AXIS(Stage1) Collect Result_Fill2\n",
      "HEAD NORMAL COORDINATE Y AXIS(Stage1) Collect Result_Fill2\n",
      "HEAD NORMAL COORDINATE Z AXIS(Stage1) Collect Result_Fill2\n"
     ]
    }
   ],
   "source": [
    "# 'HEAD NORMAL COORDINATE'와 '_Fill2'를 포함하는 열 이름 필터링\n",
    "Process_Desc_col = train_data.filter(like='_Fill2').columns\n",
    "filtered_columns = [col for col in Process_Desc_col if 'HEAD NORMAL COORDINATE' in col]\n",
    "\n",
    "# 'Stage1'을 포함하는 열 이름 추가 필터링\n",
    "stage1_columns = [col for col in filtered_columns if 'Stage1' in col]\n",
    "\n",
    "print(\"\\n<HEAD NORMAL COORDINATE와 _Fill1 공정 관련 변수 중 Stage1 포함 변수>\")\n",
    "for col in stage1_columns:\n",
    "    print(col)"
   ]
  },
  {
   "cell_type": "code",
   "execution_count": 34,
   "metadata": {},
   "outputs": [],
   "source": [
    "train_data = pd.read_csv(\"C:/Users/KimDongyoung/Desktop/git_LGaimers5/Lg_aimers5/data/trim_train_data.csv\")\n",
    "test_data = pd.read_csv(\"C:/Users/KimDongyoung/Desktop/git_LGaimers5/Lg_aimers5/data/trim_test_data.csv\")"
   ]
  },
  {
   "cell_type": "code",
   "execution_count": 35,
   "metadata": {},
   "outputs": [
    {
     "name": "stdout",
     "output_type": "stream",
     "text": [
      "Grouped by: Equipment_Fill2, HEAD NORMAL COORDINATE X AXIS(Stage1) Collect Result_Fill2, HEAD NORMAL COORDINATE Y AXIS(Stage1) Collect Result_Fill2, HEAD NORMAL COORDINATE Z AXIS(Stage1) Collect Result_Fill2\n",
      "\n",
      "                                        group  'AdNormal' count     ratio  \\\n",
      "0   (Fill2 dispenser #1, 835.5, 428.0, 243.7)              1481  0.059178   \n",
      "1  (Fill2 dispenser #2, 304.8, 1324.2, 243.5)                44  0.049107   \n",
      "2  (Fill2 dispenser #2, 305.0, 1324.2, 243.5)               825  0.056569   \n",
      "\n",
      "   Total  \n",
      "0  25026  \n",
      "1    896  \n",
      "2  14584  \n"
     ]
    }
   ],
   "source": [
    "summary_df = summarize_grouped_data(train_data, ['Equipment_Fill2','HEAD NORMAL COORDINATE X AXIS(Stage1) Collect Result_Fill2', 'HEAD NORMAL COORDINATE Y AXIS(Stage1) Collect Result_Fill2', 'HEAD NORMAL COORDINATE Z AXIS(Stage1) Collect Result_Fill2'])"
   ]
  },
  {
   "cell_type": "code",
   "execution_count": 36,
   "metadata": {},
   "outputs": [
    {
     "name": "stdout",
     "output_type": "stream",
     "text": [
      "Grouped by: Equipment_Fill2, HEAD NORMAL COORDINATE X AXIS(Stage2) Collect Result_Fill2, HEAD NORMAL COORDINATE Y AXIS(Stage2) Collect Result_Fill2, HEAD NORMAL COORDINATE Z AXIS(Stage2) Collect Result_Fill2\n",
      "\n",
      "                                        group  'AdNormal' count     ratio  \\\n",
      "0   (Fill2 dispenser #1, 458.0, 427.9, 243.7)              1481  0.059178   \n",
      "1  (Fill2 dispenser #2, 499.8, 1324.2, 243.5)               869  0.056137   \n",
      "\n",
      "   Total  \n",
      "0  25026  \n",
      "1  15480  \n"
     ]
    }
   ],
   "source": [
    "summary_df = summarize_grouped_data(train_data, ['Equipment_Fill2','HEAD NORMAL COORDINATE X AXIS(Stage2) Collect Result_Fill2', 'HEAD NORMAL COORDINATE Y AXIS(Stage2) Collect Result_Fill2', 'HEAD NORMAL COORDINATE Z AXIS(Stage2) Collect Result_Fill2'])"
   ]
  },
  {
   "cell_type": "code",
   "execution_count": 37,
   "metadata": {},
   "outputs": [
    {
     "name": "stdout",
     "output_type": "stream",
     "text": [
      "Grouped by: Equipment_Fill2, HEAD NORMAL COORDINATE X AXIS(Stage3) Collect Result_Fill2, HEAD NORMAL COORDINATE Y AXIS(Stage3) Collect Result_Fill2, HEAD NORMAL COORDINATE Z AXIS(Stage3) Collect Result_Fill2\n",
      "\n",
      "                                        group  'AdNormal' count     ratio  \\\n",
      "0   (Fill2 dispenser #1, 156.0, 428.0, 243.7)              1481  0.059178   \n",
      "1  (Fill2 dispenser #2, 692.8, 1324.2, 243.5)                44  0.049107   \n",
      "2  (Fill2 dispenser #2, 694.0, 1324.2, 243.5)               825  0.056569   \n",
      "\n",
      "   Total  \n",
      "0  25026  \n",
      "1    896  \n",
      "2  14584  \n"
     ]
    }
   ],
   "source": [
    "summary_df = summarize_grouped_data(train_data, ['Equipment_Fill2','HEAD NORMAL COORDINATE X AXIS(Stage3) Collect Result_Fill2', 'HEAD NORMAL COORDINATE Y AXIS(Stage3) Collect Result_Fill2', 'HEAD NORMAL COORDINATE Z AXIS(Stage3) Collect Result_Fill2'])"
   ]
  },
  {
   "cell_type": "markdown",
   "metadata": {},
   "source": [
    "## Purge 변수"
   ]
  },
  {
   "cell_type": "code",
   "execution_count": 38,
   "metadata": {},
   "outputs": [
    {
     "name": "stdout",
     "output_type": "stream",
     "text": [
      "\n",
      "Head Purge Position Z Collect Result_Fill2별 target 비율 및 갯수\n",
      "\n",
      "          AbNormal    Normal  AbNormal  Normal  Total\n",
      "variable                                             \n",
      "85.000    0.058709  0.941291      2083   33397  35480\n",
      "114.612   0.053124  0.946876       267    4759   5026\n"
     ]
    }
   ],
   "source": [
    "value_counts_ratio_count(train_data, 'Head Purge Position Z Collect Result_Fill2', 'target')"
   ]
  },
  {
   "cell_type": "code",
   "execution_count": null,
   "metadata": {},
   "outputs": [],
   "source": []
  }
 ],
 "metadata": {
  "kernelspec": {
   "display_name": "Python 3",
   "language": "python",
   "name": "python3"
  },
  "language_info": {
   "codemirror_mode": {
    "name": "ipython",
    "version": 3
   },
   "file_extension": ".py",
   "mimetype": "text/x-python",
   "name": "python",
   "nbconvert_exporter": "python",
   "pygments_lexer": "ipython3",
   "version": "3.12.0"
  }
 },
 "nbformat": 4,
 "nbformat_minor": 2
}

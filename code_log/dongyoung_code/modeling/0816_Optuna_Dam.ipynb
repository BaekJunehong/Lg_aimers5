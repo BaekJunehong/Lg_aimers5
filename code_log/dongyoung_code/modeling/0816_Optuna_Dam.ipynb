{
 "cells": [
  {
   "cell_type": "markdown",
   "id": "017e9265",
   "metadata": {},
   "source": [
    "# 제품 이상여부 판별 프로젝트\n"
   ]
  },
  {
   "cell_type": "markdown",
   "id": "acdab431",
   "metadata": {},
   "source": [
    "## 1. 데이터 불러오기\n"
   ]
  },
  {
   "cell_type": "markdown",
   "id": "2b8341e8",
   "metadata": {},
   "source": [
    "### 필수 라이브러리\n"
   ]
  },
  {
   "cell_type": "code",
   "execution_count": 2,
   "id": "a315cc58",
   "metadata": {},
   "outputs": [],
   "source": [
    "import os\n",
    "from pprint import pprint\n",
    "\n",
    "import optuna\n",
    "import numpy as np\n",
    "import pandas as pd\n",
    "import seaborn as sns\n",
    "import matplotlib.pyplot as plt\n",
    "\n",
    "from sklearn.tree import DecisionTreeClassifier\n",
    "from lightgbm import LGBMClassifier\n",
    "from sklearn.ensemble import RandomForestClassifier\n",
    "from xgboost import XGBClassifier\n",
    "from catboost import CatBoostClassifier\n",
    "from sklearn.ensemble import AdaBoostClassifier\n",
    "\n",
    "from sklearn.metrics import (\n",
    "    accuracy_score,\n",
    "    classification_report,\n",
    "    confusion_matrix,\n",
    "    f1_score,\n",
    "    precision_score,\n",
    "    recall_score,\n",
    ")\n",
    "from sklearn.model_selection import train_test_split\n",
    "from tqdm import tqdm"
   ]
  },
  {
   "cell_type": "markdown",
   "id": "4d054e30",
   "metadata": {},
   "source": [
    "### 데이터 읽어오기\n"
   ]
  },
  {
   "cell_type": "code",
   "execution_count": 3,
   "id": "fc0b4d80",
   "metadata": {},
   "outputs": [],
   "source": [
    "RANDOM_STATE = 110\n",
    "\n",
    "train_data = pd.read_csv(\"C:/Users/KimDongyoung/Desktop/git_LGaimers5/Lg_aimers5/data/train_data.csv\")\n",
    "test_data = pd.read_csv(\"C:/Users/KimDongyoung/Desktop/git_LGaimers5/Lg_aimers5/data/test_data.csv\")"
   ]
  },
  {
   "cell_type": "markdown",
   "id": "cd0a6bbc",
   "metadata": {},
   "source": [
    "기본 전처리 할것들"
   ]
  },
  {
   "cell_type": "code",
   "execution_count": 4,
   "id": "e1367da7",
   "metadata": {},
   "outputs": [],
   "source": [
    "# 'Workorder_AutoClave' 열에서 '-' 다음 숫자 값 추출 및 '000' 제거\n",
    "train_data['Workorder'] = train_data['Workorder'].str.replace(r'-(\\d+)', lambda x: '-' + x.group(1).lstrip('0'), regex=True)\n",
    "test_data['Workorder'] = test_data['Workorder'].str.replace(r'-(\\d+)', lambda x: '-' + x.group(1).lstrip('0'), regex=True)"
   ]
  },
  {
   "cell_type": "code",
   "execution_count": 5,
   "id": "735040a0",
   "metadata": {},
   "outputs": [],
   "source": [
    "# Dispenser_num 값에 따라 새로운 변수 생성\n",
    "train_data['Dispenser_1'] = train_data['Dispenser_num'].apply(lambda x: 1 if x == '#1' else 0)\n",
    "train_data['Dispenser_2'] = train_data['Dispenser_num'].apply(lambda x: 1 if x == '#2' else 0)\n",
    "\n",
    "test_data['Dispenser_1'] = test_data['Dispenser_num'].apply(lambda x: 1 if x == '#1' else 0)\n",
    "test_data['Dispenser_2'] = test_data['Dispenser_num'].apply(lambda x: 1 if x == '#2' else 0)\n",
    "\n",
    "# 불필요한 변수 제거\n",
    "train_data.drop(['Dispenser_num'], axis=1, inplace=True)\n",
    "test_data.drop(['Dispenser_num'], axis=1, inplace=True)"
   ]
  },
  {
   "cell_type": "code",
   "execution_count": 6,
   "id": "262866c0",
   "metadata": {},
   "outputs": [],
   "source": [
    "# WorkMode Collect Result_Dam의 이름을 WorkMode Collect Result로 변경\n",
    "train_data = train_data.rename(columns={'WorkMode Collect Result_Dam': 'WorkMode Collect Result'})\n",
    "test_data = test_data.rename(columns={'WorkMode Collect Result_Dam': 'WorkMode Collect Result'})\n",
    "\n",
    "# WorkMode Collect Result_Fill1, WorkMode Collect Result_Fill2 열 드롭\n",
    "train_data = train_data.drop(columns=['WorkMode Collect Result_Fill1', 'WorkMode Collect Result_Fill2'])\n",
    "test_data = test_data.drop(columns=['WorkMode Collect Result_Fill1', 'WorkMode Collect Result_Fill2'])"
   ]
  },
  {
   "cell_type": "code",
   "execution_count": 7,
   "id": "6e2e5c57",
   "metadata": {},
   "outputs": [],
   "source": [
    "# WorkMode Collect Result 열의 값이 7인 행을 1로 변경\n",
    "train_data['WorkMode Collect Result'] = train_data['WorkMode Collect Result'].replace(7, 1)\n",
    "test_data['WorkMode Collect Result'] = test_data['WorkMode Collect Result'].replace(7, 1)\n",
    "\n",
    "# WorkMode Collect Result 열의 결측값을 0으로 채움\n",
    "train_data['WorkMode Collect Result'] = train_data['WorkMode Collect Result'].fillna(0)\n",
    "test_data['WorkMode Collect Result'] = test_data['WorkMode Collect Result'].fillna(0)"
   ]
  },
  {
   "cell_type": "code",
   "execution_count": 8,
   "id": "38ab6e89",
   "metadata": {},
   "outputs": [],
   "source": [
    "# 세 변수의 값이 동일하면 해당 값을 가져가고, 하나라도 일치하지 않으면 0의 값을 가지는 파생 변수 생성 함수\n",
    "def create_receip_no_collect_result(df):\n",
    "    df['Receip_No_Collect_Result'] = df.apply(\n",
    "        lambda row: row['Receip No Collect Result_Dam'] \n",
    "                    if (row['Receip No Collect Result_Dam'] == row['Receip No Collect Result_Fill1'] == row['Receip No Collect Result_Fill2']) \n",
    "                    else 0, \n",
    "        axis=1\n",
    "    )\n",
    "\n",
    "# 함수 적용\n",
    "create_receip_no_collect_result(train_data)\n",
    "create_receip_no_collect_result(test_data)"
   ]
  },
  {
   "cell_type": "code",
   "execution_count": 9,
   "id": "d60cd31e",
   "metadata": {},
   "outputs": [],
   "source": [
    "# 제거할 변수 목록\n",
    "columns_to_drop = [\n",
    "    'Receip No Collect Result_Dam',\n",
    "    'Receip No Collect Result_Fill1',\n",
    "    'Receip No Collect Result_Fill2'\n",
    "]\n",
    "\n",
    "# 변수 제거\n",
    "train_data.drop(columns=columns_to_drop, inplace=True)\n",
    "test_data.drop(columns=columns_to_drop, inplace=True)"
   ]
  },
  {
   "cell_type": "code",
   "execution_count": 10,
   "id": "66f9a1d2",
   "metadata": {},
   "outputs": [],
   "source": [
    "# 세 변수의 값이 동일하면 해당 값을 가져가고, 하나라도 일치하지 않으면 0의 값을 가지는 파생 변수 생성 함수\n",
    "def create_palletid_collect_result(df):\n",
    "    df['PalletID_Collect_Result'] = df.apply(\n",
    "        lambda row: row['PalletID Collect Result_Dam'] \n",
    "                    if (row['PalletID Collect Result_Dam'] == row['PalletID Collect Result_Fill1'] == row['PalletID Collect Result_Fill2']) \n",
    "                    else 0, \n",
    "        axis=1\n",
    "    )\n",
    "\n",
    "# 함수 적용\n",
    "create_palletid_collect_result(train_data)\n",
    "create_palletid_collect_result(test_data)"
   ]
  },
  {
   "cell_type": "code",
   "execution_count": 11,
   "id": "f4f7c505",
   "metadata": {},
   "outputs": [],
   "source": [
    "# 제거할 변수 목록\n",
    "columns_to_drop = [\n",
    "    'PalletID Collect Result_Dam',\n",
    "    'PalletID Collect Result_Fill1',\n",
    "    'PalletID Collect Result_Fill2'\n",
    "]\n",
    "\n",
    "# 변수 제거\n",
    "train_data.drop(columns=columns_to_drop, inplace=True)\n",
    "test_data.drop(columns=columns_to_drop, inplace=True)"
   ]
  },
  {
   "cell_type": "code",
   "execution_count": 12,
   "id": "e14c7fa6",
   "metadata": {},
   "outputs": [],
   "source": [
    "# 세 변수의 값이 동일하면 해당 값을 가져가고, 하나라도 일치하지 않으면 0의 값을 가지는 파생 변수 생성 함수\n",
    "def create_palletid_collect_result(df):\n",
    "    df['Production_Qty_Collect_Result'] = df.apply(\n",
    "        lambda row: row['Production Qty Collect Result_Dam'] \n",
    "                    if (row['Production Qty Collect Result_Dam'] == row['Production Qty Collect Result_Fill1'] == row['Production Qty Collect Result_Fill2']) \n",
    "                    else 0, \n",
    "        axis=1\n",
    "    )\n",
    "\n",
    "# 함수 적용\n",
    "create_palletid_collect_result(train_data)\n",
    "create_palletid_collect_result(test_data)"
   ]
  },
  {
   "cell_type": "code",
   "execution_count": 13,
   "id": "b8fdec05",
   "metadata": {},
   "outputs": [],
   "source": [
    "# 제거할 변수 목록\n",
    "columns_to_drop = [\n",
    "    'Production Qty Collect Result_Dam',\n",
    "    'Production Qty Collect Result_Fill1',\n",
    "    'Production Qty Collect Result_Fill2'\n",
    "]\n",
    "\n",
    "# 변수 제거\n",
    "train_data.drop(columns=columns_to_drop, inplace=True)\n",
    "test_data.drop(columns=columns_to_drop, inplace=True)"
   ]
  },
  {
   "cell_type": "code",
   "execution_count": 14,
   "id": "a22797c8",
   "metadata": {},
   "outputs": [],
   "source": [
    "# \"Chamber Temp. Judge Value_AutoClave\" 변수의 값을 기준으로 파생 변수 생성 함수\n",
    "def create_judge_value_binary(df):\n",
    "    df['Chamber_Temp_OKNG_AutoClave'] = df['Chamber Temp. Judge Value_AutoClave'].apply(\n",
    "        lambda x: 1 if x == 'OK' else 0\n",
    "    )\n",
    "\n",
    "# 함수 적용\n",
    "create_judge_value_binary(train_data)\n",
    "create_judge_value_binary(test_data)"
   ]
  },
  {
   "cell_type": "code",
   "execution_count": 15,
   "id": "dd9ccf46",
   "metadata": {},
   "outputs": [
    {
     "name": "stdout",
     "output_type": "stream",
     "text": [
      "\n",
      " Judge Value 포함 변수>\n",
      "HEAD NORMAL COORDINATE X AXIS(Stage1) Judge Value_Dam\n",
      "Chamber Temp. Judge Value_AutoClave\n",
      "GMES_ORIGIN_INSP_JUDGE_CODE Judge Value_AutoClave\n",
      "HEAD NORMAL COORDINATE X AXIS(Stage1) Judge Value_Fill1\n",
      "HEAD NORMAL COORDINATE X AXIS(Stage1) Judge Value_Fill2\n"
     ]
    }
   ],
   "source": [
    "# 'Judge Value'를 포함하는 열 이름 필터링\n",
    "Process_Desc_col = train_data.filter(like='Judge Value').columns\n",
    "\n",
    "print(\"\\n Judge Value 포함 변수>\")\n",
    "for col in Process_Desc_col:\n",
    "    print(col)"
   ]
  },
  {
   "cell_type": "code",
   "execution_count": 16,
   "id": "efa52eee",
   "metadata": {},
   "outputs": [],
   "source": [
    "# 5개의 변수 목록\n",
    "judge_value_columns = [\n",
    "    'HEAD NORMAL COORDINATE X AXIS(Stage1) Judge Value_Dam'\n",
    "    , 'GMES_ORIGIN_INSP_JUDGE_CODE Judge Value_AutoClave'\n",
    "    , 'HEAD NORMAL COORDINATE X AXIS(Stage1) Judge Value_Fill1'\n",
    "    , 'HEAD NORMAL COORDINATE X AXIS(Stage1) Judge Value_Fill2'\n",
    "    , 'GMES_ORIGIN_INSP_JUDGE_CODE Collect Result_AutoClave'\n",
    "]\n",
    "\n",
    "# 파생 변수 생성 함수\n",
    "def create_judge_value_feature(df):\n",
    "    df['Judge_Value_OK'] = df[judge_value_columns].apply(\n",
    "        lambda row: 1 if any(row == 'OK') else 0, \n",
    "        axis=1\n",
    "    )\n",
    "\n",
    "# 함수 적용\n",
    "create_judge_value_feature(train_data)\n",
    "create_judge_value_feature(test_data)"
   ]
  },
  {
   "cell_type": "code",
   "execution_count": 17,
   "id": "ebe087f0",
   "metadata": {},
   "outputs": [],
   "source": [
    "# 제거할 변수 목록\n",
    "columns_to_drop = [\n",
    "    'Chamber Temp. Judge Value_AutoClave'\n",
    "    , 'HEAD NORMAL COORDINATE X AXIS(Stage1) Judge Value_Dam'\n",
    "    , 'GMES_ORIGIN_INSP_JUDGE_CODE Judge Value_AutoClave'\n",
    "    , 'HEAD NORMAL COORDINATE X AXIS(Stage1) Judge Value_Fill1'\n",
    "    , 'HEAD NORMAL COORDINATE X AXIS(Stage1) Judge Value_Fill2'\n",
    "    , 'GMES_ORIGIN_INSP_JUDGE_CODE Collect Result_AutoClave'\n",
    "]\n",
    "\n",
    "# 변수 제거\n",
    "train_data.drop(columns=columns_to_drop, inplace=True)\n",
    "test_data.drop(columns=columns_to_drop, inplace=True)"
   ]
  },
  {
   "cell_type": "code",
   "execution_count": 18,
   "id": "4fb1e7ae",
   "metadata": {},
   "outputs": [],
   "source": [
    "# 변수명 변경\n",
    "train_data = train_data.rename(columns={'1st Pressure 1st Pressure Unit Time_AutoClave': '1st Pressure Unit Time_AutoClave'})\n",
    "test_data = test_data.rename(columns={'1st Pressure 1st Pressure Unit Time_AutoClave': '1st Pressure Unit Time_AutoClave'})"
   ]
  },
  {
   "cell_type": "code",
   "execution_count": 19,
   "id": "6cdd01e2",
   "metadata": {},
   "outputs": [
    {
     "name": "stdout",
     "output_type": "stream",
     "text": [
      "<class 'pandas.core.frame.DataFrame'>\n",
      "RangeIndex: 40506 entries, 0 to 40505\n",
      "Columns: 108 entries, Model.Suffix to Judge_Value_OK\n",
      "dtypes: float64(56), int64(49), object(3)\n",
      "memory usage: 33.4+ MB\n"
     ]
    }
   ],
   "source": [
    "train_data.info()"
   ]
  },
  {
   "cell_type": "code",
   "execution_count": 20,
   "id": "5c4b1899",
   "metadata": {},
   "outputs": [
    {
     "name": "stdout",
     "output_type": "stream",
     "text": [
      "<class 'pandas.core.frame.DataFrame'>\n",
      "RangeIndex: 17361 entries, 0 to 17360\n",
      "Columns: 109 entries, Set ID to Judge_Value_OK\n",
      "dtypes: float64(86), int64(20), object(3)\n",
      "memory usage: 14.4+ MB\n"
     ]
    }
   ],
   "source": [
    "test_data.info()"
   ]
  },
  {
   "cell_type": "markdown",
   "id": "e23d3595",
   "metadata": {},
   "source": [
    "---"
   ]
  },
  {
   "cell_type": "markdown",
   "id": "b54df9c3",
   "metadata": {},
   "source": [
    "반복적으로 쓰는 툴 함수화"
   ]
  },
  {
   "cell_type": "code",
   "execution_count": 21,
   "id": "09d2efa7",
   "metadata": {},
   "outputs": [],
   "source": [
    "def plot_box(df, col_name):\n",
    "    \"\"\"\n",
    "    주어진 데이터프레임과 열 이름에 대해 박스 플롯을 그리는 함수.\n",
    "\n",
    "    Parameters:\n",
    "    dataframe (pd.DataFrame): 데이터프레임\n",
    "    column_name (str): 열 이름\n",
    "    \"\"\"\n",
    "    plt.figure(figsize=(7, 4))\n",
    "    plt.boxplot(df[col_name], vert=False)\n",
    "    plt.xlabel(col_name)\n",
    "    plt.title(f'Box Plot of {col_name}')\n",
    "    plt.show()"
   ]
  },
  {
   "cell_type": "code",
   "execution_count": 22,
   "id": "7515da51",
   "metadata": {},
   "outputs": [],
   "source": [
    "def value_counts_ratio(df, col_name, target_name='target'):\n",
    "    \"\"\"\n",
    "    주어진 데이터프레임의 특정 열에 대해 각 값마다 타겟 변수의 비율과 갯수, 총 갯수를 출력하는 함수.\n",
    "\n",
    "    Parameters:\n",
    "    df (pd.DataFrame): 데이터프레임\n",
    "    col_name (str): 열 이름\n",
    "    target_name (str): 타겟 변수 이름\n",
    "    \"\"\"\n",
    "    # 각 값마다 타겟 변수의 비율 계산\n",
    "    value_counts = df.groupby(col_name)[target_name].value_counts(normalize=True).unstack().fillna(0)\n",
    "    \n",
    "    # 각 값마다 타겟 변수의 갯수 계산\n",
    "    counts = df.groupby(col_name)[target_name].value_counts().unstack().fillna(0)\n",
    "    \n",
    "    # 각 값마다 총 갯수 계산\n",
    "    total_counts = df[col_name].value_counts().rename('Total_Count')\n",
    "    \n",
    "    # 비율과 갯수를 합침\n",
    "    result = value_counts.join(counts, lsuffix='_ratio', rsuffix='_count')\n",
    "    \n",
    "    # 총 갯수를 합침\n",
    "    result = result.join(total_counts, on=col_name)\n",
    "    \n",
    "    # 출력 형식 조정\n",
    "    result.index.name = 'variable'\n",
    "    print(f\"\\n{col_name}별 {target_name} 비율 및 갯수\\n\")\n",
    "    print(result.rename(columns=lambda x: x.split('_')[0]))"
   ]
  },
  {
   "cell_type": "code",
   "execution_count": 23,
   "id": "9eed238d",
   "metadata": {},
   "outputs": [],
   "source": [
    "def summarize_group(df, group_by_columns):\n",
    "    # 데이터프레임을 그룹화\n",
    "    grouped_df = df.groupby(group_by_columns)\n",
    "    \n",
    "    # 결과를 저장할 리스트 초기화\n",
    "    results = []\n",
    "    \n",
    "    # 그룹화된 데이터프레임의 내용을 확인하는 코드\n",
    "    for name, group in grouped_df:\n",
    "        # 그룹의 갯수 계산\n",
    "        group_count = group.shape[0]\n",
    "        \n",
    "        # 'target' 변수의 'AdNormal' 비율과 갯수 계산\n",
    "        adnormal_count = group['target'].value_counts().get('AbNormal', 0)\n",
    "        adnormal_ratio = adnormal_count / group_count\n",
    "        \n",
    "        # 결과 리스트에 추가\n",
    "        results.append([name, adnormal_count, adnormal_ratio, group_count])\n",
    "    \n",
    "    # 결과 리스트를 데이터프레임으로 변환\n",
    "    results_df = pd.DataFrame(results, columns=['group', \"'AdNormal' count\", 'ratio', 'Total'])\n",
    "    \n",
    "    # 그룹화된 변수들의 이름을 제목행으로 출력\n",
    "    print(f\"Grouped by: {', '.join(group_by_columns)}\")\n",
    "    print()\n",
    "    # 데이터프레임 출력\n",
    "    print(results_df)\n",
    "\n",
    "# 예시코드\n",
    "# summarize_grouped_data(train_data, ['1st Pressure Collect Result_AutoClave', '1st Pressure Unit Time_AutoClave'])"
   ]
  },
  {
   "cell_type": "code",
   "execution_count": 24,
   "id": "f4bfbd22",
   "metadata": {},
   "outputs": [],
   "source": [
    "def plot_ratio(df, group_by_column, target_column='target', abnormal_value='AbNormal'):\n",
    "    # 데이터프레임을 그룹화\n",
    "    grouped_df = df.groupby(group_by_column)\n",
    "    \n",
    "    # 결과를 저장할 리스트 초기화\n",
    "    results = []\n",
    "    \n",
    "    # 그룹화된 데이터프레임의 내용을 확인하는 코드\n",
    "    for name, group in grouped_df:\n",
    "        # 그룹의 갯수 계산\n",
    "        group_count = group.shape[0]\n",
    "        \n",
    "        # 'target' 변수의 'AbNormal' 비율과 갯수 계산\n",
    "        abnormal_count = group[target_column].value_counts().get(abnormal_value, 0)\n",
    "        abnormal_ratio = abnormal_count / group_count\n",
    "        \n",
    "        # 결과 리스트에 추가\n",
    "        results.append([name, abnormal_count, abnormal_ratio, group_count])\n",
    "    \n",
    "    # 결과 리스트를 데이터프레임으로 변환\n",
    "    results_df = pd.DataFrame(results, columns=['group', f\"'{abnormal_value}' count\", 'ratio', 'Total'])\n",
    "    \n",
    "    # 그래프 크기 설정\n",
    "    plt.figure(figsize=(10, 5))\n",
    "    \n",
    "    # 막대 그래프 생성\n",
    "    ax = results_df.plot(kind='bar', x='group', y='ratio', legend=False)\n",
    "    \n",
    "    # 각 막대 위에 AbNormal 갯수와 총 갯수 표시\n",
    "    for i, (abnormal_count, total) in enumerate(zip(results_df[f\"'{abnormal_value}' count\"], results_df['Total'])):\n",
    "        ax.text(i, results_df['ratio'][i], f'{abnormal_count} ({total})', ha='center', va='bottom', fontsize=8)\n",
    "    \n",
    "     # 그래프 제목 및 축 레이블 설정\n",
    "    ax.set_title(f'{abnormal_value} Ratio by {group_by_column}')\n",
    "    ax.set_xlabel(group_by_column)\n",
    "    ax.set_ylabel(f'{abnormal_value} Ratio')\n",
    "   \n",
    "    # 그래프 출력\n",
    "    plt.show()"
   ]
  },
  {
   "cell_type": "code",
   "execution_count": 25,
   "id": "aad45361",
   "metadata": {},
   "outputs": [],
   "source": [
    "import matplotlib.pyplot as plt\n",
    "import seaborn as sns\n",
    "\n",
    "def plot_ratio_boxplot(data, time_ratio_column, target_column='target'):\n",
    "    # 그래프 스타일 설정\n",
    "    sns.set(style=\"whitegrid\")\n",
    "\n",
    "    # 그래프 그리기\n",
    "    plt.figure(figsize=(10, 6))\n",
    "    sns.boxplot(x=time_ratio_column, y=target_column, data=data)\n",
    "\n",
    "    # 그래프 제목 및 레이블 설정\n",
    "    plt.title(f'{time_ratio_column} vs {target_column}')\n",
    "    plt.xlabel(time_ratio_column)\n",
    "    plt.ylabel(target_column)\n",
    "\n",
    "    # 그래프 출력\n",
    "    plt.show()\n",
    "\n",
    "# 함수 호출 예제\n",
    "#plot_time_ratio_vs_target(train_data, 'time_ratio_Dam')"
   ]
  },
  {
   "cell_type": "markdown",
   "id": "08a8a90c",
   "metadata": {},
   "source": [
    "---"
   ]
  },
  {
   "cell_type": "code",
   "execution_count": 26,
   "id": "0e84bd23",
   "metadata": {},
   "outputs": [
    {
     "data": {
      "text/plain": [
       "['Model.Suffix',\n",
       " 'Workorder',\n",
       " 'CURE END POSITION X Collect Result_Dam',\n",
       " 'CURE END POSITION Z Collect Result_Dam',\n",
       " 'CURE END POSITION Θ Collect Result_Dam',\n",
       " 'CURE SPEED Collect Result_Dam',\n",
       " 'CURE START POSITION X Collect Result_Dam',\n",
       " 'CURE START POSITION Θ Collect Result_Dam',\n",
       " 'DISCHARGED SPEED OF RESIN Collect Result_Dam',\n",
       " 'DISCHARGED TIME OF RESIN(Stage1) Collect Result_Dam',\n",
       " 'DISCHARGED TIME OF RESIN(Stage2) Collect Result_Dam',\n",
       " 'DISCHARGED TIME OF RESIN(Stage3) Collect Result_Dam',\n",
       " 'Dispense Volume(Stage1) Collect Result_Dam',\n",
       " 'Dispense Volume(Stage2) Collect Result_Dam',\n",
       " 'Dispense Volume(Stage3) Collect Result_Dam',\n",
       " 'HEAD NORMAL COORDINATE X AXIS(Stage1) Collect Result_Dam',\n",
       " 'HEAD NORMAL COORDINATE X AXIS(Stage2) Collect Result_Dam',\n",
       " 'HEAD NORMAL COORDINATE X AXIS(Stage3) Collect Result_Dam',\n",
       " 'HEAD NORMAL COORDINATE Y AXIS(Stage1) Collect Result_Dam',\n",
       " 'HEAD NORMAL COORDINATE Y AXIS(Stage2) Collect Result_Dam',\n",
       " 'HEAD NORMAL COORDINATE Y AXIS(Stage3) Collect Result_Dam',\n",
       " 'HEAD NORMAL COORDINATE Z AXIS(Stage1) Collect Result_Dam',\n",
       " 'HEAD NORMAL COORDINATE Z AXIS(Stage2) Collect Result_Dam',\n",
       " 'HEAD NORMAL COORDINATE Z AXIS(Stage3) Collect Result_Dam',\n",
       " 'Head Clean Position Z Collect Result_Dam',\n",
       " 'Head Purge Position Z Collect Result_Dam',\n",
       " 'Head Zero Position Y Collect Result_Dam',\n",
       " 'Head Zero Position Z Collect Result_Dam',\n",
       " 'Machine Tact time Collect Result_Dam',\n",
       " 'Stage1 Circle1 Distance Speed Collect Result_Dam',\n",
       " 'Stage1 Circle2 Distance Speed Collect Result_Dam',\n",
       " 'Stage1 Circle3 Distance Speed Collect Result_Dam',\n",
       " 'Stage1 Circle4 Distance Speed Collect Result_Dam',\n",
       " 'Stage1 Line1 Distance Speed Collect Result_Dam',\n",
       " 'Stage1 Line2 Distance Speed Collect Result_Dam',\n",
       " 'Stage1 Line3 Distance Speed Collect Result_Dam',\n",
       " 'Stage1 Line4 Distance Speed Collect Result_Dam',\n",
       " 'Stage2 Circle1 Distance Speed Collect Result_Dam',\n",
       " 'Stage2 Circle2 Distance Speed Collect Result_Dam',\n",
       " 'Stage2 Circle3 Distance Speed Collect Result_Dam',\n",
       " 'Stage2 Circle4 Distance Speed Collect Result_Dam',\n",
       " 'Stage2 Line1 Distance Speed Collect Result_Dam',\n",
       " 'Stage2 Line2 Distance Speed Collect Result_Dam',\n",
       " 'Stage2 Line3 Distance Speed Collect Result_Dam',\n",
       " 'Stage2 Line4 Distance Speed Collect Result_Dam',\n",
       " 'Stage3 Circle1 Distance Speed Collect Result_Dam',\n",
       " 'Stage3 Circle2 Distance Speed Collect Result_Dam',\n",
       " 'Stage3 Circle3 Distance Speed Collect Result_Dam',\n",
       " 'Stage3 Circle4 Distance Speed Collect Result_Dam',\n",
       " 'Stage3 Line1 Distance Speed Collect Result_Dam',\n",
       " 'Stage3 Line2 Distance Speed Collect Result_Dam',\n",
       " 'Stage3 Line3 Distance Speed Collect Result_Dam',\n",
       " 'Stage3 Line4 Distance Speed Collect Result_Dam',\n",
       " 'THICKNESS 1 Collect Result_Dam',\n",
       " 'THICKNESS 2 Collect Result_Dam',\n",
       " 'THICKNESS 3 Collect Result_Dam',\n",
       " 'WorkMode Collect Result',\n",
       " '1st Pressure Collect Result_AutoClave',\n",
       " '1st Pressure Unit Time_AutoClave',\n",
       " '2nd Pressure Collect Result_AutoClave',\n",
       " '2nd Pressure Unit Time_AutoClave',\n",
       " '3rd Pressure Collect Result_AutoClave',\n",
       " '3rd Pressure Unit Time_AutoClave',\n",
       " 'Chamber Temp. Collect Result_AutoClave',\n",
       " 'Chamber Temp. Unit Time_AutoClave',\n",
       " 'DISCHARGED SPEED OF RESIN Collect Result_Fill1',\n",
       " 'DISCHARGED TIME OF RESIN(Stage1) Collect Result_Fill1',\n",
       " 'DISCHARGED TIME OF RESIN(Stage2) Collect Result_Fill1',\n",
       " 'DISCHARGED TIME OF RESIN(Stage3) Collect Result_Fill1',\n",
       " 'Dispense Volume(Stage1) Collect Result_Fill1',\n",
       " 'Dispense Volume(Stage2) Collect Result_Fill1',\n",
       " 'Dispense Volume(Stage3) Collect Result_Fill1',\n",
       " 'HEAD NORMAL COORDINATE X AXIS(Stage1) Collect Result_Fill1',\n",
       " 'HEAD NORMAL COORDINATE X AXIS(Stage2) Collect Result_Fill1',\n",
       " 'HEAD NORMAL COORDINATE X AXIS(Stage3) Collect Result_Fill1',\n",
       " 'HEAD NORMAL COORDINATE Y AXIS(Stage1) Collect Result_Fill1',\n",
       " 'HEAD NORMAL COORDINATE Y AXIS(Stage2) Collect Result_Fill1',\n",
       " 'HEAD NORMAL COORDINATE Y AXIS(Stage3) Collect Result_Fill1',\n",
       " 'HEAD NORMAL COORDINATE Z AXIS(Stage1) Collect Result_Fill1',\n",
       " 'HEAD NORMAL COORDINATE Z AXIS(Stage2) Collect Result_Fill1',\n",
       " 'HEAD NORMAL COORDINATE Z AXIS(Stage3) Collect Result_Fill1',\n",
       " 'Head Purge Position Z Collect Result_Fill1',\n",
       " 'Machine Tact time Collect Result_Fill1',\n",
       " 'CURE END POSITION X Collect Result_Fill2',\n",
       " 'CURE END POSITION Z Collect Result_Fill2',\n",
       " 'CURE SPEED Collect Result_Fill2',\n",
       " 'CURE STANDBY POSITION Z Collect Result_Fill2',\n",
       " 'CURE START POSITION X Collect Result_Fill2',\n",
       " 'CURE START POSITION Z Collect Result_Fill2',\n",
       " 'HEAD NORMAL COORDINATE X AXIS(Stage1) Collect Result_Fill2',\n",
       " 'HEAD NORMAL COORDINATE X AXIS(Stage2) Collect Result_Fill2',\n",
       " 'HEAD NORMAL COORDINATE X AXIS(Stage3) Collect Result_Fill2',\n",
       " 'HEAD NORMAL COORDINATE Y AXIS(Stage1) Collect Result_Fill2',\n",
       " 'HEAD NORMAL COORDINATE Y AXIS(Stage2) Collect Result_Fill2',\n",
       " 'HEAD NORMAL COORDINATE Y AXIS(Stage3) Collect Result_Fill2',\n",
       " 'HEAD NORMAL COORDINATE Z AXIS(Stage1) Collect Result_Fill2',\n",
       " 'HEAD NORMAL COORDINATE Z AXIS(Stage2) Collect Result_Fill2',\n",
       " 'HEAD NORMAL COORDINATE Z AXIS(Stage3) Collect Result_Fill2',\n",
       " 'Head Purge Position Z Collect Result_Fill2',\n",
       " 'Machine Tact time Collect Result_Fill2',\n",
       " 'target',\n",
       " 'Dispenser_1',\n",
       " 'Dispenser_2',\n",
       " 'Receip_No_Collect_Result',\n",
       " 'PalletID_Collect_Result',\n",
       " 'Production_Qty_Collect_Result',\n",
       " 'Chamber_Temp_OKNG_AutoClave',\n",
       " 'Judge_Value_OK']"
      ]
     },
     "execution_count": 26,
     "metadata": {},
     "output_type": "execute_result"
    }
   ],
   "source": [
    "train_data.columns.to_list()"
   ]
  },
  {
   "cell_type": "markdown",
   "id": "e2a9465e",
   "metadata": {},
   "source": [
    "### 1. CURE"
   ]
  },
  {
   "cell_type": "code",
   "execution_count": 27,
   "id": "45bdcc9d",
   "metadata": {},
   "outputs": [
    {
     "name": "stdout",
     "output_type": "stream",
     "text": [
      "\n",
      " CURE 포함 변수>\n",
      "CURE END POSITION X Collect Result_Dam\n",
      "CURE END POSITION Z Collect Result_Dam\n",
      "CURE END POSITION Θ Collect Result_Dam\n",
      "CURE SPEED Collect Result_Dam\n",
      "CURE START POSITION X Collect Result_Dam\n",
      "CURE START POSITION Θ Collect Result_Dam\n",
      "CURE END POSITION X Collect Result_Fill2\n",
      "CURE END POSITION Z Collect Result_Fill2\n",
      "CURE SPEED Collect Result_Fill2\n",
      "CURE STANDBY POSITION Z Collect Result_Fill2\n",
      "CURE START POSITION X Collect Result_Fill2\n",
      "CURE START POSITION Z Collect Result_Fill2\n"
     ]
    }
   ],
   "source": [
    "# 'CURE'와 '_Dam'를 포함하는 열 이름 필터링\n",
    "Process_Desc_col = train_data.filter(like='CURE').columns\n",
    "\n",
    "print(\"\\n CURE 포함 변수>\")\n",
    "for col in Process_Desc_col:\n",
    "    print(col)"
   ]
  },
  {
   "cell_type": "code",
   "execution_count": 28,
   "id": "33dc2f53",
   "metadata": {},
   "outputs": [
    {
     "name": "stdout",
     "output_type": "stream",
     "text": [
      "Grouped by: Dispenser_1, Dispenser_2, CURE END POSITION Θ Collect Result_Dam, CURE START POSITION Θ Collect Result_Dam\n",
      "\n",
      "              group  'AdNormal' count     ratio  Total\n",
      "0  (0, 0, -90, -90)                19  1.000000     19\n",
      "1    (0, 0, 90, 90)                15  1.000000     15\n",
      "2    (0, 1, 90, 90)               850  0.054977  15461\n",
      "3  (1, 0, -90, -90)              1466  0.058614  25011\n"
     ]
    }
   ],
   "source": [
    "summarize_group(train_data, [\n",
    "'Dispenser_1'\n",
    ", 'Dispenser_2'\n",
    "# 'CURE END POSITION X Collect Result_Dam'\n",
    ", 'CURE END POSITION Θ Collect Result_Dam'\n",
    "# , 'CURE SPEED Collect Result_Dam'\n",
    "# , 'CURE START POSITION X Collect Result_Dam'\n",
    ", 'CURE START POSITION Θ Collect Result_Dam'\n",
    "# , 'CURE END POSITION X Collect Result_Fill2'\n",
    "# , 'CURE END POSITION Z Collect Result_Fill2'\n",
    "# , 'CURE SPEED Collect Result_Fill2'\n",
    "# , 'CURE STANDBY POSITION Z Collect Result_Fill2'\n",
    "# , 'CURE START POSITION X Collect Result_Fill2'\n",
    "# , 'CURE START POSITION Z Collect Result_Fill2'\n",
    "])"
   ]
  },
  {
   "cell_type": "markdown",
   "id": "23aff796",
   "metadata": {},
   "source": [
    "dispenser 종류에 따라 POSITION Θ 값이 따라감  \n",
    "-> drop"
   ]
  },
  {
   "cell_type": "code",
   "execution_count": 29,
   "id": "a2bcdc66",
   "metadata": {},
   "outputs": [],
   "source": [
    "# 제거할 변수 목록\n",
    "columns_to_drop = [\n",
    "    'CURE END POSITION Θ Collect Result_Dam'\n",
    "    , 'CURE START POSITION Θ Collect Result_Dam'\n",
    "]\n",
    "\n",
    "# 변수 제거\n",
    "train_data.drop(columns=columns_to_drop, inplace=True)\n",
    "test_data.drop(columns=columns_to_drop, inplace=True)"
   ]
  },
  {
   "cell_type": "code",
   "execution_count": 30,
   "id": "1b7aff20",
   "metadata": {},
   "outputs": [
    {
     "name": "stdout",
     "output_type": "stream",
     "text": [
      "\n",
      " CURE 포함 변수>\n",
      "CURE END POSITION X Collect Result_Dam\n",
      "CURE END POSITION Z Collect Result_Dam\n",
      "CURE SPEED Collect Result_Dam\n",
      "CURE START POSITION X Collect Result_Dam\n",
      "CURE END POSITION X Collect Result_Fill2\n",
      "CURE END POSITION Z Collect Result_Fill2\n",
      "CURE SPEED Collect Result_Fill2\n",
      "CURE STANDBY POSITION Z Collect Result_Fill2\n",
      "CURE START POSITION X Collect Result_Fill2\n",
      "CURE START POSITION Z Collect Result_Fill2\n"
     ]
    }
   ],
   "source": [
    "# 'CURE'를 포함하는 열 이름 필터링\n",
    "Process_Desc_col = train_data.filter(like='CURE').columns\n",
    "\n",
    "print(\"\\n CURE 포함 변수>\")\n",
    "for col in Process_Desc_col:\n",
    "    print(col)"
   ]
  },
  {
   "cell_type": "code",
   "execution_count": 31,
   "id": "61cf9dad",
   "metadata": {},
   "outputs": [
    {
     "name": "stdout",
     "output_type": "stream",
     "text": [
      "Grouped by: Dispenser_1, Dispenser_2, CURE END POSITION X Collect Result_Dam, CURE END POSITION Z Collect Result_Dam, CURE START POSITION X Collect Result_Dam\n",
      "\n",
      "                     group  'AdNormal' count     ratio  Total\n",
      "0   (0, 0, 240, 2.5, 1030)                19  1.000000     19\n",
      "1  (0, 0, 1000, 12.5, 280)                15  1.000000     15\n",
      "2  (0, 1, 1000, 12.5, 280)               850  0.054977  15461\n",
      "3   (1, 0, 240, 2.5, 1030)              1466  0.058614  25011\n"
     ]
    }
   ],
   "source": [
    "summarize_group(train_data, [\n",
    "'Dispenser_1'\n",
    ", 'Dispenser_2'\n",
    ", 'CURE END POSITION X Collect Result_Dam'\n",
    ", 'CURE END POSITION Z Collect Result_Dam'\n",
    "# , 'CURE SPEED Collect Result_Dam'\n",
    ", 'CURE START POSITION X Collect Result_Dam'\n",
    "# , 'CURE END POSITION X Collect Result_Fill2'\n",
    "# , 'CURE END POSITION Z Collect Result_Fill2'\n",
    "# , 'CURE SPEED Collect Result_Fill2'\n",
    "# , 'CURE STANDBY POSITION Z Collect Result_Fill2'\n",
    "# , 'CURE START POSITION X Collect Result_Fill2'\n",
    "# , 'CURE START POSITION Z Collect Result_Fill2'\n",
    "])"
   ]
  },
  {
   "cell_type": "markdown",
   "id": "48d641dc",
   "metadata": {},
   "source": [
    "좌표값을 통해 좌표간의 거리를 계산"
   ]
  },
  {
   "cell_type": "code",
   "execution_count": 32,
   "id": "96d3ba02",
   "metadata": {},
   "outputs": [],
   "source": [
    "# 시작 위치와 끝 위치 열 이름\n",
    "start_x_col = 'CURE START POSITION X Collect Result_Dam'\n",
    "start_z_col = 33.5\n",
    "end_x_col = 'CURE END POSITION X Collect Result_Dam'\n",
    "end_z_col = 'CURE END POSITION Z Collect Result_Dam'\n",
    "\n",
    "# 시작 위치와 끝 위치 사이의 거리 계산\n",
    "train_data['CURE_DISTANCE_Dam'] = np.sqrt(\n",
    "    (train_data[end_x_col] - train_data[start_x_col]) ** 2 +\n",
    "    (train_data[end_z_col] - start_z_col) ** 2\n",
    ")\n",
    "\n",
    "test_data['CURE_DISTANCE_Dam'] = np.sqrt(\n",
    "    (train_data[end_x_col] - train_data[start_x_col]) ** 2 +\n",
    "    (train_data[end_z_col] - start_z_col) ** 2\n",
    ")"
   ]
  },
  {
   "cell_type": "code",
   "execution_count": 33,
   "id": "a5fa846c",
   "metadata": {},
   "outputs": [],
   "source": [
    "# 시작 위치와 끝 위치 열 이름\n",
    "start_x_col = 'CURE START POSITION X Collect Result_Fill2'\n",
    "start_z_col = 'CURE START POSITION Z Collect Result_Fill2'\n",
    "end_x_col = 'CURE END POSITION X Collect Result_Fill2'\n",
    "end_z_col = 'CURE END POSITION Z Collect Result_Fill2'\n",
    "\n",
    "# 시작 위치와 끝 위치 사이의 거리 계산\n",
    "train_data['CURE_DISTANCE_Fill2'] = np.sqrt(\n",
    "    (train_data[end_x_col] - train_data[start_x_col]) ** 2 +\n",
    "    (train_data[end_z_col] - train_data[start_z_col]) ** 2\n",
    ")\n",
    "\n",
    "test_data['CURE_DISTANCE_Fill2'] = np.sqrt(\n",
    "    (train_data[end_x_col] - train_data[start_x_col]) ** 2 +\n",
    "    (train_data[end_z_col] - train_data[start_z_col]) ** 2\n",
    ")"
   ]
  },
  {
   "cell_type": "code",
   "execution_count": 34,
   "id": "fbe2fc87",
   "metadata": {},
   "outputs": [],
   "source": [
    "# 제거할 변수 목록\n",
    "columns_to_drop = [\n",
    "    'CURE START POSITION X Collect Result_Dam'\n",
    "    , 'CURE END POSITION X Collect Result_Dam'\n",
    "    , 'CURE END POSITION Z Collect Result_Dam'\n",
    "\n",
    "    , 'CURE START POSITION X Collect Result_Fill2'\n",
    "    , 'CURE START POSITION Z Collect Result_Fill2'\n",
    "    , 'CURE END POSITION X Collect Result_Fill2'\n",
    "    , 'CURE END POSITION Z Collect Result_Fill2'\n",
    "]\n",
    "\n",
    "# 변수 제거\n",
    "train_data.drop(columns=columns_to_drop, inplace=True)\n",
    "test_data.drop(columns=columns_to_drop, inplace=True)"
   ]
  },
  {
   "cell_type": "code",
   "execution_count": 35,
   "id": "2b9efd1a",
   "metadata": {},
   "outputs": [
    {
     "name": "stdout",
     "output_type": "stream",
     "text": [
      "\n",
      " CURE 포함 변수>\n",
      "CURE SPEED Collect Result_Dam\n",
      "CURE SPEED Collect Result_Fill2\n",
      "CURE STANDBY POSITION Z Collect Result_Fill2\n",
      "CURE_DISTANCE_Dam\n",
      "CURE_DISTANCE_Fill2\n"
     ]
    }
   ],
   "source": [
    "# 'CURE'를 포함하는 열 이름 필터링\n",
    "Process_Desc_col = train_data.filter(like='CURE').columns\n",
    "\n",
    "print(\"\\n CURE 포함 변수>\")\n",
    "for col in Process_Desc_col:\n",
    "    print(col)"
   ]
  },
  {
   "cell_type": "code",
   "execution_count": 36,
   "id": "46e713c2",
   "metadata": {},
   "outputs": [
    {
     "name": "stdout",
     "output_type": "stream",
     "text": [
      "Grouped by: CURE STANDBY POSITION Z Collect Result_Fill2\n",
      "\n",
      "   group  'AdNormal' count     ratio  Total\n",
      "0  (22,)                34  0.072495    469\n",
      "1  (23,)                22  0.107843    204\n",
      "2  (32,)               421  0.085866   4903\n",
      "3  (33,)              1873  0.053622  34930\n"
     ]
    }
   ],
   "source": [
    "summarize_group(train_data, [\n",
    "# 'Dispenser_1'\n",
    "# , 'Dispenser_2'\n",
    "# , 'CURE SPEED Collect Result_Dam'\n",
    "# , 'CURE SPEED Collect Result_Fill2'\n",
    " 'CURE STANDBY POSITION Z Collect Result_Fill2'\n",
    "# , 'CURE_DISTANCE_Dam'\n",
    "# , 'CURE_DISTANCE_Fill2'\n",
    "])"
   ]
  },
  {
   "cell_type": "markdown",
   "id": "cc2b3d80",
   "metadata": {},
   "source": [
    "'CURE STANDBY POSITION Z Collect Result_Fill2' 변수의 유의미함을 찾을수 x  \n",
    "다른 변수와 연결된만한것도 찾지 못함 -> drop"
   ]
  },
  {
   "cell_type": "code",
   "execution_count": 37,
   "id": "dc313406",
   "metadata": {},
   "outputs": [],
   "source": [
    "# 제거할 변수 목록\n",
    "columns_to_drop = ['CURE STANDBY POSITION Z Collect Result_Fill2']\n",
    "\n",
    "# 변수 제거\n",
    "train_data.drop(columns=columns_to_drop, inplace=True)\n",
    "test_data.drop(columns=columns_to_drop, inplace=True)"
   ]
  },
  {
   "cell_type": "code",
   "execution_count": 38,
   "id": "50fe7e4f",
   "metadata": {},
   "outputs": [
    {
     "name": "stdout",
     "output_type": "stream",
     "text": [
      "\n",
      " CURE 포함 변수>\n",
      "CURE SPEED Collect Result_Dam\n",
      "CURE SPEED Collect Result_Fill2\n",
      "CURE_DISTANCE_Dam\n",
      "CURE_DISTANCE_Fill2\n"
     ]
    }
   ],
   "source": [
    "# 'CURE'를 포함하는 열 이름 필터링\n",
    "Process_Desc_col = train_data.filter(like='CURE').columns\n",
    "\n",
    "print(\"\\n CURE 포함 변수>\")\n",
    "for col in Process_Desc_col:\n",
    "    print(col)"
   ]
  },
  {
   "cell_type": "code",
   "execution_count": 39,
   "id": "18af7bfb",
   "metadata": {},
   "outputs": [
    {
     "name": "stdout",
     "output_type": "stream",
     "text": [
      "Grouped by: Dispenser_1, Dispenser_2, CURE_DISTANCE_Dam, CURE_DISTANCE_Fill2\n",
      "\n",
      "                                          group  'AdNormal' count     ratio  \\\n",
      "0              (0, 0, 720.3061848963953, 780.0)                15  1.000000   \n",
      "1               (0, 0, 790.607993888248, 780.0)                19  1.000000   \n",
      "2              (0, 1, 720.3061848963953, 780.0)               827  0.054645   \n",
      "3  (0, 1, 720.3061848963953, 780.0006410253776)                23  0.070552   \n",
      "4  (0, 1, 720.3061848963953, 780.0775602464155)                 0  0.000000   \n",
      "5               (1, 0, 790.607993888248, 780.0)              1129  0.054418   \n",
      "6   (1, 0, 790.607993888248, 780.0006410253776)               286  0.077591   \n",
      "7   (1, 0, 790.607993888248, 780.0640999302557)                51  0.088235   \n",
      "\n",
      "   Total  \n",
      "0     15  \n",
      "1     19  \n",
      "2  15134  \n",
      "3    326  \n",
      "4      1  \n",
      "5  20747  \n",
      "6   3686  \n",
      "7    578  \n"
     ]
    }
   ],
   "source": [
    "summarize_group(train_data, [\n",
    "'Dispenser_1'\n",
    ", 'Dispenser_2'\n",
    "# , 'CURE SPEED Collect Result_Dam'\n",
    "# , 'CURE SPEED Collect Result_Fill2'\n",
    ", 'CURE_DISTANCE_Dam'\n",
    ", 'CURE_DISTANCE_Fill2'\n",
    "])"
   ]
  },
  {
   "cell_type": "markdown",
   "id": "340dbf40",
   "metadata": {},
   "source": [
    "거리의 차이에 따라 ratio 값 변화 크지 x"
   ]
  },
  {
   "cell_type": "code",
   "execution_count": 40,
   "id": "c26ff29b",
   "metadata": {},
   "outputs": [],
   "source": [
    "# 거리 / 속도 -> 시간 파생 변수 생성\n",
    "train_data['CURE_Time_Dam']  = train_data['CURE_DISTANCE_Dam'] / train_data['CURE SPEED Collect Result_Dam']\n",
    "test_data['CURE_Time_Dam']  = test_data['CURE_DISTANCE_Dam'] / test_data['CURE SPEED Collect Result_Dam']\n",
    "\n",
    "train_data['CURE_Time_Fill2']  = train_data['CURE_DISTANCE_Fill2'] / train_data['CURE SPEED Collect Result_Fill2']\n",
    "test_data['CURE_Time_Fill2']  = test_data['CURE_DISTANCE_Fill2'] / test_data['CURE SPEED Collect Result_Fill2']"
   ]
  },
  {
   "cell_type": "code",
   "execution_count": 41,
   "id": "48b4c8c0",
   "metadata": {},
   "outputs": [
    {
     "name": "stdout",
     "output_type": "stream",
     "text": [
      "\n",
      " CURE 포함 변수>\n",
      "CURE SPEED Collect Result_Dam\n",
      "CURE SPEED Collect Result_Fill2\n",
      "CURE_DISTANCE_Dam\n",
      "CURE_DISTANCE_Fill2\n",
      "CURE_Time_Dam\n",
      "CURE_Time_Fill2\n"
     ]
    }
   ],
   "source": [
    "# 'CURE'를 포함하는 열 이름 필터링\n",
    "Process_Desc_col = train_data.filter(like='CURE').columns\n",
    "\n",
    "print(\"\\n CURE 포함 변수>\")\n",
    "for col in Process_Desc_col:\n",
    "    print(col)"
   ]
  },
  {
   "cell_type": "code",
   "execution_count": 42,
   "id": "4195b534",
   "metadata": {},
   "outputs": [],
   "source": [
    "# 제거할 변수 목록\n",
    "columns_to_drop = [\n",
    "    'CURE_DISTANCE_Dam'\n",
    "    , 'CURE SPEED Collect Result_Dam'\n",
    "    , 'CURE_DISTANCE_Fill2'\n",
    "    , 'CURE SPEED Collect Result_Fill2'\n",
    "]\n",
    "\n",
    "# 변수 제거\n",
    "train_data.drop(columns=columns_to_drop, inplace=True)\n",
    "test_data.drop(columns=columns_to_drop, inplace=True)"
   ]
  },
  {
   "cell_type": "code",
   "execution_count": 43,
   "id": "2d0840f4",
   "metadata": {},
   "outputs": [
    {
     "name": "stdout",
     "output_type": "stream",
     "text": [
      "\n",
      " CURE 포함 변수>\n",
      "CURE_Time_Dam\n",
      "CURE_Time_Fill2\n"
     ]
    }
   ],
   "source": [
    "# 'CURE'를 포함하는 열 이름 필터링\n",
    "Process_Desc_col = train_data.filter(like='CURE').columns\n",
    "\n",
    "print(\"\\n CURE 포함 변수>\")\n",
    "for col in Process_Desc_col:\n",
    "    print(col)"
   ]
  },
  {
   "cell_type": "markdown",
   "id": "8caac149",
   "metadata": {},
   "source": [
    "### 2. HEAD NORMAL COORDINATE"
   ]
  },
  {
   "cell_type": "code",
   "execution_count": 44,
   "id": "39a38fc8",
   "metadata": {},
   "outputs": [
    {
     "name": "stdout",
     "output_type": "stream",
     "text": [
      "\n",
      " HEAD NORMAL COORDINATE 포함 변수>\n",
      "HEAD NORMAL COORDINATE X AXIS(Stage1) Collect Result_Dam\n",
      "HEAD NORMAL COORDINATE X AXIS(Stage2) Collect Result_Dam\n",
      "HEAD NORMAL COORDINATE X AXIS(Stage3) Collect Result_Dam\n",
      "HEAD NORMAL COORDINATE Y AXIS(Stage1) Collect Result_Dam\n",
      "HEAD NORMAL COORDINATE Y AXIS(Stage2) Collect Result_Dam\n",
      "HEAD NORMAL COORDINATE Y AXIS(Stage3) Collect Result_Dam\n",
      "HEAD NORMAL COORDINATE Z AXIS(Stage1) Collect Result_Dam\n",
      "HEAD NORMAL COORDINATE Z AXIS(Stage2) Collect Result_Dam\n",
      "HEAD NORMAL COORDINATE Z AXIS(Stage3) Collect Result_Dam\n",
      "HEAD NORMAL COORDINATE X AXIS(Stage1) Collect Result_Fill1\n",
      "HEAD NORMAL COORDINATE X AXIS(Stage2) Collect Result_Fill1\n",
      "HEAD NORMAL COORDINATE X AXIS(Stage3) Collect Result_Fill1\n",
      "HEAD NORMAL COORDINATE Y AXIS(Stage1) Collect Result_Fill1\n",
      "HEAD NORMAL COORDINATE Y AXIS(Stage2) Collect Result_Fill1\n",
      "HEAD NORMAL COORDINATE Y AXIS(Stage3) Collect Result_Fill1\n",
      "HEAD NORMAL COORDINATE Z AXIS(Stage1) Collect Result_Fill1\n",
      "HEAD NORMAL COORDINATE Z AXIS(Stage2) Collect Result_Fill1\n",
      "HEAD NORMAL COORDINATE Z AXIS(Stage3) Collect Result_Fill1\n",
      "HEAD NORMAL COORDINATE X AXIS(Stage1) Collect Result_Fill2\n",
      "HEAD NORMAL COORDINATE X AXIS(Stage2) Collect Result_Fill2\n",
      "HEAD NORMAL COORDINATE X AXIS(Stage3) Collect Result_Fill2\n",
      "HEAD NORMAL COORDINATE Y AXIS(Stage1) Collect Result_Fill2\n",
      "HEAD NORMAL COORDINATE Y AXIS(Stage2) Collect Result_Fill2\n",
      "HEAD NORMAL COORDINATE Y AXIS(Stage3) Collect Result_Fill2\n",
      "HEAD NORMAL COORDINATE Z AXIS(Stage1) Collect Result_Fill2\n",
      "HEAD NORMAL COORDINATE Z AXIS(Stage2) Collect Result_Fill2\n",
      "HEAD NORMAL COORDINATE Z AXIS(Stage3) Collect Result_Fill2\n"
     ]
    }
   ],
   "source": [
    "# 'HEAD NORMAL COORDINATE'를 포함하는 열 이름 필터링\n",
    "Process_Desc_col = train_data.filter(like='HEAD NORMAL COORDINATE').columns\n",
    "\n",
    "print(\"\\n HEAD NORMAL COORDINATE 포함 변수>\")\n",
    "for col in Process_Desc_col:\n",
    "    print(col)"
   ]
  },
  {
   "cell_type": "code",
   "execution_count": 45,
   "id": "acc3e7ed",
   "metadata": {},
   "outputs": [],
   "source": [
    "# 각 스테이지의 좌표 열 정의\n",
    "stage1_cols = ['HEAD NORMAL COORDINATE X AXIS(Stage1) Collect Result_Dam',\n",
    "               'HEAD NORMAL COORDINATE Y AXIS(Stage1) Collect Result_Dam',\n",
    "               'HEAD NORMAL COORDINATE Z AXIS(Stage1) Collect Result_Dam']\n",
    "\n",
    "stage2_cols = ['HEAD NORMAL COORDINATE X AXIS(Stage2) Collect Result_Dam',\n",
    "               'HEAD NORMAL COORDINATE Y AXIS(Stage2) Collect Result_Dam',\n",
    "               'HEAD NORMAL COORDINATE Z AXIS(Stage2) Collect Result_Dam']\n",
    "\n",
    "stage3_cols = ['HEAD NORMAL COORDINATE X AXIS(Stage3) Collect Result_Dam',\n",
    "               'HEAD NORMAL COORDINATE Y AXIS(Stage3) Collect Result_Dam',\n",
    "               'HEAD NORMAL COORDINATE Z AXIS(Stage3) Collect Result_Dam']\n",
    "\n",
    "# 거리 계산 함수\n",
    "def calculate_distances(data):\n",
    "    data['HEAD NORMAL DISTANCE_STAGE1_STAGE2_Dam'] = np.sqrt(\n",
    "        (data[stage2_cols[0]] - data[stage1_cols[0]]) ** 2 +\n",
    "        (data[stage2_cols[1]] - data[stage1_cols[1]]) ** 2 +\n",
    "        (data[stage2_cols[2]] - data[stage1_cols[2]]) ** 2\n",
    "    )\n",
    "\n",
    "    data['HEAD NORMAL DISTANCE_STAGE2_STAGE3_Dam'] = np.sqrt(\n",
    "        (data[stage3_cols[0]] - data[stage2_cols[0]]) ** 2 +\n",
    "        (data[stage3_cols[1]] - data[stage2_cols[1]]) ** 2 +\n",
    "        (data[stage3_cols[2]] - data[stage2_cols[2]]) ** 2\n",
    "    )\n",
    "\n",
    "    data['HEAD NORMAL DISTANCE_STAGE1_STAGE3_Dam'] = np.sqrt(\n",
    "        (data[stage3_cols[0]] - data[stage1_cols[0]]) ** 2 +\n",
    "        (data[stage3_cols[1]] - data[stage1_cols[1]]) ** 2 +\n",
    "        (data[stage3_cols[2]] - data[stage1_cols[2]]) ** 2\n",
    "    )\n",
    "\n",
    "    return data\n",
    "\n",
    "# train_data에 적용\n",
    "train_data = calculate_distances(train_data)\n",
    "\n",
    "# test_data에 적용\n",
    "test_data = calculate_distances(test_data)"
   ]
  },
  {
   "cell_type": "code",
   "execution_count": 46,
   "id": "287f0c97",
   "metadata": {},
   "outputs": [],
   "source": [
    "# 필요한 열 이름\n",
    "stage1_stage2_col = 'HEAD NORMAL DISTANCE_STAGE1_STAGE2_Dam'\n",
    "stage2_stage3_col = 'HEAD NORMAL DISTANCE_STAGE2_STAGE3_Dam'\n",
    "stage1_stage3_col = 'HEAD NORMAL DISTANCE_STAGE1_STAGE3_Dam'\n",
    "\n",
    "# 삼각형의 넓이와 높이를 계산하는 함수\n",
    "def calculate_triangle_features(data):\n",
    "    a = data[stage1_stage2_col]\n",
    "    b = data[stage2_stage3_col]\n",
    "    c = data[stage1_stage3_col]\n",
    "\n",
    "    # 헤론의 공식에 따른 삼각형의 넓이 계산\n",
    "    s = (a + b + c) / 2\n",
    "    area = np.sqrt(s * (s - a) * (s - b) * (s - c))\n",
    "\n",
    "    # 높이 계산 (밑변을 c로 가정)\n",
    "    height = (2 * area) / c\n",
    "\n",
    "    # 결과를 새로운 열에 저장\n",
    "    # data['HEAD NORMAL DISTANCE_TRIANGLE_area_Dam'] = area\n",
    "    data['HEAD NORMAL DISTANCE_TRIANGLE_height_Dam'] = height\n",
    "\n",
    "    return data\n",
    "\n",
    "# train_data에 적용\n",
    "train_data = calculate_triangle_features(train_data)\n",
    "\n",
    "# test_data에 적용\n",
    "test_data = calculate_triangle_features(test_data)"
   ]
  },
  {
   "cell_type": "code",
   "execution_count": 47,
   "id": "efb87f49",
   "metadata": {},
   "outputs": [],
   "source": [
    "# 제거할 변수 목록\n",
    "columns_to_drop = [\n",
    "    'HEAD NORMAL COORDINATE X AXIS(Stage1) Collect Result_Dam'\n",
    "    , 'HEAD NORMAL COORDINATE Y AXIS(Stage1) Collect Result_Dam'\n",
    "    , 'HEAD NORMAL COORDINATE Z AXIS(Stage1) Collect Result_Dam'\n",
    "\n",
    "    , 'HEAD NORMAL COORDINATE X AXIS(Stage2) Collect Result_Dam'\n",
    "    , 'HEAD NORMAL COORDINATE Y AXIS(Stage2) Collect Result_Dam'\n",
    "    , 'HEAD NORMAL COORDINATE Z AXIS(Stage2) Collect Result_Dam'\n",
    "\n",
    "    , 'HEAD NORMAL COORDINATE X AXIS(Stage3) Collect Result_Dam'\n",
    "    , 'HEAD NORMAL COORDINATE Y AXIS(Stage3) Collect Result_Dam'\n",
    "    , 'HEAD NORMAL COORDINATE Z AXIS(Stage3) Collect Result_Dam'\n",
    "]\n",
    "\n",
    "# 변수 제거\n",
    "train_data.drop(columns=columns_to_drop, inplace=True)\n",
    "test_data.drop(columns=columns_to_drop, inplace=True)"
   ]
  },
  {
   "cell_type": "code",
   "execution_count": 48,
   "id": "dd662cf0",
   "metadata": {},
   "outputs": [],
   "source": [
    "# 각 스테이지의 좌표 열 정의\n",
    "stage1_cols = ['HEAD NORMAL COORDINATE X AXIS(Stage1) Collect Result_Fill1',\n",
    "               'HEAD NORMAL COORDINATE Y AXIS(Stage1) Collect Result_Fill1',\n",
    "               'HEAD NORMAL COORDINATE Z AXIS(Stage1) Collect Result_Fill1']\n",
    "\n",
    "stage2_cols = ['HEAD NORMAL COORDINATE X AXIS(Stage2) Collect Result_Fill1',\n",
    "               'HEAD NORMAL COORDINATE Y AXIS(Stage2) Collect Result_Fill1',\n",
    "               'HEAD NORMAL COORDINATE Z AXIS(Stage2) Collect Result_Fill1']\n",
    "\n",
    "stage3_cols = ['HEAD NORMAL COORDINATE X AXIS(Stage3) Collect Result_Fill1',\n",
    "               'HEAD NORMAL COORDINATE Y AXIS(Stage3) Collect Result_Fill1',\n",
    "               'HEAD NORMAL COORDINATE Z AXIS(Stage3) Collect Result_Fill1']\n",
    "\n",
    "# 거리 계산 함수\n",
    "def calculate_distances(data):\n",
    "    data['HEAD NORMAL DISTANCE_STAGE1_STAGE2_Fill1'] = np.sqrt(\n",
    "        (data[stage2_cols[0]] - data[stage1_cols[0]]) ** 2 +\n",
    "        (data[stage2_cols[1]] - data[stage1_cols[1]]) ** 2 +\n",
    "        (data[stage2_cols[2]] - data[stage1_cols[2]]) ** 2\n",
    "    )\n",
    "\n",
    "    data['HEAD NORMAL DISTANCE_STAGE2_STAGE3_Fill1'] = np.sqrt(\n",
    "        (data[stage3_cols[0]] - data[stage2_cols[0]]) ** 2 +\n",
    "        (data[stage3_cols[1]] - data[stage2_cols[1]]) ** 2 +\n",
    "        (data[stage3_cols[2]] - data[stage2_cols[2]]) ** 2\n",
    "    )\n",
    "\n",
    "    data['HEAD NORMAL DISTANCE_STAGE1_STAGE3_Fill1'] = np.sqrt(\n",
    "        (data[stage3_cols[0]] - data[stage1_cols[0]]) ** 2 +\n",
    "        (data[stage3_cols[1]] - data[stage1_cols[1]]) ** 2 +\n",
    "        (data[stage3_cols[2]] - data[stage1_cols[2]]) ** 2\n",
    "    )\n",
    "\n",
    "    return data\n",
    "\n",
    "# train_data에 적용\n",
    "train_data = calculate_distances(train_data)\n",
    "\n",
    "# test_data에 적용\n",
    "test_data = calculate_distances(test_data)"
   ]
  },
  {
   "cell_type": "code",
   "execution_count": 49,
   "id": "f9fb0580",
   "metadata": {},
   "outputs": [],
   "source": [
    "# 필요한 열 이름\n",
    "stage1_stage2_col = 'HEAD NORMAL DISTANCE_STAGE1_STAGE2_Fill1'\n",
    "stage2_stage3_col = 'HEAD NORMAL DISTANCE_STAGE2_STAGE3_Fill1'\n",
    "stage1_stage3_col = 'HEAD NORMAL DISTANCE_STAGE1_STAGE3_Fill1'\n",
    "\n",
    "# 삼각형의 넓이와 높이를 계산하는 함수\n",
    "def calculate_triangle_features(data):\n",
    "    a = data[stage1_stage2_col]\n",
    "    b = data[stage2_stage3_col]\n",
    "    c = data[stage1_stage3_col]\n",
    "\n",
    "    # 헤론의 공식에 따른 삼각형의 넓이 계산\n",
    "    s = (a + b + c) / 2\n",
    "    area = np.sqrt(s * (s - a) * (s - b) * (s - c))\n",
    "\n",
    "    # 높이 계산 (밑변을 c로 가정)\n",
    "    height = (2 * area) / c\n",
    "\n",
    "    # 결과를 새로운 열에 저장\n",
    "    # data['HEAD NORMAL DISTANCE_TRIANGLE_area_Fill1'] = area\n",
    "    data['HEAD NORMAL DISTANCE_TRIANGLE_height_Fill1'] = height\n",
    "\n",
    "    return data\n",
    "\n",
    "# train_data에 적용\n",
    "train_data = calculate_triangle_features(train_data)\n",
    "\n",
    "# test_data에 적용\n",
    "test_data = calculate_triangle_features(test_data)"
   ]
  },
  {
   "cell_type": "code",
   "execution_count": 50,
   "id": "0df37c1f",
   "metadata": {},
   "outputs": [],
   "source": [
    "# 제거할 변수 목록\n",
    "columns_to_drop = [\n",
    "    'HEAD NORMAL COORDINATE X AXIS(Stage1) Collect Result_Fill1'\n",
    "    , 'HEAD NORMAL COORDINATE Y AXIS(Stage1) Collect Result_Fill1'\n",
    "    , 'HEAD NORMAL COORDINATE Z AXIS(Stage1) Collect Result_Fill1'\n",
    "\n",
    "    , 'HEAD NORMAL COORDINATE X AXIS(Stage2) Collect Result_Fill1'\n",
    "    , 'HEAD NORMAL COORDINATE Y AXIS(Stage2) Collect Result_Fill1'\n",
    "    , 'HEAD NORMAL COORDINATE Z AXIS(Stage2) Collect Result_Fill1'\n",
    "\n",
    "    , 'HEAD NORMAL COORDINATE X AXIS(Stage3) Collect Result_Fill1'\n",
    "    , 'HEAD NORMAL COORDINATE Y AXIS(Stage3) Collect Result_Fill1'\n",
    "    , 'HEAD NORMAL COORDINATE Z AXIS(Stage3) Collect Result_Fill1'\n",
    "]\n",
    "\n",
    "# 변수 제거\n",
    "train_data.drop(columns=columns_to_drop, inplace=True)\n",
    "test_data.drop(columns=columns_to_drop, inplace=True)"
   ]
  },
  {
   "cell_type": "code",
   "execution_count": 51,
   "id": "ac6abb70",
   "metadata": {},
   "outputs": [],
   "source": [
    "import numpy as np\n",
    "\n",
    "# 각 스테이지의 좌표 열 정의\n",
    "stage1_cols = ['HEAD NORMAL COORDINATE X AXIS(Stage1) Collect Result_Fill2',\n",
    "               'HEAD NORMAL COORDINATE Y AXIS(Stage1) Collect Result_Fill2',\n",
    "               'HEAD NORMAL COORDINATE Z AXIS(Stage1) Collect Result_Fill2']\n",
    "\n",
    "stage2_cols = ['HEAD NORMAL COORDINATE X AXIS(Stage2) Collect Result_Fill2',\n",
    "               'HEAD NORMAL COORDINATE Y AXIS(Stage2) Collect Result_Fill2',\n",
    "               'HEAD NORMAL COORDINATE Z AXIS(Stage2) Collect Result_Fill2']\n",
    "\n",
    "stage3_cols = ['HEAD NORMAL COORDINATE X AXIS(Stage3) Collect Result_Fill2',\n",
    "               'HEAD NORMAL COORDINATE Y AXIS(Stage3) Collect Result_Fill2',\n",
    "               'HEAD NORMAL COORDINATE Z AXIS(Stage3) Collect Result_Fill2']\n",
    "\n",
    "# 거리 계산 함수\n",
    "def calculate_distances(data):\n",
    "    data['HEAD NORMAL DISTANCE_STAGE1_STAGE2_Fill2'] = np.sqrt(\n",
    "        (data[stage2_cols[0]] - data[stage1_cols[0]]) ** 2 +\n",
    "        (data[stage2_cols[1]] - data[stage1_cols[1]]) ** 2 +\n",
    "        (data[stage2_cols[2]] - data[stage1_cols[2]]) ** 2\n",
    "    )\n",
    "\n",
    "    data['HEAD NORMAL DISTANCE_STAGE2_STAGE3_Fill2'] = np.sqrt(\n",
    "        (data[stage3_cols[0]] - data[stage2_cols[0]]) ** 2 +\n",
    "        (data[stage3_cols[1]] - data[stage2_cols[1]]) ** 2 +\n",
    "        (data[stage3_cols[2]] - data[stage2_cols[2]]) ** 2\n",
    "    )\n",
    "\n",
    "    data['HEAD NORMAL DISTANCE_STAGE1_STAGE3_Fill2'] = np.sqrt(\n",
    "        (data[stage3_cols[0]] - data[stage1_cols[0]]) ** 2 +\n",
    "        (data[stage3_cols[1]] - data[stage1_cols[1]]) ** 2 +\n",
    "        (data[stage3_cols[2]] - data[stage1_cols[2]]) ** 2\n",
    "    )\n",
    "\n",
    "    return data\n",
    "\n",
    "# train_data에 적용\n",
    "train_data = calculate_distances(train_data)\n",
    "\n",
    "# test_data에 적용\n",
    "test_data = calculate_distances(test_data)"
   ]
  },
  {
   "cell_type": "code",
   "execution_count": 52,
   "id": "4c4cf668",
   "metadata": {},
   "outputs": [],
   "source": [
    "# 제거할 변수 목록\n",
    "columns_to_drop = [\n",
    "    'HEAD NORMAL COORDINATE X AXIS(Stage1) Collect Result_Fill2'\n",
    "    , 'HEAD NORMAL COORDINATE Y AXIS(Stage1) Collect Result_Fill2'\n",
    "    , 'HEAD NORMAL COORDINATE Z AXIS(Stage1) Collect Result_Fill2'\n",
    "\n",
    "    , 'HEAD NORMAL COORDINATE X AXIS(Stage2) Collect Result_Fill2'\n",
    "    , 'HEAD NORMAL COORDINATE Y AXIS(Stage2) Collect Result_Fill2'\n",
    "    , 'HEAD NORMAL COORDINATE Z AXIS(Stage2) Collect Result_Fill2'\n",
    "\n",
    "    , 'HEAD NORMAL COORDINATE X AXIS(Stage3) Collect Result_Fill2'\n",
    "    , 'HEAD NORMAL COORDINATE Y AXIS(Stage3) Collect Result_Fill2'\n",
    "    , 'HEAD NORMAL COORDINATE Z AXIS(Stage3) Collect Result_Fill2'\n",
    "]\n",
    "\n",
    "# 변수 제거\n",
    "train_data.drop(columns=columns_to_drop, inplace=True)\n",
    "test_data.drop(columns=columns_to_drop, inplace=True)"
   ]
  },
  {
   "cell_type": "code",
   "execution_count": 53,
   "id": "9688a787",
   "metadata": {},
   "outputs": [
    {
     "name": "stdout",
     "output_type": "stream",
     "text": [
      "\n",
      " HEAD NORMAL 포함 변수>\n",
      "HEAD NORMAL DISTANCE_STAGE1_STAGE2_Dam\n",
      "HEAD NORMAL DISTANCE_STAGE2_STAGE3_Dam\n",
      "HEAD NORMAL DISTANCE_STAGE1_STAGE3_Dam\n",
      "HEAD NORMAL DISTANCE_TRIANGLE_height_Dam\n",
      "HEAD NORMAL DISTANCE_STAGE1_STAGE2_Fill1\n",
      "HEAD NORMAL DISTANCE_STAGE2_STAGE3_Fill1\n",
      "HEAD NORMAL DISTANCE_STAGE1_STAGE3_Fill1\n",
      "HEAD NORMAL DISTANCE_TRIANGLE_height_Fill1\n",
      "HEAD NORMAL DISTANCE_STAGE1_STAGE2_Fill2\n",
      "HEAD NORMAL DISTANCE_STAGE2_STAGE3_Fill2\n",
      "HEAD NORMAL DISTANCE_STAGE1_STAGE3_Fill2\n"
     ]
    }
   ],
   "source": [
    "# 'HEAD NORMAL'를 포함하는 열 이름 필터링\n",
    "Process_Desc_col = train_data.filter(like='HEAD NORMAL').columns\n",
    "\n",
    "print(\"\\n HEAD NORMAL 포함 변수>\")\n",
    "for col in Process_Desc_col:\n",
    "    print(col)"
   ]
  },
  {
   "cell_type": "code",
   "execution_count": 54,
   "id": "47c86049",
   "metadata": {},
   "outputs": [],
   "source": [
    "# 삭제할 열 이름 정의\n",
    "columns_to_drop = [\n",
    "    'HEAD NORMAL DISTANCE_STAGE1_STAGE2_Dam'\n",
    "    , 'HEAD NORMAL DISTANCE_STAGE2_STAGE3_Dam'\n",
    "    # , 'HEAD NORMAL DISTANCE_STAGE1_STAGE3_Dam'\n",
    "\n",
    "    , 'HEAD NORMAL DISTANCE_STAGE1_STAGE2_Fill1'\n",
    "    , 'HEAD NORMAL DISTANCE_STAGE2_STAGE3_Fill1'\n",
    "    # , 'HEAD NORMAL DISTANCE_STAGE1_STAGE3_Fill1'\n",
    "\n",
    "    # , 'HEAD NORMAL DISTANCE_STAGE1_STAGE2_Fill2'\n",
    "    # , 'HEAD NORMAL DISTANCE_STAGE2_STAGE3_Fill2'\n",
    "    # , 'HEAD NORMAL DISTANCE_STAGE1_STAGE3_Fill2'\n",
    "]\n",
    "\n",
    "# train_data에서 열 삭제\n",
    "train_data = train_data.drop(columns=columns_to_drop)\n",
    "\n",
    "# test_data에서 열 삭제\n",
    "test_data = test_data.drop(columns=columns_to_drop)"
   ]
  },
  {
   "cell_type": "code",
   "execution_count": 55,
   "id": "0fa789f2",
   "metadata": {},
   "outputs": [
    {
     "name": "stdout",
     "output_type": "stream",
     "text": [
      "\n",
      " HEAD NORMAL 포함 변수>\n",
      "HEAD NORMAL DISTANCE_STAGE1_STAGE3_Dam\n",
      "HEAD NORMAL DISTANCE_TRIANGLE_height_Dam\n",
      "HEAD NORMAL DISTANCE_STAGE1_STAGE3_Fill1\n",
      "HEAD NORMAL DISTANCE_TRIANGLE_height_Fill1\n",
      "HEAD NORMAL DISTANCE_STAGE1_STAGE2_Fill2\n",
      "HEAD NORMAL DISTANCE_STAGE2_STAGE3_Fill2\n",
      "HEAD NORMAL DISTANCE_STAGE1_STAGE3_Fill2\n"
     ]
    }
   ],
   "source": [
    "# 'HEAD NORMAL'를 포함하는 열 이름 필터링\n",
    "Process_Desc_col = train_data.filter(like='HEAD NORMAL').columns\n",
    "\n",
    "print(\"\\n HEAD NORMAL 포함 변수>\")\n",
    "for col in Process_Desc_col:\n",
    "    print(col)"
   ]
  },
  {
   "cell_type": "markdown",
   "id": "c333a2e0",
   "metadata": {},
   "source": [
    "### 3. RESIN(처리x)"
   ]
  },
  {
   "cell_type": "code",
   "execution_count": 56,
   "id": "91c64cbe",
   "metadata": {},
   "outputs": [
    {
     "name": "stdout",
     "output_type": "stream",
     "text": [
      "\n",
      "'RESIN' 또는 'Dispense Volume' 포함 변수>\n",
      "DISCHARGED SPEED OF RESIN Collect Result_Dam\n",
      "DISCHARGED TIME OF RESIN(Stage1) Collect Result_Dam\n",
      "DISCHARGED TIME OF RESIN(Stage2) Collect Result_Dam\n",
      "DISCHARGED TIME OF RESIN(Stage3) Collect Result_Dam\n",
      "Dispense Volume(Stage1) Collect Result_Dam\n",
      "Dispense Volume(Stage2) Collect Result_Dam\n",
      "Dispense Volume(Stage3) Collect Result_Dam\n",
      "DISCHARGED SPEED OF RESIN Collect Result_Fill1\n",
      "DISCHARGED TIME OF RESIN(Stage1) Collect Result_Fill1\n",
      "DISCHARGED TIME OF RESIN(Stage2) Collect Result_Fill1\n",
      "DISCHARGED TIME OF RESIN(Stage3) Collect Result_Fill1\n",
      "Dispense Volume(Stage1) Collect Result_Fill1\n",
      "Dispense Volume(Stage2) Collect Result_Fill1\n",
      "Dispense Volume(Stage3) Collect Result_Fill1\n"
     ]
    }
   ],
   "source": [
    "# 'RESIN' 또는 'Dispense Volume'을 포함하는 열 이름 필터링\n",
    "Process_Desc_col = train_data.filter(regex='RESIN|Dispense Volume').columns\n",
    "\n",
    "print(\"\\n'RESIN' 또는 'Dispense Volume' 포함 변수>\")\n",
    "for col in Process_Desc_col:\n",
    "    print(col)"
   ]
  },
  {
   "cell_type": "code",
   "execution_count": 57,
   "id": "4652063e",
   "metadata": {},
   "outputs": [
    {
     "name": "stdout",
     "output_type": "stream",
     "text": [
      "Grouped by: Dispense Volume(Stage1) Collect Result_Dam, Dispense Volume(Stage2) Collect Result_Dam, Dispense Volume(Stage3) Collect Result_Dam\n",
      "\n",
      "                  group  'AdNormal' count     ratio  Total\n",
      "0    (0.67, 0.26, 1.49)                 8  0.075472    106\n",
      "1    (0.67, 0.27, 1.49)               277  0.086293   3210\n",
      "2    (0.67, 0.28, 1.49)                 0  0.000000      2\n",
      "3    (0.67, 0.33, 1.49)                51  0.099415    513\n",
      "4    (0.67, 0.34, 1.49)               467  0.082276   5676\n",
      "..                  ...               ...       ...    ...\n",
      "155  (1.63, 0.92, 1.49)                41  0.048810    840\n",
      "156  (1.63, 0.93, 1.49)                46  0.080844    569\n",
      "157  (1.63, 0.94, 1.49)                34  0.068273    498\n",
      "158  (2.34, 0.71, 1.49)                 0  0.000000      1\n",
      "159  (2.34, 0.72, 1.49)                 0  0.000000      3\n",
      "\n",
      "[160 rows x 4 columns]\n"
     ]
    }
   ],
   "source": [
    "summarize_group(train_data, [\n",
    "# 'Dispenser_1'\n",
    "# , 'Dispenser_2'\n",
    "# , 'DISCHARGED SPEED OF RESIN Collect Result_Dam'\n",
    "# , 'DISCHARGED TIME OF RESIN(Stage1) Collect Result_Dam'\n",
    "# , 'DISCHARGED TIME OF RESIN(Stage2) Collect Result_Dam'\n",
    "# , 'DISCHARGED TIME OF RESIN(Stage3) Collect Result_Dam'\n",
    " 'Dispense Volume(Stage1) Collect Result_Dam'\n",
    ", 'Dispense Volume(Stage2) Collect Result_Dam'\n",
    ", 'Dispense Volume(Stage3) Collect Result_Dam'\n",
    "# , 'DISCHARGED SPEED OF RESIN Collect Result_Fill1'\n",
    "# , 'DISCHARGED TIME OF RESIN(Stage1) Collect Result_Fill1'\n",
    "# , 'DISCHARGED TIME OF RESIN(Stage2) Collect Result_Fill1'\n",
    "# , 'DISCHARGED TIME OF RESIN(Stage3) Collect Result_Fill1'\n",
    "# , 'Dispense Volume(Stage1) Collect Result_Fill1'\n",
    "# , 'Dispense Volume(Stage2) Collect Result_Fill1'\n",
    "# , 'Dispense Volume(Stage3) Collect Result_Fill1'\n",
    "])"
   ]
  },
  {
   "cell_type": "code",
   "execution_count": 57,
   "id": "b1d5d93e",
   "metadata": {},
   "outputs": [],
   "source": [
    "# # 파생 변수 생성 함수\n",
    "# def create_time_speed_product(df):\n",
    "#     stages = ['Stage1', 'Stage2', 'Stage3']\n",
    "#     for stage in stages:\n",
    "#         time_col = f'DISCHARGED TIME OF RESIN({stage}) Collect Result_Dam'\n",
    "#         speed_col = 'DISCHARGED SPEED OF RESIN Collect Result_Dam'\n",
    "#         new_col_name = f'RESIN Time_x_Speed_{stage}_Dam'\n",
    "#         df[new_col_name] = df[time_col] * df[speed_col]\n",
    "\n",
    "# # 함수 적용\n",
    "# create_time_speed_product(train_data)\n",
    "# create_time_speed_product(test_data)"
   ]
  },
  {
   "cell_type": "code",
   "execution_count": 58,
   "id": "0ebb3079",
   "metadata": {},
   "outputs": [],
   "source": [
    "# summarize_group(train_data, [\n",
    "# 'Dispenser_1'\n",
    "# , 'Dispenser_2'\n",
    "# , 'DISCHARGED SPEED OF RESIN Collect Result_Dam'\n",
    "\n",
    "# ])"
   ]
  },
  {
   "cell_type": "code",
   "execution_count": 59,
   "id": "dd57994f",
   "metadata": {},
   "outputs": [],
   "source": [
    "# # 파생 변수 생성 함수\n",
    "# def create_volume_time_ratio(df):\n",
    "#     stages = ['Stage1', 'Stage2', 'Stage3']\n",
    "#     for stage in stages:\n",
    "#         time_col = f'DISCHARGED TIME OF RESIN({stage}) Collect Result_Dam'\n",
    "#         volume_col = f'Dispense Volume({stage}) Collect Result_Dam'\n",
    "#         new_col_name = f'RESIN Volume_Time_Ratio_{stage}_Dam'\n",
    "#         df[new_col_name] = df[volume_col] / df[time_col]\n",
    "\n",
    "# # 함수 적용\n",
    "# create_volume_time_ratio(train_data)\n",
    "# create_volume_time_ratio(test_data)"
   ]
  },
  {
   "cell_type": "code",
   "execution_count": 60,
   "id": "2b42b1b4",
   "metadata": {},
   "outputs": [],
   "source": [
    "# # 출력 옵션을 설정\n",
    "# pd.set_option('display.max_rows', None)\n",
    "\n",
    "\n",
    "# # 출력 옵션을 원래대로\n",
    "# pd.reset_option('display.max_rows')"
   ]
  },
  {
   "cell_type": "code",
   "execution_count": 61,
   "id": "9df4ff2f",
   "metadata": {},
   "outputs": [],
   "source": [
    "# summarize_group(train_data, [\n",
    "# 'Dispenser_1'\n",
    "# , 'Dispenser_2'\n",
    "# , 'DISCHARGED SPEED OF RESIN Collect Result_Dam'\n",
    "# , 'DISCHARGED TIME OF RESIN(Stage1) Collect Result_Dam'\n",
    "# , 'DISCHARGED TIME OF RESIN(Stage2) Collect Result_Dam'\n",
    "# , 'DISCHARGED TIME OF RESIN(Stage3) Collect Result_Dam'\n",
    "# , 'Dispense Volume(Stage1) Collect Result_Dam'\n",
    "# , 'Dispense Volume(Stage2) Collect Result_Dam'\n",
    "# , 'Dispense Volume(Stage3) Collect Result_Dam'\n",
    "# # , 'DISCHARGED SPEED OF RESIN Collect Result_Fill1'\n",
    "# # , 'DISCHARGED TIME OF RESIN(Stage1) Collect Result_Fill1'\n",
    "# # , 'DISCHARGED TIME OF RESIN(Stage2) Collect Result_Fill1'\n",
    "# # , 'DISCHARGED TIME OF RESIN(Stage3) Collect Result_Fill1'\n",
    "# # , 'Dispense Volume(Stage1) Collect Result_Fill1'\n",
    "# # , 'Dispense Volume(Stage2) Collect Result_Fill1'\n",
    "# # , 'Dispense Volume(Stage3) Collect Result_Fill1'\n",
    "# # , 'RESIN Time_x_Speed_Stage1_Dam'\n",
    "# # , 'RESIN Time_x_Speed_Stage2_Dam'\n",
    "# # , 'RESIN Time_x_Speed_Stage3_Dam'\n",
    "# #  'RESIN Volume_Time_Ratio_Stage1_Dam'\n",
    "# # , 'RESIN Volume_Time_Ratio_Stage2_Dam'\n",
    "# # , 'RESIN Volume_Time_Ratio_Stage3_Dam'\n",
    "# ])"
   ]
  },
  {
   "cell_type": "code",
   "execution_count": 62,
   "id": "f6643f95",
   "metadata": {},
   "outputs": [],
   "source": [
    "# # 'RESIN' 또는 'Dispense Volume'을 포함하는 열 이름 필터링\n",
    "# Process_Desc_col = train_data.filter(regex='RESIN|Dispense Volume').columns\n",
    "\n",
    "# print(\"\\n'RESIN' 또는 'Dispense Volume' 포함 변수>\")\n",
    "# for col in Process_Desc_col:\n",
    "#     print(col)"
   ]
  },
  {
   "cell_type": "markdown",
   "id": "81ac6aad",
   "metadata": {},
   "source": [
    "### 4. Distance Speed Collect Result_Dam"
   ]
  },
  {
   "cell_type": "markdown",
   "id": "14f6a2ba",
   "metadata": {},
   "source": [
    "Dam 공정의 Circle, Line 길이 변수들 처리"
   ]
  },
  {
   "cell_type": "code",
   "execution_count": 58,
   "id": "8f1ca6d9",
   "metadata": {},
   "outputs": [
    {
     "name": "stdout",
     "output_type": "stream",
     "text": [
      "\n",
      " Distance Speed Collect Result_Dam 포함 변수>\n",
      "Stage1 Circle1 Distance Speed Collect Result_Dam\n",
      "Stage1 Circle2 Distance Speed Collect Result_Dam\n",
      "Stage1 Circle3 Distance Speed Collect Result_Dam\n",
      "Stage1 Circle4 Distance Speed Collect Result_Dam\n",
      "Stage1 Line1 Distance Speed Collect Result_Dam\n",
      "Stage1 Line2 Distance Speed Collect Result_Dam\n",
      "Stage1 Line3 Distance Speed Collect Result_Dam\n",
      "Stage1 Line4 Distance Speed Collect Result_Dam\n",
      "Stage2 Circle1 Distance Speed Collect Result_Dam\n",
      "Stage2 Circle2 Distance Speed Collect Result_Dam\n",
      "Stage2 Circle3 Distance Speed Collect Result_Dam\n",
      "Stage2 Circle4 Distance Speed Collect Result_Dam\n",
      "Stage2 Line1 Distance Speed Collect Result_Dam\n",
      "Stage2 Line2 Distance Speed Collect Result_Dam\n",
      "Stage2 Line3 Distance Speed Collect Result_Dam\n",
      "Stage2 Line4 Distance Speed Collect Result_Dam\n",
      "Stage3 Circle1 Distance Speed Collect Result_Dam\n",
      "Stage3 Circle2 Distance Speed Collect Result_Dam\n",
      "Stage3 Circle3 Distance Speed Collect Result_Dam\n",
      "Stage3 Circle4 Distance Speed Collect Result_Dam\n",
      "Stage3 Line1 Distance Speed Collect Result_Dam\n",
      "Stage3 Line2 Distance Speed Collect Result_Dam\n",
      "Stage3 Line3 Distance Speed Collect Result_Dam\n",
      "Stage3 Line4 Distance Speed Collect Result_Dam\n"
     ]
    }
   ],
   "source": [
    "# 'Distance Speed Collect Result_Dam'를 포함하는 열 이름 필터링\n",
    "Process_Desc_col = train_data.filter(like='Distance Speed Collect Result_Dam').columns\n",
    "\n",
    "print(\"\\n Distance Speed Collect Result_Dam 포함 변수>\")\n",
    "for col in Process_Desc_col:\n",
    "    print(col)"
   ]
  },
  {
   "cell_type": "markdown",
   "id": "883ac6dc",
   "metadata": {},
   "source": [
    "Stage 별 Speed 값들의 평균 계산"
   ]
  },
  {
   "cell_type": "code",
   "execution_count": 59,
   "id": "74dc87f7",
   "metadata": {},
   "outputs": [],
   "source": [
    "def add_stage_totals(data, stages, suffix='_Distance_Speed_avg_Dam'):\n",
    "    for stage in stages:\n",
    "        stage_cols = data.filter(like=stage).columns\n",
    "        data[f'{stage}{suffix}'] = data[stage_cols].sum(axis=1) / 8\n",
    "\n",
    "stages = ['Stage1', 'Stage2', 'Stage3']\n",
    "\n",
    "# train_data에 대해 파생변수 추가\n",
    "add_stage_totals(train_data, stages)\n",
    "\n",
    "# test_data에 대해 파생변수 추가\n",
    "add_stage_totals(test_data, stages)"
   ]
  },
  {
   "cell_type": "code",
   "execution_count": 60,
   "id": "0a453df3",
   "metadata": {},
   "outputs": [],
   "source": [
    "# 제거할 변수 목록\n",
    "columns_to_drop = [\n",
    "'Stage1 Circle1 Distance Speed Collect Result_Dam'\n",
    ", 'Stage1 Circle2 Distance Speed Collect Result_Dam'\n",
    ", 'Stage1 Circle3 Distance Speed Collect Result_Dam'\n",
    ", 'Stage1 Circle4 Distance Speed Collect Result_Dam'\n",
    ", 'Stage1 Line1 Distance Speed Collect Result_Dam'\n",
    ", 'Stage1 Line2 Distance Speed Collect Result_Dam'\n",
    ", 'Stage1 Line3 Distance Speed Collect Result_Dam'\n",
    ", 'Stage1 Line4 Distance Speed Collect Result_Dam'\n",
    ", 'Stage2 Circle1 Distance Speed Collect Result_Dam'\n",
    ", 'Stage2 Circle2 Distance Speed Collect Result_Dam'\n",
    ", 'Stage2 Circle3 Distance Speed Collect Result_Dam'\n",
    ", 'Stage2 Circle4 Distance Speed Collect Result_Dam'\n",
    ", 'Stage2 Line1 Distance Speed Collect Result_Dam'\n",
    ", 'Stage2 Line2 Distance Speed Collect Result_Dam'\n",
    ", 'Stage2 Line3 Distance Speed Collect Result_Dam'\n",
    ", 'Stage2 Line4 Distance Speed Collect Result_Dam'\n",
    ", 'Stage3 Circle1 Distance Speed Collect Result_Dam'\n",
    ", 'Stage3 Circle2 Distance Speed Collect Result_Dam'\n",
    ", 'Stage3 Circle3 Distance Speed Collect Result_Dam'\n",
    ", 'Stage3 Circle4 Distance Speed Collect Result_Dam'\n",
    ", 'Stage3 Line1 Distance Speed Collect Result_Dam'\n",
    ", 'Stage3 Line2 Distance Speed Collect Result_Dam'\n",
    ", 'Stage3 Line3 Distance Speed Collect Result_Dam'\n",
    ", 'Stage3 Line4 Distance Speed Collect Result_Dam'\n",
    "]\n",
    "\n",
    "# 변수 제거\n",
    "train_data.drop(columns=columns_to_drop, inplace=True)\n",
    "test_data.drop(columns=columns_to_drop, inplace=True)"
   ]
  },
  {
   "cell_type": "code",
   "execution_count": 61,
   "id": "2d2c9ab9",
   "metadata": {},
   "outputs": [
    {
     "name": "stdout",
     "output_type": "stream",
     "text": [
      "\n",
      " Distance_Speed_avg_Dam 포함 변수>\n",
      "Stage1_Distance_Speed_avg_Dam\n",
      "Stage2_Distance_Speed_avg_Dam\n",
      "Stage3_Distance_Speed_avg_Dam\n"
     ]
    }
   ],
   "source": [
    "# 'Distance_Speed_avg_Dam'를 포함하는 열 이름 필터링\n",
    "Process_Desc_col = train_data.filter(like='Distance_Speed_avg_Dam').columns\n",
    "\n",
    "print(\"\\n Distance_Speed_avg_Dam 포함 변수>\")\n",
    "for col in Process_Desc_col:\n",
    "    print(col)"
   ]
  },
  {
   "cell_type": "markdown",
   "id": "ae3a4274",
   "metadata": {},
   "source": [
    "### 5. THICKNESS"
   ]
  },
  {
   "cell_type": "code",
   "execution_count": 62,
   "id": "d1907522",
   "metadata": {},
   "outputs": [
    {
     "name": "stdout",
     "output_type": "stream",
     "text": [
      "\n",
      " THICKNESS 포함 변수>\n",
      "THICKNESS 1 Collect Result_Dam\n",
      "THICKNESS 2 Collect Result_Dam\n",
      "THICKNESS 3 Collect Result_Dam\n"
     ]
    }
   ],
   "source": [
    "# 'THICKNESS'를 포함하는 열 이름 필터링\n",
    "Process_Desc_col = train_data.filter(like='THICKNESS').columns\n",
    "\n",
    "print(\"\\n THICKNESS 포함 변수>\")\n",
    "for col in Process_Desc_col:\n",
    "    print(col)"
   ]
  },
  {
   "cell_type": "code",
   "execution_count": 63,
   "id": "c3ae04ba",
   "metadata": {},
   "outputs": [],
   "source": [
    "# 새로운 파생변수 생성 함수\n",
    "def create_total_thickness_dam(data):\n",
    "    data['THICKNESS_total_Dam'] = (\n",
    "        data['THICKNESS 1 Collect Result_Dam']**2 \n",
    "        + data['THICKNESS 2 Collect Result_Dam']**2 \n",
    "        + data['THICKNESS 3 Collect Result_Dam']**2\n",
    "    )\n",
    "    # 기존 변수 삭제\n",
    "    data.drop(columns=[\n",
    "        'THICKNESS 1 Collect Result_Dam',\n",
    "        'THICKNESS 2 Collect Result_Dam',\n",
    "        'THICKNESS 3 Collect Result_Dam'\n",
    "    ], inplace=True)\n",
    "    return data\n",
    "\n",
    "train_data = create_total_thickness_dam(train_data)\n",
    "test_data = create_total_thickness_dam(test_data)"
   ]
  },
  {
   "cell_type": "code",
   "execution_count": 64,
   "id": "af96f1a2",
   "metadata": {},
   "outputs": [
    {
     "name": "stdout",
     "output_type": "stream",
     "text": [
      "\n",
      " THICKNESS 포함 변수>\n",
      "THICKNESS_total_Dam\n"
     ]
    }
   ],
   "source": [
    "# 'THICKNESS'를 포함하는 열 이름 필터링\n",
    "Process_Desc_col = train_data.filter(like='THICKNESS').columns\n",
    "\n",
    "print(\"\\n THICKNESS 포함 변수>\")\n",
    "for col in Process_Desc_col:\n",
    "    print(col)"
   ]
  },
  {
   "cell_type": "markdown",
   "id": "74f4349a",
   "metadata": {},
   "source": [
    "### 6. AutoClave"
   ]
  },
  {
   "cell_type": "code",
   "execution_count": 65,
   "id": "27ac3556",
   "metadata": {},
   "outputs": [
    {
     "name": "stdout",
     "output_type": "stream",
     "text": [
      "<AutoClave 공정 관련 변수>\n",
      "1st Pressure Collect Result_AutoClave\n",
      "1st Pressure Unit Time_AutoClave\n",
      "2nd Pressure Collect Result_AutoClave\n",
      "2nd Pressure Unit Time_AutoClave\n",
      "3rd Pressure Collect Result_AutoClave\n",
      "3rd Pressure Unit Time_AutoClave\n",
      "Chamber Temp. Collect Result_AutoClave\n",
      "Chamber Temp. Unit Time_AutoClave\n",
      "Chamber_Temp_OKNG_AutoClave\n"
     ]
    }
   ],
   "source": [
    "# '_AutoClave'를 포함하는 열 이름 필터링\n",
    "Process_Desc_col = train_data.filter(like='_AutoClave').columns\n",
    "\n",
    "# 필터링된 열 이름 출력\n",
    "print(\"<AutoClave 공정 관련 변수>\")\n",
    "for col in Process_Desc_col:\n",
    "    print(col)"
   ]
  },
  {
   "cell_type": "code",
   "execution_count": 66,
   "id": "b3c024ca",
   "metadata": {},
   "outputs": [],
   "source": [
    "# 파생변수 생성\n",
    "train_data['1st_Pressure_x_AutoClave'] = train_data['1st Pressure Collect Result_AutoClave'] * train_data['1st Pressure Unit Time_AutoClave'] \n",
    "test_data['1st_Pressure_x_AutoClave'] = test_data['1st Pressure Collect Result_AutoClave'] * test_data['1st Pressure Unit Time_AutoClave'] \n",
    "\n",
    "train_data['2nd_Pressure_x_AutoClave'] = train_data['2nd Pressure Collect Result_AutoClave'] * train_data['2nd Pressure Unit Time_AutoClave'] \n",
    "test_data['2nd_Pressure_x_AutoClave'] = test_data['2nd Pressure Collect Result_AutoClave'] * test_data['2nd Pressure Unit Time_AutoClave'] \n",
    "\n",
    "train_data['3rd_Pressure_x_AutoClave'] = train_data['3rd Pressure Collect Result_AutoClave'] * train_data['3rd Pressure Unit Time_AutoClave'] \n",
    "test_data['3rd_Pressure_x_AutoClave'] = test_data['3rd Pressure Collect Result_AutoClave'] * test_data['3rd Pressure Unit Time_AutoClave'] \n",
    "\n",
    "train_data['All_Pressure_x_AutoClave'] = train_data['1st_Pressure_x_AutoClave'] + train_data['2nd_Pressure_x_AutoClave'] + train_data['3rd_Pressure_x_AutoClave']\n",
    "test_data['All_Pressure_x_AutoClave'] = test_data['1st_Pressure_x_AutoClave'] + test_data['2nd_Pressure_x_AutoClave'] + test_data['3rd_Pressure_x_AutoClave']\n",
    "\n",
    "train_data['All_Pressure_avg_AutoClave'] = train_data['All_Pressure_x_AutoClave'] / train_data['Chamber Temp. Unit Time_AutoClave']\n",
    "test_data['All_Pressure_avg_AutoClave'] = test_data['All_Pressure_x_AutoClave'] / test_data['Chamber Temp. Unit Time_AutoClave']\n",
    "\n",
    "train_data['Chamber_Temp_x_AutoClave'] = train_data['Chamber Temp. Collect Result_AutoClave'] * train_data['Chamber Temp. Unit Time_AutoClave']\n",
    "test_data['Chamber_Temp_x_AutoClave'] = test_data['Chamber Temp. Collect Result_AutoClave'] * test_data['Chamber Temp. Unit Time_AutoClave']\n",
    "\n",
    "train_data['All_Pressure_frac_Chamber_Temp_AutoClave'] = train_data['All_Pressure_x_AutoClave'] / train_data['Chamber_Temp_x_AutoClave']\n",
    "test_data['All_Pressure_frac_Chamber_Temp_AutoClave'] = test_data['All_Pressure_x_AutoClave'] / test_data['Chamber_Temp_x_AutoClave']\n"
   ]
  },
  {
   "cell_type": "code",
   "execution_count": 67,
   "id": "a69ad859",
   "metadata": {},
   "outputs": [
    {
     "name": "stdout",
     "output_type": "stream",
     "text": [
      "<AutoClave 공정 관련 변수>\n",
      "1st Pressure Collect Result_AutoClave\n",
      "1st Pressure Unit Time_AutoClave\n",
      "2nd Pressure Collect Result_AutoClave\n",
      "2nd Pressure Unit Time_AutoClave\n",
      "3rd Pressure Collect Result_AutoClave\n",
      "3rd Pressure Unit Time_AutoClave\n",
      "Chamber Temp. Collect Result_AutoClave\n",
      "Chamber Temp. Unit Time_AutoClave\n",
      "Chamber_Temp_OKNG_AutoClave\n",
      "1st_Pressure_x_AutoClave\n",
      "2nd_Pressure_x_AutoClave\n",
      "3rd_Pressure_x_AutoClave\n",
      "All_Pressure_x_AutoClave\n",
      "All_Pressure_avg_AutoClave\n",
      "Chamber_Temp_x_AutoClave\n",
      "All_Pressure_frac_Chamber_Temp_AutoClave\n"
     ]
    }
   ],
   "source": [
    "# '_AutoClave'를 포함하는 열 이름 필터링\n",
    "Process_Desc_col = train_data.filter(like='_AutoClave').columns\n",
    "\n",
    "# 필터링된 열 이름 출력\n",
    "print(\"<AutoClave 공정 관련 변수>\")\n",
    "for col in Process_Desc_col:\n",
    "    print(col)"
   ]
  },
  {
   "cell_type": "code",
   "execution_count": 68,
   "id": "3e714beb",
   "metadata": {},
   "outputs": [],
   "source": [
    "# 제거할 변수 목록\n",
    "columns_to_drop = [\n",
    "# '1st Pressure Collect Result_AutoClave'\n",
    "'1st Pressure Unit Time_AutoClave'\n",
    "# , '2nd Pressure Collect Result_AutoClave'\n",
    ", '2nd Pressure Unit Time_AutoClave'\n",
    "# , '3rd Pressure Collect Result_AutoClave'\n",
    ", '3rd Pressure Unit Time_AutoClave'\n",
    "# , 'Chamber Temp. Collect Result_AutoClave'\n",
    "# , 'Chamber Temp. Unit Time_AutoClave'\n",
    "\n",
    "# , '1st_Pressure_x_AutoClave'\n",
    "# , '2nd_Pressure_x_AutoClave'\n",
    "# , '3rd_Pressure_x_AutoClave'\n",
    ", 'All_Pressure_x_AutoClave'\n",
    "# , 'All_Pressure_avg_AutoClave'\n",
    "# , 'Chamber_Temp_x_AutoClave'\n",
    "# , 'All_Pressure_frac_Chamber_Temp_AutoClave'\n",
    "]\n",
    "\n",
    "# 변수 제거\n",
    "train_data.drop(columns=columns_to_drop, inplace=True)\n",
    "test_data.drop(columns=columns_to_drop, inplace=True)"
   ]
  },
  {
   "cell_type": "code",
   "execution_count": 69,
   "id": "20ce50bc",
   "metadata": {},
   "outputs": [
    {
     "name": "stdout",
     "output_type": "stream",
     "text": [
      "<AutoClave 공정 관련 변수>\n",
      "1st Pressure Collect Result_AutoClave\n",
      "2nd Pressure Collect Result_AutoClave\n",
      "3rd Pressure Collect Result_AutoClave\n",
      "Chamber Temp. Collect Result_AutoClave\n",
      "Chamber Temp. Unit Time_AutoClave\n",
      "Chamber_Temp_OKNG_AutoClave\n",
      "1st_Pressure_x_AutoClave\n",
      "2nd_Pressure_x_AutoClave\n",
      "3rd_Pressure_x_AutoClave\n",
      "All_Pressure_avg_AutoClave\n",
      "Chamber_Temp_x_AutoClave\n",
      "All_Pressure_frac_Chamber_Temp_AutoClave\n"
     ]
    }
   ],
   "source": [
    "# '_AutoClave'를 포함하는 열 이름 필터링\n",
    "Process_Desc_col = train_data.filter(like='_AutoClave').columns\n",
    "\n",
    "# 필터링된 열 이름 출력\n",
    "print(\"<AutoClave 공정 관련 변수>\")\n",
    "for col in Process_Desc_col:\n",
    "    print(col)"
   ]
  },
  {
   "cell_type": "markdown",
   "id": "61a69dcf",
   "metadata": {},
   "source": [
    "### 7. ETC.."
   ]
  },
  {
   "cell_type": "markdown",
   "id": "f41b05ca",
   "metadata": {},
   "source": [
    "7-1. workorder"
   ]
  },
  {
   "cell_type": "code",
   "execution_count": 70,
   "id": "e2e4240f",
   "metadata": {},
   "outputs": [],
   "source": [
    "# 타겟 변수를 0과 1로 변환\n",
    "train_data['target_binary'] = train_data['target'].apply(lambda x: 1 if x == 'AbNormal' else 0)\n",
    "\n",
    "# Workorder 변수의 값에 대한 타겟 변수 비율 계산\n",
    "workorder_target_ratio = train_data.groupby('Workorder')['target_binary'].mean()\n",
    "\n",
    "# 파생 변수 생성 함수\n",
    "def create_derived_variable(row, ratio_dict, threshold):\n",
    "    return 1 if ratio_dict.get(row['Workorder'], 0) >= threshold else 0\n",
    "\n",
    "# 파생 변수 생성\n",
    "train_data['Workorder_0.9'] = train_data.apply(create_derived_variable, axis=1, ratio_dict=workorder_target_ratio, threshold=0.9)\n",
    "train_data['Workorder_0.6'] = train_data.apply(create_derived_variable, axis=1, ratio_dict=workorder_target_ratio, threshold=0.6)\n",
    "\n",
    "test_data['Workorder_0.9'] = test_data.apply(create_derived_variable, axis=1, ratio_dict=workorder_target_ratio, threshold=0.9)\n",
    "test_data['Workorder_0.6'] = test_data.apply(create_derived_variable, axis=1, ratio_dict=workorder_target_ratio, threshold=0.6)\n",
    "\n",
    "# 불필요한 변수 제거\n",
    "train_data.drop(['target_binary'], axis=1, inplace=True)"
   ]
  },
  {
   "cell_type": "markdown",
   "id": "da48c3f8",
   "metadata": {},
   "source": [
    "7-2. Machine Tact time"
   ]
  },
  {
   "cell_type": "code",
   "execution_count": 71,
   "id": "4d866fb6",
   "metadata": {},
   "outputs": [],
   "source": [
    "### 총시간 대비 비율 변수\n",
    "def calculate_total_time_and_ratios(data):\n",
    "    data['total_time'] = (\n",
    "        data['Machine Tact time Collect Result_Dam'] +\n",
    "        data['Machine Tact time Collect Result_Fill1'] +\n",
    "        data['Machine Tact time Collect Result_Fill2'] +\n",
    "        data['Chamber Temp. Unit Time_AutoClave']\n",
    "    )\n",
    "    data['time_ratio_Dam'] = (data['Machine Tact time Collect Result_Dam'] / data['total_time']).round(3)\n",
    "    data['time_ratio_Fill1'] = (data['Machine Tact time Collect Result_Fill1'] / data['total_time']).round(3)\n",
    "    data['time_ratio_Fill2'] = (data['Machine Tact time Collect Result_Fill2'] / data['total_time']).round(3)\n",
    "    data['time_ratio_AutoClave'] = (data['Chamber Temp. Unit Time_AutoClave'] / data['total_time']).round(3)\n",
    "    return data\n",
    "\n",
    "# train_data와 test_data에 함수 적용\n",
    "train_data = calculate_total_time_and_ratios(train_data)\n",
    "test_data = calculate_total_time_and_ratios(test_data)"
   ]
  },
  {
   "cell_type": "code",
   "execution_count": 72,
   "id": "dec2a803",
   "metadata": {},
   "outputs": [],
   "source": [
    "# 변수 제거\n",
    "train_data.drop(columns=[\n",
    "    'total_time'\n",
    "    , 'Machine Tact time Collect Result_Dam'\n",
    "    , 'Machine Tact time Collect Result_Fill1'\n",
    "    , 'Machine Tact time Collect Result_Fill2'\n",
    "    , 'Chamber Temp. Unit Time_AutoClave'], inplace=True)\n",
    "\n",
    "test_data.drop(columns=[\n",
    "    'total_time'\n",
    "    , 'Machine Tact time Collect Result_Dam'\n",
    "    , 'Machine Tact time Collect Result_Fill1'\n",
    "    , 'Machine Tact time Collect Result_Fill2'\n",
    "    , 'Chamber Temp. Unit Time_AutoClave'], inplace=True)"
   ]
  },
  {
   "cell_type": "markdown",
   "id": "3ad7941e",
   "metadata": {},
   "source": [
    "---"
   ]
  },
  {
   "cell_type": "code",
   "execution_count": 73,
   "id": "49a7d114",
   "metadata": {},
   "outputs": [
    {
     "name": "stdout",
     "output_type": "stream",
     "text": [
      "<class 'pandas.core.frame.DataFrame'>\n",
      "RangeIndex: 40506 entries, 0 to 40505\n",
      "Data columns (total 60 columns):\n",
      " #   Column                                                 Non-Null Count  Dtype  \n",
      "---  ------                                                 --------------  -----  \n",
      " 0   Model.Suffix                                           40506 non-null  object \n",
      " 1   Workorder                                              40506 non-null  object \n",
      " 2   DISCHARGED SPEED OF RESIN Collect Result_Dam           40506 non-null  int64  \n",
      " 3   DISCHARGED TIME OF RESIN(Stage1) Collect Result_Dam    40506 non-null  float64\n",
      " 4   DISCHARGED TIME OF RESIN(Stage2) Collect Result_Dam    40506 non-null  float64\n",
      " 5   DISCHARGED TIME OF RESIN(Stage3) Collect Result_Dam    40506 non-null  float64\n",
      " 6   Dispense Volume(Stage1) Collect Result_Dam             40506 non-null  float64\n",
      " 7   Dispense Volume(Stage2) Collect Result_Dam             40506 non-null  float64\n",
      " 8   Dispense Volume(Stage3) Collect Result_Dam             40506 non-null  float64\n",
      " 9   Head Clean Position Z Collect Result_Dam               40506 non-null  float64\n",
      " 10  Head Purge Position Z Collect Result_Dam               40506 non-null  float64\n",
      " 11  Head Zero Position Y Collect Result_Dam                40506 non-null  float64\n",
      " 12  Head Zero Position Z Collect Result_Dam                40506 non-null  float64\n",
      " 13  WorkMode Collect Result                                40506 non-null  float64\n",
      " 14  1st Pressure Collect Result_AutoClave                  40506 non-null  float64\n",
      " 15  2nd Pressure Collect Result_AutoClave                  40506 non-null  float64\n",
      " 16  3rd Pressure Collect Result_AutoClave                  40506 non-null  float64\n",
      " 17  Chamber Temp. Collect Result_AutoClave                 40506 non-null  int64  \n",
      " 18  DISCHARGED SPEED OF RESIN Collect Result_Fill1         40506 non-null  float64\n",
      " 19  DISCHARGED TIME OF RESIN(Stage1) Collect Result_Fill1  40506 non-null  float64\n",
      " 20  DISCHARGED TIME OF RESIN(Stage2) Collect Result_Fill1  40506 non-null  float64\n",
      " 21  DISCHARGED TIME OF RESIN(Stage3) Collect Result_Fill1  40506 non-null  float64\n",
      " 22  Dispense Volume(Stage1) Collect Result_Fill1           40506 non-null  float64\n",
      " 23  Dispense Volume(Stage2) Collect Result_Fill1           40506 non-null  float64\n",
      " 24  Dispense Volume(Stage3) Collect Result_Fill1           40506 non-null  float64\n",
      " 25  Head Purge Position Z Collect Result_Fill1             40506 non-null  int64  \n",
      " 26  Head Purge Position Z Collect Result_Fill2             40506 non-null  float64\n",
      " 27  target                                                 40506 non-null  object \n",
      " 28  Dispenser_1                                            40506 non-null  int64  \n",
      " 29  Dispenser_2                                            40506 non-null  int64  \n",
      " 30  Receip_No_Collect_Result                               40506 non-null  int64  \n",
      " 31  PalletID_Collect_Result                                40506 non-null  int64  \n",
      " 32  Production_Qty_Collect_Result                          40506 non-null  int64  \n",
      " 33  Chamber_Temp_OKNG_AutoClave                            40506 non-null  int64  \n",
      " 34  Judge_Value_OK                                         40506 non-null  int64  \n",
      " 35  CURE_Time_Dam                                          40506 non-null  float64\n",
      " 36  CURE_Time_Fill2                                        40506 non-null  float64\n",
      " 37  HEAD NORMAL DISTANCE_STAGE1_STAGE3_Dam                 40506 non-null  float64\n",
      " 38  HEAD NORMAL DISTANCE_TRIANGLE_height_Dam               40506 non-null  float64\n",
      " 39  HEAD NORMAL DISTANCE_STAGE1_STAGE3_Fill1               40506 non-null  float64\n",
      " 40  HEAD NORMAL DISTANCE_TRIANGLE_height_Fill1             40506 non-null  float64\n",
      " 41  HEAD NORMAL DISTANCE_STAGE1_STAGE2_Fill2               40506 non-null  float64\n",
      " 42  HEAD NORMAL DISTANCE_STAGE2_STAGE3_Fill2               40506 non-null  float64\n",
      " 43  HEAD NORMAL DISTANCE_STAGE1_STAGE3_Fill2               40506 non-null  float64\n",
      " 44  Stage1_Distance_Speed_avg_Dam                          40506 non-null  float64\n",
      " 45  Stage2_Distance_Speed_avg_Dam                          40506 non-null  float64\n",
      " 46  Stage3_Distance_Speed_avg_Dam                          40506 non-null  float64\n",
      " 47  THICKNESS_total_Dam                                    40506 non-null  float64\n",
      " 48  1st_Pressure_x_AutoClave                               40506 non-null  float64\n",
      " 49  2nd_Pressure_x_AutoClave                               40506 non-null  float64\n",
      " 50  3rd_Pressure_x_AutoClave                               40506 non-null  float64\n",
      " 51  All_Pressure_avg_AutoClave                             40506 non-null  float64\n",
      " 52  Chamber_Temp_x_AutoClave                               40506 non-null  int64  \n",
      " 53  All_Pressure_frac_Chamber_Temp_AutoClave               40506 non-null  float64\n",
      " 54  Workorder_0.9                                          40506 non-null  int64  \n",
      " 55  Workorder_0.6                                          40506 non-null  int64  \n",
      " 56  time_ratio_Dam                                         40506 non-null  float64\n",
      " 57  time_ratio_Fill1                                       40506 non-null  float64\n",
      " 58  time_ratio_Fill2                                       40506 non-null  float64\n",
      " 59  time_ratio_AutoClave                                   40506 non-null  float64\n",
      "dtypes: float64(44), int64(13), object(3)\n",
      "memory usage: 18.5+ MB\n",
      "---\n"
     ]
    }
   ],
   "source": [
    "train_data.info()\n",
    "print('---')\n",
    "# test_data.info()"
   ]
  },
  {
   "cell_type": "code",
   "execution_count": 74,
   "id": "769e6d8b",
   "metadata": {},
   "outputs": [
    {
     "name": "stdout",
     "output_type": "stream",
     "text": [
      "Series([], dtype: int64)\n"
     ]
    }
   ],
   "source": [
    "# 각 변수별로 결측값이 존재하는지 확인하는 코드\n",
    "missing_values = train_data.isnull().sum()\n",
    "\n",
    "# 결측값이 존재하는 변수와 그 개수 출력\n",
    "missing_values = missing_values[missing_values > 0]\n",
    "print(missing_values)\n",
    "\n",
    "# 결측값이 존재하는 변수명을 리스트에 담기\n",
    "missing_columns = missing_values.index.tolist()\n",
    "# print(\"결측값이 존재하는 변수명:\", missing_columns)"
   ]
  },
  {
   "cell_type": "markdown",
   "id": "ec45a10a",
   "metadata": {},
   "source": [
    "---"
   ]
  },
  {
   "cell_type": "markdown",
   "id": "334b20a3",
   "metadata": {},
   "source": [
    "## 타겟 인코딩"
   ]
  },
  {
   "cell_type": "code",
   "execution_count": 75,
   "id": "fb37ebe9",
   "metadata": {},
   "outputs": [
    {
     "name": "stdout",
     "output_type": "stream",
     "text": [
      "Index(['Model.Suffix', 'Workorder', 'target'], dtype='object')  train_object_columns 갯수 : 3\n",
      "Index(['Set ID', 'Model.Suffix', 'Workorder', 'target'], dtype='object')  test_object_columns 갯수 : 4\n",
      "\n",
      "Train Data:\n",
      "Model.Suffix unique 값 갯수: 7\n",
      "Workorder unique 값 갯수: 663\n",
      "target unique 값 갯수: 2\n",
      "\n",
      "Test Data:\n",
      "Set ID unique 값 갯수: 17361\n",
      "Model.Suffix unique 값 갯수: 7\n",
      "Workorder unique 값 갯수: 662\n",
      "target unique 값 갯수: 0\n"
     ]
    }
   ],
   "source": [
    "# 'target' 열의 변수 타입을 object로 변경\n",
    "# -> test 데이터는 float64 타입으로 되어있음 \n",
    "test_data['target'] = test_data['target'].astype('object')\n",
    "\n",
    "# object 타입의 변수 출력\n",
    "train_object_columns = train_data.select_dtypes(include=['object']).columns\n",
    "test_object_columns = test_data.select_dtypes(include=['object']).columns\n",
    "\n",
    "print(train_object_columns, f\" train_object_columns 갯수 : {len(train_object_columns)}\")\n",
    "print(test_object_columns, f\" test_object_columns 갯수 : {len(test_object_columns)}\")\n",
    "\n",
    "# 각 object 변수의 고유 값 개수 출력\n",
    "print(\"\\nTrain Data:\")\n",
    "for col in train_object_columns:\n",
    "    unique_count = train_data[col].nunique()\n",
    "    print(f\"{col} unique 값 갯수: {unique_count}\")\n",
    "\n",
    "print(\"\\nTest Data:\")\n",
    "for col in test_object_columns:\n",
    "    unique_count = test_data[col].nunique()\n",
    "    print(f\"{col} unique 값 갯수: {unique_count}\")"
   ]
  },
  {
   "cell_type": "code",
   "execution_count": 81,
   "id": "156c68be",
   "metadata": {},
   "outputs": [
    {
     "name": "stdout",
     "output_type": "stream",
     "text": [
      "   Model.Suffix  Workorder\n",
      "0      0.049336   0.158385\n",
      "1      0.049336   0.015314\n",
      "2      0.056712   0.009534\n",
      "   Model.Suffix  Workorder\n",
      "0      0.056712   0.091912\n",
      "1      0.056712   0.024247\n",
      "2      0.056712   0.091463\n",
      "--- train_data ---\n",
      "target  \n",
      "Normal      38156\n",
      "AbNormal     2350\n",
      "Name: count, dtype: int64\n"
     ]
    }
   ],
   "source": [
    "# 필요한 라이브러리 임포트\n",
    "import pandas as pd\n",
    "import category_encoders as ce\n",
    "\n",
    "# 타겟 변수와 범주형 변수 지정\n",
    "## Target Encoding의 smoothing 파라미터는 default로 auto로 설정되어 있음\n",
    "target = 'target'  # 타겟 변수 이름으로 변경\n",
    "categorical_columns = [\n",
    "    'Model.Suffix',\n",
    "    'Workorder',\n",
    "]  # 범주형 변수 이름으로 변경\n",
    "\n",
    "# 타겟 값을 숫자로 변환\n",
    "target_mapping = {'Normal': 0, 'AbNormal': 1}\n",
    "train_data[target] = train_data[target].map(target_mapping)\n",
    "test_data[target] = test_data[target].map(target_mapping)\n",
    "\n",
    "# 열이 존재하는지 확인\n",
    "missing_columns = [col for col in categorical_columns if col not in train_data.columns]\n",
    "if missing_columns:\n",
    "    raise ValueError(f\"train_data에 다음 열이 존재하지 않습니다: {missing_columns}\")\n",
    "\n",
    "# 타겟 인코더 생성 및 학습\n",
    "encoder = ce.TargetEncoder(cols=categorical_columns)\n",
    "train_data = encoder.fit_transform(train_data, train_data[target])\n",
    "\n",
    "# Set ID 열을 별도로 저장\n",
    "set_id = test_data['Set ID']\n",
    "\n",
    "# 테스트 데이터 인코딩 (Set ID 열 제외)\n",
    "test_data = test_data.drop(columns=['Set ID'])\n",
    "test_data = encoder.transform(test_data)\n",
    "\n",
    "# Set ID 열을 맨 앞에 추가\n",
    "test_data.insert(0, 'Set ID', set_id)\n",
    "\n",
    "# categorical_columns에 해당하는 열의 데이터 값만 확인\n",
    "print(train_data[categorical_columns].head(3))\n",
    "print(test_data[categorical_columns].head(3))\n",
    "\n",
    "# 역 매핑 딕셔너리 생성\n",
    "reverse_target_mapping = {v: k for k, v in target_mapping.items()}\n",
    "\n",
    "# 타겟 값을 원래대로 변환\n",
    "train_data[target] = train_data[target].map(reverse_target_mapping)\n",
    "test_data[target] = test_data[target].map(reverse_target_mapping)\n",
    "\n",
    "print(\"--- train_data ---\")\n",
    "\n",
    "# 변환된 타겟 값 확인\n",
    "print(train_data[[target]].value_counts())"
   ]
  },
  {
   "cell_type": "code",
   "execution_count": 82,
   "id": "6a108490",
   "metadata": {},
   "outputs": [
    {
     "name": "stdout",
     "output_type": "stream",
     "text": [
      "<class 'pandas.core.frame.DataFrame'>\n",
      "RangeIndex: 40506 entries, 0 to 40505\n",
      "Data columns (total 60 columns):\n",
      " #   Column                                                 Non-Null Count  Dtype  \n",
      "---  ------                                                 --------------  -----  \n",
      " 0   Model.Suffix                                           40506 non-null  float64\n",
      " 1   Workorder                                              40506 non-null  float64\n",
      " 2   DISCHARGED SPEED OF RESIN Collect Result_Dam           40506 non-null  int64  \n",
      " 3   DISCHARGED TIME OF RESIN(Stage1) Collect Result_Dam    40506 non-null  float64\n",
      " 4   DISCHARGED TIME OF RESIN(Stage2) Collect Result_Dam    40506 non-null  float64\n",
      " 5   DISCHARGED TIME OF RESIN(Stage3) Collect Result_Dam    40506 non-null  float64\n",
      " 6   Dispense Volume(Stage1) Collect Result_Dam             40506 non-null  float64\n",
      " 7   Dispense Volume(Stage2) Collect Result_Dam             40506 non-null  float64\n",
      " 8   Dispense Volume(Stage3) Collect Result_Dam             40506 non-null  float64\n",
      " 9   Head Clean Position Z Collect Result_Dam               40506 non-null  float64\n",
      " 10  Head Purge Position Z Collect Result_Dam               40506 non-null  float64\n",
      " 11  Head Zero Position Y Collect Result_Dam                40506 non-null  float64\n",
      " 12  Head Zero Position Z Collect Result_Dam                40506 non-null  float64\n",
      " 13  WorkMode Collect Result                                40506 non-null  float64\n",
      " 14  1st Pressure Collect Result_AutoClave                  40506 non-null  float64\n",
      " 15  2nd Pressure Collect Result_AutoClave                  40506 non-null  float64\n",
      " 16  3rd Pressure Collect Result_AutoClave                  40506 non-null  float64\n",
      " 17  Chamber Temp. Collect Result_AutoClave                 40506 non-null  int64  \n",
      " 18  DISCHARGED SPEED OF RESIN Collect Result_Fill1         40506 non-null  float64\n",
      " 19  DISCHARGED TIME OF RESIN(Stage1) Collect Result_Fill1  40506 non-null  float64\n",
      " 20  DISCHARGED TIME OF RESIN(Stage2) Collect Result_Fill1  40506 non-null  float64\n",
      " 21  DISCHARGED TIME OF RESIN(Stage3) Collect Result_Fill1  40506 non-null  float64\n",
      " 22  Dispense Volume(Stage1) Collect Result_Fill1           40506 non-null  float64\n",
      " 23  Dispense Volume(Stage2) Collect Result_Fill1           40506 non-null  float64\n",
      " 24  Dispense Volume(Stage3) Collect Result_Fill1           40506 non-null  float64\n",
      " 25  Head Purge Position Z Collect Result_Fill1             40506 non-null  int64  \n",
      " 26  Head Purge Position Z Collect Result_Fill2             40506 non-null  float64\n",
      " 27  target                                                 40506 non-null  object \n",
      " 28  Dispenser_1                                            40506 non-null  int64  \n",
      " 29  Dispenser_2                                            40506 non-null  int64  \n",
      " 30  Receip_No_Collect_Result                               40506 non-null  int64  \n",
      " 31  PalletID_Collect_Result                                40506 non-null  int64  \n",
      " 32  Production_Qty_Collect_Result                          40506 non-null  int64  \n",
      " 33  Chamber_Temp_OKNG_AutoClave                            40506 non-null  int64  \n",
      " 34  Judge_Value_OK                                         40506 non-null  int64  \n",
      " 35  CURE_Time_Dam                                          40506 non-null  float64\n",
      " 36  CURE_Time_Fill2                                        40506 non-null  float64\n",
      " 37  HEAD NORMAL DISTANCE_STAGE1_STAGE3_Dam                 40506 non-null  float64\n",
      " 38  HEAD NORMAL DISTANCE_TRIANGLE_height_Dam               40506 non-null  float64\n",
      " 39  HEAD NORMAL DISTANCE_STAGE1_STAGE3_Fill1               40506 non-null  float64\n",
      " 40  HEAD NORMAL DISTANCE_TRIANGLE_height_Fill1             40506 non-null  float64\n",
      " 41  HEAD NORMAL DISTANCE_STAGE1_STAGE2_Fill2               40506 non-null  float64\n",
      " 42  HEAD NORMAL DISTANCE_STAGE2_STAGE3_Fill2               40506 non-null  float64\n",
      " 43  HEAD NORMAL DISTANCE_STAGE1_STAGE3_Fill2               40506 non-null  float64\n",
      " 44  Stage1_Distance_Speed_avg_Dam                          40506 non-null  float64\n",
      " 45  Stage2_Distance_Speed_avg_Dam                          40506 non-null  float64\n",
      " 46  Stage3_Distance_Speed_avg_Dam                          40506 non-null  float64\n",
      " 47  THICKNESS_total_Dam                                    40506 non-null  float64\n",
      " 48  1st_Pressure_x_AutoClave                               40506 non-null  float64\n",
      " 49  2nd_Pressure_x_AutoClave                               40506 non-null  float64\n",
      " 50  3rd_Pressure_x_AutoClave                               40506 non-null  float64\n",
      " 51  All_Pressure_avg_AutoClave                             40506 non-null  float64\n",
      " 52  Chamber_Temp_x_AutoClave                               40506 non-null  int64  \n",
      " 53  All_Pressure_frac_Chamber_Temp_AutoClave               40506 non-null  float64\n",
      " 54  Workorder_0.9                                          40506 non-null  int64  \n",
      " 55  Workorder_0.6                                          40506 non-null  int64  \n",
      " 56  time_ratio_Dam                                         40506 non-null  float64\n",
      " 57  time_ratio_Fill1                                       40506 non-null  float64\n",
      " 58  time_ratio_Fill2                                       40506 non-null  float64\n",
      " 59  time_ratio_AutoClave                                   40506 non-null  float64\n",
      "dtypes: float64(46), int64(13), object(1)\n",
      "memory usage: 18.5+ MB\n",
      "---\n"
     ]
    }
   ],
   "source": [
    "train_data.info()\n",
    "print('---')\n",
    "# test_data.info()"
   ]
  },
  {
   "cell_type": "code",
   "execution_count": 83,
   "id": "dbf7c9bb",
   "metadata": {},
   "outputs": [
    {
     "name": "stdout",
     "output_type": "stream",
     "text": [
      "---\n",
      "<class 'pandas.core.frame.DataFrame'>\n",
      "RangeIndex: 17361 entries, 0 to 17360\n",
      "Data columns (total 61 columns):\n",
      " #   Column                                                 Non-Null Count  Dtype  \n",
      "---  ------                                                 --------------  -----  \n",
      " 0   Set ID                                                 17361 non-null  object \n",
      " 1   Model.Suffix                                           17361 non-null  float64\n",
      " 2   Workorder                                              17361 non-null  float64\n",
      " 3   DISCHARGED SPEED OF RESIN Collect Result_Dam           17361 non-null  int64  \n",
      " 4   DISCHARGED TIME OF RESIN(Stage1) Collect Result_Dam    17361 non-null  float64\n",
      " 5   DISCHARGED TIME OF RESIN(Stage2) Collect Result_Dam    17361 non-null  float64\n",
      " 6   DISCHARGED TIME OF RESIN(Stage3) Collect Result_Dam    17361 non-null  float64\n",
      " 7   Dispense Volume(Stage1) Collect Result_Dam             17361 non-null  float64\n",
      " 8   Dispense Volume(Stage2) Collect Result_Dam             17361 non-null  float64\n",
      " 9   Dispense Volume(Stage3) Collect Result_Dam             17361 non-null  float64\n",
      " 10  Head Clean Position Z Collect Result_Dam               17361 non-null  float64\n",
      " 11  Head Purge Position Z Collect Result_Dam               17361 non-null  float64\n",
      " 12  Head Zero Position Y Collect Result_Dam                17361 non-null  float64\n",
      " 13  Head Zero Position Z Collect Result_Dam                17361 non-null  float64\n",
      " 14  WorkMode Collect Result                                17361 non-null  float64\n",
      " 15  1st Pressure Collect Result_AutoClave                  17361 non-null  float64\n",
      " 16  2nd Pressure Collect Result_AutoClave                  17361 non-null  float64\n",
      " 17  3rd Pressure Collect Result_AutoClave                  17361 non-null  float64\n",
      " 18  Chamber Temp. Collect Result_AutoClave                 17361 non-null  int64  \n",
      " 19  DISCHARGED SPEED OF RESIN Collect Result_Fill1         17361 non-null  float64\n",
      " 20  DISCHARGED TIME OF RESIN(Stage1) Collect Result_Fill1  17361 non-null  float64\n",
      " 21  DISCHARGED TIME OF RESIN(Stage2) Collect Result_Fill1  17361 non-null  float64\n",
      " 22  DISCHARGED TIME OF RESIN(Stage3) Collect Result_Fill1  17361 non-null  float64\n",
      " 23  Dispense Volume(Stage1) Collect Result_Fill1           17361 non-null  float64\n",
      " 24  Dispense Volume(Stage2) Collect Result_Fill1           17361 non-null  float64\n",
      " 25  Dispense Volume(Stage3) Collect Result_Fill1           17361 non-null  float64\n",
      " 26  Head Purge Position Z Collect Result_Fill1             17361 non-null  float64\n",
      " 27  Head Purge Position Z Collect Result_Fill2             17361 non-null  float64\n",
      " 28  target                                                 0 non-null      object \n",
      " 29  Dispenser_1                                            17361 non-null  int64  \n",
      " 30  Dispenser_2                                            17361 non-null  int64  \n",
      " 31  Receip_No_Collect_Result                               17361 non-null  float64\n",
      " 32  PalletID_Collect_Result                                17361 non-null  float64\n",
      " 33  Production_Qty_Collect_Result                          17361 non-null  float64\n",
      " 34  Chamber_Temp_OKNG_AutoClave                            17361 non-null  int64  \n",
      " 35  Judge_Value_OK                                         17361 non-null  int64  \n",
      " 36  CURE_Time_Dam                                          17361 non-null  float64\n",
      " 37  CURE_Time_Fill2                                        17361 non-null  float64\n",
      " 38  HEAD NORMAL DISTANCE_STAGE1_STAGE3_Dam                 17361 non-null  float64\n",
      " 39  HEAD NORMAL DISTANCE_TRIANGLE_height_Dam               17361 non-null  float64\n",
      " 40  HEAD NORMAL DISTANCE_STAGE1_STAGE3_Fill1               17361 non-null  float64\n",
      " 41  HEAD NORMAL DISTANCE_TRIANGLE_height_Fill1             17361 non-null  float64\n",
      " 42  HEAD NORMAL DISTANCE_STAGE1_STAGE2_Fill2               17361 non-null  float64\n",
      " 43  HEAD NORMAL DISTANCE_STAGE2_STAGE3_Fill2               17361 non-null  float64\n",
      " 44  HEAD NORMAL DISTANCE_STAGE1_STAGE3_Fill2               17361 non-null  float64\n",
      " 45  Stage1_Distance_Speed_avg_Dam                          17361 non-null  float64\n",
      " 46  Stage2_Distance_Speed_avg_Dam                          17361 non-null  float64\n",
      " 47  Stage3_Distance_Speed_avg_Dam                          17361 non-null  float64\n",
      " 48  THICKNESS_total_Dam                                    17361 non-null  float64\n",
      " 49  1st_Pressure_x_AutoClave                               17361 non-null  float64\n",
      " 50  2nd_Pressure_x_AutoClave                               17361 non-null  float64\n",
      " 51  3rd_Pressure_x_AutoClave                               17361 non-null  float64\n",
      " 52  All_Pressure_avg_AutoClave                             17361 non-null  float64\n",
      " 53  Chamber_Temp_x_AutoClave                               17361 non-null  int64  \n",
      " 54  All_Pressure_frac_Chamber_Temp_AutoClave               17361 non-null  float64\n",
      " 55  Workorder_0.9                                          17361 non-null  int64  \n",
      " 56  Workorder_0.6                                          17361 non-null  int64  \n",
      " 57  time_ratio_Dam                                         17361 non-null  float64\n",
      " 58  time_ratio_Fill1                                       17361 non-null  float64\n",
      " 59  time_ratio_Fill2                                       17361 non-null  float64\n",
      " 60  time_ratio_AutoClave                                   17361 non-null  float64\n",
      "dtypes: float64(50), int64(9), object(2)\n",
      "memory usage: 8.1+ MB\n"
     ]
    }
   ],
   "source": [
    "# train_data.info()\n",
    "print('---')\n",
    "test_data.info()"
   ]
  },
  {
   "cell_type": "markdown",
   "id": "4276e6df",
   "metadata": {},
   "source": [
    "## 데이터 분할"
   ]
  },
  {
   "cell_type": "code",
   "execution_count": 83,
   "id": "314cbecd",
   "metadata": {},
   "outputs": [
    {
     "name": "stdout",
     "output_type": "stream",
     "text": [
      "  \tAbnormal\tNormal\n",
      "  Total: Normal: 30524, AbNormal: 1880 ratio: 0.06159087930808544\n",
      "  Total: Normal: 7632, AbNormal: 470 ratio: 0.061582809224318656\n"
     ]
    }
   ],
   "source": [
    "df_train, df_val = train_test_split(\n",
    "    train_data,\n",
    "    test_size=0.2,\n",
    "    stratify=train_data[\"target\"],\n",
    "    shuffle=True,\n",
    "    random_state=RANDOM_STATE,\n",
    ")\n",
    "\n",
    "def print_stats(df: pd.DataFrame):\n",
    "    num_normal = len(df[df[\"target\"] == \"Normal\"])\n",
    "    num_abnormal = len(df[df[\"target\"] == \"AbNormal\"])\n",
    "\n",
    "    print(f\"  Total: Normal: {num_normal}, AbNormal: {num_abnormal}\" + f\" ratio: {num_abnormal/num_normal}\")\n",
    "\n",
    "\n",
    "# Print statistics\n",
    "print(f\"  \\tAbnormal\\tNormal\")\n",
    "print_stats(df_train)\n",
    "print_stats(df_val)"
   ]
  },
  {
   "cell_type": "code",
   "execution_count": 77,
   "id": "1771a777",
   "metadata": {},
   "outputs": [
    {
     "name": "stdout",
     "output_type": "stream",
     "text": [
      "<class 'pandas.core.frame.DataFrame'>\n",
      "RangeIndex: 40506 entries, 0 to 40505\n",
      "Data columns (total 60 columns):\n",
      " #   Column                                                 Non-Null Count  Dtype  \n",
      "---  ------                                                 --------------  -----  \n",
      " 0   Model.Suffix                                           40506 non-null  object \n",
      " 1   Workorder                                              40506 non-null  object \n",
      " 2   DISCHARGED SPEED OF RESIN Collect Result_Dam           40506 non-null  int64  \n",
      " 3   DISCHARGED TIME OF RESIN(Stage1) Collect Result_Dam    40506 non-null  float64\n",
      " 4   DISCHARGED TIME OF RESIN(Stage2) Collect Result_Dam    40506 non-null  float64\n",
      " 5   DISCHARGED TIME OF RESIN(Stage3) Collect Result_Dam    40506 non-null  float64\n",
      " 6   Dispense Volume(Stage1) Collect Result_Dam             40506 non-null  float64\n",
      " 7   Dispense Volume(Stage2) Collect Result_Dam             40506 non-null  float64\n",
      " 8   Dispense Volume(Stage3) Collect Result_Dam             40506 non-null  float64\n",
      " 9   Head Clean Position Z Collect Result_Dam               40506 non-null  float64\n",
      " 10  Head Purge Position Z Collect Result_Dam               40506 non-null  float64\n",
      " 11  Head Zero Position Y Collect Result_Dam                40506 non-null  float64\n",
      " 12  Head Zero Position Z Collect Result_Dam                40506 non-null  float64\n",
      " 13  WorkMode Collect Result                                40506 non-null  float64\n",
      " 14  1st Pressure Collect Result_AutoClave                  40506 non-null  float64\n",
      " 15  2nd Pressure Collect Result_AutoClave                  40506 non-null  float64\n",
      " 16  3rd Pressure Collect Result_AutoClave                  40506 non-null  float64\n",
      " 17  Chamber Temp. Collect Result_AutoClave                 40506 non-null  int64  \n",
      " 18  DISCHARGED SPEED OF RESIN Collect Result_Fill1         40506 non-null  float64\n",
      " 19  DISCHARGED TIME OF RESIN(Stage1) Collect Result_Fill1  40506 non-null  float64\n",
      " 20  DISCHARGED TIME OF RESIN(Stage2) Collect Result_Fill1  40506 non-null  float64\n",
      " 21  DISCHARGED TIME OF RESIN(Stage3) Collect Result_Fill1  40506 non-null  float64\n",
      " 22  Dispense Volume(Stage1) Collect Result_Fill1           40506 non-null  float64\n",
      " 23  Dispense Volume(Stage2) Collect Result_Fill1           40506 non-null  float64\n",
      " 24  Dispense Volume(Stage3) Collect Result_Fill1           40506 non-null  float64\n",
      " 25  Head Purge Position Z Collect Result_Fill1             40506 non-null  int64  \n",
      " 26  Head Purge Position Z Collect Result_Fill2             40506 non-null  float64\n",
      " 27  target                                                 40506 non-null  object \n",
      " 28  Dispenser_1                                            40506 non-null  int64  \n",
      " 29  Dispenser_2                                            40506 non-null  int64  \n",
      " 30  Receip_No_Collect_Result                               40506 non-null  int64  \n",
      " 31  PalletID_Collect_Result                                40506 non-null  int64  \n",
      " 32  Production_Qty_Collect_Result                          40506 non-null  int64  \n",
      " 33  Chamber_Temp_OKNG_AutoClave                            40506 non-null  int64  \n",
      " 34  Judge_Value_OK                                         40506 non-null  int64  \n",
      " 35  CURE_Time_Dam                                          40506 non-null  float64\n",
      " 36  CURE_Time_Fill2                                        40506 non-null  float64\n",
      " 37  HEAD NORMAL DISTANCE_STAGE1_STAGE3_Dam                 40506 non-null  float64\n",
      " 38  HEAD NORMAL DISTANCE_TRIANGLE_height_Dam               40506 non-null  float64\n",
      " 39  HEAD NORMAL DISTANCE_STAGE1_STAGE3_Fill1               40506 non-null  float64\n",
      " 40  HEAD NORMAL DISTANCE_TRIANGLE_height_Fill1             40506 non-null  float64\n",
      " 41  HEAD NORMAL DISTANCE_STAGE1_STAGE2_Fill2               40506 non-null  float64\n",
      " 42  HEAD NORMAL DISTANCE_STAGE2_STAGE3_Fill2               40506 non-null  float64\n",
      " 43  HEAD NORMAL DISTANCE_STAGE1_STAGE3_Fill2               40506 non-null  float64\n",
      " 44  Stage1_Distance_Speed_avg_Dam                          40506 non-null  float64\n",
      " 45  Stage2_Distance_Speed_avg_Dam                          40506 non-null  float64\n",
      " 46  Stage3_Distance_Speed_avg_Dam                          40506 non-null  float64\n",
      " 47  THICKNESS_total_Dam                                    40506 non-null  float64\n",
      " 48  1st_Pressure_x_AutoClave                               40506 non-null  float64\n",
      " 49  2nd_Pressure_x_AutoClave                               40506 non-null  float64\n",
      " 50  3rd_Pressure_x_AutoClave                               40506 non-null  float64\n",
      " 51  All_Pressure_avg_AutoClave                             40506 non-null  float64\n",
      " 52  Chamber_Temp_x_AutoClave                               40506 non-null  int64  \n",
      " 53  All_Pressure_frac_Chamber_Temp_AutoClave               40506 non-null  float64\n",
      " 54  Workorder_0.9                                          40506 non-null  int64  \n",
      " 55  Workorder_0.6                                          40506 non-null  int64  \n",
      " 56  time_ratio_Dam                                         40506 non-null  float64\n",
      " 57  time_ratio_Fill1                                       40506 non-null  float64\n",
      " 58  time_ratio_Fill2                                       40506 non-null  float64\n",
      " 59  time_ratio_AutoClave                                   40506 non-null  float64\n",
      "dtypes: float64(44), int64(13), object(3)\n",
      "memory usage: 18.5+ MB\n"
     ]
    }
   ],
   "source": [
    "train_data.info()"
   ]
  },
  {
   "cell_type": "markdown",
   "id": "644f718d",
   "metadata": {},
   "source": [
    "### 상관계수"
   ]
  },
  {
   "cell_type": "markdown",
   "id": "aef448d9",
   "metadata": {},
   "source": [
    "상관계수 0.7 이상 drop"
   ]
  },
  {
   "cell_type": "markdown",
   "id": "519265e7",
   "metadata": {},
   "source": [
    "공통 변수"
   ]
  },
  {
   "cell_type": "code",
   "execution_count": 84,
   "id": "67dbaff5",
   "metadata": {},
   "outputs": [],
   "source": [
    "com_variables = [\n",
    "    'Model.Suffix'\n",
    "    , 'Workorder'\n",
    "    , 'WorkMode Collect Result'\n",
    "    , 'Dispenser_1'\n",
    "    , 'Dispenser_2'\n",
    "    , 'Receip_No_Collect_Result'\n",
    "    , 'PalletID_Collect_Result'\n",
    "    , 'Production_Qty_Collect_Result'\n",
    "    , 'Judge_Value_OK'\n",
    "    , 'Workorder_0.9'\n",
    "    , 'Workorder_0.6'\n",
    "]\n",
    "\n",
    "# 변수들로만 이루어진 DataFrame 생성\n",
    "filtered_data = train_data[com_variables]"
   ]
  },
  {
   "cell_type": "code",
   "execution_count": 85,
   "id": "99dbb2dc",
   "metadata": {},
   "outputs": [
    {
     "data": {
      "text/plain": [
       "0        0.049336\n",
       "1        0.049336\n",
       "2        0.056712\n",
       "3        0.056712\n",
       "4        0.056712\n",
       "           ...   \n",
       "40501    0.056712\n",
       "40502    0.056712\n",
       "40503    0.056712\n",
       "40504    0.056712\n",
       "40505    0.056712\n",
       "Name: Model.Suffix, Length: 40506, dtype: float64"
      ]
     },
     "execution_count": 85,
     "metadata": {},
     "output_type": "execute_result"
    }
   ],
   "source": [
    "filtered_data['Model.Suffix']"
   ]
  },
  {
   "cell_type": "code",
   "execution_count": 86,
   "id": "cf966448",
   "metadata": {},
   "outputs": [
    {
     "name": "stdout",
     "output_type": "stream",
     "text": [
      "                Variable 1               Variable 2  Correlation\n",
      "0              Dispenser_2  PalletID_Collect_Result     0.860274\n",
      "1  PalletID_Collect_Result              Dispenser_2     0.860274\n"
     ]
    }
   ],
   "source": [
    "# 상관계수 행렬 계산\n",
    "correlation_matrix = filtered_data.corr()\n",
    "\n",
    "# 자기자신을 제외하고 특정 값 이상인 조합 찾기\n",
    "strong_correlations = correlation_matrix[(correlation_matrix >= 0.7) & (correlation_matrix != 1)]\n",
    "\n",
    "# 리스트로 변환\n",
    "strong_correlations_pairs = strong_correlations.stack().reset_index()\n",
    "strong_correlations_pairs.columns = ['Variable 1', 'Variable 2', 'Correlation']\n",
    "\n",
    "# 결과 출력\n",
    "strong_correlations_pairs = strong_correlations_pairs[strong_correlations_pairs['Correlation'] >= 0.7]\n",
    "print(strong_correlations_pairs)"
   ]
  },
  {
   "cell_type": "code",
   "execution_count": 87,
   "id": "105fe344",
   "metadata": {},
   "outputs": [],
   "source": [
    "# 변수 삭제\n",
    "train_data.drop(['PalletID_Collect_Result'], axis=1, inplace=True)\n",
    "test_data.drop(['PalletID_Collect_Result'], axis=1, inplace=True)"
   ]
  },
  {
   "cell_type": "code",
   "execution_count": 88,
   "id": "807ffaf5",
   "metadata": {},
   "outputs": [],
   "source": [
    "# 공통 변수 리스트\n",
    "com_variables_train = [\n",
    "    'target'\n",
    "    , 'Model.Suffix'\n",
    "    , 'Workorder'\n",
    "    , 'WorkMode Collect Result'\n",
    "    , 'Dispenser_1'\n",
    "    , 'Dispenser_2'\n",
    "    , 'Receip_No_Collect_Result'\n",
    "    # , 'PalletID_Collect_Result'\n",
    "    , 'Production_Qty_Collect_Result'\n",
    "    , 'Judge_Value_OK'\n",
    "    , 'Workorder_0.9'\n",
    "    , 'Workorder_0.6'\n",
    "]\n",
    "\n",
    "com_variables_test = [\n",
    "    'target'\n",
    "    , 'Set ID'\n",
    "    , 'Model.Suffix'\n",
    "    , 'Workorder'\n",
    "    , 'WorkMode Collect Result'\n",
    "    , 'Dispenser_1'\n",
    "    , 'Dispenser_2'\n",
    "    , 'Receip_No_Collect_Result'\n",
    "    # , 'PalletID_Collect_Result'\n",
    "    , 'Production_Qty_Collect_Result'\n",
    "    , 'Judge_Value_OK'\n",
    "    , 'Workorder_0.9'\n",
    "    , 'Workorder_0.6'\n",
    "]"
   ]
  },
  {
   "cell_type": "markdown",
   "id": "2955d978",
   "metadata": {},
   "source": [
    "Dam"
   ]
  },
  {
   "cell_type": "code",
   "execution_count": 89,
   "id": "3b5911a8",
   "metadata": {},
   "outputs": [
    {
     "name": "stdout",
     "output_type": "stream",
     "text": [
      "<Dam 공정 관련 변수>\n",
      "DISCHARGED SPEED OF RESIN Collect Result_Dam\n",
      "DISCHARGED TIME OF RESIN(Stage1) Collect Result_Dam\n",
      "DISCHARGED TIME OF RESIN(Stage2) Collect Result_Dam\n",
      "DISCHARGED TIME OF RESIN(Stage3) Collect Result_Dam\n",
      "Dispense Volume(Stage1) Collect Result_Dam\n",
      "Dispense Volume(Stage2) Collect Result_Dam\n",
      "Dispense Volume(Stage3) Collect Result_Dam\n",
      "Head Clean Position Z Collect Result_Dam\n",
      "Head Purge Position Z Collect Result_Dam\n",
      "Head Zero Position Y Collect Result_Dam\n",
      "Head Zero Position Z Collect Result_Dam\n",
      "CURE_Time_Dam\n",
      "HEAD NORMAL DISTANCE_STAGE1_STAGE3_Dam\n",
      "HEAD NORMAL DISTANCE_TRIANGLE_height_Dam\n",
      "Stage1_Distance_Speed_avg_Dam\n",
      "Stage2_Distance_Speed_avg_Dam\n",
      "Stage3_Distance_Speed_avg_Dam\n",
      "THICKNESS_total_Dam\n",
      "time_ratio_Dam\n"
     ]
    }
   ],
   "source": [
    "# 열 이름 필터링\n",
    "Process_Desc_col = train_data.filter(like='_Dam').columns\n",
    "\n",
    "# 필터링된 열 이름 출력\n",
    "print(\"<Dam 공정 관련 변수>\")\n",
    "for col in Process_Desc_col:\n",
    "    print(col)"
   ]
  },
  {
   "cell_type": "code",
   "execution_count": 90,
   "id": "5d01ad2e",
   "metadata": {},
   "outputs": [],
   "source": [
    "# 새로운 변수 목록\n",
    "variables = [\n",
    "    \"DISCHARGED SPEED OF RESIN Collect Result_Dam\",\n",
    "    \"DISCHARGED TIME OF RESIN(Stage1) Collect Result_Dam\",\n",
    "    \"DISCHARGED TIME OF RESIN(Stage2) Collect Result_Dam\",\n",
    "    \"DISCHARGED TIME OF RESIN(Stage3) Collect Result_Dam\",\n",
    "    \"Dispense Volume(Stage1) Collect Result_Dam\",\n",
    "    \"Dispense Volume(Stage2) Collect Result_Dam\",\n",
    "    \"Dispense Volume(Stage3) Collect Result_Dam\",\n",
    "    \"Head Clean Position Z Collect Result_Dam\",\n",
    "    \"Head Purge Position Z Collect Result_Dam\",\n",
    "    \"Head Zero Position Y Collect Result_Dam\",\n",
    "    \"Head Zero Position Z Collect Result_Dam\",\n",
    "    \"CURE_Time_Dam\",\n",
    "    \"HEAD NORMAL DISTANCE_STAGE1_STAGE3_Dam\",\n",
    "    \"HEAD NORMAL DISTANCE_TRIANGLE_height_Dam\",\n",
    "    \"Stage1_Distance_Speed_avg_Dam\",\n",
    "    \"Stage2_Distance_Speed_avg_Dam\",\n",
    "    \"Stage3_Distance_Speed_avg_Dam\",\n",
    "    \"THICKNESS_total_Dam\",\n",
    "    \"time_ratio_Dam\"\n",
    "]\n",
    "\n",
    "# 변수들로만 이루어진 DataFrame 생성\n",
    "filtered_data = train_data[variables]"
   ]
  },
  {
   "cell_type": "code",
   "execution_count": 91,
   "id": "96b98835",
   "metadata": {},
   "outputs": [
    {
     "name": "stdout",
     "output_type": "stream",
     "text": [
      "                                           Variable 1  \\\n",
      "0        DISCHARGED SPEED OF RESIN Collect Result_Dam   \n",
      "1   DISCHARGED TIME OF RESIN(Stage1) Collect Resul...   \n",
      "2   DISCHARGED TIME OF RESIN(Stage1) Collect Resul...   \n",
      "3   DISCHARGED TIME OF RESIN(Stage2) Collect Resul...   \n",
      "4   DISCHARGED TIME OF RESIN(Stage3) Collect Resul...   \n",
      "5   DISCHARGED TIME OF RESIN(Stage3) Collect Resul...   \n",
      "6          Dispense Volume(Stage1) Collect Result_Dam   \n",
      "7          Dispense Volume(Stage1) Collect Result_Dam   \n",
      "8          Dispense Volume(Stage1) Collect Result_Dam   \n",
      "9          Dispense Volume(Stage2) Collect Result_Dam   \n",
      "10         Dispense Volume(Stage2) Collect Result_Dam   \n",
      "11           Head Clean Position Z Collect Result_Dam   \n",
      "12            Head Zero Position Z Collect Result_Dam   \n",
      "13                                      CURE_Time_Dam   \n",
      "14                      Stage1_Distance_Speed_avg_Dam   \n",
      "15                      Stage3_Distance_Speed_avg_Dam   \n",
      "\n",
      "                                           Variable 2  Correlation  \n",
      "0             Head Zero Position Z Collect Result_Dam     0.808023  \n",
      "1   DISCHARGED TIME OF RESIN(Stage3) Collect Resul...     0.999476  \n",
      "2          Dispense Volume(Stage1) Collect Result_Dam     0.788676  \n",
      "3          Dispense Volume(Stage2) Collect Result_Dam     0.823917  \n",
      "4   DISCHARGED TIME OF RESIN(Stage1) Collect Resul...     0.999476  \n",
      "5          Dispense Volume(Stage1) Collect Result_Dam     0.783575  \n",
      "6   DISCHARGED TIME OF RESIN(Stage1) Collect Resul...     0.788676  \n",
      "7   DISCHARGED TIME OF RESIN(Stage3) Collect Resul...     0.783575  \n",
      "8          Dispense Volume(Stage2) Collect Result_Dam     0.767858  \n",
      "9   DISCHARGED TIME OF RESIN(Stage2) Collect Resul...     0.823917  \n",
      "10         Dispense Volume(Stage1) Collect Result_Dam     0.767858  \n",
      "11                                      CURE_Time_Dam     0.729409  \n",
      "12       DISCHARGED SPEED OF RESIN Collect Result_Dam     0.808023  \n",
      "13           Head Clean Position Z Collect Result_Dam     0.729409  \n",
      "14                      Stage3_Distance_Speed_avg_Dam     0.999898  \n",
      "15                      Stage1_Distance_Speed_avg_Dam     0.999898  \n"
     ]
    }
   ],
   "source": [
    "# 상관계수 행렬 계산\n",
    "correlation_matrix = filtered_data.corr()\n",
    "\n",
    "# 자기자신을 제외하고 특정 값 이상인 조합 찾기\n",
    "strong_correlations = correlation_matrix[(correlation_matrix >= 0.7) & (correlation_matrix != 1)]\n",
    "\n",
    "# 리스트로 변환\n",
    "strong_correlations_pairs = strong_correlations.stack().reset_index()\n",
    "strong_correlations_pairs.columns = ['Variable 1', 'Variable 2', 'Correlation']\n",
    "\n",
    "# 결과 출력\n",
    "strong_correlations_pairs = strong_correlations_pairs[strong_correlations_pairs['Correlation'] >= 0.7]\n",
    "print(strong_correlations_pairs)"
   ]
  },
  {
   "cell_type": "code",
   "execution_count": 92,
   "id": "749bda8b",
   "metadata": {},
   "outputs": [],
   "source": [
    "# 드랍할 열 목록\n",
    "columns_to_drop = [\n",
    "    \"DISCHARGED TIME OF RESIN(Stage1) Collect Result_Dam\"\n",
    "    , \"DISCHARGED TIME OF RESIN(Stage2) Collect Result_Dam\"\n",
    "    , \"DISCHARGED TIME OF RESIN(Stage3) Collect Result_Dam\"\n",
    "    , \"Dispense Volume(Stage1) Collect Result_Dam\"\n",
    "    , \"Head Clean Position Z Collect Result_Dam\"\n",
    "    , \"Head Zero Position Z Collect Result_Dam\"\n",
    "    , \"Stage3_Distance_Speed_avg_Dam\"\n",
    "]\n",
    "\n",
    "# 열 삭제\n",
    "train_data.drop(columns=columns_to_drop, inplace=True, errors='ignore')\n",
    "test_data.drop(columns=columns_to_drop, inplace=True, errors='ignore')"
   ]
  },
  {
   "cell_type": "markdown",
   "id": "df9bf106",
   "metadata": {},
   "source": [
    "AutoCalve"
   ]
  },
  {
   "cell_type": "code",
   "execution_count": 93,
   "id": "f80651a8",
   "metadata": {},
   "outputs": [
    {
     "name": "stdout",
     "output_type": "stream",
     "text": [
      "<AutoClave 공정 관련 변수>\n",
      "1st Pressure Collect Result_AutoClave\n",
      "2nd Pressure Collect Result_AutoClave\n",
      "3rd Pressure Collect Result_AutoClave\n",
      "Chamber Temp. Collect Result_AutoClave\n",
      "Chamber_Temp_OKNG_AutoClave\n",
      "1st_Pressure_x_AutoClave\n",
      "2nd_Pressure_x_AutoClave\n",
      "3rd_Pressure_x_AutoClave\n",
      "All_Pressure_avg_AutoClave\n",
      "Chamber_Temp_x_AutoClave\n",
      "All_Pressure_frac_Chamber_Temp_AutoClave\n",
      "time_ratio_AutoClave\n"
     ]
    }
   ],
   "source": [
    "# 열 이름 필터링\n",
    "Process_Desc_col = train_data.filter(like='_AutoClave').columns\n",
    "\n",
    "# 필터링된 열 이름 출력\n",
    "print(\"<AutoClave 공정 관련 변수>\")\n",
    "for col in Process_Desc_col:\n",
    "    print(col)"
   ]
  },
  {
   "cell_type": "code",
   "execution_count": 94,
   "id": "566073bc",
   "metadata": {},
   "outputs": [],
   "source": [
    "# 새로운 변수 목록\n",
    "variables = [\n",
    "    \"1st Pressure Collect Result_AutoClave\"\n",
    "    , \"2nd Pressure Collect Result_AutoClave\"\n",
    "    , \"3rd Pressure Collect Result_AutoClave\"\n",
    "    , \"Chamber Temp. Collect Result_AutoClave\"\n",
    "    , \"Chamber_Temp_OKNG_AutoClave\"\n",
    "    , \"1st_Pressure_x_AutoClave\"\n",
    "    , \"2nd_Pressure_x_AutoClave\"\n",
    "    , \"3rd_Pressure_x_AutoClave\"\n",
    "    , \"All_Pressure_avg_AutoClave\"\n",
    "    , \"Chamber_Temp_x_AutoClave\"\n",
    "    , \"All_Pressure_frac_Chamber_Temp_AutoClave\"\n",
    "    , \"time_ratio_AutoClave\"\n",
    "]\n",
    "\n",
    "# 변수들로만 이루어진 DataFrame 생성\n",
    "filtered_data = train_data[variables]"
   ]
  },
  {
   "cell_type": "code",
   "execution_count": 95,
   "id": "290c852f",
   "metadata": {},
   "outputs": [
    {
     "name": "stdout",
     "output_type": "stream",
     "text": [
      "                               Variable 1  \\\n",
      "0  Chamber Temp. Collect Result_AutoClave   \n",
      "1             Chamber_Temp_OKNG_AutoClave   \n",
      "2                2nd_Pressure_x_AutoClave   \n",
      "3                Chamber_Temp_x_AutoClave   \n",
      "\n",
      "                               Variable 2  Correlation  \n",
      "0             Chamber_Temp_OKNG_AutoClave     0.742841  \n",
      "1  Chamber Temp. Collect Result_AutoClave     0.742841  \n",
      "2                Chamber_Temp_x_AutoClave     0.804096  \n",
      "3                2nd_Pressure_x_AutoClave     0.804096  \n"
     ]
    }
   ],
   "source": [
    "# 상관계수 행렬 계산\n",
    "correlation_matrix = filtered_data.corr()\n",
    "\n",
    "# 자기자신을 제외하고 특정 값 이상인 조합 찾기\n",
    "strong_correlations = correlation_matrix[(correlation_matrix >= 0.7) & (correlation_matrix != 1)]\n",
    "\n",
    "# 리스트로 변환\n",
    "strong_correlations_pairs = strong_correlations.stack().reset_index()\n",
    "strong_correlations_pairs.columns = ['Variable 1', 'Variable 2', 'Correlation']\n",
    "\n",
    "# 결과 출력\n",
    "strong_correlations_pairs = strong_correlations_pairs[strong_correlations_pairs['Correlation'] >= 0.7]\n",
    "print(strong_correlations_pairs)"
   ]
  },
  {
   "cell_type": "code",
   "execution_count": 96,
   "id": "fff17e1a",
   "metadata": {},
   "outputs": [],
   "source": [
    "# 드랍할 열 목록\n",
    "columns_to_drop = [\n",
    "    \"2nd_Pressure_x_AutoClave\"\n",
    "    , 'Chamber_Temp_OKNG_AutoClave'\n",
    "    , 'Chamber_Temp_x_AutoClave'\n",
    "]\n",
    "\n",
    "# 열 삭제\n",
    "train_data.drop(columns=columns_to_drop, inplace=True, errors='ignore')\n",
    "test_data.drop(columns=columns_to_drop, inplace=True, errors='ignore')"
   ]
  },
  {
   "cell_type": "markdown",
   "id": "1fa86a4b",
   "metadata": {},
   "source": [
    "Fill1"
   ]
  },
  {
   "cell_type": "code",
   "execution_count": 97,
   "id": "a03bc6de",
   "metadata": {},
   "outputs": [
    {
     "name": "stdout",
     "output_type": "stream",
     "text": [
      "<Fill1 공정 관련 변수>\n",
      "DISCHARGED SPEED OF RESIN Collect Result_Fill1\n",
      "DISCHARGED TIME OF RESIN(Stage1) Collect Result_Fill1\n",
      "DISCHARGED TIME OF RESIN(Stage2) Collect Result_Fill1\n",
      "DISCHARGED TIME OF RESIN(Stage3) Collect Result_Fill1\n",
      "Dispense Volume(Stage1) Collect Result_Fill1\n",
      "Dispense Volume(Stage2) Collect Result_Fill1\n",
      "Dispense Volume(Stage3) Collect Result_Fill1\n",
      "Head Purge Position Z Collect Result_Fill1\n",
      "HEAD NORMAL DISTANCE_STAGE1_STAGE3_Fill1\n",
      "HEAD NORMAL DISTANCE_TRIANGLE_height_Fill1\n",
      "time_ratio_Fill1\n"
     ]
    }
   ],
   "source": [
    "# 열 이름 필터링\n",
    "Process_Desc_col = train_data.filter(like='_Fill1').columns\n",
    "\n",
    "# 필터링된 열 이름 출력\n",
    "print(\"<Fill1 공정 관련 변수>\")\n",
    "for col in Process_Desc_col:\n",
    "    print(col)"
   ]
  },
  {
   "cell_type": "code",
   "execution_count": 98,
   "id": "3fa145f8",
   "metadata": {},
   "outputs": [],
   "source": [
    "# 새로운 변수 목록\n",
    "variables = [\n",
    "    \"DISCHARGED SPEED OF RESIN Collect Result_Fill1\",\n",
    "    \"DISCHARGED TIME OF RESIN(Stage1) Collect Result_Fill1\",\n",
    "    \"DISCHARGED TIME OF RESIN(Stage2) Collect Result_Fill1\",\n",
    "    \"DISCHARGED TIME OF RESIN(Stage3) Collect Result_Fill1\",\n",
    "    \"Dispense Volume(Stage1) Collect Result_Fill1\",\n",
    "    \"Dispense Volume(Stage2) Collect Result_Fill1\",\n",
    "    \"Dispense Volume(Stage3) Collect Result_Fill1\",\n",
    "    \"Head Purge Position Z Collect Result_Fill1\",\n",
    "    \"HEAD NORMAL DISTANCE_STAGE1_STAGE3_Fill1\",\n",
    "    \"HEAD NORMAL DISTANCE_TRIANGLE_height_Fill1\",\n",
    "    \"time_ratio_Fill1\"\n",
    "]\n",
    "\n",
    "# 변수들로만 이루어진 DataFrame 생성\n",
    "filtered_data = train_data[variables]"
   ]
  },
  {
   "cell_type": "code",
   "execution_count": 99,
   "id": "0e3d6b34",
   "metadata": {},
   "outputs": [
    {
     "name": "stdout",
     "output_type": "stream",
     "text": [
      "                                          Variable 1  \\\n",
      "0  DISCHARGED TIME OF RESIN(Stage1) Collect Resul...   \n",
      "1  DISCHARGED TIME OF RESIN(Stage2) Collect Resul...   \n",
      "2       Dispense Volume(Stage1) Collect Result_Fill1   \n",
      "3       Dispense Volume(Stage1) Collect Result_Fill1   \n",
      "4       Dispense Volume(Stage2) Collect Result_Fill1   \n",
      "5           HEAD NORMAL DISTANCE_STAGE1_STAGE3_Fill1   \n",
      "\n",
      "                                          Variable 2  Correlation  \n",
      "0       Dispense Volume(Stage1) Collect Result_Fill1     0.834402  \n",
      "1       Dispense Volume(Stage2) Collect Result_Fill1     0.988529  \n",
      "2  DISCHARGED TIME OF RESIN(Stage1) Collect Resul...     0.834402  \n",
      "3           HEAD NORMAL DISTANCE_STAGE1_STAGE3_Fill1     0.763230  \n",
      "4  DISCHARGED TIME OF RESIN(Stage2) Collect Resul...     0.988529  \n",
      "5       Dispense Volume(Stage1) Collect Result_Fill1     0.763230  \n"
     ]
    }
   ],
   "source": [
    "# 상관계수 행렬 계산\n",
    "correlation_matrix = filtered_data.corr()\n",
    "\n",
    "# 자기자신을 제외하고 특정 값 이상인 조합 찾기\n",
    "strong_correlations = correlation_matrix[(correlation_matrix >= 0.7) & (correlation_matrix != 1)]\n",
    "\n",
    "# 리스트로 변환\n",
    "strong_correlations_pairs = strong_correlations.stack().reset_index()\n",
    "strong_correlations_pairs.columns = ['Variable 1', 'Variable 2', 'Correlation']\n",
    "\n",
    "# 결과 출력\n",
    "strong_correlations_pairs = strong_correlations_pairs[strong_correlations_pairs['Correlation'] >= 0.7]\n",
    "print(strong_correlations_pairs)"
   ]
  },
  {
   "cell_type": "code",
   "execution_count": 100,
   "id": "5e63aa21",
   "metadata": {},
   "outputs": [],
   "source": [
    "# 드랍할 열 목록\n",
    "columns_to_drop = [\n",
    "    \"Dispense Volume(Stage1) Collect Result_Fill1\"\n",
    "    , \"Dispense Volume(Stage2) Collect Result_Fill1\"\n",
    "]\n",
    "\n",
    "# 열 삭제\n",
    "train_data.drop(columns=columns_to_drop, inplace=True, errors='ignore')\n",
    "test_data.drop(columns=columns_to_drop, inplace=True, errors='ignore')"
   ]
  },
  {
   "cell_type": "markdown",
   "id": "04408756",
   "metadata": {},
   "source": [
    "Fill2"
   ]
  },
  {
   "cell_type": "code",
   "execution_count": 101,
   "id": "04ce5f7d",
   "metadata": {},
   "outputs": [
    {
     "name": "stdout",
     "output_type": "stream",
     "text": [
      "<Fill1 공정 관련 변수>\n",
      "Head Purge Position Z Collect Result_Fill2\n",
      "CURE_Time_Fill2\n",
      "HEAD NORMAL DISTANCE_STAGE1_STAGE2_Fill2\n",
      "HEAD NORMAL DISTANCE_STAGE2_STAGE3_Fill2\n",
      "HEAD NORMAL DISTANCE_STAGE1_STAGE3_Fill2\n",
      "time_ratio_Fill2\n"
     ]
    }
   ],
   "source": [
    "# 열 이름 필터링\n",
    "Process_Desc_col = train_data.filter(like='_Fill2').columns\n",
    "\n",
    "# 필터링된 열 이름 출력\n",
    "print(\"<Fill1 공정 관련 변수>\")\n",
    "for col in Process_Desc_col:\n",
    "    print(col)"
   ]
  },
  {
   "cell_type": "code",
   "execution_count": 102,
   "id": "dfb13c1a",
   "metadata": {},
   "outputs": [],
   "source": [
    "# 새로운 변수 목록\n",
    "variables = [\n",
    "    \"Head Purge Position Z Collect Result_Fill2\"\n",
    "    , \"CURE_Time_Fill2\"\n",
    "    , \"HEAD NORMAL DISTANCE_STAGE1_STAGE2_Fill2\"\n",
    "    , \"HEAD NORMAL DISTANCE_STAGE2_STAGE3_Fill2\"\n",
    "    , \"HEAD NORMAL DISTANCE_STAGE1_STAGE3_Fill2\"\n",
    "    , \"time_ratio_Fill2\"\n",
    "]\n",
    "\n",
    "# 변수들로만 이루어진 DataFrame 생성\n",
    "filtered_data = train_data[variables]"
   ]
  },
  {
   "cell_type": "code",
   "execution_count": 103,
   "id": "6ec9d4a8",
   "metadata": {},
   "outputs": [
    {
     "name": "stdout",
     "output_type": "stream",
     "text": [
      "                                 Variable 1  \\\n",
      "0  HEAD NORMAL DISTANCE_STAGE1_STAGE2_Fill2   \n",
      "1  HEAD NORMAL DISTANCE_STAGE1_STAGE2_Fill2   \n",
      "2  HEAD NORMAL DISTANCE_STAGE2_STAGE3_Fill2   \n",
      "3  HEAD NORMAL DISTANCE_STAGE2_STAGE3_Fill2   \n",
      "4  HEAD NORMAL DISTANCE_STAGE1_STAGE3_Fill2   \n",
      "5  HEAD NORMAL DISTANCE_STAGE1_STAGE3_Fill2   \n",
      "\n",
      "                                 Variable 2  Correlation  \n",
      "0  HEAD NORMAL DISTANCE_STAGE2_STAGE3_Fill2     0.999993  \n",
      "1  HEAD NORMAL DISTANCE_STAGE1_STAGE3_Fill2     0.999999  \n",
      "2  HEAD NORMAL DISTANCE_STAGE1_STAGE2_Fill2     0.999993  \n",
      "3  HEAD NORMAL DISTANCE_STAGE1_STAGE3_Fill2     0.999997  \n",
      "4  HEAD NORMAL DISTANCE_STAGE1_STAGE2_Fill2     0.999999  \n",
      "5  HEAD NORMAL DISTANCE_STAGE2_STAGE3_Fill2     0.999997  \n"
     ]
    }
   ],
   "source": [
    "# 상관계수 행렬 계산\n",
    "correlation_matrix = filtered_data.corr()\n",
    "\n",
    "# 자기자신을 제외하고 특정 값 이상인 조합 찾기\n",
    "strong_correlations = correlation_matrix[(correlation_matrix >= 0.7) & (correlation_matrix != 1)]\n",
    "\n",
    "# 리스트로 변환\n",
    "strong_correlations_pairs = strong_correlations.stack().reset_index()\n",
    "strong_correlations_pairs.columns = ['Variable 1', 'Variable 2', 'Correlation']\n",
    "\n",
    "# 결과 출력\n",
    "strong_correlations_pairs = strong_correlations_pairs[strong_correlations_pairs['Correlation'] >= 0.7]\n",
    "print(strong_correlations_pairs)"
   ]
  },
  {
   "cell_type": "code",
   "execution_count": 104,
   "id": "7c533e10",
   "metadata": {},
   "outputs": [],
   "source": [
    "# 드랍할 열 목록\n",
    "columns_to_drop = [\n",
    "    \"HEAD NORMAL DISTANCE_STAGE1_STAGE2_Fill2\",\n",
    "    \"HEAD NORMAL DISTANCE_STAGE2_STAGE3_Fill2\"\n",
    "]\n",
    "\n",
    "# 열 삭제\n",
    "train_data.drop(columns=columns_to_drop, inplace=True, errors='ignore')\n",
    "test_data.drop(columns=columns_to_drop, inplace=True, errors='ignore')"
   ]
  },
  {
   "cell_type": "markdown",
   "id": "8c32095b",
   "metadata": {},
   "source": [
    "공정별 변수 + 공통 변수 결합  \n",
    "-> 총 4개의 데이터셋을 구성하고 각 데이터셋 마다 train,test 를 만듬"
   ]
  },
  {
   "cell_type": "code",
   "execution_count": 105,
   "id": "84f9c1c4",
   "metadata": {},
   "outputs": [],
   "source": [
    "# 공정 이름 필터링 후 공통 변수와 결합\n",
    "def create_dataset(train_data, test_data, process_name, com_variables_train, com_variables_test):\n",
    "    # 열 이름 필터링\n",
    "    Process_Desc_col = train_data.filter(like=process_name).columns\n",
    "    \n",
    "    # train 데이터셋 생성\n",
    "    final_columns_train = list(Process_Desc_col) + com_variables_train\n",
    "    train_dataset = train_data[final_columns_train]\n",
    "    \n",
    "    # test 데이터셋 생성\n",
    "    final_columns_test = list(Process_Desc_col) + com_variables_test\n",
    "    test_dataset = test_data[final_columns_test]\n",
    "    \n",
    "    return train_dataset, test_dataset\n",
    "\n",
    "# 공통 변수 정의\n",
    "## com_variables_train = [...]  -> 이전 코드에서 정의한 변수 사용\n",
    "## com_variables_test = [...]   -> 이전 코드에서 정의한 변수 사용\n",
    "\n",
    "# 데이터셋 생성\n",
    "train_data_dam, test_data_dam = create_dataset(train_data, test_data, '_Dam', com_variables_train, com_variables_test)\n",
    "train_data_fill1, test_data_fill1 = create_dataset(train_data, test_data, '_Fill1', com_variables_train, com_variables_test)\n",
    "train_data_fill2, test_data_fill2 = create_dataset(train_data, test_data, '_Fill2', com_variables_train, com_variables_test)\n",
    "train_data_autoclave, test_data_autoclave = create_dataset(train_data, test_data, '_AutoClave', com_variables_train, com_variables_test)"
   ]
  },
  {
   "cell_type": "markdown",
   "id": "5c4e5b59",
   "metadata": {},
   "source": [
    "## 3. 모델 학습"
   ]
  },
  {
   "cell_type": "markdown",
   "id": "cfaa06da",
   "metadata": {},
   "source": [
    "### 모델 정의"
   ]
  },
  {
   "cell_type": "code",
   "execution_count": 106,
   "id": "fb9e8f54",
   "metadata": {},
   "outputs": [],
   "source": [
    "from sklearn.metrics import (\n",
    "    accuracy_score,\n",
    "    confusion_matrix,\n",
    "    f1_score,\n",
    "    precision_score,\n",
    "    recall_score,\n",
    ")\n",
    "\n",
    "def get_clf_eval(y_test, y_pred_proba, threshold=0.5):\n",
    "    # 확률을 기준으로 예측 레이블 생성\n",
    "    y_pred = (y_pred_proba >= threshold).astype(int)  # 0.5 이상의 확률을 양성으로 간주\n",
    "\n",
    "    confusion = confusion_matrix(y_test, y_pred)\n",
    "    accuracy = accuracy_score(y_test, y_pred)\n",
    "    precision = precision_score(y_test, y_pred)\n",
    "    recall = recall_score(y_test, y_pred)\n",
    "    f1 = f1_score(y_test, y_pred)\n",
    "\n",
    "    print(\"Confusion Matrix:\\n\", confusion)\n",
    "    print(f\"Accuracy: {accuracy:.4f}\")\n",
    "    print(f\"Precision: {precision:.4f}\")\n",
    "    print(f\"Recall: {recall:.4f}\")\n",
    "    print(f\"F1 Score: {f1:.4f}\")\n"
   ]
  },
  {
   "cell_type": "code",
   "execution_count": null,
   "id": "d10c5108",
   "metadata": {},
   "outputs": [],
   "source": [
    "# 'Normal'과 'AbNormal'을 숫자로 변환\n",
    "train_data_dam['target'] = train_data_dam['target'].map({'Normal': 0, 'AbNormal': 1})\n",
    "\n",
    "# 스레드홀드 설정\n",
    "THRESHOLD = 0.3\n",
    "\n",
    "def objectiveDecisionTree(trial, x_tr, y_tr, x_val, y_val):\n",
    "    param = {\n",
    "        'max_depth': trial.suggest_int('max_depth', 2, 100)\n",
    "        , 'min_samples_split': trial.suggest_int('min_samples_split', 2, 30)\n",
    "        , 'min_samples_leaf': trial.suggest_int('min_samples_leaf', 1, 10)\n",
    "        , 'max_features': trial.suggest_categorical('max_features', ['sqrt', 'log2', None])\n",
    "        , 'splitter': trial.suggest_categorical('splitter', ['best', 'random'])\n",
    "        , 'criterion': trial.suggest_categorical('criterion', ['gini', 'entropy'])\n",
    "        , 'random_state': RANDOM_STATE\n",
    "    }\n",
    "    \n",
    "    model = DecisionTreeClassifier(**param)\n",
    "    model.fit(x_tr, y_tr)\n",
    "    pred = model.predict(x_val)\n",
    "    score = f1_score(y_val, pred, average=\"binary\")\n",
    "    \n",
    "    return score\n",
    "\n",
    "# 데이터셋 분할\n",
    "x_train, x_val, y_train, y_val = train_test_split(\n",
    "    train_data_dam.drop(\"target\", axis=1),\n",
    "    train_data_dam[\"target\"],\n",
    "    test_size=0.2,\n",
    "    shuffle=True,\n",
    "    random_state=RANDOM_STATE,\n",
    ")\n",
    "\n",
    "# 하이퍼 파라미터 튜닝\n",
    "study = optuna.create_study(direction='maximize', sampler=optuna.samplers.TPESampler(seed=RANDOM_STATE))\n",
    "study.optimize(lambda trial: objectiveDecisionTree(trial, x_train, y_train, x_val, y_val), n_trials=300)\n",
    "\n",
    "print('Best trial: score {}, \\nparams {}'.format(study.best_trial.value, study.best_trial.params))"
   ]
  },
  {
   "cell_type": "code",
   "execution_count": null,
   "id": "2f3d1528",
   "metadata": {},
   "outputs": [],
   "source": []
  },
  {
   "cell_type": "markdown",
   "id": "c2e56224",
   "metadata": {},
   "source": [
    "optuna"
   ]
  },
  {
   "cell_type": "markdown",
   "id": "058f4f86",
   "metadata": {},
   "source": [
    "스레스홀드 0.3으로 맞춘상태에서 튜닝 진행한 것"
   ]
  },
  {
   "cell_type": "markdown",
   "id": "1f752e23",
   "metadata": {},
   "source": [
    "Best trial: score 0.26541554959785524,   \n",
    "params {'n_estimators': 1205, 'num_leaves': 1880, 'max_depth': 53, 'learning_rate': 0.0877525670484991, 'min_child_samples': 288}  "
   ]
  },
  {
   "cell_type": "code",
   "execution_count": 108,
   "id": "8ec04f21",
   "metadata": {},
   "outputs": [
    {
     "name": "stderr",
     "output_type": "stream",
     "text": [
      "C:\\Users\\juneh\\AppData\\Roaming\\Python\\Python37\\site-packages\\ipykernel_launcher.py:7: SettingWithCopyWarning: \n",
      "A value is trying to be set on a copy of a slice from a DataFrame.\n",
      "Try using .loc[row_indexer,col_indexer] = value instead\n",
      "\n",
      "See the caveats in the documentation: https://pandas.pydata.org/pandas-docs/stable/user_guide/indexing.html#returning-a-view-versus-a-copy\n",
      "  import sys\n",
      "[I 2024-08-16 00:18:38,397] A new study created in memory with name: no-name-94ee6d7f-b552-4b1b-839c-f8650fb855a9\n",
      "[I 2024-08-16 00:19:24,347] Trial 0 finished with value: 0.24815361890694237 and parameters: {'n_estimators': 790, 'num_leaves': 2146, 'max_depth': 119, 'learning_rate': 0.06166547557397882, 'min_child_samples': 205}. Best is trial 0 with value: 0.24815361890694237.\n",
      "[I 2024-08-16 00:28:54,961] Trial 1 finished with value: 0.1997563946406821 and parameters: {'n_estimators': 2206, 'num_leaves': 2888, 'max_depth': 195, 'learning_rate': 0.05178141716690417, 'min_child_samples': 28}. Best is trial 0 with value: 0.24815361890694237.\n",
      "[I 2024-08-16 00:30:43,037] Trial 2 finished with value: 0.22908622908622908 and parameters: {'n_estimators': 1469, 'num_leaves': 1226, 'max_depth': 49, 'learning_rate': 0.002000452888170992, 'min_child_samples': 126}. Best is trial 0 with value: 0.24815361890694237.\n",
      "[I 2024-08-16 00:33:01,682] Trial 3 finished with value: 0.2241379310344828 and parameters: {'n_estimators': 1731, 'num_leaves': 553, 'max_depth': 172, 'learning_rate': 0.008684052021612865, 'min_child_samples': 124}. Best is trial 0 with value: 0.24815361890694237.\n",
      "[I 2024-08-16 00:35:22,377] Trial 4 finished with value: 0.2273781902552204 and parameters: {'n_estimators': 1285, 'num_leaves': 2427, 'max_depth': 184, 'learning_rate': 0.042318458794414655, 'min_child_samples': 102}. Best is trial 0 with value: 0.24815361890694237.\n",
      "[I 2024-08-16 00:36:11,396] Trial 5 finished with value: 0.23373173970783534 and parameters: {'n_estimators': 562, 'num_leaves': 723, 'max_depth': 258, 'learning_rate': 0.04962001162483311, 'min_child_samples': 77}. Best is trial 0 with value: 0.24815361890694237.\n",
      "[I 2024-08-16 00:43:07,727] Trial 6 finished with value: 0.21261682242990657 and parameters: {'n_estimators': 2403, 'num_leaves': 1851, 'max_depth': 122, 'learning_rate': 0.06476333477413102, 'min_child_samples': 54}. Best is trial 0 with value: 0.24815361890694237.\n",
      "[I 2024-08-16 00:47:05,616] Trial 7 finished with value: 0.23042505592841162 and parameters: {'n_estimators': 2273, 'num_leaves': 600, 'max_depth': 184, 'learning_rate': 0.02113127234039541, 'min_child_samples': 77}. Best is trial 0 with value: 0.24815361890694237.\n",
      "[I 2024-08-16 00:51:04,859] Trial 8 finished with value: 0.21889400921658986 and parameters: {'n_estimators': 1498, 'num_leaves': 2285, 'max_depth': 240, 'learning_rate': 0.08959229338857824, 'min_child_samples': 68}. Best is trial 0 with value: 0.24815361890694237.\n",
      "[I 2024-08-16 00:51:23,524] Trial 9 finished with value: 0.22666666666666663 and parameters: {'n_estimators': 532, 'num_leaves': 2402, 'max_depth': 63, 'learning_rate': 0.0795619223737381, 'min_child_samples': 286}. Best is trial 0 with value: 0.24815361890694237.\n",
      "[I 2024-08-16 00:52:19,124] Trial 10 finished with value: 0.2531017369727047 and parameters: {'n_estimators': 996, 'num_leaves': 1534, 'max_depth': 104, 'learning_rate': 0.09731505694411961, 'min_child_samples': 211}. Best is trial 10 with value: 0.2531017369727047.\n",
      "[I 2024-08-16 00:53:13,887] Trial 11 finished with value: 0.2484774665042631 and parameters: {'n_estimators': 972, 'num_leaves': 1711, 'max_depth': 119, 'learning_rate': 0.09946246785805424, 'min_child_samples': 205}. Best is trial 10 with value: 0.2531017369727047.\n",
      "[I 2024-08-16 00:54:14,239] Trial 12 finished with value: 0.24414303329223183 and parameters: {'n_estimators': 1029, 'num_leaves': 1334, 'max_depth': 99, 'learning_rate': 0.09294692699276536, 'min_child_samples': 197}. Best is trial 10 with value: 0.2531017369727047.\n",
      "[I 2024-08-16 00:57:13,374] Trial 13 finished with value: 0.24043715846994534 and parameters: {'n_estimators': 2922, 'num_leaves': 1449, 'max_depth': 25, 'learning_rate': 0.0980393867059083, 'min_child_samples': 204}. Best is trial 10 with value: 0.2531017369727047.\n",
      "[I 2024-08-16 00:58:07,571] Trial 14 finished with value: 0.24861878453038672 and parameters: {'n_estimators': 1094, 'num_leaves': 1783, 'max_depth': 86, 'learning_rate': 0.0780919450030733, 'min_child_samples': 269}. Best is trial 10 with value: 0.2531017369727047.\n",
      "[I 2024-08-16 00:58:55,756] Trial 15 finished with value: 0.2618384401114206 and parameters: {'n_estimators': 1176, 'num_leaves': 969, 'max_depth': 77, 'learning_rate': 0.07676531544164272, 'min_child_samples': 288}. Best is trial 15 with value: 0.2618384401114206.\n",
      "[I 2024-08-16 01:00:19,885] Trial 16 finished with value: 0.23979591836734693 and parameters: {'n_estimators': 1819, 'num_leaves': 917, 'max_depth': 21, 'learning_rate': 0.07830272580854367, 'min_child_samples': 245}. Best is trial 15 with value: 0.2618384401114206.\n",
      "[I 2024-08-16 01:01:47,550] Trial 17 finished with value: 0.2535575679172057 and parameters: {'n_estimators': 1838, 'num_leaves': 1017, 'max_depth': 149, 'learning_rate': 0.0690324549286566, 'min_child_samples': 300}. Best is trial 15 with value: 0.2618384401114206.\n",
      "[I 2024-08-16 01:03:15,893] Trial 18 finished with value: 0.2488479262672811 and parameters: {'n_estimators': 1974, 'num_leaves': 929, 'max_depth': 296, 'learning_rate': 0.03154806175994567, 'min_child_samples': 298}. Best is trial 15 with value: 0.2618384401114206.\n",
      "[I 2024-08-16 01:06:17,332] Trial 19 finished with value: 0.22687224669603523 and parameters: {'n_estimators': 3000, 'num_leaves': 1072, 'max_depth': 144, 'learning_rate': 0.06555426246426911, 'min_child_samples': 246}. Best is trial 15 with value: 0.2618384401114206.\n",
      "[I 2024-08-16 01:09:21,460] Trial 20 finished with value: 0.23452768729641693 and parameters: {'n_estimators': 2573, 'num_leaves': 1100, 'max_depth': 71, 'learning_rate': 0.07069713409577699, 'min_child_samples': 165}. Best is trial 15 with value: 0.2618384401114206.\n",
      "[I 2024-08-16 01:10:34,347] Trial 21 finished with value: 0.2453066332916145 and parameters: {'n_estimators': 1332, 'num_leaves': 1470, 'max_depth': 149, 'learning_rate': 0.08477010000224883, 'min_child_samples': 253}. Best is trial 15 with value: 0.2618384401114206.\n",
      "[I 2024-08-16 01:12:04,157] Trial 22 finished with value: 0.23921085080147966 and parameters: {'n_estimators': 1690, 'num_leaves': 802, 'max_depth': 105, 'learning_rate': 0.07206788247328873, 'min_child_samples': 272}. Best is trial 15 with value: 0.2618384401114206.\n",
      "[I 2024-08-16 01:12:38,837] Trial 23 finished with value: 0.2481962481962482 and parameters: {'n_estimators': 732, 'num_leaves': 1566, 'max_depth': 217, 'learning_rate': 0.086428525401788, 'min_child_samples': 226}. Best is trial 15 with value: 0.2618384401114206.\n",
      "[I 2024-08-16 01:13:50,169] Trial 24 finished with value: 0.23741935483870968 and parameters: {'n_estimators': 1193, 'num_leaves': 1219, 'max_depth': 153, 'learning_rate': 0.054191345055917384, 'min_child_samples': 168}. Best is trial 15 with value: 0.2618384401114206.\n",
      "[I 2024-08-16 01:15:42,621] Trial 25 finished with value: 0.23039215686274508 and parameters: {'n_estimators': 1967, 'num_leaves': 2067, 'max_depth': 52, 'learning_rate': 0.07338961230477042, 'min_child_samples': 288}. Best is trial 15 with value: 0.2618384401114206.\n",
      "[I 2024-08-16 01:17:26,952] Trial 26 finished with value: 0.23708920187793428 and parameters: {'n_estimators': 1538, 'num_leaves': 1040, 'max_depth': 84, 'learning_rate': 0.09083525520627897, 'min_child_samples': 231}. Best is trial 15 with value: 0.2618384401114206.\n",
      "[I 2024-08-16 01:18:19,116] Trial 27 finished with value: 0.24919093851132687 and parameters: {'n_estimators': 927, 'num_leaves': 1628, 'max_depth': 36, 'learning_rate': 0.05998707144733495, 'min_child_samples': 300}. Best is trial 15 with value: 0.2618384401114206.\n",
      "[I 2024-08-16 01:19:03,129] Trial 28 finished with value: 0.24397590361445784 and parameters: {'n_estimators': 763, 'num_leaves': 1315, 'max_depth': 133, 'learning_rate': 0.08071307736389129, 'min_child_samples': 268}. Best is trial 15 with value: 0.2618384401114206.\n",
      "[I 2024-08-16 01:20:49,992] Trial 29 finished with value: 0.2415196743554953 and parameters: {'n_estimators': 1377, 'num_leaves': 814, 'max_depth': 101, 'learning_rate': 0.04251428236578787, 'min_child_samples': 185}. Best is trial 15 with value: 0.2618384401114206.\n",
      "[I 2024-08-16 01:21:47,973] Trial 30 finished with value: 0.24922118380062308 and parameters: {'n_estimators': 858, 'num_leaves': 1993, 'max_depth': 170, 'learning_rate': 0.06184690450231613, 'min_child_samples': 261}. Best is trial 15 with value: 0.2618384401114206.\n",
      "[I 2024-08-16 01:22:40,919] Trial 31 finished with value: 0.25 and parameters: {'n_estimators': 840, 'num_leaves': 2101, 'max_depth': 166, 'learning_rate': 0.059215286542815625, 'min_child_samples': 224}. Best is trial 15 with value: 0.2618384401114206.\n",
      "[I 2024-08-16 01:24:11,225] Trial 32 finished with value: 0.25387870239774335 and parameters: {'n_estimators': 1152, 'num_leaves': 2787, 'max_depth': 210, 'learning_rate': 0.05726620484372415, 'min_child_samples': 219}. Best is trial 15 with value: 0.2618384401114206.\n",
      "[I 2024-08-16 01:25:51,517] Trial 33 finished with value: 0.2390745501285347 and parameters: {'n_estimators': 1152, 'num_leaves': 2955, 'max_depth': 215, 'learning_rate': 0.04715106136148795, 'min_child_samples': 140}. Best is trial 15 with value: 0.2618384401114206.\n",
      "[I 2024-08-16 01:27:34,215] Trial 34 finished with value: 0.2389758179231863 and parameters: {'n_estimators': 1626, 'num_leaves': 2725, 'max_depth': 198, 'learning_rate': 0.038584467497653346, 'min_child_samples': 221}. Best is trial 15 with value: 0.2618384401114206.\n",
      "[I 2024-08-16 01:30:09,055] Trial 35 finished with value: 0.23382519863791146 and parameters: {'n_estimators': 2011, 'num_leaves': 1925, 'max_depth': 259, 'learning_rate': 0.05402642469756065, 'min_child_samples': 180}. Best is trial 15 with value: 0.2618384401114206.\n",
      "[I 2024-08-16 01:31:21,363] Trial 36 finished with value: 0.25363276089828274 and parameters: {'n_estimators': 1243, 'num_leaves': 2756, 'max_depth': 133, 'learning_rate': 0.0697390895382558, 'min_child_samples': 239}. Best is trial 15 with value: 0.2618384401114206.\n",
      "[I 2024-08-16 01:32:33,081] Trial 37 finished with value: 0.2535612535612536 and parameters: {'n_estimators': 1248, 'num_leaves': 2601, 'max_depth': 134, 'learning_rate': 0.06741808487351093, 'min_child_samples': 280}. Best is trial 15 with value: 0.2618384401114206.\n",
      "[I 2024-08-16 01:46:54,195] Trial 38 finished with value: 0.2186335403726708 and parameters: {'n_estimators': 1258, 'num_leaves': 2755, 'max_depth': 133, 'learning_rate': 0.056291092605832406, 'min_child_samples': 8}. Best is trial 15 with value: 0.2618384401114206.\n",
      "[I 2024-08-16 01:48:38,893] Trial 39 finished with value: 0.24052287581699347 and parameters: {'n_estimators': 1408, 'num_leaves': 2597, 'max_depth': 202, 'learning_rate': 0.0665395135143986, 'min_child_samples': 238}. Best is trial 15 with value: 0.2618384401114206.\n",
      "[I 2024-08-16 01:50:35,329] Trial 40 finished with value: 0.24935732647814912 and parameters: {'n_estimators': 1571, 'num_leaves': 2799, 'max_depth': 238, 'learning_rate': 0.07365999030428308, 'min_child_samples': 282}. Best is trial 15 with value: 0.2618384401114206.\n",
      "[I 2024-08-16 01:52:31,968] Trial 41 finished with value: 0.24747474747474746 and parameters: {'n_estimators': 1881, 'num_leaves': 2538, 'max_depth': 181, 'learning_rate': 0.0677771025741764, 'min_child_samples': 277}. Best is trial 15 with value: 0.2618384401114206.\n",
      "[I 2024-08-16 01:53:09,720] Trial 42 finished with value: 0.2188034188034188 and parameters: {'n_estimators': 681, 'num_leaves': 2274, 'max_depth': 134, 'learning_rate': 0.04924690526275272, 'min_child_samples': 251}. Best is trial 15 with value: 0.2618384401114206.\n",
      "[I 2024-08-16 01:54:29,723] Trial 43 finished with value: 0.2511078286558346 and parameters: {'n_estimators': 1219, 'num_leaves': 2897, 'max_depth': 162, 'learning_rate': 0.06246326292136268, 'min_child_samples': 290}. Best is trial 15 with value: 0.2618384401114206.\n",
      "[I 2024-08-16 01:55:43,510] Trial 44 finished with value: 0.25611510791366904 and parameters: {'n_estimators': 1094, 'num_leaves': 2642, 'max_depth': 118, 'learning_rate': 0.06942043472222878, 'min_child_samples': 259}. Best is trial 15 with value: 0.2618384401114206.\n",
      "[I 2024-08-16 01:56:59,797] Trial 45 finished with value: 0.26062322946175637 and parameters: {'n_estimators': 1105, 'num_leaves': 2614, 'max_depth': 116, 'learning_rate': 0.07542751611761697, 'min_child_samples': 263}. Best is trial 15 with value: 0.2618384401114206.\n",
      "[I 2024-08-16 01:58:22,286] Trial 46 finished with value: 0.22098214285714288 and parameters: {'n_estimators': 1055, 'num_leaves': 2461, 'max_depth': 116, 'learning_rate': 0.0829583940993168, 'min_child_samples': 111}. Best is trial 15 with value: 0.2618384401114206.\n",
      "[I 2024-08-16 01:58:46,309] Trial 47 finished with value: 0.24398073836276082 and parameters: {'n_estimators': 611, 'num_leaves': 2343, 'max_depth': 83, 'learning_rate': 0.07509374217849056, 'min_child_samples': 260}. Best is trial 15 with value: 0.2618384401114206.\n",
      "[I 2024-08-16 01:59:30,054] Trial 48 finished with value: 0.1971326164874552 and parameters: {'n_estimators': 928, 'num_leaves': 2707, 'max_depth': 71, 'learning_rate': 0.016804802774200343, 'min_child_samples': 215}. Best is trial 15 with value: 0.2618384401114206.\n",
      "[I 2024-08-16 02:01:00,729] Trial 49 finished with value: 0.24301336573511548 and parameters: {'n_estimators': 1439, 'num_leaves': 2976, 'max_depth': 117, 'learning_rate': 0.08691376620689986, 'min_child_samples': 236}. Best is trial 15 with value: 0.2618384401114206.\n",
      "[I 2024-08-16 02:02:27,793] Trial 50 finished with value: 0.24802110817941955 and parameters: {'n_estimators': 1324, 'num_leaves': 2188, 'max_depth': 49, 'learning_rate': 0.07576022728945142, 'min_child_samples': 257}. Best is trial 15 with value: 0.2618384401114206.\n",
      "[I 2024-08-16 02:03:28,580] Trial 51 finished with value: 0.2415316642120766 and parameters: {'n_estimators': 1123, 'num_leaves': 2623, 'max_depth': 94, 'learning_rate': 0.06474523924283977, 'min_child_samples': 271}. Best is trial 15 with value: 0.2618384401114206.\n",
      "[I 2024-08-16 02:04:30,671] Trial 52 finished with value: 0.24403927068723702 and parameters: {'n_estimators': 1022, 'num_leaves': 2831, 'max_depth': 114, 'learning_rate': 0.05757020530174976, 'min_child_samples': 194}. Best is trial 15 with value: 0.2618384401114206.\n",
      "[I 2024-08-16 02:05:38,421] Trial 53 finished with value: 0.2516382699868938 and parameters: {'n_estimators': 1231, 'num_leaves': 2489, 'max_depth': 131, 'learning_rate': 0.07768078692224803, 'min_child_samples': 243}. Best is trial 15 with value: 0.2618384401114206.\n",
      "[I 2024-08-16 02:06:33,943] Trial 54 finished with value: 0.25146198830409355 and parameters: {'n_estimators': 1120, 'num_leaves': 2704, 'max_depth': 123, 'learning_rate': 0.07001106270072739, 'min_child_samples': 280}. Best is trial 15 with value: 0.2618384401114206.\n",
      "[I 2024-08-16 02:07:49,062] Trial 55 finished with value: 0.25531914893617025 and parameters: {'n_estimators': 1300, 'num_leaves': 2601, 'max_depth': 181, 'learning_rate': 0.06358024290513595, 'min_child_samples': 263}. Best is trial 15 with value: 0.2618384401114206.\n",
      "[I 2024-08-16 02:08:57,606] Trial 56 finished with value: 0.2528409090909091 and parameters: {'n_estimators': 1458, 'num_leaves': 2371, 'max_depth': 175, 'learning_rate': 0.051319711225307256, 'min_child_samples': 260}. Best is trial 15 with value: 0.2618384401114206.\n",
      "[I 2024-08-16 02:09:45,713] Trial 57 finished with value: 0.2472826086956522 and parameters: {'n_estimators': 896, 'num_leaves': 2905, 'max_depth': 211, 'learning_rate': 0.0808792420535801, 'min_child_samples': 213}. Best is trial 15 with value: 0.2618384401114206.\n",
      "[I 2024-08-16 02:10:37,450] Trial 58 finished with value: 0.25000000000000006 and parameters: {'n_estimators': 1048, 'num_leaves': 555, 'max_depth': 233, 'learning_rate': 0.062236918483828216, 'min_child_samples': 246}. Best is trial 15 with value: 0.2618384401114206.\n",
      "[I 2024-08-16 02:11:31,407] Trial 59 finished with value: 0.14769230769230768 and parameters: {'n_estimators': 1341, 'num_leaves': 2221, 'max_depth': 187, 'learning_rate': 0.0011375205361216431, 'min_child_samples': 291}. Best is trial 15 with value: 0.2618384401114206.\n",
      "[I 2024-08-16 02:13:07,446] Trial 60 finished with value: 0.22598870056497172 and parameters: {'n_estimators': 1655, 'num_leaves': 2833, 'max_depth': 157, 'learning_rate': 0.09422007205818574, 'min_child_samples': 234}. Best is trial 15 with value: 0.2618384401114206.\n",
      "[I 2024-08-16 02:14:17,088] Trial 61 finished with value: 0.24691358024691357 and parameters: {'n_estimators': 1254, 'num_leaves': 2592, 'max_depth': 141, 'learning_rate': 0.06933686472989753, 'min_child_samples': 268}. Best is trial 15 with value: 0.2618384401114206.\n",
      "[I 2024-08-16 02:15:16,318] Trial 62 finished with value: 0.24926686217008795 and parameters: {'n_estimators': 1169, 'num_leaves': 2655, 'max_depth': 107, 'learning_rate': 0.06464425283833648, 'min_child_samples': 278}. Best is trial 15 with value: 0.2618384401114206.\n",
      "[I 2024-08-16 02:16:05,107] Trial 63 finished with value: 0.25146198830409355 and parameters: {'n_estimators': 959, 'num_leaves': 2477, 'max_depth': 60, 'learning_rate': 0.07536462927367066, 'min_child_samples': 252}. Best is trial 15 with value: 0.2618384401114206.\n",
      "[I 2024-08-16 02:17:12,463] Trial 64 finished with value: 0.25591098748261476 and parameters: {'n_estimators': 1303, 'num_leaves': 2528, 'max_depth': 93, 'learning_rate': 0.071994043696714, 'min_child_samples': 291}. Best is trial 15 with value: 0.2618384401114206.\n",
      "[I 2024-08-16 02:18:45,230] Trial 65 finished with value: 0.24736842105263163 and parameters: {'n_estimators': 1563, 'num_leaves': 2520, 'max_depth': 89, 'learning_rate': 0.07193848066662503, 'min_child_samples': 290}. Best is trial 15 with value: 0.2618384401114206.\n",
      "[I 2024-08-16 02:20:13,883] Trial 66 finished with value: 0.2487046632124352 and parameters: {'n_estimators': 1325, 'num_leaves': 2801, 'max_depth': 69, 'learning_rate': 0.08397991790747536, 'min_child_samples': 265}. Best is trial 15 with value: 0.2618384401114206.\n",
      "[I 2024-08-16 02:21:02,014] Trial 67 finished with value: 0.25925925925925924 and parameters: {'n_estimators': 789, 'num_leaves': 2999, 'max_depth': 38, 'learning_rate': 0.0785715789656334, 'min_child_samples': 294}. Best is trial 15 with value: 0.2618384401114206.\n",
      "[I 2024-08-16 02:21:35,350] Trial 68 finished with value: 0.23950233281493002 and parameters: {'n_estimators': 812, 'num_leaves': 2999, 'max_depth': 33, 'learning_rate': 0.07907471378952265, 'min_child_samples': 299}. Best is trial 15 with value: 0.2618384401114206.\n",
      "[I 2024-08-16 02:22:07,183] Trial 69 finished with value: 0.24496644295302014 and parameters: {'n_estimators': 708, 'num_leaves': 2890, 'max_depth': 15, 'learning_rate': 0.08815663841609578, 'min_child_samples': 292}. Best is trial 15 with value: 0.2618384401114206.\n",
      "[I 2024-08-16 02:23:08,050] Trial 70 finished with value: 0.2492753623188406 and parameters: {'n_estimators': 1001, 'num_leaves': 2411, 'max_depth': 77, 'learning_rate': 0.08191449788214117, 'min_child_samples': 274}. Best is trial 15 with value: 0.2618384401114206.\n",
      "[I 2024-08-16 02:24:13,158] Trial 71 finished with value: 0.24046920821114368 and parameters: {'n_estimators': 1132, 'num_leaves': 2668, 'max_depth': 110, 'learning_rate': 0.07031610563453779, 'min_child_samples': 286}. Best is trial 15 with value: 0.2618384401114206.\n",
      "[I 2024-08-16 02:24:35,799] Trial 72 finished with value: 0.2370617696160267 and parameters: {'n_estimators': 516, 'num_leaves': 2764, 'max_depth': 45, 'learning_rate': 0.07705045712612926, 'min_child_samples': 253}. Best is trial 15 with value: 0.2618384401114206.\n",
      "[I 2024-08-16 02:25:57,584] Trial 73 finished with value: 0.24193548387096772 and parameters: {'n_estimators': 1401, 'num_leaves': 2569, 'max_depth': 98, 'learning_rate': 0.07221517707806133, 'min_child_samples': 263}. Best is trial 15 with value: 0.2618384401114206.\n",
      "[I 2024-08-16 02:29:07,718] Trial 74 finished with value: 0.2229654403567447 and parameters: {'n_estimators': 2701, 'num_leaves': 641, 'max_depth': 224, 'learning_rate': 0.05958118374739496, 'min_child_samples': 229}. Best is trial 15 with value: 0.2618384401114206.\n",
      "[I 2024-08-16 02:30:01,462] Trial 75 finished with value: 0.24522292993630573 and parameters: {'n_estimators': 847, 'num_leaves': 2855, 'max_depth': 125, 'learning_rate': 0.054118008157463426, 'min_child_samples': 242}. Best is trial 15 with value: 0.2618384401114206.\n",
      "[I 2024-08-16 02:31:31,306] Trial 76 finished with value: 0.25309491059147177 and parameters: {'n_estimators': 1495, 'num_leaves': 1752, 'max_depth': 61, 'learning_rate': 0.06408118400553946, 'min_child_samples': 274}. Best is trial 15 with value: 0.2618384401114206.\n",
      "[I 2024-08-16 02:32:12,701] Trial 77 finished with value: 0.25568181818181823 and parameters: {'n_estimators': 645, 'num_leaves': 2926, 'max_depth': 94, 'learning_rate': 0.09168197306144744, 'min_child_samples': 204}. Best is trial 15 with value: 0.2618384401114206.\n",
      "[I 2024-08-16 02:32:49,720] Trial 78 finished with value: 0.24313725490196078 and parameters: {'n_estimators': 631, 'num_leaves': 2949, 'max_depth': 91, 'learning_rate': 0.08501480426009274, 'min_child_samples': 154}. Best is trial 15 with value: 0.2618384401114206.\n",
      "[I 2024-08-16 02:34:12,719] Trial 79 finished with value: 0.21923937360178972 and parameters: {'n_estimators': 585, 'num_leaves': 2655, 'max_depth': 250, 'learning_rate': 0.07945661418645082, 'min_child_samples': 46}. Best is trial 15 with value: 0.2618384401114206.\n",
      "[I 2024-08-16 02:35:25,099] Trial 80 finished with value: 0.23600973236009734 and parameters: {'n_estimators': 1080, 'num_leaves': 2924, 'max_depth': 82, 'learning_rate': 0.09571065484931571, 'min_child_samples': 205}. Best is trial 15 with value: 0.2618384401114206.\n",
      "[I 2024-08-16 02:36:13,433] Trial 81 finished with value: 0.2523489932885906 and parameters: {'n_estimators': 744, 'num_leaves': 2760, 'max_depth': 142, 'learning_rate': 0.09964350477911345, 'min_child_samples': 218}. Best is trial 15 with value: 0.2618384401114206.\n",
      "[I 2024-08-16 02:37:43,019] Trial 82 finished with value: 0.2357142857142857 and parameters: {'n_estimators': 1169, 'num_leaves': 2720, 'max_depth': 101, 'learning_rate': 0.09143494005454722, 'min_child_samples': 192}. Best is trial 15 with value: 0.2618384401114206.\n",
      "[I 2024-08-16 02:38:40,648] Trial 83 finished with value: 0.24960998439937598 and parameters: {'n_estimators': 983, 'num_leaves': 1181, 'max_depth': 126, 'learning_rate': 0.06675305058013743, 'min_child_samples': 296}. Best is trial 15 with value: 0.2618384401114206.\n",
      "[I 2024-08-16 02:40:09,763] Trial 84 finished with value: 0.25000000000000006 and parameters: {'n_estimators': 1301, 'num_leaves': 2848, 'max_depth': 194, 'learning_rate': 0.07421055132380328, 'min_child_samples': 284}. Best is trial 15 with value: 0.2618384401114206.\n",
      "[I 2024-08-16 02:41:05,197] Trial 85 finished with value: 0.2544951590594744 and parameters: {'n_estimators': 789, 'num_leaves': 2324, 'max_depth': 77, 'learning_rate': 0.0893996078875153, 'min_child_samples': 225}. Best is trial 15 with value: 0.2618384401114206.\n",
      "[I 2024-08-16 02:41:43,095] Trial 86 finished with value: 0.24173027989821885 and parameters: {'n_estimators': 795, 'num_leaves': 2540, 'max_depth': 76, 'learning_rate': 0.09088546638534013, 'min_child_samples': 180}. Best is trial 15 with value: 0.2618384401114206.\n",
      "[I 2024-08-16 02:42:21,164] Trial 87 finished with value: 0.24669603524229075 and parameters: {'n_estimators': 662, 'num_leaves': 2429, 'max_depth': 38, 'learning_rate': 0.08849143328933408, 'min_child_samples': 224}. Best is trial 15 with value: 0.2618384401114206.\n",
      "[I 2024-08-16 02:43:17,068] Trial 88 finished with value: 0.2522522522522523 and parameters: {'n_estimators': 881, 'num_leaves': 2328, 'max_depth': 68, 'learning_rate': 0.09340483090871866, 'min_child_samples': 199}. Best is trial 15 with value: 0.2618384401114206.\n",
      "[I 2024-08-16 02:45:14,746] Trial 89 finished with value: 0.23185011709601872 and parameters: {'n_estimators': 1761, 'num_leaves': 1908, 'max_depth': 26, 'learning_rate': 0.09684967457308843, 'min_child_samples': 248}. Best is trial 15 with value: 0.2618384401114206.\n",
      "[I 2024-08-16 02:45:47,293] Trial 90 finished with value: 0.2593144560357675 and parameters: {'n_estimators': 769, 'num_leaves': 2260, 'max_depth': 57, 'learning_rate': 0.08462866401121406, 'min_child_samples': 256}. Best is trial 15 with value: 0.2618384401114206.\n",
      "[I 2024-08-16 02:46:33,957] Trial 91 finished with value: 0.2545968882602546 and parameters: {'n_estimators': 921, 'num_leaves': 2241, 'max_depth': 56, 'learning_rate': 0.08580804638716098, 'min_child_samples': 257}. Best is trial 15 with value: 0.2618384401114206.\n",
      "[I 2024-08-16 02:47:07,710] Trial 92 finished with value: 0.24962852897473997 and parameters: {'n_estimators': 782, 'num_leaves': 2107, 'max_depth': 56, 'learning_rate': 0.08555962969894296, 'min_child_samples': 256}. Best is trial 15 with value: 0.2618384401114206.\n",
      "[I 2024-08-16 02:47:54,838] Trial 93 finished with value: 0.25920471281296026 and parameters: {'n_estimators': 916, 'num_leaves': 2252, 'max_depth': 46, 'learning_rate': 0.08260701886367042, 'min_child_samples': 265}. Best is trial 15 with value: 0.2618384401114206.\n",
      "[I 2024-08-16 02:48:42,119] Trial 94 finished with value: 0.2485549132947977 and parameters: {'n_estimators': 933, 'num_leaves': 2066, 'max_depth': 41, 'learning_rate': 0.08208117062765868, 'min_child_samples': 272}. Best is trial 15 with value: 0.2618384401114206.\n",
      "[I 2024-08-16 02:49:30,707] Trial 95 finished with value: 0.2503681885125184 and parameters: {'n_estimators': 901, 'num_leaves': 2274, 'max_depth': 50, 'learning_rate': 0.08041401823783127, 'min_child_samples': 267}. Best is trial 15 with value: 0.2618384401114206.\n",
      "[I 2024-08-16 02:50:09,725] Trial 96 finished with value: 0.25 and parameters: {'n_estimators': 697, 'num_leaves': 2196, 'max_depth': 31, 'learning_rate': 0.07751717355627274, 'min_child_samples': 278}. Best is trial 15 with value: 0.2618384401114206.\n",
      "[I 2024-08-16 02:51:18,138] Trial 97 finished with value: 0.2546494992846924 and parameters: {'n_estimators': 1062, 'num_leaves': 1671, 'max_depth': 58, 'learning_rate': 0.08329861344284523, 'min_child_samples': 283}. Best is trial 15 with value: 0.2618384401114206.\n",
      "[I 2024-08-16 02:52:20,931] Trial 98 finished with value: 0.2577903682719547 and parameters: {'n_estimators': 1060, 'num_leaves': 914, 'max_depth': 66, 'learning_rate': 0.08308256761134133, 'min_child_samples': 283}. Best is trial 15 with value: 0.2618384401114206.\n",
      "[I 2024-08-16 02:53:12,575] Trial 99 finished with value: 0.2484848484848485 and parameters: {'n_estimators': 1015, 'num_leaves': 743, 'max_depth': 65, 'learning_rate': 0.0733895986895523, 'min_child_samples': 295}. Best is trial 15 with value: 0.2618384401114206.\n",
      "[I 2024-08-16 02:54:36,474] Trial 100 finished with value: 0.23067484662576684 and parameters: {'n_estimators': 1200, 'num_leaves': 844, 'max_depth': 17, 'learning_rate': 0.07741123397412213, 'min_child_samples': 91}. Best is trial 15 with value: 0.2618384401114206.\n",
      "[I 2024-08-16 02:55:44,552] Trial 101 finished with value: 0.2485875706214689 and parameters: {'n_estimators': 1105, 'num_leaves': 937, 'max_depth': 73, 'learning_rate': 0.0838061176014917, 'min_child_samples': 287}. Best is trial 15 with value: 0.2618384401114206.\n",
      "[I 2024-08-16 02:56:53,691] Trial 102 finished with value: 0.2563380281690141 and parameters: {'n_estimators': 1079, 'num_leaves': 1413, 'max_depth': 82, 'learning_rate': 0.08767114732992055, 'min_child_samples': 283}. Best is trial 15 with value: 0.2618384401114206.\n",
      "[I 2024-08-16 02:57:51,132] Trial 103 finished with value: 0.2456140350877193 and parameters: {'n_estimators': 977, 'num_leaves': 1341, 'max_depth': 89, 'learning_rate': 0.08695823587030087, 'min_child_samples': 300}. Best is trial 15 with value: 0.2618384401114206.\n",
      "[I 2024-08-16 02:58:15,021] Trial 104 finished with value: 0.25477707006369427 and parameters: {'n_estimators': 551, 'num_leaves': 1097, 'max_depth': 95, 'learning_rate': 0.09200714986294664, 'min_child_samples': 264}. Best is trial 15 with value: 0.2618384401114206.\n",
      "[I 2024-08-16 02:59:01,555] Trial 105 finished with value: 0.2560975609756098 and parameters: {'n_estimators': 847, 'num_leaves': 948, 'max_depth': 84, 'learning_rate': 0.07565819380878898, 'min_child_samples': 271}. Best is trial 15 with value: 0.2618384401114206.\n",
      "[I 2024-08-16 02:59:42,816] Trial 106 finished with value: 0.25233644859813087 and parameters: {'n_estimators': 820, 'num_leaves': 991, 'max_depth': 82, 'learning_rate': 0.07578871557893382, 'min_child_samples': 276}. Best is trial 15 with value: 0.2618384401114206.\n",
      "[I 2024-08-16 03:00:26,152] Trial 107 finished with value: 0.25416036308623297 and parameters: {'n_estimators': 864, 'num_leaves': 1166, 'max_depth': 44, 'learning_rate': 0.08019063383137727, 'min_child_samples': 285}. Best is trial 15 with value: 0.2618384401114206.\n",
      "[I 2024-08-16 03:00:54,301] Trial 108 finished with value: 0.25157232704402516 and parameters: {'n_estimators': 641, 'num_leaves': 871, 'max_depth': 110, 'learning_rate': 0.08845070449427893, 'min_child_samples': 293}. Best is trial 15 with value: 0.2618384401114206.\n",
      "[I 2024-08-16 03:01:27,589] Trial 109 finished with value: 0.20180180180180177 and parameters: {'n_estimators': 746, 'num_leaves': 1460, 'max_depth': 66, 'learning_rate': 0.02785612648154171, 'min_child_samples': 270}. Best is trial 15 with value: 0.2618384401114206.\n",
      "[I 2024-08-16 03:02:27,292] Trial 110 finished with value: 0.25287356321839083 and parameters: {'n_estimators': 1026, 'num_leaves': 1826, 'max_depth': 102, 'learning_rate': 0.08227145168504452, 'min_child_samples': 279}. Best is trial 15 with value: 0.2618384401114206.\n",
      "[I 2024-08-16 03:03:43,192] Trial 111 finished with value: 0.25103448275862067 and parameters: {'n_estimators': 1285, 'num_leaves': 981, 'max_depth': 86, 'learning_rate': 0.07197059213362145, 'min_child_samples': 265}. Best is trial 15 with value: 0.2618384401114206.\n",
      "[I 2024-08-16 03:04:51,728] Trial 112 finished with value: 0.2545454545454546 and parameters: {'n_estimators': 1097, 'num_leaves': 757, 'max_depth': 52, 'learning_rate': 0.07603158751271787, 'min_child_samples': 250}. Best is trial 15 with value: 0.2618384401114206.\n",
      "[I 2024-08-16 03:07:10,153] Trial 113 finished with value: 0.23282887077997672 and parameters: {'n_estimators': 2248, 'num_leaves': 1545, 'max_depth': 79, 'learning_rate': 0.06791019923199107, 'min_child_samples': 261}. Best is trial 15 with value: 0.2618384401114206.\n",
      "[I 2024-08-16 03:07:51,881] Trial 114 finished with value: 0.25641025641025644 and parameters: {'n_estimators': 943, 'num_leaves': 649, 'max_depth': 106, 'learning_rate': 0.07909326854793544, 'min_child_samples': 287}. Best is trial 15 with value: 0.2618384401114206.\n",
      "[I 2024-08-16 03:08:36,554] Trial 115 finished with value: 0.24060150375939848 and parameters: {'n_estimators': 967, 'num_leaves': 590, 'max_depth': 94, 'learning_rate': 0.07869944330890116, 'min_child_samples': 289}. Best is trial 15 with value: 0.2618384401114206.\n",
      "[I 2024-08-16 03:09:19,205] Trial 116 finished with value: 0.25227963525835867 and parameters: {'n_estimators': 829, 'num_leaves': 1358, 'max_depth': 111, 'learning_rate': 0.08083727214843557, 'min_child_samples': 281}. Best is trial 15 with value: 0.2618384401114206.\n",
      "[I 2024-08-16 03:10:31,722] Trial 117 finished with value: 0.2531293463143255 and parameters: {'n_estimators': 1068, 'num_leaves': 693, 'max_depth': 118, 'learning_rate': 0.0952843522176785, 'min_child_samples': 295}. Best is trial 15 with value: 0.2618384401114206.\n",
      "[I 2024-08-16 03:11:12,272] Trial 118 finished with value: 0.2445054945054945 and parameters: {'n_estimators': 500, 'num_leaves': 1058, 'max_depth': 99, 'learning_rate': 0.08679775746209527, 'min_child_samples': 135}. Best is trial 15 with value: 0.2618384401114206.\n",
      "[I 2024-08-16 03:12:35,918] Trial 119 finished with value: 0.1849912739965096 and parameters: {'n_estimators': 1171, 'num_leaves': 1278, 'max_depth': 27, 'learning_rate': 0.006583769159853509, 'min_child_samples': 272}. Best is trial 15 with value: 0.2618384401114206.\n",
      "[I 2024-08-16 03:13:09,635] Trial 120 finished with value: 0.24203821656050958 and parameters: {'n_estimators': 714, 'num_leaves': 798, 'max_depth': 106, 'learning_rate': 0.07377081150696263, 'min_child_samples': 286}. Best is trial 15 with value: 0.2618384401114206.\n",
      "[I 2024-08-16 03:14:07,841] Trial 121 finished with value: 0.24576271186440676 and parameters: {'n_estimators': 1207, 'num_leaves': 534, 'max_depth': 89, 'learning_rate': 0.07149127395892342, 'min_child_samples': 275}. Best is trial 15 with value: 0.2618384401114206.\n",
      "[I 2024-08-16 03:14:56,297] Trial 122 finished with value: 0.2485380116959064 and parameters: {'n_estimators': 948, 'num_leaves': 2623, 'max_depth': 289, 'learning_rate': 0.07870151898663459, 'min_child_samples': 259}. Best is trial 15 with value: 0.2618384401114206.\n",
      "[I 2024-08-16 03:16:12,040] Trial 123 finished with value: 0.25309491059147177 and parameters: {'n_estimators': 1378, 'num_leaves': 900, 'max_depth': 72, 'learning_rate': 0.07547502549375623, 'min_child_samples': 300}. Best is trial 15 with value: 0.2618384401114206.\n",
      "[I 2024-08-16 03:17:08,756] Trial 124 finished with value: 0.2524590163934426 and parameters: {'n_estimators': 1137, 'num_leaves': 2477, 'max_depth': 10, 'learning_rate': 0.08297188240664428, 'min_child_samples': 244}. Best is trial 15 with value: 0.2618384401114206.\n",
      "[I 2024-08-16 03:17:56,581] Trial 125 finished with value: 0.25426356589147286 and parameters: {'n_estimators': 884, 'num_leaves': 643, 'max_depth': 62, 'learning_rate': 0.06819498644425144, 'min_child_samples': 268}. Best is trial 15 with value: 0.2618384401114206.\n",
      "[I 2024-08-16 03:18:57,998] Trial 126 finished with value: 0.2457142857142857 and parameters: {'n_estimators': 1012, 'num_leaves': 1133, 'max_depth': 79, 'learning_rate': 0.09024643392649662, 'min_child_samples': 291}. Best is trial 15 with value: 0.2618384401114206.\n",
      "[I 2024-08-16 03:19:39,430] Trial 127 finished with value: 0.2469135802469136 and parameters: {'n_estimators': 759, 'num_leaves': 1398, 'max_depth': 46, 'learning_rate': 0.06951129101442129, 'min_child_samples': 255}. Best is trial 15 with value: 0.2618384401114206.\n",
      "[I 2024-08-16 03:21:05,361] Trial 128 finished with value: 0.239247311827957 and parameters: {'n_estimators': 1247, 'num_leaves': 1988, 'max_depth': 87, 'learning_rate': 0.0850858998054063, 'min_child_samples': 282}. Best is trial 15 with value: 0.2618384401114206.\n",
      "[I 2024-08-16 03:23:20,013] Trial 129 finished with value: 0.2262038073908175 and parameters: {'n_estimators': 2148, 'num_leaves': 2998, 'max_depth': 95, 'learning_rate': 0.07687041609937623, 'min_child_samples': 235}. Best is trial 15 with value: 0.2618384401114206.\n",
      "[I 2024-08-16 03:24:16,892] Trial 130 finished with value: 0.2509803921568627 and parameters: {'n_estimators': 861, 'num_leaves': 2380, 'max_depth': 69, 'learning_rate': 0.07415208243839533, 'min_child_samples': 166}. Best is trial 15 with value: 0.2618384401114206.\n",
      "[I 2024-08-16 03:24:45,243] Trial 131 finished with value: 0.2581648522550544 and parameters: {'n_estimators': 586, 'num_leaves': 1029, 'max_depth': 97, 'learning_rate': 0.09149967286272785, 'min_child_samples': 264}. Best is trial 15 with value: 0.2618384401114206.\n",
      "[I 2024-08-16 03:25:21,498] Trial 132 finished with value: 0.24624624624624628 and parameters: {'n_estimators': 713, 'num_leaves': 959, 'max_depth': 120, 'learning_rate': 0.09294135500207007, 'min_child_samples': 274}. Best is trial 15 with value: 0.2618384401114206.\n",
      "[I 2024-08-16 03:25:48,568] Trial 133 finished with value: 0.23064770932069512 and parameters: {'n_estimators': 597, 'num_leaves': 1260, 'max_depth': 105, 'learning_rate': 0.08145225847547152, 'min_child_samples': 261}. Best is trial 15 with value: 0.2618384401114206.\n",
      "[I 2024-08-16 03:26:18,297] Trial 134 finished with value: 0.25230769230769234 and parameters: {'n_estimators': 640, 'num_leaves': 1010, 'max_depth': 53, 'learning_rate': 0.08925150738568452, 'min_child_samples': 268}. Best is trial 15 with value: 0.2618384401114206.\n",
      "[I 2024-08-16 03:26:41,829] Trial 135 finished with value: 0.2504012841091493 and parameters: {'n_estimators': 555, 'num_leaves': 897, 'max_depth': 114, 'learning_rate': 0.07929383484872245, 'min_child_samples': 251}. Best is trial 15 with value: 0.2618384401114206.\n",
      "[I 2024-08-16 03:27:37,380] Trial 136 finished with value: 0.24857142857142855 and parameters: {'n_estimators': 1046, 'num_leaves': 2678, 'max_depth': 85, 'learning_rate': 0.08742753100386597, 'min_child_samples': 281}. Best is trial 15 with value: 0.2618384401114206.\n",
      "[I 2024-08-16 03:28:31,261] Trial 137 finished with value: 0.25383542538354253 and parameters: {'n_estimators': 928, 'num_leaves': 2545, 'max_depth': 177, 'learning_rate': 0.09697056880111515, 'min_child_samples': 276}. Best is trial 15 with value: 0.2618384401114206.\n",
      "[I 2024-08-16 03:29:34,243] Trial 138 finished with value: 0.2521008403361345 and parameters: {'n_estimators': 1109, 'num_leaves': 794, 'max_depth': 98, 'learning_rate': 0.08530735125844764, 'min_child_samples': 291}. Best is trial 15 with value: 0.2618384401114206.\n",
      "[I 2024-08-16 03:30:07,855] Trial 139 finished with value: 0.24367088607594933 and parameters: {'n_estimators': 678, 'num_leaves': 1037, 'max_depth': 127, 'learning_rate': 0.08334400901806108, 'min_child_samples': 285}. Best is trial 15 with value: 0.2618384401114206.\n",
      "[I 2024-08-16 03:30:56,716] Trial 140 finished with value: 0.2519201228878648 and parameters: {'n_estimators': 800, 'num_leaves': 2873, 'max_depth': 64, 'learning_rate': 0.07229124564027971, 'min_child_samples': 264}. Best is trial 15 with value: 0.2618384401114206.\n",
      "[I 2024-08-16 03:31:28,798] Trial 141 finished with value: 0.24605678233438485 and parameters: {'n_estimators': 593, 'num_leaves': 937, 'max_depth': 74, 'learning_rate': 0.09197947578143913, 'min_child_samples': 267}. Best is trial 15 with value: 0.2618384401114206.\n",
      "[I 2024-08-16 03:31:54,462] Trial 142 finished with value: 0.24960505529225904 and parameters: {'n_estimators': 540, 'num_leaves': 1140, 'max_depth': 103, 'learning_rate': 0.09455969733792807, 'min_child_samples': 256}. Best is trial 15 with value: 0.2618384401114206.\n",
      "[I 2024-08-16 03:32:27,912] Trial 143 finished with value: 0.24261275272161742 and parameters: {'n_estimators': 598, 'num_leaves': 1195, 'max_depth': 92, 'learning_rate': 0.09198685678898971, 'min_child_samples': 247}. Best is trial 15 with value: 0.2618384401114206.\n",
      "[I 2024-08-16 03:32:59,055] Trial 144 finished with value: 0.2511923688394277 and parameters: {'n_estimators': 660, 'num_leaves': 1120, 'max_depth': 38, 'learning_rate': 0.07734291277988936, 'min_child_samples': 272}. Best is trial 15 with value: 0.2618384401114206.\n",
      "[I 2024-08-16 03:34:04,084] Trial 145 finished with value: 0.2453333333333333 and parameters: {'n_estimators': 986, 'num_leaves': 846, 'max_depth': 95, 'learning_rate': 0.0894850655758558, 'min_child_samples': 240}. Best is trial 15 with value: 0.2618384401114206.\n",
      "[I 2024-08-16 03:34:27,639] Trial 146 finished with value: 0.2270450751252087 and parameters: {'n_estimators': 549, 'num_leaves': 2446, 'max_depth': 80, 'learning_rate': 0.08057856847966027, 'min_child_samples': 295}. Best is trial 15 with value: 0.2618384401114206.\n",
      "[I 2024-08-16 03:35:14,789] Trial 147 finished with value: 0.21490467937608318 and parameters: {'n_estimators': 761, 'num_leaves': 1090, 'max_depth': 111, 'learning_rate': 0.04310542620321409, 'min_child_samples': 264}. Best is trial 15 with value: 0.2618384401114206.\n",
      "[I 2024-08-16 03:36:31,081] Trial 148 finished with value: 0.2563417890520694 and parameters: {'n_estimators': 1205, 'num_leaves': 2935, 'max_depth': 91, 'learning_rate': 0.08737958361771785, 'min_child_samples': 278}. Best is trial 15 with value: 0.2618384401114206.\n",
      "[I 2024-08-16 03:37:32,360] Trial 149 finished with value: 0.25340599455040874 and parameters: {'n_estimators': 1181, 'num_leaves': 2920, 'max_depth': 84, 'learning_rate': 0.08408055924469812, 'min_child_samples': 280}. Best is trial 15 with value: 0.2618384401114206.\n",
      "[I 2024-08-16 03:38:46,582] Trial 150 finished with value: 0.24866310160427807 and parameters: {'n_estimators': 1290, 'num_leaves': 2789, 'max_depth': 166, 'learning_rate': 0.08688667632946628, 'min_child_samples': 288}. Best is trial 15 with value: 0.2618384401114206.\n",
      "[I 2024-08-16 03:40:24,559] Trial 151 finished with value: 0.24164524421593828 and parameters: {'n_estimators': 1352, 'num_leaves': 2936, 'max_depth': 92, 'learning_rate': 0.09016987642574383, 'min_child_samples': 277}. Best is trial 15 with value: 0.2618384401114206.\n",
      "[I 2024-08-16 03:41:31,943] Trial 152 finished with value: 0.2595019659239843 and parameters: {'n_estimators': 1075, 'num_leaves': 1620, 'max_depth': 100, 'learning_rate': 0.09853727235536446, 'min_child_samples': 261}. Best is trial 15 with value: 0.2618384401114206.\n",
      "[I 2024-08-16 03:42:36,939] Trial 153 finished with value: 0.2490272373540856 and parameters: {'n_estimators': 1082, 'num_leaves': 1574, 'max_depth': 101, 'learning_rate': 0.09656422314111462, 'min_child_samples': 259}. Best is trial 15 with value: 0.2618384401114206.\n",
      "[I 2024-08-16 03:43:51,980] Trial 154 finished with value: 0.25648021828103684 and parameters: {'n_estimators': 1219, 'num_leaves': 1635, 'max_depth': 76, 'learning_rate': 0.0786978848790798, 'min_child_samples': 270}. Best is trial 15 with value: 0.2618384401114206.\n",
      "[I 2024-08-16 03:44:47,944] Trial 155 finished with value: 0.253671562082777 and parameters: {'n_estimators': 1130, 'num_leaves': 1663, 'max_depth': 74, 'learning_rate': 0.0990488656533458, 'min_child_samples': 286}. Best is trial 15 with value: 0.2618384401114206.\n",
      "[I 2024-08-16 03:45:48,901] Trial 156 finished with value: 0.25 and parameters: {'n_estimators': 1205, 'num_leaves': 1608, 'max_depth': 106, 'learning_rate': 0.07850433800170165, 'min_child_samples': 271}. Best is trial 15 with value: 0.2618384401114206.\n",
      "[I 2024-08-16 03:46:41,574] Trial 157 finished with value: 0.24817518248175183 and parameters: {'n_estimators': 1054, 'num_leaves': 1727, 'max_depth': 86, 'learning_rate': 0.08075363946910873, 'min_child_samples': 300}. Best is trial 15 with value: 0.2618384401114206.\n",
      "[I 2024-08-16 03:47:44,355] Trial 158 finished with value: 0.25662482566248257 and parameters: {'n_estimators': 1150, 'num_leaves': 1779, 'max_depth': 67, 'learning_rate': 0.08217227002143127, 'min_child_samples': 279}. Best is trial 15 with value: 0.2618384401114206.\n",
      "[I 2024-08-16 03:48:48,689] Trial 159 finished with value: 0.25718194254445964 and parameters: {'n_estimators': 1152, 'num_leaves': 1778, 'max_depth': 54, 'learning_rate': 0.08259062852476567, 'min_child_samples': 280}. Best is trial 15 with value: 0.2618384401114206.\n",
      "[I 2024-08-16 03:49:49,827] Trial 160 finished with value: 0.2540983606557377 and parameters: {'n_estimators': 1147, 'num_leaves': 1848, 'max_depth': 60, 'learning_rate': 0.08312263037491555, 'min_child_samples': 277}. Best is trial 15 with value: 0.2618384401114206.\n",
      "[I 2024-08-16 03:50:55,547] Trial 161 finished with value: 0.24866310160427807 and parameters: {'n_estimators': 1233, 'num_leaves': 1787, 'max_depth': 49, 'learning_rate': 0.08534992370693464, 'min_child_samples': 283}. Best is trial 15 with value: 0.2618384401114206.\n",
      "[I 2024-08-16 03:51:49,613] Trial 162 finished with value: 0.254014598540146 and parameters: {'n_estimators': 1016, 'num_leaves': 1960, 'max_depth': 68, 'learning_rate': 0.08228849560329396, 'min_child_samples': 294}. Best is trial 15 with value: 0.2618384401114206.\n",
      "[I 2024-08-16 03:52:49,602] Trial 163 finished with value: 0.2532374100719424 and parameters: {'n_estimators': 1102, 'num_leaves': 1706, 'max_depth': 44, 'learning_rate': 0.07539377136251167, 'min_child_samples': 290}. Best is trial 15 with value: 0.2618384401114206.\n",
      "[I 2024-08-16 03:53:40,106] Trial 164 finished with value: 0.25958702064896755 and parameters: {'n_estimators': 976, 'num_leaves': 1508, 'max_depth': 59, 'learning_rate': 0.0792655040359859, 'min_child_samples': 271}. Best is trial 15 with value: 0.2618384401114206.\n",
      "[I 2024-08-16 03:54:38,675] Trial 165 finished with value: 0.25 and parameters: {'n_estimators': 955, 'num_leaves': 1494, 'max_depth': 57, 'learning_rate': 0.07928339545115987, 'min_child_samples': 271}. Best is trial 15 with value: 0.2618384401114206.\n",
      "[I 2024-08-16 03:55:31,505] Trial 166 finished with value: 0.2451994091580502 and parameters: {'n_estimators': 901, 'num_leaves': 1537, 'max_depth': 34, 'learning_rate': 0.07779656079563392, 'min_child_samples': 254}. Best is trial 15 with value: 0.2618384401114206.\n",
      "[I 2024-08-16 03:56:25,397] Trial 167 finished with value: 0.2535612535612536 and parameters: {'n_estimators': 1050, 'num_leaves': 1660, 'max_depth': 63, 'learning_rate': 0.08154925793289765, 'min_child_samples': 269}. Best is trial 15 with value: 0.2618384401114206.\n",
      "[I 2024-08-16 03:57:08,223] Trial 168 finished with value: 0.2575107296137339 and parameters: {'n_estimators': 991, 'num_leaves': 1432, 'max_depth': 54, 'learning_rate': 0.08423731089720722, 'min_child_samples': 278}. Best is trial 15 with value: 0.2618384401114206.\n",
      "[I 2024-08-16 03:57:52,879] Trial 169 finished with value: 0.2445414847161572 and parameters: {'n_estimators': 985, 'num_leaves': 1433, 'max_depth': 56, 'learning_rate': 0.0872658212792963, 'min_child_samples': 279}. Best is trial 15 with value: 0.2618384401114206.\n",
      "[I 2024-08-16 03:58:50,988] Trial 170 finished with value: 0.2503328894806924 and parameters: {'n_estimators': 1170, 'num_leaves': 1607, 'max_depth': 41, 'learning_rate': 0.08449314315698693, 'min_child_samples': 261}. Best is trial 15 with value: 0.2618384401114206.\n",
      "[I 2024-08-16 03:59:28,426] Trial 171 finished with value: 0.24508320726172464 and parameters: {'n_estimators': 852, 'num_leaves': 1486, 'max_depth': 51, 'learning_rate': 0.07998859672254903, 'min_child_samples': 274}. Best is trial 15 with value: 0.2618384401114206.\n",
      "[I 2024-08-16 04:00:21,178] Trial 172 finished with value: 0.24999999999999994 and parameters: {'n_estimators': 1098, 'num_leaves': 1523, 'max_depth': 71, 'learning_rate': 0.082280058262328, 'min_child_samples': 284}. Best is trial 15 with value: 0.2618384401114206.\n",
      "[I 2024-08-16 04:01:06,525] Trial 173 finished with value: 0.2545454545454545 and parameters: {'n_estimators': 925, 'num_leaves': 1454, 'max_depth': 80, 'learning_rate': 0.07568430949256592, 'min_child_samples': 267}. Best is trial 15 with value: 0.2618384401114206.\n",
      "[I 2024-08-16 04:02:05,622] Trial 174 finished with value: 0.25561797752808985 and parameters: {'n_estimators': 1025, 'num_leaves': 1786, 'max_depth': 63, 'learning_rate': 0.08570556406510278, 'min_child_samples': 275}. Best is trial 15 with value: 0.2618384401114206.\n",
      "[I 2024-08-16 04:03:04,381] Trial 175 finished with value: 0.25742574257425743 and parameters: {'n_estimators': 1069, 'num_leaves': 1404, 'max_depth': 48, 'learning_rate': 0.08351165190113143, 'min_child_samples': 280}. Best is trial 15 with value: 0.2618384401114206.\n",
      "[I 2024-08-16 04:04:14,281] Trial 176 finished with value: 0.24930747922437677 and parameters: {'n_estimators': 1134, 'num_leaves': 1377, 'max_depth': 46, 'learning_rate': 0.08430144515493816, 'min_child_samples': 283}. Best is trial 15 with value: 0.2618384401114206.\n",
      "[I 2024-08-16 04:05:38,799] Trial 177 finished with value: 0.26541554959785524 and parameters: {'n_estimators': 1205, 'num_leaves': 1880, 'max_depth': 53, 'learning_rate': 0.0877525670484991, 'min_child_samples': 288}. Best is trial 177 with value: 0.26541554959785524.\n",
      "[I 2024-08-16 04:06:47,083] Trial 178 finished with value: 0.24898511502029766 and parameters: {'n_estimators': 1201, 'num_leaves': 1307, 'max_depth': 54, 'learning_rate': 0.08690973731020006, 'min_child_samples': 289}. Best is trial 177 with value: 0.26541554959785524.\n",
      "[I 2024-08-16 04:07:50,984] Trial 179 finished with value: 0.24657534246575347 and parameters: {'n_estimators': 1243, 'num_leaves': 2030, 'max_depth': 30, 'learning_rate': 0.08861602146228113, 'min_child_samples': 294}. Best is trial 177 with value: 0.26541554959785524.\n",
      "[I 2024-08-16 04:08:52,776] Trial 180 finished with value: 0.25251076040172166 and parameters: {'n_estimators': 1067, 'num_leaves': 2141, 'max_depth': 59, 'learning_rate': 0.08297922101667395, 'min_child_samples': 279}. Best is trial 177 with value: 0.26541554959785524.\n",
      "[I 2024-08-16 04:10:00,596] Trial 181 finished with value: 0.252808988764045 and parameters: {'n_estimators': 1143, 'num_leaves': 1905, 'max_depth': 40, 'learning_rate': 0.08086046044397874, 'min_child_samples': 285}. Best is trial 177 with value: 0.26541554959785524.\n",
      "[I 2024-08-16 04:10:53,766] Trial 182 finished with value: 0.2581560283687943 and parameters: {'n_estimators': 991, 'num_leaves': 1412, 'max_depth': 50, 'learning_rate': 0.08513209616972267, 'min_child_samples': 265}. Best is trial 177 with value: 0.26541554959785524.\n",
      "[I 2024-08-16 04:11:48,899] Trial 183 finished with value: 0.2569832402234637 and parameters: {'n_estimators': 990, 'num_leaves': 1380, 'max_depth': 51, 'learning_rate': 0.08811067339677954, 'min_child_samples': 266}. Best is trial 177 with value: 0.26541554959785524.\n",
      "[I 2024-08-16 04:12:46,626] Trial 184 finished with value: 0.252808988764045 and parameters: {'n_estimators': 987, 'num_leaves': 1592, 'max_depth': 48, 'learning_rate': 0.08514965239707864, 'min_child_samples': 265}. Best is trial 177 with value: 0.26541554959785524.\n",
      "[I 2024-08-16 04:13:42,917] Trial 185 finished with value: 0.2545968882602546 and parameters: {'n_estimators': 932, 'num_leaves': 1699, 'max_depth': 51, 'learning_rate': 0.0888402107572984, 'min_child_samples': 273}. Best is trial 177 with value: 0.26541554959785524.\n",
      "[I 2024-08-16 04:14:47,444] Trial 186 finished with value: 0.2552594670406732 and parameters: {'n_estimators': 1021, 'num_leaves': 1815, 'max_depth': 36, 'learning_rate': 0.08354853946407725, 'min_child_samples': 259}. Best is trial 177 with value: 0.26541554959785524.\n",
      "[I 2024-08-16 04:15:40,754] Trial 187 finished with value: 0.24536376604850216 and parameters: {'n_estimators': 964, 'num_leaves': 1244, 'max_depth': 56, 'learning_rate': 0.09376115959865751, 'min_child_samples': 279}. Best is trial 177 with value: 0.26541554959785524.\n",
      "[I 2024-08-16 04:16:36,451] Trial 188 finished with value: 0.2543859649122807 and parameters: {'n_estimators': 890, 'num_leaves': 1747, 'max_depth': 66, 'learning_rate': 0.07885806356990871, 'min_child_samples': 251}. Best is trial 177 with value: 0.26541554959785524.\n",
      "[I 2024-08-16 04:19:21,332] Trial 189 finished with value: 0.23169398907103828 and parameters: {'n_estimators': 2545, 'num_leaves': 1426, 'max_depth': 43, 'learning_rate': 0.08653174664353212, 'min_child_samples': 267}. Best is trial 177 with value: 0.26541554959785524.\n",
      "[I 2024-08-16 04:20:43,225] Trial 190 finished with value: 0.25899280575539574 and parameters: {'n_estimators': 1180, 'num_leaves': 1502, 'max_depth': 21, 'learning_rate': 0.09047953143898887, 'min_child_samples': 276}. Best is trial 177 with value: 0.26541554959785524.\n",
      "[I 2024-08-16 04:21:46,895] Trial 191 finished with value: 0.25745257452574527 and parameters: {'n_estimators': 1141, 'num_leaves': 1533, 'max_depth': 49, 'learning_rate': 0.09063221296291724, 'min_child_samples': 275}. Best is trial 177 with value: 0.26541554959785524.\n",
      "[I 2024-08-16 04:22:42,042] Trial 192 finished with value: 0.24823695345557123 and parameters: {'n_estimators': 1062, 'num_leaves': 1505, 'max_depth': 24, 'learning_rate': 0.0912535722138285, 'min_child_samples': 263}. Best is trial 177 with value: 0.26541554959785524.\n",
      "[I 2024-08-16 04:23:48,770] Trial 193 finished with value: 0.25135135135135134 and parameters: {'n_estimators': 1157, 'num_leaves': 1630, 'max_depth': 49, 'learning_rate': 0.08158936014913254, 'min_child_samples': 269}. Best is trial 177 with value: 0.26541554959785524.\n",
      "[I 2024-08-16 04:24:44,036] Trial 194 finished with value: 0.24893917963224896 and parameters: {'n_estimators': 1011, 'num_leaves': 1351, 'max_depth': 54, 'learning_rate': 0.09315081429327474, 'min_child_samples': 289}. Best is trial 177 with value: 0.26541554959785524.\n",
      "[I 2024-08-16 04:25:50,507] Trial 195 finished with value: 0.24484181568088034 and parameters: {'n_estimators': 1111, 'num_leaves': 1534, 'max_depth': 61, 'learning_rate': 0.08913142867814282, 'min_child_samples': 274}. Best is trial 177 with value: 0.26541554959785524.\n",
      "[I 2024-08-16 04:28:09,868] Trial 196 finished with value: 0.2219679633867277 and parameters: {'n_estimators': 1255, 'num_leaves': 1569, 'max_depth': 33, 'learning_rate': 0.09994167944262794, 'min_child_samples': 71}. Best is trial 177 with value: 0.26541554959785524.\n",
      "[I 2024-08-16 04:29:16,155] Trial 197 finished with value: 0.2545968882602546 and parameters: {'n_estimators': 964, 'num_leaves': 1467, 'max_depth': 40, 'learning_rate': 0.08483649220040197, 'min_child_samples': 259}. Best is trial 177 with value: 0.26541554959785524.\n",
      "[I 2024-08-16 04:30:14,481] Trial 198 finished with value: 0.2563380281690141 and parameters: {'n_estimators': 1056, 'num_leaves': 1392, 'max_depth': 47, 'learning_rate': 0.09079363396011678, 'min_child_samples': 296}. Best is trial 177 with value: 0.26541554959785524.\n",
      "[I 2024-08-16 04:31:40,555] Trial 199 finished with value: 0.24637681159420288 and parameters: {'n_estimators': 1187, 'num_leaves': 1884, 'max_depth': 22, 'learning_rate': 0.08031543956571881, 'min_child_samples': 120}. Best is trial 177 with value: 0.26541554959785524.\n",
      "[I 2024-08-16 04:32:45,785] Trial 200 finished with value: 0.2597765363128492 and parameters: {'n_estimators': 1115, 'num_leaves': 1632, 'max_depth': 58, 'learning_rate': 0.0826857396173617, 'min_child_samples': 284}. Best is trial 177 with value: 0.26541554959785524.\n",
      "[I 2024-08-16 04:33:49,826] Trial 201 finished with value: 0.24999999999999994 and parameters: {'n_estimators': 1106, 'num_leaves': 1631, 'max_depth': 57, 'learning_rate': 0.08276804766547866, 'min_child_samples': 280}. Best is trial 177 with value: 0.26541554959785524.\n",
      "[I 2024-08-16 04:35:14,566] Trial 202 finished with value: 0.2457142857142857 and parameters: {'n_estimators': 1136, 'num_leaves': 1558, 'max_depth': 67, 'learning_rate': 0.07793493236892766, 'min_child_samples': 284}. Best is trial 177 with value: 0.26541554959785524.\n",
      "[I 2024-08-16 04:36:11,350] Trial 203 finished with value: 0.2524822695035461 and parameters: {'n_estimators': 1027, 'num_leaves': 1311, 'max_depth': 51, 'learning_rate': 0.08550836615559812, 'min_child_samples': 273}. Best is trial 177 with value: 0.26541554959785524.\n",
      "[I 2024-08-16 04:37:09,102] Trial 204 finished with value: 0.2602545968882603 and parameters: {'n_estimators': 1082, 'num_leaves': 1689, 'max_depth': 60, 'learning_rate': 0.08181924002494245, 'min_child_samples': 291}. Best is trial 177 with value: 0.26541554959785524.\n",
      "[I 2024-08-16 04:38:04,278] Trial 205 finished with value: 0.2532374100719424 and parameters: {'n_estimators': 1084, 'num_leaves': 1664, 'max_depth': 61, 'learning_rate': 0.08323421816912391, 'min_child_samples': 291}. Best is trial 177 with value: 0.26541554959785524.\n",
      "[I 2024-08-16 04:39:15,949] Trial 206 finished with value: 0.25130890052356025 and parameters: {'n_estimators': 1161, 'num_leaves': 1732, 'max_depth': 44, 'learning_rate': 0.08848517667795273, 'min_child_samples': 265}. Best is trial 177 with value: 0.26541554959785524.\n",
      "[I 2024-08-16 04:40:26,142] Trial 207 finished with value: 0.24631860776439085 and parameters: {'n_estimators': 1260, 'num_leaves': 1768, 'max_depth': 71, 'learning_rate': 0.08106240917855859, 'min_child_samples': 277}. Best is trial 177 with value: 0.26541554959785524.\n",
      "[I 2024-08-16 04:41:34,968] Trial 208 finished with value: 0.2529335071707953 and parameters: {'n_estimators': 1215, 'num_leaves': 1620, 'max_depth': 56, 'learning_rate': 0.0854918551816284, 'min_child_samples': 255}. Best is trial 177 with value: 0.26541554959785524.\n",
      "[I 2024-08-16 04:42:36,880] Trial 209 finished with value: 0.2562674094707521 and parameters: {'n_estimators': 1088, 'num_leaves': 1478, 'max_depth': 65, 'learning_rate': 0.08383617529907095, 'min_child_samples': 271}. Best is trial 177 with value: 0.26541554959785524.\n",
      "[I 2024-08-16 04:43:26,280] Trial 210 finished with value: 0.254014598540146 and parameters: {'n_estimators': 1003, 'num_leaves': 1681, 'max_depth': 51, 'learning_rate': 0.08706816866749983, 'min_child_samples': 297}. Best is trial 177 with value: 0.26541554959785524.\n",
      "[I 2024-08-16 04:44:35,358] Trial 211 finished with value: 0.2541106128550074 and parameters: {'n_estimators': 961, 'num_leaves': 1405, 'max_depth': 61, 'learning_rate': 0.07880579474644017, 'min_child_samples': 285}. Best is trial 177 with value: 0.26541554959785524.\n",
      "[I 2024-08-16 04:45:19,414] Trial 212 finished with value: 0.2518740629685157 and parameters: {'n_estimators': 896, 'num_leaves': 1509, 'max_depth': 39, 'learning_rate': 0.08130215233508466, 'min_child_samples': 289}. Best is trial 177 with value: 0.26541554959785524.\n",
      "[I 2024-08-16 04:46:31,837] Trial 213 finished with value: 0.2245614035087719 and parameters: {'n_estimators': 1040, 'num_leaves': 1571, 'max_depth': 17, 'learning_rate': 0.03506885035185745, 'min_child_samples': 281}. Best is trial 177 with value: 0.26541554959785524.\n",
      "[I 2024-08-16 04:47:54,519] Trial 214 finished with value: 0.26074895977808593 and parameters: {'n_estimators': 1195, 'num_leaves': 1832, 'max_depth': 46, 'learning_rate': 0.08031642659551348, 'min_child_samples': 300}. Best is trial 177 with value: 0.26541554959785524.\n",
      "[I 2024-08-16 04:49:05,505] Trial 215 finished with value: 0.25531914893617025 and parameters: {'n_estimators': 1171, 'num_leaves': 1834, 'max_depth': 54, 'learning_rate': 0.07715331454971515, 'min_child_samples': 294}. Best is trial 177 with value: 0.26541554959785524.\n",
      "[I 2024-08-16 04:50:12,002] Trial 216 finished with value: 0.24791086350974928 and parameters: {'n_estimators': 1287, 'num_leaves': 1882, 'max_depth': 46, 'learning_rate': 0.08160145575426433, 'min_child_samples': 298}. Best is trial 177 with value: 0.26541554959785524.\n",
      "[I 2024-08-16 04:51:17,041] Trial 217 finished with value: 0.25340599455040874 and parameters: {'n_estimators': 1120, 'num_leaves': 1798, 'max_depth': 75, 'learning_rate': 0.09020344959156353, 'min_child_samples': 276}. Best is trial 177 with value: 0.26541554959785524.\n",
      "[I 2024-08-16 04:52:23,486] Trial 218 finished with value: 0.25 and parameters: {'n_estimators': 1177, 'num_leaves': 1710, 'max_depth': 36, 'learning_rate': 0.09472111471114252, 'min_child_samples': 268}. Best is trial 177 with value: 0.26541554959785524.\n",
      "[I 2024-08-16 04:55:19,372] Trial 219 finished with value: 0.21502890173410405 and parameters: {'n_estimators': 1216, 'num_leaves': 1651, 'max_depth': 59, 'learning_rate': 0.08433120775536071, 'min_child_samples': 50}. Best is trial 177 with value: 0.26541554959785524.\n",
      "[I 2024-08-16 04:56:27,525] Trial 220 finished with value: 0.25035561877667145 and parameters: {'n_estimators': 1120, 'num_leaves': 1761, 'max_depth': 46, 'learning_rate': 0.07964410896490756, 'min_child_samples': 288}. Best is trial 177 with value: 0.26541554959785524.\n",
      "[I 2024-08-16 04:57:19,562] Trial 221 finished with value: 0.24277456647398846 and parameters: {'n_estimators': 1062, 'num_leaves': 703, 'max_depth': 53, 'learning_rate': 0.07931538598687846, 'min_child_samples': 286}. Best is trial 177 with value: 0.26541554959785524.\n",
      "[I 2024-08-16 04:58:12,242] Trial 222 finished with value: 0.25581395348837205 and parameters: {'n_estimators': 1006, 'num_leaves': 1434, 'max_depth': 68, 'learning_rate': 0.08289459730803825, 'min_child_samples': 299}. Best is trial 177 with value: 0.26541554959785524.\n",
      "[I 2024-08-16 04:59:01,018] Trial 223 finished with value: 0.2488479262672811 and parameters: {'n_estimators': 937, 'num_leaves': 1970, 'max_depth': 50, 'learning_rate': 0.07642766291648924, 'min_child_samples': 292}. Best is trial 177 with value: 0.26541554959785524.\n",
      "[I 2024-08-16 05:03:57,430] Trial 224 finished with value: 0.21339950372208435 and parameters: {'n_estimators': 1067, 'num_leaves': 1592, 'max_depth': 30, 'learning_rate': 0.08614632966428842, 'min_child_samples': 14}. Best is trial 177 with value: 0.26541554959785524.\n",
      "[I 2024-08-16 05:04:36,911] Trial 225 finished with value: 0.24324324324324326 and parameters: {'n_estimators': 812, 'num_leaves': 507, 'max_depth': 42, 'learning_rate': 0.08196144491751146, 'min_child_samples': 281}. Best is trial 177 with value: 0.26541554959785524.\n",
      "[I 2024-08-16 05:05:42,130] Trial 226 finished with value: 0.24895104895104894 and parameters: {'n_estimators': 1123, 'num_leaves': 1485, 'max_depth': 58, 'learning_rate': 0.08001834989928343, 'min_child_samples': 274}. Best is trial 177 with value: 0.26541554959785524.\n",
      "[I 2024-08-16 05:06:39,994] Trial 227 finished with value: 0.2559774964838256 and parameters: {'n_estimators': 993, 'num_leaves': 1708, 'max_depth': 65, 'learning_rate': 0.08405351745213548, 'min_child_samples': 266}. Best is trial 177 with value: 0.26541554959785524.\n",
      "[I 2024-08-16 05:07:48,217] Trial 228 finished with value: 0.24495289367429338 and parameters: {'n_estimators': 1157, 'num_leaves': 1349, 'max_depth': 54, 'learning_rate': 0.08864978277197437, 'min_child_samples': 282}. Best is trial 177 with value: 0.26541554959785524.\n",
      "[I 2024-08-16 05:09:01,673] Trial 229 finished with value: 0.25375170532060026 and parameters: {'n_estimators': 1324, 'num_leaves': 1863, 'max_depth': 47, 'learning_rate': 0.07919877727110182, 'min_child_samples': 290}. Best is trial 177 with value: 0.26541554959785524.\n",
      "[I 2024-08-16 05:10:01,617] Trial 230 finished with value: 0.2525697503671072 and parameters: {'n_estimators': 1040, 'num_leaves': 1539, 'max_depth': 71, 'learning_rate': 0.07741720484366499, 'min_child_samples': 277}. Best is trial 177 with value: 0.26541554959785524.\n",
      "[I 2024-08-16 05:11:18,916] Trial 231 finished with value: 0.2509907529722589 and parameters: {'n_estimators': 1233, 'num_leaves': 3000, 'max_depth': 63, 'learning_rate': 0.08581095302040692, 'min_child_samples': 278}. Best is trial 177 with value: 0.26541554959785524.\n",
      "[I 2024-08-16 05:12:18,836] Trial 232 finished with value: 0.2509803921568627 and parameters: {'n_estimators': 1200, 'num_leaves': 1426, 'max_depth': 58, 'learning_rate': 0.0876347440844634, 'min_child_samples': 261}. Best is trial 177 with value: 0.26541554959785524.\n",
      "[I 2024-08-16 05:13:18,686] Trial 233 finished with value: 0.25034387895460797 and parameters: {'n_estimators': 1178, 'num_leaves': 1622, 'max_depth': 42, 'learning_rate': 0.0821135837516568, 'min_child_samples': 285}. Best is trial 177 with value: 0.26541554959785524.\n",
      "[I 2024-08-16 05:14:18,809] Trial 234 finished with value: 0.2579787234042553 and parameters: {'n_estimators': 1104, 'num_leaves': 1748, 'max_depth': 76, 'learning_rate': 0.09163643383709813, 'min_child_samples': 271}. Best is trial 177 with value: 0.26541554959785524.\n",
      "[I 2024-08-16 05:15:29,253] Trial 235 finished with value: 0.2462787550744249 and parameters: {'n_estimators': 1086, 'num_leaves': 1770, 'max_depth': 75, 'learning_rate': 0.0909799139177483, 'min_child_samples': 269}. Best is trial 177 with value: 0.26541554959785524.\n",
      "[I 2024-08-16 05:16:29,944] Trial 236 finished with value: 0.24731182795698928 and parameters: {'n_estimators': 1123, 'num_leaves': 1822, 'max_depth': 50, 'learning_rate': 0.09243990967501821, 'min_child_samples': 271}. Best is trial 177 with value: 0.26541554959785524.\n",
      "[I 2024-08-16 05:17:26,835] Trial 237 finished with value: 0.2578875171467764 and parameters: {'n_estimators': 979, 'num_leaves': 1680, 'max_depth': 67, 'learning_rate': 0.09642425054070045, 'min_child_samples': 261}. Best is trial 177 with value: 0.26541554959785524.\n",
      "[I 2024-08-16 05:18:22,005] Trial 238 finished with value: 0.25329815303430075 and parameters: {'n_estimators': 1041, 'num_leaves': 1684, 'max_depth': 67, 'learning_rate': 0.09688675855830735, 'min_child_samples': 255}. Best is trial 177 with value: 0.26541554959785524.\n",
      "[I 2024-08-16 05:19:21,926] Trial 239 finished with value: 0.25306122448979596 and parameters: {'n_estimators': 974, 'num_leaves': 1718, 'max_depth': 76, 'learning_rate': 0.0987514946461858, 'min_child_samples': 262}. Best is trial 177 with value: 0.26541554959785524.\n",
      "[I 2024-08-16 05:22:16,614] Trial 240 finished with value: 0.24962852897473997 and parameters: {'n_estimators': 2883, 'num_leaves': 1646, 'max_depth': 60, 'learning_rate': 0.02098539722756702, 'min_child_samples': 264}. Best is trial 177 with value: 0.26541554959785524.\n",
      "[I 2024-08-16 05:23:01,254] Trial 241 finished with value: 0.2594142259414226 and parameters: {'n_estimators': 928, 'num_leaves': 1746, 'max_depth': 54, 'learning_rate': 0.0980866185113794, 'min_child_samples': 273}. Best is trial 177 with value: 0.26541554959785524.\n",
      "[I 2024-08-16 05:23:48,098] Trial 242 finished with value: 0.25 and parameters: {'n_estimators': 891, 'num_leaves': 1740, 'max_depth': 55, 'learning_rate': 0.0958868124433075, 'min_child_samples': 271}. Best is trial 177 with value: 0.26541554959785524.\n",
      "[I 2024-08-16 05:24:42,722] Trial 243 finished with value: 0.25673940949935814 and parameters: {'n_estimators': 1095, 'num_leaves': 1803, 'max_depth': 63, 'learning_rate': 0.09809339751192636, 'min_child_samples': 257}. Best is trial 177 with value: 0.26541554959785524.\n",
      "[I 2024-08-16 05:25:41,479] Trial 244 finished with value: 0.251604621309371 and parameters: {'n_estimators': 1084, 'num_leaves': 1778, 'max_depth': 63, 'learning_rate': 0.09740408272905823, 'min_child_samples': 248}. Best is trial 177 with value: 0.26541554959785524.\n",
      "[I 2024-08-16 05:26:33,609] Trial 245 finished with value: 0.25729442970822275 and parameters: {'n_estimators': 1009, 'num_leaves': 1799, 'max_depth': 52, 'learning_rate': 0.09826590232150685, 'min_child_samples': 257}. Best is trial 177 with value: 0.26541554959785524.\n",
      "[I 2024-08-16 05:27:21,270] Trial 246 finished with value: 0.2585969738651995 and parameters: {'n_estimators': 933, 'num_leaves': 1838, 'max_depth': 50, 'learning_rate': 0.09826210120250811, 'min_child_samples': 255}. Best is trial 177 with value: 0.26541554959785524.\n",
      "[I 2024-08-16 05:28:14,482] Trial 247 finished with value: 0.2545931758530184 and parameters: {'n_estimators': 981, 'num_leaves': 1926, 'max_depth': 48, 'learning_rate': 0.09980856235211968, 'min_child_samples': 247}. Best is trial 177 with value: 0.26541554959785524.\n",
      "[I 2024-08-16 05:29:06,046] Trial 248 finished with value: 0.2552011095700416 and parameters: {'n_estimators': 924, 'num_leaves': 1859, 'max_depth': 38, 'learning_rate': 0.09386709414740456, 'min_child_samples': 257}. Best is trial 177 with value: 0.26541554959785524.\n",
      "[I 2024-08-16 05:29:52,359] Trial 249 finished with value: 0.25722543352601157 and parameters: {'n_estimators': 846, 'num_leaves': 1926, 'max_depth': 54, 'learning_rate': 0.0950656887581489, 'min_child_samples': 263}. Best is trial 177 with value: 0.26541554959785524.\n",
      "[I 2024-08-16 05:30:46,466] Trial 250 finished with value: 0.2482758620689655 and parameters: {'n_estimators': 907, 'num_leaves': 1932, 'max_depth': 45, 'learning_rate': 0.09571322076660864, 'min_child_samples': 253}. Best is trial 177 with value: 0.26541554959785524.\n",
      "[I 2024-08-16 05:31:31,242] Trial 251 finished with value: 0.2535211267605634 and parameters: {'n_estimators': 830, 'num_leaves': 2054, 'max_depth': 55, 'learning_rate': 0.09767010802407738, 'min_child_samples': 262}. Best is trial 177 with value: 0.26541554959785524.\n",
      "[I 2024-08-16 05:32:21,970] Trial 252 finished with value: 0.24541607898448523 and parameters: {'n_estimators': 880, 'num_leaves': 1839, 'max_depth': 53, 'learning_rate': 0.09533838121748424, 'min_child_samples': 259}. Best is trial 177 with value: 0.26541554959785524.\n",
      "[I 2024-08-16 05:33:03,300] Trial 253 finished with value: 0.251788268955651 and parameters: {'n_estimators': 780, 'num_leaves': 1888, 'max_depth': 45, 'learning_rate': 0.09705055663262807, 'min_child_samples': 262}. Best is trial 177 with value: 0.26541554959785524.\n",
      "[I 2024-08-16 05:33:47,538] Trial 254 finished with value: 0.2410958904109589 and parameters: {'n_estimators': 947, 'num_leaves': 1730, 'max_depth': 36, 'learning_rate': 0.0942389568130113, 'min_child_samples': 243}. Best is trial 177 with value: 0.26541554959785524.\n",
      "[I 2024-08-16 05:34:31,333] Trial 255 finished with value: 0.2414266117969822 and parameters: {'n_estimators': 854, 'num_leaves': 2258, 'max_depth': 59, 'learning_rate': 0.0985587699651473, 'min_child_samples': 252}. Best is trial 177 with value: 0.26541554959785524.\n",
      "[I 2024-08-16 05:35:28,981] Trial 256 finished with value: 0.2585969738651995 and parameters: {'n_estimators': 1030, 'num_leaves': 2115, 'max_depth': 50, 'learning_rate': 0.09329354709310649, 'min_child_samples': 273}. Best is trial 177 with value: 0.26541554959785524.\n",
      "[I 2024-08-16 05:36:26,696] Trial 257 finished with value: 0.25375170532060026 and parameters: {'n_estimators': 1030, 'num_leaves': 2120, 'max_depth': 49, 'learning_rate': 0.09392377160605858, 'min_child_samples': 267}. Best is trial 177 with value: 0.26541554959785524.\n",
      "[I 2024-08-16 05:37:24,945] Trial 258 finished with value: 0.22197055492638734 and parameters: {'n_estimators': 833, 'num_leaves': 2162, 'max_depth': 41, 'learning_rate': 0.09272575251701189, 'min_child_samples': 91}. Best is trial 177 with value: 0.26541554959785524.\n",
      "[I 2024-08-16 05:37:50,091] Trial 259 finished with value: 0.23934426229508196 and parameters: {'n_estimators': 750, 'num_leaves': 881, 'max_depth': 12, 'learning_rate': 0.09554392056052997, 'min_child_samples': 274}. Best is trial 177 with value: 0.26541554959785524.\n",
      "[I 2024-08-16 05:38:29,202] Trial 260 finished with value: 0.25866666666666666 and parameters: {'n_estimators': 934, 'num_leaves': 989, 'max_depth': 56, 'learning_rate': 0.09789775158444487, 'min_child_samples': 253}. Best is trial 177 with value: 0.26541554959785524.\n",
      "[I 2024-08-16 05:39:16,721] Trial 261 finished with value: 0.25 and parameters: {'n_estimators': 1004, 'num_leaves': 1000, 'max_depth': 28, 'learning_rate': 0.0992280713311193, 'min_child_samples': 249}. Best is trial 177 with value: 0.26541554959785524.\n",
      "[I 2024-08-16 05:40:19,084] Trial 262 finished with value: 0.22453703703703706 and parameters: {'n_estimators': 944, 'num_leaves': 2213, 'max_depth': 58, 'learning_rate': 0.0999288434951325, 'min_child_samples': 147}. Best is trial 177 with value: 0.26541554959785524.\n",
      "[I 2024-08-16 05:41:13,757] Trial 263 finished with value: 0.25141242937853103 and parameters: {'n_estimators': 1014, 'num_leaves': 2355, 'max_depth': 44, 'learning_rate': 0.09793970335595209, 'min_child_samples': 300}. Best is trial 177 with value: 0.26541554959785524.\n",
      "[I 2024-08-16 05:42:07,713] Trial 264 finished with value: 0.25316455696202533 and parameters: {'n_estimators': 922, 'num_leaves': 1574, 'max_depth': 62, 'learning_rate': 0.0968484129200127, 'min_child_samples': 254}. Best is trial 177 with value: 0.26541554959785524.\n",
      "[I 2024-08-16 05:43:03,292] Trial 265 finished with value: 0.2465373961218836 and parameters: {'n_estimators': 1054, 'num_leaves': 1035, 'max_depth': 48, 'learning_rate': 0.09248030701560751, 'min_child_samples': 273}. Best is trial 177 with value: 0.26541554959785524.\n",
      "[I 2024-08-16 05:43:52,098] Trial 266 finished with value: 0.2507204610951009 and parameters: {'n_estimators': 971, 'num_leaves': 950, 'max_depth': 69, 'learning_rate': 0.09043891495530133, 'min_child_samples': 292}. Best is trial 177 with value: 0.26541554959785524.\n",
      "[I 2024-08-16 05:44:43,238] Trial 267 finished with value: 0.25789473684210523 and parameters: {'n_estimators': 1045, 'num_leaves': 919, 'max_depth': 35, 'learning_rate': 0.09553471782727387, 'min_child_samples': 257}. Best is trial 177 with value: 0.26541554959785524.\n",
      "[I 2024-08-16 05:45:36,242] Trial 268 finished with value: 0.2524271844660194 and parameters: {'n_estimators': 1063, 'num_leaves': 935, 'max_depth': 34, 'learning_rate': 0.09228335426965795, 'min_child_samples': 270}. Best is trial 177 with value: 0.26541554959785524.\n",
      "[I 2024-08-16 05:46:29,294] Trial 269 finished with value: 0.2532005689900427 and parameters: {'n_estimators': 1095, 'num_leaves': 859, 'max_depth': 24, 'learning_rate': 0.09499852341962617, 'min_child_samples': 285}. Best is trial 177 with value: 0.26541554959785524.\n",
      "[I 2024-08-16 05:48:27,157] Trial 270 finished with value: 0.22554660529344076 and parameters: {'n_estimators': 1942, 'num_leaves': 924, 'max_depth': 39, 'learning_rate': 0.09090671660993438, 'min_child_samples': 266}. Best is trial 177 with value: 0.26541554959785524.\n",
      "[I 2024-08-16 05:49:11,493] Trial 271 finished with value: 0.2611111111111111 and parameters: {'n_estimators': 972, 'num_leaves': 834, 'max_depth': 41, 'learning_rate': 0.09366317308667829, 'min_child_samples': 278}. Best is trial 177 with value: 0.26541554959785524.\n",
      "[I 2024-08-16 05:49:58,404] Trial 272 finished with value: 0.2552011095700416 and parameters: {'n_estimators': 894, 'num_leaves': 851, 'max_depth': 36, 'learning_rate': 0.09368088612826819, 'min_child_samples': 239}. Best is trial 177 with value: 0.26541554959785524.\n",
      "[I 2024-08-16 05:50:43,572] Trial 273 finished with value: 0.2526315789473685 and parameters: {'n_estimators': 951, 'num_leaves': 763, 'max_depth': 19, 'learning_rate': 0.09633215015517893, 'min_child_samples': 275}. Best is trial 177 with value: 0.26541554959785524.\n",
      "[I 2024-08-16 05:51:40,758] Trial 274 finished with value: 0.25753424657534246 and parameters: {'n_estimators': 981, 'num_leaves': 960, 'max_depth': 31, 'learning_rate': 0.09368156085902192, 'min_child_samples': 258}. Best is trial 177 with value: 0.26541554959785524.\n",
      "[I 2024-08-16 05:52:35,648] Trial 275 finished with value: 0.256198347107438 and parameters: {'n_estimators': 974, 'num_leaves': 997, 'max_depth': 29, 'learning_rate': 0.09393387294501723, 'min_child_samples': 244}. Best is trial 177 with value: 0.26541554959785524.\n",
      "[I 2024-08-16 05:53:18,416] Trial 276 finished with value: 0.2618705035971223 and parameters: {'n_estimators': 902, 'num_leaves': 795, 'max_depth': 25, 'learning_rate': 0.09638487662770676, 'min_child_samples': 251}. Best is trial 177 with value: 0.26541554959785524.\n",
      "[I 2024-08-16 05:54:00,260] Trial 277 finished with value: 0.2578710644677661 and parameters: {'n_estimators': 866, 'num_leaves': 830, 'max_depth': 21, 'learning_rate': 0.09593620308246185, 'min_child_samples': 251}. Best is trial 177 with value: 0.26541554959785524.\n",
      "[I 2024-08-16 05:54:35,848] Trial 278 finished with value: 0.24233128834355827 and parameters: {'n_estimators': 854, 'num_leaves': 780, 'max_depth': 17, 'learning_rate': 0.09559187293720861, 'min_child_samples': 249}. Best is trial 177 with value: 0.26541554959785524.\n",
      "[I 2024-08-16 05:55:09,992] Trial 279 finished with value: 0.24842767295597482 and parameters: {'n_estimators': 890, 'num_leaves': 807, 'max_depth': 15, 'learning_rate': 0.09574965288451738, 'min_child_samples': 253}. Best is trial 177 with value: 0.26541554959785524.\n",
      "[I 2024-08-16 05:55:41,733] Trial 280 finished with value: 0.24657534246575338 and parameters: {'n_estimators': 772, 'num_leaves': 903, 'max_depth': 19, 'learning_rate': 0.09765273956851729, 'min_child_samples': 246}. Best is trial 177 with value: 0.26541554959785524.\n",
      "[I 2024-08-16 05:56:21,394] Trial 281 finished with value: 0.24964131994261116 and parameters: {'n_estimators': 808, 'num_leaves': 835, 'max_depth': 25, 'learning_rate': 0.09975037404406961, 'min_child_samples': 238}. Best is trial 177 with value: 0.26541554959785524.\n",
      "[I 2024-08-16 05:57:03,369] Trial 282 finished with value: 0.2581560283687943 and parameters: {'n_estimators': 909, 'num_leaves': 1062, 'max_depth': 24, 'learning_rate': 0.09685946644829221, 'min_child_samples': 233}. Best is trial 177 with value: 0.26541554959785524.\n",
      "[I 2024-08-16 05:57:42,362] Trial 283 finished with value: 0.2503597122302158 and parameters: {'n_estimators': 906, 'num_leaves': 1059, 'max_depth': 24, 'learning_rate': 0.09665773475675155, 'min_child_samples': 251}. Best is trial 177 with value: 0.26541554959785524.\n",
      "[I 2024-08-16 05:58:29,129] Trial 284 finished with value: 0.24172661870503603 and parameters: {'n_estimators': 871, 'num_leaves': 804, 'max_depth': 30, 'learning_rate': 0.09793722568129702, 'min_child_samples': 259}. Best is trial 177 with value: 0.26541554959785524.\n",
      "[I 2024-08-16 05:59:01,244] Trial 285 finished with value: 0.23154362416107385 and parameters: {'n_estimators': 913, 'num_leaves': 990, 'max_depth': 10, 'learning_rate': 0.09263086372182837, 'min_child_samples': 254}. Best is trial 177 with value: 0.26541554959785524.\n",
      "[I 2024-08-16 05:59:31,474] Trial 286 finished with value: 0.2488479262672811 and parameters: {'n_estimators': 710, 'num_leaves': 714, 'max_depth': 21, 'learning_rate': 0.09605935805734064, 'min_child_samples': 234}. Best is trial 177 with value: 0.26541554959785524.\n",
      "[I 2024-08-16 06:00:09,425] Trial 287 finished with value: 0.25834542815674894 and parameters: {'n_estimators': 828, 'num_leaves': 1098, 'max_depth': 34, 'learning_rate': 0.09391541727135308, 'min_child_samples': 263}. Best is trial 177 with value: 0.26541554959785524.\n",
      "[I 2024-08-16 06:00:45,415] Trial 288 finished with value: 0.25217391304347825 and parameters: {'n_estimators': 805, 'num_leaves': 2310, 'max_depth': 36, 'learning_rate': 0.09380060613138434, 'min_child_samples': 262}. Best is trial 177 with value: 0.26541554959785524.\n",
      "[I 2024-08-16 06:01:30,435] Trial 289 finished with value: 0.2528409090909091 and parameters: {'n_estimators': 935, 'num_leaves': 1099, 'max_depth': 32, 'learning_rate': 0.09205987174102219, 'min_child_samples': 266}. Best is trial 177 with value: 0.26541554959785524.\n",
      "[I 2024-08-16 06:02:07,234] Trial 290 finished with value: 0.26061493411420206 and parameters: {'n_estimators': 731, 'num_leaves': 1036, 'max_depth': 147, 'learning_rate': 0.09994481844402638, 'min_child_samples': 260}. Best is trial 177 with value: 0.26541554959785524.\n",
      "[I 2024-08-16 06:02:51,426] Trial 291 finished with value: 0.2528409090909091 and parameters: {'n_estimators': 820, 'num_leaves': 1068, 'max_depth': 40, 'learning_rate': 0.09962673157141286, 'min_child_samples': 266}. Best is trial 177 with value: 0.26541554959785524.\n",
      "[I 2024-08-16 06:03:27,670] Trial 292 finished with value: 0.26136363636363635 and parameters: {'n_estimators': 776, 'num_leaves': 1171, 'max_depth': 129, 'learning_rate': 0.09880440762299247, 'min_child_samples': 260}. Best is trial 177 with value: 0.26541554959785524.\n",
      "[I 2024-08-16 06:03:58,776] Trial 293 finished with value: 0.2511078286558346 and parameters: {'n_estimators': 692, 'num_leaves': 1181, 'max_depth': 139, 'learning_rate': 0.09890280611818007, 'min_child_samples': 268}. Best is trial 177 with value: 0.26541554959785524.\n",
      "[I 2024-08-16 06:04:44,335] Trial 294 finished with value: 0.2587904360056259 and parameters: {'n_estimators': 802, 'num_leaves': 1064, 'max_depth': 122, 'learning_rate': 0.09790336210062547, 'min_child_samples': 262}. Best is trial 177 with value: 0.26541554959785524.\n",
      "[I 2024-08-16 06:05:24,302] Trial 295 finished with value: 0.2463768115942029 and parameters: {'n_estimators': 754, 'num_leaves': 1072, 'max_depth': 135, 'learning_rate': 0.09787268292557932, 'min_child_samples': 260}. Best is trial 177 with value: 0.26541554959785524.\n",
      "[I 2024-08-16 06:06:01,024] Trial 296 finished with value: 0.26136363636363635 and parameters: {'n_estimators': 782, 'num_leaves': 1140, 'max_depth': 123, 'learning_rate': 0.09957216145894257, 'min_child_samples': 255}. Best is trial 177 with value: 0.26541554959785524.\n",
      "[I 2024-08-16 06:06:37,972] Trial 297 finished with value: 0.24892703862660942 and parameters: {'n_estimators': 749, 'num_leaves': 1140, 'max_depth': 147, 'learning_rate': 0.09872403955628573, 'min_child_samples': 255}. Best is trial 177 with value: 0.26541554959785524.\n",
      "[I 2024-08-16 06:07:11,641] Trial 298 finished with value: 0.25387870239774335 and parameters: {'n_estimators': 712, 'num_leaves': 1203, 'max_depth': 126, 'learning_rate': 0.09853986857034655, 'min_child_samples': 245}. Best is trial 177 with value: 0.26541554959785524.\n",
      "[I 2024-08-16 06:07:43,074] Trial 299 finished with value: 0.2507204610951009 and parameters: {'n_estimators': 785, 'num_leaves': 1241, 'max_depth': 119, 'learning_rate': 0.09809509039784706, 'min_child_samples': 263}. Best is trial 177 with value: 0.26541554959785524.\n"
     ]
    },
    {
     "name": "stdout",
     "output_type": "stream",
     "text": [
      "Best trial: score 0.26541554959785524, \n",
      "params {'n_estimators': 1205, 'num_leaves': 1880, 'max_depth': 53, 'learning_rate': 0.0877525670484991, 'min_child_samples': 288}\n"
     ]
    }
   ],
   "source": [
    "import optuna\n",
    "from lightgbm import LGBMClassifier\n",
    "from sklearn.model_selection import train_test_split\n",
    "from sklearn.metrics import f1_score\n",
    "\n",
    "# 'Normal'과 'AbNormal'을 숫자로 변환\n",
    "train_data_autoclave['target'] = train_data_autoclave['target'].map({'Normal': 0, 'AbNormal': 1})\n",
    "\n",
    "# 스레드홀드 설정\n",
    "THRESHOLD = 0.3\n",
    "\n",
    "def objectiveLGBM_dart(trial, x_tr, y_tr, x_val, y_val):\n",
    "    param = {\n",
    "        'n_estimators': trial.suggest_int('n_estimators', 500, 3000),\n",
    "        'num_leaves': trial.suggest_int('num_leaves', 500, 3000),\n",
    "        'max_depth': trial.suggest_int('max_depth', 10, 300),\n",
    "        'learning_rate': trial.suggest_float('learning_rate', 0.001, 0.1),\n",
    "        'min_child_samples': trial.suggest_int('min_child_samples', 3, 300),\n",
    "        \n",
    "        'boosting_type': 'dart',  # 'boosting'를 'boosting_type'으로 수정\n",
    "        'random_state': RANDOM_STATE,\n",
    "        'verbose': -1\n",
    "    }\n",
    "       \n",
    "    model = LGBMClassifier(**param)\n",
    "    model.fit(x_tr, y_tr)\n",
    "    pred_proba = model.predict_proba(x_val)[:, 1]  # 양성 클래스 확률\n",
    "    pred = (pred_proba >= THRESHOLD).astype(int)  # 스레드홀드에 따른 예측\n",
    "    \n",
    "    score = f1_score(y_val, pred, average=\"binary\")\n",
    "    \n",
    "    return score\n",
    "\n",
    "# 데이터셋 분할\n",
    "x_train, x_val, y_train, y_val = train_test_split(\n",
    "    train_data_autoclave.drop(\"target\", axis=1),\n",
    "    train_data_autoclave[\"target\"],\n",
    "    test_size=0.2,\n",
    "    shuffle=True,\n",
    "    random_state=RANDOM_STATE,\n",
    ")\n",
    "\n",
    "# 하이퍼 파라미터 튜닝\n",
    "study = optuna.create_study(direction='maximize', sampler=optuna.samplers.TPESampler(seed=RANDOM_STATE))\n",
    "study.optimize(lambda trial: objectiveLGBM_dart(trial, x_train, y_train, x_val, y_val), n_trials=300)\n",
    "\n",
    "print('Best trial: score {}, \\nparams {}'.format(study.best_trial.value, study.best_trial.params))\n"
   ]
  },
  {
   "cell_type": "markdown",
   "id": "3990ff79",
   "metadata": {},
   "source": [
    "Best trial: score 0.26541554959785524,   \n",
    "params {'n_estimators': 1205, 'num_leaves': 1880, 'max_depth': 53, 'learning_rate': 0.0877525670484991, 'min_child_samples': 288}  "
   ]
  },
  {
   "cell_type": "markdown",
   "id": "34ecc88d",
   "metadata": {},
   "source": [
    "."
   ]
  }
 ],
 "metadata": {
  "kernelspec": {
   "display_name": "Python 3 (ipykernel)",
   "language": "python",
   "name": "python3"
  },
  "language_info": {
   "codemirror_mode": {
    "name": "ipython",
    "version": 3
   },
   "file_extension": ".py",
   "mimetype": "text/x-python",
   "name": "python",
   "nbconvert_exporter": "python",
   "pygments_lexer": "ipython3",
   "version": "3.12.0"
  }
 },
 "nbformat": 4,
 "nbformat_minor": 5
}

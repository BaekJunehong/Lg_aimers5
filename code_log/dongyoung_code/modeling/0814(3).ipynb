{
 "cells": [
  {
   "cell_type": "markdown",
   "id": "017e9265",
   "metadata": {},
   "source": [
    "# 제품 이상여부 판별 프로젝트\n"
   ]
  },
  {
   "cell_type": "markdown",
   "id": "acdab431",
   "metadata": {},
   "source": [
    "## 1. 데이터 불러오기\n"
   ]
  },
  {
   "cell_type": "markdown",
   "id": "2b8341e8",
   "metadata": {},
   "source": [
    "### 필수 라이브러리\n"
   ]
  },
  {
   "cell_type": "code",
   "execution_count": 20,
   "id": "a315cc58",
   "metadata": {},
   "outputs": [],
   "source": [
    "import os\n",
    "from pprint import pprint\n",
    "\n",
    "import numpy as np\n",
    "import pandas as pd\n",
    "from sklearn.ensemble import RandomForestClassifier\n",
    "from sklearn.metrics import (\n",
    "    accuracy_score,\n",
    "    classification_report,\n",
    "    confusion_matrix,\n",
    "    f1_score,\n",
    "    precision_score,\n",
    "    recall_score,\n",
    ")\n",
    "from sklearn.model_selection import train_test_split\n",
    "from tqdm import tqdm"
   ]
  },
  {
   "cell_type": "markdown",
   "id": "4d054e30",
   "metadata": {},
   "source": [
    "### 데이터 읽어오기\n"
   ]
  },
  {
   "cell_type": "code",
   "execution_count": 21,
   "id": "fc0b4d80",
   "metadata": {},
   "outputs": [],
   "source": [
    "RANDOM_STATE = 110\n",
    "\n",
    "train_data = pd.read_csv(\"C:/Users/KimDongyoung/Desktop/git_LGaimers5/Lg_aimers5/data/train_data.csv\")\n",
    "test_data = pd.read_csv(\"C:/Users/KimDongyoung/Desktop/git_LGaimers5/Lg_aimers5/data/test_data.csv\")"
   ]
  },
  {
   "cell_type": "code",
   "execution_count": 22,
   "id": "26ec226a",
   "metadata": {},
   "outputs": [
    {
     "name": "stdout",
     "output_type": "stream",
     "text": [
      "<class 'pandas.core.frame.DataFrame'>\n",
      "RangeIndex: 40506 entries, 0 to 40505\n",
      "Columns: 119 entries, Model.Suffix to Dispenser_num\n",
      "dtypes: float64(58), int64(51), object(10)\n",
      "memory usage: 36.8+ MB\n",
      "---\n",
      "<class 'pandas.core.frame.DataFrame'>\n",
      "RangeIndex: 17361 entries, 0 to 17360\n",
      "Columns: 120 entries, Set ID to Dispenser_num\n",
      "dtypes: float64(94), int64(16), object(10)\n",
      "memory usage: 15.9+ MB\n"
     ]
    }
   ],
   "source": [
    "train_data.info()\n",
    "print('---')\n",
    "test_data.info()"
   ]
  },
  {
   "cell_type": "markdown",
   "id": "e8c2d56a",
   "metadata": {},
   "source": [
    "공통 공정 변수 처리"
   ]
  },
  {
   "cell_type": "code",
   "execution_count": 23,
   "id": "96a26307",
   "metadata": {},
   "outputs": [
    {
     "data": {
      "text/plain": [
       "Dispenser_num\n",
       "#1    25011\n",
       "#2    15461\n",
       "#0       34\n",
       "Name: count, dtype: int64"
      ]
     },
     "execution_count": 23,
     "metadata": {},
     "output_type": "execute_result"
    }
   ],
   "source": [
    "train_data['Dispenser_num'].value_counts()"
   ]
  },
  {
   "cell_type": "code",
   "execution_count": 24,
   "id": "334c02de",
   "metadata": {},
   "outputs": [
    {
     "name": "stdout",
     "output_type": "stream",
     "text": [
      "  Dispenser_num  Dispenser_1  Dispenser_2\n",
      "0            #1            1            0\n",
      "1            #1            1            0\n",
      "2            #2            0            1\n",
      "3            #2            0            1\n",
      "4            #1            1            0\n"
     ]
    }
   ],
   "source": [
    "# Dispenser_num 값에 따라 새로운 변수 생성\n",
    "train_data['Dispenser_1'] = train_data['Dispenser_num'].apply(lambda x: 1 if x == '#1' else 0)\n",
    "train_data['Dispenser_2'] = train_data['Dispenser_num'].apply(lambda x: 1 if x == '#2' else 0)\n",
    "\n",
    "test_data['Dispenser_1'] = test_data['Dispenser_num'].apply(lambda x: 1 if x == '#1' else 0)\n",
    "test_data['Dispenser_2'] = test_data['Dispenser_num'].apply(lambda x: 1 if x == '#2' else 0)\n",
    "\n",
    "# 결과 확인\n",
    "print(train_data[['Dispenser_num', 'Dispenser_1', 'Dispenser_2']].head(5))\n",
    "\n",
    "# 불필요한 변수 제거\n",
    "train_data.drop(['Dispenser_num'], axis=1, inplace=True)\n",
    "test_data.drop(['Dispenser_num'], axis=1, inplace=True)"
   ]
  },
  {
   "cell_type": "code",
   "execution_count": 25,
   "id": "f05d8806",
   "metadata": {},
   "outputs": [],
   "source": [
    "# 타겟 변수를 0과 1로 변환\n",
    "train_data['target_binary'] = train_data['target'].apply(lambda x: 1 if x == 'AbNormal' else 0)\n",
    "\n",
    "# Workorder 변수의 값에 대한 타겟 변수 비율 계산\n",
    "workorder_target_ratio = train_data.groupby('Workorder')['target_binary'].mean()\n",
    "\n",
    "# 파생 변수 생성 함수\n",
    "def create_derived_variable(row, ratio_dict, threshold):\n",
    "    return 1 if ratio_dict.get(row['Workorder'], 0) >= threshold else 0\n",
    "\n",
    "# 파생 변수 생성\n",
    "train_data['Workorder_0.9'] = train_data.apply(create_derived_variable, axis=1, ratio_dict=workorder_target_ratio, threshold=0.9)\n",
    "train_data['Workorder_0.7'] = train_data.apply(create_derived_variable, axis=1, ratio_dict=workorder_target_ratio, threshold=0.7)\n",
    "train_data['Workorder_0.5'] = train_data.apply(create_derived_variable, axis=1, ratio_dict=workorder_target_ratio, threshold=0.5)\n",
    "\n",
    "test_data['Workorder_0.9'] = test_data.apply(create_derived_variable, axis=1, ratio_dict=workorder_target_ratio, threshold=0.9)\n",
    "test_data['Workorder_0.7'] = test_data.apply(create_derived_variable, axis=1, ratio_dict=workorder_target_ratio, threshold=0.7)\n",
    "test_data['Workorder_0.5'] = test_data.apply(create_derived_variable, axis=1, ratio_dict=workorder_target_ratio, threshold=0.5)\n",
    "\n",
    "\n",
    "# 불필요한 변수 제거\n",
    "train_data.drop(['target_binary'], axis=1, inplace=True)\n",
    "\n",
    "# train_data.drop(['Workorder', 'target_binary'], axis=1, inplace=True)\n",
    "# test_data.drop(['Workorder'], axis=1, inplace=True)"
   ]
  },
  {
   "cell_type": "code",
   "execution_count": 26,
   "id": "bdde0538",
   "metadata": {},
   "outputs": [
    {
     "data": {
      "text/plain": [
       "['Model.Suffix',\n",
       " 'Workorder',\n",
       " 'CURE END POSITION X Collect Result_Dam',\n",
       " 'CURE END POSITION Z Collect Result_Dam',\n",
       " 'CURE END POSITION Θ Collect Result_Dam',\n",
       " 'CURE SPEED Collect Result_Dam',\n",
       " 'CURE START POSITION X Collect Result_Dam',\n",
       " 'CURE START POSITION Θ Collect Result_Dam',\n",
       " 'DISCHARGED SPEED OF RESIN Collect Result_Dam',\n",
       " 'DISCHARGED TIME OF RESIN(Stage1) Collect Result_Dam',\n",
       " 'DISCHARGED TIME OF RESIN(Stage2) Collect Result_Dam',\n",
       " 'DISCHARGED TIME OF RESIN(Stage3) Collect Result_Dam',\n",
       " 'Dispense Volume(Stage1) Collect Result_Dam',\n",
       " 'Dispense Volume(Stage2) Collect Result_Dam',\n",
       " 'Dispense Volume(Stage3) Collect Result_Dam',\n",
       " 'HEAD NORMAL COORDINATE X AXIS(Stage1) Collect Result_Dam',\n",
       " 'HEAD NORMAL COORDINATE X AXIS(Stage1) Judge Value_Dam',\n",
       " 'HEAD NORMAL COORDINATE X AXIS(Stage2) Collect Result_Dam',\n",
       " 'HEAD NORMAL COORDINATE X AXIS(Stage3) Collect Result_Dam',\n",
       " 'HEAD NORMAL COORDINATE Y AXIS(Stage1) Collect Result_Dam',\n",
       " 'HEAD NORMAL COORDINATE Y AXIS(Stage2) Collect Result_Dam',\n",
       " 'HEAD NORMAL COORDINATE Y AXIS(Stage3) Collect Result_Dam',\n",
       " 'HEAD NORMAL COORDINATE Z AXIS(Stage1) Collect Result_Dam',\n",
       " 'HEAD NORMAL COORDINATE Z AXIS(Stage2) Collect Result_Dam',\n",
       " 'HEAD NORMAL COORDINATE Z AXIS(Stage3) Collect Result_Dam',\n",
       " 'Head Clean Position Z Collect Result_Dam',\n",
       " 'Head Purge Position Z Collect Result_Dam',\n",
       " 'Head Zero Position Y Collect Result_Dam',\n",
       " 'Head Zero Position Z Collect Result_Dam',\n",
       " 'Machine Tact time Collect Result_Dam',\n",
       " 'PalletID Collect Result_Dam',\n",
       " 'Production Qty Collect Result_Dam',\n",
       " 'Receip No Collect Result_Dam',\n",
       " 'Stage1 Circle1 Distance Speed Collect Result_Dam',\n",
       " 'Stage1 Circle2 Distance Speed Collect Result_Dam',\n",
       " 'Stage1 Circle3 Distance Speed Collect Result_Dam',\n",
       " 'Stage1 Circle4 Distance Speed Collect Result_Dam',\n",
       " 'Stage1 Line1 Distance Speed Collect Result_Dam',\n",
       " 'Stage1 Line2 Distance Speed Collect Result_Dam',\n",
       " 'Stage1 Line3 Distance Speed Collect Result_Dam',\n",
       " 'Stage1 Line4 Distance Speed Collect Result_Dam',\n",
       " 'Stage2 Circle1 Distance Speed Collect Result_Dam',\n",
       " 'Stage2 Circle2 Distance Speed Collect Result_Dam',\n",
       " 'Stage2 Circle3 Distance Speed Collect Result_Dam',\n",
       " 'Stage2 Circle4 Distance Speed Collect Result_Dam',\n",
       " 'Stage2 Line1 Distance Speed Collect Result_Dam',\n",
       " 'Stage2 Line2 Distance Speed Collect Result_Dam',\n",
       " 'Stage2 Line3 Distance Speed Collect Result_Dam',\n",
       " 'Stage2 Line4 Distance Speed Collect Result_Dam',\n",
       " 'Stage3 Circle1 Distance Speed Collect Result_Dam',\n",
       " 'Stage3 Circle2 Distance Speed Collect Result_Dam',\n",
       " 'Stage3 Circle3 Distance Speed Collect Result_Dam',\n",
       " 'Stage3 Circle4 Distance Speed Collect Result_Dam',\n",
       " 'Stage3 Line1 Distance Speed Collect Result_Dam',\n",
       " 'Stage3 Line2 Distance Speed Collect Result_Dam',\n",
       " 'Stage3 Line3 Distance Speed Collect Result_Dam',\n",
       " 'Stage3 Line4 Distance Speed Collect Result_Dam',\n",
       " 'THICKNESS 1 Collect Result_Dam',\n",
       " 'THICKNESS 2 Collect Result_Dam',\n",
       " 'THICKNESS 3 Collect Result_Dam',\n",
       " 'WorkMode Collect Result_Dam',\n",
       " '1st Pressure Collect Result_AutoClave',\n",
       " '1st Pressure 1st Pressure Unit Time_AutoClave',\n",
       " '2nd Pressure Collect Result_AutoClave',\n",
       " '2nd Pressure Unit Time_AutoClave',\n",
       " '3rd Pressure Collect Result_AutoClave',\n",
       " '3rd Pressure Unit Time_AutoClave',\n",
       " 'Chamber Temp. Collect Result_AutoClave',\n",
       " 'Chamber Temp. Unit Time_AutoClave',\n",
       " 'Chamber Temp. Judge Value_AutoClave',\n",
       " 'GMES_ORIGIN_INSP_JUDGE_CODE Collect Result_AutoClave',\n",
       " 'GMES_ORIGIN_INSP_JUDGE_CODE Judge Value_AutoClave',\n",
       " 'DISCHARGED SPEED OF RESIN Collect Result_Fill1',\n",
       " 'DISCHARGED TIME OF RESIN(Stage1) Collect Result_Fill1',\n",
       " 'DISCHARGED TIME OF RESIN(Stage2) Collect Result_Fill1',\n",
       " 'DISCHARGED TIME OF RESIN(Stage3) Collect Result_Fill1',\n",
       " 'Dispense Volume(Stage1) Collect Result_Fill1',\n",
       " 'Dispense Volume(Stage2) Collect Result_Fill1',\n",
       " 'Dispense Volume(Stage3) Collect Result_Fill1',\n",
       " 'HEAD NORMAL COORDINATE X AXIS(Stage1) Collect Result_Fill1',\n",
       " 'HEAD NORMAL COORDINATE X AXIS(Stage1) Judge Value_Fill1',\n",
       " 'HEAD NORMAL COORDINATE X AXIS(Stage2) Collect Result_Fill1',\n",
       " 'HEAD NORMAL COORDINATE X AXIS(Stage3) Collect Result_Fill1',\n",
       " 'HEAD NORMAL COORDINATE Y AXIS(Stage1) Collect Result_Fill1',\n",
       " 'HEAD NORMAL COORDINATE Y AXIS(Stage2) Collect Result_Fill1',\n",
       " 'HEAD NORMAL COORDINATE Y AXIS(Stage3) Collect Result_Fill1',\n",
       " 'HEAD NORMAL COORDINATE Z AXIS(Stage1) Collect Result_Fill1',\n",
       " 'HEAD NORMAL COORDINATE Z AXIS(Stage2) Collect Result_Fill1',\n",
       " 'HEAD NORMAL COORDINATE Z AXIS(Stage3) Collect Result_Fill1',\n",
       " 'Head Purge Position Z Collect Result_Fill1',\n",
       " 'Machine Tact time Collect Result_Fill1',\n",
       " 'PalletID Collect Result_Fill1',\n",
       " 'Production Qty Collect Result_Fill1',\n",
       " 'Receip No Collect Result_Fill1',\n",
       " 'WorkMode Collect Result_Fill1',\n",
       " 'CURE END POSITION X Collect Result_Fill2',\n",
       " 'CURE END POSITION Z Collect Result_Fill2',\n",
       " 'CURE SPEED Collect Result_Fill2',\n",
       " 'CURE STANDBY POSITION Z Collect Result_Fill2',\n",
       " 'CURE START POSITION X Collect Result_Fill2',\n",
       " 'CURE START POSITION Z Collect Result_Fill2',\n",
       " 'HEAD NORMAL COORDINATE X AXIS(Stage1) Collect Result_Fill2',\n",
       " 'HEAD NORMAL COORDINATE X AXIS(Stage1) Judge Value_Fill2',\n",
       " 'HEAD NORMAL COORDINATE X AXIS(Stage2) Collect Result_Fill2',\n",
       " 'HEAD NORMAL COORDINATE X AXIS(Stage3) Collect Result_Fill2',\n",
       " 'HEAD NORMAL COORDINATE Y AXIS(Stage1) Collect Result_Fill2',\n",
       " 'HEAD NORMAL COORDINATE Y AXIS(Stage2) Collect Result_Fill2',\n",
       " 'HEAD NORMAL COORDINATE Y AXIS(Stage3) Collect Result_Fill2',\n",
       " 'HEAD NORMAL COORDINATE Z AXIS(Stage1) Collect Result_Fill2',\n",
       " 'HEAD NORMAL COORDINATE Z AXIS(Stage2) Collect Result_Fill2',\n",
       " 'HEAD NORMAL COORDINATE Z AXIS(Stage3) Collect Result_Fill2',\n",
       " 'Head Purge Position Z Collect Result_Fill2',\n",
       " 'Machine Tact time Collect Result_Fill2',\n",
       " 'PalletID Collect Result_Fill2',\n",
       " 'Production Qty Collect Result_Fill2',\n",
       " 'Receip No Collect Result_Fill2',\n",
       " 'WorkMode Collect Result_Fill2',\n",
       " 'target',\n",
       " 'Dispenser_1',\n",
       " 'Dispenser_2',\n",
       " 'Workorder_0.9',\n",
       " 'Workorder_0.7',\n",
       " 'Workorder_0.5']"
      ]
     },
     "execution_count": 26,
     "metadata": {},
     "output_type": "execute_result"
    }
   ],
   "source": [
    "train_data.columns.to_list()"
   ]
  },
  {
   "cell_type": "code",
   "execution_count": 27,
   "id": "8b707c37",
   "metadata": {},
   "outputs": [
    {
     "data": {
      "text/plain": [
       "Model.Suffix\n",
       "AJX75334501    33820\n",
       "AJX75334502     3390\n",
       "AJX75334505     2635\n",
       "AJX75334507      310\n",
       "AJX75334503      162\n",
       "AJX75334506      129\n",
       "AJX75334508       60\n",
       "Name: count, dtype: int64"
      ]
     },
     "execution_count": 27,
     "metadata": {},
     "output_type": "execute_result"
    }
   ],
   "source": [
    "train_data['Model.Suffix'].value_counts()"
   ]
  },
  {
   "cell_type": "markdown",
   "id": "e07606c9",
   "metadata": {},
   "source": [
    "---"
   ]
  },
  {
   "cell_type": "markdown",
   "id": "70554ff6",
   "metadata": {},
   "source": [
    "개별 공정별 데이터 전처리"
   ]
  },
  {
   "cell_type": "markdown",
   "id": "b3a7346a",
   "metadata": {},
   "source": [
    "## Dam"
   ]
  },
  {
   "cell_type": "code",
   "execution_count": 28,
   "id": "4e833392",
   "metadata": {},
   "outputs": [
    {
     "name": "stdout",
     "output_type": "stream",
     "text": [
      "<Dam 공정 관련 변수>\n",
      "CURE END POSITION X Collect Result_Dam\n",
      "CURE END POSITION Z Collect Result_Dam\n",
      "CURE END POSITION Θ Collect Result_Dam\n",
      "CURE SPEED Collect Result_Dam\n",
      "CURE START POSITION X Collect Result_Dam\n",
      "CURE START POSITION Θ Collect Result_Dam\n",
      "DISCHARGED SPEED OF RESIN Collect Result_Dam\n",
      "DISCHARGED TIME OF RESIN(Stage1) Collect Result_Dam\n",
      "DISCHARGED TIME OF RESIN(Stage2) Collect Result_Dam\n",
      "DISCHARGED TIME OF RESIN(Stage3) Collect Result_Dam\n",
      "Dispense Volume(Stage1) Collect Result_Dam\n",
      "Dispense Volume(Stage2) Collect Result_Dam\n",
      "Dispense Volume(Stage3) Collect Result_Dam\n",
      "HEAD NORMAL COORDINATE X AXIS(Stage1) Collect Result_Dam\n",
      "HEAD NORMAL COORDINATE X AXIS(Stage1) Judge Value_Dam\n",
      "HEAD NORMAL COORDINATE X AXIS(Stage2) Collect Result_Dam\n",
      "HEAD NORMAL COORDINATE X AXIS(Stage3) Collect Result_Dam\n",
      "HEAD NORMAL COORDINATE Y AXIS(Stage1) Collect Result_Dam\n",
      "HEAD NORMAL COORDINATE Y AXIS(Stage2) Collect Result_Dam\n",
      "HEAD NORMAL COORDINATE Y AXIS(Stage3) Collect Result_Dam\n",
      "HEAD NORMAL COORDINATE Z AXIS(Stage1) Collect Result_Dam\n",
      "HEAD NORMAL COORDINATE Z AXIS(Stage2) Collect Result_Dam\n",
      "HEAD NORMAL COORDINATE Z AXIS(Stage3) Collect Result_Dam\n",
      "Head Clean Position Z Collect Result_Dam\n",
      "Head Purge Position Z Collect Result_Dam\n",
      "Head Zero Position Y Collect Result_Dam\n",
      "Head Zero Position Z Collect Result_Dam\n",
      "Machine Tact time Collect Result_Dam\n",
      "PalletID Collect Result_Dam\n",
      "Production Qty Collect Result_Dam\n",
      "Receip No Collect Result_Dam\n",
      "Stage1 Circle1 Distance Speed Collect Result_Dam\n",
      "Stage1 Circle2 Distance Speed Collect Result_Dam\n",
      "Stage1 Circle3 Distance Speed Collect Result_Dam\n",
      "Stage1 Circle4 Distance Speed Collect Result_Dam\n",
      "Stage1 Line1 Distance Speed Collect Result_Dam\n",
      "Stage1 Line2 Distance Speed Collect Result_Dam\n",
      "Stage1 Line3 Distance Speed Collect Result_Dam\n",
      "Stage1 Line4 Distance Speed Collect Result_Dam\n",
      "Stage2 Circle1 Distance Speed Collect Result_Dam\n",
      "Stage2 Circle2 Distance Speed Collect Result_Dam\n",
      "Stage2 Circle3 Distance Speed Collect Result_Dam\n",
      "Stage2 Circle4 Distance Speed Collect Result_Dam\n",
      "Stage2 Line1 Distance Speed Collect Result_Dam\n",
      "Stage2 Line2 Distance Speed Collect Result_Dam\n",
      "Stage2 Line3 Distance Speed Collect Result_Dam\n",
      "Stage2 Line4 Distance Speed Collect Result_Dam\n",
      "Stage3 Circle1 Distance Speed Collect Result_Dam\n",
      "Stage3 Circle2 Distance Speed Collect Result_Dam\n",
      "Stage3 Circle3 Distance Speed Collect Result_Dam\n",
      "Stage3 Circle4 Distance Speed Collect Result_Dam\n",
      "Stage3 Line1 Distance Speed Collect Result_Dam\n",
      "Stage3 Line2 Distance Speed Collect Result_Dam\n",
      "Stage3 Line3 Distance Speed Collect Result_Dam\n",
      "Stage3 Line4 Distance Speed Collect Result_Dam\n",
      "THICKNESS 1 Collect Result_Dam\n",
      "THICKNESS 2 Collect Result_Dam\n",
      "THICKNESS 3 Collect Result_Dam\n",
      "WorkMode Collect Result_Dam\n"
     ]
    }
   ],
   "source": [
    "# '_Dam'를 포함하는 열 이름 필터링\n",
    "Process_Desc_col = train_data.filter(like='_Dam').columns\n",
    "\n",
    "# 필터링된 열 이름 출력\n",
    "print(\"<Dam 공정 관련 변수>\")\n",
    "for col in Process_Desc_col:\n",
    "    print(col)"
   ]
  },
  {
   "cell_type": "code",
   "execution_count": 29,
   "id": "80c04f54",
   "metadata": {},
   "outputs": [],
   "source": [
    "import numpy as np\n",
    "\n",
    "# 시작 위치와 끝 위치 열 이름\n",
    "start_x_col = 'CURE START POSITION X Collect Result_Dam'\n",
    "start_z_col = 33.5\n",
    "end_x_col = 'CURE END POSITION X Collect Result_Dam'\n",
    "end_z_col = 'CURE END POSITION Z Collect Result_Dam'\n",
    "\n",
    "# 시작 위치와 끝 위치 사이의 거리 계산\n",
    "train_data['CURE_DISTANCE_Dam'] = np.sqrt(\n",
    "    (train_data[end_x_col] - train_data[start_x_col]) ** 2 +\n",
    "    (train_data[end_z_col] - start_z_col) ** 2\n",
    ")\n",
    "\n",
    "test_data['CURE_DISTANCE_Dam'] = np.sqrt(\n",
    "    (train_data[end_x_col] - train_data[start_x_col]) ** 2 +\n",
    "    (train_data[end_z_col] - start_z_col) ** 2\n",
    ")"
   ]
  },
  {
   "cell_type": "code",
   "execution_count": 30,
   "id": "60df3bab",
   "metadata": {},
   "outputs": [],
   "source": [
    "# 변수 제거\n",
    "train_data.drop(columns=[\n",
    "    'CURE END POSITION X Collect Result_Dam'\n",
    "    , 'CURE END POSITION Z Collect Result_Dam'\n",
    "    , 'CURE END POSITION Θ Collect Result_Dam'\n",
    "    , 'CURE START POSITION X Collect Result_Dam'\n",
    "    , 'CURE START POSITION Θ Collect Result_Dam'\n",
    "], inplace=True)\n",
    "\n",
    "test_data.drop(columns=[\n",
    "    'CURE END POSITION X Collect Result_Dam'\n",
    "    , 'CURE END POSITION Z Collect Result_Dam'\n",
    "    , 'CURE END POSITION Θ Collect Result_Dam'\n",
    "    , 'CURE START POSITION X Collect Result_Dam'\n",
    "    , 'CURE START POSITION Θ Collect Result_Dam'\n",
    "], inplace=True)"
   ]
  },
  {
   "cell_type": "code",
   "execution_count": 31,
   "id": "87dac5c7",
   "metadata": {},
   "outputs": [],
   "source": [
    "train_data['CURE_Time_Dam'] = train_data['CURE_DISTANCE_Dam'] / train_data['CURE SPEED Collect Result_Dam']\n",
    "test_data['CURE_Time_Dam'] = test_data['CURE_DISTANCE_Dam'] / test_data['CURE SPEED Collect Result_Dam']"
   ]
  },
  {
   "cell_type": "code",
   "execution_count": 32,
   "id": "3d20250f",
   "metadata": {},
   "outputs": [],
   "source": [
    "train_data.drop(columns=[\n",
    "    'CURE_DISTANCE_Dam'\n",
    "    , 'CURE SPEED Collect Result_Dam'\n",
    "], inplace=True)\n",
    "\n",
    "test_data.drop(columns=[\n",
    "    'CURE_DISTANCE_Dam'\n",
    "    , 'CURE SPEED Collect Result_Dam'\n",
    "], inplace=True)"
   ]
  },
  {
   "cell_type": "code",
   "execution_count": 33,
   "id": "1550c935",
   "metadata": {},
   "outputs": [],
   "source": [
    "import numpy as np\n",
    "\n",
    "# 각 스테이지의 좌표 열 정의\n",
    "stage1_cols = ['HEAD NORMAL COORDINATE X AXIS(Stage1) Collect Result_Dam',\n",
    "               'HEAD NORMAL COORDINATE Y AXIS(Stage1) Collect Result_Dam',\n",
    "               'HEAD NORMAL COORDINATE Z AXIS(Stage1) Collect Result_Dam']\n",
    "\n",
    "stage2_cols = ['HEAD NORMAL COORDINATE X AXIS(Stage2) Collect Result_Dam',\n",
    "               'HEAD NORMAL COORDINATE Y AXIS(Stage2) Collect Result_Dam',\n",
    "               'HEAD NORMAL COORDINATE Z AXIS(Stage2) Collect Result_Dam']\n",
    "\n",
    "stage3_cols = ['HEAD NORMAL COORDINATE X AXIS(Stage3) Collect Result_Dam',\n",
    "               'HEAD NORMAL COORDINATE Y AXIS(Stage3) Collect Result_Dam',\n",
    "               'HEAD NORMAL COORDINATE Z AXIS(Stage3) Collect Result_Dam']\n",
    "\n",
    "# 거리 계산 함수\n",
    "def calculate_distances(data):\n",
    "    data['DISTANCE_STAGE1_STAGE2_Dam'] = np.sqrt(\n",
    "        (data[stage2_cols[0]] - data[stage1_cols[0]]) ** 2 +\n",
    "        (data[stage2_cols[1]] - data[stage1_cols[1]]) ** 2 +\n",
    "        (data[stage2_cols[2]] - data[stage1_cols[2]]) ** 2\n",
    "    )\n",
    "\n",
    "    data['DISTANCE_STAGE2_STAGE3_Dam'] = np.sqrt(\n",
    "        (data[stage3_cols[0]] - data[stage2_cols[0]]) ** 2 +\n",
    "        (data[stage3_cols[1]] - data[stage2_cols[1]]) ** 2 +\n",
    "        (data[stage3_cols[2]] - data[stage2_cols[2]]) ** 2\n",
    "    )\n",
    "\n",
    "    data['DISTANCE_STAGE1_STAGE3_Dam'] = np.sqrt(\n",
    "        (data[stage3_cols[0]] - data[stage1_cols[0]]) ** 2 +\n",
    "        (data[stage3_cols[1]] - data[stage1_cols[1]]) ** 2 +\n",
    "        (data[stage3_cols[2]] - data[stage1_cols[2]]) ** 2\n",
    "    )\n",
    "\n",
    "    return data\n",
    "\n",
    "# train_data에 적용\n",
    "train_data = calculate_distances(train_data)\n",
    "\n",
    "# test_data에 적용\n",
    "test_data = calculate_distances(test_data)"
   ]
  },
  {
   "cell_type": "code",
   "execution_count": 34,
   "id": "0c75b771",
   "metadata": {},
   "outputs": [],
   "source": [
    "import numpy as np\n",
    "\n",
    "# 필요한 열 이름\n",
    "stage1_stage2_col = 'DISTANCE_STAGE1_STAGE2_Dam'\n",
    "stage2_stage3_col = 'DISTANCE_STAGE2_STAGE3_Dam'\n",
    "stage1_stage3_col = 'DISTANCE_STAGE1_STAGE3_Dam'\n",
    "\n",
    "# 삼각형의 넓이와 높이를 계산하는 함수\n",
    "def calculate_triangle_features(data):\n",
    "    a = data[stage1_stage2_col]\n",
    "    b = data[stage2_stage3_col]\n",
    "    c = data[stage1_stage3_col]\n",
    "\n",
    "    # 헤론의 공식에 따른 삼각형의 넓이 계산\n",
    "    s = (a + b + c) / 2\n",
    "    area = np.sqrt(s * (s - a) * (s - b) * (s - c))\n",
    "\n",
    "    # 높이 계산 (밑변을 c로 가정)\n",
    "    height = (2 * area) / c\n",
    "\n",
    "    # 결과를 새로운 열에 저장\n",
    "    data['DISTANCE_TRIANGLE_area_Dam'] = area\n",
    "    data['DISTANCE_TRIANGLE_height_Dam'] = height\n",
    "\n",
    "    return data\n",
    "\n",
    "# train_data에 적용\n",
    "train_data = calculate_triangle_features(train_data)\n",
    "\n",
    "# test_data에 적용\n",
    "test_data = calculate_triangle_features(test_data)"
   ]
  },
  {
   "cell_type": "code",
   "execution_count": 35,
   "id": "a13ba973",
   "metadata": {},
   "outputs": [],
   "source": [
    "import pandas as pd\n",
    "\n",
    "# '_Dam'를 포함하는 열 이름 필터링 함수\n",
    "def filter_dam_columns(data):\n",
    "    return data.filter(like='_Dam').columns\n",
    "\n",
    "# 스테이지별로 파생변수 생성 함수\n",
    "def create_stage_variables(data, columns):\n",
    "    stages = ['Stage1', 'Stage2', 'Stage3']\n",
    "    for stage in stages:\n",
    "        # Filter stage-specific columns\n",
    "        stage_cols = [col for col in columns if stage in col]\n",
    "        \n",
    "        # Ensure that only numeric columns are summed\n",
    "        stage_numeric_cols = data[stage_cols].select_dtypes(include=['number'])\n",
    "\n",
    "        # Create new derived column for the sum of the numeric stage columns\n",
    "        new_col_name = f'{stage}_Total_Distance_Speed_Collect_Result_Dam'\n",
    "        data[new_col_name] = stage_numeric_cols.sum(axis=1)\n",
    "        \n",
    "        # 이전 변수 삭제\n",
    "        data.drop(columns=stage_cols, inplace=True)\n",
    "    \n",
    "    return data\n",
    "\n",
    "# train_data에 적용\n",
    "train_dam_columns = filter_dam_columns(train_data)\n",
    "train_data = create_stage_variables(train_data, train_dam_columns)\n",
    "\n",
    "# test_data에 적용\n",
    "test_dam_columns = filter_dam_columns(test_data)\n",
    "test_data = create_stage_variables(test_data, test_dam_columns)"
   ]
  },
  {
   "cell_type": "code",
   "execution_count": 36,
   "id": "e36fd34a",
   "metadata": {},
   "outputs": [],
   "source": [
    "# 새로운 파생변수 생성 함수\n",
    "def create_total_thickness_dam(data):\n",
    "    data['Total_THICKNESS_Collect_Result_Dam'] = (\n",
    "        data['THICKNESS 1 Collect Result_Dam']**2 \n",
    "        + data['THICKNESS 2 Collect Result_Dam']**2 \n",
    "        + data['THICKNESS 3 Collect Result_Dam']**2\n",
    "    )\n",
    "    # 기존 변수 삭제\n",
    "    data.drop(columns=[\n",
    "        'THICKNESS 1 Collect Result_Dam',\n",
    "        'THICKNESS 2 Collect Result_Dam',\n",
    "        'THICKNESS 3 Collect Result_Dam'\n",
    "    ], inplace=True)\n",
    "    return data\n",
    "\n",
    "train_data = create_total_thickness_dam(train_data)\n",
    "test_data = create_total_thickness_dam(test_data)"
   ]
  },
  {
   "cell_type": "code",
   "execution_count": 37,
   "id": "bd6e7b32",
   "metadata": {},
   "outputs": [
    {
     "data": {
      "text/plain": [
       "Total_THICKNESS_Collect_Result_Dam\n",
       "0.000000    35419\n",
       "0.014726     1649\n",
       "0.003704     1197\n",
       "0.002197      964\n",
       "0.050926      884\n",
       "0.000389      150\n",
       "0.000637      125\n",
       "0.001970      118\n",
       "Name: count, dtype: int64"
      ]
     },
     "execution_count": 37,
     "metadata": {},
     "output_type": "execute_result"
    }
   ],
   "source": [
    "train_data['Total_THICKNESS_Collect_Result_Dam'].value_counts()"
   ]
  },
  {
   "cell_type": "code",
   "execution_count": 38,
   "id": "94e87f6c",
   "metadata": {},
   "outputs": [],
   "source": [
    "# 삭제할 열 이름 정의\n",
    "columns_to_drop = [\n",
    "    'DISTANCE_STAGE1_STAGE2_Dam'\n",
    "    , 'DISTANCE_STAGE2_STAGE3_Dam'\n",
    "    # , 'DISTANCE_STAGE1_STAGE3_Dam'\n",
    "]\n",
    "\n",
    "# train_data에서 열 삭제\n",
    "train_data = train_data.drop(columns=columns_to_drop)\n",
    "\n",
    "# test_data에서 열 삭제\n",
    "test_data = test_data.drop(columns=columns_to_drop)"
   ]
  },
  {
   "cell_type": "code",
   "execution_count": 39,
   "id": "b917e3db",
   "metadata": {},
   "outputs": [
    {
     "name": "stdout",
     "output_type": "stream",
     "text": [
      "<Dam 공정 관련 변수>\n",
      "DISCHARGED SPEED OF RESIN Collect Result_Dam\n",
      "Head Clean Position Z Collect Result_Dam\n",
      "Head Purge Position Z Collect Result_Dam\n",
      "Head Zero Position Y Collect Result_Dam\n",
      "Head Zero Position Z Collect Result_Dam\n",
      "Machine Tact time Collect Result_Dam\n",
      "PalletID Collect Result_Dam\n",
      "Production Qty Collect Result_Dam\n",
      "Receip No Collect Result_Dam\n",
      "WorkMode Collect Result_Dam\n",
      "CURE_Time_Dam\n",
      "DISTANCE_STAGE1_STAGE3_Dam\n",
      "DISTANCE_TRIANGLE_area_Dam\n",
      "DISTANCE_TRIANGLE_height_Dam\n",
      "Stage1_Total_Distance_Speed_Collect_Result_Dam\n",
      "Stage2_Total_Distance_Speed_Collect_Result_Dam\n",
      "Stage3_Total_Distance_Speed_Collect_Result_Dam\n",
      "Total_THICKNESS_Collect_Result_Dam\n"
     ]
    }
   ],
   "source": [
    "# '_Dam'를 포함하는 열 이름 필터링\n",
    "Process_Desc_col = train_data.filter(like='_Dam').columns\n",
    "\n",
    "# 필터링된 열 이름 출력\n",
    "print(\"<Dam 공정 관련 변수>\")\n",
    "for col in Process_Desc_col:\n",
    "    print(col)"
   ]
  },
  {
   "cell_type": "code",
   "execution_count": 40,
   "id": "b48dfad5",
   "metadata": {},
   "outputs": [],
   "source": [
    "train_data['All_Total_Distance_Speed_Collect_Result_Dam'] = train_data['Stage1_Total_Distance_Speed_Collect_Result_Dam'] + train_data['Stage2_Total_Distance_Speed_Collect_Result_Dam'] + train_data['Stage3_Total_Distance_Speed_Collect_Result_Dam']\n",
    "test_data['All_Total_Distance_Speed_Collect_Result_Dam'] = test_data['Stage1_Total_Distance_Speed_Collect_Result_Dam'] + test_data['Stage2_Total_Distance_Speed_Collect_Result_Dam'] + test_data['Stage3_Total_Distance_Speed_Collect_Result_Dam']\n",
    "\n",
    "train_data['Distance_frac_time_Dam'] = train_data['All_Total_Distance_Speed_Collect_Result_Dam'] / train_data['Machine Tact time Collect Result_Dam']\n",
    "test_data['Distance_frac_time_Dam'] = test_data['All_Total_Distance_Speed_Collect_Result_Dam'] / test_data['Machine Tact time Collect Result_Dam']\n",
    "\n",
    "# 삭제할 열 이름 정의\n",
    "columns_to_drop = [\n",
    "    # 'Machine Tact time Collect Result_Dam'\n",
    "    # , 'Stage1_Total_Distance_Speed_Collect_Result_Dam'\n",
    "    # , 'Stage2_Total_Distance_Speed_Collect_Result_Dam'\n",
    "    # , 'Stage3_Total_Distance_Speed_Collect_Result_Dam'\n",
    "     'All_Total_Distance_Speed_Collect_Result_Dam'\n",
    "]\n",
    "\n",
    "# train_data에서 열 삭제\n",
    "train_data = train_data.drop(columns=columns_to_drop)\n",
    "\n",
    "# test_data에서 열 삭제\n",
    "test_data = test_data.drop(columns=columns_to_drop)"
   ]
  },
  {
   "cell_type": "code",
   "execution_count": 41,
   "id": "d9d2e52f",
   "metadata": {},
   "outputs": [
    {
     "name": "stdout",
     "output_type": "stream",
     "text": [
      "<Dam 공정 관련 변수>\n",
      "DISCHARGED SPEED OF RESIN Collect Result_Dam\n",
      "Head Clean Position Z Collect Result_Dam\n",
      "Head Purge Position Z Collect Result_Dam\n",
      "Head Zero Position Y Collect Result_Dam\n",
      "Head Zero Position Z Collect Result_Dam\n",
      "Machine Tact time Collect Result_Dam\n",
      "PalletID Collect Result_Dam\n",
      "Production Qty Collect Result_Dam\n",
      "Receip No Collect Result_Dam\n",
      "WorkMode Collect Result_Dam\n",
      "CURE_Time_Dam\n",
      "DISTANCE_STAGE1_STAGE3_Dam\n",
      "DISTANCE_TRIANGLE_area_Dam\n",
      "DISTANCE_TRIANGLE_height_Dam\n",
      "Stage1_Total_Distance_Speed_Collect_Result_Dam\n",
      "Stage2_Total_Distance_Speed_Collect_Result_Dam\n",
      "Stage3_Total_Distance_Speed_Collect_Result_Dam\n",
      "Total_THICKNESS_Collect_Result_Dam\n",
      "Distance_frac_time_Dam\n"
     ]
    }
   ],
   "source": [
    "# '_Dam'를 포함하는 열 이름 필터링\n",
    "Process_Desc_col = train_data.filter(like='_Dam').columns\n",
    "\n",
    "# 필터링된 열 이름 출력\n",
    "print(\"<Dam 공정 관련 변수>\")\n",
    "for col in Process_Desc_col:\n",
    "    print(col)"
   ]
  },
  {
   "cell_type": "markdown",
   "id": "0906cc5f",
   "metadata": {},
   "source": [
    "## AutoClave"
   ]
  },
  {
   "cell_type": "code",
   "execution_count": 42,
   "id": "dcf60606",
   "metadata": {},
   "outputs": [
    {
     "name": "stdout",
     "output_type": "stream",
     "text": [
      "<AutoClave 공정 관련 변수>\n",
      "1st Pressure Collect Result_AutoClave\n",
      "1st Pressure 1st Pressure Unit Time_AutoClave\n",
      "2nd Pressure Collect Result_AutoClave\n",
      "2nd Pressure Unit Time_AutoClave\n",
      "3rd Pressure Collect Result_AutoClave\n",
      "3rd Pressure Unit Time_AutoClave\n",
      "Chamber Temp. Collect Result_AutoClave\n",
      "Chamber Temp. Unit Time_AutoClave\n",
      "Chamber Temp. Judge Value_AutoClave\n",
      "GMES_ORIGIN_INSP_JUDGE_CODE Collect Result_AutoClave\n",
      "GMES_ORIGIN_INSP_JUDGE_CODE Judge Value_AutoClave\n"
     ]
    }
   ],
   "source": [
    "# '_AutoClave'를 포함하는 열 이름 필터링\n",
    "Process_Desc_col = train_data.filter(like='_AutoClave').columns\n",
    "\n",
    "# 필터링된 열 이름 출력\n",
    "print(\"<AutoClave 공정 관련 변수>\")\n",
    "for col in Process_Desc_col:\n",
    "    print(col)"
   ]
  },
  {
   "cell_type": "code",
   "execution_count": 43,
   "id": "ce64980d",
   "metadata": {},
   "outputs": [],
   "source": [
    "# 변수명 변경\n",
    "train_data = train_data.rename(columns={'1st Pressure 1st Pressure Unit Time_AutoClave': '1st Pressure Unit Time_AutoClave'})\n",
    "test_data = test_data.rename(columns={'1st Pressure 1st Pressure Unit Time_AutoClave': '1st Pressure Unit Time_AutoClave'})\n",
    "\n",
    "train_data = train_data.rename(columns={'GMES_ORIGIN_INSP_JUDGE_CODE Collect Result_AutoClave': 'GMES_ORIGIN_INSP_JUDGE_CODE_AutoClave'})\n",
    "test_data = test_data.rename(columns={'GMES_ORIGIN_INSP_JUDGE_CODE Collect Result_AutoClave': 'GMES_ORIGIN_INSP_JUDGE_CODE_AutoClave'})"
   ]
  },
  {
   "cell_type": "code",
   "execution_count": 44,
   "id": "ec5d1aeb",
   "metadata": {},
   "outputs": [],
   "source": [
    "# 파생변수 생성\n",
    "train_data['1st_Pressure_x_AutoClave'] = train_data['1st Pressure Collect Result_AutoClave'] * train_data['1st Pressure Unit Time_AutoClave'] \n",
    "test_data['1st_Pressure_x_AutoClave'] = test_data['1st Pressure Collect Result_AutoClave'] * test_data['1st Pressure Unit Time_AutoClave'] \n",
    "\n",
    "train_data['2nd_Pressure_x_AutoClave'] = train_data['2nd Pressure Collect Result_AutoClave'] * train_data['2nd Pressure Unit Time_AutoClave'] \n",
    "test_data['2nd_Pressure_x_AutoClave'] = test_data['2nd Pressure Collect Result_AutoClave'] * test_data['2nd Pressure Unit Time_AutoClave'] \n",
    "\n",
    "train_data['3rd_Pressure_x_AutoClave'] = train_data['3rd Pressure Collect Result_AutoClave'] * train_data['3rd Pressure Unit Time_AutoClave'] \n",
    "test_data['3rd_Pressure_x_AutoClave'] = test_data['3rd Pressure Collect Result_AutoClave'] * test_data['3rd Pressure Unit Time_AutoClave'] \n",
    "\n",
    "train_data['All_Pressure_x_AutoClave'] = train_data['1st_Pressure_x_AutoClave'] + train_data['2nd_Pressure_x_AutoClave'] + train_data['3rd_Pressure_x_AutoClave']\n",
    "test_data['All_Pressure_x_AutoClave'] = test_data['1st_Pressure_x_AutoClave'] + test_data['2nd_Pressure_x_AutoClave'] + test_data['3rd_Pressure_x_AutoClave']\n",
    "\n",
    "train_data['All_Pressure_avg_AutoClave'] = train_data['All_Pressure_x_AutoClave'] / train_data['Chamber Temp. Unit Time_AutoClave']\n",
    "test_data['All_Pressure_avg_AutoClave'] = test_data['All_Pressure_x_AutoClave'] / test_data['Chamber Temp. Unit Time_AutoClave']\n",
    "\n",
    "train_data['Chamber_Temp_x_AutoClave'] = train_data['Chamber Temp. Collect Result_AutoClave'] * train_data['Chamber Temp. Unit Time_AutoClave']\n",
    "test_data['Chamber_Temp_x_AutoClave'] = test_data['Chamber Temp. Collect Result_AutoClave'] * test_data['Chamber Temp. Unit Time_AutoClave']\n",
    "\n",
    "train_data['Chamber_Temp_ok_AutoClave'] = train_data['Chamber Temp. Judge Value_AutoClave'].apply(lambda x: 1 if x == 'OK' else 0)\n",
    "test_data['Chamber_Temp_ok_AutoClave'] = test_data['Chamber Temp. Judge Value_AutoClave'].apply(lambda x: 1 if x == 'OK' else 0)\n",
    "\n",
    "train_data['GMES_ORIGIN_INSP_JUDGE_CODE_ok_AutoClave'] = train_data['GMES_ORIGIN_INSP_JUDGE_CODE_AutoClave'].apply(lambda x: 1 if x == 'OK' else 0)\n",
    "test_data['GMES_ORIGIN_INSP_JUDGE_CODE_ok_AutoClave'] = test_data['GMES_ORIGIN_INSP_JUDGE_CODE_AutoClave'].apply(lambda x: 1 if x == 'OK' else 0)\n"
   ]
  },
  {
   "cell_type": "code",
   "execution_count": 45,
   "id": "6115c473",
   "metadata": {},
   "outputs": [],
   "source": [
    "# 변수 제거\n",
    "train_data.drop(columns=[\n",
    "    # 'Chamber Temp. Collect Result_AutoClave'\n",
    "    #  'Chamber Temp. Unit Time_AutoClave'\n",
    "     'Chamber Temp. Judge Value_AutoClave'\n",
    "    , 'GMES_ORIGIN_INSP_JUDGE_CODE_AutoClave'\n",
    "    , 'GMES_ORIGIN_INSP_JUDGE_CODE Judge Value_AutoClave'\n",
    "    # , '1st Pressure Collect Result_AutoClave'\n",
    "    , '1st Pressure Unit Time_AutoClave'\n",
    "    # , '2nd Pressure Collect Result_AutoClave'\n",
    "    , '2nd Pressure Unit Time_AutoClave'\n",
    "    # , '3rd Pressure Collect Result_AutoClave'\n",
    "    , '3rd Pressure Unit Time_AutoClave'], inplace=True)\n",
    "\n",
    "test_data.drop(columns=[\n",
    "    # 'Chamber Temp. Collect Result_AutoClave'\n",
    "    #  'Chamber Temp. Unit Time_AutoClave'\n",
    "     'Chamber Temp. Judge Value_AutoClave'\n",
    "    , 'GMES_ORIGIN_INSP_JUDGE_CODE_AutoClave'\n",
    "    , 'GMES_ORIGIN_INSP_JUDGE_CODE Judge Value_AutoClave'\n",
    "    # , '1st Pressure Collect Result_AutoClave'\n",
    "    , '1st Pressure Unit Time_AutoClave'\n",
    "    # , '2nd Pressure Collect Result_AutoClave'\n",
    "    , '2nd Pressure Unit Time_AutoClave'\n",
    "    # , '3rd Pressure Collect Result_AutoClave'\n",
    "    , '3rd Pressure Unit Time_AutoClave'], inplace=True)"
   ]
  },
  {
   "cell_type": "code",
   "execution_count": 46,
   "id": "58aa41c6",
   "metadata": {},
   "outputs": [
    {
     "name": "stdout",
     "output_type": "stream",
     "text": [
      "<AutoClave 공정 관련 변수>\n",
      "1st Pressure Collect Result_AutoClave\n",
      "2nd Pressure Collect Result_AutoClave\n",
      "3rd Pressure Collect Result_AutoClave\n",
      "Chamber Temp. Collect Result_AutoClave\n",
      "Chamber Temp. Unit Time_AutoClave\n",
      "1st_Pressure_x_AutoClave\n",
      "2nd_Pressure_x_AutoClave\n",
      "3rd_Pressure_x_AutoClave\n",
      "All_Pressure_x_AutoClave\n",
      "All_Pressure_avg_AutoClave\n",
      "Chamber_Temp_x_AutoClave\n",
      "Chamber_Temp_ok_AutoClave\n",
      "GMES_ORIGIN_INSP_JUDGE_CODE_ok_AutoClave\n"
     ]
    }
   ],
   "source": [
    "# '_AutoClave'를 포함하는 열 이름 필터링\n",
    "Process_Desc_col = train_data.filter(like='_AutoClave').columns\n",
    "\n",
    "# 필터링된 열 이름 출력\n",
    "print(\"<AutoClave 공정 관련 변수>\")\n",
    "for col in Process_Desc_col:\n",
    "    print(col)"
   ]
  },
  {
   "cell_type": "markdown",
   "id": "b0164e69",
   "metadata": {},
   "source": [
    "## Fill1"
   ]
  },
  {
   "cell_type": "code",
   "execution_count": 47,
   "id": "73f3ef3e",
   "metadata": {},
   "outputs": [],
   "source": [
    "import numpy as np\n",
    "\n",
    "# 각 스테이지의 좌표 열 정의\n",
    "stage1_cols = ['HEAD NORMAL COORDINATE X AXIS(Stage1) Collect Result_Fill1',\n",
    "               'HEAD NORMAL COORDINATE Y AXIS(Stage1) Collect Result_Fill1',\n",
    "               'HEAD NORMAL COORDINATE Z AXIS(Stage1) Collect Result_Fill1']\n",
    "\n",
    "stage2_cols = ['HEAD NORMAL COORDINATE X AXIS(Stage2) Collect Result_Fill1',\n",
    "               'HEAD NORMAL COORDINATE Y AXIS(Stage2) Collect Result_Fill1',\n",
    "               'HEAD NORMAL COORDINATE Z AXIS(Stage2) Collect Result_Fill1']\n",
    "\n",
    "stage3_cols = ['HEAD NORMAL COORDINATE X AXIS(Stage3) Collect Result_Fill1',\n",
    "               'HEAD NORMAL COORDINATE Y AXIS(Stage3) Collect Result_Fill1',\n",
    "               'HEAD NORMAL COORDINATE Z AXIS(Stage3) Collect Result_Fill1']\n",
    "\n",
    "# 거리 계산 함수\n",
    "def calculate_distances(data):\n",
    "    data['DISTANCE_STAGE1_STAGE2_Fill1'] = np.sqrt(\n",
    "        (data[stage2_cols[0]] - data[stage1_cols[0]]) ** 2 +\n",
    "        (data[stage2_cols[1]] - data[stage1_cols[1]]) ** 2 +\n",
    "        (data[stage2_cols[2]] - data[stage1_cols[2]]) ** 2\n",
    "    )\n",
    "\n",
    "    data['DISTANCE_STAGE2_STAGE3_Fill1'] = np.sqrt(\n",
    "        (data[stage3_cols[0]] - data[stage2_cols[0]]) ** 2 +\n",
    "        (data[stage3_cols[1]] - data[stage2_cols[1]]) ** 2 +\n",
    "        (data[stage3_cols[2]] - data[stage2_cols[2]]) ** 2\n",
    "    )\n",
    "\n",
    "    data['DISTANCE_STAGE1_STAGE3_Fill1'] = np.sqrt(\n",
    "        (data[stage3_cols[0]] - data[stage1_cols[0]]) ** 2 +\n",
    "        (data[stage3_cols[1]] - data[stage1_cols[1]]) ** 2 +\n",
    "        (data[stage3_cols[2]] - data[stage1_cols[2]]) ** 2\n",
    "    )\n",
    "\n",
    "    return data\n",
    "\n",
    "# train_data에 적용\n",
    "train_data = calculate_distances(train_data)\n",
    "\n",
    "# test_data에 적용\n",
    "test_data = calculate_distances(test_data)"
   ]
  },
  {
   "cell_type": "code",
   "execution_count": 48,
   "id": "b4bc0003",
   "metadata": {},
   "outputs": [],
   "source": [
    "import numpy as np\n",
    "\n",
    "# 필요한 열 이름\n",
    "stage1_stage2_col = 'DISTANCE_STAGE1_STAGE2_Fill1'\n",
    "stage2_stage3_col = 'DISTANCE_STAGE2_STAGE3_Fill1'\n",
    "stage1_stage3_col = 'DISTANCE_STAGE1_STAGE3_Fill1'\n",
    "\n",
    "# 삼각형의 넓이와 높이를 계산하는 함수\n",
    "def calculate_triangle_features(data):\n",
    "    a = data[stage1_stage2_col]\n",
    "    b = data[stage2_stage3_col]\n",
    "    c = data[stage1_stage3_col]\n",
    "\n",
    "    # 헤론의 공식에 따른 삼각형의 넓이 계산\n",
    "    s = (a + b + c) / 2\n",
    "    area = np.sqrt(s * (s - a) * (s - b) * (s - c))\n",
    "\n",
    "    # 높이 계산 (밑변을 c로 가정)\n",
    "    height = (2 * area) / c\n",
    "\n",
    "    # 결과를 새로운 열에 저장\n",
    "    data['DISTANCE_TRIANGLE_area_Fill1'] = area\n",
    "    data['DISTANCE_TRIANGLE_height_Fill1'] = height\n",
    "\n",
    "    return data\n",
    "\n",
    "# train_data에 적용\n",
    "train_data = calculate_triangle_features(train_data)\n",
    "\n",
    "# test_data에 적용\n",
    "test_data = calculate_triangle_features(test_data)"
   ]
  },
  {
   "cell_type": "code",
   "execution_count": 49,
   "id": "244384f8",
   "metadata": {},
   "outputs": [],
   "source": [
    "# 삭제할 열 이름 정의\n",
    "columns_to_drop = [\n",
    "    'DISTANCE_STAGE1_STAGE2_Fill1'\n",
    "    , 'DISTANCE_STAGE2_STAGE3_Fill1'\n",
    "    , 'DISTANCE_STAGE1_STAGE3_Fill1'\n",
    "]\n",
    "\n",
    "# train_data에서 열 삭제\n",
    "train_data = train_data.drop(columns=columns_to_drop)\n",
    "\n",
    "# test_data에서 열 삭제\n",
    "test_data = test_data.drop(columns=columns_to_drop)"
   ]
  },
  {
   "cell_type": "code",
   "execution_count": 50,
   "id": "cf4306e3",
   "metadata": {},
   "outputs": [],
   "source": [
    "# 변수 제거\n",
    "train_data.drop(columns=[\n",
    "    'HEAD NORMAL COORDINATE X AXIS(Stage1) Collect Result_Fill1'\n",
    "    , 'HEAD NORMAL COORDINATE X AXIS(Stage2) Collect Result_Fill1'\n",
    "    , 'HEAD NORMAL COORDINATE X AXIS(Stage3) Collect Result_Fill1'\n",
    "    , 'HEAD NORMAL COORDINATE Y AXIS(Stage1) Collect Result_Fill1'\n",
    "    , 'HEAD NORMAL COORDINATE Y AXIS(Stage2) Collect Result_Fill1'\n",
    "    , 'HEAD NORMAL COORDINATE Y AXIS(Stage3) Collect Result_Fill1'\n",
    "    , 'HEAD NORMAL COORDINATE Z AXIS(Stage1) Collect Result_Fill1'\n",
    "    , 'HEAD NORMAL COORDINATE Z AXIS(Stage2) Collect Result_Fill1'\n",
    "    , 'HEAD NORMAL COORDINATE Z AXIS(Stage3) Collect Result_Fill1'], inplace=True)\n",
    "\n",
    "test_data.drop(columns=[\n",
    "    'HEAD NORMAL COORDINATE X AXIS(Stage1) Collect Result_Fill1'\n",
    "    , 'HEAD NORMAL COORDINATE X AXIS(Stage2) Collect Result_Fill1'\n",
    "    , 'HEAD NORMAL COORDINATE X AXIS(Stage3) Collect Result_Fill1'\n",
    "    , 'HEAD NORMAL COORDINATE Y AXIS(Stage1) Collect Result_Fill1'\n",
    "    , 'HEAD NORMAL COORDINATE Y AXIS(Stage2) Collect Result_Fill1'\n",
    "    , 'HEAD NORMAL COORDINATE Y AXIS(Stage3) Collect Result_Fill1'\n",
    "    , 'HEAD NORMAL COORDINATE Z AXIS(Stage1) Collect Result_Fill1'\n",
    "    , 'HEAD NORMAL COORDINATE Z AXIS(Stage2) Collect Result_Fill1'\n",
    "    , 'HEAD NORMAL COORDINATE Z AXIS(Stage3) Collect Result_Fill1'], inplace=True)"
   ]
  },
  {
   "cell_type": "code",
   "execution_count": 51,
   "id": "0efcf423",
   "metadata": {},
   "outputs": [
    {
     "name": "stderr",
     "output_type": "stream",
     "text": [
      "C:\\Users\\KimDongyoung\\AppData\\Local\\Temp\\ipykernel_30836\\4033227230.py:2: FutureWarning: A value is trying to be set on a copy of a DataFrame or Series through chained assignment using an inplace method.\n",
      "The behavior will change in pandas 3.0. This inplace method will never work because the intermediate object on which we are setting values always behaves as a copy.\n",
      "\n",
      "For example, when doing 'df[col].method(value, inplace=True)', try using 'df.method({col: value}, inplace=True)' or df[col] = df[col].method(value) instead, to perform the operation inplace on the original object.\n",
      "\n",
      "\n",
      "  train_data['WorkMode Collect Result_Fill1'].fillna(0, inplace=True)\n",
      "C:\\Users\\KimDongyoung\\AppData\\Local\\Temp\\ipykernel_30836\\4033227230.py:3: FutureWarning: A value is trying to be set on a copy of a DataFrame or Series through chained assignment using an inplace method.\n",
      "The behavior will change in pandas 3.0. This inplace method will never work because the intermediate object on which we are setting values always behaves as a copy.\n",
      "\n",
      "For example, when doing 'df[col].method(value, inplace=True)', try using 'df.method({col: value}, inplace=True)' or df[col] = df[col].method(value) instead, to perform the operation inplace on the original object.\n",
      "\n",
      "\n",
      "  test_data['WorkMode Collect Result_Fill1'].fillna(0, inplace=True)\n"
     ]
    }
   ],
   "source": [
    "# 'WorkMode Collect Result_Fill1' 열의 결측값을 0으로 채우기\n",
    "train_data['WorkMode Collect Result_Fill1'].fillna(0, inplace=True)\n",
    "test_data['WorkMode Collect Result_Fill1'].fillna(0, inplace=True)"
   ]
  },
  {
   "cell_type": "code",
   "execution_count": 52,
   "id": "a06d132b",
   "metadata": {},
   "outputs": [
    {
     "name": "stdout",
     "output_type": "stream",
     "text": [
      "<Fill1 공정 관련 변수>\n",
      "DISCHARGED SPEED OF RESIN Collect Result_Fill1\n",
      "DISCHARGED TIME OF RESIN(Stage1) Collect Result_Fill1\n",
      "DISCHARGED TIME OF RESIN(Stage2) Collect Result_Fill1\n",
      "DISCHARGED TIME OF RESIN(Stage3) Collect Result_Fill1\n",
      "Dispense Volume(Stage1) Collect Result_Fill1\n",
      "Dispense Volume(Stage2) Collect Result_Fill1\n",
      "Dispense Volume(Stage3) Collect Result_Fill1\n",
      "HEAD NORMAL COORDINATE X AXIS(Stage1) Judge Value_Fill1\n",
      "Head Purge Position Z Collect Result_Fill1\n",
      "Machine Tact time Collect Result_Fill1\n",
      "PalletID Collect Result_Fill1\n",
      "Production Qty Collect Result_Fill1\n",
      "Receip No Collect Result_Fill1\n",
      "WorkMode Collect Result_Fill1\n",
      "DISTANCE_TRIANGLE_area_Fill1\n",
      "DISTANCE_TRIANGLE_height_Fill1\n"
     ]
    }
   ],
   "source": [
    "# '_Fill1'를 포함하는 열 이름 필터링\n",
    "Process_Desc_col = train_data.filter(like='_Fill1').columns\n",
    "\n",
    "# 필터링된 열 이름 출력\n",
    "print(\"<Fill1 공정 관련 변수>\")\n",
    "for col in Process_Desc_col:\n",
    "    print(col)"
   ]
  },
  {
   "cell_type": "markdown",
   "id": "70759e80",
   "metadata": {},
   "source": [
    "## Fill2"
   ]
  },
  {
   "cell_type": "code",
   "execution_count": 53,
   "id": "6d9fcae9",
   "metadata": {},
   "outputs": [
    {
     "name": "stdout",
     "output_type": "stream",
     "text": [
      "<Fill2 공정 관련 변수>\n",
      "CURE END POSITION X Collect Result_Fill2\n",
      "CURE END POSITION Z Collect Result_Fill2\n",
      "CURE SPEED Collect Result_Fill2\n",
      "CURE STANDBY POSITION Z Collect Result_Fill2\n",
      "CURE START POSITION X Collect Result_Fill2\n",
      "CURE START POSITION Z Collect Result_Fill2\n",
      "HEAD NORMAL COORDINATE X AXIS(Stage1) Collect Result_Fill2\n",
      "HEAD NORMAL COORDINATE X AXIS(Stage1) Judge Value_Fill2\n",
      "HEAD NORMAL COORDINATE X AXIS(Stage2) Collect Result_Fill2\n",
      "HEAD NORMAL COORDINATE X AXIS(Stage3) Collect Result_Fill2\n",
      "HEAD NORMAL COORDINATE Y AXIS(Stage1) Collect Result_Fill2\n",
      "HEAD NORMAL COORDINATE Y AXIS(Stage2) Collect Result_Fill2\n",
      "HEAD NORMAL COORDINATE Y AXIS(Stage3) Collect Result_Fill2\n",
      "HEAD NORMAL COORDINATE Z AXIS(Stage1) Collect Result_Fill2\n",
      "HEAD NORMAL COORDINATE Z AXIS(Stage2) Collect Result_Fill2\n",
      "HEAD NORMAL COORDINATE Z AXIS(Stage3) Collect Result_Fill2\n",
      "Head Purge Position Z Collect Result_Fill2\n",
      "Machine Tact time Collect Result_Fill2\n",
      "PalletID Collect Result_Fill2\n",
      "Production Qty Collect Result_Fill2\n",
      "Receip No Collect Result_Fill2\n",
      "WorkMode Collect Result_Fill2\n"
     ]
    }
   ],
   "source": [
    "# '_Fill2'를 포함하는 열 이름 필터링\n",
    "Process_Desc_col = train_data.filter(like='_Fill2').columns\n",
    "\n",
    "# 필터링된 열 이름 출력\n",
    "print(\"<Fill2 공정 관련 변수>\")\n",
    "for col in Process_Desc_col:\n",
    "    print(col)"
   ]
  },
  {
   "cell_type": "code",
   "execution_count": 54,
   "id": "6f3691a4",
   "metadata": {},
   "outputs": [],
   "source": [
    "import numpy as np\n",
    "\n",
    "# 시작 위치와 끝 위치 열 이름\n",
    "start_x_col = 'CURE START POSITION X Collect Result_Fill2'\n",
    "start_z_col = 'CURE START POSITION Z Collect Result_Fill2'\n",
    "end_x_col = 'CURE END POSITION X Collect Result_Fill2'\n",
    "end_z_col = 'CURE END POSITION Z Collect Result_Fill2'\n",
    "\n",
    "# 시작 위치와 끝 위치 사이의 거리 계산\n",
    "train_data['CURE_DISTANCE_Fill2'] = np.sqrt(\n",
    "    (train_data[end_x_col] - train_data[start_x_col]) ** 2 +\n",
    "    (train_data[end_z_col] - train_data[start_z_col]) ** 2\n",
    ")\n",
    "\n",
    "test_data['CURE_DISTANCE_Fill2'] = np.sqrt(\n",
    "    (train_data[end_x_col] - train_data[start_x_col]) ** 2 +\n",
    "    (train_data[end_z_col] - train_data[start_z_col]) ** 2\n",
    ")"
   ]
  },
  {
   "cell_type": "code",
   "execution_count": 55,
   "id": "cd17f9e6",
   "metadata": {},
   "outputs": [],
   "source": [
    "train_data['CURE_Time_Fill2']  = train_data['CURE_DISTANCE_Fill2'] / train_data['CURE SPEED Collect Result_Fill2']\n",
    "test_data['CURE_Time_Fill2']  = test_data['CURE_DISTANCE_Fill2'] / test_data['CURE SPEED Collect Result_Fill2']"
   ]
  },
  {
   "cell_type": "code",
   "execution_count": 56,
   "id": "5c436499",
   "metadata": {},
   "outputs": [],
   "source": [
    "train_data['CURE_STANDBY_DISTANCE_Fill2']  = train_data['CURE START POSITION Z Collect Result_Fill2'] - train_data['CURE STANDBY POSITION Z Collect Result_Fill2']\n",
    "test_data['CURE_STANDBY_DISTANCE_Fill2']  = test_data['CURE START POSITION Z Collect Result_Fill2'] - test_data['CURE STANDBY POSITION Z Collect Result_Fill2']"
   ]
  },
  {
   "cell_type": "code",
   "execution_count": 57,
   "id": "2bb58e39",
   "metadata": {},
   "outputs": [],
   "source": [
    "# 변수 제거\n",
    "train_data.drop(columns=[\n",
    "    'CURE END POSITION X Collect Result_Fill2'\n",
    "    , 'CURE END POSITION Z Collect Result_Fill2'\n",
    "    , 'CURE START POSITION X Collect Result_Fill2'\n",
    "    , 'CURE START POSITION Z Collect Result_Fill2'\n",
    "    , 'CURE_STANDBY_DISTANCE_Fill2'\n",
    "    , 'CURE SPEED Collect Result_Fill2'], inplace=True)\n",
    "\n",
    "test_data.drop(columns=[\n",
    "    'CURE END POSITION X Collect Result_Fill2'\n",
    "    , 'CURE END POSITION Z Collect Result_Fill2'\n",
    "    , 'CURE START POSITION X Collect Result_Fill2'\n",
    "    , 'CURE START POSITION Z Collect Result_Fill2'\n",
    "    , 'CURE_STANDBY_DISTANCE_Fill2'\n",
    "    , 'CURE SPEED Collect Result_Fill2'], inplace=True)"
   ]
  },
  {
   "cell_type": "code",
   "execution_count": 58,
   "id": "3d2c3400",
   "metadata": {},
   "outputs": [],
   "source": [
    "# CURE STANDBY POSITION Z Collect Result_Fill2 이름 변경\n",
    "train_data.rename(columns={'CURE STANDBY POSITION Z Collect Result_Fill2': 'CURE_STANDBY_POSITION_Fill2'}, inplace=True)\n",
    "test_data.rename(columns={'CURE STANDBY POSITION Z Collect Result_Fill2': 'CURE_STANDBY_POSITION_Fill2'}, inplace=True)"
   ]
  },
  {
   "cell_type": "code",
   "execution_count": 59,
   "id": "5da943f0",
   "metadata": {},
   "outputs": [],
   "source": [
    "import numpy as np\n",
    "\n",
    "# 각 스테이지의 좌표 열 정의\n",
    "stage1_cols = ['HEAD NORMAL COORDINATE X AXIS(Stage1) Collect Result_Fill2',\n",
    "               'HEAD NORMAL COORDINATE Y AXIS(Stage1) Collect Result_Fill2',\n",
    "               'HEAD NORMAL COORDINATE Z AXIS(Stage1) Collect Result_Fill2']\n",
    "\n",
    "stage2_cols = ['HEAD NORMAL COORDINATE X AXIS(Stage2) Collect Result_Fill2',\n",
    "               'HEAD NORMAL COORDINATE Y AXIS(Stage2) Collect Result_Fill2',\n",
    "               'HEAD NORMAL COORDINATE Z AXIS(Stage2) Collect Result_Fill2']\n",
    "\n",
    "stage3_cols = ['HEAD NORMAL COORDINATE X AXIS(Stage3) Collect Result_Fill2',\n",
    "               'HEAD NORMAL COORDINATE Y AXIS(Stage3) Collect Result_Fill2',\n",
    "               'HEAD NORMAL COORDINATE Z AXIS(Stage3) Collect Result_Fill2']\n",
    "\n",
    "# 거리 계산 함수\n",
    "def calculate_distances(data):\n",
    "    data['DISTANCE_STAGE1_STAGE2_Fill2'] = np.sqrt(\n",
    "        (data[stage2_cols[0]] - data[stage1_cols[0]]) ** 2 +\n",
    "        (data[stage2_cols[1]] - data[stage1_cols[1]]) ** 2 +\n",
    "        (data[stage2_cols[2]] - data[stage1_cols[2]]) ** 2\n",
    "    )\n",
    "\n",
    "    data['DISTANCE_STAGE2_STAGE3_Fill2'] = np.sqrt(\n",
    "        (data[stage3_cols[0]] - data[stage2_cols[0]]) ** 2 +\n",
    "        (data[stage3_cols[1]] - data[stage2_cols[1]]) ** 2 +\n",
    "        (data[stage3_cols[2]] - data[stage2_cols[2]]) ** 2\n",
    "    )\n",
    "\n",
    "    data['DISTANCE_STAGE1_STAGE3_Fill2'] = np.sqrt(\n",
    "        (data[stage3_cols[0]] - data[stage1_cols[0]]) ** 2 +\n",
    "        (data[stage3_cols[1]] - data[stage1_cols[1]]) ** 2 +\n",
    "        (data[stage3_cols[2]] - data[stage1_cols[2]]) ** 2\n",
    "    )\n",
    "\n",
    "    return data\n",
    "\n",
    "# train_data에 적용\n",
    "train_data = calculate_distances(train_data)\n",
    "\n",
    "# test_data에 적용\n",
    "test_data = calculate_distances(test_data)"
   ]
  },
  {
   "cell_type": "code",
   "execution_count": 60,
   "id": "5d3655fd",
   "metadata": {},
   "outputs": [],
   "source": [
    "# OK 값이면 1, 결측 값이면 0을 부여\n",
    "train_data['HEAD_NORMAL_stage1_ok_Fill2'] = train_data['HEAD NORMAL COORDINATE X AXIS(Stage1) Judge Value_Fill2'].apply(lambda x: 1 if x == 'OK' else 0)\n",
    "test_data['HEAD_NORMAL_stage1_ok_Fill2'] = test_data['HEAD NORMAL COORDINATE X AXIS(Stage1) Judge Value_Fill2'].apply(lambda x: 1 if x == 'OK' else 0)\n",
    "\n",
    "# HEAD NORMAL COORDINATE X AXIS(Stage1) Judge Value_Fill1 변수 제거\n",
    "train_data.drop(columns=['HEAD NORMAL COORDINATE X AXIS(Stage1) Judge Value_Fill2'], inplace=True)\n",
    "test_data.drop(columns=['HEAD NORMAL COORDINATE X AXIS(Stage1) Judge Value_Fill2'], inplace=True)"
   ]
  },
  {
   "cell_type": "code",
   "execution_count": 61,
   "id": "3aa63be6",
   "metadata": {},
   "outputs": [],
   "source": [
    "# 변수 제거\n",
    "train_data.drop(columns=[\n",
    "    'HEAD NORMAL COORDINATE X AXIS(Stage1) Collect Result_Fill2'\n",
    "    , 'HEAD NORMAL COORDINATE X AXIS(Stage2) Collect Result_Fill2'\n",
    "    , 'HEAD NORMAL COORDINATE X AXIS(Stage3) Collect Result_Fill2'\n",
    "    , 'HEAD NORMAL COORDINATE Y AXIS(Stage1) Collect Result_Fill2'\n",
    "    , 'HEAD NORMAL COORDINATE Y AXIS(Stage2) Collect Result_Fill2'\n",
    "    , 'HEAD NORMAL COORDINATE Y AXIS(Stage3) Collect Result_Fill2'\n",
    "    , 'HEAD NORMAL COORDINATE Z AXIS(Stage1) Collect Result_Fill2'\n",
    "    , 'HEAD NORMAL COORDINATE Z AXIS(Stage2) Collect Result_Fill2'\n",
    "    , 'HEAD NORMAL COORDINATE Z AXIS(Stage3) Collect Result_Fill2'], inplace=True)\n",
    "\n",
    "test_data.drop(columns=[\n",
    "    'HEAD NORMAL COORDINATE X AXIS(Stage1) Collect Result_Fill2'\n",
    "    , 'HEAD NORMAL COORDINATE X AXIS(Stage2) Collect Result_Fill2'\n",
    "    , 'HEAD NORMAL COORDINATE X AXIS(Stage3) Collect Result_Fill2'\n",
    "    , 'HEAD NORMAL COORDINATE Y AXIS(Stage1) Collect Result_Fill2'\n",
    "    , 'HEAD NORMAL COORDINATE Y AXIS(Stage2) Collect Result_Fill2'\n",
    "    , 'HEAD NORMAL COORDINATE Y AXIS(Stage3) Collect Result_Fill2'\n",
    "    , 'HEAD NORMAL COORDINATE Z AXIS(Stage1) Collect Result_Fill2'\n",
    "    , 'HEAD NORMAL COORDINATE Z AXIS(Stage2) Collect Result_Fill2'\n",
    "    , 'HEAD NORMAL COORDINATE Z AXIS(Stage3) Collect Result_Fill2'], inplace=True)"
   ]
  },
  {
   "cell_type": "code",
   "execution_count": 62,
   "id": "a4ac7d65",
   "metadata": {},
   "outputs": [
    {
     "name": "stdout",
     "output_type": "stream",
     "text": [
      "<Fill2 공정 관련 변수>\n",
      "CURE_STANDBY_POSITION_Fill2\n",
      "Head Purge Position Z Collect Result_Fill2\n",
      "Machine Tact time Collect Result_Fill2\n",
      "PalletID Collect Result_Fill2\n",
      "Production Qty Collect Result_Fill2\n",
      "Receip No Collect Result_Fill2\n",
      "WorkMode Collect Result_Fill2\n",
      "CURE_DISTANCE_Fill2\n",
      "CURE_Time_Fill2\n",
      "DISTANCE_STAGE1_STAGE2_Fill2\n",
      "DISTANCE_STAGE2_STAGE3_Fill2\n",
      "DISTANCE_STAGE1_STAGE3_Fill2\n",
      "HEAD_NORMAL_stage1_ok_Fill2\n"
     ]
    }
   ],
   "source": [
    "# '_Fill2'를 포함하는 열 이름 필터링\n",
    "Process_Desc_col = train_data.filter(like='_Fill2').columns\n",
    "\n",
    "# 필터링된 열 이름 출력\n",
    "print(\"<Fill2 공정 관련 변수>\")\n",
    "for col in Process_Desc_col:\n",
    "    print(col)"
   ]
  },
  {
   "cell_type": "markdown",
   "id": "5c4cc6b9",
   "metadata": {},
   "source": [
    "---"
   ]
  },
  {
   "cell_type": "code",
   "execution_count": 63,
   "id": "db27ac9a",
   "metadata": {},
   "outputs": [
    {
     "name": "stdout",
     "output_type": "stream",
     "text": [
      "<class 'pandas.core.frame.DataFrame'>\n",
      "RangeIndex: 40506 entries, 0 to 40505\n",
      "Data columns (total 69 columns):\n",
      " #   Column                                                   Non-Null Count  Dtype  \n",
      "---  ------                                                   --------------  -----  \n",
      " 0   Model.Suffix                                             40506 non-null  object \n",
      " 1   Workorder                                                40506 non-null  object \n",
      " 2   DISCHARGED SPEED OF RESIN Collect Result_Dam             40506 non-null  int64  \n",
      " 3   Head Clean Position Z Collect Result_Dam                 40506 non-null  float64\n",
      " 4   Head Purge Position Z Collect Result_Dam                 40506 non-null  float64\n",
      " 5   Head Zero Position Y Collect Result_Dam                  40506 non-null  float64\n",
      " 6   Head Zero Position Z Collect Result_Dam                  40506 non-null  float64\n",
      " 7   Machine Tact time Collect Result_Dam                     40506 non-null  float64\n",
      " 8   PalletID Collect Result_Dam                              40506 non-null  int64  \n",
      " 9   Production Qty Collect Result_Dam                        40506 non-null  int64  \n",
      " 10  Receip No Collect Result_Dam                             40506 non-null  int64  \n",
      " 11  WorkMode Collect Result_Dam                              16447 non-null  float64\n",
      " 12  1st Pressure Collect Result_AutoClave                    40506 non-null  float64\n",
      " 13  2nd Pressure Collect Result_AutoClave                    40506 non-null  float64\n",
      " 14  3rd Pressure Collect Result_AutoClave                    40506 non-null  float64\n",
      " 15  Chamber Temp. Collect Result_AutoClave                   40506 non-null  int64  \n",
      " 16  Chamber Temp. Unit Time_AutoClave                        40506 non-null  int64  \n",
      " 17  DISCHARGED SPEED OF RESIN Collect Result_Fill1           40506 non-null  float64\n",
      " 18  DISCHARGED TIME OF RESIN(Stage1) Collect Result_Fill1    40506 non-null  float64\n",
      " 19  DISCHARGED TIME OF RESIN(Stage2) Collect Result_Fill1    40506 non-null  float64\n",
      " 20  DISCHARGED TIME OF RESIN(Stage3) Collect Result_Fill1    40506 non-null  float64\n",
      " 21  Dispense Volume(Stage1) Collect Result_Fill1             40506 non-null  float64\n",
      " 22  Dispense Volume(Stage2) Collect Result_Fill1             40506 non-null  float64\n",
      " 23  Dispense Volume(Stage3) Collect Result_Fill1             40506 non-null  float64\n",
      " 24  HEAD NORMAL COORDINATE X AXIS(Stage1) Judge Value_Fill1  11293 non-null  object \n",
      " 25  Head Purge Position Z Collect Result_Fill1               40506 non-null  int64  \n",
      " 26  Machine Tact time Collect Result_Fill1                   40506 non-null  float64\n",
      " 27  PalletID Collect Result_Fill1                            40506 non-null  int64  \n",
      " 28  Production Qty Collect Result_Fill1                      40506 non-null  int64  \n",
      " 29  Receip No Collect Result_Fill1                           40506 non-null  int64  \n",
      " 30  WorkMode Collect Result_Fill1                            40506 non-null  float64\n",
      " 31  CURE_STANDBY_POSITION_Fill2                              40506 non-null  int64  \n",
      " 32  Head Purge Position Z Collect Result_Fill2               40506 non-null  float64\n",
      " 33  Machine Tact time Collect Result_Fill2                   40506 non-null  float64\n",
      " 34  PalletID Collect Result_Fill2                            40506 non-null  int64  \n",
      " 35  Production Qty Collect Result_Fill2                      40506 non-null  int64  \n",
      " 36  Receip No Collect Result_Fill2                           40506 non-null  int64  \n",
      " 37  WorkMode Collect Result_Fill2                            16447 non-null  float64\n",
      " 38  target                                                   40506 non-null  object \n",
      " 39  Dispenser_1                                              40506 non-null  int64  \n",
      " 40  Dispenser_2                                              40506 non-null  int64  \n",
      " 41  Workorder_0.9                                            40506 non-null  int64  \n",
      " 42  Workorder_0.7                                            40506 non-null  int64  \n",
      " 43  Workorder_0.5                                            40506 non-null  int64  \n",
      " 44  CURE_Time_Dam                                            40506 non-null  float64\n",
      " 45  DISTANCE_STAGE1_STAGE3_Dam                               40506 non-null  float64\n",
      " 46  DISTANCE_TRIANGLE_area_Dam                               40506 non-null  float64\n",
      " 47  DISTANCE_TRIANGLE_height_Dam                             40506 non-null  float64\n",
      " 48  Stage1_Total_Distance_Speed_Collect_Result_Dam           40506 non-null  float64\n",
      " 49  Stage2_Total_Distance_Speed_Collect_Result_Dam           40506 non-null  float64\n",
      " 50  Stage3_Total_Distance_Speed_Collect_Result_Dam           40506 non-null  float64\n",
      " 51  Total_THICKNESS_Collect_Result_Dam                       40506 non-null  float64\n",
      " 52  Distance_frac_time_Dam                                   40506 non-null  float64\n",
      " 53  1st_Pressure_x_AutoClave                                 40506 non-null  float64\n",
      " 54  2nd_Pressure_x_AutoClave                                 40506 non-null  float64\n",
      " 55  3rd_Pressure_x_AutoClave                                 40506 non-null  float64\n",
      " 56  All_Pressure_x_AutoClave                                 40506 non-null  float64\n",
      " 57  All_Pressure_avg_AutoClave                               40506 non-null  float64\n",
      " 58  Chamber_Temp_x_AutoClave                                 40506 non-null  int64  \n",
      " 59  Chamber_Temp_ok_AutoClave                                40506 non-null  int64  \n",
      " 60  GMES_ORIGIN_INSP_JUDGE_CODE_ok_AutoClave                 40506 non-null  int64  \n",
      " 61  DISTANCE_TRIANGLE_area_Fill1                             40506 non-null  float64\n",
      " 62  DISTANCE_TRIANGLE_height_Fill1                           40506 non-null  float64\n",
      " 63  CURE_DISTANCE_Fill2                                      40506 non-null  float64\n",
      " 64  CURE_Time_Fill2                                          40506 non-null  float64\n",
      " 65  DISTANCE_STAGE1_STAGE2_Fill2                             40506 non-null  float64\n",
      " 66  DISTANCE_STAGE2_STAGE3_Fill2                             40506 non-null  float64\n",
      " 67  DISTANCE_STAGE1_STAGE3_Fill2                             40506 non-null  float64\n",
      " 68  HEAD_NORMAL_stage1_ok_Fill2                              40506 non-null  int64  \n",
      "dtypes: float64(42), int64(23), object(4)\n",
      "memory usage: 21.3+ MB\n",
      "---\n"
     ]
    }
   ],
   "source": [
    "train_data.info()\n",
    "print('---')\n",
    "# test_data.info()"
   ]
  },
  {
   "cell_type": "code",
   "execution_count": 64,
   "id": "9da11d5a",
   "metadata": {},
   "outputs": [
    {
     "name": "stdout",
     "output_type": "stream",
     "text": [
      "---\n",
      "<class 'pandas.core.frame.DataFrame'>\n",
      "RangeIndex: 17361 entries, 0 to 17360\n",
      "Data columns (total 70 columns):\n",
      " #   Column                                                   Non-Null Count  Dtype  \n",
      "---  ------                                                   --------------  -----  \n",
      " 0   Set ID                                                   17361 non-null  object \n",
      " 1   Model.Suffix                                             17361 non-null  object \n",
      " 2   Workorder                                                17361 non-null  object \n",
      " 3   DISCHARGED SPEED OF RESIN Collect Result_Dam             17361 non-null  int64  \n",
      " 4   Head Clean Position Z Collect Result_Dam                 17361 non-null  float64\n",
      " 5   Head Purge Position Z Collect Result_Dam                 17361 non-null  float64\n",
      " 6   Head Zero Position Y Collect Result_Dam                  17361 non-null  float64\n",
      " 7   Head Zero Position Z Collect Result_Dam                  17361 non-null  float64\n",
      " 8   Machine Tact time Collect Result_Dam                     17361 non-null  float64\n",
      " 9   PalletID Collect Result_Dam                              17361 non-null  float64\n",
      " 10  Production Qty Collect Result_Dam                        17361 non-null  float64\n",
      " 11  Receip No Collect Result_Dam                             17361 non-null  float64\n",
      " 12  WorkMode Collect Result_Dam                              7012 non-null   float64\n",
      " 13  1st Pressure Collect Result_AutoClave                    17361 non-null  float64\n",
      " 14  2nd Pressure Collect Result_AutoClave                    17361 non-null  float64\n",
      " 15  3rd Pressure Collect Result_AutoClave                    17361 non-null  float64\n",
      " 16  Chamber Temp. Collect Result_AutoClave                   17361 non-null  int64  \n",
      " 17  Chamber Temp. Unit Time_AutoClave                        17361 non-null  int64  \n",
      " 18  DISCHARGED SPEED OF RESIN Collect Result_Fill1           17361 non-null  float64\n",
      " 19  DISCHARGED TIME OF RESIN(Stage1) Collect Result_Fill1    17361 non-null  float64\n",
      " 20  DISCHARGED TIME OF RESIN(Stage2) Collect Result_Fill1    17361 non-null  float64\n",
      " 21  DISCHARGED TIME OF RESIN(Stage3) Collect Result_Fill1    17361 non-null  float64\n",
      " 22  Dispense Volume(Stage1) Collect Result_Fill1             17361 non-null  float64\n",
      " 23  Dispense Volume(Stage2) Collect Result_Fill1             17361 non-null  float64\n",
      " 24  Dispense Volume(Stage3) Collect Result_Fill1             17361 non-null  float64\n",
      " 25  HEAD NORMAL COORDINATE X AXIS(Stage1) Judge Value_Fill1  4881 non-null   object \n",
      " 26  Head Purge Position Z Collect Result_Fill1               17361 non-null  float64\n",
      " 27  Machine Tact time Collect Result_Fill1                   17361 non-null  float64\n",
      " 28  PalletID Collect Result_Fill1                            17361 non-null  float64\n",
      " 29  Production Qty Collect Result_Fill1                      17361 non-null  float64\n",
      " 30  Receip No Collect Result_Fill1                           17361 non-null  float64\n",
      " 31  WorkMode Collect Result_Fill1                            17361 non-null  float64\n",
      " 32  CURE_STANDBY_POSITION_Fill2                              17361 non-null  int64  \n",
      " 33  Head Purge Position Z Collect Result_Fill2               17361 non-null  float64\n",
      " 34  Machine Tact time Collect Result_Fill2                   17361 non-null  float64\n",
      " 35  PalletID Collect Result_Fill2                            17361 non-null  float64\n",
      " 36  Production Qty Collect Result_Fill2                      17361 non-null  float64\n",
      " 37  Receip No Collect Result_Fill2                           17361 non-null  float64\n",
      " 38  WorkMode Collect Result_Fill2                            7012 non-null   float64\n",
      " 39  target                                                   0 non-null      float64\n",
      " 40  Dispenser_1                                              17361 non-null  int64  \n",
      " 41  Dispenser_2                                              17361 non-null  int64  \n",
      " 42  Workorder_0.9                                            17361 non-null  int64  \n",
      " 43  Workorder_0.7                                            17361 non-null  int64  \n",
      " 44  Workorder_0.5                                            17361 non-null  int64  \n",
      " 45  CURE_Time_Dam                                            17361 non-null  float64\n",
      " 46  DISTANCE_STAGE1_STAGE3_Dam                               17361 non-null  float64\n",
      " 47  DISTANCE_TRIANGLE_area_Dam                               17361 non-null  float64\n",
      " 48  DISTANCE_TRIANGLE_height_Dam                             17361 non-null  float64\n",
      " 49  Stage1_Total_Distance_Speed_Collect_Result_Dam           17361 non-null  float64\n",
      " 50  Stage2_Total_Distance_Speed_Collect_Result_Dam           17361 non-null  float64\n",
      " 51  Stage3_Total_Distance_Speed_Collect_Result_Dam           17361 non-null  float64\n",
      " 52  Total_THICKNESS_Collect_Result_Dam                       17361 non-null  float64\n",
      " 53  Distance_frac_time_Dam                                   17361 non-null  float64\n",
      " 54  1st_Pressure_x_AutoClave                                 17361 non-null  float64\n",
      " 55  2nd_Pressure_x_AutoClave                                 17361 non-null  float64\n",
      " 56  3rd_Pressure_x_AutoClave                                 17361 non-null  float64\n",
      " 57  All_Pressure_x_AutoClave                                 17361 non-null  float64\n",
      " 58  All_Pressure_avg_AutoClave                               17361 non-null  float64\n",
      " 59  Chamber_Temp_x_AutoClave                                 17361 non-null  int64  \n",
      " 60  Chamber_Temp_ok_AutoClave                                17361 non-null  int64  \n",
      " 61  GMES_ORIGIN_INSP_JUDGE_CODE_ok_AutoClave                 17361 non-null  int64  \n",
      " 62  DISTANCE_TRIANGLE_area_Fill1                             17361 non-null  float64\n",
      " 63  DISTANCE_TRIANGLE_height_Fill1                           17361 non-null  float64\n",
      " 64  CURE_DISTANCE_Fill2                                      17361 non-null  float64\n",
      " 65  CURE_Time_Fill2                                          17361 non-null  float64\n",
      " 66  DISTANCE_STAGE1_STAGE2_Fill2                             17361 non-null  float64\n",
      " 67  DISTANCE_STAGE2_STAGE3_Fill2                             17361 non-null  float64\n",
      " 68  DISTANCE_STAGE1_STAGE3_Fill2                             17361 non-null  float64\n",
      " 69  HEAD_NORMAL_stage1_ok_Fill2                              17361 non-null  int64  \n",
      "dtypes: float64(53), int64(13), object(4)\n",
      "memory usage: 9.3+ MB\n"
     ]
    }
   ],
   "source": [
    "# train_data.info()\n",
    "print('---')\n",
    "test_data.info()"
   ]
  },
  {
   "cell_type": "markdown",
   "id": "5b2b91e5",
   "metadata": {},
   "source": [
    "---"
   ]
  },
  {
   "cell_type": "markdown",
   "id": "83f1412a",
   "metadata": {},
   "source": [
    "## Modeling"
   ]
  },
  {
   "cell_type": "code",
   "execution_count": 65,
   "id": "cf740cfe",
   "metadata": {},
   "outputs": [
    {
     "name": "stdout",
     "output_type": "stream",
     "text": [
      "WorkMode Collect Result_Dam                                24059\n",
      "HEAD NORMAL COORDINATE X AXIS(Stage1) Judge Value_Fill1    29213\n",
      "WorkMode Collect Result_Fill2                              24059\n",
      "dtype: int64\n"
     ]
    }
   ],
   "source": [
    "# 각 변수별로 결측값이 존재하는지 확인하는 코드\n",
    "missing_values = train_data.isnull().sum()\n",
    "\n",
    "# 결측값이 존재하는 변수와 그 개수 출력\n",
    "missing_values = missing_values[missing_values > 0]\n",
    "print(missing_values)\n",
    "\n",
    "# 결측값이 존재하는 변수명을 리스트에 담기\n",
    "missing_columns = missing_values.index.tolist()\n",
    "# print(\"결측값이 존재하는 변수명:\", missing_columns)"
   ]
  },
  {
   "cell_type": "code",
   "execution_count": 66,
   "id": "a84e3f3e",
   "metadata": {},
   "outputs": [
    {
     "name": "stdout",
     "output_type": "stream",
     "text": [
      "Column: WorkMode Collect Result_Dam\n",
      "WorkMode Collect Result_Dam\n",
      "7.0    16447\n",
      "Name: count, dtype: int64\n",
      "\n",
      "\n",
      "Column: HEAD NORMAL COORDINATE X AXIS(Stage1) Judge Value_Fill1\n",
      "HEAD NORMAL COORDINATE X AXIS(Stage1) Judge Value_Fill1\n",
      "OK    11293\n",
      "Name: count, dtype: int64\n",
      "\n",
      "\n",
      "Column: WorkMode Collect Result_Fill2\n",
      "WorkMode Collect Result_Fill2\n",
      "0.0    16447\n",
      "Name: count, dtype: int64\n",
      "\n",
      "\n"
     ]
    }
   ],
   "source": [
    "# 결측값이 존재하는 변수들의 value_counts 계산\n",
    "for column in missing_columns:\n",
    "    print(f\"Column: {column}\")\n",
    "    print(train_data[column].value_counts())\n",
    "    print(\"\\n\")"
   ]
  },
  {
   "cell_type": "code",
   "execution_count": 67,
   "id": "640d3090",
   "metadata": {},
   "outputs": [
    {
     "name": "stdout",
     "output_type": "stream",
     "text": [
      "드롭할 변수명:\n",
      "['HEAD NORMAL COORDINATE X AXIS(Stage1) Judge Value_Fill1']\n"
     ]
    }
   ],
   "source": [
    "# \"OK\" 값을 가진 변수를 찾고 제거\n",
    "columns_to_drop = [column for column in missing_columns if train_data[column].apply(lambda x: np.any(x == \"OK\")).any()]\n",
    "\n",
    "# 드롭할 변수명 출력 (한 줄에 2개씩)\n",
    "print(\"드롭할 변수명:\")\n",
    "for i in range(0, len(columns_to_drop), 2):\n",
    "    print(columns_to_drop[i:i+2])\n",
    "\n",
    "# 변수 드롭\n",
    "train_data = train_data.drop(columns=columns_to_drop)\n",
    "test_data = test_data.drop(columns=columns_to_drop)"
   ]
  },
  {
   "cell_type": "code",
   "execution_count": 68,
   "id": "9fa36a39",
   "metadata": {},
   "outputs": [
    {
     "name": "stdout",
     "output_type": "stream",
     "text": [
      "WorkMode Collect Result_Dam      24059\n",
      "WorkMode Collect Result_Fill2    24059\n",
      "dtype: int64\n"
     ]
    }
   ],
   "source": [
    "# 각 변수별로 결측값이 존재하는지 확인하는 코드\n",
    "missing_values = train_data.isnull().sum()\n",
    "\n",
    "# 결측값이 존재하는 변수와 그 개수 출력\n",
    "missing_values = missing_values[missing_values > 0]\n",
    "print(missing_values)\n",
    "\n",
    "# 결측값이 존재하는 변수명을 리스트에 담기\n",
    "missing_columns = missing_values.index.tolist()\n",
    "# print(\"결측값이 존재하는 변수명:\", missing_columns)"
   ]
  },
  {
   "cell_type": "code",
   "execution_count": 69,
   "id": "5d4d04c1",
   "metadata": {},
   "outputs": [
    {
     "name": "stdout",
     "output_type": "stream",
     "text": [
      "target                                                     AbNormal    Normal\n",
      "WorkMode Collect Result_Dam WorkMode Collect Result_Fill2                    \n",
      "7.0                         0.0                            0.073326  0.926674\n"
     ]
    }
   ],
   "source": [
    "# 그룹화할 변수들\n",
    "groupby_columns = [\n",
    "    \"WorkMode Collect Result_Dam\"\n",
    "    , \"WorkMode Collect Result_Fill2\"\n",
    "    ]\n",
    "\n",
    "# 그룹화하여 target 변수 값의 비율을 계산\n",
    "grouped = train_data.groupby(groupby_columns)[\"target\"].value_counts(normalize=True).unstack().fillna(0)\n",
    "\n",
    "# 결과 출력\n",
    "print(grouped)"
   ]
  },
  {
   "cell_type": "code",
   "execution_count": 70,
   "id": "b4cab4d4",
   "metadata": {},
   "outputs": [],
   "source": [
    "# WorkMode Collect Result_Dam의 이름을 WorkMode Collect Result로 변경\n",
    "train_data = train_data.rename(columns={'WorkMode Collect Result_Dam': 'WorkMode Collect Result'})\n",
    "test_data = test_data.rename(columns={'WorkMode Collect Result_Dam': 'WorkMode Collect Result'})\n",
    "\n",
    "# WorkMode Collect Result_Fill1, WorkMode Collect Result_Fill2 열 드롭\n",
    "train_data = train_data.drop(columns=['WorkMode Collect Result_Fill1', 'WorkMode Collect Result_Fill2'])\n",
    "test_data = test_data.drop(columns=['WorkMode Collect Result_Fill1', 'WorkMode Collect Result_Fill2'])"
   ]
  },
  {
   "cell_type": "code",
   "execution_count": 71,
   "id": "349653f1",
   "metadata": {},
   "outputs": [],
   "source": [
    "# WorkMode Collect Result 열의 값이 7인 행을 1로 변경\n",
    "train_data['WorkMode Collect Result'] = train_data['WorkMode Collect Result'].replace(7, 1)\n",
    "test_data['WorkMode Collect Result'] = test_data['WorkMode Collect Result'].replace(7, 1)\n",
    "\n",
    "# WorkMode Collect Result 열의 결측값을 0으로 채움\n",
    "train_data['WorkMode Collect Result'] = train_data['WorkMode Collect Result'].fillna(0)\n",
    "test_data['WorkMode Collect Result'] = test_data['WorkMode Collect Result'].fillna(0)"
   ]
  },
  {
   "cell_type": "code",
   "execution_count": 72,
   "id": "d1e3724b",
   "metadata": {},
   "outputs": [
    {
     "data": {
      "text/plain": [
       "WorkMode Collect Result\n",
       "0.0    10349\n",
       "1.0     7012\n",
       "Name: count, dtype: int64"
      ]
     },
     "execution_count": 72,
     "metadata": {},
     "output_type": "execute_result"
    }
   ],
   "source": [
    "test_data['WorkMode Collect Result'].value_counts()"
   ]
  },
  {
   "cell_type": "code",
   "execution_count": 73,
   "id": "90fbb6eb",
   "metadata": {},
   "outputs": [
    {
     "name": "stdout",
     "output_type": "stream",
     "text": [
      "Series([], dtype: int64)\n",
      "결측값이 존재하는 변수명: []\n"
     ]
    }
   ],
   "source": [
    "# 각 변수별로 결측값이 존재하는지 확인하는 코드\n",
    "missing_values = train_data.isnull().sum()\n",
    "\n",
    "# 결측값이 존재하는 변수와 그 개수 출력\n",
    "missing_values = missing_values[missing_values > 0]\n",
    "print(missing_values)\n",
    "\n",
    "# 결측값이 존재하는 변수명을 리스트에 담기\n",
    "missing_columns = missing_values.index.tolist()\n",
    "print(\"결측값이 존재하는 변수명:\", missing_columns)"
   ]
  },
  {
   "cell_type": "code",
   "execution_count": 74,
   "id": "85b9d49c",
   "metadata": {},
   "outputs": [
    {
     "name": "stdout",
     "output_type": "stream",
     "text": [
      "target    17361\n",
      "dtype: int64\n",
      "결측값이 존재하는 변수명: ['target']\n"
     ]
    }
   ],
   "source": [
    "# 각 변수별로 결측값이 존재하는지 확인하는 코드\n",
    "missing_values = test_data.isnull().sum()\n",
    "\n",
    "# 결측값이 존재하는 변수와 그 개수 출력\n",
    "missing_values = missing_values[missing_values > 0]\n",
    "print(missing_values)\n",
    "\n",
    "# 결측값이 존재하는 변수명을 리스트에 담기\n",
    "missing_columns = missing_values.index.tolist()\n",
    "print(\"결측값이 존재하는 변수명:\", missing_columns)"
   ]
  },
  {
   "cell_type": "markdown",
   "id": "50ac234b",
   "metadata": {},
   "source": [
    "### 문자형(object) 변수 -> 수치형 변환\n"
   ]
  },
  {
   "cell_type": "code",
   "execution_count": 75,
   "id": "b1f0fd27",
   "metadata": {},
   "outputs": [
    {
     "data": {
      "text/plain": [
       "target\n",
       "Normal      38156\n",
       "AbNormal     2350\n",
       "Name: count, dtype: int64"
      ]
     },
     "execution_count": 75,
     "metadata": {},
     "output_type": "execute_result"
    }
   ],
   "source": [
    "train_data['target'].value_counts()"
   ]
  },
  {
   "cell_type": "code",
   "execution_count": 76,
   "id": "a0e6e333",
   "metadata": {},
   "outputs": [
    {
     "name": "stdout",
     "output_type": "stream",
     "text": [
      "Receip No Collect Result_Dam  Receip No Collect Result_Fill1  Receip No Collect Result_Fill2  Receip_No_Collect_Result\n",
      "1                             1                               1                               1                           39276\n",
      "6                             6                               6                               6                             980\n",
      "9                             9                               9                               9                              96\n",
      "17                            17                              17                              17                             86\n",
      "3                             3                               3                               3                              64\n",
      "1                             6                               6                               0                               3\n",
      "                              4                               1                               0                               1\n",
      "Name: count, dtype: int64\n"
     ]
    }
   ],
   "source": [
    "# 세 변수의 값이 동일하면 해당 값을 가져가고, 하나라도 일치하지 않으면 0의 값을 가지는 파생 변수 생성\n",
    "train_data['Receip_No_Collect_Result'] = train_data.apply(\n",
    "    lambda row: row['Receip No Collect Result_Dam'] \n",
    "                if (row['Receip No Collect Result_Dam'] == row['Receip No Collect Result_Fill1'] == row['Receip No Collect Result_Fill2']) \n",
    "                else 0, \n",
    "    axis=1\n",
    ")\n",
    "\n",
    "test_data['Receip_No_Collect_Result'] = test_data.apply(\n",
    "    lambda row: row['Receip No Collect Result_Dam'] \n",
    "                if (row['Receip No Collect Result_Dam'] == row['Receip No Collect Result_Fill1'] == row['Receip No Collect Result_Fill2']) \n",
    "                else 0, \n",
    "    axis=1\n",
    ")\n",
    "\n",
    "# 결과 확인\n",
    "print(train_data[[\n",
    "    'Receip No Collect Result_Dam'\n",
    "    , 'Receip No Collect Result_Fill1'\n",
    "    , 'Receip No Collect Result_Fill2'\n",
    "    , 'Receip_No_Collect_Result']].value_counts())"
   ]
  },
  {
   "cell_type": "code",
   "execution_count": 77,
   "id": "b55bb85a",
   "metadata": {},
   "outputs": [
    {
     "name": "stdout",
     "output_type": "stream",
     "text": [
      "Dispenser_1  Dispenser_2\n",
      "1            0              10731\n",
      "0            1               6618\n",
      "             0                 12\n",
      "Name: count, dtype: int64\n"
     ]
    }
   ],
   "source": [
    "# 결과 확인\n",
    "print(test_data[[\n",
    "    'Dispenser_1'\n",
    "    , 'Dispenser_2']].value_counts())"
   ]
  },
  {
   "cell_type": "code",
   "execution_count": 78,
   "id": "97fe2efc",
   "metadata": {},
   "outputs": [
    {
     "name": "stdout",
     "output_type": "stream",
     "text": [
      "Receip No Collect Result_Dam  Receip No Collect Result_Fill1  Receip No Collect Result_Fill2  Receip_No_Collect_Result\n",
      "1.0                           1.0                             1.0                             1.0                         16829\n",
      "6.0                           6.0                             6.0                             6.0                           438\n",
      "9.0                           9.0                             9.0                             9.0                            34\n",
      "3.0                           3.0                             3.0                             3.0                            31\n",
      "17.0                          17.0                            17.0                            17.0                           29\n",
      "Name: count, dtype: int64\n"
     ]
    }
   ],
   "source": [
    "# 결과 확인\n",
    "print(test_data[[\n",
    "    'Receip No Collect Result_Dam'\n",
    "    , 'Receip No Collect Result_Fill1'\n",
    "    , 'Receip No Collect Result_Fill2'\n",
    "    , 'Receip_No_Collect_Result']].value_counts())"
   ]
  },
  {
   "cell_type": "code",
   "execution_count": 79,
   "id": "8e7b6a9f",
   "metadata": {},
   "outputs": [],
   "source": [
    "# 변수 제거\n",
    "train_data.drop(columns=[\n",
    "    'Receip No Collect Result_Dam'\n",
    "    , 'Receip No Collect Result_Fill1'\n",
    "    , 'Receip No Collect Result_Fill2'], inplace=True)\n",
    "\n",
    "test_data.drop(columns=[\n",
    "    'Receip No Collect Result_Dam'\n",
    "    , 'Receip No Collect Result_Fill1'\n",
    "    , 'Receip No Collect Result_Fill2'], inplace=True)"
   ]
  },
  {
   "cell_type": "code",
   "execution_count": 80,
   "id": "dca73c9a",
   "metadata": {},
   "outputs": [
    {
     "data": {
      "text/plain": [
       "Receip_No_Collect_Result\n",
       "1     39276\n",
       "6       980\n",
       "9        96\n",
       "17       86\n",
       "3        64\n",
       "0         4\n",
       "Name: count, dtype: int64"
      ]
     },
     "execution_count": 80,
     "metadata": {},
     "output_type": "execute_result"
    }
   ],
   "source": [
    "train_data['Receip_No_Collect_Result'].value_counts()"
   ]
  },
  {
   "cell_type": "code",
   "execution_count": 81,
   "id": "0e3f28e2",
   "metadata": {},
   "outputs": [
    {
     "name": "stdout",
     "output_type": "stream",
     "text": [
      "PalletID Collect Result_Dam  PalletID Collect Result_Fill1  PalletID Collect Result_Fill2\n",
      "4                            4                              4                                3174\n",
      "3                            3                              3                                3166\n",
      "1                            1                              1                                3146\n",
      "2                            2                              2                                3126\n",
      "6                            6                              6                                3114\n",
      "                                                                                             ... \n",
      "                             12                             12                                  1\n",
      "                             9                              9                                   1\n",
      "                             6                              8                                   1\n",
      "2                            2                              6                                   1\n",
      "8                            8                              12                                  1\n",
      "Name: count, Length: 92, dtype: int64\n"
     ]
    }
   ],
   "source": [
    "# 세 변수의 값이 동일하면 해당 값을 가져가고, 하나라도 일치하지 않으면 0의 값을 가지는 파생 변수 생성\n",
    "train_data['PalletID_Collect_Result'] = train_data.apply(\n",
    "    lambda row: row['PalletID Collect Result_Dam'] \n",
    "                if (row['PalletID Collect Result_Dam'] == row['PalletID Collect Result_Fill1'] == row['PalletID Collect Result_Fill2']) \n",
    "                else 0, \n",
    "    axis=1\n",
    ")\n",
    "\n",
    "test_data['PalletID_Collect_Result'] = test_data.apply(\n",
    "    lambda row: row['PalletID Collect Result_Dam'] \n",
    "                if (row['PalletID Collect Result_Dam'] == row['PalletID Collect Result_Fill1'] == row['PalletID Collect Result_Fill2']) \n",
    "                else 0, \n",
    "    axis=1\n",
    ")\n",
    "\n",
    "# 결과 확인\n",
    "print(train_data[[\n",
    "    'PalletID Collect Result_Dam'\n",
    "    , 'PalletID Collect Result_Fill1'\n",
    "    , 'PalletID Collect Result_Fill2']].value_counts())"
   ]
  },
  {
   "cell_type": "code",
   "execution_count": 82,
   "id": "897a8efa",
   "metadata": {},
   "outputs": [],
   "source": [
    "# 변수 제거\n",
    "train_data.drop(columns=[\n",
    "    'PalletID Collect Result_Dam'\n",
    "    , 'PalletID Collect Result_Fill1'\n",
    "    , 'PalletID Collect Result_Fill2'], inplace=True)\n",
    "\n",
    "test_data.drop(columns=[\n",
    "    'PalletID Collect Result_Dam'\n",
    "    , 'PalletID Collect Result_Fill1'\n",
    "    , 'PalletID Collect Result_Fill2'], inplace=True)"
   ]
  },
  {
   "cell_type": "code",
   "execution_count": 83,
   "id": "948ce32a",
   "metadata": {},
   "outputs": [],
   "source": [
    "# 세 변수의 값이 동일하면 해당 값을 가져가고, 하나라도 일치하지 않으면 0의 값을 가지는 파생 변수 생성\n",
    "train_data['Production_Qty_Collect_Result'] = train_data.apply(\n",
    "    lambda row: row['Production Qty Collect Result_Dam'] \n",
    "                if (row['Production Qty Collect Result_Dam'] == row['Production Qty Collect Result_Fill1'] == row['Production Qty Collect Result_Fill2']) \n",
    "                else 0, \n",
    "    axis=1\n",
    ")\n",
    "\n",
    "test_data['Production_Qty_Collect_Result'] = test_data.apply(\n",
    "    lambda row: row['Production Qty Collect Result_Dam'] \n",
    "                if (row['Production Qty Collect Result_Dam'] == row['Production Qty Collect Result_Fill1'] == row['Production Qty Collect Result_Fill2']) \n",
    "                else 0, \n",
    "    axis=1\n",
    ")"
   ]
  },
  {
   "cell_type": "code",
   "execution_count": 84,
   "id": "ad990109",
   "metadata": {},
   "outputs": [],
   "source": [
    "# 변수 제거\n",
    "train_data.drop(columns=[\n",
    "    'Production Qty Collect Result_Dam'\n",
    "    , 'Production Qty Collect Result_Fill1'\n",
    "    , 'Production Qty Collect Result_Fill2'], inplace=True)\n",
    "\n",
    "test_data.drop(columns=[\n",
    "    'Production Qty Collect Result_Dam'\n",
    "    , 'Production Qty Collect Result_Fill1'\n",
    "    , 'Production Qty Collect Result_Fill2'], inplace=True)"
   ]
  },
  {
   "cell_type": "code",
   "execution_count": 85,
   "id": "b0505b88",
   "metadata": {},
   "outputs": [
    {
     "name": "stdout",
     "output_type": "stream",
     "text": [
      "float64\n"
     ]
    }
   ],
   "source": [
    "print(test_data['target'].dtype)"
   ]
  },
  {
   "cell_type": "code",
   "execution_count": 86,
   "id": "e9540e3a",
   "metadata": {},
   "outputs": [],
   "source": [
    "import pandas as pd\n",
    "\n",
    "def calculate_total_time_and_ratios(data):\n",
    "    data['total_time'] = (\n",
    "        data['Machine Tact time Collect Result_Dam'] +\n",
    "        data['Machine Tact time Collect Result_Fill1'] +\n",
    "        data['Machine Tact time Collect Result_Fill2'] +\n",
    "        data['Chamber Temp. Unit Time_AutoClave']\n",
    "    )\n",
    "    data['time_ratio_Dam'] = (data['Machine Tact time Collect Result_Dam'] / data['total_time']).round(3)\n",
    "    data['time_ratio_Fill1'] = (data['Machine Tact time Collect Result_Fill1'] / data['total_time']).round(3)\n",
    "    data['time_ratio_Fill2'] = (data['Machine Tact time Collect Result_Fill2'] / data['total_time']).round(3)\n",
    "    data['time_ratio_AutoClave'] = (data['Chamber Temp. Unit Time_AutoClave'] / data['total_time']).round(3)\n",
    "    return data\n",
    "\n",
    "# train_data와 test_data에 함수 적용\n",
    "train_data = calculate_total_time_and_ratios(train_data)\n",
    "test_data = calculate_total_time_and_ratios(test_data)"
   ]
  },
  {
   "cell_type": "code",
   "execution_count": 87,
   "id": "ec6d8088",
   "metadata": {},
   "outputs": [],
   "source": [
    "# 변수 제거\n",
    "train_data.drop(columns=[\n",
    "    'total_time'\n",
    "    , 'Machine Tact time Collect Result_Dam'\n",
    "    , 'Machine Tact time Collect Result_Fill1'\n",
    "    , 'Machine Tact time Collect Result_Fill2'\n",
    "    , 'Chamber Temp. Unit Time_AutoClave'], inplace=True)\n",
    "\n",
    "test_data.drop(columns=[\n",
    "    'total_time'\n",
    "    , 'Machine Tact time Collect Result_Dam'\n",
    "    , 'Machine Tact time Collect Result_Fill1'\n",
    "    , 'Machine Tact time Collect Result_Fill2'\n",
    "    , 'Chamber Temp. Unit Time_AutoClave'], inplace=True)"
   ]
  },
  {
   "cell_type": "code",
   "execution_count": 88,
   "id": "237bf662",
   "metadata": {},
   "outputs": [
    {
     "name": "stdout",
     "output_type": "stream",
     "text": [
      "<class 'pandas.core.frame.DataFrame'>\n",
      "RangeIndex: 40506 entries, 0 to 40505\n",
      "Data columns (total 60 columns):\n",
      " #   Column                                                 Non-Null Count  Dtype  \n",
      "---  ------                                                 --------------  -----  \n",
      " 0   Model.Suffix                                           40506 non-null  object \n",
      " 1   Workorder                                              40506 non-null  object \n",
      " 2   DISCHARGED SPEED OF RESIN Collect Result_Dam           40506 non-null  int64  \n",
      " 3   Head Clean Position Z Collect Result_Dam               40506 non-null  float64\n",
      " 4   Head Purge Position Z Collect Result_Dam               40506 non-null  float64\n",
      " 5   Head Zero Position Y Collect Result_Dam                40506 non-null  float64\n",
      " 6   Head Zero Position Z Collect Result_Dam                40506 non-null  float64\n",
      " 7   WorkMode Collect Result                                40506 non-null  float64\n",
      " 8   1st Pressure Collect Result_AutoClave                  40506 non-null  float64\n",
      " 9   2nd Pressure Collect Result_AutoClave                  40506 non-null  float64\n",
      " 10  3rd Pressure Collect Result_AutoClave                  40506 non-null  float64\n",
      " 11  Chamber Temp. Collect Result_AutoClave                 40506 non-null  int64  \n",
      " 12  DISCHARGED SPEED OF RESIN Collect Result_Fill1         40506 non-null  float64\n",
      " 13  DISCHARGED TIME OF RESIN(Stage1) Collect Result_Fill1  40506 non-null  float64\n",
      " 14  DISCHARGED TIME OF RESIN(Stage2) Collect Result_Fill1  40506 non-null  float64\n",
      " 15  DISCHARGED TIME OF RESIN(Stage3) Collect Result_Fill1  40506 non-null  float64\n",
      " 16  Dispense Volume(Stage1) Collect Result_Fill1           40506 non-null  float64\n",
      " 17  Dispense Volume(Stage2) Collect Result_Fill1           40506 non-null  float64\n",
      " 18  Dispense Volume(Stage3) Collect Result_Fill1           40506 non-null  float64\n",
      " 19  Head Purge Position Z Collect Result_Fill1             40506 non-null  int64  \n",
      " 20  CURE_STANDBY_POSITION_Fill2                            40506 non-null  int64  \n",
      " 21  Head Purge Position Z Collect Result_Fill2             40506 non-null  float64\n",
      " 22  target                                                 40506 non-null  object \n",
      " 23  Dispenser_1                                            40506 non-null  int64  \n",
      " 24  Dispenser_2                                            40506 non-null  int64  \n",
      " 25  Workorder_0.9                                          40506 non-null  int64  \n",
      " 26  Workorder_0.7                                          40506 non-null  int64  \n",
      " 27  Workorder_0.5                                          40506 non-null  int64  \n",
      " 28  CURE_Time_Dam                                          40506 non-null  float64\n",
      " 29  DISTANCE_STAGE1_STAGE3_Dam                             40506 non-null  float64\n",
      " 30  DISTANCE_TRIANGLE_area_Dam                             40506 non-null  float64\n",
      " 31  DISTANCE_TRIANGLE_height_Dam                           40506 non-null  float64\n",
      " 32  Stage1_Total_Distance_Speed_Collect_Result_Dam         40506 non-null  float64\n",
      " 33  Stage2_Total_Distance_Speed_Collect_Result_Dam         40506 non-null  float64\n",
      " 34  Stage3_Total_Distance_Speed_Collect_Result_Dam         40506 non-null  float64\n",
      " 35  Total_THICKNESS_Collect_Result_Dam                     40506 non-null  float64\n",
      " 36  Distance_frac_time_Dam                                 40506 non-null  float64\n",
      " 37  1st_Pressure_x_AutoClave                               40506 non-null  float64\n",
      " 38  2nd_Pressure_x_AutoClave                               40506 non-null  float64\n",
      " 39  3rd_Pressure_x_AutoClave                               40506 non-null  float64\n",
      " 40  All_Pressure_x_AutoClave                               40506 non-null  float64\n",
      " 41  All_Pressure_avg_AutoClave                             40506 non-null  float64\n",
      " 42  Chamber_Temp_x_AutoClave                               40506 non-null  int64  \n",
      " 43  Chamber_Temp_ok_AutoClave                              40506 non-null  int64  \n",
      " 44  GMES_ORIGIN_INSP_JUDGE_CODE_ok_AutoClave               40506 non-null  int64  \n",
      " 45  DISTANCE_TRIANGLE_area_Fill1                           40506 non-null  float64\n",
      " 46  DISTANCE_TRIANGLE_height_Fill1                         40506 non-null  float64\n",
      " 47  CURE_DISTANCE_Fill2                                    40506 non-null  float64\n",
      " 48  CURE_Time_Fill2                                        40506 non-null  float64\n",
      " 49  DISTANCE_STAGE1_STAGE2_Fill2                           40506 non-null  float64\n",
      " 50  DISTANCE_STAGE2_STAGE3_Fill2                           40506 non-null  float64\n",
      " 51  DISTANCE_STAGE1_STAGE3_Fill2                           40506 non-null  float64\n",
      " 52  HEAD_NORMAL_stage1_ok_Fill2                            40506 non-null  int64  \n",
      " 53  Receip_No_Collect_Result                               40506 non-null  int64  \n",
      " 54  PalletID_Collect_Result                                40506 non-null  int64  \n",
      " 55  Production_Qty_Collect_Result                          40506 non-null  int64  \n",
      " 56  time_ratio_Dam                                         40506 non-null  float64\n",
      " 57  time_ratio_Fill1                                       40506 non-null  float64\n",
      " 58  time_ratio_Fill2                                       40506 non-null  float64\n",
      " 59  time_ratio_AutoClave                                   40506 non-null  float64\n",
      "dtypes: float64(41), int64(16), object(3)\n",
      "memory usage: 18.5+ MB\n"
     ]
    }
   ],
   "source": [
    "train_data.info()"
   ]
  },
  {
   "cell_type": "code",
   "execution_count": 89,
   "id": "6a6102e0",
   "metadata": {},
   "outputs": [
    {
     "data": {
      "text/plain": [
       "Chamber_Temp_ok_AutoClave\n",
       "1    29112\n",
       "0    11394\n",
       "Name: count, dtype: int64"
      ]
     },
     "execution_count": 89,
     "metadata": {},
     "output_type": "execute_result"
    }
   ],
   "source": [
    "train_data['Chamber_Temp_ok_AutoClave'].value_counts()"
   ]
  },
  {
   "cell_type": "code",
   "execution_count": 90,
   "id": "b3f11ad7",
   "metadata": {},
   "outputs": [
    {
     "data": {
      "text/plain": [
       "HEAD_NORMAL_stage1_ok_Fill2\n",
       "0    29213\n",
       "1    11293\n",
       "Name: count, dtype: int64"
      ]
     },
     "execution_count": 90,
     "metadata": {},
     "output_type": "execute_result"
    }
   ],
   "source": [
    "train_data['HEAD_NORMAL_stage1_ok_Fill2'].value_counts()"
   ]
  },
  {
   "cell_type": "code",
   "execution_count": 91,
   "id": "de1123c2",
   "metadata": {},
   "outputs": [],
   "source": [
    "# 변수 제거\n",
    "train_data.drop(columns=[\n",
    "    'Chamber_Temp_ok_AutoClave'\n",
    "    , 'HEAD_NORMAL_stage1_ok_Fill2'], inplace=True)\n",
    "\n",
    "test_data.drop(columns=[\n",
    "    'Chamber_Temp_ok_AutoClave'\n",
    "    , 'HEAD_NORMAL_stage1_ok_Fill2'], inplace=True)"
   ]
  },
  {
   "cell_type": "code",
   "execution_count": 92,
   "id": "8cd5db8e",
   "metadata": {},
   "outputs": [
    {
     "name": "stdout",
     "output_type": "stream",
     "text": [
      "<class 'pandas.core.frame.DataFrame'>\n",
      "RangeIndex: 40506 entries, 0 to 40505\n",
      "Data columns (total 58 columns):\n",
      " #   Column                                                 Non-Null Count  Dtype  \n",
      "---  ------                                                 --------------  -----  \n",
      " 0   Model.Suffix                                           40506 non-null  object \n",
      " 1   Workorder                                              40506 non-null  object \n",
      " 2   DISCHARGED SPEED OF RESIN Collect Result_Dam           40506 non-null  int64  \n",
      " 3   Head Clean Position Z Collect Result_Dam               40506 non-null  float64\n",
      " 4   Head Purge Position Z Collect Result_Dam               40506 non-null  float64\n",
      " 5   Head Zero Position Y Collect Result_Dam                40506 non-null  float64\n",
      " 6   Head Zero Position Z Collect Result_Dam                40506 non-null  float64\n",
      " 7   WorkMode Collect Result                                40506 non-null  float64\n",
      " 8   1st Pressure Collect Result_AutoClave                  40506 non-null  float64\n",
      " 9   2nd Pressure Collect Result_AutoClave                  40506 non-null  float64\n",
      " 10  3rd Pressure Collect Result_AutoClave                  40506 non-null  float64\n",
      " 11  Chamber Temp. Collect Result_AutoClave                 40506 non-null  int64  \n",
      " 12  DISCHARGED SPEED OF RESIN Collect Result_Fill1         40506 non-null  float64\n",
      " 13  DISCHARGED TIME OF RESIN(Stage1) Collect Result_Fill1  40506 non-null  float64\n",
      " 14  DISCHARGED TIME OF RESIN(Stage2) Collect Result_Fill1  40506 non-null  float64\n",
      " 15  DISCHARGED TIME OF RESIN(Stage3) Collect Result_Fill1  40506 non-null  float64\n",
      " 16  Dispense Volume(Stage1) Collect Result_Fill1           40506 non-null  float64\n",
      " 17  Dispense Volume(Stage2) Collect Result_Fill1           40506 non-null  float64\n",
      " 18  Dispense Volume(Stage3) Collect Result_Fill1           40506 non-null  float64\n",
      " 19  Head Purge Position Z Collect Result_Fill1             40506 non-null  int64  \n",
      " 20  CURE_STANDBY_POSITION_Fill2                            40506 non-null  int64  \n",
      " 21  Head Purge Position Z Collect Result_Fill2             40506 non-null  float64\n",
      " 22  target                                                 40506 non-null  object \n",
      " 23  Dispenser_1                                            40506 non-null  int64  \n",
      " 24  Dispenser_2                                            40506 non-null  int64  \n",
      " 25  Workorder_0.9                                          40506 non-null  int64  \n",
      " 26  Workorder_0.7                                          40506 non-null  int64  \n",
      " 27  Workorder_0.5                                          40506 non-null  int64  \n",
      " 28  CURE_Time_Dam                                          40506 non-null  float64\n",
      " 29  DISTANCE_STAGE1_STAGE3_Dam                             40506 non-null  float64\n",
      " 30  DISTANCE_TRIANGLE_area_Dam                             40506 non-null  float64\n",
      " 31  DISTANCE_TRIANGLE_height_Dam                           40506 non-null  float64\n",
      " 32  Stage1_Total_Distance_Speed_Collect_Result_Dam         40506 non-null  float64\n",
      " 33  Stage2_Total_Distance_Speed_Collect_Result_Dam         40506 non-null  float64\n",
      " 34  Stage3_Total_Distance_Speed_Collect_Result_Dam         40506 non-null  float64\n",
      " 35  Total_THICKNESS_Collect_Result_Dam                     40506 non-null  float64\n",
      " 36  Distance_frac_time_Dam                                 40506 non-null  float64\n",
      " 37  1st_Pressure_x_AutoClave                               40506 non-null  float64\n",
      " 38  2nd_Pressure_x_AutoClave                               40506 non-null  float64\n",
      " 39  3rd_Pressure_x_AutoClave                               40506 non-null  float64\n",
      " 40  All_Pressure_x_AutoClave                               40506 non-null  float64\n",
      " 41  All_Pressure_avg_AutoClave                             40506 non-null  float64\n",
      " 42  Chamber_Temp_x_AutoClave                               40506 non-null  int64  \n",
      " 43  GMES_ORIGIN_INSP_JUDGE_CODE_ok_AutoClave               40506 non-null  int64  \n",
      " 44  DISTANCE_TRIANGLE_area_Fill1                           40506 non-null  float64\n",
      " 45  DISTANCE_TRIANGLE_height_Fill1                         40506 non-null  float64\n",
      " 46  CURE_DISTANCE_Fill2                                    40506 non-null  float64\n",
      " 47  CURE_Time_Fill2                                        40506 non-null  float64\n",
      " 48  DISTANCE_STAGE1_STAGE2_Fill2                           40506 non-null  float64\n",
      " 49  DISTANCE_STAGE2_STAGE3_Fill2                           40506 non-null  float64\n",
      " 50  DISTANCE_STAGE1_STAGE3_Fill2                           40506 non-null  float64\n",
      " 51  Receip_No_Collect_Result                               40506 non-null  int64  \n",
      " 52  PalletID_Collect_Result                                40506 non-null  int64  \n",
      " 53  Production_Qty_Collect_Result                          40506 non-null  int64  \n",
      " 54  time_ratio_Dam                                         40506 non-null  float64\n",
      " 55  time_ratio_Fill1                                       40506 non-null  float64\n",
      " 56  time_ratio_Fill2                                       40506 non-null  float64\n",
      " 57  time_ratio_AutoClave                                   40506 non-null  float64\n",
      "dtypes: float64(41), int64(14), object(3)\n",
      "memory usage: 17.9+ MB\n"
     ]
    }
   ],
   "source": [
    "train_data.info()"
   ]
  },
  {
   "cell_type": "markdown",
   "id": "896131a9",
   "metadata": {},
   "source": [
    "### 타겟 인코딩"
   ]
  },
  {
   "cell_type": "code",
   "execution_count": 93,
   "id": "eebeda92",
   "metadata": {},
   "outputs": [
    {
     "name": "stdout",
     "output_type": "stream",
     "text": [
      "Index(['Model.Suffix', 'Workorder', 'target'], dtype='object')  train_object_columns 갯수 : 3\n",
      "Index(['Set ID', 'Model.Suffix', 'Workorder', 'target'], dtype='object')  test_object_columns 갯수 : 4\n",
      "\n",
      "Train Data:\n",
      "Model.Suffix unique 값 갯수: 7\n",
      "Workorder unique 값 갯수: 663\n",
      "target unique 값 갯수: 2\n",
      "\n",
      "Test Data:\n",
      "Set ID unique 값 갯수: 17361\n",
      "Model.Suffix unique 값 갯수: 7\n",
      "Workorder unique 값 갯수: 662\n",
      "target unique 값 갯수: 0\n"
     ]
    }
   ],
   "source": [
    "# 'target' 열의 변수 타입을 object로 변경\n",
    "# -> test 데이터는 float64 타입으로 되어있음 \n",
    "test_data['target'] = test_data['target'].astype('object')\n",
    "\n",
    "# object 타입의 변수 출력\n",
    "train_object_columns = train_data.select_dtypes(include=['object']).columns\n",
    "test_object_columns = test_data.select_dtypes(include=['object']).columns\n",
    "\n",
    "print(train_object_columns, f\" train_object_columns 갯수 : {len(train_object_columns)}\")\n",
    "print(test_object_columns, f\" test_object_columns 갯수 : {len(test_object_columns)}\")\n",
    "\n",
    "# 각 object 변수의 고유 값 개수 출력\n",
    "print(\"\\nTrain Data:\")\n",
    "for col in train_object_columns:\n",
    "    unique_count = train_data[col].nunique()\n",
    "    print(f\"{col} unique 값 갯수: {unique_count}\")\n",
    "\n",
    "print(\"\\nTest Data:\")\n",
    "for col in test_object_columns:\n",
    "    unique_count = test_data[col].nunique()\n",
    "    print(f\"{col} unique 값 갯수: {unique_count}\")"
   ]
  },
  {
   "cell_type": "code",
   "execution_count": 94,
   "id": "4af20ed0",
   "metadata": {},
   "outputs": [
    {
     "name": "stdout",
     "output_type": "stream",
     "text": [
      "   Model.Suffix  Workorder\n",
      "0      0.049336   0.158385\n",
      "1      0.049336   0.015314\n",
      "2      0.056712   0.009534\n",
      "   Model.Suffix  Workorder\n",
      "0      0.056712   0.091912\n",
      "1      0.056712   0.024247\n",
      "2      0.056712   0.091463\n",
      "--- train_data ---\n",
      "target  \n",
      "Normal      38156\n",
      "AbNormal     2350\n",
      "Name: count, dtype: int64\n"
     ]
    }
   ],
   "source": [
    "# 필요한 라이브러리 임포트\n",
    "import pandas as pd\n",
    "import category_encoders as ce\n",
    "\n",
    "# 타겟 변수와 범주형 변수 지정\n",
    "## Target Encoding의 smoothing 파라미터는 default로 auto로 설정되어 있음\n",
    "target = 'target'  # 타겟 변수 이름으로 변경\n",
    "categorical_columns = [\n",
    "    'Model.Suffix',\n",
    "    'Workorder',\n",
    "]  # 범주형 변수 이름으로 변경\n",
    "\n",
    "# 타겟 값을 숫자로 변환\n",
    "target_mapping = {'Normal': 0, 'AbNormal': 1}\n",
    "train_data[target] = train_data[target].map(target_mapping)\n",
    "test_data[target] = test_data[target].map(target_mapping)\n",
    "\n",
    "# 열이 존재하는지 확인\n",
    "missing_columns = [col for col in categorical_columns if col not in train_data.columns]\n",
    "if missing_columns:\n",
    "    raise ValueError(f\"train_data에 다음 열이 존재하지 않습니다: {missing_columns}\")\n",
    "\n",
    "# 타겟 인코더 생성 및 학습\n",
    "encoder = ce.TargetEncoder(cols=categorical_columns)\n",
    "train_data = encoder.fit_transform(train_data, train_data[target])\n",
    "\n",
    "# Set ID 열을 별도로 저장\n",
    "set_id = test_data['Set ID']\n",
    "\n",
    "# 테스트 데이터 인코딩 (Set ID 열 제외)\n",
    "test_data = test_data.drop(columns=['Set ID'])\n",
    "test_data = encoder.transform(test_data)\n",
    "\n",
    "# Set ID 열을 맨 앞에 추가\n",
    "test_data.insert(0, 'Set ID', set_id)\n",
    "\n",
    "# categorical_columns에 해당하는 열의 데이터 값만 확인\n",
    "print(train_data[categorical_columns].head(3))\n",
    "print(test_data[categorical_columns].head(3))\n",
    "\n",
    "# 역 매핑 딕셔너리 생성\n",
    "reverse_target_mapping = {v: k for k, v in target_mapping.items()}\n",
    "\n",
    "# 타겟 값을 원래대로 변환\n",
    "train_data[target] = train_data[target].map(reverse_target_mapping)\n",
    "test_data[target] = test_data[target].map(reverse_target_mapping)\n",
    "\n",
    "print(\"--- train_data ---\")\n",
    "\n",
    "# 변환된 타겟 값 확인\n",
    "print(train_data[[target]].value_counts())"
   ]
  },
  {
   "cell_type": "code",
   "execution_count": 95,
   "id": "17e56874",
   "metadata": {},
   "outputs": [
    {
     "name": "stdout",
     "output_type": "stream",
     "text": [
      "<class 'pandas.core.frame.DataFrame'>\n",
      "RangeIndex: 40506 entries, 0 to 40505\n",
      "Data columns (total 58 columns):\n",
      " #   Column                                                 Non-Null Count  Dtype  \n",
      "---  ------                                                 --------------  -----  \n",
      " 0   Model.Suffix                                           40506 non-null  float64\n",
      " 1   Workorder                                              40506 non-null  float64\n",
      " 2   DISCHARGED SPEED OF RESIN Collect Result_Dam           40506 non-null  int64  \n",
      " 3   Head Clean Position Z Collect Result_Dam               40506 non-null  float64\n",
      " 4   Head Purge Position Z Collect Result_Dam               40506 non-null  float64\n",
      " 5   Head Zero Position Y Collect Result_Dam                40506 non-null  float64\n",
      " 6   Head Zero Position Z Collect Result_Dam                40506 non-null  float64\n",
      " 7   WorkMode Collect Result                                40506 non-null  float64\n",
      " 8   1st Pressure Collect Result_AutoClave                  40506 non-null  float64\n",
      " 9   2nd Pressure Collect Result_AutoClave                  40506 non-null  float64\n",
      " 10  3rd Pressure Collect Result_AutoClave                  40506 non-null  float64\n",
      " 11  Chamber Temp. Collect Result_AutoClave                 40506 non-null  int64  \n",
      " 12  DISCHARGED SPEED OF RESIN Collect Result_Fill1         40506 non-null  float64\n",
      " 13  DISCHARGED TIME OF RESIN(Stage1) Collect Result_Fill1  40506 non-null  float64\n",
      " 14  DISCHARGED TIME OF RESIN(Stage2) Collect Result_Fill1  40506 non-null  float64\n",
      " 15  DISCHARGED TIME OF RESIN(Stage3) Collect Result_Fill1  40506 non-null  float64\n",
      " 16  Dispense Volume(Stage1) Collect Result_Fill1           40506 non-null  float64\n",
      " 17  Dispense Volume(Stage2) Collect Result_Fill1           40506 non-null  float64\n",
      " 18  Dispense Volume(Stage3) Collect Result_Fill1           40506 non-null  float64\n",
      " 19  Head Purge Position Z Collect Result_Fill1             40506 non-null  int64  \n",
      " 20  CURE_STANDBY_POSITION_Fill2                            40506 non-null  int64  \n",
      " 21  Head Purge Position Z Collect Result_Fill2             40506 non-null  float64\n",
      " 22  target                                                 40506 non-null  object \n",
      " 23  Dispenser_1                                            40506 non-null  int64  \n",
      " 24  Dispenser_2                                            40506 non-null  int64  \n",
      " 25  Workorder_0.9                                          40506 non-null  int64  \n",
      " 26  Workorder_0.7                                          40506 non-null  int64  \n",
      " 27  Workorder_0.5                                          40506 non-null  int64  \n",
      " 28  CURE_Time_Dam                                          40506 non-null  float64\n",
      " 29  DISTANCE_STAGE1_STAGE3_Dam                             40506 non-null  float64\n",
      " 30  DISTANCE_TRIANGLE_area_Dam                             40506 non-null  float64\n",
      " 31  DISTANCE_TRIANGLE_height_Dam                           40506 non-null  float64\n",
      " 32  Stage1_Total_Distance_Speed_Collect_Result_Dam         40506 non-null  float64\n",
      " 33  Stage2_Total_Distance_Speed_Collect_Result_Dam         40506 non-null  float64\n",
      " 34  Stage3_Total_Distance_Speed_Collect_Result_Dam         40506 non-null  float64\n",
      " 35  Total_THICKNESS_Collect_Result_Dam                     40506 non-null  float64\n",
      " 36  Distance_frac_time_Dam                                 40506 non-null  float64\n",
      " 37  1st_Pressure_x_AutoClave                               40506 non-null  float64\n",
      " 38  2nd_Pressure_x_AutoClave                               40506 non-null  float64\n",
      " 39  3rd_Pressure_x_AutoClave                               40506 non-null  float64\n",
      " 40  All_Pressure_x_AutoClave                               40506 non-null  float64\n",
      " 41  All_Pressure_avg_AutoClave                             40506 non-null  float64\n",
      " 42  Chamber_Temp_x_AutoClave                               40506 non-null  int64  \n",
      " 43  GMES_ORIGIN_INSP_JUDGE_CODE_ok_AutoClave               40506 non-null  int64  \n",
      " 44  DISTANCE_TRIANGLE_area_Fill1                           40506 non-null  float64\n",
      " 45  DISTANCE_TRIANGLE_height_Fill1                         40506 non-null  float64\n",
      " 46  CURE_DISTANCE_Fill2                                    40506 non-null  float64\n",
      " 47  CURE_Time_Fill2                                        40506 non-null  float64\n",
      " 48  DISTANCE_STAGE1_STAGE2_Fill2                           40506 non-null  float64\n",
      " 49  DISTANCE_STAGE2_STAGE3_Fill2                           40506 non-null  float64\n",
      " 50  DISTANCE_STAGE1_STAGE3_Fill2                           40506 non-null  float64\n",
      " 51  Receip_No_Collect_Result                               40506 non-null  int64  \n",
      " 52  PalletID_Collect_Result                                40506 non-null  int64  \n",
      " 53  Production_Qty_Collect_Result                          40506 non-null  int64  \n",
      " 54  time_ratio_Dam                                         40506 non-null  float64\n",
      " 55  time_ratio_Fill1                                       40506 non-null  float64\n",
      " 56  time_ratio_Fill2                                       40506 non-null  float64\n",
      " 57  time_ratio_AutoClave                                   40506 non-null  float64\n",
      "dtypes: float64(43), int64(14), object(1)\n",
      "memory usage: 17.9+ MB\n"
     ]
    }
   ],
   "source": [
    "train_data.info()"
   ]
  },
  {
   "cell_type": "code",
   "execution_count": 96,
   "id": "c06bcb2a",
   "metadata": {},
   "outputs": [
    {
     "name": "stdout",
     "output_type": "stream",
     "text": [
      "<class 'pandas.core.frame.DataFrame'>\n",
      "RangeIndex: 17361 entries, 0 to 17360\n",
      "Data columns (total 59 columns):\n",
      " #   Column                                                 Non-Null Count  Dtype  \n",
      "---  ------                                                 --------------  -----  \n",
      " 0   Set ID                                                 17361 non-null  object \n",
      " 1   Model.Suffix                                           17361 non-null  float64\n",
      " 2   Workorder                                              17361 non-null  float64\n",
      " 3   DISCHARGED SPEED OF RESIN Collect Result_Dam           17361 non-null  int64  \n",
      " 4   Head Clean Position Z Collect Result_Dam               17361 non-null  float64\n",
      " 5   Head Purge Position Z Collect Result_Dam               17361 non-null  float64\n",
      " 6   Head Zero Position Y Collect Result_Dam                17361 non-null  float64\n",
      " 7   Head Zero Position Z Collect Result_Dam                17361 non-null  float64\n",
      " 8   WorkMode Collect Result                                17361 non-null  float64\n",
      " 9   1st Pressure Collect Result_AutoClave                  17361 non-null  float64\n",
      " 10  2nd Pressure Collect Result_AutoClave                  17361 non-null  float64\n",
      " 11  3rd Pressure Collect Result_AutoClave                  17361 non-null  float64\n",
      " 12  Chamber Temp. Collect Result_AutoClave                 17361 non-null  int64  \n",
      " 13  DISCHARGED SPEED OF RESIN Collect Result_Fill1         17361 non-null  float64\n",
      " 14  DISCHARGED TIME OF RESIN(Stage1) Collect Result_Fill1  17361 non-null  float64\n",
      " 15  DISCHARGED TIME OF RESIN(Stage2) Collect Result_Fill1  17361 non-null  float64\n",
      " 16  DISCHARGED TIME OF RESIN(Stage3) Collect Result_Fill1  17361 non-null  float64\n",
      " 17  Dispense Volume(Stage1) Collect Result_Fill1           17361 non-null  float64\n",
      " 18  Dispense Volume(Stage2) Collect Result_Fill1           17361 non-null  float64\n",
      " 19  Dispense Volume(Stage3) Collect Result_Fill1           17361 non-null  float64\n",
      " 20  Head Purge Position Z Collect Result_Fill1             17361 non-null  float64\n",
      " 21  CURE_STANDBY_POSITION_Fill2                            17361 non-null  int64  \n",
      " 22  Head Purge Position Z Collect Result_Fill2             17361 non-null  float64\n",
      " 23  target                                                 0 non-null      object \n",
      " 24  Dispenser_1                                            17361 non-null  int64  \n",
      " 25  Dispenser_2                                            17361 non-null  int64  \n",
      " 26  Workorder_0.9                                          17361 non-null  int64  \n",
      " 27  Workorder_0.7                                          17361 non-null  int64  \n",
      " 28  Workorder_0.5                                          17361 non-null  int64  \n",
      " 29  CURE_Time_Dam                                          17361 non-null  float64\n",
      " 30  DISTANCE_STAGE1_STAGE3_Dam                             17361 non-null  float64\n",
      " 31  DISTANCE_TRIANGLE_area_Dam                             17361 non-null  float64\n",
      " 32  DISTANCE_TRIANGLE_height_Dam                           17361 non-null  float64\n",
      " 33  Stage1_Total_Distance_Speed_Collect_Result_Dam         17361 non-null  float64\n",
      " 34  Stage2_Total_Distance_Speed_Collect_Result_Dam         17361 non-null  float64\n",
      " 35  Stage3_Total_Distance_Speed_Collect_Result_Dam         17361 non-null  float64\n",
      " 36  Total_THICKNESS_Collect_Result_Dam                     17361 non-null  float64\n",
      " 37  Distance_frac_time_Dam                                 17361 non-null  float64\n",
      " 38  1st_Pressure_x_AutoClave                               17361 non-null  float64\n",
      " 39  2nd_Pressure_x_AutoClave                               17361 non-null  float64\n",
      " 40  3rd_Pressure_x_AutoClave                               17361 non-null  float64\n",
      " 41  All_Pressure_x_AutoClave                               17361 non-null  float64\n",
      " 42  All_Pressure_avg_AutoClave                             17361 non-null  float64\n",
      " 43  Chamber_Temp_x_AutoClave                               17361 non-null  int64  \n",
      " 44  GMES_ORIGIN_INSP_JUDGE_CODE_ok_AutoClave               17361 non-null  int64  \n",
      " 45  DISTANCE_TRIANGLE_area_Fill1                           17361 non-null  float64\n",
      " 46  DISTANCE_TRIANGLE_height_Fill1                         17361 non-null  float64\n",
      " 47  CURE_DISTANCE_Fill2                                    17361 non-null  float64\n",
      " 48  CURE_Time_Fill2                                        17361 non-null  float64\n",
      " 49  DISTANCE_STAGE1_STAGE2_Fill2                           17361 non-null  float64\n",
      " 50  DISTANCE_STAGE2_STAGE3_Fill2                           17361 non-null  float64\n",
      " 51  DISTANCE_STAGE1_STAGE3_Fill2                           17361 non-null  float64\n",
      " 52  Receip_No_Collect_Result                               17361 non-null  float64\n",
      " 53  PalletID_Collect_Result                                17361 non-null  float64\n",
      " 54  Production_Qty_Collect_Result                          17361 non-null  float64\n",
      " 55  time_ratio_Dam                                         17361 non-null  float64\n",
      " 56  time_ratio_Fill1                                       17361 non-null  float64\n",
      " 57  time_ratio_Fill2                                       17361 non-null  float64\n",
      " 58  time_ratio_AutoClave                                   17361 non-null  float64\n",
      "dtypes: float64(47), int64(10), object(2)\n",
      "memory usage: 7.8+ MB\n"
     ]
    }
   ],
   "source": [
    "test_data.info()"
   ]
  },
  {
   "cell_type": "markdown",
   "id": "b9921acc",
   "metadata": {},
   "source": [
    "### 데이터 분할"
   ]
  },
  {
   "cell_type": "code",
   "execution_count": 97,
   "id": "868607db",
   "metadata": {},
   "outputs": [],
   "source": [
    "# 데이터셋 분할\n",
    "x_train, x_val, y_train, y_val = train_test_split(\n",
    "    train_data.drop(\"target\", axis=1),\n",
    "    train_data[\"target\"],\n",
    "    test_size=0.2,\n",
    "    shuffle=True,\n",
    "    random_state=RANDOM_STATE,\n",
    ")"
   ]
  },
  {
   "cell_type": "code",
   "execution_count": 98,
   "id": "f749dc9b",
   "metadata": {},
   "outputs": [
    {
     "data": {
      "text/html": [
       "<div>\n",
       "<style scoped>\n",
       "    .dataframe tbody tr th:only-of-type {\n",
       "        vertical-align: middle;\n",
       "    }\n",
       "\n",
       "    .dataframe tbody tr th {\n",
       "        vertical-align: top;\n",
       "    }\n",
       "\n",
       "    .dataframe thead th {\n",
       "        text-align: right;\n",
       "    }\n",
       "</style>\n",
       "<table border=\"1\" class=\"dataframe\">\n",
       "  <thead>\n",
       "    <tr style=\"text-align: right;\">\n",
       "      <th></th>\n",
       "      <th>Model.Suffix</th>\n",
       "      <th>Workorder</th>\n",
       "      <th>DISCHARGED SPEED OF RESIN Collect Result_Dam</th>\n",
       "      <th>Head Clean Position Z Collect Result_Dam</th>\n",
       "      <th>Head Purge Position Z Collect Result_Dam</th>\n",
       "      <th>Head Zero Position Y Collect Result_Dam</th>\n",
       "      <th>Head Zero Position Z Collect Result_Dam</th>\n",
       "      <th>WorkMode Collect Result</th>\n",
       "      <th>1st Pressure Collect Result_AutoClave</th>\n",
       "      <th>2nd Pressure Collect Result_AutoClave</th>\n",
       "      <th>...</th>\n",
       "      <th>DISTANCE_STAGE1_STAGE2_Fill2</th>\n",
       "      <th>DISTANCE_STAGE2_STAGE3_Fill2</th>\n",
       "      <th>DISTANCE_STAGE1_STAGE3_Fill2</th>\n",
       "      <th>Receip_No_Collect_Result</th>\n",
       "      <th>PalletID_Collect_Result</th>\n",
       "      <th>Production_Qty_Collect_Result</th>\n",
       "      <th>time_ratio_Dam</th>\n",
       "      <th>time_ratio_Fill1</th>\n",
       "      <th>time_ratio_Fill2</th>\n",
       "      <th>time_ratio_AutoClave</th>\n",
       "    </tr>\n",
       "  </thead>\n",
       "  <tbody>\n",
       "    <tr>\n",
       "      <th>40143</th>\n",
       "      <td>0.056712</td>\n",
       "      <td>0.044053</td>\n",
       "      <td>10</td>\n",
       "      <td>130.85</td>\n",
       "      <td>130.85</td>\n",
       "      <td>300.0</td>\n",
       "      <td>265.00</td>\n",
       "      <td>0.0</td>\n",
       "      <td>0.303</td>\n",
       "      <td>0.305</td>\n",
       "      <td>...</td>\n",
       "      <td>377.500013</td>\n",
       "      <td>302.000017</td>\n",
       "      <td>679.5</td>\n",
       "      <td>1</td>\n",
       "      <td>1</td>\n",
       "      <td>258</td>\n",
       "      <td>0.111</td>\n",
       "      <td>0.111</td>\n",
       "      <td>0.030</td>\n",
       "      <td>0.748</td>\n",
       "    </tr>\n",
       "    <tr>\n",
       "      <th>14916</th>\n",
       "      <td>0.056712</td>\n",
       "      <td>0.098997</td>\n",
       "      <td>10</td>\n",
       "      <td>133.50</td>\n",
       "      <td>133.50</td>\n",
       "      <td>303.5</td>\n",
       "      <td>265.00</td>\n",
       "      <td>1.0</td>\n",
       "      <td>0.305</td>\n",
       "      <td>0.306</td>\n",
       "      <td>...</td>\n",
       "      <td>377.500013</td>\n",
       "      <td>302.000017</td>\n",
       "      <td>679.5</td>\n",
       "      <td>1</td>\n",
       "      <td>2</td>\n",
       "      <td>411</td>\n",
       "      <td>0.129</td>\n",
       "      <td>0.128</td>\n",
       "      <td>0.027</td>\n",
       "      <td>0.716</td>\n",
       "    </tr>\n",
       "    <tr>\n",
       "      <th>35683</th>\n",
       "      <td>0.056712</td>\n",
       "      <td>0.039025</td>\n",
       "      <td>16</td>\n",
       "      <td>124.00</td>\n",
       "      <td>130.85</td>\n",
       "      <td>300.0</td>\n",
       "      <td>265.02</td>\n",
       "      <td>0.0</td>\n",
       "      <td>0.311</td>\n",
       "      <td>0.491</td>\n",
       "      <td>...</td>\n",
       "      <td>377.500013</td>\n",
       "      <td>302.000017</td>\n",
       "      <td>679.5</td>\n",
       "      <td>1</td>\n",
       "      <td>3</td>\n",
       "      <td>98</td>\n",
       "      <td>0.144</td>\n",
       "      <td>0.112</td>\n",
       "      <td>0.038</td>\n",
       "      <td>0.707</td>\n",
       "    </tr>\n",
       "    <tr>\n",
       "      <th>15843</th>\n",
       "      <td>0.049336</td>\n",
       "      <td>0.020833</td>\n",
       "      <td>16</td>\n",
       "      <td>124.00</td>\n",
       "      <td>130.85</td>\n",
       "      <td>300.0</td>\n",
       "      <td>265.00</td>\n",
       "      <td>0.0</td>\n",
       "      <td>0.299</td>\n",
       "      <td>0.492</td>\n",
       "      <td>...</td>\n",
       "      <td>377.500013</td>\n",
       "      <td>302.000017</td>\n",
       "      <td>679.5</td>\n",
       "      <td>1</td>\n",
       "      <td>8</td>\n",
       "      <td>108</td>\n",
       "      <td>0.139</td>\n",
       "      <td>0.113</td>\n",
       "      <td>0.039</td>\n",
       "      <td>0.710</td>\n",
       "    </tr>\n",
       "    <tr>\n",
       "      <th>6612</th>\n",
       "      <td>0.056712</td>\n",
       "      <td>0.057692</td>\n",
       "      <td>10</td>\n",
       "      <td>133.50</td>\n",
       "      <td>133.50</td>\n",
       "      <td>303.5</td>\n",
       "      <td>265.00</td>\n",
       "      <td>1.0</td>\n",
       "      <td>0.313</td>\n",
       "      <td>0.497</td>\n",
       "      <td>...</td>\n",
       "      <td>377.500013</td>\n",
       "      <td>302.000017</td>\n",
       "      <td>679.5</td>\n",
       "      <td>1</td>\n",
       "      <td>1</td>\n",
       "      <td>358</td>\n",
       "      <td>0.137</td>\n",
       "      <td>0.134</td>\n",
       "      <td>0.028</td>\n",
       "      <td>0.702</td>\n",
       "    </tr>\n",
       "    <tr>\n",
       "      <th>...</th>\n",
       "      <td>...</td>\n",
       "      <td>...</td>\n",
       "      <td>...</td>\n",
       "      <td>...</td>\n",
       "      <td>...</td>\n",
       "      <td>...</td>\n",
       "      <td>...</td>\n",
       "      <td>...</td>\n",
       "      <td>...</td>\n",
       "      <td>...</td>\n",
       "      <td>...</td>\n",
       "      <td>...</td>\n",
       "      <td>...</td>\n",
       "      <td>...</td>\n",
       "      <td>...</td>\n",
       "      <td>...</td>\n",
       "      <td>...</td>\n",
       "      <td>...</td>\n",
       "      <td>...</td>\n",
       "      <td>...</td>\n",
       "      <td>...</td>\n",
       "    </tr>\n",
       "    <tr>\n",
       "      <th>111</th>\n",
       "      <td>0.049336</td>\n",
       "      <td>0.158385</td>\n",
       "      <td>16</td>\n",
       "      <td>124.00</td>\n",
       "      <td>130.85</td>\n",
       "      <td>300.0</td>\n",
       "      <td>265.00</td>\n",
       "      <td>0.0</td>\n",
       "      <td>0.310</td>\n",
       "      <td>0.491</td>\n",
       "      <td>...</td>\n",
       "      <td>195.000000</td>\n",
       "      <td>193.000000</td>\n",
       "      <td>388.0</td>\n",
       "      <td>1</td>\n",
       "      <td>13</td>\n",
       "      <td>82</td>\n",
       "      <td>0.123</td>\n",
       "      <td>0.114</td>\n",
       "      <td>0.040</td>\n",
       "      <td>0.723</td>\n",
       "    </tr>\n",
       "    <tr>\n",
       "      <th>28872</th>\n",
       "      <td>0.056712</td>\n",
       "      <td>0.036113</td>\n",
       "      <td>16</td>\n",
       "      <td>124.00</td>\n",
       "      <td>130.85</td>\n",
       "      <td>300.0</td>\n",
       "      <td>265.00</td>\n",
       "      <td>0.0</td>\n",
       "      <td>0.313</td>\n",
       "      <td>0.492</td>\n",
       "      <td>...</td>\n",
       "      <td>377.500013</td>\n",
       "      <td>302.000017</td>\n",
       "      <td>679.5</td>\n",
       "      <td>1</td>\n",
       "      <td>1</td>\n",
       "      <td>169</td>\n",
       "      <td>0.138</td>\n",
       "      <td>0.112</td>\n",
       "      <td>0.040</td>\n",
       "      <td>0.709</td>\n",
       "    </tr>\n",
       "    <tr>\n",
       "      <th>38867</th>\n",
       "      <td>0.056712</td>\n",
       "      <td>0.059686</td>\n",
       "      <td>10</td>\n",
       "      <td>133.50</td>\n",
       "      <td>133.50</td>\n",
       "      <td>300.0</td>\n",
       "      <td>265.00</td>\n",
       "      <td>1.0</td>\n",
       "      <td>0.315</td>\n",
       "      <td>0.317</td>\n",
       "      <td>...</td>\n",
       "      <td>377.500013</td>\n",
       "      <td>302.000017</td>\n",
       "      <td>679.5</td>\n",
       "      <td>1</td>\n",
       "      <td>6</td>\n",
       "      <td>44</td>\n",
       "      <td>0.130</td>\n",
       "      <td>0.133</td>\n",
       "      <td>0.029</td>\n",
       "      <td>0.708</td>\n",
       "    </tr>\n",
       "    <tr>\n",
       "      <th>35657</th>\n",
       "      <td>0.056712</td>\n",
       "      <td>0.000288</td>\n",
       "      <td>16</td>\n",
       "      <td>130.85</td>\n",
       "      <td>130.85</td>\n",
       "      <td>300.0</td>\n",
       "      <td>265.02</td>\n",
       "      <td>0.0</td>\n",
       "      <td>0.304</td>\n",
       "      <td>0.490</td>\n",
       "      <td>...</td>\n",
       "      <td>377.500013</td>\n",
       "      <td>302.000017</td>\n",
       "      <td>679.5</td>\n",
       "      <td>1</td>\n",
       "      <td>3</td>\n",
       "      <td>83</td>\n",
       "      <td>0.111</td>\n",
       "      <td>0.112</td>\n",
       "      <td>0.040</td>\n",
       "      <td>0.737</td>\n",
       "    </tr>\n",
       "    <tr>\n",
       "      <th>32223</th>\n",
       "      <td>0.056712</td>\n",
       "      <td>0.064912</td>\n",
       "      <td>10</td>\n",
       "      <td>133.50</td>\n",
       "      <td>133.50</td>\n",
       "      <td>303.5</td>\n",
       "      <td>265.00</td>\n",
       "      <td>1.0</td>\n",
       "      <td>0.312</td>\n",
       "      <td>0.498</td>\n",
       "      <td>...</td>\n",
       "      <td>377.500013</td>\n",
       "      <td>302.000017</td>\n",
       "      <td>679.5</td>\n",
       "      <td>1</td>\n",
       "      <td>8</td>\n",
       "      <td>59</td>\n",
       "      <td>0.136</td>\n",
       "      <td>0.133</td>\n",
       "      <td>0.029</td>\n",
       "      <td>0.702</td>\n",
       "    </tr>\n",
       "  </tbody>\n",
       "</table>\n",
       "<p>8102 rows × 57 columns</p>\n",
       "</div>"
      ],
      "text/plain": [
       "       Model.Suffix  Workorder  DISCHARGED SPEED OF RESIN Collect Result_Dam  \\\n",
       "40143      0.056712   0.044053                                            10   \n",
       "14916      0.056712   0.098997                                            10   \n",
       "35683      0.056712   0.039025                                            16   \n",
       "15843      0.049336   0.020833                                            16   \n",
       "6612       0.056712   0.057692                                            10   \n",
       "...             ...        ...                                           ...   \n",
       "111        0.049336   0.158385                                            16   \n",
       "28872      0.056712   0.036113                                            16   \n",
       "38867      0.056712   0.059686                                            10   \n",
       "35657      0.056712   0.000288                                            16   \n",
       "32223      0.056712   0.064912                                            10   \n",
       "\n",
       "       Head Clean Position Z Collect Result_Dam  \\\n",
       "40143                                    130.85   \n",
       "14916                                    133.50   \n",
       "35683                                    124.00   \n",
       "15843                                    124.00   \n",
       "6612                                     133.50   \n",
       "...                                         ...   \n",
       "111                                      124.00   \n",
       "28872                                    124.00   \n",
       "38867                                    133.50   \n",
       "35657                                    130.85   \n",
       "32223                                    133.50   \n",
       "\n",
       "       Head Purge Position Z Collect Result_Dam  \\\n",
       "40143                                    130.85   \n",
       "14916                                    133.50   \n",
       "35683                                    130.85   \n",
       "15843                                    130.85   \n",
       "6612                                     133.50   \n",
       "...                                         ...   \n",
       "111                                      130.85   \n",
       "28872                                    130.85   \n",
       "38867                                    133.50   \n",
       "35657                                    130.85   \n",
       "32223                                    133.50   \n",
       "\n",
       "       Head Zero Position Y Collect Result_Dam  \\\n",
       "40143                                    300.0   \n",
       "14916                                    303.5   \n",
       "35683                                    300.0   \n",
       "15843                                    300.0   \n",
       "6612                                     303.5   \n",
       "...                                        ...   \n",
       "111                                      300.0   \n",
       "28872                                    300.0   \n",
       "38867                                    300.0   \n",
       "35657                                    300.0   \n",
       "32223                                    303.5   \n",
       "\n",
       "       Head Zero Position Z Collect Result_Dam  WorkMode Collect Result  \\\n",
       "40143                                   265.00                      0.0   \n",
       "14916                                   265.00                      1.0   \n",
       "35683                                   265.02                      0.0   \n",
       "15843                                   265.00                      0.0   \n",
       "6612                                    265.00                      1.0   \n",
       "...                                        ...                      ...   \n",
       "111                                     265.00                      0.0   \n",
       "28872                                   265.00                      0.0   \n",
       "38867                                   265.00                      1.0   \n",
       "35657                                   265.02                      0.0   \n",
       "32223                                   265.00                      1.0   \n",
       "\n",
       "       1st Pressure Collect Result_AutoClave  \\\n",
       "40143                                  0.303   \n",
       "14916                                  0.305   \n",
       "35683                                  0.311   \n",
       "15843                                  0.299   \n",
       "6612                                   0.313   \n",
       "...                                      ...   \n",
       "111                                    0.310   \n",
       "28872                                  0.313   \n",
       "38867                                  0.315   \n",
       "35657                                  0.304   \n",
       "32223                                  0.312   \n",
       "\n",
       "       2nd Pressure Collect Result_AutoClave  ...  \\\n",
       "40143                                  0.305  ...   \n",
       "14916                                  0.306  ...   \n",
       "35683                                  0.491  ...   \n",
       "15843                                  0.492  ...   \n",
       "6612                                   0.497  ...   \n",
       "...                                      ...  ...   \n",
       "111                                    0.491  ...   \n",
       "28872                                  0.492  ...   \n",
       "38867                                  0.317  ...   \n",
       "35657                                  0.490  ...   \n",
       "32223                                  0.498  ...   \n",
       "\n",
       "       DISTANCE_STAGE1_STAGE2_Fill2  DISTANCE_STAGE2_STAGE3_Fill2  \\\n",
       "40143                    377.500013                    302.000017   \n",
       "14916                    377.500013                    302.000017   \n",
       "35683                    377.500013                    302.000017   \n",
       "15843                    377.500013                    302.000017   \n",
       "6612                     377.500013                    302.000017   \n",
       "...                             ...                           ...   \n",
       "111                      195.000000                    193.000000   \n",
       "28872                    377.500013                    302.000017   \n",
       "38867                    377.500013                    302.000017   \n",
       "35657                    377.500013                    302.000017   \n",
       "32223                    377.500013                    302.000017   \n",
       "\n",
       "       DISTANCE_STAGE1_STAGE3_Fill2  Receip_No_Collect_Result  \\\n",
       "40143                         679.5                         1   \n",
       "14916                         679.5                         1   \n",
       "35683                         679.5                         1   \n",
       "15843                         679.5                         1   \n",
       "6612                          679.5                         1   \n",
       "...                             ...                       ...   \n",
       "111                           388.0                         1   \n",
       "28872                         679.5                         1   \n",
       "38867                         679.5                         1   \n",
       "35657                         679.5                         1   \n",
       "32223                         679.5                         1   \n",
       "\n",
       "       PalletID_Collect_Result  Production_Qty_Collect_Result  time_ratio_Dam  \\\n",
       "40143                        1                            258           0.111   \n",
       "14916                        2                            411           0.129   \n",
       "35683                        3                             98           0.144   \n",
       "15843                        8                            108           0.139   \n",
       "6612                         1                            358           0.137   \n",
       "...                        ...                            ...             ...   \n",
       "111                         13                             82           0.123   \n",
       "28872                        1                            169           0.138   \n",
       "38867                        6                             44           0.130   \n",
       "35657                        3                             83           0.111   \n",
       "32223                        8                             59           0.136   \n",
       "\n",
       "       time_ratio_Fill1  time_ratio_Fill2  time_ratio_AutoClave  \n",
       "40143             0.111             0.030                 0.748  \n",
       "14916             0.128             0.027                 0.716  \n",
       "35683             0.112             0.038                 0.707  \n",
       "15843             0.113             0.039                 0.710  \n",
       "6612              0.134             0.028                 0.702  \n",
       "...                 ...               ...                   ...  \n",
       "111               0.114             0.040                 0.723  \n",
       "28872             0.112             0.040                 0.709  \n",
       "38867             0.133             0.029                 0.708  \n",
       "35657             0.112             0.040                 0.737  \n",
       "32223             0.133             0.029                 0.702  \n",
       "\n",
       "[8102 rows x 57 columns]"
      ]
     },
     "execution_count": 98,
     "metadata": {},
     "output_type": "execute_result"
    }
   ],
   "source": [
    "x_val"
   ]
  },
  {
   "cell_type": "code",
   "execution_count": 99,
   "id": "53dd2a8f",
   "metadata": {},
   "outputs": [
    {
     "name": "stdout",
     "output_type": "stream",
     "text": [
      "  \tAbnormal\tNormal\n",
      "  Total: Normal: 30524, AbNormal: 1880 ratio: 0.06159087930808544\n",
      "  Total: Normal: 7632, AbNormal: 470 ratio: 0.061582809224318656\n"
     ]
    }
   ],
   "source": [
    "df_train, df_val = train_test_split(\n",
    "    train_data,\n",
    "    test_size=0.2,\n",
    "    stratify=train_data[\"target\"],\n",
    "    random_state=RANDOM_STATE,\n",
    ")\n",
    "\n",
    "def print_stats(df: pd.DataFrame):\n",
    "    num_normal = len(df[df[\"target\"] == \"Normal\"])\n",
    "    num_abnormal = len(df[df[\"target\"] == \"AbNormal\"])\n",
    "\n",
    "    print(f\"  Total: Normal: {num_normal}, AbNormal: {num_abnormal}\" + f\" ratio: {num_abnormal/num_normal}\")\n",
    "\n",
    "\n",
    "# Print statistics\n",
    "print(f\"  \\tAbnormal\\tNormal\")\n",
    "print_stats(df_train)\n",
    "print_stats(df_val)"
   ]
  },
  {
   "cell_type": "markdown",
   "id": "25f0f960",
   "metadata": {},
   "source": [
    "## 3. 모델 학습"
   ]
  },
  {
   "cell_type": "markdown",
   "id": "76aab8ce",
   "metadata": {},
   "source": [
    "### 모델 정의"
   ]
  },
  {
   "cell_type": "code",
   "execution_count": 100,
   "id": "590d252b",
   "metadata": {},
   "outputs": [],
   "source": [
    "from sklearn.metrics import (\n",
    "    accuracy_score,\n",
    "    confusion_matrix,\n",
    "    f1_score,\n",
    "    precision_score,\n",
    "    recall_score,\n",
    ")\n",
    "\n",
    "def get_clf_eval(y_test, y_pred_proba, threshold=0.5):\n",
    "    # 확률을 기준으로 예측 레이블 생성\n",
    "    y_pred = (y_pred_proba >= threshold).astype(int)  # 0.5 이상의 확률을 양성으로 간주\n",
    "\n",
    "    confusion = confusion_matrix(y_test, y_pred)\n",
    "    accuracy = accuracy_score(y_test, y_pred)\n",
    "    precision = precision_score(y_test, y_pred)\n",
    "    recall = recall_score(y_test, y_pred)\n",
    "    f1 = f1_score(y_test, y_pred)\n",
    "\n",
    "    print(\"Confusion Matrix:\\n\", confusion)\n",
    "    print(f\"Accuracy: {accuracy:.4f}\")\n",
    "    print(f\"Precision: {precision:.4f}\")\n",
    "    print(f\"Recall: {recall:.4f}\")\n",
    "    print(f\"F1 Score: {f1:.4f}\")\n"
   ]
  },
  {
   "cell_type": "code",
   "execution_count": 101,
   "id": "4bab859e",
   "metadata": {},
   "outputs": [],
   "source": [
    "from lightgbm import LGBMClassifier"
   ]
  },
  {
   "cell_type": "markdown",
   "id": "11f08200",
   "metadata": {},
   "source": [
    "optuna"
   ]
  },
  {
   "cell_type": "code",
   "execution_count": 102,
   "id": "2f797b4c",
   "metadata": {},
   "outputs": [],
   "source": [
    "# import optuna\n",
    "# from lightgbm import LGBMClassifier\n",
    "# from sklearn.model_selection import train_test_split\n",
    "# from sklearn.metrics import f1_score\n",
    "\n",
    "# # 'Normal'과 'AbNormal'을 숫자로 변환\n",
    "# train_data['target'] = train_data['target'].map({'Normal': 0, 'AbNormal': 1})\n",
    "\n",
    "# def objectiveLGBM_dart(trial, x_tr, y_tr, x_val, y_val):\n",
    "#     param = {\n",
    "#         'n_estimators': trial.suggest_int('n_estimators', 300, 5000),\n",
    "#         'num_leaves': trial.suggest_int('num_leaves', 300, 4000),\n",
    "#         'max_depth': trial.suggest_int('max_depth', 10, 300),\n",
    "#         'learning_rate': trial.suggest_float('learning_rate', 0.001, 0.1),\n",
    "#         'min_child_samples': trial.suggest_int('min_child_samples', 3, 300),\n",
    "        \n",
    "#         'boosting': 'dart',  # dart 사용\n",
    "#         'random_state': RANDOM_STATE,\n",
    "#         'verbose': -1\n",
    "#     }\n",
    "       \n",
    "#     model = LGBMClassifier(**param)\n",
    "#     model.fit(x_tr, y_tr)\n",
    "#     pred = model.predict(x_val)\n",
    "#     score = f1_score(y_val, pred, average=\"binary\")\n",
    "    \n",
    "#     return score\n",
    "\n",
    "# # 데이터셋 분할\n",
    "# x_train, x_val, y_train, y_val = train_test_split(\n",
    "#     train_data.drop(\"target\", axis=1),\n",
    "#     train_data[\"target\"],\n",
    "#     test_size=0.2,\n",
    "#     shuffle=True,\n",
    "#     random_state=RANDOM_STATE,\n",
    "# )\n",
    "\n",
    "# # 하이퍼 파라미터 튜닝\n",
    "# study = optuna.create_study(direction='maximize', sampler=optuna.samplers.TPESampler(seed=RANDOM_STATE))\n",
    "# study.optimize(lambda trial: objectiveLGBM_dart(trial, x_train, y_train, x_val, y_val), n_trials=3000)\n",
    "\n",
    "# print('Best trial: score {}, \\nparams {}'.format(study.best_trial.value, study.best_trial.params))"
   ]
  },
  {
   "cell_type": "markdown",
   "id": "d7b39279",
   "metadata": {},
   "source": [
    "200번까지 했을때 400분 정도 걸렸고 이때 튜닝과정 끊었음(시간상의 이유로)"
   ]
  },
  {
   "cell_type": "markdown",
   "id": "6784d0cf",
   "metadata": {},
   "source": [
    "{'n_estimators': 1019, 'num_leaves': 1513, 'max_depth': 115, 'learning_rate': 0.   010329666890588058, 'min_child_samples': 7}. Best is trial 129 with value: 0.22495606326889278."
   ]
  },
  {
   "cell_type": "code",
   "execution_count": 103,
   "id": "aa66a9d0",
   "metadata": {},
   "outputs": [],
   "source": [
    "# LightGBM\n",
    "lgb_model = LGBMClassifier(\n",
    "    n_estimators=1019\n",
    "    , num_leaves=1513\n",
    "    , max_depth=115\n",
    "    , learning_rate=0.010329666890588058\n",
    "    , min_child_samples=7\n",
    "    , verbose = -1\n",
    "    , boosting= 'dart'\n",
    "    , random_state=RANDOM_STATE\n",
    ")"
   ]
  },
  {
   "cell_type": "markdown",
   "id": "e27dca27",
   "metadata": {},
   "source": [
    "### 모델 학습\n"
   ]
  },
  {
   "cell_type": "code",
   "execution_count": 104,
   "id": "2f2b5e77",
   "metadata": {},
   "outputs": [
    {
     "data": {
      "text/html": [
       "<style>#sk-container-id-1 {color: black;}#sk-container-id-1 pre{padding: 0;}#sk-container-id-1 div.sk-toggleable {background-color: white;}#sk-container-id-1 label.sk-toggleable__label {cursor: pointer;display: block;width: 100%;margin-bottom: 0;padding: 0.3em;box-sizing: border-box;text-align: center;}#sk-container-id-1 label.sk-toggleable__label-arrow:before {content: \"▸\";float: left;margin-right: 0.25em;color: #696969;}#sk-container-id-1 label.sk-toggleable__label-arrow:hover:before {color: black;}#sk-container-id-1 div.sk-estimator:hover label.sk-toggleable__label-arrow:before {color: black;}#sk-container-id-1 div.sk-toggleable__content {max-height: 0;max-width: 0;overflow: hidden;text-align: left;background-color: #f0f8ff;}#sk-container-id-1 div.sk-toggleable__content pre {margin: 0.2em;color: black;border-radius: 0.25em;background-color: #f0f8ff;}#sk-container-id-1 input.sk-toggleable__control:checked~div.sk-toggleable__content {max-height: 200px;max-width: 100%;overflow: auto;}#sk-container-id-1 input.sk-toggleable__control:checked~label.sk-toggleable__label-arrow:before {content: \"▾\";}#sk-container-id-1 div.sk-estimator input.sk-toggleable__control:checked~label.sk-toggleable__label {background-color: #d4ebff;}#sk-container-id-1 div.sk-label input.sk-toggleable__control:checked~label.sk-toggleable__label {background-color: #d4ebff;}#sk-container-id-1 input.sk-hidden--visually {border: 0;clip: rect(1px 1px 1px 1px);clip: rect(1px, 1px, 1px, 1px);height: 1px;margin: -1px;overflow: hidden;padding: 0;position: absolute;width: 1px;}#sk-container-id-1 div.sk-estimator {font-family: monospace;background-color: #f0f8ff;border: 1px dotted black;border-radius: 0.25em;box-sizing: border-box;margin-bottom: 0.5em;}#sk-container-id-1 div.sk-estimator:hover {background-color: #d4ebff;}#sk-container-id-1 div.sk-parallel-item::after {content: \"\";width: 100%;border-bottom: 1px solid gray;flex-grow: 1;}#sk-container-id-1 div.sk-label:hover label.sk-toggleable__label {background-color: #d4ebff;}#sk-container-id-1 div.sk-serial::before {content: \"\";position: absolute;border-left: 1px solid gray;box-sizing: border-box;top: 0;bottom: 0;left: 50%;z-index: 0;}#sk-container-id-1 div.sk-serial {display: flex;flex-direction: column;align-items: center;background-color: white;padding-right: 0.2em;padding-left: 0.2em;position: relative;}#sk-container-id-1 div.sk-item {position: relative;z-index: 1;}#sk-container-id-1 div.sk-parallel {display: flex;align-items: stretch;justify-content: center;background-color: white;position: relative;}#sk-container-id-1 div.sk-item::before, #sk-container-id-1 div.sk-parallel-item::before {content: \"\";position: absolute;border-left: 1px solid gray;box-sizing: border-box;top: 0;bottom: 0;left: 50%;z-index: -1;}#sk-container-id-1 div.sk-parallel-item {display: flex;flex-direction: column;z-index: 1;position: relative;background-color: white;}#sk-container-id-1 div.sk-parallel-item:first-child::after {align-self: flex-end;width: 50%;}#sk-container-id-1 div.sk-parallel-item:last-child::after {align-self: flex-start;width: 50%;}#sk-container-id-1 div.sk-parallel-item:only-child::after {width: 0;}#sk-container-id-1 div.sk-dashed-wrapped {border: 1px dashed gray;margin: 0 0.4em 0.5em 0.4em;box-sizing: border-box;padding-bottom: 0.4em;background-color: white;}#sk-container-id-1 div.sk-label label {font-family: monospace;font-weight: bold;display: inline-block;line-height: 1.2em;}#sk-container-id-1 div.sk-label-container {text-align: center;}#sk-container-id-1 div.sk-container {/* jupyter's `normalize.less` sets `[hidden] { display: none; }` but bootstrap.min.css set `[hidden] { display: none !important; }` so we also need the `!important` here to be able to override the default hidden behavior on the sphinx rendered scikit-learn.org. See: https://github.com/scikit-learn/scikit-learn/issues/21755 */display: inline-block !important;position: relative;}#sk-container-id-1 div.sk-text-repr-fallback {display: none;}</style><div id=\"sk-container-id-1\" class=\"sk-top-container\"><div class=\"sk-text-repr-fallback\"><pre>LGBMClassifier(boosting=&#x27;dart&#x27;, learning_rate=0.010329666890588058,\n",
       "               max_depth=115, min_child_samples=7, n_estimators=1019,\n",
       "               num_leaves=1513, random_state=110, verbose=-1)</pre><b>In a Jupyter environment, please rerun this cell to show the HTML representation or trust the notebook. <br />On GitHub, the HTML representation is unable to render, please try loading this page with nbviewer.org.</b></div><div class=\"sk-container\" hidden><div class=\"sk-item\"><div class=\"sk-estimator sk-toggleable\"><input class=\"sk-toggleable__control sk-hidden--visually\" id=\"sk-estimator-id-1\" type=\"checkbox\" checked><label for=\"sk-estimator-id-1\" class=\"sk-toggleable__label sk-toggleable__label-arrow\">LGBMClassifier</label><div class=\"sk-toggleable__content\"><pre>LGBMClassifier(boosting=&#x27;dart&#x27;, learning_rate=0.010329666890588058,\n",
       "               max_depth=115, min_child_samples=7, n_estimators=1019,\n",
       "               num_leaves=1513, random_state=110, verbose=-1)</pre></div></div></div></div></div>"
      ],
      "text/plain": [
       "LGBMClassifier(boosting='dart', learning_rate=0.010329666890588058,\n",
       "               max_depth=115, min_child_samples=7, n_estimators=1019,\n",
       "               num_leaves=1513, random_state=110, verbose=-1)"
      ]
     },
     "execution_count": 104,
     "metadata": {},
     "output_type": "execute_result"
    }
   ],
   "source": [
    "# df_train 데이터로 학습\n",
    "df_train[\"target\"] = df_train[\"target\"].apply(lambda x: 1 if x == 'AbNormal' else 0)\n",
    "\n",
    "# features = df_train.columns.tolist()\n",
    "\n",
    "train_x = df_train.drop(columns=[\"target\"])\n",
    "train_y = df_train[\"target\"]\n",
    "\n",
    "lgb_model.fit(train_x, train_y)"
   ]
  },
  {
   "cell_type": "code",
   "execution_count": 105,
   "id": "57006047",
   "metadata": {},
   "outputs": [
    {
     "name": "stdout",
     "output_type": "stream",
     "text": [
      "Confusion Matrix:\n",
      " [[7565   67]\n",
      " [ 410   60]]\n",
      "Accuracy: 0.9411\n",
      "Precision: 0.4724\n",
      "Recall: 0.1277\n",
      "F1 Score: 0.2010\n"
     ]
    }
   ],
   "source": [
    "# 검증 데이터 준비\n",
    "df_val[\"target\"] = df_val[\"target\"].apply(lambda x: 1 if x == 'AbNormal' else 0)\n",
    "\n",
    "val_x = df_val.drop(columns=[\"target\"])\n",
    "val_y = df_val[\"target\"]\n",
    "\n",
    "# 확률 예측\n",
    "y_pred_proba = lgb_model.predict_proba(val_x)[:, 1]  # 양성 클래스에 대한 확률\n",
    "\n",
    "# 모델 성능 평가\n",
    "get_clf_eval(val_y, y_pred_proba)\n"
   ]
  },
  {
   "cell_type": "markdown",
   "id": "2a04f8eb",
   "metadata": {},
   "source": [
    "분할한 데이터 -> 원래의 데이터(train data)로 학습한 새 모델 생성"
   ]
  },
  {
   "cell_type": "code",
   "execution_count": 106,
   "id": "77e7ce98",
   "metadata": {},
   "outputs": [
    {
     "data": {
      "text/html": [
       "<style>#sk-container-id-2 {color: black;}#sk-container-id-2 pre{padding: 0;}#sk-container-id-2 div.sk-toggleable {background-color: white;}#sk-container-id-2 label.sk-toggleable__label {cursor: pointer;display: block;width: 100%;margin-bottom: 0;padding: 0.3em;box-sizing: border-box;text-align: center;}#sk-container-id-2 label.sk-toggleable__label-arrow:before {content: \"▸\";float: left;margin-right: 0.25em;color: #696969;}#sk-container-id-2 label.sk-toggleable__label-arrow:hover:before {color: black;}#sk-container-id-2 div.sk-estimator:hover label.sk-toggleable__label-arrow:before {color: black;}#sk-container-id-2 div.sk-toggleable__content {max-height: 0;max-width: 0;overflow: hidden;text-align: left;background-color: #f0f8ff;}#sk-container-id-2 div.sk-toggleable__content pre {margin: 0.2em;color: black;border-radius: 0.25em;background-color: #f0f8ff;}#sk-container-id-2 input.sk-toggleable__control:checked~div.sk-toggleable__content {max-height: 200px;max-width: 100%;overflow: auto;}#sk-container-id-2 input.sk-toggleable__control:checked~label.sk-toggleable__label-arrow:before {content: \"▾\";}#sk-container-id-2 div.sk-estimator input.sk-toggleable__control:checked~label.sk-toggleable__label {background-color: #d4ebff;}#sk-container-id-2 div.sk-label input.sk-toggleable__control:checked~label.sk-toggleable__label {background-color: #d4ebff;}#sk-container-id-2 input.sk-hidden--visually {border: 0;clip: rect(1px 1px 1px 1px);clip: rect(1px, 1px, 1px, 1px);height: 1px;margin: -1px;overflow: hidden;padding: 0;position: absolute;width: 1px;}#sk-container-id-2 div.sk-estimator {font-family: monospace;background-color: #f0f8ff;border: 1px dotted black;border-radius: 0.25em;box-sizing: border-box;margin-bottom: 0.5em;}#sk-container-id-2 div.sk-estimator:hover {background-color: #d4ebff;}#sk-container-id-2 div.sk-parallel-item::after {content: \"\";width: 100%;border-bottom: 1px solid gray;flex-grow: 1;}#sk-container-id-2 div.sk-label:hover label.sk-toggleable__label {background-color: #d4ebff;}#sk-container-id-2 div.sk-serial::before {content: \"\";position: absolute;border-left: 1px solid gray;box-sizing: border-box;top: 0;bottom: 0;left: 50%;z-index: 0;}#sk-container-id-2 div.sk-serial {display: flex;flex-direction: column;align-items: center;background-color: white;padding-right: 0.2em;padding-left: 0.2em;position: relative;}#sk-container-id-2 div.sk-item {position: relative;z-index: 1;}#sk-container-id-2 div.sk-parallel {display: flex;align-items: stretch;justify-content: center;background-color: white;position: relative;}#sk-container-id-2 div.sk-item::before, #sk-container-id-2 div.sk-parallel-item::before {content: \"\";position: absolute;border-left: 1px solid gray;box-sizing: border-box;top: 0;bottom: 0;left: 50%;z-index: -1;}#sk-container-id-2 div.sk-parallel-item {display: flex;flex-direction: column;z-index: 1;position: relative;background-color: white;}#sk-container-id-2 div.sk-parallel-item:first-child::after {align-self: flex-end;width: 50%;}#sk-container-id-2 div.sk-parallel-item:last-child::after {align-self: flex-start;width: 50%;}#sk-container-id-2 div.sk-parallel-item:only-child::after {width: 0;}#sk-container-id-2 div.sk-dashed-wrapped {border: 1px dashed gray;margin: 0 0.4em 0.5em 0.4em;box-sizing: border-box;padding-bottom: 0.4em;background-color: white;}#sk-container-id-2 div.sk-label label {font-family: monospace;font-weight: bold;display: inline-block;line-height: 1.2em;}#sk-container-id-2 div.sk-label-container {text-align: center;}#sk-container-id-2 div.sk-container {/* jupyter's `normalize.less` sets `[hidden] { display: none; }` but bootstrap.min.css set `[hidden] { display: none !important; }` so we also need the `!important` here to be able to override the default hidden behavior on the sphinx rendered scikit-learn.org. See: https://github.com/scikit-learn/scikit-learn/issues/21755 */display: inline-block !important;position: relative;}#sk-container-id-2 div.sk-text-repr-fallback {display: none;}</style><div id=\"sk-container-id-2\" class=\"sk-top-container\"><div class=\"sk-text-repr-fallback\"><pre>LGBMClassifier(boosting=&#x27;dart&#x27;, learning_rate=0.010329666890588058,\n",
       "               max_depth=115, min_child_samples=7, n_estimators=1019,\n",
       "               num_leaves=1513, random_state=110, verbose=-1)</pre><b>In a Jupyter environment, please rerun this cell to show the HTML representation or trust the notebook. <br />On GitHub, the HTML representation is unable to render, please try loading this page with nbviewer.org.</b></div><div class=\"sk-container\" hidden><div class=\"sk-item\"><div class=\"sk-estimator sk-toggleable\"><input class=\"sk-toggleable__control sk-hidden--visually\" id=\"sk-estimator-id-2\" type=\"checkbox\" checked><label for=\"sk-estimator-id-2\" class=\"sk-toggleable__label sk-toggleable__label-arrow\">LGBMClassifier</label><div class=\"sk-toggleable__content\"><pre>LGBMClassifier(boosting=&#x27;dart&#x27;, learning_rate=0.010329666890588058,\n",
       "               max_depth=115, min_child_samples=7, n_estimators=1019,\n",
       "               num_leaves=1513, random_state=110, verbose=-1)</pre></div></div></div></div></div>"
      ],
      "text/plain": [
       "LGBMClassifier(boosting='dart', learning_rate=0.010329666890588058,\n",
       "               max_depth=115, min_child_samples=7, n_estimators=1019,\n",
       "               num_leaves=1513, random_state=110, verbose=-1)"
      ]
     },
     "execution_count": 106,
     "metadata": {},
     "output_type": "execute_result"
    }
   ],
   "source": [
    "# df_train 데이터로 학습\n",
    "train_data[\"target\"] = train_data[\"target\"].apply(lambda x: 1 if x == 'AbNormal' else 0)\n",
    "\n",
    "train_x_all = train_data.drop(columns=[\"target\"])\n",
    "train_y_all = train_data[\"target\"]\n",
    "\n",
    "lgb_model.fit(train_x_all, train_y_all)"
   ]
  },
  {
   "cell_type": "code",
   "execution_count": 107,
   "id": "79a1cad9",
   "metadata": {},
   "outputs": [
    {
     "name": "stdout",
     "output_type": "stream",
     "text": [
      "224\n"
     ]
    }
   ],
   "source": [
    "# 예측에 필요한 데이터 분리\n",
    "x_test = test_data.drop([\"target\", \"Set ID\"], axis=1)\n",
    "\n",
    "# 테스트 데이터에 대한 예측 확률\n",
    "soft_voting_probs = lgb_model.predict_proba(x_test)[:, 1]\n",
    "\n",
    "# 스레숄드 조절\n",
    "threshold = 0.5 #default\n",
    "soft_voting_preds = [1 if prob >= threshold else 0 for prob in soft_voting_probs]\n",
    "\n",
    "# 테스트 데이터에서 AbNormal로 예측된 개수 출력\n",
    "print(sum(soft_voting_preds))"
   ]
  },
  {
   "cell_type": "markdown",
   "id": "59eee312",
   "metadata": {},
   "source": [
    "Public Score : 0.1824  "
   ]
  },
  {
   "cell_type": "code",
   "execution_count": 108,
   "id": "4fcf4f2c",
   "metadata": {},
   "outputs": [
    {
     "name": "stdout",
     "output_type": "stream",
     "text": [
      "1115\n"
     ]
    }
   ],
   "source": [
    "# 예측에 필요한 데이터 분리\n",
    "x_test = test_data.drop([\"target\", \"Set ID\"], axis=1)\n",
    "\n",
    "# 테스트 데이터에 대한 예측 확률\n",
    "soft_voting_probs = lgb_model.predict_proba(x_test)[:, 1]\n",
    "\n",
    "# 스레스홀드 조절\n",
    "threshold = 0.2\n",
    "soft_voting_preds = [1 if prob >= threshold else 0 for prob in soft_voting_probs]\n",
    "\n",
    "# 테스트 데이터에서 AbNormal로 예측된 개수 출력\n",
    "print(sum(soft_voting_preds))"
   ]
  },
  {
   "cell_type": "markdown",
   "id": "8ed08644",
   "metadata": {},
   "source": [
    "Public Score : 0.22095238095238093 "
   ]
  },
  {
   "cell_type": "code",
   "execution_count": 109,
   "id": "4ccb3574",
   "metadata": {},
   "outputs": [
    {
     "name": "stdout",
     "output_type": "stream",
     "text": [
      "1592\n"
     ]
    }
   ],
   "source": [
    "# 예측에 필요한 데이터 분리\n",
    "x_test = test_data.drop([\"target\", \"Set ID\"], axis=1)\n",
    "\n",
    "# 테스트 데이터에 대한 예측 확률\n",
    "soft_voting_probs = lgb_model.predict_proba(x_test)[:, 1]\n",
    "\n",
    "# 스레스홀드 조절\n",
    "threshold = 0.15\n",
    "soft_voting_preds = [1 if prob >= threshold else 0 for prob in soft_voting_probs]\n",
    "\n",
    "# 테스트 데이터에서 AbNormal로 예측된 개수 출력\n",
    "print(sum(soft_voting_preds))"
   ]
  },
  {
   "cell_type": "markdown",
   "id": "07ebf670",
   "metadata": {},
   "source": [
    "Public Score : 0.2152886115444618"
   ]
  },
  {
   "cell_type": "code",
   "execution_count": 110,
   "id": "717639bb",
   "metadata": {},
   "outputs": [
    {
     "name": "stdout",
     "output_type": "stream",
     "text": [
      "2671\n"
     ]
    }
   ],
   "source": [
    "# 예측에 필요한 데이터 분리\n",
    "x_test = test_data.drop([\"target\", \"Set ID\"], axis=1)\n",
    "\n",
    "# 테스트 데이터에 대한 예측 확률\n",
    "soft_voting_probs = lgb_model.predict_proba(x_test)[:, 1]\n",
    "\n",
    "# 스레스홀드 조절\n",
    "threshold = 0.1\n",
    "soft_voting_preds = [1 if prob >= threshold else 0 for prob in soft_voting_probs]\n",
    "\n",
    "# 테스트 데이터에서 AbNormal로 예측된 개수 출력\n",
    "print(sum(soft_voting_preds))"
   ]
  },
  {
   "cell_type": "markdown",
   "id": "9d8aafbc",
   "metadata": {},
   "source": [
    "Public Score : 0.18926397343663529"
   ]
  },
  {
   "cell_type": "markdown",
   "id": "dc62bd70",
   "metadata": {},
   "source": [
    "## 4. 제출하기\n"
   ]
  },
  {
   "cell_type": "markdown",
   "id": "bb62fd18",
   "metadata": {},
   "source": [
    "### 제출 파일 작성\n"
   ]
  },
  {
   "cell_type": "code",
   "execution_count": 111,
   "id": "335c16cb",
   "metadata": {},
   "outputs": [],
   "source": [
    "# 제출 데이터 읽어오기 (df_test는 전처리된 데이터가 저장됨)\n",
    "df_sub = pd.read_csv(\"C:/Users/KimDongyoung/Desktop/git_LGaimers5/Lg_aimers5/data/submission.csv\")\n",
    "df_sub[\"target\"] = soft_voting_preds\n",
    "\n",
    "# df_sub['target'] 값을 문자열 레이블로 변환\n",
    "df_sub['target'] = df_sub['target'].apply(lambda x: 'AbNormal' if x == 1 else 'Normal')\n",
    "\n",
    "# 제출 파일 저장\n",
    "df_sub.to_csv(\"submission.csv\", index=False)"
   ]
  },
  {
   "cell_type": "code",
   "execution_count": 112,
   "id": "676ad00b",
   "metadata": {},
   "outputs": [
    {
     "data": {
      "text/plain": [
       "target\n",
       "Normal      14690\n",
       "AbNormal     2671\n",
       "Name: count, dtype: int64"
      ]
     },
     "execution_count": 112,
     "metadata": {},
     "output_type": "execute_result"
    }
   ],
   "source": [
    "df_sub['target'].value_counts()"
   ]
  },
  {
   "cell_type": "code",
   "execution_count": 113,
   "id": "118326f4",
   "metadata": {},
   "outputs": [
    {
     "data": {
      "text/html": [
       "<div>\n",
       "<style scoped>\n",
       "    .dataframe tbody tr th:only-of-type {\n",
       "        vertical-align: middle;\n",
       "    }\n",
       "\n",
       "    .dataframe tbody tr th {\n",
       "        vertical-align: top;\n",
       "    }\n",
       "\n",
       "    .dataframe thead th {\n",
       "        text-align: right;\n",
       "    }\n",
       "</style>\n",
       "<table border=\"1\" class=\"dataframe\">\n",
       "  <thead>\n",
       "    <tr style=\"text-align: right;\">\n",
       "      <th></th>\n",
       "      <th>Set ID</th>\n",
       "      <th>target</th>\n",
       "    </tr>\n",
       "  </thead>\n",
       "  <tbody>\n",
       "    <tr>\n",
       "      <th>0</th>\n",
       "      <td>0001be084fbc4aaa9d921f39e595961b</td>\n",
       "      <td>Normal</td>\n",
       "    </tr>\n",
       "    <tr>\n",
       "      <th>1</th>\n",
       "      <td>0005bbd180064abd99e63f9ed3e1ac80</td>\n",
       "      <td>Normal</td>\n",
       "    </tr>\n",
       "    <tr>\n",
       "      <th>2</th>\n",
       "      <td>000948934c4140d883d670adcb609584</td>\n",
       "      <td>Normal</td>\n",
       "    </tr>\n",
       "    <tr>\n",
       "      <th>3</th>\n",
       "      <td>000a6bfd02874c6296dc7b2e9c5678a7</td>\n",
       "      <td>Normal</td>\n",
       "    </tr>\n",
       "    <tr>\n",
       "      <th>4</th>\n",
       "      <td>0018e78ce91343678716e2ea27a51c95</td>\n",
       "      <td>Normal</td>\n",
       "    </tr>\n",
       "    <tr>\n",
       "      <th>5</th>\n",
       "      <td>001fda4596f545d0a3b0ce85fbea77d2</td>\n",
       "      <td>Normal</td>\n",
       "    </tr>\n",
       "    <tr>\n",
       "      <th>6</th>\n",
       "      <td>0020734a7b29472298358ad58645a0c9</td>\n",
       "      <td>Normal</td>\n",
       "    </tr>\n",
       "    <tr>\n",
       "      <th>7</th>\n",
       "      <td>00234c5914cd4c4a888d13f8b3773135</td>\n",
       "      <td>Normal</td>\n",
       "    </tr>\n",
       "    <tr>\n",
       "      <th>8</th>\n",
       "      <td>00297b6c93e44d49ac534758a23dc74e</td>\n",
       "      <td>Normal</td>\n",
       "    </tr>\n",
       "    <tr>\n",
       "      <th>9</th>\n",
       "      <td>002d904240d84b188d410d16383a9c3a</td>\n",
       "      <td>Normal</td>\n",
       "    </tr>\n",
       "  </tbody>\n",
       "</table>\n",
       "</div>"
      ],
      "text/plain": [
       "                             Set ID  target\n",
       "0  0001be084fbc4aaa9d921f39e595961b  Normal\n",
       "1  0005bbd180064abd99e63f9ed3e1ac80  Normal\n",
       "2  000948934c4140d883d670adcb609584  Normal\n",
       "3  000a6bfd02874c6296dc7b2e9c5678a7  Normal\n",
       "4  0018e78ce91343678716e2ea27a51c95  Normal\n",
       "5  001fda4596f545d0a3b0ce85fbea77d2  Normal\n",
       "6  0020734a7b29472298358ad58645a0c9  Normal\n",
       "7  00234c5914cd4c4a888d13f8b3773135  Normal\n",
       "8  00297b6c93e44d49ac534758a23dc74e  Normal\n",
       "9  002d904240d84b188d410d16383a9c3a  Normal"
      ]
     },
     "execution_count": 113,
     "metadata": {},
     "output_type": "execute_result"
    }
   ],
   "source": [
    "df_sub.head(10)"
   ]
  },
  {
   "cell_type": "markdown",
   "id": "cf2f37ed",
   "metadata": {},
   "source": [
    "**우측 상단의 제출 버튼을 클릭해 결과를 확인하세요**\n"
   ]
  }
 ],
 "metadata": {
  "kernelspec": {
   "display_name": "Python 3 (ipykernel)",
   "language": "python",
   "name": "python3"
  },
  "language_info": {
   "codemirror_mode": {
    "name": "ipython",
    "version": 3
   },
   "file_extension": ".py",
   "mimetype": "text/x-python",
   "name": "python",
   "nbconvert_exporter": "python",
   "pygments_lexer": "ipython3",
   "version": "3.12.0"
  }
 },
 "nbformat": 4,
 "nbformat_minor": 5
}

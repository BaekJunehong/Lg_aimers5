{
 "cells": [
  {
   "cell_type": "markdown",
   "id": "017e9265",
   "metadata": {},
   "source": [
    "# 제품 이상여부 판별 프로젝트\n"
   ]
  },
  {
   "cell_type": "markdown",
   "id": "acdab431",
   "metadata": {},
   "source": [
    "## 1. 데이터 불러오기\n"
   ]
  },
  {
   "cell_type": "markdown",
   "id": "2b8341e8",
   "metadata": {},
   "source": [
    "### 필수 라이브러리\n"
   ]
  },
  {
   "cell_type": "code",
   "execution_count": 615,
   "id": "a315cc58",
   "metadata": {},
   "outputs": [],
   "source": [
    "import numpy as np\n",
    "import pandas as pd\n",
    "import matplotlib.pyplot as plt"
   ]
  },
  {
   "cell_type": "markdown",
   "id": "4d054e30",
   "metadata": {},
   "source": [
    "### 데이터 읽어오기\n"
   ]
  },
  {
   "cell_type": "code",
   "execution_count": 616,
   "id": "fc0b4d80",
   "metadata": {},
   "outputs": [],
   "source": [
    "RANDOM_STATE = 110\n",
    "\n",
    "train_data = pd.read_csv(\"../../data/trim_train_data.csv\")\n",
    "test_data = pd.read_csv(\"../../data/trim_test_data.csv\")"
   ]
  },
  {
   "cell_type": "markdown",
   "id": "e23d3595",
   "metadata": {},
   "source": [
    "---"
   ]
  },
  {
   "cell_type": "markdown",
   "id": "b54df9c3",
   "metadata": {},
   "source": [
    "반복적으로 쓰는 툴 함수화"
   ]
  },
  {
   "cell_type": "code",
   "execution_count": 617,
   "id": "09d2efa7",
   "metadata": {},
   "outputs": [],
   "source": [
    "def plot_box(dataframe, column_name):\n",
    "    \"\"\"\n",
    "    주어진 데이터프레임과 열 이름에 대해 박스 플롯을 그리는 함수.\n",
    "\n",
    "    Parameters:\n",
    "    dataframe (pd.DataFrame): 데이터프레임\n",
    "    column_name (str): 열 이름\n",
    "    \"\"\"\n",
    "    plt.figure(figsize=(10, 6))\n",
    "    plt.boxplot(dataframe[column_name], vert=False)\n",
    "    plt.xlabel(column_name)\n",
    "    plt.title(f'Box Plot of {column_name}')\n",
    "    plt.show()"
   ]
  },
  {
   "cell_type": "code",
   "execution_count": 618,
   "id": "7515da51",
   "metadata": {},
   "outputs": [],
   "source": [
    "import pandas as pd\n",
    "\n",
    "def value_counts_ratio_count(df, col_name, target_name):\n",
    "    \"\"\"\n",
    "    주어진 데이터프레임의 특정 열에 대해 각 값마다 타겟 변수의 비율과 갯수, 총 갯수를 출력하는 함수.\n",
    "\n",
    "    Parameters:\n",
    "    df (pd.DataFrame): 데이터프레임\n",
    "    col_name (str): 열 이름\n",
    "    target_name (str): 타겟 변수 이름\n",
    "    \"\"\"\n",
    "    # 각 값마다 타겟 변수의 비율 계산\n",
    "    value_counts = df.groupby(col_name)[target_name].value_counts(normalize=True).unstack().fillna(0)\n",
    "    \n",
    "    # 각 값마다 타겟 변수의 갯수 계산\n",
    "    counts = df.groupby(col_name)[target_name].value_counts().unstack().fillna(0)\n",
    "    \n",
    "    # 각 값마다 총 갯수 계산\n",
    "    total_counts = df[col_name].value_counts().rename('Total_Count')\n",
    "    \n",
    "    # 비율과 갯수를 합침\n",
    "    result = value_counts.join(counts, lsuffix='_ratio', rsuffix='_count')\n",
    "    \n",
    "    # 총 갯수를 합침\n",
    "    result = result.join(total_counts, on=col_name)\n",
    "    \n",
    "    # 출력 형식 조정\n",
    "    result.index.name = 'variable'\n",
    "    print(f\"\\n{col_name}별 {target_name} 비율 및 갯수\\n\")\n",
    "    print(result.rename(columns=lambda x: x.split('_')[0]))"
   ]
  },
  {
   "cell_type": "code",
   "execution_count": 619,
   "id": "9eed238d",
   "metadata": {},
   "outputs": [],
   "source": [
    "import pandas as pd\n",
    "\n",
    "def summarize_grouped_data(df, group_by_columns):\n",
    "    # 데이터프레임을 그룹화\n",
    "    grouped_df = df.groupby(group_by_columns)\n",
    "    \n",
    "    # 결과를 저장할 리스트 초기화\n",
    "    results = []\n",
    "    \n",
    "    # 그룹화된 데이터프레임의 내용을 확인하는 코드\n",
    "    for name, group in grouped_df:\n",
    "        # 그룹의 갯수 계산\n",
    "        group_count = group.shape[0]\n",
    "        \n",
    "        # 'target' 변수의 'AdNormal' 비율과 갯수 계산\n",
    "        adnormal_count = group['target'].value_counts().get('AbNormal', 0)\n",
    "        adnormal_ratio = adnormal_count / group_count\n",
    "        \n",
    "        # 결과 리스트에 추가\n",
    "        results.append([name, adnormal_count, adnormal_ratio, group_count])\n",
    "    \n",
    "    # 결과 리스트를 데이터프레임으로 변환\n",
    "    results_df = pd.DataFrame(results, columns=['group', \"'AdNormal' count\", 'ratio', 'Total'])\n",
    "    \n",
    "    # 그룹화된 변수들의 이름을 제목행으로 출력\n",
    "    print(f\"Grouped by: {', '.join(group_by_columns)}\")\n",
    "    print()\n",
    "    # 데이터프레임 출력\n",
    "    print(results_df)"
   ]
  },
  {
   "cell_type": "code",
   "execution_count": 620,
   "id": "f4bfbd22",
   "metadata": {},
   "outputs": [],
   "source": [
    "import pandas as pd\n",
    "import matplotlib.pyplot as plt\n",
    "\n",
    "def plot_abnormal_ratio(df, group_by_column, target_column, abnormal_value):\n",
    "    # 데이터프레임을 그룹화\n",
    "    grouped_df = df.groupby(group_by_column)\n",
    "    \n",
    "    # 결과를 저장할 리스트 초기화\n",
    "    results = []\n",
    "    \n",
    "    # 그룹화된 데이터프레임의 내용을 확인하는 코드\n",
    "    for name, group in grouped_df:\n",
    "        # 그룹의 갯수 계산\n",
    "        group_count = group.shape[0]\n",
    "        \n",
    "        # 'target' 변수의 'AbNormal' 비율과 갯수 계산\n",
    "        abnormal_count = group[target_column].value_counts().get(abnormal_value, 0)\n",
    "        abnormal_ratio = abnormal_count / group_count\n",
    "        \n",
    "        # 결과 리스트에 추가\n",
    "        results.append([name, abnormal_count, abnormal_ratio, group_count])\n",
    "    \n",
    "    # 결과 리스트를 데이터프레임으로 변환\n",
    "    results_df = pd.DataFrame(results, columns=['group', f\"'{abnormal_value}' count\", 'ratio', 'Total'])\n",
    "    \n",
    "    # 그래프 크기 설정\n",
    "    plt.figure(figsize=(12, 6))\n",
    "    \n",
    "    # 막대 그래프 생성\n",
    "    ax = results_df.plot(kind='bar', x='group', y='ratio', legend=False)\n",
    "    \n",
    "    # 각 막대 위에 AbNormal 갯수와 총 갯수 표시\n",
    "    for i, (abnormal_count, total) in enumerate(zip(results_df[f\"'{abnormal_value}' count\"], results_df['Total'])):\n",
    "        ax.text(i, results_df['ratio'][i], f'{abnormal_count} ({total})', ha='center', va='bottom', fontsize=8)\n",
    "    \n",
    "     # 그래프 제목 및 축 레이블 설정\n",
    "    ax.set_title(f'{abnormal_value} Ratio by {group_by_column}')\n",
    "    ax.set_xlabel(group_by_column)\n",
    "    ax.set_ylabel(f'{abnormal_value} Ratio')\n",
    "   \n",
    "    # 그래프 출력\n",
    "    plt.show()"
   ]
  },
  {
   "cell_type": "markdown",
   "id": "b0fbb1c8",
   "metadata": {},
   "source": [
    "---"
   ]
  },
  {
   "cell_type": "markdown",
   "id": "0906cc5f",
   "metadata": {},
   "source": [
    "## AutoClave"
   ]
  },
  {
   "cell_type": "code",
   "execution_count": 621,
   "id": "06b478d2",
   "metadata": {},
   "outputs": [],
   "source": [
    "# 오타인 변수명 변경\n",
    "train_data = train_data.rename(columns={'1st Pressure 1st Pressure Unit Time_AutoClave': '1st Pressure Unit Time_AutoClave'})\n",
    "test_data = test_data.rename(columns={'1st Pressure 1st Pressure Unit Time_AutoClave': '1st Pressure Unit Time_AutoClave'})"
   ]
  },
  {
   "cell_type": "code",
   "execution_count": 622,
   "id": "492769e3",
   "metadata": {},
   "outputs": [
    {
     "name": "stdout",
     "output_type": "stream",
     "text": [
      "필터링된 열 이름:\n",
      "Wip Line_AutoClave\n",
      "Process Desc._AutoClave\n",
      "Equipment_AutoClave\n",
      "Model.Suffix_AutoClave\n",
      "Workorder_AutoClave\n",
      "Insp. Seq No._AutoClave\n",
      "Insp Judge Code_AutoClave\n",
      "1st Pressure Collect Result_AutoClave\n",
      "1st Pressure Unit Time_AutoClave\n",
      "1st Pressure Judge Value_AutoClave\n",
      "2nd Pressure Collect Result_AutoClave\n",
      "2nd Pressure Unit Time_AutoClave\n",
      "2nd Pressure Judge Value_AutoClave\n",
      "3rd Pressure Collect Result_AutoClave\n",
      "3rd Pressure Unit Time_AutoClave\n",
      "3rd Pressure Judge Value_AutoClave\n",
      "Chamber Temp. Collect Result_AutoClave\n",
      "Chamber Temp. Unit Time_AutoClave\n",
      "Chamber Temp. Judge Value_AutoClave\n",
      "GMES_ORIGIN_INSP_JUDGE_CODE Collect Result_AutoClave\n",
      "GMES_ORIGIN_INSP_JUDGE_CODE Unit Time_AutoClave\n",
      "GMES_ORIGIN_INSP_JUDGE_CODE Judge Value_AutoClave\n"
     ]
    }
   ],
   "source": [
    "# '_AutoClave'를 포함하는 열 이름 필터링\n",
    "Process_Desc_col = train_data.filter(like='_AutoClave').columns\n",
    "\n",
    "# 필터링된 열 이름 출력\n",
    "print(\"필터링된 열 이름:\")\n",
    "for col in Process_Desc_col:\n",
    "    print(col)"
   ]
  },
  {
   "cell_type": "markdown",
   "id": "8b0fe3c8",
   "metadata": {},
   "source": [
    "fill 공정 관련 변수중 모든값이 결측값인 경우 drop"
   ]
  },
  {
   "cell_type": "code",
   "execution_count": 623,
   "id": "a24c1a4d",
   "metadata": {},
   "outputs": [],
   "source": [
    "# target 열을 임시로 분리\n",
    "target_train = train_data['target']\n",
    "target_test = test_data['target']\n",
    "\n",
    "# '_AutoClave'이 포함된 열만 필터링\n",
    "fill_columns_train = [col for col in train_data.columns if '_AutoClave' in col]\n",
    "fill_columns_test = [col for col in test_data.columns if '_AutoClave' in col]\n",
    "\n",
    "# 모든 값이 NaN인 '_fill' 열 제거\n",
    "train_data = train_data.drop(columns=[col for col in fill_columns_train if train_data[col].isna().all()])\n",
    "test_data = test_data.drop(columns=[col for col in fill_columns_test if test_data[col].isna().all()])\n",
    "\n",
    "# target 열을 다시 결합\n",
    "train_data['target'] = target_train\n",
    "test_data['target'] = target_test"
   ]
  },
  {
   "cell_type": "code",
   "execution_count": 624,
   "id": "3ef0a419",
   "metadata": {},
   "outputs": [
    {
     "name": "stdout",
     "output_type": "stream",
     "text": [
      "필터링된 열 이름:\n",
      "Wip Line_AutoClave\n",
      "Process Desc._AutoClave\n",
      "Equipment_AutoClave\n",
      "Model.Suffix_AutoClave\n",
      "Workorder_AutoClave\n",
      "Insp. Seq No._AutoClave\n",
      "Insp Judge Code_AutoClave\n",
      "1st Pressure Collect Result_AutoClave\n",
      "1st Pressure Unit Time_AutoClave\n",
      "1st Pressure Judge Value_AutoClave\n",
      "2nd Pressure Collect Result_AutoClave\n",
      "2nd Pressure Unit Time_AutoClave\n",
      "2nd Pressure Judge Value_AutoClave\n",
      "3rd Pressure Collect Result_AutoClave\n",
      "3rd Pressure Unit Time_AutoClave\n",
      "3rd Pressure Judge Value_AutoClave\n",
      "Chamber Temp. Collect Result_AutoClave\n",
      "Chamber Temp. Unit Time_AutoClave\n",
      "Chamber Temp. Judge Value_AutoClave\n",
      "GMES_ORIGIN_INSP_JUDGE_CODE Collect Result_AutoClave\n",
      "GMES_ORIGIN_INSP_JUDGE_CODE Judge Value_AutoClave\n"
     ]
    }
   ],
   "source": [
    "# '_AutoClave'를 포함하는 열 이름 필터링\n",
    "Process_Desc_col = train_data.filter(like='_AutoClave').columns\n",
    "\n",
    "# 필터링된 열 이름 출력\n",
    "print(\"필터링된 열 이름:\")\n",
    "for col in Process_Desc_col:\n",
    "    print(col)"
   ]
  },
  {
   "cell_type": "code",
   "execution_count": 625,
   "id": "1724aa1c",
   "metadata": {},
   "outputs": [
    {
     "name": "stdout",
     "output_type": "stream",
     "text": [
      "\n",
      "Wip Line_AutoClave별 target 비율 및 갯수\n",
      "\n",
      "          AbNormal    Normal  AbNormal  Normal  Total\n",
      "variable                                             \n",
      "IVI-OB6   0.058016  0.941984      2350   38156  40506\n"
     ]
    }
   ],
   "source": [
    "value_counts_ratio_count(train_data, 'Wip Line_AutoClave', 'target')"
   ]
  },
  {
   "cell_type": "code",
   "execution_count": 626,
   "id": "aa0ad53a",
   "metadata": {},
   "outputs": [
    {
     "name": "stdout",
     "output_type": "stream",
     "text": [
      "\n",
      "Process Desc._AutoClave별 target 비율 및 갯수\n",
      "\n",
      "                AbNormal    Normal  AbNormal  Normal  Total\n",
      "variable                                                   \n",
      "Auto Clave Out  0.058016  0.941984      2350   38156  40506\n"
     ]
    }
   ],
   "source": [
    "value_counts_ratio_count(train_data, 'Process Desc._AutoClave', 'target')"
   ]
  },
  {
   "cell_type": "code",
   "execution_count": 627,
   "id": "1ffd9871",
   "metadata": {},
   "outputs": [
    {
     "name": "stdout",
     "output_type": "stream",
     "text": [
      "\n",
      "Equipment_AutoClave별 target 비율 및 갯수\n",
      "\n",
      "                AbNormal    Normal  AbNormal  Normal  Total\n",
      "variable                                                   \n",
      "Auto Clave Out  0.058016  0.941984      2350   38156  40506\n"
     ]
    }
   ],
   "source": [
    "value_counts_ratio_count(train_data, 'Equipment_AutoClave', 'target')"
   ]
  },
  {
   "cell_type": "markdown",
   "id": "337c3cc1",
   "metadata": {},
   "source": [
    "단일 고윳값 제거"
   ]
  },
  {
   "cell_type": "code",
   "execution_count": 628,
   "id": "f38b8c2c",
   "metadata": {},
   "outputs": [],
   "source": [
    "# 삭제할 열 이름 정의\n",
    "columns_to_drop = [\n",
    "    'Wip Line_AutoClave'\n",
    "    , 'Process Desc._AutoClave'\n",
    "    , 'Equipment_AutoClave'\n",
    "]\n",
    "\n",
    "# train_data에서 열 삭제\n",
    "train_data = train_data.drop(columns=columns_to_drop)\n",
    "\n",
    "# test_data에서 열 삭제\n",
    "test_data = test_data.drop(columns=columns_to_drop)"
   ]
  },
  {
   "cell_type": "code",
   "execution_count": 629,
   "id": "7a527eaa",
   "metadata": {},
   "outputs": [
    {
     "name": "stdout",
     "output_type": "stream",
     "text": [
      "필터링된 열 이름:\n",
      "Model.Suffix_AutoClave\n",
      "Workorder_AutoClave\n",
      "Insp. Seq No._AutoClave\n",
      "Insp Judge Code_AutoClave\n",
      "1st Pressure Collect Result_AutoClave\n",
      "1st Pressure Unit Time_AutoClave\n",
      "1st Pressure Judge Value_AutoClave\n",
      "2nd Pressure Collect Result_AutoClave\n",
      "2nd Pressure Unit Time_AutoClave\n",
      "2nd Pressure Judge Value_AutoClave\n",
      "3rd Pressure Collect Result_AutoClave\n",
      "3rd Pressure Unit Time_AutoClave\n",
      "3rd Pressure Judge Value_AutoClave\n",
      "Chamber Temp. Collect Result_AutoClave\n",
      "Chamber Temp. Unit Time_AutoClave\n",
      "Chamber Temp. Judge Value_AutoClave\n",
      "GMES_ORIGIN_INSP_JUDGE_CODE Collect Result_AutoClave\n",
      "GMES_ORIGIN_INSP_JUDGE_CODE Judge Value_AutoClave\n"
     ]
    }
   ],
   "source": [
    "# '_AutoClave'를 포함하는 열 이름 필터링\n",
    "Process_Desc_col = train_data.filter(like='_AutoClave').columns\n",
    "\n",
    "# 필터링된 열 이름 출력\n",
    "print(\"필터링된 열 이름:\")\n",
    "for col in Process_Desc_col:\n",
    "    print(col)"
   ]
  },
  {
   "cell_type": "code",
   "execution_count": 630,
   "id": "e6ee1771",
   "metadata": {},
   "outputs": [
    {
     "name": "stdout",
     "output_type": "stream",
     "text": [
      "\n",
      "Model.Suffix_AutoClave별 target 비율 및 갯수\n",
      "\n",
      "             AbNormal    Normal  AbNormal  Normal  Total\n",
      "variable                                                \n",
      "AJX75334501  0.056712  0.943288      1918   31902  33820\n",
      "AJX75334502  0.067847  0.932153       230    3160   3390\n",
      "AJX75334503  0.271605  0.728395        44     118    162\n",
      "AJX75334505  0.049336  0.950664       130    2505   2635\n",
      "AJX75334506  0.062016  0.937984         8     121    129\n",
      "AJX75334507  0.058065  0.941935        18     292    310\n",
      "AJX75334508  0.033333  0.966667         2      58     60\n"
     ]
    }
   ],
   "source": [
    "value_counts_ratio_count(train_data, 'Model.Suffix_AutoClave', 'target')"
   ]
  },
  {
   "cell_type": "code",
   "execution_count": 631,
   "id": "0b301d35",
   "metadata": {},
   "outputs": [
    {
     "name": "stdout",
     "output_type": "stream",
     "text": [
      "\n",
      "Workorder_AutoClave별 target 비율 및 갯수\n",
      "\n",
      "            AbNormal    Normal  AbNormal  Normal  Total\n",
      "variable                                               \n",
      "3F1X5847-2  0.113208  0.886792      12.0    94.0    106\n",
      "3F1X9643-1  0.047619  0.952381       7.0   140.0    147\n",
      "3F1X9644-1  0.101911  0.898089      16.0   141.0    157\n",
      "3F1X9648-1  0.062500  0.937500      10.0   150.0    160\n",
      "3F1X9648-2  0.055556  0.944444       1.0    17.0     18\n",
      "...              ...       ...       ...     ...    ...\n",
      "4F1XB043-1  0.037037  0.962963       1.0    26.0     27\n",
      "4F1XB596-1  0.020833  0.979167       3.0   141.0    144\n",
      "4F1XB738-1  0.000000  1.000000       0.0    18.0     18\n",
      "4F1XB758-1  0.025974  0.974026       2.0    75.0     77\n",
      "4F1XB758-2  0.222222  0.777778      10.0    35.0     45\n",
      "\n",
      "[663 rows x 5 columns]\n"
     ]
    }
   ],
   "source": [
    "value_counts_ratio_count(train_data, 'Workorder_AutoClave', 'target')"
   ]
  },
  {
   "cell_type": "code",
   "execution_count": 632,
   "id": "bea3acb8",
   "metadata": {},
   "outputs": [],
   "source": [
    "import pandas as pd\n",
    "\n",
    "# 'Workorder_AutoClave' 열에서 '-' 다음 숫자 값 추출 및 '000' 제거\n",
    "train_data['Workorder_AutoClave'] = train_data['Workorder_AutoClave'].str.replace(r'-(\\d+)', lambda x: '-' + x.group(1).lstrip('0'), regex=True)"
   ]
  },
  {
   "cell_type": "markdown",
   "id": "b316f771",
   "metadata": {},
   "source": [
    "xxxxx-0001 -> xxxxx-1 변환 코드"
   ]
  },
  {
   "cell_type": "code",
   "execution_count": 633,
   "id": "3c7d1940",
   "metadata": {},
   "outputs": [
    {
     "name": "stdout",
     "output_type": "stream",
     "text": [
      "\n",
      "Insp. Seq No._AutoClave별 target 비율 및 갯수\n",
      "\n",
      "          AbNormal    Normal  AbNormal  Normal  Total\n",
      "variable                                             \n",
      "1         0.058016  0.941984      2350   38156  40506\n"
     ]
    }
   ],
   "source": [
    "value_counts_ratio_count(train_data, 'Insp. Seq No._AutoClave', 'target')"
   ]
  },
  {
   "cell_type": "code",
   "execution_count": 634,
   "id": "90db3869",
   "metadata": {},
   "outputs": [
    {
     "name": "stdout",
     "output_type": "stream",
     "text": [
      "\n",
      "Insp Judge Code_AutoClave별 target 비율 및 갯수\n",
      "\n",
      "          AbNormal    Normal  AbNormal  Normal  Total\n",
      "variable                                             \n",
      "OK        0.058016  0.941984      2350   38156  40506\n"
     ]
    }
   ],
   "source": [
    "value_counts_ratio_count(train_data, 'Insp Judge Code_AutoClave', 'target')"
   ]
  },
  {
   "cell_type": "code",
   "execution_count": 635,
   "id": "ffb2a13b",
   "metadata": {},
   "outputs": [
    {
     "name": "stdout",
     "output_type": "stream",
     "text": [
      "Grouped by: Insp. Seq No._AutoClave, Insp Judge Code_AutoClave\n",
      "\n",
      "     group  'AdNormal' count     ratio  Total\n",
      "0  (1, OK)              2350  0.058016  40506\n"
     ]
    }
   ],
   "source": [
    "import pandas as pd\n",
    "\n",
    "# # pandas 출력 옵션 설정\n",
    "# pd.set_option('display.max_rows', None)\n",
    "# pd.set_option('display.max_columns', None)\n",
    "# pd.set_option('display.width', None)\n",
    "# pd.set_option('display.max_colwidth', None)\n",
    "\n",
    "# # 데이터 요약\n",
    "summary_df = summarize_grouped_data(train_data, [\n",
    "    'Insp. Seq No._AutoClave'\n",
    "    , 'Insp Judge Code_AutoClave'\n",
    "    ])"
   ]
  },
  {
   "cell_type": "markdown",
   "id": "0c795d5d",
   "metadata": {},
   "source": [
    "Insp. Seq No._AutoClave, Insp Judge Code_AutoClave 둘다 단일 고윳값  \n",
    "-> drop"
   ]
  },
  {
   "cell_type": "code",
   "execution_count": 636,
   "id": "9aa57660",
   "metadata": {},
   "outputs": [],
   "source": [
    "# 삭제할 열 이름 정의\n",
    "columns_to_drop = [\n",
    "    'Insp. Seq No._AutoClave'\n",
    "    , 'Insp Judge Code_AutoClave'\n",
    "    ]\n",
    "\n",
    "# train_data에서 열 삭제\n",
    "train_data = train_data.drop(columns=columns_to_drop)\n",
    "\n",
    "# test_data에서 열 삭제\n",
    "test_data = test_data.drop(columns=columns_to_drop)"
   ]
  },
  {
   "cell_type": "code",
   "execution_count": 637,
   "id": "fbbf5982",
   "metadata": {},
   "outputs": [
    {
     "name": "stdout",
     "output_type": "stream",
     "text": [
      "필터링된 열 이름:\n",
      "Model.Suffix_AutoClave\n",
      "Workorder_AutoClave\n",
      "1st Pressure Collect Result_AutoClave\n",
      "1st Pressure Unit Time_AutoClave\n",
      "1st Pressure Judge Value_AutoClave\n",
      "2nd Pressure Collect Result_AutoClave\n",
      "2nd Pressure Unit Time_AutoClave\n",
      "2nd Pressure Judge Value_AutoClave\n",
      "3rd Pressure Collect Result_AutoClave\n",
      "3rd Pressure Unit Time_AutoClave\n",
      "3rd Pressure Judge Value_AutoClave\n",
      "Chamber Temp. Collect Result_AutoClave\n",
      "Chamber Temp. Unit Time_AutoClave\n",
      "Chamber Temp. Judge Value_AutoClave\n",
      "GMES_ORIGIN_INSP_JUDGE_CODE Collect Result_AutoClave\n",
      "GMES_ORIGIN_INSP_JUDGE_CODE Judge Value_AutoClave\n"
     ]
    }
   ],
   "source": [
    "# '_AutoClave'를 포함하는 열 이름 필터링\n",
    "Process_Desc_col = train_data.filter(like='_AutoClave').columns\n",
    "\n",
    "# 필터링된 열 이름 출력\n",
    "print(\"필터링된 열 이름:\")\n",
    "for col in Process_Desc_col:\n",
    "    print(col)"
   ]
  },
  {
   "cell_type": "markdown",
   "id": "367125ae",
   "metadata": {},
   "source": [
    "분석에 앞서 OK 값을 가지는 변수들에 대한 처리를 먼저 진행"
   ]
  },
  {
   "cell_type": "code",
   "execution_count": 645,
   "id": "41de0184",
   "metadata": {},
   "outputs": [
    {
     "name": "stdout",
     "output_type": "stream",
     "text": [
      "Grouped by: 1st Pressure Judge Value_AutoClave, 2nd Pressure Judge Value_AutoClave, 3rd Pressure Judge Value_AutoClave\n",
      "\n",
      "          group  'AdNormal' count     ratio  Total\n",
      "0  (OK, OK, OK)              2350  0.058016  40506\n"
     ]
    }
   ],
   "source": [
    "summarize_grouped_data(train_data, [\n",
    "    '1st Pressure Judge Value_AutoClave'\n",
    "    , '2nd Pressure Judge Value_AutoClave'\n",
    "    , '3rd Pressure Judge Value_AutoClave'])"
   ]
  },
  {
   "cell_type": "markdown",
   "id": "e44cfb01",
   "metadata": {},
   "source": [
    "모든 값 OK 값 -> drop"
   ]
  },
  {
   "cell_type": "code",
   "execution_count": 646,
   "id": "638cca75",
   "metadata": {},
   "outputs": [],
   "source": [
    "# 삭제하려는 열 목록\n",
    "columns_to_drop = [\n",
    "    '1st Pressure Judge Value_AutoClave'\n",
    "    , '2nd Pressure Judge Value_AutoClave'\n",
    "    , '3rd Pressure Judge Value_AutoClave']\n",
    "\n",
    "# train_data에서 열 삭제\n",
    "train_data = train_data.drop(columns=[col for col in columns_to_drop if col in train_data.columns])\n",
    "\n",
    "# test_data에서 열 삭제\n",
    "test_data = test_data.drop(columns=[col for col in columns_to_drop if col in test_data.columns])"
   ]
  },
  {
   "cell_type": "markdown",
   "id": "3e29feb7",
   "metadata": {},
   "source": [
    "4개의 변수 모두 동일 행에 대해서 ok 값을 가짐"
   ]
  },
  {
   "cell_type": "code",
   "execution_count": 647,
   "id": "959c427d",
   "metadata": {},
   "outputs": [
    {
     "name": "stdout",
     "output_type": "stream",
     "text": [
      "Grouped by: GMES_ORIGIN_INSP_JUDGE_CODE Collect Result_AutoClave, GMES_ORIGIN_INSP_JUDGE_CODE Judge Value_AutoClave\n",
      "\n",
      "      group  'AdNormal' count     ratio  Total\n",
      "0  (OK, OK)               496  0.043921  11293\n"
     ]
    }
   ],
   "source": [
    "summarize_grouped_data(train_data, [\n",
    "    'GMES_ORIGIN_INSP_JUDGE_CODE Collect Result_AutoClave'\n",
    "    ,'GMES_ORIGIN_INSP_JUDGE_CODE Judge Value_AutoClave'])"
   ]
  },
  {
   "cell_type": "markdown",
   "id": "fd852c83",
   "metadata": {},
   "source": [
    "위의 Ok 값은 초기 밀려진 데이터에 대해서 생성된 값으로 판단  \n",
    "-> drop"
   ]
  },
  {
   "cell_type": "code",
   "execution_count": 648,
   "id": "581ae995",
   "metadata": {},
   "outputs": [],
   "source": [
    "# 삭제하려는 열 목록\n",
    "columns_to_drop = [\n",
    "    'GMES_ORIGIN_INSP_JUDGE_CODE Collect Result_AutoClave'\n",
    "    , 'GMES_ORIGIN_INSP_JUDGE_CODE Judge Value_AutoClave']\n",
    "\n",
    "# train_data에서 열 삭제\n",
    "train_data = train_data.drop(columns=[col for col in columns_to_drop if col in train_data.columns])\n",
    "\n",
    "# test_data에서 열 삭제\n",
    "test_data = test_data.drop(columns=[col for col in columns_to_drop if col in test_data.columns])"
   ]
  },
  {
   "cell_type": "code",
   "execution_count": 649,
   "id": "67d29b8c",
   "metadata": {},
   "outputs": [
    {
     "data": {
      "text/plain": [
       "OK    29112\n",
       "NG    11394\n",
       "Name: Chamber Temp. Judge Value_AutoClave, dtype: int64"
      ]
     },
     "execution_count": 649,
     "metadata": {},
     "output_type": "execute_result"
    }
   ],
   "source": [
    "train_data['Chamber Temp. Judge Value_AutoClave'].value_counts()"
   ]
  },
  {
   "cell_type": "markdown",
   "id": "0379378a",
   "metadata": {},
   "source": [
    "Chamber Temp. Judge Value_AutoClave 변수명 Chamber_Temp_OKNG_AutoClave으로 변경  \n",
    "-> 변수명 간결화 목적"
   ]
  },
  {
   "cell_type": "code",
   "execution_count": 652,
   "id": "833f8bf6",
   "metadata": {},
   "outputs": [],
   "source": [
    "# 'Chamber_Temp_OKNG_AutoClave' 변수 추가\n",
    "train_data['Chamber_Temp_OKNG_AutoClave'] = train_data['Chamber Temp. Judge Value_AutoClave']\n",
    "test_data['Chamber_Temp_OKNG_AutoClave'] = test_data['Chamber Temp. Judge Value_AutoClave']\n",
    "\n",
    "# 'Chamber Temp. Judge Value_AutoClave' 열 삭제\n",
    "train_data.drop(columns=['Chamber Temp. Judge Value_AutoClave'], inplace=True)\n",
    "test_data.drop(columns=['Chamber Temp. Judge Value_AutoClave'], inplace=True)"
   ]
  },
  {
   "cell_type": "code",
   "execution_count": 654,
   "id": "d6be4731",
   "metadata": {},
   "outputs": [
    {
     "name": "stdout",
     "output_type": "stream",
     "text": [
      "필터링된 열 이름:\n",
      "Model.Suffix_AutoClave\n",
      "Workorder_AutoClave\n",
      "1st Pressure Collect Result_AutoClave\n",
      "1st Pressure Unit Time_AutoClave\n",
      "2nd Pressure Collect Result_AutoClave\n",
      "2nd Pressure Unit Time_AutoClave\n",
      "3rd Pressure Collect Result_AutoClave\n",
      "3rd Pressure Unit Time_AutoClave\n",
      "Chamber Temp. Collect Result_AutoClave\n",
      "Chamber Temp. Unit Time_AutoClave\n",
      "Chamber_Temp_OKNG_AutoClave\n"
     ]
    }
   ],
   "source": [
    "# '_AutoClave'를 포함하는 열 이름 필터링\n",
    "Process_Desc_col = train_data.filter(like='_AutoClave').columns\n",
    "\n",
    "# 필터링된 열 이름 출력\n",
    "print(\"필터링된 열 이름:\")\n",
    "for col in Process_Desc_col:\n",
    "    print(col)"
   ]
  }
 ],
 "metadata": {
  "kernelspec": {
   "display_name": "Python 3 (ipykernel)",
   "language": "python",
   "name": "python3"
  },
  "language_info": {
   "codemirror_mode": {
    "name": "ipython",
    "version": 3
   },
   "file_extension": ".py",
   "mimetype": "text/x-python",
   "name": "python",
   "nbconvert_exporter": "python",
   "pygments_lexer": "ipython3",
   "version": "3.7.8"
  }
 },
 "nbformat": 4,
 "nbformat_minor": 5
}

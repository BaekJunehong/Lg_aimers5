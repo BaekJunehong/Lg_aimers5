{
 "cells": [
  {
   "cell_type": "markdown",
   "id": "017e9265",
   "metadata": {},
   "source": [
    "# 제품 이상여부 판별 프로젝트\n"
   ]
  },
  {
   "cell_type": "markdown",
   "id": "acdab431",
   "metadata": {},
   "source": [
    "## 1. 데이터 불러오기\n"
   ]
  },
  {
   "cell_type": "markdown",
   "id": "2b8341e8",
   "metadata": {},
   "source": [
    "### 필수 라이브러리\n"
   ]
  },
  {
   "cell_type": "code",
   "execution_count": 10,
   "id": "a315cc58",
   "metadata": {},
   "outputs": [],
   "source": [
    "import os\n",
    "from pprint import pprint\n",
    "\n",
    "import numpy as np\n",
    "import pandas as pd\n",
    "from sklearn.ensemble import RandomForestClassifier\n",
    "from sklearn.metrics import (\n",
    "    accuracy_score,\n",
    "    classification_report,\n",
    "    confusion_matrix,\n",
    "    f1_score,\n",
    "    precision_score,\n",
    "    recall_score,\n",
    ")\n",
    "from sklearn.model_selection import train_test_split\n",
    "from tqdm import tqdm"
   ]
  },
  {
   "cell_type": "markdown",
   "id": "4d054e30",
   "metadata": {},
   "source": [
    "### 데이터 읽어오기\n"
   ]
  },
  {
   "cell_type": "code",
   "execution_count": 11,
   "id": "43bcdbd4",
   "metadata": {},
   "outputs": [],
   "source": [
    "train_data = pd.read_csv(\"train.csv\")\n",
    "test_data = pd.read_csv(\"test.csv\")"
   ]
  },
  {
   "cell_type": "code",
   "execution_count": 12,
   "id": "ef5fde5f",
   "metadata": {},
   "outputs": [],
   "source": [
    "small_train = train_data.head(10)\n",
    "small_test = test_data.head(10)"
   ]
  },
  {
   "cell_type": "code",
   "execution_count": 13,
   "id": "79441e5a",
   "metadata": {},
   "outputs": [],
   "source": [
    "small_train.to_csv('small_train.csv', index=False)\n",
    "small_test.to_csv('small_test.csv', index=False)"
   ]
  },
  {
   "cell_type": "code",
   "execution_count": 14,
   "id": "a10196fd",
   "metadata": {},
   "outputs": [
    {
     "name": "stdout",
     "output_type": "stream",
     "text": [
      "<class 'pandas.core.frame.DataFrame'>\n",
      "RangeIndex: 10 entries, 0 to 9\n",
      "Columns: 464 entries, Wip Line_Dam to target\n",
      "dtypes: float64(350), int64(77), object(37)\n",
      "memory usage: 36.4+ KB\n"
     ]
    }
   ],
   "source": [
    "small_train.info()"
   ]
  },
  {
   "cell_type": "code",
   "execution_count": 15,
   "id": "6173f798",
   "metadata": {},
   "outputs": [
    {
     "name": "stdout",
     "output_type": "stream",
     "text": [
      "<class 'pandas.core.frame.DataFrame'>\n",
      "RangeIndex: 10 entries, 0 to 9\n",
      "Columns: 465 entries, Set ID to target\n",
      "dtypes: float64(351), int64(77), object(37)\n",
      "memory usage: 36.5+ KB\n"
     ]
    }
   ],
   "source": [
    "small_test.info()"
   ]
  },
  {
   "cell_type": "code",
   "execution_count": 16,
   "id": "d26ed0aa",
   "metadata": {},
   "outputs": [
    {
     "name": "stdout",
     "output_type": "stream",
     "text": [
      "데이터가 성공적으로 수정되고 저장되었습니다.\n"
     ]
    }
   ],
   "source": [
    "import pandas as pd\n",
    "\n",
    "# CSV 파일 읽기\n",
    "# small_data = pd.read_csv(\"train.csv\")\n",
    "\n",
    "def shift_values(data, start_col_index, move_limit):\n",
    "    for index, row in data.iterrows():\n",
    "        move_count = 0  # 이동 카운터 초기화\n",
    "        for col_index in range(start_col_index, data.shape[1]):  # 모든 열을 대상으로\n",
    "            if pd.isna(row[col_index]) or row[col_index] == \"OK\":  # 빈값 또는 \"OK\" 확인\n",
    "                # 빈값 또는 \"OK\"가 발견되면 현재 위치부터 이후 3칸 간격의 변수 값을 앞으로 이동\n",
    "                for shift_index in range(col_index, data.shape[1] - 3, 3):  # 3칸씩 이동\n",
    "                    # 값을 이동\n",
    "                    data.iloc[index, shift_index] = data.iloc[index, shift_index + 3]\n",
    "                    data.iloc[index, shift_index + 3] = None  # 원래 자리 비우기\n",
    "                    move_count += 1  # 이동 카운트 증가\n",
    "\n",
    "                    if move_count >= move_limit:  # 설정된 횟수에 도달하면 중지\n",
    "                        break\n",
    "            if move_count >= move_limit:  # 외부 루프에서도 체크\n",
    "                break\n",
    "\n",
    "# 변수 이름 설정 및 시작 열 인덱스 및 이동 횟수 설정\n",
    "variables_with_limits = [\n",
    "    ('HEAD NORMAL COORDINATE X AXIS(Stage1) Collect Result_Dam', 52),\n",
    "    ('HEAD NORMAL COORDINATE X AXIS(Stage1) Collect Result_Fill1', 22),\n",
    "    ('HEAD NORMAL COORDINATE X AXIS(Stage1) Collect Result_Fill2', 22)\n",
    "]\n",
    "\n",
    "# 각 변수에 대해 함수 호출\n",
    "for start_var, move_limit in variables_with_limits:\n",
    "    start_col_index = small_train.columns.get_loc(start_var)  # 각 변수의 시작 열 인덱스 찾기\n",
    "    shift_values(small_train, start_col_index, move_limit)\n",
    "\n",
    "# 수정된 데이터 저장\n",
    "small_train.to_csv('trim_small_train.csv', index=False)\n",
    "\n",
    "print('데이터가 성공적으로 수정되고 저장되었습니다.')\n"
   ]
  },
  {
   "cell_type": "code",
   "execution_count": 17,
   "id": "ea7fe330",
   "metadata": {},
   "outputs": [
    {
     "name": "stdout",
     "output_type": "stream",
     "text": [
      "데이터가 성공적으로 수정되고 저장되었습니다.\n"
     ]
    }
   ],
   "source": [
    "import pandas as pd\n",
    "\n",
    "# CSV 파일 읽기\n",
    "# small_data = pd.read_csv(\"train.csv\")\n",
    "\n",
    "def shift_values(data, start_col_index, move_limit):\n",
    "    for index, row in data.iterrows():\n",
    "        move_count = 0  # 이동 카운터 초기화\n",
    "        for col_index in range(start_col_index, data.shape[1]):  # 모든 열을 대상으로\n",
    "            if pd.isna(row[col_index]) or row[col_index] == \"OK\":  # 빈값 또는 \"OK\" 확인\n",
    "                # 빈값 또는 \"OK\"가 발견되면 현재 위치부터 이후 3칸 간격의 변수 값을 앞으로 이동\n",
    "                for shift_index in range(col_index, data.shape[1] - 3, 3):  # 3칸씩 이동\n",
    "                    # 값을 이동\n",
    "                    data.iloc[index, shift_index] = data.iloc[index, shift_index + 3]\n",
    "                    data.iloc[index, shift_index + 3] = None  # 원래 자리 비우기\n",
    "                    move_count += 1  # 이동 카운트 증가\n",
    "\n",
    "                    if move_count >= move_limit:  # 설정된 횟수에 도달하면 중지\n",
    "                        break\n",
    "            if move_count >= move_limit:  # 외부 루프에서도 체크\n",
    "                break\n",
    "\n",
    "# 변수 이름 설정 및 시작 열 인덱스 및 이동 횟수 설정\n",
    "variables_with_limits = [\n",
    "    ('HEAD NORMAL COORDINATE X AXIS(Stage1) Collect Result_Dam', 52),\n",
    "    ('HEAD NORMAL COORDINATE X AXIS(Stage1) Collect Result_Fill1', 22),\n",
    "    ('HEAD NORMAL COORDINATE X AXIS(Stage1) Collect Result_Fill2', 22)\n",
    "]\n",
    "\n",
    "# 각 변수에 대해 함수 호출\n",
    "for start_var, move_limit in variables_with_limits:\n",
    "    start_col_index = small_test.columns.get_loc(start_var)  # 각 변수의 시작 열 인덱스 찾기\n",
    "    shift_values(small_test, start_col_index, move_limit)\n",
    "\n",
    "# 수정된 데이터 저장\n",
    "small_test.to_csv('trim_small_test.csv', index=False)\n",
    "\n",
    "print('데이터가 성공적으로 수정되고 저장되었습니다.')\n"
   ]
  },
  {
   "cell_type": "markdown",
   "id": "bbc013be",
   "metadata": {},
   "source": [
    "### 실 작업 코드"
   ]
  },
  {
   "cell_type": "code",
   "execution_count": 18,
   "id": "744d9bf7",
   "metadata": {},
   "outputs": [
    {
     "name": "stdout",
     "output_type": "stream",
     "text": [
      "데이터가 성공적으로 수정되고 저장되었습니다.\n"
     ]
    }
   ],
   "source": [
    "import pandas as pd\n",
    "\n",
    "# CSV 파일 읽기\n",
    "# small_data = pd.read_csv(\"train.csv\")\n",
    "\n",
    "def shift_values(data, start_col_index, move_limit):\n",
    "    for index, row in data.iterrows():\n",
    "        move_count = 0  # 이동 카운터 초기화\n",
    "        for col_index in range(start_col_index, data.shape[1]):  # 모든 열을 대상으로\n",
    "            if pd.isna(row[col_index]) or row[col_index] == \"OK\":  # 빈값 또는 \"OK\" 확인\n",
    "                # 빈값 또는 \"OK\"가 발견되면 현재 위치부터 이후 3칸 간격의 변수 값을 앞으로 이동\n",
    "                for shift_index in range(col_index, data.shape[1] - 3, 3):  # 3칸씩 이동\n",
    "                    # 값을 이동\n",
    "                    data.iloc[index, shift_index] = data.iloc[index, shift_index + 3]\n",
    "                    data.iloc[index, shift_index + 3] = None  # 원래 자리 비우기\n",
    "                    move_count += 1  # 이동 카운트 증가\n",
    "\n",
    "                    if move_count >= move_limit:  # 설정된 횟수에 도달하면 중지\n",
    "                        break\n",
    "            if move_count >= move_limit:  # 외부 루프에서도 체크\n",
    "                break\n",
    "\n",
    "# 변수 이름 설정 및 시작 열 인덱스 및 이동 횟수 설정\n",
    "variables_with_limits = [\n",
    "    ('HEAD NORMAL COORDINATE X AXIS(Stage1) Collect Result_Dam', 52),\n",
    "    ('HEAD NORMAL COORDINATE X AXIS(Stage1) Collect Result_Fill1', 22),\n",
    "    ('HEAD NORMAL COORDINATE X AXIS(Stage1) Collect Result_Fill2', 22)\n",
    "]\n",
    "\n",
    "# 각 변수에 대해 함수 호출\n",
    "for start_var, move_limit in variables_with_limits:\n",
    "    start_col_index = test_data.columns.get_loc(start_var)  # 각 변수의 시작 열 인덱스 찾기\n",
    "    shift_values(test_data, start_col_index, move_limit)\n",
    "\n",
    "# 수정된 데이터 저장\n",
    "test_data.to_csv('trim_test_data.csv', index=False)\n",
    "\n",
    "print('데이터가 성공적으로 수정되고 저장되었습니다.')\n"
   ]
  }
 ],
 "metadata": {
  "kernelspec": {
   "display_name": "Python 3 (ipykernel)",
   "language": "python",
   "name": "python3"
  },
  "language_info": {
   "codemirror_mode": {
    "name": "ipython",
    "version": 3
   },
   "file_extension": ".py",
   "mimetype": "text/x-python",
   "name": "python",
   "nbconvert_exporter": "python",
   "pygments_lexer": "ipython3",
   "version": "3.7.8"
  }
 },
 "nbformat": 4,
 "nbformat_minor": 5
}

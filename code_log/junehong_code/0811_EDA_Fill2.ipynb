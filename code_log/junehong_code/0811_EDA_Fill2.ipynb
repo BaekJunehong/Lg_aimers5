{
 "cells": [
  {
   "cell_type": "markdown",
   "id": "017e9265",
   "metadata": {},
   "source": [
    "# 제품 이상여부 판별 프로젝트\n"
   ]
  },
  {
   "cell_type": "markdown",
   "id": "acdab431",
   "metadata": {},
   "source": [
    "## 1. 데이터 불러오기\n"
   ]
  },
  {
   "cell_type": "markdown",
   "id": "2b8341e8",
   "metadata": {},
   "source": [
    "### 필수 라이브러리\n"
   ]
  },
  {
   "cell_type": "code",
   "execution_count": 122,
   "id": "a315cc58",
   "metadata": {},
   "outputs": [],
   "source": [
    "import numpy as np\n",
    "import pandas as pd\n",
    "import matplotlib.pyplot as plt"
   ]
  },
  {
   "cell_type": "markdown",
   "id": "4d054e30",
   "metadata": {},
   "source": [
    "### 데이터 읽어오기\n"
   ]
  },
  {
   "cell_type": "code",
   "execution_count": 123,
   "id": "fc0b4d80",
   "metadata": {},
   "outputs": [],
   "source": [
    "RANDOM_STATE = 110\n",
    "\n",
    "train_data = pd.read_csv(\"train_data_forEDA.csv\")\n",
    "test_data = pd.read_csv(\"test_data_forEDA.csv\")"
   ]
  },
  {
   "cell_type": "markdown",
   "id": "e23d3595",
   "metadata": {},
   "source": [
    "---"
   ]
  },
  {
   "cell_type": "markdown",
   "id": "b54df9c3",
   "metadata": {},
   "source": [
    "반복적으로 쓰는 툴 함수화"
   ]
  },
  {
   "cell_type": "code",
   "execution_count": 124,
   "id": "09d2efa7",
   "metadata": {},
   "outputs": [],
   "source": [
    "def plot_box(dataframe, column_name):\n",
    "    \"\"\"\n",
    "    주어진 데이터프레임과 열 이름에 대해 박스 플롯을 그리는 함수.\n",
    "\n",
    "    Parameters:\n",
    "    dataframe (pd.DataFrame): 데이터프레임\n",
    "    column_name (str): 열 이름\n",
    "    \"\"\"\n",
    "    plt.figure(figsize=(10, 6))\n",
    "    plt.boxplot(dataframe[column_name], vert=False)\n",
    "    plt.xlabel(column_name)\n",
    "    plt.title(f'Box Plot of {column_name}')\n",
    "    plt.show()"
   ]
  },
  {
   "cell_type": "code",
   "execution_count": 125,
   "id": "7515da51",
   "metadata": {},
   "outputs": [],
   "source": [
    "import pandas as pd\n",
    "\n",
    "def value_counts_ratio_count(df, col_name, target_name):\n",
    "    \"\"\"\n",
    "    주어진 데이터프레임의 특정 열에 대해 각 값마다 타겟 변수의 비율과 갯수, 총 갯수를 출력하는 함수.\n",
    "\n",
    "    Parameters:\n",
    "    df (pd.DataFrame): 데이터프레임\n",
    "    col_name (str): 열 이름\n",
    "    target_name (str): 타겟 변수 이름\n",
    "    \"\"\"\n",
    "    # 각 값마다 타겟 변수의 비율 계산\n",
    "    value_counts = df.groupby(col_name)[target_name].value_counts(normalize=True).unstack().fillna(0)\n",
    "    \n",
    "    # 각 값마다 타겟 변수의 갯수 계산\n",
    "    counts = df.groupby(col_name)[target_name].value_counts().unstack().fillna(0)\n",
    "    \n",
    "    # 각 값마다 총 갯수 계산\n",
    "    total_counts = df[col_name].value_counts().rename('Total_Count')\n",
    "    \n",
    "    # 비율과 갯수를 합침\n",
    "    result = value_counts.join(counts, lsuffix='_ratio', rsuffix='_count')\n",
    "    \n",
    "    # 총 갯수를 합침\n",
    "    result = result.join(total_counts, on=col_name)\n",
    "    \n",
    "    # 출력 형식 조정\n",
    "    result.index.name = 'variable'\n",
    "    print(f\"\\n{col_name}별 {target_name} 비율 및 갯수\\n\")\n",
    "    print(result.rename(columns=lambda x: x.split('_')[0]))"
   ]
  },
  {
   "cell_type": "code",
   "execution_count": 126,
   "id": "bb6f573a",
   "metadata": {},
   "outputs": [],
   "source": [
    "import pandas as pd\n",
    "\n",
    "def summarize_grouped_data(df, group_by_columns):\n",
    "    # 데이터프레임을 그룹화\n",
    "    grouped_df = df.groupby(group_by_columns)\n",
    "    \n",
    "    # 결과를 저장할 리스트 초기화\n",
    "    results = []\n",
    "    \n",
    "    # 그룹화된 데이터프레임의 내용을 확인하는 코드\n",
    "    for name, group in grouped_df:\n",
    "        # 그룹의 갯수 계산\n",
    "        group_count = group.shape[0]\n",
    "        \n",
    "        # 'target' 변수의 'AdNormal' 비율과 갯수 계산\n",
    "        adnormal_count = group['target'].value_counts().get('AbNormal', 0)\n",
    "        adnormal_ratio = adnormal_count / group_count\n",
    "        \n",
    "        # 결과 리스트에 추가\n",
    "        results.append([name, adnormal_count, adnormal_ratio, group_count])\n",
    "    \n",
    "    # 결과 리스트를 데이터프레임으로 변환\n",
    "    results_df = pd.DataFrame(results, columns=['group', \"'AdNormal' count\", 'ratio', 'Total'])\n",
    "    \n",
    "    # 그룹화된 변수들의 이름을 제목행으로 출력\n",
    "    print(f\"Grouped by: {', '.join(group_by_columns)}\")\n",
    "    print()\n",
    "    # 데이터프레임 출력\n",
    "    print(results_df)\n",
    "    \n",
    "    return results_df"
   ]
  },
  {
   "cell_type": "code",
   "execution_count": 127,
   "id": "f4bfbd22",
   "metadata": {},
   "outputs": [],
   "source": [
    "import pandas as pd\n",
    "import seaborn as sns\n",
    "import matplotlib.pyplot as plt\n",
    "\n",
    "def plot_abnormal_ratio(dataframe, column_name, target_name, target_value, bins=20):\n",
    "    \"\"\"\n",
    "    주어진 데이터프레임의 특정 열에 대해 각 값마다 타겟 변수의 특정 값 비율을 계산하고 막대그래프로 표시하는 함수.\n",
    "\n",
    "    Parameters:\n",
    "    dataframe (pd.DataFrame): 데이터프레임\n",
    "    column_name (str): 열 이름\n",
    "    target_name (str): 타겟 변수 이름\n",
    "    target_value (str): 타겟 변수의 특정 값\n",
    "    bins (int): 구간의 수 (기본값은 20)\n",
    "    \"\"\"\n",
    "    def abnormal_ratio(dataframe, column_name, target_name, target_value):\n",
    "        \"\"\"\n",
    "        주어진 데이터프레임의 특정 열에 대해 각 값마다 타겟 변수의 특정 값 비율을 계산하는 함수.\n",
    "\n",
    "        Parameters:\n",
    "        dataframe (pd.DataFrame): 데이터프레임\n",
    "        column_name (str): 열 이름\n",
    "        target_name (str): 타겟 변수 이름\n",
    "        target_value (str): 타겟 변수의 특정 값\n",
    "\n",
    "        Returns:\n",
    "        pd.DataFrame: 각 값마다 타겟 변수의 특정 값 비율을 포함하는 데이터프레임\n",
    "        \"\"\"\n",
    "        # 각 값마다 타겟 변수의 특정 값 비율 계산\n",
    "        value_counts = dataframe.groupby(column_name)[target_name].apply(lambda x: (x == target_value).mean()).reset_index()\n",
    "        count_counts = dataframe.groupby(column_name)[target_name].count().reset_index()\n",
    "        \n",
    "        value_counts.columns = [column_name, 'ratio']\n",
    "        count_counts.columns = [column_name, 'count']\n",
    "        \n",
    "        # 비율과 카운트를 병합\n",
    "        result = pd.merge(value_counts, count_counts, on=column_name)\n",
    "        return result\n",
    "\n",
    "    # column_name 값을 지정된 구간으로 나누기\n",
    "    dataframe[f'{column_name}_bins'] = pd.cut(dataframe[column_name], bins=bins)\n",
    "\n",
    "    # 비율 계산\n",
    "    ratios = abnormal_ratio(dataframe, f'{column_name}_bins', target_name, target_value)\n",
    "\n",
    "    # 막대그래프 그리기\n",
    "    plt.figure(figsize=(20, 10))\n",
    "    barplot = sns.barplot(x=f'{column_name}_bins', y='ratio', data=ratios, color='skyblue')\n",
    "    plt.xlabel(f'{column_name} (binned)')\n",
    "    plt.ylabel('AbNormal Ratio')\n",
    "    plt.title(f'AbNormal Ratio by {column_name} (binned)', pad=30)  # 제목과 그래프 사이의 간격 조정\n",
    "    plt.xticks(rotation=45)\n",
    "    plt.ylim(0, 1)\n",
    "\n",
    "    # 각 막대 위에 비율 값과 카운트 표시\n",
    "    for p in barplot.patches:\n",
    "        # 막대의 x 좌표에 해당하는 구간을 찾기\n",
    "        bin_label = ratios[f'{column_name}_bins'].cat.categories[int(p.get_x() + p.get_width() / 2) - 1]\n",
    "        count_value = ratios.loc[ratios[f'{column_name}_bins'] == bin_label, 'count'].values[0]\n",
    "        barplot.annotate(f'{format(p.get_height(), \".2f\")} ({count_value})', \n",
    "                         (p.get_x() + p.get_width() / 2., p.get_height()), \n",
    "                         ha='center', va='center', \n",
    "                         xytext=(0, 9), \n",
    "                         textcoords='offset points')\n",
    "\n",
    "    plt.show()\n",
    "\n",
    "    # _bins 변수 드랍\n",
    "    dataframe.drop(columns=[f'{column_name}_bins'], inplace=True)\n"
   ]
  },
  {
   "cell_type": "markdown",
   "id": "b0fbb1c8",
   "metadata": {},
   "source": [
    "---"
   ]
  },
  {
   "cell_type": "markdown",
   "id": "b3a7346a",
   "metadata": {},
   "source": [
    "## Dam"
   ]
  },
  {
   "cell_type": "markdown",
   "id": "0906cc5f",
   "metadata": {},
   "source": [
    "## AutoClave"
   ]
  },
  {
   "cell_type": "markdown",
   "id": "b0164e69",
   "metadata": {},
   "source": [
    "## Fill1"
   ]
  },
  {
   "cell_type": "markdown",
   "id": "70759e80",
   "metadata": {},
   "source": [
    "## Fill2"
   ]
  },
  {
   "cell_type": "code",
   "execution_count": 128,
   "id": "7bc8c9cd",
   "metadata": {},
   "outputs": [
    {
     "name": "stdout",
     "output_type": "stream",
     "text": [
      "<Fill2 공정 관련 변수>\n",
      "CURE END POSITION X Collect Result_Fill2\n",
      "CURE END POSITION Z Collect Result_Fill2\n",
      "CURE SPEED Collect Result_Fill2\n",
      "CURE STANDBY POSITION Z Collect Result_Fill2\n",
      "CURE START POSITION X Collect Result_Fill2\n",
      "CURE START POSITION Z Collect Result_Fill2\n",
      "HEAD NORMAL COORDINATE X AXIS(Stage1) Collect Result_Fill2\n",
      "HEAD NORMAL COORDINATE X AXIS(Stage1) Judge Value_Fill2\n",
      "HEAD NORMAL COORDINATE X AXIS(Stage2) Collect Result_Fill2\n",
      "HEAD NORMAL COORDINATE X AXIS(Stage3) Collect Result_Fill2\n",
      "HEAD NORMAL COORDINATE Y AXIS(Stage1) Collect Result_Fill2\n",
      "HEAD NORMAL COORDINATE Y AXIS(Stage2) Collect Result_Fill2\n",
      "HEAD NORMAL COORDINATE Y AXIS(Stage3) Collect Result_Fill2\n",
      "HEAD NORMAL COORDINATE Z AXIS(Stage1) Collect Result_Fill2\n",
      "HEAD NORMAL COORDINATE Z AXIS(Stage2) Collect Result_Fill2\n",
      "HEAD NORMAL COORDINATE Z AXIS(Stage3) Collect Result_Fill2\n",
      "Head Purge Position Z Collect Result_Fill2\n",
      "Machine Tact time Collect Result_Fill2\n",
      "PalletID Collect Result_Fill2\n",
      "Production Qty Collect Result_Fill2\n",
      "Receip No Collect Result_Fill2\n",
      "WorkMode Collect Result_Fill2\n"
     ]
    }
   ],
   "source": [
    "# '_Fill2'를 포함하는 열 이름 필터링\n",
    "Process_Desc_col = train_data.filter(like='_Fill2').columns\n",
    "\n",
    "# 필터링된 열 이름 출력\n",
    "print(\"<Fill2 공정 관련 변수>\")\n",
    "for col in Process_Desc_col:\n",
    "    print(col)"
   ]
  },
  {
   "cell_type": "code",
   "execution_count": 129,
   "id": "9f30b2ba",
   "metadata": {},
   "outputs": [
    {
     "name": "stdout",
     "output_type": "stream",
     "text": [
      "\n",
      " Fill2 공정 관련 변수 중 CURE 포함 변수>\n",
      "CURE END POSITION X Collect Result_Fill2\n",
      "CURE END POSITION Z Collect Result_Fill2\n",
      "CURE SPEED Collect Result_Fill2\n",
      "CURE STANDBY POSITION Z Collect Result_Fill2\n",
      "CURE START POSITION X Collect Result_Fill2\n",
      "CURE START POSITION Z Collect Result_Fill2\n"
     ]
    }
   ],
   "source": [
    "# 'CURE'와 '_Fill2'를 포함하는 열 이름 필터링\n",
    "Process_Desc_col = train_data.filter(like='_Fill2').columns\n",
    "filtered_columns = [col for col in Process_Desc_col if 'CURE' in col]\n",
    "\n",
    "\n",
    "print(\"\\n Fill2 공정 관련 변수 중 CURE 포함 변수>\")\n",
    "for col in filtered_columns:\n",
    "    print(col)"
   ]
  },
  {
   "cell_type": "code",
   "execution_count": 130,
   "id": "039b4772",
   "metadata": {},
   "outputs": [
    {
     "name": "stdout",
     "output_type": "stream",
     "text": [
      "\n",
      "CURE_DISTANCE_Fill2별 target 비율 및 갯수\n",
      "\n",
      "            AbNormal    Normal  AbNormal   Normal  Total\n",
      "variable                                                \n",
      "780.000000  0.055409  0.944591    1990.0  33925.0  35915\n",
      "780.000641  0.077019  0.922981     309.0   3703.0   4012\n",
      "780.064100  0.088235  0.911765      51.0    527.0    578\n",
      "780.077560  0.000000  1.000000       0.0      1.0      1\n"
     ]
    }
   ],
   "source": [
    "import numpy as np\n",
    "\n",
    "# 시작 위치와 끝 위치 열 이름\n",
    "start_x_col = 'CURE START POSITION X Collect Result_Fill2'\n",
    "start_z_col = 'CURE START POSITION Z Collect Result_Fill2'\n",
    "end_x_col = 'CURE END POSITION X Collect Result_Fill2'\n",
    "end_z_col = 'CURE END POSITION Z Collect Result_Fill2'\n",
    "\n",
    "# 시작 위치와 끝 위치 사이의 거리 계산\n",
    "train_data['CURE_DISTANCE_Fill2'] = np.sqrt(\n",
    "    (train_data[end_x_col] - train_data[start_x_col]) ** 2 +\n",
    "    (train_data[end_z_col] - train_data[start_z_col]) ** 2\n",
    ")\n",
    "\n",
    "# 결과 확인\n",
    "value_counts_ratio_count(train_data, 'CURE_DISTANCE_Fill2', 'target')"
   ]
  },
  {
   "cell_type": "code",
   "execution_count": 131,
   "id": "17bb2ee2",
   "metadata": {},
   "outputs": [],
   "source": [
    "train_data['CURE_Time_Fill2']  = train_data['CURE_DISTANCE_Fill2'] / train_data['CURE SPEED Collect Result_Fill2']"
   ]
  },
  {
   "cell_type": "code",
   "execution_count": 132,
   "id": "95a0ac48",
   "metadata": {},
   "outputs": [
    {
     "name": "stdout",
     "output_type": "stream",
     "text": [
      "\n",
      "CURE_Time_Fill2별 target 비율 및 갯수\n",
      "\n",
      "           AbNormal    Normal  AbNormal   Normal  Total\n",
      "variable                                               \n",
      "10.400000  0.000000  1.000000       0.0      1.0      1\n",
      "14.181818  0.070632  0.929368      19.0    250.0    269\n",
      "14.716981  0.000000  1.000000       0.0     36.0     36\n",
      "15.294118  0.071146  0.928854      18.0    235.0    253\n",
      "15.295375  0.068592  0.931408      19.0    258.0    277\n",
      "15.600000  0.054911  0.945089    1667.0  28691.0  30358\n",
      "15.600013  0.077019  0.922981     309.0   3703.0   4012\n",
      "15.601282  0.106312  0.893688      32.0    269.0    301\n",
      "15.601551  0.000000  1.000000       0.0      1.0      1\n",
      "16.250000  0.046212  0.953788     122.0   2518.0   2640\n",
      "17.333333  0.069367  0.930633     161.0   2160.0   2321\n",
      "19.500000  0.081081  0.918919       3.0     34.0     37\n"
     ]
    }
   ],
   "source": [
    "value_counts_ratio_count(train_data, 'CURE_Time_Fill2', 'target')"
   ]
  },
  {
   "cell_type": "code",
   "execution_count": 133,
   "id": "95de75d9",
   "metadata": {},
   "outputs": [
    {
     "name": "stdout",
     "output_type": "stream",
     "text": [
      "\n",
      " Fill2 공정 관련 변수 중 CURE 포함 변수>\n",
      "CURE END POSITION X Collect Result_Fill2\n",
      "CURE END POSITION Z Collect Result_Fill2\n",
      "CURE SPEED Collect Result_Fill2\n",
      "CURE STANDBY POSITION Z Collect Result_Fill2\n",
      "CURE START POSITION X Collect Result_Fill2\n",
      "CURE START POSITION Z Collect Result_Fill2\n",
      "CURE_DISTANCE_Fill2\n",
      "CURE_Time_Fill2\n"
     ]
    }
   ],
   "source": [
    "# 'CURE'와 '_Fill2'를 포함하는 열 이름 필터링\n",
    "Process_Desc_col = train_data.filter(like='_Fill2').columns\n",
    "filtered_columns = [col for col in Process_Desc_col if 'CURE' in col]\n",
    "\n",
    "\n",
    "print(\"\\n Fill2 공정 관련 변수 중 CURE 포함 변수>\")\n",
    "for col in filtered_columns:\n",
    "    print(col)"
   ]
  },
  {
   "cell_type": "code",
   "execution_count": 134,
   "id": "1b525e8d",
   "metadata": {},
   "outputs": [
    {
     "name": "stdout",
     "output_type": "stream",
     "text": [
      "\n",
      "CURE START POSITION Z Collect Result_Fill2별 target 비율 및 갯수\n",
      "\n",
      "          AbNormal    Normal  AbNormal  Normal  Total\n",
      "variable                                             \n",
      "22        0.072495  0.927505        34     435    469\n",
      "23        0.107843  0.892157        22     182    204\n",
      "32        0.085866  0.914134       421    4482   4903\n",
      "33        0.053622  0.946378      1873   33057  34930\n"
     ]
    }
   ],
   "source": [
    "value_counts_ratio_count(train_data, 'CURE START POSITION Z Collect Result_Fill2', 'target')"
   ]
  },
  {
   "cell_type": "code",
   "execution_count": 135,
   "id": "1586f607",
   "metadata": {},
   "outputs": [],
   "source": [
    "train_data['CURE_STANDBY_DISTANCE_Fill2']  = train_data['CURE START POSITION Z Collect Result_Fill2'] - train_data['CURE STANDBY POSITION Z Collect Result_Fill2']"
   ]
  },
  {
   "cell_type": "code",
   "execution_count": 136,
   "id": "f340233b",
   "metadata": {},
   "outputs": [
    {
     "name": "stdout",
     "output_type": "stream",
     "text": [
      "\n",
      "CURE_STANDBY_DISTANCE_Fill2별 target 비율 및 갯수\n",
      "\n",
      "          AbNormal    Normal  AbNormal  Normal  Total\n",
      "variable                                             \n",
      "0         0.058016  0.941984      2350   38156  40506\n"
     ]
    }
   ],
   "source": [
    "value_counts_ratio_count(train_data, 'CURE_STANDBY_DISTANCE_Fill2', 'target')"
   ]
  },
  {
   "cell_type": "code",
   "execution_count": 137,
   "id": "ee149bc6",
   "metadata": {},
   "outputs": [
    {
     "name": "stdout",
     "output_type": "stream",
     "text": [
      "Grouped by: CURE START POSITION Z Collect Result_Fill2, CURE STANDBY POSITION Z Collect Result_Fill2\n",
      "\n",
      "      group  'AdNormal' count     ratio  Total\n",
      "0  (22, 22)                34  0.072495    469\n",
      "1  (23, 23)                22  0.107843    204\n",
      "2  (32, 32)               421  0.085866   4903\n",
      "3  (33, 33)              1873  0.053622  34930\n"
     ]
    }
   ],
   "source": [
    "summary_df = summarize_grouped_data(train_data, ['CURE START POSITION Z Collect Result_Fill2', 'CURE STANDBY POSITION Z Collect Result_Fill2'])"
   ]
  },
  {
   "cell_type": "markdown",
   "id": "97a85f1f",
   "metadata": {},
   "source": [
    "대기지점과 시작지점 z 좌표 동일 -> 동일 위치에서 시작한다고 볼수 있다(x,y 좌표 고려x)"
   ]
  },
  {
   "cell_type": "markdown",
   "id": "0336c3ae",
   "metadata": {},
   "source": [
    "좌표 값으로 대기지점 좌표와 시작지점 (x,y) , 종료지점 (x,y) 사이의 거리값 2개의 변수만을 가져간다."
   ]
  },
  {
   "cell_type": "code",
   "execution_count": 138,
   "id": "8b107da0",
   "metadata": {},
   "outputs": [],
   "source": [
    "# 삭제하려는 열 목록\n",
    "columns_to_drop = [\n",
    "    'CURE END POSITION X Collect Result_Fill2'\n",
    "    , 'CURE END POSITION Z Collect Result_Fill2'\n",
    "    , 'CURE START POSITION X Collect Result_Fill2'\n",
    "    , 'CURE START POSITION Z Collect Result_Fill2'\n",
    "    , 'CURE_STANDBY_DISTANCE_Fill2'\n",
    "    , 'CURE SPEED Collect Result_Fill2'\n",
    "]\n",
    "\n",
    "# 열 삭제\n",
    "train_data = train_data.drop(columns=[col for col in columns_to_drop if col in train_data.columns])\n",
    "test_data = test_data.drop(columns=[col for col in columns_to_drop if col in test_data.columns])"
   ]
  },
  {
   "cell_type": "code",
   "execution_count": 139,
   "id": "950a677b",
   "metadata": {},
   "outputs": [],
   "source": [
    "# CURE STANDBY POSITION Z Collect Result_Fill2 이름 변경\n",
    "train_data.rename(columns={'CURE STANDBY POSITION Z Collect Result_Fill2': 'CURE_STANDBY_POSITION_Fill2'}, inplace=True)\n",
    "test_data.rename(columns={'CURE STANDBY POSITION Z Collect Result_Fill2': 'CURE_STANDBY_POSITION_Fill2'}, inplace=True)"
   ]
  },
  {
   "cell_type": "code",
   "execution_count": 140,
   "id": "436982e4",
   "metadata": {},
   "outputs": [
    {
     "name": "stdout",
     "output_type": "stream",
     "text": [
      "\n",
      " Fill2 공정 관련 변수 중 CURE 포함 변수>\n",
      "CURE_STANDBY_POSITION_Fill2\n",
      "CURE_DISTANCE_Fill2\n",
      "CURE_Time_Fill2\n"
     ]
    }
   ],
   "source": [
    "# 'CURE'와 '_Fill2'를 포함하는 열 이름 필터링\n",
    "Process_Desc_col = train_data.filter(like='_Fill2').columns\n",
    "filtered_columns = [col for col in Process_Desc_col if 'CURE' in col]\n",
    "\n",
    "\n",
    "print(\"\\n Fill2 공정 관련 변수 중 CURE 포함 변수>\")\n",
    "for col in filtered_columns:\n",
    "    print(col)"
   ]
  },
  {
   "cell_type": "code",
   "execution_count": 141,
   "id": "a0a5fd0e",
   "metadata": {},
   "outputs": [
    {
     "name": "stdout",
     "output_type": "stream",
     "text": [
      "<Fill2 공정 관련 변수>\n",
      "CURE_STANDBY_POSITION_Fill2\n",
      "HEAD NORMAL COORDINATE X AXIS(Stage1) Collect Result_Fill2\n",
      "HEAD NORMAL COORDINATE X AXIS(Stage1) Judge Value_Fill2\n",
      "HEAD NORMAL COORDINATE X AXIS(Stage2) Collect Result_Fill2\n",
      "HEAD NORMAL COORDINATE X AXIS(Stage3) Collect Result_Fill2\n",
      "HEAD NORMAL COORDINATE Y AXIS(Stage1) Collect Result_Fill2\n",
      "HEAD NORMAL COORDINATE Y AXIS(Stage2) Collect Result_Fill2\n",
      "HEAD NORMAL COORDINATE Y AXIS(Stage3) Collect Result_Fill2\n",
      "HEAD NORMAL COORDINATE Z AXIS(Stage1) Collect Result_Fill2\n",
      "HEAD NORMAL COORDINATE Z AXIS(Stage2) Collect Result_Fill2\n",
      "HEAD NORMAL COORDINATE Z AXIS(Stage3) Collect Result_Fill2\n",
      "Head Purge Position Z Collect Result_Fill2\n",
      "Machine Tact time Collect Result_Fill2\n",
      "PalletID Collect Result_Fill2\n",
      "Production Qty Collect Result_Fill2\n",
      "Receip No Collect Result_Fill2\n",
      "WorkMode Collect Result_Fill2\n",
      "CURE_DISTANCE_Fill2\n",
      "CURE_Time_Fill2\n"
     ]
    }
   ],
   "source": [
    "# '_Fill2'를 포함하는 열 이름 필터링\n",
    "Process_Desc_col = train_data.filter(like='_Fill2').columns\n",
    "\n",
    "# 필터링된 열 이름 출력\n",
    "print(\"<Fill2 공정 관련 변수>\")\n",
    "for col in Process_Desc_col:\n",
    "    print(col)"
   ]
  },
  {
   "cell_type": "code",
   "execution_count": 142,
   "id": "1ac0ecc0",
   "metadata": {},
   "outputs": [
    {
     "name": "stdout",
     "output_type": "stream",
     "text": [
      "Grouped by: HEAD NORMAL COORDINATE X AXIS(Stage1) Collect Result_Fill2, HEAD NORMAL COORDINATE Y AXIS(Stage1) Collect Result_Fill2, HEAD NORMAL COORDINATE Z AXIS(Stage1) Collect Result_Fill2\n",
      "\n",
      "                    group  'AdNormal' count     ratio  Total\n",
      "0  (304.8, 1324.2, 243.5)                44  0.049107    896\n",
      "1  (305.0, 1324.2, 243.5)               825  0.056569  14584\n",
      "2   (835.5, 428.0, 243.7)              1481  0.059178  25026\n"
     ]
    }
   ],
   "source": [
    "summary_df = summarize_grouped_data(train_data, ['HEAD NORMAL COORDINATE X AXIS(Stage1) Collect Result_Fill2'\n",
    "                                                 , 'HEAD NORMAL COORDINATE Y AXIS(Stage1) Collect Result_Fill2'\n",
    "                                                 , 'HEAD NORMAL COORDINATE Z AXIS(Stage1) Collect Result_Fill2'])"
   ]
  },
  {
   "cell_type": "code",
   "execution_count": 143,
   "id": "aaf4ce42",
   "metadata": {},
   "outputs": [
    {
     "name": "stdout",
     "output_type": "stream",
     "text": [
      "Grouped by: HEAD NORMAL COORDINATE X AXIS(Stage2) Collect Result_Fill2, HEAD NORMAL COORDINATE Y AXIS(Stage2) Collect Result_Fill2, HEAD NORMAL COORDINATE Z AXIS(Stage2) Collect Result_Fill2\n",
      "\n",
      "                    group  'AdNormal' count     ratio  Total\n",
      "0   (458.0, 427.9, 243.7)              1481  0.059178  25026\n",
      "1  (499.8, 1324.2, 243.5)               869  0.056137  15480\n"
     ]
    }
   ],
   "source": [
    "summary_df = summarize_grouped_data(train_data, ['HEAD NORMAL COORDINATE X AXIS(Stage2) Collect Result_Fill2'\n",
    "                                                 , 'HEAD NORMAL COORDINATE Y AXIS(Stage2) Collect Result_Fill2'\n",
    "                                                 , 'HEAD NORMAL COORDINATE Z AXIS(Stage2) Collect Result_Fill2'])"
   ]
  },
  {
   "cell_type": "code",
   "execution_count": 144,
   "id": "34aa7734",
   "metadata": {},
   "outputs": [
    {
     "name": "stdout",
     "output_type": "stream",
     "text": [
      "Grouped by: HEAD NORMAL COORDINATE X AXIS(Stage3) Collect Result_Fill2, HEAD NORMAL COORDINATE Y AXIS(Stage3) Collect Result_Fill2, HEAD NORMAL COORDINATE Z AXIS(Stage3) Collect Result_Fill2\n",
      "\n",
      "                    group  'AdNormal' count     ratio  Total\n",
      "0   (156.0, 428.0, 243.7)              1481  0.059178  25026\n",
      "1  (692.8, 1324.2, 243.5)                44  0.049107    896\n",
      "2  (694.0, 1324.2, 243.5)               825  0.056569  14584\n"
     ]
    }
   ],
   "source": [
    "summary_df = summarize_grouped_data(train_data, ['HEAD NORMAL COORDINATE X AXIS(Stage3) Collect Result_Fill2'\n",
    "                                                 , 'HEAD NORMAL COORDINATE Y AXIS(Stage3) Collect Result_Fill2'\n",
    "                                                 , 'HEAD NORMAL COORDINATE Z AXIS(Stage3) Collect Result_Fill2'])"
   ]
  },
  {
   "cell_type": "code",
   "execution_count": 145,
   "id": "0485faaf",
   "metadata": {},
   "outputs": [],
   "source": [
    "import numpy as np\n",
    "\n",
    "# 각 스테이지의 좌표 열 정의\n",
    "stage1_cols = ['HEAD NORMAL COORDINATE X AXIS(Stage1) Collect Result_Fill2',\n",
    "               'HEAD NORMAL COORDINATE Y AXIS(Stage1) Collect Result_Fill2',\n",
    "               'HEAD NORMAL COORDINATE Z AXIS(Stage1) Collect Result_Fill2']\n",
    "\n",
    "stage2_cols = ['HEAD NORMAL COORDINATE X AXIS(Stage2) Collect Result_Fill2',\n",
    "               'HEAD NORMAL COORDINATE Y AXIS(Stage2) Collect Result_Fill2',\n",
    "               'HEAD NORMAL COORDINATE Z AXIS(Stage2) Collect Result_Fill2']\n",
    "\n",
    "stage3_cols = ['HEAD NORMAL COORDINATE X AXIS(Stage3) Collect Result_Fill2',\n",
    "               'HEAD NORMAL COORDINATE Y AXIS(Stage3) Collect Result_Fill2',\n",
    "               'HEAD NORMAL COORDINATE Z AXIS(Stage3) Collect Result_Fill2']\n",
    "\n",
    "# 스테이지 1과 스테이지 2 사이의 거리 계산\n",
    "train_data['DISTANCE_STAGE1_STAGE2'] = np.sqrt(\n",
    "    (train_data[stage2_cols[0]] - train_data[stage1_cols[0]]) ** 2 +\n",
    "    (train_data[stage2_cols[1]] - train_data[stage1_cols[1]]) ** 2 +\n",
    "    (train_data[stage2_cols[2]] - train_data[stage1_cols[2]]) ** 2\n",
    ")\n",
    "\n",
    "# 스테이지 2와 스테이지 3 사이의 거리 계산\n",
    "train_data['DISTANCE_STAGE2_STAGE3'] = np.sqrt(\n",
    "    (train_data[stage3_cols[0]] - train_data[stage2_cols[0]]) ** 2 +\n",
    "    (train_data[stage3_cols[1]] - train_data[stage2_cols[1]]) ** 2 +\n",
    "    (train_data[stage3_cols[2]] - train_data[stage2_cols[2]]) ** 2\n",
    ")\n",
    "\n",
    "# 스테이지 1과 스테이지 3 사이의 거리 계산\n",
    "train_data['DISTANCE_STAGE1_STAGE3'] = np.sqrt(\n",
    "    (train_data[stage3_cols[0]] - train_data[stage1_cols[0]]) ** 2 +\n",
    "    (train_data[stage3_cols[1]] - train_data[stage1_cols[1]]) ** 2 +\n",
    "    (train_data[stage3_cols[2]] - train_data[stage1_cols[2]]) ** 2\n",
    ")"
   ]
  },
  {
   "cell_type": "code",
   "execution_count": 146,
   "id": "95c2ca1c",
   "metadata": {},
   "outputs": [
    {
     "name": "stdout",
     "output_type": "stream",
     "text": [
      "\n",
      "DISTANCE_STAGE1_STAGE2별 target 비율 및 갯수\n",
      "\n",
      "            AbNormal    Normal  AbNormal  Normal  Total\n",
      "variable                                               \n",
      "194.800000  0.056569  0.943431       825   13759  14584\n",
      "195.000000  0.049107  0.950893        44     852    896\n",
      "377.500013  0.059178  0.940822      1481   23545  25026\n",
      "\n",
      "DISTANCE_STAGE2_STAGE3별 target 비율 및 갯수\n",
      "\n",
      "            AbNormal    Normal  AbNormal  Normal  Total\n",
      "variable                                               \n",
      "193.000000  0.049107  0.950893        44     852    896\n",
      "194.200000  0.056569  0.943431       825   13759  14584\n",
      "302.000017  0.059178  0.940822      1481   23545  25026\n",
      "\n",
      "DISTANCE_STAGE1_STAGE3별 target 비율 및 갯수\n",
      "\n",
      "          AbNormal    Normal  AbNormal  Normal  Total\n",
      "variable                                             \n",
      "388.0     0.049107  0.950893        44     852    896\n",
      "389.0     0.056569  0.943431       825   13759  14584\n",
      "679.5     0.059178  0.940822      1481   23545  25026\n"
     ]
    }
   ],
   "source": [
    "# 결과 출력\n",
    "value_counts_ratio_count(train_data, 'DISTANCE_STAGE1_STAGE2', 'target')\n",
    "value_counts_ratio_count(train_data, 'DISTANCE_STAGE2_STAGE3', 'target')\n",
    "value_counts_ratio_count(train_data, 'DISTANCE_STAGE1_STAGE3', 'target')"
   ]
  },
  {
   "cell_type": "code",
   "execution_count": 147,
   "id": "6b6ef8be",
   "metadata": {},
   "outputs": [
    {
     "name": "stdout",
     "output_type": "stream",
     "text": [
      "Grouped by: DISTANCE_STAGE1_STAGE2, DISTANCE_STAGE2_STAGE3, DISTANCE_STAGE1_STAGE3\n",
      "\n",
      "                                             group  'AdNormal' count  \\\n",
      "0                            (194.8, 194.2, 389.0)               825   \n",
      "1  (195.0, 192.99999999999994, 387.99999999999994)                44   \n",
      "2    (377.5000132450329, 302.0000165562909, 679.5)              1481   \n",
      "\n",
      "      ratio  Total  \n",
      "0  0.056569  14584  \n",
      "1  0.049107    896  \n",
      "2  0.059178  25026  \n"
     ]
    }
   ],
   "source": [
    "summary_df = summarize_grouped_data(train_data, ['DISTANCE_STAGE1_STAGE2', 'DISTANCE_STAGE2_STAGE3', 'DISTANCE_STAGE1_STAGE3'])"
   ]
  },
  {
   "cell_type": "code",
   "execution_count": 148,
   "id": "6968b097",
   "metadata": {},
   "outputs": [
    {
     "name": "stdout",
     "output_type": "stream",
     "text": [
      "\n",
      "HEAD NORMAL COORDINATE X AXIS(Stage1) Judge Value_Fill2별 target 비율 및 갯수\n",
      "\n",
      "          AbNormal    Normal  AbNormal  Normal  Total\n",
      "variable                                             \n",
      "OK        0.043921  0.956079       496   10797  11293\n"
     ]
    }
   ],
   "source": [
    "value_counts_ratio_count(train_data, 'HEAD NORMAL COORDINATE X AXIS(Stage1) Judge Value_Fill2', 'target')"
   ]
  },
  {
   "cell_type": "code",
   "execution_count": 149,
   "id": "f5d0ce36",
   "metadata": {},
   "outputs": [
    {
     "name": "stdout",
     "output_type": "stream",
     "text": [
      "\n",
      "HEAD_NORMAL_stage1_ok_Fill2별 target 비율 및 갯수\n",
      "\n",
      "          AbNormal    Normal  AbNormal  Normal  Total\n",
      "variable                                             \n",
      "0         0.063465  0.936535      1854   27359  29213\n",
      "1         0.043921  0.956079       496   10797  11293\n"
     ]
    }
   ],
   "source": [
    "# OK 값이면 1, 결측 값이면 0을 부여\n",
    "train_data['HEAD_NORMAL_stage1_ok_Fill2'] = train_data['HEAD NORMAL COORDINATE X AXIS(Stage1) Judge Value_Fill2'].apply(lambda x: 1 if x == 'OK' else 0)\n",
    "test_data['HEAD_NORMAL_stage1_ok_Fill2'] = test_data['HEAD NORMAL COORDINATE X AXIS(Stage1) Judge Value_Fill2'].apply(lambda x: 1 if x == 'OK' else 0)\n",
    "\n",
    "# HEAD NORMAL COORDINATE X AXIS(Stage1) Judge Value_Fill1 변수 제거\n",
    "train_data.drop(columns=['HEAD NORMAL COORDINATE X AXIS(Stage1) Judge Value_Fill2'], inplace=True)\n",
    "test_data.drop(columns=['HEAD NORMAL COORDINATE X AXIS(Stage1) Judge Value_Fill2'], inplace=True)\n",
    "\n",
    "# 결과 확인\n",
    "value_counts_ratio_count(train_data, 'HEAD_NORMAL_stage1_ok_Fill2', 'target')"
   ]
  },
  {
   "cell_type": "code",
   "execution_count": 150,
   "id": "5c06967e",
   "metadata": {},
   "outputs": [
    {
     "name": "stdout",
     "output_type": "stream",
     "text": [
      "Grouped by: HEAD_NORMAL_stage1_ok_Fill2, DISTANCE_STAGE1_STAGE2, DISTANCE_STAGE2_STAGE3, DISTANCE_STAGE1_STAGE3\n",
      "\n",
      "                                               group  'AdNormal' count  \\\n",
      "0                           (0, 194.8, 194.2, 389.0)               570   \n",
      "1  (0, 195.0, 192.99999999999994, 387.99999999999...                44   \n",
      "2   (0, 377.5000132450329, 302.0000165562909, 679.5)              1240   \n",
      "3                           (1, 194.8, 194.2, 389.0)               255   \n",
      "4   (1, 377.5000132450329, 302.0000165562909, 679.5)               241   \n",
      "\n",
      "      ratio  Total  \n",
      "0  0.063730   8944  \n",
      "1  0.049107    896  \n",
      "2  0.064007  19373  \n",
      "3  0.045213   5640  \n",
      "4  0.042632   5653  \n"
     ]
    }
   ],
   "source": [
    "summary_df = summarize_grouped_data(train_data, ['HEAD_NORMAL_stage1_ok_Fill2','DISTANCE_STAGE1_STAGE2', 'DISTANCE_STAGE2_STAGE3', 'DISTANCE_STAGE1_STAGE3'])"
   ]
  },
  {
   "cell_type": "code",
   "execution_count": 151,
   "id": "25585a91",
   "metadata": {},
   "outputs": [],
   "source": [
    "# 삭제하려는 열 목록\n",
    "columns_to_drop = [\n",
    "    'HEAD NORMAL COORDINATE X AXIS(Stage1) Collect Result_Fill2'\n",
    "    , 'HEAD NORMAL COORDINATE X AXIS(Stage2) Collect Result_Fill2'\n",
    "    , 'HEAD NORMAL COORDINATE X AXIS(Stage3) Collect Result_Fill2'\n",
    "    , 'HEAD NORMAL COORDINATE Y AXIS(Stage1) Collect Result_Fill2'\n",
    "    , 'HEAD NORMAL COORDINATE Y AXIS(Stage2) Collect Result_Fill2'\n",
    "    , 'HEAD NORMAL COORDINATE Y AXIS(Stage3) Collect Result_Fill2'\n",
    "    , 'HEAD NORMAL COORDINATE Z AXIS(Stage1) Collect Result_Fill2'\n",
    "    , 'HEAD NORMAL COORDINATE Z AXIS(Stage2) Collect Result_Fill2'\n",
    "    , 'HEAD NORMAL COORDINATE Z AXIS(Stage3) Collect Result_Fill2']\n",
    "\n",
    "# train_data에서 열 삭제\n",
    "train_data = train_data.drop(columns=[col for col in columns_to_drop if col in train_data.columns])\n",
    "\n",
    "# test_data에서 열 삭제\n",
    "test_data = test_data.drop(columns=[col for col in columns_to_drop if col in test_data.columns])"
   ]
  },
  {
   "cell_type": "code",
   "execution_count": 152,
   "id": "f80aa895",
   "metadata": {},
   "outputs": [
    {
     "name": "stdout",
     "output_type": "stream",
     "text": [
      "<Fill2 공정 관련 변수>\n",
      "CURE_STANDBY_POSITION_Fill2\n",
      "Head Purge Position Z Collect Result_Fill2\n",
      "Machine Tact time Collect Result_Fill2\n",
      "PalletID Collect Result_Fill2\n",
      "Production Qty Collect Result_Fill2\n",
      "Receip No Collect Result_Fill2\n",
      "WorkMode Collect Result_Fill2\n",
      "CURE_DISTANCE_Fill2\n",
      "CURE_Time_Fill2\n",
      "HEAD_NORMAL_stage1_ok_Fill2\n"
     ]
    }
   ],
   "source": [
    "# '_Fill2'를 포함하는 열 이름 필터링\n",
    "Process_Desc_col = train_data.filter(like='_Fill2').columns\n",
    "\n",
    "# 필터링된 열 이름 출력\n",
    "print(\"<Fill2 공정 관련 변수>\")\n",
    "for col in Process_Desc_col:\n",
    "    print(col)"
   ]
  },
  {
   "cell_type": "code",
   "execution_count": 153,
   "id": "c7f5af74",
   "metadata": {},
   "outputs": [
    {
     "name": "stdout",
     "output_type": "stream",
     "text": [
      "\n",
      "Head Purge Position Z Collect Result_Fill2별 target 비율 및 갯수\n",
      "\n",
      "          AbNormal    Normal  AbNormal  Normal  Total\n",
      "variable                                             \n",
      "85.000    0.058709  0.941291      2083   33397  35480\n",
      "114.612   0.053124  0.946876       267    4759   5026\n"
     ]
    }
   ],
   "source": [
    "value_counts_ratio_count(train_data, 'Head Purge Position Z Collect Result_Fill2', 'target')"
   ]
  },
  {
   "cell_type": "code",
   "execution_count": 154,
   "id": "15658316",
   "metadata": {},
   "outputs": [
    {
     "name": "stdout",
     "output_type": "stream",
     "text": [
      "Grouped by: HEAD_NORMAL_stage1_ok_Fill2, Head Purge Position Z Collect Result_Fill2\n",
      "\n",
      "          group  'AdNormal' count     ratio  Total\n",
      "0     (0, 85.0)              1598  0.064933  24610\n",
      "1  (0, 114.612)               256  0.055616   4603\n",
      "2     (1, 85.0)               485  0.044618  10870\n",
      "3  (1, 114.612)                11  0.026005    423\n"
     ]
    }
   ],
   "source": [
    "summary_df = summarize_grouped_data(train_data, ['HEAD_NORMAL_stage1_ok_Fill2', 'Head Purge Position Z Collect Result_Fill2'])"
   ]
  },
  {
   "cell_type": "code",
   "execution_count": 155,
   "id": "a4408c43",
   "metadata": {},
   "outputs": [
    {
     "name": "stdout",
     "output_type": "stream",
     "text": [
      "Grouped by: Dispenser_num, Head Purge Position Z Collect Result_Fill2\n",
      "\n",
      "          group  'AdNormal' count     ratio  Total\n",
      "0     (0, 85.0)                27  1.000000     27\n",
      "1  (0, 114.612)                 7  1.000000      7\n",
      "2     (1, 85.0)              1348  0.060205  22390\n",
      "3  (1, 114.612)               118  0.045021   2621\n",
      "4     (2, 85.0)               708  0.054199  13063\n",
      "5  (2, 114.612)               142  0.059216   2398\n"
     ]
    }
   ],
   "source": [
    "summary_df = summarize_grouped_data(train_data, ['Dispenser_num', 'Head Purge Position Z Collect Result_Fill2'])"
   ]
  },
  {
   "cell_type": "code",
   "execution_count": 156,
   "id": "3cca1545",
   "metadata": {},
   "outputs": [
    {
     "name": "stdout",
     "output_type": "stream",
     "text": [
      "<Fill2 공정 관련 변수>\n",
      "CURE_STANDBY_POSITION_Fill2\n",
      "Head Purge Position Z Collect Result_Fill2\n",
      "Machine Tact time Collect Result_Fill2\n",
      "PalletID Collect Result_Fill2\n",
      "Production Qty Collect Result_Fill2\n",
      "Receip No Collect Result_Fill2\n",
      "WorkMode Collect Result_Fill2\n",
      "CURE_DISTANCE_Fill2\n",
      "CURE_Time_Fill2\n",
      "HEAD_NORMAL_stage1_ok_Fill2\n"
     ]
    }
   ],
   "source": [
    "# '_Fill2'를 포함하는 열 이름 필터링\n",
    "Process_Desc_col = train_data.filter(like='_Fill2').columns\n",
    "\n",
    "# 필터링된 열 이름 출력\n",
    "print(\"<Fill2 공정 관련 변수>\")\n",
    "for col in Process_Desc_col:\n",
    "    print(col)"
   ]
  },
  {
   "cell_type": "code",
   "execution_count": 157,
   "id": "f7fd83a4",
   "metadata": {},
   "outputs": [
    {
     "name": "stdout",
     "output_type": "stream",
     "text": [
      "\n",
      "WorkMode Collect Result_Fill2별 target 비율 및 갯수\n",
      "\n",
      "          AbNormal    Normal  AbNormal  Normal  Total\n",
      "variable                                             \n",
      "0.0       0.073326  0.926674      1206   15241  16447\n"
     ]
    }
   ],
   "source": [
    "value_counts_ratio_count(train_data, 'WorkMode Collect Result_Fill2', 'target')"
   ]
  },
  {
   "cell_type": "code",
   "execution_count": 159,
   "id": "f52cfe0d",
   "metadata": {},
   "outputs": [
    {
     "name": "stdout",
     "output_type": "stream",
     "text": [
      "Grouped by: WorkMode Collect Result_Fill1, WorkMode Collect Result_Fill2\n",
      "\n",
      "        group  'AdNormal' count     ratio  Total\n",
      "0  (7.0, 0.0)              1206  0.073326  16447\n"
     ]
    }
   ],
   "source": [
    "summary_df = summarize_grouped_data(train_data, ['WorkMode Collect Result_Fill1', 'WorkMode Collect Result_Fill2'])"
   ]
  },
  {
   "cell_type": "code",
   "execution_count": 160,
   "id": "003403ff",
   "metadata": {},
   "outputs": [
    {
     "name": "stdout",
     "output_type": "stream",
     "text": [
      "Grouped by: WorkMode Collect Result_Dam, WorkMode Collect Result_Fill1, WorkMode Collect Result_Fill2\n",
      "\n",
      "             group  'AdNormal' count     ratio  Total\n",
      "0  (7.0, 7.0, 0.0)              1206  0.073326  16447\n"
     ]
    }
   ],
   "source": [
    "summary_df = summarize_grouped_data(train_data, ['WorkMode Collect Result_Dam', 'WorkMode Collect Result_Fill1', 'WorkMode Collect Result_Fill2'])"
   ]
  },
  {
   "cell_type": "markdown",
   "id": "5c4cc6b9",
   "metadata": {},
   "source": [
    "---"
   ]
  }
 ],
 "metadata": {
  "kernelspec": {
   "display_name": "Python 3 (ipykernel)",
   "language": "python",
   "name": "python3"
  },
  "language_info": {
   "codemirror_mode": {
    "name": "ipython",
    "version": 3
   },
   "file_extension": ".py",
   "mimetype": "text/x-python",
   "name": "python",
   "nbconvert_exporter": "python",
   "pygments_lexer": "ipython3",
   "version": "3.7.8"
  }
 },
 "nbformat": 4,
 "nbformat_minor": 5
}

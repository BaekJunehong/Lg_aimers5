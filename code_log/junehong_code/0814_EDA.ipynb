{
 "cells": [
  {
   "cell_type": "markdown",
   "id": "017e9265",
   "metadata": {},
   "source": [
    "# 제품 이상여부 판별 프로젝트\n"
   ]
  },
  {
   "cell_type": "markdown",
   "id": "acdab431",
   "metadata": {},
   "source": [
    "## 1. 데이터 불러오기\n"
   ]
  },
  {
   "cell_type": "markdown",
   "id": "2b8341e8",
   "metadata": {},
   "source": [
    "### 필수 라이브러리\n"
   ]
  },
  {
   "cell_type": "code",
   "execution_count": 293,
   "id": "a315cc58",
   "metadata": {},
   "outputs": [],
   "source": [
    "import numpy as np\n",
    "import pandas as pd\n",
    "import seaborn as sns\n",
    "import matplotlib.pyplot as plt"
   ]
  },
  {
   "cell_type": "markdown",
   "id": "4d054e30",
   "metadata": {},
   "source": [
    "### 데이터 읽어오기\n"
   ]
  },
  {
   "cell_type": "code",
   "execution_count": 294,
   "id": "fc0b4d80",
   "metadata": {},
   "outputs": [],
   "source": [
    "RANDOM_STATE = 110\n",
    "\n",
    "train_data = pd.read_csv(\"../../data/train_data.csv\")\n",
    "test_data = pd.read_csv(\"../../data/test_data.csv\")"
   ]
  },
  {
   "cell_type": "markdown",
   "id": "e23d3595",
   "metadata": {},
   "source": [
    "---"
   ]
  },
  {
   "cell_type": "markdown",
   "id": "b54df9c3",
   "metadata": {},
   "source": [
    "반복적으로 쓰는 툴 함수화"
   ]
  },
  {
   "cell_type": "code",
   "execution_count": 295,
   "id": "09d2efa7",
   "metadata": {},
   "outputs": [],
   "source": [
    "def plot_box(df, col_name):\n",
    "    \"\"\"\n",
    "    주어진 데이터프레임과 열 이름에 대해 박스 플롯을 그리는 함수.\n",
    "\n",
    "    Parameters:\n",
    "    dataframe (pd.DataFrame): 데이터프레임\n",
    "    column_name (str): 열 이름\n",
    "    \"\"\"\n",
    "    plt.figure(figsize=(7, 4))\n",
    "    plt.boxplot(df[col_name], vert=False)\n",
    "    plt.xlabel(col_name)\n",
    "    plt.title(f'Box Plot of {col_name}')\n",
    "    plt.show()"
   ]
  },
  {
   "cell_type": "code",
   "execution_count": 296,
   "id": "7515da51",
   "metadata": {},
   "outputs": [],
   "source": [
    "def value_counts_ratio(df, col_name, target_name='target'):\n",
    "    \"\"\"\n",
    "    주어진 데이터프레임의 특정 열에 대해 각 값마다 타겟 변수의 비율과 갯수, 총 갯수를 출력하는 함수.\n",
    "\n",
    "    Parameters:\n",
    "    df (pd.DataFrame): 데이터프레임\n",
    "    col_name (str): 열 이름\n",
    "    target_name (str): 타겟 변수 이름\n",
    "    \"\"\"\n",
    "    # 각 값마다 타겟 변수의 비율 계산\n",
    "    value_counts = df.groupby(col_name)[target_name].value_counts(normalize=True).unstack().fillna(0)\n",
    "    \n",
    "    # 각 값마다 타겟 변수의 갯수 계산\n",
    "    counts = df.groupby(col_name)[target_name].value_counts().unstack().fillna(0)\n",
    "    \n",
    "    # 각 값마다 총 갯수 계산\n",
    "    total_counts = df[col_name].value_counts().rename('Total_Count')\n",
    "    \n",
    "    # 비율과 갯수를 합침\n",
    "    result = value_counts.join(counts, lsuffix='_ratio', rsuffix='_count')\n",
    "    \n",
    "    # 총 갯수를 합침\n",
    "    result = result.join(total_counts, on=col_name)\n",
    "    \n",
    "    # 출력 형식 조정\n",
    "    result.index.name = 'variable'\n",
    "    print(f\"\\n{col_name}별 {target_name} 비율 및 갯수\\n\")\n",
    "    print(result.rename(columns=lambda x: x.split('_')[0]))"
   ]
  },
  {
   "cell_type": "code",
   "execution_count": 297,
   "id": "9eed238d",
   "metadata": {},
   "outputs": [],
   "source": [
    "def summarize_group(df, group_by_columns):\n",
    "    # 데이터프레임을 그룹화\n",
    "    grouped_df = df.groupby(group_by_columns)\n",
    "    \n",
    "    # 결과를 저장할 리스트 초기화\n",
    "    results = []\n",
    "    \n",
    "    # 그룹화된 데이터프레임의 내용을 확인하는 코드\n",
    "    for name, group in grouped_df:\n",
    "        # 그룹의 갯수 계산\n",
    "        group_count = group.shape[0]\n",
    "        \n",
    "        # 'target' 변수의 'AdNormal' 비율과 갯수 계산\n",
    "        adnormal_count = group['target'].value_counts().get('AbNormal', 0)\n",
    "        adnormal_ratio = adnormal_count / group_count\n",
    "        \n",
    "        # 결과 리스트에 추가\n",
    "        results.append([name, adnormal_count, adnormal_ratio, group_count])\n",
    "    \n",
    "    # 결과 리스트를 데이터프레임으로 변환\n",
    "    results_df = pd.DataFrame(results, columns=['group', \"'AdNormal' count\", 'ratio', 'Total'])\n",
    "    \n",
    "    # 그룹화된 변수들의 이름을 제목행으로 출력\n",
    "    print(f\"Grouped by: {', '.join(group_by_columns)}\")\n",
    "    print()\n",
    "    # 데이터프레임 출력\n",
    "    print(results_df)\n",
    "\n",
    "# 예시코드\n",
    "# summarize_grouped_data(train_data, ['1st Pressure Collect Result_AutoClave', '1st Pressure Unit Time_AutoClave'])"
   ]
  },
  {
   "cell_type": "code",
   "execution_count": 298,
   "id": "f4bfbd22",
   "metadata": {},
   "outputs": [],
   "source": [
    "def plot_ratio(df, group_by_column, target_column='target', abnormal_value='AbNormal'):\n",
    "    # 데이터프레임을 그룹화\n",
    "    grouped_df = df.groupby(group_by_column)\n",
    "    \n",
    "    # 결과를 저장할 리스트 초기화\n",
    "    results = []\n",
    "    \n",
    "    # 그룹화된 데이터프레임의 내용을 확인하는 코드\n",
    "    for name, group in grouped_df:\n",
    "        # 그룹의 갯수 계산\n",
    "        group_count = group.shape[0]\n",
    "        \n",
    "        # 'target' 변수의 'AbNormal' 비율과 갯수 계산\n",
    "        abnormal_count = group[target_column].value_counts().get(abnormal_value, 0)\n",
    "        abnormal_ratio = abnormal_count / group_count\n",
    "        \n",
    "        # 결과 리스트에 추가\n",
    "        results.append([name, abnormal_count, abnormal_ratio, group_count])\n",
    "    \n",
    "    # 결과 리스트를 데이터프레임으로 변환\n",
    "    results_df = pd.DataFrame(results, columns=['group', f\"'{abnormal_value}' count\", 'ratio', 'Total'])\n",
    "    \n",
    "    # 그래프 크기 설정\n",
    "    plt.figure(figsize=(10, 5))\n",
    "    \n",
    "    # 막대 그래프 생성\n",
    "    ax = results_df.plot(kind='bar', x='group', y='ratio', legend=False)\n",
    "    \n",
    "    # 각 막대 위에 AbNormal 갯수와 총 갯수 표시\n",
    "    for i, (abnormal_count, total) in enumerate(zip(results_df[f\"'{abnormal_value}' count\"], results_df['Total'])):\n",
    "        ax.text(i, results_df['ratio'][i], f'{abnormal_count} ({total})', ha='center', va='bottom', fontsize=8)\n",
    "    \n",
    "     # 그래프 제목 및 축 레이블 설정\n",
    "    ax.set_title(f'{abnormal_value} Ratio by {group_by_column}')\n",
    "    ax.set_xlabel(group_by_column)\n",
    "    ax.set_ylabel(f'{abnormal_value} Ratio')\n",
    "   \n",
    "    # 그래프 출력\n",
    "    plt.show()"
   ]
  },
  {
   "cell_type": "code",
   "execution_count": 299,
   "id": "aad45361",
   "metadata": {},
   "outputs": [],
   "source": [
    "import matplotlib.pyplot as plt\n",
    "import seaborn as sns\n",
    "\n",
    "def plot_ratio_boxplot(data, time_ratio_column, target_column='target'):\n",
    "    # 그래프 스타일 설정\n",
    "    sns.set(style=\"whitegrid\")\n",
    "\n",
    "    # 그래프 그리기\n",
    "    plt.figure(figsize=(10, 6))\n",
    "    sns.boxplot(x=time_ratio_column, y=target_column, data=data)\n",
    "\n",
    "    # 그래프 제목 및 레이블 설정\n",
    "    plt.title(f'{time_ratio_column} vs {target_column}')\n",
    "    plt.xlabel(time_ratio_column)\n",
    "    plt.ylabel(target_column)\n",
    "\n",
    "    # 그래프 출력\n",
    "    plt.show()\n",
    "\n",
    "# 함수 호출 예제\n",
    "#plot_time_ratio_vs_target(train_data, 'time_ratio_Dam')"
   ]
  },
  {
   "cell_type": "markdown",
   "id": "08a8a90c",
   "metadata": {},
   "source": [
    "---"
   ]
  },
  {
   "cell_type": "markdown",
   "id": "1662be8c",
   "metadata": {},
   "source": [
    "### 1. Workorder"
   ]
  },
  {
   "cell_type": "markdown",
   "id": "f473c6a0",
   "metadata": {},
   "source": [
    "xxxxx-0001 -> xxxxx-1 변환 코드"
   ]
  },
  {
   "cell_type": "code",
   "execution_count": 300,
   "id": "b0ecbafe",
   "metadata": {},
   "outputs": [],
   "source": [
    "# 'Workorder_AutoClave' 열에서 '-' 다음 숫자 값 추출 및 '000' 제거\n",
    "train_data['Workorder'] = train_data['Workorder'].str.replace(r'-(\\d+)', lambda x: '-' + x.group(1).lstrip('0'), regex=True)\n",
    "test_data['Workorder'] = test_data['Workorder'].str.replace(r'-(\\d+)', lambda x: '-' + x.group(1).lstrip('0'), regex=True)"
   ]
  },
  {
   "cell_type": "markdown",
   "id": "e5c217a4",
   "metadata": {},
   "source": [
    "아래의 Workorder에 대한 비율에 따른 범주화 관련 내용은 회의때 다뤄봐야 될듯"
   ]
  },
  {
   "cell_type": "code",
   "execution_count": null,
   "id": "0f1dfc6f",
   "metadata": {},
   "outputs": [],
   "source": [
    "# # 타겟 변수를 0과 1로 변환\n",
    "# train_data['target_binary'] = train_data['target'].apply(lambda x: 1 if x == 'AbNormal' else 0)\n",
    "\n",
    "# # Workorder 변수의 값에 대한 타겟 변수 비율 계산\n",
    "# workorder_target_ratio = train_data.groupby('Workorder')['target_binary'].mean()\n",
    "\n",
    "# # 불필요한 변수 제거\n",
    "# train_data.drop(['target_binary'], axis=1, inplace=True)\n",
    "\n",
    "# # 파생 변수 생성 함수\n",
    "# def create_derived_variable(row, ratio_dict, threshold):\n",
    "#     return 1 if ratio_dict.get(row['Workorder'], 0) >= threshold else 0\n",
    "\n",
    "# # 파생 변수 생성\n",
    "# train_data['Workorder_0.9'] = train_data.apply(create_derived_variable, axis=1, ratio_dict=workorder_target_ratio, threshold=0.9)\n",
    "# train_data['Workorder_0.7'] = train_data.apply(create_derived_variable, axis=1, ratio_dict=workorder_target_ratio, threshold=0.7)\n",
    "# train_data['Workorder_0.5'] = train_data.apply(create_derived_variable, axis=1, ratio_dict=workorder_target_ratio, threshold=0.5)\n",
    "\n",
    "# test_data['Workorder_0.9'] = test_data.apply(create_derived_variable, axis=1, ratio_dict=workorder_target_ratio, threshold=0.9)\n",
    "# test_data['Workorder_0.7'] = test_data.apply(create_derived_variable, axis=1, ratio_dict=workorder_target_ratio, threshold=0.7)\n",
    "# test_data['Workorder_0.5'] = test_data.apply(create_derived_variable, axis=1, ratio_dict=workorder_target_ratio, threshold=0.5)"
   ]
  },
  {
   "cell_type": "code",
   "execution_count": null,
   "id": "765c8ee6",
   "metadata": {},
   "outputs": [],
   "source": [
    "# # 결과 확인\n",
    "# value_counts_ratio(train_data, 'Workorder_0.9')\n",
    "# value_counts_ratio(train_data, 'Workorder_0.7')\n",
    "# value_counts_ratio(train_data, 'Workorder_0.5')"
   ]
  },
  {
   "cell_type": "markdown",
   "id": "08baeb14",
   "metadata": {},
   "source": [
    "### 2. Dispenser_num"
   ]
  },
  {
   "cell_type": "markdown",
   "id": "03dd5e0c",
   "metadata": {},
   "source": [
    "원본 데이터상으로는 Equiment 변수  \n",
    "Dispneser_num 값으로 0 #1 #2 값 -> 원핫인코딩으로 변경"
   ]
  },
  {
   "cell_type": "markdown",
   "id": "e142615f",
   "metadata": {},
   "source": [
    "Dispenser 값을 범주로서 인식이 아닌 #1 #2 에 따라 학습되는 행이 달라지게 하기 위함"
   ]
  },
  {
   "cell_type": "code",
   "execution_count": 304,
   "id": "7cb6b4c8",
   "metadata": {},
   "outputs": [
    {
     "name": "stdout",
     "output_type": "stream",
     "text": [
      "\n",
      "['Dispenser_num', 'Dispenser_1', 'Dispenser_2']별 target 비율 및 갯수\n",
      "\n",
      "                                       AbNormal    Normal  AbNormal   Normal  \\\n",
      "Dispenser_num Dispenser_1 Dispenser_2                                          \n",
      "#0            0           0            1.000000  0.000000      34.0      0.0   \n",
      "#1            1           0            0.058614  0.941386    1466.0  23545.0   \n",
      "#2            0           1            0.054977  0.945023     850.0  14611.0   \n",
      "\n",
      "                                       Total  \n",
      "Dispenser_num Dispenser_1 Dispenser_2         \n",
      "#0            0           0               34  \n",
      "#1            1           0            25011  \n",
      "#2            0           1            15461  \n"
     ]
    }
   ],
   "source": [
    "# Dispenser_num 값에 따라 새로운 변수 생성\n",
    "train_data['Dispenser_1'] = train_data['Dispenser_num'].apply(lambda x: 1 if x == '#1' else 0)\n",
    "train_data['Dispenser_2'] = train_data['Dispenser_num'].apply(lambda x: 1 if x == '#2' else 0)\n",
    "\n",
    "test_data['Dispenser_1'] = test_data['Dispenser_num'].apply(lambda x: 1 if x == '#1' else 0)\n",
    "test_data['Dispenser_2'] = test_data['Dispenser_num'].apply(lambda x: 1 if x == '#2' else 0)\n",
    "\n",
    "# 불필요한 변수 제거\n",
    "train_data.drop(['Dispenser_num'], axis=1, inplace=True)\n",
    "test_data.drop(['Dispenser_num'], axis=1, inplace=True)"
   ]
  },
  {
   "cell_type": "markdown",
   "id": "998fd298",
   "metadata": {},
   "source": [
    "### 3. WorkMode Collect Result"
   ]
  },
  {
   "cell_type": "code",
   "execution_count": 305,
   "id": "682f069c",
   "metadata": {},
   "outputs": [
    {
     "name": "stdout",
     "output_type": "stream",
     "text": [
      "target                                                                                   AbNormal  \\\n",
      "WorkMode Collect Result_Dam WorkMode Collect Result_Fill1 WorkMode Collect Result_Fill2             \n",
      "7.0                         7.0                           0.0                            0.073326   \n",
      "\n",
      "target                                                                                     Normal  \n",
      "WorkMode Collect Result_Dam WorkMode Collect Result_Fill1 WorkMode Collect Result_Fill2            \n",
      "7.0                         7.0                           0.0                            0.926674  \n"
     ]
    }
   ],
   "source": [
    "# 그룹화할 변수들\n",
    "groupby_columns = [\n",
    "    \"WorkMode Collect Result_Dam\"\n",
    "    ,\"WorkMode Collect Result_Fill1\"\n",
    "    , \"WorkMode Collect Result_Fill2\"\n",
    "    ]\n",
    "\n",
    "# 그룹화하여 target 변수 값의 비율을 계산\n",
    "grouped = train_data.groupby(groupby_columns)[\"target\"].value_counts(normalize=True).unstack().fillna(0)\n",
    "\n",
    "# 결과 출력\n",
    "print(grouped)"
   ]
  },
  {
   "cell_type": "markdown",
   "id": "3278e5ae",
   "metadata": {},
   "source": [
    "하나의 그룹으로 묶이고 이때 하나의 고윳값만을 가짐  \n",
    "-> 한개의 변수만 냅두고 나머지 drop, 냅둔 변수에 대해서는 값이 있음면 1 없으면 0을 부여"
   ]
  },
  {
   "cell_type": "code",
   "execution_count": 306,
   "id": "9181d1d6",
   "metadata": {},
   "outputs": [],
   "source": [
    "# WorkMode Collect Result_Dam의 이름을 WorkMode Collect Result로 변경\n",
    "train_data = train_data.rename(columns={'WorkMode Collect Result_Dam': 'WorkMode Collect Result'})\n",
    "test_data = test_data.rename(columns={'WorkMode Collect Result_Dam': 'WorkMode Collect Result'})\n",
    "\n",
    "# WorkMode Collect Result_Fill1, WorkMode Collect Result_Fill2 열 드롭\n",
    "train_data = train_data.drop(columns=['WorkMode Collect Result_Fill1', 'WorkMode Collect Result_Fill2'])\n",
    "test_data = test_data.drop(columns=['WorkMode Collect Result_Fill1', 'WorkMode Collect Result_Fill2'])"
   ]
  },
  {
   "cell_type": "code",
   "execution_count": 307,
   "id": "e7daca7e",
   "metadata": {},
   "outputs": [],
   "source": [
    "# WorkMode Collect Result 열의 값이 7인 행을 1로 변경\n",
    "train_data['WorkMode Collect Result'] = train_data['WorkMode Collect Result'].replace(7, 1)\n",
    "test_data['WorkMode Collect Result'] = test_data['WorkMode Collect Result'].replace(7, 1)\n",
    "\n",
    "# WorkMode Collect Result 열의 결측값을 0으로 채움\n",
    "train_data['WorkMode Collect Result'] = train_data['WorkMode Collect Result'].fillna(0)\n",
    "test_data['WorkMode Collect Result'] = test_data['WorkMode Collect Result'].fillna(0)"
   ]
  },
  {
   "cell_type": "code",
   "execution_count": 308,
   "id": "01abe0fd",
   "metadata": {},
   "outputs": [
    {
     "data": {
      "text/plain": [
       "0.0    24059\n",
       "1.0    16447\n",
       "Name: WorkMode Collect Result, dtype: int64"
      ]
     },
     "execution_count": 308,
     "metadata": {},
     "output_type": "execute_result"
    }
   ],
   "source": [
    "test_data['WorkMode Collect Result'].value_counts()"
   ]
  },
  {
   "cell_type": "markdown",
   "id": "968cd88f",
   "metadata": {},
   "source": [
    "### 4. Receip No Collect Result"
   ]
  },
  {
   "cell_type": "code",
   "execution_count": 309,
   "id": "35da9820",
   "metadata": {},
   "outputs": [
    {
     "name": "stdout",
     "output_type": "stream",
     "text": [
      "Grouped by: Receip No Collect Result_Dam, Receip No Collect Result_Fill1, Receip No Collect Result_Fill2\n",
      "\n",
      "          group  'AdNormal' count     ratio  Total\n",
      "0     (1, 1, 1)              2215  0.056396  39276\n",
      "1     (1, 4, 1)                 1  1.000000      1\n",
      "2     (1, 6, 6)                 3  1.000000      3\n",
      "3     (3, 3, 3)                43  0.671875     64\n",
      "4     (6, 6, 6)                82  0.083673    980\n",
      "5     (9, 9, 9)                 1  0.010417     96\n",
      "6  (17, 17, 17)                 5  0.058140     86\n"
     ]
    }
   ],
   "source": [
    "summarize_group(train_data, [\n",
    "    'Receip No Collect Result_Dam'\n",
    "    , 'Receip No Collect Result_Fill1'\n",
    "    , 'Receip No Collect Result_Fill2'])"
   ]
  },
  {
   "cell_type": "markdown",
   "id": "1693711d",
   "metadata": {},
   "source": [
    "다른값을 가지면 AbNormal ratio 1 임을 위의 결과로 확인 가능"
   ]
  },
  {
   "cell_type": "code",
   "execution_count": 310,
   "id": "2c6ac135",
   "metadata": {},
   "outputs": [],
   "source": [
    "# 세 변수의 값이 동일하면 해당 값을 가져가고, 하나라도 일치하지 않으면 0의 값을 가지는 파생 변수 생성 함수\n",
    "def create_receip_no_collect_result(df):\n",
    "    df['Receip_No_Collect_Result'] = df.apply(\n",
    "        lambda row: row['Receip No Collect Result_Dam'] \n",
    "                    if (row['Receip No Collect Result_Dam'] == row['Receip No Collect Result_Fill1'] == row['Receip No Collect Result_Fill2']) \n",
    "                    else 0, \n",
    "        axis=1\n",
    "    )\n",
    "\n",
    "# 함수 적용\n",
    "create_receip_no_collect_result(train_data)\n",
    "create_receip_no_collect_result(test_data)"
   ]
  },
  {
   "cell_type": "code",
   "execution_count": 311,
   "id": "4a12c3ae",
   "metadata": {},
   "outputs": [
    {
     "name": "stdout",
     "output_type": "stream",
     "text": [
      "\n",
      "Receip_No_Collect_Result별 target 비율 및 갯수\n",
      "\n",
      "          AbNormal    Normal  AbNormal   Normal  Total\n",
      "variable                                              \n",
      "0         1.000000  0.000000       4.0      0.0      4\n",
      "1         0.056396  0.943604    2215.0  37061.0  39276\n",
      "3         0.671875  0.328125      43.0     21.0     64\n",
      "6         0.083673  0.916327      82.0    898.0    980\n",
      "9         0.010417  0.989583       1.0     95.0     96\n",
      "17        0.058140  0.941860       5.0     81.0     86\n"
     ]
    }
   ],
   "source": [
    "value_counts_ratio(train_data, 'Receip_No_Collect_Result')"
   ]
  },
  {
   "cell_type": "code",
   "execution_count": 312,
   "id": "2ac44663",
   "metadata": {},
   "outputs": [],
   "source": [
    "# 제거할 변수 목록\n",
    "columns_to_drop = [\n",
    "    'Receip No Collect Result_Dam',\n",
    "    'Receip No Collect Result_Fill1',\n",
    "    'Receip No Collect Result_Fill2'\n",
    "]\n",
    "\n",
    "# 변수 제거\n",
    "train_data.drop(columns=columns_to_drop, inplace=True)\n",
    "test_data.drop(columns=columns_to_drop, inplace=True)"
   ]
  },
  {
   "cell_type": "markdown",
   "id": "982a4410",
   "metadata": {},
   "source": [
    "### 5. PalletID_Collect_Result"
   ]
  },
  {
   "cell_type": "code",
   "execution_count": 313,
   "id": "6ac32f9f",
   "metadata": {},
   "outputs": [
    {
     "name": "stdout",
     "output_type": "stream",
     "text": [
      "Grouped by: PalletID Collect Result_Dam, PalletID Collect Result_Fill1, PalletID Collect Result_Fill2\n",
      "\n",
      "           group  'AdNormal' count     ratio  Total\n",
      "0      (1, 1, 1)               162  0.051494   3146\n",
      "1      (1, 1, 4)                 1  1.000000      1\n",
      "2      (1, 1, 7)                 1  1.000000      1\n",
      "3      (1, 1, 9)                 1  1.000000      1\n",
      "4      (1, 2, 2)                 1  1.000000      1\n",
      "..           ...               ...       ...    ...\n",
      "87  (16, 10, 10)                 1  1.000000      1\n",
      "88  (16, 15, 15)                 1  1.000000      1\n",
      "89   (16, 16, 8)                 1  1.000000      1\n",
      "90  (16, 16, 11)                 1  1.000000      1\n",
      "91  (16, 16, 16)               110  0.062007   1774\n",
      "\n",
      "[92 rows x 4 columns]\n"
     ]
    }
   ],
   "source": [
    "# 결과 확인\n",
    "summarize_group(train_data,[\n",
    "    'PalletID Collect Result_Dam'\n",
    "    , 'PalletID Collect Result_Fill1'\n",
    "    , 'PalletID Collect Result_Fill2'])"
   ]
  },
  {
   "cell_type": "markdown",
   "id": "15ef86f4",
   "metadata": {},
   "source": [
    "PalletID 도 마찬가지로 3개의 값이 일치하지 않을 경우 AbNormal ratio 값이 1로 확인됨"
   ]
  },
  {
   "cell_type": "code",
   "execution_count": 314,
   "id": "87b03764",
   "metadata": {},
   "outputs": [],
   "source": [
    "# 세 변수의 값이 동일하면 해당 값을 가져가고, 하나라도 일치하지 않으면 0의 값을 가지는 파생 변수 생성 함수\n",
    "def create_palletid_collect_result(df):\n",
    "    df['PalletID_Collect_Result'] = df.apply(\n",
    "        lambda row: row['PalletID Collect Result_Dam'] \n",
    "                    if (row['PalletID Collect Result_Dam'] == row['PalletID Collect Result_Fill1'] == row['PalletID Collect Result_Fill2']) \n",
    "                    else 0, \n",
    "        axis=1\n",
    "    )\n",
    "\n",
    "# 함수 적용\n",
    "create_palletid_collect_result(train_data)\n",
    "create_palletid_collect_result(test_data)"
   ]
  },
  {
   "cell_type": "code",
   "execution_count": 315,
   "id": "34510104",
   "metadata": {},
   "outputs": [
    {
     "name": "stdout",
     "output_type": "stream",
     "text": [
      "\n",
      "PalletID_Collect_Result별 target 비율 및 갯수\n",
      "\n",
      "          AbNormal    Normal  AbNormal  Normal  Total\n",
      "variable                                             \n",
      "0         1.000000  0.000000      83.0     0.0     83\n",
      "1         0.051494  0.948506     162.0  2984.0   3146\n",
      "2         0.066859  0.933141     209.0  2917.0   3126\n",
      "3         0.063171  0.936829     200.0  2966.0   3166\n",
      "4         0.053875  0.946125     171.0  3003.0   3174\n",
      "5         0.054115  0.945885     167.0  2919.0   3086\n",
      "6         0.058125  0.941875     181.0  2933.0   3114\n",
      "7         0.052922  0.947078     163.0  2917.0   3080\n",
      "8         0.057412  0.942588     177.0  2906.0   3083\n",
      "9         0.045929  0.954071      88.0  1828.0   1916\n",
      "10        0.051117  0.948883     103.0  1912.0   2015\n",
      "11        0.057158  0.942842     109.0  1798.0   1907\n",
      "12        0.042394  0.957606      85.0  1920.0   2005\n",
      "13        0.068766  0.931234     131.0  1774.0   1905\n",
      "14        0.048485  0.951515      96.0  1884.0   1980\n",
      "15        0.059096  0.940904     115.0  1831.0   1946\n",
      "16        0.062007  0.937993     110.0  1664.0   1774\n"
     ]
    }
   ],
   "source": [
    "# 결과 확인\n",
    "value_counts_ratio(train_data,'PalletID_Collect_Result')"
   ]
  },
  {
   "cell_type": "code",
   "execution_count": 316,
   "id": "24f650fb",
   "metadata": {},
   "outputs": [],
   "source": [
    "# 제거할 변수 목록\n",
    "columns_to_drop = [\n",
    "    'PalletID Collect Result_Dam',\n",
    "    'PalletID Collect Result_Fill1',\n",
    "    'PalletID Collect Result_Fill2'\n",
    "]\n",
    "\n",
    "# 변수 제거\n",
    "train_data.drop(columns=columns_to_drop, inplace=True)\n",
    "test_data.drop(columns=columns_to_drop, inplace=True)"
   ]
  },
  {
   "cell_type": "markdown",
   "id": "1a6195b5",
   "metadata": {},
   "source": [
    "### 6. Production Qty Collect Result"
   ]
  },
  {
   "cell_type": "code",
   "execution_count": 317,
   "id": "2b9903a3",
   "metadata": {},
   "outputs": [
    {
     "name": "stdout",
     "output_type": "stream",
     "text": [
      "Grouped by: Production Qty Collect Result_Dam, Production Qty Collect Result_Fill1, Production Qty Collect Result_Fill2\n",
      "\n",
      "               group  'AdNormal' count     ratio  Total\n",
      "0          (0, 0, 0)                13  0.141304     92\n",
      "1         (0, 0, 12)                 1  1.000000      1\n",
      "2        (0, 0, 300)                 1  1.000000      1\n",
      "3          (0, 2, 2)                 1  1.000000      1\n",
      "4        (0, 19, 19)                 1  1.000000      1\n",
      "..               ...               ...       ...    ...\n",
      "695  (604, 604, 604)                 0  0.000000      1\n",
      "696  (605, 605, 605)                 0  0.000000      1\n",
      "697  (606, 606, 606)                 0  0.000000      1\n",
      "698  (607, 607, 607)                 0  0.000000      1\n",
      "699  (608, 608, 608)                 0  0.000000      1\n",
      "\n",
      "[700 rows x 4 columns]\n"
     ]
    }
   ],
   "source": [
    "# 결과 확인\n",
    "summarize_group(train_data,[\n",
    "    'Production Qty Collect Result_Dam'\n",
    "    , 'Production Qty Collect Result_Fill1'\n",
    "    , 'Production Qty Collect Result_Fill2'])"
   ]
  },
  {
   "cell_type": "code",
   "execution_count": 318,
   "id": "911e2eb6",
   "metadata": {},
   "outputs": [],
   "source": [
    "# 세 변수의 값이 동일하면 해당 값을 가져가고, 하나라도 일치하지 않으면 0의 값을 가지는 파생 변수 생성 함수\n",
    "def create_palletid_collect_result(df):\n",
    "    df['Production_Qty_Collect_Result'] = df.apply(\n",
    "        lambda row: row['Production Qty Collect Result_Dam'] \n",
    "                    if (row['Production Qty Collect Result_Dam'] == row['Production Qty Collect Result_Fill1'] == row['Production Qty Collect Result_Fill2']) \n",
    "                    else 0, \n",
    "        axis=1\n",
    "    )\n",
    "\n",
    "# 함수 적용\n",
    "create_palletid_collect_result(train_data)\n",
    "create_palletid_collect_result(test_data)"
   ]
  },
  {
   "cell_type": "code",
   "execution_count": 319,
   "id": "5a72c200",
   "metadata": {},
   "outputs": [
    {
     "name": "stdout",
     "output_type": "stream",
     "text": [
      "\n",
      "Production_Qty_Collect_Result별 target 비율 및 갯수\n",
      "\n",
      "          AbNormal    Normal  AbNormal  Normal  Total\n",
      "variable                                             \n",
      "0         0.572973  0.427027     106.0    79.0    185\n",
      "1         0.132075  0.867925      14.0    92.0    106\n",
      "2         0.059829  0.940171       7.0   110.0    117\n",
      "3         0.076271  0.923729       9.0   109.0    118\n",
      "4         0.034783  0.965217       4.0   111.0    115\n",
      "...            ...       ...       ...     ...    ...\n",
      "604       0.000000  1.000000       0.0     1.0      1\n",
      "605       0.000000  1.000000       0.0     1.0      1\n",
      "606       0.000000  1.000000       0.0     1.0      1\n",
      "607       0.000000  1.000000       0.0     1.0      1\n",
      "608       0.000000  1.000000       0.0     1.0      1\n",
      "\n",
      "[607 rows x 5 columns]\n"
     ]
    }
   ],
   "source": [
    "# 결과 확인\n",
    "value_counts_ratio(train_data,'Production_Qty_Collect_Result')"
   ]
  },
  {
   "cell_type": "markdown",
   "id": "c3a05b7e",
   "metadata": {},
   "source": [
    "0값이 공정별 Production_Qty_Collect_Result 값이 같지 않는 경우에 해당  \n",
    "무조건으로 AbNormal 비율이 1은 아니지만 0.57 값을 가지며 상대적으로 높음으로 0값을 취하도록 함"
   ]
  },
  {
   "cell_type": "code",
   "execution_count": 320,
   "id": "0d37b4ac",
   "metadata": {},
   "outputs": [],
   "source": [
    "# 제거할 변수 목록\n",
    "columns_to_drop = [\n",
    "    'Production Qty Collect Result_Dam',\n",
    "    'Production Qty Collect Result_Fill1',\n",
    "    'Production Qty Collect Result_Fill2'\n",
    "]\n",
    "\n",
    "# 변수 제거\n",
    "train_data.drop(columns=columns_to_drop, inplace=True)\n",
    "test_data.drop(columns=columns_to_drop, inplace=True)"
   ]
  },
  {
   "cell_type": "markdown",
   "id": "43c8c1b6",
   "metadata": {},
   "source": [
    "### 7. Judge Value"
   ]
  },
  {
   "cell_type": "code",
   "execution_count": 321,
   "id": "446e2d8c",
   "metadata": {},
   "outputs": [
    {
     "name": "stdout",
     "output_type": "stream",
     "text": [
      "['HEAD NORMAL COORDINATE X AXIS(Stage1) Judge Value_Dam', 'Chamber Temp. Judge Value_AutoClave', 'GMES_ORIGIN_INSP_JUDGE_CODE Judge Value_AutoClave', 'HEAD NORMAL COORDINATE X AXIS(Stage1) Judge Value_Fill1', 'HEAD NORMAL COORDINATE X AXIS(Stage1) Judge Value_Fill2']\n"
     ]
    }
   ],
   "source": [
    "# \"Judge Value\"를 포함하는 변수 필터링\n",
    "judge_value_columns = [col for col in train_data.columns if \"Judge Value\" in col]\n",
    "\n",
    "# 필터링된 변수 출력\n",
    "print(judge_value_columns)"
   ]
  },
  {
   "cell_type": "code",
   "execution_count": 322,
   "id": "6cc25740",
   "metadata": {},
   "outputs": [
    {
     "name": "stdout",
     "output_type": "stream",
     "text": [
      "\n",
      "Chamber Temp. Judge Value_AutoClave별 target 비율 및 갯수\n",
      "\n",
      "          AbNormal    Normal  AbNormal  Normal  Total\n",
      "variable                                             \n",
      "NG        0.057135  0.942865       651   10743  11394\n",
      "OK        0.058361  0.941639      1699   27413  29112\n"
     ]
    }
   ],
   "source": [
    "value_counts_ratio(train_data, 'Chamber Temp. Judge Value_AutoClave')"
   ]
  },
  {
   "cell_type": "code",
   "execution_count": 323,
   "id": "940df890",
   "metadata": {},
   "outputs": [],
   "source": [
    "# \"Chamber Temp. Judge Value_AutoClave\" 변수의 값을 기준으로 파생 변수 생성 함수\n",
    "def create_judge_value_binary(df):\n",
    "    df['Chamber_Temp_OKNG'] = df['Chamber Temp. Judge Value_AutoClave'].apply(\n",
    "        lambda x: 1 if x == 'OK' else 0\n",
    "    )\n",
    "\n",
    "# 함수 적용\n",
    "create_judge_value_binary(train_data)\n",
    "create_judge_value_binary(test_data)"
   ]
  },
  {
   "cell_type": "code",
   "execution_count": 324,
   "id": "43711722",
   "metadata": {},
   "outputs": [
    {
     "name": "stdout",
     "output_type": "stream",
     "text": [
      "\n",
      "Chamber_Temp_OKNG별 target 비율 및 갯수\n",
      "\n",
      "          AbNormal    Normal  AbNormal  Normal  Total\n",
      "variable                                             \n",
      "0         0.057135  0.942865       651   10743  11394\n",
      "1         0.058361  0.941639      1699   27413  29112\n"
     ]
    }
   ],
   "source": [
    "value_counts_ratio(train_data, 'Chamber_Temp_OKNG')"
   ]
  },
  {
   "cell_type": "markdown",
   "id": "2458140d",
   "metadata": {},
   "source": [
    "'Chamber Temp. Judge Value_AutoClave'(Chamber_Temp_OKNG) 는 NG 값과 OK 값을 가짐  \n",
    "-> 'Chamber Temp. Judge Value_AutoClave' 변수를 제외한 나머지 변수 확인"
   ]
  },
  {
   "cell_type": "code",
   "execution_count": 325,
   "id": "7dc2be42",
   "metadata": {},
   "outputs": [
    {
     "name": "stdout",
     "output_type": "stream",
     "text": [
      "Grouped by: HEAD NORMAL COORDINATE X AXIS(Stage1) Judge Value_Dam, GMES_ORIGIN_INSP_JUDGE_CODE Judge Value_AutoClave, HEAD NORMAL COORDINATE X AXIS(Stage1) Judge Value_Fill1, HEAD NORMAL COORDINATE X AXIS(Stage1) Judge Value_Fill2\n",
      "\n",
      "              group  'AdNormal' count     ratio  Total\n",
      "0  (OK, OK, OK, OK)               496  0.043921  11293\n"
     ]
    }
   ],
   "source": [
    "summarize_group(train_data, [\n",
    "    'HEAD NORMAL COORDINATE X AXIS(Stage1) Judge Value_Dam'\n",
    "    , 'GMES_ORIGIN_INSP_JUDGE_CODE Judge Value_AutoClave'\n",
    "    , 'HEAD NORMAL COORDINATE X AXIS(Stage1) Judge Value_Fill1'\n",
    "    , 'HEAD NORMAL COORDINATE X AXIS(Stage1) Judge Value_Fill2'])"
   ]
  },
  {
   "cell_type": "markdown",
   "id": "d14915c6",
   "metadata": {},
   "source": [
    "OK 값을 고유값으로 가짐 -> OK 값을 가지면 1 아니면 0을 부여"
   ]
  },
  {
   "cell_type": "code",
   "execution_count": 326,
   "id": "e3a43b42",
   "metadata": {},
   "outputs": [],
   "source": [
    "# 4개의 변수 목록\n",
    "judge_value_columns = [\n",
    "    'HEAD NORMAL COORDINATE X AXIS(Stage1) Judge Value_Dam',\n",
    "    'GMES_ORIGIN_INSP_JUDGE_CODE Judge Value_AutoClave',\n",
    "    'HEAD NORMAL COORDINATE X AXIS(Stage1) Judge Value_Fill1',\n",
    "    'HEAD NORMAL COORDINATE X AXIS(Stage1) Judge Value_Fill2'\n",
    "]\n",
    "\n",
    "# 파생 변수 생성 함수\n",
    "def create_judge_value_feature(df):\n",
    "    df['Judge_Value_OK'] = df[judge_value_columns].apply(\n",
    "        lambda row: 1 if any(row == 'OK') else 0, \n",
    "        axis=1\n",
    "    )\n",
    "\n",
    "# 함수 적용\n",
    "create_judge_value_feature(train_data)\n",
    "create_judge_value_feature(test_data)"
   ]
  },
  {
   "cell_type": "code",
   "execution_count": 327,
   "id": "a4f91ede",
   "metadata": {},
   "outputs": [
    {
     "name": "stdout",
     "output_type": "stream",
     "text": [
      "\n",
      "Judge_Value_OK별 target 비율 및 갯수\n",
      "\n",
      "          AbNormal    Normal  AbNormal  Normal  Total\n",
      "variable                                             \n",
      "0         0.063465  0.936535      1854   27359  29213\n",
      "1         0.043921  0.956079       496   10797  11293\n"
     ]
    }
   ],
   "source": [
    "value_counts_ratio(train_data, 'Judge_Value_OK')"
   ]
  },
  {
   "cell_type": "code",
   "execution_count": 328,
   "id": "fbe838c3",
   "metadata": {},
   "outputs": [
    {
     "name": "stdout",
     "output_type": "stream",
     "text": [
      "Grouped by: Chamber_Temp_OKNG, Judge_Value_OK\n",
      "\n",
      "    group  'AdNormal' count     ratio  Total\n",
      "0  (0, 0)               512  0.062645   8173\n",
      "1  (0, 1)               139  0.043154   3221\n",
      "2  (1, 0)              1342  0.063783  21040\n",
      "3  (1, 1)               357  0.044227   8072\n"
     ]
    }
   ],
   "source": [
    "summarize_group(train_data, [\n",
    "    'Chamber_Temp_OKNG'\n",
    "    ,'Judge_Value_OK'])"
   ]
  },
  {
   "cell_type": "markdown",
   "id": "61a7e00e",
   "metadata": {},
   "source": [
    "ok 관련 값을 가지는 변수는 위의 2가지 경우  \n",
    "-> 전처리 과정에서 불필요한 변수라면 drop해도 괜찮을듯"
   ]
  },
  {
   "cell_type": "code",
   "execution_count": 330,
   "id": "369757f1",
   "metadata": {},
   "outputs": [
    {
     "name": "stdout",
     "output_type": "stream",
     "text": [
      "<class 'pandas.core.frame.DataFrame'>\n",
      "RangeIndex: 40506 entries, 0 to 40505\n",
      "Columns: 114 entries, Model.Suffix to Judge_Value_OK\n",
      "dtypes: float64(56), int64(49), object(9)\n",
      "memory usage: 35.2+ MB\n"
     ]
    }
   ],
   "source": [
    "train_data.info()"
   ]
  },
  {
   "cell_type": "code",
   "execution_count": 331,
   "id": "c1a78c2b",
   "metadata": {},
   "outputs": [
    {
     "name": "stdout",
     "output_type": "stream",
     "text": [
      "<class 'pandas.core.frame.DataFrame'>\n",
      "RangeIndex: 40506 entries, 0 to 40505\n",
      "Columns: 114 entries, Model.Suffix to Judge_Value_OK\n",
      "dtypes: float64(56), int64(49), object(9)\n",
      "memory usage: 35.2+ MB\n"
     ]
    }
   ],
   "source": [
    "test_data.info()"
   ]
  }
 ],
 "metadata": {
  "kernelspec": {
   "display_name": "Python 3 (ipykernel)",
   "language": "python",
   "name": "python3"
  },
  "language_info": {
   "codemirror_mode": {
    "name": "ipython",
    "version": 3
   },
   "file_extension": ".py",
   "mimetype": "text/x-python",
   "name": "python",
   "nbconvert_exporter": "python",
   "pygments_lexer": "ipython3",
   "version": "3.7.8"
  }
 },
 "nbformat": 4,
 "nbformat_minor": 5
}

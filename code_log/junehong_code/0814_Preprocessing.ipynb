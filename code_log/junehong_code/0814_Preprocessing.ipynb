{
 "cells": [
  {
   "cell_type": "markdown",
   "id": "017e9265",
   "metadata": {},
   "source": [
    "# 제품 이상여부 판별 프로젝트\n"
   ]
  },
  {
   "cell_type": "markdown",
   "id": "acdab431",
   "metadata": {},
   "source": [
    "## 1. 데이터 불러오기\n"
   ]
  },
  {
   "cell_type": "markdown",
   "id": "2b8341e8",
   "metadata": {},
   "source": [
    "### 필수 라이브러리\n"
   ]
  },
  {
   "cell_type": "code",
   "execution_count": 388,
   "id": "a315cc58",
   "metadata": {},
   "outputs": [],
   "source": [
    "import pandas as pd\n",
    "import matplotlib.pyplot as plt"
   ]
  },
  {
   "cell_type": "markdown",
   "id": "4d054e30",
   "metadata": {},
   "source": [
    "### 데이터 읽어오기\n"
   ]
  },
  {
   "cell_type": "code",
   "execution_count": 389,
   "id": "fc0b4d80",
   "metadata": {},
   "outputs": [],
   "source": [
    "RANDOM_STATE = 110\n",
    "\n",
    "train_data = pd.read_csv(\"../../data/train_data.csv\")\n",
    "test_data = pd.read_csv(\"../../data/test_data.csv\")"
   ]
  },
  {
   "cell_type": "markdown",
   "id": "e23d3595",
   "metadata": {},
   "source": [
    "---"
   ]
  },
  {
   "cell_type": "markdown",
   "id": "1662be8c",
   "metadata": {},
   "source": [
    "### 1. Workorder"
   ]
  },
  {
   "cell_type": "markdown",
   "id": "f473c6a0",
   "metadata": {},
   "source": [
    "xxxxx-0001 -> xxxxx-1 변환 코드"
   ]
  },
  {
   "cell_type": "code",
   "execution_count": 390,
   "id": "b0ecbafe",
   "metadata": {},
   "outputs": [],
   "source": [
    "# 'Workorder_AutoClave' 열에서 '-' 다음 숫자 값 추출 및 '000' 제거\n",
    "train_data['Workorder'] = train_data['Workorder'].str.replace(r'-(\\d+)', lambda x: '-' + x.group(1).lstrip('0'), regex=True)\n",
    "test_data['Workorder'] = test_data['Workorder'].str.replace(r'-(\\d+)', lambda x: '-' + x.group(1).lstrip('0'), regex=True)"
   ]
  },
  {
   "cell_type": "markdown",
   "id": "08baeb14",
   "metadata": {},
   "source": [
    "### 2. Dispenser_num"
   ]
  },
  {
   "cell_type": "markdown",
   "id": "03dd5e0c",
   "metadata": {},
   "source": [
    "원본 데이터상으로는 Equiment 변수  \n",
    "Dispneser_num 값으로 0 #1 #2 값 -> 원핫인코딩으로 변경"
   ]
  },
  {
   "cell_type": "markdown",
   "id": "1e34e21b",
   "metadata": {},
   "source": [
    "Dispenser 값을 범주로서 인식이 아닌 #1 #2 에 따라 학습되는 행이 달라지게 하기 위함"
   ]
  },
  {
   "cell_type": "code",
   "execution_count": 391,
   "id": "7cb6b4c8",
   "metadata": {},
   "outputs": [],
   "source": [
    "# Dispenser_num 값에 따라 새로운 변수 생성\n",
    "train_data['Dispenser_1'] = train_data['Dispenser_num'].apply(lambda x: 1 if x == '#1' else 0)\n",
    "train_data['Dispenser_2'] = train_data['Dispenser_num'].apply(lambda x: 1 if x == '#2' else 0)\n",
    "\n",
    "test_data['Dispenser_1'] = test_data['Dispenser_num'].apply(lambda x: 1 if x == '#1' else 0)\n",
    "test_data['Dispenser_2'] = test_data['Dispenser_num'].apply(lambda x: 1 if x == '#2' else 0)\n",
    "\n",
    "# 불필요한 변수 제거\n",
    "train_data.drop(['Dispenser_num'], axis=1, inplace=True)\n",
    "test_data.drop(['Dispenser_num'], axis=1, inplace=True)"
   ]
  },
  {
   "cell_type": "markdown",
   "id": "998fd298",
   "metadata": {},
   "source": [
    "### 3. WorkMode Collect Result"
   ]
  },
  {
   "cell_type": "markdown",
   "id": "3278e5ae",
   "metadata": {},
   "source": [
    "하나의 그룹으로 묶이고 이때 하나의 고윳값만을 가짐  \n",
    "-> 한개의 변수만 냅두고 나머지 drop, 냅둔 변수에 대해서는 값이 있음면 1 없으면 0을 부여"
   ]
  },
  {
   "cell_type": "code",
   "execution_count": 392,
   "id": "9181d1d6",
   "metadata": {},
   "outputs": [],
   "source": [
    "# WorkMode Collect Result_Dam의 이름을 WorkMode Collect Result로 변경\n",
    "train_data = train_data.rename(columns={'WorkMode Collect Result_Dam': 'WorkMode Collect Result'})\n",
    "test_data = test_data.rename(columns={'WorkMode Collect Result_Dam': 'WorkMode Collect Result'})\n",
    "\n",
    "# WorkMode Collect Result_Fill1, WorkMode Collect Result_Fill2 열 드롭\n",
    "train_data = train_data.drop(columns=['WorkMode Collect Result_Fill1', 'WorkMode Collect Result_Fill2'])\n",
    "test_data = test_data.drop(columns=['WorkMode Collect Result_Fill1', 'WorkMode Collect Result_Fill2'])"
   ]
  },
  {
   "cell_type": "code",
   "execution_count": 393,
   "id": "e7daca7e",
   "metadata": {},
   "outputs": [],
   "source": [
    "# WorkMode Collect Result 열의 값이 7인 행을 1로 변경\n",
    "train_data['WorkMode Collect Result'] = train_data['WorkMode Collect Result'].replace(7, 1)\n",
    "test_data['WorkMode Collect Result'] = test_data['WorkMode Collect Result'].replace(7, 1)\n",
    "\n",
    "# WorkMode Collect Result 열의 결측값을 0으로 채움\n",
    "train_data['WorkMode Collect Result'] = train_data['WorkMode Collect Result'].fillna(0)\n",
    "test_data['WorkMode Collect Result'] = test_data['WorkMode Collect Result'].fillna(0)"
   ]
  },
  {
   "cell_type": "markdown",
   "id": "968cd88f",
   "metadata": {},
   "source": [
    "### 4. Receip No Collect Result"
   ]
  },
  {
   "cell_type": "markdown",
   "id": "1693711d",
   "metadata": {},
   "source": [
    "다른값을 가지면 AbNormal ratio 1 임을 확인 가능"
   ]
  },
  {
   "cell_type": "code",
   "execution_count": 394,
   "id": "2c6ac135",
   "metadata": {},
   "outputs": [],
   "source": [
    "# 세 변수의 값이 동일하면 해당 값을 가져가고, 하나라도 일치하지 않으면 0의 값을 가지는 파생 변수 생성 함수\n",
    "def create_receip_no_collect_result(df):\n",
    "    df['Receip_No_Collect_Result'] = df.apply(\n",
    "        lambda row: row['Receip No Collect Result_Dam'] \n",
    "                    if (row['Receip No Collect Result_Dam'] == row['Receip No Collect Result_Fill1'] == row['Receip No Collect Result_Fill2']) \n",
    "                    else 0, \n",
    "        axis=1\n",
    "    )\n",
    "\n",
    "# 함수 적용\n",
    "create_receip_no_collect_result(train_data)\n",
    "create_receip_no_collect_result(test_data)"
   ]
  },
  {
   "cell_type": "code",
   "execution_count": 395,
   "id": "2ac44663",
   "metadata": {},
   "outputs": [],
   "source": [
    "# 제거할 변수 목록\n",
    "columns_to_drop = [\n",
    "    'Receip No Collect Result_Dam',\n",
    "    'Receip No Collect Result_Fill1',\n",
    "    'Receip No Collect Result_Fill2'\n",
    "]\n",
    "\n",
    "# 변수 제거\n",
    "train_data.drop(columns=columns_to_drop, inplace=True)\n",
    "test_data.drop(columns=columns_to_drop, inplace=True)"
   ]
  },
  {
   "cell_type": "markdown",
   "id": "982a4410",
   "metadata": {},
   "source": [
    "### 5. PalletID_Collect_Result"
   ]
  },
  {
   "cell_type": "markdown",
   "id": "15ef86f4",
   "metadata": {},
   "source": [
    "PalletID 도 마찬가지로 3개의 값이 일치하지 않을 경우 AbNormal ratio 값이 1로 확인됨"
   ]
  },
  {
   "cell_type": "code",
   "execution_count": 396,
   "id": "87b03764",
   "metadata": {},
   "outputs": [],
   "source": [
    "# 세 변수의 값이 동일하면 해당 값을 가져가고, 하나라도 일치하지 않으면 0의 값을 가지는 파생 변수 생성 함수\n",
    "def create_palletid_collect_result(df):\n",
    "    df['PalletID_Collect_Result'] = df.apply(\n",
    "        lambda row: row['PalletID Collect Result_Dam'] \n",
    "                    if (row['PalletID Collect Result_Dam'] == row['PalletID Collect Result_Fill1'] == row['PalletID Collect Result_Fill2']) \n",
    "                    else 0, \n",
    "        axis=1\n",
    "    )\n",
    "\n",
    "# 함수 적용\n",
    "create_palletid_collect_result(train_data)\n",
    "create_palletid_collect_result(test_data)"
   ]
  },
  {
   "cell_type": "code",
   "execution_count": 397,
   "id": "24f650fb",
   "metadata": {},
   "outputs": [],
   "source": [
    "# 제거할 변수 목록\n",
    "columns_to_drop = [\n",
    "    'PalletID Collect Result_Dam',\n",
    "    'PalletID Collect Result_Fill1',\n",
    "    'PalletID Collect Result_Fill2'\n",
    "]\n",
    "\n",
    "# 변수 제거\n",
    "train_data.drop(columns=columns_to_drop, inplace=True)\n",
    "test_data.drop(columns=columns_to_drop, inplace=True)"
   ]
  },
  {
   "cell_type": "markdown",
   "id": "1a6195b5",
   "metadata": {},
   "source": [
    "### 6. Production Qty Collect Result"
   ]
  },
  {
   "cell_type": "code",
   "execution_count": 398,
   "id": "911e2eb6",
   "metadata": {},
   "outputs": [],
   "source": [
    "# 세 변수의 값이 동일하면 해당 값을 가져가고, 하나라도 일치하지 않으면 0의 값을 가지는 파생 변수 생성 함수\n",
    "def create_palletid_collect_result(df):\n",
    "    df['Production_Qty_Collect_Result'] = df.apply(\n",
    "        lambda row: row['Production Qty Collect Result_Dam'] \n",
    "                    if (row['Production Qty Collect Result_Dam'] == row['Production Qty Collect Result_Fill1'] == row['Production Qty Collect Result_Fill2']) \n",
    "                    else 0, \n",
    "        axis=1\n",
    "    )\n",
    "\n",
    "# 함수 적용\n",
    "create_palletid_collect_result(train_data)\n",
    "create_palletid_collect_result(test_data)"
   ]
  },
  {
   "cell_type": "markdown",
   "id": "c3a05b7e",
   "metadata": {},
   "source": [
    "0값이 공정별 Production_Qty_Collect_Result 값이 같지 않는 경우에 해당  \n",
    "무조건으로 AbNormal 비율이 1은 아니지만 0.57 값을 가지며 상대적으로 높음으로 0값을 취하도록 함"
   ]
  },
  {
   "cell_type": "code",
   "execution_count": 399,
   "id": "0d37b4ac",
   "metadata": {},
   "outputs": [],
   "source": [
    "# 제거할 변수 목록\n",
    "columns_to_drop = [\n",
    "    'Production Qty Collect Result_Dam',\n",
    "    'Production Qty Collect Result_Fill1',\n",
    "    'Production Qty Collect Result_Fill2'\n",
    "]\n",
    "\n",
    "# 변수 제거\n",
    "train_data.drop(columns=columns_to_drop, inplace=True)\n",
    "test_data.drop(columns=columns_to_drop, inplace=True)"
   ]
  },
  {
   "cell_type": "markdown",
   "id": "43c8c1b6",
   "metadata": {},
   "source": [
    "### 7. Judge Value"
   ]
  },
  {
   "cell_type": "markdown",
   "id": "fe4b2062",
   "metadata": {},
   "source": [
    "'Chamber Temp. Judge Value_AutoClave' 값은 OK 또는 NG 값을 가짐"
   ]
  },
  {
   "cell_type": "code",
   "execution_count": 400,
   "id": "940df890",
   "metadata": {},
   "outputs": [],
   "source": [
    "# \"Chamber Temp. Judge Value_AutoClave\" 변수의 값을 기준으로 파생 변수 생성 함수\n",
    "def create_judge_value_binary(df):\n",
    "    df['Chamber_Temp_OKNG'] = df['Chamber Temp. Judge Value_AutoClave'].apply(\n",
    "        lambda x: 1 if x == 'OK' else 0\n",
    "    )\n",
    "\n",
    "# 함수 적용\n",
    "create_judge_value_binary(train_data)\n",
    "create_judge_value_binary(test_data)"
   ]
  },
  {
   "cell_type": "markdown",
   "id": "2458140d",
   "metadata": {},
   "source": [
    "'Chamber Temp. Judge Value_AutoClave'(Chamber_Temp_OKNG) 는 NG 값과 OK 값을 가짐  \n",
    "-> 'Chamber Temp. Judge Value_AutoClave' 변수를 제외한 나머지 변수 확인"
   ]
  },
  {
   "cell_type": "markdown",
   "id": "d14915c6",
   "metadata": {},
   "source": [
    "OK 값을 고유값으로 가짐 -> OK 값을 가지면 1 아니면 0을 부여"
   ]
  },
  {
   "cell_type": "code",
   "execution_count": 401,
   "id": "e3a43b42",
   "metadata": {},
   "outputs": [],
   "source": [
    "# 4개의 변수 목록\n",
    "judge_value_columns = [\n",
    "    'HEAD NORMAL COORDINATE X AXIS(Stage1) Judge Value_Dam',\n",
    "    'GMES_ORIGIN_INSP_JUDGE_CODE Judge Value_AutoClave',\n",
    "    'HEAD NORMAL COORDINATE X AXIS(Stage1) Judge Value_Fill1',\n",
    "    'HEAD NORMAL COORDINATE X AXIS(Stage1) Judge Value_Fill2'\n",
    "]\n",
    "\n",
    "# 파생 변수 생성 함수\n",
    "def create_judge_value_feature(df):\n",
    "    df['Judge_Value_OK'] = df[judge_value_columns].apply(\n",
    "        lambda row: 1 if any(row == 'OK') else 0, \n",
    "        axis=1\n",
    "    )\n",
    "\n",
    "# 함수 적용\n",
    "create_judge_value_feature(train_data)\n",
    "create_judge_value_feature(test_data)"
   ]
  },
  {
   "cell_type": "markdown",
   "id": "61a7e00e",
   "metadata": {},
   "source": [
    "ok 관련 값을 가지는 변수는 위의 2가지 경우  \n",
    "-> 전처리 과정에서 불필요한 변수라면 drop해도 괜찮을듯"
   ]
  },
  {
   "cell_type": "code",
   "execution_count": 402,
   "id": "369757f1",
   "metadata": {},
   "outputs": [
    {
     "name": "stdout",
     "output_type": "stream",
     "text": [
      "<class 'pandas.core.frame.DataFrame'>\n",
      "RangeIndex: 40506 entries, 0 to 40505\n",
      "Columns: 114 entries, Model.Suffix to Judge_Value_OK\n",
      "dtypes: float64(56), int64(49), object(9)\n",
      "memory usage: 35.2+ MB\n"
     ]
    }
   ],
   "source": [
    "train_data.info()"
   ]
  },
  {
   "cell_type": "code",
   "execution_count": 403,
   "id": "c1a78c2b",
   "metadata": {},
   "outputs": [
    {
     "name": "stdout",
     "output_type": "stream",
     "text": [
      "<class 'pandas.core.frame.DataFrame'>\n",
      "RangeIndex: 17361 entries, 0 to 17360\n",
      "Columns: 115 entries, Set ID to Judge_Value_OK\n",
      "dtypes: float64(86), int64(20), object(9)\n",
      "memory usage: 15.2+ MB\n"
     ]
    }
   ],
   "source": [
    "test_data.info()"
   ]
  }
 ],
 "metadata": {
  "kernelspec": {
   "display_name": "Python 3 (ipykernel)",
   "language": "python",
   "name": "python3"
  },
  "language_info": {
   "codemirror_mode": {
    "name": "ipython",
    "version": 3
   },
   "file_extension": ".py",
   "mimetype": "text/x-python",
   "name": "python",
   "nbconvert_exporter": "python",
   "pygments_lexer": "ipython3",
   "version": "3.7.8"
  }
 },
 "nbformat": 4,
 "nbformat_minor": 5
}

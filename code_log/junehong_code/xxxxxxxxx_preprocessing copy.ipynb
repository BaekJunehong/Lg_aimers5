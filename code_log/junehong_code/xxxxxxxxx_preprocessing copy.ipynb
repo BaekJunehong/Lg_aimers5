{
 "cells": [
  {
   "cell_type": "markdown",
   "id": "e13b27e8-4277-4714-80f6-8fcecb9d531b",
   "metadata": {},
   "source": [
    "# 공정 4개 전처리"
   ]
  },
  {
   "cell_type": "code",
   "execution_count": 10,
   "id": "d48d931e-198d-473c-a36d-6cd8914d564a",
   "metadata": {},
   "outputs": [],
   "source": [
    "import numpy as np\n",
    "import pandas as pd"
   ]
  },
  {
   "cell_type": "code",
   "execution_count": 11,
   "id": "c3352387-f469-4a46-a648-1a6b5eb353ab",
   "metadata": {},
   "outputs": [],
   "source": [
    "# csv 불러오기\n",
    "train_data = pd.read_csv('../../data/trim_train_data.csv')\n",
    "test_data = pd.read_csv('../../data/trim_test_data.csv')"
   ]
  },
  {
   "cell_type": "code",
   "execution_count": 12,
   "id": "493e5371",
   "metadata": {},
   "outputs": [
    {
     "name": "stdout",
     "output_type": "stream",
     "text": [
      "<? column in train_data>\n",
      "CURE END POSITION ? Collect Result_Dam\n",
      "CURE END POSITION ? Unit Time_Dam\n",
      "CURE END POSITION ? Judge Value_Dam\n",
      "CURE STANDBY POSITION ? Collect Result_Dam\n",
      "CURE STANDBY POSITION ? Unit Time_Dam\n",
      "CURE STANDBY POSITION ? Judge Value_Dam\n",
      "CURE START POSITION ? Collect Result_Dam\n",
      "CURE START POSITION ? Unit Time_Dam\n",
      "CURE START POSITION ? Judge Value_Dam\n",
      "CURE END POSITION ? Collect Result_Fill2\n",
      "CURE END POSITION ? Unit Time_Fill2\n",
      "CURE END POSITION ? Judge Value_Fill2\n",
      "CURE STANDBY POSITION ? Collect Result_Fill2\n",
      "CURE STANDBY POSITION ? Unit Time_Fill2\n",
      "CURE STANDBY POSITION ? Judge Value_Fill2\n",
      "CURE START POSITION ? Collect Result_Fill2\n",
      "CURE START POSITION ? Unit Time_Fill2\n",
      "CURE START POSITION ? Judge Value_Fill2\n",
      "<? column in test_data>\n",
      "<? -> Θ in train_data>\n",
      "CURE END POSITION Θ Collect Result_Dam\n",
      "CURE END POSITION Θ Unit Time_Dam\n",
      "CURE END POSITION Θ Judge Value_Dam\n",
      "CURE STANDBY POSITION Θ Collect Result_Dam\n",
      "CURE STANDBY POSITION Θ Unit Time_Dam\n",
      "CURE STANDBY POSITION Θ Judge Value_Dam\n",
      "CURE START POSITION Θ Collect Result_Dam\n",
      "CURE START POSITION Θ Unit Time_Dam\n",
      "CURE START POSITION Θ Judge Value_Dam\n",
      "CURE END POSITION Θ Collect Result_Fill2\n",
      "CURE END POSITION Θ Unit Time_Fill2\n",
      "CURE END POSITION Θ Judge Value_Fill2\n",
      "CURE STANDBY POSITION Θ Collect Result_Fill2\n",
      "CURE STANDBY POSITION Θ Unit Time_Fill2\n",
      "CURE STANDBY POSITION Θ Judge Value_Fill2\n",
      "CURE START POSITION Θ Collect Result_Fill2\n",
      "CURE START POSITION Θ Unit Time_Fill2\n",
      "CURE START POSITION Θ Judge Value_Fill2\n",
      "<? -> Θ in test_data>\n",
      "CURE END POSITION Θ Collect Result_Dam\n",
      "CURE END POSITION Θ Unit Time_Dam\n",
      "CURE END POSITION Θ Judge Value_Dam\n",
      "CURE STANDBY POSITION Θ Collect Result_Dam\n",
      "CURE STANDBY POSITION Θ Unit Time_Dam\n",
      "CURE STANDBY POSITION Θ Judge Value_Dam\n",
      "CURE START POSITION Θ Collect Result_Dam\n",
      "CURE START POSITION Θ Unit Time_Dam\n",
      "CURE START POSITION Θ Judge Value_Dam\n",
      "CURE END POSITION Θ Collect Result_Fill2\n",
      "CURE END POSITION Θ Unit Time_Fill2\n",
      "CURE END POSITION Θ Judge Value_Fill2\n",
      "CURE STANDBY POSITION Θ Collect Result_Fill2\n",
      "CURE STANDBY POSITION Θ Unit Time_Fill2\n",
      "CURE STANDBY POSITION Θ Judge Value_Fill2\n",
      "CURE START POSITION Θ Collect Result_Fill2\n",
      "CURE START POSITION Θ Unit Time_Fill2\n",
      "CURE START POSITION Θ Judge Value_Fill2\n"
     ]
    }
   ],
   "source": [
    "# train_data와 test_data에서 '?'를 포함하는 열 이름 필터링\n",
    "train_Process_Desc_col = train_data.filter(like='?').columns\n",
    "test_Process_Desc_col = test_data.filter(like='?').columns\n",
    "\n",
    "# 필터링된 열 이름 출력\n",
    "print(\"<? column in train_data>\")\n",
    "for col in train_Process_Desc_col:\n",
    "    print(col)\n",
    "\n",
    "print(\"<? column in test_data>\")\n",
    "for col in test_Process_Desc_col:\n",
    "    print(col)\n",
    "\n",
    "# ? -> Θ로 변경할 열 이름과 새 열 이름 생성\n",
    "train_new_columns = {col: col.replace('?', 'Θ') for col in train_Process_Desc_col}\n",
    "test_new_columns = {col: col.replace('?', 'Θ') for col in test_Process_Desc_col}\n",
    "\n",
    "# 열 이름 변경\n",
    "train_data.rename(columns=train_new_columns, inplace=True)\n",
    "test_data.rename(columns=test_new_columns, inplace=True)\n",
    "\n",
    "# 'Θ'를 포함하는 열 이름 필터링\n",
    "train_Process_Desc_col = train_data.filter(like='Θ').columns\n",
    "test_Process_Desc_col = test_data.filter(like='Θ').columns\n",
    "\n",
    "# 필터링된 열 이름 출력\n",
    "print(\"<? -> Θ in train_data>\")\n",
    "for col in train_Process_Desc_col:\n",
    "    print(col)\n",
    "\n",
    "print(\"<? -> Θ in test_data>\")\n",
    "for col in test_Process_Desc_col:\n",
    "    print(col)"
   ]
  },
  {
   "cell_type": "code",
   "execution_count": 13,
   "id": "d646c72e",
   "metadata": {},
   "outputs": [],
   "source": [
    "# # csv 불러오기\n",
    "# train_data = pd.read_csv('../../data/train_data.csv')\n",
    "# test_data = pd.read_csv('../../data/test_data.csv')"
   ]
  },
  {
   "cell_type": "code",
   "execution_count": 14,
   "id": "b8a4ec63",
   "metadata": {},
   "outputs": [],
   "source": [
    "# train_data.info(verbose=True)"
   ]
  },
  {
   "cell_type": "markdown",
   "id": "64f6f25e-68c6-45b2-8888-d762a4199bb5",
   "metadata": {},
   "source": [
    "### 1. 기본 전처리"
   ]
  },
  {
   "cell_type": "code",
   "execution_count": 15,
   "id": "ef282a8f-1717-4582-9abb-b064b243bac7",
   "metadata": {},
   "outputs": [],
   "source": [
    "# target 열을 임시로 분리\n",
    "target_train = train_data['target']\n",
    "target_test = test_data['target']\n",
    "\n",
    "# 모든 값이 NaN인 열 제거\n",
    "train_data = train_data.dropna(axis=1, how='all')\n",
    "test_data = test_data.dropna(axis=1, how='all')\n",
    "\n",
    "# target 열을 다시 결합\n",
    "train_data['target'] = target_train\n",
    "test_data['target'] = target_test"
   ]
  },
  {
   "cell_type": "code",
   "execution_count": 16,
   "id": "8f245f17-b82f-4406-8f9d-cccf488bf387",
   "metadata": {},
   "outputs": [],
   "source": [
    "# Wip Line 열 제거\n",
    "wip_line_columns = train_data.filter(like='Wip Line').columns\n",
    "\n",
    "train_data.drop(columns=wip_line_columns, inplace=True)\n",
    "test_data.drop(columns=wip_line_columns, inplace=True)"
   ]
  },
  {
   "cell_type": "code",
   "execution_count": 17,
   "id": "25a4af25-3399-4762-be4e-7c77d67e677b",
   "metadata": {},
   "outputs": [],
   "source": [
    "# Process Desc 열 제거\n",
    "Process_Desc_col = train_data.filter(like='Process Desc').columns\n",
    "\n",
    "train_data.drop(columns=Process_Desc_col, inplace=True)\n",
    "test_data.drop(columns=Process_Desc_col, inplace=True)"
   ]
  },
  {
   "cell_type": "code",
   "execution_count": 18,
   "id": "c75a3e26-5efa-420e-998f-b0df0040df5d",
   "metadata": {},
   "outputs": [],
   "source": [
    "# Insp. Seq No 열 제거\n",
    "Insp_Seq_No_col = train_data.filter(like='Insp. Seq No').columns\n",
    "\n",
    "train_data.drop(columns=Insp_Seq_No_col, inplace=True)\n",
    "test_data.drop(columns=Insp_Seq_No_col, inplace=True)"
   ]
  },
  {
   "cell_type": "code",
   "execution_count": 19,
   "id": "f2a9ca83-eca1-4a22-b0c9-027f1960239f",
   "metadata": {},
   "outputs": [],
   "source": [
    "# Insp Judge Code 열 제거\n",
    "Insp_Judge_Code_col = train_data.filter(like='Insp Judge Code').columns\n",
    "\n",
    "train_data.drop(columns=Insp_Judge_Code_col, inplace=True)\n",
    "test_data.drop(columns=Insp_Judge_Code_col, inplace=True)"
   ]
  },
  {
   "cell_type": "markdown",
   "id": "078e2803-88fe-4d64-9f9d-fa60b6bb5299",
   "metadata": {},
   "source": [
    "### 2. 제품 구분"
   ]
  },
  {
   "cell_type": "markdown",
   "id": "546e33e3-9684-4c66-b33a-db13c3ca21e0",
   "metadata": {},
   "source": [
    "- receip no, workorder, model.suffix"
   ]
  },
  {
   "cell_type": "code",
   "execution_count": 20,
   "id": "ba667da8-fe3c-4eb2-87de-bd10d7300815",
   "metadata": {},
   "outputs": [],
   "source": [
    "### Receip_No\n",
    "# 파생변수 생성: Receip_No 3개의 컬럼 값이 모두 동일하면 해당 값을 저장, 아니면 diff\n",
    "train_data['Receip_No'] = train_data.apply(\n",
    "    lambda row: row['Receip No Collect Result_Dam'] if (row['Receip No Collect Result_Dam'] == row['Receip No Collect Result_Fill1'] == row['Receip No Collect Result_Fill2']) else 'diff',\n",
    "    axis=1\n",
    ")\n",
    "test_data['Receip_No'] = test_data.apply(\n",
    "    lambda row: row['Receip No Collect Result_Dam'] if (row['Receip No Collect Result_Dam'] == row['Receip No Collect Result_Fill1'] == row['Receip No Collect Result_Fill2']) else 'diff',\n",
    "    axis=1\n",
    ")\n",
    "\n",
    "# 필요없는 변수 삭제\n",
    "train_data = train_data.drop(columns=['Receip No Collect Result_Dam', 'Receip No Collect Result_Fill1', 'Receip No Collect Result_Fill2'])\n",
    "test_data = test_data.drop(columns=['Receip No Collect Result_Dam', 'Receip No Collect Result_Fill1', 'Receip No Collect Result_Fill2'])"
   ]
  },
  {
   "cell_type": "code",
   "execution_count": 21,
   "id": "99a615a2-45e0-4a21-aad3-bc2a4582d16f",
   "metadata": {},
   "outputs": [],
   "source": [
    "### model_receip\n",
    "test_data['Receip_No'] = test_data['Receip_No'].astype(int).astype(str)\n",
    "\n",
    "# 파생변수 생성: Receip No와 Model.Suffix의 조합\n",
    "train_data['model_receip'] = train_data['Model.Suffix_Dam'] + '_' + train_data['Receip_No'].astype(str)\n",
    "test_data['model_receip'] = test_data['Model.Suffix_Dam'] + '_' + test_data['Receip_No'].astype(str)\n",
    "\n",
    "# 필요없는 변수 삭제\n",
    "train_data = train_data.drop(columns=['Model.Suffix_Dam', 'Model.Suffix_AutoClave', 'Model.Suffix_Fill1', 'Model.Suffix_Fill2'])\n",
    "test_data = test_data.drop(columns=['Model.Suffix_Dam', 'Model.Suffix_AutoClave', 'Model.Suffix_Fill1', 'Model.Suffix_Fill2'])"
   ]
  },
  {
   "cell_type": "code",
   "execution_count": 22,
   "id": "4d83525c-04c8-4dd7-a62c-28c70c182f26",
   "metadata": {},
   "outputs": [],
   "source": [
    "### workorder_receip\n",
    "# Workorder -뒤의 번호 구분을 제거\n",
    "train_data['cleaned_workorder'] = train_data['Workorder_Dam'].str.split('-').str[0]\n",
    "test_data['cleaned_workorder'] = test_data['Workorder_Dam'].str.split('-').str[0]\n",
    "\n",
    "# 파생변수 생성: Receip No와 workorder의 조합\n",
    "train_data['workorder_receip'] = train_data['cleaned_workorder'] + '_' + train_data['Receip_No'].astype(str)\n",
    "test_data['workorder_receip'] = test_data['cleaned_workorder'] + '_' + test_data['Receip_No'].astype(str)\n",
    "\n",
    "# 필요없는 변수 삭제\n",
    "train_data = train_data.drop(columns=['Receip_No', 'cleaned_workorder', 'Workorder_Dam', 'Workorder_AutoClave', 'Workorder_Fill1', 'Workorder_Fill2'])\n",
    "test_data = test_data.drop(columns=['Receip_No', 'cleaned_workorder', 'Workorder_Dam', 'Workorder_AutoClave', 'Workorder_Fill1', 'Workorder_Fill2'])"
   ]
  },
  {
   "cell_type": "markdown",
   "id": "cb9c6ca4-45bd-4c39-8af6-7fd0d61e103c",
   "metadata": {},
   "source": [
    "### 3. 공통 변수 (dam, fill1, fill2)"
   ]
  },
  {
   "cell_type": "markdown",
   "id": "e4651eb9-eb1a-44a4-8979-2a38a8b9c532",
   "metadata": {},
   "source": [
    "- workmode"
   ]
  },
  {
   "cell_type": "code",
   "execution_count": 23,
   "id": "6a33f774-81d7-4716-9176-79eaee466ab1",
   "metadata": {},
   "outputs": [],
   "source": [
    "# WorkMode Collect Result_Dam의 이름을 WorkMode Collect Result로 변경\n",
    "train_data = train_data.rename(columns={'WorkMode Collect Result_Dam': 'WorkMode Collect Result'})\n",
    "test_data = test_data.rename(columns={'WorkMode Collect Result_Dam': 'WorkMode Collect Result'})\n",
    "\n",
    "# WorkMode Collect Result_Fill1, WorkMode Collect Result_Fill2 열 드롭\n",
    "train_data = train_data.drop(columns=['WorkMode Collect Result_Fill1', 'WorkMode Collect Result_Fill2'])\n",
    "test_data = test_data.drop(columns=['WorkMode Collect Result_Fill1', 'WorkMode Collect Result_Fill2'])"
   ]
  },
  {
   "cell_type": "code",
   "execution_count": 24,
   "id": "58781314-726c-42d1-a34f-cc12ce092852",
   "metadata": {},
   "outputs": [],
   "source": [
    "# WorkMode Collect Result 열의 값이 7인 행을 1로 변경\n",
    "train_data['WorkMode Collect Result'] = train_data['WorkMode Collect Result'].replace(7, 1)\n",
    "test_data['WorkMode Collect Result'] = test_data['WorkMode Collect Result'].replace(7, 1)\n",
    "\n",
    "# WorkMode Collect Result 열의 결측값을 0으로 채움\n",
    "train_data['WorkMode Collect Result'] = train_data['WorkMode Collect Result'].fillna(0)\n",
    "test_data['WorkMode Collect Result'] = test_data['WorkMode Collect Result'].fillna(0)"
   ]
  },
  {
   "cell_type": "markdown",
   "id": "04f80682-b12e-4f8a-8ff8-39423a35e2d7",
   "metadata": {},
   "source": [
    "- equipment\n",
    "<br>(dispenser1 & dispenser2 변수를 만들 경우 다른 변수들에 의해 이미 설명이 되는 변수라 상관계수가 너무 높아서 제거하게 됨. 따라서 equipment가 같은지만 판단하는 파생변수 사용)"
   ]
  },
  {
   "cell_type": "code",
   "execution_count": 25,
   "id": "8140b28a-2781-4356-9fe5-ac8d50beb48a",
   "metadata": {},
   "outputs": [],
   "source": [
    "# Equipment로 시작하는 열 필터링\n",
    "Equipment_col = train_data.filter(like='Equipment').columns\n",
    "Equipment_col2 = test_data.filter(like='Equipment').columns\n",
    "\n",
    "new_train = train_data.filter(items=Equipment_col)\n",
    "new_test = test_data.filter(items=Equipment_col2)\n",
    "\n",
    "# Equipment_same_num 파생변수 생성\n",
    "def determine_equipment_same_num(row):\n",
    "    if (row['Equipment_Dam'] == 'Dam dispenser #1' and row['Equipment_AutoClave'] == 'Auto Clave Out' and \n",
    "        row['Equipment_Fill1'] == 'Fill1 dispenser #1' and row['Equipment_Fill2'] == 'Fill2 dispenser #1') or \\\n",
    "       (row['Equipment_Dam'] == 'Dam dispenser #2' and row['Equipment_AutoClave'] == 'Auto Clave Out' and \n",
    "        row['Equipment_Fill1'] == 'Fill1 dispenser #2' and row['Equipment_Fill2'] == 'Fill2 dispenser #2'):\n",
    "        return 1\n",
    "    else:\n",
    "        return 0\n",
    "\n",
    "train_data['Equipment_same_num'] = new_train.apply(determine_equipment_same_num, axis=1)\n",
    "test_data['Equipment_same_num'] = new_test.apply(determine_equipment_same_num, axis=1)\n",
    "\n",
    "train_data = train_data.drop(columns=['Equipment_Dam', 'Equipment_AutoClave', 'Equipment_Fill1', 'Equipment_Fill2'])\n",
    "test_data = test_data.drop(columns=['Equipment_Dam', 'Equipment_AutoClave', 'Equipment_Fill1', 'Equipment_Fill2'])"
   ]
  },
  {
   "cell_type": "markdown",
   "id": "fd07a545-9df9-488c-a27a-4104a8336fb0",
   "metadata": {},
   "source": [
    "- palletID"
   ]
  },
  {
   "cell_type": "code",
   "execution_count": 26,
   "id": "d399216f-b736-4190-be4b-3108366606c3",
   "metadata": {},
   "outputs": [],
   "source": [
    "# 세 변수의 값이 동일하면 해당 값을 가져가고, 하나라도 일치하지 않으면 diff의 값을 가지는 파생 변수 생성 함수\n",
    "def create_palletid_collect_result(df):\n",
    "    df['PalletID_Collect_Result'] = df.apply(\n",
    "        lambda row: row['PalletID Collect Result_Dam'] \n",
    "                    if (row['PalletID Collect Result_Dam'] == row['PalletID Collect Result_Fill1'] == row['PalletID Collect Result_Fill2']) \n",
    "                    else 'diff', \n",
    "        axis=1\n",
    "    )\n",
    "\n",
    "# 함수 적용\n",
    "create_palletid_collect_result(train_data)\n",
    "create_palletid_collect_result(test_data)"
   ]
  },
  {
   "cell_type": "code",
   "execution_count": 27,
   "id": "5f91f21e-89f3-4b69-afc1-6d5ab6d820f5",
   "metadata": {},
   "outputs": [],
   "source": [
    "# 제거할 변수 목록\n",
    "columns_to_drop = [\n",
    "    'PalletID Collect Result_Dam',\n",
    "    'PalletID Collect Result_Fill1',\n",
    "    'PalletID Collect Result_Fill2'\n",
    "]\n",
    "\n",
    "# 변수 제거\n",
    "train_data.drop(columns=columns_to_drop, inplace=True)\n",
    "test_data.drop(columns=columns_to_drop, inplace=True)"
   ]
  },
  {
   "cell_type": "markdown",
   "id": "f1b5310e-3d7e-4765-b902-91172707ff5a",
   "metadata": {},
   "source": [
    "- production Qty"
   ]
  },
  {
   "cell_type": "code",
   "execution_count": 28,
   "id": "c478d82f-a486-471a-a12e-3ef6e9bc875e",
   "metadata": {},
   "outputs": [],
   "source": [
    "# 세 변수의 값이 동일하면 해당 값을 가져가고, 하나라도 일치하지 않으면 0의 값을 가지는 파생 변수 생성 함수\n",
    "def create_palletid_collect_result(df):\n",
    "    df['Production_Qty_Collect_Result'] = df.apply(\n",
    "        lambda row: row['Production Qty Collect Result_Dam'] \n",
    "                    if (row['Production Qty Collect Result_Dam'] == row['Production Qty Collect Result_Fill1'] == row['Production Qty Collect Result_Fill2']) \n",
    "                    else 0, \n",
    "        axis=1\n",
    "    )\n",
    "\n",
    "# 함수 적용\n",
    "create_palletid_collect_result(train_data)\n",
    "create_palletid_collect_result(test_data)"
   ]
  },
  {
   "cell_type": "code",
   "execution_count": 29,
   "id": "bd7b99c2-4d0a-40cc-8ec4-6a31b2862bd9",
   "metadata": {},
   "outputs": [],
   "source": [
    "# 제거할 변수 목록\n",
    "columns_to_drop = [\n",
    "    'Production Qty Collect Result_Dam',\n",
    "    'Production Qty Collect Result_Fill1',\n",
    "    'Production Qty Collect Result_Fill2'\n",
    "]\n",
    "\n",
    "# 변수 제거\n",
    "train_data.drop(columns=columns_to_drop, inplace=True)\n",
    "test_data.drop(columns=columns_to_drop, inplace=True)"
   ]
  },
  {
   "cell_type": "markdown",
   "id": "de023c44-9098-4852-8650-f30408ded1dd",
   "metadata": {},
   "source": [
    "### 4. CURE 변수\n",
    "- dam -> distance 파생변수 (standby는 단일값, start와 end는 값은 여러개지만 distance 파생변수를 만들었을 때 더 의미있었음)\n",
    "- fill2 -> 변수값 범주화 (start, end, standby를 각각 범주화했을 때가 합쳐서 distance 만들었을 때보다 더 의미있었음)"
   ]
  },
  {
   "cell_type": "code",
   "execution_count": 30,
   "id": "9ec88825-bef2-443c-8722-6c3f3867a606",
   "metadata": {},
   "outputs": [],
   "source": [
    "### dam\n",
    "# 시작 위치와 끝 위치 열 이름\n",
    "start_x_col = 'CURE START POSITION X Collect Result_Dam'\n",
    "start_z_col = 33.5\n",
    "end_x_col = 'CURE END POSITION X Collect Result_Dam'\n",
    "end_z_col = 'CURE END POSITION Z Collect Result_Dam'\n",
    "\n",
    "# 시작 위치와 끝 위치 사이의 거리 계산\n",
    "train_data['CURE_DISTANCE_Dam'] = np.sqrt(\n",
    "    (train_data[end_x_col] - train_data[start_x_col]) ** 2 +\n",
    "    (train_data[end_z_col] - start_z_col) ** 2\n",
    ")\n",
    "\n",
    "test_data['CURE_DISTANCE_Dam'] = np.sqrt(\n",
    "    (train_data[end_x_col] - train_data[start_x_col]) ** 2 +\n",
    "    (train_data[end_z_col] - start_z_col) ** 2\n",
    ")"
   ]
  },
  {
   "cell_type": "code",
   "execution_count": 31,
   "id": "372b636c-6dff-42db-a9c8-f4abdb726159",
   "metadata": {},
   "outputs": [],
   "source": [
    "### fill2\n",
    "# UV 경화 좌표 합치기\n",
    "def create_coordinate_columns(data):\n",
    "    # Fill2\n",
    "    # cure end\n",
    "    data['cure_end_position_XZ_Fill2'] = (\n",
    "        data['CURE END POSITION X Collect Result_Fill2'].astype(str) + ',' +\n",
    "        data['CURE END POSITION Z Collect Result_Fill2'].astype(str) \n",
    "    )\n",
    "\n",
    "    # cure start\n",
    "    data['cure_start_position_XZ_Fill2'] = (\n",
    "        data['CURE START POSITION X Collect Result_Fill2'].astype(str) + ',' +\n",
    "        data['CURE START POSITION Z Collect Result_Fill2'].astype(str) \n",
    "    )\n",
    "\n",
    "    # cure standby\n",
    "    data['cure_standby_position_XZ_Fill2'] = (\n",
    "        data['CURE STANDBY POSITION X Collect Result_Fill2'].astype(str) + ',' +\n",
    "        data['CURE STANDBY POSITION Z Collect Result_Fill2'].astype(str) \n",
    "    )\n",
    "\n",
    "# train_data와 test_data에 대해 함수 호출\n",
    "create_coordinate_columns(train_data)\n",
    "create_coordinate_columns(test_data)"
   ]
  },
  {
   "cell_type": "code",
   "execution_count": 32,
   "id": "eb7f394f-640b-4bef-b01e-008310aa2f8b",
   "metadata": {},
   "outputs": [],
   "source": [
    "# 제거할 변수 목록\n",
    "columns_to_drop = [\n",
    "    'CURE END POSITION X Collect Result_Dam',\n",
    "    'CURE END POSITION Z Collect Result_Dam',\n",
    "    'CURE END POSITION Θ Collect Result_Dam',\n",
    "    'CURE START POSITION X Collect Result_Dam',\n",
    "    'CURE START POSITION Z Collect Result_Dam',\n",
    "    'CURE START POSITION Θ Collect Result_Dam',\n",
    "\n",
    "    'CURE END POSITION X Collect Result_Fill2',\n",
    "    'CURE END POSITION Z Collect Result_Fill2',\n",
    "    'CURE END POSITION Θ Collect Result_Fill2',\n",
    "    'CURE START POSITION X Collect Result_Fill2',\n",
    "    'CURE START POSITION Z Collect Result_Fill2',\n",
    "    'CURE START POSITION Θ Collect Result_Fill2',\n",
    "    'CURE STANDBY POSITION X Collect Result_Fill2',\n",
    "    'CURE STANDBY POSITION Z Collect Result_Fill2',\n",
    "    'CURE STANDBY POSITION Θ Collect Result_Fill2'\n",
    "]\n",
    "\n",
    "# 변수 제거\n",
    "train_data.drop(columns=columns_to_drop, inplace=True)\n",
    "test_data.drop(columns=columns_to_drop, inplace=True)"
   ]
  },
  {
   "cell_type": "markdown",
   "id": "184a4b1b-3e7b-4413-9704-d35f02fac78a",
   "metadata": {},
   "source": [
    "### 5. HEAD 변수"
   ]
  },
  {
   "cell_type": "markdown",
   "id": "9cc6fe5f-96d8-450c-9ef6-ae8c17a7901c",
   "metadata": {},
   "source": [
    "- dam"
   ]
  },
  {
   "cell_type": "code",
   "execution_count": 33,
   "id": "7bda1832-ce60-4c22-abb7-a760df286801",
   "metadata": {},
   "outputs": [],
   "source": [
    "# 각 스테이지의 좌표 열 정의\n",
    "stage1_cols = ['HEAD NORMAL COORDINATE X AXIS(Stage1) Collect Result_Dam',\n",
    "               'HEAD NORMAL COORDINATE Y AXIS(Stage1) Collect Result_Dam',\n",
    "               'HEAD NORMAL COORDINATE Z AXIS(Stage1) Collect Result_Dam']\n",
    "\n",
    "stage2_cols = ['HEAD NORMAL COORDINATE X AXIS(Stage2) Collect Result_Dam',\n",
    "               'HEAD NORMAL COORDINATE Y AXIS(Stage2) Collect Result_Dam',\n",
    "               'HEAD NORMAL COORDINATE Z AXIS(Stage2) Collect Result_Dam']\n",
    "\n",
    "stage3_cols = ['HEAD NORMAL COORDINATE X AXIS(Stage3) Collect Result_Dam',\n",
    "               'HEAD NORMAL COORDINATE Y AXIS(Stage3) Collect Result_Dam',\n",
    "               'HEAD NORMAL COORDINATE Z AXIS(Stage3) Collect Result_Dam']\n",
    "\n",
    "# 거리 계산 함수\n",
    "def calculate_distances(data):\n",
    "    data['HEAD NORMAL DISTANCE_STAGE1_STAGE2_Dam'] = np.sqrt(\n",
    "        (data[stage2_cols[0]] - data[stage1_cols[0]]) ** 2 +\n",
    "        (data[stage2_cols[1]] - data[stage1_cols[1]]) ** 2 +\n",
    "        (data[stage2_cols[2]] - data[stage1_cols[2]]) ** 2\n",
    "    )\n",
    "\n",
    "    data['HEAD NORMAL DISTANCE_STAGE2_STAGE3_Dam'] = np.sqrt(\n",
    "        (data[stage3_cols[0]] - data[stage2_cols[0]]) ** 2 +\n",
    "        (data[stage3_cols[1]] - data[stage2_cols[1]]) ** 2 +\n",
    "        (data[stage3_cols[2]] - data[stage2_cols[2]]) ** 2\n",
    "    )\n",
    "\n",
    "    data['HEAD NORMAL DISTANCE_STAGE1_STAGE3_Dam'] = np.sqrt(\n",
    "        (data[stage3_cols[0]] - data[stage1_cols[0]]) ** 2 +\n",
    "        (data[stage3_cols[1]] - data[stage1_cols[1]]) ** 2 +\n",
    "        (data[stage3_cols[2]] - data[stage1_cols[2]]) ** 2\n",
    "    )\n",
    "\n",
    "    return data\n",
    "\n",
    "# train_data에 적용\n",
    "train_data = calculate_distances(train_data)\n",
    "\n",
    "# test_data에 적용\n",
    "test_data = calculate_distances(test_data)"
   ]
  },
  {
   "cell_type": "code",
   "execution_count": 34,
   "id": "8db711e9-4ca2-4076-b689-241d786d968f",
   "metadata": {},
   "outputs": [],
   "source": [
    "# 필요한 열 이름\n",
    "stage1_stage2_col = 'HEAD NORMAL DISTANCE_STAGE1_STAGE2_Dam'\n",
    "stage2_stage3_col = 'HEAD NORMAL DISTANCE_STAGE2_STAGE3_Dam'\n",
    "stage1_stage3_col = 'HEAD NORMAL DISTANCE_STAGE1_STAGE3_Dam'\n",
    "\n",
    "# 삼각형의 넓이와 높이를 계산하는 함수\n",
    "def calculate_triangle_features(data):\n",
    "    a = data[stage1_stage2_col]\n",
    "    b = data[stage2_stage3_col]\n",
    "    c = data[stage1_stage3_col]\n",
    "\n",
    "    # 헤론의 공식에 따른 삼각형의 넓이 계산\n",
    "    s = (a + b + c) / 2\n",
    "    area = np.sqrt(s * (s - a) * (s - b) * (s - c))\n",
    "\n",
    "    # 높이 계산 (밑변을 c로 가정)\n",
    "    height = (2 * area) / c\n",
    "\n",
    "    # 결과를 새로운 열에 저장\n",
    "    data['HEAD NORMAL DISTANCE_TRIANGLE_area_Dam'] = area\n",
    "    data['HEAD NORMAL DISTANCE_TRIANGLE_height_Dam'] = height\n",
    "\n",
    "    return data\n",
    "\n",
    "# train_data에 적용\n",
    "train_data = calculate_triangle_features(train_data)\n",
    "\n",
    "# test_data에 적용\n",
    "test_data = calculate_triangle_features(test_data)"
   ]
  },
  {
   "cell_type": "code",
   "execution_count": 35,
   "id": "16669b71-e0b1-46de-b64c-4b014010aa3b",
   "metadata": {},
   "outputs": [],
   "source": [
    "# 제거할 변수 목록\n",
    "columns_to_drop = [\n",
    "    'HEAD NORMAL COORDINATE X AXIS(Stage1) Collect Result_Dam'\n",
    "    , 'HEAD NORMAL COORDINATE X AXIS(Stage1) Judge Value_Dam'\n",
    "    , 'HEAD NORMAL COORDINATE Y AXIS(Stage1) Collect Result_Dam'\n",
    "    , 'HEAD NORMAL COORDINATE Z AXIS(Stage1) Collect Result_Dam'\n",
    "\n",
    "    , 'HEAD NORMAL COORDINATE X AXIS(Stage2) Collect Result_Dam'\n",
    "    , 'HEAD NORMAL COORDINATE Y AXIS(Stage2) Collect Result_Dam'\n",
    "    , 'HEAD NORMAL COORDINATE Z AXIS(Stage2) Collect Result_Dam'\n",
    "\n",
    "    , 'HEAD NORMAL COORDINATE X AXIS(Stage3) Collect Result_Dam'\n",
    "    , 'HEAD NORMAL COORDINATE Y AXIS(Stage3) Collect Result_Dam'\n",
    "    , 'HEAD NORMAL COORDINATE Z AXIS(Stage3) Collect Result_Dam'\n",
    "\n",
    "    , 'HEAD NORMAL DISTANCE_STAGE1_STAGE2_Dam'\n",
    "    , 'HEAD NORMAL DISTANCE_STAGE2_STAGE3_Dam'\n",
    "]\n",
    "\n",
    "# 변수 제거\n",
    "train_data.drop(columns=columns_to_drop, inplace=True)\n",
    "test_data.drop(columns=columns_to_drop, inplace=True)"
   ]
  },
  {
   "cell_type": "code",
   "execution_count": 36,
   "id": "fb6bf635-6060-4fd1-ac71-d057fae56513",
   "metadata": {},
   "outputs": [],
   "source": [
    "# Dam 노즐 zero 위치 Z좌표 드롭\n",
    "train_data.drop(columns='Head Zero Position Z Collect Result_Dam', inplace=True)\n",
    "test_data.drop(columns='Head Zero Position Z Collect Result_Dam', inplace=True)"
   ]
  },
  {
   "cell_type": "markdown",
   "id": "c8bffb86-f2cc-44ad-a495-a107d3b9c98a",
   "metadata": {},
   "source": [
    "- fill1"
   ]
  },
  {
   "cell_type": "code",
   "execution_count": 37,
   "id": "53e42711-b516-492c-a89a-2358839af5b5",
   "metadata": {},
   "outputs": [],
   "source": [
    "# 각 스테이지의 좌표 열 정의\n",
    "stage1_cols = ['HEAD NORMAL COORDINATE X AXIS(Stage1) Collect Result_Fill1',\n",
    "               'HEAD NORMAL COORDINATE Y AXIS(Stage1) Collect Result_Fill1',\n",
    "               'HEAD NORMAL COORDINATE Z AXIS(Stage1) Collect Result_Fill1']\n",
    "\n",
    "stage2_cols = ['HEAD NORMAL COORDINATE X AXIS(Stage2) Collect Result_Fill1',\n",
    "               'HEAD NORMAL COORDINATE Y AXIS(Stage2) Collect Result_Fill1',\n",
    "               'HEAD NORMAL COORDINATE Z AXIS(Stage2) Collect Result_Fill1']\n",
    "\n",
    "stage3_cols = ['HEAD NORMAL COORDINATE X AXIS(Stage3) Collect Result_Fill1',\n",
    "               'HEAD NORMAL COORDINATE Y AXIS(Stage3) Collect Result_Fill1',\n",
    "               'HEAD NORMAL COORDINATE Z AXIS(Stage3) Collect Result_Fill1']\n",
    "\n",
    "# 거리 계산 함수\n",
    "def calculate_distances(data):\n",
    "    data['HEAD NORMAL DISTANCE_STAGE1_STAGE2_Fill1'] = np.sqrt(\n",
    "        (data[stage2_cols[0]] - data[stage1_cols[0]]) ** 2 +\n",
    "        (data[stage2_cols[1]] - data[stage1_cols[1]]) ** 2 +\n",
    "        (data[stage2_cols[2]] - data[stage1_cols[2]]) ** 2\n",
    "    )\n",
    "\n",
    "    data['HEAD NORMAL DISTANCE_STAGE2_STAGE3_Fill1'] = np.sqrt(\n",
    "        (data[stage3_cols[0]] - data[stage2_cols[0]]) ** 2 +\n",
    "        (data[stage3_cols[1]] - data[stage2_cols[1]]) ** 2 +\n",
    "        (data[stage3_cols[2]] - data[stage2_cols[2]]) ** 2\n",
    "    )\n",
    "\n",
    "    data['HEAD NORMAL DISTANCE_STAGE1_STAGE3_Fill1'] = np.sqrt(\n",
    "        (data[stage3_cols[0]] - data[stage1_cols[0]]) ** 2 +\n",
    "        (data[stage3_cols[1]] - data[stage1_cols[1]]) ** 2 +\n",
    "        (data[stage3_cols[2]] - data[stage1_cols[2]]) ** 2\n",
    "    )\n",
    "\n",
    "    return data\n",
    "\n",
    "# train_data에 적용\n",
    "train_data = calculate_distances(train_data)\n",
    "\n",
    "# test_data에 적용\n",
    "test_data = calculate_distances(test_data)"
   ]
  },
  {
   "cell_type": "code",
   "execution_count": 38,
   "id": "76c1438e-9ead-47dd-80fd-b08faa85f015",
   "metadata": {},
   "outputs": [],
   "source": [
    "# 필요한 열 이름\n",
    "stage1_stage2_col = 'HEAD NORMAL DISTANCE_STAGE1_STAGE2_Fill1'\n",
    "stage2_stage3_col = 'HEAD NORMAL DISTANCE_STAGE2_STAGE3_Fill1'\n",
    "stage1_stage3_col = 'HEAD NORMAL DISTANCE_STAGE1_STAGE3_Fill1'\n",
    "\n",
    "# 삼각형의 넓이와 높이를 계산하는 함수\n",
    "def calculate_triangle_features(data):\n",
    "    a = data[stage1_stage2_col]\n",
    "    b = data[stage2_stage3_col]\n",
    "    c = data[stage1_stage3_col]\n",
    "\n",
    "    # 헤론의 공식에 따른 삼각형의 넓이 계산\n",
    "    s = (a + b + c) / 2\n",
    "    area = np.sqrt(s * (s - a) * (s - b) * (s - c))\n",
    "\n",
    "    # 높이 계산 (밑변을 c로 가정)\n",
    "    height = (2 * area) / c\n",
    "\n",
    "    # 결과를 새로운 열에 저장\n",
    "    data['HEAD NORMAL DISTANCE_TRIANGLE_area_Fill1'] = area\n",
    "    data['HEAD NORMAL DISTANCE_TRIANGLE_height_Fill1'] = height\n",
    "\n",
    "    return data\n",
    "\n",
    "# train_data에 적용\n",
    "train_data = calculate_triangle_features(train_data)\n",
    "\n",
    "# test_data에 적용\n",
    "test_data = calculate_triangle_features(test_data)"
   ]
  },
  {
   "cell_type": "code",
   "execution_count": 39,
   "id": "fa31162e-094d-47fd-bef2-9e55bc4f9dae",
   "metadata": {},
   "outputs": [],
   "source": [
    "# 제거할 변수 목록\n",
    "columns_to_drop = [\n",
    "    'HEAD NORMAL COORDINATE X AXIS(Stage1) Collect Result_Fill1'\n",
    "    , 'HEAD NORMAL COORDINATE X AXIS(Stage1) Judge Value_Fill1'\n",
    "    , 'HEAD NORMAL COORDINATE Y AXIS(Stage1) Collect Result_Fill1'\n",
    "    , 'HEAD NORMAL COORDINATE Z AXIS(Stage1) Collect Result_Fill1'\n",
    "\n",
    "    , 'HEAD NORMAL COORDINATE X AXIS(Stage2) Collect Result_Fill1'\n",
    "    , 'HEAD NORMAL COORDINATE Y AXIS(Stage2) Collect Result_Fill1'\n",
    "    , 'HEAD NORMAL COORDINATE Z AXIS(Stage2) Collect Result_Fill1'\n",
    "\n",
    "    , 'HEAD NORMAL COORDINATE X AXIS(Stage3) Collect Result_Fill1'\n",
    "    , 'HEAD NORMAL COORDINATE Y AXIS(Stage3) Collect Result_Fill1'\n",
    "    , 'HEAD NORMAL COORDINATE Z AXIS(Stage3) Collect Result_Fill1'\n",
    "\n",
    "    , 'HEAD NORMAL DISTANCE_STAGE1_STAGE2_Fill1'\n",
    "    , 'HEAD NORMAL DISTANCE_STAGE2_STAGE3_Fill1'\n",
    "]\n",
    "\n",
    "# 변수 제거\n",
    "train_data.drop(columns=columns_to_drop, inplace=True)\n",
    "test_data.drop(columns=columns_to_drop, inplace=True)"
   ]
  },
  {
   "cell_type": "markdown",
   "id": "72be5165-b1d0-412f-b293-1207d90e433b",
   "metadata": {},
   "source": [
    "- fill2"
   ]
  },
  {
   "cell_type": "code",
   "execution_count": 40,
   "id": "836359e0-e3f3-487d-92d8-61869849bfea",
   "metadata": {},
   "outputs": [],
   "source": [
    "# 각 스테이지의 좌표 열 정의\n",
    "stage1_cols = ['HEAD NORMAL COORDINATE X AXIS(Stage1) Collect Result_Fill2',\n",
    "               'HEAD NORMAL COORDINATE Y AXIS(Stage1) Collect Result_Fill2',\n",
    "               'HEAD NORMAL COORDINATE Z AXIS(Stage1) Collect Result_Fill2']\n",
    "\n",
    "stage2_cols = ['HEAD NORMAL COORDINATE X AXIS(Stage2) Collect Result_Fill2',\n",
    "               'HEAD NORMAL COORDINATE Y AXIS(Stage2) Collect Result_Fill2',\n",
    "               'HEAD NORMAL COORDINATE Z AXIS(Stage2) Collect Result_Fill2']\n",
    "\n",
    "stage3_cols = ['HEAD NORMAL COORDINATE X AXIS(Stage3) Collect Result_Fill2',\n",
    "               'HEAD NORMAL COORDINATE Y AXIS(Stage3) Collect Result_Fill2',\n",
    "               'HEAD NORMAL COORDINATE Z AXIS(Stage3) Collect Result_Fill2']\n",
    "\n",
    "# 거리 계산 함수\n",
    "def calculate_distances(data):\n",
    "    data['HEAD NORMAL DISTANCE_STAGE1_STAGE2_Fill2'] = np.sqrt(\n",
    "        (data[stage2_cols[0]] - data[stage1_cols[0]]) ** 2 +\n",
    "        (data[stage2_cols[1]] - data[stage1_cols[1]]) ** 2 +\n",
    "        (data[stage2_cols[2]] - data[stage1_cols[2]]) ** 2\n",
    "    )\n",
    "\n",
    "    data['HEAD NORMAL DISTANCE_STAGE2_STAGE3_Fill2'] = np.sqrt(\n",
    "        (data[stage3_cols[0]] - data[stage2_cols[0]]) ** 2 +\n",
    "        (data[stage3_cols[1]] - data[stage2_cols[1]]) ** 2 +\n",
    "        (data[stage3_cols[2]] - data[stage2_cols[2]]) ** 2\n",
    "    )\n",
    "\n",
    "    data['HEAD NORMAL DISTANCE_STAGE1_STAGE3_Fill2'] = np.sqrt(\n",
    "        (data[stage3_cols[0]] - data[stage1_cols[0]]) ** 2 +\n",
    "        (data[stage3_cols[1]] - data[stage1_cols[1]]) ** 2 +\n",
    "        (data[stage3_cols[2]] - data[stage1_cols[2]]) ** 2\n",
    "    )\n",
    "\n",
    "    return data\n",
    "\n",
    "# train_data에 적용\n",
    "train_data = calculate_distances(train_data)\n",
    "\n",
    "# test_data에 적용\n",
    "test_data = calculate_distances(test_data)"
   ]
  },
  {
   "cell_type": "code",
   "execution_count": 41,
   "id": "53a7041f-8fe0-4e57-8559-115828424a02",
   "metadata": {},
   "outputs": [],
   "source": [
    "# 제거할 변수 목록\n",
    "columns_to_drop = [\n",
    "    'HEAD NORMAL COORDINATE X AXIS(Stage1) Collect Result_Fill2'\n",
    "    , 'HEAD NORMAL COORDINATE X AXIS(Stage1) Judge Value_Fill2'\n",
    "    , 'HEAD NORMAL COORDINATE Y AXIS(Stage1) Collect Result_Fill2'\n",
    "    , 'HEAD NORMAL COORDINATE Z AXIS(Stage1) Collect Result_Fill2'\n",
    "\n",
    "    , 'HEAD NORMAL COORDINATE X AXIS(Stage2) Collect Result_Fill2'\n",
    "    , 'HEAD NORMAL COORDINATE Y AXIS(Stage2) Collect Result_Fill2'\n",
    "    , 'HEAD NORMAL COORDINATE Z AXIS(Stage2) Collect Result_Fill2'\n",
    "\n",
    "    , 'HEAD NORMAL COORDINATE X AXIS(Stage3) Collect Result_Fill2'\n",
    "    , 'HEAD NORMAL COORDINATE Y AXIS(Stage3) Collect Result_Fill2'\n",
    "    , 'HEAD NORMAL COORDINATE Z AXIS(Stage3) Collect Result_Fill2'\n",
    "]\n",
    "\n",
    "# 변수 제거\n",
    "train_data.drop(columns=columns_to_drop, inplace=True)\n",
    "test_data.drop(columns=columns_to_drop, inplace=True)"
   ]
  },
  {
   "cell_type": "markdown",
   "id": "02a64bf1-d745-47da-aedf-02361f2f2329",
   "metadata": {},
   "source": [
    "### 6. Resin 변수"
   ]
  },
  {
   "cell_type": "markdown",
   "id": "7bc3106d-63d0-411b-a83b-9baeedfa874a",
   "metadata": {},
   "source": [
    "- dam"
   ]
  },
  {
   "cell_type": "code",
   "execution_count": 42,
   "id": "f9857a16-8c84-4381-a5bd-ecc78aa2ca1e",
   "metadata": {},
   "outputs": [],
   "source": [
    "# volume*time 파생변수 - Dam\n",
    "train_data['volume_time_multip_stage1_Dam'] = train_data['Dispense Volume(Stage1) Collect Result_Dam'] * train_data['DISCHARGED TIME OF RESIN(Stage1) Collect Result_Dam']\n",
    "train_data['volume_time_multip_stage2_Dam'] = train_data['Dispense Volume(Stage2) Collect Result_Dam'] * train_data['DISCHARGED TIME OF RESIN(Stage2) Collect Result_Dam']\n",
    "train_data['volume_time_multip_stage3_Dam'] = train_data['Dispense Volume(Stage3) Collect Result_Dam'] * train_data['DISCHARGED TIME OF RESIN(Stage3) Collect Result_Dam']\n",
    "\n",
    "train_data['volume_time_multip_avg_Dam'] = (train_data['volume_time_multip_stage1_Dam'] + \n",
    "                                            train_data['volume_time_multip_stage2_Dam'] + \n",
    "                                            train_data['volume_time_multip_stage3_Dam']) / 3\n",
    "\n",
    "# volume*time 파생변수 - Dam\n",
    "test_data['volume_time_multip_stage1_Dam'] = test_data['Dispense Volume(Stage1) Collect Result_Dam'] * test_data['DISCHARGED TIME OF RESIN(Stage1) Collect Result_Dam']\n",
    "test_data['volume_time_multip_stage2_Dam'] = test_data['Dispense Volume(Stage2) Collect Result_Dam'] * test_data['DISCHARGED TIME OF RESIN(Stage2) Collect Result_Dam']\n",
    "test_data['volume_time_multip_stage3_Dam'] = test_data['Dispense Volume(Stage3) Collect Result_Dam'] * test_data['DISCHARGED TIME OF RESIN(Stage3) Collect Result_Dam']\n",
    "\n",
    "test_data['volume_time_multip_avg_Dam'] = (test_data['volume_time_multip_stage1_Dam'] + \n",
    "                                            test_data['volume_time_multip_stage2_Dam'] + \n",
    "                                            test_data['volume_time_multip_stage3_Dam']) / 3"
   ]
  },
  {
   "cell_type": "code",
   "execution_count": 43,
   "id": "0e0ebd5c-6fd7-4c5b-89cd-042b3a3671e2",
   "metadata": {},
   "outputs": [],
   "source": [
    "# 삭제할 열 목록 추가\n",
    "columns_to_drop = [\n",
    "    'DISCHARGED TIME OF RESIN(Stage1) Collect Result_Dam',\n",
    "    'DISCHARGED TIME OF RESIN(Stage2) Collect Result_Dam',\n",
    "    'DISCHARGED TIME OF RESIN(Stage3) Collect Result_Dam',\n",
    "    'Dispense Volume(Stage1) Collect Result_Dam',\n",
    "    'Dispense Volume(Stage2) Collect Result_Dam',\n",
    "    'Dispense Volume(Stage3) Collect Result_Dam',\n",
    "    'volume_time_multip_stage1_Dam',\n",
    "    'volume_time_multip_stage2_Dam',\n",
    "    'volume_time_multip_stage3_Dam'\n",
    "]\n",
    "\n",
    "train_data.drop(columns=columns_to_drop, inplace=True, errors='ignore')\n",
    "test_data.drop(columns=columns_to_drop, inplace=True, errors='ignore')"
   ]
  },
  {
   "cell_type": "markdown",
   "id": "6f9986f1-a251-430e-bbd9-705bdd0cfbda",
   "metadata": {},
   "source": [
    "- fill1"
   ]
  },
  {
   "cell_type": "code",
   "execution_count": 44,
   "id": "b2b05f8b-7a55-40be-aa70-02faa32cffe1",
   "metadata": {},
   "outputs": [],
   "source": [
    "# volume*time 파생변수 - Fill1\n",
    "train_data['volume_time_multip_stage1_Fill1'] = train_data['Dispense Volume(Stage1) Collect Result_Fill1'] * train_data['DISCHARGED TIME OF RESIN(Stage1) Collect Result_Fill1']\n",
    "train_data['volume_time_multip_stage2_Fill1'] = train_data['Dispense Volume(Stage2) Collect Result_Fill1'] * train_data['DISCHARGED TIME OF RESIN(Stage2) Collect Result_Fill1']\n",
    "train_data['volume_time_multip_stage3_Fill1'] = train_data['Dispense Volume(Stage3) Collect Result_Fill1'] * train_data['DISCHARGED TIME OF RESIN(Stage3) Collect Result_Fill1']\n",
    "\n",
    "train_data['volume_time_multip_avg_Fill1'] = (train_data['volume_time_multip_stage1_Fill1'] + \n",
    "                                            train_data['volume_time_multip_stage2_Fill1'] + \n",
    "                                            train_data['volume_time_multip_stage3_Fill1']) / 3\n",
    "\n",
    "# volume*time 파생변수 - Fill1\n",
    "test_data['volume_time_multip_stage1_Fill1'] = test_data['Dispense Volume(Stage1) Collect Result_Fill1'] * test_data['DISCHARGED TIME OF RESIN(Stage1) Collect Result_Fill1']\n",
    "test_data['volume_time_multip_stage2_Fill1'] = test_data['Dispense Volume(Stage2) Collect Result_Fill1'] * test_data['DISCHARGED TIME OF RESIN(Stage2) Collect Result_Fill1']\n",
    "test_data['volume_time_multip_stage3_Fill1'] = test_data['Dispense Volume(Stage3) Collect Result_Fill1'] * test_data['DISCHARGED TIME OF RESIN(Stage3) Collect Result_Fill1']\n",
    "\n",
    "test_data['volume_time_multip_avg_Fill1'] = (test_data['volume_time_multip_stage1_Fill1'] + \n",
    "                                            test_data['volume_time_multip_stage2_Fill1'] + \n",
    "                                            test_data['volume_time_multip_stage3_Fill1']) / 3"
   ]
  },
  {
   "cell_type": "code",
   "execution_count": 45,
   "id": "bff6cf24-453d-4bba-a5e3-bddededfb17f",
   "metadata": {},
   "outputs": [],
   "source": [
    "# 삭제할 열 목록 추가\n",
    "columns_to_drop = [\n",
    "    'DISCHARGED TIME OF RESIN(Stage1) Collect Result_Fill1',\n",
    "    'DISCHARGED TIME OF RESIN(Stage2) Collect Result_Fill1',\n",
    "    'DISCHARGED TIME OF RESIN(Stage3) Collect Result_Fill1',\n",
    "    'Dispense Volume(Stage1) Collect Result_Fill1',\n",
    "    'Dispense Volume(Stage2) Collect Result_Fill1',\n",
    "    'Dispense Volume(Stage3) Collect Result_Fill1',\n",
    "    'volume_time_multip_stage1_Fill1',\n",
    "    'volume_time_multip_stage2_Fill1',\n",
    "    'volume_time_multip_stage3_Fill1'\n",
    "]\n",
    "\n",
    "train_data.drop(columns=columns_to_drop, inplace=True, errors='ignore')\n",
    "test_data.drop(columns=columns_to_drop, inplace=True, errors='ignore')"
   ]
  },
  {
   "cell_type": "markdown",
   "id": "56006cb7-66fa-4757-816c-260e12d6555e",
   "metadata": {},
   "source": [
    "### 7. Circle, Line 변수"
   ]
  },
  {
   "cell_type": "code",
   "execution_count": 46,
   "id": "6d445887-0bf3-4a31-956b-bdc711c606c5",
   "metadata": {},
   "outputs": [],
   "source": [
    "### circle\n",
    "# 열 이름 변경\n",
    "train_data.rename(columns={\n",
    "    'Stage1 Circle1 Distance Speed Collect Result_Dam': 'Stage1_Circle_Distance_Speed_Dam',\n",
    "    'Stage2 Circle1 Distance Speed Collect Result_Dam': 'Stage2_Circle_Distance_Speed_Dam',\n",
    "    'Stage3 Circle1 Distance Speed Collect Result_Dam': 'Stage3_Circle_Distance_Speed_Dam'\n",
    "}, inplace=True)\n",
    "\n",
    "test_data.rename(columns={\n",
    "    'Stage1 Circle1 Distance Speed Collect Result_Dam': 'Stage1_Circle_Distance_Speed_Dam',\n",
    "    'Stage2 Circle1 Distance Speed Collect Result_Dam': 'Stage2_Circle_Distance_Speed_Dam',\n",
    "    'Stage3 Circle1 Distance Speed Collect Result_Dam': 'Stage3_Circle_Distance_Speed_Dam'\n",
    "}, inplace=True)"
   ]
  },
  {
   "cell_type": "code",
   "execution_count": 47,
   "id": "61d337af-f8b5-4a00-a32a-8f23936a5157",
   "metadata": {},
   "outputs": [],
   "source": [
    "# 제거할 변수 목록\n",
    "columns_to_drop = [\n",
    "    'Stage1 Circle2 Distance Speed Collect Result_Dam',\n",
    "    'Stage1 Circle3 Distance Speed Collect Result_Dam',\n",
    "    'Stage1 Circle4 Distance Speed Collect Result_Dam',\n",
    "    \n",
    "    'Stage2 Circle2 Distance Speed Collect Result_Dam',\n",
    "    'Stage2 Circle3 Distance Speed Collect Result_Dam',\n",
    "    'Stage2 Circle4 Distance Speed Collect Result_Dam',\n",
    "    \n",
    "    'Stage3 Circle2 Distance Speed Collect Result_Dam',\n",
    "    'Stage3 Circle3 Distance Speed Collect Result_Dam',\n",
    "    'Stage3 Circle4 Distance Speed Collect Result_Dam'\n",
    "]\n",
    "\n",
    "# 변수 제거\n",
    "train_data.drop(columns=columns_to_drop, inplace=True)\n",
    "test_data.drop(columns=columns_to_drop, inplace=True)"
   ]
  },
  {
   "cell_type": "code",
   "execution_count": 48,
   "id": "635f16a4-2bc5-43c2-8d71-0c25dc28fc12",
   "metadata": {},
   "outputs": [],
   "source": [
    "### line\n",
    "# line1&3과 line2&4를 합친 파생변수 생성 함수\n",
    "def check_distance_speed(data, stage):\n",
    "    # 단계에 따라 라인 번호 정의\n",
    "    line_pairs = [(1, 3), (2, 4)]\n",
    "    \n",
    "    # 각 라인 쌍에 대해 반복\n",
    "    for line1, line2 in line_pairs:\n",
    "        line1_name = f'Stage{stage} Line{line1} Distance Speed Collect Result_Dam'\n",
    "        line2_name = f'Stage{stage} Line{line2} Distance Speed Collect Result_Dam'\n",
    "        \n",
    "        # 새로운 열 이름 설정\n",
    "        new_col_name = f'stage{stage}_line{line1}{line2}_distance_speed_Dam'\n",
    "        \n",
    "        # 조건에 따라 값 설정\n",
    "        data[new_col_name] = data.apply(\n",
    "            lambda row: row[line1_name] if row[line1_name] == row[line2_name] else 'diff', axis=1\n",
    "        )\n",
    "\n",
    "# train_data와 test_data 모두에 대해 함수 호출\n",
    "for stage in range(1, 4):\n",
    "    check_distance_speed(train_data, stage)\n",
    "    check_distance_speed(test_data, stage)"
   ]
  },
  {
   "cell_type": "code",
   "execution_count": 49,
   "id": "ba83e4f4-f481-468c-9b97-e0cbe31ad381",
   "metadata": {},
   "outputs": [],
   "source": [
    "# train_data에서 변수들을 object 타입으로 변환\n",
    "train_data['stage1_line24_distance_speed_Dam'] = train_data['stage1_line24_distance_speed_Dam'].astype(object)\n",
    "train_data['stage2_line24_distance_speed_Dam'] = train_data['stage2_line24_distance_speed_Dam'].astype(object)\n",
    "train_data['stage3_line24_distance_speed_Dam'] = train_data['stage3_line24_distance_speed_Dam'].astype(object)\n",
    "\n",
    "# test_data에서 변수들을 object 타입으로 변환\n",
    "test_data['stage1_line24_distance_speed_Dam'] = test_data['stage1_line24_distance_speed_Dam'].astype(object)\n",
    "test_data['stage2_line24_distance_speed_Dam'] = test_data['stage2_line24_distance_speed_Dam'].astype(object)\n",
    "test_data['stage3_line24_distance_speed_Dam'] = test_data['stage3_line24_distance_speed_Dam'].astype(object)"
   ]
  },
  {
   "cell_type": "code",
   "execution_count": 50,
   "id": "fbe85479-dc33-4121-a8ab-5cc3bd6b5006",
   "metadata": {},
   "outputs": [],
   "source": [
    "# 제거할 변수 목록\n",
    "columns_to_drop = [\n",
    "    'Stage1 Line1 Distance Speed Collect Result_Dam',\n",
    "    'Stage1 Line2 Distance Speed Collect Result_Dam',\n",
    "    'Stage1 Line3 Distance Speed Collect Result_Dam',\n",
    "    'Stage1 Line4 Distance Speed Collect Result_Dam',\n",
    "    \n",
    "    'Stage2 Line1 Distance Speed Collect Result_Dam',\n",
    "    'Stage2 Line2 Distance Speed Collect Result_Dam',\n",
    "    'Stage2 Line3 Distance Speed Collect Result_Dam',\n",
    "    'Stage2 Line4 Distance Speed Collect Result_Dam',\n",
    "    \n",
    "    'Stage3 Line1 Distance Speed Collect Result_Dam',\n",
    "    'Stage3 Line2 Distance Speed Collect Result_Dam',\n",
    "    'Stage3 Line3 Distance Speed Collect Result_Dam',\n",
    "    'Stage3 Line4 Distance Speed Collect Result_Dam'\n",
    "]\n",
    "\n",
    "# 변수 제거\n",
    "train_data.drop(columns=columns_to_drop, inplace=True)\n",
    "test_data.drop(columns=columns_to_drop, inplace=True)"
   ]
  },
  {
   "cell_type": "markdown",
   "id": "7d80796e-f6ac-434a-9ab6-e967ca205fe5",
   "metadata": {},
   "source": [
    "### 8. Thickness 변수"
   ]
  },
  {
   "cell_type": "code",
   "execution_count": 51,
   "id": "769fdc40-d747-4671-b611-bab9d874055a",
   "metadata": {},
   "outputs": [],
   "source": [
    "# 세 개 컬럼의 평균을 계산하여 새로운 컬럼 생성\n",
    "train_data['average_thickness_Dam'] = train_data[['THICKNESS 1 Collect Result_Dam', \n",
    "                                                  'THICKNESS 2 Collect Result_Dam', \n",
    "                                                  'THICKNESS 3 Collect Result_Dam']].mean(axis=1)\n",
    "\n",
    "test_data['average_thickness_Dam'] = test_data[['THICKNESS 1 Collect Result_Dam', \n",
    "                                                'THICKNESS 2 Collect Result_Dam', \n",
    "                                                'THICKNESS 3 Collect Result_Dam']].mean(axis=1)"
   ]
  },
  {
   "cell_type": "code",
   "execution_count": 52,
   "id": "9bb9b4ca-e018-4b75-aa27-eb85bd990683",
   "metadata": {},
   "outputs": [],
   "source": [
    "# 삭제할 컬럼 리스트\n",
    "columns_to_drop = [\n",
    "    'THICKNESS 1 Collect Result_Dam',\n",
    "    'THICKNESS 2 Collect Result_Dam',\n",
    "    'THICKNESS 3 Collect Result_Dam'\n",
    "]\n",
    "\n",
    "# 지정한 컬럼 삭제\n",
    "train_data.drop(columns=columns_to_drop, inplace=True)\n",
    "test_data.drop(columns=columns_to_drop, inplace=True)"
   ]
  },
  {
   "cell_type": "markdown",
   "id": "923c7b4d-1be0-431c-ab45-ff09a5e96f0f",
   "metadata": {},
   "source": [
    "### 9. Autoclave 관련 변수"
   ]
  },
  {
   "cell_type": "code",
   "execution_count": 53,
   "id": "b1f89fb6-59bd-4203-8c2d-0b68548b1632",
   "metadata": {},
   "outputs": [],
   "source": [
    "# 각 압력과 시간의 곱을 담은 새로운 컬럼 생성\n",
    "train_data['1st_pressure_time_AutoClave'] = train_data['1st Pressure Collect Result_AutoClave'] * train_data['1st Pressure 1st Pressure Unit Time_AutoClave']\n",
    "train_data['2nd_pressure_time_AutoClave'] = train_data['2nd Pressure Collect Result_AutoClave'] * train_data['2nd Pressure Unit Time_AutoClave']\n",
    "train_data['3rd_pressure_time_AutoClave'] = train_data['3rd Pressure Collect Result_AutoClave'] * train_data['3rd Pressure Unit Time_AutoClave']\n",
    "\n",
    "train_data['avg_pressure_time_AutoClave'] = (train_data['1st_pressure_time_AutoClave'] +\n",
    "                                             train_data['2nd_pressure_time_AutoClave'] +\n",
    "                                             train_data['3rd_pressure_time_AutoClave']) / 3"
   ]
  },
  {
   "cell_type": "code",
   "execution_count": 54,
   "id": "f53849fa-07d1-4d3e-a25d-79fa1a9525c2",
   "metadata": {},
   "outputs": [],
   "source": [
    "# 각 압력과 시간의 곱을 담은 새로운 컬럼 생성\n",
    "test_data['1st_pressure_time_AutoClave'] = test_data['1st Pressure Collect Result_AutoClave'] * test_data['1st Pressure 1st Pressure Unit Time_AutoClave']\n",
    "test_data['2nd_pressure_time_AutoClave'] = test_data['2nd Pressure Collect Result_AutoClave'] * test_data['2nd Pressure Unit Time_AutoClave']\n",
    "test_data['3rd_pressure_time_AutoClave'] = test_data['3rd Pressure Collect Result_AutoClave'] * test_data['3rd Pressure Unit Time_AutoClave']\n",
    "\n",
    "test_data['avg_pressure_time_AutoClave'] = (test_data['1st_pressure_time_AutoClave'] +\n",
    "                                             test_data['2nd_pressure_time_AutoClave'] +\n",
    "                                             test_data['3rd_pressure_time_AutoClave']) / 3"
   ]
  },
  {
   "cell_type": "code",
   "execution_count": 55,
   "id": "0cf9e13a-fada-448a-b045-3400cb9467e5",
   "metadata": {},
   "outputs": [],
   "source": [
    "# 삭제할 컬럼 리스트\n",
    "columns_to_drop = [\n",
    "    '1st Pressure Collect Result_AutoClave',\n",
    "    '1st Pressure 1st Pressure Unit Time_AutoClave',\n",
    "    '2nd Pressure Collect Result_AutoClave',\n",
    "    '2nd Pressure Unit Time_AutoClave',\n",
    "    '3rd Pressure Collect Result_AutoClave',\n",
    "    '3rd Pressure Unit Time_AutoClave',\n",
    "]\n",
    "\n",
    "# 지정한 컬럼 삭제\n",
    "train_data.drop(columns=columns_to_drop, inplace=True)\n",
    "test_data.drop(columns=columns_to_drop, inplace=True)"
   ]
  },
  {
   "cell_type": "markdown",
   "id": "f7e41272-4e95-40f2-832e-c7a4ad1d5460",
   "metadata": {},
   "source": [
    "### 10. Time 변수"
   ]
  },
  {
   "cell_type": "code",
   "execution_count": 56,
   "id": "f9923c80-82b6-45e6-a2f0-032cb54c6c57",
   "metadata": {},
   "outputs": [],
   "source": [
    "# 총시간 대비 비율 변수\n",
    "def calculate_total_time_and_ratios(data):\n",
    "    data['total_time'] = (\n",
    "        data['Machine Tact time Collect Result_Dam'] +\n",
    "        data['Machine Tact time Collect Result_Fill1'] +\n",
    "        data['Machine Tact time Collect Result_Fill2'] +\n",
    "        data['Chamber Temp. Unit Time_AutoClave']\n",
    "    )\n",
    "    data['time_ratio_Dam'] = (data['Machine Tact time Collect Result_Dam'] / data['total_time']).round(3)\n",
    "    data['time_ratio_Fill1'] = (data['Machine Tact time Collect Result_Fill1'] / data['total_time']).round(3)\n",
    "    data['time_ratio_Fill2'] = (data['Machine Tact time Collect Result_Fill2'] / data['total_time']).round(3)\n",
    "    data['time_ratio_AutoClave'] = (data['Chamber Temp. Unit Time_AutoClave'] / data['total_time']).round(3)\n",
    "    return data\n",
    "\n",
    "# train_data와 test_data에 함수 적용\n",
    "train_data = calculate_total_time_and_ratios(train_data)\n",
    "test_data = calculate_total_time_and_ratios(test_data)"
   ]
  },
  {
   "cell_type": "code",
   "execution_count": 57,
   "id": "71df6a7f-21bf-4b8d-9def-75dd8a376b4b",
   "metadata": {},
   "outputs": [],
   "source": [
    "# 변수 제거\n",
    "train_data.drop(columns=[\n",
    "    'total_time'\n",
    "    , 'Machine Tact time Collect Result_Dam'\n",
    "    , 'Machine Tact time Collect Result_Fill1'\n",
    "    , 'Machine Tact time Collect Result_Fill2'\n",
    "    , 'Chamber Temp. Unit Time_AutoClave'], inplace=True)\n",
    "\n",
    "test_data.drop(columns=[\n",
    "    'total_time'\n",
    "    , 'Machine Tact time Collect Result_Dam'\n",
    "    , 'Machine Tact time Collect Result_Fill1'\n",
    "    , 'Machine Tact time Collect Result_Fill2'\n",
    "    , 'Chamber Temp. Unit Time_AutoClave'], inplace=True)"
   ]
  },
  {
   "cell_type": "markdown",
   "id": "5407c0d4-c6a4-4b05-9f23-6d5bbbd9eb0f",
   "metadata": {},
   "source": [
    "### 11. 변수 확인"
   ]
  },
  {
   "cell_type": "code",
   "execution_count": 58,
   "id": "037c7017-2c2c-41d7-a126-0435efac77d8",
   "metadata": {},
   "outputs": [],
   "source": [
    "# 삭제할 변수 리스트\n",
    "columns_to_drop = [\n",
    "    'Chamber Temp. Judge Value_AutoClave', \n",
    "    'GMES_ORIGIN_INSP_JUDGE_CODE Collect Result_AutoClave', \n",
    "    'GMES_ORIGIN_INSP_JUDGE_CODE Judge Value_AutoClave'\n",
    "]\n",
    "\n",
    "train_data = train_data.drop(columns=columns_to_drop)\n",
    "test_data = test_data.drop(columns=columns_to_drop)"
   ]
  },
  {
   "cell_type": "code",
   "execution_count": 59,
   "id": "9f949535-f844-493c-84df-48fe1bf57930",
   "metadata": {},
   "outputs": [
    {
     "name": "stdout",
     "output_type": "stream",
     "text": [
      "삭제된 train_data 열 개수: 37\n",
      "삭제된 test_data 열 개수: 37\n"
     ]
    }
   ],
   "source": [
    "# 값의 종류가 1개이고 결측값이 없는 열을 제거하는 함수\n",
    "def drop_single_value_columns(df):\n",
    "    cols_to_drop = [col for col in df.columns if col != 'target' and df[col].nunique() == 1 and df[col].isnull().sum() == 0]\n",
    "    df_dropped = df.drop(columns=cols_to_drop)\n",
    "    return df_dropped, cols_to_drop\n",
    "\n",
    "# train_data와 test_data에서 해당 열 제거 및 삭제된 열 이름과 개수 출력\n",
    "train_data, train_cols_dropped = drop_single_value_columns(train_data)\n",
    "test_data, test_cols_dropped = drop_single_value_columns(test_data)\n",
    "\n",
    "# print(\"삭제된 train_data 열 이름:\", train_cols_dropped)\n",
    "print(\"삭제된 train_data 열 개수:\", len(train_cols_dropped))\n",
    "\n",
    "# print(\"삭제된 test_data 열 이름:\", test_cols_dropped)\n",
    "print(\"삭제된 test_data 열 개수:\", len(test_cols_dropped))"
   ]
  },
  {
   "cell_type": "markdown",
   "id": "d88801ff-c9a9-45dd-825d-005dbf75943f",
   "metadata": {},
   "source": [
    "### 12. target encoding"
   ]
  },
  {
   "cell_type": "code",
   "execution_count": 60,
   "id": "1b040b33-0137-4968-b99b-c632d1e8473a",
   "metadata": {},
   "outputs": [
    {
     "name": "stdout",
     "output_type": "stream",
     "text": [
      "Index(['target', 'model_receip', 'workorder_receip', 'PalletID_Collect_Result',\n",
      "       'cure_end_position_XZ_Fill2', 'cure_start_position_XZ_Fill2',\n",
      "       'cure_standby_position_XZ_Fill2', 'stage1_line13_distance_speed_Dam',\n",
      "       'stage1_line24_distance_speed_Dam', 'stage2_line13_distance_speed_Dam',\n",
      "       'stage2_line24_distance_speed_Dam', 'stage3_line13_distance_speed_Dam',\n",
      "       'stage3_line24_distance_speed_Dam'],\n",
      "      dtype='object')  train_object_columns 갯수 : 13\n",
      "Index(['Set ID', 'model_receip', 'workorder_receip', 'PalletID_Collect_Result',\n",
      "       'cure_end_position_XZ_Fill2', 'cure_start_position_XZ_Fill2',\n",
      "       'cure_standby_position_XZ_Fill2', 'stage1_line13_distance_speed_Dam',\n",
      "       'stage1_line24_distance_speed_Dam', 'stage2_line13_distance_speed_Dam',\n",
      "       'stage2_line24_distance_speed_Dam', 'stage3_line13_distance_speed_Dam',\n",
      "       'stage3_line24_distance_speed_Dam'],\n",
      "      dtype='object')  test_object_columns 갯수 : 13\n",
      "\n",
      "Train Data:\n",
      "target unique 값 갯수: 2\n",
      "model_receip unique 값 갯수: 15\n",
      "workorder_receip unique 값 갯수: 577\n",
      "PalletID_Collect_Result unique 값 갯수: 17\n",
      "cure_end_position_XZ_Fill2 unique 값 갯수: 4\n",
      "cure_start_position_XZ_Fill2 unique 값 갯수: 5\n",
      "cure_standby_position_XZ_Fill2 unique 값 갯수: 4\n",
      "stage1_line13_distance_speed_Dam unique 값 갯수: 9\n",
      "stage1_line24_distance_speed_Dam unique 값 갯수: 7\n",
      "stage2_line13_distance_speed_Dam unique 값 갯수: 9\n",
      "stage2_line24_distance_speed_Dam unique 값 갯수: 10\n",
      "stage3_line13_distance_speed_Dam unique 값 갯수: 9\n",
      "stage3_line24_distance_speed_Dam unique 값 갯수: 7\n",
      "\n",
      "Test Data:\n",
      "Set ID unique 값 갯수: 17361\n",
      "model_receip unique 값 갯수: 14\n",
      "workorder_receip unique 값 갯수: 575\n",
      "PalletID_Collect_Result unique 값 갯수: 17\n",
      "cure_end_position_XZ_Fill2 unique 값 갯수: 4\n",
      "cure_start_position_XZ_Fill2 unique 값 갯수: 5\n",
      "cure_standby_position_XZ_Fill2 unique 값 갯수: 4\n",
      "stage1_line13_distance_speed_Dam unique 값 갯수: 9\n",
      "stage1_line24_distance_speed_Dam unique 값 갯수: 7\n",
      "stage2_line13_distance_speed_Dam unique 값 갯수: 9\n",
      "stage2_line24_distance_speed_Dam unique 값 갯수: 10\n",
      "stage3_line13_distance_speed_Dam unique 값 갯수: 9\n",
      "stage3_line24_distance_speed_Dam unique 값 갯수: 7\n"
     ]
    }
   ],
   "source": [
    "# object 타입의 변수 출력\n",
    "train_object_columns = train_data.select_dtypes(include=['object']).columns\n",
    "test_object_columns = test_data.select_dtypes(include=['object']).columns\n",
    "\n",
    "print(train_object_columns, f\" train_object_columns 갯수 : {len(train_object_columns)}\")\n",
    "print(test_object_columns, f\" test_object_columns 갯수 : {len(test_object_columns)}\")\n",
    "\n",
    "# 각 object 변수의 고유 값 개수 출력\n",
    "print(\"\\nTrain Data:\")\n",
    "for col in train_object_columns:\n",
    "    unique_count = train_data[col].nunique()\n",
    "    print(f\"{col} unique 값 갯수: {unique_count}\")\n",
    "\n",
    "print(\"\\nTest Data:\")\n",
    "for col in test_object_columns:\n",
    "    unique_count = test_data[col].nunique()\n",
    "    print(f\"{col} unique 값 갯수: {unique_count}\")"
   ]
  },
  {
   "cell_type": "code",
   "execution_count": 61,
   "id": "2e9822a2-42bc-499f-9c46-cc5e0289731d",
   "metadata": {},
   "outputs": [],
   "source": [
    "# 전체 평균 타겟 값 계산 (abnormal 전체 비율)\n",
    "train_data['target_01'] = train_data['target'].apply(lambda x: 1 if x == 'AbNormal' else 0)\n",
    "global_mean = train_data['target_01'].mean()"
   ]
  },
  {
   "cell_type": "code",
   "execution_count": 62,
   "id": "a6c17701-dd06-4dcd-93ac-47558ef7f908",
   "metadata": {},
   "outputs": [],
   "source": [
    "# 적용할 열 리스트\n",
    "columns_to_encode = [\n",
    "    'model_receip',\n",
    "    'workorder_receip',\n",
    "    'PalletID_Collect_Result',\n",
    "    'cure_end_position_XZ_Fill2',\n",
    "    'cure_start_position_XZ_Fill2',\n",
    "    'cure_standby_position_XZ_Fill2',\n",
    "    'stage1_line13_distance_speed_Dam',\n",
    "    'stage1_line24_distance_speed_Dam',\n",
    "    'stage2_line13_distance_speed_Dam',\n",
    "    'stage2_line24_distance_speed_Dam',\n",
    "    'stage3_line13_distance_speed_Dam',\n",
    "    'stage3_line24_distance_speed_Dam'\n",
    "]\n",
    "\n",
    "# 전체 데이터의 평균 타겟값\n",
    "global_mean = train_data['target_01'].mean()\n",
    "\n",
    "for column in columns_to_encode:\n",
    "    # 각 column에 대한 평균 타겟값과 카운트 계산\n",
    "    target_mean = train_data.groupby(column)['target_01'].mean()\n",
    "    count = train_data.groupby(column)['target_01'].count()\n",
    "\n",
    "    # 스무딩 적용\n",
    "    '''\n",
    "    추천 알파 값:\n",
    "    0.5: 일반적으로 많이 사용되는 값으로, 기존 데이터와 전체 평균 간의 균형을 잘 맞춰줍니다.\n",
    "    0.3: 데이터가 충분히 많고 각 카테고리의 타겟 값이 잘 분포되어 있을 때 사용.\n",
    "    0.7: 데이터가 적거나 특정 카테고리가 상대적으로 적을 때 사용.\n",
    "    '''\n",
    "    alpha = 0.5\n",
    "    smoothed_values = (target_mean * count + global_mean * alpha) / (count + alpha)\n",
    "\n",
    "    # 인코딩된 값을 데이터프레임에 추가\n",
    "    train_data[f'{column}_encoded'] = train_data[column].map(smoothed_values)\n",
    "\n",
    "    # test_data에 동일한 인코딩 값을 추가\n",
    "    encoding_dict = train_data.groupby(column)[f'{column}_encoded'].first().to_dict()\n",
    "    test_data[f'{column}_encoded'] = test_data[column].map(encoding_dict)"
   ]
  },
  {
   "cell_type": "code",
   "execution_count": 63,
   "id": "f81bc47a",
   "metadata": {},
   "outputs": [
    {
     "data": {
      "text/plain": [
       "AJX75334501_1       33791\n",
       "AJX75334505_1        2572\n",
       "AJX75334502_1        2426\n",
       "AJX75334502_6         964\n",
       "AJX75334507_1         310\n",
       "AJX75334506_1         115\n",
       "AJX75334503_9          96\n",
       "AJX75334503_3          64\n",
       "AJX75334505_17         63\n",
       "AJX75334508_1          60\n",
       "AJX75334501_17         23\n",
       "AJX75334506_6          14\n",
       "AJX75334501_diff        4\n",
       "AJX75334503_1           2\n",
       "AJX75334501_6           2\n",
       "Name: model_receip, dtype: int64"
      ]
     },
     "execution_count": 63,
     "metadata": {},
     "output_type": "execute_result"
    }
   ],
   "source": [
    "train_data['model_receip'].value_counts()"
   ]
  },
  {
   "cell_type": "code",
   "execution_count": 64,
   "id": "07c27675",
   "metadata": {},
   "outputs": [
    {
     "data": {
      "text/plain": [
       "AJX75334501_1     14486\n",
       "AJX75334505_1      1167\n",
       "AJX75334502_1       977\n",
       "AJX75334502_6       428\n",
       "AJX75334507_1       137\n",
       "AJX75334503_9        34\n",
       "AJX75334506_1        33\n",
       "AJX75334503_3        31\n",
       "AJX75334508_1        28\n",
       "AJX75334505_17       22\n",
       "AJX75334506_6         8\n",
       "AJX75334501_17        7\n",
       "AJX75334501_6         2\n",
       "AJX75334503_1         1\n",
       "Name: model_receip, dtype: int64"
      ]
     },
     "execution_count": 64,
     "metadata": {},
     "output_type": "execute_result"
    }
   ],
   "source": [
    "test_data['model_receip'].value_counts()"
   ]
  },
  {
   "cell_type": "code",
   "execution_count": 65,
   "id": "d610130e",
   "metadata": {},
   "outputs": [
    {
     "name": "stdout",
     "output_type": "stream",
     "text": [
      "<class 'pandas.core.frame.DataFrame'>\n",
      "RangeIndex: 40506 entries, 0 to 40505\n",
      "Data columns (total 63 columns):\n",
      " #   Column                                          Non-Null Count  Dtype  \n",
      "---  ------                                          --------------  -----  \n",
      " 0   CURE SPEED Collect Result_Dam                   40506 non-null  int64  \n",
      " 1   DISCHARGED SPEED OF RESIN Collect Result_Dam    40506 non-null  int64  \n",
      " 2   Head Clean Position Z Collect Result_Dam        40506 non-null  float64\n",
      " 3   Head Purge Position Z Collect Result_Dam        40506 non-null  float64\n",
      " 4   Head Zero Position Y Collect Result_Dam         40506 non-null  float64\n",
      " 5   Stage1_Circle_Distance_Speed_Dam                40506 non-null  int64  \n",
      " 6   Stage2_Circle_Distance_Speed_Dam                40506 non-null  int64  \n",
      " 7   Stage3_Circle_Distance_Speed_Dam                40506 non-null  int64  \n",
      " 8   WorkMode Collect Result                         40506 non-null  float64\n",
      " 9   Chamber Temp. Collect Result_AutoClave          40506 non-null  int64  \n",
      " 10  DISCHARGED SPEED OF RESIN Collect Result_Fill1  40506 non-null  float64\n",
      " 11  Head Purge Position Z Collect Result_Fill1      40506 non-null  int64  \n",
      " 12  CURE SPEED Collect Result_Fill2                 40506 non-null  int64  \n",
      " 13  Head Purge Position Z Collect Result_Fill2      40506 non-null  float64\n",
      " 14  target                                          40506 non-null  object \n",
      " 15  model_receip                                    40506 non-null  object \n",
      " 16  workorder_receip                                40506 non-null  object \n",
      " 17  Equipment_same_num                              40506 non-null  int64  \n",
      " 18  PalletID_Collect_Result                         40506 non-null  object \n",
      " 19  Production_Qty_Collect_Result                   40506 non-null  int64  \n",
      " 20  CURE_DISTANCE_Dam                               40506 non-null  float64\n",
      " 21  cure_end_position_XZ_Fill2                      40506 non-null  object \n",
      " 22  cure_start_position_XZ_Fill2                    40506 non-null  object \n",
      " 23  cure_standby_position_XZ_Fill2                  40506 non-null  object \n",
      " 24  HEAD NORMAL DISTANCE_STAGE1_STAGE3_Dam          40506 non-null  float64\n",
      " 25  HEAD NORMAL DISTANCE_TRIANGLE_area_Dam          40506 non-null  float64\n",
      " 26  HEAD NORMAL DISTANCE_TRIANGLE_height_Dam        40506 non-null  float64\n",
      " 27  HEAD NORMAL DISTANCE_STAGE1_STAGE3_Fill1        40506 non-null  float64\n",
      " 28  HEAD NORMAL DISTANCE_TRIANGLE_area_Fill1        40506 non-null  float64\n",
      " 29  HEAD NORMAL DISTANCE_TRIANGLE_height_Fill1      40506 non-null  float64\n",
      " 30  HEAD NORMAL DISTANCE_STAGE1_STAGE2_Fill2        40506 non-null  float64\n",
      " 31  HEAD NORMAL DISTANCE_STAGE2_STAGE3_Fill2        40506 non-null  float64\n",
      " 32  HEAD NORMAL DISTANCE_STAGE1_STAGE3_Fill2        40506 non-null  float64\n",
      " 33  volume_time_multip_avg_Dam                      40506 non-null  float64\n",
      " 34  volume_time_multip_avg_Fill1                    40506 non-null  float64\n",
      " 35  stage1_line13_distance_speed_Dam                40506 non-null  object \n",
      " 36  stage1_line24_distance_speed_Dam                40506 non-null  object \n",
      " 37  stage2_line13_distance_speed_Dam                40506 non-null  object \n",
      " 38  stage2_line24_distance_speed_Dam                40506 non-null  object \n",
      " 39  stage3_line13_distance_speed_Dam                40506 non-null  object \n",
      " 40  stage3_line24_distance_speed_Dam                40506 non-null  object \n",
      " 41  average_thickness_Dam                           40506 non-null  float64\n",
      " 42  1st_pressure_time_AutoClave                     40506 non-null  float64\n",
      " 43  2nd_pressure_time_AutoClave                     40506 non-null  float64\n",
      " 44  3rd_pressure_time_AutoClave                     40506 non-null  float64\n",
      " 45  avg_pressure_time_AutoClave                     40506 non-null  float64\n",
      " 46  time_ratio_Dam                                  40506 non-null  float64\n",
      " 47  time_ratio_Fill1                                40506 non-null  float64\n",
      " 48  time_ratio_Fill2                                40506 non-null  float64\n",
      " 49  time_ratio_AutoClave                            40506 non-null  float64\n",
      " 50  target_01                                       40506 non-null  int64  \n",
      " 51  model_receip_encoded                            40506 non-null  float64\n",
      " 52  workorder_receip_encoded                        40506 non-null  float64\n",
      " 53  PalletID_Collect_Result_encoded                 40506 non-null  float64\n",
      " 54  cure_end_position_XZ_Fill2_encoded              40506 non-null  float64\n",
      " 55  cure_start_position_XZ_Fill2_encoded            40506 non-null  float64\n",
      " 56  cure_standby_position_XZ_Fill2_encoded          40506 non-null  float64\n",
      " 57  stage1_line13_distance_speed_Dam_encoded        40506 non-null  float64\n",
      " 58  stage1_line24_distance_speed_Dam_encoded        40506 non-null  float64\n",
      " 59  stage2_line13_distance_speed_Dam_encoded        40506 non-null  float64\n",
      " 60  stage2_line24_distance_speed_Dam_encoded        40506 non-null  float64\n",
      " 61  stage3_line13_distance_speed_Dam_encoded        40506 non-null  float64\n",
      " 62  stage3_line24_distance_speed_Dam_encoded        40506 non-null  float64\n",
      "dtypes: float64(39), int64(11), object(13)\n",
      "memory usage: 19.5+ MB\n"
     ]
    }
   ],
   "source": [
    "train_data.info(verbose=True)"
   ]
  },
  {
   "cell_type": "code",
   "execution_count": 66,
   "id": "8c219398",
   "metadata": {},
   "outputs": [
    {
     "name": "stdout",
     "output_type": "stream",
     "text": [
      "<class 'pandas.core.frame.DataFrame'>\n",
      "RangeIndex: 17361 entries, 0 to 17360\n",
      "Data columns (total 63 columns):\n",
      " #   Column                                          Non-Null Count  Dtype  \n",
      "---  ------                                          --------------  -----  \n",
      " 0   Set ID                                          17361 non-null  object \n",
      " 1   CURE SPEED Collect Result_Dam                   17361 non-null  int64  \n",
      " 2   DISCHARGED SPEED OF RESIN Collect Result_Dam    17361 non-null  int64  \n",
      " 3   Head Clean Position Z Collect Result_Dam        17361 non-null  float64\n",
      " 4   Head Purge Position Z Collect Result_Dam        17361 non-null  float64\n",
      " 5   Head Zero Position Y Collect Result_Dam         17361 non-null  float64\n",
      " 6   Stage1_Circle_Distance_Speed_Dam                17361 non-null  float64\n",
      " 7   Stage2_Circle_Distance_Speed_Dam                17361 non-null  float64\n",
      " 8   Stage3_Circle_Distance_Speed_Dam                17361 non-null  float64\n",
      " 9   WorkMode Collect Result                         17361 non-null  float64\n",
      " 10  Chamber Temp. Collect Result_AutoClave          17361 non-null  int64  \n",
      " 11  DISCHARGED SPEED OF RESIN Collect Result_Fill1  17361 non-null  float64\n",
      " 12  Head Purge Position Z Collect Result_Fill1      17361 non-null  float64\n",
      " 13  CURE SPEED Collect Result_Fill2                 17361 non-null  int64  \n",
      " 14  Head Purge Position Z Collect Result_Fill2      17361 non-null  float64\n",
      " 15  target                                          0 non-null      float64\n",
      " 16  model_receip                                    17361 non-null  object \n",
      " 17  workorder_receip                                17361 non-null  object \n",
      " 18  Equipment_same_num                              17361 non-null  int64  \n",
      " 19  PalletID_Collect_Result                         17361 non-null  object \n",
      " 20  Production_Qty_Collect_Result                   17361 non-null  float64\n",
      " 21  CURE_DISTANCE_Dam                               17361 non-null  float64\n",
      " 22  cure_end_position_XZ_Fill2                      17361 non-null  object \n",
      " 23  cure_start_position_XZ_Fill2                    17361 non-null  object \n",
      " 24  cure_standby_position_XZ_Fill2                  17361 non-null  object \n",
      " 25  HEAD NORMAL DISTANCE_STAGE1_STAGE3_Dam          17361 non-null  float64\n",
      " 26  HEAD NORMAL DISTANCE_TRIANGLE_area_Dam          17361 non-null  float64\n",
      " 27  HEAD NORMAL DISTANCE_TRIANGLE_height_Dam        17361 non-null  float64\n",
      " 28  HEAD NORMAL DISTANCE_STAGE1_STAGE3_Fill1        17361 non-null  float64\n",
      " 29  HEAD NORMAL DISTANCE_TRIANGLE_area_Fill1        17361 non-null  float64\n",
      " 30  HEAD NORMAL DISTANCE_TRIANGLE_height_Fill1      17361 non-null  float64\n",
      " 31  HEAD NORMAL DISTANCE_STAGE1_STAGE2_Fill2        17361 non-null  float64\n",
      " 32  HEAD NORMAL DISTANCE_STAGE2_STAGE3_Fill2        17361 non-null  float64\n",
      " 33  HEAD NORMAL DISTANCE_STAGE1_STAGE3_Fill2        17361 non-null  float64\n",
      " 34  volume_time_multip_avg_Dam                      17361 non-null  float64\n",
      " 35  volume_time_multip_avg_Fill1                    17361 non-null  float64\n",
      " 36  stage1_line13_distance_speed_Dam                17361 non-null  object \n",
      " 37  stage1_line24_distance_speed_Dam                17361 non-null  object \n",
      " 38  stage2_line13_distance_speed_Dam                17361 non-null  object \n",
      " 39  stage2_line24_distance_speed_Dam                17361 non-null  object \n",
      " 40  stage3_line13_distance_speed_Dam                17361 non-null  object \n",
      " 41  stage3_line24_distance_speed_Dam                17361 non-null  object \n",
      " 42  average_thickness_Dam                           17361 non-null  float64\n",
      " 43  1st_pressure_time_AutoClave                     17361 non-null  float64\n",
      " 44  2nd_pressure_time_AutoClave                     17361 non-null  float64\n",
      " 45  3rd_pressure_time_AutoClave                     17361 non-null  float64\n",
      " 46  avg_pressure_time_AutoClave                     17361 non-null  float64\n",
      " 47  time_ratio_Dam                                  17361 non-null  float64\n",
      " 48  time_ratio_Fill1                                17361 non-null  float64\n",
      " 49  time_ratio_Fill2                                17361 non-null  float64\n",
      " 50  time_ratio_AutoClave                            17361 non-null  float64\n",
      " 51  model_receip_encoded                            17361 non-null  float64\n",
      " 52  workorder_receip_encoded                        17359 non-null  float64\n",
      " 53  PalletID_Collect_Result_encoded                 17361 non-null  float64\n",
      " 54  cure_end_position_XZ_Fill2_encoded              17361 non-null  float64\n",
      " 55  cure_start_position_XZ_Fill2_encoded            17361 non-null  float64\n",
      " 56  cure_standby_position_XZ_Fill2_encoded          17361 non-null  float64\n",
      " 57  stage1_line13_distance_speed_Dam_encoded        17361 non-null  float64\n",
      " 58  stage1_line24_distance_speed_Dam_encoded        17361 non-null  float64\n",
      " 59  stage2_line13_distance_speed_Dam_encoded        17361 non-null  float64\n",
      " 60  stage2_line24_distance_speed_Dam_encoded        17361 non-null  float64\n",
      " 61  stage3_line13_distance_speed_Dam_encoded        17361 non-null  float64\n",
      " 62  stage3_line24_distance_speed_Dam_encoded        17361 non-null  float64\n",
      "dtypes: float64(45), int64(5), object(13)\n",
      "memory usage: 8.3+ MB\n"
     ]
    }
   ],
   "source": [
    "test_data.info(verbose=True)"
   ]
  },
  {
   "cell_type": "code",
   "execution_count": 67,
   "id": "0326880b-fcdd-493f-8bda-b53932d5313d",
   "metadata": {},
   "outputs": [],
   "source": [
    "# 삭제할 열 리스트\n",
    "columns_to_drop = [\n",
    "    'target_01',\n",
    "    'model_receip',\n",
    "    'workorder_receip',\n",
    "    'PalletID_Collect_Result',\n",
    "    'cure_end_position_XZ_Fill2',\n",
    "    'cure_start_position_XZ_Fill2',\n",
    "    'cure_standby_position_XZ_Fill2',\n",
    "    'stage1_line13_distance_speed_Dam',\n",
    "    'stage1_line24_distance_speed_Dam',\n",
    "    'stage2_line13_distance_speed_Dam',\n",
    "    'stage2_line24_distance_speed_Dam',\n",
    "    'stage3_line13_distance_speed_Dam',\n",
    "    'stage3_line24_distance_speed_Dam'\n",
    "]\n",
    "\n",
    "# train_data와 test_data에서 열 드랍\n",
    "train_data = train_data.drop(columns=columns_to_drop, errors='ignore')\n",
    "test_data = test_data.drop(columns=columns_to_drop, errors='ignore')"
   ]
  },
  {
   "cell_type": "code",
   "execution_count": 68,
   "id": "25c940cd-54ae-4277-b259-dee92b98f837",
   "metadata": {
    "scrolled": true
   },
   "outputs": [
    {
     "name": "stdout",
     "output_type": "stream",
     "text": [
      "<class 'pandas.core.frame.DataFrame'>\n",
      "RangeIndex: 40506 entries, 0 to 40505\n",
      "Data columns (total 50 columns):\n",
      " #   Column                                          Non-Null Count  Dtype  \n",
      "---  ------                                          --------------  -----  \n",
      " 0   CURE SPEED Collect Result_Dam                   40506 non-null  int64  \n",
      " 1   DISCHARGED SPEED OF RESIN Collect Result_Dam    40506 non-null  int64  \n",
      " 2   Head Clean Position Z Collect Result_Dam        40506 non-null  float64\n",
      " 3   Head Purge Position Z Collect Result_Dam        40506 non-null  float64\n",
      " 4   Head Zero Position Y Collect Result_Dam         40506 non-null  float64\n",
      " 5   Stage1_Circle_Distance_Speed_Dam                40506 non-null  int64  \n",
      " 6   Stage2_Circle_Distance_Speed_Dam                40506 non-null  int64  \n",
      " 7   Stage3_Circle_Distance_Speed_Dam                40506 non-null  int64  \n",
      " 8   WorkMode Collect Result                         40506 non-null  float64\n",
      " 9   Chamber Temp. Collect Result_AutoClave          40506 non-null  int64  \n",
      " 10  DISCHARGED SPEED OF RESIN Collect Result_Fill1  40506 non-null  float64\n",
      " 11  Head Purge Position Z Collect Result_Fill1      40506 non-null  int64  \n",
      " 12  CURE SPEED Collect Result_Fill2                 40506 non-null  int64  \n",
      " 13  Head Purge Position Z Collect Result_Fill2      40506 non-null  float64\n",
      " 14  target                                          40506 non-null  object \n",
      " 15  Equipment_same_num                              40506 non-null  int64  \n",
      " 16  Production_Qty_Collect_Result                   40506 non-null  int64  \n",
      " 17  CURE_DISTANCE_Dam                               40506 non-null  float64\n",
      " 18  HEAD NORMAL DISTANCE_STAGE1_STAGE3_Dam          40506 non-null  float64\n",
      " 19  HEAD NORMAL DISTANCE_TRIANGLE_area_Dam          40506 non-null  float64\n",
      " 20  HEAD NORMAL DISTANCE_TRIANGLE_height_Dam        40506 non-null  float64\n",
      " 21  HEAD NORMAL DISTANCE_STAGE1_STAGE3_Fill1        40506 non-null  float64\n",
      " 22  HEAD NORMAL DISTANCE_TRIANGLE_area_Fill1        40506 non-null  float64\n",
      " 23  HEAD NORMAL DISTANCE_TRIANGLE_height_Fill1      40506 non-null  float64\n",
      " 24  HEAD NORMAL DISTANCE_STAGE1_STAGE2_Fill2        40506 non-null  float64\n",
      " 25  HEAD NORMAL DISTANCE_STAGE2_STAGE3_Fill2        40506 non-null  float64\n",
      " 26  HEAD NORMAL DISTANCE_STAGE1_STAGE3_Fill2        40506 non-null  float64\n",
      " 27  volume_time_multip_avg_Dam                      40506 non-null  float64\n",
      " 28  volume_time_multip_avg_Fill1                    40506 non-null  float64\n",
      " 29  average_thickness_Dam                           40506 non-null  float64\n",
      " 30  1st_pressure_time_AutoClave                     40506 non-null  float64\n",
      " 31  2nd_pressure_time_AutoClave                     40506 non-null  float64\n",
      " 32  3rd_pressure_time_AutoClave                     40506 non-null  float64\n",
      " 33  avg_pressure_time_AutoClave                     40506 non-null  float64\n",
      " 34  time_ratio_Dam                                  40506 non-null  float64\n",
      " 35  time_ratio_Fill1                                40506 non-null  float64\n",
      " 36  time_ratio_Fill2                                40506 non-null  float64\n",
      " 37  time_ratio_AutoClave                            40506 non-null  float64\n",
      " 38  model_receip_encoded                            40506 non-null  float64\n",
      " 39  workorder_receip_encoded                        40506 non-null  float64\n",
      " 40  PalletID_Collect_Result_encoded                 40506 non-null  float64\n",
      " 41  cure_end_position_XZ_Fill2_encoded              40506 non-null  float64\n",
      " 42  cure_start_position_XZ_Fill2_encoded            40506 non-null  float64\n",
      " 43  cure_standby_position_XZ_Fill2_encoded          40506 non-null  float64\n",
      " 44  stage1_line13_distance_speed_Dam_encoded        40506 non-null  float64\n",
      " 45  stage1_line24_distance_speed_Dam_encoded        40506 non-null  float64\n",
      " 46  stage2_line13_distance_speed_Dam_encoded        40506 non-null  float64\n",
      " 47  stage2_line24_distance_speed_Dam_encoded        40506 non-null  float64\n",
      " 48  stage3_line13_distance_speed_Dam_encoded        40506 non-null  float64\n",
      " 49  stage3_line24_distance_speed_Dam_encoded        40506 non-null  float64\n",
      "dtypes: float64(39), int64(10), object(1)\n",
      "memory usage: 15.5+ MB\n"
     ]
    }
   ],
   "source": [
    "# info 잘리지 않게 출력\n",
    "train_data.info(verbose=True)"
   ]
  },
  {
   "cell_type": "code",
   "execution_count": 69,
   "id": "ae3dd21b-7dcb-4150-9eb4-37fe114ba4bb",
   "metadata": {
    "scrolled": true
   },
   "outputs": [
    {
     "name": "stdout",
     "output_type": "stream",
     "text": [
      "<class 'pandas.core.frame.DataFrame'>\n",
      "RangeIndex: 17361 entries, 0 to 17360\n",
      "Data columns (total 51 columns):\n",
      " #   Column                                          Non-Null Count  Dtype  \n",
      "---  ------                                          --------------  -----  \n",
      " 0   Set ID                                          17361 non-null  object \n",
      " 1   CURE SPEED Collect Result_Dam                   17361 non-null  int64  \n",
      " 2   DISCHARGED SPEED OF RESIN Collect Result_Dam    17361 non-null  int64  \n",
      " 3   Head Clean Position Z Collect Result_Dam        17361 non-null  float64\n",
      " 4   Head Purge Position Z Collect Result_Dam        17361 non-null  float64\n",
      " 5   Head Zero Position Y Collect Result_Dam         17361 non-null  float64\n",
      " 6   Stage1_Circle_Distance_Speed_Dam                17361 non-null  float64\n",
      " 7   Stage2_Circle_Distance_Speed_Dam                17361 non-null  float64\n",
      " 8   Stage3_Circle_Distance_Speed_Dam                17361 non-null  float64\n",
      " 9   WorkMode Collect Result                         17361 non-null  float64\n",
      " 10  Chamber Temp. Collect Result_AutoClave          17361 non-null  int64  \n",
      " 11  DISCHARGED SPEED OF RESIN Collect Result_Fill1  17361 non-null  float64\n",
      " 12  Head Purge Position Z Collect Result_Fill1      17361 non-null  float64\n",
      " 13  CURE SPEED Collect Result_Fill2                 17361 non-null  int64  \n",
      " 14  Head Purge Position Z Collect Result_Fill2      17361 non-null  float64\n",
      " 15  target                                          0 non-null      float64\n",
      " 16  Equipment_same_num                              17361 non-null  int64  \n",
      " 17  Production_Qty_Collect_Result                   17361 non-null  float64\n",
      " 18  CURE_DISTANCE_Dam                               17361 non-null  float64\n",
      " 19  HEAD NORMAL DISTANCE_STAGE1_STAGE3_Dam          17361 non-null  float64\n",
      " 20  HEAD NORMAL DISTANCE_TRIANGLE_area_Dam          17361 non-null  float64\n",
      " 21  HEAD NORMAL DISTANCE_TRIANGLE_height_Dam        17361 non-null  float64\n",
      " 22  HEAD NORMAL DISTANCE_STAGE1_STAGE3_Fill1        17361 non-null  float64\n",
      " 23  HEAD NORMAL DISTANCE_TRIANGLE_area_Fill1        17361 non-null  float64\n",
      " 24  HEAD NORMAL DISTANCE_TRIANGLE_height_Fill1      17361 non-null  float64\n",
      " 25  HEAD NORMAL DISTANCE_STAGE1_STAGE2_Fill2        17361 non-null  float64\n",
      " 26  HEAD NORMAL DISTANCE_STAGE2_STAGE3_Fill2        17361 non-null  float64\n",
      " 27  HEAD NORMAL DISTANCE_STAGE1_STAGE3_Fill2        17361 non-null  float64\n",
      " 28  volume_time_multip_avg_Dam                      17361 non-null  float64\n",
      " 29  volume_time_multip_avg_Fill1                    17361 non-null  float64\n",
      " 30  average_thickness_Dam                           17361 non-null  float64\n",
      " 31  1st_pressure_time_AutoClave                     17361 non-null  float64\n",
      " 32  2nd_pressure_time_AutoClave                     17361 non-null  float64\n",
      " 33  3rd_pressure_time_AutoClave                     17361 non-null  float64\n",
      " 34  avg_pressure_time_AutoClave                     17361 non-null  float64\n",
      " 35  time_ratio_Dam                                  17361 non-null  float64\n",
      " 36  time_ratio_Fill1                                17361 non-null  float64\n",
      " 37  time_ratio_Fill2                                17361 non-null  float64\n",
      " 38  time_ratio_AutoClave                            17361 non-null  float64\n",
      " 39  model_receip_encoded                            17361 non-null  float64\n",
      " 40  workorder_receip_encoded                        17359 non-null  float64\n",
      " 41  PalletID_Collect_Result_encoded                 17361 non-null  float64\n",
      " 42  cure_end_position_XZ_Fill2_encoded              17361 non-null  float64\n",
      " 43  cure_start_position_XZ_Fill2_encoded            17361 non-null  float64\n",
      " 44  cure_standby_position_XZ_Fill2_encoded          17361 non-null  float64\n",
      " 45  stage1_line13_distance_speed_Dam_encoded        17361 non-null  float64\n",
      " 46  stage1_line24_distance_speed_Dam_encoded        17361 non-null  float64\n",
      " 47  stage2_line13_distance_speed_Dam_encoded        17361 non-null  float64\n",
      " 48  stage2_line24_distance_speed_Dam_encoded        17361 non-null  float64\n",
      " 49  stage3_line13_distance_speed_Dam_encoded        17361 non-null  float64\n",
      " 50  stage3_line24_distance_speed_Dam_encoded        17361 non-null  float64\n",
      "dtypes: float64(45), int64(5), object(1)\n",
      "memory usage: 6.8+ MB\n"
     ]
    }
   ],
   "source": [
    "# info 잘리지 않게 출력\n",
    "test_data.info(verbose=True)"
   ]
  },
  {
   "cell_type": "code",
   "execution_count": 70,
   "id": "faa5d424",
   "metadata": {},
   "outputs": [],
   "source": [
    "# import xgboost as xgb\n",
    "# import matplotlib.pyplot as plt\n",
    "# from sklearn.preprocessing import LabelEncoder\n",
    "# import pandas as pd\n",
    "\n",
    "# # 특징과 타겟 변수 분리\n",
    "# X = train_data.drop(columns=['target'])\n",
    "# y = train_data['target']\n",
    "\n",
    "# # 타겟 변수 인코딩\n",
    "# label_encoder = LabelEncoder()\n",
    "# y_encoded = label_encoder.fit_transform(y)\n",
    "\n",
    "# # XGBoost 모델 학습\n",
    "# model = xgb.XGBClassifier()\n",
    "# model.fit(X, y_encoded)\n",
    "\n",
    "# # 변수 중요도 계산\n",
    "# importance = model.feature_importances_\n",
    "\n",
    "# # 중요도 순으로 정렬\n",
    "# importance_df = pd.DataFrame({'Feature': X.columns, 'Importance': importance})\n",
    "# importance_df = importance_df.sort_values(by='Importance', ascending=False)\n",
    "\n",
    "# # 변수 중요도 시각화\n",
    "# plt.figure(figsize=(10, 8))\n",
    "# plt.barh(importance_df['Feature'], importance_df['Importance'])\n",
    "# plt.xlabel('Feature Importance')\n",
    "# plt.ylabel('Features')\n",
    "# plt.title('Feature Importance using XGBoost')\n",
    "# plt.gca().invert_yaxis()  # 중요도가 높은 순으로 정렬되도록 y축 반전\n",
    "# plt.show()"
   ]
  },
  {
   "cell_type": "markdown",
   "id": "e877efc6-7851-408a-99b4-a0f8bc9bcad1",
   "metadata": {},
   "source": [
    "### 13. correlation"
   ]
  },
  {
   "cell_type": "code",
   "execution_count": 71,
   "id": "ca33a0a4-7be6-4244-85ad-019d5807eb09",
   "metadata": {},
   "outputs": [],
   "source": [
    "# dam, fill1, fill2 공통 변수\n",
    "var_dam_fill = [\n",
    "    'Equipment_same_num',\n",
    "    'PalletID_Collect_Result_encoded',\n",
    "    'Production_Qty_Collect_Result',\n",
    "    'WorkMode Collect Result'\n",
    "]"
   ]
  },
  {
   "cell_type": "code",
   "execution_count": 72,
   "id": "45924c5c-f6be-4b17-87ff-9c414a6c8323",
   "metadata": {},
   "outputs": [],
   "source": [
    "# 전체 공통 변수\n",
    "### correlation 확인을 위한 변수 리스트\n",
    "var_all_corr = [\n",
    "    'model_receip_encoded',\n",
    "    'workorder_receip_encoded'\n",
    "]\n",
    "\n",
    "### train\n",
    "var_all_train = [\n",
    "    'target',\n",
    "    'model_receip_encoded',\n",
    "    'workorder_receip_encoded'\n",
    "]\n",
    "\n",
    "### test\n",
    "var_all_test = [\n",
    "    'Set ID',\n",
    "    'target',\n",
    "    'model_receip_encoded',\n",
    "    'workorder_receip_encoded'\n",
    "]"
   ]
  },
  {
   "cell_type": "markdown",
   "id": "060b5986-ccde-4df4-bc02-c9812daeaaf4",
   "metadata": {},
   "source": [
    "- dam"
   ]
  },
  {
   "cell_type": "code",
   "execution_count": 73,
   "id": "ccc357da-1f9b-45ca-a63c-66530ad718ed",
   "metadata": {},
   "outputs": [
    {
     "data": {
      "text/plain": [
       "['Equipment_same_num',\n",
       " 'PalletID_Collect_Result_encoded',\n",
       " 'Production_Qty_Collect_Result',\n",
       " 'WorkMode Collect Result',\n",
       " 'model_receip_encoded',\n",
       " 'workorder_receip_encoded',\n",
       " 'CURE SPEED Collect Result_Dam',\n",
       " 'DISCHARGED SPEED OF RESIN Collect Result_Dam',\n",
       " 'Head Clean Position Z Collect Result_Dam',\n",
       " 'Head Purge Position Z Collect Result_Dam',\n",
       " 'Head Zero Position Y Collect Result_Dam',\n",
       " 'Stage1_Circle_Distance_Speed_Dam',\n",
       " 'Stage2_Circle_Distance_Speed_Dam',\n",
       " 'Stage3_Circle_Distance_Speed_Dam',\n",
       " 'CURE_DISTANCE_Dam',\n",
       " 'HEAD NORMAL DISTANCE_STAGE1_STAGE3_Dam',\n",
       " 'HEAD NORMAL DISTANCE_TRIANGLE_area_Dam',\n",
       " 'HEAD NORMAL DISTANCE_TRIANGLE_height_Dam',\n",
       " 'volume_time_multip_avg_Dam',\n",
       " 'average_thickness_Dam',\n",
       " 'time_ratio_Dam',\n",
       " 'stage1_line13_distance_speed_Dam_encoded',\n",
       " 'stage1_line24_distance_speed_Dam_encoded',\n",
       " 'stage2_line13_distance_speed_Dam_encoded',\n",
       " 'stage2_line24_distance_speed_Dam_encoded',\n",
       " 'stage3_line13_distance_speed_Dam_encoded',\n",
       " 'stage3_line24_distance_speed_Dam_encoded']"
      ]
     },
     "execution_count": 73,
     "metadata": {},
     "output_type": "execute_result"
    }
   ],
   "source": [
    "# 상관관계를 확인할 데이터셋\n",
    "combined_variables = var_dam_fill + var_all_corr + [var for var in train_data.columns if '_Dam' in var]\n",
    "combined_variables"
   ]
  },
  {
   "cell_type": "code",
   "execution_count": 74,
   "id": "8f3b4213-f3cd-4b1b-a443-33f0ef7c116e",
   "metadata": {},
   "outputs": [],
   "source": [
    "variables = ['Equipment_same_num',   \n",
    " 'PalletID_Collect_Result_encoded',\n",
    " 'Production_Qty_Collect_Result',\n",
    " 'WorkMode Collect Result',\n",
    " 'model_receip_encoded',\n",
    " 'workorder_receip_encoded',\n",
    " 'CURE SPEED Collect Result_Dam',\n",
    " 'DISCHARGED SPEED OF RESIN Collect Result_Dam',\n",
    " 'Head Clean Position Z Collect Result_Dam',\n",
    " 'Head Purge Position Z Collect Result_Dam',\n",
    " 'Head Zero Position Y Collect Result_Dam',\n",
    " #'Stage1_Circle_Distance_Speed_Dam',\n",
    " 'Stage2_Circle_Distance_Speed_Dam',\n",
    " #'Stage3_Circle_Distance_Speed_Dam',\n",
    " 'CURE_DISTANCE_Dam',\n",
    " #'HEAD NORMAL DISTANCE_TRIANGLE_area_Dam',\n",
    " 'HEAD NORMAL DISTANCE_TRIANGLE_height_Dam',\n",
    " 'volume_time_multip_avg_Dam',\n",
    " 'average_thickness_Dam',\n",
    " 'time_ratio_Dam',\n",
    " 'stage1_line13_distance_speed_Dam_encoded',\n",
    " #'stage1_line24_distance_speed_Dam_encoded',\n",
    " #'stage2_line13_distance_speed_Dam_encoded',\n",
    " 'stage2_line24_distance_speed_Dam_encoded',\n",
    " #'stage3_line13_distance_speed_Dam_encoded',\n",
    " #'stage3_line24_distance_speed_Dam_encoded'\n",
    " 'HEAD NORMAL DISTANCE_STAGE1_STAGE3_Dam']\n",
    "\n",
    "# 변수들로만 이루어진 DataFrame 생성\n",
    "filtered_data = train_data[variables]"
   ]
  },
  {
   "cell_type": "code",
   "execution_count": 75,
   "id": "191577f3-3bf0-40c3-a84c-17a36794e491",
   "metadata": {},
   "outputs": [
    {
     "name": "stdout",
     "output_type": "stream",
     "text": [
      "Empty DataFrame\n",
      "Columns: [Variable 1, Variable 2, Correlation]\n",
      "Index: []\n"
     ]
    }
   ],
   "source": [
    "# 자기자신을 제외하고 상관관계 절댓값이 0.9 이상인 조합 찾기\n",
    "correlation_matrix = filtered_data.corr()\n",
    "strong_correlations = correlation_matrix[(correlation_matrix.abs() >= 0.9) & (correlation_matrix != 1)]\n",
    "\n",
    "# 리스트로 변환\n",
    "strong_correlations_pairs = strong_correlations.stack().reset_index()\n",
    "strong_correlations_pairs.columns = ['Variable 1', 'Variable 2', 'Correlation']\n",
    "\n",
    "# 결과 출력\n",
    "print(strong_correlations_pairs)"
   ]
  },
  {
   "cell_type": "code",
   "execution_count": 76,
   "id": "e46e96d2-e4ce-4700-accf-ee19b5c8a01e",
   "metadata": {},
   "outputs": [],
   "source": [
    "# 드랍할 열 목록\n",
    "columns_to_drop = [\n",
    "    'Stage1_Circle_Distance_Speed_Dam',\n",
    "    'Stage3_Circle_Distance_Speed_Dam',\n",
    "    'HEAD NORMAL DISTANCE_TRIANGLE_area_Dam',\n",
    "    'stage1_line24_distance_speed_Dam_encoded',\n",
    "    'stage2_line13_distance_speed_Dam_encoded',\n",
    "    'stage3_line13_distance_speed_Dam_encoded',\n",
    "    'stage3_line24_distance_speed_Dam_encoded'\n",
    "]\n",
    "\n",
    "# 열 삭제\n",
    "train_data.drop(columns=columns_to_drop, inplace=True, errors='ignore')\n",
    "test_data.drop(columns=columns_to_drop, inplace=True, errors='ignore')"
   ]
  },
  {
   "cell_type": "code",
   "execution_count": 77,
   "id": "546c8eb3-b124-4668-a421-3d80a4614070",
   "metadata": {},
   "outputs": [],
   "source": [
    "# '_Dam'을 포함하는 변수 선택\n",
    "dam_variables = [var for var in train_data.columns if '_Dam' in var]\n",
    "\n",
    "# train\n",
    "final_columns_train = var_dam_fill + var_all_train + dam_variables\n",
    "train_data_dam = train_data[final_columns_train]\n",
    "\n",
    "# test \n",
    "final_columns_test = var_dam_fill + var_all_test + dam_variables\n",
    "test_data_dam = test_data[final_columns_test]"
   ]
  },
  {
   "cell_type": "code",
   "execution_count": 78,
   "id": "06ebb3fc-5dca-467b-a339-10dc195f6fd4",
   "metadata": {},
   "outputs": [
    {
     "name": "stdout",
     "output_type": "stream",
     "text": [
      "<class 'pandas.core.frame.DataFrame'>\n",
      "RangeIndex: 40506 entries, 0 to 40505\n",
      "Data columns (total 21 columns):\n",
      " #   Column                                        Non-Null Count  Dtype  \n",
      "---  ------                                        --------------  -----  \n",
      " 0   Equipment_same_num                            40506 non-null  int64  \n",
      " 1   PalletID_Collect_Result_encoded               40506 non-null  float64\n",
      " 2   Production_Qty_Collect_Result                 40506 non-null  int64  \n",
      " 3   WorkMode Collect Result                       40506 non-null  float64\n",
      " 4   target                                        40506 non-null  object \n",
      " 5   model_receip_encoded                          40506 non-null  float64\n",
      " 6   workorder_receip_encoded                      40506 non-null  float64\n",
      " 7   CURE SPEED Collect Result_Dam                 40506 non-null  int64  \n",
      " 8   DISCHARGED SPEED OF RESIN Collect Result_Dam  40506 non-null  int64  \n",
      " 9   Head Clean Position Z Collect Result_Dam      40506 non-null  float64\n",
      " 10  Head Purge Position Z Collect Result_Dam      40506 non-null  float64\n",
      " 11  Head Zero Position Y Collect Result_Dam       40506 non-null  float64\n",
      " 12  Stage2_Circle_Distance_Speed_Dam              40506 non-null  int64  \n",
      " 13  CURE_DISTANCE_Dam                             40506 non-null  float64\n",
      " 14  HEAD NORMAL DISTANCE_STAGE1_STAGE3_Dam        40506 non-null  float64\n",
      " 15  HEAD NORMAL DISTANCE_TRIANGLE_height_Dam      40506 non-null  float64\n",
      " 16  volume_time_multip_avg_Dam                    40506 non-null  float64\n",
      " 17  average_thickness_Dam                         40506 non-null  float64\n",
      " 18  time_ratio_Dam                                40506 non-null  float64\n",
      " 19  stage1_line13_distance_speed_Dam_encoded      40506 non-null  float64\n",
      " 20  stage2_line24_distance_speed_Dam_encoded      40506 non-null  float64\n",
      "dtypes: float64(15), int64(5), object(1)\n",
      "memory usage: 6.5+ MB\n"
     ]
    }
   ],
   "source": [
    "train_data_dam.info()"
   ]
  },
  {
   "cell_type": "code",
   "execution_count": 79,
   "id": "55af86b5-3648-403e-a628-5f9338d2b558",
   "metadata": {},
   "outputs": [
    {
     "name": "stdout",
     "output_type": "stream",
     "text": [
      "<class 'pandas.core.frame.DataFrame'>\n",
      "RangeIndex: 17361 entries, 0 to 17360\n",
      "Data columns (total 22 columns):\n",
      " #   Column                                        Non-Null Count  Dtype  \n",
      "---  ------                                        --------------  -----  \n",
      " 0   Equipment_same_num                            17361 non-null  int64  \n",
      " 1   PalletID_Collect_Result_encoded               17361 non-null  float64\n",
      " 2   Production_Qty_Collect_Result                 17361 non-null  float64\n",
      " 3   WorkMode Collect Result                       17361 non-null  float64\n",
      " 4   Set ID                                        17361 non-null  object \n",
      " 5   target                                        0 non-null      float64\n",
      " 6   model_receip_encoded                          17361 non-null  float64\n",
      " 7   workorder_receip_encoded                      17359 non-null  float64\n",
      " 8   CURE SPEED Collect Result_Dam                 17361 non-null  int64  \n",
      " 9   DISCHARGED SPEED OF RESIN Collect Result_Dam  17361 non-null  int64  \n",
      " 10  Head Clean Position Z Collect Result_Dam      17361 non-null  float64\n",
      " 11  Head Purge Position Z Collect Result_Dam      17361 non-null  float64\n",
      " 12  Head Zero Position Y Collect Result_Dam       17361 non-null  float64\n",
      " 13  Stage2_Circle_Distance_Speed_Dam              17361 non-null  float64\n",
      " 14  CURE_DISTANCE_Dam                             17361 non-null  float64\n",
      " 15  HEAD NORMAL DISTANCE_STAGE1_STAGE3_Dam        17361 non-null  float64\n",
      " 16  HEAD NORMAL DISTANCE_TRIANGLE_height_Dam      17361 non-null  float64\n",
      " 17  volume_time_multip_avg_Dam                    17361 non-null  float64\n",
      " 18  average_thickness_Dam                         17361 non-null  float64\n",
      " 19  time_ratio_Dam                                17361 non-null  float64\n",
      " 20  stage1_line13_distance_speed_Dam_encoded      17361 non-null  float64\n",
      " 21  stage2_line24_distance_speed_Dam_encoded      17361 non-null  float64\n",
      "dtypes: float64(18), int64(3), object(1)\n",
      "memory usage: 2.9+ MB\n"
     ]
    }
   ],
   "source": [
    "test_data_dam.info()"
   ]
  },
  {
   "cell_type": "markdown",
   "id": "55b7ec95-7c4b-4dd3-a4ee-071014866652",
   "metadata": {},
   "source": [
    "- fill1"
   ]
  },
  {
   "cell_type": "code",
   "execution_count": 80,
   "id": "954ac003-7985-46ce-bfda-ab7faf341348",
   "metadata": {},
   "outputs": [
    {
     "data": {
      "text/plain": [
       "['Equipment_same_num',\n",
       " 'PalletID_Collect_Result_encoded',\n",
       " 'Production_Qty_Collect_Result',\n",
       " 'WorkMode Collect Result',\n",
       " 'model_receip_encoded',\n",
       " 'workorder_receip_encoded',\n",
       " 'DISCHARGED SPEED OF RESIN Collect Result_Fill1',\n",
       " 'Head Purge Position Z Collect Result_Fill1',\n",
       " 'HEAD NORMAL DISTANCE_STAGE1_STAGE3_Fill1',\n",
       " 'HEAD NORMAL DISTANCE_TRIANGLE_area_Fill1',\n",
       " 'HEAD NORMAL DISTANCE_TRIANGLE_height_Fill1',\n",
       " 'volume_time_multip_avg_Fill1',\n",
       " 'time_ratio_Fill1']"
      ]
     },
     "execution_count": 80,
     "metadata": {},
     "output_type": "execute_result"
    }
   ],
   "source": [
    "# 상관관계를 확인할 데이터셋\n",
    "combined_variables = var_dam_fill + var_all_corr + [var for var in train_data.columns if '_Fill1' in var]\n",
    "combined_variables"
   ]
  },
  {
   "cell_type": "code",
   "execution_count": 81,
   "id": "12fb0b0a-ebf3-42a5-9d69-8032db061a59",
   "metadata": {},
   "outputs": [],
   "source": [
    "variables = ['Equipment_same_num',\n",
    " 'PalletID_Collect_Result_encoded',\n",
    " 'Production_Qty_Collect_Result',\n",
    " 'WorkMode Collect Result',\n",
    " 'model_receip_encoded',\n",
    " 'workorder_receip_encoded',\n",
    " 'DISCHARGED SPEED OF RESIN Collect Result_Fill1',\n",
    " 'Head Purge Position Z Collect Result_Fill1',\n",
    " 'HEAD NORMAL DISTANCE_STAGE1_STAGE3_Fill1',\n",
    " #'HEAD NORMAL DISTANCE_TRIANGLE_area_Fill1',\n",
    " 'HEAD NORMAL DISTANCE_TRIANGLE_height_Fill1',\n",
    " 'volume_time_multip_avg_Fill1',\n",
    " 'time_ratio_Fill1']\n",
    "\n",
    "# 변수들로만 이루어진 DataFrame 생성\n",
    "filtered_data = train_data[variables]"
   ]
  },
  {
   "cell_type": "code",
   "execution_count": 82,
   "id": "99c6f69f-b57e-4c54-a42b-7f81a9fb3e57",
   "metadata": {},
   "outputs": [
    {
     "name": "stdout",
     "output_type": "stream",
     "text": [
      "Empty DataFrame\n",
      "Columns: [Variable 1, Variable 2, Correlation]\n",
      "Index: []\n"
     ]
    }
   ],
   "source": [
    "# 자기자신을 제외하고 상관관계 절댓값이 0.9 이상인 조합 찾기\n",
    "correlation_matrix = filtered_data.corr()\n",
    "strong_correlations = correlation_matrix[(correlation_matrix.abs() >= 0.9) & (correlation_matrix != 1)]\n",
    "\n",
    "# 리스트로 변환\n",
    "strong_correlations_pairs = strong_correlations.stack().reset_index()\n",
    "strong_correlations_pairs.columns = ['Variable 1', 'Variable 2', 'Correlation']\n",
    "\n",
    "# 결과 출력\n",
    "print(strong_correlations_pairs)"
   ]
  },
  {
   "cell_type": "code",
   "execution_count": 83,
   "id": "d308bfe8-5f8d-4943-b8b7-2476ac8977d8",
   "metadata": {},
   "outputs": [],
   "source": [
    "# 드랍할 열 목록\n",
    "columns_to_drop = ['HEAD NORMAL DISTANCE_TRIANGLE_area_Fill1']\n",
    "\n",
    "# 열 삭제\n",
    "train_data.drop(columns=columns_to_drop, inplace=True, errors='ignore')\n",
    "test_data.drop(columns=columns_to_drop, inplace=True, errors='ignore')"
   ]
  },
  {
   "cell_type": "code",
   "execution_count": 84,
   "id": "10e0b1bb-f000-49c2-8432-d595149766a3",
   "metadata": {},
   "outputs": [],
   "source": [
    "# '_Fill1'을 포함하는 변수 선택\n",
    "fill1_variables = [var for var in train_data.columns if '_Fill1' in var]\n",
    "\n",
    "# train\n",
    "final_columns_train = var_dam_fill + var_all_train + fill1_variables\n",
    "train_data_fill1 = train_data[final_columns_train]\n",
    "\n",
    "# test \n",
    "final_columns_test = var_dam_fill + var_all_test + fill1_variables\n",
    "test_data_fill1 = test_data[final_columns_test]"
   ]
  },
  {
   "cell_type": "code",
   "execution_count": 85,
   "id": "fface952-5ca0-4d5b-9184-71de30e02084",
   "metadata": {},
   "outputs": [
    {
     "name": "stdout",
     "output_type": "stream",
     "text": [
      "<class 'pandas.core.frame.DataFrame'>\n",
      "RangeIndex: 40506 entries, 0 to 40505\n",
      "Data columns (total 13 columns):\n",
      " #   Column                                          Non-Null Count  Dtype  \n",
      "---  ------                                          --------------  -----  \n",
      " 0   Equipment_same_num                              40506 non-null  int64  \n",
      " 1   PalletID_Collect_Result_encoded                 40506 non-null  float64\n",
      " 2   Production_Qty_Collect_Result                   40506 non-null  int64  \n",
      " 3   WorkMode Collect Result                         40506 non-null  float64\n",
      " 4   target                                          40506 non-null  object \n",
      " 5   model_receip_encoded                            40506 non-null  float64\n",
      " 6   workorder_receip_encoded                        40506 non-null  float64\n",
      " 7   DISCHARGED SPEED OF RESIN Collect Result_Fill1  40506 non-null  float64\n",
      " 8   Head Purge Position Z Collect Result_Fill1      40506 non-null  int64  \n",
      " 9   HEAD NORMAL DISTANCE_STAGE1_STAGE3_Fill1        40506 non-null  float64\n",
      " 10  HEAD NORMAL DISTANCE_TRIANGLE_height_Fill1      40506 non-null  float64\n",
      " 11  volume_time_multip_avg_Fill1                    40506 non-null  float64\n",
      " 12  time_ratio_Fill1                                40506 non-null  float64\n",
      "dtypes: float64(9), int64(3), object(1)\n",
      "memory usage: 4.0+ MB\n"
     ]
    }
   ],
   "source": [
    "train_data_fill1.info()"
   ]
  },
  {
   "cell_type": "code",
   "execution_count": 86,
   "id": "55dedb1b-a829-4dc4-aaf7-960a5e66725d",
   "metadata": {},
   "outputs": [
    {
     "name": "stdout",
     "output_type": "stream",
     "text": [
      "<class 'pandas.core.frame.DataFrame'>\n",
      "RangeIndex: 17361 entries, 0 to 17360\n",
      "Data columns (total 14 columns):\n",
      " #   Column                                          Non-Null Count  Dtype  \n",
      "---  ------                                          --------------  -----  \n",
      " 0   Equipment_same_num                              17361 non-null  int64  \n",
      " 1   PalletID_Collect_Result_encoded                 17361 non-null  float64\n",
      " 2   Production_Qty_Collect_Result                   17361 non-null  float64\n",
      " 3   WorkMode Collect Result                         17361 non-null  float64\n",
      " 4   Set ID                                          17361 non-null  object \n",
      " 5   target                                          0 non-null      float64\n",
      " 6   model_receip_encoded                            17361 non-null  float64\n",
      " 7   workorder_receip_encoded                        17359 non-null  float64\n",
      " 8   DISCHARGED SPEED OF RESIN Collect Result_Fill1  17361 non-null  float64\n",
      " 9   Head Purge Position Z Collect Result_Fill1      17361 non-null  float64\n",
      " 10  HEAD NORMAL DISTANCE_STAGE1_STAGE3_Fill1        17361 non-null  float64\n",
      " 11  HEAD NORMAL DISTANCE_TRIANGLE_height_Fill1      17361 non-null  float64\n",
      " 12  volume_time_multip_avg_Fill1                    17361 non-null  float64\n",
      " 13  time_ratio_Fill1                                17361 non-null  float64\n",
      "dtypes: float64(12), int64(1), object(1)\n",
      "memory usage: 1.9+ MB\n"
     ]
    }
   ],
   "source": [
    "test_data_fill1.info()"
   ]
  },
  {
   "cell_type": "markdown",
   "id": "5db9feaf-2d9e-48e6-ac73-0b2643b5f1ad",
   "metadata": {},
   "source": [
    "- fill2"
   ]
  },
  {
   "cell_type": "code",
   "execution_count": 87,
   "id": "24b711c3-9126-4c06-bf22-a2d9a6c6f4a6",
   "metadata": {},
   "outputs": [
    {
     "data": {
      "text/plain": [
       "['Equipment_same_num',\n",
       " 'PalletID_Collect_Result_encoded',\n",
       " 'Production_Qty_Collect_Result',\n",
       " 'WorkMode Collect Result',\n",
       " 'model_receip_encoded',\n",
       " 'workorder_receip_encoded',\n",
       " 'CURE SPEED Collect Result_Fill2',\n",
       " 'Head Purge Position Z Collect Result_Fill2',\n",
       " 'HEAD NORMAL DISTANCE_STAGE1_STAGE2_Fill2',\n",
       " 'HEAD NORMAL DISTANCE_STAGE2_STAGE3_Fill2',\n",
       " 'HEAD NORMAL DISTANCE_STAGE1_STAGE3_Fill2',\n",
       " 'time_ratio_Fill2',\n",
       " 'cure_end_position_XZ_Fill2_encoded',\n",
       " 'cure_start_position_XZ_Fill2_encoded',\n",
       " 'cure_standby_position_XZ_Fill2_encoded']"
      ]
     },
     "execution_count": 87,
     "metadata": {},
     "output_type": "execute_result"
    }
   ],
   "source": [
    "# 상관관계를 확인할 데이터셋\n",
    "combined_variables = var_dam_fill + var_all_corr + [var for var in train_data.columns if '_Fill2' in var]\n",
    "combined_variables"
   ]
  },
  {
   "cell_type": "code",
   "execution_count": 88,
   "id": "724c38f3-162a-40b8-9d89-16e60a4352a9",
   "metadata": {},
   "outputs": [],
   "source": [
    "variables = ['Equipment_same_num',\n",
    " 'PalletID_Collect_Result_encoded',\n",
    " 'Production_Qty_Collect_Result',\n",
    " 'WorkMode Collect Result',\n",
    " 'model_receip_encoded',\n",
    " 'workorder_receip_encoded',\n",
    " 'CURE SPEED Collect Result_Fill2',\n",
    " 'Head Purge Position Z Collect Result_Fill2',\n",
    " 'HEAD NORMAL DISTANCE_STAGE1_STAGE2_Fill2',\n",
    "#  'HEAD NORMAL DISTANCE_STAGE2_STAGE3_Fill2',\n",
    "#  'HEAD NORMAL DISTANCE_STAGE1_STAGE3_Fill2',\n",
    " 'time_ratio_Fill2',\n",
    " 'cure_end_position_XZ_Fill2_encoded',\n",
    " 'cure_start_position_XZ_Fill2_encoded']\n",
    "#  'cure_standby_position_XZ_Fill2_encoded']\n",
    "\n",
    "# 변수들로만 이루어진 DataFrame 생성\n",
    "filtered_data = train_data[variables]"
   ]
  },
  {
   "cell_type": "code",
   "execution_count": 89,
   "id": "d073348d-b1f7-4c87-b50b-29c2f134ac3e",
   "metadata": {},
   "outputs": [
    {
     "name": "stdout",
     "output_type": "stream",
     "text": [
      "Empty DataFrame\n",
      "Columns: [Variable 1, Variable 2, Correlation]\n",
      "Index: []\n"
     ]
    }
   ],
   "source": [
    "# 자기자신을 제외하고 상관관계 절댓값이 0.9 이상인 조합 찾기\n",
    "correlation_matrix = filtered_data.corr()\n",
    "strong_correlations = correlation_matrix[(correlation_matrix.abs() >= 0.9) & (correlation_matrix != 1)]\n",
    "\n",
    "# 리스트로 변환\n",
    "strong_correlations_pairs = strong_correlations.stack().reset_index()\n",
    "strong_correlations_pairs.columns = ['Variable 1', 'Variable 2', 'Correlation']\n",
    "\n",
    "# 결과 출력\n",
    "print(strong_correlations_pairs)"
   ]
  },
  {
   "cell_type": "code",
   "execution_count": 90,
   "id": "fa5ccf89-2670-4213-a96e-8df0f8696147",
   "metadata": {},
   "outputs": [],
   "source": [
    "# 드랍할 열 목록\n",
    "columns_to_drop = [\n",
    "    'HEAD NORMAL DISTANCE_STAGE2_STAGE3_Fill2',\n",
    "    'HEAD NORMAL DISTANCE_STAGE1_STAGE3_Fill2',\n",
    "    'cure_standby_position_XZ_Fill2_encoded'\n",
    "]\n",
    "\n",
    "# 열 삭제\n",
    "train_data.drop(columns=columns_to_drop, inplace=True, errors='ignore')\n",
    "test_data.drop(columns=columns_to_drop, inplace=True, errors='ignore')"
   ]
  },
  {
   "cell_type": "code",
   "execution_count": 91,
   "id": "52952fee-4bfa-4e5a-a2af-c78c32ccd01d",
   "metadata": {},
   "outputs": [],
   "source": [
    "# '_Fill2'을 포함하는 변수 선택\n",
    "fill2_variables = [var for var in train_data.columns if '_Fill2' in var]\n",
    "\n",
    "# train\n",
    "final_columns_train = var_dam_fill + var_all_train + fill2_variables\n",
    "train_data_fill2 = train_data[final_columns_train]\n",
    "\n",
    "# test \n",
    "final_columns_test = var_dam_fill + var_all_test + fill2_variables\n",
    "test_data_fill2 = test_data[final_columns_test]"
   ]
  },
  {
   "cell_type": "code",
   "execution_count": 92,
   "id": "e7764523-db87-4736-b96c-cbab7cce7e70",
   "metadata": {},
   "outputs": [
    {
     "name": "stdout",
     "output_type": "stream",
     "text": [
      "<class 'pandas.core.frame.DataFrame'>\n",
      "RangeIndex: 40506 entries, 0 to 40505\n",
      "Data columns (total 13 columns):\n",
      " #   Column                                      Non-Null Count  Dtype  \n",
      "---  ------                                      --------------  -----  \n",
      " 0   Equipment_same_num                          40506 non-null  int64  \n",
      " 1   PalletID_Collect_Result_encoded             40506 non-null  float64\n",
      " 2   Production_Qty_Collect_Result               40506 non-null  int64  \n",
      " 3   WorkMode Collect Result                     40506 non-null  float64\n",
      " 4   target                                      40506 non-null  object \n",
      " 5   model_receip_encoded                        40506 non-null  float64\n",
      " 6   workorder_receip_encoded                    40506 non-null  float64\n",
      " 7   CURE SPEED Collect Result_Fill2             40506 non-null  int64  \n",
      " 8   Head Purge Position Z Collect Result_Fill2  40506 non-null  float64\n",
      " 9   HEAD NORMAL DISTANCE_STAGE1_STAGE2_Fill2    40506 non-null  float64\n",
      " 10  time_ratio_Fill2                            40506 non-null  float64\n",
      " 11  cure_end_position_XZ_Fill2_encoded          40506 non-null  float64\n",
      " 12  cure_start_position_XZ_Fill2_encoded        40506 non-null  float64\n",
      "dtypes: float64(9), int64(3), object(1)\n",
      "memory usage: 4.0+ MB\n"
     ]
    }
   ],
   "source": [
    "train_data_fill2.info()"
   ]
  },
  {
   "cell_type": "code",
   "execution_count": 93,
   "id": "7513b854-2823-4494-a669-fa552fdfe5fa",
   "metadata": {},
   "outputs": [
    {
     "name": "stdout",
     "output_type": "stream",
     "text": [
      "<class 'pandas.core.frame.DataFrame'>\n",
      "RangeIndex: 17361 entries, 0 to 17360\n",
      "Data columns (total 14 columns):\n",
      " #   Column                                      Non-Null Count  Dtype  \n",
      "---  ------                                      --------------  -----  \n",
      " 0   Equipment_same_num                          17361 non-null  int64  \n",
      " 1   PalletID_Collect_Result_encoded             17361 non-null  float64\n",
      " 2   Production_Qty_Collect_Result               17361 non-null  float64\n",
      " 3   WorkMode Collect Result                     17361 non-null  float64\n",
      " 4   Set ID                                      17361 non-null  object \n",
      " 5   target                                      0 non-null      float64\n",
      " 6   model_receip_encoded                        17361 non-null  float64\n",
      " 7   workorder_receip_encoded                    17359 non-null  float64\n",
      " 8   CURE SPEED Collect Result_Fill2             17361 non-null  int64  \n",
      " 9   Head Purge Position Z Collect Result_Fill2  17361 non-null  float64\n",
      " 10  HEAD NORMAL DISTANCE_STAGE1_STAGE2_Fill2    17361 non-null  float64\n",
      " 11  time_ratio_Fill2                            17361 non-null  float64\n",
      " 12  cure_end_position_XZ_Fill2_encoded          17361 non-null  float64\n",
      " 13  cure_start_position_XZ_Fill2_encoded        17361 non-null  float64\n",
      "dtypes: float64(11), int64(2), object(1)\n",
      "memory usage: 1.9+ MB\n"
     ]
    }
   ],
   "source": [
    "test_data_fill2.info()"
   ]
  },
  {
   "cell_type": "markdown",
   "id": "b8510d04-48c5-42c2-9a0c-10532decda68",
   "metadata": {},
   "source": [
    "- autoclave"
   ]
  },
  {
   "cell_type": "code",
   "execution_count": 94,
   "id": "d43c5ca3-0bff-4ee1-b35d-488abb63f881",
   "metadata": {},
   "outputs": [
    {
     "data": {
      "text/plain": [
       "['model_receip_encoded',\n",
       " 'workorder_receip_encoded',\n",
       " 'Chamber Temp. Collect Result_AutoClave',\n",
       " '1st_pressure_time_AutoClave',\n",
       " '2nd_pressure_time_AutoClave',\n",
       " '3rd_pressure_time_AutoClave',\n",
       " 'avg_pressure_time_AutoClave',\n",
       " 'time_ratio_AutoClave']"
      ]
     },
     "execution_count": 94,
     "metadata": {},
     "output_type": "execute_result"
    }
   ],
   "source": [
    "# 상관관계를 확인할 데이터셋\n",
    "combined_variables = var_all_corr + [var for var in train_data.columns if '_AutoClave' in var]\n",
    "combined_variables"
   ]
  },
  {
   "cell_type": "code",
   "execution_count": 95,
   "id": "a2bc07fd-d3f7-4fae-9794-6851cad4d945",
   "metadata": {},
   "outputs": [],
   "source": [
    "variables = ['model_receip_encoded',\n",
    " 'workorder_receip_encoded',\n",
    " 'Chamber Temp. Collect Result_AutoClave',\n",
    " '1st_pressure_time_AutoClave',\n",
    " '2nd_pressure_time_AutoClave',\n",
    " '3rd_pressure_time_AutoClave',\n",
    " #'avg_pressure_time_AutoClave',\n",
    " 'time_ratio_AutoClave']\n",
    "\n",
    "# 변수들로만 이루어진 DataFrame 생성\n",
    "filtered_data = train_data[variables]"
   ]
  },
  {
   "cell_type": "code",
   "execution_count": 96,
   "id": "54d4680e-9f74-40dc-b876-5c5cd3f275cd",
   "metadata": {},
   "outputs": [
    {
     "name": "stdout",
     "output_type": "stream",
     "text": [
      "Empty DataFrame\n",
      "Columns: [Variable 1, Variable 2, Correlation]\n",
      "Index: []\n"
     ]
    }
   ],
   "source": [
    "# 자기자신을 제외하고 상관관계 절댓값이 0.9 이상인 조합 찾기\n",
    "correlation_matrix = filtered_data.corr()\n",
    "strong_correlations = correlation_matrix[(correlation_matrix.abs() >= 0.9) & (correlation_matrix != 1)]\n",
    "\n",
    "# 리스트로 변환\n",
    "strong_correlations_pairs = strong_correlations.stack().reset_index()\n",
    "strong_correlations_pairs.columns = ['Variable 1', 'Variable 2', 'Correlation']\n",
    "\n",
    "# 결과 출력\n",
    "print(strong_correlations_pairs)"
   ]
  },
  {
   "cell_type": "code",
   "execution_count": 97,
   "id": "1bacd287-b6e1-445a-9aee-91a671ff689f",
   "metadata": {},
   "outputs": [],
   "source": [
    "# 드랍할 열 목록\n",
    "columns_to_drop = ['avg_pressure_time_AutoClave']\n",
    "\n",
    "# 열 삭제\n",
    "train_data.drop(columns=columns_to_drop, inplace=True, errors='ignore')\n",
    "test_data.drop(columns=columns_to_drop, inplace=True, errors='ignore')"
   ]
  },
  {
   "cell_type": "code",
   "execution_count": 98,
   "id": "1eaf9215-077b-48c3-960b-e529c7d4fc5d",
   "metadata": {},
   "outputs": [],
   "source": [
    "# '_AutoClave'을 포함하는 변수 선택\n",
    "autoclave_variables = [var for var in train_data.columns if '_AutoClave' in var]\n",
    "\n",
    "# train\n",
    "final_columns_train = var_all_train + autoclave_variables\n",
    "train_data_autoclave = train_data[final_columns_train]\n",
    "\n",
    "# test \n",
    "final_columns_test = var_all_test + autoclave_variables\n",
    "test_data_autoclave = test_data[final_columns_test]"
   ]
  },
  {
   "cell_type": "code",
   "execution_count": 99,
   "id": "4c87f106-0c6f-4ef8-a0d2-66b248bc6558",
   "metadata": {},
   "outputs": [
    {
     "name": "stdout",
     "output_type": "stream",
     "text": [
      "<class 'pandas.core.frame.DataFrame'>\n",
      "RangeIndex: 40506 entries, 0 to 40505\n",
      "Data columns (total 8 columns):\n",
      " #   Column                                  Non-Null Count  Dtype  \n",
      "---  ------                                  --------------  -----  \n",
      " 0   target                                  40506 non-null  object \n",
      " 1   model_receip_encoded                    40506 non-null  float64\n",
      " 2   workorder_receip_encoded                40506 non-null  float64\n",
      " 3   Chamber Temp. Collect Result_AutoClave  40506 non-null  int64  \n",
      " 4   1st_pressure_time_AutoClave             40506 non-null  float64\n",
      " 5   2nd_pressure_time_AutoClave             40506 non-null  float64\n",
      " 6   3rd_pressure_time_AutoClave             40506 non-null  float64\n",
      " 7   time_ratio_AutoClave                    40506 non-null  float64\n",
      "dtypes: float64(6), int64(1), object(1)\n",
      "memory usage: 2.5+ MB\n"
     ]
    }
   ],
   "source": [
    "train_data_autoclave.info()"
   ]
  },
  {
   "cell_type": "code",
   "execution_count": 100,
   "id": "dda67180-a829-40cf-8eb8-ed5300d19730",
   "metadata": {},
   "outputs": [
    {
     "name": "stdout",
     "output_type": "stream",
     "text": [
      "<class 'pandas.core.frame.DataFrame'>\n",
      "RangeIndex: 17361 entries, 0 to 17360\n",
      "Data columns (total 9 columns):\n",
      " #   Column                                  Non-Null Count  Dtype  \n",
      "---  ------                                  --------------  -----  \n",
      " 0   Set ID                                  17361 non-null  object \n",
      " 1   target                                  0 non-null      float64\n",
      " 2   model_receip_encoded                    17361 non-null  float64\n",
      " 3   workorder_receip_encoded                17359 non-null  float64\n",
      " 4   Chamber Temp. Collect Result_AutoClave  17361 non-null  int64  \n",
      " 5   1st_pressure_time_AutoClave             17361 non-null  float64\n",
      " 6   2nd_pressure_time_AutoClave             17361 non-null  float64\n",
      " 7   3rd_pressure_time_AutoClave             17361 non-null  float64\n",
      " 8   time_ratio_AutoClave                    17361 non-null  float64\n",
      "dtypes: float64(7), int64(1), object(1)\n",
      "memory usage: 1.2+ MB\n"
     ]
    }
   ],
   "source": [
    "test_data_autoclave.info()"
   ]
  },
  {
   "cell_type": "code",
   "execution_count": 101,
   "id": "2ba56836-3c51-4db5-88a6-f40690691927",
   "metadata": {},
   "outputs": [],
   "source": [
    "# import xgboost as xgb\n",
    "# import matplotlib.pyplot as plt\n",
    "# from sklearn.preprocessing import LabelEncoder\n",
    "# import pandas as pd\n",
    "\n",
    "# # 특징과 타겟 변수 분리\n",
    "# X = train_data.drop(columns=['target'])\n",
    "# y = train_data['target']\n",
    "\n",
    "# # 타겟 변수 인코딩\n",
    "# label_encoder = LabelEncoder()\n",
    "# y_encoded = label_encoder.fit_transform(y)\n",
    "\n",
    "# # XGBoost 모델 학습\n",
    "# model = xgb.XGBClassifier()\n",
    "# model.fit(X, y_encoded)\n",
    "\n",
    "# # 변수 중요도 계산\n",
    "# importance = model.feature_importances_\n",
    "\n",
    "# # 중요도 순으로 정렬\n",
    "# importance_df = pd.DataFrame({'Feature': X.columns, 'Importance': importance})\n",
    "# importance_df = importance_df.sort_values(by='Importance', ascending=False)\n",
    "\n",
    "# # 변수 중요도 시각화\n",
    "# plt.figure(figsize=(10, 8))\n",
    "# plt.barh(importance_df['Feature'], importance_df['Importance'])\n",
    "# plt.xlabel('Feature Importance')\n",
    "# plt.ylabel('Features')\n",
    "# plt.title('Feature Importance using XGBoost')\n",
    "# plt.gca().invert_yaxis()  # 중요도가 높은 순으로 정렬되도록 y축 반전\n",
    "# plt.show()"
   ]
  },
  {
   "cell_type": "code",
   "execution_count": 102,
   "id": "324cc67b-8aaa-467b-8e07-699d83b09730",
   "metadata": {},
   "outputs": [
    {
     "name": "stdout",
     "output_type": "stream",
     "text": [
      "<class 'pandas.core.frame.DataFrame'>\n",
      "RangeIndex: 40506 entries, 0 to 40505\n",
      "Data columns (total 38 columns):\n",
      " #   Column                                          Non-Null Count  Dtype  \n",
      "---  ------                                          --------------  -----  \n",
      " 0   CURE SPEED Collect Result_Dam                   40506 non-null  int64  \n",
      " 1   DISCHARGED SPEED OF RESIN Collect Result_Dam    40506 non-null  int64  \n",
      " 2   Head Clean Position Z Collect Result_Dam        40506 non-null  float64\n",
      " 3   Head Purge Position Z Collect Result_Dam        40506 non-null  float64\n",
      " 4   Head Zero Position Y Collect Result_Dam         40506 non-null  float64\n",
      " 5   Stage2_Circle_Distance_Speed_Dam                40506 non-null  int64  \n",
      " 6   WorkMode Collect Result                         40506 non-null  float64\n",
      " 7   Chamber Temp. Collect Result_AutoClave          40506 non-null  int64  \n",
      " 8   DISCHARGED SPEED OF RESIN Collect Result_Fill1  40506 non-null  float64\n",
      " 9   Head Purge Position Z Collect Result_Fill1      40506 non-null  int64  \n",
      " 10  CURE SPEED Collect Result_Fill2                 40506 non-null  int64  \n",
      " 11  Head Purge Position Z Collect Result_Fill2      40506 non-null  float64\n",
      " 12  target                                          40506 non-null  object \n",
      " 13  Equipment_same_num                              40506 non-null  int64  \n",
      " 14  Production_Qty_Collect_Result                   40506 non-null  int64  \n",
      " 15  CURE_DISTANCE_Dam                               40506 non-null  float64\n",
      " 16  HEAD NORMAL DISTANCE_STAGE1_STAGE3_Dam          40506 non-null  float64\n",
      " 17  HEAD NORMAL DISTANCE_TRIANGLE_height_Dam        40506 non-null  float64\n",
      " 18  HEAD NORMAL DISTANCE_STAGE1_STAGE3_Fill1        40506 non-null  float64\n",
      " 19  HEAD NORMAL DISTANCE_TRIANGLE_height_Fill1      40506 non-null  float64\n",
      " 20  HEAD NORMAL DISTANCE_STAGE1_STAGE2_Fill2        40506 non-null  float64\n",
      " 21  volume_time_multip_avg_Dam                      40506 non-null  float64\n",
      " 22  volume_time_multip_avg_Fill1                    40506 non-null  float64\n",
      " 23  average_thickness_Dam                           40506 non-null  float64\n",
      " 24  1st_pressure_time_AutoClave                     40506 non-null  float64\n",
      " 25  2nd_pressure_time_AutoClave                     40506 non-null  float64\n",
      " 26  3rd_pressure_time_AutoClave                     40506 non-null  float64\n",
      " 27  time_ratio_Dam                                  40506 non-null  float64\n",
      " 28  time_ratio_Fill1                                40506 non-null  float64\n",
      " 29  time_ratio_Fill2                                40506 non-null  float64\n",
      " 30  time_ratio_AutoClave                            40506 non-null  float64\n",
      " 31  model_receip_encoded                            40506 non-null  float64\n",
      " 32  workorder_receip_encoded                        40506 non-null  float64\n",
      " 33  PalletID_Collect_Result_encoded                 40506 non-null  float64\n",
      " 34  cure_end_position_XZ_Fill2_encoded              40506 non-null  float64\n",
      " 35  cure_start_position_XZ_Fill2_encoded            40506 non-null  float64\n",
      " 36  stage1_line13_distance_speed_Dam_encoded        40506 non-null  float64\n",
      " 37  stage2_line24_distance_speed_Dam_encoded        40506 non-null  float64\n",
      "dtypes: float64(29), int64(8), object(1)\n",
      "memory usage: 11.7+ MB\n"
     ]
    }
   ],
   "source": [
    "train_data.info(verbose=True)"
   ]
  },
  {
   "cell_type": "code",
   "execution_count": 103,
   "id": "49af42e5",
   "metadata": {},
   "outputs": [
    {
     "name": "stdout",
     "output_type": "stream",
     "text": [
      "<class 'pandas.core.frame.DataFrame'>\n",
      "RangeIndex: 17361 entries, 0 to 17360\n",
      "Data columns (total 39 columns):\n",
      " #   Column                                          Non-Null Count  Dtype  \n",
      "---  ------                                          --------------  -----  \n",
      " 0   Set ID                                          17361 non-null  object \n",
      " 1   CURE SPEED Collect Result_Dam                   17361 non-null  int64  \n",
      " 2   DISCHARGED SPEED OF RESIN Collect Result_Dam    17361 non-null  int64  \n",
      " 3   Head Clean Position Z Collect Result_Dam        17361 non-null  float64\n",
      " 4   Head Purge Position Z Collect Result_Dam        17361 non-null  float64\n",
      " 5   Head Zero Position Y Collect Result_Dam         17361 non-null  float64\n",
      " 6   Stage2_Circle_Distance_Speed_Dam                17361 non-null  float64\n",
      " 7   WorkMode Collect Result                         17361 non-null  float64\n",
      " 8   Chamber Temp. Collect Result_AutoClave          17361 non-null  int64  \n",
      " 9   DISCHARGED SPEED OF RESIN Collect Result_Fill1  17361 non-null  float64\n",
      " 10  Head Purge Position Z Collect Result_Fill1      17361 non-null  float64\n",
      " 11  CURE SPEED Collect Result_Fill2                 17361 non-null  int64  \n",
      " 12  Head Purge Position Z Collect Result_Fill2      17361 non-null  float64\n",
      " 13  target                                          0 non-null      float64\n",
      " 14  Equipment_same_num                              17361 non-null  int64  \n",
      " 15  Production_Qty_Collect_Result                   17361 non-null  float64\n",
      " 16  CURE_DISTANCE_Dam                               17361 non-null  float64\n",
      " 17  HEAD NORMAL DISTANCE_STAGE1_STAGE3_Dam          17361 non-null  float64\n",
      " 18  HEAD NORMAL DISTANCE_TRIANGLE_height_Dam        17361 non-null  float64\n",
      " 19  HEAD NORMAL DISTANCE_STAGE1_STAGE3_Fill1        17361 non-null  float64\n",
      " 20  HEAD NORMAL DISTANCE_TRIANGLE_height_Fill1      17361 non-null  float64\n",
      " 21  HEAD NORMAL DISTANCE_STAGE1_STAGE2_Fill2        17361 non-null  float64\n",
      " 22  volume_time_multip_avg_Dam                      17361 non-null  float64\n",
      " 23  volume_time_multip_avg_Fill1                    17361 non-null  float64\n",
      " 24  average_thickness_Dam                           17361 non-null  float64\n",
      " 25  1st_pressure_time_AutoClave                     17361 non-null  float64\n",
      " 26  2nd_pressure_time_AutoClave                     17361 non-null  float64\n",
      " 27  3rd_pressure_time_AutoClave                     17361 non-null  float64\n",
      " 28  time_ratio_Dam                                  17361 non-null  float64\n",
      " 29  time_ratio_Fill1                                17361 non-null  float64\n",
      " 30  time_ratio_Fill2                                17361 non-null  float64\n",
      " 31  time_ratio_AutoClave                            17361 non-null  float64\n",
      " 32  model_receip_encoded                            17361 non-null  float64\n",
      " 33  workorder_receip_encoded                        17359 non-null  float64\n",
      " 34  PalletID_Collect_Result_encoded                 17361 non-null  float64\n",
      " 35  cure_end_position_XZ_Fill2_encoded              17361 non-null  float64\n",
      " 36  cure_start_position_XZ_Fill2_encoded            17361 non-null  float64\n",
      " 37  stage1_line13_distance_speed_Dam_encoded        17361 non-null  float64\n",
      " 38  stage2_line24_distance_speed_Dam_encoded        17361 non-null  float64\n",
      "dtypes: float64(33), int64(5), object(1)\n",
      "memory usage: 5.2+ MB\n"
     ]
    }
   ],
   "source": [
    "test_data.info(verbose=True)"
   ]
  },
  {
   "cell_type": "code",
   "execution_count": 582,
   "id": "75a43e60",
   "metadata": {},
   "outputs": [],
   "source": [
    "# # DataFrame을 CSV 파일로 저장\n",
    "# train_data.to_csv('../../data/train_data_0817.csv', index=False)\n",
    "# test_data.to_csv('../../data/test_data_0817.csv', index=False)"
   ]
  },
  {
   "cell_type": "code",
   "execution_count": 104,
   "id": "7fb85779",
   "metadata": {},
   "outputs": [],
   "source": [
    "# # csv 불러오기\n",
    "# train_data_0817 = pd.read_csv('../../data/train_data_0817.csv')\n",
    "# test_data_0817  = pd.read_csv('../../data/test_data_0817.csv')"
   ]
  },
  {
   "cell_type": "code",
   "execution_count": 106,
   "id": "670d37f9",
   "metadata": {},
   "outputs": [],
   "source": [
    "# train_data_0817.head()"
   ]
  },
  {
   "cell_type": "code",
   "execution_count": 111,
   "id": "c358b714",
   "metadata": {},
   "outputs": [
    {
     "data": {
      "text/plain": [
       "CURE SPEED Collect Result_Dam                       int64\n",
       "DISCHARGED SPEED OF RESIN Collect Result_Dam        int64\n",
       "Head Clean Position Z Collect Result_Dam          float64\n",
       "Head Purge Position Z Collect Result_Dam          float64\n",
       "Head Zero Position Y Collect Result_Dam           float64\n",
       "Stage2_Circle_Distance_Speed_Dam                    int64\n",
       "WorkMode Collect Result                           float64\n",
       "Chamber Temp. Collect Result_AutoClave              int64\n",
       "DISCHARGED SPEED OF RESIN Collect Result_Fill1    float64\n",
       "Head Purge Position Z Collect Result_Fill1          int64\n",
       "CURE SPEED Collect Result_Fill2                     int64\n",
       "Head Purge Position Z Collect Result_Fill2        float64\n",
       "target                                             object\n",
       "Equipment_same_num                                  int64\n",
       "Production_Qty_Collect_Result                       int64\n",
       "CURE_DISTANCE_Dam                                 float64\n",
       "HEAD NORMAL DISTANCE_STAGE1_STAGE3_Dam            float64\n",
       "HEAD NORMAL DISTANCE_TRIANGLE_height_Dam          float64\n",
       "HEAD NORMAL DISTANCE_STAGE1_STAGE3_Fill1          float64\n",
       "HEAD NORMAL DISTANCE_TRIANGLE_height_Fill1        float64\n",
       "HEAD NORMAL DISTANCE_STAGE1_STAGE2_Fill2          float64\n",
       "volume_time_multip_avg_Dam                        float64\n",
       "volume_time_multip_avg_Fill1                      float64\n",
       "average_thickness_Dam                             float64\n",
       "1st_pressure_time_AutoClave                       float64\n",
       "2nd_pressure_time_AutoClave                       float64\n",
       "3rd_pressure_time_AutoClave                       float64\n",
       "time_ratio_Dam                                    float64\n",
       "time_ratio_Fill1                                  float64\n",
       "time_ratio_Fill2                                  float64\n",
       "time_ratio_AutoClave                              float64\n",
       "model_receip_encoded                              float64\n",
       "workorder_receip_encoded                          float64\n",
       "PalletID_Collect_Result_encoded                   float64\n",
       "cure_end_position_XZ_Fill2_encoded                float64\n",
       "cure_start_position_XZ_Fill2_encoded              float64\n",
       "stage1_line13_distance_speed_Dam_encoded          float64\n",
       "stage2_line24_distance_speed_Dam_encoded          float64\n",
       "dtype: object"
      ]
     },
     "execution_count": 111,
     "metadata": {},
     "output_type": "execute_result"
    }
   ],
   "source": [
    "train_data.dtypes"
   ]
  },
  {
   "cell_type": "code",
   "execution_count": 123,
   "id": "42e47b33",
   "metadata": {},
   "outputs": [
    {
     "name": "stdout",
     "output_type": "stream",
     "text": [
      "변수명: Chamber Temp. Collect Result_AutoClave\n",
      "train_data에만 있는 값: {40}\n",
      "---\n",
      "test_data에만 있는 값: set()\n",
      "---------------------\n",
      "변수명: DISCHARGED SPEED OF RESIN Collect Result_Fill1\n",
      "train_data에만 있는 값: {0.0}\n",
      "---\n",
      "test_data에만 있는 값: set()\n",
      "---------------------\n",
      "변수명: CURE SPEED Collect Result_Fill2\n",
      "train_data에만 있는 값: {75}\n",
      "---\n",
      "test_data에만 있는 값: set()\n",
      "---------------------\n",
      "변수명: target\n",
      "train_data에만 있는 값: {'Normal', 'AbNormal'}\n",
      "---\n",
      "test_data에만 있는 값: {nan}\n",
      "---------------------\n",
      "변수명: Production_Qty_Collect_Result\n",
      "train_data에만 있는 값: {521, 522, 523, 526, 532, 534, 535, 541, 545, 548, 566, 568, 570, 571, 572, 573, 575, 577, 579, 580, 582, 586, 587, 461, 590, 591, 592, 594, 596, 597, 599, 600, 602, 603, 606, 607, 608, 508}\n",
      "---\n",
      "test_data에만 있는 값: {595.0, 539.0}\n",
      "---------------------\n",
      "변수명: HEAD NORMAL DISTANCE_STAGE1_STAGE3_Dam\n",
      "train_data에만 있는 값: {389.50000000000006}\n",
      "---\n",
      "test_data에만 있는 값: {389.7}\n",
      "---------------------\n",
      "변수명: HEAD NORMAL DISTANCE_TRIANGLE_height_Dam\n",
      "train_data에만 있는 값: {0.5999999999976315}\n",
      "---\n",
      "test_data에만 있는 값: {112.10000000000024}\n",
      "---------------------\n",
      "변수명: HEAD NORMAL DISTANCE_STAGE1_STAGE3_Fill1\n",
      "train_data에만 있는 값: {0.09999999999990905, 680.9000660889967}\n",
      "---\n",
      "test_data에만 있는 값: set()\n",
      "---------------------\n",
      "변수명: HEAD NORMAL DISTANCE_TRIANGLE_height_Fill1\n",
      "train_data에만 있는 값: {0.776890190510029, 0.13305917349175111, 18.395991411173554, 0.46712645895735877}\n",
      "---\n",
      "test_data에만 있는 값: set()\n",
      "---------------------\n",
      "변수명: volume_time_multip_avg_Dam\n",
      "train_data에만 있는 값: {7.517, 7.4623333333333335, 9.200000000000001, 7.489666666666667, 11.529333333333334, 7.285333333333334, 7.5120000000000005, 14.152000000000001, 14.056, 7.313333333333333, 14.47033333333333, 11.616, 17.766000000000002, 17.972666666666665, 14.090333333333334, 14.427999999999997, 23.723, 23.66333333333333, 24.704333333333334, 17.869, 18.09133333333333, 21.77433333333333, 21.703666666666663, 23.602666666666664, 22.732333333333333, 23.542999999999996, 24.658666666666665, 8.959333333333333, 10.927666666666667, 10.905333333333331, 10.171666666666667, 10.977333333333334, 10.954999999999998, 11.579, 11.566333333333333, 14.566333333333333, 14.14, 14.516666666666666, 14.37833333333333, 14.102333333333334, 15.831333333333333, 15.781666666666666, 16.839666666666666, 18.031666666666666, 18.081333333333333, 18.141, 7.312666666666666, 7.5393333333333326, 7.5889999999999995, 7.2636666666666665, 10.853333333333333, 10.298333333333334, 10.903, 10.188666666666665, 11.631333333333332, 11.541666666666666, 11.581666666666665, 11.138, 11.091333333333333, 11.491999999999999, 14.187666666666667, 14.519999999999998, 14.186333333333332, 14.138, 14.006333333333332, 15.859333333333334, 15.741999999999999, 15.791666666666666, 15.809666666666667, 14.235999999999999, 7.567333333333333, 7.263000000000001, 7.44, 7.2909999999999995, 7.517666666666666, 7.617, 7.69, 7.241333333333333, 9.244333333333334, 16.896666666666665, 16.889333333333337, 16.954333333333334, 16.94633333333333, 17.977666666666668, 17.874666666666666, 17.825, 17.884666666666664, 17.93433333333333, 17.987666666666666, 17.928, 18.022333333333332, 17.81566666666667, 18.037333333333333, 7.467333333333333, 7.544999999999999, 7.566666666666667, 21.691666666666666, 21.663666666666668, 21.734333333333336, 21.804999999999996, 22.831666666666667, 24.754, 17.004, 8.922333333333333, 9.147333333333334, 9.972, 9.222666666666667, 9.194666666666668, 11.557, 12.539666666666667, 12.493, 12.542666666666667, 12.589333333333334, 12.666000000000002, 12.569666666666668, 12.616333333333335, 12.619333333333335, 14.474333333333332, 14.424666666666665, 14.382333333333333, 14.332666666666666, 14.054, 15.770000000000001, 15.819666666666668, 14.103666666666667, 7.335, 7.495333333333334}\n",
      "---\n",
      "test_data에만 있는 값: {4.683666666666666, 4.887999999999999, 4.865666666666667, 4.661333333333333, 4.838333333333334, 4.843333333333334, 4.860666666666667, 11.834999999999999, 6.593333333333334, 6.549666666666667, 14.042000000000002, 14.206333333333331, 8.372666666666667, 11.883333333333333, 18.560666666666666, 18.679333333333332, 14.298333333333332, 14.07, 14.39033333333333, 14.206333333333333, 18.72266666666667, 18.619666666666667, 4.639666666666667, 18.78233333333333, 21.621, 23.532, 24.44033333333333, 24.578, 8.828000000000001, 8.469333333333333, 8.395, 8.320666666666666, 8.447000000000001, 8.395000000000001, 11.870666666666667, 11.799333333333331, 11.966666666666667, 11.918333333333335, 4.893666666666667, 14.159999999999997, 14.251999999999997, 14.121333333333334, 17.32766666666667, 14.344, 14.081666666666669, 14.114333333333333, 14.109666666666667, 4.662, 4.871333333333333, 4.9159999999999995, 4.9430000000000005, 4.639, 4.816, 17.270666666666667, 17.171000000000003, 17.285666666666668, 17.227999999999998, 18.663666666666668, 18.619000000000003, 18.67866666666667, 6.615000000000001, 4.617333333333334, 4.893666666666666}\n",
      "---------------------\n",
      "변수명: volume_time_multip_avg_Fill1\n",
      "train_data에만 있는 값: {0.0, 121.01733333333334, 121.25133333333333, 131.15666666666667, 104.652, 105.35066666666667, 106.59733333333334, 107.17466666666667, 108.52266666666668, 109.35133333333336, 149.10999999999999, 119.76033333333334, 120.39866666666667, 121.71399999999998, 122.676, 123.27199999999999, 120.70866666666667, 125.05799999999999}\n",
      "---\n",
      "test_data에만 있는 값: {120.44866666666667, 116.72700000000002, 110.33600000000001, 119.30466666666666}\n",
      "---------------------\n",
      "변수명: 1st_pressure_time_AutoClave\n",
      "train_data에만 있는 값: {0.299, 18.3, 18.78, 55.567, 54.36, 54.9}\n",
      "---\n",
      "test_data에만 있는 값: set()\n",
      "---------------------\n",
      "변수명: 2nd_pressure_time_AutoClave\n",
      "train_data에만 있는 값: {0.323, 97.16300000000001, 0.32, 44.82, 46.2, 49.166000000000004, 60.863}\n",
      "---\n",
      "test_data에만 있는 값: {60.480000000000004}\n",
      "---------------------\n",
      "변수명: 3rd_pressure_time_AutoClave\n",
      "train_data에만 있는 값: {66.792, 99.583, 74.294, 75.45, 48.6, 49.44, 89.64, 60.984}\n",
      "---\n",
      "test_data에만 있는 값: {45.27}\n",
      "---------------------\n",
      "변수명: time_ratio_Dam\n",
      "train_data에만 있는 값: {0.324, 0.357, 0.437, 0.386, 0.261, 0.255, 0.237, 0.198, 0.174, 0.061, 0.263, 0.292, 0.34, 0.057, 0.18, 0.305, 0.337, 0.455, 0.169, 0.299, 0.208, 0.325, 0.197, 0.157, 0.216, 0.224, 0.155, 0.162, 0.242, 0.165, 0.233, 0.219, 0.231, 0.178, 0.473, 0.191, 0.175, 0.172, 0.438, 0.164, 0.209, 0.294, 0.082, 0.355, 0.179, 0.195, 0.258, 0.24, 0.631, 0.176, 0.253, 0.213, 0.173}\n",
      "---\n",
      "test_data에만 있는 값: {0.44, 0.378, 0.356, 0.329, 0.158, 0.276, 0.27, 0.235, 0.227, 0.215, 0.074, 0.199, 0.163, 0.37}\n",
      "---------------------\n",
      "변수명: time_ratio_Fill1\n",
      "train_data에만 있는 값: {0.0, 0.279, 0.199, 0.272, 0.202, 0.174, 0.178, 0.182, 0.069, 0.063, 0.449, 0.055, 0.052, 0.18, 0.177, 0.318, 0.153, 0.147, 0.163, 0.139, 0.2, 0.212, 0.154, 0.205, 0.144, 0.21, 0.223, 0.213, 0.143, 0.159, 0.145, 0.194, 0.172, 0.075, 0.077, 0.275, 0.173, 0.24, 0.298}\n",
      "---\n",
      "test_data에만 있는 값: {0.262, 0.23, 0.074, 0.072, 0.227, 0.191, 0.06, 0.189, 0.064, 0.151, 0.239, 0.137, 0.155}\n",
      "---------------------\n",
      "변수명: time_ratio_Fill2\n",
      "train_data에만 있는 값: {0.061, 0.067, 0.063, 0.06, 0.062, 0.318, 0.098, 0.089, 0.093, 0.099, 0.013, 0.057, 0.055, 0.087, 0.075, 0.018}\n",
      "---\n",
      "test_data에만 있는 값: {0.139, 0.095, 0.092, 0.02}\n",
      "---------------------\n",
      "변수명: time_ratio_AutoClave\n",
      "train_data에만 있는 값: {0.654, 0.625, 0.648, 0.683, 0.558, 0.802, 0.677, 0.482, 0.607, 0.572, 0.593, 0.545, 0.824, 0.449, 0.635, 0.651, 0.667, 0.305, 0.6, 0.68, 0.568, 0.661, 0.456, 0.533, 0.532, 0.687, 0.575, 0.825, 0.609, 0.293, 0.434, 0.484, 0.591, 0.684, 0.62, 0.681, 0.806, 0.569, 0.633, 0.649, 0.755, 0.566, 0.678, 0.659, 0.611, 0.579, 0.64, 0.576, 0.592, 0.673, 0.682, 0.807, 0.618, 0.57, 0.602, 0.541, 0.647, 0.663, 0.679, 0.554, 0.506, 0.631, 0.551}\n",
      "---\n",
      "test_data에만 있는 값: {0.466, 0.815, 0.652, 0.423, 0.525, 0.512, 0.666}\n",
      "---------------------\n",
      "변수명: model_receip_encoded\n",
      "train_data에만 있는 값: {0.895335121820087}\n",
      "---\n",
      "test_data에만 있는 값: set()\n",
      "---------------------\n",
      "변수명: workorder_receip_encoded\n",
      "train_data에만 있는 값: {0.686005365460261, 0.8654308709115404}\n",
      "---\n",
      "test_data에만 있는 값: {nan}\n",
      "---------------------\n",
      "값의 종류가 차이나는 변수들:\n",
      "Chamber Temp. Collect Result_AutoClave\n",
      "DISCHARGED SPEED OF RESIN Collect Result_Fill1\n",
      "CURE SPEED Collect Result_Fill2\n",
      "target\n",
      "Production_Qty_Collect_Result\n",
      "HEAD NORMAL DISTANCE_STAGE1_STAGE3_Dam\n",
      "HEAD NORMAL DISTANCE_TRIANGLE_height_Dam\n",
      "HEAD NORMAL DISTANCE_STAGE1_STAGE3_Fill1\n",
      "HEAD NORMAL DISTANCE_TRIANGLE_height_Fill1\n",
      "volume_time_multip_avg_Dam\n",
      "volume_time_multip_avg_Fill1\n",
      "1st_pressure_time_AutoClave\n",
      "2nd_pressure_time_AutoClave\n",
      "3rd_pressure_time_AutoClave\n",
      "time_ratio_Dam\n",
      "time_ratio_Fill1\n",
      "time_ratio_Fill2\n",
      "time_ratio_AutoClave\n",
      "model_receip_encoded\n",
      "workorder_receip_encoded\n"
     ]
    }
   ],
   "source": [
    "import pandas as pd\n",
    "\n",
    "# 예시 데이터프레임 생성 (실제 데이터프레임을 사용하세요)\n",
    "# train_data = pd.read_csv('train_data.csv')\n",
    "# test_data = pd.read_csv('test_data.csv')\n",
    "\n",
    "# 값의 종류가 차이나는 변수를 저장할 리스트\n",
    "different_columns = []\n",
    "\n",
    "# 모든 열에 대해 고유값 비교\n",
    "for column in train_data.columns:\n",
    "    train_unique_values = set(train_data[column].unique())\n",
    "    test_unique_values = set(test_data[column].unique())\n",
    "    \n",
    "    if train_unique_values != test_unique_values:\n",
    "        different_columns.append(column)\n",
    "        train_diff = train_unique_values - test_unique_values\n",
    "        test_diff = test_unique_values - train_unique_values\n",
    "        print(f\"변수명: {column}\")\n",
    "        print(f\"train_data에만 있는 값: {train_diff}\")\n",
    "        print(\"---\")\n",
    "        print(f\"test_data에만 있는 값: {test_diff}\")\n",
    "        print(\"---------------------\")\n",
    "\n",
    "# 값의 종류가 차이나는 변수명 출력\n",
    "if not different_columns:\n",
    "    print(\"값의 종류가 차이나는 변수가 없습니다.\")\n",
    "else:\n",
    "    print(\"값의 종류가 차이나는 변수들:\")\n",
    "    for column in different_columns:\n",
    "        print(column)"
   ]
  },
  {
   "cell_type": "code",
   "execution_count": 124,
   "id": "b0fc982f",
   "metadata": {},
   "outputs": [
    {
     "data": {
      "text/plain": [
       "54    8427\n",
       "49    5836\n",
       "50    5652\n",
       "53    5342\n",
       "48    3347\n",
       "55    3282\n",
       "52    2081\n",
       "47    1787\n",
       "56    1699\n",
       "51    1478\n",
       "57     951\n",
       "46     376\n",
       "58     102\n",
       "45      37\n",
       "36      33\n",
       "32      23\n",
       "43      20\n",
       "37       6\n",
       "38       6\n",
       "59       4\n",
       "33       4\n",
       "35       4\n",
       "44       3\n",
       "40       3\n",
       "34       2\n",
       "42       1\n",
       "Name: Chamber Temp. Collect Result_AutoClave, dtype: int64"
      ]
     },
     "execution_count": 124,
     "metadata": {},
     "output_type": "execute_result"
    }
   ],
   "source": [
    "train_data['Chamber Temp. Collect Result_AutoClave'].value_counts()"
   ]
  },
  {
   "cell_type": "code",
   "execution_count": 118,
   "id": "1d1df33a",
   "metadata": {},
   "outputs": [
    {
     "data": {
      "text/plain": [
       "130.85    9921\n",
       "124.00    3734\n",
       "133.50    3513\n",
       "124.50     182\n",
       "118.85      11\n",
       "Name: Head Clean Position Z Collect Result_Dam, dtype: int64"
      ]
     },
     "execution_count": 118,
     "metadata": {},
     "output_type": "execute_result"
    }
   ],
   "source": [
    "test_data['Head Clean Position Z Collect Result_Dam'].value_counts()"
   ]
  }
 ],
 "metadata": {
  "kernelspec": {
   "display_name": "Python 3 (ipykernel)",
   "language": "python",
   "name": "python3"
  },
  "language_info": {
   "codemirror_mode": {
    "name": "ipython",
    "version": 3
   },
   "file_extension": ".py",
   "mimetype": "text/x-python",
   "name": "python",
   "nbconvert_exporter": "python",
   "pygments_lexer": "ipython3",
   "version": "3.7.8"
  }
 },
 "nbformat": 4,
 "nbformat_minor": 5
}

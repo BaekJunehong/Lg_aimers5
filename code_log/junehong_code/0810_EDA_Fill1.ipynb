{
 "cells": [
  {
   "cell_type": "markdown",
   "id": "017e9265",
   "metadata": {},
   "source": [
    "# 제품 이상여부 판별 프로젝트\n"
   ]
  },
  {
   "cell_type": "markdown",
   "id": "acdab431",
   "metadata": {},
   "source": [
    "## 1. 데이터 불러오기\n"
   ]
  },
  {
   "cell_type": "markdown",
   "id": "2b8341e8",
   "metadata": {},
   "source": [
    "### 필수 라이브러리\n"
   ]
  },
  {
   "cell_type": "code",
   "execution_count": 145,
   "id": "a315cc58",
   "metadata": {},
   "outputs": [],
   "source": [
    "import numpy as np\n",
    "import pandas as pd\n",
    "import matplotlib.pyplot as plt"
   ]
  },
  {
   "cell_type": "markdown",
   "id": "4d054e30",
   "metadata": {},
   "source": [
    "### 데이터 읽어오기\n"
   ]
  },
  {
   "cell_type": "code",
   "execution_count": 146,
   "id": "fc0b4d80",
   "metadata": {},
   "outputs": [],
   "source": [
    "RANDOM_STATE = 110\n",
    "\n",
    "train_data = pd.read_csv(\"train_data_forEDA.csv\")\n",
    "test_data = pd.read_csv(\"test_data_forEDA.csv\")"
   ]
  },
  {
   "cell_type": "markdown",
   "id": "e23d3595",
   "metadata": {},
   "source": [
    "---"
   ]
  },
  {
   "cell_type": "markdown",
   "id": "b54df9c3",
   "metadata": {},
   "source": [
    "반복적으로 쓰는 툴 함수화"
   ]
  },
  {
   "cell_type": "code",
   "execution_count": 147,
   "id": "09d2efa7",
   "metadata": {},
   "outputs": [],
   "source": [
    "def plot_box(dataframe, column_name):\n",
    "    \"\"\"\n",
    "    주어진 데이터프레임과 열 이름에 대해 박스 플롯을 그리는 함수.\n",
    "\n",
    "    Parameters:\n",
    "    dataframe (pd.DataFrame): 데이터프레임\n",
    "    column_name (str): 열 이름\n",
    "    \"\"\"\n",
    "    plt.figure(figsize=(10, 6))\n",
    "    plt.boxplot(dataframe[column_name], vert=False)\n",
    "    plt.xlabel(column_name)\n",
    "    plt.title(f'Box Plot of {column_name}')\n",
    "    plt.show()"
   ]
  },
  {
   "cell_type": "code",
   "execution_count": 148,
   "id": "7515da51",
   "metadata": {},
   "outputs": [],
   "source": [
    "import pandas as pd\n",
    "\n",
    "def value_counts_ratio_count(df, col_name, target_name):\n",
    "    \"\"\"\n",
    "    주어진 데이터프레임의 특정 열에 대해 각 값마다 타겟 변수의 비율과 갯수, 총 갯수를 출력하는 함수.\n",
    "\n",
    "    Parameters:\n",
    "    df (pd.DataFrame): 데이터프레임\n",
    "    col_name (str): 열 이름\n",
    "    target_name (str): 타겟 변수 이름\n",
    "    \"\"\"\n",
    "    # 각 값마다 타겟 변수의 비율 계산\n",
    "    value_counts = df.groupby(col_name)[target_name].value_counts(normalize=True).unstack().fillna(0)\n",
    "    \n",
    "    # 각 값마다 타겟 변수의 갯수 계산\n",
    "    counts = df.groupby(col_name)[target_name].value_counts().unstack().fillna(0)\n",
    "    \n",
    "    # 각 값마다 총 갯수 계산\n",
    "    total_counts = df[col_name].value_counts().rename('Total_Count')\n",
    "    \n",
    "    # 비율과 갯수를 합침\n",
    "    result = value_counts.join(counts, lsuffix='_ratio', rsuffix='_count')\n",
    "    \n",
    "    # 총 갯수를 합침\n",
    "    result = result.join(total_counts, on=col_name)\n",
    "    \n",
    "    # 출력 형식 조정\n",
    "    result.index.name = 'variable'\n",
    "    print(f\"\\n{col_name}별 {target_name} 비율 및 갯수\\n\")\n",
    "    print(result.rename(columns=lambda x: x.split('_')[0]))"
   ]
  },
  {
   "cell_type": "code",
   "execution_count": 149,
   "id": "bb6f573a",
   "metadata": {},
   "outputs": [],
   "source": [
    "import pandas as pd\n",
    "\n",
    "def summarize_grouped_data(df, group_by_columns):\n",
    "    # 데이터프레임을 그룹화\n",
    "    grouped_df = df.groupby(group_by_columns)\n",
    "    \n",
    "    # 결과를 저장할 리스트 초기화\n",
    "    results = []\n",
    "    \n",
    "    # 그룹화된 데이터프레임의 내용을 확인하는 코드\n",
    "    for name, group in grouped_df:\n",
    "        # 그룹의 갯수 계산\n",
    "        group_count = group.shape[0]\n",
    "        \n",
    "        # 'target' 변수의 'AdNormal' 비율과 갯수 계산\n",
    "        adnormal_count = group['target'].value_counts().get('AbNormal', 0)\n",
    "        adnormal_ratio = adnormal_count / group_count\n",
    "        \n",
    "        # 결과 리스트에 추가\n",
    "        results.append([name, adnormal_count, adnormal_ratio, group_count])\n",
    "    \n",
    "    # 결과 리스트를 데이터프레임으로 변환\n",
    "    results_df = pd.DataFrame(results, columns=['group', \"'AdNormal' count\", 'ratio', 'Total'])\n",
    "    \n",
    "    # 그룹화된 변수들의 이름을 제목행으로 출력\n",
    "    print(f\"Grouped by: {', '.join(group_by_columns)}\")\n",
    "    print()\n",
    "    # 데이터프레임 출력\n",
    "    print(results_df)\n",
    "    \n",
    "    return results_df"
   ]
  },
  {
   "cell_type": "code",
   "execution_count": 150,
   "id": "f4bfbd22",
   "metadata": {},
   "outputs": [],
   "source": [
    "import pandas as pd\n",
    "import seaborn as sns\n",
    "import matplotlib.pyplot as plt\n",
    "\n",
    "def plot_abnormal_ratio(dataframe, column_name, target_name, target_value, bins=20):\n",
    "    \"\"\"\n",
    "    주어진 데이터프레임의 특정 열에 대해 각 값마다 타겟 변수의 특정 값 비율을 계산하고 막대그래프로 표시하는 함수.\n",
    "\n",
    "    Parameters:\n",
    "    dataframe (pd.DataFrame): 데이터프레임\n",
    "    column_name (str): 열 이름\n",
    "    target_name (str): 타겟 변수 이름\n",
    "    target_value (str): 타겟 변수의 특정 값\n",
    "    bins (int): 구간의 수 (기본값은 20)\n",
    "    \"\"\"\n",
    "    def abnormal_ratio(dataframe, column_name, target_name, target_value):\n",
    "        \"\"\"\n",
    "        주어진 데이터프레임의 특정 열에 대해 각 값마다 타겟 변수의 특정 값 비율을 계산하는 함수.\n",
    "\n",
    "        Parameters:\n",
    "        dataframe (pd.DataFrame): 데이터프레임\n",
    "        column_name (str): 열 이름\n",
    "        target_name (str): 타겟 변수 이름\n",
    "        target_value (str): 타겟 변수의 특정 값\n",
    "\n",
    "        Returns:\n",
    "        pd.DataFrame: 각 값마다 타겟 변수의 특정 값 비율을 포함하는 데이터프레임\n",
    "        \"\"\"\n",
    "        # 각 값마다 타겟 변수의 특정 값 비율 계산\n",
    "        value_counts = dataframe.groupby(column_name)[target_name].apply(lambda x: (x == target_value).mean()).reset_index()\n",
    "        count_counts = dataframe.groupby(column_name)[target_name].count().reset_index()\n",
    "        \n",
    "        value_counts.columns = [column_name, 'ratio']\n",
    "        count_counts.columns = [column_name, 'count']\n",
    "        \n",
    "        # 비율과 카운트를 병합\n",
    "        result = pd.merge(value_counts, count_counts, on=column_name)\n",
    "        return result\n",
    "\n",
    "    # column_name 값을 지정된 구간으로 나누기\n",
    "    dataframe[f'{column_name}_bins'] = pd.cut(dataframe[column_name], bins=bins)\n",
    "\n",
    "    # 비율 계산\n",
    "    ratios = abnormal_ratio(dataframe, f'{column_name}_bins', target_name, target_value)\n",
    "\n",
    "    # 막대그래프 그리기\n",
    "    plt.figure(figsize=(20, 10))\n",
    "    barplot = sns.barplot(x=f'{column_name}_bins', y='ratio', data=ratios, color='skyblue')\n",
    "    plt.xlabel(f'{column_name} (binned)')\n",
    "    plt.ylabel('AbNormal Ratio')\n",
    "    plt.title(f'AbNormal Ratio by {column_name} (binned)', pad=30)  # 제목과 그래프 사이의 간격 조정\n",
    "    plt.xticks(rotation=45)\n",
    "    plt.ylim(0, 1)\n",
    "\n",
    "    # 각 막대 위에 비율 값과 카운트 표시\n",
    "    for p in barplot.patches:\n",
    "        # 막대의 x 좌표에 해당하는 구간을 찾기\n",
    "        bin_label = ratios[f'{column_name}_bins'].cat.categories[int(p.get_x() + p.get_width() / 2) - 1]\n",
    "        count_value = ratios.loc[ratios[f'{column_name}_bins'] == bin_label, 'count'].values[0]\n",
    "        barplot.annotate(f'{format(p.get_height(), \".2f\")} ({count_value})', \n",
    "                         (p.get_x() + p.get_width() / 2., p.get_height()), \n",
    "                         ha='center', va='center', \n",
    "                         xytext=(0, 9), \n",
    "                         textcoords='offset points')\n",
    "\n",
    "    plt.show()\n",
    "\n",
    "    # _bins 변수 드랍\n",
    "    dataframe.drop(columns=[f'{column_name}_bins'], inplace=True)\n"
   ]
  },
  {
   "cell_type": "markdown",
   "id": "b0fbb1c8",
   "metadata": {},
   "source": [
    "---"
   ]
  },
  {
   "cell_type": "markdown",
   "id": "b3a7346a",
   "metadata": {},
   "source": [
    "## Dam"
   ]
  },
  {
   "cell_type": "markdown",
   "id": "0906cc5f",
   "metadata": {},
   "source": [
    "## AutoClave"
   ]
  },
  {
   "cell_type": "markdown",
   "id": "b0164e69",
   "metadata": {},
   "source": [
    "## Fill1"
   ]
  },
  {
   "cell_type": "code",
   "execution_count": 151,
   "id": "0b148fbc",
   "metadata": {},
   "outputs": [
    {
     "name": "stdout",
     "output_type": "stream",
     "text": [
      "<Fill1 공정 관련 변수>\n",
      "DISCHARGED SPEED OF RESIN Collect Result_Fill1\n",
      "DISCHARGED TIME OF RESIN(Stage1) Collect Result_Fill1\n",
      "DISCHARGED TIME OF RESIN(Stage2) Collect Result_Fill1\n",
      "DISCHARGED TIME OF RESIN(Stage3) Collect Result_Fill1\n",
      "Dispense Volume(Stage1) Collect Result_Fill1\n",
      "Dispense Volume(Stage2) Collect Result_Fill1\n",
      "Dispense Volume(Stage3) Collect Result_Fill1\n",
      "HEAD NORMAL COORDINATE X AXIS(Stage1) Collect Result_Fill1\n",
      "HEAD NORMAL COORDINATE X AXIS(Stage1) Judge Value_Fill1\n",
      "HEAD NORMAL COORDINATE X AXIS(Stage2) Collect Result_Fill1\n",
      "HEAD NORMAL COORDINATE X AXIS(Stage3) Collect Result_Fill1\n",
      "HEAD NORMAL COORDINATE Y AXIS(Stage1) Collect Result_Fill1\n",
      "HEAD NORMAL COORDINATE Y AXIS(Stage2) Collect Result_Fill1\n",
      "HEAD NORMAL COORDINATE Y AXIS(Stage3) Collect Result_Fill1\n",
      "HEAD NORMAL COORDINATE Z AXIS(Stage1) Collect Result_Fill1\n",
      "HEAD NORMAL COORDINATE Z AXIS(Stage2) Collect Result_Fill1\n",
      "HEAD NORMAL COORDINATE Z AXIS(Stage3) Collect Result_Fill1\n",
      "Head Purge Position Z Collect Result_Fill1\n",
      "Machine Tact time Collect Result_Fill1\n",
      "PalletID Collect Result_Fill1\n",
      "Production Qty Collect Result_Fill1\n",
      "Receip No Collect Result_Fill1\n",
      "WorkMode Collect Result_Fill1\n"
     ]
    }
   ],
   "source": [
    "# '_AutoClave'를 포함하는 열 이름 필터링\n",
    "Process_Desc_col = train_data.filter(like='_Fill1').columns\n",
    "\n",
    "# 필터링된 열 이름 출력\n",
    "print(\"<Fill1 공정 관련 변수>\")\n",
    "for col in Process_Desc_col:\n",
    "    print(col)"
   ]
  },
  {
   "cell_type": "markdown",
   "id": "32999acf",
   "metadata": {},
   "source": [
    "### RESIN 관련 변수 처리"
   ]
  },
  {
   "cell_type": "code",
   "execution_count": 152,
   "id": "831a213c",
   "metadata": {},
   "outputs": [
    {
     "name": "stdout",
     "output_type": "stream",
     "text": [
      "\n",
      "DISCHARGED SPEED OF RESIN Collect Result_Fill1별 target 비율 및 갯수\n",
      "\n",
      "          AbNormal    Normal  AbNormal   Normal  Total\n",
      "variable                                              \n",
      "0.0       1.000000  0.000000       1.0      0.0      1\n",
      "8.0       0.053292  0.946708      17.0    302.0    319\n",
      "10.6      0.053958  0.946042    1940.0  34014.0  35954\n",
      "10.9      0.092628  0.907372     392.0   3840.0   4232\n"
     ]
    }
   ],
   "source": [
    "value_counts_ratio_count(train_data, 'DISCHARGED SPEED OF RESIN Collect Result_Fill1', 'target')"
   ]
  },
  {
   "cell_type": "code",
   "execution_count": 153,
   "id": "5048f318",
   "metadata": {},
   "outputs": [
    {
     "name": "stdout",
     "output_type": "stream",
     "text": [
      "\n",
      "DISCHARGED TIME OF RESIN(Stage1) Collect Result_Fill1별 target 비율 및 갯수\n",
      "\n",
      "          AbNormal    Normal  AbNormal   Normal  Total\n",
      "variable                                              \n",
      "0.0       1.000000  0.000000       1.0      0.0      1\n",
      "3.9       0.104167  0.895833       5.0     43.0     48\n",
      "4.0       0.000000  1.000000       0.0     38.0     38\n",
      "12.6      0.125000  0.875000       2.0     14.0     16\n",
      "12.7      0.100000  0.900000      17.0    153.0    170\n",
      "12.8      0.049237  0.950763     142.0   2742.0   2884\n",
      "12.9      0.046340  0.953660     395.0   8129.0   8524\n",
      "13.2      0.095791  0.904209      66.0    623.0    689\n",
      "13.3      0.079844  0.920156     164.0   1890.0   2054\n",
      "13.4      0.062983  0.937017     424.0   6308.0   6732\n",
      "13.5      0.059189  0.940811     963.0  15307.0  16270\n",
      "13.6      0.037389  0.962611      59.0   1519.0   1578\n",
      "14.7      0.084428  0.915572      45.0    488.0    533\n",
      "14.8      0.076923  0.923077      50.0    600.0    650\n",
      "17.3      0.035088  0.964912       6.0    165.0    171\n",
      "17.4      0.074324  0.925676      11.0    137.0    148\n"
     ]
    }
   ],
   "source": [
    "value_counts_ratio_count(train_data, 'DISCHARGED TIME OF RESIN(Stage1) Collect Result_Fill1', 'target')"
   ]
  },
  {
   "cell_type": "code",
   "execution_count": 154,
   "id": "2a39be63",
   "metadata": {},
   "outputs": [
    {
     "name": "stdout",
     "output_type": "stream",
     "text": [
      "\n",
      "Dispense Volume(Stage1) Collect Result_Fill1별 target 비율 및 갯수\n",
      "\n",
      "          AbNormal    Normal  AbNormal   Normal  Total\n",
      "variable                                              \n",
      "0.00      1.000000  0.000000       1.0      0.0      1\n",
      "3.70      0.104167  0.895833       5.0     43.0     48\n",
      "3.80      0.000000  1.000000       0.0     38.0     38\n",
      "11.97     0.125000  0.875000       2.0     14.0     16\n",
      "12.06     0.100000  0.900000      17.0    153.0    170\n",
      "12.16     0.049237  0.950763     142.0   2742.0   2884\n",
      "12.25     0.046340  0.953660     395.0   8129.0   8524\n",
      "12.45     0.035088  0.964912       6.0    165.0    171\n",
      "12.52     0.074324  0.925676      11.0    137.0    148\n",
      "12.54     0.095791  0.904209      66.0    623.0    689\n",
      "12.63     0.079844  0.920156     164.0   1890.0   2054\n",
      "12.73     0.062983  0.937017     424.0   6308.0   6732\n",
      "12.82     0.059189  0.940811     963.0  15307.0  16270\n",
      "12.92     0.037389  0.962611      59.0   1519.0   1578\n",
      "13.96     0.084428  0.915572      45.0    488.0    533\n",
      "14.06     0.076923  0.923077      50.0    600.0    650\n"
     ]
    }
   ],
   "source": [
    "value_counts_ratio_count(train_data, 'Dispense Volume(Stage1) Collect Result_Fill1', 'target')"
   ]
  },
  {
   "cell_type": "code",
   "execution_count": 155,
   "id": "a4705959",
   "metadata": {},
   "outputs": [],
   "source": [
    "train_data['RESIN(Stage1)_speed_x_time_Fill1'] = train_data['DISCHARGED SPEED OF RESIN Collect Result_Fill1'] * train_data['DISCHARGED TIME OF RESIN(Stage1) Collect Result_Fill1']"
   ]
  },
  {
   "cell_type": "code",
   "execution_count": 156,
   "id": "7228c482",
   "metadata": {},
   "outputs": [
    {
     "name": "stdout",
     "output_type": "stream",
     "text": [
      "\n",
      "RESIN(Stage1)_speed_x_time_Fill1별 target 비율 및 갯수\n",
      "\n",
      "          AbNormal    Normal  AbNormal   Normal  Total\n",
      "variable                                              \n",
      "0.00      1.000000  0.000000       1.0      0.0      1\n",
      "41.34     0.104167  0.895833       5.0     43.0     48\n",
      "42.40     0.000000  1.000000       0.0     38.0     38\n",
      "133.56    0.125000  0.875000       2.0     14.0     16\n",
      "134.62    0.100000  0.900000      17.0    153.0    170\n",
      "135.68    0.049237  0.950763     142.0   2742.0   2884\n",
      "136.74    0.046340  0.953660     395.0   8129.0   8524\n",
      "138.40    0.035088  0.964912       6.0    165.0    171\n",
      "139.20    0.074324  0.925676      11.0    137.0    148\n",
      "139.92    0.200000  0.800000       2.0      8.0     10\n",
      "140.98    0.072301  0.927699      71.0    911.0    982\n",
      "142.04    0.058399  0.941601     332.0   5353.0   5685\n",
      "143.10    0.055271  0.944729     820.0  14016.0  14836\n",
      "143.88    0.094256  0.905744      64.0    615.0    679\n",
      "144.16    0.037389  0.962611      59.0   1519.0   1578\n",
      "144.97    0.086754  0.913246      93.0    979.0   1072\n",
      "146.06    0.087870  0.912130      92.0    955.0   1047\n",
      "147.15    0.099721  0.900279     143.0   1291.0   1434\n",
      "155.82    0.084428  0.915572      45.0    488.0    533\n",
      "156.88    0.076923  0.923077      50.0    600.0    650\n"
     ]
    }
   ],
   "source": [
    "value_counts_ratio_count(train_data, 'RESIN(Stage1)_speed_x_time_Fill1', 'target')"
   ]
  },
  {
   "cell_type": "code",
   "execution_count": 157,
   "id": "8146439c",
   "metadata": {},
   "outputs": [
    {
     "name": "stdout",
     "output_type": "stream",
     "text": [
      "\n",
      "Dispense Volume(Stage1) Collect Result_Fill1별 target 비율 및 갯수\n",
      "\n",
      "          AbNormal    Normal  AbNormal   Normal  Total\n",
      "variable                                              \n",
      "0.00      1.000000  0.000000       1.0      0.0      1\n",
      "3.70      0.104167  0.895833       5.0     43.0     48\n",
      "3.80      0.000000  1.000000       0.0     38.0     38\n",
      "11.97     0.125000  0.875000       2.0     14.0     16\n",
      "12.06     0.100000  0.900000      17.0    153.0    170\n",
      "12.16     0.049237  0.950763     142.0   2742.0   2884\n",
      "12.25     0.046340  0.953660     395.0   8129.0   8524\n",
      "12.45     0.035088  0.964912       6.0    165.0    171\n",
      "12.52     0.074324  0.925676      11.0    137.0    148\n",
      "12.54     0.095791  0.904209      66.0    623.0    689\n",
      "12.63     0.079844  0.920156     164.0   1890.0   2054\n",
      "12.73     0.062983  0.937017     424.0   6308.0   6732\n",
      "12.82     0.059189  0.940811     963.0  15307.0  16270\n",
      "12.92     0.037389  0.962611      59.0   1519.0   1578\n",
      "13.96     0.084428  0.915572      45.0    488.0    533\n",
      "14.06     0.076923  0.923077      50.0    600.0    650\n"
     ]
    }
   ],
   "source": [
    "value_counts_ratio_count(train_data, 'Dispense Volume(Stage1) Collect Result_Fill1', 'target')"
   ]
  },
  {
   "cell_type": "code",
   "execution_count": 158,
   "id": "66fc3e65",
   "metadata": {},
   "outputs": [
    {
     "name": "stdout",
     "output_type": "stream",
     "text": [
      "Grouped by: RESIN(Stage1)_speed_x_time_Fill1, Dispense Volume(Stage1) Collect Result_Fill1\n",
      "\n",
      "                          group  'AdNormal' count     ratio  Total\n",
      "0                    (0.0, 0.0)                 1  1.000000      1\n",
      "1     (41.339999999999996, 3.7)                 5  0.104167     48\n",
      "2                   (42.4, 3.8)                 0  0.000000     38\n",
      "3               (133.56, 11.97)                 2  0.125000     16\n",
      "4   (134.61999999999998, 12.06)                17  0.100000    170\n",
      "5               (135.68, 12.16)               142  0.049237   2884\n",
      "6               (136.74, 12.25)               395  0.046340   8524\n",
      "7                (138.4, 12.45)                 6  0.035088    171\n",
      "8                (139.2, 12.52)                11  0.074324    148\n",
      "9               (139.92, 12.54)                 2  0.200000     10\n",
      "10              (140.98, 12.63)                71  0.072301    982\n",
      "11              (142.04, 12.73)               332  0.058399   5685\n",
      "12               (143.1, 12.82)               820  0.055271  14836\n",
      "13              (143.88, 12.54)                64  0.094256    679\n",
      "14              (144.16, 12.92)                59  0.037389   1578\n",
      "15              (144.97, 12.63)                93  0.086754   1072\n",
      "16              (146.06, 12.73)                92  0.087870   1047\n",
      "17              (147.15, 12.82)               143  0.099721   1434\n",
      "18              (155.82, 13.96)                45  0.084428    533\n",
      "19              (156.88, 14.06)                50  0.076923    650\n"
     ]
    }
   ],
   "source": [
    "# 'RESIN(Stage1)_speed_x_time_Fill1' 변수와 'Dispense Volume(Stage1) Collect Result_Fill1' 변수를 그룹화하여 함수 적용\n",
    "summary_df = summarize_grouped_data(train_data, ['RESIN(Stage1)_speed_x_time_Fill1', 'Dispense Volume(Stage1) Collect Result_Fill1'])"
   ]
  },
  {
   "cell_type": "code",
   "execution_count": 159,
   "id": "61f85555",
   "metadata": {},
   "outputs": [],
   "source": [
    "train_data['RESIN(Stage2)_speed_x_time_Fill1'] = train_data['DISCHARGED SPEED OF RESIN Collect Result_Fill1'] * train_data['DISCHARGED TIME OF RESIN(Stage2) Collect Result_Fill1']"
   ]
  },
  {
   "cell_type": "code",
   "execution_count": 160,
   "id": "d2676ba3",
   "metadata": {},
   "outputs": [
    {
     "name": "stdout",
     "output_type": "stream",
     "text": [
      "Grouped by: RESIN(Stage2)_speed_x_time_Fill1, Dispense Volume(Stage2) Collect Result_Fill1\n",
      "\n",
      "                         group  'AdNormal' count     ratio  Total\n",
      "0                   (0.0, 0.0)                 1  1.000000      1\n",
      "1                (33.92, 3.04)                 1  0.066667     15\n",
      "2                (34.98, 3.13)                 3  0.115385     26\n",
      "3                (36.04, 3.23)                 2  0.133333     15\n",
      "4                 (37.1, 3.32)               104  0.047904   2171\n",
      "5                (38.16, 3.42)              1163  0.048712  23875\n",
      "6                 (38.4, 3.45)                 0  0.000000      7\n",
      "7                 (39.2, 3.52)                14  0.050179    279\n",
      "8                (39.22, 3.51)               185  0.070881   2610\n",
      "9                  (40.0, 3.6)                 3  0.090909     33\n",
      "10  (40.279999999999994, 3.61)                60  0.072289    830\n",
      "11   (41.339999999999996, 3.7)               130  0.072504   1793\n",
      "12                 (42.4, 3.8)                62  0.038438   1613\n",
      "13  (43.459999999999994, 3.89)                21  0.061765    340\n",
      "14               (44.52, 3.99)                16  0.041995    381\n",
      "15               (45.58, 4.08)                 0  0.000000     32\n",
      "16               (46.64, 4.18)                 0  0.000000     55\n",
      "17  (47.699999999999996, 4.27)                 0  0.000000      4\n",
      "18               (48.76, 4.37)                41  0.064263    638\n",
      "19               (49.82, 4.46)                 8  0.039216    204\n",
      "20  (50.879999999999995, 4.56)                 0  0.000000     16\n",
      "21  (51.940000000000005, 4.65)                30  0.126582    237\n",
      "22                (53.0, 4.75)                89  0.105077    847\n",
      "23  (53.410000000000004, 4.65)               174  0.089094   1953\n",
      "24  (54.059999999999995, 4.84)                19  0.131944    144\n",
      "25                (54.5, 4.75)               218  0.095656   2279\n",
      "26               (55.12, 4.94)                 1  0.045455     22\n",
      "27             (155.82, 13.96)                 5  0.080645     62\n",
      "28             (156.88, 14.06)                 0  0.000000     24\n"
     ]
    }
   ],
   "source": [
    "# 'RESIN(Stage1)_speed_x_time_Fill1' 변수와 'Dispense Volume(Stage1) Collect Result_Fill1' 변수를 그룹화하여 함수 적용\n",
    "summary_df = summarize_grouped_data(train_data, ['RESIN(Stage2)_speed_x_time_Fill1', 'Dispense Volume(Stage2) Collect Result_Fill1'])"
   ]
  },
  {
   "cell_type": "code",
   "execution_count": 161,
   "id": "60f4c363",
   "metadata": {},
   "outputs": [],
   "source": [
    "train_data['RESIN(Stage3)_speed_x_time_Fill1'] = train_data['DISCHARGED SPEED OF RESIN Collect Result_Fill1'] * train_data['DISCHARGED TIME OF RESIN(Stage3) Collect Result_Fill1']"
   ]
  },
  {
   "cell_type": "code",
   "execution_count": 162,
   "id": "a3d76b00",
   "metadata": {},
   "outputs": [
    {
     "name": "stdout",
     "output_type": "stream",
     "text": [
      "Grouped by: RESIN(Stage3)_speed_x_time_Fill1, Dispense Volume(Stage3) Collect Result_Fill1\n",
      "\n",
      "                          group  'AdNormal' count     ratio  Total\n",
      "0                    (0.0, 0.0)                 1  1.000000      1\n",
      "1               (133.56, 11.97)                 1  0.071429     14\n",
      "2   (134.61999999999998, 12.06)                24  0.122449    196\n",
      "3               (135.68, 12.16)               116  0.053979   2149\n",
      "4               (136.74, 12.25)               399  0.044093   9049\n",
      "5   (137.79999999999998, 12.35)                 2  0.029412     68\n",
      "6                (138.4, 12.45)                13  0.078788    165\n",
      "7                (139.2, 12.52)                 4  0.025974    154\n",
      "8               (139.92, 12.54)                 1  0.142857      7\n",
      "9               (140.98, 12.63)                42  0.071186    590\n",
      "10              (142.04, 12.73)               281  0.059825   4697\n",
      "11              (142.79, 12.44)                 7  0.132075     53\n",
      "12               (143.1, 12.82)               909  0.055959  16244\n",
      "13              (143.88, 12.54)                71  0.116203    611\n",
      "14              (144.16, 12.92)                65  0.038876   1672\n",
      "15              (144.97, 12.63)                79  0.072677   1087\n",
      "16              (146.06, 12.73)               134  0.089155   1503\n",
      "17              (147.15, 12.82)               101  0.103272    978\n",
      "18              (155.82, 13.96)                32  0.086486    370\n",
      "19              (156.88, 14.06)                68  0.075724    898\n"
     ]
    }
   ],
   "source": [
    "summary_df = summarize_grouped_data(train_data, ['RESIN(Stage3)_speed_x_time_Fill1', 'Dispense Volume(Stage3) Collect Result_Fill1'])"
   ]
  },
  {
   "cell_type": "markdown",
   "id": "69d2afb2",
   "metadata": {},
   "source": [
    "stage별 speed x time 값은 volume * 11.157894... 일치"
   ]
  },
  {
   "cell_type": "markdown",
   "id": "ac72e0c7",
   "metadata": {},
   "source": [
    "### HEAD NORMAL COORDINATE 관련 변수 처리"
   ]
  },
  {
   "cell_type": "code",
   "execution_count": 163,
   "id": "badbbeab",
   "metadata": {},
   "outputs": [
    {
     "name": "stdout",
     "output_type": "stream",
     "text": [
      "<HEAD NORMAL COORDINATE와 _Fill1 공정 관련 변수>\n",
      "HEAD NORMAL COORDINATE X AXIS(Stage1) Collect Result_Fill1\n",
      "HEAD NORMAL COORDINATE X AXIS(Stage1) Judge Value_Fill1\n",
      "HEAD NORMAL COORDINATE X AXIS(Stage2) Collect Result_Fill1\n",
      "HEAD NORMAL COORDINATE X AXIS(Stage3) Collect Result_Fill1\n",
      "HEAD NORMAL COORDINATE Y AXIS(Stage1) Collect Result_Fill1\n",
      "HEAD NORMAL COORDINATE Y AXIS(Stage2) Collect Result_Fill1\n",
      "HEAD NORMAL COORDINATE Y AXIS(Stage3) Collect Result_Fill1\n",
      "HEAD NORMAL COORDINATE Z AXIS(Stage1) Collect Result_Fill1\n",
      "HEAD NORMAL COORDINATE Z AXIS(Stage2) Collect Result_Fill1\n",
      "HEAD NORMAL COORDINATE Z AXIS(Stage3) Collect Result_Fill1\n"
     ]
    }
   ],
   "source": [
    "# 'HEAD NORMAL COORDINATE'와 '_Fill1'를 포함하는 열 이름 필터링\n",
    "Process_Desc_col = train_data.filter(like='_Fill1').columns\n",
    "filtered_columns = [col for col in Process_Desc_col if 'HEAD NORMAL COORDINATE' in col]\n",
    "\n",
    "# 필터링된 열 이름 출력\n",
    "print(\"<HEAD NORMAL COORDINATE와 _Fill1 공정 관련 변수>\")\n",
    "for col in filtered_columns:\n",
    "    print(col)"
   ]
  },
  {
   "cell_type": "code",
   "execution_count": 164,
   "id": "1f648645",
   "metadata": {},
   "outputs": [
    {
     "name": "stdout",
     "output_type": "stream",
     "text": [
      "\n",
      "HEAD NORMAL COORDINATE X AXIS(Stage1) Judge Value_Fill1별 target 비율 및 갯수\n",
      "\n",
      "          AbNormal    Normal  AbNormal  Normal  Total\n",
      "variable                                             \n",
      "OK        0.043921  0.956079       496   10797  11293\n"
     ]
    }
   ],
   "source": [
    "value_counts_ratio_count(train_data, 'HEAD NORMAL COORDINATE X AXIS(Stage1) Judge Value_Fill1', 'target')"
   ]
  },
  {
   "cell_type": "code",
   "execution_count": 165,
   "id": "7148bc3e",
   "metadata": {},
   "outputs": [
    {
     "name": "stdout",
     "output_type": "stream",
     "text": [
      "\n",
      "HEAD_NORMAL_COORDINATE_X_AXIS_stage1_ok별 target 비율 및 갯수\n",
      "\n",
      "          AbNormal    Normal  AbNormal  Normal  Total\n",
      "variable                                             \n",
      "0         0.063465  0.936535      1854   27359  29213\n",
      "1         0.043921  0.956079       496   10797  11293\n"
     ]
    }
   ],
   "source": [
    "# OK 값이면 1, 결측 값이면 0을 부여\n",
    "train_data['HEAD_NORMAL_COORDINATE_X_AXIS_stage1_ok'] = train_data['HEAD NORMAL COORDINATE X AXIS(Stage1) Judge Value_Fill1'].apply(lambda x: 1 if x == 'OK' else 0)\n",
    "test_data['HEAD_NORMAL_COORDINATE_X_AXIS_stage1_ok'] = test_data['HEAD NORMAL COORDINATE X AXIS(Stage1) Judge Value_Fill1'].apply(lambda x: 1 if x == 'OK' else 0)\n",
    "\n",
    "# HEAD NORMAL COORDINATE X AXIS(Stage1) Judge Value_Fill1 변수 제거\n",
    "train_data.drop(columns=['HEAD NORMAL COORDINATE X AXIS(Stage1) Judge Value_Fill1'], inplace=True)\n",
    "test_data.drop(columns=['HEAD NORMAL COORDINATE X AXIS(Stage1) Judge Value_Fill1'], inplace=True)\n",
    "\n",
    "# 결과 확인\n",
    "value_counts_ratio_count(train_data, 'HEAD_NORMAL_COORDINATE_X_AXIS_stage1_ok', 'target')"
   ]
  },
  {
   "cell_type": "code",
   "execution_count": 166,
   "id": "0f0c04c3",
   "metadata": {},
   "outputs": [
    {
     "name": "stdout",
     "output_type": "stream",
     "text": [
      "\n",
      "<HEAD NORMAL COORDINATE와 _Fill1 공정 관련 변수 중 Stage1 포함 변수>\n",
      "HEAD NORMAL COORDINATE X AXIS(Stage1) Collect Result_Fill1\n",
      "HEAD NORMAL COORDINATE Y AXIS(Stage1) Collect Result_Fill1\n",
      "HEAD NORMAL COORDINATE Z AXIS(Stage1) Collect Result_Fill1\n"
     ]
    }
   ],
   "source": [
    "# 'HEAD NORMAL COORDINATE'와 '_Fill1'를 포함하는 열 이름 필터링\n",
    "Process_Desc_col = train_data.filter(like='_Fill1').columns\n",
    "filtered_columns = [col for col in Process_Desc_col if 'HEAD NORMAL COORDINATE' in col]\n",
    "\n",
    "# 'Stage1'을 포함하는 열 이름 추가 필터링\n",
    "stage1_columns = [col for col in filtered_columns if 'Stage1' in col]\n",
    "\n",
    "print(\"\\n<HEAD NORMAL COORDINATE와 _Fill1 공정 관련 변수 중 Stage1 포함 변수>\")\n",
    "for col in stage1_columns:\n",
    "    print(col)"
   ]
  },
  {
   "cell_type": "code",
   "execution_count": 171,
   "id": "f6b7ae39",
   "metadata": {},
   "outputs": [],
   "source": [
    "RANDOM_STATE = 110\n",
    "\n",
    "train_data = pd.read_csv(\"../../data/trim_train_data.csv\")\n",
    "test_data = pd.read_csv(\"../../data/trim_test_data.csv\")"
   ]
  },
  {
   "cell_type": "code",
   "execution_count": 172,
   "id": "bf4de205",
   "metadata": {},
   "outputs": [
    {
     "name": "stdout",
     "output_type": "stream",
     "text": [
      "Grouped by: Equipment_Fill1, HEAD NORMAL COORDINATE X AXIS(Stage1) Collect Result_Fill1, HEAD NORMAL COORDINATE Y AXIS(Stage1) Collect Result_Fill1, HEAD NORMAL COORDINATE Z AXIS(Stage1) Collect Result_Fill1\n",
      "\n",
      "                                           group  'AdNormal' count     ratio  \\\n",
      "0     (Fill1 dispenser #1, 157.0, 430.3, 244.52)                 7  0.104478   \n",
      "1     (Fill1 dispenser #1, 458.7, 429.8, 244.45)                 1  0.017857   \n",
      "2      (Fill1 dispenser #1, 837.9, 430.2, 244.3)               235  0.089969   \n",
      "3      (Fill1 dispenser #1, 837.9, 430.2, 244.4)               226  0.096375   \n",
      "4    (Fill1 dispenser #1, 837.9, 430.8, 244.375)                22  0.043053   \n",
      "5    (Fill1 dispenser #1, 837.9, 430.8, 244.555)                11  0.065089   \n",
      "6    (Fill1 dispenser #1, 837.9, 430.8, 244.618)                18  0.030405   \n",
      "7    (Fill1 dispenser #1, 837.9, 430.8, 244.728)                15  0.033632   \n",
      "8    (Fill1 dispenser #1, 838.2, 429.8, 244.511)                 1  0.071429   \n",
      "9      (Fill1 dispenser #1, 838.2, 430.2, 244.3)                19  0.075099   \n",
      "10   (Fill1 dispenser #1, 838.4, 429.8, 244.618)                 1  0.166667   \n",
      "11    (Fill1 dispenser #1, 838.4, 430.0, 244.45)                 2  0.008511   \n",
      "12    (Fill1 dispenser #1, 838.4, 430.0, 244.52)               100  0.052383   \n",
      "13     (Fill1 dispenser #1, 838.4, 430.2, 244.4)               147  0.093930   \n",
      "14    (Fill1 dispenser #1, 838.4, 430.3, 244.45)                 5  0.039683   \n",
      "15     (Fill1 dispenser #1, 838.4, 430.5, 244.2)               191  0.068878   \n",
      "16     (Fill1 dispenser #1, 838.4, 430.5, 244.4)               164  0.044432   \n",
      "17   (Fill1 dispenser #1, 838.4, 430.8, 244.375)                 2  0.142857   \n",
      "18     (Fill1 dispenser #1, 838.4, 430.8, 244.4)               228  0.043011   \n",
      "19    (Fill1 dispenser #1, 838.4, 430.8, 244.45)                 5  0.027473   \n",
      "20    (Fill1 dispenser #1, 838.4, 430.8, 244.49)                 5  0.018657   \n",
      "21   (Fill1 dispenser #1, 838.4, 430.8, 244.543)                21  0.042424   \n",
      "22   (Fill1 dispenser #1, 838.4, 430.8, 244.555)                11  0.154930   \n",
      "23   (Fill1 dispenser #1, 838.4, 430.8, 244.618)                45  0.033937   \n",
      "24  (Fill1 dispenser #2, 156.1, 1323.3, 244.535)                 1  0.015385   \n",
      "25  (Fill1 dispenser #2, 458.7, 1322.8, 244.415)                 4  0.133333   \n",
      "26   (Fill1 dispenser #2, 681.2, 1332.8, 225.85)                 1  1.000000   \n",
      "27  (Fill1 dispenser #2, 837.4, 1323.5, 244.275)                26  0.048059   \n",
      "28  (Fill1 dispenser #2, 837.4, 1323.5, 244.505)                55  0.044319   \n",
      "29    (Fill1 dispenser #2, 837.5, 1323.2, 244.6)                 0  0.000000   \n",
      "30    (Fill1 dispenser #2, 837.7, 1323.2, 244.2)                58  0.120083   \n",
      "31    (Fill1 dispenser #2, 837.7, 1323.2, 244.3)               113  0.043952   \n",
      "32    (Fill1 dispenser #2, 837.7, 1323.2, 244.4)                77  0.087600   \n",
      "33    (Fill1 dispenser #2, 837.7, 1323.5, 244.3)               142  0.044837   \n",
      "34    (Fill1 dispenser #2, 837.7, 1325.2, 244.3)                43  0.671875   \n",
      "35  (Fill1 dispenser #2, 837.9, 1323.5, 244.275)                 1  0.083333   \n",
      "36    (Fill1 dispenser #2, 837.9, 1323.5, 244.3)               130  0.060976   \n",
      "37  (Fill1 dispenser #2, 837.9, 1323.5, 244.415)                13  0.030660   \n",
      "38  (Fill1 dispenser #2, 837.9, 1323.5, 244.427)                 0  0.000000   \n",
      "39  (Fill1 dispenser #2, 837.9, 1323.5, 244.505)                74  0.042117   \n",
      "40  (Fill1 dispenser #2, 837.9, 1324.5, 244.505)                 1  0.027027   \n",
      "41  (Fill1 dispenser #2, 837.9, 1324.8, 244.505)                 0  0.000000   \n",
      "42  (Fill1 dispenser #2, 838.1, 1323.5, 244.415)                18  0.070866   \n",
      "43  (Fill1 dispenser #2, 838.1, 1323.5, 244.535)                60  0.077320   \n",
      "44  (Fill1 dispenser #2, 838.1, 1325.0, 244.535)                36  0.047936   \n",
      "45  (Fill1 dispenser #2, 838.1, 1325.6, 244.535)                15  0.065502   \n",
      "\n",
      "    Total  \n",
      "0      67  \n",
      "1      56  \n",
      "2    2612  \n",
      "3    2345  \n",
      "4     511  \n",
      "5     169  \n",
      "6     592  \n",
      "7     446  \n",
      "8      14  \n",
      "9     253  \n",
      "10      6  \n",
      "11    235  \n",
      "12   1909  \n",
      "13   1565  \n",
      "14    126  \n",
      "15   2773  \n",
      "16   3691  \n",
      "17     14  \n",
      "18   5301  \n",
      "19    182  \n",
      "20    268  \n",
      "21    495  \n",
      "22     71  \n",
      "23   1326  \n",
      "24     65  \n",
      "25     30  \n",
      "26      1  \n",
      "27    541  \n",
      "28   1241  \n",
      "29      2  \n",
      "30    483  \n",
      "31   2571  \n",
      "32    879  \n",
      "33   3167  \n",
      "34     64  \n",
      "35     12  \n",
      "36   2132  \n",
      "37    424  \n",
      "38      4  \n",
      "39   1757  \n",
      "40     37  \n",
      "41     59  \n",
      "42    254  \n",
      "43    776  \n",
      "44    751  \n",
      "45    229  \n"
     ]
    }
   ],
   "source": [
    "summary_df = summarize_grouped_data(train_data, ['Equipment_Fill1','HEAD NORMAL COORDINATE X AXIS(Stage1) Collect Result_Fill1', 'HEAD NORMAL COORDINATE Y AXIS(Stage1) Collect Result_Fill1', 'HEAD NORMAL COORDINATE Z AXIS(Stage1) Collect Result_Fill1'])"
   ]
  },
  {
   "cell_type": "code",
   "execution_count": 136,
   "id": "52ba151c",
   "metadata": {},
   "outputs": [
    {
     "name": "stdout",
     "output_type": "stream",
     "text": [
      "\n",
      "<HEAD NORMAL COORDINATE와 _Fill1 공정 관련 변수 중 Stage2 포함 변수>\n",
      "HEAD NORMAL COORDINATE X AXIS(Stage2) Collect Result_Fill1\n",
      "HEAD NORMAL COORDINATE Y AXIS(Stage2) Collect Result_Fill1\n",
      "HEAD NORMAL COORDINATE Z AXIS(Stage2) Collect Result_Fill1\n"
     ]
    }
   ],
   "source": [
    "# 'HEAD NORMAL COORDINATE'와 '_Fill1'를 포함하는 열 이름 필터링\n",
    "Process_Desc_col = train_data.filter(like='_Fill1').columns\n",
    "filtered_columns = [col for col in Process_Desc_col if 'HEAD NORMAL COORDINATE' in col]\n",
    "\n",
    "# 'Stage1'을 포함하는 열 이름 추가 필터링\n",
    "stage1_columns = [col for col in filtered_columns if 'Stage2' in col]\n",
    "\n",
    "print(\"\\n<HEAD NORMAL COORDINATE와 _Fill1 공정 관련 변수 중 Stage2 포함 변수>\")\n",
    "for col in stage1_columns:\n",
    "    print(col)"
   ]
  },
  {
   "cell_type": "code",
   "execution_count": 173,
   "id": "97e215ea",
   "metadata": {},
   "outputs": [
    {
     "name": "stdout",
     "output_type": "stream",
     "text": [
      "Grouped by: Equipment_Fill1, HEAD NORMAL COORDINATE X AXIS(Stage2) Collect Result_Fill1, HEAD NORMAL COORDINATE Y AXIS(Stage2) Collect Result_Fill1, HEAD NORMAL COORDINATE Z AXIS(Stage2) Collect Result_Fill1\n",
      "\n",
      "                                           group  'AdNormal' count     ratio  \\\n",
      "0    (Fill1 dispenser #1, 457.9, 430.5, 244.375)                22  0.043053   \n",
      "1    (Fill1 dispenser #1, 457.9, 430.5, 244.555)                11  0.065089   \n",
      "2    (Fill1 dispenser #1, 457.9, 430.5, 244.728)                 7  0.028689   \n",
      "3    (Fill1 dispenser #1, 458.2, 429.5, 244.511)                 1  0.071429   \n",
      "4      (Fill1 dispenser #1, 458.2, 430.5, 244.4)                 2  0.047619   \n",
      "..                                           ...               ...       ...   \n",
      "56    (Fill1 dispenser #2, 458.8, 1323.2, 244.6)                 8  0.363636   \n",
      "57    (Fill1 dispenser #2, 458.8, 1325.0, 244.3)                43  0.671875   \n",
      "58    (Fill1 dispenser #2, 460.0, 1323.2, 244.6)                 0  0.000000   \n",
      "59    (Fill1 dispenser #2, 682.5, 1325.8, 244.2)                 1  1.000000   \n",
      "60  (Fill1 dispenser #2, 838.1, 1323.5, 244.415)                 4  0.133333   \n",
      "\n",
      "    Total  \n",
      "0     511  \n",
      "1     169  \n",
      "2     244  \n",
      "3      14  \n",
      "4      42  \n",
      "..    ...  \n",
      "56     22  \n",
      "57     64  \n",
      "58      2  \n",
      "59      1  \n",
      "60     30  \n",
      "\n",
      "[61 rows x 4 columns]\n"
     ]
    }
   ],
   "source": [
    "summary_df = summarize_grouped_data(train_data, ['Equipment_Fill1','HEAD NORMAL COORDINATE X AXIS(Stage2) Collect Result_Fill1', 'HEAD NORMAL COORDINATE Y AXIS(Stage2) Collect Result_Fill1', 'HEAD NORMAL COORDINATE Z AXIS(Stage2) Collect Result_Fill1'])"
   ]
  },
  {
   "cell_type": "code",
   "execution_count": 139,
   "id": "a622fe7a",
   "metadata": {},
   "outputs": [
    {
     "name": "stdout",
     "output_type": "stream",
     "text": [
      "\n",
      "<HEAD NORMAL COORDINATE와 _Fill1 공정 관련 변수 중 Stage3 포함 변수>\n",
      "HEAD NORMAL COORDINATE X AXIS(Stage3) Collect Result_Fill1\n",
      "HEAD NORMAL COORDINATE Y AXIS(Stage3) Collect Result_Fill1\n",
      "HEAD NORMAL COORDINATE Z AXIS(Stage3) Collect Result_Fill1\n"
     ]
    }
   ],
   "source": [
    "# 'HEAD NORMAL COORDINATE'와 '_Fill1'를 포함하는 열 이름 필터링\n",
    "Process_Desc_col = train_data.filter(like='_Fill1').columns\n",
    "filtered_columns = [col for col in Process_Desc_col if 'HEAD NORMAL COORDINATE' in col]\n",
    "\n",
    "# 'Stage1'을 포함하는 열 이름 추가 필터링\n",
    "stage1_columns = [col for col in filtered_columns if 'Stage3' in col]\n",
    "\n",
    "print(\"\\n<HEAD NORMAL COORDINATE와 _Fill1 공정 관련 변수 중 Stage3 포함 변수>\")\n",
    "for col in stage1_columns:\n",
    "    print(col)"
   ]
  },
  {
   "cell_type": "code",
   "execution_count": 174,
   "id": "b613f419",
   "metadata": {},
   "outputs": [
    {
     "name": "stdout",
     "output_type": "stream",
     "text": [
      "Grouped by: Equipment_Fill1, HEAD NORMAL COORDINATE X AXIS(Stage3) Collect Result_Fill1, HEAD NORMAL COORDINATE Y AXIS(Stage3) Collect Result_Fill1, HEAD NORMAL COORDINATE Z AXIS(Stage3) Collect Result_Fill1\n",
      "\n",
      "                                           group  'AdNormal' count     ratio  \\\n",
      "0    (Fill1 dispenser #1, 156.5, 431.1, 244.375)                22  0.043053   \n",
      "1    (Fill1 dispenser #1, 156.5, 431.1, 244.555)                11  0.065089   \n",
      "2    (Fill1 dispenser #1, 156.5, 431.1, 244.618)                18  0.030405   \n",
      "3    (Fill1 dispenser #1, 156.5, 431.1, 244.728)                15  0.033632   \n",
      "4    (Fill1 dispenser #1, 157.0, 430.1, 244.511)                 1  0.071429   \n",
      "5    (Fill1 dispenser #1, 157.0, 430.1, 244.618)                 1  0.166667   \n",
      "6     (Fill1 dispenser #1, 157.0, 430.3, 244.45)                 3  0.010309   \n",
      "7     (Fill1 dispenser #1, 157.0, 430.3, 244.52)               100  0.052383   \n",
      "8      (Fill1 dispenser #1, 157.0, 430.5, 244.4)               144  0.092843   \n",
      "9     (Fill1 dispenser #1, 157.0, 430.6, 244.45)                 5  0.039683   \n",
      "10     (Fill1 dispenser #1, 157.0, 430.8, 244.2)               191  0.068878   \n",
      "11     (Fill1 dispenser #1, 157.0, 430.8, 244.4)               164  0.044432   \n",
      "12   (Fill1 dispenser #1, 157.0, 431.1, 244.375)                 2  0.142857   \n",
      "13     (Fill1 dispenser #1, 157.0, 431.1, 244.4)               228  0.043011   \n",
      "14    (Fill1 dispenser #1, 157.0, 431.1, 244.45)                 5  0.027473   \n",
      "15    (Fill1 dispenser #1, 157.0, 431.1, 244.49)                 5  0.018657   \n",
      "16   (Fill1 dispenser #1, 157.0, 431.1, 244.543)                21  0.042424   \n",
      "17   (Fill1 dispenser #1, 157.0, 431.1, 244.555)                11  0.154930   \n",
      "18   (Fill1 dispenser #1, 157.0, 431.1, 244.618)                45  0.033937   \n",
      "19     (Fill1 dispenser #1, 157.5, 430.5, 244.3)               231  0.089744   \n",
      "20     (Fill1 dispenser #1, 157.5, 430.5, 244.4)               226  0.096334   \n",
      "21     (Fill1 dispenser #1, 157.7, 430.5, 244.3)                 1  0.090909   \n",
      "22     (Fill1 dispenser #1, 157.7, 430.6, 244.3)                 3  0.111111   \n",
      "23     (Fill1 dispenser #1, 158.0, 430.5, 244.4)                 3  0.230769   \n",
      "24     (Fill1 dispenser #1, 158.0, 430.6, 244.3)                19  0.075099   \n",
      "25    (Fill1 dispenser #1, 838.4, 430.0, 244.52)                 7  0.104478   \n",
      "26  (Fill1 dispenser #2, 156.1, 1323.1, 244.415)                17  0.036638   \n",
      "27  (Fill1 dispenser #2, 156.1, 1323.1, 244.505)                 8  0.023460   \n",
      "28  (Fill1 dispenser #2, 156.1, 1323.3, 244.415)                18  0.073770   \n",
      "29  (Fill1 dispenser #2, 156.1, 1323.3, 244.535)                60  0.077320   \n",
      "30  (Fill1 dispenser #2, 156.1, 1324.3, 244.535)                36  0.047936   \n",
      "31  (Fill1 dispenser #2, 156.1, 1324.7, 244.535)                15  0.065502   \n",
      "32  (Fill1 dispenser #2, 156.3, 1323.1, 244.275)                26  0.048059   \n",
      "33  (Fill1 dispenser #2, 156.3, 1323.1, 244.505)                55  0.044319   \n",
      "34  (Fill1 dispenser #2, 156.7, 1323.1, 244.427)                 0  0.000000   \n",
      "35  (Fill1 dispenser #2, 156.8, 1323.1, 244.275)                 1  0.083333   \n",
      "36    (Fill1 dispenser #2, 156.8, 1323.1, 244.3)                88  0.053495   \n",
      "37  (Fill1 dispenser #2, 156.8, 1323.1, 244.505)                66  0.046610   \n",
      "38  (Fill1 dispenser #2, 156.8, 1324.1, 244.505)                 1  0.027027   \n",
      "39  (Fill1 dispenser #2, 156.8, 1324.4, 244.505)                 0  0.000000   \n",
      "40    (Fill1 dispenser #2, 157.0, 1322.8, 244.2)                58  0.120083   \n",
      "41    (Fill1 dispenser #2, 157.0, 1322.8, 244.3)               113  0.043952   \n",
      "42    (Fill1 dispenser #2, 157.0, 1322.8, 244.4)                54  0.080238   \n",
      "43    (Fill1 dispenser #2, 157.0, 1323.1, 244.3)               184  0.050356   \n",
      "44    (Fill1 dispenser #2, 157.0, 1323.2, 244.4)                15  0.081522   \n",
      "45    (Fill1 dispenser #2, 157.0, 1323.2, 244.6)                 8  0.363636   \n",
      "46    (Fill1 dispenser #2, 157.0, 1323.8, 244.3)                43  0.671875   \n",
      "47    (Fill1 dispenser #2, 158.0, 1323.2, 244.6)                 0  0.000000   \n",
      "48   (Fill1 dispenser #2, 681.2, 1332.7, 225.85)                 1  1.000000   \n",
      "49  (Fill1 dispenser #2, 838.1, 1323.5, 244.535)                 1  0.015385   \n",
      "\n",
      "    Total  \n",
      "0     511  \n",
      "1     169  \n",
      "2     592  \n",
      "3     446  \n",
      "4      14  \n",
      "5       6  \n",
      "6     291  \n",
      "7    1909  \n",
      "8    1551  \n",
      "9     126  \n",
      "10   2773  \n",
      "11   3691  \n",
      "12     14  \n",
      "13   5301  \n",
      "14    182  \n",
      "15    268  \n",
      "16    495  \n",
      "17     71  \n",
      "18   1326  \n",
      "19   2574  \n",
      "20   2346  \n",
      "21     11  \n",
      "22     27  \n",
      "23     13  \n",
      "24    253  \n",
      "25     67  \n",
      "26    464  \n",
      "27    341  \n",
      "28    244  \n",
      "29    776  \n",
      "30    751  \n",
      "31    229  \n",
      "32    541  \n",
      "33   1241  \n",
      "34      4  \n",
      "35     12  \n",
      "36   1645  \n",
      "37   1416  \n",
      "38     37  \n",
      "39     59  \n",
      "40    483  \n",
      "41   2571  \n",
      "42    673  \n",
      "43   3654  \n",
      "44    184  \n",
      "45     22  \n",
      "46     64  \n",
      "47      2  \n",
      "48      1  \n",
      "49     65  \n"
     ]
    }
   ],
   "source": [
    "summary_df = summarize_grouped_data(train_data, ['Equipment_Fill1','HEAD NORMAL COORDINATE X AXIS(Stage3) Collect Result_Fill1', 'HEAD NORMAL COORDINATE Y AXIS(Stage3) Collect Result_Fill1', 'HEAD NORMAL COORDINATE Z AXIS(Stage3) Collect Result_Fill1'])"
   ]
  },
  {
   "cell_type": "code",
   "execution_count": 141,
   "id": "b26a6620",
   "metadata": {},
   "outputs": [
    {
     "name": "stdout",
     "output_type": "stream",
     "text": [
      "<Fill1 공정 관련 변수>\n",
      "DISCHARGED SPEED OF RESIN Collect Result_Fill1\n",
      "DISCHARGED TIME OF RESIN(Stage1) Collect Result_Fill1\n",
      "DISCHARGED TIME OF RESIN(Stage2) Collect Result_Fill1\n",
      "DISCHARGED TIME OF RESIN(Stage3) Collect Result_Fill1\n",
      "Dispense Volume(Stage1) Collect Result_Fill1\n",
      "Dispense Volume(Stage2) Collect Result_Fill1\n",
      "Dispense Volume(Stage3) Collect Result_Fill1\n",
      "HEAD NORMAL COORDINATE X AXIS(Stage1) Collect Result_Fill1\n",
      "HEAD NORMAL COORDINATE X AXIS(Stage2) Collect Result_Fill1\n",
      "HEAD NORMAL COORDINATE X AXIS(Stage3) Collect Result_Fill1\n",
      "HEAD NORMAL COORDINATE Y AXIS(Stage1) Collect Result_Fill1\n",
      "HEAD NORMAL COORDINATE Y AXIS(Stage2) Collect Result_Fill1\n",
      "HEAD NORMAL COORDINATE Y AXIS(Stage3) Collect Result_Fill1\n",
      "HEAD NORMAL COORDINATE Z AXIS(Stage1) Collect Result_Fill1\n",
      "HEAD NORMAL COORDINATE Z AXIS(Stage2) Collect Result_Fill1\n",
      "HEAD NORMAL COORDINATE Z AXIS(Stage3) Collect Result_Fill1\n",
      "Head Purge Position Z Collect Result_Fill1\n",
      "Machine Tact time Collect Result_Fill1\n",
      "PalletID Collect Result_Fill1\n",
      "Production Qty Collect Result_Fill1\n",
      "Receip No Collect Result_Fill1\n",
      "WorkMode Collect Result_Fill1\n",
      "RESIN(Stage1)_speed_x_time_Fill1\n",
      "RESIN(Stage2)_speed_x_time_Fill1\n",
      "RESIN(Stage3)_speed_x_time_Fill1\n"
     ]
    }
   ],
   "source": [
    "# '_AutoClave'를 포함하는 열 이름 필터링\n",
    "Process_Desc_col = train_data.filter(like='_Fill1').columns\n",
    "\n",
    "# 필터링된 열 이름 출력\n",
    "print(\"<Fill1 공정 관련 변수>\")\n",
    "for col in Process_Desc_col:\n",
    "    print(col)"
   ]
  },
  {
   "cell_type": "markdown",
   "id": "70759e80",
   "metadata": {},
   "source": [
    "## Fill2"
   ]
  },
  {
   "cell_type": "markdown",
   "id": "5c4cc6b9",
   "metadata": {},
   "source": [
    "---"
   ]
  }
 ],
 "metadata": {
  "kernelspec": {
   "display_name": "Python 3 (ipykernel)",
   "language": "python",
   "name": "python3"
  },
  "language_info": {
   "codemirror_mode": {
    "name": "ipython",
    "version": 3
   },
   "file_extension": ".py",
   "mimetype": "text/x-python",
   "name": "python",
   "nbconvert_exporter": "python",
   "pygments_lexer": "ipython3",
   "version": "3.7.8"
  }
 },
 "nbformat": 4,
 "nbformat_minor": 5
}

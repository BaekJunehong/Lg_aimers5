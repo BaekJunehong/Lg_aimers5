{
 "cells": [
  {
   "cell_type": "markdown",
   "id": "017e9265",
   "metadata": {},
   "source": [
    "# 제품 이상여부 판별 프로젝트\n"
   ]
  },
  {
   "cell_type": "markdown",
   "id": "acdab431",
   "metadata": {},
   "source": [
    "## 1. 데이터 불러오기\n"
   ]
  },
  {
   "cell_type": "markdown",
   "id": "2b8341e8",
   "metadata": {},
   "source": [
    "### 필수 라이브러리\n"
   ]
  },
  {
   "cell_type": "code",
   "execution_count": 109,
   "id": "a315cc58",
   "metadata": {},
   "outputs": [],
   "source": [
    "import numpy as np\n",
    "import pandas as pd\n",
    "import seaborn as sns\n",
    "import matplotlib.pyplot as plt\n",
    "\n",
    "import os\n",
    "from pprint import pprint\n",
    "\n",
    "from sklearn.ensemble import RandomForestClassifier\n",
    "from sklearn.metrics import (\n",
    "    accuracy_score,\n",
    "    classification_report,\n",
    "    confusion_matrix,\n",
    "    f1_score,\n",
    "    precision_score,\n",
    "    recall_score,\n",
    ")\n",
    "from sklearn.model_selection import train_test_split\n",
    "from tqdm import tqdm"
   ]
  },
  {
   "cell_type": "markdown",
   "id": "4d054e30",
   "metadata": {},
   "source": [
    "### 데이터 읽어오기\n"
   ]
  },
  {
   "cell_type": "code",
   "execution_count": 110,
   "id": "fc0b4d80",
   "metadata": {},
   "outputs": [],
   "source": [
    "RANDOM_STATE = 110\n",
    "\n",
    "train_data = pd.read_csv(\"../../data/train_data.csv\")\n",
    "test_data = pd.read_csv(\"../../data/test_data.csv\")"
   ]
  },
  {
   "cell_type": "markdown",
   "id": "cd0a6bbc",
   "metadata": {},
   "source": [
    "기본 전처리 할것들"
   ]
  },
  {
   "cell_type": "code",
   "execution_count": 111,
   "id": "e1367da7",
   "metadata": {},
   "outputs": [],
   "source": [
    "# 'Workorder_AutoClave' 열에서 '-' 다음 숫자 값 추출 및 '000' 제거\n",
    "train_data['Workorder'] = train_data['Workorder'].str.replace(r'-(\\d+)', lambda x: '-' + x.group(1).lstrip('0'), regex=True)\n",
    "test_data['Workorder'] = test_data['Workorder'].str.replace(r'-(\\d+)', lambda x: '-' + x.group(1).lstrip('0'), regex=True)"
   ]
  },
  {
   "cell_type": "code",
   "execution_count": 112,
   "id": "735040a0",
   "metadata": {},
   "outputs": [],
   "source": [
    "# Dispenser_num 값에 따라 새로운 변수 생성\n",
    "train_data['Dispenser_1'] = train_data['Dispenser_num'].apply(lambda x: 1 if x == '#1' else 0)\n",
    "train_data['Dispenser_2'] = train_data['Dispenser_num'].apply(lambda x: 1 if x == '#2' else 0)\n",
    "\n",
    "test_data['Dispenser_1'] = test_data['Dispenser_num'].apply(lambda x: 1 if x == '#1' else 0)\n",
    "test_data['Dispenser_2'] = test_data['Dispenser_num'].apply(lambda x: 1 if x == '#2' else 0)\n",
    "\n",
    "# 불필요한 변수 제거\n",
    "train_data.drop(['Dispenser_num'], axis=1, inplace=True)\n",
    "test_data.drop(['Dispenser_num'], axis=1, inplace=True)"
   ]
  },
  {
   "cell_type": "code",
   "execution_count": 113,
   "id": "262866c0",
   "metadata": {},
   "outputs": [],
   "source": [
    "# WorkMode Collect Result_Dam의 이름을 WorkMode Collect Result로 변경\n",
    "train_data = train_data.rename(columns={'WorkMode Collect Result_Dam': 'WorkMode Collect Result'})\n",
    "test_data = test_data.rename(columns={'WorkMode Collect Result_Dam': 'WorkMode Collect Result'})\n",
    "\n",
    "# WorkMode Collect Result_Fill1, WorkMode Collect Result_Fill2 열 드롭\n",
    "train_data = train_data.drop(columns=['WorkMode Collect Result_Fill1', 'WorkMode Collect Result_Fill2'])\n",
    "test_data = test_data.drop(columns=['WorkMode Collect Result_Fill1', 'WorkMode Collect Result_Fill2'])"
   ]
  },
  {
   "cell_type": "code",
   "execution_count": 114,
   "id": "6e2e5c57",
   "metadata": {},
   "outputs": [],
   "source": [
    "# WorkMode Collect Result 열의 값이 7인 행을 1로 변경\n",
    "train_data['WorkMode Collect Result'] = train_data['WorkMode Collect Result'].replace(7, 1)\n",
    "test_data['WorkMode Collect Result'] = test_data['WorkMode Collect Result'].replace(7, 1)\n",
    "\n",
    "# WorkMode Collect Result 열의 결측값을 0으로 채움\n",
    "train_data['WorkMode Collect Result'] = train_data['WorkMode Collect Result'].fillna(0)\n",
    "test_data['WorkMode Collect Result'] = test_data['WorkMode Collect Result'].fillna(0)"
   ]
  },
  {
   "cell_type": "code",
   "execution_count": 115,
   "id": "38ab6e89",
   "metadata": {},
   "outputs": [],
   "source": [
    "# 세 변수의 값이 동일하면 해당 값을 가져가고, 하나라도 일치하지 않으면 0의 값을 가지는 파생 변수 생성 함수\n",
    "def create_receip_no_collect_result(df):\n",
    "    df['Receip_No_Collect_Result'] = df.apply(\n",
    "        lambda row: row['Receip No Collect Result_Dam'] \n",
    "                    if (row['Receip No Collect Result_Dam'] == row['Receip No Collect Result_Fill1'] == row['Receip No Collect Result_Fill2']) \n",
    "                    else 0, \n",
    "        axis=1\n",
    "    )\n",
    "\n",
    "# 함수 적용\n",
    "create_receip_no_collect_result(train_data)\n",
    "create_receip_no_collect_result(test_data)"
   ]
  },
  {
   "cell_type": "code",
   "execution_count": 116,
   "id": "d60cd31e",
   "metadata": {},
   "outputs": [],
   "source": [
    "# 제거할 변수 목록\n",
    "columns_to_drop = [\n",
    "    'Receip No Collect Result_Dam',\n",
    "    'Receip No Collect Result_Fill1',\n",
    "    'Receip No Collect Result_Fill2'\n",
    "]\n",
    "\n",
    "# 변수 제거\n",
    "train_data.drop(columns=columns_to_drop, inplace=True)\n",
    "test_data.drop(columns=columns_to_drop, inplace=True)"
   ]
  },
  {
   "cell_type": "code",
   "execution_count": 117,
   "id": "66f9a1d2",
   "metadata": {},
   "outputs": [],
   "source": [
    "# 세 변수의 값이 동일하면 해당 값을 가져가고, 하나라도 일치하지 않으면 0의 값을 가지는 파생 변수 생성 함수\n",
    "def create_palletid_collect_result(df):\n",
    "    df['PalletID_Collect_Result'] = df.apply(\n",
    "        lambda row: row['PalletID Collect Result_Dam'] \n",
    "                    if (row['PalletID Collect Result_Dam'] == row['PalletID Collect Result_Fill1'] == row['PalletID Collect Result_Fill2']) \n",
    "                    else 0, \n",
    "        axis=1\n",
    "    )\n",
    "\n",
    "# 함수 적용\n",
    "create_palletid_collect_result(train_data)\n",
    "create_palletid_collect_result(test_data)"
   ]
  },
  {
   "cell_type": "code",
   "execution_count": 118,
   "id": "f4f7c505",
   "metadata": {},
   "outputs": [],
   "source": [
    "# 제거할 변수 목록\n",
    "columns_to_drop = [\n",
    "    'PalletID Collect Result_Dam',\n",
    "    'PalletID Collect Result_Fill1',\n",
    "    'PalletID Collect Result_Fill2'\n",
    "]\n",
    "\n",
    "# 변수 제거\n",
    "train_data.drop(columns=columns_to_drop, inplace=True)\n",
    "test_data.drop(columns=columns_to_drop, inplace=True)"
   ]
  },
  {
   "cell_type": "code",
   "execution_count": 119,
   "id": "e14c7fa6",
   "metadata": {},
   "outputs": [],
   "source": [
    "# 세 변수의 값이 동일하면 해당 값을 가져가고, 하나라도 일치하지 않으면 0의 값을 가지는 파생 변수 생성 함수\n",
    "def create_palletid_collect_result(df):\n",
    "    df['Production_Qty_Collect_Result'] = df.apply(\n",
    "        lambda row: row['Production Qty Collect Result_Dam'] \n",
    "                    if (row['Production Qty Collect Result_Dam'] == row['Production Qty Collect Result_Fill1'] == row['Production Qty Collect Result_Fill2']) \n",
    "                    else 0, \n",
    "        axis=1\n",
    "    )\n",
    "\n",
    "# 함수 적용\n",
    "create_palletid_collect_result(train_data)\n",
    "create_palletid_collect_result(test_data)"
   ]
  },
  {
   "cell_type": "code",
   "execution_count": 120,
   "id": "b8fdec05",
   "metadata": {},
   "outputs": [],
   "source": [
    "# 제거할 변수 목록\n",
    "columns_to_drop = [\n",
    "    'Production Qty Collect Result_Dam',\n",
    "    'Production Qty Collect Result_Fill1',\n",
    "    'Production Qty Collect Result_Fill2'\n",
    "]\n",
    "\n",
    "# 변수 제거\n",
    "train_data.drop(columns=columns_to_drop, inplace=True)\n",
    "test_data.drop(columns=columns_to_drop, inplace=True)"
   ]
  },
  {
   "cell_type": "code",
   "execution_count": 121,
   "id": "a22797c8",
   "metadata": {},
   "outputs": [],
   "source": [
    "# \"Chamber Temp. Judge Value_AutoClave\" 변수의 값을 기준으로 파생 변수 생성 함수\n",
    "def create_judge_value_binary(df):\n",
    "    df['Chamber_Temp_OKNG_AutoClave'] = df['Chamber Temp. Judge Value_AutoClave'].apply(\n",
    "        lambda x: 1 if x == 'OK' else 0\n",
    "    )\n",
    "\n",
    "# 함수 적용\n",
    "create_judge_value_binary(train_data)\n",
    "create_judge_value_binary(test_data)"
   ]
  },
  {
   "cell_type": "code",
   "execution_count": 122,
   "id": "dd9ccf46",
   "metadata": {},
   "outputs": [
    {
     "name": "stdout",
     "output_type": "stream",
     "text": [
      "\n",
      " Judge Value 포함 변수>\n",
      "HEAD NORMAL COORDINATE X AXIS(Stage1) Judge Value_Dam\n",
      "Chamber Temp. Judge Value_AutoClave\n",
      "GMES_ORIGIN_INSP_JUDGE_CODE Judge Value_AutoClave\n",
      "HEAD NORMAL COORDINATE X AXIS(Stage1) Judge Value_Fill1\n",
      "HEAD NORMAL COORDINATE X AXIS(Stage1) Judge Value_Fill2\n"
     ]
    }
   ],
   "source": [
    "# 'Judge Value'를 포함하는 열 이름 필터링\n",
    "Process_Desc_col = train_data.filter(like='Judge Value').columns\n",
    "\n",
    "print(\"\\n Judge Value 포함 변수>\")\n",
    "for col in Process_Desc_col:\n",
    "    print(col)"
   ]
  },
  {
   "cell_type": "code",
   "execution_count": 123,
   "id": "efa52eee",
   "metadata": {},
   "outputs": [],
   "source": [
    "# 5개의 변수 목록\n",
    "judge_value_columns = [\n",
    "    'HEAD NORMAL COORDINATE X AXIS(Stage1) Judge Value_Dam'\n",
    "    , 'GMES_ORIGIN_INSP_JUDGE_CODE Judge Value_AutoClave'\n",
    "    , 'HEAD NORMAL COORDINATE X AXIS(Stage1) Judge Value_Fill1'\n",
    "    , 'HEAD NORMAL COORDINATE X AXIS(Stage1) Judge Value_Fill2'\n",
    "    , 'GMES_ORIGIN_INSP_JUDGE_CODE Collect Result_AutoClave'\n",
    "]\n",
    "\n",
    "# 파생 변수 생성 함수\n",
    "def create_judge_value_feature(df):\n",
    "    df['Judge_Value_OK'] = df[judge_value_columns].apply(\n",
    "        lambda row: 1 if any(row == 'OK') else 0, \n",
    "        axis=1\n",
    "    )\n",
    "\n",
    "# 함수 적용\n",
    "create_judge_value_feature(train_data)\n",
    "create_judge_value_feature(test_data)"
   ]
  },
  {
   "cell_type": "code",
   "execution_count": 124,
   "id": "ebe087f0",
   "metadata": {},
   "outputs": [],
   "source": [
    "# 제거할 변수 목록\n",
    "columns_to_drop = [\n",
    "    'Chamber Temp. Judge Value_AutoClave'\n",
    "    , 'HEAD NORMAL COORDINATE X AXIS(Stage1) Judge Value_Dam'\n",
    "    , 'GMES_ORIGIN_INSP_JUDGE_CODE Judge Value_AutoClave'\n",
    "    , 'HEAD NORMAL COORDINATE X AXIS(Stage1) Judge Value_Fill1'\n",
    "    , 'HEAD NORMAL COORDINATE X AXIS(Stage1) Judge Value_Fill2'\n",
    "    , 'GMES_ORIGIN_INSP_JUDGE_CODE Collect Result_AutoClave'\n",
    "]\n",
    "\n",
    "# 변수 제거\n",
    "train_data.drop(columns=columns_to_drop, inplace=True)\n",
    "test_data.drop(columns=columns_to_drop, inplace=True)"
   ]
  },
  {
   "cell_type": "code",
   "execution_count": 125,
   "id": "4fb1e7ae",
   "metadata": {},
   "outputs": [],
   "source": [
    "# 변수명 변경\n",
    "train_data = train_data.rename(columns={'1st Pressure 1st Pressure Unit Time_AutoClave': '1st Pressure Unit Time_AutoClave'})\n",
    "test_data = test_data.rename(columns={'1st Pressure 1st Pressure Unit Time_AutoClave': '1st Pressure Unit Time_AutoClave'})"
   ]
  },
  {
   "cell_type": "code",
   "execution_count": 126,
   "id": "6cdd01e2",
   "metadata": {},
   "outputs": [
    {
     "name": "stdout",
     "output_type": "stream",
     "text": [
      "<class 'pandas.core.frame.DataFrame'>\n",
      "RangeIndex: 40506 entries, 0 to 40505\n",
      "Columns: 108 entries, Model.Suffix to Judge_Value_OK\n",
      "dtypes: float64(56), int64(49), object(3)\n",
      "memory usage: 33.4+ MB\n"
     ]
    }
   ],
   "source": [
    "train_data.info()"
   ]
  },
  {
   "cell_type": "code",
   "execution_count": 127,
   "id": "5c4b1899",
   "metadata": {},
   "outputs": [
    {
     "name": "stdout",
     "output_type": "stream",
     "text": [
      "<class 'pandas.core.frame.DataFrame'>\n",
      "RangeIndex: 17361 entries, 0 to 17360\n",
      "Columns: 109 entries, Set ID to Judge_Value_OK\n",
      "dtypes: float64(86), int64(20), object(3)\n",
      "memory usage: 14.4+ MB\n"
     ]
    }
   ],
   "source": [
    "test_data.info()"
   ]
  },
  {
   "cell_type": "markdown",
   "id": "e23d3595",
   "metadata": {},
   "source": [
    "---"
   ]
  },
  {
   "cell_type": "markdown",
   "id": "b54df9c3",
   "metadata": {},
   "source": [
    "반복적으로 쓰는 툴 함수화"
   ]
  },
  {
   "cell_type": "code",
   "execution_count": 128,
   "id": "09d2efa7",
   "metadata": {},
   "outputs": [],
   "source": [
    "def plot_box(df, col_name):\n",
    "    \"\"\"\n",
    "    주어진 데이터프레임과 열 이름에 대해 박스 플롯을 그리는 함수.\n",
    "\n",
    "    Parameters:\n",
    "    dataframe (pd.DataFrame): 데이터프레임\n",
    "    column_name (str): 열 이름\n",
    "    \"\"\"\n",
    "    plt.figure(figsize=(7, 4))\n",
    "    plt.boxplot(df[col_name], vert=False)\n",
    "    plt.xlabel(col_name)\n",
    "    plt.title(f'Box Plot of {col_name}')\n",
    "    plt.show()"
   ]
  },
  {
   "cell_type": "code",
   "execution_count": 129,
   "id": "7515da51",
   "metadata": {},
   "outputs": [],
   "source": [
    "def value_counts_ratio(df, col_name, target_name='target'):\n",
    "    \"\"\"\n",
    "    주어진 데이터프레임의 특정 열에 대해 각 값마다 타겟 변수의 비율과 갯수, 총 갯수를 출력하는 함수.\n",
    "\n",
    "    Parameters:\n",
    "    df (pd.DataFrame): 데이터프레임\n",
    "    col_name (str): 열 이름\n",
    "    target_name (str): 타겟 변수 이름\n",
    "    \"\"\"\n",
    "    # 각 값마다 타겟 변수의 비율 계산\n",
    "    value_counts = df.groupby(col_name)[target_name].value_counts(normalize=True).unstack().fillna(0)\n",
    "    \n",
    "    # 각 값마다 타겟 변수의 갯수 계산\n",
    "    counts = df.groupby(col_name)[target_name].value_counts().unstack().fillna(0)\n",
    "    \n",
    "    # 각 값마다 총 갯수 계산\n",
    "    total_counts = df[col_name].value_counts().rename('Total_Count')\n",
    "    \n",
    "    # 비율과 갯수를 합침\n",
    "    result = value_counts.join(counts, lsuffix='_ratio', rsuffix='_count')\n",
    "    \n",
    "    # 총 갯수를 합침\n",
    "    result = result.join(total_counts, on=col_name)\n",
    "    \n",
    "    # 출력 형식 조정\n",
    "    result.index.name = 'variable'\n",
    "    print(f\"\\n{col_name}별 {target_name} 비율 및 갯수\\n\")\n",
    "    print(result.rename(columns=lambda x: x.split('_')[0]))"
   ]
  },
  {
   "cell_type": "code",
   "execution_count": 130,
   "id": "9eed238d",
   "metadata": {},
   "outputs": [],
   "source": [
    "def summarize_group(df, group_by_columns):\n",
    "    # 데이터프레임을 그룹화\n",
    "    grouped_df = df.groupby(group_by_columns)\n",
    "    \n",
    "    # 결과를 저장할 리스트 초기화\n",
    "    results = []\n",
    "    \n",
    "    # 그룹화된 데이터프레임의 내용을 확인하는 코드\n",
    "    for name, group in grouped_df:\n",
    "        # 그룹의 갯수 계산\n",
    "        group_count = group.shape[0]\n",
    "        \n",
    "        # 'target' 변수의 'AdNormal' 비율과 갯수 계산\n",
    "        adnormal_count = group['target'].value_counts().get('AbNormal', 0)\n",
    "        adnormal_ratio = adnormal_count / group_count\n",
    "        \n",
    "        # 결과 리스트에 추가\n",
    "        results.append([name, adnormal_count, adnormal_ratio, group_count])\n",
    "    \n",
    "    # 결과 리스트를 데이터프레임으로 변환\n",
    "    results_df = pd.DataFrame(results, columns=['group', \"'AdNormal' count\", 'ratio', 'Total'])\n",
    "    \n",
    "    # 그룹화된 변수들의 이름을 제목행으로 출력\n",
    "    print(f\"Grouped by: {', '.join(group_by_columns)}\")\n",
    "    print()\n",
    "    # 데이터프레임 출력\n",
    "    print(results_df)\n",
    "\n",
    "# 예시코드\n",
    "# summarize_grouped_data(train_data, ['1st Pressure Collect Result_AutoClave', '1st Pressure Unit Time_AutoClave'])"
   ]
  },
  {
   "cell_type": "code",
   "execution_count": 131,
   "id": "f4bfbd22",
   "metadata": {},
   "outputs": [],
   "source": [
    "def plot_ratio(df, group_by_column, target_column='target', abnormal_value='AbNormal'):\n",
    "    # 데이터프레임을 그룹화\n",
    "    grouped_df = df.groupby(group_by_column)\n",
    "    \n",
    "    # 결과를 저장할 리스트 초기화\n",
    "    results = []\n",
    "    \n",
    "    # 그룹화된 데이터프레임의 내용을 확인하는 코드\n",
    "    for name, group in grouped_df:\n",
    "        # 그룹의 갯수 계산\n",
    "        group_count = group.shape[0]\n",
    "        \n",
    "        # 'target' 변수의 'AbNormal' 비율과 갯수 계산\n",
    "        abnormal_count = group[target_column].value_counts().get(abnormal_value, 0)\n",
    "        abnormal_ratio = abnormal_count / group_count\n",
    "        \n",
    "        # 결과 리스트에 추가\n",
    "        results.append([name, abnormal_count, abnormal_ratio, group_count])\n",
    "    \n",
    "    # 결과 리스트를 데이터프레임으로 변환\n",
    "    results_df = pd.DataFrame(results, columns=['group', f\"'{abnormal_value}' count\", 'ratio', 'Total'])\n",
    "    \n",
    "    # 그래프 크기 설정\n",
    "    plt.figure(figsize=(10, 5))\n",
    "    \n",
    "    # 막대 그래프 생성\n",
    "    ax = results_df.plot(kind='bar', x='group', y='ratio', legend=False)\n",
    "    \n",
    "    # 각 막대 위에 AbNormal 갯수와 총 갯수 표시\n",
    "    for i, (abnormal_count, total) in enumerate(zip(results_df[f\"'{abnormal_value}' count\"], results_df['Total'])):\n",
    "        ax.text(i, results_df['ratio'][i], f'{abnormal_count} ({total})', ha='center', va='bottom', fontsize=8)\n",
    "    \n",
    "     # 그래프 제목 및 축 레이블 설정\n",
    "    ax.set_title(f'{abnormal_value} Ratio by {group_by_column}')\n",
    "    ax.set_xlabel(group_by_column)\n",
    "    ax.set_ylabel(f'{abnormal_value} Ratio')\n",
    "   \n",
    "    # 그래프 출력\n",
    "    plt.show()"
   ]
  },
  {
   "cell_type": "code",
   "execution_count": 132,
   "id": "aad45361",
   "metadata": {},
   "outputs": [],
   "source": [
    "import matplotlib.pyplot as plt\n",
    "import seaborn as sns\n",
    "\n",
    "def plot_ratio_boxplot(data, time_ratio_column, target_column='target'):\n",
    "    # 그래프 스타일 설정\n",
    "    sns.set(style=\"whitegrid\")\n",
    "\n",
    "    # 그래프 그리기\n",
    "    plt.figure(figsize=(10, 6))\n",
    "    sns.boxplot(x=time_ratio_column, y=target_column, data=data)\n",
    "\n",
    "    # 그래프 제목 및 레이블 설정\n",
    "    plt.title(f'{time_ratio_column} vs {target_column}')\n",
    "    plt.xlabel(time_ratio_column)\n",
    "    plt.ylabel(target_column)\n",
    "\n",
    "    # 그래프 출력\n",
    "    plt.show()\n",
    "\n",
    "# 함수 호출 예제\n",
    "#plot_time_ratio_vs_target(train_data, 'time_ratio_Dam')"
   ]
  },
  {
   "cell_type": "markdown",
   "id": "08a8a90c",
   "metadata": {},
   "source": [
    "---"
   ]
  },
  {
   "cell_type": "code",
   "execution_count": 133,
   "id": "0e84bd23",
   "metadata": {},
   "outputs": [
    {
     "data": {
      "text/plain": [
       "['Model.Suffix',\n",
       " 'Workorder',\n",
       " 'CURE END POSITION X Collect Result_Dam',\n",
       " 'CURE END POSITION Z Collect Result_Dam',\n",
       " 'CURE END POSITION Θ Collect Result_Dam',\n",
       " 'CURE SPEED Collect Result_Dam',\n",
       " 'CURE START POSITION X Collect Result_Dam',\n",
       " 'CURE START POSITION Θ Collect Result_Dam',\n",
       " 'DISCHARGED SPEED OF RESIN Collect Result_Dam',\n",
       " 'DISCHARGED TIME OF RESIN(Stage1) Collect Result_Dam',\n",
       " 'DISCHARGED TIME OF RESIN(Stage2) Collect Result_Dam',\n",
       " 'DISCHARGED TIME OF RESIN(Stage3) Collect Result_Dam',\n",
       " 'Dispense Volume(Stage1) Collect Result_Dam',\n",
       " 'Dispense Volume(Stage2) Collect Result_Dam',\n",
       " 'Dispense Volume(Stage3) Collect Result_Dam',\n",
       " 'HEAD NORMAL COORDINATE X AXIS(Stage1) Collect Result_Dam',\n",
       " 'HEAD NORMAL COORDINATE X AXIS(Stage2) Collect Result_Dam',\n",
       " 'HEAD NORMAL COORDINATE X AXIS(Stage3) Collect Result_Dam',\n",
       " 'HEAD NORMAL COORDINATE Y AXIS(Stage1) Collect Result_Dam',\n",
       " 'HEAD NORMAL COORDINATE Y AXIS(Stage2) Collect Result_Dam',\n",
       " 'HEAD NORMAL COORDINATE Y AXIS(Stage3) Collect Result_Dam',\n",
       " 'HEAD NORMAL COORDINATE Z AXIS(Stage1) Collect Result_Dam',\n",
       " 'HEAD NORMAL COORDINATE Z AXIS(Stage2) Collect Result_Dam',\n",
       " 'HEAD NORMAL COORDINATE Z AXIS(Stage3) Collect Result_Dam',\n",
       " 'Head Clean Position Z Collect Result_Dam',\n",
       " 'Head Purge Position Z Collect Result_Dam',\n",
       " 'Head Zero Position Y Collect Result_Dam',\n",
       " 'Head Zero Position Z Collect Result_Dam',\n",
       " 'Machine Tact time Collect Result_Dam',\n",
       " 'Stage1 Circle1 Distance Speed Collect Result_Dam',\n",
       " 'Stage1 Circle2 Distance Speed Collect Result_Dam',\n",
       " 'Stage1 Circle3 Distance Speed Collect Result_Dam',\n",
       " 'Stage1 Circle4 Distance Speed Collect Result_Dam',\n",
       " 'Stage1 Line1 Distance Speed Collect Result_Dam',\n",
       " 'Stage1 Line2 Distance Speed Collect Result_Dam',\n",
       " 'Stage1 Line3 Distance Speed Collect Result_Dam',\n",
       " 'Stage1 Line4 Distance Speed Collect Result_Dam',\n",
       " 'Stage2 Circle1 Distance Speed Collect Result_Dam',\n",
       " 'Stage2 Circle2 Distance Speed Collect Result_Dam',\n",
       " 'Stage2 Circle3 Distance Speed Collect Result_Dam',\n",
       " 'Stage2 Circle4 Distance Speed Collect Result_Dam',\n",
       " 'Stage2 Line1 Distance Speed Collect Result_Dam',\n",
       " 'Stage2 Line2 Distance Speed Collect Result_Dam',\n",
       " 'Stage2 Line3 Distance Speed Collect Result_Dam',\n",
       " 'Stage2 Line4 Distance Speed Collect Result_Dam',\n",
       " 'Stage3 Circle1 Distance Speed Collect Result_Dam',\n",
       " 'Stage3 Circle2 Distance Speed Collect Result_Dam',\n",
       " 'Stage3 Circle3 Distance Speed Collect Result_Dam',\n",
       " 'Stage3 Circle4 Distance Speed Collect Result_Dam',\n",
       " 'Stage3 Line1 Distance Speed Collect Result_Dam',\n",
       " 'Stage3 Line2 Distance Speed Collect Result_Dam',\n",
       " 'Stage3 Line3 Distance Speed Collect Result_Dam',\n",
       " 'Stage3 Line4 Distance Speed Collect Result_Dam',\n",
       " 'THICKNESS 1 Collect Result_Dam',\n",
       " 'THICKNESS 2 Collect Result_Dam',\n",
       " 'THICKNESS 3 Collect Result_Dam',\n",
       " 'WorkMode Collect Result',\n",
       " '1st Pressure Collect Result_AutoClave',\n",
       " '1st Pressure Unit Time_AutoClave',\n",
       " '2nd Pressure Collect Result_AutoClave',\n",
       " '2nd Pressure Unit Time_AutoClave',\n",
       " '3rd Pressure Collect Result_AutoClave',\n",
       " '3rd Pressure Unit Time_AutoClave',\n",
       " 'Chamber Temp. Collect Result_AutoClave',\n",
       " 'Chamber Temp. Unit Time_AutoClave',\n",
       " 'DISCHARGED SPEED OF RESIN Collect Result_Fill1',\n",
       " 'DISCHARGED TIME OF RESIN(Stage1) Collect Result_Fill1',\n",
       " 'DISCHARGED TIME OF RESIN(Stage2) Collect Result_Fill1',\n",
       " 'DISCHARGED TIME OF RESIN(Stage3) Collect Result_Fill1',\n",
       " 'Dispense Volume(Stage1) Collect Result_Fill1',\n",
       " 'Dispense Volume(Stage2) Collect Result_Fill1',\n",
       " 'Dispense Volume(Stage3) Collect Result_Fill1',\n",
       " 'HEAD NORMAL COORDINATE X AXIS(Stage1) Collect Result_Fill1',\n",
       " 'HEAD NORMAL COORDINATE X AXIS(Stage2) Collect Result_Fill1',\n",
       " 'HEAD NORMAL COORDINATE X AXIS(Stage3) Collect Result_Fill1',\n",
       " 'HEAD NORMAL COORDINATE Y AXIS(Stage1) Collect Result_Fill1',\n",
       " 'HEAD NORMAL COORDINATE Y AXIS(Stage2) Collect Result_Fill1',\n",
       " 'HEAD NORMAL COORDINATE Y AXIS(Stage3) Collect Result_Fill1',\n",
       " 'HEAD NORMAL COORDINATE Z AXIS(Stage1) Collect Result_Fill1',\n",
       " 'HEAD NORMAL COORDINATE Z AXIS(Stage2) Collect Result_Fill1',\n",
       " 'HEAD NORMAL COORDINATE Z AXIS(Stage3) Collect Result_Fill1',\n",
       " 'Head Purge Position Z Collect Result_Fill1',\n",
       " 'Machine Tact time Collect Result_Fill1',\n",
       " 'CURE END POSITION X Collect Result_Fill2',\n",
       " 'CURE END POSITION Z Collect Result_Fill2',\n",
       " 'CURE SPEED Collect Result_Fill2',\n",
       " 'CURE STANDBY POSITION Z Collect Result_Fill2',\n",
       " 'CURE START POSITION X Collect Result_Fill2',\n",
       " 'CURE START POSITION Z Collect Result_Fill2',\n",
       " 'HEAD NORMAL COORDINATE X AXIS(Stage1) Collect Result_Fill2',\n",
       " 'HEAD NORMAL COORDINATE X AXIS(Stage2) Collect Result_Fill2',\n",
       " 'HEAD NORMAL COORDINATE X AXIS(Stage3) Collect Result_Fill2',\n",
       " 'HEAD NORMAL COORDINATE Y AXIS(Stage1) Collect Result_Fill2',\n",
       " 'HEAD NORMAL COORDINATE Y AXIS(Stage2) Collect Result_Fill2',\n",
       " 'HEAD NORMAL COORDINATE Y AXIS(Stage3) Collect Result_Fill2',\n",
       " 'HEAD NORMAL COORDINATE Z AXIS(Stage1) Collect Result_Fill2',\n",
       " 'HEAD NORMAL COORDINATE Z AXIS(Stage2) Collect Result_Fill2',\n",
       " 'HEAD NORMAL COORDINATE Z AXIS(Stage3) Collect Result_Fill2',\n",
       " 'Head Purge Position Z Collect Result_Fill2',\n",
       " 'Machine Tact time Collect Result_Fill2',\n",
       " 'target',\n",
       " 'Dispenser_1',\n",
       " 'Dispenser_2',\n",
       " 'Receip_No_Collect_Result',\n",
       " 'PalletID_Collect_Result',\n",
       " 'Production_Qty_Collect_Result',\n",
       " 'Chamber_Temp_OKNG_AutoClave',\n",
       " 'Judge_Value_OK']"
      ]
     },
     "execution_count": 133,
     "metadata": {},
     "output_type": "execute_result"
    }
   ],
   "source": [
    "train_data.columns.to_list()"
   ]
  },
  {
   "cell_type": "markdown",
   "id": "e2a9465e",
   "metadata": {},
   "source": [
    "### 1. CURE"
   ]
  },
  {
   "cell_type": "code",
   "execution_count": 134,
   "id": "45bdcc9d",
   "metadata": {},
   "outputs": [
    {
     "name": "stdout",
     "output_type": "stream",
     "text": [
      "\n",
      " CURE 포함 변수>\n",
      "CURE END POSITION X Collect Result_Dam\n",
      "CURE END POSITION Z Collect Result_Dam\n",
      "CURE END POSITION Θ Collect Result_Dam\n",
      "CURE SPEED Collect Result_Dam\n",
      "CURE START POSITION X Collect Result_Dam\n",
      "CURE START POSITION Θ Collect Result_Dam\n",
      "CURE END POSITION X Collect Result_Fill2\n",
      "CURE END POSITION Z Collect Result_Fill2\n",
      "CURE SPEED Collect Result_Fill2\n",
      "CURE STANDBY POSITION Z Collect Result_Fill2\n",
      "CURE START POSITION X Collect Result_Fill2\n",
      "CURE START POSITION Z Collect Result_Fill2\n"
     ]
    }
   ],
   "source": [
    "# 'CURE'와 '_Dam'를 포함하는 열 이름 필터링\n",
    "Process_Desc_col = train_data.filter(like='CURE').columns\n",
    "\n",
    "print(\"\\n CURE 포함 변수>\")\n",
    "for col in Process_Desc_col:\n",
    "    print(col)"
   ]
  },
  {
   "cell_type": "code",
   "execution_count": 135,
   "id": "33dc2f53",
   "metadata": {},
   "outputs": [
    {
     "name": "stdout",
     "output_type": "stream",
     "text": [
      "Grouped by: Dispenser_1, Dispenser_2, CURE END POSITION Θ Collect Result_Dam, CURE START POSITION Θ Collect Result_Dam\n",
      "\n",
      "              group  'AdNormal' count     ratio  Total\n",
      "0  (0, 0, -90, -90)                19  1.000000     19\n",
      "1    (0, 0, 90, 90)                15  1.000000     15\n",
      "2    (0, 1, 90, 90)               850  0.054977  15461\n",
      "3  (1, 0, -90, -90)              1466  0.058614  25011\n"
     ]
    }
   ],
   "source": [
    "summarize_group(train_data, [\n",
    "'Dispenser_1'\n",
    ", 'Dispenser_2'\n",
    "# 'CURE END POSITION X Collect Result_Dam'\n",
    ", 'CURE END POSITION Θ Collect Result_Dam'\n",
    "# , 'CURE SPEED Collect Result_Dam'\n",
    "# , 'CURE START POSITION X Collect Result_Dam'\n",
    ", 'CURE START POSITION Θ Collect Result_Dam'\n",
    "# , 'CURE END POSITION X Collect Result_Fill2'\n",
    "# , 'CURE END POSITION Z Collect Result_Fill2'\n",
    "# , 'CURE SPEED Collect Result_Fill2'\n",
    "# , 'CURE STANDBY POSITION Z Collect Result_Fill2'\n",
    "# , 'CURE START POSITION X Collect Result_Fill2'\n",
    "# , 'CURE START POSITION Z Collect Result_Fill2'\n",
    "])"
   ]
  },
  {
   "cell_type": "markdown",
   "id": "23aff796",
   "metadata": {},
   "source": [
    "dispenser 종류에 따라 POSITION Θ 값이 따라감  \n",
    "-> drop"
   ]
  },
  {
   "cell_type": "code",
   "execution_count": 136,
   "id": "a2bcdc66",
   "metadata": {},
   "outputs": [],
   "source": [
    "# 제거할 변수 목록\n",
    "columns_to_drop = [\n",
    "    'CURE END POSITION Θ Collect Result_Dam'\n",
    "    , 'CURE START POSITION Θ Collect Result_Dam'\n",
    "]\n",
    "\n",
    "# 변수 제거\n",
    "train_data.drop(columns=columns_to_drop, inplace=True)\n",
    "test_data.drop(columns=columns_to_drop, inplace=True)"
   ]
  },
  {
   "cell_type": "code",
   "execution_count": 137,
   "id": "1b7aff20",
   "metadata": {},
   "outputs": [
    {
     "name": "stdout",
     "output_type": "stream",
     "text": [
      "\n",
      " CURE 포함 변수>\n",
      "CURE END POSITION X Collect Result_Dam\n",
      "CURE END POSITION Z Collect Result_Dam\n",
      "CURE SPEED Collect Result_Dam\n",
      "CURE START POSITION X Collect Result_Dam\n",
      "CURE END POSITION X Collect Result_Fill2\n",
      "CURE END POSITION Z Collect Result_Fill2\n",
      "CURE SPEED Collect Result_Fill2\n",
      "CURE STANDBY POSITION Z Collect Result_Fill2\n",
      "CURE START POSITION X Collect Result_Fill2\n",
      "CURE START POSITION Z Collect Result_Fill2\n"
     ]
    }
   ],
   "source": [
    "# 'CURE'를 포함하는 열 이름 필터링\n",
    "Process_Desc_col = train_data.filter(like='CURE').columns\n",
    "\n",
    "print(\"\\n CURE 포함 변수>\")\n",
    "for col in Process_Desc_col:\n",
    "    print(col)"
   ]
  },
  {
   "cell_type": "code",
   "execution_count": 138,
   "id": "61cf9dad",
   "metadata": {},
   "outputs": [
    {
     "name": "stdout",
     "output_type": "stream",
     "text": [
      "Grouped by: Dispenser_1, Dispenser_2, CURE END POSITION X Collect Result_Dam, CURE END POSITION Z Collect Result_Dam, CURE START POSITION X Collect Result_Dam\n",
      "\n",
      "                     group  'AdNormal' count     ratio  Total\n",
      "0   (0, 0, 240, 2.5, 1030)                19  1.000000     19\n",
      "1  (0, 0, 1000, 12.5, 280)                15  1.000000     15\n",
      "2  (0, 1, 1000, 12.5, 280)               850  0.054977  15461\n",
      "3   (1, 0, 240, 2.5, 1030)              1466  0.058614  25011\n"
     ]
    }
   ],
   "source": [
    "summarize_group(train_data, [\n",
    "'Dispenser_1'\n",
    ", 'Dispenser_2'\n",
    ", 'CURE END POSITION X Collect Result_Dam'\n",
    ", 'CURE END POSITION Z Collect Result_Dam'\n",
    "# , 'CURE SPEED Collect Result_Dam'\n",
    ", 'CURE START POSITION X Collect Result_Dam'\n",
    "# , 'CURE END POSITION X Collect Result_Fill2'\n",
    "# , 'CURE END POSITION Z Collect Result_Fill2'\n",
    "# , 'CURE SPEED Collect Result_Fill2'\n",
    "# , 'CURE STANDBY POSITION Z Collect Result_Fill2'\n",
    "# , 'CURE START POSITION X Collect Result_Fill2'\n",
    "# , 'CURE START POSITION Z Collect Result_Fill2'\n",
    "])"
   ]
  },
  {
   "cell_type": "markdown",
   "id": "48d641dc",
   "metadata": {},
   "source": [
    "좌표값을 통해 좌표간의 거리를 계산"
   ]
  },
  {
   "cell_type": "code",
   "execution_count": 139,
   "id": "96d3ba02",
   "metadata": {},
   "outputs": [],
   "source": [
    "# 시작 위치와 끝 위치 열 이름\n",
    "start_x_col = 'CURE START POSITION X Collect Result_Dam'\n",
    "start_z_col = 33.5\n",
    "end_x_col = 'CURE END POSITION X Collect Result_Dam'\n",
    "end_z_col = 'CURE END POSITION Z Collect Result_Dam'\n",
    "\n",
    "# 시작 위치와 끝 위치 사이의 거리 계산\n",
    "train_data['CURE_DISTANCE_Dam'] = np.sqrt(\n",
    "    (train_data[end_x_col] - train_data[start_x_col]) ** 2 +\n",
    "    (train_data[end_z_col] - start_z_col) ** 2\n",
    ")\n",
    "\n",
    "test_data['CURE_DISTANCE_Dam'] = np.sqrt(\n",
    "    (train_data[end_x_col] - train_data[start_x_col]) ** 2 +\n",
    "    (train_data[end_z_col] - start_z_col) ** 2\n",
    ")"
   ]
  },
  {
   "cell_type": "code",
   "execution_count": 140,
   "id": "a5fa846c",
   "metadata": {},
   "outputs": [],
   "source": [
    "# 시작 위치와 끝 위치 열 이름\n",
    "start_x_col = 'CURE START POSITION X Collect Result_Fill2'\n",
    "start_z_col = 'CURE START POSITION Z Collect Result_Fill2'\n",
    "end_x_col = 'CURE END POSITION X Collect Result_Fill2'\n",
    "end_z_col = 'CURE END POSITION Z Collect Result_Fill2'\n",
    "\n",
    "# 시작 위치와 끝 위치 사이의 거리 계산\n",
    "train_data['CURE_DISTANCE_Fill2'] = np.sqrt(\n",
    "    (train_data[end_x_col] - train_data[start_x_col]) ** 2 +\n",
    "    (train_data[end_z_col] - train_data[start_z_col]) ** 2\n",
    ")\n",
    "\n",
    "test_data['CURE_DISTANCE_Fill2'] = np.sqrt(\n",
    "    (train_data[end_x_col] - train_data[start_x_col]) ** 2 +\n",
    "    (train_data[end_z_col] - train_data[start_z_col]) ** 2\n",
    ")"
   ]
  },
  {
   "cell_type": "code",
   "execution_count": 141,
   "id": "fbe2fc87",
   "metadata": {},
   "outputs": [],
   "source": [
    "# 제거할 변수 목록\n",
    "columns_to_drop = [\n",
    "    'CURE START POSITION X Collect Result_Dam'\n",
    "    , 'CURE END POSITION X Collect Result_Dam'\n",
    "    , 'CURE END POSITION Z Collect Result_Dam'\n",
    "\n",
    "    , 'CURE START POSITION X Collect Result_Fill2'\n",
    "    , 'CURE START POSITION Z Collect Result_Fill2'\n",
    "    , 'CURE END POSITION X Collect Result_Fill2'\n",
    "    , 'CURE END POSITION Z Collect Result_Fill2'\n",
    "]\n",
    "\n",
    "# 변수 제거\n",
    "train_data.drop(columns=columns_to_drop, inplace=True)\n",
    "test_data.drop(columns=columns_to_drop, inplace=True)"
   ]
  },
  {
   "cell_type": "code",
   "execution_count": 142,
   "id": "2b9efd1a",
   "metadata": {},
   "outputs": [
    {
     "name": "stdout",
     "output_type": "stream",
     "text": [
      "\n",
      " CURE 포함 변수>\n",
      "CURE SPEED Collect Result_Dam\n",
      "CURE SPEED Collect Result_Fill2\n",
      "CURE STANDBY POSITION Z Collect Result_Fill2\n",
      "CURE_DISTANCE_Dam\n",
      "CURE_DISTANCE_Fill2\n"
     ]
    }
   ],
   "source": [
    "# 'CURE'를 포함하는 열 이름 필터링\n",
    "Process_Desc_col = train_data.filter(like='CURE').columns\n",
    "\n",
    "print(\"\\n CURE 포함 변수>\")\n",
    "for col in Process_Desc_col:\n",
    "    print(col)"
   ]
  },
  {
   "cell_type": "code",
   "execution_count": 143,
   "id": "46e713c2",
   "metadata": {},
   "outputs": [
    {
     "name": "stdout",
     "output_type": "stream",
     "text": [
      "Grouped by: CURE STANDBY POSITION Z Collect Result_Fill2\n",
      "\n",
      "   group  'AdNormal' count     ratio  Total\n",
      "0     22                34  0.072495    469\n",
      "1     23                22  0.107843    204\n",
      "2     32               421  0.085866   4903\n",
      "3     33              1873  0.053622  34930\n"
     ]
    }
   ],
   "source": [
    "summarize_group(train_data, [\n",
    "# 'Dispenser_1'\n",
    "# , 'Dispenser_2'\n",
    "# , 'CURE SPEED Collect Result_Dam'\n",
    "# , 'CURE SPEED Collect Result_Fill2'\n",
    " 'CURE STANDBY POSITION Z Collect Result_Fill2'\n",
    "# , 'CURE_DISTANCE_Dam'\n",
    "# , 'CURE_DISTANCE_Fill2'\n",
    "])"
   ]
  },
  {
   "cell_type": "markdown",
   "id": "cc2b3d80",
   "metadata": {},
   "source": [
    "'CURE STANDBY POSITION Z Collect Result_Fill2' 변수의 유의미함을 찾을수 x  \n",
    "다른 변수와 연결된만한것도 찾지 못함 -> drop"
   ]
  },
  {
   "cell_type": "code",
   "execution_count": 144,
   "id": "dc313406",
   "metadata": {},
   "outputs": [],
   "source": [
    "# 제거할 변수 목록\n",
    "columns_to_drop = ['CURE STANDBY POSITION Z Collect Result_Fill2']\n",
    "\n",
    "# 변수 제거\n",
    "train_data.drop(columns=columns_to_drop, inplace=True)\n",
    "test_data.drop(columns=columns_to_drop, inplace=True)"
   ]
  },
  {
   "cell_type": "code",
   "execution_count": 145,
   "id": "50fe7e4f",
   "metadata": {},
   "outputs": [
    {
     "name": "stdout",
     "output_type": "stream",
     "text": [
      "\n",
      " CURE 포함 변수>\n",
      "CURE SPEED Collect Result_Dam\n",
      "CURE SPEED Collect Result_Fill2\n",
      "CURE_DISTANCE_Dam\n",
      "CURE_DISTANCE_Fill2\n"
     ]
    }
   ],
   "source": [
    "# 'CURE'를 포함하는 열 이름 필터링\n",
    "Process_Desc_col = train_data.filter(like='CURE').columns\n",
    "\n",
    "print(\"\\n CURE 포함 변수>\")\n",
    "for col in Process_Desc_col:\n",
    "    print(col)"
   ]
  },
  {
   "cell_type": "code",
   "execution_count": 146,
   "id": "18af7bfb",
   "metadata": {},
   "outputs": [
    {
     "name": "stdout",
     "output_type": "stream",
     "text": [
      "Grouped by: Dispenser_1, Dispenser_2, CURE_DISTANCE_Dam, CURE_DISTANCE_Fill2\n",
      "\n",
      "                                          group  'AdNormal' count     ratio  \\\n",
      "0              (0, 0, 720.3061848963953, 780.0)                15  1.000000   \n",
      "1               (0, 0, 790.607993888248, 780.0)                19  1.000000   \n",
      "2              (0, 1, 720.3061848963953, 780.0)               827  0.054645   \n",
      "3  (0, 1, 720.3061848963953, 780.0006410253776)                23  0.070552   \n",
      "4  (0, 1, 720.3061848963953, 780.0775602464155)                 0  0.000000   \n",
      "5               (1, 0, 790.607993888248, 780.0)              1129  0.054418   \n",
      "6   (1, 0, 790.607993888248, 780.0006410253776)               286  0.077591   \n",
      "7   (1, 0, 790.607993888248, 780.0640999302557)                51  0.088235   \n",
      "\n",
      "   Total  \n",
      "0     15  \n",
      "1     19  \n",
      "2  15134  \n",
      "3    326  \n",
      "4      1  \n",
      "5  20747  \n",
      "6   3686  \n",
      "7    578  \n"
     ]
    }
   ],
   "source": [
    "summarize_group(train_data, [\n",
    "'Dispenser_1'\n",
    ", 'Dispenser_2'\n",
    "# , 'CURE SPEED Collect Result_Dam'\n",
    "# , 'CURE SPEED Collect Result_Fill2'\n",
    ", 'CURE_DISTANCE_Dam'\n",
    ", 'CURE_DISTANCE_Fill2'\n",
    "])"
   ]
  },
  {
   "cell_type": "markdown",
   "id": "340dbf40",
   "metadata": {},
   "source": [
    "거리의 차이에 따라 ratio 값 변화 크지 x"
   ]
  },
  {
   "cell_type": "code",
   "execution_count": 147,
   "id": "c26ff29b",
   "metadata": {},
   "outputs": [],
   "source": [
    "# 거리 / 속도 -> 시간 파생 변수 생성\n",
    "train_data['CURE_Time_Dam']  = train_data['CURE_DISTANCE_Dam'] / train_data['CURE SPEED Collect Result_Dam']\n",
    "test_data['CURE_Time_Dam']  = test_data['CURE_DISTANCE_Dam'] / test_data['CURE SPEED Collect Result_Dam']\n",
    "\n",
    "train_data['CURE_Time_Fill2']  = train_data['CURE_DISTANCE_Fill2'] / train_data['CURE SPEED Collect Result_Fill2']\n",
    "test_data['CURE_Time_Fill2']  = test_data['CURE_DISTANCE_Fill2'] / test_data['CURE SPEED Collect Result_Fill2']"
   ]
  },
  {
   "cell_type": "code",
   "execution_count": 148,
   "id": "48b4c8c0",
   "metadata": {},
   "outputs": [
    {
     "name": "stdout",
     "output_type": "stream",
     "text": [
      "\n",
      " CURE 포함 변수>\n",
      "CURE SPEED Collect Result_Dam\n",
      "CURE SPEED Collect Result_Fill2\n",
      "CURE_DISTANCE_Dam\n",
      "CURE_DISTANCE_Fill2\n",
      "CURE_Time_Dam\n",
      "CURE_Time_Fill2\n"
     ]
    }
   ],
   "source": [
    "# 'CURE'를 포함하는 열 이름 필터링\n",
    "Process_Desc_col = train_data.filter(like='CURE').columns\n",
    "\n",
    "print(\"\\n CURE 포함 변수>\")\n",
    "for col in Process_Desc_col:\n",
    "    print(col)"
   ]
  },
  {
   "cell_type": "code",
   "execution_count": 149,
   "id": "4195b534",
   "metadata": {},
   "outputs": [],
   "source": [
    "# 제거할 변수 목록\n",
    "columns_to_drop = [\n",
    "    'CURE_DISTANCE_Dam'\n",
    "    , 'CURE SPEED Collect Result_Dam'\n",
    "    , 'CURE_DISTANCE_Fill2'\n",
    "    , 'CURE SPEED Collect Result_Fill2'\n",
    "]\n",
    "\n",
    "# 변수 제거\n",
    "train_data.drop(columns=columns_to_drop, inplace=True)\n",
    "test_data.drop(columns=columns_to_drop, inplace=True)"
   ]
  },
  {
   "cell_type": "code",
   "execution_count": 150,
   "id": "2d0840f4",
   "metadata": {},
   "outputs": [
    {
     "name": "stdout",
     "output_type": "stream",
     "text": [
      "\n",
      " CURE 포함 변수>\n",
      "CURE_Time_Dam\n",
      "CURE_Time_Fill2\n"
     ]
    }
   ],
   "source": [
    "# 'CURE'를 포함하는 열 이름 필터링\n",
    "Process_Desc_col = train_data.filter(like='CURE').columns\n",
    "\n",
    "print(\"\\n CURE 포함 변수>\")\n",
    "for col in Process_Desc_col:\n",
    "    print(col)"
   ]
  },
  {
   "cell_type": "markdown",
   "id": "8caac149",
   "metadata": {},
   "source": [
    "### 2. HEAD NORMAL COORDINATE"
   ]
  },
  {
   "cell_type": "code",
   "execution_count": 151,
   "id": "39a38fc8",
   "metadata": {},
   "outputs": [
    {
     "name": "stdout",
     "output_type": "stream",
     "text": [
      "\n",
      " HEAD NORMAL COORDINATE 포함 변수>\n",
      "HEAD NORMAL COORDINATE X AXIS(Stage1) Collect Result_Dam\n",
      "HEAD NORMAL COORDINATE X AXIS(Stage2) Collect Result_Dam\n",
      "HEAD NORMAL COORDINATE X AXIS(Stage3) Collect Result_Dam\n",
      "HEAD NORMAL COORDINATE Y AXIS(Stage1) Collect Result_Dam\n",
      "HEAD NORMAL COORDINATE Y AXIS(Stage2) Collect Result_Dam\n",
      "HEAD NORMAL COORDINATE Y AXIS(Stage3) Collect Result_Dam\n",
      "HEAD NORMAL COORDINATE Z AXIS(Stage1) Collect Result_Dam\n",
      "HEAD NORMAL COORDINATE Z AXIS(Stage2) Collect Result_Dam\n",
      "HEAD NORMAL COORDINATE Z AXIS(Stage3) Collect Result_Dam\n",
      "HEAD NORMAL COORDINATE X AXIS(Stage1) Collect Result_Fill1\n",
      "HEAD NORMAL COORDINATE X AXIS(Stage2) Collect Result_Fill1\n",
      "HEAD NORMAL COORDINATE X AXIS(Stage3) Collect Result_Fill1\n",
      "HEAD NORMAL COORDINATE Y AXIS(Stage1) Collect Result_Fill1\n",
      "HEAD NORMAL COORDINATE Y AXIS(Stage2) Collect Result_Fill1\n",
      "HEAD NORMAL COORDINATE Y AXIS(Stage3) Collect Result_Fill1\n",
      "HEAD NORMAL COORDINATE Z AXIS(Stage1) Collect Result_Fill1\n",
      "HEAD NORMAL COORDINATE Z AXIS(Stage2) Collect Result_Fill1\n",
      "HEAD NORMAL COORDINATE Z AXIS(Stage3) Collect Result_Fill1\n",
      "HEAD NORMAL COORDINATE X AXIS(Stage1) Collect Result_Fill2\n",
      "HEAD NORMAL COORDINATE X AXIS(Stage2) Collect Result_Fill2\n",
      "HEAD NORMAL COORDINATE X AXIS(Stage3) Collect Result_Fill2\n",
      "HEAD NORMAL COORDINATE Y AXIS(Stage1) Collect Result_Fill2\n",
      "HEAD NORMAL COORDINATE Y AXIS(Stage2) Collect Result_Fill2\n",
      "HEAD NORMAL COORDINATE Y AXIS(Stage3) Collect Result_Fill2\n",
      "HEAD NORMAL COORDINATE Z AXIS(Stage1) Collect Result_Fill2\n",
      "HEAD NORMAL COORDINATE Z AXIS(Stage2) Collect Result_Fill2\n",
      "HEAD NORMAL COORDINATE Z AXIS(Stage3) Collect Result_Fill2\n"
     ]
    }
   ],
   "source": [
    "# 'HEAD NORMAL COORDINATE'를 포함하는 열 이름 필터링\n",
    "Process_Desc_col = train_data.filter(like='HEAD NORMAL COORDINATE').columns\n",
    "\n",
    "print(\"\\n HEAD NORMAL COORDINATE 포함 변수>\")\n",
    "for col in Process_Desc_col:\n",
    "    print(col)"
   ]
  },
  {
   "cell_type": "code",
   "execution_count": 152,
   "id": "acc3e7ed",
   "metadata": {},
   "outputs": [],
   "source": [
    "# 각 스테이지의 좌표 열 정의\n",
    "stage1_cols = ['HEAD NORMAL COORDINATE X AXIS(Stage1) Collect Result_Dam',\n",
    "               'HEAD NORMAL COORDINATE Y AXIS(Stage1) Collect Result_Dam',\n",
    "               'HEAD NORMAL COORDINATE Z AXIS(Stage1) Collect Result_Dam']\n",
    "\n",
    "stage2_cols = ['HEAD NORMAL COORDINATE X AXIS(Stage2) Collect Result_Dam',\n",
    "               'HEAD NORMAL COORDINATE Y AXIS(Stage2) Collect Result_Dam',\n",
    "               'HEAD NORMAL COORDINATE Z AXIS(Stage2) Collect Result_Dam']\n",
    "\n",
    "stage3_cols = ['HEAD NORMAL COORDINATE X AXIS(Stage3) Collect Result_Dam',\n",
    "               'HEAD NORMAL COORDINATE Y AXIS(Stage3) Collect Result_Dam',\n",
    "               'HEAD NORMAL COORDINATE Z AXIS(Stage3) Collect Result_Dam']\n",
    "\n",
    "# 거리 계산 함수\n",
    "def calculate_distances(data):\n",
    "    data['HEAD NORMAL DISTANCE_STAGE1_STAGE2_Dam'] = np.sqrt(\n",
    "        (data[stage2_cols[0]] - data[stage1_cols[0]]) ** 2 +\n",
    "        (data[stage2_cols[1]] - data[stage1_cols[1]]) ** 2 +\n",
    "        (data[stage2_cols[2]] - data[stage1_cols[2]]) ** 2\n",
    "    )\n",
    "\n",
    "    data['HEAD NORMAL DISTANCE_STAGE2_STAGE3_Dam'] = np.sqrt(\n",
    "        (data[stage3_cols[0]] - data[stage2_cols[0]]) ** 2 +\n",
    "        (data[stage3_cols[1]] - data[stage2_cols[1]]) ** 2 +\n",
    "        (data[stage3_cols[2]] - data[stage2_cols[2]]) ** 2\n",
    "    )\n",
    "\n",
    "    data['HEAD NORMAL DISTANCE_STAGE1_STAGE3_Dam'] = np.sqrt(\n",
    "        (data[stage3_cols[0]] - data[stage1_cols[0]]) ** 2 +\n",
    "        (data[stage3_cols[1]] - data[stage1_cols[1]]) ** 2 +\n",
    "        (data[stage3_cols[2]] - data[stage1_cols[2]]) ** 2\n",
    "    )\n",
    "\n",
    "    return data\n",
    "\n",
    "# train_data에 적용\n",
    "train_data = calculate_distances(train_data)\n",
    "\n",
    "# test_data에 적용\n",
    "test_data = calculate_distances(test_data)"
   ]
  },
  {
   "cell_type": "code",
   "execution_count": 153,
   "id": "287f0c97",
   "metadata": {},
   "outputs": [],
   "source": [
    "# 필요한 열 이름\n",
    "stage1_stage2_col = 'HEAD NORMAL DISTANCE_STAGE1_STAGE2_Dam'\n",
    "stage2_stage3_col = 'HEAD NORMAL DISTANCE_STAGE2_STAGE3_Dam'\n",
    "stage1_stage3_col = 'HEAD NORMAL DISTANCE_STAGE1_STAGE3_Dam'\n",
    "\n",
    "# 삼각형의 넓이와 높이를 계산하는 함수\n",
    "def calculate_triangle_features(data):\n",
    "    a = data[stage1_stage2_col]\n",
    "    b = data[stage2_stage3_col]\n",
    "    c = data[stage1_stage3_col]\n",
    "\n",
    "    # 헤론의 공식에 따른 삼각형의 넓이 계산\n",
    "    s = (a + b + c) / 2\n",
    "    area = np.sqrt(s * (s - a) * (s - b) * (s - c))\n",
    "\n",
    "    # 높이 계산 (밑변을 c로 가정)\n",
    "    height = (2 * area) / c\n",
    "\n",
    "    # 결과를 새로운 열에 저장\n",
    "    # data['HEAD NORMAL DISTANCE_TRIANGLE_area_Dam'] = area\n",
    "    data['HEAD NORMAL DISTANCE_TRIANGLE_height_Dam'] = height\n",
    "\n",
    "    return data\n",
    "\n",
    "# train_data에 적용\n",
    "train_data = calculate_triangle_features(train_data)\n",
    "\n",
    "# test_data에 적용\n",
    "test_data = calculate_triangle_features(test_data)"
   ]
  },
  {
   "cell_type": "code",
   "execution_count": 154,
   "id": "efb87f49",
   "metadata": {},
   "outputs": [],
   "source": [
    "# 제거할 변수 목록\n",
    "columns_to_drop = [\n",
    "    'HEAD NORMAL COORDINATE X AXIS(Stage1) Collect Result_Dam'\n",
    "    , 'HEAD NORMAL COORDINATE Y AXIS(Stage1) Collect Result_Dam'\n",
    "    , 'HEAD NORMAL COORDINATE Z AXIS(Stage1) Collect Result_Dam'\n",
    "\n",
    "    , 'HEAD NORMAL COORDINATE X AXIS(Stage2) Collect Result_Dam'\n",
    "    , 'HEAD NORMAL COORDINATE Y AXIS(Stage2) Collect Result_Dam'\n",
    "    , 'HEAD NORMAL COORDINATE Z AXIS(Stage2) Collect Result_Dam'\n",
    "\n",
    "    , 'HEAD NORMAL COORDINATE X AXIS(Stage3) Collect Result_Dam'\n",
    "    , 'HEAD NORMAL COORDINATE Y AXIS(Stage3) Collect Result_Dam'\n",
    "    , 'HEAD NORMAL COORDINATE Z AXIS(Stage3) Collect Result_Dam'\n",
    "]\n",
    "\n",
    "# 변수 제거\n",
    "train_data.drop(columns=columns_to_drop, inplace=True)\n",
    "test_data.drop(columns=columns_to_drop, inplace=True)"
   ]
  },
  {
   "cell_type": "code",
   "execution_count": 155,
   "id": "dd662cf0",
   "metadata": {},
   "outputs": [],
   "source": [
    "# 각 스테이지의 좌표 열 정의\n",
    "stage1_cols = ['HEAD NORMAL COORDINATE X AXIS(Stage1) Collect Result_Fill1',\n",
    "               'HEAD NORMAL COORDINATE Y AXIS(Stage1) Collect Result_Fill1',\n",
    "               'HEAD NORMAL COORDINATE Z AXIS(Stage1) Collect Result_Fill1']\n",
    "\n",
    "stage2_cols = ['HEAD NORMAL COORDINATE X AXIS(Stage2) Collect Result_Fill1',\n",
    "               'HEAD NORMAL COORDINATE Y AXIS(Stage2) Collect Result_Fill1',\n",
    "               'HEAD NORMAL COORDINATE Z AXIS(Stage2) Collect Result_Fill1']\n",
    "\n",
    "stage3_cols = ['HEAD NORMAL COORDINATE X AXIS(Stage3) Collect Result_Fill1',\n",
    "               'HEAD NORMAL COORDINATE Y AXIS(Stage3) Collect Result_Fill1',\n",
    "               'HEAD NORMAL COORDINATE Z AXIS(Stage3) Collect Result_Fill1']\n",
    "\n",
    "# 거리 계산 함수\n",
    "def calculate_distances(data):\n",
    "    data['HEAD NORMAL DISTANCE_STAGE1_STAGE2_Fill1'] = np.sqrt(\n",
    "        (data[stage2_cols[0]] - data[stage1_cols[0]]) ** 2 +\n",
    "        (data[stage2_cols[1]] - data[stage1_cols[1]]) ** 2 +\n",
    "        (data[stage2_cols[2]] - data[stage1_cols[2]]) ** 2\n",
    "    )\n",
    "\n",
    "    data['HEAD NORMAL DISTANCE_STAGE2_STAGE3_Fill1'] = np.sqrt(\n",
    "        (data[stage3_cols[0]] - data[stage2_cols[0]]) ** 2 +\n",
    "        (data[stage3_cols[1]] - data[stage2_cols[1]]) ** 2 +\n",
    "        (data[stage3_cols[2]] - data[stage2_cols[2]]) ** 2\n",
    "    )\n",
    "\n",
    "    data['HEAD NORMAL DISTANCE_STAGE1_STAGE3_Fill1'] = np.sqrt(\n",
    "        (data[stage3_cols[0]] - data[stage1_cols[0]]) ** 2 +\n",
    "        (data[stage3_cols[1]] - data[stage1_cols[1]]) ** 2 +\n",
    "        (data[stage3_cols[2]] - data[stage1_cols[2]]) ** 2\n",
    "    )\n",
    "\n",
    "    return data\n",
    "\n",
    "# train_data에 적용\n",
    "train_data = calculate_distances(train_data)\n",
    "\n",
    "# test_data에 적용\n",
    "test_data = calculate_distances(test_data)"
   ]
  },
  {
   "cell_type": "code",
   "execution_count": 156,
   "id": "f9fb0580",
   "metadata": {},
   "outputs": [],
   "source": [
    "# 필요한 열 이름\n",
    "stage1_stage2_col = 'HEAD NORMAL DISTANCE_STAGE1_STAGE2_Fill1'\n",
    "stage2_stage3_col = 'HEAD NORMAL DISTANCE_STAGE2_STAGE3_Fill1'\n",
    "stage1_stage3_col = 'HEAD NORMAL DISTANCE_STAGE1_STAGE3_Fill1'\n",
    "\n",
    "# 삼각형의 넓이와 높이를 계산하는 함수\n",
    "def calculate_triangle_features(data):\n",
    "    a = data[stage1_stage2_col]\n",
    "    b = data[stage2_stage3_col]\n",
    "    c = data[stage1_stage3_col]\n",
    "\n",
    "    # 헤론의 공식에 따른 삼각형의 넓이 계산\n",
    "    s = (a + b + c) / 2\n",
    "    area = np.sqrt(s * (s - a) * (s - b) * (s - c))\n",
    "\n",
    "    # 높이 계산 (밑변을 c로 가정)\n",
    "    height = (2 * area) / c\n",
    "\n",
    "    # 결과를 새로운 열에 저장\n",
    "    # data['HEAD NORMAL DISTANCE_TRIANGLE_area_Fill1'] = area\n",
    "    data['HEAD NORMAL DISTANCE_TRIANGLE_height_Fill1'] = height\n",
    "\n",
    "    return data\n",
    "\n",
    "# train_data에 적용\n",
    "train_data = calculate_triangle_features(train_data)\n",
    "\n",
    "# test_data에 적용\n",
    "test_data = calculate_triangle_features(test_data)"
   ]
  },
  {
   "cell_type": "code",
   "execution_count": 157,
   "id": "0df37c1f",
   "metadata": {},
   "outputs": [],
   "source": [
    "# 제거할 변수 목록\n",
    "columns_to_drop = [\n",
    "    'HEAD NORMAL COORDINATE X AXIS(Stage1) Collect Result_Fill1'\n",
    "    , 'HEAD NORMAL COORDINATE Y AXIS(Stage1) Collect Result_Fill1'\n",
    "    , 'HEAD NORMAL COORDINATE Z AXIS(Stage1) Collect Result_Fill1'\n",
    "\n",
    "    , 'HEAD NORMAL COORDINATE X AXIS(Stage2) Collect Result_Fill1'\n",
    "    , 'HEAD NORMAL COORDINATE Y AXIS(Stage2) Collect Result_Fill1'\n",
    "    , 'HEAD NORMAL COORDINATE Z AXIS(Stage2) Collect Result_Fill1'\n",
    "\n",
    "    , 'HEAD NORMAL COORDINATE X AXIS(Stage3) Collect Result_Fill1'\n",
    "    , 'HEAD NORMAL COORDINATE Y AXIS(Stage3) Collect Result_Fill1'\n",
    "    , 'HEAD NORMAL COORDINATE Z AXIS(Stage3) Collect Result_Fill1'\n",
    "]\n",
    "\n",
    "# 변수 제거\n",
    "train_data.drop(columns=columns_to_drop, inplace=True)\n",
    "test_data.drop(columns=columns_to_drop, inplace=True)"
   ]
  },
  {
   "cell_type": "code",
   "execution_count": 158,
   "id": "ac6abb70",
   "metadata": {},
   "outputs": [],
   "source": [
    "import numpy as np\n",
    "\n",
    "# 각 스테이지의 좌표 열 정의\n",
    "stage1_cols = ['HEAD NORMAL COORDINATE X AXIS(Stage1) Collect Result_Fill2',\n",
    "               'HEAD NORMAL COORDINATE Y AXIS(Stage1) Collect Result_Fill2',\n",
    "               'HEAD NORMAL COORDINATE Z AXIS(Stage1) Collect Result_Fill2']\n",
    "\n",
    "stage2_cols = ['HEAD NORMAL COORDINATE X AXIS(Stage2) Collect Result_Fill2',\n",
    "               'HEAD NORMAL COORDINATE Y AXIS(Stage2) Collect Result_Fill2',\n",
    "               'HEAD NORMAL COORDINATE Z AXIS(Stage2) Collect Result_Fill2']\n",
    "\n",
    "stage3_cols = ['HEAD NORMAL COORDINATE X AXIS(Stage3) Collect Result_Fill2',\n",
    "               'HEAD NORMAL COORDINATE Y AXIS(Stage3) Collect Result_Fill2',\n",
    "               'HEAD NORMAL COORDINATE Z AXIS(Stage3) Collect Result_Fill2']\n",
    "\n",
    "# 거리 계산 함수\n",
    "def calculate_distances(data):\n",
    "    data['HEAD NORMAL DISTANCE_STAGE1_STAGE2_Fill2'] = np.sqrt(\n",
    "        (data[stage2_cols[0]] - data[stage1_cols[0]]) ** 2 +\n",
    "        (data[stage2_cols[1]] - data[stage1_cols[1]]) ** 2 +\n",
    "        (data[stage2_cols[2]] - data[stage1_cols[2]]) ** 2\n",
    "    )\n",
    "\n",
    "    data['HEAD NORMAL DISTANCE_STAGE2_STAGE3_Fill2'] = np.sqrt(\n",
    "        (data[stage3_cols[0]] - data[stage2_cols[0]]) ** 2 +\n",
    "        (data[stage3_cols[1]] - data[stage2_cols[1]]) ** 2 +\n",
    "        (data[stage3_cols[2]] - data[stage2_cols[2]]) ** 2\n",
    "    )\n",
    "\n",
    "    data['HEAD NORMAL DISTANCE_STAGE1_STAGE3_Fill2'] = np.sqrt(\n",
    "        (data[stage3_cols[0]] - data[stage1_cols[0]]) ** 2 +\n",
    "        (data[stage3_cols[1]] - data[stage1_cols[1]]) ** 2 +\n",
    "        (data[stage3_cols[2]] - data[stage1_cols[2]]) ** 2\n",
    "    )\n",
    "\n",
    "    return data\n",
    "\n",
    "# train_data에 적용\n",
    "train_data = calculate_distances(train_data)\n",
    "\n",
    "# test_data에 적용\n",
    "test_data = calculate_distances(test_data)"
   ]
  },
  {
   "cell_type": "code",
   "execution_count": 159,
   "id": "4c4cf668",
   "metadata": {},
   "outputs": [],
   "source": [
    "# 제거할 변수 목록\n",
    "columns_to_drop = [\n",
    "    'HEAD NORMAL COORDINATE X AXIS(Stage1) Collect Result_Fill2'\n",
    "    , 'HEAD NORMAL COORDINATE Y AXIS(Stage1) Collect Result_Fill2'\n",
    "    , 'HEAD NORMAL COORDINATE Z AXIS(Stage1) Collect Result_Fill2'\n",
    "\n",
    "    , 'HEAD NORMAL COORDINATE X AXIS(Stage2) Collect Result_Fill2'\n",
    "    , 'HEAD NORMAL COORDINATE Y AXIS(Stage2) Collect Result_Fill2'\n",
    "    , 'HEAD NORMAL COORDINATE Z AXIS(Stage2) Collect Result_Fill2'\n",
    "\n",
    "    , 'HEAD NORMAL COORDINATE X AXIS(Stage3) Collect Result_Fill2'\n",
    "    , 'HEAD NORMAL COORDINATE Y AXIS(Stage3) Collect Result_Fill2'\n",
    "    , 'HEAD NORMAL COORDINATE Z AXIS(Stage3) Collect Result_Fill2'\n",
    "]\n",
    "\n",
    "# 변수 제거\n",
    "train_data.drop(columns=columns_to_drop, inplace=True)\n",
    "test_data.drop(columns=columns_to_drop, inplace=True)"
   ]
  },
  {
   "cell_type": "code",
   "execution_count": 160,
   "id": "9688a787",
   "metadata": {},
   "outputs": [
    {
     "name": "stdout",
     "output_type": "stream",
     "text": [
      "\n",
      " HEAD NORMAL 포함 변수>\n",
      "HEAD NORMAL DISTANCE_STAGE1_STAGE2_Dam\n",
      "HEAD NORMAL DISTANCE_STAGE2_STAGE3_Dam\n",
      "HEAD NORMAL DISTANCE_STAGE1_STAGE3_Dam\n",
      "HEAD NORMAL DISTANCE_TRIANGLE_height_Dam\n",
      "HEAD NORMAL DISTANCE_STAGE1_STAGE2_Fill1\n",
      "HEAD NORMAL DISTANCE_STAGE2_STAGE3_Fill1\n",
      "HEAD NORMAL DISTANCE_STAGE1_STAGE3_Fill1\n",
      "HEAD NORMAL DISTANCE_TRIANGLE_height_Fill1\n",
      "HEAD NORMAL DISTANCE_STAGE1_STAGE2_Fill2\n",
      "HEAD NORMAL DISTANCE_STAGE2_STAGE3_Fill2\n",
      "HEAD NORMAL DISTANCE_STAGE1_STAGE3_Fill2\n"
     ]
    }
   ],
   "source": [
    "# 'HEAD NORMAL'를 포함하는 열 이름 필터링\n",
    "Process_Desc_col = train_data.filter(like='HEAD NORMAL').columns\n",
    "\n",
    "print(\"\\n HEAD NORMAL 포함 변수>\")\n",
    "for col in Process_Desc_col:\n",
    "    print(col)"
   ]
  },
  {
   "cell_type": "code",
   "execution_count": 161,
   "id": "47c86049",
   "metadata": {},
   "outputs": [],
   "source": [
    "# 삭제할 열 이름 정의\n",
    "columns_to_drop = [\n",
    "    'HEAD NORMAL DISTANCE_STAGE1_STAGE2_Dam'\n",
    "    , 'HEAD NORMAL DISTANCE_STAGE2_STAGE3_Dam'\n",
    "    # , 'HEAD NORMAL DISTANCE_STAGE1_STAGE3_Dam'\n",
    "\n",
    "    , 'HEAD NORMAL DISTANCE_STAGE1_STAGE2_Fill1'\n",
    "    , 'HEAD NORMAL DISTANCE_STAGE2_STAGE3_Fill1'\n",
    "    # , 'HEAD NORMAL DISTANCE_STAGE1_STAGE3_Fill1'\n",
    "\n",
    "    # , 'HEAD NORMAL DISTANCE_STAGE1_STAGE2_Fill2'\n",
    "    # , 'HEAD NORMAL DISTANCE_STAGE2_STAGE3_Fill2'\n",
    "    # , 'HEAD NORMAL DISTANCE_STAGE1_STAGE3_Fill2'\n",
    "]\n",
    "\n",
    "# train_data에서 열 삭제\n",
    "train_data = train_data.drop(columns=columns_to_drop)\n",
    "\n",
    "# test_data에서 열 삭제\n",
    "test_data = test_data.drop(columns=columns_to_drop)"
   ]
  },
  {
   "cell_type": "code",
   "execution_count": 162,
   "id": "0fa789f2",
   "metadata": {},
   "outputs": [
    {
     "name": "stdout",
     "output_type": "stream",
     "text": [
      "\n",
      " HEAD NORMAL 포함 변수>\n",
      "HEAD NORMAL DISTANCE_STAGE1_STAGE3_Dam\n",
      "HEAD NORMAL DISTANCE_TRIANGLE_height_Dam\n",
      "HEAD NORMAL DISTANCE_STAGE1_STAGE3_Fill1\n",
      "HEAD NORMAL DISTANCE_TRIANGLE_height_Fill1\n",
      "HEAD NORMAL DISTANCE_STAGE1_STAGE2_Fill2\n",
      "HEAD NORMAL DISTANCE_STAGE2_STAGE3_Fill2\n",
      "HEAD NORMAL DISTANCE_STAGE1_STAGE3_Fill2\n"
     ]
    }
   ],
   "source": [
    "# 'HEAD NORMAL'를 포함하는 열 이름 필터링\n",
    "Process_Desc_col = train_data.filter(like='HEAD NORMAL').columns\n",
    "\n",
    "print(\"\\n HEAD NORMAL 포함 변수>\")\n",
    "for col in Process_Desc_col:\n",
    "    print(col)"
   ]
  },
  {
   "cell_type": "markdown",
   "id": "c333a2e0",
   "metadata": {},
   "source": [
    "### 3. RESIN(처리x)"
   ]
  },
  {
   "cell_type": "code",
   "execution_count": 163,
   "id": "91c64cbe",
   "metadata": {},
   "outputs": [
    {
     "name": "stdout",
     "output_type": "stream",
     "text": [
      "\n",
      "'RESIN' 또는 'Dispense Volume' 포함 변수>\n",
      "DISCHARGED SPEED OF RESIN Collect Result_Dam\n",
      "DISCHARGED TIME OF RESIN(Stage1) Collect Result_Dam\n",
      "DISCHARGED TIME OF RESIN(Stage2) Collect Result_Dam\n",
      "DISCHARGED TIME OF RESIN(Stage3) Collect Result_Dam\n",
      "Dispense Volume(Stage1) Collect Result_Dam\n",
      "Dispense Volume(Stage2) Collect Result_Dam\n",
      "Dispense Volume(Stage3) Collect Result_Dam\n",
      "DISCHARGED SPEED OF RESIN Collect Result_Fill1\n",
      "DISCHARGED TIME OF RESIN(Stage1) Collect Result_Fill1\n",
      "DISCHARGED TIME OF RESIN(Stage2) Collect Result_Fill1\n",
      "DISCHARGED TIME OF RESIN(Stage3) Collect Result_Fill1\n",
      "Dispense Volume(Stage1) Collect Result_Fill1\n",
      "Dispense Volume(Stage2) Collect Result_Fill1\n",
      "Dispense Volume(Stage3) Collect Result_Fill1\n"
     ]
    }
   ],
   "source": [
    "# 'RESIN' 또는 'Dispense Volume'을 포함하는 열 이름 필터링\n",
    "Process_Desc_col = train_data.filter(regex='RESIN|Dispense Volume').columns\n",
    "\n",
    "print(\"\\n'RESIN' 또는 'Dispense Volume' 포함 변수>\")\n",
    "for col in Process_Desc_col:\n",
    "    print(col)"
   ]
  },
  {
   "cell_type": "code",
   "execution_count": 164,
   "id": "4652063e",
   "metadata": {},
   "outputs": [
    {
     "name": "stdout",
     "output_type": "stream",
     "text": [
      "Grouped by: Dispense Volume(Stage1) Collect Result_Dam, Dispense Volume(Stage2) Collect Result_Dam, Dispense Volume(Stage3) Collect Result_Dam\n",
      "\n",
      "                  group  'AdNormal' count     ratio  Total\n",
      "0    (0.67, 0.26, 1.49)                 8  0.075472    106\n",
      "1    (0.67, 0.27, 1.49)               277  0.086293   3210\n",
      "2    (0.67, 0.28, 1.49)                 0  0.000000      2\n",
      "3    (0.67, 0.33, 1.49)                51  0.099415    513\n",
      "4    (0.67, 0.34, 1.49)               467  0.082276   5676\n",
      "..                  ...               ...       ...    ...\n",
      "155  (1.63, 0.92, 1.49)                41  0.048810    840\n",
      "156  (1.63, 0.93, 1.49)                46  0.080844    569\n",
      "157  (1.63, 0.94, 1.49)                34  0.068273    498\n",
      "158  (2.34, 0.71, 1.49)                 0  0.000000      1\n",
      "159  (2.34, 0.72, 1.49)                 0  0.000000      3\n",
      "\n",
      "[160 rows x 4 columns]\n"
     ]
    }
   ],
   "source": [
    "summarize_group(train_data, [\n",
    "# 'Dispenser_1'\n",
    "# , 'Dispenser_2'\n",
    "# , 'DISCHARGED SPEED OF RESIN Collect Result_Dam'\n",
    "# , 'DISCHARGED TIME OF RESIN(Stage1) Collect Result_Dam'\n",
    "# , 'DISCHARGED TIME OF RESIN(Stage2) Collect Result_Dam'\n",
    "# , 'DISCHARGED TIME OF RESIN(Stage3) Collect Result_Dam'\n",
    " 'Dispense Volume(Stage1) Collect Result_Dam'\n",
    ", 'Dispense Volume(Stage2) Collect Result_Dam'\n",
    ", 'Dispense Volume(Stage3) Collect Result_Dam'\n",
    "# , 'DISCHARGED SPEED OF RESIN Collect Result_Fill1'\n",
    "# , 'DISCHARGED TIME OF RESIN(Stage1) Collect Result_Fill1'\n",
    "# , 'DISCHARGED TIME OF RESIN(Stage2) Collect Result_Fill1'\n",
    "# , 'DISCHARGED TIME OF RESIN(Stage3) Collect Result_Fill1'\n",
    "# , 'Dispense Volume(Stage1) Collect Result_Fill1'\n",
    "# , 'Dispense Volume(Stage2) Collect Result_Fill1'\n",
    "# , 'Dispense Volume(Stage3) Collect Result_Fill1'\n",
    "])"
   ]
  },
  {
   "cell_type": "code",
   "execution_count": 165,
   "id": "b1d5d93e",
   "metadata": {},
   "outputs": [],
   "source": [
    "# # 파생 변수 생성 함수\n",
    "# def create_time_speed_product(df):\n",
    "#     stages = ['Stage1', 'Stage2', 'Stage3']\n",
    "#     for stage in stages:\n",
    "#         time_col = f'DISCHARGED TIME OF RESIN({stage}) Collect Result_Dam'\n",
    "#         speed_col = 'DISCHARGED SPEED OF RESIN Collect Result_Dam'\n",
    "#         new_col_name = f'RESIN Time_x_Speed_{stage}_Dam'\n",
    "#         df[new_col_name] = df[time_col] * df[speed_col]\n",
    "\n",
    "# # 함수 적용\n",
    "# create_time_speed_product(train_data)\n",
    "# create_time_speed_product(test_data)"
   ]
  },
  {
   "cell_type": "code",
   "execution_count": 166,
   "id": "0ebb3079",
   "metadata": {},
   "outputs": [],
   "source": [
    "# summarize_group(train_data, [\n",
    "# 'Dispenser_1'\n",
    "# , 'Dispenser_2'\n",
    "# , 'DISCHARGED SPEED OF RESIN Collect Result_Dam'\n",
    "\n",
    "# ])"
   ]
  },
  {
   "cell_type": "code",
   "execution_count": 167,
   "id": "dd57994f",
   "metadata": {},
   "outputs": [],
   "source": [
    "# # 파생 변수 생성 함수\n",
    "# def create_volume_time_ratio(df):\n",
    "#     stages = ['Stage1', 'Stage2', 'Stage3']\n",
    "#     for stage in stages:\n",
    "#         time_col = f'DISCHARGED TIME OF RESIN({stage}) Collect Result_Dam'\n",
    "#         volume_col = f'Dispense Volume({stage}) Collect Result_Dam'\n",
    "#         new_col_name = f'RESIN Volume_Time_Ratio_{stage}_Dam'\n",
    "#         df[new_col_name] = df[volume_col] / df[time_col]\n",
    "\n",
    "# # 함수 적용\n",
    "# create_volume_time_ratio(train_data)\n",
    "# create_volume_time_ratio(test_data)"
   ]
  },
  {
   "cell_type": "code",
   "execution_count": 168,
   "id": "2b42b1b4",
   "metadata": {},
   "outputs": [],
   "source": [
    "# # 출력 옵션을 설정\n",
    "# pd.set_option('display.max_rows', None)\n",
    "\n",
    "\n",
    "# # 출력 옵션을 원래대로\n",
    "# pd.reset_option('display.max_rows')"
   ]
  },
  {
   "cell_type": "code",
   "execution_count": 169,
   "id": "9df4ff2f",
   "metadata": {},
   "outputs": [],
   "source": [
    "# summarize_group(train_data, [\n",
    "# 'Dispenser_1'\n",
    "# , 'Dispenser_2'\n",
    "# , 'DISCHARGED SPEED OF RESIN Collect Result_Dam'\n",
    "# , 'DISCHARGED TIME OF RESIN(Stage1) Collect Result_Dam'\n",
    "# , 'DISCHARGED TIME OF RESIN(Stage2) Collect Result_Dam'\n",
    "# , 'DISCHARGED TIME OF RESIN(Stage3) Collect Result_Dam'\n",
    "# , 'Dispense Volume(Stage1) Collect Result_Dam'\n",
    "# , 'Dispense Volume(Stage2) Collect Result_Dam'\n",
    "# , 'Dispense Volume(Stage3) Collect Result_Dam'\n",
    "# # , 'DISCHARGED SPEED OF RESIN Collect Result_Fill1'\n",
    "# # , 'DISCHARGED TIME OF RESIN(Stage1) Collect Result_Fill1'\n",
    "# # , 'DISCHARGED TIME OF RESIN(Stage2) Collect Result_Fill1'\n",
    "# # , 'DISCHARGED TIME OF RESIN(Stage3) Collect Result_Fill1'\n",
    "# # , 'Dispense Volume(Stage1) Collect Result_Fill1'\n",
    "# # , 'Dispense Volume(Stage2) Collect Result_Fill1'\n",
    "# # , 'Dispense Volume(Stage3) Collect Result_Fill1'\n",
    "# # , 'RESIN Time_x_Speed_Stage1_Dam'\n",
    "# # , 'RESIN Time_x_Speed_Stage2_Dam'\n",
    "# # , 'RESIN Time_x_Speed_Stage3_Dam'\n",
    "# #  'RESIN Volume_Time_Ratio_Stage1_Dam'\n",
    "# # , 'RESIN Volume_Time_Ratio_Stage2_Dam'\n",
    "# # , 'RESIN Volume_Time_Ratio_Stage3_Dam'\n",
    "# ])"
   ]
  },
  {
   "cell_type": "code",
   "execution_count": 170,
   "id": "f6643f95",
   "metadata": {},
   "outputs": [],
   "source": [
    "# # 'RESIN' 또는 'Dispense Volume'을 포함하는 열 이름 필터링\n",
    "# Process_Desc_col = train_data.filter(regex='RESIN|Dispense Volume').columns\n",
    "\n",
    "# print(\"\\n'RESIN' 또는 'Dispense Volume' 포함 변수>\")\n",
    "# for col in Process_Desc_col:\n",
    "#     print(col)"
   ]
  },
  {
   "cell_type": "markdown",
   "id": "81ac6aad",
   "metadata": {},
   "source": [
    "### 4. Distance Speed Collect Result_Dam"
   ]
  },
  {
   "cell_type": "markdown",
   "id": "14f6a2ba",
   "metadata": {},
   "source": [
    "Dam 공정의 Circle, Line 길이 변수들 처리"
   ]
  },
  {
   "cell_type": "code",
   "execution_count": 171,
   "id": "8f1ca6d9",
   "metadata": {},
   "outputs": [
    {
     "name": "stdout",
     "output_type": "stream",
     "text": [
      "\n",
      " Distance Speed Collect Result_Dam 포함 변수>\n",
      "Stage1 Circle1 Distance Speed Collect Result_Dam\n",
      "Stage1 Circle2 Distance Speed Collect Result_Dam\n",
      "Stage1 Circle3 Distance Speed Collect Result_Dam\n",
      "Stage1 Circle4 Distance Speed Collect Result_Dam\n",
      "Stage1 Line1 Distance Speed Collect Result_Dam\n",
      "Stage1 Line2 Distance Speed Collect Result_Dam\n",
      "Stage1 Line3 Distance Speed Collect Result_Dam\n",
      "Stage1 Line4 Distance Speed Collect Result_Dam\n",
      "Stage2 Circle1 Distance Speed Collect Result_Dam\n",
      "Stage2 Circle2 Distance Speed Collect Result_Dam\n",
      "Stage2 Circle3 Distance Speed Collect Result_Dam\n",
      "Stage2 Circle4 Distance Speed Collect Result_Dam\n",
      "Stage2 Line1 Distance Speed Collect Result_Dam\n",
      "Stage2 Line2 Distance Speed Collect Result_Dam\n",
      "Stage2 Line3 Distance Speed Collect Result_Dam\n",
      "Stage2 Line4 Distance Speed Collect Result_Dam\n",
      "Stage3 Circle1 Distance Speed Collect Result_Dam\n",
      "Stage3 Circle2 Distance Speed Collect Result_Dam\n",
      "Stage3 Circle3 Distance Speed Collect Result_Dam\n",
      "Stage3 Circle4 Distance Speed Collect Result_Dam\n",
      "Stage3 Line1 Distance Speed Collect Result_Dam\n",
      "Stage3 Line2 Distance Speed Collect Result_Dam\n",
      "Stage3 Line3 Distance Speed Collect Result_Dam\n",
      "Stage3 Line4 Distance Speed Collect Result_Dam\n"
     ]
    }
   ],
   "source": [
    "# 'Distance Speed Collect Result_Dam'를 포함하는 열 이름 필터링\n",
    "Process_Desc_col = train_data.filter(like='Distance Speed Collect Result_Dam').columns\n",
    "\n",
    "print(\"\\n Distance Speed Collect Result_Dam 포함 변수>\")\n",
    "for col in Process_Desc_col:\n",
    "    print(col)"
   ]
  },
  {
   "cell_type": "markdown",
   "id": "883ac6dc",
   "metadata": {},
   "source": [
    "Stage 별 Speed 값들의 평균 계산"
   ]
  },
  {
   "cell_type": "code",
   "execution_count": 172,
   "id": "74dc87f7",
   "metadata": {},
   "outputs": [],
   "source": [
    "def add_stage_totals(data, stages, suffix='_Distance_Speed_avg_Dam'):\n",
    "    for stage in stages:\n",
    "        stage_cols = data.filter(like=stage).columns\n",
    "        data[f'{stage}{suffix}'] = data[stage_cols].sum(axis=1) / 8\n",
    "\n",
    "stages = ['Stage1', 'Stage2', 'Stage3']\n",
    "\n",
    "# train_data에 대해 파생변수 추가\n",
    "add_stage_totals(train_data, stages)\n",
    "\n",
    "# test_data에 대해 파생변수 추가\n",
    "add_stage_totals(test_data, stages)"
   ]
  },
  {
   "cell_type": "code",
   "execution_count": 173,
   "id": "0a453df3",
   "metadata": {},
   "outputs": [],
   "source": [
    "# 제거할 변수 목록\n",
    "columns_to_drop = [\n",
    "'Stage1 Circle1 Distance Speed Collect Result_Dam'\n",
    ", 'Stage1 Circle2 Distance Speed Collect Result_Dam'\n",
    ", 'Stage1 Circle3 Distance Speed Collect Result_Dam'\n",
    ", 'Stage1 Circle4 Distance Speed Collect Result_Dam'\n",
    ", 'Stage1 Line1 Distance Speed Collect Result_Dam'\n",
    ", 'Stage1 Line2 Distance Speed Collect Result_Dam'\n",
    ", 'Stage1 Line3 Distance Speed Collect Result_Dam'\n",
    ", 'Stage1 Line4 Distance Speed Collect Result_Dam'\n",
    ", 'Stage2 Circle1 Distance Speed Collect Result_Dam'\n",
    ", 'Stage2 Circle2 Distance Speed Collect Result_Dam'\n",
    ", 'Stage2 Circle3 Distance Speed Collect Result_Dam'\n",
    ", 'Stage2 Circle4 Distance Speed Collect Result_Dam'\n",
    ", 'Stage2 Line1 Distance Speed Collect Result_Dam'\n",
    ", 'Stage2 Line2 Distance Speed Collect Result_Dam'\n",
    ", 'Stage2 Line3 Distance Speed Collect Result_Dam'\n",
    ", 'Stage2 Line4 Distance Speed Collect Result_Dam'\n",
    ", 'Stage3 Circle1 Distance Speed Collect Result_Dam'\n",
    ", 'Stage3 Circle2 Distance Speed Collect Result_Dam'\n",
    ", 'Stage3 Circle3 Distance Speed Collect Result_Dam'\n",
    ", 'Stage3 Circle4 Distance Speed Collect Result_Dam'\n",
    ", 'Stage3 Line1 Distance Speed Collect Result_Dam'\n",
    ", 'Stage3 Line2 Distance Speed Collect Result_Dam'\n",
    ", 'Stage3 Line3 Distance Speed Collect Result_Dam'\n",
    ", 'Stage3 Line4 Distance Speed Collect Result_Dam'\n",
    "]\n",
    "\n",
    "# 변수 제거\n",
    "train_data.drop(columns=columns_to_drop, inplace=True)\n",
    "test_data.drop(columns=columns_to_drop, inplace=True)"
   ]
  },
  {
   "cell_type": "code",
   "execution_count": 174,
   "id": "2d2c9ab9",
   "metadata": {},
   "outputs": [
    {
     "name": "stdout",
     "output_type": "stream",
     "text": [
      "\n",
      " Distance_Speed_avg_Dam 포함 변수>\n",
      "Stage1_Distance_Speed_avg_Dam\n",
      "Stage2_Distance_Speed_avg_Dam\n",
      "Stage3_Distance_Speed_avg_Dam\n"
     ]
    }
   ],
   "source": [
    "# 'Distance_Speed_avg_Dam'를 포함하는 열 이름 필터링\n",
    "Process_Desc_col = train_data.filter(like='Distance_Speed_avg_Dam').columns\n",
    "\n",
    "print(\"\\n Distance_Speed_avg_Dam 포함 변수>\")\n",
    "for col in Process_Desc_col:\n",
    "    print(col)"
   ]
  },
  {
   "cell_type": "markdown",
   "id": "ae3a4274",
   "metadata": {},
   "source": [
    "### 5. THICKNESS"
   ]
  },
  {
   "cell_type": "code",
   "execution_count": 175,
   "id": "d1907522",
   "metadata": {},
   "outputs": [
    {
     "name": "stdout",
     "output_type": "stream",
     "text": [
      "\n",
      " THICKNESS 포함 변수>\n",
      "THICKNESS 1 Collect Result_Dam\n",
      "THICKNESS 2 Collect Result_Dam\n",
      "THICKNESS 3 Collect Result_Dam\n"
     ]
    }
   ],
   "source": [
    "# 'THICKNESS'를 포함하는 열 이름 필터링\n",
    "Process_Desc_col = train_data.filter(like='THICKNESS').columns\n",
    "\n",
    "print(\"\\n THICKNESS 포함 변수>\")\n",
    "for col in Process_Desc_col:\n",
    "    print(col)"
   ]
  },
  {
   "cell_type": "code",
   "execution_count": 176,
   "id": "c3ae04ba",
   "metadata": {},
   "outputs": [],
   "source": [
    "# 새로운 파생변수 생성 함수\n",
    "def create_total_thickness_dam(data):\n",
    "    data['THICKNESS_total_Dam'] = (\n",
    "        data['THICKNESS 1 Collect Result_Dam']**2 \n",
    "        + data['THICKNESS 2 Collect Result_Dam']**2 \n",
    "        + data['THICKNESS 3 Collect Result_Dam']**2\n",
    "    )\n",
    "    # 기존 변수 삭제\n",
    "    data.drop(columns=[\n",
    "        'THICKNESS 1 Collect Result_Dam',\n",
    "        'THICKNESS 2 Collect Result_Dam',\n",
    "        'THICKNESS 3 Collect Result_Dam'\n",
    "    ], inplace=True)\n",
    "    return data\n",
    "\n",
    "train_data = create_total_thickness_dam(train_data)\n",
    "test_data = create_total_thickness_dam(test_data)"
   ]
  },
  {
   "cell_type": "code",
   "execution_count": 177,
   "id": "af96f1a2",
   "metadata": {},
   "outputs": [
    {
     "name": "stdout",
     "output_type": "stream",
     "text": [
      "\n",
      " THICKNESS 포함 변수>\n",
      "THICKNESS_total_Dam\n"
     ]
    }
   ],
   "source": [
    "# 'THICKNESS'를 포함하는 열 이름 필터링\n",
    "Process_Desc_col = train_data.filter(like='THICKNESS').columns\n",
    "\n",
    "print(\"\\n THICKNESS 포함 변수>\")\n",
    "for col in Process_Desc_col:\n",
    "    print(col)"
   ]
  },
  {
   "cell_type": "markdown",
   "id": "74f4349a",
   "metadata": {},
   "source": [
    "### 6. AutoClave"
   ]
  },
  {
   "cell_type": "code",
   "execution_count": 178,
   "id": "27ac3556",
   "metadata": {},
   "outputs": [
    {
     "name": "stdout",
     "output_type": "stream",
     "text": [
      "<AutoClave 공정 관련 변수>\n",
      "1st Pressure Collect Result_AutoClave\n",
      "1st Pressure Unit Time_AutoClave\n",
      "2nd Pressure Collect Result_AutoClave\n",
      "2nd Pressure Unit Time_AutoClave\n",
      "3rd Pressure Collect Result_AutoClave\n",
      "3rd Pressure Unit Time_AutoClave\n",
      "Chamber Temp. Collect Result_AutoClave\n",
      "Chamber Temp. Unit Time_AutoClave\n",
      "Chamber_Temp_OKNG_AutoClave\n"
     ]
    }
   ],
   "source": [
    "# '_AutoClave'를 포함하는 열 이름 필터링\n",
    "Process_Desc_col = train_data.filter(like='_AutoClave').columns\n",
    "\n",
    "# 필터링된 열 이름 출력\n",
    "print(\"<AutoClave 공정 관련 변수>\")\n",
    "for col in Process_Desc_col:\n",
    "    print(col)"
   ]
  },
  {
   "cell_type": "code",
   "execution_count": 179,
   "id": "b3c024ca",
   "metadata": {},
   "outputs": [],
   "source": [
    "# 파생변수 생성\n",
    "train_data['1st_Pressure_x_AutoClave'] = train_data['1st Pressure Collect Result_AutoClave'] * train_data['1st Pressure Unit Time_AutoClave'] \n",
    "test_data['1st_Pressure_x_AutoClave'] = test_data['1st Pressure Collect Result_AutoClave'] * test_data['1st Pressure Unit Time_AutoClave'] \n",
    "\n",
    "train_data['2nd_Pressure_x_AutoClave'] = train_data['2nd Pressure Collect Result_AutoClave'] * train_data['2nd Pressure Unit Time_AutoClave'] \n",
    "test_data['2nd_Pressure_x_AutoClave'] = test_data['2nd Pressure Collect Result_AutoClave'] * test_data['2nd Pressure Unit Time_AutoClave'] \n",
    "\n",
    "train_data['3rd_Pressure_x_AutoClave'] = train_data['3rd Pressure Collect Result_AutoClave'] * train_data['3rd Pressure Unit Time_AutoClave'] \n",
    "test_data['3rd_Pressure_x_AutoClave'] = test_data['3rd Pressure Collect Result_AutoClave'] * test_data['3rd Pressure Unit Time_AutoClave'] \n",
    "\n",
    "train_data['All_Pressure_x_AutoClave'] = train_data['1st_Pressure_x_AutoClave'] + train_data['2nd_Pressure_x_AutoClave'] + train_data['3rd_Pressure_x_AutoClave']\n",
    "test_data['All_Pressure_x_AutoClave'] = test_data['1st_Pressure_x_AutoClave'] + test_data['2nd_Pressure_x_AutoClave'] + test_data['3rd_Pressure_x_AutoClave']\n",
    "\n",
    "train_data['All_Pressure_avg_AutoClave'] = train_data['All_Pressure_x_AutoClave'] / train_data['Chamber Temp. Unit Time_AutoClave']\n",
    "test_data['All_Pressure_avg_AutoClave'] = test_data['All_Pressure_x_AutoClave'] / test_data['Chamber Temp. Unit Time_AutoClave']\n",
    "\n",
    "train_data['Chamber_Temp_x_AutoClave'] = train_data['Chamber Temp. Collect Result_AutoClave'] * train_data['Chamber Temp. Unit Time_AutoClave']\n",
    "test_data['Chamber_Temp_x_AutoClave'] = test_data['Chamber Temp. Collect Result_AutoClave'] * test_data['Chamber Temp. Unit Time_AutoClave']\n",
    "\n",
    "train_data['All_Pressure_frac_Chamber_Temp_AutoClave'] = train_data['All_Pressure_x_AutoClave'] / train_data['Chamber_Temp_x_AutoClave']\n",
    "test_data['All_Pressure_frac_Chamber_Temp_AutoClave'] = test_data['All_Pressure_x_AutoClave'] / test_data['Chamber_Temp_x_AutoClave']\n"
   ]
  },
  {
   "cell_type": "code",
   "execution_count": 180,
   "id": "a69ad859",
   "metadata": {},
   "outputs": [
    {
     "name": "stdout",
     "output_type": "stream",
     "text": [
      "<AutoClave 공정 관련 변수>\n",
      "1st Pressure Collect Result_AutoClave\n",
      "1st Pressure Unit Time_AutoClave\n",
      "2nd Pressure Collect Result_AutoClave\n",
      "2nd Pressure Unit Time_AutoClave\n",
      "3rd Pressure Collect Result_AutoClave\n",
      "3rd Pressure Unit Time_AutoClave\n",
      "Chamber Temp. Collect Result_AutoClave\n",
      "Chamber Temp. Unit Time_AutoClave\n",
      "Chamber_Temp_OKNG_AutoClave\n",
      "1st_Pressure_x_AutoClave\n",
      "2nd_Pressure_x_AutoClave\n",
      "3rd_Pressure_x_AutoClave\n",
      "All_Pressure_x_AutoClave\n",
      "All_Pressure_avg_AutoClave\n",
      "Chamber_Temp_x_AutoClave\n",
      "All_Pressure_frac_Chamber_Temp_AutoClave\n"
     ]
    }
   ],
   "source": [
    "# '_AutoClave'를 포함하는 열 이름 필터링\n",
    "Process_Desc_col = train_data.filter(like='_AutoClave').columns\n",
    "\n",
    "# 필터링된 열 이름 출력\n",
    "print(\"<AutoClave 공정 관련 변수>\")\n",
    "for col in Process_Desc_col:\n",
    "    print(col)"
   ]
  },
  {
   "cell_type": "code",
   "execution_count": 181,
   "id": "3e714beb",
   "metadata": {},
   "outputs": [],
   "source": [
    "# 제거할 변수 목록\n",
    "columns_to_drop = [\n",
    "# '1st Pressure Collect Result_AutoClave'\n",
    "'1st Pressure Unit Time_AutoClave'\n",
    "# , '2nd Pressure Collect Result_AutoClave'\n",
    ", '2nd Pressure Unit Time_AutoClave'\n",
    "# , '3rd Pressure Collect Result_AutoClave'\n",
    ", '3rd Pressure Unit Time_AutoClave'\n",
    "# , 'Chamber Temp. Collect Result_AutoClave'\n",
    "# , 'Chamber Temp. Unit Time_AutoClave'\n",
    "\n",
    "# , '1st_Pressure_x_AutoClave'\n",
    "# , '2nd_Pressure_x_AutoClave'\n",
    "# , '3rd_Pressure_x_AutoClave'\n",
    ", 'All_Pressure_x_AutoClave'\n",
    "# , 'All_Pressure_avg_AutoClave'\n",
    "# , 'Chamber_Temp_x_AutoClave'\n",
    "# , 'All_Pressure_frac_Chamber_Temp_AutoClave'\n",
    "]\n",
    "\n",
    "# 변수 제거\n",
    "train_data.drop(columns=columns_to_drop, inplace=True)\n",
    "test_data.drop(columns=columns_to_drop, inplace=True)"
   ]
  },
  {
   "cell_type": "code",
   "execution_count": 182,
   "id": "20ce50bc",
   "metadata": {},
   "outputs": [
    {
     "name": "stdout",
     "output_type": "stream",
     "text": [
      "<AutoClave 공정 관련 변수>\n",
      "1st Pressure Collect Result_AutoClave\n",
      "2nd Pressure Collect Result_AutoClave\n",
      "3rd Pressure Collect Result_AutoClave\n",
      "Chamber Temp. Collect Result_AutoClave\n",
      "Chamber Temp. Unit Time_AutoClave\n",
      "Chamber_Temp_OKNG_AutoClave\n",
      "1st_Pressure_x_AutoClave\n",
      "2nd_Pressure_x_AutoClave\n",
      "3rd_Pressure_x_AutoClave\n",
      "All_Pressure_avg_AutoClave\n",
      "Chamber_Temp_x_AutoClave\n",
      "All_Pressure_frac_Chamber_Temp_AutoClave\n"
     ]
    }
   ],
   "source": [
    "# '_AutoClave'를 포함하는 열 이름 필터링\n",
    "Process_Desc_col = train_data.filter(like='_AutoClave').columns\n",
    "\n",
    "# 필터링된 열 이름 출력\n",
    "print(\"<AutoClave 공정 관련 변수>\")\n",
    "for col in Process_Desc_col:\n",
    "    print(col)"
   ]
  },
  {
   "cell_type": "markdown",
   "id": "61a69dcf",
   "metadata": {},
   "source": [
    "### 7. ETC.."
   ]
  },
  {
   "cell_type": "markdown",
   "id": "f41b05ca",
   "metadata": {},
   "source": [
    "7-1. workorder"
   ]
  },
  {
   "cell_type": "code",
   "execution_count": 183,
   "id": "e2e4240f",
   "metadata": {},
   "outputs": [],
   "source": [
    "# 타겟 변수를 0과 1로 변환\n",
    "train_data['target_binary'] = train_data['target'].apply(lambda x: 1 if x == 'AbNormal' else 0)\n",
    "\n",
    "# Workorder 변수의 값에 대한 타겟 변수 비율 계산\n",
    "workorder_target_ratio = train_data.groupby('Workorder')['target_binary'].mean()\n",
    "\n",
    "# 파생 변수 생성 함수\n",
    "def create_derived_variable(row, ratio_dict, threshold):\n",
    "    return 1 if ratio_dict.get(row['Workorder'], 0) >= threshold else 0\n",
    "\n",
    "# 파생 변수 생성\n",
    "train_data['Workorder_0.9'] = train_data.apply(create_derived_variable, axis=1, ratio_dict=workorder_target_ratio, threshold=0.9)\n",
    "train_data['Workorder_0.6'] = train_data.apply(create_derived_variable, axis=1, ratio_dict=workorder_target_ratio, threshold=0.6)\n",
    "\n",
    "test_data['Workorder_0.9'] = test_data.apply(create_derived_variable, axis=1, ratio_dict=workorder_target_ratio, threshold=0.9)\n",
    "test_data['Workorder_0.6'] = test_data.apply(create_derived_variable, axis=1, ratio_dict=workorder_target_ratio, threshold=0.6)\n",
    "\n",
    "# 불필요한 변수 제거\n",
    "train_data.drop(['target_binary'], axis=1, inplace=True)"
   ]
  },
  {
   "cell_type": "markdown",
   "id": "da48c3f8",
   "metadata": {},
   "source": [
    "7-2. Machine Tact time"
   ]
  },
  {
   "cell_type": "code",
   "execution_count": 184,
   "id": "4d866fb6",
   "metadata": {},
   "outputs": [],
   "source": [
    "### 총시간 대비 비율 변수\n",
    "def calculate_total_time_and_ratios(data):\n",
    "    data['total_time'] = (\n",
    "        data['Machine Tact time Collect Result_Dam'] +\n",
    "        data['Machine Tact time Collect Result_Fill1'] +\n",
    "        data['Machine Tact time Collect Result_Fill2'] +\n",
    "        data['Chamber Temp. Unit Time_AutoClave']\n",
    "    )\n",
    "    data['time_ratio_Dam'] = (data['Machine Tact time Collect Result_Dam'] / data['total_time']).round(3)\n",
    "    data['time_ratio_Fill1'] = (data['Machine Tact time Collect Result_Fill1'] / data['total_time']).round(3)\n",
    "    data['time_ratio_Fill2'] = (data['Machine Tact time Collect Result_Fill2'] / data['total_time']).round(3)\n",
    "    data['time_ratio_AutoClave'] = (data['Chamber Temp. Unit Time_AutoClave'] / data['total_time']).round(3)\n",
    "    return data\n",
    "\n",
    "# train_data와 test_data에 함수 적용\n",
    "train_data = calculate_total_time_and_ratios(train_data)\n",
    "test_data = calculate_total_time_and_ratios(test_data)"
   ]
  },
  {
   "cell_type": "code",
   "execution_count": 185,
   "id": "dec2a803",
   "metadata": {},
   "outputs": [],
   "source": [
    "# 변수 제거\n",
    "train_data.drop(columns=[\n",
    "    'total_time'\n",
    "    , 'Machine Tact time Collect Result_Dam'\n",
    "    , 'Machine Tact time Collect Result_Fill1'\n",
    "    , 'Machine Tact time Collect Result_Fill2'\n",
    "    , 'Chamber Temp. Unit Time_AutoClave'], inplace=True)\n",
    "\n",
    "test_data.drop(columns=[\n",
    "    'total_time'\n",
    "    , 'Machine Tact time Collect Result_Dam'\n",
    "    , 'Machine Tact time Collect Result_Fill1'\n",
    "    , 'Machine Tact time Collect Result_Fill2'\n",
    "    , 'Chamber Temp. Unit Time_AutoClave'], inplace=True)"
   ]
  },
  {
   "cell_type": "markdown",
   "id": "3ad7941e",
   "metadata": {},
   "source": [
    "---"
   ]
  },
  {
   "cell_type": "code",
   "execution_count": 186,
   "id": "49a7d114",
   "metadata": {},
   "outputs": [
    {
     "name": "stdout",
     "output_type": "stream",
     "text": [
      "<class 'pandas.core.frame.DataFrame'>\n",
      "RangeIndex: 40506 entries, 0 to 40505\n",
      "Data columns (total 60 columns):\n",
      " #   Column                                                 Non-Null Count  Dtype  \n",
      "---  ------                                                 --------------  -----  \n",
      " 0   Model.Suffix                                           40506 non-null  object \n",
      " 1   Workorder                                              40506 non-null  object \n",
      " 2   DISCHARGED SPEED OF RESIN Collect Result_Dam           40506 non-null  int64  \n",
      " 3   DISCHARGED TIME OF RESIN(Stage1) Collect Result_Dam    40506 non-null  float64\n",
      " 4   DISCHARGED TIME OF RESIN(Stage2) Collect Result_Dam    40506 non-null  float64\n",
      " 5   DISCHARGED TIME OF RESIN(Stage3) Collect Result_Dam    40506 non-null  float64\n",
      " 6   Dispense Volume(Stage1) Collect Result_Dam             40506 non-null  float64\n",
      " 7   Dispense Volume(Stage2) Collect Result_Dam             40506 non-null  float64\n",
      " 8   Dispense Volume(Stage3) Collect Result_Dam             40506 non-null  float64\n",
      " 9   Head Clean Position Z Collect Result_Dam               40506 non-null  float64\n",
      " 10  Head Purge Position Z Collect Result_Dam               40506 non-null  float64\n",
      " 11  Head Zero Position Y Collect Result_Dam                40506 non-null  float64\n",
      " 12  Head Zero Position Z Collect Result_Dam                40506 non-null  float64\n",
      " 13  WorkMode Collect Result                                40506 non-null  float64\n",
      " 14  1st Pressure Collect Result_AutoClave                  40506 non-null  float64\n",
      " 15  2nd Pressure Collect Result_AutoClave                  40506 non-null  float64\n",
      " 16  3rd Pressure Collect Result_AutoClave                  40506 non-null  float64\n",
      " 17  Chamber Temp. Collect Result_AutoClave                 40506 non-null  int64  \n",
      " 18  DISCHARGED SPEED OF RESIN Collect Result_Fill1         40506 non-null  float64\n",
      " 19  DISCHARGED TIME OF RESIN(Stage1) Collect Result_Fill1  40506 non-null  float64\n",
      " 20  DISCHARGED TIME OF RESIN(Stage2) Collect Result_Fill1  40506 non-null  float64\n",
      " 21  DISCHARGED TIME OF RESIN(Stage3) Collect Result_Fill1  40506 non-null  float64\n",
      " 22  Dispense Volume(Stage1) Collect Result_Fill1           40506 non-null  float64\n",
      " 23  Dispense Volume(Stage2) Collect Result_Fill1           40506 non-null  float64\n",
      " 24  Dispense Volume(Stage3) Collect Result_Fill1           40506 non-null  float64\n",
      " 25  Head Purge Position Z Collect Result_Fill1             40506 non-null  int64  \n",
      " 26  Head Purge Position Z Collect Result_Fill2             40506 non-null  float64\n",
      " 27  target                                                 40506 non-null  object \n",
      " 28  Dispenser_1                                            40506 non-null  int64  \n",
      " 29  Dispenser_2                                            40506 non-null  int64  \n",
      " 30  Receip_No_Collect_Result                               40506 non-null  int64  \n",
      " 31  PalletID_Collect_Result                                40506 non-null  int64  \n",
      " 32  Production_Qty_Collect_Result                          40506 non-null  int64  \n",
      " 33  Chamber_Temp_OKNG_AutoClave                            40506 non-null  int64  \n",
      " 34  Judge_Value_OK                                         40506 non-null  int64  \n",
      " 35  CURE_Time_Dam                                          40506 non-null  float64\n",
      " 36  CURE_Time_Fill2                                        40506 non-null  float64\n",
      " 37  HEAD NORMAL DISTANCE_STAGE1_STAGE3_Dam                 40506 non-null  float64\n",
      " 38  HEAD NORMAL DISTANCE_TRIANGLE_height_Dam               40506 non-null  float64\n",
      " 39  HEAD NORMAL DISTANCE_STAGE1_STAGE3_Fill1               40506 non-null  float64\n",
      " 40  HEAD NORMAL DISTANCE_TRIANGLE_height_Fill1             40506 non-null  float64\n",
      " 41  HEAD NORMAL DISTANCE_STAGE1_STAGE2_Fill2               40506 non-null  float64\n",
      " 42  HEAD NORMAL DISTANCE_STAGE2_STAGE3_Fill2               40506 non-null  float64\n",
      " 43  HEAD NORMAL DISTANCE_STAGE1_STAGE3_Fill2               40506 non-null  float64\n",
      " 44  Stage1_Distance_Speed_avg_Dam                          40506 non-null  float64\n",
      " 45  Stage2_Distance_Speed_avg_Dam                          40506 non-null  float64\n",
      " 46  Stage3_Distance_Speed_avg_Dam                          40506 non-null  float64\n",
      " 47  THICKNESS_total_Dam                                    40506 non-null  float64\n",
      " 48  1st_Pressure_x_AutoClave                               40506 non-null  float64\n",
      " 49  2nd_Pressure_x_AutoClave                               40506 non-null  float64\n",
      " 50  3rd_Pressure_x_AutoClave                               40506 non-null  float64\n",
      " 51  All_Pressure_avg_AutoClave                             40506 non-null  float64\n",
      " 52  Chamber_Temp_x_AutoClave                               40506 non-null  int64  \n",
      " 53  All_Pressure_frac_Chamber_Temp_AutoClave               40506 non-null  float64\n",
      " 54  Workorder_0.9                                          40506 non-null  int64  \n",
      " 55  Workorder_0.6                                          40506 non-null  int64  \n",
      " 56  time_ratio_Dam                                         40506 non-null  float64\n",
      " 57  time_ratio_Fill1                                       40506 non-null  float64\n",
      " 58  time_ratio_Fill2                                       40506 non-null  float64\n",
      " 59  time_ratio_AutoClave                                   40506 non-null  float64\n",
      "dtypes: float64(44), int64(13), object(3)\n",
      "memory usage: 18.5+ MB\n",
      "---\n"
     ]
    }
   ],
   "source": [
    "train_data.info()\n",
    "print('---')\n",
    "# test_data.info()"
   ]
  },
  {
   "cell_type": "code",
   "execution_count": 187,
   "id": "769e6d8b",
   "metadata": {},
   "outputs": [
    {
     "name": "stdout",
     "output_type": "stream",
     "text": [
      "Series([], dtype: int64)\n"
     ]
    }
   ],
   "source": [
    "# 각 변수별로 결측값이 존재하는지 확인하는 코드\n",
    "missing_values = train_data.isnull().sum()\n",
    "\n",
    "# 결측값이 존재하는 변수와 그 개수 출력\n",
    "missing_values = missing_values[missing_values > 0]\n",
    "print(missing_values)\n",
    "\n",
    "# 결측값이 존재하는 변수명을 리스트에 담기\n",
    "missing_columns = missing_values.index.tolist()\n",
    "# print(\"결측값이 존재하는 변수명:\", missing_columns)"
   ]
  },
  {
   "cell_type": "markdown",
   "id": "ec45a10a",
   "metadata": {},
   "source": [
    "---"
   ]
  },
  {
   "cell_type": "markdown",
   "id": "334b20a3",
   "metadata": {},
   "source": [
    "## 타겟 인코딩"
   ]
  },
  {
   "cell_type": "code",
   "execution_count": 188,
   "id": "fb37ebe9",
   "metadata": {},
   "outputs": [
    {
     "name": "stdout",
     "output_type": "stream",
     "text": [
      "Index(['Model.Suffix', 'Workorder', 'target'], dtype='object')  train_object_columns 갯수 : 3\n",
      "Index(['Set ID', 'Model.Suffix', 'Workorder', 'target'], dtype='object')  test_object_columns 갯수 : 4\n",
      "\n",
      "Train Data:\n",
      "Model.Suffix unique 값 갯수: 7\n",
      "Workorder unique 값 갯수: 663\n",
      "target unique 값 갯수: 2\n",
      "\n",
      "Test Data:\n",
      "Set ID unique 값 갯수: 17361\n",
      "Model.Suffix unique 값 갯수: 7\n",
      "Workorder unique 값 갯수: 662\n",
      "target unique 값 갯수: 0\n"
     ]
    }
   ],
   "source": [
    "# 'target' 열의 변수 타입을 object로 변경\n",
    "# -> test 데이터는 float64 타입으로 되어있음 \n",
    "test_data['target'] = test_data['target'].astype('object')\n",
    "\n",
    "# object 타입의 변수 출력\n",
    "train_object_columns = train_data.select_dtypes(include=['object']).columns\n",
    "test_object_columns = test_data.select_dtypes(include=['object']).columns\n",
    "\n",
    "print(train_object_columns, f\" train_object_columns 갯수 : {len(train_object_columns)}\")\n",
    "print(test_object_columns, f\" test_object_columns 갯수 : {len(test_object_columns)}\")\n",
    "\n",
    "# 각 object 변수의 고유 값 개수 출력\n",
    "print(\"\\nTrain Data:\")\n",
    "for col in train_object_columns:\n",
    "    unique_count = train_data[col].nunique()\n",
    "    print(f\"{col} unique 값 갯수: {unique_count}\")\n",
    "\n",
    "print(\"\\nTest Data:\")\n",
    "for col in test_object_columns:\n",
    "    unique_count = test_data[col].nunique()\n",
    "    print(f\"{col} unique 값 갯수: {unique_count}\")"
   ]
  },
  {
   "cell_type": "code",
   "execution_count": 189,
   "id": "156c68be",
   "metadata": {},
   "outputs": [
    {
     "name": "stdout",
     "output_type": "stream",
     "text": [
      "   Model.Suffix  Workorder\n",
      "0      0.049336   0.158385\n",
      "1      0.049336   0.015314\n",
      "2      0.056712   0.009534\n",
      "   Model.Suffix  Workorder\n",
      "0      0.056712   0.091912\n",
      "1      0.056712   0.024247\n",
      "2      0.056712   0.091463\n",
      "--- train_data ---\n",
      "target  \n",
      "Normal      38156\n",
      "AbNormal     2350\n",
      "dtype: int64\n"
     ]
    }
   ],
   "source": [
    "# 필요한 라이브러리 임포트\n",
    "import pandas as pd\n",
    "import category_encoders as ce\n",
    "\n",
    "# 타겟 변수와 범주형 변수 지정\n",
    "## Target Encoding의 smoothing 파라미터는 default로 auto로 설정되어 있음\n",
    "target = 'target'  # 타겟 변수 이름으로 변경\n",
    "categorical_columns = [\n",
    "    'Model.Suffix',\n",
    "    'Workorder',\n",
    "]  # 범주형 변수 이름으로 변경\n",
    "\n",
    "# 타겟 값을 숫자로 변환\n",
    "target_mapping = {'Normal': 0, 'AbNormal': 1}\n",
    "train_data[target] = train_data[target].map(target_mapping)\n",
    "test_data[target] = test_data[target].map(target_mapping)\n",
    "\n",
    "# 열이 존재하는지 확인\n",
    "missing_columns = [col for col in categorical_columns if col not in train_data.columns]\n",
    "if missing_columns:\n",
    "    raise ValueError(f\"train_data에 다음 열이 존재하지 않습니다: {missing_columns}\")\n",
    "\n",
    "# 타겟 인코더 생성 및 학습\n",
    "encoder = ce.TargetEncoder(cols=categorical_columns)\n",
    "train_data = encoder.fit_transform(train_data, train_data[target])\n",
    "\n",
    "# Set ID 열을 별도로 저장\n",
    "set_id = test_data['Set ID']\n",
    "\n",
    "# 테스트 데이터 인코딩 (Set ID 열 제외)\n",
    "test_data = test_data.drop(columns=['Set ID'])\n",
    "test_data = encoder.transform(test_data)\n",
    "\n",
    "# Set ID 열을 맨 앞에 추가\n",
    "test_data.insert(0, 'Set ID', set_id)\n",
    "\n",
    "# categorical_columns에 해당하는 열의 데이터 값만 확인\n",
    "print(train_data[categorical_columns].head(3))\n",
    "print(test_data[categorical_columns].head(3))\n",
    "\n",
    "# 역 매핑 딕셔너리 생성\n",
    "reverse_target_mapping = {v: k for k, v in target_mapping.items()}\n",
    "\n",
    "# 타겟 값을 원래대로 변환\n",
    "train_data[target] = train_data[target].map(reverse_target_mapping)\n",
    "test_data[target] = test_data[target].map(reverse_target_mapping)\n",
    "\n",
    "print(\"--- train_data ---\")\n",
    "\n",
    "# 변환된 타겟 값 확인\n",
    "print(train_data[[target]].value_counts())"
   ]
  },
  {
   "cell_type": "code",
   "execution_count": 190,
   "id": "6a108490",
   "metadata": {},
   "outputs": [
    {
     "name": "stdout",
     "output_type": "stream",
     "text": [
      "<class 'pandas.core.frame.DataFrame'>\n",
      "RangeIndex: 40506 entries, 0 to 40505\n",
      "Data columns (total 60 columns):\n",
      " #   Column                                                 Non-Null Count  Dtype  \n",
      "---  ------                                                 --------------  -----  \n",
      " 0   Model.Suffix                                           40506 non-null  float64\n",
      " 1   Workorder                                              40506 non-null  float64\n",
      " 2   DISCHARGED SPEED OF RESIN Collect Result_Dam           40506 non-null  int64  \n",
      " 3   DISCHARGED TIME OF RESIN(Stage1) Collect Result_Dam    40506 non-null  float64\n",
      " 4   DISCHARGED TIME OF RESIN(Stage2) Collect Result_Dam    40506 non-null  float64\n",
      " 5   DISCHARGED TIME OF RESIN(Stage3) Collect Result_Dam    40506 non-null  float64\n",
      " 6   Dispense Volume(Stage1) Collect Result_Dam             40506 non-null  float64\n",
      " 7   Dispense Volume(Stage2) Collect Result_Dam             40506 non-null  float64\n",
      " 8   Dispense Volume(Stage3) Collect Result_Dam             40506 non-null  float64\n",
      " 9   Head Clean Position Z Collect Result_Dam               40506 non-null  float64\n",
      " 10  Head Purge Position Z Collect Result_Dam               40506 non-null  float64\n",
      " 11  Head Zero Position Y Collect Result_Dam                40506 non-null  float64\n",
      " 12  Head Zero Position Z Collect Result_Dam                40506 non-null  float64\n",
      " 13  WorkMode Collect Result                                40506 non-null  float64\n",
      " 14  1st Pressure Collect Result_AutoClave                  40506 non-null  float64\n",
      " 15  2nd Pressure Collect Result_AutoClave                  40506 non-null  float64\n",
      " 16  3rd Pressure Collect Result_AutoClave                  40506 non-null  float64\n",
      " 17  Chamber Temp. Collect Result_AutoClave                 40506 non-null  int64  \n",
      " 18  DISCHARGED SPEED OF RESIN Collect Result_Fill1         40506 non-null  float64\n",
      " 19  DISCHARGED TIME OF RESIN(Stage1) Collect Result_Fill1  40506 non-null  float64\n",
      " 20  DISCHARGED TIME OF RESIN(Stage2) Collect Result_Fill1  40506 non-null  float64\n",
      " 21  DISCHARGED TIME OF RESIN(Stage3) Collect Result_Fill1  40506 non-null  float64\n",
      " 22  Dispense Volume(Stage1) Collect Result_Fill1           40506 non-null  float64\n",
      " 23  Dispense Volume(Stage2) Collect Result_Fill1           40506 non-null  float64\n",
      " 24  Dispense Volume(Stage3) Collect Result_Fill1           40506 non-null  float64\n",
      " 25  Head Purge Position Z Collect Result_Fill1             40506 non-null  int64  \n",
      " 26  Head Purge Position Z Collect Result_Fill2             40506 non-null  float64\n",
      " 27  target                                                 40506 non-null  object \n",
      " 28  Dispenser_1                                            40506 non-null  int64  \n",
      " 29  Dispenser_2                                            40506 non-null  int64  \n",
      " 30  Receip_No_Collect_Result                               40506 non-null  int64  \n",
      " 31  PalletID_Collect_Result                                40506 non-null  int64  \n",
      " 32  Production_Qty_Collect_Result                          40506 non-null  int64  \n",
      " 33  Chamber_Temp_OKNG_AutoClave                            40506 non-null  int64  \n",
      " 34  Judge_Value_OK                                         40506 non-null  int64  \n",
      " 35  CURE_Time_Dam                                          40506 non-null  float64\n",
      " 36  CURE_Time_Fill2                                        40506 non-null  float64\n",
      " 37  HEAD NORMAL DISTANCE_STAGE1_STAGE3_Dam                 40506 non-null  float64\n",
      " 38  HEAD NORMAL DISTANCE_TRIANGLE_height_Dam               40506 non-null  float64\n",
      " 39  HEAD NORMAL DISTANCE_STAGE1_STAGE3_Fill1               40506 non-null  float64\n",
      " 40  HEAD NORMAL DISTANCE_TRIANGLE_height_Fill1             40506 non-null  float64\n",
      " 41  HEAD NORMAL DISTANCE_STAGE1_STAGE2_Fill2               40506 non-null  float64\n",
      " 42  HEAD NORMAL DISTANCE_STAGE2_STAGE3_Fill2               40506 non-null  float64\n",
      " 43  HEAD NORMAL DISTANCE_STAGE1_STAGE3_Fill2               40506 non-null  float64\n",
      " 44  Stage1_Distance_Speed_avg_Dam                          40506 non-null  float64\n",
      " 45  Stage2_Distance_Speed_avg_Dam                          40506 non-null  float64\n",
      " 46  Stage3_Distance_Speed_avg_Dam                          40506 non-null  float64\n",
      " 47  THICKNESS_total_Dam                                    40506 non-null  float64\n",
      " 48  1st_Pressure_x_AutoClave                               40506 non-null  float64\n",
      " 49  2nd_Pressure_x_AutoClave                               40506 non-null  float64\n",
      " 50  3rd_Pressure_x_AutoClave                               40506 non-null  float64\n",
      " 51  All_Pressure_avg_AutoClave                             40506 non-null  float64\n",
      " 52  Chamber_Temp_x_AutoClave                               40506 non-null  int64  \n",
      " 53  All_Pressure_frac_Chamber_Temp_AutoClave               40506 non-null  float64\n",
      " 54  Workorder_0.9                                          40506 non-null  int64  \n",
      " 55  Workorder_0.6                                          40506 non-null  int64  \n",
      " 56  time_ratio_Dam                                         40506 non-null  float64\n",
      " 57  time_ratio_Fill1                                       40506 non-null  float64\n",
      " 58  time_ratio_Fill2                                       40506 non-null  float64\n",
      " 59  time_ratio_AutoClave                                   40506 non-null  float64\n",
      "dtypes: float64(46), int64(13), object(1)\n",
      "memory usage: 18.5+ MB\n",
      "---\n"
     ]
    }
   ],
   "source": [
    "train_data.info()\n",
    "print('---')\n",
    "# test_data.info()"
   ]
  },
  {
   "cell_type": "code",
   "execution_count": 191,
   "id": "dbf7c9bb",
   "metadata": {},
   "outputs": [
    {
     "name": "stdout",
     "output_type": "stream",
     "text": [
      "---\n",
      "<class 'pandas.core.frame.DataFrame'>\n",
      "RangeIndex: 17361 entries, 0 to 17360\n",
      "Data columns (total 61 columns):\n",
      " #   Column                                                 Non-Null Count  Dtype  \n",
      "---  ------                                                 --------------  -----  \n",
      " 0   Set ID                                                 17361 non-null  object \n",
      " 1   Model.Suffix                                           17361 non-null  float64\n",
      " 2   Workorder                                              17361 non-null  float64\n",
      " 3   DISCHARGED SPEED OF RESIN Collect Result_Dam           17361 non-null  int64  \n",
      " 4   DISCHARGED TIME OF RESIN(Stage1) Collect Result_Dam    17361 non-null  float64\n",
      " 5   DISCHARGED TIME OF RESIN(Stage2) Collect Result_Dam    17361 non-null  float64\n",
      " 6   DISCHARGED TIME OF RESIN(Stage3) Collect Result_Dam    17361 non-null  float64\n",
      " 7   Dispense Volume(Stage1) Collect Result_Dam             17361 non-null  float64\n",
      " 8   Dispense Volume(Stage2) Collect Result_Dam             17361 non-null  float64\n",
      " 9   Dispense Volume(Stage3) Collect Result_Dam             17361 non-null  float64\n",
      " 10  Head Clean Position Z Collect Result_Dam               17361 non-null  float64\n",
      " 11  Head Purge Position Z Collect Result_Dam               17361 non-null  float64\n",
      " 12  Head Zero Position Y Collect Result_Dam                17361 non-null  float64\n",
      " 13  Head Zero Position Z Collect Result_Dam                17361 non-null  float64\n",
      " 14  WorkMode Collect Result                                17361 non-null  float64\n",
      " 15  1st Pressure Collect Result_AutoClave                  17361 non-null  float64\n",
      " 16  2nd Pressure Collect Result_AutoClave                  17361 non-null  float64\n",
      " 17  3rd Pressure Collect Result_AutoClave                  17361 non-null  float64\n",
      " 18  Chamber Temp. Collect Result_AutoClave                 17361 non-null  int64  \n",
      " 19  DISCHARGED SPEED OF RESIN Collect Result_Fill1         17361 non-null  float64\n",
      " 20  DISCHARGED TIME OF RESIN(Stage1) Collect Result_Fill1  17361 non-null  float64\n",
      " 21  DISCHARGED TIME OF RESIN(Stage2) Collect Result_Fill1  17361 non-null  float64\n",
      " 22  DISCHARGED TIME OF RESIN(Stage3) Collect Result_Fill1  17361 non-null  float64\n",
      " 23  Dispense Volume(Stage1) Collect Result_Fill1           17361 non-null  float64\n",
      " 24  Dispense Volume(Stage2) Collect Result_Fill1           17361 non-null  float64\n",
      " 25  Dispense Volume(Stage3) Collect Result_Fill1           17361 non-null  float64\n",
      " 26  Head Purge Position Z Collect Result_Fill1             17361 non-null  float64\n",
      " 27  Head Purge Position Z Collect Result_Fill2             17361 non-null  float64\n",
      " 28  target                                                 0 non-null      object \n",
      " 29  Dispenser_1                                            17361 non-null  int64  \n",
      " 30  Dispenser_2                                            17361 non-null  int64  \n",
      " 31  Receip_No_Collect_Result                               17361 non-null  float64\n",
      " 32  PalletID_Collect_Result                                17361 non-null  float64\n",
      " 33  Production_Qty_Collect_Result                          17361 non-null  float64\n",
      " 34  Chamber_Temp_OKNG_AutoClave                            17361 non-null  int64  \n",
      " 35  Judge_Value_OK                                         17361 non-null  int64  \n",
      " 36  CURE_Time_Dam                                          17361 non-null  float64\n",
      " 37  CURE_Time_Fill2                                        17361 non-null  float64\n",
      " 38  HEAD NORMAL DISTANCE_STAGE1_STAGE3_Dam                 17361 non-null  float64\n",
      " 39  HEAD NORMAL DISTANCE_TRIANGLE_height_Dam               17361 non-null  float64\n",
      " 40  HEAD NORMAL DISTANCE_STAGE1_STAGE3_Fill1               17361 non-null  float64\n",
      " 41  HEAD NORMAL DISTANCE_TRIANGLE_height_Fill1             17361 non-null  float64\n",
      " 42  HEAD NORMAL DISTANCE_STAGE1_STAGE2_Fill2               17361 non-null  float64\n",
      " 43  HEAD NORMAL DISTANCE_STAGE2_STAGE3_Fill2               17361 non-null  float64\n",
      " 44  HEAD NORMAL DISTANCE_STAGE1_STAGE3_Fill2               17361 non-null  float64\n",
      " 45  Stage1_Distance_Speed_avg_Dam                          17361 non-null  float64\n",
      " 46  Stage2_Distance_Speed_avg_Dam                          17361 non-null  float64\n",
      " 47  Stage3_Distance_Speed_avg_Dam                          17361 non-null  float64\n",
      " 48  THICKNESS_total_Dam                                    17361 non-null  float64\n",
      " 49  1st_Pressure_x_AutoClave                               17361 non-null  float64\n",
      " 50  2nd_Pressure_x_AutoClave                               17361 non-null  float64\n",
      " 51  3rd_Pressure_x_AutoClave                               17361 non-null  float64\n",
      " 52  All_Pressure_avg_AutoClave                             17361 non-null  float64\n",
      " 53  Chamber_Temp_x_AutoClave                               17361 non-null  int64  \n",
      " 54  All_Pressure_frac_Chamber_Temp_AutoClave               17361 non-null  float64\n",
      " 55  Workorder_0.9                                          17361 non-null  int64  \n",
      " 56  Workorder_0.6                                          17361 non-null  int64  \n",
      " 57  time_ratio_Dam                                         17361 non-null  float64\n",
      " 58  time_ratio_Fill1                                       17361 non-null  float64\n",
      " 59  time_ratio_Fill2                                       17361 non-null  float64\n",
      " 60  time_ratio_AutoClave                                   17361 non-null  float64\n",
      "dtypes: float64(50), int64(9), object(2)\n",
      "memory usage: 8.1+ MB\n"
     ]
    }
   ],
   "source": [
    "# train_data.info()\n",
    "print('---')\n",
    "test_data.info()"
   ]
  },
  {
   "cell_type": "markdown",
   "id": "4276e6df",
   "metadata": {},
   "source": [
    "## 데이터 분할"
   ]
  },
  {
   "cell_type": "code",
   "execution_count": 192,
   "id": "314cbecd",
   "metadata": {},
   "outputs": [
    {
     "name": "stdout",
     "output_type": "stream",
     "text": [
      "  \tAbnormal\tNormal\n",
      "  Total: Normal: 30524, AbNormal: 1880 ratio: 0.06159087930808544\n",
      "  Total: Normal: 7632, AbNormal: 470 ratio: 0.061582809224318656\n"
     ]
    }
   ],
   "source": [
    "df_train, df_val = train_test_split(\n",
    "    train_data,\n",
    "    test_size=0.2,\n",
    "    stratify=train_data[\"target\"],\n",
    "    shuffle=True,\n",
    "    random_state=RANDOM_STATE,\n",
    ")\n",
    "\n",
    "def print_stats(df: pd.DataFrame):\n",
    "    num_normal = len(df[df[\"target\"] == \"Normal\"])\n",
    "    num_abnormal = len(df[df[\"target\"] == \"AbNormal\"])\n",
    "\n",
    "    print(f\"  Total: Normal: {num_normal}, AbNormal: {num_abnormal}\" + f\" ratio: {num_abnormal/num_normal}\")\n",
    "\n",
    "\n",
    "# Print statistics\n",
    "print(f\"  \\tAbnormal\\tNormal\")\n",
    "print_stats(df_train)\n",
    "print_stats(df_val)"
   ]
  },
  {
   "cell_type": "code",
   "execution_count": 193,
   "id": "1771a777",
   "metadata": {},
   "outputs": [
    {
     "name": "stdout",
     "output_type": "stream",
     "text": [
      "<class 'pandas.core.frame.DataFrame'>\n",
      "RangeIndex: 40506 entries, 0 to 40505\n",
      "Data columns (total 60 columns):\n",
      " #   Column                                                 Non-Null Count  Dtype  \n",
      "---  ------                                                 --------------  -----  \n",
      " 0   Model.Suffix                                           40506 non-null  float64\n",
      " 1   Workorder                                              40506 non-null  float64\n",
      " 2   DISCHARGED SPEED OF RESIN Collect Result_Dam           40506 non-null  int64  \n",
      " 3   DISCHARGED TIME OF RESIN(Stage1) Collect Result_Dam    40506 non-null  float64\n",
      " 4   DISCHARGED TIME OF RESIN(Stage2) Collect Result_Dam    40506 non-null  float64\n",
      " 5   DISCHARGED TIME OF RESIN(Stage3) Collect Result_Dam    40506 non-null  float64\n",
      " 6   Dispense Volume(Stage1) Collect Result_Dam             40506 non-null  float64\n",
      " 7   Dispense Volume(Stage2) Collect Result_Dam             40506 non-null  float64\n",
      " 8   Dispense Volume(Stage3) Collect Result_Dam             40506 non-null  float64\n",
      " 9   Head Clean Position Z Collect Result_Dam               40506 non-null  float64\n",
      " 10  Head Purge Position Z Collect Result_Dam               40506 non-null  float64\n",
      " 11  Head Zero Position Y Collect Result_Dam                40506 non-null  float64\n",
      " 12  Head Zero Position Z Collect Result_Dam                40506 non-null  float64\n",
      " 13  WorkMode Collect Result                                40506 non-null  float64\n",
      " 14  1st Pressure Collect Result_AutoClave                  40506 non-null  float64\n",
      " 15  2nd Pressure Collect Result_AutoClave                  40506 non-null  float64\n",
      " 16  3rd Pressure Collect Result_AutoClave                  40506 non-null  float64\n",
      " 17  Chamber Temp. Collect Result_AutoClave                 40506 non-null  int64  \n",
      " 18  DISCHARGED SPEED OF RESIN Collect Result_Fill1         40506 non-null  float64\n",
      " 19  DISCHARGED TIME OF RESIN(Stage1) Collect Result_Fill1  40506 non-null  float64\n",
      " 20  DISCHARGED TIME OF RESIN(Stage2) Collect Result_Fill1  40506 non-null  float64\n",
      " 21  DISCHARGED TIME OF RESIN(Stage3) Collect Result_Fill1  40506 non-null  float64\n",
      " 22  Dispense Volume(Stage1) Collect Result_Fill1           40506 non-null  float64\n",
      " 23  Dispense Volume(Stage2) Collect Result_Fill1           40506 non-null  float64\n",
      " 24  Dispense Volume(Stage3) Collect Result_Fill1           40506 non-null  float64\n",
      " 25  Head Purge Position Z Collect Result_Fill1             40506 non-null  int64  \n",
      " 26  Head Purge Position Z Collect Result_Fill2             40506 non-null  float64\n",
      " 27  target                                                 40506 non-null  object \n",
      " 28  Dispenser_1                                            40506 non-null  int64  \n",
      " 29  Dispenser_2                                            40506 non-null  int64  \n",
      " 30  Receip_No_Collect_Result                               40506 non-null  int64  \n",
      " 31  PalletID_Collect_Result                                40506 non-null  int64  \n",
      " 32  Production_Qty_Collect_Result                          40506 non-null  int64  \n",
      " 33  Chamber_Temp_OKNG_AutoClave                            40506 non-null  int64  \n",
      " 34  Judge_Value_OK                                         40506 non-null  int64  \n",
      " 35  CURE_Time_Dam                                          40506 non-null  float64\n",
      " 36  CURE_Time_Fill2                                        40506 non-null  float64\n",
      " 37  HEAD NORMAL DISTANCE_STAGE1_STAGE3_Dam                 40506 non-null  float64\n",
      " 38  HEAD NORMAL DISTANCE_TRIANGLE_height_Dam               40506 non-null  float64\n",
      " 39  HEAD NORMAL DISTANCE_STAGE1_STAGE3_Fill1               40506 non-null  float64\n",
      " 40  HEAD NORMAL DISTANCE_TRIANGLE_height_Fill1             40506 non-null  float64\n",
      " 41  HEAD NORMAL DISTANCE_STAGE1_STAGE2_Fill2               40506 non-null  float64\n",
      " 42  HEAD NORMAL DISTANCE_STAGE2_STAGE3_Fill2               40506 non-null  float64\n",
      " 43  HEAD NORMAL DISTANCE_STAGE1_STAGE3_Fill2               40506 non-null  float64\n",
      " 44  Stage1_Distance_Speed_avg_Dam                          40506 non-null  float64\n",
      " 45  Stage2_Distance_Speed_avg_Dam                          40506 non-null  float64\n",
      " 46  Stage3_Distance_Speed_avg_Dam                          40506 non-null  float64\n",
      " 47  THICKNESS_total_Dam                                    40506 non-null  float64\n",
      " 48  1st_Pressure_x_AutoClave                               40506 non-null  float64\n",
      " 49  2nd_Pressure_x_AutoClave                               40506 non-null  float64\n",
      " 50  3rd_Pressure_x_AutoClave                               40506 non-null  float64\n",
      " 51  All_Pressure_avg_AutoClave                             40506 non-null  float64\n",
      " 52  Chamber_Temp_x_AutoClave                               40506 non-null  int64  \n",
      " 53  All_Pressure_frac_Chamber_Temp_AutoClave               40506 non-null  float64\n",
      " 54  Workorder_0.9                                          40506 non-null  int64  \n",
      " 55  Workorder_0.6                                          40506 non-null  int64  \n",
      " 56  time_ratio_Dam                                         40506 non-null  float64\n",
      " 57  time_ratio_Fill1                                       40506 non-null  float64\n",
      " 58  time_ratio_Fill2                                       40506 non-null  float64\n",
      " 59  time_ratio_AutoClave                                   40506 non-null  float64\n",
      "dtypes: float64(46), int64(13), object(1)\n",
      "memory usage: 18.5+ MB\n"
     ]
    }
   ],
   "source": [
    "train_data.info()"
   ]
  },
  {
   "cell_type": "markdown",
   "id": "644f718d",
   "metadata": {},
   "source": [
    "### 상관계수"
   ]
  },
  {
   "cell_type": "markdown",
   "id": "aef448d9",
   "metadata": {},
   "source": [
    "상관계수 0.7 이상 drop"
   ]
  },
  {
   "cell_type": "markdown",
   "id": "519265e7",
   "metadata": {},
   "source": [
    "공통 변수"
   ]
  },
  {
   "cell_type": "code",
   "execution_count": 194,
   "id": "67dbaff5",
   "metadata": {},
   "outputs": [],
   "source": [
    "com_variables = [\n",
    "    'Model.Suffix'\n",
    "    , 'Workorder'\n",
    "    , 'WorkMode Collect Result'\n",
    "    , 'Dispenser_1'\n",
    "    , 'Dispenser_2'\n",
    "    , 'Receip_No_Collect_Result'\n",
    "    , 'PalletID_Collect_Result'\n",
    "    , 'Production_Qty_Collect_Result'\n",
    "    , 'Judge_Value_OK'\n",
    "    , 'Workorder_0.9'\n",
    "    , 'Workorder_0.6'\n",
    "]\n",
    "\n",
    "# 변수들로만 이루어진 DataFrame 생성\n",
    "filtered_data = train_data[com_variables]"
   ]
  },
  {
   "cell_type": "code",
   "execution_count": 195,
   "id": "cf966448",
   "metadata": {},
   "outputs": [
    {
     "name": "stdout",
     "output_type": "stream",
     "text": [
      "                Variable 1               Variable 2  Correlation\n",
      "0              Dispenser_2  PalletID_Collect_Result     0.860274\n",
      "1  PalletID_Collect_Result              Dispenser_2     0.860274\n"
     ]
    }
   ],
   "source": [
    "# 상관계수 행렬 계산\n",
    "correlation_matrix = filtered_data.corr()\n",
    "\n",
    "# 자기자신을 제외하고 특정 값 이상인 조합 찾기\n",
    "strong_correlations = correlation_matrix[(correlation_matrix >= 0.7) & (correlation_matrix != 1)]\n",
    "\n",
    "# 리스트로 변환\n",
    "strong_correlations_pairs = strong_correlations.stack().reset_index()\n",
    "strong_correlations_pairs.columns = ['Variable 1', 'Variable 2', 'Correlation']\n",
    "\n",
    "# 결과 출력\n",
    "strong_correlations_pairs = strong_correlations_pairs[strong_correlations_pairs['Correlation'] >= 0.7]\n",
    "print(strong_correlations_pairs)"
   ]
  },
  {
   "cell_type": "code",
   "execution_count": 196,
   "id": "105fe344",
   "metadata": {},
   "outputs": [],
   "source": [
    "# 변수 삭제\n",
    "train_data.drop(['PalletID_Collect_Result'], axis=1, inplace=True)\n",
    "test_data.drop(['PalletID_Collect_Result'], axis=1, inplace=True)"
   ]
  },
  {
   "cell_type": "code",
   "execution_count": 197,
   "id": "807ffaf5",
   "metadata": {},
   "outputs": [],
   "source": [
    "# 공통 변수 리스트\n",
    "com_variables_train = [\n",
    "    'target'\n",
    "    , 'Model.Suffix'\n",
    "    , 'Workorder'\n",
    "    , 'WorkMode Collect Result'\n",
    "    , 'Dispenser_1'\n",
    "    , 'Dispenser_2'\n",
    "    , 'Receip_No_Collect_Result'\n",
    "    # , 'PalletID_Collect_Result'\n",
    "    , 'Production_Qty_Collect_Result'\n",
    "    , 'Judge_Value_OK'\n",
    "    , 'Workorder_0.9'\n",
    "    , 'Workorder_0.6'\n",
    "]\n",
    "\n",
    "com_variables_test = [\n",
    "    'target'\n",
    "    , 'Set ID'\n",
    "    , 'Model.Suffix'\n",
    "    , 'Workorder'\n",
    "    , 'WorkMode Collect Result'\n",
    "    , 'Dispenser_1'\n",
    "    , 'Dispenser_2'\n",
    "    , 'Receip_No_Collect_Result'\n",
    "    # , 'PalletID_Collect_Result'\n",
    "    , 'Production_Qty_Collect_Result'\n",
    "    , 'Judge_Value_OK'\n",
    "    , 'Workorder_0.9'\n",
    "    , 'Workorder_0.6'\n",
    "]"
   ]
  },
  {
   "cell_type": "markdown",
   "id": "2955d978",
   "metadata": {},
   "source": [
    "Dam"
   ]
  },
  {
   "cell_type": "code",
   "execution_count": 198,
   "id": "3b5911a8",
   "metadata": {},
   "outputs": [
    {
     "name": "stdout",
     "output_type": "stream",
     "text": [
      "<Dam 공정 관련 변수>\n",
      "DISCHARGED SPEED OF RESIN Collect Result_Dam\n",
      "DISCHARGED TIME OF RESIN(Stage1) Collect Result_Dam\n",
      "DISCHARGED TIME OF RESIN(Stage2) Collect Result_Dam\n",
      "DISCHARGED TIME OF RESIN(Stage3) Collect Result_Dam\n",
      "Dispense Volume(Stage1) Collect Result_Dam\n",
      "Dispense Volume(Stage2) Collect Result_Dam\n",
      "Dispense Volume(Stage3) Collect Result_Dam\n",
      "Head Clean Position Z Collect Result_Dam\n",
      "Head Purge Position Z Collect Result_Dam\n",
      "Head Zero Position Y Collect Result_Dam\n",
      "Head Zero Position Z Collect Result_Dam\n",
      "CURE_Time_Dam\n",
      "HEAD NORMAL DISTANCE_STAGE1_STAGE3_Dam\n",
      "HEAD NORMAL DISTANCE_TRIANGLE_height_Dam\n",
      "Stage1_Distance_Speed_avg_Dam\n",
      "Stage2_Distance_Speed_avg_Dam\n",
      "Stage3_Distance_Speed_avg_Dam\n",
      "THICKNESS_total_Dam\n",
      "time_ratio_Dam\n"
     ]
    }
   ],
   "source": [
    "# 열 이름 필터링\n",
    "Process_Desc_col = train_data.filter(like='_Dam').columns\n",
    "\n",
    "# 필터링된 열 이름 출력\n",
    "print(\"<Dam 공정 관련 변수>\")\n",
    "for col in Process_Desc_col:\n",
    "    print(col)"
   ]
  },
  {
   "cell_type": "code",
   "execution_count": 199,
   "id": "5d01ad2e",
   "metadata": {},
   "outputs": [],
   "source": [
    "# 새로운 변수 목록\n",
    "variables = [\n",
    "    \"DISCHARGED SPEED OF RESIN Collect Result_Dam\",\n",
    "    \"DISCHARGED TIME OF RESIN(Stage1) Collect Result_Dam\",\n",
    "    \"DISCHARGED TIME OF RESIN(Stage2) Collect Result_Dam\",\n",
    "    \"DISCHARGED TIME OF RESIN(Stage3) Collect Result_Dam\",\n",
    "    \"Dispense Volume(Stage1) Collect Result_Dam\",\n",
    "    \"Dispense Volume(Stage2) Collect Result_Dam\",\n",
    "    \"Dispense Volume(Stage3) Collect Result_Dam\",\n",
    "    \"Head Clean Position Z Collect Result_Dam\",\n",
    "    \"Head Purge Position Z Collect Result_Dam\",\n",
    "    \"Head Zero Position Y Collect Result_Dam\",\n",
    "    \"Head Zero Position Z Collect Result_Dam\",\n",
    "    \"CURE_Time_Dam\",\n",
    "    \"HEAD NORMAL DISTANCE_STAGE1_STAGE3_Dam\",\n",
    "    \"HEAD NORMAL DISTANCE_TRIANGLE_height_Dam\",\n",
    "    \"Stage1_Distance_Speed_avg_Dam\",\n",
    "    \"Stage2_Distance_Speed_avg_Dam\",\n",
    "    \"Stage3_Distance_Speed_avg_Dam\",\n",
    "    \"THICKNESS_total_Dam\",\n",
    "    \"time_ratio_Dam\"\n",
    "]\n",
    "\n",
    "# 변수들로만 이루어진 DataFrame 생성\n",
    "filtered_data = train_data[variables]"
   ]
  },
  {
   "cell_type": "code",
   "execution_count": 200,
   "id": "96b98835",
   "metadata": {},
   "outputs": [
    {
     "name": "stdout",
     "output_type": "stream",
     "text": [
      "                                           Variable 1  \\\n",
      "0        DISCHARGED SPEED OF RESIN Collect Result_Dam   \n",
      "1   DISCHARGED TIME OF RESIN(Stage1) Collect Resul...   \n",
      "2   DISCHARGED TIME OF RESIN(Stage1) Collect Resul...   \n",
      "3   DISCHARGED TIME OF RESIN(Stage2) Collect Resul...   \n",
      "4   DISCHARGED TIME OF RESIN(Stage3) Collect Resul...   \n",
      "5   DISCHARGED TIME OF RESIN(Stage3) Collect Resul...   \n",
      "6          Dispense Volume(Stage1) Collect Result_Dam   \n",
      "7          Dispense Volume(Stage1) Collect Result_Dam   \n",
      "8          Dispense Volume(Stage1) Collect Result_Dam   \n",
      "9          Dispense Volume(Stage2) Collect Result_Dam   \n",
      "10         Dispense Volume(Stage2) Collect Result_Dam   \n",
      "11           Head Clean Position Z Collect Result_Dam   \n",
      "12            Head Zero Position Z Collect Result_Dam   \n",
      "13                                      CURE_Time_Dam   \n",
      "14                      Stage1_Distance_Speed_avg_Dam   \n",
      "15                      Stage3_Distance_Speed_avg_Dam   \n",
      "\n",
      "                                           Variable 2  Correlation  \n",
      "0             Head Zero Position Z Collect Result_Dam     0.808023  \n",
      "1   DISCHARGED TIME OF RESIN(Stage3) Collect Resul...     0.999476  \n",
      "2          Dispense Volume(Stage1) Collect Result_Dam     0.788676  \n",
      "3          Dispense Volume(Stage2) Collect Result_Dam     0.823917  \n",
      "4   DISCHARGED TIME OF RESIN(Stage1) Collect Resul...     0.999476  \n",
      "5          Dispense Volume(Stage1) Collect Result_Dam     0.783575  \n",
      "6   DISCHARGED TIME OF RESIN(Stage1) Collect Resul...     0.788676  \n",
      "7   DISCHARGED TIME OF RESIN(Stage3) Collect Resul...     0.783575  \n",
      "8          Dispense Volume(Stage2) Collect Result_Dam     0.767858  \n",
      "9   DISCHARGED TIME OF RESIN(Stage2) Collect Resul...     0.823917  \n",
      "10         Dispense Volume(Stage1) Collect Result_Dam     0.767858  \n",
      "11                                      CURE_Time_Dam     0.729409  \n",
      "12       DISCHARGED SPEED OF RESIN Collect Result_Dam     0.808023  \n",
      "13           Head Clean Position Z Collect Result_Dam     0.729409  \n",
      "14                      Stage3_Distance_Speed_avg_Dam     0.999898  \n",
      "15                      Stage1_Distance_Speed_avg_Dam     0.999898  \n"
     ]
    }
   ],
   "source": [
    "# 상관계수 행렬 계산\n",
    "correlation_matrix = filtered_data.corr()\n",
    "\n",
    "# 자기자신을 제외하고 특정 값 이상인 조합 찾기\n",
    "strong_correlations = correlation_matrix[(correlation_matrix >= 0.7) & (correlation_matrix != 1)]\n",
    "\n",
    "# 리스트로 변환\n",
    "strong_correlations_pairs = strong_correlations.stack().reset_index()\n",
    "strong_correlations_pairs.columns = ['Variable 1', 'Variable 2', 'Correlation']\n",
    "\n",
    "# 결과 출력\n",
    "strong_correlations_pairs = strong_correlations_pairs[strong_correlations_pairs['Correlation'] >= 0.7]\n",
    "print(strong_correlations_pairs)"
   ]
  },
  {
   "cell_type": "code",
   "execution_count": 201,
   "id": "749bda8b",
   "metadata": {},
   "outputs": [],
   "source": [
    "# 드랍할 열 목록\n",
    "columns_to_drop = [\n",
    "    \"DISCHARGED TIME OF RESIN(Stage1) Collect Result_Dam\"\n",
    "    , \"DISCHARGED TIME OF RESIN(Stage2) Collect Result_Dam\"\n",
    "    , \"DISCHARGED TIME OF RESIN(Stage3) Collect Result_Dam\"\n",
    "    , \"Dispense Volume(Stage1) Collect Result_Dam\"\n",
    "    , \"Head Clean Position Z Collect Result_Dam\"\n",
    "    , \"Head Zero Position Z Collect Result_Dam\"\n",
    "    , \"Stage3_Distance_Speed_avg_Dam\"\n",
    "]\n",
    "\n",
    "# 열 삭제\n",
    "train_data.drop(columns=columns_to_drop, inplace=True, errors='ignore')\n",
    "test_data.drop(columns=columns_to_drop, inplace=True, errors='ignore')"
   ]
  },
  {
   "cell_type": "markdown",
   "id": "df9bf106",
   "metadata": {},
   "source": [
    "AutoCalve"
   ]
  },
  {
   "cell_type": "code",
   "execution_count": 202,
   "id": "f80651a8",
   "metadata": {},
   "outputs": [
    {
     "name": "stdout",
     "output_type": "stream",
     "text": [
      "<AutoClave 공정 관련 변수>\n",
      "1st Pressure Collect Result_AutoClave\n",
      "2nd Pressure Collect Result_AutoClave\n",
      "3rd Pressure Collect Result_AutoClave\n",
      "Chamber Temp. Collect Result_AutoClave\n",
      "Chamber_Temp_OKNG_AutoClave\n",
      "1st_Pressure_x_AutoClave\n",
      "2nd_Pressure_x_AutoClave\n",
      "3rd_Pressure_x_AutoClave\n",
      "All_Pressure_avg_AutoClave\n",
      "Chamber_Temp_x_AutoClave\n",
      "All_Pressure_frac_Chamber_Temp_AutoClave\n",
      "time_ratio_AutoClave\n"
     ]
    }
   ],
   "source": [
    "# 열 이름 필터링\n",
    "Process_Desc_col = train_data.filter(like='_AutoClave').columns\n",
    "\n",
    "# 필터링된 열 이름 출력\n",
    "print(\"<AutoClave 공정 관련 변수>\")\n",
    "for col in Process_Desc_col:\n",
    "    print(col)"
   ]
  },
  {
   "cell_type": "code",
   "execution_count": 203,
   "id": "566073bc",
   "metadata": {},
   "outputs": [],
   "source": [
    "# 새로운 변수 목록\n",
    "variables = [\n",
    "    \"1st Pressure Collect Result_AutoClave\"\n",
    "    , \"2nd Pressure Collect Result_AutoClave\"\n",
    "    , \"3rd Pressure Collect Result_AutoClave\"\n",
    "    , \"Chamber Temp. Collect Result_AutoClave\"\n",
    "    , \"Chamber_Temp_OKNG_AutoClave\"\n",
    "    , \"1st_Pressure_x_AutoClave\"\n",
    "    , \"2nd_Pressure_x_AutoClave\"\n",
    "    , \"3rd_Pressure_x_AutoClave\"\n",
    "    , \"All_Pressure_avg_AutoClave\"\n",
    "    , \"Chamber_Temp_x_AutoClave\"\n",
    "    , \"All_Pressure_frac_Chamber_Temp_AutoClave\"\n",
    "    , \"time_ratio_AutoClave\"\n",
    "]\n",
    "\n",
    "# 변수들로만 이루어진 DataFrame 생성\n",
    "filtered_data = train_data[variables]"
   ]
  },
  {
   "cell_type": "code",
   "execution_count": 204,
   "id": "290c852f",
   "metadata": {},
   "outputs": [
    {
     "name": "stdout",
     "output_type": "stream",
     "text": [
      "                               Variable 1  \\\n",
      "0  Chamber Temp. Collect Result_AutoClave   \n",
      "1             Chamber_Temp_OKNG_AutoClave   \n",
      "2                2nd_Pressure_x_AutoClave   \n",
      "3                Chamber_Temp_x_AutoClave   \n",
      "\n",
      "                               Variable 2  Correlation  \n",
      "0             Chamber_Temp_OKNG_AutoClave     0.742841  \n",
      "1  Chamber Temp. Collect Result_AutoClave     0.742841  \n",
      "2                Chamber_Temp_x_AutoClave     0.804096  \n",
      "3                2nd_Pressure_x_AutoClave     0.804096  \n"
     ]
    }
   ],
   "source": [
    "# 상관계수 행렬 계산\n",
    "correlation_matrix = filtered_data.corr()\n",
    "\n",
    "# 자기자신을 제외하고 특정 값 이상인 조합 찾기\n",
    "strong_correlations = correlation_matrix[(correlation_matrix >= 0.7) & (correlation_matrix != 1)]\n",
    "\n",
    "# 리스트로 변환\n",
    "strong_correlations_pairs = strong_correlations.stack().reset_index()\n",
    "strong_correlations_pairs.columns = ['Variable 1', 'Variable 2', 'Correlation']\n",
    "\n",
    "# 결과 출력\n",
    "strong_correlations_pairs = strong_correlations_pairs[strong_correlations_pairs['Correlation'] >= 0.7]\n",
    "print(strong_correlations_pairs)"
   ]
  },
  {
   "cell_type": "code",
   "execution_count": 205,
   "id": "fff17e1a",
   "metadata": {},
   "outputs": [],
   "source": [
    "# 드랍할 열 목록\n",
    "columns_to_drop = [\n",
    "    \"2nd_Pressure_x_AutoClave\"\n",
    "    , 'Chamber_Temp_OKNG_AutoClave'\n",
    "    , 'Chamber_Temp_x_AutoClave'\n",
    "]\n",
    "\n",
    "# 열 삭제\n",
    "train_data.drop(columns=columns_to_drop, inplace=True, errors='ignore')\n",
    "test_data.drop(columns=columns_to_drop, inplace=True, errors='ignore')"
   ]
  },
  {
   "cell_type": "markdown",
   "id": "1fa86a4b",
   "metadata": {},
   "source": [
    "Fill1"
   ]
  },
  {
   "cell_type": "code",
   "execution_count": 206,
   "id": "a03bc6de",
   "metadata": {},
   "outputs": [
    {
     "name": "stdout",
     "output_type": "stream",
     "text": [
      "<Fill1 공정 관련 변수>\n",
      "DISCHARGED SPEED OF RESIN Collect Result_Fill1\n",
      "DISCHARGED TIME OF RESIN(Stage1) Collect Result_Fill1\n",
      "DISCHARGED TIME OF RESIN(Stage2) Collect Result_Fill1\n",
      "DISCHARGED TIME OF RESIN(Stage3) Collect Result_Fill1\n",
      "Dispense Volume(Stage1) Collect Result_Fill1\n",
      "Dispense Volume(Stage2) Collect Result_Fill1\n",
      "Dispense Volume(Stage3) Collect Result_Fill1\n",
      "Head Purge Position Z Collect Result_Fill1\n",
      "HEAD NORMAL DISTANCE_STAGE1_STAGE3_Fill1\n",
      "HEAD NORMAL DISTANCE_TRIANGLE_height_Fill1\n",
      "time_ratio_Fill1\n"
     ]
    }
   ],
   "source": [
    "# 열 이름 필터링\n",
    "Process_Desc_col = train_data.filter(like='_Fill1').columns\n",
    "\n",
    "# 필터링된 열 이름 출력\n",
    "print(\"<Fill1 공정 관련 변수>\")\n",
    "for col in Process_Desc_col:\n",
    "    print(col)"
   ]
  },
  {
   "cell_type": "code",
   "execution_count": 207,
   "id": "3fa145f8",
   "metadata": {},
   "outputs": [],
   "source": [
    "# 새로운 변수 목록\n",
    "variables = [\n",
    "    \"DISCHARGED SPEED OF RESIN Collect Result_Fill1\",\n",
    "    \"DISCHARGED TIME OF RESIN(Stage1) Collect Result_Fill1\",\n",
    "    \"DISCHARGED TIME OF RESIN(Stage2) Collect Result_Fill1\",\n",
    "    \"DISCHARGED TIME OF RESIN(Stage3) Collect Result_Fill1\",\n",
    "    \"Dispense Volume(Stage1) Collect Result_Fill1\",\n",
    "    \"Dispense Volume(Stage2) Collect Result_Fill1\",\n",
    "    \"Dispense Volume(Stage3) Collect Result_Fill1\",\n",
    "    \"Head Purge Position Z Collect Result_Fill1\",\n",
    "    \"HEAD NORMAL DISTANCE_STAGE1_STAGE3_Fill1\",\n",
    "    \"HEAD NORMAL DISTANCE_TRIANGLE_height_Fill1\",\n",
    "    \"time_ratio_Fill1\"\n",
    "]\n",
    "\n",
    "# 변수들로만 이루어진 DataFrame 생성\n",
    "filtered_data = train_data[variables]"
   ]
  },
  {
   "cell_type": "code",
   "execution_count": 208,
   "id": "0e3d6b34",
   "metadata": {},
   "outputs": [
    {
     "name": "stdout",
     "output_type": "stream",
     "text": [
      "                                          Variable 1  \\\n",
      "0  DISCHARGED TIME OF RESIN(Stage1) Collect Resul...   \n",
      "1  DISCHARGED TIME OF RESIN(Stage2) Collect Resul...   \n",
      "2       Dispense Volume(Stage1) Collect Result_Fill1   \n",
      "3       Dispense Volume(Stage1) Collect Result_Fill1   \n",
      "4       Dispense Volume(Stage2) Collect Result_Fill1   \n",
      "5           HEAD NORMAL DISTANCE_STAGE1_STAGE3_Fill1   \n",
      "\n",
      "                                          Variable 2  Correlation  \n",
      "0       Dispense Volume(Stage1) Collect Result_Fill1     0.834402  \n",
      "1       Dispense Volume(Stage2) Collect Result_Fill1     0.988529  \n",
      "2  DISCHARGED TIME OF RESIN(Stage1) Collect Resul...     0.834402  \n",
      "3           HEAD NORMAL DISTANCE_STAGE1_STAGE3_Fill1     0.763230  \n",
      "4  DISCHARGED TIME OF RESIN(Stage2) Collect Resul...     0.988529  \n",
      "5       Dispense Volume(Stage1) Collect Result_Fill1     0.763230  \n"
     ]
    }
   ],
   "source": [
    "# 상관계수 행렬 계산\n",
    "correlation_matrix = filtered_data.corr()\n",
    "\n",
    "# 자기자신을 제외하고 특정 값 이상인 조합 찾기\n",
    "strong_correlations = correlation_matrix[(correlation_matrix >= 0.7) & (correlation_matrix != 1)]\n",
    "\n",
    "# 리스트로 변환\n",
    "strong_correlations_pairs = strong_correlations.stack().reset_index()\n",
    "strong_correlations_pairs.columns = ['Variable 1', 'Variable 2', 'Correlation']\n",
    "\n",
    "# 결과 출력\n",
    "strong_correlations_pairs = strong_correlations_pairs[strong_correlations_pairs['Correlation'] >= 0.7]\n",
    "print(strong_correlations_pairs)"
   ]
  },
  {
   "cell_type": "code",
   "execution_count": 209,
   "id": "5e63aa21",
   "metadata": {},
   "outputs": [],
   "source": [
    "# 드랍할 열 목록\n",
    "columns_to_drop = [\n",
    "    \"Dispense Volume(Stage1) Collect Result_Fill1\"\n",
    "    , \"Dispense Volume(Stage2) Collect Result_Fill1\"\n",
    "]\n",
    "\n",
    "# 열 삭제\n",
    "train_data.drop(columns=columns_to_drop, inplace=True, errors='ignore')\n",
    "test_data.drop(columns=columns_to_drop, inplace=True, errors='ignore')"
   ]
  },
  {
   "cell_type": "markdown",
   "id": "04408756",
   "metadata": {},
   "source": [
    "Fill2"
   ]
  },
  {
   "cell_type": "code",
   "execution_count": 210,
   "id": "04ce5f7d",
   "metadata": {},
   "outputs": [
    {
     "name": "stdout",
     "output_type": "stream",
     "text": [
      "<Fill1 공정 관련 변수>\n",
      "Head Purge Position Z Collect Result_Fill2\n",
      "CURE_Time_Fill2\n",
      "HEAD NORMAL DISTANCE_STAGE1_STAGE2_Fill2\n",
      "HEAD NORMAL DISTANCE_STAGE2_STAGE3_Fill2\n",
      "HEAD NORMAL DISTANCE_STAGE1_STAGE3_Fill2\n",
      "time_ratio_Fill2\n"
     ]
    }
   ],
   "source": [
    "# 열 이름 필터링\n",
    "Process_Desc_col = train_data.filter(like='_Fill2').columns\n",
    "\n",
    "# 필터링된 열 이름 출력\n",
    "print(\"<Fill1 공정 관련 변수>\")\n",
    "for col in Process_Desc_col:\n",
    "    print(col)"
   ]
  },
  {
   "cell_type": "code",
   "execution_count": 211,
   "id": "dfb13c1a",
   "metadata": {},
   "outputs": [],
   "source": [
    "# 새로운 변수 목록\n",
    "variables = [\n",
    "    \"Head Purge Position Z Collect Result_Fill2\"\n",
    "    , \"CURE_Time_Fill2\"\n",
    "    , \"HEAD NORMAL DISTANCE_STAGE1_STAGE2_Fill2\"\n",
    "    , \"HEAD NORMAL DISTANCE_STAGE2_STAGE3_Fill2\"\n",
    "    , \"HEAD NORMAL DISTANCE_STAGE1_STAGE3_Fill2\"\n",
    "    , \"time_ratio_Fill2\"\n",
    "]\n",
    "\n",
    "# 변수들로만 이루어진 DataFrame 생성\n",
    "filtered_data = train_data[variables]"
   ]
  },
  {
   "cell_type": "code",
   "execution_count": 212,
   "id": "6ec9d4a8",
   "metadata": {},
   "outputs": [
    {
     "name": "stdout",
     "output_type": "stream",
     "text": [
      "                                 Variable 1  \\\n",
      "0  HEAD NORMAL DISTANCE_STAGE1_STAGE2_Fill2   \n",
      "1  HEAD NORMAL DISTANCE_STAGE1_STAGE2_Fill2   \n",
      "2  HEAD NORMAL DISTANCE_STAGE2_STAGE3_Fill2   \n",
      "3  HEAD NORMAL DISTANCE_STAGE2_STAGE3_Fill2   \n",
      "4  HEAD NORMAL DISTANCE_STAGE1_STAGE3_Fill2   \n",
      "5  HEAD NORMAL DISTANCE_STAGE1_STAGE3_Fill2   \n",
      "\n",
      "                                 Variable 2  Correlation  \n",
      "0  HEAD NORMAL DISTANCE_STAGE2_STAGE3_Fill2     0.999993  \n",
      "1  HEAD NORMAL DISTANCE_STAGE1_STAGE3_Fill2     0.999999  \n",
      "2  HEAD NORMAL DISTANCE_STAGE1_STAGE2_Fill2     0.999993  \n",
      "3  HEAD NORMAL DISTANCE_STAGE1_STAGE3_Fill2     0.999997  \n",
      "4  HEAD NORMAL DISTANCE_STAGE1_STAGE2_Fill2     0.999999  \n",
      "5  HEAD NORMAL DISTANCE_STAGE2_STAGE3_Fill2     0.999997  \n"
     ]
    }
   ],
   "source": [
    "# 상관계수 행렬 계산\n",
    "correlation_matrix = filtered_data.corr()\n",
    "\n",
    "# 자기자신을 제외하고 특정 값 이상인 조합 찾기\n",
    "strong_correlations = correlation_matrix[(correlation_matrix >= 0.7) & (correlation_matrix != 1)]\n",
    "\n",
    "# 리스트로 변환\n",
    "strong_correlations_pairs = strong_correlations.stack().reset_index()\n",
    "strong_correlations_pairs.columns = ['Variable 1', 'Variable 2', 'Correlation']\n",
    "\n",
    "# 결과 출력\n",
    "strong_correlations_pairs = strong_correlations_pairs[strong_correlations_pairs['Correlation'] >= 0.7]\n",
    "print(strong_correlations_pairs)"
   ]
  },
  {
   "cell_type": "code",
   "execution_count": 213,
   "id": "7c533e10",
   "metadata": {},
   "outputs": [],
   "source": [
    "# 드랍할 열 목록\n",
    "columns_to_drop = [\n",
    "    \"HEAD NORMAL DISTANCE_STAGE1_STAGE2_Fill2\",\n",
    "    \"HEAD NORMAL DISTANCE_STAGE2_STAGE3_Fill2\"\n",
    "]\n",
    "\n",
    "# 열 삭제\n",
    "train_data.drop(columns=columns_to_drop, inplace=True, errors='ignore')\n",
    "test_data.drop(columns=columns_to_drop, inplace=True, errors='ignore')"
   ]
  },
  {
   "cell_type": "markdown",
   "id": "8c32095b",
   "metadata": {},
   "source": [
    "공정별 변수 + 공통 변수 결합  \n",
    "-> 총 4개의 데이터셋을 구성하고 각 데이터셋 마다 train,test 를 만듬"
   ]
  },
  {
   "cell_type": "code",
   "execution_count": 214,
   "id": "84f9c1c4",
   "metadata": {},
   "outputs": [],
   "source": [
    "# 공정 이름 필터링 후 공통 변수와 결합\n",
    "def create_dataset(train_data, test_data, process_name, com_variables_train, com_variables_test):\n",
    "    # 열 이름 필터링\n",
    "    Process_Desc_col = train_data.filter(like=process_name).columns\n",
    "    \n",
    "    # train 데이터셋 생성\n",
    "    final_columns_train = list(Process_Desc_col) + com_variables_train\n",
    "    train_dataset = train_data[final_columns_train]\n",
    "    \n",
    "    # test 데이터셋 생성\n",
    "    final_columns_test = list(Process_Desc_col) + com_variables_test\n",
    "    test_dataset = test_data[final_columns_test]\n",
    "    \n",
    "    return train_dataset, test_dataset\n",
    "\n",
    "# 공통 변수 정의\n",
    "## com_variables_train = [...]  -> 이전 코드에서 정의한 변수 사용\n",
    "## com_variables_test = [...]   -> 이전 코드에서 정의한 변수 사용\n",
    "\n",
    "# 데이터셋 생성\n",
    "train_data_dam, test_data_dam = create_dataset(train_data, test_data, '_Dam', com_variables_train, com_variables_test)\n",
    "train_data_fill1, test_data_fill1 = create_dataset(train_data, test_data, '_Fill1', com_variables_train, com_variables_test)\n",
    "train_data_fill2, test_data_fill2 = create_dataset(train_data, test_data, '_Fill2', com_variables_train, com_variables_test)\n",
    "train_data_autoclave, test_data_autoclave = create_dataset(train_data, test_data, '_AutoClave', com_variables_train, com_variables_test)"
   ]
  },
  {
   "cell_type": "markdown",
   "id": "5c4e5b59",
   "metadata": {},
   "source": [
    "## 3. 모델 학습"
   ]
  },
  {
   "cell_type": "markdown",
   "id": "cfaa06da",
   "metadata": {},
   "source": [
    "### 모델 정의"
   ]
  },
  {
   "cell_type": "code",
   "execution_count": 215,
   "id": "fb9e8f54",
   "metadata": {},
   "outputs": [],
   "source": [
    "from sklearn.metrics import (\n",
    "    accuracy_score,\n",
    "    confusion_matrix,\n",
    "    f1_score,\n",
    "    precision_score,\n",
    "    recall_score,\n",
    ")\n",
    "\n",
    "def get_clf_eval(y_test, y_pred_proba, threshold=0.5):\n",
    "    # 확률을 기준으로 예측 레이블 생성\n",
    "    y_pred = (y_pred_proba >= threshold).astype(int)  # 0.5 이상의 확률을 양성으로 간주\n",
    "\n",
    "    confusion = confusion_matrix(y_test, y_pred)\n",
    "    accuracy = accuracy_score(y_test, y_pred)\n",
    "    precision = precision_score(y_test, y_pred)\n",
    "    recall = recall_score(y_test, y_pred)\n",
    "    f1 = f1_score(y_test, y_pred)\n",
    "\n",
    "    print(\"Confusion Matrix:\\n\", confusion)\n",
    "    print(f\"Accuracy: {accuracy:.4f}\")\n",
    "    print(f\"Precision: {precision:.4f}\")\n",
    "    print(f\"Recall: {recall:.4f}\")\n",
    "    print(f\"F1 Score: {f1:.4f}\")\n"
   ]
  },
  {
   "cell_type": "markdown",
   "id": "c2e56224",
   "metadata": {},
   "source": [
    "optuna"
   ]
  },
  {
   "cell_type": "markdown",
   "id": "73860455",
   "metadata": {},
   "source": [
    "스레스홀드 0.3으로 맞춘상태에서 튜닝 진행한 것"
   ]
  },
  {
   "cell_type": "markdown",
   "id": "7abb2d66",
   "metadata": {},
   "source": [
    "Best trial: score 0.25299600532623173,   \n",
    "params {'n_estimators': 979, 'num_leaves': 1565, 'max_depth': 34, 'learning_rate': 0.04888906225539191,  'min_child_samples': 36}  "
   ]
  },
  {
   "cell_type": "code",
   "execution_count": 218,
   "id": "a14db63e",
   "metadata": {},
   "outputs": [
    {
     "name": "stderr",
     "output_type": "stream",
     "text": [
      "C:\\Users\\juneh\\AppData\\Roaming\\Python\\Python37\\site-packages\\ipykernel_launcher.py:8: SettingWithCopyWarning: \n",
      "A value is trying to be set on a copy of a slice from a DataFrame.\n",
      "Try using .loc[row_indexer,col_indexer] = value instead\n",
      "\n",
      "See the caveats in the documentation: https://pandas.pydata.org/pandas-docs/stable/user_guide/indexing.html#returning-a-view-versus-a-copy\n",
      "  \n",
      "[I 2024-08-16 00:17:01,871] A new study created in memory with name: no-name-02ccf1ae-ffb4-4ba4-8c8c-1dcb6f634322\n",
      "[I 2024-08-16 00:17:25,742] Trial 0 finished with value: 0.2226027397260274 and parameters: {'n_estimators': 790, 'num_leaves': 2146, 'max_depth': 119, 'learning_rate': 0.06166547557397882, 'min_child_samples': 205}. Best is trial 0 with value: 0.2226027397260274.\n",
      "[I 2024-08-16 00:24:52,446] Trial 1 finished with value: 0.2194787379972565 and parameters: {'n_estimators': 2206, 'num_leaves': 2888, 'max_depth': 195, 'learning_rate': 0.05178141716690417, 'min_child_samples': 28}. Best is trial 0 with value: 0.2226027397260274.\n",
      "[I 2024-08-16 00:26:36,796] Trial 2 finished with value: 0.21750663129973477 and parameters: {'n_estimators': 1469, 'num_leaves': 1226, 'max_depth': 49, 'learning_rate': 0.002000452888170992, 'min_child_samples': 126}. Best is trial 0 with value: 0.2226027397260274.\n",
      "[I 2024-08-16 00:28:42,020] Trial 3 finished with value: 0.19784172661870503 and parameters: {'n_estimators': 1731, 'num_leaves': 553, 'max_depth': 172, 'learning_rate': 0.008684052021612865, 'min_child_samples': 124}. Best is trial 0 with value: 0.2226027397260274.\n",
      "[I 2024-08-16 00:30:52,243] Trial 4 finished with value: 0.23428571428571426 and parameters: {'n_estimators': 1285, 'num_leaves': 2427, 'max_depth': 184, 'learning_rate': 0.042318458794414655, 'min_child_samples': 102}. Best is trial 4 with value: 0.23428571428571426.\n",
      "[I 2024-08-16 00:32:03,673] Trial 5 finished with value: 0.21428571428571425 and parameters: {'n_estimators': 562, 'num_leaves': 723, 'max_depth': 258, 'learning_rate': 0.04962001162483311, 'min_child_samples': 77}. Best is trial 4 with value: 0.23428571428571426.\n",
      "[I 2024-08-16 00:39:12,261] Trial 6 finished with value: 0.22077922077922077 and parameters: {'n_estimators': 2403, 'num_leaves': 1851, 'max_depth': 122, 'learning_rate': 0.06476333477413102, 'min_child_samples': 54}. Best is trial 4 with value: 0.23428571428571426.\n",
      "[I 2024-08-16 00:43:26,199] Trial 7 finished with value: 0.23192360163710776 and parameters: {'n_estimators': 2273, 'num_leaves': 600, 'max_depth': 184, 'learning_rate': 0.02113127234039541, 'min_child_samples': 77}. Best is trial 4 with value: 0.23428571428571426.\n",
      "[I 2024-08-16 00:47:00,054] Trial 8 finished with value: 0.21374045801526717 and parameters: {'n_estimators': 1498, 'num_leaves': 2285, 'max_depth': 240, 'learning_rate': 0.08959229338857824, 'min_child_samples': 68}. Best is trial 4 with value: 0.23428571428571426.\n",
      "[I 2024-08-16 00:47:28,923] Trial 9 finished with value: 0.21338155515370705 and parameters: {'n_estimators': 532, 'num_leaves': 2402, 'max_depth': 63, 'learning_rate': 0.0795619223737381, 'min_child_samples': 286}. Best is trial 4 with value: 0.23428571428571426.\n",
      "[I 2024-08-16 00:49:18,652] Trial 10 finished with value: 0.21466905187835422 and parameters: {'n_estimators': 1143, 'num_leaves': 2986, 'max_depth': 283, 'learning_rate': 0.030359066403491803, 'min_child_samples': 193}. Best is trial 4 with value: 0.23428571428571426.\n",
      "[I 2024-08-16 01:04:34,027] Trial 11 finished with value: 0.23380281690140842 and parameters: {'n_estimators': 2857, 'num_leaves': 1451, 'max_depth': 218, 'learning_rate': 0.027991884018585, 'min_child_samples': 8}. Best is trial 4 with value: 0.23428571428571426.\n",
      "[I 2024-08-16 01:20:25,605] Trial 12 finished with value: 0.22594142259414227 and parameters: {'n_estimators': 2968, 'num_leaves': 1353, 'max_depth': 217, 'learning_rate': 0.03346150357626423, 'min_child_samples': 3}. Best is trial 4 with value: 0.23428571428571426.\n",
      "[I 2024-08-16 01:25:22,698] Trial 13 finished with value: 0.22774869109947646 and parameters: {'n_estimators': 2967, 'num_leaves': 1475, 'max_depth': 132, 'learning_rate': 0.03589506503241021, 'min_child_samples': 153}. Best is trial 4 with value: 0.23428571428571426.\n",
      "[I 2024-08-16 01:33:50,866] Trial 14 finished with value: 0.2327365728900256 and parameters: {'n_estimators': 1109, 'num_leaves': 1783, 'max_depth': 224, 'learning_rate': 0.017031000137193806, 'min_child_samples': 5}. Best is trial 4 with value: 0.23428571428571426.\n",
      "[I 2024-08-16 01:36:55,080] Trial 15 finished with value: 0.2242503259452412 and parameters: {'n_estimators': 1963, 'num_leaves': 1032, 'max_depth': 291, 'learning_rate': 0.04496891147494381, 'min_child_samples': 116}. Best is trial 4 with value: 0.23428571428571426.\n",
      "[I 2024-08-16 01:39:40,835] Trial 16 finished with value: 0.21016949152542375 and parameters: {'n_estimators': 2600, 'num_leaves': 2580, 'max_depth': 84, 'learning_rate': 0.02230698200295518, 'min_child_samples': 269}. Best is trial 4 with value: 0.23428571428571426.\n",
      "[I 2024-08-16 01:40:48,622] Trial 17 finished with value: 0.22837370242214533 and parameters: {'n_estimators': 1191, 'num_leaves': 2018, 'max_depth': 12, 'learning_rate': 0.06712443828154954, 'min_child_samples': 187}. Best is trial 4 with value: 0.23428571428571426.\n",
      "[I 2024-08-16 01:43:01,074] Trial 18 finished with value: 0.22042139384116693 and parameters: {'n_estimators': 1894, 'num_leaves': 1647, 'max_depth': 151, 'learning_rate': 0.04038344981291059, 'min_child_samples': 244}. Best is trial 4 with value: 0.23428571428571426.\n",
      "[I 2024-08-16 01:53:30,098] Trial 19 finished with value: 0.22721268163804495 and parameters: {'n_estimators': 2674, 'num_leaves': 2641, 'max_depth': 210, 'learning_rate': 0.05445855193220358, 'min_child_samples': 40}. Best is trial 4 with value: 0.23428571428571426.\n",
      "[I 2024-08-16 01:56:50,150] Trial 20 finished with value: 0.2216687422166874 and parameters: {'n_estimators': 1520, 'num_leaves': 1118, 'max_depth': 256, 'learning_rate': 0.09913196298727578, 'min_child_samples': 97}. Best is trial 4 with value: 0.23428571428571426.\n",
      "[I 2024-08-16 02:03:27,106] Trial 21 finished with value: 0.2291407222914072 and parameters: {'n_estimators': 961, 'num_leaves': 1592, 'max_depth': 230, 'learning_rate': 0.013729727599367485, 'min_child_samples': 3}. Best is trial 4 with value: 0.23428571428571426.\n",
      "[I 2024-08-16 02:09:16,592] Trial 22 finished with value: 0.22849807445442874 and parameters: {'n_estimators': 1241, 'num_leaves': 1935, 'max_depth': 163, 'learning_rate': 0.024456302108119197, 'min_child_samples': 16}. Best is trial 4 with value: 0.23428571428571426.\n",
      "[I 2024-08-16 02:11:05,162] Trial 23 finished with value: 0.23307086614173228 and parameters: {'n_estimators': 888, 'num_leaves': 898, 'max_depth': 198, 'learning_rate': 0.013682592912218235, 'min_child_samples': 39}. Best is trial 4 with value: 0.23428571428571426.\n",
      "[I 2024-08-16 02:12:47,455] Trial 24 finished with value: 0.22165820642978004 and parameters: {'n_estimators': 767, 'num_leaves': 859, 'max_depth': 193, 'learning_rate': 0.0031707341277920457, 'min_child_samples': 32}. Best is trial 4 with value: 0.23428571428571426.\n",
      "[I 2024-08-16 02:14:27,305] Trial 25 finished with value: 0.24489795918367346 and parameters: {'n_estimators': 890, 'num_leaves': 939, 'max_depth': 144, 'learning_rate': 0.028031465371894524, 'min_child_samples': 51}. Best is trial 25 with value: 0.24489795918367346.\n",
      "[I 2024-08-16 02:16:24,905] Trial 26 finished with value: 0.22857142857142854 and parameters: {'n_estimators': 1348, 'num_leaves': 1306, 'max_depth': 137, 'learning_rate': 0.029188067245607532, 'min_child_samples': 92}. Best is trial 25 with value: 0.24489795918367346.\n",
      "[I 2024-08-16 02:20:35,302] Trial 27 finished with value: 0.23125794155019058 and parameters: {'n_estimators': 1713, 'num_leaves': 1442, 'max_depth': 87, 'learning_rate': 0.04073281188494593, 'min_child_samples': 60}. Best is trial 25 with value: 0.24489795918367346.\n",
      "[I 2024-08-16 02:21:54,403] Trial 28 finished with value: 0.23495702005730656 and parameters: {'n_estimators': 958, 'num_leaves': 1013, 'max_depth': 106, 'learning_rate': 0.058375020676314684, 'min_child_samples': 103}. Best is trial 25 with value: 0.24489795918367346.\n",
      "[I 2024-08-16 02:22:49,603] Trial 29 finished with value: 0.22258592471358427 and parameters: {'n_estimators': 759, 'num_leaves': 2167, 'max_depth': 112, 'learning_rate': 0.07196796543338631, 'min_child_samples': 161}. Best is trial 25 with value: 0.24489795918367346.\n",
      "[I 2024-08-16 02:24:14,578] Trial 30 finished with value: 0.23054755043227665 and parameters: {'n_estimators': 948, 'num_leaves': 1020, 'max_depth': 99, 'learning_rate': 0.060002206332336314, 'min_child_samples': 103}. Best is trial 25 with value: 0.24489795918367346.\n",
      "[I 2024-08-16 02:24:57,116] Trial 31 finished with value: 0.2184300341296928 and parameters: {'n_estimators': 701, 'num_leaves': 798, 'max_depth': 150, 'learning_rate': 0.04688582210331707, 'min_child_samples': 143}. Best is trial 25 with value: 0.24489795918367346.\n",
      "[I 2024-08-16 02:27:58,940] Trial 32 finished with value: 0.2346938775510204 and parameters: {'n_estimators': 1080, 'num_leaves': 1231, 'max_depth': 149, 'learning_rate': 0.05743412241430835, 'min_child_samples': 50}. Best is trial 25 with value: 0.24489795918367346.\n",
      "[I 2024-08-16 02:29:55,020] Trial 33 finished with value: 0.23577235772357724 and parameters: {'n_estimators': 1028, 'num_leaves': 1167, 'max_depth': 175, 'learning_rate': 0.05641718255033561, 'min_child_samples': 84}. Best is trial 25 with value: 0.24489795918367346.\n",
      "[I 2024-08-16 02:32:32,869] Trial 34 finished with value: 0.24453024453024455 and parameters: {'n_estimators': 1043, 'num_leaves': 1215, 'max_depth': 108, 'learning_rate': 0.053785242967238786, 'min_child_samples': 52}. Best is trial 25 with value: 0.24489795918367346.\n",
      "[I 2024-08-16 02:34:09,634] Trial 35 finished with value: 0.22988505747126436 and parameters: {'n_estimators': 998, 'num_leaves': 1123, 'max_depth': 70, 'learning_rate': 0.07382623919451148, 'min_child_samples': 81}. Best is trial 25 with value: 0.24489795918367346.\n",
      "[I 2024-08-16 02:34:54,999] Trial 36 finished with value: 0.2127659574468085 and parameters: {'n_estimators': 654, 'num_leaves': 672, 'max_depth': 40, 'learning_rate': 0.051756634078670344, 'min_child_samples': 107}. Best is trial 25 with value: 0.24489795918367346.\n",
      "[I 2024-08-16 02:36:59,641] Trial 37 finished with value: 0.2329317269076305 and parameters: {'n_estimators': 1378, 'num_leaves': 513, 'max_depth': 125, 'learning_rate': 0.06578438776617114, 'min_child_samples': 127}. Best is trial 25 with value: 0.24489795918367346.\n",
      "[I 2024-08-16 02:38:10,057] Trial 38 finished with value: 0.2172523961661342 and parameters: {'n_estimators': 874, 'num_leaves': 978, 'max_depth': 107, 'learning_rate': 0.054808182357846374, 'min_child_samples': 135}. Best is trial 25 with value: 0.24489795918367346.\n",
      "[I 2024-08-16 02:42:01,766] Trial 39 finished with value: 0.2126582278481013 and parameters: {'n_estimators': 1637, 'num_leaves': 1183, 'max_depth': 177, 'learning_rate': 0.07782621496719305, 'min_child_samples': 70}. Best is trial 25 with value: 0.24489795918367346.\n",
      "[I 2024-08-16 02:42:26,321] Trial 40 finished with value: 0.19927536231884055 and parameters: {'n_estimators': 537, 'num_leaves': 822, 'max_depth': 167, 'learning_rate': 0.04882427503287099, 'min_child_samples': 170}. Best is trial 25 with value: 0.24489795918367346.\n",
      "[I 2024-08-16 02:45:12,291] Trial 41 finished with value: 0.23409669211195927 and parameters: {'n_estimators': 1067, 'num_leaves': 1225, 'max_depth': 139, 'learning_rate': 0.05959278363806925, 'min_child_samples': 50}. Best is trial 25 with value: 0.24489795918367346.\n",
      "[I 2024-08-16 02:49:08,100] Trial 42 finished with value: 0.21925133689839574 and parameters: {'n_estimators': 1053, 'num_leaves': 1294, 'max_depth': 148, 'learning_rate': 0.05720189861482478, 'min_child_samples': 26}. Best is trial 25 with value: 0.24489795918367346.\n",
      "[I 2024-08-16 02:50:27,646] Trial 43 finished with value: 0.23776223776223776 and parameters: {'n_estimators': 854, 'num_leaves': 726, 'max_depth': 97, 'learning_rate': 0.06266899742597971, 'min_child_samples': 87}. Best is trial 25 with value: 0.24489795918367346.\n",
      "[I 2024-08-16 02:51:57,673] Trial 44 finished with value: 0.22535211267605634 and parameters: {'n_estimators': 868, 'num_leaves': 701, 'max_depth': 89, 'learning_rate': 0.06391115948247877, 'min_child_samples': 91}. Best is trial 25 with value: 0.24489795918367346.\n",
      "[I 2024-08-16 02:52:51,661] Trial 45 finished with value: 0.2432045779685265 and parameters: {'n_estimators': 625, 'num_leaves': 984, 'max_depth': 118, 'learning_rate': 0.07118138461770304, 'min_child_samples': 82}. Best is trial 25 with value: 0.24489795918367346.\n",
      "[I 2024-08-16 02:53:46,487] Trial 46 finished with value: 0.2360922659430122 and parameters: {'n_estimators': 630, 'num_leaves': 613, 'max_depth': 68, 'learning_rate': 0.08512444901788078, 'min_child_samples': 79}. Best is trial 25 with value: 0.24489795918367346.\n",
      "[I 2024-08-16 02:54:55,460] Trial 47 finished with value: 0.23274695534506087 and parameters: {'n_estimators': 637, 'num_leaves': 604, 'max_depth': 48, 'learning_rate': 0.08566981120374882, 'min_child_samples': 71}. Best is trial 25 with value: 0.24489795918367346.\n",
      "[I 2024-08-16 02:56:12,264] Trial 48 finished with value: 0.22811671087533153 and parameters: {'n_estimators': 553, 'num_leaves': 908, 'max_depth': 66, 'learning_rate': 0.08656035461930177, 'min_child_samples': 56}. Best is trial 25 with value: 0.24489795918367346.\n",
      "[I 2024-08-16 02:57:06,931] Trial 49 finished with value: 0.22713864306784662 and parameters: {'n_estimators': 813, 'num_leaves': 752, 'max_depth': 33, 'learning_rate': 0.08080031452432122, 'min_child_samples': 117}. Best is trial 25 with value: 0.24489795918367346.\n",
      "[I 2024-08-16 02:58:30,547] Trial 50 finished with value: 0.23785166240409206 and parameters: {'n_estimators': 657, 'num_leaves': 631, 'max_depth': 76, 'learning_rate': 0.09324932275036232, 'min_child_samples': 63}. Best is trial 25 with value: 0.24489795918367346.\n",
      "[I 2024-08-16 02:59:36,958] Trial 51 finished with value: 0.23715415019762848 and parameters: {'n_estimators': 641, 'num_leaves': 616, 'max_depth': 78, 'learning_rate': 0.09128784562516273, 'min_child_samples': 60}. Best is trial 25 with value: 0.24489795918367346.\n",
      "[I 2024-08-16 03:01:41,157] Trial 52 finished with value: 0.2304635761589404 and parameters: {'n_estimators': 717, 'num_leaves': 715, 'max_depth': 120, 'learning_rate': 0.09516792260820092, 'min_child_samples': 21}. Best is trial 25 with value: 0.24489795918367346.\n",
      "[I 2024-08-16 03:02:39,526] Trial 53 finished with value: 0.23670212765957446 and parameters: {'n_estimators': 505, 'num_leaves': 508, 'max_depth': 96, 'learning_rate': 0.07055745161397428, 'min_child_samples': 40}. Best is trial 25 with value: 0.24489795918367346.\n",
      "[I 2024-08-16 03:04:25,267] Trial 54 finished with value: 0.2363405336721728 and parameters: {'n_estimators': 800, 'num_leaves': 921, 'max_depth': 78, 'learning_rate': 0.09403511709339289, 'min_child_samples': 57}. Best is trial 25 with value: 0.24489795918367346.\n",
      "[I 2024-08-16 03:05:45,004] Trial 55 finished with value: 0.241423125794155 and parameters: {'n_estimators': 673, 'num_leaves': 796, 'max_depth': 128, 'learning_rate': 0.0970993266247696, 'min_child_samples': 66}. Best is trial 25 with value: 0.24489795918367346.\n",
      "[I 2024-08-16 03:08:03,892] Trial 56 finished with value: 0.2333333333333333 and parameters: {'n_estimators': 858, 'num_leaves': 1072, 'max_depth': 131, 'learning_rate': 0.06872452894571238, 'min_child_samples': 43}. Best is trial 25 with value: 0.24489795918367346.\n",
      "[I 2024-08-16 03:10:29,373] Trial 57 finished with value: 0.21972534332084895 and parameters: {'n_estimators': 1183, 'num_leaves': 763, 'max_depth': 116, 'learning_rate': 0.09985571165246905, 'min_child_samples': 65}. Best is trial 25 with value: 0.24489795918367346.\n",
      "[I 2024-08-16 03:13:10,885] Trial 58 finished with value: 0.2310756972111554 and parameters: {'n_estimators': 2087, 'num_leaves': 932, 'max_depth': 94, 'learning_rate': 0.07482579030060595, 'min_child_samples': 229}. Best is trial 25 with value: 0.24489795918367346.\n",
      "[I 2024-08-16 03:15:07,582] Trial 59 finished with value: 0.23423423423423426 and parameters: {'n_estimators': 723, 'num_leaves': 826, 'max_depth': 159, 'learning_rate': 0.06302984148125963, 'min_child_samples': 30}. Best is trial 25 with value: 0.24489795918367346.\n",
      "[I 2024-08-16 03:15:53,685] Trial 60 finished with value: 0.22003284072249588 and parameters: {'n_estimators': 597, 'num_leaves': 1074, 'max_depth': 56, 'learning_rate': 0.044345233911807155, 'min_child_samples': 86}. Best is trial 25 with value: 0.24489795918367346.\n",
      "[I 2024-08-16 03:17:11,070] Trial 61 finished with value: 0.2366710013003901 and parameters: {'n_estimators': 673, 'num_leaves': 645, 'max_depth': 108, 'learning_rate': 0.09113595515574509, 'min_child_samples': 65}. Best is trial 25 with value: 0.24489795918367346.\n",
      "[I 2024-08-16 03:19:22,166] Trial 62 finished with value: 0.23243933588761176 and parameters: {'n_estimators': 812, 'num_leaves': 584, 'max_depth': 126, 'learning_rate': 0.09549161507947972, 'min_child_samples': 49}. Best is trial 25 with value: 0.24489795918367346.\n",
      "[I 2024-08-16 03:21:16,071] Trial 63 finished with value: 0.22733077905491697 and parameters: {'n_estimators': 933, 'num_leaves': 845, 'max_depth': 78, 'learning_rate': 0.09001466309147363, 'min_child_samples': 73}. Best is trial 25 with value: 0.24489795918367346.\n",
      "[I 2024-08-16 03:23:00,143] Trial 64 finished with value: 0.2231182795698925 and parameters: {'n_estimators': 600, 'num_leaves': 698, 'max_depth': 142, 'learning_rate': 0.08159905880620043, 'min_child_samples': 16}. Best is trial 25 with value: 0.24489795918367346.\n",
      "[I 2024-08-16 03:23:51,967] Trial 65 finished with value: 0.2191780821917808 and parameters: {'n_estimators': 748, 'num_leaves': 958, 'max_depth': 102, 'learning_rate': 0.03439102177949678, 'min_child_samples': 112}. Best is trial 25 with value: 0.24489795918367346.\n",
      "[I 2024-08-16 03:24:26,600] Trial 66 finished with value: 0.23718887262079064 and parameters: {'n_estimators': 500, 'num_leaves': 769, 'max_depth': 116, 'learning_rate': 0.09725603919774789, 'min_child_samples': 98}. Best is trial 25 with value: 0.24489795918367346.\n",
      "[I 2024-08-16 03:25:15,129] Trial 67 finished with value: 0.23884892086330933 and parameters: {'n_estimators': 541, 'num_leaves': 817, 'max_depth': 116, 'learning_rate': 0.09737289677498312, 'min_child_samples': 97}. Best is trial 25 with value: 0.24489795918367346.\n",
      "[I 2024-08-16 03:26:47,257] Trial 68 finished with value: 0.2204968944099379 and parameters: {'n_estimators': 908, 'num_leaves': 1391, 'max_depth': 126, 'learning_rate': 0.03697175050883547, 'min_child_samples': 84}. Best is trial 25 with value: 0.24489795918367346.\n",
      "[I 2024-08-16 03:31:13,969] Trial 69 finished with value: 0.22727272727272727 and parameters: {'n_estimators': 1293, 'num_leaves': 1542, 'max_depth': 136, 'learning_rate': 0.08795978628112855, 'min_child_samples': 34}. Best is trial 25 with value: 0.24489795918367346.\n",
      "[I 2024-08-16 03:32:33,409] Trial 70 finished with value: 0.24064171122994654 and parameters: {'n_estimators': 804, 'num_leaves': 875, 'max_depth': 101, 'learning_rate': 0.08258920278168239, 'min_child_samples': 92}. Best is trial 25 with value: 0.24489795918367346.\n",
      "[I 2024-08-16 03:33:58,495] Trial 71 finished with value: 0.22788203753351205 and parameters: {'n_estimators': 795, 'num_leaves': 852, 'max_depth': 89, 'learning_rate': 0.08342862819270738, 'min_child_samples': 90}. Best is trial 25 with value: 0.24489795918367346.\n",
      "[I 2024-08-16 03:35:20,926] Trial 72 finished with value: 0.2282608695652174 and parameters: {'n_estimators': 704, 'num_leaves': 1053, 'max_depth': 112, 'learning_rate': 0.07645480042434744, 'min_child_samples': 77}. Best is trial 25 with value: 0.24489795918367346.\n",
      "[I 2024-08-16 03:36:59,575] Trial 73 finished with value: 0.22762148337595908 and parameters: {'n_estimators': 1118, 'num_leaves': 976, 'max_depth': 98, 'learning_rate': 0.09304549474768846, 'min_child_samples': 124}. Best is trial 25 with value: 0.24489795918367346.\n",
      "[I 2024-08-16 03:37:56,636] Trial 74 finished with value: 0.23140495867768596 and parameters: {'n_estimators': 596, 'num_leaves': 777, 'max_depth': 130, 'learning_rate': 0.09836606899202884, 'min_child_samples': 94}. Best is trial 25 with value: 0.24489795918367346.\n",
      "[I 2024-08-16 03:39:50,906] Trial 75 finished with value: 0.235 and parameters: {'n_estimators': 847, 'num_leaves': 1724, 'max_depth': 120, 'learning_rate': 0.08865404560566495, 'min_child_samples': 66}. Best is trial 25 with value: 0.24489795918367346.\n",
      "[I 2024-08-16 03:41:28,238] Trial 76 finished with value: 0.22991689750692518 and parameters: {'n_estimators': 988, 'num_leaves': 1133, 'max_depth': 144, 'learning_rate': 0.06804839110276784, 'min_child_samples': 107}. Best is trial 25 with value: 0.24489795918367346.\n",
      "[I 2024-08-16 03:43:10,087] Trial 77 finished with value: 0.23363286264441593 and parameters: {'n_estimators': 751, 'num_leaves': 874, 'max_depth': 155, 'learning_rate': 0.07874251234620588, 'min_child_samples': 51}. Best is trial 25 with value: 0.24489795918367346.\n",
      "[I 2024-08-16 03:43:59,294] Trial 78 finished with value: 0.23248882265275708 and parameters: {'n_estimators': 571, 'num_leaves': 691, 'max_depth': 105, 'learning_rate': 0.06196663942085167, 'min_child_samples': 76}. Best is trial 25 with value: 0.24489795918367346.\n",
      "[I 2024-08-16 03:45:24,237] Trial 79 finished with value: 0.23796791443850268 and parameters: {'n_estimators': 690, 'num_leaves': 2758, 'max_depth': 84, 'learning_rate': 0.05220092669962542, 'min_child_samples': 46}. Best is trial 25 with value: 0.24489795918367346.\n",
      "[I 2024-08-16 03:52:07,849] Trial 80 finished with value: 0.21309370988446727 and parameters: {'n_estimators': 2323, 'num_leaves': 2924, 'max_depth': 87, 'learning_rate': 0.05057988555408555, 'min_child_samples': 47}. Best is trial 25 with value: 0.24489795918367346.\n",
      "[I 2024-08-16 03:53:17,914] Trial 81 finished with value: 0.24512534818941506 and parameters: {'n_estimators': 691, 'num_leaves': 555, 'max_depth': 74, 'learning_rate': 0.051907937588647424, 'min_child_samples': 59}. Best is trial 81 with value: 0.24512534818941506.\n",
      "[I 2024-08-16 03:54:51,959] Trial 82 finished with value: 0.23613086770981503 and parameters: {'n_estimators': 679, 'num_leaves': 2392, 'max_depth': 53, 'learning_rate': 0.052806894559778335, 'min_child_samples': 61}. Best is trial 81 with value: 0.24512534818941506.\n",
      "[I 2024-08-16 03:56:20,313] Trial 83 finished with value: 0.2335164835164835 and parameters: {'n_estimators': 557, 'num_leaves': 2100, 'max_depth': 74, 'learning_rate': 0.047119084595772485, 'min_child_samples': 36}. Best is trial 81 with value: 0.24512534818941506.\n",
      "[I 2024-08-16 03:59:17,821] Trial 84 finished with value: 0.2282749675745785 and parameters: {'n_estimators': 758, 'num_leaves': 2652, 'max_depth': 59, 'learning_rate': 0.039766014382602105, 'min_child_samples': 22}. Best is trial 81 with value: 0.24512534818941506.\n",
      "[I 2024-08-16 04:00:39,511] Trial 85 finished with value: 0.21835443037974683 and parameters: {'n_estimators': 662, 'num_leaves': 2766, 'max_depth': 81, 'learning_rate': 0.007613682935828349, 'min_child_samples': 44}. Best is trial 81 with value: 0.24512534818941506.\n",
      "[I 2024-08-16 04:01:59,125] Trial 86 finished with value: 0.2340425531914893 and parameters: {'n_estimators': 909, 'num_leaves': 531, 'max_depth': 45, 'learning_rate': 0.03143480083209767, 'min_child_samples': 68}. Best is trial 81 with value: 0.24512534818941506.\n",
      "[I 2024-08-16 04:06:12,793] Trial 87 finished with value: 0.23919308357348704 and parameters: {'n_estimators': 1869, 'num_leaves': 1005, 'max_depth': 29, 'learning_rate': 0.01917668431652665, 'min_child_samples': 56}. Best is trial 81 with value: 0.24512534818941506.\n",
      "[I 2024-08-16 04:21:50,008] Trial 88 finished with value: 0.23480662983425413 and parameters: {'n_estimators': 1767, 'num_leaves': 1900, 'max_depth': 33, 'learning_rate': 0.02598899121384598, 'min_child_samples': 9}. Best is trial 81 with value: 0.24512534818941506.\n",
      "[I 2024-08-16 04:26:18,993] Trial 89 finished with value: 0.22820919175911253 and parameters: {'n_estimators': 1918, 'num_leaves': 1252, 'max_depth': 112, 'learning_rate': 0.008826227728932965, 'min_child_samples': 55}. Best is trial 81 with value: 0.24512534818941506.\n",
      "[I 2024-08-16 04:27:56,264] Trial 90 finished with value: 0.20765027322404372 and parameters: {'n_estimators': 1755, 'num_leaves': 999, 'max_depth': 27, 'learning_rate': 0.02167912978880938, 'min_child_samples': 295}. Best is trial 81 with value: 0.24512534818941506.\n",
      "[I 2024-08-16 04:31:43,862] Trial 91 finished with value: 0.22325581395348834 and parameters: {'n_estimators': 2092, 'num_leaves': 892, 'max_depth': 24, 'learning_rate': 0.013641779025877258, 'min_child_samples': 62}. Best is trial 81 with value: 0.24512534818941506.\n",
      "[I 2024-08-16 04:35:43,047] Trial 92 finished with value: 0.21859296482412058 and parameters: {'n_estimators': 1840, 'num_leaves': 573, 'max_depth': 92, 'learning_rate': 0.09263056403336072, 'min_child_samples': 74}. Best is trial 81 with value: 0.24512534818941506.\n",
      "[I 2024-08-16 04:37:03,030] Trial 93 finished with value: 0.2210526315789474 and parameters: {'n_estimators': 1448, 'num_leaves': 652, 'max_depth': 10, 'learning_rate': 0.017228322562380605, 'min_child_samples': 56}. Best is trial 81 with value: 0.24512534818941506.\n",
      "[I 2024-08-16 04:41:04,893] Trial 94 finished with value: 0.22908622908622908 and parameters: {'n_estimators': 1574, 'num_leaves': 821, 'max_depth': 64, 'learning_rate': 0.04454826280439217, 'min_child_samples': 41}. Best is trial 81 with value: 0.24512534818941506.\n",
      "[I 2024-08-16 04:42:19,826] Trial 95 finished with value: 0.2316910785619174 and parameters: {'n_estimators': 618, 'num_leaves': 2274, 'max_depth': 134, 'learning_rate': 0.09462230580553278, 'min_child_samples': 81}. Best is trial 81 with value: 0.24512534818941506.\n",
      "[I 2024-08-16 04:44:06,441] Trial 96 finished with value: 0.23157894736842108 and parameters: {'n_estimators': 684, 'num_leaves': 1103, 'max_depth': 73, 'learning_rate': 0.05458754118207079, 'min_child_samples': 30}. Best is trial 81 with value: 0.24512534818941506.\n",
      "[I 2024-08-16 04:45:12,741] Trial 97 finished with value: 0.1971326164874552 and parameters: {'n_estimators': 823, 'num_leaves': 943, 'max_depth': 103, 'learning_rate': 0.018363257974364215, 'min_child_samples': 98}. Best is trial 81 with value: 0.24512534818941506.\n",
      "[I 2024-08-16 04:48:40,078] Trial 98 finished with value: 0.23759791122715404 and parameters: {'n_estimators': 2064, 'num_leaves': 1001, 'max_depth': 84, 'learning_rate': 0.047315814324575926, 'min_child_samples': 133}. Best is trial 81 with value: 0.24512534818941506.\n",
      "[I 2024-08-16 04:49:33,234] Trial 99 finished with value: 0.23450134770889489 and parameters: {'n_estimators': 547, 'num_leaves': 1189, 'max_depth': 123, 'learning_rate': 0.09690129154993395, 'min_child_samples': 71}. Best is trial 81 with value: 0.24512534818941506.\n",
      "[I 2024-08-16 04:51:51,530] Trial 100 finished with value: 0.23144654088050312 and parameters: {'n_estimators': 1007, 'num_leaves': 747, 'max_depth': 275, 'learning_rate': 0.08254792222943769, 'min_child_samples': 55}. Best is trial 81 with value: 0.24512534818941506.\n",
      "[I 2024-08-16 04:52:47,015] Trial 101 finished with value: 0.22922636103151864 and parameters: {'n_estimators': 731, 'num_leaves': 729, 'max_depth': 94, 'learning_rate': 0.05957531756936714, 'min_child_samples': 87}. Best is trial 81 with value: 0.24512534818941506.\n",
      "[I 2024-08-16 04:54:45,394] Trial 102 finished with value: 0.23291139240506328 and parameters: {'n_estimators': 888, 'num_leaves': 653, 'max_depth': 115, 'learning_rate': 0.06610990581433569, 'min_child_samples': 47}. Best is trial 81 with value: 0.24512534818941506.\n",
      "[I 2024-08-16 04:55:42,360] Trial 103 finished with value: 0.23613086770981503 and parameters: {'n_estimators': 788, 'num_leaves': 803, 'max_depth': 98, 'learning_rate': 0.07068764928604818, 'min_child_samples': 112}. Best is trial 81 with value: 0.24512534818941506.\n",
      "[I 2024-08-16 04:57:06,382] Trial 104 finished with value: 0.23480662983425413 and parameters: {'n_estimators': 950, 'num_leaves': 557, 'max_depth': 108, 'learning_rate': 0.05655718424038484, 'min_child_samples': 82}. Best is trial 81 with value: 0.24512534818941506.\n",
      "[I 2024-08-16 04:58:13,802] Trial 105 finished with value: 0.2374821173104435 and parameters: {'n_estimators': 651, 'num_leaves': 890, 'max_depth': 129, 'learning_rate': 0.05327752254058012, 'min_child_samples': 63}. Best is trial 81 with value: 0.24512534818941506.\n",
      "[I 2024-08-16 04:58:46,177] Trial 106 finished with value: 0.21768707482993194 and parameters: {'n_estimators': 501, 'num_leaves': 501, 'max_depth': 83, 'learning_rate': 0.04977455512617922, 'min_child_samples': 103}. Best is trial 81 with value: 0.24512534818941506.\n",
      "[I 2024-08-16 05:00:44,592] Trial 107 finished with value: 0.22535211267605634 and parameters: {'n_estimators': 861, 'num_leaves': 938, 'max_depth': 141, 'learning_rate': 0.061591280814067804, 'min_child_samples': 36}. Best is trial 81 with value: 0.24512534818941506.\n",
      "[I 2024-08-16 05:01:37,892] Trial 108 finished with value: 0.23624161073825506 and parameters: {'n_estimators': 577, 'num_leaves': 1060, 'max_depth': 169, 'learning_rate': 0.08498166339460571, 'min_child_samples': 69}. Best is trial 81 with value: 0.24512534818941506.\n",
      "[I 2024-08-16 05:03:00,884] Trial 109 finished with value: 0.24068767908309457 and parameters: {'n_estimators': 719, 'num_leaves': 713, 'max_depth': 119, 'learning_rate': 0.04287233250513615, 'min_child_samples': 52}. Best is trial 81 with value: 0.24512534818941506.\n",
      "[I 2024-08-16 05:09:20,598] Trial 110 finished with value: 0.2219215155615697 and parameters: {'n_estimators': 1994, 'num_leaves': 802, 'max_depth': 119, 'learning_rate': 0.09671365028775428, 'min_child_samples': 26}. Best is trial 81 with value: 0.24512534818941506.\n",
      "[I 2024-08-16 05:11:00,548] Trial 111 finished with value: 0.2393397524071527 and parameters: {'n_estimators': 769, 'num_leaves': 611, 'max_depth': 101, 'learning_rate': 0.0417920758857529, 'min_child_samples': 50}. Best is trial 81 with value: 0.24512534818941506.\n",
      "[I 2024-08-16 05:12:05,027] Trial 112 finished with value: 0.23676880222841226 and parameters: {'n_estimators': 709, 'num_leaves': 608, 'max_depth': 107, 'learning_rate': 0.04259700421990322, 'min_child_samples': 51}. Best is trial 81 with value: 0.24512534818941506.\n",
      "[I 2024-08-16 05:13:39,355] Trial 113 finished with value: 0.2377049180327869 and parameters: {'n_estimators': 785, 'num_leaves': 649, 'max_depth': 112, 'learning_rate': 0.03725637026670098, 'min_child_samples': 41}. Best is trial 81 with value: 0.24512534818941506.\n",
      "[I 2024-08-16 05:19:16,459] Trial 114 finished with value: 0.2233502538071066 and parameters: {'n_estimators': 2593, 'num_leaves': 698, 'max_depth': 121, 'learning_rate': 0.03311948525668283, 'min_child_samples': 60}. Best is trial 81 with value: 0.24512534818941506.\n",
      "[I 2024-08-16 05:20:27,964] Trial 115 finished with value: 0.23613086770981503 and parameters: {'n_estimators': 623, 'num_leaves': 845, 'max_depth': 103, 'learning_rate': 0.04184133978880575, 'min_child_samples': 46}. Best is trial 81 with value: 0.24512534818941506.\n",
      "[I 2024-08-16 05:21:05,602] Trial 116 finished with value: 0.19272727272727272 and parameters: {'n_estimators': 709, 'num_leaves': 550, 'max_depth': 136, 'learning_rate': 0.02738527393603879, 'min_child_samples': 181}. Best is trial 81 with value: 0.24512534818941506.\n",
      "[I 2024-08-16 05:22:35,733] Trial 117 finished with value: 0.24068767908309457 and parameters: {'n_estimators': 755, 'num_leaves': 765, 'max_depth': 61, 'learning_rate': 0.03851777765273628, 'min_child_samples': 53}. Best is trial 81 with value: 0.24512534818941506.\n",
      "[I 2024-08-16 05:23:50,173] Trial 118 finished with value: 0.2274618585298197 and parameters: {'n_estimators': 817, 'num_leaves': 757, 'max_depth': 63, 'learning_rate': 0.03950590830063681, 'min_child_samples': 52}. Best is trial 81 with value: 0.24512534818941506.\n",
      "[I 2024-08-16 05:25:39,068] Trial 119 finished with value: 0.24313725490196078 and parameters: {'n_estimators': 750, 'num_leaves': 884, 'max_depth': 90, 'learning_rate': 0.0456192063312076, 'min_child_samples': 36}. Best is trial 81 with value: 0.24512534818941506.\n",
      "[I 2024-08-16 05:28:54,762] Trial 120 finished with value: 0.22751322751322756 and parameters: {'n_estimators': 1060, 'num_leaves': 881, 'max_depth': 155, 'learning_rate': 0.03834302481165514, 'min_child_samples': 15}. Best is trial 81 with value: 0.24512534818941506.\n",
      "[I 2024-08-16 05:31:06,184] Trial 121 finished with value: 0.24169986719787517 and parameters: {'n_estimators': 759, 'num_leaves': 932, 'max_depth': 90, 'learning_rate': 0.04255432906394755, 'min_child_samples': 32}. Best is trial 81 with value: 0.24512534818941506.\n",
      "[I 2024-08-16 05:32:40,399] Trial 122 finished with value: 0.24962852897473997 and parameters: {'n_estimators': 767, 'num_leaves': 1023, 'max_depth': 19, 'learning_rate': 0.04287131093537773, 'min_child_samples': 35}. Best is trial 122 with value: 0.24962852897473997.\n",
      "[I 2024-08-16 05:34:29,727] Trial 123 finished with value: 0.2385575589459085 and parameters: {'n_estimators': 932, 'num_leaves': 1011, 'max_depth': 19, 'learning_rate': 0.045701650274739054, 'min_child_samples': 23}. Best is trial 122 with value: 0.24962852897473997.\n",
      "[I 2024-08-16 05:36:08,853] Trial 124 finished with value: 0.24024024024024027 and parameters: {'n_estimators': 781, 'num_leaves': 1119, 'max_depth': 18, 'learning_rate': 0.04350671296974453, 'min_child_samples': 36}. Best is trial 122 with value: 0.24962852897473997.\n",
      "[I 2024-08-16 05:37:52,230] Trial 125 finished with value: 0.2398921832884097 and parameters: {'n_estimators': 768, 'num_leaves': 1129, 'max_depth': 41, 'learning_rate': 0.03580041247410473, 'min_child_samples': 32}. Best is trial 122 with value: 0.24962852897473997.\n",
      "[I 2024-08-16 05:40:38,576] Trial 126 finished with value: 0.23076923076923078 and parameters: {'n_estimators': 838, 'num_leaves': 1146, 'max_depth': 19, 'learning_rate': 0.035044205262214134, 'min_child_samples': 14}. Best is trial 122 with value: 0.24962852897473997.\n",
      "[I 2024-08-16 05:41:58,925] Trial 127 finished with value: 0.22945736434108527 and parameters: {'n_estimators': 777, 'num_leaves': 1083, 'max_depth': 16, 'learning_rate': 0.04360376326675672, 'min_child_samples': 39}. Best is trial 122 with value: 0.24962852897473997.\n",
      "[I 2024-08-16 05:44:59,121] Trial 128 finished with value: 0.23180592991913748 and parameters: {'n_estimators': 985, 'num_leaves': 1302, 'max_depth': 40, 'learning_rate': 0.029417678534667816, 'min_child_samples': 31}. Best is trial 122 with value: 0.24962852897473997.\n",
      "[I 2024-08-16 05:48:04,192] Trial 129 finished with value: 0.24115334207077327 and parameters: {'n_estimators': 722, 'num_leaves': 1186, 'max_depth': 37, 'learning_rate': 0.047506377445783565, 'min_child_samples': 21}. Best is trial 122 with value: 0.24962852897473997.\n",
      "[I 2024-08-16 05:51:35,530] Trial 130 finished with value: 0.23369565217391303 and parameters: {'n_estimators': 897, 'num_leaves': 957, 'max_depth': 35, 'learning_rate': 0.04724839568748567, 'min_child_samples': 9}. Best is trial 122 with value: 0.24962852897473997.\n",
      "[I 2024-08-16 05:54:32,842] Trial 131 finished with value: 0.24000000000000005 and parameters: {'n_estimators': 752, 'num_leaves': 1358, 'max_depth': 44, 'learning_rate': 0.032040387000517034, 'min_child_samples': 26}. Best is trial 122 with value: 0.24962852897473997.\n",
      "[I 2024-08-16 05:57:05,056] Trial 132 finished with value: 0.23958333333333331 and parameters: {'n_estimators': 743, 'num_leaves': 1243, 'max_depth': 52, 'learning_rate': 0.04893586898866889, 'min_child_samples': 26}. Best is trial 122 with value: 0.24962852897473997.\n",
      "[I 2024-08-16 06:00:13,655] Trial 133 finished with value: 0.23927178153446033 and parameters: {'n_estimators': 627, 'num_leaves': 1371, 'max_depth': 69, 'learning_rate': 0.03297227355377499, 'min_child_samples': 18}. Best is trial 122 with value: 0.24962852897473997.\n",
      "[I 2024-08-16 06:02:54,195] Trial 134 finished with value: 0.23421052631578948 and parameters: {'n_estimators': 841, 'num_leaves': 1203, 'max_depth': 45, 'learning_rate': 0.046000602418704614, 'min_child_samples': 35}. Best is trial 122 with value: 0.24962852897473997.\n",
      "[I 2024-08-16 06:05:34,675] Trial 135 finished with value: 0.23407022106631986 and parameters: {'n_estimators': 696, 'num_leaves': 1067, 'max_depth': 58, 'learning_rate': 0.038267914646785174, 'min_child_samples': 23}. Best is trial 122 with value: 0.24962852897473997.\n",
      "[I 2024-08-16 06:07:06,641] Trial 136 finished with value: 0.2304147465437788 and parameters: {'n_estimators': 652, 'num_leaves': 1261, 'max_depth': 33, 'learning_rate': 0.024054209984936445, 'min_child_samples': 39}. Best is trial 122 with value: 0.24962852897473997.\n",
      "[I 2024-08-16 06:08:39,631] Trial 137 finished with value: 0.23109843081312412 and parameters: {'n_estimators': 893, 'num_leaves': 916, 'max_depth': 16, 'learning_rate': 0.04301440184325535, 'min_child_samples': 11}. Best is trial 122 with value: 0.24962852897473997.\n",
      "[I 2024-08-16 06:10:13,743] Trial 138 finished with value: 0.23901098901098902 and parameters: {'n_estimators': 727, 'num_leaves': 1334, 'max_depth': 22, 'learning_rate': 0.05139221215327869, 'min_child_samples': 4}. Best is trial 122 with value: 0.24962852897473997.\n",
      "[I 2024-08-16 06:11:06,099] Trial 139 finished with value: 0.2376502002670227 and parameters: {'n_estimators': 592, 'num_leaves': 1130, 'max_depth': 46, 'learning_rate': 0.0490424766206927, 'min_child_samples': 31}. Best is trial 122 with value: 0.24962852897473997.\n",
      "[I 2024-08-16 06:12:10,073] Trial 140 finished with value: 0.24191279887482417 and parameters: {'n_estimators': 823, 'num_leaves': 1437, 'max_depth': 28, 'learning_rate': 0.04013998502533327, 'min_child_samples': 42}. Best is trial 122 with value: 0.24962852897473997.\n",
      "[I 2024-08-16 06:13:14,136] Trial 141 finished with value: 0.24466571834992892 and parameters: {'n_estimators': 808, 'num_leaves': 1508, 'max_depth': 29, 'learning_rate': 0.0401510194330001, 'min_child_samples': 45}. Best is trial 122 with value: 0.24962852897473997.\n",
      "[I 2024-08-16 06:14:19,414] Trial 142 finished with value: 0.24501424501424504 and parameters: {'n_estimators': 815, 'num_leaves': 1496, 'max_depth': 29, 'learning_rate': 0.04093647056115179, 'min_child_samples': 44}. Best is trial 122 with value: 0.24962852897473997.\n",
      "[I 2024-08-16 06:15:18,498] Trial 143 finished with value: 0.24277456647398846 and parameters: {'n_estimators': 840, 'num_leaves': 1437, 'max_depth': 26, 'learning_rate': 0.04039684614852411, 'min_child_samples': 44}. Best is trial 122 with value: 0.24962852897473997.\n",
      "[I 2024-08-16 06:16:00,076] Trial 144 finished with value: 0.22838499184339314 and parameters: {'n_estimators': 948, 'num_leaves': 1443, 'max_depth': 12, 'learning_rate': 0.045082919976129184, 'min_child_samples': 44}. Best is trial 122 with value: 0.24962852897473997.\n",
      "[I 2024-08-16 06:17:06,893] Trial 145 finished with value: 0.2378223495702006 and parameters: {'n_estimators': 852, 'num_leaves': 1546, 'max_depth': 31, 'learning_rate': 0.03845069767441336, 'min_child_samples': 43}. Best is trial 122 with value: 0.24962852897473997.\n",
      "[I 2024-08-16 06:18:15,595] Trial 146 finished with value: 0.24035608308605338 and parameters: {'n_estimators': 1019, 'num_leaves': 1664, 'max_depth': 26, 'learning_rate': 0.03641344882338005, 'min_child_samples': 58}. Best is trial 122 with value: 0.24962852897473997.\n",
      "[I 2024-08-16 06:19:03,038] Trial 147 finished with value: 0.2344213649851632 and parameters: {'n_estimators': 677, 'num_leaves': 1528, 'max_depth': 36, 'learning_rate': 0.0403576461396282, 'min_child_samples': 51}. Best is trial 122 with value: 0.24962852897473997.\n",
      "[I 2024-08-16 06:20:09,716] Trial 148 finished with value: 0.24825662482566246 and parameters: {'n_estimators': 887, 'num_leaves': 1673, 'max_depth': 28, 'learning_rate': 0.041017824884121444, 'min_child_samples': 46}. Best is trial 122 with value: 0.24962852897473997.\n",
      "[I 2024-08-16 06:20:46,349] Trial 149 finished with value: 0.20689655172413796 and parameters: {'n_estimators': 889, 'num_leaves': 1603, 'max_depth': 29, 'learning_rate': 0.04092425238139468, 'min_child_samples': 255}. Best is trial 122 with value: 0.24962852897473997.\n",
      "[I 2024-08-16 06:21:19,254] Trial 150 finished with value: 0.20603907637655416 and parameters: {'n_estimators': 828, 'num_leaves': 1486, 'max_depth': 26, 'learning_rate': 0.041055384617068855, 'min_child_samples': 206}. Best is trial 122 with value: 0.24962852897473997.\n",
      "[I 2024-08-16 06:23:01,098] Trial 151 finished with value: 0.24313725490196078 and parameters: {'n_estimators': 1174, 'num_leaves': 1495, 'max_depth': 38, 'learning_rate': 0.0474195920125977, 'min_child_samples': 44}. Best is trial 122 with value: 0.24962852897473997.\n",
      "[I 2024-08-16 06:24:31,598] Trial 152 finished with value: 0.23936170212765956 and parameters: {'n_estimators': 1081, 'num_leaves': 1779, 'max_depth': 38, 'learning_rate': 0.04859240086927127, 'min_child_samples': 45}. Best is trial 122 with value: 0.24962852897473997.\n",
      "[I 2024-08-16 06:25:18,987] Trial 153 finished with value: 0.2159468438538206 and parameters: {'n_estimators': 1187, 'num_leaves': 1401, 'max_depth': 10, 'learning_rate': 0.04505857885604893, 'min_child_samples': 38}. Best is trial 122 with value: 0.24962852897473997.\n",
      "[I 2024-08-16 06:26:18,483] Trial 154 finished with value: 0.2311111111111111 and parameters: {'n_estimators': 945, 'num_leaves': 1485, 'max_depth': 23, 'learning_rate': 0.047439580547142896, 'min_child_samples': 65}. Best is trial 122 with value: 0.24962852897473997.\n",
      "[I 2024-08-16 06:27:19,192] Trial 155 finished with value: 0.241234221598878 and parameters: {'n_estimators': 818, 'num_leaves': 1603, 'max_depth': 38, 'learning_rate': 0.05040953816452362, 'min_child_samples': 58}. Best is trial 122 with value: 0.24962852897473997.\n",
      "[I 2024-08-16 06:29:21,042] Trial 156 finished with value: 0.23316062176165803 and parameters: {'n_estimators': 989, 'num_leaves': 1620, 'max_depth': 53, 'learning_rate': 0.054784988014395596, 'min_child_samples': 30}. Best is trial 122 with value: 0.24962852897473997.\n",
      "[I 2024-08-16 06:30:32,832] Trial 157 finished with value: 0.23204419889502761 and parameters: {'n_estimators': 867, 'num_leaves': 1660, 'max_depth': 35, 'learning_rate': 0.05155107012586328, 'min_child_samples': 59}. Best is trial 122 with value: 0.24962852897473997.\n",
      "[I 2024-08-16 06:32:10,567] Trial 158 finished with value: 0.24137931034482757 and parameters: {'n_estimators': 925, 'num_leaves': 1714, 'max_depth': 49, 'learning_rate': 0.050343108259467646, 'min_child_samples': 44}. Best is trial 122 with value: 0.24962852897473997.\n",
      "[I 2024-08-16 06:34:09,082] Trial 159 finished with value: 0.23938223938223938 and parameters: {'n_estimators': 1114, 'num_leaves': 1746, 'max_depth': 50, 'learning_rate': 0.05017851400649696, 'min_child_samples': 47}. Best is trial 122 with value: 0.24962852897473997.\n",
      "[I 2024-08-16 06:35:56,096] Trial 160 finished with value: 0.2298546895640687 and parameters: {'n_estimators': 1256, 'num_leaves': 1562, 'max_depth': 29, 'learning_rate': 0.05322903932101358, 'min_child_samples': 42}. Best is trial 122 with value: 0.24962852897473997.\n",
      "[I 2024-08-16 06:37:29,204] Trial 161 finished with value: 0.23404255319148937 and parameters: {'n_estimators': 922, 'num_leaves': 1723, 'max_depth': 38, 'learning_rate': 0.04514427116534837, 'min_child_samples': 34}. Best is trial 122 with value: 0.24962852897473997.\n",
      "[I 2024-08-16 06:38:37,502] Trial 162 finished with value: 0.24489795918367346 and parameters: {'n_estimators': 1015, 'num_leaves': 1502, 'max_depth': 23, 'learning_rate': 0.04661896043153508, 'min_child_samples': 57}. Best is trial 122 with value: 0.24962852897473997.\n",
      "[I 2024-08-16 06:39:54,433] Trial 163 finished with value: 0.24383164005805516 and parameters: {'n_estimators': 1026, 'num_leaves': 1424, 'max_depth': 24, 'learning_rate': 0.04183249605257821, 'min_child_samples': 57}. Best is trial 122 with value: 0.24962852897473997.\n",
      "[I 2024-08-16 06:41:12,977] Trial 164 finished with value: 0.2342064714946071 and parameters: {'n_estimators': 1147, 'num_leaves': 1423, 'max_depth': 21, 'learning_rate': 0.040684375599056924, 'min_child_samples': 66}. Best is trial 122 with value: 0.24962852897473997.\n",
      "[I 2024-08-16 06:42:19,630] Trial 165 finished with value: 0.22884012539184953 and parameters: {'n_estimators': 1012, 'num_leaves': 1473, 'max_depth': 15, 'learning_rate': 0.04266710122739861, 'min_child_samples': 46}. Best is trial 122 with value: 0.24962852897473997.\n",
      "[I 2024-08-16 06:43:45,851] Trial 166 finished with value: 0.23633677991137375 and parameters: {'n_estimators': 1020, 'num_leaves': 1860, 'max_depth': 24, 'learning_rate': 0.03538542363049732, 'min_child_samples': 53}. Best is trial 122 with value: 0.24962852897473997.\n",
      "[I 2024-08-16 06:45:34,476] Trial 167 finished with value: 0.23705722070844684 and parameters: {'n_estimators': 1055, 'num_leaves': 1507, 'max_depth': 29, 'learning_rate': 0.04435371878129675, 'min_child_samples': 40}. Best is trial 122 with value: 0.24962852897473997.\n",
      "[I 2024-08-16 06:46:37,610] Trial 168 finished with value: 0.2370820668693009 and parameters: {'n_estimators': 963, 'num_leaves': 1704, 'max_depth': 21, 'learning_rate': 0.04680157119387588, 'min_child_samples': 73}. Best is trial 122 with value: 0.24962852897473997.\n",
      "[I 2024-08-16 06:48:14,762] Trial 169 finished with value: 0.2321187584345479 and parameters: {'n_estimators': 1122, 'num_leaves': 1436, 'max_depth': 147, 'learning_rate': 0.04053802345785666, 'min_child_samples': 63}. Best is trial 122 with value: 0.24962852897473997.\n",
      "[I 2024-08-16 06:49:35,699] Trial 170 finished with value: 0.24034334763948498 and parameters: {'n_estimators': 911, 'num_leaves': 1813, 'max_depth': 30, 'learning_rate': 0.0381377486306516, 'min_child_samples': 49}. Best is trial 122 with value: 0.24962852897473997.\n",
      "[I 2024-08-16 06:50:46,801] Trial 171 finished with value: 0.2438356164383562 and parameters: {'n_estimators': 818, 'num_leaves': 1641, 'max_depth': 41, 'learning_rate': 0.050620539887056684, 'min_child_samples': 56}. Best is trial 122 with value: 0.24962852897473997.\n",
      "[I 2024-08-16 06:51:56,133] Trial 172 finished with value: 0.23513513513513515 and parameters: {'n_estimators': 854, 'num_leaves': 1682, 'max_depth': 44, 'learning_rate': 0.05560374046354703, 'min_child_samples': 56}. Best is trial 122 with value: 0.24962852897473997.\n",
      "[I 2024-08-16 06:53:10,846] Trial 173 finished with value: 0.2409972299168975 and parameters: {'n_estimators': 805, 'num_leaves': 1584, 'max_depth': 26, 'learning_rate': 0.04335019922247216, 'min_child_samples': 35}. Best is trial 122 with value: 0.24962852897473997.\n",
      "[I 2024-08-16 06:54:21,180] Trial 174 finished with value: 0.239880059970015 and parameters: {'n_estimators': 947, 'num_leaves': 1531, 'max_depth': 17, 'learning_rate': 0.045761182787438015, 'min_child_samples': 42}. Best is trial 122 with value: 0.24962852897473997.\n",
      "[I 2024-08-16 06:55:27,931] Trial 175 finished with value: 0.23216783216783216 and parameters: {'n_estimators': 896, 'num_leaves': 1405, 'max_depth': 33, 'learning_rate': 0.05857273472243874, 'min_child_samples': 70}. Best is trial 122 with value: 0.24962852897473997.\n",
      "[I 2024-08-16 06:57:10,421] Trial 176 finished with value: 0.24266666666666664 and parameters: {'n_estimators': 972, 'num_leaves': 1630, 'max_depth': 49, 'learning_rate': 0.04849482702138775, 'min_child_samples': 49}. Best is trial 122 with value: 0.24962852897473997.\n",
      "[I 2024-08-16 06:58:41,752] Trial 177 finished with value: 0.2359249329758713 and parameters: {'n_estimators': 1080, 'num_leaves': 1329, 'max_depth': 91, 'learning_rate': 0.04852685624657984, 'min_child_samples': 60}. Best is trial 122 with value: 0.24962852897473997.\n",
      "[I 2024-08-16 06:59:28,352] Trial 178 finished with value: 0.23050847457627116 and parameters: {'n_estimators': 1025, 'num_leaves': 1638, 'max_depth': 10, 'learning_rate': 0.04231432382137513, 'min_child_samples': 51}. Best is trial 122 with value: 0.24962852897473997.\n",
      "[I 2024-08-16 07:00:36,394] Trial 179 finished with value: 0.2316076294277929 and parameters: {'n_estimators': 810, 'num_leaves': 1488, 'max_depth': 42, 'learning_rate': 0.05254223628176026, 'min_child_samples': 55}. Best is trial 122 with value: 0.24962852897473997.\n",
      "[I 2024-08-16 07:02:21,564] Trial 180 finished with value: 0.2312925170068027 and parameters: {'n_estimators': 977, 'num_leaves': 1565, 'max_depth': 25, 'learning_rate': 0.04012172929960774, 'min_child_samples': 29}. Best is trial 122 with value: 0.24962852897473997.\n",
      "[I 2024-08-16 07:03:43,077] Trial 181 finished with value: 0.23655913978494625 and parameters: {'n_estimators': 873, 'num_leaves': 1642, 'max_depth': 52, 'learning_rate': 0.04972439320216644, 'min_child_samples': 45}. Best is trial 122 with value: 0.24962852897473997.\n",
      "[I 2024-08-16 07:05:10,922] Trial 182 finished with value: 0.23803009575923392 and parameters: {'n_estimators': 921, 'num_leaves': 1520, 'max_depth': 32, 'learning_rate': 0.04673446104528444, 'min_child_samples': 38}. Best is trial 122 with value: 0.24962852897473997.\n",
      "[I 2024-08-16 07:06:13,182] Trial 183 finished with value: 0.2418478260869565 and parameters: {'n_estimators': 775, 'num_leaves': 1450, 'max_depth': 48, 'learning_rate': 0.04442395679717275, 'min_child_samples': 47}. Best is trial 122 with value: 0.24962852897473997.\n",
      "[I 2024-08-16 07:07:15,128] Trial 184 finished with value: 0.2461964038727524 and parameters: {'n_estimators': 769, 'num_leaves': 1423, 'max_depth': 42, 'learning_rate': 0.04470895399489276, 'min_child_samples': 51}. Best is trial 122 with value: 0.24962852897473997.\n",
      "[I 2024-08-16 07:08:30,324] Trial 185 finished with value: 0.23915900131406043 and parameters: {'n_estimators': 791, 'num_leaves': 1369, 'max_depth': 184, 'learning_rate': 0.04394712954685771, 'min_child_samples': 37}. Best is trial 122 with value: 0.24962852897473997.\n",
      "[I 2024-08-16 07:09:28,743] Trial 186 finished with value: 0.23835616438356164 and parameters: {'n_estimators': 746, 'num_leaves': 1471, 'max_depth': 46, 'learning_rate': 0.04543039464475312, 'min_child_samples': 49}. Best is trial 122 with value: 0.24962852897473997.\n",
      "[I 2024-08-16 07:10:06,937] Trial 187 finished with value: 0.22260869565217387 and parameters: {'n_estimators': 846, 'num_leaves': 1425, 'max_depth': 58, 'learning_rate': 0.04177104928776155, 'min_child_samples': 157}. Best is trial 122 with value: 0.24962852897473997.\n",
      "[I 2024-08-16 07:11:30,366] Trial 188 finished with value: 0.23738062755798087 and parameters: {'n_estimators': 1163, 'num_leaves': 1288, 'max_depth': 38, 'learning_rate': 0.03688995054806363, 'min_child_samples': 57}. Best is trial 122 with value: 0.24962852897473997.\n",
      "[I 2024-08-16 07:12:21,713] Trial 189 finished with value: 0.23496503496503499 and parameters: {'n_estimators': 762, 'num_leaves': 1377, 'max_depth': 67, 'learning_rate': 0.03908506060995224, 'min_child_samples': 49}. Best is trial 122 with value: 0.24962852897473997.\n",
      "[I 2024-08-16 07:13:21,152] Trial 190 finished with value: 0.2316076294277929 and parameters: {'n_estimators': 678, 'num_leaves': 1592, 'max_depth': 42, 'learning_rate': 0.044128863753280546, 'min_child_samples': 33}. Best is trial 122 with value: 0.24962852897473997.\n",
      "[I 2024-08-16 07:13:58,071] Trial 191 finished with value: 0.22926093514328807 and parameters: {'n_estimators': 663, 'num_leaves': 1463, 'max_depth': 33, 'learning_rate': 0.046946289708491885, 'min_child_samples': 64}. Best is trial 122 with value: 0.24962852897473997.\n",
      "[I 2024-08-16 07:14:41,841] Trial 192 finished with value: 0.2365930599369085 and parameters: {'n_estimators': 718, 'num_leaves': 1537, 'max_depth': 21, 'learning_rate': 0.04177661284191426, 'min_child_samples': 54}. Best is trial 122 with value: 0.24962852897473997.\n",
      "[I 2024-08-16 07:15:39,759] Trial 193 finished with value: 0.23756906077348064 and parameters: {'n_estimators': 809, 'num_leaves': 1448, 'max_depth': 27, 'learning_rate': 0.048097879530230384, 'min_child_samples': 42}. Best is trial 122 with value: 0.24962852897473997.\n",
      "[I 2024-08-16 07:16:32,385] Trial 194 finished with value: 0.23643949930458968 and parameters: {'n_estimators': 858, 'num_leaves': 990, 'max_depth': 127, 'learning_rate': 0.04416488363428064, 'min_child_samples': 60}. Best is trial 122 with value: 0.24962852897473997.\n",
      "[I 2024-08-16 07:17:12,700] Trial 195 finished with value: 0.22442244224422442 and parameters: {'n_estimators': 769, 'num_leaves': 1318, 'max_depth': 17, 'learning_rate': 0.03921718991203852, 'min_child_samples': 68}. Best is trial 122 with value: 0.24962852897473997.\n",
      "[I 2024-08-16 07:17:39,387] Trial 196 finished with value: 0.19964973730297722 and parameters: {'n_estimators': 631, 'num_leaves': 1577, 'max_depth': 75, 'learning_rate': 0.045843324312343406, 'min_child_samples': 146}. Best is trial 122 with value: 0.24962852897473997.\n",
      "[I 2024-08-16 07:18:30,298] Trial 197 finished with value: 0.23380281690140842 and parameters: {'n_estimators': 694, 'num_leaves': 1401, 'max_depth': 48, 'learning_rate': 0.04209477805052736, 'min_child_samples': 48}. Best is trial 122 with value: 0.24962852897473997.\n",
      "[I 2024-08-16 07:20:12,063] Trial 198 finished with value: 0.23218997361477572 and parameters: {'n_estimators': 1222, 'num_leaves': 1513, 'max_depth': 41, 'learning_rate': 0.05240910588658555, 'min_child_samples': 53}. Best is trial 122 with value: 0.24962852897473997.\n",
      "[I 2024-08-16 07:21:24,786] Trial 199 finished with value: 0.23529411764705882 and parameters: {'n_estimators': 820, 'num_leaves': 1045, 'max_depth': 34, 'learning_rate': 0.049050062660319124, 'min_child_samples': 39}. Best is trial 122 with value: 0.24962852897473997.\n",
      "[I 2024-08-16 07:22:42,692] Trial 200 finished with value: 0.23236514522821577 and parameters: {'n_estimators': 972, 'num_leaves': 942, 'max_depth': 56, 'learning_rate': 0.0433582433983857, 'min_child_samples': 61}. Best is trial 122 with value: 0.24962852897473997.\n",
      "[I 2024-08-16 07:24:06,965] Trial 201 finished with value: 0.225130890052356 and parameters: {'n_estimators': 887, 'num_leaves': 1768, 'max_depth': 51, 'learning_rate': 0.05063729973821558, 'min_child_samples': 43}. Best is trial 122 with value: 0.24962852897473997.\n",
      "[I 2024-08-16 07:25:45,263] Trial 202 finished with value: 0.23453608247422678 and parameters: {'n_estimators': 930, 'num_leaves': 1633, 'max_depth': 47, 'learning_rate': 0.07442332470404711, 'min_child_samples': 45}. Best is trial 122 with value: 0.24962852897473997.\n",
      "[I 2024-08-16 07:27:10,166] Trial 203 finished with value: 0.2289655172413793 and parameters: {'n_estimators': 1073, 'num_leaves': 1697, 'max_depth': 26, 'learning_rate': 0.05090098311930711, 'min_child_samples': 49}. Best is trial 122 with value: 0.24962852897473997.\n",
      "[I 2024-08-16 07:28:26,826] Trial 204 finished with value: 0.2292490118577075 and parameters: {'n_estimators': 737, 'num_leaves': 1450, 'max_depth': 38, 'learning_rate': 0.047682435724587115, 'min_child_samples': 29}. Best is trial 122 with value: 0.24962852897473997.\n",
      "[I 2024-08-16 07:29:29,619] Trial 205 finished with value: 0.24127906976744184 and parameters: {'n_estimators': 851, 'num_leaves': 1808, 'max_depth': 31, 'learning_rate': 0.04065336595908025, 'min_child_samples': 55}. Best is trial 122 with value: 0.24962852897473997.\n",
      "[I 2024-08-16 07:30:35,209] Trial 206 finished with value: 0.23206106870229012 and parameters: {'n_estimators': 1029, 'num_leaves': 1552, 'max_depth': 21, 'learning_rate': 0.05493159764387867, 'min_child_samples': 77}. Best is trial 122 with value: 0.24962852897473997.\n",
      "[I 2024-08-16 07:31:21,298] Trial 207 finished with value: 0.22792937399678972 and parameters: {'n_estimators': 789, 'num_leaves': 856, 'max_depth': 15, 'learning_rate': 0.036829389107236786, 'min_child_samples': 38}. Best is trial 122 with value: 0.24962852897473997.\n",
      "[I 2024-08-16 07:32:47,280] Trial 208 finished with value: 0.23513513513513515 and parameters: {'n_estimators': 898, 'num_leaves': 1682, 'max_depth': 299, 'learning_rate': 0.0338436587586686, 'min_child_samples': 44}. Best is trial 122 with value: 0.24962852897473997.\n",
      "[I 2024-08-16 07:35:14,007] Trial 209 finished with value: 0.2236503856041131 and parameters: {'n_estimators': 1354, 'num_leaves': 1501, 'max_depth': 243, 'learning_rate': 0.04536979143050861, 'min_child_samples': 33}. Best is trial 122 with value: 0.24962852897473997.\n",
      "[I 2024-08-16 07:36:30,143] Trial 210 finished with value: 0.24074074074074076 and parameters: {'n_estimators': 968, 'num_leaves': 1353, 'max_depth': 133, 'learning_rate': 0.04923365508921336, 'min_child_samples': 51}. Best is trial 122 with value: 0.24962852897473997.\n",
      "[I 2024-08-16 07:37:29,603] Trial 211 finished with value: 0.24137931034482762 and parameters: {'n_estimators': 849, 'num_leaves': 1738, 'max_depth': 31, 'learning_rate': 0.04055811677827315, 'min_child_samples': 56}. Best is trial 122 with value: 0.24962852897473997.\n",
      "[I 2024-08-16 07:38:27,891] Trial 212 finished with value: 0.22692889561270801 and parameters: {'n_estimators': 834, 'num_leaves': 1839, 'max_depth': 28, 'learning_rate': 0.03921226158771829, 'min_child_samples': 59}. Best is trial 122 with value: 0.24962852897473997.\n",
      "[I 2024-08-16 07:39:27,362] Trial 213 finished with value: 0.23300970873786409 and parameters: {'n_estimators': 751, 'num_leaves': 1620, 'max_depth': 41, 'learning_rate': 0.04226110843214885, 'min_child_samples': 46}. Best is trial 122 with value: 0.24962852897473997.\n",
      "[I 2024-08-16 07:40:28,679] Trial 214 finished with value: 0.23941605839416058 and parameters: {'n_estimators': 894, 'num_leaves': 1753, 'max_depth': 34, 'learning_rate': 0.04385768450297707, 'min_child_samples': 67}. Best is trial 122 with value: 0.24962852897473997.\n",
      "[I 2024-08-16 07:41:26,351] Trial 215 finished with value: 0.23227752639517346 and parameters: {'n_estimators': 805, 'num_leaves': 1740, 'max_depth': 22, 'learning_rate': 0.0464368515312915, 'min_child_samples': 54}. Best is trial 122 with value: 0.24962852897473997.\n",
      "[I 2024-08-16 07:42:20,087] Trial 216 finished with value: 0.22998544395924309 and parameters: {'n_estimators': 589, 'num_leaves': 977, 'max_depth': 109, 'learning_rate': 0.039730089439276195, 'min_child_samples': 41}. Best is trial 122 with value: 0.24962852897473997.\n",
      "[I 2024-08-16 07:43:08,712] Trial 217 finished with value: 0.24893917963224896 and parameters: {'n_estimators': 681, 'num_leaves': 1903, 'max_depth': 48, 'learning_rate': 0.053452614247110154, 'min_child_samples': 62}. Best is trial 122 with value: 0.24962852897473997.\n",
      "[I 2024-08-16 07:43:56,014] Trial 218 finished with value: 0.23943661971830987 and parameters: {'n_estimators': 692, 'num_leaves': 2003, 'max_depth': 88, 'learning_rate': 0.05277421367142913, 'min_child_samples': 62}. Best is trial 122 with value: 0.24962852897473997.\n",
      "[I 2024-08-16 07:44:47,737] Trial 219 finished with value: 0.22754491017964068 and parameters: {'n_estimators': 648, 'num_leaves': 1928, 'max_depth': 162, 'learning_rate': 0.041015803736566, 'min_child_samples': 57}. Best is trial 122 with value: 0.24962852897473997.\n",
      "[I 2024-08-16 07:45:44,556] Trial 220 finished with value: 0.2415196743554953 and parameters: {'n_estimators': 718, 'num_leaves': 894, 'max_depth': 38, 'learning_rate': 0.05617703210576841, 'min_child_samples': 49}. Best is trial 122 with value: 0.24962852897473997.\n",
      "[I 2024-08-16 07:46:42,523] Trial 221 finished with value: 0.2417582417582418 and parameters: {'n_estimators': 726, 'num_leaves': 957, 'max_depth': 37, 'learning_rate': 0.057398328763840725, 'min_child_samples': 49}. Best is trial 122 with value: 0.24962852897473997.\n",
      "[I 2024-08-16 07:47:33,893] Trial 222 finished with value: 0.2415196743554953 and parameters: {'n_estimators': 706, 'num_leaves': 922, 'max_depth': 42, 'learning_rate': 0.05672557414048167, 'min_child_samples': 49}. Best is trial 122 with value: 0.24962852897473997.\n",
      "[I 2024-08-16 07:48:30,512] Trial 223 finished with value: 0.23097826086956522 and parameters: {'n_estimators': 709, 'num_leaves': 942, 'max_depth': 44, 'learning_rate': 0.05809074311165068, 'min_child_samples': 49}. Best is trial 122 with value: 0.24962852897473997.\n",
      "[I 2024-08-16 07:49:39,227] Trial 224 finished with value: 0.23421052631578948 and parameters: {'n_estimators': 740, 'num_leaves': 915, 'max_depth': 55, 'learning_rate': 0.0555315341828637, 'min_child_samples': 37}. Best is trial 122 with value: 0.24962852897473997.\n",
      "[I 2024-08-16 07:50:24,917] Trial 225 finished with value: 0.23776223776223776 and parameters: {'n_estimators': 616, 'num_leaves': 996, 'max_depth': 38, 'learning_rate': 0.060003270290218784, 'min_child_samples': 49}. Best is trial 122 with value: 0.24962852897473997.\n",
      "[I 2024-08-16 07:51:31,552] Trial 226 finished with value: 0.24226110363391656 and parameters: {'n_estimators': 779, 'num_leaves': 891, 'max_depth': 44, 'learning_rate': 0.053876143170914347, 'min_child_samples': 42}. Best is trial 122 with value: 0.24962852897473997.\n",
      "[I 2024-08-16 07:52:55,980] Trial 227 finished with value: 0.2368082368082368 and parameters: {'n_estimators': 803, 'num_leaves': 889, 'max_depth': 47, 'learning_rate': 0.05430986932190215, 'min_child_samples': 28}. Best is trial 122 with value: 0.24962852897473997.\n",
      "[I 2024-08-16 07:54:14,307] Trial 228 finished with value: 0.2297650130548303 and parameters: {'n_estimators': 763, 'num_leaves': 1045, 'max_depth': 60, 'learning_rate': 0.05395187921500947, 'min_child_samples': 40}. Best is trial 122 with value: 0.24962852897473997.\n",
      "[I 2024-08-16 07:55:34,158] Trial 229 finished with value: 0.23759791122715404 and parameters: {'n_estimators': 773, 'num_leaves': 1416, 'max_depth': 35, 'learning_rate': 0.05702956619908792, 'min_child_samples': 34}. Best is trial 122 with value: 0.24962852897473997.\n",
      "[I 2024-08-16 07:56:24,771] Trial 230 finished with value: 0.24748201438848927 and parameters: {'n_estimators': 661, 'num_leaves': 846, 'max_depth': 26, 'learning_rate': 0.05258092033333484, 'min_child_samples': 43}. Best is trial 122 with value: 0.24962852897473997.\n",
      "[I 2024-08-16 07:57:23,207] Trial 231 finished with value: 0.24000000000000005 and parameters: {'n_estimators': 662, 'num_leaves': 847, 'max_depth': 26, 'learning_rate': 0.05303919892545714, 'min_child_samples': 42}. Best is trial 122 with value: 0.24962852897473997.\n",
      "[I 2024-08-16 07:58:16,740] Trial 232 finished with value: 0.2372413793103448 and parameters: {'n_estimators': 714, 'num_leaves': 886, 'max_depth': 37, 'learning_rate': 0.05598029893223899, 'min_child_samples': 45}. Best is trial 122 with value: 0.24962852897473997.\n",
      "[I 2024-08-16 07:59:04,855] Trial 233 finished with value: 0.22814814814814813 and parameters: {'n_estimators': 629, 'num_leaves': 2001, 'max_depth': 28, 'learning_rate': 0.05192406032384689, 'min_child_samples': 54}. Best is trial 122 with value: 0.24962852897473997.\n",
      "[I 2024-08-16 07:59:45,418] Trial 234 finished with value: 0.23423423423423426 and parameters: {'n_estimators': 563, 'num_leaves': 1021, 'max_depth': 21, 'learning_rate': 0.050641365826801545, 'min_child_samples': 34}. Best is trial 122 with value: 0.24962852897473997.\n",
      "[I 2024-08-16 08:00:51,594] Trial 235 finished with value: 0.234185733512786 and parameters: {'n_estimators': 776, 'num_leaves': 807, 'max_depth': 49, 'learning_rate': 0.048304902714781245, 'min_child_samples': 46}. Best is trial 122 with value: 0.24962852897473997.\n",
      "[I 2024-08-16 08:01:55,637] Trial 236 finished with value: 0.24242424242424246 and parameters: {'n_estimators': 732, 'num_leaves': 965, 'max_depth': 31, 'learning_rate': 0.05403695836260368, 'min_child_samples': 39}. Best is trial 122 with value: 0.24962852897473997.\n",
      "[I 2024-08-16 08:02:48,702] Trial 237 finished with value: 0.23201174743024963 and parameters: {'n_estimators': 834, 'num_leaves': 952, 'max_depth': 15, 'learning_rate': 0.05086205810264887, 'min_child_samples': 22}. Best is trial 122 with value: 0.24962852897473997.\n",
      "[I 2024-08-16 08:03:53,969] Trial 238 finished with value: 0.23199999999999998 and parameters: {'n_estimators': 661, 'num_leaves': 1471, 'max_depth': 81, 'learning_rate': 0.0539800903729771, 'min_child_samples': 38}. Best is trial 122 with value: 0.24962852897473997.\n",
      "[I 2024-08-16 08:04:59,338] Trial 239 finished with value: 0.24076607387140903 and parameters: {'n_estimators': 747, 'num_leaves': 972, 'max_depth': 31, 'learning_rate': 0.05221285342216769, 'min_child_samples': 41}. Best is trial 122 with value: 0.24962852897473997.\n",
      "[I 2024-08-16 08:10:15,412] Trial 240 finished with value: 0.22546419098143236 and parameters: {'n_estimators': 2883, 'num_leaves': 1511, 'max_depth': 24, 'learning_rate': 0.04593083824286461, 'min_child_samples': 26}. Best is trial 122 with value: 0.24962852897473997.\n",
      "[I 2024-08-16 08:11:15,585] Trial 241 finished with value: 0.2282608695652174 and parameters: {'n_estimators': 705, 'num_leaves': 891, 'max_depth': 40, 'learning_rate': 0.0591601967846969, 'min_child_samples': 51}. Best is trial 122 with value: 0.24962852897473997.\n",
      "[I 2024-08-16 08:12:21,459] Trial 242 finished with value: 0.236734693877551 and parameters: {'n_estimators': 807, 'num_leaves': 923, 'max_depth': 35, 'learning_rate': 0.05383310413323795, 'min_child_samples': 46}. Best is trial 122 with value: 0.24962852897473997.\n",
      "[I 2024-08-16 08:13:33,943] Trial 243 finished with value: 0.2305699481865285 and parameters: {'n_estimators': 740, 'num_leaves': 1029, 'max_depth': 96, 'learning_rate': 0.05719037182931913, 'min_child_samples': 35}. Best is trial 122 with value: 0.24962852897473997.\n",
      "[I 2024-08-16 08:14:32,721] Trial 244 finished with value: 0.2452316076294278 and parameters: {'n_estimators': 782, 'num_leaves': 837, 'max_depth': 42, 'learning_rate': 0.05551055471522615, 'min_child_samples': 56}. Best is trial 122 with value: 0.24962852897473997.\n",
      "[I 2024-08-16 08:15:27,336] Trial 245 finished with value: 0.23876404494382023 and parameters: {'n_estimators': 794, 'num_leaves': 838, 'max_depth': 44, 'learning_rate': 0.048773104947206374, 'min_child_samples': 61}. Best is trial 122 with value: 0.24962852897473997.\n",
      "[I 2024-08-16 08:16:37,385] Trial 246 finished with value: 0.24064171122994654 and parameters: {'n_estimators': 857, 'num_leaves': 1423, 'max_depth': 51, 'learning_rate': 0.054395957553348494, 'min_child_samples': 55}. Best is trial 122 with value: 0.24962852897473997.\n",
      "[I 2024-08-16 08:17:50,819] Trial 247 finished with value: 0.2410958904109589 and parameters: {'n_estimators': 871, 'num_leaves': 1571, 'max_depth': 30, 'learning_rate': 0.04352540067291537, 'min_child_samples': 42}. Best is trial 122 with value: 0.24962852897473997.\n",
      "[I 2024-08-16 08:18:41,655] Trial 248 finished with value: 0.24096385542168677 and parameters: {'n_estimators': 790, 'num_leaves': 1356, 'max_depth': 20, 'learning_rate': 0.051371920131525084, 'min_child_samples': 54}. Best is trial 122 with value: 0.24962852897473997.\n",
      "[I 2024-08-16 08:19:25,872] Trial 249 finished with value: 0.2160493827160494 and parameters: {'n_estimators': 685, 'num_leaves': 1462, 'max_depth': 28, 'learning_rate': 0.04793958441500686, 'min_child_samples': 64}. Best is trial 122 with value: 0.24962852897473997.\n",
      "[I 2024-08-16 08:20:39,780] Trial 250 finished with value: 0.2360922659430122 and parameters: {'n_estimators': 830, 'num_leaves': 982, 'max_depth': 32, 'learning_rate': 0.04515860126636862, 'min_child_samples': 32}. Best is trial 122 with value: 0.24962852897473997.\n",
      "[I 2024-08-16 08:22:12,151] Trial 251 finished with value: 0.23255813953488375 and parameters: {'n_estimators': 986, 'num_leaves': 1075, 'max_depth': 71, 'learning_rate': 0.06496067307623288, 'min_child_samples': 40}. Best is trial 122 with value: 0.24962852897473997.\n",
      "[I 2024-08-16 08:24:25,366] Trial 252 finished with value: 0.22588832487309646 and parameters: {'n_estimators': 1460, 'num_leaves': 1516, 'max_depth': 43, 'learning_rate': 0.060397517550038436, 'min_child_samples': 51}. Best is trial 122 with value: 0.24962852897473997.\n",
      "[I 2024-08-16 08:25:11,624] Trial 253 finished with value: 0.2260061919504644 and parameters: {'n_estimators': 757, 'num_leaves': 786, 'max_depth': 23, 'learning_rate': 0.04228979941871294, 'min_child_samples': 58}. Best is trial 122 with value: 0.24962852897473997.\n",
      "[I 2024-08-16 08:26:36,229] Trial 254 finished with value: 0.24274406332453827 and parameters: {'n_estimators': 911, 'num_leaves': 1384, 'max_depth': 53, 'learning_rate': 0.050526752296486545, 'min_child_samples': 46}. Best is trial 122 with value: 0.24962852897473997.\n",
      "[I 2024-08-16 08:27:56,721] Trial 255 finished with value: 0.24583866837387963 and parameters: {'n_estimators': 939, 'num_leaves': 1270, 'max_depth': 54, 'learning_rate': 0.05071595480573484, 'min_child_samples': 46}. Best is trial 122 with value: 0.24962852897473997.\n",
      "[I 2024-08-16 08:29:19,050] Trial 256 finished with value: 0.23605706874189364 and parameters: {'n_estimators': 930, 'num_leaves': 1275, 'max_depth': 58, 'learning_rate': 0.04993627842133033, 'min_child_samples': 45}. Best is trial 122 with value: 0.24962852897473997.\n",
      "[I 2024-08-16 08:30:36,353] Trial 257 finished with value: 0.23884514435695536 and parameters: {'n_estimators': 1038, 'num_leaves': 1388, 'max_depth': 55, 'learning_rate': 0.05121963806211733, 'min_child_samples': 59}. Best is trial 122 with value: 0.24962852897473997.\n",
      "[I 2024-08-16 08:32:04,326] Trial 258 finished with value: 0.23453608247422678 and parameters: {'n_estimators': 937, 'num_leaves': 1222, 'max_depth': 64, 'learning_rate': 0.04922064042780098, 'min_child_samples': 39}. Best is trial 122 with value: 0.24962852897473997.\n",
      "[I 2024-08-16 08:33:17,280] Trial 259 finished with value: 0.23796791443850268 and parameters: {'n_estimators': 903, 'num_leaves': 1348, 'max_depth': 48, 'learning_rate': 0.05314543390231903, 'min_child_samples': 52}. Best is trial 122 with value: 0.24962852897473997.\n",
      "[I 2024-08-16 08:34:24,352] Trial 260 finished with value: 0.23333333333333334 and parameters: {'n_estimators': 999, 'num_leaves': 1424, 'max_depth': 50, 'learning_rate': 0.046096481597597945, 'min_child_samples': 69}. Best is trial 122 with value: 0.24962852897473997.\n",
      "[I 2024-08-16 08:36:12,232] Trial 261 finished with value: 0.2270967741935484 and parameters: {'n_estimators': 1092, 'num_leaves': 1301, 'max_depth': 54, 'learning_rate': 0.05242948546607918, 'min_child_samples': 43}. Best is trial 122 with value: 0.24962852897473997.\n",
      "[I 2024-08-16 08:37:28,449] Trial 262 finished with value: 0.2401091405184175 and parameters: {'n_estimators': 879, 'num_leaves': 1475, 'max_depth': 42, 'learning_rate': 0.047421235287273454, 'min_child_samples': 46}. Best is trial 122 with value: 0.24962852897473997.\n",
      "[I 2024-08-16 08:38:33,907] Trial 263 finished with value: 0.2182410423452769 and parameters: {'n_estimators': 938, 'num_leaves': 1379, 'max_depth': 49, 'learning_rate': 0.01461009138862274, 'min_child_samples': 54}. Best is trial 122 with value: 0.24962852897473997.\n",
      "[I 2024-08-16 08:41:07,953] Trial 264 finished with value: 0.2379746835443038 and parameters: {'n_estimators': 1671, 'num_leaves': 2167, 'max_depth': 61, 'learning_rate': 0.050655245377314854, 'min_child_samples': 64}. Best is trial 122 with value: 0.24962852897473997.\n",
      "[I 2024-08-16 08:42:44,618] Trial 265 finished with value: 0.25299600532623173 and parameters: {'n_estimators': 979, 'num_leaves': 1565, 'max_depth': 34, 'learning_rate': 0.04888906225539191, 'min_child_samples': 36}. Best is trial 265 with value: 0.25299600532623173.\n",
      "[I 2024-08-16 08:44:17,091] Trial 266 finished with value: 0.23369565217391303 and parameters: {'n_estimators': 1057, 'num_leaves': 1560, 'max_depth': 25, 'learning_rate': 0.04880778542318419, 'min_child_samples': 36}. Best is trial 265 with value: 0.25299600532623173.\n",
      "[I 2024-08-16 08:45:27,256] Trial 267 finished with value: 0.23342939481268013 and parameters: {'n_estimators': 964, 'num_leaves': 1613, 'max_depth': 16, 'learning_rate': 0.05487564219738427, 'min_child_samples': 28}. Best is trial 265 with value: 0.25299600532623173.\n",
      "[I 2024-08-16 08:46:59,880] Trial 268 finished with value: 0.23607427055702918 and parameters: {'n_estimators': 1006, 'num_leaves': 1651, 'max_depth': 33, 'learning_rate': 0.051957752141672975, 'min_child_samples': 38}. Best is trial 265 with value: 0.25299600532623173.\n",
      "[I 2024-08-16 08:48:09,886] Trial 269 finished with value: 0.23564954682779457 and parameters: {'n_estimators': 892, 'num_leaves': 1540, 'max_depth': 28, 'learning_rate': 0.023882033104006092, 'min_child_samples': 43}. Best is trial 265 with value: 0.25299600532623173.\n",
      "[I 2024-08-16 08:48:47,815] Trial 270 finished with value: 0.22108843537414968 and parameters: {'n_estimators': 968, 'num_leaves': 1170, 'max_depth': 10, 'learning_rate': 0.04744200389394358, 'min_child_samples': 57}. Best is trial 265 with value: 0.25299600532623173.\n",
      "[I 2024-08-16 08:50:41,583] Trial 271 finished with value: 0.23591087811271297 and parameters: {'n_estimators': 1120, 'num_leaves': 1595, 'max_depth': 37, 'learning_rate': 0.05018975534047723, 'min_child_samples': 31}. Best is trial 265 with value: 0.25299600532623173.\n",
      "[I 2024-08-16 08:51:36,928] Trial 272 finished with value: 0.239880059970015 and parameters: {'n_estimators': 853, 'num_leaves': 1512, 'max_depth': 21, 'learning_rate': 0.03807451707511471, 'min_child_samples': 50}. Best is trial 265 with value: 0.25299600532623173.\n",
      "[I 2024-08-16 08:53:11,162] Trial 273 finished with value: 0.23638778220451528 and parameters: {'n_estimators': 1052, 'num_leaves': 1424, 'max_depth': 33, 'learning_rate': 0.05354975199039342, 'min_child_samples': 39}. Best is trial 265 with value: 0.25299600532623173.\n",
      "[I 2024-08-16 08:54:17,820] Trial 274 finished with value: 0.2372413793103448 and parameters: {'n_estimators': 929, 'num_leaves': 1239, 'max_depth': 44, 'learning_rate': 0.0489975208506633, 'min_child_samples': 63}. Best is trial 265 with value: 0.25299600532623173.\n",
      "[I 2024-08-16 08:54:50,330] Trial 275 finished with value: 0.22591362126245845 and parameters: {'n_estimators': 599, 'num_leaves': 1496, 'max_depth': 18, 'learning_rate': 0.04660203394546567, 'min_child_samples': 73}. Best is trial 265 with value: 0.25299600532623173.\n",
      "[I 2024-08-16 08:55:25,742] Trial 276 finished with value: 0.2154882154882155 and parameters: {'n_estimators': 823, 'num_leaves': 1576, 'max_depth': 26, 'learning_rate': 0.06859074847720811, 'min_child_samples': 168}. Best is trial 265 with value: 0.25299600532623173.\n",
      "[I 2024-08-16 08:56:34,138] Trial 277 finished with value: 0.2426900584795322 and parameters: {'n_estimators': 875, 'num_leaves': 1309, 'max_depth': 37, 'learning_rate': 0.030540239477470914, 'min_child_samples': 47}. Best is trial 265 with value: 0.25299600532623173.\n",
      "[I 2024-08-16 08:57:42,413] Trial 278 finished with value: 0.24745269286754004 and parameters: {'n_estimators': 867, 'num_leaves': 1313, 'max_depth': 43, 'learning_rate': 0.029198715417555535, 'min_child_samples': 49}. Best is trial 265 with value: 0.25299600532623173.\n",
      "[I 2024-08-16 08:59:03,821] Trial 279 finished with value: 0.23821989528795814 and parameters: {'n_estimators': 985, 'num_leaves': 1321, 'max_depth': 39, 'learning_rate': 0.07218783141711511, 'min_child_samples': 53}. Best is trial 265 with value: 0.25299600532623173.\n",
      "[I 2024-08-16 09:00:07,004] Trial 280 finished with value: 0.22629969418960244 and parameters: {'n_estimators': 898, 'num_leaves': 1295, 'max_depth': 38, 'learning_rate': 0.02656182385863044, 'min_child_samples': 61}. Best is trial 265 with value: 0.25299600532623173.\n",
      "[I 2024-08-16 09:01:35,279] Trial 281 finished with value: 0.23152022315202228 and parameters: {'n_estimators': 1022, 'num_leaves': 1367, 'max_depth': 33, 'learning_rate': 0.03398826755909289, 'min_child_samples': 48}. Best is trial 265 with value: 0.25299600532623173.\n",
      "[I 2024-08-16 09:03:38,291] Trial 282 finished with value: 0.20933977455716588 and parameters: {'n_estimators': 2454, 'num_leaves': 1217, 'max_depth': 65, 'learning_rate': 0.02572245586583262, 'min_child_samples': 217}. Best is trial 265 with value: 0.25299600532623173.\n",
      "[I 2024-08-16 09:04:41,914] Trial 283 finished with value: 0.22781065088757393 and parameters: {'n_estimators': 871, 'num_leaves': 1329, 'max_depth': 210, 'learning_rate': 0.03126808804780226, 'min_child_samples': 58}. Best is trial 265 with value: 0.25299600532623173.\n",
      "[I 2024-08-16 09:05:53,381] Trial 284 finished with value: 0.24000000000000005 and parameters: {'n_estimators': 947, 'num_leaves': 1256, 'max_depth': 51, 'learning_rate': 0.02933339432240961, 'min_child_samples': 52}. Best is trial 265 with value: 0.25299600532623173.\n",
      "[I 2024-08-16 09:06:50,095] Trial 285 finished with value: 0.23088923556942276 and parameters: {'n_estimators': 907, 'num_leaves': 1278, 'max_depth': 42, 'learning_rate': 0.027697316599854086, 'min_child_samples': 69}. Best is trial 265 with value: 0.25299600532623173.\n",
      "[I 2024-08-16 09:07:54,937] Trial 286 finished with value: 0.24242424242424243 and parameters: {'n_estimators': 863, 'num_leaves': 1383, 'max_depth': 55, 'learning_rate': 0.029368301555649314, 'min_child_samples': 47}. Best is trial 265 with value: 0.25299600532623173.\n",
      "[I 2024-08-16 09:09:21,165] Trial 287 finished with value: 0.23152022315202228 and parameters: {'n_estimators': 990, 'num_leaves': 1166, 'max_depth': 32, 'learning_rate': 0.0268390079048199, 'min_child_samples': 35}. Best is trial 265 with value: 0.25299600532623173.\n",
      "[I 2024-08-16 09:10:19,661] Trial 288 finished with value: 0.2318840579710145 and parameters: {'n_estimators': 827, 'num_leaves': 1635, 'max_depth': 23, 'learning_rate': 0.024120742576010754, 'min_child_samples': 54}. Best is trial 265 with value: 0.25299600532623173.\n",
      "[I 2024-08-16 09:11:08,435] Trial 289 finished with value: 0.22945736434108527 and parameters: {'n_estimators': 655, 'num_leaves': 2067, 'max_depth': 45, 'learning_rate': 0.02968264929481264, 'min_child_samples': 47}. Best is trial 265 with value: 0.25299600532623173.\n",
      "[I 2024-08-16 09:12:16,351] Trial 290 finished with value: 0.23893805309734514 and parameters: {'n_estimators': 932, 'num_leaves': 1669, 'max_depth': 36, 'learning_rate': 0.03068119651931715, 'min_child_samples': 59}. Best is trial 265 with value: 0.25299600532623173.\n",
      "[I 2024-08-16 09:14:03,064] Trial 291 finished with value: 0.24102564102564103 and parameters: {'n_estimators': 890, 'num_leaves': 1105, 'max_depth': 173, 'learning_rate': 0.03616404105384539, 'min_child_samples': 26}. Best is trial 265 with value: 0.25299600532623173.\n",
      "[I 2024-08-16 09:14:40,136] Trial 292 finished with value: 0.2273476112026359 and parameters: {'n_estimators': 535, 'num_leaves': 1478, 'max_depth': 16, 'learning_rate': 0.045230260805897614, 'min_child_samples': 44}. Best is trial 265 with value: 0.25299600532623173.\n",
      "[I 2024-08-16 09:16:23,797] Trial 293 finished with value: 0.24338624338624337 and parameters: {'n_estimators': 1049, 'num_leaves': 1312, 'max_depth': 77, 'learning_rate': 0.050288348514750066, 'min_child_samples': 52}. Best is trial 265 with value: 0.25299600532623173.\n",
      "[I 2024-08-16 09:17:54,847] Trial 294 finished with value: 0.24115334207077327 and parameters: {'n_estimators': 1140, 'num_leaves': 1324, 'max_depth': 74, 'learning_rate': 0.04846038025727216, 'min_child_samples': 65}. Best is trial 265 with value: 0.25299600532623173.\n",
      "[I 2024-08-16 09:19:30,299] Trial 295 finished with value: 0.24704336399474372 and parameters: {'n_estimators': 1063, 'num_leaves': 1253, 'max_depth': 81, 'learning_rate': 0.05005784543577441, 'min_child_samples': 56}. Best is trial 265 with value: 0.25299600532623173.\n",
      "[I 2024-08-16 09:21:26,361] Trial 296 finished with value: 0.24178712220762152 and parameters: {'n_estimators': 1106, 'num_leaves': 1253, 'max_depth': 82, 'learning_rate': 0.05207274966494093, 'min_child_samples': 57}. Best is trial 265 with value: 0.25299600532623173.\n",
      "[I 2024-08-16 09:23:28,852] Trial 297 finished with value: 0.23664122137404578 and parameters: {'n_estimators': 1074, 'num_leaves': 1317, 'max_depth': 81, 'learning_rate': 0.07774515269287487, 'min_child_samples': 55}. Best is trial 265 with value: 0.25299600532623173.\n",
      "[I 2024-08-16 09:25:00,013] Trial 298 finished with value: 0.22919937205651494 and parameters: {'n_estimators': 1059, 'num_leaves': 1267, 'max_depth': 86, 'learning_rate': 0.021067510335128888, 'min_child_samples': 64}. Best is trial 265 with value: 0.25299600532623173.\n",
      "[I 2024-08-16 09:27:32,315] Trial 299 finished with value: 0.24031007751937983 and parameters: {'n_estimators': 1567, 'num_leaves': 1394, 'max_depth': 194, 'learning_rate': 0.04680914447820926, 'min_child_samples': 74}. Best is trial 265 with value: 0.25299600532623173.\n"
     ]
    },
    {
     "name": "stdout",
     "output_type": "stream",
     "text": [
      "Best trial: score 0.25299600532623173, \n",
      "params {'n_estimators': 979, 'num_leaves': 1565, 'max_depth': 34, 'learning_rate': 0.04888906225539191, 'min_child_samples': 36}\n"
     ]
    }
   ],
   "source": [
    "import optuna\n",
    "from lightgbm import LGBMClassifier\n",
    "from sklearn.model_selection import train_test_split\n",
    "from sklearn.metrics import f1_score\n",
    "import numpy as np\n",
    "\n",
    "# 'Normal'과 'AbNormal'을 숫자로 변환\n",
    "train_data_fill1['target'] = train_data_fill1['target'].map({'Normal': 0, 'AbNormal': 1})\n",
    "\n",
    "# 스레드홀드 설정\n",
    "THRESHOLD = 0.3\n",
    "\n",
    "def objectiveLGBM_dart(trial, x_tr, y_tr, x_val, y_val):\n",
    "    param = {\n",
    "        'n_estimators': trial.suggest_int('n_estimators', 500, 3000),\n",
    "        'num_leaves': trial.suggest_int('num_leaves', 500, 3000),\n",
    "        'max_depth': trial.suggest_int('max_depth', 10, 300),\n",
    "        'learning_rate': trial.suggest_float('learning_rate', 0.001, 0.1),\n",
    "        'min_child_samples': trial.suggest_int('min_child_samples', 3, 300),\n",
    "        \n",
    "        'boosting_type': 'dart',  # 'boosting'를 'boosting_type'으로 수정\n",
    "        'random_state': RANDOM_STATE,\n",
    "        'verbose': -1\n",
    "    }\n",
    "       \n",
    "    model = LGBMClassifier(**param)\n",
    "    model.fit(x_tr, y_tr)\n",
    "    pred_proba = model.predict_proba(x_val)[:, 1]  # 양성 클래스 확률\n",
    "    pred = (pred_proba >= THRESHOLD).astype(int)  # 스레드홀드에 따른 예측\n",
    "    \n",
    "    score = f1_score(y_val, pred, average=\"binary\")\n",
    "    \n",
    "    return score\n",
    "\n",
    "# 데이터셋 분할\n",
    "x_train, x_val, y_train, y_val = train_test_split(\n",
    "    train_data_fill1.drop(\"target\", axis=1),\n",
    "    train_data_fill1[\"target\"],\n",
    "    test_size=0.2,\n",
    "    shuffle=True,\n",
    "    random_state=RANDOM_STATE,\n",
    ")\n",
    "\n",
    "# 하이퍼 파라미터 튜닝\n",
    "study = optuna.create_study(direction='maximize', sampler=optuna.samplers.TPESampler(seed=RANDOM_STATE))\n",
    "study.optimize(lambda trial: objectiveLGBM_dart(trial, x_train, y_train, x_val, y_val), n_trials=300)\n",
    "\n",
    "print('Best trial: score {}, \\nparams {}'.format(study.best_trial.value, study.best_trial.params))"
   ]
  },
  {
   "cell_type": "markdown",
   "id": "67e8922b",
   "metadata": {},
   "source": [
    "Best trial: score 0.25299600532623173,   \n",
    "params {'n_estimators': 979, 'num_leaves': 1565, 'max_depth': 34, 'learning_rate': 0.04888906225539191,  'min_child_samples': 36}  "
   ]
  }
 ],
 "metadata": {
  "kernelspec": {
   "display_name": "Python 3 (ipykernel)",
   "language": "python",
   "name": "python3"
  },
  "language_info": {
   "codemirror_mode": {
    "name": "ipython",
    "version": 3
   },
   "file_extension": ".py",
   "mimetype": "text/x-python",
   "name": "python",
   "nbconvert_exporter": "python",
   "pygments_lexer": "ipython3",
   "version": "3.7.8"
  }
 },
 "nbformat": 4,
 "nbformat_minor": 5
}

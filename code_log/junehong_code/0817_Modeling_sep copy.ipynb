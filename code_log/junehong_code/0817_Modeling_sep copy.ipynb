{
 "cells": [
  {
   "cell_type": "markdown",
   "id": "017e9265",
   "metadata": {},
   "source": [
    "# 제품 이상여부 판별 프로젝트\n"
   ]
  },
  {
   "cell_type": "markdown",
   "id": "acdab431",
   "metadata": {},
   "source": [
    "## 1. 데이터 불러오기\n"
   ]
  },
  {
   "cell_type": "markdown",
   "id": "2b8341e8",
   "metadata": {},
   "source": [
    "### 필수 라이브러리\n"
   ]
  },
  {
   "cell_type": "code",
   "execution_count": 118,
   "id": "a315cc58",
   "metadata": {},
   "outputs": [],
   "source": [
    "import numpy as np\n",
    "import pandas as pd\n",
    "import seaborn as sns\n",
    "import matplotlib.pyplot as plt\n",
    "\n",
<<<<<<< HEAD:code_log/dongyoung_code/modeling/0816_Optuna_Dam.ipynb
    "from sklearn.tree import DecisionTreeClassifier\n",
    "from lightgbm import LGBMClassifier\n",
    "from sklearn.ensemble import RandomForestClassifier, ExtraTreesClassifier, AdaBoostClassifier\n",
    "from xgboost import XGBClassifier\n",
    "from catboost import CatBoostClassifier\n",
=======
    "import os\n",
    "from pprint import pprint\n",
>>>>>>> b30cabaa6d9263d9a527da31c1ff61ecd3a49b07:code_log/junehong_code/0817_Modeling_sep copy.ipynb
    "\n",
    "from sklearn.ensemble import RandomForestClassifier\n",
    "from sklearn.metrics import (\n",
    "    accuracy_score,\n",
    "    classification_report,\n",
    "    confusion_matrix,\n",
    "    f1_score,\n",
    "    precision_score,\n",
    "    recall_score,\n",
    ")\n",
    "from sklearn.model_selection import train_test_split\n",
    "from tqdm import tqdm"
   ]
  },
  {
   "cell_type": "markdown",
   "id": "4d054e30",
   "metadata": {},
   "source": [
    "### 데이터 읽어오기\n"
   ]
  },
  {
   "cell_type": "code",
   "execution_count": 119,
   "id": "fc0b4d80",
   "metadata": {},
   "outputs": [],
   "source": [
    "RANDOM_STATE = 110\n",
    "\n",
    "train_data = pd.read_csv(\"../../data/train_data.csv\")\n",
    "test_data = pd.read_csv(\"../../data/test_data.csv\")"
   ]
  },
  {
   "cell_type": "markdown",
   "id": "cd0a6bbc",
   "metadata": {},
   "source": [
    "기본 전처리 할것들"
   ]
  },
  {
   "cell_type": "code",
   "execution_count": 120,
   "id": "e1367da7",
   "metadata": {},
   "outputs": [],
   "source": [
    "# 'Workorder_AutoClave' 열에서 '-' 다음 숫자 값 추출 및 '000' 제거\n",
    "train_data['Workorder'] = train_data['Workorder'].str.replace(r'-(\\d+)', lambda x: '-' + x.group(1).lstrip('0'), regex=True)\n",
    "test_data['Workorder'] = test_data['Workorder'].str.replace(r'-(\\d+)', lambda x: '-' + x.group(1).lstrip('0'), regex=True)"
   ]
  },
  {
   "cell_type": "code",
   "execution_count": 121,
   "id": "735040a0",
   "metadata": {},
   "outputs": [],
   "source": [
    "# Dispenser_num 값에 따라 새로운 변수 생성\n",
    "train_data['Dispenser_1'] = train_data['Dispenser_num'].apply(lambda x: 1 if x == '#1' else 0)\n",
    "train_data['Dispenser_2'] = train_data['Dispenser_num'].apply(lambda x: 1 if x == '#2' else 0)\n",
    "\n",
    "test_data['Dispenser_1'] = test_data['Dispenser_num'].apply(lambda x: 1 if x == '#1' else 0)\n",
    "test_data['Dispenser_2'] = test_data['Dispenser_num'].apply(lambda x: 1 if x == '#2' else 0)\n",
    "\n",
    "# 불필요한 변수 제거\n",
    "train_data.drop(['Dispenser_num'], axis=1, inplace=True)\n",
    "test_data.drop(['Dispenser_num'], axis=1, inplace=True)"
   ]
  },
  {
   "cell_type": "code",
   "execution_count": 122,
   "id": "262866c0",
   "metadata": {},
   "outputs": [],
   "source": [
    "# WorkMode Collect Result_Dam의 이름을 WorkMode Collect Result로 변경\n",
    "train_data = train_data.rename(columns={'WorkMode Collect Result_Dam': 'WorkMode Collect Result'})\n",
    "test_data = test_data.rename(columns={'WorkMode Collect Result_Dam': 'WorkMode Collect Result'})\n",
    "\n",
    "# WorkMode Collect Result_Fill1, WorkMode Collect Result_Fill2 열 드롭\n",
    "train_data = train_data.drop(columns=['WorkMode Collect Result_Fill1', 'WorkMode Collect Result_Fill2'])\n",
    "test_data = test_data.drop(columns=['WorkMode Collect Result_Fill1', 'WorkMode Collect Result_Fill2'])"
   ]
  },
  {
   "cell_type": "code",
   "execution_count": 123,
   "id": "6e2e5c57",
   "metadata": {},
   "outputs": [],
   "source": [
    "# WorkMode Collect Result 열의 값이 7인 행을 1로 변경\n",
    "train_data['WorkMode Collect Result'] = train_data['WorkMode Collect Result'].replace(7, 1)\n",
    "test_data['WorkMode Collect Result'] = test_data['WorkMode Collect Result'].replace(7, 1)\n",
    "\n",
    "# WorkMode Collect Result 열의 결측값을 0으로 채움\n",
    "train_data['WorkMode Collect Result'] = train_data['WorkMode Collect Result'].fillna(0)\n",
    "test_data['WorkMode Collect Result'] = test_data['WorkMode Collect Result'].fillna(0)"
   ]
  },
  {
   "cell_type": "code",
   "execution_count": 124,
   "id": "38ab6e89",
   "metadata": {},
   "outputs": [],
   "source": [
    "# 세 변수의 값이 동일하면 해당 값을 가져가고, 하나라도 일치하지 않으면 0의 값을 가지는 파생 변수 생성 함수\n",
    "def create_receip_no_collect_result(df):\n",
    "    df['Receip_No_Collect_Result'] = df.apply(\n",
    "        lambda row: row['Receip No Collect Result_Dam'] \n",
    "                    if (row['Receip No Collect Result_Dam'] == row['Receip No Collect Result_Fill1'] == row['Receip No Collect Result_Fill2']) \n",
    "                    else 0, \n",
    "        axis=1\n",
    "    )\n",
    "\n",
    "# 함수 적용\n",
    "create_receip_no_collect_result(train_data)\n",
    "create_receip_no_collect_result(test_data)"
   ]
  },
  {
   "cell_type": "code",
   "execution_count": 125,
   "id": "d60cd31e",
   "metadata": {},
   "outputs": [],
   "source": [
    "# 제거할 변수 목록\n",
    "columns_to_drop = [\n",
    "    'Receip No Collect Result_Dam',\n",
    "    'Receip No Collect Result_Fill1',\n",
    "    'Receip No Collect Result_Fill2'\n",
    "]\n",
    "\n",
    "# 변수 제거\n",
    "train_data.drop(columns=columns_to_drop, inplace=True)\n",
    "test_data.drop(columns=columns_to_drop, inplace=True)"
   ]
  },
  {
   "cell_type": "code",
   "execution_count": 126,
   "id": "66f9a1d2",
   "metadata": {},
   "outputs": [],
   "source": [
    "# 세 변수의 값이 동일하면 해당 값을 가져가고, 하나라도 일치하지 않으면 0의 값을 가지는 파생 변수 생성 함수\n",
    "def create_palletid_collect_result(df):\n",
    "    df['PalletID_Collect_Result'] = df.apply(\n",
    "        lambda row: row['PalletID Collect Result_Dam'] \n",
    "                    if (row['PalletID Collect Result_Dam'] == row['PalletID Collect Result_Fill1'] == row['PalletID Collect Result_Fill2']) \n",
    "                    else 0, \n",
    "        axis=1\n",
    "    )\n",
    "\n",
    "# 함수 적용\n",
    "create_palletid_collect_result(train_data)\n",
    "create_palletid_collect_result(test_data)"
   ]
  },
  {
   "cell_type": "code",
   "execution_count": 127,
   "id": "f4f7c505",
   "metadata": {},
   "outputs": [],
   "source": [
    "# 제거할 변수 목록\n",
    "columns_to_drop = [\n",
    "    'PalletID Collect Result_Dam',\n",
    "    'PalletID Collect Result_Fill1',\n",
    "    'PalletID Collect Result_Fill2'\n",
    "]\n",
    "\n",
    "# 변수 제거\n",
    "train_data.drop(columns=columns_to_drop, inplace=True)\n",
    "test_data.drop(columns=columns_to_drop, inplace=True)"
   ]
  },
  {
   "cell_type": "code",
   "execution_count": 128,
   "id": "e14c7fa6",
   "metadata": {},
   "outputs": [],
   "source": [
    "# 세 변수의 값이 동일하면 해당 값을 가져가고, 하나라도 일치하지 않으면 0의 값을 가지는 파생 변수 생성 함수\n",
    "def create_palletid_collect_result(df):\n",
    "    df['Production_Qty_Collect_Result'] = df.apply(\n",
    "        lambda row: row['Production Qty Collect Result_Dam'] \n",
    "                    if (row['Production Qty Collect Result_Dam'] == row['Production Qty Collect Result_Fill1'] == row['Production Qty Collect Result_Fill2']) \n",
    "                    else 0, \n",
    "        axis=1\n",
    "    )\n",
    "\n",
    "# 함수 적용\n",
    "create_palletid_collect_result(train_data)\n",
    "create_palletid_collect_result(test_data)"
   ]
  },
  {
   "cell_type": "code",
   "execution_count": 129,
   "id": "b8fdec05",
   "metadata": {},
   "outputs": [],
   "source": [
    "# 제거할 변수 목록\n",
    "columns_to_drop = [\n",
    "    'Production Qty Collect Result_Dam',\n",
    "    'Production Qty Collect Result_Fill1',\n",
    "    'Production Qty Collect Result_Fill2'\n",
    "]\n",
    "\n",
    "# 변수 제거\n",
    "train_data.drop(columns=columns_to_drop, inplace=True)\n",
    "test_data.drop(columns=columns_to_drop, inplace=True)"
   ]
  },
  {
   "cell_type": "code",
   "execution_count": 130,
   "id": "a22797c8",
   "metadata": {},
   "outputs": [],
   "source": [
    "# \"Chamber Temp. Judge Value_AutoClave\" 변수의 값을 기준으로 파생 변수 생성 함수\n",
    "def create_judge_value_binary(df):\n",
    "    df['Chamber_Temp_OKNG_AutoClave'] = df['Chamber Temp. Judge Value_AutoClave'].apply(\n",
    "        lambda x: 1 if x == 'OK' else 0\n",
    "    )\n",
    "\n",
    "# 함수 적용\n",
    "create_judge_value_binary(train_data)\n",
    "create_judge_value_binary(test_data)"
   ]
  },
  {
   "cell_type": "code",
   "execution_count": 131,
   "id": "dd9ccf46",
   "metadata": {},
   "outputs": [
    {
     "name": "stdout",
     "output_type": "stream",
     "text": [
      "\n",
      " Judge Value 포함 변수>\n",
      "HEAD NORMAL COORDINATE X AXIS(Stage1) Judge Value_Dam\n",
      "Chamber Temp. Judge Value_AutoClave\n",
      "GMES_ORIGIN_INSP_JUDGE_CODE Judge Value_AutoClave\n",
      "HEAD NORMAL COORDINATE X AXIS(Stage1) Judge Value_Fill1\n",
      "HEAD NORMAL COORDINATE X AXIS(Stage1) Judge Value_Fill2\n"
     ]
    }
   ],
   "source": [
    "# 'Judge Value'를 포함하는 열 이름 필터링\n",
    "Process_Desc_col = train_data.filter(like='Judge Value').columns\n",
    "\n",
    "print(\"\\n Judge Value 포함 변수>\")\n",
    "for col in Process_Desc_col:\n",
    "    print(col)"
   ]
  },
  {
   "cell_type": "code",
   "execution_count": 132,
   "id": "efa52eee",
   "metadata": {},
   "outputs": [],
   "source": [
    "# 5개의 변수 목록\n",
    "judge_value_columns = [\n",
    "    'HEAD NORMAL COORDINATE X AXIS(Stage1) Judge Value_Dam'\n",
    "    , 'GMES_ORIGIN_INSP_JUDGE_CODE Judge Value_AutoClave'\n",
    "    , 'HEAD NORMAL COORDINATE X AXIS(Stage1) Judge Value_Fill1'\n",
    "    , 'HEAD NORMAL COORDINATE X AXIS(Stage1) Judge Value_Fill2'\n",
    "    , 'GMES_ORIGIN_INSP_JUDGE_CODE Collect Result_AutoClave'\n",
    "]\n",
    "\n",
    "# 파생 변수 생성 함수\n",
    "def create_judge_value_feature(df):\n",
    "    df['Judge_Value_OK'] = df[judge_value_columns].apply(\n",
    "        lambda row: 1 if any(row == 'OK') else 0, \n",
    "        axis=1\n",
    "    )\n",
    "\n",
    "# 함수 적용\n",
    "create_judge_value_feature(train_data)\n",
    "create_judge_value_feature(test_data)"
   ]
  },
  {
   "cell_type": "code",
   "execution_count": 133,
   "id": "ebe087f0",
   "metadata": {},
   "outputs": [],
   "source": [
    "# 제거할 변수 목록\n",
    "columns_to_drop = [\n",
    "    'Chamber Temp. Judge Value_AutoClave'\n",
    "    , 'HEAD NORMAL COORDINATE X AXIS(Stage1) Judge Value_Dam'\n",
    "    , 'GMES_ORIGIN_INSP_JUDGE_CODE Judge Value_AutoClave'\n",
    "    , 'HEAD NORMAL COORDINATE X AXIS(Stage1) Judge Value_Fill1'\n",
    "    , 'HEAD NORMAL COORDINATE X AXIS(Stage1) Judge Value_Fill2'\n",
    "    , 'GMES_ORIGIN_INSP_JUDGE_CODE Collect Result_AutoClave'\n",
    "]\n",
    "\n",
    "# 변수 제거\n",
    "train_data.drop(columns=columns_to_drop, inplace=True)\n",
    "test_data.drop(columns=columns_to_drop, inplace=True)"
   ]
  },
  {
   "cell_type": "code",
   "execution_count": 134,
   "id": "4fb1e7ae",
   "metadata": {},
   "outputs": [],
   "source": [
    "# 변수명 변경\n",
    "train_data = train_data.rename(columns={'1st Pressure 1st Pressure Unit Time_AutoClave': '1st Pressure Unit Time_AutoClave'})\n",
    "test_data = test_data.rename(columns={'1st Pressure 1st Pressure Unit Time_AutoClave': '1st Pressure Unit Time_AutoClave'})"
   ]
  },
  {
   "cell_type": "code",
   "execution_count": 135,
   "id": "6cdd01e2",
   "metadata": {},
   "outputs": [
    {
     "name": "stdout",
     "output_type": "stream",
     "text": [
      "<class 'pandas.core.frame.DataFrame'>\n",
      "RangeIndex: 40506 entries, 0 to 40505\n",
      "Columns: 108 entries, Model.Suffix to Judge_Value_OK\n",
      "dtypes: float64(56), int64(49), object(3)\n",
      "memory usage: 33.4+ MB\n"
     ]
    }
   ],
   "source": [
    "train_data.info()"
   ]
  },
  {
   "cell_type": "code",
   "execution_count": 136,
   "id": "5c4b1899",
   "metadata": {},
   "outputs": [
    {
     "name": "stdout",
     "output_type": "stream",
     "text": [
      "<class 'pandas.core.frame.DataFrame'>\n",
      "RangeIndex: 17361 entries, 0 to 17360\n",
      "Columns: 109 entries, Set ID to Judge_Value_OK\n",
      "dtypes: float64(86), int64(20), object(3)\n",
      "memory usage: 14.4+ MB\n"
     ]
    }
   ],
   "source": [
    "test_data.info()"
   ]
  },
  {
   "cell_type": "markdown",
   "id": "e23d3595",
   "metadata": {},
   "source": [
    "---"
   ]
  },
  {
   "cell_type": "markdown",
   "id": "b54df9c3",
   "metadata": {},
   "source": [
    "반복적으로 쓰는 툴 함수화"
   ]
  },
  {
   "cell_type": "code",
   "execution_count": 137,
   "id": "09d2efa7",
   "metadata": {},
   "outputs": [],
   "source": [
    "def plot_box(df, col_name):\n",
    "    \"\"\"\n",
    "    주어진 데이터프레임과 열 이름에 대해 박스 플롯을 그리는 함수.\n",
    "\n",
    "    Parameters:\n",
    "    dataframe (pd.DataFrame): 데이터프레임\n",
    "    column_name (str): 열 이름\n",
    "    \"\"\"\n",
    "    plt.figure(figsize=(7, 4))\n",
    "    plt.boxplot(df[col_name], vert=False)\n",
    "    plt.xlabel(col_name)\n",
    "    plt.title(f'Box Plot of {col_name}')\n",
    "    plt.show()"
   ]
  },
  {
   "cell_type": "code",
   "execution_count": 138,
   "id": "7515da51",
   "metadata": {},
   "outputs": [],
   "source": [
    "def value_counts_ratio(df, col_name, target_name='target'):\n",
    "    \"\"\"\n",
    "    주어진 데이터프레임의 특정 열에 대해 각 값마다 타겟 변수의 비율과 갯수, 총 갯수를 출력하는 함수.\n",
    "\n",
    "    Parameters:\n",
    "    df (pd.DataFrame): 데이터프레임\n",
    "    col_name (str): 열 이름\n",
    "    target_name (str): 타겟 변수 이름\n",
    "    \"\"\"\n",
    "    # 각 값마다 타겟 변수의 비율 계산\n",
    "    value_counts = df.groupby(col_name)[target_name].value_counts(normalize=True).unstack().fillna(0)\n",
    "    \n",
    "    # 각 값마다 타겟 변수의 갯수 계산\n",
    "    counts = df.groupby(col_name)[target_name].value_counts().unstack().fillna(0)\n",
    "    \n",
    "    # 각 값마다 총 갯수 계산\n",
    "    total_counts = df[col_name].value_counts().rename('Total_Count')\n",
    "    \n",
    "    # 비율과 갯수를 합침\n",
    "    result = value_counts.join(counts, lsuffix='_ratio', rsuffix='_count')\n",
    "    \n",
    "    # 총 갯수를 합침\n",
    "    result = result.join(total_counts, on=col_name)\n",
    "    \n",
    "    # 출력 형식 조정\n",
    "    result.index.name = 'variable'\n",
    "    print(f\"\\n{col_name}별 {target_name} 비율 및 갯수\\n\")\n",
    "    print(result.rename(columns=lambda x: x.split('_')[0]))"
   ]
  },
  {
   "cell_type": "code",
   "execution_count": 139,
   "id": "9eed238d",
   "metadata": {},
   "outputs": [],
   "source": [
    "def summarize_group(df, group_by_columns):\n",
    "    # 데이터프레임을 그룹화\n",
    "    grouped_df = df.groupby(group_by_columns)\n",
    "    \n",
    "    # 결과를 저장할 리스트 초기화\n",
    "    results = []\n",
    "    \n",
    "    # 그룹화된 데이터프레임의 내용을 확인하는 코드\n",
    "    for name, group in grouped_df:\n",
    "        # 그룹의 갯수 계산\n",
    "        group_count = group.shape[0]\n",
    "        \n",
    "        # 'target' 변수의 'AdNormal' 비율과 갯수 계산\n",
    "        adnormal_count = group['target'].value_counts().get('AbNormal', 0)\n",
    "        adnormal_ratio = adnormal_count / group_count\n",
    "        \n",
    "        # 결과 리스트에 추가\n",
    "        results.append([name, adnormal_count, adnormal_ratio, group_count])\n",
    "    \n",
    "    # 결과 리스트를 데이터프레임으로 변환\n",
    "    results_df = pd.DataFrame(results, columns=['group', \"'AdNormal' count\", 'ratio', 'Total'])\n",
    "    \n",
    "    # 그룹화된 변수들의 이름을 제목행으로 출력\n",
    "    print(f\"Grouped by: {', '.join(group_by_columns)}\")\n",
    "    print()\n",
    "    # 데이터프레임 출력\n",
    "    print(results_df)\n",
    "\n",
    "# 예시코드\n",
    "# summarize_grouped_data(train_data, ['1st Pressure Collect Result_AutoClave', '1st Pressure Unit Time_AutoClave'])"
   ]
  },
  {
   "cell_type": "code",
   "execution_count": 140,
   "id": "f4bfbd22",
   "metadata": {},
   "outputs": [],
   "source": [
    "def plot_ratio(df, group_by_column, target_column='target', abnormal_value='AbNormal'):\n",
    "    # 데이터프레임을 그룹화\n",
    "    grouped_df = df.groupby(group_by_column)\n",
    "    \n",
    "    # 결과를 저장할 리스트 초기화\n",
    "    results = []\n",
    "    \n",
    "    # 그룹화된 데이터프레임의 내용을 확인하는 코드\n",
    "    for name, group in grouped_df:\n",
    "        # 그룹의 갯수 계산\n",
    "        group_count = group.shape[0]\n",
    "        \n",
    "        # 'target' 변수의 'AbNormal' 비율과 갯수 계산\n",
    "        abnormal_count = group[target_column].value_counts().get(abnormal_value, 0)\n",
    "        abnormal_ratio = abnormal_count / group_count\n",
    "        \n",
    "        # 결과 리스트에 추가\n",
    "        results.append([name, abnormal_count, abnormal_ratio, group_count])\n",
    "    \n",
    "    # 결과 리스트를 데이터프레임으로 변환\n",
    "    results_df = pd.DataFrame(results, columns=['group', f\"'{abnormal_value}' count\", 'ratio', 'Total'])\n",
    "    \n",
    "    # 그래프 크기 설정\n",
    "    plt.figure(figsize=(10, 5))\n",
    "    \n",
    "    # 막대 그래프 생성\n",
    "    ax = results_df.plot(kind='bar', x='group', y='ratio', legend=False)\n",
    "    \n",
    "    # 각 막대 위에 AbNormal 갯수와 총 갯수 표시\n",
    "    for i, (abnormal_count, total) in enumerate(zip(results_df[f\"'{abnormal_value}' count\"], results_df['Total'])):\n",
    "        ax.text(i, results_df['ratio'][i], f'{abnormal_count} ({total})', ha='center', va='bottom', fontsize=8)\n",
    "    \n",
    "     # 그래프 제목 및 축 레이블 설정\n",
    "    ax.set_title(f'{abnormal_value} Ratio by {group_by_column}')\n",
    "    ax.set_xlabel(group_by_column)\n",
    "    ax.set_ylabel(f'{abnormal_value} Ratio')\n",
    "   \n",
    "    # 그래프 출력\n",
    "    plt.show()"
   ]
  },
  {
   "cell_type": "code",
   "execution_count": 141,
   "id": "aad45361",
   "metadata": {},
   "outputs": [],
   "source": [
    "import matplotlib.pyplot as plt\n",
    "import seaborn as sns\n",
    "\n",
    "def plot_ratio_boxplot(data, time_ratio_column, target_column='target'):\n",
    "    # 그래프 스타일 설정\n",
    "    sns.set(style=\"whitegrid\")\n",
    "\n",
    "    # 그래프 그리기\n",
    "    plt.figure(figsize=(10, 6))\n",
    "    sns.boxplot(x=time_ratio_column, y=target_column, data=data)\n",
    "\n",
    "    # 그래프 제목 및 레이블 설정\n",
    "    plt.title(f'{time_ratio_column} vs {target_column}')\n",
    "    plt.xlabel(time_ratio_column)\n",
    "    plt.ylabel(target_column)\n",
    "\n",
    "    # 그래프 출력\n",
    "    plt.show()\n",
    "\n",
    "# 함수 호출 예제\n",
    "#plot_time_ratio_vs_target(train_data, 'time_ratio_Dam')"
   ]
  },
  {
   "cell_type": "markdown",
   "id": "08a8a90c",
   "metadata": {},
   "source": [
    "---"
   ]
  },
  {
   "cell_type": "code",
   "execution_count": 142,
   "id": "0e84bd23",
   "metadata": {},
   "outputs": [
    {
     "data": {
      "text/plain": [
       "['Model.Suffix',\n",
       " 'Workorder',\n",
       " 'CURE END POSITION X Collect Result_Dam',\n",
       " 'CURE END POSITION Z Collect Result_Dam',\n",
       " 'CURE END POSITION Θ Collect Result_Dam',\n",
       " 'CURE SPEED Collect Result_Dam',\n",
       " 'CURE START POSITION X Collect Result_Dam',\n",
       " 'CURE START POSITION Θ Collect Result_Dam',\n",
       " 'DISCHARGED SPEED OF RESIN Collect Result_Dam',\n",
       " 'DISCHARGED TIME OF RESIN(Stage1) Collect Result_Dam',\n",
       " 'DISCHARGED TIME OF RESIN(Stage2) Collect Result_Dam',\n",
       " 'DISCHARGED TIME OF RESIN(Stage3) Collect Result_Dam',\n",
       " 'Dispense Volume(Stage1) Collect Result_Dam',\n",
       " 'Dispense Volume(Stage2) Collect Result_Dam',\n",
       " 'Dispense Volume(Stage3) Collect Result_Dam',\n",
       " 'HEAD NORMAL COORDINATE X AXIS(Stage1) Collect Result_Dam',\n",
       " 'HEAD NORMAL COORDINATE X AXIS(Stage2) Collect Result_Dam',\n",
       " 'HEAD NORMAL COORDINATE X AXIS(Stage3) Collect Result_Dam',\n",
       " 'HEAD NORMAL COORDINATE Y AXIS(Stage1) Collect Result_Dam',\n",
       " 'HEAD NORMAL COORDINATE Y AXIS(Stage2) Collect Result_Dam',\n",
       " 'HEAD NORMAL COORDINATE Y AXIS(Stage3) Collect Result_Dam',\n",
       " 'HEAD NORMAL COORDINATE Z AXIS(Stage1) Collect Result_Dam',\n",
       " 'HEAD NORMAL COORDINATE Z AXIS(Stage2) Collect Result_Dam',\n",
       " 'HEAD NORMAL COORDINATE Z AXIS(Stage3) Collect Result_Dam',\n",
       " 'Head Clean Position Z Collect Result_Dam',\n",
       " 'Head Purge Position Z Collect Result_Dam',\n",
       " 'Head Zero Position Y Collect Result_Dam',\n",
       " 'Head Zero Position Z Collect Result_Dam',\n",
       " 'Machine Tact time Collect Result_Dam',\n",
       " 'Stage1 Circle1 Distance Speed Collect Result_Dam',\n",
       " 'Stage1 Circle2 Distance Speed Collect Result_Dam',\n",
       " 'Stage1 Circle3 Distance Speed Collect Result_Dam',\n",
       " 'Stage1 Circle4 Distance Speed Collect Result_Dam',\n",
       " 'Stage1 Line1 Distance Speed Collect Result_Dam',\n",
       " 'Stage1 Line2 Distance Speed Collect Result_Dam',\n",
       " 'Stage1 Line3 Distance Speed Collect Result_Dam',\n",
       " 'Stage1 Line4 Distance Speed Collect Result_Dam',\n",
       " 'Stage2 Circle1 Distance Speed Collect Result_Dam',\n",
       " 'Stage2 Circle2 Distance Speed Collect Result_Dam',\n",
       " 'Stage2 Circle3 Distance Speed Collect Result_Dam',\n",
       " 'Stage2 Circle4 Distance Speed Collect Result_Dam',\n",
       " 'Stage2 Line1 Distance Speed Collect Result_Dam',\n",
       " 'Stage2 Line2 Distance Speed Collect Result_Dam',\n",
       " 'Stage2 Line3 Distance Speed Collect Result_Dam',\n",
       " 'Stage2 Line4 Distance Speed Collect Result_Dam',\n",
       " 'Stage3 Circle1 Distance Speed Collect Result_Dam',\n",
       " 'Stage3 Circle2 Distance Speed Collect Result_Dam',\n",
       " 'Stage3 Circle3 Distance Speed Collect Result_Dam',\n",
       " 'Stage3 Circle4 Distance Speed Collect Result_Dam',\n",
       " 'Stage3 Line1 Distance Speed Collect Result_Dam',\n",
       " 'Stage3 Line2 Distance Speed Collect Result_Dam',\n",
       " 'Stage3 Line3 Distance Speed Collect Result_Dam',\n",
       " 'Stage3 Line4 Distance Speed Collect Result_Dam',\n",
       " 'THICKNESS 1 Collect Result_Dam',\n",
       " 'THICKNESS 2 Collect Result_Dam',\n",
       " 'THICKNESS 3 Collect Result_Dam',\n",
       " 'WorkMode Collect Result',\n",
       " '1st Pressure Collect Result_AutoClave',\n",
       " '1st Pressure Unit Time_AutoClave',\n",
       " '2nd Pressure Collect Result_AutoClave',\n",
       " '2nd Pressure Unit Time_AutoClave',\n",
       " '3rd Pressure Collect Result_AutoClave',\n",
       " '3rd Pressure Unit Time_AutoClave',\n",
       " 'Chamber Temp. Collect Result_AutoClave',\n",
       " 'Chamber Temp. Unit Time_AutoClave',\n",
       " 'DISCHARGED SPEED OF RESIN Collect Result_Fill1',\n",
       " 'DISCHARGED TIME OF RESIN(Stage1) Collect Result_Fill1',\n",
       " 'DISCHARGED TIME OF RESIN(Stage2) Collect Result_Fill1',\n",
       " 'DISCHARGED TIME OF RESIN(Stage3) Collect Result_Fill1',\n",
       " 'Dispense Volume(Stage1) Collect Result_Fill1',\n",
       " 'Dispense Volume(Stage2) Collect Result_Fill1',\n",
       " 'Dispense Volume(Stage3) Collect Result_Fill1',\n",
       " 'HEAD NORMAL COORDINATE X AXIS(Stage1) Collect Result_Fill1',\n",
       " 'HEAD NORMAL COORDINATE X AXIS(Stage2) Collect Result_Fill1',\n",
       " 'HEAD NORMAL COORDINATE X AXIS(Stage3) Collect Result_Fill1',\n",
       " 'HEAD NORMAL COORDINATE Y AXIS(Stage1) Collect Result_Fill1',\n",
       " 'HEAD NORMAL COORDINATE Y AXIS(Stage2) Collect Result_Fill1',\n",
       " 'HEAD NORMAL COORDINATE Y AXIS(Stage3) Collect Result_Fill1',\n",
       " 'HEAD NORMAL COORDINATE Z AXIS(Stage1) Collect Result_Fill1',\n",
       " 'HEAD NORMAL COORDINATE Z AXIS(Stage2) Collect Result_Fill1',\n",
       " 'HEAD NORMAL COORDINATE Z AXIS(Stage3) Collect Result_Fill1',\n",
       " 'Head Purge Position Z Collect Result_Fill1',\n",
       " 'Machine Tact time Collect Result_Fill1',\n",
       " 'CURE END POSITION X Collect Result_Fill2',\n",
       " 'CURE END POSITION Z Collect Result_Fill2',\n",
       " 'CURE SPEED Collect Result_Fill2',\n",
       " 'CURE STANDBY POSITION Z Collect Result_Fill2',\n",
       " 'CURE START POSITION X Collect Result_Fill2',\n",
       " 'CURE START POSITION Z Collect Result_Fill2',\n",
       " 'HEAD NORMAL COORDINATE X AXIS(Stage1) Collect Result_Fill2',\n",
       " 'HEAD NORMAL COORDINATE X AXIS(Stage2) Collect Result_Fill2',\n",
       " 'HEAD NORMAL COORDINATE X AXIS(Stage3) Collect Result_Fill2',\n",
       " 'HEAD NORMAL COORDINATE Y AXIS(Stage1) Collect Result_Fill2',\n",
       " 'HEAD NORMAL COORDINATE Y AXIS(Stage2) Collect Result_Fill2',\n",
       " 'HEAD NORMAL COORDINATE Y AXIS(Stage3) Collect Result_Fill2',\n",
       " 'HEAD NORMAL COORDINATE Z AXIS(Stage1) Collect Result_Fill2',\n",
       " 'HEAD NORMAL COORDINATE Z AXIS(Stage2) Collect Result_Fill2',\n",
       " 'HEAD NORMAL COORDINATE Z AXIS(Stage3) Collect Result_Fill2',\n",
       " 'Head Purge Position Z Collect Result_Fill2',\n",
       " 'Machine Tact time Collect Result_Fill2',\n",
       " 'target',\n",
       " 'Dispenser_1',\n",
       " 'Dispenser_2',\n",
       " 'Receip_No_Collect_Result',\n",
       " 'PalletID_Collect_Result',\n",
       " 'Production_Qty_Collect_Result',\n",
       " 'Chamber_Temp_OKNG_AutoClave',\n",
       " 'Judge_Value_OK']"
      ]
     },
     "execution_count": 142,
     "metadata": {},
     "output_type": "execute_result"
    }
   ],
   "source": [
    "train_data.columns.to_list()"
   ]
  },
  {
   "cell_type": "markdown",
   "id": "e2a9465e",
   "metadata": {},
   "source": [
    "### 1. CURE"
   ]
  },
  {
   "cell_type": "code",
   "execution_count": 143,
   "id": "45bdcc9d",
   "metadata": {},
   "outputs": [
    {
     "name": "stdout",
     "output_type": "stream",
     "text": [
      "\n",
      " CURE 포함 변수>\n",
      "CURE END POSITION X Collect Result_Dam\n",
      "CURE END POSITION Z Collect Result_Dam\n",
      "CURE END POSITION Θ Collect Result_Dam\n",
      "CURE SPEED Collect Result_Dam\n",
      "CURE START POSITION X Collect Result_Dam\n",
      "CURE START POSITION Θ Collect Result_Dam\n",
      "CURE END POSITION X Collect Result_Fill2\n",
      "CURE END POSITION Z Collect Result_Fill2\n",
      "CURE SPEED Collect Result_Fill2\n",
      "CURE STANDBY POSITION Z Collect Result_Fill2\n",
      "CURE START POSITION X Collect Result_Fill2\n",
      "CURE START POSITION Z Collect Result_Fill2\n"
     ]
    }
   ],
   "source": [
    "# 'CURE'와 '_Dam'를 포함하는 열 이름 필터링\n",
    "Process_Desc_col = train_data.filter(like='CURE').columns\n",
    "\n",
    "print(\"\\n CURE 포함 변수>\")\n",
    "for col in Process_Desc_col:\n",
    "    print(col)"
   ]
  },
  {
   "cell_type": "code",
   "execution_count": 144,
   "id": "33dc2f53",
   "metadata": {},
   "outputs": [
    {
     "name": "stdout",
     "output_type": "stream",
     "text": [
      "Grouped by: Dispenser_1, Dispenser_2, CURE END POSITION Θ Collect Result_Dam, CURE START POSITION Θ Collect Result_Dam\n",
      "\n",
      "              group  'AdNormal' count     ratio  Total\n",
      "0  (0, 0, -90, -90)                19  1.000000     19\n",
      "1    (0, 0, 90, 90)                15  1.000000     15\n",
      "2    (0, 1, 90, 90)               850  0.054977  15461\n",
      "3  (1, 0, -90, -90)              1466  0.058614  25011\n"
     ]
    }
   ],
   "source": [
    "summarize_group(train_data, [\n",
    "'Dispenser_1'\n",
    ", 'Dispenser_2'\n",
    "# 'CURE END POSITION X Collect Result_Dam'\n",
    ", 'CURE END POSITION Θ Collect Result_Dam'\n",
    "# , 'CURE SPEED Collect Result_Dam'\n",
    "# , 'CURE START POSITION X Collect Result_Dam'\n",
    ", 'CURE START POSITION Θ Collect Result_Dam'\n",
    "# , 'CURE END POSITION X Collect Result_Fill2'\n",
    "# , 'CURE END POSITION Z Collect Result_Fill2'\n",
    "# , 'CURE SPEED Collect Result_Fill2'\n",
    "# , 'CURE STANDBY POSITION Z Collect Result_Fill2'\n",
    "# , 'CURE START POSITION X Collect Result_Fill2'\n",
    "# , 'CURE START POSITION Z Collect Result_Fill2'\n",
    "])"
   ]
  },
  {
   "cell_type": "markdown",
   "id": "23aff796",
   "metadata": {},
   "source": [
    "dispenser 종류에 따라 POSITION Θ 값이 따라감  \n",
    "-> drop"
   ]
  },
  {
   "cell_type": "code",
   "execution_count": 145,
   "id": "a2bcdc66",
   "metadata": {},
   "outputs": [],
   "source": [
    "# 제거할 변수 목록\n",
    "columns_to_drop = [\n",
    "    'CURE END POSITION Θ Collect Result_Dam'\n",
    "    , 'CURE START POSITION Θ Collect Result_Dam'\n",
    "]\n",
    "\n",
    "# 변수 제거\n",
    "train_data.drop(columns=columns_to_drop, inplace=True)\n",
    "test_data.drop(columns=columns_to_drop, inplace=True)"
   ]
  },
  {
   "cell_type": "code",
   "execution_count": 146,
   "id": "1b7aff20",
   "metadata": {},
   "outputs": [
    {
     "name": "stdout",
     "output_type": "stream",
     "text": [
      "\n",
      " CURE 포함 변수>\n",
      "CURE END POSITION X Collect Result_Dam\n",
      "CURE END POSITION Z Collect Result_Dam\n",
      "CURE SPEED Collect Result_Dam\n",
      "CURE START POSITION X Collect Result_Dam\n",
      "CURE END POSITION X Collect Result_Fill2\n",
      "CURE END POSITION Z Collect Result_Fill2\n",
      "CURE SPEED Collect Result_Fill2\n",
      "CURE STANDBY POSITION Z Collect Result_Fill2\n",
      "CURE START POSITION X Collect Result_Fill2\n",
      "CURE START POSITION Z Collect Result_Fill2\n"
     ]
    }
   ],
   "source": [
    "# 'CURE'를 포함하는 열 이름 필터링\n",
    "Process_Desc_col = train_data.filter(like='CURE').columns\n",
    "\n",
    "print(\"\\n CURE 포함 변수>\")\n",
    "for col in Process_Desc_col:\n",
    "    print(col)"
   ]
  },
  {
   "cell_type": "code",
   "execution_count": 147,
   "id": "61cf9dad",
   "metadata": {},
   "outputs": [
    {
     "name": "stdout",
     "output_type": "stream",
     "text": [
      "Grouped by: Dispenser_1, Dispenser_2, CURE END POSITION X Collect Result_Dam, CURE END POSITION Z Collect Result_Dam, CURE START POSITION X Collect Result_Dam\n",
      "\n",
      "                     group  'AdNormal' count     ratio  Total\n",
      "0   (0, 0, 240, 2.5, 1030)                19  1.000000     19\n",
      "1  (0, 0, 1000, 12.5, 280)                15  1.000000     15\n",
      "2  (0, 1, 1000, 12.5, 280)               850  0.054977  15461\n",
      "3   (1, 0, 240, 2.5, 1030)              1466  0.058614  25011\n"
     ]
    }
   ],
   "source": [
    "summarize_group(train_data, [\n",
    "'Dispenser_1'\n",
    ", 'Dispenser_2'\n",
    ", 'CURE END POSITION X Collect Result_Dam'\n",
    ", 'CURE END POSITION Z Collect Result_Dam'\n",
    "# , 'CURE SPEED Collect Result_Dam'\n",
    ", 'CURE START POSITION X Collect Result_Dam'\n",
    "# , 'CURE END POSITION X Collect Result_Fill2'\n",
    "# , 'CURE END POSITION Z Collect Result_Fill2'\n",
    "# , 'CURE SPEED Collect Result_Fill2'\n",
    "# , 'CURE STANDBY POSITION Z Collect Result_Fill2'\n",
    "# , 'CURE START POSITION X Collect Result_Fill2'\n",
    "# , 'CURE START POSITION Z Collect Result_Fill2'\n",
    "])"
   ]
  },
  {
   "cell_type": "markdown",
   "id": "48d641dc",
   "metadata": {},
   "source": [
    "좌표값을 통해 좌표간의 거리를 계산"
   ]
  },
  {
   "cell_type": "code",
   "execution_count": 148,
   "id": "96d3ba02",
   "metadata": {},
   "outputs": [],
   "source": [
    "# 시작 위치와 끝 위치 열 이름\n",
    "start_x_col = 'CURE START POSITION X Collect Result_Dam'\n",
    "start_z_col = 33.5\n",
    "end_x_col = 'CURE END POSITION X Collect Result_Dam'\n",
    "end_z_col = 'CURE END POSITION Z Collect Result_Dam'\n",
    "\n",
    "# 시작 위치와 끝 위치 사이의 거리 계산\n",
    "train_data['CURE_DISTANCE_Dam'] = np.sqrt(\n",
    "    (train_data[end_x_col] - train_data[start_x_col]) ** 2 +\n",
    "    (train_data[end_z_col] - start_z_col) ** 2\n",
    ")\n",
    "\n",
    "test_data['CURE_DISTANCE_Dam'] = np.sqrt(\n",
    "    (train_data[end_x_col] - train_data[start_x_col]) ** 2 +\n",
    "    (train_data[end_z_col] - start_z_col) ** 2\n",
    ")"
   ]
  },
  {
   "cell_type": "code",
   "execution_count": 149,
   "id": "a5fa846c",
   "metadata": {},
   "outputs": [],
   "source": [
    "# 시작 위치와 끝 위치 열 이름\n",
    "start_x_col = 'CURE START POSITION X Collect Result_Fill2'\n",
    "start_z_col = 'CURE START POSITION Z Collect Result_Fill2'\n",
    "end_x_col = 'CURE END POSITION X Collect Result_Fill2'\n",
    "end_z_col = 'CURE END POSITION Z Collect Result_Fill2'\n",
    "\n",
    "# 시작 위치와 끝 위치 사이의 거리 계산\n",
    "train_data['CURE_DISTANCE_Fill2'] = np.sqrt(\n",
    "    (train_data[end_x_col] - train_data[start_x_col]) ** 2 +\n",
    "    (train_data[end_z_col] - train_data[start_z_col]) ** 2\n",
    ")\n",
    "\n",
    "test_data['CURE_DISTANCE_Fill2'] = np.sqrt(\n",
    "    (train_data[end_x_col] - train_data[start_x_col]) ** 2 +\n",
    "    (train_data[end_z_col] - train_data[start_z_col]) ** 2\n",
    ")"
   ]
  },
  {
   "cell_type": "code",
   "execution_count": 150,
   "id": "fbe2fc87",
   "metadata": {},
   "outputs": [],
   "source": [
    "# 제거할 변수 목록\n",
    "columns_to_drop = [\n",
    "    'CURE START POSITION X Collect Result_Dam'\n",
    "    , 'CURE END POSITION X Collect Result_Dam'\n",
    "    , 'CURE END POSITION Z Collect Result_Dam'\n",
    "\n",
    "    , 'CURE START POSITION X Collect Result_Fill2'\n",
    "    , 'CURE START POSITION Z Collect Result_Fill2'\n",
    "    , 'CURE END POSITION X Collect Result_Fill2'\n",
    "    , 'CURE END POSITION Z Collect Result_Fill2'\n",
    "]\n",
    "\n",
    "# 변수 제거\n",
    "train_data.drop(columns=columns_to_drop, inplace=True)\n",
    "test_data.drop(columns=columns_to_drop, inplace=True)"
   ]
  },
  {
   "cell_type": "code",
   "execution_count": 151,
   "id": "2b9efd1a",
   "metadata": {},
   "outputs": [
    {
     "name": "stdout",
     "output_type": "stream",
     "text": [
      "\n",
      " CURE 포함 변수>\n",
      "CURE SPEED Collect Result_Dam\n",
      "CURE SPEED Collect Result_Fill2\n",
      "CURE STANDBY POSITION Z Collect Result_Fill2\n",
      "CURE_DISTANCE_Dam\n",
      "CURE_DISTANCE_Fill2\n"
     ]
    }
   ],
   "source": [
    "# 'CURE'를 포함하는 열 이름 필터링\n",
    "Process_Desc_col = train_data.filter(like='CURE').columns\n",
    "\n",
    "print(\"\\n CURE 포함 변수>\")\n",
    "for col in Process_Desc_col:\n",
    "    print(col)"
   ]
  },
  {
   "cell_type": "code",
   "execution_count": 152,
   "id": "46e713c2",
   "metadata": {},
   "outputs": [
    {
     "name": "stdout",
     "output_type": "stream",
     "text": [
      "Grouped by: CURE STANDBY POSITION Z Collect Result_Fill2\n",
      "\n",
      "   group  'AdNormal' count     ratio  Total\n",
      "0     22                34  0.072495    469\n",
      "1     23                22  0.107843    204\n",
      "2     32               421  0.085866   4903\n",
      "3     33              1873  0.053622  34930\n"
     ]
    }
   ],
   "source": [
    "summarize_group(train_data, [\n",
    "# 'Dispenser_1'\n",
    "# , 'Dispenser_2'\n",
    "# , 'CURE SPEED Collect Result_Dam'\n",
    "# , 'CURE SPEED Collect Result_Fill2'\n",
    " 'CURE STANDBY POSITION Z Collect Result_Fill2'\n",
    "# , 'CURE_DISTANCE_Dam'\n",
    "# , 'CURE_DISTANCE_Fill2'\n",
    "])"
   ]
  },
  {
   "cell_type": "markdown",
   "id": "cc2b3d80",
   "metadata": {},
   "source": [
    "'CURE STANDBY POSITION Z Collect Result_Fill2' 변수의 유의미함을 찾을수 x  \n",
    "다른 변수와 연결된만한것도 찾지 못함 -> drop"
   ]
  },
  {
   "cell_type": "code",
   "execution_count": 153,
   "id": "dc313406",
   "metadata": {},
   "outputs": [],
   "source": [
    "# 제거할 변수 목록\n",
    "columns_to_drop = ['CURE STANDBY POSITION Z Collect Result_Fill2']\n",
    "\n",
    "# 변수 제거\n",
    "train_data.drop(columns=columns_to_drop, inplace=True)\n",
    "test_data.drop(columns=columns_to_drop, inplace=True)"
   ]
  },
  {
   "cell_type": "code",
   "execution_count": 154,
   "id": "50fe7e4f",
   "metadata": {},
   "outputs": [
    {
     "name": "stdout",
     "output_type": "stream",
     "text": [
      "\n",
      " CURE 포함 변수>\n",
      "CURE SPEED Collect Result_Dam\n",
      "CURE SPEED Collect Result_Fill2\n",
      "CURE_DISTANCE_Dam\n",
      "CURE_DISTANCE_Fill2\n"
     ]
    }
   ],
   "source": [
    "# 'CURE'를 포함하는 열 이름 필터링\n",
    "Process_Desc_col = train_data.filter(like='CURE').columns\n",
    "\n",
    "print(\"\\n CURE 포함 변수>\")\n",
    "for col in Process_Desc_col:\n",
    "    print(col)"
   ]
  },
  {
   "cell_type": "code",
   "execution_count": 155,
   "id": "18af7bfb",
   "metadata": {},
   "outputs": [
    {
     "name": "stdout",
     "output_type": "stream",
     "text": [
      "Grouped by: Dispenser_1, Dispenser_2, CURE_DISTANCE_Dam, CURE_DISTANCE_Fill2\n",
      "\n",
      "                                          group  'AdNormal' count     ratio  \\\n",
      "0              (0, 0, 720.3061848963953, 780.0)                15  1.000000   \n",
      "1               (0, 0, 790.607993888248, 780.0)                19  1.000000   \n",
      "2              (0, 1, 720.3061848963953, 780.0)               827  0.054645   \n",
      "3  (0, 1, 720.3061848963953, 780.0006410253776)                23  0.070552   \n",
      "4  (0, 1, 720.3061848963953, 780.0775602464155)                 0  0.000000   \n",
      "5               (1, 0, 790.607993888248, 780.0)              1129  0.054418   \n",
      "6   (1, 0, 790.607993888248, 780.0006410253776)               286  0.077591   \n",
      "7   (1, 0, 790.607993888248, 780.0640999302557)                51  0.088235   \n",
      "\n",
      "   Total  \n",
      "0     15  \n",
      "1     19  \n",
      "2  15134  \n",
      "3    326  \n",
      "4      1  \n",
      "5  20747  \n",
      "6   3686  \n",
      "7    578  \n"
     ]
    }
   ],
   "source": [
    "summarize_group(train_data, [\n",
    "'Dispenser_1'\n",
    ", 'Dispenser_2'\n",
    "# , 'CURE SPEED Collect Result_Dam'\n",
    "# , 'CURE SPEED Collect Result_Fill2'\n",
    ", 'CURE_DISTANCE_Dam'\n",
    ", 'CURE_DISTANCE_Fill2'\n",
    "])"
   ]
  },
  {
   "cell_type": "markdown",
   "id": "340dbf40",
   "metadata": {},
   "source": [
    "거리의 차이에 따라 ratio 값 변화 크지 x"
   ]
  },
  {
   "cell_type": "code",
   "execution_count": 156,
   "id": "c26ff29b",
   "metadata": {},
   "outputs": [],
   "source": [
    "# 거리 / 속도 -> 시간 파생 변수 생성\n",
    "train_data['CURE_Time_Dam']  = train_data['CURE_DISTANCE_Dam'] / train_data['CURE SPEED Collect Result_Dam']\n",
    "test_data['CURE_Time_Dam']  = test_data['CURE_DISTANCE_Dam'] / test_data['CURE SPEED Collect Result_Dam']\n",
    "\n",
    "train_data['CURE_Time_Fill2']  = train_data['CURE_DISTANCE_Fill2'] / train_data['CURE SPEED Collect Result_Fill2']\n",
    "test_data['CURE_Time_Fill2']  = test_data['CURE_DISTANCE_Fill2'] / test_data['CURE SPEED Collect Result_Fill2']"
   ]
  },
  {
   "cell_type": "code",
   "execution_count": 157,
   "id": "48b4c8c0",
   "metadata": {},
   "outputs": [
    {
     "name": "stdout",
     "output_type": "stream",
     "text": [
      "\n",
      " CURE 포함 변수>\n",
      "CURE SPEED Collect Result_Dam\n",
      "CURE SPEED Collect Result_Fill2\n",
      "CURE_DISTANCE_Dam\n",
      "CURE_DISTANCE_Fill2\n",
      "CURE_Time_Dam\n",
      "CURE_Time_Fill2\n"
     ]
    }
   ],
   "source": [
    "# 'CURE'를 포함하는 열 이름 필터링\n",
    "Process_Desc_col = train_data.filter(like='CURE').columns\n",
    "\n",
    "print(\"\\n CURE 포함 변수>\")\n",
    "for col in Process_Desc_col:\n",
    "    print(col)"
   ]
  },
  {
   "cell_type": "code",
   "execution_count": 158,
   "id": "4195b534",
   "metadata": {},
   "outputs": [],
   "source": [
    "# 제거할 변수 목록\n",
    "columns_to_drop = [\n",
    "    'CURE_DISTANCE_Dam'\n",
    "    , 'CURE SPEED Collect Result_Dam'\n",
    "    , 'CURE_DISTANCE_Fill2'\n",
    "    , 'CURE SPEED Collect Result_Fill2'\n",
    "]\n",
    "\n",
    "# 변수 제거\n",
    "train_data.drop(columns=columns_to_drop, inplace=True)\n",
    "test_data.drop(columns=columns_to_drop, inplace=True)"
   ]
  },
  {
   "cell_type": "code",
   "execution_count": 159,
   "id": "2d0840f4",
   "metadata": {},
   "outputs": [
    {
     "name": "stdout",
     "output_type": "stream",
     "text": [
      "\n",
      " CURE 포함 변수>\n",
      "CURE_Time_Dam\n",
      "CURE_Time_Fill2\n"
     ]
    }
   ],
   "source": [
    "# 'CURE'를 포함하는 열 이름 필터링\n",
    "Process_Desc_col = train_data.filter(like='CURE').columns\n",
    "\n",
    "print(\"\\n CURE 포함 변수>\")\n",
    "for col in Process_Desc_col:\n",
    "    print(col)"
   ]
  },
  {
   "cell_type": "markdown",
   "id": "8caac149",
   "metadata": {},
   "source": [
    "### 2. HEAD NORMAL COORDINATE"
   ]
  },
  {
   "cell_type": "code",
   "execution_count": 160,
   "id": "39a38fc8",
   "metadata": {},
   "outputs": [
    {
     "name": "stdout",
     "output_type": "stream",
     "text": [
      "\n",
      " HEAD NORMAL COORDINATE 포함 변수>\n",
      "HEAD NORMAL COORDINATE X AXIS(Stage1) Collect Result_Dam\n",
      "HEAD NORMAL COORDINATE X AXIS(Stage2) Collect Result_Dam\n",
      "HEAD NORMAL COORDINATE X AXIS(Stage3) Collect Result_Dam\n",
      "HEAD NORMAL COORDINATE Y AXIS(Stage1) Collect Result_Dam\n",
      "HEAD NORMAL COORDINATE Y AXIS(Stage2) Collect Result_Dam\n",
      "HEAD NORMAL COORDINATE Y AXIS(Stage3) Collect Result_Dam\n",
      "HEAD NORMAL COORDINATE Z AXIS(Stage1) Collect Result_Dam\n",
      "HEAD NORMAL COORDINATE Z AXIS(Stage2) Collect Result_Dam\n",
      "HEAD NORMAL COORDINATE Z AXIS(Stage3) Collect Result_Dam\n",
      "HEAD NORMAL COORDINATE X AXIS(Stage1) Collect Result_Fill1\n",
      "HEAD NORMAL COORDINATE X AXIS(Stage2) Collect Result_Fill1\n",
      "HEAD NORMAL COORDINATE X AXIS(Stage3) Collect Result_Fill1\n",
      "HEAD NORMAL COORDINATE Y AXIS(Stage1) Collect Result_Fill1\n",
      "HEAD NORMAL COORDINATE Y AXIS(Stage2) Collect Result_Fill1\n",
      "HEAD NORMAL COORDINATE Y AXIS(Stage3) Collect Result_Fill1\n",
      "HEAD NORMAL COORDINATE Z AXIS(Stage1) Collect Result_Fill1\n",
      "HEAD NORMAL COORDINATE Z AXIS(Stage2) Collect Result_Fill1\n",
      "HEAD NORMAL COORDINATE Z AXIS(Stage3) Collect Result_Fill1\n",
      "HEAD NORMAL COORDINATE X AXIS(Stage1) Collect Result_Fill2\n",
      "HEAD NORMAL COORDINATE X AXIS(Stage2) Collect Result_Fill2\n",
      "HEAD NORMAL COORDINATE X AXIS(Stage3) Collect Result_Fill2\n",
      "HEAD NORMAL COORDINATE Y AXIS(Stage1) Collect Result_Fill2\n",
      "HEAD NORMAL COORDINATE Y AXIS(Stage2) Collect Result_Fill2\n",
      "HEAD NORMAL COORDINATE Y AXIS(Stage3) Collect Result_Fill2\n",
      "HEAD NORMAL COORDINATE Z AXIS(Stage1) Collect Result_Fill2\n",
      "HEAD NORMAL COORDINATE Z AXIS(Stage2) Collect Result_Fill2\n",
      "HEAD NORMAL COORDINATE Z AXIS(Stage3) Collect Result_Fill2\n"
     ]
    }
   ],
   "source": [
    "# 'HEAD NORMAL COORDINATE'를 포함하는 열 이름 필터링\n",
    "Process_Desc_col = train_data.filter(like='HEAD NORMAL COORDINATE').columns\n",
    "\n",
    "print(\"\\n HEAD NORMAL COORDINATE 포함 변수>\")\n",
    "for col in Process_Desc_col:\n",
    "    print(col)"
   ]
  },
  {
   "cell_type": "code",
   "execution_count": 161,
   "id": "acc3e7ed",
   "metadata": {},
   "outputs": [],
   "source": [
    "# 각 스테이지의 좌표 열 정의\n",
    "stage1_cols = ['HEAD NORMAL COORDINATE X AXIS(Stage1) Collect Result_Dam',\n",
    "               'HEAD NORMAL COORDINATE Y AXIS(Stage1) Collect Result_Dam',\n",
    "               'HEAD NORMAL COORDINATE Z AXIS(Stage1) Collect Result_Dam']\n",
    "\n",
    "stage2_cols = ['HEAD NORMAL COORDINATE X AXIS(Stage2) Collect Result_Dam',\n",
    "               'HEAD NORMAL COORDINATE Y AXIS(Stage2) Collect Result_Dam',\n",
    "               'HEAD NORMAL COORDINATE Z AXIS(Stage2) Collect Result_Dam']\n",
    "\n",
    "stage3_cols = ['HEAD NORMAL COORDINATE X AXIS(Stage3) Collect Result_Dam',\n",
    "               'HEAD NORMAL COORDINATE Y AXIS(Stage3) Collect Result_Dam',\n",
    "               'HEAD NORMAL COORDINATE Z AXIS(Stage3) Collect Result_Dam']\n",
    "\n",
    "# 거리 계산 함수\n",
    "def calculate_distances(data):\n",
    "    data['HEAD NORMAL DISTANCE_STAGE1_STAGE2_Dam'] = np.sqrt(\n",
    "        (data[stage2_cols[0]] - data[stage1_cols[0]]) ** 2 +\n",
    "        (data[stage2_cols[1]] - data[stage1_cols[1]]) ** 2 +\n",
    "        (data[stage2_cols[2]] - data[stage1_cols[2]]) ** 2\n",
    "    )\n",
    "\n",
    "    data['HEAD NORMAL DISTANCE_STAGE2_STAGE3_Dam'] = np.sqrt(\n",
    "        (data[stage3_cols[0]] - data[stage2_cols[0]]) ** 2 +\n",
    "        (data[stage3_cols[1]] - data[stage2_cols[1]]) ** 2 +\n",
    "        (data[stage3_cols[2]] - data[stage2_cols[2]]) ** 2\n",
    "    )\n",
    "\n",
    "    data['HEAD NORMAL DISTANCE_STAGE1_STAGE3_Dam'] = np.sqrt(\n",
    "        (data[stage3_cols[0]] - data[stage1_cols[0]]) ** 2 +\n",
    "        (data[stage3_cols[1]] - data[stage1_cols[1]]) ** 2 +\n",
    "        (data[stage3_cols[2]] - data[stage1_cols[2]]) ** 2\n",
    "    )\n",
    "\n",
    "    return data\n",
    "\n",
    "# train_data에 적용\n",
    "train_data = calculate_distances(train_data)\n",
    "\n",
    "# test_data에 적용\n",
    "test_data = calculate_distances(test_data)"
   ]
  },
  {
   "cell_type": "code",
   "execution_count": 162,
   "id": "287f0c97",
   "metadata": {},
   "outputs": [],
   "source": [
    "# 필요한 열 이름\n",
    "stage1_stage2_col = 'HEAD NORMAL DISTANCE_STAGE1_STAGE2_Dam'\n",
    "stage2_stage3_col = 'HEAD NORMAL DISTANCE_STAGE2_STAGE3_Dam'\n",
    "stage1_stage3_col = 'HEAD NORMAL DISTANCE_STAGE1_STAGE3_Dam'\n",
    "\n",
    "# 삼각형의 넓이와 높이를 계산하는 함수\n",
    "def calculate_triangle_features(data):\n",
    "    a = data[stage1_stage2_col]\n",
    "    b = data[stage2_stage3_col]\n",
    "    c = data[stage1_stage3_col]\n",
    "\n",
    "    # 헤론의 공식에 따른 삼각형의 넓이 계산\n",
    "    s = (a + b + c) / 2\n",
    "    area = np.sqrt(s * (s - a) * (s - b) * (s - c))\n",
    "\n",
    "    # 높이 계산 (밑변을 c로 가정)\n",
    "    height = (2 * area) / c\n",
    "\n",
    "    # 결과를 새로운 열에 저장\n",
    "    # data['HEAD NORMAL DISTANCE_TRIANGLE_area_Dam'] = area\n",
    "    data['HEAD NORMAL DISTANCE_TRIANGLE_height_Dam'] = height\n",
    "\n",
    "    return data\n",
    "\n",
    "# train_data에 적용\n",
    "train_data = calculate_triangle_features(train_data)\n",
    "\n",
    "# test_data에 적용\n",
    "test_data = calculate_triangle_features(test_data)"
   ]
  },
  {
   "cell_type": "code",
   "execution_count": 163,
   "id": "efb87f49",
   "metadata": {},
   "outputs": [],
   "source": [
    "# 제거할 변수 목록\n",
    "columns_to_drop = [\n",
    "    'HEAD NORMAL COORDINATE X AXIS(Stage1) Collect Result_Dam'\n",
    "    , 'HEAD NORMAL COORDINATE Y AXIS(Stage1) Collect Result_Dam'\n",
    "    , 'HEAD NORMAL COORDINATE Z AXIS(Stage1) Collect Result_Dam'\n",
    "\n",
    "    , 'HEAD NORMAL COORDINATE X AXIS(Stage2) Collect Result_Dam'\n",
    "    , 'HEAD NORMAL COORDINATE Y AXIS(Stage2) Collect Result_Dam'\n",
    "    , 'HEAD NORMAL COORDINATE Z AXIS(Stage2) Collect Result_Dam'\n",
    "\n",
    "    , 'HEAD NORMAL COORDINATE X AXIS(Stage3) Collect Result_Dam'\n",
    "    , 'HEAD NORMAL COORDINATE Y AXIS(Stage3) Collect Result_Dam'\n",
    "    , 'HEAD NORMAL COORDINATE Z AXIS(Stage3) Collect Result_Dam'\n",
    "]\n",
    "\n",
    "# 변수 제거\n",
    "train_data.drop(columns=columns_to_drop, inplace=True)\n",
    "test_data.drop(columns=columns_to_drop, inplace=True)"
   ]
  },
  {
   "cell_type": "code",
   "execution_count": 164,
   "id": "dd662cf0",
   "metadata": {},
   "outputs": [],
   "source": [
    "# 각 스테이지의 좌표 열 정의\n",
    "stage1_cols = ['HEAD NORMAL COORDINATE X AXIS(Stage1) Collect Result_Fill1',\n",
    "               'HEAD NORMAL COORDINATE Y AXIS(Stage1) Collect Result_Fill1',\n",
    "               'HEAD NORMAL COORDINATE Z AXIS(Stage1) Collect Result_Fill1']\n",
    "\n",
    "stage2_cols = ['HEAD NORMAL COORDINATE X AXIS(Stage2) Collect Result_Fill1',\n",
    "               'HEAD NORMAL COORDINATE Y AXIS(Stage2) Collect Result_Fill1',\n",
    "               'HEAD NORMAL COORDINATE Z AXIS(Stage2) Collect Result_Fill1']\n",
    "\n",
    "stage3_cols = ['HEAD NORMAL COORDINATE X AXIS(Stage3) Collect Result_Fill1',\n",
    "               'HEAD NORMAL COORDINATE Y AXIS(Stage3) Collect Result_Fill1',\n",
    "               'HEAD NORMAL COORDINATE Z AXIS(Stage3) Collect Result_Fill1']\n",
    "\n",
    "# 거리 계산 함수\n",
    "def calculate_distances(data):\n",
    "    data['HEAD NORMAL DISTANCE_STAGE1_STAGE2_Fill1'] = np.sqrt(\n",
    "        (data[stage2_cols[0]] - data[stage1_cols[0]]) ** 2 +\n",
    "        (data[stage2_cols[1]] - data[stage1_cols[1]]) ** 2 +\n",
    "        (data[stage2_cols[2]] - data[stage1_cols[2]]) ** 2\n",
    "    )\n",
    "\n",
    "    data['HEAD NORMAL DISTANCE_STAGE2_STAGE3_Fill1'] = np.sqrt(\n",
    "        (data[stage3_cols[0]] - data[stage2_cols[0]]) ** 2 +\n",
    "        (data[stage3_cols[1]] - data[stage2_cols[1]]) ** 2 +\n",
    "        (data[stage3_cols[2]] - data[stage2_cols[2]]) ** 2\n",
    "    )\n",
    "\n",
    "    data['HEAD NORMAL DISTANCE_STAGE1_STAGE3_Fill1'] = np.sqrt(\n",
    "        (data[stage3_cols[0]] - data[stage1_cols[0]]) ** 2 +\n",
    "        (data[stage3_cols[1]] - data[stage1_cols[1]]) ** 2 +\n",
    "        (data[stage3_cols[2]] - data[stage1_cols[2]]) ** 2\n",
    "    )\n",
    "\n",
    "    return data\n",
    "\n",
    "# train_data에 적용\n",
    "train_data = calculate_distances(train_data)\n",
    "\n",
    "# test_data에 적용\n",
    "test_data = calculate_distances(test_data)"
   ]
  },
  {
   "cell_type": "code",
   "execution_count": 165,
   "id": "f9fb0580",
   "metadata": {},
   "outputs": [],
   "source": [
    "# 필요한 열 이름\n",
    "stage1_stage2_col = 'HEAD NORMAL DISTANCE_STAGE1_STAGE2_Fill1'\n",
    "stage2_stage3_col = 'HEAD NORMAL DISTANCE_STAGE2_STAGE3_Fill1'\n",
    "stage1_stage3_col = 'HEAD NORMAL DISTANCE_STAGE1_STAGE3_Fill1'\n",
    "\n",
    "# 삼각형의 넓이와 높이를 계산하는 함수\n",
    "def calculate_triangle_features(data):\n",
    "    a = data[stage1_stage2_col]\n",
    "    b = data[stage2_stage3_col]\n",
    "    c = data[stage1_stage3_col]\n",
    "\n",
    "    # 헤론의 공식에 따른 삼각형의 넓이 계산\n",
    "    s = (a + b + c) / 2\n",
    "    area = np.sqrt(s * (s - a) * (s - b) * (s - c))\n",
    "\n",
    "    # 높이 계산 (밑변을 c로 가정)\n",
    "    height = (2 * area) / c\n",
    "\n",
    "    # 결과를 새로운 열에 저장\n",
    "    # data['HEAD NORMAL DISTANCE_TRIANGLE_area_Fill1'] = area\n",
    "    data['HEAD NORMAL DISTANCE_TRIANGLE_height_Fill1'] = height\n",
    "\n",
    "    return data\n",
    "\n",
    "# train_data에 적용\n",
    "train_data = calculate_triangle_features(train_data)\n",
    "\n",
    "# test_data에 적용\n",
    "test_data = calculate_triangle_features(test_data)"
   ]
  },
  {
   "cell_type": "code",
   "execution_count": 166,
   "id": "0df37c1f",
   "metadata": {},
   "outputs": [],
   "source": [
    "# 제거할 변수 목록\n",
    "columns_to_drop = [\n",
    "    'HEAD NORMAL COORDINATE X AXIS(Stage1) Collect Result_Fill1'\n",
    "    , 'HEAD NORMAL COORDINATE Y AXIS(Stage1) Collect Result_Fill1'\n",
    "    , 'HEAD NORMAL COORDINATE Z AXIS(Stage1) Collect Result_Fill1'\n",
    "\n",
    "    , 'HEAD NORMAL COORDINATE X AXIS(Stage2) Collect Result_Fill1'\n",
    "    , 'HEAD NORMAL COORDINATE Y AXIS(Stage2) Collect Result_Fill1'\n",
    "    , 'HEAD NORMAL COORDINATE Z AXIS(Stage2) Collect Result_Fill1'\n",
    "\n",
    "    , 'HEAD NORMAL COORDINATE X AXIS(Stage3) Collect Result_Fill1'\n",
    "    , 'HEAD NORMAL COORDINATE Y AXIS(Stage3) Collect Result_Fill1'\n",
    "    , 'HEAD NORMAL COORDINATE Z AXIS(Stage3) Collect Result_Fill1'\n",
    "]\n",
    "\n",
    "# 변수 제거\n",
    "train_data.drop(columns=columns_to_drop, inplace=True)\n",
    "test_data.drop(columns=columns_to_drop, inplace=True)"
   ]
  },
  {
   "cell_type": "code",
   "execution_count": 167,
   "id": "ac6abb70",
   "metadata": {},
   "outputs": [],
   "source": [
    "import numpy as np\n",
    "\n",
    "# 각 스테이지의 좌표 열 정의\n",
    "stage1_cols = ['HEAD NORMAL COORDINATE X AXIS(Stage1) Collect Result_Fill2',\n",
    "               'HEAD NORMAL COORDINATE Y AXIS(Stage1) Collect Result_Fill2',\n",
    "               'HEAD NORMAL COORDINATE Z AXIS(Stage1) Collect Result_Fill2']\n",
    "\n",
    "stage2_cols = ['HEAD NORMAL COORDINATE X AXIS(Stage2) Collect Result_Fill2',\n",
    "               'HEAD NORMAL COORDINATE Y AXIS(Stage2) Collect Result_Fill2',\n",
    "               'HEAD NORMAL COORDINATE Z AXIS(Stage2) Collect Result_Fill2']\n",
    "\n",
    "stage3_cols = ['HEAD NORMAL COORDINATE X AXIS(Stage3) Collect Result_Fill2',\n",
    "               'HEAD NORMAL COORDINATE Y AXIS(Stage3) Collect Result_Fill2',\n",
    "               'HEAD NORMAL COORDINATE Z AXIS(Stage3) Collect Result_Fill2']\n",
    "\n",
    "# 거리 계산 함수\n",
    "def calculate_distances(data):\n",
    "    data['HEAD NORMAL DISTANCE_STAGE1_STAGE2_Fill2'] = np.sqrt(\n",
    "        (data[stage2_cols[0]] - data[stage1_cols[0]]) ** 2 +\n",
    "        (data[stage2_cols[1]] - data[stage1_cols[1]]) ** 2 +\n",
    "        (data[stage2_cols[2]] - data[stage1_cols[2]]) ** 2\n",
    "    )\n",
    "\n",
    "    data['HEAD NORMAL DISTANCE_STAGE2_STAGE3_Fill2'] = np.sqrt(\n",
    "        (data[stage3_cols[0]] - data[stage2_cols[0]]) ** 2 +\n",
    "        (data[stage3_cols[1]] - data[stage2_cols[1]]) ** 2 +\n",
    "        (data[stage3_cols[2]] - data[stage2_cols[2]]) ** 2\n",
    "    )\n",
    "\n",
    "    data['HEAD NORMAL DISTANCE_STAGE1_STAGE3_Fill2'] = np.sqrt(\n",
    "        (data[stage3_cols[0]] - data[stage1_cols[0]]) ** 2 +\n",
    "        (data[stage3_cols[1]] - data[stage1_cols[1]]) ** 2 +\n",
    "        (data[stage3_cols[2]] - data[stage1_cols[2]]) ** 2\n",
    "    )\n",
    "\n",
    "    return data\n",
    "\n",
    "# train_data에 적용\n",
    "train_data = calculate_distances(train_data)\n",
    "\n",
    "# test_data에 적용\n",
    "test_data = calculate_distances(test_data)"
   ]
  },
  {
   "cell_type": "code",
   "execution_count": 168,
   "id": "4c4cf668",
   "metadata": {},
   "outputs": [],
   "source": [
    "# 제거할 변수 목록\n",
    "columns_to_drop = [\n",
    "    'HEAD NORMAL COORDINATE X AXIS(Stage1) Collect Result_Fill2'\n",
    "    , 'HEAD NORMAL COORDINATE Y AXIS(Stage1) Collect Result_Fill2'\n",
    "    , 'HEAD NORMAL COORDINATE Z AXIS(Stage1) Collect Result_Fill2'\n",
    "\n",
    "    , 'HEAD NORMAL COORDINATE X AXIS(Stage2) Collect Result_Fill2'\n",
    "    , 'HEAD NORMAL COORDINATE Y AXIS(Stage2) Collect Result_Fill2'\n",
    "    , 'HEAD NORMAL COORDINATE Z AXIS(Stage2) Collect Result_Fill2'\n",
    "\n",
    "    , 'HEAD NORMAL COORDINATE X AXIS(Stage3) Collect Result_Fill2'\n",
    "    , 'HEAD NORMAL COORDINATE Y AXIS(Stage3) Collect Result_Fill2'\n",
    "    , 'HEAD NORMAL COORDINATE Z AXIS(Stage3) Collect Result_Fill2'\n",
    "]\n",
    "\n",
    "# 변수 제거\n",
    "train_data.drop(columns=columns_to_drop, inplace=True)\n",
    "test_data.drop(columns=columns_to_drop, inplace=True)"
   ]
  },
  {
   "cell_type": "code",
   "execution_count": 169,
   "id": "9688a787",
   "metadata": {},
   "outputs": [
    {
     "name": "stdout",
     "output_type": "stream",
     "text": [
      "\n",
      " HEAD NORMAL 포함 변수>\n",
      "HEAD NORMAL DISTANCE_STAGE1_STAGE2_Dam\n",
      "HEAD NORMAL DISTANCE_STAGE2_STAGE3_Dam\n",
      "HEAD NORMAL DISTANCE_STAGE1_STAGE3_Dam\n",
      "HEAD NORMAL DISTANCE_TRIANGLE_height_Dam\n",
      "HEAD NORMAL DISTANCE_STAGE1_STAGE2_Fill1\n",
      "HEAD NORMAL DISTANCE_STAGE2_STAGE3_Fill1\n",
      "HEAD NORMAL DISTANCE_STAGE1_STAGE3_Fill1\n",
      "HEAD NORMAL DISTANCE_TRIANGLE_height_Fill1\n",
      "HEAD NORMAL DISTANCE_STAGE1_STAGE2_Fill2\n",
      "HEAD NORMAL DISTANCE_STAGE2_STAGE3_Fill2\n",
      "HEAD NORMAL DISTANCE_STAGE1_STAGE3_Fill2\n"
     ]
    }
   ],
   "source": [
    "# 'HEAD NORMAL'를 포함하는 열 이름 필터링\n",
    "Process_Desc_col = train_data.filter(like='HEAD NORMAL').columns\n",
    "\n",
    "print(\"\\n HEAD NORMAL 포함 변수>\")\n",
    "for col in Process_Desc_col:\n",
    "    print(col)"
   ]
  },
  {
   "cell_type": "code",
   "execution_count": 170,
   "id": "47c86049",
   "metadata": {},
   "outputs": [],
   "source": [
    "# 삭제할 열 이름 정의\n",
    "columns_to_drop = [\n",
    "    'HEAD NORMAL DISTANCE_STAGE1_STAGE2_Dam'\n",
    "    , 'HEAD NORMAL DISTANCE_STAGE2_STAGE3_Dam'\n",
    "    # , 'HEAD NORMAL DISTANCE_STAGE1_STAGE3_Dam'\n",
    "\n",
    "    , 'HEAD NORMAL DISTANCE_STAGE1_STAGE2_Fill1'\n",
    "    , 'HEAD NORMAL DISTANCE_STAGE2_STAGE3_Fill1'\n",
    "    # , 'HEAD NORMAL DISTANCE_STAGE1_STAGE3_Fill1'\n",
    "\n",
    "    # , 'HEAD NORMAL DISTANCE_STAGE1_STAGE2_Fill2'\n",
    "    # , 'HEAD NORMAL DISTANCE_STAGE2_STAGE3_Fill2'\n",
    "    # , 'HEAD NORMAL DISTANCE_STAGE1_STAGE3_Fill2'\n",
    "]\n",
    "\n",
    "# train_data에서 열 삭제\n",
    "train_data = train_data.drop(columns=columns_to_drop)\n",
    "\n",
    "# test_data에서 열 삭제\n",
    "test_data = test_data.drop(columns=columns_to_drop)"
   ]
  },
  {
   "cell_type": "code",
   "execution_count": 171,
   "id": "0fa789f2",
   "metadata": {},
   "outputs": [
    {
     "name": "stdout",
     "output_type": "stream",
     "text": [
      "\n",
      " HEAD NORMAL 포함 변수>\n",
      "HEAD NORMAL DISTANCE_STAGE1_STAGE3_Dam\n",
      "HEAD NORMAL DISTANCE_TRIANGLE_height_Dam\n",
      "HEAD NORMAL DISTANCE_STAGE1_STAGE3_Fill1\n",
      "HEAD NORMAL DISTANCE_TRIANGLE_height_Fill1\n",
      "HEAD NORMAL DISTANCE_STAGE1_STAGE2_Fill2\n",
      "HEAD NORMAL DISTANCE_STAGE2_STAGE3_Fill2\n",
      "HEAD NORMAL DISTANCE_STAGE1_STAGE3_Fill2\n"
     ]
    }
   ],
   "source": [
    "# 'HEAD NORMAL'를 포함하는 열 이름 필터링\n",
    "Process_Desc_col = train_data.filter(like='HEAD NORMAL').columns\n",
    "\n",
    "print(\"\\n HEAD NORMAL 포함 변수>\")\n",
    "for col in Process_Desc_col:\n",
    "    print(col)"
   ]
  },
  {
   "cell_type": "markdown",
   "id": "c333a2e0",
   "metadata": {},
   "source": [
    "### 3. RESIN(처리x)"
   ]
  },
  {
   "cell_type": "code",
   "execution_count": 172,
   "id": "91c64cbe",
   "metadata": {},
   "outputs": [
    {
     "name": "stdout",
     "output_type": "stream",
     "text": [
      "\n",
      "'RESIN' 또는 'Dispense Volume' 포함 변수>\n",
      "DISCHARGED SPEED OF RESIN Collect Result_Dam\n",
      "DISCHARGED TIME OF RESIN(Stage1) Collect Result_Dam\n",
      "DISCHARGED TIME OF RESIN(Stage2) Collect Result_Dam\n",
      "DISCHARGED TIME OF RESIN(Stage3) Collect Result_Dam\n",
      "Dispense Volume(Stage1) Collect Result_Dam\n",
      "Dispense Volume(Stage2) Collect Result_Dam\n",
      "Dispense Volume(Stage3) Collect Result_Dam\n",
      "DISCHARGED SPEED OF RESIN Collect Result_Fill1\n",
      "DISCHARGED TIME OF RESIN(Stage1) Collect Result_Fill1\n",
      "DISCHARGED TIME OF RESIN(Stage2) Collect Result_Fill1\n",
      "DISCHARGED TIME OF RESIN(Stage3) Collect Result_Fill1\n",
      "Dispense Volume(Stage1) Collect Result_Fill1\n",
      "Dispense Volume(Stage2) Collect Result_Fill1\n",
      "Dispense Volume(Stage3) Collect Result_Fill1\n"
     ]
    }
   ],
   "source": [
    "# 'RESIN' 또는 'Dispense Volume'을 포함하는 열 이름 필터링\n",
    "Process_Desc_col = train_data.filter(regex='RESIN|Dispense Volume').columns\n",
    "\n",
    "print(\"\\n'RESIN' 또는 'Dispense Volume' 포함 변수>\")\n",
    "for col in Process_Desc_col:\n",
    "    print(col)"
   ]
  },
  {
   "cell_type": "code",
   "execution_count": 173,
   "id": "4652063e",
   "metadata": {},
   "outputs": [
    {
     "name": "stdout",
     "output_type": "stream",
     "text": [
      "Grouped by: Dispense Volume(Stage1) Collect Result_Dam, Dispense Volume(Stage2) Collect Result_Dam, Dispense Volume(Stage3) Collect Result_Dam\n",
      "\n",
      "                  group  'AdNormal' count     ratio  Total\n",
      "0    (0.67, 0.26, 1.49)                 8  0.075472    106\n",
      "1    (0.67, 0.27, 1.49)               277  0.086293   3210\n",
      "2    (0.67, 0.28, 1.49)                 0  0.000000      2\n",
      "3    (0.67, 0.33, 1.49)                51  0.099415    513\n",
      "4    (0.67, 0.34, 1.49)               467  0.082276   5676\n",
      "..                  ...               ...       ...    ...\n",
      "155  (1.63, 0.92, 1.49)                41  0.048810    840\n",
      "156  (1.63, 0.93, 1.49)                46  0.080844    569\n",
      "157  (1.63, 0.94, 1.49)                34  0.068273    498\n",
      "158  (2.34, 0.71, 1.49)                 0  0.000000      1\n",
      "159  (2.34, 0.72, 1.49)                 0  0.000000      3\n",
      "\n",
      "[160 rows x 4 columns]\n"
     ]
    }
   ],
   "source": [
    "summarize_group(train_data, [\n",
    "# 'Dispenser_1'\n",
    "# , 'Dispenser_2'\n",
    "# , 'DISCHARGED SPEED OF RESIN Collect Result_Dam'\n",
    "# , 'DISCHARGED TIME OF RESIN(Stage1) Collect Result_Dam'\n",
    "# , 'DISCHARGED TIME OF RESIN(Stage2) Collect Result_Dam'\n",
    "# , 'DISCHARGED TIME OF RESIN(Stage3) Collect Result_Dam'\n",
    " 'Dispense Volume(Stage1) Collect Result_Dam'\n",
    ", 'Dispense Volume(Stage2) Collect Result_Dam'\n",
    ", 'Dispense Volume(Stage3) Collect Result_Dam'\n",
    "# , 'DISCHARGED SPEED OF RESIN Collect Result_Fill1'\n",
    "# , 'DISCHARGED TIME OF RESIN(Stage1) Collect Result_Fill1'\n",
    "# , 'DISCHARGED TIME OF RESIN(Stage2) Collect Result_Fill1'\n",
    "# , 'DISCHARGED TIME OF RESIN(Stage3) Collect Result_Fill1'\n",
    "# , 'Dispense Volume(Stage1) Collect Result_Fill1'\n",
    "# , 'Dispense Volume(Stage2) Collect Result_Fill1'\n",
    "# , 'Dispense Volume(Stage3) Collect Result_Fill1'\n",
    "])"
   ]
  },
  {
   "cell_type": "code",
   "execution_count": 174,
   "id": "b1d5d93e",
   "metadata": {},
   "outputs": [],
   "source": [
    "# # 파생 변수 생성 함수\n",
    "# def create_time_speed_product(df):\n",
    "#     stages = ['Stage1', 'Stage2', 'Stage3']\n",
    "#     for stage in stages:\n",
    "#         time_col = f'DISCHARGED TIME OF RESIN({stage}) Collect Result_Dam'\n",
    "#         speed_col = 'DISCHARGED SPEED OF RESIN Collect Result_Dam'\n",
    "#         new_col_name = f'RESIN Time_x_Speed_{stage}_Dam'\n",
    "#         df[new_col_name] = df[time_col] * df[speed_col]\n",
    "\n",
    "# # 함수 적용\n",
    "# create_time_speed_product(train_data)\n",
    "# create_time_speed_product(test_data)"
   ]
  },
  {
   "cell_type": "code",
   "execution_count": 175,
   "id": "0ebb3079",
   "metadata": {},
   "outputs": [],
   "source": [
    "# summarize_group(train_data, [\n",
    "# 'Dispenser_1'\n",
    "# , 'Dispenser_2'\n",
    "# , 'DISCHARGED SPEED OF RESIN Collect Result_Dam'\n",
    "\n",
    "# ])"
   ]
  },
  {
   "cell_type": "code",
   "execution_count": 176,
   "id": "dd57994f",
   "metadata": {},
   "outputs": [],
   "source": [
    "# # 파생 변수 생성 함수\n",
    "# def create_volume_time_ratio(df):\n",
    "#     stages = ['Stage1', 'Stage2', 'Stage3']\n",
    "#     for stage in stages:\n",
    "#         time_col = f'DISCHARGED TIME OF RESIN({stage}) Collect Result_Dam'\n",
    "#         volume_col = f'Dispense Volume({stage}) Collect Result_Dam'\n",
    "#         new_col_name = f'RESIN Volume_Time_Ratio_{stage}_Dam'\n",
    "#         df[new_col_name] = df[volume_col] / df[time_col]\n",
    "\n",
    "# # 함수 적용\n",
    "# create_volume_time_ratio(train_data)\n",
    "# create_volume_time_ratio(test_data)"
   ]
  },
  {
   "cell_type": "code",
   "execution_count": 177,
   "id": "2b42b1b4",
   "metadata": {},
   "outputs": [],
   "source": [
    "# # 출력 옵션을 설정\n",
    "# pd.set_option('display.max_rows', None)\n",
    "\n",
    "\n",
    "# # 출력 옵션을 원래대로\n",
    "# pd.reset_option('display.max_rows')"
   ]
  },
  {
   "cell_type": "code",
   "execution_count": 178,
   "id": "9df4ff2f",
   "metadata": {},
   "outputs": [],
   "source": [
    "# summarize_group(train_data, [\n",
    "# 'Dispenser_1'\n",
    "# , 'Dispenser_2'\n",
    "# , 'DISCHARGED SPEED OF RESIN Collect Result_Dam'\n",
    "# , 'DISCHARGED TIME OF RESIN(Stage1) Collect Result_Dam'\n",
    "# , 'DISCHARGED TIME OF RESIN(Stage2) Collect Result_Dam'\n",
    "# , 'DISCHARGED TIME OF RESIN(Stage3) Collect Result_Dam'\n",
    "# , 'Dispense Volume(Stage1) Collect Result_Dam'\n",
    "# , 'Dispense Volume(Stage2) Collect Result_Dam'\n",
    "# , 'Dispense Volume(Stage3) Collect Result_Dam'\n",
    "# # , 'DISCHARGED SPEED OF RESIN Collect Result_Fill1'\n",
    "# # , 'DISCHARGED TIME OF RESIN(Stage1) Collect Result_Fill1'\n",
    "# # , 'DISCHARGED TIME OF RESIN(Stage2) Collect Result_Fill1'\n",
    "# # , 'DISCHARGED TIME OF RESIN(Stage3) Collect Result_Fill1'\n",
    "# # , 'Dispense Volume(Stage1) Collect Result_Fill1'\n",
    "# # , 'Dispense Volume(Stage2) Collect Result_Fill1'\n",
    "# # , 'Dispense Volume(Stage3) Collect Result_Fill1'\n",
    "# # , 'RESIN Time_x_Speed_Stage1_Dam'\n",
    "# # , 'RESIN Time_x_Speed_Stage2_Dam'\n",
    "# # , 'RESIN Time_x_Speed_Stage3_Dam'\n",
    "# #  'RESIN Volume_Time_Ratio_Stage1_Dam'\n",
    "# # , 'RESIN Volume_Time_Ratio_Stage2_Dam'\n",
    "# # , 'RESIN Volume_Time_Ratio_Stage3_Dam'\n",
    "# ])"
   ]
  },
  {
   "cell_type": "code",
   "execution_count": 179,
   "id": "f6643f95",
   "metadata": {},
   "outputs": [],
   "source": [
    "# # 'RESIN' 또는 'Dispense Volume'을 포함하는 열 이름 필터링\n",
    "# Process_Desc_col = train_data.filter(regex='RESIN|Dispense Volume').columns\n",
    "\n",
    "# print(\"\\n'RESIN' 또는 'Dispense Volume' 포함 변수>\")\n",
    "# for col in Process_Desc_col:\n",
    "#     print(col)"
   ]
  },
  {
   "cell_type": "markdown",
   "id": "81ac6aad",
   "metadata": {},
   "source": [
    "### 4. Distance Speed Collect Result_Dam"
   ]
  },
  {
   "cell_type": "markdown",
   "id": "14f6a2ba",
   "metadata": {},
   "source": [
    "Dam 공정의 Circle, Line 길이 변수들 처리"
   ]
  },
  {
   "cell_type": "code",
   "execution_count": 180,
   "id": "8f1ca6d9",
   "metadata": {},
   "outputs": [
    {
     "name": "stdout",
     "output_type": "stream",
     "text": [
      "\n",
      " Distance Speed Collect Result_Dam 포함 변수>\n",
      "Stage1 Circle1 Distance Speed Collect Result_Dam\n",
      "Stage1 Circle2 Distance Speed Collect Result_Dam\n",
      "Stage1 Circle3 Distance Speed Collect Result_Dam\n",
      "Stage1 Circle4 Distance Speed Collect Result_Dam\n",
      "Stage1 Line1 Distance Speed Collect Result_Dam\n",
      "Stage1 Line2 Distance Speed Collect Result_Dam\n",
      "Stage1 Line3 Distance Speed Collect Result_Dam\n",
      "Stage1 Line4 Distance Speed Collect Result_Dam\n",
      "Stage2 Circle1 Distance Speed Collect Result_Dam\n",
      "Stage2 Circle2 Distance Speed Collect Result_Dam\n",
      "Stage2 Circle3 Distance Speed Collect Result_Dam\n",
      "Stage2 Circle4 Distance Speed Collect Result_Dam\n",
      "Stage2 Line1 Distance Speed Collect Result_Dam\n",
      "Stage2 Line2 Distance Speed Collect Result_Dam\n",
      "Stage2 Line3 Distance Speed Collect Result_Dam\n",
      "Stage2 Line4 Distance Speed Collect Result_Dam\n",
      "Stage3 Circle1 Distance Speed Collect Result_Dam\n",
      "Stage3 Circle2 Distance Speed Collect Result_Dam\n",
      "Stage3 Circle3 Distance Speed Collect Result_Dam\n",
      "Stage3 Circle4 Distance Speed Collect Result_Dam\n",
      "Stage3 Line1 Distance Speed Collect Result_Dam\n",
      "Stage3 Line2 Distance Speed Collect Result_Dam\n",
      "Stage3 Line3 Distance Speed Collect Result_Dam\n",
      "Stage3 Line4 Distance Speed Collect Result_Dam\n"
     ]
    }
   ],
   "source": [
    "# 'Distance Speed Collect Result_Dam'를 포함하는 열 이름 필터링\n",
    "Process_Desc_col = train_data.filter(like='Distance Speed Collect Result_Dam').columns\n",
    "\n",
    "print(\"\\n Distance Speed Collect Result_Dam 포함 변수>\")\n",
    "for col in Process_Desc_col:\n",
    "    print(col)"
   ]
  },
  {
   "cell_type": "markdown",
   "id": "883ac6dc",
   "metadata": {},
   "source": [
    "Stage 별 Speed 값들의 평균 계산"
   ]
  },
  {
   "cell_type": "code",
   "execution_count": 181,
   "id": "74dc87f7",
   "metadata": {},
   "outputs": [],
   "source": [
    "def add_stage_totals(data, stages, suffix='_Distance_Speed_avg_Dam'):\n",
    "    for stage in stages:\n",
    "        stage_cols = data.filter(like=stage).columns\n",
    "        data[f'{stage}{suffix}'] = data[stage_cols].sum(axis=1) / 8\n",
    "\n",
    "stages = ['Stage1', 'Stage2', 'Stage3']\n",
    "\n",
    "# train_data에 대해 파생변수 추가\n",
    "add_stage_totals(train_data, stages)\n",
    "\n",
    "# test_data에 대해 파생변수 추가\n",
    "add_stage_totals(test_data, stages)"
   ]
  },
  {
   "cell_type": "code",
   "execution_count": 182,
   "id": "0a453df3",
   "metadata": {},
   "outputs": [],
   "source": [
    "# 제거할 변수 목록\n",
    "columns_to_drop = [\n",
    "'Stage1 Circle1 Distance Speed Collect Result_Dam'\n",
    ", 'Stage1 Circle2 Distance Speed Collect Result_Dam'\n",
    ", 'Stage1 Circle3 Distance Speed Collect Result_Dam'\n",
    ", 'Stage1 Circle4 Distance Speed Collect Result_Dam'\n",
    ", 'Stage1 Line1 Distance Speed Collect Result_Dam'\n",
    ", 'Stage1 Line2 Distance Speed Collect Result_Dam'\n",
    ", 'Stage1 Line3 Distance Speed Collect Result_Dam'\n",
    ", 'Stage1 Line4 Distance Speed Collect Result_Dam'\n",
    ", 'Stage2 Circle1 Distance Speed Collect Result_Dam'\n",
    ", 'Stage2 Circle2 Distance Speed Collect Result_Dam'\n",
    ", 'Stage2 Circle3 Distance Speed Collect Result_Dam'\n",
    ", 'Stage2 Circle4 Distance Speed Collect Result_Dam'\n",
    ", 'Stage2 Line1 Distance Speed Collect Result_Dam'\n",
    ", 'Stage2 Line2 Distance Speed Collect Result_Dam'\n",
    ", 'Stage2 Line3 Distance Speed Collect Result_Dam'\n",
    ", 'Stage2 Line4 Distance Speed Collect Result_Dam'\n",
    ", 'Stage3 Circle1 Distance Speed Collect Result_Dam'\n",
    ", 'Stage3 Circle2 Distance Speed Collect Result_Dam'\n",
    ", 'Stage3 Circle3 Distance Speed Collect Result_Dam'\n",
    ", 'Stage3 Circle4 Distance Speed Collect Result_Dam'\n",
    ", 'Stage3 Line1 Distance Speed Collect Result_Dam'\n",
    ", 'Stage3 Line2 Distance Speed Collect Result_Dam'\n",
    ", 'Stage3 Line3 Distance Speed Collect Result_Dam'\n",
    ", 'Stage3 Line4 Distance Speed Collect Result_Dam'\n",
    "]\n",
    "\n",
    "# 변수 제거\n",
    "train_data.drop(columns=columns_to_drop, inplace=True)\n",
    "test_data.drop(columns=columns_to_drop, inplace=True)"
   ]
  },
  {
   "cell_type": "code",
   "execution_count": 183,
   "id": "2d2c9ab9",
   "metadata": {},
   "outputs": [
    {
     "name": "stdout",
     "output_type": "stream",
     "text": [
      "\n",
      " Distance_Speed_avg_Dam 포함 변수>\n",
      "Stage1_Distance_Speed_avg_Dam\n",
      "Stage2_Distance_Speed_avg_Dam\n",
      "Stage3_Distance_Speed_avg_Dam\n"
     ]
    }
   ],
   "source": [
    "# 'Distance_Speed_avg_Dam'를 포함하는 열 이름 필터링\n",
    "Process_Desc_col = train_data.filter(like='Distance_Speed_avg_Dam').columns\n",
    "\n",
    "print(\"\\n Distance_Speed_avg_Dam 포함 변수>\")\n",
    "for col in Process_Desc_col:\n",
    "    print(col)"
   ]
  },
  {
   "cell_type": "markdown",
   "id": "ae3a4274",
   "metadata": {},
   "source": [
    "### 5. THICKNESS"
   ]
  },
  {
   "cell_type": "code",
   "execution_count": 184,
   "id": "d1907522",
   "metadata": {},
   "outputs": [
    {
     "name": "stdout",
     "output_type": "stream",
     "text": [
      "\n",
      " THICKNESS 포함 변수>\n",
      "THICKNESS 1 Collect Result_Dam\n",
      "THICKNESS 2 Collect Result_Dam\n",
      "THICKNESS 3 Collect Result_Dam\n"
     ]
    }
   ],
   "source": [
    "# 'THICKNESS'를 포함하는 열 이름 필터링\n",
    "Process_Desc_col = train_data.filter(like='THICKNESS').columns\n",
    "\n",
    "print(\"\\n THICKNESS 포함 변수>\")\n",
    "for col in Process_Desc_col:\n",
    "    print(col)"
   ]
  },
  {
   "cell_type": "code",
   "execution_count": 185,
   "id": "c3ae04ba",
   "metadata": {},
   "outputs": [],
   "source": [
    "# 새로운 파생변수 생성 함수\n",
    "def create_total_thickness_dam(data):\n",
    "    data['THICKNESS_total_Dam'] = (\n",
    "        data['THICKNESS 1 Collect Result_Dam']**2 \n",
    "        + data['THICKNESS 2 Collect Result_Dam']**2 \n",
    "        + data['THICKNESS 3 Collect Result_Dam']**2\n",
    "    )\n",
    "    # 기존 변수 삭제\n",
    "    data.drop(columns=[\n",
    "        'THICKNESS 1 Collect Result_Dam',\n",
    "        'THICKNESS 2 Collect Result_Dam',\n",
    "        'THICKNESS 3 Collect Result_Dam'\n",
    "    ], inplace=True)\n",
    "    return data\n",
    "\n",
    "train_data = create_total_thickness_dam(train_data)\n",
    "test_data = create_total_thickness_dam(test_data)"
   ]
  },
  {
   "cell_type": "code",
   "execution_count": 186,
   "id": "af96f1a2",
   "metadata": {},
   "outputs": [
    {
     "name": "stdout",
     "output_type": "stream",
     "text": [
      "\n",
      " THICKNESS 포함 변수>\n",
      "THICKNESS_total_Dam\n"
     ]
    }
   ],
   "source": [
    "# 'THICKNESS'를 포함하는 열 이름 필터링\n",
    "Process_Desc_col = train_data.filter(like='THICKNESS').columns\n",
    "\n",
    "print(\"\\n THICKNESS 포함 변수>\")\n",
    "for col in Process_Desc_col:\n",
    "    print(col)"
   ]
  },
  {
   "cell_type": "markdown",
   "id": "74f4349a",
   "metadata": {},
   "source": [
    "### 6. AutoClave"
   ]
  },
  {
   "cell_type": "code",
   "execution_count": 187,
   "id": "27ac3556",
   "metadata": {},
   "outputs": [
    {
     "name": "stdout",
     "output_type": "stream",
     "text": [
      "<AutoClave 공정 관련 변수>\n",
      "1st Pressure Collect Result_AutoClave\n",
      "1st Pressure Unit Time_AutoClave\n",
      "2nd Pressure Collect Result_AutoClave\n",
      "2nd Pressure Unit Time_AutoClave\n",
      "3rd Pressure Collect Result_AutoClave\n",
      "3rd Pressure Unit Time_AutoClave\n",
      "Chamber Temp. Collect Result_AutoClave\n",
      "Chamber Temp. Unit Time_AutoClave\n",
      "Chamber_Temp_OKNG_AutoClave\n"
     ]
    }
   ],
   "source": [
    "# '_AutoClave'를 포함하는 열 이름 필터링\n",
    "Process_Desc_col = train_data.filter(like='_AutoClave').columns\n",
    "\n",
    "# 필터링된 열 이름 출력\n",
    "print(\"<AutoClave 공정 관련 변수>\")\n",
    "for col in Process_Desc_col:\n",
    "    print(col)"
   ]
  },
  {
   "cell_type": "code",
   "execution_count": 188,
   "id": "b3c024ca",
   "metadata": {},
   "outputs": [],
   "source": [
    "# 파생변수 생성\n",
    "train_data['1st_Pressure_x_AutoClave'] = train_data['1st Pressure Collect Result_AutoClave'] * train_data['1st Pressure Unit Time_AutoClave'] \n",
    "test_data['1st_Pressure_x_AutoClave'] = test_data['1st Pressure Collect Result_AutoClave'] * test_data['1st Pressure Unit Time_AutoClave'] \n",
    "\n",
    "train_data['2nd_Pressure_x_AutoClave'] = train_data['2nd Pressure Collect Result_AutoClave'] * train_data['2nd Pressure Unit Time_AutoClave'] \n",
    "test_data['2nd_Pressure_x_AutoClave'] = test_data['2nd Pressure Collect Result_AutoClave'] * test_data['2nd Pressure Unit Time_AutoClave'] \n",
    "\n",
    "train_data['3rd_Pressure_x_AutoClave'] = train_data['3rd Pressure Collect Result_AutoClave'] * train_data['3rd Pressure Unit Time_AutoClave'] \n",
    "test_data['3rd_Pressure_x_AutoClave'] = test_data['3rd Pressure Collect Result_AutoClave'] * test_data['3rd Pressure Unit Time_AutoClave'] \n",
    "\n",
    "train_data['All_Pressure_x_AutoClave'] = train_data['1st_Pressure_x_AutoClave'] + train_data['2nd_Pressure_x_AutoClave'] + train_data['3rd_Pressure_x_AutoClave']\n",
    "test_data['All_Pressure_x_AutoClave'] = test_data['1st_Pressure_x_AutoClave'] + test_data['2nd_Pressure_x_AutoClave'] + test_data['3rd_Pressure_x_AutoClave']\n",
    "\n",
    "train_data['All_Pressure_avg_AutoClave'] = train_data['All_Pressure_x_AutoClave'] / train_data['Chamber Temp. Unit Time_AutoClave']\n",
    "test_data['All_Pressure_avg_AutoClave'] = test_data['All_Pressure_x_AutoClave'] / test_data['Chamber Temp. Unit Time_AutoClave']\n",
    "\n",
    "train_data['Chamber_Temp_x_AutoClave'] = train_data['Chamber Temp. Collect Result_AutoClave'] * train_data['Chamber Temp. Unit Time_AutoClave']\n",
    "test_data['Chamber_Temp_x_AutoClave'] = test_data['Chamber Temp. Collect Result_AutoClave'] * test_data['Chamber Temp. Unit Time_AutoClave']\n",
    "\n",
    "train_data['All_Pressure_frac_Chamber_Temp_AutoClave'] = train_data['All_Pressure_x_AutoClave'] / train_data['Chamber_Temp_x_AutoClave']\n",
    "test_data['All_Pressure_frac_Chamber_Temp_AutoClave'] = test_data['All_Pressure_x_AutoClave'] / test_data['Chamber_Temp_x_AutoClave']\n"
   ]
  },
  {
   "cell_type": "code",
   "execution_count": 189,
   "id": "a69ad859",
   "metadata": {},
   "outputs": [
    {
     "name": "stdout",
     "output_type": "stream",
     "text": [
      "<AutoClave 공정 관련 변수>\n",
      "1st Pressure Collect Result_AutoClave\n",
      "1st Pressure Unit Time_AutoClave\n",
      "2nd Pressure Collect Result_AutoClave\n",
      "2nd Pressure Unit Time_AutoClave\n",
      "3rd Pressure Collect Result_AutoClave\n",
      "3rd Pressure Unit Time_AutoClave\n",
      "Chamber Temp. Collect Result_AutoClave\n",
      "Chamber Temp. Unit Time_AutoClave\n",
      "Chamber_Temp_OKNG_AutoClave\n",
      "1st_Pressure_x_AutoClave\n",
      "2nd_Pressure_x_AutoClave\n",
      "3rd_Pressure_x_AutoClave\n",
      "All_Pressure_x_AutoClave\n",
      "All_Pressure_avg_AutoClave\n",
      "Chamber_Temp_x_AutoClave\n",
      "All_Pressure_frac_Chamber_Temp_AutoClave\n"
     ]
    }
   ],
   "source": [
    "# '_AutoClave'를 포함하는 열 이름 필터링\n",
    "Process_Desc_col = train_data.filter(like='_AutoClave').columns\n",
    "\n",
    "# 필터링된 열 이름 출력\n",
    "print(\"<AutoClave 공정 관련 변수>\")\n",
    "for col in Process_Desc_col:\n",
    "    print(col)"
   ]
  },
  {
   "cell_type": "code",
   "execution_count": 190,
   "id": "3e714beb",
   "metadata": {},
   "outputs": [],
   "source": [
    "# 제거할 변수 목록\n",
    "columns_to_drop = [\n",
    "# '1st Pressure Collect Result_AutoClave'\n",
    "'1st Pressure Unit Time_AutoClave'\n",
    "# , '2nd Pressure Collect Result_AutoClave'\n",
    ", '2nd Pressure Unit Time_AutoClave'\n",
    "# , '3rd Pressure Collect Result_AutoClave'\n",
    ", '3rd Pressure Unit Time_AutoClave'\n",
    "# , 'Chamber Temp. Collect Result_AutoClave'\n",
    "# , 'Chamber Temp. Unit Time_AutoClave'\n",
    "\n",
    "# , '1st_Pressure_x_AutoClave'\n",
    "# , '2nd_Pressure_x_AutoClave'\n",
    "# , '3rd_Pressure_x_AutoClave'\n",
    ", 'All_Pressure_x_AutoClave'\n",
    "# , 'All_Pressure_avg_AutoClave'\n",
    "# , 'Chamber_Temp_x_AutoClave'\n",
    "# , 'All_Pressure_frac_Chamber_Temp_AutoClave'\n",
    "]\n",
    "\n",
    "# 변수 제거\n",
    "train_data.drop(columns=columns_to_drop, inplace=True)\n",
    "test_data.drop(columns=columns_to_drop, inplace=True)"
   ]
  },
  {
   "cell_type": "code",
   "execution_count": 191,
   "id": "20ce50bc",
   "metadata": {},
   "outputs": [
    {
     "name": "stdout",
     "output_type": "stream",
     "text": [
      "<AutoClave 공정 관련 변수>\n",
      "1st Pressure Collect Result_AutoClave\n",
      "2nd Pressure Collect Result_AutoClave\n",
      "3rd Pressure Collect Result_AutoClave\n",
      "Chamber Temp. Collect Result_AutoClave\n",
      "Chamber Temp. Unit Time_AutoClave\n",
      "Chamber_Temp_OKNG_AutoClave\n",
      "1st_Pressure_x_AutoClave\n",
      "2nd_Pressure_x_AutoClave\n",
      "3rd_Pressure_x_AutoClave\n",
      "All_Pressure_avg_AutoClave\n",
      "Chamber_Temp_x_AutoClave\n",
      "All_Pressure_frac_Chamber_Temp_AutoClave\n"
     ]
    }
   ],
   "source": [
    "# '_AutoClave'를 포함하는 열 이름 필터링\n",
    "Process_Desc_col = train_data.filter(like='_AutoClave').columns\n",
    "\n",
    "# 필터링된 열 이름 출력\n",
    "print(\"<AutoClave 공정 관련 변수>\")\n",
    "for col in Process_Desc_col:\n",
    "    print(col)"
   ]
  },
  {
   "cell_type": "markdown",
   "id": "61a69dcf",
   "metadata": {},
   "source": [
    "### 7. ETC.."
   ]
  },
  {
   "cell_type": "markdown",
   "id": "f41b05ca",
   "metadata": {},
   "source": [
    "7-1. workorder"
   ]
  },
  {
   "cell_type": "code",
   "execution_count": 192,
   "id": "e2e4240f",
   "metadata": {},
   "outputs": [],
   "source": [
    "# 타겟 변수를 0과 1로 변환\n",
    "train_data['target_binary'] = train_data['target'].apply(lambda x: 1 if x == 'AbNormal' else 0)\n",
    "\n",
    "# Workorder 변수의 값에 대한 타겟 변수 비율 계산\n",
    "workorder_target_ratio = train_data.groupby('Workorder')['target_binary'].mean()\n",
    "\n",
    "# 파생 변수 생성 함수\n",
    "def create_derived_variable(row, ratio_dict, threshold):\n",
    "    return 1 if ratio_dict.get(row['Workorder'], 0) >= threshold else 0\n",
    "\n",
    "# 파생 변수 생성\n",
    "train_data['Workorder_0.9'] = train_data.apply(create_derived_variable, axis=1, ratio_dict=workorder_target_ratio, threshold=0.9)\n",
    "train_data['Workorder_0.6'] = train_data.apply(create_derived_variable, axis=1, ratio_dict=workorder_target_ratio, threshold=0.6)\n",
    "\n",
    "test_data['Workorder_0.9'] = test_data.apply(create_derived_variable, axis=1, ratio_dict=workorder_target_ratio, threshold=0.9)\n",
    "test_data['Workorder_0.6'] = test_data.apply(create_derived_variable, axis=1, ratio_dict=workorder_target_ratio, threshold=0.6)\n",
    "\n",
    "# 불필요한 변수 제거\n",
    "train_data.drop(['target_binary'], axis=1, inplace=True)"
   ]
  },
  {
   "cell_type": "markdown",
   "id": "da48c3f8",
   "metadata": {},
   "source": [
    "7-2. Machine Tact time"
   ]
  },
  {
   "cell_type": "code",
   "execution_count": 193,
   "id": "4d866fb6",
   "metadata": {},
   "outputs": [],
   "source": [
    "### 총시간 대비 비율 변수\n",
    "def calculate_total_time_and_ratios(data):\n",
    "    data['total_time'] = (\n",
    "        data['Machine Tact time Collect Result_Dam'] +\n",
    "        data['Machine Tact time Collect Result_Fill1'] +\n",
    "        data['Machine Tact time Collect Result_Fill2'] +\n",
    "        data['Chamber Temp. Unit Time_AutoClave']\n",
    "    )\n",
    "    data['time_ratio_Dam'] = (data['Machine Tact time Collect Result_Dam'] / data['total_time']).round(3)\n",
    "    data['time_ratio_Fill1'] = (data['Machine Tact time Collect Result_Fill1'] / data['total_time']).round(3)\n",
    "    data['time_ratio_Fill2'] = (data['Machine Tact time Collect Result_Fill2'] / data['total_time']).round(3)\n",
    "    data['time_ratio_AutoClave'] = (data['Chamber Temp. Unit Time_AutoClave'] / data['total_time']).round(3)\n",
    "    return data\n",
    "\n",
    "# train_data와 test_data에 함수 적용\n",
    "train_data = calculate_total_time_and_ratios(train_data)\n",
    "test_data = calculate_total_time_and_ratios(test_data)"
   ]
  },
  {
   "cell_type": "code",
   "execution_count": 194,
   "id": "dec2a803",
   "metadata": {},
   "outputs": [],
   "source": [
    "# 변수 제거\n",
    "train_data.drop(columns=[\n",
    "    'total_time'\n",
    "    , 'Machine Tact time Collect Result_Dam'\n",
    "    , 'Machine Tact time Collect Result_Fill1'\n",
    "    , 'Machine Tact time Collect Result_Fill2'\n",
    "    , 'Chamber Temp. Unit Time_AutoClave'], inplace=True)\n",
    "\n",
    "test_data.drop(columns=[\n",
    "    'total_time'\n",
    "    , 'Machine Tact time Collect Result_Dam'\n",
    "    , 'Machine Tact time Collect Result_Fill1'\n",
    "    , 'Machine Tact time Collect Result_Fill2'\n",
    "    , 'Chamber Temp. Unit Time_AutoClave'], inplace=True)"
   ]
  },
  {
   "cell_type": "markdown",
   "id": "3ad7941e",
   "metadata": {},
   "source": [
    "---"
   ]
  },
  {
   "cell_type": "code",
   "execution_count": 195,
   "id": "49a7d114",
   "metadata": {},
   "outputs": [
    {
     "name": "stdout",
     "output_type": "stream",
     "text": [
      "<class 'pandas.core.frame.DataFrame'>\n",
      "RangeIndex: 40506 entries, 0 to 40505\n",
      "Data columns (total 60 columns):\n",
      " #   Column                                                 Non-Null Count  Dtype  \n",
      "---  ------                                                 --------------  -----  \n",
      " 0   Model.Suffix                                           40506 non-null  object \n",
      " 1   Workorder                                              40506 non-null  object \n",
      " 2   DISCHARGED SPEED OF RESIN Collect Result_Dam           40506 non-null  int64  \n",
      " 3   DISCHARGED TIME OF RESIN(Stage1) Collect Result_Dam    40506 non-null  float64\n",
      " 4   DISCHARGED TIME OF RESIN(Stage2) Collect Result_Dam    40506 non-null  float64\n",
      " 5   DISCHARGED TIME OF RESIN(Stage3) Collect Result_Dam    40506 non-null  float64\n",
      " 6   Dispense Volume(Stage1) Collect Result_Dam             40506 non-null  float64\n",
      " 7   Dispense Volume(Stage2) Collect Result_Dam             40506 non-null  float64\n",
      " 8   Dispense Volume(Stage3) Collect Result_Dam             40506 non-null  float64\n",
      " 9   Head Clean Position Z Collect Result_Dam               40506 non-null  float64\n",
      " 10  Head Purge Position Z Collect Result_Dam               40506 non-null  float64\n",
      " 11  Head Zero Position Y Collect Result_Dam                40506 non-null  float64\n",
      " 12  Head Zero Position Z Collect Result_Dam                40506 non-null  float64\n",
      " 13  WorkMode Collect Result                                40506 non-null  float64\n",
      " 14  1st Pressure Collect Result_AutoClave                  40506 non-null  float64\n",
      " 15  2nd Pressure Collect Result_AutoClave                  40506 non-null  float64\n",
      " 16  3rd Pressure Collect Result_AutoClave                  40506 non-null  float64\n",
      " 17  Chamber Temp. Collect Result_AutoClave                 40506 non-null  int64  \n",
      " 18  DISCHARGED SPEED OF RESIN Collect Result_Fill1         40506 non-null  float64\n",
      " 19  DISCHARGED TIME OF RESIN(Stage1) Collect Result_Fill1  40506 non-null  float64\n",
      " 20  DISCHARGED TIME OF RESIN(Stage2) Collect Result_Fill1  40506 non-null  float64\n",
      " 21  DISCHARGED TIME OF RESIN(Stage3) Collect Result_Fill1  40506 non-null  float64\n",
      " 22  Dispense Volume(Stage1) Collect Result_Fill1           40506 non-null  float64\n",
      " 23  Dispense Volume(Stage2) Collect Result_Fill1           40506 non-null  float64\n",
      " 24  Dispense Volume(Stage3) Collect Result_Fill1           40506 non-null  float64\n",
      " 25  Head Purge Position Z Collect Result_Fill1             40506 non-null  int64  \n",
      " 26  Head Purge Position Z Collect Result_Fill2             40506 non-null  float64\n",
      " 27  target                                                 40506 non-null  object \n",
      " 28  Dispenser_1                                            40506 non-null  int64  \n",
      " 29  Dispenser_2                                            40506 non-null  int64  \n",
      " 30  Receip_No_Collect_Result                               40506 non-null  int64  \n",
      " 31  PalletID_Collect_Result                                40506 non-null  int64  \n",
      " 32  Production_Qty_Collect_Result                          40506 non-null  int64  \n",
      " 33  Chamber_Temp_OKNG_AutoClave                            40506 non-null  int64  \n",
      " 34  Judge_Value_OK                                         40506 non-null  int64  \n",
      " 35  CURE_Time_Dam                                          40506 non-null  float64\n",
      " 36  CURE_Time_Fill2                                        40506 non-null  float64\n",
      " 37  HEAD NORMAL DISTANCE_STAGE1_STAGE3_Dam                 40506 non-null  float64\n",
      " 38  HEAD NORMAL DISTANCE_TRIANGLE_height_Dam               40506 non-null  float64\n",
      " 39  HEAD NORMAL DISTANCE_STAGE1_STAGE3_Fill1               40506 non-null  float64\n",
      " 40  HEAD NORMAL DISTANCE_TRIANGLE_height_Fill1             40506 non-null  float64\n",
      " 41  HEAD NORMAL DISTANCE_STAGE1_STAGE2_Fill2               40506 non-null  float64\n",
      " 42  HEAD NORMAL DISTANCE_STAGE2_STAGE3_Fill2               40506 non-null  float64\n",
      " 43  HEAD NORMAL DISTANCE_STAGE1_STAGE3_Fill2               40506 non-null  float64\n",
      " 44  Stage1_Distance_Speed_avg_Dam                          40506 non-null  float64\n",
      " 45  Stage2_Distance_Speed_avg_Dam                          40506 non-null  float64\n",
      " 46  Stage3_Distance_Speed_avg_Dam                          40506 non-null  float64\n",
      " 47  THICKNESS_total_Dam                                    40506 non-null  float64\n",
      " 48  1st_Pressure_x_AutoClave                               40506 non-null  float64\n",
      " 49  2nd_Pressure_x_AutoClave                               40506 non-null  float64\n",
      " 50  3rd_Pressure_x_AutoClave                               40506 non-null  float64\n",
      " 51  All_Pressure_avg_AutoClave                             40506 non-null  float64\n",
      " 52  Chamber_Temp_x_AutoClave                               40506 non-null  int64  \n",
      " 53  All_Pressure_frac_Chamber_Temp_AutoClave               40506 non-null  float64\n",
      " 54  Workorder_0.9                                          40506 non-null  int64  \n",
      " 55  Workorder_0.6                                          40506 non-null  int64  \n",
      " 56  time_ratio_Dam                                         40506 non-null  float64\n",
      " 57  time_ratio_Fill1                                       40506 non-null  float64\n",
      " 58  time_ratio_Fill2                                       40506 non-null  float64\n",
      " 59  time_ratio_AutoClave                                   40506 non-null  float64\n",
      "dtypes: float64(44), int64(13), object(3)\n",
      "memory usage: 18.5+ MB\n",
      "---\n"
     ]
    }
   ],
   "source": [
    "train_data.info()\n",
    "print('---')\n",
    "# test_data.info()"
   ]
  },
  {
   "cell_type": "code",
   "execution_count": 196,
   "id": "769e6d8b",
   "metadata": {},
   "outputs": [
    {
     "name": "stdout",
     "output_type": "stream",
     "text": [
      "Series([], dtype: int64)\n"
     ]
    }
   ],
   "source": [
    "# 각 변수별로 결측값이 존재하는지 확인하는 코드\n",
    "missing_values = train_data.isnull().sum()\n",
    "\n",
    "# 결측값이 존재하는 변수와 그 개수 출력\n",
    "missing_values = missing_values[missing_values > 0]\n",
    "print(missing_values)\n",
    "\n",
    "# 결측값이 존재하는 변수명을 리스트에 담기\n",
    "missing_columns = missing_values.index.tolist()\n",
    "# print(\"결측값이 존재하는 변수명:\", missing_columns)"
   ]
  },
  {
   "cell_type": "markdown",
   "id": "ec45a10a",
   "metadata": {},
   "source": [
    "---"
   ]
  },
  {
   "cell_type": "markdown",
   "id": "334b20a3",
   "metadata": {},
   "source": [
    "## 타겟 인코딩"
   ]
  },
  {
   "cell_type": "code",
   "execution_count": 197,
   "id": "fb37ebe9",
   "metadata": {},
   "outputs": [
    {
     "name": "stdout",
     "output_type": "stream",
     "text": [
      "Index(['Model.Suffix', 'Workorder', 'target'], dtype='object')  train_object_columns 갯수 : 3\n",
      "Index(['Set ID', 'Model.Suffix', 'Workorder', 'target'], dtype='object')  test_object_columns 갯수 : 4\n",
      "\n",
      "Train Data:\n",
      "Model.Suffix unique 값 갯수: 7\n",
      "Workorder unique 값 갯수: 663\n",
      "target unique 값 갯수: 2\n",
      "\n",
      "Test Data:\n",
      "Set ID unique 값 갯수: 17361\n",
      "Model.Suffix unique 값 갯수: 7\n",
      "Workorder unique 값 갯수: 662\n",
      "target unique 값 갯수: 0\n"
     ]
    }
   ],
   "source": [
    "# 'target' 열의 변수 타입을 object로 변경\n",
    "# -> test 데이터는 float64 타입으로 되어있음 \n",
    "test_data['target'] = test_data['target'].astype('object')\n",
    "\n",
    "# object 타입의 변수 출력\n",
    "train_object_columns = train_data.select_dtypes(include=['object']).columns\n",
    "test_object_columns = test_data.select_dtypes(include=['object']).columns\n",
    "\n",
    "print(train_object_columns, f\" train_object_columns 갯수 : {len(train_object_columns)}\")\n",
    "print(test_object_columns, f\" test_object_columns 갯수 : {len(test_object_columns)}\")\n",
    "\n",
    "# 각 object 변수의 고유 값 개수 출력\n",
    "print(\"\\nTrain Data:\")\n",
    "for col in train_object_columns:\n",
    "    unique_count = train_data[col].nunique()\n",
    "    print(f\"{col} unique 값 갯수: {unique_count}\")\n",
    "\n",
    "print(\"\\nTest Data:\")\n",
    "for col in test_object_columns:\n",
    "    unique_count = test_data[col].nunique()\n",
    "    print(f\"{col} unique 값 갯수: {unique_count}\")"
   ]
  },
  {
   "cell_type": "code",
   "execution_count": 198,
   "id": "156c68be",
   "metadata": {},
   "outputs": [
    {
     "name": "stdout",
     "output_type": "stream",
     "text": [
      "   Model.Suffix  Workorder\n",
      "0      0.049336   0.158385\n",
      "1      0.049336   0.015314\n",
      "2      0.056712   0.009534\n",
      "   Model.Suffix  Workorder\n",
      "0      0.056712   0.091912\n",
      "1      0.056712   0.024247\n",
      "2      0.056712   0.091463\n",
      "--- train_data ---\n",
      "target  \n",
      "Normal      38156\n",
      "AbNormal     2350\n",
      "dtype: int64\n"
     ]
    }
   ],
   "source": [
    "# 필요한 라이브러리 임포트\n",
    "import pandas as pd\n",
    "import category_encoders as ce\n",
    "\n",
    "# 타겟 변수와 범주형 변수 지정\n",
    "## Target Encoding의 smoothing 파라미터는 default로 auto로 설정되어 있음\n",
    "target = 'target'  # 타겟 변수 이름으로 변경\n",
    "categorical_columns = [\n",
    "    'Model.Suffix',\n",
    "    'Workorder',\n",
    "]  # 범주형 변수 이름으로 변경\n",
    "\n",
    "# 타겟 값을 숫자로 변환\n",
    "target_mapping = {'Normal': 0, 'AbNormal': 1}\n",
    "train_data[target] = train_data[target].map(target_mapping)\n",
    "test_data[target] = test_data[target].map(target_mapping)\n",
    "\n",
    "# 열이 존재하는지 확인\n",
    "missing_columns = [col for col in categorical_columns if col not in train_data.columns]\n",
    "if missing_columns:\n",
    "    raise ValueError(f\"train_data에 다음 열이 존재하지 않습니다: {missing_columns}\")\n",
    "\n",
    "# 타겟 인코더 생성 및 학습\n",
    "encoder = ce.TargetEncoder(cols=categorical_columns)\n",
    "train_data = encoder.fit_transform(train_data, train_data[target])\n",
    "\n",
    "# Set ID 열을 별도로 저장\n",
    "set_id = test_data['Set ID']\n",
    "\n",
    "# 테스트 데이터 인코딩 (Set ID 열 제외)\n",
    "test_data = test_data.drop(columns=['Set ID'])\n",
    "test_data = encoder.transform(test_data)\n",
    "\n",
    "# Set ID 열을 맨 앞에 추가\n",
    "test_data.insert(0, 'Set ID', set_id)\n",
    "\n",
    "# categorical_columns에 해당하는 열의 데이터 값만 확인\n",
    "print(train_data[categorical_columns].head(3))\n",
    "print(test_data[categorical_columns].head(3))\n",
    "\n",
    "# 역 매핑 딕셔너리 생성\n",
    "reverse_target_mapping = {v: k for k, v in target_mapping.items()}\n",
    "\n",
    "# 타겟 값을 원래대로 변환\n",
    "train_data[target] = train_data[target].map(reverse_target_mapping)\n",
    "test_data[target] = test_data[target].map(reverse_target_mapping)\n",
    "\n",
    "print(\"--- train_data ---\")\n",
    "\n",
    "# 변환된 타겟 값 확인\n",
    "print(train_data[[target]].value_counts())"
   ]
  },
  {
   "cell_type": "code",
   "execution_count": 199,
   "id": "6a108490",
   "metadata": {},
   "outputs": [
    {
     "name": "stdout",
     "output_type": "stream",
     "text": [
      "<class 'pandas.core.frame.DataFrame'>\n",
      "RangeIndex: 40506 entries, 0 to 40505\n",
      "Data columns (total 60 columns):\n",
      " #   Column                                                 Non-Null Count  Dtype  \n",
      "---  ------                                                 --------------  -----  \n",
      " 0   Model.Suffix                                           40506 non-null  float64\n",
      " 1   Workorder                                              40506 non-null  float64\n",
      " 2   DISCHARGED SPEED OF RESIN Collect Result_Dam           40506 non-null  int64  \n",
      " 3   DISCHARGED TIME OF RESIN(Stage1) Collect Result_Dam    40506 non-null  float64\n",
      " 4   DISCHARGED TIME OF RESIN(Stage2) Collect Result_Dam    40506 non-null  float64\n",
      " 5   DISCHARGED TIME OF RESIN(Stage3) Collect Result_Dam    40506 non-null  float64\n",
      " 6   Dispense Volume(Stage1) Collect Result_Dam             40506 non-null  float64\n",
      " 7   Dispense Volume(Stage2) Collect Result_Dam             40506 non-null  float64\n",
      " 8   Dispense Volume(Stage3) Collect Result_Dam             40506 non-null  float64\n",
      " 9   Head Clean Position Z Collect Result_Dam               40506 non-null  float64\n",
      " 10  Head Purge Position Z Collect Result_Dam               40506 non-null  float64\n",
      " 11  Head Zero Position Y Collect Result_Dam                40506 non-null  float64\n",
      " 12  Head Zero Position Z Collect Result_Dam                40506 non-null  float64\n",
      " 13  WorkMode Collect Result                                40506 non-null  float64\n",
      " 14  1st Pressure Collect Result_AutoClave                  40506 non-null  float64\n",
      " 15  2nd Pressure Collect Result_AutoClave                  40506 non-null  float64\n",
      " 16  3rd Pressure Collect Result_AutoClave                  40506 non-null  float64\n",
      " 17  Chamber Temp. Collect Result_AutoClave                 40506 non-null  int64  \n",
      " 18  DISCHARGED SPEED OF RESIN Collect Result_Fill1         40506 non-null  float64\n",
      " 19  DISCHARGED TIME OF RESIN(Stage1) Collect Result_Fill1  40506 non-null  float64\n",
      " 20  DISCHARGED TIME OF RESIN(Stage2) Collect Result_Fill1  40506 non-null  float64\n",
      " 21  DISCHARGED TIME OF RESIN(Stage3) Collect Result_Fill1  40506 non-null  float64\n",
      " 22  Dispense Volume(Stage1) Collect Result_Fill1           40506 non-null  float64\n",
      " 23  Dispense Volume(Stage2) Collect Result_Fill1           40506 non-null  float64\n",
      " 24  Dispense Volume(Stage3) Collect Result_Fill1           40506 non-null  float64\n",
      " 25  Head Purge Position Z Collect Result_Fill1             40506 non-null  int64  \n",
      " 26  Head Purge Position Z Collect Result_Fill2             40506 non-null  float64\n",
      " 27  target                                                 40506 non-null  object \n",
      " 28  Dispenser_1                                            40506 non-null  int64  \n",
      " 29  Dispenser_2                                            40506 non-null  int64  \n",
      " 30  Receip_No_Collect_Result                               40506 non-null  int64  \n",
      " 31  PalletID_Collect_Result                                40506 non-null  int64  \n",
      " 32  Production_Qty_Collect_Result                          40506 non-null  int64  \n",
      " 33  Chamber_Temp_OKNG_AutoClave                            40506 non-null  int64  \n",
      " 34  Judge_Value_OK                                         40506 non-null  int64  \n",
      " 35  CURE_Time_Dam                                          40506 non-null  float64\n",
      " 36  CURE_Time_Fill2                                        40506 non-null  float64\n",
      " 37  HEAD NORMAL DISTANCE_STAGE1_STAGE3_Dam                 40506 non-null  float64\n",
      " 38  HEAD NORMAL DISTANCE_TRIANGLE_height_Dam               40506 non-null  float64\n",
      " 39  HEAD NORMAL DISTANCE_STAGE1_STAGE3_Fill1               40506 non-null  float64\n",
      " 40  HEAD NORMAL DISTANCE_TRIANGLE_height_Fill1             40506 non-null  float64\n",
      " 41  HEAD NORMAL DISTANCE_STAGE1_STAGE2_Fill2               40506 non-null  float64\n",
      " 42  HEAD NORMAL DISTANCE_STAGE2_STAGE3_Fill2               40506 non-null  float64\n",
      " 43  HEAD NORMAL DISTANCE_STAGE1_STAGE3_Fill2               40506 non-null  float64\n",
      " 44  Stage1_Distance_Speed_avg_Dam                          40506 non-null  float64\n",
      " 45  Stage2_Distance_Speed_avg_Dam                          40506 non-null  float64\n",
      " 46  Stage3_Distance_Speed_avg_Dam                          40506 non-null  float64\n",
      " 47  THICKNESS_total_Dam                                    40506 non-null  float64\n",
      " 48  1st_Pressure_x_AutoClave                               40506 non-null  float64\n",
      " 49  2nd_Pressure_x_AutoClave                               40506 non-null  float64\n",
      " 50  3rd_Pressure_x_AutoClave                               40506 non-null  float64\n",
      " 51  All_Pressure_avg_AutoClave                             40506 non-null  float64\n",
      " 52  Chamber_Temp_x_AutoClave                               40506 non-null  int64  \n",
      " 53  All_Pressure_frac_Chamber_Temp_AutoClave               40506 non-null  float64\n",
      " 54  Workorder_0.9                                          40506 non-null  int64  \n",
      " 55  Workorder_0.6                                          40506 non-null  int64  \n",
      " 56  time_ratio_Dam                                         40506 non-null  float64\n",
      " 57  time_ratio_Fill1                                       40506 non-null  float64\n",
      " 58  time_ratio_Fill2                                       40506 non-null  float64\n",
      " 59  time_ratio_AutoClave                                   40506 non-null  float64\n",
      "dtypes: float64(46), int64(13), object(1)\n",
      "memory usage: 18.5+ MB\n",
      "---\n"
     ]
    }
   ],
   "source": [
    "train_data.info()\n",
    "print('---')\n",
    "# test_data.info()"
   ]
  },
  {
   "cell_type": "code",
   "execution_count": 200,
   "id": "dbf7c9bb",
   "metadata": {},
   "outputs": [
    {
     "name": "stdout",
     "output_type": "stream",
     "text": [
      "---\n",
      "<class 'pandas.core.frame.DataFrame'>\n",
      "RangeIndex: 17361 entries, 0 to 17360\n",
      "Data columns (total 61 columns):\n",
      " #   Column                                                 Non-Null Count  Dtype  \n",
      "---  ------                                                 --------------  -----  \n",
      " 0   Set ID                                                 17361 non-null  object \n",
      " 1   Model.Suffix                                           17361 non-null  float64\n",
      " 2   Workorder                                              17361 non-null  float64\n",
      " 3   DISCHARGED SPEED OF RESIN Collect Result_Dam           17361 non-null  int64  \n",
      " 4   DISCHARGED TIME OF RESIN(Stage1) Collect Result_Dam    17361 non-null  float64\n",
      " 5   DISCHARGED TIME OF RESIN(Stage2) Collect Result_Dam    17361 non-null  float64\n",
      " 6   DISCHARGED TIME OF RESIN(Stage3) Collect Result_Dam    17361 non-null  float64\n",
      " 7   Dispense Volume(Stage1) Collect Result_Dam             17361 non-null  float64\n",
      " 8   Dispense Volume(Stage2) Collect Result_Dam             17361 non-null  float64\n",
      " 9   Dispense Volume(Stage3) Collect Result_Dam             17361 non-null  float64\n",
      " 10  Head Clean Position Z Collect Result_Dam               17361 non-null  float64\n",
      " 11  Head Purge Position Z Collect Result_Dam               17361 non-null  float64\n",
      " 12  Head Zero Position Y Collect Result_Dam                17361 non-null  float64\n",
      " 13  Head Zero Position Z Collect Result_Dam                17361 non-null  float64\n",
      " 14  WorkMode Collect Result                                17361 non-null  float64\n",
      " 15  1st Pressure Collect Result_AutoClave                  17361 non-null  float64\n",
      " 16  2nd Pressure Collect Result_AutoClave                  17361 non-null  float64\n",
      " 17  3rd Pressure Collect Result_AutoClave                  17361 non-null  float64\n",
      " 18  Chamber Temp. Collect Result_AutoClave                 17361 non-null  int64  \n",
      " 19  DISCHARGED SPEED OF RESIN Collect Result_Fill1         17361 non-null  float64\n",
      " 20  DISCHARGED TIME OF RESIN(Stage1) Collect Result_Fill1  17361 non-null  float64\n",
      " 21  DISCHARGED TIME OF RESIN(Stage2) Collect Result_Fill1  17361 non-null  float64\n",
      " 22  DISCHARGED TIME OF RESIN(Stage3) Collect Result_Fill1  17361 non-null  float64\n",
      " 23  Dispense Volume(Stage1) Collect Result_Fill1           17361 non-null  float64\n",
      " 24  Dispense Volume(Stage2) Collect Result_Fill1           17361 non-null  float64\n",
      " 25  Dispense Volume(Stage3) Collect Result_Fill1           17361 non-null  float64\n",
      " 26  Head Purge Position Z Collect Result_Fill1             17361 non-null  float64\n",
      " 27  Head Purge Position Z Collect Result_Fill2             17361 non-null  float64\n",
      " 28  target                                                 0 non-null      object \n",
      " 29  Dispenser_1                                            17361 non-null  int64  \n",
      " 30  Dispenser_2                                            17361 non-null  int64  \n",
      " 31  Receip_No_Collect_Result                               17361 non-null  float64\n",
      " 32  PalletID_Collect_Result                                17361 non-null  float64\n",
      " 33  Production_Qty_Collect_Result                          17361 non-null  float64\n",
      " 34  Chamber_Temp_OKNG_AutoClave                            17361 non-null  int64  \n",
      " 35  Judge_Value_OK                                         17361 non-null  int64  \n",
      " 36  CURE_Time_Dam                                          17361 non-null  float64\n",
      " 37  CURE_Time_Fill2                                        17361 non-null  float64\n",
      " 38  HEAD NORMAL DISTANCE_STAGE1_STAGE3_Dam                 17361 non-null  float64\n",
      " 39  HEAD NORMAL DISTANCE_TRIANGLE_height_Dam               17361 non-null  float64\n",
      " 40  HEAD NORMAL DISTANCE_STAGE1_STAGE3_Fill1               17361 non-null  float64\n",
      " 41  HEAD NORMAL DISTANCE_TRIANGLE_height_Fill1             17361 non-null  float64\n",
      " 42  HEAD NORMAL DISTANCE_STAGE1_STAGE2_Fill2               17361 non-null  float64\n",
      " 43  HEAD NORMAL DISTANCE_STAGE2_STAGE3_Fill2               17361 non-null  float64\n",
      " 44  HEAD NORMAL DISTANCE_STAGE1_STAGE3_Fill2               17361 non-null  float64\n",
      " 45  Stage1_Distance_Speed_avg_Dam                          17361 non-null  float64\n",
      " 46  Stage2_Distance_Speed_avg_Dam                          17361 non-null  float64\n",
      " 47  Stage3_Distance_Speed_avg_Dam                          17361 non-null  float64\n",
      " 48  THICKNESS_total_Dam                                    17361 non-null  float64\n",
      " 49  1st_Pressure_x_AutoClave                               17361 non-null  float64\n",
      " 50  2nd_Pressure_x_AutoClave                               17361 non-null  float64\n",
      " 51  3rd_Pressure_x_AutoClave                               17361 non-null  float64\n",
      " 52  All_Pressure_avg_AutoClave                             17361 non-null  float64\n",
      " 53  Chamber_Temp_x_AutoClave                               17361 non-null  int64  \n",
      " 54  All_Pressure_frac_Chamber_Temp_AutoClave               17361 non-null  float64\n",
      " 55  Workorder_0.9                                          17361 non-null  int64  \n",
      " 56  Workorder_0.6                                          17361 non-null  int64  \n",
      " 57  time_ratio_Dam                                         17361 non-null  float64\n",
      " 58  time_ratio_Fill1                                       17361 non-null  float64\n",
      " 59  time_ratio_Fill2                                       17361 non-null  float64\n",
      " 60  time_ratio_AutoClave                                   17361 non-null  float64\n",
      "dtypes: float64(50), int64(9), object(2)\n",
      "memory usage: 8.1+ MB\n"
     ]
    }
   ],
   "source": [
    "# train_data.info()\n",
    "print('---')\n",
    "test_data.info()"
   ]
  },
  {
   "cell_type": "markdown",
   "id": "4276e6df",
   "metadata": {},
   "source": [
    "## 데이터 분할"
   ]
  },
  {
   "cell_type": "code",
   "execution_count": 201,
   "id": "314cbecd",
   "metadata": {},
   "outputs": [
    {
     "name": "stdout",
     "output_type": "stream",
     "text": [
      "  \tAbnormal\tNormal\n",
      "  Total: Normal: 30524, AbNormal: 1880 ratio: 0.06159087930808544\n",
      "  Total: Normal: 7632, AbNormal: 470 ratio: 0.061582809224318656\n"
     ]
    }
   ],
   "source": [
    "df_train, df_val = train_test_split(\n",
    "    train_data,\n",
    "    test_size=0.2,\n",
    "    stratify=train_data[\"target\"],\n",
    "    shuffle=True,\n",
    "    random_state=RANDOM_STATE,\n",
    ")\n",
    "\n",
    "def print_stats(df: pd.DataFrame):\n",
    "    num_normal = len(df[df[\"target\"] == \"Normal\"])\n",
    "    num_abnormal = len(df[df[\"target\"] == \"AbNormal\"])\n",
    "\n",
    "    print(f\"  Total: Normal: {num_normal}, AbNormal: {num_abnormal}\" + f\" ratio: {num_abnormal/num_normal}\")\n",
    "\n",
    "\n",
    "# Print statistics\n",
    "print(f\"  \\tAbnormal\\tNormal\")\n",
    "print_stats(df_train)\n",
    "print_stats(df_val)"
   ]
  },
  {
   "cell_type": "code",
   "execution_count": 202,
   "id": "1771a777",
   "metadata": {},
   "outputs": [
    {
     "name": "stdout",
     "output_type": "stream",
     "text": [
      "<class 'pandas.core.frame.DataFrame'>\n",
      "RangeIndex: 40506 entries, 0 to 40505\n",
      "Data columns (total 60 columns):\n",
      " #   Column                                                 Non-Null Count  Dtype  \n",
      "---  ------                                                 --------------  -----  \n",
      " 0   Model.Suffix                                           40506 non-null  float64\n",
      " 1   Workorder                                              40506 non-null  float64\n",
      " 2   DISCHARGED SPEED OF RESIN Collect Result_Dam           40506 non-null  int64  \n",
      " 3   DISCHARGED TIME OF RESIN(Stage1) Collect Result_Dam    40506 non-null  float64\n",
      " 4   DISCHARGED TIME OF RESIN(Stage2) Collect Result_Dam    40506 non-null  float64\n",
      " 5   DISCHARGED TIME OF RESIN(Stage3) Collect Result_Dam    40506 non-null  float64\n",
      " 6   Dispense Volume(Stage1) Collect Result_Dam             40506 non-null  float64\n",
      " 7   Dispense Volume(Stage2) Collect Result_Dam             40506 non-null  float64\n",
      " 8   Dispense Volume(Stage3) Collect Result_Dam             40506 non-null  float64\n",
      " 9   Head Clean Position Z Collect Result_Dam               40506 non-null  float64\n",
      " 10  Head Purge Position Z Collect Result_Dam               40506 non-null  float64\n",
      " 11  Head Zero Position Y Collect Result_Dam                40506 non-null  float64\n",
      " 12  Head Zero Position Z Collect Result_Dam                40506 non-null  float64\n",
      " 13  WorkMode Collect Result                                40506 non-null  float64\n",
      " 14  1st Pressure Collect Result_AutoClave                  40506 non-null  float64\n",
      " 15  2nd Pressure Collect Result_AutoClave                  40506 non-null  float64\n",
      " 16  3rd Pressure Collect Result_AutoClave                  40506 non-null  float64\n",
      " 17  Chamber Temp. Collect Result_AutoClave                 40506 non-null  int64  \n",
      " 18  DISCHARGED SPEED OF RESIN Collect Result_Fill1         40506 non-null  float64\n",
      " 19  DISCHARGED TIME OF RESIN(Stage1) Collect Result_Fill1  40506 non-null  float64\n",
      " 20  DISCHARGED TIME OF RESIN(Stage2) Collect Result_Fill1  40506 non-null  float64\n",
      " 21  DISCHARGED TIME OF RESIN(Stage3) Collect Result_Fill1  40506 non-null  float64\n",
      " 22  Dispense Volume(Stage1) Collect Result_Fill1           40506 non-null  float64\n",
      " 23  Dispense Volume(Stage2) Collect Result_Fill1           40506 non-null  float64\n",
      " 24  Dispense Volume(Stage3) Collect Result_Fill1           40506 non-null  float64\n",
      " 25  Head Purge Position Z Collect Result_Fill1             40506 non-null  int64  \n",
      " 26  Head Purge Position Z Collect Result_Fill2             40506 non-null  float64\n",
      " 27  target                                                 40506 non-null  object \n",
      " 28  Dispenser_1                                            40506 non-null  int64  \n",
      " 29  Dispenser_2                                            40506 non-null  int64  \n",
      " 30  Receip_No_Collect_Result                               40506 non-null  int64  \n",
      " 31  PalletID_Collect_Result                                40506 non-null  int64  \n",
      " 32  Production_Qty_Collect_Result                          40506 non-null  int64  \n",
      " 33  Chamber_Temp_OKNG_AutoClave                            40506 non-null  int64  \n",
      " 34  Judge_Value_OK                                         40506 non-null  int64  \n",
      " 35  CURE_Time_Dam                                          40506 non-null  float64\n",
      " 36  CURE_Time_Fill2                                        40506 non-null  float64\n",
      " 37  HEAD NORMAL DISTANCE_STAGE1_STAGE3_Dam                 40506 non-null  float64\n",
      " 38  HEAD NORMAL DISTANCE_TRIANGLE_height_Dam               40506 non-null  float64\n",
      " 39  HEAD NORMAL DISTANCE_STAGE1_STAGE3_Fill1               40506 non-null  float64\n",
      " 40  HEAD NORMAL DISTANCE_TRIANGLE_height_Fill1             40506 non-null  float64\n",
      " 41  HEAD NORMAL DISTANCE_STAGE1_STAGE2_Fill2               40506 non-null  float64\n",
      " 42  HEAD NORMAL DISTANCE_STAGE2_STAGE3_Fill2               40506 non-null  float64\n",
      " 43  HEAD NORMAL DISTANCE_STAGE1_STAGE3_Fill2               40506 non-null  float64\n",
      " 44  Stage1_Distance_Speed_avg_Dam                          40506 non-null  float64\n",
      " 45  Stage2_Distance_Speed_avg_Dam                          40506 non-null  float64\n",
      " 46  Stage3_Distance_Speed_avg_Dam                          40506 non-null  float64\n",
      " 47  THICKNESS_total_Dam                                    40506 non-null  float64\n",
      " 48  1st_Pressure_x_AutoClave                               40506 non-null  float64\n",
      " 49  2nd_Pressure_x_AutoClave                               40506 non-null  float64\n",
      " 50  3rd_Pressure_x_AutoClave                               40506 non-null  float64\n",
      " 51  All_Pressure_avg_AutoClave                             40506 non-null  float64\n",
      " 52  Chamber_Temp_x_AutoClave                               40506 non-null  int64  \n",
      " 53  All_Pressure_frac_Chamber_Temp_AutoClave               40506 non-null  float64\n",
      " 54  Workorder_0.9                                          40506 non-null  int64  \n",
      " 55  Workorder_0.6                                          40506 non-null  int64  \n",
      " 56  time_ratio_Dam                                         40506 non-null  float64\n",
      " 57  time_ratio_Fill1                                       40506 non-null  float64\n",
      " 58  time_ratio_Fill2                                       40506 non-null  float64\n",
      " 59  time_ratio_AutoClave                                   40506 non-null  float64\n",
      "dtypes: float64(46), int64(13), object(1)\n",
      "memory usage: 18.5+ MB\n"
     ]
    }
   ],
   "source": [
    "train_data.info()"
   ]
  },
  {
   "cell_type": "markdown",
   "id": "644f718d",
   "metadata": {},
   "source": [
    "### 상관계수"
   ]
  },
  {
   "cell_type": "markdown",
   "id": "aef448d9",
   "metadata": {},
   "source": [
    "상관계수 0.7 이상 drop"
   ]
  },
  {
   "cell_type": "markdown",
   "id": "519265e7",
   "metadata": {},
   "source": [
    "공통 변수"
   ]
  },
  {
   "cell_type": "code",
   "execution_count": 203,
   "id": "67dbaff5",
   "metadata": {},
   "outputs": [],
   "source": [
    "com_variables = [\n",
    "    'Model.Suffix'\n",
    "    , 'Workorder'\n",
    "    , 'WorkMode Collect Result'\n",
    "    , 'Dispenser_1'\n",
    "    , 'Dispenser_2'\n",
    "    , 'Receip_No_Collect_Result'\n",
    "    , 'PalletID_Collect_Result'\n",
    "    , 'Production_Qty_Collect_Result'\n",
    "    , 'Judge_Value_OK'\n",
    "    , 'Workorder_0.9'\n",
    "    , 'Workorder_0.6'\n",
    "]\n",
    "\n",
    "# 변수들로만 이루어진 DataFrame 생성\n",
    "filtered_data = train_data[com_variables]"
   ]
  },
  {
   "cell_type": "code",
<<<<<<< HEAD:code_log/dongyoung_code/modeling/0816_Optuna_Dam.ipynb
   "execution_count": 204,
   "id": "99dbb2dc",
   "metadata": {},
   "outputs": [
    {
     "data": {
      "text/plain": [
       "0        0.049336\n",
       "1        0.049336\n",
       "2        0.056712\n",
       "3        0.056712\n",
       "4        0.056712\n",
       "           ...   \n",
       "40501    0.056712\n",
       "40502    0.056712\n",
       "40503    0.056712\n",
       "40504    0.056712\n",
       "40505    0.056712\n",
       "Name: Model.Suffix, Length: 40506, dtype: float64"
      ]
     },
     "execution_count": 204,
     "metadata": {},
     "output_type": "execute_result"
    }
   ],
   "source": [
    "filtered_data['Model.Suffix']"
   ]
  },
  {
   "cell_type": "code",
   "execution_count": 205,
=======
   "execution_count": 87,
>>>>>>> b30cabaa6d9263d9a527da31c1ff61ecd3a49b07:code_log/junehong_code/0817_Modeling_sep copy.ipynb
   "id": "cf966448",
   "metadata": {},
   "outputs": [
    {
     "name": "stdout",
     "output_type": "stream",
     "text": [
      "                Variable 1               Variable 2  Correlation\n",
      "0              Dispenser_2  PalletID_Collect_Result     0.860274\n",
      "1  PalletID_Collect_Result              Dispenser_2     0.860274\n"
     ]
    }
   ],
   "source": [
    "# 상관계수 행렬 계산\n",
    "correlation_matrix = filtered_data.corr()\n",
    "\n",
    "# 자기자신을 제외하고 특정 값 이상인 조합 찾기\n",
    "strong_correlations = correlation_matrix[(correlation_matrix >= 0.7) & (correlation_matrix != 1)]\n",
    "\n",
    "# 리스트로 변환\n",
    "strong_correlations_pairs = strong_correlations.stack().reset_index()\n",
    "strong_correlations_pairs.columns = ['Variable 1', 'Variable 2', 'Correlation']\n",
    "\n",
    "# 결과 출력\n",
    "strong_correlations_pairs = strong_correlations_pairs[strong_correlations_pairs['Correlation'] >= 0.7]\n",
    "print(strong_correlations_pairs)"
   ]
  },
  {
   "cell_type": "code",
<<<<<<< HEAD:code_log/dongyoung_code/modeling/0816_Optuna_Dam.ipynb
   "execution_count": 206,
=======
   "execution_count": 88,
>>>>>>> b30cabaa6d9263d9a527da31c1ff61ecd3a49b07:code_log/junehong_code/0817_Modeling_sep copy.ipynb
   "id": "105fe344",
   "metadata": {},
   "outputs": [],
   "source": [
    "# 변수 삭제\n",
    "train_data.drop(['PalletID_Collect_Result'], axis=1, inplace=True)\n",
    "test_data.drop(['PalletID_Collect_Result'], axis=1, inplace=True)"
   ]
  },
  {
   "cell_type": "code",
<<<<<<< HEAD:code_log/dongyoung_code/modeling/0816_Optuna_Dam.ipynb
   "execution_count": 207,
=======
   "execution_count": 89,
>>>>>>> b30cabaa6d9263d9a527da31c1ff61ecd3a49b07:code_log/junehong_code/0817_Modeling_sep copy.ipynb
   "id": "807ffaf5",
   "metadata": {},
   "outputs": [],
   "source": [
    "# 공통 변수 리스트\n",
    "com_variables_train = [\n",
    "    'target'\n",
    "    , 'Model.Suffix'\n",
    "    , 'Workorder'\n",
    "    , 'WorkMode Collect Result'\n",
    "    , 'Dispenser_1'\n",
    "    , 'Dispenser_2'\n",
    "    , 'Receip_No_Collect_Result'\n",
    "    # , 'PalletID_Collect_Result'\n",
    "    , 'Production_Qty_Collect_Result'\n",
    "    , 'Judge_Value_OK'\n",
    "    , 'Workorder_0.9'\n",
    "    , 'Workorder_0.6'\n",
    "]\n",
    "\n",
    "com_variables_test = [\n",
    "    'target'\n",
    "    , 'Set ID'\n",
    "    , 'Model.Suffix'\n",
    "    , 'Workorder'\n",
    "    , 'WorkMode Collect Result'\n",
    "    , 'Dispenser_1'\n",
    "    , 'Dispenser_2'\n",
    "    , 'Receip_No_Collect_Result'\n",
    "    # , 'PalletID_Collect_Result'\n",
    "    , 'Production_Qty_Collect_Result'\n",
    "    , 'Judge_Value_OK'\n",
    "    , 'Workorder_0.9'\n",
    "    , 'Workorder_0.6'\n",
    "]"
   ]
  },
  {
   "cell_type": "markdown",
   "id": "2955d978",
   "metadata": {},
   "source": [
    "Dam"
   ]
  },
  {
   "cell_type": "code",
<<<<<<< HEAD:code_log/dongyoung_code/modeling/0816_Optuna_Dam.ipynb
   "execution_count": 208,
=======
   "execution_count": 90,
>>>>>>> b30cabaa6d9263d9a527da31c1ff61ecd3a49b07:code_log/junehong_code/0817_Modeling_sep copy.ipynb
   "id": "3b5911a8",
   "metadata": {},
   "outputs": [
    {
     "name": "stdout",
     "output_type": "stream",
     "text": [
      "<Dam 공정 관련 변수>\n",
      "DISCHARGED SPEED OF RESIN Collect Result_Dam\n",
      "DISCHARGED TIME OF RESIN(Stage1) Collect Result_Dam\n",
      "DISCHARGED TIME OF RESIN(Stage2) Collect Result_Dam\n",
      "DISCHARGED TIME OF RESIN(Stage3) Collect Result_Dam\n",
      "Dispense Volume(Stage1) Collect Result_Dam\n",
      "Dispense Volume(Stage2) Collect Result_Dam\n",
      "Dispense Volume(Stage3) Collect Result_Dam\n",
      "Head Clean Position Z Collect Result_Dam\n",
      "Head Purge Position Z Collect Result_Dam\n",
      "Head Zero Position Y Collect Result_Dam\n",
      "Head Zero Position Z Collect Result_Dam\n",
      "CURE_Time_Dam\n",
      "HEAD NORMAL DISTANCE_STAGE1_STAGE3_Dam\n",
      "HEAD NORMAL DISTANCE_TRIANGLE_height_Dam\n",
      "Stage1_Distance_Speed_avg_Dam\n",
      "Stage2_Distance_Speed_avg_Dam\n",
      "Stage3_Distance_Speed_avg_Dam\n",
      "THICKNESS_total_Dam\n",
      "time_ratio_Dam\n"
     ]
    }
   ],
   "source": [
    "# 열 이름 필터링\n",
    "Process_Desc_col = train_data.filter(like='_Dam').columns\n",
    "\n",
    "# 필터링된 열 이름 출력\n",
    "print(\"<Dam 공정 관련 변수>\")\n",
    "for col in Process_Desc_col:\n",
    "    print(col)"
   ]
  },
  {
   "cell_type": "code",
<<<<<<< HEAD:code_log/dongyoung_code/modeling/0816_Optuna_Dam.ipynb
   "execution_count": 209,
=======
   "execution_count": 91,
>>>>>>> b30cabaa6d9263d9a527da31c1ff61ecd3a49b07:code_log/junehong_code/0817_Modeling_sep copy.ipynb
   "id": "5d01ad2e",
   "metadata": {},
   "outputs": [],
   "source": [
    "# 새로운 변수 목록\n",
    "variables = [\n",
    "    \"DISCHARGED SPEED OF RESIN Collect Result_Dam\",\n",
    "    \"DISCHARGED TIME OF RESIN(Stage1) Collect Result_Dam\",\n",
    "    \"DISCHARGED TIME OF RESIN(Stage2) Collect Result_Dam\",\n",
    "    \"DISCHARGED TIME OF RESIN(Stage3) Collect Result_Dam\",\n",
    "    \"Dispense Volume(Stage1) Collect Result_Dam\",\n",
    "    \"Dispense Volume(Stage2) Collect Result_Dam\",\n",
    "    \"Dispense Volume(Stage3) Collect Result_Dam\",\n",
    "    \"Head Clean Position Z Collect Result_Dam\",\n",
    "    \"Head Purge Position Z Collect Result_Dam\",\n",
    "    \"Head Zero Position Y Collect Result_Dam\",\n",
    "    \"Head Zero Position Z Collect Result_Dam\",\n",
    "    \"CURE_Time_Dam\",\n",
    "    \"HEAD NORMAL DISTANCE_STAGE1_STAGE3_Dam\",\n",
    "    \"HEAD NORMAL DISTANCE_TRIANGLE_height_Dam\",\n",
    "    \"Stage1_Distance_Speed_avg_Dam\",\n",
    "    \"Stage2_Distance_Speed_avg_Dam\",\n",
    "    \"Stage3_Distance_Speed_avg_Dam\",\n",
    "    \"THICKNESS_total_Dam\",\n",
    "    \"time_ratio_Dam\"\n",
    "]\n",
    "\n",
    "# 변수들로만 이루어진 DataFrame 생성\n",
    "filtered_data = train_data[variables]"
   ]
  },
  {
   "cell_type": "code",
<<<<<<< HEAD:code_log/dongyoung_code/modeling/0816_Optuna_Dam.ipynb
   "execution_count": 210,
=======
   "execution_count": 92,
>>>>>>> b30cabaa6d9263d9a527da31c1ff61ecd3a49b07:code_log/junehong_code/0817_Modeling_sep copy.ipynb
   "id": "96b98835",
   "metadata": {},
   "outputs": [
    {
     "name": "stdout",
     "output_type": "stream",
     "text": [
      "                                           Variable 1  \\\n",
      "0        DISCHARGED SPEED OF RESIN Collect Result_Dam   \n",
      "1   DISCHARGED TIME OF RESIN(Stage1) Collect Resul...   \n",
      "2   DISCHARGED TIME OF RESIN(Stage1) Collect Resul...   \n",
      "3   DISCHARGED TIME OF RESIN(Stage2) Collect Resul...   \n",
      "4   DISCHARGED TIME OF RESIN(Stage3) Collect Resul...   \n",
      "5   DISCHARGED TIME OF RESIN(Stage3) Collect Resul...   \n",
      "6          Dispense Volume(Stage1) Collect Result_Dam   \n",
      "7          Dispense Volume(Stage1) Collect Result_Dam   \n",
      "8          Dispense Volume(Stage1) Collect Result_Dam   \n",
      "9          Dispense Volume(Stage2) Collect Result_Dam   \n",
      "10         Dispense Volume(Stage2) Collect Result_Dam   \n",
      "11           Head Clean Position Z Collect Result_Dam   \n",
      "12            Head Zero Position Z Collect Result_Dam   \n",
      "13                                      CURE_Time_Dam   \n",
      "14                      Stage1_Distance_Speed_avg_Dam   \n",
      "15                      Stage3_Distance_Speed_avg_Dam   \n",
      "\n",
      "                                           Variable 2  Correlation  \n",
      "0             Head Zero Position Z Collect Result_Dam     0.808023  \n",
      "1   DISCHARGED TIME OF RESIN(Stage3) Collect Resul...     0.999476  \n",
      "2          Dispense Volume(Stage1) Collect Result_Dam     0.788676  \n",
      "3          Dispense Volume(Stage2) Collect Result_Dam     0.823917  \n",
      "4   DISCHARGED TIME OF RESIN(Stage1) Collect Resul...     0.999476  \n",
      "5          Dispense Volume(Stage1) Collect Result_Dam     0.783575  \n",
      "6   DISCHARGED TIME OF RESIN(Stage1) Collect Resul...     0.788676  \n",
      "7   DISCHARGED TIME OF RESIN(Stage3) Collect Resul...     0.783575  \n",
      "8          Dispense Volume(Stage2) Collect Result_Dam     0.767858  \n",
      "9   DISCHARGED TIME OF RESIN(Stage2) Collect Resul...     0.823917  \n",
      "10         Dispense Volume(Stage1) Collect Result_Dam     0.767858  \n",
      "11                                      CURE_Time_Dam     0.729409  \n",
      "12       DISCHARGED SPEED OF RESIN Collect Result_Dam     0.808023  \n",
      "13           Head Clean Position Z Collect Result_Dam     0.729409  \n",
      "14                      Stage3_Distance_Speed_avg_Dam     0.999898  \n",
      "15                      Stage1_Distance_Speed_avg_Dam     0.999898  \n"
     ]
    }
   ],
   "source": [
    "# 상관계수 행렬 계산\n",
    "correlation_matrix = filtered_data.corr()\n",
    "\n",
    "# 자기자신을 제외하고 특정 값 이상인 조합 찾기\n",
    "strong_correlations = correlation_matrix[(correlation_matrix >= 0.7) & (correlation_matrix != 1)]\n",
    "\n",
    "# 리스트로 변환\n",
    "strong_correlations_pairs = strong_correlations.stack().reset_index()\n",
    "strong_correlations_pairs.columns = ['Variable 1', 'Variable 2', 'Correlation']\n",
    "\n",
    "# 결과 출력\n",
    "strong_correlations_pairs = strong_correlations_pairs[strong_correlations_pairs['Correlation'] >= 0.7]\n",
    "print(strong_correlations_pairs)"
   ]
  },
  {
   "cell_type": "code",
<<<<<<< HEAD:code_log/dongyoung_code/modeling/0816_Optuna_Dam.ipynb
   "execution_count": 211,
=======
   "execution_count": 93,
>>>>>>> b30cabaa6d9263d9a527da31c1ff61ecd3a49b07:code_log/junehong_code/0817_Modeling_sep copy.ipynb
   "id": "749bda8b",
   "metadata": {},
   "outputs": [],
   "source": [
    "# 드랍할 열 목록\n",
    "columns_to_drop = [\n",
    "    \"DISCHARGED TIME OF RESIN(Stage1) Collect Result_Dam\"\n",
    "    , \"DISCHARGED TIME OF RESIN(Stage2) Collect Result_Dam\"\n",
    "    , \"DISCHARGED TIME OF RESIN(Stage3) Collect Result_Dam\"\n",
    "    , \"Dispense Volume(Stage1) Collect Result_Dam\"\n",
    "    , \"Head Clean Position Z Collect Result_Dam\"\n",
    "    , \"Head Zero Position Z Collect Result_Dam\"\n",
    "    , \"Stage3_Distance_Speed_avg_Dam\"\n",
    "]\n",
    "\n",
    "# 열 삭제\n",
    "train_data.drop(columns=columns_to_drop, inplace=True, errors='ignore')\n",
    "test_data.drop(columns=columns_to_drop, inplace=True, errors='ignore')"
   ]
  },
  {
   "cell_type": "markdown",
   "id": "df9bf106",
   "metadata": {},
   "source": [
    "AutoCalve"
   ]
  },
  {
   "cell_type": "code",
<<<<<<< HEAD:code_log/dongyoung_code/modeling/0816_Optuna_Dam.ipynb
   "execution_count": 212,
=======
   "execution_count": 94,
>>>>>>> b30cabaa6d9263d9a527da31c1ff61ecd3a49b07:code_log/junehong_code/0817_Modeling_sep copy.ipynb
   "id": "f80651a8",
   "metadata": {},
   "outputs": [
    {
     "name": "stdout",
     "output_type": "stream",
     "text": [
      "<AutoClave 공정 관련 변수>\n",
      "1st Pressure Collect Result_AutoClave\n",
      "2nd Pressure Collect Result_AutoClave\n",
      "3rd Pressure Collect Result_AutoClave\n",
      "Chamber Temp. Collect Result_AutoClave\n",
      "Chamber_Temp_OKNG_AutoClave\n",
      "1st_Pressure_x_AutoClave\n",
      "2nd_Pressure_x_AutoClave\n",
      "3rd_Pressure_x_AutoClave\n",
      "All_Pressure_avg_AutoClave\n",
      "Chamber_Temp_x_AutoClave\n",
      "All_Pressure_frac_Chamber_Temp_AutoClave\n",
      "time_ratio_AutoClave\n"
     ]
    }
   ],
   "source": [
    "# 열 이름 필터링\n",
    "Process_Desc_col = train_data.filter(like='_AutoClave').columns\n",
    "\n",
    "# 필터링된 열 이름 출력\n",
    "print(\"<AutoClave 공정 관련 변수>\")\n",
    "for col in Process_Desc_col:\n",
    "    print(col)"
   ]
  },
  {
   "cell_type": "code",
<<<<<<< HEAD:code_log/dongyoung_code/modeling/0816_Optuna_Dam.ipynb
   "execution_count": 213,
=======
   "execution_count": 95,
>>>>>>> b30cabaa6d9263d9a527da31c1ff61ecd3a49b07:code_log/junehong_code/0817_Modeling_sep copy.ipynb
   "id": "566073bc",
   "metadata": {},
   "outputs": [],
   "source": [
    "# 새로운 변수 목록\n",
    "variables = [\n",
    "    \"1st Pressure Collect Result_AutoClave\"\n",
    "    , \"2nd Pressure Collect Result_AutoClave\"\n",
    "    , \"3rd Pressure Collect Result_AutoClave\"\n",
    "    , \"Chamber Temp. Collect Result_AutoClave\"\n",
    "    , \"Chamber_Temp_OKNG_AutoClave\"\n",
    "    , \"1st_Pressure_x_AutoClave\"\n",
    "    , \"2nd_Pressure_x_AutoClave\"\n",
    "    , \"3rd_Pressure_x_AutoClave\"\n",
    "    , \"All_Pressure_avg_AutoClave\"\n",
    "    , \"Chamber_Temp_x_AutoClave\"\n",
    "    , \"All_Pressure_frac_Chamber_Temp_AutoClave\"\n",
    "    , \"time_ratio_AutoClave\"\n",
    "]\n",
    "\n",
    "# 변수들로만 이루어진 DataFrame 생성\n",
    "filtered_data = train_data[variables]"
   ]
  },
  {
   "cell_type": "code",
<<<<<<< HEAD:code_log/dongyoung_code/modeling/0816_Optuna_Dam.ipynb
   "execution_count": 214,
=======
   "execution_count": 96,
>>>>>>> b30cabaa6d9263d9a527da31c1ff61ecd3a49b07:code_log/junehong_code/0817_Modeling_sep copy.ipynb
   "id": "290c852f",
   "metadata": {},
   "outputs": [
    {
     "name": "stdout",
     "output_type": "stream",
     "text": [
      "                               Variable 1  \\\n",
      "0  Chamber Temp. Collect Result_AutoClave   \n",
      "1             Chamber_Temp_OKNG_AutoClave   \n",
      "2                2nd_Pressure_x_AutoClave   \n",
      "3                Chamber_Temp_x_AutoClave   \n",
      "\n",
      "                               Variable 2  Correlation  \n",
      "0             Chamber_Temp_OKNG_AutoClave     0.742841  \n",
      "1  Chamber Temp. Collect Result_AutoClave     0.742841  \n",
      "2                Chamber_Temp_x_AutoClave     0.804096  \n",
      "3                2nd_Pressure_x_AutoClave     0.804096  \n"
     ]
    }
   ],
   "source": [
    "# 상관계수 행렬 계산\n",
    "correlation_matrix = filtered_data.corr()\n",
    "\n",
    "# 자기자신을 제외하고 특정 값 이상인 조합 찾기\n",
    "strong_correlations = correlation_matrix[(correlation_matrix >= 0.7) & (correlation_matrix != 1)]\n",
    "\n",
    "# 리스트로 변환\n",
    "strong_correlations_pairs = strong_correlations.stack().reset_index()\n",
    "strong_correlations_pairs.columns = ['Variable 1', 'Variable 2', 'Correlation']\n",
    "\n",
    "# 결과 출력\n",
    "strong_correlations_pairs = strong_correlations_pairs[strong_correlations_pairs['Correlation'] >= 0.7]\n",
    "print(strong_correlations_pairs)"
   ]
  },
  {
   "cell_type": "code",
<<<<<<< HEAD:code_log/dongyoung_code/modeling/0816_Optuna_Dam.ipynb
   "execution_count": 215,
=======
   "execution_count": 97,
>>>>>>> b30cabaa6d9263d9a527da31c1ff61ecd3a49b07:code_log/junehong_code/0817_Modeling_sep copy.ipynb
   "id": "fff17e1a",
   "metadata": {},
   "outputs": [],
   "source": [
    "# 드랍할 열 목록\n",
    "columns_to_drop = [\n",
    "    \"2nd_Pressure_x_AutoClave\"\n",
    "    , 'Chamber_Temp_OKNG_AutoClave'\n",
    "    , 'Chamber_Temp_x_AutoClave'\n",
    "]\n",
    "\n",
    "# 열 삭제\n",
    "train_data.drop(columns=columns_to_drop, inplace=True, errors='ignore')\n",
    "test_data.drop(columns=columns_to_drop, inplace=True, errors='ignore')"
   ]
  },
  {
   "cell_type": "markdown",
   "id": "1fa86a4b",
   "metadata": {},
   "source": [
    "Fill1"
   ]
  },
  {
   "cell_type": "code",
<<<<<<< HEAD:code_log/dongyoung_code/modeling/0816_Optuna_Dam.ipynb
   "execution_count": 216,
=======
   "execution_count": 98,
>>>>>>> b30cabaa6d9263d9a527da31c1ff61ecd3a49b07:code_log/junehong_code/0817_Modeling_sep copy.ipynb
   "id": "a03bc6de",
   "metadata": {},
   "outputs": [
    {
     "name": "stdout",
     "output_type": "stream",
     "text": [
      "<Fill1 공정 관련 변수>\n",
      "DISCHARGED SPEED OF RESIN Collect Result_Fill1\n",
      "DISCHARGED TIME OF RESIN(Stage1) Collect Result_Fill1\n",
      "DISCHARGED TIME OF RESIN(Stage2) Collect Result_Fill1\n",
      "DISCHARGED TIME OF RESIN(Stage3) Collect Result_Fill1\n",
      "Dispense Volume(Stage1) Collect Result_Fill1\n",
      "Dispense Volume(Stage2) Collect Result_Fill1\n",
      "Dispense Volume(Stage3) Collect Result_Fill1\n",
      "Head Purge Position Z Collect Result_Fill1\n",
      "HEAD NORMAL DISTANCE_STAGE1_STAGE3_Fill1\n",
      "HEAD NORMAL DISTANCE_TRIANGLE_height_Fill1\n",
      "time_ratio_Fill1\n"
     ]
    }
   ],
   "source": [
    "# 열 이름 필터링\n",
    "Process_Desc_col = train_data.filter(like='_Fill1').columns\n",
    "\n",
    "# 필터링된 열 이름 출력\n",
    "print(\"<Fill1 공정 관련 변수>\")\n",
    "for col in Process_Desc_col:\n",
    "    print(col)"
   ]
  },
  {
   "cell_type": "code",
<<<<<<< HEAD:code_log/dongyoung_code/modeling/0816_Optuna_Dam.ipynb
   "execution_count": 217,
=======
   "execution_count": 99,
>>>>>>> b30cabaa6d9263d9a527da31c1ff61ecd3a49b07:code_log/junehong_code/0817_Modeling_sep copy.ipynb
   "id": "3fa145f8",
   "metadata": {},
   "outputs": [],
   "source": [
    "# 새로운 변수 목록\n",
    "variables = [\n",
    "    \"DISCHARGED SPEED OF RESIN Collect Result_Fill1\",\n",
    "    \"DISCHARGED TIME OF RESIN(Stage1) Collect Result_Fill1\",\n",
    "    \"DISCHARGED TIME OF RESIN(Stage2) Collect Result_Fill1\",\n",
    "    \"DISCHARGED TIME OF RESIN(Stage3) Collect Result_Fill1\",\n",
    "    \"Dispense Volume(Stage1) Collect Result_Fill1\",\n",
    "    \"Dispense Volume(Stage2) Collect Result_Fill1\",\n",
    "    \"Dispense Volume(Stage3) Collect Result_Fill1\",\n",
    "    \"Head Purge Position Z Collect Result_Fill1\",\n",
    "    \"HEAD NORMAL DISTANCE_STAGE1_STAGE3_Fill1\",\n",
    "    \"HEAD NORMAL DISTANCE_TRIANGLE_height_Fill1\",\n",
    "    \"time_ratio_Fill1\"\n",
    "]\n",
    "\n",
    "# 변수들로만 이루어진 DataFrame 생성\n",
    "filtered_data = train_data[variables]"
   ]
  },
  {
   "cell_type": "code",
<<<<<<< HEAD:code_log/dongyoung_code/modeling/0816_Optuna_Dam.ipynb
   "execution_count": 218,
=======
   "execution_count": 100,
>>>>>>> b30cabaa6d9263d9a527da31c1ff61ecd3a49b07:code_log/junehong_code/0817_Modeling_sep copy.ipynb
   "id": "0e3d6b34",
   "metadata": {},
   "outputs": [
    {
     "name": "stdout",
     "output_type": "stream",
     "text": [
      "                                          Variable 1  \\\n",
      "0  DISCHARGED TIME OF RESIN(Stage1) Collect Resul...   \n",
      "1  DISCHARGED TIME OF RESIN(Stage2) Collect Resul...   \n",
      "2       Dispense Volume(Stage1) Collect Result_Fill1   \n",
      "3       Dispense Volume(Stage1) Collect Result_Fill1   \n",
      "4       Dispense Volume(Stage2) Collect Result_Fill1   \n",
      "5           HEAD NORMAL DISTANCE_STAGE1_STAGE3_Fill1   \n",
      "\n",
      "                                          Variable 2  Correlation  \n",
      "0       Dispense Volume(Stage1) Collect Result_Fill1     0.834402  \n",
      "1       Dispense Volume(Stage2) Collect Result_Fill1     0.988529  \n",
      "2  DISCHARGED TIME OF RESIN(Stage1) Collect Resul...     0.834402  \n",
      "3           HEAD NORMAL DISTANCE_STAGE1_STAGE3_Fill1     0.763230  \n",
      "4  DISCHARGED TIME OF RESIN(Stage2) Collect Resul...     0.988529  \n",
      "5       Dispense Volume(Stage1) Collect Result_Fill1     0.763230  \n"
     ]
    }
   ],
   "source": [
    "# 상관계수 행렬 계산\n",
    "correlation_matrix = filtered_data.corr()\n",
    "\n",
    "# 자기자신을 제외하고 특정 값 이상인 조합 찾기\n",
    "strong_correlations = correlation_matrix[(correlation_matrix >= 0.7) & (correlation_matrix != 1)]\n",
    "\n",
    "# 리스트로 변환\n",
    "strong_correlations_pairs = strong_correlations.stack().reset_index()\n",
    "strong_correlations_pairs.columns = ['Variable 1', 'Variable 2', 'Correlation']\n",
    "\n",
    "# 결과 출력\n",
    "strong_correlations_pairs = strong_correlations_pairs[strong_correlations_pairs['Correlation'] >= 0.7]\n",
    "print(strong_correlations_pairs)"
   ]
  },
  {
   "cell_type": "code",
<<<<<<< HEAD:code_log/dongyoung_code/modeling/0816_Optuna_Dam.ipynb
   "execution_count": 219,
=======
   "execution_count": 101,
>>>>>>> b30cabaa6d9263d9a527da31c1ff61ecd3a49b07:code_log/junehong_code/0817_Modeling_sep copy.ipynb
   "id": "5e63aa21",
   "metadata": {},
   "outputs": [],
   "source": [
    "# 드랍할 열 목록\n",
    "columns_to_drop = [\n",
    "    \"Dispense Volume(Stage1) Collect Result_Fill1\"\n",
    "    , \"Dispense Volume(Stage2) Collect Result_Fill1\"\n",
    "]\n",
    "\n",
    "# 열 삭제\n",
    "train_data.drop(columns=columns_to_drop, inplace=True, errors='ignore')\n",
    "test_data.drop(columns=columns_to_drop, inplace=True, errors='ignore')"
   ]
  },
  {
   "cell_type": "markdown",
   "id": "04408756",
   "metadata": {},
   "source": [
    "Fill2"
   ]
  },
  {
   "cell_type": "code",
<<<<<<< HEAD:code_log/dongyoung_code/modeling/0816_Optuna_Dam.ipynb
   "execution_count": 220,
=======
   "execution_count": 102,
>>>>>>> b30cabaa6d9263d9a527da31c1ff61ecd3a49b07:code_log/junehong_code/0817_Modeling_sep copy.ipynb
   "id": "04ce5f7d",
   "metadata": {},
   "outputs": [
    {
     "name": "stdout",
     "output_type": "stream",
     "text": [
      "<Fill1 공정 관련 변수>\n",
      "Head Purge Position Z Collect Result_Fill2\n",
      "CURE_Time_Fill2\n",
      "HEAD NORMAL DISTANCE_STAGE1_STAGE2_Fill2\n",
      "HEAD NORMAL DISTANCE_STAGE2_STAGE3_Fill2\n",
      "HEAD NORMAL DISTANCE_STAGE1_STAGE3_Fill2\n",
      "time_ratio_Fill2\n"
     ]
    }
   ],
   "source": [
    "# 열 이름 필터링\n",
    "Process_Desc_col = train_data.filter(like='_Fill2').columns\n",
    "\n",
    "# 필터링된 열 이름 출력\n",
    "print(\"<Fill1 공정 관련 변수>\")\n",
    "for col in Process_Desc_col:\n",
    "    print(col)"
   ]
  },
  {
   "cell_type": "code",
<<<<<<< HEAD:code_log/dongyoung_code/modeling/0816_Optuna_Dam.ipynb
   "execution_count": 221,
=======
   "execution_count": 103,
>>>>>>> b30cabaa6d9263d9a527da31c1ff61ecd3a49b07:code_log/junehong_code/0817_Modeling_sep copy.ipynb
   "id": "dfb13c1a",
   "metadata": {},
   "outputs": [],
   "source": [
    "# 새로운 변수 목록\n",
    "variables = [\n",
    "    \"Head Purge Position Z Collect Result_Fill2\"\n",
    "    , \"CURE_Time_Fill2\"\n",
    "    , \"HEAD NORMAL DISTANCE_STAGE1_STAGE2_Fill2\"\n",
    "    , \"HEAD NORMAL DISTANCE_STAGE2_STAGE3_Fill2\"\n",
    "    , \"HEAD NORMAL DISTANCE_STAGE1_STAGE3_Fill2\"\n",
    "    , \"time_ratio_Fill2\"\n",
    "]\n",
    "\n",
    "# 변수들로만 이루어진 DataFrame 생성\n",
    "filtered_data = train_data[variables]"
   ]
  },
  {
   "cell_type": "code",
<<<<<<< HEAD:code_log/dongyoung_code/modeling/0816_Optuna_Dam.ipynb
   "execution_count": 222,
=======
   "execution_count": 104,
>>>>>>> b30cabaa6d9263d9a527da31c1ff61ecd3a49b07:code_log/junehong_code/0817_Modeling_sep copy.ipynb
   "id": "6ec9d4a8",
   "metadata": {},
   "outputs": [
    {
     "name": "stdout",
     "output_type": "stream",
     "text": [
      "                                 Variable 1  \\\n",
      "0  HEAD NORMAL DISTANCE_STAGE1_STAGE2_Fill2   \n",
      "1  HEAD NORMAL DISTANCE_STAGE1_STAGE2_Fill2   \n",
      "2  HEAD NORMAL DISTANCE_STAGE2_STAGE3_Fill2   \n",
      "3  HEAD NORMAL DISTANCE_STAGE2_STAGE3_Fill2   \n",
      "4  HEAD NORMAL DISTANCE_STAGE1_STAGE3_Fill2   \n",
      "5  HEAD NORMAL DISTANCE_STAGE1_STAGE3_Fill2   \n",
      "\n",
      "                                 Variable 2  Correlation  \n",
      "0  HEAD NORMAL DISTANCE_STAGE2_STAGE3_Fill2     0.999993  \n",
      "1  HEAD NORMAL DISTANCE_STAGE1_STAGE3_Fill2     0.999999  \n",
      "2  HEAD NORMAL DISTANCE_STAGE1_STAGE2_Fill2     0.999993  \n",
      "3  HEAD NORMAL DISTANCE_STAGE1_STAGE3_Fill2     0.999997  \n",
      "4  HEAD NORMAL DISTANCE_STAGE1_STAGE2_Fill2     0.999999  \n",
      "5  HEAD NORMAL DISTANCE_STAGE2_STAGE3_Fill2     0.999997  \n"
     ]
    }
   ],
   "source": [
    "# 상관계수 행렬 계산\n",
    "correlation_matrix = filtered_data.corr()\n",
    "\n",
    "# 자기자신을 제외하고 특정 값 이상인 조합 찾기\n",
    "strong_correlations = correlation_matrix[(correlation_matrix >= 0.7) & (correlation_matrix != 1)]\n",
    "\n",
    "# 리스트로 변환\n",
    "strong_correlations_pairs = strong_correlations.stack().reset_index()\n",
    "strong_correlations_pairs.columns = ['Variable 1', 'Variable 2', 'Correlation']\n",
    "\n",
    "# 결과 출력\n",
    "strong_correlations_pairs = strong_correlations_pairs[strong_correlations_pairs['Correlation'] >= 0.7]\n",
    "print(strong_correlations_pairs)"
   ]
  },
  {
   "cell_type": "code",
<<<<<<< HEAD:code_log/dongyoung_code/modeling/0816_Optuna_Dam.ipynb
   "execution_count": 223,
=======
   "execution_count": 105,
>>>>>>> b30cabaa6d9263d9a527da31c1ff61ecd3a49b07:code_log/junehong_code/0817_Modeling_sep copy.ipynb
   "id": "7c533e10",
   "metadata": {},
   "outputs": [],
   "source": [
    "# 드랍할 열 목록\n",
    "columns_to_drop = [\n",
    "    \"HEAD NORMAL DISTANCE_STAGE1_STAGE2_Fill2\",\n",
    "    \"HEAD NORMAL DISTANCE_STAGE2_STAGE3_Fill2\"\n",
    "]\n",
    "\n",
    "# 열 삭제\n",
    "train_data.drop(columns=columns_to_drop, inplace=True, errors='ignore')\n",
    "test_data.drop(columns=columns_to_drop, inplace=True, errors='ignore')"
   ]
  },
  {
   "cell_type": "markdown",
   "id": "8c32095b",
   "metadata": {},
   "source": [
    "공정별 변수 + 공통 변수 결합  \n",
    "-> 총 4개의 데이터셋을 구성하고 각 데이터셋 마다 train,test 를 만듬"
   ]
  },
  {
   "cell_type": "code",
<<<<<<< HEAD:code_log/dongyoung_code/modeling/0816_Optuna_Dam.ipynb
   "execution_count": 224,
=======
   "execution_count": 106,
   "id": "b69f3b0d",
   "metadata": {},
   "outputs": [],
   "source": [
    "# CSV 파일로 저장\n",
    "train_data.to_csv('train_data_0816.csv', index=False)\n",
    "test_data.to_csv('test_data_0816.csv', index=False)"
   ]
  },
  {
   "cell_type": "code",
   "execution_count": 107,
>>>>>>> b30cabaa6d9263d9a527da31c1ff61ecd3a49b07:code_log/junehong_code/0817_Modeling_sep copy.ipynb
   "id": "84f9c1c4",
   "metadata": {},
   "outputs": [],
   "source": [
    "# 공정 이름 필터링 후 공통 변수와 결합\n",
    "def create_dataset(train_data, test_data, process_name, com_variables_train, com_variables_test):\n",
    "    # 열 이름 필터링\n",
    "    Process_Desc_col = train_data.filter(like=process_name).columns\n",
    "    \n",
    "    # train 데이터셋 생성\n",
    "    final_columns_train = list(Process_Desc_col) + com_variables_train\n",
    "    train_dataset = train_data[final_columns_train]\n",
    "    \n",
    "    # test 데이터셋 생성\n",
    "    final_columns_test = list(Process_Desc_col) + com_variables_test\n",
    "    test_dataset = test_data[final_columns_test]\n",
    "    \n",
    "    return train_dataset, test_dataset\n",
    "\n",
    "# 공통 변수 정의\n",
    "## com_variables_train = [...]  -> 이전 코드에서 정의한 변수 사용\n",
    "## com_variables_test = [...]   -> 이전 코드에서 정의한 변수 사용\n",
    "\n",
    "# 데이터셋 생성\n",
    "train_data_dam, test_data_dam = create_dataset(train_data, test_data, '_Dam', com_variables_train, com_variables_test)\n",
    "train_data_fill1, test_data_fill1 = create_dataset(train_data, test_data, '_Fill1', com_variables_train, com_variables_test)\n",
    "train_data_fill2, test_data_fill2 = create_dataset(train_data, test_data, '_Fill2', com_variables_train, com_variables_test)\n",
    "train_data_autoclave, test_data_autoclave = create_dataset(train_data, test_data, '_AutoClave', com_variables_train, com_variables_test)"
   ]
  },
  {
   "cell_type": "markdown",
   "id": "5c4e5b59",
   "metadata": {},
   "source": [
    "## 3. 모델 학습"
   ]
  },
  {
   "cell_type": "markdown",
   "id": "cfaa06da",
   "metadata": {},
   "source": [
    "### 모델 정의"
   ]
  },
  {
   "cell_type": "code",
   "execution_count": 225,
   "id": "fb9e8f54",
   "metadata": {},
   "outputs": [],
   "source": [
    "from sklearn.metrics import (\n",
    "    accuracy_score,\n",
    "    confusion_matrix,\n",
    "    f1_score,\n",
    "    precision_score,\n",
    "    recall_score,\n",
    ")\n",
    "\n",
    "def get_clf_eval(y_test, y_pred_proba, threshold=0.5):\n",
    "    # 확률을 기준으로 예측 레이블 생성\n",
    "    y_pred = (y_pred_proba >= threshold).astype(int)  # 0.5 이상의 확률을 양성으로 간주\n",
    "\n",
    "    confusion = confusion_matrix(y_test, y_pred)\n",
    "    accuracy = accuracy_score(y_test, y_pred)\n",
    "    precision = precision_score(y_test, y_pred)\n",
    "    recall = recall_score(y_test, y_pred)\n",
    "    f1 = f1_score(y_test, y_pred)\n",
    "\n",
    "    print(\"Confusion Matrix:\\n\", confusion)\n",
    "    print(f\"Accuracy: {accuracy:.4f}\")\n",
    "    print(f\"Precision: {precision:.4f}\")\n",
    "    print(f\"Recall: {recall:.4f}\")\n",
    "    print(f\"F1 Score: {f1:.4f}\")\n"
   ]
  },
  {
<<<<<<< HEAD:code_log/dongyoung_code/modeling/0816_Optuna_Dam.ipynb
   "cell_type": "code",
   "execution_count": 226,
   "id": "d10c5108",
   "metadata": {},
   "outputs": [
    {
     "name": "stderr",
     "output_type": "stream",
     "text": [
      "C:\\Users\\KimDongyoung\\AppData\\Local\\Temp\\ipykernel_1704\\226710816.py:2: SettingWithCopyWarning: \n",
      "A value is trying to be set on a copy of a slice from a DataFrame.\n",
      "Try using .loc[row_indexer,col_indexer] = value instead\n",
      "\n",
      "See the caveats in the documentation: https://pandas.pydata.org/pandas-docs/stable/user_guide/indexing.html#returning-a-view-versus-a-copy\n",
      "  train_data_dam['target'] = train_data_dam['target'].map({'Normal': 0, 'AbNormal': 1})\n",
      "[I 2024-08-17 01:33:24,963] A new study created in memory with name: no-name-82493a55-8dbb-4468-92a3-e21c54fc9d39\n"
     ]
    },
    {
     "name": "stderr",
     "output_type": "stream",
     "text": [
      "[I 2024-08-17 01:33:25,032] Trial 0 finished with value: 0.1455301455301455 and parameters: {'max_depth': 5, 'min_samples_split': 21, 'min_samples_leaf': 4, 'max_features': None, 'splitter': 'best', 'criterion': 'gini'}. Best is trial 0 with value: 0.1455301455301455.\n",
      "[I 2024-08-17 01:33:25,084] Trial 1 finished with value: 0.156 and parameters: {'max_depth': 13, 'min_samples_split': 10, 'min_samples_leaf': 2, 'max_features': None, 'splitter': 'random', 'criterion': 'entropy'}. Best is trial 1 with value: 0.156.\n",
      "[I 2024-08-17 01:33:25,103] Trial 2 finished with value: 0.12658227848101264 and parameters: {'max_depth': 11, 'min_samples_split': 24, 'min_samples_leaf': 7, 'max_features': 'sqrt', 'splitter': 'random', 'criterion': 'gini'}. Best is trial 1 with value: 0.156.\n",
      "[I 2024-08-17 01:33:25,178] Trial 3 finished with value: 0.1487279843444227 and parameters: {'max_depth': 24, 'min_samples_split': 17, 'min_samples_leaf': 4, 'max_features': None, 'splitter': 'random', 'criterion': 'entropy'}. Best is trial 1 with value: 0.156.\n",
      "[I 2024-08-17 01:33:25,216] Trial 4 finished with value: 0.13008130081300812 and parameters: {'max_depth': 13, 'min_samples_split': 22, 'min_samples_leaf': 8, 'max_features': 'sqrt', 'splitter': 'best', 'criterion': 'entropy'}. Best is trial 1 with value: 0.156.\n",
      "[I 2024-08-17 01:33:25,232] Trial 5 finished with value: 0.08067940552016985 and parameters: {'max_depth': 2, 'min_samples_split': 28, 'min_samples_leaf': 9, 'max_features': 'sqrt', 'splitter': 'best', 'criterion': 'entropy'}. Best is trial 1 with value: 0.156.\n",
      "[I 2024-08-17 01:33:25,288] Trial 6 finished with value: 0.168 and parameters: {'max_depth': 24, 'min_samples_split': 21, 'min_samples_leaf': 5, 'max_features': 'sqrt', 'splitter': 'best', 'criterion': 'gini'}. Best is trial 6 with value: 0.168.\n",
      "[I 2024-08-17 01:33:25,302] Trial 7 finished with value: 0.07327586206896551 and parameters: {'max_depth': 4, 'min_samples_split': 18, 'min_samples_leaf': 9, 'max_features': 'log2', 'splitter': 'random', 'criterion': 'gini'}. Best is trial 6 with value: 0.168.\n",
      "[I 2024-08-17 01:33:25,319] Trial 8 finished with value: 0.04385964912280702 and parameters: {'max_depth': 8, 'min_samples_split': 30, 'min_samples_leaf': 8, 'max_features': 'sqrt', 'splitter': 'random', 'criterion': 'entropy'}. Best is trial 6 with value: 0.168.\n",
      "[I 2024-08-17 01:33:25,476] Trial 9 finished with value: 0.1873990306946688 and parameters: {'max_depth': 18, 'min_samples_split': 9, 'min_samples_leaf': 2, 'max_features': None, 'splitter': 'best', 'criterion': 'gini'}. Best is trial 9 with value: 0.1873990306946688.\n",
      "[I 2024-08-17 01:33:25,552] Trial 10 finished with value: 0.1921921921921922 and parameters: {'max_depth': 19, 'min_samples_split': 2, 'min_samples_leaf': 1, 'max_features': 'log2', 'splitter': 'best', 'criterion': 'gini'}. Best is trial 10 with value: 0.1921921921921922.\n",
      "[I 2024-08-17 01:33:25,618] Trial 11 finished with value: 0.1751152073732719 and parameters: {'max_depth': 20, 'min_samples_split': 2, 'min_samples_leaf': 1, 'max_features': 'log2', 'splitter': 'best', 'criterion': 'gini'}. Best is trial 10 with value: 0.1921921921921922.\n",
      "[I 2024-08-17 01:33:25,677] Trial 12 finished with value: 0.1544256120527307 and parameters: {'max_depth': 18, 'min_samples_split': 4, 'min_samples_leaf': 2, 'max_features': 'log2', 'splitter': 'best', 'criterion': 'gini'}. Best is trial 10 with value: 0.1921921921921922.\n",
      "[I 2024-08-17 01:33:25,870] Trial 13 finished with value: 0.19553072625698326 and parameters: {'max_depth': 30, 'min_samples_split': 9, 'min_samples_leaf': 1, 'max_features': None, 'splitter': 'best', 'criterion': 'gini'}. Best is trial 13 with value: 0.19553072625698326.\n",
      "[I 2024-08-17 01:33:25,936] Trial 14 finished with value: 0.1956521739130435 and parameters: {'max_depth': 29, 'min_samples_split': 8, 'min_samples_leaf': 1, 'max_features': 'log2', 'splitter': 'best', 'criterion': 'gini'}. Best is trial 14 with value: 0.1956521739130435.\n",
      "[I 2024-08-17 01:33:26,009] Trial 15 finished with value: 0.1776061776061776 and parameters: {'max_depth': 30, 'min_samples_split': 11, 'min_samples_leaf': 3, 'max_features': 'log2', 'splitter': 'best', 'criterion': 'gini'}. Best is trial 14 with value: 0.1956521739130435.\n",
      "[I 2024-08-17 01:33:26,178] Trial 16 finished with value: 0.20209059233449478 and parameters: {'max_depth': 29, 'min_samples_split': 7, 'min_samples_leaf': 6, 'max_features': None, 'splitter': 'best', 'criterion': 'gini'}. Best is trial 16 with value: 0.20209059233449478.\n",
      "[I 2024-08-17 01:33:26,342] Trial 17 finished with value: 0.2007042253521127 and parameters: {'max_depth': 26, 'min_samples_split': 13, 'min_samples_leaf': 6, 'max_features': None, 'splitter': 'best', 'criterion': 'gini'}. Best is trial 16 with value: 0.20209059233449478.\n",
      "[I 2024-08-17 01:33:26,533] Trial 18 finished with value: 0.20035149384885764 and parameters: {'max_depth': 25, 'min_samples_split': 13, 'min_samples_leaf': 6, 'max_features': None, 'splitter': 'best', 'criterion': 'gini'}. Best is trial 16 with value: 0.20209059233449478.\n",
      "[I 2024-08-17 01:33:26,696] Trial 19 finished with value: 0.18827708703374776 and parameters: {'max_depth': 27, 'min_samples_split': 14, 'min_samples_leaf': 6, 'max_features': None, 'splitter': 'best', 'criterion': 'gini'}. Best is trial 16 with value: 0.20209059233449478.\n",
      "[I 2024-08-17 01:33:26,864] Trial 20 finished with value: 0.19428571428571428 and parameters: {'max_depth': 22, 'min_samples_split': 6, 'min_samples_leaf': 10, 'max_features': None, 'splitter': 'best', 'criterion': 'gini'}. Best is trial 16 with value: 0.20209059233449478.\n",
      "[I 2024-08-17 01:33:27,025] Trial 21 finished with value: 0.17905405405405406 and parameters: {'max_depth': 26, 'min_samples_split': 13, 'min_samples_leaf': 5, 'max_features': None, 'splitter': 'best', 'criterion': 'gini'}. Best is trial 16 with value: 0.20209059233449478.\n",
      "[I 2024-08-17 01:33:27,188] Trial 22 finished with value: 0.18827708703374776 and parameters: {'max_depth': 26, 'min_samples_split': 14, 'min_samples_leaf': 6, 'max_features': None, 'splitter': 'best', 'criterion': 'gini'}. Best is trial 16 with value: 0.20209059233449478.\n",
      "[I 2024-08-17 01:33:27,345] Trial 23 finished with value: 0.19163763066202094 and parameters: {'max_depth': 23, 'min_samples_split': 6, 'min_samples_leaf': 7, 'max_features': None, 'splitter': 'best', 'criterion': 'gini'}. Best is trial 16 with value: 0.20209059233449478.\n",
      "[I 2024-08-17 01:33:27,510] Trial 24 finished with value: 0.18439716312056736 and parameters: {'max_depth': 28, 'min_samples_split': 13, 'min_samples_leaf': 7, 'max_features': None, 'splitter': 'best', 'criterion': 'gini'}. Best is trial 16 with value: 0.20209059233449478.\n",
      "[I 2024-08-17 01:33:27,671] Trial 25 finished with value: 0.18962432915921287 and parameters: {'max_depth': 21, 'min_samples_split': 16, 'min_samples_leaf': 6, 'max_features': None, 'splitter': 'best', 'criterion': 'gini'}. Best is trial 16 with value: 0.20209059233449478.\n",
      "[I 2024-08-17 01:33:27,745] Trial 26 finished with value: 0.17208413001912046 and parameters: {'max_depth': 25, 'min_samples_split': 6, 'min_samples_leaf': 4, 'max_features': None, 'splitter': 'random', 'criterion': 'entropy'}. Best is trial 16 with value: 0.20209059233449478.\n",
      "[I 2024-08-17 01:33:27,905] Trial 27 finished with value: 0.18151815181518152 and parameters: {'max_depth': 28, 'min_samples_split': 12, 'min_samples_leaf': 5, 'max_features': None, 'splitter': 'best', 'criterion': 'gini'}. Best is trial 16 with value: 0.20209059233449478.\n",
      "[I 2024-08-17 01:33:28,065] Trial 28 finished with value: 0.1897810218978102 and parameters: {'max_depth': 22, 'min_samples_split': 16, 'min_samples_leaf': 8, 'max_features': None, 'splitter': 'best', 'criterion': 'gini'}. Best is trial 16 with value: 0.20209059233449478.\n",
      "[I 2024-08-17 01:33:28,233] Trial 29 finished with value: 0.17550274223034734 and parameters: {'max_depth': 27, 'min_samples_split': 19, 'min_samples_leaf': 4, 'max_features': None, 'splitter': 'best', 'criterion': 'gini'}. Best is trial 16 with value: 0.20209059233449478.\n",
      "[I 2024-08-17 01:33:28,382] Trial 30 finished with value: 0.1768953068592058 and parameters: {'max_depth': 16, 'min_samples_split': 7, 'min_samples_leaf': 7, 'max_features': None, 'splitter': 'best', 'criterion': 'gini'}. Best is trial 16 with value: 0.20209059233449478.\n",
      "[I 2024-08-17 01:33:28,438] Trial 31 finished with value: 0.1566265060240964 and parameters: {'max_depth': 30, 'min_samples_split': 8, 'min_samples_leaf': 6, 'max_features': 'log2', 'splitter': 'best', 'criterion': 'gini'}. Best is trial 16 with value: 0.20209059233449478.\n",
      "[I 2024-08-17 01:33:28,496] Trial 32 finished with value: 0.1380670611439842 and parameters: {'max_depth': 28, 'min_samples_split': 11, 'min_samples_leaf': 5, 'max_features': 'log2', 'splitter': 'best', 'criterion': 'gini'}. Best is trial 16 with value: 0.20209059233449478.\n",
      "[I 2024-08-17 01:33:28,556] Trial 33 finished with value: 0.19322033898305088 and parameters: {'max_depth': 29, 'min_samples_split': 4, 'min_samples_leaf': 3, 'max_features': 'log2', 'splitter': 'best', 'criterion': 'gini'}. Best is trial 16 with value: 0.20209059233449478.\n",
      "[I 2024-08-17 01:33:28,635] Trial 34 finished with value: 0.19366852886405958 and parameters: {'max_depth': 25, 'min_samples_split': 11, 'min_samples_leaf': 3, 'max_features': None, 'splitter': 'random', 'criterion': 'entropy'}. Best is trial 16 with value: 0.20209059233449478.\n",
      "[I 2024-08-17 01:33:28,796] Trial 35 finished with value: 0.2031523642732049 and parameters: {'max_depth': 24, 'min_samples_split': 9, 'min_samples_leaf': 6, 'max_features': None, 'splitter': 'best', 'criterion': 'gini'}. Best is trial 35 with value: 0.2031523642732049.\n",
      "[I 2024-08-17 01:33:28,868] Trial 36 finished with value: 0.17338709677419353 and parameters: {'max_depth': 24, 'min_samples_split': 15, 'min_samples_leaf': 6, 'max_features': None, 'splitter': 'random', 'criterion': 'entropy'}. Best is trial 35 with value: 0.2031523642732049.\n",
      "[I 2024-08-17 01:33:29,025] Trial 37 finished with value: 0.1768953068592058 and parameters: {'max_depth': 16, 'min_samples_split': 10, 'min_samples_leaf': 7, 'max_features': None, 'splitter': 'best', 'criterion': 'gini'}. Best is trial 35 with value: 0.2031523642732049.\n",
      "[I 2024-08-17 01:33:29,078] Trial 38 finished with value: 0.17716535433070868 and parameters: {'max_depth': 13, 'min_samples_split': 20, 'min_samples_leaf': 5, 'max_features': 'sqrt', 'splitter': 'best', 'criterion': 'gini'}. Best is trial 35 with value: 0.2031523642732049.\n",
      "[I 2024-08-17 01:33:29,155] Trial 39 finished with value: 0.14428857715430862 and parameters: {'max_depth': 23, 'min_samples_split': 23, 'min_samples_leaf': 7, 'max_features': None, 'splitter': 'random', 'criterion': 'entropy'}. Best is trial 35 with value: 0.2031523642732049.\n",
      "[I 2024-08-17 01:33:29,200] Trial 40 finished with value: 0.12269938650306748 and parameters: {'max_depth': 11, 'min_samples_split': 4, 'min_samples_leaf': 8, 'max_features': 'sqrt', 'splitter': 'best', 'criterion': 'gini'}. Best is trial 35 with value: 0.2031523642732049.\n",
      "[I 2024-08-17 01:33:29,364] Trial 41 finished with value: 0.20350877192982456 and parameters: {'max_depth': 26, 'min_samples_split': 8, 'min_samples_leaf': 6, 'max_features': None, 'splitter': 'best', 'criterion': 'gini'}. Best is trial 41 with value: 0.20350877192982456.\n",
      "[I 2024-08-17 01:33:29,524] Trial 42 finished with value: 0.20350877192982456 and parameters: {'max_depth': 26, 'min_samples_split': 10, 'min_samples_leaf': 6, 'max_features': None, 'splitter': 'best', 'criterion': 'gini'}. Best is trial 41 with value: 0.20350877192982456.\n",
      "[I 2024-08-17 01:33:29,688] Trial 43 finished with value: 0.18709677419354837 and parameters: {'max_depth': 26, 'min_samples_split': 9, 'min_samples_leaf': 5, 'max_features': None, 'splitter': 'best', 'criterion': 'gini'}. Best is trial 41 with value: 0.20350877192982456.\n",
      "[I 2024-08-17 01:33:29,848] Trial 44 finished with value: 0.20209059233449478 and parameters: {'max_depth': 27, 'min_samples_split': 7, 'min_samples_leaf': 6, 'max_features': None, 'splitter': 'best', 'criterion': 'gini'}. Best is trial 41 with value: 0.20350877192982456.\n",
      "[I 2024-08-17 01:33:30,012] Trial 45 finished with value: 0.18439716312056736 and parameters: {'max_depth': 28, 'min_samples_split': 5, 'min_samples_leaf': 7, 'max_features': None, 'splitter': 'best', 'criterion': 'gini'}. Best is trial 41 with value: 0.20350877192982456.\n",
      "[I 2024-08-17 01:33:30,168] Trial 46 finished with value: 0.18840579710144928 and parameters: {'max_depth': 23, 'min_samples_split': 7, 'min_samples_leaf': 8, 'max_features': None, 'splitter': 'best', 'criterion': 'gini'}. Best is trial 41 with value: 0.20350877192982456.\n",
      "[I 2024-08-17 01:33:30,203] Trial 47 finished with value: 0.12058212058212056 and parameters: {'max_depth': 20, 'min_samples_split': 26, 'min_samples_leaf': 4, 'max_features': 'sqrt', 'splitter': 'random', 'criterion': 'entropy'}. Best is trial 41 with value: 0.20350877192982456.\n",
      "[I 2024-08-17 01:33:30,366] Trial 48 finished with value: 0.18709677419354837 and parameters: {'max_depth': 27, 'min_samples_split': 3, 'min_samples_leaf': 5, 'max_features': None, 'splitter': 'best', 'criterion': 'gini'}. Best is trial 41 with value: 0.20350877192982456.\n",
      "[I 2024-08-17 01:33:30,524] Trial 49 finished with value: 0.20109689213893966 and parameters: {'max_depth': 29, 'min_samples_split': 10, 'min_samples_leaf': 9, 'max_features': None, 'splitter': 'best', 'criterion': 'gini'}. Best is trial 41 with value: 0.20350877192982456.\n",
      "[I 2024-08-17 01:33:30,683] Trial 50 finished with value: 0.2031523642732049 and parameters: {'max_depth': 24, 'min_samples_split': 8, 'min_samples_leaf': 6, 'max_features': None, 'splitter': 'best', 'criterion': 'gini'}. Best is trial 41 with value: 0.20350877192982456.\n",
      "[I 2024-08-17 01:33:30,845] Trial 51 finished with value: 0.2031523642732049 and parameters: {'max_depth': 24, 'min_samples_split': 8, 'min_samples_leaf': 6, 'max_features': None, 'splitter': 'best', 'criterion': 'gini'}. Best is trial 41 with value: 0.20350877192982456.\n",
      "[I 2024-08-17 01:33:31,007] Trial 52 finished with value: 0.2031523642732049 and parameters: {'max_depth': 24, 'min_samples_split': 8, 'min_samples_leaf': 6, 'max_features': None, 'splitter': 'best', 'criterion': 'gini'}. Best is trial 41 with value: 0.20350877192982456.\n",
      "[I 2024-08-17 01:33:31,169] Trial 53 finished with value: 0.2031523642732049 and parameters: {'max_depth': 24, 'min_samples_split': 8, 'min_samples_leaf': 6, 'max_features': None, 'splitter': 'best', 'criterion': 'gini'}. Best is trial 41 with value: 0.20350877192982456.\n",
      "[I 2024-08-17 01:33:31,328] Trial 54 finished with value: 0.1926444833625219 and parameters: {'max_depth': 21, 'min_samples_split': 9, 'min_samples_leaf': 7, 'max_features': None, 'splitter': 'best', 'criterion': 'gini'}. Best is trial 41 with value: 0.20350877192982456.\n",
      "[I 2024-08-17 01:33:31,482] Trial 55 finished with value: 0.18855218855218855 and parameters: {'max_depth': 18, 'min_samples_split': 5, 'min_samples_leaf': 5, 'max_features': None, 'splitter': 'best', 'criterion': 'gini'}. Best is trial 41 with value: 0.20350877192982456.\n",
      "[I 2024-08-17 01:33:31,515] Trial 56 finished with value: 0.12320328542094457 and parameters: {'max_depth': 5, 'min_samples_split': 10, 'min_samples_leaf': 6, 'max_features': 'sqrt', 'splitter': 'best', 'criterion': 'gini'}. Best is trial 41 with value: 0.20350877192982456.\n",
      "[I 2024-08-17 01:33:31,680] Trial 57 finished with value: 0.18709677419354837 and parameters: {'max_depth': 25, 'min_samples_split': 8, 'min_samples_leaf': 4, 'max_features': None, 'splitter': 'best', 'criterion': 'gini'}. Best is trial 41 with value: 0.20350877192982456.\n",
      "[I 2024-08-17 01:33:31,844] Trial 58 finished with value: 0.18302828618968386 and parameters: {'max_depth': 22, 'min_samples_split': 12, 'min_samples_leaf': 5, 'max_features': None, 'splitter': 'best', 'criterion': 'gini'}. Best is trial 41 with value: 0.20350877192982456.\n",
      "[I 2024-08-17 01:33:32,001] Trial 59 finished with value: 0.18439716312056736 and parameters: {'max_depth': 20, 'min_samples_split': 3, 'min_samples_leaf': 7, 'max_features': None, 'splitter': 'best', 'criterion': 'gini'}. Best is trial 41 with value: 0.20350877192982456.\n",
      "[I 2024-08-17 01:33:32,071] Trial 60 finished with value: 0.1803921568627451 and parameters: {'max_depth': 23, 'min_samples_split': 5, 'min_samples_leaf': 6, 'max_features': None, 'splitter': 'random', 'criterion': 'entropy'}. Best is trial 41 with value: 0.20350877192982456.\n",
      "[I 2024-08-17 01:33:32,235] Trial 61 finished with value: 0.2031523642732049 and parameters: {'max_depth': 24, 'min_samples_split': 8, 'min_samples_leaf': 6, 'max_features': None, 'splitter': 'best', 'criterion': 'gini'}. Best is trial 41 with value: 0.20350877192982456.\n",
      "[I 2024-08-17 01:33:32,397] Trial 62 finished with value: 0.2031523642732049 and parameters: {'max_depth': 24, 'min_samples_split': 9, 'min_samples_leaf': 6, 'max_features': None, 'splitter': 'best', 'criterion': 'gini'}. Best is trial 41 with value: 0.20350877192982456.\n",
      "[I 2024-08-17 01:33:32,555] Trial 63 finished with value: 0.1926444833625219 and parameters: {'max_depth': 21, 'min_samples_split': 11, 'min_samples_leaf': 7, 'max_features': None, 'splitter': 'best', 'criterion': 'gini'}. Best is trial 41 with value: 0.20350877192982456.\n",
      "[I 2024-08-17 01:33:32,718] Trial 64 finished with value: 0.20350877192982456 and parameters: {'max_depth': 26, 'min_samples_split': 6, 'min_samples_leaf': 6, 'max_features': None, 'splitter': 'best', 'criterion': 'gini'}. Best is trial 41 with value: 0.20350877192982456.\n",
      "[I 2024-08-17 01:33:32,882] Trial 65 finished with value: 0.18709677419354837 and parameters: {'max_depth': 26, 'min_samples_split': 6, 'min_samples_leaf': 5, 'max_features': None, 'splitter': 'best', 'criterion': 'gini'}. Best is trial 41 with value: 0.20350877192982456.\n",
      "[I 2024-08-17 01:33:33,042] Trial 66 finished with value: 0.1956521739130435 and parameters: {'max_depth': 25, 'min_samples_split': 7, 'min_samples_leaf': 8, 'max_features': None, 'splitter': 'best', 'criterion': 'gini'}. Best is trial 41 with value: 0.20350877192982456.\n",
      "[I 2024-08-17 01:33:33,200] Trial 67 finished with value: 0.1888111888111888 and parameters: {'max_depth': 22, 'min_samples_split': 10, 'min_samples_leaf': 7, 'max_features': None, 'splitter': 'best', 'criterion': 'gini'}. Best is trial 41 with value: 0.20350877192982456.\n",
      "[I 2024-08-17 01:33:33,362] Trial 68 finished with value: 0.20350877192982456 and parameters: {'max_depth': 26, 'min_samples_split': 12, 'min_samples_leaf': 6, 'max_features': None, 'splitter': 'best', 'criterion': 'gini'}. Best is trial 41 with value: 0.20350877192982456.\n",
      "[I 2024-08-17 01:33:33,526] Trial 69 finished with value: 0.1672354948805461 and parameters: {'max_depth': 26, 'min_samples_split': 14, 'min_samples_leaf': 5, 'max_features': None, 'splitter': 'best', 'criterion': 'gini'}. Best is trial 41 with value: 0.20350877192982456.\n",
      "[I 2024-08-17 01:33:33,581] Trial 70 finished with value: 0.13168724279835392 and parameters: {'max_depth': 27, 'min_samples_split': 17, 'min_samples_leaf': 6, 'max_features': 'log2', 'splitter': 'best', 'criterion': 'gini'}. Best is trial 41 with value: 0.20350877192982456.\n",
      "[I 2024-08-17 01:33:33,743] Trial 71 finished with value: 0.2031523642732049 and parameters: {'max_depth': 24, 'min_samples_split': 12, 'min_samples_leaf': 6, 'max_features': None, 'splitter': 'best', 'criterion': 'gini'}. Best is trial 41 with value: 0.20350877192982456.\n",
      "[I 2024-08-17 01:33:33,906] Trial 72 finished with value: 0.2031523642732049 and parameters: {'max_depth': 25, 'min_samples_split': 9, 'min_samples_leaf': 6, 'max_features': None, 'splitter': 'best', 'criterion': 'gini'}. Best is trial 41 with value: 0.20350877192982456.\n",
      "[I 2024-08-17 01:33:34,066] Trial 73 finished with value: 0.20350877192982456 and parameters: {'max_depth': 23, 'min_samples_split': 8, 'min_samples_leaf': 6, 'max_features': None, 'splitter': 'best', 'criterion': 'gini'}. Best is trial 41 with value: 0.20350877192982456.\n",
      "[I 2024-08-17 01:33:34,228] Trial 74 finished with value: 0.18342151675485005 and parameters: {'max_depth': 26, 'min_samples_split': 6, 'min_samples_leaf': 7, 'max_features': None, 'splitter': 'best', 'criterion': 'gini'}. Best is trial 41 with value: 0.20350877192982456.\n",
      "[I 2024-08-17 01:33:34,393] Trial 75 finished with value: 0.18709677419354837 and parameters: {'max_depth': 23, 'min_samples_split': 10, 'min_samples_leaf': 5, 'max_features': None, 'splitter': 'best', 'criterion': 'gini'}. Best is trial 41 with value: 0.20350877192982456.\n",
      "[I 2024-08-17 01:33:34,557] Trial 76 finished with value: 0.20209059233449478 and parameters: {'max_depth': 28, 'min_samples_split': 7, 'min_samples_leaf': 6, 'max_features': None, 'splitter': 'best', 'criterion': 'gini'}. Best is trial 41 with value: 0.20350877192982456.\n",
      "[I 2024-08-17 01:33:34,721] Trial 77 finished with value: 0.20209059233449478 and parameters: {'max_depth': 30, 'min_samples_split': 12, 'min_samples_leaf': 6, 'max_features': None, 'splitter': 'best', 'criterion': 'gini'}. Best is trial 41 with value: 0.20350877192982456.\n",
      "[I 2024-08-17 01:33:34,757] Trial 78 finished with value: 0.11715481171548116 and parameters: {'max_depth': 19, 'min_samples_split': 5, 'min_samples_leaf': 7, 'max_features': 'sqrt', 'splitter': 'random', 'criterion': 'entropy'}. Best is trial 41 with value: 0.20350877192982456.\n",
      "[I 2024-08-17 01:33:34,921] Trial 79 finished with value: 0.18211920529801326 and parameters: {'max_depth': 27, 'min_samples_split': 11, 'min_samples_leaf': 5, 'max_features': None, 'splitter': 'best', 'criterion': 'gini'}. Best is trial 41 with value: 0.20350877192982456.\n",
      "[I 2024-08-17 01:33:34,968] Trial 80 finished with value: 0.14574898785425103 and parameters: {'max_depth': 14, 'min_samples_split': 9, 'min_samples_leaf': 7, 'max_features': 'log2', 'splitter': 'best', 'criterion': 'gini'}. Best is trial 41 with value: 0.20350877192982456.\n",
      "[I 2024-08-17 01:33:35,130] Trial 81 finished with value: 0.2031523642732049 and parameters: {'max_depth': 25, 'min_samples_split': 8, 'min_samples_leaf': 6, 'max_features': None, 'splitter': 'best', 'criterion': 'gini'}. Best is trial 41 with value: 0.20350877192982456.\n",
      "[I 2024-08-17 01:33:35,296] Trial 82 finished with value: 0.2031523642732049 and parameters: {'max_depth': 24, 'min_samples_split': 8, 'min_samples_leaf': 6, 'max_features': None, 'splitter': 'best', 'criterion': 'gini'}. Best is trial 41 with value: 0.20350877192982456.\n",
      "[I 2024-08-17 01:33:35,461] Trial 83 finished with value: 0.20350877192982456 and parameters: {'max_depth': 23, 'min_samples_split': 6, 'min_samples_leaf': 6, 'max_features': None, 'splitter': 'best', 'criterion': 'gini'}. Best is trial 41 with value: 0.20350877192982456.\n",
      "[I 2024-08-17 01:33:35,624] Trial 84 finished with value: 0.20279720279720279 and parameters: {'max_depth': 22, 'min_samples_split': 6, 'min_samples_leaf': 6, 'max_features': None, 'splitter': 'best', 'criterion': 'gini'}. Best is trial 41 with value: 0.20350877192982456.\n",
      "[I 2024-08-17 01:33:35,790] Trial 85 finished with value: 0.18506493506493507 and parameters: {'max_depth': 21, 'min_samples_split': 3, 'min_samples_leaf': 5, 'max_features': None, 'splitter': 'best', 'criterion': 'gini'}. Best is trial 41 with value: 0.20350877192982456.\n",
      "[I 2024-08-17 01:33:35,957] Trial 86 finished with value: 0.18342151675485005 and parameters: {'max_depth': 26, 'min_samples_split': 7, 'min_samples_leaf': 7, 'max_features': None, 'splitter': 'best', 'criterion': 'gini'}. Best is trial 41 with value: 0.20350877192982456.\n",
      "[I 2024-08-17 01:33:36,123] Trial 87 finished with value: 0.18709677419354837 and parameters: {'max_depth': 23, 'min_samples_split': 4, 'min_samples_leaf': 5, 'max_features': None, 'splitter': 'best', 'criterion': 'gini'}. Best is trial 41 with value: 0.20350877192982456.\n",
      "[I 2024-08-17 01:33:36,286] Trial 88 finished with value: 0.20209059233449478 and parameters: {'max_depth': 29, 'min_samples_split': 6, 'min_samples_leaf': 6, 'max_features': None, 'splitter': 'best', 'criterion': 'gini'}. Best is trial 41 with value: 0.20350877192982456.\n",
      "[I 2024-08-17 01:33:36,452] Trial 89 finished with value: 0.20209059233449478 and parameters: {'max_depth': 27, 'min_samples_split': 10, 'min_samples_leaf': 6, 'max_features': None, 'splitter': 'best', 'criterion': 'gini'}. Best is trial 41 with value: 0.20350877192982456.\n",
      "[I 2024-08-17 01:33:36,489] Trial 90 finished with value: 0.09322033898305085 and parameters: {'max_depth': 25, 'min_samples_split': 9, 'min_samples_leaf': 7, 'max_features': 'sqrt', 'splitter': 'random', 'criterion': 'entropy'}. Best is trial 41 with value: 0.20350877192982456.\n",
      "[I 2024-08-17 01:33:36,653] Trial 91 finished with value: 0.2031523642732049 and parameters: {'max_depth': 24, 'min_samples_split': 7, 'min_samples_leaf': 6, 'max_features': None, 'splitter': 'best', 'criterion': 'gini'}. Best is trial 41 with value: 0.20350877192982456.\n",
      "[I 2024-08-17 01:33:36,812] Trial 92 finished with value: 0.15354330708661418 and parameters: {'max_depth': 23, 'min_samples_split': 30, 'min_samples_leaf': 6, 'max_features': None, 'splitter': 'best', 'criterion': 'gini'}. Best is trial 41 with value: 0.20350877192982456.\n",
      "[I 2024-08-17 01:33:36,975] Trial 93 finished with value: 0.20209059233449478 and parameters: {'max_depth': 28, 'min_samples_split': 8, 'min_samples_leaf': 6, 'max_features': None, 'splitter': 'best', 'criterion': 'gini'}. Best is trial 41 with value: 0.20350877192982456.\n",
      "[I 2024-08-17 01:33:37,142] Trial 94 finished with value: 0.1858974358974359 and parameters: {'max_depth': 25, 'min_samples_split': 5, 'min_samples_leaf': 5, 'max_features': None, 'splitter': 'best', 'criterion': 'gini'}. Best is trial 41 with value: 0.20350877192982456.\n",
      "[I 2024-08-17 01:33:37,298] Trial 95 finished with value: 0.19428571428571428 and parameters: {'max_depth': 22, 'min_samples_split': 9, 'min_samples_leaf': 10, 'max_features': None, 'splitter': 'best', 'criterion': 'gini'}. Best is trial 41 with value: 0.20350877192982456.\n",
      "[I 2024-08-17 01:33:37,462] Trial 96 finished with value: 0.1978798586572438 and parameters: {'max_depth': 20, 'min_samples_split': 8, 'min_samples_leaf': 6, 'max_features': None, 'splitter': 'best', 'criterion': 'gini'}. Best is trial 41 with value: 0.20350877192982456.\n",
      "[I 2024-08-17 01:33:37,626] Trial 97 finished with value: 0.18272425249169436 and parameters: {'max_depth': 26, 'min_samples_split': 11, 'min_samples_leaf': 5, 'max_features': None, 'splitter': 'best', 'criterion': 'gini'}. Best is trial 41 with value: 0.20350877192982456.\n",
      "[I 2024-08-17 01:33:37,788] Trial 98 finished with value: 0.1869488536155203 and parameters: {'max_depth': 27, 'min_samples_split': 7, 'min_samples_leaf': 7, 'max_features': None, 'splitter': 'best', 'criterion': 'gini'}. Best is trial 41 with value: 0.20350877192982456.\n",
      "[I 2024-08-17 01:33:37,830] Trial 99 finished with value: 0.13552361396303902 and parameters: {'max_depth': 8, 'min_samples_split': 10, 'min_samples_leaf': 6, 'max_features': 'log2', 'splitter': 'best', 'criterion': 'gini'}. Best is trial 41 with value: 0.20350877192982456.\n",
      "[I 2024-08-17 01:33:37,995] Trial 100 finished with value: 0.2031523642732049 and parameters: {'max_depth': 24, 'min_samples_split': 4, 'min_samples_leaf': 6, 'max_features': None, 'splitter': 'best', 'criterion': 'gini'}. Best is trial 41 with value: 0.20350877192982456.\n",
      "[I 2024-08-17 01:33:38,157] Trial 101 finished with value: 0.2031523642732049 and parameters: {'max_depth': 24, 'min_samples_split': 8, 'min_samples_leaf': 6, 'max_features': None, 'splitter': 'best', 'criterion': 'gini'}. Best is trial 41 with value: 0.20350877192982456.\n",
      "[I 2024-08-17 01:33:38,320] Trial 102 finished with value: 0.20350877192982456 and parameters: {'max_depth': 23, 'min_samples_split': 6, 'min_samples_leaf': 6, 'max_features': None, 'splitter': 'best', 'criterion': 'gini'}. Best is trial 41 with value: 0.20350877192982456.\n",
      "[I 2024-08-17 01:33:38,486] Trial 103 finished with value: 0.18342151675485005 and parameters: {'max_depth': 25, 'min_samples_split': 6, 'min_samples_leaf': 7, 'max_features': None, 'splitter': 'best', 'criterion': 'gini'}. Best is trial 41 with value: 0.20350877192982456.\n",
      "[I 2024-08-17 01:33:38,653] Trial 104 finished with value: 0.20350877192982456 and parameters: {'max_depth': 23, 'min_samples_split': 7, 'min_samples_leaf': 6, 'max_features': None, 'splitter': 'best', 'criterion': 'gini'}. Best is trial 41 with value: 0.20350877192982456.\n",
      "[I 2024-08-17 01:33:38,819] Trial 105 finished with value: 0.20350877192982456 and parameters: {'max_depth': 23, 'min_samples_split': 5, 'min_samples_leaf': 6, 'max_features': None, 'splitter': 'best', 'criterion': 'gini'}. Best is trial 41 with value: 0.20350877192982456.\n",
      "[I 2024-08-17 01:33:38,986] Trial 106 finished with value: 0.20350877192982456 and parameters: {'max_depth': 23, 'min_samples_split': 5, 'min_samples_leaf': 6, 'max_features': None, 'splitter': 'best', 'criterion': 'gini'}. Best is trial 41 with value: 0.20350877192982456.\n",
      "[I 2024-08-17 01:33:39,153] Trial 107 finished with value: 0.18709677419354837 and parameters: {'max_depth': 23, 'min_samples_split': 5, 'min_samples_leaf': 5, 'max_features': None, 'splitter': 'best', 'criterion': 'gini'}. Best is trial 41 with value: 0.20350877192982456.\n",
      "[I 2024-08-17 01:33:39,236] Trial 108 finished with value: 0.17269076305220882 and parameters: {'max_depth': 21, 'min_samples_split': 2, 'min_samples_leaf': 7, 'max_features': None, 'splitter': 'random', 'criterion': 'entropy'}. Best is trial 41 with value: 0.20350877192982456.\n",
      "[I 2024-08-17 01:33:39,399] Trial 109 finished with value: 0.20279720279720279 and parameters: {'max_depth': 22, 'min_samples_split': 4, 'min_samples_leaf': 6, 'max_features': None, 'splitter': 'best', 'criterion': 'gini'}. Best is trial 41 with value: 0.20350877192982456.\n",
      "[I 2024-08-17 01:33:39,458] Trial 110 finished with value: 0.17322834645669294 and parameters: {'max_depth': 23, 'min_samples_split': 3, 'min_samples_leaf': 5, 'max_features': 'sqrt', 'splitter': 'best', 'criterion': 'gini'}. Best is trial 41 with value: 0.20350877192982456.\n",
      "[I 2024-08-17 01:33:39,624] Trial 111 finished with value: 0.20350877192982456 and parameters: {'max_depth': 23, 'min_samples_split': 6, 'min_samples_leaf': 6, 'max_features': None, 'splitter': 'best', 'criterion': 'gini'}. Best is trial 41 with value: 0.20350877192982456.\n",
      "[I 2024-08-17 01:33:39,787] Trial 112 finished with value: 0.20279720279720279 and parameters: {'max_depth': 21, 'min_samples_split': 5, 'min_samples_leaf': 6, 'max_features': None, 'splitter': 'best', 'criterion': 'gini'}. Best is trial 41 with value: 0.20350877192982456.\n",
      "[I 2024-08-17 01:33:39,952] Trial 113 finished with value: 0.20279720279720279 and parameters: {'max_depth': 22, 'min_samples_split': 6, 'min_samples_leaf': 6, 'max_features': None, 'splitter': 'best', 'criterion': 'gini'}. Best is trial 41 with value: 0.20350877192982456.\n",
      "[I 2024-08-17 01:33:40,112] Trial 114 finished with value: 0.1978798586572438 and parameters: {'max_depth': 19, 'min_samples_split': 6, 'min_samples_leaf': 6, 'max_features': None, 'splitter': 'best', 'criterion': 'gini'}. Best is trial 41 with value: 0.20350877192982456.\n",
      "[I 2024-08-17 01:33:40,276] Trial 115 finished with value: 0.19163763066202094 and parameters: {'max_depth': 23, 'min_samples_split': 7, 'min_samples_leaf': 7, 'max_features': None, 'splitter': 'best', 'criterion': 'gini'}. Best is trial 41 with value: 0.20350877192982456.\n",
      "[I 2024-08-17 01:33:40,438] Trial 116 finished with value: 0.2031523642732049 and parameters: {'max_depth': 25, 'min_samples_split': 5, 'min_samples_leaf': 6, 'max_features': None, 'splitter': 'best', 'criterion': 'gini'}. Best is trial 41 with value: 0.20350877192982456.\n",
      "[I 2024-08-17 01:33:40,602] Trial 117 finished with value: 0.20350877192982456 and parameters: {'max_depth': 26, 'min_samples_split': 7, 'min_samples_leaf': 6, 'max_features': None, 'splitter': 'best', 'criterion': 'gini'}. Best is trial 41 with value: 0.20350877192982456.\n",
      "[I 2024-08-17 01:33:40,771] Trial 118 finished with value: 0.18709677419354837 and parameters: {'max_depth': 26, 'min_samples_split': 3, 'min_samples_leaf': 5, 'max_features': None, 'splitter': 'best', 'criterion': 'gini'}. Best is trial 41 with value: 0.20350877192982456.\n",
      "[I 2024-08-17 01:33:40,935] Trial 119 finished with value: 0.20209059233449478 and parameters: {'max_depth': 28, 'min_samples_split': 4, 'min_samples_leaf': 6, 'max_features': None, 'splitter': 'best', 'criterion': 'gini'}. Best is trial 41 with value: 0.20350877192982456.\n",
      "[I 2024-08-17 01:33:40,991] Trial 120 finished with value: 0.18217821782178217 and parameters: {'max_depth': 19, 'min_samples_split': 6, 'min_samples_leaf': 6, 'max_features': 'log2', 'splitter': 'best', 'criterion': 'gini'}. Best is trial 41 with value: 0.20350877192982456.\n",
      "[I 2024-08-17 01:33:41,175] Trial 121 finished with value: 0.20350877192982456 and parameters: {'max_depth': 26, 'min_samples_split': 7, 'min_samples_leaf': 6, 'max_features': None, 'splitter': 'best', 'criterion': 'gini'}. Best is trial 41 with value: 0.20350877192982456.\n",
      "[I 2024-08-17 01:33:41,345] Trial 122 finished with value: 0.20350877192982456 and parameters: {'max_depth': 26, 'min_samples_split': 7, 'min_samples_leaf': 6, 'max_features': None, 'splitter': 'best', 'criterion': 'gini'}. Best is trial 41 with value: 0.20350877192982456.\n",
      "[I 2024-08-17 01:33:41,500] Trial 123 finished with value: 0.1906474820143885 and parameters: {'max_depth': 17, 'min_samples_split': 5, 'min_samples_leaf': 6, 'max_features': None, 'splitter': 'best', 'criterion': 'gini'}. Best is trial 41 with value: 0.20350877192982456.\n",
      "[I 2024-08-17 01:33:41,670] Trial 124 finished with value: 0.20350877192982456 and parameters: {'max_depth': 26, 'min_samples_split': 7, 'min_samples_leaf': 6, 'max_features': None, 'splitter': 'best', 'criterion': 'gini'}. Best is trial 41 with value: 0.20350877192982456.\n",
      "[I 2024-08-17 01:33:41,836] Trial 125 finished with value: 0.20209059233449478 and parameters: {'max_depth': 27, 'min_samples_split': 6, 'min_samples_leaf': 6, 'max_features': None, 'splitter': 'best', 'criterion': 'gini'}. Best is trial 41 with value: 0.20350877192982456.\n",
      "[I 2024-08-17 01:33:42,002] Trial 126 finished with value: 0.18407079646017696 and parameters: {'max_depth': 29, 'min_samples_split': 7, 'min_samples_leaf': 7, 'max_features': None, 'splitter': 'best', 'criterion': 'gini'}. Best is trial 41 with value: 0.20350877192982456.\n",
      "[I 2024-08-17 01:33:42,176] Trial 127 finished with value: 0.18709677419354837 and parameters: {'max_depth': 23, 'min_samples_split': 5, 'min_samples_leaf': 5, 'max_features': None, 'splitter': 'best', 'criterion': 'gini'}. Best is trial 41 with value: 0.20350877192982456.\n",
      "[I 2024-08-17 01:33:42,222] Trial 128 finished with value: 0.06493506493506493 and parameters: {'max_depth': 2, 'min_samples_split': 6, 'min_samples_leaf': 6, 'max_features': None, 'splitter': 'best', 'criterion': 'gini'}. Best is trial 41 with value: 0.20350877192982456.\n",
      "[I 2024-08-17 01:33:42,300] Trial 129 finished with value: 0.171875 and parameters: {'max_depth': 25, 'min_samples_split': 7, 'min_samples_leaf': 6, 'max_features': None, 'splitter': 'random', 'criterion': 'entropy'}. Best is trial 41 with value: 0.20350877192982456.\n",
      "[I 2024-08-17 01:33:42,461] Trial 130 finished with value: 0.18439716312056736 and parameters: {'max_depth': 20, 'min_samples_split': 4, 'min_samples_leaf': 7, 'max_features': None, 'splitter': 'best', 'criterion': 'gini'}. Best is trial 41 with value: 0.20350877192982456.\n",
      "[I 2024-08-17 01:33:42,628] Trial 131 finished with value: 0.20350877192982456 and parameters: {'max_depth': 26, 'min_samples_split': 7, 'min_samples_leaf': 6, 'max_features': None, 'splitter': 'best', 'criterion': 'gini'}. Best is trial 41 with value: 0.20350877192982456.\n",
      "[I 2024-08-17 01:33:42,795] Trial 132 finished with value: 0.20209059233449478 and parameters: {'max_depth': 28, 'min_samples_split': 7, 'min_samples_leaf': 6, 'max_features': None, 'splitter': 'best', 'criterion': 'gini'}. Best is trial 41 with value: 0.20350877192982456.\n",
      "[I 2024-08-17 01:33:42,962] Trial 133 finished with value: 0.20350877192982456 and parameters: {'max_depth': 26, 'min_samples_split': 6, 'min_samples_leaf': 6, 'max_features': None, 'splitter': 'best', 'criterion': 'gini'}. Best is trial 41 with value: 0.20350877192982456.\n",
      "[I 2024-08-17 01:33:43,129] Trial 134 finished with value: 0.20279720279720279 and parameters: {'max_depth': 22, 'min_samples_split': 9, 'min_samples_leaf': 6, 'max_features': None, 'splitter': 'best', 'criterion': 'gini'}. Best is trial 41 with value: 0.20350877192982456.\n",
      "[I 2024-08-17 01:33:43,311] Trial 135 finished with value: 0.20209059233449478 and parameters: {'max_depth': 27, 'min_samples_split': 8, 'min_samples_leaf': 6, 'max_features': None, 'splitter': 'best', 'criterion': 'gini'}. Best is trial 41 with value: 0.20350877192982456.\n",
      "[I 2024-08-17 01:33:43,483] Trial 136 finished with value: 0.2031523642732049 and parameters: {'max_depth': 25, 'min_samples_split': 4, 'min_samples_leaf': 6, 'max_features': None, 'splitter': 'best', 'criterion': 'gini'}. Best is trial 41 with value: 0.20350877192982456.\n",
      "[I 2024-08-17 01:33:43,653] Trial 137 finished with value: 0.18627450980392157 and parameters: {'max_depth': 24, 'min_samples_split': 6, 'min_samples_leaf': 5, 'max_features': None, 'splitter': 'best', 'criterion': 'gini'}. Best is trial 41 with value: 0.20350877192982456.\n",
      "[I 2024-08-17 01:33:43,718] Trial 138 finished with value: 0.1966101694915254 and parameters: {'max_depth': 27, 'min_samples_split': 5, 'min_samples_leaf': 2, 'max_features': 'sqrt', 'splitter': 'best', 'criterion': 'gini'}. Best is trial 41 with value: 0.20350877192982456.\n",
      "[I 2024-08-17 01:33:43,886] Trial 139 finished with value: 0.2031523642732049 and parameters: {'max_depth': 25, 'min_samples_split': 8, 'min_samples_leaf': 6, 'max_features': None, 'splitter': 'best', 'criterion': 'gini'}. Best is trial 41 with value: 0.20350877192982456.\n",
      "[I 2024-08-17 01:33:44,051] Trial 140 finished with value: 0.18342151675485005 and parameters: {'max_depth': 26, 'min_samples_split': 7, 'min_samples_leaf': 7, 'max_features': None, 'splitter': 'best', 'criterion': 'gini'}. Best is trial 41 with value: 0.20350877192982456.\n",
      "[I 2024-08-17 01:33:44,218] Trial 141 finished with value: 0.20350877192982456 and parameters: {'max_depth': 26, 'min_samples_split': 7, 'min_samples_leaf': 6, 'max_features': None, 'splitter': 'best', 'criterion': 'gini'}. Best is trial 41 with value: 0.20350877192982456.\n",
      "[I 2024-08-17 01:33:44,379] Trial 142 finished with value: 0.18497109826589594 and parameters: {'max_depth': 24, 'min_samples_split': 28, 'min_samples_leaf': 6, 'max_features': None, 'splitter': 'best', 'criterion': 'gini'}. Best is trial 41 with value: 0.20350877192982456.\n",
      "[I 2024-08-17 01:33:44,544] Trial 143 finished with value: 0.2031523642732049 and parameters: {'max_depth': 25, 'min_samples_split': 9, 'min_samples_leaf': 6, 'max_features': None, 'splitter': 'best', 'criterion': 'gini'}. Best is trial 41 with value: 0.20350877192982456.\n",
      "[I 2024-08-17 01:33:44,713] Trial 144 finished with value: 0.20209059233449478 and parameters: {'max_depth': 27, 'min_samples_split': 7, 'min_samples_leaf': 6, 'max_features': None, 'splitter': 'best', 'criterion': 'gini'}. Best is trial 41 with value: 0.20350877192982456.\n",
      "[I 2024-08-17 01:33:44,882] Trial 145 finished with value: 0.20350877192982456 and parameters: {'max_depth': 23, 'min_samples_split': 6, 'min_samples_leaf': 6, 'max_features': None, 'splitter': 'best', 'criterion': 'gini'}. Best is trial 41 with value: 0.20350877192982456.\n",
      "[I 2024-08-17 01:33:45,049] Trial 146 finished with value: 0.19016393442622948 and parameters: {'max_depth': 22, 'min_samples_split': 5, 'min_samples_leaf': 5, 'max_features': None, 'splitter': 'best', 'criterion': 'gini'}. Best is trial 41 with value: 0.20350877192982456.\n",
      "[I 2024-08-17 01:33:45,216] Trial 147 finished with value: 0.20350877192982456 and parameters: {'max_depth': 26, 'min_samples_split': 8, 'min_samples_leaf': 6, 'max_features': None, 'splitter': 'best', 'criterion': 'gini'}. Best is trial 41 with value: 0.20350877192982456.\n",
      "[I 2024-08-17 01:33:45,272] Trial 148 finished with value: 0.16829745596868884 and parameters: {'max_depth': 28, 'min_samples_split': 15, 'min_samples_leaf': 6, 'max_features': 'log2', 'splitter': 'best', 'criterion': 'gini'}. Best is trial 41 with value: 0.20350877192982456.\n",
      "[I 2024-08-17 01:33:45,436] Trial 149 finished with value: 0.18342151675485005 and parameters: {'max_depth': 25, 'min_samples_split': 8, 'min_samples_leaf': 7, 'max_features': None, 'splitter': 'best', 'criterion': 'gini'}. Best is trial 41 with value: 0.20350877192982456.\n",
      "[I 2024-08-17 01:33:45,513] Trial 150 finished with value: 0.17165668662674652 and parameters: {'max_depth': 27, 'min_samples_split': 6, 'min_samples_leaf': 6, 'max_features': None, 'splitter': 'random', 'criterion': 'entropy'}. Best is trial 41 with value: 0.20350877192982456.\n",
      "[I 2024-08-17 01:33:45,679] Trial 151 finished with value: 0.20350877192982456 and parameters: {'max_depth': 26, 'min_samples_split': 7, 'min_samples_leaf': 6, 'max_features': None, 'splitter': 'best', 'criterion': 'gini'}. Best is trial 41 with value: 0.20350877192982456.\n",
      "[I 2024-08-17 01:33:45,851] Trial 152 finished with value: 0.2031523642732049 and parameters: {'max_depth': 24, 'min_samples_split': 7, 'min_samples_leaf': 6, 'max_features': None, 'splitter': 'best', 'criterion': 'gini'}. Best is trial 41 with value: 0.20350877192982456.\n",
      "[I 2024-08-17 01:33:46,019] Trial 153 finished with value: 0.20350877192982456 and parameters: {'max_depth': 26, 'min_samples_split': 5, 'min_samples_leaf': 6, 'max_features': None, 'splitter': 'best', 'criterion': 'gini'}. Best is trial 41 with value: 0.20350877192982456.\n",
      "[I 2024-08-17 01:33:46,186] Trial 154 finished with value: 0.20350877192982456 and parameters: {'max_depth': 26, 'min_samples_split': 6, 'min_samples_leaf': 6, 'max_features': None, 'splitter': 'best', 'criterion': 'gini'}. Best is trial 41 with value: 0.20350877192982456.\n",
      "[I 2024-08-17 01:33:46,353] Trial 155 finished with value: 0.20350877192982456 and parameters: {'max_depth': 23, 'min_samples_split': 9, 'min_samples_leaf': 6, 'max_features': None, 'splitter': 'best', 'criterion': 'gini'}. Best is trial 41 with value: 0.20350877192982456.\n",
      "[I 2024-08-17 01:33:46,500] Trial 156 finished with value: 0.17452006980802792 and parameters: {'max_depth': 15, 'min_samples_split': 7, 'min_samples_leaf': 5, 'max_features': None, 'splitter': 'best', 'criterion': 'gini'}. Best is trial 41 with value: 0.20350877192982456.\n",
      "[I 2024-08-17 01:33:46,668] Trial 157 finished with value: 0.2031523642732049 and parameters: {'max_depth': 25, 'min_samples_split': 8, 'min_samples_leaf': 6, 'max_features': None, 'splitter': 'best', 'criterion': 'gini'}. Best is trial 41 with value: 0.20350877192982456.\n",
      "[I 2024-08-17 01:33:46,834] Trial 158 finished with value: 0.19272727272727272 and parameters: {'max_depth': 28, 'min_samples_split': 18, 'min_samples_leaf': 7, 'max_features': None, 'splitter': 'best', 'criterion': 'gini'}. Best is trial 41 with value: 0.20350877192982456.\n",
      "[I 2024-08-17 01:33:47,002] Trial 159 finished with value: 0.2031523642732049 and parameters: {'max_depth': 24, 'min_samples_split': 10, 'min_samples_leaf': 6, 'max_features': None, 'splitter': 'best', 'criterion': 'gini'}. Best is trial 41 with value: 0.20350877192982456.\n",
      "[I 2024-08-17 01:33:47,167] Trial 160 finished with value: 0.20279720279720279 and parameters: {'max_depth': 22, 'min_samples_split': 6, 'min_samples_leaf': 6, 'max_features': None, 'splitter': 'best', 'criterion': 'gini'}. Best is trial 41 with value: 0.20350877192982456.\n",
      "[I 2024-08-17 01:33:47,336] Trial 161 finished with value: 0.20209059233449478 and parameters: {'max_depth': 27, 'min_samples_split': 5, 'min_samples_leaf': 6, 'max_features': None, 'splitter': 'best', 'criterion': 'gini'}. Best is trial 41 with value: 0.20350877192982456.\n",
      "[I 2024-08-17 01:33:47,501] Trial 162 finished with value: 0.20350877192982456 and parameters: {'max_depth': 26, 'min_samples_split': 7, 'min_samples_leaf': 6, 'max_features': None, 'splitter': 'best', 'criterion': 'gini'}. Best is trial 41 with value: 0.20350877192982456.\n",
      "[I 2024-08-17 01:33:47,668] Trial 163 finished with value: 0.20350877192982456 and parameters: {'max_depth': 26, 'min_samples_split': 6, 'min_samples_leaf': 6, 'max_features': None, 'splitter': 'best', 'criterion': 'gini'}. Best is trial 41 with value: 0.20350877192982456.\n",
      "[I 2024-08-17 01:33:47,841] Trial 164 finished with value: 0.2031523642732049 and parameters: {'max_depth': 25, 'min_samples_split': 6, 'min_samples_leaf': 6, 'max_features': None, 'splitter': 'best', 'criterion': 'gini'}. Best is trial 41 with value: 0.20350877192982456.\n",
      "[I 2024-08-17 01:33:48,008] Trial 165 finished with value: 0.20209059233449478 and parameters: {'max_depth': 27, 'min_samples_split': 8, 'min_samples_leaf': 6, 'max_features': None, 'splitter': 'best', 'criterion': 'gini'}. Best is trial 41 with value: 0.20350877192982456.\n",
      "[I 2024-08-17 01:33:48,173] Trial 166 finished with value: 0.20350877192982456 and parameters: {'max_depth': 23, 'min_samples_split': 4, 'min_samples_leaf': 6, 'max_features': None, 'splitter': 'best', 'criterion': 'gini'}. Best is trial 41 with value: 0.20350877192982456.\n",
      "[I 2024-08-17 01:33:48,345] Trial 167 finished with value: 0.20350877192982456 and parameters: {'max_depth': 26, 'min_samples_split': 5, 'min_samples_leaf': 6, 'max_features': None, 'splitter': 'best', 'criterion': 'gini'}. Best is trial 41 with value: 0.20350877192982456.\n",
      "[I 2024-08-17 01:33:48,408] Trial 168 finished with value: 0.1846153846153846 and parameters: {'max_depth': 21, 'min_samples_split': 7, 'min_samples_leaf': 5, 'max_features': 'sqrt', 'splitter': 'best', 'criterion': 'gini'}. Best is trial 41 with value: 0.20350877192982456.\n",
      "[I 2024-08-17 01:33:48,573] Trial 169 finished with value: 0.2031523642732049 and parameters: {'max_depth': 24, 'min_samples_split': 6, 'min_samples_leaf': 6, 'max_features': None, 'splitter': 'best', 'criterion': 'gini'}. Best is trial 41 with value: 0.20350877192982456.\n",
      "[I 2024-08-17 01:33:48,735] Trial 170 finished with value: 0.2033271719038817 and parameters: {'max_depth': 29, 'min_samples_split': 22, 'min_samples_leaf': 7, 'max_features': None, 'splitter': 'best', 'criterion': 'gini'}. Best is trial 41 with value: 0.20350877192982456.\n",
      "[I 2024-08-17 01:33:48,904] Trial 171 finished with value: 0.20350877192982456 and parameters: {'max_depth': 26, 'min_samples_split': 7, 'min_samples_leaf': 6, 'max_features': None, 'splitter': 'best', 'criterion': 'gini'}. Best is trial 41 with value: 0.20350877192982456.\n",
      "[I 2024-08-17 01:33:49,071] Trial 172 finished with value: 0.2031523642732049 and parameters: {'max_depth': 25, 'min_samples_split': 8, 'min_samples_leaf': 6, 'max_features': None, 'splitter': 'best', 'criterion': 'gini'}. Best is trial 41 with value: 0.20350877192982456.\n",
      "[I 2024-08-17 01:33:49,240] Trial 173 finished with value: 0.20350877192982456 and parameters: {'max_depth': 26, 'min_samples_split': 7, 'min_samples_leaf': 6, 'max_features': None, 'splitter': 'best', 'criterion': 'gini'}. Best is trial 41 with value: 0.20350877192982456.\n",
      "[I 2024-08-17 01:33:49,407] Trial 174 finished with value: 0.20209059233449478 and parameters: {'max_depth': 27, 'min_samples_split': 7, 'min_samples_leaf': 6, 'max_features': None, 'splitter': 'best', 'criterion': 'gini'}. Best is trial 41 with value: 0.20350877192982456.\n",
      "[I 2024-08-17 01:33:49,524] Trial 175 finished with value: 0.1722113502935421 and parameters: {'max_depth': 10, 'min_samples_split': 9, 'min_samples_leaf': 6, 'max_features': None, 'splitter': 'best', 'criterion': 'gini'}. Best is trial 41 with value: 0.20350877192982456.\n",
      "[I 2024-08-17 01:33:49,692] Trial 176 finished with value: 0.2031523642732049 and parameters: {'max_depth': 25, 'min_samples_split': 6, 'min_samples_leaf': 6, 'max_features': None, 'splitter': 'best', 'criterion': 'gini'}. Best is trial 41 with value: 0.20350877192982456.\n",
      "[I 2024-08-17 01:33:49,859] Trial 177 finished with value: 0.20209059233449478 and parameters: {'max_depth': 28, 'min_samples_split': 5, 'min_samples_leaf': 6, 'max_features': None, 'splitter': 'best', 'criterion': 'gini'}. Best is trial 41 with value: 0.20350877192982456.\n",
      "[I 2024-08-17 01:33:49,919] Trial 178 finished with value: 0.17681728880157171 and parameters: {'max_depth': 26, 'min_samples_split': 8, 'min_samples_leaf': 6, 'max_features': 'log2', 'splitter': 'best', 'criterion': 'gini'}. Best is trial 41 with value: 0.20350877192982456.\n",
      "[I 2024-08-17 01:33:50,088] Trial 179 finished with value: 0.20350877192982456 and parameters: {'max_depth': 23, 'min_samples_split': 6, 'min_samples_leaf': 6, 'max_features': None, 'splitter': 'best', 'criterion': 'gini'}. Best is trial 41 with value: 0.20350877192982456.\n",
      "[I 2024-08-17 01:33:50,164] Trial 180 finished with value: 0.10833333333333332 and parameters: {'max_depth': 27, 'min_samples_split': 7, 'min_samples_leaf': 7, 'max_features': None, 'splitter': 'random', 'criterion': 'entropy'}. Best is trial 41 with value: 0.20350877192982456.\n",
      "[I 2024-08-17 01:33:50,330] Trial 181 finished with value: 0.20350877192982456 and parameters: {'max_depth': 23, 'min_samples_split': 6, 'min_samples_leaf': 6, 'max_features': None, 'splitter': 'best', 'criterion': 'gini'}. Best is trial 41 with value: 0.20350877192982456.\n",
      "[I 2024-08-17 01:33:50,499] Trial 182 finished with value: 0.20279720279720279 and parameters: {'max_depth': 22, 'min_samples_split': 5, 'min_samples_leaf': 6, 'max_features': None, 'splitter': 'best', 'criterion': 'gini'}. Best is trial 41 with value: 0.20350877192982456.\n",
      "[I 2024-08-17 01:33:50,670] Trial 183 finished with value: 0.2031523642732049 and parameters: {'max_depth': 24, 'min_samples_split': 7, 'min_samples_leaf': 6, 'max_features': None, 'splitter': 'best', 'criterion': 'gini'}. Best is trial 41 with value: 0.20350877192982456.\n",
      "[I 2024-08-17 01:33:50,840] Trial 184 finished with value: 0.20350877192982456 and parameters: {'max_depth': 23, 'min_samples_split': 6, 'min_samples_leaf': 6, 'max_features': None, 'splitter': 'best', 'criterion': 'gini'}. Best is trial 41 with value: 0.20350877192982456.\n",
      "[I 2024-08-17 01:33:51,014] Trial 185 finished with value: 0.2007042253521127 and parameters: {'max_depth': 26, 'min_samples_split': 13, 'min_samples_leaf': 6, 'max_features': None, 'splitter': 'best', 'criterion': 'gini'}. Best is trial 41 with value: 0.20350877192982456.\n",
      "[I 2024-08-17 01:33:51,184] Trial 186 finished with value: 0.2031523642732049 and parameters: {'max_depth': 24, 'min_samples_split': 4, 'min_samples_leaf': 6, 'max_features': None, 'splitter': 'best', 'criterion': 'gini'}. Best is trial 41 with value: 0.20350877192982456.\n",
      "[I 2024-08-17 01:33:51,352] Trial 187 finished with value: 0.2031523642732049 and parameters: {'max_depth': 25, 'min_samples_split': 6, 'min_samples_leaf': 6, 'max_features': None, 'splitter': 'best', 'criterion': 'gini'}. Best is trial 41 with value: 0.20350877192982456.\n",
      "[I 2024-08-17 01:33:51,526] Trial 188 finished with value: 0.1858974358974359 and parameters: {'max_depth': 25, 'min_samples_split': 7, 'min_samples_leaf': 5, 'max_features': None, 'splitter': 'best', 'criterion': 'gini'}. Best is trial 41 with value: 0.20350877192982456.\n",
      "[I 2024-08-17 01:33:51,695] Trial 189 finished with value: 0.20209059233449478 and parameters: {'max_depth': 27, 'min_samples_split': 5, 'min_samples_leaf': 6, 'max_features': None, 'splitter': 'best', 'criterion': 'gini'}. Best is trial 41 with value: 0.20350877192982456.\n",
      "[I 2024-08-17 01:33:51,863] Trial 190 finished with value: 0.20279720279720279 and parameters: {'max_depth': 22, 'min_samples_split': 8, 'min_samples_leaf': 6, 'max_features': None, 'splitter': 'best', 'criterion': 'gini'}. Best is trial 41 with value: 0.20350877192982456.\n",
      "[I 2024-08-17 01:33:52,033] Trial 191 finished with value: 0.20350877192982456 and parameters: {'max_depth': 26, 'min_samples_split': 8, 'min_samples_leaf': 6, 'max_features': None, 'splitter': 'best', 'criterion': 'gini'}. Best is trial 41 with value: 0.20350877192982456.\n",
      "[I 2024-08-17 01:33:52,203] Trial 192 finished with value: 0.20350877192982456 and parameters: {'max_depth': 26, 'min_samples_split': 9, 'min_samples_leaf': 6, 'max_features': None, 'splitter': 'best', 'criterion': 'gini'}. Best is trial 41 with value: 0.20350877192982456.\n",
      "[I 2024-08-17 01:33:52,371] Trial 193 finished with value: 0.20209059233449478 and parameters: {'max_depth': 27, 'min_samples_split': 8, 'min_samples_leaf': 6, 'max_features': None, 'splitter': 'best', 'criterion': 'gini'}. Best is trial 41 with value: 0.20350877192982456.\n",
      "[I 2024-08-17 01:33:52,540] Trial 194 finished with value: 0.2031523642732049 and parameters: {'max_depth': 25, 'min_samples_split': 7, 'min_samples_leaf': 6, 'max_features': None, 'splitter': 'best', 'criterion': 'gini'}. Best is trial 41 with value: 0.20350877192982456.\n",
      "[I 2024-08-17 01:33:52,711] Trial 195 finished with value: 0.20350877192982456 and parameters: {'max_depth': 26, 'min_samples_split': 6, 'min_samples_leaf': 6, 'max_features': None, 'splitter': 'best', 'criterion': 'gini'}. Best is trial 41 with value: 0.20350877192982456.\n",
      "[I 2024-08-17 01:33:52,880] Trial 196 finished with value: 0.2031523642732049 and parameters: {'max_depth': 24, 'min_samples_split': 7, 'min_samples_leaf': 6, 'max_features': None, 'splitter': 'best', 'criterion': 'gini'}. Best is trial 41 with value: 0.20350877192982456.\n",
      "[I 2024-08-17 01:33:53,046] Trial 197 finished with value: 0.20279720279720279 and parameters: {'max_depth': 21, 'min_samples_split': 6, 'min_samples_leaf': 6, 'max_features': None, 'splitter': 'best', 'criterion': 'gini'}. Best is trial 41 with value: 0.20350877192982456.\n",
      "[I 2024-08-17 01:33:53,105] Trial 198 finished with value: 0.17564870259481039 and parameters: {'max_depth': 23, 'min_samples_split': 8, 'min_samples_leaf': 6, 'max_features': 'sqrt', 'splitter': 'best', 'criterion': 'gini'}. Best is trial 41 with value: 0.20350877192982456.\n",
      "[I 2024-08-17 01:33:53,275] Trial 199 finished with value: 0.18709677419354837 and parameters: {'max_depth': 26, 'min_samples_split': 7, 'min_samples_leaf': 5, 'max_features': None, 'splitter': 'best', 'criterion': 'gini'}. Best is trial 41 with value: 0.20350877192982456.\n",
      "[I 2024-08-17 01:33:53,342] Trial 200 finished with value: 0.13664596273291926 and parameters: {'max_depth': 4, 'min_samples_split': 5, 'min_samples_leaf': 7, 'max_features': None, 'splitter': 'best', 'criterion': 'gini'}. Best is trial 41 with value: 0.20350877192982456.\n",
      "[I 2024-08-17 01:33:53,531] Trial 201 finished with value: 0.20209059233449478 and parameters: {'max_depth': 27, 'min_samples_split': 7, 'min_samples_leaf': 6, 'max_features': None, 'splitter': 'best', 'criterion': 'gini'}. Best is trial 41 with value: 0.20350877192982456.\n",
      "[I 2024-08-17 01:33:53,700] Trial 202 finished with value: 0.20350877192982456 and parameters: {'max_depth': 26, 'min_samples_split': 6, 'min_samples_leaf': 6, 'max_features': None, 'splitter': 'best', 'criterion': 'gini'}. Best is trial 41 with value: 0.20350877192982456.\n",
      "[I 2024-08-17 01:33:53,869] Trial 203 finished with value: 0.2031523642732049 and parameters: {'max_depth': 25, 'min_samples_split': 9, 'min_samples_leaf': 6, 'max_features': None, 'splitter': 'best', 'criterion': 'gini'}. Best is trial 41 with value: 0.20350877192982456.\n",
      "[I 2024-08-17 01:33:54,041] Trial 204 finished with value: 0.20350877192982456 and parameters: {'max_depth': 26, 'min_samples_split': 7, 'min_samples_leaf': 6, 'max_features': None, 'splitter': 'best', 'criterion': 'gini'}. Best is trial 41 with value: 0.20350877192982456.\n",
      "[I 2024-08-17 01:33:54,210] Trial 205 finished with value: 0.20209059233449478 and parameters: {'max_depth': 27, 'min_samples_split': 6, 'min_samples_leaf': 6, 'max_features': None, 'splitter': 'best', 'criterion': 'gini'}. Best is trial 41 with value: 0.20350877192982456.\n",
      "[I 2024-08-17 01:33:54,377] Trial 206 finished with value: 0.2031523642732049 and parameters: {'max_depth': 24, 'min_samples_split': 8, 'min_samples_leaf': 6, 'max_features': None, 'splitter': 'best', 'criterion': 'gini'}. Best is trial 41 with value: 0.20350877192982456.\n",
      "[I 2024-08-17 01:33:54,555] Trial 207 finished with value: 0.2031523642732049 and parameters: {'max_depth': 25, 'min_samples_split': 7, 'min_samples_leaf': 6, 'max_features': None, 'splitter': 'best', 'criterion': 'gini'}. Best is trial 41 with value: 0.20350877192982456.\n",
      "[I 2024-08-17 01:33:54,726] Trial 208 finished with value: 0.20350877192982456 and parameters: {'max_depth': 26, 'min_samples_split': 6, 'min_samples_leaf': 6, 'max_features': None, 'splitter': 'best', 'criterion': 'gini'}. Best is trial 41 with value: 0.20350877192982456.\n",
      "[I 2024-08-17 01:33:54,803] Trial 209 finished with value: 0.1803921568627451 and parameters: {'max_depth': 23, 'min_samples_split': 12, 'min_samples_leaf': 6, 'max_features': None, 'splitter': 'random', 'criterion': 'entropy'}. Best is trial 41 with value: 0.20350877192982456.\n",
      "[I 2024-08-17 01:33:54,974] Trial 210 finished with value: 0.20209059233449478 and parameters: {'max_depth': 28, 'min_samples_split': 8, 'min_samples_leaf': 6, 'max_features': None, 'splitter': 'best', 'criterion': 'gini'}. Best is trial 41 with value: 0.20350877192982456.\n",
      "[I 2024-08-17 01:33:55,144] Trial 211 finished with value: 0.20350877192982456 and parameters: {'max_depth': 26, 'min_samples_split': 5, 'min_samples_leaf': 6, 'max_features': None, 'splitter': 'best', 'criterion': 'gini'}. Best is trial 41 with value: 0.20350877192982456.\n",
      "[I 2024-08-17 01:33:55,345] Trial 212 finished with value: 0.20350877192982456 and parameters: {'max_depth': 26, 'min_samples_split': 5, 'min_samples_leaf': 6, 'max_features': None, 'splitter': 'best', 'criterion': 'gini'}. Best is trial 41 with value: 0.20350877192982456.\n",
      "[I 2024-08-17 01:33:55,516] Trial 213 finished with value: 0.20209059233449478 and parameters: {'max_depth': 27, 'min_samples_split': 5, 'min_samples_leaf': 6, 'max_features': None, 'splitter': 'best', 'criterion': 'gini'}. Best is trial 41 with value: 0.20350877192982456.\n",
      "[I 2024-08-17 01:33:55,686] Trial 214 finished with value: 0.2031523642732049 and parameters: {'max_depth': 25, 'min_samples_split': 4, 'min_samples_leaf': 6, 'max_features': None, 'splitter': 'best', 'criterion': 'gini'}. Best is trial 41 with value: 0.20350877192982456.\n",
      "[I 2024-08-17 01:33:55,746] Trial 215 finished with value: 0.17647058823529413 and parameters: {'max_depth': 22, 'min_samples_split': 7, 'min_samples_leaf': 6, 'max_features': 'log2', 'splitter': 'best', 'criterion': 'gini'}. Best is trial 41 with value: 0.20350877192982456.\n",
      "[I 2024-08-17 01:33:55,916] Trial 216 finished with value: 0.20350877192982456 and parameters: {'max_depth': 26, 'min_samples_split': 6, 'min_samples_leaf': 6, 'max_features': None, 'splitter': 'best', 'criterion': 'gini'}. Best is trial 41 with value: 0.20350877192982456.\n",
      "[I 2024-08-17 01:33:56,088] Trial 217 finished with value: 0.2031523642732049 and parameters: {'max_depth': 25, 'min_samples_split': 7, 'min_samples_leaf': 6, 'max_features': None, 'splitter': 'best', 'criterion': 'gini'}. Best is trial 41 with value: 0.20350877192982456.\n",
      "[I 2024-08-17 01:33:56,258] Trial 218 finished with value: 0.20350877192982456 and parameters: {'max_depth': 26, 'min_samples_split': 6, 'min_samples_leaf': 6, 'max_features': None, 'splitter': 'best', 'criterion': 'gini'}. Best is trial 41 with value: 0.20350877192982456.\n",
      "[I 2024-08-17 01:33:56,432] Trial 219 finished with value: 0.20209059233449478 and parameters: {'max_depth': 27, 'min_samples_split': 8, 'min_samples_leaf': 6, 'max_features': None, 'splitter': 'best', 'criterion': 'gini'}. Best is trial 41 with value: 0.20350877192982456.\n",
      "[I 2024-08-17 01:33:56,611] Trial 220 finished with value: 0.18709677419354837 and parameters: {'max_depth': 23, 'min_samples_split': 5, 'min_samples_leaf': 5, 'max_features': None, 'splitter': 'best', 'criterion': 'gini'}. Best is trial 41 with value: 0.20350877192982456.\n",
      "[I 2024-08-17 01:33:56,790] Trial 221 finished with value: 0.20350877192982456 and parameters: {'max_depth': 26, 'min_samples_split': 6, 'min_samples_leaf': 6, 'max_features': None, 'splitter': 'best', 'criterion': 'gini'}. Best is trial 41 with value: 0.20350877192982456.\n",
      "[I 2024-08-17 01:33:56,973] Trial 222 finished with value: 0.20350877192982456 and parameters: {'max_depth': 26, 'min_samples_split': 7, 'min_samples_leaf': 6, 'max_features': None, 'splitter': 'best', 'criterion': 'gini'}. Best is trial 41 with value: 0.20350877192982456.\n",
      "[I 2024-08-17 01:33:57,156] Trial 223 finished with value: 0.20209059233449478 and parameters: {'max_depth': 27, 'min_samples_split': 6, 'min_samples_leaf': 6, 'max_features': None, 'splitter': 'best', 'criterion': 'gini'}. Best is trial 41 with value: 0.20350877192982456.\n",
      "[I 2024-08-17 01:33:57,329] Trial 224 finished with value: 0.2031523642732049 and parameters: {'max_depth': 24, 'min_samples_split': 5, 'min_samples_leaf': 6, 'max_features': None, 'splitter': 'best', 'criterion': 'gini'}. Best is trial 41 with value: 0.20350877192982456.\n",
      "[I 2024-08-17 01:33:57,499] Trial 225 finished with value: 0.2031523642732049 and parameters: {'max_depth': 25, 'min_samples_split': 7, 'min_samples_leaf': 6, 'max_features': None, 'splitter': 'best', 'criterion': 'gini'}. Best is trial 41 with value: 0.20350877192982456.\n",
      "[I 2024-08-17 01:33:57,676] Trial 226 finished with value: 0.20350877192982456 and parameters: {'max_depth': 26, 'min_samples_split': 6, 'min_samples_leaf': 6, 'max_features': None, 'splitter': 'best', 'criterion': 'gini'}. Best is trial 41 with value: 0.20350877192982456.\n",
      "[I 2024-08-17 01:33:57,887] Trial 227 finished with value: 0.20734908136482938 and parameters: {'max_depth': 27, 'min_samples_split': 7, 'min_samples_leaf': 1, 'max_features': None, 'splitter': 'best', 'criterion': 'gini'}. Best is trial 227 with value: 0.20734908136482938.\n",
      "[I 2024-08-17 01:33:58,069] Trial 228 finished with value: 0.18439716312056736 and parameters: {'max_depth': 28, 'min_samples_split': 8, 'min_samples_leaf': 7, 'max_features': None, 'splitter': 'best', 'criterion': 'gini'}. Best is trial 227 with value: 0.20734908136482938.\n",
      "[I 2024-08-17 01:33:58,259] Trial 229 finished with value: 0.20209059233449478 and parameters: {'max_depth': 27, 'min_samples_split': 9, 'min_samples_leaf': 6, 'max_features': None, 'splitter': 'best', 'criterion': 'gini'}. Best is trial 227 with value: 0.20734908136482938.\n",
      "[I 2024-08-17 01:33:58,447] Trial 230 finished with value: 0.2075187969924812 and parameters: {'max_depth': 22, 'min_samples_split': 7, 'min_samples_leaf': 2, 'max_features': None, 'splitter': 'best', 'criterion': 'gini'}. Best is trial 230 with value: 0.2075187969924812.\n",
      "[I 2024-08-17 01:33:58,645] Trial 231 finished with value: 0.21636615811373094 and parameters: {'max_depth': 22, 'min_samples_split': 7, 'min_samples_leaf': 1, 'max_features': None, 'splitter': 'best', 'criterion': 'gini'}. Best is trial 231 with value: 0.21636615811373094.\n",
      "[I 2024-08-17 01:33:58,833] Trial 232 finished with value: 0.21636615811373094 and parameters: {'max_depth': 22, 'min_samples_split': 7, 'min_samples_leaf': 1, 'max_features': None, 'splitter': 'best', 'criterion': 'gini'}. Best is trial 231 with value: 0.21636615811373094.\n",
      "[I 2024-08-17 01:33:59,033] Trial 233 finished with value: 0.21636615811373094 and parameters: {'max_depth': 22, 'min_samples_split': 7, 'min_samples_leaf': 1, 'max_features': None, 'splitter': 'best', 'criterion': 'gini'}. Best is trial 231 with value: 0.21636615811373094.\n",
      "[I 2024-08-17 01:33:59,218] Trial 234 finished with value: 0.20285714285714285 and parameters: {'max_depth': 21, 'min_samples_split': 7, 'min_samples_leaf': 1, 'max_features': None, 'splitter': 'best', 'criterion': 'gini'}. Best is trial 231 with value: 0.21636615811373094.\n",
      "[I 2024-08-17 01:33:59,425] Trial 235 finished with value: 0.21636615811373094 and parameters: {'max_depth': 22, 'min_samples_split': 7, 'min_samples_leaf': 1, 'max_features': None, 'splitter': 'best', 'criterion': 'gini'}. Best is trial 231 with value: 0.21636615811373094.\n",
      "[I 2024-08-17 01:33:59,613] Trial 236 finished with value: 0.21128798842257598 and parameters: {'max_depth': 22, 'min_samples_split': 7, 'min_samples_leaf': 3, 'max_features': None, 'splitter': 'best', 'criterion': 'gini'}. Best is trial 231 with value: 0.21636615811373094.\n",
      "[I 2024-08-17 01:33:59,821] Trial 237 finished with value: 0.21636615811373094 and parameters: {'max_depth': 22, 'min_samples_split': 7, 'min_samples_leaf': 1, 'max_features': None, 'splitter': 'best', 'criterion': 'gini'}. Best is trial 231 with value: 0.21636615811373094.\n",
      "[I 2024-08-17 01:33:59,906] Trial 238 finished with value: 0.17828200972447325 and parameters: {'max_depth': 22, 'min_samples_split': 8, 'min_samples_leaf': 1, 'max_features': 'sqrt', 'splitter': 'best', 'criterion': 'gini'}. Best is trial 231 with value: 0.21636615811373094.\n",
      "[I 2024-08-17 01:34:00,104] Trial 239 finished with value: 0.21636615811373094 and parameters: {'max_depth': 22, 'min_samples_split': 7, 'min_samples_leaf': 1, 'max_features': None, 'splitter': 'best', 'criterion': 'gini'}. Best is trial 231 with value: 0.21636615811373094.\n",
      "[I 2024-08-17 01:34:00,303] Trial 240 finished with value: 0.21636615811373094 and parameters: {'max_depth': 22, 'min_samples_split': 7, 'min_samples_leaf': 1, 'max_features': None, 'splitter': 'best', 'criterion': 'gini'}. Best is trial 231 with value: 0.21636615811373094.\n",
      "[I 2024-08-17 01:34:00,505] Trial 241 finished with value: 0.21636615811373094 and parameters: {'max_depth': 22, 'min_samples_split': 7, 'min_samples_leaf': 1, 'max_features': None, 'splitter': 'best', 'criterion': 'gini'}. Best is trial 231 with value: 0.21636615811373094.\n",
      "[I 2024-08-17 01:34:00,779] Trial 242 finished with value: 0.2036775106082037 and parameters: {'max_depth': 22, 'min_samples_split': 8, 'min_samples_leaf': 1, 'max_features': None, 'splitter': 'best', 'criterion': 'gini'}. Best is trial 231 with value: 0.21636615811373094.\n",
      "[I 2024-08-17 01:34:01,065] Trial 243 finished with value: 0.2036775106082037 and parameters: {'max_depth': 22, 'min_samples_split': 8, 'min_samples_leaf': 1, 'max_features': None, 'splitter': 'best', 'criterion': 'gini'}. Best is trial 231 with value: 0.21636615811373094.\n",
      "[I 2024-08-17 01:34:01,285] Trial 244 finished with value: 0.19738751814223512 and parameters: {'max_depth': 21, 'min_samples_split': 8, 'min_samples_leaf': 1, 'max_features': None, 'splitter': 'best', 'criterion': 'gini'}. Best is trial 231 with value: 0.21636615811373094.\n",
      "[I 2024-08-17 01:34:01,500] Trial 245 finished with value: 0.2036775106082037 and parameters: {'max_depth': 22, 'min_samples_split': 8, 'min_samples_leaf': 1, 'max_features': None, 'splitter': 'best', 'criterion': 'gini'}. Best is trial 231 with value: 0.21636615811373094.\n",
      "[I 2024-08-17 01:34:01,704] Trial 246 finished with value: 0.19912152269399705 and parameters: {'max_depth': 22, 'min_samples_split': 9, 'min_samples_leaf': 1, 'max_features': None, 'splitter': 'best', 'criterion': 'gini'}. Best is trial 231 with value: 0.21636615811373094.\n",
      "[I 2024-08-17 01:34:01,911] Trial 247 finished with value: 0.20338983050847456 and parameters: {'max_depth': 22, 'min_samples_split': 10, 'min_samples_leaf': 2, 'max_features': None, 'splitter': 'best', 'criterion': 'gini'}. Best is trial 231 with value: 0.21636615811373094.\n",
      "[I 2024-08-17 01:34:02,108] Trial 248 finished with value: 0.19738751814223512 and parameters: {'max_depth': 21, 'min_samples_split': 8, 'min_samples_leaf': 1, 'max_features': None, 'splitter': 'best', 'criterion': 'gini'}. Best is trial 231 with value: 0.21636615811373094.\n",
      "[I 2024-08-17 01:34:02,304] Trial 249 finished with value: 0.19912152269399705 and parameters: {'max_depth': 22, 'min_samples_split': 9, 'min_samples_leaf': 1, 'max_features': None, 'splitter': 'best', 'criterion': 'gini'}. Best is trial 231 with value: 0.21636615811373094.\n",
      "[I 2024-08-17 01:34:02,393] Trial 250 finished with value: 0.16501650165016502 and parameters: {'max_depth': 21, 'min_samples_split': 8, 'min_samples_leaf': 1, 'max_features': None, 'splitter': 'random', 'criterion': 'entropy'}. Best is trial 231 with value: 0.21636615811373094.\n",
      "[I 2024-08-17 01:34:02,598] Trial 251 finished with value: 0.2036775106082037 and parameters: {'max_depth': 22, 'min_samples_split': 8, 'min_samples_leaf': 1, 'max_features': None, 'splitter': 'best', 'criterion': 'gini'}. Best is trial 231 with value: 0.21636615811373094.\n",
      "[I 2024-08-17 01:34:02,789] Trial 252 finished with value: 0.2036775106082037 and parameters: {'max_depth': 22, 'min_samples_split': 8, 'min_samples_leaf': 1, 'max_features': None, 'splitter': 'best', 'criterion': 'gini'}. Best is trial 231 with value: 0.21636615811373094.\n",
      "[I 2024-08-17 01:34:02,977] Trial 253 finished with value: 0.20089955022488756 and parameters: {'max_depth': 20, 'min_samples_split': 9, 'min_samples_leaf': 1, 'max_features': None, 'splitter': 'best', 'criterion': 'gini'}. Best is trial 231 with value: 0.21636615811373094.\n",
      "[I 2024-08-17 01:34:03,162] Trial 254 finished with value: 0.2036775106082037 and parameters: {'max_depth': 22, 'min_samples_split': 8, 'min_samples_leaf': 1, 'max_features': None, 'splitter': 'best', 'criterion': 'gini'}. Best is trial 231 with value: 0.21636615811373094.\n",
      "[I 2024-08-17 01:34:03,234] Trial 255 finished with value: 0.17828200972447325 and parameters: {'max_depth': 22, 'min_samples_split': 8, 'min_samples_leaf': 1, 'max_features': 'log2', 'splitter': 'best', 'criterion': 'gini'}. Best is trial 231 with value: 0.21636615811373094.\n",
      "[I 2024-08-17 01:34:03,420] Trial 256 finished with value: 0.19738751814223512 and parameters: {'max_depth': 21, 'min_samples_split': 8, 'min_samples_leaf': 1, 'max_features': None, 'splitter': 'best', 'criterion': 'gini'}. Best is trial 231 with value: 0.21636615811373094.\n",
      "[I 2024-08-17 01:34:03,618] Trial 257 finished with value: 0.2036775106082037 and parameters: {'max_depth': 22, 'min_samples_split': 8, 'min_samples_leaf': 1, 'max_features': None, 'splitter': 'best', 'criterion': 'gini'}. Best is trial 231 with value: 0.21636615811373094.\n",
      "[I 2024-08-17 01:34:03,802] Trial 258 finished with value: 0.20245398773006135 and parameters: {'max_depth': 22, 'min_samples_split': 9, 'min_samples_leaf': 2, 'max_features': None, 'splitter': 'best', 'criterion': 'gini'}. Best is trial 231 with value: 0.21636615811373094.\n",
      "[I 2024-08-17 01:34:03,993] Trial 259 finished with value: 0.2036775106082037 and parameters: {'max_depth': 22, 'min_samples_split': 8, 'min_samples_leaf': 1, 'max_features': None, 'splitter': 'best', 'criterion': 'gini'}. Best is trial 231 with value: 0.21636615811373094.\n",
      "[I 2024-08-17 01:34:04,192] Trial 260 finished with value: 0.20444444444444443 and parameters: {'max_depth': 21, 'min_samples_split': 9, 'min_samples_leaf': 1, 'max_features': None, 'splitter': 'best', 'criterion': 'gini'}. Best is trial 231 with value: 0.21636615811373094.\n",
      "[I 2024-08-17 01:34:04,385] Trial 261 finished with value: 0.19912152269399705 and parameters: {'max_depth': 22, 'min_samples_split': 9, 'min_samples_leaf': 1, 'max_features': None, 'splitter': 'best', 'criterion': 'gini'}. Best is trial 231 with value: 0.21636615811373094.\n",
      "[I 2024-08-17 01:34:04,585] Trial 262 finished with value: 0.20648967551622416 and parameters: {'max_depth': 21, 'min_samples_split': 10, 'min_samples_leaf': 1, 'max_features': None, 'splitter': 'best', 'criterion': 'gini'}. Best is trial 231 with value: 0.21636615811373094.\n",
      "[I 2024-08-17 01:34:04,774] Trial 263 finished with value: 0.20648967551622416 and parameters: {'max_depth': 21, 'min_samples_split': 10, 'min_samples_leaf': 1, 'max_features': None, 'splitter': 'best', 'criterion': 'gini'}. Best is trial 231 with value: 0.21636615811373094.\n",
      "[I 2024-08-17 01:34:04,963] Trial 264 finished with value: 0.20543806646525678 and parameters: {'max_depth': 20, 'min_samples_split': 10, 'min_samples_leaf': 1, 'max_features': None, 'splitter': 'best', 'criterion': 'gini'}. Best is trial 231 with value: 0.21636615811373094.\n",
      "[I 2024-08-17 01:34:05,154] Trial 265 finished with value: 0.20543806646525678 and parameters: {'max_depth': 20, 'min_samples_split': 10, 'min_samples_leaf': 1, 'max_features': None, 'splitter': 'best', 'criterion': 'gini'}. Best is trial 231 with value: 0.21636615811373094.\n",
      "[I 2024-08-17 01:34:05,332] Trial 266 finished with value: 0.20543806646525678 and parameters: {'max_depth': 20, 'min_samples_split': 10, 'min_samples_leaf': 1, 'max_features': None, 'splitter': 'best', 'criterion': 'gini'}. Best is trial 231 with value: 0.21636615811373094.\n",
      "[I 2024-08-17 01:34:05,510] Trial 267 finished with value: 0.20152671755725193 and parameters: {'max_depth': 20, 'min_samples_split': 11, 'min_samples_leaf': 1, 'max_features': None, 'splitter': 'best', 'criterion': 'gini'}. Best is trial 231 with value: 0.21636615811373094.\n",
      "[I 2024-08-17 01:34:05,694] Trial 268 finished with value: 0.20543806646525678 and parameters: {'max_depth': 20, 'min_samples_split': 10, 'min_samples_leaf': 1, 'max_features': None, 'splitter': 'best', 'criterion': 'gini'}. Best is trial 231 with value: 0.21636615811373094.\n",
      "[I 2024-08-17 01:34:05,870] Trial 269 finished with value: 0.20543806646525678 and parameters: {'max_depth': 20, 'min_samples_split': 10, 'min_samples_leaf': 1, 'max_features': None, 'splitter': 'best', 'criterion': 'gini'}. Best is trial 231 with value: 0.21636615811373094.\n",
      "[I 2024-08-17 01:34:06,046] Trial 270 finished with value: 0.20543806646525678 and parameters: {'max_depth': 20, 'min_samples_split': 10, 'min_samples_leaf': 1, 'max_features': None, 'splitter': 'best', 'criterion': 'gini'}. Best is trial 231 with value: 0.21636615811373094.\n",
      "[I 2024-08-17 01:34:06,224] Trial 271 finished with value: 0.2016 and parameters: {'max_depth': 19, 'min_samples_split': 11, 'min_samples_leaf': 2, 'max_features': None, 'splitter': 'best', 'criterion': 'gini'}. Best is trial 231 with value: 0.21636615811373094.\n",
      "[I 2024-08-17 01:34:06,407] Trial 272 finished with value: 0.20543806646525678 and parameters: {'max_depth': 20, 'min_samples_split': 10, 'min_samples_leaf': 1, 'max_features': None, 'splitter': 'best', 'criterion': 'gini'}. Best is trial 231 with value: 0.21636615811373094.\n",
      "[I 2024-08-17 01:34:06,480] Trial 273 finished with value: 0.1952054794520548 and parameters: {'max_depth': 20, 'min_samples_split': 10, 'min_samples_leaf': 1, 'max_features': 'sqrt', 'splitter': 'best', 'criterion': 'gini'}. Best is trial 231 with value: 0.21636615811373094.\n",
      "[I 2024-08-17 01:34:06,661] Trial 274 finished with value: 0.20543806646525678 and parameters: {'max_depth': 20, 'min_samples_split': 10, 'min_samples_leaf': 1, 'max_features': None, 'splitter': 'best', 'criterion': 'gini'}. Best is trial 231 with value: 0.21636615811373094.\n",
      "[I 2024-08-17 01:34:06,851] Trial 275 finished with value: 0.18012422360248445 and parameters: {'max_depth': 20, 'min_samples_split': 11, 'min_samples_leaf': 1, 'max_features': None, 'splitter': 'best', 'criterion': 'entropy'}. Best is trial 231 with value: 0.21636615811373094.\n",
      "[I 2024-08-17 01:34:06,934] Trial 276 finished with value: 0.18882466281310212 and parameters: {'max_depth': 18, 'min_samples_split': 10, 'min_samples_leaf': 1, 'max_features': None, 'splitter': 'random', 'criterion': 'gini'}. Best is trial 231 with value: 0.21636615811373094.\n",
      "[I 2024-08-17 01:34:07,135] Trial 277 finished with value: 0.1984251968503937 and parameters: {'max_depth': 19, 'min_samples_split': 10, 'min_samples_leaf': 2, 'max_features': None, 'splitter': 'best', 'criterion': 'gini'}. Best is trial 231 with value: 0.21636615811373094.\n",
      "[I 2024-08-17 01:34:07,318] Trial 278 finished with value: 0.20543806646525678 and parameters: {'max_depth': 20, 'min_samples_split': 10, 'min_samples_leaf': 1, 'max_features': None, 'splitter': 'best', 'criterion': 'gini'}. Best is trial 231 with value: 0.21636615811373094.\n",
      "[I 2024-08-17 01:34:07,496] Trial 279 finished with value: 0.20152671755725193 and parameters: {'max_depth': 20, 'min_samples_split': 11, 'min_samples_leaf': 1, 'max_features': None, 'splitter': 'best', 'criterion': 'gini'}. Best is trial 231 with value: 0.21636615811373094.\n",
      "[I 2024-08-17 01:34:07,674] Trial 280 finished with value: 0.2085889570552147 and parameters: {'max_depth': 20, 'min_samples_split': 10, 'min_samples_leaf': 3, 'max_features': None, 'splitter': 'best', 'criterion': 'gini'}. Best is trial 231 with value: 0.21636615811373094.\n",
      "[I 2024-08-17 01:34:07,852] Trial 281 finished with value: 0.2085889570552147 and parameters: {'max_depth': 20, 'min_samples_split': 10, 'min_samples_leaf': 3, 'max_features': None, 'splitter': 'best', 'criterion': 'gini'}. Best is trial 231 with value: 0.21636615811373094.\n",
      "[I 2024-08-17 01:34:07,920] Trial 282 finished with value: 0.19237749546279492 and parameters: {'max_depth': 20, 'min_samples_split': 10, 'min_samples_leaf': 3, 'max_features': 'log2', 'splitter': 'best', 'criterion': 'gini'}. Best is trial 231 with value: 0.21636615811373094.\n",
      "[I 2024-08-17 01:34:08,097] Trial 283 finished with value: 0.2177914110429448 and parameters: {'max_depth': 19, 'min_samples_split': 10, 'min_samples_leaf': 3, 'max_features': None, 'splitter': 'best', 'criterion': 'gini'}. Best is trial 283 with value: 0.2177914110429448.\n",
      "[I 2024-08-17 01:34:08,274] Trial 284 finished with value: 0.21069182389937108 and parameters: {'max_depth': 19, 'min_samples_split': 11, 'min_samples_leaf': 3, 'max_features': None, 'splitter': 'best', 'criterion': 'gini'}. Best is trial 283 with value: 0.2177914110429448.\n",
      "[I 2024-08-17 01:34:08,446] Trial 285 finished with value: 0.21069182389937108 and parameters: {'max_depth': 19, 'min_samples_split': 11, 'min_samples_leaf': 3, 'max_features': None, 'splitter': 'best', 'criterion': 'gini'}. Best is trial 283 with value: 0.2177914110429448.\n",
      "[I 2024-08-17 01:34:08,618] Trial 286 finished with value: 0.19741100323624597 and parameters: {'max_depth': 18, 'min_samples_split': 11, 'min_samples_leaf': 3, 'max_features': None, 'splitter': 'best', 'criterion': 'gini'}. Best is trial 283 with value: 0.2177914110429448.\n",
      "[I 2024-08-17 01:34:08,793] Trial 287 finished with value: 0.21069182389937108 and parameters: {'max_depth': 19, 'min_samples_split': 11, 'min_samples_leaf': 3, 'max_features': None, 'splitter': 'best', 'criterion': 'gini'}. Best is trial 283 with value: 0.2177914110429448.\n",
      "[I 2024-08-17 01:34:08,971] Trial 288 finished with value: 0.20349761526232116 and parameters: {'max_depth': 19, 'min_samples_split': 12, 'min_samples_leaf': 3, 'max_features': None, 'splitter': 'best', 'criterion': 'gini'}. Best is trial 283 with value: 0.2177914110429448.\n",
      "[I 2024-08-17 01:34:09,141] Trial 289 finished with value: 0.19741100323624597 and parameters: {'max_depth': 18, 'min_samples_split': 11, 'min_samples_leaf': 3, 'max_features': None, 'splitter': 'best', 'criterion': 'gini'}. Best is trial 283 with value: 0.2177914110429448.\n",
      "[I 2024-08-17 01:34:09,320] Trial 290 finished with value: 0.21069182389937108 and parameters: {'max_depth': 19, 'min_samples_split': 11, 'min_samples_leaf': 3, 'max_features': None, 'splitter': 'best', 'criterion': 'gini'}. Best is trial 283 with value: 0.2177914110429448.\n",
      "[I 2024-08-17 01:34:09,496] Trial 291 finished with value: 0.21069182389937108 and parameters: {'max_depth': 19, 'min_samples_split': 11, 'min_samples_leaf': 3, 'max_features': None, 'splitter': 'best', 'criterion': 'gini'}. Best is trial 283 with value: 0.2177914110429448.\n",
      "[I 2024-08-17 01:34:09,671] Trial 292 finished with value: 0.21069182389937108 and parameters: {'max_depth': 19, 'min_samples_split': 11, 'min_samples_leaf': 3, 'max_features': None, 'splitter': 'best', 'criterion': 'gini'}. Best is trial 283 with value: 0.2177914110429448.\n",
      "[I 2024-08-17 01:34:09,846] Trial 293 finished with value: 0.20098846787479405 and parameters: {'max_depth': 19, 'min_samples_split': 13, 'min_samples_leaf': 3, 'max_features': None, 'splitter': 'best', 'criterion': 'gini'}. Best is trial 283 with value: 0.2177914110429448.\n",
      "[I 2024-08-17 01:34:10,012] Trial 294 finished with value: 0.19186991869918701 and parameters: {'max_depth': 17, 'min_samples_split': 11, 'min_samples_leaf': 3, 'max_features': None, 'splitter': 'best', 'criterion': 'gini'}. Best is trial 283 with value: 0.2177914110429448.\n",
      "[I 2024-08-17 01:34:10,096] Trial 295 finished with value: 0.1650294695481336 and parameters: {'max_depth': 19, 'min_samples_split': 12, 'min_samples_leaf': 3, 'max_features': None, 'splitter': 'random', 'criterion': 'entropy'}. Best is trial 283 with value: 0.2177914110429448.\n",
      "[I 2024-08-17 01:34:10,275] Trial 296 finished with value: 0.2015748031496063 and parameters: {'max_depth': 21, 'min_samples_split': 12, 'min_samples_leaf': 3, 'max_features': None, 'splitter': 'best', 'criterion': 'gini'}. Best is trial 283 with value: 0.2177914110429448.\n",
      "[I 2024-08-17 01:34:10,342] Trial 297 finished with value: 0.19011406844106463 and parameters: {'max_depth': 19, 'min_samples_split': 11, 'min_samples_leaf': 3, 'max_features': 'sqrt', 'splitter': 'best', 'criterion': 'gini'}. Best is trial 283 with value: 0.2177914110429448.\n",
      "[I 2024-08-17 01:34:10,513] Trial 298 finished with value: 0.1939799331103679 and parameters: {'max_depth': 19, 'min_samples_split': 11, 'min_samples_leaf': 4, 'max_features': None, 'splitter': 'best', 'criterion': 'gini'}. Best is trial 283 with value: 0.2177914110429448.\n",
      "[I 2024-08-17 01:34:10,693] Trial 299 finished with value: 0.2046511627906977 and parameters: {'max_depth': 21, 'min_samples_split': 11, 'min_samples_leaf': 3, 'max_features': None, 'splitter': 'best', 'criterion': 'gini'}. Best is trial 283 with value: 0.2177914110429448.\n"
     ]
    },
    {
     "name": "stdout",
     "output_type": "stream",
     "text": [
      "Best trial: score 0.2177914110429448, \n",
      "params {'max_depth': 19, 'min_samples_split': 10, 'min_samples_leaf': 3, 'max_features': None, 'splitter': 'best', 'criterion': 'gini'}\n"
     ]
    }
   ],
   "source": [
    "# 'Normal'과 'AbNormal'을 숫자로 변환\n",
    "train_data_dam['target'] = train_data_dam['target'].map({'Normal': 0, 'AbNormal': 1})\n",
    "\n",
    "# 스레드홀드 설정\n",
    "THRESHOLD = 0.3\n",
    "\n",
    "def objectiveDecisionTree(trial, x_tr, y_tr, x_val, y_val):\n",
    "    param = {\n",
    "        'max_depth': trial.suggest_int('max_depth', 2, 30)\n",
    "        , 'min_samples_split': trial.suggest_int('min_samples_split', 2, 30)\n",
    "        , 'min_samples_leaf': trial.suggest_int('min_samples_leaf', 1, 10)\n",
    "        , 'max_features': trial.suggest_categorical('max_features', ['sqrt', 'log2', None])\n",
    "        , 'splitter': trial.suggest_categorical('splitter', ['best', 'random'])\n",
    "        , 'criterion': trial.suggest_categorical('criterion', ['gini', 'entropy'])\n",
    "        , 'random_state': RANDOM_STATE\n",
    "    }\n",
    "    \n",
    "    model = DecisionTreeClassifier(**param)\n",
    "    model.fit(x_tr, y_tr)\n",
    "    pred = model.predict(x_val)\n",
    "    score = f1_score(y_val, pred, average=\"binary\")\n",
    "    \n",
    "    return score\n",
    "\n",
    "# 데이터셋 분할\n",
    "x_train, x_val, y_train, y_val = train_test_split(\n",
    "    train_data_dam.drop(\"target\", axis=1),\n",
    "    train_data_dam[\"target\"],\n",
    "    test_size=0.2,\n",
    "    shuffle=True,\n",
    "    random_state=RANDOM_STATE,\n",
    ")\n",
    "\n",
    "# 하이퍼 파라미터 튜닝\n",
    "study = optuna.create_study(direction='maximize', sampler=optuna.samplers.TPESampler(seed=RANDOM_STATE))\n",
    "study.optimize(lambda trial: objectiveDecisionTree(trial, x_train, y_train, x_val, y_val), n_trials=300)\n",
    "\n",
    "print('Best trial: score {}, \\nparams {}'.format(study.best_trial.value, study.best_trial.params))"
   ]
  },
  {
=======
>>>>>>> b30cabaa6d9263d9a527da31c1ff61ecd3a49b07:code_log/junehong_code/0817_Modeling_sep copy.ipynb
   "cell_type": "markdown",
   "id": "c2e56224",
   "metadata": {},
   "source": [
    "optuna"
   ]
  },
  {
   "cell_type": "code",
   "execution_count": 108,
   "id": "8ec04f21",
   "metadata": {},
   "outputs": [],
   "source": [
    "# import optuna\n",
    "# from lightgbm import LGBMClassifier\n",
    "# from sklearn.model_selection import train_test_split\n",
    "# from sklearn.metrics import f1_score\n",
    "\n",
    "# # 'Normal'과 'AbNormal'을 숫자로 변환\n",
    "# train_data['target'] = train_data['target'].map({'Normal': 0, 'AbNormal': 1})\n",
    "\n",
    "# # 스레드홀드 설정\n",
    "# THRESHOLD = 0.3\n",
    "\n",
    "# def objectiveLGBM_dart(trial, x_tr, y_tr, x_val, y_val):\n",
    "#     param = {\n",
    "#         'n_estimators': trial.suggest_int('n_estimators', 500, 3000),\n",
    "#         'num_leaves': trial.suggest_int('num_leaves', 500, 3000),\n",
    "#         'max_depth': trial.suggest_int('max_depth', 10, 300),\n",
    "#         'learning_rate': trial.suggest_float('learning_rate', 0.001, 0.1),\n",
    "#         'min_child_samples': trial.suggest_int('min_child_samples', 3, 300),\n",
    "        \n",
    "#         'boosting_type': 'dart',  # 'boosting'를 'boosting_type'으로 수정\n",
    "#         'random_state': RANDOM_STATE,\n",
    "#         'verbose': -1\n",
    "#     }\n",
    "       \n",
    "#     model = LGBMClassifier(**param)\n",
    "#     model.fit(x_tr, y_tr)\n",
    "#     pred_proba = model.predict_proba(x_val)[:, 1]  # 양성 클래스 확률\n",
    "#     pred = (pred_proba >= THRESHOLD).astype(int)  # 스레드홀드에 따른 예측\n",
    "    \n",
    "#     score = f1_score(y_val, pred, average=\"binary\")\n",
    "    \n",
    "#     return score\n",
    "\n",
    "# # 데이터셋 분할\n",
    "# x_train, x_val, y_train, y_val = train_test_split(\n",
    "#     train_data.drop(\"target\", axis=1),\n",
    "#     train_data[\"target\"],\n",
    "#     test_size=0.2,\n",
    "#     shuffle=True,\n",
    "#     random_state=RANDOM_STATE,\n",
    "# )\n",
    "\n",
    "# # 하이퍼 파라미터 튜닝\n",
    "# study = optuna.create_study(direction='maximize', sampler=optuna.samplers.TPESampler(seed=RANDOM_STATE))\n",
    "# study.optimize(lambda trial: objectiveLGBM_dart(trial, x_train, y_train, x_val, y_val), n_trials=300)\n",
    "\n",
    "# print('Best trial: score {}, \\nparams {}'.format(study.best_trial.value, study.best_trial.params))\n"
   ]
  },
  {
   "cell_type": "code",
   "execution_count": 109,
   "id": "b3cef619",
   "metadata": {},
   "outputs": [],
   "source": [
    "from lightgbm import LGBMClassifier\n",
    "\n",
    "def create_model(n_estimators, num_leaves, max_depth, learning_rate, min_child_samples):\n",
    "    return LGBMClassifier(\n",
    "        n_estimators=n_estimators\n",
    "        , num_leaves=num_leaves\n",
    "        , max_depth=max_depth\n",
    "        , learning_rate=learning_rate\n",
    "        , min_child_samples=min_child_samples\n",
    "        , verbose=-1\n",
    "        , boosting='dart'\n",
    "        , random_state=RANDOM_STATE\n",
    "        # , class_weight = {1: 1, 0: 5}\n",
    "    )\n",
    "\n",
    "model_Dam = create_model(2748, 657, 256, 0.001043279508273329, 58)\n",
    "model_AutoClave = create_model(1019, 1513, 115, 0.010329666890588058, 7)\n",
    "model_Fill1 = create_model(979, 1565, 34, 0.04888906225539191, 36)\n",
    "model_Fill2 = create_model(1019, 1513, 115, 0.010329666890588058, 7)"
   ]
  },
  {
   "cell_type": "markdown",
   "id": "52ec6ee4",
   "metadata": {},
   "source": [
    "## 모델 학습"
   ]
  },
  {
   "cell_type": "code",
<<<<<<< HEAD:code_log/dongyoung_code/modeling/0816_Optuna_Dam.ipynb
   "execution_count": 227,
   "id": "8ec04f21",
=======
   "execution_count": 110,
   "id": "1072be63",
   "metadata": {},
   "outputs": [],
   "source": [
    "from sklearn.model_selection import train_test_split\n",
    "\n",
    "def split_data(data, target, test_size=0.2):\n",
    "    return train_test_split(data, test_size=test_size, stratify=target, random_state=RANDOM_STATE)\n",
    "\n",
    "df_train_dam, df_val_dam = split_data(train_data_dam, train_data[\"target\"])\n",
    "df_train_fill1, df_val_fill1 = split_data(train_data_fill1, train_data[\"target\"])\n",
    "df_train_fill2, df_val_fill2 = split_data(train_data_fill2, train_data[\"target\"])\n",
    "df_train_autoclave, df_val_autoclave = split_data(train_data_autoclave, train_data[\"target\"])"
   ]
  },
  {
   "cell_type": "markdown",
   "id": "fee8ef0d",
   "metadata": {},
   "source": [
    "공정별로 모델 학습 진행"
   ]
  },
  {
   "cell_type": "code",
   "execution_count": 111,
   "id": "abdfcbc5",
   "metadata": {},
   "outputs": [],
   "source": [
    "def preprocess_and_train(df, model):\n",
    "    df[\"target\"] = df[\"target\"].apply(lambda x: 1 if x == 'AbNormal' else 0)\n",
    "    train_x = df.drop(columns=[\"target\"])\n",
    "    train_y = df[\"target\"]\n",
    "    model.fit(train_x, train_y)\n",
    "\n",
    "# 각 데이터셋과 모델에 대해 함수 호출\n",
    "# preprocess_and_train(df_train_dam, model_Dam)\n",
    "preprocess_and_train(df_train_fill1, model_Fill1)\n",
    "preprocess_and_train(df_train_fill2, model_Fill2)\n",
    "# preprocess_and_train(df_train_autoclave, model_AutoClave)"
   ]
  },
  {
   "cell_type": "code",
   "execution_count": 112,
   "id": "6cf259cb",
>>>>>>> b30cabaa6d9263d9a527da31c1ff61ecd3a49b07:code_log/junehong_code/0817_Modeling_sep copy.ipynb
   "metadata": {},
   "outputs": [
    {
     "name": "stdout",
     "output_type": "stream",
     "text": [
<<<<<<< HEAD:code_log/dongyoung_code/modeling/0816_Optuna_Dam.ipynb
      "C:\\Users\\KimDongyoung\\AppData\\Local\\Temp\\ipykernel_1704\\4151929220.py:2: SettingWithCopyWarning: \n",
      "A value is trying to be set on a copy of a slice from a DataFrame.\n",
      "Try using .loc[row_indexer,col_indexer] = value instead\n",
      "\n",
      "See the caveats in the documentation: https://pandas.pydata.org/pandas-docs/stable/user_guide/indexing.html#returning-a-view-versus-a-copy\n",
      "  train_data_dam['target'] = train_data_dam['target'].map({'Normal': 0, 'AbNormal': 1})\n",
      "[I 2024-08-17 01:34:10,724] A new study created in memory with name: no-name-2a04c61d-f209-471b-8185-8e49e01b35db\n",
      "[W 2024-08-17 01:34:10,732] Trial 0 failed with parameters: {'n_estimators': 262, 'max_depth': 34, 'min_samples_split': 3, 'min_samples_leaf': 4, 'criterion': 'entropy', 'bootstrap': True} because of the following error: ValueError('Input y contains NaN.').\n",
      "Traceback (most recent call last):\n",
      "  File \"c:\\Users\\KimDongyoung\\AppData\\Local\\Programs\\Python\\Python312\\Lib\\site-packages\\optuna\\study\\_optimize.py\", line 196, in _run_trial\n",
      "    value_or_values = func(trial)\n",
      "                      ^^^^^^^^^^^\n",
      "  File \"C:\\Users\\KimDongyoung\\AppData\\Local\\Temp\\ipykernel_1704\\4151929220.py\", line 38, in <lambda>\n",
      "    study.optimize(lambda trial: objectiveExtraTrees(trial, x_train, y_train, x_val, y_val), n_trials=300)\n",
      "                                 ^^^^^^^^^^^^^^^^^^^^^^^^^^^^^^^^^^^^^^^^^^^^^^^^^^^^^^^^^^\n",
      "  File \"C:\\Users\\KimDongyoung\\AppData\\Local\\Temp\\ipykernel_1704\\4151929220.py\", line 21, in objectiveExtraTrees\n",
      "    model.fit(x_tr, y_tr)\n",
      "  File \"c:\\Users\\KimDongyoung\\AppData\\Local\\Programs\\Python\\Python312\\Lib\\site-packages\\sklearn\\base.py\", line 1152, in wrapper\n",
      "    return fit_method(estimator, *args, **kwargs)\n",
      "           ^^^^^^^^^^^^^^^^^^^^^^^^^^^^^^^^^^^^^^\n",
      "  File \"c:\\Users\\KimDongyoung\\AppData\\Local\\Programs\\Python\\Python312\\Lib\\site-packages\\sklearn\\ensemble\\_forest.py\", line 348, in fit\n",
      "    X, y = self._validate_data(\n",
      "           ^^^^^^^^^^^^^^^^^^^^\n",
      "  File \"c:\\Users\\KimDongyoung\\AppData\\Local\\Programs\\Python\\Python312\\Lib\\site-packages\\sklearn\\base.py\", line 622, in _validate_data\n",
      "    X, y = check_X_y(X, y, **check_params)\n",
      "           ^^^^^^^^^^^^^^^^^^^^^^^^^^^^^^^\n",
      "  File \"c:\\Users\\KimDongyoung\\AppData\\Local\\Programs\\Python\\Python312\\Lib\\site-packages\\sklearn\\utils\\validation.py\", line 1162, in check_X_y\n",
      "    y = _check_y(y, multi_output=multi_output, y_numeric=y_numeric, estimator=estimator)\n",
      "        ^^^^^^^^^^^^^^^^^^^^^^^^^^^^^^^^^^^^^^^^^^^^^^^^^^^^^^^^^^^^^^^^^^^^^^^^^^^^^^^^\n",
      "  File \"c:\\Users\\KimDongyoung\\AppData\\Local\\Programs\\Python\\Python312\\Lib\\site-packages\\sklearn\\utils\\validation.py\", line 1172, in _check_y\n",
      "    y = check_array(\n",
      "        ^^^^^^^^^^^^\n",
      "  File \"c:\\Users\\KimDongyoung\\AppData\\Local\\Programs\\Python\\Python312\\Lib\\site-packages\\sklearn\\utils\\validation.py\", line 957, in check_array\n",
      "    _assert_all_finite(\n",
      "  File \"c:\\Users\\KimDongyoung\\AppData\\Local\\Programs\\Python\\Python312\\Lib\\site-packages\\sklearn\\utils\\validation.py\", line 122, in _assert_all_finite\n",
      "    _assert_all_finite_element_wise(\n",
      "  File \"c:\\Users\\KimDongyoung\\AppData\\Local\\Programs\\Python\\Python312\\Lib\\site-packages\\sklearn\\utils\\validation.py\", line 171, in _assert_all_finite_element_wise\n",
      "    raise ValueError(msg_err)\n",
      "ValueError: Input y contains NaN.\n",
      "[W 2024-08-17 01:34:10,735] Trial 0 failed with value None.\n"
     ]
    },
    {
     "ename": "ValueError",
     "evalue": "Input y contains NaN.",
     "output_type": "error",
     "traceback": [
      "\u001b[1;31m---------------------------------------------------------------------------\u001b[0m",
      "\u001b[1;31mValueError\u001b[0m                                Traceback (most recent call last)",
      "Cell \u001b[1;32mIn[227], line 38\u001b[0m\n\u001b[0;32m     36\u001b[0m \u001b[38;5;66;03m# 하이퍼 파라미터 튜닝\u001b[39;00m\n\u001b[0;32m     37\u001b[0m study \u001b[38;5;241m=\u001b[39m optuna\u001b[38;5;241m.\u001b[39mcreate_study(direction\u001b[38;5;241m=\u001b[39m\u001b[38;5;124m'\u001b[39m\u001b[38;5;124mmaximize\u001b[39m\u001b[38;5;124m'\u001b[39m, sampler\u001b[38;5;241m=\u001b[39moptuna\u001b[38;5;241m.\u001b[39msamplers\u001b[38;5;241m.\u001b[39mTPESampler(seed\u001b[38;5;241m=\u001b[39mRANDOM_STATE))\n\u001b[1;32m---> 38\u001b[0m \u001b[43mstudy\u001b[49m\u001b[38;5;241;43m.\u001b[39;49m\u001b[43moptimize\u001b[49m\u001b[43m(\u001b[49m\u001b[38;5;28;43;01mlambda\u001b[39;49;00m\u001b[43m \u001b[49m\u001b[43mtrial\u001b[49m\u001b[43m:\u001b[49m\u001b[43m \u001b[49m\u001b[43mobjectiveExtraTrees\u001b[49m\u001b[43m(\u001b[49m\u001b[43mtrial\u001b[49m\u001b[43m,\u001b[49m\u001b[43m \u001b[49m\u001b[43mx_train\u001b[49m\u001b[43m,\u001b[49m\u001b[43m \u001b[49m\u001b[43my_train\u001b[49m\u001b[43m,\u001b[49m\u001b[43m \u001b[49m\u001b[43mx_val\u001b[49m\u001b[43m,\u001b[49m\u001b[43m \u001b[49m\u001b[43my_val\u001b[49m\u001b[43m)\u001b[49m\u001b[43m,\u001b[49m\u001b[43m \u001b[49m\u001b[43mn_trials\u001b[49m\u001b[38;5;241;43m=\u001b[39;49m\u001b[38;5;241;43m300\u001b[39;49m\u001b[43m)\u001b[49m\n\u001b[0;32m     40\u001b[0m \u001b[38;5;28mprint\u001b[39m(\u001b[38;5;124m'\u001b[39m\u001b[38;5;124mBest trial: score \u001b[39m\u001b[38;5;132;01m{}\u001b[39;00m\u001b[38;5;124m, \u001b[39m\u001b[38;5;130;01m\\n\u001b[39;00m\u001b[38;5;124mparams \u001b[39m\u001b[38;5;132;01m{}\u001b[39;00m\u001b[38;5;124m'\u001b[39m\u001b[38;5;241m.\u001b[39mformat(study\u001b[38;5;241m.\u001b[39mbest_trial\u001b[38;5;241m.\u001b[39mvalue, study\u001b[38;5;241m.\u001b[39mbest_trial\u001b[38;5;241m.\u001b[39mparams))\n",
      "File \u001b[1;32mc:\\Users\\KimDongyoung\\AppData\\Local\\Programs\\Python\\Python312\\Lib\\site-packages\\optuna\\study\\study.py:451\u001b[0m, in \u001b[0;36mStudy.optimize\u001b[1;34m(self, func, n_trials, timeout, n_jobs, catch, callbacks, gc_after_trial, show_progress_bar)\u001b[0m\n\u001b[0;32m    348\u001b[0m \u001b[38;5;28;01mdef\u001b[39;00m \u001b[38;5;21moptimize\u001b[39m(\n\u001b[0;32m    349\u001b[0m     \u001b[38;5;28mself\u001b[39m,\n\u001b[0;32m    350\u001b[0m     func: ObjectiveFuncType,\n\u001b[1;32m   (...)\u001b[0m\n\u001b[0;32m    357\u001b[0m     show_progress_bar: \u001b[38;5;28mbool\u001b[39m \u001b[38;5;241m=\u001b[39m \u001b[38;5;28;01mFalse\u001b[39;00m,\n\u001b[0;32m    358\u001b[0m ) \u001b[38;5;241m-\u001b[39m\u001b[38;5;241m>\u001b[39m \u001b[38;5;28;01mNone\u001b[39;00m:\n\u001b[0;32m    359\u001b[0m \u001b[38;5;250m    \u001b[39m\u001b[38;5;124;03m\"\"\"Optimize an objective function.\u001b[39;00m\n\u001b[0;32m    360\u001b[0m \n\u001b[0;32m    361\u001b[0m \u001b[38;5;124;03m    Optimization is done by choosing a suitable set of hyperparameter values from a given\u001b[39;00m\n\u001b[1;32m   (...)\u001b[0m\n\u001b[0;32m    449\u001b[0m \u001b[38;5;124;03m            If nested invocation of this method occurs.\u001b[39;00m\n\u001b[0;32m    450\u001b[0m \u001b[38;5;124;03m    \"\"\"\u001b[39;00m\n\u001b[1;32m--> 451\u001b[0m     \u001b[43m_optimize\u001b[49m\u001b[43m(\u001b[49m\n\u001b[0;32m    452\u001b[0m \u001b[43m        \u001b[49m\u001b[43mstudy\u001b[49m\u001b[38;5;241;43m=\u001b[39;49m\u001b[38;5;28;43mself\u001b[39;49m\u001b[43m,\u001b[49m\n\u001b[0;32m    453\u001b[0m \u001b[43m        \u001b[49m\u001b[43mfunc\u001b[49m\u001b[38;5;241;43m=\u001b[39;49m\u001b[43mfunc\u001b[49m\u001b[43m,\u001b[49m\n\u001b[0;32m    454\u001b[0m \u001b[43m        \u001b[49m\u001b[43mn_trials\u001b[49m\u001b[38;5;241;43m=\u001b[39;49m\u001b[43mn_trials\u001b[49m\u001b[43m,\u001b[49m\n\u001b[0;32m    455\u001b[0m \u001b[43m        \u001b[49m\u001b[43mtimeout\u001b[49m\u001b[38;5;241;43m=\u001b[39;49m\u001b[43mtimeout\u001b[49m\u001b[43m,\u001b[49m\n\u001b[0;32m    456\u001b[0m \u001b[43m        \u001b[49m\u001b[43mn_jobs\u001b[49m\u001b[38;5;241;43m=\u001b[39;49m\u001b[43mn_jobs\u001b[49m\u001b[43m,\u001b[49m\n\u001b[0;32m    457\u001b[0m \u001b[43m        \u001b[49m\u001b[43mcatch\u001b[49m\u001b[38;5;241;43m=\u001b[39;49m\u001b[38;5;28;43mtuple\u001b[39;49m\u001b[43m(\u001b[49m\u001b[43mcatch\u001b[49m\u001b[43m)\u001b[49m\u001b[43m \u001b[49m\u001b[38;5;28;43;01mif\u001b[39;49;00m\u001b[43m \u001b[49m\u001b[38;5;28;43misinstance\u001b[39;49m\u001b[43m(\u001b[49m\u001b[43mcatch\u001b[49m\u001b[43m,\u001b[49m\u001b[43m \u001b[49m\u001b[43mIterable\u001b[49m\u001b[43m)\u001b[49m\u001b[43m \u001b[49m\u001b[38;5;28;43;01melse\u001b[39;49;00m\u001b[43m \u001b[49m\u001b[43m(\u001b[49m\u001b[43mcatch\u001b[49m\u001b[43m,\u001b[49m\u001b[43m)\u001b[49m\u001b[43m,\u001b[49m\n\u001b[0;32m    458\u001b[0m \u001b[43m        \u001b[49m\u001b[43mcallbacks\u001b[49m\u001b[38;5;241;43m=\u001b[39;49m\u001b[43mcallbacks\u001b[49m\u001b[43m,\u001b[49m\n\u001b[0;32m    459\u001b[0m \u001b[43m        \u001b[49m\u001b[43mgc_after_trial\u001b[49m\u001b[38;5;241;43m=\u001b[39;49m\u001b[43mgc_after_trial\u001b[49m\u001b[43m,\u001b[49m\n\u001b[0;32m    460\u001b[0m \u001b[43m        \u001b[49m\u001b[43mshow_progress_bar\u001b[49m\u001b[38;5;241;43m=\u001b[39;49m\u001b[43mshow_progress_bar\u001b[49m\u001b[43m,\u001b[49m\n\u001b[0;32m    461\u001b[0m \u001b[43m    \u001b[49m\u001b[43m)\u001b[49m\n",
      "File \u001b[1;32mc:\\Users\\KimDongyoung\\AppData\\Local\\Programs\\Python\\Python312\\Lib\\site-packages\\optuna\\study\\_optimize.py:62\u001b[0m, in \u001b[0;36m_optimize\u001b[1;34m(study, func, n_trials, timeout, n_jobs, catch, callbacks, gc_after_trial, show_progress_bar)\u001b[0m\n\u001b[0;32m     60\u001b[0m \u001b[38;5;28;01mtry\u001b[39;00m:\n\u001b[0;32m     61\u001b[0m     \u001b[38;5;28;01mif\u001b[39;00m n_jobs \u001b[38;5;241m==\u001b[39m \u001b[38;5;241m1\u001b[39m:\n\u001b[1;32m---> 62\u001b[0m         \u001b[43m_optimize_sequential\u001b[49m\u001b[43m(\u001b[49m\n\u001b[0;32m     63\u001b[0m \u001b[43m            \u001b[49m\u001b[43mstudy\u001b[49m\u001b[43m,\u001b[49m\n\u001b[0;32m     64\u001b[0m \u001b[43m            \u001b[49m\u001b[43mfunc\u001b[49m\u001b[43m,\u001b[49m\n\u001b[0;32m     65\u001b[0m \u001b[43m            \u001b[49m\u001b[43mn_trials\u001b[49m\u001b[43m,\u001b[49m\n\u001b[0;32m     66\u001b[0m \u001b[43m            \u001b[49m\u001b[43mtimeout\u001b[49m\u001b[43m,\u001b[49m\n\u001b[0;32m     67\u001b[0m \u001b[43m            \u001b[49m\u001b[43mcatch\u001b[49m\u001b[43m,\u001b[49m\n\u001b[0;32m     68\u001b[0m \u001b[43m            \u001b[49m\u001b[43mcallbacks\u001b[49m\u001b[43m,\u001b[49m\n\u001b[0;32m     69\u001b[0m \u001b[43m            \u001b[49m\u001b[43mgc_after_trial\u001b[49m\u001b[43m,\u001b[49m\n\u001b[0;32m     70\u001b[0m \u001b[43m            \u001b[49m\u001b[43mreseed_sampler_rng\u001b[49m\u001b[38;5;241;43m=\u001b[39;49m\u001b[38;5;28;43;01mFalse\u001b[39;49;00m\u001b[43m,\u001b[49m\n\u001b[0;32m     71\u001b[0m \u001b[43m            \u001b[49m\u001b[43mtime_start\u001b[49m\u001b[38;5;241;43m=\u001b[39;49m\u001b[38;5;28;43;01mNone\u001b[39;49;00m\u001b[43m,\u001b[49m\n\u001b[0;32m     72\u001b[0m \u001b[43m            \u001b[49m\u001b[43mprogress_bar\u001b[49m\u001b[38;5;241;43m=\u001b[39;49m\u001b[43mprogress_bar\u001b[49m\u001b[43m,\u001b[49m\n\u001b[0;32m     73\u001b[0m \u001b[43m        \u001b[49m\u001b[43m)\u001b[49m\n\u001b[0;32m     74\u001b[0m     \u001b[38;5;28;01melse\u001b[39;00m:\n\u001b[0;32m     75\u001b[0m         \u001b[38;5;28;01mif\u001b[39;00m n_jobs \u001b[38;5;241m==\u001b[39m \u001b[38;5;241m-\u001b[39m\u001b[38;5;241m1\u001b[39m:\n",
      "File \u001b[1;32mc:\\Users\\KimDongyoung\\AppData\\Local\\Programs\\Python\\Python312\\Lib\\site-packages\\optuna\\study\\_optimize.py:159\u001b[0m, in \u001b[0;36m_optimize_sequential\u001b[1;34m(study, func, n_trials, timeout, catch, callbacks, gc_after_trial, reseed_sampler_rng, time_start, progress_bar)\u001b[0m\n\u001b[0;32m    156\u001b[0m         \u001b[38;5;28;01mbreak\u001b[39;00m\n\u001b[0;32m    158\u001b[0m \u001b[38;5;28;01mtry\u001b[39;00m:\n\u001b[1;32m--> 159\u001b[0m     frozen_trial \u001b[38;5;241m=\u001b[39m \u001b[43m_run_trial\u001b[49m\u001b[43m(\u001b[49m\u001b[43mstudy\u001b[49m\u001b[43m,\u001b[49m\u001b[43m \u001b[49m\u001b[43mfunc\u001b[49m\u001b[43m,\u001b[49m\u001b[43m \u001b[49m\u001b[43mcatch\u001b[49m\u001b[43m)\u001b[49m\n\u001b[0;32m    160\u001b[0m \u001b[38;5;28;01mfinally\u001b[39;00m:\n\u001b[0;32m    161\u001b[0m     \u001b[38;5;66;03m# The following line mitigates memory problems that can be occurred in some\u001b[39;00m\n\u001b[0;32m    162\u001b[0m     \u001b[38;5;66;03m# environments (e.g., services that use computing containers such as GitHub Actions).\u001b[39;00m\n\u001b[0;32m    163\u001b[0m     \u001b[38;5;66;03m# Please refer to the following PR for further details:\u001b[39;00m\n\u001b[0;32m    164\u001b[0m     \u001b[38;5;66;03m# https://github.com/optuna/optuna/pull/325.\u001b[39;00m\n\u001b[0;32m    165\u001b[0m     \u001b[38;5;28;01mif\u001b[39;00m gc_after_trial:\n",
      "File \u001b[1;32mc:\\Users\\KimDongyoung\\AppData\\Local\\Programs\\Python\\Python312\\Lib\\site-packages\\optuna\\study\\_optimize.py:247\u001b[0m, in \u001b[0;36m_run_trial\u001b[1;34m(study, func, catch)\u001b[0m\n\u001b[0;32m    240\u001b[0m         \u001b[38;5;28;01massert\u001b[39;00m \u001b[38;5;28;01mFalse\u001b[39;00m, \u001b[38;5;124m\"\u001b[39m\u001b[38;5;124mShould not reach.\u001b[39m\u001b[38;5;124m\"\u001b[39m\n\u001b[0;32m    242\u001b[0m \u001b[38;5;28;01mif\u001b[39;00m (\n\u001b[0;32m    243\u001b[0m     frozen_trial\u001b[38;5;241m.\u001b[39mstate \u001b[38;5;241m==\u001b[39m TrialState\u001b[38;5;241m.\u001b[39mFAIL\n\u001b[0;32m    244\u001b[0m     \u001b[38;5;129;01mand\u001b[39;00m func_err \u001b[38;5;129;01mis\u001b[39;00m \u001b[38;5;129;01mnot\u001b[39;00m \u001b[38;5;28;01mNone\u001b[39;00m\n\u001b[0;32m    245\u001b[0m     \u001b[38;5;129;01mand\u001b[39;00m \u001b[38;5;129;01mnot\u001b[39;00m \u001b[38;5;28misinstance\u001b[39m(func_err, catch)\n\u001b[0;32m    246\u001b[0m ):\n\u001b[1;32m--> 247\u001b[0m     \u001b[38;5;28;01mraise\u001b[39;00m func_err\n\u001b[0;32m    248\u001b[0m \u001b[38;5;28;01mreturn\u001b[39;00m frozen_trial\n",
      "File \u001b[1;32mc:\\Users\\KimDongyoung\\AppData\\Local\\Programs\\Python\\Python312\\Lib\\site-packages\\optuna\\study\\_optimize.py:196\u001b[0m, in \u001b[0;36m_run_trial\u001b[1;34m(study, func, catch)\u001b[0m\n\u001b[0;32m    194\u001b[0m \u001b[38;5;28;01mwith\u001b[39;00m get_heartbeat_thread(trial\u001b[38;5;241m.\u001b[39m_trial_id, study\u001b[38;5;241m.\u001b[39m_storage):\n\u001b[0;32m    195\u001b[0m     \u001b[38;5;28;01mtry\u001b[39;00m:\n\u001b[1;32m--> 196\u001b[0m         value_or_values \u001b[38;5;241m=\u001b[39m \u001b[43mfunc\u001b[49m\u001b[43m(\u001b[49m\u001b[43mtrial\u001b[49m\u001b[43m)\u001b[49m\n\u001b[0;32m    197\u001b[0m     \u001b[38;5;28;01mexcept\u001b[39;00m exceptions\u001b[38;5;241m.\u001b[39mTrialPruned \u001b[38;5;28;01mas\u001b[39;00m e:\n\u001b[0;32m    198\u001b[0m         \u001b[38;5;66;03m# TODO(mamu): Handle multi-objective cases.\u001b[39;00m\n\u001b[0;32m    199\u001b[0m         state \u001b[38;5;241m=\u001b[39m TrialState\u001b[38;5;241m.\u001b[39mPRUNED\n",
      "Cell \u001b[1;32mIn[227], line 38\u001b[0m, in \u001b[0;36m<lambda>\u001b[1;34m(trial)\u001b[0m\n\u001b[0;32m     36\u001b[0m \u001b[38;5;66;03m# 하이퍼 파라미터 튜닝\u001b[39;00m\n\u001b[0;32m     37\u001b[0m study \u001b[38;5;241m=\u001b[39m optuna\u001b[38;5;241m.\u001b[39mcreate_study(direction\u001b[38;5;241m=\u001b[39m\u001b[38;5;124m'\u001b[39m\u001b[38;5;124mmaximize\u001b[39m\u001b[38;5;124m'\u001b[39m, sampler\u001b[38;5;241m=\u001b[39moptuna\u001b[38;5;241m.\u001b[39msamplers\u001b[38;5;241m.\u001b[39mTPESampler(seed\u001b[38;5;241m=\u001b[39mRANDOM_STATE))\n\u001b[1;32m---> 38\u001b[0m study\u001b[38;5;241m.\u001b[39moptimize(\u001b[38;5;28;01mlambda\u001b[39;00m trial: \u001b[43mobjectiveExtraTrees\u001b[49m\u001b[43m(\u001b[49m\u001b[43mtrial\u001b[49m\u001b[43m,\u001b[49m\u001b[43m \u001b[49m\u001b[43mx_train\u001b[49m\u001b[43m,\u001b[49m\u001b[43m \u001b[49m\u001b[43my_train\u001b[49m\u001b[43m,\u001b[49m\u001b[43m \u001b[49m\u001b[43mx_val\u001b[49m\u001b[43m,\u001b[49m\u001b[43m \u001b[49m\u001b[43my_val\u001b[49m\u001b[43m)\u001b[49m, n_trials\u001b[38;5;241m=\u001b[39m\u001b[38;5;241m300\u001b[39m)\n\u001b[0;32m     40\u001b[0m \u001b[38;5;28mprint\u001b[39m(\u001b[38;5;124m'\u001b[39m\u001b[38;5;124mBest trial: score \u001b[39m\u001b[38;5;132;01m{}\u001b[39;00m\u001b[38;5;124m, \u001b[39m\u001b[38;5;130;01m\\n\u001b[39;00m\u001b[38;5;124mparams \u001b[39m\u001b[38;5;132;01m{}\u001b[39;00m\u001b[38;5;124m'\u001b[39m\u001b[38;5;241m.\u001b[39mformat(study\u001b[38;5;241m.\u001b[39mbest_trial\u001b[38;5;241m.\u001b[39mvalue, study\u001b[38;5;241m.\u001b[39mbest_trial\u001b[38;5;241m.\u001b[39mparams))\n",
      "Cell \u001b[1;32mIn[227], line 21\u001b[0m, in \u001b[0;36mobjectiveExtraTrees\u001b[1;34m(trial, x_tr, y_tr, x_val, y_val)\u001b[0m\n\u001b[0;32m     10\u001b[0m param \u001b[38;5;241m=\u001b[39m {\n\u001b[0;32m     11\u001b[0m     \u001b[38;5;124m'\u001b[39m\u001b[38;5;124mn_estimators\u001b[39m\u001b[38;5;124m'\u001b[39m: trial\u001b[38;5;241m.\u001b[39msuggest_int(\u001b[38;5;124m'\u001b[39m\u001b[38;5;124mn_estimators\u001b[39m\u001b[38;5;124m'\u001b[39m, \u001b[38;5;241m100\u001b[39m, \u001b[38;5;241m1500\u001b[39m)\n\u001b[0;32m     12\u001b[0m     , \u001b[38;5;124m'\u001b[39m\u001b[38;5;124mmax_depth\u001b[39m\u001b[38;5;124m'\u001b[39m: trial\u001b[38;5;241m.\u001b[39msuggest_int(\u001b[38;5;124m'\u001b[39m\u001b[38;5;124mmax_depth\u001b[39m\u001b[38;5;124m'\u001b[39m, \u001b[38;5;241m2\u001b[39m, \u001b[38;5;241m50\u001b[39m)\n\u001b[1;32m   (...)\u001b[0m\n\u001b[0;32m     17\u001b[0m     , \u001b[38;5;124m'\u001b[39m\u001b[38;5;124mrandom_state\u001b[39m\u001b[38;5;124m'\u001b[39m: RANDOM_STATE\n\u001b[0;32m     18\u001b[0m }\n\u001b[0;32m     20\u001b[0m model \u001b[38;5;241m=\u001b[39m ExtraTreesClassifier(\u001b[38;5;241m*\u001b[39m\u001b[38;5;241m*\u001b[39mparam)\n\u001b[1;32m---> 21\u001b[0m \u001b[43mmodel\u001b[49m\u001b[38;5;241;43m.\u001b[39;49m\u001b[43mfit\u001b[49m\u001b[43m(\u001b[49m\u001b[43mx_tr\u001b[49m\u001b[43m,\u001b[49m\u001b[43m \u001b[49m\u001b[43my_tr\u001b[49m\u001b[43m)\u001b[49m\n\u001b[0;32m     22\u001b[0m pred \u001b[38;5;241m=\u001b[39m model\u001b[38;5;241m.\u001b[39mpredict(x_val)\n\u001b[0;32m     23\u001b[0m score \u001b[38;5;241m=\u001b[39m f1_score(y_val, pred, average\u001b[38;5;241m=\u001b[39m\u001b[38;5;124m\"\u001b[39m\u001b[38;5;124mbinary\u001b[39m\u001b[38;5;124m\"\u001b[39m)\n",
      "File \u001b[1;32mc:\\Users\\KimDongyoung\\AppData\\Local\\Programs\\Python\\Python312\\Lib\\site-packages\\sklearn\\base.py:1152\u001b[0m, in \u001b[0;36m_fit_context.<locals>.decorator.<locals>.wrapper\u001b[1;34m(estimator, *args, **kwargs)\u001b[0m\n\u001b[0;32m   1145\u001b[0m     estimator\u001b[38;5;241m.\u001b[39m_validate_params()\n\u001b[0;32m   1147\u001b[0m \u001b[38;5;28;01mwith\u001b[39;00m config_context(\n\u001b[0;32m   1148\u001b[0m     skip_parameter_validation\u001b[38;5;241m=\u001b[39m(\n\u001b[0;32m   1149\u001b[0m         prefer_skip_nested_validation \u001b[38;5;129;01mor\u001b[39;00m global_skip_validation\n\u001b[0;32m   1150\u001b[0m     )\n\u001b[0;32m   1151\u001b[0m ):\n\u001b[1;32m-> 1152\u001b[0m     \u001b[38;5;28;01mreturn\u001b[39;00m \u001b[43mfit_method\u001b[49m\u001b[43m(\u001b[49m\u001b[43mestimator\u001b[49m\u001b[43m,\u001b[49m\u001b[43m \u001b[49m\u001b[38;5;241;43m*\u001b[39;49m\u001b[43margs\u001b[49m\u001b[43m,\u001b[49m\u001b[43m \u001b[49m\u001b[38;5;241;43m*\u001b[39;49m\u001b[38;5;241;43m*\u001b[39;49m\u001b[43mkwargs\u001b[49m\u001b[43m)\u001b[49m\n",
      "File \u001b[1;32mc:\\Users\\KimDongyoung\\AppData\\Local\\Programs\\Python\\Python312\\Lib\\site-packages\\sklearn\\ensemble\\_forest.py:348\u001b[0m, in \u001b[0;36mBaseForest.fit\u001b[1;34m(self, X, y, sample_weight)\u001b[0m\n\u001b[0;32m    346\u001b[0m \u001b[38;5;28;01mif\u001b[39;00m issparse(y):\n\u001b[0;32m    347\u001b[0m     \u001b[38;5;28;01mraise\u001b[39;00m \u001b[38;5;167;01mValueError\u001b[39;00m(\u001b[38;5;124m\"\u001b[39m\u001b[38;5;124msparse multilabel-indicator for y is not supported.\u001b[39m\u001b[38;5;124m\"\u001b[39m)\n\u001b[1;32m--> 348\u001b[0m X, y \u001b[38;5;241m=\u001b[39m \u001b[38;5;28;43mself\u001b[39;49m\u001b[38;5;241;43m.\u001b[39;49m\u001b[43m_validate_data\u001b[49m\u001b[43m(\u001b[49m\n\u001b[0;32m    349\u001b[0m \u001b[43m    \u001b[49m\u001b[43mX\u001b[49m\u001b[43m,\u001b[49m\u001b[43m \u001b[49m\u001b[43my\u001b[49m\u001b[43m,\u001b[49m\u001b[43m \u001b[49m\u001b[43mmulti_output\u001b[49m\u001b[38;5;241;43m=\u001b[39;49m\u001b[38;5;28;43;01mTrue\u001b[39;49;00m\u001b[43m,\u001b[49m\u001b[43m \u001b[49m\u001b[43maccept_sparse\u001b[49m\u001b[38;5;241;43m=\u001b[39;49m\u001b[38;5;124;43m\"\u001b[39;49m\u001b[38;5;124;43mcsc\u001b[39;49m\u001b[38;5;124;43m\"\u001b[39;49m\u001b[43m,\u001b[49m\u001b[43m \u001b[49m\u001b[43mdtype\u001b[49m\u001b[38;5;241;43m=\u001b[39;49m\u001b[43mDTYPE\u001b[49m\n\u001b[0;32m    350\u001b[0m \u001b[43m\u001b[49m\u001b[43m)\u001b[49m\n\u001b[0;32m    351\u001b[0m \u001b[38;5;28;01mif\u001b[39;00m sample_weight \u001b[38;5;129;01mis\u001b[39;00m \u001b[38;5;129;01mnot\u001b[39;00m \u001b[38;5;28;01mNone\u001b[39;00m:\n\u001b[0;32m    352\u001b[0m     sample_weight \u001b[38;5;241m=\u001b[39m _check_sample_weight(sample_weight, X)\n",
      "File \u001b[1;32mc:\\Users\\KimDongyoung\\AppData\\Local\\Programs\\Python\\Python312\\Lib\\site-packages\\sklearn\\base.py:622\u001b[0m, in \u001b[0;36mBaseEstimator._validate_data\u001b[1;34m(self, X, y, reset, validate_separately, cast_to_ndarray, **check_params)\u001b[0m\n\u001b[0;32m    620\u001b[0m         y \u001b[38;5;241m=\u001b[39m check_array(y, input_name\u001b[38;5;241m=\u001b[39m\u001b[38;5;124m\"\u001b[39m\u001b[38;5;124my\u001b[39m\u001b[38;5;124m\"\u001b[39m, \u001b[38;5;241m*\u001b[39m\u001b[38;5;241m*\u001b[39mcheck_y_params)\n\u001b[0;32m    621\u001b[0m     \u001b[38;5;28;01melse\u001b[39;00m:\n\u001b[1;32m--> 622\u001b[0m         X, y \u001b[38;5;241m=\u001b[39m \u001b[43mcheck_X_y\u001b[49m\u001b[43m(\u001b[49m\u001b[43mX\u001b[49m\u001b[43m,\u001b[49m\u001b[43m \u001b[49m\u001b[43my\u001b[49m\u001b[43m,\u001b[49m\u001b[43m \u001b[49m\u001b[38;5;241;43m*\u001b[39;49m\u001b[38;5;241;43m*\u001b[39;49m\u001b[43mcheck_params\u001b[49m\u001b[43m)\u001b[49m\n\u001b[0;32m    623\u001b[0m     out \u001b[38;5;241m=\u001b[39m X, y\n\u001b[0;32m    625\u001b[0m \u001b[38;5;28;01mif\u001b[39;00m \u001b[38;5;129;01mnot\u001b[39;00m no_val_X \u001b[38;5;129;01mand\u001b[39;00m check_params\u001b[38;5;241m.\u001b[39mget(\u001b[38;5;124m\"\u001b[39m\u001b[38;5;124mensure_2d\u001b[39m\u001b[38;5;124m\"\u001b[39m, \u001b[38;5;28;01mTrue\u001b[39;00m):\n",
      "File \u001b[1;32mc:\\Users\\KimDongyoung\\AppData\\Local\\Programs\\Python\\Python312\\Lib\\site-packages\\sklearn\\utils\\validation.py:1162\u001b[0m, in \u001b[0;36mcheck_X_y\u001b[1;34m(X, y, accept_sparse, accept_large_sparse, dtype, order, copy, force_all_finite, ensure_2d, allow_nd, multi_output, ensure_min_samples, ensure_min_features, y_numeric, estimator)\u001b[0m\n\u001b[0;32m   1142\u001b[0m     \u001b[38;5;28;01mraise\u001b[39;00m \u001b[38;5;167;01mValueError\u001b[39;00m(\n\u001b[0;32m   1143\u001b[0m         \u001b[38;5;124mf\u001b[39m\u001b[38;5;124m\"\u001b[39m\u001b[38;5;132;01m{\u001b[39;00mestimator_name\u001b[38;5;132;01m}\u001b[39;00m\u001b[38;5;124m requires y to be passed, but the target y is None\u001b[39m\u001b[38;5;124m\"\u001b[39m\n\u001b[0;32m   1144\u001b[0m     )\n\u001b[0;32m   1146\u001b[0m X \u001b[38;5;241m=\u001b[39m check_array(\n\u001b[0;32m   1147\u001b[0m     X,\n\u001b[0;32m   1148\u001b[0m     accept_sparse\u001b[38;5;241m=\u001b[39maccept_sparse,\n\u001b[1;32m   (...)\u001b[0m\n\u001b[0;32m   1159\u001b[0m     input_name\u001b[38;5;241m=\u001b[39m\u001b[38;5;124m\"\u001b[39m\u001b[38;5;124mX\u001b[39m\u001b[38;5;124m\"\u001b[39m,\n\u001b[0;32m   1160\u001b[0m )\n\u001b[1;32m-> 1162\u001b[0m y \u001b[38;5;241m=\u001b[39m \u001b[43m_check_y\u001b[49m\u001b[43m(\u001b[49m\u001b[43my\u001b[49m\u001b[43m,\u001b[49m\u001b[43m \u001b[49m\u001b[43mmulti_output\u001b[49m\u001b[38;5;241;43m=\u001b[39;49m\u001b[43mmulti_output\u001b[49m\u001b[43m,\u001b[49m\u001b[43m \u001b[49m\u001b[43my_numeric\u001b[49m\u001b[38;5;241;43m=\u001b[39;49m\u001b[43my_numeric\u001b[49m\u001b[43m,\u001b[49m\u001b[43m \u001b[49m\u001b[43mestimator\u001b[49m\u001b[38;5;241;43m=\u001b[39;49m\u001b[43mestimator\u001b[49m\u001b[43m)\u001b[49m\n\u001b[0;32m   1164\u001b[0m check_consistent_length(X, y)\n\u001b[0;32m   1166\u001b[0m \u001b[38;5;28;01mreturn\u001b[39;00m X, y\n",
      "File \u001b[1;32mc:\\Users\\KimDongyoung\\AppData\\Local\\Programs\\Python\\Python312\\Lib\\site-packages\\sklearn\\utils\\validation.py:1172\u001b[0m, in \u001b[0;36m_check_y\u001b[1;34m(y, multi_output, y_numeric, estimator)\u001b[0m\n\u001b[0;32m   1170\u001b[0m \u001b[38;5;250m\u001b[39m\u001b[38;5;124;03m\"\"\"Isolated part of check_X_y dedicated to y validation\"\"\"\u001b[39;00m\n\u001b[0;32m   1171\u001b[0m \u001b[38;5;28;01mif\u001b[39;00m multi_output:\n\u001b[1;32m-> 1172\u001b[0m     y \u001b[38;5;241m=\u001b[39m \u001b[43mcheck_array\u001b[49m\u001b[43m(\u001b[49m\n\u001b[0;32m   1173\u001b[0m \u001b[43m        \u001b[49m\u001b[43my\u001b[49m\u001b[43m,\u001b[49m\n\u001b[0;32m   1174\u001b[0m \u001b[43m        \u001b[49m\u001b[43maccept_sparse\u001b[49m\u001b[38;5;241;43m=\u001b[39;49m\u001b[38;5;124;43m\"\u001b[39;49m\u001b[38;5;124;43mcsr\u001b[39;49m\u001b[38;5;124;43m\"\u001b[39;49m\u001b[43m,\u001b[49m\n\u001b[0;32m   1175\u001b[0m \u001b[43m        \u001b[49m\u001b[43mforce_all_finite\u001b[49m\u001b[38;5;241;43m=\u001b[39;49m\u001b[38;5;28;43;01mTrue\u001b[39;49;00m\u001b[43m,\u001b[49m\n\u001b[0;32m   1176\u001b[0m \u001b[43m        \u001b[49m\u001b[43mensure_2d\u001b[49m\u001b[38;5;241;43m=\u001b[39;49m\u001b[38;5;28;43;01mFalse\u001b[39;49;00m\u001b[43m,\u001b[49m\n\u001b[0;32m   1177\u001b[0m \u001b[43m        \u001b[49m\u001b[43mdtype\u001b[49m\u001b[38;5;241;43m=\u001b[39;49m\u001b[38;5;28;43;01mNone\u001b[39;49;00m\u001b[43m,\u001b[49m\n\u001b[0;32m   1178\u001b[0m \u001b[43m        \u001b[49m\u001b[43minput_name\u001b[49m\u001b[38;5;241;43m=\u001b[39;49m\u001b[38;5;124;43m\"\u001b[39;49m\u001b[38;5;124;43my\u001b[39;49m\u001b[38;5;124;43m\"\u001b[39;49m\u001b[43m,\u001b[49m\n\u001b[0;32m   1179\u001b[0m \u001b[43m        \u001b[49m\u001b[43mestimator\u001b[49m\u001b[38;5;241;43m=\u001b[39;49m\u001b[43mestimator\u001b[49m\u001b[43m,\u001b[49m\n\u001b[0;32m   1180\u001b[0m \u001b[43m    \u001b[49m\u001b[43m)\u001b[49m\n\u001b[0;32m   1181\u001b[0m \u001b[38;5;28;01melse\u001b[39;00m:\n\u001b[0;32m   1182\u001b[0m     estimator_name \u001b[38;5;241m=\u001b[39m _check_estimator_name(estimator)\n",
      "File \u001b[1;32mc:\\Users\\KimDongyoung\\AppData\\Local\\Programs\\Python\\Python312\\Lib\\site-packages\\sklearn\\utils\\validation.py:957\u001b[0m, in \u001b[0;36mcheck_array\u001b[1;34m(array, accept_sparse, accept_large_sparse, dtype, order, copy, force_all_finite, ensure_2d, allow_nd, ensure_min_samples, ensure_min_features, estimator, input_name)\u001b[0m\n\u001b[0;32m    951\u001b[0m         \u001b[38;5;28;01mraise\u001b[39;00m \u001b[38;5;167;01mValueError\u001b[39;00m(\n\u001b[0;32m    952\u001b[0m             \u001b[38;5;124m\"\u001b[39m\u001b[38;5;124mFound array with dim \u001b[39m\u001b[38;5;132;01m%d\u001b[39;00m\u001b[38;5;124m. \u001b[39m\u001b[38;5;132;01m%s\u001b[39;00m\u001b[38;5;124m expected <= 2.\u001b[39m\u001b[38;5;124m\"\u001b[39m\n\u001b[0;32m    953\u001b[0m             \u001b[38;5;241m%\u001b[39m (array\u001b[38;5;241m.\u001b[39mndim, estimator_name)\n\u001b[0;32m    954\u001b[0m         )\n\u001b[0;32m    956\u001b[0m     \u001b[38;5;28;01mif\u001b[39;00m force_all_finite:\n\u001b[1;32m--> 957\u001b[0m         \u001b[43m_assert_all_finite\u001b[49m\u001b[43m(\u001b[49m\n\u001b[0;32m    958\u001b[0m \u001b[43m            \u001b[49m\u001b[43marray\u001b[49m\u001b[43m,\u001b[49m\n\u001b[0;32m    959\u001b[0m \u001b[43m            \u001b[49m\u001b[43minput_name\u001b[49m\u001b[38;5;241;43m=\u001b[39;49m\u001b[43minput_name\u001b[49m\u001b[43m,\u001b[49m\n\u001b[0;32m    960\u001b[0m \u001b[43m            \u001b[49m\u001b[43mestimator_name\u001b[49m\u001b[38;5;241;43m=\u001b[39;49m\u001b[43mestimator_name\u001b[49m\u001b[43m,\u001b[49m\n\u001b[0;32m    961\u001b[0m \u001b[43m            \u001b[49m\u001b[43mallow_nan\u001b[49m\u001b[38;5;241;43m=\u001b[39;49m\u001b[43mforce_all_finite\u001b[49m\u001b[43m \u001b[49m\u001b[38;5;241;43m==\u001b[39;49m\u001b[43m \u001b[49m\u001b[38;5;124;43m\"\u001b[39;49m\u001b[38;5;124;43mallow-nan\u001b[39;49m\u001b[38;5;124;43m\"\u001b[39;49m\u001b[43m,\u001b[49m\n\u001b[0;32m    962\u001b[0m \u001b[43m        \u001b[49m\u001b[43m)\u001b[49m\n\u001b[0;32m    964\u001b[0m \u001b[38;5;28;01mif\u001b[39;00m ensure_min_samples \u001b[38;5;241m>\u001b[39m \u001b[38;5;241m0\u001b[39m:\n\u001b[0;32m    965\u001b[0m     n_samples \u001b[38;5;241m=\u001b[39m _num_samples(array)\n",
      "File \u001b[1;32mc:\\Users\\KimDongyoung\\AppData\\Local\\Programs\\Python\\Python312\\Lib\\site-packages\\sklearn\\utils\\validation.py:122\u001b[0m, in \u001b[0;36m_assert_all_finite\u001b[1;34m(X, allow_nan, msg_dtype, estimator_name, input_name)\u001b[0m\n\u001b[0;32m    119\u001b[0m \u001b[38;5;28;01mif\u001b[39;00m first_pass_isfinite:\n\u001b[0;32m    120\u001b[0m     \u001b[38;5;28;01mreturn\u001b[39;00m\n\u001b[1;32m--> 122\u001b[0m \u001b[43m_assert_all_finite_element_wise\u001b[49m\u001b[43m(\u001b[49m\n\u001b[0;32m    123\u001b[0m \u001b[43m    \u001b[49m\u001b[43mX\u001b[49m\u001b[43m,\u001b[49m\n\u001b[0;32m    124\u001b[0m \u001b[43m    \u001b[49m\u001b[43mxp\u001b[49m\u001b[38;5;241;43m=\u001b[39;49m\u001b[43mxp\u001b[49m\u001b[43m,\u001b[49m\n\u001b[0;32m    125\u001b[0m \u001b[43m    \u001b[49m\u001b[43mallow_nan\u001b[49m\u001b[38;5;241;43m=\u001b[39;49m\u001b[43mallow_nan\u001b[49m\u001b[43m,\u001b[49m\n\u001b[0;32m    126\u001b[0m \u001b[43m    \u001b[49m\u001b[43mmsg_dtype\u001b[49m\u001b[38;5;241;43m=\u001b[39;49m\u001b[43mmsg_dtype\u001b[49m\u001b[43m,\u001b[49m\n\u001b[0;32m    127\u001b[0m \u001b[43m    \u001b[49m\u001b[43mestimator_name\u001b[49m\u001b[38;5;241;43m=\u001b[39;49m\u001b[43mestimator_name\u001b[49m\u001b[43m,\u001b[49m\n\u001b[0;32m    128\u001b[0m \u001b[43m    \u001b[49m\u001b[43minput_name\u001b[49m\u001b[38;5;241;43m=\u001b[39;49m\u001b[43minput_name\u001b[49m\u001b[43m,\u001b[49m\n\u001b[0;32m    129\u001b[0m \u001b[43m\u001b[49m\u001b[43m)\u001b[49m\n",
      "File \u001b[1;32mc:\\Users\\KimDongyoung\\AppData\\Local\\Programs\\Python\\Python312\\Lib\\site-packages\\sklearn\\utils\\validation.py:171\u001b[0m, in \u001b[0;36m_assert_all_finite_element_wise\u001b[1;34m(X, xp, allow_nan, msg_dtype, estimator_name, input_name)\u001b[0m\n\u001b[0;32m    154\u001b[0m \u001b[38;5;28;01mif\u001b[39;00m estimator_name \u001b[38;5;129;01mand\u001b[39;00m input_name \u001b[38;5;241m==\u001b[39m \u001b[38;5;124m\"\u001b[39m\u001b[38;5;124mX\u001b[39m\u001b[38;5;124m\"\u001b[39m \u001b[38;5;129;01mand\u001b[39;00m has_nan_error:\n\u001b[0;32m    155\u001b[0m     \u001b[38;5;66;03m# Improve the error message on how to handle missing values in\u001b[39;00m\n\u001b[0;32m    156\u001b[0m     \u001b[38;5;66;03m# scikit-learn.\u001b[39;00m\n\u001b[0;32m    157\u001b[0m     msg_err \u001b[38;5;241m+\u001b[39m\u001b[38;5;241m=\u001b[39m (\n\u001b[0;32m    158\u001b[0m         \u001b[38;5;124mf\u001b[39m\u001b[38;5;124m\"\u001b[39m\u001b[38;5;130;01m\\n\u001b[39;00m\u001b[38;5;132;01m{\u001b[39;00mestimator_name\u001b[38;5;132;01m}\u001b[39;00m\u001b[38;5;124m does not accept missing values\u001b[39m\u001b[38;5;124m\"\u001b[39m\n\u001b[0;32m    159\u001b[0m         \u001b[38;5;124m\"\u001b[39m\u001b[38;5;124m encoded as NaN natively. For supervised learning, you might want\u001b[39m\u001b[38;5;124m\"\u001b[39m\n\u001b[1;32m   (...)\u001b[0m\n\u001b[0;32m    169\u001b[0m         \u001b[38;5;124m\"\u001b[39m\u001b[38;5;124m#estimators-that-handle-nan-values\u001b[39m\u001b[38;5;124m\"\u001b[39m\n\u001b[0;32m    170\u001b[0m     )\n\u001b[1;32m--> 171\u001b[0m \u001b[38;5;28;01mraise\u001b[39;00m \u001b[38;5;167;01mValueError\u001b[39;00m(msg_err)\n",
      "\u001b[1;31mValueError\u001b[0m: Input y contains NaN."
=======
      "Model: Fill1 Model\n",
      "Confusion Matrix:\n",
      " [[7411  221]\n",
      " [ 388   82]]\n",
      "Accuracy: 0.9248\n",
      "Precision: 0.2706\n",
      "Recall: 0.1745\n",
      "F1 Score: 0.2122\n",
      "\n",
      "\n",
      "Model: Fill2 Model\n",
      "Confusion Matrix:\n",
      " [[7339  293]\n",
      " [ 377   93]]\n",
      "Accuracy: 0.9173\n",
      "Precision: 0.2409\n",
      "Recall: 0.1979\n",
      "F1 Score: 0.2173\n",
      "\n",
      "\n"
>>>>>>> b30cabaa6d9263d9a527da31c1ff61ecd3a49b07:code_log/junehong_code/0817_Modeling_sep copy.ipynb
     ]
    }
   ],
   "source": [
<<<<<<< HEAD:code_log/dongyoung_code/modeling/0816_Optuna_Dam.ipynb
    "# 'Normal'과 'AbNormal'을 숫자로 변환\n",
    "train_data_dam['target'] = train_data_dam['target'].map({'Normal': 0, 'AbNormal': 1})\n",
    "\n",
    "# 스레드홀드 설정\n",
    "THRESHOLD = 0.3\n",
    "\n",
    "# Define the objective function\n",
    "def objectiveExtraTrees(trial, x_tr, y_tr, x_val, y_val):\n",
    "    # Suggest hyperparameters\n",
    "    param = {\n",
    "        'n_estimators': trial.suggest_int('n_estimators', 100, 1500)\n",
    "        , 'max_depth': trial.suggest_int('max_depth', 2, 50)\n",
    "        , 'min_samples_split': trial.suggest_int('min_samples_split', 2, 5)\n",
    "        , 'min_samples_leaf': trial.suggest_int('min_samples_leaf', 1, 5)\n",
    "        , 'criterion': trial.suggest_categorical('criterion', ['gini', 'entropy'])\n",
    "        , 'bootstrap': trial.suggest_categorical('bootstrap', [True, False])\n",
    "        , 'random_state': RANDOM_STATE\n",
    "    }\n",
    "\n",
    "    model = ExtraTreesClassifier(**param)\n",
    "    model.fit(x_tr, y_tr)\n",
    "    pred = model.predict(x_val)\n",
    "    score = f1_score(y_val, pred, average=\"binary\")\n",
    "\n",
    "    return score\n",
    "\n",
    "# 데이터셋 분할\n",
    "x_train, x_val, y_train, y_val = train_test_split(\n",
    "    train_data_dam.drop(\"target\", axis=1),\n",
    "    train_data_dam[\"target\"],\n",
    "    test_size=0.2,\n",
    "    shuffle=True,\n",
    "    random_state=RANDOM_STATE,\n",
    ")\n",
    "\n",
    "# 하이퍼 파라미터 튜닝\n",
    "study = optuna.create_study(direction='maximize', sampler=optuna.samplers.TPESampler(seed=RANDOM_STATE))\n",
    "study.optimize(lambda trial: objectiveExtraTrees(trial, x_train, y_train, x_val, y_val), n_trials=300)\n",
    "\n",
    "print('Best trial: score {}, \\nparams {}'.format(study.best_trial.value, study.best_trial.params))\n"
=======
    "import warnings\n",
    "from sklearn.exceptions import UndefinedMetricWarning\n",
    "\n",
    "# UndefinedMetricWarning 경고 무시\n",
    "warnings.filterwarnings(\"ignore\", category=UndefinedMetricWarning)\n",
    "\n",
    "def preprocess_and_evaluate(df, model, model_name, threshold=0.3):\n",
    "    df[\"target\"] = df[\"target\"].apply(lambda x: 1 if x == 'AbNormal' else 0)\n",
    "    val_x = df.drop(columns=[\"target\"])\n",
    "    val_y = df[\"target\"]\n",
    "    \n",
    "    # 확률 예측\n",
    "    y_pred_proba = model.predict_proba(val_x)[:, 1]  # 양성 클래스에 대한 확률\n",
    "    \n",
    "    # 스레스 홀드 적용하여 이진 예측\n",
    "    y_pred = (y_pred_proba >= threshold).astype(int)\n",
    "    \n",
    "    # 모델 성능 평가\n",
    "    print(f\"Model: {model_name}\")\n",
    "    get_clf_eval(val_y, y_pred)\n",
    "    print(\"\\n\")\n",
    "\n",
    "# 각 데이터셋과 모델에 대해 함수 호출\n",
    "# preprocess_and_evaluate(df_val_dam, model_Dam, \"Dam Model\")\n",
    "preprocess_and_evaluate(df_val_fill1, model_Fill1, \"Fill1 Model\")\n",
    "preprocess_and_evaluate(df_val_fill2, model_Fill2, \"Fill2 Model\")\n",
    "# preprocess_and_evaluate(df_val_autoclave, model_AutoClave, \"AutoClave Model\")"
>>>>>>> b30cabaa6d9263d9a527da31c1ff61ecd3a49b07:code_log/junehong_code/0817_Modeling_sep copy.ipynb
   ]
  },
  {
   "cell_type": "markdown",
   "id": "f990d2c7",
   "metadata": {},
   "source": [
    "분할한 데이터 -> 원래의 데이터(train data)로 학습한 새 모델 생성"
   ]
  },
  {
   "cell_type": "code",
   "execution_count": 113,
   "id": "409a210c",
   "metadata": {},
   "outputs": [],
   "source": [
    "# SettingWithCopyWarning 경고 무시\n",
    "pd.options.mode.chained_assignment = None  # default='warn'"
   ]
  },
  {
   "cell_type": "code",
   "execution_count": 114,
   "id": "fedb270f",
   "metadata": {},
   "outputs": [],
   "source": [
    "# 모델 학습\n",
    "# preprocess_and_train(train_data_dam, model_Dam)\n",
    "preprocess_and_train(train_data_fill1, model_Fill1)\n",
    "preprocess_and_train(train_data_fill2, model_Fill2)\n",
    "# preprocess_and_train(train_data_autoclave, model_AutoClave)"
   ]
  },
  {
   "cell_type": "code",
   "execution_count": 117,
   "id": "a98a058e",
   "metadata": {},
   "outputs": [],
   "source": [
    "# 예측에 필요한 데이터 분리\n",
    "# x_test_dam = test_data_dam.drop([\"target\", \"Set ID\"], axis=1)\n",
    "x_test_fill1 = test_data_fill1.drop([\"target\", \"Set ID\"], axis=1)\n",
    "x_test_fill2 = test_data_fill2.drop([\"target\", \"Set ID\"], axis=1)\n",
    "# x_test_autoclave = test_data_autoclave.drop([\"target\", \"Set ID\"], axis=1)\n",
    "\n",
    "# 각 공정의 예측 확률 계산\n",
    "probs = [\n",
    "    # model_Dam.predict_proba(x_test_dam)[:, 1]\n",
    "     model_Fill1.predict_proba(x_test_fill1)[:, 1]\n",
    "    , model_Fill2.predict_proba(x_test_fill2)[:, 1]\n",
    "    # , model_AutoClave.predict_proba(x_test_autoclave)[:, 1]\n",
    "]"
   ]
  },
  {
   "cell_type": "code",
   "execution_count": 118,
   "id": "4727e2ad",
   "metadata": {},
   "outputs": [
    {
     "name": "stdout",
     "output_type": "stream",
     "text": [
      "584\n"
     ]
    }
   ],
   "source": [
    "# 소프트 보팅: 각 모델의 확률 평균 계산\n",
    "soft_voting_probs = np.mean(probs, axis=0)\n",
    "\n",
    "# 최종 예측: 평균 확률에 대해 스레드 홀드 0.3 적용\n",
    "final_predictions = (soft_voting_probs >= 0.3).astype(int)\n",
    "\n",
    "# 최종 예측 결과 출력\n",
    "print(sum(final_predictions))"
   ]
  },
  {
   "cell_type": "code",
   "execution_count": 119,
   "id": "ea8ce2b2",
   "metadata": {},
   "outputs": [
    {
     "name": "stdout",
     "output_type": "stream",
     "text": [
      "999\n"
     ]
    }
   ],
   "source": [
    "# 4개의 예측 중 확률값이 0.3 이상이면 1(AbNormal)로 예측\n",
    "threshold = 0.3\n",
    "final_predictions = (np.any([prob > threshold for prob in probs], axis=0)).astype(int)\n",
    "\n",
    "print(sum(final_predictions))"
   ]
  },
  {
   "cell_type": "markdown",
   "id": "6eda8d24",
   "metadata": {},
   "source": [
    "=== Message ===  \n",
    "작성하신 답안 제출이 완료되었습니다.  \n",
    "Public Score : 0.20079522862823063  "
   ]
  },
  {
   "cell_type": "markdown",
   "id": "33be6ab9",
   "metadata": {},
   "source": [
    "## 4. 제출하기\n"
   ]
  },
  {
   "cell_type": "markdown",
   "id": "b11f188b",
   "metadata": {},
   "source": [
    "### 제출 파일 작성\n"
   ]
  },
  {
   "cell_type": "code",
   "execution_count": 120,
   "id": "754986da",
   "metadata": {},
   "outputs": [],
   "source": [
    "# 제출 데이터 읽어오기 (df_test는 전처리된 데이터가 저장됨)\n",
    "df_sub = pd.read_csv(\"submission.csv\")\n",
    "df_sub[\"target\"] = final_predictions\n",
    "\n",
    "# df_sub['target'] 값을 문자열 레이블로 변환\n",
    "df_sub['target'] = df_sub['target'].apply(lambda x: 'AbNormal' if x == 1 else 'Normal')\n",
    "\n",
    "# 제출 파일 저장\n",
    "df_sub.to_csv(\"submission.csv\", index=False)"
   ]
  },
  {
   "cell_type": "code",
   "execution_count": 121,
   "id": "844bfe31",
   "metadata": {},
   "outputs": [
    {
     "data": {
      "text/plain": [
       "Normal      16362\n",
       "AbNormal      999\n",
       "Name: target, dtype: int64"
      ]
     },
     "execution_count": 121,
     "metadata": {},
     "output_type": "execute_result"
    }
   ],
   "source": [
    "df_sub['target'].value_counts()"
   ]
  },
  {
   "cell_type": "code",
   "execution_count": 122,
   "id": "9efee1fc",
   "metadata": {},
   "outputs": [
    {
     "data": {
      "text/html": [
       "<div>\n",
       "<style scoped>\n",
       "    .dataframe tbody tr th:only-of-type {\n",
       "        vertical-align: middle;\n",
       "    }\n",
       "\n",
       "    .dataframe tbody tr th {\n",
       "        vertical-align: top;\n",
       "    }\n",
       "\n",
       "    .dataframe thead th {\n",
       "        text-align: right;\n",
       "    }\n",
       "</style>\n",
       "<table border=\"1\" class=\"dataframe\">\n",
       "  <thead>\n",
       "    <tr style=\"text-align: right;\">\n",
       "      <th></th>\n",
       "      <th>Set ID</th>\n",
       "      <th>target</th>\n",
       "    </tr>\n",
       "  </thead>\n",
       "  <tbody>\n",
       "    <tr>\n",
       "      <th>0</th>\n",
       "      <td>0001be084fbc4aaa9d921f39e595961b</td>\n",
       "      <td>Normal</td>\n",
       "    </tr>\n",
       "    <tr>\n",
       "      <th>1</th>\n",
       "      <td>0005bbd180064abd99e63f9ed3e1ac80</td>\n",
       "      <td>Normal</td>\n",
       "    </tr>\n",
       "    <tr>\n",
       "      <th>2</th>\n",
       "      <td>000948934c4140d883d670adcb609584</td>\n",
       "      <td>Normal</td>\n",
       "    </tr>\n",
       "    <tr>\n",
       "      <th>3</th>\n",
       "      <td>000a6bfd02874c6296dc7b2e9c5678a7</td>\n",
       "      <td>Normal</td>\n",
       "    </tr>\n",
       "    <tr>\n",
       "      <th>4</th>\n",
       "      <td>0018e78ce91343678716e2ea27a51c95</td>\n",
       "      <td>Normal</td>\n",
       "    </tr>\n",
       "    <tr>\n",
       "      <th>5</th>\n",
       "      <td>001fda4596f545d0a3b0ce85fbea77d2</td>\n",
       "      <td>Normal</td>\n",
       "    </tr>\n",
       "    <tr>\n",
       "      <th>6</th>\n",
       "      <td>0020734a7b29472298358ad58645a0c9</td>\n",
       "      <td>Normal</td>\n",
       "    </tr>\n",
       "    <tr>\n",
       "      <th>7</th>\n",
       "      <td>00234c5914cd4c4a888d13f8b3773135</td>\n",
       "      <td>Normal</td>\n",
       "    </tr>\n",
       "    <tr>\n",
       "      <th>8</th>\n",
       "      <td>00297b6c93e44d49ac534758a23dc74e</td>\n",
       "      <td>AbNormal</td>\n",
       "    </tr>\n",
       "    <tr>\n",
       "      <th>9</th>\n",
       "      <td>002d904240d84b188d410d16383a9c3a</td>\n",
       "      <td>Normal</td>\n",
       "    </tr>\n",
       "  </tbody>\n",
       "</table>\n",
       "</div>"
      ],
      "text/plain": [
       "                             Set ID    target\n",
       "0  0001be084fbc4aaa9d921f39e595961b    Normal\n",
       "1  0005bbd180064abd99e63f9ed3e1ac80    Normal\n",
       "2  000948934c4140d883d670adcb609584    Normal\n",
       "3  000a6bfd02874c6296dc7b2e9c5678a7    Normal\n",
       "4  0018e78ce91343678716e2ea27a51c95    Normal\n",
       "5  001fda4596f545d0a3b0ce85fbea77d2    Normal\n",
       "6  0020734a7b29472298358ad58645a0c9    Normal\n",
       "7  00234c5914cd4c4a888d13f8b3773135    Normal\n",
       "8  00297b6c93e44d49ac534758a23dc74e  AbNormal\n",
       "9  002d904240d84b188d410d16383a9c3a    Normal"
      ]
     },
     "execution_count": 122,
     "metadata": {},
     "output_type": "execute_result"
    }
   ],
   "source": [
    "df_sub.head(10)"
   ]
  },
  {
   "cell_type": "markdown",
   "id": "5ba0550e",
   "metadata": {},
   "source": [
    "**우측 상단의 제출 버튼을 클릭해 결과를 확인하세요**\n"
   ]
  }
 ],
 "metadata": {
  "kernelspec": {
   "display_name": "Python 3 (ipykernel)",
   "language": "python",
   "name": "python3"
  },
  "language_info": {
   "codemirror_mode": {
    "name": "ipython",
    "version": 3
   },
   "file_extension": ".py",
   "mimetype": "text/x-python",
   "name": "python",
   "nbconvert_exporter": "python",
   "pygments_lexer": "ipython3",
   "version": "3.7.8"
  }
 },
 "nbformat": 4,
 "nbformat_minor": 5
}

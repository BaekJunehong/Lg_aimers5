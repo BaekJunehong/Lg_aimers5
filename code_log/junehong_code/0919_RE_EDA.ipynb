{
 "cells": [
  {
   "cell_type": "markdown",
   "id": "d2340621",
   "metadata": {},
   "source": [
    "# 제품 이상여부 판별 프로젝트"
   ]
  },
  {
   "cell_type": "code",
   "execution_count": 120,
   "id": "a199baa0",
   "metadata": {},
   "outputs": [],
   "source": [
    "import numpy as np\n",
    "import pandas as pd\n",
    "import seaborn as sns\n",
    "import matplotlib.pyplot as plt\n",
    "\n",
    "import os\n",
    "from pprint import pprint\n",
    "\n",
    "from sklearn.ensemble import RandomForestClassifier\n",
    "from sklearn.metrics import (\n",
    "    accuracy_score,\n",
    "    classification_report,\n",
    "    confusion_matrix,\n",
    "    f1_score,\n",
    "    precision_score,\n",
    "    recall_score,\n",
    ")\n",
    "from sklearn.model_selection import train_test_split\n",
    "from tqdm import tqdm"
   ]
  },
  {
   "cell_type": "code",
   "execution_count": 121,
   "id": "a7a4ec93",
   "metadata": {},
   "outputs": [],
   "source": [
    "RANDOM_STATE = 110\n",
    "\n",
    "train_data = pd.read_csv(\"../../data/train.csv\")\n",
    "test_data = pd.read_csv(\"../../data/test.csv\")"
   ]
  },
  {
   "cell_type": "markdown",
   "id": "8003e2fc",
   "metadata": {},
   "source": [
    "### 0. 결측값 처리"
   ]
  },
  {
   "cell_type": "markdown",
   "id": "b1c953fc",
   "metadata": {},
   "source": [
    "밀린행 처리"
   ]
  },
  {
   "cell_type": "code",
   "execution_count": 122,
   "id": "fcf17763",
   "metadata": {
    "scrolled": true
   },
   "outputs": [],
   "source": [
    "# def shift_row_values(row, start_col_index, move_limit, total_columns):\n",
    "#     move_count = 0  # 이동 카운터 초기화\n",
    "#     for col_index in range(start_col_index, total_columns):  # 모든 열을 대상으로\n",
    "#         if pd.isna(row[col_index]) or row[col_index] == \"OK\":  # 빈값 또는 \"OK\" 확인\n",
    "#             # 빈값 또는 \"OK\"가 발견되면 현재 위치부터 이후 3칸 간격의 변수 값을 앞으로 이동\n",
    "#             for shift_index in range(col_index, total_columns - 3, 3):  # 3칸씩 이동\n",
    "#                 # 값을 이동\n",
    "#                 row[shift_index] = row[shift_index + 3]\n",
    "#                 row[shift_index + 3] = None  # 원래 자리 비우기\n",
    "#                 move_count += 1  # 이동 카운트 증가\n",
    "\n",
    "#                 if move_count >= move_limit:  # 설정된 횟수에 도달하면 중지\n",
    "#                     break\n",
    "#         if move_count >= move_limit:  # 외부 루프에서도 체크\n",
    "#             break\n",
    "#     return row\n",
    "\n",
    "# def shift_values(data, start_col_index, move_limit):\n",
    "#     total_columns = data.shape[1]\n",
    "#     data = data.apply(shift_row_values, axis=1, args=(start_col_index, move_limit, total_columns))\n",
    "#     return data\n",
    "\n",
    "# # 변수 이름 설정 및 시작 열 인덱스 및 이동 횟수 설정\n",
    "# variables_with_limits = [\n",
    "#     ('HEAD NORMAL COORDINATE X AXIS(Stage1) Collect Result_Dam', 52),\n",
    "#     ('HEAD NORMAL COORDINATE X AXIS(Stage1) Collect Result_Fill1', 22),\n",
    "#     ('HEAD NORMAL COORDINATE X AXIS(Stage1) Collect Result_Fill2', 22)\n",
    "# ]\n",
    "\n",
    "# # 각 변수에 대해 함수 호출\n",
    "# def process_data(data, variables_with_limits, output_file):\n",
    "#     for start_var, move_limit in variables_with_limits:\n",
    "#         start_col_index = data.columns.get_loc(start_var)  # 각 변수의 시작 열 인덱스 찾기\n",
    "#         data = shift_values(data, start_col_index, move_limit)\n",
    "#     data.to_csv(output_file, index=False)\n",
    "#     print(f'데이터가 성공적으로 수정되고 저장되었습니다: {output_file}')\n",
    "\n",
    "# # 데이터 처리\n",
    "# process_data(train_data, variables_with_limits, '../../data/clean_train.csv')\n",
    "# process_data(test_data, variables_with_limits, '../../data/clean_test.csv')"
   ]
  },
  {
   "cell_type": "code",
   "execution_count": 123,
   "id": "c3352387-f469-4a46-a648-1a6b5eb353ab",
   "metadata": {},
   "outputs": [],
   "source": [
    "# csv 불러오기\n",
    "train_data = pd.read_csv('../../data/clean_train.csv')\n",
    "test_data = pd.read_csv('../../data/clean_test.csv')"
   ]
  },
  {
   "cell_type": "markdown",
   "id": "69afb499",
   "metadata": {},
   "source": [
    "반복적으로 쓰는 툴 함수화"
   ]
  },
  {
   "cell_type": "code",
   "execution_count": 124,
   "id": "83a23519",
   "metadata": {},
   "outputs": [],
   "source": [
    "def plot_box(df, col_name):\n",
    "    \"\"\"\n",
    "    주어진 데이터프레임과 열 이름에 대해 박스 플롯을 그리는 함수.\n",
    "\n",
    "    Parameters:\n",
    "    dataframe (pd.DataFrame): 데이터프레임\n",
    "    column_name (str): 열 이름\n",
    "    \"\"\"\n",
    "    plt.figure(figsize=(7, 4))\n",
    "    plt.boxplot(df[col_name], vert=False)\n",
    "    plt.xlabel(col_name)\n",
    "    plt.title(f'Box Plot of {col_name}')\n",
    "    plt.show()\n",
    "\n",
    "def value_counts_ratio(df, col_name, target_name='target'):\n",
    "    \"\"\"\n",
    "    주어진 데이터프레임의 특정 열에 대해 각 값마다 타겟 변수의 비율과 갯수, 총 갯수를 출력하는 함수.\n",
    "\n",
    "    Parameters:\n",
    "    df (pd.DataFrame): 데이터프레임\n",
    "    col_name (str): 열 이름\n",
    "    target_name (str): 타겟 변수 이름\n",
    "    \"\"\"\n",
    "    # 각 값마다 타겟 변수의 비율 계산\n",
    "    value_counts = df.groupby(col_name)[target_name].value_counts(normalize=True).unstack().fillna(0)\n",
    "    \n",
    "    # 각 값마다 타겟 변수의 갯수 계산\n",
    "    counts = df.groupby(col_name)[target_name].value_counts().unstack().fillna(0)\n",
    "    \n",
    "    # 각 값마다 총 갯수 계산\n",
    "    total_counts = df[col_name].value_counts().rename('Total_Count')\n",
    "    \n",
    "    # 비율과 갯수를 합침\n",
    "    result = value_counts.join(counts, lsuffix='_ratio', rsuffix='_count')\n",
    "    \n",
    "    # 총 갯수를 합침\n",
    "    result = result.join(total_counts, on=col_name)\n",
    "    \n",
    "    # 출력 형식 조정\n",
    "    result.index.name = 'variable'\n",
    "    print(f\"\\n{col_name}별 {target_name} 비율 및 갯수\\n\")\n",
    "    print(result.rename(columns=lambda x: x.split('_')[0]))\n",
    "\n",
    "def summarize_group(df, group_by_columns):\n",
    "    # 데이터프레임을 그룹화\n",
    "    grouped_df = df.groupby(group_by_columns)\n",
    "    \n",
    "    # 결과를 저장할 리스트 초기화\n",
    "    results = []\n",
    "    \n",
    "    # 그룹화된 데이터프레임의 내용을 확인하는 코드\n",
    "    for name, group in grouped_df:\n",
    "        # 그룹의 갯수 계산\n",
    "        group_count = group.shape[0]\n",
    "        \n",
    "        # 'target' 변수의 'AdNormal' 비율과 갯수 계산\n",
    "        adnormal_count = group['target'].value_counts().get('AbNormal', 0)\n",
    "        adnormal_ratio = adnormal_count / group_count\n",
    "        \n",
    "        # 결과 리스트에 추가\n",
    "        results.append([name, adnormal_count, adnormal_ratio, group_count])\n",
    "    \n",
    "    # 결과 리스트를 데이터프레임으로 변환\n",
    "    results_df = pd.DataFrame(results, columns=['group', \"'AdNormal' count\", 'ratio', 'Total'])\n",
    "    \n",
    "    # 그룹화된 변수들의 이름을 제목행으로 출력\n",
    "    print(f\"Grouped by: {', '.join(group_by_columns)}\")\n",
    "    print()\n",
    "    # 데이터프레임 출력\n",
    "    print(results_df)\n",
    "\n",
    "# 예시코드\n",
    "# summarize_grouped_data(train_data, ['1st Pressure Collect Result_AutoClave', '1st Pressure Unit Time_AutoClave'])\n",
    "\n",
    "def plot_ratio(df, group_by_column, target_column='target', abnormal_value='AbNormal'):\n",
    "    # 데이터프레임을 그룹화\n",
    "    grouped_df = df.groupby(group_by_column)\n",
    "    \n",
    "    # 결과를 저장할 리스트 초기화\n",
    "    results = []\n",
    "    \n",
    "    # 그룹화된 데이터프레임의 내용을 확인하는 코드\n",
    "    for name, group in grouped_df:\n",
    "        # 그룹의 갯수 계산\n",
    "        group_count = group.shape[0]\n",
    "        \n",
    "        # 'target' 변수의 'AbNormal' 비율과 갯수 계산\n",
    "        abnormal_count = group[target_column].value_counts().get(abnormal_value, 0)\n",
    "        abnormal_ratio = abnormal_count / group_count\n",
    "        \n",
    "        # 결과 리스트에 추가\n",
    "        results.append([name, abnormal_count, abnormal_ratio, group_count])\n",
    "    \n",
    "    # 결과 리스트를 데이터프레임으로 변환\n",
    "    results_df = pd.DataFrame(results, columns=['group', f\"'{abnormal_value}' count\", 'ratio', 'Total'])\n",
    "    \n",
    "    # 그래프 크기 설정\n",
    "    plt.figure(figsize=(10, 5))\n",
    "    \n",
    "    # 막대 그래프 생성\n",
    "    ax = results_df.plot(kind='bar', x='group', y='ratio', legend=False)\n",
    "    \n",
    "    # 각 막대 위에 AbNormal 갯수와 총 갯수 표시\n",
    "    for i, (abnormal_count, total) in enumerate(zip(results_df[f\"'{abnormal_value}' count\"], results_df['Total'])):\n",
    "        ax.text(i, results_df['ratio'][i], f'{abnormal_count} ({total})', ha='center', va='bottom', fontsize=8)\n",
    "    \n",
    "     # 그래프 제목 및 축 레이블 설정\n",
    "    ax.set_title(f'{abnormal_value} Ratio by {group_by_column}')\n",
    "    ax.set_xlabel(group_by_column)\n",
    "    ax.set_ylabel(f'{abnormal_value} Ratio')\n",
    "   \n",
    "    # 그래프 출력\n",
    "    plt.show()\n",
    "\n",
    "def plot_ratio_boxplot(data, time_ratio_column, target_column='target'):\n",
    "    # 그래프 스타일 설정\n",
    "    sns.set(style=\"whitegrid\")\n",
    "\n",
    "    # 그래프 그리기\n",
    "    plt.figure(figsize=(10, 6))\n",
    "    sns.boxplot(x=time_ratio_column, y=target_column, data=data)\n",
    "\n",
    "    # 그래프 제목 및 레이블 설정\n",
    "    plt.title(f'{time_ratio_column} vs {target_column}')\n",
    "    plt.xlabel(time_ratio_column)\n",
    "    plt.ylabel(target_column)\n",
    "\n",
    "    # 그래프 출력\n",
    "    plt.show()\n",
    "\n",
    "# 함수 호출 예제\n",
    "#plot_time_ratio_vs_target(train_data, 'time_ratio_Dam')"
   ]
  },
  {
   "cell_type": "markdown",
   "id": "64f6f25e-68c6-45b2-8888-d762a4199bb5",
   "metadata": {},
   "source": [
    "### 1. 기본 전처리"
   ]
  },
  {
   "cell_type": "code",
   "execution_count": 125,
   "id": "da62ac10",
   "metadata": {},
   "outputs": [
    {
     "name": "stdout",
     "output_type": "stream",
     "text": [
      "<class 'pandas.core.frame.DataFrame'>\n",
      "RangeIndex: 40506 entries, 0 to 40505\n",
      "Columns: 464 entries, Wip Line_Dam to target\n",
      "dtypes: float64(362), int64(68), object(34)\n",
      "memory usage: 143.4+ MB\n"
     ]
    }
   ],
   "source": [
    "train_data.info()"
   ]
  },
  {
   "cell_type": "markdown",
   "id": "0f0a9862",
   "metadata": {},
   "source": [
    "모든 값이 NaN인 열 제거"
   ]
  },
  {
   "cell_type": "code",
   "execution_count": 126,
   "id": "ef282a8f-1717-4582-9abb-b064b243bac7",
   "metadata": {},
   "outputs": [],
   "source": [
    "# target 열을 임시로 분리\n",
    "target_train = train_data['target']\n",
    "target_test = test_data['target']\n",
    "\n",
    "# 모든 값이 NaN인 열 제거\n",
    "train_data = train_data.dropna(axis=1, how='all')\n",
    "test_data = test_data.dropna(axis=1, how='all')\n",
    "\n",
    "# target 열을 다시 결합\n",
    "train_data['target'] = target_train\n",
    "test_data['target'] = target_test"
   ]
  },
  {
   "cell_type": "code",
   "execution_count": 127,
   "id": "ec6a1de7",
   "metadata": {},
   "outputs": [
    {
     "name": "stdout",
     "output_type": "stream",
     "text": [
      "<class 'pandas.core.frame.DataFrame'>\n",
      "RangeIndex: 40506 entries, 0 to 40505\n",
      "Columns: 186 entries, Wip Line_Dam to target\n",
      "dtypes: float64(84), int64(68), object(34)\n",
      "memory usage: 57.5+ MB\n"
     ]
    }
   ],
   "source": [
    "train_data.info()"
   ]
  },
  {
   "cell_type": "markdown",
   "id": "e6e0bb68",
   "metadata": {},
   "source": [
    "Wip Line"
   ]
  },
  {
   "cell_type": "code",
   "execution_count": 128,
   "id": "77b28ae9",
   "metadata": {},
   "outputs": [
    {
     "name": "stdout",
     "output_type": "stream",
     "text": [
      "< Wip Line 포함 변수 >\n",
      "Wip Line_Dam\n",
      "Wip Line_AutoClave\n",
      "Wip Line_Fill1\n",
      "Wip Line_Fill2\n"
     ]
    }
   ],
   "source": [
    "# 'Wip Line'를 포함하는 열 이름 필터링\n",
    "filter_col = train_data.filter(like='Wip Line').columns\n",
    "\n",
    "print(\"< Wip Line 포함 변수 >\")\n",
    "for col in filter_col:\n",
    "    print(col)"
   ]
  },
  {
   "cell_type": "code",
   "execution_count": 129,
   "id": "47e04585",
   "metadata": {},
   "outputs": [
    {
     "name": "stdout",
     "output_type": "stream",
     "text": [
      "Grouped by: Wip Line_Dam, Wip Line_AutoClave, Wip Line_Fill1, Wip Line_Fill2\n",
      "\n",
      "                                  group  'AdNormal' count     ratio  Total\n",
      "0  (IVI-OB6, IVI-OB6, IVI-OB6, IVI-OB6)              2350  0.058016  40506\n"
     ]
    }
   ],
   "source": [
    "summarize_group(train_data, ['Wip Line_Dam'\n",
    "                             , 'Wip Line_AutoClave'\n",
    "                             , 'Wip Line_Fill1'\n",
    "                             , 'Wip Line_Fill2'])"
   ]
  },
  {
   "cell_type": "code",
   "execution_count": 130,
   "id": "8f245f17-b82f-4406-8f9d-cccf488bf387",
   "metadata": {},
   "outputs": [],
   "source": [
    "# Wip Line 열 제거\n",
    "wip_line_columns = train_data.filter(like='Wip Line').columns\n",
    "\n",
    "train_data.drop(columns=wip_line_columns, inplace=True)\n",
    "test_data.drop(columns=wip_line_columns, inplace=True)"
   ]
  },
  {
   "cell_type": "markdown",
   "id": "d5a7b596",
   "metadata": {},
   "source": [
    "Process Desc"
   ]
  },
  {
   "cell_type": "code",
   "execution_count": 131,
   "id": "33f72b19",
   "metadata": {},
   "outputs": [
    {
     "name": "stdout",
     "output_type": "stream",
     "text": [
      "< Process Desc 포함 변수 >\n",
      "Process Desc._Dam\n",
      "Process Desc._AutoClave\n",
      "Process Desc._Fill1\n",
      "Process Desc._Fill2\n"
     ]
    }
   ],
   "source": [
    "# 'Process Desc'를 포함하는 열 이름 필터링\n",
    "filter_col = train_data.filter(like='Process Desc').columns\n",
    "\n",
    "print(\"< Process Desc 포함 변수 >\")\n",
    "for col in filter_col:\n",
    "    print(col)"
   ]
  },
  {
   "cell_type": "code",
   "execution_count": 132,
   "id": "299a7017",
   "metadata": {},
   "outputs": [
    {
     "name": "stdout",
     "output_type": "stream",
     "text": [
      "Grouped by: Process Desc._Dam, Process Desc._AutoClave, Process Desc._Fill1, Process Desc._Fill2\n",
      "\n",
      "                                               group  'AdNormal' count  \\\n",
      "0  (Dam Dispenser, Auto Clave Out, Fill1 Dispense...              2350   \n",
      "\n",
      "      ratio  Total  \n",
      "0  0.058016  40506  \n"
     ]
    }
   ],
   "source": [
    "summarize_group(train_data, ['Process Desc._Dam'\n",
    "                             , 'Process Desc._AutoClave'\n",
    "                             , 'Process Desc._Fill1'\n",
    "                             , 'Process Desc._Fill2'])"
   ]
  },
  {
   "cell_type": "code",
   "execution_count": 133,
   "id": "25a4af25-3399-4762-be4e-7c77d67e677b",
   "metadata": {},
   "outputs": [],
   "source": [
    "# Process Desc 열 제거\n",
    "Process_Desc_col = train_data.filter(like='Process Desc').columns\n",
    "\n",
    "train_data.drop(columns=Process_Desc_col, inplace=True)\n",
    "test_data.drop(columns=Process_Desc_col, inplace=True)"
   ]
  },
  {
   "cell_type": "markdown",
   "id": "b410f632",
   "metadata": {},
   "source": [
    "Insp. Seq No"
   ]
  },
  {
   "cell_type": "code",
   "execution_count": 134,
   "id": "e7c0516e",
   "metadata": {},
   "outputs": [
    {
     "name": "stdout",
     "output_type": "stream",
     "text": [
      "< Insp. Seq No 포함 변수 >\n",
      "Insp. Seq No._Dam\n",
      "Insp. Seq No._AutoClave\n",
      "Insp. Seq No._Fill1\n",
      "Insp. Seq No._Fill2\n"
     ]
    }
   ],
   "source": [
    "# 'Insp. Seq No'를 포함하는 열 이름 필터링\n",
    "filter_col = train_data.filter(like='Insp. Seq No').columns\n",
    "\n",
    "print(\"< Insp. Seq No 포함 변수 >\")\n",
    "for col in filter_col:\n",
    "    print(col)"
   ]
  },
  {
   "cell_type": "code",
   "execution_count": 135,
   "id": "8b96edfc",
   "metadata": {},
   "outputs": [
    {
     "name": "stdout",
     "output_type": "stream",
     "text": [
      "Grouped by: Insp. Seq No._Dam, Insp. Seq No._AutoClave, Insp. Seq No._Fill1, Insp. Seq No._Fill2\n",
      "\n",
      "          group  'AdNormal' count     ratio  Total\n",
      "0  (1, 1, 1, 1)              2350  0.058016  40506\n"
     ]
    }
   ],
   "source": [
    "summarize_group(train_data, ['Insp. Seq No._Dam'\n",
    "                             , 'Insp. Seq No._AutoClave'\n",
    "                             , 'Insp. Seq No._Fill1'\n",
    "                             , 'Insp. Seq No._Fill2'])"
   ]
  },
  {
   "cell_type": "code",
   "execution_count": 136,
   "id": "c75a3e26-5efa-420e-998f-b0df0040df5d",
   "metadata": {},
   "outputs": [],
   "source": [
    "# Insp. Seq No 열 제거\n",
    "Insp_Seq_No_col = train_data.filter(like='Insp. Seq No').columns\n",
    "\n",
    "train_data.drop(columns=Insp_Seq_No_col, inplace=True)\n",
    "test_data.drop(columns=Insp_Seq_No_col, inplace=True)"
   ]
  },
  {
   "cell_type": "code",
   "execution_count": 137,
   "id": "c6feab77",
   "metadata": {},
   "outputs": [
    {
     "name": "stdout",
     "output_type": "stream",
     "text": [
      "< Insp Judge Code 포함 변수 >\n",
      "Insp Judge Code_Dam\n",
      "Insp Judge Code_AutoClave\n",
      "Insp Judge Code_Fill1\n",
      "Insp Judge Code_Fill2\n"
     ]
    }
   ],
   "source": [
    "# 'Insp Judge Code'를 포함하는 열 이름 필터링\n",
    "filter_col = train_data.filter(like='Insp Judge Code').columns\n",
    "\n",
    "print(\"< Insp Judge Code 포함 변수 >\")\n",
    "for col in filter_col:\n",
    "    print(col)"
   ]
  },
  {
   "cell_type": "code",
   "execution_count": 138,
   "id": "3a3f6769",
   "metadata": {},
   "outputs": [
    {
     "name": "stdout",
     "output_type": "stream",
     "text": [
      "Grouped by: Insp Judge Code_Dam, Insp Judge Code_AutoClave, Insp Judge Code_Fill1, Insp Judge Code_Fill2\n",
      "\n",
      "              group  'AdNormal' count     ratio  Total\n",
      "0  (OK, OK, OK, OK)              2350  0.058016  40506\n"
     ]
    }
   ],
   "source": [
    "summarize_group(train_data, ['Insp Judge Code_Dam'\n",
    "                             , 'Insp Judge Code_AutoClave'\n",
    "                             , 'Insp Judge Code_Fill1'\n",
    "                             , 'Insp Judge Code_Fill2'])"
   ]
  },
  {
   "cell_type": "code",
   "execution_count": 139,
   "id": "f2a9ca83-eca1-4a22-b0c9-027f1960239f",
   "metadata": {},
   "outputs": [],
   "source": [
    "# Insp Judge Code 열 제거\n",
    "Insp_Judge_Code_col = train_data.filter(like='Insp Judge Code').columns\n",
    "\n",
    "train_data.drop(columns=Insp_Judge_Code_col, inplace=True)\n",
    "test_data.drop(columns=Insp_Judge_Code_col, inplace=True)"
   ]
  },
  {
   "cell_type": "code",
   "execution_count": 140,
   "id": "22503b8d",
   "metadata": {},
   "outputs": [
    {
     "name": "stdout",
     "output_type": "stream",
     "text": [
      "<class 'pandas.core.frame.DataFrame'>\n",
      "RangeIndex: 40506 entries, 0 to 40505\n",
      "Columns: 170 entries, Equipment_Dam to target\n",
      "dtypes: float64(84), int64(64), object(22)\n",
      "memory usage: 52.5+ MB\n"
     ]
    }
   ],
   "source": [
    "train_data.info()"
   ]
  },
  {
   "cell_type": "markdown",
   "id": "078e2803-88fe-4d64-9f9d-fa60b6bb5299",
   "metadata": {},
   "source": [
    "### 2. 제품 구분"
   ]
  },
  {
   "cell_type": "markdown",
   "id": "546e33e3-9684-4c66-b33a-db13c3ca21e0",
   "metadata": {},
   "source": [
    "- receip no, workorder, model.suffix"
   ]
  },
  {
   "cell_type": "markdown",
   "id": "927caaa5",
   "metadata": {},
   "source": [
    "Receip_No"
   ]
  },
  {
   "cell_type": "code",
   "execution_count": 141,
   "id": "dc24c4fa",
   "metadata": {},
   "outputs": [
    {
     "name": "stdout",
     "output_type": "stream",
     "text": [
      "< Receip No 포함 변수 >\n",
      "Receip No Collect Result_Dam\n",
      "Receip No Collect Result_Fill1\n",
      "Receip No Collect Result_Fill2\n"
     ]
    }
   ],
   "source": [
    "# 'Receip No'를 포함하는 열 이름 필터링\n",
    "filter_col = train_data.filter(like='Receip No').columns\n",
    "\n",
    "print(\"< Receip No 포함 변수 >\")\n",
    "for col in filter_col:\n",
    "    print(col)"
   ]
  },
  {
   "cell_type": "code",
   "execution_count": 142,
   "id": "3bfdcd29",
   "metadata": {},
   "outputs": [
    {
     "name": "stdout",
     "output_type": "stream",
     "text": [
      "Grouped by: Receip No Collect Result_Dam, Receip No Collect Result_Fill1, Receip No Collect Result_Fill2\n",
      "\n",
      "          group  'AdNormal' count     ratio  Total\n",
      "0     (1, 1, 1)              2215  0.056396  39276\n",
      "1     (1, 4, 1)                 1  1.000000      1\n",
      "2     (1, 6, 6)                 3  1.000000      3\n",
      "3     (3, 3, 3)                43  0.671875     64\n",
      "4     (6, 6, 6)                82  0.083673    980\n",
      "5     (9, 9, 9)                 1  0.010417     96\n",
      "6  (17, 17, 17)                 5  0.058140     86\n"
     ]
    }
   ],
   "source": [
    "summarize_group(train_data, ['Receip No Collect Result_Dam'\n",
    "                             , 'Receip No Collect Result_Fill1'\n",
    "                             , 'Receip No Collect Result_Fill2'])"
   ]
  },
  {
   "cell_type": "code",
   "execution_count": 143,
   "id": "ba667da8-fe3c-4eb2-87de-bd10d7300815",
   "metadata": {},
   "outputs": [],
   "source": [
    "### Receip_No\n",
    "# 파생변수 생성: Receip_No 3개의 컬럼 값이 모두 동일하면 해당 값을 저장, 아니면 diff\n",
    "train_data['Receip_No'] = train_data.apply(\n",
    "    lambda row: row['Receip No Collect Result_Dam'] if (row['Receip No Collect Result_Dam'] == row['Receip No Collect Result_Fill1'] == row['Receip No Collect Result_Fill2']) else 'diff',\n",
    "    axis=1\n",
    ")\n",
    "test_data['Receip_No'] = test_data.apply(\n",
    "    lambda row: row['Receip No Collect Result_Dam'] if (row['Receip No Collect Result_Dam'] == row['Receip No Collect Result_Fill1'] == row['Receip No Collect Result_Fill2']) else 'diff',\n",
    "    axis=1\n",
    ")\n",
    "\n",
    "# receip_no 열을 object 타입으로 변경\n",
    "train_data['Receip_No'] = train_data['Receip_No'].astype('object')\n",
    "test_data['Receip_No'] = test_data['Receip_No'].astype('object')\n",
    "\n",
    "# 필요없는 변수 삭제\n",
    "train_data = train_data.drop(columns=['Receip No Collect Result_Dam', 'Receip No Collect Result_Fill1', 'Receip No Collect Result_Fill2'])\n",
    "test_data = test_data.drop(columns=['Receip No Collect Result_Dam', 'Receip No Collect Result_Fill1', 'Receip No Collect Result_Fill2'])"
   ]
  },
  {
   "cell_type": "code",
   "execution_count": 144,
   "id": "1ed23483",
   "metadata": {},
   "outputs": [
    {
     "name": "stdout",
     "output_type": "stream",
     "text": [
      "\n",
      "Receip_No별 target 비율 및 갯수\n",
      "\n",
      "          AbNormal    Normal  AbNormal   Normal  Total\n",
      "variable                                              \n",
      "1         0.056396  0.943604    2215.0  37061.0  39276\n",
      "3         0.671875  0.328125      43.0     21.0     64\n",
      "6         0.083673  0.916327      82.0    898.0    980\n",
      "9         0.010417  0.989583       1.0     95.0     96\n",
      "17        0.058140  0.941860       5.0     81.0     86\n",
      "diff      1.000000  0.000000       4.0      0.0      4\n"
     ]
    }
   ],
   "source": [
    "value_counts_ratio(train_data, 'Receip_No')"
   ]
  },
  {
   "cell_type": "markdown",
   "id": "7f4698fa",
   "metadata": {},
   "source": [
    "model_suffix"
   ]
  },
  {
   "cell_type": "code",
   "execution_count": 145,
   "id": "044b8430",
   "metadata": {},
   "outputs": [
    {
     "name": "stdout",
     "output_type": "stream",
     "text": [
      "Grouped by: Model.Suffix_Dam, Model.Suffix_AutoClave, Model.Suffix_Fill2\n",
      "\n",
      "                                     group  'AdNormal' count     ratio  Total\n",
      "0  (AJX75334501, AJX75334501, AJX75334501)              1918  0.056712  33820\n",
      "1  (AJX75334502, AJX75334502, AJX75334502)               230  0.067847   3390\n",
      "2  (AJX75334503, AJX75334503, AJX75334503)                44  0.271605    162\n",
      "3  (AJX75334505, AJX75334505, AJX75334505)               130  0.049336   2635\n",
      "4  (AJX75334506, AJX75334506, AJX75334506)                 8  0.062016    129\n",
      "5  (AJX75334507, AJX75334507, AJX75334507)                18  0.058065    310\n",
      "6  (AJX75334508, AJX75334508, AJX75334508)                 2  0.033333     60\n"
     ]
    }
   ],
   "source": [
    "summarize_group(train_data, ['Model.Suffix_Dam'\n",
    "                             , 'Model.Suffix_AutoClave'\n",
    "                            #  , 'Model.Suffix_Fill1' # 보기편하려고 주석처리한거\n",
    "                             , 'Model.Suffix_Fill2'])"
   ]
  },
  {
   "cell_type": "code",
   "execution_count": 146,
   "id": "25be280c",
   "metadata": {},
   "outputs": [],
   "source": [
    "### model_receip\n",
    "# 열 이름 변경\n",
    "train_data.rename(columns={'Model.Suffix_Dam': 'model_suffix'}, inplace=True)\n",
    "test_data.rename(columns={'Model.Suffix_Dam': 'model_suffix'}, inplace=True)\n",
    "\n",
    "# 필요없는 변수 삭제\n",
    "train_data = train_data.drop(columns=['Model.Suffix_AutoClave', 'Model.Suffix_Fill1', 'Model.Suffix_Fill2'])\n",
    "test_data = test_data.drop(columns=['Model.Suffix_AutoClave', 'Model.Suffix_Fill1', 'Model.Suffix_Fill2'])"
   ]
  },
  {
   "cell_type": "code",
   "execution_count": 147,
   "id": "f60af0dc",
   "metadata": {},
   "outputs": [
    {
     "name": "stdout",
     "output_type": "stream",
     "text": [
      "\n",
      "model_suffix별 target 비율 및 갯수\n",
      "\n",
      "             AbNormal    Normal  AbNormal  Normal  Total\n",
      "variable                                                \n",
      "AJX75334501  0.056712  0.943288      1918   31902  33820\n",
      "AJX75334502  0.067847  0.932153       230    3160   3390\n",
      "AJX75334503  0.271605  0.728395        44     118    162\n",
      "AJX75334505  0.049336  0.950664       130    2505   2635\n",
      "AJX75334506  0.062016  0.937984         8     121    129\n",
      "AJX75334507  0.058065  0.941935        18     292    310\n",
      "AJX75334508  0.033333  0.966667         2      58     60\n"
     ]
    }
   ],
   "source": [
    "value_counts_ratio(train_data, 'model_suffix')"
   ]
  },
  {
   "cell_type": "markdown",
   "id": "d764d197",
   "metadata": {},
   "source": [
    "Workorder"
   ]
  },
  {
   "cell_type": "code",
   "execution_count": 82,
   "id": "21de2682",
   "metadata": {},
   "outputs": [
    {
     "name": "stdout",
     "output_type": "stream",
     "text": [
      "< Workorder 포함 변수 >\n",
      "Workorder_Dam\n",
      "Workorder_AutoClave\n",
      "Workorder_Fill1\n",
      "Workorder_Fill2\n"
     ]
    }
   ],
   "source": [
    "# 'Workorder'를 포함하는 열 이름 필터링\n",
    "filter_col = train_data.filter(like='Workorder').columns\n",
    "\n",
    "print(\"< Workorder 포함 변수 >\")\n",
    "for col in filter_col:\n",
    "    print(col)"
   ]
  },
  {
   "cell_type": "code",
   "execution_count": 83,
   "id": "d44b45c0",
   "metadata": {},
   "outputs": [
    {
     "name": "stdout",
     "output_type": "stream",
     "text": [
      "\n",
      "Workorder_Dam별 target 비율 및 갯수\n",
      "\n",
      "            AbNormal    Normal  AbNormal  Normal  Total\n",
      "variable                                               \n",
      "3F1X5847-2  0.113208  0.886792      12.0    94.0    106\n",
      "3F1X9643-1  0.047619  0.952381       7.0   140.0    147\n",
      "3F1X9644-1  0.101911  0.898089      16.0   141.0    157\n",
      "3F1X9648-1  0.062500  0.937500      10.0   150.0    160\n",
      "3F1X9648-2  0.055556  0.944444       1.0    17.0     18\n",
      "...              ...       ...       ...     ...    ...\n",
      "4F1XB043-1  0.037037  0.962963       1.0    26.0     27\n",
      "4F1XB596-1  0.020833  0.979167       3.0   141.0    144\n",
      "4F1XB738-1  0.000000  1.000000       0.0    18.0     18\n",
      "4F1XB758-1  0.025974  0.974026       2.0    75.0     77\n",
      "4F1XB758-2  0.222222  0.777778      10.0    35.0     45\n",
      "\n",
      "[663 rows x 5 columns]\n"
     ]
    }
   ],
   "source": [
    "value_counts_ratio(train_data, 'Workorder_Dam')"
   ]
  },
  {
   "cell_type": "code",
   "execution_count": 84,
   "id": "7ee56a2b",
   "metadata": {},
   "outputs": [
    {
     "name": "stdout",
     "output_type": "stream",
     "text": [
      "Grouped by: Workorder_Dam, Workorder_AutoClave, Workorder_Fill1, Workorder_Fill2\n",
      "\n",
      "                                                group  'AdNormal' count  \\\n",
      "0    (3F1X5847-2, 3F1X5847-2, 3F1X5847-2, 3F1X5847-2)                12   \n",
      "1    (3F1X9643-1, 3F1X9643-1, 3F1X9643-1, 3F1X9643-1)                 7   \n",
      "2    (3F1X9644-1, 3F1X9644-1, 3F1X9644-1, 3F1X9644-1)                16   \n",
      "3    (3F1X9648-1, 3F1X9648-1, 3F1X9648-1, 3F1X9648-1)                10   \n",
      "4    (3F1X9648-2, 3F1X9648-2, 3F1X9648-2, 3F1X9648-2)                 1   \n",
      "..                                                ...               ...   \n",
      "658  (4F1XB043-1, 4F1XB043-1, 4F1XB043-1, 4F1XB043-1)                 1   \n",
      "659  (4F1XB596-1, 4F1XB596-1, 4F1XB596-1, 4F1XB596-1)                 3   \n",
      "660  (4F1XB738-1, 4F1XB738-1, 4F1XB738-1, 4F1XB738-1)                 0   \n",
      "661  (4F1XB758-1, 4F1XB758-1, 4F1XB758-1, 4F1XB758-1)                 2   \n",
      "662  (4F1XB758-2, 4F1XB758-2, 4F1XB758-2, 4F1XB758-2)                10   \n",
      "\n",
      "        ratio  Total  \n",
      "0    0.113208    106  \n",
      "1    0.047619    147  \n",
      "2    0.101911    157  \n",
      "3    0.062500    160  \n",
      "4    0.055556     18  \n",
      "..        ...    ...  \n",
      "658  0.037037     27  \n",
      "659  0.020833    144  \n",
      "660  0.000000     18  \n",
      "661  0.025974     77  \n",
      "662  0.222222     45  \n",
      "\n",
      "[663 rows x 4 columns]\n"
     ]
    }
   ],
   "source": [
    "summarize_group(train_data, ['Workorder_Dam'\n",
    "                             , 'Workorder_AutoClave'\n",
    "                             , 'Workorder_Fill1'\n",
    "                             , 'Workorder_Fill2'])"
   ]
  },
  {
   "cell_type": "markdown",
   "id": "24ae445a",
   "metadata": {},
   "source": [
    "Workorder_Dam 하나만 보았을때랑 Workorder 시리즈 여러개 보았을때 고윳값 갯수(663) 동일"
   ]
  },
  {
   "cell_type": "code",
   "execution_count": 85,
   "id": "4d83525c-04c8-4dd7-a62c-28c70c182f26",
   "metadata": {},
   "outputs": [],
   "source": [
    "### workorder\n",
    "# Workorder -뒤의 번호 구분을 제거\n",
    "train_data['cleaned_workorder'] = train_data['Workorder_Dam'].str.split('-').str[0]\n",
    "test_data['cleaned_workorder'] = test_data['Workorder_Dam'].str.split('-').str[0]\n",
    "\n",
    "# 필요없는 변수 삭제\n",
    "train_data = train_data.drop(columns=['Workorder_Dam', 'Workorder_AutoClave', 'Workorder_Fill1', 'Workorder_Fill2'])\n",
    "test_data = test_data.drop(columns=['Workorder_Dam', 'Workorder_AutoClave', 'Workorder_Fill1', 'Workorder_Fill2'])"
   ]
  },
  {
   "cell_type": "code",
   "execution_count": 86,
   "id": "0e0bf47d",
   "metadata": {},
   "outputs": [
    {
     "name": "stdout",
     "output_type": "stream",
     "text": [
      "\n",
      "cleaned_workorder별 target 비율 및 갯수\n",
      "\n",
      "          AbNormal    Normal  AbNormal  Normal  Total\n",
      "variable                                             \n",
      "3F1X5847  0.113208  0.886792      12.0    94.0    106\n",
      "3F1X9643  0.047619  0.952381       7.0   140.0    147\n",
      "3F1X9644  0.101911  0.898089      16.0   141.0    157\n",
      "3F1X9648  0.061798  0.938202      11.0   167.0    178\n",
      "3F1XA350  0.070588  0.929412      12.0   158.0    170\n",
      "...            ...       ...       ...     ...    ...\n",
      "4F1XA938  0.158416  0.841584      16.0    85.0    101\n",
      "4F1XB043  0.037037  0.962963       1.0    26.0     27\n",
      "4F1XB596  0.020833  0.979167       3.0   141.0    144\n",
      "4F1XB738  0.000000  1.000000       0.0    18.0     18\n",
      "4F1XB758  0.098361  0.901639      12.0   110.0    122\n",
      "\n",
      "[568 rows x 5 columns]\n"
     ]
    }
   ],
   "source": [
    "value_counts_ratio(train_data, 'cleaned_workorder')"
   ]
  },
  {
   "cell_type": "markdown",
   "id": "cb9c6ca4-45bd-4c39-8af6-7fd0d61e103c",
   "metadata": {},
   "source": [
    "### 3. 공통 변수 (dam, fill1, fill2)"
   ]
  },
  {
   "cell_type": "markdown",
   "id": "e4651eb9-eb1a-44a4-8979-2a38a8b9c532",
   "metadata": {},
   "source": [
    "- workmode"
   ]
  },
  {
   "cell_type": "code",
   "execution_count": 87,
   "id": "72c7aec6",
   "metadata": {},
   "outputs": [
    {
     "name": "stdout",
     "output_type": "stream",
     "text": [
      "< WorkMode 포함 변수 >\n",
      "WorkMode Collect Result_Dam\n",
      "WorkMode Collect Result_Fill1\n",
      "WorkMode Collect Result_Fill2\n"
     ]
    }
   ],
   "source": [
    "# 'WorkMode'를 포함하는 열 이름 필터링\n",
    "filter_col = train_data.filter(like='WorkMode').columns\n",
    "\n",
    "print(\"< WorkMode 포함 변수 >\")\n",
    "for col in filter_col:\n",
    "    print(col)"
   ]
  },
  {
   "cell_type": "code",
   "execution_count": 88,
   "id": "c881bd34",
   "metadata": {},
   "outputs": [
    {
     "name": "stdout",
     "output_type": "stream",
     "text": [
      "Grouped by: WorkMode Collect Result_Dam, WorkMode Collect Result_Fill1, WorkMode Collect Result_Fill2\n",
      "\n",
      "             group  'AdNormal' count     ratio  Total\n",
      "0  (7.0, 7.0, 0.0)              1206  0.073326  16447\n"
     ]
    }
   ],
   "source": [
    "summarize_group(train_data, ['WorkMode Collect Result_Dam'\n",
    "                             , 'WorkMode Collect Result_Fill1'\n",
    "                             , 'WorkMode Collect Result_Fill2'])"
   ]
  },
  {
   "cell_type": "code",
   "execution_count": 89,
   "id": "6a33f774-81d7-4716-9176-79eaee466ab1",
   "metadata": {},
   "outputs": [],
   "source": [
    "# WorkMode Collect Result_Dam의 이름을 WorkMode Collect Result로 변경\n",
    "train_data = train_data.rename(columns={'WorkMode Collect Result_Dam': 'WorkMode Collect Result'})\n",
    "test_data = test_data.rename(columns={'WorkMode Collect Result_Dam': 'WorkMode Collect Result'})\n",
    "\n",
    "# WorkMode Collect Result_Fill1, WorkMode Collect Result_Fill2 열 드롭\n",
    "train_data = train_data.drop(columns=['WorkMode Collect Result_Fill1', 'WorkMode Collect Result_Fill2'])\n",
    "test_data = test_data.drop(columns=['WorkMode Collect Result_Fill1', 'WorkMode Collect Result_Fill2'])"
   ]
  },
  {
   "cell_type": "code",
   "execution_count": 90,
   "id": "51061429",
   "metadata": {},
   "outputs": [
    {
     "name": "stdout",
     "output_type": "stream",
     "text": [
      "\n",
      "WorkMode Collect Result별 target 비율 및 갯수\n",
      "\n",
      "          AbNormal    Normal  AbNormal  Normal  Total\n",
      "variable                                             \n",
      "7.0       0.073326  0.926674      1206   15241  16447\n"
     ]
    }
   ],
   "source": [
    "value_counts_ratio(train_data, 'WorkMode Collect Result')"
   ]
  },
  {
   "cell_type": "code",
   "execution_count": 91,
   "id": "58781314-726c-42d1-a34f-cc12ce092852",
   "metadata": {},
   "outputs": [],
   "source": [
    "# WorkMode Collect Result 열의 값이 7인 행을 1로 변경\n",
    "train_data['WorkMode Collect Result'] = train_data['WorkMode Collect Result'].replace(7, 1)\n",
    "test_data['WorkMode Collect Result'] = test_data['WorkMode Collect Result'].replace(7, 1)\n",
    "\n",
    "# WorkMode Collect Result 열의 결측값을 0으로 채움\n",
    "train_data['WorkMode Collect Result'] = train_data['WorkMode Collect Result'].fillna(0)\n",
    "test_data['WorkMode Collect Result'] = test_data['WorkMode Collect Result'].fillna(0)"
   ]
  },
  {
   "cell_type": "code",
   "execution_count": 92,
   "id": "6fe91d55",
   "metadata": {},
   "outputs": [
    {
     "name": "stdout",
     "output_type": "stream",
     "text": [
      "\n",
      "WorkMode Collect Result별 target 비율 및 갯수\n",
      "\n",
      "          AbNormal    Normal  AbNormal  Normal  Total\n",
      "variable                                             \n",
      "0.0       0.047550  0.952450      1144   22915  24059\n",
      "1.0       0.073326  0.926674      1206   15241  16447\n"
     ]
    }
   ],
   "source": [
    "value_counts_ratio(train_data, 'WorkMode Collect Result')"
   ]
  },
  {
   "cell_type": "markdown",
   "id": "04f80682-b12e-4f8a-8ff8-39423a35e2d7",
   "metadata": {},
   "source": [
    "- equipment\n",
    "<br>(dispenser1 & dispenser2 변수를 만들 경우 다른 변수들에 의해 이미 설명이 되는 변수라 상관계수가 너무 높아서 제거하게 됨. 따라서 equipment가 같은지만 판단하는 파생변수 사용)"
   ]
  },
  {
   "cell_type": "code",
   "execution_count": 93,
   "id": "e26153f9",
   "metadata": {},
   "outputs": [
    {
     "name": "stdout",
     "output_type": "stream",
     "text": [
      "< Equipment 포함 변수 >\n",
      "Equipment_Dam\n",
      "Equipment_AutoClave\n",
      "Equipment_Fill1\n",
      "Equipment_Fill2\n"
     ]
    }
   ],
   "source": [
    "# 'Equipment'를 포함하는 열 이름 필터링\n",
    "filter_col = train_data.filter(like='Equipment').columns\n",
    "\n",
    "print(\"< Equipment 포함 변수 >\")\n",
    "for col in filter_col:\n",
    "    print(col)"
   ]
  },
  {
   "cell_type": "code",
   "execution_count": 94,
   "id": "32edbcdb",
   "metadata": {},
   "outputs": [
    {
     "name": "stdout",
     "output_type": "stream",
     "text": [
      "Grouped by: Equipment_Dam, Equipment_AutoClave, Equipment_Fill1, Equipment_Fill2\n",
      "\n",
      "                                               group  'AdNormal' count  \\\n",
      "0  (Dam dispenser #1, Auto Clave Out, Fill1 dispe...              1466   \n",
      "1  (Dam dispenser #1, Auto Clave Out, Fill1 dispe...                 6   \n",
      "2  (Dam dispenser #1, Auto Clave Out, Fill1 dispe...                13   \n",
      "3  (Dam dispenser #2, Auto Clave Out, Fill1 dispe...                10   \n",
      "4  (Dam dispenser #2, Auto Clave Out, Fill1 dispe...                 5   \n",
      "5  (Dam dispenser #2, Auto Clave Out, Fill1 dispe...               850   \n",
      "\n",
      "      ratio  Total  \n",
      "0  0.058614  25011  \n",
      "1  1.000000      6  \n",
      "2  1.000000     13  \n",
      "3  1.000000     10  \n",
      "4  1.000000      5  \n",
      "5  0.054977  15461  \n"
     ]
    }
   ],
   "source": [
    "summarize_group(train_data, ['Equipment_Dam'\n",
    "                             , 'Equipment_AutoClave'\n",
    "                             , 'Equipment_Fill1'\n",
    "                             , 'Equipment_Fill2'])"
   ]
  },
  {
   "cell_type": "markdown",
   "id": "27af1a1e",
   "metadata": {},
   "source": [
    "#1 #2가 서로 다른 dispenser인 경우 무조건 불량(AdNormal)발생"
   ]
  },
  {
   "cell_type": "code",
   "execution_count": 95,
   "id": "8140b28a-2781-4356-9fe5-ac8d50beb48a",
   "metadata": {},
   "outputs": [],
   "source": [
    "# # Equipment로 시작하는 열 필터링\n",
    "# Equipment_col = train_data.filter(like='Equipment').columns\n",
    "# Equipment_col2 = test_data.filter(like='Equipment').columns\n",
    "\n",
    "# new_train = train_data.filter(items=Equipment_col)\n",
    "# new_test = test_data.filter(items=Equipment_col2)\n",
    "\n",
    "# # Equipment_same_num 파생변수 생성\n",
    "# def determine_equipment_same_num(row):\n",
    "#     if (row['Equipment_Dam'] == 'Dam dispenser #1' and row['Equipment_AutoClave'] == 'Auto Clave Out' and \n",
    "#         row['Equipment_Fill1'] == 'Fill1 dispenser #1' and row['Equipment_Fill2'] == 'Fill2 dispenser #1') or \\\n",
    "#        (row['Equipment_Dam'] == 'Dam dispenser #2' and row['Equipment_AutoClave'] == 'Auto Clave Out' and \n",
    "#         row['Equipment_Fill1'] == 'Fill1 dispenser #2' and row['Equipment_Fill2'] == 'Fill2 dispenser #2'):\n",
    "#         return 1\n",
    "#     else:\n",
    "#         return 0\n",
    "\n",
    "# train_data['Equipment_same_num'] = new_train.apply(determine_equipment_same_num, axis=1)\n",
    "# test_data['Equipment_same_num'] = new_test.apply(determine_equipment_same_num, axis=1)\n",
    "\n",
    "# train_data = train_data.drop(columns=['Equipment_Dam', 'Equipment_AutoClave', 'Equipment_Fill1', 'Equipment_Fill2'])\n",
    "# test_data = test_data.drop(columns=['Equipment_Dam', 'Equipment_AutoClave', 'Equipment_Fill1', 'Equipment_Fill2'])"
   ]
  },
  {
   "cell_type": "code",
   "execution_count": 96,
   "id": "7fa02869",
   "metadata": {},
   "outputs": [],
   "source": [
    "# Equipment로 시작하는 열 필터링\n",
    "Equipment_col = train_data.filter(like='Equipment').columns\n",
    "Equipment_col2 = test_data.filter(like='Equipment').columns\n",
    "\n",
    "new_train = train_data.filter(items=Equipment_col)\n",
    "new_test = test_data.filter(items=Equipment_col2)\n",
    "\n",
    "# Equipment_num 파생변수 생성\n",
    "def determine_equipment_num(row):\n",
    "    if (row['Equipment_Dam'] == 'Dam dispenser #1' and row['Equipment_AutoClave'] == 'Auto Clave Out' and \n",
    "        row['Equipment_Fill1'] == 'Fill1 dispenser #1' and row['Equipment_Fill2'] == 'Fill2 dispenser #1'):\n",
    "        return '#1'\n",
    "    elif (row['Equipment_Dam'] == 'Dam dispenser #2' and row['Equipment_AutoClave'] == 'Auto Clave Out' and \n",
    "          row['Equipment_Fill1'] == 'Fill1 dispenser #2' and row['Equipment_Fill2'] == 'Fill2 dispenser #2'):\n",
    "        return '#2'\n",
    "    else:\n",
    "        return 'diff'\n",
    "\n",
    "train_data['Equipment_num'] = new_train.apply(determine_equipment_num, axis=1)\n",
    "test_data['Equipment_num'] = new_test.apply(determine_equipment_num, axis=1)\n",
    "\n",
    "# 불필요한 열 삭제\n",
    "train_data = train_data.drop(columns=['Equipment_Dam', 'Equipment_AutoClave', 'Equipment_Fill1', 'Equipment_Fill2'])\n",
    "test_data = test_data.drop(columns=['Equipment_Dam', 'Equipment_AutoClave', 'Equipment_Fill1', 'Equipment_Fill2'])"
   ]
  },
  {
   "cell_type": "markdown",
   "id": "fd07a545-9df9-488c-a27a-4104a8336fb0",
   "metadata": {},
   "source": [
    "- palletID"
   ]
  },
  {
   "cell_type": "code",
   "execution_count": 97,
   "id": "79c1e4ac",
   "metadata": {},
   "outputs": [
    {
     "name": "stdout",
     "output_type": "stream",
     "text": [
      "< PalletID 포함 변수 >\n",
      "PalletID Collect Result_Dam\n",
      "PalletID Collect Result_Fill1\n",
      "PalletID Collect Result_Fill2\n"
     ]
    }
   ],
   "source": [
    "# 'PalletID'를 포함하는 열 이름 필터링\n",
    "filter_col = train_data.filter(like='PalletID').columns\n",
    "\n",
    "print(\"< PalletID 포함 변수 >\")\n",
    "for col in filter_col:\n",
    "    print(col)"
   ]
  },
  {
   "cell_type": "code",
   "execution_count": 98,
   "id": "83c21cb7",
   "metadata": {},
   "outputs": [
    {
     "name": "stdout",
     "output_type": "stream",
     "text": [
      "Grouped by: PalletID Collect Result_Dam, PalletID Collect Result_Fill1, PalletID Collect Result_Fill2\n",
      "\n",
      "                 group  'AdNormal' count     ratio  Total\n",
      "0      (1.0, 1.0, 1.0)               162  0.051494   3146\n",
      "1      (1.0, 1.0, 4.0)                 1  1.000000      1\n",
      "2      (1.0, 1.0, 7.0)                 1  1.000000      1\n",
      "3      (1.0, 1.0, 9.0)                 1  1.000000      1\n",
      "4      (1.0, 2.0, 2.0)                 1  1.000000      1\n",
      "..                 ...               ...       ...    ...\n",
      "87  (16.0, 10.0, 10.0)                 1  1.000000      1\n",
      "88  (16.0, 15.0, 15.0)                 1  1.000000      1\n",
      "89   (16.0, 16.0, 8.0)                 1  1.000000      1\n",
      "90  (16.0, 16.0, 11.0)                 1  1.000000      1\n",
      "91  (16.0, 16.0, 16.0)               110  0.062007   1774\n",
      "\n",
      "[92 rows x 4 columns]\n"
     ]
    }
   ],
   "source": [
    "summarize_group(train_data, ['PalletID Collect Result_Dam'\n",
    "                             , 'PalletID Collect Result_Fill1'\n",
    "                             , 'PalletID Collect Result_Fill2'])"
   ]
  },
  {
   "cell_type": "code",
   "execution_count": 99,
   "id": "d399216f-b736-4190-be4b-3108366606c3",
   "metadata": {},
   "outputs": [],
   "source": [
    "# 세 변수의 값이 동일하면 해당 값을 가져가고, 하나라도 일치하지 않으면 diff의 값을 가지는 파생 변수 생성 함수\n",
    "def create_palletid_collect_result(df):\n",
    "    df['PalletID_Collect_Result'] = df.apply(\n",
    "        lambda row: row['PalletID Collect Result_Dam'] \n",
    "                    if (row['PalletID Collect Result_Dam'] == row['PalletID Collect Result_Fill1'] == row['PalletID Collect Result_Fill2']) \n",
    "                    else 'diff', \n",
    "        axis=1\n",
    "    )\n",
    "\n",
    "# 함수 적용\n",
    "create_palletid_collect_result(train_data)\n",
    "create_palletid_collect_result(test_data)"
   ]
  },
  {
   "cell_type": "code",
   "execution_count": 100,
   "id": "5f91f21e-89f3-4b69-afc1-6d5ab6d820f5",
   "metadata": {},
   "outputs": [],
   "source": [
    "# 제거할 변수 목록\n",
    "columns_to_drop = [\n",
    "    'PalletID Collect Result_Dam',\n",
    "    'PalletID Collect Result_Fill1',\n",
    "    'PalletID Collect Result_Fill2'\n",
    "]\n",
    "\n",
    "# 변수 제거\n",
    "train_data.drop(columns=columns_to_drop, inplace=True)\n",
    "test_data.drop(columns=columns_to_drop, inplace=True)"
   ]
  },
  {
   "cell_type": "code",
   "execution_count": 101,
   "id": "bc5ebd5e",
   "metadata": {},
   "outputs": [
    {
     "name": "stdout",
     "output_type": "stream",
     "text": [
      "\n",
      "PalletID_Collect_Result별 target 비율 및 갯수\n",
      "\n",
      "          AbNormal    Normal  AbNormal  Normal  Total\n",
      "variable                                             \n",
      "1.0       0.051494  0.948506     162.0  2984.0   3146\n",
      "2.0       0.066859  0.933141     209.0  2917.0   3126\n",
      "3.0       0.063171  0.936829     200.0  2966.0   3166\n",
      "4.0       0.053875  0.946125     171.0  3003.0   3174\n",
      "5.0       0.054115  0.945885     167.0  2919.0   3086\n",
      "6.0       0.058125  0.941875     181.0  2933.0   3114\n",
      "7.0       0.052922  0.947078     163.0  2917.0   3080\n",
      "8.0       0.057412  0.942588     177.0  2906.0   3083\n",
      "9.0       0.045929  0.954071      88.0  1828.0   1916\n",
      "10.0      0.051117  0.948883     103.0  1912.0   2015\n",
      "11.0      0.057158  0.942842     109.0  1798.0   1907\n",
      "12.0      0.042394  0.957606      85.0  1920.0   2005\n",
      "13.0      0.068766  0.931234     131.0  1774.0   1905\n",
      "14.0      0.048485  0.951515      96.0  1884.0   1980\n",
      "15.0      0.059096  0.940904     115.0  1831.0   1946\n",
      "16.0      0.062007  0.937993     110.0  1664.0   1774\n",
      "diff      1.000000  0.000000      83.0     0.0     83\n"
     ]
    }
   ],
   "source": [
    "value_counts_ratio(train_data, 'PalletID_Collect_Result')"
   ]
  },
  {
   "cell_type": "markdown",
   "id": "f1b5310e-3d7e-4765-b902-91172707ff5a",
   "metadata": {},
   "source": [
    "- production Qty"
   ]
  },
  {
   "cell_type": "code",
   "execution_count": 102,
   "id": "c005e53b",
   "metadata": {},
   "outputs": [
    {
     "name": "stdout",
     "output_type": "stream",
     "text": [
      "< Production Qty 포함 변수 >\n",
      "Production Qty Collect Result_Dam\n",
      "Production Qty Collect Result_Fill1\n",
      "Production Qty Collect Result_Fill2\n"
     ]
    }
   ],
   "source": [
    "# 'Production Qty'를 포함하는 열 이름 필터링\n",
    "filter_col = train_data.filter(like='Production Qty').columns\n",
    "\n",
    "print(\"< Production Qty 포함 변수 >\")\n",
    "for col in filter_col:\n",
    "    print(col)"
   ]
  },
  {
   "cell_type": "code",
   "execution_count": 103,
   "id": "b18eba32",
   "metadata": {},
   "outputs": [
    {
     "name": "stdout",
     "output_type": "stream",
     "text": [
      "Grouped by: Production Qty Collect Result_Dam, Production Qty Collect Result_Fill1, Production Qty Collect Result_Fill2\n",
      "\n",
      "               group  'AdNormal' count     ratio  Total\n",
      "0          (0, 0, 0)                13  0.141304     92\n",
      "1         (0, 0, 12)                 1  1.000000      1\n",
      "2        (0, 0, 300)                 1  1.000000      1\n",
      "3          (0, 2, 2)                 1  1.000000      1\n",
      "4        (0, 19, 19)                 1  1.000000      1\n",
      "..               ...               ...       ...    ...\n",
      "695  (604, 604, 604)                 0  0.000000      1\n",
      "696  (605, 605, 605)                 0  0.000000      1\n",
      "697  (606, 606, 606)                 0  0.000000      1\n",
      "698  (607, 607, 607)                 0  0.000000      1\n",
      "699  (608, 608, 608)                 0  0.000000      1\n",
      "\n",
      "[700 rows x 4 columns]\n"
     ]
    }
   ],
   "source": [
    "summarize_group(train_data, ['Production Qty Collect Result_Dam'\n",
    "                                , 'Production Qty Collect Result_Fill1'\n",
    "                                , 'Production Qty Collect Result_Fill2'])"
   ]
  },
  {
   "cell_type": "code",
   "execution_count": 111,
   "id": "c478d82f-a486-471a-a12e-3ef6e9bc875e",
   "metadata": {},
   "outputs": [],
   "source": [
    "# 세 변수의 값이 동일하면 해당 값을 가져가고, 하나라도 일치하지 않으면 diff의 값을 가지는 파생 변수 생성 함수\n",
    "def create_palletid_collect_result(df):\n",
    "    df['Production_Qty_Collect_Result'] = df.apply(\n",
    "        lambda row: row['Production Qty Collect Result_Dam']\n",
    "                    if (row['Production Qty Collect Result_Dam'] == row['Production Qty Collect Result_Fill1'] == row['Production Qty Collect Result_Fill2']) \n",
    "                    else -1, \n",
    "        axis=1\n",
    "    )\n",
    "\n",
    "# 함수 적용\n",
    "create_palletid_collect_result(train_data)\n",
    "create_palletid_collect_result(test_data)"
   ]
  },
  {
   "cell_type": "code",
   "execution_count": 112,
   "id": "adc509f3",
   "metadata": {},
   "outputs": [
    {
     "name": "stdout",
     "output_type": "stream",
     "text": [
      "\n",
      "Production_Qty_Collect_Result별 target 비율 및 갯수\n",
      "\n",
      "          AbNormal    Normal  AbNormal  Normal  Total\n",
      "variable                                             \n",
      "-1        1.000000  0.000000      93.0     0.0     93\n",
      " 0        0.141304  0.858696      13.0    79.0     92\n",
      " 1        0.132075  0.867925      14.0    92.0    106\n",
      " 2        0.059829  0.940171       7.0   110.0    117\n",
      " 3        0.076271  0.923729       9.0   109.0    118\n",
      "...            ...       ...       ...     ...    ...\n",
      " 604      0.000000  1.000000       0.0     1.0      1\n",
      " 605      0.000000  1.000000       0.0     1.0      1\n",
      " 606      0.000000  1.000000       0.0     1.0      1\n",
      " 607      0.000000  1.000000       0.0     1.0      1\n",
      " 608      0.000000  1.000000       0.0     1.0      1\n",
      "\n",
      "[608 rows x 5 columns]\n"
     ]
    }
   ],
   "source": [
    "value_counts_ratio(train_data, 'Production_Qty_Collect_Result')                 "
   ]
  },
  {
   "cell_type": "code",
   "execution_count": 113,
   "id": "f08badb4",
   "metadata": {},
   "outputs": [
    {
     "name": "stdout",
     "output_type": "stream",
     "text": [
      "<class 'pandas.core.frame.DataFrame'>\n",
      "RangeIndex: 40506 entries, 0 to 40505\n",
      "Data columns (total 156 columns):\n",
      " #    Column                                                      Dtype  \n",
      "---   ------                                                      -----  \n",
      " 0    model_suffix                                                object \n",
      " 1    CURE END POSITION X Collect Result_Dam                      float64\n",
      " 2    CURE END POSITION Z Collect Result_Dam                      float64\n",
      " 3    CURE END POSITION Θ Collect Result_Dam                      int64  \n",
      " 4    CURE SPEED Collect Result_Dam                               int64  \n",
      " 5    CURE STANDBY POSITION X Collect Result_Dam                  int64  \n",
      " 6    CURE STANDBY POSITION Z Collect Result_Dam                  float64\n",
      " 7    CURE STANDBY POSITION Θ Collect Result_Dam                  int64  \n",
      " 8    CURE START POSITION X Collect Result_Dam                    int64  \n",
      " 9    CURE START POSITION Z Collect Result_Dam                    float64\n",
      " 10   CURE START POSITION Θ Collect Result_Dam                    int64  \n",
      " 11   DISCHARGED SPEED OF RESIN Collect Result_Dam                int64  \n",
      " 12   DISCHARGED TIME OF RESIN(Stage1) Collect Result_Dam         float64\n",
      " 13   DISCHARGED TIME OF RESIN(Stage2) Collect Result_Dam         float64\n",
      " 14   DISCHARGED TIME OF RESIN(Stage3) Collect Result_Dam         float64\n",
      " 15   Dispense Volume(Stage1) Collect Result_Dam                  float64\n",
      " 16   Dispense Volume(Stage2) Collect Result_Dam                  float64\n",
      " 17   Dispense Volume(Stage3) Collect Result_Dam                  float64\n",
      " 18   HEAD NORMAL COORDINATE X AXIS(Stage1) Collect Result_Dam    float64\n",
      " 19   HEAD NORMAL COORDINATE X AXIS(Stage1) Judge Value_Dam       object \n",
      " 20   HEAD NORMAL COORDINATE X AXIS(Stage2) Collect Result_Dam    float64\n",
      " 21   HEAD NORMAL COORDINATE X AXIS(Stage3) Collect Result_Dam    float64\n",
      " 22   HEAD NORMAL COORDINATE Y AXIS(Stage1) Collect Result_Dam    float64\n",
      " 23   HEAD NORMAL COORDINATE Y AXIS(Stage2) Collect Result_Dam    float64\n",
      " 24   HEAD NORMAL COORDINATE Y AXIS(Stage3) Collect Result_Dam    float64\n",
      " 25   HEAD NORMAL COORDINATE Z AXIS(Stage1) Collect Result_Dam    float64\n",
      " 26   HEAD NORMAL COORDINATE Z AXIS(Stage2) Collect Result_Dam    float64\n",
      " 27   HEAD NORMAL COORDINATE Z AXIS(Stage3) Collect Result_Dam    float64\n",
      " 28   HEAD Standby Position X Collect Result_Dam                  float64\n",
      " 29   HEAD Standby Position Y Collect Result_Dam                  int64  \n",
      " 30   HEAD Standby Position Z Collect Result_Dam                  float64\n",
      " 31   Head Clean Position X Collect Result_Dam                    float64\n",
      " 32   Head Clean Position Y Collect Result_Dam                    float64\n",
      " 33   Head Clean Position Z Collect Result_Dam                    float64\n",
      " 34   Head Purge Position X Collect Result_Dam                    float64\n",
      " 35   Head Purge Position Y Collect Result_Dam                    float64\n",
      " 36   Head Purge Position Z Collect Result_Dam                    float64\n",
      " 37   Head Zero Position X Collect Result_Dam                     float64\n",
      " 38   Head Zero Position Y Collect Result_Dam                     float64\n",
      " 39   Head Zero Position Z Collect Result_Dam                     float64\n",
      " 40   Machine Tact time Collect Result_Dam                        float64\n",
      " 41   Production Qty Collect Result_Dam                           int64  \n",
      " 42   Stage1 Circle1 Distance Speed Collect Result_Dam            int64  \n",
      " 43   Stage1 Circle2 Distance Speed Collect Result_Dam            int64  \n",
      " 44   Stage1 Circle3 Distance Speed Collect Result_Dam            int64  \n",
      " 45   Stage1 Circle4 Distance Speed Collect Result_Dam            int64  \n",
      " 46   Stage1 Line1 Distance Speed Collect Result_Dam              int64  \n",
      " 47   Stage1 Line2 Distance Speed Collect Result_Dam              int64  \n",
      " 48   Stage1 Line3 Distance Speed Collect Result_Dam              int64  \n",
      " 49   Stage1 Line4 Distance Speed Collect Result_Dam              int64  \n",
      " 50   Stage2 Circle1 Distance Speed Collect Result_Dam            int64  \n",
      " 51   Stage2 Circle2 Distance Speed Collect Result_Dam            int64  \n",
      " 52   Stage2 Circle3 Distance Speed Collect Result_Dam            int64  \n",
      " 53   Stage2 Circle4 Distance Speed Collect Result_Dam            int64  \n",
      " 54   Stage2 Line1 Distance Speed Collect Result_Dam              int64  \n",
      " 55   Stage2 Line2 Distance Speed Collect Result_Dam              int64  \n",
      " 56   Stage2 Line3 Distance Speed Collect Result_Dam              int64  \n",
      " 57   Stage2 Line4 Distance Speed Collect Result_Dam              int64  \n",
      " 58   Stage3 Circle1 Distance Speed Collect Result_Dam            int64  \n",
      " 59   Stage3 Circle2 Distance Speed Collect Result_Dam            int64  \n",
      " 60   Stage3 Circle3 Distance Speed Collect Result_Dam            int64  \n",
      " 61   Stage3 Circle4 Distance Speed Collect Result_Dam            int64  \n",
      " 62   Stage3 Line1 Distance Speed Collect Result_Dam              int64  \n",
      " 63   Stage3 Line2 Distance Speed Collect Result_Dam              int64  \n",
      " 64   Stage3 Line3 Distance Speed Collect Result_Dam              int64  \n",
      " 65   Stage3 Line4 Distance Speed Collect Result_Dam              int64  \n",
      " 66   THICKNESS 1 Collect Result_Dam                              float64\n",
      " 67   THICKNESS 2 Collect Result_Dam                              float64\n",
      " 68   THICKNESS 3 Collect Result_Dam                              float64\n",
      " 69   WorkMode Collect Result                                     float64\n",
      " 70   1st Pressure Collect Result_AutoClave                       float64\n",
      " 71   1st Pressure 1st Pressure Unit Time_AutoClave               int64  \n",
      " 72   1st Pressure Judge Value_AutoClave                          object \n",
      " 73   2nd Pressure Collect Result_AutoClave                       float64\n",
      " 74   2nd Pressure Unit Time_AutoClave                            int64  \n",
      " 75   2nd Pressure Judge Value_AutoClave                          object \n",
      " 76   3rd Pressure Collect Result_AutoClave                       float64\n",
      " 77   3rd Pressure Unit Time_AutoClave                            int64  \n",
      " 78   3rd Pressure Judge Value_AutoClave                          object \n",
      " 79   Chamber Temp. Collect Result_AutoClave                      int64  \n",
      " 80   Chamber Temp. Unit Time_AutoClave                           int64  \n",
      " 81   Chamber Temp. Judge Value_AutoClave                         object \n",
      " 82   GMES_ORIGIN_INSP_JUDGE_CODE Collect Result_AutoClave        object \n",
      " 83   GMES_ORIGIN_INSP_JUDGE_CODE Judge Value_AutoClave           object \n",
      " 84   DISCHARGED SPEED OF RESIN Collect Result_Fill1              float64\n",
      " 85   DISCHARGED TIME OF RESIN(Stage1) Collect Result_Fill1       float64\n",
      " 86   DISCHARGED TIME OF RESIN(Stage2) Collect Result_Fill1       float64\n",
      " 87   DISCHARGED TIME OF RESIN(Stage3) Collect Result_Fill1       float64\n",
      " 88   Dispense Volume(Stage1) Collect Result_Fill1                float64\n",
      " 89   Dispense Volume(Stage2) Collect Result_Fill1                float64\n",
      " 90   Dispense Volume(Stage3) Collect Result_Fill1                float64\n",
      " 91   HEAD NORMAL COORDINATE X AXIS(Stage1) Collect Result_Fill1  float64\n",
      " 92   HEAD NORMAL COORDINATE X AXIS(Stage1) Judge Value_Fill1     object \n",
      " 93   HEAD NORMAL COORDINATE X AXIS(Stage2) Collect Result_Fill1  float64\n",
      " 94   HEAD NORMAL COORDINATE X AXIS(Stage3) Collect Result_Fill1  float64\n",
      " 95   HEAD NORMAL COORDINATE Y AXIS(Stage1) Collect Result_Fill1  float64\n",
      " 96   HEAD NORMAL COORDINATE Y AXIS(Stage2) Collect Result_Fill1  float64\n",
      " 97   HEAD NORMAL COORDINATE Y AXIS(Stage3) Collect Result_Fill1  float64\n",
      " 98   HEAD NORMAL COORDINATE Z AXIS(Stage1) Collect Result_Fill1  float64\n",
      " 99   HEAD NORMAL COORDINATE Z AXIS(Stage2) Collect Result_Fill1  float64\n",
      " 100  HEAD NORMAL COORDINATE Z AXIS(Stage3) Collect Result_Fill1  float64\n",
      " 101  HEAD Standby Position X Collect Result_Fill1                float64\n",
      " 102  HEAD Standby Position Y Collect Result_Fill1                int64  \n",
      " 103  HEAD Standby Position Z Collect Result_Fill1                float64\n",
      " 104  Head Clean Position X Collect Result_Fill1                  float64\n",
      " 105  Head Clean Position Y Collect Result_Fill1                  float64\n",
      " 106  Head Clean Position Z Collect Result_Fill1                  float64\n",
      " 107  Head Purge Position X Collect Result_Fill1                  float64\n",
      " 108  Head Purge Position Y Collect Result_Fill1                  int64  \n",
      " 109  Head Purge Position Z Collect Result_Fill1                  float64\n",
      " 110  Machine Tact time Collect Result_Fill1                      float64\n",
      " 111  Production Qty Collect Result_Fill1                         int64  \n",
      " 112  CURE END POSITION X Collect Result_Fill2                    int64  \n",
      " 113  CURE END POSITION Z Collect Result_Fill2                    int64  \n",
      " 114  CURE END POSITION Θ Collect Result_Fill2                    int64  \n",
      " 115  CURE SPEED Collect Result_Fill2                             int64  \n",
      " 116  CURE STANDBY POSITION X Collect Result_Fill2                int64  \n",
      " 117  CURE STANDBY POSITION Z Collect Result_Fill2                int64  \n",
      " 118  CURE STANDBY POSITION Θ Collect Result_Fill2                int64  \n",
      " 119  CURE START POSITION X Collect Result_Fill2                  int64  \n",
      " 120  CURE START POSITION Z Collect Result_Fill2                  int64  \n",
      " 121  CURE START POSITION Θ Collect Result_Fill2                  int64  \n",
      " 122  DISCHARGED SPEED OF RESIN Collect Result_Fill2              int64  \n",
      " 123  DISCHARGED TIME OF RESIN(Stage1) Collect Result_Fill2       int64  \n",
      " 124  DISCHARGED TIME OF RESIN(Stage2) Collect Result_Fill2       float64\n",
      " 125  DISCHARGED TIME OF RESIN(Stage3) Collect Result_Fill2       int64  \n",
      " 126  Dispense Volume(Stage1) Collect Result_Fill2                int64  \n",
      " 127  Dispense Volume(Stage2) Collect Result_Fill2                float64\n",
      " 128  Dispense Volume(Stage3) Collect Result_Fill2                int64  \n",
      " 129  HEAD NORMAL COORDINATE X AXIS(Stage1) Collect Result_Fill2  float64\n",
      " 130  HEAD NORMAL COORDINATE X AXIS(Stage1) Judge Value_Fill2     object \n",
      " 131  HEAD NORMAL COORDINATE X AXIS(Stage2) Collect Result_Fill2  float64\n",
      " 132  HEAD NORMAL COORDINATE X AXIS(Stage3) Collect Result_Fill2  float64\n",
      " 133  HEAD NORMAL COORDINATE Y AXIS(Stage1) Collect Result_Fill2  float64\n",
      " 134  HEAD NORMAL COORDINATE Y AXIS(Stage2) Collect Result_Fill2  float64\n",
      " 135  HEAD NORMAL COORDINATE Y AXIS(Stage3) Collect Result_Fill2  float64\n",
      " 136  HEAD NORMAL COORDINATE Z AXIS(Stage1) Collect Result_Fill2  float64\n",
      " 137  HEAD NORMAL COORDINATE Z AXIS(Stage2) Collect Result_Fill2  float64\n",
      " 138  HEAD NORMAL COORDINATE Z AXIS(Stage3) Collect Result_Fill2  float64\n",
      " 139  HEAD Standby Position X Collect Result_Fill2                float64\n",
      " 140  HEAD Standby Position Y Collect Result_Fill2                int64  \n",
      " 141  HEAD Standby Position Z Collect Result_Fill2                int64  \n",
      " 142  Head Clean Position X Collect Result_Fill2                  int64  \n",
      " 143  Head Clean Position Y Collect Result_Fill2                  float64\n",
      " 144  Head Clean Position Z Collect Result_Fill2                  float64\n",
      " 145  Head Purge Position X Collect Result_Fill2                  float64\n",
      " 146  Head Purge Position Y Collect Result_Fill2                  int64  \n",
      " 147  Head Purge Position Z Collect Result_Fill2                  float64\n",
      " 148  Machine Tact time Collect Result_Fill2                      float64\n",
      " 149  Production Qty Collect Result_Fill2                         int64  \n",
      " 150  target                                                      object \n",
      " 151  Receip_No                                                   object \n",
      " 152  cleaned_workorder                                           object \n",
      " 153  Equipment_num                                               object \n",
      " 154  PalletID_Collect_Result                                     object \n",
      " 155  Production_Qty_Collect_Result                               int64  \n",
      "dtypes: float64(79), int64(62), object(15)\n",
      "memory usage: 48.2+ MB\n"
     ]
    }
   ],
   "source": [
    "train_data.info(verbose=True)"
   ]
  },
  {
   "cell_type": "code",
   "execution_count": 114,
   "id": "b48a2041",
   "metadata": {},
   "outputs": [],
   "source": [
    "for_check_boxplot_data = train_data.copy()\n",
    "for_check_boxplot_data['Production_Qty_Collect_Result'] = for_check_boxplot_data['Production_Qty_Collect_Result'].replace('diff', -1)"
   ]
  },
  {
   "cell_type": "code",
   "execution_count": 115,
   "id": "36552b05",
   "metadata": {},
   "outputs": [
    {
     "name": "stdout",
     "output_type": "stream",
     "text": [
      "{'Normal': 140, 'AbNormal': 5}\n"
     ]
    }
   ],
   "source": [
    "import pandas as pd\n",
    "\n",
    "# 데이터프레임 생성 (예시)\n",
    "# train = pd.DataFrame({'Production_Qty_Collect_Result': [...], 'Target': [...]})\n",
    "\n",
    "# 타겟 변수별로 이상치 갯수 세기\n",
    "def count_outliers_by_target(df, target_col, value_col):\n",
    "    outlier_counts = {}\n",
    "\n",
    "    # 타겟 변수의 고유값을 가져오기\n",
    "    targets = df[target_col].unique()\n",
    "    \n",
    "    for target in targets:\n",
    "        # 해당 타겟에 대한 데이터 필터링\n",
    "        target_data = df[df[target_col] == target]\n",
    "        \n",
    "        # Q1, Q3 계산\n",
    "        Q1 = target_data[value_col].quantile(0.25)\n",
    "        Q3 = target_data[value_col].quantile(0.75)\n",
    "        IQR = Q3 - Q1\n",
    "        \n",
    "        # 이상치 기준 설정\n",
    "        lower_bound = Q1 - 1.5 * IQR\n",
    "        upper_bound = Q3 + 1.5 * IQR\n",
    "        \n",
    "        # 이상치 갯수 세기\n",
    "        outliers_count = target_data[(target_data[value_col] < lower_bound) | \n",
    "                                     (target_data[value_col] > upper_bound)].shape[0]\n",
    "        \n",
    "        # 결과 저장\n",
    "        outlier_counts[target] = outliers_count\n",
    "\n",
    "    return outlier_counts\n",
    "\n",
    "# 함수 호출\n",
    "outlier_counts = count_outliers_by_target(train_data, 'target', 'Production_Qty_Collect_Result')\n",
    "\n",
    "# 결과 출력\n",
    "print(outlier_counts)"
   ]
  },
  {
   "cell_type": "code",
   "execution_count": 106,
   "id": "453158fe",
   "metadata": {},
   "outputs": [
    {
     "data": {
      "image/png": "[encoded data removed]",
      "text/plain": [
       "<Figure size 1000x600 with 1 Axes>"
      ]
     },
     "metadata": {},
     "output_type": "display_data"
    }
   ],
   "source": [
    "plot_ratio_boxplot(for_check_boxplot_data, 'Production_Qty_Collect_Result')"
   ]
  },
  {
   "cell_type": "markdown",
   "id": "0ab11f15",
   "metadata": {},
   "source": [
    "분포 차이 x"
   ]
  },
  {
   "cell_type": "code",
   "execution_count": 229,
   "id": "bd7b99c2-4d0a-40cc-8ec4-6a31b2862bd9",
   "metadata": {},
   "outputs": [],
   "source": [
    "# 제거할 변수 목록\n",
    "columns_to_drop = [\n",
    "    'Production Qty Collect Result_Dam',\n",
    "    'Production Qty Collect Result_Fill1',\n",
    "    'Production Qty Collect Result_Fill2'\n",
    "]\n",
    "\n",
    "# 변수 제거\n",
    "train_data.drop(columns=columns_to_drop, inplace=True)\n",
    "test_data.drop(columns=columns_to_drop, inplace=True)"
   ]
  },
  {
   "cell_type": "code",
   "execution_count": 230,
   "id": "222e8689",
   "metadata": {},
   "outputs": [
    {
     "name": "stdout",
     "output_type": "stream",
     "text": [
      "<class 'pandas.core.frame.DataFrame'>\n",
      "RangeIndex: 40506 entries, 0 to 40505\n",
      "Columns: 153 entries, model_suffix to Production_Qty_Collect_Result\n",
      "dtypes: float64(79), int64(58), object(16)\n",
      "memory usage: 47.3+ MB\n"
     ]
    }
   ],
   "source": [
    "train_data.info()"
   ]
  },
  {
   "cell_type": "code",
   "execution_count": 231,
   "id": "9d58b1d5",
   "metadata": {},
   "outputs": [
    {
     "name": "stdout",
     "output_type": "stream",
     "text": [
      "<class 'pandas.core.frame.DataFrame'>\n",
      "RangeIndex: 17361 entries, 0 to 17360\n",
      "Columns: 154 entries, Set ID to Production_Qty_Collect_Result\n",
      "dtypes: float64(80), int64(58), object(16)\n",
      "memory usage: 20.4+ MB\n"
     ]
    }
   ],
   "source": [
    "test_data.info()"
   ]
  },
  {
   "cell_type": "markdown",
   "id": "de023c44-9098-4852-8650-f30408ded1dd",
   "metadata": {},
   "source": [
    "### 4. CURE 변수\n",
    "- dam -> distance 파생변수 (standby는 단일값, start와 end는 값은 여러개지만 distance 파생변수를 만들었을 때 더 의미있었음)\n",
    "- fill2 -> 변수값 범주화 (start, end, standby를 각각 범주화했을 때가 합쳐서 distance 만들었을 때보다 더 의미있었음)"
   ]
  },
  {
   "cell_type": "code",
   "execution_count": 232,
   "id": "43607467",
   "metadata": {},
   "outputs": [
    {
     "data": {
      "text/plain": [
       "Index(['model_suffix', 'CURE END POSITION X Collect Result_Dam',\n",
       "       'CURE END POSITION Z Collect Result_Dam',\n",
       "       'CURE END POSITION Θ Collect Result_Dam',\n",
       "       'CURE SPEED Collect Result_Dam',\n",
       "       'CURE STANDBY POSITION X Collect Result_Dam',\n",
       "       'CURE STANDBY POSITION Z Collect Result_Dam',\n",
       "       'CURE STANDBY POSITION Θ Collect Result_Dam',\n",
       "       'CURE START POSITION X Collect Result_Dam',\n",
       "       'CURE START POSITION Z Collect Result_Dam',\n",
       "       ...\n",
       "       'Head Purge Position X Collect Result_Fill2',\n",
       "       'Head Purge Position Y Collect Result_Fill2',\n",
       "       'Head Purge Position Z Collect Result_Fill2',\n",
       "       'Machine Tact time Collect Result_Fill2', 'target', 'Receip_No',\n",
       "       'cleaned_workorder', 'Equipment_num', 'PalletID_Collect_Result',\n",
       "       'Production_Qty_Collect_Result'],\n",
       "      dtype='object', length=153)"
      ]
     },
     "execution_count": 232,
     "metadata": {},
     "output_type": "execute_result"
    }
   ],
   "source": [
    "train_data.columns"
   ]
  },
  {
   "cell_type": "code",
   "execution_count": 233,
   "id": "9978965b",
   "metadata": {},
   "outputs": [
    {
     "name": "stdout",
     "output_type": "stream",
     "text": [
      "Grouped by: Equipment_num, CURE START POSITION X Collect Result_Dam, CURE END POSITION X Collect Result_Dam, CURE END POSITION Z Collect Result_Dam\n",
      "\n",
      "                       group  'AdNormal' count     ratio  Total\n",
      "0     (#1, 1030, 240.0, 2.5)              1466  0.058614  25011\n",
      "1    (#2, 280, 1000.0, 12.5)               850  0.054977  15461\n",
      "2  (diff, 280, 1000.0, 12.5)                15  1.000000     15\n",
      "3   (diff, 1030, 240.0, 2.5)                19  1.000000     19\n"
     ]
    }
   ],
   "source": [
    "summarize_group(train_data, ['Equipment_num'\n",
    "                             , 'CURE START POSITION X Collect Result_Dam'\n",
    "                             , 'CURE END POSITION X Collect Result_Dam'\n",
    "                             , 'CURE END POSITION Z Collect Result_Dam'])"
   ]
  },
  {
   "cell_type": "code",
   "execution_count": 234,
   "id": "9ec88825-bef2-443c-8722-6c3f3867a606",
   "metadata": {},
   "outputs": [],
   "source": [
    "### dam\n",
    "# 시작 위치와 끝 위치 열 이름\n",
    "start_x_col = 'CURE START POSITION X Collect Result_Dam'\n",
    "start_z_col = 33.5\n",
    "end_x_col = 'CURE END POSITION X Collect Result_Dam'\n",
    "end_z_col = 'CURE END POSITION Z Collect Result_Dam'\n",
    "\n",
    "# 시작 위치와 끝 위치 사이의 거리 계산\n",
    "train_data['CURE_DISTANCE_Dam'] = np.sqrt(\n",
    "    (train_data[end_x_col] - train_data[start_x_col]) ** 2 +\n",
    "    (train_data[end_z_col] - start_z_col) ** 2\n",
    ")\n",
    "\n",
    "test_data['CURE_DISTANCE_Dam'] = np.sqrt(\n",
    "    (train_data[end_x_col] - train_data[start_x_col]) ** 2 +\n",
    "    (train_data[end_z_col] - start_z_col) ** 2\n",
    ")"
   ]
  },
  {
   "cell_type": "code",
   "execution_count": 235,
   "id": "3dbe5a3a",
   "metadata": {},
   "outputs": [
    {
     "name": "stdout",
     "output_type": "stream",
     "text": [
      "\n",
      "CURE_DISTANCE_Dam별 target 비율 및 갯수\n",
      "\n",
      "            AbNormal    Normal  AbNormal  Normal  Total\n",
      "variable                                               \n",
      "720.306185  0.055893  0.944107       865   14611  15476\n",
      "790.607994  0.059329  0.940671      1485   23545  25030\n"
     ]
    }
   ],
   "source": [
    "value_counts_ratio(train_data, 'CURE_DISTANCE_Dam')"
   ]
  },
  {
   "cell_type": "code",
   "execution_count": 236,
   "id": "05cc135d",
   "metadata": {},
   "outputs": [
    {
     "name": "stdout",
     "output_type": "stream",
     "text": [
      "Grouped by: Equipment_num, CURE_DISTANCE_Dam\n",
      "\n",
      "                       group  'AdNormal' count     ratio  Total\n",
      "0     (#1, 790.607993888248)              1466  0.058614  25011\n",
      "1    (#2, 720.3061848963953)               850  0.054977  15461\n",
      "2  (diff, 720.3061848963953)                15  1.000000     15\n",
      "3   (diff, 790.607993888248)                19  1.000000     19\n"
     ]
    }
   ],
   "source": [
    "summarize_group(train_data, ['Equipment_num'\n",
    "                             , 'CURE_DISTANCE_Dam'])"
   ]
  },
  {
   "cell_type": "code",
   "execution_count": 237,
   "id": "ce3d7acf",
   "metadata": {},
   "outputs": [
    {
     "data": {
      "image/png": "[encoded data removed]",
      "text/plain": [
       "<Figure size 1000x600 with 1 Axes>"
      ]
     },
     "metadata": {},
     "output_type": "display_data"
    }
   ],
   "source": [
    "plot_ratio_boxplot(train_data, 'CURE_DISTANCE_Dam')"
   ]
  },
  {
   "cell_type": "code",
   "execution_count": 238,
   "id": "f3a8db3c",
   "metadata": {},
   "outputs": [
    {
     "name": "stdout",
     "output_type": "stream",
     "text": [
      "Grouped by: Equipment_num, CURE END POSITION X Collect Result_Fill2, CURE END POSITION Z Collect Result_Fill2, CURE START POSITION X Collect Result_Fill2, CURE START POSITION Z Collect Result_Fill2, CURE STANDBY POSITION X Collect Result_Fill2, CURE STANDBY POSITION Z Collect Result_Fill2\n",
      "\n",
      "                                  group  'AdNormal' count     ratio  Total\n",
      "0     (#1, 240, 22, 1020, 22, 1020, 22)                 5  0.055556     90\n",
      "1     (#1, 240, 32, 1020, 22, 1020, 22)                29  0.077540    374\n",
      "2     (#1, 240, 32, 1020, 32, 1020, 32)               367  0.093934   3907\n",
      "3     (#1, 240, 32, 1020, 33, 1020, 33)               255  0.084549   3016\n",
      "4     (#1, 240, 33, 1020, 23, 1020, 23)                22  0.107843    204\n",
      "5     (#1, 240, 33, 1020, 32, 1020, 32)                31  0.046269    670\n",
      "6     (#1, 240, 33, 1020, 33, 1020, 33)               750  0.044956  16683\n",
      "7     (#1, 1020, 33, 240, 33, 1020, 33)                 7  0.104478     67\n",
      "8     (#2, 240, 22, 1020, 22, 1020, 22)                 0  0.000000      5\n",
      "9     (#2, 240, 22, 1020, 33, 1020, 33)                 0  0.000000      1\n",
      "10    (#2, 240, 33, 1020, 32, 1020, 32)                23  0.070552    326\n",
      "11    (#2, 240, 33, 1020, 33, 1020, 33)               826  0.054833  15064\n",
      "12    (#2, 1020, 33, 240, 33, 1020, 33)                 1  0.015385     65\n",
      "13  (diff, 240, 33, 1020, 33, 1020, 33)                34  1.000000     34\n"
     ]
    }
   ],
   "source": [
    "summarize_group(train_data, ['Equipment_num'\n",
    "                             , 'CURE END POSITION X Collect Result_Fill2'\n",
    "                             , 'CURE END POSITION Z Collect Result_Fill2'\n",
    "                             , 'CURE START POSITION X Collect Result_Fill2'\n",
    "                             , 'CURE START POSITION Z Collect Result_Fill2'\n",
    "                             , 'CURE STANDBY POSITION X Collect Result_Fill2'\n",
    "                             , 'CURE STANDBY POSITION Z Collect Result_Fill2'])"
   ]
  },
  {
   "cell_type": "code",
   "execution_count": 239,
   "id": "372b636c-6dff-42db-a9c8-f4abdb726159",
   "metadata": {},
   "outputs": [],
   "source": [
    "### fill2\n",
    "# UV 경화 좌표 합치기\n",
    "def create_coordinate_columns(data):\n",
    "    # Fill2\n",
    "    # cure end\n",
    "    data['cure_end_position_XZ_Fill2'] = (\n",
    "        data['CURE END POSITION X Collect Result_Fill2'].astype(str) + ',' +\n",
    "        data['CURE END POSITION Z Collect Result_Fill2'].astype(str) \n",
    "    )\n",
    "\n",
    "    # cure start\n",
    "    data['cure_start_position_XZ_Fill2'] = (\n",
    "        data['CURE START POSITION X Collect Result_Fill2'].astype(str) + ',' +\n",
    "        data['CURE START POSITION Z Collect Result_Fill2'].astype(str) \n",
    "    )\n",
    "\n",
    "    # cure standby\n",
    "    data['cure_standby_position_XZ_Fill2'] = (\n",
    "        data['CURE STANDBY POSITION X Collect Result_Fill2'].astype(str) + ',' +\n",
    "        data['CURE STANDBY POSITION Z Collect Result_Fill2'].astype(str) \n",
    "    )\n",
    "\n",
    "# train_data와 test_data에 대해 함수 호출\n",
    "create_coordinate_columns(train_data)\n",
    "create_coordinate_columns(test_data)"
   ]
  },
  {
   "cell_type": "code",
   "execution_count": 240,
   "id": "8c4181e5",
   "metadata": {},
   "outputs": [
    {
     "name": "stdout",
     "output_type": "stream",
     "text": [
      "Grouped by: Equipment_num, cure_end_position_XZ_Fill2, cure_start_position_XZ_Fill2, cure_standby_position_XZ_Fill2\n",
      "\n",
      "                               group  'AdNormal' count     ratio  Total\n",
      "0     (#1, 1020,33, 240,33, 1020,33)                 7  0.104478     67\n",
      "1     (#1, 240,22, 1020,22, 1020,22)                 5  0.055556     90\n",
      "2     (#1, 240,32, 1020,22, 1020,22)                29  0.077540    374\n",
      "3     (#1, 240,32, 1020,32, 1020,32)               367  0.093934   3907\n",
      "4     (#1, 240,32, 1020,33, 1020,33)               255  0.084549   3016\n",
      "5     (#1, 240,33, 1020,23, 1020,23)                22  0.107843    204\n",
      "6     (#1, 240,33, 1020,32, 1020,32)                31  0.046269    670\n",
      "7     (#1, 240,33, 1020,33, 1020,33)               750  0.044956  16683\n",
      "8     (#2, 1020,33, 240,33, 1020,33)                 1  0.015385     65\n",
      "9     (#2, 240,22, 1020,22, 1020,22)                 0  0.000000      5\n",
      "10    (#2, 240,22, 1020,33, 1020,33)                 0  0.000000      1\n",
      "11    (#2, 240,33, 1020,32, 1020,32)                23  0.070552    326\n",
      "12    (#2, 240,33, 1020,33, 1020,33)               826  0.054833  15064\n",
      "13  (diff, 240,33, 1020,33, 1020,33)                34  1.000000     34\n"
     ]
    }
   ],
   "source": [
    "summarize_group(train_data, ['Equipment_num'\n",
    "                             , 'cure_end_position_XZ_Fill2'\n",
    "                             , 'cure_start_position_XZ_Fill2'\n",
    "                             , 'cure_standby_position_XZ_Fill2'])                        "
   ]
  },
  {
   "cell_type": "code",
   "execution_count": 241,
   "id": "eb7f394f-640b-4bef-b01e-008310aa2f8b",
   "metadata": {},
   "outputs": [],
   "source": [
    "# 제거할 변수 목록\n",
    "columns_to_drop = [\n",
    "    'CURE END POSITION X Collect Result_Dam',\n",
    "    'CURE END POSITION Z Collect Result_Dam',\n",
    "    'CURE END POSITION Θ Collect Result_Dam',\n",
    "    'CURE START POSITION X Collect Result_Dam',\n",
    "    'CURE START POSITION Z Collect Result_Dam',\n",
    "    'CURE START POSITION Θ Collect Result_Dam',\n",
    "\n",
    "    'CURE END POSITION X Collect Result_Fill2',\n",
    "    'CURE END POSITION Z Collect Result_Fill2',\n",
    "    'CURE END POSITION Θ Collect Result_Fill2',\n",
    "    'CURE START POSITION X Collect Result_Fill2',\n",
    "    'CURE START POSITION Z Collect Result_Fill2',\n",
    "    'CURE START POSITION Θ Collect Result_Fill2',\n",
    "    'CURE STANDBY POSITION X Collect Result_Fill2',\n",
    "    'CURE STANDBY POSITION Z Collect Result_Fill2',\n",
    "    'CURE STANDBY POSITION Θ Collect Result_Fill2'\n",
    "]\n",
    "\n",
    "# 변수 제거\n",
    "train_data.drop(columns=columns_to_drop, inplace=True)\n",
    "test_data.drop(columns=columns_to_drop, inplace=True)"
   ]
  },
  {
   "cell_type": "markdown",
   "id": "184a4b1b-3e7b-4413-9704-d35f02fac78a",
   "metadata": {},
   "source": [
    "### 5. HEAD 변수"
   ]
  },
  {
   "cell_type": "markdown",
   "id": "9cc6fe5f-96d8-450c-9ef6-ae8c17a7901c",
   "metadata": {},
   "source": [
    "- dam"
   ]
  },
  {
   "cell_type": "code",
   "execution_count": 242,
   "id": "7bda1832-ce60-4c22-abb7-a760df286801",
   "metadata": {},
   "outputs": [],
   "source": [
    "# 각 스테이지의 좌표 열 정의\n",
    "stage1_cols = ['HEAD NORMAL COORDINATE X AXIS(Stage1) Collect Result_Dam',\n",
    "               'HEAD NORMAL COORDINATE Y AXIS(Stage1) Collect Result_Dam',\n",
    "               'HEAD NORMAL COORDINATE Z AXIS(Stage1) Collect Result_Dam']\n",
    "\n",
    "stage2_cols = ['HEAD NORMAL COORDINATE X AXIS(Stage2) Collect Result_Dam',\n",
    "               'HEAD NORMAL COORDINATE Y AXIS(Stage2) Collect Result_Dam',\n",
    "               'HEAD NORMAL COORDINATE Z AXIS(Stage2) Collect Result_Dam']\n",
    "\n",
    "stage3_cols = ['HEAD NORMAL COORDINATE X AXIS(Stage3) Collect Result_Dam',\n",
    "               'HEAD NORMAL COORDINATE Y AXIS(Stage3) Collect Result_Dam',\n",
    "               'HEAD NORMAL COORDINATE Z AXIS(Stage3) Collect Result_Dam']\n",
    "\n",
    "# 거리 계산 함수\n",
    "def calculate_distances(data):\n",
    "    data['HEAD NORMAL DISTANCE_STAGE1_STAGE2_Dam'] = np.sqrt(\n",
    "        (data[stage2_cols[0]] - data[stage1_cols[0]]) ** 2 +\n",
    "        (data[stage2_cols[1]] - data[stage1_cols[1]]) ** 2 +\n",
    "        (data[stage2_cols[2]] - data[stage1_cols[2]]) ** 2\n",
    "    )\n",
    "\n",
    "    data['HEAD NORMAL DISTANCE_STAGE2_STAGE3_Dam'] = np.sqrt(\n",
    "        (data[stage3_cols[0]] - data[stage2_cols[0]]) ** 2 +\n",
    "        (data[stage3_cols[1]] - data[stage2_cols[1]]) ** 2 +\n",
    "        (data[stage3_cols[2]] - data[stage2_cols[2]]) ** 2\n",
    "    )\n",
    "\n",
    "    data['HEAD NORMAL DISTANCE_STAGE1_STAGE3_Dam'] = np.sqrt(\n",
    "        (data[stage3_cols[0]] - data[stage1_cols[0]]) ** 2 +\n",
    "        (data[stage3_cols[1]] - data[stage1_cols[1]]) ** 2 +\n",
    "        (data[stage3_cols[2]] - data[stage1_cols[2]]) ** 2\n",
    "    )\n",
    "\n",
    "    return data\n",
    "\n",
    "# train_data에 적용\n",
    "train_data = calculate_distances(train_data)\n",
    "\n",
    "# test_data에 적용\n",
    "test_data = calculate_distances(test_data)"
   ]
  },
  {
   "cell_type": "code",
   "execution_count": 243,
   "id": "8db711e9-4ca2-4076-b689-241d786d968f",
   "metadata": {},
   "outputs": [],
   "source": [
    "# 필요한 열 이름\n",
    "stage1_stage2_col = 'HEAD NORMAL DISTANCE_STAGE1_STAGE2_Dam'\n",
    "stage2_stage3_col = 'HEAD NORMAL DISTANCE_STAGE2_STAGE3_Dam'\n",
    "stage1_stage3_col = 'HEAD NORMAL DISTANCE_STAGE1_STAGE3_Dam'\n",
    "\n",
    "# 삼각형의 넓이와 높이를 계산하는 함수\n",
    "def calculate_triangle_features(data):\n",
    "    a = data[stage1_stage2_col]\n",
    "    b = data[stage2_stage3_col]\n",
    "    c = data[stage1_stage3_col]\n",
    "\n",
    "    # 헤론의 공식에 따른 삼각형의 넓이 계산\n",
    "    s = (a + b + c) / 2\n",
    "    area = np.sqrt(s * (s - a) * (s - b) * (s - c))\n",
    "\n",
    "    # 높이 계산 (밑변을 c로 가정)\n",
    "    height = (2 * area) / c\n",
    "\n",
    "    # 결과를 새로운 열에 저장\n",
    "    data['HEAD NORMAL DISTANCE_TRIANGLE_area_Dam'] = area\n",
    "    data['HEAD NORMAL DISTANCE_TRIANGLE_height_Dam'] = height\n",
    "\n",
    "    return data\n",
    "\n",
    "# train_data에 적용\n",
    "train_data = calculate_triangle_features(train_data)\n",
    "\n",
    "# test_data에 적용\n",
    "test_data = calculate_triangle_features(test_data)"
   ]
  },
  {
   "cell_type": "code",
   "execution_count": 244,
   "id": "9569e8f1",
   "metadata": {},
   "outputs": [
    {
     "name": "stdout",
     "output_type": "stream",
     "text": [
      "Grouped by: Equipment_num, HEAD NORMAL DISTANCE_TRIANGLE_area_Dam, HEAD NORMAL DISTANCE_TRIANGLE_height_Dam\n",
      "\n",
      "                                             group  'AdNormal' count  \\\n",
      "0                                   (#1, 0.0, 0.0)               214   \n",
      "1     (#1, 38.95000000228426, 0.20000000001172924)                 2   \n",
      "2      (#1, 97.1249999997389, 0.49999999999865585)                 0   \n",
      "3      (#1, 97.12499999994093, 0.4999999999996959)                 4   \n",
      "4      (#1, 97.12500000030931, 0.5000000000015924)                30   \n",
      "..                                             ...               ...   \n",
      "60  (diff, 21820.265000000018, 112.10000000000011)                 3   \n",
      "61   (diff, 21820.26500000003, 112.10000000000014)                 3   \n",
      "62  (diff, 21825.870000000014, 112.10000000000008)                 1   \n",
      "63  (diff, 21825.879999999997, 112.24416103782065)                 1   \n",
      "64            (diff, 21884.73, 112.34459505344981)                 1   \n",
      "\n",
      "       ratio  Total  \n",
      "0   0.047335   4521  \n",
      "1   0.012987    154  \n",
      "2   0.000000      2  \n",
      "3   0.153846     26  \n",
      "4   0.069124    434  \n",
      "..       ...    ...  \n",
      "60  1.000000      3  \n",
      "61  1.000000      3  \n",
      "62  1.000000      1  \n",
      "63  1.000000      1  \n",
      "64  1.000000      1  \n",
      "\n",
      "[65 rows x 4 columns]\n"
     ]
    }
   ],
   "source": [
    "summarize_group(train_data, ['Equipment_num'\n",
    "                             , 'HEAD NORMAL DISTANCE_TRIANGLE_area_Dam'\n",
    "                             , 'HEAD NORMAL DISTANCE_TRIANGLE_height_Dam'])                        "
   ]
  },
  {
   "cell_type": "code",
   "execution_count": 245,
   "id": "16669b71-e0b1-46de-b64c-4b014010aa3b",
   "metadata": {},
   "outputs": [],
   "source": [
    "# 제거할 변수 목록\n",
    "columns_to_drop = [\n",
    "    'HEAD NORMAL COORDINATE X AXIS(Stage1) Collect Result_Dam'\n",
    "    , 'HEAD NORMAL COORDINATE X AXIS(Stage1) Judge Value_Dam'\n",
    "    , 'HEAD NORMAL COORDINATE Y AXIS(Stage1) Collect Result_Dam'\n",
    "    , 'HEAD NORMAL COORDINATE Z AXIS(Stage1) Collect Result_Dam'\n",
    "\n",
    "    , 'HEAD NORMAL COORDINATE X AXIS(Stage2) Collect Result_Dam'\n",
    "    , 'HEAD NORMAL COORDINATE Y AXIS(Stage2) Collect Result_Dam'\n",
    "    , 'HEAD NORMAL COORDINATE Z AXIS(Stage2) Collect Result_Dam'\n",
    "\n",
    "    , 'HEAD NORMAL COORDINATE X AXIS(Stage3) Collect Result_Dam'\n",
    "    , 'HEAD NORMAL COORDINATE Y AXIS(Stage3) Collect Result_Dam'\n",
    "    , 'HEAD NORMAL COORDINATE Z AXIS(Stage3) Collect Result_Dam'\n",
    "\n",
    "    , 'HEAD NORMAL DISTANCE_STAGE1_STAGE2_Dam'\n",
    "    , 'HEAD NORMAL DISTANCE_STAGE2_STAGE3_Dam'\n",
    "]\n",
    "\n",
    "# 변수 제거\n",
    "train_data.drop(columns=columns_to_drop, inplace=True)\n",
    "test_data.drop(columns=columns_to_drop, inplace=True)"
   ]
  },
  {
   "cell_type": "code",
   "execution_count": 246,
   "id": "9da81034",
   "metadata": {},
   "outputs": [
    {
     "data": {
      "image/png": "[encoded data removed]",
      "text/plain": [
       "<Figure size 1000x600 with 1 Axes>"
      ]
     },
     "metadata": {},
     "output_type": "display_data"
    }
   ],
   "source": [
    "plot_ratio_boxplot(train_data, 'Head Zero Position Z Collect Result_Dam')"
   ]
  },
  {
   "cell_type": "code",
   "execution_count": 247,
   "id": "fb6bf635-6060-4fd1-ac71-d057fae56513",
   "metadata": {},
   "outputs": [],
   "source": [
    "# Dam 노즐 zero 위치 Z좌표 드롭\n",
    "train_data.drop(columns='Head Zero Position Z Collect Result_Dam', inplace=True)\n",
    "test_data.drop(columns='Head Zero Position Z Collect Result_Dam', inplace=True)"
   ]
  },
  {
   "cell_type": "markdown",
   "id": "c8bffb86-f2cc-44ad-a495-a107d3b9c98a",
   "metadata": {},
   "source": [
    "- fill1"
   ]
  },
  {
   "cell_type": "code",
   "execution_count": 248,
   "id": "53e42711-b516-492c-a89a-2358839af5b5",
   "metadata": {},
   "outputs": [],
   "source": [
    "# 각 스테이지의 좌표 열 정의\n",
    "stage1_cols = ['HEAD NORMAL COORDINATE X AXIS(Stage1) Collect Result_Fill1',\n",
    "               'HEAD NORMAL COORDINATE Y AXIS(Stage1) Collect Result_Fill1',\n",
    "               'HEAD NORMAL COORDINATE Z AXIS(Stage1) Collect Result_Fill1']\n",
    "\n",
    "stage2_cols = ['HEAD NORMAL COORDINATE X AXIS(Stage2) Collect Result_Fill1',\n",
    "               'HEAD NORMAL COORDINATE Y AXIS(Stage2) Collect Result_Fill1',\n",
    "               'HEAD NORMAL COORDINATE Z AXIS(Stage2) Collect Result_Fill1']\n",
    "\n",
    "stage3_cols = ['HEAD NORMAL COORDINATE X AXIS(Stage3) Collect Result_Fill1',\n",
    "               'HEAD NORMAL COORDINATE Y AXIS(Stage3) Collect Result_Fill1',\n",
    "               'HEAD NORMAL COORDINATE Z AXIS(Stage3) Collect Result_Fill1']\n",
    "\n",
    "# 거리 계산 함수\n",
    "def calculate_distances(data):\n",
    "    data['HEAD NORMAL DISTANCE_STAGE1_STAGE2_Fill1'] = np.sqrt(\n",
    "        (data[stage2_cols[0]] - data[stage1_cols[0]]) ** 2 +\n",
    "        (data[stage2_cols[1]] - data[stage1_cols[1]]) ** 2 +\n",
    "        (data[stage2_cols[2]] - data[stage1_cols[2]]) ** 2\n",
    "    )\n",
    "\n",
    "    data['HEAD NORMAL DISTANCE_STAGE2_STAGE3_Fill1'] = np.sqrt(\n",
    "        (data[stage3_cols[0]] - data[stage2_cols[0]]) ** 2 +\n",
    "        (data[stage3_cols[1]] - data[stage2_cols[1]]) ** 2 +\n",
    "        (data[stage3_cols[2]] - data[stage2_cols[2]]) ** 2\n",
    "    )\n",
    "\n",
    "    data['HEAD NORMAL DISTANCE_STAGE1_STAGE3_Fill1'] = np.sqrt(\n",
    "        (data[stage3_cols[0]] - data[stage1_cols[0]]) ** 2 +\n",
    "        (data[stage3_cols[1]] - data[stage1_cols[1]]) ** 2 +\n",
    "        (data[stage3_cols[2]] - data[stage1_cols[2]]) ** 2\n",
    "    )\n",
    "\n",
    "    return data\n",
    "\n",
    "# train_data에 적용\n",
    "train_data = calculate_distances(train_data)\n",
    "\n",
    "# test_data에 적용\n",
    "test_data = calculate_distances(test_data)"
   ]
  },
  {
   "cell_type": "code",
   "execution_count": 249,
   "id": "76c1438e-9ead-47dd-80fd-b08faa85f015",
   "metadata": {},
   "outputs": [],
   "source": [
    "# 필요한 열 이름\n",
    "stage1_stage2_col = 'HEAD NORMAL DISTANCE_STAGE1_STAGE2_Fill1'\n",
    "stage2_stage3_col = 'HEAD NORMAL DISTANCE_STAGE2_STAGE3_Fill1'\n",
    "stage1_stage3_col = 'HEAD NORMAL DISTANCE_STAGE1_STAGE3_Fill1'\n",
    "\n",
    "# 삼각형의 넓이와 높이를 계산하는 함수\n",
    "def calculate_triangle_features(data):\n",
    "    a = data[stage1_stage2_col]\n",
    "    b = data[stage2_stage3_col]\n",
    "    c = data[stage1_stage3_col]\n",
    "\n",
    "    # 헤론의 공식에 따른 삼각형의 넓이 계산\n",
    "    s = (a + b + c) / 2\n",
    "    area = np.sqrt(s * (s - a) * (s - b) * (s - c))\n",
    "\n",
    "    # 높이 계산 (밑변을 c로 가정)\n",
    "    height = (2 * area) / c\n",
    "\n",
    "    # 결과를 새로운 열에 저장\n",
    "    data['HEAD NORMAL DISTANCE_TRIANGLE_area_Fill1'] = area\n",
    "    data['HEAD NORMAL DISTANCE_TRIANGLE_height_Fill1'] = height\n",
    "\n",
    "    return data\n",
    "\n",
    "# train_data에 적용\n",
    "train_data = calculate_triangle_features(train_data)\n",
    "\n",
    "# test_data에 적용\n",
    "test_data = calculate_triangle_features(test_data)"
   ]
  },
  {
   "cell_type": "code",
   "execution_count": 250,
   "id": "fa31162e-094d-47fd-bef2-9e55bc4f9dae",
   "metadata": {},
   "outputs": [],
   "source": [
    "# 제거할 변수 목록\n",
    "columns_to_drop = [\n",
    "    'HEAD NORMAL COORDINATE X AXIS(Stage1) Collect Result_Fill1'\n",
    "    , 'HEAD NORMAL COORDINATE X AXIS(Stage1) Judge Value_Fill1'\n",
    "    , 'HEAD NORMAL COORDINATE Y AXIS(Stage1) Collect Result_Fill1'\n",
    "    , 'HEAD NORMAL COORDINATE Z AXIS(Stage1) Collect Result_Fill1'\n",
    "\n",
    "    , 'HEAD NORMAL COORDINATE X AXIS(Stage2) Collect Result_Fill1'\n",
    "    , 'HEAD NORMAL COORDINATE Y AXIS(Stage2) Collect Result_Fill1'\n",
    "    , 'HEAD NORMAL COORDINATE Z AXIS(Stage2) Collect Result_Fill1'\n",
    "\n",
    "    , 'HEAD NORMAL COORDINATE X AXIS(Stage3) Collect Result_Fill1'\n",
    "    , 'HEAD NORMAL COORDINATE Y AXIS(Stage3) Collect Result_Fill1'\n",
    "    , 'HEAD NORMAL COORDINATE Z AXIS(Stage3) Collect Result_Fill1'\n",
    "\n",
    "    , 'HEAD NORMAL DISTANCE_STAGE1_STAGE2_Fill1'\n",
    "    , 'HEAD NORMAL DISTANCE_STAGE2_STAGE3_Fill1'\n",
    "]\n",
    "\n",
    "# 변수 제거\n",
    "train_data.drop(columns=columns_to_drop, inplace=True)\n",
    "test_data.drop(columns=columns_to_drop, inplace=True)"
   ]
  },
  {
   "cell_type": "markdown",
   "id": "72be5165-b1d0-412f-b293-1207d90e433b",
   "metadata": {},
   "source": [
    "- fill2"
   ]
  },
  {
   "cell_type": "code",
   "execution_count": 251,
   "id": "836359e0-e3f3-487d-92d8-61869849bfea",
   "metadata": {},
   "outputs": [],
   "source": [
    "# 각 스테이지의 좌표 열 정의\n",
    "stage1_cols = ['HEAD NORMAL COORDINATE X AXIS(Stage1) Collect Result_Fill2',\n",
    "               'HEAD NORMAL COORDINATE Y AXIS(Stage1) Collect Result_Fill2',\n",
    "               'HEAD NORMAL COORDINATE Z AXIS(Stage1) Collect Result_Fill2']\n",
    "\n",
    "stage2_cols = ['HEAD NORMAL COORDINATE X AXIS(Stage2) Collect Result_Fill2',\n",
    "               'HEAD NORMAL COORDINATE Y AXIS(Stage2) Collect Result_Fill2',\n",
    "               'HEAD NORMAL COORDINATE Z AXIS(Stage2) Collect Result_Fill2']\n",
    "\n",
    "stage3_cols = ['HEAD NORMAL COORDINATE X AXIS(Stage3) Collect Result_Fill2',\n",
    "               'HEAD NORMAL COORDINATE Y AXIS(Stage3) Collect Result_Fill2',\n",
    "               'HEAD NORMAL COORDINATE Z AXIS(Stage3) Collect Result_Fill2']\n",
    "\n",
    "# 거리 계산 함수\n",
    "def calculate_distances(data):\n",
    "    data['HEAD NORMAL DISTANCE_STAGE1_STAGE2_Fill2'] = np.sqrt(\n",
    "        (data[stage2_cols[0]] - data[stage1_cols[0]]) ** 2 +\n",
    "        (data[stage2_cols[1]] - data[stage1_cols[1]]) ** 2 +\n",
    "        (data[stage2_cols[2]] - data[stage1_cols[2]]) ** 2\n",
    "    )\n",
    "\n",
    "    data['HEAD NORMAL DISTANCE_STAGE2_STAGE3_Fill2'] = np.sqrt(\n",
    "        (data[stage3_cols[0]] - data[stage2_cols[0]]) ** 2 +\n",
    "        (data[stage3_cols[1]] - data[stage2_cols[1]]) ** 2 +\n",
    "        (data[stage3_cols[2]] - data[stage2_cols[2]]) ** 2\n",
    "    )\n",
    "\n",
    "    data['HEAD NORMAL DISTANCE_STAGE1_STAGE3_Fill2'] = np.sqrt(\n",
    "        (data[stage3_cols[0]] - data[stage1_cols[0]]) ** 2 +\n",
    "        (data[stage3_cols[1]] - data[stage1_cols[1]]) ** 2 +\n",
    "        (data[stage3_cols[2]] - data[stage1_cols[2]]) ** 2\n",
    "    )\n",
    "\n",
    "    return data\n",
    "\n",
    "# train_data에 적용\n",
    "train_data = calculate_distances(train_data)\n",
    "\n",
    "# test_data에 적용\n",
    "test_data = calculate_distances(test_data)"
   ]
  },
  {
   "cell_type": "code",
   "execution_count": 252,
   "id": "53a7041f-8fe0-4e57-8559-115828424a02",
   "metadata": {},
   "outputs": [],
   "source": [
    "# 제거할 변수 목록\n",
    "columns_to_drop = [\n",
    "    'HEAD NORMAL COORDINATE X AXIS(Stage1) Collect Result_Fill2'\n",
    "    , 'HEAD NORMAL COORDINATE X AXIS(Stage1) Judge Value_Fill2'\n",
    "    , 'HEAD NORMAL COORDINATE Y AXIS(Stage1) Collect Result_Fill2'\n",
    "    , 'HEAD NORMAL COORDINATE Z AXIS(Stage1) Collect Result_Fill2'\n",
    "\n",
    "    , 'HEAD NORMAL COORDINATE X AXIS(Stage2) Collect Result_Fill2'\n",
    "    , 'HEAD NORMAL COORDINATE Y AXIS(Stage2) Collect Result_Fill2'\n",
    "    , 'HEAD NORMAL COORDINATE Z AXIS(Stage2) Collect Result_Fill2'\n",
    "\n",
    "    , 'HEAD NORMAL COORDINATE X AXIS(Stage3) Collect Result_Fill2'\n",
    "    , 'HEAD NORMAL COORDINATE Y AXIS(Stage3) Collect Result_Fill2'\n",
    "    , 'HEAD NORMAL COORDINATE Z AXIS(Stage3) Collect Result_Fill2'\n",
    "]\n",
    "\n",
    "# 변수 제거\n",
    "train_data.drop(columns=columns_to_drop, inplace=True)\n",
    "test_data.drop(columns=columns_to_drop, inplace=True)"
   ]
  },
  {
   "cell_type": "markdown",
   "id": "02a64bf1-d745-47da-aedf-02361f2f2329",
   "metadata": {},
   "source": [
    "### 6. Resin 변수"
   ]
  },
  {
   "cell_type": "markdown",
   "id": "7bc3106d-63d0-411b-a83b-9baeedfa874a",
   "metadata": {},
   "source": [
    "- dam"
   ]
  },
  {
   "cell_type": "code",
   "execution_count": 253,
   "id": "f9857a16-8c84-4381-a5bd-ecc78aa2ca1e",
   "metadata": {},
   "outputs": [],
   "source": [
    "# volume*time 파생변수 - Dam\n",
    "train_data['volume_time_multip_stage1_Dam'] = train_data['Dispense Volume(Stage1) Collect Result_Dam'] * train_data['DISCHARGED TIME OF RESIN(Stage1) Collect Result_Dam']\n",
    "train_data['volume_time_multip_stage2_Dam'] = train_data['Dispense Volume(Stage2) Collect Result_Dam'] * train_data['DISCHARGED TIME OF RESIN(Stage2) Collect Result_Dam']\n",
    "train_data['volume_time_multip_stage3_Dam'] = train_data['Dispense Volume(Stage3) Collect Result_Dam'] * train_data['DISCHARGED TIME OF RESIN(Stage3) Collect Result_Dam']\n",
    "\n",
    "train_data['volume_time_multip_avg_Dam'] = (train_data['volume_time_multip_stage1_Dam'] + \n",
    "                                            train_data['volume_time_multip_stage2_Dam'] + \n",
    "                                            train_data['volume_time_multip_stage3_Dam']) / 3\n",
    "\n",
    "# volume*time 파생변수 - Dam\n",
    "test_data['volume_time_multip_stage1_Dam'] = test_data['Dispense Volume(Stage1) Collect Result_Dam'] * test_data['DISCHARGED TIME OF RESIN(Stage1) Collect Result_Dam']\n",
    "test_data['volume_time_multip_stage2_Dam'] = test_data['Dispense Volume(Stage2) Collect Result_Dam'] * test_data['DISCHARGED TIME OF RESIN(Stage2) Collect Result_Dam']\n",
    "test_data['volume_time_multip_stage3_Dam'] = test_data['Dispense Volume(Stage3) Collect Result_Dam'] * test_data['DISCHARGED TIME OF RESIN(Stage3) Collect Result_Dam']\n",
    "\n",
    "test_data['volume_time_multip_avg_Dam'] = (test_data['volume_time_multip_stage1_Dam'] + \n",
    "                                            test_data['volume_time_multip_stage2_Dam'] + \n",
    "                                            test_data['volume_time_multip_stage3_Dam']) / 3"
   ]
  },
  {
   "cell_type": "code",
   "execution_count": 254,
   "id": "620d0fda",
   "metadata": {},
   "outputs": [
    {
     "data": {
      "image/png": "[encoded data removed]",
      "text/plain": [
       "<Figure size 1000x600 with 1 Axes>"
      ]
     },
     "metadata": {},
     "output_type": "display_data"
    }
   ],
   "source": [
    "plot_ratio_boxplot(train_data, 'volume_time_multip_avg_Dam')"
   ]
  },
  {
   "cell_type": "code",
   "execution_count": 255,
   "id": "0e0ebd5c-6fd7-4c5b-89cd-042b3a3671e2",
   "metadata": {},
   "outputs": [],
   "source": [
    "# 삭제할 열 목록 추가\n",
    "columns_to_drop = [\n",
    "    'DISCHARGED TIME OF RESIN(Stage1) Collect Result_Dam',\n",
    "    'DISCHARGED TIME OF RESIN(Stage2) Collect Result_Dam',\n",
    "    'DISCHARGED TIME OF RESIN(Stage3) Collect Result_Dam',\n",
    "    'Dispense Volume(Stage1) Collect Result_Dam',\n",
    "    'Dispense Volume(Stage2) Collect Result_Dam',\n",
    "    'Dispense Volume(Stage3) Collect Result_Dam',\n",
    "    #'volume_time_multip_stage1_Dam',\n",
    "    #'volume_time_multip_stage2_Dam',\n",
    "    #'volume_time_multip_stage3_Dam'\n",
    "]\n",
    "\n",
    "train_data.drop(columns=columns_to_drop, inplace=True, errors='ignore')\n",
    "test_data.drop(columns=columns_to_drop, inplace=True, errors='ignore')"
   ]
  },
  {
   "cell_type": "markdown",
   "id": "6f9986f1-a251-430e-bbd9-705bdd0cfbda",
   "metadata": {},
   "source": [
    "- fill1"
   ]
  },
  {
   "cell_type": "code",
   "execution_count": 256,
   "id": "b2b05f8b-7a55-40be-aa70-02faa32cffe1",
   "metadata": {},
   "outputs": [],
   "source": [
    "# volume*time 파생변수 - Fill1\n",
    "train_data['volume_time_multip_stage1_Fill1'] = train_data['Dispense Volume(Stage1) Collect Result_Fill1'] * train_data['DISCHARGED TIME OF RESIN(Stage1) Collect Result_Fill1']\n",
    "train_data['volume_time_multip_stage2_Fill1'] = train_data['Dispense Volume(Stage2) Collect Result_Fill1'] * train_data['DISCHARGED TIME OF RESIN(Stage2) Collect Result_Fill1']\n",
    "train_data['volume_time_multip_stage3_Fill1'] = train_data['Dispense Volume(Stage3) Collect Result_Fill1'] * train_data['DISCHARGED TIME OF RESIN(Stage3) Collect Result_Fill1']\n",
    "\n",
    "train_data['volume_time_multip_avg_Fill1'] = (train_data['volume_time_multip_stage1_Fill1'] + \n",
    "                                            train_data['volume_time_multip_stage2_Fill1'] + \n",
    "                                            train_data['volume_time_multip_stage3_Fill1']) / 3\n",
    "\n",
    "# volume*time 파생변수 - Fill1\n",
    "test_data['volume_time_multip_stage1_Fill1'] = test_data['Dispense Volume(Stage1) Collect Result_Fill1'] * test_data['DISCHARGED TIME OF RESIN(Stage1) Collect Result_Fill1']\n",
    "test_data['volume_time_multip_stage2_Fill1'] = test_data['Dispense Volume(Stage2) Collect Result_Fill1'] * test_data['DISCHARGED TIME OF RESIN(Stage2) Collect Result_Fill1']\n",
    "test_data['volume_time_multip_stage3_Fill1'] = test_data['Dispense Volume(Stage3) Collect Result_Fill1'] * test_data['DISCHARGED TIME OF RESIN(Stage3) Collect Result_Fill1']\n",
    "\n",
    "test_data['volume_time_multip_avg_Fill1'] = (test_data['volume_time_multip_stage1_Fill1'] + \n",
    "                                            test_data['volume_time_multip_stage2_Fill1'] + \n",
    "                                            test_data['volume_time_multip_stage3_Fill1']) / 3"
   ]
  },
  {
   "cell_type": "code",
   "execution_count": 257,
   "id": "648928e9",
   "metadata": {},
   "outputs": [
    {
     "data": {
      "image/png": "[encoded data removed]",
      "text/plain": [
       "<Figure size 1000x600 with 1 Axes>"
      ]
     },
     "metadata": {},
     "output_type": "display_data"
    }
   ],
   "source": [
    "plot_ratio_boxplot(train_data, 'volume_time_multip_avg_Fill1')"
   ]
  },
  {
   "cell_type": "code",
   "execution_count": 258,
   "id": "bff6cf24-453d-4bba-a5e3-bddededfb17f",
   "metadata": {},
   "outputs": [],
   "source": [
    "# 삭제할 열 목록 추가\n",
    "columns_to_drop = [\n",
    "    'DISCHARGED TIME OF RESIN(Stage1) Collect Result_Fill1',\n",
    "    'DISCHARGED TIME OF RESIN(Stage2) Collect Result_Fill1',\n",
    "    'DISCHARGED TIME OF RESIN(Stage3) Collect Result_Fill1',\n",
    "    'Dispense Volume(Stage1) Collect Result_Fill1',\n",
    "    'Dispense Volume(Stage2) Collect Result_Fill1',\n",
    "    'Dispense Volume(Stage3) Collect Result_Fill1',\n",
    "    #'volume_time_multip_stage1_Fill1',\n",
    "    #'volume_time_multip_stage2_Fill1',\n",
    "    #'volume_time_multip_stage3_Fill1'\n",
    "]\n",
    "\n",
    "train_data.drop(columns=columns_to_drop, inplace=True, errors='ignore')\n",
    "test_data.drop(columns=columns_to_drop, inplace=True, errors='ignore')"
   ]
  },
  {
   "cell_type": "markdown",
   "id": "56006cb7-66fa-4757-816c-260e12d6555e",
   "metadata": {},
   "source": [
    "### 7. Circle, Line 변수"
   ]
  },
  {
   "cell_type": "code",
   "execution_count": 259,
   "id": "6d445887-0bf3-4a31-956b-bdc711c606c5",
   "metadata": {},
   "outputs": [],
   "source": [
    "### circle\n",
    "# 열 이름 변경\n",
    "train_data.rename(columns={\n",
    "    'Stage1 Circle1 Distance Speed Collect Result_Dam': 'Stage1_Circle_Distance_Speed_Dam',\n",
    "    'Stage2 Circle1 Distance Speed Collect Result_Dam': 'Stage2_Circle_Distance_Speed_Dam',\n",
    "    'Stage3 Circle1 Distance Speed Collect Result_Dam': 'Stage3_Circle_Distance_Speed_Dam'\n",
    "}, inplace=True)\n",
    "\n",
    "test_data.rename(columns={\n",
    "    'Stage1 Circle1 Distance Speed Collect Result_Dam': 'Stage1_Circle_Distance_Speed_Dam',\n",
    "    'Stage2 Circle1 Distance Speed Collect Result_Dam': 'Stage2_Circle_Distance_Speed_Dam',\n",
    "    'Stage3 Circle1 Distance Speed Collect Result_Dam': 'Stage3_Circle_Distance_Speed_Dam'\n",
    "}, inplace=True)"
   ]
  },
  {
   "cell_type": "code",
   "execution_count": 261,
   "id": "acbd9929",
   "metadata": {},
   "outputs": [
    {
     "name": "stdout",
     "output_type": "stream",
     "text": [
      "Grouped by: Stage1_Circle_Distance_Speed_Dam, Stage2_Circle_Distance_Speed_Dam, Stage3_Circle_Distance_Speed_Dam\n",
      "\n",
      "                  group  'AdNormal' count     ratio  Total\n",
      "0    (4000, 4000, 4000)               164  0.040918   4008\n",
      "1    (4000, 5000, 4000)                57  0.042191   1351\n",
      "2    (4000, 8000, 4000)                28  0.063636    440\n",
      "3    (4000, 9000, 4000)                 7  0.020649    339\n",
      "4    (5000, 9000, 5000)               305  0.062232   4901\n",
      "5    (5800, 5300, 5800)               269  0.050803   5295\n",
      "6    (6000, 5500, 6000)                65  0.048435   1342\n",
      "7    (6200, 5500, 6200)                15  0.052817    284\n",
      "8    (6500, 5500, 6000)                 5  0.061728     81\n",
      "9    (6500, 5500, 6500)               149  0.034300   4344\n",
      "10   (6500, 6000, 6500)                 3  0.083333     36\n",
      "11   (6500, 6500, 6500)               435  0.054152   8033\n",
      "12  (6500, 12000, 6500)                 3  0.066667     45\n",
      "13   (9000, 9000, 9000)               548  0.083245   6583\n",
      "14  (9000, 12000, 9000)               297  0.086741   3424\n"
     ]
    }
   ],
   "source": [
    "summarize_group(train_data, ['Stage1_Circle_Distance_Speed_Dam'\n",
    "                             , 'Stage2_Circle_Distance_Speed_Dam'\n",
    "                             , 'Stage3_Circle_Distance_Speed_Dam'\n",
    "                          #  , 'Equipment_num'\n",
    "                             ])"
   ]
  },
  {
   "cell_type": "code",
   "execution_count": 1130,
   "id": "61d337af-f8b5-4a00-a32a-8f23936a5157",
   "metadata": {},
   "outputs": [],
   "source": [
    "# 제거할 변수 목록\n",
    "columns_to_drop = [\n",
    "    'Stage1 Circle2 Distance Speed Collect Result_Dam',\n",
    "    'Stage1 Circle3 Distance Speed Collect Result_Dam',\n",
    "    'Stage1 Circle4 Distance Speed Collect Result_Dam',\n",
    "    \n",
    "    'Stage2 Circle2 Distance Speed Collect Result_Dam',\n",
    "    'Stage2 Circle3 Distance Speed Collect Result_Dam',\n",
    "    'Stage2 Circle4 Distance Speed Collect Result_Dam',\n",
    "    \n",
    "    'Stage3 Circle2 Distance Speed Collect Result_Dam',\n",
    "    'Stage3 Circle3 Distance Speed Collect Result_Dam',\n",
    "    'Stage3 Circle4 Distance Speed Collect Result_Dam'\n",
    "]\n",
    "\n",
    "# 변수 제거\n",
    "train_data.drop(columns=columns_to_drop, inplace=True)\n",
    "test_data.drop(columns=columns_to_drop, inplace=True)"
   ]
  },
  {
   "cell_type": "code",
   "execution_count": 1131,
   "id": "635f16a4-2bc5-43c2-8d71-0c25dc28fc12",
   "metadata": {},
   "outputs": [],
   "source": [
    "### line\n",
    "# line1&3과 line2&4를 합친 파생변수 생성 함수\n",
    "def check_distance_speed(data, stage):\n",
    "    # 단계에 따라 라인 번호 정의\n",
    "    line_pairs = [(1, 3), (2, 4)]\n",
    "    \n",
    "    # 각 라인 쌍에 대해 반복\n",
    "    for line1, line2 in line_pairs:\n",
    "        line1_name = f'Stage{stage} Line{line1} Distance Speed Collect Result_Dam'\n",
    "        line2_name = f'Stage{stage} Line{line2} Distance Speed Collect Result_Dam'\n",
    "        \n",
    "        # 새로운 열 이름 설정\n",
    "        new_col_name = f'stage{stage}_line{line1}{line2}_distance_speed_Dam'\n",
    "        \n",
    "        # 조건에 따라 값 설정\n",
    "        data[new_col_name] = data.apply(\n",
    "            lambda row: row[line1_name] if row[line1_name] == row[line2_name] else 'diff', axis=1\n",
    "        )\n",
    "\n",
    "# train_data와 test_data 모두에 대해 함수 호출\n",
    "for stage in range(1, 4):\n",
    "    check_distance_speed(train_data, stage)\n",
    "    check_distance_speed(test_data, stage)"
   ]
  },
  {
   "cell_type": "code",
   "execution_count": 1132,
   "id": "ba83e4f4-f481-468c-9b97-e0cbe31ad381",
   "metadata": {},
   "outputs": [],
   "source": [
    "# train_data에서 변수들을 object 타입으로 변환\n",
    "train_data['stage1_line24_distance_speed_Dam'] = train_data['stage1_line24_distance_speed_Dam'].astype(object)\n",
    "train_data['stage2_line24_distance_speed_Dam'] = train_data['stage2_line24_distance_speed_Dam'].astype(object)\n",
    "train_data['stage3_line24_distance_speed_Dam'] = train_data['stage3_line24_distance_speed_Dam'].astype(object)\n",
    "\n",
    "# test_data에서 변수들을 object 타입으로 변환\n",
    "test_data['stage1_line24_distance_speed_Dam'] = test_data['stage1_line24_distance_speed_Dam'].astype(object)\n",
    "test_data['stage2_line24_distance_speed_Dam'] = test_data['stage2_line24_distance_speed_Dam'].astype(object)\n",
    "test_data['stage3_line24_distance_speed_Dam'] = test_data['stage3_line24_distance_speed_Dam'].astype(object)"
   ]
  },
  {
   "cell_type": "code",
   "execution_count": 1133,
   "id": "fbe85479-dc33-4121-a8ab-5cc3bd6b5006",
   "metadata": {},
   "outputs": [],
   "source": [
    "# 제거할 변수 목록\n",
    "columns_to_drop = [\n",
    "    'Stage1 Line1 Distance Speed Collect Result_Dam',\n",
    "    'Stage1 Line2 Distance Speed Collect Result_Dam',\n",
    "    'Stage1 Line3 Distance Speed Collect Result_Dam',\n",
    "    'Stage1 Line4 Distance Speed Collect Result_Dam',\n",
    "    \n",
    "    'Stage2 Line1 Distance Speed Collect Result_Dam',\n",
    "    'Stage2 Line2 Distance Speed Collect Result_Dam',\n",
    "    'Stage2 Line3 Distance Speed Collect Result_Dam',\n",
    "    'Stage2 Line4 Distance Speed Collect Result_Dam',\n",
    "    \n",
    "    'Stage3 Line1 Distance Speed Collect Result_Dam',\n",
    "    'Stage3 Line2 Distance Speed Collect Result_Dam',\n",
    "    'Stage3 Line3 Distance Speed Collect Result_Dam',\n",
    "    'Stage3 Line4 Distance Speed Collect Result_Dam'\n",
    "]\n",
    "\n",
    "# 변수 제거\n",
    "train_data.drop(columns=columns_to_drop, inplace=True)\n",
    "test_data.drop(columns=columns_to_drop, inplace=True)"
   ]
  },
  {
   "cell_type": "markdown",
   "id": "7d80796e-f6ac-434a-9ab6-e967ca205fe5",
   "metadata": {},
   "source": [
    "### 8. Thickness 변수"
   ]
  },
  {
   "cell_type": "code",
   "execution_count": 1134,
   "id": "769fdc40-d747-4671-b611-bab9d874055a",
   "metadata": {},
   "outputs": [],
   "source": [
    "# 세 개 컬럼의 평균을 계산하여 새로운 컬럼 생성\n",
    "train_data['average_thickness_Dam'] = train_data[['THICKNESS 1 Collect Result_Dam', \n",
    "                                                  'THICKNESS 2 Collect Result_Dam', \n",
    "                                                  'THICKNESS 3 Collect Result_Dam']].mean(axis=1)\n",
    "\n",
    "test_data['average_thickness_Dam'] = test_data[['THICKNESS 1 Collect Result_Dam', \n",
    "                                                'THICKNESS 2 Collect Result_Dam', \n",
    "                                                'THICKNESS 3 Collect Result_Dam']].mean(axis=1)"
   ]
  },
  {
   "cell_type": "code",
   "execution_count": 1135,
   "id": "f4663b3e",
   "metadata": {},
   "outputs": [
    {
     "data": {
      "text/plain": [
       "<Figure size 1000x500 with 0 Axes>"
      ]
     },
     "metadata": {},
     "output_type": "display_data"
    },
    {
     "data": {
      "image/png": "[encoded data removed]",
      "text/plain": [
       "<Figure size 640x480 with 1 Axes>"
      ]
     },
     "metadata": {},
     "output_type": "display_data"
    }
   ],
   "source": [
    "plot_ratio(train_data, 'average_thickness_Dam')"
   ]
  },
  {
   "cell_type": "code",
   "execution_count": 1136,
   "id": "9bb9b4ca-e018-4b75-aa27-eb85bd990683",
   "metadata": {},
   "outputs": [],
   "source": [
    "# 삭제할 컬럼 리스트\n",
    "columns_to_drop = [\n",
    "    'THICKNESS 1 Collect Result_Dam',\n",
    "    'THICKNESS 2 Collect Result_Dam',\n",
    "    'THICKNESS 3 Collect Result_Dam'\n",
    "]\n",
    "\n",
    "# 지정한 컬럼 삭제\n",
    "train_data.drop(columns=columns_to_drop, inplace=True)\n",
    "test_data.drop(columns=columns_to_drop, inplace=True)"
   ]
  },
  {
   "cell_type": "markdown",
   "id": "923c7b4d-1be0-431c-ab45-ff09a5e96f0f",
   "metadata": {},
   "source": [
    "### 9. Autoclave 관련 변수"
   ]
  },
  {
   "cell_type": "code",
   "execution_count": 1137,
   "id": "b1f89fb6-59bd-4203-8c2d-0b68548b1632",
   "metadata": {},
   "outputs": [],
   "source": [
    "# 각 압력과 시간의 곱을 담은 새로운 컬럼 생성\n",
    "train_data['1st_pressure_time_AutoClave'] = train_data['1st Pressure Collect Result_AutoClave'] * train_data['1st Pressure 1st Pressure Unit Time_AutoClave']\n",
    "train_data['2nd_pressure_time_AutoClave'] = train_data['2nd Pressure Collect Result_AutoClave'] * train_data['2nd Pressure Unit Time_AutoClave']\n",
    "train_data['3rd_pressure_time_AutoClave'] = train_data['3rd Pressure Collect Result_AutoClave'] * train_data['3rd Pressure Unit Time_AutoClave']\n",
    "\n",
    "train_data['avg_pressure_time_AutoClave'] = (train_data['1st_pressure_time_AutoClave'] +\n",
    "                                             train_data['2nd_pressure_time_AutoClave'] +\n",
    "                                             train_data['3rd_pressure_time_AutoClave']) / 3"
   ]
  },
  {
   "cell_type": "code",
   "execution_count": 1138,
   "id": "f53849fa-07d1-4d3e-a25d-79fa1a9525c2",
   "metadata": {},
   "outputs": [],
   "source": [
    "# 각 압력과 시간의 곱을 담은 새로운 컬럼 생성\n",
    "test_data['1st_pressure_time_AutoClave'] = test_data['1st Pressure Collect Result_AutoClave'] * test_data['1st Pressure 1st Pressure Unit Time_AutoClave']\n",
    "test_data['2nd_pressure_time_AutoClave'] = test_data['2nd Pressure Collect Result_AutoClave'] * test_data['2nd Pressure Unit Time_AutoClave']\n",
    "test_data['3rd_pressure_time_AutoClave'] = test_data['3rd Pressure Collect Result_AutoClave'] * test_data['3rd Pressure Unit Time_AutoClave']\n",
    "\n",
    "test_data['avg_pressure_time_AutoClave'] = (test_data['1st_pressure_time_AutoClave'] +\n",
    "                                             test_data['2nd_pressure_time_AutoClave'] +\n",
    "                                             test_data['3rd_pressure_time_AutoClave']) / 3"
   ]
  },
  {
   "cell_type": "code",
   "execution_count": 1139,
   "id": "96aca4aa",
   "metadata": {},
   "outputs": [
    {
     "data": {
      "image/png": "[encoded data removed]",
      "text/plain": [
       "<Figure size 1000x600 with 1 Axes>"
      ]
     },
     "metadata": {},
     "output_type": "display_data"
    }
   ],
   "source": [
    "plot_ratio_boxplot(train_data, 'avg_pressure_time_AutoClave')"
   ]
  },
  {
   "cell_type": "code",
   "execution_count": 1140,
   "id": "0cf9e13a-fada-448a-b045-3400cb9467e5",
   "metadata": {},
   "outputs": [],
   "source": [
    "# 삭제할 컬럼 리스트\n",
    "columns_to_drop = [\n",
    "    '1st Pressure Collect Result_AutoClave',\n",
    "    '1st Pressure 1st Pressure Unit Time_AutoClave',\n",
    "    '2nd Pressure Collect Result_AutoClave',\n",
    "    '2nd Pressure Unit Time_AutoClave',\n",
    "    '3rd Pressure Collect Result_AutoClave',\n",
    "    '3rd Pressure Unit Time_AutoClave',\n",
    "]\n",
    "\n",
    "# 지정한 컬럼 삭제\n",
    "train_data.drop(columns=columns_to_drop, inplace=True)\n",
    "test_data.drop(columns=columns_to_drop, inplace=True)"
   ]
  },
  {
   "cell_type": "markdown",
   "id": "f7e41272-4e95-40f2-832e-c7a4ad1d5460",
   "metadata": {},
   "source": [
    "### 10. Time 변수"
   ]
  },
  {
   "cell_type": "code",
   "execution_count": 1141,
   "id": "f9923c80-82b6-45e6-a2f0-032cb54c6c57",
   "metadata": {},
   "outputs": [],
   "source": [
    "# 총시간 대비 비율 변수\n",
    "def calculate_total_time_and_ratios(data):\n",
    "    data['total_time'] = (\n",
    "        data['Machine Tact time Collect Result_Dam'] +\n",
    "        data['Machine Tact time Collect Result_Fill1'] +\n",
    "        data['Machine Tact time Collect Result_Fill2'] +\n",
    "        data['Chamber Temp. Unit Time_AutoClave']\n",
    "    )\n",
    "    data['time_ratio_Dam'] = (data['Machine Tact time Collect Result_Dam'] / data['total_time']).round(3)\n",
    "    data['time_ratio_Fill1'] = (data['Machine Tact time Collect Result_Fill1'] / data['total_time']).round(3)\n",
    "    data['time_ratio_Fill2'] = (data['Machine Tact time Collect Result_Fill2'] / data['total_time']).round(3)\n",
    "    data['time_ratio_AutoClave'] = (data['Chamber Temp. Unit Time_AutoClave'] / data['total_time']).round(3)\n",
    "    return data\n",
    "\n",
    "# train_data와 test_data에 함수 적용\n",
    "train_data = calculate_total_time_and_ratios(train_data)\n",
    "test_data = calculate_total_time_and_ratios(test_data)"
   ]
  },
  {
   "cell_type": "code",
   "execution_count": 1142,
   "id": "e41870c8",
   "metadata": {},
   "outputs": [
    {
     "data": {
      "image/png": "[encoded data removed]",
      "text/plain": [
       "<Figure size 1000x600 with 1 Axes>"
      ]
     },
     "metadata": {},
     "output_type": "display_data"
    }
   ],
   "source": [
    "plot_ratio_boxplot(train_data, 'time_ratio_AutoClave')"
   ]
  },
  {
   "cell_type": "code",
   "execution_count": 1143,
   "id": "71df6a7f-21bf-4b8d-9def-75dd8a376b4b",
   "metadata": {},
   "outputs": [],
   "source": [
    "# 변수 제거\n",
    "train_data.drop(columns=[\n",
    "    'total_time'\n",
    "    , 'Machine Tact time Collect Result_Dam'\n",
    "    , 'Machine Tact time Collect Result_Fill1'\n",
    "    , 'Machine Tact time Collect Result_Fill2'\n",
    "    , 'Chamber Temp. Unit Time_AutoClave'], inplace=True)\n",
    "\n",
    "test_data.drop(columns=[\n",
    "    'total_time'\n",
    "    , 'Machine Tact time Collect Result_Dam'\n",
    "    , 'Machine Tact time Collect Result_Fill1'\n",
    "    , 'Machine Tact time Collect Result_Fill2'\n",
    "    , 'Chamber Temp. Unit Time_AutoClave'], inplace=True)"
   ]
  },
  {
   "cell_type": "markdown",
   "id": "5407c0d4-c6a4-4b05-9f23-6d5bbbd9eb0f",
   "metadata": {},
   "source": [
    "### 11. 변수 확인"
   ]
  },
  {
   "cell_type": "code",
   "execution_count": 1144,
   "id": "037c7017-2c2c-41d7-a126-0435efac77d8",
   "metadata": {},
   "outputs": [],
   "source": [
    "# 삭제할 변수 리스트\n",
    "columns_to_drop = [\n",
    "    'Chamber Temp. Judge Value_AutoClave', \n",
    "    'GMES_ORIGIN_INSP_JUDGE_CODE Collect Result_AutoClave', \n",
    "    'GMES_ORIGIN_INSP_JUDGE_CODE Judge Value_AutoClave'\n",
    "]\n",
    "\n",
    "train_data = train_data.drop(columns=columns_to_drop)\n",
    "test_data = test_data.drop(columns=columns_to_drop)"
   ]
  },
  {
   "cell_type": "code",
   "execution_count": 1145,
   "id": "9f949535-f844-493c-84df-48fe1bf57930",
   "metadata": {},
   "outputs": [
    {
     "name": "stdout",
     "output_type": "stream",
     "text": [
      "삭제된 train_data 열 개수: 37\n",
      "삭제된 test_data 열 개수: 37\n"
     ]
    }
   ],
   "source": [
    "# 값의 종류가 1개이고 결측값이 없는 열을 제거하는 함수\n",
    "def drop_single_value_columns(df):\n",
    "    cols_to_drop = [col for col in df.columns if col != 'target' and df[col].nunique() == 1 and df[col].isnull().sum() == 0]\n",
    "    df_dropped = df.drop(columns=cols_to_drop)\n",
    "    return df_dropped, cols_to_drop\n",
    "\n",
    "# train_data와 test_data에서 해당 열 제거 및 삭제된 열 이름과 개수 출력\n",
    "train_data, train_cols_dropped = drop_single_value_columns(train_data)\n",
    "test_data, test_cols_dropped = drop_single_value_columns(test_data)\n",
    "\n",
    "# print(\"삭제된 train_data 열 이름:\", train_cols_dropped)\n",
    "print(\"삭제된 train_data 열 개수:\", len(train_cols_dropped))\n",
    "\n",
    "# print(\"삭제된 test_data 열 이름:\", test_cols_dropped)\n",
    "print(\"삭제된 test_data 열 개수:\", len(test_cols_dropped))"
   ]
  },
  {
   "cell_type": "markdown",
   "id": "d88801ff-c9a9-45dd-825d-005dbf75943f",
   "metadata": {},
   "source": [
    "### 12. target encoding"
   ]
  },
  {
   "cell_type": "code",
   "execution_count": 1146,
   "id": "1b040b33-0137-4968-b99b-c632d1e8473a",
   "metadata": {},
   "outputs": [
    {
     "name": "stdout",
     "output_type": "stream",
     "text": [
      "Index(['model_suffix', 'target', 'Receip_No', 'cleaned_workorder',\n",
      "       'Equipment_num', 'PalletID_Collect_Result',\n",
      "       'Production_Qty_Collect_Result', 'cure_end_position_XZ_Fill2',\n",
      "       'cure_start_position_XZ_Fill2', 'cure_standby_position_XZ_Fill2',\n",
      "       'stage1_line13_distance_speed_Dam', 'stage1_line24_distance_speed_Dam',\n",
      "       'stage2_line13_distance_speed_Dam', 'stage2_line24_distance_speed_Dam',\n",
      "       'stage3_line13_distance_speed_Dam', 'stage3_line24_distance_speed_Dam'],\n",
      "      dtype='object')  train_object_columns 갯수 : 16\n",
      "Index(['Set ID', 'model_suffix', 'Receip_No', 'cleaned_workorder',\n",
      "       'Equipment_num', 'PalletID_Collect_Result',\n",
      "       'Production_Qty_Collect_Result', 'cure_end_position_XZ_Fill2',\n",
      "       'cure_start_position_XZ_Fill2', 'cure_standby_position_XZ_Fill2',\n",
      "       'stage1_line13_distance_speed_Dam', 'stage1_line24_distance_speed_Dam',\n",
      "       'stage2_line13_distance_speed_Dam', 'stage2_line24_distance_speed_Dam',\n",
      "       'stage3_line13_distance_speed_Dam', 'stage3_line24_distance_speed_Dam'],\n",
      "      dtype='object')  test_object_columns 갯수 : 16\n",
      "\n",
      "Train Data:\n",
      "model_suffix unique 값 갯수: 7\n",
      "target unique 값 갯수: 2\n",
      "Receip_No unique 값 갯수: 6\n",
      "cleaned_workorder unique 값 갯수: 568\n",
      "Equipment_num unique 값 갯수: 3\n",
      "PalletID_Collect_Result unique 값 갯수: 17\n",
      "Production_Qty_Collect_Result unique 값 갯수: 608\n",
      "cure_end_position_XZ_Fill2 unique 값 갯수: 4\n",
      "cure_start_position_XZ_Fill2 unique 값 갯수: 5\n",
      "cure_standby_position_XZ_Fill2 unique 값 갯수: 4\n",
      "stage1_line13_distance_speed_Dam unique 값 갯수: 9\n",
      "stage1_line24_distance_speed_Dam unique 값 갯수: 7\n",
      "stage2_line13_distance_speed_Dam unique 값 갯수: 9\n",
      "stage2_line24_distance_speed_Dam unique 값 갯수: 10\n",
      "stage3_line13_distance_speed_Dam unique 값 갯수: 9\n",
      "stage3_line24_distance_speed_Dam unique 값 갯수: 7\n",
      "\n",
      "Test Data:\n",
      "Set ID unique 값 갯수: 17361\n",
      "model_suffix unique 값 갯수: 7\n",
      "Receip_No unique 값 갯수: 5\n",
      "cleaned_workorder unique 값 갯수: 566\n",
      "Equipment_num unique 값 갯수: 3\n",
      "PalletID_Collect_Result unique 값 갯수: 17\n",
      "Production_Qty_Collect_Result unique 값 갯수: 572\n",
      "cure_end_position_XZ_Fill2 unique 값 갯수: 4\n",
      "cure_start_position_XZ_Fill2 unique 값 갯수: 5\n",
      "cure_standby_position_XZ_Fill2 unique 값 갯수: 4\n",
      "stage1_line13_distance_speed_Dam unique 값 갯수: 9\n",
      "stage1_line24_distance_speed_Dam unique 값 갯수: 7\n",
      "stage2_line13_distance_speed_Dam unique 값 갯수: 9\n",
      "stage2_line24_distance_speed_Dam unique 값 갯수: 10\n",
      "stage3_line13_distance_speed_Dam unique 값 갯수: 9\n",
      "stage3_line24_distance_speed_Dam unique 값 갯수: 7\n"
     ]
    }
   ],
   "source": [
    "# object 타입의 변수 출력\n",
    "train_object_columns = train_data.select_dtypes(include=['object']).columns\n",
    "test_object_columns = test_data.select_dtypes(include=['object']).columns\n",
    "\n",
    "print(train_object_columns, f\" train_object_columns 갯수 : {len(train_object_columns)}\")\n",
    "print(test_object_columns, f\" test_object_columns 갯수 : {len(test_object_columns)}\")\n",
    "\n",
    "# 각 object 변수의 고유 값 개수 출력\n",
    "print(\"\\nTrain Data:\")\n",
    "for col in train_object_columns:\n",
    "    unique_count = train_data[col].nunique()\n",
    "    print(f\"{col} unique 값 갯수: {unique_count}\")\n",
    "\n",
    "print(\"\\nTest Data:\")\n",
    "for col in test_object_columns:\n",
    "    unique_count = test_data[col].nunique()\n",
    "    print(f\"{col} unique 값 갯수: {unique_count}\")"
   ]
  },
  {
   "cell_type": "code",
   "execution_count": 1147,
   "id": "2e9822a2-42bc-499f-9c46-cc5e0289731d",
   "metadata": {},
   "outputs": [],
   "source": [
    "# 전체 평균 타겟 값 계산 (abnormal 전체 비율)\n",
    "train_data['target_01'] = train_data['target'].apply(lambda x: 1 if x == 'AbNormal' else 0)\n",
    "global_mean = train_data['target_01'].mean()"
   ]
  },
  {
   "cell_type": "code",
   "execution_count": 1148,
   "id": "a6c17701-dd06-4dcd-93ac-47558ef7f908",
   "metadata": {},
   "outputs": [],
   "source": [
    "# 적용할 열 리스트\n",
    "columns_to_encode = [\n",
    "    'Receip_No',\n",
    "    'model_suffix',\n",
    "    'cleaned_workorder',\n",
    "    'PalletID_Collect_Result',\n",
    "    'cure_end_position_XZ_Fill2',\n",
    "    'cure_start_position_XZ_Fill2',\n",
    "    'cure_standby_position_XZ_Fill2',\n",
    "    'stage1_line13_distance_speed_Dam',\n",
    "    'stage1_line24_distance_speed_Dam',\n",
    "    'stage2_line13_distance_speed_Dam',\n",
    "    'stage2_line24_distance_speed_Dam',\n",
    "    'stage3_line13_distance_speed_Dam',\n",
    "    'stage3_line24_distance_speed_Dam',\n",
    "    # 추가\n",
    "    'Equipment_num',                             \n",
    "    'Production_Qty_Collect_Result'    \n",
    "\n",
    "        \n",
    "]\n",
    "\n",
    "# 전체 데이터의 평균 타겟값\n",
    "global_mean = train_data['target_01'].mean()\n",
    "\n",
    "for column in columns_to_encode:\n",
    "    # 각 column에 대한 평균 타겟값과 카운트 계산\n",
    "    target_mean = train_data.groupby(column)['target_01'].mean()\n",
    "    count = train_data.groupby(column)['target_01'].count()\n",
    "\n",
    "    # 스무딩 적용\n",
    "    '''\n",
    "    추천 알파 값:\n",
    "    0.5: 일반적으로 많이 사용되는 값으로, 기존 데이터와 전체 평균 간의 균형을 잘 맞춰줍니다.\n",
    "    0.3: 데이터가 충분히 많고 각 카테고리의 타겟 값이 잘 분포되어 있을 때 사용.\n",
    "    0.7: 데이터가 적거나 특정 카테고리가 상대적으로 적을 때 사용.\n",
    "    '''\n",
    "    alpha = 0.5\n",
    "    smoothed_values = (target_mean * count + global_mean * alpha) / (count + alpha)\n",
    "\n",
    "    # 인코딩된 값을 데이터프레임에 추가\n",
    "    train_data[f'{column}_encoded'] = train_data[column].map(smoothed_values)\n",
    "\n",
    "    # test_data에 동일한 인코딩 값을 추가\n",
    "    encoding_dict = train_data.groupby(column)[f'{column}_encoded'].first().to_dict()\n",
    "    test_data[f'{column}_encoded'] = test_data[column].map(encoding_dict)"
   ]
  },
  {
   "cell_type": "code",
   "execution_count": 1149,
   "id": "0326880b-fcdd-493f-8bda-b53932d5313d",
   "metadata": {},
   "outputs": [],
   "source": [
    "# 삭제할 열 리스트\n",
    "columns_to_drop = [\n",
    "    'target_01',\n",
    "    'Receip_No',\n",
    "    'model_suffix',\n",
    "    'cleaned_workorder',\n",
    "    'PalletID_Collect_Result',\n",
    "    'cure_end_position_XZ_Fill2',\n",
    "    'cure_start_position_XZ_Fill2',\n",
    "    'cure_standby_position_XZ_Fill2',\n",
    "    'stage1_line13_distance_speed_Dam',\n",
    "    'stage1_line24_distance_speed_Dam',\n",
    "    'stage2_line13_distance_speed_Dam',\n",
    "    'stage2_line24_distance_speed_Dam',\n",
    "    'stage3_line13_distance_speed_Dam',\n",
    "    'stage3_line24_distance_speed_Dam',\n",
    "    # 추가\n",
    "    'Equipment_num',                             \n",
    "    'Production_Qty_Collect_Result'    \n",
    "]\n",
    "\n",
    "# train_data와 test_data에서 열 드랍\n",
    "train_data = train_data.drop(columns=columns_to_drop, errors='ignore')\n",
    "test_data = test_data.drop(columns=columns_to_drop, errors='ignore')"
   ]
  },
  {
   "cell_type": "code",
   "execution_count": 1150,
   "id": "22bf67fd",
   "metadata": {},
   "outputs": [],
   "source": [
    "# target 열을 제외한 나머지 열의 결측치를 0.05로 채우기\n",
    "test_data.fillna(value={col: 0.05 for col in test_data.columns if col != 'target'}, inplace=True)"
   ]
  },
  {
   "cell_type": "code",
   "execution_count": 1151,
   "id": "25c940cd-54ae-4277-b259-dee92b98f837",
   "metadata": {
    "scrolled": true
   },
   "outputs": [
    {
     "name": "stdout",
     "output_type": "stream",
     "text": [
      "<class 'pandas.core.frame.DataFrame'>\n",
      "RangeIndex: 40506 entries, 0 to 40505\n",
      "Data columns (total 57 columns):\n",
      " #   Column                                          Non-Null Count  Dtype  \n",
      "---  ------                                          --------------  -----  \n",
      " 0   CURE SPEED Collect Result_Dam                   40506 non-null  int64  \n",
      " 1   DISCHARGED SPEED OF RESIN Collect Result_Dam    40506 non-null  int64  \n",
      " 2   Head Clean Position Z Collect Result_Dam        40506 non-null  float64\n",
      " 3   Head Purge Position Z Collect Result_Dam        40506 non-null  float64\n",
      " 4   Head Zero Position Y Collect Result_Dam         40506 non-null  float64\n",
      " 5   Stage1_Circle_Distance_Speed_Dam                40506 non-null  int64  \n",
      " 6   Stage2_Circle_Distance_Speed_Dam                40506 non-null  int64  \n",
      " 7   Stage3_Circle_Distance_Speed_Dam                40506 non-null  int64  \n",
      " 8   WorkMode Collect Result                         40506 non-null  float64\n",
      " 9   Chamber Temp. Collect Result_AutoClave          40506 non-null  int64  \n",
      " 10  DISCHARGED SPEED OF RESIN Collect Result_Fill1  40506 non-null  float64\n",
      " 11  Head Purge Position Z Collect Result_Fill1      40506 non-null  float64\n",
      " 12  CURE SPEED Collect Result_Fill2                 40506 non-null  int64  \n",
      " 13  Head Purge Position Z Collect Result_Fill2      40506 non-null  float64\n",
      " 14  target                                          40506 non-null  object \n",
      " 15  CURE_DISTANCE_Dam                               40506 non-null  float64\n",
      " 16  HEAD NORMAL DISTANCE_STAGE1_STAGE3_Dam          40506 non-null  float64\n",
      " 17  HEAD NORMAL DISTANCE_TRIANGLE_area_Dam          40506 non-null  float64\n",
      " 18  HEAD NORMAL DISTANCE_TRIANGLE_height_Dam        40506 non-null  float64\n",
      " 19  HEAD NORMAL DISTANCE_STAGE1_STAGE3_Fill1        40506 non-null  float64\n",
      " 20  HEAD NORMAL DISTANCE_TRIANGLE_area_Fill1        40506 non-null  float64\n",
      " 21  HEAD NORMAL DISTANCE_TRIANGLE_height_Fill1      40506 non-null  float64\n",
      " 22  HEAD NORMAL DISTANCE_STAGE1_STAGE2_Fill2        40506 non-null  float64\n",
      " 23  HEAD NORMAL DISTANCE_STAGE2_STAGE3_Fill2        40506 non-null  float64\n",
      " 24  HEAD NORMAL DISTANCE_STAGE1_STAGE3_Fill2        40506 non-null  float64\n",
      " 25  volume_time_multip_stage1_Dam                   40506 non-null  float64\n",
      " 26  volume_time_multip_stage2_Dam                   40506 non-null  float64\n",
      " 27  volume_time_multip_stage3_Dam                   40506 non-null  float64\n",
      " 28  volume_time_multip_avg_Dam                      40506 non-null  float64\n",
      " 29  volume_time_multip_stage1_Fill1                 40506 non-null  float64\n",
      " 30  volume_time_multip_stage2_Fill1                 40506 non-null  float64\n",
      " 31  volume_time_multip_stage3_Fill1                 40506 non-null  float64\n",
      " 32  volume_time_multip_avg_Fill1                    40506 non-null  float64\n",
      " 33  average_thickness_Dam                           40506 non-null  float64\n",
      " 34  1st_pressure_time_AutoClave                     40506 non-null  float64\n",
      " 35  2nd_pressure_time_AutoClave                     40506 non-null  float64\n",
      " 36  3rd_pressure_time_AutoClave                     40506 non-null  float64\n",
      " 37  avg_pressure_time_AutoClave                     40506 non-null  float64\n",
      " 38  time_ratio_Dam                                  40506 non-null  float64\n",
      " 39  time_ratio_Fill1                                40506 non-null  float64\n",
      " 40  time_ratio_Fill2                                40506 non-null  float64\n",
      " 41  time_ratio_AutoClave                            40506 non-null  float64\n",
      " 42  Receip_No_encoded                               40506 non-null  float64\n",
      " 43  model_suffix_encoded                            40506 non-null  float64\n",
      " 44  cleaned_workorder_encoded                       40506 non-null  float64\n",
      " 45  PalletID_Collect_Result_encoded                 40506 non-null  float64\n",
      " 46  cure_end_position_XZ_Fill2_encoded              40506 non-null  float64\n",
      " 47  cure_start_position_XZ_Fill2_encoded            40506 non-null  float64\n",
      " 48  cure_standby_position_XZ_Fill2_encoded          40506 non-null  float64\n",
      " 49  stage1_line13_distance_speed_Dam_encoded        40506 non-null  float64\n",
      " 50  stage1_line24_distance_speed_Dam_encoded        40506 non-null  float64\n",
      " 51  stage2_line13_distance_speed_Dam_encoded        40506 non-null  float64\n",
      " 52  stage2_line24_distance_speed_Dam_encoded        40506 non-null  float64\n",
      " 53  stage3_line13_distance_speed_Dam_encoded        40506 non-null  float64\n",
      " 54  stage3_line24_distance_speed_Dam_encoded        40506 non-null  float64\n",
      " 55  Equipment_num_encoded                           40506 non-null  float64\n",
      " 56  Production_Qty_Collect_Result_encoded           40506 non-null  float64\n",
      "dtypes: float64(49), int64(7), object(1)\n",
      "memory usage: 17.6+ MB\n"
     ]
    }
   ],
   "source": [
    "# info 잘리지 않게 출력\n",
    "train_data.info(verbose=True)"
   ]
  },
  {
   "cell_type": "code",
   "execution_count": 1152,
   "id": "ae3dd21b-7dcb-4150-9eb4-37fe114ba4bb",
   "metadata": {
    "scrolled": true
   },
   "outputs": [
    {
     "name": "stdout",
     "output_type": "stream",
     "text": [
      "<class 'pandas.core.frame.DataFrame'>\n",
      "RangeIndex: 17361 entries, 0 to 17360\n",
      "Data columns (total 58 columns):\n",
      " #   Column                                          Non-Null Count  Dtype  \n",
      "---  ------                                          --------------  -----  \n",
      " 0   Set ID                                          17361 non-null  object \n",
      " 1   CURE SPEED Collect Result_Dam                   17361 non-null  int64  \n",
      " 2   DISCHARGED SPEED OF RESIN Collect Result_Dam    17361 non-null  int64  \n",
      " 3   Head Clean Position Z Collect Result_Dam        17361 non-null  float64\n",
      " 4   Head Purge Position Z Collect Result_Dam        17361 non-null  float64\n",
      " 5   Head Zero Position Y Collect Result_Dam         17361 non-null  float64\n",
      " 6   Stage1_Circle_Distance_Speed_Dam                17361 non-null  int64  \n",
      " 7   Stage2_Circle_Distance_Speed_Dam                17361 non-null  int64  \n",
      " 8   Stage3_Circle_Distance_Speed_Dam                17361 non-null  int64  \n",
      " 9   WorkMode Collect Result                         17361 non-null  float64\n",
      " 10  Chamber Temp. Collect Result_AutoClave          17361 non-null  int64  \n",
      " 11  DISCHARGED SPEED OF RESIN Collect Result_Fill1  17361 non-null  float64\n",
      " 12  Head Purge Position Z Collect Result_Fill1      17361 non-null  float64\n",
      " 13  CURE SPEED Collect Result_Fill2                 17361 non-null  int64  \n",
      " 14  Head Purge Position Z Collect Result_Fill2      17361 non-null  float64\n",
      " 15  target                                          0 non-null      float64\n",
      " 16  CURE_DISTANCE_Dam                               17361 non-null  float64\n",
      " 17  HEAD NORMAL DISTANCE_STAGE1_STAGE3_Dam          17361 non-null  float64\n",
      " 18  HEAD NORMAL DISTANCE_TRIANGLE_area_Dam          17361 non-null  float64\n",
      " 19  HEAD NORMAL DISTANCE_TRIANGLE_height_Dam        17361 non-null  float64\n",
      " 20  HEAD NORMAL DISTANCE_STAGE1_STAGE3_Fill1        17361 non-null  float64\n",
      " 21  HEAD NORMAL DISTANCE_TRIANGLE_area_Fill1        17361 non-null  float64\n",
      " 22  HEAD NORMAL DISTANCE_TRIANGLE_height_Fill1      17361 non-null  float64\n",
      " 23  HEAD NORMAL DISTANCE_STAGE1_STAGE2_Fill2        17361 non-null  float64\n",
      " 24  HEAD NORMAL DISTANCE_STAGE2_STAGE3_Fill2        17361 non-null  float64\n",
      " 25  HEAD NORMAL DISTANCE_STAGE1_STAGE3_Fill2        17361 non-null  float64\n",
      " 26  volume_time_multip_stage1_Dam                   17361 non-null  float64\n",
      " 27  volume_time_multip_stage2_Dam                   17361 non-null  float64\n",
      " 28  volume_time_multip_stage3_Dam                   17361 non-null  float64\n",
      " 29  volume_time_multip_avg_Dam                      17361 non-null  float64\n",
      " 30  volume_time_multip_stage1_Fill1                 17361 non-null  float64\n",
      " 31  volume_time_multip_stage2_Fill1                 17361 non-null  float64\n",
      " 32  volume_time_multip_stage3_Fill1                 17361 non-null  float64\n",
      " 33  volume_time_multip_avg_Fill1                    17361 non-null  float64\n",
      " 34  average_thickness_Dam                           17361 non-null  float64\n",
      " 35  1st_pressure_time_AutoClave                     17361 non-null  float64\n",
      " 36  2nd_pressure_time_AutoClave                     17361 non-null  float64\n",
      " 37  3rd_pressure_time_AutoClave                     17361 non-null  float64\n",
      " 38  avg_pressure_time_AutoClave                     17361 non-null  float64\n",
      " 39  time_ratio_Dam                                  17361 non-null  float64\n",
      " 40  time_ratio_Fill1                                17361 non-null  float64\n",
      " 41  time_ratio_Fill2                                17361 non-null  float64\n",
      " 42  time_ratio_AutoClave                            17361 non-null  float64\n",
      " 43  Receip_No_encoded                               17361 non-null  float64\n",
      " 44  model_suffix_encoded                            17361 non-null  float64\n",
      " 45  cleaned_workorder_encoded                       17361 non-null  float64\n",
      " 46  PalletID_Collect_Result_encoded                 17361 non-null  float64\n",
      " 47  cure_end_position_XZ_Fill2_encoded              17361 non-null  float64\n",
      " 48  cure_start_position_XZ_Fill2_encoded            17361 non-null  float64\n",
      " 49  cure_standby_position_XZ_Fill2_encoded          17361 non-null  float64\n",
      " 50  stage1_line13_distance_speed_Dam_encoded        17361 non-null  float64\n",
      " 51  stage1_line24_distance_speed_Dam_encoded        17361 non-null  float64\n",
      " 52  stage2_line13_distance_speed_Dam_encoded        17361 non-null  float64\n",
      " 53  stage2_line24_distance_speed_Dam_encoded        17361 non-null  float64\n",
      " 54  stage3_line13_distance_speed_Dam_encoded        17361 non-null  float64\n",
      " 55  stage3_line24_distance_speed_Dam_encoded        17361 non-null  float64\n",
      " 56  Equipment_num_encoded                           17361 non-null  float64\n",
      " 57  Production_Qty_Collect_Result_encoded           17361 non-null  float64\n",
      "dtypes: float64(50), int64(7), object(1)\n",
      "memory usage: 7.7+ MB\n"
     ]
    }
   ],
   "source": [
    "# info 잘리지 않게 출력\n",
    "test_data.info(verbose=True)"
   ]
  },
  {
   "cell_type": "markdown",
   "id": "e877efc6-7851-408a-99b4-a0f8bc9bcad1",
   "metadata": {},
   "source": [
    "### 13. correlation"
   ]
  },
  {
   "cell_type": "code",
   "execution_count": 1153,
   "id": "ca33a0a4-7be6-4244-85ad-019d5807eb09",
   "metadata": {},
   "outputs": [],
   "source": [
    "# dam, fill1, fill2 공통 변수\n",
    "var_dam_fill = [\n",
    "    'Receip_No_encoded',\n",
    "    'Equipment_num_encoded',\n",
    "    'PalletID_Collect_Result_encoded',\n",
    "    'Production_Qty_Collect_Result_encoded',\n",
    "    'WorkMode Collect Result'\n",
    "]"
   ]
  },
  {
   "cell_type": "code",
   "execution_count": 1154,
   "id": "45924c5c-f6be-4b17-87ff-9c414a6c8323",
   "metadata": {},
   "outputs": [],
   "source": [
    "# 전체 공통 변수\n",
    "### correlation 확인을 위한 변수 리스트\n",
    "var_all_corr = [\n",
    "    'model_suffix_encoded',\n",
    "    'cleaned_workorder_encoded'\n",
    "]\n",
    "\n",
    "### train\n",
    "var_all_train = [\n",
    "    'target',\n",
    "    'model_suffix_encoded',\n",
    "    'cleaned_workorder_encoded'\n",
    "]\n",
    "\n",
    "### test\n",
    "var_all_test = [\n",
    "    'Set ID',\n",
    "    'target',\n",
    "    'model_suffix_encoded',\n",
    "    'cleaned_workorder_encoded'\n",
    "]"
   ]
  },
  {
   "cell_type": "markdown",
   "id": "060b5986-ccde-4df4-bc02-c9812daeaaf4",
   "metadata": {},
   "source": [
    "- dam"
   ]
  },
  {
   "cell_type": "code",
   "execution_count": 1155,
   "id": "ccc357da-1f9b-45ca-a63c-66530ad718ed",
   "metadata": {},
   "outputs": [
    {
     "data": {
      "text/plain": [
       "['Receip_No_encoded',\n",
       " 'Equipment_num_encoded',\n",
       " 'PalletID_Collect_Result_encoded',\n",
       " 'Production_Qty_Collect_Result_encoded',\n",
       " 'WorkMode Collect Result',\n",
       " 'model_suffix_encoded',\n",
       " 'cleaned_workorder_encoded',\n",
       " 'CURE SPEED Collect Result_Dam',\n",
       " 'DISCHARGED SPEED OF RESIN Collect Result_Dam',\n",
       " 'Head Clean Position Z Collect Result_Dam',\n",
       " 'Head Purge Position Z Collect Result_Dam',\n",
       " 'Head Zero Position Y Collect Result_Dam',\n",
       " 'Stage1_Circle_Distance_Speed_Dam',\n",
       " 'Stage2_Circle_Distance_Speed_Dam',\n",
       " 'Stage3_Circle_Distance_Speed_Dam',\n",
       " 'CURE_DISTANCE_Dam',\n",
       " 'HEAD NORMAL DISTANCE_STAGE1_STAGE3_Dam',\n",
       " 'HEAD NORMAL DISTANCE_TRIANGLE_area_Dam',\n",
       " 'HEAD NORMAL DISTANCE_TRIANGLE_height_Dam',\n",
       " 'volume_time_multip_stage1_Dam',\n",
       " 'volume_time_multip_stage2_Dam',\n",
       " 'volume_time_multip_stage3_Dam',\n",
       " 'volume_time_multip_avg_Dam',\n",
       " 'average_thickness_Dam',\n",
       " 'time_ratio_Dam',\n",
       " 'stage1_line13_distance_speed_Dam_encoded',\n",
       " 'stage1_line24_distance_speed_Dam_encoded',\n",
       " 'stage2_line13_distance_speed_Dam_encoded',\n",
       " 'stage2_line24_distance_speed_Dam_encoded',\n",
       " 'stage3_line13_distance_speed_Dam_encoded',\n",
       " 'stage3_line24_distance_speed_Dam_encoded']"
      ]
     },
     "execution_count": 1155,
     "metadata": {},
     "output_type": "execute_result"
    }
   ],
   "source": [
    "# 상관관계를 확인할 데이터셋\n",
    "combined_variables = var_dam_fill + var_all_corr + [var for var in train_data.columns if '_Dam' in var]\n",
    "combined_variables"
   ]
  },
  {
   "cell_type": "code",
   "execution_count": 1159,
   "id": "8f3b4213-f3cd-4b1b-a443-33f0ef7c116e",
   "metadata": {},
   "outputs": [],
   "source": [
    "variables = ['Receip_No_encoded',\n",
    " 'Equipment_num_encoded',   \n",
    " 'PalletID_Collect_Result_encoded',\n",
    " 'Production_Qty_Collect_Result_encoded',\n",
    " 'WorkMode Collect Result',\n",
    " 'model_suffix_encoded',\n",
    " 'cleaned_workorder_encoded',\n",
    " 'CURE SPEED Collect Result_Dam',\n",
    " 'DISCHARGED SPEED OF RESIN Collect Result_Dam',\n",
    " 'Head Clean Position Z Collect Result_Dam',\n",
    " 'Head Purge Position Z Collect Result_Dam',\n",
    " 'Head Zero Position Y Collect Result_Dam',\n",
    " #'Stage1_Circle_Distance_Speed_Dam',\n",
    " 'Stage2_Circle_Distance_Speed_Dam',\n",
    " #'Stage3_Circle_Distance_Speed_Dam',\n",
    " 'CURE_DISTANCE_Dam',\n",
    " #'HEAD NORMAL DISTANCE_TRIANGLE_area_Dam',\n",
    " 'HEAD NORMAL DISTANCE_TRIANGLE_height_Dam',\n",
    " 'volume_time_multip_stage1_Dam',\n",
    " 'volume_time_multip_stage2_Dam',\n",
    " #'volume_time_multip_stage3_Dam',\n",
    " #'volume_time_multip_avg_Dam',\n",
    " 'average_thickness_Dam',\n",
    " 'time_ratio_Dam',\n",
    " #'stage1_line13_distance_speed_Dam_encoded',\n",
    " 'stage1_line24_distance_speed_Dam_encoded',\n",
    " #'stage2_line13_distance_speed_Dam_encoded',\n",
    " 'stage2_line24_distance_speed_Dam_encoded',\n",
    " #'stage3_line13_distance_speed_Dam_encoded',\n",
    " #'stage3_line24_distance_speed_Dam_encoded',\n",
    " 'HEAD NORMAL DISTANCE_STAGE1_STAGE3_Dam']\n",
    "\n",
    "# 변수들로만 이루어진 DataFrame 생성\n",
    "filtered_data = train_data[variables]"
   ]
  },
  {
   "cell_type": "code",
   "execution_count": 1160,
   "id": "191577f3-3bf0-40c3-a84c-17a36794e491",
   "metadata": {},
   "outputs": [
    {
     "name": "stdout",
     "output_type": "stream",
     "text": [
      "Empty DataFrame\n",
      "Columns: [Variable 1, Variable 2, Correlation]\n",
      "Index: []\n"
     ]
    }
   ],
   "source": [
    "# 자기자신을 제외하고 상관관계 절댓값이 0.9 이상인 조합 찾기\n",
    "correlation_matrix = filtered_data.corr()\n",
    "strong_correlations = correlation_matrix[(correlation_matrix.abs() >= 0.9) & (correlation_matrix != 1)]\n",
    "\n",
    "# 리스트로 변환\n",
    "strong_correlations_pairs = strong_correlations.stack().reset_index()\n",
    "strong_correlations_pairs.columns = ['Variable 1', 'Variable 2', 'Correlation']\n",
    "\n",
    "# 결과 출력\n",
    "print(strong_correlations_pairs)"
   ]
  },
  {
   "cell_type": "code",
   "execution_count": 1161,
   "id": "e46e96d2-e4ce-4700-accf-ee19b5c8a01e",
   "metadata": {},
   "outputs": [],
   "source": [
    "# 드랍할 열 목록\n",
    "columns_to_drop = [\n",
    "    'Stage1_Circle_Distance_Speed_Dam',\n",
    "    'Stage3_Circle_Distance_Speed_Dam',\n",
    "    'HEAD NORMAL DISTANCE_TRIANGLE_area_Dam',\n",
    "    'stage1_line24_distance_speed_Dam_encoded',\n",
    "    'stage2_line13_distance_speed_Dam_encoded',\n",
    "    'stage3_line13_distance_speed_Dam_encoded',\n",
    "    'stage3_line24_distance_speed_Dam_encoded',\n",
    "    'volume_time_multip_stage3_Dam',\n",
    "    'volume_time_multip_avg_Dam'\n",
    "]\n",
    "\n",
    "# 열 삭제\n",
    "train_data.drop(columns=columns_to_drop, inplace=True, errors='ignore')\n",
    "test_data.drop(columns=columns_to_drop, inplace=True, errors='ignore')"
   ]
  },
  {
   "cell_type": "code",
   "execution_count": 1162,
   "id": "546c8eb3-b124-4668-a421-3d80a4614070",
   "metadata": {},
   "outputs": [],
   "source": [
    "# '_Dam'을 포함하는 변수 선택\n",
    "dam_variables = [var for var in train_data.columns if '_Dam' in var]\n",
    "\n",
    "# train\n",
    "final_columns_train = var_dam_fill + var_all_train + dam_variables\n",
    "train_data_dam = train_data[final_columns_train]\n",
    "\n",
    "# test \n",
    "final_columns_test = var_dam_fill + var_all_test + dam_variables\n",
    "test_data_dam = test_data[final_columns_test]"
   ]
  },
  {
   "cell_type": "code",
   "execution_count": 1163,
   "id": "06ebb3fc-5dca-467b-a339-10dc195f6fd4",
   "metadata": {},
   "outputs": [
    {
     "name": "stdout",
     "output_type": "stream",
     "text": [
      "<class 'pandas.core.frame.DataFrame'>\n",
      "RangeIndex: 40506 entries, 0 to 40505\n",
      "Data columns (total 23 columns):\n",
      " #   Column                                        Non-Null Count  Dtype  \n",
      "---  ------                                        --------------  -----  \n",
      " 0   Receip_No_encoded                             40506 non-null  float64\n",
      " 1   Equipment_num_encoded                         40506 non-null  float64\n",
      " 2   PalletID_Collect_Result_encoded               40506 non-null  float64\n",
      " 3   Production_Qty_Collect_Result_encoded         40506 non-null  float64\n",
      " 4   WorkMode Collect Result                       40506 non-null  float64\n",
      " 5   target                                        40506 non-null  object \n",
      " 6   model_suffix_encoded                          40506 non-null  float64\n",
      " 7   cleaned_workorder_encoded                     40506 non-null  float64\n",
      " 8   CURE SPEED Collect Result_Dam                 40506 non-null  int64  \n",
      " 9   DISCHARGED SPEED OF RESIN Collect Result_Dam  40506 non-null  int64  \n",
      " 10  Head Clean Position Z Collect Result_Dam      40506 non-null  float64\n",
      " 11  Head Purge Position Z Collect Result_Dam      40506 non-null  float64\n",
      " 12  Head Zero Position Y Collect Result_Dam       40506 non-null  float64\n",
      " 13  Stage2_Circle_Distance_Speed_Dam              40506 non-null  int64  \n",
      " 14  CURE_DISTANCE_Dam                             40506 non-null  float64\n",
      " 15  HEAD NORMAL DISTANCE_STAGE1_STAGE3_Dam        40506 non-null  float64\n",
      " 16  HEAD NORMAL DISTANCE_TRIANGLE_height_Dam      40506 non-null  float64\n",
      " 17  volume_time_multip_stage1_Dam                 40506 non-null  float64\n",
      " 18  volume_time_multip_stage2_Dam                 40506 non-null  float64\n",
      " 19  average_thickness_Dam                         40506 non-null  float64\n",
      " 20  time_ratio_Dam                                40506 non-null  float64\n",
      " 21  stage1_line13_distance_speed_Dam_encoded      40506 non-null  float64\n",
      " 22  stage2_line24_distance_speed_Dam_encoded      40506 non-null  float64\n",
      "dtypes: float64(19), int64(3), object(1)\n",
      "memory usage: 7.1+ MB\n"
     ]
    }
   ],
   "source": [
    "train_data_dam.info()"
   ]
  },
  {
   "cell_type": "code",
   "execution_count": 1164,
   "id": "55af86b5-3648-403e-a628-5f9338d2b558",
   "metadata": {},
   "outputs": [
    {
     "name": "stdout",
     "output_type": "stream",
     "text": [
      "<class 'pandas.core.frame.DataFrame'>\n",
      "RangeIndex: 17361 entries, 0 to 17360\n",
      "Data columns (total 24 columns):\n",
      " #   Column                                        Non-Null Count  Dtype  \n",
      "---  ------                                        --------------  -----  \n",
      " 0   Receip_No_encoded                             17361 non-null  float64\n",
      " 1   Equipment_num_encoded                         17361 non-null  float64\n",
      " 2   PalletID_Collect_Result_encoded               17361 non-null  float64\n",
      " 3   Production_Qty_Collect_Result_encoded         17361 non-null  float64\n",
      " 4   WorkMode Collect Result                       17361 non-null  float64\n",
      " 5   Set ID                                        17361 non-null  object \n",
      " 6   target                                        0 non-null      float64\n",
      " 7   model_suffix_encoded                          17361 non-null  float64\n",
      " 8   cleaned_workorder_encoded                     17361 non-null  float64\n",
      " 9   CURE SPEED Collect Result_Dam                 17361 non-null  int64  \n",
      " 10  DISCHARGED SPEED OF RESIN Collect Result_Dam  17361 non-null  int64  \n",
      " 11  Head Clean Position Z Collect Result_Dam      17361 non-null  float64\n",
      " 12  Head Purge Position Z Collect Result_Dam      17361 non-null  float64\n",
      " 13  Head Zero Position Y Collect Result_Dam       17361 non-null  float64\n",
      " 14  Stage2_Circle_Distance_Speed_Dam              17361 non-null  int64  \n",
      " 15  CURE_DISTANCE_Dam                             17361 non-null  float64\n",
      " 16  HEAD NORMAL DISTANCE_STAGE1_STAGE3_Dam        17361 non-null  float64\n",
      " 17  HEAD NORMAL DISTANCE_TRIANGLE_height_Dam      17361 non-null  float64\n",
      " 18  volume_time_multip_stage1_Dam                 17361 non-null  float64\n",
      " 19  volume_time_multip_stage2_Dam                 17361 non-null  float64\n",
      " 20  average_thickness_Dam                         17361 non-null  float64\n",
      " 21  time_ratio_Dam                                17361 non-null  float64\n",
      " 22  stage1_line13_distance_speed_Dam_encoded      17361 non-null  float64\n",
      " 23  stage2_line24_distance_speed_Dam_encoded      17361 non-null  float64\n",
      "dtypes: float64(20), int64(3), object(1)\n",
      "memory usage: 3.2+ MB\n"
     ]
    }
   ],
   "source": [
    "test_data_dam.info()"
   ]
  },
  {
   "cell_type": "markdown",
   "id": "55b7ec95-7c4b-4dd3-a4ee-071014866652",
   "metadata": {},
   "source": [
    "- fill1"
   ]
  },
  {
   "cell_type": "code",
   "execution_count": 1165,
   "id": "954ac003-7985-46ce-bfda-ab7faf341348",
   "metadata": {},
   "outputs": [
    {
     "data": {
      "text/plain": [
       "['Receip_No_encoded',\n",
       " 'Equipment_num_encoded',\n",
       " 'PalletID_Collect_Result_encoded',\n",
       " 'Production_Qty_Collect_Result_encoded',\n",
       " 'WorkMode Collect Result',\n",
       " 'model_suffix_encoded',\n",
       " 'cleaned_workorder_encoded',\n",
       " 'DISCHARGED SPEED OF RESIN Collect Result_Fill1',\n",
       " 'Head Purge Position Z Collect Result_Fill1',\n",
       " 'HEAD NORMAL DISTANCE_STAGE1_STAGE3_Fill1',\n",
       " 'HEAD NORMAL DISTANCE_TRIANGLE_area_Fill1',\n",
       " 'HEAD NORMAL DISTANCE_TRIANGLE_height_Fill1',\n",
       " 'volume_time_multip_stage1_Fill1',\n",
       " 'volume_time_multip_stage2_Fill1',\n",
       " 'volume_time_multip_stage3_Fill1',\n",
       " 'volume_time_multip_avg_Fill1',\n",
       " 'time_ratio_Fill1']"
      ]
     },
     "execution_count": 1165,
     "metadata": {},
     "output_type": "execute_result"
    }
   ],
   "source": [
    "# 상관관계를 확인할 데이터셋\n",
    "combined_variables = var_dam_fill + var_all_corr + [var for var in train_data.columns if '_Fill1' in var]\n",
    "combined_variables"
   ]
  },
  {
   "cell_type": "code",
   "execution_count": 1166,
   "id": "12fb0b0a-ebf3-42a5-9d69-8032db061a59",
   "metadata": {},
   "outputs": [],
   "source": [
    "variables = ['Receip_No_encoded',\n",
    " 'Equipment_num_encoded',   \n",
    " 'PalletID_Collect_Result_encoded',\n",
    " 'Production_Qty_Collect_Result_encoded',\n",
    " 'WorkMode Collect Result',\n",
    " 'model_suffix_encoded',\n",
    " 'cleaned_workorder_encoded',\n",
    " 'DISCHARGED SPEED OF RESIN Collect Result_Fill1',\n",
    " 'Head Purge Position Z Collect Result_Fill1',\n",
    " 'HEAD NORMAL DISTANCE_STAGE1_STAGE3_Fill1',\n",
    " #'HEAD NORMAL DISTANCE_TRIANGLE_area_Fill1',\n",
    " 'HEAD NORMAL DISTANCE_TRIANGLE_height_Fill1',\n",
    " #'volume_time_multip_avg_Fill1',\n",
    " 'volume_time_multip_stage1_Fill1',\n",
    " #'volume_time_multip_stage2_Fill1',\n",
    " #'volume_time_multip_stage3_Fill1',\n",
    " 'time_ratio_Fill1']\n",
    "\n",
    "# 변수들로만 이루어진 DataFrame 생성\n",
    "filtered_data = train_data[variables]"
   ]
  },
  {
   "cell_type": "code",
   "execution_count": 1167,
   "id": "99c6f69f-b57e-4c54-a42b-7f81a9fb3e57",
   "metadata": {},
   "outputs": [
    {
     "name": "stdout",
     "output_type": "stream",
     "text": [
      "Empty DataFrame\n",
      "Columns: [Variable 1, Variable 2, Correlation]\n",
      "Index: []\n"
     ]
    }
   ],
   "source": [
    "# 자기자신을 제외하고 상관관계 절댓값이 0.9 이상인 조합 찾기\n",
    "correlation_matrix = filtered_data.corr()\n",
    "strong_correlations = correlation_matrix[(correlation_matrix.abs() >= 0.9) & (correlation_matrix != 1)]\n",
    "\n",
    "# 리스트로 변환\n",
    "strong_correlations_pairs = strong_correlations.stack().reset_index()\n",
    "strong_correlations_pairs.columns = ['Variable 1', 'Variable 2', 'Correlation']\n",
    "\n",
    "# 결과 출력\n",
    "print(strong_correlations_pairs)"
   ]
  },
  {
   "cell_type": "code",
   "execution_count": 1168,
   "id": "d308bfe8-5f8d-4943-b8b7-2476ac8977d8",
   "metadata": {},
   "outputs": [],
   "source": [
    "# 드랍할 열 목록\n",
    "columns_to_drop = [\n",
    "    'HEAD NORMAL DISTANCE_TRIANGLE_area_Fill1',\n",
    "    'volume_time_multip_avg_Fill1',\n",
    "    'volume_time_multip_stage2_Fill1',\n",
    "    'volume_time_multip_stage3_Fill1'\n",
    "]\n",
    "\n",
    "# 열 삭제\n",
    "train_data.drop(columns=columns_to_drop, inplace=True, errors='ignore')\n",
    "test_data.drop(columns=columns_to_drop, inplace=True, errors='ignore')"
   ]
  },
  {
   "cell_type": "code",
   "execution_count": 1169,
   "id": "10e0b1bb-f000-49c2-8432-d595149766a3",
   "metadata": {},
   "outputs": [],
   "source": [
    "# '_Fill1'을 포함하는 변수 선택\n",
    "fill1_variables = [var for var in train_data.columns if '_Fill1' in var]\n",
    "\n",
    "# train\n",
    "final_columns_train = var_dam_fill + var_all_train + fill1_variables\n",
    "train_data_fill1 = train_data[final_columns_train]\n",
    "\n",
    "# test \n",
    "final_columns_test = var_dam_fill + var_all_test + fill1_variables\n",
    "test_data_fill1 = test_data[final_columns_test]"
   ]
  },
  {
   "cell_type": "code",
   "execution_count": 1170,
   "id": "fface952-5ca0-4d5b-9184-71de30e02084",
   "metadata": {},
   "outputs": [
    {
     "name": "stdout",
     "output_type": "stream",
     "text": [
      "<class 'pandas.core.frame.DataFrame'>\n",
      "RangeIndex: 40506 entries, 0 to 40505\n",
      "Data columns (total 14 columns):\n",
      " #   Column                                          Non-Null Count  Dtype  \n",
      "---  ------                                          --------------  -----  \n",
      " 0   Receip_No_encoded                               40506 non-null  float64\n",
      " 1   Equipment_num_encoded                           40506 non-null  float64\n",
      " 2   PalletID_Collect_Result_encoded                 40506 non-null  float64\n",
      " 3   Production_Qty_Collect_Result_encoded           40506 non-null  float64\n",
      " 4   WorkMode Collect Result                         40506 non-null  float64\n",
      " 5   target                                          40506 non-null  object \n",
      " 6   model_suffix_encoded                            40506 non-null  float64\n",
      " 7   cleaned_workorder_encoded                       40506 non-null  float64\n",
      " 8   DISCHARGED SPEED OF RESIN Collect Result_Fill1  40506 non-null  float64\n",
      " 9   Head Purge Position Z Collect Result_Fill1      40506 non-null  float64\n",
      " 10  HEAD NORMAL DISTANCE_STAGE1_STAGE3_Fill1        40506 non-null  float64\n",
      " 11  HEAD NORMAL DISTANCE_TRIANGLE_height_Fill1      40506 non-null  float64\n",
      " 12  volume_time_multip_stage1_Fill1                 40506 non-null  float64\n",
      " 13  time_ratio_Fill1                                40506 non-null  float64\n",
      "dtypes: float64(13), object(1)\n",
      "memory usage: 4.3+ MB\n"
     ]
    }
   ],
   "source": [
    "train_data_fill1.info()"
   ]
  },
  {
   "cell_type": "code",
   "execution_count": 1171,
   "id": "55dedb1b-a829-4dc4-aaf7-960a5e66725d",
   "metadata": {},
   "outputs": [
    {
     "name": "stdout",
     "output_type": "stream",
     "text": [
      "<class 'pandas.core.frame.DataFrame'>\n",
      "RangeIndex: 17361 entries, 0 to 17360\n",
      "Data columns (total 15 columns):\n",
      " #   Column                                          Non-Null Count  Dtype  \n",
      "---  ------                                          --------------  -----  \n",
      " 0   Receip_No_encoded                               17361 non-null  float64\n",
      " 1   Equipment_num_encoded                           17361 non-null  float64\n",
      " 2   PalletID_Collect_Result_encoded                 17361 non-null  float64\n",
      " 3   Production_Qty_Collect_Result_encoded           17361 non-null  float64\n",
      " 4   WorkMode Collect Result                         17361 non-null  float64\n",
      " 5   Set ID                                          17361 non-null  object \n",
      " 6   target                                          0 non-null      float64\n",
      " 7   model_suffix_encoded                            17361 non-null  float64\n",
      " 8   cleaned_workorder_encoded                       17361 non-null  float64\n",
      " 9   DISCHARGED SPEED OF RESIN Collect Result_Fill1  17361 non-null  float64\n",
      " 10  Head Purge Position Z Collect Result_Fill1      17361 non-null  float64\n",
      " 11  HEAD NORMAL DISTANCE_STAGE1_STAGE3_Fill1        17361 non-null  float64\n",
      " 12  HEAD NORMAL DISTANCE_TRIANGLE_height_Fill1      17361 non-null  float64\n",
      " 13  volume_time_multip_stage1_Fill1                 17361 non-null  float64\n",
      " 14  time_ratio_Fill1                                17361 non-null  float64\n",
      "dtypes: float64(14), object(1)\n",
      "memory usage: 2.0+ MB\n"
     ]
    }
   ],
   "source": [
    "test_data_fill1.info()"
   ]
  },
  {
   "cell_type": "markdown",
   "id": "5db9feaf-2d9e-48e6-ac73-0b2643b5f1ad",
   "metadata": {},
   "source": [
    "- fill2"
   ]
  },
  {
   "cell_type": "code",
   "execution_count": 1172,
   "id": "24b711c3-9126-4c06-bf22-a2d9a6c6f4a6",
   "metadata": {},
   "outputs": [
    {
     "data": {
      "text/plain": [
       "['Receip_No_encoded',\n",
       " 'Equipment_num_encoded',\n",
       " 'PalletID_Collect_Result_encoded',\n",
       " 'Production_Qty_Collect_Result_encoded',\n",
       " 'WorkMode Collect Result',\n",
       " 'model_suffix_encoded',\n",
       " 'cleaned_workorder_encoded',\n",
       " 'CURE SPEED Collect Result_Fill2',\n",
       " 'Head Purge Position Z Collect Result_Fill2',\n",
       " 'HEAD NORMAL DISTANCE_STAGE1_STAGE2_Fill2',\n",
       " 'HEAD NORMAL DISTANCE_STAGE2_STAGE3_Fill2',\n",
       " 'HEAD NORMAL DISTANCE_STAGE1_STAGE3_Fill2',\n",
       " 'time_ratio_Fill2',\n",
       " 'cure_end_position_XZ_Fill2_encoded',\n",
       " 'cure_start_position_XZ_Fill2_encoded',\n",
       " 'cure_standby_position_XZ_Fill2_encoded']"
      ]
     },
     "execution_count": 1172,
     "metadata": {},
     "output_type": "execute_result"
    }
   ],
   "source": [
    "# 상관관계를 확인할 데이터셋\n",
    "combined_variables = var_dam_fill + var_all_corr + [var for var in train_data.columns if '_Fill2' in var]\n",
    "combined_variables"
   ]
  },
  {
   "cell_type": "code",
   "execution_count": 1173,
   "id": "724c38f3-162a-40b8-9d89-16e60a4352a9",
   "metadata": {},
   "outputs": [],
   "source": [
    "variables = ['Receip_No_encoded',\n",
    " 'Equipment_num_encoded',   \n",
    " 'PalletID_Collect_Result_encoded',\n",
    " 'Production_Qty_Collect_Result_encoded',\n",
    " 'WorkMode Collect Result',\n",
    " 'model_suffix_encoded',\n",
    " 'cleaned_workorder_encoded',\n",
    " 'CURE SPEED Collect Result_Fill2',\n",
    " 'Head Purge Position Z Collect Result_Fill2',\n",
    " 'HEAD NORMAL DISTANCE_STAGE1_STAGE2_Fill2',\n",
    " #'HEAD NORMAL DISTANCE_STAGE2_STAGE3_Fill2',\n",
    " #'HEAD NORMAL DISTANCE_STAGE1_STAGE3_Fill2',\n",
    " 'time_ratio_Fill2',\n",
    " 'cure_end_position_XZ_Fill2_encoded',\n",
    " 'cure_start_position_XZ_Fill2_encoded']\n",
    " #'cure_standby_position_XZ_Fill2_encoded']\n",
    "\n",
    "# 변수들로만 이루어진 DataFrame 생성\n",
    "filtered_data = train_data[variables]"
   ]
  },
  {
   "cell_type": "code",
   "execution_count": 1174,
   "id": "d073348d-b1f7-4c87-b50b-29c2f134ac3e",
   "metadata": {},
   "outputs": [
    {
     "name": "stdout",
     "output_type": "stream",
     "text": [
      "Empty DataFrame\n",
      "Columns: [Variable 1, Variable 2, Correlation]\n",
      "Index: []\n"
     ]
    }
   ],
   "source": [
    "# 자기자신을 제외하고 상관관계 절댓값이 0.9 이상인 조합 찾기\n",
    "correlation_matrix = filtered_data.corr()\n",
    "strong_correlations = correlation_matrix[(correlation_matrix.abs() >= 0.9) & (correlation_matrix != 1)]\n",
    "\n",
    "# 리스트로 변환\n",
    "strong_correlations_pairs = strong_correlations.stack().reset_index()\n",
    "strong_correlations_pairs.columns = ['Variable 1', 'Variable 2', 'Correlation']\n",
    "\n",
    "# 결과 출력\n",
    "print(strong_correlations_pairs)"
   ]
  },
  {
   "cell_type": "code",
   "execution_count": 1175,
   "id": "fa5ccf89-2670-4213-a96e-8df0f8696147",
   "metadata": {},
   "outputs": [],
   "source": [
    "# 드랍할 열 목록\n",
    "columns_to_drop = [\n",
    "    'HEAD NORMAL DISTANCE_STAGE2_STAGE3_Fill2',\n",
    "    'HEAD NORMAL DISTANCE_STAGE1_STAGE3_Fill2',\n",
    "    'cure_standby_position_XZ_Fill2_encoded'\n",
    "]\n",
    "\n",
    "# 열 삭제\n",
    "train_data.drop(columns=columns_to_drop, inplace=True, errors='ignore')\n",
    "test_data.drop(columns=columns_to_drop, inplace=True, errors='ignore')"
   ]
  },
  {
   "cell_type": "code",
   "execution_count": 1176,
   "id": "52952fee-4bfa-4e5a-a2af-c78c32ccd01d",
   "metadata": {},
   "outputs": [],
   "source": [
    "# '_Fill2'을 포함하는 변수 선택\n",
    "fill2_variables = [var for var in train_data.columns if '_Fill2' in var]\n",
    "\n",
    "# train\n",
    "final_columns_train = var_dam_fill + var_all_train + fill2_variables\n",
    "train_data_fill2 = train_data[final_columns_train]\n",
    "\n",
    "# test \n",
    "final_columns_test = var_dam_fill + var_all_test + fill2_variables\n",
    "test_data_fill2 = test_data[final_columns_test]"
   ]
  },
  {
   "cell_type": "code",
   "execution_count": 1177,
   "id": "e7764523-db87-4736-b96c-cbab7cce7e70",
   "metadata": {},
   "outputs": [
    {
     "name": "stdout",
     "output_type": "stream",
     "text": [
      "<class 'pandas.core.frame.DataFrame'>\n",
      "RangeIndex: 40506 entries, 0 to 40505\n",
      "Data columns (total 14 columns):\n",
      " #   Column                                      Non-Null Count  Dtype  \n",
      "---  ------                                      --------------  -----  \n",
      " 0   Receip_No_encoded                           40506 non-null  float64\n",
      " 1   Equipment_num_encoded                       40506 non-null  float64\n",
      " 2   PalletID_Collect_Result_encoded             40506 non-null  float64\n",
      " 3   Production_Qty_Collect_Result_encoded       40506 non-null  float64\n",
      " 4   WorkMode Collect Result                     40506 non-null  float64\n",
      " 5   target                                      40506 non-null  object \n",
      " 6   model_suffix_encoded                        40506 non-null  float64\n",
      " 7   cleaned_workorder_encoded                   40506 non-null  float64\n",
      " 8   CURE SPEED Collect Result_Fill2             40506 non-null  int64  \n",
      " 9   Head Purge Position Z Collect Result_Fill2  40506 non-null  float64\n",
      " 10  HEAD NORMAL DISTANCE_STAGE1_STAGE2_Fill2    40506 non-null  float64\n",
      " 11  time_ratio_Fill2                            40506 non-null  float64\n",
      " 12  cure_end_position_XZ_Fill2_encoded          40506 non-null  float64\n",
      " 13  cure_start_position_XZ_Fill2_encoded        40506 non-null  float64\n",
      "dtypes: float64(12), int64(1), object(1)\n",
      "memory usage: 4.3+ MB\n"
     ]
    }
   ],
   "source": [
    "train_data_fill2.info()"
   ]
  },
  {
   "cell_type": "code",
   "execution_count": 1178,
   "id": "7513b854-2823-4494-a669-fa552fdfe5fa",
   "metadata": {},
   "outputs": [
    {
     "name": "stdout",
     "output_type": "stream",
     "text": [
      "<class 'pandas.core.frame.DataFrame'>\n",
      "RangeIndex: 17361 entries, 0 to 17360\n",
      "Data columns (total 15 columns):\n",
      " #   Column                                      Non-Null Count  Dtype  \n",
      "---  ------                                      --------------  -----  \n",
      " 0   Receip_No_encoded                           17361 non-null  float64\n",
      " 1   Equipment_num_encoded                       17361 non-null  float64\n",
      " 2   PalletID_Collect_Result_encoded             17361 non-null  float64\n",
      " 3   Production_Qty_Collect_Result_encoded       17361 non-null  float64\n",
      " 4   WorkMode Collect Result                     17361 non-null  float64\n",
      " 5   Set ID                                      17361 non-null  object \n",
      " 6   target                                      0 non-null      float64\n",
      " 7   model_suffix_encoded                        17361 non-null  float64\n",
      " 8   cleaned_workorder_encoded                   17361 non-null  float64\n",
      " 9   CURE SPEED Collect Result_Fill2             17361 non-null  int64  \n",
      " 10  Head Purge Position Z Collect Result_Fill2  17361 non-null  float64\n",
      " 11  HEAD NORMAL DISTANCE_STAGE1_STAGE2_Fill2    17361 non-null  float64\n",
      " 12  time_ratio_Fill2                            17361 non-null  float64\n",
      " 13  cure_end_position_XZ_Fill2_encoded          17361 non-null  float64\n",
      " 14  cure_start_position_XZ_Fill2_encoded        17361 non-null  float64\n",
      "dtypes: float64(13), int64(1), object(1)\n",
      "memory usage: 2.0+ MB\n"
     ]
    }
   ],
   "source": [
    "test_data_fill2.info()"
   ]
  },
  {
   "cell_type": "markdown",
   "id": "b8510d04-48c5-42c2-9a0c-10532decda68",
   "metadata": {},
   "source": [
    "- autoclave"
   ]
  },
  {
   "cell_type": "code",
   "execution_count": 1179,
   "id": "d43c5ca3-0bff-4ee1-b35d-488abb63f881",
   "metadata": {},
   "outputs": [
    {
     "data": {
      "text/plain": [
       "['model_suffix_encoded',\n",
       " 'cleaned_workorder_encoded',\n",
       " 'Chamber Temp. Collect Result_AutoClave',\n",
       " '1st_pressure_time_AutoClave',\n",
       " '2nd_pressure_time_AutoClave',\n",
       " '3rd_pressure_time_AutoClave',\n",
       " 'avg_pressure_time_AutoClave',\n",
       " 'time_ratio_AutoClave']"
      ]
     },
     "execution_count": 1179,
     "metadata": {},
     "output_type": "execute_result"
    }
   ],
   "source": [
    "# 상관관계를 확인할 데이터셋\n",
    "combined_variables = var_all_corr + [var for var in train_data.columns if '_AutoClave' in var]\n",
    "combined_variables"
   ]
  },
  {
   "cell_type": "code",
   "execution_count": 1180,
   "id": "a2bc07fd-d3f7-4fae-9794-6851cad4d945",
   "metadata": {},
   "outputs": [],
   "source": [
    "variables = ['model_suffix_encoded',\n",
    " 'cleaned_workorder_encoded',\n",
    " 'Chamber Temp. Collect Result_AutoClave',\n",
    " '1st_pressure_time_AutoClave',\n",
    " '2nd_pressure_time_AutoClave',\n",
    " '3rd_pressure_time_AutoClave',\n",
    " #'avg_pressure_time_AutoClave',\n",
    " 'time_ratio_AutoClave']\n",
    "\n",
    "# 변수들로만 이루어진 DataFrame 생성\n",
    "filtered_data = train_data[variables]"
   ]
  },
  {
   "cell_type": "code",
   "execution_count": 1181,
   "id": "54d4680e-9f74-40dc-b876-5c5cd3f275cd",
   "metadata": {},
   "outputs": [
    {
     "name": "stdout",
     "output_type": "stream",
     "text": [
      "Empty DataFrame\n",
      "Columns: [Variable 1, Variable 2, Correlation]\n",
      "Index: []\n"
     ]
    }
   ],
   "source": [
    "# 자기자신을 제외하고 상관관계 절댓값이 0.9 이상인 조합 찾기\n",
    "correlation_matrix = filtered_data.corr()\n",
    "strong_correlations = correlation_matrix[(correlation_matrix.abs() >= 0.9) & (correlation_matrix != 1)]\n",
    "\n",
    "# 리스트로 변환\n",
    "strong_correlations_pairs = strong_correlations.stack().reset_index()\n",
    "strong_correlations_pairs.columns = ['Variable 1', 'Variable 2', 'Correlation']\n",
    "\n",
    "# 결과 출력\n",
    "print(strong_correlations_pairs)"
   ]
  },
  {
   "cell_type": "code",
   "execution_count": 1182,
   "id": "1bacd287-b6e1-445a-9aee-91a671ff689f",
   "metadata": {},
   "outputs": [],
   "source": [
    "# 드랍할 열 목록\n",
    "columns_to_drop = ['avg_pressure_time_AutoClave']\n",
    "\n",
    "# 열 삭제\n",
    "train_data.drop(columns=columns_to_drop, inplace=True, errors='ignore')\n",
    "test_data.drop(columns=columns_to_drop, inplace=True, errors='ignore')"
   ]
  },
  {
   "cell_type": "code",
   "execution_count": 1183,
   "id": "1eaf9215-077b-48c3-960b-e529c7d4fc5d",
   "metadata": {},
   "outputs": [],
   "source": [
    "# '_AutoClave'을 포함하는 변수 선택\n",
    "autoclave_variables = [var for var in train_data.columns if '_AutoClave' in var]\n",
    "\n",
    "# train\n",
    "final_columns_train = var_all_train + autoclave_variables\n",
    "train_data_autoclave = train_data[final_columns_train]\n",
    "\n",
    "# test \n",
    "final_columns_test = var_all_test + autoclave_variables\n",
    "test_data_autoclave = test_data[final_columns_test]"
   ]
  },
  {
   "cell_type": "code",
   "execution_count": 1184,
   "id": "4c87f106-0c6f-4ef8-a0d2-66b248bc6558",
   "metadata": {},
   "outputs": [
    {
     "name": "stdout",
     "output_type": "stream",
     "text": [
      "<class 'pandas.core.frame.DataFrame'>\n",
      "RangeIndex: 40506 entries, 0 to 40505\n",
      "Data columns (total 8 columns):\n",
      " #   Column                                  Non-Null Count  Dtype  \n",
      "---  ------                                  --------------  -----  \n",
      " 0   target                                  40506 non-null  object \n",
      " 1   model_suffix_encoded                    40506 non-null  float64\n",
      " 2   cleaned_workorder_encoded               40506 non-null  float64\n",
      " 3   Chamber Temp. Collect Result_AutoClave  40506 non-null  int64  \n",
      " 4   1st_pressure_time_AutoClave             40506 non-null  float64\n",
      " 5   2nd_pressure_time_AutoClave             40506 non-null  float64\n",
      " 6   3rd_pressure_time_AutoClave             40506 non-null  float64\n",
      " 7   time_ratio_AutoClave                    40506 non-null  float64\n",
      "dtypes: float64(6), int64(1), object(1)\n",
      "memory usage: 2.5+ MB\n"
     ]
    }
   ],
   "source": [
    "train_data_autoclave.info()"
   ]
  },
  {
   "cell_type": "code",
   "execution_count": 1185,
   "id": "dda67180-a829-40cf-8eb8-ed5300d19730",
   "metadata": {},
   "outputs": [
    {
     "name": "stdout",
     "output_type": "stream",
     "text": [
      "<class 'pandas.core.frame.DataFrame'>\n",
      "RangeIndex: 17361 entries, 0 to 17360\n",
      "Data columns (total 9 columns):\n",
      " #   Column                                  Non-Null Count  Dtype  \n",
      "---  ------                                  --------------  -----  \n",
      " 0   Set ID                                  17361 non-null  object \n",
      " 1   target                                  0 non-null      float64\n",
      " 2   model_suffix_encoded                    17361 non-null  float64\n",
      " 3   cleaned_workorder_encoded               17361 non-null  float64\n",
      " 4   Chamber Temp. Collect Result_AutoClave  17361 non-null  int64  \n",
      " 5   1st_pressure_time_AutoClave             17361 non-null  float64\n",
      " 6   2nd_pressure_time_AutoClave             17361 non-null  float64\n",
      " 7   3rd_pressure_time_AutoClave             17361 non-null  float64\n",
      " 8   time_ratio_AutoClave                    17361 non-null  float64\n",
      "dtypes: float64(7), int64(1), object(1)\n",
      "memory usage: 1.2+ MB\n"
     ]
    }
   ],
   "source": [
    "test_data_autoclave.info()"
   ]
  },
  {
   "cell_type": "code",
   "execution_count": 88,
   "id": "2ba56836-3c51-4db5-88a6-f40690691927",
   "metadata": {},
   "outputs": [],
   "source": [
    "# # DataFrame을 CSV 파일로 저장\n",
    "# train_data.to_csv('./data/train_data_0827.csv', index=False)\n",
    "# test_data.to_csv('./data/test_data_0827.csv', index=False)"
   ]
  },
  {
   "cell_type": "code",
   "execution_count": 1187,
   "id": "1921b19a",
   "metadata": {},
   "outputs": [],
   "source": [
    "# 전체 공통 변수\n",
    "### train\n",
    "var_all_train = [\n",
    "    'target',\n",
    "    'model_suffix_encoded',\n",
    "    'cleaned_workorder_encoded'\n",
    "]\n",
    "\n",
    "### test\n",
    "var_all_test = [\n",
    "    'Set ID',\n",
    "    'target',\n",
    "    'model_suffix_encoded',\n",
    "    'cleaned_workorder_encoded'\n",
    "]"
   ]
  },
  {
   "cell_type": "code",
   "execution_count": 1188,
   "id": "65fce5fb",
   "metadata": {},
   "outputs": [],
   "source": [
    "# '_Dam'을 포함하는 변수 선택\n",
    "dam_variables = [var for var in train_data.columns if '_Dam' in var]\n",
    "\n",
    "# train\n",
    "final_columns_train = var_dam_fill + var_all_train + dam_variables\n",
    "train_data_dam = train_data[final_columns_train]\n",
    "\n",
    "# test \n",
    "final_columns_test = var_dam_fill + var_all_test + dam_variables\n",
    "test_data_dam = test_data[final_columns_test]"
   ]
  },
  {
   "cell_type": "code",
   "execution_count": 1189,
   "id": "39761840",
   "metadata": {},
   "outputs": [],
   "source": [
    "# '_Fill1'을 포함하는 변수 선택\n",
    "fill1_variables = [var for var in train_data.columns if '_Fill1' in var]\n",
    "\n",
    "# train\n",
    "final_columns_train = var_dam_fill + var_all_train + fill1_variables\n",
    "train_data_fill1 = train_data[final_columns_train]\n",
    "\n",
    "# test \n",
    "final_columns_test = var_dam_fill + var_all_test + fill1_variables\n",
    "test_data_fill1 = test_data[final_columns_test]"
   ]
  },
  {
   "cell_type": "code",
   "execution_count": 1190,
   "id": "67f200d7",
   "metadata": {},
   "outputs": [],
   "source": [
    "# '_Fill2'을 포함하는 변수 선택\n",
    "fill2_variables = [var for var in train_data.columns if '_Fill2' in var]\n",
    "\n",
    "# train\n",
    "final_columns_train = var_dam_fill + var_all_train + fill2_variables\n",
    "train_data_fill2 = train_data[final_columns_train]\n",
    "\n",
    "# test \n",
    "final_columns_test = var_dam_fill + var_all_test + fill2_variables\n",
    "test_data_fill2 = test_data[final_columns_test]"
   ]
  },
  {
   "cell_type": "code",
   "execution_count": 1191,
   "id": "a737fedf",
   "metadata": {},
   "outputs": [],
   "source": [
    "# '_AutoClave'을 포함하는 변수 선택\n",
    "autoclave_variables = [var for var in train_data.columns if '_AutoClave' in var]\n",
    "\n",
    "# train\n",
    "final_columns_train = var_all_train + autoclave_variables\n",
    "train_data_autoclave = train_data[final_columns_train]\n",
    "\n",
    "# test \n",
    "final_columns_test = var_all_test + autoclave_variables\n",
    "test_data_autoclave = test_data[final_columns_test]"
   ]
  },
  {
   "cell_type": "code",
   "execution_count": 1192,
   "id": "9a21881a",
   "metadata": {},
   "outputs": [],
   "source": [
    "# '_Fill1'을 포함하는 변수 선택\n",
    "fill1_variables = [var for var in train_data.columns if '_Fill1' in var]\n",
    "\n",
    "# train\n",
    "final_columns_train = var_dam_fill + var_all_train + fill1_variables\n",
    "train_data_fill1 = train_data[final_columns_train]\n",
    "\n",
    "# test \n",
    "final_columns_test = var_dam_fill + var_all_test + fill1_variables\n",
    "test_data_fill1 = test_data[final_columns_test]"
   ]
  },
  {
   "cell_type": "code",
   "execution_count": 1193,
   "id": "3bb4e7d4",
   "metadata": {},
   "outputs": [],
   "source": [
    "# '_Fill2'을 포함하는 변수 선택\n",
    "fill2_variables = [var for var in train_data.columns if '_Fill2' in var]\n",
    "\n",
    "# train\n",
    "final_columns_train = var_dam_fill + var_all_train + fill2_variables\n",
    "train_data_fill2 = train_data[final_columns_train]\n",
    "\n",
    "# test \n",
    "final_columns_test = var_dam_fill + var_all_test + fill2_variables\n",
    "test_data_fill2 = test_data[final_columns_test]"
   ]
  },
  {
   "cell_type": "code",
   "execution_count": 1194,
   "id": "e62b83f7",
   "metadata": {},
   "outputs": [],
   "source": [
    "# '_AutoClave'을 포함하는 변수 선택\n",
    "autoclave_variables = [var for var in train_data.columns if '_AutoClave' in var]\n",
    "\n",
    "# train\n",
    "final_columns_train = var_all_train + autoclave_variables\n",
    "train_data_autoclave = train_data[final_columns_train]\n",
    "\n",
    "# test \n",
    "final_columns_test = var_all_test + autoclave_variables\n",
    "test_data_autoclave = test_data[final_columns_test]"
   ]
  },
  {
   "cell_type": "code",
   "execution_count": 1195,
   "id": "db275bb3",
   "metadata": {},
   "outputs": [
    {
     "name": "stdout",
     "output_type": "stream",
     "text": [
      "----train data-----\n",
      "train_data DataFrame의 칼럼 수: 40\n",
      "train_data_dam DataFrame의 칼럼 수: 23\n",
      "train_data_autoclave DataFrame의 칼럼 수: 8\n",
      "train_data_fill1 DataFrame의 칼럼 수: 14\n",
      "train_data_fill2 DataFrame의 칼럼 수: 14\n",
      "----test data-----\n",
      "test_data DataFrame의 칼럼 수: 41\n",
      "test_data_dam DataFrame의 칼럼 수: 24\n",
      "test_data_autoclave DataFrame의 칼럼 수: 9\n",
      "test_data_fill1 DataFrame의 칼럼 수: 15\n",
      "test_data_fill2 DataFrame의 칼럼 수: 15\n"
     ]
    }
   ],
   "source": [
    "# 각 DataFrame의 칼럼 수 계산\n",
    "num_columns_train_data = train_data.shape[1]\n",
    "num_columns_train_data_dam = train_data_dam.shape[1]\n",
    "num_columns_train_data_autoclave = train_data_autoclave.shape[1]\n",
    "num_columns_train_data_fill1 = train_data_fill1.shape[1]\n",
    "num_columns_train_data_fill2 = train_data_fill2.shape[1]\n",
    "\n",
    "num_columns_test_data = test_data.shape[1]\n",
    "num_columns_test_data_dam = test_data_dam.shape[1]\n",
    "num_columns_test_data_autoclave = test_data_autoclave.shape[1]\n",
    "num_columns_test_data_fill1 = test_data_fill1.shape[1]\n",
    "num_columns_test_data_fill2 = test_data_fill2.shape[1]\n",
    "\n",
    "# 각 DataFrame의 칼럼 수 출력\n",
    "print(\"----train data-----\")\n",
    "print(f\"train_data DataFrame의 칼럼 수: {num_columns_train_data}\")\n",
    "print(f\"train_data_dam DataFrame의 칼럼 수: {num_columns_train_data_dam}\")\n",
    "print(f\"train_data_autoclave DataFrame의 칼럼 수: {num_columns_train_data_autoclave}\")\n",
    "print(f\"train_data_fill1 DataFrame의 칼럼 수: {num_columns_train_data_fill1}\")\n",
    "print(f\"train_data_fill2 DataFrame의 칼럼 수: {num_columns_train_data_fill2}\")\n",
    "print(\"----test data-----\")\n",
    "print(f\"test_data DataFrame의 칼럼 수: {num_columns_test_data}\")\n",
    "print(f\"test_data_dam DataFrame의 칼럼 수: {num_columns_test_data_dam}\")\n",
    "print(f\"test_data_autoclave DataFrame의 칼럼 수: {num_columns_test_data_autoclave}\")\n",
    "print(f\"test_data_fill1 DataFrame의 칼럼 수: {num_columns_test_data_fill1}\")\n",
    "print(f\"test_data_fill2 DataFrame의 칼럼 수: {num_columns_test_data_fill2}\")"
   ]
  },
  {
   "cell_type": "markdown",
   "id": "4737141d",
   "metadata": {},
   "source": [
    "."
   ]
  },
  {
   "cell_type": "markdown",
   "id": "747f4426",
   "metadata": {},
   "source": [
    "."
   ]
  }
 ],
 "metadata": {
  "kernelspec": {
   "display_name": "Python 3 (ipykernel)",
   "language": "python",
   "name": "python3"
  },
  "language_info": {
   "codemirror_mode": {
    "name": "ipython",
    "version": 3
   },
   "file_extension": ".py",
   "mimetype": "text/x-python",
   "name": "python",
   "nbconvert_exporter": "python",
   "pygments_lexer": "ipython3",
   "version": "3.7.8"
  }
 },
 "nbformat": 4,
 "nbformat_minor": 5
}

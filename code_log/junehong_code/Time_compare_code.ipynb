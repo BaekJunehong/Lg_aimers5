{
 "cells": [
  {
   "cell_type": "markdown",
   "id": "017e9265",
   "metadata": {},
   "source": [
    "# 제품 이상여부 판별 프로젝트"
   ]
  },
  {
   "cell_type": "markdown",
   "id": "25405677",
   "metadata": {},
   "source": [
    "## 각 공정별 소요 시간에 따른 타겟변수 비율 확인"
   ]
  },
  {
   "cell_type": "markdown",
   "id": "5f5bb74f",
   "metadata": {},
   "source": [
    "Collect date를 이용하여 확인"
   ]
  },
  {
   "cell_type": "code",
   "execution_count": 1,
   "id": "19693193",
   "metadata": {},
   "outputs": [],
   "source": [
    "import warnings\n",
    "import pandas as pd\n",
    "\n",
    "# DtypeWarning 무시\n",
    "warnings.filterwarnings('ignore', category=pd.errors.DtypeWarning)\n",
    "\n",
    "# 데이터 파일 경로\n",
    "file_path_Dam = '../../data/Dam dispensing.csv'\n",
    "file_path_Fill1 = '../../data/Fill1 dispensing.csv'\n",
    "file_path_Fill2 = '../../data/Fill2 dispensing.csv'\n",
    "file_path_AutoClave = '../../data/Auto Clave.csv'\n",
    "file_path_target = '../../data/train_y.csv'\n",
    "\n",
    "# 데이터 파일 읽기\n",
    "df_Dam = pd.read_csv(file_path_Dam) \n",
    "df_Fill1 = pd.read_csv(file_path_Fill1) \n",
    "df_Fill2 = pd.read_csv(file_path_Fill2) \n",
    "df_AutoClave = pd.read_csv(file_path_Fill2) \n",
    "df_target = pd.read_csv(file_path_target) "
   ]
  },
  {
   "cell_type": "code",
   "execution_count": 2,
   "id": "b7f31356",
   "metadata": {},
   "outputs": [],
   "source": [
    "# 각 데이터프레임 생성\n",
    "Dam_combined = df_Dam[['Collect Date', 'Set ID']]\n",
    "AutoClave_combined = df_AutoClave[['Collect Date', 'Set ID']]\n",
    "Fill1_combined = df_Fill1[['Collect Date', 'Set ID']]\n",
    "Fill2_combined = df_Fill2[['Collect Date', 'Set ID']]\n",
    "df_target = df_target[['target', 'Set ID']] # 모든 칼럼 다 가져온것 \n",
    "\n",
    "# 각 데이터프레임 생성 및 열 이름 변경\n",
    "Dam_combined = df_Dam[['Collect Date', 'Set ID']].rename(columns={'Collect Date': 'Collect Date_Dam'})\n",
    "AutoClave_combined = df_AutoClave[['Collect Date', 'Set ID']].rename(columns={'Collect Date': 'Collect Date_AutoClave'})\n",
    "Fill1_combined = df_Fill1[['Collect Date', 'Set ID']].rename(columns={'Collect Date': 'Collect Date_Fill1'})\n",
    "Fill2_combined = df_Fill2[['Collect Date', 'Set ID']].rename(columns={'Collect Date': 'Collect Date_Fill2'})\n",
    "df_target = df_target[['target', 'Set ID']]"
   ]
  },
  {
   "cell_type": "markdown",
   "id": "389b0f5c",
   "metadata": {},
   "source": [
    "Fill2 와 AutoClave의 Collect Date 동일함을 아래 코드로 확인"
   ]
  },
  {
   "cell_type": "code",
   "execution_count": 3,
   "id": "feca3f66",
   "metadata": {},
   "outputs": [
    {
     "data": {
      "text/html": [
       "<div>\n",
       "<style scoped>\n",
       "    .dataframe tbody tr th:only-of-type {\n",
       "        vertical-align: middle;\n",
       "    }\n",
       "\n",
       "    .dataframe tbody tr th {\n",
       "        vertical-align: top;\n",
       "    }\n",
       "\n",
       "    .dataframe thead th {\n",
       "        text-align: right;\n",
       "    }\n",
       "</style>\n",
       "<table border=\"1\" class=\"dataframe\">\n",
       "  <thead>\n",
       "    <tr style=\"text-align: right;\">\n",
       "      <th></th>\n",
       "      <th>Collect Date_Fill2</th>\n",
       "      <th>Set ID</th>\n",
       "    </tr>\n",
       "  </thead>\n",
       "  <tbody>\n",
       "    <tr>\n",
       "      <th>62313</th>\n",
       "      <td>2024-04-28 18:33:41</td>\n",
       "      <td>OP753345054040002685</td>\n",
       "    </tr>\n",
       "    <tr>\n",
       "      <th>62314</th>\n",
       "      <td>2024-04-28 18:34:43</td>\n",
       "      <td>OP753345054040002686</td>\n",
       "    </tr>\n",
       "    <tr>\n",
       "      <th>62315</th>\n",
       "      <td>2024-04-28 18:35:50</td>\n",
       "      <td>OP753345054040002687</td>\n",
       "    </tr>\n",
       "    <tr>\n",
       "      <th>62316</th>\n",
       "      <td>2024-04-28 18:36:34</td>\n",
       "      <td>OP753345054040002688</td>\n",
       "    </tr>\n",
       "    <tr>\n",
       "      <th>62317</th>\n",
       "      <td>2024-04-28 18:37:38</td>\n",
       "      <td>OP753345054040002689</td>\n",
       "    </tr>\n",
       "  </tbody>\n",
       "</table>\n",
       "</div>"
      ],
      "text/plain": [
       "        Collect Date_Fill2                Set ID\n",
       "62313  2024-04-28 18:33:41  OP753345054040002685\n",
       "62314  2024-04-28 18:34:43  OP753345054040002686\n",
       "62315  2024-04-28 18:35:50  OP753345054040002687\n",
       "62316  2024-04-28 18:36:34  OP753345054040002688\n",
       "62317  2024-04-28 18:37:38  OP753345054040002689"
      ]
     },
     "execution_count": 3,
     "metadata": {},
     "output_type": "execute_result"
    }
   ],
   "source": [
    "Fill2_combined.tail()"
   ]
  },
  {
   "cell_type": "code",
   "execution_count": 4,
   "id": "3784e14b",
   "metadata": {},
   "outputs": [
    {
     "data": {
      "text/html": [
       "<div>\n",
       "<style scoped>\n",
       "    .dataframe tbody tr th:only-of-type {\n",
       "        vertical-align: middle;\n",
       "    }\n",
       "\n",
       "    .dataframe tbody tr th {\n",
       "        vertical-align: top;\n",
       "    }\n",
       "\n",
       "    .dataframe thead th {\n",
       "        text-align: right;\n",
       "    }\n",
       "</style>\n",
       "<table border=\"1\" class=\"dataframe\">\n",
       "  <thead>\n",
       "    <tr style=\"text-align: right;\">\n",
       "      <th></th>\n",
       "      <th>Collect Date_AutoClave</th>\n",
       "      <th>Set ID</th>\n",
       "    </tr>\n",
       "  </thead>\n",
       "  <tbody>\n",
       "    <tr>\n",
       "      <th>62313</th>\n",
       "      <td>2024-04-28 18:33:41</td>\n",
       "      <td>OP753345054040002685</td>\n",
       "    </tr>\n",
       "    <tr>\n",
       "      <th>62314</th>\n",
       "      <td>2024-04-28 18:34:43</td>\n",
       "      <td>OP753345054040002686</td>\n",
       "    </tr>\n",
       "    <tr>\n",
       "      <th>62315</th>\n",
       "      <td>2024-04-28 18:35:50</td>\n",
       "      <td>OP753345054040002687</td>\n",
       "    </tr>\n",
       "    <tr>\n",
       "      <th>62316</th>\n",
       "      <td>2024-04-28 18:36:34</td>\n",
       "      <td>OP753345054040002688</td>\n",
       "    </tr>\n",
       "    <tr>\n",
       "      <th>62317</th>\n",
       "      <td>2024-04-28 18:37:38</td>\n",
       "      <td>OP753345054040002689</td>\n",
       "    </tr>\n",
       "  </tbody>\n",
       "</table>\n",
       "</div>"
      ],
      "text/plain": [
       "      Collect Date_AutoClave                Set ID\n",
       "62313    2024-04-28 18:33:41  OP753345054040002685\n",
       "62314    2024-04-28 18:34:43  OP753345054040002686\n",
       "62315    2024-04-28 18:35:50  OP753345054040002687\n",
       "62316    2024-04-28 18:36:34  OP753345054040002688\n",
       "62317    2024-04-28 18:37:38  OP753345054040002689"
      ]
     },
     "execution_count": 4,
     "metadata": {},
     "output_type": "execute_result"
    }
   ],
   "source": [
    "AutoClave_combined.tail()"
   ]
  },
  {
   "cell_type": "markdown",
   "id": "2cc0d450",
   "metadata": {},
   "source": [
    "4개의 공정 및 target 값 데이터프레임 하나로 병합"
   ]
  },
  {
   "cell_type": "code",
   "execution_count": 5,
   "id": "cd9857d2",
   "metadata": {},
   "outputs": [],
   "source": [
    "# 데이터프레임 병합\n",
    "df_collect_date = Dam_combined.merge(AutoClave_combined, on='Set ID')\n",
    "df_collect_date = df_collect_date.merge(Fill1_combined, on='Set ID')\n",
    "df_collect_date = df_collect_date.merge(Fill2_combined, on='Set ID')\n",
    "df_collect_date = df_collect_date.merge(df_target, on='Set ID')"
   ]
  },
  {
   "cell_type": "code",
   "execution_count": 6,
   "id": "9ace21e5",
   "metadata": {},
   "outputs": [
    {
     "name": "stdout",
     "output_type": "stream",
     "text": [
      "<class 'pandas.core.frame.DataFrame'>\n",
      "Int64Index: 83068 entries, 0 to 83067\n",
      "Data columns (total 6 columns):\n",
      " #   Column                  Non-Null Count  Dtype \n",
      "---  ------                  --------------  ----- \n",
      " 0   Collect Date_Dam        83068 non-null  object\n",
      " 1   Set ID                  83068 non-null  object\n",
      " 2   Collect Date_AutoClave  83068 non-null  object\n",
      " 3   Collect Date_Fill1      83068 non-null  object\n",
      " 4   Collect Date_Fill2      83068 non-null  object\n",
      " 5   target                  83068 non-null  object\n",
      "dtypes: object(6)\n",
      "memory usage: 4.4+ MB\n"
     ]
    }
   ],
   "source": [
    "df_collect_date.info()"
   ]
  },
  {
   "cell_type": "code",
   "execution_count": 7,
   "id": "a4274fd3",
   "metadata": {},
   "outputs": [],
   "source": [
    "import pandas as pd\n",
    "\n",
    "# Collect Date 열을 datetime 형식으로 변환\n",
    "df_collect_date['Collect Date_Dam_date'] = pd.to_datetime(df_collect_date['Collect Date_Dam'])\n",
    "df_collect_date['Collect Date_Fill1_date'] = pd.to_datetime(df_collect_date['Collect Date_Fill1'])\n",
    "df_collect_date['Collect Date_Fill2_date'] = pd.to_datetime(df_collect_date['Collect Date_Fill2'])\n",
    "df_collect_date['Collect Date_AutoClave_date'] = pd.to_datetime(df_collect_date['Collect Date_AutoClave'])\n",
    "\n",
    "# Time_Dam, Time_Fill1, Time_AutoClave 파생 변수 생성\n",
    "df_collect_date['Time_Dam'] = (df_collect_date['Collect Date_Fill1_date'] - df_collect_date['Collect Date_Dam_date']).dt.total_seconds().astype(int)\n",
    "df_collect_date['Time_Fill1'] = (df_collect_date['Collect Date_Fill2_date'] - df_collect_date['Collect Date_Fill1_date']).dt.total_seconds().astype(int)\n",
    "df_collect_date['Time_AutoClave'] = (df_collect_date['Collect Date_Fill2_date'] - df_collect_date['Collect Date_AutoClave_date']).dt.total_seconds().astype(int)\n",
    "\n",
    "# 생성된 변수 4개 삭제\n",
    "df_collect_date = df_collect_date.drop(columns=['Collect Date_Dam_date', 'Collect Date_Fill1_date', 'Collect Date_Fill2_date', 'Collect Date_AutoClave_date'])\n",
    "\n",
    "# 변수 순서 변경\n",
    "df_collect_date = df_collect_date[[\n",
    "'Set ID'\n",
    ", 'target'\n",
    ", 'Time_Dam'\n",
    ", 'Time_Fill1'\n",
    ", 'Time_AutoClave'\n",
    ", 'Collect Date_Dam'\n",
    ", 'Collect Date_Fill1'\n",
    ", 'Collect Date_AutoClave'\n",
    ", 'Collect Date_Fill2'\n",
    "]]"
   ]
  },
  {
   "cell_type": "code",
   "execution_count": 8,
   "id": "c4f16938",
   "metadata": {},
   "outputs": [
    {
     "name": "stdout",
     "output_type": "stream",
     "text": [
      "<class 'pandas.core.frame.DataFrame'>\n",
      "Int64Index: 83068 entries, 0 to 83067\n",
      "Data columns (total 9 columns):\n",
      " #   Column                  Non-Null Count  Dtype \n",
      "---  ------                  --------------  ----- \n",
      " 0   Set ID                  83068 non-null  object\n",
      " 1   target                  83068 non-null  object\n",
      " 2   Time_Dam                83068 non-null  int32 \n",
      " 3   Time_Fill1              83068 non-null  int32 \n",
      " 4   Time_AutoClave          83068 non-null  int32 \n",
      " 5   Collect Date_Dam        83068 non-null  object\n",
      " 6   Collect Date_Fill1      83068 non-null  object\n",
      " 7   Collect Date_AutoClave  83068 non-null  object\n",
      " 8   Collect Date_Fill2      83068 non-null  object\n",
      "dtypes: int32(3), object(6)\n",
      "memory usage: 5.4+ MB\n"
     ]
    }
   ],
   "source": [
    "df_collect_date.info()"
   ]
  },
  {
   "cell_type": "code",
   "execution_count": 9,
   "id": "7a440177",
   "metadata": {},
   "outputs": [
    {
     "data": {
      "text/plain": [
       "Set ID                    OP753345013050000003\n",
       "target                                AbNormal\n",
       "Time_Dam                                   124\n",
       "Time_Fill1                                  81\n",
       "Time_AutoClave                               0\n",
       "Collect Date_Dam           2023-05-04 09:11:35\n",
       "Collect Date_Fill1         2023-05-04 09:13:39\n",
       "Collect Date_AutoClave     2023-05-04 09:15:00\n",
       "Collect Date_Fill2         2023-05-04 09:15:00\n",
       "Name: 0, dtype: object"
      ]
     },
     "execution_count": 9,
     "metadata": {},
     "output_type": "execute_result"
    }
   ],
   "source": [
    "df_collect_date.iloc[0, :]"
   ]
  },
  {
   "cell_type": "code",
   "execution_count": 10,
   "id": "513afe5f",
   "metadata": {},
   "outputs": [
    {
     "data": {
      "text/plain": [
       "Set ID                    OP753345013060002065\n",
       "target                                AbNormal\n",
       "Time_Dam                                   108\n",
       "Time_Fill1                               12572\n",
       "Time_AutoClave                           21608\n",
       "Collect Date_Dam           2023-06-08 23:09:36\n",
       "Collect Date_Fill1         2023-06-08 23:11:24\n",
       "Collect Date_AutoClave     2023-06-08 20:40:48\n",
       "Collect Date_Fill2         2023-06-09 02:40:56\n",
       "Name: 12430, dtype: object"
      ]
     },
     "execution_count": 10,
     "metadata": {},
     "output_type": "execute_result"
    }
   ],
   "source": [
    "df_collect_date.iloc[12430, :]"
   ]
  },
  {
   "cell_type": "code",
   "execution_count": 11,
   "id": "d76fa26a",
   "metadata": {},
   "outputs": [
    {
     "data": {
      "text/plain": [
       "Set ID                    OP753345013050001894\n",
       "target                                AbNormal\n",
       "Time_Dam                                -29004\n",
       "Time_Fill1                               51038\n",
       "Time_AutoClave                           21838\n",
       "Collect Date_Dam           2023-05-25 18:56:11\n",
       "Collect Date_Fill1         2023-05-25 10:52:47\n",
       "Collect Date_AutoClave     2023-05-25 18:59:27\n",
       "Collect Date_Fill2         2023-05-26 01:03:25\n",
       "Name: 2350, dtype: object"
      ]
     },
     "execution_count": 11,
     "metadata": {},
     "output_type": "execute_result"
    }
   ],
   "source": [
    "df_collect_date.iloc[2350, :]"
   ]
  },
  {
   "cell_type": "markdown",
   "id": "195ba4f6",
   "metadata": {},
   "source": [
    "대부분 Dam -> Fill1 -> AutoClave -> Fill2 의 순서를 따르지만  \n",
    "순서가 바뀌는 경우가 있고 이 경우에는 타겟변수의 값이 비정상"
   ]
  },
  {
   "cell_type": "code",
   "execution_count": 12,
   "id": "275767b2",
   "metadata": {},
   "outputs": [
    {
     "data": {
      "text/plain": [
       " 0        58118\n",
       "-4415        25\n",
       " 4415        25\n",
       "-8151        25\n",
       " 8151        25\n",
       "          ...  \n",
       " 20439        4\n",
       "-20439        4\n",
       " 13398        4\n",
       "-13398        4\n",
       "-4847         4\n",
       "Name: Time_AutoClave, Length: 4433, dtype: int64"
      ]
     },
     "execution_count": 12,
     "metadata": {},
     "output_type": "execute_result"
    }
   ],
   "source": [
    "df_collect_date['Time_AutoClave'].value_counts()"
   ]
  },
  {
   "cell_type": "markdown",
   "id": "5ad708c0",
   "metadata": {},
   "source": [
    "Fill2 와 AutoClave의 Collect Date 같아서 Time_Fill2 의 시간 대부분이 0값을 가짐을 보인다  \n",
    "0이 아닌경우에는 개별 값마다 음수,양수 두가지 경우의 값 모두 있는데 이부분에 대해서는 규칙이 있을거라는 추측정도"
   ]
  },
  {
   "cell_type": "markdown",
   "id": "1ed8979e",
   "metadata": {},
   "source": [
    "## 차트 생성 함수"
   ]
  },
  {
   "cell_type": "markdown",
   "id": "293308d0",
   "metadata": {},
   "source": [
    "각 공정별로 걸린 시간에 따른 target 값의 비율을 확인"
   ]
  },
  {
   "cell_type": "code",
   "execution_count": 13,
   "id": "60473459",
   "metadata": {},
   "outputs": [],
   "source": [
    "import pandas as pd\n",
    "import matplotlib.pyplot as plt\n",
    "import seaborn as sns\n",
    "\n",
    "def calculate_and_plot_target_ratio_bar(df, time_column, thresholds):\n",
    "    \"\"\"\n",
    "    주어진 시간 열에 대해 다양한 임계값을 사용하여 target 값의 비율을 계산하고 막대 차트로 시각화합니다.\n",
    "    \n",
    "    Parameters:\n",
    "    df (pd.DataFrame): 데이터프레임\n",
    "    time_column (str): 시간 열 이름\n",
    "    thresholds (list): 임계값 리스트\n",
    "    \"\"\"\n",
    "    target_ratios = []\n",
    "\n",
    "    for threshold in thresholds:\n",
    "        # 주어진 임계값 이하인 행들 필터링\n",
    "        filtered_df = df[df[time_column] <= threshold]\n",
    "        \n",
    "        # target 값의 비율 계산\n",
    "        target_ratio = filtered_df['target'].value_counts(normalize=True)\n",
    "        target_ratios.append(target_ratio)\n",
    "    \n",
    "    # 막대 차트 그리기\n",
    "    plot_bar_chart(target_ratios, thresholds, time_column)\n",
    "\n",
    "def plot_bar_chart(data, thresholds, time_column):\n",
    "    \"\"\"\n",
    "    주어진 데이터를 사용하여 막대 차트를 그립니다.\n",
    "    \n",
    "    Parameters:\n",
    "    data (list of pd.Series): 비율 데이터 리스트\n",
    "    thresholds (list): 임계값 리스트\n",
    "    time_column (str): 시간 열 이름\n",
    "    \"\"\"\n",
    "    # 데이터프레임 생성\n",
    "    df = pd.DataFrame(data, index=thresholds).fillna(0)\n",
    "    \n",
    "    # 막대 차트 그리기\n",
    "    df.plot(kind='bar', stacked=True, colormap='viridis')\n",
    "    plt.title(f'Target Ratio for {time_column}')\n",
    "    plt.xlabel('Threshold')\n",
    "    plt.ylabel('Ratio')\n",
    "    plt.legend(title='Target')\n",
    "    plt.xticks(rotation=40)  # 가로축 라벨을 30도 기울임\n",
    "    plt.show()"
   ]
  },
  {
   "cell_type": "markdown",
   "id": "955f21bc",
   "metadata": {},
   "source": [
    "### Dam 공정 시간에 따른 target 비율 확인"
   ]
  },
  {
   "cell_type": "code",
   "execution_count": 14,
   "id": "acce2e28",
   "metadata": {},
   "outputs": [
    {
     "data": {
      "image/png": "[encoded data removed]",
      "text/plain": [
       "<Figure size 640x480 with 1 Axes>"
      ]
     },
     "metadata": {},
     "output_type": "display_data"
    }
   ],
   "source": [
    "# 시간 열에 대해 target 값의 비율 계산 및 막대 차트 시각화\n",
    "\n",
    "# 임계값 리스트\n",
    "thresholds = list(range(0, 201, 10))\n",
    "# thresholds = [0, 10, 20, 30] # 임의로 지정하는 방식\n",
    "\n",
    "calculate_and_plot_target_ratio_bar(df_collect_date, 'Time_Dam', thresholds)"
   ]
  },
  {
   "cell_type": "markdown",
   "id": "aaf0747d",
   "metadata": {},
   "source": [
    "2구간으로 나눈다면 -> 110 or 120을 기준으로  \n",
    "3구간으로 나눈다면 -> 60, 120을 기준으로  \n",
    "파생변수를 생성할수 있을것으로 보임"
   ]
  },
  {
   "cell_type": "markdown",
   "id": "48ebb4a9",
   "metadata": {},
   "source": [
    "예상(해당 값이면 가중치를 부여 변수 느낌)  \n",
    "ex1 파생변수  \n",
    "Time_Dam_60 -> 60미만: 0/ 60 이상: 1     \n",
    "Time_Dam_120 -> 120미만: 0/ 120 이상: 1      \n",
    "ex2 파생변수    \n",
    "Time_Dam_new -> 60미만: 0/ 60이상&120미만: 1 /120이상: 2    "
   ]
  },
  {
   "cell_type": "markdown",
   "id": "85398e83",
   "metadata": {},
   "source": [
    "### Fill1 공정 시간에 따른 target 비율 확인"
   ]
  },
  {
   "cell_type": "code",
   "execution_count": 19,
   "id": "f69443f7",
   "metadata": {},
   "outputs": [
    {
     "data": {
      "image/png": "[encoded data removed]",
      "text/plain": [
       "<Figure size 640x480 with 1 Axes>"
      ]
     },
     "metadata": {},
     "output_type": "display_data"
    }
   ],
   "source": [
    "# 시간 열에 대해 target 값의 비율 계산 및 막대 차트 시각화\n",
    "\n",
    "# 임계값 리스트\n",
    "thresholds = list(range(0, 201, 10))\n",
    "\n",
    "calculate_and_plot_target_ratio_bar(df_collect_date, 'Time_Fill1', thresholds)"
   ]
  },
  {
   "cell_type": "markdown",
   "id": "ac6fc7d4",
   "metadata": {},
   "source": [
    "2구간으로 나눈다면 -> 50 or 60을 기준으로  \n",
    "3구간으로 나눈다면 -> 40, 80을 기준으로  \n",
    "파생변수를 생성할수 있을것으로 보임"
   ]
  },
  {
   "cell_type": "markdown",
   "id": "d0733447",
   "metadata": {},
   "source": [
    "### AutoClave 공정 시간에 따른 target 비율 확인"
   ]
  },
  {
   "cell_type": "code",
   "execution_count": 22,
   "id": "e490c85f",
   "metadata": {},
   "outputs": [
    {
     "data": {
      "image/png": "[encoded data removed]",
      "text/plain": [
       "<Figure size 640x480 with 1 Axes>"
      ]
     },
     "metadata": {},
     "output_type": "display_data"
    }
   ],
   "source": [
    "# 임계값 리스트\n",
    "thresholds = list(range(-50, 50, 5))\n",
    "\n",
    "calculate_and_plot_target_ratio_bar(df_collect_date, 'Time_AutoClave', thresholds)"
   ]
  },
  {
   "cell_type": "markdown",
   "id": "f2db872b",
   "metadata": {},
   "source": [
    "시간이 0이 아닌 순서 역전된다면 비정상 값을 가짐  "
   ]
  },
  {
   "cell_type": "markdown",
   "id": "6c012626",
   "metadata": {},
   "source": [
    "이때 차트로 확인하는 내용이 특정 임계값(스레스홀드) 보다 작은 값들의 타겟변수 비율 확인하는 것으로  \n",
    "임계값 20이라고 했을때 타겟변수 비율이 0.5라고 한다해도 임계값 20에 해당하는 변수는 비정상일수 있다  "
   ]
  }
 ],
 "metadata": {
  "kernelspec": {
   "display_name": "Python 3 (ipykernel)",
   "language": "python",
   "name": "python3"
  },
  "language_info": {
   "codemirror_mode": {
    "name": "ipython",
    "version": 3
   },
   "file_extension": ".py",
   "mimetype": "text/x-python",
   "name": "python",
   "nbconvert_exporter": "python",
   "pygments_lexer": "ipython3",
   "version": "3.7.8"
  }
 },
 "nbformat": 4,
 "nbformat_minor": 5
}

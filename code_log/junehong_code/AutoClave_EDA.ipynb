{
 "cells": [
  {
   "cell_type": "markdown",
   "id": "017e9265",
   "metadata": {},
   "source": [
    "# 제품 이상여부 판별 프로젝트"
   ]
  },
  {
   "cell_type": "markdown",
   "id": "25405677",
   "metadata": {},
   "source": [
    "Auto clave EDA"
   ]
  },
  {
   "cell_type": "markdown",
   "id": "acdab431",
   "metadata": {},
   "source": [
    "## 1. 데이터 불러오기"
   ]
  },
  {
   "cell_type": "code",
   "execution_count": 941,
   "id": "14caa301",
   "metadata": {},
   "outputs": [],
   "source": [
    "import warnings\n",
    "import pandas as pd\n",
    "\n",
    "# DtypeWarning 무시\n",
    "warnings.filterwarnings('ignore', category=pd.errors.DtypeWarning)\n",
    "\n",
    "# 데이터 파일 경로\n",
    "file_path_csv = '../../data/Auto clave.csv'\n",
    "file_path_target = '../../data/train_y.csv'\n",
    "\n",
    "# 데이터 파일 읽기\n",
    "csv_AutoClave = pd.read_csv(file_path_csv)\n",
    "csv_target = pd.read_csv(file_path_target)\n",
    "\n",
    "# csv_AutoClave & csv_target 병합\n",
    "df_AutoClave = pd.merge(csv_AutoClave, csv_target, \"inner\", on=\"Set ID\")"
   ]
  },
  {
   "cell_type": "code",
   "execution_count": 942,
   "id": "aff2b409",
   "metadata": {},
   "outputs": [],
   "source": [
    "# 출력 다 하고 싶을때 사용하는 코드\n",
    "\n",
    "## 출력 모두 보기\n",
    "pd.set_option('display.max_rows', None)\n",
    "\n",
    "# -- 여기에 코드 작성 --\n",
    "\n",
    "## 출력 모두 보기 취소 (원래대로 바꾸기)\n",
    "pd.reset_option('display.max_rows')"
   ]
  },
  {
   "cell_type": "code",
   "execution_count": 943,
   "id": "2a48a7fd",
   "metadata": {},
   "outputs": [
    {
     "name": "stdout",
     "output_type": "stream",
     "text": [
      "<class 'pandas.core.frame.DataFrame'>\n",
      "Int64Index: 42446 entries, 0 to 42445\n",
      "Data columns (total 27 columns):\n",
      " #   Column            Non-Null Count  Dtype  \n",
      "---  ------            --------------  -----  \n",
      " 0   Wip Line          42446 non-null  object \n",
      " 1   Process Desc.     42446 non-null  object \n",
      " 2   Equipment         42446 non-null  object \n",
      " 3   Model.Suffix      42446 non-null  object \n",
      " 4   Workorder         42446 non-null  object \n",
      " 5   LOT ID            42446 non-null  object \n",
      " 6   Set ID            42446 non-null  object \n",
      " 7   Box ID            0 non-null      float64\n",
      " 8   Collect Date      42446 non-null  object \n",
      " 9   Insp. Seq No.     42446 non-null  int64  \n",
      " 10  Insp Judge Code   42446 non-null  object \n",
      " 11  Collect Result    42446 non-null  float64\n",
      " 12  Unit Time         42446 non-null  int64  \n",
      " 13  Judge Value       42446 non-null  object \n",
      " 14  Collect Result.1  42446 non-null  float64\n",
      " 15  Unit Time.1       42446 non-null  int64  \n",
      " 16  Judge Value.1     42446 non-null  object \n",
      " 17  Collect Result.2  42446 non-null  float64\n",
      " 18  Unit Time.2       42446 non-null  int64  \n",
      " 19  Judge Value.2     42446 non-null  object \n",
      " 20  Collect Result.3  42446 non-null  int64  \n",
      " 21  Unit Time.3       42446 non-null  int64  \n",
      " 22  Judge Value.3     42446 non-null  object \n",
      " 23  Collect Result.4  11728 non-null  object \n",
      " 24  Unit Time.4       0 non-null      float64\n",
      " 25  Judge Value.4     11728 non-null  object \n",
      " 26  target            42446 non-null  object \n",
      "dtypes: float64(5), int64(6), object(16)\n",
      "memory usage: 9.1+ MB\n"
     ]
    }
   ],
   "source": [
    "df_AutoClave.info()"
   ]
  },
  {
   "cell_type": "code",
   "execution_count": 944,
   "id": "1394ba40",
   "metadata": {},
   "outputs": [
    {
     "name": "stdout",
     "output_type": "stream",
     "text": [
      "<class 'pandas.core.frame.DataFrame'>\n",
      "Int64Index: 42446 entries, 0 to 42445\n",
      "Data columns (total 27 columns):\n",
      " #   Column                         Non-Null Count  Dtype  \n",
      "---  ------                         --------------  -----  \n",
      " 0   Wip Line                       42446 non-null  object \n",
      " 1   Process Desc.                  42446 non-null  object \n",
      " 2   Equipment                      42446 non-null  object \n",
      " 3   Model.Suffix                   42446 non-null  object \n",
      " 4   Workorder                      42446 non-null  object \n",
      " 5   LOT ID                         42446 non-null  object \n",
      " 6   Set ID                         42446 non-null  object \n",
      " 7   Box ID                         0 non-null      float64\n",
      " 8   Collect Date                   42446 non-null  object \n",
      " 9   Insp. Seq No.                  42446 non-null  int64  \n",
      " 10  Insp Judge Code                42446 non-null  object \n",
      " 11  1st Pressure                   42446 non-null  float64\n",
      " 12  1st Pressure.1                 42446 non-null  int64  \n",
      " 13  1st Pressure.2                 42446 non-null  object \n",
      " 14  2nd Pressure                   42446 non-null  float64\n",
      " 15  2nd Pressure.1                 42446 non-null  int64  \n",
      " 16  2nd Pressure.2                 42446 non-null  object \n",
      " 17  3rd Pressure                   42446 non-null  float64\n",
      " 18  3rd Pressure.1                 42446 non-null  int64  \n",
      " 19  3rd Pressure.2                 42446 non-null  object \n",
      " 20  Chamber Temp.                  42446 non-null  int64  \n",
      " 21  Chamber Temp..1                42446 non-null  int64  \n",
      " 22  Chamber Temp..2                42446 non-null  object \n",
      " 23  GMES_ORIGIN_INSP_JUDGE_CODE    11728 non-null  object \n",
      " 24  GMES_ORIGIN_INSP_JUDGE_CODE.1  0 non-null      float64\n",
      " 25  GMES_ORIGIN_INSP_JUDGE_CODE.2  11728 non-null  object \n",
      " 26  target                         42446 non-null  object \n",
      "dtypes: float64(5), int64(6), object(16)\n",
      "memory usage: 9.1+ MB\n"
     ]
    }
   ],
   "source": [
    "import pandas as pd\n",
    "\n",
    "# 기존 변수 이름\n",
    "old_columns = [\n",
    "    'Collect Result', 'Unit Time', 'Judge Value',\n",
    "    'Collect Result.1', 'Unit Time.1', 'Judge Value.1',\n",
    "    'Collect Result.2', 'Unit Time.2', 'Judge Value.2',\n",
    "    'Collect Result.3', 'Unit Time.3', 'Judge Value.3',\n",
    "    'Collect Result.4', 'Unit Time.4', 'Judge Value.4'\n",
    "]\n",
    "\n",
    "# 새로운 변수 이름\n",
    "new_columns = [\n",
    "    '1st Pressure', '1st Pressure.1', '1st Pressure.2',\n",
    "    '2nd Pressure', '2nd Pressure.1', '2nd Pressure.2',\n",
    "    '3rd Pressure', '3rd Pressure.1', '3rd Pressure.2',\n",
    "    'Chamber Temp.', 'Chamber Temp..1', 'Chamber Temp..2',\n",
    "    'GMES_ORIGIN_INSP_JUDGE_CODE', 'GMES_ORIGIN_INSP_JUDGE_CODE.1', 'GMES_ORIGIN_INSP_JUDGE_CODE.2'\n",
    "]\n",
    "\n",
    "# 변수 이름 변경\n",
    "df_AutoClave.rename(columns=dict(zip(old_columns, new_columns)), inplace=True)\n",
    "\n",
    "df_AutoClave.info()"
   ]
  },
  {
   "cell_type": "code",
   "execution_count": 945,
   "id": "84c80ddb",
   "metadata": {},
   "outputs": [
    {
     "data": {
      "image/png": "[encoded data removed]",
      "text/plain": [
       "<Figure size 500x500 with 1 Axes>"
      ]
     },
     "metadata": {},
     "output_type": "display_data"
    }
   ],
   "source": [
    "import matplotlib.pyplot as plt\n",
    "\n",
    "# 'target' 변수의 비율 계산\n",
    "target_ratio = df_AutoClave['target'].value_counts(normalize=True)\n",
    "\n",
    "# 색상 팔레트 설정\n",
    "colors = plt.get_cmap('Set3')(range(len(target_ratio)))\n",
    "\n",
    "# 도넛 차트 그리기\n",
    "fig, ax = plt.subplots(figsize=(5, 5))\n",
    "wedges, texts, autotexts = ax.pie(\n",
    "    target_ratio, \n",
    "    autopct='%1.1f%%', \n",
    "    startangle=10, \n",
    "    colors=colors, \n",
    "    wedgeprops=dict(width=0.4, edgecolor='w')\n",
    ")\n",
    "\n",
    "# 차트 제목 추가\n",
    "ax.set_title('Target Ratio', fontsize=18, fontweight='bold')\n",
    "\n",
    "# 레이블 및 퍼센트 텍스트 스타일 설정\n",
    "plt.setp(texts, size=14, weight='bold', color='black')\n",
    "plt.setp(autotexts, size=12, weight='bold', color='black')\n",
    "\n",
    "# 범례 추가\n",
    "ax.legend(wedges, target_ratio.index, title=\"Target\", loc=\"center left\", bbox_to_anchor=(1, 0, 0.5, 1))\n",
    "\n",
    "# 차트 표시\n",
    "plt.show()"
   ]
  },
  {
   "cell_type": "markdown",
   "id": "c3d0a735",
   "metadata": {},
   "source": [
    "### 1. Wip Line, Process Desc, Equiment"
   ]
  },
  {
   "cell_type": "code",
   "execution_count": 946,
   "id": "10f60d08",
   "metadata": {},
   "outputs": [
    {
     "data": {
      "text/plain": [
       "IVI-OB6    42446\n",
       "Name: Wip Line, dtype: int64"
      ]
     },
     "execution_count": 946,
     "metadata": {},
     "output_type": "execute_result"
    }
   ],
   "source": [
    "df_AutoClave['Wip Line'].value_counts()"
   ]
  },
  {
   "cell_type": "code",
   "execution_count": 947,
   "id": "6600f0be",
   "metadata": {},
   "outputs": [
    {
     "data": {
      "text/plain": [
       "Auto Clave Out    42446\n",
       "Name: Process Desc., dtype: int64"
      ]
     },
     "execution_count": 947,
     "metadata": {},
     "output_type": "execute_result"
    }
   ],
   "source": [
    "df_AutoClave['Process Desc.'].value_counts()"
   ]
  },
  {
   "cell_type": "code",
   "execution_count": 948,
   "id": "4a7615fc",
   "metadata": {},
   "outputs": [
    {
     "data": {
      "text/plain": [
       "Auto Clave Out    42446\n",
       "Name: Equipment, dtype: int64"
      ]
     },
     "execution_count": 948,
     "metadata": {},
     "output_type": "execute_result"
    }
   ],
   "source": [
    "df_AutoClave['Equipment'].value_counts()"
   ]
  },
  {
   "cell_type": "markdown",
   "id": "49e55deb",
   "metadata": {},
   "source": [
    "3개의 변수 1가지 종류만 존재"
   ]
  },
  {
   "cell_type": "markdown",
   "id": "cc510ab4",
   "metadata": {},
   "source": [
    "### 2. Model.Suffix"
   ]
  },
  {
   "cell_type": "code",
   "execution_count": 949,
   "id": "1d0ca40f",
   "metadata": {},
   "outputs": [
    {
     "data": {
      "text/plain": [
       "AJX75334501    35432\n",
       "AJX75334502     3601\n",
       "AJX75334505     2744\n",
       "AJX75334507      312\n",
       "AJX75334503      162\n",
       "AJX75334506      133\n",
       "AJX75334508       62\n",
       "Name: Model.Suffix, dtype: int64"
      ]
     },
     "execution_count": 949,
     "metadata": {},
     "output_type": "execute_result"
    }
   ],
   "source": [
    "df_AutoClave['Model.Suffix'].value_counts()"
   ]
  },
  {
   "cell_type": "code",
   "execution_count": 950,
   "id": "59c22adb",
   "metadata": {},
   "outputs": [
    {
     "data": {
      "text/plain": [
       "AJX75334501    50598\n",
       "AJX75334502     5077\n",
       "AJX75334505     3984\n",
       "AJX75334507      450\n",
       "EAT65200901      446\n",
       "AJX75334503      228\n",
       "AJX75334506      177\n",
       "AJX75334508       92\n",
       "Name: Model.Suffix, dtype: int64"
      ]
     },
     "execution_count": 950,
     "metadata": {},
     "output_type": "execute_result"
    }
   ],
   "source": [
    "csv_AutoClave['Model.Suffix'].value_counts()"
   ]
  },
  {
   "cell_type": "markdown",
   "id": "31d2a380",
   "metadata": {},
   "source": [
    "- Suffix가 시리즈 이름(?) 인 AJX75334을 제외한 나머지 4글자   \n",
    "ex) 4501 같은 값을 의미를 나타내는 것일수도 있다는 생각  \n",
    "\n",
    "- 다른 공정에서 AJX75334 시리즈를 사용하는 기계(?) 가 있는것이 확인됨\n",
    "\n",
    "- df_AutoClave 에는 EAT65200 시리즈가 없지만 target 변수의 값이 있는 데이터프레임과  \n",
    "병합한 csv_AutoClave 에는 EAT65200 시리즈가 없음  "
   ]
  },
  {
   "cell_type": "code",
   "execution_count": 951,
   "id": "8b38222e",
   "metadata": {},
   "outputs": [],
   "source": [
    "# 'Model.Suffix' 변수의 앞 8자리 값을 추출\n",
    "csv_AutoClave['Model.Suffix_Prefix'] = csv_AutoClave['Model.Suffix'].str.slice(stop=8)"
   ]
  },
  {
   "cell_type": "code",
   "execution_count": 952,
   "id": "3bed1af2",
   "metadata": {},
   "outputs": [
    {
     "data": {
      "text/plain": [
       "AJX75334    60606\n",
       "EAT65200      446\n",
       "Name: Model.Suffix_Prefix, dtype: int64"
      ]
     },
     "execution_count": 952,
     "metadata": {},
     "output_type": "execute_result"
    }
   ],
   "source": [
    "csv_AutoClave['Model.Suffix_Prefix'].value_counts()"
   ]
  },
  {
   "cell_type": "markdown",
   "id": "e12944d5",
   "metadata": {},
   "source": [
    "이런식으로 앞의 8글자를 기준으로 그룹화 할수 있음"
   ]
  },
  {
   "cell_type": "code",
   "execution_count": 953,
   "id": "b1ce346e",
   "metadata": {},
   "outputs": [],
   "source": [
    "# 'Model.Suffix_Prefix' 값에 대한 'target' 변수의 비율 계산 \n",
    "\n",
    "# # 'Model.Suffix_Prefix'가 'AJX75334'인 행들 필터링\n",
    "# filtered_df = csv_AutoClave[csv_AutoClave['Model.Suffix_Prefix'] == 'AJX75334']\n",
    "\n",
    "# # 'target' 변수의 비율 계산\n",
    "# target_ratio = filtered_df['target'].value_counts(normalize=True)\n",
    "\n",
    "# # 비율 출력\n",
    "# print(target_ratio)"
   ]
  },
  {
   "cell_type": "markdown",
   "id": "68d0b4ad",
   "metadata": {},
   "source": [
    "-> 병합안한 데이터라 계산 못해서 주석처리함"
   ]
  },
  {
   "cell_type": "markdown",
   "id": "3b8eb400",
   "metadata": {},
   "source": [
    "### 3. Workorder"
   ]
  },
  {
   "cell_type": "code",
   "execution_count": 954,
   "id": "c8afd352",
   "metadata": {},
   "outputs": [
    {
     "data": {
      "text/plain": [
       "3L1X8574-2    278\n",
       "3K1XC268-1    236\n",
       "3L1X8506-1    224\n",
       "3L1X9934-1    224\n",
       "3M1XH425-1    207\n",
       "             ... \n",
       "4BPM0084-1      2\n",
       "4A1XE569-1      2\n",
       "3HPM0061-1      1\n",
       "3H1XB714-1      1\n",
       "4CPM0166-1      1\n",
       "Name: Workorder, Length: 663, dtype: int64"
      ]
     },
     "execution_count": 954,
     "metadata": {},
     "output_type": "execute_result"
    }
   ],
   "source": [
    "df_AutoClave['Workorder'].value_counts()"
   ]
  },
  {
   "cell_type": "code",
   "execution_count": 955,
   "id": "92c34764",
   "metadata": {},
   "outputs": [],
   "source": [
    "# 'Workorder' 변수의 앞 1자리 값을 추출\n",
    "df_AutoClave['Workorder_1'] = df_AutoClave['Workorder'].str.slice(stop=1)"
   ]
  },
  {
   "cell_type": "code",
   "execution_count": 956,
   "id": "e1896c8f",
   "metadata": {},
   "outputs": [
    {
     "data": {
      "text/plain": [
       "3    29005\n",
       "4    13441\n",
       "Name: Workorder_1, dtype: int64"
      ]
     },
     "execution_count": 956,
     "metadata": {},
     "output_type": "execute_result"
    }
   ],
   "source": [
    "df_AutoClave['Workorder_1'].value_counts()"
   ]
  },
  {
   "cell_type": "code",
   "execution_count": 957,
   "id": "6d1a02ae",
   "metadata": {},
   "outputs": [
    {
     "name": "stdout",
     "output_type": "stream",
     "text": [
      "Target ratio for Workorder_1 = 3:\n",
      "Normal      0.89157\n",
      "AbNormal    0.10843\n",
      "Name: target, dtype: float64\n",
      "\n",
      "Target ratio for Workorder_1 = 4:\n",
      "Normal      0.914887\n",
      "AbNormal    0.085113\n",
      "Name: target, dtype: float64\n"
     ]
    }
   ],
   "source": [
    "# 'Workorder_1' 값에 대한 'target' 변수의 비율 계산\n",
    "\n",
    "# 'Workorder_1'가 '3'인 행들 필터링\n",
    "filtered_df_3 = df_AutoClave[df_AutoClave['Workorder_1'] == '3']\n",
    "\n",
    "# 'Workorder_1'가 '4'인 행들 필터링\n",
    "filtered_df_4 = df_AutoClave[df_AutoClave['Workorder_1'] == '4']\n",
    "\n",
    "# 'target' 변수의 비율 계산\n",
    "target_ratio_3 = filtered_df_3['target'].value_counts(normalize=True)\n",
    "target_ratio_4 = filtered_df_4['target'].value_counts(normalize=True)\n",
    "\n",
    "# 비율 출력\n",
    "print(\"Target ratio for Workorder_1 = 3:\")\n",
    "print(target_ratio_3)\n",
    "print(\"\\nTarget ratio for Workorder_1 = 4:\")\n",
    "print(target_ratio_4)"
   ]
  },
  {
   "cell_type": "markdown",
   "id": "f6fb5c57",
   "metadata": {},
   "source": [
    "원본 데이터의 타겟변수 비율 Normal:89.9%, AbNormal:10.1% 와 비교했을때  \n",
    "거의 차이가 없는것을 보임"
   ]
  },
  {
   "cell_type": "code",
   "execution_count": 958,
   "id": "6e144fda",
   "metadata": {},
   "outputs": [],
   "source": [
    "# 'Workorder' 변수의 앞 1~2째자리 값을 추출\n",
    "df_AutoClave['Workorder_2'] = df_AutoClave['Workorder'].str[1:2]"
   ]
  },
  {
   "cell_type": "code",
   "execution_count": 959,
   "id": "f0c6aedf",
   "metadata": {},
   "outputs": [
    {
     "data": {
      "text/plain": [
       "G    5024\n",
       "M    4847\n",
       "J    4300\n",
       "A    4156\n",
       "L    3925\n",
       "H    3728\n",
       "K    3404\n",
       "B    3167\n",
       "E    2870\n",
       "F    2402\n",
       "I    2378\n",
       "C    2245\n",
       "Name: Workorder_2, dtype: int64"
      ]
     },
     "execution_count": 959,
     "metadata": {},
     "output_type": "execute_result"
    }
   ],
   "source": [
    "df_AutoClave['Workorder_2'].value_counts()"
   ]
  },
  {
   "cell_type": "code",
   "execution_count": 960,
   "id": "45468a7c",
   "metadata": {},
   "outputs": [],
   "source": [
    "# 'Workorder' 변수의 앞 2~3째자리 값을 추출\n",
    "df_AutoClave['Workorder_3'] = df_AutoClave['Workorder'].str[2:4]"
   ]
  },
  {
   "cell_type": "code",
   "execution_count": 961,
   "id": "27b5c330",
   "metadata": {},
   "outputs": [
    {
     "data": {
      "text/plain": [
       "1X    41407\n",
       "PM      635\n",
       "PX      404\n",
       "Name: Workorder_3, dtype: int64"
      ]
     },
     "execution_count": 961,
     "metadata": {},
     "output_type": "execute_result"
    }
   ],
   "source": [
    "df_AutoClave['Workorder_3'].value_counts()"
   ]
  },
  {
   "cell_type": "code",
   "execution_count": 962,
   "id": "b21e1c1c",
   "metadata": {},
   "outputs": [
    {
     "name": "stdout",
     "output_type": "stream",
     "text": [
      "Target ratio for Workorder_3 = 1X:\n",
      "Normal      0.899389\n",
      "AbNormal    0.100611\n",
      "Name: target, dtype: float64\n",
      "\n",
      "Target ratio for Workorder_3 = PX:\n",
      "Normal      0.779703\n",
      "AbNormal    0.220297\n",
      "Name: target, dtype: float64\n",
      "\n",
      "Target ratio for Workorder_3 = PM:\n",
      "Normal      0.946457\n",
      "AbNormal    0.053543\n",
      "Name: target, dtype: float64\n"
     ]
    }
   ],
   "source": [
    "# 'Workorder_3' 값에 대한 'target' 변수의 비율 계산\n",
    "\n",
    "# 'Workorder_3'가 '0'인 행들 필터링\n",
    "filtered_df_0 = df_AutoClave[df_AutoClave['Workorder_3'] == '1X']\n",
    "\n",
    "# 'Workorder_3'가 '1'인 행들 필터링\n",
    "filtered_df_1 = df_AutoClave[df_AutoClave['Workorder_3'] == 'PX']\n",
    "\n",
    "# 'Workorder_3'가 '2'인 행들 필터링\n",
    "filtered_df_2 = df_AutoClave[df_AutoClave['Workorder_3'] == 'PM']\n",
    "\n",
    "# 'target' 변수의 비율 계산\n",
    "filtered_df_0 = filtered_df_0['target'].value_counts(normalize=True)\n",
    "filtered_df_1 = filtered_df_1['target'].value_counts(normalize=True)\n",
    "filtered_df_2 = filtered_df_2['target'].value_counts(normalize=True)\n",
    "\n",
    "# 비율 출력\n",
    "print(\"Target ratio for Workorder_3 = 1X:\")\n",
    "print(filtered_df_0)\n",
    "print(\"\\nTarget ratio for Workorder_3 = PX:\")\n",
    "print(filtered_df_1)\n",
    "print(\"\\nTarget ratio for Workorder_3 = PM:\")\n",
    "print(filtered_df_2)"
   ]
  },
  {
   "cell_type": "code",
   "execution_count": 963,
   "id": "6fa273dc",
   "metadata": {},
   "outputs": [],
   "source": [
    "# 'Workorder' 변수의 앞 5~7째자리 값을 추출\n",
    "df_AutoClave['Workorder_4'] = df_AutoClave['Workorder'].str[5:8]"
   ]
  },
  {
   "cell_type": "code",
   "execution_count": 964,
   "id": "b84c3f40",
   "metadata": {},
   "outputs": [
    {
     "data": {
      "text/plain": [
       "644    456\n",
       "258    379\n",
       "425    344\n",
       "501    325\n",
       "542    314\n",
       "      ... \n",
       "062      3\n",
       "064      2\n",
       "569      2\n",
       "714      1\n",
       "061      1\n",
       "Name: Workorder_4, Length: 439, dtype: int64"
      ]
     },
     "execution_count": 964,
     "metadata": {},
     "output_type": "execute_result"
    }
   ],
   "source": [
    "df_AutoClave['Workorder_4'].value_counts()"
   ]
  },
  {
   "cell_type": "code",
   "execution_count": 965,
   "id": "c00cbfcf",
   "metadata": {},
   "outputs": [],
   "source": [
    "# 'Workorder' 변수의 앞 1자리 값을 추출\n",
    "df_AutoClave['Workorder_5'] = df_AutoClave['Workorder'].str[9]"
   ]
  },
  {
   "cell_type": "code",
   "execution_count": 966,
   "id": "06bfa4d0",
   "metadata": {},
   "outputs": [
    {
     "data": {
      "text/plain": [
       "1    35304\n",
       "2     6344\n",
       "0      404\n",
       "3      202\n",
       "4      192\n",
       "Name: Workorder_5, dtype: int64"
      ]
     },
     "execution_count": 966,
     "metadata": {},
     "output_type": "execute_result"
    }
   ],
   "source": [
    "df_AutoClave['Workorder_5'].value_counts()"
   ]
  },
  {
   "cell_type": "code",
   "execution_count": 967,
   "id": "80c90688",
   "metadata": {},
   "outputs": [
    {
     "name": "stdout",
     "output_type": "stream",
     "text": [
      "Target ratio for Workorder_5 = 0:\n",
      "Normal      0.779703\n",
      "AbNormal    0.220297\n",
      "Name: target, dtype: float64\n",
      "\n",
      "Target ratio for Workorder_5 = 1:\n",
      "Normal      0.898425\n",
      "AbNormal    0.101575\n",
      "Name: target, dtype: float64\n",
      "Target ratio for Workorder_5 = 2:\n",
      "Normal      0.90826\n",
      "AbNormal    0.09174\n",
      "Name: target, dtype: float64\n",
      "\n",
      "Target ratio for Workorder_5 = 3:\n",
      "Normal      0.890625\n",
      "AbNormal    0.109375\n",
      "Name: target, dtype: float64\n",
      "\n",
      "Target ratio for Workorder_5 = 4:\n",
      "Normal      0.914887\n",
      "AbNormal    0.085113\n",
      "Name: target, dtype: float64\n"
     ]
    }
   ],
   "source": [
    "# 'Workorder_5' 값에 대한 'target' 변수의 비율 계산\n",
    "\n",
    "# 'Workorder_5'가 '0'인 행들 필터링\n",
    "filtered_df_0 = df_AutoClave[df_AutoClave['Workorder_5'] == '0']\n",
    "\n",
    "# 'Workorder_5'가 '1'인 행들 필터링\n",
    "filtered_df_1 = df_AutoClave[df_AutoClave['Workorder_5'] == '1']\n",
    "\n",
    "# 'Workorder_5'가 '2'인 행들 필터링\n",
    "filtered_df_2 = df_AutoClave[df_AutoClave['Workorder_5'] == '2']\n",
    "\n",
    "# 'Workorder_5'가 '3'인 행들 필터링\n",
    "filtered_df_3 = df_AutoClave[df_AutoClave['Workorder_5'] == '3']\n",
    "\n",
    "# 'Workorder_5'가 '4'인 행들 필터링\n",
    "filtered_df_3 = df_AutoClave[df_AutoClave['Workorder_5'] == '4']\n",
    "\n",
    "# 'target' 변수의 비율 계산\n",
    "filtered_df_0 = filtered_df_0['target'].value_counts(normalize=True)\n",
    "filtered_df_1 = filtered_df_1['target'].value_counts(normalize=True)\n",
    "filtered_df_2 = filtered_df_2['target'].value_counts(normalize=True)\n",
    "filtered_df_3 = filtered_df_3['target'].value_counts(normalize=True)\n",
    "filtered_df_4 = filtered_df_4['target'].value_counts(normalize=True)\n",
    "\n",
    "# 비율 출력\n",
    "print(\"Target ratio for Workorder_5 = 0:\")\n",
    "print(filtered_df_0)\n",
    "print(\"\\nTarget ratio for Workorder_5 = 1:\")\n",
    "print(filtered_df_1)\n",
    "print(\"Target ratio for Workorder_5 = 2:\")\n",
    "print(filtered_df_2)\n",
    "print(\"\\nTarget ratio for Workorder_5 = 3:\")\n",
    "print(filtered_df_3)\n",
    "print(\"\\nTarget ratio for Workorder_5 = 4:\")\n",
    "print(filtered_df_4)"
   ]
  },
  {
   "cell_type": "markdown",
   "id": "961050bf",
   "metadata": {},
   "source": [
    "workorder 값중 일부 값을 이용해서 그룹화 하는 방향성  \n",
    "-> 분석상 완전히 이거다 하는것은 보이지는 x"
   ]
  },
  {
   "cell_type": "markdown",
   "id": "4b8784e0",
   "metadata": {},
   "source": [
    "### 4. LOT ID, Set ID, Box ID"
   ]
  },
  {
   "cell_type": "code",
   "execution_count": 968,
   "id": "165677c9",
   "metadata": {},
   "outputs": [
    {
     "data": {
      "text/plain": [
       "OP753345013080001009    4\n",
       "OP753345013060003926    4\n",
       "OP753345013060001622    4\n",
       "Name: LOT ID, dtype: int64"
      ]
     },
     "execution_count": 968,
     "metadata": {},
     "output_type": "execute_result"
    }
   ],
   "source": [
    "df_AutoClave['LOT ID'].value_counts().head(3)"
   ]
  },
  {
   "cell_type": "code",
   "execution_count": 969,
   "id": "50e5d46c",
   "metadata": {},
   "outputs": [
    {
     "data": {
      "text/plain": [
       "OP753345013080001009    4\n",
       "OP753345013060003926    4\n",
       "OP753345013060001622    4\n",
       "Name: Set ID, dtype: int64"
      ]
     },
     "execution_count": 969,
     "metadata": {},
     "output_type": "execute_result"
    }
   ],
   "source": [
    "df_AutoClave['Set ID'].value_counts().head(3)"
   ]
  },
  {
   "cell_type": "code",
   "execution_count": 970,
   "id": "1cffdb13",
   "metadata": {},
   "outputs": [
    {
     "data": {
      "text/plain": [
       "Series([], Name: Box ID, dtype: int64)"
      ]
     },
     "execution_count": 970,
     "metadata": {},
     "output_type": "execute_result"
    }
   ],
   "source": [
    "df_AutoClave['Box ID'].value_counts().head(3)"
   ]
  },
  {
   "cell_type": "markdown",
   "id": "e137dfa2",
   "metadata": {},
   "source": [
    "ID 변수에 대해서 LOT ID, Set ID 값은 동일값으로 들어가있고  \n",
    "Box ID는 모든값에 대해서 결측  \n",
    "\n",
    "Set ID 값은 데이터 프레임 병합이나 정답지 생성시 이용됨으로 변형하지 않고  \n",
    "나머지 LOT ID, Box ID 값에 Set ID 값의 변형(분해)형태를 넣어줌  "
   ]
  },
  {
   "cell_type": "code",
   "execution_count": 971,
   "id": "079f497f",
   "metadata": {},
   "outputs": [],
   "source": [
    "import warnings\n",
    "import pandas as pd\n",
    "\n",
    "# DtypeWarning 무시\n",
    "warnings.filterwarnings('ignore', category=pd.errors.DtypeWarning)\n",
    "\n",
    "# 데이터 파일 경로\n",
    "df_merged_path = '../../data/df_merged.csv'\n",
    "\n",
    "# 데이터 파일 읽기\n",
    "df_merged = pd.read_csv(df_merged_path)"
   ]
  },
  {
   "cell_type": "code",
   "execution_count": 972,
   "id": "2a2bef82",
   "metadata": {},
   "outputs": [
    {
     "data": {
      "text/plain": [
       "OP753345013050000003    1\n",
       "OP753345023120000104    1\n",
       "OP753345023120000096    1\n",
       "OP753345023120000097    1\n",
       "OP753345023120000098    1\n",
       "Name: Set ID, dtype: int64"
      ]
     },
     "execution_count": 972,
     "metadata": {},
     "output_type": "execute_result"
    }
   ],
   "source": [
    "df_merged['Set ID'].value_counts().head(5)"
   ]
  },
  {
   "cell_type": "code",
   "execution_count": 973,
   "id": "29ff9b9b",
   "metadata": {},
   "outputs": [
    {
     "data": {
      "image/png": "[encoded data removed]",
      "text/plain": [
       "<Figure size 500x500 with 1 Axes>"
      ]
     },
     "metadata": {},
     "output_type": "display_data"
    }
   ],
   "source": [
    "import matplotlib.pyplot as plt\n",
    "\n",
    "# 'target' 변수의 비율 계산\n",
    "target_ratio = df_merged['target'].value_counts(normalize=True)\n",
    "\n",
    "# 색상 팔레트 설정\n",
    "colors = plt.get_cmap('Set3')(range(len(target_ratio)))\n",
    "\n",
    "# 도넛 차트 그리기\n",
    "fig, ax = plt.subplots(figsize=(5, 5))\n",
    "wedges, texts, autotexts = ax.pie(\n",
    "    target_ratio, \n",
    "    autopct='%1.1f%%', \n",
    "    startangle=10, \n",
    "    colors=colors, \n",
    "    wedgeprops=dict(width=0.4, edgecolor='w')\n",
    ")\n",
    "\n",
    "# 차트 제목 추가\n",
    "ax.set_title('df_merged Target Ratio', fontsize=18, fontweight='bold')\n",
    "\n",
    "# 레이블 및 퍼센트 텍스트 스타일 설정\n",
    "plt.setp(texts, size=14, weight='bold', color='black')\n",
    "plt.setp(autotexts, size=12, weight='bold', color='black')\n",
    "\n",
    "# 범례 추가\n",
    "ax.legend(wedges, target_ratio.index, title=\"Target\", loc=\"center left\", bbox_to_anchor=(1, 0, 0.5, 1))\n",
    "\n",
    "# 차트 표시\n",
    "plt.show()"
   ]
  },
  {
   "cell_type": "code",
   "execution_count": 974,
   "id": "f0b6895b",
   "metadata": {},
   "outputs": [
    {
     "name": "stdout",
     "output_type": "stream",
     "text": [
      "Normal      0.936793\n",
      "AbNormal    0.063207\n",
      "Name: target, dtype: float64\n"
     ]
    }
   ],
   "source": [
    "# 'Workorder - Dam'의 값이 '3'으로 시작하는 행 필터링\n",
    "filtered_df_1 = df_merged[df_merged['Workorder - Dam'].str.startswith('3')]\n",
    "\n",
    "# 'Set ID'의 9번째 값이 '3'인 행 필터링\n",
    "filtered_df_2 = filtered_df_1[filtered_df_1['Set ID'].str[10] == '3']\n",
    "\n",
    "# 타겟 변수의 비율 계산\n",
    "target_variable_counts = filtered_df_2['target'].value_counts(normalize=True)\n",
    "print(target_variable_counts)"
   ]
  },
  {
   "cell_type": "code",
   "execution_count": 975,
   "id": "a6f2f3d1",
   "metadata": {},
   "outputs": [
    {
     "name": "stdout",
     "output_type": "stream",
     "text": [
      "Normal      0.955449\n",
      "AbNormal    0.044551\n",
      "Name: target, dtype: float64\n"
     ]
    }
   ],
   "source": [
    "# 'Workorder - Dam'의 값이 '3'으로 시작하는 행 필터링\n",
    "filtered_df_1 = df_merged[df_merged['Workorder - Dam'].str.startswith('4')]\n",
    "\n",
    "# 'Set ID'의 10번째 값이 '3'인 행 필터링\n",
    "filtered_df_2 = filtered_df_1[filtered_df_1['Set ID'].str[10] == '4']\n",
    "\n",
    "# 타겟 변수의 비율 계산\n",
    "target_variable_counts = filtered_df_2['target'].value_counts(normalize=True)\n",
    "print(target_variable_counts)"
   ]
  },
  {
   "cell_type": "code",
   "execution_count": 976,
   "id": "79c6eb1a",
   "metadata": {},
   "outputs": [
    {
     "name": "stdout",
     "output_type": "stream",
     "text": [
      "Normal      0.962963\n",
      "AbNormal    0.037037\n",
      "Name: target, dtype: float64\n"
     ]
    }
   ],
   "source": [
    "# 'Workorder - Dam'의 값이 '3'으로 시작하는 행 필터링\n",
    "filtered_df_1 = df_merged[df_merged['Workorder - Dam'].str.startswith('3')]\n",
    "\n",
    "# 'Set ID'의 11번째 값이 '4'인 행 필터링\n",
    "filtered_df_2 = filtered_df_1[filtered_df_1['Set ID'].str[10] == '4']\n",
    "\n",
    "# 타겟 변수의 비율 계산\n",
    "target_variable_counts = filtered_df_2['target'].value_counts(normalize=True)\n",
    "print(target_variable_counts)"
   ]
  },
  {
   "cell_type": "code",
   "execution_count": 977,
   "id": "12f61b2f",
   "metadata": {},
   "outputs": [
    {
     "name": "stdout",
     "output_type": "stream",
     "text": [
      "Normal      0.938895\n",
      "AbNormal    0.061105\n",
      "Name: target, dtype: float64\n"
     ]
    }
   ],
   "source": [
    "# 'Workorder - Dam'의 값이 '4'으로 시작하는 행 필터링\n",
    "filtered_df_1 = df_merged[df_merged['Workorder - Dam'].str.startswith('4')]\n",
    "\n",
    "# 'Set ID'의 11번째 값이 '3'인 행 필터링\n",
    "filtered_df_2 = filtered_df_1[filtered_df_1['Set ID'].str[10] == '3']\n",
    "\n",
    "# 타겟 변수의 비율 계산\n",
    "target_variable_counts = filtered_df_2['target'].value_counts(normalize=True)\n",
    "print(target_variable_counts)"
   ]
  },
  {
   "cell_type": "markdown",
   "id": "7612c27a",
   "metadata": {},
   "source": [
    "workorder 값의 첫번째가 3또는 4인 부분과 Set ID 의 11번째 값이 3또는 4인 값인 부분에서  \n",
    "공통점이 있을거 같아서 분석해봤는데 유의미한지 잘 모르겠음"
   ]
  },
  {
   "cell_type": "code",
   "execution_count": 978,
   "id": "f3629250",
   "metadata": {},
   "outputs": [
    {
     "data": {
      "text/plain": [
       "OP7533450    40506\n",
       "Name: ID_1, dtype: int64"
      ]
     },
     "execution_count": 978,
     "metadata": {},
     "output_type": "execute_result"
    }
   ],
   "source": [
    "# 'Set ID' 변수의 앞 1~9째자리 값을 추출\n",
    "df_merged['ID_1'] = df_merged['Set ID'].str[0:9]\n",
    "\n",
    "df_merged['ID_1'].value_counts()"
   ]
  },
  {
   "cell_type": "code",
   "execution_count": 979,
   "id": "4cfe412e",
   "metadata": {},
   "outputs": [
    {
     "data": {
      "text/plain": [
       "13    26715\n",
       "14     7105\n",
       "54     2542\n",
       "23     2226\n",
       "24     1164\n",
       "73      219\n",
       "63      105\n",
       "53       93\n",
       "74       91\n",
       "33       90\n",
       "34       72\n",
       "84       50\n",
       "64       24\n",
       "83       10\n",
       "Name: ID_1, dtype: int64"
      ]
     },
     "execution_count": 979,
     "metadata": {},
     "output_type": "execute_result"
    }
   ],
   "source": [
    "# 'Set ID' 변수의 앞 1~9째자리 값을 추출\n",
    "df_merged['ID_1'] = df_merged['Set ID'].str[9:11]\n",
    "\n",
    "df_merged['ID_1'].value_counts()"
   ]
  },
  {
   "cell_type": "code",
   "execution_count": 980,
   "id": "b99e5960",
   "metadata": {},
   "outputs": [
    {
     "data": {
      "text/plain": [
       "1    33820\n",
       "2     3390\n",
       "5     2635\n",
       "7      310\n",
       "3      162\n",
       "6      129\n",
       "8       60\n",
       "Name: ID_2, dtype: int64"
      ]
     },
     "execution_count": 980,
     "metadata": {},
     "output_type": "execute_result"
    }
   ],
   "source": [
    "# 'Set ID' 변수의 앞 1~9째자리 값을 추출\n",
    "df_merged['ID_2'] = df_merged['Set ID'].str[9:10]\n",
    "\n",
    "df_merged['ID_2'].value_counts()"
   ]
  },
  {
   "cell_type": "code",
   "execution_count": 981,
   "id": "ef9a06b9",
   "metadata": {},
   "outputs": [
    {
     "data": {
      "text/plain": [
       "OP753345013080001009    4\n",
       "OP753345013060003926    4\n",
       "OP753345013060001622    4\n",
       "OP753345013050001894    4\n",
       "OP753345013060001680    4\n",
       "Name: Set ID, dtype: int64"
      ]
     },
     "execution_count": 981,
     "metadata": {},
     "output_type": "execute_result"
    }
   ],
   "source": [
    "df_AutoClave['Set ID'].value_counts().head(5)"
   ]
  },
  {
   "cell_type": "code",
   "execution_count": 982,
   "id": "aa474cbd",
   "metadata": {},
   "outputs": [],
   "source": [
    "# 'Set ID' 변수의 앞 1~9째자리 값을 추출\n",
    "df_AutoClave['ID_1'] = df_AutoClave['Set ID'].str[0:9]"
   ]
  },
  {
   "cell_type": "code",
   "execution_count": 983,
   "id": "a18f7636",
   "metadata": {},
   "outputs": [
    {
     "data": {
      "text/plain": [
       "OP7533450    42446\n",
       "Name: ID_1, dtype: int64"
      ]
     },
     "execution_count": 983,
     "metadata": {},
     "output_type": "execute_result"
    }
   ],
   "source": [
    "df_AutoClave['ID_1'].value_counts()"
   ]
  },
  {
   "cell_type": "code",
   "execution_count": 984,
   "id": "70294c3c",
   "metadata": {},
   "outputs": [
    {
     "data": {
      "text/plain": [
       "1    35432\n",
       "2     3601\n",
       "5     2744\n",
       "7      312\n",
       "3      162\n",
       "6      133\n",
       "8       62\n",
       "Name: ID_2, dtype: int64"
      ]
     },
     "execution_count": 984,
     "metadata": {},
     "output_type": "execute_result"
    }
   ],
   "source": [
    "# 'Set ID' 10째자리 값을 추출\n",
    "df_AutoClave['ID_2'] = df_AutoClave['Set ID'].str[9]\n",
    "\n",
    "df_AutoClave['ID_2'].value_counts()"
   ]
  },
  {
   "cell_type": "markdown",
   "id": "6cef201f",
   "metadata": {},
   "source": [
    "1~8의 값중에서 4가 빠진 7종류의 값"
   ]
  },
  {
   "cell_type": "code",
   "execution_count": 985,
   "id": "94560f97",
   "metadata": {},
   "outputs": [
    {
     "data": {
      "text/plain": [
       "3    30971\n",
       "4    11475\n",
       "Name: ID_3, dtype: int64"
      ]
     },
     "execution_count": 985,
     "metadata": {},
     "output_type": "execute_result"
    }
   ],
   "source": [
    "# 'Set ID' 변수의 앞 11째자리 값을 추출\n",
    "df_AutoClave['ID_3'] = df_AutoClave['Set ID'].str[10]\n",
    "\n",
    "df_AutoClave['ID_3'].value_counts()"
   ]
  },
  {
   "cell_type": "markdown",
   "id": "f310e3db",
   "metadata": {},
   "source": [
    "3 또는 4의 값을 가짐"
   ]
  },
  {
   "cell_type": "code",
   "execution_count": 986,
   "id": "daead25a",
   "metadata": {},
   "outputs": [
    {
     "data": {
      "text/plain": [
       "12    5180\n",
       "06    4975\n",
       "11    4104\n",
       "10    3984\n",
       "01    3775\n",
       "09    3640\n",
       "07    3543\n",
       "05    2982\n",
       "03    2715\n",
       "08    2563\n",
       "02    2537\n",
       "04    2448\n",
       "Name: ID_4, dtype: int64"
      ]
     },
     "execution_count": 986,
     "metadata": {},
     "output_type": "execute_result"
    }
   ],
   "source": [
    "# 'Set ID' 변수의 앞 12~13째자리 값을 추출\n",
    "df_AutoClave['ID_4'] = df_AutoClave['Set ID'].str[11:13]\n",
    "\n",
    "df_AutoClave['ID_4'].value_counts()"
   ]
  },
  {
   "cell_type": "markdown",
   "id": "d5f62745",
   "metadata": {},
   "source": [
    "01~12까지 있는 월을 의미하는것으로 보임"
   ]
  },
  {
   "cell_type": "code",
   "execution_count": 987,
   "id": "38a4583d",
   "metadata": {},
   "outputs": [
    {
     "data": {
      "text/plain": [
       "000    42446\n",
       "Name: ID_4, dtype: int64"
      ]
     },
     "execution_count": 987,
     "metadata": {},
     "output_type": "execute_result"
    }
   ],
   "source": [
    "# 'Set ID' 변수의 앞 14~16째자리 값을 추출\n",
    "df_AutoClave['ID_4'] = df_AutoClave['Set ID'].str[13:16]\n",
    "\n",
    "df_AutoClave['ID_4'].value_counts()"
   ]
  },
  {
   "cell_type": "markdown",
   "id": "d0a294df",
   "metadata": {},
   "source": [
    "동일하게 000의 값"
   ]
  },
  {
   "cell_type": "code",
   "execution_count": 988,
   "id": "e0f17e10",
   "metadata": {},
   "outputs": [
    {
     "data": {
      "text/plain": [
       "0004    34\n",
       "0018    31\n",
       "0008    31\n",
       "0002    30\n",
       "0006    29\n",
       "        ..\n",
       "6788     1\n",
       "6786     1\n",
       "6779     1\n",
       "6770     1\n",
       "5381     1\n",
       "Name: ID_5, Length: 6951, dtype: int64"
      ]
     },
     "execution_count": 988,
     "metadata": {},
     "output_type": "execute_result"
    }
   ],
   "source": [
    "# 'Set ID' 변수의 앞 17~마지막째자리 값을 추출\n",
    "df_AutoClave['ID_5'] = df_AutoClave['Set ID'].str[16:]\n",
    "\n",
    "df_AutoClave['ID_5'].value_counts()"
   ]
  },
  {
   "cell_type": "markdown",
   "id": "923f4a66",
   "metadata": {},
   "source": [
    "마지막 4째자리는 순번 정도의 의미일것으로 보임"
   ]
  },
  {
   "cell_type": "code",
   "execution_count": 989,
   "id": "4f87c4c2",
   "metadata": {},
   "outputs": [
    {
     "name": "stdout",
     "output_type": "stream",
     "text": [
      "Target ratio for ID_3 = 0:\n",
      "Normal      0.891189\n",
      "AbNormal    0.108811\n",
      "Name: target, dtype: float64\n",
      "\n",
      "Target ratio for ID_3 = 1:\n",
      "Normal      0.919913\n",
      "AbNormal    0.080087\n",
      "Name: target, dtype: float64\n"
     ]
    }
   ],
   "source": [
    "# 'ID_3' 값에 대한 'target' 변수의 비율 계산\n",
    "\n",
    "# 'ID_3'가 '3'인 행들 필터링\n",
    "filtered_df_0 = df_AutoClave[df_AutoClave['ID_3'] == '3']\n",
    "\n",
    "# 'ID_3'가 '4'인 행들 필터링\n",
    "filtered_df_1 = df_AutoClave[df_AutoClave['ID_3'] == '4']\n",
    "\n",
    "# 'target' 변수의 비율 계산\n",
    "filtered_df_0 = filtered_df_0['target'].value_counts(normalize=True)\n",
    "filtered_df_1 = filtered_df_1['target'].value_counts(normalize=True)\n",
    "\n",
    "# 비율 출력\n",
    "print(\"Target ratio for ID_3 = 0:\")\n",
    "print(filtered_df_0)\n",
    "print(\"\\nTarget ratio for ID_3 = 1:\")\n",
    "print(filtered_df_1)"
   ]
  },
  {
   "cell_type": "code",
   "execution_count": 990,
   "id": "36111bf2",
   "metadata": {},
   "outputs": [
    {
     "name": "stdout",
     "output_type": "stream",
     "text": [
      "Normal      0.898954\n",
      "AbNormal    0.101046\n",
      "Name: target, dtype: float64\n"
     ]
    }
   ],
   "source": [
    "# df_AutoClave 타겟변수 비율 출력\n",
    "AutoClave_target_ratio = df_AutoClave['target'].value_counts(normalize=True)\n",
    "\n",
    "print(AutoClave_target_ratio)"
   ]
  },
  {
   "cell_type": "markdown",
   "id": "c80c3a7f",
   "metadata": {},
   "source": [
    "차이가 크게 나타나지는 않는것으로 보임"
   ]
  },
  {
   "cell_type": "markdown",
   "id": "ce87eb4d",
   "metadata": {},
   "source": [
    "### 5. Collect Date"
   ]
  },
  {
   "cell_type": "markdown",
   "id": "61994c78",
   "metadata": {},
   "source": [
    "Time compare code 참고"
   ]
  },
  {
   "cell_type": "markdown",
   "id": "9eaf6925",
   "metadata": {},
   "source": [
    "### 6. Insp. Seq No."
   ]
  },
  {
   "cell_type": "code",
   "execution_count": 991,
   "id": "43c1f89f",
   "metadata": {},
   "outputs": [
    {
     "data": {
      "text/plain": [
       "1    40506\n",
       "Name: Insp. Seq No. - Dam, dtype: int64"
      ]
     },
     "execution_count": 991,
     "metadata": {},
     "output_type": "execute_result"
    }
   ],
   "source": [
    "df_merged['Insp. Seq No. - Dam'].value_counts()"
   ]
  },
  {
   "cell_type": "code",
   "execution_count": 992,
   "id": "172843a1",
   "metadata": {},
   "outputs": [
    {
     "data": {
      "text/plain": [
       "1    40506\n",
       "Name: Insp. Seq No. - Fill1, dtype: int64"
      ]
     },
     "execution_count": 992,
     "metadata": {},
     "output_type": "execute_result"
    }
   ],
   "source": [
    "df_merged['Insp. Seq No. - Fill1'].value_counts()"
   ]
  },
  {
   "cell_type": "code",
   "execution_count": 993,
   "id": "de6abd47",
   "metadata": {},
   "outputs": [
    {
     "data": {
      "text/plain": [
       "1    40506\n",
       "Name: Insp. Seq No. - Fill2, dtype: int64"
      ]
     },
     "execution_count": 993,
     "metadata": {},
     "output_type": "execute_result"
    }
   ],
   "source": [
    "df_merged['Insp. Seq No. - Fill2'].value_counts()"
   ]
  },
  {
   "cell_type": "code",
   "execution_count": 994,
   "id": "01cdf694",
   "metadata": {},
   "outputs": [
    {
     "data": {
      "text/plain": [
       "1    40506\n",
       "Name: Insp. Seq No. - AutoClave, dtype: int64"
      ]
     },
     "execution_count": 994,
     "metadata": {},
     "output_type": "execute_result"
    }
   ],
   "source": [
    "df_merged['Insp. Seq No. - AutoClave'].value_counts()"
   ]
  },
  {
   "cell_type": "markdown",
   "id": "a9fa3b1a",
   "metadata": {},
   "source": [
    "병합한 데이터인 merged에서는 1값만 존재  "
   ]
  },
  {
   "cell_type": "code",
   "execution_count": 995,
   "id": "7dad1997",
   "metadata": {},
   "outputs": [
    {
     "data": {
      "text/plain": [
       "1    40508\n",
       "2     1809\n",
       "3      119\n",
       "4       10\n",
       "Name: Insp. Seq No., dtype: int64"
      ]
     },
     "execution_count": 995,
     "metadata": {},
     "output_type": "execute_result"
    }
   ],
   "source": [
    "df_AutoClave['Insp. Seq No.'].value_counts()"
   ]
  },
  {
   "cell_type": "markdown",
   "id": "7fd8239b",
   "metadata": {},
   "source": [
    "df_AutoClave 이외에도 원본 Dam,Fill1,Fill2 등 에서는 2,3,4 값이 존재  \n",
    "(base code의 병합하는 과정에서 지워지는것으로 보임)"
   ]
  },
  {
   "cell_type": "code",
   "execution_count": 996,
   "id": "2bcbef95",
   "metadata": {},
   "outputs": [
    {
     "name": "stdout",
     "output_type": "stream",
     "text": [
      "\n",
      "Target ratio for Insp. Seq No. = 1:\n",
      "Normal      0.941937\n",
      "AbNormal    0.058063\n",
      "Name: target, dtype: float64\n",
      "Target ratio for Insp. Seq No. = 2:\n",
      "AbNormal    0.999447\n",
      "Normal      0.000553\n",
      "Name: target, dtype: float64\n",
      "\n",
      "Target ratio for Insp. Seq No. = 3:\n",
      "AbNormal    1.0\n",
      "Name: target, dtype: float64\n",
      "\n",
      "Target ratio for Insp. Seq No. = 4:\n",
      "AbNormal    1.0\n",
      "Name: target, dtype: float64\n"
     ]
    }
   ],
   "source": [
    "# 'Insp. Seq No.' 값에 대한 'target' 변수의 비율 계산\n",
    "\n",
    "# 'Insp. Seq No.'가 '1'인 행들 필터링\n",
    "filtered_df_1 = df_AutoClave[df_AutoClave['Insp. Seq No.'] == 1]\n",
    "\n",
    "# 'Insp. Seq No.'가 '2'인 행들 필터링\n",
    "filtered_df_2 = df_AutoClave[df_AutoClave['Insp. Seq No.'] == 2]\n",
    "\n",
    "# 'Insp. Seq No.'가 '3'인 행들 필터링\n",
    "filtered_df_3 = df_AutoClave[df_AutoClave['Insp. Seq No.'] == 3]\n",
    "\n",
    "# 'Insp. Seq No.'가 '4'인 행들 필터링\n",
    "filtered_df_4 = df_AutoClave[df_AutoClave['Insp. Seq No.'] == 4]\n",
    "\n",
    "# 'target' 변수의 비율 계산\n",
    "\n",
    "filtered_df_1 = filtered_df_1['target'].value_counts(normalize=True)\n",
    "filtered_df_2 = filtered_df_2['target'].value_counts(normalize=True)\n",
    "filtered_df_3 = filtered_df_3['target'].value_counts(normalize=True)\n",
    "filtered_df_4 = filtered_df_4['target'].value_counts(normalize=True)\n",
    "\n",
    "# 비율 출력\n",
    "\n",
    "print(\"\\nTarget ratio for Insp. Seq No. = 1:\")\n",
    "print(filtered_df_1)\n",
    "print(\"Target ratio for Insp. Seq No. = 2:\")\n",
    "print(filtered_df_2)\n",
    "print(\"\\nTarget ratio for Insp. Seq No. = 3:\")\n",
    "print(filtered_df_3)\n",
    "print(\"\\nTarget ratio for Insp. Seq No. = 4:\")\n",
    "print(filtered_df_4)"
   ]
  },
  {
   "cell_type": "markdown",
   "id": "7de28af0",
   "metadata": {},
   "source": [
    "Insp. Seq No. = 1 이 아닌값에 대해서는 AbNormal일 확률이 높음  "
   ]
  },
  {
   "cell_type": "markdown",
   "id": "6e1ee389",
   "metadata": {},
   "source": [
    "### 7. Insp Judge Code"
   ]
  },
  {
   "cell_type": "code",
   "execution_count": 997,
   "id": "5a36d00b",
   "metadata": {},
   "outputs": [
    {
     "data": {
      "text/plain": [
       "OK    42446\n",
       "Name: Insp Judge Code, dtype: int64"
      ]
     },
     "execution_count": 997,
     "metadata": {},
     "output_type": "execute_result"
    }
   ],
   "source": [
    "df_AutoClave['Insp Judge Code'].value_counts()"
   ]
  },
  {
   "cell_type": "code",
   "execution_count": 998,
   "id": "3592b573",
   "metadata": {},
   "outputs": [
    {
     "data": {
      "text/plain": [
       "OK    40506\n",
       "Name: Insp Judge Code - AutoClave, dtype: int64"
      ]
     },
     "execution_count": 998,
     "metadata": {},
     "output_type": "execute_result"
    }
   ],
   "source": [
    "# 병합한 데이터에서의 'Insp Judge Code - AutoClave' 변수의 값 분포\n",
    "df_merged['Insp Judge Code - AutoClave'].value_counts()"
   ]
  },
  {
   "cell_type": "markdown",
   "id": "4a6bccec",
   "metadata": {},
   "source": [
    "모든 값에 대해서 OK 값 1종류 존재"
   ]
  },
  {
   "cell_type": "code",
   "execution_count": 999,
   "id": "74d5f174",
   "metadata": {},
   "outputs": [
    {
     "name": "stdout",
     "output_type": "stream",
     "text": [
      "<class 'pandas.core.frame.DataFrame'>\n",
      "Int64Index: 42446 entries, 0 to 42445\n",
      "Data columns (total 37 columns):\n",
      " #   Column                         Non-Null Count  Dtype  \n",
      "---  ------                         --------------  -----  \n",
      " 0   Wip Line                       42446 non-null  object \n",
      " 1   Process Desc.                  42446 non-null  object \n",
      " 2   Equipment                      42446 non-null  object \n",
      " 3   Model.Suffix                   42446 non-null  object \n",
      " 4   Workorder                      42446 non-null  object \n",
      " 5   LOT ID                         42446 non-null  object \n",
      " 6   Set ID                         42446 non-null  object \n",
      " 7   Box ID                         0 non-null      float64\n",
      " 8   Collect Date                   42446 non-null  object \n",
      " 9   Insp. Seq No.                  42446 non-null  int64  \n",
      " 10  Insp Judge Code                42446 non-null  object \n",
      " 11  1st Pressure                   42446 non-null  float64\n",
      " 12  1st Pressure.1                 42446 non-null  int64  \n",
      " 13  1st Pressure.2                 42446 non-null  object \n",
      " 14  2nd Pressure                   42446 non-null  float64\n",
      " 15  2nd Pressure.1                 42446 non-null  int64  \n",
      " 16  2nd Pressure.2                 42446 non-null  object \n",
      " 17  3rd Pressure                   42446 non-null  float64\n",
      " 18  3rd Pressure.1                 42446 non-null  int64  \n",
      " 19  3rd Pressure.2                 42446 non-null  object \n",
      " 20  Chamber Temp.                  42446 non-null  int64  \n",
      " 21  Chamber Temp..1                42446 non-null  int64  \n",
      " 22  Chamber Temp..2                42446 non-null  object \n",
      " 23  GMES_ORIGIN_INSP_JUDGE_CODE    11728 non-null  object \n",
      " 24  GMES_ORIGIN_INSP_JUDGE_CODE.1  0 non-null      float64\n",
      " 25  GMES_ORIGIN_INSP_JUDGE_CODE.2  11728 non-null  object \n",
      " 26  target                         42446 non-null  object \n",
      " 27  Workorder_1                    42446 non-null  object \n",
      " 28  Workorder_2                    42446 non-null  object \n",
      " 29  Workorder_3                    42446 non-null  object \n",
      " 30  Workorder_4                    42446 non-null  object \n",
      " 31  Workorder_5                    42446 non-null  object \n",
      " 32  ID_1                           42446 non-null  object \n",
      " 33  ID_2                           42446 non-null  object \n",
      " 34  ID_3                           42446 non-null  object \n",
      " 35  ID_4                           42446 non-null  object \n",
      " 36  ID_5                           42446 non-null  object \n",
      "dtypes: float64(5), int64(6), object(26)\n",
      "memory usage: 12.3+ MB\n"
     ]
    }
   ],
   "source": [
    "df_AutoClave.info()"
   ]
  },
  {
   "cell_type": "markdown",
   "id": "bc6a48d9",
   "metadata": {},
   "source": [
    "### 8. 1st Pressure - Collect Result, Unit Time, Judge Value"
   ]
  },
  {
   "cell_type": "code",
   "execution_count": 1000,
   "id": "a9700b86",
   "metadata": {},
   "outputs": [
    {
     "data": {
      "text/plain": [
       "0        0.312\n",
       "1        0.312\n",
       "2        0.314\n",
       "3        0.304\n",
       "4        0.312\n",
       "         ...  \n",
       "42441    0.301\n",
       "42442    0.301\n",
       "42443    0.301\n",
       "42444    0.301\n",
       "42445    0.301\n",
       "Name: 1st Pressure, Length: 42446, dtype: float64"
      ]
     },
     "execution_count": 1000,
     "metadata": {},
     "output_type": "execute_result"
    }
   ],
   "source": [
    "df_AutoClave['1st Pressure']"
   ]
  },
  {
   "cell_type": "code",
   "execution_count": 1001,
   "id": "59a4a8b7",
   "metadata": {},
   "outputs": [
    {
     "data": {
      "text/plain": [
       "count    42446.000000\n",
       "mean         0.307125\n",
       "std          0.005376\n",
       "min          0.290000\n",
       "25%          0.302000\n",
       "50%          0.308000\n",
       "75%          0.312000\n",
       "max          0.320000\n",
       "Name: 1st Pressure, dtype: float64"
      ]
     },
     "execution_count": 1001,
     "metadata": {},
     "output_type": "execute_result"
    }
   ],
   "source": [
    "df_AutoClave['1st Pressure'].describe()"
   ]
  },
  {
   "cell_type": "code",
   "execution_count": 1002,
   "id": "a6a1ce23",
   "metadata": {},
   "outputs": [
    {
     "data": {
      "image/png": "[encoded data removed]",
      "text/plain": [
       "<Figure size 640x480 with 1 Axes>"
      ]
     },
     "metadata": {},
     "output_type": "display_data"
    }
   ],
   "source": [
    "import pandas as pd\n",
    "import matplotlib.pyplot as plt\n",
    "\n",
    "# 1st Pressure 값을 구간으로 나누기\n",
    "bins = [0.29, 0.30, 0.31, 0.32]\n",
    "labels = ['0.29-0.30', '0.30-0.31', '0.31-0.32']\n",
    "df_AutoClave['Pressure_Bin'] = pd.cut(df_AutoClave['1st Pressure'], bins=bins, labels=labels, include_lowest=True)\n",
    "\n",
    "# 각 구간에 대해 Normal과 abNormal의 비율 계산\n",
    "pressure_target_counts = df_AutoClave.groupby('Pressure_Bin')['target'].value_counts(normalize=True).unstack()\n",
    "\n",
    "# 막대그래프로 시각화\n",
    "ax = pressure_target_counts.plot(kind='bar', stacked=True)\n",
    "plt.xlabel('1st Pressure')\n",
    "plt.ylabel('ratio')\n",
    "plt.title('1st Pressure - target ratio')\n",
    "plt.legend(title='target')\n",
    "\n",
    "# 비율 수치 표시\n",
    "for p in ax.patches:\n",
    "    width, height = p.get_width(), p.get_height()\n",
    "    x, y = p.get_xy() \n",
    "    ax.text(x + width / 2, y + height / 2, f'{height:.2f}', ha='center', va='center')\n",
    "\n",
    "plt.show()"
   ]
  },
  {
   "cell_type": "markdown",
   "id": "b9c31b1c",
   "metadata": {},
   "source": [
    "직관적인 수치에 대한 구간을 나누어 비율 비교를 했을때 큰 차이는 없음"
   ]
  },
  {
   "cell_type": "code",
   "execution_count": 1003,
   "id": "b46abe04",
   "metadata": {},
   "outputs": [
    {
     "data": {
      "text/plain": [
       "241    28907\n",
       "240     9216\n",
       "300     3877\n",
       "181      231\n",
       "180       76\n",
       "61        47\n",
       "0         42\n",
       "1         31\n",
       "60        19\n",
       "Name: 1st Pressure.1, dtype: int64"
      ]
     },
     "execution_count": 1003,
     "metadata": {},
     "output_type": "execute_result"
    }
   ],
   "source": [
    "df_AutoClave['1st Pressure.1'].value_counts()"
   ]
  },
  {
   "cell_type": "code",
   "execution_count": 1004,
   "id": "51c3b9e4",
   "metadata": {},
   "outputs": [
    {
     "name": "stdout",
     "output_type": "stream",
     "text": [
      "1st Pressure.1 값의 마지막 숫자가 0인 경우:\n",
      "target          AbNormal    Normal\n",
      "1st Pressure.1                    \n",
      "0               0.380952  0.619048\n",
      "60              0.578947  0.421053\n",
      "180             0.302632  0.697368\n",
      "240             0.117947  0.882053\n",
      "300             0.152437  0.847563\n",
      "\n",
      "1st Pressure.1 값의 마지막 숫자가 1인 경우:\n",
      "target          AbNormal    Normal\n",
      "1st Pressure.1                    \n",
      "1               0.032258  0.967742\n",
      "61              0.553191  0.446809\n",
      "181             0.069264  0.930736\n",
      "241             0.087107  0.912893\n"
     ]
    }
   ],
   "source": [
    "# '1st Pressure.1' 값의 마지막 숫자가 0인 경우\n",
    "pressure_0 = df_AutoClave[df_AutoClave['1st Pressure.1'] % 10 == 0]\n",
    "pressure_0_ratio = pressure_0.groupby('1st Pressure.1')['target'].value_counts(normalize=True).unstack()\n",
    "\n",
    "# '1st Pressure.1' 값의 마지막 숫자가 1인 경우\n",
    "pressure_1 = df_AutoClave[df_AutoClave['1st Pressure.1'] % 10 == 1]\n",
    "pressure_1_ratio = pressure_1.groupby('1st Pressure.1')['target'].value_counts(normalize=True).unstack()\n",
    "\n",
    "# 결과 출력\n",
    "print(\"1st Pressure.1 값의 마지막 숫자가 0인 경우:\")\n",
    "print(pressure_0_ratio)\n",
    "print(\"\\n1st Pressure.1 값의 마지막 숫자가 1인 경우:\")\n",
    "print(pressure_1_ratio)"
   ]
  },
  {
   "cell_type": "markdown",
   "id": "8416cd56",
   "metadata": {},
   "source": [
    "뒤의 숫자 기준으로 보았을때 뒷숫자 0 인 경우가 1일때보다 상대적으로 AbNormal 비율이 높음"
   ]
  },
  {
   "cell_type": "code",
   "execution_count": 1005,
   "id": "313695ac",
   "metadata": {},
   "outputs": [
    {
     "name": "stdout",
     "output_type": "stream",
     "text": [
      "1st Pressure.1 값의 마지막 숫자가 0인 경우:\n",
      "Normal      0.869388\n",
      "AbNormal    0.130612\n",
      "Name: target, dtype: float64\n",
      "\n",
      "1st Pressure.1 값의 마지막 숫자가 1인 경우:\n",
      "Normal      0.912343\n",
      "AbNormal    0.087657\n",
      "Name: target, dtype: float64\n"
     ]
    }
   ],
   "source": [
    "import pandas as pd\n",
    "\n",
    "# '1st Pressure.1' 값의 마지막 숫자가 0인 경우\n",
    "pressure_0 = df_AutoClave[df_AutoClave['1st Pressure.1'] % 10 == 0]\n",
    "pressure_0_ratio = pressure_0['target'].value_counts(normalize=True)\n",
    "\n",
    "# '1st Pressure.1' 값의 마지막 숫자가 1인 경우\n",
    "pressure_1 = df_AutoClave[df_AutoClave['1st Pressure.1'] % 10 == 1]\n",
    "pressure_1_ratio = pressure_1['target'].value_counts(normalize=True)\n",
    "\n",
    "# 결과 출력\n",
    "print(\"1st Pressure.1 값의 마지막 숫자가 0인 경우:\")\n",
    "print(pressure_0_ratio)\n",
    "print(\"\\n1st Pressure.1 값의 마지막 숫자가 1인 경우:\")\n",
    "print(pressure_1_ratio)"
   ]
  },
  {
   "cell_type": "markdown",
   "id": "cc630226",
   "metadata": {},
   "source": [
    "마지막 숫자 기준으로 그룹화 하여 수치 확인했을때 마지막 숫자 0인 경우가 AnNormal이 높음"
   ]
  },
  {
   "cell_type": "code",
   "execution_count": 1006,
   "id": "8bd43b83",
   "metadata": {},
   "outputs": [
    {
     "data": {
      "text/plain": [
       "OK    42446\n",
       "Name: 1st Pressure.2, dtype: int64"
      ]
     },
     "execution_count": 1006,
     "metadata": {},
     "output_type": "execute_result"
    }
   ],
   "source": [
    "df_AutoClave['1st Pressure.2'].value_counts()"
   ]
  },
  {
   "cell_type": "markdown",
   "id": "7186b8c1",
   "metadata": {},
   "source": [
    "모든 값에 대해서 OK 값 1종류 존재"
   ]
  },
  {
   "cell_type": "markdown",
   "id": "d8e9b2ca",
   "metadata": {},
   "source": [
    "### 9. 2nd Pressure - Collect Result, Unit Time, Judge Value"
   ]
  },
  {
   "cell_type": "code",
   "execution_count": 1007,
   "id": "7d73d431",
   "metadata": {},
   "outputs": [
    {
     "data": {
      "text/plain": [
       "0.490    5168\n",
       "0.491    4945\n",
       "0.492    4283\n",
       "0.312    1665\n",
       "0.311    1562\n",
       "         ... \n",
       "0.297       3\n",
       "0.452       2\n",
       "0.322       2\n",
       "0.803       1\n",
       "0.806       1\n",
       "Name: 2nd Pressure, Length: 67, dtype: int64"
      ]
     },
     "execution_count": 1007,
     "metadata": {},
     "output_type": "execute_result"
    }
   ],
   "source": [
    "df_AutoClave['2nd Pressure'].value_counts()"
   ]
  },
  {
   "cell_type": "code",
   "execution_count": 1008,
   "id": "5d2e057c",
   "metadata": {},
   "outputs": [
    {
     "data": {
      "text/plain": [
       "count    42446.000000\n",
       "mean         0.396535\n",
       "std          0.096093\n",
       "min          0.297000\n",
       "25%          0.309000\n",
       "50%          0.316000\n",
       "75%          0.491000\n",
       "max          0.900000\n",
       "Name: 2nd Pressure, dtype: float64"
      ]
     },
     "execution_count": 1008,
     "metadata": {},
     "output_type": "execute_result"
    }
   ],
   "source": [
    "df_AutoClave['2nd Pressure'].describe()"
   ]
  },
  {
   "cell_type": "code",
   "execution_count": 1009,
   "id": "3112c4e8",
   "metadata": {},
   "outputs": [
    {
     "name": "stdout",
     "output_type": "stream",
     "text": [
      "각 구간에 대한 타겟 변수의 갯수:\n",
      "target        AbNormal  Normal\n",
      "Pressure_Bin                  \n",
      "0.2-0.3            168    1549\n",
      "0.3-0.4           2251   18854\n",
      "0.4-0.5           1610   15890\n",
      "0.5-0.6            260    1814\n",
      "0.6-0.7              0      19\n",
      "0.7-0.8              0       5\n",
      "0.8-0.9              0      26\n"
     ]
    },
    {
     "data": {
      "image/png": "[encoded data removed]",
      "text/plain": [
       "<Figure size 640x480 with 1 Axes>"
      ]
     },
     "metadata": {},
     "output_type": "display_data"
    }
   ],
   "source": [
    "import pandas as pd \n",
    "import matplotlib.pyplot as plt\n",
    "\n",
    "# 2nd Pressure 값을 구간으로 나누기\n",
    "bins = [0.2, 0.3, 0.4, 0.5, 0.6, 0.7, 0.8, 0.9] \n",
    "labels = ['0.2-0.3', '0.3-0.4', '0.4-0.5', '0.5-0.6', '0.6-0.7', '0.7-0.8', '0.8-0.9'] \n",
    "df_AutoClave['Pressure_Bin'] = pd.cut(df_AutoClave['2nd Pressure'], bins=bins, labels=labels, include_lowest=True)\n",
    "\n",
    "# 각 구간에 대해 Normal과 abNormal의 비율 계산\n",
    "pressure_target_counts = df_AutoClave.groupby('Pressure_Bin')['target'].value_counts(normalize=True).unstack(fill_value=0)\n",
    "\n",
    "# 각 구간에 대해 Normal과 abNormal의 갯수 계산\n",
    "pressure_target_total_counts = df_AutoClave.groupby('Pressure_Bin')['target'].value_counts().unstack(fill_value=0)\n",
    "\n",
    "# 갯수 출력\n",
    "print(\"각 구간에 대한 타겟 변수의 갯수:\")\n",
    "print(pressure_target_total_counts)\n",
    "\n",
    "# 막대그래프로 시각화\n",
    "ax = pressure_target_counts.plot(kind='bar', stacked=True) \n",
    "plt.xlabel('2nd Pressure') \n",
    "plt.ylabel('ratio') \n",
    "plt.title('2nd Pressure - target ratio') \n",
    "plt.legend(title='target')\n",
    "\n",
    "# 비율 수치 표시\n",
    "for p in ax.patches: \n",
    "    width, height = p.get_width(), p.get_height() \n",
    "    x, y = p.get_xy() \n",
    "    ax.text(x + width / 2, y + height / 2, f'{height:.2f}', ha='center', va='center')\n",
    "\n",
    "plt.show()\n"
   ]
  },
  {
   "cell_type": "markdown",
   "id": "dfddd7db",
   "metadata": {},
   "source": [
    "0.6이상이면 Normal만 존재 -> 갯수로 봤을때 적은양이라 유의미한지는 모르겟음"
   ]
  },
  {
   "cell_type": "code",
   "execution_count": 1010,
   "id": "171e2879",
   "metadata": {},
   "outputs": [
    {
     "data": {
      "text/plain": [
       "1      19956\n",
       "121    11268\n",
       "120     5146\n",
       "60      3667\n",
       "90      2005\n",
       "0        182\n",
       "150       90\n",
       "61        71\n",
       "181       54\n",
       "180        7\n",
       "Name: 2nd Pressure.1, dtype: int64"
      ]
     },
     "execution_count": 1010,
     "metadata": {},
     "output_type": "execute_result"
    }
   ],
   "source": [
    "df_AutoClave['2nd Pressure.1'].value_counts()"
   ]
  },
  {
   "cell_type": "code",
   "execution_count": 1011,
   "id": "93a18744",
   "metadata": {},
   "outputs": [
    {
     "name": "stdout",
     "output_type": "stream",
     "text": [
      "2nd Pressure.1 값의 마지막 숫자가 0인 경우:\n",
      "target          AbNormal    Normal\n",
      "2nd Pressure.1                    \n",
      "0               0.065934  0.934066\n",
      "60              0.153804  0.846196\n",
      "90              0.065337  0.934663\n",
      "120             0.152351  0.847649\n",
      "150             0.155556  0.844444\n",
      "180             0.714286  0.285714\n",
      "\n",
      "2nd Pressure.1 값의 마지막 숫자가 1인 경우:\n",
      "target          AbNormal    Normal\n",
      "2nd Pressure.1                    \n",
      "1               0.085689  0.914311\n",
      "61              0.211268  0.788732\n",
      "121             0.092386  0.907614\n",
      "181             0.240741  0.759259\n"
     ]
    }
   ],
   "source": [
    "# '2nd Pressure.1' 값의 마지막 숫자가 0인 경우\n",
    "pressure_0 = df_AutoClave[df_AutoClave['2nd Pressure.1'] % 10 == 0]\n",
    "pressure_0_ratio = pressure_0.groupby('2nd Pressure.1')['target'].value_counts(normalize=True).unstack()\n",
    "\n",
    "# '1st Pressure.1' 값의 마지막 숫자가 1인 경우\n",
    "pressure_1 = df_AutoClave[df_AutoClave['2nd Pressure.1'] % 10 == 1]\n",
    "pressure_1_ratio = pressure_1.groupby('2nd Pressure.1')['target'].value_counts(normalize=True).unstack()\n",
    "\n",
    "# 결과 출력\n",
    "print(\"2nd Pressure.1 값의 마지막 숫자가 0인 경우:\")\n",
    "print(pressure_0_ratio)\n",
    "print(\"\\n2nd Pressure.1 값의 마지막 숫자가 1인 경우:\")\n",
    "print(pressure_1_ratio)"
   ]
  },
  {
   "cell_type": "code",
   "execution_count": 1012,
   "id": "7e5d2231",
   "metadata": {},
   "outputs": [
    {
     "name": "stdout",
     "output_type": "stream",
     "text": [
      "2nd Pressure.1 값의 마지막 숫자가 0인 경우:\n",
      "Normal      0.863927\n",
      "AbNormal    0.136073\n",
      "Name: target, dtype: float64\n",
      "\n",
      "2nd Pressure.1 값의 마지막 숫자가 1인 경우:\n",
      "Normal      0.911353\n",
      "AbNormal    0.088647\n",
      "Name: target, dtype: float64\n"
     ]
    }
   ],
   "source": [
    "import pandas as pd\n",
    "\n",
    "# '2nd Pressure.1' 값의 마지막 숫자가 0인 경우\n",
    "pressure_0 = df_AutoClave[df_AutoClave['2nd Pressure.1'] % 10 == 0]\n",
    "pressure_0_ratio = pressure_0['target'].value_counts(normalize=True)\n",
    "\n",
    "# '2nd Pressure.1' 값의 마지막 숫자가 1인 경우\n",
    "pressure_1 = df_AutoClave[df_AutoClave['2nd Pressure.1'] % 10 == 1]\n",
    "pressure_1_ratio = pressure_1['target'].value_counts(normalize=True)\n",
    "\n",
    "# 결과 출력\n",
    "print(\"2nd Pressure.1 값의 마지막 숫자가 0인 경우:\")\n",
    "print(pressure_0_ratio)\n",
    "print(\"\\n2nd Pressure.1 값의 마지막 숫자가 1인 경우:\")\n",
    "print(pressure_1_ratio)"
   ]
  },
  {
   "cell_type": "markdown",
   "id": "9ccca298",
   "metadata": {},
   "source": [
    "1st Pressure.1와 동일하게 마지막 숫자 기준으로 그룹화 하여 수치 확인했을때  \n",
    "마지막 숫자가 0인 경우에 AnNormal이 높음"
   ]
  },
  {
   "cell_type": "code",
   "execution_count": 1013,
   "id": "ae26d0fb",
   "metadata": {},
   "outputs": [
    {
     "data": {
      "text/plain": [
       "OK    42446\n",
       "Name: 2nd Pressure.2, dtype: int64"
      ]
     },
     "execution_count": 1013,
     "metadata": {},
     "output_type": "execute_result"
    }
   ],
   "source": [
    "df_AutoClave['2nd Pressure.2'].value_counts()"
   ]
  },
  {
   "cell_type": "markdown",
   "id": "aa2c5eef",
   "metadata": {},
   "source": [
    "모든 값에 대해서 OK 값 1종류 존재"
   ]
  },
  {
   "cell_type": "markdown",
   "id": "d70cfcc9",
   "metadata": {},
   "source": [
    "### 10. 3nd Pressure - Collect Result, Unit Time, Judge Value"
   ]
  },
  {
   "cell_type": "code",
   "execution_count": 1014,
   "id": "f90711cb",
   "metadata": {},
   "outputs": [
    {
     "name": "stdout",
     "output_type": "stream",
     "text": [
      "<class 'pandas.core.frame.DataFrame'>\n",
      "Int64Index: 42446 entries, 0 to 42445\n",
      "Data columns (total 38 columns):\n",
      " #   Column                         Non-Null Count  Dtype   \n",
      "---  ------                         --------------  -----   \n",
      " 0   Wip Line                       42446 non-null  object  \n",
      " 1   Process Desc.                  42446 non-null  object  \n",
      " 2   Equipment                      42446 non-null  object  \n",
      " 3   Model.Suffix                   42446 non-null  object  \n",
      " 4   Workorder                      42446 non-null  object  \n",
      " 5   LOT ID                         42446 non-null  object  \n",
      " 6   Set ID                         42446 non-null  object  \n",
      " 7   Box ID                         0 non-null      float64 \n",
      " 8   Collect Date                   42446 non-null  object  \n",
      " 9   Insp. Seq No.                  42446 non-null  int64   \n",
      " 10  Insp Judge Code                42446 non-null  object  \n",
      " 11  1st Pressure                   42446 non-null  float64 \n",
      " 12  1st Pressure.1                 42446 non-null  int64   \n",
      " 13  1st Pressure.2                 42446 non-null  object  \n",
      " 14  2nd Pressure                   42446 non-null  float64 \n",
      " 15  2nd Pressure.1                 42446 non-null  int64   \n",
      " 16  2nd Pressure.2                 42446 non-null  object  \n",
      " 17  3rd Pressure                   42446 non-null  float64 \n",
      " 18  3rd Pressure.1                 42446 non-null  int64   \n",
      " 19  3rd Pressure.2                 42446 non-null  object  \n",
      " 20  Chamber Temp.                  42446 non-null  int64   \n",
      " 21  Chamber Temp..1                42446 non-null  int64   \n",
      " 22  Chamber Temp..2                42446 non-null  object  \n",
      " 23  GMES_ORIGIN_INSP_JUDGE_CODE    11728 non-null  object  \n",
      " 24  GMES_ORIGIN_INSP_JUDGE_CODE.1  0 non-null      float64 \n",
      " 25  GMES_ORIGIN_INSP_JUDGE_CODE.2  11728 non-null  object  \n",
      " 26  target                         42446 non-null  object  \n",
      " 27  Workorder_1                    42446 non-null  object  \n",
      " 28  Workorder_2                    42446 non-null  object  \n",
      " 29  Workorder_3                    42446 non-null  object  \n",
      " 30  Workorder_4                    42446 non-null  object  \n",
      " 31  Workorder_5                    42446 non-null  object  \n",
      " 32  ID_1                           42446 non-null  object  \n",
      " 33  ID_2                           42446 non-null  object  \n",
      " 34  ID_3                           42446 non-null  object  \n",
      " 35  ID_4                           42446 non-null  object  \n",
      " 36  ID_5                           42446 non-null  object  \n",
      " 37  Pressure_Bin                   42446 non-null  category\n",
      "dtypes: category(1), float64(5), int64(6), object(26)\n",
      "memory usage: 12.3+ MB\n"
     ]
    }
   ],
   "source": [
    "df_AutoClave.info()"
   ]
  },
  {
   "cell_type": "code",
   "execution_count": 1015,
   "id": "c1a5d40d",
   "metadata": {},
   "outputs": [
    {
     "data": {
      "text/plain": [
       "0.498    8952\n",
       "0.499    8825\n",
       "0.500    8351\n",
       "0.497    6463\n",
       "0.501    4106\n",
       "         ... \n",
       "0.506       2\n",
       "0.698       2\n",
       "0.451       2\n",
       "0.823       1\n",
       "0.824       1\n",
       "Name: 3rd Pressure, Length: 71, dtype: int64"
      ]
     },
     "execution_count": 1015,
     "metadata": {},
     "output_type": "execute_result"
    }
   ],
   "source": [
    "df_AutoClave['3rd Pressure'].value_counts()"
   ]
  },
  {
   "cell_type": "code",
   "execution_count": 1016,
   "id": "908de1a1",
   "metadata": {},
   "outputs": [
    {
     "data": {
      "text/plain": [
       "count    42446.000000\n",
       "mean         0.501034\n",
       "std          0.025280\n",
       "min          0.305000\n",
       "25%          0.498000\n",
       "50%          0.499000\n",
       "75%          0.500000\n",
       "max          0.914000\n",
       "Name: 3rd Pressure, dtype: float64"
      ]
     },
     "execution_count": 1016,
     "metadata": {},
     "output_type": "execute_result"
    }
   ],
   "source": [
    "df_AutoClave['3rd Pressure'].describe()"
   ]
  },
  {
   "cell_type": "code",
   "execution_count": 1017,
   "id": "bac0e867",
   "metadata": {},
   "outputs": [
    {
     "name": "stdout",
     "output_type": "stream",
     "text": [
      "각 구간에 대한 타겟 변수의 갯수:\n",
      "target        AbNormal  Normal\n",
      "Pressure_Bin                  \n",
      "0.3-0.4             65     307\n",
      "0.4-0.5           3394   31682\n",
      "0.5-0.6            801    6042\n",
      "0.6-0.7             29      95\n",
      "0.7-0.8              0       5\n",
      "0.8-0.9              0       2\n",
      "0.9-1                0      24\n"
     ]
    },
    {
     "data": {
      "image/png": "[encoded data removed]",
      "text/plain": [
       "<Figure size 640x480 with 1 Axes>"
      ]
     },
     "metadata": {},
     "output_type": "display_data"
    }
   ],
   "source": [
    "import pandas as pd \n",
    "import matplotlib.pyplot as plt\n",
    "\n",
    "# 3rd Pressure 값을 구간으로 나누기\n",
    "bins = [0.3, 0.4, 0.5, 0.6, 0.7, 0.8, 0.9, 1]\n",
    "labels = ['0.3-0.4', '0.4-0.5', '0.5-0.6', '0.6-0.7', '0.7-0.8', '0.8-0.9', '0.9-1']\n",
    "df_AutoClave['Pressure_Bin'] = pd.cut(df_AutoClave['3rd Pressure'], bins=bins, labels=labels, include_lowest=True)\n",
    "\n",
    "# 각 구간에 대해 Normal과 abNormal의 비율 계산\n",
    "pressure_target_counts = df_AutoClave.groupby('Pressure_Bin')['target'].value_counts(normalize=True).unstack(fill_value=0)\n",
    "\n",
    "# 각 구간에 대해 Normal과 abNormal의 갯수 계산\n",
    "pressure_target_total_counts = df_AutoClave.groupby('Pressure_Bin')['target'].value_counts().unstack(fill_value=0)\n",
    "\n",
    "# 갯수 출력\n",
    "print(\"각 구간에 대한 타겟 변수의 갯수:\")\n",
    "print(pressure_target_total_counts)\n",
    "\n",
    "# 막대그래프로 시각화\n",
    "ax = pressure_target_counts.plot(kind='bar', stacked=True) \n",
    "plt.xlabel('3rd Pressure') \n",
    "plt.ylabel('ratio') \n",
    "plt.title('3rd Pressure - target ratio') \n",
    "plt.legend(title='target')\n",
    "\n",
    "# 비율 수치 표시\n",
    "for p in ax.patches: \n",
    "    width, height = p.get_width(), p.get_height() \n",
    "    x, y = p.get_xy() \n",
    "    ax.text(x + width / 2, y + height / 2, f'{height:.2f}', ha='center', va='center')\n",
    "\n",
    "plt.show()\n"
   ]
  },
  {
   "cell_type": "code",
   "execution_count": 1018,
   "id": "c09b53bc",
   "metadata": {},
   "outputs": [
    {
     "data": {
      "text/plain": [
       "121    28181\n",
       "120    11989\n",
       "150     1745\n",
       "181      247\n",
       "90       103\n",
       "180       67\n",
       "60        58\n",
       "61        37\n",
       "1         10\n",
       "241        8\n",
       "301        1\n",
       "Name: 3rd Pressure.1, dtype: int64"
      ]
     },
     "execution_count": 1018,
     "metadata": {},
     "output_type": "execute_result"
    }
   ],
   "source": [
    "df_AutoClave['3rd Pressure.1'].value_counts()"
   ]
  },
  {
   "cell_type": "code",
   "execution_count": 1019,
   "id": "7d8afc8e",
   "metadata": {},
   "outputs": [
    {
     "name": "stdout",
     "output_type": "stream",
     "text": [
      "3rd Pressure.1 값의 마지막 숫자가 0인 경우:\n",
      "target          AbNormal    Normal\n",
      "3rd Pressure.1                    \n",
      "60              0.275862  0.724138\n",
      "90              0.106796  0.893204\n",
      "120             0.123697  0.876303\n",
      "150             0.157593  0.842407\n",
      "180             0.283582  0.716418\n",
      "\n",
      "3rd Pressure.1 값의 마지막 숫자가 1인 경우:\n",
      "target          AbNormal    Normal\n",
      "3rd Pressure.1                    \n",
      "1               0.300000  0.700000\n",
      "61              0.675676  0.324324\n",
      "121             0.086619  0.913381\n",
      "181             0.064777  0.935223\n",
      "241                  NaN  1.000000\n",
      "301                  NaN  1.000000\n"
     ]
    }
   ],
   "source": [
    "# '3rd Pressure.1' 값의 마지막 숫자가 0인 경우\n",
    "pressure_0 = df_AutoClave[df_AutoClave['3rd Pressure.1'] % 10 == 0]\n",
    "pressure_0_ratio = pressure_0.groupby('3rd Pressure.1')['target'].value_counts(normalize=True).unstack()\n",
    "\n",
    "# '3rd Pressure.1' 값의 마지막 숫자가 1인 경우\n",
    "pressure_1 = df_AutoClave[df_AutoClave['3rd Pressure.1'] % 10 == 1]\n",
    "pressure_1_ratio = pressure_1.groupby('3rd Pressure.1')['target'].value_counts(normalize=True).unstack()\n",
    "\n",
    "# 결과 출력\n",
    "print(\"3rd Pressure.1 값의 마지막 숫자가 0인 경우:\")\n",
    "print(pressure_0_ratio)\n",
    "print(\"\\n3rd Pressure.1 값의 마지막 숫자가 1인 경우:\")\n",
    "print(pressure_1_ratio)"
   ]
  },
  {
   "cell_type": "code",
   "execution_count": 1020,
   "id": "fd2eb55e",
   "metadata": {},
   "outputs": [
    {
     "name": "stdout",
     "output_type": "stream",
     "text": [
      "3rd Pressure.1 값의 마지막 숫자가 0인 경우:\n",
      "Normal      0.870792\n",
      "AbNormal    0.129208\n",
      "Name: target, dtype: float64\n",
      "\n",
      "3rd Pressure.1 값의 마지막 숫자가 1인 경우:\n",
      "Normal      0.912758\n",
      "AbNormal    0.087242\n",
      "Name: target, dtype: float64\n"
     ]
    }
   ],
   "source": [
    "import pandas as pd\n",
    "\n",
    "# '3rd Pressure.1' 값의 마지막 숫자가 0인 경우\n",
    "pressure_0 = df_AutoClave[df_AutoClave['3rd Pressure.1'] % 10 == 0]\n",
    "pressure_0_ratio = pressure_0['target'].value_counts(normalize=True)\n",
    "\n",
    "# '3rd Pressure.1' 값의 마지막 숫자가 1인 경우\n",
    "pressure_1 = df_AutoClave[df_AutoClave['3rd Pressure.1'] % 10 == 1]\n",
    "pressure_1_ratio = pressure_1['target'].value_counts(normalize=True)\n",
    "\n",
    "# 결과 출력\n",
    "print(\"3rd Pressure.1 값의 마지막 숫자가 0인 경우:\")\n",
    "print(pressure_0_ratio)\n",
    "print(\"\\n3rd Pressure.1 값의 마지막 숫자가 1인 경우:\")\n",
    "print(pressure_1_ratio)"
   ]
  },
  {
   "cell_type": "code",
   "execution_count": 1021,
   "id": "a9e1a88e",
   "metadata": {},
   "outputs": [
    {
     "data": {
      "text/plain": [
       "OK    42446\n",
       "Name: 3rd Pressure.2, dtype: int64"
      ]
     },
     "execution_count": 1021,
     "metadata": {},
     "output_type": "execute_result"
    }
   ],
   "source": [
    "df_AutoClave['3rd Pressure.2'].value_counts()"
   ]
  },
  {
   "cell_type": "markdown",
   "id": "f4329be9",
   "metadata": {},
   "source": [
    "모든 값에 대해서 OK 값 1종류 존재"
   ]
  },
  {
   "cell_type": "markdown",
   "id": "21b16cf1",
   "metadata": {},
   "source": [
    "### 11. Chamber Temp. - Collect Result, Unit Time, Judge Value"
   ]
  },
  {
   "cell_type": "code",
   "execution_count": 1022,
   "id": "6b2ddeb6",
   "metadata": {},
   "outputs": [
    {
     "data": {
      "text/plain": [
       "54    8742\n",
       "49    6113\n",
       "50    5986\n",
       "53    5603\n",
       "48    3470\n",
       "55    3445\n",
       "52    2207\n",
       "47    1848\n",
       "56    1774\n",
       "51    1624\n",
       "57     978\n",
       "46     392\n",
       "58     108\n",
       "45      37\n",
       "36      34\n",
       "32      23\n",
       "43      20\n",
       "38       8\n",
       "33       7\n",
       "37       6\n",
       "35       5\n",
       "44       4\n",
       "59       4\n",
       "40       3\n",
       "34       2\n",
       "41       2\n",
       "42       1\n",
       "Name: Chamber Temp., dtype: int64"
      ]
     },
     "execution_count": 1022,
     "metadata": {},
     "output_type": "execute_result"
    }
   ],
   "source": [
    "df_AutoClave['Chamber Temp.'].value_counts()"
   ]
  },
  {
   "cell_type": "code",
   "execution_count": 1023,
   "id": "baebb787",
   "metadata": {},
   "outputs": [
    {
     "data": {
      "text/plain": [
       "363    15421\n",
       "483    11256\n",
       "480     6478\n",
       "361     4111\n",
       "510     1844\n",
       "452     1555\n",
       "450      430\n",
       "362      418\n",
       "481      394\n",
       "360      184\n",
       "512       90\n",
       "540       77\n",
       "423       57\n",
       "301       38\n",
       "212       24\n",
       "300       15\n",
       "183       13\n",
       "303       11\n",
       "243       10\n",
       "180        6\n",
       "242        6\n",
       "3          4\n",
       "61         3\n",
       "121        1\n",
       "Name: Chamber Temp..1, dtype: int64"
      ]
     },
     "execution_count": 1023,
     "metadata": {},
     "output_type": "execute_result"
    }
   ],
   "source": [
    "df_AutoClave['Chamber Temp..1'].value_counts()"
   ]
  },
  {
   "cell_type": "code",
   "execution_count": 1024,
   "id": "90d014c9",
   "metadata": {},
   "outputs": [
    {
     "data": {
      "text/plain": [
       "OK    30576\n",
       "NG    11870\n",
       "Name: Chamber Temp..2, dtype: int64"
      ]
     },
     "execution_count": 1024,
     "metadata": {},
     "output_type": "execute_result"
    }
   ],
   "source": [
    "df_AutoClave['Chamber Temp..2'].value_counts()"
   ]
  },
  {
   "cell_type": "code",
   "execution_count": 1025,
   "id": "bf00b726",
   "metadata": {},
   "outputs": [
    {
     "name": "stdout",
     "output_type": "stream",
     "text": [
      "\n",
      "Target ratio for Chamber Temp..2 = OK:\n",
      "Normal      0.896553\n",
      "AbNormal    0.103447\n",
      "Name: target, dtype: float64\n",
      "Target ratio for Chamber Temp..2 = NG:\n",
      "Normal      0.905139\n",
      "AbNormal    0.094861\n",
      "Name: target, dtype: float64\n"
     ]
    }
   ],
   "source": [
    "# 'Chamber Temp..2' 값에 대한 'target' 변수의 비율 계산\n",
    "\n",
    "# 'Chamber Temp..2'가 '1'인 행들 필터링\n",
    "filtered_df_OK = df_AutoClave[df_AutoClave['Chamber Temp..2'] == 'OK']\n",
    "\n",
    "# 'Chamber Temp..2'가 '2'인 행들 필터링\n",
    "filtered_df_NG = df_AutoClave[df_AutoClave['Chamber Temp..2'] == 'NG']\n",
    "\n",
    "# 'target' 변수의 비율 계산\n",
    "filtered_df_OK = filtered_df_OK['target'].value_counts(normalize=True)\n",
    "filtered_df_NG = filtered_df_NG['target'].value_counts(normalize=True)\n",
    "\n",
    "# 비율 출력\n",
    "print(\"\\nTarget ratio for Chamber Temp..2 = OK:\")\n",
    "print(filtered_df_OK)\n",
    "print(\"Target ratio for Chamber Temp..2 = NG:\")\n",
    "print(filtered_df_NG)\n"
   ]
  },
  {
   "cell_type": "markdown",
   "id": "c5e0fb53",
   "metadata": {},
   "source": [
    "### 12. GMES_ORIGIN_INSP_JUDGE_CODE - Collect Result, Unit Time, Judge Value"
   ]
  },
  {
   "cell_type": "code",
   "execution_count": 1026,
   "id": "bdc086b5",
   "metadata": {},
   "outputs": [
    {
     "data": {
      "text/plain": [
       "OK    11728\n",
       "Name: GMES_ORIGIN_INSP_JUDGE_CODE, dtype: int64"
      ]
     },
     "execution_count": 1026,
     "metadata": {},
     "output_type": "execute_result"
    }
   ],
   "source": [
    "df_AutoClave['GMES_ORIGIN_INSP_JUDGE_CODE'].value_counts()"
   ]
  },
  {
   "cell_type": "code",
   "execution_count": 1027,
   "id": "03abbf15",
   "metadata": {},
   "outputs": [
    {
     "name": "stdout",
     "output_type": "stream",
     "text": [
      "\n",
      "Target ratio for GMES_ORIGIN_INSP_JUDGE_CODE = OK:\n",
      "Normal      0.920617\n",
      "AbNormal    0.079383\n",
      "Name: target, dtype: float64\n"
     ]
    }
   ],
   "source": [
    "# 'GMES_ORIGIN_INSP_JUDGE_CODE' 값에 대한 'target' 변수의 비율 계산\n",
    "\n",
    "# 'GMES_ORIGIN_INSP_JUDGE_CODE'가 '1'인 행들 필터링\n",
    "filtered_df_OK = df_AutoClave[df_AutoClave['GMES_ORIGIN_INSP_JUDGE_CODE'] == 'OK']\n",
    "\n",
    "# 'target' 변수의 비율 계산\n",
    "filtered_df_OK = filtered_df_OK['target'].value_counts(normalize=True)\n",
    "\n",
    "# 비율 출력\n",
    "print(\"\\nTarget ratio for GMES_ORIGIN_INSP_JUDGE_CODE = OK:\")\n",
    "print(filtered_df_OK)\n"
   ]
  },
  {
   "cell_type": "code",
   "execution_count": 1028,
   "id": "ff6407c4",
   "metadata": {},
   "outputs": [
    {
     "data": {
      "text/plain": [
       "Series([], Name: GMES_ORIGIN_INSP_JUDGE_CODE.1, dtype: int64)"
      ]
     },
     "execution_count": 1028,
     "metadata": {},
     "output_type": "execute_result"
    }
   ],
   "source": [
    "df_AutoClave['GMES_ORIGIN_INSP_JUDGE_CODE.1'].value_counts()"
   ]
  },
  {
   "cell_type": "code",
   "execution_count": 1029,
   "id": "04412605",
   "metadata": {},
   "outputs": [
    {
     "data": {
      "text/plain": [
       "OK    11728\n",
       "Name: GMES_ORIGIN_INSP_JUDGE_CODE.2, dtype: int64"
      ]
     },
     "execution_count": 1029,
     "metadata": {},
     "output_type": "execute_result"
    }
   ],
   "source": [
    "df_AutoClave['GMES_ORIGIN_INSP_JUDGE_CODE.2'].value_counts()"
   ]
  },
  {
   "cell_type": "code",
   "execution_count": 1030,
   "id": "02038309",
   "metadata": {},
   "outputs": [
    {
     "name": "stdout",
     "output_type": "stream",
     "text": [
      "\n",
      "Target ratio for GMES_ORIGIN_INSP_JUDGE_CODE.2 = OK:\n",
      "Normal      0.920617\n",
      "AbNormal    0.079383\n",
      "Name: target, dtype: float64\n"
     ]
    }
   ],
   "source": [
    "# 'GMES_ORIGIN_INSP_JUDGE_CODE' 값에 대한 'target' 변수의 비율 계산\n",
    "\n",
    "# 'GMES_ORIGIN_INSP_JUDGE_CODE'가 '1'인 행들 필터링\n",
    "filtered_df_OK = df_AutoClave[df_AutoClave['GMES_ORIGIN_INSP_JUDGE_CODE.2'] == 'OK']\n",
    "\n",
    "# 'target' 변수의 비율 계산\n",
    "filtered_df_OK = filtered_df_OK['target'].value_counts(normalize=True)\n",
    "\n",
    "# 비율 출력\n",
    "print(\"\\nTarget ratio for GMES_ORIGIN_INSP_JUDGE_CODE.2 = OK:\")\n",
    "print(filtered_df_OK)\n"
   ]
  },
  {
   "cell_type": "code",
   "execution_count": 1039,
   "id": "c5dd3dec",
   "metadata": {},
   "outputs": [
    {
     "name": "stdout",
     "output_type": "stream",
     "text": [
      "GMES_ORIGIN_INSP_JUDGE_CODE & GMES_ORIGIN_INSP_JUDGE_CODE.2\n",
      "둘다 'OK'인 경우의 비율: 1.00\n",
      "GMES_ORIGIN_INSP_JUDGE_CODE 만 'OK'인 경우의 비율: 0.00\n"
     ]
    }
   ],
   "source": [
    "# 1. 'GMES_ORIGIN_INSP_JUDGE_CODE' 열이 'OK'인 행을 필터링\n",
    "filtered_df = df_AutoClave[df_AutoClave['GMES_ORIGIN_INSP_JUDGE_CODE'] == 'OK']\n",
    "\n",
    "# 2. 'GMES_ORIGIN_INSP_JUDGE_CODE.2' 열의 값이 'OK'인 경우와 아닌 경우를 계산\n",
    "ok_count = filtered_df[filtered_df['GMES_ORIGIN_INSP_JUDGE_CODE.2'] == 'OK'].shape[0]\n",
    "not_ok_count = filtered_df[filtered_df['GMES_ORIGIN_INSP_JUDGE_CODE.2'] != 'OK'].shape[0]\n",
    "\n",
    "# 3. 각 경우의 비율을 계산\n",
    "total_count = filtered_df.shape[0]\n",
    "ok_ratio = ok_count / total_count\n",
    "not_ok_ratio = not_ok_count / total_count\n",
    "\n",
    "# 비율 출력\n",
    "print(\"GMES_ORIGIN_INSP_JUDGE_CODE & GMES_ORIGIN_INSP_JUDGE_CODE.2\")\n",
    "print(f\"둘다 'OK'인 경우의 비율: {ok_ratio:.2f}\")\n",
    "print(f\"GMES_ORIGIN_INSP_JUDGE_CODE 만 'OK'인 경우의 비율: {not_ok_ratio:.2f}\")"
   ]
  },
  {
   "cell_type": "markdown",
   "id": "c10385ea",
   "metadata": {},
   "source": [
    "GMES_ORIGIN_INSP_JUDGE_CODE, GMES_ORIGIN_INSP_JUDGE_CODE.2  \n",
    "모두 값이 존재한다면 'ok'의 값을 가지고  \n",
    "값이 존재하지 않을경우에는 둘다 동일하게 결측값을 가짐  "
   ]
  }
 ],
 "metadata": {
  "kernelspec": {
   "display_name": "Python 3 (ipykernel)",
   "language": "python",
   "name": "python3"
  },
  "language_info": {
   "codemirror_mode": {
    "name": "ipython",
    "version": 3
   },
   "file_extension": ".py",
   "mimetype": "text/x-python",
   "name": "python",
   "nbconvert_exporter": "python",
   "pygments_lexer": "ipython3",
   "version": "3.7.8"
  }
 },
 "nbformat": 4,
 "nbformat_minor": 5
}

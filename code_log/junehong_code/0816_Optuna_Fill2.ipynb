{
 "cells": [
  {
   "cell_type": "markdown",
   "id": "017e9265",
   "metadata": {},
   "source": [
    "# 제품 이상여부 판별 프로젝트\n"
   ]
  },
  {
   "cell_type": "markdown",
   "id": "acdab431",
   "metadata": {},
   "source": [
    "## 1. 데이터 불러오기\n"
   ]
  },
  {
   "cell_type": "markdown",
   "id": "2b8341e8",
   "metadata": {},
   "source": [
    "### 필수 라이브러리\n"
   ]
  },
  {
   "cell_type": "code",
   "execution_count": 108,
   "id": "a315cc58",
   "metadata": {},
   "outputs": [],
   "source": [
    "import numpy as np\n",
    "import pandas as pd\n",
    "import seaborn as sns\n",
    "import matplotlib.pyplot as plt\n",
    "\n",
    "import os\n",
    "from pprint import pprint\n",
    "\n",
    "from sklearn.ensemble import RandomForestClassifier\n",
    "from sklearn.metrics import (\n",
    "    accuracy_score,\n",
    "    classification_report,\n",
    "    confusion_matrix,\n",
    "    f1_score,\n",
    "    precision_score,\n",
    "    recall_score,\n",
    ")\n",
    "from sklearn.model_selection import train_test_split\n",
    "from tqdm import tqdm"
   ]
  },
  {
   "cell_type": "markdown",
   "id": "4d054e30",
   "metadata": {},
   "source": [
    "### 데이터 읽어오기\n"
   ]
  },
  {
   "cell_type": "code",
   "execution_count": 109,
   "id": "fc0b4d80",
   "metadata": {},
   "outputs": [],
   "source": [
    "RANDOM_STATE = 110\n",
    "\n",
    "train_data = pd.read_csv(\"../../data/train_data.csv\")\n",
    "test_data = pd.read_csv(\"../../data/test_data.csv\")"
   ]
  },
  {
   "cell_type": "markdown",
   "id": "cd0a6bbc",
   "metadata": {},
   "source": [
    "기본 전처리 할것들"
   ]
  },
  {
   "cell_type": "code",
   "execution_count": 110,
   "id": "e1367da7",
   "metadata": {},
   "outputs": [],
   "source": [
    "# 'Workorder_AutoClave' 열에서 '-' 다음 숫자 값 추출 및 '000' 제거\n",
    "train_data['Workorder'] = train_data['Workorder'].str.replace(r'-(\\d+)', lambda x: '-' + x.group(1).lstrip('0'), regex=True)\n",
    "test_data['Workorder'] = test_data['Workorder'].str.replace(r'-(\\d+)', lambda x: '-' + x.group(1).lstrip('0'), regex=True)"
   ]
  },
  {
   "cell_type": "code",
   "execution_count": 111,
   "id": "735040a0",
   "metadata": {},
   "outputs": [],
   "source": [
    "# Dispenser_num 값에 따라 새로운 변수 생성\n",
    "train_data['Dispenser_1'] = train_data['Dispenser_num'].apply(lambda x: 1 if x == '#1' else 0)\n",
    "train_data['Dispenser_2'] = train_data['Dispenser_num'].apply(lambda x: 1 if x == '#2' else 0)\n",
    "\n",
    "test_data['Dispenser_1'] = test_data['Dispenser_num'].apply(lambda x: 1 if x == '#1' else 0)\n",
    "test_data['Dispenser_2'] = test_data['Dispenser_num'].apply(lambda x: 1 if x == '#2' else 0)\n",
    "\n",
    "# 불필요한 변수 제거\n",
    "train_data.drop(['Dispenser_num'], axis=1, inplace=True)\n",
    "test_data.drop(['Dispenser_num'], axis=1, inplace=True)"
   ]
  },
  {
   "cell_type": "code",
   "execution_count": 112,
   "id": "262866c0",
   "metadata": {},
   "outputs": [],
   "source": [
    "# WorkMode Collect Result_Dam의 이름을 WorkMode Collect Result로 변경\n",
    "train_data = train_data.rename(columns={'WorkMode Collect Result_Dam': 'WorkMode Collect Result'})\n",
    "test_data = test_data.rename(columns={'WorkMode Collect Result_Dam': 'WorkMode Collect Result'})\n",
    "\n",
    "# WorkMode Collect Result_Fill1, WorkMode Collect Result_Fill2 열 드롭\n",
    "train_data = train_data.drop(columns=['WorkMode Collect Result_Fill1', 'WorkMode Collect Result_Fill2'])\n",
    "test_data = test_data.drop(columns=['WorkMode Collect Result_Fill1', 'WorkMode Collect Result_Fill2'])"
   ]
  },
  {
   "cell_type": "code",
   "execution_count": 113,
   "id": "6e2e5c57",
   "metadata": {},
   "outputs": [],
   "source": [
    "# WorkMode Collect Result 열의 값이 7인 행을 1로 변경\n",
    "train_data['WorkMode Collect Result'] = train_data['WorkMode Collect Result'].replace(7, 1)\n",
    "test_data['WorkMode Collect Result'] = test_data['WorkMode Collect Result'].replace(7, 1)\n",
    "\n",
    "# WorkMode Collect Result 열의 결측값을 0으로 채움\n",
    "train_data['WorkMode Collect Result'] = train_data['WorkMode Collect Result'].fillna(0)\n",
    "test_data['WorkMode Collect Result'] = test_data['WorkMode Collect Result'].fillna(0)"
   ]
  },
  {
   "cell_type": "code",
   "execution_count": 114,
   "id": "38ab6e89",
   "metadata": {},
   "outputs": [],
   "source": [
    "# 세 변수의 값이 동일하면 해당 값을 가져가고, 하나라도 일치하지 않으면 0의 값을 가지는 파생 변수 생성 함수\n",
    "def create_receip_no_collect_result(df):\n",
    "    df['Receip_No_Collect_Result'] = df.apply(\n",
    "        lambda row: row['Receip No Collect Result_Dam'] \n",
    "                    if (row['Receip No Collect Result_Dam'] == row['Receip No Collect Result_Fill1'] == row['Receip No Collect Result_Fill2']) \n",
    "                    else 0, \n",
    "        axis=1\n",
    "    )\n",
    "\n",
    "# 함수 적용\n",
    "create_receip_no_collect_result(train_data)\n",
    "create_receip_no_collect_result(test_data)"
   ]
  },
  {
   "cell_type": "code",
   "execution_count": 115,
   "id": "d60cd31e",
   "metadata": {},
   "outputs": [],
   "source": [
    "# 제거할 변수 목록\n",
    "columns_to_drop = [\n",
    "    'Receip No Collect Result_Dam',\n",
    "    'Receip No Collect Result_Fill1',\n",
    "    'Receip No Collect Result_Fill2'\n",
    "]\n",
    "\n",
    "# 변수 제거\n",
    "train_data.drop(columns=columns_to_drop, inplace=True)\n",
    "test_data.drop(columns=columns_to_drop, inplace=True)"
   ]
  },
  {
   "cell_type": "code",
   "execution_count": 116,
   "id": "66f9a1d2",
   "metadata": {},
   "outputs": [],
   "source": [
    "# 세 변수의 값이 동일하면 해당 값을 가져가고, 하나라도 일치하지 않으면 0의 값을 가지는 파생 변수 생성 함수\n",
    "def create_palletid_collect_result(df):\n",
    "    df['PalletID_Collect_Result'] = df.apply(\n",
    "        lambda row: row['PalletID Collect Result_Dam'] \n",
    "                    if (row['PalletID Collect Result_Dam'] == row['PalletID Collect Result_Fill1'] == row['PalletID Collect Result_Fill2']) \n",
    "                    else 0, \n",
    "        axis=1\n",
    "    )\n",
    "\n",
    "# 함수 적용\n",
    "create_palletid_collect_result(train_data)\n",
    "create_palletid_collect_result(test_data)"
   ]
  },
  {
   "cell_type": "code",
   "execution_count": 117,
   "id": "f4f7c505",
   "metadata": {},
   "outputs": [],
   "source": [
    "# 제거할 변수 목록\n",
    "columns_to_drop = [\n",
    "    'PalletID Collect Result_Dam',\n",
    "    'PalletID Collect Result_Fill1',\n",
    "    'PalletID Collect Result_Fill2'\n",
    "]\n",
    "\n",
    "# 변수 제거\n",
    "train_data.drop(columns=columns_to_drop, inplace=True)\n",
    "test_data.drop(columns=columns_to_drop, inplace=True)"
   ]
  },
  {
   "cell_type": "code",
   "execution_count": 118,
   "id": "e14c7fa6",
   "metadata": {},
   "outputs": [],
   "source": [
    "# 세 변수의 값이 동일하면 해당 값을 가져가고, 하나라도 일치하지 않으면 0의 값을 가지는 파생 변수 생성 함수\n",
    "def create_palletid_collect_result(df):\n",
    "    df['Production_Qty_Collect_Result'] = df.apply(\n",
    "        lambda row: row['Production Qty Collect Result_Dam'] \n",
    "                    if (row['Production Qty Collect Result_Dam'] == row['Production Qty Collect Result_Fill1'] == row['Production Qty Collect Result_Fill2']) \n",
    "                    else 0, \n",
    "        axis=1\n",
    "    )\n",
    "\n",
    "# 함수 적용\n",
    "create_palletid_collect_result(train_data)\n",
    "create_palletid_collect_result(test_data)"
   ]
  },
  {
   "cell_type": "code",
   "execution_count": 119,
   "id": "b8fdec05",
   "metadata": {},
   "outputs": [],
   "source": [
    "# 제거할 변수 목록\n",
    "columns_to_drop = [\n",
    "    'Production Qty Collect Result_Dam',\n",
    "    'Production Qty Collect Result_Fill1',\n",
    "    'Production Qty Collect Result_Fill2'\n",
    "]\n",
    "\n",
    "# 변수 제거\n",
    "train_data.drop(columns=columns_to_drop, inplace=True)\n",
    "test_data.drop(columns=columns_to_drop, inplace=True)"
   ]
  },
  {
   "cell_type": "code",
   "execution_count": 120,
   "id": "a22797c8",
   "metadata": {},
   "outputs": [],
   "source": [
    "# \"Chamber Temp. Judge Value_AutoClave\" 변수의 값을 기준으로 파생 변수 생성 함수\n",
    "def create_judge_value_binary(df):\n",
    "    df['Chamber_Temp_OKNG_AutoClave'] = df['Chamber Temp. Judge Value_AutoClave'].apply(\n",
    "        lambda x: 1 if x == 'OK' else 0\n",
    "    )\n",
    "\n",
    "# 함수 적용\n",
    "create_judge_value_binary(train_data)\n",
    "create_judge_value_binary(test_data)"
   ]
  },
  {
   "cell_type": "code",
   "execution_count": 121,
   "id": "dd9ccf46",
   "metadata": {},
   "outputs": [
    {
     "name": "stdout",
     "output_type": "stream",
     "text": [
      "\n",
      " Judge Value 포함 변수>\n",
      "HEAD NORMAL COORDINATE X AXIS(Stage1) Judge Value_Dam\n",
      "Chamber Temp. Judge Value_AutoClave\n",
      "GMES_ORIGIN_INSP_JUDGE_CODE Judge Value_AutoClave\n",
      "HEAD NORMAL COORDINATE X AXIS(Stage1) Judge Value_Fill1\n",
      "HEAD NORMAL COORDINATE X AXIS(Stage1) Judge Value_Fill2\n"
     ]
    }
   ],
   "source": [
    "# 'Judge Value'를 포함하는 열 이름 필터링\n",
    "Process_Desc_col = train_data.filter(like='Judge Value').columns\n",
    "\n",
    "print(\"\\n Judge Value 포함 변수>\")\n",
    "for col in Process_Desc_col:\n",
    "    print(col)"
   ]
  },
  {
   "cell_type": "code",
   "execution_count": 122,
   "id": "efa52eee",
   "metadata": {},
   "outputs": [],
   "source": [
    "# 5개의 변수 목록\n",
    "judge_value_columns = [\n",
    "    'HEAD NORMAL COORDINATE X AXIS(Stage1) Judge Value_Dam'\n",
    "    , 'GMES_ORIGIN_INSP_JUDGE_CODE Judge Value_AutoClave'\n",
    "    , 'HEAD NORMAL COORDINATE X AXIS(Stage1) Judge Value_Fill1'\n",
    "    , 'HEAD NORMAL COORDINATE X AXIS(Stage1) Judge Value_Fill2'\n",
    "    , 'GMES_ORIGIN_INSP_JUDGE_CODE Collect Result_AutoClave'\n",
    "]\n",
    "\n",
    "# 파생 변수 생성 함수\n",
    "def create_judge_value_feature(df):\n",
    "    df['Judge_Value_OK'] = df[judge_value_columns].apply(\n",
    "        lambda row: 1 if any(row == 'OK') else 0, \n",
    "        axis=1\n",
    "    )\n",
    "\n",
    "# 함수 적용\n",
    "create_judge_value_feature(train_data)\n",
    "create_judge_value_feature(test_data)"
   ]
  },
  {
   "cell_type": "code",
   "execution_count": 123,
   "id": "ebe087f0",
   "metadata": {},
   "outputs": [],
   "source": [
    "# 제거할 변수 목록\n",
    "columns_to_drop = [\n",
    "    'Chamber Temp. Judge Value_AutoClave'\n",
    "    , 'HEAD NORMAL COORDINATE X AXIS(Stage1) Judge Value_Dam'\n",
    "    , 'GMES_ORIGIN_INSP_JUDGE_CODE Judge Value_AutoClave'\n",
    "    , 'HEAD NORMAL COORDINATE X AXIS(Stage1) Judge Value_Fill1'\n",
    "    , 'HEAD NORMAL COORDINATE X AXIS(Stage1) Judge Value_Fill2'\n",
    "    , 'GMES_ORIGIN_INSP_JUDGE_CODE Collect Result_AutoClave'\n",
    "]\n",
    "\n",
    "# 변수 제거\n",
    "train_data.drop(columns=columns_to_drop, inplace=True)\n",
    "test_data.drop(columns=columns_to_drop, inplace=True)"
   ]
  },
  {
   "cell_type": "code",
   "execution_count": 124,
   "id": "4fb1e7ae",
   "metadata": {},
   "outputs": [],
   "source": [
    "# 변수명 변경\n",
    "train_data = train_data.rename(columns={'1st Pressure 1st Pressure Unit Time_AutoClave': '1st Pressure Unit Time_AutoClave'})\n",
    "test_data = test_data.rename(columns={'1st Pressure 1st Pressure Unit Time_AutoClave': '1st Pressure Unit Time_AutoClave'})"
   ]
  },
  {
   "cell_type": "code",
   "execution_count": 125,
   "id": "6cdd01e2",
   "metadata": {},
   "outputs": [
    {
     "name": "stdout",
     "output_type": "stream",
     "text": [
      "<class 'pandas.core.frame.DataFrame'>\n",
      "RangeIndex: 40506 entries, 0 to 40505\n",
      "Columns: 108 entries, Model.Suffix to Judge_Value_OK\n",
      "dtypes: float64(56), int64(49), object(3)\n",
      "memory usage: 33.4+ MB\n"
     ]
    }
   ],
   "source": [
    "train_data.info()"
   ]
  },
  {
   "cell_type": "code",
   "execution_count": 126,
   "id": "5c4b1899",
   "metadata": {},
   "outputs": [
    {
     "name": "stdout",
     "output_type": "stream",
     "text": [
      "<class 'pandas.core.frame.DataFrame'>\n",
      "RangeIndex: 17361 entries, 0 to 17360\n",
      "Columns: 109 entries, Set ID to Judge_Value_OK\n",
      "dtypes: float64(86), int64(20), object(3)\n",
      "memory usage: 14.4+ MB\n"
     ]
    }
   ],
   "source": [
    "test_data.info()"
   ]
  },
  {
   "cell_type": "markdown",
   "id": "e23d3595",
   "metadata": {},
   "source": [
    "---"
   ]
  },
  {
   "cell_type": "markdown",
   "id": "b54df9c3",
   "metadata": {},
   "source": [
    "반복적으로 쓰는 툴 함수화"
   ]
  },
  {
   "cell_type": "code",
   "execution_count": 127,
   "id": "09d2efa7",
   "metadata": {},
   "outputs": [],
   "source": [
    "def plot_box(df, col_name):\n",
    "    \"\"\"\n",
    "    주어진 데이터프레임과 열 이름에 대해 박스 플롯을 그리는 함수.\n",
    "\n",
    "    Parameters:\n",
    "    dataframe (pd.DataFrame): 데이터프레임\n",
    "    column_name (str): 열 이름\n",
    "    \"\"\"\n",
    "    plt.figure(figsize=(7, 4))\n",
    "    plt.boxplot(df[col_name], vert=False)\n",
    "    plt.xlabel(col_name)\n",
    "    plt.title(f'Box Plot of {col_name}')\n",
    "    plt.show()"
   ]
  },
  {
   "cell_type": "code",
   "execution_count": 128,
   "id": "7515da51",
   "metadata": {},
   "outputs": [],
   "source": [
    "def value_counts_ratio(df, col_name, target_name='target'):\n",
    "    \"\"\"\n",
    "    주어진 데이터프레임의 특정 열에 대해 각 값마다 타겟 변수의 비율과 갯수, 총 갯수를 출력하는 함수.\n",
    "\n",
    "    Parameters:\n",
    "    df (pd.DataFrame): 데이터프레임\n",
    "    col_name (str): 열 이름\n",
    "    target_name (str): 타겟 변수 이름\n",
    "    \"\"\"\n",
    "    # 각 값마다 타겟 변수의 비율 계산\n",
    "    value_counts = df.groupby(col_name)[target_name].value_counts(normalize=True).unstack().fillna(0)\n",
    "    \n",
    "    # 각 값마다 타겟 변수의 갯수 계산\n",
    "    counts = df.groupby(col_name)[target_name].value_counts().unstack().fillna(0)\n",
    "    \n",
    "    # 각 값마다 총 갯수 계산\n",
    "    total_counts = df[col_name].value_counts().rename('Total_Count')\n",
    "    \n",
    "    # 비율과 갯수를 합침\n",
    "    result = value_counts.join(counts, lsuffix='_ratio', rsuffix='_count')\n",
    "    \n",
    "    # 총 갯수를 합침\n",
    "    result = result.join(total_counts, on=col_name)\n",
    "    \n",
    "    # 출력 형식 조정\n",
    "    result.index.name = 'variable'\n",
    "    print(f\"\\n{col_name}별 {target_name} 비율 및 갯수\\n\")\n",
    "    print(result.rename(columns=lambda x: x.split('_')[0]))"
   ]
  },
  {
   "cell_type": "code",
   "execution_count": 129,
   "id": "9eed238d",
   "metadata": {},
   "outputs": [],
   "source": [
    "def summarize_group(df, group_by_columns):\n",
    "    # 데이터프레임을 그룹화\n",
    "    grouped_df = df.groupby(group_by_columns)\n",
    "    \n",
    "    # 결과를 저장할 리스트 초기화\n",
    "    results = []\n",
    "    \n",
    "    # 그룹화된 데이터프레임의 내용을 확인하는 코드\n",
    "    for name, group in grouped_df:\n",
    "        # 그룹의 갯수 계산\n",
    "        group_count = group.shape[0]\n",
    "        \n",
    "        # 'target' 변수의 'AdNormal' 비율과 갯수 계산\n",
    "        adnormal_count = group['target'].value_counts().get('AbNormal', 0)\n",
    "        adnormal_ratio = adnormal_count / group_count\n",
    "        \n",
    "        # 결과 리스트에 추가\n",
    "        results.append([name, adnormal_count, adnormal_ratio, group_count])\n",
    "    \n",
    "    # 결과 리스트를 데이터프레임으로 변환\n",
    "    results_df = pd.DataFrame(results, columns=['group', \"'AdNormal' count\", 'ratio', 'Total'])\n",
    "    \n",
    "    # 그룹화된 변수들의 이름을 제목행으로 출력\n",
    "    print(f\"Grouped by: {', '.join(group_by_columns)}\")\n",
    "    print()\n",
    "    # 데이터프레임 출력\n",
    "    print(results_df)\n",
    "\n",
    "# 예시코드\n",
    "# summarize_grouped_data(train_data, ['1st Pressure Collect Result_AutoClave', '1st Pressure Unit Time_AutoClave'])"
   ]
  },
  {
   "cell_type": "code",
   "execution_count": 130,
   "id": "f4bfbd22",
   "metadata": {},
   "outputs": [],
   "source": [
    "def plot_ratio(df, group_by_column, target_column='target', abnormal_value='AbNormal'):\n",
    "    # 데이터프레임을 그룹화\n",
    "    grouped_df = df.groupby(group_by_column)\n",
    "    \n",
    "    # 결과를 저장할 리스트 초기화\n",
    "    results = []\n",
    "    \n",
    "    # 그룹화된 데이터프레임의 내용을 확인하는 코드\n",
    "    for name, group in grouped_df:\n",
    "        # 그룹의 갯수 계산\n",
    "        group_count = group.shape[0]\n",
    "        \n",
    "        # 'target' 변수의 'AbNormal' 비율과 갯수 계산\n",
    "        abnormal_count = group[target_column].value_counts().get(abnormal_value, 0)\n",
    "        abnormal_ratio = abnormal_count / group_count\n",
    "        \n",
    "        # 결과 리스트에 추가\n",
    "        results.append([name, abnormal_count, abnormal_ratio, group_count])\n",
    "    \n",
    "    # 결과 리스트를 데이터프레임으로 변환\n",
    "    results_df = pd.DataFrame(results, columns=['group', f\"'{abnormal_value}' count\", 'ratio', 'Total'])\n",
    "    \n",
    "    # 그래프 크기 설정\n",
    "    plt.figure(figsize=(10, 5))\n",
    "    \n",
    "    # 막대 그래프 생성\n",
    "    ax = results_df.plot(kind='bar', x='group', y='ratio', legend=False)\n",
    "    \n",
    "    # 각 막대 위에 AbNormal 갯수와 총 갯수 표시\n",
    "    for i, (abnormal_count, total) in enumerate(zip(results_df[f\"'{abnormal_value}' count\"], results_df['Total'])):\n",
    "        ax.text(i, results_df['ratio'][i], f'{abnormal_count} ({total})', ha='center', va='bottom', fontsize=8)\n",
    "    \n",
    "     # 그래프 제목 및 축 레이블 설정\n",
    "    ax.set_title(f'{abnormal_value} Ratio by {group_by_column}')\n",
    "    ax.set_xlabel(group_by_column)\n",
    "    ax.set_ylabel(f'{abnormal_value} Ratio')\n",
    "   \n",
    "    # 그래프 출력\n",
    "    plt.show()"
   ]
  },
  {
   "cell_type": "code",
   "execution_count": 131,
   "id": "aad45361",
   "metadata": {},
   "outputs": [],
   "source": [
    "import matplotlib.pyplot as plt\n",
    "import seaborn as sns\n",
    "\n",
    "def plot_ratio_boxplot(data, time_ratio_column, target_column='target'):\n",
    "    # 그래프 스타일 설정\n",
    "    sns.set(style=\"whitegrid\")\n",
    "\n",
    "    # 그래프 그리기\n",
    "    plt.figure(figsize=(10, 6))\n",
    "    sns.boxplot(x=time_ratio_column, y=target_column, data=data)\n",
    "\n",
    "    # 그래프 제목 및 레이블 설정\n",
    "    plt.title(f'{time_ratio_column} vs {target_column}')\n",
    "    plt.xlabel(time_ratio_column)\n",
    "    plt.ylabel(target_column)\n",
    "\n",
    "    # 그래프 출력\n",
    "    plt.show()\n",
    "\n",
    "# 함수 호출 예제\n",
    "#plot_time_ratio_vs_target(train_data, 'time_ratio_Dam')"
   ]
  },
  {
   "cell_type": "markdown",
   "id": "08a8a90c",
   "metadata": {},
   "source": [
    "---"
   ]
  },
  {
   "cell_type": "code",
   "execution_count": 132,
   "id": "0e84bd23",
   "metadata": {},
   "outputs": [
    {
     "data": {
      "text/plain": [
       "['Model.Suffix',\n",
       " 'Workorder',\n",
       " 'CURE END POSITION X Collect Result_Dam',\n",
       " 'CURE END POSITION Z Collect Result_Dam',\n",
       " 'CURE END POSITION Θ Collect Result_Dam',\n",
       " 'CURE SPEED Collect Result_Dam',\n",
       " 'CURE START POSITION X Collect Result_Dam',\n",
       " 'CURE START POSITION Θ Collect Result_Dam',\n",
       " 'DISCHARGED SPEED OF RESIN Collect Result_Dam',\n",
       " 'DISCHARGED TIME OF RESIN(Stage1) Collect Result_Dam',\n",
       " 'DISCHARGED TIME OF RESIN(Stage2) Collect Result_Dam',\n",
       " 'DISCHARGED TIME OF RESIN(Stage3) Collect Result_Dam',\n",
       " 'Dispense Volume(Stage1) Collect Result_Dam',\n",
       " 'Dispense Volume(Stage2) Collect Result_Dam',\n",
       " 'Dispense Volume(Stage3) Collect Result_Dam',\n",
       " 'HEAD NORMAL COORDINATE X AXIS(Stage1) Collect Result_Dam',\n",
       " 'HEAD NORMAL COORDINATE X AXIS(Stage2) Collect Result_Dam',\n",
       " 'HEAD NORMAL COORDINATE X AXIS(Stage3) Collect Result_Dam',\n",
       " 'HEAD NORMAL COORDINATE Y AXIS(Stage1) Collect Result_Dam',\n",
       " 'HEAD NORMAL COORDINATE Y AXIS(Stage2) Collect Result_Dam',\n",
       " 'HEAD NORMAL COORDINATE Y AXIS(Stage3) Collect Result_Dam',\n",
       " 'HEAD NORMAL COORDINATE Z AXIS(Stage1) Collect Result_Dam',\n",
       " 'HEAD NORMAL COORDINATE Z AXIS(Stage2) Collect Result_Dam',\n",
       " 'HEAD NORMAL COORDINATE Z AXIS(Stage3) Collect Result_Dam',\n",
       " 'Head Clean Position Z Collect Result_Dam',\n",
       " 'Head Purge Position Z Collect Result_Dam',\n",
       " 'Head Zero Position Y Collect Result_Dam',\n",
       " 'Head Zero Position Z Collect Result_Dam',\n",
       " 'Machine Tact time Collect Result_Dam',\n",
       " 'Stage1 Circle1 Distance Speed Collect Result_Dam',\n",
       " 'Stage1 Circle2 Distance Speed Collect Result_Dam',\n",
       " 'Stage1 Circle3 Distance Speed Collect Result_Dam',\n",
       " 'Stage1 Circle4 Distance Speed Collect Result_Dam',\n",
       " 'Stage1 Line1 Distance Speed Collect Result_Dam',\n",
       " 'Stage1 Line2 Distance Speed Collect Result_Dam',\n",
       " 'Stage1 Line3 Distance Speed Collect Result_Dam',\n",
       " 'Stage1 Line4 Distance Speed Collect Result_Dam',\n",
       " 'Stage2 Circle1 Distance Speed Collect Result_Dam',\n",
       " 'Stage2 Circle2 Distance Speed Collect Result_Dam',\n",
       " 'Stage2 Circle3 Distance Speed Collect Result_Dam',\n",
       " 'Stage2 Circle4 Distance Speed Collect Result_Dam',\n",
       " 'Stage2 Line1 Distance Speed Collect Result_Dam',\n",
       " 'Stage2 Line2 Distance Speed Collect Result_Dam',\n",
       " 'Stage2 Line3 Distance Speed Collect Result_Dam',\n",
       " 'Stage2 Line4 Distance Speed Collect Result_Dam',\n",
       " 'Stage3 Circle1 Distance Speed Collect Result_Dam',\n",
       " 'Stage3 Circle2 Distance Speed Collect Result_Dam',\n",
       " 'Stage3 Circle3 Distance Speed Collect Result_Dam',\n",
       " 'Stage3 Circle4 Distance Speed Collect Result_Dam',\n",
       " 'Stage3 Line1 Distance Speed Collect Result_Dam',\n",
       " 'Stage3 Line2 Distance Speed Collect Result_Dam',\n",
       " 'Stage3 Line3 Distance Speed Collect Result_Dam',\n",
       " 'Stage3 Line4 Distance Speed Collect Result_Dam',\n",
       " 'THICKNESS 1 Collect Result_Dam',\n",
       " 'THICKNESS 2 Collect Result_Dam',\n",
       " 'THICKNESS 3 Collect Result_Dam',\n",
       " 'WorkMode Collect Result',\n",
       " '1st Pressure Collect Result_AutoClave',\n",
       " '1st Pressure Unit Time_AutoClave',\n",
       " '2nd Pressure Collect Result_AutoClave',\n",
       " '2nd Pressure Unit Time_AutoClave',\n",
       " '3rd Pressure Collect Result_AutoClave',\n",
       " '3rd Pressure Unit Time_AutoClave',\n",
       " 'Chamber Temp. Collect Result_AutoClave',\n",
       " 'Chamber Temp. Unit Time_AutoClave',\n",
       " 'DISCHARGED SPEED OF RESIN Collect Result_Fill1',\n",
       " 'DISCHARGED TIME OF RESIN(Stage1) Collect Result_Fill1',\n",
       " 'DISCHARGED TIME OF RESIN(Stage2) Collect Result_Fill1',\n",
       " 'DISCHARGED TIME OF RESIN(Stage3) Collect Result_Fill1',\n",
       " 'Dispense Volume(Stage1) Collect Result_Fill1',\n",
       " 'Dispense Volume(Stage2) Collect Result_Fill1',\n",
       " 'Dispense Volume(Stage3) Collect Result_Fill1',\n",
       " 'HEAD NORMAL COORDINATE X AXIS(Stage1) Collect Result_Fill1',\n",
       " 'HEAD NORMAL COORDINATE X AXIS(Stage2) Collect Result_Fill1',\n",
       " 'HEAD NORMAL COORDINATE X AXIS(Stage3) Collect Result_Fill1',\n",
       " 'HEAD NORMAL COORDINATE Y AXIS(Stage1) Collect Result_Fill1',\n",
       " 'HEAD NORMAL COORDINATE Y AXIS(Stage2) Collect Result_Fill1',\n",
       " 'HEAD NORMAL COORDINATE Y AXIS(Stage3) Collect Result_Fill1',\n",
       " 'HEAD NORMAL COORDINATE Z AXIS(Stage1) Collect Result_Fill1',\n",
       " 'HEAD NORMAL COORDINATE Z AXIS(Stage2) Collect Result_Fill1',\n",
       " 'HEAD NORMAL COORDINATE Z AXIS(Stage3) Collect Result_Fill1',\n",
       " 'Head Purge Position Z Collect Result_Fill1',\n",
       " 'Machine Tact time Collect Result_Fill1',\n",
       " 'CURE END POSITION X Collect Result_Fill2',\n",
       " 'CURE END POSITION Z Collect Result_Fill2',\n",
       " 'CURE SPEED Collect Result_Fill2',\n",
       " 'CURE STANDBY POSITION Z Collect Result_Fill2',\n",
       " 'CURE START POSITION X Collect Result_Fill2',\n",
       " 'CURE START POSITION Z Collect Result_Fill2',\n",
       " 'HEAD NORMAL COORDINATE X AXIS(Stage1) Collect Result_Fill2',\n",
       " 'HEAD NORMAL COORDINATE X AXIS(Stage2) Collect Result_Fill2',\n",
       " 'HEAD NORMAL COORDINATE X AXIS(Stage3) Collect Result_Fill2',\n",
       " 'HEAD NORMAL COORDINATE Y AXIS(Stage1) Collect Result_Fill2',\n",
       " 'HEAD NORMAL COORDINATE Y AXIS(Stage2) Collect Result_Fill2',\n",
       " 'HEAD NORMAL COORDINATE Y AXIS(Stage3) Collect Result_Fill2',\n",
       " 'HEAD NORMAL COORDINATE Z AXIS(Stage1) Collect Result_Fill2',\n",
       " 'HEAD NORMAL COORDINATE Z AXIS(Stage2) Collect Result_Fill2',\n",
       " 'HEAD NORMAL COORDINATE Z AXIS(Stage3) Collect Result_Fill2',\n",
       " 'Head Purge Position Z Collect Result_Fill2',\n",
       " 'Machine Tact time Collect Result_Fill2',\n",
       " 'target',\n",
       " 'Dispenser_1',\n",
       " 'Dispenser_2',\n",
       " 'Receip_No_Collect_Result',\n",
       " 'PalletID_Collect_Result',\n",
       " 'Production_Qty_Collect_Result',\n",
       " 'Chamber_Temp_OKNG_AutoClave',\n",
       " 'Judge_Value_OK']"
      ]
     },
     "execution_count": 132,
     "metadata": {},
     "output_type": "execute_result"
    }
   ],
   "source": [
    "train_data.columns.to_list()"
   ]
  },
  {
   "cell_type": "markdown",
   "id": "e2a9465e",
   "metadata": {},
   "source": [
    "### 1. CURE"
   ]
  },
  {
   "cell_type": "code",
   "execution_count": 133,
   "id": "45bdcc9d",
   "metadata": {},
   "outputs": [
    {
     "name": "stdout",
     "output_type": "stream",
     "text": [
      "\n",
      " CURE 포함 변수>\n",
      "CURE END POSITION X Collect Result_Dam\n",
      "CURE END POSITION Z Collect Result_Dam\n",
      "CURE END POSITION Θ Collect Result_Dam\n",
      "CURE SPEED Collect Result_Dam\n",
      "CURE START POSITION X Collect Result_Dam\n",
      "CURE START POSITION Θ Collect Result_Dam\n",
      "CURE END POSITION X Collect Result_Fill2\n",
      "CURE END POSITION Z Collect Result_Fill2\n",
      "CURE SPEED Collect Result_Fill2\n",
      "CURE STANDBY POSITION Z Collect Result_Fill2\n",
      "CURE START POSITION X Collect Result_Fill2\n",
      "CURE START POSITION Z Collect Result_Fill2\n"
     ]
    }
   ],
   "source": [
    "# 'CURE'와 '_Dam'를 포함하는 열 이름 필터링\n",
    "Process_Desc_col = train_data.filter(like='CURE').columns\n",
    "\n",
    "print(\"\\n CURE 포함 변수>\")\n",
    "for col in Process_Desc_col:\n",
    "    print(col)"
   ]
  },
  {
   "cell_type": "code",
   "execution_count": 134,
   "id": "33dc2f53",
   "metadata": {},
   "outputs": [
    {
     "name": "stdout",
     "output_type": "stream",
     "text": [
      "Grouped by: Dispenser_1, Dispenser_2, CURE END POSITION Θ Collect Result_Dam, CURE START POSITION Θ Collect Result_Dam\n",
      "\n",
      "              group  'AdNormal' count     ratio  Total\n",
      "0  (0, 0, -90, -90)                19  1.000000     19\n",
      "1    (0, 0, 90, 90)                15  1.000000     15\n",
      "2    (0, 1, 90, 90)               850  0.054977  15461\n",
      "3  (1, 0, -90, -90)              1466  0.058614  25011\n"
     ]
    }
   ],
   "source": [
    "summarize_group(train_data, [\n",
    "'Dispenser_1'\n",
    ", 'Dispenser_2'\n",
    "# 'CURE END POSITION X Collect Result_Dam'\n",
    ", 'CURE END POSITION Θ Collect Result_Dam'\n",
    "# , 'CURE SPEED Collect Result_Dam'\n",
    "# , 'CURE START POSITION X Collect Result_Dam'\n",
    ", 'CURE START POSITION Θ Collect Result_Dam'\n",
    "# , 'CURE END POSITION X Collect Result_Fill2'\n",
    "# , 'CURE END POSITION Z Collect Result_Fill2'\n",
    "# , 'CURE SPEED Collect Result_Fill2'\n",
    "# , 'CURE STANDBY POSITION Z Collect Result_Fill2'\n",
    "# , 'CURE START POSITION X Collect Result_Fill2'\n",
    "# , 'CURE START POSITION Z Collect Result_Fill2'\n",
    "])"
   ]
  },
  {
   "cell_type": "markdown",
   "id": "23aff796",
   "metadata": {},
   "source": [
    "dispenser 종류에 따라 POSITION Θ 값이 따라감  \n",
    "-> drop"
   ]
  },
  {
   "cell_type": "code",
   "execution_count": 135,
   "id": "a2bcdc66",
   "metadata": {},
   "outputs": [],
   "source": [
    "# 제거할 변수 목록\n",
    "columns_to_drop = [\n",
    "    'CURE END POSITION Θ Collect Result_Dam'\n",
    "    , 'CURE START POSITION Θ Collect Result_Dam'\n",
    "]\n",
    "\n",
    "# 변수 제거\n",
    "train_data.drop(columns=columns_to_drop, inplace=True)\n",
    "test_data.drop(columns=columns_to_drop, inplace=True)"
   ]
  },
  {
   "cell_type": "code",
   "execution_count": 136,
   "id": "1b7aff20",
   "metadata": {},
   "outputs": [
    {
     "name": "stdout",
     "output_type": "stream",
     "text": [
      "\n",
      " CURE 포함 변수>\n",
      "CURE END POSITION X Collect Result_Dam\n",
      "CURE END POSITION Z Collect Result_Dam\n",
      "CURE SPEED Collect Result_Dam\n",
      "CURE START POSITION X Collect Result_Dam\n",
      "CURE END POSITION X Collect Result_Fill2\n",
      "CURE END POSITION Z Collect Result_Fill2\n",
      "CURE SPEED Collect Result_Fill2\n",
      "CURE STANDBY POSITION Z Collect Result_Fill2\n",
      "CURE START POSITION X Collect Result_Fill2\n",
      "CURE START POSITION Z Collect Result_Fill2\n"
     ]
    }
   ],
   "source": [
    "# 'CURE'를 포함하는 열 이름 필터링\n",
    "Process_Desc_col = train_data.filter(like='CURE').columns\n",
    "\n",
    "print(\"\\n CURE 포함 변수>\")\n",
    "for col in Process_Desc_col:\n",
    "    print(col)"
   ]
  },
  {
   "cell_type": "code",
   "execution_count": 137,
   "id": "61cf9dad",
   "metadata": {},
   "outputs": [
    {
     "name": "stdout",
     "output_type": "stream",
     "text": [
      "Grouped by: Dispenser_1, Dispenser_2, CURE END POSITION X Collect Result_Dam, CURE END POSITION Z Collect Result_Dam, CURE START POSITION X Collect Result_Dam\n",
      "\n",
      "                     group  'AdNormal' count     ratio  Total\n",
      "0   (0, 0, 240, 2.5, 1030)                19  1.000000     19\n",
      "1  (0, 0, 1000, 12.5, 280)                15  1.000000     15\n",
      "2  (0, 1, 1000, 12.5, 280)               850  0.054977  15461\n",
      "3   (1, 0, 240, 2.5, 1030)              1466  0.058614  25011\n"
     ]
    }
   ],
   "source": [
    "summarize_group(train_data, [\n",
    "'Dispenser_1'\n",
    ", 'Dispenser_2'\n",
    ", 'CURE END POSITION X Collect Result_Dam'\n",
    ", 'CURE END POSITION Z Collect Result_Dam'\n",
    "# , 'CURE SPEED Collect Result_Dam'\n",
    ", 'CURE START POSITION X Collect Result_Dam'\n",
    "# , 'CURE END POSITION X Collect Result_Fill2'\n",
    "# , 'CURE END POSITION Z Collect Result_Fill2'\n",
    "# , 'CURE SPEED Collect Result_Fill2'\n",
    "# , 'CURE STANDBY POSITION Z Collect Result_Fill2'\n",
    "# , 'CURE START POSITION X Collect Result_Fill2'\n",
    "# , 'CURE START POSITION Z Collect Result_Fill2'\n",
    "])"
   ]
  },
  {
   "cell_type": "markdown",
   "id": "48d641dc",
   "metadata": {},
   "source": [
    "좌표값을 통해 좌표간의 거리를 계산"
   ]
  },
  {
   "cell_type": "code",
   "execution_count": 138,
   "id": "96d3ba02",
   "metadata": {},
   "outputs": [],
   "source": [
    "# 시작 위치와 끝 위치 열 이름\n",
    "start_x_col = 'CURE START POSITION X Collect Result_Dam'\n",
    "start_z_col = 33.5\n",
    "end_x_col = 'CURE END POSITION X Collect Result_Dam'\n",
    "end_z_col = 'CURE END POSITION Z Collect Result_Dam'\n",
    "\n",
    "# 시작 위치와 끝 위치 사이의 거리 계산\n",
    "train_data['CURE_DISTANCE_Dam'] = np.sqrt(\n",
    "    (train_data[end_x_col] - train_data[start_x_col]) ** 2 +\n",
    "    (train_data[end_z_col] - start_z_col) ** 2\n",
    ")\n",
    "\n",
    "test_data['CURE_DISTANCE_Dam'] = np.sqrt(\n",
    "    (train_data[end_x_col] - train_data[start_x_col]) ** 2 +\n",
    "    (train_data[end_z_col] - start_z_col) ** 2\n",
    ")"
   ]
  },
  {
   "cell_type": "code",
   "execution_count": 139,
   "id": "a5fa846c",
   "metadata": {},
   "outputs": [],
   "source": [
    "# 시작 위치와 끝 위치 열 이름\n",
    "start_x_col = 'CURE START POSITION X Collect Result_Fill2'\n",
    "start_z_col = 'CURE START POSITION Z Collect Result_Fill2'\n",
    "end_x_col = 'CURE END POSITION X Collect Result_Fill2'\n",
    "end_z_col = 'CURE END POSITION Z Collect Result_Fill2'\n",
    "\n",
    "# 시작 위치와 끝 위치 사이의 거리 계산\n",
    "train_data['CURE_DISTANCE_Fill2'] = np.sqrt(\n",
    "    (train_data[end_x_col] - train_data[start_x_col]) ** 2 +\n",
    "    (train_data[end_z_col] - train_data[start_z_col]) ** 2\n",
    ")\n",
    "\n",
    "test_data['CURE_DISTANCE_Fill2'] = np.sqrt(\n",
    "    (train_data[end_x_col] - train_data[start_x_col]) ** 2 +\n",
    "    (train_data[end_z_col] - train_data[start_z_col]) ** 2\n",
    ")"
   ]
  },
  {
   "cell_type": "code",
   "execution_count": 140,
   "id": "fbe2fc87",
   "metadata": {},
   "outputs": [],
   "source": [
    "# 제거할 변수 목록\n",
    "columns_to_drop = [\n",
    "    'CURE START POSITION X Collect Result_Dam'\n",
    "    , 'CURE END POSITION X Collect Result_Dam'\n",
    "    , 'CURE END POSITION Z Collect Result_Dam'\n",
    "\n",
    "    , 'CURE START POSITION X Collect Result_Fill2'\n",
    "    , 'CURE START POSITION Z Collect Result_Fill2'\n",
    "    , 'CURE END POSITION X Collect Result_Fill2'\n",
    "    , 'CURE END POSITION Z Collect Result_Fill2'\n",
    "]\n",
    "\n",
    "# 변수 제거\n",
    "train_data.drop(columns=columns_to_drop, inplace=True)\n",
    "test_data.drop(columns=columns_to_drop, inplace=True)"
   ]
  },
  {
   "cell_type": "code",
   "execution_count": 141,
   "id": "2b9efd1a",
   "metadata": {},
   "outputs": [
    {
     "name": "stdout",
     "output_type": "stream",
     "text": [
      "\n",
      " CURE 포함 변수>\n",
      "CURE SPEED Collect Result_Dam\n",
      "CURE SPEED Collect Result_Fill2\n",
      "CURE STANDBY POSITION Z Collect Result_Fill2\n",
      "CURE_DISTANCE_Dam\n",
      "CURE_DISTANCE_Fill2\n"
     ]
    }
   ],
   "source": [
    "# 'CURE'를 포함하는 열 이름 필터링\n",
    "Process_Desc_col = train_data.filter(like='CURE').columns\n",
    "\n",
    "print(\"\\n CURE 포함 변수>\")\n",
    "for col in Process_Desc_col:\n",
    "    print(col)"
   ]
  },
  {
   "cell_type": "code",
   "execution_count": 142,
   "id": "46e713c2",
   "metadata": {},
   "outputs": [
    {
     "name": "stdout",
     "output_type": "stream",
     "text": [
      "Grouped by: CURE STANDBY POSITION Z Collect Result_Fill2\n",
      "\n",
      "   group  'AdNormal' count     ratio  Total\n",
      "0     22                34  0.072495    469\n",
      "1     23                22  0.107843    204\n",
      "2     32               421  0.085866   4903\n",
      "3     33              1873  0.053622  34930\n"
     ]
    }
   ],
   "source": [
    "summarize_group(train_data, [\n",
    "# 'Dispenser_1'\n",
    "# , 'Dispenser_2'\n",
    "# , 'CURE SPEED Collect Result_Dam'\n",
    "# , 'CURE SPEED Collect Result_Fill2'\n",
    " 'CURE STANDBY POSITION Z Collect Result_Fill2'\n",
    "# , 'CURE_DISTANCE_Dam'\n",
    "# , 'CURE_DISTANCE_Fill2'\n",
    "])"
   ]
  },
  {
   "cell_type": "markdown",
   "id": "cc2b3d80",
   "metadata": {},
   "source": [
    "'CURE STANDBY POSITION Z Collect Result_Fill2' 변수의 유의미함을 찾을수 x  \n",
    "다른 변수와 연결된만한것도 찾지 못함 -> drop"
   ]
  },
  {
   "cell_type": "code",
   "execution_count": 143,
   "id": "dc313406",
   "metadata": {},
   "outputs": [],
   "source": [
    "# 제거할 변수 목록\n",
    "columns_to_drop = ['CURE STANDBY POSITION Z Collect Result_Fill2']\n",
    "\n",
    "# 변수 제거\n",
    "train_data.drop(columns=columns_to_drop, inplace=True)\n",
    "test_data.drop(columns=columns_to_drop, inplace=True)"
   ]
  },
  {
   "cell_type": "code",
   "execution_count": 144,
   "id": "50fe7e4f",
   "metadata": {},
   "outputs": [
    {
     "name": "stdout",
     "output_type": "stream",
     "text": [
      "\n",
      " CURE 포함 변수>\n",
      "CURE SPEED Collect Result_Dam\n",
      "CURE SPEED Collect Result_Fill2\n",
      "CURE_DISTANCE_Dam\n",
      "CURE_DISTANCE_Fill2\n"
     ]
    }
   ],
   "source": [
    "# 'CURE'를 포함하는 열 이름 필터링\n",
    "Process_Desc_col = train_data.filter(like='CURE').columns\n",
    "\n",
    "print(\"\\n CURE 포함 변수>\")\n",
    "for col in Process_Desc_col:\n",
    "    print(col)"
   ]
  },
  {
   "cell_type": "code",
   "execution_count": 145,
   "id": "18af7bfb",
   "metadata": {},
   "outputs": [
    {
     "name": "stdout",
     "output_type": "stream",
     "text": [
      "Grouped by: Dispenser_1, Dispenser_2, CURE_DISTANCE_Dam, CURE_DISTANCE_Fill2\n",
      "\n",
      "                                          group  'AdNormal' count     ratio  \\\n",
      "0              (0, 0, 720.3061848963953, 780.0)                15  1.000000   \n",
      "1               (0, 0, 790.607993888248, 780.0)                19  1.000000   \n",
      "2              (0, 1, 720.3061848963953, 780.0)               827  0.054645   \n",
      "3  (0, 1, 720.3061848963953, 780.0006410253776)                23  0.070552   \n",
      "4  (0, 1, 720.3061848963953, 780.0775602464155)                 0  0.000000   \n",
      "5               (1, 0, 790.607993888248, 780.0)              1129  0.054418   \n",
      "6   (1, 0, 790.607993888248, 780.0006410253776)               286  0.077591   \n",
      "7   (1, 0, 790.607993888248, 780.0640999302557)                51  0.088235   \n",
      "\n",
      "   Total  \n",
      "0     15  \n",
      "1     19  \n",
      "2  15134  \n",
      "3    326  \n",
      "4      1  \n",
      "5  20747  \n",
      "6   3686  \n",
      "7    578  \n"
     ]
    }
   ],
   "source": [
    "summarize_group(train_data, [\n",
    "'Dispenser_1'\n",
    ", 'Dispenser_2'\n",
    "# , 'CURE SPEED Collect Result_Dam'\n",
    "# , 'CURE SPEED Collect Result_Fill2'\n",
    ", 'CURE_DISTANCE_Dam'\n",
    ", 'CURE_DISTANCE_Fill2'\n",
    "])"
   ]
  },
  {
   "cell_type": "markdown",
   "id": "340dbf40",
   "metadata": {},
   "source": [
    "거리의 차이에 따라 ratio 값 변화 크지 x"
   ]
  },
  {
   "cell_type": "code",
   "execution_count": 146,
   "id": "c26ff29b",
   "metadata": {},
   "outputs": [],
   "source": [
    "# 거리 / 속도 -> 시간 파생 변수 생성\n",
    "train_data['CURE_Time_Dam']  = train_data['CURE_DISTANCE_Dam'] / train_data['CURE SPEED Collect Result_Dam']\n",
    "test_data['CURE_Time_Dam']  = test_data['CURE_DISTANCE_Dam'] / test_data['CURE SPEED Collect Result_Dam']\n",
    "\n",
    "train_data['CURE_Time_Fill2']  = train_data['CURE_DISTANCE_Fill2'] / train_data['CURE SPEED Collect Result_Fill2']\n",
    "test_data['CURE_Time_Fill2']  = test_data['CURE_DISTANCE_Fill2'] / test_data['CURE SPEED Collect Result_Fill2']"
   ]
  },
  {
   "cell_type": "code",
   "execution_count": 147,
   "id": "48b4c8c0",
   "metadata": {},
   "outputs": [
    {
     "name": "stdout",
     "output_type": "stream",
     "text": [
      "\n",
      " CURE 포함 변수>\n",
      "CURE SPEED Collect Result_Dam\n",
      "CURE SPEED Collect Result_Fill2\n",
      "CURE_DISTANCE_Dam\n",
      "CURE_DISTANCE_Fill2\n",
      "CURE_Time_Dam\n",
      "CURE_Time_Fill2\n"
     ]
    }
   ],
   "source": [
    "# 'CURE'를 포함하는 열 이름 필터링\n",
    "Process_Desc_col = train_data.filter(like='CURE').columns\n",
    "\n",
    "print(\"\\n CURE 포함 변수>\")\n",
    "for col in Process_Desc_col:\n",
    "    print(col)"
   ]
  },
  {
   "cell_type": "code",
   "execution_count": 148,
   "id": "4195b534",
   "metadata": {},
   "outputs": [],
   "source": [
    "# 제거할 변수 목록\n",
    "columns_to_drop = [\n",
    "    'CURE_DISTANCE_Dam'\n",
    "    , 'CURE SPEED Collect Result_Dam'\n",
    "    , 'CURE_DISTANCE_Fill2'\n",
    "    , 'CURE SPEED Collect Result_Fill2'\n",
    "]\n",
    "\n",
    "# 변수 제거\n",
    "train_data.drop(columns=columns_to_drop, inplace=True)\n",
    "test_data.drop(columns=columns_to_drop, inplace=True)"
   ]
  },
  {
   "cell_type": "code",
   "execution_count": 149,
   "id": "2d0840f4",
   "metadata": {},
   "outputs": [
    {
     "name": "stdout",
     "output_type": "stream",
     "text": [
      "\n",
      " CURE 포함 변수>\n",
      "CURE_Time_Dam\n",
      "CURE_Time_Fill2\n"
     ]
    }
   ],
   "source": [
    "# 'CURE'를 포함하는 열 이름 필터링\n",
    "Process_Desc_col = train_data.filter(like='CURE').columns\n",
    "\n",
    "print(\"\\n CURE 포함 변수>\")\n",
    "for col in Process_Desc_col:\n",
    "    print(col)"
   ]
  },
  {
   "cell_type": "markdown",
   "id": "8caac149",
   "metadata": {},
   "source": [
    "### 2. HEAD NORMAL COORDINATE"
   ]
  },
  {
   "cell_type": "code",
   "execution_count": 150,
   "id": "39a38fc8",
   "metadata": {},
   "outputs": [
    {
     "name": "stdout",
     "output_type": "stream",
     "text": [
      "\n",
      " HEAD NORMAL COORDINATE 포함 변수>\n",
      "HEAD NORMAL COORDINATE X AXIS(Stage1) Collect Result_Dam\n",
      "HEAD NORMAL COORDINATE X AXIS(Stage2) Collect Result_Dam\n",
      "HEAD NORMAL COORDINATE X AXIS(Stage3) Collect Result_Dam\n",
      "HEAD NORMAL COORDINATE Y AXIS(Stage1) Collect Result_Dam\n",
      "HEAD NORMAL COORDINATE Y AXIS(Stage2) Collect Result_Dam\n",
      "HEAD NORMAL COORDINATE Y AXIS(Stage3) Collect Result_Dam\n",
      "HEAD NORMAL COORDINATE Z AXIS(Stage1) Collect Result_Dam\n",
      "HEAD NORMAL COORDINATE Z AXIS(Stage2) Collect Result_Dam\n",
      "HEAD NORMAL COORDINATE Z AXIS(Stage3) Collect Result_Dam\n",
      "HEAD NORMAL COORDINATE X AXIS(Stage1) Collect Result_Fill1\n",
      "HEAD NORMAL COORDINATE X AXIS(Stage2) Collect Result_Fill1\n",
      "HEAD NORMAL COORDINATE X AXIS(Stage3) Collect Result_Fill1\n",
      "HEAD NORMAL COORDINATE Y AXIS(Stage1) Collect Result_Fill1\n",
      "HEAD NORMAL COORDINATE Y AXIS(Stage2) Collect Result_Fill1\n",
      "HEAD NORMAL COORDINATE Y AXIS(Stage3) Collect Result_Fill1\n",
      "HEAD NORMAL COORDINATE Z AXIS(Stage1) Collect Result_Fill1\n",
      "HEAD NORMAL COORDINATE Z AXIS(Stage2) Collect Result_Fill1\n",
      "HEAD NORMAL COORDINATE Z AXIS(Stage3) Collect Result_Fill1\n",
      "HEAD NORMAL COORDINATE X AXIS(Stage1) Collect Result_Fill2\n",
      "HEAD NORMAL COORDINATE X AXIS(Stage2) Collect Result_Fill2\n",
      "HEAD NORMAL COORDINATE X AXIS(Stage3) Collect Result_Fill2\n",
      "HEAD NORMAL COORDINATE Y AXIS(Stage1) Collect Result_Fill2\n",
      "HEAD NORMAL COORDINATE Y AXIS(Stage2) Collect Result_Fill2\n",
      "HEAD NORMAL COORDINATE Y AXIS(Stage3) Collect Result_Fill2\n",
      "HEAD NORMAL COORDINATE Z AXIS(Stage1) Collect Result_Fill2\n",
      "HEAD NORMAL COORDINATE Z AXIS(Stage2) Collect Result_Fill2\n",
      "HEAD NORMAL COORDINATE Z AXIS(Stage3) Collect Result_Fill2\n"
     ]
    }
   ],
   "source": [
    "# 'HEAD NORMAL COORDINATE'를 포함하는 열 이름 필터링\n",
    "Process_Desc_col = train_data.filter(like='HEAD NORMAL COORDINATE').columns\n",
    "\n",
    "print(\"\\n HEAD NORMAL COORDINATE 포함 변수>\")\n",
    "for col in Process_Desc_col:\n",
    "    print(col)"
   ]
  },
  {
   "cell_type": "code",
   "execution_count": 151,
   "id": "acc3e7ed",
   "metadata": {},
   "outputs": [],
   "source": [
    "# 각 스테이지의 좌표 열 정의\n",
    "stage1_cols = ['HEAD NORMAL COORDINATE X AXIS(Stage1) Collect Result_Dam',\n",
    "               'HEAD NORMAL COORDINATE Y AXIS(Stage1) Collect Result_Dam',\n",
    "               'HEAD NORMAL COORDINATE Z AXIS(Stage1) Collect Result_Dam']\n",
    "\n",
    "stage2_cols = ['HEAD NORMAL COORDINATE X AXIS(Stage2) Collect Result_Dam',\n",
    "               'HEAD NORMAL COORDINATE Y AXIS(Stage2) Collect Result_Dam',\n",
    "               'HEAD NORMAL COORDINATE Z AXIS(Stage2) Collect Result_Dam']\n",
    "\n",
    "stage3_cols = ['HEAD NORMAL COORDINATE X AXIS(Stage3) Collect Result_Dam',\n",
    "               'HEAD NORMAL COORDINATE Y AXIS(Stage3) Collect Result_Dam',\n",
    "               'HEAD NORMAL COORDINATE Z AXIS(Stage3) Collect Result_Dam']\n",
    "\n",
    "# 거리 계산 함수\n",
    "def calculate_distances(data):\n",
    "    data['HEAD NORMAL DISTANCE_STAGE1_STAGE2_Dam'] = np.sqrt(\n",
    "        (data[stage2_cols[0]] - data[stage1_cols[0]]) ** 2 +\n",
    "        (data[stage2_cols[1]] - data[stage1_cols[1]]) ** 2 +\n",
    "        (data[stage2_cols[2]] - data[stage1_cols[2]]) ** 2\n",
    "    )\n",
    "\n",
    "    data['HEAD NORMAL DISTANCE_STAGE2_STAGE3_Dam'] = np.sqrt(\n",
    "        (data[stage3_cols[0]] - data[stage2_cols[0]]) ** 2 +\n",
    "        (data[stage3_cols[1]] - data[stage2_cols[1]]) ** 2 +\n",
    "        (data[stage3_cols[2]] - data[stage2_cols[2]]) ** 2\n",
    "    )\n",
    "\n",
    "    data['HEAD NORMAL DISTANCE_STAGE1_STAGE3_Dam'] = np.sqrt(\n",
    "        (data[stage3_cols[0]] - data[stage1_cols[0]]) ** 2 +\n",
    "        (data[stage3_cols[1]] - data[stage1_cols[1]]) ** 2 +\n",
    "        (data[stage3_cols[2]] - data[stage1_cols[2]]) ** 2\n",
    "    )\n",
    "\n",
    "    return data\n",
    "\n",
    "# train_data에 적용\n",
    "train_data = calculate_distances(train_data)\n",
    "\n",
    "# test_data에 적용\n",
    "test_data = calculate_distances(test_data)"
   ]
  },
  {
   "cell_type": "code",
   "execution_count": 152,
   "id": "287f0c97",
   "metadata": {},
   "outputs": [],
   "source": [
    "# 필요한 열 이름\n",
    "stage1_stage2_col = 'HEAD NORMAL DISTANCE_STAGE1_STAGE2_Dam'\n",
    "stage2_stage3_col = 'HEAD NORMAL DISTANCE_STAGE2_STAGE3_Dam'\n",
    "stage1_stage3_col = 'HEAD NORMAL DISTANCE_STAGE1_STAGE3_Dam'\n",
    "\n",
    "# 삼각형의 넓이와 높이를 계산하는 함수\n",
    "def calculate_triangle_features(data):\n",
    "    a = data[stage1_stage2_col]\n",
    "    b = data[stage2_stage3_col]\n",
    "    c = data[stage1_stage3_col]\n",
    "\n",
    "    # 헤론의 공식에 따른 삼각형의 넓이 계산\n",
    "    s = (a + b + c) / 2\n",
    "    area = np.sqrt(s * (s - a) * (s - b) * (s - c))\n",
    "\n",
    "    # 높이 계산 (밑변을 c로 가정)\n",
    "    height = (2 * area) / c\n",
    "\n",
    "    # 결과를 새로운 열에 저장\n",
    "    # data['HEAD NORMAL DISTANCE_TRIANGLE_area_Dam'] = area\n",
    "    data['HEAD NORMAL DISTANCE_TRIANGLE_height_Dam'] = height\n",
    "\n",
    "    return data\n",
    "\n",
    "# train_data에 적용\n",
    "train_data = calculate_triangle_features(train_data)\n",
    "\n",
    "# test_data에 적용\n",
    "test_data = calculate_triangle_features(test_data)"
   ]
  },
  {
   "cell_type": "code",
   "execution_count": 153,
   "id": "efb87f49",
   "metadata": {},
   "outputs": [],
   "source": [
    "# 제거할 변수 목록\n",
    "columns_to_drop = [\n",
    "    'HEAD NORMAL COORDINATE X AXIS(Stage1) Collect Result_Dam'\n",
    "    , 'HEAD NORMAL COORDINATE Y AXIS(Stage1) Collect Result_Dam'\n",
    "    , 'HEAD NORMAL COORDINATE Z AXIS(Stage1) Collect Result_Dam'\n",
    "\n",
    "    , 'HEAD NORMAL COORDINATE X AXIS(Stage2) Collect Result_Dam'\n",
    "    , 'HEAD NORMAL COORDINATE Y AXIS(Stage2) Collect Result_Dam'\n",
    "    , 'HEAD NORMAL COORDINATE Z AXIS(Stage2) Collect Result_Dam'\n",
    "\n",
    "    , 'HEAD NORMAL COORDINATE X AXIS(Stage3) Collect Result_Dam'\n",
    "    , 'HEAD NORMAL COORDINATE Y AXIS(Stage3) Collect Result_Dam'\n",
    "    , 'HEAD NORMAL COORDINATE Z AXIS(Stage3) Collect Result_Dam'\n",
    "]\n",
    "\n",
    "# 변수 제거\n",
    "train_data.drop(columns=columns_to_drop, inplace=True)\n",
    "test_data.drop(columns=columns_to_drop, inplace=True)"
   ]
  },
  {
   "cell_type": "code",
   "execution_count": 154,
   "id": "dd662cf0",
   "metadata": {},
   "outputs": [],
   "source": [
    "# 각 스테이지의 좌표 열 정의\n",
    "stage1_cols = ['HEAD NORMAL COORDINATE X AXIS(Stage1) Collect Result_Fill1',\n",
    "               'HEAD NORMAL COORDINATE Y AXIS(Stage1) Collect Result_Fill1',\n",
    "               'HEAD NORMAL COORDINATE Z AXIS(Stage1) Collect Result_Fill1']\n",
    "\n",
    "stage2_cols = ['HEAD NORMAL COORDINATE X AXIS(Stage2) Collect Result_Fill1',\n",
    "               'HEAD NORMAL COORDINATE Y AXIS(Stage2) Collect Result_Fill1',\n",
    "               'HEAD NORMAL COORDINATE Z AXIS(Stage2) Collect Result_Fill1']\n",
    "\n",
    "stage3_cols = ['HEAD NORMAL COORDINATE X AXIS(Stage3) Collect Result_Fill1',\n",
    "               'HEAD NORMAL COORDINATE Y AXIS(Stage3) Collect Result_Fill1',\n",
    "               'HEAD NORMAL COORDINATE Z AXIS(Stage3) Collect Result_Fill1']\n",
    "\n",
    "# 거리 계산 함수\n",
    "def calculate_distances(data):\n",
    "    data['HEAD NORMAL DISTANCE_STAGE1_STAGE2_Fill1'] = np.sqrt(\n",
    "        (data[stage2_cols[0]] - data[stage1_cols[0]]) ** 2 +\n",
    "        (data[stage2_cols[1]] - data[stage1_cols[1]]) ** 2 +\n",
    "        (data[stage2_cols[2]] - data[stage1_cols[2]]) ** 2\n",
    "    )\n",
    "\n",
    "    data['HEAD NORMAL DISTANCE_STAGE2_STAGE3_Fill1'] = np.sqrt(\n",
    "        (data[stage3_cols[0]] - data[stage2_cols[0]]) ** 2 +\n",
    "        (data[stage3_cols[1]] - data[stage2_cols[1]]) ** 2 +\n",
    "        (data[stage3_cols[2]] - data[stage2_cols[2]]) ** 2\n",
    "    )\n",
    "\n",
    "    data['HEAD NORMAL DISTANCE_STAGE1_STAGE3_Fill1'] = np.sqrt(\n",
    "        (data[stage3_cols[0]] - data[stage1_cols[0]]) ** 2 +\n",
    "        (data[stage3_cols[1]] - data[stage1_cols[1]]) ** 2 +\n",
    "        (data[stage3_cols[2]] - data[stage1_cols[2]]) ** 2\n",
    "    )\n",
    "\n",
    "    return data\n",
    "\n",
    "# train_data에 적용\n",
    "train_data = calculate_distances(train_data)\n",
    "\n",
    "# test_data에 적용\n",
    "test_data = calculate_distances(test_data)"
   ]
  },
  {
   "cell_type": "code",
   "execution_count": 155,
   "id": "f9fb0580",
   "metadata": {},
   "outputs": [],
   "source": [
    "# 필요한 열 이름\n",
    "stage1_stage2_col = 'HEAD NORMAL DISTANCE_STAGE1_STAGE2_Fill1'\n",
    "stage2_stage3_col = 'HEAD NORMAL DISTANCE_STAGE2_STAGE3_Fill1'\n",
    "stage1_stage3_col = 'HEAD NORMAL DISTANCE_STAGE1_STAGE3_Fill1'\n",
    "\n",
    "# 삼각형의 넓이와 높이를 계산하는 함수\n",
    "def calculate_triangle_features(data):\n",
    "    a = data[stage1_stage2_col]\n",
    "    b = data[stage2_stage3_col]\n",
    "    c = data[stage1_stage3_col]\n",
    "\n",
    "    # 헤론의 공식에 따른 삼각형의 넓이 계산\n",
    "    s = (a + b + c) / 2\n",
    "    area = np.sqrt(s * (s - a) * (s - b) * (s - c))\n",
    "\n",
    "    # 높이 계산 (밑변을 c로 가정)\n",
    "    height = (2 * area) / c\n",
    "\n",
    "    # 결과를 새로운 열에 저장\n",
    "    # data['HEAD NORMAL DISTANCE_TRIANGLE_area_Fill1'] = area\n",
    "    data['HEAD NORMAL DISTANCE_TRIANGLE_height_Fill1'] = height\n",
    "\n",
    "    return data\n",
    "\n",
    "# train_data에 적용\n",
    "train_data = calculate_triangle_features(train_data)\n",
    "\n",
    "# test_data에 적용\n",
    "test_data = calculate_triangle_features(test_data)"
   ]
  },
  {
   "cell_type": "code",
   "execution_count": 156,
   "id": "0df37c1f",
   "metadata": {},
   "outputs": [],
   "source": [
    "# 제거할 변수 목록\n",
    "columns_to_drop = [\n",
    "    'HEAD NORMAL COORDINATE X AXIS(Stage1) Collect Result_Fill1'\n",
    "    , 'HEAD NORMAL COORDINATE Y AXIS(Stage1) Collect Result_Fill1'\n",
    "    , 'HEAD NORMAL COORDINATE Z AXIS(Stage1) Collect Result_Fill1'\n",
    "\n",
    "    , 'HEAD NORMAL COORDINATE X AXIS(Stage2) Collect Result_Fill1'\n",
    "    , 'HEAD NORMAL COORDINATE Y AXIS(Stage2) Collect Result_Fill1'\n",
    "    , 'HEAD NORMAL COORDINATE Z AXIS(Stage2) Collect Result_Fill1'\n",
    "\n",
    "    , 'HEAD NORMAL COORDINATE X AXIS(Stage3) Collect Result_Fill1'\n",
    "    , 'HEAD NORMAL COORDINATE Y AXIS(Stage3) Collect Result_Fill1'\n",
    "    , 'HEAD NORMAL COORDINATE Z AXIS(Stage3) Collect Result_Fill1'\n",
    "]\n",
    "\n",
    "# 변수 제거\n",
    "train_data.drop(columns=columns_to_drop, inplace=True)\n",
    "test_data.drop(columns=columns_to_drop, inplace=True)"
   ]
  },
  {
   "cell_type": "code",
   "execution_count": 157,
   "id": "ac6abb70",
   "metadata": {},
   "outputs": [],
   "source": [
    "import numpy as np\n",
    "\n",
    "# 각 스테이지의 좌표 열 정의\n",
    "stage1_cols = ['HEAD NORMAL COORDINATE X AXIS(Stage1) Collect Result_Fill2',\n",
    "               'HEAD NORMAL COORDINATE Y AXIS(Stage1) Collect Result_Fill2',\n",
    "               'HEAD NORMAL COORDINATE Z AXIS(Stage1) Collect Result_Fill2']\n",
    "\n",
    "stage2_cols = ['HEAD NORMAL COORDINATE X AXIS(Stage2) Collect Result_Fill2',\n",
    "               'HEAD NORMAL COORDINATE Y AXIS(Stage2) Collect Result_Fill2',\n",
    "               'HEAD NORMAL COORDINATE Z AXIS(Stage2) Collect Result_Fill2']\n",
    "\n",
    "stage3_cols = ['HEAD NORMAL COORDINATE X AXIS(Stage3) Collect Result_Fill2',\n",
    "               'HEAD NORMAL COORDINATE Y AXIS(Stage3) Collect Result_Fill2',\n",
    "               'HEAD NORMAL COORDINATE Z AXIS(Stage3) Collect Result_Fill2']\n",
    "\n",
    "# 거리 계산 함수\n",
    "def calculate_distances(data):\n",
    "    data['HEAD NORMAL DISTANCE_STAGE1_STAGE2_Fill2'] = np.sqrt(\n",
    "        (data[stage2_cols[0]] - data[stage1_cols[0]]) ** 2 +\n",
    "        (data[stage2_cols[1]] - data[stage1_cols[1]]) ** 2 +\n",
    "        (data[stage2_cols[2]] - data[stage1_cols[2]]) ** 2\n",
    "    )\n",
    "\n",
    "    data['HEAD NORMAL DISTANCE_STAGE2_STAGE3_Fill2'] = np.sqrt(\n",
    "        (data[stage3_cols[0]] - data[stage2_cols[0]]) ** 2 +\n",
    "        (data[stage3_cols[1]] - data[stage2_cols[1]]) ** 2 +\n",
    "        (data[stage3_cols[2]] - data[stage2_cols[2]]) ** 2\n",
    "    )\n",
    "\n",
    "    data['HEAD NORMAL DISTANCE_STAGE1_STAGE3_Fill2'] = np.sqrt(\n",
    "        (data[stage3_cols[0]] - data[stage1_cols[0]]) ** 2 +\n",
    "        (data[stage3_cols[1]] - data[stage1_cols[1]]) ** 2 +\n",
    "        (data[stage3_cols[2]] - data[stage1_cols[2]]) ** 2\n",
    "    )\n",
    "\n",
    "    return data\n",
    "\n",
    "# train_data에 적용\n",
    "train_data = calculate_distances(train_data)\n",
    "\n",
    "# test_data에 적용\n",
    "test_data = calculate_distances(test_data)"
   ]
  },
  {
   "cell_type": "code",
   "execution_count": 158,
   "id": "4c4cf668",
   "metadata": {},
   "outputs": [],
   "source": [
    "# 제거할 변수 목록\n",
    "columns_to_drop = [\n",
    "    'HEAD NORMAL COORDINATE X AXIS(Stage1) Collect Result_Fill2'\n",
    "    , 'HEAD NORMAL COORDINATE Y AXIS(Stage1) Collect Result_Fill2'\n",
    "    , 'HEAD NORMAL COORDINATE Z AXIS(Stage1) Collect Result_Fill2'\n",
    "\n",
    "    , 'HEAD NORMAL COORDINATE X AXIS(Stage2) Collect Result_Fill2'\n",
    "    , 'HEAD NORMAL COORDINATE Y AXIS(Stage2) Collect Result_Fill2'\n",
    "    , 'HEAD NORMAL COORDINATE Z AXIS(Stage2) Collect Result_Fill2'\n",
    "\n",
    "    , 'HEAD NORMAL COORDINATE X AXIS(Stage3) Collect Result_Fill2'\n",
    "    , 'HEAD NORMAL COORDINATE Y AXIS(Stage3) Collect Result_Fill2'\n",
    "    , 'HEAD NORMAL COORDINATE Z AXIS(Stage3) Collect Result_Fill2'\n",
    "]\n",
    "\n",
    "# 변수 제거\n",
    "train_data.drop(columns=columns_to_drop, inplace=True)\n",
    "test_data.drop(columns=columns_to_drop, inplace=True)"
   ]
  },
  {
   "cell_type": "code",
   "execution_count": 159,
   "id": "9688a787",
   "metadata": {},
   "outputs": [
    {
     "name": "stdout",
     "output_type": "stream",
     "text": [
      "\n",
      " HEAD NORMAL 포함 변수>\n",
      "HEAD NORMAL DISTANCE_STAGE1_STAGE2_Dam\n",
      "HEAD NORMAL DISTANCE_STAGE2_STAGE3_Dam\n",
      "HEAD NORMAL DISTANCE_STAGE1_STAGE3_Dam\n",
      "HEAD NORMAL DISTANCE_TRIANGLE_height_Dam\n",
      "HEAD NORMAL DISTANCE_STAGE1_STAGE2_Fill1\n",
      "HEAD NORMAL DISTANCE_STAGE2_STAGE3_Fill1\n",
      "HEAD NORMAL DISTANCE_STAGE1_STAGE3_Fill1\n",
      "HEAD NORMAL DISTANCE_TRIANGLE_height_Fill1\n",
      "HEAD NORMAL DISTANCE_STAGE1_STAGE2_Fill2\n",
      "HEAD NORMAL DISTANCE_STAGE2_STAGE3_Fill2\n",
      "HEAD NORMAL DISTANCE_STAGE1_STAGE3_Fill2\n"
     ]
    }
   ],
   "source": [
    "# 'HEAD NORMAL'를 포함하는 열 이름 필터링\n",
    "Process_Desc_col = train_data.filter(like='HEAD NORMAL').columns\n",
    "\n",
    "print(\"\\n HEAD NORMAL 포함 변수>\")\n",
    "for col in Process_Desc_col:\n",
    "    print(col)"
   ]
  },
  {
   "cell_type": "code",
   "execution_count": 160,
   "id": "47c86049",
   "metadata": {},
   "outputs": [],
   "source": [
    "# 삭제할 열 이름 정의\n",
    "columns_to_drop = [\n",
    "    'HEAD NORMAL DISTANCE_STAGE1_STAGE2_Dam'\n",
    "    , 'HEAD NORMAL DISTANCE_STAGE2_STAGE3_Dam'\n",
    "    # , 'HEAD NORMAL DISTANCE_STAGE1_STAGE3_Dam'\n",
    "\n",
    "    , 'HEAD NORMAL DISTANCE_STAGE1_STAGE2_Fill1'\n",
    "    , 'HEAD NORMAL DISTANCE_STAGE2_STAGE3_Fill1'\n",
    "    # , 'HEAD NORMAL DISTANCE_STAGE1_STAGE3_Fill1'\n",
    "\n",
    "    # , 'HEAD NORMAL DISTANCE_STAGE1_STAGE2_Fill2'\n",
    "    # , 'HEAD NORMAL DISTANCE_STAGE2_STAGE3_Fill2'\n",
    "    # , 'HEAD NORMAL DISTANCE_STAGE1_STAGE3_Fill2'\n",
    "]\n",
    "\n",
    "# train_data에서 열 삭제\n",
    "train_data = train_data.drop(columns=columns_to_drop)\n",
    "\n",
    "# test_data에서 열 삭제\n",
    "test_data = test_data.drop(columns=columns_to_drop)"
   ]
  },
  {
   "cell_type": "code",
   "execution_count": 161,
   "id": "0fa789f2",
   "metadata": {},
   "outputs": [
    {
     "name": "stdout",
     "output_type": "stream",
     "text": [
      "\n",
      " HEAD NORMAL 포함 변수>\n",
      "HEAD NORMAL DISTANCE_STAGE1_STAGE3_Dam\n",
      "HEAD NORMAL DISTANCE_TRIANGLE_height_Dam\n",
      "HEAD NORMAL DISTANCE_STAGE1_STAGE3_Fill1\n",
      "HEAD NORMAL DISTANCE_TRIANGLE_height_Fill1\n",
      "HEAD NORMAL DISTANCE_STAGE1_STAGE2_Fill2\n",
      "HEAD NORMAL DISTANCE_STAGE2_STAGE3_Fill2\n",
      "HEAD NORMAL DISTANCE_STAGE1_STAGE3_Fill2\n"
     ]
    }
   ],
   "source": [
    "# 'HEAD NORMAL'를 포함하는 열 이름 필터링\n",
    "Process_Desc_col = train_data.filter(like='HEAD NORMAL').columns\n",
    "\n",
    "print(\"\\n HEAD NORMAL 포함 변수>\")\n",
    "for col in Process_Desc_col:\n",
    "    print(col)"
   ]
  },
  {
   "cell_type": "markdown",
   "id": "c333a2e0",
   "metadata": {},
   "source": [
    "### 3. RESIN(처리x)"
   ]
  },
  {
   "cell_type": "code",
   "execution_count": 162,
   "id": "91c64cbe",
   "metadata": {},
   "outputs": [
    {
     "name": "stdout",
     "output_type": "stream",
     "text": [
      "\n",
      "'RESIN' 또는 'Dispense Volume' 포함 변수>\n",
      "DISCHARGED SPEED OF RESIN Collect Result_Dam\n",
      "DISCHARGED TIME OF RESIN(Stage1) Collect Result_Dam\n",
      "DISCHARGED TIME OF RESIN(Stage2) Collect Result_Dam\n",
      "DISCHARGED TIME OF RESIN(Stage3) Collect Result_Dam\n",
      "Dispense Volume(Stage1) Collect Result_Dam\n",
      "Dispense Volume(Stage2) Collect Result_Dam\n",
      "Dispense Volume(Stage3) Collect Result_Dam\n",
      "DISCHARGED SPEED OF RESIN Collect Result_Fill1\n",
      "DISCHARGED TIME OF RESIN(Stage1) Collect Result_Fill1\n",
      "DISCHARGED TIME OF RESIN(Stage2) Collect Result_Fill1\n",
      "DISCHARGED TIME OF RESIN(Stage3) Collect Result_Fill1\n",
      "Dispense Volume(Stage1) Collect Result_Fill1\n",
      "Dispense Volume(Stage2) Collect Result_Fill1\n",
      "Dispense Volume(Stage3) Collect Result_Fill1\n"
     ]
    }
   ],
   "source": [
    "# 'RESIN' 또는 'Dispense Volume'을 포함하는 열 이름 필터링\n",
    "Process_Desc_col = train_data.filter(regex='RESIN|Dispense Volume').columns\n",
    "\n",
    "print(\"\\n'RESIN' 또는 'Dispense Volume' 포함 변수>\")\n",
    "for col in Process_Desc_col:\n",
    "    print(col)"
   ]
  },
  {
   "cell_type": "code",
   "execution_count": 163,
   "id": "4652063e",
   "metadata": {},
   "outputs": [
    {
     "name": "stdout",
     "output_type": "stream",
     "text": [
      "Grouped by: Dispense Volume(Stage1) Collect Result_Dam, Dispense Volume(Stage2) Collect Result_Dam, Dispense Volume(Stage3) Collect Result_Dam\n",
      "\n",
      "                  group  'AdNormal' count     ratio  Total\n",
      "0    (0.67, 0.26, 1.49)                 8  0.075472    106\n",
      "1    (0.67, 0.27, 1.49)               277  0.086293   3210\n",
      "2    (0.67, 0.28, 1.49)                 0  0.000000      2\n",
      "3    (0.67, 0.33, 1.49)                51  0.099415    513\n",
      "4    (0.67, 0.34, 1.49)               467  0.082276   5676\n",
      "..                  ...               ...       ...    ...\n",
      "155  (1.63, 0.92, 1.49)                41  0.048810    840\n",
      "156  (1.63, 0.93, 1.49)                46  0.080844    569\n",
      "157  (1.63, 0.94, 1.49)                34  0.068273    498\n",
      "158  (2.34, 0.71, 1.49)                 0  0.000000      1\n",
      "159  (2.34, 0.72, 1.49)                 0  0.000000      3\n",
      "\n",
      "[160 rows x 4 columns]\n"
     ]
    }
   ],
   "source": [
    "summarize_group(train_data, [\n",
    "# 'Dispenser_1'\n",
    "# , 'Dispenser_2'\n",
    "# , 'DISCHARGED SPEED OF RESIN Collect Result_Dam'\n",
    "# , 'DISCHARGED TIME OF RESIN(Stage1) Collect Result_Dam'\n",
    "# , 'DISCHARGED TIME OF RESIN(Stage2) Collect Result_Dam'\n",
    "# , 'DISCHARGED TIME OF RESIN(Stage3) Collect Result_Dam'\n",
    " 'Dispense Volume(Stage1) Collect Result_Dam'\n",
    ", 'Dispense Volume(Stage2) Collect Result_Dam'\n",
    ", 'Dispense Volume(Stage3) Collect Result_Dam'\n",
    "# , 'DISCHARGED SPEED OF RESIN Collect Result_Fill1'\n",
    "# , 'DISCHARGED TIME OF RESIN(Stage1) Collect Result_Fill1'\n",
    "# , 'DISCHARGED TIME OF RESIN(Stage2) Collect Result_Fill1'\n",
    "# , 'DISCHARGED TIME OF RESIN(Stage3) Collect Result_Fill1'\n",
    "# , 'Dispense Volume(Stage1) Collect Result_Fill1'\n",
    "# , 'Dispense Volume(Stage2) Collect Result_Fill1'\n",
    "# , 'Dispense Volume(Stage3) Collect Result_Fill1'\n",
    "])"
   ]
  },
  {
   "cell_type": "code",
   "execution_count": 164,
   "id": "b1d5d93e",
   "metadata": {},
   "outputs": [],
   "source": [
    "# # 파생 변수 생성 함수\n",
    "# def create_time_speed_product(df):\n",
    "#     stages = ['Stage1', 'Stage2', 'Stage3']\n",
    "#     for stage in stages:\n",
    "#         time_col = f'DISCHARGED TIME OF RESIN({stage}) Collect Result_Dam'\n",
    "#         speed_col = 'DISCHARGED SPEED OF RESIN Collect Result_Dam'\n",
    "#         new_col_name = f'RESIN Time_x_Speed_{stage}_Dam'\n",
    "#         df[new_col_name] = df[time_col] * df[speed_col]\n",
    "\n",
    "# # 함수 적용\n",
    "# create_time_speed_product(train_data)\n",
    "# create_time_speed_product(test_data)"
   ]
  },
  {
   "cell_type": "code",
   "execution_count": 165,
   "id": "0ebb3079",
   "metadata": {},
   "outputs": [],
   "source": [
    "# summarize_group(train_data, [\n",
    "# 'Dispenser_1'\n",
    "# , 'Dispenser_2'\n",
    "# , 'DISCHARGED SPEED OF RESIN Collect Result_Dam'\n",
    "\n",
    "# ])"
   ]
  },
  {
   "cell_type": "code",
   "execution_count": 166,
   "id": "dd57994f",
   "metadata": {},
   "outputs": [],
   "source": [
    "# # 파생 변수 생성 함수\n",
    "# def create_volume_time_ratio(df):\n",
    "#     stages = ['Stage1', 'Stage2', 'Stage3']\n",
    "#     for stage in stages:\n",
    "#         time_col = f'DISCHARGED TIME OF RESIN({stage}) Collect Result_Dam'\n",
    "#         volume_col = f'Dispense Volume({stage}) Collect Result_Dam'\n",
    "#         new_col_name = f'RESIN Volume_Time_Ratio_{stage}_Dam'\n",
    "#         df[new_col_name] = df[volume_col] / df[time_col]\n",
    "\n",
    "# # 함수 적용\n",
    "# create_volume_time_ratio(train_data)\n",
    "# create_volume_time_ratio(test_data)"
   ]
  },
  {
   "cell_type": "code",
   "execution_count": 167,
   "id": "2b42b1b4",
   "metadata": {},
   "outputs": [],
   "source": [
    "# # 출력 옵션을 설정\n",
    "# pd.set_option('display.max_rows', None)\n",
    "\n",
    "\n",
    "# # 출력 옵션을 원래대로\n",
    "# pd.reset_option('display.max_rows')"
   ]
  },
  {
   "cell_type": "code",
   "execution_count": 168,
   "id": "9df4ff2f",
   "metadata": {},
   "outputs": [],
   "source": [
    "# summarize_group(train_data, [\n",
    "# 'Dispenser_1'\n",
    "# , 'Dispenser_2'\n",
    "# , 'DISCHARGED SPEED OF RESIN Collect Result_Dam'\n",
    "# , 'DISCHARGED TIME OF RESIN(Stage1) Collect Result_Dam'\n",
    "# , 'DISCHARGED TIME OF RESIN(Stage2) Collect Result_Dam'\n",
    "# , 'DISCHARGED TIME OF RESIN(Stage3) Collect Result_Dam'\n",
    "# , 'Dispense Volume(Stage1) Collect Result_Dam'\n",
    "# , 'Dispense Volume(Stage2) Collect Result_Dam'\n",
    "# , 'Dispense Volume(Stage3) Collect Result_Dam'\n",
    "# # , 'DISCHARGED SPEED OF RESIN Collect Result_Fill1'\n",
    "# # , 'DISCHARGED TIME OF RESIN(Stage1) Collect Result_Fill1'\n",
    "# # , 'DISCHARGED TIME OF RESIN(Stage2) Collect Result_Fill1'\n",
    "# # , 'DISCHARGED TIME OF RESIN(Stage3) Collect Result_Fill1'\n",
    "# # , 'Dispense Volume(Stage1) Collect Result_Fill1'\n",
    "# # , 'Dispense Volume(Stage2) Collect Result_Fill1'\n",
    "# # , 'Dispense Volume(Stage3) Collect Result_Fill1'\n",
    "# # , 'RESIN Time_x_Speed_Stage1_Dam'\n",
    "# # , 'RESIN Time_x_Speed_Stage2_Dam'\n",
    "# # , 'RESIN Time_x_Speed_Stage3_Dam'\n",
    "# #  'RESIN Volume_Time_Ratio_Stage1_Dam'\n",
    "# # , 'RESIN Volume_Time_Ratio_Stage2_Dam'\n",
    "# # , 'RESIN Volume_Time_Ratio_Stage3_Dam'\n",
    "# ])"
   ]
  },
  {
   "cell_type": "code",
   "execution_count": 169,
   "id": "f6643f95",
   "metadata": {},
   "outputs": [],
   "source": [
    "# # 'RESIN' 또는 'Dispense Volume'을 포함하는 열 이름 필터링\n",
    "# Process_Desc_col = train_data.filter(regex='RESIN|Dispense Volume').columns\n",
    "\n",
    "# print(\"\\n'RESIN' 또는 'Dispense Volume' 포함 변수>\")\n",
    "# for col in Process_Desc_col:\n",
    "#     print(col)"
   ]
  },
  {
   "cell_type": "markdown",
   "id": "81ac6aad",
   "metadata": {},
   "source": [
    "### 4. Distance Speed Collect Result_Dam"
   ]
  },
  {
   "cell_type": "markdown",
   "id": "14f6a2ba",
   "metadata": {},
   "source": [
    "Dam 공정의 Circle, Line 길이 변수들 처리"
   ]
  },
  {
   "cell_type": "code",
   "execution_count": 170,
   "id": "8f1ca6d9",
   "metadata": {},
   "outputs": [
    {
     "name": "stdout",
     "output_type": "stream",
     "text": [
      "\n",
      " Distance Speed Collect Result_Dam 포함 변수>\n",
      "Stage1 Circle1 Distance Speed Collect Result_Dam\n",
      "Stage1 Circle2 Distance Speed Collect Result_Dam\n",
      "Stage1 Circle3 Distance Speed Collect Result_Dam\n",
      "Stage1 Circle4 Distance Speed Collect Result_Dam\n",
      "Stage1 Line1 Distance Speed Collect Result_Dam\n",
      "Stage1 Line2 Distance Speed Collect Result_Dam\n",
      "Stage1 Line3 Distance Speed Collect Result_Dam\n",
      "Stage1 Line4 Distance Speed Collect Result_Dam\n",
      "Stage2 Circle1 Distance Speed Collect Result_Dam\n",
      "Stage2 Circle2 Distance Speed Collect Result_Dam\n",
      "Stage2 Circle3 Distance Speed Collect Result_Dam\n",
      "Stage2 Circle4 Distance Speed Collect Result_Dam\n",
      "Stage2 Line1 Distance Speed Collect Result_Dam\n",
      "Stage2 Line2 Distance Speed Collect Result_Dam\n",
      "Stage2 Line3 Distance Speed Collect Result_Dam\n",
      "Stage2 Line4 Distance Speed Collect Result_Dam\n",
      "Stage3 Circle1 Distance Speed Collect Result_Dam\n",
      "Stage3 Circle2 Distance Speed Collect Result_Dam\n",
      "Stage3 Circle3 Distance Speed Collect Result_Dam\n",
      "Stage3 Circle4 Distance Speed Collect Result_Dam\n",
      "Stage3 Line1 Distance Speed Collect Result_Dam\n",
      "Stage3 Line2 Distance Speed Collect Result_Dam\n",
      "Stage3 Line3 Distance Speed Collect Result_Dam\n",
      "Stage3 Line4 Distance Speed Collect Result_Dam\n"
     ]
    }
   ],
   "source": [
    "# 'Distance Speed Collect Result_Dam'를 포함하는 열 이름 필터링\n",
    "Process_Desc_col = train_data.filter(like='Distance Speed Collect Result_Dam').columns\n",
    "\n",
    "print(\"\\n Distance Speed Collect Result_Dam 포함 변수>\")\n",
    "for col in Process_Desc_col:\n",
    "    print(col)"
   ]
  },
  {
   "cell_type": "markdown",
   "id": "883ac6dc",
   "metadata": {},
   "source": [
    "Stage 별 Speed 값들의 평균 계산"
   ]
  },
  {
   "cell_type": "code",
   "execution_count": 171,
   "id": "74dc87f7",
   "metadata": {},
   "outputs": [],
   "source": [
    "def add_stage_totals(data, stages, suffix='_Distance_Speed_avg_Dam'):\n",
    "    for stage in stages:\n",
    "        stage_cols = data.filter(like=stage).columns\n",
    "        data[f'{stage}{suffix}'] = data[stage_cols].sum(axis=1) / 8\n",
    "\n",
    "stages = ['Stage1', 'Stage2', 'Stage3']\n",
    "\n",
    "# train_data에 대해 파생변수 추가\n",
    "add_stage_totals(train_data, stages)\n",
    "\n",
    "# test_data에 대해 파생변수 추가\n",
    "add_stage_totals(test_data, stages)"
   ]
  },
  {
   "cell_type": "code",
   "execution_count": 172,
   "id": "0a453df3",
   "metadata": {},
   "outputs": [],
   "source": [
    "# 제거할 변수 목록\n",
    "columns_to_drop = [\n",
    "'Stage1 Circle1 Distance Speed Collect Result_Dam'\n",
    ", 'Stage1 Circle2 Distance Speed Collect Result_Dam'\n",
    ", 'Stage1 Circle3 Distance Speed Collect Result_Dam'\n",
    ", 'Stage1 Circle4 Distance Speed Collect Result_Dam'\n",
    ", 'Stage1 Line1 Distance Speed Collect Result_Dam'\n",
    ", 'Stage1 Line2 Distance Speed Collect Result_Dam'\n",
    ", 'Stage1 Line3 Distance Speed Collect Result_Dam'\n",
    ", 'Stage1 Line4 Distance Speed Collect Result_Dam'\n",
    ", 'Stage2 Circle1 Distance Speed Collect Result_Dam'\n",
    ", 'Stage2 Circle2 Distance Speed Collect Result_Dam'\n",
    ", 'Stage2 Circle3 Distance Speed Collect Result_Dam'\n",
    ", 'Stage2 Circle4 Distance Speed Collect Result_Dam'\n",
    ", 'Stage2 Line1 Distance Speed Collect Result_Dam'\n",
    ", 'Stage2 Line2 Distance Speed Collect Result_Dam'\n",
    ", 'Stage2 Line3 Distance Speed Collect Result_Dam'\n",
    ", 'Stage2 Line4 Distance Speed Collect Result_Dam'\n",
    ", 'Stage3 Circle1 Distance Speed Collect Result_Dam'\n",
    ", 'Stage3 Circle2 Distance Speed Collect Result_Dam'\n",
    ", 'Stage3 Circle3 Distance Speed Collect Result_Dam'\n",
    ", 'Stage3 Circle4 Distance Speed Collect Result_Dam'\n",
    ", 'Stage3 Line1 Distance Speed Collect Result_Dam'\n",
    ", 'Stage3 Line2 Distance Speed Collect Result_Dam'\n",
    ", 'Stage3 Line3 Distance Speed Collect Result_Dam'\n",
    ", 'Stage3 Line4 Distance Speed Collect Result_Dam'\n",
    "]\n",
    "\n",
    "# 변수 제거\n",
    "train_data.drop(columns=columns_to_drop, inplace=True)\n",
    "test_data.drop(columns=columns_to_drop, inplace=True)"
   ]
  },
  {
   "cell_type": "code",
   "execution_count": 173,
   "id": "2d2c9ab9",
   "metadata": {},
   "outputs": [
    {
     "name": "stdout",
     "output_type": "stream",
     "text": [
      "\n",
      " Distance_Speed_avg_Dam 포함 변수>\n",
      "Stage1_Distance_Speed_avg_Dam\n",
      "Stage2_Distance_Speed_avg_Dam\n",
      "Stage3_Distance_Speed_avg_Dam\n"
     ]
    }
   ],
   "source": [
    "# 'Distance_Speed_avg_Dam'를 포함하는 열 이름 필터링\n",
    "Process_Desc_col = train_data.filter(like='Distance_Speed_avg_Dam').columns\n",
    "\n",
    "print(\"\\n Distance_Speed_avg_Dam 포함 변수>\")\n",
    "for col in Process_Desc_col:\n",
    "    print(col)"
   ]
  },
  {
   "cell_type": "markdown",
   "id": "ae3a4274",
   "metadata": {},
   "source": [
    "### 5. THICKNESS"
   ]
  },
  {
   "cell_type": "code",
   "execution_count": 174,
   "id": "d1907522",
   "metadata": {},
   "outputs": [
    {
     "name": "stdout",
     "output_type": "stream",
     "text": [
      "\n",
      " THICKNESS 포함 변수>\n",
      "THICKNESS 1 Collect Result_Dam\n",
      "THICKNESS 2 Collect Result_Dam\n",
      "THICKNESS 3 Collect Result_Dam\n"
     ]
    }
   ],
   "source": [
    "# 'THICKNESS'를 포함하는 열 이름 필터링\n",
    "Process_Desc_col = train_data.filter(like='THICKNESS').columns\n",
    "\n",
    "print(\"\\n THICKNESS 포함 변수>\")\n",
    "for col in Process_Desc_col:\n",
    "    print(col)"
   ]
  },
  {
   "cell_type": "code",
   "execution_count": 175,
   "id": "c3ae04ba",
   "metadata": {},
   "outputs": [],
   "source": [
    "# 새로운 파생변수 생성 함수\n",
    "def create_total_thickness_dam(data):\n",
    "    data['THICKNESS_total_Dam'] = (\n",
    "        data['THICKNESS 1 Collect Result_Dam']**2 \n",
    "        + data['THICKNESS 2 Collect Result_Dam']**2 \n",
    "        + data['THICKNESS 3 Collect Result_Dam']**2\n",
    "    )\n",
    "    # 기존 변수 삭제\n",
    "    data.drop(columns=[\n",
    "        'THICKNESS 1 Collect Result_Dam',\n",
    "        'THICKNESS 2 Collect Result_Dam',\n",
    "        'THICKNESS 3 Collect Result_Dam'\n",
    "    ], inplace=True)\n",
    "    return data\n",
    "\n",
    "train_data = create_total_thickness_dam(train_data)\n",
    "test_data = create_total_thickness_dam(test_data)"
   ]
  },
  {
   "cell_type": "code",
   "execution_count": 176,
   "id": "af96f1a2",
   "metadata": {},
   "outputs": [
    {
     "name": "stdout",
     "output_type": "stream",
     "text": [
      "\n",
      " THICKNESS 포함 변수>\n",
      "THICKNESS_total_Dam\n"
     ]
    }
   ],
   "source": [
    "# 'THICKNESS'를 포함하는 열 이름 필터링\n",
    "Process_Desc_col = train_data.filter(like='THICKNESS').columns\n",
    "\n",
    "print(\"\\n THICKNESS 포함 변수>\")\n",
    "for col in Process_Desc_col:\n",
    "    print(col)"
   ]
  },
  {
   "cell_type": "markdown",
   "id": "74f4349a",
   "metadata": {},
   "source": [
    "### 6. AutoClave"
   ]
  },
  {
   "cell_type": "code",
   "execution_count": 177,
   "id": "27ac3556",
   "metadata": {},
   "outputs": [
    {
     "name": "stdout",
     "output_type": "stream",
     "text": [
      "<AutoClave 공정 관련 변수>\n",
      "1st Pressure Collect Result_AutoClave\n",
      "1st Pressure Unit Time_AutoClave\n",
      "2nd Pressure Collect Result_AutoClave\n",
      "2nd Pressure Unit Time_AutoClave\n",
      "3rd Pressure Collect Result_AutoClave\n",
      "3rd Pressure Unit Time_AutoClave\n",
      "Chamber Temp. Collect Result_AutoClave\n",
      "Chamber Temp. Unit Time_AutoClave\n",
      "Chamber_Temp_OKNG_AutoClave\n"
     ]
    }
   ],
   "source": [
    "# '_AutoClave'를 포함하는 열 이름 필터링\n",
    "Process_Desc_col = train_data.filter(like='_AutoClave').columns\n",
    "\n",
    "# 필터링된 열 이름 출력\n",
    "print(\"<AutoClave 공정 관련 변수>\")\n",
    "for col in Process_Desc_col:\n",
    "    print(col)"
   ]
  },
  {
   "cell_type": "code",
   "execution_count": 178,
   "id": "b3c024ca",
   "metadata": {},
   "outputs": [],
   "source": [
    "# 파생변수 생성\n",
    "train_data['1st_Pressure_x_AutoClave'] = train_data['1st Pressure Collect Result_AutoClave'] * train_data['1st Pressure Unit Time_AutoClave'] \n",
    "test_data['1st_Pressure_x_AutoClave'] = test_data['1st Pressure Collect Result_AutoClave'] * test_data['1st Pressure Unit Time_AutoClave'] \n",
    "\n",
    "train_data['2nd_Pressure_x_AutoClave'] = train_data['2nd Pressure Collect Result_AutoClave'] * train_data['2nd Pressure Unit Time_AutoClave'] \n",
    "test_data['2nd_Pressure_x_AutoClave'] = test_data['2nd Pressure Collect Result_AutoClave'] * test_data['2nd Pressure Unit Time_AutoClave'] \n",
    "\n",
    "train_data['3rd_Pressure_x_AutoClave'] = train_data['3rd Pressure Collect Result_AutoClave'] * train_data['3rd Pressure Unit Time_AutoClave'] \n",
    "test_data['3rd_Pressure_x_AutoClave'] = test_data['3rd Pressure Collect Result_AutoClave'] * test_data['3rd Pressure Unit Time_AutoClave'] \n",
    "\n",
    "train_data['All_Pressure_x_AutoClave'] = train_data['1st_Pressure_x_AutoClave'] + train_data['2nd_Pressure_x_AutoClave'] + train_data['3rd_Pressure_x_AutoClave']\n",
    "test_data['All_Pressure_x_AutoClave'] = test_data['1st_Pressure_x_AutoClave'] + test_data['2nd_Pressure_x_AutoClave'] + test_data['3rd_Pressure_x_AutoClave']\n",
    "\n",
    "train_data['All_Pressure_avg_AutoClave'] = train_data['All_Pressure_x_AutoClave'] / train_data['Chamber Temp. Unit Time_AutoClave']\n",
    "test_data['All_Pressure_avg_AutoClave'] = test_data['All_Pressure_x_AutoClave'] / test_data['Chamber Temp. Unit Time_AutoClave']\n",
    "\n",
    "train_data['Chamber_Temp_x_AutoClave'] = train_data['Chamber Temp. Collect Result_AutoClave'] * train_data['Chamber Temp. Unit Time_AutoClave']\n",
    "test_data['Chamber_Temp_x_AutoClave'] = test_data['Chamber Temp. Collect Result_AutoClave'] * test_data['Chamber Temp. Unit Time_AutoClave']\n",
    "\n",
    "train_data['All_Pressure_frac_Chamber_Temp_AutoClave'] = train_data['All_Pressure_x_AutoClave'] / train_data['Chamber_Temp_x_AutoClave']\n",
    "test_data['All_Pressure_frac_Chamber_Temp_AutoClave'] = test_data['All_Pressure_x_AutoClave'] / test_data['Chamber_Temp_x_AutoClave']\n"
   ]
  },
  {
   "cell_type": "code",
   "execution_count": 179,
   "id": "a69ad859",
   "metadata": {},
   "outputs": [
    {
     "name": "stdout",
     "output_type": "stream",
     "text": [
      "<AutoClave 공정 관련 변수>\n",
      "1st Pressure Collect Result_AutoClave\n",
      "1st Pressure Unit Time_AutoClave\n",
      "2nd Pressure Collect Result_AutoClave\n",
      "2nd Pressure Unit Time_AutoClave\n",
      "3rd Pressure Collect Result_AutoClave\n",
      "3rd Pressure Unit Time_AutoClave\n",
      "Chamber Temp. Collect Result_AutoClave\n",
      "Chamber Temp. Unit Time_AutoClave\n",
      "Chamber_Temp_OKNG_AutoClave\n",
      "1st_Pressure_x_AutoClave\n",
      "2nd_Pressure_x_AutoClave\n",
      "3rd_Pressure_x_AutoClave\n",
      "All_Pressure_x_AutoClave\n",
      "All_Pressure_avg_AutoClave\n",
      "Chamber_Temp_x_AutoClave\n",
      "All_Pressure_frac_Chamber_Temp_AutoClave\n"
     ]
    }
   ],
   "source": [
    "# '_AutoClave'를 포함하는 열 이름 필터링\n",
    "Process_Desc_col = train_data.filter(like='_AutoClave').columns\n",
    "\n",
    "# 필터링된 열 이름 출력\n",
    "print(\"<AutoClave 공정 관련 변수>\")\n",
    "for col in Process_Desc_col:\n",
    "    print(col)"
   ]
  },
  {
   "cell_type": "code",
   "execution_count": 180,
   "id": "3e714beb",
   "metadata": {},
   "outputs": [],
   "source": [
    "# 제거할 변수 목록\n",
    "columns_to_drop = [\n",
    "# '1st Pressure Collect Result_AutoClave'\n",
    "'1st Pressure Unit Time_AutoClave'\n",
    "# , '2nd Pressure Collect Result_AutoClave'\n",
    ", '2nd Pressure Unit Time_AutoClave'\n",
    "# , '3rd Pressure Collect Result_AutoClave'\n",
    ", '3rd Pressure Unit Time_AutoClave'\n",
    "# , 'Chamber Temp. Collect Result_AutoClave'\n",
    "# , 'Chamber Temp. Unit Time_AutoClave'\n",
    "\n",
    "# , '1st_Pressure_x_AutoClave'\n",
    "# , '2nd_Pressure_x_AutoClave'\n",
    "# , '3rd_Pressure_x_AutoClave'\n",
    ", 'All_Pressure_x_AutoClave'\n",
    "# , 'All_Pressure_avg_AutoClave'\n",
    "# , 'Chamber_Temp_x_AutoClave'\n",
    "# , 'All_Pressure_frac_Chamber_Temp_AutoClave'\n",
    "]\n",
    "\n",
    "# 변수 제거\n",
    "train_data.drop(columns=columns_to_drop, inplace=True)\n",
    "test_data.drop(columns=columns_to_drop, inplace=True)"
   ]
  },
  {
   "cell_type": "code",
   "execution_count": 181,
   "id": "20ce50bc",
   "metadata": {},
   "outputs": [
    {
     "name": "stdout",
     "output_type": "stream",
     "text": [
      "<AutoClave 공정 관련 변수>\n",
      "1st Pressure Collect Result_AutoClave\n",
      "2nd Pressure Collect Result_AutoClave\n",
      "3rd Pressure Collect Result_AutoClave\n",
      "Chamber Temp. Collect Result_AutoClave\n",
      "Chamber Temp. Unit Time_AutoClave\n",
      "Chamber_Temp_OKNG_AutoClave\n",
      "1st_Pressure_x_AutoClave\n",
      "2nd_Pressure_x_AutoClave\n",
      "3rd_Pressure_x_AutoClave\n",
      "All_Pressure_avg_AutoClave\n",
      "Chamber_Temp_x_AutoClave\n",
      "All_Pressure_frac_Chamber_Temp_AutoClave\n"
     ]
    }
   ],
   "source": [
    "# '_AutoClave'를 포함하는 열 이름 필터링\n",
    "Process_Desc_col = train_data.filter(like='_AutoClave').columns\n",
    "\n",
    "# 필터링된 열 이름 출력\n",
    "print(\"<AutoClave 공정 관련 변수>\")\n",
    "for col in Process_Desc_col:\n",
    "    print(col)"
   ]
  },
  {
   "cell_type": "markdown",
   "id": "61a69dcf",
   "metadata": {},
   "source": [
    "### 7. ETC.."
   ]
  },
  {
   "cell_type": "markdown",
   "id": "f41b05ca",
   "metadata": {},
   "source": [
    "7-1. workorder"
   ]
  },
  {
   "cell_type": "code",
   "execution_count": 182,
   "id": "e2e4240f",
   "metadata": {},
   "outputs": [],
   "source": [
    "# 타겟 변수를 0과 1로 변환\n",
    "train_data['target_binary'] = train_data['target'].apply(lambda x: 1 if x == 'AbNormal' else 0)\n",
    "\n",
    "# Workorder 변수의 값에 대한 타겟 변수 비율 계산\n",
    "workorder_target_ratio = train_data.groupby('Workorder')['target_binary'].mean()\n",
    "\n",
    "# 파생 변수 생성 함수\n",
    "def create_derived_variable(row, ratio_dict, threshold):\n",
    "    return 1 if ratio_dict.get(row['Workorder'], 0) >= threshold else 0\n",
    "\n",
    "# 파생 변수 생성\n",
    "train_data['Workorder_0.9'] = train_data.apply(create_derived_variable, axis=1, ratio_dict=workorder_target_ratio, threshold=0.9)\n",
    "train_data['Workorder_0.6'] = train_data.apply(create_derived_variable, axis=1, ratio_dict=workorder_target_ratio, threshold=0.6)\n",
    "\n",
    "test_data['Workorder_0.9'] = test_data.apply(create_derived_variable, axis=1, ratio_dict=workorder_target_ratio, threshold=0.9)\n",
    "test_data['Workorder_0.6'] = test_data.apply(create_derived_variable, axis=1, ratio_dict=workorder_target_ratio, threshold=0.6)\n",
    "\n",
    "# 불필요한 변수 제거\n",
    "train_data.drop(['target_binary'], axis=1, inplace=True)"
   ]
  },
  {
   "cell_type": "markdown",
   "id": "da48c3f8",
   "metadata": {},
   "source": [
    "7-2. Machine Tact time"
   ]
  },
  {
   "cell_type": "code",
   "execution_count": 183,
   "id": "4d866fb6",
   "metadata": {},
   "outputs": [],
   "source": [
    "### 총시간 대비 비율 변수\n",
    "def calculate_total_time_and_ratios(data):\n",
    "    data['total_time'] = (\n",
    "        data['Machine Tact time Collect Result_Dam'] +\n",
    "        data['Machine Tact time Collect Result_Fill1'] +\n",
    "        data['Machine Tact time Collect Result_Fill2'] +\n",
    "        data['Chamber Temp. Unit Time_AutoClave']\n",
    "    )\n",
    "    data['time_ratio_Dam'] = (data['Machine Tact time Collect Result_Dam'] / data['total_time']).round(3)\n",
    "    data['time_ratio_Fill1'] = (data['Machine Tact time Collect Result_Fill1'] / data['total_time']).round(3)\n",
    "    data['time_ratio_Fill2'] = (data['Machine Tact time Collect Result_Fill2'] / data['total_time']).round(3)\n",
    "    data['time_ratio_AutoClave'] = (data['Chamber Temp. Unit Time_AutoClave'] / data['total_time']).round(3)\n",
    "    return data\n",
    "\n",
    "# train_data와 test_data에 함수 적용\n",
    "train_data = calculate_total_time_and_ratios(train_data)\n",
    "test_data = calculate_total_time_and_ratios(test_data)"
   ]
  },
  {
   "cell_type": "code",
   "execution_count": 184,
   "id": "dec2a803",
   "metadata": {},
   "outputs": [],
   "source": [
    "# 변수 제거\n",
    "train_data.drop(columns=[\n",
    "    'total_time'\n",
    "    , 'Machine Tact time Collect Result_Dam'\n",
    "    , 'Machine Tact time Collect Result_Fill1'\n",
    "    , 'Machine Tact time Collect Result_Fill2'\n",
    "    , 'Chamber Temp. Unit Time_AutoClave'], inplace=True)\n",
    "\n",
    "test_data.drop(columns=[\n",
    "    'total_time'\n",
    "    , 'Machine Tact time Collect Result_Dam'\n",
    "    , 'Machine Tact time Collect Result_Fill1'\n",
    "    , 'Machine Tact time Collect Result_Fill2'\n",
    "    , 'Chamber Temp. Unit Time_AutoClave'], inplace=True)"
   ]
  },
  {
   "cell_type": "markdown",
   "id": "3ad7941e",
   "metadata": {},
   "source": [
    "---"
   ]
  },
  {
   "cell_type": "code",
   "execution_count": 185,
   "id": "49a7d114",
   "metadata": {},
   "outputs": [
    {
     "name": "stdout",
     "output_type": "stream",
     "text": [
      "<class 'pandas.core.frame.DataFrame'>\n",
      "RangeIndex: 40506 entries, 0 to 40505\n",
      "Data columns (total 60 columns):\n",
      " #   Column                                                 Non-Null Count  Dtype  \n",
      "---  ------                                                 --------------  -----  \n",
      " 0   Model.Suffix                                           40506 non-null  object \n",
      " 1   Workorder                                              40506 non-null  object \n",
      " 2   DISCHARGED SPEED OF RESIN Collect Result_Dam           40506 non-null  int64  \n",
      " 3   DISCHARGED TIME OF RESIN(Stage1) Collect Result_Dam    40506 non-null  float64\n",
      " 4   DISCHARGED TIME OF RESIN(Stage2) Collect Result_Dam    40506 non-null  float64\n",
      " 5   DISCHARGED TIME OF RESIN(Stage3) Collect Result_Dam    40506 non-null  float64\n",
      " 6   Dispense Volume(Stage1) Collect Result_Dam             40506 non-null  float64\n",
      " 7   Dispense Volume(Stage2) Collect Result_Dam             40506 non-null  float64\n",
      " 8   Dispense Volume(Stage3) Collect Result_Dam             40506 non-null  float64\n",
      " 9   Head Clean Position Z Collect Result_Dam               40506 non-null  float64\n",
      " 10  Head Purge Position Z Collect Result_Dam               40506 non-null  float64\n",
      " 11  Head Zero Position Y Collect Result_Dam                40506 non-null  float64\n",
      " 12  Head Zero Position Z Collect Result_Dam                40506 non-null  float64\n",
      " 13  WorkMode Collect Result                                40506 non-null  float64\n",
      " 14  1st Pressure Collect Result_AutoClave                  40506 non-null  float64\n",
      " 15  2nd Pressure Collect Result_AutoClave                  40506 non-null  float64\n",
      " 16  3rd Pressure Collect Result_AutoClave                  40506 non-null  float64\n",
      " 17  Chamber Temp. Collect Result_AutoClave                 40506 non-null  int64  \n",
      " 18  DISCHARGED SPEED OF RESIN Collect Result_Fill1         40506 non-null  float64\n",
      " 19  DISCHARGED TIME OF RESIN(Stage1) Collect Result_Fill1  40506 non-null  float64\n",
      " 20  DISCHARGED TIME OF RESIN(Stage2) Collect Result_Fill1  40506 non-null  float64\n",
      " 21  DISCHARGED TIME OF RESIN(Stage3) Collect Result_Fill1  40506 non-null  float64\n",
      " 22  Dispense Volume(Stage1) Collect Result_Fill1           40506 non-null  float64\n",
      " 23  Dispense Volume(Stage2) Collect Result_Fill1           40506 non-null  float64\n",
      " 24  Dispense Volume(Stage3) Collect Result_Fill1           40506 non-null  float64\n",
      " 25  Head Purge Position Z Collect Result_Fill1             40506 non-null  int64  \n",
      " 26  Head Purge Position Z Collect Result_Fill2             40506 non-null  float64\n",
      " 27  target                                                 40506 non-null  object \n",
      " 28  Dispenser_1                                            40506 non-null  int64  \n",
      " 29  Dispenser_2                                            40506 non-null  int64  \n",
      " 30  Receip_No_Collect_Result                               40506 non-null  int64  \n",
      " 31  PalletID_Collect_Result                                40506 non-null  int64  \n",
      " 32  Production_Qty_Collect_Result                          40506 non-null  int64  \n",
      " 33  Chamber_Temp_OKNG_AutoClave                            40506 non-null  int64  \n",
      " 34  Judge_Value_OK                                         40506 non-null  int64  \n",
      " 35  CURE_Time_Dam                                          40506 non-null  float64\n",
      " 36  CURE_Time_Fill2                                        40506 non-null  float64\n",
      " 37  HEAD NORMAL DISTANCE_STAGE1_STAGE3_Dam                 40506 non-null  float64\n",
      " 38  HEAD NORMAL DISTANCE_TRIANGLE_height_Dam               40506 non-null  float64\n",
      " 39  HEAD NORMAL DISTANCE_STAGE1_STAGE3_Fill1               40506 non-null  float64\n",
      " 40  HEAD NORMAL DISTANCE_TRIANGLE_height_Fill1             40506 non-null  float64\n",
      " 41  HEAD NORMAL DISTANCE_STAGE1_STAGE2_Fill2               40506 non-null  float64\n",
      " 42  HEAD NORMAL DISTANCE_STAGE2_STAGE3_Fill2               40506 non-null  float64\n",
      " 43  HEAD NORMAL DISTANCE_STAGE1_STAGE3_Fill2               40506 non-null  float64\n",
      " 44  Stage1_Distance_Speed_avg_Dam                          40506 non-null  float64\n",
      " 45  Stage2_Distance_Speed_avg_Dam                          40506 non-null  float64\n",
      " 46  Stage3_Distance_Speed_avg_Dam                          40506 non-null  float64\n",
      " 47  THICKNESS_total_Dam                                    40506 non-null  float64\n",
      " 48  1st_Pressure_x_AutoClave                               40506 non-null  float64\n",
      " 49  2nd_Pressure_x_AutoClave                               40506 non-null  float64\n",
      " 50  3rd_Pressure_x_AutoClave                               40506 non-null  float64\n",
      " 51  All_Pressure_avg_AutoClave                             40506 non-null  float64\n",
      " 52  Chamber_Temp_x_AutoClave                               40506 non-null  int64  \n",
      " 53  All_Pressure_frac_Chamber_Temp_AutoClave               40506 non-null  float64\n",
      " 54  Workorder_0.9                                          40506 non-null  int64  \n",
      " 55  Workorder_0.6                                          40506 non-null  int64  \n",
      " 56  time_ratio_Dam                                         40506 non-null  float64\n",
      " 57  time_ratio_Fill1                                       40506 non-null  float64\n",
      " 58  time_ratio_Fill2                                       40506 non-null  float64\n",
      " 59  time_ratio_AutoClave                                   40506 non-null  float64\n",
      "dtypes: float64(44), int64(13), object(3)\n",
      "memory usage: 18.5+ MB\n",
      "---\n"
     ]
    }
   ],
   "source": [
    "train_data.info()\n",
    "print('---')\n",
    "# test_data.info()"
   ]
  },
  {
   "cell_type": "code",
   "execution_count": 186,
   "id": "769e6d8b",
   "metadata": {},
   "outputs": [
    {
     "name": "stdout",
     "output_type": "stream",
     "text": [
      "Series([], dtype: int64)\n"
     ]
    }
   ],
   "source": [
    "# 각 변수별로 결측값이 존재하는지 확인하는 코드\n",
    "missing_values = train_data.isnull().sum()\n",
    "\n",
    "# 결측값이 존재하는 변수와 그 개수 출력\n",
    "missing_values = missing_values[missing_values > 0]\n",
    "print(missing_values)\n",
    "\n",
    "# 결측값이 존재하는 변수명을 리스트에 담기\n",
    "missing_columns = missing_values.index.tolist()\n",
    "# print(\"결측값이 존재하는 변수명:\", missing_columns)"
   ]
  },
  {
   "cell_type": "markdown",
   "id": "ec45a10a",
   "metadata": {},
   "source": [
    "---"
   ]
  },
  {
   "cell_type": "markdown",
   "id": "334b20a3",
   "metadata": {},
   "source": [
    "## 타겟 인코딩"
   ]
  },
  {
   "cell_type": "code",
   "execution_count": 187,
   "id": "fb37ebe9",
   "metadata": {},
   "outputs": [
    {
     "name": "stdout",
     "output_type": "stream",
     "text": [
      "Index(['Model.Suffix', 'Workorder', 'target'], dtype='object')  train_object_columns 갯수 : 3\n",
      "Index(['Set ID', 'Model.Suffix', 'Workorder', 'target'], dtype='object')  test_object_columns 갯수 : 4\n",
      "\n",
      "Train Data:\n",
      "Model.Suffix unique 값 갯수: 7\n",
      "Workorder unique 값 갯수: 663\n",
      "target unique 값 갯수: 2\n",
      "\n",
      "Test Data:\n",
      "Set ID unique 값 갯수: 17361\n",
      "Model.Suffix unique 값 갯수: 7\n",
      "Workorder unique 값 갯수: 662\n",
      "target unique 값 갯수: 0\n"
     ]
    }
   ],
   "source": [
    "# 'target' 열의 변수 타입을 object로 변경\n",
    "# -> test 데이터는 float64 타입으로 되어있음 \n",
    "test_data['target'] = test_data['target'].astype('object')\n",
    "\n",
    "# object 타입의 변수 출력\n",
    "train_object_columns = train_data.select_dtypes(include=['object']).columns\n",
    "test_object_columns = test_data.select_dtypes(include=['object']).columns\n",
    "\n",
    "print(train_object_columns, f\" train_object_columns 갯수 : {len(train_object_columns)}\")\n",
    "print(test_object_columns, f\" test_object_columns 갯수 : {len(test_object_columns)}\")\n",
    "\n",
    "# 각 object 변수의 고유 값 개수 출력\n",
    "print(\"\\nTrain Data:\")\n",
    "for col in train_object_columns:\n",
    "    unique_count = train_data[col].nunique()\n",
    "    print(f\"{col} unique 값 갯수: {unique_count}\")\n",
    "\n",
    "print(\"\\nTest Data:\")\n",
    "for col in test_object_columns:\n",
    "    unique_count = test_data[col].nunique()\n",
    "    print(f\"{col} unique 값 갯수: {unique_count}\")"
   ]
  },
  {
   "cell_type": "code",
   "execution_count": 188,
   "id": "156c68be",
   "metadata": {},
   "outputs": [
    {
     "name": "stdout",
     "output_type": "stream",
     "text": [
      "   Model.Suffix  Workorder\n",
      "0      0.049336   0.158385\n",
      "1      0.049336   0.015314\n",
      "2      0.056712   0.009534\n",
      "   Model.Suffix  Workorder\n",
      "0      0.056712   0.091912\n",
      "1      0.056712   0.024247\n",
      "2      0.056712   0.091463\n",
      "--- train_data ---\n",
      "target  \n",
      "Normal      38156\n",
      "AbNormal     2350\n",
      "dtype: int64\n"
     ]
    }
   ],
   "source": [
    "# 필요한 라이브러리 임포트\n",
    "import pandas as pd\n",
    "import category_encoders as ce\n",
    "\n",
    "# 타겟 변수와 범주형 변수 지정\n",
    "## Target Encoding의 smoothing 파라미터는 default로 auto로 설정되어 있음\n",
    "target = 'target'  # 타겟 변수 이름으로 변경\n",
    "categorical_columns = [\n",
    "    'Model.Suffix',\n",
    "    'Workorder',\n",
    "]  # 범주형 변수 이름으로 변경\n",
    "\n",
    "# 타겟 값을 숫자로 변환\n",
    "target_mapping = {'Normal': 0, 'AbNormal': 1}\n",
    "train_data[target] = train_data[target].map(target_mapping)\n",
    "test_data[target] = test_data[target].map(target_mapping)\n",
    "\n",
    "# 열이 존재하는지 확인\n",
    "missing_columns = [col for col in categorical_columns if col not in train_data.columns]\n",
    "if missing_columns:\n",
    "    raise ValueError(f\"train_data에 다음 열이 존재하지 않습니다: {missing_columns}\")\n",
    "\n",
    "# 타겟 인코더 생성 및 학습\n",
    "encoder = ce.TargetEncoder(cols=categorical_columns)\n",
    "train_data = encoder.fit_transform(train_data, train_data[target])\n",
    "\n",
    "# Set ID 열을 별도로 저장\n",
    "set_id = test_data['Set ID']\n",
    "\n",
    "# 테스트 데이터 인코딩 (Set ID 열 제외)\n",
    "test_data = test_data.drop(columns=['Set ID'])\n",
    "test_data = encoder.transform(test_data)\n",
    "\n",
    "# Set ID 열을 맨 앞에 추가\n",
    "test_data.insert(0, 'Set ID', set_id)\n",
    "\n",
    "# categorical_columns에 해당하는 열의 데이터 값만 확인\n",
    "print(train_data[categorical_columns].head(3))\n",
    "print(test_data[categorical_columns].head(3))\n",
    "\n",
    "# 역 매핑 딕셔너리 생성\n",
    "reverse_target_mapping = {v: k for k, v in target_mapping.items()}\n",
    "\n",
    "# 타겟 값을 원래대로 변환\n",
    "train_data[target] = train_data[target].map(reverse_target_mapping)\n",
    "test_data[target] = test_data[target].map(reverse_target_mapping)\n",
    "\n",
    "print(\"--- train_data ---\")\n",
    "\n",
    "# 변환된 타겟 값 확인\n",
    "print(train_data[[target]].value_counts())"
   ]
  },
  {
   "cell_type": "code",
   "execution_count": 189,
   "id": "6a108490",
   "metadata": {},
   "outputs": [
    {
     "name": "stdout",
     "output_type": "stream",
     "text": [
      "<class 'pandas.core.frame.DataFrame'>\n",
      "RangeIndex: 40506 entries, 0 to 40505\n",
      "Data columns (total 60 columns):\n",
      " #   Column                                                 Non-Null Count  Dtype  \n",
      "---  ------                                                 --------------  -----  \n",
      " 0   Model.Suffix                                           40506 non-null  float64\n",
      " 1   Workorder                                              40506 non-null  float64\n",
      " 2   DISCHARGED SPEED OF RESIN Collect Result_Dam           40506 non-null  int64  \n",
      " 3   DISCHARGED TIME OF RESIN(Stage1) Collect Result_Dam    40506 non-null  float64\n",
      " 4   DISCHARGED TIME OF RESIN(Stage2) Collect Result_Dam    40506 non-null  float64\n",
      " 5   DISCHARGED TIME OF RESIN(Stage3) Collect Result_Dam    40506 non-null  float64\n",
      " 6   Dispense Volume(Stage1) Collect Result_Dam             40506 non-null  float64\n",
      " 7   Dispense Volume(Stage2) Collect Result_Dam             40506 non-null  float64\n",
      " 8   Dispense Volume(Stage3) Collect Result_Dam             40506 non-null  float64\n",
      " 9   Head Clean Position Z Collect Result_Dam               40506 non-null  float64\n",
      " 10  Head Purge Position Z Collect Result_Dam               40506 non-null  float64\n",
      " 11  Head Zero Position Y Collect Result_Dam                40506 non-null  float64\n",
      " 12  Head Zero Position Z Collect Result_Dam                40506 non-null  float64\n",
      " 13  WorkMode Collect Result                                40506 non-null  float64\n",
      " 14  1st Pressure Collect Result_AutoClave                  40506 non-null  float64\n",
      " 15  2nd Pressure Collect Result_AutoClave                  40506 non-null  float64\n",
      " 16  3rd Pressure Collect Result_AutoClave                  40506 non-null  float64\n",
      " 17  Chamber Temp. Collect Result_AutoClave                 40506 non-null  int64  \n",
      " 18  DISCHARGED SPEED OF RESIN Collect Result_Fill1         40506 non-null  float64\n",
      " 19  DISCHARGED TIME OF RESIN(Stage1) Collect Result_Fill1  40506 non-null  float64\n",
      " 20  DISCHARGED TIME OF RESIN(Stage2) Collect Result_Fill1  40506 non-null  float64\n",
      " 21  DISCHARGED TIME OF RESIN(Stage3) Collect Result_Fill1  40506 non-null  float64\n",
      " 22  Dispense Volume(Stage1) Collect Result_Fill1           40506 non-null  float64\n",
      " 23  Dispense Volume(Stage2) Collect Result_Fill1           40506 non-null  float64\n",
      " 24  Dispense Volume(Stage3) Collect Result_Fill1           40506 non-null  float64\n",
      " 25  Head Purge Position Z Collect Result_Fill1             40506 non-null  int64  \n",
      " 26  Head Purge Position Z Collect Result_Fill2             40506 non-null  float64\n",
      " 27  target                                                 40506 non-null  object \n",
      " 28  Dispenser_1                                            40506 non-null  int64  \n",
      " 29  Dispenser_2                                            40506 non-null  int64  \n",
      " 30  Receip_No_Collect_Result                               40506 non-null  int64  \n",
      " 31  PalletID_Collect_Result                                40506 non-null  int64  \n",
      " 32  Production_Qty_Collect_Result                          40506 non-null  int64  \n",
      " 33  Chamber_Temp_OKNG_AutoClave                            40506 non-null  int64  \n",
      " 34  Judge_Value_OK                                         40506 non-null  int64  \n",
      " 35  CURE_Time_Dam                                          40506 non-null  float64\n",
      " 36  CURE_Time_Fill2                                        40506 non-null  float64\n",
      " 37  HEAD NORMAL DISTANCE_STAGE1_STAGE3_Dam                 40506 non-null  float64\n",
      " 38  HEAD NORMAL DISTANCE_TRIANGLE_height_Dam               40506 non-null  float64\n",
      " 39  HEAD NORMAL DISTANCE_STAGE1_STAGE3_Fill1               40506 non-null  float64\n",
      " 40  HEAD NORMAL DISTANCE_TRIANGLE_height_Fill1             40506 non-null  float64\n",
      " 41  HEAD NORMAL DISTANCE_STAGE1_STAGE2_Fill2               40506 non-null  float64\n",
      " 42  HEAD NORMAL DISTANCE_STAGE2_STAGE3_Fill2               40506 non-null  float64\n",
      " 43  HEAD NORMAL DISTANCE_STAGE1_STAGE3_Fill2               40506 non-null  float64\n",
      " 44  Stage1_Distance_Speed_avg_Dam                          40506 non-null  float64\n",
      " 45  Stage2_Distance_Speed_avg_Dam                          40506 non-null  float64\n",
      " 46  Stage3_Distance_Speed_avg_Dam                          40506 non-null  float64\n",
      " 47  THICKNESS_total_Dam                                    40506 non-null  float64\n",
      " 48  1st_Pressure_x_AutoClave                               40506 non-null  float64\n",
      " 49  2nd_Pressure_x_AutoClave                               40506 non-null  float64\n",
      " 50  3rd_Pressure_x_AutoClave                               40506 non-null  float64\n",
      " 51  All_Pressure_avg_AutoClave                             40506 non-null  float64\n",
      " 52  Chamber_Temp_x_AutoClave                               40506 non-null  int64  \n",
      " 53  All_Pressure_frac_Chamber_Temp_AutoClave               40506 non-null  float64\n",
      " 54  Workorder_0.9                                          40506 non-null  int64  \n",
      " 55  Workorder_0.6                                          40506 non-null  int64  \n",
      " 56  time_ratio_Dam                                         40506 non-null  float64\n",
      " 57  time_ratio_Fill1                                       40506 non-null  float64\n",
      " 58  time_ratio_Fill2                                       40506 non-null  float64\n",
      " 59  time_ratio_AutoClave                                   40506 non-null  float64\n",
      "dtypes: float64(46), int64(13), object(1)\n",
      "memory usage: 18.5+ MB\n",
      "---\n"
     ]
    }
   ],
   "source": [
    "train_data.info()\n",
    "print('---')\n",
    "# test_data.info()"
   ]
  },
  {
   "cell_type": "code",
   "execution_count": 190,
   "id": "dbf7c9bb",
   "metadata": {},
   "outputs": [
    {
     "name": "stdout",
     "output_type": "stream",
     "text": [
      "---\n",
      "<class 'pandas.core.frame.DataFrame'>\n",
      "RangeIndex: 17361 entries, 0 to 17360\n",
      "Data columns (total 61 columns):\n",
      " #   Column                                                 Non-Null Count  Dtype  \n",
      "---  ------                                                 --------------  -----  \n",
      " 0   Set ID                                                 17361 non-null  object \n",
      " 1   Model.Suffix                                           17361 non-null  float64\n",
      " 2   Workorder                                              17361 non-null  float64\n",
      " 3   DISCHARGED SPEED OF RESIN Collect Result_Dam           17361 non-null  int64  \n",
      " 4   DISCHARGED TIME OF RESIN(Stage1) Collect Result_Dam    17361 non-null  float64\n",
      " 5   DISCHARGED TIME OF RESIN(Stage2) Collect Result_Dam    17361 non-null  float64\n",
      " 6   DISCHARGED TIME OF RESIN(Stage3) Collect Result_Dam    17361 non-null  float64\n",
      " 7   Dispense Volume(Stage1) Collect Result_Dam             17361 non-null  float64\n",
      " 8   Dispense Volume(Stage2) Collect Result_Dam             17361 non-null  float64\n",
      " 9   Dispense Volume(Stage3) Collect Result_Dam             17361 non-null  float64\n",
      " 10  Head Clean Position Z Collect Result_Dam               17361 non-null  float64\n",
      " 11  Head Purge Position Z Collect Result_Dam               17361 non-null  float64\n",
      " 12  Head Zero Position Y Collect Result_Dam                17361 non-null  float64\n",
      " 13  Head Zero Position Z Collect Result_Dam                17361 non-null  float64\n",
      " 14  WorkMode Collect Result                                17361 non-null  float64\n",
      " 15  1st Pressure Collect Result_AutoClave                  17361 non-null  float64\n",
      " 16  2nd Pressure Collect Result_AutoClave                  17361 non-null  float64\n",
      " 17  3rd Pressure Collect Result_AutoClave                  17361 non-null  float64\n",
      " 18  Chamber Temp. Collect Result_AutoClave                 17361 non-null  int64  \n",
      " 19  DISCHARGED SPEED OF RESIN Collect Result_Fill1         17361 non-null  float64\n",
      " 20  DISCHARGED TIME OF RESIN(Stage1) Collect Result_Fill1  17361 non-null  float64\n",
      " 21  DISCHARGED TIME OF RESIN(Stage2) Collect Result_Fill1  17361 non-null  float64\n",
      " 22  DISCHARGED TIME OF RESIN(Stage3) Collect Result_Fill1  17361 non-null  float64\n",
      " 23  Dispense Volume(Stage1) Collect Result_Fill1           17361 non-null  float64\n",
      " 24  Dispense Volume(Stage2) Collect Result_Fill1           17361 non-null  float64\n",
      " 25  Dispense Volume(Stage3) Collect Result_Fill1           17361 non-null  float64\n",
      " 26  Head Purge Position Z Collect Result_Fill1             17361 non-null  float64\n",
      " 27  Head Purge Position Z Collect Result_Fill2             17361 non-null  float64\n",
      " 28  target                                                 0 non-null      object \n",
      " 29  Dispenser_1                                            17361 non-null  int64  \n",
      " 30  Dispenser_2                                            17361 non-null  int64  \n",
      " 31  Receip_No_Collect_Result                               17361 non-null  float64\n",
      " 32  PalletID_Collect_Result                                17361 non-null  float64\n",
      " 33  Production_Qty_Collect_Result                          17361 non-null  float64\n",
      " 34  Chamber_Temp_OKNG_AutoClave                            17361 non-null  int64  \n",
      " 35  Judge_Value_OK                                         17361 non-null  int64  \n",
      " 36  CURE_Time_Dam                                          17361 non-null  float64\n",
      " 37  CURE_Time_Fill2                                        17361 non-null  float64\n",
      " 38  HEAD NORMAL DISTANCE_STAGE1_STAGE3_Dam                 17361 non-null  float64\n",
      " 39  HEAD NORMAL DISTANCE_TRIANGLE_height_Dam               17361 non-null  float64\n",
      " 40  HEAD NORMAL DISTANCE_STAGE1_STAGE3_Fill1               17361 non-null  float64\n",
      " 41  HEAD NORMAL DISTANCE_TRIANGLE_height_Fill1             17361 non-null  float64\n",
      " 42  HEAD NORMAL DISTANCE_STAGE1_STAGE2_Fill2               17361 non-null  float64\n",
      " 43  HEAD NORMAL DISTANCE_STAGE2_STAGE3_Fill2               17361 non-null  float64\n",
      " 44  HEAD NORMAL DISTANCE_STAGE1_STAGE3_Fill2               17361 non-null  float64\n",
      " 45  Stage1_Distance_Speed_avg_Dam                          17361 non-null  float64\n",
      " 46  Stage2_Distance_Speed_avg_Dam                          17361 non-null  float64\n",
      " 47  Stage3_Distance_Speed_avg_Dam                          17361 non-null  float64\n",
      " 48  THICKNESS_total_Dam                                    17361 non-null  float64\n",
      " 49  1st_Pressure_x_AutoClave                               17361 non-null  float64\n",
      " 50  2nd_Pressure_x_AutoClave                               17361 non-null  float64\n",
      " 51  3rd_Pressure_x_AutoClave                               17361 non-null  float64\n",
      " 52  All_Pressure_avg_AutoClave                             17361 non-null  float64\n",
      " 53  Chamber_Temp_x_AutoClave                               17361 non-null  int64  \n",
      " 54  All_Pressure_frac_Chamber_Temp_AutoClave               17361 non-null  float64\n",
      " 55  Workorder_0.9                                          17361 non-null  int64  \n",
      " 56  Workorder_0.6                                          17361 non-null  int64  \n",
      " 57  time_ratio_Dam                                         17361 non-null  float64\n",
      " 58  time_ratio_Fill1                                       17361 non-null  float64\n",
      " 59  time_ratio_Fill2                                       17361 non-null  float64\n",
      " 60  time_ratio_AutoClave                                   17361 non-null  float64\n",
      "dtypes: float64(50), int64(9), object(2)\n",
      "memory usage: 8.1+ MB\n"
     ]
    }
   ],
   "source": [
    "# train_data.info()\n",
    "print('---')\n",
    "test_data.info()"
   ]
  },
  {
   "cell_type": "markdown",
   "id": "4276e6df",
   "metadata": {},
   "source": [
    "## 데이터 분할"
   ]
  },
  {
   "cell_type": "code",
   "execution_count": 191,
   "id": "314cbecd",
   "metadata": {},
   "outputs": [
    {
     "name": "stdout",
     "output_type": "stream",
     "text": [
      "  \tAbnormal\tNormal\n",
      "  Total: Normal: 30524, AbNormal: 1880 ratio: 0.06159087930808544\n",
      "  Total: Normal: 7632, AbNormal: 470 ratio: 0.061582809224318656\n"
     ]
    }
   ],
   "source": [
    "df_train, df_val = train_test_split(\n",
    "    train_data,\n",
    "    test_size=0.2,\n",
    "    stratify=train_data[\"target\"],\n",
    "    shuffle=True,\n",
    "    random_state=RANDOM_STATE,\n",
    ")\n",
    "\n",
    "def print_stats(df: pd.DataFrame):\n",
    "    num_normal = len(df[df[\"target\"] == \"Normal\"])\n",
    "    num_abnormal = len(df[df[\"target\"] == \"AbNormal\"])\n",
    "\n",
    "    print(f\"  Total: Normal: {num_normal}, AbNormal: {num_abnormal}\" + f\" ratio: {num_abnormal/num_normal}\")\n",
    "\n",
    "\n",
    "# Print statistics\n",
    "print(f\"  \\tAbnormal\\tNormal\")\n",
    "print_stats(df_train)\n",
    "print_stats(df_val)"
   ]
  },
  {
   "cell_type": "code",
   "execution_count": 192,
   "id": "1771a777",
   "metadata": {},
   "outputs": [
    {
     "name": "stdout",
     "output_type": "stream",
     "text": [
      "<class 'pandas.core.frame.DataFrame'>\n",
      "RangeIndex: 40506 entries, 0 to 40505\n",
      "Data columns (total 60 columns):\n",
      " #   Column                                                 Non-Null Count  Dtype  \n",
      "---  ------                                                 --------------  -----  \n",
      " 0   Model.Suffix                                           40506 non-null  float64\n",
      " 1   Workorder                                              40506 non-null  float64\n",
      " 2   DISCHARGED SPEED OF RESIN Collect Result_Dam           40506 non-null  int64  \n",
      " 3   DISCHARGED TIME OF RESIN(Stage1) Collect Result_Dam    40506 non-null  float64\n",
      " 4   DISCHARGED TIME OF RESIN(Stage2) Collect Result_Dam    40506 non-null  float64\n",
      " 5   DISCHARGED TIME OF RESIN(Stage3) Collect Result_Dam    40506 non-null  float64\n",
      " 6   Dispense Volume(Stage1) Collect Result_Dam             40506 non-null  float64\n",
      " 7   Dispense Volume(Stage2) Collect Result_Dam             40506 non-null  float64\n",
      " 8   Dispense Volume(Stage3) Collect Result_Dam             40506 non-null  float64\n",
      " 9   Head Clean Position Z Collect Result_Dam               40506 non-null  float64\n",
      " 10  Head Purge Position Z Collect Result_Dam               40506 non-null  float64\n",
      " 11  Head Zero Position Y Collect Result_Dam                40506 non-null  float64\n",
      " 12  Head Zero Position Z Collect Result_Dam                40506 non-null  float64\n",
      " 13  WorkMode Collect Result                                40506 non-null  float64\n",
      " 14  1st Pressure Collect Result_AutoClave                  40506 non-null  float64\n",
      " 15  2nd Pressure Collect Result_AutoClave                  40506 non-null  float64\n",
      " 16  3rd Pressure Collect Result_AutoClave                  40506 non-null  float64\n",
      " 17  Chamber Temp. Collect Result_AutoClave                 40506 non-null  int64  \n",
      " 18  DISCHARGED SPEED OF RESIN Collect Result_Fill1         40506 non-null  float64\n",
      " 19  DISCHARGED TIME OF RESIN(Stage1) Collect Result_Fill1  40506 non-null  float64\n",
      " 20  DISCHARGED TIME OF RESIN(Stage2) Collect Result_Fill1  40506 non-null  float64\n",
      " 21  DISCHARGED TIME OF RESIN(Stage3) Collect Result_Fill1  40506 non-null  float64\n",
      " 22  Dispense Volume(Stage1) Collect Result_Fill1           40506 non-null  float64\n",
      " 23  Dispense Volume(Stage2) Collect Result_Fill1           40506 non-null  float64\n",
      " 24  Dispense Volume(Stage3) Collect Result_Fill1           40506 non-null  float64\n",
      " 25  Head Purge Position Z Collect Result_Fill1             40506 non-null  int64  \n",
      " 26  Head Purge Position Z Collect Result_Fill2             40506 non-null  float64\n",
      " 27  target                                                 40506 non-null  object \n",
      " 28  Dispenser_1                                            40506 non-null  int64  \n",
      " 29  Dispenser_2                                            40506 non-null  int64  \n",
      " 30  Receip_No_Collect_Result                               40506 non-null  int64  \n",
      " 31  PalletID_Collect_Result                                40506 non-null  int64  \n",
      " 32  Production_Qty_Collect_Result                          40506 non-null  int64  \n",
      " 33  Chamber_Temp_OKNG_AutoClave                            40506 non-null  int64  \n",
      " 34  Judge_Value_OK                                         40506 non-null  int64  \n",
      " 35  CURE_Time_Dam                                          40506 non-null  float64\n",
      " 36  CURE_Time_Fill2                                        40506 non-null  float64\n",
      " 37  HEAD NORMAL DISTANCE_STAGE1_STAGE3_Dam                 40506 non-null  float64\n",
      " 38  HEAD NORMAL DISTANCE_TRIANGLE_height_Dam               40506 non-null  float64\n",
      " 39  HEAD NORMAL DISTANCE_STAGE1_STAGE3_Fill1               40506 non-null  float64\n",
      " 40  HEAD NORMAL DISTANCE_TRIANGLE_height_Fill1             40506 non-null  float64\n",
      " 41  HEAD NORMAL DISTANCE_STAGE1_STAGE2_Fill2               40506 non-null  float64\n",
      " 42  HEAD NORMAL DISTANCE_STAGE2_STAGE3_Fill2               40506 non-null  float64\n",
      " 43  HEAD NORMAL DISTANCE_STAGE1_STAGE3_Fill2               40506 non-null  float64\n",
      " 44  Stage1_Distance_Speed_avg_Dam                          40506 non-null  float64\n",
      " 45  Stage2_Distance_Speed_avg_Dam                          40506 non-null  float64\n",
      " 46  Stage3_Distance_Speed_avg_Dam                          40506 non-null  float64\n",
      " 47  THICKNESS_total_Dam                                    40506 non-null  float64\n",
      " 48  1st_Pressure_x_AutoClave                               40506 non-null  float64\n",
      " 49  2nd_Pressure_x_AutoClave                               40506 non-null  float64\n",
      " 50  3rd_Pressure_x_AutoClave                               40506 non-null  float64\n",
      " 51  All_Pressure_avg_AutoClave                             40506 non-null  float64\n",
      " 52  Chamber_Temp_x_AutoClave                               40506 non-null  int64  \n",
      " 53  All_Pressure_frac_Chamber_Temp_AutoClave               40506 non-null  float64\n",
      " 54  Workorder_0.9                                          40506 non-null  int64  \n",
      " 55  Workorder_0.6                                          40506 non-null  int64  \n",
      " 56  time_ratio_Dam                                         40506 non-null  float64\n",
      " 57  time_ratio_Fill1                                       40506 non-null  float64\n",
      " 58  time_ratio_Fill2                                       40506 non-null  float64\n",
      " 59  time_ratio_AutoClave                                   40506 non-null  float64\n",
      "dtypes: float64(46), int64(13), object(1)\n",
      "memory usage: 18.5+ MB\n"
     ]
    }
   ],
   "source": [
    "train_data.info()"
   ]
  },
  {
   "cell_type": "markdown",
   "id": "644f718d",
   "metadata": {},
   "source": [
    "### 상관계수"
   ]
  },
  {
   "cell_type": "markdown",
   "id": "aef448d9",
   "metadata": {},
   "source": [
    "상관계수 0.7 이상 drop"
   ]
  },
  {
   "cell_type": "markdown",
   "id": "519265e7",
   "metadata": {},
   "source": [
    "공통 변수"
   ]
  },
  {
   "cell_type": "code",
   "execution_count": 193,
   "id": "67dbaff5",
   "metadata": {},
   "outputs": [],
   "source": [
    "com_variables = [\n",
    "    'Model.Suffix'\n",
    "    , 'Workorder'\n",
    "    , 'WorkMode Collect Result'\n",
    "    , 'Dispenser_1'\n",
    "    , 'Dispenser_2'\n",
    "    , 'Receip_No_Collect_Result'\n",
    "    , 'PalletID_Collect_Result'\n",
    "    , 'Production_Qty_Collect_Result'\n",
    "    , 'Judge_Value_OK'\n",
    "    , 'Workorder_0.9'\n",
    "    , 'Workorder_0.6'\n",
    "]\n",
    "\n",
    "# 변수들로만 이루어진 DataFrame 생성\n",
    "filtered_data = train_data[com_variables]"
   ]
  },
  {
   "cell_type": "code",
   "execution_count": 194,
   "id": "cf966448",
   "metadata": {},
   "outputs": [
    {
     "name": "stdout",
     "output_type": "stream",
     "text": [
      "                Variable 1               Variable 2  Correlation\n",
      "0              Dispenser_2  PalletID_Collect_Result     0.860274\n",
      "1  PalletID_Collect_Result              Dispenser_2     0.860274\n"
     ]
    }
   ],
   "source": [
    "# 상관계수 행렬 계산\n",
    "correlation_matrix = filtered_data.corr()\n",
    "\n",
    "# 자기자신을 제외하고 특정 값 이상인 조합 찾기\n",
    "strong_correlations = correlation_matrix[(correlation_matrix >= 0.7) & (correlation_matrix != 1)]\n",
    "\n",
    "# 리스트로 변환\n",
    "strong_correlations_pairs = strong_correlations.stack().reset_index()\n",
    "strong_correlations_pairs.columns = ['Variable 1', 'Variable 2', 'Correlation']\n",
    "\n",
    "# 결과 출력\n",
    "strong_correlations_pairs = strong_correlations_pairs[strong_correlations_pairs['Correlation'] >= 0.7]\n",
    "print(strong_correlations_pairs)"
   ]
  },
  {
   "cell_type": "code",
   "execution_count": 195,
   "id": "105fe344",
   "metadata": {},
   "outputs": [],
   "source": [
    "# 변수 삭제\n",
    "train_data.drop(['PalletID_Collect_Result'], axis=1, inplace=True)\n",
    "test_data.drop(['PalletID_Collect_Result'], axis=1, inplace=True)"
   ]
  },
  {
   "cell_type": "code",
   "execution_count": 196,
   "id": "807ffaf5",
   "metadata": {},
   "outputs": [],
   "source": [
    "# 공통 변수 리스트\n",
    "com_variables_train = [\n",
    "    'target'\n",
    "    , 'Model.Suffix'\n",
    "    , 'Workorder'\n",
    "    , 'WorkMode Collect Result'\n",
    "    , 'Dispenser_1'\n",
    "    , 'Dispenser_2'\n",
    "    , 'Receip_No_Collect_Result'\n",
    "    # , 'PalletID_Collect_Result'\n",
    "    , 'Production_Qty_Collect_Result'\n",
    "    , 'Judge_Value_OK'\n",
    "    , 'Workorder_0.9'\n",
    "    , 'Workorder_0.6'\n",
    "]\n",
    "\n",
    "com_variables_test = [\n",
    "    'target'\n",
    "    , 'Set ID'\n",
    "    , 'Model.Suffix'\n",
    "    , 'Workorder'\n",
    "    , 'WorkMode Collect Result'\n",
    "    , 'Dispenser_1'\n",
    "    , 'Dispenser_2'\n",
    "    , 'Receip_No_Collect_Result'\n",
    "    # , 'PalletID_Collect_Result'\n",
    "    , 'Production_Qty_Collect_Result'\n",
    "    , 'Judge_Value_OK'\n",
    "    , 'Workorder_0.9'\n",
    "    , 'Workorder_0.6'\n",
    "]"
   ]
  },
  {
   "cell_type": "markdown",
   "id": "2955d978",
   "metadata": {},
   "source": [
    "Dam"
   ]
  },
  {
   "cell_type": "code",
   "execution_count": 197,
   "id": "3b5911a8",
   "metadata": {},
   "outputs": [
    {
     "name": "stdout",
     "output_type": "stream",
     "text": [
      "<Dam 공정 관련 변수>\n",
      "DISCHARGED SPEED OF RESIN Collect Result_Dam\n",
      "DISCHARGED TIME OF RESIN(Stage1) Collect Result_Dam\n",
      "DISCHARGED TIME OF RESIN(Stage2) Collect Result_Dam\n",
      "DISCHARGED TIME OF RESIN(Stage3) Collect Result_Dam\n",
      "Dispense Volume(Stage1) Collect Result_Dam\n",
      "Dispense Volume(Stage2) Collect Result_Dam\n",
      "Dispense Volume(Stage3) Collect Result_Dam\n",
      "Head Clean Position Z Collect Result_Dam\n",
      "Head Purge Position Z Collect Result_Dam\n",
      "Head Zero Position Y Collect Result_Dam\n",
      "Head Zero Position Z Collect Result_Dam\n",
      "CURE_Time_Dam\n",
      "HEAD NORMAL DISTANCE_STAGE1_STAGE3_Dam\n",
      "HEAD NORMAL DISTANCE_TRIANGLE_height_Dam\n",
      "Stage1_Distance_Speed_avg_Dam\n",
      "Stage2_Distance_Speed_avg_Dam\n",
      "Stage3_Distance_Speed_avg_Dam\n",
      "THICKNESS_total_Dam\n",
      "time_ratio_Dam\n"
     ]
    }
   ],
   "source": [
    "# 열 이름 필터링\n",
    "Process_Desc_col = train_data.filter(like='_Dam').columns\n",
    "\n",
    "# 필터링된 열 이름 출력\n",
    "print(\"<Dam 공정 관련 변수>\")\n",
    "for col in Process_Desc_col:\n",
    "    print(col)"
   ]
  },
  {
   "cell_type": "code",
   "execution_count": 198,
   "id": "5d01ad2e",
   "metadata": {},
   "outputs": [],
   "source": [
    "# 새로운 변수 목록\n",
    "variables = [\n",
    "    \"DISCHARGED SPEED OF RESIN Collect Result_Dam\",\n",
    "    \"DISCHARGED TIME OF RESIN(Stage1) Collect Result_Dam\",\n",
    "    \"DISCHARGED TIME OF RESIN(Stage2) Collect Result_Dam\",\n",
    "    \"DISCHARGED TIME OF RESIN(Stage3) Collect Result_Dam\",\n",
    "    \"Dispense Volume(Stage1) Collect Result_Dam\",\n",
    "    \"Dispense Volume(Stage2) Collect Result_Dam\",\n",
    "    \"Dispense Volume(Stage3) Collect Result_Dam\",\n",
    "    \"Head Clean Position Z Collect Result_Dam\",\n",
    "    \"Head Purge Position Z Collect Result_Dam\",\n",
    "    \"Head Zero Position Y Collect Result_Dam\",\n",
    "    \"Head Zero Position Z Collect Result_Dam\",\n",
    "    \"CURE_Time_Dam\",\n",
    "    \"HEAD NORMAL DISTANCE_STAGE1_STAGE3_Dam\",\n",
    "    \"HEAD NORMAL DISTANCE_TRIANGLE_height_Dam\",\n",
    "    \"Stage1_Distance_Speed_avg_Dam\",\n",
    "    \"Stage2_Distance_Speed_avg_Dam\",\n",
    "    \"Stage3_Distance_Speed_avg_Dam\",\n",
    "    \"THICKNESS_total_Dam\",\n",
    "    \"time_ratio_Dam\"\n",
    "]\n",
    "\n",
    "# 변수들로만 이루어진 DataFrame 생성\n",
    "filtered_data = train_data[variables]"
   ]
  },
  {
   "cell_type": "code",
   "execution_count": 199,
   "id": "96b98835",
   "metadata": {},
   "outputs": [
    {
     "name": "stdout",
     "output_type": "stream",
     "text": [
      "                                           Variable 1  \\\n",
      "0        DISCHARGED SPEED OF RESIN Collect Result_Dam   \n",
      "1   DISCHARGED TIME OF RESIN(Stage1) Collect Resul...   \n",
      "2   DISCHARGED TIME OF RESIN(Stage1) Collect Resul...   \n",
      "3   DISCHARGED TIME OF RESIN(Stage2) Collect Resul...   \n",
      "4   DISCHARGED TIME OF RESIN(Stage3) Collect Resul...   \n",
      "5   DISCHARGED TIME OF RESIN(Stage3) Collect Resul...   \n",
      "6          Dispense Volume(Stage1) Collect Result_Dam   \n",
      "7          Dispense Volume(Stage1) Collect Result_Dam   \n",
      "8          Dispense Volume(Stage1) Collect Result_Dam   \n",
      "9          Dispense Volume(Stage2) Collect Result_Dam   \n",
      "10         Dispense Volume(Stage2) Collect Result_Dam   \n",
      "11           Head Clean Position Z Collect Result_Dam   \n",
      "12            Head Zero Position Z Collect Result_Dam   \n",
      "13                                      CURE_Time_Dam   \n",
      "14                      Stage1_Distance_Speed_avg_Dam   \n",
      "15                      Stage3_Distance_Speed_avg_Dam   \n",
      "\n",
      "                                           Variable 2  Correlation  \n",
      "0             Head Zero Position Z Collect Result_Dam     0.808023  \n",
      "1   DISCHARGED TIME OF RESIN(Stage3) Collect Resul...     0.999476  \n",
      "2          Dispense Volume(Stage1) Collect Result_Dam     0.788676  \n",
      "3          Dispense Volume(Stage2) Collect Result_Dam     0.823917  \n",
      "4   DISCHARGED TIME OF RESIN(Stage1) Collect Resul...     0.999476  \n",
      "5          Dispense Volume(Stage1) Collect Result_Dam     0.783575  \n",
      "6   DISCHARGED TIME OF RESIN(Stage1) Collect Resul...     0.788676  \n",
      "7   DISCHARGED TIME OF RESIN(Stage3) Collect Resul...     0.783575  \n",
      "8          Dispense Volume(Stage2) Collect Result_Dam     0.767858  \n",
      "9   DISCHARGED TIME OF RESIN(Stage2) Collect Resul...     0.823917  \n",
      "10         Dispense Volume(Stage1) Collect Result_Dam     0.767858  \n",
      "11                                      CURE_Time_Dam     0.729409  \n",
      "12       DISCHARGED SPEED OF RESIN Collect Result_Dam     0.808023  \n",
      "13           Head Clean Position Z Collect Result_Dam     0.729409  \n",
      "14                      Stage3_Distance_Speed_avg_Dam     0.999898  \n",
      "15                      Stage1_Distance_Speed_avg_Dam     0.999898  \n"
     ]
    }
   ],
   "source": [
    "# 상관계수 행렬 계산\n",
    "correlation_matrix = filtered_data.corr()\n",
    "\n",
    "# 자기자신을 제외하고 특정 값 이상인 조합 찾기\n",
    "strong_correlations = correlation_matrix[(correlation_matrix >= 0.7) & (correlation_matrix != 1)]\n",
    "\n",
    "# 리스트로 변환\n",
    "strong_correlations_pairs = strong_correlations.stack().reset_index()\n",
    "strong_correlations_pairs.columns = ['Variable 1', 'Variable 2', 'Correlation']\n",
    "\n",
    "# 결과 출력\n",
    "strong_correlations_pairs = strong_correlations_pairs[strong_correlations_pairs['Correlation'] >= 0.7]\n",
    "print(strong_correlations_pairs)"
   ]
  },
  {
   "cell_type": "code",
   "execution_count": 200,
   "id": "749bda8b",
   "metadata": {},
   "outputs": [],
   "source": [
    "# 드랍할 열 목록\n",
    "columns_to_drop = [\n",
    "    \"DISCHARGED TIME OF RESIN(Stage1) Collect Result_Dam\"\n",
    "    , \"DISCHARGED TIME OF RESIN(Stage2) Collect Result_Dam\"\n",
    "    , \"DISCHARGED TIME OF RESIN(Stage3) Collect Result_Dam\"\n",
    "    , \"Dispense Volume(Stage1) Collect Result_Dam\"\n",
    "    , \"Head Clean Position Z Collect Result_Dam\"\n",
    "    , \"Head Zero Position Z Collect Result_Dam\"\n",
    "    , \"Stage3_Distance_Speed_avg_Dam\"\n",
    "]\n",
    "\n",
    "# 열 삭제\n",
    "train_data.drop(columns=columns_to_drop, inplace=True, errors='ignore')\n",
    "test_data.drop(columns=columns_to_drop, inplace=True, errors='ignore')"
   ]
  },
  {
   "cell_type": "markdown",
   "id": "df9bf106",
   "metadata": {},
   "source": [
    "AutoCalve"
   ]
  },
  {
   "cell_type": "code",
   "execution_count": 201,
   "id": "f80651a8",
   "metadata": {},
   "outputs": [
    {
     "name": "stdout",
     "output_type": "stream",
     "text": [
      "<AutoClave 공정 관련 변수>\n",
      "1st Pressure Collect Result_AutoClave\n",
      "2nd Pressure Collect Result_AutoClave\n",
      "3rd Pressure Collect Result_AutoClave\n",
      "Chamber Temp. Collect Result_AutoClave\n",
      "Chamber_Temp_OKNG_AutoClave\n",
      "1st_Pressure_x_AutoClave\n",
      "2nd_Pressure_x_AutoClave\n",
      "3rd_Pressure_x_AutoClave\n",
      "All_Pressure_avg_AutoClave\n",
      "Chamber_Temp_x_AutoClave\n",
      "All_Pressure_frac_Chamber_Temp_AutoClave\n",
      "time_ratio_AutoClave\n"
     ]
    }
   ],
   "source": [
    "# 열 이름 필터링\n",
    "Process_Desc_col = train_data.filter(like='_AutoClave').columns\n",
    "\n",
    "# 필터링된 열 이름 출력\n",
    "print(\"<AutoClave 공정 관련 변수>\")\n",
    "for col in Process_Desc_col:\n",
    "    print(col)"
   ]
  },
  {
   "cell_type": "code",
   "execution_count": 202,
   "id": "566073bc",
   "metadata": {},
   "outputs": [],
   "source": [
    "# 새로운 변수 목록\n",
    "variables = [\n",
    "    \"1st Pressure Collect Result_AutoClave\"\n",
    "    , \"2nd Pressure Collect Result_AutoClave\"\n",
    "    , \"3rd Pressure Collect Result_AutoClave\"\n",
    "    , \"Chamber Temp. Collect Result_AutoClave\"\n",
    "    , \"Chamber_Temp_OKNG_AutoClave\"\n",
    "    , \"1st_Pressure_x_AutoClave\"\n",
    "    , \"2nd_Pressure_x_AutoClave\"\n",
    "    , \"3rd_Pressure_x_AutoClave\"\n",
    "    , \"All_Pressure_avg_AutoClave\"\n",
    "    , \"Chamber_Temp_x_AutoClave\"\n",
    "    , \"All_Pressure_frac_Chamber_Temp_AutoClave\"\n",
    "    , \"time_ratio_AutoClave\"\n",
    "]\n",
    "\n",
    "# 변수들로만 이루어진 DataFrame 생성\n",
    "filtered_data = train_data[variables]"
   ]
  },
  {
   "cell_type": "code",
   "execution_count": 203,
   "id": "290c852f",
   "metadata": {},
   "outputs": [
    {
     "name": "stdout",
     "output_type": "stream",
     "text": [
      "                               Variable 1  \\\n",
      "0  Chamber Temp. Collect Result_AutoClave   \n",
      "1             Chamber_Temp_OKNG_AutoClave   \n",
      "2                2nd_Pressure_x_AutoClave   \n",
      "3                Chamber_Temp_x_AutoClave   \n",
      "\n",
      "                               Variable 2  Correlation  \n",
      "0             Chamber_Temp_OKNG_AutoClave     0.742841  \n",
      "1  Chamber Temp. Collect Result_AutoClave     0.742841  \n",
      "2                Chamber_Temp_x_AutoClave     0.804096  \n",
      "3                2nd_Pressure_x_AutoClave     0.804096  \n"
     ]
    }
   ],
   "source": [
    "# 상관계수 행렬 계산\n",
    "correlation_matrix = filtered_data.corr()\n",
    "\n",
    "# 자기자신을 제외하고 특정 값 이상인 조합 찾기\n",
    "strong_correlations = correlation_matrix[(correlation_matrix >= 0.7) & (correlation_matrix != 1)]\n",
    "\n",
    "# 리스트로 변환\n",
    "strong_correlations_pairs = strong_correlations.stack().reset_index()\n",
    "strong_correlations_pairs.columns = ['Variable 1', 'Variable 2', 'Correlation']\n",
    "\n",
    "# 결과 출력\n",
    "strong_correlations_pairs = strong_correlations_pairs[strong_correlations_pairs['Correlation'] >= 0.7]\n",
    "print(strong_correlations_pairs)"
   ]
  },
  {
   "cell_type": "code",
   "execution_count": 204,
   "id": "fff17e1a",
   "metadata": {},
   "outputs": [],
   "source": [
    "# 드랍할 열 목록\n",
    "columns_to_drop = [\n",
    "    \"2nd_Pressure_x_AutoClave\"\n",
    "    , 'Chamber_Temp_OKNG_AutoClave'\n",
    "    , 'Chamber_Temp_x_AutoClave'\n",
    "]\n",
    "\n",
    "# 열 삭제\n",
    "train_data.drop(columns=columns_to_drop, inplace=True, errors='ignore')\n",
    "test_data.drop(columns=columns_to_drop, inplace=True, errors='ignore')"
   ]
  },
  {
   "cell_type": "markdown",
   "id": "1fa86a4b",
   "metadata": {},
   "source": [
    "Fill1"
   ]
  },
  {
   "cell_type": "code",
   "execution_count": 205,
   "id": "a03bc6de",
   "metadata": {},
   "outputs": [
    {
     "name": "stdout",
     "output_type": "stream",
     "text": [
      "<Fill1 공정 관련 변수>\n",
      "DISCHARGED SPEED OF RESIN Collect Result_Fill1\n",
      "DISCHARGED TIME OF RESIN(Stage1) Collect Result_Fill1\n",
      "DISCHARGED TIME OF RESIN(Stage2) Collect Result_Fill1\n",
      "DISCHARGED TIME OF RESIN(Stage3) Collect Result_Fill1\n",
      "Dispense Volume(Stage1) Collect Result_Fill1\n",
      "Dispense Volume(Stage2) Collect Result_Fill1\n",
      "Dispense Volume(Stage3) Collect Result_Fill1\n",
      "Head Purge Position Z Collect Result_Fill1\n",
      "HEAD NORMAL DISTANCE_STAGE1_STAGE3_Fill1\n",
      "HEAD NORMAL DISTANCE_TRIANGLE_height_Fill1\n",
      "time_ratio_Fill1\n"
     ]
    }
   ],
   "source": [
    "# 열 이름 필터링\n",
    "Process_Desc_col = train_data.filter(like='_Fill1').columns\n",
    "\n",
    "# 필터링된 열 이름 출력\n",
    "print(\"<Fill1 공정 관련 변수>\")\n",
    "for col in Process_Desc_col:\n",
    "    print(col)"
   ]
  },
  {
   "cell_type": "code",
   "execution_count": 206,
   "id": "3fa145f8",
   "metadata": {},
   "outputs": [],
   "source": [
    "# 새로운 변수 목록\n",
    "variables = [\n",
    "    \"DISCHARGED SPEED OF RESIN Collect Result_Fill1\",\n",
    "    \"DISCHARGED TIME OF RESIN(Stage1) Collect Result_Fill1\",\n",
    "    \"DISCHARGED TIME OF RESIN(Stage2) Collect Result_Fill1\",\n",
    "    \"DISCHARGED TIME OF RESIN(Stage3) Collect Result_Fill1\",\n",
    "    \"Dispense Volume(Stage1) Collect Result_Fill1\",\n",
    "    \"Dispense Volume(Stage2) Collect Result_Fill1\",\n",
    "    \"Dispense Volume(Stage3) Collect Result_Fill1\",\n",
    "    \"Head Purge Position Z Collect Result_Fill1\",\n",
    "    \"HEAD NORMAL DISTANCE_STAGE1_STAGE3_Fill1\",\n",
    "    \"HEAD NORMAL DISTANCE_TRIANGLE_height_Fill1\",\n",
    "    \"time_ratio_Fill1\"\n",
    "]\n",
    "\n",
    "# 변수들로만 이루어진 DataFrame 생성\n",
    "filtered_data = train_data[variables]"
   ]
  },
  {
   "cell_type": "code",
   "execution_count": 207,
   "id": "0e3d6b34",
   "metadata": {},
   "outputs": [
    {
     "name": "stdout",
     "output_type": "stream",
     "text": [
      "                                          Variable 1  \\\n",
      "0  DISCHARGED TIME OF RESIN(Stage1) Collect Resul...   \n",
      "1  DISCHARGED TIME OF RESIN(Stage2) Collect Resul...   \n",
      "2       Dispense Volume(Stage1) Collect Result_Fill1   \n",
      "3       Dispense Volume(Stage1) Collect Result_Fill1   \n",
      "4       Dispense Volume(Stage2) Collect Result_Fill1   \n",
      "5           HEAD NORMAL DISTANCE_STAGE1_STAGE3_Fill1   \n",
      "\n",
      "                                          Variable 2  Correlation  \n",
      "0       Dispense Volume(Stage1) Collect Result_Fill1     0.834402  \n",
      "1       Dispense Volume(Stage2) Collect Result_Fill1     0.988529  \n",
      "2  DISCHARGED TIME OF RESIN(Stage1) Collect Resul...     0.834402  \n",
      "3           HEAD NORMAL DISTANCE_STAGE1_STAGE3_Fill1     0.763230  \n",
      "4  DISCHARGED TIME OF RESIN(Stage2) Collect Resul...     0.988529  \n",
      "5       Dispense Volume(Stage1) Collect Result_Fill1     0.763230  \n"
     ]
    }
   ],
   "source": [
    "# 상관계수 행렬 계산\n",
    "correlation_matrix = filtered_data.corr()\n",
    "\n",
    "# 자기자신을 제외하고 특정 값 이상인 조합 찾기\n",
    "strong_correlations = correlation_matrix[(correlation_matrix >= 0.7) & (correlation_matrix != 1)]\n",
    "\n",
    "# 리스트로 변환\n",
    "strong_correlations_pairs = strong_correlations.stack().reset_index()\n",
    "strong_correlations_pairs.columns = ['Variable 1', 'Variable 2', 'Correlation']\n",
    "\n",
    "# 결과 출력\n",
    "strong_correlations_pairs = strong_correlations_pairs[strong_correlations_pairs['Correlation'] >= 0.7]\n",
    "print(strong_correlations_pairs)"
   ]
  },
  {
   "cell_type": "code",
   "execution_count": 208,
   "id": "5e63aa21",
   "metadata": {},
   "outputs": [],
   "source": [
    "# 드랍할 열 목록\n",
    "columns_to_drop = [\n",
    "    \"Dispense Volume(Stage1) Collect Result_Fill1\"\n",
    "    , \"Dispense Volume(Stage2) Collect Result_Fill1\"\n",
    "]\n",
    "\n",
    "# 열 삭제\n",
    "train_data.drop(columns=columns_to_drop, inplace=True, errors='ignore')\n",
    "test_data.drop(columns=columns_to_drop, inplace=True, errors='ignore')"
   ]
  },
  {
   "cell_type": "markdown",
   "id": "04408756",
   "metadata": {},
   "source": [
    "Fill2"
   ]
  },
  {
   "cell_type": "code",
   "execution_count": 209,
   "id": "04ce5f7d",
   "metadata": {},
   "outputs": [
    {
     "name": "stdout",
     "output_type": "stream",
     "text": [
      "<Fill1 공정 관련 변수>\n",
      "Head Purge Position Z Collect Result_Fill2\n",
      "CURE_Time_Fill2\n",
      "HEAD NORMAL DISTANCE_STAGE1_STAGE2_Fill2\n",
      "HEAD NORMAL DISTANCE_STAGE2_STAGE3_Fill2\n",
      "HEAD NORMAL DISTANCE_STAGE1_STAGE3_Fill2\n",
      "time_ratio_Fill2\n"
     ]
    }
   ],
   "source": [
    "# 열 이름 필터링\n",
    "Process_Desc_col = train_data.filter(like='_Fill2').columns\n",
    "\n",
    "# 필터링된 열 이름 출력\n",
    "print(\"<Fill1 공정 관련 변수>\")\n",
    "for col in Process_Desc_col:\n",
    "    print(col)"
   ]
  },
  {
   "cell_type": "code",
   "execution_count": 210,
   "id": "dfb13c1a",
   "metadata": {},
   "outputs": [],
   "source": [
    "# 새로운 변수 목록\n",
    "variables = [\n",
    "    \"Head Purge Position Z Collect Result_Fill2\"\n",
    "    , \"CURE_Time_Fill2\"\n",
    "    , \"HEAD NORMAL DISTANCE_STAGE1_STAGE2_Fill2\"\n",
    "    , \"HEAD NORMAL DISTANCE_STAGE2_STAGE3_Fill2\"\n",
    "    , \"HEAD NORMAL DISTANCE_STAGE1_STAGE3_Fill2\"\n",
    "    , \"time_ratio_Fill2\"\n",
    "]\n",
    "\n",
    "# 변수들로만 이루어진 DataFrame 생성\n",
    "filtered_data = train_data[variables]"
   ]
  },
  {
   "cell_type": "code",
   "execution_count": 211,
   "id": "6ec9d4a8",
   "metadata": {},
   "outputs": [
    {
     "name": "stdout",
     "output_type": "stream",
     "text": [
      "                                 Variable 1  \\\n",
      "0  HEAD NORMAL DISTANCE_STAGE1_STAGE2_Fill2   \n",
      "1  HEAD NORMAL DISTANCE_STAGE1_STAGE2_Fill2   \n",
      "2  HEAD NORMAL DISTANCE_STAGE2_STAGE3_Fill2   \n",
      "3  HEAD NORMAL DISTANCE_STAGE2_STAGE3_Fill2   \n",
      "4  HEAD NORMAL DISTANCE_STAGE1_STAGE3_Fill2   \n",
      "5  HEAD NORMAL DISTANCE_STAGE1_STAGE3_Fill2   \n",
      "\n",
      "                                 Variable 2  Correlation  \n",
      "0  HEAD NORMAL DISTANCE_STAGE2_STAGE3_Fill2     0.999993  \n",
      "1  HEAD NORMAL DISTANCE_STAGE1_STAGE3_Fill2     0.999999  \n",
      "2  HEAD NORMAL DISTANCE_STAGE1_STAGE2_Fill2     0.999993  \n",
      "3  HEAD NORMAL DISTANCE_STAGE1_STAGE3_Fill2     0.999997  \n",
      "4  HEAD NORMAL DISTANCE_STAGE1_STAGE2_Fill2     0.999999  \n",
      "5  HEAD NORMAL DISTANCE_STAGE2_STAGE3_Fill2     0.999997  \n"
     ]
    }
   ],
   "source": [
    "# 상관계수 행렬 계산\n",
    "correlation_matrix = filtered_data.corr()\n",
    "\n",
    "# 자기자신을 제외하고 특정 값 이상인 조합 찾기\n",
    "strong_correlations = correlation_matrix[(correlation_matrix >= 0.7) & (correlation_matrix != 1)]\n",
    "\n",
    "# 리스트로 변환\n",
    "strong_correlations_pairs = strong_correlations.stack().reset_index()\n",
    "strong_correlations_pairs.columns = ['Variable 1', 'Variable 2', 'Correlation']\n",
    "\n",
    "# 결과 출력\n",
    "strong_correlations_pairs = strong_correlations_pairs[strong_correlations_pairs['Correlation'] >= 0.7]\n",
    "print(strong_correlations_pairs)"
   ]
  },
  {
   "cell_type": "code",
   "execution_count": 212,
   "id": "7c533e10",
   "metadata": {},
   "outputs": [],
   "source": [
    "# 드랍할 열 목록\n",
    "columns_to_drop = [\n",
    "    \"HEAD NORMAL DISTANCE_STAGE1_STAGE2_Fill2\",\n",
    "    \"HEAD NORMAL DISTANCE_STAGE2_STAGE3_Fill2\"\n",
    "]\n",
    "\n",
    "# 열 삭제\n",
    "train_data.drop(columns=columns_to_drop, inplace=True, errors='ignore')\n",
    "test_data.drop(columns=columns_to_drop, inplace=True, errors='ignore')"
   ]
  },
  {
   "cell_type": "markdown",
   "id": "8c32095b",
   "metadata": {},
   "source": [
    "공정별 변수 + 공통 변수 결합  \n",
    "-> 총 4개의 데이터셋을 구성하고 각 데이터셋 마다 train,test 를 만듬"
   ]
  },
  {
   "cell_type": "code",
   "execution_count": 213,
   "id": "84f9c1c4",
   "metadata": {},
   "outputs": [],
   "source": [
    "# 공정 이름 필터링 후 공통 변수와 결합\n",
    "def create_dataset(train_data, test_data, process_name, com_variables_train, com_variables_test):\n",
    "    # 열 이름 필터링\n",
    "    Process_Desc_col = train_data.filter(like=process_name).columns\n",
    "    \n",
    "    # train 데이터셋 생성\n",
    "    final_columns_train = list(Process_Desc_col) + com_variables_train\n",
    "    train_dataset = train_data[final_columns_train]\n",
    "    \n",
    "    # test 데이터셋 생성\n",
    "    final_columns_test = list(Process_Desc_col) + com_variables_test\n",
    "    test_dataset = test_data[final_columns_test]\n",
    "    \n",
    "    return train_dataset, test_dataset\n",
    "\n",
    "# 공통 변수 정의\n",
    "## com_variables_train = [...]  -> 이전 코드에서 정의한 변수 사용\n",
    "## com_variables_test = [...]   -> 이전 코드에서 정의한 변수 사용\n",
    "\n",
    "# 데이터셋 생성\n",
    "train_data_dam, test_data_dam = create_dataset(train_data, test_data, '_Dam', com_variables_train, com_variables_test)\n",
    "train_data_fill1, test_data_fill1 = create_dataset(train_data, test_data, '_Fill1', com_variables_train, com_variables_test)\n",
    "train_data_fill2, test_data_fill2 = create_dataset(train_data, test_data, '_Fill2', com_variables_train, com_variables_test)\n",
    "train_data_autoclave, test_data_autoclave = create_dataset(train_data, test_data, '_AutoClave', com_variables_train, com_variables_test)"
   ]
  },
  {
   "cell_type": "markdown",
   "id": "5c4e5b59",
   "metadata": {},
   "source": [
    "## 3. 모델 학습"
   ]
  },
  {
   "cell_type": "markdown",
   "id": "cfaa06da",
   "metadata": {},
   "source": [
    "### 모델 정의"
   ]
  },
  {
   "cell_type": "code",
   "execution_count": 214,
   "id": "fb9e8f54",
   "metadata": {},
   "outputs": [],
   "source": [
    "from sklearn.metrics import (\n",
    "    accuracy_score,\n",
    "    confusion_matrix,\n",
    "    f1_score,\n",
    "    precision_score,\n",
    "    recall_score,\n",
    ")\n",
    "\n",
    "def get_clf_eval(y_test, y_pred_proba, threshold=0.5):\n",
    "    # 확률을 기준으로 예측 레이블 생성\n",
    "    y_pred = (y_pred_proba >= threshold).astype(int)  # 0.5 이상의 확률을 양성으로 간주\n",
    "\n",
    "    confusion = confusion_matrix(y_test, y_pred)\n",
    "    accuracy = accuracy_score(y_test, y_pred)\n",
    "    precision = precision_score(y_test, y_pred)\n",
    "    recall = recall_score(y_test, y_pred)\n",
    "    f1 = f1_score(y_test, y_pred)\n",
    "\n",
    "    print(\"Confusion Matrix:\\n\", confusion)\n",
    "    print(f\"Accuracy: {accuracy:.4f}\")\n",
    "    print(f\"Precision: {precision:.4f}\")\n",
    "    print(f\"Recall: {recall:.4f}\")\n",
    "    print(f\"F1 Score: {f1:.4f}\")\n"
   ]
  },
  {
   "cell_type": "markdown",
   "id": "c2e56224",
   "metadata": {},
   "source": [
    "optuna"
   ]
  },
  {
   "cell_type": "markdown",
   "id": "ca4e3871",
   "metadata": {},
   "source": [
    "Trial 112 finished with value: 0.2562189054726368 and parameters:   \n",
    "{'n_estimators': 1308, 'num_leaves': 1813, 'max_depth':  105,  \n",
    "'learning_rate': 0.0026995515108598628, 'min_child_samples': 37}"
   ]
  },
  {
   "cell_type": "code",
   "execution_count": 215,
   "id": "8ec04f21",
   "metadata": {},
   "outputs": [
    {
     "name": "stderr",
     "output_type": "stream",
     "text": [
      "C:\\Users\\juneh\\AppData\\Roaming\\Python\\Python37\\site-packages\\ipykernel_launcher.py:7: SettingWithCopyWarning: \n",
      "A value is trying to be set on a copy of a slice from a DataFrame.\n",
      "Try using .loc[row_indexer,col_indexer] = value instead\n",
      "\n",
      "See the caveats in the documentation: https://pandas.pydata.org/pandas-docs/stable/user_guide/indexing.html#returning-a-view-versus-a-copy\n",
      "  import sys\n",
      "[I 2024-08-16 00:18:19,006] A new study created in memory with name: no-name-85755ab2-351d-4039-aba9-d4c9cec02b2f\n",
      "[I 2024-08-16 00:18:58,467] Trial 0 finished with value: 0.21716287215411556 and parameters: {'n_estimators': 790, 'num_leaves': 2146, 'max_depth': 119, 'learning_rate': 0.06166547557397882, 'min_child_samples': 205}. Best is trial 0 with value: 0.21716287215411556.\n",
      "[I 2024-08-16 00:28:09,877] Trial 1 finished with value: 0.2105263157894737 and parameters: {'n_estimators': 2206, 'num_leaves': 2888, 'max_depth': 195, 'learning_rate': 0.05178141716690417, 'min_child_samples': 28}. Best is trial 0 with value: 0.21716287215411556.\n",
      "[I 2024-08-16 00:30:15,206] Trial 2 finished with value: 0.2010178117048346 and parameters: {'n_estimators': 1469, 'num_leaves': 1226, 'max_depth': 49, 'learning_rate': 0.002000452888170992, 'min_child_samples': 126}. Best is trial 0 with value: 0.21716287215411556.\n",
      "[I 2024-08-16 00:32:35,812] Trial 3 finished with value: 0.1971326164874552 and parameters: {'n_estimators': 1731, 'num_leaves': 553, 'max_depth': 172, 'learning_rate': 0.008684052021612865, 'min_child_samples': 124}. Best is trial 0 with value: 0.21716287215411556.\n",
      "[I 2024-08-16 00:34:48,146] Trial 4 finished with value: 0.21758569299552907 and parameters: {'n_estimators': 1285, 'num_leaves': 2427, 'max_depth': 184, 'learning_rate': 0.042318458794414655, 'min_child_samples': 102}. Best is trial 4 with value: 0.21758569299552907.\n",
      "[I 2024-08-16 00:35:40,215] Trial 5 finished with value: 0.21895424836601304 and parameters: {'n_estimators': 562, 'num_leaves': 723, 'max_depth': 258, 'learning_rate': 0.04962001162483311, 'min_child_samples': 77}. Best is trial 5 with value: 0.21895424836601304.\n",
      "[I 2024-08-16 00:42:25,023] Trial 6 finished with value: 0.21104294478527608 and parameters: {'n_estimators': 2403, 'num_leaves': 1851, 'max_depth': 122, 'learning_rate': 0.06476333477413102, 'min_child_samples': 54}. Best is trial 5 with value: 0.21895424836601304.\n",
      "[I 2024-08-16 00:46:30,613] Trial 7 finished with value: 0.23076923076923078 and parameters: {'n_estimators': 2273, 'num_leaves': 600, 'max_depth': 184, 'learning_rate': 0.02113127234039541, 'min_child_samples': 77}. Best is trial 7 with value: 0.23076923076923078.\n",
      "[I 2024-08-16 00:50:35,203] Trial 8 finished with value: 0.21445783132530122 and parameters: {'n_estimators': 1498, 'num_leaves': 2285, 'max_depth': 240, 'learning_rate': 0.08959229338857824, 'min_child_samples': 68}. Best is trial 7 with value: 0.23076923076923078.\n",
      "[I 2024-08-16 00:50:53,922] Trial 9 finished with value: 0.1988950276243094 and parameters: {'n_estimators': 532, 'num_leaves': 2402, 'max_depth': 63, 'learning_rate': 0.0795619223737381, 'min_child_samples': 286}. Best is trial 7 with value: 0.23076923076923078.\n",
      "[I 2024-08-16 00:53:44,453] Trial 10 finished with value: 0.2182410423452769 and parameters: {'n_estimators': 2772, 'num_leaves': 1104, 'max_depth': 283, 'learning_rate': 0.02332446972327835, 'min_child_samples': 190}. Best is trial 7 with value: 0.23076923076923078.\n",
      "[I 2024-08-16 00:57:54,142] Trial 11 finished with value: 0.2233902759526938 and parameters: {'n_estimators': 2056, 'num_leaves': 540, 'max_depth': 300, 'learning_rate': 0.027991884018585, 'min_child_samples': 8}. Best is trial 7 with value: 0.23076923076923078.\n",
      "[I 2024-08-16 01:06:50,266] Trial 12 finished with value: 0.2207446808510638 and parameters: {'n_estimators': 2112, 'num_leaves': 1090, 'max_depth': 225, 'learning_rate': 0.027360646572396674, 'min_child_samples': 3}. Best is trial 7 with value: 0.23076923076923078.\n",
      "[I 2024-08-16 01:15:41,621] Trial 13 finished with value: 0.2174496644295302 and parameters: {'n_estimators': 2922, 'num_leaves': 847, 'max_depth': 286, 'learning_rate': 0.02497658602879481, 'min_child_samples': 5}. Best is trial 7 with value: 0.23076923076923078.\n",
      "[I 2024-08-16 01:19:23,236] Trial 14 finished with value: 0.21802325581395346 and parameters: {'n_estimators': 2512, 'num_leaves': 1455, 'max_depth': 13, 'learning_rate': 0.031850832346412256, 'min_child_samples': 46}. Best is trial 7 with value: 0.23076923076923078.\n",
      "[I 2024-08-16 01:22:04,759] Trial 15 finished with value: 0.20540540540540542 and parameters: {'n_estimators': 2036, 'num_leaves': 1534, 'max_depth': 118, 'learning_rate': 0.014709530340252495, 'min_child_samples': 178}. Best is trial 7 with value: 0.23076923076923078.\n",
      "[I 2024-08-16 01:26:02,663] Trial 16 finished with value: 0.22415940224159403 and parameters: {'n_estimators': 1901, 'num_leaves': 576, 'max_depth': 209, 'learning_rate': 0.040382523512900094, 'min_child_samples': 81}. Best is trial 7 with value: 0.23076923076923078.\n",
      "[I 2024-08-16 01:28:05,915] Trial 17 finished with value: 0.2239031770045386 and parameters: {'n_estimators': 1767, 'num_leaves': 982, 'max_depth': 211, 'learning_rate': 0.03913970388910039, 'min_child_samples': 149}. Best is trial 7 with value: 0.23076923076923078.\n",
      "[I 2024-08-16 01:30:43,236] Trial 18 finished with value: 0.20577617328519857 and parameters: {'n_estimators': 2635, 'num_leaves': 1409, 'max_depth': 151, 'learning_rate': 0.014427166490355855, 'min_child_samples': 242}. Best is trial 7 with value: 0.23076923076923078.\n",
      "[I 2024-08-16 01:32:24,371] Trial 19 finished with value: 0.23218997361477572 and parameters: {'n_estimators': 1113, 'num_leaves': 1776, 'max_depth': 144, 'learning_rate': 0.06431806027897036, 'min_child_samples': 89}. Best is trial 19 with value: 0.23218997361477572.\n",
      "[I 2024-08-16 01:33:58,325] Trial 20 finished with value: 0.22546419098143236 and parameters: {'n_estimators': 1141, 'num_leaves': 1994, 'max_depth': 142, 'learning_rate': 0.07541728994756805, 'min_child_samples': 106}. Best is trial 19 with value: 0.23218997361477572.\n",
      "[I 2024-08-16 01:35:26,298] Trial 21 finished with value: 0.22128851540616246 and parameters: {'n_estimators': 998, 'num_leaves': 1826, 'max_depth': 149, 'learning_rate': 0.07074210912382185, 'min_child_samples': 106}. Best is trial 19 with value: 0.23218997361477572.\n",
      "[I 2024-08-16 01:36:58,463] Trial 22 finished with value: 0.2369534555712271 and parameters: {'n_estimators': 1102, 'num_leaves': 2025, 'max_depth': 94, 'learning_rate': 0.08829232884834484, 'min_child_samples': 151}. Best is trial 22 with value: 0.2369534555712271.\n",
      "[I 2024-08-16 01:37:59,252] Trial 23 finished with value: 0.23076923076923078 and parameters: {'n_estimators': 829, 'num_leaves': 2764, 'max_depth': 93, 'learning_rate': 0.09889978753054957, 'min_child_samples': 156}. Best is trial 22 with value: 0.2369534555712271.\n",
      "[I 2024-08-16 01:40:05,869] Trial 24 finished with value: 0.22550335570469798 and parameters: {'n_estimators': 1428, 'num_leaves': 1656, 'max_depth': 87, 'learning_rate': 0.08546298165437391, 'min_child_samples': 149}. Best is trial 22 with value: 0.2369534555712271.\n",
      "[I 2024-08-16 01:42:21,000] Trial 25 finished with value: 0.218091697645601 and parameters: {'n_estimators': 1052, 'num_leaves': 2134, 'max_depth': 168, 'learning_rate': 0.09968861516376339, 'min_child_samples': 89}. Best is trial 22 with value: 0.2369534555712271.\n",
      "[I 2024-08-16 01:44:03,911] Trial 26 finished with value: 0.22009569377990432 and parameters: {'n_estimators': 1638, 'num_leaves': 2590, 'max_depth': 91, 'learning_rate': 0.05701683202042769, 'min_child_samples': 236}. Best is trial 22 with value: 0.2369534555712271.\n",
      "[I 2024-08-16 01:47:54,330] Trial 27 finished with value: 0.22301304863582444 and parameters: {'n_estimators': 2309, 'num_leaves': 1685, 'max_depth': 51, 'learning_rate': 0.09040396611192744, 'min_child_samples': 128}. Best is trial 22 with value: 0.2369534555712271.\n",
      "[I 2024-08-16 01:49:38,288] Trial 28 finished with value: 0.22788605697151423 and parameters: {'n_estimators': 1214, 'num_leaves': 1306, 'max_depth': 135, 'learning_rate': 0.07038472709198697, 'min_child_samples': 170}. Best is trial 22 with value: 0.2369534555712271.\n",
      "[I 2024-08-16 01:50:34,937] Trial 29 finished with value: 0.2167832167832168 and parameters: {'n_estimators': 830, 'num_leaves': 2026, 'max_depth': 112, 'learning_rate': 0.06348722404495874, 'min_child_samples': 211}. Best is trial 22 with value: 0.2369534555712271.\n",
      "[I 2024-08-16 01:54:00,198] Trial 30 finished with value: 0.2236180904522613 and parameters: {'n_estimators': 948, 'num_leaves': 1910, 'max_depth': 73, 'learning_rate': 0.08228762285190933, 'min_child_samples': 38}. Best is trial 22 with value: 0.2369534555712271.\n",
      "[I 2024-08-16 01:55:11,166] Trial 31 finished with value: 0.22907488986784139 and parameters: {'n_estimators': 805, 'num_leaves': 2987, 'max_depth': 103, 'learning_rate': 0.09337166983720102, 'min_child_samples': 143}. Best is trial 22 with value: 0.2369534555712271.\n",
      "[I 2024-08-16 01:55:58,253] Trial 32 finished with value: 0.22184873949579828 and parameters: {'n_estimators': 667, 'num_leaves': 2750, 'max_depth': 168, 'learning_rate': 0.09901370319370974, 'min_child_samples': 211}. Best is trial 22 with value: 0.2369534555712271.\n",
      "[I 2024-08-16 01:57:26,019] Trial 33 finished with value: 0.22410865874363325 and parameters: {'n_estimators': 1308, 'num_leaves': 2659, 'max_depth': 17, 'learning_rate': 0.05496314318652338, 'min_child_samples': 171}. Best is trial 22 with value: 0.2369534555712271.\n",
      "[I 2024-08-16 01:58:14,462] Trial 34 finished with value: 0.22468354430379744 and parameters: {'n_estimators': 721, 'num_leaves': 2183, 'max_depth': 35, 'learning_rate': 0.07677992571087072, 'min_child_samples': 128}. Best is trial 22 with value: 0.2369534555712271.\n",
      "[I 2024-08-16 02:00:07,250] Trial 35 finished with value: 0.2271062271062271 and parameters: {'n_estimators': 940, 'num_leaves': 2840, 'max_depth': 190, 'learning_rate': 0.09527071840663495, 'min_child_samples': 60}. Best is trial 22 with value: 0.2369534555712271.\n",
      "[I 2024-08-16 02:02:27,993] Trial 36 finished with value: 0.22655298416565164 and parameters: {'n_estimators': 1400, 'num_leaves': 2484, 'max_depth': 130, 'learning_rate': 0.08346692705357066, 'min_child_samples': 94}. Best is trial 22 with value: 0.2369534555712271.\n",
      "[I 2024-08-16 02:04:49,972] Trial 37 finished with value: 0.22027534418022526 and parameters: {'n_estimators': 1603, 'num_leaves': 1602, 'max_depth': 94, 'learning_rate': 0.06992206316152484, 'min_child_samples': 114}. Best is trial 22 with value: 0.2369534555712271.\n",
      "[I 2024-08-16 02:07:53,571] Trial 38 finished with value: 0.23603793466807166 and parameters: {'n_estimators': 1137, 'num_leaves': 2324, 'max_depth': 67, 'learning_rate': 0.0026556413907450095, 'min_child_samples': 28}. Best is trial 22 with value: 0.2369534555712271.\n",
      "[I 2024-08-16 02:10:00,842] Trial 39 finished with value: 0.14463276836158193 and parameters: {'n_estimators': 1132, 'num_leaves': 2279, 'max_depth': 38, 'learning_rate': 0.001345575702274593, 'min_child_samples': 39}. Best is trial 22 with value: 0.2369534555712271.\n",
      "[I 2024-08-16 02:17:45,339] Trial 40 finished with value: 0.22393822393822396 and parameters: {'n_estimators': 1890, 'num_leaves': 1788, 'max_depth': 74, 'learning_rate': 0.009374960556902123, 'min_child_samples': 22}. Best is trial 22 with value: 0.2369534555712271.\n",
      "[I 2024-08-16 02:20:51,083] Trial 41 finished with value: 0.2328042328042328 and parameters: {'n_estimators': 1283, 'num_leaves': 2082, 'max_depth': 61, 'learning_rate': 0.047025883490120074, 'min_child_samples': 71}. Best is trial 22 with value: 0.2369534555712271.\n",
      "[I 2024-08-16 02:23:15,152] Trial 42 finished with value: 0.21452145214521454 and parameters: {'n_estimators': 1283, 'num_leaves': 2022, 'max_depth': 64, 'learning_rate': 0.018150069880165737, 'min_child_samples': 73}. Best is trial 22 with value: 0.2369534555712271.\n",
      "[I 2024-08-16 02:29:29,027] Trial 43 finished with value: 0.2196969696969697 and parameters: {'n_estimators': 1565, 'num_leaves': 2271, 'max_depth': 45, 'learning_rate': 0.047065606241476474, 'min_child_samples': 30}. Best is trial 22 with value: 0.2369534555712271.\n",
      "[I 2024-08-16 02:32:14,870] Trial 44 finished with value: 0.2288021534320323 and parameters: {'n_estimators': 1356, 'num_leaves': 2110, 'max_depth': 177, 'learning_rate': 0.03430265135691065, 'min_child_samples': 63}. Best is trial 22 with value: 0.2369534555712271.\n",
      "[I 2024-08-16 02:36:56,938] Trial 45 finished with value: 0.228486646884273 and parameters: {'n_estimators': 1126, 'num_leaves': 2374, 'max_depth': 26, 'learning_rate': 0.008610120177531287, 'min_child_samples': 23}. Best is trial 22 with value: 0.2369534555712271.\n",
      "[I 2024-08-16 02:41:03,303] Trial 46 finished with value: 0.22999999999999995 and parameters: {'n_estimators': 1219, 'num_leaves': 1956, 'max_depth': 61, 'learning_rate': 0.05761363701812734, 'min_child_samples': 48}. Best is trial 22 with value: 0.2369534555712271.\n",
      "[I 2024-08-16 02:42:42,144] Trial 47 finished with value: 0.22320117474302495 and parameters: {'n_estimators': 913, 'num_leaves': 2531, 'max_depth': 107, 'learning_rate': 0.04830147558838721, 'min_child_samples': 77}. Best is trial 22 with value: 0.2369534555712271.\n",
      "[I 2024-08-16 02:45:25,713] Trial 48 finished with value: 0.1925133689839572 and parameters: {'n_estimators': 1746, 'num_leaves': 1718, 'max_depth': 79, 'learning_rate': 0.005726106203658839, 'min_child_samples': 91}. Best is trial 22 with value: 0.2369534555712271.\n",
      "[I 2024-08-16 02:46:25,138] Trial 49 finished with value: 0.22144112478031636 and parameters: {'n_estimators': 601, 'num_leaves': 2177, 'max_depth': 158, 'learning_rate': 0.01936705696213984, 'min_child_samples': 55}. Best is trial 22 with value: 0.2369534555712271.\n",
      "[I 2024-08-16 02:56:23,517] Trial 50 finished with value: 0.2428940568475452 and parameters: {'n_estimators': 1493, 'num_leaves': 2363, 'max_depth': 205, 'learning_rate': 0.031751557573389204, 'min_child_samples': 14}. Best is trial 50 with value: 0.2428940568475452.\n",
      "[I 2024-08-16 02:57:55,233] Trial 51 finished with value: 0.2018348623853211 and parameters: {'n_estimators': 1531, 'num_leaves': 2352, 'max_depth': 206, 'learning_rate': 0.03243401245368846, 'min_child_samples': 300}. Best is trial 50 with value: 0.2428940568475452.\n",
      "[I 2024-08-16 03:04:49,664] Trial 52 finished with value: 0.22959183673469388 and parameters: {'n_estimators': 1079, 'num_leaves': 1886, 'max_depth': 229, 'learning_rate': 0.0441424165703281, 'min_child_samples': 17}. Best is trial 50 with value: 0.2428940568475452.\n",
      "[I 2024-08-16 03:17:30,734] Trial 53 finished with value: 0.22136422136422135 and parameters: {'n_estimators': 1473, 'num_leaves': 2101, 'max_depth': 197, 'learning_rate': 0.03701639560714187, 'min_child_samples': 12}. Best is trial 50 with value: 0.2428940568475452.\n",
      "[I 2024-08-16 03:20:49,131] Trial 54 finished with value: 0.23004059539918809 and parameters: {'n_estimators': 1196, 'num_leaves': 842, 'max_depth': 224, 'learning_rate': 0.02317378263128567, 'min_child_samples': 40}. Best is trial 50 with value: 0.2428940568475452.\n",
      "[I 2024-08-16 03:23:35,181] Trial 55 finished with value: 0.2188449848024316 and parameters: {'n_estimators': 1852, 'num_leaves': 2253, 'max_depth': 123, 'learning_rate': 0.02863418551731436, 'min_child_samples': 115}. Best is trial 50 with value: 0.2428940568475452.\n",
      "[I 2024-08-16 03:26:26,573] Trial 56 finished with value: 0.22580645161290322 and parameters: {'n_estimators': 1287, 'num_leaves': 2465, 'max_depth': 249, 'learning_rate': 0.05152350722934075, 'min_child_samples': 65}. Best is trial 50 with value: 0.2428940568475452.\n",
      "[I 2024-08-16 03:30:00,304] Trial 57 finished with value: 0.22222222222222224 and parameters: {'n_estimators': 2185, 'num_leaves': 1526, 'max_depth': 183, 'learning_rate': 0.013152030249461016, 'min_child_samples': 85}. Best is trial 50 with value: 0.2428940568475452.\n",
      "[I 2024-08-16 03:36:54,912] Trial 58 finished with value: 0.22474747474747475 and parameters: {'n_estimators': 1654, 'num_leaves': 1191, 'max_depth': 159, 'learning_rate': 0.04408077675903972, 'min_child_samples': 30}. Best is trial 50 with value: 0.2428940568475452.\n",
      "[I 2024-08-16 03:43:35,105] Trial 59 finished with value: 0.2186335403726708 and parameters: {'n_estimators': 2460, 'num_leaves': 1784, 'max_depth': 60, 'learning_rate': 0.020705809660674642, 'min_child_samples': 51}. Best is trial 50 with value: 0.2428940568475452.\n",
      "[I 2024-08-16 04:05:14,656] Trial 60 finished with value: 0.21718377088305488 and parameters: {'n_estimators': 2616, 'num_leaves': 2612, 'max_depth': 264, 'learning_rate': 0.005396342344140737, 'min_child_samples': 4}. Best is trial 50 with value: 0.2428940568475452.\n",
      "[I 2024-08-16 04:06:48,965] Trial 61 finished with value: 0.218077474892396 and parameters: {'n_estimators': 989, 'num_leaves': 2779, 'max_depth': 96, 'learning_rate': 0.08740772205820536, 'min_child_samples': 138}. Best is trial 50 with value: 0.2428940568475452.\n",
      "[I 2024-08-16 04:07:37,023] Trial 62 finished with value: 0.2318840579710145 and parameters: {'n_estimators': 884, 'num_leaves': 2047, 'max_depth': 82, 'learning_rate': 0.09633985147977152, 'min_child_samples': 192}. Best is trial 50 with value: 0.2428940568475452.\n",
      "[I 2024-08-16 04:08:40,443] Trial 63 finished with value: 0.22184300341296928 and parameters: {'n_estimators': 1029, 'num_leaves': 2045, 'max_depth': 51, 'learning_rate': 0.060110623773311625, 'min_child_samples': 200}. Best is trial 50 with value: 0.2428940568475452.\n",
      "[I 2024-08-16 04:10:07,250] Trial 64 finished with value: 0.2235294117647059 and parameters: {'n_estimators': 1375, 'num_leaves': 1954, 'max_depth': 86, 'learning_rate': 0.09251953359873338, 'min_child_samples': 224}. Best is trial 50 with value: 0.2428940568475452.\n",
      "[I 2024-08-16 04:10:58,897] Trial 65 finished with value: 0.19708029197080293 and parameters: {'n_estimators': 888, 'num_leaves': 1857, 'max_depth': 79, 'learning_rate': 0.025879065026817513, 'min_child_samples': 181}. Best is trial 50 with value: 0.2428940568475452.\n",
      "[I 2024-08-16 04:16:24,410] Trial 66 finished with value: 0.22405660377358494 and parameters: {'n_estimators': 2904, 'num_leaves': 2198, 'max_depth': 195, 'learning_rate': 0.06599512086900342, 'min_child_samples': 99}. Best is trial 50 with value: 0.2428940568475452.\n",
      "[I 2024-08-16 04:17:14,525] Trial 67 finished with value: 0.22077922077922077 and parameters: {'n_estimators': 754, 'num_leaves': 2370, 'max_depth': 140, 'learning_rate': 0.0794519635760942, 'min_child_samples': 162}. Best is trial 50 with value: 0.2428940568475452.\n",
      "[I 2024-08-16 04:18:18,355] Trial 68 finished with value: 0.20220588235294118 and parameters: {'n_estimators': 1166, 'num_leaves': 2080, 'max_depth': 216, 'learning_rate': 0.03627397946755509, 'min_child_samples': 257}. Best is trial 50 with value: 0.2428940568475452.\n",
      "[I 2024-08-16 04:19:25,215] Trial 69 finished with value: 0.21731748726655348 and parameters: {'n_estimators': 1084, 'num_leaves': 727, 'max_depth': 117, 'learning_rate': 0.05389554752983434, 'min_child_samples': 195}. Best is trial 50 with value: 0.2428940568475452.\n",
      "[I 2024-08-16 04:21:17,550] Trial 70 finished with value: 0.21296296296296297 and parameters: {'n_estimators': 1240, 'num_leaves': 1378, 'max_depth': 69, 'learning_rate': 0.04036932082563453, 'min_child_samples': 116}. Best is trial 50 with value: 0.2428940568475452.\n",
      "[I 2024-08-16 04:22:15,276] Trial 71 finished with value: 0.23458646616541354 and parameters: {'n_estimators': 845, 'num_leaves': 2912, 'max_depth': 101, 'learning_rate': 0.09764402670619589, 'min_child_samples': 158}. Best is trial 50 with value: 0.2428940568475452.\n",
      "[I 2024-08-16 04:22:59,692] Trial 72 finished with value: 0.22950819672131148 and parameters: {'n_estimators': 638, 'num_leaves': 2927, 'max_depth': 102, 'learning_rate': 0.09681195005359461, 'min_child_samples': 188}. Best is trial 50 with value: 0.2428940568475452.\n",
      "[I 2024-08-16 04:24:03,004] Trial 73 finished with value: 0.21745788667687596 and parameters: {'n_estimators': 869, 'num_leaves': 1926, 'max_depth': 83, 'learning_rate': 0.09308693259561596, 'min_child_samples': 165}. Best is trial 50 with value: 0.2428940568475452.\n",
      "[I 2024-08-16 04:24:56,358] Trial 74 finished with value: 0.22188449848024316 and parameters: {'n_estimators': 714, 'num_leaves': 2324, 'max_depth': 55, 'learning_rate': 0.095697557726976, 'min_child_samples': 149}. Best is trial 50 with value: 0.2428940568475452.\n",
      "[I 2024-08-16 04:25:55,062] Trial 75 finished with value: 0.19529837251356238 and parameters: {'n_estimators': 987, 'num_leaves': 2215, 'max_depth': 126, 'learning_rate': 0.029045271063130637, 'min_child_samples': 222}. Best is trial 50 with value: 0.2428940568475452.\n",
      "[I 2024-08-16 04:26:33,079] Trial 76 finished with value: 0.2122719734660033 and parameters: {'n_estimators': 523, 'num_leaves': 2430, 'max_depth': 69, 'learning_rate': 0.09000789950903947, 'min_child_samples': 133}. Best is trial 50 with value: 0.2428940568475452.\n",
      "[I 2024-08-16 04:29:34,465] Trial 77 finished with value: 0.22413793103448276 and parameters: {'n_estimators': 1429, 'num_leaves': 2663, 'max_depth': 42, 'learning_rate': 0.08673480931832366, 'min_child_samples': 75}. Best is trial 50 with value: 0.2428940568475452.\n",
      "[I 2024-08-16 04:31:17,284] Trial 78 finished with value: 0.22371967654986522 and parameters: {'n_estimators': 1067, 'num_leaves': 1651, 'max_depth': 111, 'learning_rate': 0.07354044256153129, 'min_child_samples': 102}. Best is trial 50 with value: 0.2428940568475452.\n",
      "[I 2024-08-16 04:35:19,865] Trial 79 finished with value: 0.23154848046309698 and parameters: {'n_estimators': 1326, 'num_leaves': 1802, 'max_depth': 170, 'learning_rate': 0.01656082626103205, 'min_child_samples': 41}. Best is trial 50 with value: 0.2428940568475452.\n",
      "[I 2024-08-16 04:39:20,293] Trial 80 finished with value: 0.2471264367816092 and parameters: {'n_estimators': 1256, 'num_leaves': 1732, 'max_depth': 145, 'learning_rate': 0.011993452917859849, 'min_child_samples': 32}. Best is trial 80 with value: 0.2471264367816092.\n",
      "[I 2024-08-16 04:42:45,815] Trial 81 finished with value: 0.23583460949464014 and parameters: {'n_estimators': 1130, 'num_leaves': 1853, 'max_depth': 145, 'learning_rate': 0.012736055490473953, 'min_child_samples': 34}. Best is trial 80 with value: 0.2471264367816092.\n",
      "[I 2024-08-16 04:48:20,622] Trial 82 finished with value: 0.23664122137404578 and parameters: {'n_estimators': 1135, 'num_leaves': 1544, 'max_depth': 133, 'learning_rate': 0.00509435915710957, 'min_child_samples': 14}. Best is trial 80 with value: 0.2471264367816092.\n",
      "[I 2024-08-16 04:55:51,350] Trial 83 finished with value: 0.22388059701492538 and parameters: {'n_estimators': 1237, 'num_leaves': 1557, 'max_depth': 148, 'learning_rate': 0.011137653324354815, 'min_child_samples': 13}. Best is trial 80 with value: 0.2471264367816092.\n",
      "[I 2024-08-16 04:59:44,614] Trial 84 finished with value: 0.23718887262079064 and parameters: {'n_estimators': 1119, 'num_leaves': 1731, 'max_depth': 134, 'learning_rate': 0.005455708436214998, 'min_child_samples': 25}. Best is trial 80 with value: 0.2471264367816092.\n",
      "[I 2024-08-16 05:03:17,464] Trial 85 finished with value: 0.23462088698140202 and parameters: {'n_estimators': 1158, 'num_leaves': 1486, 'max_depth': 137, 'learning_rate': 0.004268435668055814, 'min_child_samples': 26}. Best is trial 80 with value: 0.2471264367816092.\n",
      "[I 2024-08-16 05:07:18,596] Trial 86 finished with value: 0.23579545454545453 and parameters: {'n_estimators': 1166, 'num_leaves': 1443, 'max_depth': 132, 'learning_rate': 0.004719555996844838, 'min_child_samples': 23}. Best is trial 80 with value: 0.2471264367816092.\n",
      "[I 2024-08-16 05:11:15,898] Trial 87 finished with value: 0.2274618585298197 and parameters: {'n_estimators': 1154, 'num_leaves': 1395, 'max_depth': 133, 'learning_rate': 0.00410846696540384, 'min_child_samples': 25}. Best is trial 80 with value: 0.2471264367816092.\n",
      "[I 2024-08-16 05:17:15,387] Trial 88 finished with value: 0.2503364737550471 and parameters: {'n_estimators': 1442, 'num_leaves': 1484, 'max_depth': 138, 'learning_rate': 0.0078216911783165, 'min_child_samples': 18}. Best is trial 88 with value: 0.2503364737550471.\n",
      "[I 2024-08-16 05:22:23,511] Trial 89 finished with value: 0.2338461538461539 and parameters: {'n_estimators': 1496, 'num_leaves': 1271, 'max_depth': 161, 'learning_rate': 0.007924325373892618, 'min_child_samples': 32}. Best is trial 88 with value: 0.2503364737550471.\n",
      "[I 2024-08-16 05:29:13,287] Trial 90 finished with value: 0.2300884955752212 and parameters: {'n_estimators': 1426, 'num_leaves': 1605, 'max_depth': 150, 'learning_rate': 0.012293308049579576, 'min_child_samples': 17}. Best is trial 88 with value: 0.2503364737550471.\n",
      "[I 2024-08-16 05:33:01,385] Trial 91 finished with value: 0.24566473988439305 and parameters: {'n_estimators': 1355, 'num_leaves': 1731, 'max_depth': 138, 'learning_rate': 0.0034294052385706333, 'min_child_samples': 34}. Best is trial 88 with value: 0.2503364737550471.\n",
      "[I 2024-08-16 05:36:20,279] Trial 92 finished with value: 0.24561403508771928 and parameters: {'n_estimators': 1341, 'num_leaves': 1737, 'max_depth': 129, 'learning_rate': 0.0024150040764740303, 'min_child_samples': 35}. Best is trial 88 with value: 0.2503364737550471.\n",
      "[I 2024-08-16 05:43:49,129] Trial 93 finished with value: 0.21553398058252426 and parameters: {'n_estimators': 1348, 'num_leaves': 1733, 'max_depth': 143, 'learning_rate': 0.00265843172868648, 'min_child_samples': 10}. Best is trial 88 with value: 0.2503364737550471.\n",
      "[I 2024-08-16 05:48:19,742] Trial 94 finished with value: 0.234375 and parameters: {'n_estimators': 1574, 'num_leaves': 1651, 'max_depth': 118, 'learning_rate': 0.007873483347487194, 'min_child_samples': 34}. Best is trial 88 with value: 0.2503364737550471.\n",
      "[I 2024-08-16 05:50:55,392] Trial 95 finished with value: 0.16782372472079687 and parameters: {'n_estimators': 1252, 'num_leaves': 1695, 'max_depth': 128, 'learning_rate': 0.0013647940054477372, 'min_child_samples': 47}. Best is trial 88 with value: 0.2503364737550471.\n",
      "[I 2024-08-16 05:53:59,439] Trial 96 finished with value: 0.22259136212624586 and parameters: {'n_estimators': 1454, 'num_leaves': 1849, 'max_depth': 156, 'learning_rate': 0.010908760903415528, 'min_child_samples': 55}. Best is trial 88 with value: 0.2503364737550471.\n",
      "[I 2024-08-16 06:04:29,997] Trial 97 finished with value: 0.23284313725490197 and parameters: {'n_estimators': 1695, 'num_leaves': 1582, 'max_depth': 146, 'learning_rate': 0.015774082925905347, 'min_child_samples': 15}. Best is trial 88 with value: 0.2503364737550471.\n",
      "[I 2024-08-16 06:10:52,692] Trial 98 finished with value: 0.2140309155766944 and parameters: {'n_estimators': 1524, 'num_leaves': 1740, 'max_depth': 164, 'learning_rate': 0.007391887202865709, 'min_child_samples': 4}. Best is trial 88 with value: 0.2503364737550471.\n",
      "[I 2024-08-16 06:14:07,330] Trial 99 finished with value: 0.22448979591836737 and parameters: {'n_estimators': 1386, 'num_leaves': 1513, 'max_depth': 114, 'learning_rate': 0.013735244041646754, 'min_child_samples': 20}. Best is trial 88 with value: 0.2503364737550471.\n",
      "[I 2024-08-16 06:15:23,837] Trial 100 finished with value: 0.10302036993678296 and parameters: {'n_estimators': 1034, 'num_leaves': 1346, 'max_depth': 154, 'learning_rate': 0.0010031438505232304, 'min_child_samples': 44}. Best is trial 88 with value: 0.2503364737550471.\n",
      "[I 2024-08-16 06:17:58,384] Trial 101 finished with value: 0.22072678331090176 and parameters: {'n_estimators': 1309, 'num_leaves': 1455, 'max_depth': 132, 'learning_rate': 0.0035834373172954096, 'min_child_samples': 23}. Best is trial 88 with value: 0.2503364737550471.\n",
      "[I 2024-08-16 06:19:44,263] Trial 102 finished with value: 0.2398753894080997 and parameters: {'n_estimators': 1185, 'num_leaves': 1439, 'max_depth': 123, 'learning_rate': 0.010116057551661508, 'min_child_samples': 35}. Best is trial 88 with value: 0.2503364737550471.\n",
      "[I 2024-08-16 06:21:11,328] Trial 103 finished with value: 0.2351046698872786 and parameters: {'n_estimators': 959, 'num_leaves': 1656, 'max_depth': 124, 'learning_rate': 0.009979656331051183, 'min_child_samples': 37}. Best is trial 88 with value: 0.2503364737550471.\n",
      "[I 2024-08-16 06:22:36,567] Trial 104 finished with value: 0.21070811744386875 and parameters: {'n_estimators': 1220, 'num_leaves': 1618, 'max_depth': 139, 'learning_rate': 0.006875625643868298, 'min_child_samples': 59}. Best is trial 88 with value: 0.2503364737550471.\n",
      "[I 2024-08-16 06:26:08,920] Trial 105 finished with value: 0.22443890274314213 and parameters: {'n_estimators': 1120, 'num_leaves': 1762, 'max_depth': 108, 'learning_rate': 0.017214308185828583, 'min_child_samples': 10}. Best is trial 88 with value: 0.2503364737550471.\n",
      "[I 2024-08-16 06:28:26,811] Trial 106 finished with value: 0.2458770614692654 and parameters: {'n_estimators': 1275, 'num_leaves': 1974, 'max_depth': 119, 'learning_rate': 0.009655360515036526, 'min_child_samples': 31}. Best is trial 88 with value: 0.2503364737550471.\n",
      "[I 2024-08-16 06:30:57,945] Trial 107 finished with value: 0.2212121212121212 and parameters: {'n_estimators': 1261, 'num_leaves': 1166, 'max_depth': 120, 'learning_rate': 0.006359800042572571, 'min_child_samples': 29}. Best is trial 88 with value: 0.2503364737550471.\n",
      "[I 2024-08-16 06:33:23,057] Trial 108 finished with value: 0.24038461538461536 and parameters: {'n_estimators': 1361, 'num_leaves': 1898, 'max_depth': 98, 'learning_rate': 0.009418814804454475, 'min_child_samples': 41}. Best is trial 88 with value: 0.2503364737550471.\n",
      "[I 2024-08-16 06:35:45,720] Trial 109 finished with value: 0.22015503875968992 and parameters: {'n_estimators': 1632, 'num_leaves': 2008, 'max_depth': 99, 'learning_rate': 0.010428241630110106, 'min_child_samples': 45}. Best is trial 88 with value: 0.2503364737550471.\n",
      "[I 2024-08-16 06:37:37,702] Trial 110 finished with value: 0.2330935251798561 and parameters: {'n_estimators': 1346, 'num_leaves': 1946, 'max_depth': 125, 'learning_rate': 0.020935099548713955, 'min_child_samples': 51}. Best is trial 88 with value: 0.2503364737550471.\n",
      "[I 2024-08-16 06:40:52,694] Trial 111 finished with value: 0.23324396782841822 and parameters: {'n_estimators': 1199, 'num_leaves': 1572, 'max_depth': 91, 'learning_rate': 0.009136148462562351, 'min_child_samples': 17}. Best is trial 88 with value: 0.2503364737550471.\n",
      "[I 2024-08-16 06:43:06,046] Trial 112 finished with value: 0.2562189054726368 and parameters: {'n_estimators': 1308, 'num_leaves': 1813, 'max_depth': 105, 'learning_rate': 0.0026995515108598628, 'min_child_samples': 37}. Best is trial 112 with value: 0.2562189054726368.\n",
      "[I 2024-08-16 06:45:34,293] Trial 113 finished with value: 0.23717948717948717 and parameters: {'n_estimators': 1396, 'num_leaves': 1699, 'max_depth': 114, 'learning_rate': 0.0059034203038665, 'min_child_samples': 38}. Best is trial 112 with value: 0.2562189054726368.\n",
      "[I 2024-08-16 06:48:08,405] Trial 114 finished with value: 0.2437591776798825 and parameters: {'n_estimators': 1471, 'num_leaves': 1892, 'max_depth': 105, 'learning_rate': 0.003004844791317447, 'min_child_samples': 38}. Best is trial 112 with value: 0.2562189054726368.\n",
      "[I 2024-08-16 06:50:51,014] Trial 115 finished with value: 0.2437591776798825 and parameters: {'n_estimators': 1479, 'num_leaves': 1885, 'max_depth': 104, 'learning_rate': 0.0031969110042534676, 'min_child_samples': 36}. Best is trial 112 with value: 0.2562189054726368.\n",
      "[I 2024-08-16 06:52:46,115] Trial 116 finished with value: 0.22082018927444794 and parameters: {'n_estimators': 1491, 'num_leaves': 1904, 'max_depth': 105, 'learning_rate': 0.014750155424214234, 'min_child_samples': 60}. Best is trial 112 with value: 0.2562189054726368.\n",
      "[I 2024-08-16 06:55:08,482] Trial 117 finished with value: 0.23803009575923392 and parameters: {'n_estimators': 1551, 'num_leaves': 1839, 'max_depth': 176, 'learning_rate': 0.0022552922413002136, 'min_child_samples': 43}. Best is trial 112 with value: 0.2562189054726368.\n",
      "[I 2024-08-16 06:57:32,024] Trial 118 finished with value: 0.21018062397372742 and parameters: {'n_estimators': 1806, 'num_leaves': 1788, 'max_depth': 107, 'learning_rate': 0.0029975628172703005, 'min_child_samples': 66}. Best is trial 112 with value: 0.2562189054726368.\n",
      "[I 2024-08-16 06:59:50,247] Trial 119 finished with value: 0.21999999999999997 and parameters: {'n_estimators': 1576, 'num_leaves': 1978, 'max_depth': 120, 'learning_rate': 0.008924686001727878, 'min_child_samples': 52}. Best is trial 112 with value: 0.2562189054726368.\n",
      "[I 2024-08-16 07:02:28,575] Trial 120 finished with value: 0.21662125340599453 and parameters: {'n_estimators': 1679, 'num_leaves': 1853, 'max_depth': 200, 'learning_rate': 0.0012568548026805938, 'min_child_samples': 42}. Best is trial 112 with value: 0.2562189054726368.\n",
      "[I 2024-08-16 07:05:16,157] Trial 121 finished with value: 0.23661971830985915 and parameters: {'n_estimators': 1537, 'num_leaves': 1885, 'max_depth': 176, 'learning_rate': 0.011724142395277961, 'min_child_samples': 32}. Best is trial 112 with value: 0.2562189054726368.\n",
      "[I 2024-08-16 07:07:56,977] Trial 122 finished with value: 0.22900763358778625 and parameters: {'n_estimators': 1448, 'num_leaves': 1818, 'max_depth': 138, 'learning_rate': 0.006765560263336504, 'min_child_samples': 29}. Best is trial 112 with value: 0.2562189054726368.\n",
      "[I 2024-08-16 07:09:53,091] Trial 123 finished with value: 0.2540983606557377 and parameters: {'n_estimators': 1302, 'num_leaves': 1725, 'max_depth': 111, 'learning_rate': 0.0032791043275093453, 'min_child_samples': 38}. Best is trial 112 with value: 0.2562189054726368.\n",
      "[I 2024-08-16 07:11:46,614] Trial 124 finished with value: 0.24823695345557123 and parameters: {'n_estimators': 1311, 'num_leaves': 1911, 'max_depth': 98, 'learning_rate': 0.0034126231027588176, 'min_child_samples': 37}. Best is trial 112 with value: 0.2562189054726368.\n",
      "[I 2024-08-16 07:13:38,916] Trial 125 finished with value: 0.247787610619469 and parameters: {'n_estimators': 1315, 'num_leaves': 1918, 'max_depth': 95, 'learning_rate': 0.0037528002029631334, 'min_child_samples': 35}. Best is trial 112 with value: 0.2562189054726368.\n",
      "[I 2024-08-16 07:15:16,488] Trial 126 finished with value: 0.23679999999999998 and parameters: {'n_estimators': 1297, 'num_leaves': 1923, 'max_depth': 98, 'learning_rate': 0.0044519413012783764, 'min_child_samples': 48}. Best is trial 112 with value: 0.2562189054726368.\n",
      "[I 2024-08-16 07:20:06,300] Trial 127 finished with value: 0.23349056603773585 and parameters: {'n_estimators': 1373, 'num_leaves': 1996, 'max_depth': 92, 'learning_rate': 0.007384172006014215, 'min_child_samples': 7}. Best is trial 112 with value: 0.2562189054726368.\n",
      "[I 2024-08-16 07:21:54,460] Trial 128 finished with value: 0.21528861154446177 and parameters: {'n_estimators': 1444, 'num_leaves': 2134, 'max_depth': 110, 'learning_rate': 0.0032441943887348904, 'min_child_samples': 56}. Best is trial 112 with value: 0.2562189054726368.\n",
      "[I 2024-08-16 07:25:18,568] Trial 129 finished with value: 0.24089635854341737 and parameters: {'n_estimators': 1326, 'num_leaves': 1776, 'max_depth': 86, 'learning_rate': 0.008618556159222426, 'min_child_samples': 20}. Best is trial 112 with value: 0.2562189054726368.\n",
      "[I 2024-08-16 07:28:12,620] Trial 130 finished with value: 0.12760196310712474 and parameters: {'n_estimators': 1311, 'num_leaves': 1763, 'max_depth': 88, 'learning_rate': 0.0010425925206152716, 'min_child_samples': 20}. Best is trial 112 with value: 0.2562189054726368.\n",
      "[I 2024-08-16 07:30:26,522] Trial 131 finished with value: 0.23360000000000003 and parameters: {'n_estimators': 1404, 'num_leaves': 1903, 'max_depth': 102, 'learning_rate': 0.008415706843886116, 'min_child_samples': 37}. Best is trial 112 with value: 0.2562189054726368.\n",
      "[I 2024-08-16 07:33:01,519] Trial 132 finished with value: 0.2222222222222222 and parameters: {'n_estimators': 1331, 'num_leaves': 1783, 'max_depth': 79, 'learning_rate': 0.0037079906167294674, 'min_child_samples': 28}. Best is trial 112 with value: 0.2562189054726368.\n",
      "[I 2024-08-16 07:36:39,823] Trial 133 finished with value: 0.2325 and parameters: {'n_estimators': 1492, 'num_leaves': 1684, 'max_depth': 97, 'learning_rate': 0.013693746465077365, 'min_child_samples': 19}. Best is trial 112 with value: 0.2562189054726368.\n",
      "[I 2024-08-16 07:38:33,713] Trial 134 finished with value: 0.22756410256410253 and parameters: {'n_estimators': 1269, 'num_leaves': 2066, 'max_depth': 86, 'learning_rate': 0.005064536993398571, 'min_child_samples': 40}. Best is trial 112 with value: 0.2562189054726368.\n",
      "[I 2024-08-16 07:40:49,290] Trial 135 finished with value: 0.2260596546310832 and parameters: {'n_estimators': 1358, 'num_leaves': 1969, 'max_depth': 105, 'learning_rate': 0.006585455563157134, 'min_child_samples': 34}. Best is trial 112 with value: 0.2562189054726368.\n",
      "[I 2024-08-16 07:42:59,703] Trial 136 finished with value: 0.2236842105263158 and parameters: {'n_estimators': 1463, 'num_leaves': 1883, 'max_depth': 115, 'learning_rate': 0.009574199114583999, 'min_child_samples': 49}. Best is trial 112 with value: 0.2562189054726368.\n",
      "[I 2024-08-16 07:46:29,222] Trial 137 finished with value: 0.22834645669291337 and parameters: {'n_estimators': 1619, 'num_leaves': 1817, 'max_depth': 95, 'learning_rate': 0.011814477655596803, 'min_child_samples': 26}. Best is trial 112 with value: 0.2562189054726368.\n",
      "[I 2024-08-16 07:51:23,428] Trial 138 finished with value: 0.2219419924337957 and parameters: {'n_estimators': 1393, 'num_leaves': 1723, 'max_depth': 76, 'learning_rate': 0.0191420203747864, 'min_child_samples': 8}. Best is trial 112 with value: 0.2562189054726368.\n",
      "[I 2024-08-16 07:55:21,939] Trial 139 finished with value: 0.22722820763956902 and parameters: {'n_estimators': 1277, 'num_leaves': 1621, 'max_depth': 266, 'learning_rate': 0.002765464596189045, 'min_child_samples': 13}. Best is trial 112 with value: 0.2562189054726368.\n",
      "[I 2024-08-16 07:57:30,549] Trial 140 finished with value: 0.23785594639866 and parameters: {'n_estimators': 1339, 'num_leaves': 1817, 'max_depth': 111, 'learning_rate': 0.005576544429985304, 'min_child_samples': 44}. Best is trial 112 with value: 0.2562189054726368.\n",
      "[I 2024-08-16 07:59:31,327] Trial 141 finished with value: 0.23734177215189872 and parameters: {'n_estimators': 1230, 'num_leaves': 1303, 'max_depth': 126, 'learning_rate': 0.009489835623867512, 'min_child_samples': 34}. Best is trial 112 with value: 0.2562189054726368.\n",
      "[I 2024-08-16 08:01:38,939] Trial 142 finished with value: 0.2337662337662338 and parameters: {'n_estimators': 1211, 'num_leaves': 1957, 'max_depth': 121, 'learning_rate': 0.01563574060584327, 'min_child_samples': 36}. Best is trial 112 with value: 0.2562189054726368.\n",
      "[I 2024-08-16 08:05:04,458] Trial 143 finished with value: 0.23680456490727533 and parameters: {'n_estimators': 1421, 'num_leaves': 1679, 'max_depth': 117, 'learning_rate': 0.007991823577016274, 'min_child_samples': 22}. Best is trial 112 with value: 0.2562189054726368.\n",
      "[I 2024-08-16 08:07:23,964] Trial 144 finished with value: 0.23652694610778444 and parameters: {'n_estimators': 1194, 'num_leaves': 1759, 'max_depth': 102, 'learning_rate': 0.01078820167367403, 'min_child_samples': 30}. Best is trial 112 with value: 0.2562189054726368.\n",
      "[I 2024-08-16 08:09:29,763] Trial 145 finished with value: 0.23679999999999998 and parameters: {'n_estimators': 1287, 'num_leaves': 1902, 'max_depth': 89, 'learning_rate': 0.004432199005783717, 'min_child_samples': 41}. Best is trial 112 with value: 0.2562189054726368.\n",
      "[I 2024-08-16 08:13:10,837] Trial 146 finished with value: 0.2383939774153074 and parameters: {'n_estimators': 1510, 'num_leaves': 2011, 'max_depth': 128, 'learning_rate': 0.0027136152122371757, 'min_child_samples': 20}. Best is trial 112 with value: 0.2562189054726368.\n",
      "[I 2024-08-16 08:14:59,479] Trial 147 finished with value: 0.22653721682847894 and parameters: {'n_estimators': 1357, 'num_leaves': 1853, 'max_depth': 111, 'learning_rate': 0.012864446188094202, 'min_child_samples': 51}. Best is trial 112 with value: 0.2562189054726368.\n",
      "[I 2024-08-16 08:17:36,665] Trial 148 finished with value: 0.14370468029004613 and parameters: {'n_estimators': 1412, 'num_leaves': 1518, 'max_depth': 94, 'learning_rate': 0.001055022183702274, 'min_child_samples': 27}. Best is trial 112 with value: 0.2562189054726368.\n",
      "[I 2024-08-16 08:19:43,950] Trial 149 finished with value: 0.2380952380952381 and parameters: {'n_estimators': 1326, 'num_leaves': 1635, 'max_depth': 144, 'learning_rate': 0.00750663500292835, 'min_child_samples': 35}. Best is trial 112 with value: 0.2562189054726368.\n",
      "[I 2024-08-16 08:24:19,608] Trial 150 finished with value: 0.21864951768488747 and parameters: {'n_estimators': 1255, 'num_leaves': 1930, 'max_depth': 299, 'learning_rate': 0.005293802636491655, 'min_child_samples': 3}. Best is trial 112 with value: 0.2562189054726368.\n",
      "[I 2024-08-16 08:29:11,460] Trial 151 finished with value: 0.23868312757201646 and parameters: {'n_estimators': 1991, 'num_leaves': 1803, 'max_depth': 130, 'learning_rate': 0.0027341643845995743, 'min_child_samples': 19}. Best is trial 112 with value: 0.2562189054726368.\n",
      "[I 2024-08-16 08:33:39,559] Trial 152 finished with value: 0.23544631306597671 and parameters: {'n_estimators': 2051, 'num_leaves': 1056, 'max_depth': 152, 'learning_rate': 0.0036556003634988614, 'min_child_samples': 15}. Best is trial 112 with value: 0.2562189054726368.\n",
      "[I 2024-08-16 08:37:44,545] Trial 153 finished with value: 0.2437591776798825 and parameters: {'n_estimators': 1956, 'num_leaves': 1795, 'max_depth': 123, 'learning_rate': 0.00600952308447395, 'min_child_samples': 24}. Best is trial 112 with value: 0.2562189054726368.\n",
      "[I 2024-08-16 08:41:30,972] Trial 154 finished with value: 0.2282608695652174 and parameters: {'n_estimators': 1990, 'num_leaves': 1730, 'max_depth': 122, 'learning_rate': 0.010193357872758796, 'min_child_samples': 32}. Best is trial 112 with value: 0.2562189054726368.\n",
      "[I 2024-08-16 08:43:32,496] Trial 155 finished with value: 0.233974358974359 and parameters: {'n_estimators': 1375, 'num_leaves': 1859, 'max_depth': 105, 'learning_rate': 0.008502584888289803, 'min_child_samples': 42}. Best is trial 112 with value: 0.2562189054726368.\n",
      "[I 2024-08-16 08:46:30,384] Trial 156 finished with value: 0.2485380116959064 and parameters: {'n_estimators': 1460, 'num_leaves': 1439, 'max_depth': 138, 'learning_rate': 0.007141747065335229, 'min_child_samples': 25}. Best is trial 112 with value: 0.2562189054726368.\n",
      "[I 2024-08-16 08:49:19,012] Trial 157 finished with value: 0.23303834808259588 and parameters: {'n_estimators': 1465, 'num_leaves': 1690, 'max_depth': 139, 'learning_rate': 0.00484602065625297, 'min_child_samples': 26}. Best is trial 112 with value: 0.2562189054726368.\n",
      "[I 2024-08-16 08:54:42,591] Trial 158 finished with value: 0.21874999999999997 and parameters: {'n_estimators': 1566, 'num_leaves': 1770, 'max_depth': 117, 'learning_rate': 0.006004486704701049, 'min_child_samples': 10}. Best is trial 112 with value: 0.2562189054726368.\n",
      "[I 2024-08-16 08:59:41,171] Trial 159 finished with value: 0.2292490118577075 and parameters: {'n_estimators': 2192, 'num_leaves': 1593, 'max_depth': 82, 'learning_rate': 0.0067972359471024655, 'min_child_samples': 22}. Best is trial 112 with value: 0.2562189054726368.\n",
      "[I 2024-08-16 09:01:52,998] Trial 160 finished with value: 0.1557503867973182 and parameters: {'n_estimators': 1514, 'num_leaves': 2038, 'max_depth': 136, 'learning_rate': 0.0010398727155642943, 'min_child_samples': 48}. Best is trial 112 with value: 0.2562189054726368.\n",
      "[I 2024-08-16 09:04:10,381] Trial 161 finished with value: 0.24279210925644912 and parameters: {'n_estimators': 1319, 'num_leaves': 1448, 'max_depth': 109, 'learning_rate': 0.011294327959750149, 'min_child_samples': 37}. Best is trial 112 with value: 0.2562189054726368.\n",
      "[I 2024-08-16 09:06:31,320] Trial 162 finished with value: 0.24182076813655765 and parameters: {'n_estimators': 1312, 'num_leaves': 1431, 'max_depth': 99, 'learning_rate': 0.011751487061909423, 'min_child_samples': 29}. Best is trial 112 with value: 0.2562189054726368.\n",
      "[I 2024-08-16 09:09:07,070] Trial 163 finished with value: 0.23342175066312998 and parameters: {'n_estimators': 1311, 'num_leaves': 1383, 'max_depth': 111, 'learning_rate': 0.014136059699224006, 'min_child_samples': 24}. Best is trial 112 with value: 0.2562189054726368.\n",
      "[I 2024-08-16 09:13:24,078] Trial 164 finished with value: 0.23904382470119526 and parameters: {'n_estimators': 2344, 'num_leaves': 1494, 'max_depth': 106, 'learning_rate': 0.0077392121096654465, 'min_child_samples': 31}. Best is trial 112 with value: 0.2562189054726368.\n",
      "[I 2024-08-16 09:15:57,694] Trial 165 finished with value: 0.24962852897473997 and parameters: {'n_estimators': 1434, 'num_leaves': 1329, 'max_depth': 100, 'learning_rate': 0.0035163778376001093, 'min_child_samples': 37}. Best is trial 112 with value: 0.2562189054726368.\n",
      "[I 2024-08-16 09:18:14,710] Trial 166 finished with value: 0.24355300859598852 and parameters: {'n_estimators': 1435, 'num_leaves': 1341, 'max_depth': 236, 'learning_rate': 0.003061952882410399, 'min_child_samples': 38}. Best is trial 112 with value: 0.2562189054726368.\n",
      "[I 2024-08-16 09:20:13,601] Trial 167 finished with value: 0.21018062397372742 and parameters: {'n_estimators': 1444, 'num_leaves': 1270, 'max_depth': 243, 'learning_rate': 0.004039577566179708, 'min_child_samples': 58}. Best is trial 112 with value: 0.2562189054726368.\n",
      "[I 2024-08-16 09:21:40,764] Trial 168 finished with value: 0.1978021978021978 and parameters: {'n_estimators': 1743, 'num_leaves': 1350, 'max_depth': 130, 'learning_rate': 0.022926758194141635, 'min_child_samples': 261}. Best is trial 112 with value: 0.2562189054726368.\n",
      "[I 2024-08-16 09:24:54,154] Trial 169 finished with value: 0.23151125401929262 and parameters: {'n_estimators': 1597, 'num_leaves': 1469, 'max_depth': 226, 'learning_rate': 0.0037366511238707953, 'min_child_samples': 38}. Best is trial 112 with value: 0.2562189054726368.\n",
      "[I 2024-08-16 09:27:40,991] Trial 170 finished with value: 0.22885572139303484 and parameters: {'n_estimators': 1480, 'num_leaves': 1241, 'max_depth': 150, 'learning_rate': 0.006225817760639571, 'min_child_samples': 44}. Best is trial 112 with value: 0.2562189054726368.\n",
      "[I 2024-08-16 09:29:25,837] Trial 171 finished with value: 0.24846248462484627 and parameters: {'n_estimators': 1397, 'num_leaves': 1307, 'max_depth': 100, 'learning_rate': 0.00256354207013715, 'min_child_samples': 30}. Best is trial 112 with value: 0.2562189054726368.\n",
      "[I 2024-08-16 09:31:06,049] Trial 172 finished with value: 0.2545931758530184 and parameters: {'n_estimators': 1417, 'num_leaves': 1267, 'max_depth': 113, 'learning_rate': 0.002511955903243819, 'min_child_samples': 37}. Best is trial 112 with value: 0.2562189054726368.\n",
      "[I 2024-08-16 09:32:57,814] Trial 173 finished with value: 0.23300970873786409 and parameters: {'n_estimators': 1409, 'num_leaves': 1173, 'max_depth': 219, 'learning_rate': 0.0025694159166105776, 'min_child_samples': 54}. Best is trial 112 with value: 0.2562189054726368.\n",
      "[I 2024-08-16 09:35:17,292] Trial 174 finished with value: 0.2356589147286822 and parameters: {'n_estimators': 1527, 'num_leaves': 1372, 'max_depth': 116, 'learning_rate': 0.0029489417503242668, 'min_child_samples': 46}. Best is trial 112 with value: 0.2562189054726368.\n",
      "[I 2024-08-16 09:37:51,170] Trial 175 finished with value: 0.23183925811437403 and parameters: {'n_estimators': 1419, 'num_leaves': 1302, 'max_depth': 238, 'learning_rate': 0.005566850899139178, 'min_child_samples': 31}. Best is trial 112 with value: 0.2562189054726368.\n",
      "[I 2024-08-16 09:40:44,289] Trial 176 finished with value: 0.216255442670537 and parameters: {'n_estimators': 1460, 'num_leaves': 1257, 'max_depth': 259, 'learning_rate': 0.0015890539254701948, 'min_child_samples': 26}. Best is trial 112 with value: 0.2562189054726368.\n",
      "[I 2024-08-16 09:44:32,441] Trial 177 finished with value: 0.23037974683544307 and parameters: {'n_estimators': 1394, 'num_leaves': 1313, 'max_depth': 101, 'learning_rate': 0.004265207178673763, 'min_child_samples': 13}. Best is trial 112 with value: 0.2562189054726368.\n",
      "[I 2024-08-16 09:46:31,259] Trial 178 finished with value: 0.2419354838709677 and parameters: {'n_estimators': 1254, 'num_leaves': 1213, 'max_depth': 141, 'learning_rate': 0.006237000158106432, 'min_child_samples': 39}. Best is trial 112 with value: 0.2562189054726368.\n",
      "[I 2024-08-16 09:49:18,161] Trial 179 finished with value: 0.19759036144578312 and parameters: {'n_estimators': 1492, 'num_leaves': 1154, 'max_depth': 271, 'learning_rate': 0.0014012946482402783, 'min_child_samples': 34}. Best is trial 112 with value: 0.2562189054726368.\n",
      "[I 2024-08-16 09:52:05,364] Trial 180 finished with value: 0.23450586264656614 and parameters: {'n_estimators': 2104, 'num_leaves': 1320, 'max_depth': 123, 'learning_rate': 0.00401714354852225, 'min_child_samples': 48}. Best is trial 112 with value: 0.2562189054726368.\n",
      "[I 2024-08-16 09:54:05,322] Trial 181 finished with value: 0.23529411764705882 and parameters: {'n_estimators': 1384, 'num_leaves': 1381, 'max_depth': 113, 'learning_rate': 0.006703818008367543, 'min_child_samples': 37}. Best is trial 112 with value: 0.2562189054726368.\n",
      "[I 2024-08-16 09:56:19,566] Trial 182 finished with value: 0.10302036993678296 and parameters: {'n_estimators': 1276, 'num_leaves': 1430, 'max_depth': 108, 'learning_rate': 0.001004560946896129, 'min_child_samples': 27}. Best is trial 112 with value: 0.2562189054726368.\n",
      "[I 2024-08-16 09:58:25,478] Trial 183 finished with value: 0.23300970873786403 and parameters: {'n_estimators': 1358, 'num_leaves': 1031, 'max_depth': 92, 'learning_rate': 0.004795527426010368, 'min_child_samples': 39}. Best is trial 112 with value: 0.2562189054726368.\n",
      "[I 2024-08-16 10:01:45,590] Trial 184 finished with value: 0.2360248447204969 and parameters: {'n_estimators': 1437, 'num_leaves': 1121, 'max_depth': 105, 'learning_rate': 0.03031214863667346, 'min_child_samples': 32}. Best is trial 112 with value: 0.2562189054726368.\n",
      "[I 2024-08-16 10:03:55,024] Trial 185 finished with value: 0.23494860499265785 and parameters: {'n_estimators': 1332, 'num_leaves': 1555, 'max_depth': 120, 'learning_rate': 0.0031099109150819603, 'min_child_samples': 44}. Best is trial 112 with value: 0.2562189054726368.\n",
      "[I 2024-08-16 10:07:42,511] Trial 186 finished with value: 0.22768434670116428 and parameters: {'n_estimators': 1556, 'num_leaves': 1217, 'max_depth': 127, 'learning_rate': 0.007772442610406386, 'min_child_samples': 15}. Best is trial 112 with value: 0.2562189054726368.\n",
      "[I 2024-08-16 10:10:40,393] Trial 187 finished with value: 0.2496493688639551 and parameters: {'n_estimators': 1279, 'num_leaves': 1355, 'max_depth': 111, 'learning_rate': 0.005706826868188543, 'min_child_samples': 20}. Best is trial 112 with value: 0.2562189054726368.\n",
      "[I 2024-08-16 10:12:26,800] Trial 188 finished with value: 0.2452316076294278 and parameters: {'n_estimators': 1208, 'num_leaves': 1278, 'max_depth': 136, 'learning_rate': 0.005300058838539686, 'min_child_samples': 18}. Best is trial 112 with value: 0.2562189054726368.\n",
      "[I 2024-08-16 10:13:53,548] Trial 189 finished with value: 0.23181257706535138 and parameters: {'n_estimators': 1217, 'num_leaves': 1329, 'max_depth': 138, 'learning_rate': 0.003071072125916939, 'min_child_samples': 23}. Best is trial 112 with value: 0.2562189054726368.\n",
      "[I 2024-08-16 10:15:23,711] Trial 190 finished with value: 0.250351617440225 and parameters: {'n_estimators': 1249, 'num_leaves': 1277, 'max_depth': 133, 'learning_rate': 0.006002449813450614, 'min_child_samples': 20}. Best is trial 112 with value: 0.2562189054726368.\n",
      "[I 2024-08-16 10:16:53,869] Trial 191 finished with value: 0.24823695345557123 and parameters: {'n_estimators': 1238, 'num_leaves': 1259, 'max_depth': 145, 'learning_rate': 0.005634491175061663, 'min_child_samples': 22}. Best is trial 112 with value: 0.2562189054726368.\n",
      "[I 2024-08-16 10:18:34,903] Trial 192 finished with value: 0.24551724137931036 and parameters: {'n_estimators': 1191, 'num_leaves': 1264, 'max_depth': 148, 'learning_rate': 0.006238169893789929, 'min_child_samples': 18}. Best is trial 112 with value: 0.2562189054726368.\n",
      "[I 2024-08-16 10:20:11,827] Trial 193 finished with value: 0.2385575589459085 and parameters: {'n_estimators': 1165, 'num_leaves': 1277, 'max_depth': 144, 'learning_rate': 0.008013053368925264, 'min_child_samples': 17}. Best is trial 112 with value: 0.2562189054726368.\n",
      "[I 2024-08-16 10:21:49,586] Trial 194 finished with value: 0.23705722070844684 and parameters: {'n_estimators': 1252, 'num_leaves': 1203, 'max_depth': 158, 'learning_rate': 0.005438967054133537, 'min_child_samples': 18}. Best is trial 112 with value: 0.2562189054726368.\n",
      "[I 2024-08-16 10:23:21,840] Trial 195 finished with value: 0.2172949002217295 and parameters: {'n_estimators': 1183, 'num_leaves': 1249, 'max_depth': 147, 'learning_rate': 0.005015488529037229, 'min_child_samples': 7}. Best is trial 112 with value: 0.2562189054726368.\n",
      "[I 2024-08-16 10:24:29,792] Trial 196 finished with value: 0.22950819672131145 and parameters: {'n_estimators': 1077, 'num_leaves': 1214, 'max_depth': 135, 'learning_rate': 0.009150710520056383, 'min_child_samples': 28}. Best is trial 112 with value: 0.2562189054726368.\n",
      "[I 2024-08-16 10:25:52,067] Trial 197 finished with value: 0.10302036993678296 and parameters: {'n_estimators': 1227, 'num_leaves': 1401, 'max_depth': 153, 'learning_rate': 0.0010692702267188154, 'min_child_samples': 21}. Best is trial 112 with value: 0.2562189054726368.\n",
      "[I 2024-08-16 10:27:17,179] Trial 198 finished with value: 0.22787878787878788 and parameters: {'n_estimators': 1274, 'num_leaves': 1130, 'max_depth': 142, 'learning_rate': 0.006810852473492572, 'min_child_samples': 9}. Best is trial 112 with value: 0.2562189054726368.\n",
      "[I 2024-08-16 10:28:25,895] Trial 199 finished with value: 0.22123893805309736 and parameters: {'n_estimators': 1197, 'num_leaves': 1295, 'max_depth': 164, 'learning_rate': 0.004374928124833041, 'min_child_samples': 30}. Best is trial 112 with value: 0.2562189054726368.\n",
      "[I 2024-08-16 10:30:05,659] Trial 200 finished with value: 0.2261306532663317 and parameters: {'n_estimators': 1280, 'num_leaves': 1247, 'max_depth': 132, 'learning_rate': 0.007165852043406365, 'min_child_samples': 13}. Best is trial 112 with value: 0.2562189054726368.\n",
      "[I 2024-08-16 10:32:18,626] Trial 201 finished with value: 0.24633431085043994 and parameters: {'n_estimators': 1885, 'num_leaves': 1342, 'max_depth': 130, 'learning_rate': 0.005718333389382027, 'min_child_samples': 25}. Best is trial 112 with value: 0.2562189054726368.\n",
      "[I 2024-08-16 10:34:31,067] Trial 202 finished with value: 0.24191279887482417 and parameters: {'n_estimators': 1851, 'num_leaves': 1349, 'max_depth': 134, 'learning_rate': 0.0031998037073665553, 'min_child_samples': 23}. Best is trial 112 with value: 0.2562189054726368.\n",
      "[I 2024-08-16 10:37:27,350] Trial 203 finished with value: 0.23311258278145697 and parameters: {'n_estimators': 1364, 'num_leaves': 1280, 'max_depth': 147, 'learning_rate': 0.009479635426891932, 'min_child_samples': 18}. Best is trial 112 with value: 0.2562189054726368.\n",
      "[I 2024-08-16 10:39:53,068] Trial 204 finished with value: 0.23135464231354644 and parameters: {'n_estimators': 1240, 'num_leaves': 1402, 'max_depth': 128, 'learning_rate': 0.005271449874663046, 'min_child_samples': 31}. Best is trial 112 with value: 0.2562189054726368.\n",
      "[I 2024-08-16 10:42:14,457] Trial 205 finished with value: 0.2295514511873351 and parameters: {'n_estimators': 1310, 'num_leaves': 1354, 'max_depth': 140, 'learning_rate': 0.0033740750862473923, 'min_child_samples': 26}. Best is trial 112 with value: 0.2562189054726368.\n",
      "[I 2024-08-16 10:44:02,608] Trial 206 finished with value: 0.23380726698262244 and parameters: {'n_estimators': 1140, 'num_leaves': 1194, 'max_depth': 96, 'learning_rate': 0.007016761241522705, 'min_child_samples': 33}. Best is trial 112 with value: 0.2562189054726368.\n",
      "[I 2024-08-16 10:46:01,184] Trial 207 finished with value: 0.23255813953488372 and parameters: {'n_estimators': 1357, 'num_leaves': 1086, 'max_depth': 113, 'learning_rate': 0.004675918542802503, 'min_child_samples': 35}. Best is trial 112 with value: 0.2562189054726368.\n",
      "[I 2024-08-16 10:48:04,292] Trial 208 finished with value: 0.2378223495702006 and parameters: {'n_estimators': 1291, 'num_leaves': 1318, 'max_depth': 103, 'learning_rate': 0.008608006504828111, 'min_child_samples': 22}. Best is trial 112 with value: 0.2562189054726368.\n",
      "[I 2024-08-16 10:49:06,047] Trial 209 finished with value: 0.23207301173402867 and parameters: {'n_estimators': 1210, 'num_leaves': 1959, 'max_depth': 134, 'learning_rate': 0.0028804151047809434, 'min_child_samples': 42}. Best is trial 112 with value: 0.2562189054726368.\n",
      "[I 2024-08-16 10:51:03,779] Trial 210 finished with value: 0.24675324675324678 and parameters: {'n_estimators': 1391, 'num_leaves': 1252, 'max_depth': 155, 'learning_rate': 0.00645045402160957, 'min_child_samples': 14}. Best is trial 112 with value: 0.2562189054726368.\n",
      "[I 2024-08-16 10:53:15,657] Trial 211 finished with value: 0.22900763358778628 and parameters: {'n_estimators': 1378, 'num_leaves': 1267, 'max_depth': 147, 'learning_rate': 0.0059492189941475525, 'min_child_samples': 12}. Best is trial 112 with value: 0.2562189054726368.\n",
      "[I 2024-08-16 10:54:57,978] Trial 212 finished with value: 0.2233502538071066 and parameters: {'n_estimators': 1293, 'num_leaves': 1232, 'max_depth': 152, 'learning_rate': 0.0027122406156065947, 'min_child_samples': 17}. Best is trial 112 with value: 0.2562189054726368.\n",
      "[I 2024-08-16 10:56:38,030] Trial 213 finished with value: 0.2414772727272727 and parameters: {'n_estimators': 1409, 'num_leaves': 1166, 'max_depth': 160, 'learning_rate': 0.010226381275021682, 'min_child_samples': 28}. Best is trial 112 with value: 0.2562189054726368.\n",
      "[I 2024-08-16 10:59:18,069] Trial 214 finished with value: 0.22346368715083795 and parameters: {'n_estimators': 1327, 'num_leaves': 1365, 'max_depth': 142, 'learning_rate': 0.005225633235855702, 'min_child_samples': 5}. Best is trial 112 with value: 0.2562189054726368.\n",
      "[I 2024-08-16 11:02:12,623] Trial 215 finished with value: 0.24251497005988024 and parameters: {'n_estimators': 1255, 'num_leaves': 1316, 'max_depth': 119, 'learning_rate': 0.006747229261126442, 'min_child_samples': 26}. Best is trial 112 with value: 0.2562189054726368.\n",
      "[I 2024-08-16 11:04:07,288] Trial 216 finished with value: 0.10302036993678296 and parameters: {'n_estimators': 1187, 'num_leaves': 1842, 'max_depth': 128, 'learning_rate': 0.0010620111641793644, 'min_child_samples': 35}. Best is trial 112 with value: 0.2562189054726368.\n",
      "[I 2024-08-16 11:06:59,500] Trial 217 finished with value: 0.23578363384188628 and parameters: {'n_estimators': 1362, 'num_leaves': 1912, 'max_depth': 100, 'learning_rate': 0.008223385837650952, 'min_child_samples': 20}. Best is trial 112 with value: 0.2562189054726368.\n",
      "[I 2024-08-16 11:09:30,700] Trial 218 finished with value: 0.23112480739599384 and parameters: {'n_estimators': 1467, 'num_leaves': 1199, 'max_depth': 155, 'learning_rate': 0.00418400485954028, 'min_child_samples': 30}. Best is trial 112 with value: 0.2562189054726368.\n",
      "[I 2024-08-16 11:12:47,220] Trial 219 finished with value: 0.21635434412265758 and parameters: {'n_estimators': 1105, 'num_leaves': 1402, 'max_depth': 137, 'learning_rate': 0.002602377380835176, 'min_child_samples': 12}. Best is trial 112 with value: 0.2562189054726368.\n",
      "[I 2024-08-16 11:15:12,659] Trial 220 finished with value: 0.2302631578947368 and parameters: {'n_estimators': 1413, 'num_leaves': 1470, 'max_depth': 114, 'learning_rate': 0.006288354497340649, 'min_child_samples': 41}. Best is trial 112 with value: 0.2562189054726368.\n",
      "[I 2024-08-16 11:20:04,807] Trial 221 finished with value: 0.24926686217008795 and parameters: {'n_estimators': 1939, 'num_leaves': 1864, 'max_depth': 118, 'learning_rate': 0.005327643282103196, 'min_child_samples': 24}. Best is trial 112 with value: 0.2562189054726368.\n",
      "[I 2024-08-16 11:24:25,485] Trial 222 finished with value: 0.25392296718972895 and parameters: {'n_estimators': 1873, 'num_leaves': 1851, 'max_depth': 111, 'learning_rate': 0.004729890088460104, 'min_child_samples': 22}. Best is trial 112 with value: 0.2562189054726368.\n",
      "[I 2024-08-16 11:27:18,657] Trial 223 finished with value: 0.2338709677419355 and parameters: {'n_estimators': 1917, 'num_leaves': 1823, 'max_depth': 109, 'learning_rate': 0.005034540304598081, 'min_child_samples': 18}. Best is trial 112 with value: 0.2562189054726368.\n",
      "[I 2024-08-16 11:29:33,691] Trial 224 finished with value: 0.2393397524071527 and parameters: {'n_estimators': 1843, 'num_leaves': 1280, 'max_depth': 118, 'learning_rate': 0.007840517951066913, 'min_child_samples': 24}. Best is trial 112 with value: 0.2562189054726368.\n",
      "[I 2024-08-16 11:32:39,397] Trial 225 finished with value: 0.22794117647058826 and parameters: {'n_estimators': 1882, 'num_leaves': 1728, 'max_depth': 126, 'learning_rate': 0.009830674480753341, 'min_child_samples': 15}. Best is trial 112 with value: 0.2562189054726368.\n",
      "[I 2024-08-16 11:34:06,634] Trial 226 finished with value: 0.22575976845151954 and parameters: {'n_estimators': 1239, 'num_leaves': 1989, 'max_depth': 133, 'learning_rate': 0.00459746030209508, 'min_child_samples': 25}. Best is trial 112 with value: 0.2562189054726368.\n",
      "[W 2024-08-16 11:35:30,881] Trial 227 failed with parameters: {'n_estimators': 1922, 'num_leaves': 1873, 'max_depth': 122, 'learning_rate': 0.0011256135813575703, 'min_child_samples': 3} because of the following error: KeyboardInterrupt().\n",
      "Traceback (most recent call last):\n",
      "  File \"c:\\Users\\juneh\\AppData\\Local\\Programs\\Python\\Python37\\lib\\site-packages\\optuna\\study\\_optimize.py\", line 196, in _run_trial\n",
      "    value_or_values = func(trial)\n",
      "  File \"C:\\Users\\juneh\\AppData\\Local\\Temp\\ipykernel_3056\\3172267017.py\", line 45, in <lambda>\n",
      "    study.optimize(lambda trial: objectiveLGBM_dart(trial, x_train, y_train, x_val, y_val), n_trials=300)\n",
      "  File \"C:\\Users\\juneh\\AppData\\Local\\Temp\\ipykernel_3056\\3172267017.py\", line 26, in objectiveLGBM_dart\n",
      "    model.fit(x_tr, y_tr)\n",
      "  File \"c:\\Users\\juneh\\AppData\\Local\\Programs\\Python\\Python37\\lib\\site-packages\\lightgbm\\sklearn.py\", line 1298, in fit\n",
      "    init_model=init_model,\n",
      "  File \"c:\\Users\\juneh\\AppData\\Local\\Programs\\Python\\Python37\\lib\\site-packages\\lightgbm\\sklearn.py\", line 963, in fit\n",
      "    callbacks=callbacks,\n",
      "  File \"c:\\Users\\juneh\\AppData\\Local\\Programs\\Python\\Python37\\lib\\site-packages\\lightgbm\\engine.py\", line 307, in train\n",
      "    booster.update(fobj=fobj)\n",
      "  File \"c:\\Users\\juneh\\AppData\\Local\\Programs\\Python\\Python37\\lib\\site-packages\\lightgbm\\basic.py\", line 4138, in update\n",
      "    ctypes.byref(is_finished),\n",
      "KeyboardInterrupt\n",
      "[W 2024-08-16 11:35:30,985] Trial 227 failed with value None.\n"
     ]
    },
    {
     "ename": "KeyboardInterrupt",
     "evalue": "",
     "output_type": "error",
     "traceback": [
      "\u001b[1;31m---------------------------------------------------------------------------\u001b[0m",
      "\u001b[1;31mKeyboardInterrupt\u001b[0m                         Traceback (most recent call last)",
      "\u001b[1;32m~\\AppData\\Local\\Temp\\ipykernel_3056\\3172267017.py\u001b[0m in \u001b[0;36m<module>\u001b[1;34m\u001b[0m\n\u001b[0;32m     43\u001b[0m \u001b[1;31m# 하이퍼 파라미터 튜닝\u001b[0m\u001b[1;33m\u001b[0m\u001b[1;33m\u001b[0m\u001b[1;33m\u001b[0m\u001b[0m\n\u001b[0;32m     44\u001b[0m \u001b[0mstudy\u001b[0m \u001b[1;33m=\u001b[0m \u001b[0moptuna\u001b[0m\u001b[1;33m.\u001b[0m\u001b[0mcreate_study\u001b[0m\u001b[1;33m(\u001b[0m\u001b[0mdirection\u001b[0m\u001b[1;33m=\u001b[0m\u001b[1;34m'maximize'\u001b[0m\u001b[1;33m,\u001b[0m \u001b[0msampler\u001b[0m\u001b[1;33m=\u001b[0m\u001b[0moptuna\u001b[0m\u001b[1;33m.\u001b[0m\u001b[0msamplers\u001b[0m\u001b[1;33m.\u001b[0m\u001b[0mTPESampler\u001b[0m\u001b[1;33m(\u001b[0m\u001b[0mseed\u001b[0m\u001b[1;33m=\u001b[0m\u001b[0mRANDOM_STATE\u001b[0m\u001b[1;33m)\u001b[0m\u001b[1;33m)\u001b[0m\u001b[1;33m\u001b[0m\u001b[1;33m\u001b[0m\u001b[0m\n\u001b[1;32m---> 45\u001b[1;33m \u001b[0mstudy\u001b[0m\u001b[1;33m.\u001b[0m\u001b[0moptimize\u001b[0m\u001b[1;33m(\u001b[0m\u001b[1;32mlambda\u001b[0m \u001b[0mtrial\u001b[0m\u001b[1;33m:\u001b[0m \u001b[0mobjectiveLGBM_dart\u001b[0m\u001b[1;33m(\u001b[0m\u001b[0mtrial\u001b[0m\u001b[1;33m,\u001b[0m \u001b[0mx_train\u001b[0m\u001b[1;33m,\u001b[0m \u001b[0my_train\u001b[0m\u001b[1;33m,\u001b[0m \u001b[0mx_val\u001b[0m\u001b[1;33m,\u001b[0m \u001b[0my_val\u001b[0m\u001b[1;33m)\u001b[0m\u001b[1;33m,\u001b[0m \u001b[0mn_trials\u001b[0m\u001b[1;33m=\u001b[0m\u001b[1;36m300\u001b[0m\u001b[1;33m)\u001b[0m\u001b[1;33m\u001b[0m\u001b[1;33m\u001b[0m\u001b[0m\n\u001b[0m\u001b[0;32m     46\u001b[0m \u001b[1;33m\u001b[0m\u001b[0m\n\u001b[0;32m     47\u001b[0m \u001b[0mprint\u001b[0m\u001b[1;33m(\u001b[0m\u001b[1;34m'Best trial: score {}, \\nparams {}'\u001b[0m\u001b[1;33m.\u001b[0m\u001b[0mformat\u001b[0m\u001b[1;33m(\u001b[0m\u001b[0mstudy\u001b[0m\u001b[1;33m.\u001b[0m\u001b[0mbest_trial\u001b[0m\u001b[1;33m.\u001b[0m\u001b[0mvalue\u001b[0m\u001b[1;33m,\u001b[0m \u001b[0mstudy\u001b[0m\u001b[1;33m.\u001b[0m\u001b[0mbest_trial\u001b[0m\u001b[1;33m.\u001b[0m\u001b[0mparams\u001b[0m\u001b[1;33m)\u001b[0m\u001b[1;33m)\u001b[0m\u001b[1;33m\u001b[0m\u001b[1;33m\u001b[0m\u001b[0m\n",
      "\u001b[1;32mc:\\Users\\juneh\\AppData\\Local\\Programs\\Python\\Python37\\lib\\site-packages\\optuna\\study\\study.py\u001b[0m in \u001b[0;36moptimize\u001b[1;34m(self, func, n_trials, timeout, n_jobs, catch, callbacks, gc_after_trial, show_progress_bar)\u001b[0m\n\u001b[0;32m    458\u001b[0m             \u001b[0mcallbacks\u001b[0m\u001b[1;33m=\u001b[0m\u001b[0mcallbacks\u001b[0m\u001b[1;33m,\u001b[0m\u001b[1;33m\u001b[0m\u001b[1;33m\u001b[0m\u001b[0m\n\u001b[0;32m    459\u001b[0m             \u001b[0mgc_after_trial\u001b[0m\u001b[1;33m=\u001b[0m\u001b[0mgc_after_trial\u001b[0m\u001b[1;33m,\u001b[0m\u001b[1;33m\u001b[0m\u001b[1;33m\u001b[0m\u001b[0m\n\u001b[1;32m--> 460\u001b[1;33m             \u001b[0mshow_progress_bar\u001b[0m\u001b[1;33m=\u001b[0m\u001b[0mshow_progress_bar\u001b[0m\u001b[1;33m,\u001b[0m\u001b[1;33m\u001b[0m\u001b[1;33m\u001b[0m\u001b[0m\n\u001b[0m\u001b[0;32m    461\u001b[0m         )\n\u001b[0;32m    462\u001b[0m \u001b[1;33m\u001b[0m\u001b[0m\n",
      "\u001b[1;32mc:\\Users\\juneh\\AppData\\Local\\Programs\\Python\\Python37\\lib\\site-packages\\optuna\\study\\_optimize.py\u001b[0m in \u001b[0;36m_optimize\u001b[1;34m(study, func, n_trials, timeout, n_jobs, catch, callbacks, gc_after_trial, show_progress_bar)\u001b[0m\n\u001b[0;32m     70\u001b[0m                 \u001b[0mreseed_sampler_rng\u001b[0m\u001b[1;33m=\u001b[0m\u001b[1;32mFalse\u001b[0m\u001b[1;33m,\u001b[0m\u001b[1;33m\u001b[0m\u001b[1;33m\u001b[0m\u001b[0m\n\u001b[0;32m     71\u001b[0m                 \u001b[0mtime_start\u001b[0m\u001b[1;33m=\u001b[0m\u001b[1;32mNone\u001b[0m\u001b[1;33m,\u001b[0m\u001b[1;33m\u001b[0m\u001b[1;33m\u001b[0m\u001b[0m\n\u001b[1;32m---> 72\u001b[1;33m                 \u001b[0mprogress_bar\u001b[0m\u001b[1;33m=\u001b[0m\u001b[0mprogress_bar\u001b[0m\u001b[1;33m,\u001b[0m\u001b[1;33m\u001b[0m\u001b[1;33m\u001b[0m\u001b[0m\n\u001b[0m\u001b[0;32m     73\u001b[0m             )\n\u001b[0;32m     74\u001b[0m         \u001b[1;32melse\u001b[0m\u001b[1;33m:\u001b[0m\u001b[1;33m\u001b[0m\u001b[1;33m\u001b[0m\u001b[0m\n",
      "\u001b[1;32mc:\\Users\\juneh\\AppData\\Local\\Programs\\Python\\Python37\\lib\\site-packages\\optuna\\study\\_optimize.py\u001b[0m in \u001b[0;36m_optimize_sequential\u001b[1;34m(study, func, n_trials, timeout, catch, callbacks, gc_after_trial, reseed_sampler_rng, time_start, progress_bar)\u001b[0m\n\u001b[0;32m    157\u001b[0m \u001b[1;33m\u001b[0m\u001b[0m\n\u001b[0;32m    158\u001b[0m         \u001b[1;32mtry\u001b[0m\u001b[1;33m:\u001b[0m\u001b[1;33m\u001b[0m\u001b[1;33m\u001b[0m\u001b[0m\n\u001b[1;32m--> 159\u001b[1;33m             \u001b[0mfrozen_trial\u001b[0m \u001b[1;33m=\u001b[0m \u001b[0m_run_trial\u001b[0m\u001b[1;33m(\u001b[0m\u001b[0mstudy\u001b[0m\u001b[1;33m,\u001b[0m \u001b[0mfunc\u001b[0m\u001b[1;33m,\u001b[0m \u001b[0mcatch\u001b[0m\u001b[1;33m)\u001b[0m\u001b[1;33m\u001b[0m\u001b[1;33m\u001b[0m\u001b[0m\n\u001b[0m\u001b[0;32m    160\u001b[0m         \u001b[1;32mfinally\u001b[0m\u001b[1;33m:\u001b[0m\u001b[1;33m\u001b[0m\u001b[1;33m\u001b[0m\u001b[0m\n\u001b[0;32m    161\u001b[0m             \u001b[1;31m# The following line mitigates memory problems that can be occurred in some\u001b[0m\u001b[1;33m\u001b[0m\u001b[1;33m\u001b[0m\u001b[1;33m\u001b[0m\u001b[0m\n",
      "\u001b[1;32mc:\\Users\\juneh\\AppData\\Local\\Programs\\Python\\Python37\\lib\\site-packages\\optuna\\study\\_optimize.py\u001b[0m in \u001b[0;36m_run_trial\u001b[1;34m(study, func, catch)\u001b[0m\n\u001b[0;32m    245\u001b[0m         \u001b[1;32mand\u001b[0m \u001b[1;32mnot\u001b[0m \u001b[0misinstance\u001b[0m\u001b[1;33m(\u001b[0m\u001b[0mfunc_err\u001b[0m\u001b[1;33m,\u001b[0m \u001b[0mcatch\u001b[0m\u001b[1;33m)\u001b[0m\u001b[1;33m\u001b[0m\u001b[1;33m\u001b[0m\u001b[0m\n\u001b[0;32m    246\u001b[0m     ):\n\u001b[1;32m--> 247\u001b[1;33m         \u001b[1;32mraise\u001b[0m \u001b[0mfunc_err\u001b[0m\u001b[1;33m\u001b[0m\u001b[1;33m\u001b[0m\u001b[0m\n\u001b[0m\u001b[0;32m    248\u001b[0m     \u001b[1;32mreturn\u001b[0m \u001b[0mfrozen_trial\u001b[0m\u001b[1;33m\u001b[0m\u001b[1;33m\u001b[0m\u001b[0m\n\u001b[0;32m    249\u001b[0m \u001b[1;33m\u001b[0m\u001b[0m\n",
      "\u001b[1;32mc:\\Users\\juneh\\AppData\\Local\\Programs\\Python\\Python37\\lib\\site-packages\\optuna\\study\\_optimize.py\u001b[0m in \u001b[0;36m_run_trial\u001b[1;34m(study, func, catch)\u001b[0m\n\u001b[0;32m    194\u001b[0m     \u001b[1;32mwith\u001b[0m \u001b[0mget_heartbeat_thread\u001b[0m\u001b[1;33m(\u001b[0m\u001b[0mtrial\u001b[0m\u001b[1;33m.\u001b[0m\u001b[0m_trial_id\u001b[0m\u001b[1;33m,\u001b[0m \u001b[0mstudy\u001b[0m\u001b[1;33m.\u001b[0m\u001b[0m_storage\u001b[0m\u001b[1;33m)\u001b[0m\u001b[1;33m:\u001b[0m\u001b[1;33m\u001b[0m\u001b[1;33m\u001b[0m\u001b[0m\n\u001b[0;32m    195\u001b[0m         \u001b[1;32mtry\u001b[0m\u001b[1;33m:\u001b[0m\u001b[1;33m\u001b[0m\u001b[1;33m\u001b[0m\u001b[0m\n\u001b[1;32m--> 196\u001b[1;33m             \u001b[0mvalue_or_values\u001b[0m \u001b[1;33m=\u001b[0m \u001b[0mfunc\u001b[0m\u001b[1;33m(\u001b[0m\u001b[0mtrial\u001b[0m\u001b[1;33m)\u001b[0m\u001b[1;33m\u001b[0m\u001b[1;33m\u001b[0m\u001b[0m\n\u001b[0m\u001b[0;32m    197\u001b[0m         \u001b[1;32mexcept\u001b[0m \u001b[0mexceptions\u001b[0m\u001b[1;33m.\u001b[0m\u001b[0mTrialPruned\u001b[0m \u001b[1;32mas\u001b[0m \u001b[0me\u001b[0m\u001b[1;33m:\u001b[0m\u001b[1;33m\u001b[0m\u001b[1;33m\u001b[0m\u001b[0m\n\u001b[0;32m    198\u001b[0m             \u001b[1;31m# TODO(mamu): Handle multi-objective cases.\u001b[0m\u001b[1;33m\u001b[0m\u001b[1;33m\u001b[0m\u001b[1;33m\u001b[0m\u001b[0m\n",
      "\u001b[1;32m~\\AppData\\Local\\Temp\\ipykernel_3056\\3172267017.py\u001b[0m in \u001b[0;36m<lambda>\u001b[1;34m(trial)\u001b[0m\n\u001b[0;32m     43\u001b[0m \u001b[1;31m# 하이퍼 파라미터 튜닝\u001b[0m\u001b[1;33m\u001b[0m\u001b[1;33m\u001b[0m\u001b[1;33m\u001b[0m\u001b[0m\n\u001b[0;32m     44\u001b[0m \u001b[0mstudy\u001b[0m \u001b[1;33m=\u001b[0m \u001b[0moptuna\u001b[0m\u001b[1;33m.\u001b[0m\u001b[0mcreate_study\u001b[0m\u001b[1;33m(\u001b[0m\u001b[0mdirection\u001b[0m\u001b[1;33m=\u001b[0m\u001b[1;34m'maximize'\u001b[0m\u001b[1;33m,\u001b[0m \u001b[0msampler\u001b[0m\u001b[1;33m=\u001b[0m\u001b[0moptuna\u001b[0m\u001b[1;33m.\u001b[0m\u001b[0msamplers\u001b[0m\u001b[1;33m.\u001b[0m\u001b[0mTPESampler\u001b[0m\u001b[1;33m(\u001b[0m\u001b[0mseed\u001b[0m\u001b[1;33m=\u001b[0m\u001b[0mRANDOM_STATE\u001b[0m\u001b[1;33m)\u001b[0m\u001b[1;33m)\u001b[0m\u001b[1;33m\u001b[0m\u001b[1;33m\u001b[0m\u001b[0m\n\u001b[1;32m---> 45\u001b[1;33m \u001b[0mstudy\u001b[0m\u001b[1;33m.\u001b[0m\u001b[0moptimize\u001b[0m\u001b[1;33m(\u001b[0m\u001b[1;32mlambda\u001b[0m \u001b[0mtrial\u001b[0m\u001b[1;33m:\u001b[0m \u001b[0mobjectiveLGBM_dart\u001b[0m\u001b[1;33m(\u001b[0m\u001b[0mtrial\u001b[0m\u001b[1;33m,\u001b[0m \u001b[0mx_train\u001b[0m\u001b[1;33m,\u001b[0m \u001b[0my_train\u001b[0m\u001b[1;33m,\u001b[0m \u001b[0mx_val\u001b[0m\u001b[1;33m,\u001b[0m \u001b[0my_val\u001b[0m\u001b[1;33m)\u001b[0m\u001b[1;33m,\u001b[0m \u001b[0mn_trials\u001b[0m\u001b[1;33m=\u001b[0m\u001b[1;36m300\u001b[0m\u001b[1;33m)\u001b[0m\u001b[1;33m\u001b[0m\u001b[1;33m\u001b[0m\u001b[0m\n\u001b[0m\u001b[0;32m     46\u001b[0m \u001b[1;33m\u001b[0m\u001b[0m\n\u001b[0;32m     47\u001b[0m \u001b[0mprint\u001b[0m\u001b[1;33m(\u001b[0m\u001b[1;34m'Best trial: score {}, \\nparams {}'\u001b[0m\u001b[1;33m.\u001b[0m\u001b[0mformat\u001b[0m\u001b[1;33m(\u001b[0m\u001b[0mstudy\u001b[0m\u001b[1;33m.\u001b[0m\u001b[0mbest_trial\u001b[0m\u001b[1;33m.\u001b[0m\u001b[0mvalue\u001b[0m\u001b[1;33m,\u001b[0m \u001b[0mstudy\u001b[0m\u001b[1;33m.\u001b[0m\u001b[0mbest_trial\u001b[0m\u001b[1;33m.\u001b[0m\u001b[0mparams\u001b[0m\u001b[1;33m)\u001b[0m\u001b[1;33m)\u001b[0m\u001b[1;33m\u001b[0m\u001b[1;33m\u001b[0m\u001b[0m\n",
      "\u001b[1;32m~\\AppData\\Local\\Temp\\ipykernel_3056\\3172267017.py\u001b[0m in \u001b[0;36mobjectiveLGBM_dart\u001b[1;34m(trial, x_tr, y_tr, x_val, y_val)\u001b[0m\n\u001b[0;32m     24\u001b[0m \u001b[1;33m\u001b[0m\u001b[0m\n\u001b[0;32m     25\u001b[0m     \u001b[0mmodel\u001b[0m \u001b[1;33m=\u001b[0m \u001b[0mLGBMClassifier\u001b[0m\u001b[1;33m(\u001b[0m\u001b[1;33m**\u001b[0m\u001b[0mparam\u001b[0m\u001b[1;33m)\u001b[0m\u001b[1;33m\u001b[0m\u001b[1;33m\u001b[0m\u001b[0m\n\u001b[1;32m---> 26\u001b[1;33m     \u001b[0mmodel\u001b[0m\u001b[1;33m.\u001b[0m\u001b[0mfit\u001b[0m\u001b[1;33m(\u001b[0m\u001b[0mx_tr\u001b[0m\u001b[1;33m,\u001b[0m \u001b[0my_tr\u001b[0m\u001b[1;33m)\u001b[0m\u001b[1;33m\u001b[0m\u001b[1;33m\u001b[0m\u001b[0m\n\u001b[0m\u001b[0;32m     27\u001b[0m     \u001b[0mpred_proba\u001b[0m \u001b[1;33m=\u001b[0m \u001b[0mmodel\u001b[0m\u001b[1;33m.\u001b[0m\u001b[0mpredict_proba\u001b[0m\u001b[1;33m(\u001b[0m\u001b[0mx_val\u001b[0m\u001b[1;33m)\u001b[0m\u001b[1;33m[\u001b[0m\u001b[1;33m:\u001b[0m\u001b[1;33m,\u001b[0m \u001b[1;36m1\u001b[0m\u001b[1;33m]\u001b[0m  \u001b[1;31m# 양성 클래스 확률\u001b[0m\u001b[1;33m\u001b[0m\u001b[1;33m\u001b[0m\u001b[0m\n\u001b[0;32m     28\u001b[0m     \u001b[0mpred\u001b[0m \u001b[1;33m=\u001b[0m \u001b[1;33m(\u001b[0m\u001b[0mpred_proba\u001b[0m \u001b[1;33m>=\u001b[0m \u001b[0mTHRESHOLD\u001b[0m\u001b[1;33m)\u001b[0m\u001b[1;33m.\u001b[0m\u001b[0mastype\u001b[0m\u001b[1;33m(\u001b[0m\u001b[0mint\u001b[0m\u001b[1;33m)\u001b[0m  \u001b[1;31m# 스레드홀드에 따른 예측\u001b[0m\u001b[1;33m\u001b[0m\u001b[1;33m\u001b[0m\u001b[0m\n",
      "\u001b[1;32mc:\\Users\\juneh\\AppData\\Local\\Programs\\Python\\Python37\\lib\\site-packages\\lightgbm\\sklearn.py\u001b[0m in \u001b[0;36mfit\u001b[1;34m(self, X, y, sample_weight, init_score, eval_set, eval_names, eval_sample_weight, eval_class_weight, eval_init_score, eval_metric, feature_name, categorical_feature, callbacks, init_model)\u001b[0m\n\u001b[0;32m   1296\u001b[0m             \u001b[0mcategorical_feature\u001b[0m\u001b[1;33m=\u001b[0m\u001b[0mcategorical_feature\u001b[0m\u001b[1;33m,\u001b[0m\u001b[1;33m\u001b[0m\u001b[1;33m\u001b[0m\u001b[0m\n\u001b[0;32m   1297\u001b[0m             \u001b[0mcallbacks\u001b[0m\u001b[1;33m=\u001b[0m\u001b[0mcallbacks\u001b[0m\u001b[1;33m,\u001b[0m\u001b[1;33m\u001b[0m\u001b[1;33m\u001b[0m\u001b[0m\n\u001b[1;32m-> 1298\u001b[1;33m             \u001b[0minit_model\u001b[0m\u001b[1;33m=\u001b[0m\u001b[0minit_model\u001b[0m\u001b[1;33m,\u001b[0m\u001b[1;33m\u001b[0m\u001b[1;33m\u001b[0m\u001b[0m\n\u001b[0m\u001b[0;32m   1299\u001b[0m         )\n\u001b[0;32m   1300\u001b[0m         \u001b[1;32mreturn\u001b[0m \u001b[0mself\u001b[0m\u001b[1;33m\u001b[0m\u001b[1;33m\u001b[0m\u001b[0m\n",
      "\u001b[1;32mc:\\Users\\juneh\\AppData\\Local\\Programs\\Python\\Python37\\lib\\site-packages\\lightgbm\\sklearn.py\u001b[0m in \u001b[0;36mfit\u001b[1;34m(self, X, y, sample_weight, init_score, group, eval_set, eval_names, eval_sample_weight, eval_class_weight, eval_init_score, eval_group, eval_metric, feature_name, categorical_feature, callbacks, init_model)\u001b[0m\n\u001b[0;32m    961\u001b[0m             \u001b[0mfeval\u001b[0m\u001b[1;33m=\u001b[0m\u001b[0meval_metrics_callable\u001b[0m\u001b[1;33m,\u001b[0m  \u001b[1;31m# type: ignore[arg-type]\u001b[0m\u001b[1;33m\u001b[0m\u001b[1;33m\u001b[0m\u001b[0m\n\u001b[0;32m    962\u001b[0m             \u001b[0minit_model\u001b[0m\u001b[1;33m=\u001b[0m\u001b[0minit_model\u001b[0m\u001b[1;33m,\u001b[0m\u001b[1;33m\u001b[0m\u001b[1;33m\u001b[0m\u001b[0m\n\u001b[1;32m--> 963\u001b[1;33m             \u001b[0mcallbacks\u001b[0m\u001b[1;33m=\u001b[0m\u001b[0mcallbacks\u001b[0m\u001b[1;33m,\u001b[0m\u001b[1;33m\u001b[0m\u001b[1;33m\u001b[0m\u001b[0m\n\u001b[0m\u001b[0;32m    964\u001b[0m         )\n\u001b[0;32m    965\u001b[0m \u001b[1;33m\u001b[0m\u001b[0m\n",
      "\u001b[1;32mc:\\Users\\juneh\\AppData\\Local\\Programs\\Python\\Python37\\lib\\site-packages\\lightgbm\\engine.py\u001b[0m in \u001b[0;36mtrain\u001b[1;34m(params, train_set, num_boost_round, valid_sets, valid_names, feval, init_model, feature_name, categorical_feature, keep_training_booster, callbacks)\u001b[0m\n\u001b[0;32m    305\u001b[0m             )\n\u001b[0;32m    306\u001b[0m \u001b[1;33m\u001b[0m\u001b[0m\n\u001b[1;32m--> 307\u001b[1;33m         \u001b[0mbooster\u001b[0m\u001b[1;33m.\u001b[0m\u001b[0mupdate\u001b[0m\u001b[1;33m(\u001b[0m\u001b[0mfobj\u001b[0m\u001b[1;33m=\u001b[0m\u001b[0mfobj\u001b[0m\u001b[1;33m)\u001b[0m\u001b[1;33m\u001b[0m\u001b[1;33m\u001b[0m\u001b[0m\n\u001b[0m\u001b[0;32m    308\u001b[0m \u001b[1;33m\u001b[0m\u001b[0m\n\u001b[0;32m    309\u001b[0m         \u001b[0mevaluation_result_list\u001b[0m\u001b[1;33m:\u001b[0m \u001b[0mList\u001b[0m\u001b[1;33m[\u001b[0m\u001b[0m_LGBM_BoosterEvalMethodResultType\u001b[0m\u001b[1;33m]\u001b[0m \u001b[1;33m=\u001b[0m \u001b[1;33m[\u001b[0m\u001b[1;33m]\u001b[0m\u001b[1;33m\u001b[0m\u001b[1;33m\u001b[0m\u001b[0m\n",
      "\u001b[1;32mc:\\Users\\juneh\\AppData\\Local\\Programs\\Python\\Python37\\lib\\site-packages\\lightgbm\\basic.py\u001b[0m in \u001b[0;36mupdate\u001b[1;34m(self, train_set, fobj)\u001b[0m\n\u001b[0;32m   4136\u001b[0m                 _LIB.LGBM_BoosterUpdateOneIter(\n\u001b[0;32m   4137\u001b[0m                     \u001b[0mself\u001b[0m\u001b[1;33m.\u001b[0m\u001b[0m_handle\u001b[0m\u001b[1;33m,\u001b[0m\u001b[1;33m\u001b[0m\u001b[1;33m\u001b[0m\u001b[0m\n\u001b[1;32m-> 4138\u001b[1;33m                     \u001b[0mctypes\u001b[0m\u001b[1;33m.\u001b[0m\u001b[0mbyref\u001b[0m\u001b[1;33m(\u001b[0m\u001b[0mis_finished\u001b[0m\u001b[1;33m)\u001b[0m\u001b[1;33m,\u001b[0m\u001b[1;33m\u001b[0m\u001b[1;33m\u001b[0m\u001b[0m\n\u001b[0m\u001b[0;32m   4139\u001b[0m                 )\n\u001b[0;32m   4140\u001b[0m             )\n",
      "\u001b[1;31mKeyboardInterrupt\u001b[0m: "
     ]
    }
   ],
   "source": [
    "import optuna\n",
    "from lightgbm import LGBMClassifier\n",
    "from sklearn.model_selection import train_test_split\n",
    "from sklearn.metrics import f1_score\n",
    "\n",
    "# 'Normal'과 'AbNormal'을 숫자로 변환\n",
    "train_data_fill2['target'] = train_data_fill2['target'].map({'Normal': 0, 'AbNormal': 1})\n",
    "\n",
    "# 스레드홀드 설정\n",
    "THRESHOLD = 0.3\n",
    "\n",
    "def objectiveLGBM_dart(trial, x_tr, y_tr, x_val, y_val):\n",
    "    param = {\n",
    "        'n_estimators': trial.suggest_int('n_estimators', 500, 3000),\n",
    "        'num_leaves': trial.suggest_int('num_leaves', 500, 3000),\n",
    "        'max_depth': trial.suggest_int('max_depth', 10, 300),\n",
    "        'learning_rate': trial.suggest_float('learning_rate', 0.001, 0.1),\n",
    "        'min_child_samples': trial.suggest_int('min_child_samples', 3, 300),\n",
    "        \n",
    "        'boosting_type': 'dart',  # 'boosting'를 'boosting_type'으로 수정\n",
    "        'random_state': RANDOM_STATE,\n",
    "        'verbose': -1\n",
    "    }\n",
    "       \n",
    "    model = LGBMClassifier(**param)\n",
    "    model.fit(x_tr, y_tr)\n",
    "    pred_proba = model.predict_proba(x_val)[:, 1]  # 양성 클래스 확률\n",
    "    pred = (pred_proba >= THRESHOLD).astype(int)  # 스레드홀드에 따른 예측\n",
    "    \n",
    "    score = f1_score(y_val, pred, average=\"binary\")\n",
    "    \n",
    "    return score\n",
    "\n",
    "# 데이터셋 분할\n",
    "x_train, x_val, y_train, y_val = train_test_split(\n",
    "    train_data_fill2.drop(\"target\", axis=1),\n",
    "    train_data_fill2[\"target\"],\n",
    "    test_size=0.2,\n",
    "    shuffle=True,\n",
    "    random_state=RANDOM_STATE,\n",
    ")\n",
    "\n",
    "# 하이퍼 파라미터 튜닝\n",
    "study = optuna.create_study(direction='maximize', sampler=optuna.samplers.TPESampler(seed=RANDOM_STATE))\n",
    "study.optimize(lambda trial: objectiveLGBM_dart(trial, x_train, y_train, x_val, y_val), n_trials=300)\n",
    "\n",
    "print('Best trial: score {}, \\nparams {}'.format(study.best_trial.value, study.best_trial.params))\n"
   ]
  },
  {
   "cell_type": "markdown",
   "id": "6b241c8b",
   "metadata": {},
   "source": [
    "Trial 112 finished with value: 0.2562189054726368 and parameters:   \n",
    "{'n_estimators': 1308, 'num_leaves': 1813, 'max_depth':  105,  \n",
    "'learning_rate': 0.0026995515108598628, 'min_child_samples': 37}"
   ]
  },
  {
   "cell_type": "markdown",
   "id": "aad182e5",
   "metadata": {},
   "source": [
    "."
   ]
  }
 ],
 "metadata": {
  "kernelspec": {
   "display_name": "Python 3 (ipykernel)",
   "language": "python",
   "name": "python3"
  },
  "language_info": {
   "codemirror_mode": {
    "name": "ipython",
    "version": 3
   },
   "file_extension": ".py",
   "mimetype": "text/x-python",
   "name": "python",
   "nbconvert_exporter": "python",
   "pygments_lexer": "ipython3",
   "version": "3.7.8"
  }
 },
 "nbformat": 4,
 "nbformat_minor": 5
}

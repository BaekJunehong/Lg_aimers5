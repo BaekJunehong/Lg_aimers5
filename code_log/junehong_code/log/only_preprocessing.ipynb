{
 "cells": [
  {
   "cell_type": "markdown",
   "id": "017e9265",
   "metadata": {},
   "source": [
    "# 제품 이상여부 판별 프로젝트\n"
   ]
  },
  {
   "cell_type": "markdown",
   "id": "acdab431",
   "metadata": {},
   "source": [
    "## 1. 데이터 불러오기\n"
   ]
  },
  {
   "cell_type": "markdown",
   "id": "2b8341e8",
   "metadata": {},
   "source": [
    "### 필수 라이브러리\n"
   ]
  },
  {
   "cell_type": "code",
   "execution_count": 397,
   "id": "a315cc58",
   "metadata": {},
   "outputs": [],
   "source": [
    "import os\n",
    "from pprint import pprint\n",
    "\n",
    "import numpy as np\n",
    "import pandas as pd\n",
    "from sklearn.ensemble import RandomForestClassifier\n",
    "from sklearn.metrics import (\n",
    "    accuracy_score,\n",
    "    classification_report,\n",
    "    confusion_matrix,\n",
    "    f1_score,\n",
    "    precision_score,\n",
    "    recall_score,\n",
    ")\n",
    "from sklearn.model_selection import train_test_split\n",
    "from tqdm import tqdm"
   ]
  },
  {
   "cell_type": "markdown",
   "id": "4d054e30",
   "metadata": {},
   "source": [
    "### 데이터 읽어오기\n"
   ]
  },
  {
   "cell_type": "code",
   "execution_count": 398,
   "id": "fc0b4d80",
   "metadata": {},
   "outputs": [],
   "source": [
    "RANDOM_STATE = 110\n",
    "\n",
    "train_data = pd.read_csv(\"../../data/trim_train_data.csv\")\n",
    "test_data = pd.read_csv(\"../../data/trim_test_data.csv\")"
   ]
  },
  {
   "cell_type": "markdown",
   "id": "b0fbb1c8",
   "metadata": {},
   "source": [
    "---"
   ]
  },
  {
   "cell_type": "code",
   "execution_count": 399,
   "id": "dafec554",
   "metadata": {},
   "outputs": [
    {
     "name": "stdout",
     "output_type": "stream",
     "text": [
      "<? column in train_data>\n",
      "CURE END POSITION ? Collect Result_Dam\n",
      "CURE END POSITION ? Unit Time_Dam\n",
      "CURE END POSITION ? Judge Value_Dam\n",
      "CURE STANDBY POSITION ? Collect Result_Dam\n",
      "CURE STANDBY POSITION ? Unit Time_Dam\n",
      "CURE STANDBY POSITION ? Judge Value_Dam\n",
      "CURE START POSITION ? Collect Result_Dam\n",
      "CURE START POSITION ? Unit Time_Dam\n",
      "CURE START POSITION ? Judge Value_Dam\n",
      "CURE END POSITION ? Collect Result_Fill2\n",
      "CURE END POSITION ? Unit Time_Fill2\n",
      "CURE END POSITION ? Judge Value_Fill2\n",
      "CURE STANDBY POSITION ? Collect Result_Fill2\n",
      "CURE STANDBY POSITION ? Unit Time_Fill2\n",
      "CURE STANDBY POSITION ? Judge Value_Fill2\n",
      "CURE START POSITION ? Collect Result_Fill2\n",
      "CURE START POSITION ? Unit Time_Fill2\n",
      "CURE START POSITION ? Judge Value_Fill2\n",
      "<? column in test_data>\n"
     ]
    }
   ],
   "source": [
    "# train_data와 test_data에서 '?'를 포함하는 열 이름 필터링\n",
    "train_Process_Desc_col = train_data.filter(like='?').columns\n",
    "test_Process_Desc_col = test_data.filter(like='?').columns\n",
    "\n",
    "# 필터링된 열 이름 출력\n",
    "print(\"<? column in train_data>\")\n",
    "for col in train_Process_Desc_col:\n",
    "    print(col)\n",
    "\n",
    "print(\"<? column in test_data>\")\n",
    "for col in test_Process_Desc_col:\n",
    "    print(col)\n",
    "\n",
    "# ? -> Θ로 변경할 열 이름과 새 열 이름 생성\n",
    "train_new_columns = {col: col.replace('?', 'Θ') for col in train_Process_Desc_col}\n",
    "test_new_columns = {col: col.replace('?', 'Θ') for col in test_Process_Desc_col}\n",
    "\n",
    "# 열 이름 변경\n",
    "train_data.rename(columns=train_new_columns, inplace=True)\n",
    "test_data.rename(columns=test_new_columns, inplace=True)\n",
    "\n",
    "# 'Θ'를 포함하는 열 이름 필터링\n",
    "train_Process_Desc_col = train_data.filter(like='Θ').columns\n",
    "test_Process_Desc_col = test_data.filter(like='Θ').columns"
   ]
  },
  {
   "cell_type": "code",
   "execution_count": 400,
   "id": "2f49aa16",
   "metadata": {},
   "outputs": [],
   "source": [
    "# target 열을 임시로 분리\n",
    "target_train = train_data['target']\n",
    "target_test = test_data['target']\n",
    "\n",
    "# 모든 값이 NaN인 열 제거\n",
    "train_data = train_data.dropna(axis=1, how='all')\n",
    "test_data = test_data.dropna(axis=1, how='all')\n",
    "\n",
    "# target 열을 다시 결합\n",
    "train_data['target'] = target_train\n",
    "test_data['target'] = target_test"
   ]
  },
  {
   "cell_type": "code",
   "execution_count": 401,
   "id": "d423473b",
   "metadata": {},
   "outputs": [],
   "source": [
    "# Wip Line 열 제거\n",
    "wip_line_columns = train_data.filter(like='Wip Line').columns\n",
    "\n",
    "train_data.drop(columns=wip_line_columns, inplace=True)\n",
    "test_data.drop(columns=wip_line_columns, inplace=True)"
   ]
  },
  {
   "cell_type": "code",
   "execution_count": 402,
   "id": "651ad853",
   "metadata": {},
   "outputs": [],
   "source": [
    "# Process Desc 열 제거\n",
    "Process_Desc_col = train_data.filter(like='Process Desc').columns\n",
    "\n",
    "train_data.drop(columns=Process_Desc_col, inplace=True)\n",
    "test_data.drop(columns=Process_Desc_col, inplace=True)"
   ]
  },
  {
   "cell_type": "code",
   "execution_count": 403,
   "id": "c8fcfbd0",
   "metadata": {},
   "outputs": [],
   "source": [
    "# Equipment로 시작하는 열 필터링\n",
    "Equipment_col = train_data.filter(like='Equipment').columns\n",
    "Equipment_col2 = test_data.filter(like='Equipment').columns\n",
    "\n",
    "new_train = train_data.filter(items=Equipment_col)\n",
    "new_test = test_data.filter(items=Equipment_col2)\n",
    "\n",
    "# Equipment_same_num 파생변수 생성\n",
    "def determine_equipment_same_num(row):\n",
    "    if (row['Equipment_Dam'] == 'Dam dispenser #1' and row['Equipment_AutoClave'] == 'Auto Clave Out' and \n",
    "        row['Equipment_Fill1'] == 'Fill1 dispenser #1' and row['Equipment_Fill2'] == 'Fill2 dispenser #1') or \\\n",
    "       (row['Equipment_Dam'] == 'Dam dispenser #2' and row['Equipment_AutoClave'] == 'Auto Clave Out' and \n",
    "        row['Equipment_Fill1'] == 'Fill1 dispenser #2' and row['Equipment_Fill2'] == 'Fill2 dispenser #2'):\n",
    "        return 1\n",
    "    else:\n",
    "        return 0\n",
    "\n",
    "train_data['Equipment_same_num'] = new_train.apply(determine_equipment_same_num, axis=1)\n",
    "test_data['Equipment_same_num'] = new_test.apply(determine_equipment_same_num, axis=1)\n",
    "\n",
    "train_data = train_data.drop(columns=['Equipment_Dam', 'Equipment_AutoClave', 'Equipment_Fill1', 'Equipment_Fill2'])\n",
    "test_data = test_data.drop(columns=['Equipment_Dam', 'Equipment_AutoClave', 'Equipment_Fill1', 'Equipment_Fill2'])\n"
   ]
  },
  {
   "cell_type": "code",
   "execution_count": 404,
   "id": "9b925a57",
   "metadata": {},
   "outputs": [],
   "source": [
    "# Model.Suffix_Dam의 이름을 Model.Suffix로 변경\n",
    "train_data = train_data.rename(columns={'Model.Suffix_Dam': 'Model.Suffix'})\n",
    "test_data = test_data.rename(columns={'Model.Suffix_Dam': 'Model.Suffix'})\n",
    "\n",
    "# Model.Suffix_AutoClave, Model.Suffix_Fill1, Model.Suffix_Fill2 열 드롭\n",
    "train_data = train_data.drop(columns=['Model.Suffix_AutoClave', 'Model.Suffix_Fill1', 'Model.Suffix_Fill2'])\n",
    "test_data = test_data.drop(columns=['Model.Suffix_AutoClave', 'Model.Suffix_Fill1', 'Model.Suffix_Fill2'])"
   ]
  },
  {
   "cell_type": "code",
   "execution_count": 405,
   "id": "07645d85",
   "metadata": {},
   "outputs": [],
   "source": [
    "# Model.Suffix_Dam의 이름을 Model.Suffix로 변경\n",
    "train_data = train_data.rename(columns={'Workorder_Dam': 'Workorder'})\n",
    "test_data = test_data.rename(columns={'Workorder_Dam': 'Workorder'})\n",
    "\n",
    "# Model.Suffix_AutoClave, Model.Suffix_Fill1, Model.Suffix_Fill2 열 드롭\n",
    "train_data = train_data.drop(columns=['Workorder_AutoClave', 'Workorder_Fill1', 'Workorder_Fill2'])\n",
    "test_data = test_data.drop(columns=['Workorder_AutoClave', 'Workorder_Fill1', 'Workorder_Fill2'])"
   ]
  },
  {
   "cell_type": "code",
   "execution_count": 406,
   "id": "b5cb2f76",
   "metadata": {},
   "outputs": [],
   "source": [
    "# Insp. Seq No 열 제거\n",
    "Insp_Seq_No_col = train_data.filter(like='Insp. Seq No').columns\n",
    "\n",
    "train_data.drop(columns=Insp_Seq_No_col, inplace=True)\n",
    "test_data.drop(columns=Insp_Seq_No_col, inplace=True)"
   ]
  },
  {
   "cell_type": "code",
   "execution_count": 407,
   "id": "339f133b",
   "metadata": {},
   "outputs": [],
   "source": [
    "# Insp Judge Code 열 제거\n",
    "Insp_Judge_Code_col = train_data.filter(like='Insp Judge Code').columns\n",
    "\n",
    "train_data.drop(columns=Insp_Judge_Code_col, inplace=True)\n",
    "test_data.drop(columns=Insp_Judge_Code_col, inplace=True)"
   ]
  },
  {
   "cell_type": "code",
   "execution_count": 408,
   "id": "03f8f176",
   "metadata": {},
   "outputs": [
    {
     "name": "stdout",
     "output_type": "stream",
     "text": [
      "삭제된 train_data 열 개수: 42\n",
      "삭제된 test_data 열 개수: 42\n"
     ]
    }
   ],
   "source": [
    "# 값의 종류가 1개이고 결측값이 없는 열을 제거하는 함수\n",
    "def drop_single_value_columns(df):\n",
    "    cols_to_drop = [col for col in df.columns if col != 'target' and df[col].nunique() == 1 and df[col].isnull().sum() == 0]\n",
    "    df_dropped = df.drop(columns=cols_to_drop)\n",
    "    return df_dropped, cols_to_drop\n",
    "\n",
    "# train_data와 test_data에서 해당 열 제거 및 삭제된 열 이름과 개수 출력\n",
    "train_data, train_cols_dropped = drop_single_value_columns(train_data)\n",
    "test_data, test_cols_dropped = drop_single_value_columns(test_data)\n",
    "\n",
    "# print(\"삭제된 train_data 열 이름:\", train_cols_dropped)\n",
    "print(\"삭제된 train_data 열 개수:\", len(train_cols_dropped))\n",
    "\n",
    "# print(\"삭제된 test_data 열 이름:\", test_cols_dropped)\n",
    "print(\"삭제된 test_data 열 개수:\", len(test_cols_dropped))"
   ]
  },
  {
   "cell_type": "code",
   "execution_count": 409,
   "id": "26ec226a",
   "metadata": {},
   "outputs": [
    {
     "name": "stdout",
     "output_type": "stream",
     "text": [
      "<class 'pandas.core.frame.DataFrame'>\n",
      "RangeIndex: 40506 entries, 0 to 40505\n",
      "Columns: 119 entries, Model.Suffix to Equipment_same_num\n",
      "dtypes: float64(58), int64(52), object(9)\n",
      "memory usage: 36.8+ MB\n",
      "---\n",
      "<class 'pandas.core.frame.DataFrame'>\n",
      "RangeIndex: 17361 entries, 0 to 17360\n",
      "Columns: 120 entries, Set ID to Equipment_same_num\n",
      "dtypes: float64(94), int64(17), object(9)\n",
      "memory usage: 15.9+ MB\n"
     ]
    }
   ],
   "source": [
    "train_data.info()\n",
    "print('---')\n",
    "test_data.info()"
   ]
  },
  {
   "cell_type": "markdown",
   "id": "e07606c9",
   "metadata": {},
   "source": [
    "---"
   ]
  },
  {
   "cell_type": "markdown",
   "id": "70554ff6",
   "metadata": {},
   "source": [
    "개별 공정별 데이터 전처리"
   ]
  },
  {
   "cell_type": "markdown",
   "id": "b3a7346a",
   "metadata": {},
   "source": [
    "## Dam"
   ]
  },
  {
   "cell_type": "code",
   "execution_count": 410,
   "id": "4e833392",
   "metadata": {},
   "outputs": [
    {
     "name": "stdout",
     "output_type": "stream",
     "text": [
      "<Dam 공정 관련 변수>\n",
      "CURE END POSITION X Collect Result_Dam\n",
      "CURE END POSITION Z Collect Result_Dam\n",
      "CURE END POSITION Θ Collect Result_Dam\n",
      "CURE SPEED Collect Result_Dam\n",
      "CURE START POSITION X Collect Result_Dam\n",
      "CURE START POSITION Θ Collect Result_Dam\n",
      "DISCHARGED SPEED OF RESIN Collect Result_Dam\n",
      "DISCHARGED TIME OF RESIN(Stage1) Collect Result_Dam\n",
      "DISCHARGED TIME OF RESIN(Stage2) Collect Result_Dam\n",
      "DISCHARGED TIME OF RESIN(Stage3) Collect Result_Dam\n",
      "Dispense Volume(Stage1) Collect Result_Dam\n",
      "Dispense Volume(Stage2) Collect Result_Dam\n",
      "Dispense Volume(Stage3) Collect Result_Dam\n",
      "HEAD NORMAL COORDINATE X AXIS(Stage1) Collect Result_Dam\n",
      "HEAD NORMAL COORDINATE X AXIS(Stage1) Judge Value_Dam\n",
      "HEAD NORMAL COORDINATE X AXIS(Stage2) Collect Result_Dam\n",
      "HEAD NORMAL COORDINATE X AXIS(Stage3) Collect Result_Dam\n",
      "HEAD NORMAL COORDINATE Y AXIS(Stage1) Collect Result_Dam\n",
      "HEAD NORMAL COORDINATE Y AXIS(Stage2) Collect Result_Dam\n",
      "HEAD NORMAL COORDINATE Y AXIS(Stage3) Collect Result_Dam\n",
      "HEAD NORMAL COORDINATE Z AXIS(Stage1) Collect Result_Dam\n",
      "HEAD NORMAL COORDINATE Z AXIS(Stage2) Collect Result_Dam\n",
      "HEAD NORMAL COORDINATE Z AXIS(Stage3) Collect Result_Dam\n",
      "Head Clean Position Z Collect Result_Dam\n",
      "Head Purge Position Z Collect Result_Dam\n",
      "Head Zero Position Y Collect Result_Dam\n",
      "Head Zero Position Z Collect Result_Dam\n",
      "Machine Tact time Collect Result_Dam\n",
      "PalletID Collect Result_Dam\n",
      "Production Qty Collect Result_Dam\n",
      "Receip No Collect Result_Dam\n",
      "Stage1 Circle1 Distance Speed Collect Result_Dam\n",
      "Stage1 Circle2 Distance Speed Collect Result_Dam\n",
      "Stage1 Circle3 Distance Speed Collect Result_Dam\n",
      "Stage1 Circle4 Distance Speed Collect Result_Dam\n",
      "Stage1 Line1 Distance Speed Collect Result_Dam\n",
      "Stage1 Line2 Distance Speed Collect Result_Dam\n",
      "Stage1 Line3 Distance Speed Collect Result_Dam\n",
      "Stage1 Line4 Distance Speed Collect Result_Dam\n",
      "Stage2 Circle1 Distance Speed Collect Result_Dam\n",
      "Stage2 Circle2 Distance Speed Collect Result_Dam\n",
      "Stage2 Circle3 Distance Speed Collect Result_Dam\n",
      "Stage2 Circle4 Distance Speed Collect Result_Dam\n",
      "Stage2 Line1 Distance Speed Collect Result_Dam\n",
      "Stage2 Line2 Distance Speed Collect Result_Dam\n",
      "Stage2 Line3 Distance Speed Collect Result_Dam\n",
      "Stage2 Line4 Distance Speed Collect Result_Dam\n",
      "Stage3 Circle1 Distance Speed Collect Result_Dam\n",
      "Stage3 Circle2 Distance Speed Collect Result_Dam\n",
      "Stage3 Circle3 Distance Speed Collect Result_Dam\n",
      "Stage3 Circle4 Distance Speed Collect Result_Dam\n",
      "Stage3 Line1 Distance Speed Collect Result_Dam\n",
      "Stage3 Line2 Distance Speed Collect Result_Dam\n",
      "Stage3 Line3 Distance Speed Collect Result_Dam\n",
      "Stage3 Line4 Distance Speed Collect Result_Dam\n",
      "THICKNESS 1 Collect Result_Dam\n",
      "THICKNESS 2 Collect Result_Dam\n",
      "THICKNESS 3 Collect Result_Dam\n",
      "WorkMode Collect Result_Dam\n"
     ]
    }
   ],
   "source": [
    "# '_Dam'를 포함하는 열 이름 필터링\n",
    "Process_Desc_col = train_data.filter(like='_Dam').columns\n",
    "\n",
    "# 필터링된 열 이름 출력\n",
    "print(\"<Dam 공정 관련 변수>\")\n",
    "for col in Process_Desc_col:\n",
    "    print(col)"
   ]
  },
  {
   "cell_type": "code",
   "execution_count": 411,
   "id": "80c04f54",
   "metadata": {},
   "outputs": [],
   "source": [
    "import numpy as np\n",
    "\n",
    "# 시작 위치와 끝 위치 열 이름\n",
    "start_x_col = 'CURE START POSITION X Collect Result_Dam'\n",
    "start_z_col = 33.5\n",
    "end_x_col = 'CURE END POSITION X Collect Result_Dam'\n",
    "end_z_col = 'CURE END POSITION Z Collect Result_Dam'\n",
    "\n",
    "# 시작 위치와 끝 위치 사이의 거리 계산\n",
    "train_data['CURE_DISTANCE_Dam'] = np.sqrt(\n",
    "    (train_data[end_x_col] - train_data[start_x_col]) ** 2 +\n",
    "    (train_data[end_z_col] - start_z_col) ** 2\n",
    ")\n",
    "\n",
    "test_data['CURE_DISTANCE_Dam'] = np.sqrt(\n",
    "    (train_data[end_x_col] - train_data[start_x_col]) ** 2 +\n",
    "    (train_data[end_z_col] - start_z_col) ** 2\n",
    ")"
   ]
  },
  {
   "cell_type": "code",
   "execution_count": 412,
   "id": "60df3bab",
   "metadata": {},
   "outputs": [],
   "source": [
    "# 변수 제거\n",
    "train_data.drop(columns=[\n",
    "    'CURE END POSITION X Collect Result_Dam'\n",
    "    , 'CURE END POSITION Z Collect Result_Dam'\n",
    "    , 'CURE END POSITION Θ Collect Result_Dam'\n",
    "    , 'CURE START POSITION X Collect Result_Dam'\n",
    "    , 'CURE START POSITION Θ Collect Result_Dam'\n",
    "], inplace=True)\n",
    "\n",
    "test_data.drop(columns=[\n",
    "    'CURE END POSITION X Collect Result_Dam'\n",
    "    , 'CURE END POSITION Z Collect Result_Dam'\n",
    "    , 'CURE END POSITION Θ Collect Result_Dam'\n",
    "    , 'CURE START POSITION X Collect Result_Dam'\n",
    "    , 'CURE START POSITION Θ Collect Result_Dam'\n",
    "], inplace=True)"
   ]
  },
  {
   "cell_type": "code",
   "execution_count": 413,
   "id": "87dac5c7",
   "metadata": {},
   "outputs": [],
   "source": [
    "train_data['CURE_Time_Dam'] = train_data['CURE_DISTANCE_Dam'] / train_data['CURE SPEED Collect Result_Dam']\n",
    "test_data['CURE_Time_Dam'] = test_data['CURE_DISTANCE_Dam'] / test_data['CURE SPEED Collect Result_Dam']"
   ]
  },
  {
   "cell_type": "code",
   "execution_count": 414,
   "id": "3d20250f",
   "metadata": {},
   "outputs": [],
   "source": [
    "train_data.drop(columns=[\n",
    "    'CURE_DISTANCE_Dam'\n",
    "    , 'CURE SPEED Collect Result_Dam'\n",
    "], inplace=True)\n",
    "\n",
    "test_data.drop(columns=[\n",
    "    'CURE_DISTANCE_Dam'\n",
    "    , 'CURE SPEED Collect Result_Dam'\n",
    "], inplace=True)"
   ]
  },
  {
   "cell_type": "code",
   "execution_count": 415,
   "id": "1550c935",
   "metadata": {},
   "outputs": [],
   "source": [
    "import numpy as np\n",
    "\n",
    "# 각 스테이지의 좌표 열 정의\n",
    "stage1_cols = ['HEAD NORMAL COORDINATE X AXIS(Stage1) Collect Result_Dam',\n",
    "               'HEAD NORMAL COORDINATE Y AXIS(Stage1) Collect Result_Dam',\n",
    "               'HEAD NORMAL COORDINATE Z AXIS(Stage1) Collect Result_Dam']\n",
    "\n",
    "stage2_cols = ['HEAD NORMAL COORDINATE X AXIS(Stage2) Collect Result_Dam',\n",
    "               'HEAD NORMAL COORDINATE Y AXIS(Stage2) Collect Result_Dam',\n",
    "               'HEAD NORMAL COORDINATE Z AXIS(Stage2) Collect Result_Dam']\n",
    "\n",
    "stage3_cols = ['HEAD NORMAL COORDINATE X AXIS(Stage3) Collect Result_Dam',\n",
    "               'HEAD NORMAL COORDINATE Y AXIS(Stage3) Collect Result_Dam',\n",
    "               'HEAD NORMAL COORDINATE Z AXIS(Stage3) Collect Result_Dam']\n",
    "\n",
    "# 거리 계산 함수\n",
    "def calculate_distances(data):\n",
    "    data['DISTANCE_STAGE1_STAGE2_Dam'] = np.sqrt(\n",
    "        (data[stage2_cols[0]] - data[stage1_cols[0]]) ** 2 +\n",
    "        (data[stage2_cols[1]] - data[stage1_cols[1]]) ** 2 +\n",
    "        (data[stage2_cols[2]] - data[stage1_cols[2]]) ** 2\n",
    "    )\n",
    "\n",
    "    data['DISTANCE_STAGE2_STAGE3_Dam'] = np.sqrt(\n",
    "        (data[stage3_cols[0]] - data[stage2_cols[0]]) ** 2 +\n",
    "        (data[stage3_cols[1]] - data[stage2_cols[1]]) ** 2 +\n",
    "        (data[stage3_cols[2]] - data[stage2_cols[2]]) ** 2\n",
    "    )\n",
    "\n",
    "    data['DISTANCE_STAGE1_STAGE3_Dam'] = np.sqrt(\n",
    "        (data[stage3_cols[0]] - data[stage1_cols[0]]) ** 2 +\n",
    "        (data[stage3_cols[1]] - data[stage1_cols[1]]) ** 2 +\n",
    "        (data[stage3_cols[2]] - data[stage1_cols[2]]) ** 2\n",
    "    )\n",
    "\n",
    "    return data\n",
    "\n",
    "# train_data에 적용\n",
    "train_data = calculate_distances(train_data)\n",
    "\n",
    "# test_data에 적용\n",
    "test_data = calculate_distances(test_data)"
   ]
  },
  {
   "cell_type": "code",
   "execution_count": 416,
   "id": "0c75b771",
   "metadata": {},
   "outputs": [],
   "source": [
    "import numpy as np\n",
    "\n",
    "# 필요한 열 이름\n",
    "stage1_stage2_col = 'DISTANCE_STAGE1_STAGE2_Dam'\n",
    "stage2_stage3_col = 'DISTANCE_STAGE2_STAGE3_Dam'\n",
    "stage1_stage3_col = 'DISTANCE_STAGE1_STAGE3_Dam'\n",
    "\n",
    "# 삼각형의 넓이와 높이를 계산하는 함수\n",
    "def calculate_triangle_features(data):\n",
    "    a = data[stage1_stage2_col]\n",
    "    b = data[stage2_stage3_col]\n",
    "    c = data[stage1_stage3_col]\n",
    "\n",
    "    # 헤론의 공식에 따른 삼각형의 넓이 계산\n",
    "    s = (a + b + c) / 2\n",
    "    area = np.sqrt(s * (s - a) * (s - b) * (s - c))\n",
    "\n",
    "    # 높이 계산 (밑변을 c로 가정)\n",
    "    height = (2 * area) / c\n",
    "\n",
    "    # 결과를 새로운 열에 저장\n",
    "    data['DISTANCE_TRIANGLE_area_Dam'] = area\n",
    "    data['DISTANCE_TRIANGLE_height_Dam'] = height\n",
    "\n",
    "    return data\n",
    "\n",
    "# train_data에 적용\n",
    "train_data = calculate_triangle_features(train_data)\n",
    "\n",
    "# test_data에 적용\n",
    "test_data = calculate_triangle_features(test_data)"
   ]
  },
  {
   "cell_type": "code",
   "execution_count": 417,
   "id": "a13ba973",
   "metadata": {},
   "outputs": [
    {
     "name": "stderr",
     "output_type": "stream",
     "text": [
      "C:\\Users\\juneh\\AppData\\Roaming\\Python\\Python37\\site-packages\\ipykernel_launcher.py:13: FutureWarning: Dropping of nuisance columns in DataFrame reductions (with 'numeric_only=None') is deprecated; in a future version this will raise TypeError.  Select only valid columns before calling the reduction.\n",
      "  del sys.path[0]\n"
     ]
    }
   ],
   "source": [
    "import pandas as pd\n",
    "\n",
    "# '_Dam'를 포함하는 열 이름 필터링 함수\n",
    "def filter_dam_columns(data):\n",
    "    return data.filter(like='_Dam').columns\n",
    "\n",
    "# 스테이지별로 파생변수 생성 함수\n",
    "def create_stage_variables(data, columns):\n",
    "    stages = ['Stage1', 'Stage2', 'Stage3']\n",
    "    for stage in stages:\n",
    "        stage_cols = [col for col in columns if stage in col]\n",
    "        new_col_name = f'{stage}_Total_Distance_Speed_Collect_Result_Dam'\n",
    "        data[new_col_name] = data[stage_cols].sum(axis=1)\n",
    "        # 이전 변수 삭제\n",
    "        data.drop(columns=stage_cols, inplace=True)\n",
    "    return data\n",
    "\n",
    "# train_data에 적용\n",
    "train_dam_columns = filter_dam_columns(train_data)\n",
    "train_data = create_stage_variables(train_data, train_dam_columns)\n",
    "\n",
    "# test_data에 적용\n",
    "test_dam_columns = filter_dam_columns(test_data)\n",
    "test_data = create_stage_variables(test_data, test_dam_columns)"
   ]
  },
  {
   "cell_type": "code",
   "execution_count": 418,
   "id": "e36fd34a",
   "metadata": {},
   "outputs": [],
   "source": [
    "# 새로운 파생변수 생성 함수\n",
    "def create_total_thickness_dam(data):\n",
    "    data['Total_THICKNESS_Collect_Result_Dam'] = (\n",
    "        data['THICKNESS 1 Collect Result_Dam'] +\n",
    "        data['THICKNESS 2 Collect Result_Dam'] +\n",
    "        data['THICKNESS 3 Collect Result_Dam']\n",
    "    )\n",
    "    # 기존 변수 삭제\n",
    "    data.drop(columns=[\n",
    "        'THICKNESS 1 Collect Result_Dam',\n",
    "        'THICKNESS 2 Collect Result_Dam',\n",
    "        'THICKNESS 3 Collect Result_Dam'\n",
    "    ], inplace=True)\n",
    "    return data\n",
    "\n",
    "train_data = create_total_thickness_dam(train_data)\n",
    "test_data = create_total_thickness_dam(test_data)"
   ]
  },
  {
   "cell_type": "code",
   "execution_count": 419,
   "id": "94e87f6c",
   "metadata": {},
   "outputs": [],
   "source": [
    "# 삭제할 열 이름 정의\n",
    "columns_to_drop = [\n",
    "    'DISTANCE_STAGE1_STAGE2_Dam'\n",
    "    , 'DISTANCE_STAGE2_STAGE3_Dam'\n",
    "    , 'DISTANCE_STAGE1_STAGE3_Dam'\n",
    "]\n",
    "\n",
    "# train_data에서 열 삭제\n",
    "train_data = train_data.drop(columns=columns_to_drop)\n",
    "\n",
    "# test_data에서 열 삭제\n",
    "test_data = test_data.drop(columns=columns_to_drop)"
   ]
  },
  {
   "cell_type": "code",
   "execution_count": 420,
   "id": "b917e3db",
   "metadata": {},
   "outputs": [
    {
     "name": "stdout",
     "output_type": "stream",
     "text": [
      "<Dam 공정 관련 변수>\n",
      "DISCHARGED SPEED OF RESIN Collect Result_Dam\n",
      "Head Clean Position Z Collect Result_Dam\n",
      "Head Purge Position Z Collect Result_Dam\n",
      "Head Zero Position Y Collect Result_Dam\n",
      "Head Zero Position Z Collect Result_Dam\n",
      "Machine Tact time Collect Result_Dam\n",
      "PalletID Collect Result_Dam\n",
      "Production Qty Collect Result_Dam\n",
      "Receip No Collect Result_Dam\n",
      "WorkMode Collect Result_Dam\n",
      "CURE_Time_Dam\n",
      "DISTANCE_TRIANGLE_area_Dam\n",
      "DISTANCE_TRIANGLE_height_Dam\n",
      "Stage1_Total_Distance_Speed_Collect_Result_Dam\n",
      "Stage2_Total_Distance_Speed_Collect_Result_Dam\n",
      "Stage3_Total_Distance_Speed_Collect_Result_Dam\n",
      "Total_THICKNESS_Collect_Result_Dam\n"
     ]
    }
   ],
   "source": [
    "# '_Dam'를 포함하는 열 이름 필터링\n",
    "Process_Desc_col = train_data.filter(like='_Dam').columns\n",
    "\n",
    "# 필터링된 열 이름 출력\n",
    "print(\"<Dam 공정 관련 변수>\")\n",
    "for col in Process_Desc_col:\n",
    "    print(col)"
   ]
  },
  {
   "cell_type": "markdown",
   "id": "0906cc5f",
   "metadata": {},
   "source": [
    "## AutoClave"
   ]
  },
  {
   "cell_type": "code",
   "execution_count": 421,
   "id": "dcf60606",
   "metadata": {},
   "outputs": [
    {
     "name": "stdout",
     "output_type": "stream",
     "text": [
      "<AutoClave 공정 관련 변수>\n",
      "1st Pressure Collect Result_AutoClave\n",
      "1st Pressure 1st Pressure Unit Time_AutoClave\n",
      "2nd Pressure Collect Result_AutoClave\n",
      "2nd Pressure Unit Time_AutoClave\n",
      "3rd Pressure Collect Result_AutoClave\n",
      "3rd Pressure Unit Time_AutoClave\n",
      "Chamber Temp. Collect Result_AutoClave\n",
      "Chamber Temp. Unit Time_AutoClave\n",
      "Chamber Temp. Judge Value_AutoClave\n",
      "GMES_ORIGIN_INSP_JUDGE_CODE Collect Result_AutoClave\n",
      "GMES_ORIGIN_INSP_JUDGE_CODE Judge Value_AutoClave\n"
     ]
    }
   ],
   "source": [
    "# '_AutoClave'를 포함하는 열 이름 필터링\n",
    "Process_Desc_col = train_data.filter(like='_AutoClave').columns\n",
    "\n",
    "# 필터링된 열 이름 출력\n",
    "print(\"<AutoClave 공정 관련 변수>\")\n",
    "for col in Process_Desc_col:\n",
    "    print(col)"
   ]
  },
  {
   "cell_type": "code",
   "execution_count": 422,
   "id": "ce64980d",
   "metadata": {},
   "outputs": [],
   "source": [
    "# 변수명 변경\n",
    "train_data = train_data.rename(columns={'1st Pressure 1st Pressure Unit Time_AutoClave': '1st Pressure Unit Time_AutoClave'})\n",
    "test_data = test_data.rename(columns={'1st Pressure 1st Pressure Unit Time_AutoClave': '1st Pressure Unit Time_AutoClave'})\n",
    "\n",
    "train_data = train_data.rename(columns={'GMES_ORIGIN_INSP_JUDGE_CODE Collect Result_AutoClave': 'GMES_ORIGIN_INSP_JUDGE_CODE_AutoClave'})\n",
    "test_data = test_data.rename(columns={'GMES_ORIGIN_INSP_JUDGE_CODE Collect Result_AutoClave': 'GMES_ORIGIN_INSP_JUDGE_CODE_AutoClave'})"
   ]
  },
  {
   "cell_type": "code",
   "execution_count": 423,
   "id": "ec5d1aeb",
   "metadata": {},
   "outputs": [],
   "source": [
    "# 파생변수 생성\n",
    "train_data['1st_Pressure_x_AutoClave'] = train_data['1st Pressure Collect Result_AutoClave'] * train_data['1st Pressure Unit Time_AutoClave'] \n",
    "test_data['1st_Pressure_x_AutoClave'] = test_data['1st Pressure Collect Result_AutoClave'] * test_data['1st Pressure Unit Time_AutoClave'] \n",
    "\n",
    "train_data['2nd_Pressure_x_AutoClave'] = train_data['2nd Pressure Collect Result_AutoClave'] * train_data['2nd Pressure Unit Time_AutoClave'] \n",
    "test_data['2nd_Pressure_x_AutoClave'] = test_data['2nd Pressure Collect Result_AutoClave'] * test_data['2nd Pressure Unit Time_AutoClave'] \n",
    "\n",
    "train_data['3rd_Pressure_x_AutoClave'] = train_data['3rd Pressure Collect Result_AutoClave'] * train_data['3rd Pressure Unit Time_AutoClave'] \n",
    "test_data['3rd_Pressure_x_AutoClave'] = test_data['3rd Pressure Collect Result_AutoClave'] * test_data['3rd Pressure Unit Time_AutoClave'] \n",
    "\n",
    "train_data['Chamber_Temp_x_AutoClave'] = train_data['Chamber Temp. Collect Result_AutoClave'] * train_data['Chamber Temp. Unit Time_AutoClave']\n",
    "test_data['Chamber_Temp_x_AutoClave'] = test_data['Chamber Temp. Collect Result_AutoClave'] * test_data['Chamber Temp. Unit Time_AutoClave']\n",
    "\n",
    "train_data['Chamber_Temp_ok_AutoClave'] = train_data['Chamber Temp. Judge Value_AutoClave'].apply(lambda x: 1 if x == 'OK' else 0)\n",
    "test_data['Chamber_Temp_ok_AutoClave'] = test_data['Chamber Temp. Judge Value_AutoClave'].apply(lambda x: 1 if x == 'OK' else 0)\n",
    "\n",
    "train_data['GMES_ORIGIN_INSP_JUDGE_CODE_ok_AutoClave'] = train_data['GMES_ORIGIN_INSP_JUDGE_CODE_AutoClave'].apply(lambda x: 1 if x == 'OK' else 0)\n",
    "test_data['GMES_ORIGIN_INSP_JUDGE_CODE_ok_AutoClave'] = test_data['GMES_ORIGIN_INSP_JUDGE_CODE_AutoClave'].apply(lambda x: 1 if x == 'OK' else 0)\n"
   ]
  },
  {
   "cell_type": "code",
   "execution_count": 424,
   "id": "6115c473",
   "metadata": {},
   "outputs": [],
   "source": [
    "# 변수 제거\n",
    "train_data.drop(columns=[\n",
    "    'Chamber Temp. Collect Result_AutoClave'\n",
    "    , 'Chamber Temp. Unit Time_AutoClave'\n",
    "    , 'Chamber Temp. Judge Value_AutoClave'\n",
    "    , 'GMES_ORIGIN_INSP_JUDGE_CODE_AutoClave'\n",
    "    , 'GMES_ORIGIN_INSP_JUDGE_CODE Judge Value_AutoClave'\n",
    "    , '1st Pressure Collect Result_AutoClave'\n",
    "    , '1st Pressure Unit Time_AutoClave'\n",
    "    , '2nd Pressure Collect Result_AutoClave'\n",
    "    , '2nd Pressure Unit Time_AutoClave'\n",
    "    , '3rd Pressure Collect Result_AutoClave'\n",
    "    , '3rd Pressure Unit Time_AutoClave'], inplace=True)\n",
    "\n",
    "test_data.drop(columns=[\n",
    "    'Chamber Temp. Collect Result_AutoClave'\n",
    "    , 'Chamber Temp. Unit Time_AutoClave'\n",
    "    , 'Chamber Temp. Judge Value_AutoClave'\n",
    "    , 'GMES_ORIGIN_INSP_JUDGE_CODE_AutoClave'\n",
    "    , 'GMES_ORIGIN_INSP_JUDGE_CODE Judge Value_AutoClave'\n",
    "    , '1st Pressure Collect Result_AutoClave'\n",
    "    , '1st Pressure Unit Time_AutoClave'\n",
    "    , '2nd Pressure Collect Result_AutoClave'\n",
    "    , '2nd Pressure Unit Time_AutoClave'\n",
    "    , '3rd Pressure Collect Result_AutoClave'\n",
    "    , '3rd Pressure Unit Time_AutoClave'], inplace=True)"
   ]
  },
  {
   "cell_type": "code",
   "execution_count": 425,
   "id": "58aa41c6",
   "metadata": {},
   "outputs": [
    {
     "name": "stdout",
     "output_type": "stream",
     "text": [
      "<AutoClave 공정 관련 변수>\n",
      "1st_Pressure_x_AutoClave\n",
      "2nd_Pressure_x_AutoClave\n",
      "3rd_Pressure_x_AutoClave\n",
      "Chamber_Temp_x_AutoClave\n",
      "Chamber_Temp_ok_AutoClave\n",
      "GMES_ORIGIN_INSP_JUDGE_CODE_ok_AutoClave\n"
     ]
    }
   ],
   "source": [
    "# '_AutoClave'를 포함하는 열 이름 필터링\n",
    "Process_Desc_col = train_data.filter(like='_AutoClave').columns\n",
    "\n",
    "# 필터링된 열 이름 출력\n",
    "print(\"<AutoClave 공정 관련 변수>\")\n",
    "for col in Process_Desc_col:\n",
    "    print(col)"
   ]
  },
  {
   "cell_type": "markdown",
   "id": "b0164e69",
   "metadata": {},
   "source": [
    "## Fill1"
   ]
  },
  {
   "cell_type": "code",
   "execution_count": 426,
   "id": "73f3ef3e",
   "metadata": {},
   "outputs": [],
   "source": [
    "import numpy as np\n",
    "\n",
    "# 각 스테이지의 좌표 열 정의\n",
    "stage1_cols = ['HEAD NORMAL COORDINATE X AXIS(Stage1) Collect Result_Fill1',\n",
    "               'HEAD NORMAL COORDINATE Y AXIS(Stage1) Collect Result_Fill1',\n",
    "               'HEAD NORMAL COORDINATE Z AXIS(Stage1) Collect Result_Fill1']\n",
    "\n",
    "stage2_cols = ['HEAD NORMAL COORDINATE X AXIS(Stage2) Collect Result_Fill1',\n",
    "               'HEAD NORMAL COORDINATE Y AXIS(Stage2) Collect Result_Fill1',\n",
    "               'HEAD NORMAL COORDINATE Z AXIS(Stage2) Collect Result_Fill1']\n",
    "\n",
    "stage3_cols = ['HEAD NORMAL COORDINATE X AXIS(Stage3) Collect Result_Fill1',\n",
    "               'HEAD NORMAL COORDINATE Y AXIS(Stage3) Collect Result_Fill1',\n",
    "               'HEAD NORMAL COORDINATE Z AXIS(Stage3) Collect Result_Fill1']\n",
    "\n",
    "# 거리 계산 함수\n",
    "def calculate_distances(data):\n",
    "    data['DISTANCE_STAGE1_STAGE2_Fill1'] = np.sqrt(\n",
    "        (data[stage2_cols[0]] - data[stage1_cols[0]]) ** 2 +\n",
    "        (data[stage2_cols[1]] - data[stage1_cols[1]]) ** 2 +\n",
    "        (data[stage2_cols[2]] - data[stage1_cols[2]]) ** 2\n",
    "    )\n",
    "\n",
    "    data['DISTANCE_STAGE2_STAGE3_Fill1'] = np.sqrt(\n",
    "        (data[stage3_cols[0]] - data[stage2_cols[0]]) ** 2 +\n",
    "        (data[stage3_cols[1]] - data[stage2_cols[1]]) ** 2 +\n",
    "        (data[stage3_cols[2]] - data[stage2_cols[2]]) ** 2\n",
    "    )\n",
    "\n",
    "    data['DISTANCE_STAGE1_STAGE3_Fill1'] = np.sqrt(\n",
    "        (data[stage3_cols[0]] - data[stage1_cols[0]]) ** 2 +\n",
    "        (data[stage3_cols[1]] - data[stage1_cols[1]]) ** 2 +\n",
    "        (data[stage3_cols[2]] - data[stage1_cols[2]]) ** 2\n",
    "    )\n",
    "\n",
    "    return data\n",
    "\n",
    "# train_data에 적용\n",
    "train_data = calculate_distances(train_data)\n",
    "\n",
    "# test_data에 적용\n",
    "test_data = calculate_distances(test_data)"
   ]
  },
  {
   "cell_type": "code",
   "execution_count": 427,
   "id": "b4bc0003",
   "metadata": {},
   "outputs": [],
   "source": [
    "import numpy as np\n",
    "\n",
    "# 필요한 열 이름\n",
    "stage1_stage2_col = 'DISTANCE_STAGE1_STAGE2_Fill1'\n",
    "stage2_stage3_col = 'DISTANCE_STAGE2_STAGE3_Fill1'\n",
    "stage1_stage3_col = 'DISTANCE_STAGE1_STAGE3_Fill1'\n",
    "\n",
    "# 삼각형의 넓이와 높이를 계산하는 함수\n",
    "def calculate_triangle_features(data):\n",
    "    a = data[stage1_stage2_col]\n",
    "    b = data[stage2_stage3_col]\n",
    "    c = data[stage1_stage3_col]\n",
    "\n",
    "    # 헤론의 공식에 따른 삼각형의 넓이 계산\n",
    "    s = (a + b + c) / 2\n",
    "    area = np.sqrt(s * (s - a) * (s - b) * (s - c))\n",
    "\n",
    "    # 높이 계산 (밑변을 c로 가정)\n",
    "    height = (2 * area) / c\n",
    "\n",
    "    # 결과를 새로운 열에 저장\n",
    "    data['DISTANCE_TRIANGLE_area_Fill1'] = area\n",
    "    data['DISTANCE_TRIANGLE_height_Fill1'] = height\n",
    "\n",
    "    return data\n",
    "\n",
    "# train_data에 적용\n",
    "train_data = calculate_triangle_features(train_data)\n",
    "\n",
    "# test_data에 적용\n",
    "test_data = calculate_triangle_features(test_data)"
   ]
  },
  {
   "cell_type": "code",
   "execution_count": 428,
   "id": "244384f8",
   "metadata": {},
   "outputs": [],
   "source": [
    "# 삭제할 열 이름 정의\n",
    "columns_to_drop = [\n",
    "    'DISTANCE_STAGE1_STAGE2_Fill1'\n",
    "    , 'DISTANCE_STAGE2_STAGE3_Fill1'\n",
    "    , 'DISTANCE_STAGE1_STAGE3_Fill1'\n",
    "]\n",
    "\n",
    "# train_data에서 열 삭제\n",
    "train_data = train_data.drop(columns=columns_to_drop)\n",
    "\n",
    "# test_data에서 열 삭제\n",
    "test_data = test_data.drop(columns=columns_to_drop)"
   ]
  },
  {
   "cell_type": "code",
   "execution_count": 429,
   "id": "cf4306e3",
   "metadata": {},
   "outputs": [],
   "source": [
    "# 변수 제거\n",
    "train_data.drop(columns=[\n",
    "    'HEAD NORMAL COORDINATE X AXIS(Stage1) Collect Result_Fill1'\n",
    "    , 'HEAD NORMAL COORDINATE X AXIS(Stage2) Collect Result_Fill1'\n",
    "    , 'HEAD NORMAL COORDINATE X AXIS(Stage3) Collect Result_Fill1'\n",
    "    , 'HEAD NORMAL COORDINATE Y AXIS(Stage1) Collect Result_Fill1'\n",
    "    , 'HEAD NORMAL COORDINATE Y AXIS(Stage2) Collect Result_Fill1'\n",
    "    , 'HEAD NORMAL COORDINATE Y AXIS(Stage3) Collect Result_Fill1'\n",
    "    , 'HEAD NORMAL COORDINATE Z AXIS(Stage1) Collect Result_Fill1'\n",
    "    , 'HEAD NORMAL COORDINATE Z AXIS(Stage2) Collect Result_Fill1'\n",
    "    , 'HEAD NORMAL COORDINATE Z AXIS(Stage3) Collect Result_Fill1'], inplace=True)\n",
    "\n",
    "test_data.drop(columns=[\n",
    "    'HEAD NORMAL COORDINATE X AXIS(Stage1) Collect Result_Fill1'\n",
    "    , 'HEAD NORMAL COORDINATE X AXIS(Stage2) Collect Result_Fill1'\n",
    "    , 'HEAD NORMAL COORDINATE X AXIS(Stage3) Collect Result_Fill1'\n",
    "    , 'HEAD NORMAL COORDINATE Y AXIS(Stage1) Collect Result_Fill1'\n",
    "    , 'HEAD NORMAL COORDINATE Y AXIS(Stage2) Collect Result_Fill1'\n",
    "    , 'HEAD NORMAL COORDINATE Y AXIS(Stage3) Collect Result_Fill1'\n",
    "    , 'HEAD NORMAL COORDINATE Z AXIS(Stage1) Collect Result_Fill1'\n",
    "    , 'HEAD NORMAL COORDINATE Z AXIS(Stage2) Collect Result_Fill1'\n",
    "    , 'HEAD NORMAL COORDINATE Z AXIS(Stage3) Collect Result_Fill1'], inplace=True)"
   ]
  },
  {
   "cell_type": "code",
   "execution_count": 430,
   "id": "0efcf423",
   "metadata": {},
   "outputs": [],
   "source": [
    "# 'WorkMode Collect Result_Fill1' 열의 결측값을 0으로 채우기\n",
    "train_data['WorkMode Collect Result_Fill1'].fillna(0, inplace=True)\n",
    "test_data['WorkMode Collect Result_Fill1'].fillna(0, inplace=True)"
   ]
  },
  {
   "cell_type": "code",
   "execution_count": 431,
   "id": "a06d132b",
   "metadata": {},
   "outputs": [
    {
     "name": "stdout",
     "output_type": "stream",
     "text": [
      "<Fill1 공정 관련 변수>\n",
      "DISCHARGED SPEED OF RESIN Collect Result_Fill1\n",
      "DISCHARGED TIME OF RESIN(Stage1) Collect Result_Fill1\n",
      "DISCHARGED TIME OF RESIN(Stage2) Collect Result_Fill1\n",
      "DISCHARGED TIME OF RESIN(Stage3) Collect Result_Fill1\n",
      "Dispense Volume(Stage1) Collect Result_Fill1\n",
      "Dispense Volume(Stage2) Collect Result_Fill1\n",
      "Dispense Volume(Stage3) Collect Result_Fill1\n",
      "HEAD NORMAL COORDINATE X AXIS(Stage1) Judge Value_Fill1\n",
      "Head Purge Position Z Collect Result_Fill1\n",
      "Machine Tact time Collect Result_Fill1\n",
      "PalletID Collect Result_Fill1\n",
      "Production Qty Collect Result_Fill1\n",
      "Receip No Collect Result_Fill1\n",
      "WorkMode Collect Result_Fill1\n",
      "DISTANCE_TRIANGLE_area_Fill1\n",
      "DISTANCE_TRIANGLE_height_Fill1\n"
     ]
    }
   ],
   "source": [
    "# '_Fill1'를 포함하는 열 이름 필터링\n",
    "Process_Desc_col = train_data.filter(like='_Fill1').columns\n",
    "\n",
    "# 필터링된 열 이름 출력\n",
    "print(\"<Fill1 공정 관련 변수>\")\n",
    "for col in Process_Desc_col:\n",
    "    print(col)"
   ]
  },
  {
   "cell_type": "markdown",
   "id": "70759e80",
   "metadata": {},
   "source": [
    "## Fill2"
   ]
  },
  {
   "cell_type": "code",
   "execution_count": 432,
   "id": "6d9fcae9",
   "metadata": {},
   "outputs": [
    {
     "name": "stdout",
     "output_type": "stream",
     "text": [
      "<Fill2 공정 관련 변수>\n",
      "CURE END POSITION X Collect Result_Fill2\n",
      "CURE END POSITION Z Collect Result_Fill2\n",
      "CURE SPEED Collect Result_Fill2\n",
      "CURE STANDBY POSITION Z Collect Result_Fill2\n",
      "CURE START POSITION X Collect Result_Fill2\n",
      "CURE START POSITION Z Collect Result_Fill2\n",
      "HEAD NORMAL COORDINATE X AXIS(Stage1) Collect Result_Fill2\n",
      "HEAD NORMAL COORDINATE X AXIS(Stage1) Judge Value_Fill2\n",
      "HEAD NORMAL COORDINATE X AXIS(Stage2) Collect Result_Fill2\n",
      "HEAD NORMAL COORDINATE X AXIS(Stage3) Collect Result_Fill2\n",
      "HEAD NORMAL COORDINATE Y AXIS(Stage1) Collect Result_Fill2\n",
      "HEAD NORMAL COORDINATE Y AXIS(Stage2) Collect Result_Fill2\n",
      "HEAD NORMAL COORDINATE Y AXIS(Stage3) Collect Result_Fill2\n",
      "HEAD NORMAL COORDINATE Z AXIS(Stage1) Collect Result_Fill2\n",
      "HEAD NORMAL COORDINATE Z AXIS(Stage2) Collect Result_Fill2\n",
      "HEAD NORMAL COORDINATE Z AXIS(Stage3) Collect Result_Fill2\n",
      "Head Purge Position Z Collect Result_Fill2\n",
      "Machine Tact time Collect Result_Fill2\n",
      "PalletID Collect Result_Fill2\n",
      "Production Qty Collect Result_Fill2\n",
      "Receip No Collect Result_Fill2\n",
      "WorkMode Collect Result_Fill2\n"
     ]
    }
   ],
   "source": [
    "# '_Fill2'를 포함하는 열 이름 필터링\n",
    "Process_Desc_col = train_data.filter(like='_Fill2').columns\n",
    "\n",
    "# 필터링된 열 이름 출력\n",
    "print(\"<Fill2 공정 관련 변수>\")\n",
    "for col in Process_Desc_col:\n",
    "    print(col)"
   ]
  },
  {
   "cell_type": "code",
   "execution_count": 433,
   "id": "6f3691a4",
   "metadata": {},
   "outputs": [],
   "source": [
    "import numpy as np\n",
    "\n",
    "# 시작 위치와 끝 위치 열 이름\n",
    "start_x_col = 'CURE START POSITION X Collect Result_Fill2'\n",
    "start_z_col = 'CURE START POSITION Z Collect Result_Fill2'\n",
    "end_x_col = 'CURE END POSITION X Collect Result_Fill2'\n",
    "end_z_col = 'CURE END POSITION Z Collect Result_Fill2'\n",
    "\n",
    "# 시작 위치와 끝 위치 사이의 거리 계산\n",
    "train_data['CURE_DISTANCE_Fill2'] = np.sqrt(\n",
    "    (train_data[end_x_col] - train_data[start_x_col]) ** 2 +\n",
    "    (train_data[end_z_col] - train_data[start_z_col]) ** 2\n",
    ")\n",
    "\n",
    "test_data['CURE_DISTANCE_Fill2'] = np.sqrt(\n",
    "    (train_data[end_x_col] - train_data[start_x_col]) ** 2 +\n",
    "    (train_data[end_z_col] - train_data[start_z_col]) ** 2\n",
    ")"
   ]
  },
  {
   "cell_type": "code",
   "execution_count": 434,
   "id": "cd17f9e6",
   "metadata": {},
   "outputs": [],
   "source": [
    "train_data['CURE_Time_Fill2']  = train_data['CURE_DISTANCE_Fill2'] / train_data['CURE SPEED Collect Result_Fill2']\n",
    "test_data['CURE_Time_Fill2']  = test_data['CURE_DISTANCE_Fill2'] / test_data['CURE SPEED Collect Result_Fill2']"
   ]
  },
  {
   "cell_type": "code",
   "execution_count": 435,
   "id": "5c436499",
   "metadata": {},
   "outputs": [],
   "source": [
    "train_data['CURE_STANDBY_DISTANCE_Fill2']  = train_data['CURE START POSITION Z Collect Result_Fill2'] - train_data['CURE STANDBY POSITION Z Collect Result_Fill2']\n",
    "test_data['CURE_STANDBY_DISTANCE_Fill2']  = test_data['CURE START POSITION Z Collect Result_Fill2'] - test_data['CURE STANDBY POSITION Z Collect Result_Fill2']"
   ]
  },
  {
   "cell_type": "code",
   "execution_count": 436,
   "id": "2bb58e39",
   "metadata": {},
   "outputs": [],
   "source": [
    "# 변수 제거\n",
    "train_data.drop(columns=[\n",
    "    'CURE END POSITION X Collect Result_Fill2'\n",
    "    , 'CURE END POSITION Z Collect Result_Fill2'\n",
    "    , 'CURE START POSITION X Collect Result_Fill2'\n",
    "    , 'CURE START POSITION Z Collect Result_Fill2'\n",
    "    , 'CURE_STANDBY_DISTANCE_Fill2'\n",
    "    , 'CURE SPEED Collect Result_Fill2'], inplace=True)\n",
    "\n",
    "test_data.drop(columns=[\n",
    "    'CURE END POSITION X Collect Result_Fill2'\n",
    "    , 'CURE END POSITION Z Collect Result_Fill2'\n",
    "    , 'CURE START POSITION X Collect Result_Fill2'\n",
    "    , 'CURE START POSITION Z Collect Result_Fill2'\n",
    "    , 'CURE_STANDBY_DISTANCE_Fill2'\n",
    "    , 'CURE SPEED Collect Result_Fill2'], inplace=True)"
   ]
  },
  {
   "cell_type": "code",
   "execution_count": 437,
   "id": "3d2c3400",
   "metadata": {},
   "outputs": [],
   "source": [
    "# CURE STANDBY POSITION Z Collect Result_Fill2 이름 변경\n",
    "train_data.rename(columns={'CURE STANDBY POSITION Z Collect Result_Fill2': 'CURE_STANDBY_POSITION_Fill2'}, inplace=True)\n",
    "test_data.rename(columns={'CURE STANDBY POSITION Z Collect Result_Fill2': 'CURE_STANDBY_POSITION_Fill2'}, inplace=True)"
   ]
  },
  {
   "cell_type": "code",
   "execution_count": 438,
   "id": "5da943f0",
   "metadata": {},
   "outputs": [],
   "source": [
    "import numpy as np\n",
    "\n",
    "# 각 스테이지의 좌표 열 정의\n",
    "stage1_cols = ['HEAD NORMAL COORDINATE X AXIS(Stage1) Collect Result_Fill2',\n",
    "               'HEAD NORMAL COORDINATE Y AXIS(Stage1) Collect Result_Fill2',\n",
    "               'HEAD NORMAL COORDINATE Z AXIS(Stage1) Collect Result_Fill2']\n",
    "\n",
    "stage2_cols = ['HEAD NORMAL COORDINATE X AXIS(Stage2) Collect Result_Fill2',\n",
    "               'HEAD NORMAL COORDINATE Y AXIS(Stage2) Collect Result_Fill2',\n",
    "               'HEAD NORMAL COORDINATE Z AXIS(Stage2) Collect Result_Fill2']\n",
    "\n",
    "stage3_cols = ['HEAD NORMAL COORDINATE X AXIS(Stage3) Collect Result_Fill2',\n",
    "               'HEAD NORMAL COORDINATE Y AXIS(Stage3) Collect Result_Fill2',\n",
    "               'HEAD NORMAL COORDINATE Z AXIS(Stage3) Collect Result_Fill2']\n",
    "\n",
    "# 거리 계산 함수\n",
    "def calculate_distances(data):\n",
    "    data['DISTANCE_STAGE1_STAGE2_Fill2'] = np.sqrt(\n",
    "        (data[stage2_cols[0]] - data[stage1_cols[0]]) ** 2 +\n",
    "        (data[stage2_cols[1]] - data[stage1_cols[1]]) ** 2 +\n",
    "        (data[stage2_cols[2]] - data[stage1_cols[2]]) ** 2\n",
    "    )\n",
    "\n",
    "    data['DISTANCE_STAGE2_STAGE3_Fill2'] = np.sqrt(\n",
    "        (data[stage3_cols[0]] - data[stage2_cols[0]]) ** 2 +\n",
    "        (data[stage3_cols[1]] - data[stage2_cols[1]]) ** 2 +\n",
    "        (data[stage3_cols[2]] - data[stage2_cols[2]]) ** 2\n",
    "    )\n",
    "\n",
    "    data['DISTANCE_STAGE1_STAGE3_Fill2'] = np.sqrt(\n",
    "        (data[stage3_cols[0]] - data[stage1_cols[0]]) ** 2 +\n",
    "        (data[stage3_cols[1]] - data[stage1_cols[1]]) ** 2 +\n",
    "        (data[stage3_cols[2]] - data[stage1_cols[2]]) ** 2\n",
    "    )\n",
    "\n",
    "    return data\n",
    "\n",
    "# train_data에 적용\n",
    "train_data = calculate_distances(train_data)\n",
    "\n",
    "# test_data에 적용\n",
    "test_data = calculate_distances(test_data)"
   ]
  },
  {
   "cell_type": "code",
   "execution_count": 439,
   "id": "5d3655fd",
   "metadata": {},
   "outputs": [],
   "source": [
    "# OK 값이면 1, 결측 값이면 0을 부여\n",
    "train_data['HEAD_NORMAL_stage1_ok_Fill2'] = train_data['HEAD NORMAL COORDINATE X AXIS(Stage1) Judge Value_Fill2'].apply(lambda x: 1 if x == 'OK' else 0)\n",
    "test_data['HEAD_NORMAL_stage1_ok_Fill2'] = test_data['HEAD NORMAL COORDINATE X AXIS(Stage1) Judge Value_Fill2'].apply(lambda x: 1 if x == 'OK' else 0)\n",
    "\n",
    "# HEAD NORMAL COORDINATE X AXIS(Stage1) Judge Value_Fill1 변수 제거\n",
    "train_data.drop(columns=['HEAD NORMAL COORDINATE X AXIS(Stage1) Judge Value_Fill2'], inplace=True)\n",
    "test_data.drop(columns=['HEAD NORMAL COORDINATE X AXIS(Stage1) Judge Value_Fill2'], inplace=True)"
   ]
  },
  {
   "cell_type": "code",
   "execution_count": 440,
   "id": "3aa63be6",
   "metadata": {},
   "outputs": [],
   "source": [
    "# 변수 제거\n",
    "train_data.drop(columns=[\n",
    "    'HEAD NORMAL COORDINATE X AXIS(Stage1) Collect Result_Fill2'\n",
    "    , 'HEAD NORMAL COORDINATE X AXIS(Stage2) Collect Result_Fill2'\n",
    "    , 'HEAD NORMAL COORDINATE X AXIS(Stage3) Collect Result_Fill2'\n",
    "    , 'HEAD NORMAL COORDINATE Y AXIS(Stage1) Collect Result_Fill2'\n",
    "    , 'HEAD NORMAL COORDINATE Y AXIS(Stage2) Collect Result_Fill2'\n",
    "    , 'HEAD NORMAL COORDINATE Y AXIS(Stage3) Collect Result_Fill2'\n",
    "    , 'HEAD NORMAL COORDINATE Z AXIS(Stage1) Collect Result_Fill2'\n",
    "    , 'HEAD NORMAL COORDINATE Z AXIS(Stage2) Collect Result_Fill2'\n",
    "    , 'HEAD NORMAL COORDINATE Z AXIS(Stage3) Collect Result_Fill2'], inplace=True)\n",
    "\n",
    "test_data.drop(columns=[\n",
    "    'HEAD NORMAL COORDINATE X AXIS(Stage1) Collect Result_Fill2'\n",
    "    , 'HEAD NORMAL COORDINATE X AXIS(Stage2) Collect Result_Fill2'\n",
    "    , 'HEAD NORMAL COORDINATE X AXIS(Stage3) Collect Result_Fill2'\n",
    "    , 'HEAD NORMAL COORDINATE Y AXIS(Stage1) Collect Result_Fill2'\n",
    "    , 'HEAD NORMAL COORDINATE Y AXIS(Stage2) Collect Result_Fill2'\n",
    "    , 'HEAD NORMAL COORDINATE Y AXIS(Stage3) Collect Result_Fill2'\n",
    "    , 'HEAD NORMAL COORDINATE Z AXIS(Stage1) Collect Result_Fill2'\n",
    "    , 'HEAD NORMAL COORDINATE Z AXIS(Stage2) Collect Result_Fill2'\n",
    "    , 'HEAD NORMAL COORDINATE Z AXIS(Stage3) Collect Result_Fill2'], inplace=True)"
   ]
  },
  {
   "cell_type": "code",
   "execution_count": 441,
   "id": "a4ac7d65",
   "metadata": {},
   "outputs": [
    {
     "name": "stdout",
     "output_type": "stream",
     "text": [
      "<Fill2 공정 관련 변수>\n",
      "CURE_STANDBY_POSITION_Fill2\n",
      "Head Purge Position Z Collect Result_Fill2\n",
      "Machine Tact time Collect Result_Fill2\n",
      "PalletID Collect Result_Fill2\n",
      "Production Qty Collect Result_Fill2\n",
      "Receip No Collect Result_Fill2\n",
      "WorkMode Collect Result_Fill2\n",
      "CURE_DISTANCE_Fill2\n",
      "CURE_Time_Fill2\n",
      "DISTANCE_STAGE1_STAGE2_Fill2\n",
      "DISTANCE_STAGE2_STAGE3_Fill2\n",
      "DISTANCE_STAGE1_STAGE3_Fill2\n",
      "HEAD_NORMAL_stage1_ok_Fill2\n"
     ]
    }
   ],
   "source": [
    "# '_Fill2'를 포함하는 열 이름 필터링\n",
    "Process_Desc_col = train_data.filter(like='_Fill2').columns\n",
    "\n",
    "# 필터링된 열 이름 출력\n",
    "print(\"<Fill2 공정 관련 변수>\")\n",
    "for col in Process_Desc_col:\n",
    "    print(col)"
   ]
  },
  {
   "cell_type": "markdown",
   "id": "5c4cc6b9",
   "metadata": {},
   "source": [
    "---"
   ]
  },
  {
   "cell_type": "code",
   "execution_count": 442,
   "id": "db27ac9a",
   "metadata": {},
   "outputs": [
    {
     "name": "stdout",
     "output_type": "stream",
     "text": [
      "<class 'pandas.core.frame.DataFrame'>\n",
      "RangeIndex: 40506 entries, 0 to 40505\n",
      "Data columns (total 56 columns):\n",
      " #   Column                                                   Non-Null Count  Dtype  \n",
      "---  ------                                                   --------------  -----  \n",
      " 0   Model.Suffix                                             40506 non-null  object \n",
      " 1   Workorder                                                40506 non-null  object \n",
      " 2   DISCHARGED SPEED OF RESIN Collect Result_Dam             40506 non-null  int64  \n",
      " 3   Head Clean Position Z Collect Result_Dam                 40506 non-null  float64\n",
      " 4   Head Purge Position Z Collect Result_Dam                 40506 non-null  float64\n",
      " 5   Head Zero Position Y Collect Result_Dam                  40506 non-null  float64\n",
      " 6   Head Zero Position Z Collect Result_Dam                  40506 non-null  float64\n",
      " 7   Machine Tact time Collect Result_Dam                     40506 non-null  float64\n",
      " 8   PalletID Collect Result_Dam                              40506 non-null  int64  \n",
      " 9   Production Qty Collect Result_Dam                        40506 non-null  int64  \n",
      " 10  Receip No Collect Result_Dam                             40506 non-null  int64  \n",
      " 11  WorkMode Collect Result_Dam                              16447 non-null  float64\n",
      " 12  DISCHARGED SPEED OF RESIN Collect Result_Fill1           40506 non-null  float64\n",
      " 13  DISCHARGED TIME OF RESIN(Stage1) Collect Result_Fill1    40506 non-null  float64\n",
      " 14  DISCHARGED TIME OF RESIN(Stage2) Collect Result_Fill1    40506 non-null  float64\n",
      " 15  DISCHARGED TIME OF RESIN(Stage3) Collect Result_Fill1    40506 non-null  float64\n",
      " 16  Dispense Volume(Stage1) Collect Result_Fill1             40506 non-null  float64\n",
      " 17  Dispense Volume(Stage2) Collect Result_Fill1             40506 non-null  float64\n",
      " 18  Dispense Volume(Stage3) Collect Result_Fill1             40506 non-null  float64\n",
      " 19  HEAD NORMAL COORDINATE X AXIS(Stage1) Judge Value_Fill1  11293 non-null  object \n",
      " 20  Head Purge Position Z Collect Result_Fill1               40506 non-null  int64  \n",
      " 21  Machine Tact time Collect Result_Fill1                   40506 non-null  float64\n",
      " 22  PalletID Collect Result_Fill1                            40506 non-null  int64  \n",
      " 23  Production Qty Collect Result_Fill1                      40506 non-null  int64  \n",
      " 24  Receip No Collect Result_Fill1                           40506 non-null  int64  \n",
      " 25  WorkMode Collect Result_Fill1                            40506 non-null  float64\n",
      " 26  CURE_STANDBY_POSITION_Fill2                              40506 non-null  int64  \n",
      " 27  Head Purge Position Z Collect Result_Fill2               40506 non-null  float64\n",
      " 28  Machine Tact time Collect Result_Fill2                   40506 non-null  float64\n",
      " 29  PalletID Collect Result_Fill2                            40506 non-null  int64  \n",
      " 30  Production Qty Collect Result_Fill2                      40506 non-null  int64  \n",
      " 31  Receip No Collect Result_Fill2                           40506 non-null  int64  \n",
      " 32  WorkMode Collect Result_Fill2                            16447 non-null  float64\n",
      " 33  target                                                   40506 non-null  object \n",
      " 34  Equipment_same_num                                       40506 non-null  int64  \n",
      " 35  CURE_Time_Dam                                            40506 non-null  float64\n",
      " 36  DISTANCE_TRIANGLE_area_Dam                               40506 non-null  float64\n",
      " 37  DISTANCE_TRIANGLE_height_Dam                             40506 non-null  float64\n",
      " 38  Stage1_Total_Distance_Speed_Collect_Result_Dam           40506 non-null  float64\n",
      " 39  Stage2_Total_Distance_Speed_Collect_Result_Dam           40506 non-null  float64\n",
      " 40  Stage3_Total_Distance_Speed_Collect_Result_Dam           40506 non-null  float64\n",
      " 41  Total_THICKNESS_Collect_Result_Dam                       40506 non-null  float64\n",
      " 42  1st_Pressure_x_AutoClave                                 40506 non-null  float64\n",
      " 43  2nd_Pressure_x_AutoClave                                 40506 non-null  float64\n",
      " 44  3rd_Pressure_x_AutoClave                                 40506 non-null  float64\n",
      " 45  Chamber_Temp_x_AutoClave                                 40506 non-null  int64  \n",
      " 46  Chamber_Temp_ok_AutoClave                                40506 non-null  int64  \n",
      " 47  GMES_ORIGIN_INSP_JUDGE_CODE_ok_AutoClave                 40506 non-null  int64  \n",
      " 48  DISTANCE_TRIANGLE_area_Fill1                             40506 non-null  float64\n",
      " 49  DISTANCE_TRIANGLE_height_Fill1                           40506 non-null  float64\n",
      " 50  CURE_DISTANCE_Fill2                                      40506 non-null  float64\n",
      " 51  CURE_Time_Fill2                                          40506 non-null  float64\n",
      " 52  DISTANCE_STAGE1_STAGE2_Fill2                             40506 non-null  float64\n",
      " 53  DISTANCE_STAGE2_STAGE3_Fill2                             40506 non-null  float64\n",
      " 54  DISTANCE_STAGE1_STAGE3_Fill2                             40506 non-null  float64\n",
      " 55  HEAD_NORMAL_stage1_ok_Fill2                              40506 non-null  int64  \n",
      "dtypes: float64(35), int64(17), object(4)\n",
      "memory usage: 17.3+ MB\n",
      "---\n"
     ]
    }
   ],
   "source": [
    "train_data.info()\n",
    "print('---')\n",
    "# test_data.info()"
   ]
  },
  {
   "cell_type": "code",
   "execution_count": 443,
   "id": "9da11d5a",
   "metadata": {},
   "outputs": [
    {
     "name": "stdout",
     "output_type": "stream",
     "text": [
      "---\n",
      "<class 'pandas.core.frame.DataFrame'>\n",
      "RangeIndex: 17361 entries, 0 to 17360\n",
      "Data columns (total 57 columns):\n",
      " #   Column                                                   Non-Null Count  Dtype  \n",
      "---  ------                                                   --------------  -----  \n",
      " 0   Set ID                                                   17361 non-null  object \n",
      " 1   Model.Suffix                                             17361 non-null  object \n",
      " 2   Workorder                                                17361 non-null  object \n",
      " 3   DISCHARGED SPEED OF RESIN Collect Result_Dam             17361 non-null  int64  \n",
      " 4   Head Clean Position Z Collect Result_Dam                 17361 non-null  float64\n",
      " 5   Head Purge Position Z Collect Result_Dam                 17361 non-null  float64\n",
      " 6   Head Zero Position Y Collect Result_Dam                  17361 non-null  float64\n",
      " 7   Head Zero Position Z Collect Result_Dam                  17361 non-null  float64\n",
      " 8   Machine Tact time Collect Result_Dam                     17361 non-null  float64\n",
      " 9   PalletID Collect Result_Dam                              17361 non-null  float64\n",
      " 10  Production Qty Collect Result_Dam                        17361 non-null  float64\n",
      " 11  Receip No Collect Result_Dam                             17361 non-null  float64\n",
      " 12  WorkMode Collect Result_Dam                              7012 non-null   float64\n",
      " 13  DISCHARGED SPEED OF RESIN Collect Result_Fill1           17361 non-null  float64\n",
      " 14  DISCHARGED TIME OF RESIN(Stage1) Collect Result_Fill1    17361 non-null  float64\n",
      " 15  DISCHARGED TIME OF RESIN(Stage2) Collect Result_Fill1    17361 non-null  float64\n",
      " 16  DISCHARGED TIME OF RESIN(Stage3) Collect Result_Fill1    17361 non-null  float64\n",
      " 17  Dispense Volume(Stage1) Collect Result_Fill1             17361 non-null  float64\n",
      " 18  Dispense Volume(Stage2) Collect Result_Fill1             17361 non-null  float64\n",
      " 19  Dispense Volume(Stage3) Collect Result_Fill1             17361 non-null  float64\n",
      " 20  HEAD NORMAL COORDINATE X AXIS(Stage1) Judge Value_Fill1  4881 non-null   object \n",
      " 21  Head Purge Position Z Collect Result_Fill1               17361 non-null  float64\n",
      " 22  Machine Tact time Collect Result_Fill1                   17361 non-null  float64\n",
      " 23  PalletID Collect Result_Fill1                            17361 non-null  float64\n",
      " 24  Production Qty Collect Result_Fill1                      17361 non-null  float64\n",
      " 25  Receip No Collect Result_Fill1                           17361 non-null  float64\n",
      " 26  WorkMode Collect Result_Fill1                            17361 non-null  float64\n",
      " 27  CURE_STANDBY_POSITION_Fill2                              17361 non-null  int64  \n",
      " 28  Head Purge Position Z Collect Result_Fill2               17361 non-null  float64\n",
      " 29  Machine Tact time Collect Result_Fill2                   17361 non-null  float64\n",
      " 30  PalletID Collect Result_Fill2                            17361 non-null  float64\n",
      " 31  Production Qty Collect Result_Fill2                      17361 non-null  float64\n",
      " 32  Receip No Collect Result_Fill2                           17361 non-null  float64\n",
      " 33  WorkMode Collect Result_Fill2                            7012 non-null   float64\n",
      " 34  target                                                   0 non-null      float64\n",
      " 35  Equipment_same_num                                       17361 non-null  int64  \n",
      " 36  CURE_Time_Dam                                            17361 non-null  float64\n",
      " 37  DISTANCE_TRIANGLE_area_Dam                               17361 non-null  float64\n",
      " 38  DISTANCE_TRIANGLE_height_Dam                             17361 non-null  float64\n",
      " 39  Stage1_Total_Distance_Speed_Collect_Result_Dam           17361 non-null  float64\n",
      " 40  Stage2_Total_Distance_Speed_Collect_Result_Dam           17361 non-null  float64\n",
      " 41  Stage3_Total_Distance_Speed_Collect_Result_Dam           17361 non-null  float64\n",
      " 42  Total_THICKNESS_Collect_Result_Dam                       17361 non-null  float64\n",
      " 43  1st_Pressure_x_AutoClave                                 17361 non-null  float64\n",
      " 44  2nd_Pressure_x_AutoClave                                 17361 non-null  float64\n",
      " 45  3rd_Pressure_x_AutoClave                                 17361 non-null  float64\n",
      " 46  Chamber_Temp_x_AutoClave                                 17361 non-null  int64  \n",
      " 47  Chamber_Temp_ok_AutoClave                                17361 non-null  int64  \n",
      " 48  GMES_ORIGIN_INSP_JUDGE_CODE_ok_AutoClave                 17361 non-null  int64  \n",
      " 49  DISTANCE_TRIANGLE_area_Fill1                             17361 non-null  float64\n",
      " 50  DISTANCE_TRIANGLE_height_Fill1                           17361 non-null  float64\n",
      " 51  CURE_DISTANCE_Fill2                                      17361 non-null  float64\n",
      " 52  CURE_Time_Fill2                                          17361 non-null  float64\n",
      " 53  DISTANCE_STAGE1_STAGE2_Fill2                             17361 non-null  float64\n",
      " 54  DISTANCE_STAGE2_STAGE3_Fill2                             17361 non-null  float64\n",
      " 55  DISTANCE_STAGE1_STAGE3_Fill2                             17361 non-null  float64\n",
      " 56  HEAD_NORMAL_stage1_ok_Fill2                              17361 non-null  int64  \n",
      "dtypes: float64(46), int64(7), object(4)\n",
      "memory usage: 7.5+ MB\n"
     ]
    }
   ],
   "source": [
    "# train_data.info()\n",
    "print('---')\n",
    "test_data.info()"
   ]
  }
 ],
 "metadata": {
  "kernelspec": {
   "display_name": "Python 3 (ipykernel)",
   "language": "python",
   "name": "python3"
  },
  "language_info": {
   "codemirror_mode": {
    "name": "ipython",
    "version": 3
   },
   "file_extension": ".py",
   "mimetype": "text/x-python",
   "name": "python",
   "nbconvert_exporter": "python",
   "pygments_lexer": "ipython3",
   "version": "3.7.8"
  }
 },
 "nbformat": 4,
 "nbformat_minor": 5
}

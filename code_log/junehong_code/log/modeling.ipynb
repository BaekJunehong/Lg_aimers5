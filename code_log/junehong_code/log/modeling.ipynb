{
 "cells": [
  {
   "cell_type": "markdown",
   "id": "017e9265",
   "metadata": {},
   "source": [
    "# 제품 이상여부 판별 프로젝트\n"
   ]
  },
  {
   "cell_type": "markdown",
   "id": "acdab431",
   "metadata": {},
   "source": [
    "## 1. 데이터 불러오기\n"
   ]
  },
  {
   "cell_type": "markdown",
   "id": "2b8341e8",
   "metadata": {},
   "source": [
    "### 필수 라이브러리\n"
   ]
  },
  {
   "cell_type": "code",
   "execution_count": 384,
   "id": "a315cc58",
   "metadata": {},
   "outputs": [],
   "source": [
    "import os\n",
    "from pprint import pprint\n",
    "\n",
    "import numpy as np\n",
    "import pandas as pd\n",
    "from sklearn.ensemble import RandomForestClassifier\n",
    "from sklearn.metrics import (\n",
    "    accuracy_score,\n",
    "    classification_report,\n",
    "    confusion_matrix,\n",
    "    f1_score,\n",
    "    precision_score,\n",
    "    recall_score,\n",
    ")\n",
    "from sklearn.model_selection import train_test_split\n",
    "from tqdm import tqdm"
   ]
  },
  {
   "cell_type": "markdown",
   "id": "4d054e30",
   "metadata": {},
   "source": [
    "### 데이터 읽어오기\n"
   ]
  },
  {
   "cell_type": "code",
   "execution_count": 385,
   "id": "fc0b4d80",
   "metadata": {},
   "outputs": [],
   "source": [
    "RANDOM_STATE = 110\n",
    "\n",
    "train_data = pd.read_csv(\"../../data/trim_train_data.csv\")\n",
    "test_data = pd.read_csv(\"../../data/trim_test_data.csv\")"
   ]
  },
  {
   "cell_type": "markdown",
   "id": "b0fbb1c8",
   "metadata": {},
   "source": [
    "---"
   ]
  },
  {
   "cell_type": "code",
   "execution_count": 386,
   "id": "dafec554",
   "metadata": {},
   "outputs": [
    {
     "name": "stdout",
     "output_type": "stream",
     "text": [
      "<? column in train_data>\n",
      "CURE END POSITION ? Collect Result_Dam\n",
      "CURE END POSITION ? Unit Time_Dam\n",
      "CURE END POSITION ? Judge Value_Dam\n",
      "CURE STANDBY POSITION ? Collect Result_Dam\n",
      "CURE STANDBY POSITION ? Unit Time_Dam\n",
      "CURE STANDBY POSITION ? Judge Value_Dam\n",
      "CURE START POSITION ? Collect Result_Dam\n",
      "CURE START POSITION ? Unit Time_Dam\n",
      "CURE START POSITION ? Judge Value_Dam\n",
      "CURE END POSITION ? Collect Result_Fill2\n",
      "CURE END POSITION ? Unit Time_Fill2\n",
      "CURE END POSITION ? Judge Value_Fill2\n",
      "CURE STANDBY POSITION ? Collect Result_Fill2\n",
      "CURE STANDBY POSITION ? Unit Time_Fill2\n",
      "CURE STANDBY POSITION ? Judge Value_Fill2\n",
      "CURE START POSITION ? Collect Result_Fill2\n",
      "CURE START POSITION ? Unit Time_Fill2\n",
      "CURE START POSITION ? Judge Value_Fill2\n",
      "<? column in test_data>\n"
     ]
    }
   ],
   "source": [
    "# train_data와 test_data에서 '?'를 포함하는 열 이름 필터링\n",
    "train_Process_Desc_col = train_data.filter(like='?').columns\n",
    "test_Process_Desc_col = test_data.filter(like='?').columns\n",
    "\n",
    "# 필터링된 열 이름 출력\n",
    "print(\"<? column in train_data>\")\n",
    "for col in train_Process_Desc_col:\n",
    "    print(col)\n",
    "\n",
    "print(\"<? column in test_data>\")\n",
    "for col in test_Process_Desc_col:\n",
    "    print(col)\n",
    "\n",
    "# ? -> Θ로 변경할 열 이름과 새 열 이름 생성\n",
    "train_new_columns = {col: col.replace('?', 'Θ') for col in train_Process_Desc_col}\n",
    "test_new_columns = {col: col.replace('?', 'Θ') for col in test_Process_Desc_col}\n",
    "\n",
    "# 열 이름 변경\n",
    "train_data.rename(columns=train_new_columns, inplace=True)\n",
    "test_data.rename(columns=test_new_columns, inplace=True)\n",
    "\n",
    "# 'Θ'를 포함하는 열 이름 필터링\n",
    "train_Process_Desc_col = train_data.filter(like='Θ').columns\n",
    "test_Process_Desc_col = test_data.filter(like='Θ').columns"
   ]
  },
  {
   "cell_type": "code",
   "execution_count": 387,
   "id": "2f49aa16",
   "metadata": {},
   "outputs": [],
   "source": [
    "# target 열을 임시로 분리\n",
    "target_train = train_data['target']\n",
    "target_test = test_data['target']\n",
    "\n",
    "# 모든 값이 NaN인 열 제거\n",
    "train_data = train_data.dropna(axis=1, how='all')\n",
    "test_data = test_data.dropna(axis=1, how='all')\n",
    "\n",
    "# target 열을 다시 결합\n",
    "train_data['target'] = target_train\n",
    "test_data['target'] = target_test"
   ]
  },
  {
   "cell_type": "code",
   "execution_count": 388,
   "id": "d423473b",
   "metadata": {},
   "outputs": [],
   "source": [
    "# Wip Line 열 제거\n",
    "wip_line_columns = train_data.filter(like='Wip Line').columns\n",
    "\n",
    "train_data.drop(columns=wip_line_columns, inplace=True)\n",
    "test_data.drop(columns=wip_line_columns, inplace=True)"
   ]
  },
  {
   "cell_type": "code",
   "execution_count": 389,
   "id": "651ad853",
   "metadata": {},
   "outputs": [],
   "source": [
    "# Process Desc 열 제거\n",
    "Process_Desc_col = train_data.filter(like='Process Desc').columns\n",
    "\n",
    "train_data.drop(columns=Process_Desc_col, inplace=True)\n",
    "test_data.drop(columns=Process_Desc_col, inplace=True)"
   ]
  },
  {
   "cell_type": "code",
   "execution_count": 390,
   "id": "c8fcfbd0",
   "metadata": {},
   "outputs": [],
   "source": [
    "# Equipment로 시작하는 열 필터링\n",
    "Equipment_col = train_data.filter(like='Equipment').columns\n",
    "Equipment_col2 = test_data.filter(like='Equipment').columns\n",
    "\n",
    "new_train = train_data.filter(items=Equipment_col)\n",
    "new_test = test_data.filter(items=Equipment_col2)\n",
    "\n",
    "# Equipment_same_num 파생변수 생성\n",
    "def determine_equipment_same_num(row):\n",
    "    if (row['Equipment_Dam'] == 'Dam dispenser #1' and row['Equipment_AutoClave'] == 'Auto Clave Out' and \n",
    "        row['Equipment_Fill1'] == 'Fill1 dispenser #1' and row['Equipment_Fill2'] == 'Fill2 dispenser #1') or \\\n",
    "       (row['Equipment_Dam'] == 'Dam dispenser #2' and row['Equipment_AutoClave'] == 'Auto Clave Out' and \n",
    "        row['Equipment_Fill1'] == 'Fill1 dispenser #2' and row['Equipment_Fill2'] == 'Fill2 dispenser #2'):\n",
    "        return 1\n",
    "    else:\n",
    "        return 0\n",
    "\n",
    "train_data['Equipment_same_num'] = new_train.apply(determine_equipment_same_num, axis=1)\n",
    "test_data['Equipment_same_num'] = new_test.apply(determine_equipment_same_num, axis=1)\n",
    "\n",
    "train_data = train_data.drop(columns=['Equipment_Dam', 'Equipment_AutoClave', 'Equipment_Fill1', 'Equipment_Fill2'])\n",
    "test_data = test_data.drop(columns=['Equipment_Dam', 'Equipment_AutoClave', 'Equipment_Fill1', 'Equipment_Fill2'])\n"
   ]
  },
  {
   "cell_type": "code",
   "execution_count": 391,
   "id": "9b925a57",
   "metadata": {},
   "outputs": [],
   "source": [
    "# Model.Suffix_Dam의 이름을 Model.Suffix로 변경\n",
    "train_data = train_data.rename(columns={'Model.Suffix_Dam': 'Model.Suffix'})\n",
    "test_data = test_data.rename(columns={'Model.Suffix_Dam': 'Model.Suffix'})\n",
    "\n",
    "# Model.Suffix_AutoClave, Model.Suffix_Fill1, Model.Suffix_Fill2 열 드롭\n",
    "train_data = train_data.drop(columns=['Model.Suffix_AutoClave', 'Model.Suffix_Fill1', 'Model.Suffix_Fill2'])\n",
    "test_data = test_data.drop(columns=['Model.Suffix_AutoClave', 'Model.Suffix_Fill1', 'Model.Suffix_Fill2'])"
   ]
  },
  {
   "cell_type": "code",
   "execution_count": 392,
   "id": "07645d85",
   "metadata": {},
   "outputs": [],
   "source": [
    "# Model.Suffix_Dam의 이름을 Model.Suffix로 변경\n",
    "train_data = train_data.rename(columns={'Workorder_Dam': 'Workorder'})\n",
    "test_data = test_data.rename(columns={'Workorder_Dam': 'Workorder'})\n",
    "\n",
    "# Model.Suffix_AutoClave, Model.Suffix_Fill1, Model.Suffix_Fill2 열 드롭\n",
    "train_data = train_data.drop(columns=['Workorder_AutoClave', 'Workorder_Fill1', 'Workorder_Fill2'])\n",
    "test_data = test_data.drop(columns=['Workorder_AutoClave', 'Workorder_Fill1', 'Workorder_Fill2'])"
   ]
  },
  {
   "cell_type": "code",
   "execution_count": 393,
   "id": "b5cb2f76",
   "metadata": {},
   "outputs": [],
   "source": [
    "# Insp. Seq No 열 제거\n",
    "Insp_Seq_No_col = train_data.filter(like='Insp. Seq No').columns\n",
    "\n",
    "train_data.drop(columns=Insp_Seq_No_col, inplace=True)\n",
    "test_data.drop(columns=Insp_Seq_No_col, inplace=True)"
   ]
  },
  {
   "cell_type": "code",
   "execution_count": 394,
   "id": "339f133b",
   "metadata": {},
   "outputs": [],
   "source": [
    "# Insp Judge Code 열 제거\n",
    "Insp_Judge_Code_col = train_data.filter(like='Insp Judge Code').columns\n",
    "\n",
    "train_data.drop(columns=Insp_Judge_Code_col, inplace=True)\n",
    "test_data.drop(columns=Insp_Judge_Code_col, inplace=True)"
   ]
  },
  {
   "cell_type": "code",
   "execution_count": 395,
   "id": "03f8f176",
   "metadata": {},
   "outputs": [
    {
     "name": "stdout",
     "output_type": "stream",
     "text": [
      "삭제된 train_data 열 개수: 42\n",
      "삭제된 test_data 열 개수: 42\n"
     ]
    }
   ],
   "source": [
    "# 값의 종류가 1개이고 결측값이 없는 열을 제거하는 함수\n",
    "def drop_single_value_columns(df):\n",
    "    cols_to_drop = [col for col in df.columns if col != 'target' and df[col].nunique() == 1 and df[col].isnull().sum() == 0]\n",
    "    df_dropped = df.drop(columns=cols_to_drop)\n",
    "    return df_dropped, cols_to_drop\n",
    "\n",
    "# train_data와 test_data에서 해당 열 제거 및 삭제된 열 이름과 개수 출력\n",
    "train_data, train_cols_dropped = drop_single_value_columns(train_data)\n",
    "test_data, test_cols_dropped = drop_single_value_columns(test_data)\n",
    "\n",
    "# print(\"삭제된 train_data 열 이름:\", train_cols_dropped)\n",
    "print(\"삭제된 train_data 열 개수:\", len(train_cols_dropped))\n",
    "\n",
    "# print(\"삭제된 test_data 열 이름:\", test_cols_dropped)\n",
    "print(\"삭제된 test_data 열 개수:\", len(test_cols_dropped))"
   ]
  },
  {
   "cell_type": "code",
   "execution_count": 396,
   "id": "26ec226a",
   "metadata": {},
   "outputs": [
    {
     "name": "stdout",
     "output_type": "stream",
     "text": [
      "<class 'pandas.core.frame.DataFrame'>\n",
      "RangeIndex: 40506 entries, 0 to 40505\n",
      "Columns: 119 entries, Model.Suffix to Equipment_same_num\n",
      "dtypes: float64(58), int64(52), object(9)\n",
      "memory usage: 36.8+ MB\n",
      "---\n",
      "<class 'pandas.core.frame.DataFrame'>\n",
      "RangeIndex: 17361 entries, 0 to 17360\n",
      "Columns: 120 entries, Set ID to Equipment_same_num\n",
      "dtypes: float64(94), int64(17), object(9)\n",
      "memory usage: 15.9+ MB\n"
     ]
    }
   ],
   "source": [
    "train_data.info()\n",
    "print('---')\n",
    "test_data.info()"
   ]
  },
  {
   "cell_type": "markdown",
   "id": "e07606c9",
   "metadata": {},
   "source": [
    "---"
   ]
  },
  {
   "cell_type": "markdown",
   "id": "70554ff6",
   "metadata": {},
   "source": [
    "개별 공정별 데이터 전처리"
   ]
  },
  {
   "cell_type": "markdown",
   "id": "b3a7346a",
   "metadata": {},
   "source": [
    "## Dam"
   ]
  },
  {
   "cell_type": "code",
   "execution_count": 397,
   "id": "4e833392",
   "metadata": {},
   "outputs": [
    {
     "name": "stdout",
     "output_type": "stream",
     "text": [
      "<Dam 공정 관련 변수>\n",
      "CURE END POSITION X Collect Result_Dam\n",
      "CURE END POSITION Z Collect Result_Dam\n",
      "CURE END POSITION Θ Collect Result_Dam\n",
      "CURE SPEED Collect Result_Dam\n",
      "CURE START POSITION X Collect Result_Dam\n",
      "CURE START POSITION Θ Collect Result_Dam\n",
      "DISCHARGED SPEED OF RESIN Collect Result_Dam\n",
      "DISCHARGED TIME OF RESIN(Stage1) Collect Result_Dam\n",
      "DISCHARGED TIME OF RESIN(Stage2) Collect Result_Dam\n",
      "DISCHARGED TIME OF RESIN(Stage3) Collect Result_Dam\n",
      "Dispense Volume(Stage1) Collect Result_Dam\n",
      "Dispense Volume(Stage2) Collect Result_Dam\n",
      "Dispense Volume(Stage3) Collect Result_Dam\n",
      "HEAD NORMAL COORDINATE X AXIS(Stage1) Collect Result_Dam\n",
      "HEAD NORMAL COORDINATE X AXIS(Stage1) Judge Value_Dam\n",
      "HEAD NORMAL COORDINATE X AXIS(Stage2) Collect Result_Dam\n",
      "HEAD NORMAL COORDINATE X AXIS(Stage3) Collect Result_Dam\n",
      "HEAD NORMAL COORDINATE Y AXIS(Stage1) Collect Result_Dam\n",
      "HEAD NORMAL COORDINATE Y AXIS(Stage2) Collect Result_Dam\n",
      "HEAD NORMAL COORDINATE Y AXIS(Stage3) Collect Result_Dam\n",
      "HEAD NORMAL COORDINATE Z AXIS(Stage1) Collect Result_Dam\n",
      "HEAD NORMAL COORDINATE Z AXIS(Stage2) Collect Result_Dam\n",
      "HEAD NORMAL COORDINATE Z AXIS(Stage3) Collect Result_Dam\n",
      "Head Clean Position Z Collect Result_Dam\n",
      "Head Purge Position Z Collect Result_Dam\n",
      "Head Zero Position Y Collect Result_Dam\n",
      "Head Zero Position Z Collect Result_Dam\n",
      "Machine Tact time Collect Result_Dam\n",
      "PalletID Collect Result_Dam\n",
      "Production Qty Collect Result_Dam\n",
      "Receip No Collect Result_Dam\n",
      "Stage1 Circle1 Distance Speed Collect Result_Dam\n",
      "Stage1 Circle2 Distance Speed Collect Result_Dam\n",
      "Stage1 Circle3 Distance Speed Collect Result_Dam\n",
      "Stage1 Circle4 Distance Speed Collect Result_Dam\n",
      "Stage1 Line1 Distance Speed Collect Result_Dam\n",
      "Stage1 Line2 Distance Speed Collect Result_Dam\n",
      "Stage1 Line3 Distance Speed Collect Result_Dam\n",
      "Stage1 Line4 Distance Speed Collect Result_Dam\n",
      "Stage2 Circle1 Distance Speed Collect Result_Dam\n",
      "Stage2 Circle2 Distance Speed Collect Result_Dam\n",
      "Stage2 Circle3 Distance Speed Collect Result_Dam\n",
      "Stage2 Circle4 Distance Speed Collect Result_Dam\n",
      "Stage2 Line1 Distance Speed Collect Result_Dam\n",
      "Stage2 Line2 Distance Speed Collect Result_Dam\n",
      "Stage2 Line3 Distance Speed Collect Result_Dam\n",
      "Stage2 Line4 Distance Speed Collect Result_Dam\n",
      "Stage3 Circle1 Distance Speed Collect Result_Dam\n",
      "Stage3 Circle2 Distance Speed Collect Result_Dam\n",
      "Stage3 Circle3 Distance Speed Collect Result_Dam\n",
      "Stage3 Circle4 Distance Speed Collect Result_Dam\n",
      "Stage3 Line1 Distance Speed Collect Result_Dam\n",
      "Stage3 Line2 Distance Speed Collect Result_Dam\n",
      "Stage3 Line3 Distance Speed Collect Result_Dam\n",
      "Stage3 Line4 Distance Speed Collect Result_Dam\n",
      "THICKNESS 1 Collect Result_Dam\n",
      "THICKNESS 2 Collect Result_Dam\n",
      "THICKNESS 3 Collect Result_Dam\n",
      "WorkMode Collect Result_Dam\n"
     ]
    }
   ],
   "source": [
    "# '_Dam'를 포함하는 열 이름 필터링\n",
    "Process_Desc_col = train_data.filter(like='_Dam').columns\n",
    "\n",
    "# 필터링된 열 이름 출력\n",
    "print(\"<Dam 공정 관련 변수>\")\n",
    "for col in Process_Desc_col:\n",
    "    print(col)"
   ]
  },
  {
   "cell_type": "code",
   "execution_count": 398,
   "id": "80c04f54",
   "metadata": {},
   "outputs": [],
   "source": [
    "import numpy as np\n",
    "\n",
    "# 시작 위치와 끝 위치 열 이름\n",
    "start_x_col = 'CURE START POSITION X Collect Result_Dam'\n",
    "start_z_col = 33.5\n",
    "end_x_col = 'CURE END POSITION X Collect Result_Dam'\n",
    "end_z_col = 'CURE END POSITION Z Collect Result_Dam'\n",
    "\n",
    "# 시작 위치와 끝 위치 사이의 거리 계산\n",
    "train_data['CURE_DISTANCE_Dam'] = np.sqrt(\n",
    "    (train_data[end_x_col] - train_data[start_x_col]) ** 2 +\n",
    "    (train_data[end_z_col] - start_z_col) ** 2\n",
    ")\n",
    "\n",
    "test_data['CURE_DISTANCE_Dam'] = np.sqrt(\n",
    "    (train_data[end_x_col] - train_data[start_x_col]) ** 2 +\n",
    "    (train_data[end_z_col] - start_z_col) ** 2\n",
    ")"
   ]
  },
  {
   "cell_type": "code",
   "execution_count": 399,
   "id": "60df3bab",
   "metadata": {},
   "outputs": [],
   "source": [
    "# 변수 제거\n",
    "train_data.drop(columns=[\n",
    "    'CURE END POSITION X Collect Result_Dam'\n",
    "    , 'CURE END POSITION Z Collect Result_Dam'\n",
    "    , 'CURE END POSITION Θ Collect Result_Dam'\n",
    "    , 'CURE START POSITION X Collect Result_Dam'\n",
    "    , 'CURE START POSITION Θ Collect Result_Dam'\n",
    "], inplace=True)\n",
    "\n",
    "test_data.drop(columns=[\n",
    "    'CURE END POSITION X Collect Result_Dam'\n",
    "    , 'CURE END POSITION Z Collect Result_Dam'\n",
    "    , 'CURE END POSITION Θ Collect Result_Dam'\n",
    "    , 'CURE START POSITION X Collect Result_Dam'\n",
    "    , 'CURE START POSITION Θ Collect Result_Dam'\n",
    "], inplace=True)"
   ]
  },
  {
   "cell_type": "code",
   "execution_count": 400,
   "id": "87dac5c7",
   "metadata": {},
   "outputs": [],
   "source": [
    "train_data['CURE_Time_Dam'] = train_data['CURE_DISTANCE_Dam'] / train_data['CURE SPEED Collect Result_Dam']\n",
    "test_data['CURE_Time_Dam'] = test_data['CURE_DISTANCE_Dam'] / test_data['CURE SPEED Collect Result_Dam']"
   ]
  },
  {
   "cell_type": "code",
   "execution_count": 401,
   "id": "3d20250f",
   "metadata": {},
   "outputs": [],
   "source": [
    "train_data.drop(columns=[\n",
    "    'CURE_DISTANCE_Dam'\n",
    "    , 'CURE SPEED Collect Result_Dam'\n",
    "], inplace=True)\n",
    "\n",
    "test_data.drop(columns=[\n",
    "    'CURE_DISTANCE_Dam'\n",
    "    , 'CURE SPEED Collect Result_Dam'\n",
    "], inplace=True)"
   ]
  },
  {
   "cell_type": "code",
   "execution_count": 402,
   "id": "1550c935",
   "metadata": {},
   "outputs": [],
   "source": [
    "import numpy as np\n",
    "\n",
    "# 각 스테이지의 좌표 열 정의\n",
    "stage1_cols = ['HEAD NORMAL COORDINATE X AXIS(Stage1) Collect Result_Dam',\n",
    "               'HEAD NORMAL COORDINATE Y AXIS(Stage1) Collect Result_Dam',\n",
    "               'HEAD NORMAL COORDINATE Z AXIS(Stage1) Collect Result_Dam']\n",
    "\n",
    "stage2_cols = ['HEAD NORMAL COORDINATE X AXIS(Stage2) Collect Result_Dam',\n",
    "               'HEAD NORMAL COORDINATE Y AXIS(Stage2) Collect Result_Dam',\n",
    "               'HEAD NORMAL COORDINATE Z AXIS(Stage2) Collect Result_Dam']\n",
    "\n",
    "stage3_cols = ['HEAD NORMAL COORDINATE X AXIS(Stage3) Collect Result_Dam',\n",
    "               'HEAD NORMAL COORDINATE Y AXIS(Stage3) Collect Result_Dam',\n",
    "               'HEAD NORMAL COORDINATE Z AXIS(Stage3) Collect Result_Dam']\n",
    "\n",
    "# 거리 계산 함수\n",
    "def calculate_distances(data):\n",
    "    data['DISTANCE_STAGE1_STAGE2_Dam'] = np.sqrt(\n",
    "        (data[stage2_cols[0]] - data[stage1_cols[0]]) ** 2 +\n",
    "        (data[stage2_cols[1]] - data[stage1_cols[1]]) ** 2 +\n",
    "        (data[stage2_cols[2]] - data[stage1_cols[2]]) ** 2\n",
    "    )\n",
    "\n",
    "    data['DISTANCE_STAGE2_STAGE3_Dam'] = np.sqrt(\n",
    "        (data[stage3_cols[0]] - data[stage2_cols[0]]) ** 2 +\n",
    "        (data[stage3_cols[1]] - data[stage2_cols[1]]) ** 2 +\n",
    "        (data[stage3_cols[2]] - data[stage2_cols[2]]) ** 2\n",
    "    )\n",
    "\n",
    "    data['DISTANCE_STAGE1_STAGE3_Dam'] = np.sqrt(\n",
    "        (data[stage3_cols[0]] - data[stage1_cols[0]]) ** 2 +\n",
    "        (data[stage3_cols[1]] - data[stage1_cols[1]]) ** 2 +\n",
    "        (data[stage3_cols[2]] - data[stage1_cols[2]]) ** 2\n",
    "    )\n",
    "\n",
    "    return data\n",
    "\n",
    "# train_data에 적용\n",
    "train_data = calculate_distances(train_data)\n",
    "\n",
    "# test_data에 적용\n",
    "test_data = calculate_distances(test_data)"
   ]
  },
  {
   "cell_type": "code",
   "execution_count": 403,
   "id": "0c75b771",
   "metadata": {},
   "outputs": [],
   "source": [
    "import numpy as np\n",
    "\n",
    "# 필요한 열 이름\n",
    "stage1_stage2_col = 'DISTANCE_STAGE1_STAGE2_Dam'\n",
    "stage2_stage3_col = 'DISTANCE_STAGE2_STAGE3_Dam'\n",
    "stage1_stage3_col = 'DISTANCE_STAGE1_STAGE3_Dam'\n",
    "\n",
    "# 삼각형의 넓이와 높이를 계산하는 함수\n",
    "def calculate_triangle_features(data):\n",
    "    a = data[stage1_stage2_col]\n",
    "    b = data[stage2_stage3_col]\n",
    "    c = data[stage1_stage3_col]\n",
    "\n",
    "    # 헤론의 공식에 따른 삼각형의 넓이 계산\n",
    "    s = (a + b + c) / 2\n",
    "    area = np.sqrt(s * (s - a) * (s - b) * (s - c))\n",
    "\n",
    "    # 높이 계산 (밑변을 c로 가정)\n",
    "    height = (2 * area) / c\n",
    "\n",
    "    # 결과를 새로운 열에 저장\n",
    "    data['DISTANCE_TRIANGLE_area_Dam'] = area\n",
    "    data['DISTANCE_TRIANGLE_height_Dam'] = height\n",
    "\n",
    "    return data\n",
    "\n",
    "# train_data에 적용\n",
    "train_data = calculate_triangle_features(train_data)\n",
    "\n",
    "# test_data에 적용\n",
    "test_data = calculate_triangle_features(test_data)"
   ]
  },
  {
   "cell_type": "code",
   "execution_count": 404,
   "id": "a13ba973",
   "metadata": {},
   "outputs": [
    {
     "name": "stderr",
     "output_type": "stream",
     "text": [
      "C:\\Users\\juneh\\AppData\\Roaming\\Python\\Python37\\site-packages\\ipykernel_launcher.py:13: FutureWarning: Dropping of nuisance columns in DataFrame reductions (with 'numeric_only=None') is deprecated; in a future version this will raise TypeError.  Select only valid columns before calling the reduction.\n",
      "  del sys.path[0]\n"
     ]
    }
   ],
   "source": [
    "import pandas as pd\n",
    "\n",
    "# '_Dam'를 포함하는 열 이름 필터링 함수\n",
    "def filter_dam_columns(data):\n",
    "    return data.filter(like='_Dam').columns\n",
    "\n",
    "# 스테이지별로 파생변수 생성 함수\n",
    "def create_stage_variables(data, columns):\n",
    "    stages = ['Stage1', 'Stage2', 'Stage3']\n",
    "    for stage in stages:\n",
    "        stage_cols = [col for col in columns if stage in col]\n",
    "        new_col_name = f'{stage}_Total_Distance_Speed_Collect_Result_Dam'\n",
    "        data[new_col_name] = data[stage_cols].sum(axis=1)\n",
    "        # 이전 변수 삭제\n",
    "        data.drop(columns=stage_cols, inplace=True)\n",
    "    return data\n",
    "\n",
    "# train_data에 적용\n",
    "train_dam_columns = filter_dam_columns(train_data)\n",
    "train_data = create_stage_variables(train_data, train_dam_columns)\n",
    "\n",
    "# test_data에 적용\n",
    "test_dam_columns = filter_dam_columns(test_data)\n",
    "test_data = create_stage_variables(test_data, test_dam_columns)"
   ]
  },
  {
   "cell_type": "code",
   "execution_count": 405,
   "id": "e36fd34a",
   "metadata": {},
   "outputs": [],
   "source": [
    "# 새로운 파생변수 생성 함수\n",
    "def create_total_thickness_dam(data):\n",
    "    data['Total_THICKNESS_Collect_Result_Dam'] = (\n",
    "        data['THICKNESS 1 Collect Result_Dam'] +\n",
    "        data['THICKNESS 2 Collect Result_Dam'] +\n",
    "        data['THICKNESS 3 Collect Result_Dam']\n",
    "    )\n",
    "    # 기존 변수 삭제\n",
    "    data.drop(columns=[\n",
    "        'THICKNESS 1 Collect Result_Dam',\n",
    "        'THICKNESS 2 Collect Result_Dam',\n",
    "        'THICKNESS 3 Collect Result_Dam'\n",
    "    ], inplace=True)\n",
    "    return data\n",
    "\n",
    "train_data = create_total_thickness_dam(train_data)\n",
    "test_data = create_total_thickness_dam(test_data)"
   ]
  },
  {
   "cell_type": "code",
   "execution_count": 406,
   "id": "94e87f6c",
   "metadata": {},
   "outputs": [],
   "source": [
    "# 삭제할 열 이름 정의\n",
    "columns_to_drop = [\n",
    "    'DISTANCE_STAGE1_STAGE2_Dam'\n",
    "    , 'DISTANCE_STAGE2_STAGE3_Dam'\n",
    "    , 'DISTANCE_STAGE1_STAGE3_Dam'\n",
    "]\n",
    "\n",
    "# train_data에서 열 삭제\n",
    "train_data = train_data.drop(columns=columns_to_drop)\n",
    "\n",
    "# test_data에서 열 삭제\n",
    "test_data = test_data.drop(columns=columns_to_drop)"
   ]
  },
  {
   "cell_type": "code",
   "execution_count": 407,
   "id": "b917e3db",
   "metadata": {},
   "outputs": [
    {
     "name": "stdout",
     "output_type": "stream",
     "text": [
      "<Dam 공정 관련 변수>\n",
      "DISCHARGED SPEED OF RESIN Collect Result_Dam\n",
      "Head Clean Position Z Collect Result_Dam\n",
      "Head Purge Position Z Collect Result_Dam\n",
      "Head Zero Position Y Collect Result_Dam\n",
      "Head Zero Position Z Collect Result_Dam\n",
      "Machine Tact time Collect Result_Dam\n",
      "PalletID Collect Result_Dam\n",
      "Production Qty Collect Result_Dam\n",
      "Receip No Collect Result_Dam\n",
      "WorkMode Collect Result_Dam\n",
      "CURE_Time_Dam\n",
      "DISTANCE_TRIANGLE_area_Dam\n",
      "DISTANCE_TRIANGLE_height_Dam\n",
      "Stage1_Total_Distance_Speed_Collect_Result_Dam\n",
      "Stage2_Total_Distance_Speed_Collect_Result_Dam\n",
      "Stage3_Total_Distance_Speed_Collect_Result_Dam\n",
      "Total_THICKNESS_Collect_Result_Dam\n"
     ]
    }
   ],
   "source": [
    "# '_Dam'를 포함하는 열 이름 필터링\n",
    "Process_Desc_col = train_data.filter(like='_Dam').columns\n",
    "\n",
    "# 필터링된 열 이름 출력\n",
    "print(\"<Dam 공정 관련 변수>\")\n",
    "for col in Process_Desc_col:\n",
    "    print(col)"
   ]
  },
  {
   "cell_type": "markdown",
   "id": "0906cc5f",
   "metadata": {},
   "source": [
    "## AutoClave"
   ]
  },
  {
   "cell_type": "code",
   "execution_count": 408,
   "id": "dcf60606",
   "metadata": {},
   "outputs": [
    {
     "name": "stdout",
     "output_type": "stream",
     "text": [
      "<AutoClave 공정 관련 변수>\n",
      "1st Pressure Collect Result_AutoClave\n",
      "1st Pressure 1st Pressure Unit Time_AutoClave\n",
      "2nd Pressure Collect Result_AutoClave\n",
      "2nd Pressure Unit Time_AutoClave\n",
      "3rd Pressure Collect Result_AutoClave\n",
      "3rd Pressure Unit Time_AutoClave\n",
      "Chamber Temp. Collect Result_AutoClave\n",
      "Chamber Temp. Unit Time_AutoClave\n",
      "Chamber Temp. Judge Value_AutoClave\n",
      "GMES_ORIGIN_INSP_JUDGE_CODE Collect Result_AutoClave\n",
      "GMES_ORIGIN_INSP_JUDGE_CODE Judge Value_AutoClave\n"
     ]
    }
   ],
   "source": [
    "# '_AutoClave'를 포함하는 열 이름 필터링\n",
    "Process_Desc_col = train_data.filter(like='_AutoClave').columns\n",
    "\n",
    "# 필터링된 열 이름 출력\n",
    "print(\"<AutoClave 공정 관련 변수>\")\n",
    "for col in Process_Desc_col:\n",
    "    print(col)"
   ]
  },
  {
   "cell_type": "code",
   "execution_count": 409,
   "id": "ce64980d",
   "metadata": {},
   "outputs": [],
   "source": [
    "# 변수명 변경\n",
    "train_data = train_data.rename(columns={'1st Pressure 1st Pressure Unit Time_AutoClave': '1st Pressure Unit Time_AutoClave'})\n",
    "test_data = test_data.rename(columns={'1st Pressure 1st Pressure Unit Time_AutoClave': '1st Pressure Unit Time_AutoClave'})\n",
    "\n",
    "train_data = train_data.rename(columns={'GMES_ORIGIN_INSP_JUDGE_CODE Collect Result_AutoClave': 'GMES_ORIGIN_INSP_JUDGE_CODE_AutoClave'})\n",
    "test_data = test_data.rename(columns={'GMES_ORIGIN_INSP_JUDGE_CODE Collect Result_AutoClave': 'GMES_ORIGIN_INSP_JUDGE_CODE_AutoClave'})"
   ]
  },
  {
   "cell_type": "code",
   "execution_count": 410,
   "id": "ec5d1aeb",
   "metadata": {},
   "outputs": [],
   "source": [
    "# 파생변수 생성\n",
    "train_data['1st_Pressure_x_AutoClave'] = train_data['1st Pressure Collect Result_AutoClave'] * train_data['1st Pressure Unit Time_AutoClave'] \n",
    "test_data['1st_Pressure_x_AutoClave'] = test_data['1st Pressure Collect Result_AutoClave'] * test_data['1st Pressure Unit Time_AutoClave'] \n",
    "\n",
    "train_data['2nd_Pressure_x_AutoClave'] = train_data['2nd Pressure Collect Result_AutoClave'] * train_data['2nd Pressure Unit Time_AutoClave'] \n",
    "test_data['2nd_Pressure_x_AutoClave'] = test_data['2nd Pressure Collect Result_AutoClave'] * test_data['2nd Pressure Unit Time_AutoClave'] \n",
    "\n",
    "train_data['3rd_Pressure_x_AutoClave'] = train_data['3rd Pressure Collect Result_AutoClave'] * train_data['3rd Pressure Unit Time_AutoClave'] \n",
    "test_data['3rd_Pressure_x_AutoClave'] = test_data['3rd Pressure Collect Result_AutoClave'] * test_data['3rd Pressure Unit Time_AutoClave'] \n",
    "\n",
    "train_data['Chamber_Temp_x_AutoClave'] = train_data['Chamber Temp. Collect Result_AutoClave'] * train_data['Chamber Temp. Unit Time_AutoClave']\n",
    "test_data['Chamber_Temp_x_AutoClave'] = test_data['Chamber Temp. Collect Result_AutoClave'] * test_data['Chamber Temp. Unit Time_AutoClave']\n",
    "\n",
    "train_data['Chamber_Temp_ok_AutoClave'] = train_data['Chamber Temp. Judge Value_AutoClave'].apply(lambda x: 1 if x == 'OK' else 0)\n",
    "test_data['Chamber_Temp_ok_AutoClave'] = test_data['Chamber Temp. Judge Value_AutoClave'].apply(lambda x: 1 if x == 'OK' else 0)\n",
    "\n",
    "train_data['GMES_ORIGIN_INSP_JUDGE_CODE_ok_AutoClave'] = train_data['GMES_ORIGIN_INSP_JUDGE_CODE_AutoClave'].apply(lambda x: 1 if x == 'OK' else 0)\n",
    "test_data['GMES_ORIGIN_INSP_JUDGE_CODE_ok_AutoClave'] = test_data['GMES_ORIGIN_INSP_JUDGE_CODE_AutoClave'].apply(lambda x: 1 if x == 'OK' else 0)\n"
   ]
  },
  {
   "cell_type": "code",
   "execution_count": 411,
   "id": "6115c473",
   "metadata": {},
   "outputs": [],
   "source": [
    "# 변수 제거\n",
    "train_data.drop(columns=[\n",
    "    'Chamber Temp. Collect Result_AutoClave'\n",
    "    , 'Chamber Temp. Unit Time_AutoClave'\n",
    "    , 'Chamber Temp. Judge Value_AutoClave'\n",
    "    , 'GMES_ORIGIN_INSP_JUDGE_CODE_AutoClave'\n",
    "    , 'GMES_ORIGIN_INSP_JUDGE_CODE Judge Value_AutoClave'\n",
    "    , '1st Pressure Collect Result_AutoClave'\n",
    "    , '1st Pressure Unit Time_AutoClave'\n",
    "    , '2nd Pressure Collect Result_AutoClave'\n",
    "    , '2nd Pressure Unit Time_AutoClave'\n",
    "    , '3rd Pressure Collect Result_AutoClave'\n",
    "    , '3rd Pressure Unit Time_AutoClave'], inplace=True)\n",
    "\n",
    "test_data.drop(columns=[\n",
    "    'Chamber Temp. Collect Result_AutoClave'\n",
    "    , 'Chamber Temp. Unit Time_AutoClave'\n",
    "    , 'Chamber Temp. Judge Value_AutoClave'\n",
    "    , 'GMES_ORIGIN_INSP_JUDGE_CODE_AutoClave'\n",
    "    , 'GMES_ORIGIN_INSP_JUDGE_CODE Judge Value_AutoClave'\n",
    "    , '1st Pressure Collect Result_AutoClave'\n",
    "    , '1st Pressure Unit Time_AutoClave'\n",
    "    , '2nd Pressure Collect Result_AutoClave'\n",
    "    , '2nd Pressure Unit Time_AutoClave'\n",
    "    , '3rd Pressure Collect Result_AutoClave'\n",
    "    , '3rd Pressure Unit Time_AutoClave'], inplace=True)"
   ]
  },
  {
   "cell_type": "code",
   "execution_count": 412,
   "id": "58aa41c6",
   "metadata": {},
   "outputs": [
    {
     "name": "stdout",
     "output_type": "stream",
     "text": [
      "<AutoClave 공정 관련 변수>\n",
      "1st_Pressure_x_AutoClave\n",
      "2nd_Pressure_x_AutoClave\n",
      "3rd_Pressure_x_AutoClave\n",
      "Chamber_Temp_x_AutoClave\n",
      "Chamber_Temp_ok_AutoClave\n",
      "GMES_ORIGIN_INSP_JUDGE_CODE_ok_AutoClave\n"
     ]
    }
   ],
   "source": [
    "# '_AutoClave'를 포함하는 열 이름 필터링\n",
    "Process_Desc_col = train_data.filter(like='_AutoClave').columns\n",
    "\n",
    "# 필터링된 열 이름 출력\n",
    "print(\"<AutoClave 공정 관련 변수>\")\n",
    "for col in Process_Desc_col:\n",
    "    print(col)"
   ]
  },
  {
   "cell_type": "markdown",
   "id": "b0164e69",
   "metadata": {},
   "source": [
    "## Fill1"
   ]
  },
  {
   "cell_type": "code",
   "execution_count": 413,
   "id": "73f3ef3e",
   "metadata": {},
   "outputs": [],
   "source": [
    "import numpy as np\n",
    "\n",
    "# 각 스테이지의 좌표 열 정의\n",
    "stage1_cols = ['HEAD NORMAL COORDINATE X AXIS(Stage1) Collect Result_Fill1',\n",
    "               'HEAD NORMAL COORDINATE Y AXIS(Stage1) Collect Result_Fill1',\n",
    "               'HEAD NORMAL COORDINATE Z AXIS(Stage1) Collect Result_Fill1']\n",
    "\n",
    "stage2_cols = ['HEAD NORMAL COORDINATE X AXIS(Stage2) Collect Result_Fill1',\n",
    "               'HEAD NORMAL COORDINATE Y AXIS(Stage2) Collect Result_Fill1',\n",
    "               'HEAD NORMAL COORDINATE Z AXIS(Stage2) Collect Result_Fill1']\n",
    "\n",
    "stage3_cols = ['HEAD NORMAL COORDINATE X AXIS(Stage3) Collect Result_Fill1',\n",
    "               'HEAD NORMAL COORDINATE Y AXIS(Stage3) Collect Result_Fill1',\n",
    "               'HEAD NORMAL COORDINATE Z AXIS(Stage3) Collect Result_Fill1']\n",
    "\n",
    "# 거리 계산 함수\n",
    "def calculate_distances(data):\n",
    "    data['DISTANCE_STAGE1_STAGE2_Fill1'] = np.sqrt(\n",
    "        (data[stage2_cols[0]] - data[stage1_cols[0]]) ** 2 +\n",
    "        (data[stage2_cols[1]] - data[stage1_cols[1]]) ** 2 +\n",
    "        (data[stage2_cols[2]] - data[stage1_cols[2]]) ** 2\n",
    "    )\n",
    "\n",
    "    data['DISTANCE_STAGE2_STAGE3_Fill1'] = np.sqrt(\n",
    "        (data[stage3_cols[0]] - data[stage2_cols[0]]) ** 2 +\n",
    "        (data[stage3_cols[1]] - data[stage2_cols[1]]) ** 2 +\n",
    "        (data[stage3_cols[2]] - data[stage2_cols[2]]) ** 2\n",
    "    )\n",
    "\n",
    "    data['DISTANCE_STAGE1_STAGE3_Fill1'] = np.sqrt(\n",
    "        (data[stage3_cols[0]] - data[stage1_cols[0]]) ** 2 +\n",
    "        (data[stage3_cols[1]] - data[stage1_cols[1]]) ** 2 +\n",
    "        (data[stage3_cols[2]] - data[stage1_cols[2]]) ** 2\n",
    "    )\n",
    "\n",
    "    return data\n",
    "\n",
    "# train_data에 적용\n",
    "train_data = calculate_distances(train_data)\n",
    "\n",
    "# test_data에 적용\n",
    "test_data = calculate_distances(test_data)"
   ]
  },
  {
   "cell_type": "code",
   "execution_count": 414,
   "id": "b4bc0003",
   "metadata": {},
   "outputs": [],
   "source": [
    "import numpy as np\n",
    "\n",
    "# 필요한 열 이름\n",
    "stage1_stage2_col = 'DISTANCE_STAGE1_STAGE2_Fill1'\n",
    "stage2_stage3_col = 'DISTANCE_STAGE2_STAGE3_Fill1'\n",
    "stage1_stage3_col = 'DISTANCE_STAGE1_STAGE3_Fill1'\n",
    "\n",
    "# 삼각형의 넓이와 높이를 계산하는 함수\n",
    "def calculate_triangle_features(data):\n",
    "    a = data[stage1_stage2_col]\n",
    "    b = data[stage2_stage3_col]\n",
    "    c = data[stage1_stage3_col]\n",
    "\n",
    "    # 헤론의 공식에 따른 삼각형의 넓이 계산\n",
    "    s = (a + b + c) / 2\n",
    "    area = np.sqrt(s * (s - a) * (s - b) * (s - c))\n",
    "\n",
    "    # 높이 계산 (밑변을 c로 가정)\n",
    "    height = (2 * area) / c\n",
    "\n",
    "    # 결과를 새로운 열에 저장\n",
    "    data['DISTANCE_TRIANGLE_area_Fill1'] = area\n",
    "    data['DISTANCE_TRIANGLE_height_Fill1'] = height\n",
    "\n",
    "    return data\n",
    "\n",
    "# train_data에 적용\n",
    "train_data = calculate_triangle_features(train_data)\n",
    "\n",
    "# test_data에 적용\n",
    "test_data = calculate_triangle_features(test_data)"
   ]
  },
  {
   "cell_type": "code",
   "execution_count": 415,
   "id": "244384f8",
   "metadata": {},
   "outputs": [],
   "source": [
    "# 삭제할 열 이름 정의\n",
    "columns_to_drop = [\n",
    "    'DISTANCE_STAGE1_STAGE2_Fill1'\n",
    "    , 'DISTANCE_STAGE2_STAGE3_Fill1'\n",
    "    , 'DISTANCE_STAGE1_STAGE3_Fill1'\n",
    "]\n",
    "\n",
    "# train_data에서 열 삭제\n",
    "train_data = train_data.drop(columns=columns_to_drop)\n",
    "\n",
    "# test_data에서 열 삭제\n",
    "test_data = test_data.drop(columns=columns_to_drop)"
   ]
  },
  {
   "cell_type": "code",
   "execution_count": 416,
   "id": "cf4306e3",
   "metadata": {},
   "outputs": [],
   "source": [
    "# 변수 제거\n",
    "train_data.drop(columns=[\n",
    "    'HEAD NORMAL COORDINATE X AXIS(Stage1) Collect Result_Fill1'\n",
    "    , 'HEAD NORMAL COORDINATE X AXIS(Stage2) Collect Result_Fill1'\n",
    "    , 'HEAD NORMAL COORDINATE X AXIS(Stage3) Collect Result_Fill1'\n",
    "    , 'HEAD NORMAL COORDINATE Y AXIS(Stage1) Collect Result_Fill1'\n",
    "    , 'HEAD NORMAL COORDINATE Y AXIS(Stage2) Collect Result_Fill1'\n",
    "    , 'HEAD NORMAL COORDINATE Y AXIS(Stage3) Collect Result_Fill1'\n",
    "    , 'HEAD NORMAL COORDINATE Z AXIS(Stage1) Collect Result_Fill1'\n",
    "    , 'HEAD NORMAL COORDINATE Z AXIS(Stage2) Collect Result_Fill1'\n",
    "    , 'HEAD NORMAL COORDINATE Z AXIS(Stage3) Collect Result_Fill1'], inplace=True)\n",
    "\n",
    "test_data.drop(columns=[\n",
    "    'HEAD NORMAL COORDINATE X AXIS(Stage1) Collect Result_Fill1'\n",
    "    , 'HEAD NORMAL COORDINATE X AXIS(Stage2) Collect Result_Fill1'\n",
    "    , 'HEAD NORMAL COORDINATE X AXIS(Stage3) Collect Result_Fill1'\n",
    "    , 'HEAD NORMAL COORDINATE Y AXIS(Stage1) Collect Result_Fill1'\n",
    "    , 'HEAD NORMAL COORDINATE Y AXIS(Stage2) Collect Result_Fill1'\n",
    "    , 'HEAD NORMAL COORDINATE Y AXIS(Stage3) Collect Result_Fill1'\n",
    "    , 'HEAD NORMAL COORDINATE Z AXIS(Stage1) Collect Result_Fill1'\n",
    "    , 'HEAD NORMAL COORDINATE Z AXIS(Stage2) Collect Result_Fill1'\n",
    "    , 'HEAD NORMAL COORDINATE Z AXIS(Stage3) Collect Result_Fill1'], inplace=True)"
   ]
  },
  {
   "cell_type": "code",
   "execution_count": 417,
   "id": "0efcf423",
   "metadata": {},
   "outputs": [],
   "source": [
    "# 'WorkMode Collect Result_Fill1' 열의 결측값을 0으로 채우기\n",
    "train_data['WorkMode Collect Result_Fill1'].fillna(0, inplace=True)\n",
    "test_data['WorkMode Collect Result_Fill1'].fillna(0, inplace=True)"
   ]
  },
  {
   "cell_type": "code",
   "execution_count": 418,
   "id": "a06d132b",
   "metadata": {},
   "outputs": [
    {
     "name": "stdout",
     "output_type": "stream",
     "text": [
      "<Fill1 공정 관련 변수>\n",
      "DISCHARGED SPEED OF RESIN Collect Result_Fill1\n",
      "DISCHARGED TIME OF RESIN(Stage1) Collect Result_Fill1\n",
      "DISCHARGED TIME OF RESIN(Stage2) Collect Result_Fill1\n",
      "DISCHARGED TIME OF RESIN(Stage3) Collect Result_Fill1\n",
      "Dispense Volume(Stage1) Collect Result_Fill1\n",
      "Dispense Volume(Stage2) Collect Result_Fill1\n",
      "Dispense Volume(Stage3) Collect Result_Fill1\n",
      "HEAD NORMAL COORDINATE X AXIS(Stage1) Judge Value_Fill1\n",
      "Head Purge Position Z Collect Result_Fill1\n",
      "Machine Tact time Collect Result_Fill1\n",
      "PalletID Collect Result_Fill1\n",
      "Production Qty Collect Result_Fill1\n",
      "Receip No Collect Result_Fill1\n",
      "WorkMode Collect Result_Fill1\n",
      "DISTANCE_TRIANGLE_area_Fill1\n",
      "DISTANCE_TRIANGLE_height_Fill1\n"
     ]
    }
   ],
   "source": [
    "# '_Fill1'를 포함하는 열 이름 필터링\n",
    "Process_Desc_col = train_data.filter(like='_Fill1').columns\n",
    "\n",
    "# 필터링된 열 이름 출력\n",
    "print(\"<Fill1 공정 관련 변수>\")\n",
    "for col in Process_Desc_col:\n",
    "    print(col)"
   ]
  },
  {
   "cell_type": "markdown",
   "id": "70759e80",
   "metadata": {},
   "source": [
    "## Fill2"
   ]
  },
  {
   "cell_type": "code",
   "execution_count": 419,
   "id": "6d9fcae9",
   "metadata": {},
   "outputs": [
    {
     "name": "stdout",
     "output_type": "stream",
     "text": [
      "<Fill2 공정 관련 변수>\n",
      "CURE END POSITION X Collect Result_Fill2\n",
      "CURE END POSITION Z Collect Result_Fill2\n",
      "CURE SPEED Collect Result_Fill2\n",
      "CURE STANDBY POSITION Z Collect Result_Fill2\n",
      "CURE START POSITION X Collect Result_Fill2\n",
      "CURE START POSITION Z Collect Result_Fill2\n",
      "HEAD NORMAL COORDINATE X AXIS(Stage1) Collect Result_Fill2\n",
      "HEAD NORMAL COORDINATE X AXIS(Stage1) Judge Value_Fill2\n",
      "HEAD NORMAL COORDINATE X AXIS(Stage2) Collect Result_Fill2\n",
      "HEAD NORMAL COORDINATE X AXIS(Stage3) Collect Result_Fill2\n",
      "HEAD NORMAL COORDINATE Y AXIS(Stage1) Collect Result_Fill2\n",
      "HEAD NORMAL COORDINATE Y AXIS(Stage2) Collect Result_Fill2\n",
      "HEAD NORMAL COORDINATE Y AXIS(Stage3) Collect Result_Fill2\n",
      "HEAD NORMAL COORDINATE Z AXIS(Stage1) Collect Result_Fill2\n",
      "HEAD NORMAL COORDINATE Z AXIS(Stage2) Collect Result_Fill2\n",
      "HEAD NORMAL COORDINATE Z AXIS(Stage3) Collect Result_Fill2\n",
      "Head Purge Position Z Collect Result_Fill2\n",
      "Machine Tact time Collect Result_Fill2\n",
      "PalletID Collect Result_Fill2\n",
      "Production Qty Collect Result_Fill2\n",
      "Receip No Collect Result_Fill2\n",
      "WorkMode Collect Result_Fill2\n"
     ]
    }
   ],
   "source": [
    "# '_Fill2'를 포함하는 열 이름 필터링\n",
    "Process_Desc_col = train_data.filter(like='_Fill2').columns\n",
    "\n",
    "# 필터링된 열 이름 출력\n",
    "print(\"<Fill2 공정 관련 변수>\")\n",
    "for col in Process_Desc_col:\n",
    "    print(col)"
   ]
  },
  {
   "cell_type": "code",
   "execution_count": 420,
   "id": "6f3691a4",
   "metadata": {},
   "outputs": [],
   "source": [
    "import numpy as np\n",
    "\n",
    "# 시작 위치와 끝 위치 열 이름\n",
    "start_x_col = 'CURE START POSITION X Collect Result_Fill2'\n",
    "start_z_col = 'CURE START POSITION Z Collect Result_Fill2'\n",
    "end_x_col = 'CURE END POSITION X Collect Result_Fill2'\n",
    "end_z_col = 'CURE END POSITION Z Collect Result_Fill2'\n",
    "\n",
    "# 시작 위치와 끝 위치 사이의 거리 계산\n",
    "train_data['CURE_DISTANCE_Fill2'] = np.sqrt(\n",
    "    (train_data[end_x_col] - train_data[start_x_col]) ** 2 +\n",
    "    (train_data[end_z_col] - train_data[start_z_col]) ** 2\n",
    ")\n",
    "\n",
    "test_data['CURE_DISTANCE_Fill2'] = np.sqrt(\n",
    "    (train_data[end_x_col] - train_data[start_x_col]) ** 2 +\n",
    "    (train_data[end_z_col] - train_data[start_z_col]) ** 2\n",
    ")"
   ]
  },
  {
   "cell_type": "code",
   "execution_count": 421,
   "id": "cd17f9e6",
   "metadata": {},
   "outputs": [],
   "source": [
    "train_data['CURE_Time_Fill2']  = train_data['CURE_DISTANCE_Fill2'] / train_data['CURE SPEED Collect Result_Fill2']\n",
    "test_data['CURE_Time_Fill2']  = test_data['CURE_DISTANCE_Fill2'] / test_data['CURE SPEED Collect Result_Fill2']"
   ]
  },
  {
   "cell_type": "code",
   "execution_count": 422,
   "id": "5c436499",
   "metadata": {},
   "outputs": [],
   "source": [
    "train_data['CURE_STANDBY_DISTANCE_Fill2']  = train_data['CURE START POSITION Z Collect Result_Fill2'] - train_data['CURE STANDBY POSITION Z Collect Result_Fill2']\n",
    "test_data['CURE_STANDBY_DISTANCE_Fill2']  = test_data['CURE START POSITION Z Collect Result_Fill2'] - test_data['CURE STANDBY POSITION Z Collect Result_Fill2']"
   ]
  },
  {
   "cell_type": "code",
   "execution_count": 423,
   "id": "2bb58e39",
   "metadata": {},
   "outputs": [],
   "source": [
    "# 변수 제거\n",
    "train_data.drop(columns=[\n",
    "    'CURE END POSITION X Collect Result_Fill2'\n",
    "    , 'CURE END POSITION Z Collect Result_Fill2'\n",
    "    , 'CURE START POSITION X Collect Result_Fill2'\n",
    "    , 'CURE START POSITION Z Collect Result_Fill2'\n",
    "    , 'CURE_STANDBY_DISTANCE_Fill2'\n",
    "    , 'CURE SPEED Collect Result_Fill2'], inplace=True)\n",
    "\n",
    "test_data.drop(columns=[\n",
    "    'CURE END POSITION X Collect Result_Fill2'\n",
    "    , 'CURE END POSITION Z Collect Result_Fill2'\n",
    "    , 'CURE START POSITION X Collect Result_Fill2'\n",
    "    , 'CURE START POSITION Z Collect Result_Fill2'\n",
    "    , 'CURE_STANDBY_DISTANCE_Fill2'\n",
    "    , 'CURE SPEED Collect Result_Fill2'], inplace=True)"
   ]
  },
  {
   "cell_type": "code",
   "execution_count": 424,
   "id": "3d2c3400",
   "metadata": {},
   "outputs": [],
   "source": [
    "# CURE STANDBY POSITION Z Collect Result_Fill2 이름 변경\n",
    "train_data.rename(columns={'CURE STANDBY POSITION Z Collect Result_Fill2': 'CURE_STANDBY_POSITION_Fill2'}, inplace=True)\n",
    "test_data.rename(columns={'CURE STANDBY POSITION Z Collect Result_Fill2': 'CURE_STANDBY_POSITION_Fill2'}, inplace=True)"
   ]
  },
  {
   "cell_type": "code",
   "execution_count": 425,
   "id": "5da943f0",
   "metadata": {},
   "outputs": [],
   "source": [
    "import numpy as np\n",
    "\n",
    "# 각 스테이지의 좌표 열 정의\n",
    "stage1_cols = ['HEAD NORMAL COORDINATE X AXIS(Stage1) Collect Result_Fill2',\n",
    "               'HEAD NORMAL COORDINATE Y AXIS(Stage1) Collect Result_Fill2',\n",
    "               'HEAD NORMAL COORDINATE Z AXIS(Stage1) Collect Result_Fill2']\n",
    "\n",
    "stage2_cols = ['HEAD NORMAL COORDINATE X AXIS(Stage2) Collect Result_Fill2',\n",
    "               'HEAD NORMAL COORDINATE Y AXIS(Stage2) Collect Result_Fill2',\n",
    "               'HEAD NORMAL COORDINATE Z AXIS(Stage2) Collect Result_Fill2']\n",
    "\n",
    "stage3_cols = ['HEAD NORMAL COORDINATE X AXIS(Stage3) Collect Result_Fill2',\n",
    "               'HEAD NORMAL COORDINATE Y AXIS(Stage3) Collect Result_Fill2',\n",
    "               'HEAD NORMAL COORDINATE Z AXIS(Stage3) Collect Result_Fill2']\n",
    "\n",
    "# 거리 계산 함수\n",
    "def calculate_distances(data):\n",
    "    data['DISTANCE_STAGE1_STAGE2_Fill2'] = np.sqrt(\n",
    "        (data[stage2_cols[0]] - data[stage1_cols[0]]) ** 2 +\n",
    "        (data[stage2_cols[1]] - data[stage1_cols[1]]) ** 2 +\n",
    "        (data[stage2_cols[2]] - data[stage1_cols[2]]) ** 2\n",
    "    )\n",
    "\n",
    "    data['DISTANCE_STAGE2_STAGE3_Fill2'] = np.sqrt(\n",
    "        (data[stage3_cols[0]] - data[stage2_cols[0]]) ** 2 +\n",
    "        (data[stage3_cols[1]] - data[stage2_cols[1]]) ** 2 +\n",
    "        (data[stage3_cols[2]] - data[stage2_cols[2]]) ** 2\n",
    "    )\n",
    "\n",
    "    data['DISTANCE_STAGE1_STAGE3_Fill2'] = np.sqrt(\n",
    "        (data[stage3_cols[0]] - data[stage1_cols[0]]) ** 2 +\n",
    "        (data[stage3_cols[1]] - data[stage1_cols[1]]) ** 2 +\n",
    "        (data[stage3_cols[2]] - data[stage1_cols[2]]) ** 2\n",
    "    )\n",
    "\n",
    "    return data\n",
    "\n",
    "# train_data에 적용\n",
    "train_data = calculate_distances(train_data)\n",
    "\n",
    "# test_data에 적용\n",
    "test_data = calculate_distances(test_data)"
   ]
  },
  {
   "cell_type": "code",
   "execution_count": 426,
   "id": "5d3655fd",
   "metadata": {},
   "outputs": [],
   "source": [
    "# OK 값이면 1, 결측 값이면 0을 부여\n",
    "train_data['HEAD_NORMAL_stage1_ok_Fill2'] = train_data['HEAD NORMAL COORDINATE X AXIS(Stage1) Judge Value_Fill2'].apply(lambda x: 1 if x == 'OK' else 0)\n",
    "test_data['HEAD_NORMAL_stage1_ok_Fill2'] = test_data['HEAD NORMAL COORDINATE X AXIS(Stage1) Judge Value_Fill2'].apply(lambda x: 1 if x == 'OK' else 0)\n",
    "\n",
    "# HEAD NORMAL COORDINATE X AXIS(Stage1) Judge Value_Fill1 변수 제거\n",
    "train_data.drop(columns=['HEAD NORMAL COORDINATE X AXIS(Stage1) Judge Value_Fill2'], inplace=True)\n",
    "test_data.drop(columns=['HEAD NORMAL COORDINATE X AXIS(Stage1) Judge Value_Fill2'], inplace=True)"
   ]
  },
  {
   "cell_type": "code",
   "execution_count": 427,
   "id": "3aa63be6",
   "metadata": {},
   "outputs": [],
   "source": [
    "# 변수 제거\n",
    "train_data.drop(columns=[\n",
    "    'HEAD NORMAL COORDINATE X AXIS(Stage1) Collect Result_Fill2'\n",
    "    , 'HEAD NORMAL COORDINATE X AXIS(Stage2) Collect Result_Fill2'\n",
    "    , 'HEAD NORMAL COORDINATE X AXIS(Stage3) Collect Result_Fill2'\n",
    "    , 'HEAD NORMAL COORDINATE Y AXIS(Stage1) Collect Result_Fill2'\n",
    "    , 'HEAD NORMAL COORDINATE Y AXIS(Stage2) Collect Result_Fill2'\n",
    "    , 'HEAD NORMAL COORDINATE Y AXIS(Stage3) Collect Result_Fill2'\n",
    "    , 'HEAD NORMAL COORDINATE Z AXIS(Stage1) Collect Result_Fill2'\n",
    "    , 'HEAD NORMAL COORDINATE Z AXIS(Stage2) Collect Result_Fill2'\n",
    "    , 'HEAD NORMAL COORDINATE Z AXIS(Stage3) Collect Result_Fill2'], inplace=True)\n",
    "\n",
    "test_data.drop(columns=[\n",
    "    'HEAD NORMAL COORDINATE X AXIS(Stage1) Collect Result_Fill2'\n",
    "    , 'HEAD NORMAL COORDINATE X AXIS(Stage2) Collect Result_Fill2'\n",
    "    , 'HEAD NORMAL COORDINATE X AXIS(Stage3) Collect Result_Fill2'\n",
    "    , 'HEAD NORMAL COORDINATE Y AXIS(Stage1) Collect Result_Fill2'\n",
    "    , 'HEAD NORMAL COORDINATE Y AXIS(Stage2) Collect Result_Fill2'\n",
    "    , 'HEAD NORMAL COORDINATE Y AXIS(Stage3) Collect Result_Fill2'\n",
    "    , 'HEAD NORMAL COORDINATE Z AXIS(Stage1) Collect Result_Fill2'\n",
    "    , 'HEAD NORMAL COORDINATE Z AXIS(Stage2) Collect Result_Fill2'\n",
    "    , 'HEAD NORMAL COORDINATE Z AXIS(Stage3) Collect Result_Fill2'], inplace=True)"
   ]
  },
  {
   "cell_type": "code",
   "execution_count": 428,
   "id": "a4ac7d65",
   "metadata": {},
   "outputs": [
    {
     "name": "stdout",
     "output_type": "stream",
     "text": [
      "<Fill2 공정 관련 변수>\n",
      "CURE_STANDBY_POSITION_Fill2\n",
      "Head Purge Position Z Collect Result_Fill2\n",
      "Machine Tact time Collect Result_Fill2\n",
      "PalletID Collect Result_Fill2\n",
      "Production Qty Collect Result_Fill2\n",
      "Receip No Collect Result_Fill2\n",
      "WorkMode Collect Result_Fill2\n",
      "CURE_DISTANCE_Fill2\n",
      "CURE_Time_Fill2\n",
      "DISTANCE_STAGE1_STAGE2_Fill2\n",
      "DISTANCE_STAGE2_STAGE3_Fill2\n",
      "DISTANCE_STAGE1_STAGE3_Fill2\n",
      "HEAD_NORMAL_stage1_ok_Fill2\n"
     ]
    }
   ],
   "source": [
    "# '_Fill2'를 포함하는 열 이름 필터링\n",
    "Process_Desc_col = train_data.filter(like='_Fill2').columns\n",
    "\n",
    "# 필터링된 열 이름 출력\n",
    "print(\"<Fill2 공정 관련 변수>\")\n",
    "for col in Process_Desc_col:\n",
    "    print(col)"
   ]
  },
  {
   "cell_type": "markdown",
   "id": "5c4cc6b9",
   "metadata": {},
   "source": [
    "---"
   ]
  },
  {
   "cell_type": "code",
   "execution_count": 429,
   "id": "db27ac9a",
   "metadata": {},
   "outputs": [
    {
     "name": "stdout",
     "output_type": "stream",
     "text": [
      "<class 'pandas.core.frame.DataFrame'>\n",
      "RangeIndex: 40506 entries, 0 to 40505\n",
      "Data columns (total 56 columns):\n",
      " #   Column                                                   Non-Null Count  Dtype  \n",
      "---  ------                                                   --------------  -----  \n",
      " 0   Model.Suffix                                             40506 non-null  object \n",
      " 1   Workorder                                                40506 non-null  object \n",
      " 2   DISCHARGED SPEED OF RESIN Collect Result_Dam             40506 non-null  int64  \n",
      " 3   Head Clean Position Z Collect Result_Dam                 40506 non-null  float64\n",
      " 4   Head Purge Position Z Collect Result_Dam                 40506 non-null  float64\n",
      " 5   Head Zero Position Y Collect Result_Dam                  40506 non-null  float64\n",
      " 6   Head Zero Position Z Collect Result_Dam                  40506 non-null  float64\n",
      " 7   Machine Tact time Collect Result_Dam                     40506 non-null  float64\n",
      " 8   PalletID Collect Result_Dam                              40506 non-null  int64  \n",
      " 9   Production Qty Collect Result_Dam                        40506 non-null  int64  \n",
      " 10  Receip No Collect Result_Dam                             40506 non-null  int64  \n",
      " 11  WorkMode Collect Result_Dam                              16447 non-null  float64\n",
      " 12  DISCHARGED SPEED OF RESIN Collect Result_Fill1           40506 non-null  float64\n",
      " 13  DISCHARGED TIME OF RESIN(Stage1) Collect Result_Fill1    40506 non-null  float64\n",
      " 14  DISCHARGED TIME OF RESIN(Stage2) Collect Result_Fill1    40506 non-null  float64\n",
      " 15  DISCHARGED TIME OF RESIN(Stage3) Collect Result_Fill1    40506 non-null  float64\n",
      " 16  Dispense Volume(Stage1) Collect Result_Fill1             40506 non-null  float64\n",
      " 17  Dispense Volume(Stage2) Collect Result_Fill1             40506 non-null  float64\n",
      " 18  Dispense Volume(Stage3) Collect Result_Fill1             40506 non-null  float64\n",
      " 19  HEAD NORMAL COORDINATE X AXIS(Stage1) Judge Value_Fill1  11293 non-null  object \n",
      " 20  Head Purge Position Z Collect Result_Fill1               40506 non-null  int64  \n",
      " 21  Machine Tact time Collect Result_Fill1                   40506 non-null  float64\n",
      " 22  PalletID Collect Result_Fill1                            40506 non-null  int64  \n",
      " 23  Production Qty Collect Result_Fill1                      40506 non-null  int64  \n",
      " 24  Receip No Collect Result_Fill1                           40506 non-null  int64  \n",
      " 25  WorkMode Collect Result_Fill1                            40506 non-null  float64\n",
      " 26  CURE_STANDBY_POSITION_Fill2                              40506 non-null  int64  \n",
      " 27  Head Purge Position Z Collect Result_Fill2               40506 non-null  float64\n",
      " 28  Machine Tact time Collect Result_Fill2                   40506 non-null  float64\n",
      " 29  PalletID Collect Result_Fill2                            40506 non-null  int64  \n",
      " 30  Production Qty Collect Result_Fill2                      40506 non-null  int64  \n",
      " 31  Receip No Collect Result_Fill2                           40506 non-null  int64  \n",
      " 32  WorkMode Collect Result_Fill2                            16447 non-null  float64\n",
      " 33  target                                                   40506 non-null  object \n",
      " 34  Equipment_same_num                                       40506 non-null  int64  \n",
      " 35  CURE_Time_Dam                                            40506 non-null  float64\n",
      " 36  DISTANCE_TRIANGLE_area_Dam                               40506 non-null  float64\n",
      " 37  DISTANCE_TRIANGLE_height_Dam                             40506 non-null  float64\n",
      " 38  Stage1_Total_Distance_Speed_Collect_Result_Dam           40506 non-null  float64\n",
      " 39  Stage2_Total_Distance_Speed_Collect_Result_Dam           40506 non-null  float64\n",
      " 40  Stage3_Total_Distance_Speed_Collect_Result_Dam           40506 non-null  float64\n",
      " 41  Total_THICKNESS_Collect_Result_Dam                       40506 non-null  float64\n",
      " 42  1st_Pressure_x_AutoClave                                 40506 non-null  float64\n",
      " 43  2nd_Pressure_x_AutoClave                                 40506 non-null  float64\n",
      " 44  3rd_Pressure_x_AutoClave                                 40506 non-null  float64\n",
      " 45  Chamber_Temp_x_AutoClave                                 40506 non-null  int64  \n",
      " 46  Chamber_Temp_ok_AutoClave                                40506 non-null  int64  \n",
      " 47  GMES_ORIGIN_INSP_JUDGE_CODE_ok_AutoClave                 40506 non-null  int64  \n",
      " 48  DISTANCE_TRIANGLE_area_Fill1                             40506 non-null  float64\n",
      " 49  DISTANCE_TRIANGLE_height_Fill1                           40506 non-null  float64\n",
      " 50  CURE_DISTANCE_Fill2                                      40506 non-null  float64\n",
      " 51  CURE_Time_Fill2                                          40506 non-null  float64\n",
      " 52  DISTANCE_STAGE1_STAGE2_Fill2                             40506 non-null  float64\n",
      " 53  DISTANCE_STAGE2_STAGE3_Fill2                             40506 non-null  float64\n",
      " 54  DISTANCE_STAGE1_STAGE3_Fill2                             40506 non-null  float64\n",
      " 55  HEAD_NORMAL_stage1_ok_Fill2                              40506 non-null  int64  \n",
      "dtypes: float64(35), int64(17), object(4)\n",
      "memory usage: 17.3+ MB\n",
      "---\n"
     ]
    }
   ],
   "source": [
    "train_data.info()\n",
    "print('---')\n",
    "# test_data.info()"
   ]
  },
  {
   "cell_type": "code",
   "execution_count": 430,
   "id": "9da11d5a",
   "metadata": {},
   "outputs": [
    {
     "name": "stdout",
     "output_type": "stream",
     "text": [
      "---\n",
      "<class 'pandas.core.frame.DataFrame'>\n",
      "RangeIndex: 17361 entries, 0 to 17360\n",
      "Data columns (total 57 columns):\n",
      " #   Column                                                   Non-Null Count  Dtype  \n",
      "---  ------                                                   --------------  -----  \n",
      " 0   Set ID                                                   17361 non-null  object \n",
      " 1   Model.Suffix                                             17361 non-null  object \n",
      " 2   Workorder                                                17361 non-null  object \n",
      " 3   DISCHARGED SPEED OF RESIN Collect Result_Dam             17361 non-null  int64  \n",
      " 4   Head Clean Position Z Collect Result_Dam                 17361 non-null  float64\n",
      " 5   Head Purge Position Z Collect Result_Dam                 17361 non-null  float64\n",
      " 6   Head Zero Position Y Collect Result_Dam                  17361 non-null  float64\n",
      " 7   Head Zero Position Z Collect Result_Dam                  17361 non-null  float64\n",
      " 8   Machine Tact time Collect Result_Dam                     17361 non-null  float64\n",
      " 9   PalletID Collect Result_Dam                              17361 non-null  float64\n",
      " 10  Production Qty Collect Result_Dam                        17361 non-null  float64\n",
      " 11  Receip No Collect Result_Dam                             17361 non-null  float64\n",
      " 12  WorkMode Collect Result_Dam                              7012 non-null   float64\n",
      " 13  DISCHARGED SPEED OF RESIN Collect Result_Fill1           17361 non-null  float64\n",
      " 14  DISCHARGED TIME OF RESIN(Stage1) Collect Result_Fill1    17361 non-null  float64\n",
      " 15  DISCHARGED TIME OF RESIN(Stage2) Collect Result_Fill1    17361 non-null  float64\n",
      " 16  DISCHARGED TIME OF RESIN(Stage3) Collect Result_Fill1    17361 non-null  float64\n",
      " 17  Dispense Volume(Stage1) Collect Result_Fill1             17361 non-null  float64\n",
      " 18  Dispense Volume(Stage2) Collect Result_Fill1             17361 non-null  float64\n",
      " 19  Dispense Volume(Stage3) Collect Result_Fill1             17361 non-null  float64\n",
      " 20  HEAD NORMAL COORDINATE X AXIS(Stage1) Judge Value_Fill1  4881 non-null   object \n",
      " 21  Head Purge Position Z Collect Result_Fill1               17361 non-null  float64\n",
      " 22  Machine Tact time Collect Result_Fill1                   17361 non-null  float64\n",
      " 23  PalletID Collect Result_Fill1                            17361 non-null  float64\n",
      " 24  Production Qty Collect Result_Fill1                      17361 non-null  float64\n",
      " 25  Receip No Collect Result_Fill1                           17361 non-null  float64\n",
      " 26  WorkMode Collect Result_Fill1                            17361 non-null  float64\n",
      " 27  CURE_STANDBY_POSITION_Fill2                              17361 non-null  int64  \n",
      " 28  Head Purge Position Z Collect Result_Fill2               17361 non-null  float64\n",
      " 29  Machine Tact time Collect Result_Fill2                   17361 non-null  float64\n",
      " 30  PalletID Collect Result_Fill2                            17361 non-null  float64\n",
      " 31  Production Qty Collect Result_Fill2                      17361 non-null  float64\n",
      " 32  Receip No Collect Result_Fill2                           17361 non-null  float64\n",
      " 33  WorkMode Collect Result_Fill2                            7012 non-null   float64\n",
      " 34  target                                                   0 non-null      float64\n",
      " 35  Equipment_same_num                                       17361 non-null  int64  \n",
      " 36  CURE_Time_Dam                                            17361 non-null  float64\n",
      " 37  DISTANCE_TRIANGLE_area_Dam                               17361 non-null  float64\n",
      " 38  DISTANCE_TRIANGLE_height_Dam                             17361 non-null  float64\n",
      " 39  Stage1_Total_Distance_Speed_Collect_Result_Dam           17361 non-null  float64\n",
      " 40  Stage2_Total_Distance_Speed_Collect_Result_Dam           17361 non-null  float64\n",
      " 41  Stage3_Total_Distance_Speed_Collect_Result_Dam           17361 non-null  float64\n",
      " 42  Total_THICKNESS_Collect_Result_Dam                       17361 non-null  float64\n",
      " 43  1st_Pressure_x_AutoClave                                 17361 non-null  float64\n",
      " 44  2nd_Pressure_x_AutoClave                                 17361 non-null  float64\n",
      " 45  3rd_Pressure_x_AutoClave                                 17361 non-null  float64\n",
      " 46  Chamber_Temp_x_AutoClave                                 17361 non-null  int64  \n",
      " 47  Chamber_Temp_ok_AutoClave                                17361 non-null  int64  \n",
      " 48  GMES_ORIGIN_INSP_JUDGE_CODE_ok_AutoClave                 17361 non-null  int64  \n",
      " 49  DISTANCE_TRIANGLE_area_Fill1                             17361 non-null  float64\n",
      " 50  DISTANCE_TRIANGLE_height_Fill1                           17361 non-null  float64\n",
      " 51  CURE_DISTANCE_Fill2                                      17361 non-null  float64\n",
      " 52  CURE_Time_Fill2                                          17361 non-null  float64\n",
      " 53  DISTANCE_STAGE1_STAGE2_Fill2                             17361 non-null  float64\n",
      " 54  DISTANCE_STAGE2_STAGE3_Fill2                             17361 non-null  float64\n",
      " 55  DISTANCE_STAGE1_STAGE3_Fill2                             17361 non-null  float64\n",
      " 56  HEAD_NORMAL_stage1_ok_Fill2                              17361 non-null  int64  \n",
      "dtypes: float64(46), int64(7), object(4)\n",
      "memory usage: 7.5+ MB\n"
     ]
    }
   ],
   "source": [
    "# train_data.info()\n",
    "print('---')\n",
    "test_data.info()"
   ]
  },
  {
   "cell_type": "markdown",
   "id": "5b2b91e5",
   "metadata": {},
   "source": [
    "---"
   ]
  },
  {
   "cell_type": "markdown",
   "id": "83f1412a",
   "metadata": {},
   "source": [
    "## Modeling"
   ]
  },
  {
   "cell_type": "code",
   "execution_count": 431,
   "id": "cf740cfe",
   "metadata": {},
   "outputs": [
    {
     "name": "stdout",
     "output_type": "stream",
     "text": [
      "WorkMode Collect Result_Dam                                24059\n",
      "HEAD NORMAL COORDINATE X AXIS(Stage1) Judge Value_Fill1    29213\n",
      "WorkMode Collect Result_Fill2                              24059\n",
      "dtype: int64\n"
     ]
    }
   ],
   "source": [
    "# 각 변수별로 결측값이 존재하는지 확인하는 코드\n",
    "missing_values = train_data.isnull().sum()\n",
    "\n",
    "# 결측값이 존재하는 변수와 그 개수 출력\n",
    "missing_values = missing_values[missing_values > 0]\n",
    "print(missing_values)\n",
    "\n",
    "# 결측값이 존재하는 변수명을 리스트에 담기\n",
    "missing_columns = missing_values.index.tolist()\n",
    "# print(\"결측값이 존재하는 변수명:\", missing_columns)"
   ]
  },
  {
   "cell_type": "code",
   "execution_count": 432,
   "id": "a84e3f3e",
   "metadata": {},
   "outputs": [
    {
     "name": "stdout",
     "output_type": "stream",
     "text": [
      "Column: WorkMode Collect Result_Dam\n",
      "7.0    16447\n",
      "Name: WorkMode Collect Result_Dam, dtype: int64\n",
      "\n",
      "\n",
      "Column: HEAD NORMAL COORDINATE X AXIS(Stage1) Judge Value_Fill1\n",
      "OK    11293\n",
      "Name: HEAD NORMAL COORDINATE X AXIS(Stage1) Judge Value_Fill1, dtype: int64\n",
      "\n",
      "\n",
      "Column: WorkMode Collect Result_Fill2\n",
      "0.0    16447\n",
      "Name: WorkMode Collect Result_Fill2, dtype: int64\n",
      "\n",
      "\n"
     ]
    }
   ],
   "source": [
    "# 결측값이 존재하는 변수들의 value_counts 계산\n",
    "for column in missing_columns:\n",
    "    print(f\"Column: {column}\")\n",
    "    print(train_data[column].value_counts())\n",
    "    print(\"\\n\")"
   ]
  },
  {
   "cell_type": "code",
   "execution_count": 433,
   "id": "640d3090",
   "metadata": {},
   "outputs": [
    {
     "name": "stdout",
     "output_type": "stream",
     "text": [
      "드롭할 변수명:\n",
      "['HEAD NORMAL COORDINATE X AXIS(Stage1) Judge Value_Fill1']\n"
     ]
    }
   ],
   "source": [
    "# \"OK\" 값을 가진 변수를 찾고 제거\n",
    "columns_to_drop = [column for column in missing_columns if train_data[column].apply(lambda x: np.any(x == \"OK\")).any()]\n",
    "\n",
    "# 드롭할 변수명 출력 (한 줄에 2개씩)\n",
    "print(\"드롭할 변수명:\")\n",
    "for i in range(0, len(columns_to_drop), 2):\n",
    "    print(columns_to_drop[i:i+2])\n",
    "\n",
    "# 변수 드롭\n",
    "train_data = train_data.drop(columns=columns_to_drop)\n",
    "test_data = test_data.drop(columns=columns_to_drop)"
   ]
  },
  {
   "cell_type": "code",
   "execution_count": 434,
   "id": "9fa36a39",
   "metadata": {},
   "outputs": [
    {
     "name": "stdout",
     "output_type": "stream",
     "text": [
      "WorkMode Collect Result_Dam      24059\n",
      "WorkMode Collect Result_Fill2    24059\n",
      "dtype: int64\n"
     ]
    }
   ],
   "source": [
    "# 각 변수별로 결측값이 존재하는지 확인하는 코드\n",
    "missing_values = train_data.isnull().sum()\n",
    "\n",
    "# 결측값이 존재하는 변수와 그 개수 출력\n",
    "missing_values = missing_values[missing_values > 0]\n",
    "print(missing_values)\n",
    "\n",
    "# 결측값이 존재하는 변수명을 리스트에 담기\n",
    "missing_columns = missing_values.index.tolist()\n",
    "# print(\"결측값이 존재하는 변수명:\", missing_columns)"
   ]
  },
  {
   "cell_type": "code",
   "execution_count": 435,
   "id": "5d4d04c1",
   "metadata": {},
   "outputs": [
    {
     "name": "stdout",
     "output_type": "stream",
     "text": [
      "target                                                     AbNormal    Normal\n",
      "WorkMode Collect Result_Dam WorkMode Collect Result_Fill2                    \n",
      "7.0                         0.0                            0.073326  0.926674\n"
     ]
    }
   ],
   "source": [
    "# 그룹화할 변수들\n",
    "groupby_columns = [\n",
    "    \"WorkMode Collect Result_Dam\"\n",
    "    , \"WorkMode Collect Result_Fill2\"\n",
    "    ]\n",
    "\n",
    "# 그룹화하여 target 변수 값의 비율을 계산\n",
    "grouped = train_data.groupby(groupby_columns)[\"target\"].value_counts(normalize=True).unstack().fillna(0)\n",
    "\n",
    "# 결과 출력\n",
    "print(grouped)"
   ]
  },
  {
   "cell_type": "code",
   "execution_count": 436,
   "id": "b4cab4d4",
   "metadata": {},
   "outputs": [],
   "source": [
    "# WorkMode Collect Result_Dam의 이름을 WorkMode Collect Result로 변경\n",
    "train_data = train_data.rename(columns={'WorkMode Collect Result_Dam': 'WorkMode Collect Result'})\n",
    "test_data = test_data.rename(columns={'WorkMode Collect Result_Dam': 'WorkMode Collect Result'})\n",
    "\n",
    "# WorkMode Collect Result_Fill1, WorkMode Collect Result_Fill2 열 드롭\n",
    "train_data = train_data.drop(columns=['WorkMode Collect Result_Fill1', 'WorkMode Collect Result_Fill2'])\n",
    "test_data = test_data.drop(columns=['WorkMode Collect Result_Fill1', 'WorkMode Collect Result_Fill2'])"
   ]
  },
  {
   "cell_type": "code",
   "execution_count": 437,
   "id": "349653f1",
   "metadata": {},
   "outputs": [],
   "source": [
    "# WorkMode Collect Result 열의 값이 7인 행을 1로 변경\n",
    "train_data['WorkMode Collect Result'] = train_data['WorkMode Collect Result'].replace(7, 1)\n",
    "test_data['WorkMode Collect Result'] = test_data['WorkMode Collect Result'].replace(7, 1)\n",
    "\n",
    "# WorkMode Collect Result 열의 결측값을 0으로 채움\n",
    "train_data['WorkMode Collect Result'] = train_data['WorkMode Collect Result'].fillna(0)\n",
    "test_data['WorkMode Collect Result'] = test_data['WorkMode Collect Result'].fillna(0)"
   ]
  },
  {
   "cell_type": "code",
   "execution_count": 438,
   "id": "d1e3724b",
   "metadata": {},
   "outputs": [
    {
     "data": {
      "text/plain": [
       "0.0    10349\n",
       "1.0     7012\n",
       "Name: WorkMode Collect Result, dtype: int64"
      ]
     },
     "execution_count": 438,
     "metadata": {},
     "output_type": "execute_result"
    }
   ],
   "source": [
    "test_data['WorkMode Collect Result'].value_counts()"
   ]
  },
  {
   "cell_type": "code",
   "execution_count": 439,
   "id": "90fbb6eb",
   "metadata": {},
   "outputs": [
    {
     "name": "stdout",
     "output_type": "stream",
     "text": [
      "Series([], dtype: int64)\n",
      "결측값이 존재하는 변수명: []\n"
     ]
    }
   ],
   "source": [
    "# 각 변수별로 결측값이 존재하는지 확인하는 코드\n",
    "missing_values = train_data.isnull().sum()\n",
    "\n",
    "# 결측값이 존재하는 변수와 그 개수 출력\n",
    "missing_values = missing_values[missing_values > 0]\n",
    "print(missing_values)\n",
    "\n",
    "# 결측값이 존재하는 변수명을 리스트에 담기\n",
    "missing_columns = missing_values.index.tolist()\n",
    "print(\"결측값이 존재하는 변수명:\", missing_columns)"
   ]
  },
  {
   "cell_type": "code",
   "execution_count": 440,
   "id": "85b9d49c",
   "metadata": {},
   "outputs": [
    {
     "name": "stdout",
     "output_type": "stream",
     "text": [
      "target    17361\n",
      "dtype: int64\n",
      "결측값이 존재하는 변수명: ['target']\n"
     ]
    }
   ],
   "source": [
    "# 각 변수별로 결측값이 존재하는지 확인하는 코드\n",
    "missing_values = test_data.isnull().sum()\n",
    "\n",
    "# 결측값이 존재하는 변수와 그 개수 출력\n",
    "missing_values = missing_values[missing_values > 0]\n",
    "print(missing_values)\n",
    "\n",
    "# 결측값이 존재하는 변수명을 리스트에 담기\n",
    "missing_columns = missing_values.index.tolist()\n",
    "print(\"결측값이 존재하는 변수명:\", missing_columns)"
   ]
  },
  {
   "cell_type": "markdown",
   "id": "50ac234b",
   "metadata": {},
   "source": [
    "### 문자형(object) 변수 -> 수치형 변환\n"
   ]
  },
  {
   "cell_type": "code",
   "execution_count": 441,
   "id": "b1f0fd27",
   "metadata": {},
   "outputs": [
    {
     "data": {
      "text/plain": [
       "Normal      38156\n",
       "AbNormal     2350\n",
       "Name: target, dtype: int64"
      ]
     },
     "execution_count": 441,
     "metadata": {},
     "output_type": "execute_result"
    }
   ],
   "source": [
    "train_data['target'].value_counts()"
   ]
  },
  {
   "cell_type": "code",
   "execution_count": 442,
   "id": "653350fa",
   "metadata": {},
   "outputs": [
    {
     "name": "stdout",
     "output_type": "stream",
     "text": [
      "<class 'pandas.core.frame.DataFrame'>\n",
      "RangeIndex: 40506 entries, 0 to 40505\n",
      "Data columns (total 53 columns):\n",
      " #   Column                                                 Non-Null Count  Dtype  \n",
      "---  ------                                                 --------------  -----  \n",
      " 0   Model.Suffix                                           40506 non-null  object \n",
      " 1   Workorder                                              40506 non-null  object \n",
      " 2   DISCHARGED SPEED OF RESIN Collect Result_Dam           40506 non-null  int64  \n",
      " 3   Head Clean Position Z Collect Result_Dam               40506 non-null  float64\n",
      " 4   Head Purge Position Z Collect Result_Dam               40506 non-null  float64\n",
      " 5   Head Zero Position Y Collect Result_Dam                40506 non-null  float64\n",
      " 6   Head Zero Position Z Collect Result_Dam                40506 non-null  float64\n",
      " 7   Machine Tact time Collect Result_Dam                   40506 non-null  float64\n",
      " 8   PalletID Collect Result_Dam                            40506 non-null  int64  \n",
      " 9   Production Qty Collect Result_Dam                      40506 non-null  int64  \n",
      " 10  Receip No Collect Result_Dam                           40506 non-null  int64  \n",
      " 11  WorkMode Collect Result                                40506 non-null  float64\n",
      " 12  DISCHARGED SPEED OF RESIN Collect Result_Fill1         40506 non-null  float64\n",
      " 13  DISCHARGED TIME OF RESIN(Stage1) Collect Result_Fill1  40506 non-null  float64\n",
      " 14  DISCHARGED TIME OF RESIN(Stage2) Collect Result_Fill1  40506 non-null  float64\n",
      " 15  DISCHARGED TIME OF RESIN(Stage3) Collect Result_Fill1  40506 non-null  float64\n",
      " 16  Dispense Volume(Stage1) Collect Result_Fill1           40506 non-null  float64\n",
      " 17  Dispense Volume(Stage2) Collect Result_Fill1           40506 non-null  float64\n",
      " 18  Dispense Volume(Stage3) Collect Result_Fill1           40506 non-null  float64\n",
      " 19  Head Purge Position Z Collect Result_Fill1             40506 non-null  int64  \n",
      " 20  Machine Tact time Collect Result_Fill1                 40506 non-null  float64\n",
      " 21  PalletID Collect Result_Fill1                          40506 non-null  int64  \n",
      " 22  Production Qty Collect Result_Fill1                    40506 non-null  int64  \n",
      " 23  Receip No Collect Result_Fill1                         40506 non-null  int64  \n",
      " 24  CURE_STANDBY_POSITION_Fill2                            40506 non-null  int64  \n",
      " 25  Head Purge Position Z Collect Result_Fill2             40506 non-null  float64\n",
      " 26  Machine Tact time Collect Result_Fill2                 40506 non-null  float64\n",
      " 27  PalletID Collect Result_Fill2                          40506 non-null  int64  \n",
      " 28  Production Qty Collect Result_Fill2                    40506 non-null  int64  \n",
      " 29  Receip No Collect Result_Fill2                         40506 non-null  int64  \n",
      " 30  target                                                 40506 non-null  object \n",
      " 31  Equipment_same_num                                     40506 non-null  int64  \n",
      " 32  CURE_Time_Dam                                          40506 non-null  float64\n",
      " 33  DISTANCE_TRIANGLE_area_Dam                             40506 non-null  float64\n",
      " 34  DISTANCE_TRIANGLE_height_Dam                           40506 non-null  float64\n",
      " 35  Stage1_Total_Distance_Speed_Collect_Result_Dam         40506 non-null  float64\n",
      " 36  Stage2_Total_Distance_Speed_Collect_Result_Dam         40506 non-null  float64\n",
      " 37  Stage3_Total_Distance_Speed_Collect_Result_Dam         40506 non-null  float64\n",
      " 38  Total_THICKNESS_Collect_Result_Dam                     40506 non-null  float64\n",
      " 39  1st_Pressure_x_AutoClave                               40506 non-null  float64\n",
      " 40  2nd_Pressure_x_AutoClave                               40506 non-null  float64\n",
      " 41  3rd_Pressure_x_AutoClave                               40506 non-null  float64\n",
      " 42  Chamber_Temp_x_AutoClave                               40506 non-null  int64  \n",
      " 43  Chamber_Temp_ok_AutoClave                              40506 non-null  int64  \n",
      " 44  GMES_ORIGIN_INSP_JUDGE_CODE_ok_AutoClave               40506 non-null  int64  \n",
      " 45  DISTANCE_TRIANGLE_area_Fill1                           40506 non-null  float64\n",
      " 46  DISTANCE_TRIANGLE_height_Fill1                         40506 non-null  float64\n",
      " 47  CURE_DISTANCE_Fill2                                    40506 non-null  float64\n",
      " 48  CURE_Time_Fill2                                        40506 non-null  float64\n",
      " 49  DISTANCE_STAGE1_STAGE2_Fill2                           40506 non-null  float64\n",
      " 50  DISTANCE_STAGE2_STAGE3_Fill2                           40506 non-null  float64\n",
      " 51  DISTANCE_STAGE1_STAGE3_Fill2                           40506 non-null  float64\n",
      " 52  HEAD_NORMAL_stage1_ok_Fill2                            40506 non-null  int64  \n",
      "dtypes: float64(33), int64(17), object(3)\n",
      "memory usage: 16.4+ MB\n"
     ]
    }
   ],
   "source": [
    "train_data.info()"
   ]
  },
  {
   "cell_type": "code",
   "execution_count": 443,
   "id": "b0505b88",
   "metadata": {},
   "outputs": [
    {
     "name": "stdout",
     "output_type": "stream",
     "text": [
      "float64\n"
     ]
    }
   ],
   "source": [
    "print(test_data['target'].dtype)"
   ]
  },
  {
   "cell_type": "markdown",
   "id": "896131a9",
   "metadata": {},
   "source": [
    "### 타겟 인코딩"
   ]
  },
  {
   "cell_type": "code",
   "execution_count": 444,
   "id": "eebeda92",
   "metadata": {},
   "outputs": [
    {
     "name": "stdout",
     "output_type": "stream",
     "text": [
      "Index(['Model.Suffix', 'Workorder', 'target'], dtype='object')  train_object_columns 갯수 : 3\n",
      "Index(['Set ID', 'Model.Suffix', 'Workorder', 'target'], dtype='object')  test_object_columns 갯수 : 4\n",
      "\n",
      "Train Data:\n",
      "Model.Suffix unique 값 갯수: 7\n",
      "Workorder unique 값 갯수: 663\n",
      "target unique 값 갯수: 2\n",
      "\n",
      "Test Data:\n",
      "Set ID unique 값 갯수: 17361\n",
      "Model.Suffix unique 값 갯수: 7\n",
      "Workorder unique 값 갯수: 662\n",
      "target unique 값 갯수: 0\n"
     ]
    }
   ],
   "source": [
    "# 'target' 열의 변수 타입을 object로 변경\n",
    "# -> test 데이터는 float64 타입으로 되어있음 \n",
    "test_data['target'] = test_data['target'].astype('object')\n",
    "\n",
    "# object 타입의 변수 출력\n",
    "train_object_columns = train_data.select_dtypes(include=['object']).columns\n",
    "test_object_columns = test_data.select_dtypes(include=['object']).columns\n",
    "\n",
    "print(train_object_columns, f\" train_object_columns 갯수 : {len(train_object_columns)}\")\n",
    "print(test_object_columns, f\" test_object_columns 갯수 : {len(test_object_columns)}\")\n",
    "\n",
    "# 각 object 변수의 고유 값 개수 출력\n",
    "print(\"\\nTrain Data:\")\n",
    "for col in train_object_columns:\n",
    "    unique_count = train_data[col].nunique()\n",
    "    print(f\"{col} unique 값 갯수: {unique_count}\")\n",
    "\n",
    "print(\"\\nTest Data:\")\n",
    "for col in test_object_columns:\n",
    "    unique_count = test_data[col].nunique()\n",
    "    print(f\"{col} unique 값 갯수: {unique_count}\")"
   ]
  },
  {
   "cell_type": "code",
   "execution_count": 445,
   "id": "4af20ed0",
   "metadata": {},
   "outputs": [
    {
     "name": "stdout",
     "output_type": "stream",
     "text": [
      "   Model.Suffix  Workorder\n",
      "0      0.049336   0.158385\n",
      "1      0.049336   0.015314\n",
      "2      0.056712   0.009534\n",
      "   Model.Suffix  Workorder\n",
      "0      0.056712   0.091912\n",
      "1      0.056712   0.024247\n",
      "2      0.056712   0.091463\n",
      "--- train_data ---\n",
      "target  \n",
      "Normal      38156\n",
      "AbNormal     2350\n",
      "dtype: int64\n"
     ]
    }
   ],
   "source": [
    "# 필요한 라이브러리 임포트\n",
    "import pandas as pd\n",
    "import category_encoders as ce\n",
    "\n",
    "# 타겟 변수와 범주형 변수 지정\n",
    "## Target Encoding의 smoothing 파라미터는 default로 auto로 설정되어 있음\n",
    "target = 'target'  # 타겟 변수 이름으로 변경\n",
    "categorical_columns = [\n",
    "    'Model.Suffix',\n",
    "    'Workorder',\n",
    "]  # 범주형 변수 이름으로 변경\n",
    "\n",
    "# 타겟 값을 숫자로 변환\n",
    "target_mapping = {'Normal': 0, 'AbNormal': 1}\n",
    "train_data[target] = train_data[target].map(target_mapping)\n",
    "test_data[target] = test_data[target].map(target_mapping)\n",
    "\n",
    "# 열이 존재하는지 확인\n",
    "missing_columns = [col for col in categorical_columns if col not in train_data.columns]\n",
    "if missing_columns:\n",
    "    raise ValueError(f\"train_data에 다음 열이 존재하지 않습니다: {missing_columns}\")\n",
    "\n",
    "# 타겟 인코더 생성 및 학습\n",
    "encoder = ce.TargetEncoder(cols=categorical_columns)\n",
    "train_data = encoder.fit_transform(train_data, train_data[target])\n",
    "\n",
    "# Set ID 열을 별도로 저장\n",
    "set_id = test_data['Set ID']\n",
    "\n",
    "# 테스트 데이터 인코딩 (Set ID 열 제외)\n",
    "test_data = test_data.drop(columns=['Set ID'])\n",
    "test_data = encoder.transform(test_data)\n",
    "\n",
    "# Set ID 열을 맨 앞에 추가\n",
    "test_data.insert(0, 'Set ID', set_id)\n",
    "\n",
    "# categorical_columns에 해당하는 열의 데이터 값만 확인\n",
    "print(train_data[categorical_columns].head(3))\n",
    "print(test_data[categorical_columns].head(3))\n",
    "\n",
    "# 역 매핑 딕셔너리 생성\n",
    "reverse_target_mapping = {v: k for k, v in target_mapping.items()}\n",
    "\n",
    "# 타겟 값을 원래대로 변환\n",
    "train_data[target] = train_data[target].map(reverse_target_mapping)\n",
    "test_data[target] = test_data[target].map(reverse_target_mapping)\n",
    "\n",
    "print(\"--- train_data ---\")\n",
    "\n",
    "# 변환된 타겟 값 확인\n",
    "print(train_data[[target]].value_counts())"
   ]
  },
  {
   "cell_type": "code",
   "execution_count": 446,
   "id": "17e56874",
   "metadata": {},
   "outputs": [
    {
     "name": "stdout",
     "output_type": "stream",
     "text": [
      "<class 'pandas.core.frame.DataFrame'>\n",
      "RangeIndex: 40506 entries, 0 to 40505\n",
      "Data columns (total 53 columns):\n",
      " #   Column                                                 Non-Null Count  Dtype  \n",
      "---  ------                                                 --------------  -----  \n",
      " 0   Model.Suffix                                           40506 non-null  float64\n",
      " 1   Workorder                                              40506 non-null  float64\n",
      " 2   DISCHARGED SPEED OF RESIN Collect Result_Dam           40506 non-null  int64  \n",
      " 3   Head Clean Position Z Collect Result_Dam               40506 non-null  float64\n",
      " 4   Head Purge Position Z Collect Result_Dam               40506 non-null  float64\n",
      " 5   Head Zero Position Y Collect Result_Dam                40506 non-null  float64\n",
      " 6   Head Zero Position Z Collect Result_Dam                40506 non-null  float64\n",
      " 7   Machine Tact time Collect Result_Dam                   40506 non-null  float64\n",
      " 8   PalletID Collect Result_Dam                            40506 non-null  int64  \n",
      " 9   Production Qty Collect Result_Dam                      40506 non-null  int64  \n",
      " 10  Receip No Collect Result_Dam                           40506 non-null  int64  \n",
      " 11  WorkMode Collect Result                                40506 non-null  float64\n",
      " 12  DISCHARGED SPEED OF RESIN Collect Result_Fill1         40506 non-null  float64\n",
      " 13  DISCHARGED TIME OF RESIN(Stage1) Collect Result_Fill1  40506 non-null  float64\n",
      " 14  DISCHARGED TIME OF RESIN(Stage2) Collect Result_Fill1  40506 non-null  float64\n",
      " 15  DISCHARGED TIME OF RESIN(Stage3) Collect Result_Fill1  40506 non-null  float64\n",
      " 16  Dispense Volume(Stage1) Collect Result_Fill1           40506 non-null  float64\n",
      " 17  Dispense Volume(Stage2) Collect Result_Fill1           40506 non-null  float64\n",
      " 18  Dispense Volume(Stage3) Collect Result_Fill1           40506 non-null  float64\n",
      " 19  Head Purge Position Z Collect Result_Fill1             40506 non-null  int64  \n",
      " 20  Machine Tact time Collect Result_Fill1                 40506 non-null  float64\n",
      " 21  PalletID Collect Result_Fill1                          40506 non-null  int64  \n",
      " 22  Production Qty Collect Result_Fill1                    40506 non-null  int64  \n",
      " 23  Receip No Collect Result_Fill1                         40506 non-null  int64  \n",
      " 24  CURE_STANDBY_POSITION_Fill2                            40506 non-null  int64  \n",
      " 25  Head Purge Position Z Collect Result_Fill2             40506 non-null  float64\n",
      " 26  Machine Tact time Collect Result_Fill2                 40506 non-null  float64\n",
      " 27  PalletID Collect Result_Fill2                          40506 non-null  int64  \n",
      " 28  Production Qty Collect Result_Fill2                    40506 non-null  int64  \n",
      " 29  Receip No Collect Result_Fill2                         40506 non-null  int64  \n",
      " 30  target                                                 40506 non-null  object \n",
      " 31  Equipment_same_num                                     40506 non-null  int64  \n",
      " 32  CURE_Time_Dam                                          40506 non-null  float64\n",
      " 33  DISTANCE_TRIANGLE_area_Dam                             40506 non-null  float64\n",
      " 34  DISTANCE_TRIANGLE_height_Dam                           40506 non-null  float64\n",
      " 35  Stage1_Total_Distance_Speed_Collect_Result_Dam         40506 non-null  float64\n",
      " 36  Stage2_Total_Distance_Speed_Collect_Result_Dam         40506 non-null  float64\n",
      " 37  Stage3_Total_Distance_Speed_Collect_Result_Dam         40506 non-null  float64\n",
      " 38  Total_THICKNESS_Collect_Result_Dam                     40506 non-null  float64\n",
      " 39  1st_Pressure_x_AutoClave                               40506 non-null  float64\n",
      " 40  2nd_Pressure_x_AutoClave                               40506 non-null  float64\n",
      " 41  3rd_Pressure_x_AutoClave                               40506 non-null  float64\n",
      " 42  Chamber_Temp_x_AutoClave                               40506 non-null  int64  \n",
      " 43  Chamber_Temp_ok_AutoClave                              40506 non-null  int64  \n",
      " 44  GMES_ORIGIN_INSP_JUDGE_CODE_ok_AutoClave               40506 non-null  int64  \n",
      " 45  DISTANCE_TRIANGLE_area_Fill1                           40506 non-null  float64\n",
      " 46  DISTANCE_TRIANGLE_height_Fill1                         40506 non-null  float64\n",
      " 47  CURE_DISTANCE_Fill2                                    40506 non-null  float64\n",
      " 48  CURE_Time_Fill2                                        40506 non-null  float64\n",
      " 49  DISTANCE_STAGE1_STAGE2_Fill2                           40506 non-null  float64\n",
      " 50  DISTANCE_STAGE2_STAGE3_Fill2                           40506 non-null  float64\n",
      " 51  DISTANCE_STAGE1_STAGE3_Fill2                           40506 non-null  float64\n",
      " 52  HEAD_NORMAL_stage1_ok_Fill2                            40506 non-null  int64  \n",
      "dtypes: float64(35), int64(17), object(1)\n",
      "memory usage: 16.4+ MB\n"
     ]
    }
   ],
   "source": [
    "train_data.info()"
   ]
  },
  {
   "cell_type": "code",
   "execution_count": 447,
   "id": "c06bcb2a",
   "metadata": {},
   "outputs": [
    {
     "name": "stdout",
     "output_type": "stream",
     "text": [
      "<class 'pandas.core.frame.DataFrame'>\n",
      "RangeIndex: 17361 entries, 0 to 17360\n",
      "Data columns (total 54 columns):\n",
      " #   Column                                                 Non-Null Count  Dtype  \n",
      "---  ------                                                 --------------  -----  \n",
      " 0   Set ID                                                 17361 non-null  object \n",
      " 1   Model.Suffix                                           17361 non-null  float64\n",
      " 2   Workorder                                              17361 non-null  float64\n",
      " 3   DISCHARGED SPEED OF RESIN Collect Result_Dam           17361 non-null  int64  \n",
      " 4   Head Clean Position Z Collect Result_Dam               17361 non-null  float64\n",
      " 5   Head Purge Position Z Collect Result_Dam               17361 non-null  float64\n",
      " 6   Head Zero Position Y Collect Result_Dam                17361 non-null  float64\n",
      " 7   Head Zero Position Z Collect Result_Dam                17361 non-null  float64\n",
      " 8   Machine Tact time Collect Result_Dam                   17361 non-null  float64\n",
      " 9   PalletID Collect Result_Dam                            17361 non-null  float64\n",
      " 10  Production Qty Collect Result_Dam                      17361 non-null  float64\n",
      " 11  Receip No Collect Result_Dam                           17361 non-null  float64\n",
      " 12  WorkMode Collect Result                                17361 non-null  float64\n",
      " 13  DISCHARGED SPEED OF RESIN Collect Result_Fill1         17361 non-null  float64\n",
      " 14  DISCHARGED TIME OF RESIN(Stage1) Collect Result_Fill1  17361 non-null  float64\n",
      " 15  DISCHARGED TIME OF RESIN(Stage2) Collect Result_Fill1  17361 non-null  float64\n",
      " 16  DISCHARGED TIME OF RESIN(Stage3) Collect Result_Fill1  17361 non-null  float64\n",
      " 17  Dispense Volume(Stage1) Collect Result_Fill1           17361 non-null  float64\n",
      " 18  Dispense Volume(Stage2) Collect Result_Fill1           17361 non-null  float64\n",
      " 19  Dispense Volume(Stage3) Collect Result_Fill1           17361 non-null  float64\n",
      " 20  Head Purge Position Z Collect Result_Fill1             17361 non-null  float64\n",
      " 21  Machine Tact time Collect Result_Fill1                 17361 non-null  float64\n",
      " 22  PalletID Collect Result_Fill1                          17361 non-null  float64\n",
      " 23  Production Qty Collect Result_Fill1                    17361 non-null  float64\n",
      " 24  Receip No Collect Result_Fill1                         17361 non-null  float64\n",
      " 25  CURE_STANDBY_POSITION_Fill2                            17361 non-null  int64  \n",
      " 26  Head Purge Position Z Collect Result_Fill2             17361 non-null  float64\n",
      " 27  Machine Tact time Collect Result_Fill2                 17361 non-null  float64\n",
      " 28  PalletID Collect Result_Fill2                          17361 non-null  float64\n",
      " 29  Production Qty Collect Result_Fill2                    17361 non-null  float64\n",
      " 30  Receip No Collect Result_Fill2                         17361 non-null  float64\n",
      " 31  target                                                 0 non-null      object \n",
      " 32  Equipment_same_num                                     17361 non-null  int64  \n",
      " 33  CURE_Time_Dam                                          17361 non-null  float64\n",
      " 34  DISTANCE_TRIANGLE_area_Dam                             17361 non-null  float64\n",
      " 35  DISTANCE_TRIANGLE_height_Dam                           17361 non-null  float64\n",
      " 36  Stage1_Total_Distance_Speed_Collect_Result_Dam         17361 non-null  float64\n",
      " 37  Stage2_Total_Distance_Speed_Collect_Result_Dam         17361 non-null  float64\n",
      " 38  Stage3_Total_Distance_Speed_Collect_Result_Dam         17361 non-null  float64\n",
      " 39  Total_THICKNESS_Collect_Result_Dam                     17361 non-null  float64\n",
      " 40  1st_Pressure_x_AutoClave                               17361 non-null  float64\n",
      " 41  2nd_Pressure_x_AutoClave                               17361 non-null  float64\n",
      " 42  3rd_Pressure_x_AutoClave                               17361 non-null  float64\n",
      " 43  Chamber_Temp_x_AutoClave                               17361 non-null  int64  \n",
      " 44  Chamber_Temp_ok_AutoClave                              17361 non-null  int64  \n",
      " 45  GMES_ORIGIN_INSP_JUDGE_CODE_ok_AutoClave               17361 non-null  int64  \n",
      " 46  DISTANCE_TRIANGLE_area_Fill1                           17361 non-null  float64\n",
      " 47  DISTANCE_TRIANGLE_height_Fill1                         17361 non-null  float64\n",
      " 48  CURE_DISTANCE_Fill2                                    17361 non-null  float64\n",
      " 49  CURE_Time_Fill2                                        17361 non-null  float64\n",
      " 50  DISTANCE_STAGE1_STAGE2_Fill2                           17361 non-null  float64\n",
      " 51  DISTANCE_STAGE2_STAGE3_Fill2                           17361 non-null  float64\n",
      " 52  DISTANCE_STAGE1_STAGE3_Fill2                           17361 non-null  float64\n",
      " 53  HEAD_NORMAL_stage1_ok_Fill2                            17361 non-null  int64  \n",
      "dtypes: float64(45), int64(7), object(2)\n",
      "memory usage: 7.2+ MB\n"
     ]
    }
   ],
   "source": [
    "test_data.info()"
   ]
  },
  {
   "cell_type": "markdown",
   "id": "184f2fea",
   "metadata": {},
   "source": [
    "### 오버샘플링"
   ]
  },
  {
   "cell_type": "code",
   "execution_count": 448,
   "id": "7cc296f5",
   "metadata": {},
   "outputs": [],
   "source": [
    "# 필요한 라이브러리 임포트\n",
    "from imblearn.over_sampling import SMOTE\n",
    "\n",
    "# SMOTE를 사용하여 오버 샘플링 수행\n",
    "smote = SMOTE(random_state=RANDOM_STATE)\n",
    "X_train = train_data.drop(columns=['target'])\n",
    "y_train = train_data['target']\n",
    "X_resampled, y_resampled = smote.fit_resample(X_train, y_train)\n",
    "\n",
    "# 오버 샘플링된 데이터셋을 DataFrame으로 변환\n",
    "train_data = pd.concat([pd.DataFrame(X_resampled, columns=X_train.columns), pd.Series(y_resampled, name='target')], axis=1)"
   ]
  },
  {
   "cell_type": "code",
   "execution_count": 449,
   "id": "90f90ddb",
   "metadata": {},
   "outputs": [
    {
     "data": {
      "text/plain": [
       "Normal      38156\n",
       "AbNormal    38156\n",
       "Name: target, dtype: int64"
      ]
     },
     "execution_count": 449,
     "metadata": {},
     "output_type": "execute_result"
    }
   ],
   "source": [
    "train_data['target'].value_counts()"
   ]
  },
  {
   "cell_type": "markdown",
   "id": "b9921acc",
   "metadata": {},
   "source": [
    "### 데이터 분할"
   ]
  },
  {
   "cell_type": "code",
   "execution_count": 450,
   "id": "53dd2a8f",
   "metadata": {},
   "outputs": [
    {
     "name": "stdout",
     "output_type": "stream",
     "text": [
      "  \tAbnormal\tNormal\n",
      "  Total: Normal: 30525, AbNormal: 30524 ratio: 0.99996723996724\n",
      "  Total: Normal: 7631, AbNormal: 7632 ratio: 1.0001310444240596\n"
     ]
    }
   ],
   "source": [
    "df_train, df_val = train_test_split(\n",
    "    train_data,\n",
    "    test_size=0.2,\n",
    "    stratify=train_data[\"target\"],\n",
    "    random_state=RANDOM_STATE,\n",
    ")\n",
    "\n",
    "def print_stats(df: pd.DataFrame):\n",
    "    num_normal = len(df[df[\"target\"] == \"Normal\"])\n",
    "    num_abnormal = len(df[df[\"target\"] == \"AbNormal\"])\n",
    "\n",
    "    print(f\"  Total: Normal: {num_normal}, AbNormal: {num_abnormal}\" + f\" ratio: {num_abnormal/num_normal}\")\n",
    "\n",
    "\n",
    "# Print statistics\n",
    "print(f\"  \\tAbnormal\\tNormal\")\n",
    "print_stats(df_train)\n",
    "print_stats(df_val)"
   ]
  },
  {
   "cell_type": "markdown",
   "id": "25f0f960",
   "metadata": {},
   "source": [
    "## 3. 모델 학습"
   ]
  },
  {
   "cell_type": "markdown",
   "id": "76aab8ce",
   "metadata": {},
   "source": [
    "### 모델 정의"
   ]
  },
  {
   "cell_type": "code",
   "execution_count": 451,
   "id": "590d252b",
   "metadata": {},
   "outputs": [],
   "source": [
    "from sklearn.metrics import (\n",
    "    accuracy_score,\n",
    "    confusion_matrix,\n",
    "    f1_score,\n",
    "    precision_score,\n",
    "    recall_score,\n",
    ")\n",
    "\n",
    "def get_clf_eval(y_test, y_pred=None):\n",
    "    confusion = confusion_matrix(y_test, y_pred, labels=[True, False])\n",
    "    accuracy = accuracy_score(y_test, y_pred)\n",
    "    precision = precision_score(y_test, y_pred, labels=[True, False])\n",
    "    recall = recall_score(y_test, y_pred)\n",
    "    F1 = f1_score(y_test, y_pred, labels=[True, False])\n",
    "    weighted_F1 = f1_score(y_test, y_pred, average='weighted')\n",
    "\n",
    "    metrics = pd.DataFrame({\n",
    "        '정확도': [accuracy],\n",
    "        '정밀도': [precision],\n",
    "        '재현율': [recall],\n",
    "        'F1 Score': [F1],\n",
    "        'Weighted F1': [weighted_F1]\n",
    "    })\n",
    "\n",
    "    confusion_df = pd.DataFrame(confusion, index=['True', 'False'], columns=['True', 'False'])\n",
    "\n",
    "    print(\"\\n오차행렬:\")\n",
    "    display(confusion_df)\n",
    "    print(\"평가 지표:\")\n",
    "    display(metrics)"
   ]
  },
  {
   "cell_type": "code",
   "execution_count": 452,
   "id": "1f0f76a1",
   "metadata": {},
   "outputs": [],
   "source": [
    "model = RandomForestClassifier(random_state=RANDOM_STATE)"
   ]
  },
  {
   "cell_type": "markdown",
   "id": "e27dca27",
   "metadata": {},
   "source": [
    "### 모델 학습\n"
   ]
  },
  {
   "cell_type": "code",
   "execution_count": 453,
   "id": "2f2b5e77",
   "metadata": {},
   "outputs": [
    {
     "data": {
      "text/plain": [
       "RandomForestClassifier(random_state=110)"
      ]
     },
     "execution_count": 453,
     "metadata": {},
     "output_type": "execute_result"
    }
   ],
   "source": [
    "# df_train 데이터로 학습\n",
    "features = []\n",
    "\n",
    "for col in df_train.columns:\n",
    "    try:\n",
    "        df_train[col] = df_train[col].astype(int)\n",
    "        features.append(col)\n",
    "    except:\n",
    "        continue\n",
    "\n",
    "train_x = df_train[features]\n",
    "train_y = df_train[\"target\"]\n",
    "\n",
    "model.fit(train_x, train_y)"
   ]
  },
  {
   "cell_type": "code",
   "execution_count": 454,
   "id": "1aee39fe",
   "metadata": {},
   "outputs": [
    {
     "name": "stdout",
     "output_type": "stream",
     "text": [
      "\n",
      "오차행렬:\n"
     ]
    },
    {
     "data": {
      "text/html": [
       "<div>\n",
       "<style scoped>\n",
       "    .dataframe tbody tr th:only-of-type {\n",
       "        vertical-align: middle;\n",
       "    }\n",
       "\n",
       "    .dataframe tbody tr th {\n",
       "        vertical-align: top;\n",
       "    }\n",
       "\n",
       "    .dataframe thead th {\n",
       "        text-align: right;\n",
       "    }\n",
       "</style>\n",
       "<table border=\"1\" class=\"dataframe\">\n",
       "  <thead>\n",
       "    <tr style=\"text-align: right;\">\n",
       "      <th></th>\n",
       "      <th>True</th>\n",
       "      <th>False</th>\n",
       "    </tr>\n",
       "  </thead>\n",
       "  <tbody>\n",
       "    <tr>\n",
       "      <th>True</th>\n",
       "      <td>1081</td>\n",
       "      <td>6551</td>\n",
       "    </tr>\n",
       "    <tr>\n",
       "      <th>False</th>\n",
       "      <td>4045</td>\n",
       "      <td>3586</td>\n",
       "    </tr>\n",
       "  </tbody>\n",
       "</table>\n",
       "</div>"
      ],
      "text/plain": [
       "       True  False\n",
       "True   1081   6551\n",
       "False  4045   3586"
      ]
     },
     "metadata": {},
     "output_type": "display_data"
    },
    {
     "name": "stdout",
     "output_type": "stream",
     "text": [
      "평가 지표:\n"
     ]
    },
    {
     "data": {
      "text/html": [
       "<div>\n",
       "<style scoped>\n",
       "    .dataframe tbody tr th:only-of-type {\n",
       "        vertical-align: middle;\n",
       "    }\n",
       "\n",
       "    .dataframe tbody tr th {\n",
       "        vertical-align: top;\n",
       "    }\n",
       "\n",
       "    .dataframe thead th {\n",
       "        text-align: right;\n",
       "    }\n",
       "</style>\n",
       "<table border=\"1\" class=\"dataframe\">\n",
       "  <thead>\n",
       "    <tr style=\"text-align: right;\">\n",
       "      <th></th>\n",
       "      <th>정확도</th>\n",
       "      <th>정밀도</th>\n",
       "      <th>재현율</th>\n",
       "      <th>F1 Score</th>\n",
       "      <th>Weighted F1</th>\n",
       "    </tr>\n",
       "  </thead>\n",
       "  <tbody>\n",
       "    <tr>\n",
       "      <th>0</th>\n",
       "      <td>0.305772</td>\n",
       "      <td>0.210886</td>\n",
       "      <td>0.14164</td>\n",
       "      <td>0.169462</td>\n",
       "      <td>0.286547</td>\n",
       "    </tr>\n",
       "  </tbody>\n",
       "</table>\n",
       "</div>"
      ],
      "text/plain": [
       "        정확도       정밀도      재현율  F1 Score  Weighted F1\n",
       "0  0.305772  0.210886  0.14164  0.169462     0.286547"
      ]
     },
     "metadata": {},
     "output_type": "display_data"
    }
   ],
   "source": [
    "# df_val에서 y_val과 x_val 추출\n",
    "y_val = df_val['target'] \n",
    "x_val = df_val.drop(columns=['target']) \n",
    "\n",
    "# y_val 레이블을 정수로 변환\n",
    "y_val_int = [1 if label == 'AbNormal' else 0 for label in y_val]\n",
    "\n",
    "# 확률 예측\n",
    "soft_voting_probs = model.predict_proba(x_val)[:, 1]\n",
    "\n",
    "# 스레시홀드 적용(일반 모델의 경우 default로 0.5)\n",
    "soft_voting_preds = [1 if prob > 0.5 else 0 for prob in soft_voting_probs]\n",
    "\n",
    "# 평가\n",
    "get_clf_eval(y_val_int, soft_voting_preds)"
   ]
  },
  {
   "cell_type": "markdown",
   "id": "2a04f8eb",
   "metadata": {},
   "source": [
    "분할한 데이터 -> 원래의 데이터(train data)로 학습한 새 모델 생성"
   ]
  },
  {
   "cell_type": "code",
   "execution_count": 458,
   "id": "359db963",
   "metadata": {},
   "outputs": [
    {
     "data": {
      "text/plain": [
       "RandomForestClassifier(random_state=110)"
      ]
     },
     "execution_count": 458,
     "metadata": {},
     "output_type": "execute_result"
    }
   ],
   "source": [
    "# train_data 데이터로 학습\n",
    "features = []\n",
    "\n",
    "for col in train_data.columns:\n",
    "    try:\n",
    "        train_data[col] = train_data[col].astype(int)\n",
    "        features.append(col)\n",
    "    except:\n",
    "        continue\n",
    "\n",
    "train_x = train_data[features]\n",
    "train_y = train_data[\"target\"]\n",
    "\n",
    "model.fit(train_x, train_y)"
   ]
  },
  {
   "cell_type": "code",
   "execution_count": 459,
   "id": "4fcf4f2c",
   "metadata": {},
   "outputs": [
    {
     "name": "stdout",
     "output_type": "stream",
     "text": [
      "8387\n"
     ]
    }
   ],
   "source": [
    "# 예측에 필요한 데이터 분리\n",
    "x_test = test_data.drop([\"target\", \"Set ID\"], axis=1)\n",
    "\n",
    "# 피처 이름 일치 확인 및 수정\n",
    "expected_features = model.feature_names_in_\n",
    "x_test = x_test.reindex(columns=expected_features, fill_value=0)\n",
    "\n",
    "# 변경된 스레시홀드 적용하여 테스트 데이터에 대한 예측\n",
    "soft_voting_probs = model.predict_proba(x_test)[:, 1]\n",
    "soft_voting_preds = [1 if prob > 0.5 else 0 for prob in soft_voting_probs]\n",
    "\n",
    "# 테스트 데이터에서 True로 예측된 개수 출력\n",
    "print(sum(soft_voting_preds))"
   ]
  },
  {
   "cell_type": "markdown",
   "id": "dc62bd70",
   "metadata": {},
   "source": [
    "## 4. 제출하기\n"
   ]
  },
  {
   "cell_type": "markdown",
   "id": "bb62fd18",
   "metadata": {},
   "source": [
    "### 제출 파일 작성\n"
   ]
  },
  {
   "cell_type": "code",
   "execution_count": 460,
   "id": "335c16cb",
   "metadata": {},
   "outputs": [],
   "source": [
    "# 제출 데이터 읽어오기 (df_test는 전처리된 데이터가 저장됨)\n",
    "df_sub = pd.read_csv(\"submission.csv\")\n",
    "df_sub[\"target\"] = soft_voting_preds\n",
    "\n",
    "# df_sub['target'] 값을 문자열 레이블로 변환\n",
    "df_sub['target'] = df_sub['target'].apply(lambda x: 'AbNormal' if x == 1 else 'Normal')\n",
    "\n",
    "# 제출 파일 저장\n",
    "df_sub.to_csv(\"submission.csv\", index=False)"
   ]
  },
  {
   "cell_type": "code",
   "execution_count": 461,
   "id": "676ad00b",
   "metadata": {},
   "outputs": [
    {
     "data": {
      "text/plain": [
       "Normal      8974\n",
       "AbNormal    8387\n",
       "Name: target, dtype: int64"
      ]
     },
     "execution_count": 461,
     "metadata": {},
     "output_type": "execute_result"
    }
   ],
   "source": [
    "df_sub['target'].value_counts()"
   ]
  },
  {
   "cell_type": "code",
   "execution_count": 462,
   "id": "118326f4",
   "metadata": {},
   "outputs": [
    {
     "data": {
      "text/html": [
       "<div>\n",
       "<style scoped>\n",
       "    .dataframe tbody tr th:only-of-type {\n",
       "        vertical-align: middle;\n",
       "    }\n",
       "\n",
       "    .dataframe tbody tr th {\n",
       "        vertical-align: top;\n",
       "    }\n",
       "\n",
       "    .dataframe thead th {\n",
       "        text-align: right;\n",
       "    }\n",
       "</style>\n",
       "<table border=\"1\" class=\"dataframe\">\n",
       "  <thead>\n",
       "    <tr style=\"text-align: right;\">\n",
       "      <th></th>\n",
       "      <th>Set ID</th>\n",
       "      <th>target</th>\n",
       "    </tr>\n",
       "  </thead>\n",
       "  <tbody>\n",
       "    <tr>\n",
       "      <th>0</th>\n",
       "      <td>0001be084fbc4aaa9d921f39e595961b</td>\n",
       "      <td>Normal</td>\n",
       "    </tr>\n",
       "    <tr>\n",
       "      <th>1</th>\n",
       "      <td>0005bbd180064abd99e63f9ed3e1ac80</td>\n",
       "      <td>AbNormal</td>\n",
       "    </tr>\n",
       "    <tr>\n",
       "      <th>2</th>\n",
       "      <td>000948934c4140d883d670adcb609584</td>\n",
       "      <td>Normal</td>\n",
       "    </tr>\n",
       "    <tr>\n",
       "      <th>3</th>\n",
       "      <td>000a6bfd02874c6296dc7b2e9c5678a7</td>\n",
       "      <td>Normal</td>\n",
       "    </tr>\n",
       "    <tr>\n",
       "      <th>4</th>\n",
       "      <td>0018e78ce91343678716e2ea27a51c95</td>\n",
       "      <td>AbNormal</td>\n",
       "    </tr>\n",
       "    <tr>\n",
       "      <th>5</th>\n",
       "      <td>001fda4596f545d0a3b0ce85fbea77d2</td>\n",
       "      <td>AbNormal</td>\n",
       "    </tr>\n",
       "    <tr>\n",
       "      <th>6</th>\n",
       "      <td>0020734a7b29472298358ad58645a0c9</td>\n",
       "      <td>AbNormal</td>\n",
       "    </tr>\n",
       "    <tr>\n",
       "      <th>7</th>\n",
       "      <td>00234c5914cd4c4a888d13f8b3773135</td>\n",
       "      <td>AbNormal</td>\n",
       "    </tr>\n",
       "    <tr>\n",
       "      <th>8</th>\n",
       "      <td>00297b6c93e44d49ac534758a23dc74e</td>\n",
       "      <td>AbNormal</td>\n",
       "    </tr>\n",
       "    <tr>\n",
       "      <th>9</th>\n",
       "      <td>002d904240d84b188d410d16383a9c3a</td>\n",
       "      <td>Normal</td>\n",
       "    </tr>\n",
       "  </tbody>\n",
       "</table>\n",
       "</div>"
      ],
      "text/plain": [
       "                             Set ID    target\n",
       "0  0001be084fbc4aaa9d921f39e595961b    Normal\n",
       "1  0005bbd180064abd99e63f9ed3e1ac80  AbNormal\n",
       "2  000948934c4140d883d670adcb609584    Normal\n",
       "3  000a6bfd02874c6296dc7b2e9c5678a7    Normal\n",
       "4  0018e78ce91343678716e2ea27a51c95  AbNormal\n",
       "5  001fda4596f545d0a3b0ce85fbea77d2  AbNormal\n",
       "6  0020734a7b29472298358ad58645a0c9  AbNormal\n",
       "7  00234c5914cd4c4a888d13f8b3773135  AbNormal\n",
       "8  00297b6c93e44d49ac534758a23dc74e  AbNormal\n",
       "9  002d904240d84b188d410d16383a9c3a    Normal"
      ]
     },
     "execution_count": 462,
     "metadata": {},
     "output_type": "execute_result"
    }
   ],
   "source": [
    "df_sub.head(10)"
   ]
  },
  {
   "cell_type": "markdown",
   "id": "cf2f37ed",
   "metadata": {},
   "source": [
    "**우측 상단의 제출 버튼을 클릭해 결과를 확인하세요**\n"
   ]
  }
 ],
 "metadata": {
  "kernelspec": {
   "display_name": "Python 3 (ipykernel)",
   "language": "python",
   "name": "python3"
  },
  "language_info": {
   "codemirror_mode": {
    "name": "ipython",
    "version": 3
   },
   "file_extension": ".py",
   "mimetype": "text/x-python",
   "name": "python",
   "nbconvert_exporter": "python",
   "pygments_lexer": "ipython3",
   "version": "3.7.8"
  }
 },
 "nbformat": 4,
 "nbformat_minor": 5
}

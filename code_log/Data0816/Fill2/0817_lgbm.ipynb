{
 "cells": [
  {
   "cell_type": "markdown",
   "id": "017e9265",
   "metadata": {},
   "source": [
    "# 제품 이상여부 판별 프로젝트\n"
   ]
  },
  {
   "cell_type": "markdown",
   "id": "4d054e30",
   "metadata": {},
   "source": [
    "### 데이터 읽어오기\n"
   ]
  },
  {
   "cell_type": "code",
   "execution_count": 6,
   "id": "fc0b4d80",
   "metadata": {},
   "outputs": [],
   "source": [
    "import pandas as pd\n",
    "\n",
    "RANDOM_STATE = 110\n",
    "\n",
    "train_data = pd.read_csv(\"../../../data/train_data_0816.csv\")\n",
    "test_data = pd.read_csv(\"../../../data/test_data_0816.csv\")"
   ]
  },
  {
   "cell_type": "code",
   "execution_count": 7,
   "id": "84efc2b4",
   "metadata": {},
   "outputs": [],
   "source": [
    "# 공통 변수 리스트\n",
    "com_variables_train = [\n",
    "    'target', 'Model.Suffix', 'Workorder', 'WorkMode Collect Result'\n",
    "    , 'Dispenser_1', 'Dispenser_2', 'Receip_No_Collect_Result'\n",
    "    , 'Production_Qty_Collect_Result', 'Judge_Value_OK'\n",
    "    , 'Workorder_0.9', 'Workorder_0.6'\n",
    "]\n",
    "\n",
    "com_variables_test = [\n",
    "    'target', 'Set ID', 'Model.Suffix', 'Workorder'\n",
    "    , 'WorkMode Collect Result', 'Dispenser_1'\n",
    "    , 'Dispenser_2', 'Receip_No_Collect_Result'\n",
    "    , 'Production_Qty_Collect_Result', 'Judge_Value_OK'\n",
    "    , 'Workorder_0.9', 'Workorder_0.6'\n",
    "]"
   ]
  },
  {
   "cell_type": "code",
   "execution_count": 8,
   "id": "7d32b6fc",
   "metadata": {},
   "outputs": [],
   "source": [
    "# 공정 이름 필터링 후 공통 변수와 결합\n",
    "def create_dataset(train_data, test_data, process_name, com_variables_train, com_variables_test):\n",
    "    # 열 이름 필터링\n",
    "    Process_Desc_col = train_data.filter(like=process_name).columns\n",
    "    \n",
    "    # train 데이터셋 생성\n",
    "    final_columns_train = list(Process_Desc_col) + com_variables_train\n",
    "    train_dataset = train_data[final_columns_train]\n",
    "    \n",
    "    # test 데이터셋 생성\n",
    "    final_columns_test = list(Process_Desc_col) + com_variables_test\n",
    "    test_dataset = test_data[final_columns_test]\n",
    "    \n",
    "    return train_dataset, test_dataset\n",
    "\n",
    "# 공통 변수 정의\n",
    "## com_variables_train = [...]  -> 이전 코드에서 정의한 변수 사용\n",
    "## com_variables_test = [...]   -> 이전 코드에서 정의한 변수 사용\n",
    "\n",
    "# 데이터셋 생성\n",
    "train_data_dam, test_data_dam = create_dataset(train_data, test_data, '_Dam', com_variables_train, com_variables_test)\n",
    "train_data_fill1, test_data_fill1 = create_dataset(train_data, test_data, '_Fill1', com_variables_train, com_variables_test)\n",
    "train_data_fill2, test_data_fill2 = create_dataset(train_data, test_data, '_Fill2', com_variables_train, com_variables_test)\n",
    "train_data_autoclave, test_data_autoclave = create_dataset(train_data, test_data, '_AutoClave', com_variables_train, com_variables_test)"
   ]
  },
  {
   "cell_type": "markdown",
   "id": "ec45a10a",
   "metadata": {},
   "source": [
    "---"
   ]
  },
  {
   "cell_type": "markdown",
   "id": "5c4e5b59",
   "metadata": {},
   "source": [
    "## Optuna"
   ]
  },
  {
   "cell_type": "markdown",
   "id": "058f4f86",
   "metadata": {},
   "source": [
    "스레스홀드 0.3으로 맞춘상태에서 튜닝 진행한 것"
   ]
  },
  {
   "cell_type": "code",
   "execution_count": 9,
   "id": "8ec04f21",
   "metadata": {},
   "outputs": [
    {
     "name": "stderr",
     "output_type": "stream",
     "text": [
      "C:\\Users\\juneh\\AppData\\Roaming\\Python\\Python37\\site-packages\\ipykernel_launcher.py:7: SettingWithCopyWarning: \n",
      "A value is trying to be set on a copy of a slice from a DataFrame.\n",
      "Try using .loc[row_indexer,col_indexer] = value instead\n",
      "\n",
      "See the caveats in the documentation: https://pandas.pydata.org/pandas-docs/stable/user_guide/indexing.html#returning-a-view-versus-a-copy\n",
      "  import sys\n",
      "[I 2024-08-17 17:17:39,085] A new study created in memory with name: no-name-aed10b71-498f-4b7e-85cc-35cf9219929c\n"
     ]
    },
    {
     "name": "stderr",
     "output_type": "stream",
     "text": [
      "[I 2024-08-17 17:17:55,017] Trial 0 finished with value: 0.21716287215411556 and parameters: {'n_estimators': 790, 'num_leaves': 2146, 'max_depth': 119, 'learning_rate': 0.06166547557397882, 'min_child_samples': 205}. Best is trial 0 with value: 0.21716287215411556.\n",
      "[I 2024-08-17 17:23:25,047] Trial 1 finished with value: 0.2105263157894737 and parameters: {'n_estimators': 2206, 'num_leaves': 2888, 'max_depth': 195, 'learning_rate': 0.05178141716690417, 'min_child_samples': 28}. Best is trial 0 with value: 0.21716287215411556.\n",
      "[I 2024-08-17 17:24:32,621] Trial 2 finished with value: 0.2010178117048346 and parameters: {'n_estimators': 1469, 'num_leaves': 1226, 'max_depth': 49, 'learning_rate': 0.002000452888170992, 'min_child_samples': 126}. Best is trial 0 with value: 0.21716287215411556.\n",
      "[I 2024-08-17 17:26:02,694] Trial 3 finished with value: 0.1971326164874552 and parameters: {'n_estimators': 1731, 'num_leaves': 553, 'max_depth': 172, 'learning_rate': 0.008684052021612865, 'min_child_samples': 124}. Best is trial 0 with value: 0.21716287215411556.\n",
      "[I 2024-08-17 17:27:29,720] Trial 4 finished with value: 0.21758569299552907 and parameters: {'n_estimators': 1285, 'num_leaves': 2427, 'max_depth': 184, 'learning_rate': 0.042318458794414655, 'min_child_samples': 102}. Best is trial 4 with value: 0.21758569299552907.\n",
      "[I 2024-08-17 17:27:59,902] Trial 5 finished with value: 0.21895424836601304 and parameters: {'n_estimators': 562, 'num_leaves': 723, 'max_depth': 258, 'learning_rate': 0.04962001162483311, 'min_child_samples': 77}. Best is trial 5 with value: 0.21895424836601304.\n",
      "[I 2024-08-17 17:32:32,795] Trial 6 finished with value: 0.21104294478527608 and parameters: {'n_estimators': 2403, 'num_leaves': 1851, 'max_depth': 122, 'learning_rate': 0.06476333477413102, 'min_child_samples': 54}. Best is trial 5 with value: 0.21895424836601304.\n",
      "[I 2024-08-17 17:34:53,522] Trial 7 finished with value: 0.23076923076923078 and parameters: {'n_estimators': 2273, 'num_leaves': 600, 'max_depth': 184, 'learning_rate': 0.02113127234039541, 'min_child_samples': 77}. Best is trial 7 with value: 0.23076923076923078.\n",
      "[I 2024-08-17 17:37:04,858] Trial 8 finished with value: 0.21445783132530122 and parameters: {'n_estimators': 1498, 'num_leaves': 2285, 'max_depth': 240, 'learning_rate': 0.08959229338857824, 'min_child_samples': 68}. Best is trial 7 with value: 0.23076923076923078.\n",
      "[I 2024-08-17 17:37:20,269] Trial 9 finished with value: 0.1988950276243094 and parameters: {'n_estimators': 532, 'num_leaves': 2402, 'max_depth': 63, 'learning_rate': 0.0795619223737381, 'min_child_samples': 286}. Best is trial 7 with value: 0.23076923076923078.\n",
      "[I 2024-08-17 17:39:25,601] Trial 10 finished with value: 0.2182410423452769 and parameters: {'n_estimators': 2772, 'num_leaves': 1104, 'max_depth': 283, 'learning_rate': 0.02332446972327835, 'min_child_samples': 190}. Best is trial 7 with value: 0.23076923076923078.\n",
      "[I 2024-08-17 17:41:46,415] Trial 11 finished with value: 0.2233902759526938 and parameters: {'n_estimators': 2056, 'num_leaves': 540, 'max_depth': 300, 'learning_rate': 0.027991884018585, 'min_child_samples': 8}. Best is trial 7 with value: 0.23076923076923078.\n",
      "[I 2024-08-17 17:45:59,575] Trial 12 finished with value: 0.2207446808510638 and parameters: {'n_estimators': 2112, 'num_leaves': 1090, 'max_depth': 225, 'learning_rate': 0.027360646572396674, 'min_child_samples': 3}. Best is trial 7 with value: 0.23076923076923078.\n",
      "[I 2024-08-17 17:51:51,744] Trial 13 finished with value: 0.2174496644295302 and parameters: {'n_estimators': 2922, 'num_leaves': 847, 'max_depth': 286, 'learning_rate': 0.02497658602879481, 'min_child_samples': 5}. Best is trial 7 with value: 0.23076923076923078.\n",
      "[I 2024-08-17 17:54:14,972] Trial 14 finished with value: 0.21802325581395346 and parameters: {'n_estimators': 2512, 'num_leaves': 1455, 'max_depth': 13, 'learning_rate': 0.031850832346412256, 'min_child_samples': 46}. Best is trial 7 with value: 0.23076923076923078.\n",
      "[I 2024-08-17 17:55:59,313] Trial 15 finished with value: 0.20540540540540542 and parameters: {'n_estimators': 2036, 'num_leaves': 1534, 'max_depth': 118, 'learning_rate': 0.014709530340252495, 'min_child_samples': 178}. Best is trial 7 with value: 0.23076923076923078.\n",
      "[I 2024-08-17 17:57:38,301] Trial 16 finished with value: 0.22415940224159403 and parameters: {'n_estimators': 1901, 'num_leaves': 576, 'max_depth': 209, 'learning_rate': 0.040382523512900094, 'min_child_samples': 81}. Best is trial 7 with value: 0.23076923076923078.\n",
      "[I 2024-08-17 17:58:37,175] Trial 17 finished with value: 0.2239031770045386 and parameters: {'n_estimators': 1767, 'num_leaves': 982, 'max_depth': 211, 'learning_rate': 0.03913970388910039, 'min_child_samples': 149}. Best is trial 7 with value: 0.23076923076923078.\n",
      "[I 2024-08-17 17:59:51,561] Trial 18 finished with value: 0.20577617328519857 and parameters: {'n_estimators': 2635, 'num_leaves': 1409, 'max_depth': 151, 'learning_rate': 0.014427166490355855, 'min_child_samples': 242}. Best is trial 7 with value: 0.23076923076923078.\n",
      "[I 2024-08-17 18:00:35,345] Trial 19 finished with value: 0.23218997361477572 and parameters: {'n_estimators': 1113, 'num_leaves': 1776, 'max_depth': 144, 'learning_rate': 0.06431806027897036, 'min_child_samples': 89}. Best is trial 19 with value: 0.23218997361477572.\n",
      "[I 2024-08-17 18:01:22,399] Trial 20 finished with value: 0.22546419098143236 and parameters: {'n_estimators': 1141, 'num_leaves': 1994, 'max_depth': 142, 'learning_rate': 0.07541728994756805, 'min_child_samples': 106}. Best is trial 19 with value: 0.23218997361477572.\n",
      "[I 2024-08-17 18:02:01,503] Trial 21 finished with value: 0.22128851540616246 and parameters: {'n_estimators': 998, 'num_leaves': 1826, 'max_depth': 149, 'learning_rate': 0.07074210912382185, 'min_child_samples': 106}. Best is trial 19 with value: 0.23218997361477572.\n",
      "[I 2024-08-17 18:02:39,754] Trial 22 finished with value: 0.2369534555712271 and parameters: {'n_estimators': 1102, 'num_leaves': 2025, 'max_depth': 94, 'learning_rate': 0.08829232884834484, 'min_child_samples': 151}. Best is trial 22 with value: 0.2369534555712271.\n",
      "[I 2024-08-17 18:03:05,381] Trial 23 finished with value: 0.23076923076923078 and parameters: {'n_estimators': 829, 'num_leaves': 2764, 'max_depth': 93, 'learning_rate': 0.09889978753054957, 'min_child_samples': 156}. Best is trial 22 with value: 0.2369534555712271.\n",
      "[I 2024-08-17 18:04:00,912] Trial 24 finished with value: 0.22550335570469798 and parameters: {'n_estimators': 1428, 'num_leaves': 1656, 'max_depth': 87, 'learning_rate': 0.08546298165437391, 'min_child_samples': 149}. Best is trial 22 with value: 0.2369534555712271.\n",
      "[I 2024-08-17 18:04:46,970] Trial 25 finished with value: 0.218091697645601 and parameters: {'n_estimators': 1052, 'num_leaves': 2134, 'max_depth': 168, 'learning_rate': 0.09968861516376339, 'min_child_samples': 89}. Best is trial 22 with value: 0.2369534555712271.\n",
      "[I 2024-08-17 18:05:44,277] Trial 26 finished with value: 0.22009569377990432 and parameters: {'n_estimators': 1638, 'num_leaves': 2590, 'max_depth': 91, 'learning_rate': 0.05701683202042769, 'min_child_samples': 236}. Best is trial 22 with value: 0.2369534555712271.\n",
      "[I 2024-08-17 18:07:26,580] Trial 27 finished with value: 0.22301304863582444 and parameters: {'n_estimators': 2309, 'num_leaves': 1685, 'max_depth': 51, 'learning_rate': 0.09040396611192744, 'min_child_samples': 128}. Best is trial 22 with value: 0.2369534555712271.\n",
      "[I 2024-08-17 18:08:05,060] Trial 28 finished with value: 0.22788605697151423 and parameters: {'n_estimators': 1214, 'num_leaves': 1306, 'max_depth': 135, 'learning_rate': 0.07038472709198697, 'min_child_samples': 170}. Best is trial 22 with value: 0.2369534555712271.\n",
      "[I 2024-08-17 18:08:25,195] Trial 29 finished with value: 0.2167832167832168 and parameters: {'n_estimators': 830, 'num_leaves': 2026, 'max_depth': 112, 'learning_rate': 0.06348722404495874, 'min_child_samples': 211}. Best is trial 22 with value: 0.2369534555712271.\n",
      "[I 2024-08-17 18:09:19,826] Trial 30 finished with value: 0.2236180904522613 and parameters: {'n_estimators': 948, 'num_leaves': 1910, 'max_depth': 73, 'learning_rate': 0.08228762285190933, 'min_child_samples': 38}. Best is trial 22 with value: 0.2369534555712271.\n",
      "[I 2024-08-17 18:09:44,647] Trial 31 finished with value: 0.22907488986784139 and parameters: {'n_estimators': 805, 'num_leaves': 2987, 'max_depth': 103, 'learning_rate': 0.09337166983720102, 'min_child_samples': 143}. Best is trial 22 with value: 0.2369534555712271.\n",
      "[I 2024-08-17 18:10:00,738] Trial 32 finished with value: 0.22184873949579828 and parameters: {'n_estimators': 667, 'num_leaves': 2750, 'max_depth': 168, 'learning_rate': 0.09901370319370974, 'min_child_samples': 211}. Best is trial 22 with value: 0.2369534555712271.\n",
      "[I 2024-08-17 18:10:36,081] Trial 33 finished with value: 0.22410865874363325 and parameters: {'n_estimators': 1308, 'num_leaves': 2659, 'max_depth': 17, 'learning_rate': 0.05496314318652338, 'min_child_samples': 171}. Best is trial 22 with value: 0.2369534555712271.\n",
      "[I 2024-08-17 18:10:55,831] Trial 34 finished with value: 0.22468354430379744 and parameters: {'n_estimators': 721, 'num_leaves': 2183, 'max_depth': 35, 'learning_rate': 0.07677992571087072, 'min_child_samples': 128}. Best is trial 22 with value: 0.2369534555712271.\n",
      "[I 2024-08-17 18:11:41,308] Trial 35 finished with value: 0.2271062271062271 and parameters: {'n_estimators': 940, 'num_leaves': 2840, 'max_depth': 190, 'learning_rate': 0.09527071840663495, 'min_child_samples': 60}. Best is trial 22 with value: 0.2369534555712271.\n",
      "[I 2024-08-17 18:12:46,582] Trial 36 finished with value: 0.22655298416565164 and parameters: {'n_estimators': 1400, 'num_leaves': 2484, 'max_depth': 130, 'learning_rate': 0.08346692705357066, 'min_child_samples': 94}. Best is trial 22 with value: 0.2369534555712271.\n",
      "[I 2024-08-17 18:14:09,984] Trial 37 finished with value: 0.22027534418022526 and parameters: {'n_estimators': 1603, 'num_leaves': 1602, 'max_depth': 94, 'learning_rate': 0.06992206316152484, 'min_child_samples': 114}. Best is trial 22 with value: 0.2369534555712271.\n",
      "[I 2024-08-17 18:15:08,683] Trial 38 finished with value: 0.23603793466807166 and parameters: {'n_estimators': 1137, 'num_leaves': 2324, 'max_depth': 67, 'learning_rate': 0.0026556413907450095, 'min_child_samples': 28}. Best is trial 22 with value: 0.2369534555712271.\n",
      "[I 2024-08-17 18:16:15,910] Trial 39 finished with value: 0.14463276836158193 and parameters: {'n_estimators': 1132, 'num_leaves': 2279, 'max_depth': 38, 'learning_rate': 0.001345575702274593, 'min_child_samples': 39}. Best is trial 22 with value: 0.2369534555712271.\n",
      "[I 2024-08-17 18:18:09,569] Trial 40 finished with value: 0.22393822393822396 and parameters: {'n_estimators': 1890, 'num_leaves': 1788, 'max_depth': 74, 'learning_rate': 0.009374960556902123, 'min_child_samples': 22}. Best is trial 22 with value: 0.2369534555712271.\n",
      "[I 2024-08-17 18:19:01,004] Trial 41 finished with value: 0.2328042328042328 and parameters: {'n_estimators': 1283, 'num_leaves': 2082, 'max_depth': 61, 'learning_rate': 0.047025883490120074, 'min_child_samples': 71}. Best is trial 22 with value: 0.2369534555712271.\n",
      "[I 2024-08-17 18:19:44,068] Trial 42 finished with value: 0.21452145214521454 and parameters: {'n_estimators': 1283, 'num_leaves': 2022, 'max_depth': 64, 'learning_rate': 0.018150069880165737, 'min_child_samples': 73}. Best is trial 22 with value: 0.2369534555712271.\n",
      "[I 2024-08-17 18:21:13,504] Trial 43 finished with value: 0.2196969696969697 and parameters: {'n_estimators': 1565, 'num_leaves': 2271, 'max_depth': 45, 'learning_rate': 0.047065606241476474, 'min_child_samples': 30}. Best is trial 22 with value: 0.2369534555712271.\n",
      "[I 2024-08-17 18:22:06,157] Trial 44 finished with value: 0.2288021534320323 and parameters: {'n_estimators': 1356, 'num_leaves': 2110, 'max_depth': 177, 'learning_rate': 0.03430265135691065, 'min_child_samples': 63}. Best is trial 22 with value: 0.2369534555712271.\n",
      "[I 2024-08-17 18:22:58,670] Trial 45 finished with value: 0.228486646884273 and parameters: {'n_estimators': 1126, 'num_leaves': 2374, 'max_depth': 26, 'learning_rate': 0.008610120177531287, 'min_child_samples': 23}. Best is trial 22 with value: 0.2369534555712271.\n",
      "[I 2024-08-17 18:23:58,185] Trial 46 finished with value: 0.22999999999999995 and parameters: {'n_estimators': 1219, 'num_leaves': 1956, 'max_depth': 61, 'learning_rate': 0.05761363701812734, 'min_child_samples': 48}. Best is trial 22 with value: 0.2369534555712271.\n",
      "[I 2024-08-17 18:24:29,253] Trial 47 finished with value: 0.22320117474302495 and parameters: {'n_estimators': 913, 'num_leaves': 2531, 'max_depth': 107, 'learning_rate': 0.04830147558838721, 'min_child_samples': 77}. Best is trial 22 with value: 0.2369534555712271.\n",
      "[I 2024-08-17 18:25:23,816] Trial 48 finished with value: 0.1925133689839572 and parameters: {'n_estimators': 1746, 'num_leaves': 1718, 'max_depth': 79, 'learning_rate': 0.005726106203658839, 'min_child_samples': 91}. Best is trial 22 with value: 0.2369534555712271.\n",
      "[I 2024-08-17 18:25:40,998] Trial 49 finished with value: 0.22144112478031636 and parameters: {'n_estimators': 601, 'num_leaves': 2177, 'max_depth': 158, 'learning_rate': 0.01936705696213984, 'min_child_samples': 55}. Best is trial 22 with value: 0.2369534555712271.\n",
      "[I 2024-08-17 18:27:57,064] Trial 50 finished with value: 0.2428940568475452 and parameters: {'n_estimators': 1493, 'num_leaves': 2363, 'max_depth': 205, 'learning_rate': 0.031751557573389204, 'min_child_samples': 14}. Best is trial 50 with value: 0.2428940568475452.\n",
      "[I 2024-08-17 18:28:33,923] Trial 51 finished with value: 0.2018348623853211 and parameters: {'n_estimators': 1531, 'num_leaves': 2352, 'max_depth': 206, 'learning_rate': 0.03243401245368846, 'min_child_samples': 300}. Best is trial 50 with value: 0.2428940568475452.\n",
      "[I 2024-08-17 18:29:52,000] Trial 52 finished with value: 0.22959183673469388 and parameters: {'n_estimators': 1079, 'num_leaves': 1886, 'max_depth': 229, 'learning_rate': 0.0441424165703281, 'min_child_samples': 17}. Best is trial 50 with value: 0.2428940568475452.\n",
      "[I 2024-08-17 18:32:28,469] Trial 53 finished with value: 0.22136422136422135 and parameters: {'n_estimators': 1473, 'num_leaves': 2101, 'max_depth': 197, 'learning_rate': 0.03701639560714187, 'min_child_samples': 12}. Best is trial 50 with value: 0.2428940568475452.\n",
      "[I 2024-08-17 18:33:24,865] Trial 54 finished with value: 0.23004059539918809 and parameters: {'n_estimators': 1196, 'num_leaves': 842, 'max_depth': 224, 'learning_rate': 0.02317378263128567, 'min_child_samples': 40}. Best is trial 50 with value: 0.2428940568475452.\n",
      "[I 2024-08-17 18:34:25,999] Trial 55 finished with value: 0.2188449848024316 and parameters: {'n_estimators': 1852, 'num_leaves': 2253, 'max_depth': 123, 'learning_rate': 0.02863418551731436, 'min_child_samples': 115}. Best is trial 50 with value: 0.2428940568475452.\n",
      "[I 2024-08-17 18:35:22,430] Trial 56 finished with value: 0.22580645161290322 and parameters: {'n_estimators': 1287, 'num_leaves': 2465, 'max_depth': 249, 'learning_rate': 0.05152350722934075, 'min_child_samples': 65}. Best is trial 50 with value: 0.2428940568475452.\n",
      "[I 2024-08-17 18:36:34,398] Trial 57 finished with value: 0.22222222222222224 and parameters: {'n_estimators': 2185, 'num_leaves': 1526, 'max_depth': 183, 'learning_rate': 0.013152030249461016, 'min_child_samples': 85}. Best is trial 50 with value: 0.2428940568475452.\n",
      "[I 2024-08-17 18:38:14,816] Trial 58 finished with value: 0.22474747474747475 and parameters: {'n_estimators': 1654, 'num_leaves': 1191, 'max_depth': 159, 'learning_rate': 0.04408077675903972, 'min_child_samples': 30}. Best is trial 50 with value: 0.2428940568475452.\n",
      "[I 2024-08-17 18:40:03,258] Trial 59 finished with value: 0.2186335403726708 and parameters: {'n_estimators': 2460, 'num_leaves': 1784, 'max_depth': 60, 'learning_rate': 0.020705809660674642, 'min_child_samples': 51}. Best is trial 50 with value: 0.2428940568475452.\n",
      "[I 2024-08-17 18:43:51,036] Trial 60 finished with value: 0.21718377088305488 and parameters: {'n_estimators': 2616, 'num_leaves': 2612, 'max_depth': 264, 'learning_rate': 0.005396342344140737, 'min_child_samples': 4}. Best is trial 50 with value: 0.2428940568475452.\n",
      "[I 2024-08-17 18:44:23,759] Trial 61 finished with value: 0.218077474892396 and parameters: {'n_estimators': 989, 'num_leaves': 2779, 'max_depth': 96, 'learning_rate': 0.08740772205820536, 'min_child_samples': 138}. Best is trial 50 with value: 0.2428940568475452.\n",
      "[I 2024-08-17 18:44:48,618] Trial 62 finished with value: 0.2318840579710145 and parameters: {'n_estimators': 884, 'num_leaves': 2047, 'max_depth': 82, 'learning_rate': 0.09633985147977152, 'min_child_samples': 192}. Best is trial 50 with value: 0.2428940568475452.\n",
      "[I 2024-08-17 18:45:15,999] Trial 63 finished with value: 0.22184300341296928 and parameters: {'n_estimators': 1029, 'num_leaves': 2045, 'max_depth': 51, 'learning_rate': 0.060110623773311625, 'min_child_samples': 200}. Best is trial 50 with value: 0.2428940568475452.\n",
      "[I 2024-08-17 18:45:58,957] Trial 64 finished with value: 0.2235294117647059 and parameters: {'n_estimators': 1375, 'num_leaves': 1954, 'max_depth': 86, 'learning_rate': 0.09251953359873338, 'min_child_samples': 224}. Best is trial 50 with value: 0.2428940568475452.\n",
      "[I 2024-08-17 18:46:19,533] Trial 65 finished with value: 0.19708029197080293 and parameters: {'n_estimators': 888, 'num_leaves': 1857, 'max_depth': 79, 'learning_rate': 0.025879065026817513, 'min_child_samples': 181}. Best is trial 50 with value: 0.2428940568475452.\n",
      "[I 2024-08-17 18:48:45,799] Trial 66 finished with value: 0.22405660377358494 and parameters: {'n_estimators': 2904, 'num_leaves': 2198, 'max_depth': 195, 'learning_rate': 0.06599512086900342, 'min_child_samples': 99}. Best is trial 50 with value: 0.2428940568475452.\n",
      "[I 2024-08-17 18:49:05,269] Trial 67 finished with value: 0.22077922077922077 and parameters: {'n_estimators': 754, 'num_leaves': 2370, 'max_depth': 140, 'learning_rate': 0.0794519635760942, 'min_child_samples': 162}. Best is trial 50 with value: 0.2428940568475452.\n",
      "[I 2024-08-17 18:49:31,080] Trial 68 finished with value: 0.20220588235294118 and parameters: {'n_estimators': 1166, 'num_leaves': 2080, 'max_depth': 216, 'learning_rate': 0.03627397946755509, 'min_child_samples': 257}. Best is trial 50 with value: 0.2428940568475452.\n",
      "[I 2024-08-17 18:49:59,738] Trial 69 finished with value: 0.21731748726655348 and parameters: {'n_estimators': 1084, 'num_leaves': 727, 'max_depth': 117, 'learning_rate': 0.05389554752983434, 'min_child_samples': 195}. Best is trial 50 with value: 0.2428940568475452.\n",
      "[I 2024-08-17 18:50:38,900] Trial 70 finished with value: 0.21296296296296297 and parameters: {'n_estimators': 1240, 'num_leaves': 1378, 'max_depth': 69, 'learning_rate': 0.04036932082563453, 'min_child_samples': 116}. Best is trial 50 with value: 0.2428940568475452.\n",
      "[I 2024-08-17 18:51:03,902] Trial 71 finished with value: 0.23458646616541354 and parameters: {'n_estimators': 845, 'num_leaves': 2912, 'max_depth': 101, 'learning_rate': 0.09764402670619589, 'min_child_samples': 158}. Best is trial 50 with value: 0.2428940568475452.\n",
      "[I 2024-08-17 18:51:18,445] Trial 72 finished with value: 0.22950819672131148 and parameters: {'n_estimators': 638, 'num_leaves': 2927, 'max_depth': 102, 'learning_rate': 0.09681195005359461, 'min_child_samples': 188}. Best is trial 50 with value: 0.2428940568475452.\n",
      "[I 2024-08-17 18:51:44,392] Trial 73 finished with value: 0.21745788667687596 and parameters: {'n_estimators': 869, 'num_leaves': 1926, 'max_depth': 83, 'learning_rate': 0.09308693259561596, 'min_child_samples': 165}. Best is trial 50 with value: 0.2428940568475452.\n",
      "[I 2024-08-17 18:52:04,231] Trial 74 finished with value: 0.22188449848024316 and parameters: {'n_estimators': 714, 'num_leaves': 2324, 'max_depth': 55, 'learning_rate': 0.095697557726976, 'min_child_samples': 149}. Best is trial 50 with value: 0.2428940568475452.\n",
      "[I 2024-08-17 18:52:26,065] Trial 75 finished with value: 0.19529837251356238 and parameters: {'n_estimators': 987, 'num_leaves': 2215, 'max_depth': 126, 'learning_rate': 0.029045271063130637, 'min_child_samples': 222}. Best is trial 50 with value: 0.2428940568475452.\n",
      "[I 2024-08-17 18:52:38,579] Trial 76 finished with value: 0.2122719734660033 and parameters: {'n_estimators': 523, 'num_leaves': 2430, 'max_depth': 69, 'learning_rate': 0.09000789950903947, 'min_child_samples': 133}. Best is trial 50 with value: 0.2428940568475452.\n",
      "[I 2024-08-17 18:53:47,837] Trial 77 finished with value: 0.22413793103448276 and parameters: {'n_estimators': 1429, 'num_leaves': 2663, 'max_depth': 42, 'learning_rate': 0.08673480931832366, 'min_child_samples': 75}. Best is trial 50 with value: 0.2428940568475452.\n",
      "[I 2024-08-17 18:54:27,413] Trial 78 finished with value: 0.22371967654986522 and parameters: {'n_estimators': 1067, 'num_leaves': 1651, 'max_depth': 111, 'learning_rate': 0.07354044256153129, 'min_child_samples': 102}. Best is trial 50 with value: 0.2428940568475452.\n",
      "[I 2024-08-17 18:55:23,350] Trial 79 finished with value: 0.23154848046309698 and parameters: {'n_estimators': 1326, 'num_leaves': 1802, 'max_depth': 170, 'learning_rate': 0.01656082626103205, 'min_child_samples': 41}. Best is trial 50 with value: 0.2428940568475452.\n",
      "[I 2024-08-17 18:56:20,906] Trial 80 finished with value: 0.2471264367816092 and parameters: {'n_estimators': 1256, 'num_leaves': 1732, 'max_depth': 145, 'learning_rate': 0.011993452917859849, 'min_child_samples': 32}. Best is trial 80 with value: 0.2471264367816092.\n",
      "[I 2024-08-17 18:57:12,840] Trial 81 finished with value: 0.23583460949464014 and parameters: {'n_estimators': 1130, 'num_leaves': 1853, 'max_depth': 145, 'learning_rate': 0.012736055490473953, 'min_child_samples': 34}. Best is trial 80 with value: 0.2471264367816092.\n",
      "[I 2024-08-17 18:58:25,889] Trial 82 finished with value: 0.23664122137404578 and parameters: {'n_estimators': 1135, 'num_leaves': 1544, 'max_depth': 133, 'learning_rate': 0.00509435915710957, 'min_child_samples': 14}. Best is trial 80 with value: 0.2471264367816092.\n",
      "[I 2024-08-17 18:59:39,704] Trial 83 finished with value: 0.22388059701492538 and parameters: {'n_estimators': 1237, 'num_leaves': 1557, 'max_depth': 148, 'learning_rate': 0.011137653324354815, 'min_child_samples': 13}. Best is trial 80 with value: 0.2471264367816092.\n",
      "[I 2024-08-17 19:00:27,744] Trial 84 finished with value: 0.23718887262079064 and parameters: {'n_estimators': 1119, 'num_leaves': 1731, 'max_depth': 134, 'learning_rate': 0.005455708436214998, 'min_child_samples': 25}. Best is trial 80 with value: 0.2471264367816092.\n",
      "[I 2024-08-17 19:01:26,700] Trial 85 finished with value: 0.23462088698140202 and parameters: {'n_estimators': 1158, 'num_leaves': 1486, 'max_depth': 137, 'learning_rate': 0.004268435668055814, 'min_child_samples': 26}. Best is trial 80 with value: 0.2471264367816092.\n",
      "[I 2024-08-17 19:02:18,541] Trial 86 finished with value: 0.23579545454545453 and parameters: {'n_estimators': 1166, 'num_leaves': 1443, 'max_depth': 132, 'learning_rate': 0.004719555996844838, 'min_child_samples': 23}. Best is trial 80 with value: 0.2471264367816092.\n",
      "[I 2024-08-17 19:03:05,268] Trial 87 finished with value: 0.2274618585298197 and parameters: {'n_estimators': 1154, 'num_leaves': 1395, 'max_depth': 133, 'learning_rate': 0.00410846696540384, 'min_child_samples': 25}. Best is trial 80 with value: 0.2471264367816092.\n",
      "[I 2024-08-17 19:04:21,368] Trial 88 finished with value: 0.2503364737550471 and parameters: {'n_estimators': 1442, 'num_leaves': 1484, 'max_depth': 138, 'learning_rate': 0.0078216911783165, 'min_child_samples': 18}. Best is trial 88 with value: 0.2503364737550471.\n",
      "[I 2024-08-17 19:05:20,649] Trial 89 finished with value: 0.2338461538461539 and parameters: {'n_estimators': 1496, 'num_leaves': 1271, 'max_depth': 161, 'learning_rate': 0.007924325373892618, 'min_child_samples': 32}. Best is trial 88 with value: 0.2503364737550471.\n",
      "[I 2024-08-17 19:06:38,146] Trial 90 finished with value: 0.2300884955752212 and parameters: {'n_estimators': 1426, 'num_leaves': 1605, 'max_depth': 150, 'learning_rate': 0.012293308049579576, 'min_child_samples': 17}. Best is trial 88 with value: 0.2503364737550471.\n",
      "[I 2024-08-17 19:07:32,717] Trial 91 finished with value: 0.24566473988439305 and parameters: {'n_estimators': 1355, 'num_leaves': 1731, 'max_depth': 138, 'learning_rate': 0.0034294052385706333, 'min_child_samples': 34}. Best is trial 88 with value: 0.2503364737550471.\n",
      "[I 2024-08-17 19:08:24,801] Trial 92 finished with value: 0.24561403508771928 and parameters: {'n_estimators': 1341, 'num_leaves': 1737, 'max_depth': 129, 'learning_rate': 0.0024150040764740303, 'min_child_samples': 35}. Best is trial 88 with value: 0.2503364737550471.\n",
      "[I 2024-08-17 19:09:44,406] Trial 93 finished with value: 0.21553398058252426 and parameters: {'n_estimators': 1348, 'num_leaves': 1733, 'max_depth': 143, 'learning_rate': 0.00265843172868648, 'min_child_samples': 10}. Best is trial 88 with value: 0.2503364737550471.\n",
      "[I 2024-08-17 19:11:00,108] Trial 94 finished with value: 0.234375 and parameters: {'n_estimators': 1574, 'num_leaves': 1651, 'max_depth': 118, 'learning_rate': 0.007873483347487194, 'min_child_samples': 34}. Best is trial 88 with value: 0.2503364737550471.\n",
      "[I 2024-08-17 19:11:43,448] Trial 95 finished with value: 0.16782372472079687 and parameters: {'n_estimators': 1252, 'num_leaves': 1695, 'max_depth': 128, 'learning_rate': 0.0013647940054477372, 'min_child_samples': 47}. Best is trial 88 with value: 0.2503364737550471.\n",
      "[I 2024-08-17 19:12:34,085] Trial 96 finished with value: 0.22259136212624586 and parameters: {'n_estimators': 1454, 'num_leaves': 1849, 'max_depth': 156, 'learning_rate': 0.010908760903415528, 'min_child_samples': 55}. Best is trial 88 with value: 0.2503364737550471.\n",
      "[I 2024-08-17 19:14:23,649] Trial 97 finished with value: 0.23284313725490197 and parameters: {'n_estimators': 1695, 'num_leaves': 1582, 'max_depth': 146, 'learning_rate': 0.015774082925905347, 'min_child_samples': 15}. Best is trial 88 with value: 0.2503364737550471.\n",
      "[I 2024-08-17 19:15:56,948] Trial 98 finished with value: 0.2140309155766944 and parameters: {'n_estimators': 1524, 'num_leaves': 1740, 'max_depth': 164, 'learning_rate': 0.007391887202865709, 'min_child_samples': 4}. Best is trial 88 with value: 0.2503364737550471.\n",
      "[I 2024-08-17 19:17:12,768] Trial 99 finished with value: 0.22448979591836737 and parameters: {'n_estimators': 1386, 'num_leaves': 1513, 'max_depth': 114, 'learning_rate': 0.013735244041646754, 'min_child_samples': 20}. Best is trial 88 with value: 0.2503364737550471.\n"
     ]
    },
    {
     "name": "stdout",
     "output_type": "stream",
     "text": [
      "Best trial: score 0.2503364737550471, \n",
      "params {'n_estimators': 1442, 'num_leaves': 1484, 'max_depth': 138, 'learning_rate': 0.0078216911783165, 'min_child_samples': 18}\n"
     ]
    }
   ],
   "source": [
    "import optuna\n",
    "from lightgbm import LGBMClassifier\n",
    "from sklearn.model_selection import train_test_split\n",
    "from sklearn.metrics import f1_score\n",
    "\n",
    "# 'Normal'과 'AbNormal'을 숫자로 변환\n",
    "train_data_fill2['target'] = train_data_fill2['target'].map({'Normal': 0, 'AbNormal': 1})\n",
    "\n",
    "# 스레드홀드 설정\n",
    "THRESHOLD = 0.3\n",
    "\n",
    "def objectiveLGBM_dart(trial, x_tr, y_tr, x_val, y_val):\n",
    "    param = {\n",
    "        'n_estimators': trial.suggest_int('n_estimators', 500, 3000),\n",
    "        'num_leaves': trial.suggest_int('num_leaves', 500, 3000),\n",
    "        'max_depth': trial.suggest_int('max_depth', 10, 300),\n",
    "        'learning_rate': trial.suggest_float('learning_rate', 0.001, 0.1),\n",
    "        'min_child_samples': trial.suggest_int('min_child_samples', 3, 300),\n",
    "        \n",
    "        'boosting_type': 'dart',  # 'boosting'를 'boosting_type'으로 수정\n",
    "        'random_state': RANDOM_STATE,\n",
    "        'verbose': -1\n",
    "    }\n",
    "       \n",
    "    model = LGBMClassifier(**param)\n",
    "    model.fit(x_tr, y_tr)\n",
    "    pred_proba = model.predict_proba(x_val)[:, 1]  # 양성 클래스 확률\n",
    "    pred = (pred_proba >= THRESHOLD).astype(int)  # 스레드홀드에 따른 예측\n",
    "    \n",
    "    score = f1_score(y_val, pred, average=\"binary\")\n",
    "    \n",
    "    return score\n",
    "\n",
    "# 데이터셋 분할\n",
    "x_train, x_val, y_train, y_val = train_test_split(\n",
    "    train_data_fill2.drop(\"target\", axis=1),\n",
    "    train_data_fill2[\"target\"],\n",
    "    test_size=0.2,\n",
    "    shuffle=True,\n",
    "    random_state=RANDOM_STATE,\n",
    ")\n",
    "\n",
    "# 하이퍼 파라미터 튜닝\n",
    "study = optuna.create_study(direction='maximize', sampler=optuna.samplers.TPESampler(seed=RANDOM_STATE))\n",
    "study.optimize(lambda trial: objectiveLGBM_dart(trial, x_train, y_train, x_val, y_val), n_trials=100)\n",
    "\n",
    "print('Best trial: score {}, \\nparams {}'.format(study.best_trial.value, study.best_trial.params))\n"
   ]
  },
  {
   "cell_type": "markdown",
   "id": "8903b963",
   "metadata": {},
   "source": [
    "Best trial: score 0.2503364737550471,   \n",
    "params {'n_estimators': 1442, 'num_leaves': 1484, 'max_depth': 138, 'learning_rate': 0.0078216911783165,  \n",
    "'min_child_samples': 18}"
   ]
  },
  {
   "cell_type": "markdown",
   "id": "34ecc88d",
   "metadata": {},
   "source": [
    "."
   ]
  }
 ],
 "metadata": {
  "kernelspec": {
   "display_name": "Python 3 (ipykernel)",
   "language": "python",
   "name": "python3"
  },
  "language_info": {
   "codemirror_mode": {
    "name": "ipython",
    "version": 3
   },
   "file_extension": ".py",
   "mimetype": "text/x-python",
   "name": "python",
   "nbconvert_exporter": "python",
   "pygments_lexer": "ipython3",
   "version": "3.7.8"
  }
 },
 "nbformat": 4,
 "nbformat_minor": 5
}

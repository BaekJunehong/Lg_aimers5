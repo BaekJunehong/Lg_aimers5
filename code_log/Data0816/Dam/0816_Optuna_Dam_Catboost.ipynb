{
  "cells": [
    {
      "cell_type": "markdown",
      "id": "017e9265",
      "metadata": {
        "id": "017e9265"
      },
      "source": [
        "# 제품 이상여부 판별 프로젝트\n"
      ]
    },
    {
      "cell_type": "markdown",
      "id": "acdab431",
      "metadata": {
        "id": "acdab431"
      },
      "source": [
        "## 1. 데이터 불러오기\n"
      ]
    },
    {
      "cell_type": "markdown",
      "id": "2b8341e8",
      "metadata": {
        "id": "2b8341e8"
      },
      "source": [
        "### 필수 라이브러리\n"
      ]
    },
    {
      "cell_type": "code",
      "execution_count": 225,
      "id": "XqW7HVpiFVKL",
      "metadata": {
        "colab": {
          "base_uri": "https://localhost:8080/"
        },
        "id": "XqW7HVpiFVKL",
        "outputId": "e44b93b1-4f16-4459-f143-e4b44c8178ce"
      },
      "outputs": [
        {
          "output_type": "stream",
          "name": "stdout",
          "text": [
            "Requirement already satisfied: optuna in /usr/local/lib/python3.10/dist-packages (3.6.1)\n",
            "Requirement already satisfied: alembic>=1.5.0 in /usr/local/lib/python3.10/dist-packages (from optuna) (1.13.2)\n",
            "Requirement already satisfied: colorlog in /usr/local/lib/python3.10/dist-packages (from optuna) (6.8.2)\n",
            "Requirement already satisfied: numpy in /usr/local/lib/python3.10/dist-packages (from optuna) (1.26.4)\n",
            "Requirement already satisfied: packaging>=20.0 in /usr/local/lib/python3.10/dist-packages (from optuna) (24.1)\n",
            "Requirement already satisfied: sqlalchemy>=1.3.0 in /usr/local/lib/python3.10/dist-packages (from optuna) (2.0.32)\n",
            "Requirement already satisfied: tqdm in /usr/local/lib/python3.10/dist-packages (from optuna) (4.66.5)\n",
            "Requirement already satisfied: PyYAML in /usr/local/lib/python3.10/dist-packages (from optuna) (6.0.2)\n",
            "Requirement already satisfied: Mako in /usr/local/lib/python3.10/dist-packages (from alembic>=1.5.0->optuna) (1.3.5)\n",
            "Requirement already satisfied: typing-extensions>=4 in /usr/local/lib/python3.10/dist-packages (from alembic>=1.5.0->optuna) (4.12.2)\n",
            "Requirement already satisfied: greenlet!=0.4.17 in /usr/local/lib/python3.10/dist-packages (from sqlalchemy>=1.3.0->optuna) (3.0.3)\n",
            "Requirement already satisfied: MarkupSafe>=0.9.2 in /usr/local/lib/python3.10/dist-packages (from Mako->alembic>=1.5.0->optuna) (2.1.5)\n",
            "Requirement already satisfied: catboost in /usr/local/lib/python3.10/dist-packages (1.2.5)\n",
            "Requirement already satisfied: graphviz in /usr/local/lib/python3.10/dist-packages (from catboost) (0.20.3)\n",
            "Requirement already satisfied: matplotlib in /usr/local/lib/python3.10/dist-packages (from catboost) (3.7.1)\n",
            "Requirement already satisfied: numpy>=1.16.0 in /usr/local/lib/python3.10/dist-packages (from catboost) (1.26.4)\n",
            "Requirement already satisfied: pandas>=0.24 in /usr/local/lib/python3.10/dist-packages (from catboost) (2.1.4)\n",
            "Requirement already satisfied: scipy in /usr/local/lib/python3.10/dist-packages (from catboost) (1.13.1)\n",
            "Requirement already satisfied: plotly in /usr/local/lib/python3.10/dist-packages (from catboost) (5.15.0)\n",
            "Requirement already satisfied: six in /usr/local/lib/python3.10/dist-packages (from catboost) (1.16.0)\n",
            "Requirement already satisfied: python-dateutil>=2.8.2 in /usr/local/lib/python3.10/dist-packages (from pandas>=0.24->catboost) (2.8.2)\n",
            "Requirement already satisfied: pytz>=2020.1 in /usr/local/lib/python3.10/dist-packages (from pandas>=0.24->catboost) (2024.1)\n",
            "Requirement already satisfied: tzdata>=2022.1 in /usr/local/lib/python3.10/dist-packages (from pandas>=0.24->catboost) (2024.1)\n",
            "Requirement already satisfied: contourpy>=1.0.1 in /usr/local/lib/python3.10/dist-packages (from matplotlib->catboost) (1.2.1)\n",
            "Requirement already satisfied: cycler>=0.10 in /usr/local/lib/python3.10/dist-packages (from matplotlib->catboost) (0.12.1)\n",
            "Requirement already satisfied: fonttools>=4.22.0 in /usr/local/lib/python3.10/dist-packages (from matplotlib->catboost) (4.53.1)\n",
            "Requirement already satisfied: kiwisolver>=1.0.1 in /usr/local/lib/python3.10/dist-packages (from matplotlib->catboost) (1.4.5)\n",
            "Requirement already satisfied: packaging>=20.0 in /usr/local/lib/python3.10/dist-packages (from matplotlib->catboost) (24.1)\n",
            "Requirement already satisfied: pillow>=6.2.0 in /usr/local/lib/python3.10/dist-packages (from matplotlib->catboost) (9.4.0)\n",
            "Requirement already satisfied: pyparsing>=2.3.1 in /usr/local/lib/python3.10/dist-packages (from matplotlib->catboost) (3.1.2)\n",
            "Requirement already satisfied: tenacity>=6.2.0 in /usr/local/lib/python3.10/dist-packages (from plotly->catboost) (9.0.0)\n",
            "Requirement already satisfied: category-encoders in /usr/local/lib/python3.10/dist-packages (2.6.3)\n",
            "Requirement already satisfied: numpy>=1.14.0 in /usr/local/lib/python3.10/dist-packages (from category-encoders) (1.26.4)\n",
            "Requirement already satisfied: scikit-learn>=0.20.0 in /usr/local/lib/python3.10/dist-packages (from category-encoders) (1.3.2)\n",
            "Requirement already satisfied: scipy>=1.0.0 in /usr/local/lib/python3.10/dist-packages (from category-encoders) (1.13.1)\n",
            "Requirement already satisfied: statsmodels>=0.9.0 in /usr/local/lib/python3.10/dist-packages (from category-encoders) (0.14.2)\n",
            "Requirement already satisfied: pandas>=1.0.5 in /usr/local/lib/python3.10/dist-packages (from category-encoders) (2.1.4)\n",
            "Requirement already satisfied: patsy>=0.5.1 in /usr/local/lib/python3.10/dist-packages (from category-encoders) (0.5.6)\n",
            "Requirement already satisfied: python-dateutil>=2.8.2 in /usr/local/lib/python3.10/dist-packages (from pandas>=1.0.5->category-encoders) (2.8.2)\n",
            "Requirement already satisfied: pytz>=2020.1 in /usr/local/lib/python3.10/dist-packages (from pandas>=1.0.5->category-encoders) (2024.1)\n",
            "Requirement already satisfied: tzdata>=2022.1 in /usr/local/lib/python3.10/dist-packages (from pandas>=1.0.5->category-encoders) (2024.1)\n",
            "Requirement already satisfied: six in /usr/local/lib/python3.10/dist-packages (from patsy>=0.5.1->category-encoders) (1.16.0)\n",
            "Requirement already satisfied: joblib>=1.1.1 in /usr/local/lib/python3.10/dist-packages (from scikit-learn>=0.20.0->category-encoders) (1.4.2)\n",
            "Requirement already satisfied: threadpoolctl>=2.0.0 in /usr/local/lib/python3.10/dist-packages (from scikit-learn>=0.20.0->category-encoders) (3.5.0)\n",
            "Requirement already satisfied: packaging>=21.3 in /usr/local/lib/python3.10/dist-packages (from statsmodels>=0.9.0->category-encoders) (24.1)\n"
          ]
        }
      ],
      "source": [
        "!pip install optuna\n",
        "!pip install catboost\n",
        "!pip install category-encoders"
      ]
    },
    {
      "cell_type": "code",
      "execution_count": 226,
      "id": "a315cc58",
      "metadata": {
        "id": "a315cc58"
      },
      "outputs": [],
      "source": [
        "import os\n",
        "from pprint import pprint\n",
        "\n",
        "import optuna\n",
        "import numpy as np\n",
        "import pandas as pd\n",
        "import seaborn as sns\n",
        "import matplotlib.pyplot as plt\n",
        "import category_encoders as ce\n",
        "import lightgbm as lgb\n",
        "\n",
        "from lightgbm import LGBMClassifier\n",
        "from xgboost import XGBClassifier\n",
        "from catboost import CatBoostClassifier\n",
        "from sklearn.ensemble import AdaBoostClassifier, RandomForestClassifier\n",
        "\n",
        "\n",
        "from sklearn.metrics import (\n",
        "    accuracy_score,\n",
        "    classification_report,\n",
        "    confusion_matrix,\n",
        "    f1_score,\n",
        "    precision_score,\n",
        "    recall_score,\n",
        ")\n",
        "from sklearn.model_selection import train_test_split\n",
        "from tqdm import tqdm\n",
        "\n"
      ]
    },
    {
      "cell_type": "markdown",
      "id": "4d054e30",
      "metadata": {
        "id": "4d054e30"
      },
      "source": [
        "### 데이터 읽어오기\n"
      ]
    },
    {
      "cell_type": "code",
      "execution_count": 227,
      "id": "fc0b4d80",
      "metadata": {
        "id": "fc0b4d80"
      },
      "outputs": [],
      "source": [
        "RANDOM_STATE = 110\n",
        "\n",
        "train_data = pd.read_csv(\"/content/train_data.csv\")\n",
        "test_data = pd.read_csv(\"/content/test_data.csv\")"
      ]
    },
    {
      "cell_type": "markdown",
      "id": "cd0a6bbc",
      "metadata": {
        "id": "cd0a6bbc"
      },
      "source": [
        "기본 전처리 할것들"
      ]
    },
    {
      "cell_type": "code",
      "execution_count": 228,
      "id": "e1367da7",
      "metadata": {
        "id": "e1367da7"
      },
      "outputs": [],
      "source": [
        "# 'Workorder_AutoClave' 열에서 '-' 다음 숫자 값 추출 및 '000' 제거\n",
        "train_data['Workorder'] = train_data['Workorder'].str.replace(r'-(\\d+)', lambda x: '-' + x.group(1).lstrip('0'), regex=True)\n",
        "test_data['Workorder'] = test_data['Workorder'].str.replace(r'-(\\d+)', lambda x: '-' + x.group(1).lstrip('0'), regex=True)"
      ]
    },
    {
      "cell_type": "code",
      "execution_count": 229,
      "id": "735040a0",
      "metadata": {
        "id": "735040a0"
      },
      "outputs": [],
      "source": [
        "# Dispenser_num 값에 따라 새로운 변수 생성\n",
        "train_data['Dispenser_1'] = train_data['Dispenser_num'].apply(lambda x: 1 if x == '#1' else 0)\n",
        "train_data['Dispenser_2'] = train_data['Dispenser_num'].apply(lambda x: 1 if x == '#2' else 0)\n",
        "\n",
        "test_data['Dispenser_1'] = test_data['Dispenser_num'].apply(lambda x: 1 if x == '#1' else 0)\n",
        "test_data['Dispenser_2'] = test_data['Dispenser_num'].apply(lambda x: 1 if x == '#2' else 0)\n",
        "\n",
        "# 불필요한 변수 제거\n",
        "train_data.drop(['Dispenser_num'], axis=1, inplace=True)\n",
        "test_data.drop(['Dispenser_num'], axis=1, inplace=True)"
      ]
    },
    {
      "cell_type": "code",
      "execution_count": 230,
      "id": "262866c0",
      "metadata": {
        "id": "262866c0"
      },
      "outputs": [],
      "source": [
        "# WorkMode Collect Result_Dam의 이름을 WorkMode Collect Result로 변경\n",
        "train_data = train_data.rename(columns={'WorkMode Collect Result_Dam': 'WorkMode Collect Result'})\n",
        "test_data = test_data.rename(columns={'WorkMode Collect Result_Dam': 'WorkMode Collect Result'})\n",
        "\n",
        "# WorkMode Collect Result_Fill1, WorkMode Collect Result_Fill2 열 드롭\n",
        "train_data = train_data.drop(columns=['WorkMode Collect Result_Fill1', 'WorkMode Collect Result_Fill2'])\n",
        "test_data = test_data.drop(columns=['WorkMode Collect Result_Fill1', 'WorkMode Collect Result_Fill2'])"
      ]
    },
    {
      "cell_type": "code",
      "execution_count": 231,
      "id": "6e2e5c57",
      "metadata": {
        "id": "6e2e5c57"
      },
      "outputs": [],
      "source": [
        "# WorkMode Collect Result 열의 값이 7인 행을 1로 변경\n",
        "train_data['WorkMode Collect Result'] = train_data['WorkMode Collect Result'].replace(7, 1)\n",
        "test_data['WorkMode Collect Result'] = test_data['WorkMode Collect Result'].replace(7, 1)\n",
        "\n",
        "# WorkMode Collect Result 열의 결측값을 0으로 채움\n",
        "train_data['WorkMode Collect Result'] = train_data['WorkMode Collect Result'].fillna(0)\n",
        "test_data['WorkMode Collect Result'] = test_data['WorkMode Collect Result'].fillna(0)"
      ]
    },
    {
      "cell_type": "code",
      "execution_count": 232,
      "id": "38ab6e89",
      "metadata": {
        "id": "38ab6e89"
      },
      "outputs": [],
      "source": [
        "# 세 변수의 값이 동일하면 해당 값을 가져가고, 하나라도 일치하지 않으면 0의 값을 가지는 파생 변수 생성 함수\n",
        "def create_receip_no_collect_result(df):\n",
        "    df['Receip_No_Collect_Result'] = df.apply(\n",
        "        lambda row: row['Receip No Collect Result_Dam']\n",
        "                    if (row['Receip No Collect Result_Dam'] == row['Receip No Collect Result_Fill1'] == row['Receip No Collect Result_Fill2'])\n",
        "                    else 0,\n",
        "        axis=1\n",
        "    )\n",
        "\n",
        "# 함수 적용\n",
        "create_receip_no_collect_result(train_data)\n",
        "create_receip_no_collect_result(test_data)"
      ]
    },
    {
      "cell_type": "code",
      "execution_count": 233,
      "id": "d60cd31e",
      "metadata": {
        "id": "d60cd31e"
      },
      "outputs": [],
      "source": [
        "# 제거할 변수 목록\n",
        "columns_to_drop = [\n",
        "    'Receip No Collect Result_Dam',\n",
        "    'Receip No Collect Result_Fill1',\n",
        "    'Receip No Collect Result_Fill2'\n",
        "]\n",
        "\n",
        "# 변수 제거\n",
        "train_data.drop(columns=columns_to_drop, inplace=True)\n",
        "test_data.drop(columns=columns_to_drop, inplace=True)"
      ]
    },
    {
      "cell_type": "code",
      "execution_count": 234,
      "id": "66f9a1d2",
      "metadata": {
        "id": "66f9a1d2"
      },
      "outputs": [],
      "source": [
        "# 세 변수의 값이 동일하면 해당 값을 가져가고, 하나라도 일치하지 않으면 0의 값을 가지는 파생 변수 생성 함수\n",
        "def create_palletid_collect_result(df):\n",
        "    df['PalletID_Collect_Result'] = df.apply(\n",
        "        lambda row: row['PalletID Collect Result_Dam']\n",
        "                    if (row['PalletID Collect Result_Dam'] == row['PalletID Collect Result_Fill1'] == row['PalletID Collect Result_Fill2'])\n",
        "                    else 0,\n",
        "        axis=1\n",
        "    )\n",
        "\n",
        "# 함수 적용\n",
        "create_palletid_collect_result(train_data)\n",
        "create_palletid_collect_result(test_data)"
      ]
    },
    {
      "cell_type": "code",
      "execution_count": 235,
      "id": "f4f7c505",
      "metadata": {
        "id": "f4f7c505"
      },
      "outputs": [],
      "source": [
        "# 제거할 변수 목록\n",
        "columns_to_drop = [\n",
        "    'PalletID Collect Result_Dam',\n",
        "    'PalletID Collect Result_Fill1',\n",
        "    'PalletID Collect Result_Fill2'\n",
        "]\n",
        "\n",
        "# 변수 제거\n",
        "train_data.drop(columns=columns_to_drop, inplace=True)\n",
        "test_data.drop(columns=columns_to_drop, inplace=True)"
      ]
    },
    {
      "cell_type": "code",
      "execution_count": 236,
      "id": "e14c7fa6",
      "metadata": {
        "id": "e14c7fa6"
      },
      "outputs": [],
      "source": [
        "# 세 변수의 값이 동일하면 해당 값을 가져가고, 하나라도 일치하지 않으면 0의 값을 가지는 파생 변수 생성 함수\n",
        "def create_palletid_collect_result(df):\n",
        "    df['Production_Qty_Collect_Result'] = df.apply(\n",
        "        lambda row: row['Production Qty Collect Result_Dam']\n",
        "                    if (row['Production Qty Collect Result_Dam'] == row['Production Qty Collect Result_Fill1'] == row['Production Qty Collect Result_Fill2'])\n",
        "                    else 0,\n",
        "        axis=1\n",
        "    )\n",
        "\n",
        "# 함수 적용\n",
        "create_palletid_collect_result(train_data)\n",
        "create_palletid_collect_result(test_data)"
      ]
    },
    {
      "cell_type": "code",
      "execution_count": 237,
      "id": "b8fdec05",
      "metadata": {
        "id": "b8fdec05"
      },
      "outputs": [],
      "source": [
        "# 제거할 변수 목록\n",
        "columns_to_drop = [\n",
        "    'Production Qty Collect Result_Dam',\n",
        "    'Production Qty Collect Result_Fill1',\n",
        "    'Production Qty Collect Result_Fill2'\n",
        "]\n",
        "\n",
        "# 변수 제거\n",
        "train_data.drop(columns=columns_to_drop, inplace=True)\n",
        "test_data.drop(columns=columns_to_drop, inplace=True)"
      ]
    },
    {
      "cell_type": "code",
      "execution_count": 238,
      "id": "a22797c8",
      "metadata": {
        "id": "a22797c8"
      },
      "outputs": [],
      "source": [
        "# \"Chamber Temp. Judge Value_AutoClave\" 변수의 값을 기준으로 파생 변수 생성 함수\n",
        "def create_judge_value_binary(df):\n",
        "    df['Chamber_Temp_OKNG_AutoClave'] = df['Chamber Temp. Judge Value_AutoClave'].apply(\n",
        "        lambda x: 1 if x == 'OK' else 0\n",
        "    )\n",
        "\n",
        "# 함수 적용\n",
        "create_judge_value_binary(train_data)\n",
        "create_judge_value_binary(test_data)"
      ]
    },
    {
      "cell_type": "code",
      "execution_count": 239,
      "id": "dd9ccf46",
      "metadata": {
        "colab": {
          "base_uri": "https://localhost:8080/"
        },
        "id": "dd9ccf46",
        "outputId": "56523049-1c92-4930-81d0-75c8dd2650c5"
      },
      "outputs": [
        {
          "output_type": "stream",
          "name": "stdout",
          "text": [
            "\n",
            " Judge Value 포함 변수>\n",
            "HEAD NORMAL COORDINATE X AXIS(Stage1) Judge Value_Dam\n",
            "Chamber Temp. Judge Value_AutoClave\n",
            "GMES_ORIGIN_INSP_JUDGE_CODE Judge Value_AutoClave\n",
            "HEAD NORMAL COORDINATE X AXIS(Stage1) Judge Value_Fill1\n",
            "HEAD NORMAL COORDINATE X AXIS(Stage1) Judge Value_Fill2\n"
          ]
        }
      ],
      "source": [
        "# 'Judge Value'를 포함하는 열 이름 필터링\n",
        "Process_Desc_col = train_data.filter(like='Judge Value').columns\n",
        "\n",
        "print(\"\\n Judge Value 포함 변수>\")\n",
        "for col in Process_Desc_col:\n",
        "    print(col)"
      ]
    },
    {
      "cell_type": "code",
      "execution_count": 240,
      "id": "efa52eee",
      "metadata": {
        "id": "efa52eee"
      },
      "outputs": [],
      "source": [
        "# 5개의 변수 목록\n",
        "judge_value_columns = [\n",
        "    'HEAD NORMAL COORDINATE X AXIS(Stage1) Judge Value_Dam'\n",
        "    , 'GMES_ORIGIN_INSP_JUDGE_CODE Judge Value_AutoClave'\n",
        "    , 'HEAD NORMAL COORDINATE X AXIS(Stage1) Judge Value_Fill1'\n",
        "    , 'HEAD NORMAL COORDINATE X AXIS(Stage1) Judge Value_Fill2'\n",
        "    , 'GMES_ORIGIN_INSP_JUDGE_CODE Collect Result_AutoClave'\n",
        "]\n",
        "\n",
        "# 파생 변수 생성 함수\n",
        "def create_judge_value_feature(df):\n",
        "    df['Judge_Value_OK'] = df[judge_value_columns].apply(\n",
        "        lambda row: 1 if any(row == 'OK') else 0,\n",
        "        axis=1\n",
        "    )\n",
        "\n",
        "# 함수 적용\n",
        "create_judge_value_feature(train_data)\n",
        "create_judge_value_feature(test_data)"
      ]
    },
    {
      "cell_type": "code",
      "execution_count": 241,
      "id": "ebe087f0",
      "metadata": {
        "id": "ebe087f0"
      },
      "outputs": [],
      "source": [
        "# 제거할 변수 목록\n",
        "columns_to_drop = [\n",
        "    'Chamber Temp. Judge Value_AutoClave'\n",
        "    , 'HEAD NORMAL COORDINATE X AXIS(Stage1) Judge Value_Dam'\n",
        "    , 'GMES_ORIGIN_INSP_JUDGE_CODE Judge Value_AutoClave'\n",
        "    , 'HEAD NORMAL COORDINATE X AXIS(Stage1) Judge Value_Fill1'\n",
        "    , 'HEAD NORMAL COORDINATE X AXIS(Stage1) Judge Value_Fill2'\n",
        "    , 'GMES_ORIGIN_INSP_JUDGE_CODE Collect Result_AutoClave'\n",
        "]\n",
        "\n",
        "# 변수 제거\n",
        "train_data.drop(columns=columns_to_drop, inplace=True)\n",
        "test_data.drop(columns=columns_to_drop, inplace=True)"
      ]
    },
    {
      "cell_type": "code",
      "execution_count": 242,
      "id": "4fb1e7ae",
      "metadata": {
        "id": "4fb1e7ae"
      },
      "outputs": [],
      "source": [
        "# 변수명 변경\n",
        "train_data = train_data.rename(columns={'1st Pressure 1st Pressure Unit Time_AutoClave': '1st Pressure Unit Time_AutoClave'})\n",
        "test_data = test_data.rename(columns={'1st Pressure 1st Pressure Unit Time_AutoClave': '1st Pressure Unit Time_AutoClave'})"
      ]
    },
    {
      "cell_type": "code",
      "execution_count": 243,
      "id": "6cdd01e2",
      "metadata": {
        "colab": {
          "base_uri": "https://localhost:8080/"
        },
        "id": "6cdd01e2",
        "outputId": "e06bd3cd-a1a4-4e55-e3f5-3f83c044a7cb"
      },
      "outputs": [
        {
          "output_type": "stream",
          "name": "stdout",
          "text": [
            "<class 'pandas.core.frame.DataFrame'>\n",
            "RangeIndex: 40506 entries, 0 to 40505\n",
            "Columns: 108 entries, Model.Suffix to Judge_Value_OK\n",
            "dtypes: float64(56), int64(49), object(3)\n",
            "memory usage: 33.4+ MB\n"
          ]
        }
      ],
      "source": [
        "train_data.info()"
      ]
    },
    {
      "cell_type": "code",
      "execution_count": 244,
      "id": "5c4b1899",
      "metadata": {
        "colab": {
          "base_uri": "https://localhost:8080/"
        },
        "id": "5c4b1899",
        "outputId": "8d9f0e13-ec01-4c70-c2f2-e34b80112066"
      },
      "outputs": [
        {
          "output_type": "stream",
          "name": "stdout",
          "text": [
            "<class 'pandas.core.frame.DataFrame'>\n",
            "RangeIndex: 17361 entries, 0 to 17360\n",
            "Columns: 109 entries, Set ID to Judge_Value_OK\n",
            "dtypes: float64(86), int64(20), object(3)\n",
            "memory usage: 14.4+ MB\n"
          ]
        }
      ],
      "source": [
        "test_data.info()"
      ]
    },
    {
      "cell_type": "markdown",
      "id": "e23d3595",
      "metadata": {
        "id": "e23d3595"
      },
      "source": [
        "---"
      ]
    },
    {
      "cell_type": "markdown",
      "id": "b54df9c3",
      "metadata": {
        "id": "b54df9c3"
      },
      "source": [
        "반복적으로 쓰는 툴 함수화"
      ]
    },
    {
      "cell_type": "code",
      "execution_count": 245,
      "id": "09d2efa7",
      "metadata": {
        "id": "09d2efa7"
      },
      "outputs": [],
      "source": [
        "def plot_box(df, col_name):\n",
        "    \"\"\"\n",
        "    주어진 데이터프레임과 열 이름에 대해 박스 플롯을 그리는 함수.\n",
        "\n",
        "    Parameters:\n",
        "    dataframe (pd.DataFrame): 데이터프레임\n",
        "    column_name (str): 열 이름\n",
        "    \"\"\"\n",
        "    plt.figure(figsize=(7, 4))\n",
        "    plt.boxplot(df[col_name], vert=False)\n",
        "    plt.xlabel(col_name)\n",
        "    plt.title(f'Box Plot of {col_name}')\n",
        "    plt.show()"
      ]
    },
    {
      "cell_type": "code",
      "execution_count": 246,
      "id": "7515da51",
      "metadata": {
        "id": "7515da51"
      },
      "outputs": [],
      "source": [
        "def value_counts_ratio(df, col_name, target_name='target'):\n",
        "    \"\"\"\n",
        "    주어진 데이터프레임의 특정 열에 대해 각 값마다 타겟 변수의 비율과 갯수, 총 갯수를 출력하는 함수.\n",
        "\n",
        "    Parameters:\n",
        "    df (pd.DataFrame): 데이터프레임\n",
        "    col_name (str): 열 이름\n",
        "    target_name (str): 타겟 변수 이름\n",
        "    \"\"\"\n",
        "    # 각 값마다 타겟 변수의 비율 계산\n",
        "    value_counts = df.groupby(col_name)[target_name].value_counts(normalize=True).unstack().fillna(0)\n",
        "\n",
        "    # 각 값마다 타겟 변수의 갯수 계산\n",
        "    counts = df.groupby(col_name)[target_name].value_counts().unstack().fillna(0)\n",
        "\n",
        "    # 각 값마다 총 갯수 계산\n",
        "    total_counts = df[col_name].value_counts().rename('Total_Count')\n",
        "\n",
        "    # 비율과 갯수를 합침\n",
        "    result = value_counts.join(counts, lsuffix='_ratio', rsuffix='_count')\n",
        "\n",
        "    # 총 갯수를 합침\n",
        "    result = result.join(total_counts, on=col_name)\n",
        "\n",
        "    # 출력 형식 조정\n",
        "    result.index.name = 'variable'\n",
        "    print(f\"\\n{col_name}별 {target_name} 비율 및 갯수\\n\")\n",
        "    print(result.rename(columns=lambda x: x.split('_')[0]))"
      ]
    },
    {
      "cell_type": "code",
      "execution_count": 247,
      "id": "9eed238d",
      "metadata": {
        "id": "9eed238d"
      },
      "outputs": [],
      "source": [
        "def summarize_group(df, group_by_columns):\n",
        "    # 데이터프레임을 그룹화\n",
        "    grouped_df = df.groupby(group_by_columns)\n",
        "\n",
        "    # 결과를 저장할 리스트 초기화\n",
        "    results = []\n",
        "\n",
        "    # 그룹화된 데이터프레임의 내용을 확인하는 코드\n",
        "    for name, group in grouped_df:\n",
        "        # 그룹의 갯수 계산\n",
        "        group_count = group.shape[0]\n",
        "\n",
        "        # 'target' 변수의 'AdNormal' 비율과 갯수 계산\n",
        "        adnormal_count = group['target'].value_counts().get('AbNormal', 0)\n",
        "        adnormal_ratio = adnormal_count / group_count\n",
        "\n",
        "        # 결과 리스트에 추가\n",
        "        results.append([name, adnormal_count, adnormal_ratio, group_count])\n",
        "\n",
        "    # 결과 리스트를 데이터프레임으로 변환\n",
        "    results_df = pd.DataFrame(results, columns=['group', \"'AdNormal' count\", 'ratio', 'Total'])\n",
        "\n",
        "    # 그룹화된 변수들의 이름을 제목행으로 출력\n",
        "    print(f\"Grouped by: {', '.join(group_by_columns)}\")\n",
        "    print()\n",
        "    # 데이터프레임 출력\n",
        "    print(results_df)\n",
        "\n",
        "# 예시코드\n",
        "# summarize_grouped_data(train_data, ['1st Pressure Collect Result_AutoClave', '1st Pressure Unit Time_AutoClave'])"
      ]
    },
    {
      "cell_type": "code",
      "execution_count": 248,
      "id": "f4bfbd22",
      "metadata": {
        "id": "f4bfbd22"
      },
      "outputs": [],
      "source": [
        "def plot_ratio(df, group_by_column, target_column='target', abnormal_value='AbNormal'):\n",
        "    # 데이터프레임을 그룹화\n",
        "    grouped_df = df.groupby(group_by_column)\n",
        "\n",
        "    # 결과를 저장할 리스트 초기화\n",
        "    results = []\n",
        "\n",
        "    # 그룹화된 데이터프레임의 내용을 확인하는 코드\n",
        "    for name, group in grouped_df:\n",
        "        # 그룹의 갯수 계산\n",
        "        group_count = group.shape[0]\n",
        "\n",
        "        # 'target' 변수의 'AbNormal' 비율과 갯수 계산\n",
        "        abnormal_count = group[target_column].value_counts().get(abnormal_value, 0)\n",
        "        abnormal_ratio = abnormal_count / group_count\n",
        "\n",
        "        # 결과 리스트에 추가\n",
        "        results.append([name, abnormal_count, abnormal_ratio, group_count])\n",
        "\n",
        "    # 결과 리스트를 데이터프레임으로 변환\n",
        "    results_df = pd.DataFrame(results, columns=['group', f\"'{abnormal_value}' count\", 'ratio', 'Total'])\n",
        "\n",
        "    # 그래프 크기 설정\n",
        "    plt.figure(figsize=(10, 5))\n",
        "\n",
        "    # 막대 그래프 생성\n",
        "    ax = results_df.plot(kind='bar', x='group', y='ratio', legend=False)\n",
        "\n",
        "    # 각 막대 위에 AbNormal 갯수와 총 갯수 표시\n",
        "    for i, (abnormal_count, total) in enumerate(zip(results_df[f\"'{abnormal_value}' count\"], results_df['Total'])):\n",
        "        ax.text(i, results_df['ratio'][i], f'{abnormal_count} ({total})', ha='center', va='bottom', fontsize=8)\n",
        "\n",
        "     # 그래프 제목 및 축 레이블 설정\n",
        "    ax.set_title(f'{abnormal_value} Ratio by {group_by_column}')\n",
        "    ax.set_xlabel(group_by_column)\n",
        "    ax.set_ylabel(f'{abnormal_value} Ratio')\n",
        "\n",
        "    # 그래프 출력\n",
        "    plt.show()"
      ]
    },
    {
      "cell_type": "code",
      "execution_count": 249,
      "id": "aad45361",
      "metadata": {
        "id": "aad45361"
      },
      "outputs": [],
      "source": [
        "import matplotlib.pyplot as plt\n",
        "import seaborn as sns\n",
        "\n",
        "def plot_ratio_boxplot(data, time_ratio_column, target_column='target'):\n",
        "    # 그래프 스타일 설정\n",
        "    sns.set(style=\"whitegrid\")\n",
        "\n",
        "    # 그래프 그리기\n",
        "    plt.figure(figsize=(10, 6))\n",
        "    sns.boxplot(x=time_ratio_column, y=target_column, data=data)\n",
        "\n",
        "    # 그래프 제목 및 레이블 설정\n",
        "    plt.title(f'{time_ratio_column} vs {target_column}')\n",
        "    plt.xlabel(time_ratio_column)\n",
        "    plt.ylabel(target_column)\n",
        "\n",
        "    # 그래프 출력\n",
        "    plt.show()\n",
        "\n",
        "# 함수 호출 예제\n",
        "#plot_time_ratio_vs_target(train_data, 'time_ratio_Dam')"
      ]
    },
    {
      "cell_type": "markdown",
      "id": "08a8a90c",
      "metadata": {
        "id": "08a8a90c"
      },
      "source": [
        "---"
      ]
    },
    {
      "cell_type": "code",
      "execution_count": 250,
      "id": "0e84bd23",
      "metadata": {
        "colab": {
          "base_uri": "https://localhost:8080/"
        },
        "id": "0e84bd23",
        "outputId": "7174da68-076f-433a-c59a-b8992d9aab1b"
      },
      "outputs": [
        {
          "output_type": "execute_result",
          "data": {
            "text/plain": [
              "['Model.Suffix',\n",
              " 'Workorder',\n",
              " 'CURE END POSITION X Collect Result_Dam',\n",
              " 'CURE END POSITION Z Collect Result_Dam',\n",
              " 'CURE END POSITION Θ Collect Result_Dam',\n",
              " 'CURE SPEED Collect Result_Dam',\n",
              " 'CURE START POSITION X Collect Result_Dam',\n",
              " 'CURE START POSITION Θ Collect Result_Dam',\n",
              " 'DISCHARGED SPEED OF RESIN Collect Result_Dam',\n",
              " 'DISCHARGED TIME OF RESIN(Stage1) Collect Result_Dam',\n",
              " 'DISCHARGED TIME OF RESIN(Stage2) Collect Result_Dam',\n",
              " 'DISCHARGED TIME OF RESIN(Stage3) Collect Result_Dam',\n",
              " 'Dispense Volume(Stage1) Collect Result_Dam',\n",
              " 'Dispense Volume(Stage2) Collect Result_Dam',\n",
              " 'Dispense Volume(Stage3) Collect Result_Dam',\n",
              " 'HEAD NORMAL COORDINATE X AXIS(Stage1) Collect Result_Dam',\n",
              " 'HEAD NORMAL COORDINATE X AXIS(Stage2) Collect Result_Dam',\n",
              " 'HEAD NORMAL COORDINATE X AXIS(Stage3) Collect Result_Dam',\n",
              " 'HEAD NORMAL COORDINATE Y AXIS(Stage1) Collect Result_Dam',\n",
              " 'HEAD NORMAL COORDINATE Y AXIS(Stage2) Collect Result_Dam',\n",
              " 'HEAD NORMAL COORDINATE Y AXIS(Stage3) Collect Result_Dam',\n",
              " 'HEAD NORMAL COORDINATE Z AXIS(Stage1) Collect Result_Dam',\n",
              " 'HEAD NORMAL COORDINATE Z AXIS(Stage2) Collect Result_Dam',\n",
              " 'HEAD NORMAL COORDINATE Z AXIS(Stage3) Collect Result_Dam',\n",
              " 'Head Clean Position Z Collect Result_Dam',\n",
              " 'Head Purge Position Z Collect Result_Dam',\n",
              " 'Head Zero Position Y Collect Result_Dam',\n",
              " 'Head Zero Position Z Collect Result_Dam',\n",
              " 'Machine Tact time Collect Result_Dam',\n",
              " 'Stage1 Circle1 Distance Speed Collect Result_Dam',\n",
              " 'Stage1 Circle2 Distance Speed Collect Result_Dam',\n",
              " 'Stage1 Circle3 Distance Speed Collect Result_Dam',\n",
              " 'Stage1 Circle4 Distance Speed Collect Result_Dam',\n",
              " 'Stage1 Line1 Distance Speed Collect Result_Dam',\n",
              " 'Stage1 Line2 Distance Speed Collect Result_Dam',\n",
              " 'Stage1 Line3 Distance Speed Collect Result_Dam',\n",
              " 'Stage1 Line4 Distance Speed Collect Result_Dam',\n",
              " 'Stage2 Circle1 Distance Speed Collect Result_Dam',\n",
              " 'Stage2 Circle2 Distance Speed Collect Result_Dam',\n",
              " 'Stage2 Circle3 Distance Speed Collect Result_Dam',\n",
              " 'Stage2 Circle4 Distance Speed Collect Result_Dam',\n",
              " 'Stage2 Line1 Distance Speed Collect Result_Dam',\n",
              " 'Stage2 Line2 Distance Speed Collect Result_Dam',\n",
              " 'Stage2 Line3 Distance Speed Collect Result_Dam',\n",
              " 'Stage2 Line4 Distance Speed Collect Result_Dam',\n",
              " 'Stage3 Circle1 Distance Speed Collect Result_Dam',\n",
              " 'Stage3 Circle2 Distance Speed Collect Result_Dam',\n",
              " 'Stage3 Circle3 Distance Speed Collect Result_Dam',\n",
              " 'Stage3 Circle4 Distance Speed Collect Result_Dam',\n",
              " 'Stage3 Line1 Distance Speed Collect Result_Dam',\n",
              " 'Stage3 Line2 Distance Speed Collect Result_Dam',\n",
              " 'Stage3 Line3 Distance Speed Collect Result_Dam',\n",
              " 'Stage3 Line4 Distance Speed Collect Result_Dam',\n",
              " 'THICKNESS 1 Collect Result_Dam',\n",
              " 'THICKNESS 2 Collect Result_Dam',\n",
              " 'THICKNESS 3 Collect Result_Dam',\n",
              " 'WorkMode Collect Result',\n",
              " '1st Pressure Collect Result_AutoClave',\n",
              " '1st Pressure Unit Time_AutoClave',\n",
              " '2nd Pressure Collect Result_AutoClave',\n",
              " '2nd Pressure Unit Time_AutoClave',\n",
              " '3rd Pressure Collect Result_AutoClave',\n",
              " '3rd Pressure Unit Time_AutoClave',\n",
              " 'Chamber Temp. Collect Result_AutoClave',\n",
              " 'Chamber Temp. Unit Time_AutoClave',\n",
              " 'DISCHARGED SPEED OF RESIN Collect Result_Fill1',\n",
              " 'DISCHARGED TIME OF RESIN(Stage1) Collect Result_Fill1',\n",
              " 'DISCHARGED TIME OF RESIN(Stage2) Collect Result_Fill1',\n",
              " 'DISCHARGED TIME OF RESIN(Stage3) Collect Result_Fill1',\n",
              " 'Dispense Volume(Stage1) Collect Result_Fill1',\n",
              " 'Dispense Volume(Stage2) Collect Result_Fill1',\n",
              " 'Dispense Volume(Stage3) Collect Result_Fill1',\n",
              " 'HEAD NORMAL COORDINATE X AXIS(Stage1) Collect Result_Fill1',\n",
              " 'HEAD NORMAL COORDINATE X AXIS(Stage2) Collect Result_Fill1',\n",
              " 'HEAD NORMAL COORDINATE X AXIS(Stage3) Collect Result_Fill1',\n",
              " 'HEAD NORMAL COORDINATE Y AXIS(Stage1) Collect Result_Fill1',\n",
              " 'HEAD NORMAL COORDINATE Y AXIS(Stage2) Collect Result_Fill1',\n",
              " 'HEAD NORMAL COORDINATE Y AXIS(Stage3) Collect Result_Fill1',\n",
              " 'HEAD NORMAL COORDINATE Z AXIS(Stage1) Collect Result_Fill1',\n",
              " 'HEAD NORMAL COORDINATE Z AXIS(Stage2) Collect Result_Fill1',\n",
              " 'HEAD NORMAL COORDINATE Z AXIS(Stage3) Collect Result_Fill1',\n",
              " 'Head Purge Position Z Collect Result_Fill1',\n",
              " 'Machine Tact time Collect Result_Fill1',\n",
              " 'CURE END POSITION X Collect Result_Fill2',\n",
              " 'CURE END POSITION Z Collect Result_Fill2',\n",
              " 'CURE SPEED Collect Result_Fill2',\n",
              " 'CURE STANDBY POSITION Z Collect Result_Fill2',\n",
              " 'CURE START POSITION X Collect Result_Fill2',\n",
              " 'CURE START POSITION Z Collect Result_Fill2',\n",
              " 'HEAD NORMAL COORDINATE X AXIS(Stage1) Collect Result_Fill2',\n",
              " 'HEAD NORMAL COORDINATE X AXIS(Stage2) Collect Result_Fill2',\n",
              " 'HEAD NORMAL COORDINATE X AXIS(Stage3) Collect Result_Fill2',\n",
              " 'HEAD NORMAL COORDINATE Y AXIS(Stage1) Collect Result_Fill2',\n",
              " 'HEAD NORMAL COORDINATE Y AXIS(Stage2) Collect Result_Fill2',\n",
              " 'HEAD NORMAL COORDINATE Y AXIS(Stage3) Collect Result_Fill2',\n",
              " 'HEAD NORMAL COORDINATE Z AXIS(Stage1) Collect Result_Fill2',\n",
              " 'HEAD NORMAL COORDINATE Z AXIS(Stage2) Collect Result_Fill2',\n",
              " 'HEAD NORMAL COORDINATE Z AXIS(Stage3) Collect Result_Fill2',\n",
              " 'Head Purge Position Z Collect Result_Fill2',\n",
              " 'Machine Tact time Collect Result_Fill2',\n",
              " 'target',\n",
              " 'Dispenser_1',\n",
              " 'Dispenser_2',\n",
              " 'Receip_No_Collect_Result',\n",
              " 'PalletID_Collect_Result',\n",
              " 'Production_Qty_Collect_Result',\n",
              " 'Chamber_Temp_OKNG_AutoClave',\n",
              " 'Judge_Value_OK']"
            ]
          },
          "metadata": {},
          "execution_count": 250
        }
      ],
      "source": [
        "train_data.columns.to_list()"
      ]
    },
    {
      "cell_type": "markdown",
      "id": "e2a9465e",
      "metadata": {
        "id": "e2a9465e"
      },
      "source": [
        "### 1. CURE"
      ]
    },
    {
      "cell_type": "code",
      "execution_count": 251,
      "id": "45bdcc9d",
      "metadata": {
        "colab": {
          "base_uri": "https://localhost:8080/"
        },
        "id": "45bdcc9d",
        "outputId": "351f10ca-c6c4-43d9-de37-b9653b888751"
      },
      "outputs": [
        {
          "output_type": "stream",
          "name": "stdout",
          "text": [
            "\n",
            " CURE 포함 변수>\n",
            "CURE END POSITION X Collect Result_Dam\n",
            "CURE END POSITION Z Collect Result_Dam\n",
            "CURE END POSITION Θ Collect Result_Dam\n",
            "CURE SPEED Collect Result_Dam\n",
            "CURE START POSITION X Collect Result_Dam\n",
            "CURE START POSITION Θ Collect Result_Dam\n",
            "CURE END POSITION X Collect Result_Fill2\n",
            "CURE END POSITION Z Collect Result_Fill2\n",
            "CURE SPEED Collect Result_Fill2\n",
            "CURE STANDBY POSITION Z Collect Result_Fill2\n",
            "CURE START POSITION X Collect Result_Fill2\n",
            "CURE START POSITION Z Collect Result_Fill2\n"
          ]
        }
      ],
      "source": [
        "# 'CURE'와 '_Dam'를 포함하는 열 이름 필터링\n",
        "Process_Desc_col = train_data.filter(like='CURE').columns\n",
        "\n",
        "print(\"\\n CURE 포함 변수>\")\n",
        "for col in Process_Desc_col:\n",
        "    print(col)"
      ]
    },
    {
      "cell_type": "code",
      "execution_count": 252,
      "id": "33dc2f53",
      "metadata": {
        "colab": {
          "base_uri": "https://localhost:8080/"
        },
        "id": "33dc2f53",
        "outputId": "69ec6638-9c91-4155-eac8-5b240c2f93bf"
      },
      "outputs": [
        {
          "output_type": "stream",
          "name": "stdout",
          "text": [
            "Grouped by: Dispenser_1, Dispenser_2, CURE END POSITION Θ Collect Result_Dam, CURE START POSITION Θ Collect Result_Dam\n",
            "\n",
            "              group  'AdNormal' count     ratio  Total\n",
            "0  (0, 0, -90, -90)                19  1.000000     19\n",
            "1    (0, 0, 90, 90)                15  1.000000     15\n",
            "2    (0, 1, 90, 90)               850  0.054977  15461\n",
            "3  (1, 0, -90, -90)              1466  0.058614  25011\n"
          ]
        }
      ],
      "source": [
        "summarize_group(train_data, [\n",
        "'Dispenser_1'\n",
        ", 'Dispenser_2'\n",
        "# 'CURE END POSITION X Collect Result_Dam'\n",
        ", 'CURE END POSITION Θ Collect Result_Dam'\n",
        "# , 'CURE SPEED Collect Result_Dam'\n",
        "# , 'CURE START POSITION X Collect Result_Dam'\n",
        ", 'CURE START POSITION Θ Collect Result_Dam'\n",
        "# , 'CURE END POSITION X Collect Result_Fill2'\n",
        "# , 'CURE END POSITION Z Collect Result_Fill2'\n",
        "# , 'CURE SPEED Collect Result_Fill2'\n",
        "# , 'CURE STANDBY POSITION Z Collect Result_Fill2'\n",
        "# , 'CURE START POSITION X Collect Result_Fill2'\n",
        "# , 'CURE START POSITION Z Collect Result_Fill2'\n",
        "])"
      ]
    },
    {
      "cell_type": "markdown",
      "id": "23aff796",
      "metadata": {
        "id": "23aff796"
      },
      "source": [
        "dispenser 종류에 따라 POSITION Θ 값이 따라감  \n",
        "-> drop"
      ]
    },
    {
      "cell_type": "code",
      "execution_count": 253,
      "id": "a2bcdc66",
      "metadata": {
        "id": "a2bcdc66"
      },
      "outputs": [],
      "source": [
        "# 제거할 변수 목록\n",
        "columns_to_drop = [\n",
        "    'CURE END POSITION Θ Collect Result_Dam'\n",
        "    , 'CURE START POSITION Θ Collect Result_Dam'\n",
        "]\n",
        "\n",
        "# 변수 제거\n",
        "train_data.drop(columns=columns_to_drop, inplace=True)\n",
        "test_data.drop(columns=columns_to_drop, inplace=True)"
      ]
    },
    {
      "cell_type": "code",
      "execution_count": 254,
      "id": "1b7aff20",
      "metadata": {
        "colab": {
          "base_uri": "https://localhost:8080/"
        },
        "id": "1b7aff20",
        "outputId": "f1d27134-bfc3-4b99-f1e1-cf2986259a71"
      },
      "outputs": [
        {
          "output_type": "stream",
          "name": "stdout",
          "text": [
            "\n",
            " CURE 포함 변수>\n",
            "CURE END POSITION X Collect Result_Dam\n",
            "CURE END POSITION Z Collect Result_Dam\n",
            "CURE SPEED Collect Result_Dam\n",
            "CURE START POSITION X Collect Result_Dam\n",
            "CURE END POSITION X Collect Result_Fill2\n",
            "CURE END POSITION Z Collect Result_Fill2\n",
            "CURE SPEED Collect Result_Fill2\n",
            "CURE STANDBY POSITION Z Collect Result_Fill2\n",
            "CURE START POSITION X Collect Result_Fill2\n",
            "CURE START POSITION Z Collect Result_Fill2\n"
          ]
        }
      ],
      "source": [
        "# 'CURE'를 포함하는 열 이름 필터링\n",
        "Process_Desc_col = train_data.filter(like='CURE').columns\n",
        "\n",
        "print(\"\\n CURE 포함 변수>\")\n",
        "for col in Process_Desc_col:\n",
        "    print(col)"
      ]
    },
    {
      "cell_type": "code",
      "execution_count": 255,
      "id": "61cf9dad",
      "metadata": {
        "colab": {
          "base_uri": "https://localhost:8080/"
        },
        "id": "61cf9dad",
        "outputId": "94911bd6-fe2e-4d1a-eae2-1308aecae9c6"
      },
      "outputs": [
        {
          "output_type": "stream",
          "name": "stdout",
          "text": [
            "Grouped by: Dispenser_1, Dispenser_2, CURE END POSITION X Collect Result_Dam, CURE END POSITION Z Collect Result_Dam, CURE START POSITION X Collect Result_Dam\n",
            "\n",
            "                     group  'AdNormal' count     ratio  Total\n",
            "0   (0, 0, 240, 2.5, 1030)                19  1.000000     19\n",
            "1  (0, 0, 1000, 12.5, 280)                15  1.000000     15\n",
            "2  (0, 1, 1000, 12.5, 280)               850  0.054977  15461\n",
            "3   (1, 0, 240, 2.5, 1030)              1466  0.058614  25011\n"
          ]
        }
      ],
      "source": [
        "summarize_group(train_data, [\n",
        "'Dispenser_1'\n",
        ", 'Dispenser_2'\n",
        ", 'CURE END POSITION X Collect Result_Dam'\n",
        ", 'CURE END POSITION Z Collect Result_Dam'\n",
        "# , 'CURE SPEED Collect Result_Dam'\n",
        ", 'CURE START POSITION X Collect Result_Dam'\n",
        "# , 'CURE END POSITION X Collect Result_Fill2'\n",
        "# , 'CURE END POSITION Z Collect Result_Fill2'\n",
        "# , 'CURE SPEED Collect Result_Fill2'\n",
        "# , 'CURE STANDBY POSITION Z Collect Result_Fill2'\n",
        "# , 'CURE START POSITION X Collect Result_Fill2'\n",
        "# , 'CURE START POSITION Z Collect Result_Fill2'\n",
        "])"
      ]
    },
    {
      "cell_type": "markdown",
      "id": "48d641dc",
      "metadata": {
        "id": "48d641dc"
      },
      "source": [
        "좌표값을 통해 좌표간의 거리를 계산"
      ]
    },
    {
      "cell_type": "code",
      "execution_count": 256,
      "id": "96d3ba02",
      "metadata": {
        "id": "96d3ba02"
      },
      "outputs": [],
      "source": [
        "# 시작 위치와 끝 위치 열 이름\n",
        "start_x_col = 'CURE START POSITION X Collect Result_Dam'\n",
        "start_z_col = 33.5\n",
        "end_x_col = 'CURE END POSITION X Collect Result_Dam'\n",
        "end_z_col = 'CURE END POSITION Z Collect Result_Dam'\n",
        "\n",
        "# 시작 위치와 끝 위치 사이의 거리 계산\n",
        "train_data['CURE_DISTANCE_Dam'] = np.sqrt(\n",
        "    (train_data[end_x_col] - train_data[start_x_col]) ** 2 +\n",
        "    (train_data[end_z_col] - start_z_col) ** 2\n",
        ")\n",
        "\n",
        "test_data['CURE_DISTANCE_Dam'] = np.sqrt(\n",
        "    (train_data[end_x_col] - train_data[start_x_col]) ** 2 +\n",
        "    (train_data[end_z_col] - start_z_col) ** 2\n",
        ")"
      ]
    },
    {
      "cell_type": "code",
      "execution_count": 257,
      "id": "a5fa846c",
      "metadata": {
        "id": "a5fa846c"
      },
      "outputs": [],
      "source": [
        "# 시작 위치와 끝 위치 열 이름\n",
        "start_x_col = 'CURE START POSITION X Collect Result_Fill2'\n",
        "start_z_col = 'CURE START POSITION Z Collect Result_Fill2'\n",
        "end_x_col = 'CURE END POSITION X Collect Result_Fill2'\n",
        "end_z_col = 'CURE END POSITION Z Collect Result_Fill2'\n",
        "\n",
        "# 시작 위치와 끝 위치 사이의 거리 계산\n",
        "train_data['CURE_DISTANCE_Fill2'] = np.sqrt(\n",
        "    (train_data[end_x_col] - train_data[start_x_col]) ** 2 +\n",
        "    (train_data[end_z_col] - train_data[start_z_col]) ** 2\n",
        ")\n",
        "\n",
        "test_data['CURE_DISTANCE_Fill2'] = np.sqrt(\n",
        "    (train_data[end_x_col] - train_data[start_x_col]) ** 2 +\n",
        "    (train_data[end_z_col] - train_data[start_z_col]) ** 2\n",
        ")"
      ]
    },
    {
      "cell_type": "code",
      "execution_count": 258,
      "id": "fbe2fc87",
      "metadata": {
        "id": "fbe2fc87"
      },
      "outputs": [],
      "source": [
        "# 제거할 변수 목록\n",
        "columns_to_drop = [\n",
        "    'CURE START POSITION X Collect Result_Dam'\n",
        "    , 'CURE END POSITION X Collect Result_Dam'\n",
        "    , 'CURE END POSITION Z Collect Result_Dam'\n",
        "\n",
        "    , 'CURE START POSITION X Collect Result_Fill2'\n",
        "    , 'CURE START POSITION Z Collect Result_Fill2'\n",
        "    , 'CURE END POSITION X Collect Result_Fill2'\n",
        "    , 'CURE END POSITION Z Collect Result_Fill2'\n",
        "]\n",
        "\n",
        "# 변수 제거\n",
        "train_data.drop(columns=columns_to_drop, inplace=True)\n",
        "test_data.drop(columns=columns_to_drop, inplace=True)"
      ]
    },
    {
      "cell_type": "code",
      "execution_count": 259,
      "id": "2b9efd1a",
      "metadata": {
        "colab": {
          "base_uri": "https://localhost:8080/"
        },
        "id": "2b9efd1a",
        "outputId": "f9975259-a214-48f4-8387-2066dd9df395"
      },
      "outputs": [
        {
          "output_type": "stream",
          "name": "stdout",
          "text": [
            "\n",
            " CURE 포함 변수>\n",
            "CURE SPEED Collect Result_Dam\n",
            "CURE SPEED Collect Result_Fill2\n",
            "CURE STANDBY POSITION Z Collect Result_Fill2\n",
            "CURE_DISTANCE_Dam\n",
            "CURE_DISTANCE_Fill2\n"
          ]
        }
      ],
      "source": [
        "# 'CURE'를 포함하는 열 이름 필터링\n",
        "Process_Desc_col = train_data.filter(like='CURE').columns\n",
        "\n",
        "print(\"\\n CURE 포함 변수>\")\n",
        "for col in Process_Desc_col:\n",
        "    print(col)"
      ]
    },
    {
      "cell_type": "code",
      "execution_count": 260,
      "id": "46e713c2",
      "metadata": {
        "colab": {
          "base_uri": "https://localhost:8080/"
        },
        "id": "46e713c2",
        "outputId": "9f2bf5a0-fe01-4382-a053-4568627f52f2"
      },
      "outputs": [
        {
          "output_type": "stream",
          "name": "stdout",
          "text": [
            "Grouped by: CURE STANDBY POSITION Z Collect Result_Fill2\n",
            "\n",
            "   group  'AdNormal' count     ratio  Total\n",
            "0  (22,)                34  0.072495    469\n",
            "1  (23,)                22  0.107843    204\n",
            "2  (32,)               421  0.085866   4903\n",
            "3  (33,)              1873  0.053622  34930\n"
          ]
        }
      ],
      "source": [
        "summarize_group(train_data, [\n",
        "# 'Dispenser_1'\n",
        "# , 'Dispenser_2'\n",
        "# , 'CURE SPEED Collect Result_Dam'\n",
        "# , 'CURE SPEED Collect Result_Fill2'\n",
        " 'CURE STANDBY POSITION Z Collect Result_Fill2'\n",
        "# , 'CURE_DISTANCE_Dam'\n",
        "# , 'CURE_DISTANCE_Fill2'\n",
        "])"
      ]
    },
    {
      "cell_type": "markdown",
      "id": "cc2b3d80",
      "metadata": {
        "id": "cc2b3d80"
      },
      "source": [
        "'CURE STANDBY POSITION Z Collect Result_Fill2' 변수의 유의미함을 찾을수 x  \n",
        "다른 변수와 연결된만한것도 찾지 못함 -> drop"
      ]
    },
    {
      "cell_type": "code",
      "execution_count": 261,
      "id": "dc313406",
      "metadata": {
        "id": "dc313406"
      },
      "outputs": [],
      "source": [
        "# 제거할 변수 목록\n",
        "columns_to_drop = ['CURE STANDBY POSITION Z Collect Result_Fill2']\n",
        "\n",
        "# 변수 제거\n",
        "train_data.drop(columns=columns_to_drop, inplace=True)\n",
        "test_data.drop(columns=columns_to_drop, inplace=True)"
      ]
    },
    {
      "cell_type": "code",
      "execution_count": 262,
      "id": "50fe7e4f",
      "metadata": {
        "colab": {
          "base_uri": "https://localhost:8080/"
        },
        "id": "50fe7e4f",
        "outputId": "9767758c-e9c2-4f16-fc28-ca6f4cc94adf"
      },
      "outputs": [
        {
          "output_type": "stream",
          "name": "stdout",
          "text": [
            "\n",
            " CURE 포함 변수>\n",
            "CURE SPEED Collect Result_Dam\n",
            "CURE SPEED Collect Result_Fill2\n",
            "CURE_DISTANCE_Dam\n",
            "CURE_DISTANCE_Fill2\n"
          ]
        }
      ],
      "source": [
        "# 'CURE'를 포함하는 열 이름 필터링\n",
        "Process_Desc_col = train_data.filter(like='CURE').columns\n",
        "\n",
        "print(\"\\n CURE 포함 변수>\")\n",
        "for col in Process_Desc_col:\n",
        "    print(col)"
      ]
    },
    {
      "cell_type": "code",
      "execution_count": 263,
      "id": "18af7bfb",
      "metadata": {
        "colab": {
          "base_uri": "https://localhost:8080/"
        },
        "id": "18af7bfb",
        "outputId": "76da61bd-b114-4899-b2a7-78ea4a7bca35"
      },
      "outputs": [
        {
          "output_type": "stream",
          "name": "stdout",
          "text": [
            "Grouped by: Dispenser_1, Dispenser_2, CURE_DISTANCE_Dam, CURE_DISTANCE_Fill2\n",
            "\n",
            "                                          group  'AdNormal' count     ratio  \\\n",
            "0              (0, 0, 720.3061848963953, 780.0)                15  1.000000   \n",
            "1               (0, 0, 790.607993888248, 780.0)                19  1.000000   \n",
            "2              (0, 1, 720.3061848963953, 780.0)               827  0.054645   \n",
            "3  (0, 1, 720.3061848963953, 780.0006410253776)                23  0.070552   \n",
            "4  (0, 1, 720.3061848963953, 780.0775602464155)                 0  0.000000   \n",
            "5               (1, 0, 790.607993888248, 780.0)              1129  0.054418   \n",
            "6   (1, 0, 790.607993888248, 780.0006410253776)               286  0.077591   \n",
            "7   (1, 0, 790.607993888248, 780.0640999302557)                51  0.088235   \n",
            "\n",
            "   Total  \n",
            "0     15  \n",
            "1     19  \n",
            "2  15134  \n",
            "3    326  \n",
            "4      1  \n",
            "5  20747  \n",
            "6   3686  \n",
            "7    578  \n"
          ]
        }
      ],
      "source": [
        "summarize_group(train_data, [\n",
        "'Dispenser_1'\n",
        ", 'Dispenser_2'\n",
        "# , 'CURE SPEED Collect Result_Dam'\n",
        "# , 'CURE SPEED Collect Result_Fill2'\n",
        ", 'CURE_DISTANCE_Dam'\n",
        ", 'CURE_DISTANCE_Fill2'\n",
        "])"
      ]
    },
    {
      "cell_type": "markdown",
      "id": "340dbf40",
      "metadata": {
        "id": "340dbf40"
      },
      "source": [
        "거리의 차이에 따라 ratio 값 변화 크지 x"
      ]
    },
    {
      "cell_type": "code",
      "execution_count": 264,
      "id": "c26ff29b",
      "metadata": {
        "id": "c26ff29b"
      },
      "outputs": [],
      "source": [
        "# 거리 / 속도 -> 시간 파생 변수 생성\n",
        "train_data['CURE_Time_Dam']  = train_data['CURE_DISTANCE_Dam'] / train_data['CURE SPEED Collect Result_Dam']\n",
        "test_data['CURE_Time_Dam']  = test_data['CURE_DISTANCE_Dam'] / test_data['CURE SPEED Collect Result_Dam']\n",
        "\n",
        "train_data['CURE_Time_Fill2']  = train_data['CURE_DISTANCE_Fill2'] / train_data['CURE SPEED Collect Result_Fill2']\n",
        "test_data['CURE_Time_Fill2']  = test_data['CURE_DISTANCE_Fill2'] / test_data['CURE SPEED Collect Result_Fill2']"
      ]
    },
    {
      "cell_type": "code",
      "execution_count": 265,
      "id": "48b4c8c0",
      "metadata": {
        "colab": {
          "base_uri": "https://localhost:8080/"
        },
        "id": "48b4c8c0",
        "outputId": "6c7e5f0d-3ed6-4842-b8fe-252016c2d074"
      },
      "outputs": [
        {
          "output_type": "stream",
          "name": "stdout",
          "text": [
            "\n",
            " CURE 포함 변수>\n",
            "CURE SPEED Collect Result_Dam\n",
            "CURE SPEED Collect Result_Fill2\n",
            "CURE_DISTANCE_Dam\n",
            "CURE_DISTANCE_Fill2\n",
            "CURE_Time_Dam\n",
            "CURE_Time_Fill2\n"
          ]
        }
      ],
      "source": [
        "# 'CURE'를 포함하는 열 이름 필터링\n",
        "Process_Desc_col = train_data.filter(like='CURE').columns\n",
        "\n",
        "print(\"\\n CURE 포함 변수>\")\n",
        "for col in Process_Desc_col:\n",
        "    print(col)"
      ]
    },
    {
      "cell_type": "code",
      "execution_count": 266,
      "id": "4195b534",
      "metadata": {
        "id": "4195b534"
      },
      "outputs": [],
      "source": [
        "# 제거할 변수 목록\n",
        "columns_to_drop = [\n",
        "    'CURE_DISTANCE_Dam'\n",
        "    , 'CURE SPEED Collect Result_Dam'\n",
        "    , 'CURE_DISTANCE_Fill2'\n",
        "    , 'CURE SPEED Collect Result_Fill2'\n",
        "]\n",
        "\n",
        "# 변수 제거\n",
        "train_data.drop(columns=columns_to_drop, inplace=True)\n",
        "test_data.drop(columns=columns_to_drop, inplace=True)"
      ]
    },
    {
      "cell_type": "code",
      "execution_count": 267,
      "id": "2d0840f4",
      "metadata": {
        "colab": {
          "base_uri": "https://localhost:8080/"
        },
        "id": "2d0840f4",
        "outputId": "815bc0f5-9578-4865-b762-b3574cd9b4a2"
      },
      "outputs": [
        {
          "output_type": "stream",
          "name": "stdout",
          "text": [
            "\n",
            " CURE 포함 변수>\n",
            "CURE_Time_Dam\n",
            "CURE_Time_Fill2\n"
          ]
        }
      ],
      "source": [
        "# 'CURE'를 포함하는 열 이름 필터링\n",
        "Process_Desc_col = train_data.filter(like='CURE').columns\n",
        "\n",
        "print(\"\\n CURE 포함 변수>\")\n",
        "for col in Process_Desc_col:\n",
        "    print(col)"
      ]
    },
    {
      "cell_type": "markdown",
      "id": "8caac149",
      "metadata": {
        "id": "8caac149"
      },
      "source": [
        "### 2. HEAD NORMAL COORDINATE"
      ]
    },
    {
      "cell_type": "code",
      "execution_count": 268,
      "id": "39a38fc8",
      "metadata": {
        "colab": {
          "base_uri": "https://localhost:8080/"
        },
        "id": "39a38fc8",
        "outputId": "42fb340b-e6ba-487a-c860-a5cd5b007a0f"
      },
      "outputs": [
        {
          "output_type": "stream",
          "name": "stdout",
          "text": [
            "\n",
            " HEAD NORMAL COORDINATE 포함 변수>\n",
            "HEAD NORMAL COORDINATE X AXIS(Stage1) Collect Result_Dam\n",
            "HEAD NORMAL COORDINATE X AXIS(Stage2) Collect Result_Dam\n",
            "HEAD NORMAL COORDINATE X AXIS(Stage3) Collect Result_Dam\n",
            "HEAD NORMAL COORDINATE Y AXIS(Stage1) Collect Result_Dam\n",
            "HEAD NORMAL COORDINATE Y AXIS(Stage2) Collect Result_Dam\n",
            "HEAD NORMAL COORDINATE Y AXIS(Stage3) Collect Result_Dam\n",
            "HEAD NORMAL COORDINATE Z AXIS(Stage1) Collect Result_Dam\n",
            "HEAD NORMAL COORDINATE Z AXIS(Stage2) Collect Result_Dam\n",
            "HEAD NORMAL COORDINATE Z AXIS(Stage3) Collect Result_Dam\n",
            "HEAD NORMAL COORDINATE X AXIS(Stage1) Collect Result_Fill1\n",
            "HEAD NORMAL COORDINATE X AXIS(Stage2) Collect Result_Fill1\n",
            "HEAD NORMAL COORDINATE X AXIS(Stage3) Collect Result_Fill1\n",
            "HEAD NORMAL COORDINATE Y AXIS(Stage1) Collect Result_Fill1\n",
            "HEAD NORMAL COORDINATE Y AXIS(Stage2) Collect Result_Fill1\n",
            "HEAD NORMAL COORDINATE Y AXIS(Stage3) Collect Result_Fill1\n",
            "HEAD NORMAL COORDINATE Z AXIS(Stage1) Collect Result_Fill1\n",
            "HEAD NORMAL COORDINATE Z AXIS(Stage2) Collect Result_Fill1\n",
            "HEAD NORMAL COORDINATE Z AXIS(Stage3) Collect Result_Fill1\n",
            "HEAD NORMAL COORDINATE X AXIS(Stage1) Collect Result_Fill2\n",
            "HEAD NORMAL COORDINATE X AXIS(Stage2) Collect Result_Fill2\n",
            "HEAD NORMAL COORDINATE X AXIS(Stage3) Collect Result_Fill2\n",
            "HEAD NORMAL COORDINATE Y AXIS(Stage1) Collect Result_Fill2\n",
            "HEAD NORMAL COORDINATE Y AXIS(Stage2) Collect Result_Fill2\n",
            "HEAD NORMAL COORDINATE Y AXIS(Stage3) Collect Result_Fill2\n",
            "HEAD NORMAL COORDINATE Z AXIS(Stage1) Collect Result_Fill2\n",
            "HEAD NORMAL COORDINATE Z AXIS(Stage2) Collect Result_Fill2\n",
            "HEAD NORMAL COORDINATE Z AXIS(Stage3) Collect Result_Fill2\n"
          ]
        }
      ],
      "source": [
        "# 'HEAD NORMAL COORDINATE'를 포함하는 열 이름 필터링\n",
        "Process_Desc_col = train_data.filter(like='HEAD NORMAL COORDINATE').columns\n",
        "\n",
        "print(\"\\n HEAD NORMAL COORDINATE 포함 변수>\")\n",
        "for col in Process_Desc_col:\n",
        "    print(col)"
      ]
    },
    {
      "cell_type": "code",
      "execution_count": 269,
      "id": "acc3e7ed",
      "metadata": {
        "id": "acc3e7ed"
      },
      "outputs": [],
      "source": [
        "# 각 스테이지의 좌표 열 정의\n",
        "stage1_cols = ['HEAD NORMAL COORDINATE X AXIS(Stage1) Collect Result_Dam',\n",
        "               'HEAD NORMAL COORDINATE Y AXIS(Stage1) Collect Result_Dam',\n",
        "               'HEAD NORMAL COORDINATE Z AXIS(Stage1) Collect Result_Dam']\n",
        "\n",
        "stage2_cols = ['HEAD NORMAL COORDINATE X AXIS(Stage2) Collect Result_Dam',\n",
        "               'HEAD NORMAL COORDINATE Y AXIS(Stage2) Collect Result_Dam',\n",
        "               'HEAD NORMAL COORDINATE Z AXIS(Stage2) Collect Result_Dam']\n",
        "\n",
        "stage3_cols = ['HEAD NORMAL COORDINATE X AXIS(Stage3) Collect Result_Dam',\n",
        "               'HEAD NORMAL COORDINATE Y AXIS(Stage3) Collect Result_Dam',\n",
        "               'HEAD NORMAL COORDINATE Z AXIS(Stage3) Collect Result_Dam']\n",
        "\n",
        "# 거리 계산 함수\n",
        "def calculate_distances(data):\n",
        "    data['HEAD NORMAL DISTANCE_STAGE1_STAGE2_Dam'] = np.sqrt(\n",
        "        (data[stage2_cols[0]] - data[stage1_cols[0]]) ** 2 +\n",
        "        (data[stage2_cols[1]] - data[stage1_cols[1]]) ** 2 +\n",
        "        (data[stage2_cols[2]] - data[stage1_cols[2]]) ** 2\n",
        "    )\n",
        "\n",
        "    data['HEAD NORMAL DISTANCE_STAGE2_STAGE3_Dam'] = np.sqrt(\n",
        "        (data[stage3_cols[0]] - data[stage2_cols[0]]) ** 2 +\n",
        "        (data[stage3_cols[1]] - data[stage2_cols[1]]) ** 2 +\n",
        "        (data[stage3_cols[2]] - data[stage2_cols[2]]) ** 2\n",
        "    )\n",
        "\n",
        "    data['HEAD NORMAL DISTANCE_STAGE1_STAGE3_Dam'] = np.sqrt(\n",
        "        (data[stage3_cols[0]] - data[stage1_cols[0]]) ** 2 +\n",
        "        (data[stage3_cols[1]] - data[stage1_cols[1]]) ** 2 +\n",
        "        (data[stage3_cols[2]] - data[stage1_cols[2]]) ** 2\n",
        "    )\n",
        "\n",
        "    return data\n",
        "\n",
        "# train_data에 적용\n",
        "train_data = calculate_distances(train_data)\n",
        "\n",
        "# test_data에 적용\n",
        "test_data = calculate_distances(test_data)"
      ]
    },
    {
      "cell_type": "code",
      "execution_count": 270,
      "id": "287f0c97",
      "metadata": {
        "id": "287f0c97"
      },
      "outputs": [],
      "source": [
        "# 필요한 열 이름\n",
        "stage1_stage2_col = 'HEAD NORMAL DISTANCE_STAGE1_STAGE2_Dam'\n",
        "stage2_stage3_col = 'HEAD NORMAL DISTANCE_STAGE2_STAGE3_Dam'\n",
        "stage1_stage3_col = 'HEAD NORMAL DISTANCE_STAGE1_STAGE3_Dam'\n",
        "\n",
        "# 삼각형의 넓이와 높이를 계산하는 함수\n",
        "def calculate_triangle_features(data):\n",
        "    a = data[stage1_stage2_col]\n",
        "    b = data[stage2_stage3_col]\n",
        "    c = data[stage1_stage3_col]\n",
        "\n",
        "    # 헤론의 공식에 따른 삼각형의 넓이 계산\n",
        "    s = (a + b + c) / 2\n",
        "    area = np.sqrt(s * (s - a) * (s - b) * (s - c))\n",
        "\n",
        "    # 높이 계산 (밑변을 c로 가정)\n",
        "    height = (2 * area) / c\n",
        "\n",
        "    # 결과를 새로운 열에 저장\n",
        "    # data['HEAD NORMAL DISTANCE_TRIANGLE_area_Dam'] = area\n",
        "    data['HEAD NORMAL DISTANCE_TRIANGLE_height_Dam'] = height\n",
        "\n",
        "    return data\n",
        "\n",
        "# train_data에 적용\n",
        "train_data = calculate_triangle_features(train_data)\n",
        "\n",
        "# test_data에 적용\n",
        "test_data = calculate_triangle_features(test_data)"
      ]
    },
    {
      "cell_type": "code",
      "execution_count": 271,
      "id": "efb87f49",
      "metadata": {
        "id": "efb87f49"
      },
      "outputs": [],
      "source": [
        "# 제거할 변수 목록\n",
        "columns_to_drop = [\n",
        "    'HEAD NORMAL COORDINATE X AXIS(Stage1) Collect Result_Dam'\n",
        "    , 'HEAD NORMAL COORDINATE Y AXIS(Stage1) Collect Result_Dam'\n",
        "    , 'HEAD NORMAL COORDINATE Z AXIS(Stage1) Collect Result_Dam'\n",
        "\n",
        "    , 'HEAD NORMAL COORDINATE X AXIS(Stage2) Collect Result_Dam'\n",
        "    , 'HEAD NORMAL COORDINATE Y AXIS(Stage2) Collect Result_Dam'\n",
        "    , 'HEAD NORMAL COORDINATE Z AXIS(Stage2) Collect Result_Dam'\n",
        "\n",
        "    , 'HEAD NORMAL COORDINATE X AXIS(Stage3) Collect Result_Dam'\n",
        "    , 'HEAD NORMAL COORDINATE Y AXIS(Stage3) Collect Result_Dam'\n",
        "    , 'HEAD NORMAL COORDINATE Z AXIS(Stage3) Collect Result_Dam'\n",
        "]\n",
        "\n",
        "# 변수 제거\n",
        "train_data.drop(columns=columns_to_drop, inplace=True)\n",
        "test_data.drop(columns=columns_to_drop, inplace=True)"
      ]
    },
    {
      "cell_type": "code",
      "execution_count": 272,
      "id": "dd662cf0",
      "metadata": {
        "id": "dd662cf0"
      },
      "outputs": [],
      "source": [
        "# 각 스테이지의 좌표 열 정의\n",
        "stage1_cols = ['HEAD NORMAL COORDINATE X AXIS(Stage1) Collect Result_Fill1',\n",
        "               'HEAD NORMAL COORDINATE Y AXIS(Stage1) Collect Result_Fill1',\n",
        "               'HEAD NORMAL COORDINATE Z AXIS(Stage1) Collect Result_Fill1']\n",
        "\n",
        "stage2_cols = ['HEAD NORMAL COORDINATE X AXIS(Stage2) Collect Result_Fill1',\n",
        "               'HEAD NORMAL COORDINATE Y AXIS(Stage2) Collect Result_Fill1',\n",
        "               'HEAD NORMAL COORDINATE Z AXIS(Stage2) Collect Result_Fill1']\n",
        "\n",
        "stage3_cols = ['HEAD NORMAL COORDINATE X AXIS(Stage3) Collect Result_Fill1',\n",
        "               'HEAD NORMAL COORDINATE Y AXIS(Stage3) Collect Result_Fill1',\n",
        "               'HEAD NORMAL COORDINATE Z AXIS(Stage3) Collect Result_Fill1']\n",
        "\n",
        "# 거리 계산 함수\n",
        "def calculate_distances(data):\n",
        "    data['HEAD NORMAL DISTANCE_STAGE1_STAGE2_Fill1'] = np.sqrt(\n",
        "        (data[stage2_cols[0]] - data[stage1_cols[0]]) ** 2 +\n",
        "        (data[stage2_cols[1]] - data[stage1_cols[1]]) ** 2 +\n",
        "        (data[stage2_cols[2]] - data[stage1_cols[2]]) ** 2\n",
        "    )\n",
        "\n",
        "    data['HEAD NORMAL DISTANCE_STAGE2_STAGE3_Fill1'] = np.sqrt(\n",
        "        (data[stage3_cols[0]] - data[stage2_cols[0]]) ** 2 +\n",
        "        (data[stage3_cols[1]] - data[stage2_cols[1]]) ** 2 +\n",
        "        (data[stage3_cols[2]] - data[stage2_cols[2]]) ** 2\n",
        "    )\n",
        "\n",
        "    data['HEAD NORMAL DISTANCE_STAGE1_STAGE3_Fill1'] = np.sqrt(\n",
        "        (data[stage3_cols[0]] - data[stage1_cols[0]]) ** 2 +\n",
        "        (data[stage3_cols[1]] - data[stage1_cols[1]]) ** 2 +\n",
        "        (data[stage3_cols[2]] - data[stage1_cols[2]]) ** 2\n",
        "    )\n",
        "\n",
        "    return data\n",
        "\n",
        "# train_data에 적용\n",
        "train_data = calculate_distances(train_data)\n",
        "\n",
        "# test_data에 적용\n",
        "test_data = calculate_distances(test_data)"
      ]
    },
    {
      "cell_type": "code",
      "execution_count": 273,
      "id": "f9fb0580",
      "metadata": {
        "id": "f9fb0580"
      },
      "outputs": [],
      "source": [
        "# 필요한 열 이름\n",
        "stage1_stage2_col = 'HEAD NORMAL DISTANCE_STAGE1_STAGE2_Fill1'\n",
        "stage2_stage3_col = 'HEAD NORMAL DISTANCE_STAGE2_STAGE3_Fill1'\n",
        "stage1_stage3_col = 'HEAD NORMAL DISTANCE_STAGE1_STAGE3_Fill1'\n",
        "\n",
        "# 삼각형의 넓이와 높이를 계산하는 함수\n",
        "def calculate_triangle_features(data):\n",
        "    a = data[stage1_stage2_col]\n",
        "    b = data[stage2_stage3_col]\n",
        "    c = data[stage1_stage3_col]\n",
        "\n",
        "    # 헤론의 공식에 따른 삼각형의 넓이 계산\n",
        "    s = (a + b + c) / 2\n",
        "    area = np.sqrt(s * (s - a) * (s - b) * (s - c))\n",
        "\n",
        "    # 높이 계산 (밑변을 c로 가정)\n",
        "    height = (2 * area) / c\n",
        "\n",
        "    # 결과를 새로운 열에 저장\n",
        "    # data['HEAD NORMAL DISTANCE_TRIANGLE_area_Fill1'] = area\n",
        "    data['HEAD NORMAL DISTANCE_TRIANGLE_height_Fill1'] = height\n",
        "\n",
        "    return data\n",
        "\n",
        "# train_data에 적용\n",
        "train_data = calculate_triangle_features(train_data)\n",
        "\n",
        "# test_data에 적용\n",
        "test_data = calculate_triangle_features(test_data)"
      ]
    },
    {
      "cell_type": "code",
      "execution_count": 274,
      "id": "0df37c1f",
      "metadata": {
        "id": "0df37c1f"
      },
      "outputs": [],
      "source": [
        "# 제거할 변수 목록\n",
        "columns_to_drop = [\n",
        "    'HEAD NORMAL COORDINATE X AXIS(Stage1) Collect Result_Fill1'\n",
        "    , 'HEAD NORMAL COORDINATE Y AXIS(Stage1) Collect Result_Fill1'\n",
        "    , 'HEAD NORMAL COORDINATE Z AXIS(Stage1) Collect Result_Fill1'\n",
        "\n",
        "    , 'HEAD NORMAL COORDINATE X AXIS(Stage2) Collect Result_Fill1'\n",
        "    , 'HEAD NORMAL COORDINATE Y AXIS(Stage2) Collect Result_Fill1'\n",
        "    , 'HEAD NORMAL COORDINATE Z AXIS(Stage2) Collect Result_Fill1'\n",
        "\n",
        "    , 'HEAD NORMAL COORDINATE X AXIS(Stage3) Collect Result_Fill1'\n",
        "    , 'HEAD NORMAL COORDINATE Y AXIS(Stage3) Collect Result_Fill1'\n",
        "    , 'HEAD NORMAL COORDINATE Z AXIS(Stage3) Collect Result_Fill1'\n",
        "]\n",
        "\n",
        "# 변수 제거\n",
        "train_data.drop(columns=columns_to_drop, inplace=True)\n",
        "test_data.drop(columns=columns_to_drop, inplace=True)"
      ]
    },
    {
      "cell_type": "code",
      "execution_count": 275,
      "id": "ac6abb70",
      "metadata": {
        "id": "ac6abb70"
      },
      "outputs": [],
      "source": [
        "import numpy as np\n",
        "\n",
        "# 각 스테이지의 좌표 열 정의\n",
        "stage1_cols = ['HEAD NORMAL COORDINATE X AXIS(Stage1) Collect Result_Fill2',\n",
        "               'HEAD NORMAL COORDINATE Y AXIS(Stage1) Collect Result_Fill2',\n",
        "               'HEAD NORMAL COORDINATE Z AXIS(Stage1) Collect Result_Fill2']\n",
        "\n",
        "stage2_cols = ['HEAD NORMAL COORDINATE X AXIS(Stage2) Collect Result_Fill2',\n",
        "               'HEAD NORMAL COORDINATE Y AXIS(Stage2) Collect Result_Fill2',\n",
        "               'HEAD NORMAL COORDINATE Z AXIS(Stage2) Collect Result_Fill2']\n",
        "\n",
        "stage3_cols = ['HEAD NORMAL COORDINATE X AXIS(Stage3) Collect Result_Fill2',\n",
        "               'HEAD NORMAL COORDINATE Y AXIS(Stage3) Collect Result_Fill2',\n",
        "               'HEAD NORMAL COORDINATE Z AXIS(Stage3) Collect Result_Fill2']\n",
        "\n",
        "# 거리 계산 함수\n",
        "def calculate_distances(data):\n",
        "    data['HEAD NORMAL DISTANCE_STAGE1_STAGE2_Fill2'] = np.sqrt(\n",
        "        (data[stage2_cols[0]] - data[stage1_cols[0]]) ** 2 +\n",
        "        (data[stage2_cols[1]] - data[stage1_cols[1]]) ** 2 +\n",
        "        (data[stage2_cols[2]] - data[stage1_cols[2]]) ** 2\n",
        "    )\n",
        "\n",
        "    data['HEAD NORMAL DISTANCE_STAGE2_STAGE3_Fill2'] = np.sqrt(\n",
        "        (data[stage3_cols[0]] - data[stage2_cols[0]]) ** 2 +\n",
        "        (data[stage3_cols[1]] - data[stage2_cols[1]]) ** 2 +\n",
        "        (data[stage3_cols[2]] - data[stage2_cols[2]]) ** 2\n",
        "    )\n",
        "\n",
        "    data['HEAD NORMAL DISTANCE_STAGE1_STAGE3_Fill2'] = np.sqrt(\n",
        "        (data[stage3_cols[0]] - data[stage1_cols[0]]) ** 2 +\n",
        "        (data[stage3_cols[1]] - data[stage1_cols[1]]) ** 2 +\n",
        "        (data[stage3_cols[2]] - data[stage1_cols[2]]) ** 2\n",
        "    )\n",
        "\n",
        "    return data\n",
        "\n",
        "# train_data에 적용\n",
        "train_data = calculate_distances(train_data)\n",
        "\n",
        "# test_data에 적용\n",
        "test_data = calculate_distances(test_data)"
      ]
    },
    {
      "cell_type": "code",
      "execution_count": 276,
      "id": "4c4cf668",
      "metadata": {
        "id": "4c4cf668"
      },
      "outputs": [],
      "source": [
        "# 제거할 변수 목록\n",
        "columns_to_drop = [\n",
        "    'HEAD NORMAL COORDINATE X AXIS(Stage1) Collect Result_Fill2'\n",
        "    , 'HEAD NORMAL COORDINATE Y AXIS(Stage1) Collect Result_Fill2'\n",
        "    , 'HEAD NORMAL COORDINATE Z AXIS(Stage1) Collect Result_Fill2'\n",
        "\n",
        "    , 'HEAD NORMAL COORDINATE X AXIS(Stage2) Collect Result_Fill2'\n",
        "    , 'HEAD NORMAL COORDINATE Y AXIS(Stage2) Collect Result_Fill2'\n",
        "    , 'HEAD NORMAL COORDINATE Z AXIS(Stage2) Collect Result_Fill2'\n",
        "\n",
        "    , 'HEAD NORMAL COORDINATE X AXIS(Stage3) Collect Result_Fill2'\n",
        "    , 'HEAD NORMAL COORDINATE Y AXIS(Stage3) Collect Result_Fill2'\n",
        "    , 'HEAD NORMAL COORDINATE Z AXIS(Stage3) Collect Result_Fill2'\n",
        "]\n",
        "\n",
        "# 변수 제거\n",
        "train_data.drop(columns=columns_to_drop, inplace=True)\n",
        "test_data.drop(columns=columns_to_drop, inplace=True)"
      ]
    },
    {
      "cell_type": "code",
      "execution_count": 277,
      "id": "9688a787",
      "metadata": {
        "colab": {
          "base_uri": "https://localhost:8080/"
        },
        "id": "9688a787",
        "outputId": "b6512866-3fa0-437e-86c1-fe9cc7618363"
      },
      "outputs": [
        {
          "output_type": "stream",
          "name": "stdout",
          "text": [
            "\n",
            " HEAD NORMAL 포함 변수>\n",
            "HEAD NORMAL DISTANCE_STAGE1_STAGE2_Dam\n",
            "HEAD NORMAL DISTANCE_STAGE2_STAGE3_Dam\n",
            "HEAD NORMAL DISTANCE_STAGE1_STAGE3_Dam\n",
            "HEAD NORMAL DISTANCE_TRIANGLE_height_Dam\n",
            "HEAD NORMAL DISTANCE_STAGE1_STAGE2_Fill1\n",
            "HEAD NORMAL DISTANCE_STAGE2_STAGE3_Fill1\n",
            "HEAD NORMAL DISTANCE_STAGE1_STAGE3_Fill1\n",
            "HEAD NORMAL DISTANCE_TRIANGLE_height_Fill1\n",
            "HEAD NORMAL DISTANCE_STAGE1_STAGE2_Fill2\n",
            "HEAD NORMAL DISTANCE_STAGE2_STAGE3_Fill2\n",
            "HEAD NORMAL DISTANCE_STAGE1_STAGE3_Fill2\n"
          ]
        }
      ],
      "source": [
        "# 'HEAD NORMAL'를 포함하는 열 이름 필터링\n",
        "Process_Desc_col = train_data.filter(like='HEAD NORMAL').columns\n",
        "\n",
        "print(\"\\n HEAD NORMAL 포함 변수>\")\n",
        "for col in Process_Desc_col:\n",
        "    print(col)"
      ]
    },
    {
      "cell_type": "code",
      "execution_count": 278,
      "id": "47c86049",
      "metadata": {
        "id": "47c86049"
      },
      "outputs": [],
      "source": [
        "# 삭제할 열 이름 정의\n",
        "columns_to_drop = [\n",
        "    'HEAD NORMAL DISTANCE_STAGE1_STAGE2_Dam'\n",
        "    , 'HEAD NORMAL DISTANCE_STAGE2_STAGE3_Dam'\n",
        "    # , 'HEAD NORMAL DISTANCE_STAGE1_STAGE3_Dam'\n",
        "\n",
        "    , 'HEAD NORMAL DISTANCE_STAGE1_STAGE2_Fill1'\n",
        "    , 'HEAD NORMAL DISTANCE_STAGE2_STAGE3_Fill1'\n",
        "    # , 'HEAD NORMAL DISTANCE_STAGE1_STAGE3_Fill1'\n",
        "\n",
        "    # , 'HEAD NORMAL DISTANCE_STAGE1_STAGE2_Fill2'\n",
        "    # , 'HEAD NORMAL DISTANCE_STAGE2_STAGE3_Fill2'\n",
        "    # , 'HEAD NORMAL DISTANCE_STAGE1_STAGE3_Fill2'\n",
        "]\n",
        "\n",
        "# train_data에서 열 삭제\n",
        "train_data = train_data.drop(columns=columns_to_drop)\n",
        "\n",
        "# test_data에서 열 삭제\n",
        "test_data = test_data.drop(columns=columns_to_drop)"
      ]
    },
    {
      "cell_type": "code",
      "execution_count": 279,
      "id": "0fa789f2",
      "metadata": {
        "colab": {
          "base_uri": "https://localhost:8080/"
        },
        "id": "0fa789f2",
        "outputId": "b79d9854-0557-48b7-abe3-0f86a4321ab4"
      },
      "outputs": [
        {
          "output_type": "stream",
          "name": "stdout",
          "text": [
            "\n",
            " HEAD NORMAL 포함 변수>\n",
            "HEAD NORMAL DISTANCE_STAGE1_STAGE3_Dam\n",
            "HEAD NORMAL DISTANCE_TRIANGLE_height_Dam\n",
            "HEAD NORMAL DISTANCE_STAGE1_STAGE3_Fill1\n",
            "HEAD NORMAL DISTANCE_TRIANGLE_height_Fill1\n",
            "HEAD NORMAL DISTANCE_STAGE1_STAGE2_Fill2\n",
            "HEAD NORMAL DISTANCE_STAGE2_STAGE3_Fill2\n",
            "HEAD NORMAL DISTANCE_STAGE1_STAGE3_Fill2\n"
          ]
        }
      ],
      "source": [
        "# 'HEAD NORMAL'를 포함하는 열 이름 필터링\n",
        "Process_Desc_col = train_data.filter(like='HEAD NORMAL').columns\n",
        "\n",
        "print(\"\\n HEAD NORMAL 포함 변수>\")\n",
        "for col in Process_Desc_col:\n",
        "    print(col)"
      ]
    },
    {
      "cell_type": "markdown",
      "id": "c333a2e0",
      "metadata": {
        "id": "c333a2e0"
      },
      "source": [
        "### 3. RESIN(처리x)"
      ]
    },
    {
      "cell_type": "code",
      "execution_count": 280,
      "id": "91c64cbe",
      "metadata": {
        "colab": {
          "base_uri": "https://localhost:8080/"
        },
        "id": "91c64cbe",
        "outputId": "f5eb4ebf-d105-4fc1-a811-2cd07f84eec9"
      },
      "outputs": [
        {
          "output_type": "stream",
          "name": "stdout",
          "text": [
            "\n",
            "'RESIN' 또는 'Dispense Volume' 포함 변수>\n",
            "DISCHARGED SPEED OF RESIN Collect Result_Dam\n",
            "DISCHARGED TIME OF RESIN(Stage1) Collect Result_Dam\n",
            "DISCHARGED TIME OF RESIN(Stage2) Collect Result_Dam\n",
            "DISCHARGED TIME OF RESIN(Stage3) Collect Result_Dam\n",
            "Dispense Volume(Stage1) Collect Result_Dam\n",
            "Dispense Volume(Stage2) Collect Result_Dam\n",
            "Dispense Volume(Stage3) Collect Result_Dam\n",
            "DISCHARGED SPEED OF RESIN Collect Result_Fill1\n",
            "DISCHARGED TIME OF RESIN(Stage1) Collect Result_Fill1\n",
            "DISCHARGED TIME OF RESIN(Stage2) Collect Result_Fill1\n",
            "DISCHARGED TIME OF RESIN(Stage3) Collect Result_Fill1\n",
            "Dispense Volume(Stage1) Collect Result_Fill1\n",
            "Dispense Volume(Stage2) Collect Result_Fill1\n",
            "Dispense Volume(Stage3) Collect Result_Fill1\n"
          ]
        }
      ],
      "source": [
        "# 'RESIN' 또는 'Dispense Volume'을 포함하는 열 이름 필터링\n",
        "Process_Desc_col = train_data.filter(regex='RESIN|Dispense Volume').columns\n",
        "\n",
        "print(\"\\n'RESIN' 또는 'Dispense Volume' 포함 변수>\")\n",
        "for col in Process_Desc_col:\n",
        "    print(col)"
      ]
    },
    {
      "cell_type": "code",
      "execution_count": 281,
      "id": "4652063e",
      "metadata": {
        "colab": {
          "base_uri": "https://localhost:8080/"
        },
        "id": "4652063e",
        "outputId": "de15779d-ce0f-477c-bf8e-abde8c35f49b"
      },
      "outputs": [
        {
          "output_type": "stream",
          "name": "stdout",
          "text": [
            "Grouped by: Dispense Volume(Stage1) Collect Result_Dam, Dispense Volume(Stage2) Collect Result_Dam, Dispense Volume(Stage3) Collect Result_Dam\n",
            "\n",
            "                  group  'AdNormal' count     ratio  Total\n",
            "0    (0.67, 0.26, 1.49)                 8  0.075472    106\n",
            "1    (0.67, 0.27, 1.49)               277  0.086293   3210\n",
            "2    (0.67, 0.28, 1.49)                 0  0.000000      2\n",
            "3    (0.67, 0.33, 1.49)                51  0.099415    513\n",
            "4    (0.67, 0.34, 1.49)               467  0.082276   5676\n",
            "..                  ...               ...       ...    ...\n",
            "155  (1.63, 0.92, 1.49)                41  0.048810    840\n",
            "156  (1.63, 0.93, 1.49)                46  0.080844    569\n",
            "157  (1.63, 0.94, 1.49)                34  0.068273    498\n",
            "158  (2.34, 0.71, 1.49)                 0  0.000000      1\n",
            "159  (2.34, 0.72, 1.49)                 0  0.000000      3\n",
            "\n",
            "[160 rows x 4 columns]\n"
          ]
        }
      ],
      "source": [
        "summarize_group(train_data, [\n",
        "# 'Dispenser_1'\n",
        "# , 'Dispenser_2'\n",
        "# , 'DISCHARGED SPEED OF RESIN Collect Result_Dam'\n",
        "# , 'DISCHARGED TIME OF RESIN(Stage1) Collect Result_Dam'\n",
        "# , 'DISCHARGED TIME OF RESIN(Stage2) Collect Result_Dam'\n",
        "# , 'DISCHARGED TIME OF RESIN(Stage3) Collect Result_Dam'\n",
        " 'Dispense Volume(Stage1) Collect Result_Dam'\n",
        ", 'Dispense Volume(Stage2) Collect Result_Dam'\n",
        ", 'Dispense Volume(Stage3) Collect Result_Dam'\n",
        "# , 'DISCHARGED SPEED OF RESIN Collect Result_Fill1'\n",
        "# , 'DISCHARGED TIME OF RESIN(Stage1) Collect Result_Fill1'\n",
        "# , 'DISCHARGED TIME OF RESIN(Stage2) Collect Result_Fill1'\n",
        "# , 'DISCHARGED TIME OF RESIN(Stage3) Collect Result_Fill1'\n",
        "# , 'Dispense Volume(Stage1) Collect Result_Fill1'\n",
        "# , 'Dispense Volume(Stage2) Collect Result_Fill1'\n",
        "# , 'Dispense Volume(Stage3) Collect Result_Fill1'\n",
        "])"
      ]
    },
    {
      "cell_type": "code",
      "execution_count": 282,
      "id": "b1d5d93e",
      "metadata": {
        "id": "b1d5d93e"
      },
      "outputs": [],
      "source": [
        "# # 파생 변수 생성 함수\n",
        "# def create_time_speed_product(df):\n",
        "#     stages = ['Stage1', 'Stage2', 'Stage3']\n",
        "#     for stage in stages:\n",
        "#         time_col = f'DISCHARGED TIME OF RESIN({stage}) Collect Result_Dam'\n",
        "#         speed_col = 'DISCHARGED SPEED OF RESIN Collect Result_Dam'\n",
        "#         new_col_name = f'RESIN Time_x_Speed_{stage}_Dam'\n",
        "#         df[new_col_name] = df[time_col] * df[speed_col]\n",
        "\n",
        "# # 함수 적용\n",
        "# create_time_speed_product(train_data)\n",
        "# create_time_speed_product(test_data)"
      ]
    },
    {
      "cell_type": "code",
      "execution_count": 283,
      "id": "0ebb3079",
      "metadata": {
        "id": "0ebb3079"
      },
      "outputs": [],
      "source": [
        "# summarize_group(train_data, [\n",
        "# 'Dispenser_1'\n",
        "# , 'Dispenser_2'\n",
        "# , 'DISCHARGED SPEED OF RESIN Collect Result_Dam'\n",
        "\n",
        "# ])"
      ]
    },
    {
      "cell_type": "code",
      "execution_count": 284,
      "id": "dd57994f",
      "metadata": {
        "id": "dd57994f"
      },
      "outputs": [],
      "source": [
        "# # 파생 변수 생성 함수\n",
        "# def create_volume_time_ratio(df):\n",
        "#     stages = ['Stage1', 'Stage2', 'Stage3']\n",
        "#     for stage in stages:\n",
        "#         time_col = f'DISCHARGED TIME OF RESIN({stage}) Collect Result_Dam'\n",
        "#         volume_col = f'Dispense Volume({stage}) Collect Result_Dam'\n",
        "#         new_col_name = f'RESIN Volume_Time_Ratio_{stage}_Dam'\n",
        "#         df[new_col_name] = df[volume_col] / df[time_col]\n",
        "\n",
        "# # 함수 적용\n",
        "# create_volume_time_ratio(train_data)\n",
        "# create_volume_time_ratio(test_data)"
      ]
    },
    {
      "cell_type": "code",
      "execution_count": 285,
      "id": "2b42b1b4",
      "metadata": {
        "id": "2b42b1b4"
      },
      "outputs": [],
      "source": [
        "# # 출력 옵션을 설정\n",
        "# pd.set_option('display.max_rows', None)\n",
        "\n",
        "\n",
        "# # 출력 옵션을 원래대로\n",
        "# pd.reset_option('display.max_rows')"
      ]
    },
    {
      "cell_type": "code",
      "execution_count": 286,
      "id": "9df4ff2f",
      "metadata": {
        "id": "9df4ff2f"
      },
      "outputs": [],
      "source": [
        "# summarize_group(train_data, [\n",
        "# 'Dispenser_1'\n",
        "# , 'Dispenser_2'\n",
        "# , 'DISCHARGED SPEED OF RESIN Collect Result_Dam'\n",
        "# , 'DISCHARGED TIME OF RESIN(Stage1) Collect Result_Dam'\n",
        "# , 'DISCHARGED TIME OF RESIN(Stage2) Collect Result_Dam'\n",
        "# , 'DISCHARGED TIME OF RESIN(Stage3) Collect Result_Dam'\n",
        "# , 'Dispense Volume(Stage1) Collect Result_Dam'\n",
        "# , 'Dispense Volume(Stage2) Collect Result_Dam'\n",
        "# , 'Dispense Volume(Stage3) Collect Result_Dam'\n",
        "# # , 'DISCHARGED SPEED OF RESIN Collect Result_Fill1'\n",
        "# # , 'DISCHARGED TIME OF RESIN(Stage1) Collect Result_Fill1'\n",
        "# # , 'DISCHARGED TIME OF RESIN(Stage2) Collect Result_Fill1'\n",
        "# # , 'DISCHARGED TIME OF RESIN(Stage3) Collect Result_Fill1'\n",
        "# # , 'Dispense Volume(Stage1) Collect Result_Fill1'\n",
        "# # , 'Dispense Volume(Stage2) Collect Result_Fill1'\n",
        "# # , 'Dispense Volume(Stage3) Collect Result_Fill1'\n",
        "# # , 'RESIN Time_x_Speed_Stage1_Dam'\n",
        "# # , 'RESIN Time_x_Speed_Stage2_Dam'\n",
        "# # , 'RESIN Time_x_Speed_Stage3_Dam'\n",
        "# #  'RESIN Volume_Time_Ratio_Stage1_Dam'\n",
        "# # , 'RESIN Volume_Time_Ratio_Stage2_Dam'\n",
        "# # , 'RESIN Volume_Time_Ratio_Stage3_Dam'\n",
        "# ])"
      ]
    },
    {
      "cell_type": "code",
      "execution_count": 287,
      "id": "f6643f95",
      "metadata": {
        "id": "f6643f95"
      },
      "outputs": [],
      "source": [
        "# # 'RESIN' 또는 'Dispense Volume'을 포함하는 열 이름 필터링\n",
        "# Process_Desc_col = train_data.filter(regex='RESIN|Dispense Volume').columns\n",
        "\n",
        "# print(\"\\n'RESIN' 또는 'Dispense Volume' 포함 변수>\")\n",
        "# for col in Process_Desc_col:\n",
        "#     print(col)"
      ]
    },
    {
      "cell_type": "markdown",
      "id": "81ac6aad",
      "metadata": {
        "id": "81ac6aad"
      },
      "source": [
        "### 4. Distance Speed Collect Result_Dam"
      ]
    },
    {
      "cell_type": "markdown",
      "id": "14f6a2ba",
      "metadata": {
        "id": "14f6a2ba"
      },
      "source": [
        "Dam 공정의 Circle, Line 길이 변수들 처리"
      ]
    },
    {
      "cell_type": "code",
      "execution_count": 288,
      "id": "8f1ca6d9",
      "metadata": {
        "colab": {
          "base_uri": "https://localhost:8080/"
        },
        "id": "8f1ca6d9",
        "outputId": "f7d6c14c-a828-4b16-ec31-307ea97e8c56"
      },
      "outputs": [
        {
          "output_type": "stream",
          "name": "stdout",
          "text": [
            "\n",
            " Distance Speed Collect Result_Dam 포함 변수>\n",
            "Stage1 Circle1 Distance Speed Collect Result_Dam\n",
            "Stage1 Circle2 Distance Speed Collect Result_Dam\n",
            "Stage1 Circle3 Distance Speed Collect Result_Dam\n",
            "Stage1 Circle4 Distance Speed Collect Result_Dam\n",
            "Stage1 Line1 Distance Speed Collect Result_Dam\n",
            "Stage1 Line2 Distance Speed Collect Result_Dam\n",
            "Stage1 Line3 Distance Speed Collect Result_Dam\n",
            "Stage1 Line4 Distance Speed Collect Result_Dam\n",
            "Stage2 Circle1 Distance Speed Collect Result_Dam\n",
            "Stage2 Circle2 Distance Speed Collect Result_Dam\n",
            "Stage2 Circle3 Distance Speed Collect Result_Dam\n",
            "Stage2 Circle4 Distance Speed Collect Result_Dam\n",
            "Stage2 Line1 Distance Speed Collect Result_Dam\n",
            "Stage2 Line2 Distance Speed Collect Result_Dam\n",
            "Stage2 Line3 Distance Speed Collect Result_Dam\n",
            "Stage2 Line4 Distance Speed Collect Result_Dam\n",
            "Stage3 Circle1 Distance Speed Collect Result_Dam\n",
            "Stage3 Circle2 Distance Speed Collect Result_Dam\n",
            "Stage3 Circle3 Distance Speed Collect Result_Dam\n",
            "Stage3 Circle4 Distance Speed Collect Result_Dam\n",
            "Stage3 Line1 Distance Speed Collect Result_Dam\n",
            "Stage3 Line2 Distance Speed Collect Result_Dam\n",
            "Stage3 Line3 Distance Speed Collect Result_Dam\n",
            "Stage3 Line4 Distance Speed Collect Result_Dam\n"
          ]
        }
      ],
      "source": [
        "# 'Distance Speed Collect Result_Dam'를 포함하는 열 이름 필터링\n",
        "Process_Desc_col = train_data.filter(like='Distance Speed Collect Result_Dam').columns\n",
        "\n",
        "print(\"\\n Distance Speed Collect Result_Dam 포함 변수>\")\n",
        "for col in Process_Desc_col:\n",
        "    print(col)"
      ]
    },
    {
      "cell_type": "markdown",
      "id": "883ac6dc",
      "metadata": {
        "id": "883ac6dc"
      },
      "source": [
        "Stage 별 Speed 값들의 평균 계산"
      ]
    },
    {
      "cell_type": "code",
      "execution_count": 289,
      "id": "74dc87f7",
      "metadata": {
        "id": "74dc87f7"
      },
      "outputs": [],
      "source": [
        "def add_stage_totals(data, stages, suffix='_Distance_Speed_avg_Dam'):\n",
        "    for stage in stages:\n",
        "        stage_cols = data.filter(like=stage).columns\n",
        "        data[f'{stage}{suffix}'] = data[stage_cols].sum(axis=1) / 8\n",
        "\n",
        "stages = ['Stage1', 'Stage2', 'Stage3']\n",
        "\n",
        "# train_data에 대해 파생변수 추가\n",
        "add_stage_totals(train_data, stages)\n",
        "\n",
        "# test_data에 대해 파생변수 추가\n",
        "add_stage_totals(test_data, stages)"
      ]
    },
    {
      "cell_type": "code",
      "execution_count": 290,
      "id": "0a453df3",
      "metadata": {
        "id": "0a453df3"
      },
      "outputs": [],
      "source": [
        "# 제거할 변수 목록\n",
        "columns_to_drop = [\n",
        "'Stage1 Circle1 Distance Speed Collect Result_Dam'\n",
        ", 'Stage1 Circle2 Distance Speed Collect Result_Dam'\n",
        ", 'Stage1 Circle3 Distance Speed Collect Result_Dam'\n",
        ", 'Stage1 Circle4 Distance Speed Collect Result_Dam'\n",
        ", 'Stage1 Line1 Distance Speed Collect Result_Dam'\n",
        ", 'Stage1 Line2 Distance Speed Collect Result_Dam'\n",
        ", 'Stage1 Line3 Distance Speed Collect Result_Dam'\n",
        ", 'Stage1 Line4 Distance Speed Collect Result_Dam'\n",
        ", 'Stage2 Circle1 Distance Speed Collect Result_Dam'\n",
        ", 'Stage2 Circle2 Distance Speed Collect Result_Dam'\n",
        ", 'Stage2 Circle3 Distance Speed Collect Result_Dam'\n",
        ", 'Stage2 Circle4 Distance Speed Collect Result_Dam'\n",
        ", 'Stage2 Line1 Distance Speed Collect Result_Dam'\n",
        ", 'Stage2 Line2 Distance Speed Collect Result_Dam'\n",
        ", 'Stage2 Line3 Distance Speed Collect Result_Dam'\n",
        ", 'Stage2 Line4 Distance Speed Collect Result_Dam'\n",
        ", 'Stage3 Circle1 Distance Speed Collect Result_Dam'\n",
        ", 'Stage3 Circle2 Distance Speed Collect Result_Dam'\n",
        ", 'Stage3 Circle3 Distance Speed Collect Result_Dam'\n",
        ", 'Stage3 Circle4 Distance Speed Collect Result_Dam'\n",
        ", 'Stage3 Line1 Distance Speed Collect Result_Dam'\n",
        ", 'Stage3 Line2 Distance Speed Collect Result_Dam'\n",
        ", 'Stage3 Line3 Distance Speed Collect Result_Dam'\n",
        ", 'Stage3 Line4 Distance Speed Collect Result_Dam'\n",
        "]\n",
        "\n",
        "# 변수 제거\n",
        "train_data.drop(columns=columns_to_drop, inplace=True)\n",
        "test_data.drop(columns=columns_to_drop, inplace=True)"
      ]
    },
    {
      "cell_type": "code",
      "execution_count": 291,
      "id": "2d2c9ab9",
      "metadata": {
        "colab": {
          "base_uri": "https://localhost:8080/"
        },
        "id": "2d2c9ab9",
        "outputId": "baa4d4b1-93ce-4ab0-d52a-b4ee9e1564e6"
      },
      "outputs": [
        {
          "output_type": "stream",
          "name": "stdout",
          "text": [
            "\n",
            " Distance_Speed_avg_Dam 포함 변수>\n",
            "Stage1_Distance_Speed_avg_Dam\n",
            "Stage2_Distance_Speed_avg_Dam\n",
            "Stage3_Distance_Speed_avg_Dam\n"
          ]
        }
      ],
      "source": [
        "# 'Distance_Speed_avg_Dam'를 포함하는 열 이름 필터링\n",
        "Process_Desc_col = train_data.filter(like='Distance_Speed_avg_Dam').columns\n",
        "\n",
        "print(\"\\n Distance_Speed_avg_Dam 포함 변수>\")\n",
        "for col in Process_Desc_col:\n",
        "    print(col)"
      ]
    },
    {
      "cell_type": "markdown",
      "id": "ae3a4274",
      "metadata": {
        "id": "ae3a4274"
      },
      "source": [
        "### 5. THICKNESS"
      ]
    },
    {
      "cell_type": "code",
      "execution_count": 292,
      "id": "d1907522",
      "metadata": {
        "colab": {
          "base_uri": "https://localhost:8080/"
        },
        "id": "d1907522",
        "outputId": "f90f56be-f11b-49ff-a270-ad8fa1531ffa"
      },
      "outputs": [
        {
          "output_type": "stream",
          "name": "stdout",
          "text": [
            "\n",
            " THICKNESS 포함 변수>\n",
            "THICKNESS 1 Collect Result_Dam\n",
            "THICKNESS 2 Collect Result_Dam\n",
            "THICKNESS 3 Collect Result_Dam\n"
          ]
        }
      ],
      "source": [
        "# 'THICKNESS'를 포함하는 열 이름 필터링\n",
        "Process_Desc_col = train_data.filter(like='THICKNESS').columns\n",
        "\n",
        "print(\"\\n THICKNESS 포함 변수>\")\n",
        "for col in Process_Desc_col:\n",
        "    print(col)"
      ]
    },
    {
      "cell_type": "code",
      "execution_count": 293,
      "id": "c3ae04ba",
      "metadata": {
        "id": "c3ae04ba"
      },
      "outputs": [],
      "source": [
        "# 새로운 파생변수 생성 함수\n",
        "def create_total_thickness_dam(data):\n",
        "    data['THICKNESS_total_Dam'] = (\n",
        "        data['THICKNESS 1 Collect Result_Dam']**2\n",
        "        + data['THICKNESS 2 Collect Result_Dam']**2\n",
        "        + data['THICKNESS 3 Collect Result_Dam']**2\n",
        "    )\n",
        "    # 기존 변수 삭제\n",
        "    data.drop(columns=[\n",
        "        'THICKNESS 1 Collect Result_Dam',\n",
        "        'THICKNESS 2 Collect Result_Dam',\n",
        "        'THICKNESS 3 Collect Result_Dam'\n",
        "    ], inplace=True)\n",
        "    return data\n",
        "\n",
        "train_data = create_total_thickness_dam(train_data)\n",
        "test_data = create_total_thickness_dam(test_data)"
      ]
    },
    {
      "cell_type": "code",
      "execution_count": 294,
      "id": "af96f1a2",
      "metadata": {
        "colab": {
          "base_uri": "https://localhost:8080/"
        },
        "id": "af96f1a2",
        "outputId": "39e835e3-a6a5-4c99-9bcf-5a89775fd2de"
      },
      "outputs": [
        {
          "output_type": "stream",
          "name": "stdout",
          "text": [
            "\n",
            " THICKNESS 포함 변수>\n",
            "THICKNESS_total_Dam\n"
          ]
        }
      ],
      "source": [
        "# 'THICKNESS'를 포함하는 열 이름 필터링\n",
        "Process_Desc_col = train_data.filter(like='THICKNESS').columns\n",
        "\n",
        "print(\"\\n THICKNESS 포함 변수>\")\n",
        "for col in Process_Desc_col:\n",
        "    print(col)"
      ]
    },
    {
      "cell_type": "markdown",
      "id": "74f4349a",
      "metadata": {
        "id": "74f4349a"
      },
      "source": [
        "### 6. AutoClave"
      ]
    },
    {
      "cell_type": "code",
      "execution_count": 295,
      "id": "27ac3556",
      "metadata": {
        "colab": {
          "base_uri": "https://localhost:8080/"
        },
        "id": "27ac3556",
        "outputId": "9776c1ed-ee52-4de2-8b7e-7aa6ff485e93"
      },
      "outputs": [
        {
          "output_type": "stream",
          "name": "stdout",
          "text": [
            "<AutoClave 공정 관련 변수>\n",
            "1st Pressure Collect Result_AutoClave\n",
            "1st Pressure Unit Time_AutoClave\n",
            "2nd Pressure Collect Result_AutoClave\n",
            "2nd Pressure Unit Time_AutoClave\n",
            "3rd Pressure Collect Result_AutoClave\n",
            "3rd Pressure Unit Time_AutoClave\n",
            "Chamber Temp. Collect Result_AutoClave\n",
            "Chamber Temp. Unit Time_AutoClave\n",
            "Chamber_Temp_OKNG_AutoClave\n"
          ]
        }
      ],
      "source": [
        "# '_AutoClave'를 포함하는 열 이름 필터링\n",
        "Process_Desc_col = train_data.filter(like='_AutoClave').columns\n",
        "\n",
        "# 필터링된 열 이름 출력\n",
        "print(\"<AutoClave 공정 관련 변수>\")\n",
        "for col in Process_Desc_col:\n",
        "    print(col)"
      ]
    },
    {
      "cell_type": "code",
      "execution_count": 296,
      "id": "b3c024ca",
      "metadata": {
        "id": "b3c024ca"
      },
      "outputs": [],
      "source": [
        "# 파생변수 생성\n",
        "train_data['1st_Pressure_x_AutoClave'] = train_data['1st Pressure Collect Result_AutoClave'] * train_data['1st Pressure Unit Time_AutoClave']\n",
        "test_data['1st_Pressure_x_AutoClave'] = test_data['1st Pressure Collect Result_AutoClave'] * test_data['1st Pressure Unit Time_AutoClave']\n",
        "\n",
        "train_data['2nd_Pressure_x_AutoClave'] = train_data['2nd Pressure Collect Result_AutoClave'] * train_data['2nd Pressure Unit Time_AutoClave']\n",
        "test_data['2nd_Pressure_x_AutoClave'] = test_data['2nd Pressure Collect Result_AutoClave'] * test_data['2nd Pressure Unit Time_AutoClave']\n",
        "\n",
        "train_data['3rd_Pressure_x_AutoClave'] = train_data['3rd Pressure Collect Result_AutoClave'] * train_data['3rd Pressure Unit Time_AutoClave']\n",
        "test_data['3rd_Pressure_x_AutoClave'] = test_data['3rd Pressure Collect Result_AutoClave'] * test_data['3rd Pressure Unit Time_AutoClave']\n",
        "\n",
        "train_data['All_Pressure_x_AutoClave'] = train_data['1st_Pressure_x_AutoClave'] + train_data['2nd_Pressure_x_AutoClave'] + train_data['3rd_Pressure_x_AutoClave']\n",
        "test_data['All_Pressure_x_AutoClave'] = test_data['1st_Pressure_x_AutoClave'] + test_data['2nd_Pressure_x_AutoClave'] + test_data['3rd_Pressure_x_AutoClave']\n",
        "\n",
        "train_data['All_Pressure_avg_AutoClave'] = train_data['All_Pressure_x_AutoClave'] / train_data['Chamber Temp. Unit Time_AutoClave']\n",
        "test_data['All_Pressure_avg_AutoClave'] = test_data['All_Pressure_x_AutoClave'] / test_data['Chamber Temp. Unit Time_AutoClave']\n",
        "\n",
        "train_data['Chamber_Temp_x_AutoClave'] = train_data['Chamber Temp. Collect Result_AutoClave'] * train_data['Chamber Temp. Unit Time_AutoClave']\n",
        "test_data['Chamber_Temp_x_AutoClave'] = test_data['Chamber Temp. Collect Result_AutoClave'] * test_data['Chamber Temp. Unit Time_AutoClave']\n",
        "\n",
        "train_data['All_Pressure_frac_Chamber_Temp_AutoClave'] = train_data['All_Pressure_x_AutoClave'] / train_data['Chamber_Temp_x_AutoClave']\n",
        "test_data['All_Pressure_frac_Chamber_Temp_AutoClave'] = test_data['All_Pressure_x_AutoClave'] / test_data['Chamber_Temp_x_AutoClave']\n"
      ]
    },
    {
      "cell_type": "code",
      "execution_count": 297,
      "id": "a69ad859",
      "metadata": {
        "colab": {
          "base_uri": "https://localhost:8080/"
        },
        "id": "a69ad859",
        "outputId": "bdabae33-8ea4-4e7c-fc8d-f5470d2c4438"
      },
      "outputs": [
        {
          "output_type": "stream",
          "name": "stdout",
          "text": [
            "<AutoClave 공정 관련 변수>\n",
            "1st Pressure Collect Result_AutoClave\n",
            "1st Pressure Unit Time_AutoClave\n",
            "2nd Pressure Collect Result_AutoClave\n",
            "2nd Pressure Unit Time_AutoClave\n",
            "3rd Pressure Collect Result_AutoClave\n",
            "3rd Pressure Unit Time_AutoClave\n",
            "Chamber Temp. Collect Result_AutoClave\n",
            "Chamber Temp. Unit Time_AutoClave\n",
            "Chamber_Temp_OKNG_AutoClave\n",
            "1st_Pressure_x_AutoClave\n",
            "2nd_Pressure_x_AutoClave\n",
            "3rd_Pressure_x_AutoClave\n",
            "All_Pressure_x_AutoClave\n",
            "All_Pressure_avg_AutoClave\n",
            "Chamber_Temp_x_AutoClave\n",
            "All_Pressure_frac_Chamber_Temp_AutoClave\n"
          ]
        }
      ],
      "source": [
        "# '_AutoClave'를 포함하는 열 이름 필터링\n",
        "Process_Desc_col = train_data.filter(like='_AutoClave').columns\n",
        "\n",
        "# 필터링된 열 이름 출력\n",
        "print(\"<AutoClave 공정 관련 변수>\")\n",
        "for col in Process_Desc_col:\n",
        "    print(col)"
      ]
    },
    {
      "cell_type": "code",
      "execution_count": 298,
      "id": "3e714beb",
      "metadata": {
        "id": "3e714beb"
      },
      "outputs": [],
      "source": [
        "# 제거할 변수 목록\n",
        "columns_to_drop = [\n",
        "# '1st Pressure Collect Result_AutoClave'\n",
        "'1st Pressure Unit Time_AutoClave'\n",
        "# , '2nd Pressure Collect Result_AutoClave'\n",
        ", '2nd Pressure Unit Time_AutoClave'\n",
        "# , '3rd Pressure Collect Result_AutoClave'\n",
        ", '3rd Pressure Unit Time_AutoClave'\n",
        "# , 'Chamber Temp. Collect Result_AutoClave'\n",
        "# , 'Chamber Temp. Unit Time_AutoClave'\n",
        "\n",
        "# , '1st_Pressure_x_AutoClave'\n",
        "# , '2nd_Pressure_x_AutoClave'\n",
        "# , '3rd_Pressure_x_AutoClave'\n",
        ", 'All_Pressure_x_AutoClave'\n",
        "# , 'All_Pressure_avg_AutoClave'\n",
        "# , 'Chamber_Temp_x_AutoClave'\n",
        "# , 'All_Pressure_frac_Chamber_Temp_AutoClave'\n",
        "]\n",
        "\n",
        "# 변수 제거\n",
        "train_data.drop(columns=columns_to_drop, inplace=True)\n",
        "test_data.drop(columns=columns_to_drop, inplace=True)"
      ]
    },
    {
      "cell_type": "code",
      "execution_count": 299,
      "id": "20ce50bc",
      "metadata": {
        "colab": {
          "base_uri": "https://localhost:8080/"
        },
        "id": "20ce50bc",
        "outputId": "26e2fe18-a3fc-4f3b-ed1f-927c453b3cc5"
      },
      "outputs": [
        {
          "output_type": "stream",
          "name": "stdout",
          "text": [
            "<AutoClave 공정 관련 변수>\n",
            "1st Pressure Collect Result_AutoClave\n",
            "2nd Pressure Collect Result_AutoClave\n",
            "3rd Pressure Collect Result_AutoClave\n",
            "Chamber Temp. Collect Result_AutoClave\n",
            "Chamber Temp. Unit Time_AutoClave\n",
            "Chamber_Temp_OKNG_AutoClave\n",
            "1st_Pressure_x_AutoClave\n",
            "2nd_Pressure_x_AutoClave\n",
            "3rd_Pressure_x_AutoClave\n",
            "All_Pressure_avg_AutoClave\n",
            "Chamber_Temp_x_AutoClave\n",
            "All_Pressure_frac_Chamber_Temp_AutoClave\n"
          ]
        }
      ],
      "source": [
        "# '_AutoClave'를 포함하는 열 이름 필터링\n",
        "Process_Desc_col = train_data.filter(like='_AutoClave').columns\n",
        "\n",
        "# 필터링된 열 이름 출력\n",
        "print(\"<AutoClave 공정 관련 변수>\")\n",
        "for col in Process_Desc_col:\n",
        "    print(col)"
      ]
    },
    {
      "cell_type": "markdown",
      "id": "61a69dcf",
      "metadata": {
        "id": "61a69dcf"
      },
      "source": [
        "### 7. ETC.."
      ]
    },
    {
      "cell_type": "markdown",
      "id": "f41b05ca",
      "metadata": {
        "id": "f41b05ca"
      },
      "source": [
        "7-1. workorder"
      ]
    },
    {
      "cell_type": "code",
      "execution_count": 300,
      "id": "e2e4240f",
      "metadata": {
        "id": "e2e4240f"
      },
      "outputs": [],
      "source": [
        "# 타겟 변수를 0과 1로 변환\n",
        "train_data['target_binary'] = train_data['target'].apply(lambda x: 1 if x == 'AbNormal' else 0)\n",
        "\n",
        "# Workorder 변수의 값에 대한 타겟 변수 비율 계산\n",
        "workorder_target_ratio = train_data.groupby('Workorder')['target_binary'].mean()\n",
        "\n",
        "# 파생 변수 생성 함수\n",
        "def create_derived_variable(row, ratio_dict, threshold):\n",
        "    return 1 if ratio_dict.get(row['Workorder'], 0) >= threshold else 0\n",
        "\n",
        "# 파생 변수 생성\n",
        "train_data['Workorder_0.9'] = train_data.apply(create_derived_variable, axis=1, ratio_dict=workorder_target_ratio, threshold=0.9)\n",
        "train_data['Workorder_0.6'] = train_data.apply(create_derived_variable, axis=1, ratio_dict=workorder_target_ratio, threshold=0.6)\n",
        "\n",
        "test_data['Workorder_0.9'] = test_data.apply(create_derived_variable, axis=1, ratio_dict=workorder_target_ratio, threshold=0.9)\n",
        "test_data['Workorder_0.6'] = test_data.apply(create_derived_variable, axis=1, ratio_dict=workorder_target_ratio, threshold=0.6)\n",
        "\n",
        "# 불필요한 변수 제거\n",
        "train_data.drop(['target_binary'], axis=1, inplace=True)"
      ]
    },
    {
      "cell_type": "markdown",
      "id": "da48c3f8",
      "metadata": {
        "id": "da48c3f8"
      },
      "source": [
        "7-2. Machine Tact time"
      ]
    },
    {
      "cell_type": "code",
      "execution_count": 301,
      "id": "4d866fb6",
      "metadata": {
        "id": "4d866fb6"
      },
      "outputs": [],
      "source": [
        "### 총시간 대비 비율 변수\n",
        "def calculate_total_time_and_ratios(data):\n",
        "    data['total_time'] = (\n",
        "        data['Machine Tact time Collect Result_Dam'] +\n",
        "        data['Machine Tact time Collect Result_Fill1'] +\n",
        "        data['Machine Tact time Collect Result_Fill2'] +\n",
        "        data['Chamber Temp. Unit Time_AutoClave']\n",
        "    )\n",
        "    data['time_ratio_Dam'] = (data['Machine Tact time Collect Result_Dam'] / data['total_time']).round(3)\n",
        "    data['time_ratio_Fill1'] = (data['Machine Tact time Collect Result_Fill1'] / data['total_time']).round(3)\n",
        "    data['time_ratio_Fill2'] = (data['Machine Tact time Collect Result_Fill2'] / data['total_time']).round(3)\n",
        "    data['time_ratio_AutoClave'] = (data['Chamber Temp. Unit Time_AutoClave'] / data['total_time']).round(3)\n",
        "    return data\n",
        "\n",
        "# train_data와 test_data에 함수 적용\n",
        "train_data = calculate_total_time_and_ratios(train_data)\n",
        "test_data = calculate_total_time_and_ratios(test_data)"
      ]
    },
    {
      "cell_type": "code",
      "execution_count": 302,
      "id": "dec2a803",
      "metadata": {
        "id": "dec2a803"
      },
      "outputs": [],
      "source": [
        "# 변수 제거\n",
        "train_data.drop(columns=[\n",
        "    'total_time'\n",
        "    , 'Machine Tact time Collect Result_Dam'\n",
        "    , 'Machine Tact time Collect Result_Fill1'\n",
        "    , 'Machine Tact time Collect Result_Fill2'\n",
        "    , 'Chamber Temp. Unit Time_AutoClave'], inplace=True)\n",
        "\n",
        "test_data.drop(columns=[\n",
        "    'total_time'\n",
        "    , 'Machine Tact time Collect Result_Dam'\n",
        "    , 'Machine Tact time Collect Result_Fill1'\n",
        "    , 'Machine Tact time Collect Result_Fill2'\n",
        "    , 'Chamber Temp. Unit Time_AutoClave'], inplace=True)"
      ]
    },
    {
      "cell_type": "markdown",
      "id": "3ad7941e",
      "metadata": {
        "id": "3ad7941e"
      },
      "source": [
        "---"
      ]
    },
    {
      "cell_type": "code",
      "execution_count": 303,
      "id": "49a7d114",
      "metadata": {
        "colab": {
          "base_uri": "https://localhost:8080/"
        },
        "id": "49a7d114",
        "outputId": "1e427370-9497-4210-cf41-7247323ca675"
      },
      "outputs": [
        {
          "output_type": "stream",
          "name": "stdout",
          "text": [
            "<class 'pandas.core.frame.DataFrame'>\n",
            "RangeIndex: 40506 entries, 0 to 40505\n",
            "Data columns (total 60 columns):\n",
            " #   Column                                                 Non-Null Count  Dtype  \n",
            "---  ------                                                 --------------  -----  \n",
            " 0   Model.Suffix                                           40506 non-null  object \n",
            " 1   Workorder                                              40506 non-null  object \n",
            " 2   DISCHARGED SPEED OF RESIN Collect Result_Dam           40506 non-null  int64  \n",
            " 3   DISCHARGED TIME OF RESIN(Stage1) Collect Result_Dam    40506 non-null  float64\n",
            " 4   DISCHARGED TIME OF RESIN(Stage2) Collect Result_Dam    40506 non-null  float64\n",
            " 5   DISCHARGED TIME OF RESIN(Stage3) Collect Result_Dam    40506 non-null  float64\n",
            " 6   Dispense Volume(Stage1) Collect Result_Dam             40506 non-null  float64\n",
            " 7   Dispense Volume(Stage2) Collect Result_Dam             40506 non-null  float64\n",
            " 8   Dispense Volume(Stage3) Collect Result_Dam             40506 non-null  float64\n",
            " 9   Head Clean Position Z Collect Result_Dam               40506 non-null  float64\n",
            " 10  Head Purge Position Z Collect Result_Dam               40506 non-null  float64\n",
            " 11  Head Zero Position Y Collect Result_Dam                40506 non-null  float64\n",
            " 12  Head Zero Position Z Collect Result_Dam                40506 non-null  float64\n",
            " 13  WorkMode Collect Result                                40506 non-null  float64\n",
            " 14  1st Pressure Collect Result_AutoClave                  40506 non-null  float64\n",
            " 15  2nd Pressure Collect Result_AutoClave                  40506 non-null  float64\n",
            " 16  3rd Pressure Collect Result_AutoClave                  40506 non-null  float64\n",
            " 17  Chamber Temp. Collect Result_AutoClave                 40506 non-null  int64  \n",
            " 18  DISCHARGED SPEED OF RESIN Collect Result_Fill1         40506 non-null  float64\n",
            " 19  DISCHARGED TIME OF RESIN(Stage1) Collect Result_Fill1  40506 non-null  float64\n",
            " 20  DISCHARGED TIME OF RESIN(Stage2) Collect Result_Fill1  40506 non-null  float64\n",
            " 21  DISCHARGED TIME OF RESIN(Stage3) Collect Result_Fill1  40506 non-null  float64\n",
            " 22  Dispense Volume(Stage1) Collect Result_Fill1           40506 non-null  float64\n",
            " 23  Dispense Volume(Stage2) Collect Result_Fill1           40506 non-null  float64\n",
            " 24  Dispense Volume(Stage3) Collect Result_Fill1           40506 non-null  float64\n",
            " 25  Head Purge Position Z Collect Result_Fill1             40506 non-null  int64  \n",
            " 26  Head Purge Position Z Collect Result_Fill2             40506 non-null  float64\n",
            " 27  target                                                 40506 non-null  object \n",
            " 28  Dispenser_1                                            40506 non-null  int64  \n",
            " 29  Dispenser_2                                            40506 non-null  int64  \n",
            " 30  Receip_No_Collect_Result                               40506 non-null  int64  \n",
            " 31  PalletID_Collect_Result                                40506 non-null  int64  \n",
            " 32  Production_Qty_Collect_Result                          40506 non-null  int64  \n",
            " 33  Chamber_Temp_OKNG_AutoClave                            40506 non-null  int64  \n",
            " 34  Judge_Value_OK                                         40506 non-null  int64  \n",
            " 35  CURE_Time_Dam                                          40506 non-null  float64\n",
            " 36  CURE_Time_Fill2                                        40506 non-null  float64\n",
            " 37  HEAD NORMAL DISTANCE_STAGE1_STAGE3_Dam                 40506 non-null  float64\n",
            " 38  HEAD NORMAL DISTANCE_TRIANGLE_height_Dam               40506 non-null  float64\n",
            " 39  HEAD NORMAL DISTANCE_STAGE1_STAGE3_Fill1               40506 non-null  float64\n",
            " 40  HEAD NORMAL DISTANCE_TRIANGLE_height_Fill1             40506 non-null  float64\n",
            " 41  HEAD NORMAL DISTANCE_STAGE1_STAGE2_Fill2               40506 non-null  float64\n",
            " 42  HEAD NORMAL DISTANCE_STAGE2_STAGE3_Fill2               40506 non-null  float64\n",
            " 43  HEAD NORMAL DISTANCE_STAGE1_STAGE3_Fill2               40506 non-null  float64\n",
            " 44  Stage1_Distance_Speed_avg_Dam                          40506 non-null  float64\n",
            " 45  Stage2_Distance_Speed_avg_Dam                          40506 non-null  float64\n",
            " 46  Stage3_Distance_Speed_avg_Dam                          40506 non-null  float64\n",
            " 47  THICKNESS_total_Dam                                    40506 non-null  float64\n",
            " 48  1st_Pressure_x_AutoClave                               40506 non-null  float64\n",
            " 49  2nd_Pressure_x_AutoClave                               40506 non-null  float64\n",
            " 50  3rd_Pressure_x_AutoClave                               40506 non-null  float64\n",
            " 51  All_Pressure_avg_AutoClave                             40506 non-null  float64\n",
            " 52  Chamber_Temp_x_AutoClave                               40506 non-null  int64  \n",
            " 53  All_Pressure_frac_Chamber_Temp_AutoClave               40506 non-null  float64\n",
            " 54  Workorder_0.9                                          40506 non-null  int64  \n",
            " 55  Workorder_0.6                                          40506 non-null  int64  \n",
            " 56  time_ratio_Dam                                         40506 non-null  float64\n",
            " 57  time_ratio_Fill1                                       40506 non-null  float64\n",
            " 58  time_ratio_Fill2                                       40506 non-null  float64\n",
            " 59  time_ratio_AutoClave                                   40506 non-null  float64\n",
            "dtypes: float64(44), int64(13), object(3)\n",
            "memory usage: 18.5+ MB\n",
            "---\n"
          ]
        }
      ],
      "source": [
        "train_data.info()\n",
        "print('---')\n",
        "# test_data.info()"
      ]
    },
    {
      "cell_type": "code",
      "execution_count": 304,
      "id": "769e6d8b",
      "metadata": {
        "colab": {
          "base_uri": "https://localhost:8080/"
        },
        "id": "769e6d8b",
        "outputId": "17727a4b-30a7-41a4-b3c4-cf6dddfb2920"
      },
      "outputs": [
        {
          "output_type": "stream",
          "name": "stdout",
          "text": [
            "Series([], dtype: int64)\n"
          ]
        }
      ],
      "source": [
        "# 각 변수별로 결측값이 존재하는지 확인하는 코드\n",
        "missing_values = train_data.isnull().sum()\n",
        "\n",
        "# 결측값이 존재하는 변수와 그 개수 출력\n",
        "missing_values = missing_values[missing_values > 0]\n",
        "print(missing_values)\n",
        "\n",
        "# 결측값이 존재하는 변수명을 리스트에 담기\n",
        "missing_columns = missing_values.index.tolist()\n",
        "# print(\"결측값이 존재하는 변수명:\", missing_columns)"
      ]
    },
    {
      "cell_type": "markdown",
      "id": "ec45a10a",
      "metadata": {
        "id": "ec45a10a"
      },
      "source": [
        "---"
      ]
    },
    {
      "cell_type": "markdown",
      "id": "334b20a3",
      "metadata": {
        "id": "334b20a3"
      },
      "source": [
        "## 타겟 인코딩"
      ]
    },
    {
      "cell_type": "code",
      "execution_count": 305,
      "id": "fb37ebe9",
      "metadata": {
        "colab": {
          "base_uri": "https://localhost:8080/"
        },
        "id": "fb37ebe9",
        "outputId": "b3cb17c5-a4a6-4623-b131-59c9af395559"
      },
      "outputs": [
        {
          "output_type": "stream",
          "name": "stdout",
          "text": [
            "Index(['Model.Suffix', 'Workorder', 'target'], dtype='object')  train_object_columns 갯수 : 3\n",
            "Index(['Set ID', 'Model.Suffix', 'Workorder', 'target'], dtype='object')  test_object_columns 갯수 : 4\n",
            "\n",
            "Train Data:\n",
            "Model.Suffix unique 값 갯수: 7\n",
            "Workorder unique 값 갯수: 663\n",
            "target unique 값 갯수: 2\n",
            "\n",
            "Test Data:\n",
            "Set ID unique 값 갯수: 17361\n",
            "Model.Suffix unique 값 갯수: 7\n",
            "Workorder unique 값 갯수: 662\n",
            "target unique 값 갯수: 0\n"
          ]
        }
      ],
      "source": [
        "# 'target' 열의 변수 타입을 object로 변경\n",
        "# -> test 데이터는 float64 타입으로 되어있음\n",
        "test_data['target'] = test_data['target'].astype('object')\n",
        "\n",
        "# object 타입의 변수 출력\n",
        "train_object_columns = train_data.select_dtypes(include=['object']).columns\n",
        "test_object_columns = test_data.select_dtypes(include=['object']).columns\n",
        "\n",
        "print(train_object_columns, f\" train_object_columns 갯수 : {len(train_object_columns)}\")\n",
        "print(test_object_columns, f\" test_object_columns 갯수 : {len(test_object_columns)}\")\n",
        "\n",
        "# 각 object 변수의 고유 값 개수 출력\n",
        "print(\"\\nTrain Data:\")\n",
        "for col in train_object_columns:\n",
        "    unique_count = train_data[col].nunique()\n",
        "    print(f\"{col} unique 값 갯수: {unique_count}\")\n",
        "\n",
        "print(\"\\nTest Data:\")\n",
        "for col in test_object_columns:\n",
        "    unique_count = test_data[col].nunique()\n",
        "    print(f\"{col} unique 값 갯수: {unique_count}\")"
      ]
    },
    {
      "cell_type": "code",
      "execution_count": 306,
      "id": "156c68be",
      "metadata": {
        "colab": {
          "base_uri": "https://localhost:8080/"
        },
        "id": "156c68be",
        "outputId": "b866fa0a-f5cd-4fbd-c3bc-2dfacec7cc89"
      },
      "outputs": [
        {
          "output_type": "stream",
          "name": "stdout",
          "text": [
            "   Model.Suffix  Workorder\n",
            "0      0.049336   0.158385\n",
            "1      0.049336   0.015314\n",
            "2      0.056712   0.009534\n",
            "   Model.Suffix  Workorder\n",
            "0      0.056712   0.091912\n",
            "1      0.056712   0.024247\n",
            "2      0.056712   0.091463\n",
            "--- train_data ---\n",
            "target  \n",
            "Normal      38156\n",
            "AbNormal     2350\n",
            "Name: count, dtype: int64\n"
          ]
        }
      ],
      "source": [
        "\n",
        "\n",
        "# 타겟 변수와 범주형 변수 지정\n",
        "## Target Encoding의 smoothing 파라미터는 default로 auto로 설정되어 있음\n",
        "target = 'target'  # 타겟 변수 이름으로 변경\n",
        "categorical_columns = [\n",
        "    'Model.Suffix',\n",
        "    'Workorder',\n",
        "]  # 범주형 변수 이름으로 변경\n",
        "\n",
        "# 타겟 값을 숫자로 변환\n",
        "target_mapping = {'Normal': 0, 'AbNormal': 1}\n",
        "train_data[target] = train_data[target].map(target_mapping)\n",
        "test_data[target] = test_data[target].map(target_mapping)\n",
        "\n",
        "# 열이 존재하는지 확인\n",
        "missing_columns = [col for col in categorical_columns if col not in train_data.columns]\n",
        "if missing_columns:\n",
        "    raise ValueError(f\"train_data에 다음 열이 존재하지 않습니다: {missing_columns}\")\n",
        "\n",
        "# 타겟 인코더 생성 및 학습\n",
        "encoder = ce.TargetEncoder(cols=categorical_columns)\n",
        "train_data = encoder.fit_transform(train_data, train_data[target])\n",
        "\n",
        "# Set ID 열을 별도로 저장\n",
        "set_id = test_data['Set ID']\n",
        "\n",
        "# 테스트 데이터 인코딩 (Set ID 열 제외)\n",
        "test_data = test_data.drop(columns=['Set ID'])\n",
        "test_data = encoder.transform(test_data)\n",
        "\n",
        "# Set ID 열을 맨 앞에 추가\n",
        "test_data.insert(0, 'Set ID', set_id)\n",
        "\n",
        "# categorical_columns에 해당하는 열의 데이터 값만 확인\n",
        "print(train_data[categorical_columns].head(3))\n",
        "print(test_data[categorical_columns].head(3))\n",
        "\n",
        "# 역 매핑 딕셔너리 생성\n",
        "reverse_target_mapping = {v: k for k, v in target_mapping.items()}\n",
        "\n",
        "# 타겟 값을 원래대로 변환\n",
        "train_data[target] = train_data[target].map(reverse_target_mapping)\n",
        "test_data[target] = test_data[target].map(reverse_target_mapping)\n",
        "\n",
        "print(\"--- train_data ---\")\n",
        "\n",
        "# 변환된 타겟 값 확인\n",
        "print(train_data[[target]].value_counts())"
      ]
    },
    {
      "cell_type": "code",
      "execution_count": 307,
      "id": "6a108490",
      "metadata": {
        "colab": {
          "base_uri": "https://localhost:8080/"
        },
        "id": "6a108490",
        "outputId": "ba08c5d4-eac4-40f3-9579-ae5f4fc32b0f"
      },
      "outputs": [
        {
          "output_type": "stream",
          "name": "stdout",
          "text": [
            "<class 'pandas.core.frame.DataFrame'>\n",
            "RangeIndex: 40506 entries, 0 to 40505\n",
            "Data columns (total 60 columns):\n",
            " #   Column                                                 Non-Null Count  Dtype  \n",
            "---  ------                                                 --------------  -----  \n",
            " 0   Model.Suffix                                           40506 non-null  float64\n",
            " 1   Workorder                                              40506 non-null  float64\n",
            " 2   DISCHARGED SPEED OF RESIN Collect Result_Dam           40506 non-null  int64  \n",
            " 3   DISCHARGED TIME OF RESIN(Stage1) Collect Result_Dam    40506 non-null  float64\n",
            " 4   DISCHARGED TIME OF RESIN(Stage2) Collect Result_Dam    40506 non-null  float64\n",
            " 5   DISCHARGED TIME OF RESIN(Stage3) Collect Result_Dam    40506 non-null  float64\n",
            " 6   Dispense Volume(Stage1) Collect Result_Dam             40506 non-null  float64\n",
            " 7   Dispense Volume(Stage2) Collect Result_Dam             40506 non-null  float64\n",
            " 8   Dispense Volume(Stage3) Collect Result_Dam             40506 non-null  float64\n",
            " 9   Head Clean Position Z Collect Result_Dam               40506 non-null  float64\n",
            " 10  Head Purge Position Z Collect Result_Dam               40506 non-null  float64\n",
            " 11  Head Zero Position Y Collect Result_Dam                40506 non-null  float64\n",
            " 12  Head Zero Position Z Collect Result_Dam                40506 non-null  float64\n",
            " 13  WorkMode Collect Result                                40506 non-null  float64\n",
            " 14  1st Pressure Collect Result_AutoClave                  40506 non-null  float64\n",
            " 15  2nd Pressure Collect Result_AutoClave                  40506 non-null  float64\n",
            " 16  3rd Pressure Collect Result_AutoClave                  40506 non-null  float64\n",
            " 17  Chamber Temp. Collect Result_AutoClave                 40506 non-null  int64  \n",
            " 18  DISCHARGED SPEED OF RESIN Collect Result_Fill1         40506 non-null  float64\n",
            " 19  DISCHARGED TIME OF RESIN(Stage1) Collect Result_Fill1  40506 non-null  float64\n",
            " 20  DISCHARGED TIME OF RESIN(Stage2) Collect Result_Fill1  40506 non-null  float64\n",
            " 21  DISCHARGED TIME OF RESIN(Stage3) Collect Result_Fill1  40506 non-null  float64\n",
            " 22  Dispense Volume(Stage1) Collect Result_Fill1           40506 non-null  float64\n",
            " 23  Dispense Volume(Stage2) Collect Result_Fill1           40506 non-null  float64\n",
            " 24  Dispense Volume(Stage3) Collect Result_Fill1           40506 non-null  float64\n",
            " 25  Head Purge Position Z Collect Result_Fill1             40506 non-null  int64  \n",
            " 26  Head Purge Position Z Collect Result_Fill2             40506 non-null  float64\n",
            " 27  target                                                 40506 non-null  object \n",
            " 28  Dispenser_1                                            40506 non-null  int64  \n",
            " 29  Dispenser_2                                            40506 non-null  int64  \n",
            " 30  Receip_No_Collect_Result                               40506 non-null  int64  \n",
            " 31  PalletID_Collect_Result                                40506 non-null  int64  \n",
            " 32  Production_Qty_Collect_Result                          40506 non-null  int64  \n",
            " 33  Chamber_Temp_OKNG_AutoClave                            40506 non-null  int64  \n",
            " 34  Judge_Value_OK                                         40506 non-null  int64  \n",
            " 35  CURE_Time_Dam                                          40506 non-null  float64\n",
            " 36  CURE_Time_Fill2                                        40506 non-null  float64\n",
            " 37  HEAD NORMAL DISTANCE_STAGE1_STAGE3_Dam                 40506 non-null  float64\n",
            " 38  HEAD NORMAL DISTANCE_TRIANGLE_height_Dam               40506 non-null  float64\n",
            " 39  HEAD NORMAL DISTANCE_STAGE1_STAGE3_Fill1               40506 non-null  float64\n",
            " 40  HEAD NORMAL DISTANCE_TRIANGLE_height_Fill1             40506 non-null  float64\n",
            " 41  HEAD NORMAL DISTANCE_STAGE1_STAGE2_Fill2               40506 non-null  float64\n",
            " 42  HEAD NORMAL DISTANCE_STAGE2_STAGE3_Fill2               40506 non-null  float64\n",
            " 43  HEAD NORMAL DISTANCE_STAGE1_STAGE3_Fill2               40506 non-null  float64\n",
            " 44  Stage1_Distance_Speed_avg_Dam                          40506 non-null  float64\n",
            " 45  Stage2_Distance_Speed_avg_Dam                          40506 non-null  float64\n",
            " 46  Stage3_Distance_Speed_avg_Dam                          40506 non-null  float64\n",
            " 47  THICKNESS_total_Dam                                    40506 non-null  float64\n",
            " 48  1st_Pressure_x_AutoClave                               40506 non-null  float64\n",
            " 49  2nd_Pressure_x_AutoClave                               40506 non-null  float64\n",
            " 50  3rd_Pressure_x_AutoClave                               40506 non-null  float64\n",
            " 51  All_Pressure_avg_AutoClave                             40506 non-null  float64\n",
            " 52  Chamber_Temp_x_AutoClave                               40506 non-null  int64  \n",
            " 53  All_Pressure_frac_Chamber_Temp_AutoClave               40506 non-null  float64\n",
            " 54  Workorder_0.9                                          40506 non-null  int64  \n",
            " 55  Workorder_0.6                                          40506 non-null  int64  \n",
            " 56  time_ratio_Dam                                         40506 non-null  float64\n",
            " 57  time_ratio_Fill1                                       40506 non-null  float64\n",
            " 58  time_ratio_Fill2                                       40506 non-null  float64\n",
            " 59  time_ratio_AutoClave                                   40506 non-null  float64\n",
            "dtypes: float64(46), int64(13), object(1)\n",
            "memory usage: 18.5+ MB\n",
            "---\n"
          ]
        }
      ],
      "source": [
        "train_data.info()\n",
        "print('---')\n",
        "# test_data.info()"
      ]
    },
    {
      "cell_type": "code",
      "execution_count": 308,
      "id": "dbf7c9bb",
      "metadata": {
        "colab": {
          "base_uri": "https://localhost:8080/"
        },
        "id": "dbf7c9bb",
        "outputId": "7f64ebdc-51f1-4b33-da2a-3a1dccf6e0e9"
      },
      "outputs": [
        {
          "output_type": "stream",
          "name": "stdout",
          "text": [
            "---\n",
            "<class 'pandas.core.frame.DataFrame'>\n",
            "RangeIndex: 17361 entries, 0 to 17360\n",
            "Data columns (total 61 columns):\n",
            " #   Column                                                 Non-Null Count  Dtype  \n",
            "---  ------                                                 --------------  -----  \n",
            " 0   Set ID                                                 17361 non-null  object \n",
            " 1   Model.Suffix                                           17361 non-null  float64\n",
            " 2   Workorder                                              17361 non-null  float64\n",
            " 3   DISCHARGED SPEED OF RESIN Collect Result_Dam           17361 non-null  int64  \n",
            " 4   DISCHARGED TIME OF RESIN(Stage1) Collect Result_Dam    17361 non-null  float64\n",
            " 5   DISCHARGED TIME OF RESIN(Stage2) Collect Result_Dam    17361 non-null  float64\n",
            " 6   DISCHARGED TIME OF RESIN(Stage3) Collect Result_Dam    17361 non-null  float64\n",
            " 7   Dispense Volume(Stage1) Collect Result_Dam             17361 non-null  float64\n",
            " 8   Dispense Volume(Stage2) Collect Result_Dam             17361 non-null  float64\n",
            " 9   Dispense Volume(Stage3) Collect Result_Dam             17361 non-null  float64\n",
            " 10  Head Clean Position Z Collect Result_Dam               17361 non-null  float64\n",
            " 11  Head Purge Position Z Collect Result_Dam               17361 non-null  float64\n",
            " 12  Head Zero Position Y Collect Result_Dam                17361 non-null  float64\n",
            " 13  Head Zero Position Z Collect Result_Dam                17361 non-null  float64\n",
            " 14  WorkMode Collect Result                                17361 non-null  float64\n",
            " 15  1st Pressure Collect Result_AutoClave                  17361 non-null  float64\n",
            " 16  2nd Pressure Collect Result_AutoClave                  17361 non-null  float64\n",
            " 17  3rd Pressure Collect Result_AutoClave                  17361 non-null  float64\n",
            " 18  Chamber Temp. Collect Result_AutoClave                 17361 non-null  int64  \n",
            " 19  DISCHARGED SPEED OF RESIN Collect Result_Fill1         17361 non-null  float64\n",
            " 20  DISCHARGED TIME OF RESIN(Stage1) Collect Result_Fill1  17361 non-null  float64\n",
            " 21  DISCHARGED TIME OF RESIN(Stage2) Collect Result_Fill1  17361 non-null  float64\n",
            " 22  DISCHARGED TIME OF RESIN(Stage3) Collect Result_Fill1  17361 non-null  float64\n",
            " 23  Dispense Volume(Stage1) Collect Result_Fill1           17361 non-null  float64\n",
            " 24  Dispense Volume(Stage2) Collect Result_Fill1           17361 non-null  float64\n",
            " 25  Dispense Volume(Stage3) Collect Result_Fill1           17361 non-null  float64\n",
            " 26  Head Purge Position Z Collect Result_Fill1             17361 non-null  float64\n",
            " 27  Head Purge Position Z Collect Result_Fill2             17361 non-null  float64\n",
            " 28  target                                                 0 non-null      object \n",
            " 29  Dispenser_1                                            17361 non-null  int64  \n",
            " 30  Dispenser_2                                            17361 non-null  int64  \n",
            " 31  Receip_No_Collect_Result                               17361 non-null  float64\n",
            " 32  PalletID_Collect_Result                                17361 non-null  float64\n",
            " 33  Production_Qty_Collect_Result                          17361 non-null  float64\n",
            " 34  Chamber_Temp_OKNG_AutoClave                            17361 non-null  int64  \n",
            " 35  Judge_Value_OK                                         17361 non-null  int64  \n",
            " 36  CURE_Time_Dam                                          17361 non-null  float64\n",
            " 37  CURE_Time_Fill2                                        17361 non-null  float64\n",
            " 38  HEAD NORMAL DISTANCE_STAGE1_STAGE3_Dam                 17361 non-null  float64\n",
            " 39  HEAD NORMAL DISTANCE_TRIANGLE_height_Dam               17361 non-null  float64\n",
            " 40  HEAD NORMAL DISTANCE_STAGE1_STAGE3_Fill1               17361 non-null  float64\n",
            " 41  HEAD NORMAL DISTANCE_TRIANGLE_height_Fill1             17361 non-null  float64\n",
            " 42  HEAD NORMAL DISTANCE_STAGE1_STAGE2_Fill2               17361 non-null  float64\n",
            " 43  HEAD NORMAL DISTANCE_STAGE2_STAGE3_Fill2               17361 non-null  float64\n",
            " 44  HEAD NORMAL DISTANCE_STAGE1_STAGE3_Fill2               17361 non-null  float64\n",
            " 45  Stage1_Distance_Speed_avg_Dam                          17361 non-null  float64\n",
            " 46  Stage2_Distance_Speed_avg_Dam                          17361 non-null  float64\n",
            " 47  Stage3_Distance_Speed_avg_Dam                          17361 non-null  float64\n",
            " 48  THICKNESS_total_Dam                                    17361 non-null  float64\n",
            " 49  1st_Pressure_x_AutoClave                               17361 non-null  float64\n",
            " 50  2nd_Pressure_x_AutoClave                               17361 non-null  float64\n",
            " 51  3rd_Pressure_x_AutoClave                               17361 non-null  float64\n",
            " 52  All_Pressure_avg_AutoClave                             17361 non-null  float64\n",
            " 53  Chamber_Temp_x_AutoClave                               17361 non-null  int64  \n",
            " 54  All_Pressure_frac_Chamber_Temp_AutoClave               17361 non-null  float64\n",
            " 55  Workorder_0.9                                          17361 non-null  int64  \n",
            " 56  Workorder_0.6                                          17361 non-null  int64  \n",
            " 57  time_ratio_Dam                                         17361 non-null  float64\n",
            " 58  time_ratio_Fill1                                       17361 non-null  float64\n",
            " 59  time_ratio_Fill2                                       17361 non-null  float64\n",
            " 60  time_ratio_AutoClave                                   17361 non-null  float64\n",
            "dtypes: float64(50), int64(9), object(2)\n",
            "memory usage: 8.1+ MB\n"
          ]
        }
      ],
      "source": [
        "# train_data.info()\n",
        "print('---')\n",
        "test_data.info()"
      ]
    },
    {
      "cell_type": "markdown",
      "id": "4276e6df",
      "metadata": {
        "id": "4276e6df"
      },
      "source": [
        "## 데이터 분할"
      ]
    },
    {
      "cell_type": "code",
      "execution_count": 309,
      "id": "314cbecd",
      "metadata": {
        "colab": {
          "base_uri": "https://localhost:8080/"
        },
        "id": "314cbecd",
        "outputId": "c3fc1a05-987a-48fd-b4b3-07fa08ef6212"
      },
      "outputs": [
        {
          "output_type": "stream",
          "name": "stdout",
          "text": [
            "  \tAbnormal\tNormal\n",
            "  Total: Normal: 30524, AbNormal: 1880 ratio: 0.06159087930808544\n",
            "  Total: Normal: 7632, AbNormal: 470 ratio: 0.061582809224318656\n"
          ]
        }
      ],
      "source": [
        "df_train, df_val = train_test_split(\n",
        "    train_data,\n",
        "    test_size=0.2,\n",
        "    stratify=train_data[\"target\"],\n",
        "    shuffle=True,\n",
        "    random_state=RANDOM_STATE,\n",
        ")\n",
        "\n",
        "def print_stats(df: pd.DataFrame):\n",
        "    num_normal = len(df[df[\"target\"] == \"Normal\"])\n",
        "    num_abnormal = len(df[df[\"target\"] == \"AbNormal\"])\n",
        "\n",
        "    print(f\"  Total: Normal: {num_normal}, AbNormal: {num_abnormal}\" + f\" ratio: {num_abnormal/num_normal}\")\n",
        "\n",
        "\n",
        "# Print statistics\n",
        "print(f\"  \\tAbnormal\\tNormal\")\n",
        "print_stats(df_train)\n",
        "print_stats(df_val)"
      ]
    },
    {
      "cell_type": "code",
      "execution_count": 310,
      "id": "1771a777",
      "metadata": {
        "colab": {
          "base_uri": "https://localhost:8080/"
        },
        "id": "1771a777",
        "outputId": "c01463fb-76df-4e81-f4a6-80612b11e0e2"
      },
      "outputs": [
        {
          "output_type": "stream",
          "name": "stdout",
          "text": [
            "<class 'pandas.core.frame.DataFrame'>\n",
            "RangeIndex: 40506 entries, 0 to 40505\n",
            "Data columns (total 60 columns):\n",
            " #   Column                                                 Non-Null Count  Dtype  \n",
            "---  ------                                                 --------------  -----  \n",
            " 0   Model.Suffix                                           40506 non-null  float64\n",
            " 1   Workorder                                              40506 non-null  float64\n",
            " 2   DISCHARGED SPEED OF RESIN Collect Result_Dam           40506 non-null  int64  \n",
            " 3   DISCHARGED TIME OF RESIN(Stage1) Collect Result_Dam    40506 non-null  float64\n",
            " 4   DISCHARGED TIME OF RESIN(Stage2) Collect Result_Dam    40506 non-null  float64\n",
            " 5   DISCHARGED TIME OF RESIN(Stage3) Collect Result_Dam    40506 non-null  float64\n",
            " 6   Dispense Volume(Stage1) Collect Result_Dam             40506 non-null  float64\n",
            " 7   Dispense Volume(Stage2) Collect Result_Dam             40506 non-null  float64\n",
            " 8   Dispense Volume(Stage3) Collect Result_Dam             40506 non-null  float64\n",
            " 9   Head Clean Position Z Collect Result_Dam               40506 non-null  float64\n",
            " 10  Head Purge Position Z Collect Result_Dam               40506 non-null  float64\n",
            " 11  Head Zero Position Y Collect Result_Dam                40506 non-null  float64\n",
            " 12  Head Zero Position Z Collect Result_Dam                40506 non-null  float64\n",
            " 13  WorkMode Collect Result                                40506 non-null  float64\n",
            " 14  1st Pressure Collect Result_AutoClave                  40506 non-null  float64\n",
            " 15  2nd Pressure Collect Result_AutoClave                  40506 non-null  float64\n",
            " 16  3rd Pressure Collect Result_AutoClave                  40506 non-null  float64\n",
            " 17  Chamber Temp. Collect Result_AutoClave                 40506 non-null  int64  \n",
            " 18  DISCHARGED SPEED OF RESIN Collect Result_Fill1         40506 non-null  float64\n",
            " 19  DISCHARGED TIME OF RESIN(Stage1) Collect Result_Fill1  40506 non-null  float64\n",
            " 20  DISCHARGED TIME OF RESIN(Stage2) Collect Result_Fill1  40506 non-null  float64\n",
            " 21  DISCHARGED TIME OF RESIN(Stage3) Collect Result_Fill1  40506 non-null  float64\n",
            " 22  Dispense Volume(Stage1) Collect Result_Fill1           40506 non-null  float64\n",
            " 23  Dispense Volume(Stage2) Collect Result_Fill1           40506 non-null  float64\n",
            " 24  Dispense Volume(Stage3) Collect Result_Fill1           40506 non-null  float64\n",
            " 25  Head Purge Position Z Collect Result_Fill1             40506 non-null  int64  \n",
            " 26  Head Purge Position Z Collect Result_Fill2             40506 non-null  float64\n",
            " 27  target                                                 40506 non-null  object \n",
            " 28  Dispenser_1                                            40506 non-null  int64  \n",
            " 29  Dispenser_2                                            40506 non-null  int64  \n",
            " 30  Receip_No_Collect_Result                               40506 non-null  int64  \n",
            " 31  PalletID_Collect_Result                                40506 non-null  int64  \n",
            " 32  Production_Qty_Collect_Result                          40506 non-null  int64  \n",
            " 33  Chamber_Temp_OKNG_AutoClave                            40506 non-null  int64  \n",
            " 34  Judge_Value_OK                                         40506 non-null  int64  \n",
            " 35  CURE_Time_Dam                                          40506 non-null  float64\n",
            " 36  CURE_Time_Fill2                                        40506 non-null  float64\n",
            " 37  HEAD NORMAL DISTANCE_STAGE1_STAGE3_Dam                 40506 non-null  float64\n",
            " 38  HEAD NORMAL DISTANCE_TRIANGLE_height_Dam               40506 non-null  float64\n",
            " 39  HEAD NORMAL DISTANCE_STAGE1_STAGE3_Fill1               40506 non-null  float64\n",
            " 40  HEAD NORMAL DISTANCE_TRIANGLE_height_Fill1             40506 non-null  float64\n",
            " 41  HEAD NORMAL DISTANCE_STAGE1_STAGE2_Fill2               40506 non-null  float64\n",
            " 42  HEAD NORMAL DISTANCE_STAGE2_STAGE3_Fill2               40506 non-null  float64\n",
            " 43  HEAD NORMAL DISTANCE_STAGE1_STAGE3_Fill2               40506 non-null  float64\n",
            " 44  Stage1_Distance_Speed_avg_Dam                          40506 non-null  float64\n",
            " 45  Stage2_Distance_Speed_avg_Dam                          40506 non-null  float64\n",
            " 46  Stage3_Distance_Speed_avg_Dam                          40506 non-null  float64\n",
            " 47  THICKNESS_total_Dam                                    40506 non-null  float64\n",
            " 48  1st_Pressure_x_AutoClave                               40506 non-null  float64\n",
            " 49  2nd_Pressure_x_AutoClave                               40506 non-null  float64\n",
            " 50  3rd_Pressure_x_AutoClave                               40506 non-null  float64\n",
            " 51  All_Pressure_avg_AutoClave                             40506 non-null  float64\n",
            " 52  Chamber_Temp_x_AutoClave                               40506 non-null  int64  \n",
            " 53  All_Pressure_frac_Chamber_Temp_AutoClave               40506 non-null  float64\n",
            " 54  Workorder_0.9                                          40506 non-null  int64  \n",
            " 55  Workorder_0.6                                          40506 non-null  int64  \n",
            " 56  time_ratio_Dam                                         40506 non-null  float64\n",
            " 57  time_ratio_Fill1                                       40506 non-null  float64\n",
            " 58  time_ratio_Fill2                                       40506 non-null  float64\n",
            " 59  time_ratio_AutoClave                                   40506 non-null  float64\n",
            "dtypes: float64(46), int64(13), object(1)\n",
            "memory usage: 18.5+ MB\n"
          ]
        }
      ],
      "source": [
        "train_data.info()"
      ]
    },
    {
      "cell_type": "markdown",
      "id": "644f718d",
      "metadata": {
        "id": "644f718d"
      },
      "source": [
        "### 상관계수"
      ]
    },
    {
      "cell_type": "markdown",
      "id": "aef448d9",
      "metadata": {
        "id": "aef448d9"
      },
      "source": [
        "상관계수 0.7 이상 drop"
      ]
    },
    {
      "cell_type": "markdown",
      "id": "519265e7",
      "metadata": {
        "id": "519265e7"
      },
      "source": [
        "공통 변수"
      ]
    },
    {
      "cell_type": "code",
      "execution_count": 311,
      "id": "67dbaff5",
      "metadata": {
        "id": "67dbaff5"
      },
      "outputs": [],
      "source": [
        "com_variables = [\n",
        "    'Model.Suffix'\n",
        "    , 'Workorder'\n",
        "    , 'WorkMode Collect Result'\n",
        "    , 'Dispenser_1'\n",
        "    , 'Dispenser_2'\n",
        "    , 'Receip_No_Collect_Result'\n",
        "    , 'PalletID_Collect_Result'\n",
        "    , 'Production_Qty_Collect_Result'\n",
        "    , 'Judge_Value_OK'\n",
        "    , 'Workorder_0.9'\n",
        "    , 'Workorder_0.6'\n",
        "]\n",
        "\n",
        "# 변수들로만 이루어진 DataFrame 생성\n",
        "filtered_data = train_data[com_variables]"
      ]
    },
    {
      "cell_type": "code",
      "execution_count": 312,
      "id": "99dbb2dc",
      "metadata": {
        "colab": {
          "base_uri": "https://localhost:8080/",
          "height": 458
        },
        "id": "99dbb2dc",
        "outputId": "97534ba4-e57a-40d0-9ede-021c4f5ed93a"
      },
      "outputs": [
        {
          "output_type": "execute_result",
          "data": {
            "text/plain": [
              "0        0.049336\n",
              "1        0.049336\n",
              "2        0.056712\n",
              "3        0.056712\n",
              "4        0.056712\n",
              "           ...   \n",
              "40501    0.056712\n",
              "40502    0.056712\n",
              "40503    0.056712\n",
              "40504    0.056712\n",
              "40505    0.056712\n",
              "Name: Model.Suffix, Length: 40506, dtype: float64"
            ],
            "text/html": [
              "<div>\n",
              "<style scoped>\n",
              "    .dataframe tbody tr th:only-of-type {\n",
              "        vertical-align: middle;\n",
              "    }\n",
              "\n",
              "    .dataframe tbody tr th {\n",
              "        vertical-align: top;\n",
              "    }\n",
              "\n",
              "    .dataframe thead th {\n",
              "        text-align: right;\n",
              "    }\n",
              "</style>\n",
              "<table border=\"1\" class=\"dataframe\">\n",
              "  <thead>\n",
              "    <tr style=\"text-align: right;\">\n",
              "      <th></th>\n",
              "      <th>Model.Suffix</th>\n",
              "    </tr>\n",
              "  </thead>\n",
              "  <tbody>\n",
              "    <tr>\n",
              "      <th>0</th>\n",
              "      <td>0.049336</td>\n",
              "    </tr>\n",
              "    <tr>\n",
              "      <th>1</th>\n",
              "      <td>0.049336</td>\n",
              "    </tr>\n",
              "    <tr>\n",
              "      <th>2</th>\n",
              "      <td>0.056712</td>\n",
              "    </tr>\n",
              "    <tr>\n",
              "      <th>3</th>\n",
              "      <td>0.056712</td>\n",
              "    </tr>\n",
              "    <tr>\n",
              "      <th>4</th>\n",
              "      <td>0.056712</td>\n",
              "    </tr>\n",
              "    <tr>\n",
              "      <th>...</th>\n",
              "      <td>...</td>\n",
              "    </tr>\n",
              "    <tr>\n",
              "      <th>40501</th>\n",
              "      <td>0.056712</td>\n",
              "    </tr>\n",
              "    <tr>\n",
              "      <th>40502</th>\n",
              "      <td>0.056712</td>\n",
              "    </tr>\n",
              "    <tr>\n",
              "      <th>40503</th>\n",
              "      <td>0.056712</td>\n",
              "    </tr>\n",
              "    <tr>\n",
              "      <th>40504</th>\n",
              "      <td>0.056712</td>\n",
              "    </tr>\n",
              "    <tr>\n",
              "      <th>40505</th>\n",
              "      <td>0.056712</td>\n",
              "    </tr>\n",
              "  </tbody>\n",
              "</table>\n",
              "<p>40506 rows × 1 columns</p>\n",
              "</div><br><label><b>dtype:</b> float64</label>"
            ]
          },
          "metadata": {},
          "execution_count": 312
        }
      ],
      "source": [
        "filtered_data['Model.Suffix']"
      ]
    },
    {
      "cell_type": "code",
      "execution_count": 313,
      "id": "cf966448",
      "metadata": {
        "colab": {
          "base_uri": "https://localhost:8080/"
        },
        "id": "cf966448",
        "outputId": "d6672f30-7b9e-482e-e308-a2a1632a1f2e"
      },
      "outputs": [
        {
          "output_type": "stream",
          "name": "stdout",
          "text": [
            "                Variable 1               Variable 2  Correlation\n",
            "0              Dispenser_2  PalletID_Collect_Result     0.860274\n",
            "1  PalletID_Collect_Result              Dispenser_2     0.860274\n"
          ]
        }
      ],
      "source": [
        "# 상관계수 행렬 계산\n",
        "correlation_matrix = filtered_data.corr()\n",
        "\n",
        "# 자기자신을 제외하고 특정 값 이상인 조합 찾기\n",
        "strong_correlations = correlation_matrix[(correlation_matrix >= 0.7) & (correlation_matrix != 1)]\n",
        "\n",
        "# 리스트로 변환\n",
        "strong_correlations_pairs = strong_correlations.stack().reset_index()\n",
        "strong_correlations_pairs.columns = ['Variable 1', 'Variable 2', 'Correlation']\n",
        "\n",
        "# 결과 출력\n",
        "strong_correlations_pairs = strong_correlations_pairs[strong_correlations_pairs['Correlation'] >= 0.7]\n",
        "print(strong_correlations_pairs)"
      ]
    },
    {
      "cell_type": "code",
      "execution_count": 314,
      "id": "105fe344",
      "metadata": {
        "id": "105fe344"
      },
      "outputs": [],
      "source": [
        "# 변수 삭제\n",
        "train_data.drop(['PalletID_Collect_Result'], axis=1, inplace=True)\n",
        "test_data.drop(['PalletID_Collect_Result'], axis=1, inplace=True)"
      ]
    },
    {
      "cell_type": "code",
      "execution_count": 315,
      "id": "807ffaf5",
      "metadata": {
        "id": "807ffaf5"
      },
      "outputs": [],
      "source": [
        "# 공통 변수 리스트\n",
        "com_variables_train = [\n",
        "    'target'\n",
        "    , 'Model.Suffix'\n",
        "    , 'Workorder'\n",
        "    , 'WorkMode Collect Result'\n",
        "    , 'Dispenser_1'\n",
        "    , 'Dispenser_2'\n",
        "    , 'Receip_No_Collect_Result'\n",
        "    # , 'PalletID_Collect_Result'\n",
        "    , 'Production_Qty_Collect_Result'\n",
        "    , 'Judge_Value_OK'\n",
        "    , 'Workorder_0.9'\n",
        "    , 'Workorder_0.6'\n",
        "]\n",
        "\n",
        "com_variables_test = [\n",
        "    'target'\n",
        "    , 'Set ID'\n",
        "    , 'Model.Suffix'\n",
        "    , 'Workorder'\n",
        "    , 'WorkMode Collect Result'\n",
        "    , 'Dispenser_1'\n",
        "    , 'Dispenser_2'\n",
        "    , 'Receip_No_Collect_Result'\n",
        "    # , 'PalletID_Collect_Result'\n",
        "    , 'Production_Qty_Collect_Result'\n",
        "    , 'Judge_Value_OK'\n",
        "    , 'Workorder_0.9'\n",
        "    , 'Workorder_0.6'\n",
        "]"
      ]
    },
    {
      "cell_type": "markdown",
      "id": "2955d978",
      "metadata": {
        "id": "2955d978"
      },
      "source": [
        "Dam"
      ]
    },
    {
      "cell_type": "code",
      "execution_count": 316,
      "id": "3b5911a8",
      "metadata": {
        "colab": {
          "base_uri": "https://localhost:8080/"
        },
        "id": "3b5911a8",
        "outputId": "f27ece41-aa1f-41c3-9bf3-1dedbb3dd991"
      },
      "outputs": [
        {
          "output_type": "stream",
          "name": "stdout",
          "text": [
            "<Dam 공정 관련 변수>\n",
            "DISCHARGED SPEED OF RESIN Collect Result_Dam\n",
            "DISCHARGED TIME OF RESIN(Stage1) Collect Result_Dam\n",
            "DISCHARGED TIME OF RESIN(Stage2) Collect Result_Dam\n",
            "DISCHARGED TIME OF RESIN(Stage3) Collect Result_Dam\n",
            "Dispense Volume(Stage1) Collect Result_Dam\n",
            "Dispense Volume(Stage2) Collect Result_Dam\n",
            "Dispense Volume(Stage3) Collect Result_Dam\n",
            "Head Clean Position Z Collect Result_Dam\n",
            "Head Purge Position Z Collect Result_Dam\n",
            "Head Zero Position Y Collect Result_Dam\n",
            "Head Zero Position Z Collect Result_Dam\n",
            "CURE_Time_Dam\n",
            "HEAD NORMAL DISTANCE_STAGE1_STAGE3_Dam\n",
            "HEAD NORMAL DISTANCE_TRIANGLE_height_Dam\n",
            "Stage1_Distance_Speed_avg_Dam\n",
            "Stage2_Distance_Speed_avg_Dam\n",
            "Stage3_Distance_Speed_avg_Dam\n",
            "THICKNESS_total_Dam\n",
            "time_ratio_Dam\n"
          ]
        }
      ],
      "source": [
        "# 열 이름 필터링\n",
        "Process_Desc_col = train_data.filter(like='_Dam').columns\n",
        "\n",
        "# 필터링된 열 이름 출력\n",
        "print(\"<Dam 공정 관련 변수>\")\n",
        "for col in Process_Desc_col:\n",
        "    print(col)"
      ]
    },
    {
      "cell_type": "code",
      "execution_count": 317,
      "id": "5d01ad2e",
      "metadata": {
        "id": "5d01ad2e"
      },
      "outputs": [],
      "source": [
        "# 새로운 변수 목록\n",
        "variables = [\n",
        "    \"DISCHARGED SPEED OF RESIN Collect Result_Dam\",\n",
        "    \"DISCHARGED TIME OF RESIN(Stage1) Collect Result_Dam\",\n",
        "    \"DISCHARGED TIME OF RESIN(Stage2) Collect Result_Dam\",\n",
        "    \"DISCHARGED TIME OF RESIN(Stage3) Collect Result_Dam\",\n",
        "    \"Dispense Volume(Stage1) Collect Result_Dam\",\n",
        "    \"Dispense Volume(Stage2) Collect Result_Dam\",\n",
        "    \"Dispense Volume(Stage3) Collect Result_Dam\",\n",
        "    \"Head Clean Position Z Collect Result_Dam\",\n",
        "    \"Head Purge Position Z Collect Result_Dam\",\n",
        "    \"Head Zero Position Y Collect Result_Dam\",\n",
        "    \"Head Zero Position Z Collect Result_Dam\",\n",
        "    \"CURE_Time_Dam\",\n",
        "    \"HEAD NORMAL DISTANCE_STAGE1_STAGE3_Dam\",\n",
        "    \"HEAD NORMAL DISTANCE_TRIANGLE_height_Dam\",\n",
        "    \"Stage1_Distance_Speed_avg_Dam\",\n",
        "    \"Stage2_Distance_Speed_avg_Dam\",\n",
        "    \"Stage3_Distance_Speed_avg_Dam\",\n",
        "    \"THICKNESS_total_Dam\",\n",
        "    \"time_ratio_Dam\"\n",
        "]\n",
        "\n",
        "# 변수들로만 이루어진 DataFrame 생성\n",
        "filtered_data = train_data[variables]"
      ]
    },
    {
      "cell_type": "code",
      "execution_count": 318,
      "id": "96b98835",
      "metadata": {
        "colab": {
          "base_uri": "https://localhost:8080/"
        },
        "id": "96b98835",
        "outputId": "e8f0d743-424a-4abe-9805-b2d1dbf889cc"
      },
      "outputs": [
        {
          "output_type": "stream",
          "name": "stdout",
          "text": [
            "                                           Variable 1  \\\n",
            "0        DISCHARGED SPEED OF RESIN Collect Result_Dam   \n",
            "1   DISCHARGED TIME OF RESIN(Stage1) Collect Resul...   \n",
            "2   DISCHARGED TIME OF RESIN(Stage1) Collect Resul...   \n",
            "3   DISCHARGED TIME OF RESIN(Stage2) Collect Resul...   \n",
            "4   DISCHARGED TIME OF RESIN(Stage3) Collect Resul...   \n",
            "5   DISCHARGED TIME OF RESIN(Stage3) Collect Resul...   \n",
            "6          Dispense Volume(Stage1) Collect Result_Dam   \n",
            "7          Dispense Volume(Stage1) Collect Result_Dam   \n",
            "8          Dispense Volume(Stage1) Collect Result_Dam   \n",
            "9          Dispense Volume(Stage2) Collect Result_Dam   \n",
            "10         Dispense Volume(Stage2) Collect Result_Dam   \n",
            "11           Head Clean Position Z Collect Result_Dam   \n",
            "12            Head Zero Position Z Collect Result_Dam   \n",
            "13                                      CURE_Time_Dam   \n",
            "14                      Stage1_Distance_Speed_avg_Dam   \n",
            "15                      Stage3_Distance_Speed_avg_Dam   \n",
            "\n",
            "                                           Variable 2  Correlation  \n",
            "0             Head Zero Position Z Collect Result_Dam     0.808023  \n",
            "1   DISCHARGED TIME OF RESIN(Stage3) Collect Resul...     0.999476  \n",
            "2          Dispense Volume(Stage1) Collect Result_Dam     0.788676  \n",
            "3          Dispense Volume(Stage2) Collect Result_Dam     0.823917  \n",
            "4   DISCHARGED TIME OF RESIN(Stage1) Collect Resul...     0.999476  \n",
            "5          Dispense Volume(Stage1) Collect Result_Dam     0.783575  \n",
            "6   DISCHARGED TIME OF RESIN(Stage1) Collect Resul...     0.788676  \n",
            "7   DISCHARGED TIME OF RESIN(Stage3) Collect Resul...     0.783575  \n",
            "8          Dispense Volume(Stage2) Collect Result_Dam     0.767858  \n",
            "9   DISCHARGED TIME OF RESIN(Stage2) Collect Resul...     0.823917  \n",
            "10         Dispense Volume(Stage1) Collect Result_Dam     0.767858  \n",
            "11                                      CURE_Time_Dam     0.729409  \n",
            "12       DISCHARGED SPEED OF RESIN Collect Result_Dam     0.808023  \n",
            "13           Head Clean Position Z Collect Result_Dam     0.729409  \n",
            "14                      Stage3_Distance_Speed_avg_Dam     0.999898  \n",
            "15                      Stage1_Distance_Speed_avg_Dam     0.999898  \n"
          ]
        }
      ],
      "source": [
        "# 상관계수 행렬 계산\n",
        "correlation_matrix = filtered_data.corr()\n",
        "\n",
        "# 자기자신을 제외하고 특정 값 이상인 조합 찾기\n",
        "strong_correlations = correlation_matrix[(correlation_matrix >= 0.7) & (correlation_matrix != 1)]\n",
        "\n",
        "# 리스트로 변환\n",
        "strong_correlations_pairs = strong_correlations.stack().reset_index()\n",
        "strong_correlations_pairs.columns = ['Variable 1', 'Variable 2', 'Correlation']\n",
        "\n",
        "# 결과 출력\n",
        "strong_correlations_pairs = strong_correlations_pairs[strong_correlations_pairs['Correlation'] >= 0.7]\n",
        "print(strong_correlations_pairs)"
      ]
    },
    {
      "cell_type": "code",
      "execution_count": 319,
      "id": "749bda8b",
      "metadata": {
        "id": "749bda8b"
      },
      "outputs": [],
      "source": [
        "# 드랍할 열 목록\n",
        "columns_to_drop = [\n",
        "    \"DISCHARGED TIME OF RESIN(Stage1) Collect Result_Dam\"\n",
        "    , \"DISCHARGED TIME OF RESIN(Stage2) Collect Result_Dam\"\n",
        "    , \"DISCHARGED TIME OF RESIN(Stage3) Collect Result_Dam\"\n",
        "    , \"Dispense Volume(Stage1) Collect Result_Dam\"\n",
        "    , \"Head Clean Position Z Collect Result_Dam\"\n",
        "    , \"Head Zero Position Z Collect Result_Dam\"\n",
        "    , \"Stage3_Distance_Speed_avg_Dam\"\n",
        "]\n",
        "\n",
        "# 열 삭제\n",
        "train_data.drop(columns=columns_to_drop, inplace=True, errors='ignore')\n",
        "test_data.drop(columns=columns_to_drop, inplace=True, errors='ignore')"
      ]
    },
    {
      "cell_type": "markdown",
      "id": "df9bf106",
      "metadata": {
        "id": "df9bf106"
      },
      "source": [
        "AutoCalve"
      ]
    },
    {
      "cell_type": "code",
      "execution_count": 320,
      "id": "f80651a8",
      "metadata": {
        "colab": {
          "base_uri": "https://localhost:8080/"
        },
        "id": "f80651a8",
        "outputId": "08cf0807-2892-4ede-f066-664be3bce800"
      },
      "outputs": [
        {
          "output_type": "stream",
          "name": "stdout",
          "text": [
            "<AutoClave 공정 관련 변수>\n",
            "1st Pressure Collect Result_AutoClave\n",
            "2nd Pressure Collect Result_AutoClave\n",
            "3rd Pressure Collect Result_AutoClave\n",
            "Chamber Temp. Collect Result_AutoClave\n",
            "Chamber_Temp_OKNG_AutoClave\n",
            "1st_Pressure_x_AutoClave\n",
            "2nd_Pressure_x_AutoClave\n",
            "3rd_Pressure_x_AutoClave\n",
            "All_Pressure_avg_AutoClave\n",
            "Chamber_Temp_x_AutoClave\n",
            "All_Pressure_frac_Chamber_Temp_AutoClave\n",
            "time_ratio_AutoClave\n"
          ]
        }
      ],
      "source": [
        "# 열 이름 필터링\n",
        "Process_Desc_col = train_data.filter(like='_AutoClave').columns\n",
        "\n",
        "# 필터링된 열 이름 출력\n",
        "print(\"<AutoClave 공정 관련 변수>\")\n",
        "for col in Process_Desc_col:\n",
        "    print(col)"
      ]
    },
    {
      "cell_type": "code",
      "execution_count": 321,
      "id": "566073bc",
      "metadata": {
        "id": "566073bc"
      },
      "outputs": [],
      "source": [
        "# 새로운 변수 목록\n",
        "variables = [\n",
        "    \"1st Pressure Collect Result_AutoClave\"\n",
        "    , \"2nd Pressure Collect Result_AutoClave\"\n",
        "    , \"3rd Pressure Collect Result_AutoClave\"\n",
        "    , \"Chamber Temp. Collect Result_AutoClave\"\n",
        "    , \"Chamber_Temp_OKNG_AutoClave\"\n",
        "    , \"1st_Pressure_x_AutoClave\"\n",
        "    , \"2nd_Pressure_x_AutoClave\"\n",
        "    , \"3rd_Pressure_x_AutoClave\"\n",
        "    , \"All_Pressure_avg_AutoClave\"\n",
        "    , \"Chamber_Temp_x_AutoClave\"\n",
        "    , \"All_Pressure_frac_Chamber_Temp_AutoClave\"\n",
        "    , \"time_ratio_AutoClave\"\n",
        "]\n",
        "\n",
        "# 변수들로만 이루어진 DataFrame 생성\n",
        "filtered_data = train_data[variables]"
      ]
    },
    {
      "cell_type": "code",
      "execution_count": 322,
      "id": "290c852f",
      "metadata": {
        "colab": {
          "base_uri": "https://localhost:8080/"
        },
        "id": "290c852f",
        "outputId": "37011141-a156-4c7b-8346-c5d9de223403"
      },
      "outputs": [
        {
          "output_type": "stream",
          "name": "stdout",
          "text": [
            "                               Variable 1  \\\n",
            "0  Chamber Temp. Collect Result_AutoClave   \n",
            "1             Chamber_Temp_OKNG_AutoClave   \n",
            "2                2nd_Pressure_x_AutoClave   \n",
            "3                Chamber_Temp_x_AutoClave   \n",
            "\n",
            "                               Variable 2  Correlation  \n",
            "0             Chamber_Temp_OKNG_AutoClave     0.742841  \n",
            "1  Chamber Temp. Collect Result_AutoClave     0.742841  \n",
            "2                Chamber_Temp_x_AutoClave     0.804096  \n",
            "3                2nd_Pressure_x_AutoClave     0.804096  \n"
          ]
        }
      ],
      "source": [
        "# 상관계수 행렬 계산\n",
        "correlation_matrix = filtered_data.corr()\n",
        "\n",
        "# 자기자신을 제외하고 특정 값 이상인 조합 찾기\n",
        "strong_correlations = correlation_matrix[(correlation_matrix >= 0.7) & (correlation_matrix != 1)]\n",
        "\n",
        "# 리스트로 변환\n",
        "strong_correlations_pairs = strong_correlations.stack().reset_index()\n",
        "strong_correlations_pairs.columns = ['Variable 1', 'Variable 2', 'Correlation']\n",
        "\n",
        "# 결과 출력\n",
        "strong_correlations_pairs = strong_correlations_pairs[strong_correlations_pairs['Correlation'] >= 0.7]\n",
        "print(strong_correlations_pairs)"
      ]
    },
    {
      "cell_type": "code",
      "execution_count": 323,
      "id": "fff17e1a",
      "metadata": {
        "id": "fff17e1a"
      },
      "outputs": [],
      "source": [
        "# 드랍할 열 목록\n",
        "columns_to_drop = [\n",
        "    \"2nd_Pressure_x_AutoClave\"\n",
        "    , 'Chamber_Temp_OKNG_AutoClave'\n",
        "    , 'Chamber_Temp_x_AutoClave'\n",
        "]\n",
        "\n",
        "# 열 삭제\n",
        "train_data.drop(columns=columns_to_drop, inplace=True, errors='ignore')\n",
        "test_data.drop(columns=columns_to_drop, inplace=True, errors='ignore')"
      ]
    },
    {
      "cell_type": "markdown",
      "id": "1fa86a4b",
      "metadata": {
        "id": "1fa86a4b"
      },
      "source": [
        "Fill1"
      ]
    },
    {
      "cell_type": "code",
      "execution_count": 324,
      "id": "a03bc6de",
      "metadata": {
        "colab": {
          "base_uri": "https://localhost:8080/"
        },
        "id": "a03bc6de",
        "outputId": "3f3a14ee-eacc-48d7-f542-f5dfc4a4efbe"
      },
      "outputs": [
        {
          "output_type": "stream",
          "name": "stdout",
          "text": [
            "<Fill1 공정 관련 변수>\n",
            "DISCHARGED SPEED OF RESIN Collect Result_Fill1\n",
            "DISCHARGED TIME OF RESIN(Stage1) Collect Result_Fill1\n",
            "DISCHARGED TIME OF RESIN(Stage2) Collect Result_Fill1\n",
            "DISCHARGED TIME OF RESIN(Stage3) Collect Result_Fill1\n",
            "Dispense Volume(Stage1) Collect Result_Fill1\n",
            "Dispense Volume(Stage2) Collect Result_Fill1\n",
            "Dispense Volume(Stage3) Collect Result_Fill1\n",
            "Head Purge Position Z Collect Result_Fill1\n",
            "HEAD NORMAL DISTANCE_STAGE1_STAGE3_Fill1\n",
            "HEAD NORMAL DISTANCE_TRIANGLE_height_Fill1\n",
            "time_ratio_Fill1\n"
          ]
        }
      ],
      "source": [
        "# 열 이름 필터링\n",
        "Process_Desc_col = train_data.filter(like='_Fill1').columns\n",
        "\n",
        "# 필터링된 열 이름 출력\n",
        "print(\"<Fill1 공정 관련 변수>\")\n",
        "for col in Process_Desc_col:\n",
        "    print(col)"
      ]
    },
    {
      "cell_type": "code",
      "execution_count": 325,
      "id": "3fa145f8",
      "metadata": {
        "id": "3fa145f8"
      },
      "outputs": [],
      "source": [
        "# 새로운 변수 목록\n",
        "variables = [\n",
        "    \"DISCHARGED SPEED OF RESIN Collect Result_Fill1\",\n",
        "    \"DISCHARGED TIME OF RESIN(Stage1) Collect Result_Fill1\",\n",
        "    \"DISCHARGED TIME OF RESIN(Stage2) Collect Result_Fill1\",\n",
        "    \"DISCHARGED TIME OF RESIN(Stage3) Collect Result_Fill1\",\n",
        "    \"Dispense Volume(Stage1) Collect Result_Fill1\",\n",
        "    \"Dispense Volume(Stage2) Collect Result_Fill1\",\n",
        "    \"Dispense Volume(Stage3) Collect Result_Fill1\",\n",
        "    \"Head Purge Position Z Collect Result_Fill1\",\n",
        "    \"HEAD NORMAL DISTANCE_STAGE1_STAGE3_Fill1\",\n",
        "    \"HEAD NORMAL DISTANCE_TRIANGLE_height_Fill1\",\n",
        "    \"time_ratio_Fill1\"\n",
        "]\n",
        "\n",
        "# 변수들로만 이루어진 DataFrame 생성\n",
        "filtered_data = train_data[variables]"
      ]
    },
    {
      "cell_type": "code",
      "execution_count": 326,
      "id": "0e3d6b34",
      "metadata": {
        "colab": {
          "base_uri": "https://localhost:8080/"
        },
        "id": "0e3d6b34",
        "outputId": "91a16f55-aa2d-4c56-dc36-4d2cea779e23"
      },
      "outputs": [
        {
          "output_type": "stream",
          "name": "stdout",
          "text": [
            "                                          Variable 1  \\\n",
            "0  DISCHARGED TIME OF RESIN(Stage1) Collect Resul...   \n",
            "1  DISCHARGED TIME OF RESIN(Stage2) Collect Resul...   \n",
            "2       Dispense Volume(Stage1) Collect Result_Fill1   \n",
            "3       Dispense Volume(Stage1) Collect Result_Fill1   \n",
            "4       Dispense Volume(Stage2) Collect Result_Fill1   \n",
            "5           HEAD NORMAL DISTANCE_STAGE1_STAGE3_Fill1   \n",
            "\n",
            "                                          Variable 2  Correlation  \n",
            "0       Dispense Volume(Stage1) Collect Result_Fill1     0.834402  \n",
            "1       Dispense Volume(Stage2) Collect Result_Fill1     0.988529  \n",
            "2  DISCHARGED TIME OF RESIN(Stage1) Collect Resul...     0.834402  \n",
            "3           HEAD NORMAL DISTANCE_STAGE1_STAGE3_Fill1     0.763230  \n",
            "4  DISCHARGED TIME OF RESIN(Stage2) Collect Resul...     0.988529  \n",
            "5       Dispense Volume(Stage1) Collect Result_Fill1     0.763230  \n"
          ]
        }
      ],
      "source": [
        "# 상관계수 행렬 계산\n",
        "correlation_matrix = filtered_data.corr()\n",
        "\n",
        "# 자기자신을 제외하고 특정 값 이상인 조합 찾기\n",
        "strong_correlations = correlation_matrix[(correlation_matrix >= 0.7) & (correlation_matrix != 1)]\n",
        "\n",
        "# 리스트로 변환\n",
        "strong_correlations_pairs = strong_correlations.stack().reset_index()\n",
        "strong_correlations_pairs.columns = ['Variable 1', 'Variable 2', 'Correlation']\n",
        "\n",
        "# 결과 출력\n",
        "strong_correlations_pairs = strong_correlations_pairs[strong_correlations_pairs['Correlation'] >= 0.7]\n",
        "print(strong_correlations_pairs)"
      ]
    },
    {
      "cell_type": "code",
      "execution_count": 327,
      "id": "5e63aa21",
      "metadata": {
        "id": "5e63aa21"
      },
      "outputs": [],
      "source": [
        "# 드랍할 열 목록\n",
        "columns_to_drop = [\n",
        "    \"Dispense Volume(Stage1) Collect Result_Fill1\"\n",
        "    , \"Dispense Volume(Stage2) Collect Result_Fill1\"\n",
        "]\n",
        "\n",
        "# 열 삭제\n",
        "train_data.drop(columns=columns_to_drop, inplace=True, errors='ignore')\n",
        "test_data.drop(columns=columns_to_drop, inplace=True, errors='ignore')"
      ]
    },
    {
      "cell_type": "markdown",
      "id": "04408756",
      "metadata": {
        "id": "04408756"
      },
      "source": [
        "Fill2"
      ]
    },
    {
      "cell_type": "code",
      "execution_count": 328,
      "id": "04ce5f7d",
      "metadata": {
        "colab": {
          "base_uri": "https://localhost:8080/"
        },
        "id": "04ce5f7d",
        "outputId": "f849a0fa-4985-4a28-99e6-a0df12318622"
      },
      "outputs": [
        {
          "output_type": "stream",
          "name": "stdout",
          "text": [
            "<Fill1 공정 관련 변수>\n",
            "Head Purge Position Z Collect Result_Fill2\n",
            "CURE_Time_Fill2\n",
            "HEAD NORMAL DISTANCE_STAGE1_STAGE2_Fill2\n",
            "HEAD NORMAL DISTANCE_STAGE2_STAGE3_Fill2\n",
            "HEAD NORMAL DISTANCE_STAGE1_STAGE3_Fill2\n",
            "time_ratio_Fill2\n"
          ]
        }
      ],
      "source": [
        "# 열 이름 필터링\n",
        "Process_Desc_col = train_data.filter(like='_Fill2').columns\n",
        "\n",
        "# 필터링된 열 이름 출력\n",
        "print(\"<Fill1 공정 관련 변수>\")\n",
        "for col in Process_Desc_col:\n",
        "    print(col)"
      ]
    },
    {
      "cell_type": "code",
      "execution_count": 329,
      "id": "dfb13c1a",
      "metadata": {
        "id": "dfb13c1a"
      },
      "outputs": [],
      "source": [
        "# 새로운 변수 목록\n",
        "variables = [\n",
        "    \"Head Purge Position Z Collect Result_Fill2\"\n",
        "    , \"CURE_Time_Fill2\"\n",
        "    , \"HEAD NORMAL DISTANCE_STAGE1_STAGE2_Fill2\"\n",
        "    , \"HEAD NORMAL DISTANCE_STAGE2_STAGE3_Fill2\"\n",
        "    , \"HEAD NORMAL DISTANCE_STAGE1_STAGE3_Fill2\"\n",
        "    , \"time_ratio_Fill2\"\n",
        "]\n",
        "\n",
        "# 변수들로만 이루어진 DataFrame 생성\n",
        "filtered_data = train_data[variables]"
      ]
    },
    {
      "cell_type": "code",
      "execution_count": 330,
      "id": "6ec9d4a8",
      "metadata": {
        "colab": {
          "base_uri": "https://localhost:8080/"
        },
        "id": "6ec9d4a8",
        "outputId": "cd62277f-077f-43eb-e44c-22f7ca1bb3db"
      },
      "outputs": [
        {
          "output_type": "stream",
          "name": "stdout",
          "text": [
            "                                 Variable 1  \\\n",
            "0  HEAD NORMAL DISTANCE_STAGE1_STAGE2_Fill2   \n",
            "1  HEAD NORMAL DISTANCE_STAGE1_STAGE2_Fill2   \n",
            "2  HEAD NORMAL DISTANCE_STAGE2_STAGE3_Fill2   \n",
            "3  HEAD NORMAL DISTANCE_STAGE2_STAGE3_Fill2   \n",
            "4  HEAD NORMAL DISTANCE_STAGE1_STAGE3_Fill2   \n",
            "5  HEAD NORMAL DISTANCE_STAGE1_STAGE3_Fill2   \n",
            "\n",
            "                                 Variable 2  Correlation  \n",
            "0  HEAD NORMAL DISTANCE_STAGE2_STAGE3_Fill2     0.999993  \n",
            "1  HEAD NORMAL DISTANCE_STAGE1_STAGE3_Fill2     0.999999  \n",
            "2  HEAD NORMAL DISTANCE_STAGE1_STAGE2_Fill2     0.999993  \n",
            "3  HEAD NORMAL DISTANCE_STAGE1_STAGE3_Fill2     0.999997  \n",
            "4  HEAD NORMAL DISTANCE_STAGE1_STAGE2_Fill2     0.999999  \n",
            "5  HEAD NORMAL DISTANCE_STAGE2_STAGE3_Fill2     0.999997  \n"
          ]
        }
      ],
      "source": [
        "# 상관계수 행렬 계산\n",
        "correlation_matrix = filtered_data.corr()\n",
        "\n",
        "# 자기자신을 제외하고 특정 값 이상인 조합 찾기\n",
        "strong_correlations = correlation_matrix[(correlation_matrix >= 0.7) & (correlation_matrix != 1)]\n",
        "\n",
        "# 리스트로 변환\n",
        "strong_correlations_pairs = strong_correlations.stack().reset_index()\n",
        "strong_correlations_pairs.columns = ['Variable 1', 'Variable 2', 'Correlation']\n",
        "\n",
        "# 결과 출력\n",
        "strong_correlations_pairs = strong_correlations_pairs[strong_correlations_pairs['Correlation'] >= 0.7]\n",
        "print(strong_correlations_pairs)"
      ]
    },
    {
      "cell_type": "code",
      "execution_count": 331,
      "id": "7c533e10",
      "metadata": {
        "id": "7c533e10"
      },
      "outputs": [],
      "source": [
        "# 드랍할 열 목록\n",
        "columns_to_drop = [\n",
        "    \"HEAD NORMAL DISTANCE_STAGE1_STAGE2_Fill2\",\n",
        "    \"HEAD NORMAL DISTANCE_STAGE2_STAGE3_Fill2\"\n",
        "]\n",
        "\n",
        "# 열 삭제\n",
        "train_data.drop(columns=columns_to_drop, inplace=True, errors='ignore')\n",
        "test_data.drop(columns=columns_to_drop, inplace=True, errors='ignore')"
      ]
    },
    {
      "cell_type": "markdown",
      "id": "8c32095b",
      "metadata": {
        "id": "8c32095b"
      },
      "source": [
        "공정별 변수 + 공통 변수 결합  \n",
        "-> 총 4개의 데이터셋을 구성하고 각 데이터셋 마다 train,test 를 만듬"
      ]
    },
    {
      "cell_type": "code",
      "execution_count": 332,
      "id": "84f9c1c4",
      "metadata": {
        "id": "84f9c1c4"
      },
      "outputs": [],
      "source": [
        "# 공정 이름 필터링 후 공통 변수와 결합\n",
        "def create_dataset(train_data, test_data, process_name, com_variables_train, com_variables_test):\n",
        "    # 열 이름 필터링\n",
        "    Process_Desc_col = train_data.filter(like=process_name).columns\n",
        "\n",
        "    # train 데이터셋 생성\n",
        "    final_columns_train = list(Process_Desc_col) + com_variables_train\n",
        "    train_dataset = train_data[final_columns_train]\n",
        "\n",
        "    # test 데이터셋 생성\n",
        "    final_columns_test = list(Process_Desc_col) + com_variables_test\n",
        "    test_dataset = test_data[final_columns_test]\n",
        "\n",
        "    return train_dataset, test_dataset\n",
        "\n",
        "# 공통 변수 정의\n",
        "## com_variables_train = [...]  -> 이전 코드에서 정의한 변수 사용\n",
        "## com_variables_test = [...]   -> 이전 코드에서 정의한 변수 사용\n",
        "\n",
        "# 데이터셋 생성\n",
        "train_data_dam, test_data_dam = create_dataset(train_data, test_data, '_Dam', com_variables_train, com_variables_test)\n",
        "train_data_fill1, test_data_fill1 = create_dataset(train_data, test_data, '_Fill1', com_variables_train, com_variables_test)\n",
        "train_data_fill2, test_data_fill2 = create_dataset(train_data, test_data, '_Fill2', com_variables_train, com_variables_test)\n",
        "train_data_autoclave, test_data_autoclave = create_dataset(train_data, test_data, '_AutoClave', com_variables_train, com_variables_test)"
      ]
    },
    {
      "cell_type": "markdown",
      "id": "5c4e5b59",
      "metadata": {
        "id": "5c4e5b59"
      },
      "source": [
        "## 3. 모델 학습"
      ]
    },
    {
      "cell_type": "markdown",
      "id": "cfaa06da",
      "metadata": {
        "id": "cfaa06da"
      },
      "source": [
        "### 모델 정의"
      ]
    },
    {
      "cell_type": "code",
      "execution_count": 333,
      "id": "fb9e8f54",
      "metadata": {
        "id": "fb9e8f54"
      },
      "outputs": [],
      "source": [
        "from sklearn.metrics import (\n",
        "    accuracy_score,\n",
        "    confusion_matrix,\n",
        "    f1_score,\n",
        "    precision_score,\n",
        "    recall_score,\n",
        ")\n",
        "\n",
        "def get_clf_eval(y_test, y_pred_proba, threshold=0.5):\n",
        "    # 확률을 기준으로 예측 레이블 생성\n",
        "    y_pred = (y_pred_proba >= threshold).astype(int)  # 0.5 이상의 확률을 양성으로 간주\n",
        "\n",
        "    confusion = confusion_matrix(y_test, y_pred)\n",
        "    accuracy = accuracy_score(y_test, y_pred)\n",
        "    precision = precision_score(y_test, y_pred)\n",
        "    recall = recall_score(y_test, y_pred)\n",
        "    f1 = f1_score(y_test, y_pred)\n",
        "\n",
        "    print(\"Confusion Matrix:\\n\", confusion)\n",
        "    print(f\"Accuracy: {accuracy:.4f}\")\n",
        "    print(f\"Precision: {precision:.4f}\")\n",
        "    print(f\"Recall: {recall:.4f}\")\n",
        "    print(f\"F1 Score: {f1:.4f}\")\n"
      ]
    },
    {
      "cell_type": "code",
      "execution_count": 334,
      "id": "d10c5108",
      "metadata": {
        "colab": {
          "base_uri": "https://localhost:8080/"
        },
        "id": "d10c5108",
        "outputId": "e1d1d262-faac-400f-ae75-1c97147c3f8c"
      },
      "outputs": [
        {
          "output_type": "stream",
          "name": "stderr",
          "text": [
            "<ipython-input-334-f21f0d6a9fb6>:2: SettingWithCopyWarning: \n",
            "A value is trying to be set on a copy of a slice from a DataFrame.\n",
            "Try using .loc[row_indexer,col_indexer] = value instead\n",
            "\n",
            "See the caveats in the documentation: https://pandas.pydata.org/pandas-docs/stable/user_guide/indexing.html#returning-a-view-versus-a-copy\n",
            "  train_data_dam['target'] = train_data_dam['target'].map({'Normal': 0, 'AbNormal': 1})\n"
          ]
        }
      ],
      "source": [
        "# 'Normal'과 'AbNormal'을 숫자로 변환\n",
        "train_data_dam['target'] = train_data_dam['target'].map({'Normal': 0, 'AbNormal': 1})\n",
        "\n",
        "# 스레드홀드 설정\n",
        "THRESHOLD = 0.3\n",
        "\n",
        "#def objectiveCatBoost(trial, x_tr, y_tr, x_val, y_val):\n",
        "#    param = {\n",
        "#        'iterations': trial.suggest_int('iterations', 100, 800)\n",
        "#        , 'depth': trial.suggest_int('depth', 2, 16)\n",
        "#        , 'learning_rate': trial.suggest_float('learning_rate', 0.01, 0.2)\n",
        "#        , 'l2_leaf_reg': trial.suggest_loguniform('l2_leaf_reg', 0.01, 10.0)\n",
        "#        , 'border_count': trial.suggest_int('border_count', 10, 100)\n",
        "\n",
        "#        , 'random_seed': RANDOM_STATE\n",
        "#        , 'verbose': False\n",
        "#    }\n",
        "\n",
        "#    model = CatBoostClassifier(**param)\n",
        "#    model.fit(x_tr, y_tr)\n",
        "#    pred = model.predict(x_val)\n",
        "#    score = f1_score(y_val, pred, average=\"binary\")\n",
        "\n",
        "#    return score\n",
        "\n",
        "# 데이터셋 분할\n",
        "#x_train, x_val, y_train, y_val = train_test_split(\n",
        "#    train_data_dam.drop(\"target\", axis=1),\n",
        "#    train_data_dam[\"target\"],\n",
        "#    test_size=0.2,\n",
        "#    shuffle=True,\n",
        "#    random_state=RANDOM_STATE,\n",
        "#)\n",
        "\n",
        "# 하이퍼 파라미터 튜닝\n",
        "#study = optuna.create_study(direction='maximize', sampler=optuna.samplers.TPESampler(seed=RANDOM_STATE))\n",
        "#study.optimize(lambda trial: objectiveCatBoost(trial, x_train, y_train, x_val, y_val), n_trials=300)\n",
        "\n",
        "#print('Best trial: score {}, \\nparams {}'.format(study.best_trial.value, study.best_trial.params))"
      ]
    },
    {
      "cell_type": "code",
      "source": [
        "# 최적의 하이퍼파라미터\n",
        "best_params = {\n",
        "    'iterations': 755,\n",
        "    'depth': 7,\n",
        "    'learning_rate': 0.19866742206648758,\n",
        "    'l2_leaf_reg': 0.24483628170369134,\n",
        "    'border_count': 95,\n",
        "    'random_seed': RANDOM_STATE,\n",
        "\n",
        "}\n",
        "\n",
        "# 모델 생성\n",
        "model = CatBoostClassifier(**best_params)\n",
        "\n",
        "# 데이터셋 분할 (재사용)\n",
        "x_train, x_val, y_train, y_val = train_test_split(\n",
        "    train_data_dam.drop(\"target\", axis=1),\n",
        "    train_data_dam[\"target\"],\n",
        "    test_size=0.2,\n",
        "    shuffle=True,\n",
        "    random_state=RANDOM_STATE\n",
        ")\n",
        "\n",
        "#y_train = y_train.apply(lambda x: 1 if x == 'AbNormal' else 0)\n",
        "#y_val = y_val.apply(lambda x: 1 if x == 'AbNormal' else 0)\n",
        "\n",
        "# 모델 학습\n",
        "model.fit(x_train, y_train)\n",
        "\n",
        "# 검증 데이터에 대한 예측\n",
        "y_val_pred_proba = model.predict_proba(x_val)[:, 1]  # 양성 클래스 확률\n",
        "y_val_pred = (y_val_pred_proba >= THRESHOLD).astype(int)  # 스레드홀드에 따른 예측\n",
        "\n",
        "# 평가지표 계산\n",
        "f1 = f1_score(y_val, y_val_pred, average=\"binary\")\n",
        "accuracy = accuracy_score(y_val, y_val_pred)\n",
        "precision = precision_score(y_val, y_val_pred)\n",
        "recall = recall_score(y_val, y_val_pred)\n",
        "\n",
        "# 혼동 행렬 계산\n",
        "conf_matrix = confusion_matrix(y_val, y_val_pred)\n",
        "\n",
        "# 결과 출력\n",
        "print(f'F1 Score: {f1}')\n",
        "print('---')\n",
        "print('Confusion Matrix:')\n",
        "print(conf_matrix) # 혼동 행렬 출력\n",
        "print('---')\n",
        "print(f'Accuracy: {accuracy}')\n",
        "print(f'Precision: {precision}')\n",
        "print(f'Recall: {recall}')"
      ],
      "metadata": {
        "colab": {
          "base_uri": "https://localhost:8080/"
        },
        "id": "mkQwGOMLJ2zL",
        "outputId": "196a5855-58fb-4a2b-de8b-ca6b3dc698ce"
      },
      "id": "mkQwGOMLJ2zL",
      "execution_count": 335,
      "outputs": [
        {
          "output_type": "stream",
          "name": "stdout",
          "text": [
            "0:\tlearn: 0.4821751\ttotal: 6.68ms\tremaining: 5.04s\n",
            "1:\tlearn: 0.3549734\ttotal: 12.6ms\tremaining: 4.75s\n",
            "2:\tlearn: 0.2939218\ttotal: 17.7ms\tremaining: 4.45s\n",
            "3:\tlearn: 0.2548974\ttotal: 24.8ms\tremaining: 4.65s\n",
            "4:\tlearn: 0.2309913\ttotal: 30.5ms\tremaining: 4.57s\n",
            "5:\tlearn: 0.2190122\ttotal: 38.2ms\tremaining: 4.76s\n",
            "6:\tlearn: 0.2109658\ttotal: 44.1ms\tremaining: 4.71s\n",
            "7:\tlearn: 0.2053156\ttotal: 50ms\tremaining: 4.67s\n",
            "8:\tlearn: 0.2012307\ttotal: 56.9ms\tremaining: 4.71s\n",
            "9:\tlearn: 0.1997075\ttotal: 61.8ms\tremaining: 4.6s\n",
            "10:\tlearn: 0.1982408\ttotal: 67.7ms\tremaining: 4.58s\n",
            "11:\tlearn: 0.1964299\ttotal: 73.2ms\tremaining: 4.53s\n",
            "12:\tlearn: 0.1957812\ttotal: 80.3ms\tremaining: 4.58s\n",
            "13:\tlearn: 0.1950974\ttotal: 86ms\tremaining: 4.55s\n",
            "14:\tlearn: 0.1942744\ttotal: 92ms\tremaining: 4.54s\n",
            "15:\tlearn: 0.1936921\ttotal: 97.6ms\tremaining: 4.51s\n",
            "16:\tlearn: 0.1927233\ttotal: 103ms\tremaining: 4.49s\n",
            "17:\tlearn: 0.1924132\ttotal: 110ms\tremaining: 4.5s\n",
            "18:\tlearn: 0.1921630\ttotal: 116ms\tremaining: 4.48s\n",
            "19:\tlearn: 0.1919067\ttotal: 121ms\tremaining: 4.46s\n",
            "20:\tlearn: 0.1914974\ttotal: 127ms\tremaining: 4.45s\n",
            "21:\tlearn: 0.1912693\ttotal: 133ms\tremaining: 4.45s\n",
            "22:\tlearn: 0.1912239\ttotal: 137ms\tremaining: 4.37s\n",
            "23:\tlearn: 0.1907270\ttotal: 143ms\tremaining: 4.35s\n",
            "24:\tlearn: 0.1904897\ttotal: 148ms\tremaining: 4.33s\n",
            "25:\tlearn: 0.1898665\ttotal: 155ms\tremaining: 4.36s\n",
            "26:\tlearn: 0.1896207\ttotal: 161ms\tremaining: 4.34s\n",
            "27:\tlearn: 0.1893603\ttotal: 166ms\tremaining: 4.32s\n",
            "28:\tlearn: 0.1891954\ttotal: 172ms\tremaining: 4.3s\n",
            "29:\tlearn: 0.1888974\ttotal: 177ms\tremaining: 4.28s\n",
            "30:\tlearn: 0.1886599\ttotal: 183ms\tremaining: 4.27s\n",
            "31:\tlearn: 0.1884023\ttotal: 188ms\tremaining: 4.25s\n",
            "32:\tlearn: 0.1882336\ttotal: 194ms\tremaining: 4.24s\n",
            "33:\tlearn: 0.1879696\ttotal: 199ms\tremaining: 4.22s\n",
            "34:\tlearn: 0.1877939\ttotal: 206ms\tremaining: 4.25s\n",
            "35:\tlearn: 0.1876940\ttotal: 212ms\tremaining: 4.24s\n",
            "36:\tlearn: 0.1875662\ttotal: 218ms\tremaining: 4.24s\n",
            "37:\tlearn: 0.1873188\ttotal: 224ms\tremaining: 4.23s\n",
            "38:\tlearn: 0.1872943\ttotal: 230ms\tremaining: 4.22s\n",
            "39:\tlearn: 0.1870943\ttotal: 236ms\tremaining: 4.22s\n",
            "40:\tlearn: 0.1869631\ttotal: 242ms\tremaining: 4.22s\n",
            "41:\tlearn: 0.1868278\ttotal: 248ms\tremaining: 4.21s\n",
            "42:\tlearn: 0.1864944\ttotal: 255ms\tremaining: 4.22s\n",
            "43:\tlearn: 0.1864127\ttotal: 261ms\tremaining: 4.22s\n",
            "44:\tlearn: 0.1863076\ttotal: 267ms\tremaining: 4.21s\n",
            "45:\tlearn: 0.1860185\ttotal: 273ms\tremaining: 4.21s\n",
            "46:\tlearn: 0.1857739\ttotal: 280ms\tremaining: 4.21s\n",
            "47:\tlearn: 0.1855790\ttotal: 286ms\tremaining: 4.21s\n",
            "48:\tlearn: 0.1853615\ttotal: 292ms\tremaining: 4.2s\n",
            "49:\tlearn: 0.1850787\ttotal: 298ms\tremaining: 4.2s\n",
            "50:\tlearn: 0.1848926\ttotal: 305ms\tremaining: 4.2s\n",
            "51:\tlearn: 0.1846373\ttotal: 311ms\tremaining: 4.2s\n",
            "52:\tlearn: 0.1842859\ttotal: 317ms\tremaining: 4.19s\n",
            "53:\tlearn: 0.1840311\ttotal: 323ms\tremaining: 4.19s\n",
            "54:\tlearn: 0.1836349\ttotal: 329ms\tremaining: 4.19s\n",
            "55:\tlearn: 0.1833721\ttotal: 336ms\tremaining: 4.19s\n",
            "56:\tlearn: 0.1830344\ttotal: 342ms\tremaining: 4.19s\n",
            "57:\tlearn: 0.1827772\ttotal: 349ms\tremaining: 4.19s\n",
            "58:\tlearn: 0.1824840\ttotal: 356ms\tremaining: 4.2s\n",
            "59:\tlearn: 0.1821460\ttotal: 362ms\tremaining: 4.19s\n",
            "60:\tlearn: 0.1818258\ttotal: 369ms\tremaining: 4.2s\n",
            "61:\tlearn: 0.1814294\ttotal: 376ms\tremaining: 4.2s\n",
            "62:\tlearn: 0.1810659\ttotal: 383ms\tremaining: 4.21s\n",
            "63:\tlearn: 0.1807445\ttotal: 390ms\tremaining: 4.21s\n",
            "64:\tlearn: 0.1805222\ttotal: 397ms\tremaining: 4.21s\n",
            "65:\tlearn: 0.1801993\ttotal: 403ms\tremaining: 4.21s\n",
            "66:\tlearn: 0.1799521\ttotal: 410ms\tremaining: 4.21s\n",
            "67:\tlearn: 0.1796277\ttotal: 417ms\tremaining: 4.21s\n",
            "68:\tlearn: 0.1792961\ttotal: 423ms\tremaining: 4.21s\n",
            "69:\tlearn: 0.1791721\ttotal: 429ms\tremaining: 4.2s\n",
            "70:\tlearn: 0.1789842\ttotal: 435ms\tremaining: 4.19s\n",
            "71:\tlearn: 0.1787567\ttotal: 441ms\tremaining: 4.18s\n",
            "72:\tlearn: 0.1783691\ttotal: 448ms\tremaining: 4.18s\n",
            "73:\tlearn: 0.1781465\ttotal: 453ms\tremaining: 4.17s\n",
            "74:\tlearn: 0.1778048\ttotal: 459ms\tremaining: 4.17s\n",
            "75:\tlearn: 0.1777005\ttotal: 465ms\tremaining: 4.15s\n",
            "76:\tlearn: 0.1774323\ttotal: 471ms\tremaining: 4.15s\n",
            "77:\tlearn: 0.1771040\ttotal: 477ms\tremaining: 4.14s\n",
            "78:\tlearn: 0.1768265\ttotal: 483ms\tremaining: 4.13s\n",
            "79:\tlearn: 0.1764103\ttotal: 489ms\tremaining: 4.12s\n",
            "80:\tlearn: 0.1760006\ttotal: 495ms\tremaining: 4.12s\n",
            "81:\tlearn: 0.1756639\ttotal: 502ms\tremaining: 4.12s\n",
            "82:\tlearn: 0.1753968\ttotal: 507ms\tremaining: 4.11s\n",
            "83:\tlearn: 0.1752129\ttotal: 513ms\tremaining: 4.09s\n",
            "84:\tlearn: 0.1749099\ttotal: 518ms\tremaining: 4.08s\n",
            "85:\tlearn: 0.1744560\ttotal: 524ms\tremaining: 4.08s\n",
            "86:\tlearn: 0.1743068\ttotal: 530ms\tremaining: 4.07s\n",
            "87:\tlearn: 0.1739366\ttotal: 536ms\tremaining: 4.07s\n",
            "88:\tlearn: 0.1736089\ttotal: 542ms\tremaining: 4.06s\n",
            "89:\tlearn: 0.1733359\ttotal: 549ms\tremaining: 4.06s\n",
            "90:\tlearn: 0.1729938\ttotal: 555ms\tremaining: 4.05s\n",
            "91:\tlearn: 0.1726014\ttotal: 561ms\tremaining: 4.04s\n",
            "92:\tlearn: 0.1722573\ttotal: 566ms\tremaining: 4.03s\n",
            "93:\tlearn: 0.1719212\ttotal: 573ms\tremaining: 4.03s\n",
            "94:\tlearn: 0.1717113\ttotal: 579ms\tremaining: 4.02s\n",
            "95:\tlearn: 0.1714922\ttotal: 585ms\tremaining: 4.01s\n",
            "96:\tlearn: 0.1711487\ttotal: 591ms\tremaining: 4.01s\n",
            "97:\tlearn: 0.1708942\ttotal: 597ms\tremaining: 4s\n",
            "98:\tlearn: 0.1705622\ttotal: 604ms\tremaining: 4s\n",
            "99:\tlearn: 0.1703408\ttotal: 609ms\tremaining: 3.99s\n",
            "100:\tlearn: 0.1700079\ttotal: 614ms\tremaining: 3.98s\n",
            "101:\tlearn: 0.1698334\ttotal: 619ms\tremaining: 3.96s\n",
            "102:\tlearn: 0.1696200\ttotal: 625ms\tremaining: 3.96s\n",
            "103:\tlearn: 0.1694080\ttotal: 630ms\tremaining: 3.94s\n",
            "104:\tlearn: 0.1691209\ttotal: 636ms\tremaining: 3.94s\n",
            "105:\tlearn: 0.1688933\ttotal: 641ms\tremaining: 3.92s\n",
            "106:\tlearn: 0.1686582\ttotal: 647ms\tremaining: 3.92s\n",
            "107:\tlearn: 0.1683527\ttotal: 653ms\tremaining: 3.91s\n",
            "108:\tlearn: 0.1680790\ttotal: 658ms\tremaining: 3.9s\n",
            "109:\tlearn: 0.1678919\ttotal: 663ms\tremaining: 3.89s\n",
            "110:\tlearn: 0.1676203\ttotal: 669ms\tremaining: 3.88s\n",
            "111:\tlearn: 0.1672266\ttotal: 677ms\tremaining: 3.88s\n",
            "112:\tlearn: 0.1670242\ttotal: 684ms\tremaining: 3.88s\n",
            "113:\tlearn: 0.1668690\ttotal: 690ms\tremaining: 3.88s\n",
            "114:\tlearn: 0.1666135\ttotal: 695ms\tremaining: 3.87s\n",
            "115:\tlearn: 0.1663877\ttotal: 701ms\tremaining: 3.86s\n",
            "116:\tlearn: 0.1661989\ttotal: 706ms\tremaining: 3.85s\n",
            "117:\tlearn: 0.1658820\ttotal: 712ms\tremaining: 3.84s\n",
            "118:\tlearn: 0.1656966\ttotal: 718ms\tremaining: 3.83s\n",
            "119:\tlearn: 0.1653442\ttotal: 723ms\tremaining: 3.83s\n",
            "120:\tlearn: 0.1652056\ttotal: 728ms\tremaining: 3.81s\n",
            "121:\tlearn: 0.1650175\ttotal: 733ms\tremaining: 3.8s\n",
            "122:\tlearn: 0.1648324\ttotal: 739ms\tremaining: 3.8s\n",
            "123:\tlearn: 0.1645856\ttotal: 745ms\tremaining: 3.79s\n",
            "124:\tlearn: 0.1643084\ttotal: 750ms\tremaining: 3.78s\n",
            "125:\tlearn: 0.1641383\ttotal: 756ms\tremaining: 3.77s\n",
            "126:\tlearn: 0.1638100\ttotal: 762ms\tremaining: 3.77s\n",
            "127:\tlearn: 0.1636144\ttotal: 768ms\tremaining: 3.76s\n",
            "128:\tlearn: 0.1634279\ttotal: 774ms\tremaining: 3.75s\n",
            "129:\tlearn: 0.1631934\ttotal: 779ms\tremaining: 3.75s\n",
            "130:\tlearn: 0.1629081\ttotal: 785ms\tremaining: 3.74s\n",
            "131:\tlearn: 0.1627022\ttotal: 791ms\tremaining: 3.73s\n",
            "132:\tlearn: 0.1623662\ttotal: 797ms\tremaining: 3.73s\n",
            "133:\tlearn: 0.1621518\ttotal: 803ms\tremaining: 3.72s\n",
            "134:\tlearn: 0.1619671\ttotal: 809ms\tremaining: 3.72s\n",
            "135:\tlearn: 0.1618717\ttotal: 815ms\tremaining: 3.71s\n",
            "136:\tlearn: 0.1615956\ttotal: 821ms\tremaining: 3.7s\n",
            "137:\tlearn: 0.1614150\ttotal: 827ms\tremaining: 3.7s\n",
            "138:\tlearn: 0.1612144\ttotal: 833ms\tremaining: 3.69s\n",
            "139:\tlearn: 0.1609323\ttotal: 839ms\tremaining: 3.69s\n",
            "140:\tlearn: 0.1607550\ttotal: 845ms\tremaining: 3.68s\n",
            "141:\tlearn: 0.1605578\ttotal: 853ms\tremaining: 3.68s\n",
            "142:\tlearn: 0.1602829\ttotal: 859ms\tremaining: 3.68s\n",
            "143:\tlearn: 0.1600274\ttotal: 866ms\tremaining: 3.67s\n",
            "144:\tlearn: 0.1598585\ttotal: 872ms\tremaining: 3.67s\n",
            "145:\tlearn: 0.1596485\ttotal: 879ms\tremaining: 3.67s\n",
            "146:\tlearn: 0.1594359\ttotal: 885ms\tremaining: 3.66s\n",
            "147:\tlearn: 0.1592003\ttotal: 891ms\tremaining: 3.65s\n",
            "148:\tlearn: 0.1590833\ttotal: 897ms\tremaining: 3.65s\n",
            "149:\tlearn: 0.1588302\ttotal: 903ms\tremaining: 3.64s\n",
            "150:\tlearn: 0.1586328\ttotal: 909ms\tremaining: 3.64s\n",
            "151:\tlearn: 0.1585157\ttotal: 914ms\tremaining: 3.63s\n",
            "152:\tlearn: 0.1584241\ttotal: 920ms\tremaining: 3.62s\n",
            "153:\tlearn: 0.1580451\ttotal: 925ms\tremaining: 3.61s\n",
            "154:\tlearn: 0.1577982\ttotal: 931ms\tremaining: 3.6s\n",
            "155:\tlearn: 0.1575030\ttotal: 936ms\tremaining: 3.59s\n",
            "156:\tlearn: 0.1571746\ttotal: 942ms\tremaining: 3.59s\n",
            "157:\tlearn: 0.1570060\ttotal: 947ms\tremaining: 3.58s\n",
            "158:\tlearn: 0.1567622\ttotal: 952ms\tremaining: 3.57s\n",
            "159:\tlearn: 0.1565621\ttotal: 957ms\tremaining: 3.56s\n",
            "160:\tlearn: 0.1562996\ttotal: 963ms\tremaining: 3.55s\n",
            "161:\tlearn: 0.1560182\ttotal: 968ms\tremaining: 3.54s\n",
            "162:\tlearn: 0.1557849\ttotal: 973ms\tremaining: 3.54s\n",
            "163:\tlearn: 0.1556189\ttotal: 979ms\tremaining: 3.53s\n",
            "164:\tlearn: 0.1553411\ttotal: 984ms\tremaining: 3.52s\n",
            "165:\tlearn: 0.1551783\ttotal: 989ms\tremaining: 3.51s\n",
            "166:\tlearn: 0.1550072\ttotal: 994ms\tremaining: 3.5s\n",
            "167:\tlearn: 0.1547854\ttotal: 1s\tremaining: 3.5s\n",
            "168:\tlearn: 0.1546022\ttotal: 1.01s\tremaining: 3.49s\n",
            "169:\tlearn: 0.1543692\ttotal: 1.01s\tremaining: 3.48s\n",
            "170:\tlearn: 0.1541364\ttotal: 1.02s\tremaining: 3.47s\n",
            "171:\tlearn: 0.1539444\ttotal: 1.02s\tremaining: 3.46s\n",
            "172:\tlearn: 0.1536162\ttotal: 1.03s\tremaining: 3.46s\n",
            "173:\tlearn: 0.1535573\ttotal: 1.03s\tremaining: 3.45s\n",
            "174:\tlearn: 0.1534357\ttotal: 1.04s\tremaining: 3.44s\n",
            "175:\tlearn: 0.1531964\ttotal: 1.04s\tremaining: 3.43s\n",
            "176:\tlearn: 0.1530322\ttotal: 1.05s\tremaining: 3.43s\n",
            "177:\tlearn: 0.1528337\ttotal: 1.05s\tremaining: 3.42s\n",
            "178:\tlearn: 0.1526693\ttotal: 1.06s\tremaining: 3.41s\n",
            "179:\tlearn: 0.1524797\ttotal: 1.07s\tremaining: 3.41s\n",
            "180:\tlearn: 0.1521626\ttotal: 1.07s\tremaining: 3.4s\n",
            "181:\tlearn: 0.1518616\ttotal: 1.08s\tremaining: 3.4s\n",
            "182:\tlearn: 0.1516520\ttotal: 1.08s\tremaining: 3.39s\n",
            "183:\tlearn: 0.1514440\ttotal: 1.09s\tremaining: 3.38s\n",
            "184:\tlearn: 0.1512573\ttotal: 1.09s\tremaining: 3.38s\n",
            "185:\tlearn: 0.1510968\ttotal: 1.1s\tremaining: 3.37s\n",
            "186:\tlearn: 0.1509532\ttotal: 1.1s\tremaining: 3.36s\n",
            "187:\tlearn: 0.1508234\ttotal: 1.11s\tremaining: 3.35s\n",
            "188:\tlearn: 0.1506476\ttotal: 1.12s\tremaining: 3.34s\n",
            "189:\tlearn: 0.1504206\ttotal: 1.12s\tremaining: 3.33s\n",
            "190:\tlearn: 0.1502347\ttotal: 1.13s\tremaining: 3.33s\n",
            "191:\tlearn: 0.1499331\ttotal: 1.13s\tremaining: 3.32s\n",
            "192:\tlearn: 0.1497191\ttotal: 1.14s\tremaining: 3.31s\n",
            "193:\tlearn: 0.1496290\ttotal: 1.14s\tremaining: 3.3s\n",
            "194:\tlearn: 0.1492639\ttotal: 1.15s\tremaining: 3.3s\n",
            "195:\tlearn: 0.1489393\ttotal: 1.15s\tremaining: 3.29s\n",
            "196:\tlearn: 0.1487493\ttotal: 1.16s\tremaining: 3.28s\n",
            "197:\tlearn: 0.1484244\ttotal: 1.16s\tremaining: 3.27s\n",
            "198:\tlearn: 0.1483381\ttotal: 1.17s\tremaining: 3.27s\n",
            "199:\tlearn: 0.1480953\ttotal: 1.17s\tremaining: 3.26s\n",
            "200:\tlearn: 0.1479016\ttotal: 1.18s\tremaining: 3.25s\n",
            "201:\tlearn: 0.1477415\ttotal: 1.18s\tremaining: 3.24s\n",
            "202:\tlearn: 0.1474719\ttotal: 1.19s\tremaining: 3.24s\n",
            "203:\tlearn: 0.1473234\ttotal: 1.2s\tremaining: 3.23s\n",
            "204:\tlearn: 0.1471999\ttotal: 1.2s\tremaining: 3.23s\n",
            "205:\tlearn: 0.1470249\ttotal: 1.21s\tremaining: 3.22s\n",
            "206:\tlearn: 0.1468875\ttotal: 1.22s\tremaining: 3.22s\n",
            "207:\tlearn: 0.1467903\ttotal: 1.22s\tremaining: 3.21s\n",
            "208:\tlearn: 0.1465170\ttotal: 1.23s\tremaining: 3.21s\n",
            "209:\tlearn: 0.1462096\ttotal: 1.23s\tremaining: 3.2s\n",
            "210:\tlearn: 0.1460548\ttotal: 1.24s\tremaining: 3.19s\n",
            "211:\tlearn: 0.1457546\ttotal: 1.24s\tremaining: 3.19s\n",
            "212:\tlearn: 0.1455418\ttotal: 1.25s\tremaining: 3.18s\n",
            "213:\tlearn: 0.1453656\ttotal: 1.25s\tremaining: 3.17s\n",
            "214:\tlearn: 0.1451104\ttotal: 1.26s\tremaining: 3.16s\n",
            "215:\tlearn: 0.1449484\ttotal: 1.26s\tremaining: 3.16s\n",
            "216:\tlearn: 0.1446352\ttotal: 1.27s\tremaining: 3.15s\n",
            "217:\tlearn: 0.1443708\ttotal: 1.28s\tremaining: 3.14s\n",
            "218:\tlearn: 0.1442291\ttotal: 1.28s\tremaining: 3.13s\n",
            "219:\tlearn: 0.1440657\ttotal: 1.29s\tremaining: 3.13s\n",
            "220:\tlearn: 0.1439297\ttotal: 1.29s\tremaining: 3.12s\n",
            "221:\tlearn: 0.1437229\ttotal: 1.3s\tremaining: 3.12s\n",
            "222:\tlearn: 0.1435240\ttotal: 1.3s\tremaining: 3.11s\n",
            "223:\tlearn: 0.1432817\ttotal: 1.31s\tremaining: 3.1s\n",
            "224:\tlearn: 0.1430728\ttotal: 1.31s\tremaining: 3.1s\n",
            "225:\tlearn: 0.1428968\ttotal: 1.32s\tremaining: 3.09s\n",
            "226:\tlearn: 0.1427412\ttotal: 1.32s\tremaining: 3.08s\n",
            "227:\tlearn: 0.1425338\ttotal: 1.33s\tremaining: 3.07s\n",
            "228:\tlearn: 0.1423300\ttotal: 1.33s\tremaining: 3.07s\n",
            "229:\tlearn: 0.1421342\ttotal: 1.34s\tremaining: 3.06s\n",
            "230:\tlearn: 0.1418070\ttotal: 1.35s\tremaining: 3.05s\n",
            "231:\tlearn: 0.1415089\ttotal: 1.35s\tremaining: 3.05s\n",
            "232:\tlearn: 0.1412380\ttotal: 1.36s\tremaining: 3.04s\n",
            "233:\tlearn: 0.1411567\ttotal: 1.36s\tremaining: 3.03s\n",
            "234:\tlearn: 0.1410673\ttotal: 1.37s\tremaining: 3.03s\n",
            "235:\tlearn: 0.1408922\ttotal: 1.37s\tremaining: 3.02s\n",
            "236:\tlearn: 0.1405234\ttotal: 1.38s\tremaining: 3.01s\n",
            "237:\tlearn: 0.1403308\ttotal: 1.38s\tremaining: 3.01s\n",
            "238:\tlearn: 0.1401247\ttotal: 1.39s\tremaining: 3s\n",
            "239:\tlearn: 0.1398957\ttotal: 1.4s\tremaining: 3s\n",
            "240:\tlearn: 0.1396605\ttotal: 1.4s\tremaining: 2.99s\n",
            "241:\tlearn: 0.1395535\ttotal: 1.41s\tremaining: 2.98s\n",
            "242:\tlearn: 0.1393723\ttotal: 1.41s\tremaining: 2.98s\n",
            "243:\tlearn: 0.1391219\ttotal: 1.42s\tremaining: 2.97s\n",
            "244:\tlearn: 0.1389970\ttotal: 1.42s\tremaining: 2.96s\n",
            "245:\tlearn: 0.1388304\ttotal: 1.43s\tremaining: 2.96s\n",
            "246:\tlearn: 0.1386916\ttotal: 1.43s\tremaining: 2.95s\n",
            "247:\tlearn: 0.1385296\ttotal: 1.44s\tremaining: 2.94s\n",
            "248:\tlearn: 0.1382859\ttotal: 1.44s\tremaining: 2.93s\n",
            "249:\tlearn: 0.1380049\ttotal: 1.45s\tremaining: 2.93s\n",
            "250:\tlearn: 0.1378252\ttotal: 1.46s\tremaining: 2.92s\n",
            "251:\tlearn: 0.1376982\ttotal: 1.46s\tremaining: 2.92s\n",
            "252:\tlearn: 0.1375317\ttotal: 1.47s\tremaining: 2.91s\n",
            "253:\tlearn: 0.1373164\ttotal: 1.47s\tremaining: 2.9s\n",
            "254:\tlearn: 0.1372359\ttotal: 1.48s\tremaining: 2.9s\n",
            "255:\tlearn: 0.1370820\ttotal: 1.48s\tremaining: 2.89s\n",
            "256:\tlearn: 0.1368854\ttotal: 1.49s\tremaining: 2.88s\n",
            "257:\tlearn: 0.1366325\ttotal: 1.49s\tremaining: 2.88s\n",
            "258:\tlearn: 0.1364328\ttotal: 1.5s\tremaining: 2.87s\n",
            "259:\tlearn: 0.1361532\ttotal: 1.5s\tremaining: 2.87s\n",
            "260:\tlearn: 0.1358514\ttotal: 1.51s\tremaining: 2.86s\n",
            "261:\tlearn: 0.1356762\ttotal: 1.52s\tremaining: 2.85s\n",
            "262:\tlearn: 0.1354989\ttotal: 1.52s\tremaining: 2.85s\n",
            "263:\tlearn: 0.1353705\ttotal: 1.53s\tremaining: 2.84s\n",
            "264:\tlearn: 0.1352134\ttotal: 1.53s\tremaining: 2.83s\n",
            "265:\tlearn: 0.1350244\ttotal: 1.54s\tremaining: 2.83s\n",
            "266:\tlearn: 0.1349203\ttotal: 1.54s\tremaining: 2.82s\n",
            "267:\tlearn: 0.1347847\ttotal: 1.55s\tremaining: 2.81s\n",
            "268:\tlearn: 0.1345944\ttotal: 1.55s\tremaining: 2.81s\n",
            "269:\tlearn: 0.1345204\ttotal: 1.56s\tremaining: 2.8s\n",
            "270:\tlearn: 0.1343266\ttotal: 1.56s\tremaining: 2.79s\n",
            "271:\tlearn: 0.1341521\ttotal: 1.57s\tremaining: 2.79s\n",
            "272:\tlearn: 0.1340107\ttotal: 1.57s\tremaining: 2.78s\n",
            "273:\tlearn: 0.1339004\ttotal: 1.58s\tremaining: 2.77s\n",
            "274:\tlearn: 0.1338255\ttotal: 1.58s\tremaining: 2.77s\n",
            "275:\tlearn: 0.1337403\ttotal: 1.59s\tremaining: 2.76s\n",
            "276:\tlearn: 0.1335867\ttotal: 1.59s\tremaining: 2.75s\n",
            "277:\tlearn: 0.1333444\ttotal: 1.6s\tremaining: 2.75s\n",
            "278:\tlearn: 0.1331644\ttotal: 1.61s\tremaining: 2.74s\n",
            "279:\tlearn: 0.1330575\ttotal: 1.61s\tremaining: 2.74s\n",
            "280:\tlearn: 0.1327991\ttotal: 1.62s\tremaining: 2.73s\n",
            "281:\tlearn: 0.1325635\ttotal: 1.62s\tremaining: 2.72s\n",
            "282:\tlearn: 0.1324015\ttotal: 1.63s\tremaining: 2.72s\n",
            "283:\tlearn: 0.1321502\ttotal: 1.63s\tremaining: 2.71s\n",
            "284:\tlearn: 0.1320247\ttotal: 1.64s\tremaining: 2.7s\n",
            "285:\tlearn: 0.1319132\ttotal: 1.64s\tremaining: 2.7s\n",
            "286:\tlearn: 0.1316849\ttotal: 1.65s\tremaining: 2.69s\n",
            "287:\tlearn: 0.1315330\ttotal: 1.66s\tremaining: 2.69s\n",
            "288:\tlearn: 0.1313958\ttotal: 1.66s\tremaining: 2.68s\n",
            "289:\tlearn: 0.1313194\ttotal: 1.67s\tremaining: 2.67s\n",
            "290:\tlearn: 0.1311910\ttotal: 1.67s\tremaining: 2.67s\n",
            "291:\tlearn: 0.1310943\ttotal: 1.68s\tremaining: 2.66s\n",
            "292:\tlearn: 0.1308577\ttotal: 1.68s\tremaining: 2.66s\n",
            "293:\tlearn: 0.1307026\ttotal: 1.69s\tremaining: 2.65s\n",
            "294:\tlearn: 0.1305665\ttotal: 1.7s\tremaining: 2.64s\n",
            "295:\tlearn: 0.1304069\ttotal: 1.7s\tremaining: 2.64s\n",
            "296:\tlearn: 0.1301690\ttotal: 1.71s\tremaining: 2.63s\n",
            "297:\tlearn: 0.1300168\ttotal: 1.71s\tremaining: 2.63s\n",
            "298:\tlearn: 0.1298132\ttotal: 1.72s\tremaining: 2.62s\n",
            "299:\tlearn: 0.1296447\ttotal: 1.72s\tremaining: 2.61s\n",
            "300:\tlearn: 0.1293795\ttotal: 1.73s\tremaining: 2.61s\n",
            "301:\tlearn: 0.1292339\ttotal: 1.73s\tremaining: 2.6s\n",
            "302:\tlearn: 0.1289972\ttotal: 1.74s\tremaining: 2.59s\n",
            "303:\tlearn: 0.1288612\ttotal: 1.74s\tremaining: 2.59s\n",
            "304:\tlearn: 0.1285531\ttotal: 1.75s\tremaining: 2.58s\n",
            "305:\tlearn: 0.1283398\ttotal: 1.75s\tremaining: 2.57s\n",
            "306:\tlearn: 0.1282342\ttotal: 1.76s\tremaining: 2.57s\n",
            "307:\tlearn: 0.1280632\ttotal: 1.76s\tremaining: 2.56s\n",
            "308:\tlearn: 0.1278781\ttotal: 1.77s\tremaining: 2.56s\n",
            "309:\tlearn: 0.1277103\ttotal: 1.77s\tremaining: 2.55s\n",
            "310:\tlearn: 0.1275678\ttotal: 1.78s\tremaining: 2.54s\n",
            "311:\tlearn: 0.1273742\ttotal: 1.79s\tremaining: 2.54s\n",
            "312:\tlearn: 0.1270846\ttotal: 1.79s\tremaining: 2.53s\n",
            "313:\tlearn: 0.1269363\ttotal: 1.8s\tremaining: 2.52s\n",
            "314:\tlearn: 0.1267871\ttotal: 1.8s\tremaining: 2.52s\n",
            "315:\tlearn: 0.1265631\ttotal: 1.81s\tremaining: 2.51s\n",
            "316:\tlearn: 0.1263327\ttotal: 1.81s\tremaining: 2.5s\n",
            "317:\tlearn: 0.1261364\ttotal: 1.82s\tremaining: 2.5s\n",
            "318:\tlearn: 0.1260348\ttotal: 1.82s\tremaining: 2.49s\n",
            "319:\tlearn: 0.1259249\ttotal: 1.83s\tremaining: 2.49s\n",
            "320:\tlearn: 0.1258461\ttotal: 1.83s\tremaining: 2.48s\n",
            "321:\tlearn: 0.1257125\ttotal: 1.84s\tremaining: 2.48s\n",
            "322:\tlearn: 0.1256024\ttotal: 1.85s\tremaining: 2.47s\n",
            "323:\tlearn: 0.1254694\ttotal: 1.85s\tremaining: 2.46s\n",
            "324:\tlearn: 0.1252678\ttotal: 1.86s\tremaining: 2.46s\n",
            "325:\tlearn: 0.1250639\ttotal: 1.87s\tremaining: 2.46s\n",
            "326:\tlearn: 0.1249177\ttotal: 1.87s\tremaining: 2.45s\n",
            "327:\tlearn: 0.1248171\ttotal: 1.88s\tremaining: 2.44s\n",
            "328:\tlearn: 0.1246680\ttotal: 1.88s\tremaining: 2.44s\n",
            "329:\tlearn: 0.1245388\ttotal: 1.89s\tremaining: 2.43s\n",
            "330:\tlearn: 0.1244087\ttotal: 1.9s\tremaining: 2.43s\n",
            "331:\tlearn: 0.1243452\ttotal: 1.9s\tremaining: 2.42s\n",
            "332:\tlearn: 0.1241932\ttotal: 1.91s\tremaining: 2.42s\n",
            "333:\tlearn: 0.1241015\ttotal: 1.91s\tremaining: 2.41s\n",
            "334:\tlearn: 0.1240478\ttotal: 1.92s\tremaining: 2.4s\n",
            "335:\tlearn: 0.1238939\ttotal: 1.92s\tremaining: 2.4s\n",
            "336:\tlearn: 0.1237483\ttotal: 1.93s\tremaining: 2.39s\n",
            "337:\tlearn: 0.1236233\ttotal: 1.94s\tremaining: 2.39s\n",
            "338:\tlearn: 0.1234609\ttotal: 1.94s\tremaining: 2.38s\n",
            "339:\tlearn: 0.1233620\ttotal: 1.95s\tremaining: 2.38s\n",
            "340:\tlearn: 0.1231819\ttotal: 1.95s\tremaining: 2.37s\n",
            "341:\tlearn: 0.1230808\ttotal: 1.96s\tremaining: 2.37s\n",
            "342:\tlearn: 0.1229496\ttotal: 1.96s\tremaining: 2.36s\n",
            "343:\tlearn: 0.1227451\ttotal: 1.97s\tremaining: 2.35s\n",
            "344:\tlearn: 0.1226289\ttotal: 1.98s\tremaining: 2.35s\n",
            "345:\tlearn: 0.1224565\ttotal: 1.98s\tremaining: 2.34s\n",
            "346:\tlearn: 0.1223108\ttotal: 1.99s\tremaining: 2.33s\n",
            "347:\tlearn: 0.1221258\ttotal: 1.99s\tremaining: 2.33s\n",
            "348:\tlearn: 0.1219603\ttotal: 2s\tremaining: 2.32s\n",
            "349:\tlearn: 0.1217661\ttotal: 2s\tremaining: 2.32s\n",
            "350:\tlearn: 0.1215227\ttotal: 2.01s\tremaining: 2.31s\n",
            "351:\tlearn: 0.1214449\ttotal: 2.02s\tremaining: 2.31s\n",
            "352:\tlearn: 0.1212808\ttotal: 2.02s\tremaining: 2.3s\n",
            "353:\tlearn: 0.1210965\ttotal: 2.03s\tremaining: 2.3s\n",
            "354:\tlearn: 0.1209301\ttotal: 2.03s\tremaining: 2.29s\n",
            "355:\tlearn: 0.1207522\ttotal: 2.04s\tremaining: 2.28s\n",
            "356:\tlearn: 0.1205447\ttotal: 2.04s\tremaining: 2.28s\n",
            "357:\tlearn: 0.1204327\ttotal: 2.05s\tremaining: 2.27s\n",
            "358:\tlearn: 0.1202923\ttotal: 2.06s\tremaining: 2.27s\n",
            "359:\tlearn: 0.1201890\ttotal: 2.06s\tremaining: 2.26s\n",
            "360:\tlearn: 0.1199611\ttotal: 2.07s\tremaining: 2.26s\n",
            "361:\tlearn: 0.1198028\ttotal: 2.07s\tremaining: 2.25s\n",
            "362:\tlearn: 0.1196425\ttotal: 2.08s\tremaining: 2.24s\n",
            "363:\tlearn: 0.1194558\ttotal: 2.08s\tremaining: 2.23s\n",
            "364:\tlearn: 0.1193515\ttotal: 2.09s\tremaining: 2.23s\n",
            "365:\tlearn: 0.1192309\ttotal: 2.09s\tremaining: 2.22s\n",
            "366:\tlearn: 0.1191518\ttotal: 2.1s\tremaining: 2.22s\n",
            "367:\tlearn: 0.1190463\ttotal: 2.1s\tremaining: 2.21s\n",
            "368:\tlearn: 0.1189090\ttotal: 2.1s\tremaining: 2.2s\n",
            "369:\tlearn: 0.1187140\ttotal: 2.11s\tremaining: 2.19s\n",
            "370:\tlearn: 0.1186133\ttotal: 2.11s\tremaining: 2.19s\n",
            "371:\tlearn: 0.1184451\ttotal: 2.12s\tremaining: 2.18s\n",
            "372:\tlearn: 0.1182856\ttotal: 2.12s\tremaining: 2.17s\n",
            "373:\tlearn: 0.1181929\ttotal: 2.13s\tremaining: 2.17s\n",
            "374:\tlearn: 0.1181084\ttotal: 2.13s\tremaining: 2.16s\n",
            "375:\tlearn: 0.1180058\ttotal: 2.14s\tremaining: 2.15s\n",
            "376:\tlearn: 0.1178613\ttotal: 2.14s\tremaining: 2.15s\n",
            "377:\tlearn: 0.1177205\ttotal: 2.15s\tremaining: 2.14s\n",
            "378:\tlearn: 0.1176171\ttotal: 2.15s\tremaining: 2.13s\n",
            "379:\tlearn: 0.1174249\ttotal: 2.16s\tremaining: 2.13s\n",
            "380:\tlearn: 0.1172696\ttotal: 2.16s\tremaining: 2.12s\n",
            "381:\tlearn: 0.1170920\ttotal: 2.17s\tremaining: 2.12s\n",
            "382:\tlearn: 0.1170129\ttotal: 2.17s\tremaining: 2.11s\n",
            "383:\tlearn: 0.1168985\ttotal: 2.18s\tremaining: 2.1s\n",
            "384:\tlearn: 0.1168612\ttotal: 2.18s\tremaining: 2.1s\n",
            "385:\tlearn: 0.1167509\ttotal: 2.19s\tremaining: 2.09s\n",
            "386:\tlearn: 0.1166610\ttotal: 2.19s\tremaining: 2.09s\n",
            "387:\tlearn: 0.1164689\ttotal: 2.2s\tremaining: 2.08s\n",
            "388:\tlearn: 0.1163478\ttotal: 2.21s\tremaining: 2.08s\n",
            "389:\tlearn: 0.1161677\ttotal: 2.21s\tremaining: 2.07s\n",
            "390:\tlearn: 0.1160536\ttotal: 2.22s\tremaining: 2.06s\n",
            "391:\tlearn: 0.1159162\ttotal: 2.22s\tremaining: 2.06s\n",
            "392:\tlearn: 0.1157394\ttotal: 2.23s\tremaining: 2.05s\n",
            "393:\tlearn: 0.1156288\ttotal: 2.23s\tremaining: 2.04s\n",
            "394:\tlearn: 0.1155298\ttotal: 2.24s\tremaining: 2.04s\n",
            "395:\tlearn: 0.1154083\ttotal: 2.24s\tremaining: 2.03s\n",
            "396:\tlearn: 0.1153215\ttotal: 2.25s\tremaining: 2.03s\n",
            "397:\tlearn: 0.1151859\ttotal: 2.25s\tremaining: 2.02s\n",
            "398:\tlearn: 0.1151051\ttotal: 2.26s\tremaining: 2.02s\n",
            "399:\tlearn: 0.1149578\ttotal: 2.26s\tremaining: 2.01s\n",
            "400:\tlearn: 0.1148403\ttotal: 2.27s\tremaining: 2s\n",
            "401:\tlearn: 0.1146367\ttotal: 2.27s\tremaining: 2s\n",
            "402:\tlearn: 0.1145174\ttotal: 2.28s\tremaining: 1.99s\n",
            "403:\tlearn: 0.1144447\ttotal: 2.29s\tremaining: 1.99s\n",
            "404:\tlearn: 0.1143533\ttotal: 2.29s\tremaining: 1.98s\n",
            "405:\tlearn: 0.1142565\ttotal: 2.3s\tremaining: 1.97s\n",
            "406:\tlearn: 0.1141915\ttotal: 2.3s\tremaining: 1.97s\n",
            "407:\tlearn: 0.1140750\ttotal: 2.31s\tremaining: 1.96s\n",
            "408:\tlearn: 0.1139097\ttotal: 2.31s\tremaining: 1.96s\n",
            "409:\tlearn: 0.1137808\ttotal: 2.32s\tremaining: 1.95s\n",
            "410:\tlearn: 0.1136589\ttotal: 2.32s\tremaining: 1.94s\n",
            "411:\tlearn: 0.1135192\ttotal: 2.33s\tremaining: 1.94s\n",
            "412:\tlearn: 0.1134337\ttotal: 2.33s\tremaining: 1.93s\n",
            "413:\tlearn: 0.1132462\ttotal: 2.34s\tremaining: 1.93s\n",
            "414:\tlearn: 0.1131397\ttotal: 2.34s\tremaining: 1.92s\n",
            "415:\tlearn: 0.1130065\ttotal: 2.35s\tremaining: 1.91s\n",
            "416:\tlearn: 0.1128508\ttotal: 2.35s\tremaining: 1.91s\n",
            "417:\tlearn: 0.1127218\ttotal: 2.36s\tremaining: 1.9s\n",
            "418:\tlearn: 0.1125925\ttotal: 2.37s\tremaining: 1.9s\n",
            "419:\tlearn: 0.1124505\ttotal: 2.37s\tremaining: 1.89s\n",
            "420:\tlearn: 0.1122889\ttotal: 2.38s\tremaining: 1.89s\n",
            "421:\tlearn: 0.1122027\ttotal: 2.38s\tremaining: 1.88s\n",
            "422:\tlearn: 0.1120543\ttotal: 2.39s\tremaining: 1.87s\n",
            "423:\tlearn: 0.1119460\ttotal: 2.39s\tremaining: 1.87s\n",
            "424:\tlearn: 0.1118396\ttotal: 2.4s\tremaining: 1.86s\n",
            "425:\tlearn: 0.1117108\ttotal: 2.4s\tremaining: 1.86s\n",
            "426:\tlearn: 0.1116096\ttotal: 2.41s\tremaining: 1.85s\n",
            "427:\tlearn: 0.1115529\ttotal: 2.41s\tremaining: 1.84s\n",
            "428:\tlearn: 0.1114587\ttotal: 2.42s\tremaining: 1.84s\n",
            "429:\tlearn: 0.1113626\ttotal: 2.42s\tremaining: 1.83s\n",
            "430:\tlearn: 0.1112621\ttotal: 2.43s\tremaining: 1.83s\n",
            "431:\tlearn: 0.1111941\ttotal: 2.43s\tremaining: 1.82s\n",
            "432:\tlearn: 0.1110778\ttotal: 2.44s\tremaining: 1.81s\n",
            "433:\tlearn: 0.1109647\ttotal: 2.44s\tremaining: 1.81s\n",
            "434:\tlearn: 0.1108609\ttotal: 2.45s\tremaining: 1.8s\n",
            "435:\tlearn: 0.1107624\ttotal: 2.46s\tremaining: 1.8s\n",
            "436:\tlearn: 0.1105921\ttotal: 2.46s\tremaining: 1.79s\n",
            "437:\tlearn: 0.1104363\ttotal: 2.47s\tremaining: 1.78s\n",
            "438:\tlearn: 0.1103777\ttotal: 2.47s\tremaining: 1.78s\n",
            "439:\tlearn: 0.1102739\ttotal: 2.48s\tremaining: 1.77s\n",
            "440:\tlearn: 0.1101795\ttotal: 2.48s\tremaining: 1.77s\n",
            "441:\tlearn: 0.1100710\ttotal: 2.49s\tremaining: 1.76s\n",
            "442:\tlearn: 0.1099863\ttotal: 2.49s\tremaining: 1.75s\n",
            "443:\tlearn: 0.1098863\ttotal: 2.5s\tremaining: 1.75s\n",
            "444:\tlearn: 0.1097797\ttotal: 2.5s\tremaining: 1.74s\n",
            "445:\tlearn: 0.1096622\ttotal: 2.51s\tremaining: 1.74s\n",
            "446:\tlearn: 0.1094612\ttotal: 2.51s\tremaining: 1.73s\n",
            "447:\tlearn: 0.1093931\ttotal: 2.52s\tremaining: 1.73s\n",
            "448:\tlearn: 0.1092073\ttotal: 2.52s\tremaining: 1.72s\n",
            "449:\tlearn: 0.1090430\ttotal: 2.53s\tremaining: 1.71s\n",
            "450:\tlearn: 0.1088787\ttotal: 2.53s\tremaining: 1.71s\n",
            "451:\tlearn: 0.1087361\ttotal: 2.54s\tremaining: 1.7s\n",
            "452:\tlearn: 0.1086197\ttotal: 2.54s\tremaining: 1.7s\n",
            "453:\tlearn: 0.1084744\ttotal: 2.55s\tremaining: 1.69s\n",
            "454:\tlearn: 0.1082883\ttotal: 2.56s\tremaining: 1.68s\n",
            "455:\tlearn: 0.1081983\ttotal: 2.56s\tremaining: 1.68s\n",
            "456:\tlearn: 0.1079293\ttotal: 2.57s\tremaining: 1.67s\n",
            "457:\tlearn: 0.1078001\ttotal: 2.57s\tremaining: 1.67s\n",
            "458:\tlearn: 0.1077089\ttotal: 2.58s\tremaining: 1.66s\n",
            "459:\tlearn: 0.1075559\ttotal: 2.58s\tremaining: 1.65s\n",
            "460:\tlearn: 0.1074705\ttotal: 2.59s\tremaining: 1.65s\n",
            "461:\tlearn: 0.1073789\ttotal: 2.59s\tremaining: 1.64s\n",
            "462:\tlearn: 0.1072960\ttotal: 2.6s\tremaining: 1.64s\n",
            "463:\tlearn: 0.1071458\ttotal: 2.6s\tremaining: 1.63s\n",
            "464:\tlearn: 0.1069621\ttotal: 2.61s\tremaining: 1.63s\n",
            "465:\tlearn: 0.1069161\ttotal: 2.61s\tremaining: 1.62s\n",
            "466:\tlearn: 0.1068124\ttotal: 2.62s\tremaining: 1.61s\n",
            "467:\tlearn: 0.1066531\ttotal: 2.62s\tremaining: 1.61s\n",
            "468:\tlearn: 0.1064766\ttotal: 2.63s\tremaining: 1.6s\n",
            "469:\tlearn: 0.1063124\ttotal: 2.63s\tremaining: 1.6s\n",
            "470:\tlearn: 0.1062004\ttotal: 2.64s\tremaining: 1.59s\n",
            "471:\tlearn: 0.1061030\ttotal: 2.64s\tremaining: 1.58s\n",
            "472:\tlearn: 0.1059492\ttotal: 2.65s\tremaining: 1.58s\n",
            "473:\tlearn: 0.1057918\ttotal: 2.65s\tremaining: 1.57s\n",
            "474:\tlearn: 0.1056597\ttotal: 2.66s\tremaining: 1.57s\n",
            "475:\tlearn: 0.1054995\ttotal: 2.67s\tremaining: 1.56s\n",
            "476:\tlearn: 0.1053744\ttotal: 2.67s\tremaining: 1.56s\n",
            "477:\tlearn: 0.1052305\ttotal: 2.68s\tremaining: 1.55s\n",
            "478:\tlearn: 0.1051822\ttotal: 2.68s\tremaining: 1.55s\n",
            "479:\tlearn: 0.1050066\ttotal: 2.69s\tremaining: 1.54s\n",
            "480:\tlearn: 0.1048905\ttotal: 2.69s\tremaining: 1.53s\n",
            "481:\tlearn: 0.1048090\ttotal: 2.7s\tremaining: 1.53s\n",
            "482:\tlearn: 0.1046775\ttotal: 2.71s\tremaining: 1.52s\n",
            "483:\tlearn: 0.1045954\ttotal: 2.71s\tremaining: 1.52s\n",
            "484:\tlearn: 0.1044795\ttotal: 2.71s\tremaining: 1.51s\n",
            "485:\tlearn: 0.1044201\ttotal: 2.72s\tremaining: 1.5s\n",
            "486:\tlearn: 0.1042941\ttotal: 2.73s\tremaining: 1.5s\n",
            "487:\tlearn: 0.1042204\ttotal: 2.73s\tremaining: 1.49s\n",
            "488:\tlearn: 0.1041203\ttotal: 2.74s\tremaining: 1.49s\n",
            "489:\tlearn: 0.1039950\ttotal: 2.74s\tremaining: 1.48s\n",
            "490:\tlearn: 0.1037608\ttotal: 2.75s\tremaining: 1.48s\n",
            "491:\tlearn: 0.1036502\ttotal: 2.75s\tremaining: 1.47s\n",
            "492:\tlearn: 0.1035546\ttotal: 2.76s\tremaining: 1.47s\n",
            "493:\tlearn: 0.1034782\ttotal: 2.76s\tremaining: 1.46s\n",
            "494:\tlearn: 0.1034046\ttotal: 2.77s\tremaining: 1.45s\n",
            "495:\tlearn: 0.1032155\ttotal: 2.77s\tremaining: 1.45s\n",
            "496:\tlearn: 0.1031546\ttotal: 2.78s\tremaining: 1.44s\n",
            "497:\tlearn: 0.1030814\ttotal: 2.78s\tremaining: 1.44s\n",
            "498:\tlearn: 0.1029807\ttotal: 2.79s\tremaining: 1.43s\n",
            "499:\tlearn: 0.1028792\ttotal: 2.8s\tremaining: 1.43s\n",
            "500:\tlearn: 0.1027067\ttotal: 2.8s\tremaining: 1.42s\n",
            "501:\tlearn: 0.1025857\ttotal: 2.81s\tremaining: 1.42s\n",
            "502:\tlearn: 0.1024938\ttotal: 2.81s\tremaining: 1.41s\n",
            "503:\tlearn: 0.1023772\ttotal: 2.82s\tremaining: 1.4s\n",
            "504:\tlearn: 0.1022308\ttotal: 2.82s\tremaining: 1.4s\n",
            "505:\tlearn: 0.1021198\ttotal: 2.83s\tremaining: 1.39s\n",
            "506:\tlearn: 0.1020219\ttotal: 2.84s\tremaining: 1.39s\n",
            "507:\tlearn: 0.1019148\ttotal: 2.84s\tremaining: 1.38s\n",
            "508:\tlearn: 0.1017992\ttotal: 2.85s\tremaining: 1.38s\n",
            "509:\tlearn: 0.1017097\ttotal: 2.85s\tremaining: 1.37s\n",
            "510:\tlearn: 0.1016509\ttotal: 2.86s\tremaining: 1.36s\n",
            "511:\tlearn: 0.1015544\ttotal: 2.87s\tremaining: 1.36s\n",
            "512:\tlearn: 0.1014746\ttotal: 2.87s\tremaining: 1.35s\n",
            "513:\tlearn: 0.1013057\ttotal: 2.88s\tremaining: 1.35s\n",
            "514:\tlearn: 0.1011528\ttotal: 2.88s\tremaining: 1.34s\n",
            "515:\tlearn: 0.1009845\ttotal: 2.89s\tremaining: 1.34s\n",
            "516:\tlearn: 0.1008390\ttotal: 2.89s\tremaining: 1.33s\n",
            "517:\tlearn: 0.1007784\ttotal: 2.9s\tremaining: 1.33s\n",
            "518:\tlearn: 0.1006300\ttotal: 2.9s\tremaining: 1.32s\n",
            "519:\tlearn: 0.1005419\ttotal: 2.91s\tremaining: 1.31s\n",
            "520:\tlearn: 0.1003478\ttotal: 2.92s\tremaining: 1.31s\n",
            "521:\tlearn: 0.1000952\ttotal: 2.92s\tremaining: 1.3s\n",
            "522:\tlearn: 0.1000315\ttotal: 2.93s\tremaining: 1.3s\n",
            "523:\tlearn: 0.0999474\ttotal: 2.93s\tremaining: 1.29s\n",
            "524:\tlearn: 0.0998673\ttotal: 2.94s\tremaining: 1.29s\n",
            "525:\tlearn: 0.0997854\ttotal: 2.94s\tremaining: 1.28s\n",
            "526:\tlearn: 0.0996391\ttotal: 2.95s\tremaining: 1.28s\n",
            "527:\tlearn: 0.0994931\ttotal: 2.96s\tremaining: 1.27s\n",
            "528:\tlearn: 0.0993464\ttotal: 2.96s\tremaining: 1.26s\n",
            "529:\tlearn: 0.0992683\ttotal: 2.96s\tremaining: 1.26s\n",
            "530:\tlearn: 0.0991766\ttotal: 2.97s\tremaining: 1.25s\n",
            "531:\tlearn: 0.0990888\ttotal: 2.98s\tremaining: 1.25s\n",
            "532:\tlearn: 0.0989365\ttotal: 2.98s\tremaining: 1.24s\n",
            "533:\tlearn: 0.0988125\ttotal: 2.99s\tremaining: 1.24s\n",
            "534:\tlearn: 0.0987424\ttotal: 2.99s\tremaining: 1.23s\n",
            "535:\tlearn: 0.0984593\ttotal: 3s\tremaining: 1.23s\n",
            "536:\tlearn: 0.0983410\ttotal: 3s\tremaining: 1.22s\n",
            "537:\tlearn: 0.0981441\ttotal: 3.01s\tremaining: 1.21s\n",
            "538:\tlearn: 0.0980614\ttotal: 3.02s\tremaining: 1.21s\n",
            "539:\tlearn: 0.0978501\ttotal: 3.02s\tremaining: 1.2s\n",
            "540:\tlearn: 0.0977922\ttotal: 3.03s\tremaining: 1.2s\n",
            "541:\tlearn: 0.0976706\ttotal: 3.03s\tremaining: 1.19s\n",
            "542:\tlearn: 0.0975886\ttotal: 3.04s\tremaining: 1.19s\n",
            "543:\tlearn: 0.0974331\ttotal: 3.04s\tremaining: 1.18s\n",
            "544:\tlearn: 0.0973928\ttotal: 3.05s\tremaining: 1.18s\n",
            "545:\tlearn: 0.0973572\ttotal: 3.05s\tremaining: 1.17s\n",
            "546:\tlearn: 0.0972709\ttotal: 3.06s\tremaining: 1.16s\n",
            "547:\tlearn: 0.0971619\ttotal: 3.07s\tremaining: 1.16s\n",
            "548:\tlearn: 0.0970774\ttotal: 3.07s\tremaining: 1.15s\n",
            "549:\tlearn: 0.0969977\ttotal: 3.08s\tremaining: 1.15s\n",
            "550:\tlearn: 0.0968475\ttotal: 3.16s\tremaining: 1.17s\n",
            "551:\tlearn: 0.0967087\ttotal: 3.17s\tremaining: 1.17s\n",
            "552:\tlearn: 0.0966191\ttotal: 3.17s\tremaining: 1.16s\n",
            "553:\tlearn: 0.0965279\ttotal: 3.18s\tremaining: 1.15s\n",
            "554:\tlearn: 0.0964212\ttotal: 3.19s\tremaining: 1.15s\n",
            "555:\tlearn: 0.0963724\ttotal: 3.19s\tremaining: 1.14s\n",
            "556:\tlearn: 0.0962772\ttotal: 3.2s\tremaining: 1.14s\n",
            "557:\tlearn: 0.0962208\ttotal: 3.2s\tremaining: 1.13s\n",
            "558:\tlearn: 0.0961208\ttotal: 3.21s\tremaining: 1.12s\n",
            "559:\tlearn: 0.0960791\ttotal: 3.21s\tremaining: 1.12s\n",
            "560:\tlearn: 0.0959309\ttotal: 3.22s\tremaining: 1.11s\n",
            "561:\tlearn: 0.0957954\ttotal: 3.22s\tremaining: 1.11s\n",
            "562:\tlearn: 0.0956735\ttotal: 3.23s\tremaining: 1.1s\n",
            "563:\tlearn: 0.0955618\ttotal: 3.23s\tremaining: 1.09s\n",
            "564:\tlearn: 0.0954506\ttotal: 3.24s\tremaining: 1.09s\n",
            "565:\tlearn: 0.0953596\ttotal: 3.24s\tremaining: 1.08s\n",
            "566:\tlearn: 0.0952465\ttotal: 3.25s\tremaining: 1.08s\n",
            "567:\tlearn: 0.0951070\ttotal: 3.25s\tremaining: 1.07s\n",
            "568:\tlearn: 0.0950169\ttotal: 3.26s\tremaining: 1.06s\n",
            "569:\tlearn: 0.0949484\ttotal: 3.26s\tremaining: 1.06s\n",
            "570:\tlearn: 0.0948777\ttotal: 3.27s\tremaining: 1.05s\n",
            "571:\tlearn: 0.0947651\ttotal: 3.27s\tremaining: 1.05s\n",
            "572:\tlearn: 0.0947127\ttotal: 3.28s\tremaining: 1.04s\n",
            "573:\tlearn: 0.0946020\ttotal: 3.29s\tremaining: 1.03s\n",
            "574:\tlearn: 0.0945131\ttotal: 3.29s\tremaining: 1.03s\n",
            "575:\tlearn: 0.0944202\ttotal: 3.3s\tremaining: 1.02s\n",
            "576:\tlearn: 0.0943539\ttotal: 3.3s\tremaining: 1.02s\n",
            "577:\tlearn: 0.0942513\ttotal: 3.31s\tremaining: 1.01s\n",
            "578:\tlearn: 0.0941529\ttotal: 3.31s\tremaining: 1.01s\n",
            "579:\tlearn: 0.0941003\ttotal: 3.32s\tremaining: 1s\n",
            "580:\tlearn: 0.0939547\ttotal: 3.32s\tremaining: 995ms\n",
            "581:\tlearn: 0.0938983\ttotal: 3.33s\tremaining: 989ms\n",
            "582:\tlearn: 0.0938276\ttotal: 3.33s\tremaining: 983ms\n",
            "583:\tlearn: 0.0937285\ttotal: 3.34s\tremaining: 977ms\n",
            "584:\tlearn: 0.0936441\ttotal: 3.34s\tremaining: 971ms\n",
            "585:\tlearn: 0.0934830\ttotal: 3.35s\tremaining: 966ms\n",
            "586:\tlearn: 0.0933944\ttotal: 3.35s\tremaining: 960ms\n",
            "587:\tlearn: 0.0932842\ttotal: 3.36s\tremaining: 954ms\n",
            "588:\tlearn: 0.0931418\ttotal: 3.37s\tremaining: 949ms\n",
            "589:\tlearn: 0.0930185\ttotal: 3.37s\tremaining: 943ms\n",
            "590:\tlearn: 0.0928892\ttotal: 3.38s\tremaining: 937ms\n",
            "591:\tlearn: 0.0927594\ttotal: 3.38s\tremaining: 931ms\n",
            "592:\tlearn: 0.0926780\ttotal: 3.39s\tremaining: 926ms\n",
            "593:\tlearn: 0.0925279\ttotal: 3.39s\tremaining: 920ms\n",
            "594:\tlearn: 0.0923880\ttotal: 3.4s\tremaining: 914ms\n",
            "595:\tlearn: 0.0921635\ttotal: 3.4s\tremaining: 909ms\n",
            "596:\tlearn: 0.0920379\ttotal: 3.41s\tremaining: 903ms\n",
            "597:\tlearn: 0.0919569\ttotal: 3.42s\tremaining: 897ms\n",
            "598:\tlearn: 0.0919052\ttotal: 3.42s\tremaining: 892ms\n",
            "599:\tlearn: 0.0918400\ttotal: 3.43s\tremaining: 886ms\n",
            "600:\tlearn: 0.0917271\ttotal: 3.44s\tremaining: 880ms\n",
            "601:\tlearn: 0.0915994\ttotal: 3.44s\tremaining: 875ms\n",
            "602:\tlearn: 0.0915086\ttotal: 3.45s\tremaining: 869ms\n",
            "603:\tlearn: 0.0914499\ttotal: 3.45s\tremaining: 863ms\n",
            "604:\tlearn: 0.0913470\ttotal: 3.46s\tremaining: 857ms\n",
            "605:\tlearn: 0.0912517\ttotal: 3.46s\tremaining: 852ms\n",
            "606:\tlearn: 0.0911742\ttotal: 3.47s\tremaining: 846ms\n",
            "607:\tlearn: 0.0909811\ttotal: 3.47s\tremaining: 840ms\n",
            "608:\tlearn: 0.0908849\ttotal: 3.48s\tremaining: 834ms\n",
            "609:\tlearn: 0.0908524\ttotal: 3.48s\tremaining: 828ms\n",
            "610:\tlearn: 0.0906911\ttotal: 3.49s\tremaining: 823ms\n",
            "611:\tlearn: 0.0905387\ttotal: 3.5s\tremaining: 817ms\n",
            "612:\tlearn: 0.0904016\ttotal: 3.5s\tremaining: 811ms\n",
            "613:\tlearn: 0.0902357\ttotal: 3.51s\tremaining: 805ms\n",
            "614:\tlearn: 0.0901369\ttotal: 3.51s\tremaining: 799ms\n",
            "615:\tlearn: 0.0900403\ttotal: 3.52s\tremaining: 794ms\n",
            "616:\tlearn: 0.0899842\ttotal: 3.52s\tremaining: 788ms\n",
            "617:\tlearn: 0.0898904\ttotal: 3.53s\tremaining: 782ms\n",
            "618:\tlearn: 0.0898352\ttotal: 3.53s\tremaining: 776ms\n",
            "619:\tlearn: 0.0897115\ttotal: 3.54s\tremaining: 770ms\n",
            "620:\tlearn: 0.0896474\ttotal: 3.54s\tremaining: 764ms\n",
            "621:\tlearn: 0.0896147\ttotal: 3.55s\tremaining: 759ms\n",
            "622:\tlearn: 0.0895559\ttotal: 3.55s\tremaining: 753ms\n",
            "623:\tlearn: 0.0894091\ttotal: 3.56s\tremaining: 747ms\n",
            "624:\tlearn: 0.0893449\ttotal: 3.56s\tremaining: 741ms\n",
            "625:\tlearn: 0.0892432\ttotal: 3.57s\tremaining: 736ms\n",
            "626:\tlearn: 0.0891671\ttotal: 3.57s\tremaining: 730ms\n",
            "627:\tlearn: 0.0890644\ttotal: 3.58s\tremaining: 724ms\n",
            "628:\tlearn: 0.0890208\ttotal: 3.58s\tremaining: 718ms\n",
            "629:\tlearn: 0.0889075\ttotal: 3.59s\tremaining: 713ms\n",
            "630:\tlearn: 0.0888620\ttotal: 3.6s\tremaining: 707ms\n",
            "631:\tlearn: 0.0887082\ttotal: 3.6s\tremaining: 701ms\n",
            "632:\tlearn: 0.0886514\ttotal: 3.61s\tremaining: 695ms\n",
            "633:\tlearn: 0.0884933\ttotal: 3.61s\tremaining: 689ms\n",
            "634:\tlearn: 0.0884445\ttotal: 3.62s\tremaining: 684ms\n",
            "635:\tlearn: 0.0883525\ttotal: 3.62s\tremaining: 678ms\n",
            "636:\tlearn: 0.0882564\ttotal: 3.63s\tremaining: 672ms\n",
            "637:\tlearn: 0.0881426\ttotal: 3.63s\tremaining: 667ms\n",
            "638:\tlearn: 0.0879994\ttotal: 3.64s\tremaining: 661ms\n",
            "639:\tlearn: 0.0878657\ttotal: 3.64s\tremaining: 655ms\n",
            "640:\tlearn: 0.0877640\ttotal: 3.65s\tremaining: 649ms\n",
            "641:\tlearn: 0.0876836\ttotal: 3.65s\tremaining: 643ms\n",
            "642:\tlearn: 0.0876194\ttotal: 3.66s\tremaining: 638ms\n",
            "643:\tlearn: 0.0875526\ttotal: 3.67s\tremaining: 632ms\n",
            "644:\tlearn: 0.0874344\ttotal: 3.67s\tremaining: 626ms\n",
            "645:\tlearn: 0.0873057\ttotal: 3.68s\tremaining: 621ms\n",
            "646:\tlearn: 0.0871984\ttotal: 3.69s\tremaining: 615ms\n",
            "647:\tlearn: 0.0870888\ttotal: 3.69s\tremaining: 609ms\n",
            "648:\tlearn: 0.0869752\ttotal: 3.69s\tremaining: 604ms\n",
            "649:\tlearn: 0.0868210\ttotal: 3.7s\tremaining: 598ms\n",
            "650:\tlearn: 0.0867266\ttotal: 3.71s\tremaining: 592ms\n",
            "651:\tlearn: 0.0865930\ttotal: 3.71s\tremaining: 586ms\n",
            "652:\tlearn: 0.0865059\ttotal: 3.72s\tremaining: 581ms\n",
            "653:\tlearn: 0.0863749\ttotal: 3.72s\tremaining: 575ms\n",
            "654:\tlearn: 0.0863182\ttotal: 3.73s\tremaining: 569ms\n",
            "655:\tlearn: 0.0861829\ttotal: 3.73s\tremaining: 563ms\n",
            "656:\tlearn: 0.0861509\ttotal: 3.74s\tremaining: 558ms\n",
            "657:\tlearn: 0.0860509\ttotal: 3.74s\tremaining: 552ms\n",
            "658:\tlearn: 0.0859831\ttotal: 3.75s\tremaining: 546ms\n",
            "659:\tlearn: 0.0859154\ttotal: 3.75s\tremaining: 540ms\n",
            "660:\tlearn: 0.0857951\ttotal: 3.76s\tremaining: 535ms\n",
            "661:\tlearn: 0.0857309\ttotal: 3.76s\tremaining: 529ms\n",
            "662:\tlearn: 0.0856740\ttotal: 3.77s\tremaining: 523ms\n",
            "663:\tlearn: 0.0856257\ttotal: 3.77s\tremaining: 517ms\n",
            "664:\tlearn: 0.0855138\ttotal: 3.78s\tremaining: 512ms\n",
            "665:\tlearn: 0.0853818\ttotal: 3.79s\tremaining: 506ms\n",
            "666:\tlearn: 0.0852703\ttotal: 3.79s\tremaining: 500ms\n",
            "667:\tlearn: 0.0852000\ttotal: 3.8s\tremaining: 495ms\n",
            "668:\tlearn: 0.0851367\ttotal: 3.8s\tremaining: 489ms\n",
            "669:\tlearn: 0.0850370\ttotal: 3.81s\tremaining: 483ms\n",
            "670:\tlearn: 0.0849847\ttotal: 3.82s\tremaining: 478ms\n",
            "671:\tlearn: 0.0849088\ttotal: 3.82s\tremaining: 472ms\n",
            "672:\tlearn: 0.0848172\ttotal: 3.83s\tremaining: 467ms\n",
            "673:\tlearn: 0.0847486\ttotal: 3.84s\tremaining: 461ms\n",
            "674:\tlearn: 0.0847139\ttotal: 3.84s\tremaining: 455ms\n",
            "675:\tlearn: 0.0846781\ttotal: 3.85s\tremaining: 450ms\n",
            "676:\tlearn: 0.0845967\ttotal: 3.85s\tremaining: 444ms\n",
            "677:\tlearn: 0.0845449\ttotal: 3.86s\tremaining: 438ms\n",
            "678:\tlearn: 0.0844936\ttotal: 3.87s\tremaining: 433ms\n",
            "679:\tlearn: 0.0844035\ttotal: 3.87s\tremaining: 427ms\n",
            "680:\tlearn: 0.0842666\ttotal: 3.88s\tremaining: 421ms\n",
            "681:\tlearn: 0.0841732\ttotal: 3.88s\tremaining: 416ms\n",
            "682:\tlearn: 0.0840400\ttotal: 3.89s\tremaining: 410ms\n",
            "683:\tlearn: 0.0839630\ttotal: 3.89s\tremaining: 404ms\n",
            "684:\tlearn: 0.0838335\ttotal: 3.9s\tremaining: 398ms\n",
            "685:\tlearn: 0.0837265\ttotal: 3.9s\tremaining: 393ms\n",
            "686:\tlearn: 0.0836140\ttotal: 3.91s\tremaining: 387ms\n",
            "687:\tlearn: 0.0835052\ttotal: 3.92s\tremaining: 381ms\n",
            "688:\tlearn: 0.0834304\ttotal: 3.92s\tremaining: 376ms\n",
            "689:\tlearn: 0.0833588\ttotal: 3.93s\tremaining: 370ms\n",
            "690:\tlearn: 0.0832797\ttotal: 3.93s\tremaining: 364ms\n",
            "691:\tlearn: 0.0831718\ttotal: 3.94s\tremaining: 359ms\n",
            "692:\tlearn: 0.0830481\ttotal: 3.95s\tremaining: 353ms\n",
            "693:\tlearn: 0.0829172\ttotal: 3.95s\tremaining: 347ms\n",
            "694:\tlearn: 0.0828076\ttotal: 3.96s\tremaining: 342ms\n",
            "695:\tlearn: 0.0827502\ttotal: 3.97s\tremaining: 336ms\n",
            "696:\tlearn: 0.0827062\ttotal: 3.97s\tremaining: 331ms\n",
            "697:\tlearn: 0.0826086\ttotal: 3.98s\tremaining: 325ms\n",
            "698:\tlearn: 0.0825166\ttotal: 3.98s\tremaining: 319ms\n",
            "699:\tlearn: 0.0824139\ttotal: 3.99s\tremaining: 314ms\n",
            "700:\tlearn: 0.0823593\ttotal: 4s\tremaining: 308ms\n",
            "701:\tlearn: 0.0823024\ttotal: 4s\tremaining: 302ms\n",
            "702:\tlearn: 0.0821783\ttotal: 4.01s\tremaining: 296ms\n",
            "703:\tlearn: 0.0820780\ttotal: 4.01s\tremaining: 291ms\n",
            "704:\tlearn: 0.0820406\ttotal: 4.02s\tremaining: 285ms\n",
            "705:\tlearn: 0.0819027\ttotal: 4.02s\tremaining: 279ms\n",
            "706:\tlearn: 0.0818257\ttotal: 4.03s\tremaining: 274ms\n",
            "707:\tlearn: 0.0817822\ttotal: 4.04s\tremaining: 268ms\n",
            "708:\tlearn: 0.0816572\ttotal: 4.04s\tremaining: 262ms\n",
            "709:\tlearn: 0.0816078\ttotal: 4.05s\tremaining: 257ms\n",
            "710:\tlearn: 0.0815491\ttotal: 4.05s\tremaining: 251ms\n",
            "711:\tlearn: 0.0814803\ttotal: 4.06s\tremaining: 245ms\n",
            "712:\tlearn: 0.0814509\ttotal: 4.06s\tremaining: 239ms\n",
            "713:\tlearn: 0.0813854\ttotal: 4.07s\tremaining: 234ms\n",
            "714:\tlearn: 0.0813132\ttotal: 4.08s\tremaining: 228ms\n",
            "715:\tlearn: 0.0812622\ttotal: 4.08s\tremaining: 222ms\n",
            "716:\tlearn: 0.0812061\ttotal: 4.09s\tremaining: 217ms\n",
            "717:\tlearn: 0.0811357\ttotal: 4.09s\tremaining: 211ms\n",
            "718:\tlearn: 0.0809860\ttotal: 4.1s\tremaining: 205ms\n",
            "719:\tlearn: 0.0808848\ttotal: 4.1s\tremaining: 199ms\n",
            "720:\tlearn: 0.0808305\ttotal: 4.11s\tremaining: 194ms\n",
            "721:\tlearn: 0.0807027\ttotal: 4.11s\tremaining: 188ms\n",
            "722:\tlearn: 0.0806594\ttotal: 4.12s\tremaining: 182ms\n",
            "723:\tlearn: 0.0806062\ttotal: 4.13s\tremaining: 177ms\n",
            "724:\tlearn: 0.0804931\ttotal: 4.13s\tremaining: 171ms\n",
            "725:\tlearn: 0.0804002\ttotal: 4.14s\tremaining: 165ms\n",
            "726:\tlearn: 0.0803379\ttotal: 4.14s\tremaining: 160ms\n",
            "727:\tlearn: 0.0802413\ttotal: 4.15s\tremaining: 154ms\n",
            "728:\tlearn: 0.0801675\ttotal: 4.15s\tremaining: 148ms\n",
            "729:\tlearn: 0.0801023\ttotal: 4.16s\tremaining: 142ms\n",
            "730:\tlearn: 0.0800294\ttotal: 4.17s\tremaining: 137ms\n",
            "731:\tlearn: 0.0799633\ttotal: 4.17s\tremaining: 131ms\n",
            "732:\tlearn: 0.0799135\ttotal: 4.18s\tremaining: 125ms\n",
            "733:\tlearn: 0.0798410\ttotal: 4.18s\tremaining: 120ms\n",
            "734:\tlearn: 0.0798210\ttotal: 4.19s\tremaining: 114ms\n",
            "735:\tlearn: 0.0797386\ttotal: 4.2s\tremaining: 108ms\n",
            "736:\tlearn: 0.0796360\ttotal: 4.2s\tremaining: 103ms\n",
            "737:\tlearn: 0.0795039\ttotal: 4.21s\tremaining: 97ms\n",
            "738:\tlearn: 0.0794157\ttotal: 4.21s\tremaining: 91.3ms\n",
            "739:\tlearn: 0.0793673\ttotal: 4.22s\tremaining: 85.5ms\n",
            "740:\tlearn: 0.0793051\ttotal: 4.22s\tremaining: 79.8ms\n",
            "741:\tlearn: 0.0792326\ttotal: 4.23s\tremaining: 74.2ms\n",
            "742:\tlearn: 0.0791395\ttotal: 4.24s\tremaining: 68.5ms\n",
            "743:\tlearn: 0.0790595\ttotal: 4.24s\tremaining: 62.7ms\n",
            "744:\tlearn: 0.0790009\ttotal: 4.25s\tremaining: 57ms\n",
            "745:\tlearn: 0.0789460\ttotal: 4.25s\tremaining: 51.3ms\n",
            "746:\tlearn: 0.0788742\ttotal: 4.26s\tremaining: 45.6ms\n",
            "747:\tlearn: 0.0787943\ttotal: 4.27s\tremaining: 39.9ms\n",
            "748:\tlearn: 0.0786409\ttotal: 4.27s\tremaining: 34.2ms\n",
            "749:\tlearn: 0.0785573\ttotal: 4.28s\tremaining: 28.5ms\n",
            "750:\tlearn: 0.0785051\ttotal: 4.28s\tremaining: 22.8ms\n",
            "751:\tlearn: 0.0784141\ttotal: 4.29s\tremaining: 17.1ms\n",
            "752:\tlearn: 0.0783237\ttotal: 4.29s\tremaining: 11.4ms\n",
            "753:\tlearn: 0.0782505\ttotal: 4.3s\tremaining: 5.7ms\n",
            "754:\tlearn: 0.0781460\ttotal: 4.3s\tremaining: 0us\n",
            "F1 Score: 0.22941970310391363\n",
            "---\n",
            "Confusion Matrix:\n",
            "[[7446  216]\n",
            " [ 355   85]]\n",
            "---\n",
            "Accuracy: 0.9295235744260676\n",
            "Precision: 0.2823920265780731\n",
            "Recall: 0.19318181818181818\n"
          ]
        }
      ]
    },
    {
      "cell_type": "markdown",
      "id": "19ba9f29",
      "metadata": {
        "id": "19ba9f29"
      },
      "source": [
        "optuna"
      ]
    },
    {
      "cell_type": "markdown",
      "id": "47c8e065",
      "metadata": {
        "id": "47c8e065"
      },
      "source": [
        "스레스홀드 0.3이고 300번 돌렸을 때 결과"
      ]
    },
    {
      "cell_type": "markdown",
      "id": "34ecc88d",
      "metadata": {
        "id": "34ecc88d"
      },
      "source": [
        "."
      ]
    }
  ],
  "metadata": {
    "accelerator": "GPU",
    "colab": {
      "gpuType": "L4",
      "provenance": []
    },
    "kernelspec": {
      "display_name": "Python 3",
      "name": "python3"
    },
    "language_info": {
      "codemirror_mode": {
        "name": "ipython",
        "version": 3
      },
      "file_extension": ".py",
      "mimetype": "text/x-python",
      "name": "python",
      "nbconvert_exporter": "python",
      "pygments_lexer": "ipython3",
      "version": "3.12.0"
    }
  },
  "nbformat": 4,
  "nbformat_minor": 5
}
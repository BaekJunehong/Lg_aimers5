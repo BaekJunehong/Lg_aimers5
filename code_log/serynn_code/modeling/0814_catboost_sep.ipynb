{
 "cells": [
  {
   "cell_type": "markdown",
   "id": "fe01e127-6fda-491e-9623-79eef37b43e5",
   "metadata": {},
   "source": [
    "## 공정 4개 나눠서 모델링"
   ]
  },
  {
   "cell_type": "markdown",
   "id": "b68e1b5a-401d-4b4b-bf87-e104d76f3cbc",
   "metadata": {},
   "source": [
    "전처리: 0814_preprocessing_sep.ipynb"
   ]
  },
  {
   "cell_type": "code",
   "execution_count": 1,
   "id": "be646d1a-ad7e-4f7c-956e-f692d12ae2c3",
   "metadata": {},
   "outputs": [],
   "source": [
    "import os\n",
    "from pprint import pprint\n",
    "\n",
    "import numpy as np\n",
    "import pandas as pd\n",
    "from sklearn.ensemble import RandomForestClassifier\n",
    "from sklearn.metrics import (\n",
    "    accuracy_score,\n",
    "    classification_report,\n",
    "    confusion_matrix,\n",
    "    f1_score,\n",
    "    precision_score,\n",
    "    recall_score,\n",
    ")\n",
    "from sklearn.model_selection import train_test_split\n",
    "from sklearn.preprocessing import LabelEncoder\n",
    "from tqdm import tqdm"
   ]
  },
  {
   "cell_type": "code",
   "execution_count": 2,
   "id": "a9c69ffb-dd1e-4495-a1b2-685dcebbd464",
   "metadata": {},
   "outputs": [],
   "source": [
    "# csv 불러오기 (0814_preprocessing_sep.ipynb에서 전처리된 데이터)\n",
    "train_data = pd.read_csv('sep_model_train_data.csv')\n",
    "test_data = pd.read_csv('sep_model_test_data.csv')"
   ]
  },
  {
   "cell_type": "code",
   "execution_count": 3,
   "id": "e58e9c06-dfce-4835-9332-f4b53adf8e9e",
   "metadata": {},
   "outputs": [],
   "source": [
    "### 총시간 대비 비율 변수\n",
    "def calculate_total_time_and_ratios(data):\n",
    "    data['total_time'] = (\n",
    "        data['Machine Tact time Collect Result_Dam'] +\n",
    "        data['Machine Tact time Collect Result_Fill1'] +\n",
    "        data['Machine Tact time Collect Result_Fill2'] +\n",
    "        data['Chamber Temp. Unit Time_AutoClave']\n",
    "    )\n",
    "    data['time_ratio_Dam'] = (data['Machine Tact time Collect Result_Dam'] / data['total_time']).round(3)\n",
    "    data['time_ratio_Fill1'] = (data['Machine Tact time Collect Result_Fill1'] / data['total_time']).round(3)\n",
    "    data['time_ratio_Fill2'] = (data['Machine Tact time Collect Result_Fill2'] / data['total_time']).round(3)\n",
    "    data['time_ratio_AutoClave'] = (data['Chamber Temp. Unit Time_AutoClave'] / data['total_time']).round(3)\n",
    "    return data\n",
    "\n",
    "# train_data와 test_data에 함수 적용\n",
    "train_data = calculate_total_time_and_ratios(train_data)\n",
    "test_data = calculate_total_time_and_ratios(test_data)"
   ]
  },
  {
   "cell_type": "code",
   "execution_count": 4,
   "id": "10365e06-d848-48ac-872f-cc1d8a74c16e",
   "metadata": {},
   "outputs": [],
   "source": [
    "# 변수 제거\n",
    "train_data.drop(columns=[\n",
    "    'total_time'\n",
    "    , 'Machine Tact time Collect Result_Dam'\n",
    "    , 'Machine Tact time Collect Result_Fill1'\n",
    "    , 'Machine Tact time Collect Result_Fill2'\n",
    "    , 'Chamber Temp. Unit Time_AutoClave'], inplace=True)\n",
    "\n",
    "test_data.drop(columns=[\n",
    "    'total_time'\n",
    "    , 'Machine Tact time Collect Result_Dam'\n",
    "    , 'Machine Tact time Collect Result_Fill1'\n",
    "    , 'Machine Tact time Collect Result_Fill2'\n",
    "    , 'Chamber Temp. Unit Time_AutoClave'], inplace=True)"
   ]
  },
  {
   "cell_type": "markdown",
   "id": "94e2511e-becd-40b8-be37-256c7933a56c",
   "metadata": {},
   "source": [
    "### 공통 변수"
   ]
  },
  {
   "cell_type": "code",
   "execution_count": 5,
   "id": "dc81ac82-3f78-4a27-9da0-ca386085c5bd",
   "metadata": {},
   "outputs": [],
   "source": [
    "variables = [\n",
    "    \"Equipment_same_num\",\n",
    "    \"PalletID\",\n",
    "    \"Production_Qty\",\n",
    "    \"model_receip_encoded\",\n",
    "    \"workorder_receip_encoded\"\n",
    "]\n",
    "\n",
    "# 변수들로만 이루어진 DataFrame 생성\n",
    "filtered_data = train_data[variables]"
   ]
  },
  {
   "cell_type": "code",
   "execution_count": 6,
   "id": "1643f625-b592-4c34-94a7-2c69c269a6f5",
   "metadata": {},
   "outputs": [
    {
     "name": "stdout",
     "output_type": "stream",
     "text": [
      "       Variable 1      Variable 2  Correlation\n",
      "0        PalletID  Production_Qty     0.944591\n",
      "1  Production_Qty        PalletID     0.944591\n"
     ]
    }
   ],
   "source": [
    "# 상관계수 행렬 계산\n",
    "correlation_matrix = filtered_data.corr()\n",
    "\n",
    "# 자기자신을 제외하고 특정 값 이상인 조합 찾기\n",
    "strong_correlations = correlation_matrix[(correlation_matrix >= 0.8) & (correlation_matrix != 1)]\n",
    "\n",
    "# 리스트로 변환\n",
    "strong_correlations_pairs = strong_correlations.stack().reset_index()\n",
    "strong_correlations_pairs.columns = ['Variable 1', 'Variable 2', 'Correlation']\n",
    "\n",
    "# 결과 출력\n",
    "strong_correlations_pairs = strong_correlations_pairs[strong_correlations_pairs['Correlation'] >= 0.7]\n",
    "print(strong_correlations_pairs)"
   ]
  },
  {
   "cell_type": "code",
   "execution_count": 7,
   "id": "3ed6c9d2-6a19-4e9d-ae2d-146373dbfaf2",
   "metadata": {},
   "outputs": [],
   "source": [
    "# 열 삭제\n",
    "train_data.drop(\"PalletID\", axis=1, inplace=True)\n",
    "test_data.drop(\"PalletID\", axis=1, inplace=True)"
   ]
  },
  {
   "cell_type": "code",
   "execution_count": 8,
   "id": "fb740908-6841-4647-830e-38b8f69221c4",
   "metadata": {},
   "outputs": [
    {
     "name": "stdout",
     "output_type": "stream",
     "text": [
      "<class 'pandas.core.frame.DataFrame'>\n",
      "RangeIndex: 17361 entries, 0 to 17360\n",
      "Data columns (total 40 columns):\n",
      " #   Column                                          Non-Null Count  Dtype  \n",
      "---  ------                                          --------------  -----  \n",
      " 0   Set ID                                          17361 non-null  object \n",
      " 1   CURE SPEED Collect Result_Dam                   17361 non-null  int64  \n",
      " 2   DISCHARGED SPEED OF RESIN Collect Result_Dam    17361 non-null  int64  \n",
      " 3   Head Clean Position Z Collect Result_Dam        17361 non-null  float64\n",
      " 4   Head Purge Position Z Collect Result_Dam        17361 non-null  float64\n",
      " 5   Head Zero Position Y Collect Result_Dam         17361 non-null  float64\n",
      " 6   Chamber Temp. Collect Result_AutoClave          17361 non-null  int64  \n",
      " 7   DISCHARGED SPEED OF RESIN Collect Result_Fill1  17361 non-null  float64\n",
      " 8   Head Purge Position Z Collect Result_Fill1      17361 non-null  float64\n",
      " 9   CURE SPEED Collect Result_Fill2                 17361 non-null  int64  \n",
      " 10  CURE STANDBY POSITION Z Collect Result_Fill2    17361 non-null  int64  \n",
      " 11  Head Purge Position Z Collect Result_Fill2      17361 non-null  float64\n",
      " 12  target                                          0 non-null      float64\n",
      " 13  head_normal_vector_stage1_Dam                   17361 non-null  float64\n",
      " 14  head_normal_vector_stage2_Dam                   17361 non-null  float64\n",
      " 15  head_normal_vector_stage3_Dam                   17361 non-null  float64\n",
      " 16  head_normal_vector_stage1_Fill1                 17361 non-null  float64\n",
      " 17  head_normal_vector_stage2_Fill1                 17361 non-null  float64\n",
      " 18  head_normal_vector_stage3_Fill1                 17361 non-null  float64\n",
      " 19  head_normal_vector_stage1_Fill2                 17361 non-null  float64\n",
      " 20  head_normal_vector_stage2_Fill2                 17361 non-null  float64\n",
      " 21  head_normal_vector_stage3_Fill2                 17361 non-null  float64\n",
      " 22  cure_end_position_XZΘ_Dam                       17361 non-null  int64  \n",
      " 23  cure_start_position_XΘ_Dam                      17361 non-null  int64  \n",
      " 24  cure_end_position_XZ_Fill2                      17361 non-null  int64  \n",
      " 25  cure_start_position_XZ_Fill2                    17361 non-null  int64  \n",
      " 26  Equipment_same_num                              17361 non-null  int64  \n",
      " 27  Production_Qty                                  17361 non-null  int64  \n",
      " 28  total_circle_distance_speed_Dam                 17361 non-null  float64\n",
      " 29  total_line_distance_speed_Dam                   17361 non-null  int64  \n",
      " 30  volume_time_multip_avg_Dam                      17361 non-null  float64\n",
      " 31  volume_time_multip_avg_Fill1                    17361 non-null  float64\n",
      " 32  average_thickness_Dam                           17361 non-null  float64\n",
      " 33  avg_pressure_time_AutoClave                     17361 non-null  float64\n",
      " 34  model_receip_encoded                            17361 non-null  float64\n",
      " 35  workorder_receip_encoded                        17361 non-null  float64\n",
      " 36  time_ratio_Dam                                  17361 non-null  float64\n",
      " 37  time_ratio_Fill1                                17361 non-null  float64\n",
      " 38  time_ratio_Fill2                                17361 non-null  float64\n",
      " 39  time_ratio_AutoClave                            17361 non-null  float64\n",
      "dtypes: float64(27), int64(12), object(1)\n",
      "memory usage: 5.3+ MB\n"
     ]
    }
   ],
   "source": [
    "test_data.info()"
   ]
  },
  {
   "cell_type": "markdown",
   "id": "a79650e0-123b-4ccd-a752-b75097c923ff",
   "metadata": {},
   "source": [
    "-> 상관관계가 높은 이유: Production_Qty가 0이고 PalletID가 1인 경우는 없음 (Production_Qty가 1인 경우 안에 PalletID가 1인 경우가 모두 포함됨). 따라서 PalletID 컬럼을 삭제."
   ]
  },
  {
   "cell_type": "code",
   "execution_count": 9,
   "id": "42946bf1-cc16-415d-96d8-89c44396419d",
   "metadata": {},
   "outputs": [],
   "source": [
    "# 공통 변수 리스트\n",
    "same_variables_train = [\n",
    "    \"target\",\n",
    "    \"Equipment_same_num\",\n",
    "    \"Production_Qty\",\n",
    "    \"model_receip_encoded\",\n",
    "    \"workorder_receip_encoded\"\n",
    "]\n",
    "\n",
    "same_variables_test = [\n",
    "    \"Set ID\",\n",
    "    \"target\",\n",
    "    \"Equipment_same_num\",\n",
    "    \"Production_Qty\",\n",
    "    \"model_receip_encoded\",\n",
    "    \"workorder_receip_encoded\"\n",
    "]"
   ]
  },
  {
   "cell_type": "code",
   "execution_count": 10,
   "id": "94ec6168-33d2-4a1e-a658-7b9cab70ca09",
   "metadata": {},
   "outputs": [],
   "source": [
    "# 'target'과 'Set ID' 열을 제외한 나머지 변수들을 범주형으로 변환\n",
    "for var in same_variables_train:\n",
    "    if var != \"target\":  # 'target' 제외\n",
    "        train_data[var] = train_data[var].astype(str).astype('category')\n",
    "\n",
    "for var in same_variables_test:\n",
    "    if var != \"Set ID\" and var != \"target\":  # 'Set ID'와 'target' 제외\n",
    "        test_data[var] = test_data[var].astype(str).astype('category')"
   ]
  },
  {
   "cell_type": "markdown",
   "id": "659cd03e-0d6a-4279-b922-f4d6485c1a3d",
   "metadata": {},
   "source": [
    "### dam"
   ]
  },
  {
   "cell_type": "code",
   "execution_count": 11,
   "id": "8a99c396-f098-4c9b-ba5a-25d052dba882",
   "metadata": {},
   "outputs": [
    {
     "name": "stdout",
     "output_type": "stream",
     "text": [
      "<Dam 공정 관련 변수>\n",
      "CURE SPEED Collect Result_Dam\n",
      "DISCHARGED SPEED OF RESIN Collect Result_Dam\n",
      "Head Clean Position Z Collect Result_Dam\n",
      "Head Purge Position Z Collect Result_Dam\n",
      "Head Zero Position Y Collect Result_Dam\n",
      "head_normal_vector_stage1_Dam\n",
      "head_normal_vector_stage2_Dam\n",
      "head_normal_vector_stage3_Dam\n",
      "cure_end_position_XZΘ_Dam\n",
      "cure_start_position_XΘ_Dam\n",
      "total_circle_distance_speed_Dam\n",
      "total_line_distance_speed_Dam\n",
      "volume_time_multip_avg_Dam\n",
      "average_thickness_Dam\n",
      "time_ratio_Dam\n"
     ]
    }
   ],
   "source": [
    "# 열 이름 필터링\n",
    "Process_Desc_col = train_data.filter(like='_Dam').columns\n",
    "\n",
    "# 필터링된 열 이름 출력\n",
    "print(\"<Dam 공정 관련 변수>\")\n",
    "for col in Process_Desc_col:\n",
    "    print(col)"
   ]
  },
  {
   "cell_type": "code",
   "execution_count": 12,
   "id": "8389f3d8-9788-49a6-92ad-d35999a348ad",
   "metadata": {},
   "outputs": [],
   "source": [
    "variables = [\n",
    "    \"CURE SPEED Collect Result_Dam\",\n",
    "    \"DISCHARGED SPEED OF RESIN Collect Result_Dam\",\n",
    "    \"Head Clean Position Z Collect Result_Dam\",\n",
    "    \"Head Purge Position Z Collect Result_Dam\",\n",
    "    \"Head Zero Position Y Collect Result_Dam\",\n",
    "    #\"head_normal_vector_stage1_Dam\",\n",
    "    #\"head_normal_vector_stage2_Dam\",\n",
    "    #\"head_normal_vector_stage3_Dam\",\n",
    "    \"cure_end_position_XZΘ_Dam\",\n",
    "    \"cure_start_position_XΘ_Dam\",\n",
    "    \"total_circle_distance_speed_Dam\",\n",
    "    \"total_line_distance_speed_Dam\",\n",
    "    \"volume_time_multip_avg_Dam\",\n",
    "    \"average_thickness_Dam\"\n",
    "]\n",
    "\n",
    "# 변수들로만 이루어진 DataFrame 생성\n",
    "filtered_data = train_data[variables]"
   ]
  },
  {
   "cell_type": "code",
   "execution_count": 13,
   "id": "2a1668f3-953f-44c2-b0b8-92a0d156c5f9",
   "metadata": {},
   "outputs": [
    {
     "name": "stdout",
     "output_type": "stream",
     "text": [
      "Empty DataFrame\n",
      "Columns: [Variable 1, Variable 2, Correlation]\n",
      "Index: []\n"
     ]
    }
   ],
   "source": [
    "# 상관계수 행렬 계산\n",
    "correlation_matrix = filtered_data.corr()\n",
    "\n",
    "# 자기자신을 제외하고 특정 값 이상인 조합 찾기\n",
    "strong_correlations = correlation_matrix[(correlation_matrix >= 0.8) & (correlation_matrix != 1)]\n",
    "\n",
    "# 리스트로 변환\n",
    "strong_correlations_pairs = strong_correlations.stack().reset_index()\n",
    "strong_correlations_pairs.columns = ['Variable 1', 'Variable 2', 'Correlation']\n",
    "\n",
    "# 결과 출력\n",
    "strong_correlations_pairs = strong_correlations_pairs[strong_correlations_pairs['Correlation'] >= 0.7]\n",
    "print(strong_correlations_pairs)"
   ]
  },
  {
   "cell_type": "code",
   "execution_count": 14,
   "id": "0807fbd4-a1c0-40c3-9525-a2053b287f38",
   "metadata": {},
   "outputs": [],
   "source": [
    "# 드랍할 열 목록\n",
    "columns_to_drop = [\n",
    "    'head_normal_vector_stage1_Dam',\n",
    "    'head_normal_vector_stage2_Dam',\n",
    "    'head_normal_vector_stage3_Dam',\n",
    "]\n",
    "\n",
    "# 열 삭제\n",
    "train_data.drop(columns=columns_to_drop, inplace=True, errors='ignore')\n",
    "test_data.drop(columns=columns_to_drop, inplace=True, errors='ignore')"
   ]
  },
  {
   "cell_type": "code",
   "execution_count": 15,
   "id": "9ea9c341-0690-4138-9b36-9e501e6083df",
   "metadata": {},
   "outputs": [],
   "source": [
    "### dam 데이터셋\n",
    "# 열 이름 필터링 후 공통 변수와 결합\n",
    "Process_Desc_col = train_data.filter(like='_Dam').columns\n",
    "\n",
    "# train\n",
    "final_columns_train = list(Process_Desc_col) + same_variables_train\n",
    "df_train_dam = train_data[final_columns_train]\n",
    "\n",
    "# test \n",
    "final_columns_test = list(Process_Desc_col) + same_variables_test\n",
    "df_test_dam = test_data[final_columns_test]"
   ]
  },
  {
   "cell_type": "code",
   "execution_count": 16,
   "id": "163d3631-9eb8-4fb3-86a2-6b3c299f0343",
   "metadata": {},
   "outputs": [
    {
     "name": "stderr",
     "output_type": "stream",
     "text": [
      "/var/folders/c6/kvlszyfj2q9_tv_8pb0y40qm0000gn/T/ipykernel_30821/3275190272.py:11: SettingWithCopyWarning: \n",
      "A value is trying to be set on a copy of a slice from a DataFrame.\n",
      "Try using .loc[row_indexer,col_indexer] = value instead\n",
      "\n",
      "See the caveats in the documentation: https://pandas.pydata.org/pandas-docs/stable/user_guide/indexing.html#returning-a-view-versus-a-copy\n",
      "  df_train_dam[categories] = df_train_dam[categories].astype(str).astype('category')\n",
      "/var/folders/c6/kvlszyfj2q9_tv_8pb0y40qm0000gn/T/ipykernel_30821/3275190272.py:12: SettingWithCopyWarning: \n",
      "A value is trying to be set on a copy of a slice from a DataFrame.\n",
      "Try using .loc[row_indexer,col_indexer] = value instead\n",
      "\n",
      "See the caveats in the documentation: https://pandas.pydata.org/pandas-docs/stable/user_guide/indexing.html#returning-a-view-versus-a-copy\n",
      "  df_test_dam[categories] = df_test_dam[categories].astype(str).astype('category')\n"
     ]
    }
   ],
   "source": [
    "# 변수 리스트\n",
    "categories = [\n",
    "    \"Head Clean Position Z Collect Result_Dam\",\n",
    "    \"Head Purge Position Z Collect Result_Dam\",\n",
    "    \"Head Zero Position Y Collect Result_Dam\",\n",
    "    \"cure_end_position_XZΘ_Dam\",\n",
    "    \"cure_start_position_XΘ_Dam\"\n",
    "]\n",
    "\n",
    "# 범주형으로 변환\n",
    "df_train_dam[categories] = df_train_dam[categories].astype(str).astype('category')\n",
    "df_test_dam[categories] = df_test_dam[categories].astype(str).astype('category')"
   ]
  },
  {
   "cell_type": "code",
   "execution_count": 17,
   "id": "af853194-5289-4dac-a325-5111ae3a11d5",
   "metadata": {},
   "outputs": [
    {
     "name": "stdout",
     "output_type": "stream",
     "text": [
      "<class 'pandas.core.frame.DataFrame'>\n",
      "RangeIndex: 40506 entries, 0 to 40505\n",
      "Data columns (total 17 columns):\n",
      " #   Column                                        Non-Null Count  Dtype   \n",
      "---  ------                                        --------------  -----   \n",
      " 0   CURE SPEED Collect Result_Dam                 40506 non-null  int64   \n",
      " 1   DISCHARGED SPEED OF RESIN Collect Result_Dam  40506 non-null  int64   \n",
      " 2   Head Clean Position Z Collect Result_Dam      40506 non-null  category\n",
      " 3   Head Purge Position Z Collect Result_Dam      40506 non-null  category\n",
      " 4   Head Zero Position Y Collect Result_Dam       40506 non-null  category\n",
      " 5   cure_end_position_XZΘ_Dam                     40506 non-null  category\n",
      " 6   cure_start_position_XΘ_Dam                    40506 non-null  category\n",
      " 7   total_circle_distance_speed_Dam               40506 non-null  float64 \n",
      " 8   total_line_distance_speed_Dam                 40506 non-null  int64   \n",
      " 9   volume_time_multip_avg_Dam                    40506 non-null  float64 \n",
      " 10  average_thickness_Dam                         40506 non-null  float64 \n",
      " 11  time_ratio_Dam                                40506 non-null  float64 \n",
      " 12  target                                        40506 non-null  object  \n",
      " 13  Equipment_same_num                            40506 non-null  category\n",
      " 14  Production_Qty                                40506 non-null  category\n",
      " 15  model_receip_encoded                          40506 non-null  category\n",
      " 16  workorder_receip_encoded                      40506 non-null  category\n",
      "dtypes: category(9), float64(4), int64(3), object(1)\n",
      "memory usage: 2.8+ MB\n"
     ]
    }
   ],
   "source": [
    "df_train_dam.info()"
   ]
  },
  {
   "cell_type": "code",
   "execution_count": 18,
   "id": "f166f71e-038d-4673-8e4b-8f7e18277f23",
   "metadata": {},
   "outputs": [
    {
     "name": "stdout",
     "output_type": "stream",
     "text": [
      "<class 'pandas.core.frame.DataFrame'>\n",
      "RangeIndex: 17361 entries, 0 to 17360\n",
      "Data columns (total 18 columns):\n",
      " #   Column                                        Non-Null Count  Dtype   \n",
      "---  ------                                        --------------  -----   \n",
      " 0   CURE SPEED Collect Result_Dam                 17361 non-null  int64   \n",
      " 1   DISCHARGED SPEED OF RESIN Collect Result_Dam  17361 non-null  int64   \n",
      " 2   Head Clean Position Z Collect Result_Dam      17361 non-null  category\n",
      " 3   Head Purge Position Z Collect Result_Dam      17361 non-null  category\n",
      " 4   Head Zero Position Y Collect Result_Dam       17361 non-null  category\n",
      " 5   cure_end_position_XZΘ_Dam                     17361 non-null  category\n",
      " 6   cure_start_position_XΘ_Dam                    17361 non-null  category\n",
      " 7   total_circle_distance_speed_Dam               17361 non-null  float64 \n",
      " 8   total_line_distance_speed_Dam                 17361 non-null  int64   \n",
      " 9   volume_time_multip_avg_Dam                    17361 non-null  float64 \n",
      " 10  average_thickness_Dam                         17361 non-null  float64 \n",
      " 11  time_ratio_Dam                                17361 non-null  float64 \n",
      " 12  Set ID                                        17361 non-null  object  \n",
      " 13  target                                        0 non-null      float64 \n",
      " 14  Equipment_same_num                            17361 non-null  category\n",
      " 15  Production_Qty                                17361 non-null  category\n",
      " 16  model_receip_encoded                          17361 non-null  category\n",
      " 17  workorder_receip_encoded                      17361 non-null  category\n",
      "dtypes: category(9), float64(5), int64(3), object(1)\n",
      "memory usage: 1.3+ MB\n"
     ]
    }
   ],
   "source": [
    "df_test_dam.info()"
   ]
  },
  {
   "cell_type": "markdown",
   "id": "7d0a2153-1100-4931-8179-4a1160a23d94",
   "metadata": {},
   "source": [
    "### fill1"
   ]
  },
  {
   "cell_type": "code",
   "execution_count": 19,
   "id": "143b7134-5ddd-4e17-8498-93a4d0b121d2",
   "metadata": {},
   "outputs": [
    {
     "name": "stdout",
     "output_type": "stream",
     "text": [
      "<Fill1 공정 관련 변수>\n",
      "DISCHARGED SPEED OF RESIN Collect Result_Fill1\n",
      "Head Purge Position Z Collect Result_Fill1\n",
      "head_normal_vector_stage1_Fill1\n",
      "head_normal_vector_stage2_Fill1\n",
      "head_normal_vector_stage3_Fill1\n",
      "volume_time_multip_avg_Fill1\n",
      "time_ratio_Fill1\n"
     ]
    }
   ],
   "source": [
    "# 열 이름 필터링\n",
    "Process_Desc_col = train_data.filter(like='_Fill1').columns\n",
    "\n",
    "# 필터링된 열 이름 출력\n",
    "print(\"<Fill1 공정 관련 변수>\")\n",
    "for col in Process_Desc_col:\n",
    "    print(col)"
   ]
  },
  {
   "cell_type": "code",
   "execution_count": 20,
   "id": "3c950efc-4251-4c07-ad0d-8bc92ec922ff",
   "metadata": {},
   "outputs": [],
   "source": [
    "variables = [\n",
    "    \"DISCHARGED SPEED OF RESIN Collect Result_Fill1\",\n",
    "    \"Head Purge Position Z Collect Result_Fill1\",\n",
    "    \"head_normal_vector_stage1_Fill1\",\n",
    "    #\"head_normal_vector_stage2_Fill1\",\n",
    "    #\"head_normal_vector_stage3_Fill1\",\n",
    "    \"volume_time_multip_avg_Fill1\",\n",
    "    \"time_ratio_Fill1\"\n",
    "]\n",
    "\n",
    "# 변수들로만 이루어진 DataFrame 생성\n",
    "filtered_data = train_data[variables]"
   ]
  },
  {
   "cell_type": "code",
   "execution_count": 21,
   "id": "2b5ed303-c878-47b3-a2cf-d06319643501",
   "metadata": {},
   "outputs": [
    {
     "name": "stdout",
     "output_type": "stream",
     "text": [
      "Empty DataFrame\n",
      "Columns: [Variable 1, Variable 2, Correlation]\n",
      "Index: []\n"
     ]
    }
   ],
   "source": [
    "# 상관계수 행렬 계산\n",
    "correlation_matrix = filtered_data.corr()\n",
    "\n",
    "# 자기자신을 제외하고 특정 값 이상인 조합 찾기\n",
    "strong_correlations = correlation_matrix[(correlation_matrix >= 0.8) & (correlation_matrix != 1)]\n",
    "\n",
    "# 리스트로 변환\n",
    "strong_correlations_pairs = strong_correlations.stack().reset_index()\n",
    "strong_correlations_pairs.columns = ['Variable 1', 'Variable 2', 'Correlation']\n",
    "\n",
    "# 결과 출력\n",
    "strong_correlations_pairs = strong_correlations_pairs[strong_correlations_pairs['Correlation'] >= 0.7]\n",
    "print(strong_correlations_pairs)"
   ]
  },
  {
   "cell_type": "code",
   "execution_count": 22,
   "id": "cd6c288c-887e-4922-90bf-0eb7b98a2857",
   "metadata": {},
   "outputs": [],
   "source": [
    "# 드랍할 열 목록\n",
    "columns_to_drop = [\n",
    "    \"head_normal_vector_stage2_Fill1\",\n",
    "    \"head_normal_vector_stage3_Fill1\"\n",
    "]\n",
    "\n",
    "# 열 삭제\n",
    "train_data.drop(columns=columns_to_drop, inplace=True, errors='ignore')\n",
    "test_data.drop(columns=columns_to_drop, inplace=True, errors='ignore')"
   ]
  },
  {
   "cell_type": "code",
   "execution_count": 23,
   "id": "9f9fb072-b040-417c-902c-632823b7c345",
   "metadata": {},
   "outputs": [],
   "source": [
    "### fill1 데이터셋\n",
    "# 열 이름 필터링 후 공통 변수와 결합\n",
    "Process_Desc_col = train_data.filter(like='_Fill1').columns\n",
    "\n",
    "# train\n",
    "final_columns_train = list(Process_Desc_col) + same_variables_train\n",
    "df_train_fill1 = train_data[final_columns_train]\n",
    "\n",
    "# test \n",
    "final_columns_test = list(Process_Desc_col) + same_variables_test\n",
    "df_test_fill1 = test_data[final_columns_test]"
   ]
  },
  {
   "cell_type": "code",
   "execution_count": 24,
   "id": "9288dc6e-a7e5-4f92-bffd-5c663f1f8714",
   "metadata": {},
   "outputs": [
    {
     "name": "stderr",
     "output_type": "stream",
     "text": [
      "/var/folders/c6/kvlszyfj2q9_tv_8pb0y40qm0000gn/T/ipykernel_30821/2932524238.py:2: SettingWithCopyWarning: \n",
      "A value is trying to be set on a copy of a slice from a DataFrame.\n",
      "Try using .loc[row_indexer,col_indexer] = value instead\n",
      "\n",
      "See the caveats in the documentation: https://pandas.pydata.org/pandas-docs/stable/user_guide/indexing.html#returning-a-view-versus-a-copy\n",
      "  df_train_fill1[\"Head Purge Position Z Collect Result_Fill1\"] = df_train_fill1[\"Head Purge Position Z Collect Result_Fill1\"].astype(str).astype('category')\n",
      "/var/folders/c6/kvlszyfj2q9_tv_8pb0y40qm0000gn/T/ipykernel_30821/2932524238.py:3: SettingWithCopyWarning: \n",
      "A value is trying to be set on a copy of a slice from a DataFrame.\n",
      "Try using .loc[row_indexer,col_indexer] = value instead\n",
      "\n",
      "See the caveats in the documentation: https://pandas.pydata.org/pandas-docs/stable/user_guide/indexing.html#returning-a-view-versus-a-copy\n",
      "  df_test_fill1[\"Head Purge Position Z Collect Result_Fill1\"] = df_test_fill1[\"Head Purge Position Z Collect Result_Fill1\"].astype(str).astype('category')\n"
     ]
    }
   ],
   "source": [
    "# 범주형으로 변환\n",
    "df_train_fill1[\"Head Purge Position Z Collect Result_Fill1\"] = df_train_fill1[\"Head Purge Position Z Collect Result_Fill1\"].astype(str).astype('category')\n",
    "df_test_fill1[\"Head Purge Position Z Collect Result_Fill1\"] = df_test_fill1[\"Head Purge Position Z Collect Result_Fill1\"].astype(str).astype('category')"
   ]
  },
  {
   "cell_type": "code",
   "execution_count": 25,
   "id": "e08a1cd8-b67b-437c-b490-dcdba40a0822",
   "metadata": {},
   "outputs": [
    {
     "name": "stdout",
     "output_type": "stream",
     "text": [
      "<class 'pandas.core.frame.DataFrame'>\n",
      "RangeIndex: 40506 entries, 0 to 40505\n",
      "Data columns (total 10 columns):\n",
      " #   Column                                          Non-Null Count  Dtype   \n",
      "---  ------                                          --------------  -----   \n",
      " 0   DISCHARGED SPEED OF RESIN Collect Result_Fill1  40506 non-null  float64 \n",
      " 1   Head Purge Position Z Collect Result_Fill1      40506 non-null  category\n",
      " 2   head_normal_vector_stage1_Fill1                 40506 non-null  float64 \n",
      " 3   volume_time_multip_avg_Fill1                    40506 non-null  float64 \n",
      " 4   time_ratio_Fill1                                40506 non-null  float64 \n",
      " 5   target                                          40506 non-null  object  \n",
      " 6   Equipment_same_num                              40506 non-null  category\n",
      " 7   Production_Qty                                  40506 non-null  category\n",
      " 8   model_receip_encoded                            40506 non-null  category\n",
      " 9   workorder_receip_encoded                        40506 non-null  category\n",
      "dtypes: category(5), float64(4), object(1)\n",
      "memory usage: 1.7+ MB\n"
     ]
    }
   ],
   "source": [
    "df_train_fill1.info()"
   ]
  },
  {
   "cell_type": "code",
   "execution_count": 26,
   "id": "62004cac-e496-4063-995c-1a1781b7c5df",
   "metadata": {},
   "outputs": [
    {
     "name": "stdout",
     "output_type": "stream",
     "text": [
      "<class 'pandas.core.frame.DataFrame'>\n",
      "RangeIndex: 17361 entries, 0 to 17360\n",
      "Data columns (total 11 columns):\n",
      " #   Column                                          Non-Null Count  Dtype   \n",
      "---  ------                                          --------------  -----   \n",
      " 0   DISCHARGED SPEED OF RESIN Collect Result_Fill1  17361 non-null  float64 \n",
      " 1   Head Purge Position Z Collect Result_Fill1      17361 non-null  category\n",
      " 2   head_normal_vector_stage1_Fill1                 17361 non-null  float64 \n",
      " 3   volume_time_multip_avg_Fill1                    17361 non-null  float64 \n",
      " 4   time_ratio_Fill1                                17361 non-null  float64 \n",
      " 5   Set ID                                          17361 non-null  object  \n",
      " 6   target                                          0 non-null      float64 \n",
      " 7   Equipment_same_num                              17361 non-null  category\n",
      " 8   Production_Qty                                  17361 non-null  category\n",
      " 9   model_receip_encoded                            17361 non-null  category\n",
      " 10  workorder_receip_encoded                        17361 non-null  category\n",
      "dtypes: category(5), float64(5), object(1)\n",
      "memory usage: 901.1+ KB\n"
     ]
    }
   ],
   "source": [
    "df_test_fill1.info()"
   ]
  },
  {
   "cell_type": "markdown",
   "id": "8cd1ea8c-ee81-4d12-b2ca-929bb7f2e557",
   "metadata": {},
   "source": [
    "### fill2"
   ]
  },
  {
   "cell_type": "code",
   "execution_count": 27,
   "id": "e5672c1b-3ac4-46de-bbd3-62dd7b7952f0",
   "metadata": {},
   "outputs": [
    {
     "name": "stdout",
     "output_type": "stream",
     "text": [
      "<Fill2 공정 관련 변수>\n",
      "CURE SPEED Collect Result_Fill2\n",
      "CURE STANDBY POSITION Z Collect Result_Fill2\n",
      "Head Purge Position Z Collect Result_Fill2\n",
      "head_normal_vector_stage1_Fill2\n",
      "head_normal_vector_stage2_Fill2\n",
      "head_normal_vector_stage3_Fill2\n",
      "cure_end_position_XZ_Fill2\n",
      "cure_start_position_XZ_Fill2\n",
      "time_ratio_Fill2\n"
     ]
    }
   ],
   "source": [
    "# 열 이름 필터링\n",
    "Process_Desc_col = train_data.filter(like='_Fill2').columns\n",
    "\n",
    "# 필터링된 열 이름 출력\n",
    "print(\"<Fill2 공정 관련 변수>\")\n",
    "for col in Process_Desc_col:\n",
    "    print(col)"
   ]
  },
  {
   "cell_type": "code",
   "execution_count": 28,
   "id": "0352a067-c024-4cb3-a400-72caad5c1d29",
   "metadata": {},
   "outputs": [],
   "source": [
    "variables = [\n",
    "    \"CURE SPEED Collect Result_Fill2\",\n",
    "    \"CURE STANDBY POSITION Z Collect Result_Fill2\",\n",
    "    \"Head Purge Position Z Collect Result_Fill2\",\n",
    "    \"head_normal_vector_stage1_Fill2\",\n",
    "    #\"head_normal_vector_stage2_Fill2\",\n",
    "    #\"head_normal_vector_stage3_Fill2\",\n",
    "    \"cure_end_position_XZ_Fill2\",\n",
    "    \"cure_start_position_XZ_Fill2\",\n",
    "    \"time_ratio_Fill2\"\n",
    "]\n",
    "\n",
    "# 변수들로만 이루어진 DataFrame 생성\n",
    "filtered_data = train_data[variables]"
   ]
  },
  {
   "cell_type": "code",
   "execution_count": 29,
   "id": "b1935f8d-97ce-42c5-aeec-0c75eef74f7f",
   "metadata": {},
   "outputs": [
    {
     "name": "stdout",
     "output_type": "stream",
     "text": [
      "                                     Variable 1  \\\n",
      "0  CURE STANDBY POSITION Z Collect Result_Fill2   \n",
      "1                  cure_start_position_XZ_Fill2   \n",
      "\n",
      "                                     Variable 2  Correlation  \n",
      "0                  cure_start_position_XZ_Fill2     0.846498  \n",
      "1  CURE STANDBY POSITION Z Collect Result_Fill2     0.846498  \n"
     ]
    }
   ],
   "source": [
    "# 상관계수 행렬 계산\n",
    "correlation_matrix = filtered_data.corr()\n",
    "\n",
    "# 자기자신을 제외하고 특정 값 이상인 조합 찾기\n",
    "strong_correlations = correlation_matrix[(correlation_matrix >= 0.8) & (correlation_matrix != 1)]\n",
    "\n",
    "# 리스트로 변환\n",
    "strong_correlations_pairs = strong_correlations.stack().reset_index()\n",
    "strong_correlations_pairs.columns = ['Variable 1', 'Variable 2', 'Correlation']\n",
    "\n",
    "# 결과 출력\n",
    "strong_correlations_pairs = strong_correlations_pairs[strong_correlations_pairs['Correlation'] >= 0.7]\n",
    "print(strong_correlations_pairs)"
   ]
  },
  {
   "cell_type": "code",
   "execution_count": 30,
   "id": "889ea870-1d9f-4f13-835d-7b4ce704b9fa",
   "metadata": {},
   "outputs": [],
   "source": [
    "# 드랍할 열 목록\n",
    "columns_to_drop = [\n",
    "    \"head_normal_vector_stage2_Fill2\",\n",
    "    \"head_normal_vector_stage3_Fill2\",\n",
    "]\n",
    "\n",
    "# 열 삭제\n",
    "train_data.drop(columns=columns_to_drop, inplace=True, errors='ignore')\n",
    "test_data.drop(columns=columns_to_drop, inplace=True, errors='ignore')"
   ]
  },
  {
   "cell_type": "code",
   "execution_count": 31,
   "id": "c381cd61-3bfc-4d6f-a91e-42235ca87673",
   "metadata": {},
   "outputs": [],
   "source": [
    "### fill2 데이터셋\n",
    "# 열 이름 필터링 후 공통 변수와 결합\n",
    "Process_Desc_col = train_data.filter(like='_Fill2').columns\n",
    "\n",
    "# train\n",
    "final_columns_train = list(Process_Desc_col) + same_variables_train\n",
    "df_train_fill2 = train_data[final_columns_train]\n",
    "\n",
    "# test \n",
    "final_columns_test = list(Process_Desc_col) + same_variables_test\n",
    "df_test_fill2 = test_data[final_columns_test]"
   ]
  },
  {
   "cell_type": "code",
   "execution_count": 32,
   "id": "847bb227-8c35-4348-89b3-680bca7189cb",
   "metadata": {},
   "outputs": [
    {
     "name": "stderr",
     "output_type": "stream",
     "text": [
      "/var/folders/c6/kvlszyfj2q9_tv_8pb0y40qm0000gn/T/ipykernel_30821/2475869899.py:10: SettingWithCopyWarning: \n",
      "A value is trying to be set on a copy of a slice from a DataFrame.\n",
      "Try using .loc[row_indexer,col_indexer] = value instead\n",
      "\n",
      "See the caveats in the documentation: https://pandas.pydata.org/pandas-docs/stable/user_guide/indexing.html#returning-a-view-versus-a-copy\n",
      "  df_train_fill2[categories] = df_train_fill2[categories].astype(str).astype('category')\n",
      "/var/folders/c6/kvlszyfj2q9_tv_8pb0y40qm0000gn/T/ipykernel_30821/2475869899.py:11: SettingWithCopyWarning: \n",
      "A value is trying to be set on a copy of a slice from a DataFrame.\n",
      "Try using .loc[row_indexer,col_indexer] = value instead\n",
      "\n",
      "See the caveats in the documentation: https://pandas.pydata.org/pandas-docs/stable/user_guide/indexing.html#returning-a-view-versus-a-copy\n",
      "  df_test_fill2[categories] = df_test_fill2[categories].astype(str).astype('category')\n"
     ]
    }
   ],
   "source": [
    "# 변수 리스트\n",
    "categories = [\n",
    "    'CURE STANDBY POSITION Z Collect Result_Fill2',\n",
    "    'Head Purge Position Z Collect Result_Fill2',\n",
    "    'cure_end_position_XZ_Fill2',\n",
    "    'cure_start_position_XZ_Fill2'\n",
    "]\n",
    "\n",
    "# 범주형으로 변환\n",
    "df_train_fill2[categories] = df_train_fill2[categories].astype(str).astype('category')\n",
    "df_test_fill2[categories] = df_test_fill2[categories].astype(str).astype('category')"
   ]
  },
  {
   "cell_type": "code",
   "execution_count": 33,
   "id": "2e3bdec6-671e-4f13-8baa-5e56bb308a07",
   "metadata": {},
   "outputs": [
    {
     "name": "stdout",
     "output_type": "stream",
     "text": [
      "<class 'pandas.core.frame.DataFrame'>\n",
      "RangeIndex: 40506 entries, 0 to 40505\n",
      "Data columns (total 12 columns):\n",
      " #   Column                                        Non-Null Count  Dtype   \n",
      "---  ------                                        --------------  -----   \n",
      " 0   CURE SPEED Collect Result_Fill2               40506 non-null  int64   \n",
      " 1   CURE STANDBY POSITION Z Collect Result_Fill2  40506 non-null  category\n",
      " 2   Head Purge Position Z Collect Result_Fill2    40506 non-null  category\n",
      " 3   head_normal_vector_stage1_Fill2               40506 non-null  float64 \n",
      " 4   cure_end_position_XZ_Fill2                    40506 non-null  category\n",
      " 5   cure_start_position_XZ_Fill2                  40506 non-null  category\n",
      " 6   time_ratio_Fill2                              40506 non-null  float64 \n",
      " 7   target                                        40506 non-null  object  \n",
      " 8   Equipment_same_num                            40506 non-null  category\n",
      " 9   Production_Qty                                40506 non-null  category\n",
      " 10  model_receip_encoded                          40506 non-null  category\n",
      " 11  workorder_receip_encoded                      40506 non-null  category\n",
      "dtypes: category(8), float64(2), int64(1), object(1)\n",
      "memory usage: 1.5+ MB\n"
     ]
    }
   ],
   "source": [
    "df_train_fill2.info()"
   ]
  },
  {
   "cell_type": "code",
   "execution_count": 34,
   "id": "34d517df-6031-4fba-a2b1-f1857421bd1e",
   "metadata": {},
   "outputs": [
    {
     "name": "stdout",
     "output_type": "stream",
     "text": [
      "<class 'pandas.core.frame.DataFrame'>\n",
      "RangeIndex: 17361 entries, 0 to 17360\n",
      "Data columns (total 13 columns):\n",
      " #   Column                                        Non-Null Count  Dtype   \n",
      "---  ------                                        --------------  -----   \n",
      " 0   CURE SPEED Collect Result_Fill2               17361 non-null  int64   \n",
      " 1   CURE STANDBY POSITION Z Collect Result_Fill2  17361 non-null  category\n",
      " 2   Head Purge Position Z Collect Result_Fill2    17361 non-null  category\n",
      " 3   head_normal_vector_stage1_Fill2               17361 non-null  float64 \n",
      " 4   cure_end_position_XZ_Fill2                    17361 non-null  category\n",
      " 5   cure_start_position_XZ_Fill2                  17361 non-null  category\n",
      " 6   time_ratio_Fill2                              17361 non-null  float64 \n",
      " 7   Set ID                                        17361 non-null  object  \n",
      " 8   target                                        0 non-null      float64 \n",
      " 9   Equipment_same_num                            17361 non-null  category\n",
      " 10  Production_Qty                                17361 non-null  category\n",
      " 11  model_receip_encoded                          17361 non-null  category\n",
      " 12  workorder_receip_encoded                      17361 non-null  category\n",
      "dtypes: category(8), float64(3), int64(1), object(1)\n",
      "memory usage: 816.9+ KB\n"
     ]
    }
   ],
   "source": [
    "df_test_fill2.info()"
   ]
  },
  {
   "cell_type": "markdown",
   "id": "ead06214-2d80-42f0-80c5-7d50603a0661",
   "metadata": {},
   "source": [
    "### autoclave"
   ]
  },
  {
   "cell_type": "code",
   "execution_count": 35,
   "id": "e9cfe87e-8dd8-4313-9e96-6f18af070e73",
   "metadata": {},
   "outputs": [
    {
     "name": "stdout",
     "output_type": "stream",
     "text": [
      "<AutoClave 공정 관련 변수>\n",
      "Chamber Temp. Collect Result_AutoClave\n",
      "avg_pressure_time_AutoClave\n",
      "time_ratio_AutoClave\n"
     ]
    }
   ],
   "source": [
    "# 열 이름 필터링\n",
    "Process_Desc_col = train_data.filter(like='_AutoClave').columns\n",
    "\n",
    "# 필터링된 열 이름 출력\n",
    "print(\"<AutoClave 공정 관련 변수>\")\n",
    "for col in Process_Desc_col:\n",
    "    print(col)"
   ]
  },
  {
   "cell_type": "code",
   "execution_count": 36,
   "id": "048b02af-95e3-4856-bb35-ad3d6bd6a66a",
   "metadata": {},
   "outputs": [],
   "source": [
    "variables = [\n",
    "    \"Chamber Temp. Collect Result_AutoClave\",\n",
    "    \"avg_pressure_time_AutoClave\",\n",
    "    \"time_ratio_AutoClave\",\n",
    "]\n",
    "\n",
    "# 변수들로만 이루어진 DataFrame 생성\n",
    "filtered_data = train_data[variables]"
   ]
  },
  {
   "cell_type": "code",
   "execution_count": 37,
   "id": "10b4f1ee-1c09-4d00-8b31-577072502351",
   "metadata": {},
   "outputs": [
    {
     "name": "stdout",
     "output_type": "stream",
     "text": [
      "Empty DataFrame\n",
      "Columns: [Variable 1, Variable 2, Correlation]\n",
      "Index: []\n"
     ]
    }
   ],
   "source": [
    "# 상관계수 행렬 계산\n",
    "correlation_matrix = filtered_data.corr()\n",
    "\n",
    "# 자기자신을 제외하고 특정 값 이상인 조합 찾기\n",
    "strong_correlations = correlation_matrix[(correlation_matrix >= 0.8) & (correlation_matrix != 1)]\n",
    "\n",
    "# 리스트로 변환\n",
    "strong_correlations_pairs = strong_correlations.stack().reset_index()\n",
    "strong_correlations_pairs.columns = ['Variable 1', 'Variable 2', 'Correlation']\n",
    "\n",
    "# 결과 출력\n",
    "strong_correlations_pairs = strong_correlations_pairs[strong_correlations_pairs['Correlation'] >= 0.7]\n",
    "print(strong_correlations_pairs)"
   ]
  },
  {
   "cell_type": "code",
   "execution_count": 38,
   "id": "4c0e1ba6-0cee-4389-938d-c8e0c2f66ab8",
   "metadata": {},
   "outputs": [],
   "source": [
    "### autoclave 데이터셋\n",
    "# 열 이름 필터링 후 공통 변수와 결합\n",
    "Process_Desc_col = train_data.filter(like='_AutoClave').columns\n",
    "\n",
    "# train\n",
    "final_columns_train = list(Process_Desc_col) + same_variables_train\n",
    "df_train_autoclave = train_data[final_columns_train]\n",
    "\n",
    "# test \n",
    "final_columns_test = list(Process_Desc_col) + same_variables_test\n",
    "df_test_autoclave = test_data[final_columns_test]"
   ]
  },
  {
   "cell_type": "code",
   "execution_count": 39,
   "id": "cb63feb0-4f7e-42c0-891e-634994918edc",
   "metadata": {},
   "outputs": [
    {
     "name": "stdout",
     "output_type": "stream",
     "text": [
      "<class 'pandas.core.frame.DataFrame'>\n",
      "RangeIndex: 40506 entries, 0 to 40505\n",
      "Data columns (total 8 columns):\n",
      " #   Column                                  Non-Null Count  Dtype   \n",
      "---  ------                                  --------------  -----   \n",
      " 0   Chamber Temp. Collect Result_AutoClave  40506 non-null  int64   \n",
      " 1   avg_pressure_time_AutoClave             40506 non-null  float64 \n",
      " 2   time_ratio_AutoClave                    40506 non-null  float64 \n",
      " 3   target                                  40506 non-null  object  \n",
      " 4   Equipment_same_num                      40506 non-null  category\n",
      " 5   Production_Qty                          40506 non-null  category\n",
      " 6   model_receip_encoded                    40506 non-null  category\n",
      " 7   workorder_receip_encoded                40506 non-null  category\n",
      "dtypes: category(4), float64(2), int64(1), object(1)\n",
      "memory usage: 1.4+ MB\n"
     ]
    }
   ],
   "source": [
    "df_train_autoclave.info()"
   ]
  },
  {
   "cell_type": "code",
   "execution_count": 40,
   "id": "134dd62a-00b6-4cf7-84e7-a868669198d7",
   "metadata": {},
   "outputs": [
    {
     "name": "stdout",
     "output_type": "stream",
     "text": [
      "<class 'pandas.core.frame.DataFrame'>\n",
      "RangeIndex: 17361 entries, 0 to 17360\n",
      "Data columns (total 9 columns):\n",
      " #   Column                                  Non-Null Count  Dtype   \n",
      "---  ------                                  --------------  -----   \n",
      " 0   Chamber Temp. Collect Result_AutoClave  17361 non-null  int64   \n",
      " 1   avg_pressure_time_AutoClave             17361 non-null  float64 \n",
      " 2   time_ratio_AutoClave                    17361 non-null  float64 \n",
      " 3   Set ID                                  17361 non-null  object  \n",
      " 4   target                                  0 non-null      float64 \n",
      " 5   Equipment_same_num                      17361 non-null  category\n",
      " 6   Production_Qty                          17361 non-null  category\n",
      " 7   model_receip_encoded                    17361 non-null  category\n",
      " 8   workorder_receip_encoded                17361 non-null  category\n",
      "dtypes: category(4), float64(3), int64(1), object(1)\n",
      "memory usage: 748.3+ KB\n"
     ]
    }
   ],
   "source": [
    "df_test_autoclave.info()"
   ]
  },
  {
   "cell_type": "markdown",
   "id": "21c6ee9d-1fd4-4b77-82b3-f7541cced071",
   "metadata": {},
   "source": [
    "### modeling"
   ]
  },
  {
   "cell_type": "code",
   "execution_count": 41,
   "id": "6ab8bd96-3377-4b33-b9f1-fef5a196b159",
   "metadata": {},
   "outputs": [],
   "source": [
    "#pip install catboost"
   ]
  },
  {
   "cell_type": "code",
   "execution_count": 102,
   "id": "9a08968d-eea4-4b5d-a01e-af4d50d562b4",
   "metadata": {},
   "outputs": [],
   "source": [
    "# category 타입의 변수를 찾아 cat_features 리스트를 반환하는 함수\n",
    "def get_cat_features(df):\n",
    "    \"\"\"\n",
    "    Parameters:\n",
    "    df (pd.DataFrame): 입력 DataFrame\n",
    "    \n",
    "    Returns:\n",
    "    list: category 타입의 변수 이름 리스트\n",
    "    \"\"\"\n",
    "    cat_features = df.select_dtypes(include=['category']).columns.tolist()\n",
    "    return cat_features"
   ]
  },
  {
   "cell_type": "code",
   "execution_count": 103,
   "id": "f5ed965f-6595-4579-b348-3d4634caaf7e",
   "metadata": {},
   "outputs": [],
   "source": [
    "from catboost import CatBoostClassifier"
   ]
  },
  {
   "cell_type": "code",
   "execution_count": 104,
   "id": "75bed72f-7e7a-4bc8-9423-a557021040de",
   "metadata": {},
   "outputs": [],
   "source": [
    "### 모델 정의\n",
    "class_weights = {'Normal': 1, 'AbNormal': 6}  # 클래스의 비율에 따라 가중치 설정\n",
    "\n",
    "model_Dam = CatBoostClassifier(iterations=1000, learning_rate=0.1, class_weights=class_weights, verbose = False)\n",
    "model_Fill1 = CatBoostClassifier(iterations=1000, learning_rate=0.1, class_weights=class_weights, verbose = False)\n",
    "model_Fill2 = CatBoostClassifier(iterations=1000, learning_rate=0.1, class_weights=class_weights, verbose = False)\n",
    "model_AutoClave = CatBoostClassifier(iterations=1000, learning_rate=0.1, class_weights=class_weights, verbose = False)"
   ]
  },
  {
   "cell_type": "code",
   "execution_count": 105,
   "id": "0ee0f5ef-d40e-453e-a69a-e85e0b16f3f8",
   "metadata": {},
   "outputs": [],
   "source": [
    "# 제출 데이터 읽어오기\n",
    "df_sub = pd.read_csv(\"submission.csv\")"
   ]
  },
  {
   "cell_type": "markdown",
   "id": "ad57ce6f-c6d3-457b-9231-2051739316a8",
   "metadata": {},
   "source": [
    "##### dam"
   ]
  },
  {
   "cell_type": "code",
   "execution_count": 106,
   "id": "339c22de-0e2c-479a-8ff0-658fb155194e",
   "metadata": {},
   "outputs": [
    {
     "data": {
      "text/plain": [
       "<catboost.core.CatBoostClassifier at 0x166fb9710>"
      ]
     },
     "execution_count": 106,
     "metadata": {},
     "output_type": "execute_result"
    }
   ],
   "source": [
    "### 모델 학습\n",
    "# 타깃값 분리\n",
    "y_train = df_train_dam['target']\n",
    "x_train = df_train_dam.drop(columns='target')\n",
    "\n",
    "# 범주형 변수 리스트 생성\n",
    "cat_features_list = get_cat_features(df_train_dam)\n",
    "\n",
    "# 랜덤 포레스트 학습\n",
    "model_Dam.fit(x_train, y_train, cat_features=cat_features_list)"
   ]
  },
  {
   "cell_type": "code",
   "execution_count": 107,
   "id": "4f8f7a28-2217-4044-9564-c825f6ea94a8",
   "metadata": {},
   "outputs": [
    {
     "data": {
      "text/plain": [
       "array(['Normal', 'Normal', 'Normal', ..., 'Normal', 'Normal', 'Normal'],\n",
       "      dtype=object)"
      ]
     },
     "execution_count": 107,
     "metadata": {},
     "output_type": "execute_result"
    }
   ],
   "source": [
    "### 모델 예측\n",
    "# 'Set ID'와 'target' 컬럼 분리\n",
    "set_id = df_test_dam['Set ID']  \n",
    "target = df_test_dam['target']   \n",
    "\n",
    "x_test = df_test_dam.drop(columns=['Set ID', 'target'])\n",
    "\n",
    "test_pred = model_Dam.predict(x_test)\n",
    "test_pred"
   ]
  },
  {
   "cell_type": "code",
   "execution_count": 108,
   "id": "ca47e058-0033-4317-be05-9c88e6e205c8",
   "metadata": {},
   "outputs": [],
   "source": [
    "### 예측 컬럼 생성\n",
    "df_sub[\"target_dam\"] = test_pred"
   ]
  },
  {
   "cell_type": "code",
   "execution_count": 109,
   "id": "ecdac00a-2f0d-4cf5-9221-49c35043772a",
   "metadata": {},
   "outputs": [
    {
     "data": {
      "text/plain": [
       "target_dam\n",
       "Normal      17048\n",
       "AbNormal      313\n",
       "Name: count, dtype: int64"
      ]
     },
     "execution_count": 109,
     "metadata": {},
     "output_type": "execute_result"
    }
   ],
   "source": [
    "df_sub[\"target_dam\"].value_counts()"
   ]
  },
  {
   "cell_type": "markdown",
   "id": "ce0591c1-4617-4052-841c-d107a2a41664",
   "metadata": {},
   "source": [
    "##### fill1"
   ]
  },
  {
   "cell_type": "code",
   "execution_count": 110,
   "id": "76f49f55-6b41-49fc-a437-731264bb6747",
   "metadata": {},
   "outputs": [
    {
     "data": {
      "text/plain": [
       "<catboost.core.CatBoostClassifier at 0x165708890>"
      ]
     },
     "execution_count": 110,
     "metadata": {},
     "output_type": "execute_result"
    }
   ],
   "source": [
    "### 모델 학습\n",
    "# 타깃값 분리\n",
    "y_train = df_train_fill1['target']\n",
    "x_train = df_train_fill1.drop(columns='target')\n",
    "\n",
    "# 범주형 변수 리스트 생성\n",
    "cat_features_list = get_cat_features(df_train_fill1)\n",
    "\n",
    "# 랜덤 포레스트 학습\n",
    "model_Fill1.fit(x_train, y_train, cat_features=cat_features_list)"
   ]
  },
  {
   "cell_type": "code",
   "execution_count": 111,
   "id": "d1c400a7-c598-4257-9de7-a82cb9d10bdb",
   "metadata": {},
   "outputs": [
    {
     "data": {
      "text/plain": [
       "array(['Normal', 'Normal', 'Normal', ..., 'Normal', 'AbNormal', 'Normal'],\n",
       "      dtype=object)"
      ]
     },
     "execution_count": 111,
     "metadata": {},
     "output_type": "execute_result"
    }
   ],
   "source": [
    "### 모델 예측\n",
    "# 'Set ID'와 'target' 컬럼 분리\n",
    "set_id = df_test_fill1['Set ID']  \n",
    "target = df_test_fill1['target']   \n",
    "\n",
    "x_test = df_test_fill1.drop(columns=['Set ID', 'target'])\n",
    "\n",
    "test_pred = model_Fill1.predict(x_test)\n",
    "test_pred"
   ]
  },
  {
   "cell_type": "code",
   "execution_count": 112,
   "id": "c9cf8584-edcc-4392-9f6a-2e2b926cd9ed",
   "metadata": {},
   "outputs": [],
   "source": [
    "### 예측 컬럼 생성\n",
    "df_sub[\"target_fill1\"] = test_pred"
   ]
  },
  {
   "cell_type": "code",
   "execution_count": 113,
   "id": "a09ed3f0-05ff-414d-9fdb-94daf52aead4",
   "metadata": {},
   "outputs": [
    {
     "data": {
      "text/plain": [
       "target_fill1\n",
       "Normal      16916\n",
       "AbNormal      445\n",
       "Name: count, dtype: int64"
      ]
     },
     "execution_count": 113,
     "metadata": {},
     "output_type": "execute_result"
    }
   ],
   "source": [
    "df_sub[\"target_fill1\"].value_counts()"
   ]
  },
  {
   "cell_type": "markdown",
   "id": "9ba9c5e1-ae2a-494d-9399-76ba8763bcef",
   "metadata": {},
   "source": [
    "##### fill2"
   ]
  },
  {
   "cell_type": "code",
   "execution_count": 114,
   "id": "0dd32c41-b0c6-49aa-90aa-5665ce915382",
   "metadata": {},
   "outputs": [
    {
     "data": {
      "text/plain": [
       "<catboost.core.CatBoostClassifier at 0x1631d8f50>"
      ]
     },
     "execution_count": 114,
     "metadata": {},
     "output_type": "execute_result"
    }
   ],
   "source": [
    "### 모델 학습\n",
    "# 타깃값 분리\n",
    "y_train = df_train_fill2['target']\n",
    "x_train = df_train_fill2.drop(columns='target')\n",
    "\n",
    "# 범주형 변수 리스트 생성\n",
    "cat_features_list = get_cat_features(df_train_fill2)\n",
    "\n",
    "# 랜덤 포레스트 학습\n",
    "model_Fill2.fit(x_train, y_train, cat_features=cat_features_list)"
   ]
  },
  {
   "cell_type": "code",
   "execution_count": 115,
   "id": "2b4e25a5-8561-45b3-aa3f-dd68bffae629",
   "metadata": {},
   "outputs": [
    {
     "data": {
      "text/plain": [
       "array(['Normal', 'Normal', 'Normal', ..., 'Normal', 'Normal', 'Normal'],\n",
       "      dtype=object)"
      ]
     },
     "execution_count": 115,
     "metadata": {},
     "output_type": "execute_result"
    }
   ],
   "source": [
    "### 모델 예측\n",
    "# 'Set ID'와 'target' 컬럼 분리\n",
    "set_id = df_test_fill2['Set ID']  \n",
    "target = df_test_fill2['target']   \n",
    "\n",
    "x_test = df_test_fill2.drop(columns=['Set ID', 'target'])\n",
    "\n",
    "test_pred = model_Fill2.predict(x_test)\n",
    "test_pred"
   ]
  },
  {
   "cell_type": "code",
   "execution_count": 116,
   "id": "5f4658f1-817a-4c57-9df9-6b6127c784ff",
   "metadata": {},
   "outputs": [],
   "source": [
    "### 예측 컬럼 생성\n",
    "df_sub[\"target_fill2\"] = test_pred"
   ]
  },
  {
   "cell_type": "code",
   "execution_count": 117,
   "id": "b6f8001e-5fc9-47b4-bec1-4fda3b7b20f6",
   "metadata": {},
   "outputs": [
    {
     "data": {
      "text/plain": [
       "target_fill2\n",
       "Normal      17005\n",
       "AbNormal      356\n",
       "Name: count, dtype: int64"
      ]
     },
     "execution_count": 117,
     "metadata": {},
     "output_type": "execute_result"
    }
   ],
   "source": [
    "df_sub[\"target_fill2\"].value_counts()"
   ]
  },
  {
   "cell_type": "markdown",
   "id": "9de0fd7b-5882-4c9f-bab2-961938f144e7",
   "metadata": {},
   "source": [
    "##### autoclave"
   ]
  },
  {
   "cell_type": "code",
   "execution_count": 118,
   "id": "49688bcc-152f-4eed-ac87-57b9a7044397",
   "metadata": {},
   "outputs": [
    {
     "data": {
      "text/plain": [
       "<catboost.core.CatBoostClassifier at 0x16365c050>"
      ]
     },
     "execution_count": 118,
     "metadata": {},
     "output_type": "execute_result"
    }
   ],
   "source": [
    "### 모델 학습\n",
    "# 타깃값 분리\n",
    "y_train = df_train_autoclave['target']\n",
    "x_train = df_train_autoclave.drop(columns='target')\n",
    "\n",
    "# 범주형 변수 리스트 생성\n",
    "cat_features_list = get_cat_features(df_train_autoclave)\n",
    "\n",
    "# 랜덤 포레스트 학습\n",
    "model_AutoClave.fit(x_train, y_train, cat_features=cat_features_list)"
   ]
  },
  {
   "cell_type": "code",
   "execution_count": 119,
   "id": "a3b86ad0-b45d-4e9d-a83e-05d708a6c045",
   "metadata": {},
   "outputs": [
    {
     "data": {
      "text/plain": [
       "array(['Normal', 'Normal', 'Normal', ..., 'Normal', 'Normal', 'Normal'],\n",
       "      dtype=object)"
      ]
     },
     "execution_count": 119,
     "metadata": {},
     "output_type": "execute_result"
    }
   ],
   "source": [
    "### 모델 예측\n",
    "# 'Set ID'와 'target' 컬럼 분리\n",
    "set_id = df_test_autoclave['Set ID']  \n",
    "target = df_test_autoclave['target']   \n",
    "\n",
    "x_test = df_test_autoclave.drop(columns=['Set ID', 'target'])\n",
    "\n",
    "test_pred = model_AutoClave.predict(x_test)\n",
    "test_pred"
   ]
  },
  {
   "cell_type": "code",
   "execution_count": 120,
   "id": "9012f481-c6d5-49e5-bf98-7c1f7e2d5f3d",
   "metadata": {},
   "outputs": [],
   "source": [
    "### 예측 컬럼 생성\n",
    "df_sub[\"target_autoclave\"] = test_pred"
   ]
  },
  {
   "cell_type": "code",
   "execution_count": 121,
   "id": "ad42b257-1f67-4309-a44b-5ce06b6c248a",
   "metadata": {},
   "outputs": [
    {
     "data": {
      "text/plain": [
       "target_autoclave\n",
       "Normal      16863\n",
       "AbNormal      498\n",
       "Name: count, dtype: int64"
      ]
     },
     "execution_count": 121,
     "metadata": {},
     "output_type": "execute_result"
    }
   ],
   "source": [
    "df_sub[\"target_autoclave\"].value_counts()"
   ]
  },
  {
   "cell_type": "markdown",
   "id": "4aece470-5220-4ca6-b2ab-226b92ce6315",
   "metadata": {},
   "source": [
    "##### result"
   ]
  },
  {
   "cell_type": "code",
   "execution_count": 124,
   "id": "6efe3ebe-7b24-4954-bd4b-8fe96ba3551a",
   "metadata": {},
   "outputs": [],
   "source": [
    "### abnormal 입력\n",
    "df_sub['target'] = df_sub[['target_dam', 'target_fill1', 'target_fill2', 'target_autoclave']].apply(lambda row: 'AbNormal' \n",
    "                                                                                                    if (row == 'AbNormal').sum() >= 1\n",
    "                                                                                                    else 'Normal', axis=1)"
   ]
  },
  {
   "cell_type": "code",
   "execution_count": 125,
   "id": "a3ae0c4a-29f0-4762-95ee-691000ba56c6",
   "metadata": {},
   "outputs": [
    {
     "data": {
      "text/plain": [
       "target\n",
       "Normal      16231\n",
       "AbNormal     1130\n",
       "Name: count, dtype: int64"
      ]
     },
     "execution_count": 125,
     "metadata": {},
     "output_type": "execute_result"
    }
   ],
   "source": [
    "df_sub['target'].value_counts()"
   ]
  },
  {
   "cell_type": "code",
   "execution_count": 126,
   "id": "aa5f62a5-e7fc-40b1-bc37-9923d1906a5e",
   "metadata": {},
   "outputs": [],
   "source": [
    "# 삭제할 열 목록\n",
    "columns_to_drop = ['target_dam', 'target_fill1', 'target_fill2', 'target_autoclave']\n",
    "\n",
    "# 열 삭제\n",
    "df_sub.drop(columns=columns_to_drop, inplace=True, errors='ignore')\n",
    "df_sub.drop(columns=columns_to_drop, inplace=True, errors='ignore')"
   ]
  },
  {
   "cell_type": "code",
   "execution_count": 127,
   "id": "1993b1b9-e824-4e57-bff1-f899197acc88",
   "metadata": {},
   "outputs": [],
   "source": [
    "# 제출 파일 저장\n",
    "df_sub.to_csv(\"submission.csv\", index=False)"
   ]
  },
  {
   "cell_type": "code",
   "execution_count": 128,
   "id": "d51c93de-7704-46ee-b158-c76d5d53e349",
   "metadata": {},
   "outputs": [],
   "source": [
    "# 제출 파일 저장\n",
    "df_sub.to_csv(\"0814_catboost_sep_submission4.csv\", index=False)"
   ]
  },
  {
   "cell_type": "code",
   "execution_count": 129,
   "id": "c4d69d31-3c9b-40d9-a463-2b46cd4ca9c6",
   "metadata": {},
   "outputs": [
    {
     "data": {
      "text/plain": [
       "\"\\nsend files ['code.ipynb', 'submission.csv'] for grade...\\nwaiting result...\\ndone!\\n\\nScore: None\\nDuration: 2.511 seconds\\n=== Message ===\\n작성하신 답안 제출이 완료되었습니다.\\nPublic Score : 0.1354723707664884\\n\""
      ]
     },
     "execution_count": 129,
     "metadata": {},
     "output_type": "execute_result"
    }
   ],
   "source": [
    "# auto_class_weights 파라미터 사용 X\n",
    "'''\n",
    "send files ['code.ipynb', 'submission.csv'] for grade...\n",
    "waiting result...\n",
    "done!\n",
    "\n",
    "Score: None\n",
    "Duration: 2.511 seconds\n",
    "=== Message ===\n",
    "작성하신 답안 제출이 완료되었습니다.\n",
    "Public Score : 0.1354723707664884\n",
    "'''"
   ]
  },
  {
   "cell_type": "code",
   "execution_count": 130,
   "id": "71477742-6cda-4b62-91bb-67ec9d5439c9",
   "metadata": {},
   "outputs": [
    {
     "data": {
      "text/plain": [
       "\"\\nsend files ['code.ipynb', 'submission.csv'] for grade...\\nwaiting result...\\ndone!\\n\\nScore: None\\nDuration: 1.941 seconds\\n=== Message ===\\n작성하신 답안 제출이 완료되었습니다.\\nPublic Score : 0.17589576547231273\\n\""
      ]
     },
     "execution_count": 130,
     "metadata": {},
     "output_type": "execute_result"
    }
   ],
   "source": [
    "# auto_class_weights 파라미터 사용\n",
    "# 0814_catboost_sep_submission2.csv\n",
    "'''\n",
    "send files ['code.ipynb', 'submission.csv'] for grade...\n",
    "waiting result...\n",
    "done!\n",
    "\n",
    "Score: None\n",
    "Duration: 1.941 seconds\n",
    "=== Message ===\n",
    "작성하신 답안 제출이 완료되었습니다.\n",
    "Public Score : 0.17589576547231273\n",
    "'''"
   ]
  },
  {
   "cell_type": "code",
   "execution_count": 132,
   "id": "48badb3d-9939-4cb5-8247-403b70e7a06d",
   "metadata": {},
   "outputs": [
    {
     "data": {
      "text/plain": [
       "\"\\nsend files ['code.ipynb', 'submission.csv'] for grade...\\nwaiting result...\\ndone!\\n\\nScore: None\\nDuration: 2.780 seconds\\n=== Message ===\\n작성하신 답안 제출이 완료되었습니다.\\nPublic Score : 0.1821608040201005\\n\""
      ]
     },
     "execution_count": 132,
     "metadata": {},
     "output_type": "execute_result"
    }
   ],
   "source": [
    "# class_weight 파라미터 지정 사용 1:8\n",
    "# 0814_catboost_sep_submission3.csv\n",
    "'''\n",
    "send files ['code.ipynb', 'submission.csv'] for grade...\n",
    "waiting result...\n",
    "done!\n",
    "\n",
    "Score: None\n",
    "Duration: 2.780 seconds\n",
    "=== Message ===\n",
    "작성하신 답안 제출이 완료되었습니다.\n",
    "Public Score : 0.1821608040201005\n",
    "'''"
   ]
  },
  {
   "cell_type": "code",
   "execution_count": 133,
   "id": "4322975d-0ba4-42d0-8bc3-d6ad46da43cf",
   "metadata": {},
   "outputs": [
    {
     "data": {
      "text/plain": [
       "\"\\nsend files ['code.ipynb', 'submission.csv'] for grade...\\nwaiting result...\\ndone!\\n\\nScore: None\\nDuration: 2.920 seconds\\n=== Message ===\\n작성하신 답안 제출이 완료되었습니다.\\nPublic Score : 0.17624521072796934\\n\""
      ]
     },
     "execution_count": 133,
     "metadata": {},
     "output_type": "execute_result"
    }
   ],
   "source": [
    "# class_weight 파라미터 지정 사용 1:6\n",
    "# 0814_catboost_sep_submission4.csv\n",
    "'''\n",
    "send files ['code.ipynb', 'submission.csv'] for grade...\n",
    "waiting result...\n",
    "done!\n",
    "\n",
    "Score: None\n",
    "Duration: 2.920 seconds\n",
    "=== Message ===\n",
    "작성하신 답안 제출이 완료되었습니다.\n",
    "Public Score : 0.17624521072796934\n",
    "'''"
   ]
  },
  {
   "cell_type": "code",
   "execution_count": null,
   "id": "403cf56f-8599-474f-ba1e-f83ae1c39368",
   "metadata": {},
   "outputs": [],
   "source": []
  }
 ],
 "metadata": {
  "kernelspec": {
   "display_name": "Python 3 (ipykernel)",
   "language": "python",
   "name": "python3"
  },
  "language_info": {
   "codemirror_mode": {
    "name": "ipython",
    "version": 3
   },
   "file_extension": ".py",
   "mimetype": "text/x-python",
   "name": "python",
   "nbconvert_exporter": "python",
   "pygments_lexer": "ipython3",
   "version": "3.11.5"
  }
 },
 "nbformat": 4,
 "nbformat_minor": 5
}

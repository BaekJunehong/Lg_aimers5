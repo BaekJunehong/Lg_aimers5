{
 "cells": [
  {
   "cell_type": "markdown",
   "id": "fe01e127-6fda-491e-9623-79eef37b43e5",
   "metadata": {},
   "source": [
    "## 공정 4개 나눠서 모델링"
   ]
  },
  {
   "cell_type": "markdown",
   "id": "b68e1b5a-401d-4b4b-bf87-e104d76f3cbc",
   "metadata": {},
   "source": [
    "전처리: 0814_preprocessing_sep.ipynb"
   ]
  },
  {
   "cell_type": "code",
   "execution_count": 1,
   "id": "be646d1a-ad7e-4f7c-956e-f692d12ae2c3",
   "metadata": {},
   "outputs": [],
   "source": [
    "import os\n",
    "from pprint import pprint\n",
    "\n",
    "import numpy as np\n",
    "import pandas as pd\n",
    "from sklearn.ensemble import RandomForestClassifier\n",
    "from sklearn.metrics import (\n",
    "    accuracy_score,\n",
    "    classification_report,\n",
    "    confusion_matrix,\n",
    "    f1_score,\n",
    "    precision_score,\n",
    "    recall_score,\n",
    ")\n",
    "from sklearn.model_selection import train_test_split\n",
    "from sklearn.preprocessing import LabelEncoder\n",
    "from tqdm import tqdm\n",
    "\n",
    "import seaborn as sns\n",
    "import matplotlib as mpl\n",
    "import matplotlib.pyplot as plt \n",
    "%matplotlib inline\n",
    "import matplotlib.gridspec as gridspec\n",
    "from mpl_toolkits.mplot3d import Axes3D"
   ]
  },
  {
   "cell_type": "code",
   "execution_count": 2,
   "id": "a9c69ffb-dd1e-4495-a1b2-685dcebbd464",
   "metadata": {},
   "outputs": [],
   "source": [
    "# csv 불러오기 (0814_preprocessing_sep.ipynb에서 전처리된 데이터)\n",
    "train_data = pd.read_csv('sep_model_train_data.csv')\n",
    "test_data = pd.read_csv('sep_model_test_data.csv')"
   ]
  },
  {
   "cell_type": "code",
   "execution_count": 3,
   "id": "e58e9c06-dfce-4835-9332-f4b53adf8e9e",
   "metadata": {},
   "outputs": [],
   "source": [
    "### 총시간 대비 비율 변수\n",
    "def calculate_total_time_and_ratios(data):\n",
    "    data['total_time'] = (\n",
    "        data['Machine Tact time Collect Result_Dam'] +\n",
    "        data['Machine Tact time Collect Result_Fill1'] +\n",
    "        data['Machine Tact time Collect Result_Fill2'] +\n",
    "        data['Chamber Temp. Unit Time_AutoClave']\n",
    "    )\n",
    "    data['time_ratio_Dam'] = (data['Machine Tact time Collect Result_Dam'] / data['total_time']).round(3)\n",
    "    data['time_ratio_Fill1'] = (data['Machine Tact time Collect Result_Fill1'] / data['total_time']).round(3)\n",
    "    data['time_ratio_Fill2'] = (data['Machine Tact time Collect Result_Fill2'] / data['total_time']).round(3)\n",
    "    data['time_ratio_AutoClave'] = (data['Chamber Temp. Unit Time_AutoClave'] / data['total_time']).round(3)\n",
    "    return data\n",
    "\n",
    "# train_data와 test_data에 함수 적용\n",
    "train_data = calculate_total_time_and_ratios(train_data)\n",
    "test_data = calculate_total_time_and_ratios(test_data)"
   ]
  },
  {
   "cell_type": "code",
   "execution_count": 4,
   "id": "10365e06-d848-48ac-872f-cc1d8a74c16e",
   "metadata": {},
   "outputs": [],
   "source": [
    "# 변수 제거\n",
    "train_data.drop(columns=[\n",
    "    'total_time'\n",
    "    , 'Machine Tact time Collect Result_Dam'\n",
    "    , 'Machine Tact time Collect Result_Fill1'\n",
    "    , 'Machine Tact time Collect Result_Fill2'\n",
    "    , 'Chamber Temp. Unit Time_AutoClave'], inplace=True)\n",
    "\n",
    "test_data.drop(columns=[\n",
    "    'total_time'\n",
    "    , 'Machine Tact time Collect Result_Dam'\n",
    "    , 'Machine Tact time Collect Result_Fill1'\n",
    "    , 'Machine Tact time Collect Result_Fill2'\n",
    "    , 'Chamber Temp. Unit Time_AutoClave'], inplace=True)"
   ]
  },
  {
   "cell_type": "markdown",
   "id": "94e2511e-becd-40b8-be37-256c7933a56c",
   "metadata": {},
   "source": [
    "### 공통 변수"
   ]
  },
  {
   "cell_type": "code",
   "execution_count": 5,
   "id": "dc81ac82-3f78-4a27-9da0-ca386085c5bd",
   "metadata": {},
   "outputs": [],
   "source": [
    "variables = [\n",
    "    \"Equipment_same_num\",\n",
    "    \"PalletID\",\n",
    "    \"Production_Qty\",\n",
    "    \"model_receip_encoded\",\n",
    "    \"workorder_receip_encoded\"\n",
    "]\n",
    "\n",
    "# 변수들로만 이루어진 DataFrame 생성\n",
    "filtered_data = train_data[variables]"
   ]
  },
  {
   "cell_type": "code",
   "execution_count": 6,
   "id": "1643f625-b592-4c34-94a7-2c69c269a6f5",
   "metadata": {},
   "outputs": [
    {
     "name": "stdout",
     "output_type": "stream",
     "text": [
      "       Variable 1      Variable 2  Correlation\n",
      "0        PalletID  Production_Qty     0.944591\n",
      "1  Production_Qty        PalletID     0.944591\n"
     ]
    }
   ],
   "source": [
    "# 상관계수 행렬 계산\n",
    "correlation_matrix = filtered_data.corr()\n",
    "\n",
    "# 자기자신을 제외하고 특정 값 이상인 조합 찾기\n",
    "strong_correlations = correlation_matrix[(correlation_matrix >= 0.8) & (correlation_matrix != 1)]\n",
    "\n",
    "# 리스트로 변환\n",
    "strong_correlations_pairs = strong_correlations.stack().reset_index()\n",
    "strong_correlations_pairs.columns = ['Variable 1', 'Variable 2', 'Correlation']\n",
    "\n",
    "# 결과 출력\n",
    "strong_correlations_pairs = strong_correlations_pairs[strong_correlations_pairs['Correlation'] >= 0.7]\n",
    "print(strong_correlations_pairs)"
   ]
  },
  {
   "cell_type": "code",
   "execution_count": 7,
   "id": "3ed6c9d2-6a19-4e9d-ae2d-146373dbfaf2",
   "metadata": {},
   "outputs": [],
   "source": [
    "# 열 삭제\n",
    "train_data.drop(\"PalletID\", axis=1, inplace=True)\n",
    "test_data.drop(\"PalletID\", axis=1, inplace=True)"
   ]
  },
  {
   "cell_type": "markdown",
   "id": "a79650e0-123b-4ccd-a752-b75097c923ff",
   "metadata": {},
   "source": [
    "-> 상관관계가 높은 이유: Production_Qty가 0이고 PalletID가 1인 경우는 없음 (Production_Qty가 1인 경우 안에 PalletID가 1인 경우가 모두 포함됨). 따라서 PalletID 컬럼을 삭제."
   ]
  },
  {
   "cell_type": "code",
   "execution_count": 8,
   "id": "42946bf1-cc16-415d-96d8-89c44396419d",
   "metadata": {},
   "outputs": [],
   "source": [
    "# 공통 변수 리스트\n",
    "same_variables_train = [\n",
    "    \"target\",\n",
    "    \"Equipment_same_num\",\n",
    "    \"Production_Qty\",\n",
    "    \"model_receip_encoded\",\n",
    "    \"workorder_receip_encoded\"\n",
    "]\n",
    "\n",
    "same_variables_test = [\n",
    "    \"Set ID\",\n",
    "    \"target\",\n",
    "    \"Equipment_same_num\",\n",
    "    \"Production_Qty\",\n",
    "    \"model_receip_encoded\",\n",
    "    \"workorder_receip_encoded\"\n",
    "]"
   ]
  },
  {
   "cell_type": "markdown",
   "id": "659cd03e-0d6a-4279-b922-f4d6485c1a3d",
   "metadata": {},
   "source": [
    "### dam"
   ]
  },
  {
   "cell_type": "code",
   "execution_count": 9,
   "id": "8a99c396-f098-4c9b-ba5a-25d052dba882",
   "metadata": {},
   "outputs": [
    {
     "name": "stdout",
     "output_type": "stream",
     "text": [
      "<Dam 공정 관련 변수>\n",
      "CURE SPEED Collect Result_Dam\n",
      "DISCHARGED SPEED OF RESIN Collect Result_Dam\n",
      "Head Clean Position Z Collect Result_Dam\n",
      "Head Purge Position Z Collect Result_Dam\n",
      "Head Zero Position Y Collect Result_Dam\n",
      "head_normal_vector_stage1_Dam\n",
      "head_normal_vector_stage2_Dam\n",
      "head_normal_vector_stage3_Dam\n",
      "cure_end_position_XZΘ_Dam\n",
      "cure_start_position_XΘ_Dam\n",
      "total_circle_distance_speed_Dam\n",
      "total_line_distance_speed_Dam\n",
      "volume_time_multip_avg_Dam\n",
      "average_thickness_Dam\n",
      "time_ratio_Dam\n"
     ]
    }
   ],
   "source": [
    "# 열 이름 필터링\n",
    "Process_Desc_col = train_data.filter(like='_Dam').columns\n",
    "\n",
    "# 필터링된 열 이름 출력\n",
    "print(\"<Dam 공정 관련 변수>\")\n",
    "for col in Process_Desc_col:\n",
    "    print(col)"
   ]
  },
  {
   "cell_type": "code",
   "execution_count": 10,
   "id": "8389f3d8-9788-49a6-92ad-d35999a348ad",
   "metadata": {},
   "outputs": [],
   "source": [
    "variables = [\n",
    "    \"CURE SPEED Collect Result_Dam\",\n",
    "    \"DISCHARGED SPEED OF RESIN Collect Result_Dam\",\n",
    "    \"Head Clean Position Z Collect Result_Dam\",\n",
    "    \"Head Purge Position Z Collect Result_Dam\",\n",
    "    \"Head Zero Position Y Collect Result_Dam\",\n",
    "    #\"head_normal_vector_stage1_Dam\",\n",
    "    #\"head_normal_vector_stage2_Dam\",\n",
    "    #\"head_normal_vector_stage3_Dam\",\n",
    "    \"cure_end_position_XZΘ_Dam\",\n",
    "    \"cure_start_position_XΘ_Dam\",\n",
    "    \"total_circle_distance_speed_Dam\",\n",
    "    \"total_line_distance_speed_Dam\",\n",
    "    \"volume_time_multip_avg_Dam\",\n",
    "    \"average_thickness_Dam\"\n",
    "]\n",
    "\n",
    "# 변수들로만 이루어진 DataFrame 생성\n",
    "filtered_data = train_data[variables]"
   ]
  },
  {
   "cell_type": "code",
   "execution_count": 11,
   "id": "2a1668f3-953f-44c2-b0b8-92a0d156c5f9",
   "metadata": {},
   "outputs": [
    {
     "name": "stdout",
     "output_type": "stream",
     "text": [
      "Empty DataFrame\n",
      "Columns: [Variable 1, Variable 2, Correlation]\n",
      "Index: []\n"
     ]
    }
   ],
   "source": [
    "# 상관계수 행렬 계산\n",
    "correlation_matrix = filtered_data.corr()\n",
    "\n",
    "# 자기자신을 제외하고 특정 값 이상인 조합 찾기\n",
    "strong_correlations = correlation_matrix[(correlation_matrix >= 0.8) & (correlation_matrix != 1)]\n",
    "\n",
    "# 리스트로 변환\n",
    "strong_correlations_pairs = strong_correlations.stack().reset_index()\n",
    "strong_correlations_pairs.columns = ['Variable 1', 'Variable 2', 'Correlation']\n",
    "\n",
    "# 결과 출력\n",
    "strong_correlations_pairs = strong_correlations_pairs[strong_correlations_pairs['Correlation'] >= 0.7]\n",
    "print(strong_correlations_pairs)"
   ]
  },
  {
   "cell_type": "code",
   "execution_count": 12,
   "id": "0807fbd4-a1c0-40c3-9525-a2053b287f38",
   "metadata": {},
   "outputs": [],
   "source": [
    "# 드랍할 열 목록\n",
    "columns_to_drop = [\n",
    "    'head_normal_vector_stage1_Dam',\n",
    "    'head_normal_vector_stage2_Dam',\n",
    "    'head_normal_vector_stage3_Dam',\n",
    "]\n",
    "\n",
    "# 열 삭제\n",
    "train_data.drop(columns=columns_to_drop, inplace=True, errors='ignore')\n",
    "test_data.drop(columns=columns_to_drop, inplace=True, errors='ignore')"
   ]
  },
  {
   "cell_type": "code",
   "execution_count": 13,
   "id": "9ea9c341-0690-4138-9b36-9e501e6083df",
   "metadata": {},
   "outputs": [],
   "source": [
    "### dam 데이터셋\n",
    "# 열 이름 필터링 후 공통 변수와 결합\n",
    "Process_Desc_col = train_data.filter(like='_Dam').columns\n",
    "\n",
    "# train\n",
    "final_columns_train = list(Process_Desc_col) + same_variables_train\n",
    "df_train_dam = train_data[final_columns_train]\n",
    "\n",
    "# test \n",
    "final_columns_test = list(Process_Desc_col) + same_variables_test\n",
    "df_test_dam = test_data[final_columns_test]"
   ]
  },
  {
   "cell_type": "code",
   "execution_count": 14,
   "id": "af853194-5289-4dac-a325-5111ae3a11d5",
   "metadata": {},
   "outputs": [
    {
     "data": {
      "text/plain": [
       "Index(['CURE SPEED Collect Result_Dam',\n",
       "       'DISCHARGED SPEED OF RESIN Collect Result_Dam',\n",
       "       'Head Clean Position Z Collect Result_Dam',\n",
       "       'Head Purge Position Z Collect Result_Dam',\n",
       "       'Head Zero Position Y Collect Result_Dam', 'cure_end_position_XZΘ_Dam',\n",
       "       'cure_start_position_XΘ_Dam', 'total_circle_distance_speed_Dam',\n",
       "       'total_line_distance_speed_Dam', 'volume_time_multip_avg_Dam',\n",
       "       'average_thickness_Dam', 'time_ratio_Dam', 'target',\n",
       "       'Equipment_same_num', 'Production_Qty', 'model_receip_encoded',\n",
       "       'workorder_receip_encoded'],\n",
       "      dtype='object')"
      ]
     },
     "execution_count": 14,
     "metadata": {},
     "output_type": "execute_result"
    }
   ],
   "source": [
    "df_train_dam.columns"
   ]
  },
  {
   "cell_type": "code",
   "execution_count": 15,
   "id": "f166f71e-038d-4673-8e4b-8f7e18277f23",
   "metadata": {},
   "outputs": [
    {
     "data": {
      "text/plain": [
       "Index(['CURE SPEED Collect Result_Dam',\n",
       "       'DISCHARGED SPEED OF RESIN Collect Result_Dam',\n",
       "       'Head Clean Position Z Collect Result_Dam',\n",
       "       'Head Purge Position Z Collect Result_Dam',\n",
       "       'Head Zero Position Y Collect Result_Dam', 'cure_end_position_XZΘ_Dam',\n",
       "       'cure_start_position_XΘ_Dam', 'total_circle_distance_speed_Dam',\n",
       "       'total_line_distance_speed_Dam', 'volume_time_multip_avg_Dam',\n",
       "       'average_thickness_Dam', 'time_ratio_Dam', 'Set ID', 'target',\n",
       "       'Equipment_same_num', 'Production_Qty', 'model_receip_encoded',\n",
       "       'workorder_receip_encoded'],\n",
       "      dtype='object')"
      ]
     },
     "execution_count": 15,
     "metadata": {},
     "output_type": "execute_result"
    }
   ],
   "source": [
    "df_test_dam.columns"
   ]
  },
  {
   "cell_type": "markdown",
   "id": "7d0a2153-1100-4931-8179-4a1160a23d94",
   "metadata": {},
   "source": [
    "### fill1"
   ]
  },
  {
   "cell_type": "code",
   "execution_count": 16,
   "id": "143b7134-5ddd-4e17-8498-93a4d0b121d2",
   "metadata": {},
   "outputs": [
    {
     "name": "stdout",
     "output_type": "stream",
     "text": [
      "<Fill1 공정 관련 변수>\n",
      "DISCHARGED SPEED OF RESIN Collect Result_Fill1\n",
      "Head Purge Position Z Collect Result_Fill1\n",
      "head_normal_vector_stage1_Fill1\n",
      "head_normal_vector_stage2_Fill1\n",
      "head_normal_vector_stage3_Fill1\n",
      "volume_time_multip_avg_Fill1\n",
      "time_ratio_Fill1\n"
     ]
    }
   ],
   "source": [
    "# 열 이름 필터링\n",
    "Process_Desc_col = train_data.filter(like='_Fill1').columns\n",
    "\n",
    "# 필터링된 열 이름 출력\n",
    "print(\"<Fill1 공정 관련 변수>\")\n",
    "for col in Process_Desc_col:\n",
    "    print(col)"
   ]
  },
  {
   "cell_type": "code",
   "execution_count": 17,
   "id": "3c950efc-4251-4c07-ad0d-8bc92ec922ff",
   "metadata": {},
   "outputs": [],
   "source": [
    "variables = [\n",
    "    \"DISCHARGED SPEED OF RESIN Collect Result_Fill1\",\n",
    "    \"Head Purge Position Z Collect Result_Fill1\",\n",
    "    \"head_normal_vector_stage1_Fill1\",\n",
    "    #\"head_normal_vector_stage2_Fill1\",\n",
    "    #\"head_normal_vector_stage3_Fill1\",\n",
    "    \"volume_time_multip_avg_Fill1\",\n",
    "    \"time_ratio_Fill1\"\n",
    "]\n",
    "\n",
    "# 변수들로만 이루어진 DataFrame 생성\n",
    "filtered_data = train_data[variables]"
   ]
  },
  {
   "cell_type": "code",
   "execution_count": 18,
   "id": "2b5ed303-c878-47b3-a2cf-d06319643501",
   "metadata": {},
   "outputs": [
    {
     "name": "stdout",
     "output_type": "stream",
     "text": [
      "Empty DataFrame\n",
      "Columns: [Variable 1, Variable 2, Correlation]\n",
      "Index: []\n"
     ]
    }
   ],
   "source": [
    "# 상관계수 행렬 계산\n",
    "correlation_matrix = filtered_data.corr()\n",
    "\n",
    "# 자기자신을 제외하고 특정 값 이상인 조합 찾기\n",
    "strong_correlations = correlation_matrix[(correlation_matrix >= 0.8) & (correlation_matrix != 1)]\n",
    "\n",
    "# 리스트로 변환\n",
    "strong_correlations_pairs = strong_correlations.stack().reset_index()\n",
    "strong_correlations_pairs.columns = ['Variable 1', 'Variable 2', 'Correlation']\n",
    "\n",
    "# 결과 출력\n",
    "strong_correlations_pairs = strong_correlations_pairs[strong_correlations_pairs['Correlation'] >= 0.7]\n",
    "print(strong_correlations_pairs)"
   ]
  },
  {
   "cell_type": "code",
   "execution_count": 19,
   "id": "cd6c288c-887e-4922-90bf-0eb7b98a2857",
   "metadata": {},
   "outputs": [],
   "source": [
    "# 드랍할 열 목록\n",
    "columns_to_drop = [\n",
    "    \"head_normal_vector_stage2_Fill1\",\n",
    "    \"head_normal_vector_stage3_Fill1\"\n",
    "]\n",
    "\n",
    "# 열 삭제\n",
    "train_data.drop(columns=columns_to_drop, inplace=True, errors='ignore')\n",
    "test_data.drop(columns=columns_to_drop, inplace=True, errors='ignore')"
   ]
  },
  {
   "cell_type": "code",
   "execution_count": 20,
   "id": "9f9fb072-b040-417c-902c-632823b7c345",
   "metadata": {},
   "outputs": [],
   "source": [
    "### fill1 데이터셋\n",
    "# 열 이름 필터링 후 공통 변수와 결합\n",
    "Process_Desc_col = train_data.filter(like='_Fill1').columns\n",
    "\n",
    "# train\n",
    "final_columns_train = list(Process_Desc_col) + same_variables_train\n",
    "df_train_fill1 = train_data[final_columns_train]\n",
    "\n",
    "# test \n",
    "final_columns_test = list(Process_Desc_col) + same_variables_test\n",
    "df_test_fill1 = test_data[final_columns_test]"
   ]
  },
  {
   "cell_type": "code",
   "execution_count": 21,
   "id": "e08a1cd8-b67b-437c-b490-dcdba40a0822",
   "metadata": {},
   "outputs": [
    {
     "data": {
      "text/plain": [
       "Index(['DISCHARGED SPEED OF RESIN Collect Result_Fill1',\n",
       "       'Head Purge Position Z Collect Result_Fill1',\n",
       "       'head_normal_vector_stage1_Fill1', 'volume_time_multip_avg_Fill1',\n",
       "       'time_ratio_Fill1', 'target', 'Equipment_same_num', 'Production_Qty',\n",
       "       'model_receip_encoded', 'workorder_receip_encoded'],\n",
       "      dtype='object')"
      ]
     },
     "execution_count": 21,
     "metadata": {},
     "output_type": "execute_result"
    }
   ],
   "source": [
    "df_train_fill1.columns"
   ]
  },
  {
   "cell_type": "code",
   "execution_count": 22,
   "id": "62004cac-e496-4063-995c-1a1781b7c5df",
   "metadata": {},
   "outputs": [
    {
     "data": {
      "text/plain": [
       "Index(['DISCHARGED SPEED OF RESIN Collect Result_Fill1',\n",
       "       'Head Purge Position Z Collect Result_Fill1',\n",
       "       'head_normal_vector_stage1_Fill1', 'volume_time_multip_avg_Fill1',\n",
       "       'time_ratio_Fill1', 'Set ID', 'target', 'Equipment_same_num',\n",
       "       'Production_Qty', 'model_receip_encoded', 'workorder_receip_encoded'],\n",
       "      dtype='object')"
      ]
     },
     "execution_count": 22,
     "metadata": {},
     "output_type": "execute_result"
    }
   ],
   "source": [
    "df_test_fill1.columns"
   ]
  },
  {
   "cell_type": "markdown",
   "id": "8cd1ea8c-ee81-4d12-b2ca-929bb7f2e557",
   "metadata": {},
   "source": [
    "### fill2"
   ]
  },
  {
   "cell_type": "code",
   "execution_count": 23,
   "id": "e5672c1b-3ac4-46de-bbd3-62dd7b7952f0",
   "metadata": {},
   "outputs": [
    {
     "name": "stdout",
     "output_type": "stream",
     "text": [
      "<Fill2 공정 관련 변수>\n",
      "CURE SPEED Collect Result_Fill2\n",
      "CURE STANDBY POSITION Z Collect Result_Fill2\n",
      "Head Purge Position Z Collect Result_Fill2\n",
      "head_normal_vector_stage1_Fill2\n",
      "head_normal_vector_stage2_Fill2\n",
      "head_normal_vector_stage3_Fill2\n",
      "cure_end_position_XZ_Fill2\n",
      "cure_start_position_XZ_Fill2\n",
      "time_ratio_Fill2\n"
     ]
    }
   ],
   "source": [
    "# 열 이름 필터링\n",
    "Process_Desc_col = train_data.filter(like='_Fill2').columns\n",
    "\n",
    "# 필터링된 열 이름 출력\n",
    "print(\"<Fill2 공정 관련 변수>\")\n",
    "for col in Process_Desc_col:\n",
    "    print(col)"
   ]
  },
  {
   "cell_type": "code",
   "execution_count": 24,
   "id": "0352a067-c024-4cb3-a400-72caad5c1d29",
   "metadata": {},
   "outputs": [],
   "source": [
    "variables = [\n",
    "    \"CURE SPEED Collect Result_Fill2\",\n",
    "    \"CURE STANDBY POSITION Z Collect Result_Fill2\",\n",
    "    \"Head Purge Position Z Collect Result_Fill2\",\n",
    "    \"head_normal_vector_stage1_Fill2\",\n",
    "    #\"head_normal_vector_stage2_Fill2\",\n",
    "    #\"head_normal_vector_stage3_Fill2\",\n",
    "    \"cure_end_position_XZ_Fill2\",\n",
    "    \"cure_start_position_XZ_Fill2\",\n",
    "    \"time_ratio_Fill2\"\n",
    "]\n",
    "\n",
    "# 변수들로만 이루어진 DataFrame 생성\n",
    "filtered_data = train_data[variables]"
   ]
  },
  {
   "cell_type": "code",
   "execution_count": 25,
   "id": "b1935f8d-97ce-42c5-aeec-0c75eef74f7f",
   "metadata": {},
   "outputs": [
    {
     "name": "stdout",
     "output_type": "stream",
     "text": [
      "                                     Variable 1  \\\n",
      "0  CURE STANDBY POSITION Z Collect Result_Fill2   \n",
      "1                  cure_start_position_XZ_Fill2   \n",
      "\n",
      "                                     Variable 2  Correlation  \n",
      "0                  cure_start_position_XZ_Fill2     0.846498  \n",
      "1  CURE STANDBY POSITION Z Collect Result_Fill2     0.846498  \n"
     ]
    }
   ],
   "source": [
    "# 상관계수 행렬 계산\n",
    "correlation_matrix = filtered_data.corr()\n",
    "\n",
    "# 자기자신을 제외하고 특정 값 이상인 조합 찾기\n",
    "strong_correlations = correlation_matrix[(correlation_matrix >= 0.8) & (correlation_matrix != 1)]\n",
    "\n",
    "# 리스트로 변환\n",
    "strong_correlations_pairs = strong_correlations.stack().reset_index()\n",
    "strong_correlations_pairs.columns = ['Variable 1', 'Variable 2', 'Correlation']\n",
    "\n",
    "# 결과 출력\n",
    "strong_correlations_pairs = strong_correlations_pairs[strong_correlations_pairs['Correlation'] >= 0.7]\n",
    "print(strong_correlations_pairs)"
   ]
  },
  {
   "cell_type": "code",
   "execution_count": 26,
   "id": "889ea870-1d9f-4f13-835d-7b4ce704b9fa",
   "metadata": {},
   "outputs": [],
   "source": [
    "# 드랍할 열 목록\n",
    "columns_to_drop = [\n",
    "    \"head_normal_vector_stage2_Fill2\",\n",
    "    \"head_normal_vector_stage3_Fill2\",\n",
    "]\n",
    "\n",
    "# 열 삭제\n",
    "train_data.drop(columns=columns_to_drop, inplace=True, errors='ignore')\n",
    "test_data.drop(columns=columns_to_drop, inplace=True, errors='ignore')"
   ]
  },
  {
   "cell_type": "code",
   "execution_count": 27,
   "id": "c381cd61-3bfc-4d6f-a91e-42235ca87673",
   "metadata": {},
   "outputs": [],
   "source": [
    "### fill2 데이터셋\n",
    "# 열 이름 필터링 후 공통 변수와 결합\n",
    "Process_Desc_col = train_data.filter(like='_Fill2').columns\n",
    "\n",
    "# train\n",
    "final_columns_train = list(Process_Desc_col) + same_variables_train\n",
    "df_train_fill2 = train_data[final_columns_train]\n",
    "\n",
    "# test \n",
    "final_columns_test = list(Process_Desc_col) + same_variables_test\n",
    "df_test_fill2 = test_data[final_columns_test]"
   ]
  },
  {
   "cell_type": "code",
   "execution_count": 28,
   "id": "2e3bdec6-671e-4f13-8baa-5e56bb308a07",
   "metadata": {},
   "outputs": [
    {
     "data": {
      "text/plain": [
       "Index(['CURE SPEED Collect Result_Fill2',\n",
       "       'CURE STANDBY POSITION Z Collect Result_Fill2',\n",
       "       'Head Purge Position Z Collect Result_Fill2',\n",
       "       'head_normal_vector_stage1_Fill2', 'cure_end_position_XZ_Fill2',\n",
       "       'cure_start_position_XZ_Fill2', 'time_ratio_Fill2', 'target',\n",
       "       'Equipment_same_num', 'Production_Qty', 'model_receip_encoded',\n",
       "       'workorder_receip_encoded'],\n",
       "      dtype='object')"
      ]
     },
     "execution_count": 28,
     "metadata": {},
     "output_type": "execute_result"
    }
   ],
   "source": [
    "df_train_fill2.columns"
   ]
  },
  {
   "cell_type": "code",
   "execution_count": 29,
   "id": "34d517df-6031-4fba-a2b1-f1857421bd1e",
   "metadata": {},
   "outputs": [
    {
     "data": {
      "text/plain": [
       "Index(['CURE SPEED Collect Result_Fill2',\n",
       "       'CURE STANDBY POSITION Z Collect Result_Fill2',\n",
       "       'Head Purge Position Z Collect Result_Fill2',\n",
       "       'head_normal_vector_stage1_Fill2', 'cure_end_position_XZ_Fill2',\n",
       "       'cure_start_position_XZ_Fill2', 'time_ratio_Fill2', 'Set ID', 'target',\n",
       "       'Equipment_same_num', 'Production_Qty', 'model_receip_encoded',\n",
       "       'workorder_receip_encoded'],\n",
       "      dtype='object')"
      ]
     },
     "execution_count": 29,
     "metadata": {},
     "output_type": "execute_result"
    }
   ],
   "source": [
    "df_test_fill2.columns"
   ]
  },
  {
   "cell_type": "markdown",
   "id": "ead06214-2d80-42f0-80c5-7d50603a0661",
   "metadata": {},
   "source": [
    "### autoclave"
   ]
  },
  {
   "cell_type": "code",
   "execution_count": 30,
   "id": "e9cfe87e-8dd8-4313-9e96-6f18af070e73",
   "metadata": {},
   "outputs": [
    {
     "name": "stdout",
     "output_type": "stream",
     "text": [
      "<AutoClave 공정 관련 변수>\n",
      "Chamber Temp. Collect Result_AutoClave\n",
      "avg_pressure_time_AutoClave\n",
      "time_ratio_AutoClave\n"
     ]
    }
   ],
   "source": [
    "# 열 이름 필터링\n",
    "Process_Desc_col = train_data.filter(like='_AutoClave').columns\n",
    "\n",
    "# 필터링된 열 이름 출력\n",
    "print(\"<AutoClave 공정 관련 변수>\")\n",
    "for col in Process_Desc_col:\n",
    "    print(col)"
   ]
  },
  {
   "cell_type": "code",
   "execution_count": 31,
   "id": "048b02af-95e3-4856-bb35-ad3d6bd6a66a",
   "metadata": {},
   "outputs": [],
   "source": [
    "variables = [\n",
    "    \"Chamber Temp. Collect Result_AutoClave\",\n",
    "    \"avg_pressure_time_AutoClave\",\n",
    "    \"time_ratio_AutoClave\",\n",
    "]\n",
    "\n",
    "# 변수들로만 이루어진 DataFrame 생성\n",
    "filtered_data = train_data[variables]"
   ]
  },
  {
   "cell_type": "code",
   "execution_count": 32,
   "id": "10b4f1ee-1c09-4d00-8b31-577072502351",
   "metadata": {},
   "outputs": [
    {
     "name": "stdout",
     "output_type": "stream",
     "text": [
      "Empty DataFrame\n",
      "Columns: [Variable 1, Variable 2, Correlation]\n",
      "Index: []\n"
     ]
    }
   ],
   "source": [
    "# 상관계수 행렬 계산\n",
    "correlation_matrix = filtered_data.corr()\n",
    "\n",
    "# 자기자신을 제외하고 특정 값 이상인 조합 찾기\n",
    "strong_correlations = correlation_matrix[(correlation_matrix >= 0.8) & (correlation_matrix != 1)]\n",
    "\n",
    "# 리스트로 변환\n",
    "strong_correlations_pairs = strong_correlations.stack().reset_index()\n",
    "strong_correlations_pairs.columns = ['Variable 1', 'Variable 2', 'Correlation']\n",
    "\n",
    "# 결과 출력\n",
    "strong_correlations_pairs = strong_correlations_pairs[strong_correlations_pairs['Correlation'] >= 0.7]\n",
    "print(strong_correlations_pairs)"
   ]
  },
  {
   "cell_type": "code",
   "execution_count": 33,
   "id": "4c0e1ba6-0cee-4389-938d-c8e0c2f66ab8",
   "metadata": {},
   "outputs": [],
   "source": [
    "### autoclave 데이터셋\n",
    "# 열 이름 필터링 후 공통 변수와 결합\n",
    "Process_Desc_col = train_data.filter(like='_AutoClave').columns\n",
    "\n",
    "# train\n",
    "final_columns_train = list(Process_Desc_col) + same_variables_train\n",
    "df_train_autoclave = train_data[final_columns_train]\n",
    "\n",
    "# test \n",
    "final_columns_test = list(Process_Desc_col) + same_variables_test\n",
    "df_test_autoclave = test_data[final_columns_test]"
   ]
  },
  {
   "cell_type": "code",
   "execution_count": 34,
   "id": "cb63feb0-4f7e-42c0-891e-634994918edc",
   "metadata": {},
   "outputs": [
    {
     "data": {
      "text/plain": [
       "Index(['Chamber Temp. Collect Result_AutoClave', 'avg_pressure_time_AutoClave',\n",
       "       'time_ratio_AutoClave', 'target', 'Equipment_same_num',\n",
       "       'Production_Qty', 'model_receip_encoded', 'workorder_receip_encoded'],\n",
       "      dtype='object')"
      ]
     },
     "execution_count": 34,
     "metadata": {},
     "output_type": "execute_result"
    }
   ],
   "source": [
    "df_train_autoclave.columns"
   ]
  },
  {
   "cell_type": "code",
   "execution_count": 35,
   "id": "134dd62a-00b6-4cf7-84e7-a868669198d7",
   "metadata": {},
   "outputs": [
    {
     "data": {
      "text/plain": [
       "Index(['Chamber Temp. Collect Result_AutoClave', 'avg_pressure_time_AutoClave',\n",
       "       'time_ratio_AutoClave', 'Set ID', 'target', 'Equipment_same_num',\n",
       "       'Production_Qty', 'model_receip_encoded', 'workorder_receip_encoded'],\n",
       "      dtype='object')"
      ]
     },
     "execution_count": 35,
     "metadata": {},
     "output_type": "execute_result"
    }
   ],
   "source": [
    "df_test_autoclave.columns"
   ]
  },
  {
   "cell_type": "markdown",
   "id": "21c6ee9d-1fd4-4b77-82b3-f7541cced071",
   "metadata": {},
   "source": [
    "### modeling"
   ]
  },
  {
   "cell_type": "code",
   "execution_count": 36,
   "id": "75bed72f-7e7a-4bc8-9423-a557021040de",
   "metadata": {},
   "outputs": [],
   "source": [
    "### 모델 정의\n",
    "class_weights = {'Normal': 1, 'AbNormal': 5}  # 클래스의 비율에 따라 가중치 설정\n",
    "\n",
    "model_Dam = RandomForestClassifier(n_estimators=900, class_weight=class_weights, random_state=42)\n",
    "model_AutoClave = RandomForestClassifier(n_estimators=900, class_weight=class_weights, random_state=42)\n",
    "model_Fill1 = RandomForestClassifier(n_estimators=900, class_weight=class_weights, random_state=42)\n",
    "model_Fill2 = RandomForestClassifier(n_estimators=900, class_weight=class_weights, random_state=42)"
   ]
  },
  {
   "cell_type": "code",
   "execution_count": 37,
   "id": "0ee0f5ef-d40e-453e-a69a-e85e0b16f3f8",
   "metadata": {},
   "outputs": [],
   "source": [
    "# 제출 데이터 읽어오기\n",
    "df_sub = pd.read_csv(\"submission.csv\")"
   ]
  },
  {
   "cell_type": "markdown",
   "id": "ad57ce6f-c6d3-457b-9231-2051739316a8",
   "metadata": {},
   "source": [
    "##### dam"
   ]
  },
  {
   "cell_type": "code",
   "execution_count": 38,
   "id": "339c22de-0e2c-479a-8ff0-658fb155194e",
   "metadata": {},
   "outputs": [
    {
     "data": {
      "text/html": [
       "<style>#sk-container-id-1 {color: black;background-color: white;}#sk-container-id-1 pre{padding: 0;}#sk-container-id-1 div.sk-toggleable {background-color: white;}#sk-container-id-1 label.sk-toggleable__label {cursor: pointer;display: block;width: 100%;margin-bottom: 0;padding: 0.3em;box-sizing: border-box;text-align: center;}#sk-container-id-1 label.sk-toggleable__label-arrow:before {content: \"▸\";float: left;margin-right: 0.25em;color: #696969;}#sk-container-id-1 label.sk-toggleable__label-arrow:hover:before {color: black;}#sk-container-id-1 div.sk-estimator:hover label.sk-toggleable__label-arrow:before {color: black;}#sk-container-id-1 div.sk-toggleable__content {max-height: 0;max-width: 0;overflow: hidden;text-align: left;background-color: #f0f8ff;}#sk-container-id-1 div.sk-toggleable__content pre {margin: 0.2em;color: black;border-radius: 0.25em;background-color: #f0f8ff;}#sk-container-id-1 input.sk-toggleable__control:checked~div.sk-toggleable__content {max-height: 200px;max-width: 100%;overflow: auto;}#sk-container-id-1 input.sk-toggleable__control:checked~label.sk-toggleable__label-arrow:before {content: \"▾\";}#sk-container-id-1 div.sk-estimator input.sk-toggleable__control:checked~label.sk-toggleable__label {background-color: #d4ebff;}#sk-container-id-1 div.sk-label input.sk-toggleable__control:checked~label.sk-toggleable__label {background-color: #d4ebff;}#sk-container-id-1 input.sk-hidden--visually {border: 0;clip: rect(1px 1px 1px 1px);clip: rect(1px, 1px, 1px, 1px);height: 1px;margin: -1px;overflow: hidden;padding: 0;position: absolute;width: 1px;}#sk-container-id-1 div.sk-estimator {font-family: monospace;background-color: #f0f8ff;border: 1px dotted black;border-radius: 0.25em;box-sizing: border-box;margin-bottom: 0.5em;}#sk-container-id-1 div.sk-estimator:hover {background-color: #d4ebff;}#sk-container-id-1 div.sk-parallel-item::after {content: \"\";width: 100%;border-bottom: 1px solid gray;flex-grow: 1;}#sk-container-id-1 div.sk-label:hover label.sk-toggleable__label {background-color: #d4ebff;}#sk-container-id-1 div.sk-serial::before {content: \"\";position: absolute;border-left: 1px solid gray;box-sizing: border-box;top: 0;bottom: 0;left: 50%;z-index: 0;}#sk-container-id-1 div.sk-serial {display: flex;flex-direction: column;align-items: center;background-color: white;padding-right: 0.2em;padding-left: 0.2em;position: relative;}#sk-container-id-1 div.sk-item {position: relative;z-index: 1;}#sk-container-id-1 div.sk-parallel {display: flex;align-items: stretch;justify-content: center;background-color: white;position: relative;}#sk-container-id-1 div.sk-item::before, #sk-container-id-1 div.sk-parallel-item::before {content: \"\";position: absolute;border-left: 1px solid gray;box-sizing: border-box;top: 0;bottom: 0;left: 50%;z-index: -1;}#sk-container-id-1 div.sk-parallel-item {display: flex;flex-direction: column;z-index: 1;position: relative;background-color: white;}#sk-container-id-1 div.sk-parallel-item:first-child::after {align-self: flex-end;width: 50%;}#sk-container-id-1 div.sk-parallel-item:last-child::after {align-self: flex-start;width: 50%;}#sk-container-id-1 div.sk-parallel-item:only-child::after {width: 0;}#sk-container-id-1 div.sk-dashed-wrapped {border: 1px dashed gray;margin: 0 0.4em 0.5em 0.4em;box-sizing: border-box;padding-bottom: 0.4em;background-color: white;}#sk-container-id-1 div.sk-label label {font-family: monospace;font-weight: bold;display: inline-block;line-height: 1.2em;}#sk-container-id-1 div.sk-label-container {text-align: center;}#sk-container-id-1 div.sk-container {/* jupyter's `normalize.less` sets `[hidden] { display: none; }` but bootstrap.min.css set `[hidden] { display: none !important; }` so we also need the `!important` here to be able to override the default hidden behavior on the sphinx rendered scikit-learn.org. See: https://github.com/scikit-learn/scikit-learn/issues/21755 */display: inline-block !important;position: relative;}#sk-container-id-1 div.sk-text-repr-fallback {display: none;}</style><div id=\"sk-container-id-1\" class=\"sk-top-container\"><div class=\"sk-text-repr-fallback\"><pre>RandomForestClassifier(class_weight={&#x27;AbNormal&#x27;: 5, &#x27;Normal&#x27;: 1},\n",
       "                       n_estimators=900, random_state=42)</pre><b>In a Jupyter environment, please rerun this cell to show the HTML representation or trust the notebook. <br />On GitHub, the HTML representation is unable to render, please try loading this page with nbviewer.org.</b></div><div class=\"sk-container\" hidden><div class=\"sk-item\"><div class=\"sk-estimator sk-toggleable\"><input class=\"sk-toggleable__control sk-hidden--visually\" id=\"sk-estimator-id-1\" type=\"checkbox\" checked><label for=\"sk-estimator-id-1\" class=\"sk-toggleable__label sk-toggleable__label-arrow\">RandomForestClassifier</label><div class=\"sk-toggleable__content\"><pre>RandomForestClassifier(class_weight={&#x27;AbNormal&#x27;: 5, &#x27;Normal&#x27;: 1},\n",
       "                       n_estimators=900, random_state=42)</pre></div></div></div></div></div>"
      ],
      "text/plain": [
       "RandomForestClassifier(class_weight={'AbNormal': 5, 'Normal': 1},\n",
       "                       n_estimators=900, random_state=42)"
      ]
     },
     "execution_count": 38,
     "metadata": {},
     "output_type": "execute_result"
    }
   ],
   "source": [
    "### 모델 학습\n",
    "# 타깃값 분리\n",
    "y_train = df_train_dam['target']\n",
    "x_train = df_train_dam.drop(columns='target')\n",
    "\n",
    "# 랜덤 포레스트 학습\n",
    "model_Dam.fit(x_train, y_train)"
   ]
  },
  {
   "cell_type": "code",
   "execution_count": 39,
   "id": "4f8f7a28-2217-4044-9564-c825f6ea94a8",
   "metadata": {},
   "outputs": [
    {
     "data": {
      "text/plain": [
       "array(['Normal', 'Normal', 'Normal', ..., 'Normal', 'Normal', 'Normal'],\n",
       "      dtype=object)"
      ]
     },
     "execution_count": 39,
     "metadata": {},
     "output_type": "execute_result"
    }
   ],
   "source": [
    "### 모델 예측\n",
    "# 'Set ID'와 'target' 컬럼 분리\n",
    "set_id = df_test_dam['Set ID']  \n",
    "target = df_test_dam['target']   \n",
    "\n",
    "x_test = df_test_dam.drop(columns=['Set ID', 'target'])\n",
    "\n",
    "test_pred = model_Dam.predict(x_test)\n",
    "test_pred"
   ]
  },
  {
   "cell_type": "code",
   "execution_count": 40,
   "id": "ca47e058-0033-4317-be05-9c88e6e205c8",
   "metadata": {},
   "outputs": [],
   "source": [
    "### 예측 컬럼 생성\n",
    "df_sub[\"target_dam\"] = test_pred"
   ]
  },
  {
   "cell_type": "code",
   "execution_count": 41,
   "id": "ecdac00a-2f0d-4cf5-9221-49c35043772a",
   "metadata": {},
   "outputs": [
    {
     "data": {
      "text/plain": [
       "target_dam\n",
       "Normal      16973\n",
       "AbNormal      388\n",
       "Name: count, dtype: int64"
      ]
     },
     "execution_count": 41,
     "metadata": {},
     "output_type": "execute_result"
    }
   ],
   "source": [
    "df_sub[\"target_dam\"].value_counts()"
   ]
  },
  {
   "cell_type": "markdown",
   "id": "ce0591c1-4617-4052-841c-d107a2a41664",
   "metadata": {},
   "source": [
    "##### fill1"
   ]
  },
  {
   "cell_type": "code",
   "execution_count": 42,
   "id": "e367b0a3-a8ad-4f4c-bfcd-ca325a3e4e15",
   "metadata": {},
   "outputs": [
    {
     "data": {
      "text/html": [
       "<style>#sk-container-id-2 {color: black;background-color: white;}#sk-container-id-2 pre{padding: 0;}#sk-container-id-2 div.sk-toggleable {background-color: white;}#sk-container-id-2 label.sk-toggleable__label {cursor: pointer;display: block;width: 100%;margin-bottom: 0;padding: 0.3em;box-sizing: border-box;text-align: center;}#sk-container-id-2 label.sk-toggleable__label-arrow:before {content: \"▸\";float: left;margin-right: 0.25em;color: #696969;}#sk-container-id-2 label.sk-toggleable__label-arrow:hover:before {color: black;}#sk-container-id-2 div.sk-estimator:hover label.sk-toggleable__label-arrow:before {color: black;}#sk-container-id-2 div.sk-toggleable__content {max-height: 0;max-width: 0;overflow: hidden;text-align: left;background-color: #f0f8ff;}#sk-container-id-2 div.sk-toggleable__content pre {margin: 0.2em;color: black;border-radius: 0.25em;background-color: #f0f8ff;}#sk-container-id-2 input.sk-toggleable__control:checked~div.sk-toggleable__content {max-height: 200px;max-width: 100%;overflow: auto;}#sk-container-id-2 input.sk-toggleable__control:checked~label.sk-toggleable__label-arrow:before {content: \"▾\";}#sk-container-id-2 div.sk-estimator input.sk-toggleable__control:checked~label.sk-toggleable__label {background-color: #d4ebff;}#sk-container-id-2 div.sk-label input.sk-toggleable__control:checked~label.sk-toggleable__label {background-color: #d4ebff;}#sk-container-id-2 input.sk-hidden--visually {border: 0;clip: rect(1px 1px 1px 1px);clip: rect(1px, 1px, 1px, 1px);height: 1px;margin: -1px;overflow: hidden;padding: 0;position: absolute;width: 1px;}#sk-container-id-2 div.sk-estimator {font-family: monospace;background-color: #f0f8ff;border: 1px dotted black;border-radius: 0.25em;box-sizing: border-box;margin-bottom: 0.5em;}#sk-container-id-2 div.sk-estimator:hover {background-color: #d4ebff;}#sk-container-id-2 div.sk-parallel-item::after {content: \"\";width: 100%;border-bottom: 1px solid gray;flex-grow: 1;}#sk-container-id-2 div.sk-label:hover label.sk-toggleable__label {background-color: #d4ebff;}#sk-container-id-2 div.sk-serial::before {content: \"\";position: absolute;border-left: 1px solid gray;box-sizing: border-box;top: 0;bottom: 0;left: 50%;z-index: 0;}#sk-container-id-2 div.sk-serial {display: flex;flex-direction: column;align-items: center;background-color: white;padding-right: 0.2em;padding-left: 0.2em;position: relative;}#sk-container-id-2 div.sk-item {position: relative;z-index: 1;}#sk-container-id-2 div.sk-parallel {display: flex;align-items: stretch;justify-content: center;background-color: white;position: relative;}#sk-container-id-2 div.sk-item::before, #sk-container-id-2 div.sk-parallel-item::before {content: \"\";position: absolute;border-left: 1px solid gray;box-sizing: border-box;top: 0;bottom: 0;left: 50%;z-index: -1;}#sk-container-id-2 div.sk-parallel-item {display: flex;flex-direction: column;z-index: 1;position: relative;background-color: white;}#sk-container-id-2 div.sk-parallel-item:first-child::after {align-self: flex-end;width: 50%;}#sk-container-id-2 div.sk-parallel-item:last-child::after {align-self: flex-start;width: 50%;}#sk-container-id-2 div.sk-parallel-item:only-child::after {width: 0;}#sk-container-id-2 div.sk-dashed-wrapped {border: 1px dashed gray;margin: 0 0.4em 0.5em 0.4em;box-sizing: border-box;padding-bottom: 0.4em;background-color: white;}#sk-container-id-2 div.sk-label label {font-family: monospace;font-weight: bold;display: inline-block;line-height: 1.2em;}#sk-container-id-2 div.sk-label-container {text-align: center;}#sk-container-id-2 div.sk-container {/* jupyter's `normalize.less` sets `[hidden] { display: none; }` but bootstrap.min.css set `[hidden] { display: none !important; }` so we also need the `!important` here to be able to override the default hidden behavior on the sphinx rendered scikit-learn.org. See: https://github.com/scikit-learn/scikit-learn/issues/21755 */display: inline-block !important;position: relative;}#sk-container-id-2 div.sk-text-repr-fallback {display: none;}</style><div id=\"sk-container-id-2\" class=\"sk-top-container\"><div class=\"sk-text-repr-fallback\"><pre>RandomForestClassifier(class_weight={&#x27;AbNormal&#x27;: 5, &#x27;Normal&#x27;: 1},\n",
       "                       n_estimators=900, random_state=42)</pre><b>In a Jupyter environment, please rerun this cell to show the HTML representation or trust the notebook. <br />On GitHub, the HTML representation is unable to render, please try loading this page with nbviewer.org.</b></div><div class=\"sk-container\" hidden><div class=\"sk-item\"><div class=\"sk-estimator sk-toggleable\"><input class=\"sk-toggleable__control sk-hidden--visually\" id=\"sk-estimator-id-2\" type=\"checkbox\" checked><label for=\"sk-estimator-id-2\" class=\"sk-toggleable__label sk-toggleable__label-arrow\">RandomForestClassifier</label><div class=\"sk-toggleable__content\"><pre>RandomForestClassifier(class_weight={&#x27;AbNormal&#x27;: 5, &#x27;Normal&#x27;: 1},\n",
       "                       n_estimators=900, random_state=42)</pre></div></div></div></div></div>"
      ],
      "text/plain": [
       "RandomForestClassifier(class_weight={'AbNormal': 5, 'Normal': 1},\n",
       "                       n_estimators=900, random_state=42)"
      ]
     },
     "execution_count": 42,
     "metadata": {},
     "output_type": "execute_result"
    }
   ],
   "source": [
    "### 모델 학습\n",
    "# 타깃값 분리\n",
    "y_train = df_train_fill1['target']\n",
    "x_train = df_train_fill1.drop(columns='target')\n",
    "\n",
    "# 랜덤 포레스트 학습\n",
    "model_Fill1.fit(x_train, y_train)"
   ]
  },
  {
   "cell_type": "code",
   "execution_count": 43,
   "id": "d1c400a7-c598-4257-9de7-a82cb9d10bdb",
   "metadata": {},
   "outputs": [
    {
     "data": {
      "text/plain": [
       "array(['Normal', 'Normal', 'Normal', ..., 'Normal', 'Normal', 'Normal'],\n",
       "      dtype=object)"
      ]
     },
     "execution_count": 43,
     "metadata": {},
     "output_type": "execute_result"
    }
   ],
   "source": [
    "### 모델 예측\n",
    "# 'Set ID'와 'target' 컬럼 분리\n",
    "set_id = df_test_fill1['Set ID']  \n",
    "target = df_test_fill1['target']   \n",
    "\n",
    "x_test = df_test_fill1.drop(columns=['Set ID', 'target'])\n",
    "\n",
    "test_pred = model_Fill1.predict(x_test)\n",
    "test_pred"
   ]
  },
  {
   "cell_type": "code",
   "execution_count": 44,
   "id": "c9cf8584-edcc-4392-9f6a-2e2b926cd9ed",
   "metadata": {},
   "outputs": [],
   "source": [
    "### 예측 컬럼 생성\n",
    "df_sub[\"target_fill1\"] = test_pred"
   ]
  },
  {
   "cell_type": "code",
   "execution_count": 45,
   "id": "a09ed3f0-05ff-414d-9fdb-94daf52aead4",
   "metadata": {},
   "outputs": [
    {
     "data": {
      "text/plain": [
       "target_fill1\n",
       "Normal      16863\n",
       "AbNormal      498\n",
       "Name: count, dtype: int64"
      ]
     },
     "execution_count": 45,
     "metadata": {},
     "output_type": "execute_result"
    }
   ],
   "source": [
    "df_sub[\"target_fill1\"].value_counts()"
   ]
  },
  {
   "cell_type": "markdown",
   "id": "9ba9c5e1-ae2a-494d-9399-76ba8763bcef",
   "metadata": {},
   "source": [
    "##### fill2"
   ]
  },
  {
   "cell_type": "code",
   "execution_count": 46,
   "id": "0dd32c41-b0c6-49aa-90aa-5665ce915382",
   "metadata": {},
   "outputs": [
    {
     "data": {
      "text/html": [
       "<style>#sk-container-id-3 {color: black;background-color: white;}#sk-container-id-3 pre{padding: 0;}#sk-container-id-3 div.sk-toggleable {background-color: white;}#sk-container-id-3 label.sk-toggleable__label {cursor: pointer;display: block;width: 100%;margin-bottom: 0;padding: 0.3em;box-sizing: border-box;text-align: center;}#sk-container-id-3 label.sk-toggleable__label-arrow:before {content: \"▸\";float: left;margin-right: 0.25em;color: #696969;}#sk-container-id-3 label.sk-toggleable__label-arrow:hover:before {color: black;}#sk-container-id-3 div.sk-estimator:hover label.sk-toggleable__label-arrow:before {color: black;}#sk-container-id-3 div.sk-toggleable__content {max-height: 0;max-width: 0;overflow: hidden;text-align: left;background-color: #f0f8ff;}#sk-container-id-3 div.sk-toggleable__content pre {margin: 0.2em;color: black;border-radius: 0.25em;background-color: #f0f8ff;}#sk-container-id-3 input.sk-toggleable__control:checked~div.sk-toggleable__content {max-height: 200px;max-width: 100%;overflow: auto;}#sk-container-id-3 input.sk-toggleable__control:checked~label.sk-toggleable__label-arrow:before {content: \"▾\";}#sk-container-id-3 div.sk-estimator input.sk-toggleable__control:checked~label.sk-toggleable__label {background-color: #d4ebff;}#sk-container-id-3 div.sk-label input.sk-toggleable__control:checked~label.sk-toggleable__label {background-color: #d4ebff;}#sk-container-id-3 input.sk-hidden--visually {border: 0;clip: rect(1px 1px 1px 1px);clip: rect(1px, 1px, 1px, 1px);height: 1px;margin: -1px;overflow: hidden;padding: 0;position: absolute;width: 1px;}#sk-container-id-3 div.sk-estimator {font-family: monospace;background-color: #f0f8ff;border: 1px dotted black;border-radius: 0.25em;box-sizing: border-box;margin-bottom: 0.5em;}#sk-container-id-3 div.sk-estimator:hover {background-color: #d4ebff;}#sk-container-id-3 div.sk-parallel-item::after {content: \"\";width: 100%;border-bottom: 1px solid gray;flex-grow: 1;}#sk-container-id-3 div.sk-label:hover label.sk-toggleable__label {background-color: #d4ebff;}#sk-container-id-3 div.sk-serial::before {content: \"\";position: absolute;border-left: 1px solid gray;box-sizing: border-box;top: 0;bottom: 0;left: 50%;z-index: 0;}#sk-container-id-3 div.sk-serial {display: flex;flex-direction: column;align-items: center;background-color: white;padding-right: 0.2em;padding-left: 0.2em;position: relative;}#sk-container-id-3 div.sk-item {position: relative;z-index: 1;}#sk-container-id-3 div.sk-parallel {display: flex;align-items: stretch;justify-content: center;background-color: white;position: relative;}#sk-container-id-3 div.sk-item::before, #sk-container-id-3 div.sk-parallel-item::before {content: \"\";position: absolute;border-left: 1px solid gray;box-sizing: border-box;top: 0;bottom: 0;left: 50%;z-index: -1;}#sk-container-id-3 div.sk-parallel-item {display: flex;flex-direction: column;z-index: 1;position: relative;background-color: white;}#sk-container-id-3 div.sk-parallel-item:first-child::after {align-self: flex-end;width: 50%;}#sk-container-id-3 div.sk-parallel-item:last-child::after {align-self: flex-start;width: 50%;}#sk-container-id-3 div.sk-parallel-item:only-child::after {width: 0;}#sk-container-id-3 div.sk-dashed-wrapped {border: 1px dashed gray;margin: 0 0.4em 0.5em 0.4em;box-sizing: border-box;padding-bottom: 0.4em;background-color: white;}#sk-container-id-3 div.sk-label label {font-family: monospace;font-weight: bold;display: inline-block;line-height: 1.2em;}#sk-container-id-3 div.sk-label-container {text-align: center;}#sk-container-id-3 div.sk-container {/* jupyter's `normalize.less` sets `[hidden] { display: none; }` but bootstrap.min.css set `[hidden] { display: none !important; }` so we also need the `!important` here to be able to override the default hidden behavior on the sphinx rendered scikit-learn.org. See: https://github.com/scikit-learn/scikit-learn/issues/21755 */display: inline-block !important;position: relative;}#sk-container-id-3 div.sk-text-repr-fallback {display: none;}</style><div id=\"sk-container-id-3\" class=\"sk-top-container\"><div class=\"sk-text-repr-fallback\"><pre>RandomForestClassifier(class_weight={&#x27;AbNormal&#x27;: 5, &#x27;Normal&#x27;: 1},\n",
       "                       n_estimators=900, random_state=42)</pre><b>In a Jupyter environment, please rerun this cell to show the HTML representation or trust the notebook. <br />On GitHub, the HTML representation is unable to render, please try loading this page with nbviewer.org.</b></div><div class=\"sk-container\" hidden><div class=\"sk-item\"><div class=\"sk-estimator sk-toggleable\"><input class=\"sk-toggleable__control sk-hidden--visually\" id=\"sk-estimator-id-3\" type=\"checkbox\" checked><label for=\"sk-estimator-id-3\" class=\"sk-toggleable__label sk-toggleable__label-arrow\">RandomForestClassifier</label><div class=\"sk-toggleable__content\"><pre>RandomForestClassifier(class_weight={&#x27;AbNormal&#x27;: 5, &#x27;Normal&#x27;: 1},\n",
       "                       n_estimators=900, random_state=42)</pre></div></div></div></div></div>"
      ],
      "text/plain": [
       "RandomForestClassifier(class_weight={'AbNormal': 5, 'Normal': 1},\n",
       "                       n_estimators=900, random_state=42)"
      ]
     },
     "execution_count": 46,
     "metadata": {},
     "output_type": "execute_result"
    }
   ],
   "source": [
    "### 모델 학습\n",
    "# 타깃값 분리\n",
    "y_train = df_train_fill2['target']\n",
    "x_train = df_train_fill2.drop(columns='target')\n",
    "\n",
    "# 랜덤 포레스트 학습\n",
    "model_Fill2.fit(x_train, y_train)"
   ]
  },
  {
   "cell_type": "code",
   "execution_count": 47,
   "id": "2b4e25a5-8561-45b3-aa3f-dd68bffae629",
   "metadata": {},
   "outputs": [
    {
     "data": {
      "text/plain": [
       "array(['Normal', 'Normal', 'Normal', ..., 'Normal', 'Normal', 'Normal'],\n",
       "      dtype=object)"
      ]
     },
     "execution_count": 47,
     "metadata": {},
     "output_type": "execute_result"
    }
   ],
   "source": [
    "### 모델 예측\n",
    "# 'Set ID'와 'target' 컬럼 분리\n",
    "set_id = df_test_fill2['Set ID']  \n",
    "target = df_test_fill2['target']   \n",
    "\n",
    "x_test = df_test_fill2.drop(columns=['Set ID', 'target'])\n",
    "\n",
    "test_pred = model_Fill2.predict(x_test)\n",
    "test_pred"
   ]
  },
  {
   "cell_type": "code",
   "execution_count": 48,
   "id": "5f4658f1-817a-4c57-9df9-6b6127c784ff",
   "metadata": {},
   "outputs": [],
   "source": [
    "### 예측 컬럼 생성\n",
    "df_sub[\"target_fill2\"] = test_pred"
   ]
  },
  {
   "cell_type": "code",
   "execution_count": 49,
   "id": "b6f8001e-5fc9-47b4-bec1-4fda3b7b20f6",
   "metadata": {},
   "outputs": [
    {
     "data": {
      "text/plain": [
       "target_fill2\n",
       "Normal      17155\n",
       "AbNormal      206\n",
       "Name: count, dtype: int64"
      ]
     },
     "execution_count": 49,
     "metadata": {},
     "output_type": "execute_result"
    }
   ],
   "source": [
    "df_sub[\"target_fill2\"].value_counts()"
   ]
  },
  {
   "cell_type": "markdown",
   "id": "9de0fd7b-5882-4c9f-bab2-961938f144e7",
   "metadata": {},
   "source": [
    "##### autoclave"
   ]
  },
  {
   "cell_type": "code",
   "execution_count": 50,
   "id": "f5ada3a2-619c-4451-9948-987de234de91",
   "metadata": {},
   "outputs": [
    {
     "data": {
      "text/html": [
       "<style>#sk-container-id-4 {color: black;background-color: white;}#sk-container-id-4 pre{padding: 0;}#sk-container-id-4 div.sk-toggleable {background-color: white;}#sk-container-id-4 label.sk-toggleable__label {cursor: pointer;display: block;width: 100%;margin-bottom: 0;padding: 0.3em;box-sizing: border-box;text-align: center;}#sk-container-id-4 label.sk-toggleable__label-arrow:before {content: \"▸\";float: left;margin-right: 0.25em;color: #696969;}#sk-container-id-4 label.sk-toggleable__label-arrow:hover:before {color: black;}#sk-container-id-4 div.sk-estimator:hover label.sk-toggleable__label-arrow:before {color: black;}#sk-container-id-4 div.sk-toggleable__content {max-height: 0;max-width: 0;overflow: hidden;text-align: left;background-color: #f0f8ff;}#sk-container-id-4 div.sk-toggleable__content pre {margin: 0.2em;color: black;border-radius: 0.25em;background-color: #f0f8ff;}#sk-container-id-4 input.sk-toggleable__control:checked~div.sk-toggleable__content {max-height: 200px;max-width: 100%;overflow: auto;}#sk-container-id-4 input.sk-toggleable__control:checked~label.sk-toggleable__label-arrow:before {content: \"▾\";}#sk-container-id-4 div.sk-estimator input.sk-toggleable__control:checked~label.sk-toggleable__label {background-color: #d4ebff;}#sk-container-id-4 div.sk-label input.sk-toggleable__control:checked~label.sk-toggleable__label {background-color: #d4ebff;}#sk-container-id-4 input.sk-hidden--visually {border: 0;clip: rect(1px 1px 1px 1px);clip: rect(1px, 1px, 1px, 1px);height: 1px;margin: -1px;overflow: hidden;padding: 0;position: absolute;width: 1px;}#sk-container-id-4 div.sk-estimator {font-family: monospace;background-color: #f0f8ff;border: 1px dotted black;border-radius: 0.25em;box-sizing: border-box;margin-bottom: 0.5em;}#sk-container-id-4 div.sk-estimator:hover {background-color: #d4ebff;}#sk-container-id-4 div.sk-parallel-item::after {content: \"\";width: 100%;border-bottom: 1px solid gray;flex-grow: 1;}#sk-container-id-4 div.sk-label:hover label.sk-toggleable__label {background-color: #d4ebff;}#sk-container-id-4 div.sk-serial::before {content: \"\";position: absolute;border-left: 1px solid gray;box-sizing: border-box;top: 0;bottom: 0;left: 50%;z-index: 0;}#sk-container-id-4 div.sk-serial {display: flex;flex-direction: column;align-items: center;background-color: white;padding-right: 0.2em;padding-left: 0.2em;position: relative;}#sk-container-id-4 div.sk-item {position: relative;z-index: 1;}#sk-container-id-4 div.sk-parallel {display: flex;align-items: stretch;justify-content: center;background-color: white;position: relative;}#sk-container-id-4 div.sk-item::before, #sk-container-id-4 div.sk-parallel-item::before {content: \"\";position: absolute;border-left: 1px solid gray;box-sizing: border-box;top: 0;bottom: 0;left: 50%;z-index: -1;}#sk-container-id-4 div.sk-parallel-item {display: flex;flex-direction: column;z-index: 1;position: relative;background-color: white;}#sk-container-id-4 div.sk-parallel-item:first-child::after {align-self: flex-end;width: 50%;}#sk-container-id-4 div.sk-parallel-item:last-child::after {align-self: flex-start;width: 50%;}#sk-container-id-4 div.sk-parallel-item:only-child::after {width: 0;}#sk-container-id-4 div.sk-dashed-wrapped {border: 1px dashed gray;margin: 0 0.4em 0.5em 0.4em;box-sizing: border-box;padding-bottom: 0.4em;background-color: white;}#sk-container-id-4 div.sk-label label {font-family: monospace;font-weight: bold;display: inline-block;line-height: 1.2em;}#sk-container-id-4 div.sk-label-container {text-align: center;}#sk-container-id-4 div.sk-container {/* jupyter's `normalize.less` sets `[hidden] { display: none; }` but bootstrap.min.css set `[hidden] { display: none !important; }` so we also need the `!important` here to be able to override the default hidden behavior on the sphinx rendered scikit-learn.org. See: https://github.com/scikit-learn/scikit-learn/issues/21755 */display: inline-block !important;position: relative;}#sk-container-id-4 div.sk-text-repr-fallback {display: none;}</style><div id=\"sk-container-id-4\" class=\"sk-top-container\"><div class=\"sk-text-repr-fallback\"><pre>RandomForestClassifier(class_weight={&#x27;AbNormal&#x27;: 5, &#x27;Normal&#x27;: 1},\n",
       "                       n_estimators=900, random_state=42)</pre><b>In a Jupyter environment, please rerun this cell to show the HTML representation or trust the notebook. <br />On GitHub, the HTML representation is unable to render, please try loading this page with nbviewer.org.</b></div><div class=\"sk-container\" hidden><div class=\"sk-item\"><div class=\"sk-estimator sk-toggleable\"><input class=\"sk-toggleable__control sk-hidden--visually\" id=\"sk-estimator-id-4\" type=\"checkbox\" checked><label for=\"sk-estimator-id-4\" class=\"sk-toggleable__label sk-toggleable__label-arrow\">RandomForestClassifier</label><div class=\"sk-toggleable__content\"><pre>RandomForestClassifier(class_weight={&#x27;AbNormal&#x27;: 5, &#x27;Normal&#x27;: 1},\n",
       "                       n_estimators=900, random_state=42)</pre></div></div></div></div></div>"
      ],
      "text/plain": [
       "RandomForestClassifier(class_weight={'AbNormal': 5, 'Normal': 1},\n",
       "                       n_estimators=900, random_state=42)"
      ]
     },
     "execution_count": 50,
     "metadata": {},
     "output_type": "execute_result"
    }
   ],
   "source": [
    "### 모델 학습\n",
    "# 타깃값 분리\n",
    "y_train = df_train_autoclave['target']\n",
    "x_train = df_train_autoclave.drop(columns='target')\n",
    "\n",
    "# 랜덤 포레스트 학습\n",
    "model_AutoClave.fit(x_train, y_train)"
   ]
  },
  {
   "cell_type": "code",
   "execution_count": 51,
   "id": "a3b86ad0-b45d-4e9d-a83e-05d708a6c045",
   "metadata": {},
   "outputs": [
    {
     "data": {
      "text/plain": [
       "array(['Normal', 'Normal', 'Normal', ..., 'Normal', 'Normal', 'Normal'],\n",
       "      dtype=object)"
      ]
     },
     "execution_count": 51,
     "metadata": {},
     "output_type": "execute_result"
    }
   ],
   "source": [
    "### 모델 예측\n",
    "# 'Set ID'와 'target' 컬럼 분리\n",
    "set_id = df_test_autoclave['Set ID']  \n",
    "target = df_test_autoclave['target']   \n",
    "\n",
    "x_test = df_test_autoclave.drop(columns=['Set ID', 'target'])\n",
    "\n",
    "test_pred = model_AutoClave.predict(x_test)\n",
    "test_pred"
   ]
  },
  {
   "cell_type": "code",
   "execution_count": 52,
   "id": "9012f481-c6d5-49e5-bf98-7c1f7e2d5f3d",
   "metadata": {},
   "outputs": [],
   "source": [
    "### 예측 컬럼 생성\n",
    "df_sub[\"target_autoclave\"] = test_pred"
   ]
  },
  {
   "cell_type": "code",
   "execution_count": 53,
   "id": "ad42b257-1f67-4309-a44b-5ce06b6c248a",
   "metadata": {},
   "outputs": [
    {
     "data": {
      "text/plain": [
       "target_autoclave\n",
       "Normal      16362\n",
       "AbNormal      999\n",
       "Name: count, dtype: int64"
      ]
     },
     "execution_count": 53,
     "metadata": {},
     "output_type": "execute_result"
    }
   ],
   "source": [
    "df_sub[\"target_autoclave\"].value_counts()"
   ]
  },
  {
   "cell_type": "markdown",
   "id": "4aece470-5220-4ca6-b2ab-226b92ce6315",
   "metadata": {},
   "source": [
    "##### result"
   ]
  },
  {
   "cell_type": "code",
   "execution_count": 56,
   "id": "6efe3ebe-7b24-4954-bd4b-8fe96ba3551a",
   "metadata": {},
   "outputs": [],
   "source": [
    "### 1개 이상의 공정에서 abnormal이면 abnormal 입력\n",
    "df_sub['target'] = df_sub[['target_dam', 'target_fill1', 'target_fill2', 'target_autoclave']].apply(lambda row: 'AbNormal' \n",
    "                                                                                                    if (row == 'AbNormal').sum() >= 1 \n",
    "                                                                                                    else 'Normal', axis=1)"
   ]
  },
  {
   "cell_type": "code",
   "execution_count": 57,
   "id": "a3ae0c4a-29f0-4762-95ee-691000ba56c6",
   "metadata": {},
   "outputs": [
    {
     "data": {
      "text/plain": [
       "target\n",
       "Normal      15688\n",
       "AbNormal     1673\n",
       "Name: count, dtype: int64"
      ]
     },
     "execution_count": 57,
     "metadata": {},
     "output_type": "execute_result"
    }
   ],
   "source": [
    "df_sub['target'].value_counts()"
   ]
  },
  {
   "cell_type": "code",
   "execution_count": 58,
   "id": "aa5f62a5-e7fc-40b1-bc37-9923d1906a5e",
   "metadata": {},
   "outputs": [],
   "source": [
    "# 삭제할 열 목록\n",
    "columns_to_drop = ['target_dam', 'target_fill1', 'target_fill2', 'target_autoclave']\n",
    "\n",
    "# 열 삭제\n",
    "df_sub.drop(columns=columns_to_drop, inplace=True, errors='ignore')\n",
    "df_sub.drop(columns=columns_to_drop, inplace=True, errors='ignore')"
   ]
  },
  {
   "cell_type": "code",
   "execution_count": 59,
   "id": "1993b1b9-e824-4e57-bff1-f899197acc88",
   "metadata": {},
   "outputs": [],
   "source": [
    "# 제출 파일 저장\n",
    "df_sub.to_csv(\"submission.csv\", index=False)"
   ]
  },
  {
   "cell_type": "code",
   "execution_count": 60,
   "id": "d51c93de-7704-46ee-b158-c76d5d53e349",
   "metadata": {},
   "outputs": [],
   "source": [
    "# 제출 파일 저장\n",
    "df_sub.to_csv(\"0814_rf_sep_submission2.csv\", index=False)"
   ]
  },
  {
   "cell_type": "code",
   "execution_count": 61,
   "id": "c78bb76e-6981-4875-8102-73316f996619",
   "metadata": {},
   "outputs": [
    {
     "data": {
      "text/plain": [
       "\"\\nsend files ['code.ipynb', 'submission.csv'] for grade...\\nwaiting result...\\ndone!\\n\\nScore: None\\nDuration: 1.858 seconds\\n=== Message ===\\n작성하신 답안 제출이 완료되었습니다.\\nPublic Score : 0.1708860759493671\\n\""
      ]
     },
     "execution_count": 61,
     "metadata": {},
     "output_type": "execute_result"
    }
   ],
   "source": [
    "### 2개 이상의 공정에서 abnormal이면 abnormal 입력\n",
    "'''\n",
    "send files ['code.ipynb', 'submission.csv'] for grade...\n",
    "waiting result...\n",
    "done!\n",
    "\n",
    "Score: None\n",
    "Duration: 1.858 seconds\n",
    "=== Message ===\n",
    "작성하신 답안 제출이 완료되었습니다.\n",
    "Public Score : 0.1708860759493671\n",
    "'''"
   ]
  },
  {
   "cell_type": "code",
   "execution_count": 62,
   "id": "c4d69d31-3c9b-40d9-a463-2b46cd4ca9c6",
   "metadata": {},
   "outputs": [
    {
     "data": {
      "text/plain": [
       "\"\\nsend files ['code.ipynb', 'submission.csv'] for grade...\\nwaiting result...\\ndone!\\n\\nScore: None\\nDuration: 2.077 seconds\\n=== Message ===\\n작성하신 답안 제출이 완료되었습니다.\\nPublic Score : 0.19726858877086492\\n\""
      ]
     },
     "execution_count": 62,
     "metadata": {},
     "output_type": "execute_result"
    }
   ],
   "source": [
    "### 1개 이상의 공정에서 abnormal이면 abnormal 입력\n",
    "'''\n",
    "send files ['code.ipynb', 'submission.csv'] for grade...\n",
    "waiting result...\n",
    "done!\n",
    "\n",
    "Score: None\n",
    "Duration: 2.077 seconds\n",
    "=== Message ===\n",
    "작성하신 답안 제출이 완료되었습니다.\n",
    "Public Score : 0.19726858877086492\n",
    "'''"
   ]
  },
  {
   "cell_type": "code",
   "execution_count": null,
   "id": "71477742-6cda-4b62-91bb-67ec9d5439c9",
   "metadata": {},
   "outputs": [],
   "source": []
  }
 ],
 "metadata": {
  "kernelspec": {
   "display_name": "Python 3 (ipykernel)",
   "language": "python",
   "name": "python3"
  },
  "language_info": {
   "codemirror_mode": {
    "name": "ipython",
    "version": 3
   },
   "file_extension": ".py",
   "mimetype": "text/x-python",
   "name": "python",
   "nbconvert_exporter": "python",
   "pygments_lexer": "ipython3",
   "version": "3.11.5"
  }
 },
 "nbformat": 4,
 "nbformat_minor": 5
}
